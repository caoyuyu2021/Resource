{
 "cells": [
  {
   "cell_type": "markdown",
   "id": "1b4e9c52",
   "metadata": {},
   "source": [
    "# conda介绍"
   ]
  },
  {
   "cell_type": "markdown",
   "id": "6a5e1323",
   "metadata": {},
   "source": [
    "conda是包及其依赖项和环境的管理工具。\n",
    "\n",
    "适用语言：Python, R, Ruby, Lua, Scala, Java, JavaScript, C/C++, FORTRAN。\n",
    "\n",
    "适用平台：Windows, macOS, Linux\n",
    "\n",
    "用途：\n",
    "\n",
    "快速安装、运行和升级包及其依赖项。\n",
    "在计算机中便捷地创建、保存、加载和切换环境。  \n",
    "\n",
    "conda为Python项目而创造，但可适用于上述的多种语言。\n",
    "\n",
    "conda包和环境管理器包含于Anaconda的所有版本当中。"
   ]
  },
  {
   "cell_type": "markdown",
   "id": "56aa0d7e",
   "metadata": {},
   "source": [
    "# 镜像源"
   ]
  },
  {
   "cell_type": "markdown",
   "id": "e86a2a81",
   "metadata": {},
   "source": [
    "## 恢复默认源"
   ]
  },
  {
   "cell_type": "raw",
   "id": "c897ea59",
   "metadata": {},
   "source": [
    "conda config --remove-key channels"
   ]
  },
  {
   "cell_type": "markdown",
   "id": "891867e6",
   "metadata": {},
   "source": [
    "## 显示镜像源"
   ]
  },
  {
   "cell_type": "raw",
   "id": "21a78664",
   "metadata": {},
   "source": [
    "conda config --show-sources"
   ]
  },
  {
   "cell_type": "markdown",
   "id": "985953a7",
   "metadata": {},
   "source": [
    "## 添加镜像源"
   ]
  },
  {
   "cell_type": "raw",
   "id": "85551f3b",
   "metadata": {},
   "source": [
    "# 清华源\n",
    "conda config --add channels https://pypi.tuna.tsinghua.edu.cn/simple\n",
    "\n",
    "# 阿里源\n",
    "conda config --add channels https://mirrors.aliyun.com/pypi/simple/\n",
    "\n",
    "# 豆瓣源\n",
    "conda config --add channels http://pypi.douban.com/simple/ \n",
    "\n",
    "# 中科大源\n",
    "conda config --add channels https://pypi.mirrors.ustc.edu.cn/simple/\n",
    "\n",
    "# 设置搜索时显示通道地址\n",
    "conda config --set show_channel_urls yes"
   ]
  },
  {
   "cell_type": "markdown",
   "id": "0f12bff4",
   "metadata": {},
   "source": [
    "## 删除镜像源"
   ]
  },
  {
   "cell_type": "raw",
   "id": "8820c637",
   "metadata": {},
   "source": [
    "conda config --remove channels https://pypi.mirrors.ustc.edu.cn/simple/"
   ]
  },
  {
   "cell_type": "markdown",
   "id": "8d4d4288",
   "metadata": {},
   "source": [
    "# conda环境"
   ]
  },
  {
   "cell_type": "markdown",
   "id": "66a20fb2",
   "metadata": {},
   "source": [
    "## 查看conda环境"
   ]
  },
  {
   "cell_type": "raw",
   "id": "db2af48b",
   "metadata": {},
   "source": [
    "conda env list"
   ]
  },
  {
   "cell_type": "raw",
   "id": "c22273e7",
   "metadata": {},
   "source": [
    "conda info --envs"
   ]
  },
  {
   "cell_type": "markdown",
   "id": "c68d632a",
   "metadata": {},
   "source": [
    "## 创建环境"
   ]
  },
  {
   "cell_type": "raw",
   "id": "5e8638ff",
   "metadata": {},
   "source": [
    "conda create --name env_name python=3.6 # python=3.6 指定python版本"
   ]
  },
  {
   "cell_type": "markdown",
   "id": "1fb7aa46",
   "metadata": {},
   "source": [
    "在anaconda中创建了一个名为“env_name”的环境"
   ]
  },
  {
   "cell_type": "markdown",
   "id": "614ba37c",
   "metadata": {},
   "source": [
    "## 删除环境"
   ]
  },
  {
   "cell_type": "raw",
   "id": "a8f2aef4",
   "metadata": {},
   "source": [
    "conda remove -n env_name --all"
   ]
  },
  {
   "cell_type": "markdown",
   "id": "6bd43f8e",
   "metadata": {},
   "source": [
    "## 环境切换"
   ]
  },
  {
   "cell_type": "raw",
   "id": "09ba42f8",
   "metadata": {},
   "source": [
    "activate env_name"
   ]
  },
  {
   "cell_type": "markdown",
   "id": "146b889d",
   "metadata": {},
   "source": [
    "## 退出环境"
   ]
  },
  {
   "cell_type": "raw",
   "id": "c375645e",
   "metadata": {},
   "source": [
    "deactivate"
   ]
  },
  {
   "cell_type": "markdown",
   "id": "e13578c1",
   "metadata": {},
   "source": [
    "## 复制环境"
   ]
  },
  {
   "cell_type": "raw",
   "id": "7a90abca",
   "metadata": {},
   "source": [
    "conda create -n 新环境名 --clone 旧环境名 # 复制环境"
   ]
  },
  {
   "cell_type": "markdown",
   "id": "48f87ec5",
   "metadata": {},
   "source": [
    "## 修改环境名称"
   ]
  },
  {
   "cell_type": "raw",
   "id": "0a27e0f0",
   "metadata": {},
   "source": [
    "# 通过复制环境 和 删除环境 实现环境名称的更改\n",
    "conda create -n 新环境名 --clone 旧环境名\n",
    "conda remove -n 旧环境名 --all"
   ]
  },
  {
   "cell_type": "markdown",
   "id": "9f1aa22f",
   "metadata": {},
   "source": [
    "# conda使用"
   ]
  },
  {
   "cell_type": "markdown",
   "id": "0ee081a2",
   "metadata": {},
   "source": [
    "## 安装指定版本的包"
   ]
  },
  {
   "cell_type": "markdown",
   "id": "62f4b95a-396b-4ea6-b0d5-5f493ab42627",
   "metadata": {},
   "source": [
    "### tensorflow"
   ]
  },
  {
   "cell_type": "markdown",
   "id": "48bf76c7-c74b-41ad-b91b-be84055ac492",
   "metadata": {},
   "source": [
    "`conda install tensorflow-gpu==1.4.0`"
   ]
  },
  {
   "cell_type": "markdown",
   "id": "b3e9b771-1c26-4f60-9d14-461ebe1fd535",
   "metadata": {},
   "source": [
    "### torch"
   ]
  },
  {
   "cell_type": "markdown",
   "id": "0974802b-ebff-495f-be26-42c9f45f44eb",
   "metadata": {},
   "source": [
    "`conda install pytorch=2.0.0 cudatoolkit=11.8 -c pytorch -c nvidia`"
   ]
  },
  {
   "cell_type": "markdown",
   "id": "e0f2bad4",
   "metadata": {},
   "source": [
    "如果找不到合适的源，就指定合适的网址或者将conda换成pip。"
   ]
  },
  {
   "cell_type": "markdown",
   "id": "44ad1486",
   "metadata": {},
   "source": [
    "## conda clean使用"
   ]
  },
  {
   "cell_type": "markdown",
   "id": "e93a154a",
   "metadata": {},
   "source": [
    "### 删除从不使用的包"
   ]
  },
  {
   "cell_type": "raw",
   "id": "f519e56b",
   "metadata": {},
   "source": [
    "conda clean -p"
   ]
  },
  {
   "cell_type": "raw",
   "id": "23fa3ebd",
   "metadata": {},
   "source": [
    "conda clean --packages"
   ]
  },
  {
   "cell_type": "markdown",
   "id": "3baa7a49",
   "metadata": {},
   "source": [
    "### 删除tar包"
   ]
  },
  {
   "cell_type": "raw",
   "id": "8b7a35a9",
   "metadata": {},
   "source": [
    "conda clean --tarballs"
   ]
  },
  {
   "cell_type": "markdown",
   "id": "43d12d12",
   "metadata": {},
   "source": [
    "### 删除索引缓存、锁定文件、未使用过的包和tar包。"
   ]
  },
  {
   "cell_type": "raw",
   "id": "ef1ac268",
   "metadata": {
    "ExecuteTime": {
     "start_time": "2023-03-13T08:26:04.564Z"
    }
   },
   "source": [
    "conda clean -a "
   ]
  },
  {
   "cell_type": "raw",
   "id": "3a04b8fb",
   "metadata": {},
   "source": [
    "conda clean --all "
   ]
  },
  {
   "cell_type": "markdown",
   "id": "8f2b5c3c",
   "metadata": {},
   "source": [
    "## conda升级命令-升级conda、anaconda及各种包"
   ]
  },
  {
   "cell_type": "raw",
   "id": "fa9baf33",
   "metadata": {},
   "source": [
    "conda update conda\n",
    " \n",
    "conda update anaconda\n",
    " \n",
    "conda update anaconda-navigator //update最新版本的anaconda-navigator\n",
    " \n",
    "conda update xxx #更新xxx文件包\n",
    "\n",
    "conda update --all #更新所有包"
   ]
  },
  {
   "cell_type": "raw",
   "id": "abca7eda",
   "metadata": {},
   "source": [
    "#conda 查看所有安装包及版本\n",
    "conda list"
   ]
  },
  {
   "cell_type": "code",
   "execution_count": null,
   "id": "542d48b7",
   "metadata": {},
   "outputs": [],
   "source": []
  }
 ],
 "metadata": {
  "kernelspec": {
   "display_name": "Python 3 (ipykernel)",
   "language": "python",
   "name": "python3"
  },
  "language_info": {
   "codemirror_mode": {
    "name": "ipython",
    "version": 3
   },
   "file_extension": ".py",
   "mimetype": "text/x-python",
   "name": "python",
   "nbconvert_exporter": "python",
   "pygments_lexer": "ipython3",
   "version": "3.9.18"
  },
  "nbTranslate": {
   "displayLangs": [
    "*"
   ],
   "hotkey": "alt-t",
   "langInMainMenu": true,
   "sourceLang": "en",
   "targetLang": "fr",
   "useGoogleTranslate": true
  },
  "toc": {
   "base_numbering": 1,
   "nav_menu": {},
   "number_sections": true,
   "sideBar": true,
   "skip_h1_title": false,
   "title_cell": "Table of Contents",
   "title_sidebar": "Contents",
   "toc_cell": false,
   "toc_position": {},
   "toc_section_display": true,
   "toc_window_display": false
  }
 },
 "nbformat": 4,
 "nbformat_minor": 5
}
