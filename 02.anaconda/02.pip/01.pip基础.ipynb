{
 "cells": [
  {
   "cell_type": "markdown",
   "id": "f2e8f84f",
   "metadata": {},
   "source": [
    "# 基本命令"
   ]
  },
  {
   "cell_type": "markdown",
   "id": "8215bf50",
   "metadata": {},
   "source": [
    "## 安装包"
   ]
  },
  {
   "cell_type": "raw",
   "id": "e352338d",
   "metadata": {},
   "source": [
    "pip install packagename"
   ]
  },
  {
   "cell_type": "markdown",
   "id": "755344a3",
   "metadata": {},
   "source": [
    "### 安装第三方包临时指定镜像源"
   ]
  },
  {
   "cell_type": "raw",
   "id": "1e82988c",
   "metadata": {},
   "source": [
    "pip install packagename -i https://mirrors.aliyun.com/pypi/simple/"
   ]
  },
  {
   "cell_type": "markdown",
   "id": "458f6b10",
   "metadata": {},
   "source": [
    "## 升级包"
   ]
  },
  {
   "cell_type": "raw",
   "id": "362d55a6",
   "metadata": {},
   "source": [
    "pip install --upgrade packagename\n",
    " \n",
    "pip install -U packagename"
   ]
  },
  {
   "cell_type": "markdown",
   "id": "bcd088bf",
   "metadata": {},
   "source": [
    "## 查看包"
   ]
  },
  {
   "cell_type": "raw",
   "id": "9e076515",
   "metadata": {},
   "source": [
    "pip show packagename"
   ]
  },
  {
   "cell_type": "markdown",
   "id": "59fa6725",
   "metadata": {},
   "source": [
    "## 卸载包"
   ]
  },
  {
   "cell_type": "raw",
   "id": "9e109212",
   "metadata": {},
   "source": [
    "pip uninstall packagename"
   ]
  },
  {
   "cell_type": "markdown",
   "id": "88101efa",
   "metadata": {},
   "source": [
    "## pip更新自己"
   ]
  },
  {
   "cell_type": "raw",
   "id": "67847648",
   "metadata": {},
   "source": [
    "python -m pip install --upgrade pip"
   ]
  },
  {
   "cell_type": "markdown",
   "id": "e4b77fae",
   "metadata": {},
   "source": [
    "## pip更新过期包"
   ]
  },
  {
   "cell_type": "raw",
   "id": "a10bb161",
   "metadata": {},
   "source": [
    "# pip两种方法均可\n",
    "pip list --outdated\n",
    "pip list -o \n",
    " \n",
    "#pip 查看所有安装包及版本\n",
    "pip list"
   ]
  },
  {
   "cell_type": "markdown",
   "id": "b308a161-4ff7-4f22-b2c5-52b47dfcdafb",
   "metadata": {},
   "source": [
    "## 导出当前环境的依赖列表"
   ]
  },
  {
   "cell_type": "markdown",
   "id": "f9fb6f04-5972-463d-bd84-007f152bec4c",
   "metadata": {},
   "source": [
    "pip freeze > requirements.txt"
   ]
  },
  {
   "cell_type": "code",
   "execution_count": null,
   "id": "4e18f5b6-9735-48d4-a45c-7a0096c775b3",
   "metadata": {},
   "outputs": [],
   "source": []
  }
 ],
 "metadata": {
  "kernelspec": {
   "display_name": "Python 3 (ipykernel)",
   "language": "python",
   "name": "python3"
  },
  "language_info": {
   "codemirror_mode": {
    "name": "ipython",
    "version": 3
   },
   "file_extension": ".py",
   "mimetype": "text/x-python",
   "name": "python",
   "nbconvert_exporter": "python",
   "pygments_lexer": "ipython3",
   "version": "3.9.18"
  },
  "nbTranslate": {
   "displayLangs": [
    "*"
   ],
   "hotkey": "alt-t",
   "langInMainMenu": true,
   "sourceLang": "en",
   "targetLang": "fr",
   "useGoogleTranslate": true
  },
  "toc": {
   "base_numbering": 1,
   "nav_menu": {},
   "number_sections": true,
   "sideBar": true,
   "skip_h1_title": false,
   "title_cell": "Table of Contents",
   "title_sidebar": "Contents",
   "toc_cell": false,
   "toc_position": {},
   "toc_section_display": true,
   "toc_window_display": false
  }
 },
 "nbformat": 4,
 "nbformat_minor": 5
}
