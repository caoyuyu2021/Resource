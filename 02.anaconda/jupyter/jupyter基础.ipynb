{
 "cells": [
  {
   "cell_type": "markdown",
   "id": "6e2402f5",
   "metadata": {},
   "source": [
    "# 什么是Jupyter Notebook"
   ]
  },
  {
   "cell_type": "markdown",
   "id": "a753db67",
   "metadata": {},
   "source": [
    "Jupyter Notebook是基于网页的用于交互计算的应用程序。其可被应用于全过程计算：开发、文档编写、运行代码和展示结果。\n",
    "\n",
    "简而言之，Jupyter Notebook是以网页的形式打开，可以在网页页面中直接编写代码和运行代码，代码的运行结果也会直接在代码块下显示。如在编程过程中需要编写说明文档，可在同一个页面中直接编写，便于作及时的说明和解释。"
   ]
  },
  {
   "cell_type": "markdown",
   "id": "e9d55985",
   "metadata": {},
   "source": [
    "# 安装 Jupyter Notebook"
   ]
  },
  {
   "cell_type": "markdown",
   "id": "2ce3b023",
   "metadata": {},
   "source": [
    "## Anaconda安装"
   ]
  },
  {
   "cell_type": "markdown",
   "id": "5b9fa2a9",
   "metadata": {},
   "source": [
    "在终端（Linux或macOS的“终端”，Windows的“Anaconda Prompt”，以下均简称“终端”）中输入以下命令安装："
   ]
  },
  {
   "cell_type": "raw",
   "id": "03efa1f9",
   "metadata": {},
   "source": [
    "conda install jupyter notebook"
   ]
  },
  {
   "cell_type": "markdown",
   "id": "e3e2f26c",
   "metadata": {},
   "source": [
    "## pip安装"
   ]
  },
  {
   "cell_type": "raw",
   "id": "a5bebf81",
   "metadata": {},
   "source": [
    "pip install --upgrade pip\n",
    "pip install jupyter"
   ]
  },
  {
   "cell_type": "markdown",
   "id": "96f89313",
   "metadata": {},
   "source": [
    "# 运行 Jupyter Notebook"
   ]
  },
  {
   "cell_type": "markdown",
   "id": "0bf49711",
   "metadata": {},
   "source": [
    "## 启动"
   ]
  },
  {
   "cell_type": "markdown",
   "id": "eef8f2e0",
   "metadata": {},
   "source": [
    "在终端中输入以下命令："
   ]
  },
  {
   "cell_type": "raw",
   "id": "c4339a32",
   "metadata": {},
   "source": [
    "jupyter notebook"
   ]
  },
  {
   "cell_type": "markdown",
   "id": "9fa9fd3f",
   "metadata": {},
   "source": [
    "执行命令之后，在终端中将会显示一系列notebook的服务器信息，同时浏览器将会自动启动Jupyter Notebook。  \n",
    "注意：之后在Jupyter Notebook的所有操作，都请保持终端不要关闭，因为一旦关闭终端，就会断开与本地服务器的链接，你将无法在Jupyter Notebook中进行其他操作啦。"
   ]
  },
  {
   "cell_type": "markdown",
   "id": "b9e968fd",
   "metadata": {},
   "source": [
    "## 主页面"
   ]
  },
  {
   "cell_type": "markdown",
   "id": "3f20fe6d",
   "metadata": {},
   "source": [
    "设置Jupyter Notebook文件存放位置"
   ]
  },
  {
   "cell_type": "raw",
   "id": "83dcfe6a",
   "metadata": {},
   "source": [
    "jupyter notebook --generate-config"
   ]
  },
  {
   "cell_type": "markdown",
   "id": "c1bf0b52",
   "metadata": {},
   "source": [
    "# Jupyter插件安装"
   ]
  },
  {
   "cell_type": "markdown",
   "id": "a0050df8",
   "metadata": {},
   "source": [
    "在终端中输入以下命令："
   ]
  },
  {
   "cell_type": "raw",
   "id": "9a5b387d",
   "metadata": {},
   "source": [
    "pip install jupyter_contrib_nbextensions"
   ]
  },
  {
   "cell_type": "markdown",
   "id": "1b8034fe",
   "metadata": {},
   "source": [
    "然后，配置nbextension。"
   ]
  },
  {
   "cell_type": "raw",
   "id": "375f316e",
   "metadata": {},
   "source": [
    "jupyter contrib nbextension install --user"
   ]
  },
  {
   "cell_type": "markdown",
   "id": "3b96f57d",
   "metadata": {},
   "source": [
    "最后启动jupyter notebook，选择 Nbextensions"
   ]
  },
  {
   "cell_type": "markdown",
   "id": "e0a22eb3",
   "metadata": {},
   "source": [
    "# 常用快捷键"
   ]
  },
  {
   "cell_type": "markdown",
   "id": "2087dbe1",
   "metadata": {},
   "source": [
    "**命令模式**  \n",
    "Y 单元格转换成code类型。  \n",
    "M 单元格转换成Markdown类型。  \n",
    "R 单元格转换成Raw NBConvert类型。  \n",
    "Enter 进入编辑模式。  \n",
    "A 在当前单元格上方插入新单元格。  \n",
    "B 在当前单元格下方插入新单元格。  \n",
    "C 复制当前单元格。  \n",
    "D(两次） 删除当前单元格。  \n",
    "V 粘贴到当前单元格的下方。  \n",
    "Shift + V 粘贴到当前单元格的上方。  \n",
    "Z 撤销删除。  \n",
    "**编辑模式**  \n",
    "Tab 代码补全  \n",
    "Shift + Tab 显示doc文档信息。  \n",
    "Esc 进入命令模式。  \n",
    "**通用模式**  \n",
    "Ctrl + Enter 运行单元格，然后该单元格处于命令模式。  \n",
    "Shift + Enter 运行单元格，并切换到下一个单元格，如果下方没有单元格，则会新建一个单元格。  \n",
    "Alt + Enter 运行单元格，并在下方新增一个单元格。"
   ]
  },
  {
   "cell_type": "markdown",
   "id": "b82fb853",
   "metadata": {},
   "source": [
    "# Jupyter内核"
   ]
  },
  {
   "cell_type": "markdown",
   "id": "348a05f5",
   "metadata": {},
   "source": [
    "## 查看内核"
   ]
  },
  {
   "cell_type": "markdown",
   "id": "49ea810b",
   "metadata": {},
   "source": [
    "可以通过下列命令查看jupyter核"
   ]
  },
  {
   "cell_type": "raw",
   "id": "c4ef7d74",
   "metadata": {},
   "source": [
    "jupyter kernelspec list"
   ]
  },
  {
   "cell_type": "markdown",
   "id": "a25acadb",
   "metadata": {},
   "source": [
    "## 删除内核"
   ]
  },
  {
   "cell_type": "markdown",
   "id": "7826c7b9",
   "metadata": {},
   "source": [
    "如果想要删除其中某个核，可以使用命令"
   ]
  },
  {
   "cell_type": "raw",
   "id": "7393dc61",
   "metadata": {},
   "source": [
    "jupyter kernelspec remove 环境名称"
   ]
  },
  {
   "cell_type": "markdown",
   "id": "6a088e08",
   "metadata": {},
   "source": [
    "## 添加内核"
   ]
  },
  {
   "cell_type": "markdown",
   "id": "e889dc22",
   "metadata": {},
   "source": [
    "### 进入你想新增kernel的虚拟环境"
   ]
  },
  {
   "cell_type": "raw",
   "id": "0d0b7d17",
   "metadata": {},
   "source": [
    "conda activate env"
   ]
  },
  {
   "cell_type": "markdown",
   "id": "a19939eb",
   "metadata": {},
   "source": [
    "env为你的虚拟环境名"
   ]
  },
  {
   "cell_type": "markdown",
   "id": "8cbb1b16",
   "metadata": {},
   "source": [
    "### 进入env虚拟环境，安装ipykernel"
   ]
  },
  {
   "cell_type": "raw",
   "id": "a3863fe3",
   "metadata": {},
   "source": [
    "pip install ipykernel"
   ]
  },
  {
   "cell_type": "markdown",
   "id": "cf65dd84",
   "metadata": {},
   "source": [
    "### 安装ipykernel完成后，添加kernel名"
   ]
  },
  {
   "cell_type": "raw",
   "id": "8601168c",
   "metadata": {},
   "source": [
    "python -m ipykernel install --name showname"
   ]
  },
  {
   "cell_type": "markdown",
   "id": "1465a0f2",
   "metadata": {},
   "source": [
    "showname为在kernel中显示的kernel名"
   ]
  },
  {
   "cell_type": "markdown",
   "id": "66f7a736",
   "metadata": {},
   "source": [
    "# Jupyter实用插件"
   ]
  },
  {
   "cell_type": "markdown",
   "id": "2418d4f8",
   "metadata": {},
   "source": [
    "## Snippets"
   ]
  },
  {
   "cell_type": "markdown",
   "id": "05df3eb8",
   "metadata": {},
   "source": [
    "代码段重复使用"
   ]
  },
  {
   "cell_type": "code",
   "execution_count": 38,
   "id": "b759f5cc",
   "metadata": {
    "ExecuteTime": {
     "end_time": "2023-12-14T10:06:42.972423Z",
     "start_time": "2023-12-14T10:06:42.522485Z"
    }
   },
   "outputs": [
    {
     "name": "stdout",
     "output_type": "stream",
     "text": [
      "原来的snips:\n",
      "{'snippets': [{'name': 'example', 'code': ['# This is an example snippet!', '# To create your own, add a new snippet block to the', '# snippets.json file in your jupyter data directory under nbextensions:', '# $(jupyter --data-dir)/nbextensions/snippets/snippets.json', 'import this']}, {'name': 'some imports', 'code': ['import os', 'import numpy as np', 'import pandas as pd', 'import seaborn as sns', 'import matplotlib.pyplot as plt', 'import warnings', \"warnings.filterwarnings('ignore')\", \"plt.rcParams['font.sans-serif'] = ['SimHei'] # 用来正常显示中文标签SimHei\", \"plt.rcParams['axes.unicode_minus'] = False # 用来正常显示负号\", \"pd.set_option('display.float_format',  '{:,.2f}'.format)\", \"pd.set_option( 'display.precision',2)\", '%matplotlib inline']}]}\n"
     ]
    }
   ],
   "source": [
    "# coding: utf-8\n",
    "# 导入相关模型，设置相关变量\n",
    "# In[1]:\n",
    "import json\n",
    "path = get_ipython().getoutput('jupyter --data-dir')\n",
    "path = \"\".join([path[0], r\"/nbextensions/snippets/snippets.json\"])\n",
    "\n",
    "# 查看已安装的snips\n",
    "# In[2]:\n",
    "file = open(path, \"r\", encoding=\"utf-8\")\n",
    "snips = json.load(file)\n",
    "print(\"原来的snips:\")\n",
    "print(snips)\n",
    "\n",
    "# 设置自定义snips，<————**自定义snippet代码段写在这里**\n",
    "# In[4]:\n",
    "snips = {\n",
    "    \"snippets\": [\n",
    "        {\n",
    "            \"name\": \"example\",\n",
    "            \"code\": [\n",
    "                \"# This is an example snippet!\",\n",
    "                \"# To create your own, add a new snippet block to the\",\n",
    "                \"# snippets.json file in your jupyter data directory under nbextensions:\",\n",
    "                \"# $(jupyter --data-dir)/nbextensions/snippets/snippets.json\",\n",
    "                \"import this\"\n",
    "            ]\n",
    "        },\n",
    "        {\n",
    "            \"name\": \"some imports\",\n",
    "            \"code\": [\n",
    "                \"import os\",\n",
    "                \"import numpy as np\",\n",
    "                \"import pandas as pd\",\n",
    "                \"import seaborn as sns\",\n",
    "                \"import matplotlib.pyplot as plt\",\n",
    "                \"import warnings\",\n",
    "                \"warnings.filterwarnings('ignore')\",\n",
    "                \"plt.rcParams['font.sans-serif'] = ['SimHei'] # 用来正常显示中文标签SimHei\",\n",
    "                \"plt.rcParams['axes.unicode_minus'] = False # 用来正常显示负号\",\n",
    "                \"pd.set_option('display.float_format',  '{:,.2f}'.format)\",\n",
    "                \"pd.set_option( 'display.precision',2)\",\n",
    "                \"%matplotlib inline\",\n",
    "            ]\n",
    "        }\n",
    "    ]\n",
    "}\n",
    "\n",
    "# 写入snips\n",
    "# In[5]:\n",
    "model = snips\n",
    "with open(path, 'w', encoding='utf-8') as json_file:\n",
    "    json.dump(model, json_file, ensure_ascii=False)"
   ]
  },
  {
   "cell_type": "markdown",
   "id": "2bb6b43d",
   "metadata": {},
   "source": [
    "## Scratchpad"
   ]
  },
  {
   "cell_type": "markdown",
   "id": "6b92f862",
   "metadata": {},
   "source": [
    "新开一个窗口，在数据分析过程中非常有用，比如你画了个图，想对照着图看绘图数据、或者看看修改参数后的效果图。**快捷键：**Ctrl键+B键"
   ]
  },
  {
   "cell_type": "markdown",
   "id": "782747b1",
   "metadata": {},
   "source": [
    "右下角图标也可以打开"
   ]
  },
  {
   "cell_type": "markdown",
   "id": "8d1c9c2f",
   "metadata": {},
   "source": [
    "## Codefolding"
   ]
  },
  {
   "cell_type": "markdown",
   "id": "8d92e88f",
   "metadata": {},
   "source": [
    "代码折叠"
   ]
  },
  {
   "cell_type": "markdown",
   "id": "5eb87e8c",
   "metadata": {},
   "source": [
    "## Code prettify"
   ]
  },
  {
   "cell_type": "markdown",
   "id": "468f04ea",
   "metadata": {},
   "source": [
    "规范优化代码"
   ]
  },
  {
   "cell_type": "markdown",
   "id": "4d6753f3",
   "metadata": {},
   "source": [
    "## Hinterland"
   ]
  },
  {
   "cell_type": "markdown",
   "id": "02a90297",
   "metadata": {},
   "source": [
    "代码补全"
   ]
  },
  {
   "cell_type": "markdown",
   "id": "724c330f",
   "metadata": {},
   "source": [
    "## Toggle all line numbers"
   ]
  },
  {
   "cell_type": "markdown",
   "id": "6f6f025e",
   "metadata": {},
   "source": [
    "显示代码行号"
   ]
  },
  {
   "cell_type": "markdown",
   "id": "e06f1708",
   "metadata": {},
   "source": [
    "## Table of Contents (2)"
   ]
  },
  {
   "cell_type": "markdown",
   "id": "547c8bab",
   "metadata": {},
   "source": [
    "给notebook添加目录"
   ]
  },
  {
   "cell_type": "markdown",
   "id": "dd53ad4c",
   "metadata": {},
   "source": [
    "## Collapsible Headings"
   ]
  },
  {
   "cell_type": "markdown",
   "id": "d3f1c22e",
   "metadata": {},
   "source": [
    "notebook按标题折叠"
   ]
  },
  {
   "cell_type": "markdown",
   "id": "9b327802",
   "metadata": {},
   "source": [
    "## Tree Filter"
   ]
  },
  {
   "cell_type": "markdown",
   "id": "7901e8ac",
   "metadata": {},
   "source": [
    "文件过滤"
   ]
  },
  {
   "cell_type": "markdown",
   "id": "aed5fb67",
   "metadata": {},
   "source": [
    "## Highlight selected word"
   ]
  },
  {
   "cell_type": "markdown",
   "id": "6a3ccb66",
   "metadata": {},
   "source": [
    "高亮选中的字符"
   ]
  },
  {
   "cell_type": "markdown",
   "id": "ed1f1027",
   "metadata": {},
   "source": [
    "## Variable Inspector"
   ]
  },
  {
   "cell_type": "markdown",
   "id": "8b34a645",
   "metadata": {},
   "source": [
    "变量搜集框"
   ]
  },
  {
   "cell_type": "markdown",
   "id": "892bf4a5",
   "metadata": {},
   "source": [
    "## ExecuteTime"
   ]
  },
  {
   "cell_type": "markdown",
   "id": "b6f38d00",
   "metadata": {},
   "source": [
    "程序块运行的时间"
   ]
  },
  {
   "cell_type": "markdown",
   "id": "35f88036",
   "metadata": {},
   "source": [
    "## Hide input all"
   ]
  },
  {
   "cell_type": "markdown",
   "id": "9716df8e",
   "metadata": {},
   "source": [
    "隐藏输入，只显示输出"
   ]
  },
  {
   "cell_type": "markdown",
   "id": "416af30f",
   "metadata": {},
   "source": [
    "## Skip-Traceback"
   ]
  },
  {
   "cell_type": "markdown",
   "id": "5621521a",
   "metadata": {},
   "source": [
    "当程序出错误时，能够让notebook跳过报错的过程，而显示出程序的错误原因和对于报错的简短介绍"
   ]
  },
  {
   "cell_type": "markdown",
   "id": "00f71cf8",
   "metadata": {},
   "source": [
    "## datestamper"
   ]
  },
  {
   "cell_type": "markdown",
   "id": "cd7644b1",
   "metadata": {},
   "source": [
    "将当前时间和日期粘贴到当前单元格中"
   ]
  },
  {
   "cell_type": "markdown",
   "id": "396d6c0a",
   "metadata": {},
   "source": [
    "## Notify"
   ]
  },
  {
   "cell_type": "markdown",
   "id": "ed62cf51",
   "metadata": {},
   "source": [
    "当某个单元格的代码执行完毕后，Jupyter会向我们发送提示通知"
   ]
  },
  {
   "cell_type": "markdown",
   "id": "cf13dbe0",
   "metadata": {},
   "source": [
    "## Live Markdown Preview"
   ]
  },
  {
   "cell_type": "markdown",
   "id": "cd7ebb5d",
   "metadata": {},
   "source": [
    "该插件的作用在于方便程序员以及开发者们撰写Markdown内容，方便预览"
   ]
  },
  {
   "cell_type": "markdown",
   "id": "fb63d548",
   "metadata": {},
   "source": [
    "## ScrollDown"
   ]
  },
  {
   "cell_type": "markdown",
   "id": "1337d637",
   "metadata": {},
   "source": [
    "当我们在打印for循环的时候，当输出的内容很多，该插件的作用在于会自动向下滚动输出内容，不需要人为地向下拖滚动条"
   ]
  },
  {
   "cell_type": "markdown",
   "id": "508f6a0e",
   "metadata": {},
   "source": [
    "# Jupyter魔法命令"
   ]
  },
  {
   "cell_type": "markdown",
   "id": "269b4547",
   "metadata": {},
   "source": [
    "魔术命令或魔术函数是IPython与标准Python shell相比提供的重要增强功能之一。这些魔术命令旨在解决使用Python进行数据分析中的常见问题。实际上，它们控制着IPython本身的行为。"
   ]
  },
  {
   "cell_type": "markdown",
   "id": "16bd8b20",
   "metadata": {},
   "source": [
    "Jupyter Notebook 中的魔法命令（Magic Commands）是一些特殊的命令，以百分号 % 或两个百分号 %% 开头，用于执行一些特殊的操作，如操作系统命令、调用系统工具、测量代码执行时间等。这些命令只在 Jupyter 环境中有效，而不是标准的 Python 代码。"
   ]
  },
  {
   "cell_type": "code",
   "execution_count": 13,
   "id": "f92663d7",
   "metadata": {
    "ExecuteTime": {
     "end_time": "2023-12-14T08:34:16.143469Z",
     "start_time": "2023-12-14T08:34:16.137645Z"
    }
   },
   "outputs": [
    {
     "data": {
      "application/json": {
       "cell": {
        "!": "OSMagics",
        "HTML": "Other",
        "SVG": "Other",
        "bash": "Other",
        "capture": "ExecutionMagics",
        "cmd": "Other",
        "code_wrap": "ExecutionMagics",
        "debug": "ExecutionMagics",
        "file": "Other",
        "html": "DisplayMagics",
        "javascript": "DisplayMagics",
        "js": "DisplayMagics",
        "latex": "DisplayMagics",
        "markdown": "DisplayMagics",
        "perl": "Other",
        "prun": "ExecutionMagics",
        "pypy": "Other",
        "python": "Other",
        "python2": "Other",
        "python3": "Other",
        "ruby": "Other",
        "script": "ScriptMagics",
        "sh": "Other",
        "svg": "DisplayMagics",
        "sx": "OSMagics",
        "system": "OSMagics",
        "time": "ExecutionMagics",
        "timeit": "ExecutionMagics",
        "writefile": "OSMagics"
       },
       "line": {
        "alias": "OSMagics",
        "alias_magic": "BasicMagics",
        "autoawait": "AsyncMagics",
        "autocall": "AutoMagics",
        "automagic": "AutoMagics",
        "autosave": "KernelMagics",
        "bookmark": "OSMagics",
        "cd": "OSMagics",
        "clear": "KernelMagics",
        "cls": "KernelMagics",
        "code_wrap": "ExecutionMagics",
        "colors": "BasicMagics",
        "conda": "PackagingMagics",
        "config": "ConfigMagics",
        "connect_info": "KernelMagics",
        "copy": "Other",
        "ddir": "Other",
        "debug": "ExecutionMagics",
        "dhist": "OSMagics",
        "dirs": "OSMagics",
        "doctest_mode": "BasicMagics",
        "echo": "Other",
        "ed": "Other",
        "edit": "KernelMagics",
        "env": "OSMagics",
        "gui": "BasicMagics",
        "hist": "Other",
        "history": "HistoryMagics",
        "killbgscripts": "ScriptMagics",
        "ldir": "Other",
        "less": "KernelMagics",
        "load": "CodeMagics",
        "load_ext": "ExtensionMagics",
        "loadpy": "CodeMagics",
        "logoff": "LoggingMagics",
        "logon": "LoggingMagics",
        "logstart": "LoggingMagics",
        "logstate": "LoggingMagics",
        "logstop": "LoggingMagics",
        "ls": "Other",
        "lsmagic": "BasicMagics",
        "macro": "ExecutionMagics",
        "magic": "BasicMagics",
        "matplotlib": "PylabMagics",
        "mkdir": "Other",
        "more": "KernelMagics",
        "notebook": "BasicMagics",
        "page": "BasicMagics",
        "pastebin": "CodeMagics",
        "pdb": "ExecutionMagics",
        "pdef": "NamespaceMagics",
        "pdoc": "NamespaceMagics",
        "pfile": "NamespaceMagics",
        "pinfo": "NamespaceMagics",
        "pinfo2": "NamespaceMagics",
        "pip": "PackagingMagics",
        "popd": "OSMagics",
        "pprint": "BasicMagics",
        "precision": "BasicMagics",
        "prun": "ExecutionMagics",
        "psearch": "NamespaceMagics",
        "psource": "NamespaceMagics",
        "pushd": "OSMagics",
        "pwd": "OSMagics",
        "pycat": "OSMagics",
        "pylab": "PylabMagics",
        "qtconsole": "KernelMagics",
        "quickref": "BasicMagics",
        "recall": "HistoryMagics",
        "rehashx": "OSMagics",
        "reload_ext": "ExtensionMagics",
        "ren": "Other",
        "rep": "Other",
        "rerun": "HistoryMagics",
        "reset": "NamespaceMagics",
        "reset_selective": "NamespaceMagics",
        "rmdir": "Other",
        "run": "ExecutionMagics",
        "save": "CodeMagics",
        "sc": "OSMagics",
        "set_env": "OSMagics",
        "store": "StoreMagics",
        "sx": "OSMagics",
        "system": "OSMagics",
        "tb": "ExecutionMagics",
        "time": "ExecutionMagics",
        "timeit": "ExecutionMagics",
        "unalias": "OSMagics",
        "unload_ext": "ExtensionMagics",
        "who": "NamespaceMagics",
        "who_ls": "NamespaceMagics",
        "whos": "NamespaceMagics",
        "xdel": "NamespaceMagics",
        "xmode": "BasicMagics"
       }
      },
      "text/plain": [
       "Available line magics:\n",
       "%alias  %alias_magic  %autoawait  %autocall  %automagic  %autosave  %bookmark  %cd  %clear  %cls  %code_wrap  %colors  %conda  %config  %connect_info  %copy  %ddir  %debug  %dhist  %dirs  %doctest_mode  %echo  %ed  %edit  %env  %gui  %hist  %history  %killbgscripts  %ldir  %less  %load  %load_ext  %loadpy  %logoff  %logon  %logstart  %logstate  %logstop  %ls  %lsmagic  %macro  %magic  %matplotlib  %mkdir  %more  %notebook  %page  %pastebin  %pdb  %pdef  %pdoc  %pfile  %pinfo  %pinfo2  %pip  %popd  %pprint  %precision  %prun  %psearch  %psource  %pushd  %pwd  %pycat  %pylab  %qtconsole  %quickref  %recall  %rehashx  %reload_ext  %ren  %rep  %rerun  %reset  %reset_selective  %rmdir  %run  %save  %sc  %set_env  %store  %sx  %system  %tb  %time  %timeit  %unalias  %unload_ext  %who  %who_ls  %whos  %xdel  %xmode\n",
       "\n",
       "Available cell magics:\n",
       "%%!  %%HTML  %%SVG  %%bash  %%capture  %%cmd  %%code_wrap  %%debug  %%file  %%html  %%javascript  %%js  %%latex  %%markdown  %%perl  %%prun  %%pypy  %%python  %%python2  %%python3  %%ruby  %%script  %%sh  %%svg  %%sx  %%system  %%time  %%timeit  %%writefile\n",
       "\n",
       "Automagic is ON, % prefix IS NOT needed for line magics."
      ]
     },
     "execution_count": 13,
     "metadata": {},
     "output_type": "execute_result"
    }
   ],
   "source": [
    "#显示所有魔法命令\n",
    "%lsmagic"
   ]
  },
  {
   "cell_type": "markdown",
   "id": "f2cea0a7",
   "metadata": {},
   "source": [
    "## 行魔法命令 %"
   ]
  },
  {
   "cell_type": "markdown",
   "id": "7be898c9",
   "metadata": {},
   "source": [
    "### %autocall"
   ]
  },
  {
   "cell_type": "markdown",
   "id": "3bdc7986",
   "metadata": {},
   "source": [
    "此魔术函数使函数可以自动调用，而不必使用括号。它需要三个可能的模式参数： 0（关闭），默认值为1（智能）或 2（始终打开）。"
   ]
  },
  {
   "cell_type": "markdown",
   "id": "31a925f5",
   "metadata": {},
   "source": [
    "### %automagic"
   ]
  },
  {
   "cell_type": "markdown",
   "id": "26334472",
   "metadata": {},
   "source": [
    "如果设置为1，则可以调用魔术函数而不必键入初始％。不带参数的情况下，它可以打开/关闭。要停用，请设置为0。"
   ]
  },
  {
   "cell_type": "markdown",
   "id": "d4c52e0c",
   "metadata": {},
   "source": [
    "### %cd"
   ]
  },
  {
   "cell_type": "markdown",
   "id": "ed46183e",
   "metadata": {},
   "source": [
    "此行魔术更改了当前目录。该命令自动在变量_dh中维护您在IPython会话期间访问的目录的内部列表。您也可以执行\" cd- \"来方便地查看目录历史记录。"
   ]
  },
  {
   "cell_type": "markdown",
   "id": "7ed34af0",
   "metadata": {},
   "source": [
    "%cd命令可以通过以下方式使用-\n",
    "- %cd -将当前工作目录更改为\n",
    "- %cd .. -将当前目录更改为父目录\n",
    "- %cd -更改为上次访问的目录。"
   ]
  },
  {
   "cell_type": "markdown",
   "id": "d3480dcd",
   "metadata": {},
   "source": [
    "### %dhist"
   ]
  },
  {
   "cell_type": "markdown",
   "id": "d96f5f32",
   "metadata": {},
   "source": [
    "此魔术命令将打印您在当前会话中访问过的所有目录。每次使用%cd命令时，此列表都会在 _dh 变量中更新。"
   ]
  },
  {
   "cell_type": "code",
   "execution_count": 26,
   "id": "d788e669",
   "metadata": {
    "ExecuteTime": {
     "end_time": "2023-12-14T09:25:43.672952Z",
     "start_time": "2023-12-14T09:25:43.666252Z"
    }
   },
   "outputs": [
    {
     "name": "stdout",
     "output_type": "stream",
     "text": [
      "Directory history (kept in _dh)\n",
      "0: D:\\Jupyter notebook\\src\\02.anaconda\\jupyter\n"
     ]
    }
   ],
   "source": [
    "%dhist"
   ]
  },
  {
   "cell_type": "markdown",
   "id": "1adef45a",
   "metadata": {},
   "source": [
    "### %edit"
   ]
  },
  {
   "cell_type": "markdown",
   "id": "cfda033e",
   "metadata": {},
   "source": [
    "此魔术命令调用当前操作系统（Windows的记事本）的默认文本编辑器来编辑Python脚本。在关闭编辑器后执行脚本。"
   ]
  },
  {
   "cell_type": "code",
   "execution_count": 27,
   "id": "baf8a84b",
   "metadata": {
    "ExecuteTime": {
     "end_time": "2023-12-14T09:26:15.340496Z",
     "start_time": "2023-12-14T09:26:15.332408Z"
    }
   },
   "outputs": [
    {
     "name": "stdout",
     "output_type": "stream",
     "text": [
      "IPython will make a temporary file named: C:\\Users\\IKAS\\AppData\\Local\\Temp\\ipython_edit_gb04dy47\\ipython_edit_w5yu55v3.py\n"
     ]
    }
   ],
   "source": [
    "%edit"
   ]
  },
  {
   "cell_type": "markdown",
   "id": "c6849ba1",
   "metadata": {},
   "source": [
    "### %env"
   ]
  },
  {
   "cell_type": "markdown",
   "id": "98a515d5",
   "metadata": {},
   "source": [
    "此魔术命令将列出所有环境变量。它还会读取特定变量的值或设置环境变量的值。"
   ]
  },
  {
   "cell_type": "code",
   "execution_count": 28,
   "id": "043fd711",
   "metadata": {
    "ExecuteTime": {
     "end_time": "2023-12-14T09:26:51.761639Z",
     "start_time": "2023-12-14T09:26:51.754713Z"
    }
   },
   "outputs": [
    {
     "data": {
      "text/plain": [
       "{'ALLUSERSPROFILE': 'C:\\\\ProgramData',\n",
       " 'APPDATA': 'C:\\\\Users\\\\IKAS\\\\AppData\\\\Roaming',\n",
       " 'COMMONPROGRAMFILES': 'C:\\\\Program Files\\\\Common Files',\n",
       " 'COMMONPROGRAMFILES(X86)': 'C:\\\\Program Files (x86)\\\\Common Files',\n",
       " 'COMMONPROGRAMW6432': 'C:\\\\Program Files\\\\Common Files',\n",
       " 'COMPUTERNAME': 'IKAS-NB-122',\n",
       " 'COMSPEC': 'C:\\\\Windows\\\\system32\\\\cmd.exe',\n",
       " 'DRIVERDATA': 'C:\\\\Windows\\\\System32\\\\Drivers\\\\DriverData',\n",
       " 'HADOOP_HOME': 'D:\\\\hadoop-3.2.4',\n",
       " 'HOMEDRIVE': 'C:',\n",
       " 'HOMEPATH': '\\\\Users\\\\IKAS',\n",
       " 'JAVA_HOME': 'D:\\\\Java\\\\jdk-1.8',\n",
       " 'LOCALAPPDATA': 'C:\\\\Users\\\\IKAS\\\\AppData\\\\Local',\n",
       " 'LOGONSERVER': '\\\\\\\\IKAS-NB-122',\n",
       " 'MOZ_PLUGIN_PATH': 'D:\\\\Downloads\\\\Software\\\\360SoftMgrSafeRun\\\\Foxit PDF Reader\\\\plugins\\\\',\n",
       " 'NUMBER_OF_PROCESSORS': '16',\n",
       " 'ONEDRIVE': 'C:\\\\Users\\\\IKAS\\\\OneDrive',\n",
       " 'ONEDRIVECONSUMER': 'C:\\\\Users\\\\IKAS\\\\OneDrive',\n",
       " 'OS': 'Windows_NT',\n",
       " 'PATH': 'D:\\\\Anaconda;D:\\\\Anaconda\\\\Library\\\\mingw-w64\\\\bin;D:\\\\Anaconda\\\\Library\\\\usr\\\\bin;D:\\\\Anaconda\\\\Library\\\\bin;D:\\\\Anaconda\\\\Scripts;C:\\\\Program Files (x86)\\\\Common Files\\\\Oracle\\\\Java\\\\javapath;C:\\\\Windows\\\\system32;C:\\\\Windows;C:\\\\Windows\\\\System32\\\\Wbem;C:\\\\Windows\\\\System32\\\\WindowsPowerShell\\\\v1.0\\\\;C:\\\\Windows\\\\System32\\\\OpenSSH\\\\;C:\\\\Program Files\\\\Git\\\\cmd;C:\\\\Program Files\\\\Java\\\\jdk-1.8\\\\bin;D:\\\\spark-3.2.4-bin-hadoop3.2\\\\bin;D:\\\\spark-3.2.4-bin-hadoop3.2;D:\\\\spark-3.2.4-bin-hadoop3.2\\\\bin;D:\\\\hadoop-3.2.4\\\\bin;D:\\\\Java\\\\jdk-1.8\\\\bin;D:\\\\Anaconda\\\\Scripts;D:\\\\Anaconda\\\\Library\\\\bin;D:\\\\Anaconda;C:\\\\Users\\\\IKAS\\\\AppData\\\\Local\\\\Microsoft\\\\WindowsApps;;D:\\\\Microsoft VS Code\\\\bin;C:\\\\Users\\\\IKAS\\\\AppData\\\\Local\\\\Programs\\\\EmEditor',\n",
       " 'PATHEXT': '.COM;.EXE;.BAT;.CMD;.VBS;.VBE;.JS;.JSE;.WSF;.WSH;.MSC',\n",
       " 'PROCESSOR_ARCHITECTURE': 'AMD64',\n",
       " 'PROCESSOR_IDENTIFIER': 'AMD64 Family 23 Model 96 Stepping 1, AuthenticAMD',\n",
       " 'PROCESSOR_LEVEL': '23',\n",
       " 'PROCESSOR_REVISION': '6001',\n",
       " 'PROGRAMDATA': 'C:\\\\ProgramData',\n",
       " 'PROGRAMFILES': 'C:\\\\Program Files',\n",
       " 'PROGRAMFILES(X86)': 'C:\\\\Program Files (x86)',\n",
       " 'PROGRAMW6432': 'C:\\\\Program Files',\n",
       " 'PSMODULEPATH': 'C:\\\\Program Files\\\\WindowsPowerShell\\\\Modules;C:\\\\Windows\\\\system32\\\\WindowsPowerShell\\\\v1.0\\\\Modules',\n",
       " 'PUBLIC': 'C:\\\\Users\\\\Public',\n",
       " 'SESSIONNAME': 'Console',\n",
       " 'SPARK_HOME': 'D:\\\\spark-3.2.4-bin-hadoop3.2',\n",
       " 'SYSTEMDRIVE': 'C:',\n",
       " 'SYSTEMROOT': 'C:\\\\Windows',\n",
       " 'TEMP': 'C:\\\\Users\\\\IKAS\\\\AppData\\\\Local\\\\Temp',\n",
       " 'TMP': 'C:\\\\Users\\\\IKAS\\\\AppData\\\\Local\\\\Temp',\n",
       " 'USERDOMAIN': 'IKAS-NB-122',\n",
       " 'USERDOMAIN_ROAMINGPROFILE': 'IKAS-NB-122',\n",
       " 'USERNAME': 'cao.yuyu',\n",
       " 'USERPROFILE': 'C:\\\\Users\\\\IKAS',\n",
       " 'WINDIR': 'C:\\\\Windows',\n",
       " 'CONDA_PREFIX': 'D:\\\\Anaconda',\n",
       " 'PYDEVD_USE_FRAME_EVAL': 'NO',\n",
       " 'JPY_INTERRUPT_EVENT': '2900',\n",
       " 'IPY_INTERRUPT_EVENT': '2900',\n",
       " 'JPY_PARENT_PID': '2892',\n",
       " 'TERM': 'xterm-color',\n",
       " 'CLICOLOR': '1',\n",
       " 'FORCE_COLOR': '1',\n",
       " 'CLICOLOR_FORCE': '1',\n",
       " 'PAGER': 'cat',\n",
       " 'GIT_PAGER': 'cat',\n",
       " 'MPLBACKEND': 'module://matplotlib_inline.backend_inline'}"
      ]
     },
     "execution_count": 28,
     "metadata": {},
     "output_type": "execute_result"
    }
   ],
   "source": [
    "%env"
   ]
  },
  {
   "cell_type": "markdown",
   "id": "b1294f2e",
   "metadata": {},
   "source": [
    "### %matplotlib"
   ]
  },
  {
   "cell_type": "markdown",
   "id": "60381dcd",
   "metadata": {},
   "source": [
    "此功能在IPython会话期间激活matplotlib交互式支持。但是，它不会导入matplotlib库。 matplotlib的默认GUI工具包是TkAgg。但是您可以显式请求其他GUI后端。您可以看到可用后端的列表，如下所示："
   ]
  },
  {
   "cell_type": "code",
   "execution_count": 29,
   "id": "416f3ccb",
   "metadata": {
    "ExecuteTime": {
     "end_time": "2023-12-14T09:27:34.079766Z",
     "start_time": "2023-12-14T09:27:34.074141Z"
    }
   },
   "outputs": [
    {
     "name": "stdout",
     "output_type": "stream",
     "text": [
      "Available matplotlib backends: ['tk', 'gtk', 'gtk3', 'gtk4', 'wx', 'qt4', 'qt5', 'qt6', 'qt', 'osx', 'nbagg', 'webagg', 'notebook', 'agg', 'svg', 'pdf', 'ps', 'inline', 'ipympl', 'widget']\n"
     ]
    }
   ],
   "source": [
    "%matplotlib --list"
   ]
  },
  {
   "cell_type": "code",
   "execution_count": 31,
   "id": "5575eed9",
   "metadata": {
    "ExecuteTime": {
     "end_time": "2023-12-14T09:28:05.220029Z",
     "start_time": "2023-12-14T09:28:05.214956Z"
    }
   },
   "outputs": [],
   "source": [
    "#%matplotlib inline 可以在Ipython编译器里直接使用，功能是可以内嵌绘图，并且可以省略掉plt.show()这一步\n",
    "%matplotlib inline"
   ]
  },
  {
   "cell_type": "markdown",
   "id": "14e88b8b",
   "metadata": {},
   "source": [
    "### %notebook"
   ]
  },
  {
   "cell_type": "markdown",
   "id": "42fd21e1",
   "metadata": {},
   "source": [
    "此函数将当前IPython历史记录转换为带有ipynb扩展名的IPython Notebook文件。"
   ]
  },
  {
   "cell_type": "markdown",
   "id": "a542a219",
   "metadata": {},
   "source": [
    "### %pwd"
   ]
  },
  {
   "cell_type": "markdown",
   "id": "efca76ce",
   "metadata": {},
   "source": [
    "此魔术函数返回当前的工作目录。"
   ]
  },
  {
   "cell_type": "code",
   "execution_count": 32,
   "id": "d74d57ed",
   "metadata": {
    "ExecuteTime": {
     "end_time": "2023-12-14T09:29:10.359305Z",
     "start_time": "2023-12-14T09:29:10.353980Z"
    }
   },
   "outputs": [
    {
     "data": {
      "text/plain": [
       "'D:\\\\Jupyter notebook\\\\src\\\\02.anaconda\\\\jupyter'"
      ]
     },
     "execution_count": 32,
     "metadata": {},
     "output_type": "execute_result"
    }
   ],
   "source": [
    "%pwd"
   ]
  },
  {
   "cell_type": "markdown",
   "id": "ad0ed7cb",
   "metadata": {},
   "source": [
    "###  %run"
   ]
  },
  {
   "cell_type": "markdown",
   "id": "99234f8f",
   "metadata": {},
   "source": [
    "此命令从IPython Shell中运行Python脚本。"
   ]
  },
  {
   "cell_type": "markdown",
   "id": "dd229279",
   "metadata": {},
   "source": [
    "### %time"
   ]
  },
  {
   "cell_type": "markdown",
   "id": "2dbca326",
   "metadata": {},
   "source": [
    "此命令显示IPython环境执行Python表达式所需的时间。"
   ]
  },
  {
   "cell_type": "markdown",
   "id": "88a90295",
   "metadata": {},
   "source": [
    "### %timeit"
   ]
  },
  {
   "cell_type": "markdown",
   "id": "2a49a7fc",
   "metadata": {},
   "source": [
    "此函数还显示IPython环境执行Python表达式所需的时间。 Python语句或表达式的时间执行使用timeit模块。此功能既可以用作行模式，也可以用作单元格模式，如此处所解释-\n",
    "- 在单行模式下，您可以为单行计时。\n",
    "- 在单元格模式中，第一行中的语句用作设置代码，并对单元格的主体进行计时。单元主体可以访问在设置代码中创建的任何变量。"
   ]
  },
  {
   "cell_type": "code",
   "execution_count": 33,
   "id": "2d3b8ab8",
   "metadata": {
    "ExecuteTime": {
     "end_time": "2023-12-14T09:30:37.085898Z",
     "start_time": "2023-12-14T09:30:31.508564Z"
    }
   },
   "outputs": [
    {
     "name": "stdout",
     "output_type": "stream",
     "text": [
      "6.89 ns ± 0.134 ns per loop (mean ± std. dev. of 7 runs, 100,000,000 loops each)\n"
     ]
    }
   ],
   "source": [
    "%timeit 1+1"
   ]
  },
  {
   "cell_type": "markdown",
   "id": "7994ac10",
   "metadata": {},
   "source": [
    "### %who"
   ]
  },
  {
   "cell_type": "markdown",
   "id": "0480ee97",
   "metadata": {},
   "source": [
    "此行魔术符以最小的格式打印所有交互式变量。如果给出任何参数，则仅打印类型与其中之一匹配的变量。"
   ]
  },
  {
   "cell_type": "code",
   "execution_count": 34,
   "id": "0a000f2e",
   "metadata": {
    "ExecuteTime": {
     "end_time": "2023-12-14T09:31:05.618253Z",
     "start_time": "2023-12-14T09:31:05.614777Z"
    }
   },
   "outputs": [
    {
     "name": "stdout",
     "output_type": "stream",
     "text": [
      "NamespaceMagics\t a\t autopep8\t get_ipython\t getsizeof\t i\t json\t my_dir\t np\t \n",
      "some_func\t var_dic_list\t x\t yapf_reformat\t \n"
     ]
    }
   ],
   "source": [
    "x = 1\n",
    "%who"
   ]
  },
  {
   "cell_type": "markdown",
   "id": "dc900c52",
   "metadata": {},
   "source": [
    "### %debug"
   ]
  },
  {
   "cell_type": "code",
   "execution_count": 14,
   "id": "40ba60c2",
   "metadata": {
    "ExecuteTime": {
     "end_time": "2023-12-14T08:34:42.213798Z",
     "start_time": "2023-12-14T08:34:39.828603Z"
    }
   },
   "outputs": [
    {
     "name": "stdout",
     "output_type": "stream",
     "text": [
      "> \u001b[1;32mc:\\users\\ikas\\appdata\\local\\temp\\ipykernel_26424\\1769282403.py\u001b[0m(48)\u001b[0;36m_getcontentof\u001b[1;34m()\u001b[0m\n",
      "\n",
      "ipdb> \n",
      "0\n",
      "1\n",
      "2\n",
      "3\n",
      "4\n"
     ]
    },
    {
     "ename": "ZeroDivisionError",
     "evalue": "division by zero",
     "output_type": "error",
     "traceback": [
      "\u001b[1;31m---------------------------------------------------------------------------\u001b[0m",
      "\u001b[1;31mZeroDivisionError\u001b[0m                         Traceback (most recent call last)",
      "Cell \u001b[1;32mIn[14], line 9\u001b[0m\n\u001b[0;32m      6\u001b[0m     \u001b[38;5;28;01mreturn\u001b[39;00m \u001b[38;5;124m'\u001b[39m\u001b[38;5;124mfinished\u001b[39m\u001b[38;5;124m'\u001b[39m\n\u001b[0;32m      8\u001b[0m get_ipython()\u001b[38;5;241m.\u001b[39mrun_line_magic(\u001b[38;5;124m'\u001b[39m\u001b[38;5;124mdebug\u001b[39m\u001b[38;5;124m'\u001b[39m, \u001b[38;5;124m'\u001b[39m\u001b[38;5;124m'\u001b[39m)\n\u001b[1;32m----> 9\u001b[0m some_func()\n",
      "Cell \u001b[1;32mIn[14], line 5\u001b[0m, in \u001b[0;36msome_func\u001b[1;34m()\u001b[0m\n\u001b[0;32m      3\u001b[0m \u001b[38;5;28;01mfor\u001b[39;00m i \u001b[38;5;129;01min\u001b[39;00m \u001b[38;5;28mrange\u001b[39m(\u001b[38;5;241m5\u001b[39m):\n\u001b[0;32m      4\u001b[0m     \u001b[38;5;28mprint\u001b[39m(i)\n\u001b[1;32m----> 5\u001b[0m i \u001b[38;5;241m/\u001b[39m \u001b[38;5;241m0\u001b[39m\n\u001b[0;32m      6\u001b[0m \u001b[38;5;28;01mreturn\u001b[39;00m \u001b[38;5;124m'\u001b[39m\u001b[38;5;124mfinished\u001b[39m\u001b[38;5;124m'\u001b[39m\n",
      "\u001b[1;31mZeroDivisionError\u001b[0m: division by zero"
     ]
    }
   ],
   "source": [
    "def some_func():\n",
    "    var = 'hello world'\n",
    "    for i in range(5):\n",
    "        print(i)\n",
    "    i / 0\n",
    "    return 'finished'\n",
    "\n",
    "%debug \n",
    "some_func()"
   ]
  },
  {
   "cell_type": "markdown",
   "id": "6bda46e8",
   "metadata": {},
   "source": [
    "### %store"
   ]
  },
  {
   "cell_type": "code",
   "execution_count": 24,
   "id": "fe8cf05a",
   "metadata": {
    "ExecuteTime": {
     "end_time": "2023-12-14T08:47:19.995799Z",
     "start_time": "2023-12-14T08:47:19.989427Z"
    }
   },
   "outputs": [
    {
     "name": "stdout",
     "output_type": "stream",
     "text": [
      "Stored 'a' (int)\n"
     ]
    }
   ],
   "source": [
    "a = 1+1\n",
    "#在当前笔记本保存变量\n",
    "%store a"
   ]
  },
  {
   "cell_type": "code",
   "execution_count": 25,
   "id": "380054a3",
   "metadata": {
    "ExecuteTime": {
     "end_time": "2023-12-14T08:47:20.854911Z",
     "start_time": "2023-12-14T08:47:20.845968Z"
    }
   },
   "outputs": [
    {
     "data": {
      "text/plain": [
       "2"
      ]
     },
     "execution_count": 25,
     "metadata": {},
     "output_type": "execute_result"
    }
   ],
   "source": [
    "#在下一个笔记本读取变量\n",
    "%store -r a\n",
    "a"
   ]
  },
  {
   "cell_type": "markdown",
   "id": "ad0e4776",
   "metadata": {},
   "source": [
    "## 单元格魔法命令 %%"
   ]
  },
  {
   "cell_type": "markdown",
   "id": "53b48a1c",
   "metadata": {},
   "source": [
    "**所有的单元格魔法命令应该放在单元格的最开始。**"
   ]
  },
  {
   "cell_type": "markdown",
   "id": "849731ba",
   "metadata": {},
   "source": [
    "- %%time, %%timeit: 测量整个单元格的执行时间。\n",
    "- %%writefile: 将单元格内容写入文件。\n",
    "- %%html: 将单元格内容解释为 HTML。\n",
    "- %%bash, %%capture: 在单元格中运行 Bash 命令。"
   ]
  },
  {
   "cell_type": "markdown",
   "id": "910d3646",
   "metadata": {},
   "source": [
    "### %%time"
   ]
  },
  {
   "cell_type": "code",
   "execution_count": 3,
   "id": "21da1c73",
   "metadata": {
    "ExecuteTime": {
     "end_time": "2023-12-14T08:25:15.931107Z",
     "start_time": "2023-12-14T08:25:15.791855Z"
    }
   },
   "outputs": [
    {
     "name": "stdout",
     "output_type": "stream",
     "text": [
      "CPU times: total: 141 ms\n",
      "Wall time: 133 ms\n"
     ]
    }
   ],
   "source": [
    "%%time\n",
    "#魔法命令要顶格\n",
    "for i in range(1000000):\n",
    "    _ = i * 2"
   ]
  },
  {
   "cell_type": "markdown",
   "id": "9e6a2e70",
   "metadata": {},
   "source": [
    "### %%!"
   ]
  },
  {
   "cell_type": "markdown",
   "id": "ad65755a",
   "metadata": {},
   "source": [
    "在windows中，使用命令行需要打开cmd窗口，如果你使用notebook，则可以通过!方法轻松执行命令行代码。"
   ]
  },
  {
   "cell_type": "code",
   "execution_count": 18,
   "id": "e202330a",
   "metadata": {
    "ExecuteTime": {
     "end_time": "2023-12-14T08:38:25.479827Z",
     "start_time": "2023-12-14T08:38:25.380880Z"
    }
   },
   "outputs": [
    {
     "data": {
      "text/plain": [
       "[]"
      ]
     },
     "execution_count": 18,
     "metadata": {},
     "output_type": "execute_result"
    }
   ],
   "source": [
    "%%!\n",
    "# 新建文件夹\n",
    "my_dir = 'new_dir'\n",
    "mkdir $my_dir"
   ]
  },
  {
   "cell_type": "code",
   "execution_count": null,
   "id": "a71d7119",
   "metadata": {},
   "outputs": [],
   "source": []
  }
 ],
 "metadata": {
  "hide_input": false,
  "kernelspec": {
   "display_name": "Python 3 (ipykernel)",
   "language": "python",
   "name": "python3"
  },
  "language_info": {
   "codemirror_mode": {
    "name": "ipython",
    "version": 3
   },
   "file_extension": ".py",
   "mimetype": "text/x-python",
   "name": "python",
   "nbconvert_exporter": "python",
   "pygments_lexer": "ipython3",
   "version": "3.11.5"
  },
  "nbTranslate": {
   "displayLangs": [
    "*"
   ],
   "hotkey": "alt-t",
   "langInMainMenu": true,
   "sourceLang": "en",
   "targetLang": "fr",
   "useGoogleTranslate": true
  },
  "toc": {
   "base_numbering": 1,
   "nav_menu": {},
   "number_sections": true,
   "sideBar": true,
   "skip_h1_title": false,
   "title_cell": "Table of Contents",
   "title_sidebar": "Contents",
   "toc_cell": false,
   "toc_position": {
    "height": "calc(100% - 180px)",
    "left": "10px",
    "top": "150px",
    "width": "227.667px"
   },
   "toc_section_display": true,
   "toc_window_display": true
  },
  "varInspector": {
   "cols": {
    "lenName": 16,
    "lenType": 16,
    "lenVar": 40
   },
   "kernels_config": {
    "python": {
     "delete_cmd_postfix": "",
     "delete_cmd_prefix": "del ",
     "library": "var_list.py",
     "varRefreshCmd": "print(var_dic_list())"
    },
    "r": {
     "delete_cmd_postfix": ") ",
     "delete_cmd_prefix": "rm(",
     "library": "var_list.r",
     "varRefreshCmd": "cat(var_dic_list()) "
    }
   },
   "types_to_exclude": [
    "module",
    "function",
    "builtin_function_or_method",
    "instance",
    "_Feature"
   ],
   "window_display": false
  }
 },
 "nbformat": 4,
 "nbformat_minor": 5
}
