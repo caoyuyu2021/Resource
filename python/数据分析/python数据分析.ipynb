{
 "cells": [
  {
   "cell_type": "markdown",
   "id": "71b0d3df",
   "metadata": {},
   "source": [
    "<font face=\"微软雅黑\" color=green size=5>Python数据分析</font>"
   ]
  },
  {
   "cell_type": "markdown",
   "id": "c1a1f7f8",
   "metadata": {},
   "source": [
    "# numpy基础"
   ]
  },
  {
   "cell_type": "markdown",
   "id": "6070e3d0",
   "metadata": {},
   "source": [
    "numpy的核心特征之一就是N维数组对象ndarray，ndarray是python中一个快速，灵活的大型数据集容器，它包含的每一个元素均为相同类型。"
   ]
  },
  {
   "cell_type": "code",
   "execution_count": 2,
   "id": "23528c3b",
   "metadata": {
    "ExecuteTime": {
     "end_time": "2023-05-24T06:34:20.047885Z",
     "start_time": "2023-05-24T06:34:19.970628Z"
    }
   },
   "outputs": [],
   "source": [
    "import numpy as np"
   ]
  },
  {
   "cell_type": "markdown",
   "id": "dcb63d97",
   "metadata": {},
   "source": [
    "shape 用来表征数组每一维度的数量 数组名.shape  \n",
    "dtype 用来描述数组的数据类型 数组名.dtype  \n",
    "ndim 用来查看维度"
   ]
  },
  {
   "cell_type": "markdown",
   "id": "dd8c2fde",
   "metadata": {},
   "source": [
    "## 生成数组"
   ]
  },
  {
   "cell_type": "markdown",
   "id": "d70bd83e",
   "metadata": {},
   "source": [
    "array() np.array(变量名) np.array(list) 将列表转换成数组  \n",
    "zeros() 一次性创造全是0的数组 np.zeros(数字) 一维 np.zeros((n, m)) n×m数组  \n",
    "ones() 一次性创造全是1的数组  用法同zeros()  \n",
    "empty() 创建一个没有初始化数值的数组 用法同zeros()  "
   ]
  },
  {
   "cell_type": "markdown",
   "id": "abd094e8",
   "metadata": {},
   "source": [
    "## 索引与切片"
   ]
  },
  {
   "cell_type": "markdown",
   "id": "04646078",
   "metadata": {},
   "source": [
    "一维数组  \n",
    "数组名[n] 索引n处的值，一维数组索引与列表相同，可看成是列表  \n",
    "数组名[n:m] 索引n到m-1处的值，如果是高维，返回n到m-1行的数组  "
   ]
  },
  {
   "cell_type": "markdown",
   "id": "159cd608",
   "metadata": {},
   "source": [
    "二维数组，每个索引值对应的元素不再是一个值，而是一个一维数组    \n",
    "数组名[n][m] 单个元素n,m处  \n",
    "数组名[n,m] 单个元素n,m处  \n",
    "数组名[n] 第n行元素"
   ]
  },
  {
   "cell_type": "markdown",
   "id": "c6a8f075",
   "metadata": {},
   "source": [
    "多维数组  \n",
    "数组名[n] 返回的对象是一个降低一个维度的数组，每个平面的第n行组成的二维数组  \n",
    "数组名[n,m] 返回一个一维数组  \n",
    "数组名[n1:n2, m1:m2] 返回n1到n2-1行，m1到m2-1列的数组  "
   ]
  },
  {
   "cell_type": "markdown",
   "id": "b8e2b51c",
   "metadata": {},
   "source": [
    "## 神奇索引"
   ]
  },
  {
   "cell_type": "markdown",
   "id": "a298d7b0",
   "metadata": {},
   "source": [
    "为了选出一个符合特定顺序的子集，可以通过传递一个包含指明所需顺序的列表或数组来完成。  \n",
    "数组名[[n]] 提取第n行的数组  \n",
    "数组名[[n1,n2,n3]] 提取索引为n1,n2,n3行的数组  \n",
    "数组名[[n1,n2,n3],[m1,m2,m3]] 提取索引为(n1,m1),(n2,m2),(n3,m3)的元素"
   ]
  },
  {
   "cell_type": "markdown",
   "id": "25e1a286",
   "metadata": {},
   "source": [
    "## 数组转置"
   ]
  },
  {
   "cell_type": "markdown",
   "id": "37f432f7",
   "metadata": {},
   "source": [
    "数组名.T  \n",
    "矩阵内积 np.dot(arr.T,arr)  \n",
    "arange python内建函数range的数组版，返回一个数组，np.arange(n) n从0开始，到n-1结束。  \n",
    "transpose 置换轴"
   ]
  },
  {
   "cell_type": "markdown",
   "id": "8eec1c64",
   "metadata": {},
   "source": [
    "## 通用函数"
   ]
  },
  {
   "cell_type": "markdown",
   "id": "4da5ebec",
   "metadata": {},
   "source": [
    "np.sqrt(数组名) 开方  \n",
    "np.exp(数组名) 指数  \n",
    "np.square(数组名) 平方  \n",
    "np.add(x,y) 加  \n",
    "np.multiply() 乘  \n",
    "np.divide() 除  \n",
    "np.where(条件,数组1,数组2) 类似三元表达式   \n",
    "np.nan 代表NaN"
   ]
  },
  {
   "cell_type": "code",
   "execution_count": 3,
   "id": "07d9b794",
   "metadata": {
    "ExecuteTime": {
     "end_time": "2022-06-04T14:52:31.498610Z",
     "start_time": "2022-06-04T14:52:31.486157Z"
    }
   },
   "outputs": [
    {
     "data": {
      "text/plain": [
       "array([[-2, -2, -2, -2],\n",
       "       [-2,  2,  2, -2],\n",
       "       [ 2,  2, -2, -2],\n",
       "       [-2,  2, -2,  2]])"
      ]
     },
     "execution_count": 3,
     "metadata": {},
     "output_type": "execute_result"
    }
   ],
   "source": [
    "arr = np.random.randn(4,4)\n",
    "np.where(arr>0, 2, -2)"
   ]
  },
  {
   "cell_type": "markdown",
   "id": "85e38dac",
   "metadata": {},
   "source": [
    "## 数学与统计方法"
   ]
  },
  {
   "cell_type": "markdown",
   "id": "199e8c18",
   "metadata": {},
   "source": [
    "数组名.sum(axis=0或1) 或np.sum(数组名) 求和   \n",
    "数组名.mean() 平均值  \n",
    "数组名.std() 标准差  \n",
    "数组名.var() 方差  \n",
    "axis=0 对行进行操作，等价于DataFrame中 axis='index'  \n",
    "axis=1 对列进行操作，等价于DataFrame中 axis='columns'  \n",
    "axis=i 沿着第i个下标变化的方向进行操作   \n",
    "数组名.sort() 或np.sort(数组名) 排序升序  \n",
    "np.argsort(数组名) 返回排序后的索引  \n",
    "np.sort(数组名)[::-1] 降序排列  \n",
    "np.flipub(数组名) 翻转元组，也可以用数组名[::-1]\n",
    "np.random.seed(1) 随机种子  \n",
    "np.random.rand((n,m)) 从均匀分布中抽取样本生成n×m的数组  \n",
    "np.random.randn((n,m)) 从标准正态分布中抽取样本生成n×m的数组 "
   ]
  },
  {
   "cell_type": "markdown",
   "id": "585736ce",
   "metadata": {},
   "source": [
    "## 重塑数组"
   ]
  },
  {
   "cell_type": "markdown",
   "id": "a068ddc9",
   "metadata": {},
   "source": [
    "很多情况下，将数组从一个形状转换为另一个形状，并且不复制任何数据，可以用reshape方法。"
   ]
  },
  {
   "cell_type": "code",
   "execution_count": 5,
   "id": "5c7659a2",
   "metadata": {
    "ExecuteTime": {
     "end_time": "2022-06-04T15:04:01.473249Z",
     "start_time": "2022-06-04T15:04:01.465805Z"
    }
   },
   "outputs": [
    {
     "data": {
      "text/plain": [
       "array([0, 1, 2, 3, 4, 5, 6, 7])"
      ]
     },
     "execution_count": 5,
     "metadata": {},
     "output_type": "execute_result"
    }
   ],
   "source": [
    "arr = np.arange(8)\n",
    "arr"
   ]
  },
  {
   "cell_type": "code",
   "execution_count": 6,
   "id": "8cc5dbc0",
   "metadata": {
    "ExecuteTime": {
     "end_time": "2022-06-04T15:04:18.735641Z",
     "start_time": "2022-06-04T15:04:18.724939Z"
    }
   },
   "outputs": [
    {
     "data": {
      "text/plain": [
       "array([[0, 1],\n",
       "       [2, 3],\n",
       "       [4, 5],\n",
       "       [6, 7]])"
      ]
     },
     "execution_count": 6,
     "metadata": {},
     "output_type": "execute_result"
    }
   ],
   "source": [
    "arr.reshape((4,2))"
   ]
  },
  {
   "cell_type": "markdown",
   "id": "b0ac33ae",
   "metadata": {},
   "source": [
    "将更高维的数组转换为一维数组（扁平化、分散化）。"
   ]
  },
  {
   "cell_type": "code",
   "execution_count": 7,
   "id": "28791007",
   "metadata": {
    "ExecuteTime": {
     "end_time": "2022-06-04T15:05:57.402568Z",
     "start_time": "2022-06-04T15:05:57.394021Z"
    }
   },
   "outputs": [
    {
     "data": {
      "text/plain": [
       "array([0, 1, 2, 3, 4, 5, 6, 7])"
      ]
     },
     "execution_count": 7,
     "metadata": {},
     "output_type": "execute_result"
    }
   ],
   "source": [
    "arr.ravel()"
   ]
  },
  {
   "cell_type": "code",
   "execution_count": 8,
   "id": "bd88afe3",
   "metadata": {
    "ExecuteTime": {
     "end_time": "2022-06-04T15:06:10.648332Z",
     "start_time": "2022-06-04T15:06:10.628786Z"
    }
   },
   "outputs": [
    {
     "data": {
      "text/plain": [
       "array([0, 1, 2, 3, 4, 5, 6, 7])"
      ]
     },
     "execution_count": 8,
     "metadata": {},
     "output_type": "execute_result"
    }
   ],
   "source": [
    "arr.flatten()"
   ]
  },
  {
   "cell_type": "markdown",
   "id": "34e45dfb",
   "metadata": {},
   "source": [
    "## 复制数组"
   ]
  },
  {
   "cell_type": "markdown",
   "id": "0268c7e3",
   "metadata": {},
   "source": [
    "np.tile() 把数组沿各个方向复制"
   ]
  },
  {
   "cell_type": "code",
   "execution_count": 9,
   "id": "870c4a59",
   "metadata": {
    "ExecuteTime": {
     "end_time": "2022-06-04T15:09:29.006270Z",
     "start_time": "2022-06-04T15:09:28.998175Z"
    }
   },
   "outputs": [
    {
     "data": {
      "text/plain": [
       "array([[0, 1, 2],\n",
       "       [0, 1, 2]])"
      ]
     },
     "execution_count": 9,
     "metadata": {},
     "output_type": "execute_result"
    }
   ],
   "source": [
    "a = np.array([0,1,2])\n",
    "np.tile(a,(2,1)) #把a先沿x轴复制1倍，再把结果沿y轴复制两倍"
   ]
  },
  {
   "cell_type": "code",
   "execution_count": 10,
   "id": "b339569d",
   "metadata": {
    "ExecuteTime": {
     "end_time": "2022-06-04T15:10:54.491762Z",
     "start_time": "2022-06-04T15:10:54.479120Z"
    }
   },
   "outputs": [
    {
     "data": {
      "text/plain": [
       "array([0, 1, 2, 0, 1, 2])"
      ]
     },
     "execution_count": 10,
     "metadata": {},
     "output_type": "execute_result"
    }
   ],
   "source": [
    "np.tile(a, 2) #沿x轴复制2倍"
   ]
  },
  {
   "cell_type": "markdown",
   "id": "098c3104",
   "metadata": {},
   "source": [
    "np.linspace() 创建等差数列"
   ]
  },
  {
   "cell_type": "code",
   "execution_count": 11,
   "id": "da2fcecb",
   "metadata": {
    "ExecuteTime": {
     "end_time": "2022-06-04T15:12:19.509711Z",
     "start_time": "2022-06-04T15:12:19.497363Z"
    }
   },
   "outputs": [
    {
     "data": {
      "text/plain": [
       "array([ 0.,  1.,  2.,  3.,  4.,  5.,  6.,  7.,  8.,  9., 10.])"
      ]
     },
     "execution_count": 11,
     "metadata": {},
     "output_type": "execute_result"
    }
   ],
   "source": [
    "np.linspace(0,10,11) #第一个起始值，第二个终点值，第三个数量"
   ]
  },
  {
   "cell_type": "markdown",
   "id": "dc17c0d1",
   "metadata": {},
   "source": [
    "## 连接和分割数组"
   ]
  },
  {
   "cell_type": "markdown",
   "id": "feee35ae",
   "metadata": {},
   "source": [
    "1、np.concatenate() 可以获取数组的序列，并沿着输入轴将他们按顺序连接在一起。"
   ]
  },
  {
   "cell_type": "code",
   "execution_count": 13,
   "id": "d603d9f1",
   "metadata": {
    "ExecuteTime": {
     "end_time": "2022-06-04T15:16:30.684553Z",
     "start_time": "2022-06-04T15:16:30.664705Z"
    }
   },
   "outputs": [
    {
     "data": {
      "text/plain": [
       "array([[ 1,  2,  3],\n",
       "       [ 4,  5,  6],\n",
       "       [ 7,  8,  9],\n",
       "       [10, 11, 12]])"
      ]
     },
     "execution_count": 13,
     "metadata": {},
     "output_type": "execute_result"
    }
   ],
   "source": [
    "arr1 = np.array([[1,2,3],[4,5,6]])\n",
    "arr2 = np.array([[7,8,9],[10,11,12]])\n",
    "np.concatenate([arr1,arr2],axis=0)"
   ]
  },
  {
   "cell_type": "code",
   "execution_count": 14,
   "id": "7011cbeb",
   "metadata": {
    "ExecuteTime": {
     "end_time": "2022-06-04T15:16:49.077972Z",
     "start_time": "2022-06-04T15:16:49.067999Z"
    }
   },
   "outputs": [
    {
     "data": {
      "text/plain": [
       "array([[ 1,  2,  3,  7,  8,  9],\n",
       "       [ 4,  5,  6, 10, 11, 12]])"
      ]
     },
     "execution_count": 14,
     "metadata": {},
     "output_type": "execute_result"
    }
   ],
   "source": [
    "np.concatenate([arr1,arr2],axis=1)"
   ]
  },
  {
   "cell_type": "markdown",
   "id": "ae0b3fd2",
   "metadata": {},
   "source": [
    "2、split可以将数组沿轴向切片成多个数组。"
   ]
  },
  {
   "cell_type": "code",
   "execution_count": 16,
   "id": "14d1cb93",
   "metadata": {
    "ExecuteTime": {
     "end_time": "2022-06-04T15:18:35.211922Z",
     "start_time": "2022-06-04T15:18:35.190706Z"
    }
   },
   "outputs": [
    {
     "data": {
      "text/plain": [
       "[array([[1, 2, 3]]), array([[4, 5, 6]]), array([], shape=(0, 3), dtype=int32)]"
      ]
     },
     "execution_count": 16,
     "metadata": {},
     "output_type": "execute_result"
    }
   ],
   "source": [
    "np.split(arr1,[1,2]) #[1,2]表示将数组拆分时的索引位置"
   ]
  },
  {
   "cell_type": "markdown",
   "id": "c7afb920",
   "metadata": {},
   "source": [
    "3、数组后面追加数组"
   ]
  },
  {
   "cell_type": "code",
   "execution_count": 17,
   "id": "920c5efa",
   "metadata": {
    "ExecuteTime": {
     "end_time": "2022-06-04T15:22:47.096696Z",
     "start_time": "2022-06-04T15:22:47.079311Z"
    }
   },
   "outputs": [
    {
     "data": {
      "text/plain": [
       "array([[ 1,  2,  3],\n",
       "       [ 4,  5,  6],\n",
       "       [ 7,  8,  9],\n",
       "       [10, 11, 12]])"
      ]
     },
     "execution_count": 17,
     "metadata": {},
     "output_type": "execute_result"
    }
   ],
   "source": [
    "np.append(arr1,arr2,axis=0) #按行追加"
   ]
  },
  {
   "cell_type": "markdown",
   "id": "b62ac6b1",
   "metadata": {},
   "source": [
    "## broadcast（广播机制）"
   ]
  },
  {
   "cell_type": "markdown",
   "id": "6d7bafab",
   "metadata": {},
   "source": [
    "广播”指的是在不同维度的数组之间进行算术运算的一种执行机制，其通过将数据矢量化进行高效的运算。"
   ]
  },
  {
   "cell_type": "markdown",
   "id": "d7229eaa",
   "metadata": {},
   "source": [
    "通常只在对多个数组进行对应元素操作形状不同时，才会发生广播。\n",
    "那什么是对应元素进行操作呢？比如："
   ]
  },
  {
   "cell_type": "code",
   "execution_count": 5,
   "id": "bef97f0f",
   "metadata": {
    "ExecuteTime": {
     "end_time": "2023-05-24T06:34:54.601905Z",
     "start_time": "2023-05-24T06:34:54.586917Z"
    }
   },
   "outputs": [
    {
     "data": {
      "text/plain": [
       "array([2, 4, 6])"
      ]
     },
     "execution_count": 5,
     "metadata": {},
     "output_type": "execute_result"
    }
   ],
   "source": [
    "a = np.array([1,2,3])\n",
    "b = np.array([2,2,2])\n",
    "a*b \n",
    "# a和b对应元素相乘\n",
    "# a*b的结果是： [1*2,2*2,3*2]"
   ]
  },
  {
   "cell_type": "markdown",
   "id": "5986fc55",
   "metadata": {},
   "source": [
    "什么叫做形状不同呢？"
   ]
  },
  {
   "cell_type": "code",
   "execution_count": 7,
   "id": "4a6876ce",
   "metadata": {
    "ExecuteTime": {
     "end_time": "2023-05-24T06:36:01.986076Z",
     "start_time": "2023-05-24T06:36:01.971169Z"
    }
   },
   "outputs": [
    {
     "data": {
      "text/plain": [
       "array([2, 4, 6])"
      ]
     },
     "execution_count": 7,
     "metadata": {},
     "output_type": "execute_result"
    }
   ],
   "source": [
    "a = np.array([1,2,3])\n",
    "b = 2\n",
    "a*b #a是1维向量，b是标量，这就是形状不同\n",
    "# 结果也是：[1*2,2*2, 3*2]"
   ]
  },
  {
   "cell_type": "markdown",
   "id": "1ea8416c",
   "metadata": {},
   "source": [
    "这是因为发生了广播。b被填充为[2,2,2]\n",
    "然后a\\*b的效果变成了，[1,2,3]*[2,2,2]"
   ]
  },
  {
   "cell_type": "markdown",
   "id": "cc985c30",
   "metadata": {},
   "source": [
    "可以广播的几种情况："
   ]
  },
  {
   "cell_type": "markdown",
   "id": "881a9db9",
   "metadata": {},
   "source": [
    "假定只有两个数组进行操作，即A+B、A*B这种情况。"
   ]
  },
  {
   "cell_type": "markdown",
   "id": "2ca84a89",
   "metadata": {},
   "source": [
    "**两个数组各维度大小从后往前比对均一致**"
   ]
  },
  {
   "cell_type": "code",
   "execution_count": 8,
   "id": "4aecd27f",
   "metadata": {
    "ExecuteTime": {
     "end_time": "2023-05-24T06:45:56.681611Z",
     "start_time": "2023-05-24T06:45:56.666661Z"
    }
   },
   "outputs": [
    {
     "name": "stdout",
     "output_type": "stream",
     "text": [
      "(2, 5, 3, 4)\n",
      "(3, 4)\n"
     ]
    }
   ],
   "source": [
    "A = np.zeros((2,5,3,4))\n",
    "B = np.zeros((3,4))\n",
    "print((A+B).shape) # 输出 (2, 5, 3, 4)\n",
    "\n",
    "A = np.zeros((4))\n",
    "B = np.zeros((3,4))\n",
    "print((A+B).shape) # 输出(3,4)"
   ]
  },
  {
   "cell_type": "code",
   "execution_count": 9,
   "id": "db8b60de",
   "metadata": {
    "ExecuteTime": {
     "end_time": "2023-05-24T06:46:11.556847Z",
     "start_time": "2023-05-24T06:46:11.537377Z"
    }
   },
   "outputs": [
    {
     "ename": "ValueError",
     "evalue": "operands could not be broadcast together with shapes (2,5,3,4) (3,3) ",
     "output_type": "error",
     "traceback": [
      "\u001b[1;31m---------------------------------------------------------------------------\u001b[0m",
      "\u001b[1;31mValueError\u001b[0m                                Traceback (most recent call last)",
      "Cell \u001b[1;32mIn[9], line 3\u001b[0m\n\u001b[0;32m      1\u001b[0m A \u001b[38;5;241m=\u001b[39m np\u001b[38;5;241m.\u001b[39mzeros((\u001b[38;5;241m2\u001b[39m,\u001b[38;5;241m5\u001b[39m,\u001b[38;5;241m3\u001b[39m,\u001b[38;5;241m4\u001b[39m))\n\u001b[0;32m      2\u001b[0m B \u001b[38;5;241m=\u001b[39m np\u001b[38;5;241m.\u001b[39mzeros((\u001b[38;5;241m3\u001b[39m,\u001b[38;5;241m3\u001b[39m))\n\u001b[1;32m----> 3\u001b[0m \u001b[38;5;28mprint\u001b[39m((\u001b[43mA\u001b[49m\u001b[38;5;241;43m+\u001b[39;49m\u001b[43mB\u001b[49m)\u001b[38;5;241m.\u001b[39mshape)\n",
      "\u001b[1;31mValueError\u001b[0m: operands could not be broadcast together with shapes (2,5,3,4) (3,3) "
     ]
    }
   ],
   "source": [
    "A = np.zeros((2,5,3,4))\n",
    "B = np.zeros((3,3))\n",
    "print((A+B).shape)"
   ]
  },
  {
   "cell_type": "markdown",
   "id": "752bd323",
   "metadata": {},
   "source": [
    "为啥呢？因为最后一维的大小A是4，B是3，不一致。"
   ]
  },
  {
   "cell_type": "markdown",
   "id": "35ef65d1",
   "metadata": {},
   "source": [
    "**两个数组存在一些维度大小不相等时，有一个不相等数组的维度大小为1**"
   ]
  },
  {
   "cell_type": "code",
   "execution_count": 10,
   "id": "9ae231b7",
   "metadata": {
    "ExecuteTime": {
     "end_time": "2023-05-24T06:48:29.775204Z",
     "start_time": "2023-05-24T06:48:29.762247Z"
    }
   },
   "outputs": [
    {
     "name": "stdout",
     "output_type": "stream",
     "text": [
      "(2, 5, 3, 4)\n",
      "(2, 5, 3, 4)\n",
      "(3, 4)\n"
     ]
    }
   ],
   "source": [
    "A = np.zeros((2,5,3,4))\n",
    "B = np.zeros((3,1))\n",
    "print((A+B).shape) # 输出：(2, 5, 3, 4)\n",
    "\n",
    "A = np.zeros((2,5,3,4))\n",
    "B = np.zeros((2,1,1,4))\n",
    "print((A+B).shape) # 输出：(2, 5, 3, 4)\n",
    "\n",
    "A = np.zeros((1))\n",
    "B = np.zeros((3,4))\n",
    "print((A+B).shape) # 输出(3,4)"
   ]
  },
  {
   "cell_type": "code",
   "execution_count": 11,
   "id": "b2ba12d3",
   "metadata": {
    "ExecuteTime": {
     "end_time": "2023-05-24T06:49:18.918762Z",
     "start_time": "2023-05-24T06:49:18.897350Z"
    }
   },
   "outputs": [
    {
     "ename": "ValueError",
     "evalue": "operands could not be broadcast together with shapes (2,5,3,4) (2,4,1,4) ",
     "output_type": "error",
     "traceback": [
      "\u001b[1;31m---------------------------------------------------------------------------\u001b[0m",
      "\u001b[1;31mValueError\u001b[0m                                Traceback (most recent call last)",
      "Cell \u001b[1;32mIn[11], line 4\u001b[0m\n\u001b[0;32m      2\u001b[0m A \u001b[38;5;241m=\u001b[39m np\u001b[38;5;241m.\u001b[39mzeros((\u001b[38;5;241m2\u001b[39m,\u001b[38;5;241m5\u001b[39m,\u001b[38;5;241m3\u001b[39m,\u001b[38;5;241m4\u001b[39m))\n\u001b[0;32m      3\u001b[0m B \u001b[38;5;241m=\u001b[39m np\u001b[38;5;241m.\u001b[39mzeros((\u001b[38;5;241m2\u001b[39m,\u001b[38;5;241m4\u001b[39m,\u001b[38;5;241m1\u001b[39m,\u001b[38;5;241m4\u001b[39m))\n\u001b[1;32m----> 4\u001b[0m \u001b[38;5;28mprint\u001b[39m((\u001b[43mA\u001b[49m\u001b[38;5;241;43m+\u001b[39;49m\u001b[43mB\u001b[49m)\u001b[38;5;241m.\u001b[39mshape)\n",
      "\u001b[1;31mValueError\u001b[0m: operands could not be broadcast together with shapes (2,5,3,4) (2,4,1,4) "
     ]
    }
   ],
   "source": [
    "# 下面是报错案例\n",
    "A = np.zeros((2,5,3,4))\n",
    "B = np.zeros((2,4,1,4))\n",
    "print((A+B).shape)"
   ]
  },
  {
   "cell_type": "markdown",
   "id": "028eb1e7",
   "metadata": {},
   "source": [
    "为啥报错？因为A和B的第2维不相等。并且都不等于1."
   ]
  },
  {
   "cell_type": "markdown",
   "id": "2f5ae028",
   "metadata": {},
   "source": [
    "**使用numpy的广播机制代替for循环以提高效率**"
   ]
  },
  {
   "cell_type": "code",
   "execution_count": 17,
   "id": "a38204ec",
   "metadata": {
    "ExecuteTime": {
     "end_time": "2023-05-24T06:55:33.729559Z",
     "start_time": "2023-05-24T06:55:28.633971Z"
    }
   },
   "outputs": [
    {
     "name": "stdout",
     "output_type": "stream",
     "text": [
      "cost of broadcast:  0.042083740234375\n",
      "cost of _for_:  4.9777257442474365\n",
      "c2 - c1 == 0?:  True\n"
     ]
    }
   ],
   "source": [
    "def contrast(n,f,k):\n",
    "    import time\n",
    "    data = np.random.rand(n, f)\n",
    "    centers = data[:k]\n",
    "    t1 = time.time()\n",
    "    c1 = (data[:,:,None]-centers.T[None,:,:])**2\n",
    "    t2 = time.time()\n",
    "    print('cost of broadcast: ',str(t2-t1))\n",
    "    c2 = np.ones((n,f,k))-1\n",
    "    t1 = time.time()\n",
    "    for i in range(n):\n",
    "        for j in range(f):\n",
    "            for g in range(k):\n",
    "                c2[i,j,g] = (data[i,j]-centers[g,j])**2\n",
    "    t2 = time.time()\n",
    "    print('cost of _for_: ',str(t2-t1))\n",
    "    print('c2 - c1 == 0?: ',str((c2-c1).all()==0))\n",
    "\n",
    "def test_time_cost(n,f,k):\n",
    "    contrast(n,f,k)\n",
    "\n",
    "if __name__ == '__main__':\n",
    "    test_time_cost(200000,5,10)"
   ]
  },
  {
   "cell_type": "markdown",
   "id": "f7c68954",
   "metadata": {},
   "source": [
    "## 数组增加维度"
   ]
  },
  {
   "cell_type": "markdown",
   "id": "760231e8",
   "metadata": {},
   "source": [
    "np.newaxis的作用就是在这一位置增加一个一维，这一位置指的是np.newaxis所在的位置"
   ]
  },
  {
   "cell_type": "code",
   "execution_count": 19,
   "id": "c21edd81",
   "metadata": {
    "ExecuteTime": {
     "end_time": "2023-05-24T07:00:58.235456Z",
     "start_time": "2023-05-24T07:00:58.217098Z"
    }
   },
   "outputs": [
    {
     "name": "stdout",
     "output_type": "stream",
     "text": [
      "(4,)\n",
      "(4, 1)\n",
      "(1, 4)\n"
     ]
    }
   ],
   "source": [
    "a = np.array([0.0, 10.0, 20.0, 30.0])\n",
    "print(a.shape)\n",
    "b = a[:, np.newaxis]\n",
    "print(b.shape)\n",
    "c = a[np.newaxis, :]\n",
    "print(c.shape)"
   ]
  },
  {
   "cell_type": "markdown",
   "id": "02bd3b63",
   "metadata": {},
   "source": [
    "### newaxis本质"
   ]
  },
  {
   "cell_type": "markdown",
   "id": "78006d7b",
   "metadata": {},
   "source": [
    "np.newaxis 在使用和功能上等价于 None，其实就是 None 的一个别名。"
   ]
  },
  {
   "cell_type": "code",
   "execution_count": 20,
   "id": "d2caba04",
   "metadata": {
    "ExecuteTime": {
     "end_time": "2023-05-24T07:02:37.925374Z",
     "start_time": "2023-05-24T07:02:37.921424Z"
    }
   },
   "outputs": [
    {
     "data": {
      "text/plain": [
       "NoneType"
      ]
     },
     "execution_count": 20,
     "metadata": {},
     "output_type": "execute_result"
    }
   ],
   "source": [
    "type(np.newaxis)"
   ]
  },
  {
   "cell_type": "code",
   "execution_count": 21,
   "id": "7b7cc215",
   "metadata": {
    "ExecuteTime": {
     "end_time": "2023-05-24T07:02:47.307224Z",
     "start_time": "2023-05-24T07:02:47.297258Z"
    }
   },
   "outputs": [
    {
     "data": {
      "text/plain": [
       "True"
      ]
     },
     "execution_count": 21,
     "metadata": {},
     "output_type": "execute_result"
    }
   ],
   "source": [
    "np.newaxis == None"
   ]
  },
  {
   "cell_type": "code",
   "execution_count": 22,
   "id": "15413821",
   "metadata": {
    "ExecuteTime": {
     "end_time": "2023-05-24T07:03:39.936859Z",
     "start_time": "2023-05-24T07:03:39.921910Z"
    }
   },
   "outputs": [
    {
     "data": {
      "text/plain": [
       "array([[ 0.],\n",
       "       [10.],\n",
       "       [20.],\n",
       "       [30.]])"
      ]
     },
     "execution_count": 22,
     "metadata": {},
     "output_type": "execute_result"
    }
   ],
   "source": [
    "b = a[:, np.newaxis]\n",
    "b"
   ]
  },
  {
   "cell_type": "code",
   "execution_count": 23,
   "id": "7f5f0790",
   "metadata": {
    "ExecuteTime": {
     "end_time": "2023-05-24T07:03:53.106912Z",
     "start_time": "2023-05-24T07:03:53.089434Z"
    }
   },
   "outputs": [
    {
     "data": {
      "text/plain": [
       "array([[ 0.],\n",
       "       [10.],\n",
       "       [20.],\n",
       "       [30.]])"
      ]
     },
     "execution_count": 23,
     "metadata": {},
     "output_type": "execute_result"
    }
   ],
   "source": [
    "b = a[:, None]\n",
    "b"
   ]
  },
  {
   "cell_type": "markdown",
   "id": "257e6dbb",
   "metadata": {},
   "source": [
    "### 索引多维数组的某一列时返回的是一个行向量"
   ]
  },
  {
   "cell_type": "code",
   "execution_count": 24,
   "id": "46ff1573",
   "metadata": {
    "ExecuteTime": {
     "end_time": "2023-05-24T07:06:49.169555Z",
     "start_time": "2023-05-24T07:06:49.161582Z"
    }
   },
   "outputs": [
    {
     "data": {
      "text/plain": [
       "array([ 2,  6, 10])"
      ]
     },
     "execution_count": 24,
     "metadata": {},
     "output_type": "execute_result"
    }
   ],
   "source": [
    "X = np.array([[1, 2, 3, 4], [5, 6, 7, 8], [9, 10, 11, 12]])\n",
    "X[:, 1] #这里是一个行"
   ]
  },
  {
   "cell_type": "markdown",
   "id": "1fb55262",
   "metadata": {},
   "source": [
    "如果我索引多维数组的某一列时，返回的仍然是列的结构，一种正确的索引方式是："
   ]
  },
  {
   "cell_type": "code",
   "execution_count": 25,
   "id": "b5acf92b",
   "metadata": {
    "ExecuteTime": {
     "end_time": "2023-05-24T07:07:33.351555Z",
     "start_time": "2023-05-24T07:07:33.345574Z"
    }
   },
   "outputs": [
    {
     "data": {
      "text/plain": [
       "array([[ 2],\n",
       "       [ 6],\n",
       "       [10]])"
      ]
     },
     "execution_count": 25,
     "metadata": {},
     "output_type": "execute_result"
    }
   ],
   "source": [
    "X[:, 1][:, np.newaxis]"
   ]
  },
  {
   "cell_type": "markdown",
   "id": "db4b90d4",
   "metadata": {},
   "source": [
    "如果想实现第二列和第四列的拼接（层叠）："
   ]
  },
  {
   "cell_type": "code",
   "execution_count": 26,
   "id": "4c12f757",
   "metadata": {
    "ExecuteTime": {
     "end_time": "2023-05-24T07:08:37.335640Z",
     "start_time": "2023-05-24T07:08:37.328663Z"
    }
   },
   "outputs": [
    {
     "data": {
      "text/plain": [
       "array([[ 2,  4],\n",
       "       [ 6,  8],\n",
       "       [10, 12]])"
      ]
     },
     "execution_count": 26,
     "metadata": {},
     "output_type": "execute_result"
    }
   ],
   "source": [
    "X_sub = np.hstack([X[:, 1][:, np.newaxis], X[:, 3][:, np.newaxis]])   \n",
    "X_sub"
   ]
  },
  {
   "cell_type": "markdown",
   "id": "c7c9db5b",
   "metadata": {},
   "source": [
    "当然更为简单的方式还是使用切片："
   ]
  },
  {
   "cell_type": "code",
   "execution_count": 27,
   "id": "40c2a2d8",
   "metadata": {
    "ExecuteTime": {
     "end_time": "2023-05-24T07:08:54.515189Z",
     "start_time": "2023-05-24T07:08:54.497211Z"
    }
   },
   "outputs": [
    {
     "data": {
      "text/plain": [
       "array([[ 2,  4],\n",
       "       [ 6,  8],\n",
       "       [10, 12]])"
      ]
     },
     "execution_count": 27,
     "metadata": {},
     "output_type": "execute_result"
    }
   ],
   "source": [
    "X[:, [1, 3]]"
   ]
  },
  {
   "cell_type": "markdown",
   "id": "820d7069",
   "metadata": {},
   "source": [
    "# Pandas入门"
   ]
  },
  {
   "cell_type": "markdown",
   "id": "151c8d26",
   "metadata": {},
   "source": [
    "pandas采用了很多numpy的代码风格，但最大的不同在于pandas是用来处理表格型或异质型数据的，而numpy更适合处理同质型的数值类数组数据。"
   ]
  },
  {
   "cell_type": "code",
   "execution_count": 4,
   "id": "5c5a196c",
   "metadata": {
    "ExecuteTime": {
     "end_time": "2022-06-08T03:33:31.356894Z",
     "start_time": "2022-06-08T03:33:30.558481Z"
    }
   },
   "outputs": [],
   "source": [
    "import pandas as pd\n",
    "from pandas import DataFrame, Series"
   ]
  },
  {
   "cell_type": "markdown",
   "id": "c8e07d75",
   "metadata": {},
   "source": [
    "## Series"
   ]
  },
  {
   "cell_type": "markdown",
   "id": "d81fc446",
   "metadata": {},
   "source": [
    "Series是一种一维的数组型对象，它包含了一个值序列，并且包含了数据标签，成为索引，最简单的序列可以仅仅由一个数组组成。"
   ]
  },
  {
   "cell_type": "code",
   "execution_count": 2,
   "id": "8ce4085b",
   "metadata": {
    "ExecuteTime": {
     "end_time": "2022-06-05T00:14:33.469934Z",
     "start_time": "2022-06-05T00:14:33.427848Z"
    }
   },
   "outputs": [
    {
     "data": {
      "text/plain": [
       "d    4\n",
       "b    7\n",
       "a   -5\n",
       "c    3\n",
       "dtype: int64"
      ]
     },
     "execution_count": 2,
     "metadata": {},
     "output_type": "execute_result"
    }
   ],
   "source": [
    "obj = pd.Series([4,7,-5,3], index = ['d','b','a','c'])\n",
    "obj"
   ]
  },
  {
   "cell_type": "markdown",
   "id": "23da72d9",
   "metadata": {},
   "source": [
    "交互式环境中Series的字符串表示，索引在左边，值在右边，可通过values属性和index属性分别获得Series对象的值和索引。"
   ]
  },
  {
   "cell_type": "code",
   "execution_count": 3,
   "id": "29711e63",
   "metadata": {
    "ExecuteTime": {
     "end_time": "2022-06-05T00:16:34.767903Z",
     "start_time": "2022-06-05T00:16:34.752311Z"
    }
   },
   "outputs": [
    {
     "data": {
      "text/plain": [
       "array([ 4,  7, -5,  3], dtype=int64)"
      ]
     },
     "execution_count": 3,
     "metadata": {},
     "output_type": "execute_result"
    }
   ],
   "source": [
    "obj.values"
   ]
  },
  {
   "cell_type": "code",
   "execution_count": 4,
   "id": "5946764b",
   "metadata": {
    "ExecuteTime": {
     "end_time": "2022-06-05T00:16:42.982875Z",
     "start_time": "2022-06-05T00:16:42.963876Z"
    }
   },
   "outputs": [
    {
     "data": {
      "text/plain": [
       "Index(['d', 'b', 'a', 'c'], dtype='object')"
      ]
     },
     "execution_count": 4,
     "metadata": {},
     "output_type": "execute_result"
    }
   ],
   "source": [
    "obj.index"
   ]
  },
  {
   "cell_type": "markdown",
   "id": "e119c4fe",
   "metadata": {},
   "source": [
    "可以使用字典生成一个Series，pd.Series(字典)。"
   ]
  },
  {
   "cell_type": "markdown",
   "id": "0dd25e47",
   "metadata": {},
   "source": [
    "Series的索引可以通过按位置赋值的方式进行改变，obj.index = [值]。"
   ]
  },
  {
   "cell_type": "markdown",
   "id": "8914dcc2",
   "metadata": {},
   "source": [
    "## DataFrame"
   ]
  },
  {
   "cell_type": "markdown",
   "id": "c5f924f5",
   "metadata": {},
   "source": [
    "DataFrame表示的是矩阵的数据表，它包含已排序的列集合，每一列可以是不同的值类型，DataFrame既有行索引，也有列索引，DataFrame是二维的。"
   ]
  },
  {
   "cell_type": "markdown",
   "id": "9fb85ecb",
   "metadata": {},
   "source": [
    "### 构建DataFrame"
   ]
  },
  {
   "cell_type": "markdown",
   "id": "903e4330",
   "metadata": {},
   "source": [
    "有多种方式构建DataFrame，其中最常用的是利用包含等长度列表或numpy数组的字典来形成。行索引（index），列索引（columns），值（values）。"
   ]
  },
  {
   "cell_type": "code",
   "execution_count": 7,
   "id": "61649387",
   "metadata": {
    "ExecuteTime": {
     "end_time": "2022-06-05T00:24:31.651777Z",
     "start_time": "2022-06-05T00:24:31.622838Z"
    }
   },
   "outputs": [
    {
     "data": {
      "text/html": [
       "<div>\n",
       "<style scoped>\n",
       "    .dataframe tbody tr th:only-of-type {\n",
       "        vertical-align: middle;\n",
       "    }\n",
       "\n",
       "    .dataframe tbody tr th {\n",
       "        vertical-align: top;\n",
       "    }\n",
       "\n",
       "    .dataframe thead th {\n",
       "        text-align: right;\n",
       "    }\n",
       "</style>\n",
       "<table border=\"1\" class=\"dataframe\">\n",
       "  <thead>\n",
       "    <tr style=\"text-align: right;\">\n",
       "      <th></th>\n",
       "      <th>state</th>\n",
       "      <th>year</th>\n",
       "    </tr>\n",
       "  </thead>\n",
       "  <tbody>\n",
       "    <tr>\n",
       "      <th>0</th>\n",
       "      <td>ohio</td>\n",
       "      <td>2000</td>\n",
       "    </tr>\n",
       "    <tr>\n",
       "      <th>1</th>\n",
       "      <td>ohio</td>\n",
       "      <td>2001</td>\n",
       "    </tr>\n",
       "    <tr>\n",
       "      <th>2</th>\n",
       "      <td>nevada</td>\n",
       "      <td>2002</td>\n",
       "    </tr>\n",
       "  </tbody>\n",
       "</table>\n",
       "</div>"
      ],
      "text/plain": [
       "    state  year\n",
       "0    ohio  2000\n",
       "1    ohio  2001\n",
       "2  nevada  2002"
      ]
     },
     "execution_count": 7,
     "metadata": {},
     "output_type": "execute_result"
    }
   ],
   "source": [
    "data = {'state':['ohio', 'ohio', 'nevada'],\n",
    "        'year':[2000, 2001, 2002]}\n",
    "frame = pd.DataFrame(data)\n",
    "frame"
   ]
  },
  {
   "cell_type": "markdown",
   "id": "14409e68",
   "metadata": {},
   "source": [
    "### DataFrame切片"
   ]
  },
  {
   "cell_type": "markdown",
   "id": "68794f9a",
   "metadata": {},
   "source": [
    "1、DataFrame的列会按照指定顺序排列，如果你指定了列的顺序。"
   ]
  },
  {
   "cell_type": "code",
   "execution_count": 8,
   "id": "43245a2a",
   "metadata": {
    "ExecuteTime": {
     "end_time": "2022-06-05T00:28:07.622880Z",
     "start_time": "2022-06-05T00:28:07.604716Z"
    }
   },
   "outputs": [
    {
     "data": {
      "text/html": [
       "<div>\n",
       "<style scoped>\n",
       "    .dataframe tbody tr th:only-of-type {\n",
       "        vertical-align: middle;\n",
       "    }\n",
       "\n",
       "    .dataframe tbody tr th {\n",
       "        vertical-align: top;\n",
       "    }\n",
       "\n",
       "    .dataframe thead th {\n",
       "        text-align: right;\n",
       "    }\n",
       "</style>\n",
       "<table border=\"1\" class=\"dataframe\">\n",
       "  <thead>\n",
       "    <tr style=\"text-align: right;\">\n",
       "      <th></th>\n",
       "      <th>year</th>\n",
       "      <th>state</th>\n",
       "    </tr>\n",
       "  </thead>\n",
       "  <tbody>\n",
       "    <tr>\n",
       "      <th>0</th>\n",
       "      <td>2000</td>\n",
       "      <td>ohio</td>\n",
       "    </tr>\n",
       "    <tr>\n",
       "      <th>1</th>\n",
       "      <td>2001</td>\n",
       "      <td>ohio</td>\n",
       "    </tr>\n",
       "    <tr>\n",
       "      <th>2</th>\n",
       "      <td>2002</td>\n",
       "      <td>nevada</td>\n",
       "    </tr>\n",
       "  </tbody>\n",
       "</table>\n",
       "</div>"
      ],
      "text/plain": [
       "   year   state\n",
       "0  2000    ohio\n",
       "1  2001    ohio\n",
       "2  2002  nevada"
      ]
     },
     "execution_count": 8,
     "metadata": {},
     "output_type": "execute_result"
    }
   ],
   "source": [
    "pd.DataFrame(data, columns = ['year', 'state'])"
   ]
  },
  {
   "cell_type": "markdown",
   "id": "3063468e",
   "metadata": {},
   "source": [
    "2、DataFrame中的一列，可以按照字典型标记，或属性那样检索为Series。"
   ]
  },
  {
   "cell_type": "code",
   "execution_count": 9,
   "id": "7a1a58d4",
   "metadata": {
    "ExecuteTime": {
     "end_time": "2022-06-05T00:29:14.248281Z",
     "start_time": "2022-06-05T00:29:14.235077Z"
    }
   },
   "outputs": [
    {
     "data": {
      "text/plain": [
       "0      ohio\n",
       "1      ohio\n",
       "2    nevada\n",
       "Name: state, dtype: object"
      ]
     },
     "execution_count": 9,
     "metadata": {},
     "output_type": "execute_result"
    }
   ],
   "source": [
    "frame['state']"
   ]
  },
  {
   "cell_type": "markdown",
   "id": "7e4db86b",
   "metadata": {},
   "source": [
    "3、行可以通过位置或特殊属性loc进行选取。"
   ]
  },
  {
   "cell_type": "code",
   "execution_count": 10,
   "id": "51374946",
   "metadata": {
    "ExecuteTime": {
     "end_time": "2022-06-05T00:30:25.927501Z",
     "start_time": "2022-06-05T00:30:25.913632Z"
    }
   },
   "outputs": [
    {
     "data": {
      "text/plain": [
       "state    ohio\n",
       "year     2000\n",
       "Name: 0, dtype: object"
      ]
     },
     "execution_count": 10,
     "metadata": {},
     "output_type": "execute_result"
    }
   ],
   "source": [
    "frame.loc[0]"
   ]
  },
  {
   "cell_type": "markdown",
   "id": "d2d7a848",
   "metadata": {},
   "source": [
    "4、列的引用可以修改，可以对列赋值为标量或值数组，如果被赋值的列不存在，则会生成一个新列。"
   ]
  },
  {
   "cell_type": "code",
   "execution_count": 14,
   "id": "2bb0be3b",
   "metadata": {
    "ExecuteTime": {
     "end_time": "2022-06-05T00:33:56.553093Z",
     "start_time": "2022-06-05T00:33:56.540094Z"
    }
   },
   "outputs": [
    {
     "data": {
      "text/html": [
       "<div>\n",
       "<style scoped>\n",
       "    .dataframe tbody tr th:only-of-type {\n",
       "        vertical-align: middle;\n",
       "    }\n",
       "\n",
       "    .dataframe tbody tr th {\n",
       "        vertical-align: top;\n",
       "    }\n",
       "\n",
       "    .dataframe thead th {\n",
       "        text-align: right;\n",
       "    }\n",
       "</style>\n",
       "<table border=\"1\" class=\"dataframe\">\n",
       "  <thead>\n",
       "    <tr style=\"text-align: right;\">\n",
       "      <th></th>\n",
       "      <th>state</th>\n",
       "      <th>year</th>\n",
       "      <th>debt</th>\n",
       "    </tr>\n",
       "  </thead>\n",
       "  <tbody>\n",
       "    <tr>\n",
       "      <th>0</th>\n",
       "      <td>ohio</td>\n",
       "      <td>2000</td>\n",
       "      <td>16.5</td>\n",
       "    </tr>\n",
       "    <tr>\n",
       "      <th>1</th>\n",
       "      <td>ohio</td>\n",
       "      <td>2001</td>\n",
       "      <td>16.5</td>\n",
       "    </tr>\n",
       "    <tr>\n",
       "      <th>2</th>\n",
       "      <td>nevada</td>\n",
       "      <td>2002</td>\n",
       "      <td>16.5</td>\n",
       "    </tr>\n",
       "  </tbody>\n",
       "</table>\n",
       "</div>"
      ],
      "text/plain": [
       "    state  year  debt\n",
       "0    ohio  2000  16.5\n",
       "1    ohio  2001  16.5\n",
       "2  nevada  2002  16.5"
      ]
     },
     "execution_count": 14,
     "metadata": {},
     "output_type": "execute_result"
    }
   ],
   "source": [
    "frame['debt'] = 16.5\n",
    "frame"
   ]
  },
  {
   "cell_type": "markdown",
   "id": "3c895f2e",
   "metadata": {},
   "source": [
    "5、del关键字可以像在字典中那样删除列。"
   ]
  },
  {
   "cell_type": "code",
   "execution_count": 15,
   "id": "6f3addca",
   "metadata": {
    "ExecuteTime": {
     "end_time": "2022-06-05T00:33:59.246646Z",
     "start_time": "2022-06-05T00:33:59.230232Z"
    }
   },
   "outputs": [
    {
     "data": {
      "text/html": [
       "<div>\n",
       "<style scoped>\n",
       "    .dataframe tbody tr th:only-of-type {\n",
       "        vertical-align: middle;\n",
       "    }\n",
       "\n",
       "    .dataframe tbody tr th {\n",
       "        vertical-align: top;\n",
       "    }\n",
       "\n",
       "    .dataframe thead th {\n",
       "        text-align: right;\n",
       "    }\n",
       "</style>\n",
       "<table border=\"1\" class=\"dataframe\">\n",
       "  <thead>\n",
       "    <tr style=\"text-align: right;\">\n",
       "      <th></th>\n",
       "      <th>state</th>\n",
       "      <th>year</th>\n",
       "    </tr>\n",
       "  </thead>\n",
       "  <tbody>\n",
       "    <tr>\n",
       "      <th>0</th>\n",
       "      <td>ohio</td>\n",
       "      <td>2000</td>\n",
       "    </tr>\n",
       "    <tr>\n",
       "      <th>1</th>\n",
       "      <td>ohio</td>\n",
       "      <td>2001</td>\n",
       "    </tr>\n",
       "    <tr>\n",
       "      <th>2</th>\n",
       "      <td>nevada</td>\n",
       "      <td>2002</td>\n",
       "    </tr>\n",
       "  </tbody>\n",
       "</table>\n",
       "</div>"
      ],
      "text/plain": [
       "    state  year\n",
       "0    ohio  2000\n",
       "1    ohio  2001\n",
       "2  nevada  2002"
      ]
     },
     "execution_count": 15,
     "metadata": {},
     "output_type": "execute_result"
    }
   ],
   "source": [
    "del frame['debt']\n",
    "frame"
   ]
  },
  {
   "cell_type": "code",
   "execution_count": 16,
   "id": "cc5778c5",
   "metadata": {
    "ExecuteTime": {
     "end_time": "2022-06-05T00:34:18.873902Z",
     "start_time": "2022-06-05T00:34:18.849932Z"
    }
   },
   "outputs": [
    {
     "data": {
      "text/html": [
       "<div>\n",
       "<style scoped>\n",
       "    .dataframe tbody tr th:only-of-type {\n",
       "        vertical-align: middle;\n",
       "    }\n",
       "\n",
       "    .dataframe tbody tr th {\n",
       "        vertical-align: top;\n",
       "    }\n",
       "\n",
       "    .dataframe thead th {\n",
       "        text-align: right;\n",
       "    }\n",
       "</style>\n",
       "<table border=\"1\" class=\"dataframe\">\n",
       "  <thead>\n",
       "    <tr style=\"text-align: right;\">\n",
       "      <th></th>\n",
       "      <th>0</th>\n",
       "      <th>1</th>\n",
       "      <th>2</th>\n",
       "    </tr>\n",
       "  </thead>\n",
       "  <tbody>\n",
       "    <tr>\n",
       "      <th>state</th>\n",
       "      <td>ohio</td>\n",
       "      <td>ohio</td>\n",
       "      <td>nevada</td>\n",
       "    </tr>\n",
       "    <tr>\n",
       "      <th>year</th>\n",
       "      <td>2000</td>\n",
       "      <td>2001</td>\n",
       "      <td>2002</td>\n",
       "    </tr>\n",
       "  </tbody>\n",
       "</table>\n",
       "</div>"
      ],
      "text/plain": [
       "          0     1       2\n",
       "state  ohio  ohio  nevada\n",
       "year   2000  2001    2002"
      ]
     },
     "execution_count": 16,
     "metadata": {},
     "output_type": "execute_result"
    }
   ],
   "source": [
    "frame.T #转置"
   ]
  },
  {
   "cell_type": "markdown",
   "id": "27babb9b",
   "metadata": {},
   "source": [
    "6、DataFrame的values属性会将包含在DataFrame中的数据以二维数组的形式返回。"
   ]
  },
  {
   "cell_type": "code",
   "execution_count": 17,
   "id": "5f95f6fe",
   "metadata": {
    "ExecuteTime": {
     "end_time": "2022-06-05T00:35:41.032947Z",
     "start_time": "2022-06-05T00:35:41.018951Z"
    }
   },
   "outputs": [
    {
     "data": {
      "text/plain": [
       "array([['ohio', 2000],\n",
       "       ['ohio', 2001],\n",
       "       ['nevada', 2002]], dtype=object)"
      ]
     },
     "execution_count": 17,
     "metadata": {},
     "output_type": "execute_result"
    }
   ],
   "source": [
    "frame.values"
   ]
  },
  {
   "cell_type": "code",
   "execution_count": 18,
   "id": "74756763",
   "metadata": {
    "ExecuteTime": {
     "end_time": "2022-06-05T00:35:51.933287Z",
     "start_time": "2022-06-05T00:35:51.914804Z"
    }
   },
   "outputs": [
    {
     "data": {
      "text/plain": [
       "Index(['state', 'year'], dtype='object')"
      ]
     },
     "execution_count": 18,
     "metadata": {},
     "output_type": "execute_result"
    }
   ],
   "source": [
    "frame.columns #列索引"
   ]
  },
  {
   "cell_type": "code",
   "execution_count": 19,
   "id": "7378571e",
   "metadata": {
    "ExecuteTime": {
     "end_time": "2022-06-05T00:36:10.015038Z",
     "start_time": "2022-06-05T00:36:10.005683Z"
    }
   },
   "outputs": [
    {
     "data": {
      "text/plain": [
       "RangeIndex(start=0, stop=3, step=1)"
      ]
     },
     "execution_count": 19,
     "metadata": {},
     "output_type": "execute_result"
    }
   ],
   "source": [
    "frame.index #行索引"
   ]
  },
  {
   "cell_type": "markdown",
   "id": "dd636a38",
   "metadata": {},
   "source": [
    "7、pandas索引对象可以包含重复标签。"
   ]
  },
  {
   "cell_type": "code",
   "execution_count": 20,
   "id": "22aa2223",
   "metadata": {
    "ExecuteTime": {
     "end_time": "2022-06-05T00:38:22.533788Z",
     "start_time": "2022-06-05T00:38:22.517830Z"
    }
   },
   "outputs": [],
   "source": [
    "labels = pd.Index(['foo','foo','bar','bar'])"
   ]
  },
  {
   "cell_type": "markdown",
   "id": "04ebb18a",
   "metadata": {},
   "source": [
    "8、显示DataFrame的行数"
   ]
  },
  {
   "cell_type": "code",
   "execution_count": 21,
   "id": "b355b3e9",
   "metadata": {
    "ExecuteTime": {
     "end_time": "2022-06-05T00:39:19.876483Z",
     "start_time": "2022-06-05T00:39:19.860997Z"
    }
   },
   "outputs": [
    {
     "data": {
      "text/html": [
       "<div>\n",
       "<style scoped>\n",
       "    .dataframe tbody tr th:only-of-type {\n",
       "        vertical-align: middle;\n",
       "    }\n",
       "\n",
       "    .dataframe tbody tr th {\n",
       "        vertical-align: top;\n",
       "    }\n",
       "\n",
       "    .dataframe thead th {\n",
       "        text-align: right;\n",
       "    }\n",
       "</style>\n",
       "<table border=\"1\" class=\"dataframe\">\n",
       "  <thead>\n",
       "    <tr style=\"text-align: right;\">\n",
       "      <th></th>\n",
       "      <th>state</th>\n",
       "      <th>year</th>\n",
       "    </tr>\n",
       "  </thead>\n",
       "  <tbody>\n",
       "    <tr>\n",
       "      <th>0</th>\n",
       "      <td>ohio</td>\n",
       "      <td>2000</td>\n",
       "    </tr>\n",
       "    <tr>\n",
       "      <th>1</th>\n",
       "      <td>ohio</td>\n",
       "      <td>2001</td>\n",
       "    </tr>\n",
       "  </tbody>\n",
       "</table>\n",
       "</div>"
      ],
      "text/plain": [
       "  state  year\n",
       "0  ohio  2000\n",
       "1  ohio  2001"
      ]
     },
     "execution_count": 21,
     "metadata": {},
     "output_type": "execute_result"
    }
   ],
   "source": [
    "frame.head(2)"
   ]
  },
  {
   "cell_type": "markdown",
   "id": "756e4e69",
   "metadata": {},
   "source": [
    "### 重建索引"
   ]
  },
  {
   "cell_type": "markdown",
   "id": "321b6569",
   "metadata": {},
   "source": [
    "reindex是pandas对象的重要方法，该方法用于创建一个符合新索引的新对象。（标签唯一）"
   ]
  },
  {
   "cell_type": "code",
   "execution_count": 23,
   "id": "318d1e54",
   "metadata": {
    "ExecuteTime": {
     "end_time": "2022-06-05T00:43:10.875811Z",
     "start_time": "2022-06-05T00:43:10.861559Z"
    }
   },
   "outputs": [
    {
     "data": {
      "text/plain": [
       "d    4.5\n",
       "b    7.2\n",
       "a   -5.3\n",
       "c    3.6\n",
       "dtype: float64"
      ]
     },
     "execution_count": 23,
     "metadata": {},
     "output_type": "execute_result"
    }
   ],
   "source": [
    "obj = pd.Series([4.5, 7.2, -5.3, 3.6],index = ['d', 'b', 'a', 'c'])\n",
    "obj"
   ]
  },
  {
   "cell_type": "code",
   "execution_count": 24,
   "id": "8f53fed2",
   "metadata": {
    "ExecuteTime": {
     "end_time": "2022-06-05T00:43:48.071885Z",
     "start_time": "2022-06-05T00:43:48.041341Z"
    }
   },
   "outputs": [
    {
     "data": {
      "text/plain": [
       "a   -5.3\n",
       "b    7.2\n",
       "c    3.6\n",
       "d    4.5\n",
       "dtype: float64"
      ]
     },
     "execution_count": 24,
     "metadata": {},
     "output_type": "execute_result"
    }
   ],
   "source": [
    "obj.reindex(['a', 'b', 'c', 'd'])"
   ]
  },
  {
   "cell_type": "markdown",
   "id": "0d02fbe6",
   "metadata": {},
   "source": [
    "series调用reindex方法时，会将数据按照新的索引（行索引或列索引）进行排列，如果某个索引值之前并不存在，则会引入缺失值。"
   ]
  },
  {
   "cell_type": "markdown",
   "id": "226a52ad",
   "metadata": {},
   "source": [
    "### 轴向上删除条目"
   ]
  },
  {
   "cell_type": "markdown",
   "id": "1deadf8b",
   "metadata": {},
   "source": [
    "drop方法会返回一个含有指示值或轴向上删除值的新对象。"
   ]
  },
  {
   "cell_type": "code",
   "execution_count": 28,
   "id": "55274621",
   "metadata": {
    "ExecuteTime": {
     "end_time": "2022-06-05T00:52:21.782277Z",
     "start_time": "2022-06-05T00:52:21.772755Z"
    }
   },
   "outputs": [
    {
     "data": {
      "text/plain": [
       "a    0.0\n",
       "b    1.0\n",
       "c    2.0\n",
       "d    3.0\n",
       "e    4.0\n",
       "dtype: float64"
      ]
     },
     "execution_count": 28,
     "metadata": {},
     "output_type": "execute_result"
    }
   ],
   "source": [
    "obj = pd.Series(np.arange(5.),index = ['a','b','c','d','e'])\n",
    "obj"
   ]
  },
  {
   "cell_type": "code",
   "execution_count": 29,
   "id": "14115e8b",
   "metadata": {
    "ExecuteTime": {
     "end_time": "2022-06-05T00:52:47.717095Z",
     "start_time": "2022-06-05T00:52:47.707457Z"
    }
   },
   "outputs": [
    {
     "data": {
      "text/plain": [
       "a    0.0\n",
       "b    1.0\n",
       "d    3.0\n",
       "e    4.0\n",
       "dtype: float64"
      ]
     },
     "execution_count": 29,
     "metadata": {},
     "output_type": "execute_result"
    }
   ],
   "source": [
    "obj.drop('c')"
   ]
  },
  {
   "cell_type": "markdown",
   "id": "c7866b59",
   "metadata": {},
   "source": [
    "在DataFrame中，索引值可以轴向上删除，在调用drop时使用标签序列会根据行标签删除值。名字.drop(行标签)"
   ]
  },
  {
   "cell_type": "markdown",
   "id": "5e3456b5",
   "metadata": {},
   "source": [
    "可以通过传递axis=1或axis='columns'来从列中删除值。"
   ]
  },
  {
   "cell_type": "markdown",
   "id": "983cc3cc",
   "metadata": {},
   "source": [
    "名字.drop(列名,axis=1)#删除这一列  \n",
    "名字.drop([,,],axis='columns')#删除多列"
   ]
  },
  {
   "cell_type": "markdown",
   "id": "75c6026f",
   "metadata": {},
   "source": [
    "### 索引，选择与过滤"
   ]
  },
  {
   "cell_type": "markdown",
   "id": "119dab81",
   "metadata": {},
   "source": [
    "1、Series的索引与Numpy数组索引的功能类似。"
   ]
  },
  {
   "cell_type": "code",
   "execution_count": 30,
   "id": "39856205",
   "metadata": {
    "ExecuteTime": {
     "end_time": "2022-06-05T00:58:07.536452Z",
     "start_time": "2022-06-05T00:58:07.523486Z"
    }
   },
   "outputs": [
    {
     "data": {
      "text/plain": [
       "a    0\n",
       "b    1\n",
       "c    2\n",
       "d    3\n",
       "dtype: int32"
      ]
     },
     "execution_count": 30,
     "metadata": {},
     "output_type": "execute_result"
    }
   ],
   "source": [
    "obj = pd.Series(np.arange(4),index = ['a','b','c','d'])\n",
    "obj"
   ]
  },
  {
   "cell_type": "code",
   "execution_count": 31,
   "id": "5acfa065",
   "metadata": {
    "ExecuteTime": {
     "end_time": "2022-06-05T00:58:28.887290Z",
     "start_time": "2022-06-05T00:58:28.874747Z"
    }
   },
   "outputs": [
    {
     "data": {
      "text/plain": [
       "1"
      ]
     },
     "execution_count": 31,
     "metadata": {},
     "output_type": "execute_result"
    }
   ],
   "source": [
    "obj['b']"
   ]
  },
  {
   "cell_type": "code",
   "execution_count": 32,
   "id": "d5ac9345",
   "metadata": {
    "ExecuteTime": {
     "end_time": "2022-06-05T00:58:43.962196Z",
     "start_time": "2022-06-05T00:58:43.955484Z"
    }
   },
   "outputs": [
    {
     "data": {
      "text/plain": [
       "1"
      ]
     },
     "execution_count": 32,
     "metadata": {},
     "output_type": "execute_result"
    }
   ],
   "source": [
    "obj[1]"
   ]
  },
  {
   "cell_type": "code",
   "execution_count": 33,
   "id": "6e9a9970",
   "metadata": {
    "ExecuteTime": {
     "end_time": "2022-06-05T00:59:00.082476Z",
     "start_time": "2022-06-05T00:59:00.068395Z"
    }
   },
   "outputs": [
    {
     "data": {
      "text/plain": [
       "c    2\n",
       "d    3\n",
       "dtype: int32"
      ]
     },
     "execution_count": 33,
     "metadata": {},
     "output_type": "execute_result"
    }
   ],
   "source": [
    "obj[2:4]"
   ]
  },
  {
   "cell_type": "markdown",
   "id": "3847aa97",
   "metadata": {},
   "source": [
    "2、使用单个值或序列，可以从DataFrame中索引出一个或多个列。"
   ]
  },
  {
   "cell_type": "code",
   "execution_count": 34,
   "id": "eb07cc28",
   "metadata": {
    "ExecuteTime": {
     "end_time": "2022-06-05T01:00:46.694421Z",
     "start_time": "2022-06-05T01:00:46.672932Z"
    }
   },
   "outputs": [
    {
     "data": {
      "text/html": [
       "<div>\n",
       "<style scoped>\n",
       "    .dataframe tbody tr th:only-of-type {\n",
       "        vertical-align: middle;\n",
       "    }\n",
       "\n",
       "    .dataframe tbody tr th {\n",
       "        vertical-align: top;\n",
       "    }\n",
       "\n",
       "    .dataframe thead th {\n",
       "        text-align: right;\n",
       "    }\n",
       "</style>\n",
       "<table border=\"1\" class=\"dataframe\">\n",
       "  <thead>\n",
       "    <tr style=\"text-align: right;\">\n",
       "      <th></th>\n",
       "      <th>state</th>\n",
       "      <th>year</th>\n",
       "    </tr>\n",
       "  </thead>\n",
       "  <tbody>\n",
       "    <tr>\n",
       "      <th>0</th>\n",
       "      <td>ohio</td>\n",
       "      <td>2000</td>\n",
       "    </tr>\n",
       "    <tr>\n",
       "      <th>1</th>\n",
       "      <td>ohio</td>\n",
       "      <td>2001</td>\n",
       "    </tr>\n",
       "    <tr>\n",
       "      <th>2</th>\n",
       "      <td>nevada</td>\n",
       "      <td>2002</td>\n",
       "    </tr>\n",
       "  </tbody>\n",
       "</table>\n",
       "</div>"
      ],
      "text/plain": [
       "    state  year\n",
       "0    ohio  2000\n",
       "1    ohio  2001\n",
       "2  nevada  2002"
      ]
     },
     "execution_count": 34,
     "metadata": {},
     "output_type": "execute_result"
    }
   ],
   "source": [
    "data = {'state':['ohio', 'ohio', 'nevada'],\n",
    "        'year':[2000, 2001, 2002]}\n",
    "frame = pd.DataFrame(data)\n",
    "frame"
   ]
  },
  {
   "cell_type": "code",
   "execution_count": 35,
   "id": "40e14126",
   "metadata": {
    "ExecuteTime": {
     "end_time": "2022-06-05T01:01:01.865832Z",
     "start_time": "2022-06-05T01:01:01.850391Z"
    }
   },
   "outputs": [
    {
     "data": {
      "text/plain": [
       "0    2000\n",
       "1    2001\n",
       "2    2002\n",
       "Name: year, dtype: int64"
      ]
     },
     "execution_count": 35,
     "metadata": {},
     "output_type": "execute_result"
    }
   ],
   "source": [
    "frame['year'] #索引单个列"
   ]
  },
  {
   "cell_type": "code",
   "execution_count": 36,
   "id": "57eafbb4",
   "metadata": {
    "ExecuteTime": {
     "end_time": "2022-06-05T01:01:25.288200Z",
     "start_time": "2022-06-05T01:01:25.264232Z"
    }
   },
   "outputs": [
    {
     "data": {
      "text/html": [
       "<div>\n",
       "<style scoped>\n",
       "    .dataframe tbody tr th:only-of-type {\n",
       "        vertical-align: middle;\n",
       "    }\n",
       "\n",
       "    .dataframe tbody tr th {\n",
       "        vertical-align: top;\n",
       "    }\n",
       "\n",
       "    .dataframe thead th {\n",
       "        text-align: right;\n",
       "    }\n",
       "</style>\n",
       "<table border=\"1\" class=\"dataframe\">\n",
       "  <thead>\n",
       "    <tr style=\"text-align: right;\">\n",
       "      <th></th>\n",
       "      <th>year</th>\n",
       "      <th>state</th>\n",
       "    </tr>\n",
       "  </thead>\n",
       "  <tbody>\n",
       "    <tr>\n",
       "      <th>0</th>\n",
       "      <td>2000</td>\n",
       "      <td>ohio</td>\n",
       "    </tr>\n",
       "    <tr>\n",
       "      <th>1</th>\n",
       "      <td>2001</td>\n",
       "      <td>ohio</td>\n",
       "    </tr>\n",
       "    <tr>\n",
       "      <th>2</th>\n",
       "      <td>2002</td>\n",
       "      <td>nevada</td>\n",
       "    </tr>\n",
       "  </tbody>\n",
       "</table>\n",
       "</div>"
      ],
      "text/plain": [
       "   year   state\n",
       "0  2000    ohio\n",
       "1  2001    ohio\n",
       "2  2002  nevada"
      ]
     },
     "execution_count": 36,
     "metadata": {},
     "output_type": "execute_result"
    }
   ],
   "source": [
    "frame[['year','state']] #索引多个列"
   ]
  },
  {
   "cell_type": "markdown",
   "id": "6bbd00ff",
   "metadata": {},
   "source": [
    "3、使用布尔值DataFrame进行索引，布尔值DataFrame可以是对标量值进行比较产生。"
   ]
  },
  {
   "cell_type": "markdown",
   "id": "2fdfd6c1",
   "metadata": {
    "ExecuteTime": {
     "end_time": "2022-06-05T01:03:22.133698Z",
     "start_time": "2022-06-05T01:03:21.726784Z"
    }
   },
   "source": [
    "data[data>5]=0  将大于5的变为0，其余不变"
   ]
  },
  {
   "cell_type": "markdown",
   "id": "80eda5e9",
   "metadata": {},
   "source": [
    "4、通过标签选出单行多列或多行多列的数据，轴标签loc，整数标签iloc。"
   ]
  },
  {
   "cell_type": "markdown",
   "id": "e3eb533a",
   "metadata": {},
   "source": [
    "frame.loc[行标签,列标签]"
   ]
  },
  {
   "cell_type": "code",
   "execution_count": 39,
   "id": "b1402165",
   "metadata": {
    "ExecuteTime": {
     "end_time": "2022-06-05T01:06:27.366650Z",
     "start_time": "2022-06-05T01:06:27.347600Z"
    }
   },
   "outputs": [
    {
     "data": {
      "text/plain": [
       "2000"
      ]
     },
     "execution_count": 39,
     "metadata": {},
     "output_type": "execute_result"
    }
   ],
   "source": [
    "frame.loc[0,'year']#单行单列"
   ]
  },
  {
   "cell_type": "code",
   "execution_count": 40,
   "id": "a589ac10",
   "metadata": {
    "ExecuteTime": {
     "end_time": "2022-06-05T01:07:07.911633Z",
     "start_time": "2022-06-05T01:07:07.902809Z"
    }
   },
   "outputs": [
    {
     "data": {
      "text/plain": [
       "year     2000\n",
       "state    ohio\n",
       "Name: 0, dtype: object"
      ]
     },
     "execution_count": 40,
     "metadata": {},
     "output_type": "execute_result"
    }
   ],
   "source": [
    "frame.loc[0,['year','state']]#单行多列"
   ]
  },
  {
   "cell_type": "code",
   "execution_count": 41,
   "id": "264e61f4",
   "metadata": {
    "ExecuteTime": {
     "end_time": "2022-06-05T01:08:17.239829Z",
     "start_time": "2022-06-05T01:08:17.219883Z"
    }
   },
   "outputs": [
    {
     "data": {
      "text/plain": [
       "0    2000\n",
       "1    2001\n",
       "Name: year, dtype: int64"
      ]
     },
     "execution_count": 41,
     "metadata": {},
     "output_type": "execute_result"
    }
   ],
   "source": [
    "frame.loc[[0,1],'year']#多行单列"
   ]
  },
  {
   "cell_type": "markdown",
   "id": "626a4330",
   "metadata": {},
   "source": [
    "frame.iloc[行索引值,列索引值]"
   ]
  },
  {
   "cell_type": "code",
   "execution_count": 42,
   "id": "853cdb5e",
   "metadata": {
    "ExecuteTime": {
     "end_time": "2022-06-05T01:10:18.077489Z",
     "start_time": "2022-06-05T01:10:18.063967Z"
    }
   },
   "outputs": [
    {
     "data": {
      "text/plain": [
       "'ohio'"
      ]
     },
     "execution_count": 42,
     "metadata": {},
     "output_type": "execute_result"
    }
   ],
   "source": [
    "frame.iloc[0,0]"
   ]
  },
  {
   "cell_type": "markdown",
   "id": "6f65b592",
   "metadata": {},
   "source": [
    "### 算术与数据对齐"
   ]
  },
  {
   "cell_type": "markdown",
   "id": "f63c39c5",
   "metadata": {},
   "source": [
    "1、add 加 sub 减 div 除 mul乘  \n",
    "a.add(b,axis=0) 行相加"
   ]
  },
  {
   "cell_type": "markdown",
   "id": "81e46995",
   "metadata": {},
   "source": [
    "2、函数应用和映射"
   ]
  },
  {
   "cell_type": "code",
   "execution_count": 48,
   "id": "4305d017",
   "metadata": {
    "ExecuteTime": {
     "end_time": "2022-06-05T01:17:49.454116Z",
     "start_time": "2022-06-05T01:17:49.436272Z"
    }
   },
   "outputs": [
    {
     "data": {
      "text/plain": [
       "0    2\n",
       "1    2\n",
       "2    2\n",
       "dtype: int64"
      ]
     },
     "execution_count": 48,
     "metadata": {},
     "output_type": "execute_result"
    }
   ],
   "source": [
    "f = lambda x: x.count()\n",
    "frame.apply(f,axis='columns') #以列作为索引的Series，默认是axis=0"
   ]
  },
  {
   "cell_type": "markdown",
   "id": "87ac7086",
   "metadata": {},
   "source": [
    "3、排序"
   ]
  },
  {
   "cell_type": "markdown",
   "id": "6b020caa",
   "metadata": {},
   "source": [
    "如需按行或列索引进行排序，需要使用sort_index方法，默认为升序排列。"
   ]
  },
  {
   "cell_type": "code",
   "execution_count": 49,
   "id": "3b2b7e03",
   "metadata": {
    "ExecuteTime": {
     "end_time": "2022-06-05T01:20:32.174564Z",
     "start_time": "2022-06-05T01:20:32.159477Z"
    }
   },
   "outputs": [
    {
     "data": {
      "text/html": [
       "<div>\n",
       "<style scoped>\n",
       "    .dataframe tbody tr th:only-of-type {\n",
       "        vertical-align: middle;\n",
       "    }\n",
       "\n",
       "    .dataframe tbody tr th {\n",
       "        vertical-align: top;\n",
       "    }\n",
       "\n",
       "    .dataframe thead th {\n",
       "        text-align: right;\n",
       "    }\n",
       "</style>\n",
       "<table border=\"1\" class=\"dataframe\">\n",
       "  <thead>\n",
       "    <tr style=\"text-align: right;\">\n",
       "      <th></th>\n",
       "      <th>state</th>\n",
       "      <th>year</th>\n",
       "    </tr>\n",
       "  </thead>\n",
       "  <tbody>\n",
       "    <tr>\n",
       "      <th>0</th>\n",
       "      <td>ohio</td>\n",
       "      <td>2000</td>\n",
       "    </tr>\n",
       "    <tr>\n",
       "      <th>1</th>\n",
       "      <td>ohio</td>\n",
       "      <td>2001</td>\n",
       "    </tr>\n",
       "    <tr>\n",
       "      <th>2</th>\n",
       "      <td>nevada</td>\n",
       "      <td>2002</td>\n",
       "    </tr>\n",
       "  </tbody>\n",
       "</table>\n",
       "</div>"
      ],
      "text/plain": [
       "    state  year\n",
       "0    ohio  2000\n",
       "1    ohio  2001\n",
       "2  nevada  2002"
      ]
     },
     "execution_count": 49,
     "metadata": {},
     "output_type": "execute_result"
    }
   ],
   "source": [
    "frame.sort_index()#按行索引"
   ]
  },
  {
   "cell_type": "code",
   "execution_count": 51,
   "id": "ff86381e",
   "metadata": {
    "ExecuteTime": {
     "end_time": "2022-06-05T01:23:07.625065Z",
     "start_time": "2022-06-05T01:23:07.603577Z"
    }
   },
   "outputs": [
    {
     "data": {
      "text/html": [
       "<div>\n",
       "<style scoped>\n",
       "    .dataframe tbody tr th:only-of-type {\n",
       "        vertical-align: middle;\n",
       "    }\n",
       "\n",
       "    .dataframe tbody tr th {\n",
       "        vertical-align: top;\n",
       "    }\n",
       "\n",
       "    .dataframe thead th {\n",
       "        text-align: right;\n",
       "    }\n",
       "</style>\n",
       "<table border=\"1\" class=\"dataframe\">\n",
       "  <thead>\n",
       "    <tr style=\"text-align: right;\">\n",
       "      <th></th>\n",
       "      <th>year</th>\n",
       "      <th>state</th>\n",
       "    </tr>\n",
       "  </thead>\n",
       "  <tbody>\n",
       "    <tr>\n",
       "      <th>0</th>\n",
       "      <td>2000</td>\n",
       "      <td>ohio</td>\n",
       "    </tr>\n",
       "    <tr>\n",
       "      <th>1</th>\n",
       "      <td>2001</td>\n",
       "      <td>ohio</td>\n",
       "    </tr>\n",
       "    <tr>\n",
       "      <th>2</th>\n",
       "      <td>2002</td>\n",
       "      <td>nevada</td>\n",
       "    </tr>\n",
       "  </tbody>\n",
       "</table>\n",
       "</div>"
      ],
      "text/plain": [
       "   year   state\n",
       "0  2000    ohio\n",
       "1  2001    ohio\n",
       "2  2002  nevada"
      ]
     },
     "execution_count": 51,
     "metadata": {},
     "output_type": "execute_result"
    }
   ],
   "source": [
    "frame.sort_index(axis=1, ascending=False)#按列索引并且降序排列"
   ]
  },
  {
   "cell_type": "markdown",
   "id": "a1190cd0",
   "metadata": {},
   "source": [
    "如需根据Series的值进行排序，使用sort_values方法。当对DataFrame排序时，可以使用一列或多列作为排序键，使用参数by实现。"
   ]
  },
  {
   "cell_type": "code",
   "execution_count": 53,
   "id": "e8776319",
   "metadata": {
    "ExecuteTime": {
     "end_time": "2022-06-05T02:04:42.817577Z",
     "start_time": "2022-06-05T02:04:42.801367Z"
    }
   },
   "outputs": [
    {
     "data": {
      "text/html": [
       "<div>\n",
       "<style scoped>\n",
       "    .dataframe tbody tr th:only-of-type {\n",
       "        vertical-align: middle;\n",
       "    }\n",
       "\n",
       "    .dataframe tbody tr th {\n",
       "        vertical-align: top;\n",
       "    }\n",
       "\n",
       "    .dataframe thead th {\n",
       "        text-align: right;\n",
       "    }\n",
       "</style>\n",
       "<table border=\"1\" class=\"dataframe\">\n",
       "  <thead>\n",
       "    <tr style=\"text-align: right;\">\n",
       "      <th></th>\n",
       "      <th>state</th>\n",
       "      <th>year</th>\n",
       "    </tr>\n",
       "  </thead>\n",
       "  <tbody>\n",
       "    <tr>\n",
       "      <th>2</th>\n",
       "      <td>nevada</td>\n",
       "      <td>2002</td>\n",
       "    </tr>\n",
       "    <tr>\n",
       "      <th>1</th>\n",
       "      <td>ohio</td>\n",
       "      <td>2001</td>\n",
       "    </tr>\n",
       "    <tr>\n",
       "      <th>0</th>\n",
       "      <td>ohio</td>\n",
       "      <td>2000</td>\n",
       "    </tr>\n",
       "  </tbody>\n",
       "</table>\n",
       "</div>"
      ],
      "text/plain": [
       "    state  year\n",
       "2  nevada  2002\n",
       "1    ohio  2001\n",
       "0    ohio  2000"
      ]
     },
     "execution_count": 53,
     "metadata": {},
     "output_type": "execute_result"
    }
   ],
   "source": [
    "frame.sort_values(by='year',ascending=False)"
   ]
  },
  {
   "cell_type": "code",
   "execution_count": 54,
   "id": "f8171498",
   "metadata": {
    "ExecuteTime": {
     "end_time": "2022-06-05T02:05:13.155350Z",
     "start_time": "2022-06-05T02:05:13.148368Z"
    }
   },
   "outputs": [
    {
     "data": {
      "text/plain": [
       "['state', 'year']"
      ]
     },
     "execution_count": 54,
     "metadata": {},
     "output_type": "execute_result"
    }
   ],
   "source": [
    "list(frame) #获得表头"
   ]
  },
  {
   "cell_type": "markdown",
   "id": "04ab85b6",
   "metadata": {},
   "source": [
    "### 描述性统计"
   ]
  },
  {
   "cell_type": "markdown",
   "id": "3fe77a85",
   "metadata": {},
   "source": [
    "pandas对象装配了一个常用数学，统计学方法的集合，与numpy中的类似方法相比，它们内建了处理缺失值的功能，NA值会被自动排除。"
   ]
  },
  {
   "cell_type": "code",
   "execution_count": 56,
   "id": "3a28b3b8",
   "metadata": {
    "ExecuteTime": {
     "end_time": "2022-06-05T02:10:16.054233Z",
     "start_time": "2022-06-05T02:10:16.034076Z"
    }
   },
   "outputs": [
    {
     "data": {
      "text/plain": [
       "state    ohioohionevada\n",
       "year               6003\n",
       "dtype: object"
      ]
     },
     "execution_count": 56,
     "metadata": {},
     "output_type": "execute_result"
    }
   ],
   "source": [
    "frame.sum(axis=0) #行相加"
   ]
  },
  {
   "cell_type": "code",
   "execution_count": 57,
   "id": "473dbd35",
   "metadata": {
    "ExecuteTime": {
     "end_time": "2022-06-05T02:11:08.311362Z",
     "start_time": "2022-06-05T02:11:08.288869Z"
    }
   },
   "outputs": [
    {
     "data": {
      "text/html": [
       "<div>\n",
       "<style scoped>\n",
       "    .dataframe tbody tr th:only-of-type {\n",
       "        vertical-align: middle;\n",
       "    }\n",
       "\n",
       "    .dataframe tbody tr th {\n",
       "        vertical-align: top;\n",
       "    }\n",
       "\n",
       "    .dataframe thead th {\n",
       "        text-align: right;\n",
       "    }\n",
       "</style>\n",
       "<table border=\"1\" class=\"dataframe\">\n",
       "  <thead>\n",
       "    <tr style=\"text-align: right;\">\n",
       "      <th></th>\n",
       "      <th>year</th>\n",
       "    </tr>\n",
       "  </thead>\n",
       "  <tbody>\n",
       "    <tr>\n",
       "      <th>count</th>\n",
       "      <td>3.0</td>\n",
       "    </tr>\n",
       "    <tr>\n",
       "      <th>mean</th>\n",
       "      <td>2001.0</td>\n",
       "    </tr>\n",
       "    <tr>\n",
       "      <th>std</th>\n",
       "      <td>1.0</td>\n",
       "    </tr>\n",
       "    <tr>\n",
       "      <th>min</th>\n",
       "      <td>2000.0</td>\n",
       "    </tr>\n",
       "    <tr>\n",
       "      <th>25%</th>\n",
       "      <td>2000.5</td>\n",
       "    </tr>\n",
       "    <tr>\n",
       "      <th>50%</th>\n",
       "      <td>2001.0</td>\n",
       "    </tr>\n",
       "    <tr>\n",
       "      <th>75%</th>\n",
       "      <td>2001.5</td>\n",
       "    </tr>\n",
       "    <tr>\n",
       "      <th>max</th>\n",
       "      <td>2002.0</td>\n",
       "    </tr>\n",
       "  </tbody>\n",
       "</table>\n",
       "</div>"
      ],
      "text/plain": [
       "         year\n",
       "count     3.0\n",
       "mean   2001.0\n",
       "std       1.0\n",
       "min    2000.0\n",
       "25%    2000.5\n",
       "50%    2001.0\n",
       "75%    2001.5\n",
       "max    2002.0"
      ]
     },
     "execution_count": 57,
     "metadata": {},
     "output_type": "execute_result"
    }
   ],
   "source": [
    "frame.describe()#描述性统计"
   ]
  },
  {
   "cell_type": "markdown",
   "id": "d5884328",
   "metadata": {},
   "source": [
    "常见方法：count\\min\\max\\sum\\mean\\median\\var\\std"
   ]
  },
  {
   "cell_type": "code",
   "execution_count": 59,
   "id": "fcf401f9",
   "metadata": {
    "ExecuteTime": {
     "end_time": "2022-06-05T02:14:04.999159Z",
     "start_time": "2022-06-05T02:14:04.988798Z"
    }
   },
   "outputs": [
    {
     "data": {
      "text/html": [
       "<div>\n",
       "<style scoped>\n",
       "    .dataframe tbody tr th:only-of-type {\n",
       "        vertical-align: middle;\n",
       "    }\n",
       "\n",
       "    .dataframe tbody tr th {\n",
       "        vertical-align: top;\n",
       "    }\n",
       "\n",
       "    .dataframe thead th {\n",
       "        text-align: right;\n",
       "    }\n",
       "</style>\n",
       "<table border=\"1\" class=\"dataframe\">\n",
       "  <thead>\n",
       "    <tr style=\"text-align: right;\">\n",
       "      <th></th>\n",
       "      <th>state</th>\n",
       "      <th>year</th>\n",
       "    </tr>\n",
       "  </thead>\n",
       "  <tbody>\n",
       "    <tr>\n",
       "      <th>2000</th>\n",
       "      <td>0.0</td>\n",
       "      <td>1.0</td>\n",
       "    </tr>\n",
       "    <tr>\n",
       "      <th>2001</th>\n",
       "      <td>0.0</td>\n",
       "      <td>1.0</td>\n",
       "    </tr>\n",
       "    <tr>\n",
       "      <th>2002</th>\n",
       "      <td>0.0</td>\n",
       "      <td>1.0</td>\n",
       "    </tr>\n",
       "    <tr>\n",
       "      <th>nevada</th>\n",
       "      <td>1.0</td>\n",
       "      <td>0.0</td>\n",
       "    </tr>\n",
       "    <tr>\n",
       "      <th>ohio</th>\n",
       "      <td>2.0</td>\n",
       "      <td>0.0</td>\n",
       "    </tr>\n",
       "  </tbody>\n",
       "</table>\n",
       "</div>"
      ],
      "text/plain": [
       "        state  year\n",
       "2000      0.0   1.0\n",
       "2001      0.0   1.0\n",
       "2002      0.0   1.0\n",
       "nevada    1.0   0.0\n",
       "ohio      2.0   0.0"
      ]
     },
     "execution_count": 59,
     "metadata": {},
     "output_type": "execute_result"
    }
   ],
   "source": [
    "frame.apply(pd.value_counts).fillna(0) #计算不同值在每个列中出现的次数"
   ]
  },
  {
   "cell_type": "markdown",
   "id": "173b0dd0",
   "metadata": {},
   "source": [
    "### 数据类型转换"
   ]
  },
  {
   "cell_type": "code",
   "execution_count": 60,
   "id": "491afc13",
   "metadata": {
    "ExecuteTime": {
     "end_time": "2022-06-05T02:15:44.628646Z",
     "start_time": "2022-06-05T02:15:44.616589Z"
    }
   },
   "outputs": [
    {
     "data": {
      "text/plain": [
       "state    object\n",
       "year      int64\n",
       "dtype: object"
      ]
     },
     "execution_count": 60,
     "metadata": {},
     "output_type": "execute_result"
    }
   ],
   "source": [
    "frame.dtypes #查看数据框的类型"
   ]
  },
  {
   "cell_type": "code",
   "execution_count": 61,
   "id": "fe501256",
   "metadata": {
    "ExecuteTime": {
     "end_time": "2022-06-05T02:16:17.109738Z",
     "start_time": "2022-06-05T02:16:17.092240Z"
    }
   },
   "outputs": [
    {
     "name": "stdout",
     "output_type": "stream",
     "text": [
      "<class 'pandas.core.frame.DataFrame'>\n",
      "RangeIndex: 3 entries, 0 to 2\n",
      "Data columns (total 2 columns):\n",
      " #   Column  Non-Null Count  Dtype \n",
      "---  ------  --------------  ----- \n",
      " 0   state   3 non-null      object\n",
      " 1   year    3 non-null      int64 \n",
      "dtypes: int64(1), object(1)\n",
      "memory usage: 176.0+ bytes\n"
     ]
    }
   ],
   "source": [
    "frame.info() #查看数据框的更多详细信息"
   ]
  },
  {
   "cell_type": "markdown",
   "id": "7c877e20",
   "metadata": {},
   "source": [
    "pandas三种常用的数据格式的转换：   \n",
    "1、名字.astype()强制转化为数据类型  \n",
    "2、通过创建自定义的函数进行数据转换  \n",
    "3、pandas提供的to_numeric()以及to_datetime()"
   ]
  },
  {
   "cell_type": "code",
   "execution_count": 79,
   "id": "a051d30e",
   "metadata": {
    "ExecuteTime": {
     "end_time": "2022-06-05T02:27:38.193144Z",
     "start_time": "2022-06-05T02:27:38.181153Z"
    }
   },
   "outputs": [
    {
     "data": {
      "text/html": [
       "<div>\n",
       "<style scoped>\n",
       "    .dataframe tbody tr th:only-of-type {\n",
       "        vertical-align: middle;\n",
       "    }\n",
       "\n",
       "    .dataframe tbody tr th {\n",
       "        vertical-align: top;\n",
       "    }\n",
       "\n",
       "    .dataframe thead th {\n",
       "        text-align: right;\n",
       "    }\n",
       "</style>\n",
       "<table border=\"1\" class=\"dataframe\">\n",
       "  <thead>\n",
       "    <tr style=\"text-align: right;\">\n",
       "      <th></th>\n",
       "      <th>state</th>\n",
       "      <th>year</th>\n",
       "    </tr>\n",
       "  </thead>\n",
       "  <tbody>\n",
       "    <tr>\n",
       "      <th>0</th>\n",
       "      <td>ohio</td>\n",
       "      <td>2000</td>\n",
       "    </tr>\n",
       "    <tr>\n",
       "      <th>1</th>\n",
       "      <td>ohio</td>\n",
       "      <td>2001</td>\n",
       "    </tr>\n",
       "    <tr>\n",
       "      <th>2</th>\n",
       "      <td>nevada</td>\n",
       "      <td>2002</td>\n",
       "    </tr>\n",
       "  </tbody>\n",
       "</table>\n",
       "</div>"
      ],
      "text/plain": [
       "    state  year\n",
       "0    ohio  2000\n",
       "1    ohio  2001\n",
       "2  nevada  2002"
      ]
     },
     "execution_count": 79,
     "metadata": {},
     "output_type": "execute_result"
    }
   ],
   "source": [
    "frame['year'] = frame['year'].astype('int')#将DataFrame中的某一列转换类型\n",
    "frame"
   ]
  },
  {
   "cell_type": "markdown",
   "id": "5834d086",
   "metadata": {},
   "source": [
    "### DataFrame拼接"
   ]
  },
  {
   "cell_type": "code",
   "execution_count": 91,
   "id": "45d99089",
   "metadata": {
    "ExecuteTime": {
     "end_time": "2022-06-05T02:32:44.614012Z",
     "start_time": "2022-06-05T02:32:44.604322Z"
    }
   },
   "outputs": [
    {
     "data": {
      "text/html": [
       "<div>\n",
       "<style scoped>\n",
       "    .dataframe tbody tr th:only-of-type {\n",
       "        vertical-align: middle;\n",
       "    }\n",
       "\n",
       "    .dataframe tbody tr th {\n",
       "        vertical-align: top;\n",
       "    }\n",
       "\n",
       "    .dataframe thead th {\n",
       "        text-align: right;\n",
       "    }\n",
       "</style>\n",
       "<table border=\"1\" class=\"dataframe\">\n",
       "  <thead>\n",
       "    <tr style=\"text-align: right;\">\n",
       "      <th></th>\n",
       "      <th>state</th>\n",
       "      <th>year</th>\n",
       "    </tr>\n",
       "  </thead>\n",
       "  <tbody>\n",
       "    <tr>\n",
       "      <th>0</th>\n",
       "      <td>nace</td>\n",
       "      <td>2003</td>\n",
       "    </tr>\n",
       "    <tr>\n",
       "      <th>1</th>\n",
       "      <td>eque</td>\n",
       "      <td>2004</td>\n",
       "    </tr>\n",
       "  </tbody>\n",
       "</table>\n",
       "</div>"
      ],
      "text/plain": [
       "  state  year\n",
       "0  nace  2003\n",
       "1  eque  2004"
      ]
     },
     "execution_count": 91,
     "metadata": {},
     "output_type": "execute_result"
    }
   ],
   "source": [
    "data1 = {'state':['nace','eque'],\n",
    "        'year':[2003,2004]}\n",
    "frame1 = pd.DataFrame(data1)\n",
    "frame1"
   ]
  },
  {
   "cell_type": "code",
   "execution_count": 92,
   "id": "82d665e4",
   "metadata": {
    "ExecuteTime": {
     "end_time": "2022-06-05T02:32:53.788555Z",
     "start_time": "2022-06-05T02:32:53.768226Z"
    }
   },
   "outputs": [
    {
     "data": {
      "text/html": [
       "<div>\n",
       "<style scoped>\n",
       "    .dataframe tbody tr th:only-of-type {\n",
       "        vertical-align: middle;\n",
       "    }\n",
       "\n",
       "    .dataframe tbody tr th {\n",
       "        vertical-align: top;\n",
       "    }\n",
       "\n",
       "    .dataframe thead th {\n",
       "        text-align: right;\n",
       "    }\n",
       "</style>\n",
       "<table border=\"1\" class=\"dataframe\">\n",
       "  <thead>\n",
       "    <tr style=\"text-align: right;\">\n",
       "      <th></th>\n",
       "      <th>state</th>\n",
       "      <th>year</th>\n",
       "    </tr>\n",
       "  </thead>\n",
       "  <tbody>\n",
       "    <tr>\n",
       "      <th>0</th>\n",
       "      <td>ohio</td>\n",
       "      <td>2000</td>\n",
       "    </tr>\n",
       "    <tr>\n",
       "      <th>1</th>\n",
       "      <td>ohio</td>\n",
       "      <td>2001</td>\n",
       "    </tr>\n",
       "    <tr>\n",
       "      <th>2</th>\n",
       "      <td>nevada</td>\n",
       "      <td>2002</td>\n",
       "    </tr>\n",
       "    <tr>\n",
       "      <th>3</th>\n",
       "      <td>nace</td>\n",
       "      <td>2003</td>\n",
       "    </tr>\n",
       "    <tr>\n",
       "      <th>4</th>\n",
       "      <td>eque</td>\n",
       "      <td>2004</td>\n",
       "    </tr>\n",
       "  </tbody>\n",
       "</table>\n",
       "</div>"
      ],
      "text/plain": [
       "    state  year\n",
       "0    ohio  2000\n",
       "1    ohio  2001\n",
       "2  nevada  2002\n",
       "3    nace  2003\n",
       "4    eque  2004"
      ]
     },
     "execution_count": 92,
     "metadata": {},
     "output_type": "execute_result"
    }
   ],
   "source": [
    "frame.append(frame1, ignore_index=True) #忽略列名，只显示一个，也可用循环实现"
   ]
  },
  {
   "cell_type": "code",
   "execution_count": 93,
   "id": "312cf3fc",
   "metadata": {
    "ExecuteTime": {
     "end_time": "2022-06-05T02:33:00.709239Z",
     "start_time": "2022-06-05T02:33:00.689944Z"
    }
   },
   "outputs": [
    {
     "data": {
      "text/html": [
       "<div>\n",
       "<style scoped>\n",
       "    .dataframe tbody tr th:only-of-type {\n",
       "        vertical-align: middle;\n",
       "    }\n",
       "\n",
       "    .dataframe tbody tr th {\n",
       "        vertical-align: top;\n",
       "    }\n",
       "\n",
       "    .dataframe thead th {\n",
       "        text-align: right;\n",
       "    }\n",
       "</style>\n",
       "<table border=\"1\" class=\"dataframe\">\n",
       "  <thead>\n",
       "    <tr style=\"text-align: right;\">\n",
       "      <th></th>\n",
       "      <th>state</th>\n",
       "      <th>year</th>\n",
       "    </tr>\n",
       "  </thead>\n",
       "  <tbody>\n",
       "    <tr>\n",
       "      <th>0</th>\n",
       "      <td>ohio</td>\n",
       "      <td>2000</td>\n",
       "    </tr>\n",
       "    <tr>\n",
       "      <th>1</th>\n",
       "      <td>ohio</td>\n",
       "      <td>2001</td>\n",
       "    </tr>\n",
       "    <tr>\n",
       "      <th>2</th>\n",
       "      <td>nevada</td>\n",
       "      <td>2002</td>\n",
       "    </tr>\n",
       "    <tr>\n",
       "      <th>0</th>\n",
       "      <td>nace</td>\n",
       "      <td>2003</td>\n",
       "    </tr>\n",
       "    <tr>\n",
       "      <th>1</th>\n",
       "      <td>eque</td>\n",
       "      <td>2004</td>\n",
       "    </tr>\n",
       "  </tbody>\n",
       "</table>\n",
       "</div>"
      ],
      "text/plain": [
       "    state  year\n",
       "0    ohio  2000\n",
       "1    ohio  2001\n",
       "2  nevada  2002\n",
       "0    nace  2003\n",
       "1    eque  2004"
      ]
     },
     "execution_count": 93,
     "metadata": {},
     "output_type": "execute_result"
    }
   ],
   "source": [
    "pd.concat([frame,frame1], axis=0)#横向拼接"
   ]
  },
  {
   "cell_type": "markdown",
   "id": "c8535947",
   "metadata": {},
   "source": [
    "### 时间序列/差分"
   ]
  },
  {
   "cell_type": "code",
   "execution_count": 94,
   "id": "e1b70de4",
   "metadata": {
    "ExecuteTime": {
     "end_time": "2022-06-05T02:34:32.818410Z",
     "start_time": "2022-06-05T02:34:32.804147Z"
    }
   },
   "outputs": [
    {
     "data": {
      "text/html": [
       "<div>\n",
       "<style scoped>\n",
       "    .dataframe tbody tr th:only-of-type {\n",
       "        vertical-align: middle;\n",
       "    }\n",
       "\n",
       "    .dataframe tbody tr th {\n",
       "        vertical-align: top;\n",
       "    }\n",
       "\n",
       "    .dataframe thead th {\n",
       "        text-align: right;\n",
       "    }\n",
       "</style>\n",
       "<table border=\"1\" class=\"dataframe\">\n",
       "  <thead>\n",
       "    <tr style=\"text-align: right;\">\n",
       "      <th></th>\n",
       "      <th>state</th>\n",
       "      <th>year</th>\n",
       "    </tr>\n",
       "  </thead>\n",
       "  <tbody>\n",
       "    <tr>\n",
       "      <th>0</th>\n",
       "      <td>NaN</td>\n",
       "      <td>NaN</td>\n",
       "    </tr>\n",
       "    <tr>\n",
       "      <th>1</th>\n",
       "      <td>ohio</td>\n",
       "      <td>2000.0</td>\n",
       "    </tr>\n",
       "    <tr>\n",
       "      <th>2</th>\n",
       "      <td>ohio</td>\n",
       "      <td>2001.0</td>\n",
       "    </tr>\n",
       "  </tbody>\n",
       "</table>\n",
       "</div>"
      ],
      "text/plain": [
       "  state    year\n",
       "0   NaN     NaN\n",
       "1  ohio  2000.0\n",
       "2  ohio  2001.0"
      ]
     },
     "execution_count": 94,
     "metadata": {},
     "output_type": "execute_result"
    }
   ],
   "source": [
    "frame.shift(1)"
   ]
  },
  {
   "cell_type": "markdown",
   "id": "25e273c2",
   "metadata": {},
   "source": [
    "frame.shift(periods=1, freq=None, axis=0) periods类型为int，表示移动的幅度，可以是正数，也可以是负数，默认值为1，1表示移动一次，这里移动的是数据，而索引是不移动的，移动之后没有对应值的，为NaN。"
   ]
  },
  {
   "cell_type": "markdown",
   "id": "d4808d69",
   "metadata": {},
   "source": [
    "freq可选参数，只适用于时间序列，如果这个参数存在，会按照参数值移动时间索引，而数据值没有发生变化。"
   ]
  },
  {
   "cell_type": "markdown",
   "id": "fefb40d9",
   "metadata": {},
   "source": [
    "### 抽样"
   ]
  },
  {
   "cell_type": "markdown",
   "id": "2c74017f",
   "metadata": {},
   "source": [
    "frame.sample(n=None, frac=None, replace=False, weights=None, random_state=None, axis=None)  \n",
    "n：设置抽样数量  \n",
    "frac：设置抽样比例  \n",
    "replace：设置是否放回  \n",
    "weights：设置样本权重  \n",
    "random_state：设置随机种子"
   ]
  },
  {
   "cell_type": "code",
   "execution_count": 97,
   "id": "b9081e8c",
   "metadata": {
    "ExecuteTime": {
     "end_time": "2022-06-05T02:43:41.114891Z",
     "start_time": "2022-06-05T02:43:41.096652Z"
    }
   },
   "outputs": [
    {
     "data": {
      "text/html": [
       "<div>\n",
       "<style scoped>\n",
       "    .dataframe tbody tr th:only-of-type {\n",
       "        vertical-align: middle;\n",
       "    }\n",
       "\n",
       "    .dataframe tbody tr th {\n",
       "        vertical-align: top;\n",
       "    }\n",
       "\n",
       "    .dataframe thead th {\n",
       "        text-align: right;\n",
       "    }\n",
       "</style>\n",
       "<table border=\"1\" class=\"dataframe\">\n",
       "  <thead>\n",
       "    <tr style=\"text-align: right;\">\n",
       "      <th></th>\n",
       "      <th>state</th>\n",
       "      <th>year</th>\n",
       "    </tr>\n",
       "  </thead>\n",
       "  <tbody>\n",
       "    <tr>\n",
       "      <th>0</th>\n",
       "      <td>ohio</td>\n",
       "      <td>2000</td>\n",
       "    </tr>\n",
       "    <tr>\n",
       "      <th>1</th>\n",
       "      <td>ohio</td>\n",
       "      <td>2001</td>\n",
       "    </tr>\n",
       "  </tbody>\n",
       "</table>\n",
       "</div>"
      ],
      "text/plain": [
       "  state  year\n",
       "0  ohio  2000\n",
       "1  ohio  2001"
      ]
     },
     "execution_count": 97,
     "metadata": {},
     "output_type": "execute_result"
    }
   ],
   "source": [
    "frame.sample(frac=0.5)"
   ]
  },
  {
   "cell_type": "markdown",
   "id": "dc402f14",
   "metadata": {},
   "source": [
    "# 数据载入、存储和文件格式"
   ]
  },
  {
   "cell_type": "markdown",
   "id": "e90d6787",
   "metadata": {},
   "source": [
    "## 基本操作"
   ]
  },
  {
   "cell_type": "markdown",
   "id": "b728a3b6",
   "metadata": {},
   "source": [
    "1、将表格型数据读取为DataFrame对象是pandas的重要特征，read_csv和read_table是使用最多的函数。"
   ]
  },
  {
   "cell_type": "markdown",
   "id": "87053fa3",
   "metadata": {},
   "source": [
    "`df = pd.read_csv('文件名', sep=',', header=None, chunksize=1000, encoding='gbk')`  \n",
    "sep用于分隔每行字段的字符序列  \n",
    "header显示列名  \n",
    "encoding 显示文字类型 gbk表示中文  \n",
    "chunksize用于迭代的块的大小"
   ]
  },
  {
   "cell_type": "markdown",
   "id": "9ac55b54",
   "metadata": {},
   "source": [
    "2、将数据写入文本格式  "
   ]
  },
  {
   "cell_type": "markdown",
   "id": "dba84792",
   "metadata": {},
   "source": [
    "`frame.to_csv('路径',sep=' ', na_rep='NULL', index=False, header=False, columns=[,,], mode='a')  `  \n",
    "sep=' '空格形式写入  \n",
    "na_rep 对缺失值进行标注  \n",
    "columns 按照选定的顺序写入  \n",
    "mode='a' 不覆盖追加数据"
   ]
  },
  {
   "cell_type": "markdown",
   "id": "a2583fbf",
   "metadata": {},
   "source": [
    "3、读入其他数据"
   ]
  },
  {
   "cell_type": "markdown",
   "id": "281418ba",
   "metadata": {},
   "source": [
    "Json数据 pd.read_json()  \n",
    "Html数据 pd.read_html()  \n",
    "Excel数据 pd.read_excel('路径','表名') 数据名称.to_excel('路径','表名')"
   ]
  },
  {
   "cell_type": "markdown",
   "id": "985aff0d",
   "metadata": {},
   "source": [
    "4、数据库读数"
   ]
  },
  {
   "cell_type": "code",
   "execution_count": 98,
   "id": "83c06d5d",
   "metadata": {
    "ExecuteTime": {
     "end_time": "2022-06-05T03:03:47.816922Z",
     "start_time": "2022-06-05T03:03:47.760072Z"
    }
   },
   "outputs": [],
   "source": [
    "import pymysql"
   ]
  },
  {
   "cell_type": "markdown",
   "id": "72878da7",
   "metadata": {},
   "source": [
    "具体见mysql数据库.ipynb资料"
   ]
  },
  {
   "cell_type": "markdown",
   "id": "4510b3e4",
   "metadata": {},
   "source": [
    "## 遍历文件夹及其子目录"
   ]
  },
  {
   "cell_type": "code",
   "execution_count": 99,
   "id": "888a4cad",
   "metadata": {
    "ExecuteTime": {
     "end_time": "2022-06-05T03:06:10.027050Z",
     "start_time": "2022-06-05T03:06:10.013052Z"
    }
   },
   "outputs": [],
   "source": [
    "import os"
   ]
  },
  {
   "cell_type": "markdown",
   "id": "da79b9dc",
   "metadata": {},
   "source": [
    "os.listdir(path) 返回指定的文件夹包含的文件或文件夹的名字的列表"
   ]
  },
  {
   "cell_type": "markdown",
   "id": "42c1f9be",
   "metadata": {
    "ExecuteTime": {
     "end_time": "2022-06-05T03:10:50.706418Z",
     "start_time": "2022-06-05T03:10:50.688533Z"
    }
   },
   "source": [
    "os.walk(top, topdown=True, onerror=None, followlinks=False)  \n",
    "top是你要遍历的目录的地址  \n",
    "topdown为真，优先遍历top目录，否则优先遍历top的子目录  \n",
    "followlinks为真，会遍历目录下的快捷方式  "
   ]
  },
  {
   "cell_type": "markdown",
   "id": "5d711b79",
   "metadata": {},
   "source": [
    "os.walk的返回值是一个生成器，需要不断遍历，每次遍历的对象都是返回一个三元组(root, dirs, files)  \n",
    "root：当前目录  \n",
    "dirs：该文件夹中所有的目录的名字 list格式  \n",
    "files：该文件夹中的所有文件 list格式  \n",
    "每次用next()取得一个返回值。"
   ]
  },
  {
   "cell_type": "markdown",
   "id": "20cf2e05",
   "metadata": {},
   "source": [
    "os.path_join(path1,path2,...) 把目录和文件名合成一个路径  \n",
    "os.mkdir(path) 创建一个目录  "
   ]
  },
  {
   "cell_type": "code",
   "execution_count": 101,
   "id": "eb9d1b21",
   "metadata": {
    "ExecuteTime": {
     "end_time": "2022-06-05T03:14:03.566820Z",
     "start_time": "2022-06-05T03:14:03.556600Z"
    }
   },
   "outputs": [],
   "source": [
    "import shutil"
   ]
  },
  {
   "cell_type": "markdown",
   "id": "75e3d4d9",
   "metadata": {},
   "source": [
    "suhtil.copyfile(src, dst) 将src文件内容复制到dst文件中"
   ]
  },
  {
   "cell_type": "markdown",
   "id": "6cdf813d",
   "metadata": {},
   "source": [
    "# 数据清洗与准备"
   ]
  },
  {
   "cell_type": "markdown",
   "id": "7db7b8b7",
   "metadata": {},
   "source": [
    "## 处理缺失值"
   ]
  },
  {
   "cell_type": "markdown",
   "id": "7cdc35d9",
   "metadata": {},
   "source": [
    "pandas对象的所有描述性统计信息默认情况下是排除缺失值(NA)。"
   ]
  },
  {
   "cell_type": "markdown",
   "id": "700faccf",
   "metadata": {},
   "source": [
    "1、NA处理方法  \n",
    "dropna() 返回所有的非空数据  \n",
    "fillna() 用某些值填充缺失的数据或使用插值方法  \n",
    "isnull() 返回表名哪些值是缺失值的布尔值  \n",
    "notnull() isnull()的反函数  "
   ]
  },
  {
   "cell_type": "code",
   "execution_count": 102,
   "id": "6252587f",
   "metadata": {
    "ExecuteTime": {
     "end_time": "2022-06-05T03:23:36.489158Z",
     "start_time": "2022-06-05T03:23:36.458027Z"
    }
   },
   "outputs": [
    {
     "data": {
      "text/plain": [
       "state    False\n",
       "year     False\n",
       "dtype: bool"
      ]
     },
     "execution_count": 102,
     "metadata": {},
     "output_type": "execute_result"
    }
   ],
   "source": [
    "frame.isnull().any() #判断哪些列存在缺失值"
   ]
  },
  {
   "cell_type": "code",
   "execution_count": 103,
   "id": "7417ccd0",
   "metadata": {
    "ExecuteTime": {
     "end_time": "2022-06-05T03:24:31.252180Z",
     "start_time": "2022-06-05T03:24:31.228567Z"
    }
   },
   "outputs": [
    {
     "data": {
      "text/plain": [
       "0    0\n",
       "1    0\n",
       "2    0\n",
       "dtype: int64"
      ]
     },
     "execution_count": 103,
     "metadata": {},
     "output_type": "execute_result"
    }
   ],
   "source": [
    "frame.isnull().sum(axis=1) #返回每行缺失值总数"
   ]
  },
  {
   "cell_type": "code",
   "execution_count": 104,
   "id": "98b758f4",
   "metadata": {
    "ExecuteTime": {
     "end_time": "2022-06-05T03:25:15.205175Z",
     "start_time": "2022-06-05T03:25:15.183012Z"
    }
   },
   "outputs": [
    {
     "data": {
      "text/plain": [
       "state    0\n",
       "year     0\n",
       "dtype: int64"
      ]
     },
     "execution_count": 104,
     "metadata": {},
     "output_type": "execute_result"
    }
   ],
   "source": [
    "frame.isnull().sum(axis=0) #返回每列缺失值总数"
   ]
  },
  {
   "cell_type": "markdown",
   "id": "d0a700b9",
   "metadata": {},
   "source": [
    "2、np.nan表示缺失值或 from numpy import nan as NA，用NA代替缺失值"
   ]
  },
  {
   "cell_type": "markdown",
   "id": "9ba06ae4",
   "metadata": {},
   "source": [
    "3、当处理DataFrame对象时，dropna默认情况下会删除包含缺失值的行  \n",
    "dropna(how='all') 删除所有值均为NA的行  \n",
    "dropna(axis=1) 删除包含缺失值的列"
   ]
  },
  {
   "cell_type": "markdown",
   "id": "43d5e5d6",
   "metadata": {},
   "source": [
    "## 补全缺失值"
   ]
  },
  {
   "cell_type": "markdown",
   "id": "0aeb065c",
   "metadata": {},
   "source": [
    "1、大多数情况下，主要使用fillna()来补全缺失值，可以使用一个常数来替代缺失值。"
   ]
  },
  {
   "cell_type": "code",
   "execution_count": 105,
   "id": "137f21a6",
   "metadata": {
    "ExecuteTime": {
     "end_time": "2022-06-05T03:31:07.090554Z",
     "start_time": "2022-06-05T03:31:07.059027Z"
    }
   },
   "outputs": [
    {
     "data": {
      "text/html": [
       "<div>\n",
       "<style scoped>\n",
       "    .dataframe tbody tr th:only-of-type {\n",
       "        vertical-align: middle;\n",
       "    }\n",
       "\n",
       "    .dataframe tbody tr th {\n",
       "        vertical-align: top;\n",
       "    }\n",
       "\n",
       "    .dataframe thead th {\n",
       "        text-align: right;\n",
       "    }\n",
       "</style>\n",
       "<table border=\"1\" class=\"dataframe\">\n",
       "  <thead>\n",
       "    <tr style=\"text-align: right;\">\n",
       "      <th></th>\n",
       "      <th>state</th>\n",
       "      <th>year</th>\n",
       "    </tr>\n",
       "  </thead>\n",
       "  <tbody>\n",
       "    <tr>\n",
       "      <th>0</th>\n",
       "      <td>ohio</td>\n",
       "      <td>2000</td>\n",
       "    </tr>\n",
       "    <tr>\n",
       "      <th>1</th>\n",
       "      <td>ohio</td>\n",
       "      <td>2001</td>\n",
       "    </tr>\n",
       "    <tr>\n",
       "      <th>2</th>\n",
       "      <td>nevada</td>\n",
       "      <td>2002</td>\n",
       "    </tr>\n",
       "  </tbody>\n",
       "</table>\n",
       "</div>"
      ],
      "text/plain": [
       "    state  year\n",
       "0    ohio  2000\n",
       "1    ohio  2001\n",
       "2  nevada  2002"
      ]
     },
     "execution_count": 105,
     "metadata": {},
     "output_type": "execute_result"
    }
   ],
   "source": [
    "frame.fillna(0)"
   ]
  },
  {
   "cell_type": "markdown",
   "id": "08bf9130",
   "metadata": {},
   "source": [
    "2、在调用fillna时使用字典，可以为不同列设定不同的填充值。"
   ]
  },
  {
   "cell_type": "code",
   "execution_count": 106,
   "id": "b90f3610",
   "metadata": {
    "ExecuteTime": {
     "end_time": "2022-06-05T03:33:00.326887Z",
     "start_time": "2022-06-05T03:33:00.309011Z"
    }
   },
   "outputs": [
    {
     "data": {
      "text/html": [
       "<div>\n",
       "<style scoped>\n",
       "    .dataframe tbody tr th:only-of-type {\n",
       "        vertical-align: middle;\n",
       "    }\n",
       "\n",
       "    .dataframe tbody tr th {\n",
       "        vertical-align: top;\n",
       "    }\n",
       "\n",
       "    .dataframe thead th {\n",
       "        text-align: right;\n",
       "    }\n",
       "</style>\n",
       "<table border=\"1\" class=\"dataframe\">\n",
       "  <thead>\n",
       "    <tr style=\"text-align: right;\">\n",
       "      <th></th>\n",
       "      <th>state</th>\n",
       "      <th>year</th>\n",
       "    </tr>\n",
       "  </thead>\n",
       "  <tbody>\n",
       "    <tr>\n",
       "      <th>0</th>\n",
       "      <td>ohio</td>\n",
       "      <td>2000</td>\n",
       "    </tr>\n",
       "    <tr>\n",
       "      <th>1</th>\n",
       "      <td>ohio</td>\n",
       "      <td>2001</td>\n",
       "    </tr>\n",
       "    <tr>\n",
       "      <th>2</th>\n",
       "      <td>nevada</td>\n",
       "      <td>2002</td>\n",
       "    </tr>\n",
       "  </tbody>\n",
       "</table>\n",
       "</div>"
      ],
      "text/plain": [
       "    state  year\n",
       "0    ohio  2000\n",
       "1    ohio  2001\n",
       "2  nevada  2002"
      ]
     },
     "execution_count": 106,
     "metadata": {},
     "output_type": "execute_result"
    }
   ],
   "source": [
    "frame.fillna({1:0.5, 2:0.7}) #第二列缺失值填充为0.5，第三列填充为0.7"
   ]
  },
  {
   "cell_type": "markdown",
   "id": "a4b9f743",
   "metadata": {},
   "source": [
    "3、可以将平均值、中位数等函数计算结果用于填充缺失值。"
   ]
  },
  {
   "cell_type": "code",
   "execution_count": 107,
   "id": "2786e021",
   "metadata": {
    "ExecuteTime": {
     "end_time": "2022-06-05T03:34:05.586985Z",
     "start_time": "2022-06-05T03:34:05.564290Z"
    }
   },
   "outputs": [
    {
     "data": {
      "text/html": [
       "<div>\n",
       "<style scoped>\n",
       "    .dataframe tbody tr th:only-of-type {\n",
       "        vertical-align: middle;\n",
       "    }\n",
       "\n",
       "    .dataframe tbody tr th {\n",
       "        vertical-align: top;\n",
       "    }\n",
       "\n",
       "    .dataframe thead th {\n",
       "        text-align: right;\n",
       "    }\n",
       "</style>\n",
       "<table border=\"1\" class=\"dataframe\">\n",
       "  <thead>\n",
       "    <tr style=\"text-align: right;\">\n",
       "      <th></th>\n",
       "      <th>state</th>\n",
       "      <th>year</th>\n",
       "    </tr>\n",
       "  </thead>\n",
       "  <tbody>\n",
       "    <tr>\n",
       "      <th>0</th>\n",
       "      <td>ohio</td>\n",
       "      <td>2000</td>\n",
       "    </tr>\n",
       "    <tr>\n",
       "      <th>1</th>\n",
       "      <td>ohio</td>\n",
       "      <td>2001</td>\n",
       "    </tr>\n",
       "    <tr>\n",
       "      <th>2</th>\n",
       "      <td>nevada</td>\n",
       "      <td>2002</td>\n",
       "    </tr>\n",
       "  </tbody>\n",
       "</table>\n",
       "</div>"
      ],
      "text/plain": [
       "    state  year\n",
       "0    ohio  2000\n",
       "1    ohio  2001\n",
       "2  nevada  2002"
      ]
     },
     "execution_count": 107,
     "metadata": {},
     "output_type": "execute_result"
    }
   ],
   "source": [
    "frame.fillna(frame.mean())"
   ]
  },
  {
   "cell_type": "markdown",
   "id": "abe0dabb",
   "metadata": {},
   "source": [
    "## 删除重复值"
   ]
  },
  {
   "cell_type": "code",
   "execution_count": 108,
   "id": "333f85ed",
   "metadata": {
    "ExecuteTime": {
     "end_time": "2022-06-05T03:35:56.360507Z",
     "start_time": "2022-06-05T03:35:56.299609Z"
    }
   },
   "outputs": [
    {
     "data": {
      "text/html": [
       "<div>\n",
       "<style scoped>\n",
       "    .dataframe tbody tr th:only-of-type {\n",
       "        vertical-align: middle;\n",
       "    }\n",
       "\n",
       "    .dataframe tbody tr th {\n",
       "        vertical-align: top;\n",
       "    }\n",
       "\n",
       "    .dataframe thead th {\n",
       "        text-align: right;\n",
       "    }\n",
       "</style>\n",
       "<table border=\"1\" class=\"dataframe\">\n",
       "  <thead>\n",
       "    <tr style=\"text-align: right;\">\n",
       "      <th></th>\n",
       "      <th>state</th>\n",
       "      <th>year</th>\n",
       "    </tr>\n",
       "  </thead>\n",
       "  <tbody>\n",
       "    <tr>\n",
       "      <th>0</th>\n",
       "      <td>ohio</td>\n",
       "      <td>2000</td>\n",
       "    </tr>\n",
       "    <tr>\n",
       "      <th>1</th>\n",
       "      <td>ohio</td>\n",
       "      <td>2001</td>\n",
       "    </tr>\n",
       "    <tr>\n",
       "      <th>2</th>\n",
       "      <td>nevada</td>\n",
       "      <td>2002</td>\n",
       "    </tr>\n",
       "  </tbody>\n",
       "</table>\n",
       "</div>"
      ],
      "text/plain": [
       "    state  year\n",
       "0    ohio  2000\n",
       "1    ohio  2001\n",
       "2  nevada  2002"
      ]
     },
     "execution_count": 108,
     "metadata": {},
     "output_type": "execute_result"
    }
   ],
   "source": [
    "frame.drop_duplicates() #去除重复行"
   ]
  },
  {
   "cell_type": "code",
   "execution_count": 109,
   "id": "647d37d3",
   "metadata": {
    "ExecuteTime": {
     "end_time": "2022-06-05T03:36:48.558933Z",
     "start_time": "2022-06-05T03:36:48.542432Z"
    }
   },
   "outputs": [
    {
     "data": {
      "text/html": [
       "<div>\n",
       "<style scoped>\n",
       "    .dataframe tbody tr th:only-of-type {\n",
       "        vertical-align: middle;\n",
       "    }\n",
       "\n",
       "    .dataframe tbody tr th {\n",
       "        vertical-align: top;\n",
       "    }\n",
       "\n",
       "    .dataframe thead th {\n",
       "        text-align: right;\n",
       "    }\n",
       "</style>\n",
       "<table border=\"1\" class=\"dataframe\">\n",
       "  <thead>\n",
       "    <tr style=\"text-align: right;\">\n",
       "      <th></th>\n",
       "      <th>state</th>\n",
       "      <th>year</th>\n",
       "    </tr>\n",
       "  </thead>\n",
       "  <tbody>\n",
       "    <tr>\n",
       "      <th>0</th>\n",
       "      <td>ohio</td>\n",
       "      <td>2000</td>\n",
       "    </tr>\n",
       "    <tr>\n",
       "      <th>2</th>\n",
       "      <td>nevada</td>\n",
       "      <td>2002</td>\n",
       "    </tr>\n",
       "  </tbody>\n",
       "</table>\n",
       "</div>"
      ],
      "text/plain": [
       "    state  year\n",
       "0    ohio  2000\n",
       "2  nevada  2002"
      ]
     },
     "execution_count": 109,
     "metadata": {},
     "output_type": "execute_result"
    }
   ],
   "source": [
    "frame.drop_duplicates(['state']) #基于指定列去除重复值"
   ]
  },
  {
   "cell_type": "markdown",
   "id": "2b2a4287",
   "metadata": {},
   "source": [
    "## 替代值"
   ]
  },
  {
   "cell_type": "code",
   "execution_count": 110,
   "id": "a7ab6b12",
   "metadata": {
    "ExecuteTime": {
     "end_time": "2022-06-05T03:39:08.271067Z",
     "start_time": "2022-06-05T03:39:08.245238Z"
    }
   },
   "outputs": [
    {
     "data": {
      "text/html": [
       "<div>\n",
       "<style scoped>\n",
       "    .dataframe tbody tr th:only-of-type {\n",
       "        vertical-align: middle;\n",
       "    }\n",
       "\n",
       "    .dataframe tbody tr th {\n",
       "        vertical-align: top;\n",
       "    }\n",
       "\n",
       "    .dataframe thead th {\n",
       "        text-align: right;\n",
       "    }\n",
       "</style>\n",
       "<table border=\"1\" class=\"dataframe\">\n",
       "  <thead>\n",
       "    <tr style=\"text-align: right;\">\n",
       "      <th></th>\n",
       "      <th>state</th>\n",
       "      <th>year</th>\n",
       "    </tr>\n",
       "  </thead>\n",
       "  <tbody>\n",
       "    <tr>\n",
       "      <th>0</th>\n",
       "      <td>ohio</td>\n",
       "      <td>NaN</td>\n",
       "    </tr>\n",
       "    <tr>\n",
       "      <th>1</th>\n",
       "      <td>ohio</td>\n",
       "      <td>2001.0</td>\n",
       "    </tr>\n",
       "    <tr>\n",
       "      <th>2</th>\n",
       "      <td>nevada</td>\n",
       "      <td>2002.0</td>\n",
       "    </tr>\n",
       "  </tbody>\n",
       "</table>\n",
       "</div>"
      ],
      "text/plain": [
       "    state    year\n",
       "0    ohio     NaN\n",
       "1    ohio  2001.0\n",
       "2  nevada  2002.0"
      ]
     },
     "execution_count": 110,
     "metadata": {},
     "output_type": "execute_result"
    }
   ],
   "source": [
    "frame.replace(2000,np.nan)"
   ]
  },
  {
   "cell_type": "code",
   "execution_count": 111,
   "id": "9f1f4f68",
   "metadata": {
    "ExecuteTime": {
     "end_time": "2022-06-05T03:39:59.530134Z",
     "start_time": "2022-06-05T03:39:59.502535Z"
    }
   },
   "outputs": [
    {
     "data": {
      "text/html": [
       "<div>\n",
       "<style scoped>\n",
       "    .dataframe tbody tr th:only-of-type {\n",
       "        vertical-align: middle;\n",
       "    }\n",
       "\n",
       "    .dataframe tbody tr th {\n",
       "        vertical-align: top;\n",
       "    }\n",
       "\n",
       "    .dataframe thead th {\n",
       "        text-align: right;\n",
       "    }\n",
       "</style>\n",
       "<table border=\"1\" class=\"dataframe\">\n",
       "  <thead>\n",
       "    <tr style=\"text-align: right;\">\n",
       "      <th></th>\n",
       "      <th>state</th>\n",
       "      <th>year</th>\n",
       "    </tr>\n",
       "  </thead>\n",
       "  <tbody>\n",
       "    <tr>\n",
       "      <th>0</th>\n",
       "      <td>ohio</td>\n",
       "      <td>NaN</td>\n",
       "    </tr>\n",
       "    <tr>\n",
       "      <th>1</th>\n",
       "      <td>ohio</td>\n",
       "      <td>2001.0</td>\n",
       "    </tr>\n",
       "    <tr>\n",
       "      <th>2</th>\n",
       "      <td>nevada</td>\n",
       "      <td>2002.0</td>\n",
       "    </tr>\n",
       "  </tbody>\n",
       "</table>\n",
       "</div>"
      ],
      "text/plain": [
       "    state    year\n",
       "0    ohio     NaN\n",
       "1    ohio  2001.0\n",
       "2  nevada  2002.0"
      ]
     },
     "execution_count": 111,
     "metadata": {},
     "output_type": "execute_result"
    }
   ],
   "source": [
    "frame.replace([2000,1000],[np.nan,0]) #多值替代"
   ]
  },
  {
   "cell_type": "markdown",
   "id": "9bea8862",
   "metadata": {},
   "source": [
    "## 重命名轴索引"
   ]
  },
  {
   "cell_type": "code",
   "execution_count": 113,
   "id": "e60b3031",
   "metadata": {
    "ExecuteTime": {
     "end_time": "2022-06-05T03:42:55.782422Z",
     "start_time": "2022-06-05T03:42:55.757968Z"
    }
   },
   "outputs": [
    {
     "data": {
      "text/html": [
       "<div>\n",
       "<style scoped>\n",
       "    .dataframe tbody tr th:only-of-type {\n",
       "        vertical-align: middle;\n",
       "    }\n",
       "\n",
       "    .dataframe tbody tr th {\n",
       "        vertical-align: top;\n",
       "    }\n",
       "\n",
       "    .dataframe thead th {\n",
       "        text-align: right;\n",
       "    }\n",
       "</style>\n",
       "<table border=\"1\" class=\"dataframe\">\n",
       "  <thead>\n",
       "    <tr style=\"text-align: right;\">\n",
       "      <th></th>\n",
       "      <th>states</th>\n",
       "      <th>years</th>\n",
       "    </tr>\n",
       "  </thead>\n",
       "  <tbody>\n",
       "    <tr>\n",
       "      <th>zero</th>\n",
       "      <td>ohio</td>\n",
       "      <td>2000</td>\n",
       "    </tr>\n",
       "    <tr>\n",
       "      <th>one</th>\n",
       "      <td>ohio</td>\n",
       "      <td>2001</td>\n",
       "    </tr>\n",
       "    <tr>\n",
       "      <th>two</th>\n",
       "      <td>nevada</td>\n",
       "      <td>2002</td>\n",
       "    </tr>\n",
       "  </tbody>\n",
       "</table>\n",
       "</div>"
      ],
      "text/plain": [
       "      states  years\n",
       "zero    ohio   2000\n",
       "one     ohio   2001\n",
       "two   nevada   2002"
      ]
     },
     "execution_count": 113,
     "metadata": {},
     "output_type": "execute_result"
    }
   ],
   "source": [
    "frame.rename(index={0:'zero',1:'one',2:'two'}, columns={'year':'years','state':'states'})"
   ]
  },
  {
   "cell_type": "markdown",
   "id": "75bf389c",
   "metadata": {},
   "source": [
    "## 离散化和分箱"
   ]
  },
  {
   "cell_type": "code",
   "execution_count": 114,
   "id": "40e629c0",
   "metadata": {
    "ExecuteTime": {
     "end_time": "2022-06-05T03:46:41.591008Z",
     "start_time": "2022-06-05T03:46:41.530083Z"
    }
   },
   "outputs": [
    {
     "data": {
      "text/plain": [
       "[(18, 25], (18, 25], (18, 25], (25, 35], (18, 25], ..., (25, 35], (60, 100], (35, 60], (35, 60], (25, 35]]\n",
       "Length: 12\n",
       "Categories (4, interval[int64]): [(18, 25] < (25, 35] < (35, 60] < (60, 100]]"
      ]
     },
     "execution_count": 114,
     "metadata": {},
     "output_type": "execute_result"
    }
   ],
   "source": [
    "ages = [20, 22, 25, 27, 21, 23, 37, 31, 61, 45, 41, 32]\n",
    "bins = [18, 25, 35, 60, 100]#将年龄划分区间\n",
    "cuts = pd.cut(ages, bins)\n",
    "cuts"
   ]
  },
  {
   "cell_type": "code",
   "execution_count": 115,
   "id": "0bfc3800",
   "metadata": {
    "ExecuteTime": {
     "end_time": "2022-06-05T03:47:22.545635Z",
     "start_time": "2022-06-05T03:47:22.522942Z"
    }
   },
   "outputs": [
    {
     "data": {
      "text/plain": [
       "(18, 25]     5\n",
       "(25, 35]     3\n",
       "(35, 60]     3\n",
       "(60, 100]    1\n",
       "dtype: int64"
      ]
     },
     "execution_count": 115,
     "metadata": {},
     "output_type": "execute_result"
    }
   ],
   "source": [
    "pd.value_counts(cuts)#统计区间个数"
   ]
  },
  {
   "cell_type": "code",
   "execution_count": 116,
   "id": "77101cce",
   "metadata": {
    "ExecuteTime": {
     "end_time": "2022-06-05T03:48:22.898599Z",
     "start_time": "2022-06-05T03:48:22.845367Z"
    }
   },
   "outputs": [
    {
     "data": {
      "text/plain": [
       "[(19.999, 22.75], (19.999, 22.75], (22.75, 29.0], (22.75, 29.0], (19.999, 22.75], ..., (29.0, 38.0], (38.0, 61.0], (38.0, 61.0], (38.0, 61.0], (29.0, 38.0]]\n",
       "Length: 12\n",
       "Categories (4, interval[float64]): [(19.999, 22.75] < (22.75, 29.0] < (29.0, 38.0] < (38.0, 61.0]]"
      ]
     },
     "execution_count": 116,
     "metadata": {},
     "output_type": "execute_result"
    }
   ],
   "source": [
    "pd.qcut(ages, 4)#将样本按四分位数切成四分"
   ]
  },
  {
   "cell_type": "markdown",
   "id": "79aa8bed",
   "metadata": {},
   "source": [
    "# 重塑和透视"
   ]
  },
  {
   "cell_type": "markdown",
   "id": "25afdc11",
   "metadata": {},
   "source": [
    "分层索引是pandas的重要特性，允许你在一个轴向上拥有多个索引层级，分层索引提供了一种在更低维度的形式中处理更高维度数据的方式。"
   ]
  },
  {
   "cell_type": "code",
   "execution_count": 119,
   "id": "e8a3de17",
   "metadata": {
    "ExecuteTime": {
     "end_time": "2022-06-05T03:55:21.079938Z",
     "start_time": "2022-06-05T03:55:21.054165Z"
    }
   },
   "outputs": [
    {
     "data": {
      "text/plain": [
       "state  0      ohio\n",
       "       1      ohio\n",
       "       2    nevada\n",
       "year   0      2000\n",
       "       1      2001\n",
       "       2      2002\n",
       "dtype: object"
      ]
     },
     "execution_count": 119,
     "metadata": {},
     "output_type": "execute_result"
    }
   ],
   "source": [
    "frame.unstack() #拆堆"
   ]
  },
  {
   "cell_type": "code",
   "execution_count": 120,
   "id": "6b657c9a",
   "metadata": {
    "ExecuteTime": {
     "end_time": "2022-06-05T03:55:57.968186Z",
     "start_time": "2022-06-05T03:55:57.950444Z"
    }
   },
   "outputs": [
    {
     "data": {
      "text/plain": [
       "0  state      ohio\n",
       "   year       2000\n",
       "1  state      ohio\n",
       "   year       2001\n",
       "2  state    nevada\n",
       "   year       2002\n",
       "dtype: object"
      ]
     },
     "execution_count": 120,
     "metadata": {},
     "output_type": "execute_result"
    }
   ],
   "source": [
    "frame.stack() #堆叠"
   ]
  },
  {
   "cell_type": "markdown",
   "id": "63214c57",
   "metadata": {},
   "source": [
    "# 绘图和可视化"
   ]
  },
  {
   "cell_type": "markdown",
   "id": "93ab3b9b",
   "metadata": {},
   "source": [
    "## matplotlib库"
   ]
  },
  {
   "cell_type": "code",
   "execution_count": 117,
   "id": "30396a9e",
   "metadata": {
    "ExecuteTime": {
     "end_time": "2022-06-05T03:49:55.594890Z",
     "start_time": "2022-06-05T03:49:55.365348Z"
    }
   },
   "outputs": [],
   "source": [
    "import matplotlib as plt"
   ]
  },
  {
   "cell_type": "markdown",
   "id": "22c52624",
   "metadata": {},
   "source": [
    "## seaborn库"
   ]
  },
  {
   "cell_type": "code",
   "execution_count": 118,
   "id": "33185608",
   "metadata": {
    "ExecuteTime": {
     "end_time": "2022-06-05T03:51:06.996099Z",
     "start_time": "2022-06-05T03:51:03.357734Z"
    }
   },
   "outputs": [],
   "source": [
    "import seaborn as sns"
   ]
  },
  {
   "cell_type": "markdown",
   "id": "e3f1636b",
   "metadata": {},
   "source": [
    "# 数据聚合与分组操作"
   ]
  },
  {
   "cell_type": "markdown",
   "id": "3a038ab5",
   "metadata": {},
   "source": [
    "## groupby机制"
   ]
  },
  {
   "cell_type": "markdown",
   "id": "2c3e26f0",
   "metadata": {},
   "source": [
    "DataFrame可以在它的行方向（axis=0）或列方向（axis=1）进行分组，在这种情况下，你可以传递列名或行名（无论它们是字符串、数字或其他python对象）作为分组键。"
   ]
  },
  {
   "cell_type": "code",
   "execution_count": 122,
   "id": "184f597b",
   "metadata": {
    "ExecuteTime": {
     "end_time": "2022-06-05T05:23:29.491928Z",
     "start_time": "2022-06-05T05:23:29.474938Z"
    }
   },
   "outputs": [
    {
     "data": {
      "text/html": [
       "<div>\n",
       "<style scoped>\n",
       "    .dataframe tbody tr th:only-of-type {\n",
       "        vertical-align: middle;\n",
       "    }\n",
       "\n",
       "    .dataframe tbody tr th {\n",
       "        vertical-align: top;\n",
       "    }\n",
       "\n",
       "    .dataframe thead th {\n",
       "        text-align: right;\n",
       "    }\n",
       "</style>\n",
       "<table border=\"1\" class=\"dataframe\">\n",
       "  <thead>\n",
       "    <tr style=\"text-align: right;\">\n",
       "      <th></th>\n",
       "      <th>key1</th>\n",
       "      <th>key2</th>\n",
       "      <th>data1</th>\n",
       "      <th>data2</th>\n",
       "    </tr>\n",
       "  </thead>\n",
       "  <tbody>\n",
       "    <tr>\n",
       "      <th>0</th>\n",
       "      <td>a</td>\n",
       "      <td>one</td>\n",
       "      <td>-0.119439</td>\n",
       "      <td>-0.735122</td>\n",
       "    </tr>\n",
       "    <tr>\n",
       "      <th>1</th>\n",
       "      <td>a</td>\n",
       "      <td>two</td>\n",
       "      <td>-0.813536</td>\n",
       "      <td>0.827313</td>\n",
       "    </tr>\n",
       "    <tr>\n",
       "      <th>2</th>\n",
       "      <td>b</td>\n",
       "      <td>one</td>\n",
       "      <td>0.332113</td>\n",
       "      <td>-0.439339</td>\n",
       "    </tr>\n",
       "    <tr>\n",
       "      <th>3</th>\n",
       "      <td>b</td>\n",
       "      <td>two</td>\n",
       "      <td>0.900853</td>\n",
       "      <td>-0.117592</td>\n",
       "    </tr>\n",
       "    <tr>\n",
       "      <th>4</th>\n",
       "      <td>a</td>\n",
       "      <td>one</td>\n",
       "      <td>-0.459998</td>\n",
       "      <td>0.133810</td>\n",
       "    </tr>\n",
       "  </tbody>\n",
       "</table>\n",
       "</div>"
      ],
      "text/plain": [
       "  key1 key2     data1     data2\n",
       "0    a  one -0.119439 -0.735122\n",
       "1    a  two -0.813536  0.827313\n",
       "2    b  one  0.332113 -0.439339\n",
       "3    b  two  0.900853 -0.117592\n",
       "4    a  one -0.459998  0.133810"
      ]
     },
     "execution_count": 122,
     "metadata": {},
     "output_type": "execute_result"
    }
   ],
   "source": [
    "df = pd.DataFrame({'key1':['a','a','b','b','a'],\n",
    "                   'key2':['one','two','one','two','one'],\n",
    "                   'data1':np.random.randn(5),\n",
    "                   'data2':np.random.randn(5)})\n",
    "df"
   ]
  },
  {
   "cell_type": "markdown",
   "id": "cc9b2361",
   "metadata": {},
   "source": [
    "1、根据key1标签计算data1的均值  "
   ]
  },
  {
   "cell_type": "code",
   "execution_count": 123,
   "id": "e21bed0b",
   "metadata": {
    "ExecuteTime": {
     "end_time": "2022-06-05T05:27:08.422741Z",
     "start_time": "2022-06-05T05:27:08.396769Z"
    }
   },
   "outputs": [
    {
     "data": {
      "text/plain": [
       "key1\n",
       "a   -0.464324\n",
       "b    0.616483\n",
       "Name: data1, dtype: float64"
      ]
     },
     "execution_count": 123,
     "metadata": {},
     "output_type": "execute_result"
    }
   ],
   "source": [
    "df.groupby('key1')['data1'].mean()"
   ]
  },
  {
   "cell_type": "markdown",
   "id": "132e8fe5",
   "metadata": {},
   "source": [
    "2、根据key1，key2标签进行分组"
   ]
  },
  {
   "cell_type": "code",
   "execution_count": 124,
   "id": "bdfec95c",
   "metadata": {
    "ExecuteTime": {
     "end_time": "2022-06-05T05:28:21.542846Z",
     "start_time": "2022-06-05T05:28:21.532634Z"
    }
   },
   "outputs": [
    {
     "data": {
      "text/plain": [
       "<pandas.core.groupby.generic.DataFrameGroupBy object at 0x0000019DF24DBA48>"
      ]
     },
     "execution_count": 124,
     "metadata": {},
     "output_type": "execute_result"
    }
   ],
   "source": [
    "df.groupby(['key1', 'key2'])"
   ]
  },
  {
   "cell_type": "markdown",
   "id": "394ebfbd",
   "metadata": {},
   "source": [
    "上述语句现在是一个groupby对象，需要迭代产生结果。"
   ]
  },
  {
   "cell_type": "code",
   "execution_count": 128,
   "id": "9cd79d2f",
   "metadata": {
    "ExecuteTime": {
     "end_time": "2022-06-05T05:32:50.364537Z",
     "start_time": "2022-06-05T05:32:50.343059Z"
    }
   },
   "outputs": [
    {
     "name": "stdout",
     "output_type": "stream",
     "text": [
      "a\n",
      "  key1 key2     data1     data2\n",
      "0    a  one -0.119439 -0.735122\n",
      "1    a  two -0.813536  0.827313\n",
      "4    a  one -0.459998  0.133810\n",
      "b\n",
      "  key1 key2     data1     data2\n",
      "2    b  one  0.332113 -0.439339\n",
      "3    b  two  0.900853 -0.117592\n"
     ]
    }
   ],
   "source": [
    "#当只有一个标签时：\n",
    "for name, group in df.groupby('key1'):\n",
    "    print(name)\n",
    "    print(group)"
   ]
  },
  {
   "cell_type": "code",
   "execution_count": 129,
   "id": "a76e557a",
   "metadata": {
    "ExecuteTime": {
     "end_time": "2022-06-05T05:32:51.242362Z",
     "start_time": "2022-06-05T05:32:51.211479Z"
    }
   },
   "outputs": [
    {
     "name": "stdout",
     "output_type": "stream",
     "text": [
      "('a', 'one')\n",
      "  key1 key2     data1     data2\n",
      "0    a  one -0.119439 -0.735122\n",
      "4    a  one -0.459998  0.133810\n",
      "('a', 'two')\n",
      "  key1 key2     data1     data2\n",
      "1    a  two -0.813536  0.827313\n",
      "('b', 'one')\n",
      "  key1 key2     data1     data2\n",
      "2    b  one  0.332113 -0.439339\n",
      "('b', 'two')\n",
      "  key1 key2     data1     data2\n",
      "3    b  two  0.900853 -0.117592\n"
     ]
    }
   ],
   "source": [
    "#当只有两个标签时：\n",
    "for (k1,k2),group in df.groupby(['key1','key2']):\n",
    "    print((k1,k2))\n",
    "    print(group)"
   ]
  },
  {
   "cell_type": "markdown",
   "id": "c93a00e0",
   "metadata": {},
   "source": [
    "根据key1，key2标签对data1进行分组，并求均值。"
   ]
  },
  {
   "cell_type": "code",
   "execution_count": 131,
   "id": "001e5304",
   "metadata": {
    "ExecuteTime": {
     "end_time": "2022-06-05T05:35:14.983743Z",
     "start_time": "2022-06-05T05:35:14.962800Z"
    }
   },
   "outputs": [
    {
     "data": {
      "text/plain": [
       "key1  key2\n",
       "a     one    -0.289718\n",
       "      two    -0.813536\n",
       "b     one     0.332113\n",
       "      two     0.900853\n",
       "Name: data1, dtype: float64"
      ]
     },
     "execution_count": 131,
     "metadata": {},
     "output_type": "execute_result"
    }
   ],
   "source": [
    "s = df.groupby(['key1','key2'])['data1'].mean()\n",
    "s"
   ]
  },
  {
   "cell_type": "code",
   "execution_count": 132,
   "id": "d9da1f7a",
   "metadata": {
    "ExecuteTime": {
     "end_time": "2022-06-05T05:35:23.388053Z",
     "start_time": "2022-06-05T05:35:23.376841Z"
    }
   },
   "outputs": [
    {
     "data": {
      "text/html": [
       "<div>\n",
       "<style scoped>\n",
       "    .dataframe tbody tr th:only-of-type {\n",
       "        vertical-align: middle;\n",
       "    }\n",
       "\n",
       "    .dataframe tbody tr th {\n",
       "        vertical-align: top;\n",
       "    }\n",
       "\n",
       "    .dataframe thead th {\n",
       "        text-align: right;\n",
       "    }\n",
       "</style>\n",
       "<table border=\"1\" class=\"dataframe\">\n",
       "  <thead>\n",
       "    <tr style=\"text-align: right;\">\n",
       "      <th>key2</th>\n",
       "      <th>one</th>\n",
       "      <th>two</th>\n",
       "    </tr>\n",
       "    <tr>\n",
       "      <th>key1</th>\n",
       "      <th></th>\n",
       "      <th></th>\n",
       "    </tr>\n",
       "  </thead>\n",
       "  <tbody>\n",
       "    <tr>\n",
       "      <th>a</th>\n",
       "      <td>-0.289718</td>\n",
       "      <td>-0.813536</td>\n",
       "    </tr>\n",
       "    <tr>\n",
       "      <th>b</th>\n",
       "      <td>0.332113</td>\n",
       "      <td>0.900853</td>\n",
       "    </tr>\n",
       "  </tbody>\n",
       "</table>\n",
       "</div>"
      ],
      "text/plain": [
       "key2       one       two\n",
       "key1                    \n",
       "a    -0.289718 -0.813536\n",
       "b     0.332113  0.900853"
      ]
     },
     "execution_count": 132,
     "metadata": {},
     "output_type": "execute_result"
    }
   ],
   "source": [
    "s.unstack()"
   ]
  },
  {
   "cell_type": "markdown",
   "id": "fa43dee3",
   "metadata": {},
   "source": [
    "3、优化的groupby方法"
   ]
  },
  {
   "cell_type": "markdown",
   "id": "9af8d8e1",
   "metadata": {},
   "source": [
    "count 分组中的非NA值数量  \n",
    "sum 非NA值的累和  \n",
    "mean 非NA值的均值  \n",
    "median 非NA值的算术中位数  \n",
    "std,var 无偏标准差和方差  \n",
    "min,max 非NA值的最小值，最大值  \n",
    "first,last 非NA值的第一个和最后一个值"
   ]
  },
  {
   "cell_type": "markdown",
   "id": "01164bcb",
   "metadata": {},
   "source": [
    "4、需要使用自己的聚合函数，可以将函数传递给agg方法"
   ]
  },
  {
   "cell_type": "code",
   "execution_count": 136,
   "id": "71bd1c87",
   "metadata": {
    "ExecuteTime": {
     "end_time": "2022-06-05T05:42:48.209547Z",
     "start_time": "2022-06-05T05:42:48.182968Z"
    }
   },
   "outputs": [
    {
     "data": {
      "text/html": [
       "<div>\n",
       "<style scoped>\n",
       "    .dataframe tbody tr th:only-of-type {\n",
       "        vertical-align: middle;\n",
       "    }\n",
       "\n",
       "    .dataframe tbody tr th {\n",
       "        vertical-align: top;\n",
       "    }\n",
       "\n",
       "    .dataframe thead th {\n",
       "        text-align: right;\n",
       "    }\n",
       "</style>\n",
       "<table border=\"1\" class=\"dataframe\">\n",
       "  <thead>\n",
       "    <tr style=\"text-align: right;\">\n",
       "      <th></th>\n",
       "      <th>data1</th>\n",
       "      <th>data2</th>\n",
       "    </tr>\n",
       "    <tr>\n",
       "      <th>key1</th>\n",
       "      <th></th>\n",
       "      <th></th>\n",
       "    </tr>\n",
       "  </thead>\n",
       "  <tbody>\n",
       "    <tr>\n",
       "      <th>a</th>\n",
       "      <td>0.694097</td>\n",
       "      <td>1.562434</td>\n",
       "    </tr>\n",
       "    <tr>\n",
       "      <th>b</th>\n",
       "      <td>0.568740</td>\n",
       "      <td>0.321747</td>\n",
       "    </tr>\n",
       "  </tbody>\n",
       "</table>\n",
       "</div>"
      ],
      "text/plain": [
       "         data1     data2\n",
       "key1                    \n",
       "a     0.694097  1.562434\n",
       "b     0.568740  0.321747"
      ]
     },
     "execution_count": 136,
     "metadata": {},
     "output_type": "execute_result"
    }
   ],
   "source": [
    "grouped = df.groupby('key1')\n",
    "def peak_to_peak(arr):\n",
    "    return arr.max()-arr.min()#组内最大值与最小值的差\n",
    "grouped.agg(peak_to_peak)"
   ]
  },
  {
   "cell_type": "code",
   "execution_count": 137,
   "id": "4295320c",
   "metadata": {
    "ExecuteTime": {
     "end_time": "2022-06-05T05:43:19.551290Z",
     "start_time": "2022-06-05T05:43:19.509054Z"
    }
   },
   "outputs": [
    {
     "data": {
      "text/html": [
       "<div>\n",
       "<style scoped>\n",
       "    .dataframe tbody tr th:only-of-type {\n",
       "        vertical-align: middle;\n",
       "    }\n",
       "\n",
       "    .dataframe tbody tr th {\n",
       "        vertical-align: top;\n",
       "    }\n",
       "\n",
       "    .dataframe thead tr th {\n",
       "        text-align: left;\n",
       "    }\n",
       "\n",
       "    .dataframe thead tr:last-of-type th {\n",
       "        text-align: right;\n",
       "    }\n",
       "</style>\n",
       "<table border=\"1\" class=\"dataframe\">\n",
       "  <thead>\n",
       "    <tr>\n",
       "      <th></th>\n",
       "      <th colspan=\"8\" halign=\"left\">data1</th>\n",
       "      <th colspan=\"8\" halign=\"left\">data2</th>\n",
       "    </tr>\n",
       "    <tr>\n",
       "      <th></th>\n",
       "      <th>count</th>\n",
       "      <th>mean</th>\n",
       "      <th>std</th>\n",
       "      <th>min</th>\n",
       "      <th>25%</th>\n",
       "      <th>50%</th>\n",
       "      <th>75%</th>\n",
       "      <th>max</th>\n",
       "      <th>count</th>\n",
       "      <th>mean</th>\n",
       "      <th>std</th>\n",
       "      <th>min</th>\n",
       "      <th>25%</th>\n",
       "      <th>50%</th>\n",
       "      <th>75%</th>\n",
       "      <th>max</th>\n",
       "    </tr>\n",
       "    <tr>\n",
       "      <th>key1</th>\n",
       "      <th></th>\n",
       "      <th></th>\n",
       "      <th></th>\n",
       "      <th></th>\n",
       "      <th></th>\n",
       "      <th></th>\n",
       "      <th></th>\n",
       "      <th></th>\n",
       "      <th></th>\n",
       "      <th></th>\n",
       "      <th></th>\n",
       "      <th></th>\n",
       "      <th></th>\n",
       "      <th></th>\n",
       "      <th></th>\n",
       "      <th></th>\n",
       "    </tr>\n",
       "  </thead>\n",
       "  <tbody>\n",
       "    <tr>\n",
       "      <th>a</th>\n",
       "      <td>3.0</td>\n",
       "      <td>-0.464324</td>\n",
       "      <td>0.347069</td>\n",
       "      <td>-0.813536</td>\n",
       "      <td>-0.636767</td>\n",
       "      <td>-0.459998</td>\n",
       "      <td>-0.289718</td>\n",
       "      <td>-0.119439</td>\n",
       "      <td>3.0</td>\n",
       "      <td>0.075334</td>\n",
       "      <td>0.782857</td>\n",
       "      <td>-0.735122</td>\n",
       "      <td>-0.300656</td>\n",
       "      <td>0.133810</td>\n",
       "      <td>0.480561</td>\n",
       "      <td>0.827313</td>\n",
       "    </tr>\n",
       "    <tr>\n",
       "      <th>b</th>\n",
       "      <td>2.0</td>\n",
       "      <td>0.616483</td>\n",
       "      <td>0.402160</td>\n",
       "      <td>0.332113</td>\n",
       "      <td>0.474298</td>\n",
       "      <td>0.616483</td>\n",
       "      <td>0.758668</td>\n",
       "      <td>0.900853</td>\n",
       "      <td>2.0</td>\n",
       "      <td>-0.278466</td>\n",
       "      <td>0.227509</td>\n",
       "      <td>-0.439339</td>\n",
       "      <td>-0.358903</td>\n",
       "      <td>-0.278466</td>\n",
       "      <td>-0.198029</td>\n",
       "      <td>-0.117592</td>\n",
       "    </tr>\n",
       "  </tbody>\n",
       "</table>\n",
       "</div>"
      ],
      "text/plain": [
       "     data1                                                              \\\n",
       "     count      mean       std       min       25%       50%       75%   \n",
       "key1                                                                     \n",
       "a      3.0 -0.464324  0.347069 -0.813536 -0.636767 -0.459998 -0.289718   \n",
       "b      2.0  0.616483  0.402160  0.332113  0.474298  0.616483  0.758668   \n",
       "\n",
       "               data2                                                    \\\n",
       "           max count      mean       std       min       25%       50%   \n",
       "key1                                                                     \n",
       "a    -0.119439   3.0  0.075334  0.782857 -0.735122 -0.300656  0.133810   \n",
       "b     0.900853   2.0 -0.278466  0.227509 -0.439339 -0.358903 -0.278466   \n",
       "\n",
       "                          \n",
       "           75%       max  \n",
       "key1                      \n",
       "a     0.480561  0.827313  \n",
       "b    -0.198029 -0.117592  "
      ]
     },
     "execution_count": 137,
     "metadata": {},
     "output_type": "execute_result"
    }
   ],
   "source": [
    "grouped.describe()"
   ]
  },
  {
   "cell_type": "markdown",
   "id": "d7a6265c",
   "metadata": {},
   "source": [
    "5、分组聚合"
   ]
  },
  {
   "cell_type": "code",
   "execution_count": 138,
   "id": "e52ce940",
   "metadata": {
    "ExecuteTime": {
     "end_time": "2022-06-05T05:49:13.715400Z",
     "start_time": "2022-06-05T05:49:13.693426Z"
    }
   },
   "outputs": [
    {
     "data": {
      "text/plain": [
       "key1\n",
       "a   -2.861932\n",
       "b    0.452199\n",
       "dtype: float64"
      ]
     },
     "execution_count": 138,
     "metadata": {},
     "output_type": "execute_result"
    }
   ],
   "source": [
    "get_wavg = lambda g: np.average(g['data1'],weights=g['data2'])\n",
    "df.groupby('key1').apply(get_wavg)"
   ]
  },
  {
   "cell_type": "markdown",
   "id": "74a6c107",
   "metadata": {},
   "source": [
    "# 时间序列"
   ]
  },
  {
   "cell_type": "markdown",
   "id": "86966cdd",
   "metadata": {},
   "source": [
    "时间戳是指具体的时刻，时间间隔由开始和结束的时间戳表示，最简单和最广泛使用的时间序列是那些由时间戳索引的。"
   ]
  },
  {
   "cell_type": "markdown",
   "id": "df3acde7",
   "metadata": {},
   "source": [
    "## 标准库"
   ]
  },
  {
   "cell_type": "markdown",
   "id": "f4ad6d94",
   "metadata": {},
   "source": [
    "python标准库包含了日期和时间数据的类型，datetime,time,calender模块是开始处理时间数据的主要内容，python中没有时间格式，有时间戳格式即**datetime**。"
   ]
  },
  {
   "cell_type": "code",
   "execution_count": 5,
   "id": "c78a6b46",
   "metadata": {
    "ExecuteTime": {
     "end_time": "2022-06-08T03:39:54.061800Z",
     "start_time": "2022-06-08T03:39:54.039133Z"
    }
   },
   "outputs": [
    {
     "data": {
      "text/plain": [
       "2022"
      ]
     },
     "execution_count": 5,
     "metadata": {},
     "output_type": "execute_result"
    }
   ],
   "source": [
    "from datetime import datetime\n",
    "now = datetime.now()\n",
    "now.year"
   ]
  },
  {
   "cell_type": "code",
   "execution_count": 141,
   "id": "2b01996d",
   "metadata": {
    "ExecuteTime": {
     "end_time": "2022-06-05T06:07:31.013839Z",
     "start_time": "2022-06-05T06:07:30.997671Z"
    }
   },
   "outputs": [
    {
     "data": {
      "text/plain": [
       "6"
      ]
     },
     "execution_count": 141,
     "metadata": {},
     "output_type": "execute_result"
    }
   ],
   "source": [
    "now.month"
   ]
  },
  {
   "cell_type": "code",
   "execution_count": 142,
   "id": "50a4cee1",
   "metadata": {
    "ExecuteTime": {
     "end_time": "2022-06-05T06:07:38.250333Z",
     "start_time": "2022-06-05T06:07:38.232083Z"
    }
   },
   "outputs": [
    {
     "data": {
      "text/plain": [
       "5"
      ]
     },
     "execution_count": 142,
     "metadata": {},
     "output_type": "execute_result"
    }
   ],
   "source": [
    "now.day"
   ]
  },
  {
   "cell_type": "code",
   "execution_count": 143,
   "id": "bb442c44",
   "metadata": {
    "ExecuteTime": {
     "end_time": "2022-06-05T06:08:44.250392Z",
     "start_time": "2022-06-05T06:08:44.241348Z"
    }
   },
   "outputs": [],
   "source": [
    "from datetime import timedelta #两个datetime值之差"
   ]
  },
  {
   "cell_type": "markdown",
   "id": "cb95289f",
   "metadata": {},
   "source": [
    "## 字符串与datetime互相转换"
   ]
  },
  {
   "cell_type": "code",
   "execution_count": 144,
   "id": "69a85a8f",
   "metadata": {
    "ExecuteTime": {
     "end_time": "2022-06-05T06:10:01.856012Z",
     "start_time": "2022-06-05T06:10:01.843817Z"
    }
   },
   "outputs": [
    {
     "data": {
      "text/plain": [
       "'2011-01-01 00:00:00'"
      ]
     },
     "execution_count": 144,
     "metadata": {},
     "output_type": "execute_result"
    }
   ],
   "source": [
    "s = datetime(2011, 1,1)\n",
    "str(s)"
   ]
  },
  {
   "cell_type": "code",
   "execution_count": 145,
   "id": "0267c297",
   "metadata": {
    "ExecuteTime": {
     "end_time": "2022-06-05T06:10:45.703628Z",
     "start_time": "2022-06-05T06:10:45.694778Z"
    }
   },
   "outputs": [
    {
     "data": {
      "text/plain": [
       "'2011-01-01'"
      ]
     },
     "execution_count": 145,
     "metadata": {},
     "output_type": "execute_result"
    }
   ],
   "source": [
    "s.strftime('%F')#传递一个指定的格式给strftime方法"
   ]
  },
  {
   "cell_type": "code",
   "execution_count": 146,
   "id": "f13e42a5",
   "metadata": {
    "ExecuteTime": {
     "end_time": "2022-06-05T06:12:07.657511Z",
     "start_time": "2022-06-05T06:12:07.650429Z"
    }
   },
   "outputs": [
    {
     "data": {
      "text/plain": [
       "datetime.datetime(2011, 1, 3, 0, 0)"
      ]
     },
     "execution_count": 146,
     "metadata": {},
     "output_type": "execute_result"
    }
   ],
   "source": [
    "value = '2011-01-03'\n",
    "datetime.strptime(value, '%Y-%m-%d')#将字符串转换成日期"
   ]
  },
  {
   "cell_type": "code",
   "execution_count": 147,
   "id": "fc10c49b",
   "metadata": {
    "ExecuteTime": {
     "end_time": "2022-06-05T06:13:34.641463Z",
     "start_time": "2022-06-05T06:13:34.613004Z"
    }
   },
   "outputs": [
    {
     "data": {
      "text/plain": [
       "Timestamp('2011-01-03 00:00:00')"
      ]
     },
     "execution_count": 147,
     "metadata": {},
     "output_type": "execute_result"
    }
   ],
   "source": [
    "a = pd.to_datetime(value) #字符串转时间戳\n",
    "a"
   ]
  },
  {
   "cell_type": "code",
   "execution_count": 148,
   "id": "7ceaecad",
   "metadata": {
    "ExecuteTime": {
     "end_time": "2022-06-05T06:15:09.952221Z",
     "start_time": "2022-06-05T06:15:09.937043Z"
    }
   },
   "outputs": [
    {
     "data": {
      "text/plain": [
       "Timestamp('2011-01-04 00:00:00')"
      ]
     },
     "execution_count": 148,
     "metadata": {},
     "output_type": "execute_result"
    }
   ],
   "source": [
    "b = a+timedelta(days=1)\n",
    "b"
   ]
  },
  {
   "cell_type": "code",
   "execution_count": 149,
   "id": "8a11eb5a",
   "metadata": {
    "ExecuteTime": {
     "end_time": "2022-06-05T06:16:25.961913Z",
     "start_time": "2022-06-05T06:16:25.946528Z"
    }
   },
   "outputs": [
    {
     "data": {
      "text/plain": [
       "1"
      ]
     },
     "execution_count": 149,
     "metadata": {},
     "output_type": "execute_result"
    }
   ],
   "source": [
    "abs((a-b).days)#相差天数"
   ]
  },
  {
   "cell_type": "markdown",
   "id": "c89e1e3a",
   "metadata": {},
   "source": [
    "datetime格式说明：  \n",
    "%Y 四位的年份 %y 两位的年份  \n",
    "%m 两位的月份 %d 两位的日期号  \n",
    "%H 24小时制 %I 12小时制  \n",
    "%F %Y-%m-%d的简写 %D %m/%d/%y的简写"
   ]
  },
  {
   "cell_type": "markdown",
   "id": "64b0eddd",
   "metadata": {},
   "source": [
    "NaT（not a time）是pandas中时间戳数据的null值。"
   ]
  },
  {
   "cell_type": "markdown",
   "id": "7bd63f81",
   "metadata": {},
   "source": [
    "## 时间序列基础"
   ]
  },
  {
   "cell_type": "markdown",
   "id": "93766a8b",
   "metadata": {},
   "source": [
    "pandas中的基础时间序列种类是由时间戳索引的Series。"
   ]
  },
  {
   "cell_type": "code",
   "execution_count": 151,
   "id": "89d291b6",
   "metadata": {
    "ExecuteTime": {
     "end_time": "2022-06-05T06:23:51.861348Z",
     "start_time": "2022-06-05T06:23:51.846374Z"
    }
   },
   "outputs": [
    {
     "data": {
      "text/plain": [
       "2000-01-01    0.049483\n",
       "2000-01-02    0.893562\n",
       "2000-01-03   -0.277230\n",
       "2000-01-04    0.260456\n",
       "2000-01-05   -1.157175\n",
       "                ...   \n",
       "2002-09-22   -0.729083\n",
       "2002-09-23    1.051229\n",
       "2002-09-24    0.752375\n",
       "2002-09-25   -0.829323\n",
       "2002-09-26    1.121126\n",
       "Freq: D, Length: 1000, dtype: float64"
      ]
     },
     "execution_count": 151,
     "metadata": {},
     "output_type": "execute_result"
    }
   ],
   "source": [
    "ts = pd.Series(np.random.randn(1000),index=pd.date_range('1/1/2000',periods=1000))\n",
    "ts"
   ]
  },
  {
   "cell_type": "code",
   "execution_count": 152,
   "id": "d02cf3af",
   "metadata": {
    "ExecuteTime": {
     "end_time": "2022-06-05T06:24:58.706610Z",
     "start_time": "2022-06-05T06:24:58.682771Z"
    }
   },
   "outputs": [
    {
     "data": {
      "text/plain": [
       "2001-08-01   -1.256517\n",
       "2001-08-02   -1.395781\n",
       "2001-08-03    0.748102\n",
       "2001-08-04   -0.872823\n",
       "2001-08-05    0.728484\n",
       "2001-08-06   -0.435993\n",
       "2001-08-07   -0.445153\n",
       "2001-08-08   -0.551603\n",
       "2001-08-09   -1.057061\n",
       "2001-08-10    1.381218\n",
       "2001-08-11   -0.745560\n",
       "2001-08-12   -0.465090\n",
       "2001-08-13    0.699410\n",
       "2001-08-14    1.054398\n",
       "2001-08-15   -0.635825\n",
       "2001-08-16    1.411235\n",
       "2001-08-17   -0.184278\n",
       "2001-08-18    0.032061\n",
       "2001-08-19   -2.664003\n",
       "2001-08-20   -0.823069\n",
       "2001-08-21    0.538735\n",
       "2001-08-22   -2.116020\n",
       "2001-08-23   -0.280585\n",
       "2001-08-24   -0.427736\n",
       "2001-08-25    0.322519\n",
       "2001-08-26   -0.579885\n",
       "2001-08-27    1.519428\n",
       "2001-08-28   -0.127343\n",
       "2001-08-29    0.349665\n",
       "2001-08-30    0.667901\n",
       "2001-08-31   -1.255139\n",
       "Freq: D, dtype: float64"
      ]
     },
     "execution_count": 152,
     "metadata": {},
     "output_type": "execute_result"
    }
   ],
   "source": [
    "ts['2001-08']#切片"
   ]
  },
  {
   "cell_type": "markdown",
   "id": "1156d0bd",
   "metadata": {},
   "source": [
    "## 含有重复索引的时间序列"
   ]
  },
  {
   "cell_type": "markdown",
   "id": "6f0eed37",
   "metadata": {},
   "source": [
    "在某些应用中，可能会有多个数据观察值落在特定的时间戳上，如果要聚合含有非唯一时间戳的数据，一种方式是使用groupby并传递level=0"
   ]
  },
  {
   "cell_type": "code",
   "execution_count": 153,
   "id": "0809e4fa",
   "metadata": {
    "ExecuteTime": {
     "end_time": "2022-06-05T06:27:32.371851Z",
     "start_time": "2022-06-05T06:27:32.350129Z"
    }
   },
   "outputs": [
    {
     "data": {
      "text/plain": [
       "<pandas.core.groupby.generic.SeriesGroupBy object at 0x0000019DF2CC1DC8>"
      ]
     },
     "execution_count": 153,
     "metadata": {},
     "output_type": "execute_result"
    }
   ],
   "source": [
    "ts.groupby(level=0)"
   ]
  },
  {
   "cell_type": "markdown",
   "id": "3b419eb0",
   "metadata": {},
   "source": [
    "## 生成日期范围"
   ]
  },
  {
   "cell_type": "markdown",
   "id": "d7e106f9",
   "metadata": {},
   "source": [
    "pd.date_range()是用于根据特定频率生成指定长度的时间戳，默认情况下，date_range()生成的是每日的时间戳，如果只传递一个起始或结尾日期，必须传递一个用于生成范围的数字（periods=数字）。"
   ]
  },
  {
   "cell_type": "code",
   "execution_count": 154,
   "id": "be7a29b5",
   "metadata": {
    "ExecuteTime": {
     "end_time": "2022-06-05T06:32:03.218667Z",
     "start_time": "2022-06-05T06:32:03.197353Z"
    }
   },
   "outputs": [
    {
     "data": {
      "text/plain": [
       "DatetimeIndex(['2012-04-01', '2012-04-02', '2012-04-03', '2012-04-04',\n",
       "               '2012-04-05', '2012-04-06', '2012-04-07', '2012-04-08',\n",
       "               '2012-04-09', '2012-04-10',\n",
       "               ...\n",
       "               '2012-12-23', '2012-12-24', '2012-12-25', '2012-12-26',\n",
       "               '2012-12-27', '2012-12-28', '2012-12-29', '2012-12-30',\n",
       "               '2012-12-31', '2013-01-01'],\n",
       "              dtype='datetime64[ns]', length=276, freq='D')"
      ]
     },
     "execution_count": 154,
     "metadata": {},
     "output_type": "execute_result"
    }
   ],
   "source": [
    "ts1 = pd.date_range(start='2012-04-01', end='2013-01-01')\n",
    "ts1"
   ]
  },
  {
   "cell_type": "code",
   "execution_count": 155,
   "id": "4e24b969",
   "metadata": {
    "ExecuteTime": {
     "end_time": "2022-06-05T06:32:30.158923Z",
     "start_time": "2022-06-05T06:32:30.142352Z"
    }
   },
   "outputs": [
    {
     "data": {
      "text/plain": [
       "DatetimeIndex(['2012-04-30', '2012-05-31', '2012-06-30', '2012-07-31',\n",
       "               '2012-08-31', '2012-09-30', '2012-10-31', '2012-11-30',\n",
       "               '2012-12-31'],\n",
       "              dtype='datetime64[ns]', freq='M')"
      ]
     },
     "execution_count": 155,
     "metadata": {},
     "output_type": "execute_result"
    }
   ],
   "source": [
    "ts2 = pd.date_range(start='2012-04-01', end='2013-01-01', freq='M')#D表示日期的每天，H表示每小时，M表示日历的月底日期\n",
    "ts2"
   ]
  },
  {
   "cell_type": "markdown",
   "id": "811488f5",
   "metadata": {},
   "source": [
    "pandas中的频率由基础频率和倍数组成，基础频率通常会有字符串别名，例如：freq='4h'"
   ]
  },
  {
   "cell_type": "markdown",
   "id": "6c4e8bda",
   "metadata": {},
   "source": [
    "如果频率已知，则可以将频率传递给shift来推移时间戳，只对时间序列有效，对单个时间戳不能使用，例如：数据名.shift(2,freq='M')"
   ]
  },
  {
   "cell_type": "markdown",
   "id": "71a9a3c2",
   "metadata": {},
   "source": [
    "## Series.dt的用法"
   ]
  },
  {
   "cell_type": "markdown",
   "id": "9eb9170f",
   "metadata": {},
   "source": [
    "1、dt.date和dt.normalize()都返回一个日期的日期部分，只包含年月日，先创建一个DataFrame名为df。"
   ]
  },
  {
   "cell_type": "code",
   "execution_count": 156,
   "id": "ca8bdc43",
   "metadata": {
    "ExecuteTime": {
     "end_time": "2022-06-05T06:42:48.836334Z",
     "start_time": "2022-06-05T06:42:48.825729Z"
    }
   },
   "outputs": [
    {
     "data": {
      "text/html": [
       "<div>\n",
       "<style scoped>\n",
       "    .dataframe tbody tr th:only-of-type {\n",
       "        vertical-align: middle;\n",
       "    }\n",
       "\n",
       "    .dataframe tbody tr th {\n",
       "        vertical-align: top;\n",
       "    }\n",
       "\n",
       "    .dataframe thead th {\n",
       "        text-align: right;\n",
       "    }\n",
       "</style>\n",
       "<table border=\"1\" class=\"dataframe\">\n",
       "  <thead>\n",
       "    <tr style=\"text-align: right;\">\n",
       "      <th></th>\n",
       "      <th>time</th>\n",
       "    </tr>\n",
       "  </thead>\n",
       "  <tbody>\n",
       "    <tr>\n",
       "      <th>0</th>\n",
       "      <td>2020-07-12 20:59:37</td>\n",
       "    </tr>\n",
       "    <tr>\n",
       "      <th>1</th>\n",
       "      <td>2020-07-13 20:59:37</td>\n",
       "    </tr>\n",
       "  </tbody>\n",
       "</table>\n",
       "</div>"
      ],
      "text/plain": [
       "                  time\n",
       "0  2020-07-12 20:59:37\n",
       "1  2020-07-13 20:59:37"
      ]
     },
     "execution_count": 156,
     "metadata": {},
     "output_type": "execute_result"
    }
   ],
   "source": [
    "df = pd.DataFrame({'time':['2020-07-12 20:59:37', '2020-07-13 20:59:37']})\n",
    "df"
   ]
  },
  {
   "cell_type": "code",
   "execution_count": 161,
   "id": "7dff6dfd",
   "metadata": {
    "ExecuteTime": {
     "end_time": "2022-06-05T06:45:22.501949Z",
     "start_time": "2022-06-05T06:45:22.483405Z"
    }
   },
   "outputs": [
    {
     "data": {
      "text/plain": [
       "0    2020-07-12\n",
       "1    2020-07-13\n",
       "Name: time, dtype: object"
      ]
     },
     "execution_count": 161,
     "metadata": {},
     "output_type": "execute_result"
    }
   ],
   "source": [
    "pd.to_datetime(df['time']).dt.date"
   ]
  },
  {
   "cell_type": "markdown",
   "id": "73b4ee40",
   "metadata": {},
   "source": [
    "2、dt.year,dt.month,dt.day,dt.hour,dt.minute,dt.second,dt.week,分别返回年月日时分秒"
   ]
  },
  {
   "cell_type": "code",
   "execution_count": 162,
   "id": "e64f4935",
   "metadata": {
    "ExecuteTime": {
     "end_time": "2022-06-05T06:46:50.325705Z",
     "start_time": "2022-06-05T06:46:50.303851Z"
    }
   },
   "outputs": [
    {
     "data": {
      "text/plain": [
       "0    12\n",
       "1    13\n",
       "Name: time, dtype: int64"
      ]
     },
     "execution_count": 162,
     "metadata": {},
     "output_type": "execute_result"
    }
   ],
   "source": [
    "pd.to_datetime(df['time']).dt.day"
   ]
  },
  {
   "cell_type": "markdown",
   "id": "db38c559",
   "metadata": {},
   "source": [
    "3、dt.weekday 返回一周中的星期几，0代表星期一，6代表星期天"
   ]
  },
  {
   "cell_type": "markdown",
   "id": "41d06bfd",
   "metadata": {},
   "source": [
    "4、dt.dayofyear 返回一年的第几天  \n",
    "dt.quarter 返回每个日期分别是第几个季度"
   ]
  },
  {
   "cell_type": "markdown",
   "id": "01cea894",
   "metadata": {},
   "source": [
    "5、dt.is_month_start,dt.is_month_end 判断是否为每月的第一天或最后一天  \n",
    "dt.is_year_start,dt.is_year_end 判断是否为每年的第一天或最后一天   \n",
    "dt.is_quarter_start,dt.is_quarter_end 判断是否为每季度的第一天或最后一天 "
   ]
  },
  {
   "cell_type": "markdown",
   "id": "ccda89c5",
   "metadata": {},
   "source": [
    "dt.is_leap_year 判断是否为闰年"
   ]
  },
  {
   "cell_type": "markdown",
   "id": "27168392",
   "metadata": {},
   "source": [
    "dt.month_name() 返回月份的英文名称"
   ]
  },
  {
   "cell_type": "markdown",
   "id": "e72a0bf8",
   "metadata": {},
   "source": [
    "6、dt.days 返回时间差 (pd.to_datetime(字符串1)-pd.to_datetime(字符串2)).dt.days"
   ]
  },
  {
   "cell_type": "markdown",
   "id": "99a1f114",
   "metadata": {},
   "source": [
    "7、重新采样是指将时间序列从一个频率转换为另一个时间频率的过程，将更高频率的数据聚合到低频率被称为向下采样，而从低频率向高频率称为向上采样。pandas拥有resample()方法，先调用resample对数据分组，之后再调用聚合函数。"
   ]
  },
  {
   "cell_type": "markdown",
   "id": "a22d19a7",
   "metadata": {},
   "source": [
    "data.resample('频率').聚合函数 频率可以为'D','5min'等，聚合函数包括sum()，mean()等。"
   ]
  },
  {
   "cell_type": "markdown",
   "id": "c0bc7298",
   "metadata": {},
   "source": [
    "# broadcast（广播机制）"
   ]
  },
  {
   "cell_type": "markdown",
   "id": "00902478",
   "metadata": {},
   "source": [
    "广播”指的是在不同维度的数组之间进行算术运算的一种执行机制，其通过将数据矢量化进行高效的运算。"
   ]
  },
  {
   "cell_type": "markdown",
   "id": "96d55831",
   "metadata": {},
   "source": [
    "在panda中广播操作是指一个Series数组和另一个DataFrame进行运算，举例如下："
   ]
  },
  {
   "cell_type": "code",
   "execution_count": 30,
   "id": "9676596e",
   "metadata": {
    "ExecuteTime": {
     "end_time": "2023-05-24T08:02:24.604214Z",
     "start_time": "2023-05-24T08:02:24.598198Z"
    }
   },
   "outputs": [
    {
     "name": "stdout",
     "output_type": "stream",
     "text": [
      "0    0\n",
      "1    1\n",
      "2    2\n",
      "dtype: int64\n"
     ]
    }
   ],
   "source": [
    "import pandas as pd\n",
    "a = pd.Series([0,1,2])\n",
    "b = pd.DataFrame([[0,0,0],[10,10,10],[20,20,20],[30,30,30]],\n",
    "                 index=['A','B','C','D'])\n",
    "print(a)"
   ]
  },
  {
   "cell_type": "code",
   "execution_count": 31,
   "id": "9635739f",
   "metadata": {
    "ExecuteTime": {
     "end_time": "2023-05-24T08:02:25.284726Z",
     "start_time": "2023-05-24T08:02:25.277200Z"
    }
   },
   "outputs": [
    {
     "name": "stdout",
     "output_type": "stream",
     "text": [
      "    0   1   2\n",
      "A   0   0   0\n",
      "B  10  10  10\n",
      "C  20  20  20\n",
      "D  30  30  30\n"
     ]
    }
   ],
   "source": [
    "print(b)"
   ]
  },
  {
   "cell_type": "code",
   "execution_count": 32,
   "id": "9cb8c591",
   "metadata": {
    "ExecuteTime": {
     "end_time": "2023-05-24T08:02:25.734502Z",
     "start_time": "2023-05-24T08:02:25.725532Z"
    }
   },
   "outputs": [
    {
     "name": "stdout",
     "output_type": "stream",
     "text": [
      "    0   1   2\n",
      "A   0   1   2\n",
      "B  10  11  12\n",
      "C  20  21  22\n",
      "D  30  31  32\n"
     ]
    }
   ],
   "source": [
    "print(a + b)"
   ]
  },
  {
   "cell_type": "markdown",
   "id": "0d673b74",
   "metadata": {},
   "source": [
    "从结果上来看是很神奇的，从原理上来说就是a进行了维度的扩展，变成了[[0,1,2], [0,1,2], [0,1,2], [0,1,2]]，然后与b进行相加的操作。示意图如下："
   ]
  },
  {
   "cell_type": "markdown",
   "id": "4c2421a7",
   "metadata": {},
   "source": [
    "当然了其他的运算也会有同样的效果："
   ]
  },
  {
   "cell_type": "code",
   "execution_count": 34,
   "id": "33a82c10",
   "metadata": {
    "ExecuteTime": {
     "end_time": "2023-05-24T08:05:16.322756Z",
     "start_time": "2023-05-24T08:05:16.317773Z"
    }
   },
   "outputs": [
    {
     "name": "stdout",
     "output_type": "stream",
     "text": [
      "0    1.0\n",
      "1    2.0\n",
      "2    3.0\n",
      "dtype: float64\n"
     ]
    }
   ],
   "source": [
    "c = pd.Series([0.1,0.2,0.3])\n",
    "d = 10\n",
    "print(c*d)"
   ]
  },
  {
   "cell_type": "code",
   "execution_count": 35,
   "id": "e53ed770",
   "metadata": {
    "ExecuteTime": {
     "end_time": "2023-05-24T08:05:16.944230Z",
     "start_time": "2023-05-24T08:05:16.926290Z"
    }
   },
   "outputs": [
    {
     "name": "stdout",
     "output_type": "stream",
     "text": [
      "0    0.01\n",
      "1    0.02\n",
      "2    0.03\n",
      "dtype: float64\n"
     ]
    }
   ],
   "source": [
    "print(c/10)"
   ]
  },
  {
   "cell_type": "markdown",
   "id": "4e4527ad",
   "metadata": {},
   "source": [
    "维度不一致的时候，会怎样呢？"
   ]
  },
  {
   "cell_type": "code",
   "execution_count": 36,
   "id": "96bd478d",
   "metadata": {
    "ExecuteTime": {
     "end_time": "2023-05-24T08:05:47.947281Z",
     "start_time": "2023-05-24T08:05:47.925396Z"
    }
   },
   "outputs": [
    {
     "name": "stdout",
     "output_type": "stream",
     "text": [
      "      0     1   2\n",
      "A   0.0   1.0 NaN\n",
      "B  10.0  11.0 NaN\n",
      "C  20.0  21.0 NaN\n",
      "D  30.0  31.0 NaN\n"
     ]
    }
   ],
   "source": [
    "import pandas as pd\n",
    "\n",
    "a_1 = pd.Series([0,1])\n",
    "b_1 = pd.DataFrame([[0,0,0],[10,10,10],[20,20,20],[30,30,30]],\n",
    "                 index=['A','B','C','D'])\n",
    "print(a_1 + b_1)"
   ]
  },
  {
   "cell_type": "markdown",
   "id": "f474c059",
   "metadata": {},
   "source": [
    "结果还是很好理解的，总维度与高维度的数据维度一致。"
   ]
  },
  {
   "cell_type": "code",
   "execution_count": null,
   "id": "65d31f49",
   "metadata": {},
   "outputs": [],
   "source": []
  }
 ],
 "metadata": {
  "kernelspec": {
   "display_name": "Python 3 (ipykernel)",
   "language": "python",
   "name": "python3"
  },
  "language_info": {
   "codemirror_mode": {
    "name": "ipython",
    "version": 3
   },
   "file_extension": ".py",
   "mimetype": "text/x-python",
   "name": "python",
   "nbconvert_exporter": "python",
   "pygments_lexer": "ipython3",
   "version": "3.9.13"
  },
  "nbTranslate": {
   "displayLangs": [
    "*"
   ],
   "hotkey": "alt-t",
   "langInMainMenu": true,
   "sourceLang": "en",
   "targetLang": "fr",
   "useGoogleTranslate": true
  },
  "toc": {
   "base_numbering": 1,
   "nav_menu": {},
   "number_sections": true,
   "sideBar": true,
   "skip_h1_title": false,
   "title_cell": "Table of Contents",
   "title_sidebar": "Contents",
   "toc_cell": false,
   "toc_position": {
    "height": "calc(100% - 180px)",
    "left": "10px",
    "top": "150px",
    "width": "241px"
   },
   "toc_section_display": true,
   "toc_window_display": true
  },
  "varInspector": {
   "cols": {
    "lenName": 16,
    "lenType": 16,
    "lenVar": 40
   },
   "kernels_config": {
    "python": {
     "delete_cmd_postfix": "",
     "delete_cmd_prefix": "del ",
     "library": "var_list.py",
     "varRefreshCmd": "print(var_dic_list())"
    },
    "r": {
     "delete_cmd_postfix": ") ",
     "delete_cmd_prefix": "rm(",
     "library": "var_list.r",
     "varRefreshCmd": "cat(var_dic_list()) "
    }
   },
   "types_to_exclude": [
    "module",
    "function",
    "builtin_function_or_method",
    "instance",
    "_Feature"
   ],
   "window_display": false
  }
 },
 "nbformat": 4,
 "nbformat_minor": 5
}
