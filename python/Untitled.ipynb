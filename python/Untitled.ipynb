{
 "cells": [
  {
   "cell_type": "code",
   "execution_count": 14,
   "id": "a29919f1",
   "metadata": {
    "ExecuteTime": {
     "end_time": "2022-10-13T07:46:23.059041Z",
     "start_time": "2022-10-13T07:46:23.055147Z"
    }
   },
   "outputs": [],
   "source": [
    "import mindspore\n",
    "from mindspore import Tensor\n",
    "import numpy as np\n",
    "import mindspore.ops as ops\n",
    "import mindspore.nn as nn"
   ]
  },
  {
   "cell_type": "code",
   "execution_count": 6,
   "id": "668e291b",
   "metadata": {
    "ExecuteTime": {
     "end_time": "2022-10-13T06:18:13.448711Z",
     "start_time": "2022-10-13T06:18:13.436057Z"
    }
   },
   "outputs": [
    {
     "data": {
      "text/plain": [
       "(5, 10, 10)"
      ]
     },
     "execution_count": 6,
     "metadata": {},
     "output_type": "execute_result"
    }
   ],
   "source": [
    "x = Tensor(np.ones([20, 5, 10, 10]), mindspore.float32)\n",
    "x.shape[1:]"
   ]
  },
  {
   "cell_type": "code",
   "execution_count": 12,
   "id": "8a57609d",
   "metadata": {
    "ExecuteTime": {
     "end_time": "2022-10-13T07:37:52.862200Z",
     "start_time": "2022-10-13T07:37:52.857334Z"
    }
   },
   "outputs": [
    {
     "name": "stdout",
     "output_type": "stream",
     "text": [
      "[[[[[10. 11.]]]\n",
      "\n",
      "\n",
      "  [[[22. 23.]]]]]\n"
     ]
    }
   ],
   "source": [
    "x = Tensor(np.arange(1 * 2 * 2 * 2 * 3).reshape((1, 2, 2, 2, 3)), mindspore.float32)\n",
    "max_pool3d = ops.MaxPool3D(kernel_size=2, strides=1, pad_mode=\"valid\")\n",
    "output = max_pool3d(x)\n",
    "print(output)"
   ]
  },
  {
   "cell_type": "code",
   "execution_count": 18,
   "id": "94f363e2",
   "metadata": {
    "ExecuteTime": {
     "end_time": "2022-10-13T07:53:23.963892Z",
     "start_time": "2022-10-13T07:53:23.958052Z"
    }
   },
   "outputs": [
    {
     "data": {
      "text/plain": [
       "MaxPool2d<kernel_size=3, stride=1, pad_mode=VALID>"
      ]
     },
     "execution_count": 18,
     "metadata": {},
     "output_type": "execute_result"
    }
   ],
   "source": [
    "max_pool = nn.MaxPool2d(kernel_size=3, stride=1)\n",
    "max_pool"
   ]
  },
  {
   "cell_type": "code",
   "execution_count": null,
   "id": "e7da29e9",
   "metadata": {},
   "outputs": [],
   "source": []
  }
 ],
 "metadata": {
  "kernelspec": {
   "display_name": "Python 3 (ipykernel)",
   "language": "python",
   "name": "python3"
  },
  "language_info": {
   "codemirror_mode": {
    "name": "ipython",
    "version": 3
   },
   "file_extension": ".py",
   "mimetype": "text/x-python",
   "name": "python",
   "nbconvert_exporter": "python",
   "pygments_lexer": "ipython3",
   "version": "3.9.7"
  },
  "nbTranslate": {
   "displayLangs": [
    "*"
   ],
   "hotkey": "alt-t",
   "langInMainMenu": true,
   "sourceLang": "en",
   "targetLang": "fr",
   "useGoogleTranslate": true
  },
  "toc": {
   "base_numbering": 1,
   "nav_menu": {},
   "number_sections": true,
   "sideBar": true,
   "skip_h1_title": false,
   "title_cell": "Table of Contents",
   "title_sidebar": "Contents",
   "toc_cell": false,
   "toc_position": {},
   "toc_section_display": true,
   "toc_window_display": false
  }
 },
 "nbformat": 4,
 "nbformat_minor": 5
}
