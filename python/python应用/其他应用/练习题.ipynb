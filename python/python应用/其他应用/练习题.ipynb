{
 "cells": [
  {
   "cell_type": "code",
   "execution_count": 1,
   "metadata": {},
   "outputs": [],
   "source": [
    "def reverse(s):#元素顺序倒置\n",
    "    i,j = 0,len(s)-1\n",
    "    while i<j:\n",
    "        s[i],s[j] = s[j],s[i]\n",
    "        i,j = i+1,j-1\n",
    "    return(s)"
   ]
  },
  {
   "cell_type": "code",
   "execution_count": 2,
   "metadata": {},
   "outputs": [
    {
     "data": {
      "text/plain": [
       "[32, 53, 32]"
      ]
     },
     "execution_count": 2,
     "metadata": {},
     "output_type": "execute_result"
    }
   ],
   "source": [
    "a = [1,2,3,4,32,53,32]\n",
    "def sx(a):\n",
    "    b = []\n",
    "    for i in range(0,len(a)):\n",
    "        if a[i]>5:\n",
    "            b.append(a[i])\n",
    "    return(b)\n",
    "sx(a)"
   ]
  },
  {
   "cell_type": "code",
   "execution_count": 3,
   "metadata": {},
   "outputs": [],
   "source": [
    "b = [a[i] for i in range(len(a)) if a[i]>5]"
   ]
  },
  {
   "cell_type": "code",
   "execution_count": 4,
   "metadata": {},
   "outputs": [
    {
     "data": {
      "text/plain": [
       "[32, 53, 32, 4, 3, 2, 1]"
      ]
     },
     "execution_count": 4,
     "metadata": {},
     "output_type": "execute_result"
    }
   ],
   "source": [
    "c = []\n",
    "a = [1,2,3,4,32,53,32]\n",
    "for i in range(len(a)): \n",
    "    c.append(a.pop())\n",
    "c"
   ]
  },
  {
   "cell_type": "code",
   "execution_count": 5,
   "metadata": {},
   "outputs": [
    {
     "data": {
      "text/plain": [
       "[32, 53, 32, 4, 3, 2, 1]"
      ]
     },
     "execution_count": 5,
     "metadata": {},
     "output_type": "execute_result"
    }
   ],
   "source": [
    "while len(a)==1:\n",
    "    c.append(a.pop())\n",
    "c"
   ]
  },
  {
   "cell_type": "code",
   "execution_count": 6,
   "metadata": {},
   "outputs": [
    {
     "name": "stdout",
     "output_type": "stream",
     "text": [
      "1 2 3, 1 2 4, 1 3 2, 1 3 4, 1 4 2, 1 4 3, 2 1 3, 2 1 4, 2 3 1, 2 3 4, 2 4 1, 2 4 3, 3 1 2, 3 1 4, 3 2 1, 3 2 4, 3 4 1, 3 4 2, 4 1 2, 4 1 3, 4 2 1, 4 2 3, 4 3 1, 4 3 2, "
     ]
    }
   ],
   "source": [
    "for i in range(1,5):#不相同的数\n",
    "    for j in range(1,5):\n",
    "        for k in range(1,5):\n",
    "            if i!=j and j!=k and i!=k:\n",
    "                print(\"{0} {1} {2},\".format(i,j,k),end=\" \")"
   ]
  },
  {
   "cell_type": "code",
   "execution_count": 7,
   "metadata": {},
   "outputs": [
    {
     "name": "stdout",
     "output_type": "stream",
     "text": [
      "21\n",
      "261\n",
      "1581\n"
     ]
    }
   ],
   "source": [
    "import math#完全平方数\n",
    "for i in range(100000):\n",
    "    x = int(math.sqrt(i+100))\n",
    "    y = int(math.sqrt(i+268))\n",
    "    if x*x == i+100 and y*y == i+268:\n",
    "        print(i)"
   ]
  },
  {
   "cell_type": "code",
   "execution_count": null,
   "metadata": {},
   "outputs": [],
   "source": [
    "year = int(input(\"year:\"))#判断天数\n",
    "month = int(input(\"month:\"))\n",
    "day = int(input(\"day:\"))\n",
    "\n",
    "day1 = [31,28,31,30,31,30,31,31,30,31,30,31]\n",
    "day2 = [31,29,31,30,31,30,31,31,30,31,30,31]\n",
    "days = 0\n",
    "\n",
    "if year%400 == 0 or (year%4 == 0 and year%100 != 0):\n",
    "    if month>=2:\n",
    "        for i in range(month-1):\n",
    "            days += day2[i]\n",
    "    print(days+day)\n",
    "else:\n",
    "    if month>=2:\n",
    "        for i in range(month-1):\n",
    "            days += day1[i]\n",
    "    print(days+day)"
   ]
  },
  {
   "cell_type": "code",
   "execution_count": null,
   "metadata": {},
   "outputs": [],
   "source": [
    "i = []#从大到小排数\n",
    "for j in range(3):\n",
    "    x = int(input(\"integer:\\n\"))\n",
    "    i.append(x)\n",
    "i.sort(reverse=True)\n",
    "print(i)"
   ]
  },
  {
   "cell_type": "code",
   "execution_count": null,
   "metadata": {},
   "outputs": [],
   "source": [
    "for i in range(1,10):#乘法表\n",
    "    for j in range(1,10):\n",
    "        result = i*j\n",
    "        print(\"{0}*{1}={2}\".format(i,j,result),end = \" \")"
   ]
  },
  {
   "cell_type": "code",
   "execution_count": null,
   "metadata": {},
   "outputs": [],
   "source": [
    "import sys\n",
    "for i in range(8):\n",
    "    for j in range(8):\n",
    "        if(i+j)%2 == 0:\n",
    "            sys.stdout.write(chr(219))\n",
    "            sys.stdout.write(chr(219))\n",
    "        else:\n",
    "            sys.stdout.write('')\n",
    "    print('')"
   ]
  },
  {
   "cell_type": "code",
   "execution_count": null,
   "metadata": {},
   "outputs": [],
   "source": [
    "import sys\n",
    "sys.stdout.write(chr(1))\n",
    "sys.stdout.write(chr(1))\n",
    "print('')\n",
    "\n",
    "for i in range(1,11):\n",
    "    for j in range(1,i):\n",
    "        sys.stdout.write(chr(219))\n",
    "        sys.stdout.write(chr(219))\n",
    "    print('')"
   ]
  },
  {
   "cell_type": "code",
   "execution_count": null,
   "metadata": {},
   "outputs": [],
   "source": [
    "def fab(n):#斐波那契数列\n",
    "    if n==1 or n==2:\n",
    "        result = 1\n",
    "        return(result)\n",
    "    else:\n",
    "        result = fab(n-1) + fab(n-2)\n",
    "        return(result)"
   ]
  },
  {
   "cell_type": "code",
   "execution_count": null,
   "metadata": {},
   "outputs": [],
   "source": [
    "import math#区间素数\n",
    "m = int(input())\n",
    "n = int(input())\n",
    "for i in range(m,n+1):\n",
    "    leap = 1\n",
    "    k = int(math.sqrt(i))\n",
    "    for j in range(2,k+1):\n",
    "        if i%j == 0:\n",
    "            leap = 0\n",
    "            break\n",
    "        else:\n",
    "            leap = 1\n",
    "    if leap == 1:\n",
    "        print(i,end=\" \")"
   ]
  },
  {
   "cell_type": "code",
   "execution_count": null,
   "metadata": {},
   "outputs": [],
   "source": [
    "import math#水仙花数\n",
    "for n in range(100,1000):\n",
    "    i = n//100\n",
    "    j = n//10%10\n",
    "    k = n%10\n",
    "    if math.pow(i,3)+math.pow(j,3)+math.pow(k,3) == i*100+j*10+k:\n",
    "        print(\"{} \".format(i*100+j*10+k),end = \" \")"
   ]
  },
  {
   "cell_type": "code",
   "execution_count": null,
   "metadata": {},
   "outputs": [],
   "source": [
    "n = int(input())#分解质因数\n",
    "print(\"{}=\".format(n),end=\"\")\n",
    "for i in range(2,n+1):\n",
    "    while n !=i:\n",
    "        if n%i ==0:\n",
    "            print(i,end=\"\")\n",
    "            print(\"*\",end=\"\")\n",
    "            n=n/i\n",
    "        else:\n",
    "            break\n",
    "    else:\n",
    "        print(i,end=\"\")"
   ]
  },
  {
   "cell_type": "code",
   "execution_count": null,
   "metadata": {},
   "outputs": [],
   "source": [
    "score = int(input(\"请输入100以内的数\"))#条件判断\n",
    "if score>=90:\n",
    "    print(\"A\")\n",
    "elif score>=60:\n",
    "    print(\"B\")\n",
    "else:\n",
    "    print(\"C\")"
   ]
  },
  {
   "cell_type": "code",
   "execution_count": null,
   "metadata": {},
   "outputs": [],
   "source": [
    "s = input()#判断字符串结构\n",
    "letters = 0\n",
    "spaces = 0\n",
    "digits = 0\n",
    "others = 0\n",
    "for i in s:\n",
    "    if i.isspace():\n",
    "        spaces+=1\n",
    "    elif i.isalpha():\n",
    "        letters+=1\n",
    "    elif i.isdigit():\n",
    "        digits+=1\n",
    "    else:\n",
    "        others+=1\n",
    "print(\"{} {} {} {}\".format(spaces,letters,digits,others))\n"
   ]
  },
  {
   "cell_type": "code",
   "execution_count": null,
   "metadata": {},
   "outputs": [],
   "source": [
    "from functools import reduce#计算形如2+22+222+2222+22222....\n",
    "a = int(input(\"请输入a\"))\n",
    "n = int(input(\"请输入n\"))\n",
    "Tn = 0\n",
    "Sn = []\n",
    "for i in range(n):\n",
    "    Tn +=a\n",
    "    a*=10\n",
    "    Sn.append(Tn)\n",
    "Sn = reduce(lambda x,y:x+y,Sn)\n",
    "print(Sn)"
   ]
  },
  {
   "cell_type": "code",
   "execution_count": null,
   "metadata": {},
   "outputs": [],
   "source": [
    "def func(n):\n",
    "    k = [1]\n",
    "    for i in range(2,n+1):\n",
    "        while n !=i:\n",
    "            if n%i ==0:\n",
    "                k.append(i)\n",
    "            else:\n",
    "                break\n",
    "        else:\n",
    "            k.append(i)\n",
    "    return(k)\n",
    "\n",
    "m = int(input(\"请输入一个数：\"))\n",
    "for i in range(2,m+1):\n",
    "    if sum(func(i)) == i:\n",
    "        print(i)"
   ]
  },
  {
   "cell_type": "code",
   "execution_count": null,
   "metadata": {},
   "outputs": [],
   "source": [
    "func(496)"
   ]
  },
  {
   "cell_type": "code",
   "execution_count": null,
   "metadata": {},
   "outputs": [],
   "source": [
    "from sys import stdout\n",
    "for j in range(2,1001):\n",
    "    k = []\n",
    "    n = -1\n",
    "    s = j\n",
    "    for i in range(1,j):\n",
    "        if j%i == 0:\n",
    "            n += 1\n",
    "            s -= i\n",
    "            k.append(i)\n",
    "    if s == 0:\n",
    "        print(j)\n",
    "        for i in range(n):\n",
    "            print(k[i])"
   ]
  },
  {
   "cell_type": "code",
   "execution_count": null,
   "metadata": {},
   "outputs": [],
   "source": [
    "def func(n):#完数 6=1+2+3，先质因数分解，再判断。\n",
    "    k = [1]\n",
    "    for i in range(2,n+1):\n",
    "        for s in range(1,i):\n",
    "            if i%s ==0:\n",
    "                k.append(i)\n",
    "    return(k)"
   ]
  },
  {
   "cell_type": "code",
   "execution_count": null,
   "metadata": {},
   "outputs": [],
   "source": [
    "Sn = 100#小球弹跳\n",
    "Hn = 50\n",
    "for i in range(2,11):\n",
    "    Sn += Hn*2\n",
    "    Hn /= 2\n",
    "print(Sn)\n",
    "print(Hn)"
   ]
  },
  {
   "cell_type": "code",
   "execution_count": null,
   "metadata": {},
   "outputs": [],
   "source": [
    "x2 = 1\n",
    "for i in range(9,0,-1):\n",
    "    x1 = (x2+1)*2\n",
    "    x2 = x1\n",
    "print(x1)"
   ]
  },
  {
   "cell_type": "code",
   "execution_count": null,
   "metadata": {},
   "outputs": [],
   "source": [
    "for i in ['a','b','c']:#名单\n",
    "    for j in ['x','y','z']:\n",
    "        if i == 'a'and j == 'x':\n",
    "            continue\n",
    "        elif i == 'c'and j == 'x':\n",
    "            continue\n",
    "        elif i == 'c'and j == 'z':\n",
    "            continue\n",
    "        else:\n",
    "            print(\"{}:{}\".format(i,j))"
   ]
  },
  {
   "cell_type": "code",
   "execution_count": null,
   "metadata": {},
   "outputs": [],
   "source": [
    "from functools import reduce#累加\n",
    "a = 2\n",
    "b = 1\n",
    "l = []\n",
    "for i in range(1,21):\n",
    "    b,a = a,a+b#连续赋值，先计算等式右边，再一次性赋值给等式左边。\n",
    "    l.append(a/b)\n",
    "print(reduce(lambda x,y:x+y,l))"
   ]
  },
  {
   "cell_type": "code",
   "execution_count": null,
   "metadata": {},
   "outputs": [],
   "source": [
    "l = range(1,21)\n",
    "def op(x):#累乘\n",
    "    r = 1\n",
    "    for i in range(1,x+1):\n",
    "        r *=i\n",
    "    return(r)\n",
    "print(sum(map(op,l)))"
   ]
  },
  {
   "cell_type": "code",
   "execution_count": null,
   "metadata": {},
   "outputs": [],
   "source": [
    "def func(x):#递归求累乘\n",
    "    if x == 0:\n",
    "        pro = 1\n",
    "    else:\n",
    "        pro = x*func(x-1)\n",
    "    return(pro)"
   ]
  },
  {
   "cell_type": "code",
   "execution_count": null,
   "metadata": {},
   "outputs": [],
   "source": [
    "def palin(n):\n",
    "    next = 0\n",
    "    if n<=1:\n",
    "        next=input()\n",
    "        print(next)\n",
    "    else:\n",
    "        next=input()\n",
    "        palin(n-1)\n",
    "        print(next)\n",
    "i=5\n",
    "palin(i)"
   ]
  },
  {
   "cell_type": "code",
   "execution_count": 2,
   "metadata": {
    "ExecuteTime": {
     "end_time": "2021-07-05T09:35:23.250858Z",
     "start_time": "2021-07-05T09:35:23.232324Z"
    }
   },
   "outputs": [
    {
     "name": "stdout",
     "output_type": "stream",
     "text": [
      "1\n",
      "2\n",
      "3\n",
      "4\n",
      "5\n",
      "6\n",
      "7\n",
      "8\n",
      "9\n"
     ]
    }
   ],
   "source": [
    "def fun(n):#递归输出\n",
    "    if n<=1:\n",
    "        print(n)\n",
    "    else:\n",
    "        fun(n-1)\n",
    "        print(n)\n",
    "fun(9)"
   ]
  },
  {
   "cell_type": "code",
   "execution_count": null,
   "metadata": {},
   "outputs": [],
   "source": []
  }
 ],
 "metadata": {
  "kernelspec": {
   "display_name": "Python 3",
   "language": "python",
   "name": "python3"
  },
  "language_info": {
   "codemirror_mode": {
    "name": "ipython",
    "version": 3
   },
   "file_extension": ".py",
   "mimetype": "text/x-python",
   "name": "python",
   "nbconvert_exporter": "python",
   "pygments_lexer": "ipython3",
   "version": "3.7.6"
  },
  "toc": {
   "base_numbering": 1,
   "nav_menu": {},
   "number_sections": true,
   "sideBar": true,
   "skip_h1_title": false,
   "title_cell": "Table of Contents",
   "title_sidebar": "Contents",
   "toc_cell": false,
   "toc_position": {},
   "toc_section_display": true,
   "toc_window_display": false
  }
 },
 "nbformat": 4,
 "nbformat_minor": 2
}
