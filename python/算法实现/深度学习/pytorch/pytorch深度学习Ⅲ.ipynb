{
 "cells": [
  {
   "cell_type": "markdown",
   "id": "b363baa0",
   "metadata": {},
   "source": [
    "# 自定义数据集"
   ]
  },
  {
   "cell_type": "markdown",
   "id": "5a9ae87d",
   "metadata": {},
   "source": [
    "我们经常可以看到Pytorch加载数据集会用到官方整理好的数据集。很多时候我们需要加载自己的数据集，这时候我们需要使用Dataset和DataLoader\n",
    "- Dataset：是被封装进DataLoader里，实现该方法封装自己的数据和标签。\n",
    "- DataLoader：被封装入DataLoaderIter里，实现该方法达到数据的划分。"
   ]
  },
  {
   "cell_type": "markdown",
   "id": "2b8ee4b1",
   "metadata": {},
   "source": [
    "## 加载iris数据集"
   ]
  },
  {
   "cell_type": "code",
   "execution_count": 18,
   "id": "3a422b46",
   "metadata": {
    "ExecuteTime": {
     "end_time": "2023-06-08T12:32:48.382626Z",
     "start_time": "2023-06-08T12:32:48.367369Z"
    }
   },
   "outputs": [],
   "source": [
    "import torch\n",
    "import torch.nn as nn\n",
    "import pandas as pd\n",
    "import numpy as np\n",
    "from torch.utils.data import DataLoader"
   ]
  },
  {
   "cell_type": "code",
   "execution_count": 5,
   "id": "90015f17",
   "metadata": {
    "ExecuteTime": {
     "end_time": "2023-06-08T12:26:32.432881Z",
     "start_time": "2023-06-08T12:26:32.401133Z"
    }
   },
   "outputs": [],
   "source": [
    "iris = pd.read_csv(\"D:\\\\Jupyter notebook\\\\data\\\\python\\\\iris_dataset\\\\iris.csv\",header=None)"
   ]
  },
  {
   "cell_type": "code",
   "execution_count": 6,
   "id": "f0d6abfc",
   "metadata": {
    "ExecuteTime": {
     "end_time": "2023-06-08T12:26:33.065590Z",
     "start_time": "2023-06-08T12:26:33.047537Z"
    }
   },
   "outputs": [
    {
     "data": {
      "text/html": [
       "<div>\n",
       "<style scoped>\n",
       "    .dataframe tbody tr th:only-of-type {\n",
       "        vertical-align: middle;\n",
       "    }\n",
       "\n",
       "    .dataframe tbody tr th {\n",
       "        vertical-align: top;\n",
       "    }\n",
       "\n",
       "    .dataframe thead th {\n",
       "        text-align: right;\n",
       "    }\n",
       "</style>\n",
       "<table border=\"1\" class=\"dataframe\">\n",
       "  <thead>\n",
       "    <tr style=\"text-align: right;\">\n",
       "      <th></th>\n",
       "      <th>0</th>\n",
       "      <th>1</th>\n",
       "      <th>2</th>\n",
       "      <th>3</th>\n",
       "      <th>4</th>\n",
       "    </tr>\n",
       "  </thead>\n",
       "  <tbody>\n",
       "    <tr>\n",
       "      <th>0</th>\n",
       "      <td>5.1</td>\n",
       "      <td>3.5</td>\n",
       "      <td>1.4</td>\n",
       "      <td>0.2</td>\n",
       "      <td>0</td>\n",
       "    </tr>\n",
       "    <tr>\n",
       "      <th>1</th>\n",
       "      <td>4.9</td>\n",
       "      <td>3.0</td>\n",
       "      <td>1.4</td>\n",
       "      <td>0.2</td>\n",
       "      <td>0</td>\n",
       "    </tr>\n",
       "    <tr>\n",
       "      <th>2</th>\n",
       "      <td>4.7</td>\n",
       "      <td>3.2</td>\n",
       "      <td>1.3</td>\n",
       "      <td>0.2</td>\n",
       "      <td>0</td>\n",
       "    </tr>\n",
       "    <tr>\n",
       "      <th>3</th>\n",
       "      <td>4.6</td>\n",
       "      <td>3.1</td>\n",
       "      <td>1.5</td>\n",
       "      <td>0.2</td>\n",
       "      <td>0</td>\n",
       "    </tr>\n",
       "    <tr>\n",
       "      <th>4</th>\n",
       "      <td>5.0</td>\n",
       "      <td>3.6</td>\n",
       "      <td>1.4</td>\n",
       "      <td>0.2</td>\n",
       "      <td>0</td>\n",
       "    </tr>\n",
       "    <tr>\n",
       "      <th>...</th>\n",
       "      <td>...</td>\n",
       "      <td>...</td>\n",
       "      <td>...</td>\n",
       "      <td>...</td>\n",
       "      <td>...</td>\n",
       "    </tr>\n",
       "    <tr>\n",
       "      <th>145</th>\n",
       "      <td>6.7</td>\n",
       "      <td>3.0</td>\n",
       "      <td>5.2</td>\n",
       "      <td>2.3</td>\n",
       "      <td>2</td>\n",
       "    </tr>\n",
       "    <tr>\n",
       "      <th>146</th>\n",
       "      <td>6.3</td>\n",
       "      <td>2.5</td>\n",
       "      <td>5.0</td>\n",
       "      <td>1.9</td>\n",
       "      <td>2</td>\n",
       "    </tr>\n",
       "    <tr>\n",
       "      <th>147</th>\n",
       "      <td>6.5</td>\n",
       "      <td>3.0</td>\n",
       "      <td>5.2</td>\n",
       "      <td>2.0</td>\n",
       "      <td>2</td>\n",
       "    </tr>\n",
       "    <tr>\n",
       "      <th>148</th>\n",
       "      <td>6.2</td>\n",
       "      <td>3.4</td>\n",
       "      <td>5.4</td>\n",
       "      <td>2.3</td>\n",
       "      <td>2</td>\n",
       "    </tr>\n",
       "    <tr>\n",
       "      <th>149</th>\n",
       "      <td>5.9</td>\n",
       "      <td>3.0</td>\n",
       "      <td>5.1</td>\n",
       "      <td>1.8</td>\n",
       "      <td>2</td>\n",
       "    </tr>\n",
       "  </tbody>\n",
       "</table>\n",
       "<p>150 rows × 5 columns</p>\n",
       "</div>"
      ],
      "text/plain": [
       "       0    1    2    3  4\n",
       "0    5.1  3.5  1.4  0.2  0\n",
       "1    4.9  3.0  1.4  0.2  0\n",
       "2    4.7  3.2  1.3  0.2  0\n",
       "3    4.6  3.1  1.5  0.2  0\n",
       "4    5.0  3.6  1.4  0.2  0\n",
       "..   ...  ...  ...  ... ..\n",
       "145  6.7  3.0  5.2  2.3  2\n",
       "146  6.3  2.5  5.0  1.9  2\n",
       "147  6.5  3.0  5.2  2.0  2\n",
       "148  6.2  3.4  5.4  2.3  2\n",
       "149  5.9  3.0  5.1  1.8  2\n",
       "\n",
       "[150 rows x 5 columns]"
      ]
     },
     "execution_count": 6,
     "metadata": {},
     "output_type": "execute_result"
    }
   ],
   "source": [
    "iris"
   ]
  },
  {
   "cell_type": "code",
   "execution_count": 25,
   "id": "0c1aaa57",
   "metadata": {
    "ExecuteTime": {
     "end_time": "2023-06-08T12:47:55.553684Z",
     "start_time": "2023-06-08T12:47:55.537463Z"
    }
   },
   "outputs": [],
   "source": [
    "train_data = np.array(iris.iloc[:,:4])\n",
    "train_label = np.array(iris.iloc[:,4])"
   ]
  },
  {
   "cell_type": "markdown",
   "id": "c3eb04f6",
   "metadata": {},
   "source": [
    "## Dataset"
   ]
  },
  {
   "cell_type": "markdown",
   "id": "02dac3b8",
   "metadata": {},
   "source": [
    "继承该方法必须实现两个方法：\n",
    "- `_getitem_()`\n",
    "- `_len_()`"
   ]
  },
  {
   "cell_type": "code",
   "execution_count": 28,
   "id": "fa1cbe2d",
   "metadata": {
    "ExecuteTime": {
     "end_time": "2023-06-08T12:48:08.690821Z",
     "start_time": "2023-06-08T12:48:08.674967Z"
    }
   },
   "outputs": [],
   "source": [
    "# 定义GetLoader类，继承Dataset方法，并重写__getitem__()和__len__()方法\n",
    "class GetLoader(torch.utils.data.Dataset):\n",
    "    # 初始化函数，得到数据\n",
    "    def __init__(self, data_root, data_label):\n",
    "        self.data = data_root\n",
    "        self.label = data_label\n",
    "    # index是根据batchsize划分数据后得到的索引，最后将data和对应的labels进行一起返回\n",
    "    def __getitem__(self, index):\n",
    "        data = self.data[index]\n",
    "        labels = self.label[index]\n",
    "        return data, labels\n",
    "    # 该函数返回数据大小长度，目的是DataLoader方便划分，如果不知道大小，DataLoader会一脸懵逼\n",
    "    def __len__(self):\n",
    "        return len(self.data)"
   ]
  },
  {
   "cell_type": "code",
   "execution_count": 29,
   "id": "78b6af24",
   "metadata": {
    "ExecuteTime": {
     "end_time": "2023-06-08T12:48:11.809050Z",
     "start_time": "2023-06-08T12:48:11.794855Z"
    }
   },
   "outputs": [],
   "source": [
    "torch_data = GetLoader(train_data, train_label)"
   ]
  },
  {
   "cell_type": "code",
   "execution_count": 34,
   "id": "ffbcb81d",
   "metadata": {
    "ExecuteTime": {
     "end_time": "2023-06-08T13:03:05.570264Z",
     "start_time": "2023-06-08T13:03:05.551159Z"
    }
   },
   "outputs": [
    {
     "data": {
      "text/plain": [
       "array([[5.1, 3.5, 1.4, 0.2],\n",
       "       [4.9, 3. , 1.4, 0.2],\n",
       "       [4.7, 3.2, 1.3, 0.2],\n",
       "       [4.6, 3.1, 1.5, 0.2],\n",
       "       [5. , 3.6, 1.4, 0.2],\n",
       "       [5.4, 3.9, 1.7, 0.4],\n",
       "       [4.6, 3.4, 1.4, 0.3],\n",
       "       [5. , 3.4, 1.5, 0.2],\n",
       "       [4.4, 2.9, 1.4, 0.2],\n",
       "       [4.9, 3.1, 1.5, 0.1],\n",
       "       [5.4, 3.7, 1.5, 0.2],\n",
       "       [4.8, 3.4, 1.6, 0.2],\n",
       "       [4.8, 3. , 1.4, 0.1],\n",
       "       [4.3, 3. , 1.1, 0.1],\n",
       "       [5.8, 4. , 1.2, 0.2],\n",
       "       [5.7, 4.4, 1.5, 0.4],\n",
       "       [5.4, 3.9, 1.3, 0.4],\n",
       "       [5.1, 3.5, 1.4, 0.3],\n",
       "       [5.7, 3.8, 1.7, 0.3],\n",
       "       [5.1, 3.8, 1.5, 0.3],\n",
       "       [5.4, 3.4, 1.7, 0.2],\n",
       "       [5.1, 3.7, 1.5, 0.4],\n",
       "       [4.6, 3.6, 1. , 0.2],\n",
       "       [5.1, 3.3, 1.7, 0.5],\n",
       "       [4.8, 3.4, 1.9, 0.2],\n",
       "       [5. , 3. , 1.6, 0.2],\n",
       "       [5. , 3.4, 1.6, 0.4],\n",
       "       [5.2, 3.5, 1.5, 0.2],\n",
       "       [5.2, 3.4, 1.4, 0.2],\n",
       "       [4.7, 3.2, 1.6, 0.2],\n",
       "       [4.8, 3.1, 1.6, 0.2],\n",
       "       [5.4, 3.4, 1.5, 0.4],\n",
       "       [5.2, 4.1, 1.5, 0.1],\n",
       "       [5.5, 4.2, 1.4, 0.2],\n",
       "       [4.9, 3.1, 1.5, 0.1],\n",
       "       [5. , 3.2, 1.2, 0.2],\n",
       "       [5.5, 3.5, 1.3, 0.2],\n",
       "       [4.9, 3.1, 1.5, 0.1],\n",
       "       [4.4, 3. , 1.3, 0.2],\n",
       "       [5.1, 3.4, 1.5, 0.2],\n",
       "       [5. , 3.5, 1.3, 0.3],\n",
       "       [4.5, 2.3, 1.3, 0.3],\n",
       "       [4.4, 3.2, 1.3, 0.2],\n",
       "       [5. , 3.5, 1.6, 0.6],\n",
       "       [5.1, 3.8, 1.9, 0.4],\n",
       "       [4.8, 3. , 1.4, 0.3],\n",
       "       [5.1, 3.8, 1.6, 0.2],\n",
       "       [4.6, 3.2, 1.4, 0.2],\n",
       "       [5.3, 3.7, 1.5, 0.2],\n",
       "       [5. , 3.3, 1.4, 0.2],\n",
       "       [7. , 3.2, 4.7, 1.4],\n",
       "       [6.4, 3.2, 4.5, 1.5],\n",
       "       [6.9, 3.1, 4.9, 1.5],\n",
       "       [5.5, 2.3, 4. , 1.3],\n",
       "       [6.5, 2.8, 4.6, 1.5],\n",
       "       [5.7, 2.8, 4.5, 1.3],\n",
       "       [6.3, 3.3, 4.7, 1.6],\n",
       "       [4.9, 2.4, 3.3, 1. ],\n",
       "       [6.6, 2.9, 4.6, 1.3],\n",
       "       [5.2, 2.7, 3.9, 1.4],\n",
       "       [5. , 2. , 3.5, 1. ],\n",
       "       [5.9, 3. , 4.2, 1.5],\n",
       "       [6. , 2.2, 4. , 1. ],\n",
       "       [6.1, 2.9, 4.7, 1.4],\n",
       "       [5.6, 2.9, 3.6, 1.3],\n",
       "       [6.7, 3.1, 4.4, 1.4],\n",
       "       [5.6, 3. , 4.5, 1.5],\n",
       "       [5.8, 2.7, 4.1, 1. ],\n",
       "       [6.2, 2.2, 4.5, 1.5],\n",
       "       [5.6, 2.5, 3.9, 1.1],\n",
       "       [5.9, 3.2, 4.8, 1.8],\n",
       "       [6.1, 2.8, 4. , 1.3],\n",
       "       [6.3, 2.5, 4.9, 1.5],\n",
       "       [6.1, 2.8, 4.7, 1.2],\n",
       "       [6.4, 2.9, 4.3, 1.3],\n",
       "       [6.6, 3. , 4.4, 1.4],\n",
       "       [6.8, 2.8, 4.8, 1.4],\n",
       "       [6.7, 3. , 5. , 1.7],\n",
       "       [6. , 2.9, 4.5, 1.5],\n",
       "       [5.7, 2.6, 3.5, 1. ],\n",
       "       [5.5, 2.4, 3.8, 1.1],\n",
       "       [5.5, 2.4, 3.7, 1. ],\n",
       "       [5.8, 2.7, 3.9, 1.2],\n",
       "       [6. , 2.7, 5.1, 1.6],\n",
       "       [5.4, 3. , 4.5, 1.5],\n",
       "       [6. , 3.4, 4.5, 1.6],\n",
       "       [6.7, 3.1, 4.7, 1.5],\n",
       "       [6.3, 2.3, 4.4, 1.3],\n",
       "       [5.6, 3. , 4.1, 1.3],\n",
       "       [5.5, 2.5, 4. , 1.3],\n",
       "       [5.5, 2.6, 4.4, 1.2],\n",
       "       [6.1, 3. , 4.6, 1.4],\n",
       "       [5.8, 2.6, 4. , 1.2],\n",
       "       [5. , 2.3, 3.3, 1. ],\n",
       "       [5.6, 2.7, 4.2, 1.3],\n",
       "       [5.7, 3. , 4.2, 1.2],\n",
       "       [5.7, 2.9, 4.2, 1.3],\n",
       "       [6.2, 2.9, 4.3, 1.3],\n",
       "       [5.1, 2.5, 3. , 1.1],\n",
       "       [5.7, 2.8, 4.1, 1.3],\n",
       "       [6.3, 3.3, 6. , 2.5],\n",
       "       [5.8, 2.7, 5.1, 1.9],\n",
       "       [7.1, 3. , 5.9, 2.1],\n",
       "       [6.3, 2.9, 5.6, 1.8],\n",
       "       [6.5, 3. , 5.8, 2.2],\n",
       "       [7.6, 3. , 6.6, 2.1],\n",
       "       [4.9, 2.5, 4.5, 1.7],\n",
       "       [7.3, 2.9, 6.3, 1.8],\n",
       "       [6.7, 2.5, 5.8, 1.8],\n",
       "       [7.2, 3.6, 6.1, 2.5],\n",
       "       [6.5, 3.2, 5.1, 2. ],\n",
       "       [6.4, 2.7, 5.3, 1.9],\n",
       "       [6.8, 3. , 5.5, 2.1],\n",
       "       [5.7, 2.5, 5. , 2. ],\n",
       "       [5.8, 2.8, 5.1, 2.4],\n",
       "       [6.4, 3.2, 5.3, 2.3],\n",
       "       [6.5, 3. , 5.5, 1.8],\n",
       "       [7.7, 3.8, 6.7, 2.2],\n",
       "       [7.7, 2.6, 6.9, 2.3],\n",
       "       [6. , 2.2, 5. , 1.5],\n",
       "       [6.9, 3.2, 5.7, 2.3],\n",
       "       [5.6, 2.8, 4.9, 2. ],\n",
       "       [7.7, 2.8, 6.7, 2. ],\n",
       "       [6.3, 2.7, 4.9, 1.8],\n",
       "       [6.7, 3.3, 5.7, 2.1],\n",
       "       [7.2, 3.2, 6. , 1.8],\n",
       "       [6.2, 2.8, 4.8, 1.8],\n",
       "       [6.1, 3. , 4.9, 1.8],\n",
       "       [6.4, 2.8, 5.6, 2.1],\n",
       "       [7.2, 3. , 5.8, 1.6],\n",
       "       [7.4, 2.8, 6.1, 1.9],\n",
       "       [7.9, 3.8, 6.4, 2. ],\n",
       "       [6.4, 2.8, 5.6, 2.2],\n",
       "       [6.3, 2.8, 5.1, 1.5],\n",
       "       [6.1, 2.6, 5.6, 1.4],\n",
       "       [7.7, 3. , 6.1, 2.3],\n",
       "       [6.3, 3.4, 5.6, 2.4],\n",
       "       [6.4, 3.1, 5.5, 1.8],\n",
       "       [6. , 3. , 4.8, 1.8],\n",
       "       [6.9, 3.1, 5.4, 2.1],\n",
       "       [6.7, 3.1, 5.6, 2.4],\n",
       "       [6.9, 3.1, 5.1, 2.3],\n",
       "       [5.8, 2.7, 5.1, 1.9],\n",
       "       [6.8, 3.2, 5.9, 2.3],\n",
       "       [6.7, 3.3, 5.7, 2.5],\n",
       "       [6.7, 3. , 5.2, 2.3],\n",
       "       [6.3, 2.5, 5. , 1.9],\n",
       "       [6.5, 3. , 5.2, 2. ],\n",
       "       [6.2, 3.4, 5.4, 2.3],\n",
       "       [5.9, 3. , 5.1, 1.8]])"
      ]
     },
     "execution_count": 34,
     "metadata": {},
     "output_type": "execute_result"
    }
   ],
   "source": [
    "torch_data.data"
   ]
  },
  {
   "cell_type": "code",
   "execution_count": 35,
   "id": "86b6f421",
   "metadata": {
    "ExecuteTime": {
     "end_time": "2023-06-08T13:03:17.715284Z",
     "start_time": "2023-06-08T13:03:17.705602Z"
    }
   },
   "outputs": [
    {
     "data": {
      "text/plain": [
       "array([0, 0, 0, 0, 0, 0, 0, 0, 0, 0, 0, 0, 0, 0, 0, 0, 0, 0, 0, 0, 0, 0,\n",
       "       0, 0, 0, 0, 0, 0, 0, 0, 0, 0, 0, 0, 0, 0, 0, 0, 0, 0, 0, 0, 0, 0,\n",
       "       0, 0, 0, 0, 0, 0, 1, 1, 1, 1, 1, 1, 1, 1, 1, 1, 1, 1, 1, 1, 1, 1,\n",
       "       1, 1, 1, 1, 1, 1, 1, 1, 1, 1, 1, 1, 1, 1, 1, 1, 1, 1, 1, 1, 1, 1,\n",
       "       1, 1, 1, 1, 1, 1, 1, 1, 1, 1, 1, 1, 2, 2, 2, 2, 2, 2, 2, 2, 2, 2,\n",
       "       2, 2, 2, 2, 2, 2, 2, 2, 2, 2, 2, 2, 2, 2, 2, 2, 2, 2, 2, 2, 2, 2,\n",
       "       2, 2, 2, 2, 2, 2, 2, 2, 2, 2, 2, 2, 2, 2, 2, 2, 2, 2], dtype=int64)"
      ]
     },
     "execution_count": 35,
     "metadata": {},
     "output_type": "execute_result"
    }
   ],
   "source": [
    "torch_data.label"
   ]
  },
  {
   "cell_type": "markdown",
   "id": "e70954d8",
   "metadata": {},
   "source": [
    "## DataLoader"
   ]
  },
  {
   "cell_type": "markdown",
   "id": "b82a6884",
   "metadata": {},
   "source": [
    "提供对Dataset的操作，操作如下：\n",
    "\n",
    "`torch.utils.data.DataLoader(dataset,batch_size,shuffle,drop_last，num_workers)`"
   ]
  },
  {
   "cell_type": "markdown",
   "id": "ed298ab6",
   "metadata": {},
   "source": [
    "参数含义如下：\n",
    "\n",
    "- dataset： 加载torch.utils.data.Dataset对象数据\n",
    "- batch_size： 每个batch的大小\n",
    "- shuffle：是否对数据进行打乱\n",
    "- drop_last：是否对无法整除的最后一个datasize进行丢弃\n",
    "- num_workers：表示加载的时候子进程数"
   ]
  },
  {
   "cell_type": "code",
   "execution_count": 32,
   "id": "8f66d75e",
   "metadata": {
    "ExecuteTime": {
     "end_time": "2023-06-08T12:48:31.127546Z",
     "start_time": "2023-06-08T12:48:31.110255Z"
    }
   },
   "outputs": [],
   "source": [
    "# 读取数据\n",
    "datas = DataLoader(torch_data, batch_size=50, shuffle=True, drop_last=False)"
   ]
  },
  {
   "cell_type": "markdown",
   "id": "7a51e450",
   "metadata": {},
   "source": [
    "## 查看数据"
   ]
  },
  {
   "cell_type": "code",
   "execution_count": 33,
   "id": "b4eb0824",
   "metadata": {
    "ExecuteTime": {
     "end_time": "2023-06-08T12:48:31.746131Z",
     "start_time": "2023-06-08T12:48:31.700690Z"
    }
   },
   "outputs": [
    {
     "name": "stdout",
     "output_type": "stream",
     "text": [
      "第 0 个Batch \n",
      "[tensor([[4.6000, 3.2000, 1.4000, 0.2000],\n",
      "        [6.3000, 3.3000, 4.7000, 1.6000],\n",
      "        [5.5000, 2.4000, 3.8000, 1.1000],\n",
      "        [6.4000, 3.2000, 4.5000, 1.5000],\n",
      "        [6.7000, 2.5000, 5.8000, 1.8000],\n",
      "        [5.4000, 3.4000, 1.7000, 0.2000],\n",
      "        [5.4000, 3.4000, 1.5000, 0.4000],\n",
      "        [5.9000, 3.0000, 5.1000, 1.8000],\n",
      "        [7.3000, 2.9000, 6.3000, 1.8000],\n",
      "        [4.9000, 3.1000, 1.5000, 0.1000],\n",
      "        [5.1000, 3.8000, 1.5000, 0.3000],\n",
      "        [5.9000, 3.0000, 4.2000, 1.5000],\n",
      "        [5.1000, 3.4000, 1.5000, 0.2000],\n",
      "        [6.5000, 2.8000, 4.6000, 1.5000],\n",
      "        [5.7000, 3.8000, 1.7000, 0.3000],\n",
      "        [4.6000, 3.1000, 1.5000, 0.2000],\n",
      "        [5.1000, 3.8000, 1.9000, 0.4000],\n",
      "        [5.9000, 3.2000, 4.8000, 1.8000],\n",
      "        [4.9000, 2.4000, 3.3000, 1.0000],\n",
      "        [6.3000, 2.5000, 4.9000, 1.5000],\n",
      "        [6.3000, 3.3000, 6.0000, 2.5000],\n",
      "        [6.2000, 2.2000, 4.5000, 1.5000],\n",
      "        [5.8000, 4.0000, 1.2000, 0.2000],\n",
      "        [6.9000, 3.1000, 5.4000, 2.1000],\n",
      "        [5.8000, 2.6000, 4.0000, 1.2000],\n",
      "        [6.0000, 3.4000, 4.5000, 1.6000],\n",
      "        [5.1000, 3.8000, 1.6000, 0.2000],\n",
      "        [6.3000, 2.7000, 4.9000, 1.8000],\n",
      "        [6.8000, 3.2000, 5.9000, 2.3000],\n",
      "        [7.0000, 3.2000, 4.7000, 1.4000],\n",
      "        [4.9000, 3.1000, 1.5000, 0.1000],\n",
      "        [4.6000, 3.4000, 1.4000, 0.3000],\n",
      "        [5.0000, 3.4000, 1.5000, 0.2000],\n",
      "        [5.0000, 3.4000, 1.6000, 0.4000],\n",
      "        [6.2000, 2.9000, 4.3000, 1.3000],\n",
      "        [5.6000, 2.9000, 3.6000, 1.3000],\n",
      "        [4.3000, 3.0000, 1.1000, 0.1000],\n",
      "        [6.7000, 3.1000, 4.4000, 1.4000],\n",
      "        [6.3000, 2.9000, 5.6000, 1.8000],\n",
      "        [7.7000, 3.8000, 6.7000, 2.2000],\n",
      "        [6.7000, 3.1000, 5.6000, 2.4000],\n",
      "        [5.5000, 2.3000, 4.0000, 1.3000],\n",
      "        [6.0000, 2.2000, 4.0000, 1.0000],\n",
      "        [5.7000, 2.8000, 4.1000, 1.3000],\n",
      "        [6.1000, 3.0000, 4.6000, 1.4000],\n",
      "        [5.8000, 2.7000, 5.1000, 1.9000],\n",
      "        [5.1000, 3.5000, 1.4000, 0.2000],\n",
      "        [5.8000, 2.7000, 4.1000, 1.0000],\n",
      "        [6.8000, 2.8000, 4.8000, 1.4000],\n",
      "        [5.0000, 3.6000, 1.4000, 0.2000]], dtype=torch.float64), tensor([0, 1, 1, 1, 2, 0, 0, 2, 2, 0, 0, 1, 0, 1, 0, 0, 0, 1, 1, 1, 2, 1, 0, 2,\n",
      "        1, 1, 0, 2, 2, 1, 0, 0, 0, 0, 1, 1, 0, 1, 2, 2, 2, 1, 1, 1, 1, 2, 0, 1,\n",
      "        1, 0])]\n",
      "第 1 个Batch \n",
      "[tensor([[6.4000, 2.8000, 5.6000, 2.1000],\n",
      "        [4.6000, 3.6000, 1.0000, 0.2000],\n",
      "        [6.4000, 3.1000, 5.5000, 1.8000],\n",
      "        [7.7000, 2.6000, 6.9000, 2.3000],\n",
      "        [7.4000, 2.8000, 6.1000, 1.9000],\n",
      "        [5.7000, 2.9000, 4.2000, 1.3000],\n",
      "        [7.6000, 3.0000, 6.6000, 2.1000],\n",
      "        [6.3000, 3.4000, 5.6000, 2.4000],\n",
      "        [5.5000, 2.6000, 4.4000, 1.2000],\n",
      "        [4.8000, 3.0000, 1.4000, 0.1000],\n",
      "        [5.6000, 3.0000, 4.5000, 1.5000],\n",
      "        [6.9000, 3.2000, 5.7000, 2.3000],\n",
      "        [6.0000, 2.2000, 5.0000, 1.5000],\n",
      "        [6.7000, 3.3000, 5.7000, 2.1000],\n",
      "        [4.4000, 2.9000, 1.4000, 0.2000],\n",
      "        [5.5000, 4.2000, 1.4000, 0.2000],\n",
      "        [6.4000, 3.2000, 5.3000, 2.3000],\n",
      "        [5.0000, 3.5000, 1.3000, 0.3000],\n",
      "        [4.8000, 3.1000, 1.6000, 0.2000],\n",
      "        [4.9000, 2.5000, 4.5000, 1.7000],\n",
      "        [5.7000, 2.8000, 4.5000, 1.3000],\n",
      "        [4.7000, 3.2000, 1.6000, 0.2000],\n",
      "        [4.8000, 3.4000, 1.9000, 0.2000],\n",
      "        [6.7000, 3.0000, 5.0000, 1.7000],\n",
      "        [7.9000, 3.8000, 6.4000, 2.0000],\n",
      "        [5.8000, 2.8000, 5.1000, 2.4000],\n",
      "        [5.2000, 2.7000, 3.9000, 1.4000],\n",
      "        [5.6000, 3.0000, 4.1000, 1.3000],\n",
      "        [5.4000, 3.9000, 1.3000, 0.4000],\n",
      "        [6.4000, 2.7000, 5.3000, 1.9000],\n",
      "        [5.7000, 3.0000, 4.2000, 1.2000],\n",
      "        [5.1000, 3.5000, 1.4000, 0.3000],\n",
      "        [4.8000, 3.0000, 1.4000, 0.3000],\n",
      "        [5.1000, 2.5000, 3.0000, 1.1000],\n",
      "        [5.7000, 4.4000, 1.5000, 0.4000],\n",
      "        [5.4000, 3.9000, 1.7000, 0.4000],\n",
      "        [6.7000, 3.0000, 5.2000, 2.3000],\n",
      "        [6.9000, 3.1000, 5.1000, 2.3000],\n",
      "        [5.2000, 4.1000, 1.5000, 0.1000],\n",
      "        [6.6000, 3.0000, 4.4000, 1.4000],\n",
      "        [5.0000, 2.3000, 3.3000, 1.0000],\n",
      "        [6.9000, 3.1000, 4.9000, 1.5000],\n",
      "        [4.9000, 3.1000, 1.5000, 0.1000],\n",
      "        [5.0000, 3.2000, 1.2000, 0.2000],\n",
      "        [6.3000, 2.8000, 5.1000, 1.5000],\n",
      "        [4.9000, 3.0000, 1.4000, 0.2000],\n",
      "        [6.0000, 2.9000, 4.5000, 1.5000],\n",
      "        [6.3000, 2.5000, 5.0000, 1.9000],\n",
      "        [5.6000, 2.7000, 4.2000, 1.3000],\n",
      "        [6.1000, 2.8000, 4.0000, 1.3000]], dtype=torch.float64), tensor([2, 0, 2, 2, 2, 1, 2, 2, 1, 0, 1, 2, 2, 2, 0, 0, 2, 0, 0, 2, 1, 0, 0, 1,\n",
      "        2, 2, 1, 1, 0, 2, 1, 0, 0, 1, 0, 0, 2, 2, 0, 1, 1, 1, 0, 0, 2, 0, 1, 2,\n",
      "        1, 1])]\n",
      "第 2 个Batch \n",
      "[tensor([[7.7000, 3.0000, 6.1000, 2.3000],\n",
      "        [6.3000, 2.3000, 4.4000, 1.3000],\n",
      "        [6.7000, 3.3000, 5.7000, 2.5000],\n",
      "        [5.4000, 3.0000, 4.5000, 1.5000],\n",
      "        [5.0000, 3.3000, 1.4000, 0.2000],\n",
      "        [6.1000, 2.6000, 5.6000, 1.4000],\n",
      "        [5.7000, 2.5000, 5.0000, 2.0000],\n",
      "        [5.2000, 3.4000, 1.4000, 0.2000],\n",
      "        [5.6000, 2.5000, 3.9000, 1.1000],\n",
      "        [6.1000, 2.8000, 4.7000, 1.2000],\n",
      "        [4.5000, 2.3000, 1.3000, 0.3000],\n",
      "        [6.1000, 2.9000, 4.7000, 1.4000],\n",
      "        [6.0000, 2.7000, 5.1000, 1.6000],\n",
      "        [5.5000, 2.4000, 3.7000, 1.0000],\n",
      "        [6.0000, 3.0000, 4.8000, 1.8000],\n",
      "        [6.4000, 2.9000, 4.3000, 1.3000],\n",
      "        [6.6000, 2.9000, 4.6000, 1.3000],\n",
      "        [6.8000, 3.0000, 5.5000, 2.1000],\n",
      "        [6.5000, 3.2000, 5.1000, 2.0000],\n",
      "        [6.1000, 3.0000, 4.9000, 1.8000],\n",
      "        [6.5000, 3.0000, 5.5000, 1.8000],\n",
      "        [5.1000, 3.3000, 1.7000, 0.5000],\n",
      "        [7.2000, 3.6000, 6.1000, 2.5000],\n",
      "        [5.7000, 2.6000, 3.5000, 1.0000],\n",
      "        [6.5000, 3.0000, 5.2000, 2.0000],\n",
      "        [5.5000, 3.5000, 1.3000, 0.2000],\n",
      "        [4.7000, 3.2000, 1.3000, 0.2000],\n",
      "        [6.4000, 2.8000, 5.6000, 2.2000],\n",
      "        [6.7000, 3.1000, 4.7000, 1.5000],\n",
      "        [7.2000, 3.0000, 5.8000, 1.6000],\n",
      "        [7.1000, 3.0000, 5.9000, 2.1000],\n",
      "        [6.2000, 3.4000, 5.4000, 2.3000],\n",
      "        [5.6000, 2.8000, 4.9000, 2.0000],\n",
      "        [5.2000, 3.5000, 1.5000, 0.2000],\n",
      "        [5.5000, 2.5000, 4.0000, 1.3000],\n",
      "        [5.3000, 3.7000, 1.5000, 0.2000],\n",
      "        [4.8000, 3.4000, 1.6000, 0.2000],\n",
      "        [5.0000, 3.0000, 1.6000, 0.2000],\n",
      "        [4.4000, 3.0000, 1.3000, 0.2000],\n",
      "        [7.7000, 2.8000, 6.7000, 2.0000],\n",
      "        [5.1000, 3.7000, 1.5000, 0.4000],\n",
      "        [4.4000, 3.2000, 1.3000, 0.2000],\n",
      "        [7.2000, 3.2000, 6.0000, 1.8000],\n",
      "        [5.0000, 2.0000, 3.5000, 1.0000],\n",
      "        [6.5000, 3.0000, 5.8000, 2.2000],\n",
      "        [5.0000, 3.5000, 1.6000, 0.6000],\n",
      "        [6.2000, 2.8000, 4.8000, 1.8000],\n",
      "        [5.8000, 2.7000, 5.1000, 1.9000],\n",
      "        [5.4000, 3.7000, 1.5000, 0.2000],\n",
      "        [5.8000, 2.7000, 3.9000, 1.2000]], dtype=torch.float64), tensor([2, 1, 2, 1, 0, 2, 2, 0, 1, 1, 0, 1, 1, 1, 2, 1, 1, 2, 2, 2, 2, 0, 2, 1,\n",
      "        2, 0, 0, 2, 1, 2, 2, 2, 2, 0, 1, 0, 0, 0, 0, 2, 0, 0, 2, 1, 2, 0, 2, 2,\n",
      "        0, 1])]\n"
     ]
    }
   ],
   "source": [
    "for i, data in enumerate(datas):\n",
    "    # i表示第几个batch， data表示该batch对应的数据，包含data和对应的labels\n",
    "    print(\"第 {} 个Batch \\n{}\".format(i, data))"
   ]
  },
  {
   "cell_type": "markdown",
   "id": "960166de",
   "metadata": {},
   "source": [
    "# 训练模型"
   ]
  },
  {
   "cell_type": "markdown",
   "id": "ab06b1f4",
   "metadata": {},
   "source": [
    "## 直接构建模型"
   ]
  },
  {
   "cell_type": "code",
   "execution_count": 38,
   "id": "402d6003",
   "metadata": {
    "ExecuteTime": {
     "end_time": "2023-06-08T13:26:15.581998Z",
     "start_time": "2023-06-08T13:26:15.545123Z"
    }
   },
   "outputs": [],
   "source": [
    "net = torch.nn.Sequential(\n",
    "    nn.Linear(4, 10),\n",
    "    nn.ReLU(),\n",
    "    nn.Linear(10,1)\n",
    ")"
   ]
  },
  {
   "cell_type": "code",
   "execution_count": 39,
   "id": "6ed5fac7",
   "metadata": {
    "ExecuteTime": {
     "end_time": "2023-06-08T13:26:19.522138Z",
     "start_time": "2023-06-08T13:26:19.498265Z"
    }
   },
   "outputs": [
    {
     "data": {
      "text/plain": [
       "Sequential(\n",
       "  (0): Linear(in_features=4, out_features=10, bias=True)\n",
       "  (1): ReLU()\n",
       "  (2): Linear(in_features=10, out_features=1, bias=True)\n",
       ")"
      ]
     },
     "execution_count": 39,
     "metadata": {},
     "output_type": "execute_result"
    }
   ],
   "source": [
    "net"
   ]
  },
  {
   "cell_type": "code",
   "execution_count": 40,
   "id": "ea40c367",
   "metadata": {
    "ExecuteTime": {
     "end_time": "2023-06-08T13:28:02.974717Z",
     "start_time": "2023-06-08T13:28:02.957273Z"
    }
   },
   "outputs": [],
   "source": [
    "def get_acc(outputs, labels):\n",
    "    \"\"\"计算acc\"\"\"\n",
    "    _, predict = torch.max(outputs.data, 1)\n",
    "    total_num = labels.shape[0]*1.0\n",
    "    correct_num = (labels == predict).sum().item()\n",
    "    acc = correct_num / total_num\n",
    "\n",
    "    return acc"
   ]
  },
  {
   "cell_type": "code",
   "execution_count": 41,
   "id": "d1a5804e",
   "metadata": {
    "ExecuteTime": {
     "end_time": "2023-06-08T13:28:36.321978Z",
     "start_time": "2023-06-08T13:28:36.299608Z"
    }
   },
   "outputs": [],
   "source": [
    "# 优化器\n",
    "optim = torch.optim.Adam(net.parameters(), lr=0.0001)\n",
    "\n",
    "# 损失\n",
    "loss_fun = nn.CrossEntropyLoss()"
   ]
  },
  {
   "cell_type": "code",
   "execution_count": 49,
   "id": "ffaba01e",
   "metadata": {
    "ExecuteTime": {
     "end_time": "2023-06-08T13:40:14.708095Z",
     "start_time": "2023-06-08T13:40:14.665950Z"
    }
   },
   "outputs": [
    {
     "name": "stderr",
     "output_type": "stream",
     "text": [
      "C:\\Users\\caoyuyu\\AppData\\Local\\Temp\\ipykernel_20720\\1809586926.py:8: UserWarning: To copy construct from a tensor, it is recommended to use sourceTensor.clone().detach() or sourceTensor.clone().detach().requires_grad_(True), rather than torch.tensor(sourceTensor).\n",
      "  x = torch.tensor(x, dtype=torch.float64)\n",
      "C:\\Users\\caoyuyu\\AppData\\Local\\Temp\\ipykernel_20720\\1809586926.py:9: UserWarning: To copy construct from a tensor, it is recommended to use sourceTensor.clone().detach() or sourceTensor.clone().detach().requires_grad_(True), rather than torch.tensor(sourceTensor).\n",
      "  y = torch.tensor(y, dtype=torch.float64)\n"
     ]
    },
    {
     "ename": "RuntimeError",
     "evalue": "mat1 and mat2 must have the same dtype",
     "output_type": "error",
     "traceback": [
      "\u001b[1;31m---------------------------------------------------------------------------\u001b[0m",
      "\u001b[1;31mRuntimeError\u001b[0m                              Traceback (most recent call last)",
      "\u001b[1;32m~\\AppData\\Local\\Temp\\ipykernel_20720\\1809586926.py\u001b[0m in \u001b[0;36m<module>\u001b[1;34m\u001b[0m\n\u001b[0;32m      8\u001b[0m         \u001b[0mx\u001b[0m \u001b[1;33m=\u001b[0m \u001b[0mtorch\u001b[0m\u001b[1;33m.\u001b[0m\u001b[0mtensor\u001b[0m\u001b[1;33m(\u001b[0m\u001b[0mx\u001b[0m\u001b[1;33m,\u001b[0m \u001b[0mdtype\u001b[0m\u001b[1;33m=\u001b[0m\u001b[0mtorch\u001b[0m\u001b[1;33m.\u001b[0m\u001b[0mfloat64\u001b[0m\u001b[1;33m)\u001b[0m\u001b[1;33m\u001b[0m\u001b[1;33m\u001b[0m\u001b[0m\n\u001b[0;32m      9\u001b[0m         \u001b[0my\u001b[0m \u001b[1;33m=\u001b[0m \u001b[0mtorch\u001b[0m\u001b[1;33m.\u001b[0m\u001b[0mtensor\u001b[0m\u001b[1;33m(\u001b[0m\u001b[0my\u001b[0m\u001b[1;33m,\u001b[0m \u001b[0mdtype\u001b[0m\u001b[1;33m=\u001b[0m\u001b[0mtorch\u001b[0m\u001b[1;33m.\u001b[0m\u001b[0mfloat64\u001b[0m\u001b[1;33m)\u001b[0m\u001b[1;33m\u001b[0m\u001b[1;33m\u001b[0m\u001b[0m\n\u001b[1;32m---> 10\u001b[1;33m         \u001b[0mout\u001b[0m \u001b[1;33m=\u001b[0m \u001b[0mnet\u001b[0m\u001b[1;33m(\u001b[0m\u001b[0mx\u001b[0m\u001b[1;33m)\u001b[0m\u001b[1;33m\u001b[0m\u001b[1;33m\u001b[0m\u001b[0m\n\u001b[0m\u001b[0;32m     11\u001b[0m         \u001b[0mloss\u001b[0m \u001b[1;33m=\u001b[0m \u001b[0mloss_fun\u001b[0m\u001b[1;33m(\u001b[0m\u001b[0mout\u001b[0m\u001b[1;33m,\u001b[0m \u001b[0my\u001b[0m\u001b[1;33m)\u001b[0m\u001b[1;33m\u001b[0m\u001b[1;33m\u001b[0m\u001b[0m\n\u001b[0;32m     12\u001b[0m \u001b[1;33m\u001b[0m\u001b[0m\n",
      "\u001b[1;32mD:\\Anaconda\\lib\\site-packages\\torch\\nn\\modules\\module.py\u001b[0m in \u001b[0;36m_call_impl\u001b[1;34m(self, *args, **kwargs)\u001b[0m\n\u001b[0;32m   1499\u001b[0m                 \u001b[1;32mor\u001b[0m \u001b[0m_global_backward_pre_hooks\u001b[0m \u001b[1;32mor\u001b[0m \u001b[0m_global_backward_hooks\u001b[0m\u001b[1;33m\u001b[0m\u001b[1;33m\u001b[0m\u001b[0m\n\u001b[0;32m   1500\u001b[0m                 or _global_forward_hooks or _global_forward_pre_hooks):\n\u001b[1;32m-> 1501\u001b[1;33m             \u001b[1;32mreturn\u001b[0m \u001b[0mforward_call\u001b[0m\u001b[1;33m(\u001b[0m\u001b[1;33m*\u001b[0m\u001b[0margs\u001b[0m\u001b[1;33m,\u001b[0m \u001b[1;33m**\u001b[0m\u001b[0mkwargs\u001b[0m\u001b[1;33m)\u001b[0m\u001b[1;33m\u001b[0m\u001b[1;33m\u001b[0m\u001b[0m\n\u001b[0m\u001b[0;32m   1502\u001b[0m         \u001b[1;31m# Do not call functions when jit is used\u001b[0m\u001b[1;33m\u001b[0m\u001b[1;33m\u001b[0m\u001b[0m\n\u001b[0;32m   1503\u001b[0m         \u001b[0mfull_backward_hooks\u001b[0m\u001b[1;33m,\u001b[0m \u001b[0mnon_full_backward_hooks\u001b[0m \u001b[1;33m=\u001b[0m \u001b[1;33m[\u001b[0m\u001b[1;33m]\u001b[0m\u001b[1;33m,\u001b[0m \u001b[1;33m[\u001b[0m\u001b[1;33m]\u001b[0m\u001b[1;33m\u001b[0m\u001b[1;33m\u001b[0m\u001b[0m\n",
      "\u001b[1;32mD:\\Anaconda\\lib\\site-packages\\torch\\nn\\modules\\container.py\u001b[0m in \u001b[0;36mforward\u001b[1;34m(self, input)\u001b[0m\n\u001b[0;32m    215\u001b[0m     \u001b[1;32mdef\u001b[0m \u001b[0mforward\u001b[0m\u001b[1;33m(\u001b[0m\u001b[0mself\u001b[0m\u001b[1;33m,\u001b[0m \u001b[0minput\u001b[0m\u001b[1;33m)\u001b[0m\u001b[1;33m:\u001b[0m\u001b[1;33m\u001b[0m\u001b[1;33m\u001b[0m\u001b[0m\n\u001b[0;32m    216\u001b[0m         \u001b[1;32mfor\u001b[0m \u001b[0mmodule\u001b[0m \u001b[1;32min\u001b[0m \u001b[0mself\u001b[0m\u001b[1;33m:\u001b[0m\u001b[1;33m\u001b[0m\u001b[1;33m\u001b[0m\u001b[0m\n\u001b[1;32m--> 217\u001b[1;33m             \u001b[0minput\u001b[0m \u001b[1;33m=\u001b[0m \u001b[0mmodule\u001b[0m\u001b[1;33m(\u001b[0m\u001b[0minput\u001b[0m\u001b[1;33m)\u001b[0m\u001b[1;33m\u001b[0m\u001b[1;33m\u001b[0m\u001b[0m\n\u001b[0m\u001b[0;32m    218\u001b[0m         \u001b[1;32mreturn\u001b[0m \u001b[0minput\u001b[0m\u001b[1;33m\u001b[0m\u001b[1;33m\u001b[0m\u001b[0m\n\u001b[0;32m    219\u001b[0m \u001b[1;33m\u001b[0m\u001b[0m\n",
      "\u001b[1;32mD:\\Anaconda\\lib\\site-packages\\torch\\nn\\modules\\module.py\u001b[0m in \u001b[0;36m_call_impl\u001b[1;34m(self, *args, **kwargs)\u001b[0m\n\u001b[0;32m   1499\u001b[0m                 \u001b[1;32mor\u001b[0m \u001b[0m_global_backward_pre_hooks\u001b[0m \u001b[1;32mor\u001b[0m \u001b[0m_global_backward_hooks\u001b[0m\u001b[1;33m\u001b[0m\u001b[1;33m\u001b[0m\u001b[0m\n\u001b[0;32m   1500\u001b[0m                 or _global_forward_hooks or _global_forward_pre_hooks):\n\u001b[1;32m-> 1501\u001b[1;33m             \u001b[1;32mreturn\u001b[0m \u001b[0mforward_call\u001b[0m\u001b[1;33m(\u001b[0m\u001b[1;33m*\u001b[0m\u001b[0margs\u001b[0m\u001b[1;33m,\u001b[0m \u001b[1;33m**\u001b[0m\u001b[0mkwargs\u001b[0m\u001b[1;33m)\u001b[0m\u001b[1;33m\u001b[0m\u001b[1;33m\u001b[0m\u001b[0m\n\u001b[0m\u001b[0;32m   1502\u001b[0m         \u001b[1;31m# Do not call functions when jit is used\u001b[0m\u001b[1;33m\u001b[0m\u001b[1;33m\u001b[0m\u001b[0m\n\u001b[0;32m   1503\u001b[0m         \u001b[0mfull_backward_hooks\u001b[0m\u001b[1;33m,\u001b[0m \u001b[0mnon_full_backward_hooks\u001b[0m \u001b[1;33m=\u001b[0m \u001b[1;33m[\u001b[0m\u001b[1;33m]\u001b[0m\u001b[1;33m,\u001b[0m \u001b[1;33m[\u001b[0m\u001b[1;33m]\u001b[0m\u001b[1;33m\u001b[0m\u001b[1;33m\u001b[0m\u001b[0m\n",
      "\u001b[1;32mD:\\Anaconda\\lib\\site-packages\\torch\\nn\\modules\\linear.py\u001b[0m in \u001b[0;36mforward\u001b[1;34m(self, input)\u001b[0m\n\u001b[0;32m    112\u001b[0m \u001b[1;33m\u001b[0m\u001b[0m\n\u001b[0;32m    113\u001b[0m     \u001b[1;32mdef\u001b[0m \u001b[0mforward\u001b[0m\u001b[1;33m(\u001b[0m\u001b[0mself\u001b[0m\u001b[1;33m,\u001b[0m \u001b[0minput\u001b[0m\u001b[1;33m:\u001b[0m \u001b[0mTensor\u001b[0m\u001b[1;33m)\u001b[0m \u001b[1;33m->\u001b[0m \u001b[0mTensor\u001b[0m\u001b[1;33m:\u001b[0m\u001b[1;33m\u001b[0m\u001b[1;33m\u001b[0m\u001b[0m\n\u001b[1;32m--> 114\u001b[1;33m         \u001b[1;32mreturn\u001b[0m \u001b[0mF\u001b[0m\u001b[1;33m.\u001b[0m\u001b[0mlinear\u001b[0m\u001b[1;33m(\u001b[0m\u001b[0minput\u001b[0m\u001b[1;33m,\u001b[0m \u001b[0mself\u001b[0m\u001b[1;33m.\u001b[0m\u001b[0mweight\u001b[0m\u001b[1;33m,\u001b[0m \u001b[0mself\u001b[0m\u001b[1;33m.\u001b[0m\u001b[0mbias\u001b[0m\u001b[1;33m)\u001b[0m\u001b[1;33m\u001b[0m\u001b[1;33m\u001b[0m\u001b[0m\n\u001b[0m\u001b[0;32m    115\u001b[0m \u001b[1;33m\u001b[0m\u001b[0m\n\u001b[0;32m    116\u001b[0m     \u001b[1;32mdef\u001b[0m \u001b[0mextra_repr\u001b[0m\u001b[1;33m(\u001b[0m\u001b[0mself\u001b[0m\u001b[1;33m)\u001b[0m \u001b[1;33m->\u001b[0m \u001b[0mstr\u001b[0m\u001b[1;33m:\u001b[0m\u001b[1;33m\u001b[0m\u001b[1;33m\u001b[0m\u001b[0m\n",
      "\u001b[1;31mRuntimeError\u001b[0m: mat1 and mat2 must have the same dtype"
     ]
    }
   ],
   "source": [
    "# 训练\n",
    "for e in range(1000):\n",
    "    epoch_loss = 0\n",
    "    epoch_acc = 0\n",
    "    for i, (x, y) in enumerate(datas):\n",
    "        optim.zero_grad()\n",
    "\n",
    "        x = torch.tensor(x, dtype=torch.float64)\n",
    "        y = torch.tensor(y, dtype=torch.float64)\n",
    "        out = net(x)\n",
    "        loss = loss_fun(out, y)\n",
    "\n",
    "        loss.backward()\n",
    "        optim.step()\n",
    "\n",
    "        epoch_loss += loss.data\n",
    "        epoch_acc += get_acc(out, y)\n",
    "\n",
    "    if e % 200 == 0:\n",
    "        print('epoch: %d, loss: %f, acc: %f' % (e, epoch_loss / 50, epoch_acc / 50))"
   ]
  },
  {
   "cell_type": "code",
   "execution_count": 47,
   "id": "41e43dee",
   "metadata": {
    "ExecuteTime": {
     "end_time": "2023-06-08T13:39:30.111803Z",
     "start_time": "2023-06-08T13:39:30.101158Z"
    }
   },
   "outputs": [],
   "source": [
    "?torch.tensor"
   ]
  },
  {
   "cell_type": "code",
   "execution_count": null,
   "id": "0a7b7c13",
   "metadata": {},
   "outputs": [],
   "source": []
  }
 ],
 "metadata": {
  "kernelspec": {
   "display_name": "Python 3 (ipykernel)",
   "language": "python",
   "name": "python3"
  },
  "language_info": {
   "codemirror_mode": {
    "name": "ipython",
    "version": 3
   },
   "file_extension": ".py",
   "mimetype": "text/x-python",
   "name": "python",
   "nbconvert_exporter": "python",
   "pygments_lexer": "ipython3",
   "version": "3.9.13"
  },
  "toc": {
   "base_numbering": 1,
   "nav_menu": {},
   "number_sections": true,
   "sideBar": true,
   "skip_h1_title": false,
   "title_cell": "Table of Contents",
   "title_sidebar": "Contents",
   "toc_cell": false,
   "toc_position": {},
   "toc_section_display": true,
   "toc_window_display": false
  }
 },
 "nbformat": 4,
 "nbformat_minor": 5
}
