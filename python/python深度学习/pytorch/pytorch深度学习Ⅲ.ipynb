{
 "cells": [
  {
   "cell_type": "markdown",
   "id": "6b804ff0",
   "metadata": {},
   "source": [
    "**本代码来自集智俱乐部著《深度学习原理与PyTorch实战》**"
   ]
  },
  {
   "cell_type": "code",
   "execution_count": 1,
   "id": "00ebd87a",
   "metadata": {
    "ExecuteTime": {
     "end_time": "2023-03-16T11:40:33.481614Z",
     "start_time": "2023-03-16T11:40:27.743239Z"
    }
   },
   "outputs": [
    {
     "name": "stdout",
     "output_type": "stream",
     "text": [
      "torch_gpu version: 1.13.1\n"
     ]
    }
   ],
   "source": [
    "import torch\n",
    "\n",
    "version = torch.__version__  #查看PyTorch版本\n",
    "print(\"torch_gpu version:\", version)"
   ]
  },
  {
   "cell_type": "markdown",
   "id": "046d1e6a",
   "metadata": {},
   "source": [
    "# 单车预测器"
   ]
  },
  {
   "cell_type": "code",
   "execution_count": null,
   "id": "a6ec7cf8",
   "metadata": {},
   "outputs": [],
   "source": []
  }
 ],
 "metadata": {
  "kernelspec": {
   "display_name": "Python 3 (ipykernel)",
   "language": "python",
   "name": "python3"
  },
  "language_info": {
   "codemirror_mode": {
    "name": "ipython",
    "version": 3
   },
   "file_extension": ".py",
   "mimetype": "text/x-python",
   "name": "python",
   "nbconvert_exporter": "python",
   "pygments_lexer": "ipython3",
   "version": "3.9.7"
  },
  "toc": {
   "base_numbering": 1,
   "nav_menu": {},
   "number_sections": true,
   "sideBar": true,
   "skip_h1_title": false,
   "title_cell": "Table of Contents",
   "title_sidebar": "Contents",
   "toc_cell": false,
   "toc_position": {},
   "toc_section_display": true,
   "toc_window_display": true
  }
 },
 "nbformat": 4,
 "nbformat_minor": 5
}
