{
 "cells": [
  {
   "cell_type": "code",
   "execution_count": 3,
   "id": "a8be08be",
   "metadata": {},
   "outputs": [],
   "source": [
    "import mindspore_hub as mshub\n",
    "import mindspore\n",
    "from mindspore import Tensor, nn, Model, set_context, GRAPH_MODE"
   ]
  },
  {
   "cell_type": "code",
   "execution_count": 4,
   "id": "3425de8b",
   "metadata": {},
   "outputs": [
    {
     "data": {
      "text/plain": [
       "['3dcnn_brast2017',\n",
       " '3ddensenet_iseg2017',\n",
       " 'adnet_vot2013vot2014',\n",
       " 'advancedeast_icpr2018',\n",
       " 'aecrnet_reside']"
      ]
     },
     "execution_count": 4,
     "metadata": {},
     "output_type": "execute_result"
    }
   ],
   "source": [
    "hub_list = mshub.hub_list() #MindSpore Hub支持的asset列表\n",
    "hub_list[:5]"
   ]
  },
  {
   "cell_type": "code",
   "execution_count": 3,
   "id": "cc668bf4",
   "metadata": {},
   "outputs": [
    {
     "name": "stdout",
     "output_type": "stream",
     "text": [
      "Downloading data from url https://gitee.com/mindspore/hub/raw/master/mshub_res/assets/mindspore/1.8/googlenet_cifar10.md\n",
      "Downloading...100.0%\n",
      "Download finished!\n",
      "File size = 2.59 kb\n",
      "Checking /home/tongyuan/.mscache/mindspore/1.8/googlenet_cifar10.md...\u001b[1;32mPassed!\u001b[0m\n"
     ]
    },
    {
     "name": "stderr",
     "output_type": "stream",
     "text": [
      "来自 https://gitee.com/mindspore/models\n",
      " * [新分支]          master     -> origin/master\n",
      " * [新分支]          r1.2       -> origin/r1.2\n",
      " * [新分支]          r1.3       -> origin/r1.3\n",
      " * [新分支]          r1.4       -> origin/r1.4\n",
      " * [新分支]          r1.5       -> origin/r1.5\n",
      " * [新分支]          r1.6       -> origin/r1.6\n",
      " * [新分支]          r1.7       -> origin/r1.7\n",
      " * [新分支]          r1.8       -> origin/r1.8\n",
      " * [新分支]          r1.9       -> origin/r1.9\n",
      "来自 https://gitee.com/mindspore/models\n",
      " * [新tag]           v1.5.0     -> v1.5.0\n",
      " * [新tag]           v1.6.0     -> v1.6.0\n",
      "来自 https://gitee.com/mindspore/models\n",
      " * branch            r1.8       -> FETCH_HEAD\n"
     ]
    },
    {
     "name": "stdout",
     "output_type": "stream",
     "text": [
      "Downloading data from url https://gitee.com/mindspore/hub/raw/master/mshub_res/assets/mindspore/1.8/googlenet_cifar10.md\n",
      "Downloading...100.0%\n",
      "Download finished!\n",
      "File size = 2.59 kb\n",
      "Checking /home/tongyuan/.mscache/mindspore/1.8/googlenet_cifar10.md...\u001b[1;32mPassed!\u001b[0m\n",
      "Downloading data from url https://download.mindspore.cn/models/r1.8/googlenet_ascend_v180_cifar10_official_cv_acc92.1.ckpt\n",
      "Downloading...100.0%\n",
      "Download finished!\n",
      "File size = 42.90 Mb\n"
     ]
    }
   ],
   "source": [
    "model = \"mindspore/1.8/googlenet_cifar10\"\n",
    "network = mshub.load(model, num_classes=10)"
   ]
  },
  {
   "cell_type": "code",
   "execution_count": 2,
   "id": "296852f5",
   "metadata": {},
   "outputs": [
    {
     "name": "stdout",
     "output_type": "stream",
     "text": [
      "Downloading data from url https://gitee.com/mindspore/hub/raw/master/mshub_res/assets/mindspore/1.8/squeezenet_imagenet2012.md\n",
      "Downloading...100.0%\n",
      "Download finished!\n",
      "File size = 2.55 kb\n",
      "Checking /home/tongyuan/.mscache/mindspore/1.8/squeezenet_imagenet2012.md...\u001b[1;32mPassed!\u001b[0m\n"
     ]
    },
    {
     "name": "stderr",
     "output_type": "stream",
     "text": [
      "来自 https://gitee.com/mindspore/models\n",
      " * [新分支]          master     -> origin/master\n",
      " * [新分支]          r1.2       -> origin/r1.2\n",
      " * [新分支]          r1.3       -> origin/r1.3\n",
      " * [新分支]          r1.4       -> origin/r1.4\n",
      " * [新分支]          r1.5       -> origin/r1.5\n",
      " * [新分支]          r1.6       -> origin/r1.6\n",
      " * [新分支]          r1.7       -> origin/r1.7\n",
      " * [新分支]          r1.8       -> origin/r1.8\n",
      " * [新分支]          r1.9       -> origin/r1.9\n",
      "来自 https://gitee.com/mindspore/models\n",
      " * [新tag]           v1.5.0     -> v1.5.0\n",
      " * [新tag]           v1.6.0     -> v1.6.0\n",
      "来自 https://gitee.com/mindspore/models\n",
      " * branch            r1.8       -> FETCH_HEAD\n"
     ]
    },
    {
     "ename": "ImportError",
     "evalue": "cannot import name 'config1' from 'src.config' (/home/tongyuan/.mscache/mindspore/1.8/squeezenet/src/config.py)",
     "output_type": "error",
     "traceback": [
      "\u001b[0;31m---------------------------------------------------------------------------\u001b[0m",
      "\u001b[0;31mImportError\u001b[0m                               Traceback (most recent call last)",
      "Input \u001b[0;32mIn [2]\u001b[0m, in \u001b[0;36m<cell line: 2>\u001b[0;34m()\u001b[0m\n\u001b[1;32m      1\u001b[0m model \u001b[38;5;241m=\u001b[39m \u001b[38;5;124m\"\u001b[39m\u001b[38;5;124mmindspore/1.8/squeezenet_imagenet2012\u001b[39m\u001b[38;5;124m\"\u001b[39m\n\u001b[0;32m----> 2\u001b[0m network \u001b[38;5;241m=\u001b[39m \u001b[43mmshub\u001b[49m\u001b[38;5;241;43m.\u001b[39;49m\u001b[43mload\u001b[49m\u001b[43m(\u001b[49m\u001b[43mmodel\u001b[49m\u001b[43m,\u001b[49m\u001b[43mnum_classes\u001b[49m\u001b[38;5;241;43m=\u001b[39;49m\u001b[38;5;241;43m1000\u001b[39;49m\u001b[43m)\u001b[49m\n",
      "File \u001b[0;32m~/MWORKS.Syslab-2022/Library/conda/3/lib/python3.9/site-packages/mindspore_hub-1.8.0-py3.9.egg/mindspore_hub/load.py:217\u001b[0m, in \u001b[0;36mload\u001b[0;34m(name, source, pretrained, force_reload, *args, **kwargs)\u001b[0m\n\u001b[1;32m    214\u001b[0m     _create_if_not_exist(target_path)\n\u001b[1;32m    215\u001b[0m     _download_repo_from_url(info\u001b[38;5;241m.\u001b[39mrepo_link, target_path)\n\u001b[0;32m--> 217\u001b[0m net \u001b[38;5;241m=\u001b[39m \u001b[43m_get_network_from_cache\u001b[49m\u001b[43m(\u001b[49m\u001b[43minfo\u001b[49m\u001b[38;5;241;43m.\u001b[39;49m\u001b[43mname\u001b[49m\u001b[43m,\u001b[49m\u001b[43m \u001b[49m\u001b[43mnet_dir\u001b[49m\u001b[43m,\u001b[49m\u001b[43m \u001b[49m\u001b[38;5;241;43m*\u001b[39;49m\u001b[43margs\u001b[49m\u001b[43m,\u001b[49m\u001b[43m \u001b[49m\u001b[38;5;241;43m*\u001b[39;49m\u001b[38;5;241;43m*\u001b[39;49m\u001b[43mkwargs\u001b[49m\u001b[43m)\u001b[49m\n\u001b[1;32m    218\u001b[0m \u001b[38;5;28;01mif\u001b[39;00m \u001b[38;5;129;01mnot\u001b[39;00m \u001b[38;5;28misinstance\u001b[39m(net, nn\u001b[38;5;241m.\u001b[39mCell):\n\u001b[1;32m    219\u001b[0m     \u001b[38;5;28;01mraise\u001b[39;00m \u001b[38;5;167;01mTypeError\u001b[39;00m(\u001b[38;5;124m'\u001b[39m\u001b[38;5;124m`create_net` should be return a `Cell` type network, but got \u001b[39m\u001b[38;5;132;01m{}\u001b[39;00m\u001b[38;5;124m.\u001b[39m\u001b[38;5;124m'\u001b[39m\u001b[38;5;241m.\u001b[39mformat(\u001b[38;5;28mtype\u001b[39m(net)))\n",
      "File \u001b[0;32m~/MWORKS.Syslab-2022/Library/conda/3/lib/python3.9/site-packages/mindspore_hub-1.8.0-py3.9.egg/mindspore_hub/load.py:104\u001b[0m, in \u001b[0;36m_get_network_from_cache\u001b[0;34m(name, path, *args, **kwargs)\u001b[0m\n\u001b[1;32m    102\u001b[0m spec \u001b[38;5;241m=\u001b[39m importlib\u001b[38;5;241m.\u001b[39mutil\u001b[38;5;241m.\u001b[39mspec_from_file_location(HUB_CONFIG_FILE, config_path)\n\u001b[1;32m    103\u001b[0m module \u001b[38;5;241m=\u001b[39m importlib\u001b[38;5;241m.\u001b[39mutil\u001b[38;5;241m.\u001b[39mmodule_from_spec(spec)\n\u001b[0;32m--> 104\u001b[0m \u001b[43mspec\u001b[49m\u001b[38;5;241;43m.\u001b[39;49m\u001b[43mloader\u001b[49m\u001b[38;5;241;43m.\u001b[39;49m\u001b[43mexec_module\u001b[49m\u001b[43m(\u001b[49m\u001b[43mmodule\u001b[49m\u001b[43m)\u001b[49m\n\u001b[1;32m    105\u001b[0m cwd \u001b[38;5;241m=\u001b[39m os\u001b[38;5;241m.\u001b[39mgetcwd()\n\u001b[1;32m    106\u001b[0m os\u001b[38;5;241m.\u001b[39mchdir(path)\n",
      "File \u001b[0;32m<frozen importlib._bootstrap_external>:850\u001b[0m, in \u001b[0;36mexec_module\u001b[0;34m(self, module)\u001b[0m\n",
      "File \u001b[0;32m<frozen importlib._bootstrap>:228\u001b[0m, in \u001b[0;36m_call_with_frames_removed\u001b[0;34m(f, *args, **kwds)\u001b[0m\n",
      "File \u001b[0;32m~/.mscache/mindspore/1.8/squeezenet/mindspore_hub_conf.py:17\u001b[0m, in \u001b[0;36m<module>\u001b[0;34m\u001b[0m\n\u001b[1;32m     15\u001b[0m \u001b[38;5;124;03m\"\"\"hub config\"\"\"\u001b[39;00m\n\u001b[1;32m     16\u001b[0m \u001b[38;5;28;01mfrom\u001b[39;00m \u001b[38;5;21;01msrc\u001b[39;00m\u001b[38;5;21;01m.\u001b[39;00m\u001b[38;5;21;01msqueezenet\u001b[39;00m \u001b[38;5;28;01mimport\u001b[39;00m SqueezeNet\n\u001b[0;32m---> 17\u001b[0m \u001b[38;5;28;01mfrom\u001b[39;00m \u001b[38;5;21;01msrc\u001b[39;00m\u001b[38;5;21;01m.\u001b[39;00m\u001b[38;5;21;01mconfig\u001b[39;00m \u001b[38;5;28;01mimport\u001b[39;00m config1, config2, config3, config4\n\u001b[1;32m     19\u001b[0m \u001b[38;5;28;01mdef\u001b[39;00m \u001b[38;5;21msqueezenet_net\u001b[39m(\u001b[38;5;241m*\u001b[39margs, \u001b[38;5;241m*\u001b[39m\u001b[38;5;241m*\u001b[39mkwargs):\n\u001b[1;32m     20\u001b[0m     \u001b[38;5;28;01mreturn\u001b[39;00m SqueezeNet(\u001b[38;5;241m*\u001b[39margs, \u001b[38;5;241m*\u001b[39m\u001b[38;5;241m*\u001b[39mkwargs)\n",
      "\u001b[0;31mImportError\u001b[0m: cannot import name 'config1' from 'src.config' (/home/tongyuan/.mscache/mindspore/1.8/squeezenet/src/config.py)"
     ]
    }
   ],
   "source": [
    "model = \"mindspore/1.8/squeezenet_imagenet2012\"\n",
    "network = mshub.load(model,num_classes=1000)"
   ]
  },
  {
   "cell_type": "code",
   "execution_count": 4,
   "id": "7802cd2c",
   "metadata": {},
   "outputs": [
    {
     "name": "stdout",
     "output_type": "stream",
     "text": [
      "Downloading data from url https://gitee.com/mindspore/hub/raw/master/mshub_res/assets/mindspore/1.8/squeezenet_imagenet2012.md\n",
      "\n",
      "Download finished!\n",
      "File size = 2.55 kb\n",
      "Checking /home/tongyuan/.mscache/mindspore/1.8/squeezenet_imagenet2012.md...\u001b[1;32mPassed!\u001b[0m\n"
     ]
    },
    {
     "name": "stderr",
     "output_type": "stream",
     "text": [
      "来自 https://gitee.com/mindspore/models\n",
      " * [新分支]          master     -> origin/master\n",
      " * [新分支]          r1.2       -> origin/r1.2\n",
      " * [新分支]          r1.3       -> origin/r1.3\n",
      " * [新分支]          r1.4       -> origin/r1.4\n",
      " * [新分支]          r1.5       -> origin/r1.5\n",
      " * [新分支]          r1.6       -> origin/r1.6\n",
      " * [新分支]          r1.7       -> origin/r1.7\n",
      " * [新分支]          r1.8       -> origin/r1.8\n",
      " * [新分支]          r1.9       -> origin/r1.9\n",
      "来自 https://gitee.com/mindspore/models\n",
      " * [新tag]           v1.5.0     -> v1.5.0\n",
      " * [新tag]           v1.6.0     -> v1.6.0\n",
      "来自 https://gitee.com/mindspore/models\n",
      " * branch            r1.8       -> FETCH_HEAD\n"
     ]
    },
    {
     "ename": "ImportError",
     "evalue": "cannot import name 'config1' from 'src.config' (/home/tongyuan/.mscache/mindspore/1.8/squeezenet/src/config.py)",
     "output_type": "error",
     "traceback": [
      "\u001b[0;31m---------------------------------------------------------------------------\u001b[0m",
      "\u001b[0;31mImportError\u001b[0m                               Traceback (most recent call last)",
      "Input \u001b[0;32mIn [4]\u001b[0m, in \u001b[0;36m<cell line: 5>\u001b[0;34m()\u001b[0m\n\u001b[1;32m      1\u001b[0m set_context(mode\u001b[38;5;241m=\u001b[39mGRAPH_MODE,\n\u001b[1;32m      2\u001b[0m                         device_target\u001b[38;5;241m=\u001b[39m\u001b[38;5;124m\"\u001b[39m\u001b[38;5;124mCPU\u001b[39m\u001b[38;5;124m\"\u001b[39m)\n\u001b[1;32m      4\u001b[0m model \u001b[38;5;241m=\u001b[39m \u001b[38;5;124m\"\u001b[39m\u001b[38;5;124mmindspore/1.8/squeezenet_imagenet2012\u001b[39m\u001b[38;5;124m\"\u001b[39m\n\u001b[0;32m----> 5\u001b[0m network \u001b[38;5;241m=\u001b[39m \u001b[43mmshub\u001b[49m\u001b[38;5;241;43m.\u001b[39;49m\u001b[43mload\u001b[49m\u001b[43m(\u001b[49m\u001b[43mmodel\u001b[49m\u001b[43m,\u001b[49m\u001b[43mnum_classes\u001b[49m\u001b[38;5;241;43m=\u001b[39;49m\u001b[38;5;241;43m1000\u001b[39;49m\u001b[43m)\u001b[49m\n\u001b[1;32m      6\u001b[0m network\u001b[38;5;241m.\u001b[39mset_train(\u001b[38;5;28;01mFalse\u001b[39;00m)\n",
      "File \u001b[0;32m~/MWORKS.Syslab-2022/Library/conda/3/lib/python3.9/site-packages/mindspore_hub-1.8.0-py3.9.egg/mindspore_hub/load.py:217\u001b[0m, in \u001b[0;36mload\u001b[0;34m(name, source, pretrained, force_reload, *args, **kwargs)\u001b[0m\n\u001b[1;32m    214\u001b[0m     _create_if_not_exist(target_path)\n\u001b[1;32m    215\u001b[0m     _download_repo_from_url(info\u001b[38;5;241m.\u001b[39mrepo_link, target_path)\n\u001b[0;32m--> 217\u001b[0m net \u001b[38;5;241m=\u001b[39m \u001b[43m_get_network_from_cache\u001b[49m\u001b[43m(\u001b[49m\u001b[43minfo\u001b[49m\u001b[38;5;241;43m.\u001b[39;49m\u001b[43mname\u001b[49m\u001b[43m,\u001b[49m\u001b[43m \u001b[49m\u001b[43mnet_dir\u001b[49m\u001b[43m,\u001b[49m\u001b[43m \u001b[49m\u001b[38;5;241;43m*\u001b[39;49m\u001b[43margs\u001b[49m\u001b[43m,\u001b[49m\u001b[43m \u001b[49m\u001b[38;5;241;43m*\u001b[39;49m\u001b[38;5;241;43m*\u001b[39;49m\u001b[43mkwargs\u001b[49m\u001b[43m)\u001b[49m\n\u001b[1;32m    218\u001b[0m \u001b[38;5;28;01mif\u001b[39;00m \u001b[38;5;129;01mnot\u001b[39;00m \u001b[38;5;28misinstance\u001b[39m(net, nn\u001b[38;5;241m.\u001b[39mCell):\n\u001b[1;32m    219\u001b[0m     \u001b[38;5;28;01mraise\u001b[39;00m \u001b[38;5;167;01mTypeError\u001b[39;00m(\u001b[38;5;124m'\u001b[39m\u001b[38;5;124m`create_net` should be return a `Cell` type network, but got \u001b[39m\u001b[38;5;132;01m{}\u001b[39;00m\u001b[38;5;124m.\u001b[39m\u001b[38;5;124m'\u001b[39m\u001b[38;5;241m.\u001b[39mformat(\u001b[38;5;28mtype\u001b[39m(net)))\n",
      "File \u001b[0;32m~/MWORKS.Syslab-2022/Library/conda/3/lib/python3.9/site-packages/mindspore_hub-1.8.0-py3.9.egg/mindspore_hub/load.py:104\u001b[0m, in \u001b[0;36m_get_network_from_cache\u001b[0;34m(name, path, *args, **kwargs)\u001b[0m\n\u001b[1;32m    102\u001b[0m spec \u001b[38;5;241m=\u001b[39m importlib\u001b[38;5;241m.\u001b[39mutil\u001b[38;5;241m.\u001b[39mspec_from_file_location(HUB_CONFIG_FILE, config_path)\n\u001b[1;32m    103\u001b[0m module \u001b[38;5;241m=\u001b[39m importlib\u001b[38;5;241m.\u001b[39mutil\u001b[38;5;241m.\u001b[39mmodule_from_spec(spec)\n\u001b[0;32m--> 104\u001b[0m \u001b[43mspec\u001b[49m\u001b[38;5;241;43m.\u001b[39;49m\u001b[43mloader\u001b[49m\u001b[38;5;241;43m.\u001b[39;49m\u001b[43mexec_module\u001b[49m\u001b[43m(\u001b[49m\u001b[43mmodule\u001b[49m\u001b[43m)\u001b[49m\n\u001b[1;32m    105\u001b[0m cwd \u001b[38;5;241m=\u001b[39m os\u001b[38;5;241m.\u001b[39mgetcwd()\n\u001b[1;32m    106\u001b[0m os\u001b[38;5;241m.\u001b[39mchdir(path)\n",
      "File \u001b[0;32m<frozen importlib._bootstrap_external>:850\u001b[0m, in \u001b[0;36mexec_module\u001b[0;34m(self, module)\u001b[0m\n",
      "File \u001b[0;32m<frozen importlib._bootstrap>:228\u001b[0m, in \u001b[0;36m_call_with_frames_removed\u001b[0;34m(f, *args, **kwds)\u001b[0m\n",
      "File \u001b[0;32m~/.mscache/mindspore/1.8/squeezenet/mindspore_hub_conf.py:17\u001b[0m, in \u001b[0;36m<module>\u001b[0;34m\u001b[0m\n\u001b[1;32m     15\u001b[0m \u001b[38;5;124;03m\"\"\"hub config\"\"\"\u001b[39;00m\n\u001b[1;32m     16\u001b[0m \u001b[38;5;28;01mfrom\u001b[39;00m \u001b[38;5;21;01msrc\u001b[39;00m\u001b[38;5;21;01m.\u001b[39;00m\u001b[38;5;21;01msqueezenet\u001b[39;00m \u001b[38;5;28;01mimport\u001b[39;00m SqueezeNet\n\u001b[0;32m---> 17\u001b[0m \u001b[38;5;28;01mfrom\u001b[39;00m \u001b[38;5;21;01msrc\u001b[39;00m\u001b[38;5;21;01m.\u001b[39;00m\u001b[38;5;21;01mconfig\u001b[39;00m \u001b[38;5;28;01mimport\u001b[39;00m config1, config2, config3, config4\n\u001b[1;32m     19\u001b[0m \u001b[38;5;28;01mdef\u001b[39;00m \u001b[38;5;21msqueezenet_net\u001b[39m(\u001b[38;5;241m*\u001b[39margs, \u001b[38;5;241m*\u001b[39m\u001b[38;5;241m*\u001b[39mkwargs):\n\u001b[1;32m     20\u001b[0m     \u001b[38;5;28;01mreturn\u001b[39;00m SqueezeNet(\u001b[38;5;241m*\u001b[39margs, \u001b[38;5;241m*\u001b[39m\u001b[38;5;241m*\u001b[39mkwargs)\n",
      "\u001b[0;31mImportError\u001b[0m: cannot import name 'config1' from 'src.config' (/home/tongyuan/.mscache/mindspore/1.8/squeezenet/src/config.py)"
     ]
    }
   ],
   "source": [
    "set_context(mode=GRAPH_MODE,\n",
    "                        device_target=\"CPU\")\n",
    "\n",
    "model = \"mindspore/1.8/squeezenet_imagenet2012\"\n",
    "network = mshub.load(model,num_classes=1000)\n",
    "network.set_train(False)"
   ]
  },
  {
   "cell_type": "code",
   "execution_count": null,
   "id": "f7764c24",
   "metadata": {},
   "outputs": [],
   "source": []
  }
 ],
 "metadata": {
  "kernelspec": {
   "display_name": "Python 3 (ipykernel)",
   "language": "python",
   "name": "python3"
  },
  "language_info": {
   "codemirror_mode": {
    "name": "ipython",
    "version": 3
   },
   "file_extension": ".py",
   "mimetype": "text/x-python",
   "name": "python",
   "nbconvert_exporter": "python",
   "pygments_lexer": "ipython3",
   "version": "3.9.7"
  }
 },
 "nbformat": 4,
 "nbformat_minor": 5
}
