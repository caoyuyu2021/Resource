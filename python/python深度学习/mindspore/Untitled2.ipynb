{
 "cells": [
  {
   "cell_type": "code",
   "execution_count": 50,
   "id": "fd2eb7a5",
   "metadata": {
    "ExecuteTime": {
     "end_time": "2022-11-03T03:45:37.116007Z",
     "start_time": "2022-11-03T03:45:37.110169Z"
    }
   },
   "outputs": [],
   "source": [
    "import numpy as np\n",
    "from mindspore.dataset import MnistDataset, GeneratorDataset\n",
    "import pandas as pd\n",
    "from mindspore import Tensor\n",
    "import mindspore\n",
    "from mindspore import nn, ops\n",
    "from mindspore import dtype as mstype\n",
    "from mindspore.dataset import transforms"
   ]
  },
  {
   "cell_type": "code",
   "execution_count": 51,
   "id": "bf584d8c",
   "metadata": {
    "ExecuteTime": {
     "end_time": "2022-11-03T03:45:37.577809Z",
     "start_time": "2022-11-03T03:45:37.568076Z"
    }
   },
   "outputs": [
    {
     "data": {
      "text/plain": [
       "numpy.ndarray"
      ]
     },
     "execution_count": 51,
     "metadata": {},
     "output_type": "execute_result"
    }
   ],
   "source": [
    "data = pd.read_csv(\"D:\\\\Jupyter notebook\\\\data\\\\python\\\\iris_dataset\\\\irisInputs.csv\",header=None)\n",
    "label = pd.read_csv(\"D:\\\\Jupyter notebook\\\\data\\\\python\\\\iris_dataset\\\\irisTargets.csv\",header=None)\n",
    "data = data.values\n",
    "label = label.values\n",
    "type(label)"
   ]
  },
  {
   "cell_type": "code",
   "execution_count": 52,
   "id": "e2ced766",
   "metadata": {
    "ExecuteTime": {
     "end_time": "2022-11-03T03:45:38.378811Z",
     "start_time": "2022-11-03T03:45:38.373944Z"
    }
   },
   "outputs": [],
   "source": [
    "def generator_func(data,label):\n",
    "    \"\"\"定义生成数据集函数\"\"\"\n",
    "    for i in range(len(data)):\n",
    "        yield (data[i],label[i])"
   ]
  },
  {
   "cell_type": "code",
   "execution_count": 53,
   "id": "c1b52629",
   "metadata": {
    "ExecuteTime": {
     "end_time": "2022-11-03T03:45:39.699597Z",
     "start_time": "2022-11-03T03:45:39.694730Z"
    }
   },
   "outputs": [
    {
     "name": "stderr",
     "output_type": "stream",
     "text": [
      "[WARNING] ME(13700:15752,MainProcess):2022-11-03-11:45:39.696.676 [mindspore\\dataset\\engine\\datasets_user_defined.py:656] Python multiprocessing is not supported on Windows platform.\n"
     ]
    }
   ],
   "source": [
    "dataset = GeneratorDataset(source=generator_func(data,label), column_names=[\"data\", \"label\"])"
   ]
  },
  {
   "cell_type": "code",
   "execution_count": 54,
   "id": "1ea2156b",
   "metadata": {
    "ExecuteTime": {
     "end_time": "2022-11-03T03:45:40.137068Z",
     "start_time": "2022-11-03T03:45:40.132201Z"
    }
   },
   "outputs": [],
   "source": [
    "dataset = dataset.batch(batch_size=50)"
   ]
  },
  {
   "cell_type": "code",
   "execution_count": 49,
   "id": "66dff7c6",
   "metadata": {
    "ExecuteTime": {
     "end_time": "2022-11-03T03:45:20.170887Z",
     "start_time": "2022-11-03T03:45:20.157261Z"
    }
   },
   "outputs": [
    {
     "name": "stderr",
     "output_type": "stream",
     "text": [
      "[WARNING] ME(13700:15752,MainProcess):2022-11-03-11:45:20.165.047 [mindspore\\dataset\\engine\\iterators.py:143] No records available.\n"
     ]
    }
   ],
   "source": [
    "for data,label in dataset.create_dict_iterator():\n",
    "    print(data,label)"
   ]
  },
  {
   "cell_type": "code",
   "execution_count": 55,
   "id": "8f674983",
   "metadata": {
    "ExecuteTime": {
     "end_time": "2022-11-03T03:45:42.901590Z",
     "start_time": "2022-11-03T03:45:42.894780Z"
    }
   },
   "outputs": [],
   "source": [
    "class Network(nn.Cell):\n",
    "    def __init__(self):\n",
    "        super().__init__()\n",
    "        self.dense_relu_sequential = nn.SequentialCell(\n",
    "            nn.Dense(4, 4),\n",
    "            nn.ReLU(),\n",
    "            nn.Dense(4, 3)\n",
    "        )\n",
    "\n",
    "    def construct(self, x):\n",
    "        logits = self.dense_relu_sequential(x)\n",
    "        return logits"
   ]
  },
  {
   "cell_type": "code",
   "execution_count": 56,
   "id": "66e940b9",
   "metadata": {
    "ExecuteTime": {
     "end_time": "2022-11-03T03:45:43.706435Z",
     "start_time": "2022-11-03T03:45:43.695727Z"
    }
   },
   "outputs": [
    {
     "name": "stdout",
     "output_type": "stream",
     "text": [
      "Network<\n",
      "  (dense_relu_sequential): SequentialCell<\n",
      "    (0): Dense<input_channels=4, output_channels=4, has_bias=True>\n",
      "    (1): ReLU<>\n",
      "    (2): Dense<input_channels=4, output_channels=3, has_bias=True>\n",
      "    >\n",
      "  >\n"
     ]
    }
   ],
   "source": [
    "model = Network()\n",
    "print(model)"
   ]
  },
  {
   "cell_type": "code",
   "execution_count": 57,
   "id": "a5b8fa31",
   "metadata": {
    "ExecuteTime": {
     "end_time": "2022-11-03T03:45:44.517020Z",
     "start_time": "2022-11-03T03:45:44.509238Z"
    }
   },
   "outputs": [],
   "source": [
    "def train_loop(model, dataset, loss_fn, optimizer):\n",
    "    # Define forward function\n",
    "    def forward_fn(data, label):\n",
    "        logits = model(data)\n",
    "        loss = loss_fn(logits, label)\n",
    "        return loss, logits\n",
    "\n",
    "    # Get gradient function\n",
    "    grad_fn = ops.value_and_grad(forward_fn, None, optimizer.parameters, has_aux=True)\n",
    "\n",
    "    # Define function of one-step training\n",
    "    def train_step(data, label):\n",
    "        (loss, _), grads = grad_fn(data, label)\n",
    "        loss = ops.depend(loss, optimizer(grads))\n",
    "        return loss\n",
    "\n",
    "    size = dataset.get_dataset_size()\n",
    "    model.set_train()\n",
    "    for batch, (data, label) in enumerate(dataset):\n",
    "        loss = train_step(data, label)\n",
    "        loss, current = loss.asnumpy(), batch\n",
    "        print(f\"loss: {loss:>7f}  [{current:>3d}/{size:>3d}]\")"
   ]
  },
  {
   "cell_type": "code",
   "execution_count": 58,
   "id": "0b2e7346",
   "metadata": {
    "ExecuteTime": {
     "end_time": "2022-11-03T03:45:45.534964Z",
     "start_time": "2022-11-03T03:45:45.525231Z"
    }
   },
   "outputs": [],
   "source": [
    "learning_rate = 1e-2\n",
    "loss_fn = nn.CrossEntropyLoss()\n",
    "optimizer = nn.SGD(model.trainable_params(), learning_rate=learning_rate)"
   ]
  },
  {
   "cell_type": "code",
   "execution_count": 59,
   "id": "3b22522c",
   "metadata": {
    "ExecuteTime": {
     "end_time": "2022-11-03T03:45:46.246305Z",
     "start_time": "2022-11-03T03:45:46.230777Z"
    }
   },
   "outputs": [
    {
     "name": "stderr",
     "output_type": "stream",
     "text": [
      "[WARNING] ME(13700:15752,MainProcess):2022-11-03-11:45:46.242.412 [mindspore\\dataset\\engine\\iterators.py:143] No records available.\n"
     ]
    }
   ],
   "source": [
    "train_loop(model, dataset, loss_fn, optimizer)"
   ]
  },
  {
   "cell_type": "code",
   "execution_count": null,
   "id": "d2c985d3",
   "metadata": {},
   "outputs": [],
   "source": []
  }
 ],
 "metadata": {
  "kernelspec": {
   "display_name": "Python 3 (ipykernel)",
   "language": "python",
   "name": "python3"
  },
  "language_info": {
   "codemirror_mode": {
    "name": "ipython",
    "version": 3
   },
   "file_extension": ".py",
   "mimetype": "text/x-python",
   "name": "python",
   "nbconvert_exporter": "python",
   "pygments_lexer": "ipython3",
   "version": "3.9.7"
  },
  "nbTranslate": {
   "displayLangs": [
    "*"
   ],
   "hotkey": "alt-t",
   "langInMainMenu": true,
   "sourceLang": "en",
   "targetLang": "fr",
   "useGoogleTranslate": true
  },
  "toc": {
   "base_numbering": 1,
   "nav_menu": {},
   "number_sections": true,
   "sideBar": true,
   "skip_h1_title": false,
   "title_cell": "Table of Contents",
   "title_sidebar": "Contents",
   "toc_cell": false,
   "toc_position": {},
   "toc_section_display": true,
   "toc_window_display": false
  }
 },
 "nbformat": 4,
 "nbformat_minor": 5
}
