{
 "cells": [
  {
   "cell_type": "markdown",
   "metadata": {
    "ExecuteTime": {
     "end_time": "2021-08-12T12:12:52.980895Z",
     "start_time": "2021-08-12T12:12:47.879438Z"
    }
   },
   "source": [
    "# Tensorflow1.0"
   ]
  },
  {
   "cell_type": "code",
   "execution_count": 1,
   "metadata": {
    "ExecuteTime": {
     "end_time": "2022-05-28T04:16:16.423432Z",
     "start_time": "2022-05-28T04:16:10.443046Z"
    }
   },
   "outputs": [
    {
     "data": {
      "text/plain": [
       "'1.15.4'"
      ]
     },
     "execution_count": 1,
     "metadata": {},
     "output_type": "execute_result"
    }
   ],
   "source": [
    "import tensorflow as tf\n",
    "\n",
    "tf.__version__  #查看tensorflow版本"
   ]
  },
  {
   "cell_type": "code",
   "execution_count": 2,
   "metadata": {
    "ExecuteTime": {
     "end_time": "2022-05-28T04:16:23.232536Z",
     "start_time": "2022-05-28T04:16:23.174414Z"
    }
   },
   "outputs": [
    {
     "name": "stdout",
     "output_type": "stream",
     "text": [
      "WARNING:tensorflow:From D:\\ProgramData\\Temp/ipykernel_5700/2027415028.py:2: The name tf.Session is deprecated. Please use tf.compat.v1.Session instead.\n",
      "\n",
      "b'Hello Tensorflow!'\n"
     ]
    }
   ],
   "source": [
    "hello = tf.constant('Hello Tensorflow!')\n",
    "sess = tf.Session()\n",
    "print(sess.run(hello))"
   ]
  },
  {
   "cell_type": "markdown",
   "metadata": {},
   "source": [
    "# 数据流图"
   ]
  },
  {
   "cell_type": "code",
   "execution_count": 4,
   "metadata": {
    "ExecuteTime": {
     "end_time": "2022-05-28T04:19:16.234885Z",
     "start_time": "2022-05-28T04:19:16.203797Z"
    }
   },
   "outputs": [],
   "source": [
    "A = tf.constant([[1, 2], [3, 4]], dtype=tf.float32)  #定义张量\n",
    "x = tf.constant([[0, 10], [0, 0.5]])\n",
    "b = tf.constant([[1, -1]], dtype=tf.float32)\n",
    "y = tf.add(tf.matmul(A, x), b, name=\"result\")  #y=Ax+b\n",
    "writer = tf.summary.FileWriter(\"D:\\\\Dataset\\\\log\\\\matmul\",\n",
    "                               tf.get_default_graph())\n",
    "writer.close()\n",
    "\n",
    "#tensorboard --logdir=\"D:\\\\Dataset\\\\log\\\\matmul\" --host=127.0.0.1  #后面这一项为当前面打不开时可以加host来"
   ]
  },
  {
   "cell_type": "markdown",
   "metadata": {},
   "source": [
    "## 图定义"
   ]
  },
  {
   "cell_type": "code",
   "execution_count": 4,
   "metadata": {
    "ExecuteTime": {
     "end_time": "2021-08-31T03:36:51.915383Z",
     "start_time": "2021-08-31T03:36:51.873496Z"
    }
   },
   "outputs": [],
   "source": [
    "g1 = tf.Graph()\n",
    "g2 = tf.Graph()\n",
    "\n",
    "with g1.as_default():\n",
    "    A = tf.constant([[1,2], [3,4]], dtype=tf.float32)\n",
    "    x = tf.constant([[0,10], [0,0.5]])\n",
    "    b = tf.constant([[1,-1]], dtype=tf.float32)\n",
    "    y = tf.add(tf.matmul(A, x), b, name=\"result\")#y=Ax+b\n",
    "    \n",
    "with g2.as_default():\n",
    "    A = tf.constant([[1,2], [3,4]], dtype=tf.float32)\n",
    "    x = tf.constant([[0,10], [0,0.5]])\n",
    "    b = tf.constant([[1,-1]], dtype=tf.float32)\n",
    "    y = tf.add(tf.matmul(A, x), b, name=\"result\")#y=Ax+b\n",
    "    \n",
    "writer = tf.summary.FileWriter(\"D:\\\\Dataset\\\\log\\\\two_graphs\\\\g1\", g1)\n",
    "writer = tf.summary.FileWriter(\"D:\\\\Dataset\\\\log\\\\two_graphs\\\\g2\", g2)\n",
    "writer.close()"
   ]
  },
  {
   "cell_type": "markdown",
   "metadata": {},
   "source": [
    "## 图放置"
   ]
  },
  {
   "cell_type": "code",
   "execution_count": 5,
   "metadata": {
    "ExecuteTime": {
     "end_time": "2021-08-17T08:13:24.259193Z",
     "start_time": "2021-08-17T08:13:24.244233Z"
    }
   },
   "outputs": [],
   "source": [
    "with tf.device(\"/CPU:0\"):\n",
    "    A = tf.constant([[1,2], [3,4]], dtype=tf.float32)\n",
    "    x = tf.constant([[0,10], [0,0.5]])\n",
    "    b = tf.constant([[1,-1]], dtype=tf.float32)\n",
    "    y = tf.add(tf.matmul(A, x), b, name=\"result\")#y=Ax+b"
   ]
  },
  {
   "cell_type": "markdown",
   "metadata": {},
   "source": [
    "## 图执行"
   ]
  },
  {
   "cell_type": "code",
   "execution_count": 6,
   "metadata": {
    "ExecuteTime": {
     "end_time": "2021-08-17T08:13:24.323022Z",
     "start_time": "2021-08-17T08:13:24.261188Z"
    }
   },
   "outputs": [
    {
     "name": "stdout",
     "output_type": "stream",
     "text": [
      "A:[[1. 2.]\n",
      " [3. 4.]]\n",
      "x:[[ 0.  10. ]\n",
      " [ 0.   0.5]]\n",
      "b:[[ 1. -1.]]\n",
      "y:[[ 1. 10.]\n",
      " [ 1. 31.]]\n",
      "\n",
      "y_new:[[ 0. 11.]\n",
      " [ 0. 32.]]\n"
     ]
    }
   ],
   "source": [
    "import numpy as np\n",
    "\n",
    "A = tf.constant([[1,2], [3,4]], dtype=tf.float32)\n",
    "x = tf.constant([[0,10], [0,0.5]])\n",
    "b = tf.constant([[1,-1]], dtype=tf.float32)\n",
    "y = tf.add(tf.matmul(A, x), b, name=\"result\")#y=Ax+b\n",
    "\n",
    "with tf.Session() as sess:\n",
    "    A_value, x_value, b_value = sess.run([A, x, b])\n",
    "    y_value = sess.run(y)\n",
    "    y_new = sess.run(y, feed_dict={b: np.zeros((1, 2))})\n",
    "print(f\"A:{A_value}\\nx:{x_value}\\nb:{b_value}\\ny:{y_value}\")\n",
    "print(f\"\\ny_new:{y_new}\")"
   ]
  },
  {
   "cell_type": "code",
   "execution_count": null,
   "metadata": {},
   "outputs": [],
   "source": []
  }
 ],
 "metadata": {
  "kernelspec": {
   "display_name": "Python [conda env:tensorflow1]",
   "language": "python",
   "name": "conda-env-tensorflow1-py"
  },
  "language_info": {
   "codemirror_mode": {
    "name": "ipython",
    "version": 3
   },
   "file_extension": ".py",
   "mimetype": "text/x-python",
   "name": "python",
   "nbconvert_exporter": "python",
   "pygments_lexer": "ipython3",
   "version": "3.7.6"
  },
  "toc": {
   "base_numbering": 1,
   "nav_menu": {},
   "number_sections": true,
   "sideBar": true,
   "skip_h1_title": false,
   "title_cell": "Table of Contents",
   "title_sidebar": "Contents",
   "toc_cell": false,
   "toc_position": {
    "height": "calc(100% - 180px)",
    "left": "10px",
    "top": "150px",
    "width": "165px"
   },
   "toc_section_display": true,
   "toc_window_display": true
  }
 },
 "nbformat": 4,
 "nbformat_minor": 2
}
