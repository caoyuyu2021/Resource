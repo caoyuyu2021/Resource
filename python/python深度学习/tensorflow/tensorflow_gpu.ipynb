{
 "cells": [
  {
   "cell_type": "code",
   "execution_count": 4,
   "metadata": {
    "ExecuteTime": {
     "end_time": "2022-07-27T07:06:15.928481Z",
     "start_time": "2022-07-27T07:06:15.919511Z"
    },
    "hide_input": false,
    "scrolled": true
   },
   "outputs": [
    {
     "name": "stdout",
     "output_type": "stream",
     "text": [
      "GPU: True\n"
     ]
    },
    {
     "data": {
      "text/plain": [
       "[PhysicalDevice(name='/physical_device:GPU:0', device_type='GPU')]"
      ]
     },
     "execution_count": 4,
     "metadata": {},
     "output_type": "execute_result"
    }
   ],
   "source": [
    "import tensorflow as tf\n",
    "\n",
    "print('GPU:', tf.test.is_gpu_available())\n",
    "tf.config.list_physical_devices('GPU')  #检查Tensorflow_gpu是否可用"
   ]
  },
  {
   "cell_type": "code",
   "execution_count": 5,
   "metadata": {
    "ExecuteTime": {
     "end_time": "2022-07-27T07:06:16.636792Z",
     "start_time": "2022-07-27T07:06:16.629815Z"
    },
    "hide_input": false
   },
   "outputs": [
    {
     "name": "stdout",
     "output_type": "stream",
     "text": [
      "tensorflow version: 2.6.0\n"
     ]
    }
   ],
   "source": [
    "import tensorflow as tf\n",
    "\n",
    "version = tf.__version__  #查看Tensorflow版本\n",
    "print(\"tensorflow version:\", version)"
   ]
  },
  {
   "cell_type": "code",
   "execution_count": 6,
   "metadata": {
    "ExecuteTime": {
     "end_time": "2022-07-27T07:06:17.594915Z",
     "start_time": "2022-07-27T07:06:17.454227Z"
    }
   },
   "outputs": [
    {
     "name": "stdout",
     "output_type": "stream",
     "text": [
      "keras version: 2.6.0\n"
     ]
    }
   ],
   "source": [
    "from tensorflow import keras\n",
    "\n",
    "print(\"keras version:\", keras.__version__)"
   ]
  },
  {
   "cell_type": "code",
   "execution_count": 7,
   "metadata": {
    "ExecuteTime": {
     "end_time": "2022-07-27T07:06:22.832927Z",
     "start_time": "2022-07-27T07:06:22.812995Z"
    }
   },
   "outputs": [
    {
     "name": "stdout",
     "output_type": "stream",
     "text": [
      "Default GPU Device: /device:GPU:0\n"
     ]
    }
   ],
   "source": [
    "if tf.test.gpu_device_name():  #查看使用的GPU\n",
    "    print('Default GPU Device: {}'.format(tf.test.gpu_device_name()))\n",
    "else:\n",
    "    print(\"Please install GPU version of TF\")"
   ]
  },
  {
   "cell_type": "code",
   "execution_count": 8,
   "metadata": {
    "ExecuteTime": {
     "end_time": "2022-07-27T07:06:30.846694Z",
     "start_time": "2022-07-27T07:06:24.430356Z"
    },
    "hide_input": false
   },
   "outputs": [
    {
     "name": "stdout",
     "output_type": "stream",
     "text": [
      "/job:localhost/replica:0/task:0/device:CPU:0 /job:localhost/replica:0/task:0/device:CPU:0\n",
      "/job:localhost/replica:0/task:0/device:GPU:0 /job:localhost/replica:0/task:0/device:GPU:0\n",
      "warmup: 2.503491700000012 0.8655120999999895\n",
      "run time: 2.4810070000000053 0.0010365999999919495\n"
     ]
    }
   ],
   "source": [
    "import tensorflow as tf\n",
    "import timeit\n",
    "\n",
    "with tf.device('/cpu:0'):\n",
    "    cpu_a = tf.random.normal([10000, 1000])\n",
    "    cpu_b = tf.random.normal([1000, 2000])\n",
    "    print(cpu_a.device, cpu_b.device)\n",
    "\n",
    "with tf.device('/gpu:0'):\n",
    "    gpu_a = tf.random.normal([10000, 1000])\n",
    "    gpu_b = tf.random.normal([1000, 2000])\n",
    "    print(gpu_a.device, gpu_b.device)\n",
    "\n",
    "\n",
    "def cpu_run():\n",
    "    with tf.device('/cpu:0'):\n",
    "        c = tf.matmul(cpu_a, cpu_b)\n",
    "    return c\n",
    "\n",
    "\n",
    "def gpu_run():\n",
    "    with tf.device('/gpu:0'):\n",
    "        c = tf.matmul(gpu_a, gpu_b)\n",
    "    return c\n",
    "\n",
    "\n",
    "# warm up\t这里就当是先给gpu热热身了\n",
    "cpu_time = timeit.timeit(cpu_run, number=10)\n",
    "gpu_time = timeit.timeit(gpu_run, number=10)\n",
    "print('warmup:', cpu_time, gpu_time)\n",
    "\n",
    "cpu_time = timeit.timeit(cpu_run, number=10)\n",
    "gpu_time = timeit.timeit(gpu_run, number=10)\n",
    "print('run time:', cpu_time, gpu_time)"
   ]
  },
  {
   "cell_type": "code",
   "execution_count": 9,
   "metadata": {
    "ExecuteTime": {
     "end_time": "2022-07-27T07:06:34.492955Z",
     "start_time": "2022-07-27T07:06:34.462046Z"
    },
    "hide_input": false
   },
   "outputs": [],
   "source": [
    "A = tf.constant([[1, 2], [3, 4]], dtype=tf.float32)  #定义张量\n",
    "x = tf.constant([[0, 10], [0, 0.5]])\n",
    "b = tf.constant([[1, -1]], dtype=tf.float32)\n",
    "y = tf.add(tf.matmul(A, x), b, name=\"result\")  #y=Ax+b"
   ]
  },
  {
   "cell_type": "code",
   "execution_count": 10,
   "metadata": {
    "ExecuteTime": {
     "end_time": "2022-07-27T07:06:35.547402Z",
     "start_time": "2022-07-27T07:06:35.534448Z"
    }
   },
   "outputs": [
    {
     "name": "stdout",
     "output_type": "stream",
     "text": [
      "tf.Tensor(\n",
      "[[ 1. 10.]\n",
      " [ 1. 31.]], shape=(2, 2), dtype=float32)\n"
     ]
    }
   ],
   "source": [
    "print(y)#输出结果为tf.Tensor对象"
   ]
  },
  {
   "cell_type": "code",
   "execution_count": 11,
   "metadata": {
    "ExecuteTime": {
     "end_time": "2022-07-27T07:06:36.221038Z",
     "start_time": "2022-07-27T07:06:36.206089Z"
    }
   },
   "outputs": [
    {
     "name": "stdout",
     "output_type": "stream",
     "text": [
      "[[ 1. 10.]\n",
      " [ 1. 31.]]\n"
     ]
    }
   ],
   "source": [
    "print(y.numpy())#转换为numpy值"
   ]
  },
  {
   "cell_type": "code",
   "execution_count": 12,
   "metadata": {
    "ExecuteTime": {
     "end_time": "2022-07-27T07:06:37.931441Z",
     "start_time": "2022-07-27T07:06:37.909507Z"
    }
   },
   "outputs": [
    {
     "name": "stdout",
     "output_type": "stream",
     "text": [
      "1.0 8.0\n"
     ]
    }
   ],
   "source": [
    "x = tf.Variable(4.0)\n",
    "y = tf.Variable(2.0)\n",
    "with tf.GradientTape(persistent=True) as tape:#计算梯度\n",
    "    z = x + y\n",
    "    w = tf.pow(x, 2)\n",
    "dz_dy = tape.gradient(z, y)\n",
    "dw_dx = tape.gradient(w, x)\n",
    "print(dz_dy.numpy(), dw_dx.numpy())"
   ]
  },
  {
   "cell_type": "code",
   "execution_count": null,
   "metadata": {},
   "outputs": [],
   "source": []
  }
 ],
 "metadata": {
  "kernelspec": {
   "display_name": "tensorflow",
   "language": "python",
   "name": "tensorflow"
  },
  "language_info": {
   "codemirror_mode": {
    "name": "ipython",
    "version": 3
   },
   "file_extension": ".py",
   "mimetype": "text/x-python",
   "name": "python",
   "nbconvert_exporter": "python",
   "pygments_lexer": "ipython3",
   "version": "3.9.7"
  },
  "toc": {
   "base_numbering": 1,
   "nav_menu": {},
   "number_sections": true,
   "sideBar": true,
   "skip_h1_title": false,
   "title_cell": "Table of Contents",
   "title_sidebar": "Contents",
   "toc_cell": false,
   "toc_position": {},
   "toc_section_display": true,
   "toc_window_display": false
  },
  "varInspector": {
   "cols": {
    "lenName": 16,
    "lenType": 16,
    "lenVar": 40
   },
   "kernels_config": {
    "python": {
     "delete_cmd_postfix": "",
     "delete_cmd_prefix": "del ",
     "library": "var_list.py",
     "varRefreshCmd": "print(var_dic_list())"
    },
    "r": {
     "delete_cmd_postfix": ") ",
     "delete_cmd_prefix": "rm(",
     "library": "var_list.r",
     "varRefreshCmd": "cat(var_dic_list()) "
    }
   },
   "position": {
    "height": "392.667px",
    "left": "696.333px",
    "right": "20px",
    "top": "157px",
    "width": "611px"
   },
   "types_to_exclude": [
    "module",
    "function",
    "builtin_function_or_method",
    "instance",
    "_Feature"
   ],
   "window_display": false
  }
 },
 "nbformat": 4,
 "nbformat_minor": 4
}
