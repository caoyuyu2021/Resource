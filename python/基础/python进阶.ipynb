{
 "cells": [
  {
   "cell_type": "markdown",
   "id": "1d14c58d",
   "metadata": {},
   "source": [
    "# 文件操作"
   ]
  },
  {
   "cell_type": "markdown",
   "id": "43ddf2ef",
   "metadata": {},
   "source": [
    "## 实时向csv文件写入数据"
   ]
  },
  {
   "cell_type": "markdown",
   "id": "15eb6755",
   "metadata": {},
   "source": [
    "- 最常用的一种方法，利用pandas包"
   ]
  },
  {
   "cell_type": "code",
   "execution_count": 16,
   "id": "f6ad5acd",
   "metadata": {
    "ExecuteTime": {
     "end_time": "2022-11-09T09:50:01.933418Z",
     "start_time": "2022-11-09T09:50:01.908098Z"
    }
   },
   "outputs": [
    {
     "name": "stdout",
     "output_type": "stream",
     "text": [
      "   a_name  b_name\n",
      "0       1       4\n",
      "1       2       5\n",
      "2       3       6\n"
     ]
    }
   ],
   "source": [
    "import pandas as pd\n",
    "import os\n",
    "\n",
    "#任意的多组列表\n",
    "a = [1,2,3]\n",
    "b = [4,5,6]    \n",
    "\n",
    "#字典中的key值即为csv中列名\n",
    "dataframe = pd.DataFrame({'a_name':a,'b_name':b})\n",
    "\n",
    "#将DataFrame存储为csv,index表示是否显示行名，default=True，\"a\"表示导入的数据不会将test3.csv文件中的原始数据覆盖\n",
    "dataframe.to_csv(\"test.csv\", mode='a', index=False,sep=',')\n",
    "\n",
    "#同样pandas也提供简单的读csv方法，会得到一个DataFrame类型的data\n",
    "data = pd.read_csv('test.csv')\n",
    "print(data)\n",
    "\n",
    "os.remove(\"test.csv\")"
   ]
  },
  {
   "cell_type": "markdown",
   "id": "a9df4f46",
   "metadata": {},
   "source": [
    "- 另一种方法用csv包，一行一行写入"
   ]
  },
  {
   "cell_type": "code",
   "execution_count": 17,
   "id": "3c4287bd",
   "metadata": {
    "ExecuteTime": {
     "end_time": "2022-11-09T09:50:07.162881Z",
     "start_time": "2022-11-09T09:50:07.155905Z"
    }
   },
   "outputs": [],
   "source": [
    "import csv\n",
    "\n",
    "with open(\"test3.csv\",\"a\",newline='') as csvfile: \n",
    "    writer = csv.writer(csvfile, delimiter=' ')\n",
    "    writer.writerow([\"index\",\"a_name\",\"b_name\"])"
   ]
  },
  {
   "cell_type": "markdown",
   "id": "a2bec01c",
   "metadata": {},
   "source": [
    "上述代码参数解释：\n",
    "\n",
    "​ test3.csv表示要创建一个test3.csv的文件，注意:如果当前目录下没有这个文件，则会自动生成test3.csv文件，如果当前目录下已经有了test3.csv的文件，那么在新建结束后，会将原始的test3.csv文件覆盖。\n",
    "\n",
    "​ \"a\"表示导入的数据不会将test3.csv文件中的原始数据覆盖，即：在后面继续添加，如果需要覆盖，则将\"a\"改成\"w\"即可。\n",
    "\n",
    "​ newline=’ ’ 表示不会以空行作为每一行的分割线，注意:这一行代码必须添加上，否则csv文件中的每一行数据的前面会出现空行。"
   ]
  },
  {
   "cell_type": "code",
   "execution_count": 18,
   "id": "392466ba",
   "metadata": {
    "ExecuteTime": {
     "end_time": "2022-11-09T09:50:12.072975Z",
     "start_time": "2022-11-09T09:50:12.060019Z"
    }
   },
   "outputs": [],
   "source": [
    "list1=[0,0,0]\n",
    "list2=[1,1,1]\n",
    "\n",
    "data_array=[[5,5,5],[1,2,3]]\n",
    "with open(\"test3.csv\",\"a\",newline='') as csvfile: \n",
    "    writer = csv.writer(csvfile)\n",
    "    # 多行写入用writerows\n",
    "    writer.writerows(data_array)\n",
    "\n",
    "    # 单行逐个写入用 writerow\n",
    "#     writer.writerow(list1)\n",
    "#     writer.writerow(list2)\n",
    "    \n",
    "    # 执行添加数据操作之后，要写close关闭，否则下次无法再次插入新的数据\n",
    "    csvfile.close()"
   ]
  },
  {
   "cell_type": "markdown",
   "id": "094ed94f",
   "metadata": {},
   "source": [
    "​ 实时写入数据时，有可能是逐个写入，也可能是一次性写入多个数据。多行写入用writerows，\n",
    "\n",
    "单行逐个写入用 writerow，根据需求调整。close()这行代码一定要加上，否则下次无法再次插入新的数据。"
   ]
  },
  {
   "cell_type": "code",
   "execution_count": 19,
   "id": "18ffdff3",
   "metadata": {
    "ExecuteTime": {
     "end_time": "2022-11-09T09:50:13.705495Z",
     "start_time": "2022-11-09T09:50:13.691583Z"
    }
   },
   "outputs": [],
   "source": [
    "list1=[0,0,0]\n",
    "list2=[1,1,1]\n",
    "\n",
    "data_array=[[5,5,5],[1,2,3]]\n",
    "with open(\"test3.csv\",\"a\",newline='') as csvfile: \n",
    "    writer = csv.writer(csvfile)\n",
    "    # 写入多行用writerows\n",
    "#     writer.writerows(data_array)\n",
    "\n",
    "#     写入单行用 writerow\n",
    "    writer.writerow(list1)\n",
    "    writer.writerow(list2)\n",
    "    \n",
    "    # 执行添加数据操作之后，要写close关闭，否则下次无法再次插入新的数据\n",
    "    csvfile.close()"
   ]
  },
  {
   "cell_type": "code",
   "execution_count": 20,
   "id": "3be145aa",
   "metadata": {
    "ExecuteTime": {
     "end_time": "2022-11-09T09:50:14.966967Z",
     "start_time": "2022-11-09T09:50:14.946940Z"
    }
   },
   "outputs": [
    {
     "name": "stdout",
     "output_type": "stream",
     "text": [
      "['index a_name b_name']\n",
      "['5', '5', '5']\n",
      "['1', '2', '3']\n",
      "['0', '0', '0']\n",
      "['1', '1', '1']\n"
     ]
    }
   ],
   "source": [
    "import csv\n",
    "with open(\"test3.csv\",\"r\") as csvfile:\n",
    "    reader = csv.reader(csvfile)\n",
    "    #这里不需要readlines\n",
    "    for line in reader:\n",
    "        print(line)\n",
    "        \n",
    "os.remove(\"test3.csv\")"
   ]
  },
  {
   "cell_type": "markdown",
   "id": "4e091bc6",
   "metadata": {},
   "source": [
    "## 实时向txt文件写入数据"
   ]
  },
  {
   "cell_type": "markdown",
   "id": "c5cde4cf",
   "metadata": {},
   "source": [
    "实时向txt文件写入内容的过程，与创建csv文件，实时向文件写入内容大致相同，只需要添加一个换行符就行。"
   ]
  },
  {
   "cell_type": "code",
   "execution_count": 21,
   "id": "3afcdf38",
   "metadata": {
    "ExecuteTime": {
     "end_time": "2022-11-09T09:50:17.845896Z",
     "start_time": "2022-11-09T09:50:17.827912Z"
    }
   },
   "outputs": [],
   "source": [
    "with open ('testing.txt','a') as f:\n",
    "    f.write('%s       %s      %s'%('姓名','国籍','金额'))"
   ]
  },
  {
   "cell_type": "markdown",
   "id": "5cac5853",
   "metadata": {},
   "source": [
    "再次向txt文件中写入数据："
   ]
  },
  {
   "cell_type": "code",
   "execution_count": 22,
   "id": "d9ef5cf8",
   "metadata": {
    "ExecuteTime": {
     "end_time": "2022-11-09T09:50:18.880756Z",
     "start_time": "2022-11-09T09:50:18.866786Z"
    }
   },
   "outputs": [],
   "source": [
    "with open ('testing.txt','a') as f:   \n",
    "    f.write('\\n')     #换行\n",
    "    f.write('%s       %s      %d' %('张三','中国',2000))"
   ]
  },
  {
   "cell_type": "code",
   "execution_count": 23,
   "id": "13f78997",
   "metadata": {
    "ExecuteTime": {
     "end_time": "2022-11-09T09:50:19.461754Z",
     "start_time": "2022-11-09T09:50:19.451784Z"
    }
   },
   "outputs": [
    {
     "name": "stdout",
     "output_type": "stream",
     "text": [
      "['姓名       国籍      金额']\n",
      "['张三       中国      2000']\n"
     ]
    }
   ],
   "source": [
    "with open(\"testing.txt\",\"r\") as testfile:\n",
    "    reader = csv.reader(testfile)\n",
    "    #这里不需要readlines\n",
    "    for line in reader:\n",
    "        print(line)\n",
    "        \n",
    "os.remove(\"testing.txt\")"
   ]
  },
  {
   "cell_type": "code",
   "execution_count": null,
   "id": "ee174760",
   "metadata": {},
   "outputs": [],
   "source": []
  }
 ],
 "metadata": {
  "kernelspec": {
   "display_name": "Python 3 (ipykernel)",
   "language": "python",
   "name": "python3"
  },
  "language_info": {
   "codemirror_mode": {
    "name": "ipython",
    "version": 3
   },
   "file_extension": ".py",
   "mimetype": "text/x-python",
   "name": "python",
   "nbconvert_exporter": "python",
   "pygments_lexer": "ipython3",
   "version": "3.9.7"
  },
  "nbTranslate": {
   "displayLangs": [
    "*"
   ],
   "hotkey": "alt-t",
   "langInMainMenu": true,
   "sourceLang": "en",
   "targetLang": "fr",
   "useGoogleTranslate": true
  },
  "toc": {
   "base_numbering": 1,
   "nav_menu": {},
   "number_sections": true,
   "sideBar": true,
   "skip_h1_title": false,
   "title_cell": "Table of Contents",
   "title_sidebar": "Contents",
   "toc_cell": false,
   "toc_position": {},
   "toc_section_display": true,
   "toc_window_display": true
  }
 },
 "nbformat": 4,
 "nbformat_minor": 5
}
