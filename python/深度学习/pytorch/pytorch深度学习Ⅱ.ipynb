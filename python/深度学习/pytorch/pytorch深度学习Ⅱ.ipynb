{
 "cells": [
  {
   "cell_type": "markdown",
   "id": "09b5e95e",
   "metadata": {},
   "source": [
    "**本代码来自伊莱·史蒂文斯著《PyTorch深度学习实战》**"
   ]
  },
  {
   "cell_type": "code",
   "execution_count": 1,
   "id": "b173d931",
   "metadata": {
    "ExecuteTime": {
     "end_time": "2023-04-01T01:31:52.553027Z",
     "start_time": "2023-04-01T01:31:44.541249Z"
    }
   },
   "outputs": [
    {
     "name": "stdout",
     "output_type": "stream",
     "text": [
      "torch_gpu version: 2.0.0+cu118\n"
     ]
    }
   ],
   "source": [
    "import torch\n",
    "\n",
    "version = torch.__version__  #查看PyTorch版本\n",
    "print(\"torch_gpu version:\", version)"
   ]
  },
  {
   "cell_type": "markdown",
   "id": "12ef27ea",
   "metadata": {},
   "source": [
    "# 使用神经网络拟合数据"
   ]
  },
  {
   "cell_type": "markdown",
   "id": "7f1b91e9",
   "metadata": {},
   "source": [
    "计算图是一种图形语言，图中每一个节点表示一个变量，变量可以是标量、向量、矩阵和张量等，操作（operation）是指一个或多个变量的简单函数。"
   ]
  },
  {
   "cell_type": "markdown",
   "id": "d81b6f53",
   "metadata": {},
   "source": [
    "## 人工神经元"
   ]
  },
  {
   "cell_type": "markdown",
   "id": "940fd244",
   "metadata": {},
   "source": [
    "$o=f(wx+b)$，其中x是输入（向量形式），w是权重或比例因子（矩阵形式），b是偏置或偏移量，f是激活函数。"
   ]
  },
  {
   "cell_type": "markdown",
   "id": "6e11c413",
   "metadata": {},
   "source": [
    "### 选择最佳激活函数"
   ]
  },
  {
   "cell_type": "markdown",
   "id": "87bd302e",
   "metadata": {},
   "source": [
    "激活函数特性：\n",
    "- 激活函数是非线性的，非线性使得整个网络能够逼近更复杂的函数。\n",
    "- 激活函数是可微的，因此可以通过他们计算梯度。"
   ]
  },
  {
   "cell_type": "markdown",
   "id": "056286d8",
   "metadata": {},
   "source": [
    "激活函数特征：\n",
    "- 当输入到负无穷大时，接近一个下限。\n",
    "- 正无穷时相似但上界相反。"
   ]
  },
  {
   "cell_type": "markdown",
   "id": "6412b67e",
   "metadata": {},
   "source": [
    "## PyTorch nn模块"
   ]
  },
  {
   "cell_type": "markdown",
   "id": "08f98525",
   "metadata": {},
   "source": [
    "PyTorch有一个专门用于神经网络的子模块，叫做**torch.nn**，它包含创建各种神经网络结构所需的构建块（模块）。在其他框架中，这样的构建块通常称为层。  \n",
    "PyTorch模块派生自基类nn.Module，一个模块可以有一个或多个参数实例作为属性，这些参数实例是张量，它们的值在训练过程中得到了优化。一个模块还可以有一个或多个子模块作为属性，并且它还能够跟踪它们的参数。  \n",
    "nn.Module的一个子类称为nn.Linear，也就是其他框架中的**密集连接层**。"
   ]
  },
  {
   "cell_type": "code",
   "execution_count": 53,
   "id": "5d5c0138",
   "metadata": {
    "ExecuteTime": {
     "end_time": "2023-03-19T10:44:33.335012Z",
     "start_time": "2023-03-19T10:44:33.312367Z"
    }
   },
   "outputs": [
    {
     "data": {
      "text/plain": [
       "['AdaptiveAvgPool1d',\n",
       " 'AdaptiveAvgPool2d',\n",
       " 'AdaptiveAvgPool3d',\n",
       " 'AdaptiveLogSoftmaxWithLoss',\n",
       " 'AdaptiveMaxPool1d',\n",
       " 'AdaptiveMaxPool2d',\n",
       " 'AdaptiveMaxPool3d',\n",
       " 'AlphaDropout',\n",
       " 'AvgPool1d',\n",
       " 'AvgPool2d',\n",
       " 'AvgPool3d',\n",
       " 'BCELoss',\n",
       " 'BCEWithLogitsLoss',\n",
       " 'BatchNorm1d',\n",
       " 'BatchNorm2d',\n",
       " 'BatchNorm3d',\n",
       " 'Bilinear',\n",
       " 'CELU',\n",
       " 'CTCLoss',\n",
       " 'ChannelShuffle',\n",
       " 'ConstantPad1d',\n",
       " 'ConstantPad2d',\n",
       " 'ConstantPad3d',\n",
       " 'Container',\n",
       " 'Conv1d',\n",
       " 'Conv2d',\n",
       " 'Conv3d',\n",
       " 'ConvTranspose1d',\n",
       " 'ConvTranspose2d',\n",
       " 'ConvTranspose3d',\n",
       " 'CosineEmbeddingLoss',\n",
       " 'CosineSimilarity',\n",
       " 'CrossEntropyLoss',\n",
       " 'CrossMapLRN2d',\n",
       " 'DataParallel',\n",
       " 'Dropout',\n",
       " 'Dropout1d',\n",
       " 'Dropout2d',\n",
       " 'Dropout3d',\n",
       " 'ELU',\n",
       " 'Embedding',\n",
       " 'EmbeddingBag',\n",
       " 'FeatureAlphaDropout',\n",
       " 'Flatten',\n",
       " 'Fold',\n",
       " 'FractionalMaxPool2d',\n",
       " 'FractionalMaxPool3d',\n",
       " 'GELU',\n",
       " 'GLU',\n",
       " 'GRU',\n",
       " 'GRUCell',\n",
       " 'GaussianNLLLoss',\n",
       " 'GroupNorm',\n",
       " 'Hardshrink',\n",
       " 'Hardsigmoid',\n",
       " 'Hardswish',\n",
       " 'Hardtanh',\n",
       " 'HingeEmbeddingLoss',\n",
       " 'HuberLoss',\n",
       " 'Identity',\n",
       " 'InstanceNorm1d',\n",
       " 'InstanceNorm2d',\n",
       " 'InstanceNorm3d',\n",
       " 'KLDivLoss',\n",
       " 'L1Loss',\n",
       " 'LPPool1d',\n",
       " 'LPPool2d',\n",
       " 'LSTM',\n",
       " 'LSTMCell',\n",
       " 'LayerNorm',\n",
       " 'LazyBatchNorm1d',\n",
       " 'LazyBatchNorm2d',\n",
       " 'LazyBatchNorm3d',\n",
       " 'LazyConv1d',\n",
       " 'LazyConv2d',\n",
       " 'LazyConv3d',\n",
       " 'LazyConvTranspose1d',\n",
       " 'LazyConvTranspose2d',\n",
       " 'LazyConvTranspose3d',\n",
       " 'LazyInstanceNorm1d',\n",
       " 'LazyInstanceNorm2d',\n",
       " 'LazyInstanceNorm3d',\n",
       " 'LazyLinear',\n",
       " 'LeakyReLU',\n",
       " 'Linear',\n",
       " 'LocalResponseNorm',\n",
       " 'LogSigmoid',\n",
       " 'LogSoftmax',\n",
       " 'MSELoss',\n",
       " 'MarginRankingLoss',\n",
       " 'MaxPool1d',\n",
       " 'MaxPool2d',\n",
       " 'MaxPool3d',\n",
       " 'MaxUnpool1d',\n",
       " 'MaxUnpool2d',\n",
       " 'MaxUnpool3d',\n",
       " 'Mish',\n",
       " 'Module',\n",
       " 'ModuleDict',\n",
       " 'ModuleList',\n",
       " 'MultiLabelMarginLoss',\n",
       " 'MultiLabelSoftMarginLoss',\n",
       " 'MultiMarginLoss',\n",
       " 'MultiheadAttention',\n",
       " 'NLLLoss',\n",
       " 'NLLLoss2d',\n",
       " 'PReLU',\n",
       " 'PairwiseDistance',\n",
       " 'Parameter',\n",
       " 'ParameterDict',\n",
       " 'ParameterList',\n",
       " 'PixelShuffle',\n",
       " 'PixelUnshuffle',\n",
       " 'PoissonNLLLoss',\n",
       " 'RNN',\n",
       " 'RNNBase',\n",
       " 'RNNCell',\n",
       " 'RNNCellBase',\n",
       " 'RReLU',\n",
       " 'ReLU',\n",
       " 'ReLU6',\n",
       " 'ReflectionPad1d',\n",
       " 'ReflectionPad2d',\n",
       " 'ReflectionPad3d',\n",
       " 'ReplicationPad1d',\n",
       " 'ReplicationPad2d',\n",
       " 'ReplicationPad3d',\n",
       " 'SELU',\n",
       " 'Sequential',\n",
       " 'SiLU',\n",
       " 'Sigmoid',\n",
       " 'SmoothL1Loss',\n",
       " 'SoftMarginLoss',\n",
       " 'Softmax',\n",
       " 'Softmax2d',\n",
       " 'Softmin',\n",
       " 'Softplus',\n",
       " 'Softshrink',\n",
       " 'Softsign',\n",
       " 'SyncBatchNorm',\n",
       " 'Tanh',\n",
       " 'Tanhshrink',\n",
       " 'Threshold',\n",
       " 'Transformer',\n",
       " 'TransformerDecoder',\n",
       " 'TransformerDecoderLayer',\n",
       " 'TransformerEncoder',\n",
       " 'TransformerEncoderLayer',\n",
       " 'TripletMarginLoss',\n",
       " 'TripletMarginWithDistanceLoss',\n",
       " 'Unflatten',\n",
       " 'Unfold',\n",
       " 'UninitializedBuffer',\n",
       " 'UninitializedParameter',\n",
       " 'Upsample',\n",
       " 'UpsamplingBilinear2d',\n",
       " 'UpsamplingNearest2d',\n",
       " 'ZeroPad2d',\n",
       " '__builtins__',\n",
       " '__cached__',\n",
       " '__doc__',\n",
       " '__file__',\n",
       " '__loader__',\n",
       " '__name__',\n",
       " '__package__',\n",
       " '__path__',\n",
       " '__spec__',\n",
       " '_reduction',\n",
       " 'common_types',\n",
       " 'factory_kwargs',\n",
       " 'functional',\n",
       " 'grad',\n",
       " 'init',\n",
       " 'intrinsic',\n",
       " 'modules',\n",
       " 'parallel',\n",
       " 'parameter',\n",
       " 'qat',\n",
       " 'quantizable',\n",
       " 'quantized',\n",
       " 'utils']"
      ]
     },
     "execution_count": 53,
     "metadata": {},
     "output_type": "execute_result"
    }
   ],
   "source": [
    "import torch.nn as nn\n",
    "dir(nn)"
   ]
  },
  {
   "cell_type": "markdown",
   "id": "821a1193",
   "metadata": {},
   "source": [
    "### 回到线性模型"
   ]
  },
  {
   "cell_type": "code",
   "execution_count": 54,
   "id": "90da7b56",
   "metadata": {
    "ExecuteTime": {
     "end_time": "2023-03-19T10:44:33.554425Z",
     "start_time": "2023-03-19T10:44:33.546413Z"
    }
   },
   "outputs": [],
   "source": [
    "import numpy as np\n",
    "import torch.optim as optim"
   ]
  },
  {
   "cell_type": "code",
   "execution_count": 55,
   "id": "3272633e",
   "metadata": {
    "ExecuteTime": {
     "end_time": "2023-03-19T10:44:33.991141Z",
     "start_time": "2023-03-19T10:44:33.968426Z"
    }
   },
   "outputs": [
    {
     "data": {
      "text/plain": [
       "tensor([[5.6300],\n",
       "        [8.1900]])"
      ]
     },
     "execution_count": 55,
     "metadata": {},
     "output_type": "execute_result"
    }
   ],
   "source": [
    "t_c = [0.5,  14.0, 15.0, 28.0, 11.0,  8.0,  3.0, -4.0,  6.0, 13.0, 21.0]\n",
    "t_u = [35.7, 55.9, 58.2, 81.9, 56.3, 48.9, 33.9, 21.8, 48.4, 60.4, 68.4]\n",
    "t_c = torch.tensor(t_c).unsqueeze(1) \n",
    "t_u = torch.tensor(t_u).unsqueeze(1) \n",
    "\n",
    "n_samples = t_u.shape[0]\n",
    "n_val = int(0.2 * n_samples)\n",
    "\n",
    "shuffled_indices = torch.randperm(n_samples)\n",
    "\n",
    "train_indices = shuffled_indices[:-n_val]\n",
    "val_indices = shuffled_indices[-n_val:]\n",
    "\n",
    "t_u_train = t_u[train_indices]\n",
    "t_c_train = t_c[train_indices]\n",
    "\n",
    "t_u_val = t_u[val_indices]\n",
    "t_c_val = t_c[val_indices]\n",
    "\n",
    "t_un_train = 0.1 * t_u_train\n",
    "t_un_val = 0.1 * t_u_val\n",
    "t_un_val"
   ]
  },
  {
   "cell_type": "markdown",
   "id": "b48eb6f9",
   "metadata": {},
   "source": [
    "构造函数nn.Linear接收3个参数：输入特征的数量、输出特征的数量，以及线性模型是否包含偏置（默认为True）。"
   ]
  },
  {
   "cell_type": "code",
   "execution_count": 56,
   "id": "b4e23095",
   "metadata": {
    "ExecuteTime": {
     "end_time": "2023-03-19T10:44:34.338463Z",
     "start_time": "2023-03-19T10:44:34.329544Z"
    }
   },
   "outputs": [
    {
     "data": {
      "text/plain": [
       "tensor([[1.1054],\n",
       "        [1.3149]], grad_fn=<AddmmBackward0>)"
      ]
     },
     "execution_count": 56,
     "metadata": {},
     "output_type": "execute_result"
    }
   ],
   "source": [
    "linear_model = nn.Linear(1, 1) #只有一个特征\n",
    "linear_model(t_un_val)"
   ]
  },
  {
   "cell_type": "code",
   "execution_count": 57,
   "id": "8dbd0cdd",
   "metadata": {
    "ExecuteTime": {
     "end_time": "2023-03-19T10:44:34.472815Z",
     "start_time": "2023-03-19T10:44:34.466784Z"
    }
   },
   "outputs": [
    {
     "data": {
      "text/plain": [
       "Parameter containing:\n",
       "tensor([[0.0818]], requires_grad=True)"
      ]
     },
     "execution_count": 57,
     "metadata": {},
     "output_type": "execute_result"
    }
   ],
   "source": [
    "linear_model.weight #权重"
   ]
  },
  {
   "cell_type": "code",
   "execution_count": 58,
   "id": "d1438e43",
   "metadata": {
    "ExecuteTime": {
     "end_time": "2023-03-19T10:44:34.614743Z",
     "start_time": "2023-03-19T10:44:34.604708Z"
    },
    "scrolled": true
   },
   "outputs": [
    {
     "data": {
      "text/plain": [
       "Parameter containing:\n",
       "tensor([0.6446], requires_grad=True)"
      ]
     },
     "execution_count": 58,
     "metadata": {},
     "output_type": "execute_result"
    }
   ],
   "source": [
    "linear_model.bias #偏置"
   ]
  },
  {
   "cell_type": "markdown",
   "id": "0377d981",
   "metadata": {},
   "source": [
    "#### 批量输入"
   ]
  },
  {
   "cell_type": "markdown",
   "id": "104224fb",
   "metadata": {},
   "source": [
    "nn中所有模块都可以被编写为同时为多个输入产生输出。"
   ]
  },
  {
   "cell_type": "code",
   "execution_count": 59,
   "id": "d39d042f",
   "metadata": {
    "ExecuteTime": {
     "end_time": "2023-03-19T10:44:35.024411Z",
     "start_time": "2023-03-19T10:44:35.015484Z"
    }
   },
   "outputs": [
    {
     "data": {
      "text/plain": [
       "tensor([[0.7265],\n",
       "        [0.7265],\n",
       "        [0.7265],\n",
       "        [0.7265],\n",
       "        [0.7265],\n",
       "        [0.7265],\n",
       "        [0.7265],\n",
       "        [0.7265],\n",
       "        [0.7265],\n",
       "        [0.7265]], grad_fn=<AddmmBackward0>)"
      ]
     },
     "execution_count": 59,
     "metadata": {},
     "output_type": "execute_result"
    }
   ],
   "source": [
    "x = torch.ones(10, 1)\n",
    "linear_model(x)"
   ]
  },
  {
   "cell_type": "markdown",
   "id": "6daeac80",
   "metadata": {},
   "source": [
    "#### 优化批次"
   ]
  },
  {
   "cell_type": "code",
   "execution_count": 60,
   "id": "3ce4c438",
   "metadata": {
    "ExecuteTime": {
     "end_time": "2023-03-19T10:44:35.305857Z",
     "start_time": "2023-03-19T10:44:35.290596Z"
    }
   },
   "outputs": [],
   "source": [
    "linear_model = nn.Linear(1, 1) \n",
    "optimizer = optim.SGD(\n",
    "    linear_model.parameters(), \n",
    "    lr=1e-2)"
   ]
  },
  {
   "cell_type": "code",
   "execution_count": 61,
   "id": "4e1ac906",
   "metadata": {
    "ExecuteTime": {
     "end_time": "2023-03-19T10:44:35.432395Z",
     "start_time": "2023-03-19T10:44:35.418399Z"
    }
   },
   "outputs": [
    {
     "data": {
      "text/plain": [
       "[Parameter containing:\n",
       " tensor([[-0.1390]], requires_grad=True),\n",
       " Parameter containing:\n",
       " tensor([0.8454], requires_grad=True)]"
      ]
     },
     "execution_count": 61,
     "metadata": {},
     "output_type": "execute_result"
    }
   ],
   "source": [
    "list(linear_model.parameters())"
   ]
  },
  {
   "cell_type": "code",
   "execution_count": 62,
   "id": "709787e5",
   "metadata": {
    "ExecuteTime": {
     "end_time": "2023-03-19T10:44:35.825296Z",
     "start_time": "2023-03-19T10:44:35.807074Z"
    }
   },
   "outputs": [],
   "source": [
    "def training_loop(n_epochs, optimizer, model, loss_fn, t_u_train, t_u_val,\n",
    "                  t_c_train, t_c_val):\n",
    "    for epoch in range(1, n_epochs + 1):\n",
    "        t_p_train = model(t_u_train) # <1>\n",
    "        loss_train = loss_fn(t_p_train, t_c_train)\n",
    "\n",
    "        t_p_val = model(t_u_val) # <1>\n",
    "        loss_val = loss_fn(t_p_val, t_c_val)\n",
    "        \n",
    "        optimizer.zero_grad()\n",
    "        loss_train.backward() # <2>\n",
    "        optimizer.step()\n",
    "\n",
    "        if epoch == 1 or epoch % 1000 == 0:\n",
    "            print(f\"Epoch {epoch}, Training loss {loss_train.item():.4f},\"\n",
    "                  f\" Validation loss {loss_val.item():.4f}\")"
   ]
  },
  {
   "cell_type": "code",
   "execution_count": 63,
   "id": "4257935e",
   "metadata": {
    "ExecuteTime": {
     "end_time": "2023-03-19T10:44:36.943962Z",
     "start_time": "2023-03-19T10:44:35.947304Z"
    }
   },
   "outputs": [
    {
     "name": "stdout",
     "output_type": "stream",
     "text": [
      "Epoch 1, Training loss 104.0342, Validation loss 386.9108\n",
      "Epoch 1000, Training loss 4.0620, Validation loss 9.3610\n",
      "Epoch 2000, Training loss 2.9658, Validation loss 4.2727\n",
      "Epoch 3000, Training loss 2.9137, Validation loss 3.5674\n",
      "\n",
      "Parameter containing:\n",
      "tensor([[5.1659]], requires_grad=True)\n",
      "Parameter containing:\n",
      "tensor([-16.2597], requires_grad=True)\n"
     ]
    }
   ],
   "source": [
    "linear_model = nn.Linear(1, 1)\n",
    "optimizer = optim.SGD(linear_model.parameters(), lr=1e-2)\n",
    "\n",
    "training_loop(\n",
    "    n_epochs = 3000, \n",
    "    optimizer = optimizer,\n",
    "    model = linear_model,\n",
    "    loss_fn = nn.MSELoss(), # 使用nn的损失函数，均方误差\n",
    "    t_u_train = t_un_train,\n",
    "    t_u_val = t_un_val, \n",
    "    t_c_train = t_c_train,\n",
    "    t_c_val = t_c_val)\n",
    "\n",
    "print()\n",
    "print(linear_model.weight)\n",
    "print(linear_model.bias)"
   ]
  },
  {
   "cell_type": "markdown",
   "id": "51fc2f8d",
   "metadata": {},
   "source": [
    "## 最终完成一个神经网络"
   ]
  },
  {
   "cell_type": "markdown",
   "id": "e3d206f9",
   "metadata": {},
   "source": [
    "### 替换线性模型"
   ]
  },
  {
   "cell_type": "markdown",
   "id": "34c97033",
   "metadata": {},
   "source": [
    "nn提供了一种通过nn.Sequential容器来连接模型的方式："
   ]
  },
  {
   "cell_type": "code",
   "execution_count": 64,
   "id": "b8221ae0",
   "metadata": {
    "ExecuteTime": {
     "end_time": "2023-03-19T10:44:37.873614Z",
     "start_time": "2023-03-19T10:44:37.851071Z"
    }
   },
   "outputs": [
    {
     "data": {
      "text/plain": [
       "Sequential(\n",
       "  (0): Linear(in_features=1, out_features=13, bias=True)\n",
       "  (1): Tanh()\n",
       "  (2): Linear(in_features=13, out_features=1, bias=True)\n",
       ")"
      ]
     },
     "execution_count": 64,
     "metadata": {},
     "output_type": "execute_result"
    }
   ],
   "source": [
    "seq_model = nn.Sequential(\n",
    "            nn.Linear(1, 13), \n",
    "            nn.Tanh(),\n",
    "            nn.Linear(13, 1)) # 这里张量的输入必须和前面输出相同\n",
    "seq_model"
   ]
  },
  {
   "cell_type": "markdown",
   "id": "fe6b9662",
   "metadata": {},
   "source": [
    "### 检查参数"
   ]
  },
  {
   "cell_type": "code",
   "execution_count": 65,
   "id": "727a6b12",
   "metadata": {
    "ExecuteTime": {
     "end_time": "2023-03-19T10:44:38.491165Z",
     "start_time": "2023-03-19T10:44:38.473890Z"
    }
   },
   "outputs": [
    {
     "data": {
      "text/plain": [
       "[torch.Size([13, 1]), torch.Size([13]), torch.Size([1, 13]), torch.Size([1])]"
      ]
     },
     "execution_count": 65,
     "metadata": {},
     "output_type": "execute_result"
    }
   ],
   "source": [
    "[param.shape for param in seq_model.parameters()] #收集线性模块的权重和偏置"
   ]
  },
  {
   "cell_type": "code",
   "execution_count": 66,
   "id": "e5c2d5ab",
   "metadata": {
    "ExecuteTime": {
     "end_time": "2023-03-19T10:44:38.631296Z",
     "start_time": "2023-03-19T10:44:38.625314Z"
    }
   },
   "outputs": [
    {
     "name": "stdout",
     "output_type": "stream",
     "text": [
      "0.weight torch.Size([13, 1])\n",
      "0.bias torch.Size([13])\n",
      "2.weight torch.Size([1, 13])\n",
      "2.bias torch.Size([1])\n"
     ]
    }
   ],
   "source": [
    "for name, param in seq_model.named_parameters(): #输出每个模块的参数\n",
    "    print(name, param.shape)"
   ]
  },
  {
   "cell_type": "markdown",
   "id": "27809c80",
   "metadata": {},
   "source": [
    "Sequential中的每个模块的名称就是模块在参数中出现的序号，可用OrderedDict命名每个模块。"
   ]
  },
  {
   "cell_type": "code",
   "execution_count": 67,
   "id": "69ec2800",
   "metadata": {
    "ExecuteTime": {
     "end_time": "2023-03-19T10:44:39.440765Z",
     "start_time": "2023-03-19T10:44:39.429009Z"
    }
   },
   "outputs": [
    {
     "data": {
      "text/plain": [
       "Sequential(\n",
       "  (hidden_linear): Linear(in_features=1, out_features=8, bias=True)\n",
       "  (hidden_activation): Tanh()\n",
       "  (output_linear): Linear(in_features=8, out_features=1, bias=True)\n",
       ")"
      ]
     },
     "execution_count": 67,
     "metadata": {},
     "output_type": "execute_result"
    }
   ],
   "source": [
    "from collections import OrderedDict\n",
    "\n",
    "seq_model = nn.Sequential(OrderedDict([\n",
    "    ('hidden_linear', nn.Linear(1, 8)),\n",
    "    ('hidden_activation', nn.Tanh()),\n",
    "    ('output_linear', nn.Linear(8, 1))\n",
    "]))\n",
    "\n",
    "seq_model"
   ]
  },
  {
   "cell_type": "code",
   "execution_count": 68,
   "id": "e682dc3c",
   "metadata": {
    "ExecuteTime": {
     "end_time": "2023-03-19T10:44:39.597451Z",
     "start_time": "2023-03-19T10:44:39.580467Z"
    }
   },
   "outputs": [
    {
     "name": "stdout",
     "output_type": "stream",
     "text": [
      "hidden_linear.weight torch.Size([8, 1])\n",
      "hidden_linear.bias torch.Size([8])\n",
      "output_linear.weight torch.Size([1, 8])\n",
      "output_linear.bias torch.Size([1])\n"
     ]
    }
   ],
   "source": [
    "for name, param in seq_model.named_parameters():\n",
    "    print(name, param.shape)"
   ]
  },
  {
   "cell_type": "code",
   "execution_count": 69,
   "id": "bd080b6d",
   "metadata": {
    "ExecuteTime": {
     "end_time": "2023-03-19T10:44:39.770152Z",
     "start_time": "2023-03-19T10:44:39.761833Z"
    }
   },
   "outputs": [
    {
     "data": {
      "text/plain": [
       "Parameter containing:\n",
       "tensor([0.3056], requires_grad=True)"
      ]
     },
     "execution_count": 69,
     "metadata": {},
     "output_type": "execute_result"
    }
   ],
   "source": [
    "seq_model.output_linear.bias #通过将子模块作为属性来访问一个特定的参数"
   ]
  },
  {
   "cell_type": "code",
   "execution_count": 70,
   "id": "c06cfd92",
   "metadata": {
    "ExecuteTime": {
     "end_time": "2023-03-19T10:44:42.846610Z",
     "start_time": "2023-03-19T10:44:40.345146Z"
    }
   },
   "outputs": [
    {
     "name": "stdout",
     "output_type": "stream",
     "text": [
      "Epoch 1, Training loss 117.6388, Validation loss 425.4951\n",
      "Epoch 1000, Training loss 4.3668, Validation loss 46.3869\n",
      "Epoch 2000, Training loss 2.7016, Validation loss 24.1310\n",
      "Epoch 3000, Training loss 2.3021, Validation loss 16.5068\n",
      "Epoch 4000, Training loss 2.1505, Validation loss 12.5680\n",
      "Epoch 5000, Training loss 2.0844, Validation loss 10.3059\n",
      "output tensor([[12.6726],\n",
      "        [23.7797]], grad_fn=<AddmmBackward0>)\n",
      "answer tensor([[11.],\n",
      "        [28.]])\n",
      "hidden tensor([[-0.0213],\n",
      "        [ 0.0129],\n",
      "        [-0.0304],\n",
      "        [ 0.0042],\n",
      "        [ 0.0110],\n",
      "        [ 0.0086],\n",
      "        [ 0.0050],\n",
      "        [-0.0089]])\n"
     ]
    }
   ],
   "source": [
    "optimizer = optim.SGD(seq_model.parameters(), lr=1e-3) # <1>\n",
    "\n",
    "training_loop(\n",
    "    n_epochs = 5000, \n",
    "    optimizer = optimizer,\n",
    "    model = seq_model,\n",
    "    loss_fn = nn.MSELoss(),\n",
    "    t_u_train = t_un_train,\n",
    "    t_u_val = t_un_val, \n",
    "    t_c_train = t_c_train,\n",
    "    t_c_val = t_c_val)\n",
    "    \n",
    "print('output', seq_model(t_un_val))\n",
    "print('answer', t_c_val)\n",
    "print('hidden', seq_model.hidden_linear.weight.grad) #输出梯度结果"
   ]
  },
  {
   "cell_type": "markdown",
   "id": "a0691553",
   "metadata": {},
   "source": [
    "### 与线性模型对比"
   ]
  },
  {
   "cell_type": "code",
   "execution_count": 71,
   "id": "898b4a8d",
   "metadata": {
    "ExecuteTime": {
     "end_time": "2023-03-19T10:44:44.818400Z",
     "start_time": "2023-03-19T10:44:44.189720Z"
    }
   },
   "outputs": [
    {
     "data": {
      "text/plain": [
       "[<matplotlib.lines.Line2D at 0x1c744701310>]"
      ]
     },
     "execution_count": 71,
     "metadata": {},
     "output_type": "execute_result"
    },
    {
     "data": {
      "image/png": "[encoded data removed]",
      "text/plain": [
       "<Figure size 3840x2880 with 1 Axes>"
      ]
     },
     "metadata": {},
     "output_type": "display_data"
    }
   ],
   "source": [
    "from matplotlib import pyplot as plt\n",
    "\n",
    "t_range = torch.arange(20., 90.).unsqueeze(1)\n",
    "\n",
    "fig = plt.figure(dpi=600)\n",
    "plt.xlabel(\"Fahrenheit\")\n",
    "plt.ylabel(\"Celsius\")\n",
    "plt.plot(t_u.numpy(), t_c.numpy(), 'o')\n",
    "plt.plot(t_range.numpy(), seq_model(0.1 * t_range).detach().numpy(), 'c-')\n",
    "plt.plot(t_u.numpy(), seq_model(0.1 * t_u).detach().numpy(), 'kx')"
   ]
  },
  {
   "cell_type": "markdown",
   "id": "6e973e7e",
   "metadata": {},
   "source": [
    "# 区分鸟和飞机：从图像学习"
   ]
  },
  {
   "cell_type": "markdown",
   "id": "d27d19bc",
   "metadata": {},
   "source": [
    "## 微小图像数据集"
   ]
  },
  {
   "cell_type": "code",
   "execution_count": 21,
   "id": "6f40f79c",
   "metadata": {
    "ExecuteTime": {
     "end_time": "2023-03-19T09:57:18.444695Z",
     "start_time": "2023-03-19T09:57:18.406568Z"
    }
   },
   "outputs": [
    {
     "data": {
      "text/plain": [
       "<torch._C.Generator at 0x1c72f8d4370>"
      ]
     },
     "execution_count": 21,
     "metadata": {},
     "output_type": "execute_result"
    }
   ],
   "source": [
    "%matplotlib inline\n",
    "from matplotlib import pyplot as plt\n",
    "import numpy as np\n",
    "import torch\n",
    "\n",
    "torch.set_printoptions(edgeitems=2, linewidth=75)\n",
    "torch.manual_seed(123)"
   ]
  },
  {
   "cell_type": "markdown",
   "id": "5a9ac1a5",
   "metadata": {},
   "source": [
    "### 下载CIFAR-10"
   ]
  },
  {
   "cell_type": "code",
   "execution_count": 22,
   "id": "5306b272",
   "metadata": {
    "ExecuteTime": {
     "end_time": "2023-03-19T10:06:16.684682Z",
     "start_time": "2023-03-19T09:57:20.670041Z"
    }
   },
   "outputs": [
    {
     "name": "stdout",
     "output_type": "stream",
     "text": [
      "Downloading https://www.cs.toronto.edu/~kriz/cifar-10-python.tar.gz to ../../../../data/python/data-unversioned/p1ch7/cifar-10-python.tar.gz\n"
     ]
    },
    {
     "name": "stderr",
     "output_type": "stream",
     "text": [
      "100%|████████████████████████████████████████████████████████████████| 170498071/170498071 [08:49<00:00, 322052.18it/s]\n"
     ]
    },
    {
     "name": "stdout",
     "output_type": "stream",
     "text": [
      "Extracting ../../../../data/python/data-unversioned/p1ch7/cifar-10-python.tar.gz to ../../../../data/python/data-unversioned/p1ch7/\n",
      "Files already downloaded and verified\n"
     ]
    }
   ],
   "source": [
    "from torchvision import datasets\n",
    "data_path = '../../../../data/python/data-unversioned/p1ch7/'\n",
    "cifar10 = datasets.CIFAR10(data_path, train=True, download=True) # <1>\n",
    "cifar10_val = datasets.CIFAR10(data_path, train=False, download=True) "
   ]
  },
  {
   "cell_type": "code",
   "execution_count": 23,
   "id": "87edcc52",
   "metadata": {
    "ExecuteTime": {
     "end_time": "2023-03-19T10:12:09.857531Z",
     "start_time": "2023-03-19T10:12:09.601207Z"
    }
   },
   "outputs": [
    {
     "data": {
      "image/png": "[encoded data removed]",
      "text/plain": [
       "<Figure size 800x300 with 10 Axes>"
      ]
     },
     "metadata": {},
     "output_type": "display_data"
    }
   ],
   "source": [
    "class_names = ['airplane','automobile','bird','cat','deer',\n",
    "               'dog','frog','horse','ship','truck']\n",
    "\n",
    "fig = plt.figure(figsize=(8,3))\n",
    "num_classes = 10\n",
    "for i in range(num_classes):\n",
    "    ax = fig.add_subplot(2, 5, 1 + i, xticks=[], yticks=[])\n",
    "    ax.set_title(class_names[i])\n",
    "    img = next(img for img, label in cifar10 if label == i)\n",
    "    plt.imshow(img)\n",
    "plt.show()"
   ]
  },
  {
   "cell_type": "markdown",
   "id": "8543dc72",
   "metadata": {},
   "source": [
    "### Dataset类"
   ]
  },
  {
   "cell_type": "code",
   "execution_count": 24,
   "id": "087a0395",
   "metadata": {
    "ExecuteTime": {
     "end_time": "2023-03-19T10:13:53.283974Z",
     "start_time": "2023-03-19T10:13:53.266989Z"
    }
   },
   "outputs": [
    {
     "data": {
      "text/plain": [
       "50000"
      ]
     },
     "execution_count": 24,
     "metadata": {},
     "output_type": "execute_result"
    }
   ],
   "source": [
    "len(cifar10)"
   ]
  },
  {
   "cell_type": "code",
   "execution_count": 25,
   "id": "98da0cb6",
   "metadata": {
    "ExecuteTime": {
     "end_time": "2023-03-19T10:13:53.830867Z",
     "start_time": "2023-03-19T10:13:53.823620Z"
    }
   },
   "outputs": [
    {
     "data": {
      "text/plain": [
       "(<PIL.Image.Image image mode=RGB size=32x32>, 1, 'automobile')"
      ]
     },
     "execution_count": 25,
     "metadata": {},
     "output_type": "execute_result"
    }
   ],
   "source": [
    "img, label = cifar10[99]\n",
    "img, label, class_names[label]"
   ]
  },
  {
   "cell_type": "code",
   "execution_count": 26,
   "id": "888888ad",
   "metadata": {
    "ExecuteTime": {
     "end_time": "2023-03-19T10:13:54.596623Z",
     "start_time": "2023-03-19T10:13:54.486524Z"
    }
   },
   "outputs": [
    {
     "data": {
      "image/png": "[encoded data removed]",
      "text/plain": [
       "<Figure size 640x480 with 1 Axes>"
      ]
     },
     "metadata": {},
     "output_type": "display_data"
    }
   ],
   "source": [
    "plt.imshow(img)\n",
    "plt.show()"
   ]
  },
  {
   "cell_type": "markdown",
   "id": "4c3a46ec",
   "metadata": {},
   "source": [
    "### Dataset变换"
   ]
  },
  {
   "cell_type": "code",
   "execution_count": 27,
   "id": "469aba44",
   "metadata": {
    "ExecuteTime": {
     "end_time": "2023-03-19T10:13:55.755800Z",
     "start_time": "2023-03-19T10:13:55.743950Z"
    }
   },
   "outputs": [
    {
     "data": {
      "text/plain": [
       "['AugMix',\n",
       " 'AutoAugment',\n",
       " 'AutoAugmentPolicy',\n",
       " 'CenterCrop',\n",
       " 'ColorJitter',\n",
       " 'Compose',\n",
       " 'ConvertImageDtype',\n",
       " 'ElasticTransform',\n",
       " 'FiveCrop',\n",
       " 'GaussianBlur',\n",
       " 'Grayscale',\n",
       " 'InterpolationMode',\n",
       " 'Lambda',\n",
       " 'LinearTransformation',\n",
       " 'Normalize',\n",
       " 'PILToTensor',\n",
       " 'Pad',\n",
       " 'RandAugment',\n",
       " 'RandomAdjustSharpness',\n",
       " 'RandomAffine',\n",
       " 'RandomApply',\n",
       " 'RandomAutocontrast',\n",
       " 'RandomChoice',\n",
       " 'RandomCrop',\n",
       " 'RandomEqualize',\n",
       " 'RandomErasing',\n",
       " 'RandomGrayscale',\n",
       " 'RandomHorizontalFlip',\n",
       " 'RandomInvert',\n",
       " 'RandomOrder',\n",
       " 'RandomPerspective',\n",
       " 'RandomPosterize',\n",
       " 'RandomResizedCrop',\n",
       " 'RandomRotation',\n",
       " 'RandomSolarize',\n",
       " 'RandomVerticalFlip',\n",
       " 'Resize',\n",
       " 'TenCrop',\n",
       " 'ToPILImage',\n",
       " 'ToTensor',\n",
       " 'TrivialAugmentWide',\n",
       " '__builtins__',\n",
       " '__cached__',\n",
       " '__doc__',\n",
       " '__file__',\n",
       " '__loader__',\n",
       " '__name__',\n",
       " '__package__',\n",
       " '__path__',\n",
       " '__spec__',\n",
       " '_functional_pil',\n",
       " '_functional_tensor',\n",
       " '_presets',\n",
       " 'autoaugment',\n",
       " 'functional',\n",
       " 'transforms']"
      ]
     },
     "execution_count": 27,
     "metadata": {},
     "output_type": "execute_result"
    }
   ],
   "source": [
    "from torchvision import transforms\n",
    "dir(transforms)"
   ]
  },
  {
   "cell_type": "code",
   "execution_count": 28,
   "id": "7564c60f",
   "metadata": {
    "ExecuteTime": {
     "end_time": "2023-03-19T10:13:57.628662Z",
     "start_time": "2023-03-19T10:13:57.599504Z"
    }
   },
   "outputs": [
    {
     "data": {
      "text/plain": [
       "torch.Size([3, 32, 32])"
      ]
     },
     "execution_count": 28,
     "metadata": {},
     "output_type": "execute_result"
    }
   ],
   "source": [
    "from torchvision import transforms\n",
    "#ToTensor对象将Numpy数组和PIL图像变换为张量\n",
    "to_tensor = transforms.ToTensor()\n",
    "img_t = to_tensor(img)\n",
    "img_t.shape"
   ]
  },
  {
   "cell_type": "code",
   "execution_count": 29,
   "id": "d66ac91c",
   "metadata": {
    "ExecuteTime": {
     "end_time": "2023-03-19T10:13:59.169807Z",
     "start_time": "2023-03-19T10:13:58.471848Z"
    }
   },
   "outputs": [],
   "source": [
    "#读取所有数据并转换为张量\n",
    "tensor_cifar10 = datasets.CIFAR10(data_path, train=True, download=False,\n",
    "                          transform=transforms.ToTensor())"
   ]
  },
  {
   "cell_type": "code",
   "execution_count": 30,
   "id": "2ce82fcd",
   "metadata": {
    "ExecuteTime": {
     "end_time": "2023-03-19T10:13:59.755471Z",
     "start_time": "2023-03-19T10:13:59.743006Z"
    }
   },
   "outputs": [
    {
     "data": {
      "text/plain": [
       "torch.Tensor"
      ]
     },
     "execution_count": 30,
     "metadata": {},
     "output_type": "execute_result"
    }
   ],
   "source": [
    "img_t, _ = tensor_cifar10[99] #访问元素将返回一个张量，而不是PIL图像\n",
    "type(img_t)"
   ]
  },
  {
   "cell_type": "code",
   "execution_count": 31,
   "id": "f63be964",
   "metadata": {
    "ExecuteTime": {
     "end_time": "2023-03-19T10:14:00.285946Z",
     "start_time": "2023-03-19T10:14:00.276238Z"
    }
   },
   "outputs": [
    {
     "data": {
      "text/plain": [
       "(torch.Size([3, 32, 32]), torch.float32)"
      ]
     },
     "execution_count": 31,
     "metadata": {},
     "output_type": "execute_result"
    }
   ],
   "source": [
    "img_t.shape, img_t.dtype"
   ]
  },
  {
   "cell_type": "code",
   "execution_count": 32,
   "id": "e1b2ca13",
   "metadata": {
    "ExecuteTime": {
     "end_time": "2023-03-19T10:14:00.691790Z",
     "start_time": "2023-03-19T10:14:00.661856Z"
    }
   },
   "outputs": [
    {
     "data": {
      "text/plain": [
       "(tensor(0.), tensor(1.))"
      ]
     },
     "execution_count": 32,
     "metadata": {},
     "output_type": "execute_result"
    }
   ],
   "source": [
    "img_t.min(), img_t.max() #ToTensor变换将数据变换为每个通道的32位浮点数，值缩小为0.0～1.0"
   ]
  },
  {
   "cell_type": "code",
   "execution_count": 33,
   "id": "e5f1ba2b",
   "metadata": {
    "ExecuteTime": {
     "end_time": "2023-03-19T10:14:01.427694Z",
     "start_time": "2023-03-19T10:14:01.301099Z"
    }
   },
   "outputs": [
    {
     "data": {
      "image/png": "[encoded data removed]",
      "text/plain": [
       "<Figure size 640x480 with 1 Axes>"
      ]
     },
     "metadata": {},
     "output_type": "display_data"
    }
   ],
   "source": [
    "plt.imshow(img_t.permute(1, 2, 0))  # 改变轴的顺序，将C×H×W改写为H×W×C\n",
    "plt.show()"
   ]
  },
  {
   "cell_type": "markdown",
   "id": "84f3e3db",
   "metadata": {},
   "source": [
    "### 数据归一化"
   ]
  },
  {
   "cell_type": "code",
   "execution_count": 34,
   "id": "ef4cb4b1",
   "metadata": {
    "ExecuteTime": {
     "end_time": "2023-03-19T10:14:11.541231Z",
     "start_time": "2023-03-19T10:14:02.420688Z"
    }
   },
   "outputs": [
    {
     "data": {
      "text/plain": [
       "torch.Size([3, 32, 32, 50000])"
      ]
     },
     "execution_count": 34,
     "metadata": {},
     "output_type": "execute_result"
    }
   ],
   "source": [
    "#增加新的维度进行堆叠，这里将3维扩展为4维\n",
    "imgs = torch.stack([img_t for img_t, _ in tensor_cifar10], dim=3)\n",
    "imgs.shape"
   ]
  },
  {
   "cell_type": "code",
   "execution_count": 35,
   "id": "6cbe7bdb",
   "metadata": {
    "ExecuteTime": {
     "end_time": "2023-03-19T10:14:11.636366Z",
     "start_time": "2023-03-19T10:14:11.543466Z"
    }
   },
   "outputs": [
    {
     "data": {
      "text/plain": [
       "tensor([0.4914, 0.4822, 0.4465])"
      ]
     },
     "execution_count": 35,
     "metadata": {},
     "output_type": "execute_result"
    }
   ],
   "source": [
    "imgs.view(3, -1).mean(dim=1)  #计算每个通道的平均值"
   ]
  },
  {
   "cell_type": "code",
   "execution_count": 36,
   "id": "674409c0",
   "metadata": {
    "ExecuteTime": {
     "end_time": "2023-03-19T10:14:14.901798Z",
     "start_time": "2023-03-19T10:14:13.807601Z"
    }
   },
   "outputs": [
    {
     "data": {
      "text/plain": [
       "tensor([0.2470, 0.2435, 0.2616])"
      ]
     },
     "execution_count": 36,
     "metadata": {},
     "output_type": "execute_result"
    }
   ],
   "source": [
    "imgs.view(3, -1).std(dim=1)"
   ]
  },
  {
   "cell_type": "code",
   "execution_count": 37,
   "id": "04773113",
   "metadata": {
    "ExecuteTime": {
     "end_time": "2023-03-19T10:14:16.777335Z",
     "start_time": "2023-03-19T10:14:16.765910Z"
    }
   },
   "outputs": [
    {
     "data": {
      "text/plain": [
       "Normalize(mean=(0.4915, 0.4823, 0.4468), std=(0.247, 0.2435, 0.2616))"
      ]
     },
     "execution_count": 37,
     "metadata": {},
     "output_type": "execute_result"
    }
   ],
   "source": [
    "transforms.Normalize((0.4915, 0.4823, 0.4468), (0.2470, 0.2435, 0.2616)) #初始化Normalize变换，mean和"
   ]
  },
  {
   "cell_type": "code",
   "execution_count": 38,
   "id": "a16d0498",
   "metadata": {
    "ExecuteTime": {
     "end_time": "2023-03-19T10:14:19.841766Z",
     "start_time": "2023-03-19T10:14:19.154532Z"
    }
   },
   "outputs": [
    {
     "data": {
      "text/plain": [
       "Dataset CIFAR10\n",
       "    Number of datapoints: 50000\n",
       "    Root location: ../../../../data/python/data-unversioned/p1ch7/\n",
       "    Split: Train\n",
       "    StandardTransform\n",
       "Transform: Compose(\n",
       "               ToTensor()\n",
       "               Normalize(mean=(0.4915, 0.4823, 0.4468), std=(0.247, 0.2435, 0.2616))\n",
       "           )"
      ]
     },
     "execution_count": 38,
     "metadata": {},
     "output_type": "execute_result"
    }
   ],
   "source": [
    "transformed_cifar10 = datasets.CIFAR10(\n",
    "    data_path, train=True, download=False,\n",
    "    transform=transforms.Compose([ #连接函数\n",
    "        transforms.ToTensor(),\n",
    "        transforms.Normalize((0.4915, 0.4823, 0.4468),\n",
    "                             (0.2470, 0.2435, 0.2616))\n",
    "    ]))\n",
    "transformed_cifar10"
   ]
  },
  {
   "cell_type": "code",
   "execution_count": 39,
   "id": "8fbbc47e",
   "metadata": {
    "ExecuteTime": {
     "end_time": "2023-03-19T10:14:21.142168Z",
     "start_time": "2023-03-19T10:14:20.676887Z"
    }
   },
   "outputs": [],
   "source": [
    "transformed_cifar10_val = datasets.CIFAR10(\n",
    "    data_path, train=False, download=False,\n",
    "    transform=transforms.Compose([\n",
    "        transforms.ToTensor(),\n",
    "        transforms.Normalize((0.4915, 0.4823, 0.4468),\n",
    "                             (0.2470, 0.2435, 0.2616))\n",
    "    ]))"
   ]
  },
  {
   "cell_type": "code",
   "execution_count": 40,
   "id": "fec95309",
   "metadata": {
    "ExecuteTime": {
     "end_time": "2023-03-19T10:14:21.764744Z",
     "start_time": "2023-03-19T10:14:21.621001Z"
    }
   },
   "outputs": [
    {
     "name": "stderr",
     "output_type": "stream",
     "text": [
      "Clipping input data to the valid range for imshow with RGB data ([0..1] for floats or [0..255] for integers).\n"
     ]
    },
    {
     "data": {
      "image/png": "[encoded data removed]",
      "text/plain": [
       "<Figure size 640x480 with 1 Axes>"
      ]
     },
     "metadata": {},
     "output_type": "display_data"
    }
   ],
   "source": [
    "img_t, _ = transformed_cifar10[99]\n",
    "\n",
    "plt.imshow(img_t.permute(1, 2, 0))\n",
    "plt.show()"
   ]
  },
  {
   "cell_type": "markdown",
   "id": "c5f47019",
   "metadata": {},
   "source": [
    "## 区分鸟和飞机"
   ]
  },
  {
   "cell_type": "markdown",
   "id": "339c689b",
   "metadata": {},
   "source": [
    "### 构建数据集"
   ]
  },
  {
   "cell_type": "code",
   "execution_count": 41,
   "id": "4b3311ef",
   "metadata": {
    "ExecuteTime": {
     "end_time": "2023-03-19T10:14:26.940128Z",
     "start_time": "2023-03-19T10:14:23.518952Z"
    }
   },
   "outputs": [],
   "source": [
    "label_map = {0: 0, 2: 1}\n",
    "class_names = ['airplane', 'bird'] #选取鸟和飞机的数据\n",
    "cifar2 = [(to_tensor(img), label_map[label])\n",
    "          for img, label in cifar10 \n",
    "          if label in [0, 2]]\n",
    "cifar2_val = [(to_tensor(img), label_map[label])\n",
    "              for img, label in cifar10_val\n",
    "              if label in [0, 2]]"
   ]
  },
  {
   "cell_type": "markdown",
   "id": "19085ec9",
   "metadata": {},
   "source": [
    "### 一个全连接模型"
   ]
  },
  {
   "cell_type": "markdown",
   "id": "3d28223e",
   "metadata": {},
   "source": [
    "图象只是一组在空间结构中排列的数字，理论上可以把图像像素拉成一个长的一维向量。**特征数=图像的高×图像的宽×通道数**"
   ]
  },
  {
   "cell_type": "code",
   "execution_count": 42,
   "id": "e0782b46",
   "metadata": {
    "ExecuteTime": {
     "end_time": "2023-03-19T10:14:28.594503Z",
     "start_time": "2023-03-19T10:14:28.574059Z"
    }
   },
   "outputs": [],
   "source": [
    "import torch.nn as nn\n",
    "\n",
    "n_out = 2 #二分类\n",
    "model = nn.Sequential(\n",
    "            nn.Linear(\n",
    "                3072,  # 隐藏层的大小，每个样本有32×32×3=3072个特征\n",
    "                512,   \n",
    "            ),\n",
    "            nn.Tanh(),\n",
    "            nn.Linear(\n",
    "                512,   # 隐藏层的大小\n",
    "                n_out, \n",
    "            )\n",
    "        )"
   ]
  },
  {
   "cell_type": "markdown",
   "id": "41bf66b6",
   "metadata": {},
   "source": [
    "### 分类器的输出"
   ]
  },
  {
   "cell_type": "markdown",
   "id": "66f3c01f",
   "metadata": {},
   "source": [
    "根据概率来处理问题需要对我们的网络输出施加一些额外的约束：\n",
    "- 输出的每个元素必须在[0.0,1.0]的范围内。\n",
    "- 输出的元素的总和必须为1.0。"
   ]
  },
  {
   "cell_type": "markdown",
   "id": "dc6eec4d",
   "metadata": {},
   "source": [
    "### 用概率表示输出"
   ]
  },
  {
   "cell_type": "code",
   "execution_count": 43,
   "id": "b7e6a631",
   "metadata": {
    "ExecuteTime": {
     "end_time": "2023-03-19T10:14:30.535480Z",
     "start_time": "2023-03-19T10:14:30.522486Z"
    }
   },
   "outputs": [],
   "source": [
    "#Softmax函数\n",
    "def softmax(x):\n",
    "    return torch.exp(x) / torch.exp(x).sum()"
   ]
  },
  {
   "cell_type": "code",
   "execution_count": 44,
   "id": "7e151857",
   "metadata": {
    "ExecuteTime": {
     "end_time": "2023-03-19T10:14:31.108863Z",
     "start_time": "2023-03-19T10:14:31.074941Z"
    }
   },
   "outputs": [
    {
     "data": {
      "text/plain": [
       "tensor([0.0900, 0.2447, 0.6652])"
      ]
     },
     "execution_count": 44,
     "metadata": {},
     "output_type": "execute_result"
    }
   ],
   "source": [
    "x = torch.tensor([1.0, 2.0, 3.0])\n",
    "\n",
    "softmax(x)"
   ]
  },
  {
   "cell_type": "code",
   "execution_count": 45,
   "id": "95ebfd57",
   "metadata": {
    "ExecuteTime": {
     "end_time": "2023-03-19T10:14:31.591823Z",
     "start_time": "2023-03-19T10:14:31.582848Z"
    }
   },
   "outputs": [
    {
     "data": {
      "text/plain": [
       "tensor(1.)"
      ]
     },
     "execution_count": 45,
     "metadata": {},
     "output_type": "execute_result"
    }
   ],
   "source": [
    "softmax(x).sum()"
   ]
  },
  {
   "cell_type": "markdown",
   "id": "c2ff4aa8",
   "metadata": {},
   "source": [
    "nn模块将Softmax作为一个可用的模块，nn.Softmax()要求我们指定用来编码概率的维度。"
   ]
  },
  {
   "cell_type": "code",
   "execution_count": 46,
   "id": "1b2e173c",
   "metadata": {
    "ExecuteTime": {
     "end_time": "2023-03-19T10:14:32.613855Z",
     "start_time": "2023-03-19T10:14:32.582392Z"
    }
   },
   "outputs": [
    {
     "data": {
      "text/plain": [
       "tensor([[0.0900, 0.2447, 0.6652],\n",
       "        [0.0900, 0.2447, 0.6652]])"
      ]
     },
     "execution_count": 46,
     "metadata": {},
     "output_type": "execute_result"
    }
   ],
   "source": [
    "softmax = nn.Softmax(dim=1)\n",
    "\n",
    "x = torch.tensor([[1.0, 2.0, 3.0],\n",
    "                  [1.0, 2.0, 3.0]])\n",
    "\n",
    "softmax(x)"
   ]
  },
  {
   "cell_type": "code",
   "execution_count": 47,
   "id": "d9cec4dd",
   "metadata": {
    "ExecuteTime": {
     "end_time": "2023-03-19T10:14:33.135312Z",
     "start_time": "2023-03-19T10:14:33.108905Z"
    }
   },
   "outputs": [],
   "source": [
    "#在原模型末尾加上nn.Softmax\n",
    "model = nn.Sequential(\n",
    "            nn.Linear(3072, 512),\n",
    "            nn.Tanh(),\n",
    "            nn.Linear(512, 2),\n",
    "            nn.Softmax(dim=1))"
   ]
  },
  {
   "cell_type": "code",
   "execution_count": 48,
   "id": "95d95418",
   "metadata": {
    "ExecuteTime": {
     "end_time": "2023-03-19T10:14:33.572335Z",
     "start_time": "2023-03-19T10:14:33.568379Z"
    }
   },
   "outputs": [],
   "source": [
    "imgb, _ = cifar2[0]"
   ]
  },
  {
   "cell_type": "code",
   "execution_count": 49,
   "id": "91553e33",
   "metadata": {
    "ExecuteTime": {
     "end_time": "2023-03-19T10:14:34.102958Z",
     "start_time": "2023-03-19T10:14:34.080985Z"
    }
   },
   "outputs": [
    {
     "data": {
      "text/plain": [
       "tensor([[[0.6431, 0.4118,  ..., 0.4235, 0.3569],\n",
       "         [0.6549, 0.4549,  ..., 0.4118, 0.3490],\n",
       "         ...,\n",
       "         [0.6392, 0.6000,  ..., 0.3843, 0.4980],\n",
       "         [0.7176, 0.6902,  ..., 0.3569, 0.4784]],\n",
       "\n",
       "        [[0.8078, 0.5490,  ..., 0.5765, 0.5059],\n",
       "         [0.8353, 0.6275,  ..., 0.5569, 0.4980],\n",
       "         ...,\n",
       "         [0.6157, 0.6431,  ..., 0.5804, 0.6980],\n",
       "         [0.6000, 0.7137,  ..., 0.5216, 0.6667]],\n",
       "\n",
       "        [[0.3294, 0.2392,  ..., 0.2706, 0.2235],\n",
       "         [0.3294, 0.1922,  ..., 0.2824, 0.2235],\n",
       "         ...,\n",
       "         [0.3333, 0.3216,  ..., 0.1059, 0.1882],\n",
       "         [0.4000, 0.4549,  ..., 0.1020, 0.1725]]])"
      ]
     },
     "execution_count": 49,
     "metadata": {},
     "output_type": "execute_result"
    }
   ],
   "source": [
    "imgb"
   ]
  },
  {
   "cell_type": "markdown",
   "id": "76598a8a",
   "metadata": {},
   "source": [
    "### 分类的损失"
   ]
  },
  {
   "cell_type": "markdown",
   "id": "99fb5ef8",
   "metadata": {},
   "source": [
    "nn.NLLLoss()被称为负对数似然损失函数，它显示了NLL作为预测概率的函数。"
   ]
  },
  {
   "cell_type": "markdown",
   "id": "1d471452",
   "metadata": {},
   "source": [
    "分类损失计算步骤：\n",
    "- 运行正向传播，并从最后的线性层获得输出值。\n",
    "- 计算它们的Softmax，并获得概率。\n",
    "- 取与目标类别对应的预测概率。\n",
    "- 计算它的对数，在它前面加上一个负号，再添加到损失中。"
   ]
  },
  {
   "cell_type": "markdown",
   "id": "f016a4f6",
   "metadata": {},
   "source": [
    "对于分类任务，在网络输出上使用Softmax函数产生的值满足被解释为概率的要求。在这种情况下，用Softmax的输出作为非负对数似然函数的输入，可得到理想的分类损失函数。在PyTorch中，将Softmax和这种损失的结合称为**交叉熵**。"
   ]
  },
  {
   "cell_type": "markdown",
   "id": "18fb8cb4",
   "metadata": {},
   "source": [
    "### 训练分类器"
   ]
  },
  {
   "cell_type": "code",
   "execution_count": 50,
   "id": "c1d39bb3",
   "metadata": {
    "ExecuteTime": {
     "end_time": "2023-03-19T10:16:37.170396Z",
     "start_time": "2023-03-19T10:14:36.592780Z"
    },
    "scrolled": true
   },
   "outputs": [
    {
     "name": "stdout",
     "output_type": "stream",
     "text": [
      "Epoch: 0, Loss: 0.484748\n",
      "Epoch: 1, Loss: 0.517571\n",
      "Epoch: 2, Loss: 0.403559\n",
      "Epoch: 3, Loss: 0.553917\n",
      "Epoch: 4, Loss: 0.338231\n",
      "Epoch: 5, Loss: 0.422949\n",
      "Epoch: 6, Loss: 0.448860\n",
      "Epoch: 7, Loss: 0.671955\n",
      "Epoch: 8, Loss: 0.645381\n",
      "Epoch: 9, Loss: 0.374774\n",
      "Epoch: 10, Loss: 0.393359\n",
      "Epoch: 11, Loss: 0.373423\n",
      "Epoch: 12, Loss: 0.753814\n",
      "Epoch: 13, Loss: 0.328563\n",
      "Epoch: 14, Loss: 0.306385\n",
      "Epoch: 15, Loss: 0.456247\n",
      "Epoch: 16, Loss: 0.338652\n",
      "Epoch: 17, Loss: 0.368026\n",
      "Epoch: 18, Loss: 0.357644\n",
      "Epoch: 19, Loss: 0.302873\n",
      "Epoch: 20, Loss: 0.522269\n",
      "Epoch: 21, Loss: 0.490049\n",
      "Epoch: 22, Loss: 0.575505\n",
      "Epoch: 23, Loss: 0.500384\n",
      "Epoch: 24, Loss: 0.543135\n",
      "Epoch: 25, Loss: 0.500569\n",
      "Epoch: 26, Loss: 0.493788\n",
      "Epoch: 27, Loss: 0.462509\n",
      "Epoch: 28, Loss: 0.527103\n",
      "Epoch: 29, Loss: 0.464794\n",
      "Epoch: 30, Loss: 0.565496\n",
      "Epoch: 31, Loss: 0.371412\n",
      "Epoch: 32, Loss: 0.419809\n",
      "Epoch: 33, Loss: 0.393703\n",
      "Epoch: 34, Loss: 0.394548\n",
      "Epoch: 35, Loss: 0.457351\n",
      "Epoch: 36, Loss: 0.593710\n",
      "Epoch: 37, Loss: 0.541429\n",
      "Epoch: 38, Loss: 0.395947\n",
      "Epoch: 39, Loss: 0.460318\n",
      "Epoch: 40, Loss: 0.581638\n",
      "Epoch: 41, Loss: 0.270114\n",
      "Epoch: 42, Loss: 0.250727\n",
      "Epoch: 43, Loss: 0.372103\n",
      "Epoch: 44, Loss: 0.272561\n",
      "Epoch: 45, Loss: 0.370896\n",
      "Epoch: 46, Loss: 0.204770\n",
      "Epoch: 47, Loss: 0.372399\n",
      "Epoch: 48, Loss: 0.227133\n",
      "Epoch: 49, Loss: 0.401276\n",
      "Epoch: 50, Loss: 0.468642\n",
      "Epoch: 51, Loss: 0.217317\n",
      "Epoch: 52, Loss: 0.200620\n",
      "Epoch: 53, Loss: 0.262605\n",
      "Epoch: 54, Loss: 0.295091\n",
      "Epoch: 55, Loss: 0.317940\n",
      "Epoch: 56, Loss: 0.605710\n",
      "Epoch: 57, Loss: 0.448983\n",
      "Epoch: 58, Loss: 0.275931\n",
      "Epoch: 59, Loss: 0.189254\n",
      "Epoch: 60, Loss: 0.161329\n",
      "Epoch: 61, Loss: 0.313850\n",
      "Epoch: 62, Loss: 0.381518\n",
      "Epoch: 63, Loss: 0.361121\n",
      "Epoch: 64, Loss: 0.273135\n",
      "Epoch: 65, Loss: 0.228835\n",
      "Epoch: 66, Loss: 0.771624\n",
      "Epoch: 67, Loss: 0.636856\n",
      "Epoch: 68, Loss: 0.323018\n",
      "Epoch: 69, Loss: 0.368390\n",
      "Epoch: 70, Loss: 0.327978\n",
      "Epoch: 71, Loss: 0.418269\n",
      "Epoch: 72, Loss: 0.164459\n",
      "Epoch: 73, Loss: 0.219096\n",
      "Epoch: 74, Loss: 0.301118\n",
      "Epoch: 75, Loss: 0.423136\n",
      "Epoch: 76, Loss: 0.410928\n",
      "Epoch: 77, Loss: 0.207487\n",
      "Epoch: 78, Loss: 0.429662\n",
      "Epoch: 79, Loss: 0.244771\n",
      "Epoch: 80, Loss: 0.261200\n",
      "Epoch: 81, Loss: 0.337652\n",
      "Epoch: 82, Loss: 0.323968\n",
      "Epoch: 83, Loss: 0.163619\n",
      "Epoch: 84, Loss: 0.346758\n",
      "Epoch: 85, Loss: 0.568029\n",
      "Epoch: 86, Loss: 0.238568\n",
      "Epoch: 87, Loss: 0.188993\n",
      "Epoch: 88, Loss: 0.205459\n",
      "Epoch: 89, Loss: 0.551087\n",
      "Epoch: 90, Loss: 0.204602\n",
      "Epoch: 91, Loss: 0.608265\n",
      "Epoch: 92, Loss: 0.547055\n",
      "Epoch: 93, Loss: 0.389549\n",
      "Epoch: 94, Loss: 0.388726\n",
      "Epoch: 95, Loss: 0.412005\n",
      "Epoch: 96, Loss: 0.200653\n",
      "Epoch: 97, Loss: 0.221977\n",
      "Epoch: 98, Loss: 0.574929\n",
      "Epoch: 99, Loss: 0.234493\n"
     ]
    }
   ],
   "source": [
    "import torch\n",
    "import torch.nn as nn\n",
    "import torch.optim as optim\n",
    "\n",
    "train_loader = torch.utils.data.DataLoader(cifar2, batch_size=64,\n",
    "                                           shuffle=True)\n",
    "\n",
    "model = nn.Sequential(\n",
    "            nn.Linear(3072, 512),\n",
    "            nn.Tanh(),\n",
    "            nn.Linear(512, 2),\n",
    "            nn.LogSoftmax(dim=1))\n",
    "\n",
    "learning_rate = 1e-2\n",
    "\n",
    "optimizer = optim.SGD(model.parameters(), lr=learning_rate)\n",
    "\n",
    "loss_fn = nn.NLLLoss()\n",
    "\n",
    "n_epochs = 100\n",
    "\n",
    "for epoch in range(n_epochs):\n",
    "    for imgs, labels in train_loader:\n",
    "        outputs = model(imgs.view(imgs.shape[0], -1)) #64行特征列\n",
    "        loss = loss_fn(outputs, labels)\n",
    "\n",
    "        optimizer.zero_grad()#在做反向传播之前先清除下网络状态\n",
    "        loss.backward()#loss反向传播\n",
    "        optimizer.step()#更新参数\n",
    "\n",
    "    print(\"Epoch: %d, Loss: %f\" % (epoch, float(loss)))"
   ]
  },
  {
   "cell_type": "markdown",
   "id": "390f2e5f",
   "metadata": {},
   "source": [
    "torch.utils.data模块有一个**DataLoader**类，该类有助于打乱数据和组织数据，数据集加载器的工作是从数据集中采样小批量，这使我们能够灵活的选择不同的采样策略。"
   ]
  },
  {
   "cell_type": "markdown",
   "id": "4a98b430",
   "metadata": {},
   "source": [
    "DataLoader()函数至少接受一个数据集对象作为输入，以及batch_size和shuffle布尔值，该布尔值指示数据是否需要在每个迭代周期开始时被重新打乱。"
   ]
  },
  {
   "cell_type": "code",
   "execution_count": 51,
   "id": "02e12440",
   "metadata": {
    "ExecuteTime": {
     "end_time": "2023-03-19T10:17:01.478396Z",
     "start_time": "2023-03-19T10:17:01.082718Z"
    }
   },
   "outputs": [
    {
     "name": "stdout",
     "output_type": "stream",
     "text": [
      "Accuracy: 0.848500\n"
     ]
    }
   ],
   "source": [
    "train_loader = torch.utils.data.DataLoader(cifar2, batch_size=64,\n",
    "                                           shuffle=False)\n",
    "\n",
    "correct = 0\n",
    "total = 0\n",
    "\n",
    "with torch.no_grad():\n",
    "    for imgs, labels in train_loader:\n",
    "        outputs = model(imgs.view(imgs.shape[0], -1))\n",
    "        _, predicted = torch.max(outputs, dim=1)\n",
    "        total += labels.shape[0]\n",
    "        correct += int((predicted == labels).sum())\n",
    "        \n",
    "print(\"Accuracy: %f\" % (correct / total))"
   ]
  },
  {
   "cell_type": "code",
   "execution_count": 52,
   "id": "3e4873e0",
   "metadata": {
    "ExecuteTime": {
     "end_time": "2022-10-01T06:00:59.970781Z",
     "start_time": "2022-10-01T05:56:04.961990Z"
    },
    "scrolled": true
   },
   "outputs": [
    {
     "name": "stdout",
     "output_type": "stream",
     "text": [
      "Epoch: 0, Loss: 0.598484\n",
      "Epoch: 1, Loss: 0.388315\n",
      "Epoch: 2, Loss: 0.622152\n",
      "Epoch: 3, Loss: 0.778148\n",
      "Epoch: 4, Loss: 0.437636\n",
      "Epoch: 5, Loss: 0.364789\n",
      "Epoch: 6, Loss: 0.435244\n",
      "Epoch: 7, Loss: 0.439877\n",
      "Epoch: 8, Loss: 0.409726\n",
      "Epoch: 9, Loss: 0.624501\n",
      "Epoch: 10, Loss: 0.346708\n",
      "Epoch: 11, Loss: 0.540288\n",
      "Epoch: 12, Loss: 0.436759\n",
      "Epoch: 13, Loss: 0.303287\n",
      "Epoch: 14, Loss: 0.345228\n",
      "Epoch: 15, Loss: 0.524195\n",
      "Epoch: 16, Loss: 0.364837\n",
      "Epoch: 17, Loss: 0.421539\n",
      "Epoch: 18, Loss: 0.386156\n",
      "Epoch: 19, Loss: 0.307443\n",
      "Epoch: 20, Loss: 0.525961\n",
      "Epoch: 21, Loss: 0.286393\n",
      "Epoch: 22, Loss: 0.632678\n",
      "Epoch: 23, Loss: 0.308045\n",
      "Epoch: 24, Loss: 0.440701\n",
      "Epoch: 25, Loss: 0.317506\n",
      "Epoch: 26, Loss: 0.347066\n",
      "Epoch: 27, Loss: 0.506961\n",
      "Epoch: 28, Loss: 0.381714\n",
      "Epoch: 29, Loss: 0.135010\n",
      "Epoch: 30, Loss: 0.338770\n",
      "Epoch: 31, Loss: 0.354530\n",
      "Epoch: 32, Loss: 0.441514\n",
      "Epoch: 33, Loss: 0.771696\n",
      "Epoch: 34, Loss: 0.357345\n",
      "Epoch: 35, Loss: 0.418567\n",
      "Epoch: 36, Loss: 0.390595\n",
      "Epoch: 37, Loss: 0.452829\n",
      "Epoch: 38, Loss: 0.932049\n",
      "Epoch: 39, Loss: 0.377796\n",
      "Epoch: 40, Loss: 0.334737\n",
      "Epoch: 41, Loss: 0.970087\n",
      "Epoch: 42, Loss: 0.571520\n",
      "Epoch: 43, Loss: 0.509887\n",
      "Epoch: 44, Loss: 0.415887\n",
      "Epoch: 45, Loss: 0.297377\n",
      "Epoch: 46, Loss: 0.408542\n",
      "Epoch: 47, Loss: 0.344343\n",
      "Epoch: 48, Loss: 0.348354\n",
      "Epoch: 49, Loss: 0.541801\n",
      "Epoch: 50, Loss: 0.408922\n",
      "Epoch: 51, Loss: 0.600994\n",
      "Epoch: 52, Loss: 0.576275\n",
      "Epoch: 53, Loss: 0.446022\n",
      "Epoch: 54, Loss: 0.281039\n",
      "Epoch: 55, Loss: 0.446727\n",
      "Epoch: 56, Loss: 0.367217\n",
      "Epoch: 57, Loss: 0.329425\n",
      "Epoch: 58, Loss: 0.319638\n",
      "Epoch: 59, Loss: 0.654000\n",
      "Epoch: 60, Loss: 0.199771\n",
      "Epoch: 61, Loss: 0.565220\n",
      "Epoch: 62, Loss: 0.431006\n",
      "Epoch: 63, Loss: 0.327406\n",
      "Epoch: 64, Loss: 0.245195\n",
      "Epoch: 65, Loss: 0.258539\n",
      "Epoch: 66, Loss: 0.254659\n",
      "Epoch: 67, Loss: 0.408249\n",
      "Epoch: 68, Loss: 0.524746\n",
      "Epoch: 69, Loss: 0.225280\n",
      "Epoch: 70, Loss: 0.136007\n",
      "Epoch: 71, Loss: 0.375587\n",
      "Epoch: 72, Loss: 0.264285\n",
      "Epoch: 73, Loss: 0.353440\n",
      "Epoch: 74, Loss: 0.319819\n",
      "Epoch: 75, Loss: 0.278511\n",
      "Epoch: 76, Loss: 0.407028\n",
      "Epoch: 77, Loss: 0.465997\n",
      "Epoch: 78, Loss: 0.436203\n",
      "Epoch: 79, Loss: 0.178329\n",
      "Epoch: 80, Loss: 0.471594\n",
      "Epoch: 81, Loss: 0.582279\n",
      "Epoch: 82, Loss: 0.290831\n",
      "Epoch: 83, Loss: 0.273371\n",
      "Epoch: 84, Loss: 0.160984\n",
      "Epoch: 85, Loss: 0.372713\n",
      "Epoch: 86, Loss: 0.103893\n",
      "Epoch: 87, Loss: 0.636399\n",
      "Epoch: 88, Loss: 0.142637\n",
      "Epoch: 89, Loss: 0.425239\n",
      "Epoch: 90, Loss: 0.458270\n",
      "Epoch: 91, Loss: 0.206364\n",
      "Epoch: 92, Loss: 0.293903\n",
      "Epoch: 93, Loss: 0.357543\n",
      "Epoch: 94, Loss: 0.996158\n",
      "Epoch: 95, Loss: 0.207234\n",
      "Epoch: 96, Loss: 0.226226\n",
      "Epoch: 97, Loss: 0.366702\n",
      "Epoch: 98, Loss: 0.105500\n",
      "Epoch: 99, Loss: 0.343117\n"
     ]
    }
   ],
   "source": [
    "import torch\n",
    "import torch.nn as nn\n",
    "import torch.optim as optim\n",
    "\n",
    "train_loader = torch.utils.data.DataLoader(cifar2, batch_size=64,\n",
    "                                           shuffle=True)\n",
    "\n",
    "model = nn.Sequential(\n",
    "            nn.Linear(3072, 1024),\n",
    "            nn.Tanh(),\n",
    "            nn.Linear(1024, 512),\n",
    "            nn.Tanh(),\n",
    "            nn.Linear(512, 128),\n",
    "            nn.Tanh(),\n",
    "            nn.Linear(128, 2))\n",
    "\n",
    "learning_rate = 1e-2\n",
    "\n",
    "optimizer = optim.SGD(model.parameters(), lr=learning_rate)\n",
    "\n",
    "loss_fn = nn.CrossEntropyLoss() #交叉熵损失函数\n",
    "\n",
    "n_epochs = 100\n",
    "\n",
    "for epoch in range(n_epochs):\n",
    "    for imgs, labels in train_loader:\n",
    "        outputs = model(imgs.view(imgs.shape[0], -1))\n",
    "        loss = loss_fn(outputs, labels)\n",
    "\n",
    "        optimizer.zero_grad()\n",
    "        loss.backward()\n",
    "        optimizer.step()\n",
    "\n",
    "    print(\"Epoch: %d, Loss: %f\" % (epoch, float(loss)))"
   ]
  },
  {
   "cell_type": "code",
   "execution_count": 53,
   "id": "6174ea42",
   "metadata": {
    "ExecuteTime": {
     "end_time": "2022-10-01T06:01:00.906765Z",
     "start_time": "2022-10-01T06:00:59.974771Z"
    }
   },
   "outputs": [
    {
     "name": "stdout",
     "output_type": "stream",
     "text": [
      "Accuracy: 0.844800\n"
     ]
    }
   ],
   "source": [
    "#训练集精度\n",
    "train_loader = torch.utils.data.DataLoader(cifar2, batch_size=64,\n",
    "                                           shuffle=False)\n",
    "\n",
    "correct = 0\n",
    "total = 0\n",
    "\n",
    "with torch.no_grad():\n",
    "    for imgs, labels in train_loader:\n",
    "        outputs = model(imgs.view(imgs.shape[0], -1))\n",
    "        _, predicted = torch.max(outputs, dim=1)\n",
    "        total += labels.shape[0]\n",
    "        correct += int((predicted == labels).sum())\n",
    "        \n",
    "print(\"Accuracy: %f\" % (correct / total))"
   ]
  },
  {
   "cell_type": "code",
   "execution_count": 54,
   "id": "fe78e4fd",
   "metadata": {
    "ExecuteTime": {
     "end_time": "2022-10-01T06:01:00.922528Z",
     "start_time": "2022-10-01T06:01:00.910813Z"
    }
   },
   "outputs": [
    {
     "data": {
      "text/plain": [
       "3737474"
      ]
     },
     "execution_count": 54,
     "metadata": {},
     "output_type": "execute_result"
    }
   ],
   "source": [
    "sum([p.numel() for p in model.parameters()]) #确定模型中参数的数量"
   ]
  },
  {
   "cell_type": "markdown",
   "id": "65e5448c",
   "metadata": {},
   "source": [
    "# 使用卷积进行泛化"
   ]
  },
  {
   "cell_type": "markdown",
   "id": "6d352f1d",
   "metadata": {},
   "source": [
    "## 卷积介绍"
   ]
  },
  {
   "cell_type": "markdown",
   "id": "1c389b03",
   "metadata": {},
   "source": [
    "卷积神经网络（convolutional neural network, CNN）是一种专门用来处理具有类似网格结构的数据的神经网络。 \n",
    "- 卷积神经网络中一个典型层包含三级。在第一级中，这一层并行的计算多个卷积产生一组线性激活响应，即$w*x+b$（仿射变换）。在第二级中，每个线性激活响应将会通过一个非线性的激活函数（activate function）。在第三级中，使用池化函数（pooling function）来进一步调整这一层的输出。\n",
    "- 卷积的运算通常用星号表示：$(x*w)(t)$。卷积的第一个参数通常叫做**输入**，即f；第二个参数叫做**核函数(卷积核)**,即w；输出有时被称为**特征映射**。\n",
    "- 卷积的意义：输入和核函数的加权叠加（标量积）。\n",
    "- 池化函数使用某一位置的相邻输出的总体特征来代替网络在该位置的输出（最大池化、平均池化等）。\n",
    "- 当输入做出少量平移时，池化能够帮助输入的表示近似不变。**平移不变性**是指当我们对输入进行少量平移（卷积过程）时，经过池化函数后的大多数输出并不会发生变化。\n",
    "- 经过卷积神经网络训练后，我们得到以下特征：1、邻域的局部操作（平移）；2、平移不变性；3、模型的参数大幅减少。"
   ]
  },
  {
   "cell_type": "markdown",
   "id": "74bee789",
   "metadata": {},
   "source": [
    "卷积神经网络的工作是估计连续层中的一组滤波器的卷积核，这些滤波器将把一个多通道图像转换成另一个多通道图像，其中不同的通道对应不同的特征，例如一个通道代表平均值，一个通道代表垂直边缘。"
   ]
  },
  {
   "cell_type": "markdown",
   "id": "ebfe9a1d",
   "metadata": {},
   "source": [
    "## 卷积实战"
   ]
  },
  {
   "cell_type": "markdown",
   "id": "9b05411d",
   "metadata": {},
   "source": [
    "PyTorch中torch.nn模块提供一维、二维和三维的卷积，其中nn.Conv1d用于时间序列，nn.Conv2d用于图像，nn.Conv3d用于体数据和视频。"
   ]
  },
  {
   "cell_type": "markdown",
   "id": "3c601e3d",
   "metadata": {},
   "source": [
    "nn.Conv2d的参数至少包括输入特征（通道）的数量、输出特征的数量以及核的大小等。卷积核各个方向的大小都是相同的，因此指定kernel_size=3时，即表示卷积核的大小为3×3。"
   ]
  },
  {
   "cell_type": "code",
   "execution_count": 28,
   "id": "75758907",
   "metadata": {
    "ExecuteTime": {
     "end_time": "2022-10-02T08:54:11.101497Z",
     "start_time": "2022-10-02T08:54:11.075391Z"
    }
   },
   "outputs": [
    {
     "data": {
      "text/plain": [
       "Conv2d(3, 16, kernel_size=(3, 3), stride=(1, 1))"
      ]
     },
     "execution_count": 28,
     "metadata": {},
     "output_type": "execute_result"
    }
   ],
   "source": [
    "conv = nn.Conv2d(3, 16, kernel_size=3) \n",
    "conv "
   ]
  },
  {
   "cell_type": "markdown",
   "id": "685df50d",
   "metadata": {},
   "source": [
    "### 填充边界"
   ]
  },
  {
   "cell_type": "markdown",
   "id": "6fa6303e",
   "metadata": {},
   "source": [
    "输出的宽度和高度可能与输入的宽度和高度不同，不同的原因可能是：\n",
    "- 边界效应，一般情况下，当使用奇数卷积核时，输出比输入每个维度都少2个像素；使用偶数卷积核时，情况较为复杂，因此为了保证输出和输入维度相同，默认选择奇数卷积核。\n",
    "- Pytorch提供了一种填充图像的可能性，通过在边界周围创建重影像素来填充图像，就卷积而言，这些重影像素的值为0.指定padding=1来填充。"
   ]
  },
  {
   "cell_type": "code",
   "execution_count": 29,
   "id": "53ebc264",
   "metadata": {
    "ExecuteTime": {
     "end_time": "2022-10-02T08:54:14.514674Z",
     "start_time": "2022-10-02T08:54:14.499489Z"
    }
   },
   "outputs": [
    {
     "data": {
      "text/plain": [
       "Conv2d(3, 1, kernel_size=(3, 3), stride=(1, 1), padding=(1, 1))"
      ]
     },
     "execution_count": 29,
     "metadata": {},
     "output_type": "execute_result"
    }
   ],
   "source": [
    "conv = nn.Conv2d(3, 1, kernel_size=3, padding=1)\n",
    "conv"
   ]
  },
  {
   "cell_type": "code",
   "execution_count": 33,
   "id": "6d54f731",
   "metadata": {
    "ExecuteTime": {
     "end_time": "2022-10-02T08:58:42.033822Z",
     "start_time": "2022-10-02T08:58:42.018321Z"
    }
   },
   "outputs": [
    {
     "data": {
      "text/plain": [
       "(torch.Size([1, 3, 32, 32]), torch.Size([1, 1, 32, 32]))"
      ]
     },
     "execution_count": 33,
     "metadata": {},
     "output_type": "execute_result"
    }
   ],
   "source": [
    "img, _ = cifar2[0]\n",
    "\n",
    "output = conv(img.unsqueeze(0))\n",
    "img.unsqueeze(0).shape, output.shape #输入维度和输出维度"
   ]
  },
  {
   "cell_type": "markdown",
   "id": "079a3bed",
   "metadata": {},
   "source": [
    "### 用卷积检测特征"
   ]
  },
  {
   "cell_type": "code",
   "execution_count": 34,
   "id": "b2b249af",
   "metadata": {
    "ExecuteTime": {
     "end_time": "2022-10-02T09:12:46.040692Z",
     "start_time": "2022-10-02T09:12:46.021743Z"
    }
   },
   "outputs": [],
   "source": [
    "#初始化偏置和权重\n",
    "with torch.no_grad():\n",
    "    conv.bias.zero_()\n",
    "with torch.no_grad():\n",
    "    conv.weight.fill_(1.0 / 9.0)"
   ]
  },
  {
   "cell_type": "code",
   "execution_count": 35,
   "id": "0a521b91",
   "metadata": {
    "ExecuteTime": {
     "end_time": "2022-10-02T09:13:21.429948Z",
     "start_time": "2022-10-02T09:13:21.202284Z"
    }
   },
   "outputs": [
    {
     "data": {
      "image/png": "[encoded data removed]",
      "text/plain": [
       "<Figure size 640x480 with 1 Axes>"
      ]
     },
     "metadata": {},
     "output_type": "display_data"
    }
   ],
   "source": [
    "output = conv(img.unsqueeze(0))\n",
    "plt.imshow(output[0, 0].detach(), cmap='gray')\n",
    "plt.show() #输入"
   ]
  },
  {
   "cell_type": "code",
   "execution_count": 36,
   "id": "be2c494f",
   "metadata": {
    "ExecuteTime": {
     "end_time": "2022-10-02T09:13:52.423125Z",
     "start_time": "2022-10-02T09:13:52.402278Z"
    }
   },
   "outputs": [],
   "source": [
    "conv = nn.Conv2d(3, 1, kernel_size=3, padding=1)\n",
    "\n",
    "with torch.no_grad():\n",
    "    conv.weight[:] = torch.tensor([[-1.0, 0.0, 1.0],\n",
    "                                   [-1.0, 0.0, 1.0],\n",
    "                                   [-1.0, 0.0, 1.0]])\n",
    "    conv.bias.zero_()"
   ]
  },
  {
   "cell_type": "code",
   "execution_count": 37,
   "id": "5c5a441a",
   "metadata": {
    "ExecuteTime": {
     "end_time": "2022-10-02T09:14:01.944622Z",
     "start_time": "2022-10-02T09:14:01.720540Z"
    }
   },
   "outputs": [
    {
     "data": {
      "image/png": "[encoded data removed]",
      "text/plain": [
       "<Figure size 640x480 with 1 Axes>"
      ]
     },
     "metadata": {},
     "output_type": "display_data"
    }
   ],
   "source": [
    "output = conv(img.unsqueeze(0))\n",
    "plt.imshow(output[0, 0].detach(), cmap='gray')\n",
    "plt.show() #输出"
   ]
  },
  {
   "cell_type": "markdown",
   "id": "0b5b1daa",
   "metadata": {},
   "source": [
    "### 使用深度和池化技术进一步研究"
   ]
  },
  {
   "cell_type": "markdown",
   "id": "3bcbcea8",
   "metadata": {},
   "source": [
    "#### 从大到小：下采样"
   ]
  },
  {
   "cell_type": "markdown",
   "id": "3753f318",
   "metadata": {},
   "source": [
    "下采样如果将图像缩放一半相当于取4个相邻的像素作为输入，产生一个像素作为输出，可选择的操作：\n",
    "- 取4个像素的平均值，现在已经不受欢迎。\n",
    "- 取4个像素的最大值，这种方法称为最大池化（max pooling）。取不重叠的2×2个分片，并将每个分片上的最大值作为缩小后的新像素。\n",
    "- 使用带有步长的卷积。"
   ]
  },
  {
   "cell_type": "markdown",
   "id": "c025504d",
   "metadata": {},
   "source": [
    "最大池化由nn.MaxPool2d模块提供，如果想把图像缩小一半，让核大小为2."
   ]
  },
  {
   "cell_type": "code",
   "execution_count": 38,
   "id": "7875fc0b",
   "metadata": {
    "ExecuteTime": {
     "end_time": "2022-10-02T09:42:32.654290Z",
     "start_time": "2022-10-02T09:42:32.647308Z"
    }
   },
   "outputs": [],
   "source": [
    "pool = nn.MaxPool2d(2)"
   ]
  },
  {
   "cell_type": "code",
   "execution_count": 39,
   "id": "6c025f90",
   "metadata": {
    "ExecuteTime": {
     "end_time": "2022-10-02T09:43:07.336015Z",
     "start_time": "2022-10-02T09:43:07.287667Z"
    }
   },
   "outputs": [
    {
     "data": {
      "text/plain": [
       "torch.Size([1, 3, 16, 16])"
      ]
     },
     "execution_count": 39,
     "metadata": {},
     "output_type": "execute_result"
    }
   ],
   "source": [
    "output = pool(img.unsqueeze(0))\n",
    "\n",
    "output.shape"
   ]
  },
  {
   "cell_type": "markdown",
   "id": "c5564c80",
   "metadata": {},
   "source": [
    "#### 将卷积和下采样结合起来效果很好"
   ]
  },
  {
   "cell_type": "markdown",
   "id": "6142618e",
   "metadata": {},
   "source": [
    "### 为我们的网络整合一切"
   ]
  },
  {
   "cell_type": "raw",
   "id": "4ac8171d",
   "metadata": {},
   "source": [
    "model = nn.Sequential(\n",
    "            nn.Conv2d(3, 16, kernel_size=3, padding=1),\n",
    "            nn.Tanh(),\n",
    "            nn.MaxPool2d(2),\n",
    "            nn.Conv2d(16, 8, kernel_size=3, padding=1),\n",
    "            nn.Tanh(),\n",
    "            nn.MaxPool2d(2),\n",
    "            # WARNING: something missing here\n",
    "            nn.Linear(512, 32),\n",
    "            nn.Tanh(),\n",
    "            nn.Linear(32, 2))"
   ]
  },
  {
   "cell_type": "markdown",
   "id": "11cc61fe",
   "metadata": {},
   "source": [
    "## 子类化nn.Module"
   ]
  },
  {
   "cell_type": "markdown",
   "id": "6e59cf0e",
   "metadata": {},
   "source": [
    "当我们需要使用一些预设模块没有的东西，就需要放弃nn.Sequential运算带来的灵活性，PyTorch允许我们在模型中通过子类化nn.Module来进行任何运算。  \n",
    "为了子类化nn.Module，我们至少需要定义一个forward()方法，该方法接收模块的输入并返回输出。  \n",
    "通常情况下，运算将使用其他模块，为了包含这些子模块，我们通常在构造函数\\__init__()中定义它们，并将它们赋给self以便在forward()方法中使用。"
   ]
  },
  {
   "cell_type": "markdown",
   "id": "bbd9848e",
   "metadata": {},
   "source": [
    "### 将我们的网络作为一个nn.Module"
   ]
  },
  {
   "cell_type": "code",
   "execution_count": 40,
   "id": "33eee270",
   "metadata": {
    "ExecuteTime": {
     "end_time": "2022-10-02T11:14:27.516585Z",
     "start_time": "2022-10-02T11:14:27.497541Z"
    }
   },
   "outputs": [],
   "source": [
    "#编写子模块，Net相当于我们之前用子模块构建的nn.Sequential，但是是通过显式地编写forward()方法\n",
    "class Net(nn.Module):\n",
    "    def __init__(self):\n",
    "        super(Net, self).__init__()\n",
    "        self.conv1 = nn.Conv2d(3, 16, kernel_size=3, padding=1)\n",
    "        self.act1 = nn.Tanh()\n",
    "        self.pool1 = nn.MaxPool2d(2)\n",
    "        self.conv2 = nn.Conv2d(16, 8, kernel_size=3, padding=1)\n",
    "        self.act2 = nn.Tanh()\n",
    "        self.pool2 = nn.MaxPool2d(2)\n",
    "        self.fc1 = nn.Linear(8 * 8 * 8, 32)\n",
    "        self.act4 = nn.Tanh()\n",
    "        self.fc2 = nn.Linear(32, 2)\n",
    "\n",
    "    def forward(self, x):\n",
    "        out = self.pool1(self.act1(self.conv1(x)))\n",
    "        out = self.pool2(self.act2(self.conv2(out)))\n",
    "        out = out.view(-1, 8 * 8 * 8) #转换成样本数×特征数\n",
    "        out = self.act4(self.fc1(out))\n",
    "        out = self.fc2(out)\n",
    "        return out"
   ]
  },
  {
   "cell_type": "markdown",
   "id": "b2786cd4",
   "metadata": {},
   "source": [
    "### PyTorch如何跟踪参数和子模块"
   ]
  },
  {
   "cell_type": "markdown",
   "id": "2a549919",
   "metadata": {},
   "source": [
    "我们可以调用nn.Module子类的任意方法。子模块必须是顶级属性，对于子模块需要列表和字典的情况，PyTorch提供nn.ModuleList和nn.ModuleDict。"
   ]
  },
  {
   "cell_type": "code",
   "execution_count": 42,
   "id": "f8f27213",
   "metadata": {
    "ExecuteTime": {
     "end_time": "2022-10-02T11:23:53.777873Z",
     "start_time": "2022-10-02T11:23:53.765223Z"
    }
   },
   "outputs": [
    {
     "data": {
      "text/plain": [
       "(18090, [432, 16, 1152, 8, 16384, 32, 64, 2])"
      ]
     },
     "execution_count": 42,
     "metadata": {},
     "output_type": "execute_result"
    }
   ],
   "source": [
    "model = Net()\n",
    "\n",
    "numel_list = [p.numel() for p in model.parameters()]\n",
    "sum(numel_list), numel_list"
   ]
  },
  {
   "cell_type": "markdown",
   "id": "c531d9e6",
   "metadata": {},
   "source": [
    "### 函数式API"
   ]
  },
  {
   "cell_type": "markdown",
   "id": "6555a05c",
   "metadata": {},
   "source": [
    "PyTorch对于每个nn模块都有对应的函数式API。这里的函数式指的是没有内部状态，换句话说，其输出值取决于输出参数的值。**torch.nn.functionl**提供了许多与nn中的模块类似的函数，他们将输入和参数作为函数调用的实参。"
   ]
  },
  {
   "cell_type": "code",
   "execution_count": 43,
   "id": "c902b77a",
   "metadata": {
    "ExecuteTime": {
     "end_time": "2022-10-02T11:35:08.824371Z",
     "start_time": "2022-10-02T11:35:08.802473Z"
    }
   },
   "outputs": [],
   "source": [
    "import torch.nn.functional as F\n",
    "\n",
    "class Net(nn.Module):\n",
    "    def __init__(self):\n",
    "        super(Net, self).__init__()\n",
    "        self.conv1 = nn.Conv2d(3, 16, kernel_size=3, padding=1)\n",
    "        self.conv2 = nn.Conv2d(16, 8, kernel_size=3, padding=1)\n",
    "        self.fc1 = nn.Linear(8 * 8 * 8, 32)\n",
    "        self.fc2 = nn.Linear(32, 2)\n",
    "        \n",
    "    def forward(self, x):\n",
    "        out = F.max_pool2d(torch.tanh(self.conv1(x)), 2)\n",
    "        out = F.max_pool2d(torch.tanh(self.conv2(out)), 2)\n",
    "        out = out.view(-1, 8 * 8 * 8)\n",
    "        out = torch.tanh(self.fc1(out))\n",
    "        out = self.fc2(out)\n",
    "        return out"
   ]
  },
  {
   "cell_type": "code",
   "execution_count": 44,
   "id": "40ae91ea",
   "metadata": {
    "ExecuteTime": {
     "end_time": "2022-10-02T11:37:06.777815Z",
     "start_time": "2022-10-02T11:37:06.742910Z"
    }
   },
   "outputs": [
    {
     "data": {
      "text/plain": [
       "tensor([[ 0.1130, -0.1188]], grad_fn=<AddmmBackward0>)"
      ]
     },
     "execution_count": 44,
     "metadata": {},
     "output_type": "execute_result"
    }
   ],
   "source": [
    "model = Net()\n",
    "model(img.unsqueeze(0))"
   ]
  },
  {
   "cell_type": "markdown",
   "id": "5d353129",
   "metadata": {},
   "source": [
    "## 训练我们的convnet"
   ]
  },
  {
   "cell_type": "markdown",
   "id": "630b19ec",
   "metadata": {},
   "source": [
    "卷积神经网络的核心是2个嵌套的循环：一个是跨迭代周期的外部循环，另一个是从数据集生成批次的DataLoader的内部循环。在每个循环中，我们必须这么做：\n",
    "- 通过模型提供输入（正向传播）\n",
    "- 计算损失（正向传播）\n",
    "- 将先前的梯度都归零\n",
    "- 调用loss.backward()来计算损失相对于所有参数的梯度（反向传播）\n",
    "- 让优化器朝着更低的损失迈进"
   ]
  },
  {
   "cell_type": "code",
   "execution_count": 45,
   "id": "ef45a741",
   "metadata": {
    "ExecuteTime": {
     "end_time": "2022-10-02T12:00:12.973974Z",
     "start_time": "2022-10-02T12:00:12.961970Z"
    }
   },
   "outputs": [],
   "source": [
    "import datetime  # 计算时间\n",
    "\n",
    "def training_loop(n_epochs, optimizer, model, loss_fn, train_loader):\n",
    "    for epoch in range(1, n_epochs + 1):  # 训练周期\n",
    "        loss_train = 0.0\n",
    "        for imgs, labels in train_loader:  # 批次循环\n",
    "            outputs = model(imgs)  # 提供一个批次给模型\n",
    "            loss = loss_fn(outputs, labels)  # 计算损失\n",
    "            optimizer.zero_grad()  # 梯度归零\n",
    "            loss.backward()  # 计算所有参数的梯度\n",
    "            optimizer.step()  # 更新模型\n",
    "            loss_train += loss.item()  # 损失求和\n",
    "\n",
    "        if epoch == 1 or epoch % 10 == 0:\n",
    "            print('{} Epoch {}, Training loss {}'.format(\n",
    "                datetime.datetime.now(), epoch,\n",
    "                loss_train / len(train_loader)))  # 每批平均损失"
   ]
  },
  {
   "cell_type": "code",
   "execution_count": 47,
   "id": "15b62463",
   "metadata": {
    "ExecuteTime": {
     "end_time": "2022-10-02T12:12:09.252805Z",
     "start_time": "2022-10-02T12:07:18.648210Z"
    }
   },
   "outputs": [
    {
     "name": "stdout",
     "output_type": "stream",
     "text": [
      "2022-10-02 20:07:22.081871 Epoch 1, Training loss 0.6809491701186843\n",
      "2022-10-02 20:07:46.579690 Epoch 10, Training loss 0.4658014174479588\n",
      "2022-10-02 20:08:14.408371 Epoch 20, Training loss 0.3575739462853997\n",
      "2022-10-02 20:08:42.368193 Epoch 30, Training loss 0.3246490302359223\n",
      "2022-10-02 20:09:12.099251 Epoch 40, Training loss 0.3065696262819752\n",
      "2022-10-02 20:09:41.370315 Epoch 50, Training loss 0.2927452211926697\n",
      "2022-10-02 20:10:11.553489 Epoch 60, Training loss 0.27818662250877185\n",
      "2022-10-02 20:10:40.171247 Epoch 70, Training loss 0.2647699763061135\n",
      "2022-10-02 20:11:09.594019 Epoch 80, Training loss 0.2523608844561182\n",
      "2022-10-02 20:11:38.686304 Epoch 90, Training loss 0.23948049671046293\n",
      "2022-10-02 20:12:09.237389 Epoch 100, Training loss 0.23121479229562603\n"
     ]
    }
   ],
   "source": [
    "train_loader = torch.utils.data.DataLoader(cifar2, batch_size=64,\n",
    "                                           shuffle=True)  # 数据加载器\n",
    "\n",
    "model = Net()  #  nn.Module的一个子类\n",
    "optimizer = optim.SGD(model.parameters(), lr=1e-2)  #  随机梯度下降优化器\n",
    "loss_fn = nn.CrossEntropyLoss()  #  交叉熵损失\n",
    "\n",
    "training_loop(  \n",
    "    n_epochs = 100,\n",
    "    optimizer = optimizer,\n",
    "    model = model,\n",
    "    loss_fn = loss_fn,\n",
    "    train_loader = train_loader,\n",
    ")"
   ]
  },
  {
   "cell_type": "markdown",
   "id": "e8bb9392",
   "metadata": {},
   "source": [
    "### 测量准确率"
   ]
  },
  {
   "cell_type": "code",
   "execution_count": 48,
   "id": "400bb0c9",
   "metadata": {
    "ExecuteTime": {
     "end_time": "2022-10-02T12:13:57.725311Z",
     "start_time": "2022-10-02T12:13:55.757031Z"
    }
   },
   "outputs": [
    {
     "name": "stdout",
     "output_type": "stream",
     "text": [
      "Accuracy train: 0.90\n",
      "Accuracy val: 0.88\n"
     ]
    }
   ],
   "source": [
    "#模型在训练集和验证集上的准确率\n",
    "train_loader = torch.utils.data.DataLoader(cifar2, batch_size=64,\n",
    "                                           shuffle=False)\n",
    "val_loader = torch.utils.data.DataLoader(cifar2_val, batch_size=64,\n",
    "                                         shuffle=False)\n",
    "\n",
    "def validate(model, train_loader, val_loader):\n",
    "    for name, loader in [(\"train\", train_loader), (\"val\", val_loader)]:\n",
    "        correct = 0\n",
    "        total = 0\n",
    "\n",
    "        with torch.no_grad():  # 验证时不需要计算梯度\n",
    "            for imgs, labels in loader:\n",
    "                outputs = model(imgs)\n",
    "                _, predicted = torch.max(outputs, dim=1) # 将最大值的索引作为输出\n",
    "                total += labels.shape[0]  # 计算样本数\n",
    "                correct += int((predicted == labels).sum())  # 预测正确的数量\n",
    "\n",
    "        print(\"Accuracy {}: {:.2f}\".format(name , correct / total))\n",
    "\n",
    "validate(model, train_loader, val_loader)"
   ]
  },
  {
   "cell_type": "markdown",
   "id": "42fde87b",
   "metadata": {},
   "source": [
    "### 保存并加载我们的模型"
   ]
  },
  {
   "cell_type": "code",
   "execution_count": 56,
   "id": "2b3e1e99",
   "metadata": {
    "ExecuteTime": {
     "end_time": "2022-10-02T12:23:11.880586Z",
     "start_time": "2022-10-02T12:23:11.861603Z"
    }
   },
   "outputs": [],
   "source": [
    "data_path = '../../../../data/python/model/'\n",
    "torch.save(model.state_dict(), data_path + 'birds_vs_airplanes.pt')"
   ]
  },
  {
   "cell_type": "markdown",
   "id": "c6f400f0",
   "metadata": {},
   "source": [
    "现在birds_vs_airplanes.pt文件中包含模型的所有参数：即2个卷积模块和2个线性模块的权重和偏置。因此，模型没有结构，只有权重。"
   ]
  },
  {
   "cell_type": "code",
   "execution_count": 57,
   "id": "c1c3f7d3",
   "metadata": {
    "ExecuteTime": {
     "end_time": "2022-10-02T12:24:40.297062Z",
     "start_time": "2022-10-02T12:24:40.263433Z"
    }
   },
   "outputs": [
    {
     "data": {
      "text/plain": [
       "<All keys matched successfully>"
      ]
     },
     "execution_count": 57,
     "metadata": {},
     "output_type": "execute_result"
    }
   ],
   "source": [
    "loaded_model = Net()  # 必须确保模型不被更改\n",
    "loaded_model.load_state_dict(torch.load(data_path + 'birds_vs_airplanes.pt'))"
   ]
  },
  {
   "cell_type": "markdown",
   "id": "31cc41a8",
   "metadata": {},
   "source": [
    "### 在GPU上训练"
   ]
  },
  {
   "cell_type": "markdown",
   "id": "a063c60e",
   "metadata": {},
   "source": [
    "nn.Module模块实现了一个将模型所有参数移动到GPU上的to()方法。Module.to和Tensor.to之间有一个微小的区别，区别在于模块实例是否被修改。对Module.to来说，模块的实例会被修改。"
   ]
  },
  {
   "cell_type": "code",
   "execution_count": 58,
   "id": "eec92f9f",
   "metadata": {
    "ExecuteTime": {
     "end_time": "2022-10-02T12:27:37.610918Z",
     "start_time": "2022-10-02T12:27:37.591974Z"
    }
   },
   "outputs": [
    {
     "name": "stdout",
     "output_type": "stream",
     "text": [
      "Training on device cuda.\n"
     ]
    }
   ],
   "source": [
    "device = (torch.device('cuda') if torch.cuda.is_available()\n",
    "          else torch.device('cpu'))\n",
    "print(f\"Training on device {device}.\")"
   ]
  },
  {
   "cell_type": "code",
   "execution_count": 67,
   "id": "1fec3771",
   "metadata": {
    "ExecuteTime": {
     "end_time": "2022-10-02T13:14:54.365730Z",
     "start_time": "2022-10-02T13:14:54.343665Z"
    }
   },
   "outputs": [],
   "source": [
    "import datetime\n",
    "\n",
    "def training_loop(n_epochs, optimizer, model, loss_fn, train_loader):\n",
    "    for epoch in range(1, n_epochs + 1):\n",
    "        loss_train = 0.0\n",
    "        for imgs, labels in train_loader:\n",
    "            imgs = imgs.to(device=device)  # 将数据移动到GPU上训练\n",
    "            labels = labels.to(device=device)\n",
    "            outputs = model(imgs)\n",
    "            loss = loss_fn(outputs, labels)\n",
    "\n",
    "            optimizer.zero_grad()\n",
    "            loss.backward()\n",
    "            optimizer.step()\n",
    "\n",
    "            loss_train += loss.item()\n",
    "\n",
    "        if epoch == 1 or epoch % 10 == 0:\n",
    "            print('{} Epoch {}, Training loss {}'.format(\n",
    "                datetime.datetime.now(), epoch,\n",
    "                loss_train / len(train_loader)))"
   ]
  },
  {
   "cell_type": "code",
   "execution_count": 60,
   "id": "e45037a4",
   "metadata": {
    "ExecuteTime": {
     "end_time": "2022-10-02T12:35:52.485352Z",
     "start_time": "2022-10-02T12:34:36.947403Z"
    }
   },
   "outputs": [
    {
     "name": "stdout",
     "output_type": "stream",
     "text": [
      "2022-10-02 20:34:43.769426 Epoch 1, Training loss 0.6627039131085584\n",
      "2022-10-02 20:34:50.342993 Epoch 10, Training loss 0.45064703503232095\n",
      "2022-10-02 20:34:57.641354 Epoch 20, Training loss 0.35066812082081084\n",
      "2022-10-02 20:35:04.371077 Epoch 30, Training loss 0.3242404633646558\n",
      "2022-10-02 20:35:11.169779 Epoch 40, Training loss 0.30881908450536666\n",
      "2022-10-02 20:35:17.983721 Epoch 50, Training loss 0.290503051630251\n",
      "2022-10-02 20:35:24.704453 Epoch 60, Training loss 0.2788712053921572\n",
      "2022-10-02 20:35:31.398856 Epoch 70, Training loss 0.26404957240744004\n",
      "2022-10-02 20:35:38.397831 Epoch 80, Training loss 0.2525677325049783\n",
      "2022-10-02 20:35:45.466289 Epoch 90, Training loss 0.2397333392576807\n",
      "2022-10-02 20:35:52.479565 Epoch 100, Training loss 0.22997629808582318\n"
     ]
    }
   ],
   "source": [
    "train_loader = torch.utils.data.DataLoader(cifar2, batch_size=64,\n",
    "                                           shuffle=True)\n",
    "\n",
    "model = Net().to(device=device)  # 将模型参数移动到GPU上\n",
    "optimizer = optim.SGD(model.parameters(), lr=1e-2)\n",
    "loss_fn = nn.CrossEntropyLoss()\n",
    "\n",
    "training_loop(\n",
    "    n_epochs = 100,\n",
    "    optimizer = optimizer,\n",
    "    model = model,\n",
    "    loss_fn = loss_fn,\n",
    "    train_loader = train_loader,\n",
    ")"
   ]
  },
  {
   "cell_type": "code",
   "execution_count": 64,
   "id": "a5df1460",
   "metadata": {
    "ExecuteTime": {
     "end_time": "2022-10-02T12:47:50.413100Z",
     "start_time": "2022-10-02T12:47:49.584854Z"
    }
   },
   "outputs": [
    {
     "name": "stdout",
     "output_type": "stream",
     "text": [
      "Accuracy train: 0.91\n",
      "Accuracy val: 0.88\n"
     ]
    },
    {
     "data": {
      "text/plain": [
       "{'train': 0.9057, 'val': 0.8795}"
      ]
     },
     "execution_count": 64,
     "metadata": {},
     "output_type": "execute_result"
    }
   ],
   "source": [
    "train_loader = torch.utils.data.DataLoader(cifar2, batch_size=64,\n",
    "                                           shuffle=False)\n",
    "val_loader = torch.utils.data.DataLoader(cifar2_val, batch_size=64,\n",
    "                                         shuffle=False)\n",
    "\n",
    "def validate(model, train_loader, val_loader):\n",
    "    accdict = {}\n",
    "    for name, loader in [(\"train\", train_loader), (\"val\", val_loader)]:\n",
    "        correct = 0\n",
    "        total = 0\n",
    "\n",
    "        with torch.no_grad():\n",
    "            for imgs, labels in loader:\n",
    "                imgs = imgs.to(device=device) # 将数据移动到GPU上训练\n",
    "                labels = labels.to(device=device)\n",
    "                outputs = model(imgs)\n",
    "                _, predicted = torch.max(outputs, dim=1) # <1>\n",
    "                total += labels.shape[0]\n",
    "                correct += int((predicted == labels).sum())\n",
    "\n",
    "        print(\"Accuracy {}: {:.2f}\".format(name , correct / total))\n",
    "        accdict[name] = correct / total\n",
    "    return accdict\n",
    "\n",
    "validate(model, train_loader, val_loader)"
   ]
  },
  {
   "cell_type": "code",
   "execution_count": 65,
   "id": "ce94edce",
   "metadata": {
    "ExecuteTime": {
     "end_time": "2022-10-02T13:02:10.527256Z",
     "start_time": "2022-10-02T13:02:10.300443Z"
    }
   },
   "outputs": [
    {
     "data": {
      "text/plain": [
       "<All keys matched successfully>"
      ]
     },
     "execution_count": 65,
     "metadata": {},
     "output_type": "execute_result"
    }
   ],
   "source": [
    "loaded_model = Net().to(device=device)\n",
    "loaded_model.load_state_dict(torch.load(data_path\n",
    "                                        + 'birds_vs_airplanes.pt',\n",
    "                                        map_location=device)) #加载权重时，PyTroch覆盖设备信息"
   ]
  },
  {
   "cell_type": "markdown",
   "id": "ecd99eab",
   "metadata": {},
   "source": [
    "## 模型设计"
   ]
  },
  {
   "cell_type": "markdown",
   "id": "7c335f5a",
   "metadata": {},
   "source": [
    "### 增加内存容量：宽度"
   ]
  },
  {
   "cell_type": "markdown",
   "id": "fdccd76c",
   "metadata": {},
   "source": [
    "这里的宽度指的是模型输出的通道数。"
   ]
  },
  {
   "cell_type": "code",
   "execution_count": 7,
   "id": "961e728c",
   "metadata": {
    "ExecuteTime": {
     "end_time": "2022-10-03T00:11:10.842579Z",
     "start_time": "2022-10-03T00:11:10.829238Z"
    }
   },
   "outputs": [],
   "source": [
    "class NetWidth(nn.Module):\n",
    "    def __init__(self, n_chans1=32): #提前设置好输出通道数（过滤器个数）\n",
    "        super().__init__()\n",
    "        self.n_chans1 = n_chans1\n",
    "        self.conv1 = nn.Conv2d(3, n_chans1, kernel_size=3, padding=1)\n",
    "        self.conv2 = nn.Conv2d(n_chans1, n_chans1 // 2, kernel_size=3,\n",
    "                               padding=1)\n",
    "        self.fc1 = nn.Linear(8 * 8 * n_chans1 // 2, 32)\n",
    "        self.fc2 = nn.Linear(32, 2)\n",
    "        \n",
    "    def forward(self, x):\n",
    "        out = F.max_pool2d(torch.tanh(self.conv1(x)), 2)\n",
    "        out = F.max_pool2d(torch.tanh(self.conv2(out)), 2)\n",
    "        out = out.view(-1, 8 * 8 * self.n_chans1 // 2)\n",
    "        out = torch.tanh(self.fc1(out))\n",
    "        out = self.fc2(out)\n",
    "        return out"
   ]
  },
  {
   "cell_type": "markdown",
   "id": "1e764716",
   "metadata": {},
   "source": [
    "### 帮助我们的模型收敛和泛化：正则化"
   ]
  },
  {
   "cell_type": "markdown",
   "id": "e14b2c1e",
   "metadata": {},
   "source": [
    "#### 检查参数：权重惩罚"
   ]
  },
  {
   "cell_type": "markdown",
   "id": "3e0d5f6b",
   "metadata": {
    "ExecuteTime": {
     "end_time": "2022-10-02T13:08:57.002484Z",
     "start_time": "2022-10-02T13:08:56.979156Z"
    }
   },
   "source": [
    "稳定泛化的第1种方法是在损失中添加一个正则化项。减小模型本身的权重，使损失更平滑。比较流行的是L2正则化，也称为权重衰减。"
   ]
  },
  {
   "cell_type": "code",
   "execution_count": 68,
   "id": "fa007b7a",
   "metadata": {
    "ExecuteTime": {
     "end_time": "2022-10-02T13:15:04.247698Z",
     "start_time": "2022-10-02T13:15:04.230362Z"
    }
   },
   "outputs": [],
   "source": [
    "def training_loop_l2reg(n_epochs, optimizer, model, loss_fn,\n",
    "                        train_loader):\n",
    "    for epoch in range(1, n_epochs + 1):\n",
    "        loss_train = 0.0\n",
    "        for imgs, labels in train_loader:\n",
    "            imgs = imgs.to(device=device)\n",
    "            labels = labels.to(device=device)\n",
    "            outputs = model(imgs)\n",
    "            loss = loss_fn(outputs, labels)\n",
    "\n",
    "            l2_lambda = 0.001\n",
    "            l2_norm = sum(p.pow(2.0).sum()\n",
    "                          for p in model.parameters())  # 对L1正则化则使用abs()替换pow(2.0)\n",
    "            loss = loss + l2_lambda * l2_norm\n",
    "\n",
    "            optimizer.zero_grad()\n",
    "            loss.backward()\n",
    "            optimizer.step()\n",
    "            \n",
    "            loss_train += loss.item()\n",
    "        if epoch == 1 or epoch % 10 == 0:\n",
    "            print('{} Epoch {}, Training loss {}'.format(\n",
    "                datetime.datetime.now(), epoch,\n",
    "                loss_train / len(train_loader)))"
   ]
  },
  {
   "cell_type": "markdown",
   "id": "a8447121",
   "metadata": {},
   "source": [
    "#### 不太依赖于单一输入：Dropout"
   ]
  },
  {
   "cell_type": "markdown",
   "id": "0b9fc751",
   "metadata": {},
   "source": [
    "在PyTorch中，可以通过在非线性激活与后面的线性或卷积模块之间添加一个nn.Dropout模块在模型中实现Dropout作为一个参数，需要指定输入归零的概率。如果是卷积，可使用专门的nn.Dropout2d或者nn.Dropout3d，将输入的所有通道归零。"
   ]
  },
  {
   "cell_type": "code",
   "execution_count": 69,
   "id": "23517c03",
   "metadata": {
    "ExecuteTime": {
     "end_time": "2022-10-02T13:22:33.068777Z",
     "start_time": "2022-10-02T13:22:33.052823Z"
    }
   },
   "outputs": [],
   "source": [
    "class NetDropout(nn.Module):\n",
    "    def __init__(self, n_chans1=32):\n",
    "        super().__init__()\n",
    "        self.n_chans1 = n_chans1\n",
    "        self.conv1 = nn.Conv2d(3, n_chans1, kernel_size=3, padding=1)\n",
    "        self.conv1_dropout = nn.Dropout2d(p=0.4)\n",
    "        self.conv2 = nn.Conv2d(n_chans1, n_chans1 // 2, kernel_size=3,\n",
    "                               padding=1)\n",
    "        self.conv2_dropout = nn.Dropout2d(p=0.4)\n",
    "        self.fc1 = nn.Linear(8 * 8 * n_chans1 // 2, 32)\n",
    "        self.fc2 = nn.Linear(32, 2)\n",
    "        \n",
    "    def forward(self, x):\n",
    "        out = F.max_pool2d(torch.tanh(self.conv1(x)), 2)\n",
    "        out = self.conv1_dropout(out)\n",
    "        out = F.max_pool2d(torch.tanh(self.conv2(out)), 2)\n",
    "        out = self.conv2_dropout(out)\n",
    "        out = out.view(-1, 8 * 8 * self.n_chans1 // 2)\n",
    "        out = torch.tanh(self.fc1(out))\n",
    "        out = self.fc2(out)\n",
    "        return out"
   ]
  },
  {
   "cell_type": "markdown",
   "id": "3c14d001",
   "metadata": {},
   "source": [
    "#### 保持激活检查：批量归一化"
   ]
  },
  {
   "cell_type": "markdown",
   "id": "2bf1312e",
   "metadata": {},
   "source": [
    "批量归一化主要思想是将输入重新调整到网络的激活状态，从而使小批量具有一定的理想分布。PyTorch提供了nn.BatchNorm1d、nn.BatchNorm2d和nn.BatchNorm3d来实现批量归一化。位置是变换和激活函数之后。"
   ]
  },
  {
   "cell_type": "code",
   "execution_count": 70,
   "id": "62d41e96",
   "metadata": {
    "ExecuteTime": {
     "end_time": "2022-10-02T13:32:33.980425Z",
     "start_time": "2022-10-02T13:32:33.958346Z"
    }
   },
   "outputs": [],
   "source": [
    "class NetBatchNorm(nn.Module):\n",
    "    def __init__(self, n_chans1=32):\n",
    "        super().__init__()\n",
    "        self.n_chans1 = n_chans1\n",
    "        self.conv1 = nn.Conv2d(3, n_chans1, kernel_size=3, padding=1)\n",
    "        self.conv1_batchnorm = nn.BatchNorm2d(num_features=n_chans1) #批量归一化\n",
    "        self.conv2 = nn.Conv2d(n_chans1, n_chans1 // 2, kernel_size=3, \n",
    "                               padding=1)\n",
    "        self.conv2_batchnorm = nn.BatchNorm2d(num_features=n_chans1 // 2) #批量归一化\n",
    "        self.fc1 = nn.Linear(8 * 8 * n_chans1 // 2, 32)\n",
    "        self.fc2 = nn.Linear(32, 2)\n",
    "        \n",
    "    def forward(self, x):\n",
    "        out = self.conv1_batchnorm(self.conv1(x))\n",
    "        out = F.max_pool2d(torch.tanh(out), 2)\n",
    "        out = self.conv2_batchnorm(self.conv2(out))\n",
    "        out = F.max_pool2d(torch.tanh(out), 2)\n",
    "        out = out.view(-1, 8 * 8 * self.n_chans1 // 2)\n",
    "        out = torch.tanh(self.fc1(out))\n",
    "        out = self.fc2(out)\n",
    "        return out"
   ]
  },
  {
   "cell_type": "markdown",
   "id": "d580c582",
   "metadata": {},
   "source": [
    "### 深度学习更复杂的结构：深度"
   ]
  },
  {
   "cell_type": "markdown",
   "id": "29ef084b",
   "metadata": {},
   "source": [
    "#### 跳跃连接"
   ]
  },
  {
   "cell_type": "markdown",
   "id": "7726f48f",
   "metadata": {},
   "source": [
    "在残差网络中，提出了一种技巧来训练训练深度学习模型，名为跳跃连接。该方法使得神经网络层数从15年无法到达20层提高到上百层。  \n",
    "跳跃连接将输入添加到层块的一个输出中，可有效防止梯度消失和梯度爆炸。比如将第1个激活函数的输出作为最后一个激活函数的输入。"
   ]
  },
  {
   "cell_type": "code",
   "execution_count": 71,
   "id": "c2f0d9e1",
   "metadata": {
    "ExecuteTime": {
     "end_time": "2022-10-02T13:46:32.661979Z",
     "start_time": "2022-10-02T13:46:32.649999Z"
    }
   },
   "outputs": [],
   "source": [
    "class NetRes(nn.Module):\n",
    "    def __init__(self, n_chans1=32):\n",
    "        super().__init__()\n",
    "        self.n_chans1 = n_chans1\n",
    "        self.conv1 = nn.Conv2d(3, n_chans1, kernel_size=3, padding=1)\n",
    "        self.conv2 = nn.Conv2d(n_chans1, n_chans1 // 2, kernel_size=3,\n",
    "                               padding=1)\n",
    "        self.conv3 = nn.Conv2d(n_chans1 // 2, n_chans1 // 2,\n",
    "                               kernel_size=3, padding=1)\n",
    "        self.fc1 = nn.Linear(4 * 4 * n_chans1 // 2, 32)\n",
    "        self.fc2 = nn.Linear(32, 2)\n",
    "        \n",
    "    def forward(self, x):\n",
    "        out = F.max_pool2d(torch.relu(self.conv1(x)), 2)\n",
    "        out = F.max_pool2d(torch.relu(self.conv2(out)), 2)\n",
    "        out1 = out\n",
    "        out = F.max_pool2d(torch.relu(self.conv3(out)) + out1, 2) #跳跃连接\n",
    "        out = out.view(-1, 4 * 4 * self.n_chans1 // 2)\n",
    "        out = torch.relu(self.fc1(out))\n",
    "        out = self.fc2(out)\n",
    "        return out"
   ]
  },
  {
   "cell_type": "markdown",
   "id": "bf93523c",
   "metadata": {},
   "source": [
    "#### 使用PyTorch建立非常深的网络"
   ]
  },
  {
   "cell_type": "code",
   "execution_count": 72,
   "id": "6afcd8b8",
   "metadata": {
    "ExecuteTime": {
     "end_time": "2022-10-02T13:54:21.814107Z",
     "start_time": "2022-10-02T13:54:21.801479Z"
    }
   },
   "outputs": [],
   "source": [
    "#首先创建一个模块子类，它的唯一任务是为一个块提供计算，该块包含一组卷积、激活函数和跳跃连接\n",
    "class ResBlock(nn.Module):\n",
    "    def __init__(self, n_chans):\n",
    "        super(ResBlock, self).__init__()\n",
    "        self.conv = nn.Conv2d(n_chans, n_chans, kernel_size=3,\n",
    "                              padding=1, bias=False)  # <1>\n",
    "        self.batch_norm = nn.BatchNorm2d(num_features=n_chans)\n",
    "        torch.nn.init.kaiming_normal_(self.conv.weight,\n",
    "                                      nonlinearity='relu')  # <2>\n",
    "        torch.nn.init.constant_(self.batch_norm.weight, 0.5)\n",
    "        torch.nn.init.zeros_(self.batch_norm.bias)\n",
    "\n",
    "    def forward(self, x):\n",
    "        out = self.conv(x)\n",
    "        out = self.batch_norm(out)\n",
    "        out = torch.relu(out)\n",
    "        return out + x"
   ]
  },
  {
   "cell_type": "code",
   "execution_count": 73,
   "id": "c8c789a7",
   "metadata": {
    "ExecuteTime": {
     "end_time": "2022-10-02T13:57:55.360213Z",
     "start_time": "2022-10-02T13:57:55.345576Z"
    }
   },
   "outputs": [],
   "source": [
    "#接着在__init__()中创建nn.Sequential，最后在forward()中，调用nn.Sequential来遍历100个块并生成输出\n",
    "class NetResDeep(nn.Module):\n",
    "    def __init__(self, n_chans1=32, n_blocks=10):\n",
    "        super().__init__()\n",
    "        self.n_chans1 = n_chans1\n",
    "        self.conv1 = nn.Conv2d(3, n_chans1, kernel_size=3, padding=1)\n",
    "        self.resblocks = nn.Sequential(*(n_blocks * [ResBlock(n_chans=n_chans1)]))\n",
    "        self.fc1 = nn.Linear(8 * 8 * n_chans1, 32)\n",
    "        self.fc2 = nn.Linear(32, 2)\n",
    "        \n",
    "    def forward(self, x):\n",
    "        out = F.max_pool2d(torch.relu(self.conv1(x)), 2)\n",
    "        out = self.resblocks(out)\n",
    "        out = F.max_pool2d(out, 2)\n",
    "        out = out.view(-1, 8 * 8 * self.n_chans1)\n",
    "        out = torch.relu(self.fc1(out))\n",
    "        out = self.fc2(out)\n",
    "        return out"
   ]
  },
  {
   "cell_type": "markdown",
   "id": "09b1e1da",
   "metadata": {},
   "source": [
    "#### 初始化"
   ]
  },
  {
   "cell_type": "markdown",
   "id": "455c1312",
   "metadata": {},
   "source": [
    "初始化是训练神经网络的一个重要技巧，但PyTorch的默认权重初始化并不理想。"
   ]
  },
  {
   "cell_type": "markdown",
   "id": "b94ec36d",
   "metadata": {},
   "source": [
    "## 本章小结"
   ]
  },
  {
   "cell_type": "markdown",
   "id": "3f4dda4a",
   "metadata": {},
   "source": [
    "卷积可以作为处理图像的前馈网络的线性运算，利用其局部性和平移不变性，使用卷积产生的网络参数更少。"
   ]
  },
  {
   "cell_type": "markdown",
   "id": "0fff0c20",
   "metadata": {},
   "source": [
    "将多个卷积及其激活逐个叠加，并在两者之间使用最大池化，可以将卷积应用于越来越小的特征图像，从而有效地解释随着深度的增加，输入图像中更大部分的空间关系。"
   ]
  },
  {
   "cell_type": "markdown",
   "id": "897b7fe6",
   "metadata": {},
   "source": [
    "# 部署到生产环境"
   ]
  },
  {
   "cell_type": "markdown",
   "id": "11a661be",
   "metadata": {},
   "source": [
    "PyTorch生态中，使用JIT编译器，这是一种即时的编译器，用于以PyTorch为中心的Python子集。"
   ]
  },
  {
   "cell_type": "code",
   "execution_count": null,
   "id": "15136e2a",
   "metadata": {},
   "outputs": [],
   "source": []
  }
 ],
 "metadata": {
  "kernelspec": {
   "display_name": "Python 3 (ipykernel)",
   "language": "python",
   "name": "python3"
  },
  "language_info": {
   "codemirror_mode": {
    "name": "ipython",
    "version": 3
   },
   "file_extension": ".py",
   "mimetype": "text/x-python",
   "name": "python",
   "nbconvert_exporter": "python",
   "pygments_lexer": "ipython3",
   "version": "3.9.13"
  },
  "nbTranslate": {
   "displayLangs": [
    "*"
   ],
   "hotkey": "alt-t",
   "langInMainMenu": true,
   "sourceLang": "en",
   "targetLang": "fr",
   "useGoogleTranslate": true
  },
  "toc": {
   "base_numbering": "6",
   "nav_menu": {},
   "number_sections": true,
   "sideBar": true,
   "skip_h1_title": false,
   "title_cell": "Table of Contents",
   "title_sidebar": "Contents",
   "toc_cell": false,
   "toc_position": {
    "height": "calc(100% - 180px)",
    "left": "10px",
    "top": "150px",
    "width": "236.988px"
   },
   "toc_section_display": true,
   "toc_window_display": true
  }
 },
 "nbformat": 4,
 "nbformat_minor": 5
}
