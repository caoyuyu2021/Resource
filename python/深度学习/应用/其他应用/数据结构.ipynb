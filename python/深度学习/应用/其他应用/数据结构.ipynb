{
 "cells": [
  {
   "cell_type": "markdown",
   "metadata": {},
   "source": [
    "<font face=\"微软雅黑\" color=green size=5>数据结构与算法</font>"
   ]
  },
  {
   "cell_type": "markdown",
   "metadata": {},
   "source": [
    "# 队列"
   ]
  },
  {
   "cell_type": "code",
   "execution_count": 1,
   "metadata": {
    "ExecuteTime": {
     "end_time": "2021-04-27T12:19:10.203617Z",
     "start_time": "2021-04-27T12:19:10.176696Z"
    }
   },
   "outputs": [
    {
     "name": "stdout",
     "output_type": "stream",
     "text": [
      "[False, 'tony', 'jack', 100]\n",
      "100\n",
      "jack\n",
      "tony\n",
      "False\n",
      "[]\n"
     ]
    }
   ],
   "source": [
    "#队列，先进先出\n",
    "class queue:\n",
    "    #初始化队列\n",
    "    def __init__(self):#构造函数\n",
    "        self.__alist=[]\n",
    "    #插入元素   \n",
    "    def push(self,value):#实例方法\n",
    "        self.__alist.insert(0,value)#不断在索引0处插入元素，以达到先进先出的效果\n",
    "    #删除元素并返回它    \n",
    "    def pop(self):\n",
    "        return self.__alist.pop()\n",
    "    #队列长度\n",
    "    def size(self):\n",
    "        return len(self.__alist)\n",
    "    #清空队列\n",
    "    def clean(self):\n",
    "        self.__alist.clear()\n",
    "    #队列判空\n",
    "    def isEmpty(self):\n",
    "        return self.__alist==[]\n",
    "    #查看队列元素\n",
    "    def showQueue(self):\n",
    "        print(self.__alist)\n",
    "        \n",
    "if __name__ == '__main__':\n",
    "    q = queue()\n",
    "    q.push(100)\n",
    "    q.push(\"jack\")\n",
    "    q.push(\"tony\")\n",
    "    q.push(False)\n",
    "    q.showQueue()\n",
    "    print(q.pop())\n",
    "    print(q.pop())\n",
    "    print(q.pop())\n",
    "    print(q.pop())\n",
    "    q.showQueue()\n"
   ]
  },
  {
   "cell_type": "markdown",
   "metadata": {},
   "source": [
    "# 栈"
   ]
  },
  {
   "cell_type": "code",
   "execution_count": 2,
   "metadata": {
    "ExecuteTime": {
     "end_time": "2021-04-27T12:25:26.326015Z",
     "start_time": "2021-04-27T12:25:26.316499Z"
    }
   },
   "outputs": [
    {
     "name": "stdout",
     "output_type": "stream",
     "text": [
      "[100, 'jack', 'tony', False]\n",
      "False\n",
      "tony\n",
      "jack\n",
      "100\n",
      "[]\n"
     ]
    }
   ],
   "source": [
    "#栈，先进后出\n",
    "class stack:\n",
    "    #初始化栈\n",
    "    def __init__(self):#构造函数\n",
    "        self.__alist=[]\n",
    "    #插入元素   \n",
    "    def push(self,value):#实例方法\n",
    "        self.__alist.append(value)#不断在尾部插入元素，以达到先进后出的效果\n",
    "    #删除元素并返回它    \n",
    "    def pop(self):\n",
    "        return self.__alist.pop()\n",
    "    #栈长度\n",
    "    def size(self):\n",
    "        return len(self.__alist)\n",
    "    #清空栈\n",
    "    def clean(self):\n",
    "        self.__alist.clear()\n",
    "    #栈判空\n",
    "    def isEmpty(self):\n",
    "        return self.__alist==[]\n",
    "    #查看栈元素\n",
    "    def showStack(self):\n",
    "        print(self.__alist)\n",
    "        \n",
    "if __name__ == '__main__':\n",
    "    q = stack()\n",
    "    q.push(100)\n",
    "    q.push(\"jack\")\n",
    "    q.push(\"tony\")\n",
    "    q.push(False)\n",
    "    q.showStack()\n",
    "    print(q.pop())\n",
    "    print(q.pop())\n",
    "    print(q.pop())\n",
    "    print(q.pop())\n",
    "    q.showStack()"
   ]
  },
  {
   "cell_type": "markdown",
   "metadata": {},
   "source": [
    "# 链表"
   ]
  },
  {
   "cell_type": "code",
   "execution_count": 23,
   "metadata": {
    "ExecuteTime": {
     "end_time": "2021-04-28T07:35:14.808213Z",
     "start_time": "2021-04-28T07:35:14.766336Z"
    }
   },
   "outputs": [
    {
     "name": "stdout",
     "output_type": "stream",
     "text": [
      "100\n",
      "True\n",
      "0\n",
      "False\n",
      "4\n",
      "110 999 3 111 \n",
      "\n",
      "110 999 3 \n",
      "\n"
     ]
    }
   ],
   "source": [
    "#单链表\n",
    "class Node(object):\n",
    "    \"\"\"节点\"\"\"\n",
    "    def __init__(self, elem):\n",
    "        self.elem = elem\n",
    "        self.next = None  # 初始设置下一节点为空\n",
    "\n",
    "# 下面创建单链表，并实现其应有的功能\n",
    "class SingleLinkList(object):\n",
    "\n",
    "    def __init__(self, node=None):  # 使用一个默认参数，在传入头结点时则接收，在没有传入时，就默认头结点为空\n",
    "        self.__head = node\n",
    "\n",
    "    def is_empty(self):\n",
    "        '''链表是否为空'''\n",
    "        return self.__head == None\n",
    "\n",
    "    def length(self):\n",
    "        '''链表长度'''\n",
    "        # cur游标，用来移动遍历节点\n",
    "        cur = self.__head\n",
    "        # count记录数量\n",
    "        count = 0\n",
    "        while cur != None:\n",
    "            count += 1\n",
    "            cur = cur.next\n",
    "        return count\n",
    "\n",
    "    def travel(self):\n",
    "        '''遍历整个列表'''\n",
    "        cur = self.__head\n",
    "        while cur != None:\n",
    "            print(cur.elem, end=' ')\n",
    "            cur = cur.next\n",
    "        print(\"\\n\")\n",
    "\n",
    "    def add(self, item):\n",
    "        '''链表头部添加元素'''\n",
    "        node = Node(item)\n",
    "        node.next = self.__head\n",
    "        self.__head = node\n",
    "\n",
    "    def append(self, item):\n",
    "        '''链表尾部添加元素'''\n",
    "        node = Node(item)\n",
    "        # 由于特殊情况当链表为空时没有next，所以在前面要做个判断\n",
    "        if self.is_empty():\n",
    "            self.__head = node\n",
    "        else:\n",
    "            cur = self.__head\n",
    "            while cur.next != None:\n",
    "                cur = cur.next\n",
    "            cur.next = node\n",
    "\n",
    "    def insert(self, pos, item):\n",
    "        '''指定位置添加元素'''\n",
    "        if pos <= 0:\n",
    "                # 如果pos位置在0或者以前，那么都当做头插法来做\n",
    "            self.add(item)\n",
    "        elif pos > self.length() - 1:\n",
    "            # 如果pos位置比原链表长，那么都当做尾插法来做\n",
    "            self.append(item)\n",
    "        else:\n",
    "            per = self.__head\n",
    "            count = 0\n",
    "            while count < pos - 1:\n",
    "                count += 1\n",
    "                per = per.next\n",
    "            # 当循环退出后，pre指向pos-1位置\n",
    "            node = Node(item)\n",
    "            node.next = per.next\n",
    "            per.next = node\n",
    "\n",
    "    def remove(self, item):\n",
    "        '''删除节点'''\n",
    "        cur = self.__head\n",
    "        pre = None\n",
    "        while cur != None:\n",
    "            if cur.elem == item:\n",
    "                # 先判断该节点是否是头结点\n",
    "                if cur == self.__head:\n",
    "                    self.__head = cur.next\n",
    "                else:\n",
    "                    pre.next = cur.next\n",
    "                break\n",
    "            else:\n",
    "                pre = cur\n",
    "                cur = cur.next\n",
    "\n",
    "    def search(self, item):\n",
    "        '''查找节点是否存在'''\n",
    "        cur = self.__head\n",
    "        while not cur:\n",
    "            if cur.elem == item:\n",
    "                return True\n",
    "            else:\n",
    "                cur = cur.next\n",
    "        return False\n",
    "\n",
    "\n",
    "if __name__ == \"__main__\":\n",
    "\n",
    "    node = Node(100)  # 先创建一个节点传进去\n",
    "    print(node.elem)\n",
    "    ll = SingleLinkList()\n",
    "    print(ll.is_empty())\n",
    "    print(ll.length())\n",
    "\n",
    "    ll.append(3)\n",
    "    ll.add(999)\n",
    "    ll.insert(-3, 110)\n",
    "    ll.insert(99, 111)\n",
    "    print(ll.is_empty())\n",
    "    print(ll.length())\n",
    "    ll.travel()\n",
    "    ll.remove(111)\n",
    "    ll.travel()"
   ]
  },
  {
   "cell_type": "markdown",
   "metadata": {},
   "source": [
    "# 图"
   ]
  },
  {
   "cell_type": "code",
   "execution_count": 24,
   "metadata": {
    "ExecuteTime": {
     "end_time": "2021-04-28T08:10:32.695742Z",
     "start_time": "2021-04-28T08:10:32.670148Z"
    }
   },
   "outputs": [],
   "source": [
    "#图结构\n",
    "class Graph:\n",
    "    def __init__(self,mat,unconn=0):\n",
    "        vnum=len(mat)\n",
    "        for x in mat:\n",
    "            if len(x)!=vnum:\n",
    "                raise ValueError(\"参数错误\")\n",
    "        self._mat=[mat[i][:] for i in range(vnum)]  #做拷贝\n",
    "        self._unconn=unconn\n",
    "        self._vnum=vnum\n",
    " \n",
    "    #顶点个数\n",
    "    def vertex_num(self):\n",
    "        return self._vnum\n",
    " \n",
    "    #顶点是否无效\n",
    "    def _invalid(self,v):\n",
    "        return v<0 or v>=self._vnum\n",
    " \n",
    "    #添加边\n",
    "    def add_edge(self,vi,vj,val=1):\n",
    "        if self._invalid(vi) or self._invalid(vj):\n",
    "            raise ValueError(str(vi)+\" or \"+str(vj)+\"不是有效的顶点\")\n",
    "        self._mat[vi][vj]=val\n",
    " \n",
    "    #获取边的值\n",
    "    def get_edge(self,vi,vj):\n",
    "        if self._invalid(vi) or self._invalid(vj):\n",
    "            raise ValueError(str(vi)+\" or \"+str(vj)+\"不是有效的顶点\")\n",
    "        return self._mat[vi][vj]\n",
    " \n",
    "    #获得一个顶点的各条出边\n",
    "    def out_edges(self,vi):\n",
    "        if self._invalid(vi):\n",
    "            raise ValueError(str(vi)+\"不是有效的顶点\")\n",
    "        return self._out_edges(self._mat[vi],self._unconn)\n",
    " \n",
    "    @staticmethod\n",
    "    def _out_edges(row,unconn):\n",
    "        edegs=[]\n",
    "        for i in range(len(row)):\n",
    "            if row[i]!=unconn:\n",
    "                edegs.append((i,row[i]))\n",
    "        return edegs\n",
    " \n",
    "    def __str__(self):\n",
    "        return \"[\\n\"+\",\\n\".join(map(str,self._mat))+\"\\n]\"+\"\\nUnconnected: \"+str(self._unconn)"
   ]
  },
  {
   "cell_type": "markdown",
   "metadata": {},
   "source": [
    "# 二叉树"
   ]
  },
  {
   "cell_type": "code",
   "execution_count": 25,
   "metadata": {
    "ExecuteTime": {
     "end_time": "2021-04-28T08:12:23.549345Z",
     "start_time": "2021-04-28T08:12:23.530166Z"
    }
   },
   "outputs": [],
   "source": [
    "import uuid\n",
    "from random import sample\n",
    "\n",
    "# 二叉树类\n",
    "class BTree(object):\n",
    "\n",
    "    # 初始化\n",
    "    def __init__(self, data=None, left=None, right=None):\n",
    "        self.data = data    # 数据域\n",
    "        self.left = left    # 左子树\n",
    "        self.right = right  # 右子树\n",
    "        self.dot = Digraph(comment='Binary Tree')\n",
    "\n",
    "    # 前序遍历\n",
    "    def preorder(self):\n",
    "\n",
    "        if self.data is not None:\n",
    "            print(self.data, end=' ')\n",
    "        if self.left is not None:\n",
    "            self.left.preorder()\n",
    "        if self.right is not None:\n",
    "            self.right.preorder()\n",
    "\n",
    "    # 中序遍历\n",
    "    def inorder(self):\n",
    "\n",
    "        if self.left is not None:\n",
    "            self.left.inorder()\n",
    "        if self.data is not None:\n",
    "            print(self.data, end=' ')\n",
    "        if self.right is not None:\n",
    "            self.right.inorder()\n",
    "\n",
    "    # 后序遍历\n",
    "    def postorder(self):\n",
    "\n",
    "        if self.left is not None:\n",
    "            self.left.postorder()\n",
    "        if self.right is not None:\n",
    "            self.right.postorder()\n",
    "        if self.data is not None:\n",
    "            print(self.data, end=' ')\n",
    "\n",
    "    # 层序遍历\n",
    "    def levelorder(self):\n",
    "\n",
    "        # 返回某个节点的左孩子\n",
    "        def LChild_Of_Node(node):\n",
    "            return node.left if node.left is not None else None\n",
    "        # 返回某个节点的右孩子\n",
    "        def RChild_Of_Node(node):\n",
    "            return node.right if node.right is not None else None\n",
    "\n",
    "        # 层序遍历列表\n",
    "        level_order = []\n",
    "        # 是否添加根节点中的数据\n",
    "        if self.data is not None:\n",
    "            level_order.append([self])\n",
    "\n",
    "        # 二叉树的高度\n",
    "        height = self.height()\n",
    "        if height >= 1:\n",
    "            # 对第二层及其以后的层数进行操作, 在level_order中添加节点而不是数据\n",
    "            for _ in range(2, height + 1):\n",
    "                level = []  # 该层的节点\n",
    "                for node in level_order[-1]:\n",
    "                    # 如果左孩子非空，则添加左孩子\n",
    "                    if LChild_Of_Node(node):\n",
    "                        level.append(LChild_Of_Node(node))\n",
    "                    # 如果右孩子非空，则添加右孩子\n",
    "                    if RChild_Of_Node(node):\n",
    "                        level.append(RChild_Of_Node(node))\n",
    "                # 如果该层非空，则添加该层\n",
    "                if level:\n",
    "                    level_order.append(level)\n",
    "\n",
    "            # 取出每层中的数据\n",
    "            for i in range(0, height):  # 层数\n",
    "                for index in range(len(level_order[i])):\n",
    "                    level_order[i][index] = level_order[i][index].data\n",
    "\n",
    "        return level_order\n",
    "\n",
    "    # 二叉树的高度\n",
    "    def height(self):\n",
    "        # 空的树高度为0, 只有root节点的树高度为1\n",
    "        if self.data is None:\n",
    "            return 0\n",
    "        elif self.left is None and self.right is None:\n",
    "            return 1\n",
    "        elif self.left is None and self.right is not None:\n",
    "            return 1 + self.right.height()\n",
    "        elif self.left is not None and self.right is None:\n",
    "            return 1 + self.left.height()\n",
    "        else:\n",
    "            return 1 + max(self.left.height(), self.right.height())\n",
    "\n",
    "    # 二叉树的叶子节点\n",
    "    def leaves(self):\n",
    "\n",
    "        if self.data is None:\n",
    "            return None\n",
    "        elif self.left is None and self.right is None:\n",
    "            print(self.data, end=' ')\n",
    "        elif self.left is None and self.right is not None:\n",
    "            self.right.leaves()\n",
    "        elif self.right is None and self.left is not None:\n",
    "            self.left.leaves()\n",
    "        else:\n",
    "            self.left.leaves()\n",
    "            self.right.leaves()"
   ]
  },
  {
   "cell_type": "code",
   "execution_count": 26,
   "metadata": {
    "ExecuteTime": {
     "end_time": "2021-04-28T08:12:39.350340Z",
     "start_time": "2021-04-28T08:12:39.338106Z"
    }
   },
   "outputs": [
    {
     "ename": "NameError",
     "evalue": "name 'Digraph' is not defined",
     "output_type": "error",
     "traceback": [
      "\u001b[1;31m---------------------------------------------------------------------------\u001b[0m",
      "\u001b[1;31mNameError\u001b[0m                                 Traceback (most recent call last)",
      "\u001b[1;32m<ipython-input-26-403b6c14fb58>\u001b[0m in \u001b[0;36m<module>\u001b[1;34m\u001b[0m\n\u001b[0;32m      1\u001b[0m \u001b[1;31m# 构造二叉树, BOTTOM-UP METHOD\u001b[0m\u001b[1;33m\u001b[0m\u001b[1;33m\u001b[0m\u001b[1;33m\u001b[0m\u001b[0m\n\u001b[1;32m----> 2\u001b[1;33m \u001b[0mright_tree\u001b[0m \u001b[1;33m=\u001b[0m \u001b[0mBTree\u001b[0m\u001b[1;33m(\u001b[0m\u001b[1;36m6\u001b[0m\u001b[1;33m)\u001b[0m\u001b[1;33m\u001b[0m\u001b[1;33m\u001b[0m\u001b[0m\n\u001b[0m\u001b[0;32m      3\u001b[0m \u001b[0mright_tree\u001b[0m\u001b[1;33m.\u001b[0m\u001b[0mleft\u001b[0m \u001b[1;33m=\u001b[0m \u001b[0mBTree\u001b[0m\u001b[1;33m(\u001b[0m\u001b[1;36m2\u001b[0m\u001b[1;33m)\u001b[0m\u001b[1;33m\u001b[0m\u001b[1;33m\u001b[0m\u001b[0m\n\u001b[0;32m      4\u001b[0m \u001b[0mright_tree\u001b[0m\u001b[1;33m.\u001b[0m\u001b[0mright\u001b[0m \u001b[1;33m=\u001b[0m \u001b[0mBTree\u001b[0m\u001b[1;33m(\u001b[0m\u001b[1;36m4\u001b[0m\u001b[1;33m)\u001b[0m\u001b[1;33m\u001b[0m\u001b[1;33m\u001b[0m\u001b[0m\n\u001b[0;32m      5\u001b[0m \u001b[1;33m\u001b[0m\u001b[0m\n",
      "\u001b[1;32m<ipython-input-25-fae7a5e626a1>\u001b[0m in \u001b[0;36m__init__\u001b[1;34m(self, data, left, right)\u001b[0m\n\u001b[0;32m     10\u001b[0m         \u001b[0mself\u001b[0m\u001b[1;33m.\u001b[0m\u001b[0mleft\u001b[0m \u001b[1;33m=\u001b[0m \u001b[0mleft\u001b[0m    \u001b[1;31m# 左子树\u001b[0m\u001b[1;33m\u001b[0m\u001b[1;33m\u001b[0m\u001b[0m\n\u001b[0;32m     11\u001b[0m         \u001b[0mself\u001b[0m\u001b[1;33m.\u001b[0m\u001b[0mright\u001b[0m \u001b[1;33m=\u001b[0m \u001b[0mright\u001b[0m  \u001b[1;31m# 右子树\u001b[0m\u001b[1;33m\u001b[0m\u001b[1;33m\u001b[0m\u001b[0m\n\u001b[1;32m---> 12\u001b[1;33m         \u001b[0mself\u001b[0m\u001b[1;33m.\u001b[0m\u001b[0mdot\u001b[0m \u001b[1;33m=\u001b[0m \u001b[0mDigraph\u001b[0m\u001b[1;33m(\u001b[0m\u001b[0mcomment\u001b[0m\u001b[1;33m=\u001b[0m\u001b[1;34m'Binary Tree'\u001b[0m\u001b[1;33m)\u001b[0m\u001b[1;33m\u001b[0m\u001b[1;33m\u001b[0m\u001b[0m\n\u001b[0m\u001b[0;32m     13\u001b[0m \u001b[1;33m\u001b[0m\u001b[0m\n\u001b[0;32m     14\u001b[0m     \u001b[1;31m# 前序遍历\u001b[0m\u001b[1;33m\u001b[0m\u001b[1;33m\u001b[0m\u001b[1;33m\u001b[0m\u001b[0m\n",
      "\u001b[1;31mNameError\u001b[0m: name 'Digraph' is not defined"
     ]
    }
   ],
   "source": [
    "# 构造二叉树, BOTTOM-UP METHOD\n",
    "right_tree = BTree(6)\n",
    "right_tree.left = BTree(2)\n",
    "right_tree.right = BTree(4)\n",
    "\n",
    "left_tree = BTree(5)\n",
    "left_tree.left = BTree(1)\n",
    "left_tree.right = BTree(3)\n",
    "\n",
    "tree = BTree(11)\n",
    "tree.left = left_tree\n",
    "tree.right = right_tree\n",
    "\n",
    "left_tree = BTree(7)\n",
    "left_tree.left = BTree(3)\n",
    "left_tree.right = BTree(4)\n",
    "\n",
    "right_tree = tree # 增加新的变量\n",
    "tree = BTree(18)\n",
    "tree.left = left_tree\n",
    "tree.right = right_tree\n",
    "\n",
    "print('先序遍历为:')\n",
    "tree.preorder()\n",
    "print()\n",
    "\n",
    "print('中序遍历为:')\n",
    "tree.inorder()\n",
    "print()\n",
    "\n",
    "print('后序遍历为:')\n",
    "tree.postorder()\n",
    "print()\n",
    "\n",
    "print('层序遍历为:')\n",
    "level_order = tree.levelorder()\n",
    "print(level_order)\n",
    "print()\n",
    "\n",
    "height = tree.height()\n",
    "print('树的高度为%s.' % height)\n",
    "\n",
    "print('叶子节点为：')\n",
    "tree.leaves()\n",
    "print()"
   ]
  },
  {
   "cell_type": "code",
   "execution_count": 15,
   "metadata": {
    "ExecuteTime": {
     "end_time": "2021-04-28T02:28:37.756229Z",
     "start_time": "2021-04-28T02:28:37.739919Z"
    }
   },
   "outputs": [
    {
     "name": "stdout",
     "output_type": "stream",
     "text": [
      "先序遍历为:\n",
      "A B D H P Q I R S E J T U K V W C F L X Y M Z G N O \n",
      "\n",
      "树的高度为5.\n",
      "\n",
      "层序遍历为:\n",
      "[['A'], ['B', 'C'], ['D', 'E', 'F', 'G'], ['H', 'I', 'J', 'K', 'L', 'M', 'N', 'O'], ['P', 'Q', 'R', 'S', 'T', 'U', 'V', 'W', 'X', 'Y', 'Z']]\n",
      "\n",
      "叶子节点为：\n",
      "P Q R S T U V W X Y Z N O \n"
     ]
    }
   ],
   "source": [
    "# 利用列表构造二叉树\n",
    "# 列表中至少有一个元素\n",
    "def create_BTree_By_List(array):\n",
    "\n",
    "    i = 1\n",
    "    # 将原数组拆成层次遍历的数组，每一项都储存这一层所有的节点的数据\n",
    "    level_order = []\n",
    "    sum = 1\n",
    "\n",
    "    while sum < len(array):\n",
    "        level_order.append(array[i-1:2*i-1])\n",
    "        i *= 2\n",
    "        sum += i\n",
    "    level_order.append(array[i-1:])\n",
    "    # print(level_order)\n",
    "\n",
    "    # BTree_list: 这一层所有的节点组成的列表\n",
    "    # forword_level: 上一层节点的数据组成的列表\n",
    "    def Create_BTree_One_Step_Up(BTree_list, forword_level):\n",
    "\n",
    "        new_BTree_list = []\n",
    "        i = 0\n",
    "        for elem in forword_level:\n",
    "            root = BTree(elem)\n",
    "            if 2*i < len(BTree_list):\n",
    "                root.left = BTree_list[2*i]\n",
    "            if 2*i+1 < len(BTree_list):\n",
    "                root.right = BTree_list[2*i+1]\n",
    "            new_BTree_list.append(root)\n",
    "            i += 1\n",
    "\n",
    "        return new_BTree_list\n",
    "\n",
    "    # 如果只有一个节点\n",
    "    if len(level_order) == 1:\n",
    "        return BTree(level_order[0][0])\n",
    "    else: # 二叉树的层数大于1\n",
    "\n",
    "        # 创建最后一层的节点列表\n",
    "        BTree_list = [BTree(elem) for elem in level_order[-1]]\n",
    "\n",
    "        # 从下往上，逐层创建二叉树\n",
    "        for i in range(len(level_order)-2, -1, -1):\n",
    "            BTree_list = Create_BTree_One_Step_Up(BTree_list, level_order[i])\n",
    "\n",
    "        return BTree_list[0]\n",
    "\n",
    "#array = list(range(1,19))\n",
    "array = 'ABCDEFGHIJKLMNOPQRSTUVWXYZ'\n",
    "tree = create_BTree_By_List(array)\n",
    "\n",
    "print('先序遍历为:')\n",
    "tree.preorder()\n",
    "print()\n",
    "\n",
    "height = tree.height()\n",
    "print('\\n树的高度为%s.\\n'%height)\n",
    "\n",
    "print('层序遍历为:')\n",
    "level_order = tree.levelorder()\n",
    "print(level_order)\n",
    "print()\n",
    "\n",
    "print('叶子节点为：')\n",
    "tree.leaves()\n",
    "print()"
   ]
  },
  {
   "cell_type": "markdown",
   "metadata": {},
   "source": [
    "# 排序"
   ]
  },
  {
   "cell_type": "code",
   "execution_count": 1,
   "metadata": {
    "ExecuteTime": {
     "end_time": "2021-04-28T05:50:04.517292Z",
     "start_time": "2021-04-28T05:50:04.494352Z"
    }
   },
   "outputs": [
    {
     "name": "stdout",
     "output_type": "stream",
     "text": [
      "[2, 3, 5, 6]\n"
     ]
    }
   ],
   "source": [
    "#插入排序 从第二个元素开始和前面的元素进行比较，如果前面的元素比当前元素大，则将前面元素后移，当前元素依次往前，直到找到比它小或等于它的元素插入在其后面。\n",
    "def insert_sort(are):\n",
    "    n = len(are)\n",
    "    for i in range(1, n):\n",
    "        k = i -1\n",
    "        a = are[i]  # 注意这里要把第i个元素取出来操作，不然后面移动会出问题\n",
    "        while(a<are[k] and k>=0):  # 如果选择的元素比前面小，就进行前后移动 \n",
    "            are[k+1] = are[k]  # 这就是前面说的大的元素后移一位\n",
    "            are[k] = a\n",
    "            k -= 1   # 这个k-1便是为了实现前移元素的不断比较\n",
    "    return are\n",
    "\n",
    "ar = [6,5,2,3]\n",
    "print(insert_sort(ar))"
   ]
  },
  {
   "cell_type": "code",
   "execution_count": 2,
   "metadata": {
    "ExecuteTime": {
     "end_time": "2021-04-28T05:57:35.460911Z",
     "start_time": "2021-04-28T05:57:35.444952Z"
    }
   },
   "outputs": [
    {
     "name": "stdout",
     "output_type": "stream",
     "text": [
      "[2, 3, 4, 5, 6, 7]\n"
     ]
    }
   ],
   "source": [
    "#选择排序 从第一个元素开始依次和后面的元素比较，比较完所有元素找到最小的元素，将它和第一个元素互换。重复上述操作，我们找出第二小的元素和第二个位置的元素互换，以此类推找出剩余最小元素将它换到前面，即完成排序\n",
    "def select_sort(are):\n",
    "    n = len(are)\n",
    "    for i in range(0, n):\n",
    "        min = i  # min用来记录最小值的下标\n",
    "        for j in range(i+1,n):\n",
    "            if (are[min]>are[j]):\n",
    "                min = j\n",
    "        are[i],are[min] = are[min],are[i]  # 进行交换，先计算右边，再一次赋值给左边\n",
    "\n",
    "    return are\n",
    "\n",
    "ar = [6,5,2,3,4,7]\n",
    "print(select_sort(ar))"
   ]
  },
  {
   "cell_type": "code",
   "execution_count": 4,
   "metadata": {
    "ExecuteTime": {
     "end_time": "2021-04-28T06:08:30.772478Z",
     "start_time": "2021-04-28T06:08:30.758170Z"
    }
   },
   "outputs": [
    {
     "name": "stdout",
     "output_type": "stream",
     "text": [
      "[2, 3, 4, 5, 6, 7]\n"
     ]
    }
   ],
   "source": [
    "# 冒泡排序 从第一个和第二个开始比较，如果第一个比第二个大，就交换位置，然后比较第二个和第三个，逐渐往后，经过第一轮后最大的元素已经排在最后，\n",
    "# 重复上述操作。第二大的则会排在倒数第二的位置，第i大的会排在倒数第i个位置。\n",
    "# 将这个步骤重复n-1次即可完成排序，因为最后一次只有一个元素所以不需要比较。\n",
    "def bubble_sort(are):\n",
    "    n = len(are)\n",
    "    for i in range(0, n):\n",
    "        for j in range(1,n):\n",
    "            if (are[j-1] > are[j]):\n",
    "                are[j-1],are[j] = are[j],are[j-1]  # 两两对换\n",
    "\n",
    "    return are\n",
    "\n",
    "ar = [6,5,2,3,4,7]\n",
    "print(bubble_sort(ar))"
   ]
  },
  {
   "cell_type": "code",
   "execution_count": 5,
   "metadata": {
    "ExecuteTime": {
     "end_time": "2021-04-28T06:14:38.248095Z",
     "start_time": "2021-04-28T06:14:38.236090Z"
    }
   },
   "outputs": [
    {
     "name": "stdout",
     "output_type": "stream",
     "text": [
      "[2, 3, 4, 5, 6, 7]\n"
     ]
    }
   ],
   "source": [
    "#快速排序 从数列中挑出一个元素作为基准数。然后进行分区操作，将比基准数大的放到右边，小于或等于它的数都放到左边。再对左右区间分别递归进行分区操作，直至各区间都只含有一个数为止。\n",
    "def quick_sort(are):\n",
    "    if len(are) <= 1:\n",
    "        return are    # 注意1：这个判断不能少\n",
    "    less = []  # 左边数组\n",
    "    greater = []  # 右边数组\n",
    "    base = are.pop()\n",
    "    # pop() 函数用于移除列表中的一个元素（默认最后一个元素），并且返回该元素的值。\n",
    "    for i in are:\n",
    "        if i>base:\n",
    "            greater.append(i)\n",
    "        else:\n",
    "            less.append(i)\n",
    "    return quick_sort(less) + [base] + quick_sort(greater)\n",
    "    # 注意2：base要加[]\n",
    "\n",
    "\n",
    "ar = [6,5,2,3,4,7]\n",
    "print(quick_sort(ar))"
   ]
  },
  {
   "cell_type": "code",
   "execution_count": 6,
   "metadata": {
    "ExecuteTime": {
     "end_time": "2021-04-28T06:20:11.261788Z",
     "start_time": "2021-04-28T06:20:11.243303Z"
    }
   },
   "outputs": [
    {
     "name": "stdout",
     "output_type": "stream",
     "text": [
      "[2, 3, 4, 5, 6, 7]\n"
     ]
    }
   ],
   "source": [
    "#归并排序 使用递归将源数列使用二分法分成多个子列；申请空间将两个子列排序合并然后返回；将所有子列一步一步合并最后完成排序；\n",
    "def merge_sort(ary):\n",
    "    if len(ary) <= 1:\n",
    "        return ary  # 对0、1数组无需排序直接返回\n",
    "\n",
    "    median = int(len(ary) / 2)  # 二分分解\n",
    "    left = merge_sort(ary[:median])  # 实现递归\n",
    "    right = merge_sort(ary[median:])\n",
    "    return merge(left, right)  # 合并数组\n",
    "\n",
    "\n",
    "def merge(left, right):\n",
    "    '''合并操作，\n",
    "   将两个有序数组left[]和right[]合并成一个大的有序数组'''\n",
    "    res = []\n",
    "    i = j = k = 0\n",
    "    while (i < len(left) and j < len(right)):\n",
    "        if left[i] < right[j]:\n",
    "            res.append(left[i])\n",
    "            i += 1\n",
    "        else:\n",
    "            res.append(right[j])\n",
    "            j += 1\n",
    "\n",
    "    res = res + left[i:] + right[j:]\n",
    "    return res\n",
    "\n",
    "ar = [6,5,2,3,4,7]\n",
    "print(merge_sort(ar))"
   ]
  },
  {
   "cell_type": "code",
   "execution_count": 7,
   "metadata": {
    "ExecuteTime": {
     "end_time": "2021-04-28T06:24:08.248636Z",
     "start_time": "2021-04-28T06:24:08.226866Z"
    }
   },
   "outputs": [
    {
     "name": "stdout",
     "output_type": "stream",
     "text": [
      "[2, 3, 4, 5, 6, 7]\n"
     ]
    }
   ],
   "source": [
    "#希尔排序 希尔排序的整体思想是将固定间隔的几个元素之间排序，然后再缩小这个间隔。这样到最后数列就成为了基本有序数列。\n",
    "def shell_sort(are):\n",
    "    count = len(are)\n",
    "    gap = round(count / 2)\n",
    "    # 双杠用于整除（向下取整），在python直接用 “/” 得到的永远是浮点数，\n",
    "    # 用round()得到四舍五入值\n",
    "    while gap >= 1:\n",
    "        for i in range(gap, count):\n",
    "            temp = are[i]\n",
    "            j = i\n",
    "            while j - gap >= 0 and are[j - gap] > temp:  # 到这里与插入排序一样了\n",
    "                are[j] = are[j - gap]\n",
    "                j -= gap\n",
    "            are[j] = temp\n",
    "        gap = round(gap / 2)\n",
    "    return are\n",
    "\n",
    "ar = [6,5,2,3,4,7]\n",
    "print(shell_sort(ar))"
   ]
  },
  {
   "cell_type": "code",
   "execution_count": 9,
   "metadata": {
    "ExecuteTime": {
     "end_time": "2021-04-28T06:33:30.400014Z",
     "start_time": "2021-04-28T06:33:30.389490Z"
    }
   },
   "outputs": [
    {
     "name": "stdout",
     "output_type": "stream",
     "text": [
      "[2, 3, 4, 5, 6, 7]\n"
     ]
    }
   ],
   "source": [
    "#基数排序（radix sort）属于“分配式排序”（distribution sort），又称“桶子法”bucket sort或bin sort。\n",
    "#顾名思义，它是透过键值的部份资讯，将要排序的元素分配至某些“桶”中，藉以达到排序的作用。\n",
    "def RadixSort(list,d):\n",
    "    for k in range(d):#d轮排序\n",
    "        # 每一轮生成10个列表\n",
    "        s=[[] for i in range(10)]#因为每一位数字都是0~9，故建立10个桶\n",
    "        for i in list:\n",
    "            # 按第k位放入到桶中\n",
    "            s[i//(10**k)%10].append(i)\n",
    "        # 按当前桶的顺序重排列表\n",
    "        list=[j for i in s for j in i]\n",
    "    return list\n",
    "\n",
    "ar = [6,5,2,3,4,7]\n",
    "print(RadixSort(ar,7))"
   ]
  },
  {
   "cell_type": "code",
   "execution_count": 12,
   "metadata": {
    "ExecuteTime": {
     "end_time": "2021-04-28T06:40:59.181459Z",
     "start_time": "2021-04-28T06:40:58.691992Z"
    }
   },
   "outputs": [
    {
     "name": "stdout",
     "output_type": "stream",
     "text": [
      "[2, 3, 4, 5, 6, 7]\n"
     ]
    }
   ],
   "source": [
    "#计数排序 对每一个输入元素x，确定小于x的元素个数。利用这一信息，就可以直接把x 放在它在输出数组上的位置上。\n",
    "from numpy.random import randint\n",
    "def Conuting_Sort(A):\n",
    "    k = max(A)          # A的最大值，用于确定C的长度\n",
    "    C = [0]*(k+1)       # 通过下表索引，临时存放A的数据\n",
    "    B = (len(A))*[0]    # 存放A排序完成后的数组\n",
    "    for i in range(0, len(A)):\n",
    "        C[A[i]] += 1    # 记录A有哪些数字，值为A[i]的共有几个\n",
    "    for i in range(1, k+1):\n",
    "        C[i] += C[i-1]  # A中小于i的数字个数为C[i]\n",
    "    for i in range(len(A)-1, -1, -1):\n",
    "        B[C[A[i]]-1] = A[i] # C[A[i]]的值即为A[i]的值在A中的次序\n",
    "        C[A[i]] -= 1    # 每插入一个A[i]，则C[A[i]]减一\n",
    "    return B\n",
    "\n",
    "ar = [6,5,2,3,4,7]\n",
    "print(Conuting_Sort(ar))"
   ]
  },
  {
   "cell_type": "code",
   "execution_count": 17,
   "metadata": {
    "ExecuteTime": {
     "end_time": "2021-04-28T06:51:19.147578Z",
     "start_time": "2021-04-28T06:51:19.122033Z"
    }
   },
   "outputs": [
    {
     "name": "stdout",
     "output_type": "stream",
     "text": [
      "[2, 3, 4, 5, 6, 7]\n"
     ]
    }
   ],
   "source": [
    "#堆排序\n",
    "def heap_sort(ary):\n",
    "    n = len(ary)\n",
    "    first = int(n/2-1)    #最后一个非叶子节点\n",
    "    for start in range(first,-1,-1):    #构建最大堆\n",
    "        max_heapify(ary,start,n-1)\n",
    "    for end in range(n-1,0,-1):    #堆排，将最大跟堆转换成有序数组\n",
    "        ary[end],ary[0] = ary[0], ary[end]    #将根节点元素与最后叶子节点进行互换，取出最大根节点元素，对剩余节点重新构建最大堆\n",
    "        max_heapify(ary,0,end-1)    #因为end上面取的是n-1，故而这里直接放end-1，相当于忽略了最后最大根节点元素ary[n-1]\n",
    "    return ary\n",
    "\n",
    "\n",
    "#最大堆调整：将堆的末端子节点作调整，使得子节点永远小于父节点\n",
    "#start为当前需要调整最大堆的位置，end为调整边界\n",
    "def max_heapify(ary,start,end):\n",
    "    root = start\n",
    "    while True:\n",
    "        child = root * 2 + 1    #调整节点的子节点\n",
    "        if child > end:\n",
    "            break\n",
    "        if child + 1 <= end and ary[child] < ary[child+1]:\n",
    "            child = child + 1   #取较大的子节点\n",
    "        if ary[root] < ary[child]:    #较大的子节点成为父节点\n",
    "            ary[root], ary[child] = ary[child], ary[root]    #交换\n",
    "            root = child\n",
    "        else:\n",
    "            break\n",
    "\n",
    "ar = [6,5,2,3,4,7]\n",
    "print(heap_sort(ar))"
   ]
  },
  {
   "cell_type": "code",
   "execution_count": 18,
   "metadata": {
    "ExecuteTime": {
     "end_time": "2021-04-28T06:51:21.702255Z",
     "start_time": "2021-04-28T06:51:21.681744Z"
    }
   },
   "outputs": [
    {
     "name": "stdout",
     "output_type": "stream",
     "text": [
      "[2, 3, 4, 5, 6, 7]\n"
     ]
    }
   ],
   "source": [
    "#桶排序\n",
    "def bucket_sort(the_list):\n",
    "    #设置全为0的数组\n",
    "    all_list = [0 for i in range(100)]\n",
    "    last_list = []\n",
    "    for v in the_list:\n",
    "        all_list[v] = 1 if all_list[v]==0 else all_list[v]+1\n",
    "    for i,t_v in enumerate(all_list):\n",
    "        if t_v != 0:\n",
    "            for j in range(t_v):\n",
    "                last_list.append(i)\n",
    "    return last_list\n",
    "\n",
    "ar = [6,5,2,3,4,7]\n",
    "print(bucket_sort(ar))"
   ]
  },
  {
   "cell_type": "code",
   "execution_count": null,
   "metadata": {},
   "outputs": [],
   "source": []
  }
 ],
 "metadata": {
  "kernelspec": {
   "display_name": "Python 3",
   "language": "python",
   "name": "python3"
  },
  "language_info": {
   "codemirror_mode": {
    "name": "ipython",
    "version": 3
   },
   "file_extension": ".py",
   "mimetype": "text/x-python",
   "name": "python",
   "nbconvert_exporter": "python",
   "pygments_lexer": "ipython3",
   "version": "3.7.6"
  },
  "toc": {
   "base_numbering": 1,
   "nav_menu": {},
   "number_sections": true,
   "sideBar": true,
   "skip_h1_title": false,
   "title_cell": "Table of Contents",
   "title_sidebar": "Contents",
   "toc_cell": false,
   "toc_position": {},
   "toc_section_display": true,
   "toc_window_display": true
  }
 },
 "nbformat": 4,
 "nbformat_minor": 2
}
