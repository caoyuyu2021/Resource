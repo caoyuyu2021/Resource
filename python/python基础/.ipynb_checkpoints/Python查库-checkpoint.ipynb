{
 "cells": [
  {
   "cell_type": "markdown",
   "id": "e7f40dd4",
   "metadata": {},
   "source": [
    "# Incroduction"
   ]
  },
  {
   "cell_type": "code",
   "execution_count": 21,
   "id": "25149c43",
   "metadata": {
    "ExecuteTime": {
     "end_time": "2022-06-23T06:40:58.532424Z",
     "start_time": "2022-06-23T06:40:58.519468Z"
    },
    "collapsed": true
   },
   "outputs": [
    {
     "data": {
      "text/plain": [
       "['ArithmeticError',\n",
       " 'AssertionError',\n",
       " 'AttributeError',\n",
       " 'BaseException',\n",
       " 'BlockingIOError',\n",
       " 'BrokenPipeError',\n",
       " 'BufferError',\n",
       " 'BytesWarning',\n",
       " 'ChildProcessError',\n",
       " 'ConnectionAbortedError',\n",
       " 'ConnectionError',\n",
       " 'ConnectionRefusedError',\n",
       " 'ConnectionResetError',\n",
       " 'DeprecationWarning',\n",
       " 'EOFError',\n",
       " 'Ellipsis',\n",
       " 'EnvironmentError',\n",
       " 'Exception',\n",
       " 'False',\n",
       " 'FileExistsError',\n",
       " 'FileNotFoundError',\n",
       " 'FloatingPointError',\n",
       " 'FutureWarning',\n",
       " 'GeneratorExit',\n",
       " 'IOError',\n",
       " 'ImportError',\n",
       " 'ImportWarning',\n",
       " 'IndentationError',\n",
       " 'IndexError',\n",
       " 'InterruptedError',\n",
       " 'IsADirectoryError',\n",
       " 'KeyError',\n",
       " 'KeyboardInterrupt',\n",
       " 'LookupError',\n",
       " 'MemoryError',\n",
       " 'ModuleNotFoundError',\n",
       " 'NameError',\n",
       " 'None',\n",
       " 'NotADirectoryError',\n",
       " 'NotImplemented',\n",
       " 'NotImplementedError',\n",
       " 'OSError',\n",
       " 'OverflowError',\n",
       " 'PendingDeprecationWarning',\n",
       " 'PermissionError',\n",
       " 'ProcessLookupError',\n",
       " 'RecursionError',\n",
       " 'ReferenceError',\n",
       " 'ResourceWarning',\n",
       " 'RuntimeError',\n",
       " 'RuntimeWarning',\n",
       " 'StopAsyncIteration',\n",
       " 'StopIteration',\n",
       " 'SyntaxError',\n",
       " 'SyntaxWarning',\n",
       " 'SystemError',\n",
       " 'SystemExit',\n",
       " 'TabError',\n",
       " 'TimeoutError',\n",
       " 'True',\n",
       " 'TypeError',\n",
       " 'UnboundLocalError',\n",
       " 'UnicodeDecodeError',\n",
       " 'UnicodeEncodeError',\n",
       " 'UnicodeError',\n",
       " 'UnicodeTranslateError',\n",
       " 'UnicodeWarning',\n",
       " 'UserWarning',\n",
       " 'ValueError',\n",
       " 'Warning',\n",
       " 'WindowsError',\n",
       " 'ZeroDivisionError',\n",
       " '__IPYTHON__',\n",
       " '__build_class__',\n",
       " '__debug__',\n",
       " '__doc__',\n",
       " '__import__',\n",
       " '__loader__',\n",
       " '__name__',\n",
       " '__package__',\n",
       " '__pybind11_internals_v4_msvc__',\n",
       " '__spec__',\n",
       " 'abs',\n",
       " 'all',\n",
       " 'any',\n",
       " 'ascii',\n",
       " 'bin',\n",
       " 'bool',\n",
       " 'breakpoint',\n",
       " 'bytearray',\n",
       " 'bytes',\n",
       " 'callable',\n",
       " 'chr',\n",
       " 'classmethod',\n",
       " 'compile',\n",
       " 'complex',\n",
       " 'copyright',\n",
       " 'credits',\n",
       " 'delattr',\n",
       " 'dict',\n",
       " 'dir',\n",
       " 'display',\n",
       " 'divmod',\n",
       " 'enumerate',\n",
       " 'eval',\n",
       " 'exec',\n",
       " 'execfile',\n",
       " 'filter',\n",
       " 'float',\n",
       " 'format',\n",
       " 'frozenset',\n",
       " 'get_ipython',\n",
       " 'getattr',\n",
       " 'globals',\n",
       " 'hasattr',\n",
       " 'hash',\n",
       " 'help',\n",
       " 'hex',\n",
       " 'id',\n",
       " 'input',\n",
       " 'int',\n",
       " 'isinstance',\n",
       " 'issubclass',\n",
       " 'iter',\n",
       " 'len',\n",
       " 'license',\n",
       " 'list',\n",
       " 'locals',\n",
       " 'map',\n",
       " 'max',\n",
       " 'memoryview',\n",
       " 'min',\n",
       " 'next',\n",
       " 'object',\n",
       " 'oct',\n",
       " 'open',\n",
       " 'ord',\n",
       " 'pow',\n",
       " 'print',\n",
       " 'property',\n",
       " 'range',\n",
       " 'repr',\n",
       " 'reversed',\n",
       " 'round',\n",
       " 'runfile',\n",
       " 'set',\n",
       " 'setattr',\n",
       " 'slice',\n",
       " 'sorted',\n",
       " 'staticmethod',\n",
       " 'str',\n",
       " 'sum',\n",
       " 'super',\n",
       " 'tuple',\n",
       " 'type',\n",
       " 'vars',\n",
       " 'zip']"
      ]
     },
     "execution_count": 21,
     "metadata": {},
     "output_type": "execute_result"
    }
   ],
   "source": [
    "dir(__builtins__)#查看python本身内置函数"
   ]
  },
  {
   "cell_type": "markdown",
   "id": "07ed8ef4",
   "metadata": {},
   "source": [
    "## help system"
   ]
  },
  {
   "cell_type": "markdown",
   "id": "8dc15fa4",
   "metadata": {},
   "source": [
    "dir()函数：dir([object]) 会返回object所有有效的属性列表。"
   ]
  },
  {
   "cell_type": "markdown",
   "id": "7329a632",
   "metadata": {},
   "source": [
    "vars()函数：vars([object]) 返回object对象的__dict__属性，其中object对象可以是模块，类，实例，或任何其他有__dict__属性的对象。"
   ]
  },
  {
   "cell_type": "markdown",
   "id": "82cabff6",
   "metadata": {},
   "source": [
    "help()函数：help([object])调用内置帮助系统。"
   ]
  },
  {
   "cell_type": "markdown",
   "id": "1191eafa",
   "metadata": {},
   "source": [
    "?：调用内置帮助系统，与help()类似。"
   ]
  },
  {
   "cell_type": "markdown",
   "id": "adde34f3",
   "metadata": {},
   "source": [
    "## code style"
   ]
  },
  {
   "cell_type": "markdown",
   "id": "fa2d5018",
   "metadata": {},
   "source": [
    "在阅读Python代码时，经常看到函数名称前后有下划线的情况，一般存在如下三种情况，下面对下划线的作用做一个简单小结。"
   ]
  },
  {
   "cell_type": "markdown",
   "id": "26131739",
   "metadata": {},
   "source": [
    "**1、函数名前单下划线**  "
   ]
  },
  {
   "cell_type": "markdown",
   "id": "b9d9371d",
   "metadata": {},
   "source": [
    "`_function`"
   ]
  },
  {
   "cell_type": "markdown",
   "id": "1a8aedd4",
   "metadata": {},
   "source": [
    "该类函数不是API的一部分，所以该函数只有类和子类能够访问调用，无法通过Import引入。"
   ]
  },
  {
   "cell_type": "markdown",
   "id": "7cab6921",
   "metadata": {},
   "source": [
    "**2、函数名前双下划线**"
   ]
  },
  {
   "cell_type": "markdown",
   "id": "5ae8f9de",
   "metadata": {},
   "source": [
    "`__function`"
   ]
  },
  {
   "cell_type": "markdown",
   "id": "47e4cd75",
   "metadata": {},
   "source": [
    "该类函数不想让任何人重写它，只能从定义它的类内部访问，即此函数只有类对象本身能够访问。"
   ]
  },
  {
   "cell_type": "markdown",
   "id": "01faa9aa",
   "metadata": {},
   "source": [
    "**3、函数名前后双下划线**"
   ]
  },
  {
   "cell_type": "markdown",
   "id": "0962d5fc",
   "metadata": {},
   "source": [
    "`__function__`"
   ]
  },
  {
   "cell_type": "markdown",
   "id": "12b98029",
   "metadata": {},
   "source": [
    "此类函数为系统定义函数名，命名函数时尽量避免此类命名方式，比如\\_\\_init\\_\\_()。"
   ]
  },
  {
   "cell_type": "markdown",
   "id": "5e318c0b",
   "metadata": {},
   "source": [
    "**4、函数名后单下划线**"
   ]
  },
  {
   "cell_type": "markdown",
   "id": "15bd86a4",
   "metadata": {},
   "source": [
    "`function_`"
   ]
  },
  {
   "cell_type": "markdown",
   "id": "d9abe32d",
   "metadata": {},
   "source": [
    "该类为函数的属性值，可通过函数.属性值调用。按约定使用以避免与python关键字的命名冲突。"
   ]
  },
  {
   "cell_type": "markdown",
   "id": "15801293",
   "metadata": {},
   "source": [
    "# sklearn"
   ]
  },
  {
   "cell_type": "code",
   "execution_count": 1,
   "id": "1754ebba",
   "metadata": {
    "ExecuteTime": {
     "end_time": "2022-06-28T02:25:37.682380Z",
     "start_time": "2022-06-28T02:25:35.157793Z"
    }
   },
   "outputs": [],
   "source": [
    "import sklearn"
   ]
  },
  {
   "cell_type": "code",
   "execution_count": 2,
   "id": "3cc8378c",
   "metadata": {
    "ExecuteTime": {
     "end_time": "2022-06-28T02:25:37.698281Z",
     "start_time": "2022-06-28T02:25:37.683351Z"
    }
   },
   "outputs": [
    {
     "data": {
      "text/plain": [
       "['__SKLEARN_SETUP__',\n",
       " '__all__',\n",
       " '__builtins__',\n",
       " '__cached__',\n",
       " '__check_build',\n",
       " '__doc__',\n",
       " '__file__',\n",
       " '__loader__',\n",
       " '__name__',\n",
       " '__package__',\n",
       " '__path__',\n",
       " '__spec__',\n",
       " '__version__',\n",
       " '_config',\n",
       " '_distributor_init',\n",
       " 'base',\n",
       " 'clone',\n",
       " 'config_context',\n",
       " 'exceptions',\n",
       " 'externals',\n",
       " 'get_config',\n",
       " 'logger',\n",
       " 'logging',\n",
       " 'os',\n",
       " 'random',\n",
       " 'set_config',\n",
       " 'setup_module',\n",
       " 'show_versions',\n",
       " 'sys',\n",
       " 'utils']"
      ]
     },
     "execution_count": 2,
     "metadata": {},
     "output_type": "execute_result"
    }
   ],
   "source": [
    "dir(sklearn)"
   ]
  },
  {
   "cell_type": "markdown",
   "id": "41004d02",
   "metadata": {},
   "source": [
    "## sklearn.linear_model "
   ]
  },
  {
   "cell_type": "code",
   "execution_count": 1,
   "id": "b6ad1067",
   "metadata": {
    "ExecuteTime": {
     "end_time": "2023-01-07T09:39:09.505751Z",
     "start_time": "2023-01-07T09:39:08.814305Z"
    }
   },
   "outputs": [],
   "source": [
    "import sklearn.linear_model "
   ]
  },
  {
   "cell_type": "markdown",
   "id": "dfc76a1d",
   "metadata": {},
   "source": [
    "### Ridge"
   ]
  },
  {
   "cell_type": "code",
   "execution_count": 2,
   "id": "3ea72e72",
   "metadata": {
    "ExecuteTime": {
     "end_time": "2023-01-07T09:39:11.907066Z",
     "start_time": "2023-01-07T09:39:11.850152Z"
    }
   },
   "outputs": [],
   "source": [
    "?sklearn.linear_model.Ridge"
   ]
  },
  {
   "cell_type": "markdown",
   "id": "265c2630",
   "metadata": {},
   "source": [
    "### LinearRegression"
   ]
  },
  {
   "cell_type": "code",
   "execution_count": 2,
   "id": "da82fc72",
   "metadata": {
    "ExecuteTime": {
     "end_time": "2022-07-21T01:33:24.023444Z",
     "start_time": "2022-07-21T01:33:23.959800Z"
    }
   },
   "outputs": [],
   "source": [
    "?sklearn.linear_model.LinearRegression"
   ]
  },
  {
   "cell_type": "code",
   "execution_count": 69,
   "id": "f4145658",
   "metadata": {
    "ExecuteTime": {
     "end_time": "2022-06-14T06:18:49.575709Z",
     "start_time": "2022-06-14T06:18:49.567623Z"
    }
   },
   "outputs": [
    {
     "data": {
      "text/plain": [
       "['__abstractmethods__',\n",
       " '__class__',\n",
       " '__delattr__',\n",
       " '__dict__',\n",
       " '__dir__',\n",
       " '__doc__',\n",
       " '__eq__',\n",
       " '__format__',\n",
       " '__ge__',\n",
       " '__getattribute__',\n",
       " '__getstate__',\n",
       " '__gt__',\n",
       " '__hash__',\n",
       " '__init__',\n",
       " '__init_subclass__',\n",
       " '__le__',\n",
       " '__lt__',\n",
       " '__module__',\n",
       " '__ne__',\n",
       " '__new__',\n",
       " '__reduce__',\n",
       " '__reduce_ex__',\n",
       " '__repr__',\n",
       " '__setattr__',\n",
       " '__setstate__',\n",
       " '__sizeof__',\n",
       " '__str__',\n",
       " '__subclasshook__',\n",
       " '__weakref__',\n",
       " '_abc_impl',\n",
       " '_check_feature_names',\n",
       " '_check_n_features',\n",
       " '_decision_function',\n",
       " '_estimator_type',\n",
       " '_get_param_names',\n",
       " '_get_tags',\n",
       " '_more_tags',\n",
       " '_repr_html_',\n",
       " '_repr_html_inner',\n",
       " '_repr_mimebundle_',\n",
       " '_set_intercept',\n",
       " '_validate_data',\n",
       " 'fit',\n",
       " 'get_params',\n",
       " 'predict',\n",
       " 'score',\n",
       " 'set_params']"
      ]
     },
     "execution_count": 69,
     "metadata": {},
     "output_type": "execute_result"
    }
   ],
   "source": [
    "dir(sklearn.linear_model.LinearRegression)"
   ]
  },
  {
   "cell_type": "markdown",
   "id": "8ed6ed86",
   "metadata": {},
   "source": [
    "### LogisticRegressionCV"
   ]
  },
  {
   "cell_type": "code",
   "execution_count": 5,
   "id": "4b6fcf28",
   "metadata": {
    "ExecuteTime": {
     "end_time": "2022-06-23T06:06:34.148536Z",
     "start_time": "2022-06-23T06:06:34.108664Z"
    }
   },
   "outputs": [],
   "source": [
    "?sklearn.linear_model.LogisticRegressionCV"
   ]
  },
  {
   "cell_type": "markdown",
   "id": "5b5e000e",
   "metadata": {},
   "source": [
    "### Lasso"
   ]
  },
  {
   "cell_type": "code",
   "execution_count": 20,
   "id": "c9ff0caf",
   "metadata": {
    "ExecuteTime": {
     "end_time": "2022-06-16T02:26:35.497110Z",
     "start_time": "2022-06-16T02:26:35.480546Z"
    }
   },
   "outputs": [],
   "source": [
    "?sklearn.linear_model.Lasso"
   ]
  },
  {
   "cell_type": "markdown",
   "id": "e506af1b",
   "metadata": {},
   "source": [
    "## sklearn.preprocessing"
   ]
  },
  {
   "cell_type": "code",
   "execution_count": 75,
   "id": "9578f501",
   "metadata": {
    "ExecuteTime": {
     "end_time": "2022-06-14T06:46:42.785398Z",
     "start_time": "2022-06-14T06:46:42.775426Z"
    }
   },
   "outputs": [],
   "source": [
    "import sklearn.preprocessing"
   ]
  },
  {
   "cell_type": "markdown",
   "id": "f8f0464a",
   "metadata": {},
   "source": [
    "### PolynomialFeatures"
   ]
  },
  {
   "cell_type": "code",
   "execution_count": 83,
   "id": "1b70a131",
   "metadata": {
    "ExecuteTime": {
     "end_time": "2022-06-14T06:49:43.959134Z",
     "start_time": "2022-06-14T06:49:43.943896Z"
    }
   },
   "outputs": [
    {
     "data": {
      "text/plain": [
       "['__class__',\n",
       " '__delattr__',\n",
       " '__dict__',\n",
       " '__dir__',\n",
       " '__doc__',\n",
       " '__eq__',\n",
       " '__format__',\n",
       " '__ge__',\n",
       " '__getattribute__',\n",
       " '__getstate__',\n",
       " '__gt__',\n",
       " '__hash__',\n",
       " '__init__',\n",
       " '__init_subclass__',\n",
       " '__le__',\n",
       " '__lt__',\n",
       " '__module__',\n",
       " '__ne__',\n",
       " '__new__',\n",
       " '__reduce__',\n",
       " '__reduce_ex__',\n",
       " '__repr__',\n",
       " '__setattr__',\n",
       " '__setstate__',\n",
       " '__sizeof__',\n",
       " '__str__',\n",
       " '__subclasshook__',\n",
       " '__weakref__',\n",
       " '_check_feature_names',\n",
       " '_check_n_features',\n",
       " '_combinations',\n",
       " '_get_param_names',\n",
       " '_get_tags',\n",
       " '_more_tags',\n",
       " '_num_combinations',\n",
       " '_repr_html_',\n",
       " '_repr_html_inner',\n",
       " '_repr_mimebundle_',\n",
       " '_validate_data',\n",
       " 'fit',\n",
       " 'fit_transform',\n",
       " 'get_feature_names',\n",
       " 'get_feature_names_out',\n",
       " 'get_params',\n",
       " 'n_input_features_',\n",
       " 'powers_',\n",
       " 'set_params',\n",
       " 'transform']"
      ]
     },
     "execution_count": 83,
     "metadata": {},
     "output_type": "execute_result"
    }
   ],
   "source": [
    "dir(sklearn.preprocessing.PolynomialFeatures)"
   ]
  },
  {
   "cell_type": "code",
   "execution_count": 11,
   "id": "9d1cde57",
   "metadata": {
    "ExecuteTime": {
     "end_time": "2022-06-23T03:22:00.079747Z",
     "start_time": "2022-06-23T03:22:00.064798Z"
    }
   },
   "outputs": [],
   "source": [
    "?sklearn.preprocessing.PolynomialFeatures"
   ]
  },
  {
   "cell_type": "markdown",
   "id": "442f44e2",
   "metadata": {},
   "source": [
    "## sklearn.inspection"
   ]
  },
  {
   "cell_type": "code",
   "execution_count": 1,
   "id": "483375fe",
   "metadata": {
    "ExecuteTime": {
     "end_time": "2022-08-23T01:20:22.166817Z",
     "start_time": "2022-08-23T01:20:19.698467Z"
    }
   },
   "outputs": [],
   "source": [
    "import sklearn.inspection #检查"
   ]
  },
  {
   "cell_type": "code",
   "execution_count": 8,
   "id": "4f41c049",
   "metadata": {
    "ExecuteTime": {
     "end_time": "2022-06-15T01:16:14.391490Z",
     "start_time": "2022-06-15T01:16:14.377585Z"
    }
   },
   "outputs": [
    {
     "data": {
      "text/plain": [
       "['DecisionBoundaryDisplay',\n",
       " 'PartialDependenceDisplay',\n",
       " '__all__',\n",
       " '__builtins__',\n",
       " '__cached__',\n",
       " '__doc__',\n",
       " '__file__',\n",
       " '__loader__',\n",
       " '__name__',\n",
       " '__package__',\n",
       " '__path__',\n",
       " '__spec__',\n",
       " '_partial_dependence',\n",
       " '_permutation_importance',\n",
       " '_plot',\n",
       " 'partial_dependence',\n",
       " 'permutation_importance',\n",
       " 'plot_partial_dependence']"
      ]
     },
     "execution_count": 8,
     "metadata": {},
     "output_type": "execute_result"
    }
   ],
   "source": [
    "dir(sklearn.inspection)"
   ]
  },
  {
   "cell_type": "markdown",
   "id": "a424b554",
   "metadata": {},
   "source": [
    "### partial_dependence"
   ]
  },
  {
   "cell_type": "code",
   "execution_count": 2,
   "id": "c9c9dc7c",
   "metadata": {
    "ExecuteTime": {
     "end_time": "2022-08-23T01:20:54.503145Z",
     "start_time": "2022-08-23T01:20:54.475718Z"
    }
   },
   "outputs": [
    {
     "data": {
      "text/plain": [
       "<code object partial_dependence at 0x00000221D1B9C870, file \"D:\\TongYuan\\.julia\\conda\\3\\lib\\site-packages\\sklearn\\inspection\\_partial_dependence.py\", line 207>"
      ]
     },
     "execution_count": 2,
     "metadata": {},
     "output_type": "execute_result"
    }
   ],
   "source": [
    "sklearn.inspection.partial_dependence.__code__"
   ]
  },
  {
   "cell_type": "code",
   "execution_count": 9,
   "id": "3f814a58",
   "metadata": {
    "ExecuteTime": {
     "end_time": "2022-08-19T03:01:09.116006Z",
     "start_time": "2022-08-19T03:01:09.096007Z"
    }
   },
   "outputs": [],
   "source": [
    "?sklearn.inspection.partial_dependence"
   ]
  },
  {
   "cell_type": "code",
   "execution_count": 3,
   "id": "c18625c5",
   "metadata": {
    "ExecuteTime": {
     "end_time": "2022-08-19T02:36:43.113878Z",
     "start_time": "2022-08-19T02:36:43.109878Z"
    }
   },
   "outputs": [],
   "source": [
    "X = [[0, 0, 2], [1, 0, 0]]"
   ]
  },
  {
   "cell_type": "code",
   "execution_count": 4,
   "id": "76a8dd7d",
   "metadata": {
    "ExecuteTime": {
     "end_time": "2022-08-19T02:36:44.543794Z",
     "start_time": "2022-08-19T02:36:44.530546Z"
    }
   },
   "outputs": [],
   "source": [
    "y = [0, 1]"
   ]
  },
  {
   "cell_type": "code",
   "execution_count": 5,
   "id": "3fda5f6a",
   "metadata": {
    "ExecuteTime": {
     "end_time": "2022-08-19T02:36:45.595965Z",
     "start_time": "2022-08-19T02:36:45.577965Z"
    }
   },
   "outputs": [],
   "source": [
    "from sklearn.ensemble import GradientBoostingClassifier"
   ]
  },
  {
   "cell_type": "code",
   "execution_count": 6,
   "id": "00d05626",
   "metadata": {
    "ExecuteTime": {
     "end_time": "2022-08-19T02:36:46.509576Z",
     "start_time": "2022-08-19T02:36:46.416354Z"
    }
   },
   "outputs": [],
   "source": [
    "gb = GradientBoostingClassifier(random_state=0).fit(X, y)"
   ]
  },
  {
   "cell_type": "code",
   "execution_count": 8,
   "id": "713e9ff7",
   "metadata": {
    "ExecuteTime": {
     "end_time": "2022-08-19T02:37:04.276611Z",
     "start_time": "2022-08-19T02:37:04.253611Z"
    }
   },
   "outputs": [
    {
     "data": {
      "text/plain": [
       "{'average': array([[-5.39711187,  5.39711187]]), 'values': [array([0., 1.])]}"
      ]
     },
     "execution_count": 8,
     "metadata": {},
     "output_type": "execute_result"
    }
   ],
   "source": [
    "sklearn.inspection.partial_dependence(gb, features=[0], X=X, percentiles=(0, 1), grid_resolution=2)"
   ]
  },
  {
   "cell_type": "markdown",
   "id": "7ad9d6c0",
   "metadata": {},
   "source": [
    "## sklearn.model_selection"
   ]
  },
  {
   "cell_type": "code",
   "execution_count": 1,
   "id": "208a89f1",
   "metadata": {
    "ExecuteTime": {
     "end_time": "2022-08-29T02:40:28.210087Z",
     "start_time": "2022-08-29T02:40:26.114235Z"
    }
   },
   "outputs": [],
   "source": [
    "import sklearn.model_selection"
   ]
  },
  {
   "cell_type": "code",
   "execution_count": 2,
   "id": "2778d862",
   "metadata": {
    "ExecuteTime": {
     "end_time": "2022-08-29T02:40:31.244402Z",
     "start_time": "2022-08-29T02:40:31.230402Z"
    }
   },
   "outputs": [
    {
     "data": {
      "text/plain": [
       "['BaseCrossValidator',\n",
       " 'BaseShuffleSplit',\n",
       " 'GridSearchCV',\n",
       " 'GroupKFold',\n",
       " 'GroupShuffleSplit',\n",
       " 'KFold',\n",
       " 'LeaveOneGroupOut',\n",
       " 'LeaveOneOut',\n",
       " 'LeavePGroupsOut',\n",
       " 'LeavePOut',\n",
       " 'ParameterGrid',\n",
       " 'ParameterSampler',\n",
       " 'PredefinedSplit',\n",
       " 'RandomizedSearchCV',\n",
       " 'RepeatedKFold',\n",
       " 'RepeatedStratifiedKFold',\n",
       " 'ShuffleSplit',\n",
       " 'StratifiedGroupKFold',\n",
       " 'StratifiedKFold',\n",
       " 'StratifiedShuffleSplit',\n",
       " 'TimeSeriesSplit',\n",
       " '__all__',\n",
       " '__builtins__',\n",
       " '__cached__',\n",
       " '__doc__',\n",
       " '__file__',\n",
       " '__getattr__',\n",
       " '__loader__',\n",
       " '__name__',\n",
       " '__package__',\n",
       " '__path__',\n",
       " '__spec__',\n",
       " '_search',\n",
       " '_split',\n",
       " '_validation',\n",
       " 'check_cv',\n",
       " 'cross_val_predict',\n",
       " 'cross_val_score',\n",
       " 'cross_validate',\n",
       " 'learning_curve',\n",
       " 'permutation_test_score',\n",
       " 'train_test_split',\n",
       " 'typing',\n",
       " 'validation_curve']"
      ]
     },
     "execution_count": 2,
     "metadata": {},
     "output_type": "execute_result"
    }
   ],
   "source": [
    "dir(sklearn.model_selection)"
   ]
  },
  {
   "cell_type": "markdown",
   "id": "c7411925",
   "metadata": {},
   "source": [
    "### cross_val_predict"
   ]
  },
  {
   "cell_type": "code",
   "execution_count": 14,
   "id": "21233864",
   "metadata": {
    "ExecuteTime": {
     "end_time": "2022-08-31T08:42:39.110219Z",
     "start_time": "2022-08-31T08:42:39.096219Z"
    }
   },
   "outputs": [],
   "source": [
    "?sklearn.model_selection.cross_val_predict"
   ]
  },
  {
   "cell_type": "code",
   "execution_count": 13,
   "id": "dded195b",
   "metadata": {
    "ExecuteTime": {
     "end_time": "2022-08-31T06:30:39.793795Z",
     "start_time": "2022-08-31T06:30:39.769796Z"
    }
   },
   "outputs": [
    {
     "data": {
      "text/plain": [
       "array([174.26880804, 117.65351812, 164.60139517, 155.64896614,\n",
       "       132.68760433, 128.49628881, 120.76054246, 141.06973577,\n",
       "       164.18815157, 182.37359235, 111.04089197, 127.94301803,\n",
       "       135.08790036, 162.83048118, 135.35840097, 157.646062  ,\n",
       "       178.95718913, 163.39063561, 143.8537171 , 144.29750064,\n",
       "       133.58233051, 124.77837092, 132.90970661, 208.52815059,\n",
       "       153.61883822, 154.16510156, 118.95406457, 163.50463573,\n",
       "       145.89310221, 168.33041101, 155.87407921, 123.45950035,\n",
       "       185.70488949, 133.38607278, 117.27952346, 150.27889968,\n",
       "       174.15239599, 160.03182658, 192.31482952, 161.58472303,\n",
       "       154.22198208, 119.3542199 , 146.15701123, 133.82133127,\n",
       "       179.68058182, 137.96512787, 146.07828391, 126.77695128,\n",
       "       123.32171096, 166.26579186, 146.41482006, 161.67179165,\n",
       "       147.47956035, 138.44754455, 144.85639621, 113.77894392,\n",
       "       185.54822207, 115.3184268 , 142.23537263, 171.07810595,\n",
       "       132.53792741, 177.804149  , 116.56316924, 134.25390247,\n",
       "       142.88636755, 173.2810216 , 154.3131706 , 149.16866669,\n",
       "       144.88198422, 121.97620921, 110.38264649, 180.256848  ,\n",
       "       199.05936395, 151.12103871, 161.14084613, 153.96825789,\n",
       "       150.77351299, 113.30728681, 165.15799964, 115.85653979,\n",
       "       174.19357338, 150.11981272, 115.47896755, 153.38941372,\n",
       "       115.31491321, 156.50136756,  92.62132743, 178.15703742,\n",
       "       131.59414072, 134.4595406 , 116.97477767, 190.00997209,\n",
       "       166.01073896, 126.26094663, 134.29467801, 144.72144347,\n",
       "       190.97839825, 182.39093099, 154.45282532, 148.30386965,\n",
       "       151.72181945, 124.12933168, 138.60217036, 137.75932827,\n",
       "       123.09198296, 131.74775137, 112.07413774, 124.56829499,\n",
       "       156.78556054, 128.63113028,  93.68261606, 130.54248822,\n",
       "       131.86857136, 154.57121467, 179.8136611 , 165.78203933,\n",
       "       150.04784865, 162.3802658 , 143.92902775, 143.15527739,\n",
       "       125.20186268, 145.99563268, 155.35031858, 145.97631553,\n",
       "       134.66102139, 163.92609605, 101.92269793, 139.32878073,\n",
       "       122.714843  , 152.20573137, 153.36795743, 116.76441525,\n",
       "       131.96912343, 109.7467123 , 132.57442844, 159.38054395,\n",
       "       109.31271822, 147.69895686, 156.36777035, 161.12384083,\n",
       "       128.16629451, 156.784652  , 154.04498872, 124.83843865,\n",
       "       143.85525003, 143.23635903, 147.76264284, 154.21725374,\n",
       "       129.08004207, 157.79641814])"
      ]
     },
     "execution_count": 13,
     "metadata": {},
     "output_type": "execute_result"
    }
   ],
   "source": [
    "from sklearn import datasets, linear_model\n",
    "from sklearn.model_selection import cross_val_predict\n",
    "diabetes = datasets.load_diabetes()\n",
    "X = diabetes.data[:150]\n",
    "y = diabetes.target[:150]\n",
    "lasso = linear_model.Lasso()\n",
    "y_pred = cross_val_predict(lasso, X, y, cv=3)\n",
    "y_pred"
   ]
  },
  {
   "cell_type": "markdown",
   "id": "9db7a0d3",
   "metadata": {},
   "source": [
    "### cross_val_score"
   ]
  },
  {
   "cell_type": "code",
   "execution_count": 5,
   "id": "b4bd917b",
   "metadata": {
    "ExecuteTime": {
     "end_time": "2022-08-30T06:32:26.944586Z",
     "start_time": "2022-08-30T06:32:26.924586Z"
    }
   },
   "outputs": [],
   "source": [
    "?sklearn.model_selection.cross_val_score"
   ]
  },
  {
   "cell_type": "markdown",
   "id": "e8881c27",
   "metadata": {},
   "source": [
    "### cross_validate"
   ]
  },
  {
   "cell_type": "code",
   "execution_count": 21,
   "id": "3506c6cb",
   "metadata": {
    "ExecuteTime": {
     "end_time": "2022-06-15T06:53:14.753194Z",
     "start_time": "2022-06-15T06:53:14.740236Z"
    }
   },
   "outputs": [],
   "source": [
    "?sklearn.model_selection.cross_validate"
   ]
  },
  {
   "cell_type": "markdown",
   "id": "2166161f",
   "metadata": {},
   "source": [
    "## sklearn.tree"
   ]
  },
  {
   "cell_type": "code",
   "execution_count": 1,
   "id": "23190f04",
   "metadata": {
    "ExecuteTime": {
     "end_time": "2022-11-23T02:51:34.103293Z",
     "start_time": "2022-11-23T02:51:33.667446Z"
    }
   },
   "outputs": [],
   "source": [
    "import sklearn.tree"
   ]
  },
  {
   "cell_type": "code",
   "execution_count": 2,
   "id": "4d503c31",
   "metadata": {
    "ExecuteTime": {
     "end_time": "2022-11-23T02:51:35.256285Z",
     "start_time": "2022-11-23T02:51:35.245355Z"
    }
   },
   "outputs": [
    {
     "data": {
      "text/plain": [
       "['BaseDecisionTree',\n",
       " 'DecisionTreeClassifier',\n",
       " 'DecisionTreeRegressor',\n",
       " 'ExtraTreeClassifier',\n",
       " 'ExtraTreeRegressor',\n",
       " '__all__',\n",
       " '__builtins__',\n",
       " '__cached__',\n",
       " '__doc__',\n",
       " '__file__',\n",
       " '__loader__',\n",
       " '__name__',\n",
       " '__package__',\n",
       " '__path__',\n",
       " '__spec__',\n",
       " '_classes',\n",
       " '_criterion',\n",
       " '_export',\n",
       " '_reingold_tilford',\n",
       " '_splitter',\n",
       " '_tree',\n",
       " '_utils',\n",
       " 'export_graphviz',\n",
       " 'export_text',\n",
       " 'plot_tree']"
      ]
     },
     "execution_count": 2,
     "metadata": {},
     "output_type": "execute_result"
    }
   ],
   "source": [
    "dir(sklearn.tree)"
   ]
  },
  {
   "cell_type": "markdown",
   "id": "03eb81c1",
   "metadata": {},
   "source": [
    "### plot_tree"
   ]
  },
  {
   "cell_type": "code",
   "execution_count": 10,
   "id": "af5f1331",
   "metadata": {
    "ExecuteTime": {
     "end_time": "2022-08-18T09:01:22.065571Z",
     "start_time": "2022-08-18T09:01:22.056575Z"
    }
   },
   "outputs": [],
   "source": [
    "?sklearn.tree.plot_tree"
   ]
  },
  {
   "cell_type": "code",
   "execution_count": 11,
   "id": "17cd79a6",
   "metadata": {
    "ExecuteTime": {
     "end_time": "2022-08-18T09:02:16.034364Z",
     "start_time": "2022-08-18T09:02:15.740802Z"
    }
   },
   "outputs": [
    {
     "data": {
      "text/plain": [
       "[Text(0.5, 0.9166666666666666, 'X[3] <= 0.8\\ngini = 0.667\\nsamples = 150\\nvalue = [50, 50, 50]'),\n",
       " Text(0.4230769230769231, 0.75, 'gini = 0.0\\nsamples = 50\\nvalue = [50, 0, 0]'),\n",
       " Text(0.5769230769230769, 0.75, 'X[3] <= 1.75\\ngini = 0.5\\nsamples = 100\\nvalue = [0, 50, 50]'),\n",
       " Text(0.3076923076923077, 0.5833333333333334, 'X[2] <= 4.95\\ngini = 0.168\\nsamples = 54\\nvalue = [0, 49, 5]'),\n",
       " Text(0.15384615384615385, 0.4166666666666667, 'X[3] <= 1.65\\ngini = 0.041\\nsamples = 48\\nvalue = [0, 47, 1]'),\n",
       " Text(0.07692307692307693, 0.25, 'gini = 0.0\\nsamples = 47\\nvalue = [0, 47, 0]'),\n",
       " Text(0.23076923076923078, 0.25, 'gini = 0.0\\nsamples = 1\\nvalue = [0, 0, 1]'),\n",
       " Text(0.46153846153846156, 0.4166666666666667, 'X[3] <= 1.55\\ngini = 0.444\\nsamples = 6\\nvalue = [0, 2, 4]'),\n",
       " Text(0.38461538461538464, 0.25, 'gini = 0.0\\nsamples = 3\\nvalue = [0, 0, 3]'),\n",
       " Text(0.5384615384615384, 0.25, 'X[2] <= 5.45\\ngini = 0.444\\nsamples = 3\\nvalue = [0, 2, 1]'),\n",
       " Text(0.46153846153846156, 0.08333333333333333, 'gini = 0.0\\nsamples = 2\\nvalue = [0, 2, 0]'),\n",
       " Text(0.6153846153846154, 0.08333333333333333, 'gini = 0.0\\nsamples = 1\\nvalue = [0, 0, 1]'),\n",
       " Text(0.8461538461538461, 0.5833333333333334, 'X[2] <= 4.85\\ngini = 0.043\\nsamples = 46\\nvalue = [0, 1, 45]'),\n",
       " Text(0.7692307692307693, 0.4166666666666667, 'X[1] <= 3.1\\ngini = 0.444\\nsamples = 3\\nvalue = [0, 1, 2]'),\n",
       " Text(0.6923076923076923, 0.25, 'gini = 0.0\\nsamples = 2\\nvalue = [0, 0, 2]'),\n",
       " Text(0.8461538461538461, 0.25, 'gini = 0.0\\nsamples = 1\\nvalue = [0, 1, 0]'),\n",
       " Text(0.9230769230769231, 0.4166666666666667, 'gini = 0.0\\nsamples = 43\\nvalue = [0, 0, 43]')]"
      ]
     },
     "execution_count": 11,
     "metadata": {},
     "output_type": "execute_result"
    },
    {
     "data": {
      "image/png": "[encoded data removed]",
      "text/plain": [
       "<Figure size 1440x648 with 1 Axes>"
      ]
     },
     "metadata": {
      "needs_background": "light"
     },
     "output_type": "display_data"
    }
   ],
   "source": [
    "from sklearn.datasets import load_iris\n",
    "from sklearn import tree\n",
    "import matplotlib.pyplot as plt\n",
    "clf = tree.DecisionTreeClassifier(random_state=0)\n",
    "iris = load_iris()\n",
    "clf = clf.fit(iris.data, iris.target)\n",
    "plt.figure(1, figsize=(20, 9))\n",
    "tree.plot_tree(clf)"
   ]
  },
  {
   "cell_type": "markdown",
   "id": "354ac63a",
   "metadata": {},
   "source": [
    "### DecisionTreeRegressor"
   ]
  },
  {
   "cell_type": "code",
   "execution_count": 3,
   "id": "16b45544",
   "metadata": {
    "ExecuteTime": {
     "end_time": "2022-11-23T02:51:39.999119Z",
     "start_time": "2022-11-23T02:51:39.982176Z"
    }
   },
   "outputs": [],
   "source": [
    "?sklearn.tree.DecisionTreeRegressor.feature_importances_"
   ]
  },
  {
   "cell_type": "markdown",
   "id": "e8703ac0",
   "metadata": {},
   "source": [
    "### DecisionTreeClassifier"
   ]
  },
  {
   "cell_type": "code",
   "execution_count": 39,
   "id": "01822bff",
   "metadata": {
    "ExecuteTime": {
     "end_time": "2022-06-16T06:34:46.691149Z",
     "start_time": "2022-06-16T06:34:46.679191Z"
    }
   },
   "outputs": [
    {
     "data": {
      "text/plain": [
       "['__abstractmethods__',\n",
       " '__class__',\n",
       " '__delattr__',\n",
       " '__dict__',\n",
       " '__dir__',\n",
       " '__doc__',\n",
       " '__eq__',\n",
       " '__format__',\n",
       " '__ge__',\n",
       " '__getattribute__',\n",
       " '__getstate__',\n",
       " '__gt__',\n",
       " '__hash__',\n",
       " '__init__',\n",
       " '__init_subclass__',\n",
       " '__le__',\n",
       " '__lt__',\n",
       " '__module__',\n",
       " '__ne__',\n",
       " '__new__',\n",
       " '__reduce__',\n",
       " '__reduce_ex__',\n",
       " '__repr__',\n",
       " '__setattr__',\n",
       " '__setstate__',\n",
       " '__sizeof__',\n",
       " '__str__',\n",
       " '__subclasshook__',\n",
       " '__weakref__',\n",
       " '_abc_impl',\n",
       " '_check_feature_names',\n",
       " '_check_n_features',\n",
       " '_estimator_type',\n",
       " '_get_param_names',\n",
       " '_get_tags',\n",
       " '_more_tags',\n",
       " '_prune_tree',\n",
       " '_repr_html_',\n",
       " '_repr_html_inner',\n",
       " '_repr_mimebundle_',\n",
       " '_validate_X_predict',\n",
       " '_validate_data',\n",
       " 'apply',\n",
       " 'cost_complexity_pruning_path',\n",
       " 'decision_path',\n",
       " 'feature_importances_',\n",
       " 'fit',\n",
       " 'get_depth',\n",
       " 'get_n_leaves',\n",
       " 'get_params',\n",
       " 'n_features_',\n",
       " 'predict',\n",
       " 'predict_log_proba',\n",
       " 'predict_proba',\n",
       " 'score',\n",
       " 'set_params']"
      ]
     },
     "execution_count": 39,
     "metadata": {},
     "output_type": "execute_result"
    }
   ],
   "source": [
    "dir(sklearn.tree.DecisionTreeClassifier)"
   ]
  },
  {
   "cell_type": "code",
   "execution_count": 2,
   "id": "2590650a",
   "metadata": {
    "ExecuteTime": {
     "end_time": "2022-11-01T09:51:15.087523Z",
     "start_time": "2022-11-01T09:51:15.038687Z"
    }
   },
   "outputs": [],
   "source": [
    "?sklearn.tree.DecisionTreeClassifier"
   ]
  },
  {
   "cell_type": "code",
   "execution_count": 9,
   "id": "ead9cb51",
   "metadata": {
    "ExecuteTime": {
     "end_time": "2022-08-12T06:34:25.062151Z",
     "start_time": "2022-08-12T06:34:25.054178Z"
    }
   },
   "outputs": [],
   "source": [
    "import pandas as pd\n",
    "import os\n",
    "file1 = os.path.join(\"D:\\\\Jupyter notebook\\\\DataSet\\\\Python\\\\data\\\\predictorImportanceX.csv\")\n",
    "file2 = os.path.join(\"D:\\\\Jupyter notebook\\\\DataSet\\\\Python\\\\data\\\\predictorImportancey.csv\")\n",
    "X = pd.read_csv(file1, header=None)\n",
    "y = pd.read_csv(file2, header=None)"
   ]
  },
  {
   "cell_type": "code",
   "execution_count": 14,
   "id": "b768f943",
   "metadata": {
    "ExecuteTime": {
     "end_time": "2022-08-12T06:38:28.943796Z",
     "start_time": "2022-08-12T06:38:28.914956Z"
    }
   },
   "outputs": [
    {
     "data": {
      "text/plain": [
       "array([0.01333333, 0.01333333, 0.05072262, 0.92261071])"
      ]
     },
     "execution_count": 14,
     "metadata": {},
     "output_type": "execute_result"
    }
   ],
   "source": [
    "from sklearn.tree import DecisionTreeClassifier\n",
    "tree = DecisionTreeClassifier()\n",
    "tree.fit(X, y)\n",
    "tree.feature_importances_"
   ]
  },
  {
   "cell_type": "markdown",
   "id": "448f53d8",
   "metadata": {},
   "source": [
    "## sklearn.metrics"
   ]
  },
  {
   "cell_type": "code",
   "execution_count": 1,
   "id": "5be00cc1",
   "metadata": {
    "ExecuteTime": {
     "end_time": "2022-09-21T03:29:43.996414Z",
     "start_time": "2022-09-21T03:29:43.356961Z"
    }
   },
   "outputs": [],
   "source": [
    "import sklearn.metrics"
   ]
  },
  {
   "cell_type": "code",
   "execution_count": 52,
   "id": "8dbab359",
   "metadata": {
    "ExecuteTime": {
     "end_time": "2022-06-21T07:35:46.675126Z",
     "start_time": "2022-06-21T07:35:46.664159Z"
    },
    "scrolled": true
   },
   "outputs": [
    {
     "data": {
      "text/plain": [
       "['ConfusionMatrixDisplay',\n",
       " 'DetCurveDisplay',\n",
       " 'DistanceMetric',\n",
       " 'PrecisionRecallDisplay',\n",
       " 'RocCurveDisplay',\n",
       " 'SCORERS',\n",
       " '__all__',\n",
       " '__builtins__',\n",
       " '__cached__',\n",
       " '__doc__',\n",
       " '__file__',\n",
       " '__loader__',\n",
       " '__name__',\n",
       " '__package__',\n",
       " '__path__',\n",
       " '__spec__',\n",
       " '_base',\n",
       " '_classification',\n",
       " '_dist_metrics',\n",
       " '_pairwise_distances_reduction',\n",
       " '_pairwise_fast',\n",
       " '_plot',\n",
       " '_ranking',\n",
       " '_regression',\n",
       " '_scorer',\n",
       " 'accuracy_score',\n",
       " 'adjusted_mutual_info_score',\n",
       " 'adjusted_rand_score',\n",
       " 'auc',\n",
       " 'average_precision_score',\n",
       " 'balanced_accuracy_score',\n",
       " 'brier_score_loss',\n",
       " 'calinski_harabasz_score',\n",
       " 'check_scoring',\n",
       " 'classification_report',\n",
       " 'cluster',\n",
       " 'cohen_kappa_score',\n",
       " 'completeness_score',\n",
       " 'confusion_matrix',\n",
       " 'consensus_score',\n",
       " 'coverage_error',\n",
       " 'd2_absolute_error_score',\n",
       " 'd2_pinball_score',\n",
       " 'd2_tweedie_score',\n",
       " 'davies_bouldin_score',\n",
       " 'dcg_score',\n",
       " 'det_curve',\n",
       " 'euclidean_distances',\n",
       " 'explained_variance_score',\n",
       " 'f1_score',\n",
       " 'fbeta_score',\n",
       " 'fowlkes_mallows_score',\n",
       " 'get_scorer',\n",
       " 'get_scorer_names',\n",
       " 'hamming_loss',\n",
       " 'hinge_loss',\n",
       " 'homogeneity_completeness_v_measure',\n",
       " 'homogeneity_score',\n",
       " 'jaccard_score',\n",
       " 'label_ranking_average_precision_score',\n",
       " 'label_ranking_loss',\n",
       " 'log_loss',\n",
       " 'make_scorer',\n",
       " 'matthews_corrcoef',\n",
       " 'max_error',\n",
       " 'mean_absolute_error',\n",
       " 'mean_absolute_percentage_error',\n",
       " 'mean_gamma_deviance',\n",
       " 'mean_pinball_loss',\n",
       " 'mean_poisson_deviance',\n",
       " 'mean_squared_error',\n",
       " 'mean_squared_log_error',\n",
       " 'mean_tweedie_deviance',\n",
       " 'median_absolute_error',\n",
       " 'multilabel_confusion_matrix',\n",
       " 'mutual_info_score',\n",
       " 'nan_euclidean_distances',\n",
       " 'ndcg_score',\n",
       " 'normalized_mutual_info_score',\n",
       " 'pair_confusion_matrix',\n",
       " 'pairwise',\n",
       " 'pairwise_distances',\n",
       " 'pairwise_distances_argmin',\n",
       " 'pairwise_distances_argmin_min',\n",
       " 'pairwise_distances_chunked',\n",
       " 'pairwise_kernels',\n",
       " 'plot_confusion_matrix',\n",
       " 'plot_det_curve',\n",
       " 'plot_precision_recall_curve',\n",
       " 'plot_roc_curve',\n",
       " 'precision_recall_curve',\n",
       " 'precision_recall_fscore_support',\n",
       " 'precision_score',\n",
       " 'r2_score',\n",
       " 'rand_score',\n",
       " 'recall_score',\n",
       " 'roc_auc_score',\n",
       " 'roc_curve',\n",
       " 'silhouette_samples',\n",
       " 'silhouette_score',\n",
       " 'top_k_accuracy_score',\n",
       " 'v_measure_score',\n",
       " 'zero_one_loss']"
      ]
     },
     "execution_count": 52,
     "metadata": {},
     "output_type": "execute_result"
    }
   ],
   "source": [
    "dir(sklearn.metrics)"
   ]
  },
  {
   "cell_type": "markdown",
   "id": "40df51e1",
   "metadata": {},
   "source": [
    "### log_loss"
   ]
  },
  {
   "cell_type": "code",
   "execution_count": 49,
   "id": "58b7fd09",
   "metadata": {
    "ExecuteTime": {
     "end_time": "2022-06-16T08:33:03.534378Z",
     "start_time": "2022-06-16T08:33:03.514803Z"
    }
   },
   "outputs": [],
   "source": [
    "?sklearn.metrics.log_loss"
   ]
  },
  {
   "cell_type": "markdown",
   "id": "ac1fba47",
   "metadata": {},
   "source": [
    "### mean_squared_error"
   ]
  },
  {
   "cell_type": "code",
   "execution_count": 9,
   "id": "bf0f61b7",
   "metadata": {
    "ExecuteTime": {
     "end_time": "2022-07-28T09:36:51.206917Z",
     "start_time": "2022-07-28T09:36:51.194007Z"
    }
   },
   "outputs": [],
   "source": [
    "?sklearn.metrics.mean_squared_error"
   ]
  },
  {
   "cell_type": "code",
   "execution_count": 18,
   "id": "d566de25",
   "metadata": {
    "ExecuteTime": {
     "end_time": "2022-07-28T09:49:03.387312Z",
     "start_time": "2022-07-28T09:49:03.374358Z"
    }
   },
   "outputs": [
    {
     "data": {
      "text/plain": [
       "451.24848428666246"
      ]
     },
     "execution_count": 18,
     "metadata": {},
     "output_type": "execute_result"
    }
   ],
   "source": [
    "import pandas as pd\n",
    "y_true = pd.read_csv(\"C://Users//Administrator//Desktop/ynew.csv\",header=0)\n",
    "y_pred = pd.read_csv(\"C://Users//Administrator//Desktop/ypre.csv\",header=0)\n",
    "sklearn.metrics.mean_squared_error(y_true, y_pred,squared=True)"
   ]
  },
  {
   "cell_type": "markdown",
   "id": "45adf11b",
   "metadata": {},
   "source": [
    "### confusion_matrix"
   ]
  },
  {
   "cell_type": "code",
   "execution_count": 7,
   "id": "bbc59954",
   "metadata": {
    "ExecuteTime": {
     "end_time": "2022-09-21T05:41:30.032095Z",
     "start_time": "2022-09-21T05:41:30.023130Z"
    }
   },
   "outputs": [],
   "source": [
    "?sklearn.metrics.confusion_matrix"
   ]
  },
  {
   "cell_type": "code",
   "execution_count": 6,
   "id": "77f76c9f",
   "metadata": {
    "ExecuteTime": {
     "end_time": "2022-09-21T03:37:58.201760Z",
     "start_time": "2022-09-21T03:37:58.195759Z"
    }
   },
   "outputs": [
    {
     "data": {
      "text/plain": [
       "array([[2, 0, 0],\n",
       "       [0, 0, 1],\n",
       "       [1, 0, 2]], dtype=int64)"
      ]
     },
     "execution_count": 6,
     "metadata": {},
     "output_type": "execute_result"
    }
   ],
   "source": [
    "from sklearn.metrics import confusion_matrix\n",
    "import numpy as np\n",
    "y_true = [2, 0, 2, 2, 0, 1]\n",
    "y_pred = [0, 0, 2, 2, 0, 2]\n",
    "confusion_matrix(y_true, y_pred)"
   ]
  },
  {
   "cell_type": "code",
   "execution_count": null,
   "id": "412d863b",
   "metadata": {},
   "outputs": [],
   "source": []
  },
  {
   "cell_type": "markdown",
   "id": "768cd757",
   "metadata": {},
   "source": [
    "### sklearn.metrics.ConfusionMatrixDisplay.from_predictions"
   ]
  },
  {
   "cell_type": "code",
   "execution_count": 17,
   "id": "ff8a24dd",
   "metadata": {
    "ExecuteTime": {
     "end_time": "2022-09-20T02:56:30.144383Z",
     "start_time": "2022-09-20T02:56:30.139383Z"
    }
   },
   "outputs": [],
   "source": [
    "?sklearn.metrics.ConfusionMatrixDisplay.from_predictions"
   ]
  },
  {
   "cell_type": "code",
   "execution_count": 16,
   "id": "2cac1bd2",
   "metadata": {
    "ExecuteTime": {
     "end_time": "2022-09-20T01:43:00.315588Z",
     "start_time": "2022-09-20T01:43:00.210588Z"
    }
   },
   "outputs": [
    {
     "data": {
      "text/plain": [
       "<sklearn.metrics._plot.confusion_matrix.ConfusionMatrixDisplay at 0x1b3aac667c0>"
      ]
     },
     "execution_count": 16,
     "metadata": {},
     "output_type": "execute_result"
    },
    {
     "data": {
      "image/png": "[encoded data removed]",
      "text/plain": [
       "<Figure size 432x288 with 2 Axes>"
      ]
     },
     "metadata": {
      "needs_background": "light"
     },
     "output_type": "display_data"
    }
   ],
   "source": [
    "import matplotlib.pyplot as plt\n",
    "from sklearn.datasets import load_iris\n",
    "from sklearn.metrics import ConfusionMatrixDisplay\n",
    "from sklearn.model_selection import train_test_split\n",
    "from sklearn.svm import SVC\n",
    "from sklearn.datasets import load_iris\n",
    "iris_dataset = load_iris()#加载鸢尾花\n",
    "X_train,X_test,y_train,y_test = train_test_split(\n",
    "    iris_dataset['data'],iris_dataset['target'],random_state=0\n",
    ")#拆分数据\n",
    "clf = SVC(random_state=0)\n",
    "clf.fit(X_train, y_train)\n",
    "SVC(random_state=0)\n",
    "y_pred = clf.predict(X_test)\n",
    "ConfusionMatrixDisplay.from_predictions(y_test, y_pred)"
   ]
  },
  {
   "cell_type": "code",
   "execution_count": 15,
   "id": "6015c051",
   "metadata": {
    "ExecuteTime": {
     "end_time": "2022-09-20T01:42:51.400938Z",
     "start_time": "2022-09-20T01:42:51.391938Z"
    }
   },
   "outputs": [
    {
     "data": {
      "text/plain": [
       "array([2, 1, 0, 2, 0, 2, 0, 1, 1, 1, 2, 1, 1, 1, 1, 0, 1, 1, 0, 0, 2, 1,\n",
       "       0, 0, 2, 0, 0, 1, 1, 0, 2, 1, 0, 2, 2, 1, 0, 1])"
      ]
     },
     "execution_count": 15,
     "metadata": {},
     "output_type": "execute_result"
    }
   ],
   "source": [
    "y_test"
   ]
  },
  {
   "cell_type": "markdown",
   "id": "6fef73ae",
   "metadata": {},
   "source": [
    "### roc_curve"
   ]
  },
  {
   "cell_type": "code",
   "execution_count": 10,
   "id": "36c00476",
   "metadata": {
    "ExecuteTime": {
     "end_time": "2022-09-21T07:50:38.447695Z",
     "start_time": "2022-09-21T07:50:38.434696Z"
    }
   },
   "outputs": [],
   "source": [
    "?sklearn.metrics.roc_curve"
   ]
  },
  {
   "cell_type": "markdown",
   "id": "7b4f2cfc",
   "metadata": {},
   "source": [
    "## sklearn.svm"
   ]
  },
  {
   "cell_type": "code",
   "execution_count": 1,
   "id": "548dad48",
   "metadata": {
    "ExecuteTime": {
     "end_time": "2022-09-06T07:55:22.243139Z",
     "start_time": "2022-09-06T07:55:21.918013Z"
    }
   },
   "outputs": [],
   "source": [
    "import sklearn.svm"
   ]
  },
  {
   "cell_type": "code",
   "execution_count": 2,
   "id": "b5ae6a99",
   "metadata": {
    "ExecuteTime": {
     "end_time": "2022-09-06T07:55:23.257449Z",
     "start_time": "2022-09-06T07:55:23.243496Z"
    }
   },
   "outputs": [
    {
     "data": {
      "text/plain": [
       "['LinearSVC',\n",
       " 'LinearSVR',\n",
       " 'NuSVC',\n",
       " 'NuSVR',\n",
       " 'OneClassSVM',\n",
       " 'SVC',\n",
       " 'SVR',\n",
       " '__all__',\n",
       " '__builtins__',\n",
       " '__cached__',\n",
       " '__doc__',\n",
       " '__file__',\n",
       " '__loader__',\n",
       " '__name__',\n",
       " '__package__',\n",
       " '__path__',\n",
       " '__spec__',\n",
       " '_base',\n",
       " '_bounds',\n",
       " '_classes',\n",
       " '_liblinear',\n",
       " '_libsvm',\n",
       " '_libsvm_sparse',\n",
       " 'l1_min_c']"
      ]
     },
     "execution_count": 2,
     "metadata": {},
     "output_type": "execute_result"
    }
   ],
   "source": [
    "dir(sklearn.svm)"
   ]
  },
  {
   "cell_type": "markdown",
   "id": "c5fbe3b1",
   "metadata": {},
   "source": [
    "### LinearSVC"
   ]
  },
  {
   "cell_type": "code",
   "execution_count": 3,
   "id": "cbbfc8b8",
   "metadata": {
    "ExecuteTime": {
     "end_time": "2022-09-06T08:02:32.564731Z",
     "start_time": "2022-09-06T08:02:32.503471Z"
    }
   },
   "outputs": [],
   "source": [
    "?sklearn.svm.LinearSVC"
   ]
  },
  {
   "cell_type": "markdown",
   "id": "95f4a1b1",
   "metadata": {},
   "source": [
    "### SVR"
   ]
  },
  {
   "cell_type": "code",
   "execution_count": 49,
   "id": "a3fb0446",
   "metadata": {
    "ExecuteTime": {
     "end_time": "2022-06-15T03:14:52.085447Z",
     "start_time": "2022-06-15T03:14:52.065570Z"
    }
   },
   "outputs": [
    {
     "data": {
      "text/plain": [
       "['__annotations__',\n",
       " '__call__',\n",
       " '__class__',\n",
       " '__closure__',\n",
       " '__code__',\n",
       " '__defaults__',\n",
       " '__delattr__',\n",
       " '__dict__',\n",
       " '__dir__',\n",
       " '__doc__',\n",
       " '__eq__',\n",
       " '__format__',\n",
       " '__ge__',\n",
       " '__get__',\n",
       " '__getattribute__',\n",
       " '__globals__',\n",
       " '__gt__',\n",
       " '__hash__',\n",
       " '__init__',\n",
       " '__init_subclass__',\n",
       " '__kwdefaults__',\n",
       " '__le__',\n",
       " '__lt__',\n",
       " '__module__',\n",
       " '__name__',\n",
       " '__ne__',\n",
       " '__new__',\n",
       " '__qualname__',\n",
       " '__reduce__',\n",
       " '__reduce_ex__',\n",
       " '__repr__',\n",
       " '__setattr__',\n",
       " '__sizeof__',\n",
       " '__str__',\n",
       " '__subclasshook__']"
      ]
     },
     "execution_count": 49,
     "metadata": {},
     "output_type": "execute_result"
    }
   ],
   "source": [
    "dir(sklearn.svm.SVR.fit)"
   ]
  },
  {
   "cell_type": "code",
   "execution_count": 5,
   "id": "7c3e1a9b",
   "metadata": {
    "ExecuteTime": {
     "end_time": "2022-09-06T09:05:26.482707Z",
     "start_time": "2022-09-06T09:05:26.471744Z"
    }
   },
   "outputs": [],
   "source": [
    "?sklearn.svm.SVR"
   ]
  },
  {
   "cell_type": "markdown",
   "id": "b2e01337",
   "metadata": {},
   "source": [
    "### SVC"
   ]
  },
  {
   "cell_type": "code",
   "execution_count": 2,
   "id": "fb83b8ea",
   "metadata": {
    "ExecuteTime": {
     "end_time": "2022-06-22T03:32:05.905266Z",
     "start_time": "2022-06-22T03:32:05.895364Z"
    }
   },
   "outputs": [],
   "source": [
    "import sklearn.svm"
   ]
  },
  {
   "cell_type": "code",
   "execution_count": 3,
   "id": "022899bb",
   "metadata": {
    "ExecuteTime": {
     "end_time": "2022-06-22T03:32:10.039495Z",
     "start_time": "2022-06-22T03:32:10.028529Z"
    }
   },
   "outputs": [],
   "source": [
    "?sklearn.svm.SVC"
   ]
  },
  {
   "cell_type": "markdown",
   "id": "8105da49",
   "metadata": {},
   "source": [
    "## sklearn.feature_selection"
   ]
  },
  {
   "cell_type": "code",
   "execution_count": 65,
   "id": "49a62918",
   "metadata": {
    "ExecuteTime": {
     "end_time": "2022-09-09T00:59:53.917070Z",
     "start_time": "2022-09-09T00:59:53.862501Z"
    }
   },
   "outputs": [],
   "source": [
    "import sklearn.feature_selection"
   ]
  },
  {
   "cell_type": "code",
   "execution_count": 66,
   "id": "bb60ec22",
   "metadata": {
    "ExecuteTime": {
     "end_time": "2022-09-09T00:59:57.018968Z",
     "start_time": "2022-09-09T00:59:56.999968Z"
    }
   },
   "outputs": [
    {
     "data": {
      "text/plain": [
       "['GenericUnivariateSelect',\n",
       " 'RFE',\n",
       " 'RFECV',\n",
       " 'SelectFdr',\n",
       " 'SelectFpr',\n",
       " 'SelectFromModel',\n",
       " 'SelectFwe',\n",
       " 'SelectKBest',\n",
       " 'SelectPercentile',\n",
       " 'SelectorMixin',\n",
       " 'SequentialFeatureSelector',\n",
       " 'VarianceThreshold',\n",
       " '__all__',\n",
       " '__builtins__',\n",
       " '__cached__',\n",
       " '__doc__',\n",
       " '__file__',\n",
       " '__loader__',\n",
       " '__name__',\n",
       " '__package__',\n",
       " '__path__',\n",
       " '__spec__',\n",
       " '_base',\n",
       " '_from_model',\n",
       " '_mutual_info',\n",
       " '_rfe',\n",
       " '_sequential',\n",
       " '_univariate_selection',\n",
       " '_variance_threshold',\n",
       " 'chi2',\n",
       " 'f_classif',\n",
       " 'f_oneway',\n",
       " 'f_regression',\n",
       " 'mutual_info_classif',\n",
       " 'mutual_info_regression',\n",
       " 'r_regression']"
      ]
     },
     "execution_count": 66,
     "metadata": {},
     "output_type": "execute_result"
    }
   ],
   "source": [
    "dir(sklearn.feature_selection)"
   ]
  },
  {
   "cell_type": "markdown",
   "id": "4cbcc52f",
   "metadata": {},
   "source": [
    "### f_regression"
   ]
  },
  {
   "cell_type": "code",
   "execution_count": 27,
   "id": "75449460",
   "metadata": {
    "ExecuteTime": {
     "end_time": "2022-06-21T06:17:46.709156Z",
     "start_time": "2022-06-21T06:17:46.697196Z"
    }
   },
   "outputs": [],
   "source": [
    "?sklearn.feature_selection.f_regression"
   ]
  },
  {
   "cell_type": "markdown",
   "id": "44f29a1e",
   "metadata": {},
   "source": [
    "### chi2"
   ]
  },
  {
   "cell_type": "code",
   "execution_count": 112,
   "id": "3bf02c85",
   "metadata": {
    "ExecuteTime": {
     "end_time": "2022-09-09T03:28:18.825557Z",
     "start_time": "2022-09-09T03:28:18.812578Z"
    }
   },
   "outputs": [],
   "source": [
    "?sklearn.feature_selection.chi2 "
   ]
  },
  {
   "cell_type": "markdown",
   "id": "c14cc181",
   "metadata": {},
   "source": [
    "### SelectKBest"
   ]
  },
  {
   "cell_type": "code",
   "execution_count": 68,
   "id": "b1560430",
   "metadata": {
    "ExecuteTime": {
     "end_time": "2022-09-09T01:04:11.489060Z",
     "start_time": "2022-09-09T01:04:11.475061Z"
    }
   },
   "outputs": [],
   "source": [
    "?sklearn.feature_selection.SelectKBest \n",
    "#根据 k 个最高分选择特征。"
   ]
  },
  {
   "cell_type": "code",
   "execution_count": 69,
   "id": "59d7e443",
   "metadata": {
    "ExecuteTime": {
     "end_time": "2022-09-09T01:10:19.073732Z",
     "start_time": "2022-09-09T01:10:18.862802Z"
    }
   },
   "outputs": [
    {
     "data": {
      "text/plain": [
       "(1797, 20)"
      ]
     },
     "execution_count": 69,
     "metadata": {},
     "output_type": "execute_result"
    }
   ],
   "source": [
    "from sklearn.datasets import load_digits\n",
    "from sklearn.feature_selection import SelectKBest, chi2\n",
    "X, y = load_digits(return_X_y=True)\n",
    "X_new = SelectKBest(chi2, k=20).fit_transform(X, y)\n",
    "X_new.shape"
   ]
  },
  {
   "cell_type": "code",
   "execution_count": 111,
   "id": "0e7f0acc",
   "metadata": {
    "ExecuteTime": {
     "end_time": "2022-09-09T02:19:13.718873Z",
     "start_time": "2022-09-09T02:19:13.699873Z"
    }
   },
   "outputs": [
    {
     "data": {
      "text/plain": [
       "array([[ 0.,  0.,  5., ...,  0.,  0.,  0.],\n",
       "       [ 0.,  0.,  0., ..., 10.,  0.,  0.],\n",
       "       [ 0.,  0.,  0., ..., 16.,  9.,  0.],\n",
       "       ...,\n",
       "       [ 0.,  0.,  1., ...,  6.,  0.,  0.],\n",
       "       [ 0.,  0.,  2., ..., 12.,  0.,  0.],\n",
       "       [ 0.,  0., 10., ..., 12.,  1.,  0.]])"
      ]
     },
     "execution_count": 111,
     "metadata": {},
     "output_type": "execute_result"
    }
   ],
   "source": [
    "np.abs(X)"
   ]
  },
  {
   "cell_type": "code",
   "execution_count": 93,
   "id": "e30f0118",
   "metadata": {
    "ExecuteTime": {
     "end_time": "2022-09-09T01:53:19.784520Z",
     "start_time": "2022-09-09T01:53:19.776520Z"
    }
   },
   "outputs": [
    {
     "data": {
      "text/plain": [
       "array([            nan,             nan,             nan, 5.44163062e-001,\n",
       "       4.41080315e-001, 4.23314114e-001, 3.20626273e-003, 4.45801029e-005,\n",
       "       1.27145348e-011, 2.65875300e-026, 3.49452723e-062, 1.23435651e-075,\n",
       "       4.41344943e-078, 8.11314242e-089, 3.28604761e-091, 8.18335060e-123,\n",
       "       2.01600539e-141, 1.17740541e-144, 1.54562173e-151, 5.81310493e-169,\n",
       "       1.02825052e-171, 2.14859356e-177, 2.97727113e-251, 0.00000000e+000,\n",
       "       0.00000000e+000, 0.00000000e+000, 0.00000000e+000, 0.00000000e+000,\n",
       "       0.00000000e+000, 0.00000000e+000, 0.00000000e+000, 0.00000000e+000,\n",
       "       0.00000000e+000, 0.00000000e+000, 0.00000000e+000, 0.00000000e+000,\n",
       "       0.00000000e+000, 0.00000000e+000, 0.00000000e+000, 0.00000000e+000,\n",
       "       0.00000000e+000, 0.00000000e+000, 0.00000000e+000, 0.00000000e+000,\n",
       "       0.00000000e+000, 0.00000000e+000, 0.00000000e+000, 0.00000000e+000,\n",
       "       0.00000000e+000, 0.00000000e+000, 0.00000000e+000, 0.00000000e+000,\n",
       "       0.00000000e+000, 0.00000000e+000, 0.00000000e+000, 0.00000000e+000,\n",
       "       0.00000000e+000, 0.00000000e+000, 0.00000000e+000, 0.00000000e+000,\n",
       "       0.00000000e+000, 0.00000000e+000, 0.00000000e+000, 0.00000000e+000])"
      ]
     },
     "execution_count": 93,
     "metadata": {},
     "output_type": "execute_result"
    }
   ],
   "source": [
    "np.sort(chi2(X, y)[1])[::-1]"
   ]
  },
  {
   "cell_type": "code",
   "execution_count": 79,
   "id": "cb51ec8d",
   "metadata": {
    "ExecuteTime": {
     "end_time": "2022-09-09T01:28:06.233954Z",
     "start_time": "2022-09-09T01:28:06.226955Z"
    }
   },
   "outputs": [
    {
     "data": {
      "text/plain": [
       "array([ 0,  1,  2,  3,  4,  5,  6,  7,  8,  9, 10, 11, 12, 13, 14, 15, 16,\n",
       "       17, 18, 19, 20, 21, 22, 23, 24, 25, 26, 27, 28, 29, 30, 31, 32, 33,\n",
       "       34, 35, 36, 37, 38, 39, 40, 41, 42, 43, 44, 45, 46, 47, 48, 49, 50,\n",
       "       51, 52, 53, 54, 55, 56, 57, 58, 59, 60, 61, 62, 63])"
      ]
     },
     "execution_count": 79,
     "metadata": {},
     "output_type": "execute_result"
    }
   ],
   "source": [
    "np.arange(64)"
   ]
  },
  {
   "cell_type": "code",
   "execution_count": 106,
   "id": "26060830",
   "metadata": {
    "ExecuteTime": {
     "end_time": "2022-09-09T02:07:16.913502Z",
     "start_time": "2022-09-09T02:07:16.905502Z"
    }
   },
   "outputs": [
    {
     "data": {
      "text/plain": [
       "64"
      ]
     },
     "execution_count": 106,
     "metadata": {},
     "output_type": "execute_result"
    }
   ],
   "source": [
    "chi2(X, y)[1].shape[0]"
   ]
  },
  {
   "cell_type": "code",
   "execution_count": 78,
   "id": "23432a93",
   "metadata": {
    "ExecuteTime": {
     "end_time": "2022-09-09T01:27:39.672611Z",
     "start_time": "2022-09-09T01:27:39.666612Z"
    }
   },
   "outputs": [],
   "source": [
    "import pandas as pd\n",
    "import numpy as np"
   ]
  },
  {
   "cell_type": "code",
   "execution_count": null,
   "id": "b908dca0",
   "metadata": {},
   "outputs": [],
   "source": [
    "np.log(-chi2(X, y)[1])"
   ]
  },
  {
   "cell_type": "code",
   "execution_count": 107,
   "id": "f7f10436",
   "metadata": {
    "ExecuteTime": {
     "end_time": "2022-09-09T02:08:29.578768Z",
     "start_time": "2022-09-09T02:08:29.558767Z"
    }
   },
   "outputs": [],
   "source": [
    "res = pd.DataFrame({\"idx\":np.arange(chi2(X, y)[1].shape[0]), \"scores\":chi2(X, y)[1]})"
   ]
  },
  {
   "cell_type": "code",
   "execution_count": 108,
   "id": "cfd3b93c",
   "metadata": {
    "ExecuteTime": {
     "end_time": "2022-09-09T02:08:30.653998Z",
     "start_time": "2022-09-09T02:08:30.635998Z"
    }
   },
   "outputs": [
    {
     "data": {
      "text/html": [
       "<div>\n",
       "<style scoped>\n",
       "    .dataframe tbody tr th:only-of-type {\n",
       "        vertical-align: middle;\n",
       "    }\n",
       "\n",
       "    .dataframe tbody tr th {\n",
       "        vertical-align: top;\n",
       "    }\n",
       "\n",
       "    .dataframe thead th {\n",
       "        text-align: right;\n",
       "    }\n",
       "</style>\n",
       "<table border=\"1\" class=\"dataframe\">\n",
       "  <thead>\n",
       "    <tr style=\"text-align: right;\">\n",
       "      <th></th>\n",
       "      <th>idx</th>\n",
       "      <th>scores</th>\n",
       "    </tr>\n",
       "  </thead>\n",
       "  <tbody>\n",
       "    <tr>\n",
       "      <th>0</th>\n",
       "      <td>0</td>\n",
       "      <td>NaN</td>\n",
       "    </tr>\n",
       "    <tr>\n",
       "      <th>1</th>\n",
       "      <td>1</td>\n",
       "      <td>5.813105e-169</td>\n",
       "    </tr>\n",
       "    <tr>\n",
       "      <th>2</th>\n",
       "      <td>2</td>\n",
       "      <td>0.000000e+00</td>\n",
       "    </tr>\n",
       "    <tr>\n",
       "      <th>3</th>\n",
       "      <td>3</td>\n",
       "      <td>1.177405e-144</td>\n",
       "    </tr>\n",
       "    <tr>\n",
       "      <th>4</th>\n",
       "      <td>4</td>\n",
       "      <td>8.113142e-89</td>\n",
       "    </tr>\n",
       "    <tr>\n",
       "      <th>...</th>\n",
       "      <td>...</td>\n",
       "      <td>...</td>\n",
       "    </tr>\n",
       "    <tr>\n",
       "      <th>59</th>\n",
       "      <td>59</td>\n",
       "      <td>1.545622e-151</td>\n",
       "    </tr>\n",
       "    <tr>\n",
       "      <th>60</th>\n",
       "      <td>60</td>\n",
       "      <td>0.000000e+00</td>\n",
       "    </tr>\n",
       "    <tr>\n",
       "      <th>61</th>\n",
       "      <td>61</td>\n",
       "      <td>0.000000e+00</td>\n",
       "    </tr>\n",
       "    <tr>\n",
       "      <th>62</th>\n",
       "      <td>62</td>\n",
       "      <td>0.000000e+00</td>\n",
       "    </tr>\n",
       "    <tr>\n",
       "      <th>63</th>\n",
       "      <td>63</td>\n",
       "      <td>0.000000e+00</td>\n",
       "    </tr>\n",
       "  </tbody>\n",
       "</table>\n",
       "<p>64 rows × 2 columns</p>\n",
       "</div>"
      ],
      "text/plain": [
       "    idx         scores\n",
       "0     0            NaN\n",
       "1     1  5.813105e-169\n",
       "2     2   0.000000e+00\n",
       "3     3  1.177405e-144\n",
       "4     4   8.113142e-89\n",
       "..  ...            ...\n",
       "59   59  1.545622e-151\n",
       "60   60   0.000000e+00\n",
       "61   61   0.000000e+00\n",
       "62   62   0.000000e+00\n",
       "63   63   0.000000e+00\n",
       "\n",
       "[64 rows x 2 columns]"
      ]
     },
     "execution_count": 108,
     "metadata": {},
     "output_type": "execute_result"
    }
   ],
   "source": [
    "res"
   ]
  },
  {
   "cell_type": "code",
   "execution_count": 109,
   "id": "6769ff15",
   "metadata": {
    "ExecuteTime": {
     "end_time": "2022-09-09T02:09:00.248070Z",
     "start_time": "2022-09-09T02:09:00.239131Z"
    }
   },
   "outputs": [],
   "source": [
    "res1 = res.sort_values(by='scores',ascending=False)"
   ]
  },
  {
   "cell_type": "markdown",
   "id": "8d2988e2",
   "metadata": {},
   "source": [
    "## sklearn.ensemble"
   ]
  },
  {
   "cell_type": "code",
   "execution_count": 1,
   "id": "5116c95a",
   "metadata": {
    "ExecuteTime": {
     "end_time": "2022-06-21T01:40:53.028368Z",
     "start_time": "2022-06-21T01:40:50.130278Z"
    }
   },
   "outputs": [],
   "source": [
    "import sklearn.ensemble"
   ]
  },
  {
   "cell_type": "code",
   "execution_count": 2,
   "id": "1f0d4dc9",
   "metadata": {
    "ExecuteTime": {
     "end_time": "2022-06-21T01:40:54.673047Z",
     "start_time": "2022-06-21T01:40:54.651367Z"
    }
   },
   "outputs": [
    {
     "data": {
      "text/plain": [
       "['AdaBoostClassifier',\n",
       " 'AdaBoostRegressor',\n",
       " 'BaggingClassifier',\n",
       " 'BaggingRegressor',\n",
       " 'BaseEnsemble',\n",
       " 'ExtraTreesClassifier',\n",
       " 'ExtraTreesRegressor',\n",
       " 'GradientBoostingClassifier',\n",
       " 'GradientBoostingRegressor',\n",
       " 'HistGradientBoostingClassifier',\n",
       " 'HistGradientBoostingRegressor',\n",
       " 'IsolationForest',\n",
       " 'RandomForestClassifier',\n",
       " 'RandomForestRegressor',\n",
       " 'RandomTreesEmbedding',\n",
       " 'StackingClassifier',\n",
       " 'StackingRegressor',\n",
       " 'VotingClassifier',\n",
       " 'VotingRegressor',\n",
       " '__all__',\n",
       " '__builtins__',\n",
       " '__cached__',\n",
       " '__doc__',\n",
       " '__file__',\n",
       " '__loader__',\n",
       " '__name__',\n",
       " '__package__',\n",
       " '__path__',\n",
       " '__spec__',\n",
       " '_bagging',\n",
       " '_base',\n",
       " '_forest',\n",
       " '_gb',\n",
       " '_gb_losses',\n",
       " '_gradient_boosting',\n",
       " '_hist_gradient_boosting',\n",
       " '_iforest',\n",
       " '_stacking',\n",
       " '_voting',\n",
       " '_weight_boosting']"
      ]
     },
     "execution_count": 2,
     "metadata": {},
     "output_type": "execute_result"
    }
   ],
   "source": [
    "dir(sklearn.ensemble)"
   ]
  },
  {
   "cell_type": "markdown",
   "id": "d64aebf1",
   "metadata": {},
   "source": [
    "### BaseEnsemble"
   ]
  },
  {
   "cell_type": "code",
   "execution_count": 3,
   "id": "3ad1fe9e",
   "metadata": {
    "ExecuteTime": {
     "end_time": "2022-06-21T01:41:07.429606Z",
     "start_time": "2022-06-21T01:41:07.419638Z"
    }
   },
   "outputs": [
    {
     "data": {
      "text/plain": [
       "['__abstractmethods__',\n",
       " '__annotations__',\n",
       " '__class__',\n",
       " '__delattr__',\n",
       " '__dict__',\n",
       " '__dir__',\n",
       " '__doc__',\n",
       " '__eq__',\n",
       " '__format__',\n",
       " '__ge__',\n",
       " '__getattribute__',\n",
       " '__getitem__',\n",
       " '__getstate__',\n",
       " '__gt__',\n",
       " '__hash__',\n",
       " '__init__',\n",
       " '__init_subclass__',\n",
       " '__iter__',\n",
       " '__le__',\n",
       " '__len__',\n",
       " '__lt__',\n",
       " '__module__',\n",
       " '__ne__',\n",
       " '__new__',\n",
       " '__reduce__',\n",
       " '__reduce_ex__',\n",
       " '__repr__',\n",
       " '__setattr__',\n",
       " '__setstate__',\n",
       " '__sizeof__',\n",
       " '__str__',\n",
       " '__subclasshook__',\n",
       " '__weakref__',\n",
       " '_abc_impl',\n",
       " '_check_feature_names',\n",
       " '_check_n_features',\n",
       " '_get_param_names',\n",
       " '_get_tags',\n",
       " '_make_estimator',\n",
       " '_more_tags',\n",
       " '_repr_html_',\n",
       " '_repr_html_inner',\n",
       " '_repr_mimebundle_',\n",
       " '_required_parameters',\n",
       " '_validate_data',\n",
       " '_validate_estimator',\n",
       " 'get_params',\n",
       " 'set_params']"
      ]
     },
     "execution_count": 3,
     "metadata": {},
     "output_type": "execute_result"
    }
   ],
   "source": [
    "dir(sklearn.ensemble.BaseEnsemble)"
   ]
  },
  {
   "cell_type": "code",
   "execution_count": 4,
   "id": "0a2a0e63",
   "metadata": {
    "ExecuteTime": {
     "end_time": "2022-06-21T01:41:44.743532Z",
     "start_time": "2022-06-21T01:41:44.697659Z"
    }
   },
   "outputs": [],
   "source": [
    "?sklearn.ensemble.BaseEnsemble"
   ]
  },
  {
   "cell_type": "markdown",
   "id": "90ca10f6",
   "metadata": {},
   "source": [
    "## sklearn.multiclass"
   ]
  },
  {
   "cell_type": "code",
   "execution_count": 1,
   "id": "b82e040b",
   "metadata": {
    "ExecuteTime": {
     "end_time": "2022-09-01T06:38:17.152053Z",
     "start_time": "2022-09-01T06:38:16.826612Z"
    }
   },
   "outputs": [],
   "source": [
    "import sklearn.multiclass #多分类器"
   ]
  },
  {
   "cell_type": "code",
   "execution_count": 2,
   "id": "63b14d89",
   "metadata": {
    "ExecuteTime": {
     "end_time": "2022-09-01T06:38:19.032261Z",
     "start_time": "2022-09-01T06:38:19.019260Z"
    }
   },
   "outputs": [
    {
     "data": {
      "text/plain": [
       "['BaseEstimator',\n",
       " 'ClassifierMixin',\n",
       " 'LabelBinarizer',\n",
       " 'MetaEstimatorMixin',\n",
       " 'MultiOutputMixin',\n",
       " 'OneVsOneClassifier',\n",
       " 'OneVsRestClassifier',\n",
       " 'OutputCodeClassifier',\n",
       " 'Parallel',\n",
       " '_ConstantPredictor',\n",
       " '__all__',\n",
       " '__builtins__',\n",
       " '__cached__',\n",
       " '__doc__',\n",
       " '__file__',\n",
       " '__loader__',\n",
       " '__name__',\n",
       " '__package__',\n",
       " '__spec__',\n",
       " '_check_estimator',\n",
       " '_check_partial_fit_first_call',\n",
       " '_estimators_has',\n",
       " '_fit_binary',\n",
       " '_fit_ovo_binary',\n",
       " '_num_samples',\n",
       " '_ovr_decision_function',\n",
       " '_partial_fit_binary',\n",
       " '_partial_fit_ovo_binary',\n",
       " '_predict_binary',\n",
       " '_safe_split',\n",
       " '_safe_tags',\n",
       " '_threshold_for_binary_predict',\n",
       " 'array',\n",
       " 'available_if',\n",
       " 'check_classification_targets',\n",
       " 'check_is_fitted',\n",
       " 'check_random_state',\n",
       " 'clone',\n",
       " 'delayed',\n",
       " 'euclidean_distances',\n",
       " 'is_classifier',\n",
       " 'is_regressor',\n",
       " 'itertools',\n",
       " 'np',\n",
       " 'sp',\n",
       " 'warnings']"
      ]
     },
     "execution_count": 2,
     "metadata": {},
     "output_type": "execute_result"
    }
   ],
   "source": [
    "dir(sklearn.multiclass)"
   ]
  },
  {
   "cell_type": "markdown",
   "id": "5b423d33",
   "metadata": {},
   "source": [
    "### OutputCodeClassifier"
   ]
  },
  {
   "cell_type": "code",
   "execution_count": 5,
   "id": "94534a7a",
   "metadata": {
    "ExecuteTime": {
     "end_time": "2022-09-02T00:41:43.999298Z",
     "start_time": "2022-09-02T00:41:43.990299Z"
    }
   },
   "outputs": [],
   "source": [
    "?sklearn.multiclass.OutputCodeClassifier  \n",
    "#ECOC多分类器"
   ]
  },
  {
   "cell_type": "code",
   "execution_count": 4,
   "id": "26165183",
   "metadata": {
    "ExecuteTime": {
     "end_time": "2022-09-01T08:39:06.804372Z",
     "start_time": "2022-09-01T08:39:06.797373Z"
    }
   },
   "outputs": [],
   "source": [
    "?sklearn.multiclass.OutputCodeClassifier.predict"
   ]
  },
  {
   "cell_type": "markdown",
   "id": "1260a24e",
   "metadata": {},
   "source": [
    "## sklearn.base"
   ]
  },
  {
   "cell_type": "code",
   "execution_count": 8,
   "id": "f3317744",
   "metadata": {
    "ExecuteTime": {
     "end_time": "2022-06-21T02:34:01.111847Z",
     "start_time": "2022-06-21T02:34:01.097840Z"
    }
   },
   "outputs": [],
   "source": [
    "import sklearn.base"
   ]
  },
  {
   "cell_type": "code",
   "execution_count": 12,
   "id": "22b538e5",
   "metadata": {
    "ExecuteTime": {
     "end_time": "2022-06-21T02:35:41.117435Z",
     "start_time": "2022-06-21T02:35:41.111505Z"
    }
   },
   "outputs": [
    {
     "data": {
      "text/plain": [
       "['BaseEstimator',\n",
       " 'BiclusterMixin',\n",
       " 'ClassifierMixin',\n",
       " 'ClusterMixin',\n",
       " 'DensityMixin',\n",
       " 'MetaEstimatorMixin',\n",
       " 'MultiOutputMixin',\n",
       " 'OutlierMixin',\n",
       " 'RegressorMixin',\n",
       " 'TransformerMixin',\n",
       " '_ClassNamePrefixFeaturesOutMixin',\n",
       " '_DEFAULT_TAGS',\n",
       " '_IS_32BIT',\n",
       " '_OneToOneFeatureMixin',\n",
       " '_UnstableArchMixin',\n",
       " '__builtins__',\n",
       " '__cached__',\n",
       " '__doc__',\n",
       " '__file__',\n",
       " '__loader__',\n",
       " '__name__',\n",
       " '__package__',\n",
       " '__spec__',\n",
       " '__version__',\n",
       " '_check_feature_names_in',\n",
       " '_check_y',\n",
       " '_generate_get_feature_names_out',\n",
       " '_get_feature_names',\n",
       " '_num_features',\n",
       " '_pprint',\n",
       " 'check_X_y',\n",
       " 'check_array',\n",
       " 'check_is_fitted',\n",
       " 'clone',\n",
       " 'copy',\n",
       " 'defaultdict',\n",
       " 'estimator_html_repr',\n",
       " 'get_config',\n",
       " 'inspect',\n",
       " 'is_classifier',\n",
       " 'is_outlier_detector',\n",
       " 'is_regressor',\n",
       " 'np',\n",
       " 'platform',\n",
       " 're',\n",
       " 'warnings']"
      ]
     },
     "execution_count": 12,
     "metadata": {},
     "output_type": "execute_result"
    }
   ],
   "source": [
    "dir(sklearn.base)"
   ]
  },
  {
   "cell_type": "markdown",
   "id": "238468c6",
   "metadata": {},
   "source": [
    "### BaseEstimator"
   ]
  },
  {
   "cell_type": "code",
   "execution_count": 10,
   "id": "0b70679e",
   "metadata": {
    "ExecuteTime": {
     "end_time": "2022-06-21T02:34:33.413982Z",
     "start_time": "2022-06-21T02:34:33.407998Z"
    }
   },
   "outputs": [
    {
     "data": {
      "text/plain": [
       "['__class__',\n",
       " '__delattr__',\n",
       " '__dict__',\n",
       " '__dir__',\n",
       " '__doc__',\n",
       " '__eq__',\n",
       " '__format__',\n",
       " '__ge__',\n",
       " '__getattribute__',\n",
       " '__getstate__',\n",
       " '__gt__',\n",
       " '__hash__',\n",
       " '__init__',\n",
       " '__init_subclass__',\n",
       " '__le__',\n",
       " '__lt__',\n",
       " '__module__',\n",
       " '__ne__',\n",
       " '__new__',\n",
       " '__reduce__',\n",
       " '__reduce_ex__',\n",
       " '__repr__',\n",
       " '__setattr__',\n",
       " '__setstate__',\n",
       " '__sizeof__',\n",
       " '__str__',\n",
       " '__subclasshook__',\n",
       " '__weakref__',\n",
       " '_check_feature_names',\n",
       " '_check_n_features',\n",
       " '_get_param_names',\n",
       " '_get_tags',\n",
       " '_more_tags',\n",
       " '_repr_html_',\n",
       " '_repr_html_inner',\n",
       " '_repr_mimebundle_',\n",
       " '_validate_data',\n",
       " 'get_params',\n",
       " 'set_params']"
      ]
     },
     "execution_count": 10,
     "metadata": {},
     "output_type": "execute_result"
    }
   ],
   "source": [
    "dir(sklearn.base.BaseEstimator)"
   ]
  },
  {
   "cell_type": "code",
   "execution_count": 16,
   "id": "f60a0ad0",
   "metadata": {
    "ExecuteTime": {
     "end_time": "2022-06-21T03:10:46.472215Z",
     "start_time": "2022-06-21T03:10:46.462244Z"
    }
   },
   "outputs": [],
   "source": [
    "?sklearn.base.BaseEstimator"
   ]
  },
  {
   "cell_type": "markdown",
   "id": "67adb579",
   "metadata": {},
   "source": [
    "## sklearn.semi_supervised"
   ]
  },
  {
   "cell_type": "code",
   "execution_count": 1,
   "id": "01fd9f51",
   "metadata": {
    "ExecuteTime": {
     "end_time": "2023-02-10T01:29:56.835034Z",
     "start_time": "2023-02-10T01:29:55.501832Z"
    }
   },
   "outputs": [
    {
     "name": "stderr",
     "output_type": "stream",
     "text": [
      "<frozen importlib._bootstrap>:228: RuntimeWarning: scipy._lib.messagestream.MessageStream size changed, may indicate binary incompatibility. Expected 56 from C header, got 64 from PyObject\n"
     ]
    }
   ],
   "source": [
    "import sklearn.semi_supervised"
   ]
  },
  {
   "cell_type": "code",
   "execution_count": 2,
   "id": "e5fc4f44",
   "metadata": {
    "ExecuteTime": {
     "end_time": "2023-02-10T01:30:51.740464Z",
     "start_time": "2023-02-10T01:30:51.732678Z"
    }
   },
   "outputs": [
    {
     "data": {
      "text/plain": [
       "['LabelPropagation',\n",
       " 'LabelSpreading',\n",
       " 'SelfTrainingClassifier',\n",
       " '__all__',\n",
       " '__builtins__',\n",
       " '__cached__',\n",
       " '__doc__',\n",
       " '__file__',\n",
       " '__loader__',\n",
       " '__name__',\n",
       " '__package__',\n",
       " '__path__',\n",
       " '__spec__',\n",
       " '_label_propagation',\n",
       " '_self_training']"
      ]
     },
     "execution_count": 2,
     "metadata": {},
     "output_type": "execute_result"
    }
   ],
   "source": [
    "dir(sklearn.semi_supervised)"
   ]
  },
  {
   "cell_type": "markdown",
   "id": "0893dcac",
   "metadata": {},
   "source": [
    "### LabelPropagation"
   ]
  },
  {
   "cell_type": "code",
   "execution_count": 59,
   "id": "f558cb17",
   "metadata": {
    "ExecuteTime": {
     "end_time": "2022-09-08T03:18:21.206118Z",
     "start_time": "2022-09-08T03:18:21.198119Z"
    }
   },
   "outputs": [],
   "source": [
    "?sklearn.semi_supervised.LabelPropagation"
   ]
  },
  {
   "cell_type": "code",
   "execution_count": 57,
   "id": "a399d62c",
   "metadata": {
    "ExecuteTime": {
     "end_time": "2022-09-08T02:30:18.008891Z",
     "start_time": "2022-09-08T02:30:17.990891Z"
    }
   },
   "outputs": [],
   "source": [
    "import numpy as np\n",
    "from sklearn import datasets\n",
    "from sklearn.semi_supervised import LabelPropagation\n",
    "label_prop_model = LabelPropagation()\n",
    "iris = datasets.load_iris()\n",
    "rng = np.random.RandomState(42)\n",
    "random_unlabeled_points = rng.rand(len(iris.target)) < 0.3\n",
    "labels = np.copy(iris.target)\n",
    "labels[random_unlabeled_points] = -1\n",
    "lf = label_prop_model.fit(iris.data, labels)"
   ]
  },
  {
   "cell_type": "code",
   "execution_count": 58,
   "id": "91d43428",
   "metadata": {
    "ExecuteTime": {
     "end_time": "2022-09-08T02:30:57.533257Z",
     "start_time": "2022-09-08T02:30:57.517258Z"
    }
   },
   "outputs": [
    {
     "data": {
      "text/plain": [
       "array([0, 0, 0, 0, 0, 0, 0, 0, 0, 0, 0, 0, 0, 0, 0, 0, 0, 0, 0, 0, 0, 0,\n",
       "       0, 0, 0, 0, 0, 0, 0, 0, 0, 0, 0, 0, 0, 0, 0, 0, 0, 0, 0, 0, 0, 0,\n",
       "       0, 0, 0, 0, 0, 0, 1, 1, 1, 1, 1, 1, 1, 1, 1, 1, 1, 1, 1, 1, 1, 1,\n",
       "       1, 1, 1, 1, 1, 1, 2, 1, 1, 1, 1, 1, 1, 1, 1, 1, 1, 2, 1, 1, 1, 1,\n",
       "       1, 1, 1, 1, 1, 1, 1, 1, 1, 1, 1, 1, 2, 2, 2, 2, 2, 2, 2, 2, 2, 2,\n",
       "       2, 2, 2, 2, 2, 2, 2, 2, 2, 2, 2, 2, 2, 2, 2, 2, 2, 2, 2, 2, 2, 2,\n",
       "       2, 2, 2, 2, 2, 2, 2, 2, 2, 2, 2, 2, 2, 2, 2, 2, 2, 2])"
      ]
     },
     "execution_count": 58,
     "metadata": {},
     "output_type": "execute_result"
    }
   ],
   "source": [
    "lf.predict(iris.data)"
   ]
  },
  {
   "cell_type": "code",
   "execution_count": 52,
   "id": "29ec4461",
   "metadata": {
    "ExecuteTime": {
     "end_time": "2022-09-08T02:05:26.111474Z",
     "start_time": "2022-09-08T02:05:26.076476Z"
    }
   },
   "outputs": [],
   "source": [
    "from sklearn.datasets import load_breast_cancer#导入数据\n",
    "cancer = load_breast_cancer()\n",
    "label_prop_model1 = LabelPropagation()\n",
    "rng1 = np.random.RandomState(42)\n",
    "random_unlabeled_points1 = rng1.rand(len(cancer.target)) < 0.3\n",
    "labels1 = np.copy(cancer.target)\n",
    "labels1[random_unlabeled_points1] = -1\n",
    "lf1 = label_prop_model1.fit(cancer.data, labels1)"
   ]
  },
  {
   "cell_type": "code",
   "execution_count": 56,
   "id": "545908e9",
   "metadata": {
    "ExecuteTime": {
     "end_time": "2022-09-08T02:19:08.197039Z",
     "start_time": "2022-09-08T02:19:08.189039Z"
    }
   },
   "outputs": [
    {
     "data": {
      "text/plain": [
       "array([False, False, False, False,  True,  True,  True, False, False,\n",
       "       False,  True, False, False,  True,  True,  True, False, False,\n",
       "       False,  True, False,  True,  True, False, False, False,  True,\n",
       "       False, False,  True, False,  True,  True, False, False, False,\n",
       "       False,  True, False, False,  True, False,  True, False,  True,\n",
       "       False, False, False, False,  True, False, False, False, False,\n",
       "       False, False,  True,  True,  True, False, False,  True, False,\n",
       "       False,  True, False,  True, False,  True, False, False,  True,\n",
       "        True, False, False, False, False,  True, False,  True, False,\n",
       "       False, False,  True, False, False, False, False, False, False,\n",
       "        True, False, False, False, False, False, False, False,  True,\n",
       "        True,  True, False, False, False, False,  True, False, False,\n",
       "        True,  True,  True,  True, False, False, False, False, False,\n",
       "        True, False, False, False, False, False,  True,  True, False,\n",
       "       False, False,  True, False, False,  True,  True, False, False,\n",
       "       False, False, False, False, False, False,  True, False, False,\n",
       "        True,  True, False, False,  True,  True, False,  True,  True,\n",
       "       False, False,  True, False, False,  True, False, False, False,\n",
       "       False, False,  True, False, False,  True,  True, False, False,\n",
       "        True, False,  True, False,  True, False, False, False,  True,\n",
       "       False,  True, False, False,  True, False, False, False, False,\n",
       "        True,  True, False, False, False, False, False, False, False,\n",
       "       False, False, False,  True,  True, False, False,  True,  True,\n",
       "       False,  True,  True, False, False, False,  True, False,  True,\n",
       "       False, False, False, False, False, False,  True, False,  True,\n",
       "        True, False, False, False, False, False, False, False, False,\n",
       "        True, False,  True,  True, False,  True, False, False, False,\n",
       "       False,  True, False, False, False, False, False,  True, False,\n",
       "       False, False,  True, False, False, False, False,  True, False,\n",
       "       False,  True, False, False, False, False, False, False,  True,\n",
       "       False, False, False, False, False, False, False, False, False,\n",
       "       False, False, False, False,  True, False,  True, False, False,\n",
       "        True, False,  True,  True, False, False,  True, False, False,\n",
       "        True, False,  True,  True, False, False, False, False, False,\n",
       "       False, False, False,  True, False,  True,  True, False, False,\n",
       "       False, False,  True,  True,  True, False, False, False,  True,\n",
       "       False, False, False, False, False,  True, False, False,  True,\n",
       "        True,  True,  True, False, False, False,  True, False, False,\n",
       "        True, False, False, False, False,  True, False, False, False,\n",
       "       False, False,  True,  True, False,  True, False, False, False,\n",
       "       False, False, False, False, False, False, False, False,  True,\n",
       "        True,  True,  True,  True, False,  True, False, False,  True,\n",
       "       False,  True,  True, False, False, False, False, False,  True,\n",
       "        True, False, False, False, False, False, False, False, False,\n",
       "       False, False, False, False,  True, False, False, False, False,\n",
       "       False, False,  True, False,  True, False, False, False, False,\n",
       "       False, False,  True, False, False, False, False, False,  True,\n",
       "       False,  True, False, False, False, False,  True,  True, False,\n",
       "       False,  True,  True, False,  True, False, False,  True,  True,\n",
       "       False, False, False, False, False, False, False, False,  True,\n",
       "       False, False, False, False,  True, False,  True, False,  True,\n",
       "        True,  True, False, False, False, False, False,  True, False,\n",
       "        True, False,  True, False,  True, False, False, False,  True,\n",
       "       False, False, False, False, False, False, False, False, False,\n",
       "        True,  True, False, False, False, False,  True,  True, False,\n",
       "       False, False,  True, False, False, False, False, False, False,\n",
       "       False,  True, False, False, False, False, False, False, False,\n",
       "       False,  True,  True, False, False, False,  True, False, False,\n",
       "       False, False, False, False, False,  True,  True, False, False,\n",
       "       False, False, False, False, False, False,  True, False,  True,\n",
       "       False, False,  True, False, False, False,  True, False, False,\n",
       "       False, False, False, False, False, False, False,  True,  True,\n",
       "       False, False, False,  True,  True,  True, False, False, False,\n",
       "       False, False])"
      ]
     },
     "execution_count": 56,
     "metadata": {},
     "output_type": "execute_result"
    }
   ],
   "source": [
    "random_unlabeled_points1"
   ]
  },
  {
   "cell_type": "code",
   "execution_count": 53,
   "id": "77839e0d",
   "metadata": {
    "ExecuteTime": {
     "end_time": "2022-09-08T02:05:29.026960Z",
     "start_time": "2022-09-08T02:05:29.011960Z"
    }
   },
   "outputs": [
    {
     "data": {
      "text/plain": [
       "array([ 0,  0,  0,  0, -1, -1, -1,  0,  0,  0, -1,  0,  0, -1, -1, -1,  0,\n",
       "        0,  0, -1,  1, -1, -1,  0,  0,  0, -1,  0,  0, -1,  0, -1, -1,  0,\n",
       "        0,  0,  0, -1,  0,  0, -1,  0, -1,  0, -1,  0,  1,  0,  1, -1,  1,\n",
       "        1,  1,  0,  0,  1, -1, -1, -1,  1,  1, -1,  0,  1, -1,  0, -1,  1,\n",
       "       -1,  1,  0, -1, -1,  0,  1,  0,  1, -1,  0, -1,  1,  1,  0, -1,  1,\n",
       "        0,  0,  0,  1,  1, -1,  0,  1,  1,  0,  0,  1,  1, -1, -1, -1,  1,\n",
       "        1,  1,  1, -1,  1,  1, -1, -1, -1, -1,  1,  1,  1,  1,  1, -1,  0,\n",
       "        0,  1,  0,  0, -1, -1,  1,  0,  0, -1,  0,  1, -1, -1,  1,  0,  0,\n",
       "        1,  1,  0,  1,  1, -1,  1,  1, -1, -1,  0,  1, -1, -1,  1, -1, -1,\n",
       "        1,  1, -1,  0,  1, -1,  1,  1,  0,  0,  1, -1,  1,  1, -1, -1,  1,\n",
       "        1, -1,  0, -1,  1, -1,  1,  0,  1, -1,  0, -1,  0,  1, -1,  1,  0,\n",
       "        1,  1, -1, -1,  1,  1,  0,  0,  1,  0,  0,  0,  0,  1, -1, -1,  0,\n",
       "        1, -1, -1,  0, -1, -1,  0,  1,  0, -1,  0, -1,  1,  1,  0,  0,  1,\n",
       "        1, -1,  0, -1, -1,  1,  1,  1,  0,  0,  1,  1,  0, -1,  1, -1, -1,\n",
       "        1, -1,  1,  1,  1,  1, -1,  1,  1,  1,  1,  1, -1,  1,  0,  0, -1,\n",
       "        0,  0,  0,  0, -1,  0,  0, -1,  0,  0,  0,  1,  1,  1, -1,  1,  1,\n",
       "        0,  1,  0,  1,  1,  0,  1,  1,  0,  1,  0, -1,  1, -1,  1,  1, -1,\n",
       "        1, -1, -1,  1,  1, -1,  1,  1, -1,  1, -1, -1,  1,  0,  1,  1,  1,\n",
       "        1,  1,  1, -1,  1, -1, -1,  1,  1,  1,  1, -1, -1, -1,  1,  0,  1,\n",
       "       -1,  1,  1,  1,  1,  0, -1,  0,  1, -1, -1, -1, -1,  1,  0,  1, -1,\n",
       "        1,  1, -1,  0,  1,  1,  1, -1,  1,  1,  1,  0,  0, -1, -1,  1, -1,\n",
       "        1,  1,  1,  1,  1,  1,  1,  1,  0,  0,  1, -1, -1, -1, -1, -1,  0,\n",
       "       -1,  1,  1, -1,  1, -1, -1,  1,  1,  1,  1,  0, -1, -1,  1,  0,  1,\n",
       "        1,  0,  0,  1,  1,  1,  1,  1,  1, -1,  1,  1,  1,  1,  1,  1, -1,\n",
       "        0, -1,  1,  1,  1,  1,  0,  1, -1,  0,  1,  1,  1,  1, -1,  1, -1,\n",
       "        1,  1,  1,  1, -1, -1,  1,  0, -1, -1,  0, -1,  1,  1, -1, -1,  0,\n",
       "        1,  1,  0,  1,  0,  1,  1, -1,  1,  0,  1,  1, -1,  1, -1,  1, -1,\n",
       "       -1, -1,  0,  1,  1,  1,  1, -1,  1, -1,  1, -1,  1, -1,  1,  1,  1,\n",
       "       -1,  1,  1,  0,  1,  1,  1,  1,  1,  1, -1, -1,  1,  0,  1,  1, -1,\n",
       "       -1,  1,  1,  1, -1,  0,  0,  1,  0,  1,  0,  1, -1,  1,  1,  1,  0,\n",
       "        1,  1,  0,  1, -1, -1,  0,  0,  1, -1,  1,  0,  1,  1,  1,  1,  1,\n",
       "       -1, -1,  1,  1,  1,  1,  0,  1,  0,  0, -1,  1, -1,  1,  1, -1,  1,\n",
       "        1,  1, -1,  1,  1,  1,  1,  1,  1,  1,  1,  1, -1, -1,  1,  1,  1,\n",
       "       -1, -1, -1,  0,  0,  0,  0,  1])"
      ]
     },
     "execution_count": 53,
     "metadata": {},
     "output_type": "execute_result"
    }
   ],
   "source": [
    "#labels[random_unlabeled_points] = -1\n",
    "labels1"
   ]
  },
  {
   "cell_type": "code",
   "execution_count": 50,
   "id": "26331741",
   "metadata": {
    "ExecuteTime": {
     "end_time": "2022-09-08T01:50:02.825354Z",
     "start_time": "2022-09-08T01:50:02.817355Z"
    }
   },
   "outputs": [
    {
     "data": {
      "text/plain": [
       "array([[1., 0., 0.],\n",
       "       [1., 0., 0.],\n",
       "       [1., 0., 0.],\n",
       "       ...,\n",
       "       [1., 0., 0.],\n",
       "       [1., 0., 0.],\n",
       "       [0., 1., 0.]])"
      ]
     },
     "execution_count": 50,
     "metadata": {},
     "output_type": "execute_result"
    }
   ],
   "source": [
    "lf1.label_distributions_"
   ]
  },
  {
   "cell_type": "code",
   "execution_count": 55,
   "id": "9f94d0a7",
   "metadata": {
    "ExecuteTime": {
     "end_time": "2022-09-08T02:06:47.827373Z",
     "start_time": "2022-09-08T02:06:47.807074Z"
    }
   },
   "outputs": [
    {
     "data": {
      "text/plain": [
       "array([0, 0, 0, 0, 0, 0, 0, 0, 0, 0, 0, 0, 0, 0, 0, 0, 0, 0, 0, 1, 1, 1,\n",
       "       0, 0, 0, 0, 0, 0, 0, 0, 0, 0, 0, 0, 0, 0, 0, 1, 0, 0, 0, 0, 0, 0,\n",
       "       0, 0, 1, 0, 1, 1, 1, 1, 1, 0, 0, 1, 0, 0, 1, 1, 1, 1, 0, 1, 0, 0,\n",
       "       1, 1, 1, 1, 0, 1, 0, 0, 1, 0, 1, 0, 0, 1, 1, 1, 0, 0, 1, 0, 0, 0,\n",
       "       1, 1, 1, 0, 1, 1, 0, 0, 1, 1, 1, 0, 0, 1, 1, 1, 1, 0, 1, 1, 0, 1,\n",
       "       1, 1, 1, 1, 1, 1, 1, 0, 0, 0, 1, 0, 0, 1, 1, 1, 0, 0, 1, 0, 1, 0,\n",
       "       0, 1, 0, 0, 1, 1, 0, 1, 1, 0, 1, 1, 1, 1, 0, 1, 1, 1, 1, 1, 1, 1,\n",
       "       1, 1, 0, 1, 1, 1, 1, 0, 0, 1, 0, 1, 1, 0, 0, 1, 1, 0, 0, 1, 1, 1,\n",
       "       1, 0, 1, 1, 0, 0, 0, 1, 0, 1, 0, 1, 1, 1, 0, 1, 1, 0, 0, 1, 0, 0,\n",
       "       0, 0, 1, 0, 0, 0, 1, 0, 1, 0, 1, 1, 0, 1, 0, 0, 0, 0, 1, 1, 0, 0,\n",
       "       1, 1, 1, 0, 1, 1, 1, 1, 1, 0, 0, 1, 1, 0, 1, 1, 0, 0, 1, 0, 1, 1,\n",
       "       1, 1, 0, 1, 1, 1, 1, 1, 0, 1, 0, 0, 0, 0, 0, 0, 0, 0, 0, 0, 0, 0,\n",
       "       0, 0, 1, 1, 1, 1, 1, 1, 0, 1, 0, 1, 1, 0, 1, 1, 0, 1, 0, 0, 1, 1,\n",
       "       1, 1, 1, 1, 1, 1, 1, 1, 1, 1, 1, 0, 1, 1, 0, 1, 0, 1, 1, 1, 1, 1,\n",
       "       1, 1, 1, 1, 1, 1, 1, 1, 1, 0, 1, 1, 1, 0, 1, 0, 1, 1, 1, 1, 0, 0,\n",
       "       0, 1, 1, 1, 1, 0, 1, 0, 1, 0, 1, 1, 1, 0, 1, 1, 1, 1, 1, 1, 1, 0,\n",
       "       0, 0, 1, 1, 1, 1, 1, 1, 1, 1, 1, 1, 1, 0, 0, 1, 0, 0, 0, 1, 0, 0,\n",
       "       1, 1, 1, 1, 1, 0, 1, 1, 1, 1, 1, 0, 1, 1, 1, 0, 1, 1, 0, 0, 1, 1,\n",
       "       1, 1, 1, 1, 0, 1, 1, 1, 1, 1, 1, 1, 0, 1, 1, 1, 1, 1, 0, 1, 1, 0,\n",
       "       1, 1, 1, 1, 1, 1, 1, 1, 1, 1, 1, 1, 0, 1, 0, 0, 1, 0, 1, 1, 1, 1,\n",
       "       1, 0, 1, 1, 0, 1, 0, 1, 1, 0, 1, 0, 1, 1, 1, 1, 1, 1, 1, 1, 0, 0,\n",
       "       1, 1, 1, 1, 1, 1, 0, 1, 1, 1, 1, 1, 1, 1, 1, 1, 1, 0, 1, 1, 1, 1,\n",
       "       1, 1, 1, 0, 1, 0, 1, 1, 0, 1, 1, 1, 1, 1, 0, 0, 1, 0, 1, 0, 1, 1,\n",
       "       1, 1, 1, 0, 1, 1, 0, 1, 0, 1, 0, 0, 1, 1, 1, 0, 1, 1, 1, 1, 1, 1,\n",
       "       1, 1, 1, 1, 1, 0, 1, 0, 0, 1, 1, 1, 1, 1, 1, 1, 1, 1, 1, 1, 1, 1,\n",
       "       1, 1, 1, 1, 1, 1, 1, 1, 1, 1, 1, 1, 0, 0, 0, 0, 0, 0, 1])"
      ]
     },
     "execution_count": 55,
     "metadata": {},
     "output_type": "execute_result"
    }
   ],
   "source": [
    "cancer.target"
   ]
  },
  {
   "cell_type": "code",
   "execution_count": 54,
   "id": "ab6e5364",
   "metadata": {
    "ExecuteTime": {
     "end_time": "2022-09-08T02:05:48.954160Z",
     "start_time": "2022-09-08T02:05:48.924203Z"
    }
   },
   "outputs": [
    {
     "name": "stderr",
     "output_type": "stream",
     "text": [
      "D:\\TongYuan\\.julia\\conda\\3\\lib\\site-packages\\sklearn\\semi_supervised\\_label_propagation.py:222: RuntimeWarning: invalid value encountered in true_divide\n",
      "  probabilities /= normalizer\n"
     ]
    },
    {
     "data": {
      "text/plain": [
       "array([0, 0, 0, 0, 0, 0, 0, 0, 0, 0, 0, 0, 0, 0, 0, 0, 0, 0, 0, 0, 1, 0,\n",
       "       0, 0, 0, 0, 0, 0, 0, 0, 0, 0, 0, 0, 0, 0, 0, 0, 0, 0, 0, 0, 0, 0,\n",
       "       0, 0, 1, 0, 1, 0, 1, 1, 1, 0, 0, 1, 0, 0, 0, 1, 1, 0, 0, 1, 0, 0,\n",
       "       0, 1, 0, 1, 0, 0, 0, 0, 1, 0, 1, 0, 0, 0, 1, 1, 0, 0, 1, 0, 0, 0,\n",
       "       1, 1, 0, 0, 1, 1, 0, 0, 1, 1, 0, 0, 0, 1, 1, 1, 1, 0, 1, 1, 0, 0,\n",
       "       0, 0, 1, 1, 1, 1, 1, 0, 0, 0, 1, 0, 0, 0, 0, 1, 0, 0, 0, 0, 1, 0,\n",
       "       0, 1, 0, 0, 1, 1, 0, 1, 1, 0, 1, 1, 0, 0, 0, 1, 0, 0, 1, 0, 0, 1,\n",
       "       1, 0, 0, 1, 0, 1, 1, 0, 0, 1, 0, 1, 1, 0, 0, 1, 1, 0, 0, 0, 1, 0,\n",
       "       1, 0, 1, 0, 0, 0, 0, 1, 0, 1, 0, 1, 1, 1, 0, 1, 1, 0, 0, 1, 0, 0,\n",
       "       0, 0, 1, 0, 0, 0, 1, 0, 0, 0, 0, 0, 0, 1, 0, 0, 0, 0, 1, 1, 0, 0,\n",
       "       1, 1, 0, 0, 0, 0, 1, 1, 1, 0, 0, 1, 1, 0, 0, 1, 0, 0, 1, 0, 1, 1,\n",
       "       1, 1, 0, 1, 1, 1, 1, 1, 0, 1, 0, 0, 0, 0, 0, 0, 0, 0, 0, 0, 0, 0,\n",
       "       0, 0, 1, 1, 1, 0, 1, 1, 0, 1, 0, 1, 1, 0, 1, 1, 0, 1, 0, 0, 1, 0,\n",
       "       1, 1, 0, 1, 0, 0, 1, 1, 0, 1, 1, 0, 1, 0, 0, 1, 0, 1, 1, 1, 1, 1,\n",
       "       1, 0, 1, 0, 0, 1, 1, 1, 1, 0, 0, 0, 1, 0, 1, 0, 1, 1, 1, 1, 0, 0,\n",
       "       0, 1, 0, 0, 1, 0, 1, 0, 1, 0, 1, 1, 0, 0, 1, 1, 1, 0, 1, 1, 1, 0,\n",
       "       0, 0, 0, 1, 0, 1, 1, 1, 1, 1, 1, 1, 1, 0, 0, 1, 0, 0, 0, 0, 0, 0,\n",
       "       0, 1, 1, 0, 1, 0, 0, 1, 1, 1, 1, 0, 0, 0, 1, 0, 1, 1, 0, 0, 1, 1,\n",
       "       1, 1, 1, 1, 0, 1, 1, 1, 1, 1, 1, 0, 0, 0, 1, 1, 1, 1, 0, 1, 0, 0,\n",
       "       1, 1, 1, 1, 0, 1, 0, 1, 1, 1, 1, 0, 0, 1, 0, 0, 0, 0, 0, 1, 1, 0,\n",
       "       0, 0, 1, 1, 0, 1, 0, 1, 1, 0, 1, 0, 1, 1, 0, 1, 0, 1, 0, 0, 0, 0,\n",
       "       1, 1, 1, 1, 0, 1, 0, 1, 0, 1, 0, 1, 1, 1, 0, 1, 1, 0, 1, 1, 1, 1,\n",
       "       1, 1, 0, 0, 1, 0, 1, 1, 0, 0, 1, 1, 1, 0, 0, 0, 1, 0, 1, 0, 1, 0,\n",
       "       1, 1, 1, 0, 1, 1, 0, 1, 0, 0, 0, 0, 1, 0, 1, 0, 1, 1, 1, 1, 1, 0,\n",
       "       0, 1, 1, 1, 1, 0, 1, 0, 0, 0, 1, 0, 1, 1, 0, 1, 1, 1, 0, 1, 1, 1,\n",
       "       1, 1, 1, 1, 1, 1, 0, 0, 1, 1, 1, 0, 0, 0, 0, 0, 0, 0, 1])"
      ]
     },
     "execution_count": 54,
     "metadata": {},
     "output_type": "execute_result"
    }
   ],
   "source": [
    "lf1.predict(cancer.data)"
   ]
  },
  {
   "cell_type": "markdown",
   "id": "52c271df",
   "metadata": {},
   "source": [
    "### SelfTrainingClassifier"
   ]
  },
  {
   "cell_type": "code",
   "execution_count": 3,
   "id": "e0d4357c",
   "metadata": {
    "ExecuteTime": {
     "end_time": "2023-02-10T01:31:01.302906Z",
     "start_time": "2023-02-10T01:31:01.252294Z"
    }
   },
   "outputs": [],
   "source": [
    "?sklearn.semi_supervised.SelfTrainingClassifier"
   ]
  },
  {
   "cell_type": "markdown",
   "id": "4a0c3e04",
   "metadata": {},
   "source": [
    "### naive_bayes"
   ]
  },
  {
   "cell_type": "code",
   "execution_count": 40,
   "id": "5eb56701",
   "metadata": {
    "ExecuteTime": {
     "end_time": "2022-06-21T06:36:20.418165Z",
     "start_time": "2022-06-21T06:36:20.401269Z"
    }
   },
   "outputs": [],
   "source": [
    "import sklearn.naive_bayes"
   ]
  },
  {
   "cell_type": "code",
   "execution_count": 41,
   "id": "00c0ef17",
   "metadata": {
    "ExecuteTime": {
     "end_time": "2022-06-21T06:36:33.065789Z",
     "start_time": "2022-06-21T06:36:33.060872Z"
    }
   },
   "outputs": [
    {
     "data": {
      "text/plain": [
       "['ABCMeta',\n",
       " 'BaseEstimator',\n",
       " 'BernoulliNB',\n",
       " 'CategoricalNB',\n",
       " 'ClassifierMixin',\n",
       " 'ComplementNB',\n",
       " 'GaussianNB',\n",
       " 'LabelBinarizer',\n",
       " 'MultinomialNB',\n",
       " '_ALPHA_MIN',\n",
       " '_BaseDiscreteNB',\n",
       " '_BaseNB',\n",
       " '__all__',\n",
       " '__builtins__',\n",
       " '__cached__',\n",
       " '__doc__',\n",
       " '__file__',\n",
       " '__loader__',\n",
       " '__name__',\n",
       " '__package__',\n",
       " '__spec__',\n",
       " '_check_partial_fit_first_call',\n",
       " '_check_sample_weight',\n",
       " 'abstractmethod',\n",
       " 'binarize',\n",
       " 'check_is_fitted',\n",
       " 'check_non_negative',\n",
       " 'deprecated',\n",
       " 'label_binarize',\n",
       " 'logsumexp',\n",
       " 'np',\n",
       " 'safe_sparse_dot',\n",
       " 'warnings']"
      ]
     },
     "execution_count": 41,
     "metadata": {},
     "output_type": "execute_result"
    }
   ],
   "source": [
    "dir(sklearn.naive_bayes)"
   ]
  },
  {
   "cell_type": "markdown",
   "id": "943f1a0d",
   "metadata": {},
   "source": [
    "## sklearn.decomposition"
   ]
  },
  {
   "cell_type": "code",
   "execution_count": 2,
   "id": "3dc75d23",
   "metadata": {
    "ExecuteTime": {
     "end_time": "2022-06-21T08:54:05.963406Z",
     "start_time": "2022-06-21T08:54:05.224771Z"
    }
   },
   "outputs": [],
   "source": [
    "import sklearn.decomposition"
   ]
  },
  {
   "cell_type": "code",
   "execution_count": 4,
   "id": "b96ecc5d",
   "metadata": {
    "ExecuteTime": {
     "end_time": "2022-06-21T08:54:52.279400Z",
     "start_time": "2022-06-21T08:54:52.269483Z"
    }
   },
   "outputs": [
    {
     "data": {
      "text/plain": [
       "['DictionaryLearning',\n",
       " 'FactorAnalysis',\n",
       " 'FastICA',\n",
       " 'IncrementalPCA',\n",
       " 'KernelPCA',\n",
       " 'LatentDirichletAllocation',\n",
       " 'MiniBatchDictionaryLearning',\n",
       " 'MiniBatchNMF',\n",
       " 'MiniBatchSparsePCA',\n",
       " 'NMF',\n",
       " 'PCA',\n",
       " 'SparseCoder',\n",
       " 'SparsePCA',\n",
       " 'TruncatedSVD',\n",
       " '__all__',\n",
       " '__builtins__',\n",
       " '__cached__',\n",
       " '__doc__',\n",
       " '__file__',\n",
       " '__loader__',\n",
       " '__name__',\n",
       " '__package__',\n",
       " '__path__',\n",
       " '__spec__',\n",
       " '_base',\n",
       " '_cdnmf_fast',\n",
       " '_dict_learning',\n",
       " '_factor_analysis',\n",
       " '_fastica',\n",
       " '_incremental_pca',\n",
       " '_kernel_pca',\n",
       " '_lda',\n",
       " '_nmf',\n",
       " '_online_lda_fast',\n",
       " '_pca',\n",
       " '_sparse_pca',\n",
       " '_truncated_svd',\n",
       " 'dict_learning',\n",
       " 'dict_learning_online',\n",
       " 'fastica',\n",
       " 'non_negative_factorization',\n",
       " 'randomized_svd',\n",
       " 'sparse_encode']"
      ]
     },
     "execution_count": 4,
     "metadata": {},
     "output_type": "execute_result"
    }
   ],
   "source": [
    "dir(sklearn.decomposition)"
   ]
  },
  {
   "cell_type": "markdown",
   "id": "1d885fec",
   "metadata": {},
   "source": [
    "### PCA"
   ]
  },
  {
   "cell_type": "code",
   "execution_count": 7,
   "id": "ffa60f47",
   "metadata": {
    "ExecuteTime": {
     "end_time": "2022-06-21T08:59:48.580454Z",
     "start_time": "2022-06-21T08:59:48.566548Z"
    }
   },
   "outputs": [],
   "source": [
    "?sklearn.decomposition.PCA.transform"
   ]
  },
  {
   "cell_type": "code",
   "execution_count": 13,
   "id": "ba11beeb",
   "metadata": {
    "ExecuteTime": {
     "end_time": "2022-06-21T09:25:59.191316Z",
     "start_time": "2022-06-21T09:25:59.175370Z"
    }
   },
   "outputs": [
    {
     "data": {
      "text/plain": [
       "['__abstractmethods__',\n",
       " '__class__',\n",
       " '__delattr__',\n",
       " '__dict__',\n",
       " '__dir__',\n",
       " '__doc__',\n",
       " '__eq__',\n",
       " '__format__',\n",
       " '__ge__',\n",
       " '__getattribute__',\n",
       " '__getstate__',\n",
       " '__gt__',\n",
       " '__hash__',\n",
       " '__init__',\n",
       " '__init_subclass__',\n",
       " '__le__',\n",
       " '__lt__',\n",
       " '__module__',\n",
       " '__ne__',\n",
       " '__new__',\n",
       " '__reduce__',\n",
       " '__reduce_ex__',\n",
       " '__repr__',\n",
       " '__setattr__',\n",
       " '__setstate__',\n",
       " '__sizeof__',\n",
       " '__str__',\n",
       " '__subclasshook__',\n",
       " '__weakref__',\n",
       " '_abc_impl',\n",
       " '_check_feature_names',\n",
       " '_check_n_features',\n",
       " '_fit',\n",
       " '_fit_full',\n",
       " '_fit_truncated',\n",
       " '_get_param_names',\n",
       " '_get_tags',\n",
       " '_more_tags',\n",
       " '_n_features_out',\n",
       " '_repr_html_',\n",
       " '_repr_html_inner',\n",
       " '_repr_mimebundle_',\n",
       " '_validate_data',\n",
       " 'fit',\n",
       " 'fit_transform',\n",
       " 'get_covariance',\n",
       " 'get_feature_names_out',\n",
       " 'get_params',\n",
       " 'get_precision',\n",
       " 'inverse_transform',\n",
       " 'score',\n",
       " 'score_samples',\n",
       " 'set_params',\n",
       " 'transform']"
      ]
     },
     "execution_count": 13,
     "metadata": {},
     "output_type": "execute_result"
    }
   ],
   "source": [
    "dir(sklearn.decomposition.PCA)"
   ]
  },
  {
   "cell_type": "code",
   "execution_count": 27,
   "id": "8e869526",
   "metadata": {
    "ExecuteTime": {
     "end_time": "2022-06-21T10:04:07.663418Z",
     "start_time": "2022-06-21T10:04:07.658385Z"
    }
   },
   "outputs": [],
   "source": [
    "?sklearn.decomposition.PCA"
   ]
  },
  {
   "cell_type": "markdown",
   "id": "4130764b",
   "metadata": {},
   "source": [
    "## sklearn.discriminant_analysis"
   ]
  },
  {
   "cell_type": "code",
   "execution_count": 2,
   "id": "b868539d",
   "metadata": {
    "ExecuteTime": {
     "end_time": "2022-06-23T01:02:04.749647Z",
     "start_time": "2022-06-23T01:02:04.602997Z"
    }
   },
   "outputs": [],
   "source": [
    "import sklearn.discriminant_analysis #判别分析"
   ]
  },
  {
   "cell_type": "markdown",
   "id": "6f800f91",
   "metadata": {},
   "source": [
    "### LinearDiscriminantAnalysis"
   ]
  },
  {
   "cell_type": "code",
   "execution_count": 3,
   "id": "adce2ead",
   "metadata": {
    "ExecuteTime": {
     "end_time": "2022-06-23T01:04:08.478535Z",
     "start_time": "2022-06-23T01:04:08.463586Z"
    }
   },
   "outputs": [
    {
     "data": {
      "text/plain": [
       "['__class__',\n",
       " '__delattr__',\n",
       " '__dict__',\n",
       " '__dir__',\n",
       " '__doc__',\n",
       " '__eq__',\n",
       " '__format__',\n",
       " '__ge__',\n",
       " '__getattribute__',\n",
       " '__getstate__',\n",
       " '__gt__',\n",
       " '__hash__',\n",
       " '__init__',\n",
       " '__init_subclass__',\n",
       " '__le__',\n",
       " '__lt__',\n",
       " '__module__',\n",
       " '__ne__',\n",
       " '__new__',\n",
       " '__reduce__',\n",
       " '__reduce_ex__',\n",
       " '__repr__',\n",
       " '__setattr__',\n",
       " '__setstate__',\n",
       " '__sizeof__',\n",
       " '__str__',\n",
       " '__subclasshook__',\n",
       " '__weakref__',\n",
       " '_check_feature_names',\n",
       " '_check_n_features',\n",
       " '_estimator_type',\n",
       " '_get_param_names',\n",
       " '_get_tags',\n",
       " '_more_tags',\n",
       " '_predict_proba_lr',\n",
       " '_repr_html_',\n",
       " '_repr_html_inner',\n",
       " '_repr_mimebundle_',\n",
       " '_solve_eigen',\n",
       " '_solve_lsqr',\n",
       " '_solve_svd',\n",
       " '_validate_data',\n",
       " 'decision_function',\n",
       " 'fit',\n",
       " 'fit_transform',\n",
       " 'get_feature_names_out',\n",
       " 'get_params',\n",
       " 'predict',\n",
       " 'predict_log_proba',\n",
       " 'predict_proba',\n",
       " 'score',\n",
       " 'set_params',\n",
       " 'transform']"
      ]
     },
     "execution_count": 3,
     "metadata": {},
     "output_type": "execute_result"
    }
   ],
   "source": [
    "dir(sklearn.discriminant_analysis.LinearDiscriminantAnalysis)"
   ]
  },
  {
   "cell_type": "code",
   "execution_count": 5,
   "id": "c9077c58",
   "metadata": {
    "ExecuteTime": {
     "end_time": "2022-06-23T01:10:55.253130Z",
     "start_time": "2022-06-23T01:10:55.234242Z"
    }
   },
   "outputs": [],
   "source": [
    "?sklearn.discriminant_analysis.LinearDiscriminantAnalysis"
   ]
  },
  {
   "cell_type": "markdown",
   "id": "1d829890",
   "metadata": {},
   "source": [
    "## sklearn.neighbors"
   ]
  },
  {
   "cell_type": "code",
   "execution_count": 61,
   "id": "e0111ef6",
   "metadata": {
    "ExecuteTime": {
     "end_time": "2022-09-08T07:08:51.967106Z",
     "start_time": "2022-09-08T07:08:51.955161Z"
    }
   },
   "outputs": [],
   "source": [
    "import sklearn.neighbors"
   ]
  },
  {
   "cell_type": "code",
   "execution_count": 2,
   "id": "b25e7600",
   "metadata": {
    "ExecuteTime": {
     "end_time": "2022-07-15T01:23:06.170684Z",
     "start_time": "2022-07-15T01:23:06.138608Z"
    }
   },
   "outputs": [
    {
     "data": {
      "text/plain": [
       "['BallTree',\n",
       " 'DistanceMetric',\n",
       " 'KDTree',\n",
       " 'KNeighborsClassifier',\n",
       " 'KNeighborsRegressor',\n",
       " 'KNeighborsTransformer',\n",
       " 'KernelDensity',\n",
       " 'LocalOutlierFactor',\n",
       " 'NearestCentroid',\n",
       " 'NearestNeighbors',\n",
       " 'NeighborhoodComponentsAnalysis',\n",
       " 'RadiusNeighborsClassifier',\n",
       " 'RadiusNeighborsRegressor',\n",
       " 'RadiusNeighborsTransformer',\n",
       " 'VALID_METRICS',\n",
       " 'VALID_METRICS_SPARSE',\n",
       " '__all__',\n",
       " '__builtins__',\n",
       " '__cached__',\n",
       " '__doc__',\n",
       " '__file__',\n",
       " '__loader__',\n",
       " '__name__',\n",
       " '__package__',\n",
       " '__path__',\n",
       " '__spec__',\n",
       " '_ball_tree',\n",
       " '_base',\n",
       " '_classification',\n",
       " '_distance_metric',\n",
       " '_graph',\n",
       " '_kd_tree',\n",
       " '_kde',\n",
       " '_lof',\n",
       " '_nca',\n",
       " '_nearest_centroid',\n",
       " '_partition_nodes',\n",
       " '_regression',\n",
       " '_unsupervised',\n",
       " 'kneighbors_graph',\n",
       " 'radius_neighbors_graph']"
      ]
     },
     "execution_count": 2,
     "metadata": {},
     "output_type": "execute_result"
    }
   ],
   "source": [
    "dir(sklearn.neighbors)"
   ]
  },
  {
   "cell_type": "markdown",
   "id": "3eb41dac",
   "metadata": {},
   "source": [
    "### NearestNeighbors"
   ]
  },
  {
   "cell_type": "code",
   "execution_count": 3,
   "id": "6130fa20",
   "metadata": {
    "ExecuteTime": {
     "end_time": "2022-07-15T01:24:08.918924Z",
     "start_time": "2022-07-15T01:24:08.836514Z"
    }
   },
   "outputs": [],
   "source": [
    "?sklearn.neighbors.NearestNeighbors"
   ]
  },
  {
   "cell_type": "code",
   "execution_count": null,
   "id": "82a0b1cf",
   "metadata": {},
   "outputs": [],
   "source": []
  },
  {
   "cell_type": "markdown",
   "id": "cd4f33b5",
   "metadata": {},
   "source": [
    "### KDTree"
   ]
  },
  {
   "cell_type": "code",
   "execution_count": 5,
   "id": "25d6fbaf",
   "metadata": {
    "ExecuteTime": {
     "end_time": "2022-11-24T05:39:40.267814Z",
     "start_time": "2022-11-24T05:39:40.254858Z"
    }
   },
   "outputs": [],
   "source": [
    "?sklearn.neighbors.KDTree"
   ]
  },
  {
   "cell_type": "code",
   "execution_count": 63,
   "id": "3db26f87",
   "metadata": {
    "ExecuteTime": {
     "end_time": "2022-09-08T07:09:37.193197Z",
     "start_time": "2022-09-08T07:09:37.180198Z"
    }
   },
   "outputs": [
    {
     "data": {
      "text/plain": [
       "['__class__',\n",
       " '__delattr__',\n",
       " '__dir__',\n",
       " '__doc__',\n",
       " '__eq__',\n",
       " '__format__',\n",
       " '__ge__',\n",
       " '__getattribute__',\n",
       " '__getstate__',\n",
       " '__gt__',\n",
       " '__hash__',\n",
       " '__init__',\n",
       " '__init_subclass__',\n",
       " '__le__',\n",
       " '__lt__',\n",
       " '__ne__',\n",
       " '__new__',\n",
       " '__pyx_vtable__',\n",
       " '__reduce__',\n",
       " '__reduce_ex__',\n",
       " '__repr__',\n",
       " '__setattr__',\n",
       " '__setstate__',\n",
       " '__sizeof__',\n",
       " '__str__',\n",
       " '__subclasshook__',\n",
       " '_update_memviews',\n",
       " '_update_sample_weight',\n",
       " 'data',\n",
       " 'get_arrays',\n",
       " 'get_n_calls',\n",
       " 'get_tree_stats',\n",
       " 'idx_array',\n",
       " 'kernel_density',\n",
       " 'node_bounds',\n",
       " 'node_data',\n",
       " 'query',\n",
       " 'query_radius',\n",
       " 'reset_n_calls',\n",
       " 'sample_weight',\n",
       " 'sum_weight',\n",
       " 'two_point_correlation',\n",
       " 'valid_metrics']"
      ]
     },
     "execution_count": 63,
     "metadata": {},
     "output_type": "execute_result"
    }
   ],
   "source": [
    "dir(sklearn.neighbors.KDTree)"
   ]
  },
  {
   "cell_type": "markdown",
   "id": "2a7319d0",
   "metadata": {},
   "source": [
    "### KNeighborsClassifier"
   ]
  },
  {
   "cell_type": "code",
   "execution_count": 10,
   "id": "03734a92",
   "metadata": {
    "ExecuteTime": {
     "end_time": "2022-06-23T02:25:40.931073Z",
     "start_time": "2022-06-23T02:25:40.913133Z"
    }
   },
   "outputs": [],
   "source": [
    "?sklearn.neighbors.KNeighborsClassifier"
   ]
  },
  {
   "cell_type": "markdown",
   "id": "db9df928",
   "metadata": {},
   "source": [
    "## sklearn.cluster"
   ]
  },
  {
   "cell_type": "code",
   "execution_count": 3,
   "id": "be3fd581",
   "metadata": {
    "ExecuteTime": {
     "end_time": "2022-06-28T02:27:58.200374Z",
     "start_time": "2022-06-28T02:27:57.746781Z"
    }
   },
   "outputs": [],
   "source": [
    "import sklearn.cluster"
   ]
  },
  {
   "cell_type": "code",
   "execution_count": 4,
   "id": "3208d6e5",
   "metadata": {
    "ExecuteTime": {
     "end_time": "2022-06-28T02:28:11.546519Z",
     "start_time": "2022-06-28T02:28:11.527577Z"
    }
   },
   "outputs": [
    {
     "data": {
      "text/plain": [
       "['AffinityPropagation',\n",
       " 'AgglomerativeClustering',\n",
       " 'Birch',\n",
       " 'BisectingKMeans',\n",
       " 'DBSCAN',\n",
       " 'FeatureAgglomeration',\n",
       " 'KMeans',\n",
       " 'MeanShift',\n",
       " 'MiniBatchKMeans',\n",
       " 'OPTICS',\n",
       " 'SpectralBiclustering',\n",
       " 'SpectralClustering',\n",
       " 'SpectralCoclustering',\n",
       " '__all__',\n",
       " '__builtins__',\n",
       " '__cached__',\n",
       " '__doc__',\n",
       " '__file__',\n",
       " '__loader__',\n",
       " '__name__',\n",
       " '__package__',\n",
       " '__path__',\n",
       " '__spec__',\n",
       " '_affinity_propagation',\n",
       " '_agglomerative',\n",
       " '_bicluster',\n",
       " '_birch',\n",
       " '_bisect_k_means',\n",
       " '_dbscan',\n",
       " '_dbscan_inner',\n",
       " '_feature_agglomeration',\n",
       " '_hierarchical_fast',\n",
       " '_k_means_common',\n",
       " '_k_means_elkan',\n",
       " '_k_means_lloyd',\n",
       " '_k_means_minibatch',\n",
       " '_kmeans',\n",
       " '_mean_shift',\n",
       " '_optics',\n",
       " '_spectral',\n",
       " 'affinity_propagation',\n",
       " 'cluster_optics_dbscan',\n",
       " 'cluster_optics_xi',\n",
       " 'compute_optics_graph',\n",
       " 'dbscan',\n",
       " 'estimate_bandwidth',\n",
       " 'get_bin_seeds',\n",
       " 'k_means',\n",
       " 'kmeans_plusplus',\n",
       " 'linkage_tree',\n",
       " 'mean_shift',\n",
       " 'spectral_clustering',\n",
       " 'ward_tree']"
      ]
     },
     "execution_count": 4,
     "metadata": {},
     "output_type": "execute_result"
    }
   ],
   "source": [
    "dir(sklearn.cluster)"
   ]
  },
  {
   "cell_type": "markdown",
   "id": "7fcd6f41",
   "metadata": {},
   "source": [
    "### AgglomerativeClustering"
   ]
  },
  {
   "cell_type": "code",
   "execution_count": 6,
   "id": "3c661a4a",
   "metadata": {
    "ExecuteTime": {
     "end_time": "2022-06-28T02:29:37.937276Z",
     "start_time": "2022-06-28T02:29:37.923392Z"
    }
   },
   "outputs": [
    {
     "data": {
      "text/plain": [
       "['__class__',\n",
       " '__delattr__',\n",
       " '__dict__',\n",
       " '__dir__',\n",
       " '__doc__',\n",
       " '__eq__',\n",
       " '__format__',\n",
       " '__ge__',\n",
       " '__getattribute__',\n",
       " '__getstate__',\n",
       " '__gt__',\n",
       " '__hash__',\n",
       " '__init__',\n",
       " '__init_subclass__',\n",
       " '__le__',\n",
       " '__lt__',\n",
       " '__module__',\n",
       " '__ne__',\n",
       " '__new__',\n",
       " '__reduce__',\n",
       " '__reduce_ex__',\n",
       " '__repr__',\n",
       " '__setattr__',\n",
       " '__setstate__',\n",
       " '__sizeof__',\n",
       " '__str__',\n",
       " '__subclasshook__',\n",
       " '__weakref__',\n",
       " '_check_feature_names',\n",
       " '_check_n_features',\n",
       " '_estimator_type',\n",
       " '_fit',\n",
       " '_get_param_names',\n",
       " '_get_tags',\n",
       " '_more_tags',\n",
       " '_repr_html_',\n",
       " '_repr_html_inner',\n",
       " '_repr_mimebundle_',\n",
       " '_validate_data',\n",
       " 'fit',\n",
       " 'fit_predict',\n",
       " 'get_params',\n",
       " 'set_params']"
      ]
     },
     "execution_count": 6,
     "metadata": {},
     "output_type": "execute_result"
    }
   ],
   "source": [
    "dir(sklearn.cluster.AgglomerativeClustering)"
   ]
  },
  {
   "cell_type": "markdown",
   "id": "8352f793",
   "metadata": {},
   "source": [
    "## sklearn.mixture"
   ]
  },
  {
   "cell_type": "code",
   "execution_count": 1,
   "id": "1b52a0f9",
   "metadata": {
    "ExecuteTime": {
     "end_time": "2022-07-14T06:16:41.196319Z",
     "start_time": "2022-07-14T06:16:38.684991Z"
    }
   },
   "outputs": [],
   "source": [
    "import sklearn.mixture"
   ]
  },
  {
   "cell_type": "code",
   "execution_count": 2,
   "id": "ddfc4f04",
   "metadata": {
    "ExecuteTime": {
     "end_time": "2022-06-29T02:13:05.655799Z",
     "start_time": "2022-06-29T02:13:05.639907Z"
    }
   },
   "outputs": [
    {
     "data": {
      "text/plain": [
       "['BayesianGaussianMixture',\n",
       " 'GaussianMixture',\n",
       " '__all__',\n",
       " '__builtins__',\n",
       " '__cached__',\n",
       " '__doc__',\n",
       " '__file__',\n",
       " '__loader__',\n",
       " '__name__',\n",
       " '__package__',\n",
       " '__path__',\n",
       " '__spec__',\n",
       " '_base',\n",
       " '_bayesian_mixture',\n",
       " '_gaussian_mixture']"
      ]
     },
     "execution_count": 2,
     "metadata": {},
     "output_type": "execute_result"
    }
   ],
   "source": [
    "dir(sklearn.mixture)"
   ]
  },
  {
   "cell_type": "code",
   "execution_count": 3,
   "id": "2ea0aa05",
   "metadata": {
    "ExecuteTime": {
     "end_time": "2022-06-29T02:13:37.136438Z",
     "start_time": "2022-06-29T02:13:37.117492Z"
    }
   },
   "outputs": [
    {
     "data": {
      "text/plain": [
       "['__abstractmethods__',\n",
       " '__class__',\n",
       " '__delattr__',\n",
       " '__dict__',\n",
       " '__dir__',\n",
       " '__doc__',\n",
       " '__eq__',\n",
       " '__format__',\n",
       " '__ge__',\n",
       " '__getattribute__',\n",
       " '__getstate__',\n",
       " '__gt__',\n",
       " '__hash__',\n",
       " '__init__',\n",
       " '__init_subclass__',\n",
       " '__le__',\n",
       " '__lt__',\n",
       " '__module__',\n",
       " '__ne__',\n",
       " '__new__',\n",
       " '__reduce__',\n",
       " '__reduce_ex__',\n",
       " '__repr__',\n",
       " '__setattr__',\n",
       " '__setstate__',\n",
       " '__sizeof__',\n",
       " '__str__',\n",
       " '__subclasshook__',\n",
       " '__weakref__',\n",
       " '_abc_impl',\n",
       " '_check_feature_names',\n",
       " '_check_initial_parameters',\n",
       " '_check_n_features',\n",
       " '_check_parameters',\n",
       " '_compute_lower_bound',\n",
       " '_e_step',\n",
       " '_estimate_log_prob',\n",
       " '_estimate_log_prob_resp',\n",
       " '_estimate_log_weights',\n",
       " '_estimate_weighted_log_prob',\n",
       " '_estimator_type',\n",
       " '_get_param_names',\n",
       " '_get_parameters',\n",
       " '_get_tags',\n",
       " '_initialize',\n",
       " '_initialize_parameters',\n",
       " '_m_step',\n",
       " '_more_tags',\n",
       " '_n_parameters',\n",
       " '_print_verbose_msg_init_beg',\n",
       " '_print_verbose_msg_init_end',\n",
       " '_print_verbose_msg_iter_end',\n",
       " '_repr_html_',\n",
       " '_repr_html_inner',\n",
       " '_repr_mimebundle_',\n",
       " '_set_parameters',\n",
       " '_validate_data',\n",
       " 'aic',\n",
       " 'bic',\n",
       " 'fit',\n",
       " 'fit_predict',\n",
       " 'get_params',\n",
       " 'predict',\n",
       " 'predict_proba',\n",
       " 'sample',\n",
       " 'score',\n",
       " 'score_samples',\n",
       " 'set_params']"
      ]
     },
     "execution_count": 3,
     "metadata": {},
     "output_type": "execute_result"
    }
   ],
   "source": [
    "dir(sklearn.mixture.GaussianMixture)"
   ]
  },
  {
   "cell_type": "code",
   "execution_count": 3,
   "id": "49d85f63",
   "metadata": {
    "ExecuteTime": {
     "end_time": "2022-07-14T06:17:05.721117Z",
     "start_time": "2022-07-14T06:17:05.712147Z"
    }
   },
   "outputs": [],
   "source": [
    "?sklearn.mixture.GaussianMixture.sample"
   ]
  },
  {
   "cell_type": "markdown",
   "id": "e9018c33",
   "metadata": {},
   "source": [
    "# statsmodels"
   ]
  },
  {
   "cell_type": "code",
   "execution_count": 3,
   "id": "a015318b",
   "metadata": {
    "ExecuteTime": {
     "end_time": "2022-10-09T06:42:08.633845Z",
     "start_time": "2022-10-09T06:42:08.626869Z"
    }
   },
   "outputs": [],
   "source": [
    "import statsmodels #统计建模库"
   ]
  },
  {
   "cell_type": "markdown",
   "id": "24668fbb",
   "metadata": {},
   "source": [
    "## statsmodels.api"
   ]
  },
  {
   "cell_type": "code",
   "execution_count": 11,
   "id": "8642abfb",
   "metadata": {
    "ExecuteTime": {
     "end_time": "2022-07-07T00:44:57.653342Z",
     "start_time": "2022-07-07T00:44:56.471789Z"
    }
   },
   "outputs": [],
   "source": [
    "import statsmodels.api"
   ]
  },
  {
   "cell_type": "code",
   "execution_count": 12,
   "id": "e599dad9",
   "metadata": {
    "ExecuteTime": {
     "end_time": "2022-07-07T00:44:57.668569Z",
     "start_time": "2022-07-07T00:44:57.653342Z"
    }
   },
   "outputs": [
    {
     "data": {
      "text/plain": [
       "['BayesGaussMI',\n",
       " 'BinomialBayesMixedGLM',\n",
       " 'Factor',\n",
       " 'GEE',\n",
       " 'GLM',\n",
       " 'GLMGam',\n",
       " 'GLS',\n",
       " 'GLSAR',\n",
       " 'GeneralizedPoisson',\n",
       " 'Logit',\n",
       " 'MANOVA',\n",
       " 'MI',\n",
       " 'MICE',\n",
       " 'MICEData',\n",
       " 'MNLogit',\n",
       " 'MixedLM',\n",
       " 'NegativeBinomial',\n",
       " 'NegativeBinomialP',\n",
       " 'NominalGEE',\n",
       " 'OLS',\n",
       " 'OrdinalGEE',\n",
       " 'PCA',\n",
       " 'PHReg',\n",
       " 'Poisson',\n",
       " 'PoissonBayesMixedGLM',\n",
       " 'ProbPlot',\n",
       " 'Probit',\n",
       " 'QuantReg',\n",
       " 'RLM',\n",
       " 'RecursiveLS',\n",
       " 'SurvfuncRight',\n",
       " 'WLS',\n",
       " 'ZeroInflatedGeneralizedPoisson',\n",
       " 'ZeroInflatedNegativeBinomialP',\n",
       " 'ZeroInflatedPoisson',\n",
       " '__all__',\n",
       " '__builtins__',\n",
       " '__cached__',\n",
       " '__doc__',\n",
       " '__file__',\n",
       " '__loader__',\n",
       " '__name__',\n",
       " '__package__',\n",
       " '__spec__',\n",
       " '__version__',\n",
       " 'add_constant',\n",
       " 'categorical',\n",
       " 'cov_struct',\n",
       " 'datasets',\n",
       " 'distributions',\n",
       " 'duration',\n",
       " 'emplike',\n",
       " 'families',\n",
       " 'formula',\n",
       " 'gam',\n",
       " 'genmod',\n",
       " 'graphics',\n",
       " 'iolib',\n",
       " 'load',\n",
       " 'load_pickle',\n",
       " 'multivariate',\n",
       " 'nonparametric',\n",
       " 'qqline',\n",
       " 'qqplot',\n",
       " 'qqplot_2samples',\n",
       " 'regression',\n",
       " 'robust',\n",
       " 'show_versions',\n",
       " 'stats',\n",
       " 'test',\n",
       " 'tools',\n",
       " 'tsa',\n",
       " 'webdoc']"
      ]
     },
     "execution_count": 12,
     "metadata": {},
     "output_type": "execute_result"
    }
   ],
   "source": [
    "dir(statsmodels.api)"
   ]
  },
  {
   "cell_type": "markdown",
   "id": "90a95349",
   "metadata": {
    "ExecuteTime": {
     "end_time": "2022-07-06T06:22:31.950622Z",
     "start_time": "2022-07-06T06:22:31.941648Z"
    }
   },
   "source": [
    "### ECDF"
   ]
  },
  {
   "cell_type": "code",
   "execution_count": 24,
   "id": "7652d46c",
   "metadata": {
    "ExecuteTime": {
     "end_time": "2022-07-06T06:21:21.509356Z",
     "start_time": "2022-07-06T06:21:21.497396Z"
    }
   },
   "outputs": [
    {
     "data": {
      "text/plain": [
       "['ECDF',\n",
       " 'ExpandedNormal',\n",
       " 'PytestTester',\n",
       " 'StepFunction',\n",
       " '__all__',\n",
       " '__builtins__',\n",
       " '__cached__',\n",
       " '__doc__',\n",
       " '__file__',\n",
       " '__loader__',\n",
       " '__name__',\n",
       " '__package__',\n",
       " '__path__',\n",
       " '__spec__',\n",
       " 'discrete',\n",
       " 'edgeworth',\n",
       " 'empirical_distribution',\n",
       " 'genpoisson_p',\n",
       " 'monotone_fn_inverter',\n",
       " 'test',\n",
       " 'zigenpoisson',\n",
       " 'zinegbin',\n",
       " 'zipoisson']"
      ]
     },
     "execution_count": 24,
     "metadata": {},
     "output_type": "execute_result"
    }
   ],
   "source": [
    "dir(statsmodels.api.distributions) #累积经验分布函数"
   ]
  },
  {
   "cell_type": "code",
   "execution_count": 28,
   "id": "27be6054",
   "metadata": {
    "ExecuteTime": {
     "end_time": "2022-07-06T06:28:20.644572Z",
     "start_time": "2022-07-06T06:28:20.628949Z"
    }
   },
   "outputs": [],
   "source": [
    "?statsmodels.api.distributions.ECDF "
   ]
  },
  {
   "cell_type": "code",
   "execution_count": null,
   "id": "65a096a5",
   "metadata": {},
   "outputs": [],
   "source": []
  },
  {
   "cell_type": "code",
   "execution_count": null,
   "id": "c9f93a34",
   "metadata": {},
   "outputs": [],
   "source": []
  },
  {
   "cell_type": "markdown",
   "id": "88d2ca25",
   "metadata": {},
   "source": [
    "### MixedLM"
   ]
  },
  {
   "cell_type": "code",
   "execution_count": 11,
   "id": "ff6f1246",
   "metadata": {
    "ExecuteTime": {
     "end_time": "2022-07-01T06:10:56.953477Z",
     "start_time": "2022-07-01T06:10:56.943509Z"
    }
   },
   "outputs": [
    {
     "data": {
      "text/plain": [
       "['__class__',\n",
       " '__delattr__',\n",
       " '__dict__',\n",
       " '__dir__',\n",
       " '__doc__',\n",
       " '__eq__',\n",
       " '__format__',\n",
       " '__ge__',\n",
       " '__getattribute__',\n",
       " '__gt__',\n",
       " '__hash__',\n",
       " '__init__',\n",
       " '__init_subclass__',\n",
       " '__le__',\n",
       " '__lt__',\n",
       " '__module__',\n",
       " '__ne__',\n",
       " '__new__',\n",
       " '__reduce__',\n",
       " '__reduce_ex__',\n",
       " '__repr__',\n",
       " '__setattr__',\n",
       " '__sizeof__',\n",
       " '__str__',\n",
       " '__subclasshook__',\n",
       " '__weakref__',\n",
       " '_augment_exog',\n",
       " '_check_kwargs',\n",
       " '_expand_vcomp',\n",
       " '_fit_collinear',\n",
       " '_fit_zeros',\n",
       " '_formula_max_endog',\n",
       " '_gen_dV_dPar',\n",
       " '_get_init_kwds',\n",
       " '_handle_data',\n",
       " '_kwargs_allowed',\n",
       " '_make_param_names',\n",
       " '_reparam',\n",
       " 'endog_names',\n",
       " 'exog_names',\n",
       " 'fit',\n",
       " 'fit_regularized',\n",
       " 'from_formula',\n",
       " 'get_distribution',\n",
       " 'get_fe_params',\n",
       " 'get_scale',\n",
       " 'group_list',\n",
       " 'hessian',\n",
       " 'information',\n",
       " 'initialize',\n",
       " 'loglike',\n",
       " 'predict',\n",
       " 'score',\n",
       " 'score_full',\n",
       " 'score_sqrt']"
      ]
     },
     "execution_count": 11,
     "metadata": {},
     "output_type": "execute_result"
    }
   ],
   "source": [
    "dir(statsmodels.api.MixedLM)"
   ]
  },
  {
   "cell_type": "code",
   "execution_count": 21,
   "id": "acd585e0",
   "metadata": {
    "ExecuteTime": {
     "end_time": "2022-06-16T02:41:20.664016Z",
     "start_time": "2022-06-16T02:41:20.645732Z"
    }
   },
   "outputs": [],
   "source": [
    "?statsmodels.api.MixedLM"
   ]
  },
  {
   "cell_type": "code",
   "execution_count": 8,
   "id": "979ca909",
   "metadata": {
    "ExecuteTime": {
     "end_time": "2022-06-16T01:14:10.726599Z",
     "start_time": "2022-06-16T01:14:10.704699Z"
    }
   },
   "outputs": [
    {
     "data": {
      "text/html": [
       "<table class=\"simpletable\">\n",
       "<caption>OLS Regression Results</caption>\n",
       "<tr>\n",
       "  <th>Dep. Variable:</th>            <td>y</td>        <th>  R-squared:         </th> <td>   1.000</td> \n",
       "</tr>\n",
       "<tr>\n",
       "  <th>Model:</th>                   <td>OLS</td>       <th>  Adj. R-squared:    </th> <td>   1.000</td> \n",
       "</tr>\n",
       "<tr>\n",
       "  <th>Method:</th>             <td>Least Squares</td>  <th>  F-statistic:       </th> <td>4.682e+06</td>\n",
       "</tr>\n",
       "<tr>\n",
       "  <th>Date:</th>             <td>Thu, 16 Jun 2022</td> <th>  Prob (F-statistic):</th> <td>1.75e-242</td>\n",
       "</tr>\n",
       "<tr>\n",
       "  <th>Time:</th>                 <td>09:14:10</td>     <th>  Log-Likelihood:    </th> <td> -138.92</td> \n",
       "</tr>\n",
       "<tr>\n",
       "  <th>No. Observations:</th>      <td>   100</td>      <th>  AIC:               </th> <td>   283.8</td> \n",
       "</tr>\n",
       "<tr>\n",
       "  <th>Df Residuals:</th>          <td>    97</td>      <th>  BIC:               </th> <td>   291.7</td> \n",
       "</tr>\n",
       "<tr>\n",
       "  <th>Df Model:</th>              <td>     2</td>      <th>                     </th>     <td> </td>    \n",
       "</tr>\n",
       "<tr>\n",
       "  <th>Covariance Type:</th>      <td>nonrobust</td>    <th>                     </th>     <td> </td>    \n",
       "</tr>\n",
       "</table>\n",
       "<table class=\"simpletable\">\n",
       "<tr>\n",
       "    <td></td>       <th>coef</th>     <th>std err</th>      <th>t</th>      <th>P>|t|</th>  <th>[0.025</th>    <th>0.975]</th>  \n",
       "</tr>\n",
       "<tr>\n",
       "  <th>const</th> <td>    1.2237</td> <td>    0.290</td> <td>    4.221</td> <td> 0.000</td> <td>    0.648</td> <td>    1.799</td>\n",
       "</tr>\n",
       "<tr>\n",
       "  <th>x1</th>    <td>   -0.0402</td> <td>    0.134</td> <td>   -0.300</td> <td> 0.764</td> <td>   -0.306</td> <td>    0.226</td>\n",
       "</tr>\n",
       "<tr>\n",
       "  <th>x2</th>    <td>   10.0129</td> <td>    0.013</td> <td>  772.370</td> <td> 0.000</td> <td>    9.987</td> <td>   10.039</td>\n",
       "</tr>\n",
       "</table>\n",
       "<table class=\"simpletable\">\n",
       "<tr>\n",
       "  <th>Omnibus:</th>       <td> 0.712</td> <th>  Durbin-Watson:     </th> <td>   2.150</td>\n",
       "</tr>\n",
       "<tr>\n",
       "  <th>Prob(Omnibus):</th> <td> 0.700</td> <th>  Jarque-Bera (JB):  </th> <td>   0.792</td>\n",
       "</tr>\n",
       "<tr>\n",
       "  <th>Skew:</th>          <td>-0.065</td> <th>  Prob(JB):          </th> <td>   0.673</td>\n",
       "</tr>\n",
       "<tr>\n",
       "  <th>Kurtosis:</th>      <td> 2.584</td> <th>  Cond. No.          </th> <td>    144.</td>\n",
       "</tr>\n",
       "</table><br/><br/>Notes:<br/>[1] Standard Errors assume that the covariance matrix of the errors is correctly specified."
      ],
      "text/plain": [
       "<class 'statsmodels.iolib.summary.Summary'>\n",
       "\"\"\"\n",
       "                            OLS Regression Results                            \n",
       "==============================================================================\n",
       "Dep. Variable:                      y   R-squared:                       1.000\n",
       "Model:                            OLS   Adj. R-squared:                  1.000\n",
       "Method:                 Least Squares   F-statistic:                 4.682e+06\n",
       "Date:                Thu, 16 Jun 2022   Prob (F-statistic):          1.75e-242\n",
       "Time:                        09:14:10   Log-Likelihood:                -138.92\n",
       "No. Observations:                 100   AIC:                             283.8\n",
       "Df Residuals:                      97   BIC:                             291.7\n",
       "Df Model:                           2                                         \n",
       "Covariance Type:            nonrobust                                         \n",
       "==============================================================================\n",
       "                 coef    std err          t      P>|t|      [0.025      0.975]\n",
       "------------------------------------------------------------------------------\n",
       "const          1.2237      0.290      4.221      0.000       0.648       1.799\n",
       "x1            -0.0402      0.134     -0.300      0.764      -0.306       0.226\n",
       "x2            10.0129      0.013    772.370      0.000       9.987      10.039\n",
       "==============================================================================\n",
       "Omnibus:                        0.712   Durbin-Watson:                   2.150\n",
       "Prob(Omnibus):                  0.700   Jarque-Bera (JB):                0.792\n",
       "Skew:                          -0.065   Prob(JB):                        0.673\n",
       "Kurtosis:                       2.584   Cond. No.                         144.\n",
       "==============================================================================\n",
       "\n",
       "Notes:\n",
       "[1] Standard Errors assume that the covariance matrix of the errors is correctly specified.\n",
       "\"\"\""
      ]
     },
     "execution_count": 8,
     "metadata": {},
     "output_type": "execute_result"
    }
   ],
   "source": [
    "import numpy as np, statsmodels.api as sm\n",
    "\n",
    "nsample = 100\n",
    "x = np.linspace(0, 10, nsample)\n",
    "X = np.column_stack((x, x**2))\n",
    "beta = np.array([1, 0.1, 10])\n",
    "e = np.random.normal(size=nsample)\n",
    "\n",
    "X = sm.add_constant(X)\n",
    "y = np.dot(X, beta) + e\n",
    "\n",
    "mod = sm.OLS(y, X)\n",
    "res = mod.fit()\n",
    "res.conf_int(0.01)   # 99% confidence interval\n",
    "#res.summary()"
   ]
  },
  {
   "cell_type": "code",
   "execution_count": 13,
   "id": "cc72c38d",
   "metadata": {
    "ExecuteTime": {
     "end_time": "2022-06-16T01:24:43.768133Z",
     "start_time": "2022-06-16T01:24:43.750251Z"
    }
   },
   "outputs": [],
   "source": [
    "?res.f_test"
   ]
  },
  {
   "cell_type": "code",
   "execution_count": 12,
   "id": "6b6581cf",
   "metadata": {
    "ExecuteTime": {
     "end_time": "2022-06-16T01:18:27.329165Z",
     "start_time": "2022-06-16T01:18:27.315271Z"
    }
   },
   "outputs": [],
   "source": [
    "?res.params"
   ]
  },
  {
   "cell_type": "code",
   "execution_count": 7,
   "id": "89809d3b",
   "metadata": {
    "ExecuteTime": {
     "end_time": "2022-06-16T01:13:57.266731Z",
     "start_time": "2022-06-16T01:13:57.212230Z"
    }
   },
   "outputs": [],
   "source": [
    "?res.summary"
   ]
  },
  {
   "cell_type": "markdown",
   "id": "faf4f3aa",
   "metadata": {},
   "source": [
    "## statsmodels.stats"
   ]
  },
  {
   "cell_type": "code",
   "execution_count": 4,
   "id": "0f7a5602",
   "metadata": {
    "ExecuteTime": {
     "end_time": "2022-10-09T06:42:18.178463Z",
     "start_time": "2022-10-09T06:42:17.478686Z"
    }
   },
   "outputs": [],
   "source": [
    "import statsmodels.stats"
   ]
  },
  {
   "cell_type": "code",
   "execution_count": 14,
   "id": "e4710e8d",
   "metadata": {
    "ExecuteTime": {
     "end_time": "2022-07-07T00:45:25.102823Z",
     "start_time": "2022-07-07T00:45:25.083938Z"
    }
   },
   "outputs": [
    {
     "data": {
      "text/plain": [
       "['PytestTester',\n",
       " '__builtins__',\n",
       " '__cached__',\n",
       " '__doc__',\n",
       " '__file__',\n",
       " '__loader__',\n",
       " '__name__',\n",
       " '__package__',\n",
       " '__path__',\n",
       " '__spec__',\n",
       " '_adnorm',\n",
       " '_knockoff',\n",
       " '_lilliefors',\n",
       " '_lilliefors_critical_values',\n",
       " 'anova',\n",
       " 'api',\n",
       " 'base',\n",
       " 'contingency_tables',\n",
       " 'contrast',\n",
       " 'correlation_tools',\n",
       " 'descriptivestats',\n",
       " 'diagnostic',\n",
       " 'gof',\n",
       " 'inter_rater',\n",
       " 'mediation',\n",
       " 'meta_analysis',\n",
       " 'moment_helpers',\n",
       " 'multicomp',\n",
       " 'multitest',\n",
       " 'multivariate',\n",
       " 'oaxaca',\n",
       " 'oneway',\n",
       " 'power',\n",
       " 'proportion',\n",
       " 'rates',\n",
       " 'robust_compare',\n",
       " 'sandwich_covariance',\n",
       " 'stattools',\n",
       " 'tabledist',\n",
       " 'test',\n",
       " 'weightstats']"
      ]
     },
     "execution_count": 14,
     "metadata": {},
     "output_type": "execute_result"
    }
   ],
   "source": [
    "dir(statsmodels.stats)"
   ]
  },
  {
   "cell_type": "markdown",
   "id": "d6dc103d",
   "metadata": {},
   "source": [
    "### multicomp"
   ]
  },
  {
   "cell_type": "code",
   "execution_count": 30,
   "id": "5dd74b79",
   "metadata": {
    "ExecuteTime": {
     "end_time": "2022-07-07T02:15:15.354932Z",
     "start_time": "2022-07-07T02:15:15.349948Z"
    }
   },
   "outputs": [
    {
     "data": {
      "text/plain": [
       "['__annotations__',\n",
       " '__call__',\n",
       " '__class__',\n",
       " '__closure__',\n",
       " '__code__',\n",
       " '__defaults__',\n",
       " '__delattr__',\n",
       " '__dict__',\n",
       " '__dir__',\n",
       " '__doc__',\n",
       " '__eq__',\n",
       " '__format__',\n",
       " '__ge__',\n",
       " '__get__',\n",
       " '__getattribute__',\n",
       " '__globals__',\n",
       " '__gt__',\n",
       " '__hash__',\n",
       " '__init__',\n",
       " '__init_subclass__',\n",
       " '__kwdefaults__',\n",
       " '__le__',\n",
       " '__lt__',\n",
       " '__module__',\n",
       " '__name__',\n",
       " '__ne__',\n",
       " '__new__',\n",
       " '__qualname__',\n",
       " '__reduce__',\n",
       " '__reduce_ex__',\n",
       " '__repr__',\n",
       " '__setattr__',\n",
       " '__sizeof__',\n",
       " '__str__',\n",
       " '__subclasshook__']"
      ]
     },
     "execution_count": 30,
     "metadata": {},
     "output_type": "execute_result"
    }
   ],
   "source": [
    "dir(statsmodels.stats.multicomp)"
   ]
  },
  {
   "cell_type": "code",
   "execution_count": 31,
   "id": "dc087b23",
   "metadata": {
    "ExecuteTime": {
     "end_time": "2022-07-07T02:15:38.739559Z",
     "start_time": "2022-07-07T02:15:38.731587Z"
    }
   },
   "outputs": [],
   "source": [
    "?statsmodels.stats.multicomp.pairwise_tukeyhsd"
   ]
  },
  {
   "cell_type": "markdown",
   "id": "4f680f6a",
   "metadata": {},
   "source": [
    "### anova"
   ]
  },
  {
   "cell_type": "code",
   "execution_count": 15,
   "id": "053a6e9e",
   "metadata": {
    "ExecuteTime": {
     "end_time": "2022-07-07T00:45:34.922201Z",
     "start_time": "2022-07-07T00:45:34.914224Z"
    }
   },
   "outputs": [
    {
     "data": {
      "text/plain": [
       "['AnovaRM',\n",
       " 'AnovaResults',\n",
       " 'DataFrame',\n",
       " 'Index',\n",
       " 'OLS',\n",
       " '__builtins__',\n",
       " '__cached__',\n",
       " '__doc__',\n",
       " '__file__',\n",
       " '__loader__',\n",
       " '__name__',\n",
       " '__package__',\n",
       " '__spec__',\n",
       " '_get_covariance',\n",
       " '_has_intercept',\n",
       " '_intercept_idx',\n",
       " '_not_slice',\n",
       " '_remove_intercept_patsy',\n",
       " '_ssr_reduced_model',\n",
       " 'anova1_lm_single',\n",
       " 'anova2_lm_single',\n",
       " 'anova3_lm_single',\n",
       " 'anova_lm',\n",
       " 'anova_single',\n",
       " 'lrange',\n",
       " 'np',\n",
       " 'patsy',\n",
       " 'pd',\n",
       " 'stats',\n",
       " 'summary2']"
      ]
     },
     "execution_count": 15,
     "metadata": {},
     "output_type": "execute_result"
    }
   ],
   "source": [
    "dir(statsmodels.stats.anova)"
   ]
  },
  {
   "cell_type": "code",
   "execution_count": 25,
   "id": "e7bb9588",
   "metadata": {
    "ExecuteTime": {
     "end_time": "2022-07-07T01:33:46.263909Z",
     "start_time": "2022-07-07T01:33:46.257925Z"
    }
   },
   "outputs": [],
   "source": [
    "?statsmodels.stats.anova.anova_lm"
   ]
  },
  {
   "cell_type": "markdown",
   "id": "4e5d4f10",
   "metadata": {},
   "source": [
    "### stattools"
   ]
  },
  {
   "cell_type": "code",
   "execution_count": 7,
   "id": "14c99ccb",
   "metadata": {
    "ExecuteTime": {
     "end_time": "2022-10-09T06:43:03.320445Z",
     "start_time": "2022-10-09T06:43:03.311475Z"
    }
   },
   "outputs": [],
   "source": [
    "from statsmodels.stats.stattools import durbin_watson"
   ]
  },
  {
   "cell_type": "code",
   "execution_count": 8,
   "id": "0ef9f755",
   "metadata": {
    "ExecuteTime": {
     "end_time": "2022-10-09T06:43:12.212069Z",
     "start_time": "2022-10-09T06:43:12.196124Z"
    }
   },
   "outputs": [],
   "source": [
    "?durbin_watson"
   ]
  },
  {
   "cell_type": "code",
   "execution_count": 9,
   "id": "88fe27d6",
   "metadata": {
    "ExecuteTime": {
     "end_time": "2022-10-09T06:47:56.404907Z",
     "start_time": "2022-10-09T06:47:56.340123Z"
    }
   },
   "outputs": [
    {
     "name": "stdout",
     "output_type": "stream",
     "text": [
      "                            OLS Regression Results                            \n",
      "==============================================================================\n",
      "Dep. Variable:                  value   R-squared:                       0.975\n",
      "Model:                            OLS   Adj. R-squared:                  0.955\n",
      "Method:                 Least Squares   F-statistic:                     47.67\n",
      "Date:                Sun, 09 Oct 2022   Prob (F-statistic):           9.45e-05\n",
      "Time:                        14:47:56   Log-Likelihood:                -7.3078\n",
      "No. Observations:                  12   AIC:                             26.62\n",
      "Df Residuals:                       6   BIC:                             29.53\n",
      "Df Model:                           5                                         \n",
      "Covariance Type:            nonrobust                                         \n",
      "==============================================================================\n",
      "                 coef    std err          t      P>|t|      [0.025      0.975]\n",
      "------------------------------------------------------------------------------\n",
      "Intercept     32.0417      0.445     72.023      0.000      30.953      33.130\n",
      "C(A)[T.2]      1.6250      0.445      3.653      0.011       0.536       2.714\n",
      "C(A)[T.3]      3.7500      0.445      8.429      0.000       2.661       4.839\n",
      "C(B)[T.2]      2.5000      0.514      4.867      0.003       1.243       3.757\n",
      "C(B)[T.3]      3.8333      0.514      7.462      0.000       2.576       5.090\n",
      "C(B)[T.4]      6.5000      0.514     12.653      0.000       5.243       7.757\n",
      "==============================================================================\n",
      "Omnibus:                        0.415   Durbin-Watson:                   2.364\n",
      "Prob(Omnibus):                  0.813   Jarque-Bera (JB):                0.506\n",
      "Skew:                          -0.217   Prob(JB):                        0.777\n",
      "Kurtosis:                       2.093   Cond. No.                         5.35\n",
      "==============================================================================\n",
      "\n",
      "Notes:\n",
      "[1] Standard Errors assume that the covariance matrix of the errors is correctly specified.\n"
     ]
    },
    {
     "name": "stderr",
     "output_type": "stream",
     "text": [
      "C:\\Users\\Public\\TongYuan\\.julia\\conda\\3\\lib\\site-packages\\scipy\\stats\\_stats_py.py:1769: UserWarning: kurtosistest only valid for n>=20 ... continuing anyway, n=12\n",
      "  warnings.warn(\"kurtosistest only valid for n>=20 ... continuing \"\n"
     ]
    }
   ],
   "source": [
    "import pandas as pd\n",
    "import numpy as np\n",
    "import statsmodels.regression\n",
    "from statsmodels.formula.api import ols\n",
    "from statsmodels.stats.anova import anova_lm\n",
    "from statsmodels.stats.stattools import durbin_watson\n",
    "\n",
    "data = pd.DataFrame([[1, 1, 32],\n",
    "                     [1, 2, 35],\n",
    "                     [1, 3, 35.5],\n",
    "                     [1, 4, 38.5],\n",
    "                     [2, 1, 33.5],\n",
    "                     [2, 2, 36.5],\n",
    "                     [2, 3, 38],\n",
    "                     [2, 4, 39.5],\n",
    "                     [3, 1, 36],\n",
    "                     [3, 2, 37.5],\n",
    "                     [3, 3, 39.5],\n",
    "                     [3, 4, 43]],\n",
    "                    columns=['A', 'B', 'value'])\n",
    "\n",
    "# 因素A的水平对结果的影响  'value ~ C(A)'\n",
    "\n",
    "# 因素A和因素B的水平对结果的影响  'value ~ C(A) + C(B)'\n",
    "\n",
    "# 因素A和因素B以及A和B的交互作用的水平对结果的影响 'value ~ C(A) + C(B) + C(A)*C(B)'\n",
    "\n",
    "# 多因素无重复试验，不计算交互作用的影响\n",
    "model = ols('value~C(A) + C(B)', data=data[['A', 'B', 'value']]).fit()\n",
    "anovat = anova_lm(model)\n",
    "m = model.summary()\n",
    "# print(model.conf_int(0.05))\n",
    "# m = model.conf_int(0.05)\n",
    "# dw = statsmodels.stats.durbin_watson(model)\n",
    "# dw =durbin_watson(model)\n",
    "# statsmodels.regression.linear_model.RegressionResults.conf_int(model,alpha=.05)\n",
    "print(m)"
   ]
  },
  {
   "cell_type": "markdown",
   "id": "8e267a94",
   "metadata": {},
   "source": [
    "# seaborn"
   ]
  },
  {
   "cell_type": "code",
   "execution_count": 35,
   "id": "0933351e",
   "metadata": {
    "ExecuteTime": {
     "end_time": "2022-06-21T06:33:23.937090Z",
     "start_time": "2022-06-21T06:33:22.365009Z"
    }
   },
   "outputs": [],
   "source": [
    "import seaborn #绘图"
   ]
  },
  {
   "cell_type": "code",
   "execution_count": 11,
   "id": "1d27259a",
   "metadata": {
    "ExecuteTime": {
     "end_time": "2022-06-15T01:20:04.250282Z",
     "start_time": "2022-06-15T01:20:04.244362Z"
    }
   },
   "outputs": [
    {
     "data": {
      "text/plain": [
       "['FacetGrid',\n",
       " 'JointGrid',\n",
       " 'PairGrid',\n",
       " '__builtins__',\n",
       " '__cached__',\n",
       " '__doc__',\n",
       " '__file__',\n",
       " '__loader__',\n",
       " '__name__',\n",
       " '__package__',\n",
       " '__path__',\n",
       " '__spec__',\n",
       " '__version__',\n",
       " '_core',\n",
       " '_decorators',\n",
       " '_docstrings',\n",
       " '_orig_rc_params',\n",
       " '_statistics',\n",
       " 'algorithms',\n",
       " 'axes_style',\n",
       " 'axisgrid',\n",
       " 'barplot',\n",
       " 'blend_palette',\n",
       " 'boxenplot',\n",
       " 'boxplot',\n",
       " 'categorical',\n",
       " 'catplot',\n",
       " 'choose_colorbrewer_palette',\n",
       " 'choose_cubehelix_palette',\n",
       " 'choose_dark_palette',\n",
       " 'choose_diverging_palette',\n",
       " 'choose_light_palette',\n",
       " 'clustermap',\n",
       " 'cm',\n",
       " 'color_palette',\n",
       " 'colors',\n",
       " 'countplot',\n",
       " 'crayon_palette',\n",
       " 'crayons',\n",
       " 'cubehelix_palette',\n",
       " 'dark_palette',\n",
       " 'desaturate',\n",
       " 'despine',\n",
       " 'displot',\n",
       " 'distplot',\n",
       " 'distributions',\n",
       " 'diverging_palette',\n",
       " 'dogplot',\n",
       " 'ecdfplot',\n",
       " 'external',\n",
       " 'factorplot',\n",
       " 'get_data_home',\n",
       " 'get_dataset_names',\n",
       " 'heatmap',\n",
       " 'histplot',\n",
       " 'hls_palette',\n",
       " 'husl_palette',\n",
       " 'jointplot',\n",
       " 'kdeplot',\n",
       " 'light_palette',\n",
       " 'lineplot',\n",
       " 'lmplot',\n",
       " 'load_dataset',\n",
       " 'matrix',\n",
       " 'miscplot',\n",
       " 'move_legend',\n",
       " 'mpl',\n",
       " 'mpl_palette',\n",
       " 'pairplot',\n",
       " 'palettes',\n",
       " 'palplot',\n",
       " 'plotting_context',\n",
       " 'pointplot',\n",
       " 'rcmod',\n",
       " 'regplot',\n",
       " 'regression',\n",
       " 'relational',\n",
       " 'relplot',\n",
       " 'reset_defaults',\n",
       " 'reset_orig',\n",
       " 'residplot',\n",
       " 'rugplot',\n",
       " 'saturate',\n",
       " 'scatterplot',\n",
       " 'set',\n",
       " 'set_color_codes',\n",
       " 'set_context',\n",
       " 'set_hls_values',\n",
       " 'set_palette',\n",
       " 'set_style',\n",
       " 'set_theme',\n",
       " 'stripplot',\n",
       " 'swarmplot',\n",
       " 'utils',\n",
       " 'violinplot',\n",
       " 'widgets',\n",
       " 'xkcd_palette',\n",
       " 'xkcd_rgb']"
      ]
     },
     "execution_count": 11,
     "metadata": {},
     "output_type": "execute_result"
    }
   ],
   "source": [
    "dir(seaborn)"
   ]
  },
  {
   "cell_type": "markdown",
   "id": "36535d2c",
   "metadata": {},
   "source": [
    "## residplot"
   ]
  },
  {
   "cell_type": "code",
   "execution_count": 13,
   "id": "d7b49148",
   "metadata": {
    "ExecuteTime": {
     "end_time": "2022-06-15T01:21:17.714914Z",
     "start_time": "2022-06-15T01:21:17.695841Z"
    }
   },
   "outputs": [],
   "source": [
    "?seaborn.residplot"
   ]
  },
  {
   "cell_type": "markdown",
   "id": "08697d7c",
   "metadata": {},
   "source": [
    "# hyperopt"
   ]
  },
  {
   "cell_type": "code",
   "execution_count": 17,
   "id": "ca19add4",
   "metadata": {
    "ExecuteTime": {
     "end_time": "2022-06-15T06:37:15.707844Z",
     "start_time": "2022-06-15T06:37:15.398799Z"
    }
   },
   "outputs": [],
   "source": [
    "import hyperopt #超参数优化"
   ]
  },
  {
   "cell_type": "markdown",
   "id": "381cdb86",
   "metadata": {},
   "source": [
    "# scipy"
   ]
  },
  {
   "cell_type": "code",
   "execution_count": 7,
   "id": "e6cdc6ae",
   "metadata": {
    "ExecuteTime": {
     "end_time": "2022-11-24T06:27:27.958370Z",
     "start_time": "2022-11-24T06:27:27.940430Z"
    }
   },
   "outputs": [],
   "source": [
    "import scipy #数学计算库"
   ]
  },
  {
   "cell_type": "code",
   "execution_count": 30,
   "id": "d0b674ff",
   "metadata": {
    "ExecuteTime": {
     "end_time": "2022-07-06T06:44:04.648076Z",
     "start_time": "2022-07-06T06:44:04.637160Z"
    }
   },
   "outputs": [
    {
     "data": {
      "text/plain": [
       "['LowLevelCallable', 'test']"
      ]
     },
     "execution_count": 30,
     "metadata": {},
     "output_type": "execute_result"
    }
   ],
   "source": [
    "dir(scipy)"
   ]
  },
  {
   "cell_type": "markdown",
   "id": "d818f6da",
   "metadata": {},
   "source": [
    "## scipy.stats"
   ]
  },
  {
   "cell_type": "code",
   "execution_count": 20,
   "id": "d5278a4e",
   "metadata": {
    "ExecuteTime": {
     "end_time": "2022-07-07T00:59:54.306322Z",
     "start_time": "2022-07-07T00:59:54.292365Z"
    }
   },
   "outputs": [],
   "source": [
    "import scipy.stats #统计分析"
   ]
  },
  {
   "cell_type": "code",
   "execution_count": 21,
   "id": "0fff7b4a",
   "metadata": {
    "ExecuteTime": {
     "end_time": "2022-07-07T00:59:55.388375Z",
     "start_time": "2022-07-07T00:59:55.368439Z"
    }
   },
   "outputs": [
    {
     "data": {
      "text/plain": [
       "['BootstrapDegenerateDistributionWarning',\n",
       " 'F_onewayBadInputSizesWarning',\n",
       " 'F_onewayConstantInputWarning',\n",
       " 'NumericalInverseHermite',\n",
       " 'PearsonRConstantInputWarning',\n",
       " 'PearsonRNearConstantInputWarning',\n",
       " 'SpearmanRConstantInputWarning',\n",
       " '__all__',\n",
       " '__builtins__',\n",
       " '__cached__',\n",
       " '__doc__',\n",
       " '__file__',\n",
       " '__loader__',\n",
       " '__name__',\n",
       " '__package__',\n",
       " '__path__',\n",
       " '__spec__',\n",
       " '_axis_nan_policy',\n",
       " '_biasedurn',\n",
       " '_binned_statistic',\n",
       " '_binomtest',\n",
       " '_boost',\n",
       " '_bootstrap',\n",
       " '_common',\n",
       " '_constants',\n",
       " '_continuous_distns',\n",
       " '_crosstab',\n",
       " '_discrete_distns',\n",
       " '_distn_infrastructure',\n",
       " '_distr_params',\n",
       " '_entropy',\n",
       " '_hypotests',\n",
       " '_hypotests_pythran',\n",
       " '_kde',\n",
       " '_ksstats',\n",
       " '_mannwhitneyu',\n",
       " '_morestats',\n",
       " '_mstats_basic',\n",
       " '_mstats_extras',\n",
       " '_multivariate',\n",
       " '_mvn',\n",
       " '_page_trend_test',\n",
       " '_qmc',\n",
       " '_qmc_cy',\n",
       " '_relative_risk',\n",
       " '_rvs_sampling',\n",
       " '_sobol',\n",
       " '_statlib',\n",
       " '_stats',\n",
       " '_stats_mstats_common',\n",
       " '_stats_py',\n",
       " '_tukeylambda_stats',\n",
       " '_unuran',\n",
       " '_variation',\n",
       " '_wilcoxon_data',\n",
       " 'alexandergovern',\n",
       " 'alpha',\n",
       " 'anderson',\n",
       " 'anderson_ksamp',\n",
       " 'anglit',\n",
       " 'ansari',\n",
       " 'arcsine',\n",
       " 'argus',\n",
       " 'barnard_exact',\n",
       " 'bartlett',\n",
       " 'bayes_mvs',\n",
       " 'bernoulli',\n",
       " 'beta',\n",
       " 'betabinom',\n",
       " 'betaprime',\n",
       " 'biasedurn',\n",
       " 'binned_statistic',\n",
       " 'binned_statistic_2d',\n",
       " 'binned_statistic_dd',\n",
       " 'binom',\n",
       " 'binom_test',\n",
       " 'binomtest',\n",
       " 'boltzmann',\n",
       " 'bootstrap',\n",
       " 'boschloo_exact',\n",
       " 'boxcox',\n",
       " 'boxcox_llf',\n",
       " 'boxcox_normmax',\n",
       " 'boxcox_normplot',\n",
       " 'bradford',\n",
       " 'brunnermunzel',\n",
       " 'burr',\n",
       " 'burr12',\n",
       " 'cauchy',\n",
       " 'chi',\n",
       " 'chi2',\n",
       " 'chi2_contingency',\n",
       " 'chisquare',\n",
       " 'circmean',\n",
       " 'circstd',\n",
       " 'circvar',\n",
       " 'combine_pvalues',\n",
       " 'contingency',\n",
       " 'cosine',\n",
       " 'cramervonmises',\n",
       " 'cramervonmises_2samp',\n",
       " 'crystalball',\n",
       " 'cumfreq',\n",
       " 'describe',\n",
       " 'dgamma',\n",
       " 'differential_entropy',\n",
       " 'dirichlet',\n",
       " 'distributions',\n",
       " 'dlaplace',\n",
       " 'dweibull',\n",
       " 'energy_distance',\n",
       " 'entropy',\n",
       " 'epps_singleton_2samp',\n",
       " 'erlang',\n",
       " 'expon',\n",
       " 'exponnorm',\n",
       " 'exponpow',\n",
       " 'exponweib',\n",
       " 'f',\n",
       " 'f_oneway',\n",
       " 'fatiguelife',\n",
       " 'find_repeats',\n",
       " 'fisher_exact',\n",
       " 'fisk',\n",
       " 'fligner',\n",
       " 'foldcauchy',\n",
       " 'foldnorm',\n",
       " 'friedmanchisquare',\n",
       " 'gamma',\n",
       " 'gausshyper',\n",
       " 'gaussian_kde',\n",
       " 'genexpon',\n",
       " 'genextreme',\n",
       " 'gengamma',\n",
       " 'genhalflogistic',\n",
       " 'genhyperbolic',\n",
       " 'geninvgauss',\n",
       " 'genlogistic',\n",
       " 'gennorm',\n",
       " 'genpareto',\n",
       " 'geom',\n",
       " 'gilbrat',\n",
       " 'gmean',\n",
       " 'gompertz',\n",
       " 'gstd',\n",
       " 'gumbel_l',\n",
       " 'gumbel_r',\n",
       " 'gzscore',\n",
       " 'halfcauchy',\n",
       " 'halfgennorm',\n",
       " 'halflogistic',\n",
       " 'halfnorm',\n",
       " 'hmean',\n",
       " 'hypergeom',\n",
       " 'hypsecant',\n",
       " 'invgamma',\n",
       " 'invgauss',\n",
       " 'invweibull',\n",
       " 'invwishart',\n",
       " 'iqr',\n",
       " 'itemfreq',\n",
       " 'jarque_bera',\n",
       " 'johnsonsb',\n",
       " 'johnsonsu',\n",
       " 'kappa3',\n",
       " 'kappa4',\n",
       " 'kde',\n",
       " 'kendalltau',\n",
       " 'kruskal',\n",
       " 'ks_1samp',\n",
       " 'ks_2samp',\n",
       " 'ksone',\n",
       " 'kstat',\n",
       " 'kstatvar',\n",
       " 'kstest',\n",
       " 'kstwo',\n",
       " 'kstwobign',\n",
       " 'kurtosis',\n",
       " 'kurtosistest',\n",
       " 'laplace',\n",
       " 'laplace_asymmetric',\n",
       " 'levene',\n",
       " 'levy',\n",
       " 'levy_l',\n",
       " 'levy_stable',\n",
       " 'linregress',\n",
       " 'loggamma',\n",
       " 'logistic',\n",
       " 'loglaplace',\n",
       " 'lognorm',\n",
       " 'logser',\n",
       " 'loguniform',\n",
       " 'lomax',\n",
       " 'mannwhitneyu',\n",
       " 'matrix_normal',\n",
       " 'maxwell',\n",
       " 'median_abs_deviation',\n",
       " 'median_absolute_deviation',\n",
       " 'median_test',\n",
       " 'mielke',\n",
       " 'mode',\n",
       " 'moment',\n",
       " 'mood',\n",
       " 'morestats',\n",
       " 'moyal',\n",
       " 'mstats',\n",
       " 'mstats_basic',\n",
       " 'mstats_extras',\n",
       " 'multinomial',\n",
       " 'multiscale_graphcorr',\n",
       " 'multivariate_hypergeom',\n",
       " 'multivariate_normal',\n",
       " 'multivariate_t',\n",
       " 'mvn',\n",
       " 'mvsdist',\n",
       " 'nakagami',\n",
       " 'nbinom',\n",
       " 'ncf',\n",
       " 'nchypergeom_fisher',\n",
       " 'nchypergeom_wallenius',\n",
       " 'nct',\n",
       " 'ncx2',\n",
       " 'nhypergeom',\n",
       " 'norm',\n",
       " 'normaltest',\n",
       " 'norminvgauss',\n",
       " 'obrientransform',\n",
       " 'ortho_group',\n",
       " 'page_trend_test',\n",
       " 'pareto',\n",
       " 'pearson3',\n",
       " 'pearsonr',\n",
       " 'percentileofscore',\n",
       " 'permutation_test',\n",
       " 'planck',\n",
       " 'pointbiserialr',\n",
       " 'poisson',\n",
       " 'power_divergence',\n",
       " 'powerlaw',\n",
       " 'powerlognorm',\n",
       " 'powernorm',\n",
       " 'ppcc_max',\n",
       " 'ppcc_plot',\n",
       " 'probplot',\n",
       " 'qmc',\n",
       " 'randint',\n",
       " 'random_correlation',\n",
       " 'rankdata',\n",
       " 'ranksums',\n",
       " 'rayleigh',\n",
       " 'rdist',\n",
       " 'recipinvgauss',\n",
       " 'reciprocal',\n",
       " 'relfreq',\n",
       " 'rice',\n",
       " 'rv_continuous',\n",
       " 'rv_discrete',\n",
       " 'rv_histogram',\n",
       " 'rvs_ratio_uniforms',\n",
       " 'scoreatpercentile',\n",
       " 'sem',\n",
       " 'semicircular',\n",
       " 'shapiro',\n",
       " 'siegelslopes',\n",
       " 'sigmaclip',\n",
       " 'skellam',\n",
       " 'skew',\n",
       " 'skewcauchy',\n",
       " 'skewnorm',\n",
       " 'skewtest',\n",
       " 'somersd',\n",
       " 'spearmanr',\n",
       " 'special_ortho_group',\n",
       " 'statlib',\n",
       " 'stats',\n",
       " 'studentized_range',\n",
       " 't',\n",
       " 'test',\n",
       " 'theilslopes',\n",
       " 'tiecorrect',\n",
       " 'tmax',\n",
       " 'tmean',\n",
       " 'tmin',\n",
       " 'trapezoid',\n",
       " 'trapz',\n",
       " 'triang',\n",
       " 'trim1',\n",
       " 'trim_mean',\n",
       " 'trimboth',\n",
       " 'truncexpon',\n",
       " 'truncnorm',\n",
       " 'tsem',\n",
       " 'tstd',\n",
       " 'ttest_1samp',\n",
       " 'ttest_ind',\n",
       " 'ttest_ind_from_stats',\n",
       " 'ttest_rel',\n",
       " 'tukey_hsd',\n",
       " 'tukeylambda',\n",
       " 'tvar',\n",
       " 'uniform',\n",
       " 'unitary_group',\n",
       " 'variation',\n",
       " 'vonmises',\n",
       " 'vonmises_line',\n",
       " 'wald',\n",
       " 'wasserstein_distance',\n",
       " 'weibull_max',\n",
       " 'weibull_min',\n",
       " 'weightedtau',\n",
       " 'wilcoxon',\n",
       " 'wishart',\n",
       " 'wrapcauchy',\n",
       " 'yeojohnson',\n",
       " 'yeojohnson_llf',\n",
       " 'yeojohnson_normmax',\n",
       " 'yeojohnson_normplot',\n",
       " 'yulesimon',\n",
       " 'zipf',\n",
       " 'zipfian',\n",
       " 'zmap',\n",
       " 'zscore']"
      ]
     },
     "execution_count": 21,
     "metadata": {},
     "output_type": "execute_result"
    }
   ],
   "source": [
    "dir(scipy.stats)"
   ]
  },
  {
   "cell_type": "markdown",
   "id": "7ec8cc04",
   "metadata": {},
   "source": [
    "### kruskal"
   ]
  },
  {
   "cell_type": "code",
   "execution_count": 28,
   "id": "3872ed97",
   "metadata": {
    "ExecuteTime": {
     "end_time": "2022-07-07T02:09:33.614850Z",
     "start_time": "2022-07-07T02:09:33.599222Z"
    }
   },
   "outputs": [],
   "source": [
    "#K-S检验\n",
    "?scipy.stats.kruskal"
   ]
  },
  {
   "cell_type": "markdown",
   "id": "fa1775fa",
   "metadata": {},
   "source": [
    "### friedmanchisquare"
   ]
  },
  {
   "cell_type": "code",
   "execution_count": 26,
   "id": "b6b73135",
   "metadata": {
    "ExecuteTime": {
     "end_time": "2022-07-07T01:49:33.177602Z",
     "start_time": "2022-07-07T01:49:33.165638Z"
    }
   },
   "outputs": [],
   "source": [
    "?scipy.stats.friedmanchisquare"
   ]
  },
  {
   "cell_type": "markdown",
   "id": "6ff22f02",
   "metadata": {},
   "source": [
    "### f_oneway"
   ]
  },
  {
   "cell_type": "code",
   "execution_count": 24,
   "id": "4628e7ca",
   "metadata": {
    "ExecuteTime": {
     "end_time": "2022-07-07T01:14:03.269461Z",
     "start_time": "2022-07-07T01:14:03.262484Z"
    }
   },
   "outputs": [],
   "source": [
    "?scipy.stats.f_oneway"
   ]
  },
  {
   "cell_type": "markdown",
   "id": "80bc341e",
   "metadata": {},
   "source": [
    "### exponweib"
   ]
  },
  {
   "cell_type": "code",
   "execution_count": 73,
   "id": "fb1b840d",
   "metadata": {
    "ExecuteTime": {
     "end_time": "2022-07-06T08:41:01.433265Z",
     "start_time": "2022-07-06T08:41:01.417315Z"
    }
   },
   "outputs": [
    {
     "data": {
      "text/plain": [
       "['__call__',\n",
       " '__class__',\n",
       " '__delattr__',\n",
       " '__dict__',\n",
       " '__dir__',\n",
       " '__doc__',\n",
       " '__eq__',\n",
       " '__format__',\n",
       " '__ge__',\n",
       " '__getattribute__',\n",
       " '__getstate__',\n",
       " '__gt__',\n",
       " '__hash__',\n",
       " '__init__',\n",
       " '__init_subclass__',\n",
       " '__le__',\n",
       " '__lt__',\n",
       " '__module__',\n",
       " '__ne__',\n",
       " '__new__',\n",
       " '__reduce__',\n",
       " '__reduce_ex__',\n",
       " '__repr__',\n",
       " '__setattr__',\n",
       " '__setstate__',\n",
       " '__sizeof__',\n",
       " '__str__',\n",
       " '__subclasshook__',\n",
       " '__weakref__',\n",
       " '_argcheck',\n",
       " '_argcheck_rvs',\n",
       " '_attach_argparser_methods',\n",
       " '_attach_methods',\n",
       " '_cdf',\n",
       " '_cdf_single',\n",
       " '_cdfvec',\n",
       " '_construct_argparser',\n",
       " '_construct_default_doc',\n",
       " '_construct_doc',\n",
       " '_ctor_param',\n",
       " '_entropy',\n",
       " '_fit_loc_scale_support',\n",
       " '_fitstart',\n",
       " '_get_support',\n",
       " '_isf',\n",
       " '_logcdf',\n",
       " '_logpdf',\n",
       " '_logsf',\n",
       " '_mom0_sc',\n",
       " '_mom1_sc',\n",
       " '_mom_integ0',\n",
       " '_mom_integ1',\n",
       " '_moment_error',\n",
       " '_munp',\n",
       " '_nnlf',\n",
       " '_nnlf_and_penalty',\n",
       " '_open_support_mask',\n",
       " '_parse_arg_template',\n",
       " '_parse_args',\n",
       " '_parse_args_rvs',\n",
       " '_parse_args_stats',\n",
       " '_pdf',\n",
       " '_penalized_nnlf',\n",
       " '_ppf',\n",
       " '_ppf_single',\n",
       " '_ppf_to_solve',\n",
       " '_ppfvec',\n",
       " '_random_state',\n",
       " '_reduce_func',\n",
       " '_rvs',\n",
       " '_rvs_size_warned',\n",
       " '_rvs_uses_size_attribute',\n",
       " '_sf',\n",
       " '_stats',\n",
       " '_stats_has_moments',\n",
       " '_support_mask',\n",
       " '_unpack_loc_scale',\n",
       " '_updated_ctor_param',\n",
       " 'a',\n",
       " 'b',\n",
       " 'badvalue',\n",
       " 'cdf',\n",
       " 'entropy',\n",
       " 'expect',\n",
       " 'extradoc',\n",
       " 'fit',\n",
       " 'fit_loc_scale',\n",
       " 'freeze',\n",
       " 'generic_moment',\n",
       " 'interval',\n",
       " 'isf',\n",
       " 'logcdf',\n",
       " 'logpdf',\n",
       " 'logsf',\n",
       " 'mean',\n",
       " 'median',\n",
       " 'moment',\n",
       " 'moment_type',\n",
       " 'name',\n",
       " 'nnlf',\n",
       " 'numargs',\n",
       " 'pdf',\n",
       " 'ppf',\n",
       " 'random_state',\n",
       " 'rvs',\n",
       " 'sf',\n",
       " 'shapes',\n",
       " 'stats',\n",
       " 'std',\n",
       " 'support',\n",
       " 'var',\n",
       " 'vecentropy',\n",
       " 'xtol']"
      ]
     },
     "execution_count": 73,
     "metadata": {},
     "output_type": "execute_result"
    }
   ],
   "source": [
    "dir(scipy.stats.exponweib)"
   ]
  },
  {
   "cell_type": "code",
   "execution_count": 76,
   "id": "8dacce1a",
   "metadata": {
    "ExecuteTime": {
     "end_time": "2022-07-06T08:52:51.662758Z",
     "start_time": "2022-07-06T08:52:51.653834Z"
    }
   },
   "outputs": [],
   "source": [
    "?scipy.stats.exponweib"
   ]
  },
  {
   "cell_type": "markdown",
   "id": "8b53d732",
   "metadata": {},
   "source": [
    "### norm"
   ]
  },
  {
   "cell_type": "code",
   "execution_count": 71,
   "id": "bb167c21",
   "metadata": {
    "ExecuteTime": {
     "end_time": "2022-07-06T08:32:58.848245Z",
     "start_time": "2022-07-06T08:32:58.829310Z"
    }
   },
   "outputs": [
    {
     "data": {
      "text/plain": [
       "['__call__',\n",
       " '__class__',\n",
       " '__delattr__',\n",
       " '__dict__',\n",
       " '__dir__',\n",
       " '__doc__',\n",
       " '__eq__',\n",
       " '__format__',\n",
       " '__ge__',\n",
       " '__getattribute__',\n",
       " '__getstate__',\n",
       " '__gt__',\n",
       " '__hash__',\n",
       " '__init__',\n",
       " '__init_subclass__',\n",
       " '__le__',\n",
       " '__lt__',\n",
       " '__module__',\n",
       " '__ne__',\n",
       " '__new__',\n",
       " '__reduce__',\n",
       " '__reduce_ex__',\n",
       " '__repr__',\n",
       " '__setattr__',\n",
       " '__setstate__',\n",
       " '__sizeof__',\n",
       " '__str__',\n",
       " '__subclasshook__',\n",
       " '__weakref__',\n",
       " '_argcheck',\n",
       " '_argcheck_rvs',\n",
       " '_attach_argparser_methods',\n",
       " '_attach_methods',\n",
       " '_cdf',\n",
       " '_cdf_single',\n",
       " '_cdfvec',\n",
       " '_construct_argparser',\n",
       " '_construct_default_doc',\n",
       " '_construct_doc',\n",
       " '_ctor_param',\n",
       " '_entropy',\n",
       " '_fit_loc_scale_support',\n",
       " '_fitstart',\n",
       " '_get_support',\n",
       " '_isf',\n",
       " '_logcdf',\n",
       " '_logpdf',\n",
       " '_logsf',\n",
       " '_mom0_sc',\n",
       " '_mom1_sc',\n",
       " '_mom_integ0',\n",
       " '_mom_integ1',\n",
       " '_moment_error',\n",
       " '_munp',\n",
       " '_nnlf',\n",
       " '_nnlf_and_penalty',\n",
       " '_open_support_mask',\n",
       " '_parse_arg_template',\n",
       " '_parse_args',\n",
       " '_parse_args_rvs',\n",
       " '_parse_args_stats',\n",
       " '_pdf',\n",
       " '_penalized_nnlf',\n",
       " '_ppf',\n",
       " '_ppf_single',\n",
       " '_ppf_to_solve',\n",
       " '_ppfvec',\n",
       " '_random_state',\n",
       " '_reduce_func',\n",
       " '_rvs',\n",
       " '_rvs_size_warned',\n",
       " '_rvs_uses_size_attribute',\n",
       " '_sf',\n",
       " '_stats',\n",
       " '_stats_has_moments',\n",
       " '_support_mask',\n",
       " '_unpack_loc_scale',\n",
       " '_updated_ctor_param',\n",
       " 'a',\n",
       " 'b',\n",
       " 'badvalue',\n",
       " 'cdf',\n",
       " 'entropy',\n",
       " 'expect',\n",
       " 'extradoc',\n",
       " 'fit',\n",
       " 'fit_loc_scale',\n",
       " 'freeze',\n",
       " 'generic_moment',\n",
       " 'interval',\n",
       " 'isf',\n",
       " 'logcdf',\n",
       " 'logpdf',\n",
       " 'logsf',\n",
       " 'mean',\n",
       " 'median',\n",
       " 'moment',\n",
       " 'moment_type',\n",
       " 'name',\n",
       " 'nnlf',\n",
       " 'numargs',\n",
       " 'pdf',\n",
       " 'ppf',\n",
       " 'random_state',\n",
       " 'rvs',\n",
       " 'sf',\n",
       " 'shapes',\n",
       " 'stats',\n",
       " 'std',\n",
       " 'support',\n",
       " 'var',\n",
       " 'vecentropy',\n",
       " 'xtol']"
      ]
     },
     "execution_count": 71,
     "metadata": {},
     "output_type": "execute_result"
    }
   ],
   "source": [
    "dir(scipy.stats.norm)"
   ]
  },
  {
   "cell_type": "code",
   "execution_count": 72,
   "id": "19fb03d9",
   "metadata": {
    "ExecuteTime": {
     "end_time": "2022-07-06T08:33:18.864095Z",
     "start_time": "2022-07-06T08:33:18.847156Z"
    }
   },
   "outputs": [],
   "source": [
    "?scipy.stats.norm.fit"
   ]
  },
  {
   "cell_type": "markdown",
   "id": "5f0be3f4",
   "metadata": {},
   "source": [
    "### lognorm"
   ]
  },
  {
   "cell_type": "code",
   "execution_count": 69,
   "id": "1c6134d0",
   "metadata": {
    "ExecuteTime": {
     "end_time": "2022-07-06T08:29:29.224355Z",
     "start_time": "2022-07-06T08:29:29.215441Z"
    }
   },
   "outputs": [
    {
     "data": {
      "text/plain": [
       "['__call__',\n",
       " '__class__',\n",
       " '__delattr__',\n",
       " '__dict__',\n",
       " '__dir__',\n",
       " '__doc__',\n",
       " '__eq__',\n",
       " '__format__',\n",
       " '__ge__',\n",
       " '__getattribute__',\n",
       " '__getstate__',\n",
       " '__gt__',\n",
       " '__hash__',\n",
       " '__init__',\n",
       " '__init_subclass__',\n",
       " '__le__',\n",
       " '__lt__',\n",
       " '__module__',\n",
       " '__ne__',\n",
       " '__new__',\n",
       " '__reduce__',\n",
       " '__reduce_ex__',\n",
       " '__repr__',\n",
       " '__setattr__',\n",
       " '__setstate__',\n",
       " '__sizeof__',\n",
       " '__str__',\n",
       " '__subclasshook__',\n",
       " '__weakref__',\n",
       " '_argcheck',\n",
       " '_argcheck_rvs',\n",
       " '_attach_argparser_methods',\n",
       " '_attach_methods',\n",
       " '_cdf',\n",
       " '_cdf_single',\n",
       " '_cdfvec',\n",
       " '_construct_argparser',\n",
       " '_construct_default_doc',\n",
       " '_construct_doc',\n",
       " '_ctor_param',\n",
       " '_entropy',\n",
       " '_fit_loc_scale_support',\n",
       " '_fitstart',\n",
       " '_get_support',\n",
       " '_isf',\n",
       " '_logcdf',\n",
       " '_logpdf',\n",
       " '_logsf',\n",
       " '_mom0_sc',\n",
       " '_mom1_sc',\n",
       " '_mom_integ0',\n",
       " '_mom_integ1',\n",
       " '_moment_error',\n",
       " '_munp',\n",
       " '_nnlf',\n",
       " '_nnlf_and_penalty',\n",
       " '_open_support_mask',\n",
       " '_parse_arg_template',\n",
       " '_parse_args',\n",
       " '_parse_args_rvs',\n",
       " '_parse_args_stats',\n",
       " '_pdf',\n",
       " '_penalized_nnlf',\n",
       " '_ppf',\n",
       " '_ppf_single',\n",
       " '_ppf_to_solve',\n",
       " '_ppfvec',\n",
       " '_random_state',\n",
       " '_reduce_func',\n",
       " '_rvs',\n",
       " '_rvs_size_warned',\n",
       " '_rvs_uses_size_attribute',\n",
       " '_sf',\n",
       " '_stats',\n",
       " '_stats_has_moments',\n",
       " '_support_mask',\n",
       " '_unpack_loc_scale',\n",
       " '_updated_ctor_param',\n",
       " 'a',\n",
       " 'b',\n",
       " 'badvalue',\n",
       " 'cdf',\n",
       " 'entropy',\n",
       " 'expect',\n",
       " 'extradoc',\n",
       " 'fit',\n",
       " 'fit_loc_scale',\n",
       " 'freeze',\n",
       " 'generic_moment',\n",
       " 'interval',\n",
       " 'isf',\n",
       " 'logcdf',\n",
       " 'logpdf',\n",
       " 'logsf',\n",
       " 'mean',\n",
       " 'median',\n",
       " 'moment',\n",
       " 'moment_type',\n",
       " 'name',\n",
       " 'nnlf',\n",
       " 'numargs',\n",
       " 'pdf',\n",
       " 'ppf',\n",
       " 'random_state',\n",
       " 'rvs',\n",
       " 'sf',\n",
       " 'shapes',\n",
       " 'stats',\n",
       " 'std',\n",
       " 'support',\n",
       " 'var',\n",
       " 'vecentropy',\n",
       " 'xtol']"
      ]
     },
     "execution_count": 69,
     "metadata": {},
     "output_type": "execute_result"
    }
   ],
   "source": [
    "dir(scipy.stats.lognorm)"
   ]
  },
  {
   "cell_type": "code",
   "execution_count": 70,
   "id": "710ff98c",
   "metadata": {
    "ExecuteTime": {
     "end_time": "2022-07-06T08:29:45.141416Z",
     "start_time": "2022-07-06T08:29:45.123476Z"
    }
   },
   "outputs": [],
   "source": [
    "?scipy.stats.lognorm.fit"
   ]
  },
  {
   "cell_type": "markdown",
   "id": "7130921e",
   "metadata": {
    "ExecuteTime": {
     "end_time": "2022-07-06T08:23:52.046277Z",
     "start_time": "2022-07-06T08:23:52.036314Z"
    }
   },
   "source": [
    "### gamma"
   ]
  },
  {
   "cell_type": "code",
   "execution_count": 66,
   "id": "f14660b5",
   "metadata": {
    "ExecuteTime": {
     "end_time": "2022-07-06T08:23:33.399312Z",
     "start_time": "2022-07-06T08:23:33.385359Z"
    }
   },
   "outputs": [
    {
     "data": {
      "text/plain": [
       "['__call__',\n",
       " '__class__',\n",
       " '__delattr__',\n",
       " '__dict__',\n",
       " '__dir__',\n",
       " '__doc__',\n",
       " '__eq__',\n",
       " '__format__',\n",
       " '__ge__',\n",
       " '__getattribute__',\n",
       " '__getstate__',\n",
       " '__gt__',\n",
       " '__hash__',\n",
       " '__init__',\n",
       " '__init_subclass__',\n",
       " '__le__',\n",
       " '__lt__',\n",
       " '__module__',\n",
       " '__ne__',\n",
       " '__new__',\n",
       " '__reduce__',\n",
       " '__reduce_ex__',\n",
       " '__repr__',\n",
       " '__setattr__',\n",
       " '__setstate__',\n",
       " '__sizeof__',\n",
       " '__str__',\n",
       " '__subclasshook__',\n",
       " '__weakref__',\n",
       " '_argcheck',\n",
       " '_argcheck_rvs',\n",
       " '_attach_argparser_methods',\n",
       " '_attach_methods',\n",
       " '_cdf',\n",
       " '_cdf_single',\n",
       " '_cdfvec',\n",
       " '_construct_argparser',\n",
       " '_construct_default_doc',\n",
       " '_construct_doc',\n",
       " '_ctor_param',\n",
       " '_entropy',\n",
       " '_fit_loc_scale_support',\n",
       " '_fitstart',\n",
       " '_get_support',\n",
       " '_isf',\n",
       " '_logcdf',\n",
       " '_logpdf',\n",
       " '_logsf',\n",
       " '_mom0_sc',\n",
       " '_mom1_sc',\n",
       " '_mom_integ0',\n",
       " '_mom_integ1',\n",
       " '_moment_error',\n",
       " '_munp',\n",
       " '_nnlf',\n",
       " '_nnlf_and_penalty',\n",
       " '_open_support_mask',\n",
       " '_parse_arg_template',\n",
       " '_parse_args',\n",
       " '_parse_args_rvs',\n",
       " '_parse_args_stats',\n",
       " '_pdf',\n",
       " '_penalized_nnlf',\n",
       " '_ppf',\n",
       " '_ppf_single',\n",
       " '_ppf_to_solve',\n",
       " '_ppfvec',\n",
       " '_random_state',\n",
       " '_reduce_func',\n",
       " '_rvs',\n",
       " '_rvs_size_warned',\n",
       " '_rvs_uses_size_attribute',\n",
       " '_sf',\n",
       " '_stats',\n",
       " '_stats_has_moments',\n",
       " '_support_mask',\n",
       " '_unpack_loc_scale',\n",
       " '_updated_ctor_param',\n",
       " 'a',\n",
       " 'b',\n",
       " 'badvalue',\n",
       " 'cdf',\n",
       " 'entropy',\n",
       " 'expect',\n",
       " 'extradoc',\n",
       " 'fit',\n",
       " 'fit_loc_scale',\n",
       " 'freeze',\n",
       " 'generic_moment',\n",
       " 'interval',\n",
       " 'isf',\n",
       " 'logcdf',\n",
       " 'logpdf',\n",
       " 'logsf',\n",
       " 'mean',\n",
       " 'median',\n",
       " 'moment',\n",
       " 'moment_type',\n",
       " 'name',\n",
       " 'nnlf',\n",
       " 'numargs',\n",
       " 'pdf',\n",
       " 'ppf',\n",
       " 'random_state',\n",
       " 'rvs',\n",
       " 'sf',\n",
       " 'shapes',\n",
       " 'stats',\n",
       " 'std',\n",
       " 'support',\n",
       " 'var',\n",
       " 'vecentropy',\n",
       " 'xtol']"
      ]
     },
     "execution_count": 66,
     "metadata": {},
     "output_type": "execute_result"
    }
   ],
   "source": [
    "dir(scipy.stats.gamma)"
   ]
  },
  {
   "cell_type": "code",
   "execution_count": 68,
   "id": "ff1630e0",
   "metadata": {
    "ExecuteTime": {
     "end_time": "2022-07-06T08:24:38.398869Z",
     "start_time": "2022-07-06T08:24:38.391941Z"
    }
   },
   "outputs": [],
   "source": [
    "?scipy.stats.gamma.fit"
   ]
  },
  {
   "cell_type": "markdown",
   "id": "f1b18dad",
   "metadata": {},
   "source": [
    "### expon"
   ]
  },
  {
   "cell_type": "code",
   "execution_count": 63,
   "id": "4ee9fc5d",
   "metadata": {
    "ExecuteTime": {
     "end_time": "2022-07-06T08:15:33.112001Z",
     "start_time": "2022-07-06T08:15:33.093066Z"
    }
   },
   "outputs": [
    {
     "data": {
      "text/plain": [
       "['__call__',\n",
       " '__class__',\n",
       " '__delattr__',\n",
       " '__dict__',\n",
       " '__dir__',\n",
       " '__doc__',\n",
       " '__eq__',\n",
       " '__format__',\n",
       " '__ge__',\n",
       " '__getattribute__',\n",
       " '__getstate__',\n",
       " '__gt__',\n",
       " '__hash__',\n",
       " '__init__',\n",
       " '__init_subclass__',\n",
       " '__le__',\n",
       " '__lt__',\n",
       " '__module__',\n",
       " '__ne__',\n",
       " '__new__',\n",
       " '__reduce__',\n",
       " '__reduce_ex__',\n",
       " '__repr__',\n",
       " '__setattr__',\n",
       " '__setstate__',\n",
       " '__sizeof__',\n",
       " '__str__',\n",
       " '__subclasshook__',\n",
       " '__weakref__',\n",
       " '_argcheck',\n",
       " '_argcheck_rvs',\n",
       " '_attach_argparser_methods',\n",
       " '_attach_methods',\n",
       " '_cdf',\n",
       " '_cdf_single',\n",
       " '_cdfvec',\n",
       " '_construct_argparser',\n",
       " '_construct_default_doc',\n",
       " '_construct_doc',\n",
       " '_ctor_param',\n",
       " '_entropy',\n",
       " '_fit_loc_scale_support',\n",
       " '_fitstart',\n",
       " '_get_support',\n",
       " '_isf',\n",
       " '_logcdf',\n",
       " '_logpdf',\n",
       " '_logsf',\n",
       " '_mom0_sc',\n",
       " '_mom1_sc',\n",
       " '_mom_integ0',\n",
       " '_mom_integ1',\n",
       " '_moment_error',\n",
       " '_munp',\n",
       " '_nnlf',\n",
       " '_nnlf_and_penalty',\n",
       " '_open_support_mask',\n",
       " '_parse_arg_template',\n",
       " '_parse_args',\n",
       " '_parse_args_rvs',\n",
       " '_parse_args_stats',\n",
       " '_pdf',\n",
       " '_penalized_nnlf',\n",
       " '_ppf',\n",
       " '_ppf_single',\n",
       " '_ppf_to_solve',\n",
       " '_ppfvec',\n",
       " '_random_state',\n",
       " '_reduce_func',\n",
       " '_rvs',\n",
       " '_rvs_size_warned',\n",
       " '_rvs_uses_size_attribute',\n",
       " '_sf',\n",
       " '_stats',\n",
       " '_stats_has_moments',\n",
       " '_support_mask',\n",
       " '_unpack_loc_scale',\n",
       " '_updated_ctor_param',\n",
       " 'a',\n",
       " 'b',\n",
       " 'badvalue',\n",
       " 'cdf',\n",
       " 'entropy',\n",
       " 'expect',\n",
       " 'extradoc',\n",
       " 'fit',\n",
       " 'fit_loc_scale',\n",
       " 'freeze',\n",
       " 'generic_moment',\n",
       " 'interval',\n",
       " 'isf',\n",
       " 'logcdf',\n",
       " 'logpdf',\n",
       " 'logsf',\n",
       " 'mean',\n",
       " 'median',\n",
       " 'moment',\n",
       " 'moment_type',\n",
       " 'name',\n",
       " 'nnlf',\n",
       " 'numargs',\n",
       " 'pdf',\n",
       " 'ppf',\n",
       " 'random_state',\n",
       " 'rvs',\n",
       " 'sf',\n",
       " 'shapes',\n",
       " 'stats',\n",
       " 'std',\n",
       " 'support',\n",
       " 'var',\n",
       " 'vecentropy',\n",
       " 'xtol']"
      ]
     },
     "execution_count": 63,
     "metadata": {},
     "output_type": "execute_result"
    }
   ],
   "source": [
    "#指数分布\n",
    "dir(scipy.stats.expon)"
   ]
  },
  {
   "cell_type": "code",
   "execution_count": 65,
   "id": "e56f6190",
   "metadata": {
    "ExecuteTime": {
     "end_time": "2022-07-06T08:16:52.927655Z",
     "start_time": "2022-07-06T08:16:52.918686Z"
    }
   },
   "outputs": [],
   "source": [
    "?scipy.stats.expon.fit"
   ]
  },
  {
   "cell_type": "markdown",
   "id": "2357dd05",
   "metadata": {},
   "source": [
    "### bartlett"
   ]
  },
  {
   "cell_type": "code",
   "execution_count": 39,
   "id": "c0fe3cc0",
   "metadata": {
    "ExecuteTime": {
     "end_time": "2022-07-06T07:17:53.073722Z",
     "start_time": "2022-07-06T07:17:53.064748Z"
    }
   },
   "outputs": [],
   "source": [
    "#对等方差执行 Bartlett 检验\n",
    "?scipy.stats.bartlett"
   ]
  },
  {
   "cell_type": "markdown",
   "id": "e91d27cf",
   "metadata": {},
   "source": [
    "### norm"
   ]
  },
  {
   "cell_type": "code",
   "execution_count": 36,
   "id": "92f02e12",
   "metadata": {
    "ExecuteTime": {
     "end_time": "2022-07-06T07:17:03.138245Z",
     "start_time": "2022-07-06T07:17:03.130343Z"
    }
   },
   "outputs": [
    {
     "data": {
      "text/plain": [
       "['__call__',\n",
       " '__class__',\n",
       " '__delattr__',\n",
       " '__dict__',\n",
       " '__dir__',\n",
       " '__doc__',\n",
       " '__eq__',\n",
       " '__format__',\n",
       " '__ge__',\n",
       " '__getattribute__',\n",
       " '__getstate__',\n",
       " '__gt__',\n",
       " '__hash__',\n",
       " '__init__',\n",
       " '__init_subclass__',\n",
       " '__le__',\n",
       " '__lt__',\n",
       " '__module__',\n",
       " '__ne__',\n",
       " '__new__',\n",
       " '__reduce__',\n",
       " '__reduce_ex__',\n",
       " '__repr__',\n",
       " '__setattr__',\n",
       " '__setstate__',\n",
       " '__sizeof__',\n",
       " '__str__',\n",
       " '__subclasshook__',\n",
       " '__weakref__',\n",
       " '_argcheck',\n",
       " '_argcheck_rvs',\n",
       " '_attach_argparser_methods',\n",
       " '_attach_methods',\n",
       " '_cdf',\n",
       " '_cdf_single',\n",
       " '_cdfvec',\n",
       " '_construct_argparser',\n",
       " '_construct_default_doc',\n",
       " '_construct_doc',\n",
       " '_ctor_param',\n",
       " '_entropy',\n",
       " '_fit_loc_scale_support',\n",
       " '_fitstart',\n",
       " '_get_support',\n",
       " '_isf',\n",
       " '_logcdf',\n",
       " '_logpdf',\n",
       " '_logsf',\n",
       " '_mom0_sc',\n",
       " '_mom1_sc',\n",
       " '_mom_integ0',\n",
       " '_mom_integ1',\n",
       " '_moment_error',\n",
       " '_munp',\n",
       " '_nnlf',\n",
       " '_nnlf_and_penalty',\n",
       " '_open_support_mask',\n",
       " '_parse_arg_template',\n",
       " '_parse_args',\n",
       " '_parse_args_rvs',\n",
       " '_parse_args_stats',\n",
       " '_pdf',\n",
       " '_penalized_nnlf',\n",
       " '_ppf',\n",
       " '_ppf_single',\n",
       " '_ppf_to_solve',\n",
       " '_ppfvec',\n",
       " '_random_state',\n",
       " '_reduce_func',\n",
       " '_rvs',\n",
       " '_rvs_size_warned',\n",
       " '_rvs_uses_size_attribute',\n",
       " '_sf',\n",
       " '_stats',\n",
       " '_stats_has_moments',\n",
       " '_support_mask',\n",
       " '_unpack_loc_scale',\n",
       " '_updated_ctor_param',\n",
       " 'a',\n",
       " 'b',\n",
       " 'badvalue',\n",
       " 'cdf',\n",
       " 'entropy',\n",
       " 'expect',\n",
       " 'extradoc',\n",
       " 'fit',\n",
       " 'fit_loc_scale',\n",
       " 'freeze',\n",
       " 'generic_moment',\n",
       " 'interval',\n",
       " 'isf',\n",
       " 'logcdf',\n",
       " 'logpdf',\n",
       " 'logsf',\n",
       " 'mean',\n",
       " 'median',\n",
       " 'moment',\n",
       " 'moment_type',\n",
       " 'name',\n",
       " 'nnlf',\n",
       " 'numargs',\n",
       " 'pdf',\n",
       " 'ppf',\n",
       " 'random_state',\n",
       " 'rvs',\n",
       " 'sf',\n",
       " 'shapes',\n",
       " 'stats',\n",
       " 'std',\n",
       " 'support',\n",
       " 'var',\n",
       " 'vecentropy',\n",
       " 'xtol']"
      ]
     },
     "execution_count": 36,
     "metadata": {},
     "output_type": "execute_result"
    }
   ],
   "source": [
    "#正态分布\n",
    "dir(scipy.stats.norm)"
   ]
  },
  {
   "cell_type": "code",
   "execution_count": 58,
   "id": "40665247",
   "metadata": {
    "ExecuteTime": {
     "end_time": "2022-07-06T08:01:18.328185Z",
     "start_time": "2022-07-06T08:01:18.320260Z"
    }
   },
   "outputs": [],
   "source": [
    "#返回给定数据下，各参数的最大似然估计（MLE）值\n",
    "?scipy.stats.norm.fit"
   ]
  },
  {
   "cell_type": "markdown",
   "id": "247abc7c",
   "metadata": {
    "ExecuteTime": {
     "end_time": "2022-07-06T07:28:33.874728Z",
     "start_time": "2022-07-06T07:28:33.865814Z"
    }
   },
   "source": [
    "### genextreme"
   ]
  },
  {
   "cell_type": "code",
   "execution_count": 57,
   "id": "143e52d8",
   "metadata": {
    "ExecuteTime": {
     "end_time": "2022-07-06T08:01:00.512711Z",
     "start_time": "2022-07-06T08:01:00.500747Z"
    }
   },
   "outputs": [
    {
     "data": {
      "text/plain": [
       "['__call__',\n",
       " '__class__',\n",
       " '__delattr__',\n",
       " '__dict__',\n",
       " '__dir__',\n",
       " '__doc__',\n",
       " '__eq__',\n",
       " '__format__',\n",
       " '__ge__',\n",
       " '__getattribute__',\n",
       " '__getstate__',\n",
       " '__gt__',\n",
       " '__hash__',\n",
       " '__init__',\n",
       " '__init_subclass__',\n",
       " '__le__',\n",
       " '__lt__',\n",
       " '__module__',\n",
       " '__ne__',\n",
       " '__new__',\n",
       " '__reduce__',\n",
       " '__reduce_ex__',\n",
       " '__repr__',\n",
       " '__setattr__',\n",
       " '__setstate__',\n",
       " '__sizeof__',\n",
       " '__str__',\n",
       " '__subclasshook__',\n",
       " '__weakref__',\n",
       " '_argcheck',\n",
       " '_argcheck_rvs',\n",
       " '_attach_argparser_methods',\n",
       " '_attach_methods',\n",
       " '_cdf',\n",
       " '_cdf_single',\n",
       " '_cdfvec',\n",
       " '_construct_argparser',\n",
       " '_construct_default_doc',\n",
       " '_construct_doc',\n",
       " '_ctor_param',\n",
       " '_entropy',\n",
       " '_fit_loc_scale_support',\n",
       " '_fitstart',\n",
       " '_get_support',\n",
       " '_isf',\n",
       " '_logcdf',\n",
       " '_loglogcdf',\n",
       " '_logpdf',\n",
       " '_logsf',\n",
       " '_mom0_sc',\n",
       " '_mom1_sc',\n",
       " '_mom_integ0',\n",
       " '_mom_integ1',\n",
       " '_moment_error',\n",
       " '_munp',\n",
       " '_nnlf',\n",
       " '_nnlf_and_penalty',\n",
       " '_open_support_mask',\n",
       " '_parse_arg_template',\n",
       " '_parse_args',\n",
       " '_parse_args_rvs',\n",
       " '_parse_args_stats',\n",
       " '_pdf',\n",
       " '_penalized_nnlf',\n",
       " '_ppf',\n",
       " '_ppf_single',\n",
       " '_ppf_to_solve',\n",
       " '_ppfvec',\n",
       " '_random_state',\n",
       " '_reduce_func',\n",
       " '_rvs',\n",
       " '_rvs_size_warned',\n",
       " '_rvs_uses_size_attribute',\n",
       " '_sf',\n",
       " '_stats',\n",
       " '_stats_has_moments',\n",
       " '_support_mask',\n",
       " '_unpack_loc_scale',\n",
       " '_updated_ctor_param',\n",
       " 'a',\n",
       " 'b',\n",
       " 'badvalue',\n",
       " 'cdf',\n",
       " 'entropy',\n",
       " 'expect',\n",
       " 'extradoc',\n",
       " 'fit',\n",
       " 'fit_loc_scale',\n",
       " 'freeze',\n",
       " 'generic_moment',\n",
       " 'interval',\n",
       " 'isf',\n",
       " 'logcdf',\n",
       " 'logpdf',\n",
       " 'logsf',\n",
       " 'mean',\n",
       " 'median',\n",
       " 'moment',\n",
       " 'moment_type',\n",
       " 'name',\n",
       " 'nnlf',\n",
       " 'numargs',\n",
       " 'pdf',\n",
       " 'ppf',\n",
       " 'random_state',\n",
       " 'rvs',\n",
       " 'sf',\n",
       " 'shapes',\n",
       " 'stats',\n",
       " 'std',\n",
       " 'support',\n",
       " 'var',\n",
       " 'vecentropy',\n",
       " 'xtol']"
      ]
     },
     "execution_count": 57,
     "metadata": {},
     "output_type": "execute_result"
    }
   ],
   "source": [
    "#广义极值分布\n",
    "dir(scipy.stats.genextreme)"
   ]
  },
  {
   "cell_type": "code",
   "execution_count": 62,
   "id": "d9d8d8f4",
   "metadata": {
    "ExecuteTime": {
     "end_time": "2022-07-06T08:07:49.041392Z",
     "start_time": "2022-07-06T08:07:49.021456Z"
    }
   },
   "outputs": [],
   "source": [
    "?scipy.stats.genextreme.fit"
   ]
  },
  {
   "cell_type": "code",
   "execution_count": null,
   "id": "0b9bf91f",
   "metadata": {},
   "outputs": [],
   "source": []
  },
  {
   "cell_type": "code",
   "execution_count": null,
   "id": "29df6d4f",
   "metadata": {},
   "outputs": [],
   "source": []
  },
  {
   "cell_type": "markdown",
   "id": "79d4519a",
   "metadata": {},
   "source": [
    "## scipy.spatial"
   ]
  },
  {
   "cell_type": "code",
   "execution_count": 6,
   "id": "74deb6d1",
   "metadata": {
    "ExecuteTime": {
     "end_time": "2022-09-06T03:03:03.367789Z",
     "start_time": "2022-09-06T03:03:03.250518Z"
    }
   },
   "outputs": [],
   "source": [
    "import scipy.spatial"
   ]
  },
  {
   "cell_type": "code",
   "execution_count": 7,
   "id": "41cc8ad8",
   "metadata": {
    "ExecuteTime": {
     "end_time": "2022-09-06T03:03:04.966648Z",
     "start_time": "2022-09-06T03:03:04.960671Z"
    }
   },
   "outputs": [
    {
     "data": {
      "text/plain": [
       "['ConvexHull',\n",
       " 'Delaunay',\n",
       " 'HalfspaceIntersection',\n",
       " 'KDTree',\n",
       " 'Rectangle',\n",
       " 'SphericalVoronoi',\n",
       " 'Voronoi',\n",
       " '__all__',\n",
       " '__builtins__',\n",
       " '__cached__',\n",
       " '__doc__',\n",
       " '__file__',\n",
       " '__loader__',\n",
       " '__name__',\n",
       " '__package__',\n",
       " '__path__',\n",
       " '__spec__',\n",
       " '_distance_pybind',\n",
       " '_distance_wrap',\n",
       " '_geometric_slerp',\n",
       " '_hausdorff',\n",
       " '_plotutils',\n",
       " '_procrustes',\n",
       " '_spherical_voronoi',\n",
       " '_voronoi',\n",
       " 'cKDTree',\n",
       " 'ckdtree',\n",
       " 'convex_hull_plot_2d',\n",
       " 'delaunay_plot_2d',\n",
       " 'distance',\n",
       " 'distance_matrix',\n",
       " 'geometric_slerp',\n",
       " 'kdtree',\n",
       " 'minkowski_distance',\n",
       " 'minkowski_distance_p',\n",
       " 'procrustes',\n",
       " 'qhull',\n",
       " 'test',\n",
       " 'transform',\n",
       " 'tsearch',\n",
       " 'voronoi_plot_2d']"
      ]
     },
     "execution_count": 7,
     "metadata": {},
     "output_type": "execute_result"
    }
   ],
   "source": [
    "dir(scipy.spatial)"
   ]
  },
  {
   "cell_type": "markdown",
   "id": "2506ff26",
   "metadata": {},
   "source": [
    "### distance"
   ]
  },
  {
   "cell_type": "code",
   "execution_count": 8,
   "id": "83a5d4db",
   "metadata": {
    "ExecuteTime": {
     "end_time": "2022-09-06T03:03:12.525158Z",
     "start_time": "2022-09-06T03:03:12.504417Z"
    }
   },
   "outputs": [
    {
     "data": {
      "text/plain": [
       "['CDistMetricWrapper',\n",
       " 'CDistWeightedMetricWrapper',\n",
       " 'Callable',\n",
       " 'List',\n",
       " 'MetricInfo',\n",
       " 'Optional',\n",
       " 'PDistMetricWrapper',\n",
       " 'PDistWeightedMetricWrapper',\n",
       " 'Set',\n",
       " '_METRICS',\n",
       " '_METRICS_NAMES',\n",
       " '_METRIC_ALIAS',\n",
       " '_METRIC_INFOS',\n",
       " '_TEST_METRICS',\n",
       " '__all__',\n",
       " '__builtins__',\n",
       " '__cached__',\n",
       " '__doc__',\n",
       " '__file__',\n",
       " '__loader__',\n",
       " '__name__',\n",
       " '__package__',\n",
       " '__spec__',\n",
       " '_asarray_validated',\n",
       " '_cdist_callable',\n",
       " '_convert_to_bool',\n",
       " '_convert_to_double',\n",
       " '_convert_to_type',\n",
       " '_copy_array_if_base_present',\n",
       " '_correlation_cdist_wrap',\n",
       " '_correlation_pdist_wrap',\n",
       " '_deprecated',\n",
       " '_distance_pybind',\n",
       " '_distance_wrap',\n",
       " '_hausdorff',\n",
       " '_nbool_correspond_all',\n",
       " '_nbool_correspond_ft_tf',\n",
       " '_pdist_callable',\n",
       " '_prepare_out_argument',\n",
       " '_validate_cdist_input',\n",
       " '_validate_hamming_kwargs',\n",
       " '_validate_mahalanobis_kwargs',\n",
       " '_validate_minkowski_kwargs',\n",
       " '_validate_pdist_input',\n",
       " '_validate_seuclidean_kwargs',\n",
       " '_validate_vector',\n",
       " '_validate_weight_with_size',\n",
       " '_validate_weights',\n",
       " '_validate_wminkowski_kwargs',\n",
       " 'braycurtis',\n",
       " 'canberra',\n",
       " 'cdist',\n",
       " 'chebyshev',\n",
       " 'cityblock',\n",
       " 'correlation',\n",
       " 'cosine',\n",
       " 'dataclasses',\n",
       " 'dice',\n",
       " 'directed_hausdorff',\n",
       " 'euclidean',\n",
       " 'hamming',\n",
       " 'is_valid_dm',\n",
       " 'is_valid_y',\n",
       " 'jaccard',\n",
       " 'jensenshannon',\n",
       " 'kulsinski',\n",
       " 'mahalanobis',\n",
       " 'matching',\n",
       " 'minkowski',\n",
       " 'norm',\n",
       " 'np',\n",
       " 'num_obs_dm',\n",
       " 'num_obs_y',\n",
       " 'partial',\n",
       " 'pdist',\n",
       " 'rel_entr',\n",
       " 'rogerstanimoto',\n",
       " 'russellrao',\n",
       " 'seuclidean',\n",
       " 'sokalmichener',\n",
       " 'sokalsneath',\n",
       " 'sqeuclidean',\n",
       " 'squareform',\n",
       " 'warnings',\n",
       " 'wminkowski',\n",
       " 'yule']"
      ]
     },
     "execution_count": 8,
     "metadata": {},
     "output_type": "execute_result"
    }
   ],
   "source": [
    "dir(scipy.spatial.distance) #空间距离"
   ]
  },
  {
   "cell_type": "markdown",
   "id": "f13d5c13",
   "metadata": {},
   "source": [
    "#### pdist"
   ]
  },
  {
   "cell_type": "code",
   "execution_count": 19,
   "id": "1be0422e",
   "metadata": {
    "ExecuteTime": {
     "end_time": "2022-07-11T07:48:21.343144Z",
     "start_time": "2022-07-11T07:48:21.335171Z"
    }
   },
   "outputs": [],
   "source": [
    "?scipy.spatial.distance.pdist"
   ]
  },
  {
   "cell_type": "code",
   "execution_count": 2,
   "id": "f360e7e8",
   "metadata": {
    "ExecuteTime": {
     "end_time": "2022-07-12T02:54:38.532363Z",
     "start_time": "2022-07-12T02:54:38.470767Z"
    }
   },
   "outputs": [],
   "source": [
    "?scipy.spatial.distance.mahalanobis"
   ]
  },
  {
   "cell_type": "code",
   "execution_count": 3,
   "id": "21590c52",
   "metadata": {
    "ExecuteTime": {
     "end_time": "2022-07-12T02:55:27.870642Z",
     "start_time": "2022-07-12T02:55:27.639711Z"
    }
   },
   "outputs": [],
   "source": [
    "import numpy as np\n",
    "x = [1, 2, 3]\n",
    "y = [2, 1, 3]\n",
    "z = np.cov(x, y)\n",
    "#p = np.linalg.inv(z)\n",
    "#p"
   ]
  },
  {
   "cell_type": "code",
   "execution_count": 4,
   "id": "7d062a92",
   "metadata": {
    "ExecuteTime": {
     "end_time": "2022-07-12T02:55:37.314924Z",
     "start_time": "2022-07-12T02:55:37.285090Z"
    }
   },
   "outputs": [
    {
     "data": {
      "text/plain": [
       "array([[1. , 0.5],\n",
       "       [0.5, 1. ]])"
      ]
     },
     "execution_count": 4,
     "metadata": {},
     "output_type": "execute_result"
    }
   ],
   "source": [
    "z"
   ]
  },
  {
   "cell_type": "code",
   "execution_count": 42,
   "id": "e1c6a7a9",
   "metadata": {
    "ExecuteTime": {
     "end_time": "2022-07-11T09:29:12.750786Z",
     "start_time": "2022-07-11T09:29:12.459050Z"
    }
   },
   "outputs": [
    {
     "ename": "ValueError",
     "evalue": "shapes (3,) and (2,2) not aligned: 3 (dim 0) != 2 (dim 0)",
     "output_type": "error",
     "traceback": [
      "\u001b[1;31m---------------------------------------------------------------------------\u001b[0m",
      "\u001b[1;31mValueError\u001b[0m                                Traceback (most recent call last)",
      "Input \u001b[1;32mIn [42]\u001b[0m, in \u001b[0;36m<cell line: 1>\u001b[1;34m()\u001b[0m\n\u001b[1;32m----> 1\u001b[0m \u001b[43mscipy\u001b[49m\u001b[38;5;241;43m.\u001b[39;49m\u001b[43mspatial\u001b[49m\u001b[38;5;241;43m.\u001b[39;49m\u001b[43mdistance\u001b[49m\u001b[38;5;241;43m.\u001b[39;49m\u001b[43mmahalanobis\u001b[49m\u001b[43m(\u001b[49m\u001b[43m[\u001b[49m\u001b[38;5;241;43m1\u001b[39;49m\u001b[43m,\u001b[49m\u001b[43m \u001b[49m\u001b[38;5;241;43m0\u001b[39;49m\u001b[43m,\u001b[49m\u001b[43m \u001b[49m\u001b[38;5;241;43m0\u001b[39;49m\u001b[43m]\u001b[49m\u001b[43m,\u001b[49m\u001b[43m \u001b[49m\u001b[43m[\u001b[49m\u001b[38;5;241;43m0\u001b[39;49m\u001b[43m,\u001b[49m\u001b[43m \u001b[49m\u001b[38;5;241;43m1\u001b[39;49m\u001b[43m,\u001b[49m\u001b[43m \u001b[49m\u001b[38;5;241;43m0\u001b[39;49m\u001b[43m]\u001b[49m\u001b[43m,\u001b[49m\u001b[43m \u001b[49m\u001b[43mp\u001b[49m\u001b[43m)\u001b[49m\n",
      "File \u001b[1;32mD:\\TongYuan\\.julia\\conda\\3\\lib\\site-packages\\scipy\\spatial\\distance.py:1064\u001b[0m, in \u001b[0;36mmahalanobis\u001b[1;34m(u, v, VI)\u001b[0m\n\u001b[0;32m   1062\u001b[0m VI \u001b[38;5;241m=\u001b[39m np\u001b[38;5;241m.\u001b[39matleast_2d(VI)\n\u001b[0;32m   1063\u001b[0m delta \u001b[38;5;241m=\u001b[39m u \u001b[38;5;241m-\u001b[39m v\n\u001b[1;32m-> 1064\u001b[0m m \u001b[38;5;241m=\u001b[39m np\u001b[38;5;241m.\u001b[39mdot(\u001b[43mnp\u001b[49m\u001b[38;5;241;43m.\u001b[39;49m\u001b[43mdot\u001b[49m\u001b[43m(\u001b[49m\u001b[43mdelta\u001b[49m\u001b[43m,\u001b[49m\u001b[43m \u001b[49m\u001b[43mVI\u001b[49m\u001b[43m)\u001b[49m, delta)\n\u001b[0;32m   1065\u001b[0m \u001b[38;5;28;01mreturn\u001b[39;00m np\u001b[38;5;241m.\u001b[39msqrt(m)\n",
      "File \u001b[1;32m<__array_function__ internals>:5\u001b[0m, in \u001b[0;36mdot\u001b[1;34m(*args, **kwargs)\u001b[0m\n",
      "\u001b[1;31mValueError\u001b[0m: shapes (3,) and (2,2) not aligned: 3 (dim 0) != 2 (dim 0)"
     ]
    }
   ],
   "source": [
    "scipy.spatial.distance.mahalanobis([1, 0, 0], [0, 1, 0], p)"
   ]
  },
  {
   "cell_type": "markdown",
   "id": "f255f924",
   "metadata": {},
   "source": [
    "### cdist"
   ]
  },
  {
   "cell_type": "code",
   "execution_count": 8,
   "id": "871cd9d3",
   "metadata": {
    "ExecuteTime": {
     "end_time": "2022-11-24T06:27:32.436110Z",
     "start_time": "2022-11-24T06:27:32.423187Z"
    }
   },
   "outputs": [],
   "source": [
    "?scipy.spatial.distance.cdist"
   ]
  },
  {
   "cell_type": "code",
   "execution_count": null,
   "id": "7d332d3b",
   "metadata": {},
   "outputs": [],
   "source": []
  },
  {
   "cell_type": "code",
   "execution_count": null,
   "id": "ba50ad53",
   "metadata": {},
   "outputs": [],
   "source": []
  },
  {
   "cell_type": "markdown",
   "id": "2162aa1c",
   "metadata": {},
   "source": [
    "### squareform"
   ]
  },
  {
   "cell_type": "code",
   "execution_count": 15,
   "id": "ebf112b2",
   "metadata": {
    "ExecuteTime": {
     "end_time": "2022-07-19T05:39:33.100564Z",
     "start_time": "2022-07-19T05:39:33.082624Z"
    }
   },
   "outputs": [],
   "source": [
    "#格式化距离矩阵\n",
    "?scipy.spatial.distance.squareform"
   ]
  },
  {
   "cell_type": "code",
   "execution_count": 12,
   "id": "bf7faf22",
   "metadata": {
    "ExecuteTime": {
     "end_time": "2022-07-19T02:45:29.426297Z",
     "start_time": "2022-07-19T02:45:29.411347Z"
    }
   },
   "outputs": [],
   "source": [
    "X = [0.2954, 1.0670, 0.9448]"
   ]
  },
  {
   "cell_type": "code",
   "execution_count": 13,
   "id": "1fc7fb4a",
   "metadata": {
    "ExecuteTime": {
     "end_time": "2022-07-19T02:45:30.209814Z",
     "start_time": "2022-07-19T02:45:30.197908Z"
    }
   },
   "outputs": [
    {
     "data": {
      "text/plain": [
       "array([[0.    , 0.2954, 1.067 ],\n",
       "       [0.2954, 0.    , 0.9448],\n",
       "       [1.067 , 0.9448, 0.    ]])"
      ]
     },
     "execution_count": 13,
     "metadata": {},
     "output_type": "execute_result"
    }
   ],
   "source": [
    "scipy.spatial.distance.squareform(X)"
   ]
  },
  {
   "cell_type": "markdown",
   "id": "e4368d80",
   "metadata": {},
   "source": [
    "## scipy.cluster"
   ]
  },
  {
   "cell_type": "code",
   "execution_count": 1,
   "id": "8c2e3e35",
   "metadata": {
    "ExecuteTime": {
     "end_time": "2022-07-18T06:05:30.028528Z",
     "start_time": "2022-07-18T06:05:29.886915Z"
    }
   },
   "outputs": [],
   "source": [
    "import scipy.cluster"
   ]
  },
  {
   "cell_type": "code",
   "execution_count": 3,
   "id": "e34152f0",
   "metadata": {
    "ExecuteTime": {
     "end_time": "2022-07-11T05:56:03.716958Z",
     "start_time": "2022-07-11T05:56:03.684068Z"
    }
   },
   "outputs": [
    {
     "data": {
      "text/plain": [
       "['__all__',\n",
       " '__builtins__',\n",
       " '__cached__',\n",
       " '__doc__',\n",
       " '__file__',\n",
       " '__loader__',\n",
       " '__name__',\n",
       " '__package__',\n",
       " '__path__',\n",
       " '__spec__',\n",
       " '_hierarchy',\n",
       " '_optimal_leaf_ordering',\n",
       " '_vq',\n",
       " 'hierarchy',\n",
       " 'test',\n",
       " 'vq']"
      ]
     },
     "execution_count": 3,
     "metadata": {},
     "output_type": "execute_result"
    }
   ],
   "source": [
    "dir(scipy.cluster)"
   ]
  },
  {
   "cell_type": "markdown",
   "id": "22f2614d",
   "metadata": {},
   "source": [
    "### hierarchy"
   ]
  },
  {
   "cell_type": "code",
   "execution_count": 9,
   "id": "5b30e436",
   "metadata": {
    "ExecuteTime": {
     "end_time": "2022-06-28T02:38:36.944783Z",
     "start_time": "2022-06-28T02:38:36.930893Z"
    }
   },
   "outputs": [
    {
     "data": {
      "text/plain": [
       "['ClusterNode',\n",
       " 'ClusterWarning',\n",
       " 'DisjointSet',\n",
       " '_EUCLIDEAN_METHODS',\n",
       " '_LINKAGE_METHODS',\n",
       " '__all__',\n",
       " '__builtins__',\n",
       " '__cached__',\n",
       " '__doc__',\n",
       " '__file__',\n",
       " '__loader__',\n",
       " '__name__',\n",
       " '__package__',\n",
       " '__spec__',\n",
       " '_append_contraction_marks',\n",
       " '_append_contraction_marks_sub',\n",
       " '_append_nonsingleton_leaf_node',\n",
       " '_append_singleton_leaf_node',\n",
       " '_check_hierarchy_not_all_clusters_used',\n",
       " '_check_hierarchy_uses_cluster_before_formed',\n",
       " '_check_hierarchy_uses_cluster_more_than_once',\n",
       " '_cnode_bare',\n",
       " '_cnode_type',\n",
       " '_convert_to_bool',\n",
       " '_convert_to_double',\n",
       " '_copy_array_if_base_present',\n",
       " '_copy_arrays_if_base_present',\n",
       " '_dendrogram_calculate_info',\n",
       " '_drotation',\n",
       " '_drotationsortedkeys',\n",
       " '_dtextsizes',\n",
       " '_dtextsortedkeys',\n",
       " '_get_leaves_color_list',\n",
       " '_get_tick_rotation',\n",
       " '_get_tick_text_size',\n",
       " '_hierarchy',\n",
       " '_link_line_colors',\n",
       " '_link_line_colors_default',\n",
       " '_optimal_leaf_ordering',\n",
       " '_order_cluster_tree',\n",
       " '_plot_dendrogram',\n",
       " '_randdm',\n",
       " '_remove_dups',\n",
       " '_warning',\n",
       " 'average',\n",
       " 'bisect',\n",
       " 'centroid',\n",
       " 'complete',\n",
       " 'cophenet',\n",
       " 'correspond',\n",
       " 'cut_tree',\n",
       " 'dendrogram',\n",
       " 'deque',\n",
       " 'distance',\n",
       " 'fcluster',\n",
       " 'fclusterdata',\n",
       " 'from_mlab_linkage',\n",
       " 'inconsistent',\n",
       " 'is_isomorphic',\n",
       " 'is_monotonic',\n",
       " 'is_valid_im',\n",
       " 'is_valid_linkage',\n",
       " 'leaders',\n",
       " 'leaves_list',\n",
       " 'linkage',\n",
       " 'maxRstat',\n",
       " 'maxdists',\n",
       " 'maxinconsts',\n",
       " 'median',\n",
       " 'np',\n",
       " 'num_obs_linkage',\n",
       " 'optimal_leaf_ordering',\n",
       " 'set_link_color_palette',\n",
       " 'single',\n",
       " 'to_mlab_linkage',\n",
       " 'to_tree',\n",
       " 'ward',\n",
       " 'warnings',\n",
       " 'weighted']"
      ]
     },
     "execution_count": 9,
     "metadata": {},
     "output_type": "execute_result"
    }
   ],
   "source": [
    "dir(scipy.cluster.hierarchy)"
   ]
  },
  {
   "cell_type": "markdown",
   "id": "5b31b9f5",
   "metadata": {},
   "source": [
    "#### fclusterdata"
   ]
  },
  {
   "cell_type": "code",
   "execution_count": 9,
   "id": "e13a81d9",
   "metadata": {
    "ExecuteTime": {
     "end_time": "2022-07-18T09:34:08.556236Z",
     "start_time": "2022-07-18T09:34:08.537299Z"
    }
   },
   "outputs": [],
   "source": [
    "?scipy.cluster.hierarchy.fclusterdata"
   ]
  },
  {
   "cell_type": "code",
   "execution_count": null,
   "id": "9eeedf2e",
   "metadata": {},
   "outputs": [],
   "source": []
  },
  {
   "cell_type": "code",
   "execution_count": 14,
   "id": "474ad4e9",
   "metadata": {
    "ExecuteTime": {
     "end_time": "2022-06-28T02:42:42.437339Z",
     "start_time": "2022-06-28T02:42:42.420445Z"
    }
   },
   "outputs": [
    {
     "data": {
      "text/plain": [
       "array([3, 3, 3, 4, 4, 4, 2, 2, 2, 1, 1, 1], dtype=int32)"
      ]
     },
     "execution_count": 14,
     "metadata": {},
     "output_type": "execute_result"
    }
   ],
   "source": [
    "X = [[0, 0], [0, 1], [1, 0],\n",
    "      [0, 4], [0, 3], [1, 4],\n",
    "      [4, 0], [3, 0], [4, 1],\n",
    "      [4, 4], [3, 4], [4, 3]]\n",
    "\n",
    "scipy.cluster.hierarchy.fclusterdata(X, t=1)"
   ]
  },
  {
   "cell_type": "code",
   "execution_count": 18,
   "id": "d96ceb7f",
   "metadata": {
    "ExecuteTime": {
     "end_time": "2022-07-12T06:56:44.103013Z",
     "start_time": "2022-07-12T06:56:44.086070Z"
    }
   },
   "outputs": [
    {
     "data": {
      "text/plain": [
       "array([1, 1, 1, 1], dtype=int32)"
      ]
     },
     "execution_count": 18,
     "metadata": {},
     "output_type": "execute_result"
    }
   ],
   "source": [
    "X = [[0  ,   0   ,  0   ,  1  ,  1   ,  0],\n",
    "     [0   ,  4  ,   0  ,   3   ,  1  ,   4],\n",
    "     [4  ,   0   ,  3   ,  0   ,  4   ,  1],\n",
    "     [4   ,  4   ,  3   ,  4   ,  4   ,  3]]\n",
    "scipy.cluster.hierarchy.fclusterdata(X, t=2)"
   ]
  },
  {
   "cell_type": "code",
   "execution_count": 20,
   "id": "a2afcb29",
   "metadata": {
    "ExecuteTime": {
     "end_time": "2022-07-12T07:11:03.050384Z",
     "start_time": "2022-07-12T07:11:03.039423Z"
    }
   },
   "outputs": [],
   "source": [
    "X = [[0  ,   0   ,  0   ,  1  ,  1   ,  0],\n",
    "     [0   ,  4  ,   0  ,   3   ,  1  ,   4],\n",
    "     [4  ,   0   ,  3   ,  0   ,  4   ,  1],\n",
    "     [4   ,  4   ,  3   ,  4   ,  4   ,  3]]"
   ]
  },
  {
   "cell_type": "code",
   "execution_count": 23,
   "id": "9b36b20d",
   "metadata": {
    "ExecuteTime": {
     "end_time": "2022-07-12T07:18:31.896492Z",
     "start_time": "2022-07-12T07:18:31.879549Z"
    }
   },
   "outputs": [
    {
     "data": {
      "text/plain": [
       "array([[0., 1., 6., 2.],\n",
       "       [2., 4., 6., 3.],\n",
       "       [3., 5., 6., 4.]])"
      ]
     },
     "execution_count": 23,
     "metadata": {},
     "output_type": "execute_result"
    }
   ],
   "source": [
    "scipy.cluster.hierarchy.linkage(X, \"single\")"
   ]
  },
  {
   "cell_type": "code",
   "execution_count": 22,
   "id": "7f4c8ac0",
   "metadata": {
    "ExecuteTime": {
     "end_time": "2022-07-12T07:17:31.777971Z",
     "start_time": "2022-07-12T07:17:31.769001Z"
    }
   },
   "outputs": [
    {
     "data": {
      "text/plain": [
       "array([6.        , 6.        , 8.24621125, 8.24621125, 6.        ,\n",
       "       6.        ])"
      ]
     },
     "execution_count": 22,
     "metadata": {},
     "output_type": "execute_result"
    }
   ],
   "source": [
    "scipy.spatial.distance.pdist(X)"
   ]
  },
  {
   "cell_type": "code",
   "execution_count": null,
   "id": "1e88cadf",
   "metadata": {},
   "outputs": [],
   "source": []
  },
  {
   "cell_type": "markdown",
   "id": "ef2b277d",
   "metadata": {},
   "source": [
    "#### linkage"
   ]
  },
  {
   "cell_type": "code",
   "execution_count": 24,
   "id": "eecd1b20",
   "metadata": {
    "ExecuteTime": {
     "end_time": "2022-07-12T07:24:35.769663Z",
     "start_time": "2022-07-12T07:24:35.749007Z"
    }
   },
   "outputs": [],
   "source": [
    "#凝聚层次聚类树\n",
    "?scipy.cluster.hierarchy.linkage"
   ]
  },
  {
   "cell_type": "code",
   "execution_count": 5,
   "id": "ccf9dc1f",
   "metadata": {
    "ExecuteTime": {
     "end_time": "2022-07-11T07:04:58.893700Z",
     "start_time": "2022-07-11T07:04:58.869780Z"
    }
   },
   "outputs": [
    {
     "data": {
      "text/plain": [
       "array([[ 5.        ,  6.        ,  0.        ,  2.        ],\n",
       "       [ 2.        ,  7.        ,  0.        ,  2.        ],\n",
       "       [ 0.        ,  4.        ,  1.        ,  2.        ],\n",
       "       [ 1.        ,  8.        ,  1.15470054,  3.        ],\n",
       "       [ 9.        , 10.        ,  2.12132034,  4.        ],\n",
       "       [ 3.        , 12.        ,  4.11096096,  5.        ],\n",
       "       [11.        , 13.        , 14.07183949,  8.        ]])"
      ]
     },
     "execution_count": 5,
     "metadata": {},
     "output_type": "execute_result"
    }
   ],
   "source": [
    "X = [[2], [8], [0], [4], [1], [9], [9], [0]]\n",
    "Z = scipy.cluster.hierarchy.linkage(X, \"ward\")\n",
    "Z"
   ]
  },
  {
   "cell_type": "code",
   "execution_count": 16,
   "id": "7d73d88d",
   "metadata": {
    "ExecuteTime": {
     "end_time": "2022-07-11T07:47:28.577061Z",
     "start_time": "2022-07-11T07:47:28.568090Z"
    }
   },
   "outputs": [
    {
     "data": {
      "text/plain": [
       "array([[ 0.,  1.,  1.,  2.],\n",
       "       [ 2., 12.,  1.,  3.],\n",
       "       [ 3.,  4.,  1.,  2.],\n",
       "       [ 5., 14.,  1.,  3.],\n",
       "       [ 6.,  7.,  1.,  2.],\n",
       "       [ 8., 16.,  1.,  3.],\n",
       "       [ 9., 10.,  1.,  2.],\n",
       "       [11., 18.,  1.,  3.],\n",
       "       [13., 15.,  2.,  6.],\n",
       "       [17., 20.,  2.,  9.],\n",
       "       [19., 21.,  2., 12.]])"
      ]
     },
     "execution_count": 16,
     "metadata": {},
     "output_type": "execute_result"
    }
   ],
   "source": [
    "X = [[0, 0], [0, 1], [1, 0],\n",
    "      [0, 4], [0, 3], [1, 4],\n",
    "      [4, 0], [3, 0], [4, 1],\n",
    "      [4, 4], [3, 4], [4, 3]]\n",
    "scipy.cluster.hierarchy.linkage(X)"
   ]
  },
  {
   "cell_type": "code",
   "execution_count": 24,
   "id": "6ebabe33",
   "metadata": {
    "ExecuteTime": {
     "end_time": "2022-07-11T07:51:30.630091Z",
     "start_time": "2022-07-11T07:51:30.612151Z"
    }
   },
   "outputs": [
    {
     "data": {
      "text/plain": [
       "array([[ 0.,  1.,  1.,  2.],\n",
       "       [ 2., 12.,  1.,  3.],\n",
       "       [ 3.,  4.,  1.,  2.],\n",
       "       [ 5., 14.,  1.,  3.],\n",
       "       [ 6.,  7.,  1.,  2.],\n",
       "       [ 8., 16.,  1.,  3.],\n",
       "       [ 9., 10.,  1.,  2.],\n",
       "       [11., 18.,  1.,  3.],\n",
       "       [13., 15.,  2.,  6.],\n",
       "       [17., 20.,  2.,  9.],\n",
       "       [19., 21.,  2., 12.]])"
      ]
     },
     "execution_count": 24,
     "metadata": {},
     "output_type": "execute_result"
    }
   ],
   "source": [
    "y = scipy.spatial.distance.pdist(X)\n",
    "scipy.cluster.hierarchy.linkage(y)"
   ]
  },
  {
   "cell_type": "markdown",
   "id": "435dc2bb",
   "metadata": {},
   "source": [
    "#### cophenet"
   ]
  },
  {
   "cell_type": "code",
   "execution_count": 10,
   "id": "51707b5a",
   "metadata": {
    "ExecuteTime": {
     "end_time": "2022-07-19T02:26:50.816828Z",
     "start_time": "2022-07-19T02:26:50.803704Z"
    }
   },
   "outputs": [],
   "source": [
    "#共相关系数\n",
    "?scipy.cluster.hierarchy.cophenet"
   ]
  },
  {
   "cell_type": "code",
   "execution_count": 17,
   "id": "5009bab3",
   "metadata": {
    "ExecuteTime": {
     "end_time": "2022-07-11T07:47:48.637754Z",
     "start_time": "2022-07-11T07:47:48.628784Z"
    }
   },
   "outputs": [],
   "source": [
    "?scipy.cluster.hierarchy.single"
   ]
  },
  {
   "cell_type": "markdown",
   "id": "99864048",
   "metadata": {},
   "source": [
    "#### inconsistent"
   ]
  },
  {
   "cell_type": "code",
   "execution_count": 25,
   "id": "c22a10ae",
   "metadata": {
    "ExecuteTime": {
     "end_time": "2022-07-12T07:41:23.124212Z",
     "start_time": "2022-07-12T07:41:23.112252Z"
    }
   },
   "outputs": [],
   "source": [
    "#不一致性\n",
    "?scipy.cluster.hierarchy.inconsistent"
   ]
  },
  {
   "cell_type": "markdown",
   "id": "48ee94fb",
   "metadata": {},
   "source": [
    "#### dendrogram"
   ]
  },
  {
   "cell_type": "code",
   "execution_count": 17,
   "id": "c9ddffd4",
   "metadata": {
    "ExecuteTime": {
     "end_time": "2022-06-29T08:12:22.313021Z",
     "start_time": "2022-06-29T08:12:22.305046Z"
    }
   },
   "outputs": [],
   "source": [
    "?scipy.cluster.hierarchy.dendrogram #树状图"
   ]
  },
  {
   "cell_type": "code",
   "execution_count": 20,
   "id": "077e0965",
   "metadata": {
    "ExecuteTime": {
     "end_time": "2022-07-19T07:49:15.876952Z",
     "start_time": "2022-07-19T07:49:15.857021Z"
    }
   },
   "outputs": [
    {
     "data": {
      "text/plain": [
       "array([[  2.        ,   5.        , 138.        ,   2.        ],\n",
       "       [  3.        ,   4.        , 219.        ,   2.        ],\n",
       "       [  0.        ,   7.        , 333.5       ,   3.        ],\n",
       "       [  1.        ,   6.        , 347.5       ,   3.        ],\n",
       "       [  8.        ,   9.        , 680.77777778,   6.        ]])"
      ]
     },
     "execution_count": 20,
     "metadata": {},
     "output_type": "execute_result"
    }
   ],
   "source": [
    "from scipy.cluster.hierarchy import linkage, dendrogram\n",
    "#import matplotlib.pyplot as plt\n",
    "#import numpy as np\n",
    "\n",
    "\n",
    "ytdist = [662., 877., 255., 412., 996., 295., 468., 268.,\n",
    "                 400., 754., 564., 138., 219., 869., 669.]\n",
    "Z = linkage(ytdist, 'average')\n",
    "Z\n",
    "#plt.figure()\n",
    "#y = dendrogram(Z)\n",
    "\n",
    "# hierarchy.set_link_color_palette(['m', 'c', 'y', 'k'])\n",
    "# fig, axes = plt.subplots(1, 2, figsize=(8, 3))\n",
    "# dn1 = hierarchy.dendrogram(Z, ax=axes[0], above_threshold_color='y',\n",
    "#                          orientation='top')\n",
    "# dn2 = hierarchy.dendrogram(Z, ax=axes[1],\n",
    "#                           above_threshold_color='#bcbddc',\n",
    "#                          orientation='right')\n",
    "# hierarchy.set_link_color_palette(None)  # reset to default after use\n",
    "# plt.show()"
   ]
  },
  {
   "cell_type": "markdown",
   "id": "adb00725",
   "metadata": {},
   "source": [
    "#### optimal_leaf_ordering"
   ]
  },
  {
   "cell_type": "code",
   "execution_count": 25,
   "id": "c65b34c1",
   "metadata": {
    "ExecuteTime": {
     "end_time": "2022-07-19T08:23:53.489121Z",
     "start_time": "2022-07-19T08:23:53.477162Z"
    }
   },
   "outputs": [],
   "source": [
    "?scipy.cluster.hierarchy.optimal_leaf_ordering"
   ]
  },
  {
   "cell_type": "code",
   "execution_count": 24,
   "id": "9e811aca",
   "metadata": {
    "ExecuteTime": {
     "end_time": "2022-07-19T08:08:16.985771Z",
     "start_time": "2022-07-19T08:08:16.969825Z"
    }
   },
   "outputs": [
    {
     "data": {
      "text/plain": [
       "array([0, 8, 6, 2, 5, 7, 9, 4, 3, 1], dtype=int32)"
      ]
     },
     "execution_count": 24,
     "metadata": {},
     "output_type": "execute_result"
    }
   ],
   "source": [
    "from scipy.cluster.hierarchy import linkage\n",
    "from scipy.spatial.distance import pdist\n",
    "rng = np.random.default_rng()\n",
    "X = rng.standard_normal((10, 10))\n",
    "D = pdist(X)\n",
    "tree = linkage(X, \"average\")\n",
    "\n",
    "hierarchy.leaves_list(hierarchy.optimal_leaf_ordering(tree, D))"
   ]
  },
  {
   "cell_type": "markdown",
   "id": "048e8518",
   "metadata": {},
   "source": [
    "## scipy.signal"
   ]
  },
  {
   "cell_type": "code",
   "execution_count": 31,
   "id": "4faa6930",
   "metadata": {
    "ExecuteTime": {
     "end_time": "2022-07-06T06:45:59.102099Z",
     "start_time": "2022-07-06T06:45:59.083158Z"
    }
   },
   "outputs": [
    {
     "data": {
      "text/plain": [
       "['BadCoefficients',\n",
       " 'CZT',\n",
       " 'StateSpace',\n",
       " 'TransferFunction',\n",
       " 'ZerosPolesGain',\n",
       " 'ZoomFFT',\n",
       " '__all__',\n",
       " '__builtins__',\n",
       " '__cached__',\n",
       " '__doc__',\n",
       " '__file__',\n",
       " '__loader__',\n",
       " '__name__',\n",
       " '__package__',\n",
       " '__path__',\n",
       " '__spec__',\n",
       " '_arraytools',\n",
       " '_bsplines',\n",
       " '_czt',\n",
       " '_filter_design',\n",
       " '_fir_filter_design',\n",
       " '_lti_conversion',\n",
       " '_ltisys',\n",
       " '_max_len_seq',\n",
       " '_max_len_seq_inner',\n",
       " '_peak_finding',\n",
       " '_peak_finding_utils',\n",
       " '_savitzky_golay',\n",
       " '_signaltools',\n",
       " '_sigtools',\n",
       " '_sosfilt',\n",
       " '_spectral',\n",
       " '_spectral_py',\n",
       " '_spline',\n",
       " '_upfirdn',\n",
       " '_upfirdn_apply',\n",
       " '_waveforms',\n",
       " '_wavelets',\n",
       " 'abcd_normalize',\n",
       " 'argrelextrema',\n",
       " 'argrelmax',\n",
       " 'argrelmin',\n",
       " 'band_stop_obj',\n",
       " 'barthann',\n",
       " 'bartlett',\n",
       " 'bessel',\n",
       " 'besselap',\n",
       " 'bilinear',\n",
       " 'bilinear_zpk',\n",
       " 'blackman',\n",
       " 'blackmanharris',\n",
       " 'bode',\n",
       " 'bohman',\n",
       " 'boxcar',\n",
       " 'bspline',\n",
       " 'bsplines',\n",
       " 'buttap',\n",
       " 'butter',\n",
       " 'buttord',\n",
       " 'cascade',\n",
       " 'cheb1ap',\n",
       " 'cheb1ord',\n",
       " 'cheb2ap',\n",
       " 'cheb2ord',\n",
       " 'chebwin',\n",
       " 'cheby1',\n",
       " 'cheby2',\n",
       " 'check_COLA',\n",
       " 'check_NOLA',\n",
       " 'chirp',\n",
       " 'choose_conv_method',\n",
       " 'cmplx_sort',\n",
       " 'coherence',\n",
       " 'cont2discrete',\n",
       " 'convolve',\n",
       " 'convolve2d',\n",
       " 'correlate',\n",
       " 'correlate2d',\n",
       " 'correlation_lags',\n",
       " 'cosine',\n",
       " 'csd',\n",
       " 'cspline1d',\n",
       " 'cspline1d_eval',\n",
       " 'cspline2d',\n",
       " 'cubic',\n",
       " 'cwt',\n",
       " 'czt',\n",
       " 'czt_points',\n",
       " 'daub',\n",
       " 'dbode',\n",
       " 'decimate',\n",
       " 'deconvolve',\n",
       " 'detrend',\n",
       " 'dfreqresp',\n",
       " 'dimpulse',\n",
       " 'dlsim',\n",
       " 'dlti',\n",
       " 'dstep',\n",
       " 'ellip',\n",
       " 'ellipap',\n",
       " 'ellipord',\n",
       " 'exponential',\n",
       " 'fftconvolve',\n",
       " 'filter_design',\n",
       " 'filtfilt',\n",
       " 'find_peaks',\n",
       " 'find_peaks_cwt',\n",
       " 'findfreqs',\n",
       " 'fir_filter_design',\n",
       " 'firls',\n",
       " 'firwin',\n",
       " 'firwin2',\n",
       " 'flattop',\n",
       " 'freqresp',\n",
       " 'freqs',\n",
       " 'freqs_zpk',\n",
       " 'freqz',\n",
       " 'freqz_zpk',\n",
       " 'gammatone',\n",
       " 'gauss_spline',\n",
       " 'gaussian',\n",
       " 'gausspulse',\n",
       " 'general_gaussian',\n",
       " 'get_window',\n",
       " 'group_delay',\n",
       " 'hamming',\n",
       " 'hann',\n",
       " 'hanning',\n",
       " 'hilbert',\n",
       " 'hilbert2',\n",
       " 'iircomb',\n",
       " 'iirdesign',\n",
       " 'iirfilter',\n",
       " 'iirnotch',\n",
       " 'iirpeak',\n",
       " 'impulse',\n",
       " 'impulse2',\n",
       " 'invres',\n",
       " 'invresz',\n",
       " 'istft',\n",
       " 'kaiser',\n",
       " 'kaiser_atten',\n",
       " 'kaiser_beta',\n",
       " 'kaiserord',\n",
       " 'lfilter',\n",
       " 'lfilter_zi',\n",
       " 'lfiltic',\n",
       " 'lombscargle',\n",
       " 'lp2bp',\n",
       " 'lp2bp_zpk',\n",
       " 'lp2bs',\n",
       " 'lp2bs_zpk',\n",
       " 'lp2hp',\n",
       " 'lp2hp_zpk',\n",
       " 'lp2lp',\n",
       " 'lp2lp_zpk',\n",
       " 'lsim',\n",
       " 'lsim2',\n",
       " 'lti',\n",
       " 'lti_conversion',\n",
       " 'ltisys',\n",
       " 'max_len_seq',\n",
       " 'medfilt',\n",
       " 'medfilt2d',\n",
       " 'minimum_phase',\n",
       " 'morlet',\n",
       " 'morlet2',\n",
       " 'normalize',\n",
       " 'nuttall',\n",
       " 'oaconvolve',\n",
       " 'order_filter',\n",
       " 'parzen',\n",
       " 'peak_prominences',\n",
       " 'peak_widths',\n",
       " 'periodogram',\n",
       " 'place_poles',\n",
       " 'qmf',\n",
       " 'qspline1d',\n",
       " 'qspline1d_eval',\n",
       " 'qspline2d',\n",
       " 'quadratic',\n",
       " 'remez',\n",
       " 'resample',\n",
       " 'resample_poly',\n",
       " 'residue',\n",
       " 'residuez',\n",
       " 'ricker',\n",
       " 'savgol_coeffs',\n",
       " 'savgol_filter',\n",
       " 'sawtooth',\n",
       " 'sepfir2d',\n",
       " 'signaltools',\n",
       " 'sos2tf',\n",
       " 'sos2zpk',\n",
       " 'sosfilt',\n",
       " 'sosfilt_zi',\n",
       " 'sosfiltfilt',\n",
       " 'sosfreqz',\n",
       " 'spectral',\n",
       " 'spectrogram',\n",
       " 'spline',\n",
       " 'spline_filter',\n",
       " 'square',\n",
       " 'ss2tf',\n",
       " 'ss2zpk',\n",
       " 'step',\n",
       " 'step2',\n",
       " 'stft',\n",
       " 'sweep_poly',\n",
       " 'symiirorder1',\n",
       " 'symiirorder2',\n",
       " 'test',\n",
       " 'tf2sos',\n",
       " 'tf2ss',\n",
       " 'tf2zpk',\n",
       " 'triang',\n",
       " 'tukey',\n",
       " 'unique_roots',\n",
       " 'unit_impulse',\n",
       " 'upfirdn',\n",
       " 'vectorstrength',\n",
       " 'waveforms',\n",
       " 'wavelets',\n",
       " 'welch',\n",
       " 'wiener',\n",
       " 'windows',\n",
       " 'zoom_fft',\n",
       " 'zpk2sos',\n",
       " 'zpk2ss',\n",
       " 'zpk2tf']"
      ]
     },
     "execution_count": 31,
     "metadata": {},
     "output_type": "execute_result"
    }
   ],
   "source": [
    "dir(scipy.signal)"
   ]
  },
  {
   "cell_type": "code",
   "execution_count": 32,
   "id": "8f630e0b",
   "metadata": {
    "ExecuteTime": {
     "end_time": "2022-07-06T06:47:54.788465Z",
     "start_time": "2022-07-06T06:47:54.769529Z"
    }
   },
   "outputs": [],
   "source": [
    "?scipy.signal.savgol_filter"
   ]
  },
  {
   "cell_type": "markdown",
   "id": "e542d710",
   "metadata": {},
   "source": [
    "# pymrmr"
   ]
  },
  {
   "cell_type": "code",
   "execution_count": 118,
   "id": "7d01b7d3",
   "metadata": {
    "ExecuteTime": {
     "end_time": "2022-09-09T06:05:06.505068Z",
     "start_time": "2022-09-09T06:05:06.500068Z"
    }
   },
   "outputs": [],
   "source": [
    "import pymrmr #使用MRMR选择特征"
   ]
  },
  {
   "cell_type": "code",
   "execution_count": 119,
   "id": "7c010c23",
   "metadata": {
    "ExecuteTime": {
     "end_time": "2022-09-09T06:05:07.221411Z",
     "start_time": "2022-09-09T06:05:07.210411Z"
    }
   },
   "outputs": [
    {
     "data": {
      "text/plain": [
       "['__builtins__',\n",
       " '__doc__',\n",
       " '__file__',\n",
       " '__loader__',\n",
       " '__name__',\n",
       " '__package__',\n",
       " '__spec__',\n",
       " '__test__',\n",
       " '__version__',\n",
       " 'mRMR',\n",
       " 'np',\n",
       " 'pd']"
      ]
     },
     "execution_count": 119,
     "metadata": {},
     "output_type": "execute_result"
    }
   ],
   "source": [
    "dir(pymrmr)"
   ]
  },
  {
   "cell_type": "code",
   "execution_count": 218,
   "id": "08856a65",
   "metadata": {
    "ExecuteTime": {
     "end_time": "2022-09-09T08:52:11.468344Z",
     "start_time": "2022-09-09T08:52:11.457345Z"
    }
   },
   "outputs": [],
   "source": [
    "file = \"D:\\\\Jupyter notebook\\\\DataSet\\\\Python\\\\data\\\\ionosphere.csv\"\n",
    "ionosphere = pd.read_csv(file, header=None)"
   ]
  },
  {
   "cell_type": "code",
   "execution_count": 219,
   "id": "125c20eb",
   "metadata": {
    "ExecuteTime": {
     "end_time": "2022-09-09T08:52:12.203792Z",
     "start_time": "2022-09-09T08:52:12.167794Z"
    }
   },
   "outputs": [
    {
     "data": {
      "text/html": [
       "<div>\n",
       "<style scoped>\n",
       "    .dataframe tbody tr th:only-of-type {\n",
       "        vertical-align: middle;\n",
       "    }\n",
       "\n",
       "    .dataframe tbody tr th {\n",
       "        vertical-align: top;\n",
       "    }\n",
       "\n",
       "    .dataframe thead th {\n",
       "        text-align: right;\n",
       "    }\n",
       "</style>\n",
       "<table border=\"1\" class=\"dataframe\">\n",
       "  <thead>\n",
       "    <tr style=\"text-align: right;\">\n",
       "      <th></th>\n",
       "      <th>0</th>\n",
       "      <th>1</th>\n",
       "      <th>2</th>\n",
       "      <th>3</th>\n",
       "      <th>4</th>\n",
       "      <th>5</th>\n",
       "      <th>6</th>\n",
       "      <th>7</th>\n",
       "      <th>8</th>\n",
       "      <th>9</th>\n",
       "      <th>...</th>\n",
       "      <th>25</th>\n",
       "      <th>26</th>\n",
       "      <th>27</th>\n",
       "      <th>28</th>\n",
       "      <th>29</th>\n",
       "      <th>30</th>\n",
       "      <th>31</th>\n",
       "      <th>32</th>\n",
       "      <th>33</th>\n",
       "      <th>34</th>\n",
       "    </tr>\n",
       "  </thead>\n",
       "  <tbody>\n",
       "    <tr>\n",
       "      <th>0</th>\n",
       "      <td>1</td>\n",
       "      <td>0</td>\n",
       "      <td>0.99539</td>\n",
       "      <td>-0.05889</td>\n",
       "      <td>0.85243</td>\n",
       "      <td>0.02306</td>\n",
       "      <td>0.83398</td>\n",
       "      <td>-0.37708</td>\n",
       "      <td>1.00000</td>\n",
       "      <td>0.03760</td>\n",
       "      <td>...</td>\n",
       "      <td>-0.51171</td>\n",
       "      <td>0.41078</td>\n",
       "      <td>-0.46168</td>\n",
       "      <td>0.21266</td>\n",
       "      <td>-0.34090</td>\n",
       "      <td>0.42267</td>\n",
       "      <td>-0.54487</td>\n",
       "      <td>0.18641</td>\n",
       "      <td>-0.45300</td>\n",
       "      <td>g</td>\n",
       "    </tr>\n",
       "    <tr>\n",
       "      <th>1</th>\n",
       "      <td>1</td>\n",
       "      <td>0</td>\n",
       "      <td>1.00000</td>\n",
       "      <td>-0.18829</td>\n",
       "      <td>0.93035</td>\n",
       "      <td>-0.36156</td>\n",
       "      <td>-0.10868</td>\n",
       "      <td>-0.93597</td>\n",
       "      <td>1.00000</td>\n",
       "      <td>-0.04549</td>\n",
       "      <td>...</td>\n",
       "      <td>-0.26569</td>\n",
       "      <td>-0.20468</td>\n",
       "      <td>-0.18401</td>\n",
       "      <td>-0.19040</td>\n",
       "      <td>-0.11593</td>\n",
       "      <td>-0.16626</td>\n",
       "      <td>-0.06288</td>\n",
       "      <td>-0.13738</td>\n",
       "      <td>-0.02447</td>\n",
       "      <td>b</td>\n",
       "    </tr>\n",
       "    <tr>\n",
       "      <th>2</th>\n",
       "      <td>1</td>\n",
       "      <td>0</td>\n",
       "      <td>1.00000</td>\n",
       "      <td>-0.03365</td>\n",
       "      <td>1.00000</td>\n",
       "      <td>0.00485</td>\n",
       "      <td>1.00000</td>\n",
       "      <td>-0.12062</td>\n",
       "      <td>0.88965</td>\n",
       "      <td>0.01198</td>\n",
       "      <td>...</td>\n",
       "      <td>-0.40220</td>\n",
       "      <td>0.58984</td>\n",
       "      <td>-0.22145</td>\n",
       "      <td>0.43100</td>\n",
       "      <td>-0.17365</td>\n",
       "      <td>0.60436</td>\n",
       "      <td>-0.24180</td>\n",
       "      <td>0.56045</td>\n",
       "      <td>-0.38238</td>\n",
       "      <td>g</td>\n",
       "    </tr>\n",
       "    <tr>\n",
       "      <th>3</th>\n",
       "      <td>1</td>\n",
       "      <td>0</td>\n",
       "      <td>1.00000</td>\n",
       "      <td>-0.45161</td>\n",
       "      <td>1.00000</td>\n",
       "      <td>1.00000</td>\n",
       "      <td>0.71216</td>\n",
       "      <td>-1.00000</td>\n",
       "      <td>0.00000</td>\n",
       "      <td>0.00000</td>\n",
       "      <td>...</td>\n",
       "      <td>0.90695</td>\n",
       "      <td>0.51613</td>\n",
       "      <td>1.00000</td>\n",
       "      <td>1.00000</td>\n",
       "      <td>-0.20099</td>\n",
       "      <td>0.25682</td>\n",
       "      <td>1.00000</td>\n",
       "      <td>-0.32382</td>\n",
       "      <td>1.00000</td>\n",
       "      <td>b</td>\n",
       "    </tr>\n",
       "    <tr>\n",
       "      <th>4</th>\n",
       "      <td>1</td>\n",
       "      <td>0</td>\n",
       "      <td>1.00000</td>\n",
       "      <td>-0.02401</td>\n",
       "      <td>0.94140</td>\n",
       "      <td>0.06531</td>\n",
       "      <td>0.92106</td>\n",
       "      <td>-0.23255</td>\n",
       "      <td>0.77152</td>\n",
       "      <td>-0.16399</td>\n",
       "      <td>...</td>\n",
       "      <td>-0.65158</td>\n",
       "      <td>0.13290</td>\n",
       "      <td>-0.53206</td>\n",
       "      <td>0.02431</td>\n",
       "      <td>-0.62197</td>\n",
       "      <td>-0.05707</td>\n",
       "      <td>-0.59573</td>\n",
       "      <td>-0.04608</td>\n",
       "      <td>-0.65697</td>\n",
       "      <td>g</td>\n",
       "    </tr>\n",
       "    <tr>\n",
       "      <th>...</th>\n",
       "      <td>...</td>\n",
       "      <td>...</td>\n",
       "      <td>...</td>\n",
       "      <td>...</td>\n",
       "      <td>...</td>\n",
       "      <td>...</td>\n",
       "      <td>...</td>\n",
       "      <td>...</td>\n",
       "      <td>...</td>\n",
       "      <td>...</td>\n",
       "      <td>...</td>\n",
       "      <td>...</td>\n",
       "      <td>...</td>\n",
       "      <td>...</td>\n",
       "      <td>...</td>\n",
       "      <td>...</td>\n",
       "      <td>...</td>\n",
       "      <td>...</td>\n",
       "      <td>...</td>\n",
       "      <td>...</td>\n",
       "      <td>...</td>\n",
       "    </tr>\n",
       "    <tr>\n",
       "      <th>346</th>\n",
       "      <td>1</td>\n",
       "      <td>0</td>\n",
       "      <td>0.83508</td>\n",
       "      <td>0.08298</td>\n",
       "      <td>0.73739</td>\n",
       "      <td>-0.14706</td>\n",
       "      <td>0.84349</td>\n",
       "      <td>-0.05567</td>\n",
       "      <td>0.90441</td>\n",
       "      <td>-0.04622</td>\n",
       "      <td>...</td>\n",
       "      <td>-0.04202</td>\n",
       "      <td>0.83479</td>\n",
       "      <td>0.00123</td>\n",
       "      <td>1.00000</td>\n",
       "      <td>0.12815</td>\n",
       "      <td>0.86660</td>\n",
       "      <td>-0.10714</td>\n",
       "      <td>0.90546</td>\n",
       "      <td>-0.04307</td>\n",
       "      <td>g</td>\n",
       "    </tr>\n",
       "    <tr>\n",
       "      <th>347</th>\n",
       "      <td>1</td>\n",
       "      <td>0</td>\n",
       "      <td>0.95113</td>\n",
       "      <td>0.00419</td>\n",
       "      <td>0.95183</td>\n",
       "      <td>-0.02723</td>\n",
       "      <td>0.93438</td>\n",
       "      <td>-0.01920</td>\n",
       "      <td>0.94590</td>\n",
       "      <td>0.01606</td>\n",
       "      <td>...</td>\n",
       "      <td>0.01361</td>\n",
       "      <td>0.93522</td>\n",
       "      <td>0.04925</td>\n",
       "      <td>0.93159</td>\n",
       "      <td>0.08168</td>\n",
       "      <td>0.94066</td>\n",
       "      <td>-0.00035</td>\n",
       "      <td>0.91483</td>\n",
       "      <td>0.04712</td>\n",
       "      <td>g</td>\n",
       "    </tr>\n",
       "    <tr>\n",
       "      <th>348</th>\n",
       "      <td>1</td>\n",
       "      <td>0</td>\n",
       "      <td>0.94701</td>\n",
       "      <td>-0.00034</td>\n",
       "      <td>0.93207</td>\n",
       "      <td>-0.03227</td>\n",
       "      <td>0.95177</td>\n",
       "      <td>-0.03431</td>\n",
       "      <td>0.95584</td>\n",
       "      <td>0.02446</td>\n",
       "      <td>...</td>\n",
       "      <td>0.03193</td>\n",
       "      <td>0.92489</td>\n",
       "      <td>0.02542</td>\n",
       "      <td>0.92120</td>\n",
       "      <td>0.02242</td>\n",
       "      <td>0.92459</td>\n",
       "      <td>0.00442</td>\n",
       "      <td>0.92697</td>\n",
       "      <td>-0.00577</td>\n",
       "      <td>g</td>\n",
       "    </tr>\n",
       "    <tr>\n",
       "      <th>349</th>\n",
       "      <td>1</td>\n",
       "      <td>0</td>\n",
       "      <td>0.90608</td>\n",
       "      <td>-0.01657</td>\n",
       "      <td>0.98122</td>\n",
       "      <td>-0.01989</td>\n",
       "      <td>0.95691</td>\n",
       "      <td>-0.03646</td>\n",
       "      <td>0.85746</td>\n",
       "      <td>0.00110</td>\n",
       "      <td>...</td>\n",
       "      <td>-0.02099</td>\n",
       "      <td>0.89147</td>\n",
       "      <td>-0.07760</td>\n",
       "      <td>0.82983</td>\n",
       "      <td>-0.17238</td>\n",
       "      <td>0.96022</td>\n",
       "      <td>-0.03757</td>\n",
       "      <td>0.87403</td>\n",
       "      <td>-0.16243</td>\n",
       "      <td>g</td>\n",
       "    </tr>\n",
       "    <tr>\n",
       "      <th>350</th>\n",
       "      <td>1</td>\n",
       "      <td>0</td>\n",
       "      <td>0.84710</td>\n",
       "      <td>0.13533</td>\n",
       "      <td>0.73638</td>\n",
       "      <td>-0.06151</td>\n",
       "      <td>0.87873</td>\n",
       "      <td>0.08260</td>\n",
       "      <td>0.88928</td>\n",
       "      <td>-0.09139</td>\n",
       "      <td>...</td>\n",
       "      <td>-0.15114</td>\n",
       "      <td>0.81147</td>\n",
       "      <td>-0.04822</td>\n",
       "      <td>0.78207</td>\n",
       "      <td>-0.00703</td>\n",
       "      <td>0.75747</td>\n",
       "      <td>-0.06678</td>\n",
       "      <td>0.85764</td>\n",
       "      <td>-0.06151</td>\n",
       "      <td>g</td>\n",
       "    </tr>\n",
       "  </tbody>\n",
       "</table>\n",
       "<p>351 rows × 35 columns</p>\n",
       "</div>"
      ],
      "text/plain": [
       "     0   1        2        3        4        5        6        7        8   \\\n",
       "0     1   0  0.99539 -0.05889  0.85243  0.02306  0.83398 -0.37708  1.00000   \n",
       "1     1   0  1.00000 -0.18829  0.93035 -0.36156 -0.10868 -0.93597  1.00000   \n",
       "2     1   0  1.00000 -0.03365  1.00000  0.00485  1.00000 -0.12062  0.88965   \n",
       "3     1   0  1.00000 -0.45161  1.00000  1.00000  0.71216 -1.00000  0.00000   \n",
       "4     1   0  1.00000 -0.02401  0.94140  0.06531  0.92106 -0.23255  0.77152   \n",
       "..   ..  ..      ...      ...      ...      ...      ...      ...      ...   \n",
       "346   1   0  0.83508  0.08298  0.73739 -0.14706  0.84349 -0.05567  0.90441   \n",
       "347   1   0  0.95113  0.00419  0.95183 -0.02723  0.93438 -0.01920  0.94590   \n",
       "348   1   0  0.94701 -0.00034  0.93207 -0.03227  0.95177 -0.03431  0.95584   \n",
       "349   1   0  0.90608 -0.01657  0.98122 -0.01989  0.95691 -0.03646  0.85746   \n",
       "350   1   0  0.84710  0.13533  0.73638 -0.06151  0.87873  0.08260  0.88928   \n",
       "\n",
       "          9   ...       25       26       27       28       29       30  \\\n",
       "0    0.03760  ... -0.51171  0.41078 -0.46168  0.21266 -0.34090  0.42267   \n",
       "1   -0.04549  ... -0.26569 -0.20468 -0.18401 -0.19040 -0.11593 -0.16626   \n",
       "2    0.01198  ... -0.40220  0.58984 -0.22145  0.43100 -0.17365  0.60436   \n",
       "3    0.00000  ...  0.90695  0.51613  1.00000  1.00000 -0.20099  0.25682   \n",
       "4   -0.16399  ... -0.65158  0.13290 -0.53206  0.02431 -0.62197 -0.05707   \n",
       "..       ...  ...      ...      ...      ...      ...      ...      ...   \n",
       "346 -0.04622  ... -0.04202  0.83479  0.00123  1.00000  0.12815  0.86660   \n",
       "347  0.01606  ...  0.01361  0.93522  0.04925  0.93159  0.08168  0.94066   \n",
       "348  0.02446  ...  0.03193  0.92489  0.02542  0.92120  0.02242  0.92459   \n",
       "349  0.00110  ... -0.02099  0.89147 -0.07760  0.82983 -0.17238  0.96022   \n",
       "350 -0.09139  ... -0.15114  0.81147 -0.04822  0.78207 -0.00703  0.75747   \n",
       "\n",
       "          31       32       33  34  \n",
       "0   -0.54487  0.18641 -0.45300   g  \n",
       "1   -0.06288 -0.13738 -0.02447   b  \n",
       "2   -0.24180  0.56045 -0.38238   g  \n",
       "3    1.00000 -0.32382  1.00000   b  \n",
       "4   -0.59573 -0.04608 -0.65697   g  \n",
       "..       ...      ...      ...  ..  \n",
       "346 -0.10714  0.90546 -0.04307   g  \n",
       "347 -0.00035  0.91483  0.04712   g  \n",
       "348  0.00442  0.92697 -0.00577   g  \n",
       "349 -0.03757  0.87403 -0.16243   g  \n",
       "350 -0.06678  0.85764 -0.06151   g  \n",
       "\n",
       "[351 rows x 35 columns]"
      ]
     },
     "execution_count": 219,
     "metadata": {},
     "output_type": "execute_result"
    }
   ],
   "source": [
    "ionosphere"
   ]
  },
  {
   "cell_type": "code",
   "execution_count": 227,
   "id": "413639cf",
   "metadata": {
    "ExecuteTime": {
     "end_time": "2022-09-09T09:00:18.657999Z",
     "start_time": "2022-09-09T09:00:18.647998Z"
    }
   },
   "outputs": [
    {
     "data": {
      "text/plain": [
       "array(['g', 'b', 'g', 'b', 'g', 'b', 'g', 'b', 'g', 'b', 'g', 'b', 'g',\n",
       "       'b', 'g', 'b', 'g', 'b', 'g', 'b', 'g', 'b', 'g', 'b', 'g', 'b',\n",
       "       'g', 'b', 'g', 'b', 'g', 'b', 'g', 'b', 'g', 'b', 'g', 'b', 'g',\n",
       "       'b', 'g', 'b', 'g', 'b', 'g', 'b', 'g', 'b', 'g', 'b', 'g', 'b',\n",
       "       'g', 'b', 'g', 'b', 'g', 'b', 'g', 'b', 'g', 'b', 'g', 'b', 'g',\n",
       "       'b', 'g', 'b', 'g', 'b', 'g', 'b', 'g', 'b', 'g', 'b', 'g', 'b',\n",
       "       'g', 'b', 'g', 'b', 'g', 'b', 'g', 'b', 'g', 'b', 'g', 'b', 'g',\n",
       "       'b', 'g', 'b', 'g', 'b', 'g', 'g', 'b', 'g', 'b', 'g', 'b', 'g',\n",
       "       'b', 'g', 'b', 'g', 'b', 'g', 'b', 'g', 'b', 'g', 'b', 'g', 'b',\n",
       "       'g', 'b', 'g', 'b', 'g', 'b', 'g', 'b', 'g', 'b', 'g', 'b', 'g',\n",
       "       'b', 'g', 'b', 'g', 'b', 'g', 'b', 'g', 'b', 'g', 'b', 'g', 'b',\n",
       "       'g', 'b', 'g', 'b', 'g', 'b', 'g', 'b', 'g', 'b', 'g', 'b', 'g',\n",
       "       'b', 'g', 'b', 'g', 'b', 'g', 'b', 'g', 'b', 'g', 'b', 'g', 'b',\n",
       "       'g', 'b', 'g', 'b', 'g', 'b', 'g', 'b', 'g', 'b', 'g', 'b', 'g',\n",
       "       'b', 'g', 'b', 'g', 'b', 'g', 'b', 'g', 'b', 'g', 'b', 'g', 'b',\n",
       "       'g', 'b', 'g', 'b', 'g', 'b', 'g', 'b', 'g', 'b', 'g', 'b', 'g',\n",
       "       'b', 'g', 'b', 'g', 'b', 'g', 'b', 'g', 'b', 'g', 'b', 'g', 'b',\n",
       "       'g', 'b', 'g', 'b', 'g', 'b', 'g', 'b', 'g', 'b', 'g', 'b', 'g',\n",
       "       'b', 'g', 'b', 'g', 'b', 'g', 'b', 'g', 'b', 'g', 'b', 'g', 'b',\n",
       "       'g', 'b', 'g', 'b', 'g', 'b', 'g', 'g', 'g', 'g', 'g', 'g', 'g',\n",
       "       'g', 'g', 'g', 'g', 'g', 'g', 'g', 'g', 'g', 'g', 'g', 'g', 'g',\n",
       "       'g', 'g', 'g', 'g', 'g', 'g', 'g', 'g', 'g', 'g', 'g', 'g', 'g',\n",
       "       'g', 'g', 'g', 'g', 'g', 'g', 'g', 'g', 'g', 'g', 'g', 'g', 'g',\n",
       "       'g', 'g', 'g', 'g', 'g', 'g', 'g', 'g', 'g', 'g', 'g', 'g', 'g',\n",
       "       'g', 'g', 'g', 'g', 'g', 'g', 'g', 'g', 'g', 'g', 'g', 'g', 'g',\n",
       "       'g', 'g', 'g', 'g', 'g', 'g', 'g', 'g', 'g', 'g', 'g', 'g', 'g',\n",
       "       'g', 'g', 'g', 'g', 'g', 'g', 'g', 'g', 'g', 'g', 'g', 'g', 'g'],\n",
       "      dtype=object)"
      ]
     },
     "execution_count": 227,
     "metadata": {},
     "output_type": "execute_result"
    }
   ],
   "source": [
    "ionosphere.iloc[:, -1].values"
   ]
  },
  {
   "cell_type": "code",
   "execution_count": 230,
   "id": "7758ca99",
   "metadata": {
    "ExecuteTime": {
     "end_time": "2022-09-09T09:05:37.125170Z",
     "start_time": "2022-09-09T09:05:37.114171Z"
    }
   },
   "outputs": [
    {
     "data": {
      "text/plain": [
       "'g'"
      ]
     },
     "execution_count": 230,
     "metadata": {},
     "output_type": "execute_result"
    }
   ],
   "source": [
    "list(set(ionosphere.iloc[:, -1].values))[0]"
   ]
  },
  {
   "cell_type": "code",
   "execution_count": 231,
   "id": "09370c00",
   "metadata": {
    "ExecuteTime": {
     "end_time": "2022-09-09T09:06:33.806764Z",
     "start_time": "2022-09-09T09:06:33.678798Z"
    }
   },
   "outputs": [],
   "source": [
    "data = ionosphere\n",
    "for i in range(data.shape[0]):\n",
    "    if type(data.iloc[:, -1][i]) != int:\n",
    "        for j in range(len(set(data.iloc[:, -1].values))):\n",
    "            data = data.replace(list(set(data.iloc[:, -1].values))[j],j)"
   ]
  },
  {
   "cell_type": "code",
   "execution_count": 232,
   "id": "c526d344",
   "metadata": {
    "ExecuteTime": {
     "end_time": "2022-09-09T09:06:43.793956Z",
     "start_time": "2022-09-09T09:06:43.755959Z"
    }
   },
   "outputs": [
    {
     "data": {
      "text/html": [
       "<div>\n",
       "<style scoped>\n",
       "    .dataframe tbody tr th:only-of-type {\n",
       "        vertical-align: middle;\n",
       "    }\n",
       "\n",
       "    .dataframe tbody tr th {\n",
       "        vertical-align: top;\n",
       "    }\n",
       "\n",
       "    .dataframe thead th {\n",
       "        text-align: right;\n",
       "    }\n",
       "</style>\n",
       "<table border=\"1\" class=\"dataframe\">\n",
       "  <thead>\n",
       "    <tr style=\"text-align: right;\">\n",
       "      <th></th>\n",
       "      <th>0</th>\n",
       "      <th>1</th>\n",
       "      <th>2</th>\n",
       "      <th>3</th>\n",
       "      <th>4</th>\n",
       "      <th>5</th>\n",
       "      <th>6</th>\n",
       "      <th>7</th>\n",
       "      <th>8</th>\n",
       "      <th>9</th>\n",
       "      <th>...</th>\n",
       "      <th>25</th>\n",
       "      <th>26</th>\n",
       "      <th>27</th>\n",
       "      <th>28</th>\n",
       "      <th>29</th>\n",
       "      <th>30</th>\n",
       "      <th>31</th>\n",
       "      <th>32</th>\n",
       "      <th>33</th>\n",
       "      <th>34</th>\n",
       "    </tr>\n",
       "  </thead>\n",
       "  <tbody>\n",
       "    <tr>\n",
       "      <th>0</th>\n",
       "      <td>1</td>\n",
       "      <td>0</td>\n",
       "      <td>0.99539</td>\n",
       "      <td>-0.05889</td>\n",
       "      <td>0.85243</td>\n",
       "      <td>0.02306</td>\n",
       "      <td>0.83398</td>\n",
       "      <td>-0.37708</td>\n",
       "      <td>1.00000</td>\n",
       "      <td>0.03760</td>\n",
       "      <td>...</td>\n",
       "      <td>-0.51171</td>\n",
       "      <td>0.41078</td>\n",
       "      <td>-0.46168</td>\n",
       "      <td>0.21266</td>\n",
       "      <td>-0.34090</td>\n",
       "      <td>0.42267</td>\n",
       "      <td>-0.54487</td>\n",
       "      <td>0.18641</td>\n",
       "      <td>-0.45300</td>\n",
       "      <td>0</td>\n",
       "    </tr>\n",
       "    <tr>\n",
       "      <th>1</th>\n",
       "      <td>1</td>\n",
       "      <td>0</td>\n",
       "      <td>1.00000</td>\n",
       "      <td>-0.18829</td>\n",
       "      <td>0.93035</td>\n",
       "      <td>-0.36156</td>\n",
       "      <td>-0.10868</td>\n",
       "      <td>-0.93597</td>\n",
       "      <td>1.00000</td>\n",
       "      <td>-0.04549</td>\n",
       "      <td>...</td>\n",
       "      <td>-0.26569</td>\n",
       "      <td>-0.20468</td>\n",
       "      <td>-0.18401</td>\n",
       "      <td>-0.19040</td>\n",
       "      <td>-0.11593</td>\n",
       "      <td>-0.16626</td>\n",
       "      <td>-0.06288</td>\n",
       "      <td>-0.13738</td>\n",
       "      <td>-0.02447</td>\n",
       "      <td>1</td>\n",
       "    </tr>\n",
       "    <tr>\n",
       "      <th>2</th>\n",
       "      <td>1</td>\n",
       "      <td>0</td>\n",
       "      <td>1.00000</td>\n",
       "      <td>-0.03365</td>\n",
       "      <td>1.00000</td>\n",
       "      <td>0.00485</td>\n",
       "      <td>1.00000</td>\n",
       "      <td>-0.12062</td>\n",
       "      <td>0.88965</td>\n",
       "      <td>0.01198</td>\n",
       "      <td>...</td>\n",
       "      <td>-0.40220</td>\n",
       "      <td>0.58984</td>\n",
       "      <td>-0.22145</td>\n",
       "      <td>0.43100</td>\n",
       "      <td>-0.17365</td>\n",
       "      <td>0.60436</td>\n",
       "      <td>-0.24180</td>\n",
       "      <td>0.56045</td>\n",
       "      <td>-0.38238</td>\n",
       "      <td>0</td>\n",
       "    </tr>\n",
       "    <tr>\n",
       "      <th>3</th>\n",
       "      <td>1</td>\n",
       "      <td>0</td>\n",
       "      <td>1.00000</td>\n",
       "      <td>-0.45161</td>\n",
       "      <td>1.00000</td>\n",
       "      <td>1.00000</td>\n",
       "      <td>0.71216</td>\n",
       "      <td>-1.00000</td>\n",
       "      <td>0.00000</td>\n",
       "      <td>0.00000</td>\n",
       "      <td>...</td>\n",
       "      <td>0.90695</td>\n",
       "      <td>0.51613</td>\n",
       "      <td>1.00000</td>\n",
       "      <td>1.00000</td>\n",
       "      <td>-0.20099</td>\n",
       "      <td>0.25682</td>\n",
       "      <td>1.00000</td>\n",
       "      <td>-0.32382</td>\n",
       "      <td>1.00000</td>\n",
       "      <td>1</td>\n",
       "    </tr>\n",
       "    <tr>\n",
       "      <th>4</th>\n",
       "      <td>1</td>\n",
       "      <td>0</td>\n",
       "      <td>1.00000</td>\n",
       "      <td>-0.02401</td>\n",
       "      <td>0.94140</td>\n",
       "      <td>0.06531</td>\n",
       "      <td>0.92106</td>\n",
       "      <td>-0.23255</td>\n",
       "      <td>0.77152</td>\n",
       "      <td>-0.16399</td>\n",
       "      <td>...</td>\n",
       "      <td>-0.65158</td>\n",
       "      <td>0.13290</td>\n",
       "      <td>-0.53206</td>\n",
       "      <td>0.02431</td>\n",
       "      <td>-0.62197</td>\n",
       "      <td>-0.05707</td>\n",
       "      <td>-0.59573</td>\n",
       "      <td>-0.04608</td>\n",
       "      <td>-0.65697</td>\n",
       "      <td>0</td>\n",
       "    </tr>\n",
       "    <tr>\n",
       "      <th>...</th>\n",
       "      <td>...</td>\n",
       "      <td>...</td>\n",
       "      <td>...</td>\n",
       "      <td>...</td>\n",
       "      <td>...</td>\n",
       "      <td>...</td>\n",
       "      <td>...</td>\n",
       "      <td>...</td>\n",
       "      <td>...</td>\n",
       "      <td>...</td>\n",
       "      <td>...</td>\n",
       "      <td>...</td>\n",
       "      <td>...</td>\n",
       "      <td>...</td>\n",
       "      <td>...</td>\n",
       "      <td>...</td>\n",
       "      <td>...</td>\n",
       "      <td>...</td>\n",
       "      <td>...</td>\n",
       "      <td>...</td>\n",
       "      <td>...</td>\n",
       "    </tr>\n",
       "    <tr>\n",
       "      <th>346</th>\n",
       "      <td>1</td>\n",
       "      <td>0</td>\n",
       "      <td>0.83508</td>\n",
       "      <td>0.08298</td>\n",
       "      <td>0.73739</td>\n",
       "      <td>-0.14706</td>\n",
       "      <td>0.84349</td>\n",
       "      <td>-0.05567</td>\n",
       "      <td>0.90441</td>\n",
       "      <td>-0.04622</td>\n",
       "      <td>...</td>\n",
       "      <td>-0.04202</td>\n",
       "      <td>0.83479</td>\n",
       "      <td>0.00123</td>\n",
       "      <td>1.00000</td>\n",
       "      <td>0.12815</td>\n",
       "      <td>0.86660</td>\n",
       "      <td>-0.10714</td>\n",
       "      <td>0.90546</td>\n",
       "      <td>-0.04307</td>\n",
       "      <td>0</td>\n",
       "    </tr>\n",
       "    <tr>\n",
       "      <th>347</th>\n",
       "      <td>1</td>\n",
       "      <td>0</td>\n",
       "      <td>0.95113</td>\n",
       "      <td>0.00419</td>\n",
       "      <td>0.95183</td>\n",
       "      <td>-0.02723</td>\n",
       "      <td>0.93438</td>\n",
       "      <td>-0.01920</td>\n",
       "      <td>0.94590</td>\n",
       "      <td>0.01606</td>\n",
       "      <td>...</td>\n",
       "      <td>0.01361</td>\n",
       "      <td>0.93522</td>\n",
       "      <td>0.04925</td>\n",
       "      <td>0.93159</td>\n",
       "      <td>0.08168</td>\n",
       "      <td>0.94066</td>\n",
       "      <td>-0.00035</td>\n",
       "      <td>0.91483</td>\n",
       "      <td>0.04712</td>\n",
       "      <td>0</td>\n",
       "    </tr>\n",
       "    <tr>\n",
       "      <th>348</th>\n",
       "      <td>1</td>\n",
       "      <td>0</td>\n",
       "      <td>0.94701</td>\n",
       "      <td>-0.00034</td>\n",
       "      <td>0.93207</td>\n",
       "      <td>-0.03227</td>\n",
       "      <td>0.95177</td>\n",
       "      <td>-0.03431</td>\n",
       "      <td>0.95584</td>\n",
       "      <td>0.02446</td>\n",
       "      <td>...</td>\n",
       "      <td>0.03193</td>\n",
       "      <td>0.92489</td>\n",
       "      <td>0.02542</td>\n",
       "      <td>0.92120</td>\n",
       "      <td>0.02242</td>\n",
       "      <td>0.92459</td>\n",
       "      <td>0.00442</td>\n",
       "      <td>0.92697</td>\n",
       "      <td>-0.00577</td>\n",
       "      <td>0</td>\n",
       "    </tr>\n",
       "    <tr>\n",
       "      <th>349</th>\n",
       "      <td>1</td>\n",
       "      <td>0</td>\n",
       "      <td>0.90608</td>\n",
       "      <td>-0.01657</td>\n",
       "      <td>0.98122</td>\n",
       "      <td>-0.01989</td>\n",
       "      <td>0.95691</td>\n",
       "      <td>-0.03646</td>\n",
       "      <td>0.85746</td>\n",
       "      <td>0.00110</td>\n",
       "      <td>...</td>\n",
       "      <td>-0.02099</td>\n",
       "      <td>0.89147</td>\n",
       "      <td>-0.07760</td>\n",
       "      <td>0.82983</td>\n",
       "      <td>-0.17238</td>\n",
       "      <td>0.96022</td>\n",
       "      <td>-0.03757</td>\n",
       "      <td>0.87403</td>\n",
       "      <td>-0.16243</td>\n",
       "      <td>0</td>\n",
       "    </tr>\n",
       "    <tr>\n",
       "      <th>350</th>\n",
       "      <td>1</td>\n",
       "      <td>0</td>\n",
       "      <td>0.84710</td>\n",
       "      <td>0.13533</td>\n",
       "      <td>0.73638</td>\n",
       "      <td>-0.06151</td>\n",
       "      <td>0.87873</td>\n",
       "      <td>0.08260</td>\n",
       "      <td>0.88928</td>\n",
       "      <td>-0.09139</td>\n",
       "      <td>...</td>\n",
       "      <td>-0.15114</td>\n",
       "      <td>0.81147</td>\n",
       "      <td>-0.04822</td>\n",
       "      <td>0.78207</td>\n",
       "      <td>-0.00703</td>\n",
       "      <td>0.75747</td>\n",
       "      <td>-0.06678</td>\n",
       "      <td>0.85764</td>\n",
       "      <td>-0.06151</td>\n",
       "      <td>0</td>\n",
       "    </tr>\n",
       "  </tbody>\n",
       "</table>\n",
       "<p>351 rows × 35 columns</p>\n",
       "</div>"
      ],
      "text/plain": [
       "     0   1        2        3        4        5        6        7        8   \\\n",
       "0     1   0  0.99539 -0.05889  0.85243  0.02306  0.83398 -0.37708  1.00000   \n",
       "1     1   0  1.00000 -0.18829  0.93035 -0.36156 -0.10868 -0.93597  1.00000   \n",
       "2     1   0  1.00000 -0.03365  1.00000  0.00485  1.00000 -0.12062  0.88965   \n",
       "3     1   0  1.00000 -0.45161  1.00000  1.00000  0.71216 -1.00000  0.00000   \n",
       "4     1   0  1.00000 -0.02401  0.94140  0.06531  0.92106 -0.23255  0.77152   \n",
       "..   ..  ..      ...      ...      ...      ...      ...      ...      ...   \n",
       "346   1   0  0.83508  0.08298  0.73739 -0.14706  0.84349 -0.05567  0.90441   \n",
       "347   1   0  0.95113  0.00419  0.95183 -0.02723  0.93438 -0.01920  0.94590   \n",
       "348   1   0  0.94701 -0.00034  0.93207 -0.03227  0.95177 -0.03431  0.95584   \n",
       "349   1   0  0.90608 -0.01657  0.98122 -0.01989  0.95691 -0.03646  0.85746   \n",
       "350   1   0  0.84710  0.13533  0.73638 -0.06151  0.87873  0.08260  0.88928   \n",
       "\n",
       "          9   ...       25       26       27       28       29       30  \\\n",
       "0    0.03760  ... -0.51171  0.41078 -0.46168  0.21266 -0.34090  0.42267   \n",
       "1   -0.04549  ... -0.26569 -0.20468 -0.18401 -0.19040 -0.11593 -0.16626   \n",
       "2    0.01198  ... -0.40220  0.58984 -0.22145  0.43100 -0.17365  0.60436   \n",
       "3    0.00000  ...  0.90695  0.51613  1.00000  1.00000 -0.20099  0.25682   \n",
       "4   -0.16399  ... -0.65158  0.13290 -0.53206  0.02431 -0.62197 -0.05707   \n",
       "..       ...  ...      ...      ...      ...      ...      ...      ...   \n",
       "346 -0.04622  ... -0.04202  0.83479  0.00123  1.00000  0.12815  0.86660   \n",
       "347  0.01606  ...  0.01361  0.93522  0.04925  0.93159  0.08168  0.94066   \n",
       "348  0.02446  ...  0.03193  0.92489  0.02542  0.92120  0.02242  0.92459   \n",
       "349  0.00110  ... -0.02099  0.89147 -0.07760  0.82983 -0.17238  0.96022   \n",
       "350 -0.09139  ... -0.15114  0.81147 -0.04822  0.78207 -0.00703  0.75747   \n",
       "\n",
       "          31       32       33  34  \n",
       "0   -0.54487  0.18641 -0.45300   0  \n",
       "1   -0.06288 -0.13738 -0.02447   1  \n",
       "2   -0.24180  0.56045 -0.38238   0  \n",
       "3    1.00000 -0.32382  1.00000   1  \n",
       "4   -0.59573 -0.04608 -0.65697   0  \n",
       "..       ...      ...      ...  ..  \n",
       "346 -0.10714  0.90546 -0.04307   0  \n",
       "347 -0.00035  0.91483  0.04712   0  \n",
       "348  0.00442  0.92697 -0.00577   0  \n",
       "349 -0.03757  0.87403 -0.16243   0  \n",
       "350 -0.06678  0.85764 -0.06151   0  \n",
       "\n",
       "[351 rows x 35 columns]"
      ]
     },
     "execution_count": 232,
     "metadata": {},
     "output_type": "execute_result"
    }
   ],
   "source": [
    "ionosphere"
   ]
  },
  {
   "cell_type": "code",
   "execution_count": 167,
   "id": "8f944b73",
   "metadata": {
    "ExecuteTime": {
     "end_time": "2022-09-09T08:02:26.837234Z",
     "start_time": "2022-09-09T08:02:26.820234Z"
    }
   },
   "outputs": [
    {
     "data": {
      "text/plain": [
       "Int64Index([ 0,  1,  2,  3,  4,  5,  6,  7,  8,  9, 10, 11, 12, 13, 14, 15, 16,\n",
       "            17, 18, 19, 20, 21, 22, 23, 24, 25, 26, 27, 28, 29, 30, 31, 32, 33,\n",
       "            34],\n",
       "           dtype='int64')"
      ]
     },
     "execution_count": 167,
     "metadata": {},
     "output_type": "execute_result"
    }
   ],
   "source": [
    "ionosphere.columns"
   ]
  },
  {
   "cell_type": "code",
   "execution_count": 203,
   "id": "ed2e0c79",
   "metadata": {
    "ExecuteTime": {
     "end_time": "2022-09-09T08:15:31.083529Z",
     "start_time": "2022-09-09T08:15:31.065531Z"
    }
   },
   "outputs": [],
   "source": [
    "c = []\n",
    "for i in ionosphere.columns:\n",
    "    c.append(\"a\"+str(i))"
   ]
  },
  {
   "cell_type": "code",
   "execution_count": 204,
   "id": "174e114d",
   "metadata": {
    "ExecuteTime": {
     "end_time": "2022-09-09T08:15:32.156965Z",
     "start_time": "2022-09-09T08:15:32.149966Z"
    }
   },
   "outputs": [
    {
     "data": {
      "text/plain": [
       "['a0',\n",
       " 'a1',\n",
       " 'a2',\n",
       " 'a3',\n",
       " 'a4',\n",
       " 'a5',\n",
       " 'a6',\n",
       " 'a7',\n",
       " 'a8',\n",
       " 'a9',\n",
       " 'a10',\n",
       " 'a11',\n",
       " 'a12',\n",
       " 'a13',\n",
       " 'a14',\n",
       " 'a15',\n",
       " 'a16',\n",
       " 'a17',\n",
       " 'a18',\n",
       " 'a19',\n",
       " 'a20',\n",
       " 'a21',\n",
       " 'a22',\n",
       " 'a23',\n",
       " 'a24',\n",
       " 'a25',\n",
       " 'a26',\n",
       " 'a27',\n",
       " 'a28',\n",
       " 'a29',\n",
       " 'a30',\n",
       " 'a31',\n",
       " 'a32',\n",
       " 'a33',\n",
       " 'a34']"
      ]
     },
     "execution_count": 204,
     "metadata": {},
     "output_type": "execute_result"
    }
   ],
   "source": [
    "c"
   ]
  },
  {
   "cell_type": "code",
   "execution_count": 205,
   "id": "a7a61d92",
   "metadata": {
    "ExecuteTime": {
     "end_time": "2022-09-09T08:15:51.600136Z",
     "start_time": "2022-09-09T08:15:51.589136Z"
    }
   },
   "outputs": [],
   "source": [
    "ionosphere = ionosphere.rename(columns = dict(zip(ionosphere.columns, c)))"
   ]
  },
  {
   "cell_type": "code",
   "execution_count": 206,
   "id": "c3ce849f",
   "metadata": {
    "ExecuteTime": {
     "end_time": "2022-09-09T08:15:55.417167Z",
     "start_time": "2022-09-09T08:15:55.404167Z"
    }
   },
   "outputs": [
    {
     "data": {
      "text/html": [
       "<div>\n",
       "<style scoped>\n",
       "    .dataframe tbody tr th:only-of-type {\n",
       "        vertical-align: middle;\n",
       "    }\n",
       "\n",
       "    .dataframe tbody tr th {\n",
       "        vertical-align: top;\n",
       "    }\n",
       "\n",
       "    .dataframe thead th {\n",
       "        text-align: right;\n",
       "    }\n",
       "</style>\n",
       "<table border=\"1\" class=\"dataframe\">\n",
       "  <thead>\n",
       "    <tr style=\"text-align: right;\">\n",
       "      <th></th>\n",
       "      <th>a34</th>\n",
       "    </tr>\n",
       "  </thead>\n",
       "  <tbody>\n",
       "    <tr>\n",
       "      <th>0</th>\n",
       "      <td>g</td>\n",
       "    </tr>\n",
       "    <tr>\n",
       "      <th>1</th>\n",
       "      <td>b</td>\n",
       "    </tr>\n",
       "    <tr>\n",
       "      <th>2</th>\n",
       "      <td>g</td>\n",
       "    </tr>\n",
       "    <tr>\n",
       "      <th>3</th>\n",
       "      <td>b</td>\n",
       "    </tr>\n",
       "    <tr>\n",
       "      <th>4</th>\n",
       "      <td>g</td>\n",
       "    </tr>\n",
       "    <tr>\n",
       "      <th>...</th>\n",
       "      <td>...</td>\n",
       "    </tr>\n",
       "    <tr>\n",
       "      <th>346</th>\n",
       "      <td>g</td>\n",
       "    </tr>\n",
       "    <tr>\n",
       "      <th>347</th>\n",
       "      <td>g</td>\n",
       "    </tr>\n",
       "    <tr>\n",
       "      <th>348</th>\n",
       "      <td>g</td>\n",
       "    </tr>\n",
       "    <tr>\n",
       "      <th>349</th>\n",
       "      <td>g</td>\n",
       "    </tr>\n",
       "    <tr>\n",
       "      <th>350</th>\n",
       "      <td>g</td>\n",
       "    </tr>\n",
       "  </tbody>\n",
       "</table>\n",
       "<p>351 rows × 1 columns</p>\n",
       "</div>"
      ],
      "text/plain": [
       "    a34\n",
       "0     g\n",
       "1     b\n",
       "2     g\n",
       "3     b\n",
       "4     g\n",
       "..   ..\n",
       "346   g\n",
       "347   g\n",
       "348   g\n",
       "349   g\n",
       "350   g\n",
       "\n",
       "[351 rows x 1 columns]"
      ]
     },
     "execution_count": 206,
     "metadata": {},
     "output_type": "execute_result"
    }
   ],
   "source": [
    "pd.DataFrame({\"a34\":ionosphere[\"a34\"]})"
   ]
  },
  {
   "cell_type": "code",
   "execution_count": 215,
   "id": "87c0efc0",
   "metadata": {
    "ExecuteTime": {
     "end_time": "2022-09-09T08:47:46.110451Z",
     "start_time": "2022-09-09T08:47:46.091451Z"
    }
   },
   "outputs": [],
   "source": [
    "ionosphere = ionosphere.replace(\"g\",0)\n",
    "ionosphere = ionosphere.replace(\"b\",1)"
   ]
  },
  {
   "cell_type": "code",
   "execution_count": 207,
   "id": "625cd740",
   "metadata": {
    "ExecuteTime": {
     "end_time": "2022-09-09T08:16:00.969926Z",
     "start_time": "2022-09-09T08:16:00.944927Z"
    }
   },
   "outputs": [
    {
     "data": {
      "text/html": [
       "<div>\n",
       "<style scoped>\n",
       "    .dataframe tbody tr th:only-of-type {\n",
       "        vertical-align: middle;\n",
       "    }\n",
       "\n",
       "    .dataframe tbody tr th {\n",
       "        vertical-align: top;\n",
       "    }\n",
       "\n",
       "    .dataframe thead th {\n",
       "        text-align: right;\n",
       "    }\n",
       "</style>\n",
       "<table border=\"1\" class=\"dataframe\">\n",
       "  <thead>\n",
       "    <tr style=\"text-align: right;\">\n",
       "      <th></th>\n",
       "      <th>a0</th>\n",
       "      <th>a1</th>\n",
       "      <th>a2</th>\n",
       "      <th>a3</th>\n",
       "      <th>a4</th>\n",
       "      <th>a5</th>\n",
       "      <th>a6</th>\n",
       "      <th>a7</th>\n",
       "      <th>a8</th>\n",
       "      <th>a9</th>\n",
       "      <th>...</th>\n",
       "      <th>a24</th>\n",
       "      <th>a25</th>\n",
       "      <th>a26</th>\n",
       "      <th>a27</th>\n",
       "      <th>a28</th>\n",
       "      <th>a29</th>\n",
       "      <th>a30</th>\n",
       "      <th>a31</th>\n",
       "      <th>a32</th>\n",
       "      <th>a33</th>\n",
       "    </tr>\n",
       "  </thead>\n",
       "  <tbody>\n",
       "    <tr>\n",
       "      <th>0</th>\n",
       "      <td>1</td>\n",
       "      <td>0</td>\n",
       "      <td>0.99539</td>\n",
       "      <td>-0.05889</td>\n",
       "      <td>0.85243</td>\n",
       "      <td>0.02306</td>\n",
       "      <td>0.83398</td>\n",
       "      <td>-0.37708</td>\n",
       "      <td>1.00000</td>\n",
       "      <td>0.03760</td>\n",
       "      <td>...</td>\n",
       "      <td>0.56811</td>\n",
       "      <td>-0.51171</td>\n",
       "      <td>0.41078</td>\n",
       "      <td>-0.46168</td>\n",
       "      <td>0.21266</td>\n",
       "      <td>-0.34090</td>\n",
       "      <td>0.42267</td>\n",
       "      <td>-0.54487</td>\n",
       "      <td>0.18641</td>\n",
       "      <td>-0.45300</td>\n",
       "    </tr>\n",
       "    <tr>\n",
       "      <th>1</th>\n",
       "      <td>1</td>\n",
       "      <td>0</td>\n",
       "      <td>1.00000</td>\n",
       "      <td>-0.18829</td>\n",
       "      <td>0.93035</td>\n",
       "      <td>-0.36156</td>\n",
       "      <td>-0.10868</td>\n",
       "      <td>-0.93597</td>\n",
       "      <td>1.00000</td>\n",
       "      <td>-0.04549</td>\n",
       "      <td>...</td>\n",
       "      <td>-0.20332</td>\n",
       "      <td>-0.26569</td>\n",
       "      <td>-0.20468</td>\n",
       "      <td>-0.18401</td>\n",
       "      <td>-0.19040</td>\n",
       "      <td>-0.11593</td>\n",
       "      <td>-0.16626</td>\n",
       "      <td>-0.06288</td>\n",
       "      <td>-0.13738</td>\n",
       "      <td>-0.02447</td>\n",
       "    </tr>\n",
       "    <tr>\n",
       "      <th>2</th>\n",
       "      <td>1</td>\n",
       "      <td>0</td>\n",
       "      <td>1.00000</td>\n",
       "      <td>-0.03365</td>\n",
       "      <td>1.00000</td>\n",
       "      <td>0.00485</td>\n",
       "      <td>1.00000</td>\n",
       "      <td>-0.12062</td>\n",
       "      <td>0.88965</td>\n",
       "      <td>0.01198</td>\n",
       "      <td>...</td>\n",
       "      <td>0.57528</td>\n",
       "      <td>-0.40220</td>\n",
       "      <td>0.58984</td>\n",
       "      <td>-0.22145</td>\n",
       "      <td>0.43100</td>\n",
       "      <td>-0.17365</td>\n",
       "      <td>0.60436</td>\n",
       "      <td>-0.24180</td>\n",
       "      <td>0.56045</td>\n",
       "      <td>-0.38238</td>\n",
       "    </tr>\n",
       "    <tr>\n",
       "      <th>3</th>\n",
       "      <td>1</td>\n",
       "      <td>0</td>\n",
       "      <td>1.00000</td>\n",
       "      <td>-0.45161</td>\n",
       "      <td>1.00000</td>\n",
       "      <td>1.00000</td>\n",
       "      <td>0.71216</td>\n",
       "      <td>-1.00000</td>\n",
       "      <td>0.00000</td>\n",
       "      <td>0.00000</td>\n",
       "      <td>...</td>\n",
       "      <td>1.00000</td>\n",
       "      <td>0.90695</td>\n",
       "      <td>0.51613</td>\n",
       "      <td>1.00000</td>\n",
       "      <td>1.00000</td>\n",
       "      <td>-0.20099</td>\n",
       "      <td>0.25682</td>\n",
       "      <td>1.00000</td>\n",
       "      <td>-0.32382</td>\n",
       "      <td>1.00000</td>\n",
       "    </tr>\n",
       "    <tr>\n",
       "      <th>4</th>\n",
       "      <td>1</td>\n",
       "      <td>0</td>\n",
       "      <td>1.00000</td>\n",
       "      <td>-0.02401</td>\n",
       "      <td>0.94140</td>\n",
       "      <td>0.06531</td>\n",
       "      <td>0.92106</td>\n",
       "      <td>-0.23255</td>\n",
       "      <td>0.77152</td>\n",
       "      <td>-0.16399</td>\n",
       "      <td>...</td>\n",
       "      <td>0.03286</td>\n",
       "      <td>-0.65158</td>\n",
       "      <td>0.13290</td>\n",
       "      <td>-0.53206</td>\n",
       "      <td>0.02431</td>\n",
       "      <td>-0.62197</td>\n",
       "      <td>-0.05707</td>\n",
       "      <td>-0.59573</td>\n",
       "      <td>-0.04608</td>\n",
       "      <td>-0.65697</td>\n",
       "    </tr>\n",
       "    <tr>\n",
       "      <th>...</th>\n",
       "      <td>...</td>\n",
       "      <td>...</td>\n",
       "      <td>...</td>\n",
       "      <td>...</td>\n",
       "      <td>...</td>\n",
       "      <td>...</td>\n",
       "      <td>...</td>\n",
       "      <td>...</td>\n",
       "      <td>...</td>\n",
       "      <td>...</td>\n",
       "      <td>...</td>\n",
       "      <td>...</td>\n",
       "      <td>...</td>\n",
       "      <td>...</td>\n",
       "      <td>...</td>\n",
       "      <td>...</td>\n",
       "      <td>...</td>\n",
       "      <td>...</td>\n",
       "      <td>...</td>\n",
       "      <td>...</td>\n",
       "      <td>...</td>\n",
       "    </tr>\n",
       "    <tr>\n",
       "      <th>346</th>\n",
       "      <td>1</td>\n",
       "      <td>0</td>\n",
       "      <td>0.83508</td>\n",
       "      <td>0.08298</td>\n",
       "      <td>0.73739</td>\n",
       "      <td>-0.14706</td>\n",
       "      <td>0.84349</td>\n",
       "      <td>-0.05567</td>\n",
       "      <td>0.90441</td>\n",
       "      <td>-0.04622</td>\n",
       "      <td>...</td>\n",
       "      <td>0.95378</td>\n",
       "      <td>-0.04202</td>\n",
       "      <td>0.83479</td>\n",
       "      <td>0.00123</td>\n",
       "      <td>1.00000</td>\n",
       "      <td>0.12815</td>\n",
       "      <td>0.86660</td>\n",
       "      <td>-0.10714</td>\n",
       "      <td>0.90546</td>\n",
       "      <td>-0.04307</td>\n",
       "    </tr>\n",
       "    <tr>\n",
       "      <th>347</th>\n",
       "      <td>1</td>\n",
       "      <td>0</td>\n",
       "      <td>0.95113</td>\n",
       "      <td>0.00419</td>\n",
       "      <td>0.95183</td>\n",
       "      <td>-0.02723</td>\n",
       "      <td>0.93438</td>\n",
       "      <td>-0.01920</td>\n",
       "      <td>0.94590</td>\n",
       "      <td>0.01606</td>\n",
       "      <td>...</td>\n",
       "      <td>0.94520</td>\n",
       "      <td>0.01361</td>\n",
       "      <td>0.93522</td>\n",
       "      <td>0.04925</td>\n",
       "      <td>0.93159</td>\n",
       "      <td>0.08168</td>\n",
       "      <td>0.94066</td>\n",
       "      <td>-0.00035</td>\n",
       "      <td>0.91483</td>\n",
       "      <td>0.04712</td>\n",
       "    </tr>\n",
       "    <tr>\n",
       "      <th>348</th>\n",
       "      <td>1</td>\n",
       "      <td>0</td>\n",
       "      <td>0.94701</td>\n",
       "      <td>-0.00034</td>\n",
       "      <td>0.93207</td>\n",
       "      <td>-0.03227</td>\n",
       "      <td>0.95177</td>\n",
       "      <td>-0.03431</td>\n",
       "      <td>0.95584</td>\n",
       "      <td>0.02446</td>\n",
       "      <td>...</td>\n",
       "      <td>0.93988</td>\n",
       "      <td>0.03193</td>\n",
       "      <td>0.92489</td>\n",
       "      <td>0.02542</td>\n",
       "      <td>0.92120</td>\n",
       "      <td>0.02242</td>\n",
       "      <td>0.92459</td>\n",
       "      <td>0.00442</td>\n",
       "      <td>0.92697</td>\n",
       "      <td>-0.00577</td>\n",
       "    </tr>\n",
       "    <tr>\n",
       "      <th>349</th>\n",
       "      <td>1</td>\n",
       "      <td>0</td>\n",
       "      <td>0.90608</td>\n",
       "      <td>-0.01657</td>\n",
       "      <td>0.98122</td>\n",
       "      <td>-0.01989</td>\n",
       "      <td>0.95691</td>\n",
       "      <td>-0.03646</td>\n",
       "      <td>0.85746</td>\n",
       "      <td>0.00110</td>\n",
       "      <td>...</td>\n",
       "      <td>0.91050</td>\n",
       "      <td>-0.02099</td>\n",
       "      <td>0.89147</td>\n",
       "      <td>-0.07760</td>\n",
       "      <td>0.82983</td>\n",
       "      <td>-0.17238</td>\n",
       "      <td>0.96022</td>\n",
       "      <td>-0.03757</td>\n",
       "      <td>0.87403</td>\n",
       "      <td>-0.16243</td>\n",
       "    </tr>\n",
       "    <tr>\n",
       "      <th>350</th>\n",
       "      <td>1</td>\n",
       "      <td>0</td>\n",
       "      <td>0.84710</td>\n",
       "      <td>0.13533</td>\n",
       "      <td>0.73638</td>\n",
       "      <td>-0.06151</td>\n",
       "      <td>0.87873</td>\n",
       "      <td>0.08260</td>\n",
       "      <td>0.88928</td>\n",
       "      <td>-0.09139</td>\n",
       "      <td>...</td>\n",
       "      <td>0.86467</td>\n",
       "      <td>-0.15114</td>\n",
       "      <td>0.81147</td>\n",
       "      <td>-0.04822</td>\n",
       "      <td>0.78207</td>\n",
       "      <td>-0.00703</td>\n",
       "      <td>0.75747</td>\n",
       "      <td>-0.06678</td>\n",
       "      <td>0.85764</td>\n",
       "      <td>-0.06151</td>\n",
       "    </tr>\n",
       "  </tbody>\n",
       "</table>\n",
       "<p>351 rows × 34 columns</p>\n",
       "</div>"
      ],
      "text/plain": [
       "     a0  a1       a2       a3       a4       a5       a6       a7       a8  \\\n",
       "0     1   0  0.99539 -0.05889  0.85243  0.02306  0.83398 -0.37708  1.00000   \n",
       "1     1   0  1.00000 -0.18829  0.93035 -0.36156 -0.10868 -0.93597  1.00000   \n",
       "2     1   0  1.00000 -0.03365  1.00000  0.00485  1.00000 -0.12062  0.88965   \n",
       "3     1   0  1.00000 -0.45161  1.00000  1.00000  0.71216 -1.00000  0.00000   \n",
       "4     1   0  1.00000 -0.02401  0.94140  0.06531  0.92106 -0.23255  0.77152   \n",
       "..   ..  ..      ...      ...      ...      ...      ...      ...      ...   \n",
       "346   1   0  0.83508  0.08298  0.73739 -0.14706  0.84349 -0.05567  0.90441   \n",
       "347   1   0  0.95113  0.00419  0.95183 -0.02723  0.93438 -0.01920  0.94590   \n",
       "348   1   0  0.94701 -0.00034  0.93207 -0.03227  0.95177 -0.03431  0.95584   \n",
       "349   1   0  0.90608 -0.01657  0.98122 -0.01989  0.95691 -0.03646  0.85746   \n",
       "350   1   0  0.84710  0.13533  0.73638 -0.06151  0.87873  0.08260  0.88928   \n",
       "\n",
       "          a9  ...      a24      a25      a26      a27      a28      a29  \\\n",
       "0    0.03760  ...  0.56811 -0.51171  0.41078 -0.46168  0.21266 -0.34090   \n",
       "1   -0.04549  ... -0.20332 -0.26569 -0.20468 -0.18401 -0.19040 -0.11593   \n",
       "2    0.01198  ...  0.57528 -0.40220  0.58984 -0.22145  0.43100 -0.17365   \n",
       "3    0.00000  ...  1.00000  0.90695  0.51613  1.00000  1.00000 -0.20099   \n",
       "4   -0.16399  ...  0.03286 -0.65158  0.13290 -0.53206  0.02431 -0.62197   \n",
       "..       ...  ...      ...      ...      ...      ...      ...      ...   \n",
       "346 -0.04622  ...  0.95378 -0.04202  0.83479  0.00123  1.00000  0.12815   \n",
       "347  0.01606  ...  0.94520  0.01361  0.93522  0.04925  0.93159  0.08168   \n",
       "348  0.02446  ...  0.93988  0.03193  0.92489  0.02542  0.92120  0.02242   \n",
       "349  0.00110  ...  0.91050 -0.02099  0.89147 -0.07760  0.82983 -0.17238   \n",
       "350 -0.09139  ...  0.86467 -0.15114  0.81147 -0.04822  0.78207 -0.00703   \n",
       "\n",
       "         a30      a31      a32      a33  \n",
       "0    0.42267 -0.54487  0.18641 -0.45300  \n",
       "1   -0.16626 -0.06288 -0.13738 -0.02447  \n",
       "2    0.60436 -0.24180  0.56045 -0.38238  \n",
       "3    0.25682  1.00000 -0.32382  1.00000  \n",
       "4   -0.05707 -0.59573 -0.04608 -0.65697  \n",
       "..       ...      ...      ...      ...  \n",
       "346  0.86660 -0.10714  0.90546 -0.04307  \n",
       "347  0.94066 -0.00035  0.91483  0.04712  \n",
       "348  0.92459  0.00442  0.92697 -0.00577  \n",
       "349  0.96022 -0.03757  0.87403 -0.16243  \n",
       "350  0.75747 -0.06678  0.85764 -0.06151  \n",
       "\n",
       "[351 rows x 34 columns]"
      ]
     },
     "execution_count": 207,
     "metadata": {},
     "output_type": "execute_result"
    }
   ],
   "source": [
    "ionosphere.iloc[:, :-1]"
   ]
  },
  {
   "cell_type": "code",
   "execution_count": 208,
   "id": "ece984fb",
   "metadata": {
    "ExecuteTime": {
     "end_time": "2022-09-09T08:16:07.704126Z",
     "start_time": "2022-09-09T08:16:07.687125Z"
    }
   },
   "outputs": [],
   "source": [
    "ionosphere = pd.concat([ionosphere[\"a34\"], ionosphere.iloc[:, :-1]], axis = 1)"
   ]
  },
  {
   "cell_type": "code",
   "execution_count": 216,
   "id": "785586af",
   "metadata": {
    "ExecuteTime": {
     "end_time": "2022-09-09T08:47:54.101758Z",
     "start_time": "2022-09-09T08:47:54.074759Z"
    }
   },
   "outputs": [
    {
     "data": {
      "text/html": [
       "<div>\n",
       "<style scoped>\n",
       "    .dataframe tbody tr th:only-of-type {\n",
       "        vertical-align: middle;\n",
       "    }\n",
       "\n",
       "    .dataframe tbody tr th {\n",
       "        vertical-align: top;\n",
       "    }\n",
       "\n",
       "    .dataframe thead th {\n",
       "        text-align: right;\n",
       "    }\n",
       "</style>\n",
       "<table border=\"1\" class=\"dataframe\">\n",
       "  <thead>\n",
       "    <tr style=\"text-align: right;\">\n",
       "      <th></th>\n",
       "      <th>a34</th>\n",
       "      <th>a0</th>\n",
       "      <th>a1</th>\n",
       "      <th>a2</th>\n",
       "      <th>a3</th>\n",
       "      <th>a4</th>\n",
       "      <th>a5</th>\n",
       "      <th>a6</th>\n",
       "      <th>a7</th>\n",
       "      <th>a8</th>\n",
       "      <th>...</th>\n",
       "      <th>a24</th>\n",
       "      <th>a25</th>\n",
       "      <th>a26</th>\n",
       "      <th>a27</th>\n",
       "      <th>a28</th>\n",
       "      <th>a29</th>\n",
       "      <th>a30</th>\n",
       "      <th>a31</th>\n",
       "      <th>a32</th>\n",
       "      <th>a33</th>\n",
       "    </tr>\n",
       "  </thead>\n",
       "  <tbody>\n",
       "    <tr>\n",
       "      <th>0</th>\n",
       "      <td>0</td>\n",
       "      <td>1</td>\n",
       "      <td>0</td>\n",
       "      <td>0.99539</td>\n",
       "      <td>-0.05889</td>\n",
       "      <td>0.85243</td>\n",
       "      <td>0.02306</td>\n",
       "      <td>0.83398</td>\n",
       "      <td>-0.37708</td>\n",
       "      <td>1.00000</td>\n",
       "      <td>...</td>\n",
       "      <td>0.56811</td>\n",
       "      <td>-0.51171</td>\n",
       "      <td>0.41078</td>\n",
       "      <td>-0.46168</td>\n",
       "      <td>0.21266</td>\n",
       "      <td>-0.34090</td>\n",
       "      <td>0.42267</td>\n",
       "      <td>-0.54487</td>\n",
       "      <td>0.18641</td>\n",
       "      <td>-0.45300</td>\n",
       "    </tr>\n",
       "    <tr>\n",
       "      <th>1</th>\n",
       "      <td>1</td>\n",
       "      <td>1</td>\n",
       "      <td>0</td>\n",
       "      <td>1.00000</td>\n",
       "      <td>-0.18829</td>\n",
       "      <td>0.93035</td>\n",
       "      <td>-0.36156</td>\n",
       "      <td>-0.10868</td>\n",
       "      <td>-0.93597</td>\n",
       "      <td>1.00000</td>\n",
       "      <td>...</td>\n",
       "      <td>-0.20332</td>\n",
       "      <td>-0.26569</td>\n",
       "      <td>-0.20468</td>\n",
       "      <td>-0.18401</td>\n",
       "      <td>-0.19040</td>\n",
       "      <td>-0.11593</td>\n",
       "      <td>-0.16626</td>\n",
       "      <td>-0.06288</td>\n",
       "      <td>-0.13738</td>\n",
       "      <td>-0.02447</td>\n",
       "    </tr>\n",
       "    <tr>\n",
       "      <th>2</th>\n",
       "      <td>0</td>\n",
       "      <td>1</td>\n",
       "      <td>0</td>\n",
       "      <td>1.00000</td>\n",
       "      <td>-0.03365</td>\n",
       "      <td>1.00000</td>\n",
       "      <td>0.00485</td>\n",
       "      <td>1.00000</td>\n",
       "      <td>-0.12062</td>\n",
       "      <td>0.88965</td>\n",
       "      <td>...</td>\n",
       "      <td>0.57528</td>\n",
       "      <td>-0.40220</td>\n",
       "      <td>0.58984</td>\n",
       "      <td>-0.22145</td>\n",
       "      <td>0.43100</td>\n",
       "      <td>-0.17365</td>\n",
       "      <td>0.60436</td>\n",
       "      <td>-0.24180</td>\n",
       "      <td>0.56045</td>\n",
       "      <td>-0.38238</td>\n",
       "    </tr>\n",
       "    <tr>\n",
       "      <th>3</th>\n",
       "      <td>1</td>\n",
       "      <td>1</td>\n",
       "      <td>0</td>\n",
       "      <td>1.00000</td>\n",
       "      <td>-0.45161</td>\n",
       "      <td>1.00000</td>\n",
       "      <td>1.00000</td>\n",
       "      <td>0.71216</td>\n",
       "      <td>-1.00000</td>\n",
       "      <td>0.00000</td>\n",
       "      <td>...</td>\n",
       "      <td>1.00000</td>\n",
       "      <td>0.90695</td>\n",
       "      <td>0.51613</td>\n",
       "      <td>1.00000</td>\n",
       "      <td>1.00000</td>\n",
       "      <td>-0.20099</td>\n",
       "      <td>0.25682</td>\n",
       "      <td>1.00000</td>\n",
       "      <td>-0.32382</td>\n",
       "      <td>1.00000</td>\n",
       "    </tr>\n",
       "    <tr>\n",
       "      <th>4</th>\n",
       "      <td>0</td>\n",
       "      <td>1</td>\n",
       "      <td>0</td>\n",
       "      <td>1.00000</td>\n",
       "      <td>-0.02401</td>\n",
       "      <td>0.94140</td>\n",
       "      <td>0.06531</td>\n",
       "      <td>0.92106</td>\n",
       "      <td>-0.23255</td>\n",
       "      <td>0.77152</td>\n",
       "      <td>...</td>\n",
       "      <td>0.03286</td>\n",
       "      <td>-0.65158</td>\n",
       "      <td>0.13290</td>\n",
       "      <td>-0.53206</td>\n",
       "      <td>0.02431</td>\n",
       "      <td>-0.62197</td>\n",
       "      <td>-0.05707</td>\n",
       "      <td>-0.59573</td>\n",
       "      <td>-0.04608</td>\n",
       "      <td>-0.65697</td>\n",
       "    </tr>\n",
       "    <tr>\n",
       "      <th>...</th>\n",
       "      <td>...</td>\n",
       "      <td>...</td>\n",
       "      <td>...</td>\n",
       "      <td>...</td>\n",
       "      <td>...</td>\n",
       "      <td>...</td>\n",
       "      <td>...</td>\n",
       "      <td>...</td>\n",
       "      <td>...</td>\n",
       "      <td>...</td>\n",
       "      <td>...</td>\n",
       "      <td>...</td>\n",
       "      <td>...</td>\n",
       "      <td>...</td>\n",
       "      <td>...</td>\n",
       "      <td>...</td>\n",
       "      <td>...</td>\n",
       "      <td>...</td>\n",
       "      <td>...</td>\n",
       "      <td>...</td>\n",
       "      <td>...</td>\n",
       "    </tr>\n",
       "    <tr>\n",
       "      <th>346</th>\n",
       "      <td>0</td>\n",
       "      <td>1</td>\n",
       "      <td>0</td>\n",
       "      <td>0.83508</td>\n",
       "      <td>0.08298</td>\n",
       "      <td>0.73739</td>\n",
       "      <td>-0.14706</td>\n",
       "      <td>0.84349</td>\n",
       "      <td>-0.05567</td>\n",
       "      <td>0.90441</td>\n",
       "      <td>...</td>\n",
       "      <td>0.95378</td>\n",
       "      <td>-0.04202</td>\n",
       "      <td>0.83479</td>\n",
       "      <td>0.00123</td>\n",
       "      <td>1.00000</td>\n",
       "      <td>0.12815</td>\n",
       "      <td>0.86660</td>\n",
       "      <td>-0.10714</td>\n",
       "      <td>0.90546</td>\n",
       "      <td>-0.04307</td>\n",
       "    </tr>\n",
       "    <tr>\n",
       "      <th>347</th>\n",
       "      <td>0</td>\n",
       "      <td>1</td>\n",
       "      <td>0</td>\n",
       "      <td>0.95113</td>\n",
       "      <td>0.00419</td>\n",
       "      <td>0.95183</td>\n",
       "      <td>-0.02723</td>\n",
       "      <td>0.93438</td>\n",
       "      <td>-0.01920</td>\n",
       "      <td>0.94590</td>\n",
       "      <td>...</td>\n",
       "      <td>0.94520</td>\n",
       "      <td>0.01361</td>\n",
       "      <td>0.93522</td>\n",
       "      <td>0.04925</td>\n",
       "      <td>0.93159</td>\n",
       "      <td>0.08168</td>\n",
       "      <td>0.94066</td>\n",
       "      <td>-0.00035</td>\n",
       "      <td>0.91483</td>\n",
       "      <td>0.04712</td>\n",
       "    </tr>\n",
       "    <tr>\n",
       "      <th>348</th>\n",
       "      <td>0</td>\n",
       "      <td>1</td>\n",
       "      <td>0</td>\n",
       "      <td>0.94701</td>\n",
       "      <td>-0.00034</td>\n",
       "      <td>0.93207</td>\n",
       "      <td>-0.03227</td>\n",
       "      <td>0.95177</td>\n",
       "      <td>-0.03431</td>\n",
       "      <td>0.95584</td>\n",
       "      <td>...</td>\n",
       "      <td>0.93988</td>\n",
       "      <td>0.03193</td>\n",
       "      <td>0.92489</td>\n",
       "      <td>0.02542</td>\n",
       "      <td>0.92120</td>\n",
       "      <td>0.02242</td>\n",
       "      <td>0.92459</td>\n",
       "      <td>0.00442</td>\n",
       "      <td>0.92697</td>\n",
       "      <td>-0.00577</td>\n",
       "    </tr>\n",
       "    <tr>\n",
       "      <th>349</th>\n",
       "      <td>0</td>\n",
       "      <td>1</td>\n",
       "      <td>0</td>\n",
       "      <td>0.90608</td>\n",
       "      <td>-0.01657</td>\n",
       "      <td>0.98122</td>\n",
       "      <td>-0.01989</td>\n",
       "      <td>0.95691</td>\n",
       "      <td>-0.03646</td>\n",
       "      <td>0.85746</td>\n",
       "      <td>...</td>\n",
       "      <td>0.91050</td>\n",
       "      <td>-0.02099</td>\n",
       "      <td>0.89147</td>\n",
       "      <td>-0.07760</td>\n",
       "      <td>0.82983</td>\n",
       "      <td>-0.17238</td>\n",
       "      <td>0.96022</td>\n",
       "      <td>-0.03757</td>\n",
       "      <td>0.87403</td>\n",
       "      <td>-0.16243</td>\n",
       "    </tr>\n",
       "    <tr>\n",
       "      <th>350</th>\n",
       "      <td>0</td>\n",
       "      <td>1</td>\n",
       "      <td>0</td>\n",
       "      <td>0.84710</td>\n",
       "      <td>0.13533</td>\n",
       "      <td>0.73638</td>\n",
       "      <td>-0.06151</td>\n",
       "      <td>0.87873</td>\n",
       "      <td>0.08260</td>\n",
       "      <td>0.88928</td>\n",
       "      <td>...</td>\n",
       "      <td>0.86467</td>\n",
       "      <td>-0.15114</td>\n",
       "      <td>0.81147</td>\n",
       "      <td>-0.04822</td>\n",
       "      <td>0.78207</td>\n",
       "      <td>-0.00703</td>\n",
       "      <td>0.75747</td>\n",
       "      <td>-0.06678</td>\n",
       "      <td>0.85764</td>\n",
       "      <td>-0.06151</td>\n",
       "    </tr>\n",
       "  </tbody>\n",
       "</table>\n",
       "<p>351 rows × 35 columns</p>\n",
       "</div>"
      ],
      "text/plain": [
       "     a34  a0  a1       a2       a3       a4       a5       a6       a7  \\\n",
       "0      0   1   0  0.99539 -0.05889  0.85243  0.02306  0.83398 -0.37708   \n",
       "1      1   1   0  1.00000 -0.18829  0.93035 -0.36156 -0.10868 -0.93597   \n",
       "2      0   1   0  1.00000 -0.03365  1.00000  0.00485  1.00000 -0.12062   \n",
       "3      1   1   0  1.00000 -0.45161  1.00000  1.00000  0.71216 -1.00000   \n",
       "4      0   1   0  1.00000 -0.02401  0.94140  0.06531  0.92106 -0.23255   \n",
       "..   ...  ..  ..      ...      ...      ...      ...      ...      ...   \n",
       "346    0   1   0  0.83508  0.08298  0.73739 -0.14706  0.84349 -0.05567   \n",
       "347    0   1   0  0.95113  0.00419  0.95183 -0.02723  0.93438 -0.01920   \n",
       "348    0   1   0  0.94701 -0.00034  0.93207 -0.03227  0.95177 -0.03431   \n",
       "349    0   1   0  0.90608 -0.01657  0.98122 -0.01989  0.95691 -0.03646   \n",
       "350    0   1   0  0.84710  0.13533  0.73638 -0.06151  0.87873  0.08260   \n",
       "\n",
       "          a8  ...      a24      a25      a26      a27      a28      a29  \\\n",
       "0    1.00000  ...  0.56811 -0.51171  0.41078 -0.46168  0.21266 -0.34090   \n",
       "1    1.00000  ... -0.20332 -0.26569 -0.20468 -0.18401 -0.19040 -0.11593   \n",
       "2    0.88965  ...  0.57528 -0.40220  0.58984 -0.22145  0.43100 -0.17365   \n",
       "3    0.00000  ...  1.00000  0.90695  0.51613  1.00000  1.00000 -0.20099   \n",
       "4    0.77152  ...  0.03286 -0.65158  0.13290 -0.53206  0.02431 -0.62197   \n",
       "..       ...  ...      ...      ...      ...      ...      ...      ...   \n",
       "346  0.90441  ...  0.95378 -0.04202  0.83479  0.00123  1.00000  0.12815   \n",
       "347  0.94590  ...  0.94520  0.01361  0.93522  0.04925  0.93159  0.08168   \n",
       "348  0.95584  ...  0.93988  0.03193  0.92489  0.02542  0.92120  0.02242   \n",
       "349  0.85746  ...  0.91050 -0.02099  0.89147 -0.07760  0.82983 -0.17238   \n",
       "350  0.88928  ...  0.86467 -0.15114  0.81147 -0.04822  0.78207 -0.00703   \n",
       "\n",
       "         a30      a31      a32      a33  \n",
       "0    0.42267 -0.54487  0.18641 -0.45300  \n",
       "1   -0.16626 -0.06288 -0.13738 -0.02447  \n",
       "2    0.60436 -0.24180  0.56045 -0.38238  \n",
       "3    0.25682  1.00000 -0.32382  1.00000  \n",
       "4   -0.05707 -0.59573 -0.04608 -0.65697  \n",
       "..       ...      ...      ...      ...  \n",
       "346  0.86660 -0.10714  0.90546 -0.04307  \n",
       "347  0.94066 -0.00035  0.91483  0.04712  \n",
       "348  0.92459  0.00442  0.92697 -0.00577  \n",
       "349  0.96022 -0.03757  0.87403 -0.16243  \n",
       "350  0.75747 -0.06678  0.85764 -0.06151  \n",
       "\n",
       "[351 rows x 35 columns]"
      ]
     },
     "execution_count": 216,
     "metadata": {},
     "output_type": "execute_result"
    }
   ],
   "source": [
    "ionosphere"
   ]
  },
  {
   "cell_type": "code",
   "execution_count": 235,
   "id": "dab43809",
   "metadata": {
    "ExecuteTime": {
     "end_time": "2022-09-09T09:17:14.338906Z",
     "start_time": "2022-09-09T09:17:14.328909Z"
    }
   },
   "outputs": [
    {
     "data": {
      "text/plain": [
       "str"
      ]
     },
     "execution_count": 235,
     "metadata": {},
     "output_type": "execute_result"
    }
   ],
   "source": [
    "type(\"ionosphere.columns\") #!= int"
   ]
  },
  {
   "cell_type": "code",
   "execution_count": 244,
   "id": "609ea15c",
   "metadata": {
    "ExecuteTime": {
     "end_time": "2022-09-09T09:26:33.644652Z",
     "start_time": "2022-09-09T09:26:33.633655Z"
    }
   },
   "outputs": [],
   "source": [
    "def predata(data):\n",
    "    #标签策略，将类别标签变为数字类型\n",
    "    for i in range(data.shape[0]):\n",
    "        if type(data.iloc[:, -1][i]) != int:\n",
    "            for j in range(len(set(data.iloc[:, -1].values))):\n",
    "                data = data.replace(list(set(data.iloc[:, -1].values))[j],j)\n",
    "                \n",
    "    #修改列的类型，只能是字符串\n",
    "    c = []\n",
    "    for i in data.columns:\n",
    "        if type(i) != str:\n",
    "            c.append(\"c\"+str(i))\n",
    "    data = data.rename(columns = dict(zip(data.columns, c)))\n",
    "    \n",
    "    #更改目标列与特征列位置\n",
    "    data = pd.concat([data.iloc[:, -1], data.iloc[:, :-1]], axis = 1)\n",
    "    return data"
   ]
  },
  {
   "cell_type": "code",
   "execution_count": 249,
   "id": "5003af29",
   "metadata": {
    "ExecuteTime": {
     "end_time": "2022-09-09T09:35:29.901544Z",
     "start_time": "2022-09-09T09:35:29.767919Z"
    }
   },
   "outputs": [
    {
     "data": {
      "text/plain": [
       "34"
      ]
     },
     "execution_count": 249,
     "metadata": {},
     "output_type": "execute_result"
    }
   ],
   "source": [
    "predata(ionosphere).shape[1]-1"
   ]
  },
  {
   "cell_type": "code",
   "execution_count": 250,
   "id": "1bbcb8b5",
   "metadata": {
    "ExecuteTime": {
     "end_time": "2022-09-09T09:51:01.812082Z",
     "start_time": "2022-09-09T09:51:01.805082Z"
    }
   },
   "outputs": [],
   "source": [
    "from pymrmr import mRMR"
   ]
  },
  {
   "cell_type": "code",
   "execution_count": 252,
   "id": "38087295",
   "metadata": {
    "ExecuteTime": {
     "end_time": "2022-09-09T09:52:30.261629Z",
     "start_time": "2022-09-09T09:52:30.008237Z"
    }
   },
   "outputs": [
    {
     "data": {
      "text/plain": [
       "['c26',\n",
       " 'c7',\n",
       " 'c0',\n",
       " 'c15',\n",
       " 'c27',\n",
       " 'c9',\n",
       " 'c3',\n",
       " 'c1',\n",
       " 'c5',\n",
       " 'c19',\n",
       " 'c17',\n",
       " 'c23',\n",
       " 'c28',\n",
       " 'c30',\n",
       " 'c13',\n",
       " 'c33',\n",
       " 'c31',\n",
       " 'c4',\n",
       " 'c24',\n",
       " 'c21',\n",
       " 'c11',\n",
       " 'c6',\n",
       " 'c29',\n",
       " 'c2',\n",
       " 'c25',\n",
       " 'c32',\n",
       " 'c22',\n",
       " 'c10',\n",
       " 'c8',\n",
       " 'c12',\n",
       " 'c20',\n",
       " 'c18',\n",
       " 'c14',\n",
       " 'c16']"
      ]
     },
     "execution_count": 252,
     "metadata": {},
     "output_type": "execute_result"
    }
   ],
   "source": [
    "mRMR(predata(ionosphere), 'MID', nfeats = 34)"
   ]
  },
  {
   "cell_type": "code",
   "execution_count": null,
   "id": "877fd3b3",
   "metadata": {},
   "outputs": [],
   "source": []
  },
  {
   "cell_type": "markdown",
   "id": "ad67433a",
   "metadata": {},
   "source": [
    "## pymrmr.mRMR"
   ]
  },
  {
   "cell_type": "code",
   "execution_count": 211,
   "id": "4671c011",
   "metadata": {
    "ExecuteTime": {
     "end_time": "2022-09-09T08:16:33.990713Z",
     "start_time": "2022-09-09T08:16:33.974714Z"
    }
   },
   "outputs": [],
   "source": [
    "?pymrmr.mRMR"
   ]
  },
  {
   "cell_type": "markdown",
   "id": "eddf1d03",
   "metadata": {},
   "source": [
    "# pyDOE"
   ]
  },
  {
   "cell_type": "code",
   "execution_count": 1,
   "id": "02a75f9f",
   "metadata": {
    "ExecuteTime": {
     "end_time": "2022-07-06T00:59:10.938410Z",
     "start_time": "2022-07-06T00:59:10.508090Z"
    }
   },
   "outputs": [],
   "source": [
    "import pyDOE #试验设计"
   ]
  },
  {
   "cell_type": "code",
   "execution_count": 2,
   "id": "22231855",
   "metadata": {
    "ExecuteTime": {
     "end_time": "2022-07-06T00:59:13.779466Z",
     "start_time": "2022-07-06T00:59:13.772538Z"
    }
   },
   "outputs": [
    {
     "data": {
      "text/plain": [
       "['__author__',\n",
       " '__builtins__',\n",
       " '__cached__',\n",
       " '__doc__',\n",
       " '__file__',\n",
       " '__loader__',\n",
       " '__name__',\n",
       " '__package__',\n",
       " '__path__',\n",
       " '__spec__',\n",
       " '__version__',\n",
       " 'bbdesign',\n",
       " 'ccdesign',\n",
       " 'doe_box_behnken',\n",
       " 'doe_composite',\n",
       " 'doe_factorial',\n",
       " 'doe_fold',\n",
       " 'doe_lhs',\n",
       " 'doe_plackett_burman',\n",
       " 'doe_repeat_center',\n",
       " 'doe_star',\n",
       " 'doe_union',\n",
       " 'ff2n',\n",
       " 'fold',\n",
       " 'fracfact',\n",
       " 'fullfact',\n",
       " 'lhs',\n",
       " 'np',\n",
       " 'pbdesign',\n",
       " 'var_regression_matrix']"
      ]
     },
     "execution_count": 2,
     "metadata": {},
     "output_type": "execute_result"
    }
   ],
   "source": [
    "dir(pyDOE)"
   ]
  },
  {
   "cell_type": "code",
   "execution_count": 11,
   "id": "0752adeb",
   "metadata": {
    "ExecuteTime": {
     "end_time": "2022-07-06T02:05:32.453951Z",
     "start_time": "2022-07-06T02:05:32.445975Z"
    }
   },
   "outputs": [],
   "source": [
    "?pyDOE.doe_lhs"
   ]
  },
  {
   "cell_type": "markdown",
   "id": "8febe1f0",
   "metadata": {},
   "source": [
    "## fullfact"
   ]
  },
  {
   "cell_type": "code",
   "execution_count": 65,
   "id": "f2107a98",
   "metadata": {
    "ExecuteTime": {
     "end_time": "2022-06-27T08:49:16.388250Z",
     "start_time": "2022-06-27T08:49:16.373560Z"
    }
   },
   "outputs": [],
   "source": [
    "def fullfact(levels):\n",
    "    \"\"\"\n",
    "    Create a general full-factorial design\n",
    "    \n",
    "    Parameters\n",
    "    ----------\n",
    "    levels : array-like\n",
    "        An array of integers that indicate the number of levels of each input\n",
    "        design factor.\n",
    "    \n",
    "    Returns\n",
    "    -------\n",
    "    mat : 2d-array\n",
    "        The design matrix with coded levels 0 to k-1 for a k-level factor\n",
    "  \n",
    "    \"\"\"\n",
    "    n = len(levels)  # number of factors\n",
    "    nb_lines = np.prod(levels)  # number of trial conditions\n",
    "    H = np.zeros((nb_lines, n))\n",
    "    \n",
    "    level_repeat = 1\n",
    "    range_repeat = np.prod(levels)\n",
    "    for i in range(n):\n",
    "        range_repeat /= levels[i]\n",
    "        lvl = []\n",
    "        for j in range(levels[i]):\n",
    "            lvl += [j]*level_repeat\n",
    "        rng = lvl*int(range_repeat)\n",
    "        level_repeat *= levels[i]\n",
    "        H[:, i] = rng\n",
    "     \n",
    "    return H"
   ]
  },
  {
   "cell_type": "code",
   "execution_count": 66,
   "id": "2b7cdd21",
   "metadata": {
    "ExecuteTime": {
     "end_time": "2022-06-27T08:49:18.655640Z",
     "start_time": "2022-06-27T08:49:18.643728Z"
    }
   },
   "outputs": [
    {
     "data": {
      "text/plain": [
       "array([[0., 0., 0.],\n",
       "       [1., 0., 0.],\n",
       "       [0., 1., 0.],\n",
       "       [1., 1., 0.],\n",
       "       [0., 2., 0.],\n",
       "       [1., 2., 0.],\n",
       "       [0., 3., 0.],\n",
       "       [1., 3., 0.],\n",
       "       [0., 0., 1.],\n",
       "       [1., 0., 1.],\n",
       "       [0., 1., 1.],\n",
       "       [1., 1., 1.],\n",
       "       [0., 2., 1.],\n",
       "       [1., 2., 1.],\n",
       "       [0., 3., 1.],\n",
       "       [1., 3., 1.],\n",
       "       [0., 0., 2.],\n",
       "       [1., 0., 2.],\n",
       "       [0., 1., 2.],\n",
       "       [1., 1., 2.],\n",
       "       [0., 2., 2.],\n",
       "       [1., 2., 2.],\n",
       "       [0., 3., 2.],\n",
       "       [1., 3., 2.]])"
      ]
     },
     "execution_count": 66,
     "metadata": {},
     "output_type": "execute_result"
    }
   ],
   "source": [
    "fullfact([2, 4, 3])"
   ]
  },
  {
   "cell_type": "markdown",
   "id": "eb854b41",
   "metadata": {},
   "source": [
    "## ff2n"
   ]
  },
  {
   "cell_type": "code",
   "execution_count": 63,
   "id": "e3825c25",
   "metadata": {
    "ExecuteTime": {
     "end_time": "2022-06-27T08:48:13.619894Z",
     "start_time": "2022-06-27T08:48:13.601154Z"
    }
   },
   "outputs": [],
   "source": [
    "def ff2n(n):\n",
    "    \"\"\"\n",
    "    Create a 2-Level full-factorial design\n",
    "    \n",
    "    Parameters\n",
    "    ----------\n",
    "    n : int\n",
    "        The number of factors in the design.\n",
    "    \n",
    "    Returns\n",
    "    -------\n",
    "    mat : 2d-array\n",
    "        The design matrix with coded levels 0 and 1\n",
    "       \n",
    "    \"\"\"\n",
    "    result = 2*fullfact([2]*n) - 1\n",
    "    result[result<0] = 0\n",
    "    return result"
   ]
  },
  {
   "cell_type": "code",
   "execution_count": 64,
   "id": "154a6939",
   "metadata": {
    "ExecuteTime": {
     "end_time": "2022-06-27T08:48:25.750531Z",
     "start_time": "2022-06-27T08:48:25.738569Z"
    },
    "scrolled": true
   },
   "outputs": [
    {
     "data": {
      "text/plain": [
       "array([[0., 0., 0.],\n",
       "       [1., 0., 0.],\n",
       "       [0., 1., 0.],\n",
       "       [1., 1., 0.],\n",
       "       [0., 0., 1.],\n",
       "       [1., 0., 1.],\n",
       "       [0., 1., 1.],\n",
       "       [1., 1., 1.]])"
      ]
     },
     "execution_count": 64,
     "metadata": {},
     "output_type": "execute_result"
    }
   ],
   "source": [
    "ff2n(3)"
   ]
  },
  {
   "cell_type": "markdown",
   "id": "0dc7ef87",
   "metadata": {},
   "source": [
    "## bbdesign"
   ]
  },
  {
   "cell_type": "code",
   "execution_count": 81,
   "id": "11ede419",
   "metadata": {
    "ExecuteTime": {
     "end_time": "2022-06-27T09:23:07.821301Z",
     "start_time": "2022-06-27T09:23:07.808341Z"
    },
    "scrolled": true
   },
   "outputs": [],
   "source": [
    "from pyDOE.doe_repeat_center import repeat_center\n",
    "def bbdesign(n, center=None):\n",
    "    \"\"\"\n",
    "    Create a Box-Behnken design\n",
    "    \n",
    "    Parameters\n",
    "    ----------\n",
    "    n : int\n",
    "        The number of factors in the design\n",
    "    \n",
    "    Optional\n",
    "    --------\n",
    "    center : int\n",
    "        The number of center points to include (default = 1).\n",
    "    \n",
    "    Returns\n",
    "    -------\n",
    "    mat : 2d-array\n",
    "        The design matrix\n",
    "    \n",
    "    \"\"\"\n",
    "    assert n>=3, 'Number of variables must be at least 3'\n",
    "    \n",
    "    # First, compute a factorial DOE with 2 parameters\n",
    "    H_fact = ff2n(2)\n",
    "    # Now we populate the real DOE with this DOE\n",
    "    \n",
    "    # We made a factorial design on each pair of dimensions\n",
    "    # - So, we created a factorial design with two factors\n",
    "    # - Make two loops\n",
    "    Index = 0\n",
    "    nb_lines = (n*(n-1)/2)*H_fact.shape[0]\n",
    "    H = repeat_center(n, int(nb_lines))\n",
    "    \n",
    "    for i in range(n - 1):\n",
    "        for j in range(i + 1, n):\n",
    "            Index = Index + 1\n",
    "            H[max([0, (Index - 1)*H_fact.shape[0]]):Index*H_fact.shape[0], i] = H_fact[:, 0]\n",
    "            H[max([0, (Index - 1)*H_fact.shape[0]]):Index*H_fact.shape[0], j] = H_fact[:, 1]\n",
    "\n",
    "    if center is None:\n",
    "        if n<=16:\n",
    "            points= [0, 0, 0, 3, 3, 6, 6, 6, 8, 9, 10, 12, 12, 13, 14, 15, 16]\n",
    "            center = points[n]\n",
    "        else:\n",
    "            center = n\n",
    "        \n",
    "    H = np.c_[H.T, repeat_center(n, center).T].T\n",
    "    \n",
    "    return H"
   ]
  },
  {
   "cell_type": "code",
   "execution_count": 82,
   "id": "65f47839",
   "metadata": {
    "ExecuteTime": {
     "end_time": "2022-06-27T09:23:09.933784Z",
     "start_time": "2022-06-27T09:23:09.911809Z"
    }
   },
   "outputs": [
    {
     "data": {
      "text/plain": [
       "array([[0., 0., 0.],\n",
       "       [1., 0., 0.],\n",
       "       [0., 1., 0.],\n",
       "       [1., 1., 0.],\n",
       "       [0., 0., 0.],\n",
       "       [1., 0., 0.],\n",
       "       [0., 0., 1.],\n",
       "       [1., 0., 1.],\n",
       "       [0., 0., 0.],\n",
       "       [0., 1., 0.],\n",
       "       [0., 0., 1.],\n",
       "       [0., 1., 1.],\n",
       "       [0., 0., 0.],\n",
       "       [0., 0., 0.],\n",
       "       [0., 0., 0.]])"
      ]
     },
     "execution_count": 82,
     "metadata": {},
     "output_type": "execute_result"
    }
   ],
   "source": [
    "bbdesign(3)"
   ]
  },
  {
   "cell_type": "markdown",
   "id": "0a3c2f43",
   "metadata": {},
   "source": [
    "## ccdesign"
   ]
  },
  {
   "cell_type": "code",
   "execution_count": 88,
   "id": "f8e261a3",
   "metadata": {
    "ExecuteTime": {
     "end_time": "2022-06-27T09:27:53.484202Z",
     "start_time": "2022-06-27T09:27:53.473240Z"
    }
   },
   "outputs": [],
   "source": [
    "from pyDOE.doe_star import star\n",
    "from pyDOE.doe_union import union\n",
    "from pyDOE.doe_repeat_center import repeat_center\n",
    "\n",
    "\n",
    "def ccdesign(n, center=(4, 4), alpha='orthogonal', face='circumscribed'):\n",
    "    \"\"\"\n",
    "    中央复合设计函数\n",
    "    \n",
    "    Parameters\n",
    "    ----------\n",
    "    n : int\n",
    "        The number of factors in the design.\n",
    "    \n",
    "    Optional\n",
    "    --------\n",
    "    center : int array\n",
    "        A 1-by-2 array of integers, the number of center points in each block\n",
    "        of the design. (Default: (4, 4)).\n",
    "    alpha : str\n",
    "        A string describing the effect of alpha has on the variance. ``alpha``\n",
    "        can take on the following values:\n",
    "        \n",
    "        1. 'orthogonal' or 'o' (Default)\n",
    "        \n",
    "        2. 'rotatable' or 'r'\n",
    "        \n",
    "    face : str\n",
    "        The relation between the start points and the corner (factorial) points.\n",
    "        There are three options for this input:\n",
    "        \n",
    "        1. 'circumscribed' or 'ccc': This is the original form of the central\n",
    "           composite design. The star points are at some distance ``alpha``\n",
    "           from the center, based on the properties desired for the design.\n",
    "           The start points establish new extremes for the low and high\n",
    "           settings for all factors. These designs have circular, spherical,\n",
    "           or hyperspherical symmetry and require 5 levels for each factor.\n",
    "           Augmenting an existing factorial or resolution V fractional \n",
    "           factorial design with star points can produce this design.\n",
    "        \n",
    "        2. 'inscribed' or 'cci': For those situations in which the limits\n",
    "           specified for factor settings are truly limits, the CCI design\n",
    "           uses the factors settings as the star points and creates a factorial\n",
    "           or fractional factorial design within those limits (in other words,\n",
    "           a CCI design is a scaled down CCC design with each factor level of\n",
    "           the CCC design divided by ``alpha`` to generate the CCI design).\n",
    "           This design also requires 5 levels of each factor.\n",
    "        \n",
    "        3. 'faced' or 'ccf': In this design, the star points are at the center\n",
    "           of each face of the factorial space, so ``alpha`` = 1. This \n",
    "           variety requires 3 levels of each factor. Augmenting an existing \n",
    "           factorial or resolution V design with appropriate star points can \n",
    "           also produce this design.\n",
    "    \n",
    "    Notes\n",
    "    -----\n",
    "    - Fractional factorial designs are not (yet) available here.\n",
    "    - 'ccc' and 'cci' can be rotatable design, but 'ccf' cannot.\n",
    "    - If ``face`` is specified, while ``alpha`` is not, then the default value\n",
    "      of ``alpha`` is 'orthogonal'.\n",
    "        \n",
    "    Returns\n",
    "    -------\n",
    "    mat : 2d-array\n",
    "        The design matrix with coded levels -1 and 1\n",
    "       \n",
    "    \"\"\"\n",
    "    # Check inputs\n",
    "    assert isinstance(n, int) and n>1, '\"n\" must be an integer greater than 1.'\n",
    "    assert alpha.lower() in ('orthogonal', 'o', 'rotatable', \n",
    "        'r'), 'Invalid value for \"alpha\": {:}'.format(alpha)\n",
    "    assert face.lower() in ('circumscribed', 'ccc', 'inscribed', 'cci',\n",
    "        'faced', 'ccf'), 'Invalid value for \"face\": {:}'.format(face)\n",
    "    \n",
    "    try:\n",
    "        nc = len(center)\n",
    "    except:\n",
    "        raise TypeError('Invalid value for \"center\": {:}. Expected a 1-by-2 array.'.format(center))\n",
    "    else:\n",
    "        if nc!=2:\n",
    "            raise ValueError('Invalid number of values for \"center\" (expected 2, but got {:})'.format(nc))\n",
    "\n",
    "    # Orthogonal Design\n",
    "    if alpha.lower() in ('orthogonal', 'o'):\n",
    "        H2, a = star(n, alpha='orthogonal', center=center)\n",
    "    \n",
    "    # Rotatable Design\n",
    "    if alpha.lower() in ('rotatable', 'r'):\n",
    "        H2, a = star(n, alpha='rotatable')\n",
    "    \n",
    "    # Inscribed CCD\n",
    "    if face.lower() in ('inscribed', 'cci'):\n",
    "        H1 = ff2n(n)\n",
    "        H1 = H1/a  # Scale down the factorial points\n",
    "        H2, a = star(n)\n",
    "    \n",
    "    # Faced CCD\n",
    "    if face.lower() in ('faced', 'ccf'):\n",
    "        H2, a = star(n)  # Value of alpha is always 1 in Faced CCD\n",
    "        H1 = ff2n(n)\n",
    "    \n",
    "    # Circumscribed CCD\n",
    "    if face.lower() in ('circumscribed', 'ccc'):\n",
    "        H1 = ff2n(n)\n",
    "    \n",
    "    C1 = repeat_center(n, center[0])\n",
    "    C2 = repeat_center(n, center[1])\n",
    "\n",
    "    H1 = union(H1, C1)\n",
    "    H2 = union(H2, C2)\n",
    "    H = union(H1, H2)\n",
    "\n",
    "    return H\n"
   ]
  },
  {
   "cell_type": "code",
   "execution_count": 89,
   "id": "5249d6c6",
   "metadata": {
    "ExecuteTime": {
     "end_time": "2022-06-27T09:27:56.191161Z",
     "start_time": "2022-06-27T09:27:56.171228Z"
    }
   },
   "outputs": [
    {
     "data": {
      "text/plain": [
       "array([[ 0.        ,  0.        ,  0.        ],\n",
       "       [ 1.        ,  0.        ,  0.        ],\n",
       "       [ 0.        ,  1.        ,  0.        ],\n",
       "       [ 1.        ,  1.        ,  0.        ],\n",
       "       [ 0.        ,  0.        ,  1.        ],\n",
       "       [ 1.        ,  0.        ,  1.        ],\n",
       "       [ 0.        ,  1.        ,  1.        ],\n",
       "       [ 1.        ,  1.        ,  1.        ],\n",
       "       [ 0.        ,  0.        ,  0.        ],\n",
       "       [ 0.        ,  0.        ,  0.        ],\n",
       "       [ 0.        ,  0.        ,  0.        ],\n",
       "       [ 0.        ,  0.        ,  0.        ],\n",
       "       [-1.82574186,  0.        ,  0.        ],\n",
       "       [ 1.82574186,  0.        ,  0.        ],\n",
       "       [ 0.        , -1.82574186,  0.        ],\n",
       "       [ 0.        ,  1.82574186,  0.        ],\n",
       "       [ 0.        ,  0.        , -1.82574186],\n",
       "       [ 0.        ,  0.        ,  1.82574186],\n",
       "       [ 0.        ,  0.        ,  0.        ],\n",
       "       [ 0.        ,  0.        ,  0.        ],\n",
       "       [ 0.        ,  0.        ,  0.        ],\n",
       "       [ 0.        ,  0.        ,  0.        ]])"
      ]
     },
     "execution_count": 89,
     "metadata": {},
     "output_type": "execute_result"
    }
   ],
   "source": [
    "ccdesign(3)"
   ]
  },
  {
   "cell_type": "markdown",
   "id": "08ca1be7",
   "metadata": {},
   "source": [
    "# hmmlearn"
   ]
  },
  {
   "cell_type": "code",
   "execution_count": 4,
   "id": "318955cb",
   "metadata": {
    "ExecuteTime": {
     "end_time": "2022-07-01T00:59:57.722472Z",
     "start_time": "2022-07-01T00:59:57.712506Z"
    }
   },
   "outputs": [],
   "source": [
    "import hmmlearn #隐马尔可夫模型\n",
    "from hmmlearn import hmm"
   ]
  },
  {
   "cell_type": "code",
   "execution_count": 5,
   "id": "c58a1a9e",
   "metadata": {
    "ExecuteTime": {
     "end_time": "2022-07-01T00:59:58.512685Z",
     "start_time": "2022-07-01T00:59:58.503777Z"
    }
   },
   "outputs": [
    {
     "data": {
      "text/plain": [
       "['__class__',\n",
       " '__delattr__',\n",
       " '__dict__',\n",
       " '__dir__',\n",
       " '__doc__',\n",
       " '__eq__',\n",
       " '__format__',\n",
       " '__ge__',\n",
       " '__getattribute__',\n",
       " '__getstate__',\n",
       " '__gt__',\n",
       " '__hash__',\n",
       " '__init__',\n",
       " '__init_subclass__',\n",
       " '__le__',\n",
       " '__lt__',\n",
       " '__module__',\n",
       " '__ne__',\n",
       " '__new__',\n",
       " '__reduce__',\n",
       " '__reduce_ex__',\n",
       " '__repr__',\n",
       " '__setattr__',\n",
       " '__setstate__',\n",
       " '__sizeof__',\n",
       " '__str__',\n",
       " '__subclasshook__',\n",
       " '__weakref__',\n",
       " '_accumulate_sufficient_statistics',\n",
       " '_accumulate_sufficient_statistics_log',\n",
       " '_accumulate_sufficient_statistics_scaling',\n",
       " '_check',\n",
       " '_check_feature_names',\n",
       " '_check_n_features',\n",
       " '_check_sum_1',\n",
       " '_compute_likelihood',\n",
       " '_compute_log_likelihood',\n",
       " '_compute_posteriors_log',\n",
       " '_compute_posteriors_scaling',\n",
       " '_decode_map',\n",
       " '_decode_viterbi',\n",
       " '_do_backward_log_pass',\n",
       " '_do_backward_scaling_pass',\n",
       " '_do_forward_log_pass',\n",
       " '_do_forward_scaling_pass',\n",
       " '_do_mstep',\n",
       " '_do_viterbi_pass',\n",
       " '_fit_log',\n",
       " '_fit_scaling',\n",
       " '_generate_sample_from_state',\n",
       " '_get_n_fit_scalars_per_param',\n",
       " '_get_param_names',\n",
       " '_get_tags',\n",
       " '_init',\n",
       " '_initialize_sufficient_statistics',\n",
       " '_more_tags',\n",
       " '_needs_init',\n",
       " '_repr_html_',\n",
       " '_repr_html_inner',\n",
       " '_repr_mimebundle_',\n",
       " '_score',\n",
       " '_score_log',\n",
       " '_score_scaling',\n",
       " '_validate_data',\n",
       " 'decode',\n",
       " 'fit',\n",
       " 'get_params',\n",
       " 'get_stationary_distribution',\n",
       " 'predict',\n",
       " 'predict_proba',\n",
       " 'sample',\n",
       " 'score',\n",
       " 'score_samples',\n",
       " 'set_params']"
      ]
     },
     "execution_count": 5,
     "metadata": {},
     "output_type": "execute_result"
    }
   ],
   "source": [
    "dir(hmmlearn.hmm.BaseHMM)"
   ]
  },
  {
   "cell_type": "code",
   "execution_count": 15,
   "id": "cc48fa38",
   "metadata": {
    "ExecuteTime": {
     "end_time": "2022-07-01T03:12:08.031259Z",
     "start_time": "2022-07-01T03:12:08.015309Z"
    }
   },
   "outputs": [],
   "source": [
    "?hmmlearn.hmm"
   ]
  },
  {
   "cell_type": "markdown",
   "id": "da83633d",
   "metadata": {},
   "source": [
    "# lifelines"
   ]
  },
  {
   "cell_type": "code",
   "execution_count": 13,
   "id": "43f47c4a",
   "metadata": {
    "ExecuteTime": {
     "end_time": "2022-07-06T02:59:24.682218Z",
     "start_time": "2022-07-06T02:59:23.572284Z"
    },
    "scrolled": true
   },
   "outputs": [],
   "source": [
    "import lifelines #生存分析"
   ]
  },
  {
   "cell_type": "code",
   "execution_count": 14,
   "id": "6eceaf61",
   "metadata": {
    "ExecuteTime": {
     "end_time": "2022-07-06T02:59:43.953972Z",
     "start_time": "2022-07-06T02:59:43.948024Z"
    }
   },
   "outputs": [
    {
     "data": {
      "text/plain": [
       "['AalenAdditiveFitter',\n",
       " 'AalenJohansenFitter',\n",
       " 'BreslowFlemingHarringtonFitter',\n",
       " 'CRCSplineFitter',\n",
       " 'CoxPHFitter',\n",
       " 'CoxTimeVaryingFitter',\n",
       " 'ExponentialFitter',\n",
       " 'GeneralizedGammaFitter',\n",
       " 'GeneralizedGammaRegressionFitter',\n",
       " 'KaplanMeierFitter',\n",
       " 'List',\n",
       " 'LogLogisticAFTFitter',\n",
       " 'LogLogisticFitter',\n",
       " 'LogNormalAFTFitter',\n",
       " 'LogNormalFitter',\n",
       " 'MixtureCureFitter',\n",
       " 'NelsonAalenFitter',\n",
       " 'PiecewiseExponentialFitter',\n",
       " 'PiecewiseExponentialRegressionFitter',\n",
       " 'SplineFitter',\n",
       " 'WeibullAFTFitter',\n",
       " 'WeibullFitter',\n",
       " '__all__',\n",
       " '__builtins__',\n",
       " '__cached__',\n",
       " '__doc__',\n",
       " '__file__',\n",
       " '__loader__',\n",
       " '__name__',\n",
       " '__package__',\n",
       " '__path__',\n",
       " '__spec__',\n",
       " '__version__',\n",
       " 'exceptions',\n",
       " 'fitters',\n",
       " 'plotting',\n",
       " 'statistics',\n",
       " 'utils',\n",
       " 'version']"
      ]
     },
     "execution_count": 14,
     "metadata": {},
     "output_type": "execute_result"
    }
   ],
   "source": [
    "dir(lifelines)"
   ]
  },
  {
   "cell_type": "code",
   "execution_count": 43,
   "id": "b704a900",
   "metadata": {
    "ExecuteTime": {
     "end_time": "2022-07-06T07:33:02.968154Z",
     "start_time": "2022-07-06T07:33:02.959185Z"
    }
   },
   "outputs": [],
   "source": [
    "?lifelines.CoxPHFitter"
   ]
  },
  {
   "cell_type": "markdown",
   "id": "64b38e3e",
   "metadata": {},
   "source": [
    "# fitter"
   ]
  },
  {
   "cell_type": "code",
   "execution_count": 45,
   "id": "13a1a555",
   "metadata": {
    "ExecuteTime": {
     "end_time": "2022-07-06T07:36:59.866187Z",
     "start_time": "2022-07-06T07:36:59.192755Z"
    }
   },
   "outputs": [],
   "source": [
    "import fitter #数据分布拟合"
   ]
  },
  {
   "cell_type": "code",
   "execution_count": 50,
   "id": "cc94e8c9",
   "metadata": {
    "ExecuteTime": {
     "end_time": "2022-07-06T07:39:18.586473Z",
     "start_time": "2022-07-06T07:39:18.578500Z"
    }
   },
   "outputs": [
    {
     "data": {
      "text/plain": [
       "['__class__',\n",
       " '__delattr__',\n",
       " '__dict__',\n",
       " '__dir__',\n",
       " '__doc__',\n",
       " '__eq__',\n",
       " '__format__',\n",
       " '__ge__',\n",
       " '__getattribute__',\n",
       " '__gt__',\n",
       " '__hash__',\n",
       " '__init__',\n",
       " '__init_subclass__',\n",
       " '__le__',\n",
       " '__lt__',\n",
       " '__module__',\n",
       " '__ne__',\n",
       " '__new__',\n",
       " '__reduce__',\n",
       " '__reduce_ex__',\n",
       " '__repr__',\n",
       " '__setattr__',\n",
       " '__sizeof__',\n",
       " '__str__',\n",
       " '__subclasshook__',\n",
       " '__weakref__',\n",
       " '_get_xmax',\n",
       " '_get_xmin',\n",
       " '_init',\n",
       " '_load_all_distributions',\n",
       " '_set_xmax',\n",
       " '_set_xmin',\n",
       " '_timed_run',\n",
       " '_trim_data',\n",
       " '_update_data_pdf',\n",
       " 'fit',\n",
       " 'get_best',\n",
       " 'hist',\n",
       " 'plot_pdf',\n",
       " 'summary',\n",
       " 'xmax',\n",
       " 'xmin']"
      ]
     },
     "execution_count": 50,
     "metadata": {},
     "output_type": "execute_result"
    }
   ],
   "source": [
    "dir(fitter.Fitter)"
   ]
  },
  {
   "cell_type": "code",
   "execution_count": 53,
   "id": "ec7cb022",
   "metadata": {
    "ExecuteTime": {
     "end_time": "2022-07-06T07:42:07.305379Z",
     "start_time": "2022-07-06T07:42:07.296461Z"
    }
   },
   "outputs": [],
   "source": [
    "?fitter.Fitter"
   ]
  },
  {
   "cell_type": "markdown",
   "id": "1c39fbe7",
   "metadata": {},
   "source": [
    "# matplotlib"
   ]
  },
  {
   "cell_type": "code",
   "execution_count": 77,
   "id": "e53928b5",
   "metadata": {
    "ExecuteTime": {
     "end_time": "2022-07-06T09:07:02.860731Z",
     "start_time": "2022-07-06T09:07:02.852754Z"
    }
   },
   "outputs": [],
   "source": [
    "import matplotlib.pyplot as plt"
   ]
  },
  {
   "cell_type": "code",
   "execution_count": 78,
   "id": "490b5d36",
   "metadata": {
    "ExecuteTime": {
     "end_time": "2022-07-06T09:07:39.891924Z",
     "start_time": "2022-07-06T09:07:39.881958Z"
    }
   },
   "outputs": [],
   "source": [
    "?plt.hist"
   ]
  },
  {
   "cell_type": "markdown",
   "id": "33e619ff",
   "metadata": {},
   "source": [
    "# julia"
   ]
  },
  {
   "cell_type": "code",
   "execution_count": 3,
   "id": "2513c949",
   "metadata": {
    "ExecuteTime": {
     "end_time": "2022-09-06T00:37:19.101598Z",
     "start_time": "2022-09-06T00:37:17.817704Z"
    }
   },
   "outputs": [],
   "source": [
    "import julia #引用Julia第三方库\n",
    "julia.install() #安装各项文件 "
   ]
  },
  {
   "cell_type": "code",
   "execution_count": 5,
   "id": "9bfed747",
   "metadata": {
    "ExecuteTime": {
     "end_time": "2022-09-06T00:37:32.058585Z",
     "start_time": "2022-09-06T00:37:32.045628Z"
    }
   },
   "outputs": [
    {
     "data": {
      "text/plain": [
       "['Julia',\n",
       " 'JuliaError',\n",
       " 'Main',\n",
       " '__builtins__',\n",
       " '__cached__',\n",
       " '__doc__',\n",
       " '__file__',\n",
       " '__loader__',\n",
       " '__name__',\n",
       " '__package__',\n",
       " '__path__',\n",
       " '__spec__',\n",
       " '__version__',\n",
       " 'core',\n",
       " 'disable_revise',\n",
       " 'enable_revise',\n",
       " 'find_libpython',\n",
       " 'install',\n",
       " 'ipy',\n",
       " 'juliainfo',\n",
       " 'libjulia',\n",
       " 'options',\n",
       " 'release',\n",
       " 'tools',\n",
       " 'utils']"
      ]
     },
     "execution_count": 5,
     "metadata": {},
     "output_type": "execute_result"
    }
   ],
   "source": [
    "dir(julia)"
   ]
  },
  {
   "cell_type": "code",
   "execution_count": 1,
   "id": "94480bab",
   "metadata": {
    "ExecuteTime": {
     "end_time": "2022-09-05T07:09:54.204463Z",
     "start_time": "2022-09-05T07:09:52.629044Z"
    }
   },
   "outputs": [
    {
     "data": {
      "text/plain": [
       "3"
      ]
     },
     "execution_count": 1,
     "metadata": {},
     "output_type": "execute_result"
    }
   ],
   "source": [
    "#法一\n",
    "from julia import Main\n",
    "juresult = \"\"\"\n",
    "X = 3\n",
    "X\n",
    "\"\"\"\n",
    "Main.eval(juresult)"
   ]
  },
  {
   "cell_type": "code",
   "execution_count": 2,
   "id": "1da6b9ad",
   "metadata": {
    "ExecuteTime": {
     "end_time": "2022-09-05T07:10:24.893604Z",
     "start_time": "2022-09-05T07:10:24.880684Z"
    }
   },
   "outputs": [
    {
     "data": {
      "text/plain": [
       "3"
      ]
     },
     "execution_count": 2,
     "metadata": {},
     "output_type": "execute_result"
    }
   ],
   "source": [
    "#法二\n",
    "from julia import Main\n",
    "Main.eval(\"m=3\")"
   ]
  },
  {
   "cell_type": "code",
   "execution_count": null,
   "id": "c26515df",
   "metadata": {},
   "outputs": [],
   "source": []
  }
 ],
 "metadata": {
  "kernelspec": {
   "display_name": "Python 3 (ipykernel)",
   "language": "python",
   "name": "python3"
  },
  "language_info": {
   "codemirror_mode": {
    "name": "ipython",
    "version": 3
   },
   "file_extension": ".py",
   "mimetype": "text/x-python",
   "name": "python",
   "nbconvert_exporter": "python",
   "pygments_lexer": "ipython3",
   "version": "3.9.7"
  },
  "nbTranslate": {
   "displayLangs": [
    "*"
   ],
   "hotkey": "alt-t",
   "langInMainMenu": true,
   "sourceLang": "en",
   "targetLang": "fr",
   "useGoogleTranslate": true
  },
  "notify_time": "30",
  "toc": {
   "base_numbering": 1,
   "nav_menu": {},
   "number_sections": true,
   "sideBar": true,
   "skip_h1_title": false,
   "title_cell": "Table of Contents",
   "title_sidebar": "Contents",
   "toc_cell": false,
   "toc_position": {
    "height": "calc(100% - 180px)",
    "left": "10px",
    "top": "150px",
    "width": "313.2px"
   },
   "toc_section_display": true,
   "toc_window_display": true
  }
 },
 "nbformat": 4,
 "nbformat_minor": 5
}
