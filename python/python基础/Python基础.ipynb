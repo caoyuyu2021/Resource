{
 "cells": [
  {
   "cell_type": "markdown",
   "id": "9f211689",
   "metadata": {},
   "source": [
    "<font face=\"微软雅黑\" color=green size=5>Python基础</font>"
   ]
  },
  {
   "cell_type": "markdown",
   "id": "2a0ff69d",
   "metadata": {},
   "source": [
    "# 基本数据类型"
   ]
  },
  {
   "cell_type": "markdown",
   "id": "b66259f5",
   "metadata": {},
   "source": [
    "python基本数据类型分为数字和组，数字包括：整型int()、浮点型float()、布尔型bool()、复数complex()。组包括：序列（字符串str()、列表list()、元组tuple()）、集合set()、字典dict()。"
   ]
  },
  {
   "cell_type": "markdown",
   "id": "b65c9c6c",
   "metadata": {},
   "source": [
    "## 数字"
   ]
  },
  {
   "cell_type": "code",
   "execution_count": 1,
   "id": "23dc17e6",
   "metadata": {
    "ExecuteTime": {
     "end_time": "2022-05-31T12:02:36.339293Z",
     "start_time": "2022-05-31T12:02:36.315697Z"
    }
   },
   "outputs": [
    {
     "data": {
      "text/plain": [
       "int"
      ]
     },
     "execution_count": 1,
     "metadata": {},
     "output_type": "execute_result"
    }
   ],
   "source": [
    "type(1) #查看数据类型"
   ]
  },
  {
   "cell_type": "markdown",
   "id": "766a020a",
   "metadata": {},
   "source": [
    "在除法中A/B得到的是float类型，而A//B得到的是int类型。"
   ]
  },
  {
   "cell_type": "markdown",
   "id": "5d63e85b",
   "metadata": {},
   "source": [
    "二进制表示：0b+数字；八进制表示：0o+数字；十六进制表示：0x+数字，其他进制转二进制bin()，其他进制转十进制int()，其他进制转十六进制hex()，其他进制转八进制oct()。"
   ]
  },
  {
   "cell_type": "code",
   "execution_count": 3,
   "id": "dbd10eb5",
   "metadata": {
    "ExecuteTime": {
     "end_time": "2022-05-31T12:07:32.052633Z",
     "start_time": "2022-05-31T12:07:32.043847Z"
    }
   },
   "outputs": [
    {
     "data": {
      "text/plain": [
       "1"
      ]
     },
     "execution_count": 3,
     "metadata": {},
     "output_type": "execute_result"
    }
   ],
   "source": [
    "int(True)"
   ]
  },
  {
   "cell_type": "code",
   "execution_count": 4,
   "id": "a4967503",
   "metadata": {
    "ExecuteTime": {
     "end_time": "2022-05-31T12:07:45.532908Z",
     "start_time": "2022-05-31T12:07:45.523898Z"
    }
   },
   "outputs": [
    {
     "data": {
      "text/plain": [
       "0"
      ]
     },
     "execution_count": 4,
     "metadata": {},
     "output_type": "execute_result"
    }
   ],
   "source": [
    "int(False)"
   ]
  },
  {
   "cell_type": "markdown",
   "id": "52e62e7b",
   "metadata": {},
   "source": [
    "int8  byte  1个字节           \n",
    "int16 short 2个字节         \n",
    "int32 int  4个字节          \n",
    "int64 long 8个字节  \n",
    "uint 无符号 表正数  \n",
    "float   半精度  \n",
    "float32 单精度  \n",
    "float64 双精度  "
   ]
  },
  {
   "cell_type": "markdown",
   "id": "09ba8237",
   "metadata": {},
   "source": [
    "bool类型表示真假，bool(x):非零数字、字符均为True，None、零和空值均为False。"
   ]
  },
  {
   "cell_type": "markdown",
   "id": "b5a610bf",
   "metadata": {},
   "source": [
    "## 字符串"
   ]
  },
  {
   "cell_type": "markdown",
   "id": "41f09f92",
   "metadata": {},
   "source": [
    "单引号''，双引号\"\"，三引号''''''，字符串过长可用三引号，三引号内可回车。"
   ]
  },
  {
   "cell_type": "markdown",
   "id": "0567be01",
   "metadata": {},
   "source": [
    "转义字符：表示无法看见的字符，与语言本身语法有冲突的字符。  \n",
    "\\n 换行  \\' 单引号  \\t 横向制表符  \\r 回车  \\ 将\\后面的转换成字符。"
   ]
  },
  {
   "cell_type": "markdown",
   "id": "161ede13",
   "metadata": {},
   "source": [
    "字符串\\*n：表示将字符串重复n次。  \n",
    "字符串[n]：表示提取字符串中索引为n的字符，空格、小数点都算字符，n为负数时，从后往前提取字符，-1为提取最后一个字符，索引从0开始。  \n",
    "字符串[n:m]：表示提取索引n到m的字符（不包括m），若m不写，则提取索引n之后的所有字符，若n不写，则提取从头到索引m的字符（不包括m）。  "
   ]
  },
  {
   "cell_type": "markdown",
   "id": "a1817e01",
   "metadata": {},
   "source": [
    "字符串的操作：字符串名.函数：调用字符串的内置函数。"
   ]
  },
  {
   "cell_type": "markdown",
   "id": "1f091475",
   "metadata": {},
   "source": [
    "upper() 全部大写   \n",
    "lower() 全部小写    \n",
    "swapcase() 大小写互换  \n",
    "capitalize() 首字母大写，其余小写  \n",
    "title() 首字母大写  \n",
    "count() 统计指定字符串出现的次数  \n",
    "strip() 去两边空格  \n",
    "lstrip() 去左边空格  \n",
    "rstrip() 去右边空格  \n",
    "split() split(',') 将字符串按逗号分隔  \n",
    "replace(旧字符, 新字符) 将旧字符替换成新字符  \n",
    "isalpha() 判断字母  \n",
    "isspace() 判断空格  \n",
    "isdigit() 判断数字  "
   ]
  },
  {
   "cell_type": "code",
   "execution_count": 5,
   "id": "d2c642b5",
   "metadata": {
    "ExecuteTime": {
     "end_time": "2022-05-31T12:32:35.914609Z",
     "start_time": "2022-05-31T12:32:35.897532Z"
    }
   },
   "outputs": [
    {
     "data": {
      "text/plain": [
       "['In',\n",
       " 'NamespaceMagics',\n",
       " 'Out',\n",
       " '_',\n",
       " '_2',\n",
       " '_3',\n",
       " '_4',\n",
       " '_Jupyter',\n",
       " '__',\n",
       " '___',\n",
       " '__builtin__',\n",
       " '__builtins__',\n",
       " '__doc__',\n",
       " '__loader__',\n",
       " '__name__',\n",
       " '__package__',\n",
       " '__spec__',\n",
       " '_dh',\n",
       " '_getshapeof',\n",
       " '_getsizeof',\n",
       " '_i',\n",
       " '_i1',\n",
       " '_i2',\n",
       " '_i3',\n",
       " '_i4',\n",
       " '_i5',\n",
       " '_ih',\n",
       " '_ii',\n",
       " '_iii',\n",
       " '_nms',\n",
       " '_oh',\n",
       " 'exit',\n",
       " 'get_ipython',\n",
       " 'getsizeof',\n",
       " 'json',\n",
       " 'np',\n",
       " 'quit',\n",
       " 'var_dic_list']"
      ]
     },
     "execution_count": 5,
     "metadata": {},
     "output_type": "execute_result"
    }
   ],
   "source": [
    "dir() #不带参数时，返回当前范围内的变量、方法和定义的类型列表；带参数时，返回参数的属性、方法列表"
   ]
  },
  {
   "cell_type": "markdown",
   "id": "cdf083d6",
   "metadata": {},
   "source": [
    "字符串格式化：  \n",
    "%c 格式化字符串及其ASCII码  \n",
    "%s 格式化字符串  \n",
    "%d 格式化整数  \n",
    "%f 格式化定点数，可指定小数点的精度，%m.nf 输出m位，其中小数点后n位；%.nf 小数点后n位。  \n",
    "%e 用科学计数法格式化定点数  \n",
    "print() 格式化输出"
   ]
  },
  {
   "cell_type": "code",
   "execution_count": 1,
   "id": "28c47bdf",
   "metadata": {
    "ExecuteTime": {
     "end_time": "2022-06-02T01:08:08.476298Z",
     "start_time": "2022-06-02T01:08:08.451268Z"
    }
   },
   "outputs": [
    {
     "name": "stdout",
     "output_type": "stream",
     "text": [
      "1的2倍是：2\n"
     ]
    }
   ],
   "source": [
    "a = 1\n",
    "b = 2\n",
    "print(\"%d的2倍是：%d\" %(a, b))"
   ]
  },
  {
   "cell_type": "code",
   "execution_count": 4,
   "id": "8230da00",
   "metadata": {
    "ExecuteTime": {
     "end_time": "2022-06-02T01:11:05.981516Z",
     "start_time": "2022-06-02T01:11:05.965944Z"
    }
   },
   "outputs": [
    {
     "name": "stdout",
     "output_type": "stream",
     "text": [
      "I love Fishc.com\n"
     ]
    }
   ],
   "source": [
    "print(\"{0} love {1}.{2}\".format(\"I\", \"Fishc\",\"com\")) #位置参数"
   ]
  },
  {
   "cell_type": "code",
   "execution_count": 6,
   "id": "b4544611",
   "metadata": {
    "ExecuteTime": {
     "end_time": "2022-06-02T01:11:46.861870Z",
     "start_time": "2022-06-02T01:11:46.832299Z"
    }
   },
   "outputs": [
    {
     "name": "stdout",
     "output_type": "stream",
     "text": [
      "I love Fishc.com\n"
     ]
    }
   ],
   "source": [
    "print(\"{a} love {b}.{c}\".format(a = \"I\", b = \"Fishc\", c = \"com\")) #关键字参数"
   ]
  },
  {
   "cell_type": "code",
   "execution_count": 7,
   "id": "c0dddf26",
   "metadata": {
    "ExecuteTime": {
     "end_time": "2022-06-02T01:13:07.792553Z",
     "start_time": "2022-06-02T01:13:07.784358Z"
    }
   },
   "outputs": [
    {
     "name": "stdout",
     "output_type": "stream",
     "text": [
      "1的2倍是：2\n"
     ]
    }
   ],
   "source": [
    "a = 1\n",
    "b = 2\n",
    "print(\"{0:d}的2倍是：{1:d}\".format(a, b)) #冒号后面是格式，花括号里不写百分号，格式也可以写成{0:.2f}保留两位小数"
   ]
  },
  {
   "cell_type": "markdown",
   "id": "a18662ea",
   "metadata": {},
   "source": [
    "原始字符串：只需要在字符串前加一个英文字母r即可。"
   ]
  },
  {
   "cell_type": "code",
   "execution_count": 8,
   "id": "0e8a36b3",
   "metadata": {
    "ExecuteTime": {
     "end_time": "2022-06-02T01:15:26.952772Z",
     "start_time": "2022-06-02T01:15:26.930766Z"
    }
   },
   "outputs": [
    {
     "name": "stdout",
     "output_type": "stream",
     "text": [
      "[1, 2, 3, 4] "
     ]
    }
   ],
   "source": [
    "x = [1,2,3,4]\n",
    "print(x, end = \" \")#表示将x按行打印，中间加逗号表示按行逗号打印"
   ]
  },
  {
   "cell_type": "code",
   "execution_count": 9,
   "id": "a7e5fe61",
   "metadata": {
    "ExecuteTime": {
     "end_time": "2022-06-02T01:21:25.440814Z",
     "start_time": "2022-06-02T01:21:25.426268Z"
    }
   },
   "outputs": [
    {
     "name": "stdout",
     "output_type": "stream",
     "text": [
      "a-b-c\n"
     ]
    }
   ],
   "source": [
    "str = \"-\" #分隔符\n",
    "seq = ('a', 'b', 'c') #要链接的元素列表，字符串，元组，字典\n",
    "print(str.join(seq)) #以str作为分隔符，将seq所有元素合并成一个新的字符串\n",
    "#join() 将序列中的元素以指定的字符连接生成一个新的字符串"
   ]
  },
  {
   "cell_type": "code",
   "execution_count": 10,
   "id": "3f40eb3e",
   "metadata": {
    "ExecuteTime": {
     "end_time": "2022-06-02T01:21:45.176655Z",
     "start_time": "2022-06-02T01:21:45.168658Z"
    }
   },
   "outputs": [
    {
     "name": "stdout",
     "output_type": "stream",
     "text": [
      "abc\n"
     ]
    }
   ],
   "source": [
    "print(''.join(seq))"
   ]
  },
  {
   "cell_type": "markdown",
   "id": "42f256d4",
   "metadata": {},
   "source": [
    "## 列表"
   ]
  },
  {
   "cell_type": "markdown",
   "id": "1531cef1",
   "metadata": {},
   "source": [
    "在python中，用方括号[]表示列表，并用逗号来分隔其中的元素。"
   ]
  },
  {
   "cell_type": "markdown",
   "id": "6cfd6586",
   "metadata": {},
   "source": [
    "1、访问列表元素 列表[索引]，索引从0开始。  \n",
    "2、列表中插入元素：  \n",
    "insert() 列表名.insert(索引,元素) 在索引处插入元素  \n",
    "append() 列表名.append(元素) 在列表末尾插入元素  \n",
    "extend() 列表1.extend(列表2) 将列表2插入到列表1后面  \n",
    "3、列表中删除元素：  \n",
    "del del 列表名[索引] 删除索引处的元素  \n",
    "remove 列表名.remove(元素) 删除列表中的元素（只会删除符合条件的第一个）  \n",
    "pop 列表名.pop() 删除最后一个元素，并返回该元素的值  \n",
    "列表名.pop(索引) 删除删除索引处的元素  \n",
    "4、空列表 变量名 = []  \n",
    "列表长度 len(列表名)  \n",
    "列表名[][] 访问嵌套列表中的元素  \n",
    "列表名[条件] 判断条件，True输出，False不输出\n",
    "5、列表切片\n",
    "列表名[m:n] 提取列表索引从m到n-1的元素  \n",
    "列表名[m:] 提取列表中从索引m开始的元素  \n",
    "列表名[:n] 提取列表中索引n-1之前的所有元素   \n",
    "列表名[m:n:s] s代表步长，也可以用负值，最后一个字符为-1  \n",
    "列表名[-3:-1] 提取最后三个元素  "
   ]
  },
  {
   "cell_type": "code",
   "execution_count": 26,
   "id": "da55fe8a",
   "metadata": {
    "ExecuteTime": {
     "end_time": "2022-06-02T01:51:04.813785Z",
     "start_time": "2022-06-02T01:51:04.794794Z"
    }
   },
   "outputs": [
    {
     "data": {
      "text/plain": [
       "['__add__',\n",
       " '__class__',\n",
       " '__class_getitem__',\n",
       " '__contains__',\n",
       " '__delattr__',\n",
       " '__delitem__',\n",
       " '__dir__',\n",
       " '__doc__',\n",
       " '__eq__',\n",
       " '__format__',\n",
       " '__ge__',\n",
       " '__getattribute__',\n",
       " '__getitem__',\n",
       " '__gt__',\n",
       " '__hash__',\n",
       " '__iadd__',\n",
       " '__imul__',\n",
       " '__init__',\n",
       " '__init_subclass__',\n",
       " '__iter__',\n",
       " '__le__',\n",
       " '__len__',\n",
       " '__lt__',\n",
       " '__mul__',\n",
       " '__ne__',\n",
       " '__new__',\n",
       " '__reduce__',\n",
       " '__reduce_ex__',\n",
       " '__repr__',\n",
       " '__reversed__',\n",
       " '__rmul__',\n",
       " '__setattr__',\n",
       " '__setitem__',\n",
       " '__sizeof__',\n",
       " '__str__',\n",
       " '__subclasshook__',\n",
       " 'append',\n",
       " 'clear',\n",
       " 'copy',\n",
       " 'count',\n",
       " 'extend',\n",
       " 'index',\n",
       " 'insert',\n",
       " 'pop',\n",
       " 'remove',\n",
       " 'reverse',\n",
       " 'sort']"
      ]
     },
     "execution_count": 26,
     "metadata": {},
     "output_type": "execute_result"
    }
   ],
   "source": [
    "dir(list) #查看列表中的内置方法"
   ]
  },
  {
   "cell_type": "markdown",
   "id": "3125c842",
   "metadata": {},
   "source": [
    "列表名.方法() 调用列表中的方法\n",
    "列表名.reverse() 翻转列表中的元素 或列表名[::-1]  \n",
    "列表名.sort() 将列表中的元素升序排列  \n",
    "列表名.sort(reverse=True) 将列表中的元素降序排列  \n",
    "列表2 = 列表1[:] 列表拷贝"
   ]
  },
  {
   "cell_type": "markdown",
   "id": "a62f7500",
   "metadata": {},
   "source": [
    "sorted(range(len(列表名)),key = lambda k:列表名[k]) #返回排序列表的索引"
   ]
  },
  {
   "cell_type": "markdown",
   "id": "edaffdd6",
   "metadata": {},
   "source": [
    "## 元组"
   ]
  },
  {
   "cell_type": "markdown",
   "id": "dba312ff",
   "metadata": {},
   "source": [
    "在python中，用圆括号()来表示元组，用逗号分隔元素。"
   ]
  },
  {
   "cell_type": "markdown",
   "id": "2cd8fab5",
   "metadata": {},
   "source": [
    "访问元组元素 元组名[]\n",
    "表示一个元素的元组 (元素,)#加个逗号"
   ]
  },
  {
   "cell_type": "code",
   "execution_count": 28,
   "id": "71f678d0",
   "metadata": {
    "ExecuteTime": {
     "end_time": "2022-06-02T02:06:00.537624Z",
     "start_time": "2022-06-02T02:06:00.513574Z"
    }
   },
   "outputs": [
    {
     "data": {
      "text/plain": [
       "(1, 2, 5, 3, 4)"
      ]
     },
     "execution_count": 28,
     "metadata": {},
     "output_type": "execute_result"
    }
   ],
   "source": [
    "s = (1,2,3,4)\n",
    "s = s[: 2] +(5, ) + s[2: ] #元组中元素的添加\n",
    "s"
   ]
  },
  {
   "cell_type": "code",
   "execution_count": 30,
   "id": "dcde8144",
   "metadata": {
    "ExecuteTime": {
     "end_time": "2022-06-02T02:07:49.188950Z",
     "start_time": "2022-06-02T02:07:49.176999Z"
    }
   },
   "outputs": [
    {
     "name": "stdout",
     "output_type": "stream",
     "text": [
      "1\n",
      "2\n",
      "3\n"
     ]
    }
   ],
   "source": [
    "tup = (1,2,3)\n",
    "a,b,c = tup\n",
    "print(a)\n",
    "print(b)\n",
    "print(c)\n",
    "#元组拆包，如果你想将元组型的表达式赋值给变量，python会对符号右边的值进行拆包"
   ]
  },
  {
   "cell_type": "markdown",
   "id": "205a9e8c",
   "metadata": {},
   "source": [
    "元组名.count(数值名) 计量元组中某个数值出现的次数"
   ]
  },
  {
   "cell_type": "markdown",
   "id": "f33f5b34",
   "metadata": {},
   "source": [
    "## 序列"
   ]
  },
  {
   "cell_type": "markdown",
   "id": "7debe00e",
   "metadata": {
    "ExecuteTime": {
     "end_time": "2022-06-02T02:12:30.215862Z",
     "start_time": "2022-06-02T02:12:30.191613Z"
    }
   },
   "source": [
    "str,list,tuple均为序列（有序）  \n",
    "ord(字符) 查看字符的ASCII码"
   ]
  },
  {
   "cell_type": "markdown",
   "id": "19d34680",
   "metadata": {},
   "source": [
    "序列共同点：  \n",
    "都可以通过索引得到每一个元素  \n",
    "默认索引都是从0开始  \n",
    "可以通过切片的方法得到一个范围内的元素的集合   \n",
    "有很多共同的操作符（重复操作符*，拼接操作符+，成员关系操作符in/not in）"
   ]
  },
  {
   "cell_type": "markdown",
   "id": "84698213",
   "metadata": {},
   "source": [
    "## 集合"
   ]
  },
  {
   "cell_type": "markdown",
   "id": "381d23bd",
   "metadata": {},
   "source": [
    "在python中，用花括号{}表示集合，集合是无序的，且集合中的元素唯一。  \n",
    "差集：{}-{}  \n",
    "交集：{}&{}  \n",
    "并集：{}|{}  \n",
    "空集：set()  "
   ]
  },
  {
   "cell_type": "markdown",
   "id": "09870544",
   "metadata": {},
   "source": [
    "集合名.add(元素) 集合中添加元素  \n",
    "集合名.remove(元素) 删除元素  \n",
    "frozenset([]) 不可变集合，不能进行添加，删除"
   ]
  },
  {
   "cell_type": "markdown",
   "id": "76fcf446",
   "metadata": {},
   "source": [
    "## 字典"
   ]
  },
  {
   "cell_type": "markdown",
   "id": "2d9215f3",
   "metadata": {},
   "source": [
    "在python中，字典是一系列键（key）-值（value）对，每个键都有一个值相关联，字典不是序列，是映射类型。{key1:value1, key2:value2, ...}"
   ]
  },
  {
   "cell_type": "markdown",
   "id": "00ff10b7",
   "metadata": {},
   "source": [
    "字典名[key] 通过key，访问value，字典中不能有重复的key。  \n",
    "value可取的值：int,float,set,str,list,dict  \n",
    "key必须是不可变的类型：int,str  \n",
    "空字典 变量名 = {} "
   ]
  },
  {
   "cell_type": "markdown",
   "id": "c926220a",
   "metadata": {},
   "source": [
    "字典内置函数 dir(dict)\n",
    "字典名.get(键名) 得到键对应的值  \n",
    "字典名.clear() 清空字典  \n",
    "字典名[新键]=新值 字典中添加新的键值  \n",
    "字典名.update(新字典) 将新字典加入字典中  \n",
    "字典名.items() 以列表返回可遍历元组数组  \n",
    "字典名.keys() 得到字典中的键  \n",
    "字典名.values() 得到字典中的值"
   ]
  },
  {
   "cell_type": "markdown",
   "id": "1e9b53a7",
   "metadata": {},
   "source": [
    "python字典的排序，按key排序和按value排序"
   ]
  },
  {
   "cell_type": "code",
   "execution_count": 38,
   "id": "f8259065",
   "metadata": {
    "ExecuteTime": {
     "end_time": "2022-06-02T02:55:12.899476Z",
     "start_time": "2022-06-02T02:55:12.876536Z"
    }
   },
   "outputs": [
    {
     "data": {
      "text/plain": [
       "dict_items([('a', 5), ('c', 3), ('b', 4)])"
      ]
     },
     "execution_count": 38,
     "metadata": {},
     "output_type": "execute_result"
    }
   ],
   "source": [
    "d = {'a':5, 'c':3, 'b':4}\n",
    "d.items()"
   ]
  },
  {
   "cell_type": "markdown",
   "id": "01fedfa7",
   "metadata": {},
   "source": [
    "用关键字key或value可对字典按值排序或按key排序"
   ]
  },
  {
   "cell_type": "code",
   "execution_count": 39,
   "id": "177a2d43",
   "metadata": {
    "ExecuteTime": {
     "end_time": "2022-06-02T02:58:34.177558Z",
     "start_time": "2022-06-02T02:58:34.160282Z"
    }
   },
   "outputs": [
    {
     "data": {
      "text/plain": [
       "[('c', 3), ('b', 4), ('a', 5)]"
      ]
     },
     "execution_count": 39,
     "metadata": {},
     "output_type": "execute_result"
    }
   ],
   "source": [
    "#按value排序\n",
    "s = sorted(d.items(),key = lambda x:x[1]) #x[1]表示第二个元素即value\n",
    "s"
   ]
  },
  {
   "cell_type": "code",
   "execution_count": 40,
   "id": "50a9b277",
   "metadata": {
    "ExecuteTime": {
     "end_time": "2022-06-02T02:58:38.659772Z",
     "start_time": "2022-06-02T02:58:38.643733Z"
    }
   },
   "outputs": [
    {
     "data": {
      "text/plain": [
       "[('a', 5), ('b', 4), ('c', 3)]"
      ]
     },
     "execution_count": 40,
     "metadata": {},
     "output_type": "execute_result"
    }
   ],
   "source": [
    "#按key排序\n",
    "s = sorted(d.items(),key = lambda x:x[0]) #x[1]表示第一个元素即key\n",
    "s"
   ]
  },
  {
   "cell_type": "markdown",
   "id": "6a4b7906",
   "metadata": {},
   "source": [
    "字典不能遍历，但可用字典名.items()来代替"
   ]
  },
  {
   "cell_type": "code",
   "execution_count": 4,
   "id": "1169bcfd",
   "metadata": {
    "ExecuteTime": {
     "end_time": "2022-06-02T08:49:04.297456Z",
     "start_time": "2022-06-02T08:49:04.285540Z"
    }
   },
   "outputs": [
    {
     "name": "stdout",
     "output_type": "stream",
     "text": [
      "a\n",
      "c\n",
      "b\n"
     ]
    }
   ],
   "source": [
    "d = {'a':5, 'c':3, 'b':4}\n",
    "for key, value in d.items():\n",
    "    print(key)"
   ]
  },
  {
   "cell_type": "markdown",
   "id": "6c710165",
   "metadata": {},
   "source": [
    "for循环中，key和value是字典中的形参，分别代表键和值，可以用其他字母代替，a.items()将字典以列表的形式返回，最后打印键的所有，也可以打印键对应的值。"
   ]
  },
  {
   "cell_type": "markdown",
   "id": "e4b38ff0",
   "metadata": {},
   "source": [
    "## 其他"
   ]
  },
  {
   "cell_type": "markdown",
   "id": "aca04fdc",
   "metadata": {},
   "source": [
    "### None"
   ]
  },
  {
   "cell_type": "markdown",
   "id": "12b8344a",
   "metadata": {},
   "source": [
    "None在python中是一个对象，它不等同于空字符串，空列表，0，False"
   ]
  },
  {
   "cell_type": "markdown",
   "id": "c64c3ad9",
   "metadata": {},
   "source": [
    "### 可变对象与不可变对象"
   ]
  },
  {
   "cell_type": "markdown",
   "id": "de8cd51c",
   "metadata": {},
   "source": [
    "列表，字典，numpy数组都是可变对象，大多数用户定义的类型也是可变的，可变对象中包含的的对象和值是可以修改的。  \n",
    "字符串，元组中的对象和值是不可以修改的，是不可变对象，如果它们中的一个对象是可变的，你可以在内部进行修改。  "
   ]
  },
  {
   "cell_type": "markdown",
   "id": "0f6218c4",
   "metadata": {},
   "source": [
    "# 变量与运算符"
   ]
  },
  {
   "cell_type": "markdown",
   "id": "c9c622c9",
   "metadata": {},
   "source": [
    "变量使用：  \n",
    "1、在使用变量之前，需要对其先赋值。  \n",
    "2、变量名可以是数字、字母、下划线，但变量名不能以数字开头。  \n",
    "3、字母可以是大写或小写，但大小写是不同的。  \n",
    "4、等号=是赋值的意思。"
   ]
  },
  {
   "cell_type": "markdown",
   "id": "3110735d",
   "metadata": {},
   "source": [
    "比较运算符：>,<,==,>=,<=,!="
   ]
  },
  {
   "cell_type": "markdown",
   "id": "7266588e",
   "metadata": {},
   "source": [
    "逻辑运算符：not,and,or,优先级 not>and>or"
   ]
  },
  {
   "cell_type": "markdown",
   "id": "2a4a68dd",
   "metadata": {
    "ExecuteTime": {
     "end_time": "2022-06-02T08:24:00.749177Z",
     "start_time": "2022-06-02T08:24:00.729240Z"
    }
   },
   "source": [
    "科学计数法 e"
   ]
  },
  {
   "cell_type": "markdown",
   "id": "de587413",
   "metadata": {},
   "source": [
    "幂运算 **"
   ]
  },
  {
   "cell_type": "raw",
   "id": "451f89b9",
   "metadata": {},
   "source": [
    "函数：函数名(参数列表)：\n",
    "    函数体\n",
    "函数体中有返回值return，没有返回值，会返回None，利用列表可返回多个值，也可返回字典等，return(a,b,c)返回多个值"
   ]
  },
  {
   "cell_type": "markdown",
   "id": "e94909bb",
   "metadata": {},
   "source": [
    "# 分支与循环"
   ]
  },
  {
   "cell_type": "raw",
   "id": "26eac600",
   "metadata": {},
   "source": [
    "if 条件:       if 条件:\n",
    "    语句           语句1\n",
    "else:         elif 条件2:\n",
    "    语句           语句2\n",
    "             else:\n",
    "                 语句"
   ]
  },
  {
   "cell_type": "raw",
   "id": "ceb03288",
   "metadata": {},
   "source": [
    "while 条件:\n",
    "    语句\n",
    "else:\n",
    "    语句"
   ]
  },
  {
   "cell_type": "raw",
   "id": "4ea13b7d",
   "metadata": {},
   "source": [
    "for 目标 in 表达式:\n",
    "    语句\n",
    "else:\n",
    "    语句"
   ]
  },
  {
   "cell_type": "markdown",
   "id": "73ee2595",
   "metadata": {},
   "source": [
    "range(a,b,c) 从a开始，到b结束，步长为c\n",
    "break 终止当前循环并跳出循环，不再执行下次循环。if不算循环  \n",
    "continue 终止当前循环，执行下次循环  \n",
    "range(n) 产生从0到n-1的数"
   ]
  },
  {
   "cell_type": "markdown",
   "id": "cdfb5da8",
   "metadata": {},
   "source": [
    "# 文件系统"
   ]
  },
  {
   "cell_type": "markdown",
   "id": "01574d6b",
   "metadata": {
    "ExecuteTime": {
     "end_time": "2022-06-02T08:58:34.962823Z",
     "start_time": "2022-06-02T08:58:34.943019Z"
    }
   },
   "source": [
    "1、打开文件：open(文件名，打开模式) f = open(\"路径\\\\\")\n",
    "2、打开模式：  \n",
    "'r' 以只读方式打开文件  \n",
    "'w' 以写入方式打开文件，会覆盖已存在的文件  \n",
    "'b' 以二进制模式打开文件  \n",
    "3、f.close() 关闭文件  \n",
    "f.read() 读取文件的所有内容，并将文件指针指向末尾  \n",
    "f.write() 写入文件  "
   ]
  },
  {
   "cell_type": "raw",
   "id": "80025996",
   "metadata": {},
   "source": [
    "打开文件的步骤  \n",
    "f = open(\"路径\")    \n",
    "for each in f :  \n",
    "    print(each)   \n",
    "或者  \n",
    "print(f.read())  \n",
    "或者  \n",
    "with open(\"路径\",读写模式) as f:  \n",
    "    文件操作  "
   ]
  },
  {
   "cell_type": "markdown",
   "id": "ed2539af",
   "metadata": {},
   "source": [
    "file = os.path.join(os.getcwd(), \"dist.txt\")\n",
    "with open(file, 'r') as file:\n",
    "    fh = file.read()"
   ]
  },
  {
   "cell_type": "markdown",
   "id": "2a8146a4",
   "metadata": {},
   "source": [
    "使用with语句来读写文件，就可以省略关闭文件的繁琐了，不管在处理文件过程中是否发生异常，都能保证with语句执行完毕后已经关闭了打开的文件句柄。"
   ]
  },
  {
   "cell_type": "markdown",
   "id": "7b836a44",
   "metadata": {},
   "source": [
    "# 模块"
   ]
  },
  {
   "cell_type": "markdown",
   "id": "9f092d92",
   "metadata": {},
   "source": [
    "一个模块是单个py文件或是多个py文件"
   ]
  },
  {
   "cell_type": "markdown",
   "id": "4df1deff",
   "metadata": {},
   "source": [
    "导入模块：  \n",
    "1、import 模块名  \n",
    "2、from 模块名 import 函数名 （函数名为\\*时，可导入该模块的所有函数）  \n",
    "3、import 模块名 as 新名称"
   ]
  },
  {
   "cell_type": "markdown",
   "id": "38ef5d73",
   "metadata": {},
   "source": [
    "dir(模块名) 显示模块中的内置方法  \n",
    "help(模块名)"
   ]
  },
  {
   "cell_type": "markdown",
   "id": "3c20a4b8",
   "metadata": {},
   "source": [
    "调用模块中的函数：模块名.函数名(参数)"
   ]
  },
  {
   "cell_type": "raw",
   "id": "981d0a76",
   "metadata": {},
   "source": [
    "if __name__ == '__main__':\n",
    "    语句\n",
    " 理解：当模块被直接运行时，以下代码将被运行，当模块被导入时，代码块将不被运行。"
   ]
  },
  {
   "cell_type": "markdown",
   "id": "57b0d71b",
   "metadata": {},
   "source": [
    "# 函数式编程"
   ]
  },
  {
   "cell_type": "markdown",
   "id": "70c6096a",
   "metadata": {},
   "source": [
    "## 匿名函数"
   ]
  },
  {
   "cell_type": "markdown",
   "id": "2fbb02ba",
   "metadata": {},
   "source": [
    "匿名函数：lambda 参数列表: 表达式"
   ]
  },
  {
   "cell_type": "code",
   "execution_count": 8,
   "id": "8f5a206f",
   "metadata": {
    "ExecuteTime": {
     "end_time": "2022-06-02T09:23:03.222435Z",
     "start_time": "2022-06-02T09:23:03.212469Z"
    }
   },
   "outputs": [
    {
     "data": {
      "text/plain": [
       "3"
      ]
     },
     "execution_count": 8,
     "metadata": {},
     "output_type": "execute_result"
    }
   ],
   "source": [
    "def add(x,y):\n",
    "    return x+y\n",
    "f = add(1,2)\n",
    "f"
   ]
  },
  {
   "cell_type": "code",
   "execution_count": 9,
   "id": "906057a7",
   "metadata": {
    "ExecuteTime": {
     "end_time": "2022-06-02T09:23:30.873488Z",
     "start_time": "2022-06-02T09:23:30.856541Z"
    }
   },
   "outputs": [
    {
     "data": {
      "text/plain": [
       "3"
      ]
     },
     "execution_count": 9,
     "metadata": {},
     "output_type": "execute_result"
    }
   ],
   "source": [
    "f = lambda x, y: x+y\n",
    "f(1,2)"
   ]
  },
  {
   "cell_type": "markdown",
   "id": "0665ce1b",
   "metadata": {},
   "source": [
    "## 三元表达式"
   ]
  },
  {
   "cell_type": "markdown",
   "id": "bea86252",
   "metadata": {},
   "source": [
    "x if 条件 else y 条件为真时，返回x，条件为假时，返回y"
   ]
  },
  {
   "cell_type": "markdown",
   "id": "4591ab3d",
   "metadata": {},
   "source": [
    "## map()"
   ]
  },
  {
   "cell_type": "markdown",
   "id": "6ea4fcd8",
   "metadata": {},
   "source": [
    "map(func名，序列) 可用lambda表达式代替：根据提供的函数对指定的序列做映射。"
   ]
  },
  {
   "cell_type": "code",
   "execution_count": 2,
   "id": "377e4380",
   "metadata": {
    "ExecuteTime": {
     "end_time": "2022-06-04T12:06:43.381533Z",
     "start_time": "2022-06-04T12:06:43.363063Z"
    }
   },
   "outputs": [
    {
     "name": "stdout",
     "output_type": "stream",
     "text": [
      "<map object at 0x000001EDD1C82188>\n",
      "[1, 4, 9, 16]\n"
     ]
    }
   ],
   "source": [
    "x1 = [1,2,3,4]\n",
    "r = map(lambda x: x*x, x1)\n",
    "print(r)\n",
    "print(list(r))"
   ]
  },
  {
   "cell_type": "markdown",
   "id": "5eeb028a",
   "metadata": {},
   "source": [
    "## filter()"
   ]
  },
  {
   "cell_type": "code",
   "execution_count": 6,
   "id": "99ea8db2",
   "metadata": {
    "ExecuteTime": {
     "end_time": "2022-06-04T12:13:36.400451Z",
     "start_time": "2022-06-04T12:13:36.390682Z"
    }
   },
   "outputs": [
    {
     "name": "stdout",
     "output_type": "stream",
     "text": [
      "[1, 1, 1]\n"
     ]
    }
   ],
   "source": [
    "list_x1 = [1,0,0,1,0,1]\n",
    "r = filter(lambda x: True if x == 1 else False, list_x1) \n",
    "print(list(r))\n",
    "# filter中的lambda必须能返回True或False，filter会将结果为False的过滤掉"
   ]
  },
  {
   "cell_type": "markdown",
   "id": "3ebdd6ad",
   "metadata": {},
   "source": [
    "## reduce()"
   ]
  },
  {
   "cell_type": "code",
   "execution_count": 4,
   "id": "a82e9861",
   "metadata": {
    "ExecuteTime": {
     "end_time": "2022-06-04T12:09:52.678927Z",
     "start_time": "2022-06-04T12:09:52.661973Z"
    }
   },
   "outputs": [
    {
     "name": "stdout",
     "output_type": "stream",
     "text": [
      "15\n"
     ]
    }
   ],
   "source": [
    "from functools import reduce #连续计算，连续调用lambda\n",
    "list_x = [1,2,3,4,5]\n",
    "r = reduce(lambda x, y: x+y, list_x)\n",
    "print(r) #过程 r = (((1+2)+3)+4)+5"
   ]
  },
  {
   "cell_type": "markdown",
   "id": "c0d7035f",
   "metadata": {},
   "source": [
    "## 推导式"
   ]
  },
  {
   "cell_type": "markdown",
   "id": "0500f43b",
   "metadata": {},
   "source": [
    "### 列表推导式"
   ]
  },
  {
   "cell_type": "markdown",
   "id": "fd209fae",
   "metadata": {},
   "source": [
    "[表达式 for 变量 in 列表 if 条件] 或[表达式1 if 条件 else 表达式2 for 变量 in 列表]"
   ]
  },
  {
   "cell_type": "code",
   "execution_count": 8,
   "id": "75cb6098",
   "metadata": {
    "ExecuteTime": {
     "end_time": "2022-06-04T12:17:17.133995Z",
     "start_time": "2022-06-04T12:17:17.109028Z"
    }
   },
   "outputs": [
    {
     "data": {
      "text/plain": [
       "[36, 49, 64, 81]"
      ]
     },
     "execution_count": 8,
     "metadata": {},
     "output_type": "execute_result"
    }
   ],
   "source": [
    "a = [x**2 for x in range(10) if x>5]\n",
    "a"
   ]
  },
  {
   "cell_type": "markdown",
   "id": "4ae29886",
   "metadata": {},
   "source": [
    "### 字典推导式"
   ]
  },
  {
   "cell_type": "code",
   "execution_count": 11,
   "id": "6ffbedda",
   "metadata": {
    "ExecuteTime": {
     "end_time": "2022-06-04T12:18:44.305861Z",
     "start_time": "2022-06-04T12:18:44.293893Z"
    }
   },
   "outputs": [
    {
     "data": {
      "text/plain": [
       "{0: True,\n",
       " 1: False,\n",
       " 2: True,\n",
       " 3: False,\n",
       " 4: True,\n",
       " 5: False,\n",
       " 6: True,\n",
       " 7: False,\n",
       " 8: True,\n",
       " 9: False}"
      ]
     },
     "execution_count": 11,
     "metadata": {},
     "output_type": "execute_result"
    }
   ],
   "source": [
    "b = {i:i%2 == 0 for i in range(10)}\n",
    "b #与列表推导式类似"
   ]
  },
  {
   "cell_type": "markdown",
   "id": "fa093943",
   "metadata": {},
   "source": [
    "### 集合推导式"
   ]
  },
  {
   "cell_type": "code",
   "execution_count": 12,
   "id": "56e7b07a",
   "metadata": {
    "ExecuteTime": {
     "end_time": "2022-06-04T12:19:31.333950Z",
     "start_time": "2022-06-04T12:19:31.321481Z"
    }
   },
   "outputs": [
    {
     "data": {
      "text/plain": [
       "{1, 2, 3, 4, 5, 6, 7, 8}"
      ]
     },
     "execution_count": 12,
     "metadata": {},
     "output_type": "execute_result"
    }
   ],
   "source": [
    "c = {i for i in [1,2,3,4,5,6,7,8,1,2,3]}\n",
    "c"
   ]
  },
  {
   "cell_type": "markdown",
   "id": "38d1dbb8",
   "metadata": {},
   "source": [
    "字符串、元组没有推导式"
   ]
  },
  {
   "cell_type": "markdown",
   "id": "f6cce542",
   "metadata": {},
   "source": [
    "### 嵌套for循环"
   ]
  },
  {
   "cell_type": "code",
   "execution_count": 13,
   "id": "f6e0458a",
   "metadata": {
    "ExecuteTime": {
     "end_time": "2022-06-04T12:22:20.333006Z",
     "start_time": "2022-06-04T12:22:20.317765Z"
    }
   },
   "outputs": [
    {
     "data": {
      "text/plain": [
       "[1, 2, 3, 4, 5, 6, 7, 8, 9]"
      ]
     },
     "execution_count": 13,
     "metadata": {},
     "output_type": "execute_result"
    }
   ],
   "source": [
    "s = [(1,2,3), (4,5,6), (7,8,9)]\n",
    "f = [x for i in s for x in i]\n",
    "f"
   ]
  },
  {
   "cell_type": "markdown",
   "id": "54837bae",
   "metadata": {},
   "source": [
    "# 生成器与迭代器"
   ]
  },
  {
   "cell_type": "markdown",
   "id": "b5fe7ed9",
   "metadata": {},
   "source": [
    "生成器是一个特殊的程序，可以被用作控制循环的迭代行为，python中生成器是迭代器的一种，使用yield返回值函数，每次调用yield会暂停，而可以使用next()函数和send()函数恢复生成器。在python中，这种一边循环一边计算的机制，称为生成器（generator）。  \n",
    "生成器一次只能产生一个值，这样消耗的内存数量将大大减小。"
   ]
  },
  {
   "cell_type": "markdown",
   "id": "fed1d342",
   "metadata": {},
   "source": [
    "## 创建生成器"
   ]
  },
  {
   "cell_type": "markdown",
   "id": "1641d31e",
   "metadata": {},
   "source": [
    "1、只要把一个列表生成器（列表推导式）的方括号改为圆括号，就创建了一个生成器。"
   ]
  },
  {
   "cell_type": "code",
   "execution_count": 14,
   "id": "2f218ba4",
   "metadata": {
    "ExecuteTime": {
     "end_time": "2022-06-04T12:55:38.035271Z",
     "start_time": "2022-06-04T12:55:38.019104Z"
    }
   },
   "outputs": [
    {
     "data": {
      "text/plain": [
       "0"
      ]
     },
     "execution_count": 14,
     "metadata": {},
     "output_type": "execute_result"
    }
   ],
   "source": [
    "generator_ex = (x*x for x in range(10))\n",
    "next(generator_ex) #可通过next()函数获得生成器的下一个返回值"
   ]
  },
  {
   "cell_type": "code",
   "execution_count": 15,
   "id": "e9e6e7c0",
   "metadata": {
    "ExecuteTime": {
     "end_time": "2022-06-04T12:56:48.854427Z",
     "start_time": "2022-06-04T12:56:48.838305Z"
    }
   },
   "outputs": [
    {
     "name": "stdout",
     "output_type": "stream",
     "text": [
      "1\n",
      "4\n",
      "9\n",
      "16\n",
      "25\n",
      "36\n",
      "49\n",
      "64\n",
      "81\n"
     ]
    }
   ],
   "source": [
    "for i in generator_ex:\n",
    "    print(i)"
   ]
  },
  {
   "cell_type": "markdown",
   "id": "9d94930c",
   "metadata": {},
   "source": [
    "2、利用生成器函数：也就是用def定义的，利用关键字yield一次性返回一个结果，阻塞，重新开始。"
   ]
  },
  {
   "cell_type": "code",
   "execution_count": 17,
   "id": "dbf75f94",
   "metadata": {
    "ExecuteTime": {
     "end_time": "2022-06-04T12:59:02.478681Z",
     "start_time": "2022-06-04T12:59:02.462756Z"
    }
   },
   "outputs": [
    {
     "data": {
      "text/plain": [
       "2"
      ]
     },
     "execution_count": 17,
     "metadata": {},
     "output_type": "execute_result"
    }
   ],
   "source": [
    "def mygen():\n",
    "    yield 1\n",
    "    yield 2\n",
    "my = mygen()\n",
    "next(my)\n",
    "next(my)"
   ]
  },
  {
   "cell_type": "markdown",
   "id": "de7eb8d1",
   "metadata": {},
   "source": [
    "3、迭代器 iter() 将括号内容返回迭代器  \n",
    "next()  "
   ]
  },
  {
   "cell_type": "code",
   "execution_count": 18,
   "id": "4486175a",
   "metadata": {
    "ExecuteTime": {
     "end_time": "2022-06-04T13:00:45.415655Z",
     "start_time": "2022-06-04T13:00:45.405332Z"
    }
   },
   "outputs": [
    {
     "data": {
      "text/plain": [
       "'c'"
      ]
     },
     "execution_count": 18,
     "metadata": {},
     "output_type": "execute_result"
    }
   ],
   "source": [
    "string1 = \"cyy\"\n",
    "it = iter(string1)\n",
    "next(it)"
   ]
  },
  {
   "cell_type": "markdown",
   "id": "c7318bd5",
   "metadata": {},
   "source": [
    "生成器表达式可以作为函数参数用于替代列表推导式"
   ]
  },
  {
   "cell_type": "code",
   "execution_count": 19,
   "id": "91fa4f94",
   "metadata": {
    "ExecuteTime": {
     "end_time": "2022-06-04T13:01:51.330540Z",
     "start_time": "2022-06-04T13:01:51.306823Z"
    }
   },
   "outputs": [
    {
     "data": {
      "text/plain": [
       "328350"
      ]
     },
     "execution_count": 19,
     "metadata": {},
     "output_type": "execute_result"
    }
   ],
   "source": [
    "sum(x**2 for x in range(100))"
   ]
  },
  {
   "cell_type": "markdown",
   "id": "cecd5e8c",
   "metadata": {},
   "source": [
    "# 正则表达式"
   ]
  },
  {
   "cell_type": "markdown",
   "id": "eece0061",
   "metadata": {},
   "source": [
    "正则表达式（Regular Expression RE）是一个特殊的字符序列，一个字符串是否与我们所设定的字符序列相匹配，用于快速检索文本，实现一些替换文本的操作（区分大小写）。"
   ]
  },
  {
   "cell_type": "markdown",
   "id": "f05595ed",
   "metadata": {},
   "source": [
    "在python中，需要用到re模块来操作正则表达式 import re   \n",
    "构成类型：1）普通字符 2）特殊字符  \n",
    "正则表达式是对字符串操作的一种逻辑公式，就是用事先定义的一些特定字符及这些字符的组合，组成一个规律字符串，这个字符串用来表达对字符串的一种过滤逻辑。"
   ]
  },
  {
   "cell_type": "markdown",
   "id": "9b897e88",
   "metadata": {},
   "source": [
    "## 字符集合"
   ]
  },
  {
   "cell_type": "markdown",
   "id": "ea0f6bba",
   "metadata": {
    "ExecuteTime": {
     "end_time": "2022-06-04T13:16:29.594000Z",
     "start_time": "2022-06-04T13:16:29.589298Z"
    }
   },
   "source": [
    "[xyz] 匹配所包含的任意一个字符  \n",
    "[^xyz] 匹配未包含的任意字符  \n",
    "[a-z] 匹配指定范围内的任意字符  \n",
    "[^a-z] 匹配任何不在指定范围内的任意字符  \n",
    "[0-9] 匹配指定范围内的任意数字   \n",
    "[^0-9] 匹配任何不在指定范围内的任意数字  "
   ]
  },
  {
   "cell_type": "code",
   "execution_count": 25,
   "id": "41235e8a",
   "metadata": {
    "ExecuteTime": {
     "end_time": "2022-06-04T13:19:15.517842Z",
     "start_time": "2022-06-04T13:19:15.500899Z"
    }
   },
   "outputs": [
    {
     "name": "stdout",
     "output_type": "stream",
     "text": [
      "['acc', 'afc']\n"
     ]
    }
   ],
   "source": [
    "import re\n",
    "s = \"abc, acc, adc, aec, afc, ahc\"\n",
    "r = re.findall('a[cf]c', s) #寻找含c和f的字符串\n",
    "print(r)"
   ]
  },
  {
   "cell_type": "markdown",
   "id": "1dc02db7",
   "metadata": {},
   "source": [
    "## 概括字符集"
   ]
  },
  {
   "cell_type": "markdown",
   "id": "7f9da97d",
   "metadata": {},
   "source": [
    "\\d 匹配一个数字字符  \n",
    "\\D 匹配一个非数字字符  \n",
    "\\ 将下一个字符标记为一个特殊字符 \\n匹配一个换行符，\\r匹配一个回车符，\\.匹配一个点号  \n",
    "\\s 匹配任何空白字符，包括空格、制表符、换页符等  \n",
    "\\S 匹配任何非空白字符  \n",
    "\\w 匹配包括下划线的任何单词字符  \n",
    "\\W 匹配任何非单词字符"
   ]
  },
  {
   "cell_type": "markdown",
   "id": "b0cec72a",
   "metadata": {},
   "source": [
    "## 数量词"
   ]
  },
  {
   "cell_type": "markdown",
   "id": "cd6a1985",
   "metadata": {},
   "source": [
    "{n} 匹配确定的n次，'a{n}' 匹配n次a  \n",
    "{n,m} 最少匹配n次，最多匹配m次  \n",
    "{n,} 最少匹配n次  \n",
    "\\* 匹配前面的子表达式0次或多次 'za\\*' 能匹配'z','zaa'.'zaaa'等   \n",
    "? 匹配前面的子表达式0次或1次  \n",
    "x|y 匹配x或y  \n",
    ". 匹配除'\\n'之外的任何单个字符  \n",
    "\\+ 匹配前面的表达式一次或多次  \n",
    ".* 匹配任意字符  "
   ]
  },
  {
   "cell_type": "markdown",
   "id": "44a9f67a",
   "metadata": {},
   "source": [
    "## 边界匹配"
   ]
  },
  {
   "cell_type": "markdown",
   "id": "36b0ce1f",
   "metadata": {},
   "source": [
    "^ 匹配输入字符串的开始位置  \n",
    "$ 匹配输入字符串的结束位置"
   ]
  },
  {
   "cell_type": "markdown",
   "id": "5e4e82e9",
   "metadata": {},
   "source": [
    "## 组"
   ]
  },
  {
   "cell_type": "markdown",
   "id": "f1c73f1a",
   "metadata": {},
   "source": [
    "() 将匹配模式括起来代表一个组"
   ]
  },
  {
   "cell_type": "markdown",
   "id": "570a3ce9",
   "metadata": {},
   "source": [
    "## 常用的正则表达式处理函数"
   ]
  },
  {
   "cell_type": "markdown",
   "id": "48779295",
   "metadata": {},
   "source": [
    "1、re.findall('正则表达式'，要检索的字符串,匹配模式)  \n",
    "在字符串中找到正则表达式所匹配的所有子串，并返回一个列表，如果没有找到匹配的，则返回空列表。匹配模式可以为空，re.I表示忽略大小写，re.S表示可以匹配换位符，或者re.I|re.S"
   ]
  },
  {
   "cell_type": "code",
   "execution_count": 26,
   "id": "3c3b8a16",
   "metadata": {
    "ExecuteTime": {
     "end_time": "2022-06-04T13:36:50.200473Z",
     "start_time": "2022-06-04T13:36:50.181044Z"
    }
   },
   "outputs": [
    {
     "name": "stdout",
     "output_type": "stream",
     "text": [
      "['C#']\n"
     ]
    }
   ],
   "source": [
    "import re\n",
    "language = 'PythonC#\\n'\n",
    "r = re.findall('c#', language, re.I)\n",
    "print(r)"
   ]
  },
  {
   "cell_type": "markdown",
   "id": "0c5f756a",
   "metadata": {},
   "source": [
    "2、re.match('正则表达式',字符串)  \n",
    "re.match从字符串的开始部位匹配，如果字符串开始不符合正则表达式，返回None。只匹配一次，不会匹配很多次。"
   ]
  },
  {
   "cell_type": "markdown",
   "id": "29a173b2",
   "metadata": {},
   "source": [
    "3、re.search('正则表达式',字符串)   \n",
    "re.search匹配整个字符串，只返回匹配到的第一个值，只匹配一次，不会匹配很多次。"
   ]
  },
  {
   "cell_type": "markdown",
   "id": "0f9e1443",
   "metadata": {
    "ExecuteTime": {
     "end_time": "2022-06-04T13:45:06.185978Z",
     "start_time": "2022-06-04T13:45:06.168882Z"
    }
   },
   "source": [
    "4、group() 用在search和match函数中  \n",
    "group函数返回匹配结果，只包括括号里的，括号外的不返回，可根据()选择输出  \n",
    "group(0)，记录的是完整的匹配结果  \n",
    "group(1)，获取第一个组中的正则表达式里面的匹配结果  \n",
    "group(1,2)，获取第一、二组中的匹配结果  \n",
    "group(n)，获取第n组中匹配结果   \n",
    "span()，返回匹配位置  \n",
    "span(n)，返回第n组中的匹配结果"
   ]
  },
  {
   "cell_type": "code",
   "execution_count": 28,
   "id": "a513aab8",
   "metadata": {
    "ExecuteTime": {
     "end_time": "2022-06-04T13:46:51.425542Z",
     "start_time": "2022-06-04T13:46:51.405558Z"
    }
   },
   "outputs": [
    {
     "name": "stdout",
     "output_type": "stream",
     "text": [
      " is short, i use \n"
     ]
    }
   ],
   "source": [
    "import re\n",
    "s = 'life is short, i use python.' #匹配life和python之间的字符\n",
    "r = re.search('life(.*)python', s) #(.*)表示一个组\n",
    "print(r.group(1))"
   ]
  },
  {
   "cell_type": "code",
   "execution_count": 30,
   "id": "e9936632",
   "metadata": {
    "ExecuteTime": {
     "end_time": "2022-06-04T13:49:50.161980Z",
     "start_time": "2022-06-04T13:49:50.147323Z"
    }
   },
   "outputs": [
    {
     "name": "stdout",
     "output_type": "stream",
     "text": [
      "(' is short, i use ', ',i love ')\n",
      "(' is short, i use ', ',i love ')\n"
     ]
    }
   ],
   "source": [
    "import re\n",
    "s = 'life is short, i use python,i love python.' #匹配life和python之间，以及python与python之间的字符\n",
    "r = re.search('life(.*)python(.*)python', s) \n",
    "print(r.group(1, 2))\n",
    "print(r.groups())#多个分组的情况"
   ]
  },
  {
   "cell_type": "markdown",
   "id": "66eae53d",
   "metadata": {
    "ExecuteTime": {
     "end_time": "2022-06-04T13:52:45.890784Z",
     "start_time": "2022-06-04T13:52:45.878011Z"
    }
   },
   "source": [
    "5、re.sub('正则表达式',需要替换成的字符串,原字符串,count=0或1) 正则替换  \n",
    "count=0表示替换所有符合条件的字符，count=1表示替换第一处符合条件的字符  "
   ]
  },
  {
   "cell_type": "code",
   "execution_count": 32,
   "id": "1d329cdd",
   "metadata": {
    "ExecuteTime": {
     "end_time": "2022-06-04T13:55:56.334924Z",
     "start_time": "2022-06-04T13:55:56.325618Z"
    }
   },
   "outputs": [
    {
     "name": "stdout",
     "output_type": "stream",
     "text": [
      "A9C0900D99\n"
     ]
    }
   ],
   "source": [
    "import re\n",
    "s = 'A8C3721D86'\n",
    "def convert(value):\n",
    "    matched = value.group()\n",
    "    if int(matched)>=6:\n",
    "        return '9'\n",
    "    else:\n",
    "        return '0'\n",
    "r = re.sub('\\d',convert,s)\n",
    "print(r)"
   ]
  },
  {
   "cell_type": "markdown",
   "id": "3c663111",
   "metadata": {},
   "source": [
    "## 常用正则表达式组合"
   ]
  },
  {
   "cell_type": "markdown",
   "id": "cd2defe7",
   "metadata": {},
   "source": [
    "网上搜。"
   ]
  },
  {
   "cell_type": "markdown",
   "id": "4c498710",
   "metadata": {},
   "source": [
    "# 模块与函数"
   ]
  },
  {
   "cell_type": "markdown",
   "id": "c9d59618",
   "metadata": {},
   "source": [
    "## zip()"
   ]
  },
  {
   "cell_type": "markdown",
   "id": "a431ebe9",
   "metadata": {},
   "source": [
    "zip()函数用于将可迭代的对象作为参数，将对象中对应的元素打包成一个元组，然后返回由这些元组组成的列表。如果各个迭代器的元素个数不一致，则返回列表长度与最短的对象相同，利用*号操作符，可以将元组解压为列表，zip返回的是一个对象，需要用list()转换。"
   ]
  },
  {
   "cell_type": "code",
   "execution_count": 20,
   "id": "a5edf235",
   "metadata": {
    "ExecuteTime": {
     "end_time": "2022-06-02T01:33:38.005992Z",
     "start_time": "2022-06-02T01:33:37.977043Z"
    }
   },
   "outputs": [
    {
     "data": {
      "text/plain": [
       "[(1, 4), (2, 5), (3, 6)]"
      ]
     },
     "execution_count": 20,
     "metadata": {},
     "output_type": "execute_result"
    }
   ],
   "source": [
    "a = [1, 2, 3]\n",
    "b = [4, 5, 6]\n",
    "c = zip(a,b)\n",
    "d = list(c)\n",
    "d"
   ]
  },
  {
   "cell_type": "code",
   "execution_count": 21,
   "id": "bb2cf69d",
   "metadata": {
    "ExecuteTime": {
     "end_time": "2022-06-02T01:33:53.996916Z",
     "start_time": "2022-06-02T01:33:53.979205Z"
    }
   },
   "outputs": [
    {
     "data": {
      "text/plain": [
       "[(1, 2, 3), (4, 5, 6)]"
      ]
     },
     "execution_count": 21,
     "metadata": {},
     "output_type": "execute_result"
    }
   ],
   "source": [
    "list(zip(*d))"
   ]
  },
  {
   "cell_type": "code",
   "execution_count": 23,
   "id": "49cf1618",
   "metadata": {
    "ExecuteTime": {
     "end_time": "2022-06-02T01:34:40.315574Z",
     "start_time": "2022-06-02T01:34:40.288400Z"
    }
   },
   "outputs": [
    {
     "data": {
      "text/plain": [
       "{1: 4, 2: 5, 3: 6}"
      ]
     },
     "execution_count": 23,
     "metadata": {},
     "output_type": "execute_result"
    }
   ],
   "source": [
    "c = {i:j for i, j in zip(a,b)}\n",
    "c"
   ]
  },
  {
   "cell_type": "code",
   "execution_count": 25,
   "id": "9e9ebc61",
   "metadata": {
    "ExecuteTime": {
     "end_time": "2022-06-02T01:35:13.014165Z",
     "start_time": "2022-06-02T01:35:12.991191Z"
    }
   },
   "outputs": [
    {
     "data": {
      "text/plain": [
       "{1: 4, 2: 5, 3: 6}"
      ]
     },
     "execution_count": 25,
     "metadata": {},
     "output_type": "execute_result"
    }
   ],
   "source": [
    "dict(zip(a,b))"
   ]
  },
  {
   "cell_type": "markdown",
   "id": "5a82dfb1",
   "metadata": {},
   "source": [
    "##  enumerate()"
   ]
  },
  {
   "cell_type": "code",
   "execution_count": 6,
   "id": "a81bd5fb",
   "metadata": {
    "ExecuteTime": {
     "end_time": "2022-06-02T09:15:46.253833Z",
     "start_time": "2022-06-02T09:15:46.245712Z"
    }
   },
   "outputs": [
    {
     "name": "stdout",
     "output_type": "stream",
     "text": [
      "0 one\n",
      "1 two\n",
      "2 three\n"
     ]
    }
   ],
   "source": [
    "seq = ['one', 'two', 'three']\n",
    "for i, element in enumerate(seq):\n",
    "    print(i,element)"
   ]
  },
  {
   "cell_type": "markdown",
   "id": "c81bafb1",
   "metadata": {},
   "source": [
    "用于将一个可遍历的数据对象（如列表，元组，字符串）组合为一个索引序列，同时列出数据和数据下标，一般用在for循环中"
   ]
  },
  {
   "cell_type": "markdown",
   "id": "56020491",
   "metadata": {},
   "source": [
    "## 参数打包与解包"
   ]
  },
  {
   "cell_type": "markdown",
   "id": "88be64af",
   "metadata": {},
   "source": [
    "### 解包"
   ]
  },
  {
   "cell_type": "markdown",
   "id": "5d7f1211",
   "metadata": {},
   "source": [
    "使用 * 解包列表，这样列表中所有的元素都能作为不同的参数传入函数中。函数中参数的数量必须与列表中元素的数量保持一致，这样一一对应，才可能解包成功。"
   ]
  },
  {
   "cell_type": "code",
   "execution_count": 16,
   "id": "b09940e0",
   "metadata": {
    "ExecuteTime": {
     "end_time": "2022-10-03T07:13:02.312583Z",
     "start_time": "2022-10-03T07:13:02.293454Z"
    }
   },
   "outputs": [
    {
     "name": "stdout",
     "output_type": "stream",
     "text": [
      "1 2 3 4\n"
     ]
    }
   ],
   "source": [
    "# 定义一个函数，传入四个参数，输出这四个参数\n",
    "def fun(a, b, c, d):\n",
    "\tprint(a, b, c, d)\n",
    "\n",
    "# 设置列表\n",
    "my_list = [1, 2, 3, 4]\n",
    "\n",
    "# 解包列表，作为参数传入函数\n",
    "fun(*my_list)"
   ]
  },
  {
   "cell_type": "code",
   "execution_count": 17,
   "id": "2abb2583",
   "metadata": {
    "ExecuteTime": {
     "end_time": "2022-10-03T07:14:06.297486Z",
     "start_time": "2022-10-03T07:14:06.285724Z"
    }
   },
   "outputs": [
    {
     "data": {
      "text/plain": [
       "range(3, 6)"
      ]
     },
     "execution_count": 17,
     "metadata": {},
     "output_type": "execute_result"
    }
   ],
   "source": [
    "range(3, 6) # 正常情况下，需要传入两个单独的数值\n",
    "args = [3, 6]\n",
    "range(*args) # 解包列表，调用range函数"
   ]
  },
  {
   "cell_type": "markdown",
   "id": "0f1477a1",
   "metadata": {},
   "source": [
    "### 打包"
   ]
  },
  {
   "cell_type": "markdown",
   "id": "16e07d74",
   "metadata": {},
   "source": [
    "当我们不知道需要给函数传入几个参数时，需要将全部的参数打包在一个元组中。"
   ]
  },
  {
   "cell_type": "code",
   "execution_count": 18,
   "id": "73fba252",
   "metadata": {
    "ExecuteTime": {
     "end_time": "2022-10-03T07:16:35.205762Z",
     "start_time": "2022-10-03T07:16:35.187674Z"
    }
   },
   "outputs": [
    {
     "name": "stdout",
     "output_type": "stream",
     "text": [
      "15\n",
      "30\n"
     ]
    }
   ],
   "source": [
    "# 参数打包在Python程序中的重要作用\n",
    "\n",
    "# 以下函数使用打包方法，对参数的数量进行相加运算\n",
    "def mySum(*args):\n",
    "    return sum(args)\n",
    "\n",
    "# 传入参数\n",
    "print(mySum(1, 2, 3, 4, 5))\n",
    "print(mySum(10, 20))"
   ]
  },
  {
   "cell_type": "markdown",
   "id": "b03acccf",
   "metadata": {},
   "source": [
    "### 解包和打包组合使用"
   ]
  },
  {
   "cell_type": "code",
   "execution_count": 19,
   "id": "7a4cafe0",
   "metadata": {
    "ExecuteTime": {
     "end_time": "2022-10-03T07:18:27.277556Z",
     "start_time": "2022-10-03T07:18:27.256595Z"
    }
   },
   "outputs": [
    {
     "name": "stdout",
     "output_type": "stream",
     "text": [
      "Geeksforgeeks awesome world!\n"
     ]
    }
   ],
   "source": [
    "# 参数打包解包在Python程序中的重要作用\n",
    "\n",
    "# 定义一个函数，设置需要传入三个参数，输出这三个参数\n",
    "def fun1(a, b, c):\n",
    "    print(a, b, c)\n",
    "\n",
    "# 定义一个参数，将所有参数打包成元组，输入 *args 传入fun2\n",
    "def fun2(*args):\n",
    "    # 将元组转换成列表，方便修改元素\n",
    "    args = list(args)\n",
    "    # 修改 args 的内容\n",
    "    args[0] = 'Geeksforgeeks'\n",
    "    args[1] = 'awesome'\n",
    "    # 解包 args，将其传入fun1函数\n",
    "    fun1(*args)\n",
    "\n",
    "# 执行代码\n",
    "fun2('Hello', 'beautiful', 'world!')"
   ]
  },
  {
   "cell_type": "markdown",
   "id": "4c357ae2",
   "metadata": {},
   "source": [
    "### 使用 ** 打包解包字典"
   ]
  },
  {
   "cell_type": "code",
   "execution_count": 20,
   "id": "9e2aa66f",
   "metadata": {
    "ExecuteTime": {
     "end_time": "2022-10-03T07:21:33.174485Z",
     "start_time": "2022-10-03T07:21:33.161491Z"
    }
   },
   "outputs": [
    {
     "name": "stdout",
     "output_type": "stream",
     "text": [
      "2 4 10\n"
     ]
    }
   ],
   "source": [
    "# 定义一个函数，使用 ** 为字典解包\n",
    "def fun(a, b, c):\n",
    "    print(a, b, c)\n",
    "\n",
    "d = {'a':2, 'b':4, 'c':10}\n",
    "fun(**d)"
   ]
  },
  {
   "cell_type": "markdown",
   "id": "a932a603",
   "metadata": {},
   "source": [
    "** 可以用来解包字典内容，字典中的键需要而且一定是与函数的参数保持一致。"
   ]
  },
  {
   "cell_type": "markdown",
   "id": "4b526ff0",
   "metadata": {},
   "source": [
    "## math模块"
   ]
  },
  {
   "cell_type": "code",
   "execution_count": 2,
   "id": "8adb2e20",
   "metadata": {
    "ExecuteTime": {
     "end_time": "2022-06-08T03:41:11.640002Z",
     "start_time": "2022-06-08T03:41:11.625069Z"
    }
   },
   "outputs": [],
   "source": [
    "import math"
   ]
  },
  {
   "cell_type": "markdown",
   "id": "e4cc3ff0",
   "metadata": {},
   "source": [
    "math.e 自然常数e  \n",
    "math.pi Π  \n",
    "math.sqrt() x的平方根   \n",
    "math.ceil() 向上取整  \n",
    "math.floor() 向下取整  \n",
    "math.pow(x,y) x的y次方"
   ]
  },
  {
   "cell_type": "markdown",
   "id": "0589894a",
   "metadata": {},
   "source": [
    "# 其他"
   ]
  },
  {
   "cell_type": "markdown",
   "id": "3c4acf48",
   "metadata": {},
   "source": [
    "## 连续赋值语句"
   ]
  },
  {
   "cell_type": "code",
   "execution_count": 18,
   "id": "ba7ceb42",
   "metadata": {
    "ExecuteTime": {
     "end_time": "2022-06-02T01:26:48.344816Z",
     "start_time": "2022-06-02T01:26:48.338779Z"
    }
   },
   "outputs": [
    {
     "name": "stdout",
     "output_type": "stream",
     "text": [
      "1\n",
      "3\n"
     ]
    }
   ],
   "source": [
    "a = 3\n",
    "a, b = 1, a\n",
    "print(a)\n",
    "print(b)"
   ]
  },
  {
   "cell_type": "markdown",
   "id": "c7b4ebca",
   "metadata": {},
   "source": [
    "规则：连续赋值语句中等式右边其实都是局部变量，而不是真正的变量本身，通常是先计算右边，算完之后再一次性赋值给左边。"
   ]
  },
  {
   "cell_type": "markdown",
   "id": "aa44a797",
   "metadata": {},
   "source": [
    "## python计数器"
   ]
  },
  {
   "cell_type": "code",
   "execution_count": 1,
   "id": "a8c56903",
   "metadata": {
    "ExecuteTime": {
     "end_time": "2022-06-08T03:41:07.140026Z",
     "start_time": "2022-06-08T03:41:07.120910Z"
    }
   },
   "outputs": [],
   "source": [
    "from collections import Counter"
   ]
  },
  {
   "cell_type": "code",
   "execution_count": 42,
   "id": "85ec4d89",
   "metadata": {
    "ExecuteTime": {
     "end_time": "2022-06-02T03:00:09.660194Z",
     "start_time": "2022-06-02T03:00:09.639069Z"
    }
   },
   "outputs": [
    {
     "data": {
      "text/plain": [
       "Counter({'w': 1, 'o': 2, 'd': 1, 'm': 1, 'a': 1, 'n': 1})"
      ]
     },
     "execution_count": 42,
     "metadata": {},
     "output_type": "execute_result"
    }
   ],
   "source": [
    "c = Counter('woodman') #可以是序列，字符串等\n",
    "c"
   ]
  },
  {
   "cell_type": "code",
   "execution_count": 44,
   "id": "3a36c459",
   "metadata": {
    "ExecuteTime": {
     "end_time": "2022-06-02T03:00:45.203090Z",
     "start_time": "2022-06-02T03:00:45.181484Z"
    }
   },
   "outputs": [
    {
     "data": {
      "text/plain": [
       "{'w': 1, 'o': 2, 'd': 1, 'm': 1, 'a': 1, 'n': 1}"
      ]
     },
     "execution_count": 44,
     "metadata": {},
     "output_type": "execute_result"
    }
   ],
   "source": [
    "dict(c) #将其变成字典"
   ]
  },
  {
   "cell_type": "code",
   "execution_count": 43,
   "id": "a8e41aff",
   "metadata": {
    "ExecuteTime": {
     "end_time": "2022-06-02T03:00:25.249997Z",
     "start_time": "2022-06-02T03:00:25.229128Z"
    }
   },
   "outputs": [
    {
     "data": {
      "text/plain": [
       "[('o', 2), ('w', 1), ('d', 1), ('m', 1), ('a', 1), ('n', 1)]"
      ]
     },
     "execution_count": 43,
     "metadata": {},
     "output_type": "execute_result"
    }
   ],
   "source": [
    "c.most_common()"
   ]
  },
  {
   "cell_type": "markdown",
   "id": "47909d52",
   "metadata": {},
   "source": [
    "## python计时"
   ]
  },
  {
   "cell_type": "code",
   "execution_count": 52,
   "id": "ee56ec34",
   "metadata": {
    "ExecuteTime": {
     "end_time": "2022-06-02T03:04:31.923296Z",
     "start_time": "2022-06-02T03:04:31.905977Z"
    }
   },
   "outputs": [
    {
     "data": {
      "text/plain": [
       "0.0"
      ]
     },
     "execution_count": 52,
     "metadata": {},
     "output_type": "execute_result"
    }
   ],
   "source": [
    "import time\n",
    "start = time.time()\n",
    "a = 1\n",
    "end = time.time()\n",
    "end-start"
   ]
  },
  {
   "cell_type": "markdown",
   "id": "0bbe4586",
   "metadata": {},
   "source": [
    "## python代码注释"
   ]
  },
  {
   "cell_type": "markdown",
   "id": "68013828",
   "metadata": {},
   "source": [
    "单行 #  \n",
    "多行 1、选中代码，ctrl+/ 再按一次取消注释  \n",
    "2、每行 #  \n",
    "3、输入''' '''或者\"\"\" \"\"\" 中间写入文本  "
   ]
  },
  {
   "cell_type": "markdown",
   "id": "bcf5aed4",
   "metadata": {
    "ExecuteTime": {
     "end_time": "2022-06-04T14:03:58.000239Z",
     "start_time": "2022-06-04T14:03:57.984774Z"
    }
   },
   "source": [
    "python多行Tab  \n",
    "选中代码，Tab 代码后移一个Tab  \n",
    "选中代码，shift+Tab 代码前移一个Tab，再按一次取消   "
   ]
  },
  {
   "cell_type": "markdown",
   "id": "f788b31a",
   "metadata": {},
   "source": [
    "python中有中文  \n",
    "在文件开头加上中文注释 \n",
    "#coding=utf-8  \n",
    "或者 \n",
    "#coding=gbk"
   ]
  },
  {
   "cell_type": "markdown",
   "id": "265e8b16",
   "metadata": {},
   "source": [
    "## Tab补全"
   ]
  },
  {
   "cell_type": "markdown",
   "id": "ebc5c85a",
   "metadata": {},
   "source": [
    "1、当在命令行输入表达式时，按下Tab键即可为任意变量搜索命名空间，与你目前输入的字符进行匹配。  \n",
    "2、在函数的关键字参数中节约时间。  \n",
    "3、补全对象或模块属性。"
   ]
  },
  {
   "cell_type": "markdown",
   "id": "df092d35",
   "metadata": {},
   "source": [
    "## 内省"
   ]
  },
  {
   "cell_type": "markdown",
   "id": "5b269f0c",
   "metadata": {},
   "source": [
    "1、在一个变量名的前或后使用问号，可以显示一些关于该对象的概要信息。  \n",
    "2、使用**双问号**可以显示函数的源代码。  \n",
    "3、把一些字符和通配符(\\*)结合在一起，会显示所有匹配通配符的表达式的命名。 \\*表达式\\* ?  \n",
    "4、ctrl+c可以使python程序停止运行。"
   ]
  },
  {
   "cell_type": "markdown",
   "id": "b9f8eca1",
   "metadata": {},
   "source": [
    "# 类"
   ]
  },
  {
   "cell_type": "markdown",
   "id": "fd264b19",
   "metadata": {},
   "source": [
    "## 基本概念"
   ]
  },
  {
   "cell_type": "markdown",
   "id": "df24f488",
   "metadata": {},
   "source": [
    "面向对象的特征：封装、多态和继承。\n",
    "- 类是现实世界或思维世界中的实体在计算机中的反映，它将数据以及这些数据上的操作封装在一起，用来描述具有相同属性和方法的对象的集合。\n",
    "- 类是模板，被实例化后就变成一个具体的对象，python中约定类名以大写字母开头，类中的函数称为方法。\n",
    "- 成员的可见性包含public（公有的）和private（私有的）。\n",
    "- 类包含变量和方法，变量包含类变量和实例变量，方法包含类方法、实例方法、魔法方法和静态方法。"
   ]
  },
  {
   "cell_type": "markdown",
   "id": "77d46787",
   "metadata": {},
   "source": [
    "## 变量"
   ]
  },
  {
   "cell_type": "markdown",
   "id": "ee84eeb1",
   "metadata": {},
   "source": [
    "类变量：与类有关的变量，即类中但不是实例中的变量，没有self的变量。  \n",
    "实例变量：与对象有关的变量，即实例方法中的变量，self.变量名来表示。又称为属性，属性访问采用圆点记法，当属性名与方法名同名时，属性会覆盖方法。  "
   ]
  },
  {
   "cell_type": "markdown",
   "id": "2a47faaa",
   "metadata": {},
   "source": [
    "## 方法"
   ]
  },
  {
   "cell_type": "markdown",
   "id": "40dc4ee9",
   "metadata": {},
   "source": [
    "类方法：用于操作类变量的方法，必须有@classmethod，习惯用cls作为参数名。"
   ]
  },
  {
   "cell_type": "code",
   "execution_count": 1,
   "id": "dd5e20dc",
   "metadata": {
    "ExecuteTime": {
     "end_time": "2022-10-03T06:01:08.539066Z",
     "start_time": "2022-10-03T06:01:08.519623Z"
    }
   },
   "outputs": [],
   "source": [
    "@classmethod\n",
    "def sum1(cls):\n",
    "    cls.sum = 1"
   ]
  },
  {
   "cell_type": "markdown",
   "id": "4149bf7c",
   "metadata": {},
   "source": [
    "实例方法：带有self的方法，用于操作实例变量，self必须有，后面再加形参。"
   ]
  },
  {
   "cell_type": "code",
   "execution_count": 2,
   "id": "3e098572",
   "metadata": {
    "ExecuteTime": {
     "end_time": "2022-10-03T06:03:09.447672Z",
     "start_time": "2022-10-03T06:03:09.429643Z"
    }
   },
   "outputs": [],
   "source": [
    "def student(self, name, age):\n",
    "    self.name = name\n",
    "    self.age = age"
   ]
  },
  {
   "cell_type": "markdown",
   "id": "b99c0edf",
   "metadata": {},
   "source": [
    "实例方法中访问类变量：\n",
    "- 类名.类变量名\n",
    "- self.__class__.类变量名"
   ]
  },
  {
   "cell_type": "markdown",
   "id": "fca77007",
   "metadata": {},
   "source": [
    "静态方法：没有self参数，没有指定传入值。"
   ]
  },
  {
   "cell_type": "code",
   "execution_count": 4,
   "id": "b8602e78",
   "metadata": {
    "ExecuteTime": {
     "end_time": "2022-10-03T06:06:25.804841Z",
     "start_time": "2022-10-03T06:06:25.786829Z"
    }
   },
   "outputs": [],
   "source": [
    "@staticmethod\n",
    "def sum2():\n",
    "    pass\n",
    "    return 1"
   ]
  },
  {
   "cell_type": "markdown",
   "id": "a08ad9f3",
   "metadata": {},
   "source": [
    "魔法方法：在python中，有一些内置好的特定的方法，这些方法在进行特定的操作时会自动被调用，称之为魔法方法，它们总是被双下划线包围，\\__方法名__\\()，重载/重写用得较多。"
   ]
  },
  {
   "cell_type": "markdown",
   "id": "641af6ed",
   "metadata": {},
   "source": [
    "1、 \\__init__\\(self, 参数列表)：初始化函数，又叫构造函数，在创建实例对象为其赋值时使用，不需要返回值。"
   ]
  },
  {
   "cell_type": "code",
   "execution_count": 5,
   "id": "fded65db",
   "metadata": {
    "ExecuteTime": {
     "end_time": "2022-10-03T06:17:23.667468Z",
     "start_time": "2022-10-03T06:17:23.655411Z"
    }
   },
   "outputs": [],
   "source": [
    "def __init__(self, name, age):\n",
    "    self.name = name\n",
    "    self.age = age"
   ]
  },
  {
   "cell_type": "markdown",
   "id": "7c36f057",
   "metadata": {},
   "source": [
    "2、 \\__new__\\(cls. 参数列表)：\n",
    "- new是在一个对象被实例化的时候所调用的第一个方法。\n",
    "- 它的第一个参数是这个类，其他的参数是用来直接传递给init方法。\n",
    "- new主要用于继承一个不可变的类型，比如一个tuple或string，对继承的方法进行重写。"
   ]
  },
  {
   "cell_type": "code",
   "execution_count": 8,
   "id": "bd27d0b6",
   "metadata": {
    "ExecuteTime": {
     "end_time": "2022-10-03T06:23:31.455678Z",
     "start_time": "2022-10-03T06:23:31.436332Z"
    }
   },
   "outputs": [
    {
     "name": "stdout",
     "output_type": "stream",
     "text": [
      "A\n"
     ]
    }
   ],
   "source": [
    "#将str重写为输入一个字符串，将其字符大写\n",
    "class capstr(str):\n",
    "    def __new__(cls, string):\n",
    "        string = string.upper()\n",
    "        return str.__new__(cls, string)\n",
    "    \n",
    "f = capstr('a')\n",
    "print(f)"
   ]
  },
  {
   "cell_type": "markdown",
   "id": "8bfe4d98",
   "metadata": {},
   "source": [
    "3、 创建对象的步骤：\n",
    "- 首先调用\\__new__\\()得到一个对象。\n",
    "- 调用\\__init__为对象添加属性。\n",
    "- 将对象赋值给变量"
   ]
  },
  {
   "cell_type": "markdown",
   "id": "16ee77e1",
   "metadata": {},
   "source": [
    "4、 \\__del__\\(self)：析构器，当一个实例被销毁时调用的方法。"
   ]
  },
  {
   "cell_type": "markdown",
   "id": "b741effe",
   "metadata": {},
   "source": [
    "5、内建函数：内建函数通常是python自定义的一些函数，这些函数通常具有某些特定的功能。"
   ]
  },
  {
   "cell_type": "markdown",
   "id": "aa26fdfa",
   "metadata": {},
   "source": [
    "## 类的创建和实例化"
   ]
  },
  {
   "cell_type": "markdown",
   "id": "92196bb4",
   "metadata": {},
   "source": [
    "### 创建类"
   ]
  },
  {
   "cell_type": "raw",
   "id": "5327b6a7",
   "metadata": {},
   "source": [
    "class 类名():\n",
    "    类变量  \n",
    "    实例方法\n",
    "    ..."
   ]
  },
  {
   "cell_type": "markdown",
   "id": "2442555c",
   "metadata": {},
   "source": [
    "### 实例化类"
   ]
  },
  {
   "cell_type": "markdown",
   "id": "93b53233",
   "metadata": {},
   "source": [
    "- 变量 = 类名(参数列表)，参数列表可以为空\n",
    "- 变量.方法名(参数列表)，参数列表可以为空"
   ]
  },
  {
   "cell_type": "markdown",
   "id": "d37b1b60",
   "metadata": {},
   "source": [
    "1、 实例化时，python会先去找实例变量，如果没有，会找类变量。  \n",
    "2、 其他模块调用另一模块中的类：from 模块名 import 类名"
   ]
  },
  {
   "cell_type": "code",
   "execution_count": 15,
   "id": "8fa4f741",
   "metadata": {
    "ExecuteTime": {
     "end_time": "2022-10-03T06:39:53.327435Z",
     "start_time": "2022-10-03T06:39:53.303133Z"
    }
   },
   "outputs": [
    {
     "data": {
      "text/plain": [
       "'A'"
      ]
     },
     "execution_count": 15,
     "metadata": {},
     "output_type": "execute_result"
    }
   ],
   "source": [
    "class St(): #定义类\n",
    "    def new(self, string): #定义实例方法\n",
    "        self.string = string.upper()\n",
    "        return self.string\n",
    "    \n",
    "#实例化\n",
    "f = St()\n",
    "f.new('a') "
   ]
  },
  {
   "cell_type": "markdown",
   "id": "3c7776a0",
   "metadata": {},
   "source": [
    "## 继承"
   ]
  },
  {
   "cell_type": "markdown",
   "id": "72c91e74",
   "metadata": {},
   "source": [
    "class 子类名(父类名):  子类又叫派生类，父类又叫基类、超类。  \n",
    "子类继承了父类的所有属性和方法，同时还可以定义自己的属性和方法，如果父类与子类有同名的方法，python会优先调用子类的方法。"
   ]
  },
  {
   "cell_type": "markdown",
   "id": "03ba370c",
   "metadata": {},
   "source": [
    "### 方法重写"
   ]
  },
  {
   "cell_type": "markdown",
   "id": "c3364ba2",
   "metadata": {},
   "source": [
    "1、方法重写：如果从父类继承的方法不能满足子类的需求，可以对其进行改写，这个过程叫方法的覆盖，也称为方法的重写。  \n",
    "2、继承的特点：\n",
    "- 如果在子类中需要父类的构造方法就需要显式地调用父类的构造方法，或者不重写父类的方法。\n",
    "-- case1：子类不重写\\__init__，实例化子类时，会自动调用父类的\\__init__。\n",
    "-- case2：如果重写了\\__init__，实例化子类时，就不会调用父类已经定义的\\__init__。\n",
    "-- case3：如果重写了\\__init__，要继承父类的构造方法，可以使用**super**关键字。super(子类, self).\\__init__\\(参数列表)\n",
    "- 在调用父类的方法时，需要加上父类的类名作为前缀，且需要带上self参数变量，区别在于类中自身调用普通函数时不需要带上self参数。\n",
    "- python总是首先查找对应类型的方法，如果它不能在子类中找到对应的方法，它才开始到父类中逐个查找。\n",
    "\n",
    "3、如果在继承元组中列了一个以上的类，那么它就是**多重继承**。class 子类(父类1, 父类2, ..)  \n",
    "4、issubclass(A, B) ,检查B是否是A的子类。"
   ]
  },
  {
   "cell_type": "code",
   "execution_count": 28,
   "id": "041d7d92",
   "metadata": {
    "ExecuteTime": {
     "end_time": "2022-10-13T03:55:04.386815Z",
     "start_time": "2022-10-13T03:55:04.373816Z"
    }
   },
   "outputs": [],
   "source": [
    "class Person:\n",
    "    def __init__(self, name = \"caoyuyu\"):\n",
    "        self.name = name\n",
    "\n",
    "#继承所有\n",
    "class Puple(Person):\n",
    "    pass\n",
    "\n",
    "#继承，但覆盖了init方法\n",
    "class Puple_Init(Person):\n",
    "    def __init__(self, age):\n",
    "        self.age = age\n",
    "\n",
    "#重写，但继承父类的init方法\n",
    "class Puple_Super(Person):\n",
    "    def __init__(self, age, name):\n",
    "        self.age = age\n",
    "        super().__init__(name) #要加参数，否则无法更改父类的值"
   ]
  },
  {
   "cell_type": "code",
   "execution_count": 25,
   "id": "bf3adcce",
   "metadata": {
    "ExecuteTime": {
     "end_time": "2022-10-13T03:54:50.868361Z",
     "start_time": "2022-10-13T03:54:50.849361Z"
    }
   },
   "outputs": [],
   "source": [
    "#重写，但继承父类的init方法\n",
    "class Puple_Super(Person):\n",
    "    def __init__(self, age, name):\n",
    "        self.age = age\n",
    "        super(Puple_Super, self).__init__() #要加参数，否则无法更改父类的值"
   ]
  },
  {
   "cell_type": "code",
   "execution_count": 4,
   "id": "1cb04b60",
   "metadata": {
    "ExecuteTime": {
     "end_time": "2022-10-13T03:48:59.242897Z",
     "start_time": "2022-10-13T03:48:59.232897Z"
    }
   },
   "outputs": [],
   "source": [
    "pp = Puple()"
   ]
  },
  {
   "cell_type": "code",
   "execution_count": 5,
   "id": "0c719775",
   "metadata": {
    "ExecuteTime": {
     "end_time": "2022-10-13T03:49:02.222910Z",
     "start_time": "2022-10-13T03:49:02.215939Z"
    }
   },
   "outputs": [],
   "source": [
    "pp_i = Puple_Init(10)"
   ]
  },
  {
   "cell_type": "code",
   "execution_count": 29,
   "id": "4be1004c",
   "metadata": {
    "ExecuteTime": {
     "end_time": "2022-10-13T03:55:07.427939Z",
     "start_time": "2022-10-13T03:55:07.416941Z"
    }
   },
   "outputs": [],
   "source": [
    "pp_s = Puple_Super(10, \"huruming\")"
   ]
  },
  {
   "cell_type": "code",
   "execution_count": 7,
   "id": "3e381505",
   "metadata": {
    "ExecuteTime": {
     "end_time": "2022-10-13T03:49:24.784937Z",
     "start_time": "2022-10-13T03:49:24.762937Z"
    }
   },
   "outputs": [
    {
     "data": {
      "text/plain": [
       "'caoyuyu'"
      ]
     },
     "execution_count": 7,
     "metadata": {},
     "output_type": "execute_result"
    }
   ],
   "source": [
    "pp.name"
   ]
  },
  {
   "cell_type": "code",
   "execution_count": 8,
   "id": "3b432253",
   "metadata": {
    "ExecuteTime": {
     "end_time": "2022-10-13T03:49:35.785116Z",
     "start_time": "2022-10-13T03:49:35.766115Z"
    }
   },
   "outputs": [
    {
     "ename": "AttributeError",
     "evalue": "'Puple_Init' object has no attribute 'name'",
     "output_type": "error",
     "traceback": [
      "\u001b[1;31m---------------------------------------------------------------------------\u001b[0m",
      "\u001b[1;31mAttributeError\u001b[0m                            Traceback (most recent call last)",
      "Cell \u001b[1;32mIn [8], line 1\u001b[0m\n\u001b[1;32m----> 1\u001b[0m \u001b[43mpp_i\u001b[49m\u001b[38;5;241;43m.\u001b[39;49m\u001b[43mname\u001b[49m\n",
      "\u001b[1;31mAttributeError\u001b[0m: 'Puple_Init' object has no attribute 'name'"
     ]
    }
   ],
   "source": [
    "pp_i.name"
   ]
  },
  {
   "cell_type": "code",
   "execution_count": 30,
   "id": "ae9552df",
   "metadata": {
    "ExecuteTime": {
     "end_time": "2022-10-13T03:55:10.248424Z",
     "start_time": "2022-10-13T03:55:10.240458Z"
    }
   },
   "outputs": [
    {
     "data": {
      "text/plain": [
       "'huruming'"
      ]
     },
     "execution_count": 30,
     "metadata": {},
     "output_type": "execute_result"
    }
   ],
   "source": [
    "pp_s.name"
   ]
  },
  {
   "cell_type": "markdown",
   "id": "5774801e",
   "metadata": {},
   "source": [
    "### 继承顺序"
   ]
  },
  {
   "cell_type": "code",
   "execution_count": 31,
   "id": "9f42b239",
   "metadata": {
    "ExecuteTime": {
     "end_time": "2022-10-13T05:39:13.795529Z",
     "start_time": "2022-10-13T05:39:13.777528Z"
    }
   },
   "outputs": [],
   "source": [
    "class A:\n",
    "    def __init__(self):\n",
    "        print('A')"
   ]
  },
  {
   "cell_type": "code",
   "execution_count": 32,
   "id": "01f4ef2e",
   "metadata": {
    "ExecuteTime": {
     "end_time": "2022-10-13T05:39:36.698120Z",
     "start_time": "2022-10-13T05:39:36.685122Z"
    }
   },
   "outputs": [],
   "source": [
    "class B(A):\n",
    "    def __init__(self):\n",
    "        print('B')\n",
    "        super().__init__()\n",
    "\n",
    "class C(A):\n",
    "    def __init__(self):\n",
    "        print('C')\n",
    "        super().__init__()\n",
    "\n",
    "class D(A):\n",
    "    def __init__(self):\n",
    "        print('D')\n",
    "        super().__init__()"
   ]
  },
  {
   "cell_type": "code",
   "execution_count": 33,
   "id": "d3739804",
   "metadata": {
    "ExecuteTime": {
     "end_time": "2022-10-13T05:39:53.048709Z",
     "start_time": "2022-10-13T05:39:53.029683Z"
    }
   },
   "outputs": [],
   "source": [
    "class E(B, C):\n",
    "    def __init__(self):\n",
    "        print('E')\n",
    "        super().__init__()\n",
    "\n",
    "class F(C, D):\n",
    "    def __init__(self):\n",
    "        print('F')\n",
    "        super().__init__()\n",
    "\n",
    "class G(E, F):\n",
    "    def __init__(self):\n",
    "        print('G')\n",
    "        super().__init__()"
   ]
  },
  {
   "cell_type": "code",
   "execution_count": 34,
   "id": "35fc6a16",
   "metadata": {
    "ExecuteTime": {
     "end_time": "2022-10-13T05:40:16.936796Z",
     "start_time": "2022-10-13T05:40:16.915855Z"
    }
   },
   "outputs": [
    {
     "name": "stdout",
     "output_type": "stream",
     "text": [
      "G\n",
      "E\n",
      "B\n",
      "F\n",
      "C\n",
      "D\n",
      "A\n"
     ]
    },
    {
     "data": {
      "text/plain": [
       "<__main__.G at 0x1b5910826a0>"
      ]
     },
     "execution_count": 34,
     "metadata": {},
     "output_type": "execute_result"
    }
   ],
   "source": [
    "G()"
   ]
  },
  {
   "cell_type": "markdown",
   "id": "921fe9a0",
   "metadata": {},
   "source": [
    "G继承自E, F是并列的，初始化的时候不会先把E初始化完毕才初始化F"
   ]
  },
  {
   "cell_type": "markdown",
   "id": "659ca7a7",
   "metadata": {},
   "source": [
    "### super() 在 python2、3中的区别"
   ]
  },
  {
   "cell_type": "markdown",
   "id": "40989370",
   "metadata": {},
   "source": [
    "python3 直接写成 ： super().\\__init__\\()   \n",
    "\n",
    "python2 必须写成 ：super(本类名,self).\\__init__\\()"
   ]
  },
  {
   "cell_type": "code",
   "execution_count": null,
   "id": "998ab8e6",
   "metadata": {},
   "outputs": [],
   "source": []
  }
 ],
 "metadata": {
  "hide_input": false,
  "kernelspec": {
   "display_name": "Python 3 (ipykernel)",
   "language": "python",
   "name": "python3"
  },
  "language_info": {
   "codemirror_mode": {
    "name": "ipython",
    "version": 3
   },
   "file_extension": ".py",
   "mimetype": "text/x-python",
   "name": "python",
   "nbconvert_exporter": "python",
   "pygments_lexer": "ipython3",
   "version": "3.9.7"
  },
  "nbTranslate": {
   "displayLangs": [
    "*"
   ],
   "hotkey": "alt-t",
   "langInMainMenu": true,
   "sourceLang": "en",
   "targetLang": "fr",
   "useGoogleTranslate": true
  },
  "toc": {
   "base_numbering": 1,
   "nav_menu": {},
   "number_sections": true,
   "sideBar": true,
   "skip_h1_title": false,
   "title_cell": "Table of Contents",
   "title_sidebar": "Contents",
   "toc_cell": false,
   "toc_position": {
    "height": "calc(100% - 180px)",
    "left": "10px",
    "top": "150px",
    "width": "307.2px"
   },
   "toc_section_display": true,
   "toc_window_display": true
  },
  "varInspector": {
   "cols": {
    "lenName": 16,
    "lenType": 16,
    "lenVar": 40
   },
   "kernels_config": {
    "python": {
     "delete_cmd_postfix": "",
     "delete_cmd_prefix": "del ",
     "library": "var_list.py",
     "varRefreshCmd": "print(var_dic_list())"
    },
    "r": {
     "delete_cmd_postfix": ") ",
     "delete_cmd_prefix": "rm(",
     "library": "var_list.r",
     "varRefreshCmd": "cat(var_dic_list()) "
    }
   },
   "types_to_exclude": [
    "module",
    "function",
    "builtin_function_or_method",
    "instance",
    "_Feature"
   ],
   "window_display": false
  },
  "vscode": {
   "interpreter": {
    "hash": "89ec99c62174f1c8fd5a03edcbffb33bcf4cdc0ef2feaa7f1e454ac2d444c181"
   }
  }
 },
 "nbformat": 4,
 "nbformat_minor": 5
}
