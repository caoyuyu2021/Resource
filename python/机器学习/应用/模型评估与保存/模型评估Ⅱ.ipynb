{
 "cells": [
  {
   "cell_type": "code",
   "execution_count": 5,
   "metadata": {},
   "outputs": [],
   "source": [
    "import pandas as pd\n",
    "import numpy as np\n",
    "import matplotlib.pyplot as plt\n",
    "import sklearn\n",
    "import mglearn"
   ]
  },
  {
   "cell_type": "code",
   "execution_count": 2,
   "metadata": {},
   "outputs": [
    {
     "name": "stdout",
     "output_type": "stream",
     "text": [
      "阈值为0时对应的精度：0.876\n",
      "阈值为1时对应的精度：0.920\n"
     ]
    },
    {
     "name": "stderr",
     "output_type": "stream",
     "text": [
      "D:\\anaconda\\lib\\site-packages\\sklearn\\utils\\deprecation.py:87: FutureWarning: Function make_blobs is deprecated; Please import make_blobs directly from scikit-learn\n",
      "  warnings.warn(msg, category=FutureWarning)\n"
     ]
    }
   ],
   "source": [
    "from mglearn.datasets import make_blobs\n",
    "from sklearn.model_selection import train_test_split\n",
    "from sklearn.svm import SVC\n",
    "X,y = make_blobs(n_samples=(400,50),centers=2,cluster_std=[7.0,2],random_state=22)\n",
    "X_train,X_test,y_train,y_test = train_test_split(X,y,random_state=0)\n",
    "svc = SVC(gamma=.05).fit(X_train,y_train)\n",
    "pre_svc=svc.predict(X_test)\n",
    "svc.score(X_test,y_test)\n",
    "from sklearn.metrics import confusion_matrix#输出混沌矩阵\n",
    "confusion_matrix(y_test,pre_svc)\n",
    "accuracy = (93+6)/(11+3+93+6)\n",
    "\n",
    "a=np.where(svc.decision_function(X_test)>1,1,0)#修改阈值\n",
    "confusion_matrix(y_test,a)\n",
    "accuracy1 = (102+2)/(113)\n",
    "print(\"阈值为0时对应的精度：{:.3f}\".format(accuracy))\n",
    "print(\"阈值为1时对应的精度：{:.3f}\".format(accuracy1))"
   ]
  },
  {
   "cell_type": "code",
   "execution_count": 3,
   "metadata": {},
   "outputs": [],
   "source": [
    "from sklearn.metrics import precision_recall_curve#绘制准确率和召回率曲线\n",
    "precision,recall,thresholds = precision_recall_curve(y_test,svc.decision_function(X_test))"
   ]
  },
  {
   "cell_type": "code",
   "execution_count": 4,
   "metadata": {},
   "outputs": [
    {
     "name": "stderr",
     "output_type": "stream",
     "text": [
      "D:\\anaconda\\lib\\site-packages\\sklearn\\utils\\deprecation.py:87: FutureWarning: Function make_blobs is deprecated; Please import make_blobs directly from scikit-learn\n",
      "  warnings.warn(msg, category=FutureWarning)\n"
     ]
    },
    {
     "data": {
      "text/plain": [
       "Text(0, 0.5, 'recall')"
      ]
     },
     "execution_count": 4,
     "metadata": {},
     "output_type": "execute_result"
    },
    {
     "data": {
      "image/png": "[encoded data removed]",
      "text/plain": [
       "<Figure size 432x288 with 1 Axes>"
      ]
     },
     "metadata": {
      "needs_background": "light"
     },
     "output_type": "display_data"
    }
   ],
   "source": [
    "X,y = make_blobs(n_samples=(4000,500),centers=2,cluster_std=[7.,2],random_state=22)\n",
    "X_train,X_test,y_train,y_test = train_test_split(X,y,random_state=0)\n",
    "svc = SVC(gamma=.05).fit(X_train,y_train)\n",
    "precision,recall,thresholds = precision_recall_curve(y_test,svc.decision_function(X_test))\n",
    "\n",
    "close_zero = np.argmin(np.abs(thresholds))\n",
    "plt.plot(precision[close_zero],recall[close_zero],'o',markersize=10,label=\"threshold zero\",fillstyle=\"none\",c='k',mew=2)\n",
    "plt.plot(precision,recall,label=\"precision recall curve\")\n",
    "plt.xlabel(\"precision\")\n",
    "plt.ylabel(\"recall\")"
   ]
  },
  {
   "cell_type": "code",
   "execution_count": null,
   "metadata": {},
   "outputs": [],
   "source": [
    " "
   ]
  }
 ],
 "metadata": {
  "kernelspec": {
   "display_name": "Python 3",
   "language": "python",
   "name": "python3"
  },
  "language_info": {
   "codemirror_mode": {
    "name": "ipython",
    "version": 3
   },
   "file_extension": ".py",
   "mimetype": "text/x-python",
   "name": "python",
   "nbconvert_exporter": "python",
   "pygments_lexer": "ipython3",
   "version": "3.7.6"
  }
 },
 "nbformat": 4,
 "nbformat_minor": 2
}
