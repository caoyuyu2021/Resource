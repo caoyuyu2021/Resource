{
 "cells": [
  {
   "cell_type": "code",
   "execution_count": 3,
   "id": "297d527e",
   "metadata": {
    "ExecuteTime": {
     "end_time": "2023-05-26T06:49:50.668642Z",
     "start_time": "2023-05-26T06:49:50.650681Z"
    }
   },
   "outputs": [],
   "source": [
    "df = [\n",
    "    [1,0,1,1,0],\n",
    "    [1,0,0,1,1],\n",
    "    [1,0,1,0,0],\n",
    "    [0,1,0,1,1],\n",
    "    [1,1,1,0,1],]"
   ]
  },
  {
   "cell_type": "code",
   "execution_count": 4,
   "id": "8c3c35fc",
   "metadata": {
    "ExecuteTime": {
     "end_time": "2023-05-26T06:49:51.154562Z",
     "start_time": "2023-05-26T06:49:51.146588Z"
    }
   },
   "outputs": [
    {
     "data": {
      "text/plain": [
       "array([[1.        , 0.66666667, 0.81649658, 0.33333333, 0.57735027],\n",
       "       [0.66666667, 1.        , 0.40824829, 0.66666667, 0.57735027],\n",
       "       [0.81649658, 0.40824829, 1.        , 0.        , 0.70710678],\n",
       "       [0.33333333, 0.66666667, 0.        , 1.        , 0.57735027],\n",
       "       [0.57735027, 0.57735027, 0.70710678, 0.57735027, 1.        ]])"
      ]
     },
     "execution_count": 4,
     "metadata": {},
     "output_type": "execute_result"
    }
   ],
   "source": [
    "from sklearn.metrics.pairwise import cosine_similarity\n",
    "r = cosine_similarity(df,df)\n",
    "r"
   ]
  },
  {
   "cell_type": "code",
   "execution_count": 5,
   "id": "57bdaf14",
   "metadata": {
    "ExecuteTime": {
     "end_time": "2023-05-26T07:24:48.764405Z",
     "start_time": "2023-05-26T07:24:48.757401Z"
    }
   },
   "outputs": [
    {
     "name": "stdout",
     "output_type": "stream",
     "text": [
      "余弦相似度: 0.9746318461970762\n"
     ]
    }
   ],
   "source": [
    "import numpy as np\n",
    "\n",
    "def cosine_similarity(vector1, vector2):\n",
    "    dot_product = np.dot(vector1, vector2)\n",
    "    norm1 = np.linalg.norm(vector1)\n",
    "    norm2 = np.linalg.norm(vector2)\n",
    "    similarity = dot_product / (norm1 * norm2)\n",
    "    return similarity\n",
    "\n",
    "# 示例向量   \n",
    "vector1 = np.array([1, 2, 3])\n",
    "vector2 = np.array([4, 5, 6])\n",
    "\n",
    "# 计算余弦相似度\n",
    "similarity = cosine_similarity(vector1, vector2)\n",
    "print(\"余弦相似度:\", similarity)"
   ]
  },
  {
   "cell_type": "code",
   "execution_count": 6,
   "id": "5ebccd14",
   "metadata": {
    "ExecuteTime": {
     "end_time": "2023-05-26T07:25:51.303007Z",
     "start_time": "2023-05-26T07:25:51.293064Z"
    }
   },
   "outputs": [],
   "source": [
    "users = ['User1', 'User2', 'User3', 'User4', 'User5']\n",
    "items = ['ItemA', 'ItemB', 'ItemC', 'ItemD', 'ItemE']"
   ]
  },
  {
   "cell_type": "code",
   "execution_count": 8,
   "id": "e6d2ff9b",
   "metadata": {
    "ExecuteTime": {
     "end_time": "2023-05-26T07:26:14.408493Z",
     "start_time": "2023-05-26T07:26:14.252248Z"
    }
   },
   "outputs": [
    {
     "name": "stdout",
     "output_type": "stream",
     "text": [
      "       ItemA  ItemB  ItemC  ItemD  ItemE\n",
      "User1      1      0      1      1      0\n",
      "User2      1      0      0      1      1\n",
      "User3      1      0      1      0      0\n",
      "User4      0      1      0      1      1\n",
      "User5      1      1      1      0      1\n"
     ]
    }
   ],
   "source": [
    "import pandas as pd\n",
    "df = pd.DataFrame(datasets, columns=items, index=users)\n",
    "print(df)"
   ]
  },
  {
   "cell_type": "code",
   "execution_count": 9,
   "id": "1397e41b",
   "metadata": {
    "ExecuteTime": {
     "end_time": "2023-05-26T07:26:20.474168Z",
     "start_time": "2023-05-26T07:26:20.461248Z"
    }
   },
   "outputs": [],
   "source": [
    "similarity_list = []\n",
    "for user in df.index:\n",
    "    # 计算每个用户和其他用户间的相似度\n",
    "    similarity = []\n",
    "    for other_user in df.index:\n",
    "        vector1 = list(df.loc[user])\n",
    "        vector2 = list(df.loc[other_user])\n",
    "        # 计算余弦相似度\n",
    "        similarity.append(cosine_similarity(vector1, vector2))\n",
    "    similarity_list.append(similarity)"
   ]
  },
  {
   "cell_type": "code",
   "execution_count": 11,
   "id": "3d3b2e98",
   "metadata": {
    "ExecuteTime": {
     "end_time": "2023-05-26T07:26:35.255912Z",
     "start_time": "2023-05-26T07:26:35.245169Z"
    }
   },
   "outputs": [
    {
     "data": {
      "text/plain": [
       "array([[1.        , 0.66666667, 0.81649658, 0.33333333, 0.57735027],\n",
       "       [0.66666667, 1.        , 0.40824829, 0.66666667, 0.57735027],\n",
       "       [0.81649658, 0.40824829, 1.        , 0.        , 0.70710678],\n",
       "       [0.33333333, 0.66666667, 0.        , 1.        , 0.57735027],\n",
       "       [0.57735027, 0.57735027, 0.70710678, 0.57735027, 1.        ]])"
      ]
     },
     "execution_count": 11,
     "metadata": {},
     "output_type": "execute_result"
    }
   ],
   "source": [
    "np.array(similarity_list)"
   ]
  },
  {
   "cell_type": "code",
   "execution_count": null,
   "id": "9d779c6c",
   "metadata": {},
   "outputs": [],
   "source": []
  }
 ],
 "metadata": {
  "kernelspec": {
   "display_name": "Python 3 (ipykernel)",
   "language": "python",
   "name": "python3"
  },
  "language_info": {
   "codemirror_mode": {
    "name": "ipython",
    "version": 3
   },
   "file_extension": ".py",
   "mimetype": "text/x-python",
   "name": "python",
   "nbconvert_exporter": "python",
   "pygments_lexer": "ipython3",
   "version": "3.9.7"
  },
  "nbTranslate": {
   "displayLangs": [
    "*"
   ],
   "hotkey": "alt-t",
   "langInMainMenu": true,
   "sourceLang": "en",
   "targetLang": "fr",
   "useGoogleTranslate": true
  },
  "toc": {
   "base_numbering": 1,
   "nav_menu": {},
   "number_sections": true,
   "sideBar": true,
   "skip_h1_title": false,
   "title_cell": "Table of Contents",
   "title_sidebar": "Contents",
   "toc_cell": false,
   "toc_position": {},
   "toc_section_display": true,
   "toc_window_display": false
  }
 },
 "nbformat": 4,
 "nbformat_minor": 5
}
