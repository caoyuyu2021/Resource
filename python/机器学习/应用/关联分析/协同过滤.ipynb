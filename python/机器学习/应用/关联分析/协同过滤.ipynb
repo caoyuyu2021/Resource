{
 "cells": [
  {
   "cell_type": "code",
   "execution_count": 2,
   "id": "f136e671",
   "metadata": {
    "ExecuteTime": {
     "end_time": "2023-05-26T03:10:00.767164Z",
     "start_time": "2023-05-26T03:10:00.594350Z"
    }
   },
   "outputs": [
    {
     "name": "stdout",
     "output_type": "stream",
     "text": [
      "       ItemA  ItemB  ItemC  ItemD  ItemE\n",
      "User1      1      0      1      1      0\n",
      "User2      1      0      0      1      1\n",
      "User3      1      0      1      0      0\n",
      "User4      0      1      0      1      1\n",
      "User5      1      1      1      0      1\n",
      "用户之间的两两相似度：\n",
      "          User1     User2     User3     User4     User5\n",
      "User1  1.000000  0.444444  0.666667  0.111111  0.333333\n",
      "User2  0.444444  1.000000  0.166667  0.444444  0.333333\n",
      "User3  0.666667  0.166667  1.000000  0.000000  0.500000\n",
      "User4  0.111111  0.444444  0.000000  1.000000  0.333333\n",
      "User5  0.333333  0.333333  0.500000  0.333333  1.000000\n",
      "Top2相似用户：\n",
      "{'User1': ['User3', 'User2'], 'User2': ['User1', 'User4'], 'User3': ['User1', 'User5'], 'User4': ['User2', 'User5'], 'User5': ['User3', 'User1']}\n",
      "最终推荐结果：\n",
      "{'User1': {'ItemE'}, 'User2': {'ItemB', 'ItemC'}, 'User3': {'ItemB', 'ItemE', 'ItemD'}, 'User4': {'ItemA', 'ItemC'}, 'User5': {'ItemD'}}\n"
     ]
    }
   ],
   "source": [
    "#基于协同过滤的推荐算法（Collaborative Filtering）\n",
    "#User-Based CF 基于用户的协同过滤推荐\n",
    "\n",
    "import numpy as np\n",
    "import pandas as pd\n",
    "\n",
    "users = ['User1', 'User2', 'User3', 'User4', 'User5']\n",
    "items = ['ItemA', 'ItemB', 'ItemC', 'ItemD', 'ItemE']\n",
    "\n",
    "# 1.构造用户购买记录数据集\n",
    "datasets = [\n",
    "    [1,0,1,1,0],\n",
    "    [1,0,0,1,1],\n",
    "    [1,0,1,0,0],\n",
    "    [0,1,0,1,1],\n",
    "    [1,1,1,0,1],\n",
    "]\n",
    "df = pd.DataFrame(datasets, columns=items, index=users)\n",
    "print(df)\n",
    "\n",
    "# 2.计算用户间相似度\n",
    "user_similar = []\n",
    "for user in df.index:\n",
    "    # 计算每个用户和其他用户间的相似度\n",
    "    similarity_list = []\n",
    "    for other_user in df.index:\n",
    "        user_list = list(df.loc[user])\n",
    "        other_user_list = list(df.loc[other_user])\n",
    "        common_num = sum([ 1 for i in range(len(user_list)) if user_list[i] + other_user_list[i] == 2 ])\n",
    "        similarity = (common_num / sum(user_list)) * (common_num / sum(other_user_list))\n",
    "        similarity_list.append(similarity)\n",
    "    # 构建用户间相似度矩阵\n",
    "    user_similar.append(similarity_list)\n",
    "\n",
    "user_similar = pd.DataFrame(user_similar, columns=users, index=users)\n",
    "\n",
    "print(\"用户之间的两两相似度：\")\n",
    "print(user_similar)\n",
    "\n",
    "# 3.构造每个用户相似度topN的用户字典\n",
    "topN_users = {}\n",
    "for i in user_similar.index:\n",
    "    # 取出每一列数据，并删除自身，然后排序数据\n",
    "    _df = user_similar.loc[i].drop([i])\n",
    "    _df_sorted = _df.sort_values(ascending=False)\n",
    "\n",
    "    top2 = list(_df_sorted.index[:2])\n",
    "    topN_users[i] = top2\n",
    "\n",
    "print(\"Top2相似用户：\")\n",
    "print(topN_users)\n",
    "\n",
    "# 4.构建推荐结果\n",
    "rs_results = {}\n",
    "for user, sim_users in topN_users.items():\n",
    "    # 存储每个用户推荐结果\n",
    "    rs_result = set()   \n",
    "    # 找到最相似的topN用户购买过的物品\n",
    "    for sim_user in sim_users:\n",
    "        rs_result = rs_result.union(set(df.loc[sim_user].replace(0, np.nan).dropna().index))\n",
    "    # 过滤掉已经购买过的物品\n",
    "    rs_result -= set(df.loc[user].replace(0, np.nan).dropna().index)\n",
    "\n",
    "    rs_results[user] = rs_result\n",
    "\n",
    "print(\"最终推荐结果：\")\n",
    "print(rs_results)\n"
   ]
  },
  {
   "cell_type": "code",
   "execution_count": null,
   "id": "43382d07",
   "metadata": {},
   "outputs": [],
   "source": [
    "#Item-Based CF 基于物品的协同过滤推荐\n"
   ]
  }
 ],
 "metadata": {
  "kernelspec": {
   "display_name": "Python 3 (ipykernel)",
   "language": "python",
   "name": "python3"
  },
  "language_info": {
   "codemirror_mode": {
    "name": "ipython",
    "version": 3
   },
   "file_extension": ".py",
   "mimetype": "text/x-python",
   "name": "python",
   "nbconvert_exporter": "python",
   "pygments_lexer": "ipython3",
   "version": "3.9.7"
  },
  "nbTranslate": {
   "displayLangs": [
    "*"
   ],
   "hotkey": "alt-t",
   "langInMainMenu": true,
   "sourceLang": "en",
   "targetLang": "fr",
   "useGoogleTranslate": true
  },
  "toc": {
   "base_numbering": 1,
   "nav_menu": {},
   "number_sections": true,
   "sideBar": true,
   "skip_h1_title": false,
   "title_cell": "Table of Contents",
   "title_sidebar": "Contents",
   "toc_cell": false,
   "toc_position": {},
   "toc_section_display": true,
   "toc_window_display": false
  }
 },
 "nbformat": 4,
 "nbformat_minor": 5
}
