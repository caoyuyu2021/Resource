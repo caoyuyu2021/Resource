{
 "cells": [
  {
   "cell_type": "code",
   "execution_count": 1,
   "id": "f6ca235d",
   "metadata": {
    "ExecuteTime": {
     "end_time": "2022-08-09T09:15:44.621553Z",
     "start_time": "2022-08-09T09:15:43.588237Z"
    }
   },
   "outputs": [
    {
     "name": "stdout",
     "output_type": "stream",
     "text": [
      "原数据集中的特征数：\n",
      " 4 \n",
      "\n",
      "原数据集中不同特征的方差：\n",
      " [0.68112222 0.18871289 3.09550267 0.57713289] \n",
      "\n",
      "方差阈值法选择的特征数：\n",
      " 2\n"
     ]
    }
   ],
   "source": [
    "#方差阈值法\n",
    "from sklearn.datasets import load_iris\n",
    "from sklearn.feature_selection import VarianceThreshold\n",
    "import numpy as np\n",
    "\n",
    "# 加载数据集\n",
    "iris = load_iris()\n",
    "X = iris.data\n",
    "y = iris.target\n",
    "\n",
    "# 打印数据集中的特征数和每个特征的方差\n",
    "print('原数据集中的特征数：\\n', X.shape[1], '\\n')\n",
    "print('原数据集中不同特征的方差：\\n', np.var(X, axis=0), '\\n')\n",
    "\n",
    "# 使用VarianceThreshold来过滤掉方差在0.6以下的特征\n",
    "selector = VarianceThreshold(threshold=0.6)\n",
    "X_new = selector.fit_transform(X)\n",
    "\n",
    "# 打印新数据集的特征数\n",
    "print('方差阈值法选择的特征数：\\n', X_new.shape[1])"
   ]
  },
  {
   "cell_type": "code",
   "execution_count": 3,
   "id": "d883ce0f",
   "metadata": {
    "ExecuteTime": {
     "end_time": "2022-08-09T09:22:35.088713Z",
     "start_time": "2022-08-09T09:22:34.916354Z"
    }
   },
   "outputs": [
    {
     "name": "stdout",
     "output_type": "stream",
     "text": [
      "(506, 13)\n",
      "(506,)\n"
     ]
    },
    {
     "name": "stderr",
     "output_type": "stream",
     "text": [
      "D:\\TongYuan\\.julia\\conda\\3\\lib\\site-packages\\sklearn\\utils\\deprecation.py:87: FutureWarning: Function load_boston is deprecated; `load_boston` is deprecated in 1.0 and will be removed in 1.2.\n",
      "\n",
      "    The Boston housing prices dataset has an ethical problem. You can refer to\n",
      "    the documentation of this function for further details.\n",
      "\n",
      "    The scikit-learn maintainers therefore strongly discourage the use of this\n",
      "    dataset unless the purpose of the code is to study and educate about\n",
      "    ethical issues in data science and machine learning.\n",
      "\n",
      "    In this special case, you can fetch the dataset from the original\n",
      "    source::\n",
      "\n",
      "        import pandas as pd\n",
      "        import numpy as np\n",
      "\n",
      "        data_url = \"http://lib.stat.cmu.edu/datasets/boston\"\n",
      "        raw_df = pd.read_csv(data_url, sep=\"\\s+\", skiprows=22, header=None)\n",
      "        data = np.hstack([raw_df.values[::2, :], raw_df.values[1::2, :2]])\n",
      "        target = raw_df.values[1::2, 2]\n",
      "\n",
      "    Alternative datasets include the California housing dataset (i.e.\n",
      "    :func:`~sklearn.datasets.fetch_california_housing`) and the Ames housing\n",
      "    dataset. You can load the datasets as follows::\n",
      "\n",
      "        from sklearn.datasets import fetch_california_housing\n",
      "        housing = fetch_california_housing()\n",
      "\n",
      "    for the California housing dataset and::\n",
      "\n",
      "        from sklearn.datasets import fetch_openml\n",
      "        housing = fetch_openml(name=\"house_prices\", as_frame=True)\n",
      "\n",
      "    for the Ames housing dataset.\n",
      "  warnings.warn(msg, category=FutureWarning)\n"
     ]
    }
   ],
   "source": [
    "#SelectKBest\n",
    "from sklearn.datasets import load_boston\n",
    "from sklearn.feature_selection import SelectKBest, f_regression\n",
    "from sklearn.metrics import r2_score, mean_squared_error\n",
    "from sklearn.linear_model import LinearRegression\n",
    "from sklearn.model_selection import train_test_split\n",
    "import pandas as pd\n",
    "import numpy as np\n",
    "\n",
    "boston = load_boston()\n",
    "X = boston.data\n",
    "y = boston.target\n",
    "print(X.shape)\n",
    "print(y.shape)"
   ]
  },
  {
   "cell_type": "code",
   "execution_count": 4,
   "id": "2ceea628",
   "metadata": {
    "ExecuteTime": {
     "end_time": "2022-08-09T09:23:45.517743Z",
     "start_time": "2022-08-09T09:23:45.188298Z"
    }
   },
   "outputs": [
    {
     "name": "stdout",
     "output_type": "stream",
     "text": [
      "R2:  0.6783942923302058\n",
      "MSE:  29.824006898863182\n"
     ]
    }
   ],
   "source": [
    "X_train, X_test, y_train, y_test = train_test_split(X, y, random_state=1001)\n",
    "model = LinearRegression()\n",
    "model.fit(X_train, y_train)\n",
    "y_pred = model.predict(X_test)\n",
    "r2 = r2_score(y_test, y_pred)\n",
    "mse = mean_squared_error(y_test, y_pred)\n",
    "print('R2: ', r2)\n",
    "print('MSE: ', mse)"
   ]
  },
  {
   "cell_type": "code",
   "execution_count": 5,
   "id": "f3b7de57",
   "metadata": {
    "ExecuteTime": {
     "end_time": "2022-08-09T09:23:57.514122Z",
     "start_time": "2022-08-09T09:23:57.444222Z"
    }
   },
   "outputs": [
    {
     "name": "stdout",
     "output_type": "stream",
     "text": [
      "(506, 10)\n"
     ]
    }
   ],
   "source": [
    "selector = SelectKBest(f_regression, k=10) #选择10个特征\n",
    "X_new = selector.fit_transform(X, y)\n",
    "print(X_new.shape)"
   ]
  },
  {
   "cell_type": "code",
   "execution_count": 6,
   "id": "9952c6f6",
   "metadata": {
    "ExecuteTime": {
     "end_time": "2022-08-09T09:24:07.561186Z",
     "start_time": "2022-08-09T09:24:07.524205Z"
    }
   },
   "outputs": [
    {
     "name": "stdout",
     "output_type": "stream",
     "text": [
      "R2:  0.682644378927699\n",
      "MSE:  29.429876418646238\n"
     ]
    }
   ],
   "source": [
    "X_train, X_test, y_train, y_test = train_test_split(X_new, y, random_state=1001)\n",
    "model = LinearRegression()\n",
    "model.fit(X_train, y_train)\n",
    "y_pred = model.predict(X_test)\n",
    "r2 = r2_score(y_test, y_pred)\n",
    "mse = mean_squared_error(y_test, y_pred)\n",
    "print('R2: ', r2)\n",
    "print('MSE: ', mse)"
   ]
  },
  {
   "cell_type": "markdown",
   "id": "e46a448b",
   "metadata": {},
   "source": [
    "SelectFpr方法则要求对假设检验有一定的认识。这种方法基于FPR测试，即False Positive Rate，其含义为假阳性率，是指被我们预测为正但实际为负的样本的比例，也就是假设检验中的一类错误发生的比例。"
   ]
  },
  {
   "cell_type": "code",
   "execution_count": 8,
   "id": "df217f1d",
   "metadata": {
    "ExecuteTime": {
     "end_time": "2022-08-09T09:27:34.501543Z",
     "start_time": "2022-08-09T09:27:34.475716Z"
    }
   },
   "outputs": [
    {
     "name": "stdout",
     "output_type": "stream",
     "text": [
      "(506, 12)\n",
      "R2:  0.6935405006596658\n",
      "MSE:  28.419427903725335\n"
     ]
    }
   ],
   "source": [
    "#SelectFpr\n",
    "from sklearn.feature_selection import SelectFpr\n",
    "selector = SelectFpr(f_regression, alpha=0.00001)\n",
    "X_new = selector.fit_transform(X, y)\n",
    "print(X_new.shape)\n",
    "\n",
    "X_train, X_test, y_train, y_test = train_test_split(X_new, y, random_state=1001)\n",
    "model = LinearRegression()\n",
    "model.fit(X_train, y_train)\n",
    "y_pred = model.predict(X_test)\n",
    "r2 = r2_score(y_test, y_pred)\n",
    "mse = mean_squared_error(y_test, y_pred)\n",
    "print('R2: ', r2)\n",
    "print('MSE: ', mse)"
   ]
  },
  {
   "cell_type": "markdown",
   "id": "4a9af553",
   "metadata": {},
   "source": [
    "SelectFdr则是根据错误发现率（FDR，False Discovery Rate）来为特征排序。错误发现率与假阳性率非常相似，但是却有着本质的不同。假阳性率是在所有样本中一类错误发生的概率，而错误发现率则仅仅关注在我们拒绝原假设(预测为正)的样本中，有多大比例是犯了一类错误的（即在\"发现\"的样本里，有多少是错误的\"发现\"）。"
   ]
  },
  {
   "cell_type": "code",
   "execution_count": 10,
   "id": "2c6077ff",
   "metadata": {
    "ExecuteTime": {
     "end_time": "2022-08-09T09:32:08.924545Z",
     "start_time": "2022-08-09T09:32:08.889857Z"
    }
   },
   "outputs": [
    {
     "name": "stdout",
     "output_type": "stream",
     "text": [
      "(506, 12)\n",
      "R2:  0.6935405006596658\n",
      "MSE:  28.419427903725335\n"
     ]
    }
   ],
   "source": [
    "#SelectFdr\n",
    "from sklearn.feature_selection import SelectFdr\n",
    "selector = SelectFdr(f_regression, alpha=0.00001)\n",
    "X_new = selector.fit_transform(X, y)\n",
    "print(X_new.shape)\n",
    "\n",
    "X_train, X_test, y_train, y_test = train_test_split(X_new, y, random_state=1001)\n",
    "model = LinearRegression()\n",
    "model.fit(X_train, y_train)\n",
    "y_pred = model.predict(X_test)\n",
    "r2 = r2_score(y_test, y_pred)\n",
    "mse = mean_squared_error(y_test, y_pred)\n",
    "print('R2: ', r2)\n",
    "print('MSE: ', mse)"
   ]
  },
  {
   "cell_type": "markdown",
   "id": "a96e70c0",
   "metadata": {},
   "source": [
    "在多重假设检验中，总体错误率(族系误差率，FWER，family-wise error rate)是另一个常用的错误控制指标，它与FDR的区别在于，FWER是指至少出现一次一类错误的概率，而FDR则是关注预测为正的样本中一类错误发生的比例。"
   ]
  },
  {
   "cell_type": "code",
   "execution_count": 11,
   "id": "0911b030",
   "metadata": {
    "ExecuteTime": {
     "end_time": "2022-08-09T09:32:51.518196Z",
     "start_time": "2022-08-09T09:32:51.473528Z"
    }
   },
   "outputs": [
    {
     "name": "stdout",
     "output_type": "stream",
     "text": [
      "(506, 11)\n",
      "R2:  0.690619122897421\n",
      "MSE:  28.69034097665137\n"
     ]
    }
   ],
   "source": [
    "#SelectFwe\n",
    "from sklearn.feature_selection import SelectFwe\n",
    "selector = SelectFwe(f_regression, alpha=0.0000001)\n",
    "X_new = selector.fit_transform(X, y)\n",
    "print(X_new.shape)\n",
    "\n",
    "X_train, X_test, y_train, y_test = train_test_split(X_new, y, random_state=1001)\n",
    "model = LinearRegression()\n",
    "model.fit(X_train, y_train)\n",
    "y_pred = model.predict(X_test)\n",
    "r2 = r2_score(y_test, y_pred)\n",
    "mse = mean_squared_error(y_test, y_pred)\n",
    "print('R2: ', r2)\n",
    "print('MSE: ', mse)"
   ]
  },
  {
   "cell_type": "code",
   "execution_count": null,
   "id": "d2a3a7e3",
   "metadata": {},
   "outputs": [],
   "source": []
  },
  {
   "cell_type": "code",
   "execution_count": null,
   "id": "17a31d75",
   "metadata": {},
   "outputs": [],
   "source": []
  },
  {
   "cell_type": "markdown",
   "id": "1ce6f30e",
   "metadata": {},
   "source": [
    "这种方法将上述五种方法集成到了一起，然后我们将评分方法、选择方法以参数的形式传递进来即可。"
   ]
  },
  {
   "cell_type": "code",
   "execution_count": 9,
   "id": "0d456e5b",
   "metadata": {
    "ExecuteTime": {
     "end_time": "2022-08-09T09:31:12.849074Z",
     "start_time": "2022-08-09T09:31:12.818152Z"
    }
   },
   "outputs": [
    {
     "name": "stdout",
     "output_type": "stream",
     "text": [
      "(506, 12)\n",
      "R2:  0.6935405006596658\n",
      "MSE:  28.419427903725335\n"
     ]
    }
   ],
   "source": [
    "#GenericUnivariateSelect\n",
    "from sklearn.feature_selection import GenericUnivariateSelect\n",
    "selector = GenericUnivariateSelect(f_regression, mode='fpr', param=0.0000001)\n",
    "X_new = selector.fit_transform(X, y)\n",
    "print(X_new.shape)\n",
    "\n",
    "X_train, X_test, y_train, y_test = train_test_split(X_new, y, random_state=1001)\n",
    "model = LinearRegression()\n",
    "model.fit(X_train, y_train)\n",
    "y_pred = model.predict(X_test)\n",
    "r2 = r2_score(y_test, y_pred)\n",
    "mse = mean_squared_error(y_test, y_pred)\n",
    "print('R2: ', r2)\n",
    "print('MSE: ', mse)"
   ]
  },
  {
   "cell_type": "code",
   "execution_count": null,
   "id": "a5b28d11",
   "metadata": {},
   "outputs": [],
   "source": []
  }
 ],
 "metadata": {
  "kernelspec": {
   "display_name": "Python 3 (ipykernel)",
   "language": "python",
   "name": "python3"
  },
  "language_info": {
   "codemirror_mode": {
    "name": "ipython",
    "version": 3
   },
   "file_extension": ".py",
   "mimetype": "text/x-python",
   "name": "python",
   "nbconvert_exporter": "python",
   "pygments_lexer": "ipython3",
   "version": "3.9.7"
  },
  "nbTranslate": {
   "displayLangs": [
    "*"
   ],
   "hotkey": "alt-t",
   "langInMainMenu": true,
   "sourceLang": "en",
   "targetLang": "fr",
   "useGoogleTranslate": true
  },
  "toc": {
   "base_numbering": 1,
   "nav_menu": {},
   "number_sections": true,
   "sideBar": true,
   "skip_h1_title": false,
   "title_cell": "Table of Contents",
   "title_sidebar": "Contents",
   "toc_cell": false,
   "toc_position": {},
   "toc_section_display": true,
   "toc_window_display": false
  }
 },
 "nbformat": 4,
 "nbformat_minor": 5
}
