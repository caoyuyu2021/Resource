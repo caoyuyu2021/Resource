{
 "cells": [
  {
   "cell_type": "code",
   "execution_count": 3,
   "metadata": {},
   "outputs": [],
   "source": [
    "import numpy as np\n",
    "import matplotlib.pyplot as plt\n",
    "# hmmlearn可以在安装numpy以后，再使用pip install hmmlearn安装\n",
    "from hmmlearn import hmm\n",
    "\n",
    "states = [\"Rainy\", \"Sunny\"]##隐藏状态\n",
    "n_states = len(states)##隐藏状态长度\n",
    "\n",
    "observations = [\"walk\", \"shop\", \"clean\"]##可观察的状态\n",
    "n_observations = len(observations)##可观察序列的长度\n",
    "\n",
    "start_probability = np.array([0.6, 0.4])##开始转移概率，即开始是Rainy和Sunny的概率\n",
    "##隐藏间天气转移混淆矩阵，即Rainy和Sunny之间的转换关系，例如[0,0]表示今天Rainy，明天Rainy的概率\n",
    "transition_probability = np.array([\n",
    "  [0.7, 0.3],\n",
    "  [0.4, 0.6]\n",
    "])\n",
    "##隐藏状态天气和可视行为混淆矩阵，例如[0,0]表示今天Rainy，walk行为的概率为0.1\n",
    "emission_probability = np.array([\n",
    "  [0.1, 0.4, 0.5],\n",
    "  [0.6, 0.3, 0.1]\n",
    "])\n",
    "\n",
    "#构建了一个MultinomialHMM模型，这模型包括开始的转移概率，隐藏间天气转换混淆矩阵（transmat），隐藏状态天气和可视行为混淆矩阵emissionprob，对模型参数初始化\n",
    "model = hmm.MultinomialHMM(n_components=n_states)\n",
    "model.startprob_= start_probability\n",
    "model.transmat_ = transition_probability\n",
    "model.emissionprob_ = emission_probability\n",
    "\n",
    "#给出一个可见序列\n",
    "bob_Actions = np.array([[2, 0, 1, 1, 2, 0]]).T\n",
    "\n",
    "# 解决问题1,解码问题,已知模型参数和X，估计最可能的Z； 维特比算法 \n",
    "logprob,weathers = model.decode(bob_Actions, algorithm=\"viterbi\")\n",
    "#最后输出结果"
   ]
  },
  {
   "cell_type": "code",
   "execution_count": 10,
   "metadata": {},
   "outputs": [],
   "source": [
    "from hmmlearn import hmm\n",
    "import numpy as np\n",
    "import matplotlib.pyplot as plt"
   ]
  },
  {
   "cell_type": "code",
   "execution_count": 4,
   "metadata": {},
   "outputs": [
    {
     "name": "stdout",
     "output_type": "stream",
     "text": [
      "-8.788938924569665\n"
     ]
    },
    {
     "data": {
      "text/plain": [
       "-6.892170869202603"
      ]
     },
     "execution_count": 4,
     "metadata": {},
     "output_type": "execute_result"
    }
   ],
   "source": [
    "states = [\"Rainy\", \"Sunny\"]##隐藏状态\n",
    "n_states = len(states)##隐藏状态长度\n",
    "observations = [\"walk\", \"shop\", \"clean\"]##可观察的状态\n",
    "n_observations = len(observations)##可观察序列的长度\n",
    "start_probability = np.array([0.6, 0.4])##开始转移概率，即开始是Rainy和Sunny的概率\n",
    "transition_probability = np.array([\n",
    "  [0.7, 0.3],\n",
    "  [0.4, 0.6]\n",
    "])\n",
    "emission_probability = np.array([\n",
    "  [0.1, 0.4, 0.5],\n",
    "  [0.6, 0.3, 0.1]\n",
    "])\n",
    "model = hmm.MultinomialHMM(n_components=n_states)\n",
    "model.startprob_= start_probability\n",
    "model.transmat_ = transition_probability\n",
    "model.emissionprob_ = emission_probability\n",
    "bob_Actions = np.array([[2, 0, 1, 1, 2, 0]]).T\n",
    "\n",
    "s = model.decode(bob_Actions, algorithm=\"viterbi\")\n",
    "#print(logprob)\n",
    "#print(weathers)\n",
    "print(s[0])\n",
    "model.score(bob_Actions, lengths=None)"
   ]
  },
  {
   "cell_type": "code",
   "execution_count": 41,
   "metadata": {},
   "outputs": [],
   "source": [
    "from hmmlearn.hmm import MultinomialHMM"
   ]
  },
  {
   "cell_type": "code",
   "execution_count": 5,
   "metadata": {},
   "outputs": [
    {
     "data": {
      "text/plain": [
       "array([[1.00000000e+00, 5.93173203e-96],\n",
       "       [3.99185436e-20, 1.00000000e+00],\n",
       "       [1.00000000e+00, 2.07434080e-20],\n",
       "       [7.00513780e-20, 1.00000000e+00],\n",
       "       [1.00000000e+00, 2.31377321e-33],\n",
       "       [6.29761658e-11, 1.00000000e+00]])"
      ]
     },
     "execution_count": 5,
     "metadata": {},
     "output_type": "execute_result"
    }
   ],
   "source": [
    "states = [\"Rainy\", \"Sunny\"]##隐藏状态\n",
    "n_states = len(states)##隐藏状态长度\n",
    "observations = [\"walk\", \"shop\", \"clean\"]##可观察的状态\n",
    "n_observations = len(observations)##可观察序列的长度\n",
    "model = hmm.MultinomialHMM(n_components=n_states, n_iter=1000, tol=0.01)\n",
    "X = np.array([[2, 0, 1, 1, 2, 0],[0, 0, 1, 1, 2, 0],[2, 1, 2, 1, 2, 0]])\n",
    "model.fit(X)\n",
    "model.score(X)\n",
    "bob_Actions = np.array([[2, 0, 1, 1, 2, 0]]).T\n",
    "model.predict(bob_Actions)\n",
    "model.predict_proba(bob_Actions) "
   ]
  },
  {
   "cell_type": "code",
   "execution_count": 59,
   "metadata": {},
   "outputs": [],
   "source": [
    "model.startprob_= model.startprob_\n",
    "model.transmat_ = model.transmat_\n",
    "model.emissionprob_ = model.emissionprob_"
   ]
  },
  {
   "cell_type": "code",
   "execution_count": 27,
   "metadata": {},
   "outputs": [],
   "source": [
    "bob_Actions = np.array([[2, 0, 1, 1, 2, 0]]).T"
   ]
  },
  {
   "cell_type": "code",
   "execution_count": 28,
   "metadata": {},
   "outputs": [],
   "source": [
    "s = model.decode(bob_Actions, algorithm=\"viterbi\")"
   ]
  },
  {
   "cell_type": "code",
   "execution_count": 62,
   "metadata": {},
   "outputs": [
    {
     "data": {
      "text/plain": [
       "(6, 1)"
      ]
     },
     "execution_count": 62,
     "metadata": {},
     "output_type": "execute_result"
    }
   ],
   "source": [
    "bob_Actions.shape"
   ]
  },
  {
   "cell_type": "code",
   "execution_count": null,
   "metadata": {},
   "outputs": [],
   "source": []
  }
 ],
 "metadata": {
  "kernelspec": {
   "display_name": "Python 3",
   "language": "python",
   "name": "python3"
  },
  "language_info": {
   "codemirror_mode": {
    "name": "ipython",
    "version": 3
   },
   "file_extension": ".py",
   "mimetype": "text/x-python",
   "name": "python",
   "nbconvert_exporter": "python",
   "pygments_lexer": "ipython3",
   "version": "3.7.6"
  }
 },
 "nbformat": 4,
 "nbformat_minor": 2
}
