{
 "cells": [
  {
   "cell_type": "markdown",
   "id": "b6b4395b",
   "metadata": {},
   "source": [
    "<font face=\"微软雅黑\" color=green size=5>Mysql基础</font>"
   ]
  },
  {
   "cell_type": "markdown",
   "id": "7f0c3b8a",
   "metadata": {},
   "source": [
    "# 语法"
   ]
  },
  {
   "cell_type": "markdown",
   "id": "a45fa322",
   "metadata": {},
   "source": [
    "select 查询列表  \n",
    "from 表1\n",
    "连接类型 join 表2  \n",
    "on 连接条件  \n",
    "where 筛选条件  \n",
    "group by 分组字段  \n",
    "having 分组后的筛选  \n",
    "order by 排序的字段   \n",
    "limit 起始索引, 要显示的条目个数;"
   ]
  },
  {
   "cell_type": "code",
   "execution_count": null,
   "id": "7b03b98b",
   "metadata": {},
   "outputs": [],
   "source": []
  }
 ],
 "metadata": {
  "kernelspec": {
   "display_name": "Python 3 (ipykernel)",
   "language": "python",
   "name": "python3"
  },
  "language_info": {
   "codemirror_mode": {
    "name": "ipython",
    "version": 3
   },
   "file_extension": ".py",
   "mimetype": "text/x-python",
   "name": "python",
   "nbconvert_exporter": "python",
   "pygments_lexer": "ipython3",
   "version": "3.9.5"
  },
  "toc": {
   "base_numbering": 1,
   "nav_menu": {},
   "number_sections": true,
   "sideBar": true,
   "skip_h1_title": false,
   "title_cell": "Table of Contents",
   "title_sidebar": "Contents",
   "toc_cell": false,
   "toc_position": {},
   "toc_section_display": true,
   "toc_window_display": true
  },
  "varInspector": {
   "cols": {
    "lenName": 16,
    "lenType": 16,
    "lenVar": 40
   },
   "kernels_config": {
    "python": {
     "delete_cmd_postfix": "",
     "delete_cmd_prefix": "del ",
     "library": "var_list.py",
     "varRefreshCmd": "print(var_dic_list())"
    },
    "r": {
     "delete_cmd_postfix": ") ",
     "delete_cmd_prefix": "rm(",
     "library": "var_list.r",
     "varRefreshCmd": "cat(var_dic_list()) "
    }
   },
   "types_to_exclude": [
    "module",
    "function",
    "builtin_function_or_method",
    "instance",
    "_Feature"
   ],
   "window_display": false
  }
 },
 "nbformat": 4,
 "nbformat_minor": 5
}
