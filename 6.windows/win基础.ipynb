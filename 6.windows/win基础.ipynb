{
 "cells": [
  {
   "cell_type": "markdown",
   "id": "3eb27a70",
   "metadata": {},
   "source": [
    "# 电脑快捷键"
   ]
  },
  {
   "cell_type": "raw",
   "id": "a051bc84",
   "metadata": {},
   "source": [
    "win+E 打开文件管器\n",
    "win+D 显示桌面\n",
    "win+L 锁计算机\n",
    "alt+F4 关闭当前程序 \\ 文件\n",
    "ctrl+shift+Esc 打开任务管理器（或者 ctrl+alt+delete）\n",
    "ctrl+F 在一个文本或者网页里面查找，相当实用（退出一般按 ESC）\n",
    "ctrl+A 选中所有文本, 或所有文件\n",
    "crtl+alt+tab 选中窗口但不打开，使用回车打开。按tab 或←→切换\n",
    "alt+tab 选中窗口并打开\n",
    "win+tab 任务视图\n",
    "ctrl+tab 切换窗口 (仅同一软件内多个窗口有效，如浏览器开了许多个网页)"
   ]
  },
  {
   "cell_type": "markdown",
   "id": "cc609c96",
   "metadata": {},
   "source": [
    "# 内核和逻辑处理器"
   ]
  },
  {
   "cell_type": "markdown",
   "id": "67ea62d5",
   "metadata": {},
   "source": [
    "Socket(颗）本意是插槽，颗数代表着主板上可以插多少个芯片。多核架构指的是一个芯片上集成多个处理器，每个处理器叫做为核（core），每个核代表一个独立的物理CPU。超线程技术没有产生新的独立物理CPU，但它能**通过共享计算单元能将一个CPU衍生成两个逻辑CPU用**。\n",
    "\n",
    "举例来说，如果我们说一台电脑是2颗4核（2 sockets and 4 cores）,代表着它的主板上有2个芯片插槽，每个芯片上有4个CPU(核），因此我们有`2*4=8`个物理CPU。如果使用了超线程技术，每个CPU衍生出两个逻辑CPU,因此我们有`8*2=16`个逻辑CPU。"
   ]
  },
  {
   "cell_type": "markdown",
   "id": "8c28b110",
   "metadata": {},
   "source": [
    "一般一个核心对应了一个线程，而intel开发出了超线程技术，1个核心能够做到2个线程计算，而6个核心则能够做到12个线程，超线程技术的好处就是无需增加物理核心就可以明显的进步CPU多线程功能，毕竟增加物理核心是需要占据非常大的核心面积，成本也随之增加。而线程数是一种逻辑的概念，说白了就是虚拟出的CPU核心数，现在无论是intel还是AMD都具备超线程技术。"
   ]
  },
  {
   "cell_type": "markdown",
   "id": "fb1ab996",
   "metadata": {},
   "source": [
    "**如果计算机逻辑处理器是8个，也就是cpu可以并发处理8个线程，任务管理器截图里的2k多个，会跟着进程排队执行，并不全都是活跃状态。**"
   ]
  },
  {
   "cell_type": "markdown",
   "id": "d7e436a8",
   "metadata": {},
   "source": [
    "多核心和多线程的作用主要是为了满足各类程序多任务需求，核心数和线程数量越多，那么越有利同时运行多个程序，CPU能够并行处理多个任务数量，说白点就是核心数和线程数量越多，越适合多开软件或者游戏，打开的任务越多，除了多开程序，还有渲染需求，核数和线程数越多，越有利。"
   ]
  },
  {
   "cell_type": "code",
   "execution_count": 2,
   "id": "a080bd14",
   "metadata": {
    "ExecuteTime": {
     "end_time": "2023-04-19T03:03:11.431082Z",
     "start_time": "2023-04-19T03:03:11.425082Z"
    }
   },
   "outputs": [
    {
     "name": "stdout",
     "output_type": "stream",
     "text": [
      "16\n"
     ]
    }
   ],
   "source": [
    "from multiprocessing import cpu_count\n",
    "print(cpu_count())"
   ]
  },
  {
   "cell_type": "markdown",
   "id": "7ae3735d",
   "metadata": {},
   "source": [
    "在python中，使用上述代码可以获取当前系统的逻辑cpu个数，也就是支持并发的线程个数。"
   ]
  },
  {
   "cell_type": "markdown",
   "id": "ff74e7d6",
   "metadata": {},
   "source": [
    "# 内存管理"
   ]
  },
  {
   "cell_type": "markdown",
   "id": "ffc1fb8e",
   "metadata": {},
   "source": [
    "## 物理地址"
   ]
  },
  {
   "cell_type": "markdown",
   "id": "73f3fabf",
   "metadata": {},
   "source": [
    "1、物理存储器（内存/主存/逻辑存储器）：由微处理器外部地址总线寻址的存储器\n",
    "\n",
    "- 这里的内存不特指计算机安装的内存条，而是指所有能被cpu直接寻址访问的存储器。包括内存条、显存和一些ROM。\n",
    "- 简单说：CPU把所有与cpu总线相连接并受其控制的的存储器，都看作一个统一的整体，对他们统一编址，这其中包括内存、显存、系统ROM等等，统称它们为存储器，存储器中按编址取一个字长的大小，就是一个存储单元。\n",
    "\n",
    "2、物理地址：物理存储器按8位的字节序列加以组织，每个字节有唯一的地址与之对应\n",
    "\n",
    "3、物理地址空间：物理地址的大小。\n",
    "\n",
    "- 物理地址是用外部地址总线寻址的，因此物理地址空间的上限受到总线条数限制，m条地址线对应的物理地址空间为$2^m$，物理地址范围0到$2^m-1$\n",
    "- 如果cpu工作在保护方式下，实际的物理地址空间除了地址线数量外，还受到系统配置的内存容量限制\n",
    "- 物理地址空间大小不等于实际安装物理内存大小，它描述的是CPU的最大寻址能力\n"
   ]
  },
  {
   "cell_type": "markdown",
   "id": "291ee542",
   "metadata": {},
   "source": [
    "1、在CPU实模式下，没有分段或分页机制，Cpu不进行自动地址转换，这时程序员操作的就是物理地址。\n",
    "\n",
    "2、无论任何操作，最终都必须要得到物理地址才能在物理内存上进行操作。"
   ]
  },
  {
   "cell_type": "markdown",
   "id": "f94915ff",
   "metadata": {},
   "source": [
    "## 逻辑地址"
   ]
  },
  {
   "cell_type": "markdown",
   "id": "92c5a805",
   "metadata": {},
   "source": [
    "**逻辑地址：操作系统或应用程序面对的存储单元地址的表示形式。**分段存储管理方式把内存划分为多个逻辑段（代码段、数据段、堆栈段等），从而把不同的数据存储隔离开。这种情况下，用 “段起始地址+段内偏移地址” 这种形式来描述数据地址就是很自然的，这就是所谓的逻辑地址，它的描述形式是段号：偏移地址\n",
    "1、段号用来查找段的起始地址，它被存储在段寄存器中\n",
    "\n",
    "2、偏移地址/有效地址：存储单元的物理地址与所在段起始地址的差值"
   ]
  },
  {
   "cell_type": "markdown",
   "id": "c4591333",
   "metadata": {},
   "source": [
    "1、逻辑地址是面向上层程序员的。用C语言声明一个char数组，我们说两个相邻元素间地址差1，这就是逻辑地址中偏移地址的体现。对于应用程序员或者说对于应用程序来说，他们只需要和逻辑地址打交道，分段分页机制、物理地址转换等更底层的内容对他们是透明的。\n",
    "\n",
    "2、逻辑地址并不一定是元素存储的真实地址，即数组元素的物理地址(在内存条中所处的位置)，并非是连续的，只是操作系统通过地址映射，将逻辑地址映射成连续的，这样更符合人们的直观思维。\n",
    "\n",
    "3、要注意的一点是，逻辑地址只是一个描述形式，cpu真正用来寻址的是虚拟地址，而虚拟地址是用逻辑地址形式描述的。"
   ]
  },
  {
   "cell_type": "markdown",
   "id": "8c2099bf",
   "metadata": {},
   "source": [
    "## 虚拟地址"
   ]
  },
  {
   "cell_type": "markdown",
   "id": "30ddb528",
   "metadata": {},
   "source": [
    "虚拟存储器：这不是任何实际的物理存储器，而是借助磁盘等辅助存储器来扩大主存容量，使之为更大或更多的程序所使用。\n",
    "\n",
    "虚拟地址：用于指示虚拟存储器的地址，它是用逻辑地址指示的。\n",
    "\n",
    "虚拟地址空间：表示虚拟地址的范围，其大小为逻辑地址的描述能力极限大小。"
   ]
  },
  {
   "cell_type": "markdown",
   "id": "e695cb34",
   "metadata": {},
   "source": [
    "事实上，操作系统会给每个进程分配一块大小为物理地址空间大小的虚拟内存，各个进程之间相互独立，也就是说，甚至有可能两个进程同时请求访问了同一个虚拟地址。看起来会冲突？要知道**CPU是通过时间片轮转的方法使不同的程序并发执行的，所以在某一时刻只有一个程序占据CPU资源**。**MMU（内存管理单元）**负责把虚拟地址转换为物理地址，在每一个时刻，它会先在主存中寻找指定的数据，如果发现数据不对，就会触发内存缺页错误，这时就从磁盘中找到缺的页加入内存，如果内存空间不足，还会从内存中置换页出来，从而保证程序的正常执行。"
   ]
  },
  {
   "cell_type": "markdown",
   "id": "48905ae9",
   "metadata": {},
   "source": [
    "![几种地址之间的关系图](diagram.png)"
   ]
  },
  {
   "cell_type": "markdown",
   "id": "b6d6d4f2",
   "metadata": {},
   "source": [
    "## 工作逻辑"
   ]
  },
  {
   "cell_type": "markdown",
   "id": "474b6ff4",
   "metadata": {},
   "source": [
    "CPU是通过寻址来访问内存的。32位CPU的寻址宽度是 0~0xFFFFFFFF ，计算后得到的大小是4G，也就是说可支持的物理内存最大是4G。但在实践过程中，碰到了这样的问题，程序需要使用4G内存，而可用物理内存小于4G，导致程序不得不降低内存占用。\n",
    "\n",
    "为了解决此类问题，现代CPU引入了 MMU（Memory Management Unit 内存管理单元）。\n",
    "\n",
    "MMU 的核心思想是利用虚拟地址替代物理地址，即CPU寻址时使用虚址，由 MMU 负责将虚址映射为物理地址。MMU的引入，解决了对物理内存的限制，对程序来说，就像自己在使用4G内存一样。\n",
    "\n",
    "\n",
    "内存分页(Paging)是在使用MMU的基础上，提出的一种内存管理机制。它将虚拟地址和物理地址按固定大小（4K）分割成页(page)和页帧(page frame)，并保证页与页帧的大小相同。这种机制，从数据结构上，保证了访问内存的高效，并使OS能支持非连续性的内存分配。在程序内存不够用时，还可以将不常用的物理内存页转移到其他存储设备上，比如磁盘，这就是大家耳熟能详的虚拟内存。\n",
    "\n",
    "在上文中提到，虚拟地址与物理地址需要通过映射，才能使CPU正常工作。\n",
    "而映射就需要存储映射表。在现代CPU架构中，映射关系通常被存储在物理内存上一个被称之为页表(page table)的地方。"
   ]
  },
  {
   "cell_type": "markdown",
   "id": "7cb0f644",
   "metadata": {},
   "source": [
    "虚拟内存将内存逻辑地址和物理地址之间建立了一个对应表，要读写逻辑地址对应的物理内存内容，必须查询相关页表(当然现在有还有段式、段页式内存对应方式，但是从原理上来说都是一样的)找到逻辑地址对应的物理地址做相关操作。我们常见的对程序员开放的内存分配接口如malloc等分配的得到的都是逻辑地址，C指针指向的也是逻辑地址。"
   ]
  },
  {
   "cell_type": "markdown",
   "id": "f35d7355",
   "metadata": {},
   "source": [
    "我们在程序中经常需要分配一块连续的内存结构，如数组，他们可以使用指针循环读取，但是物理内存多次分配释放后实际上是破碎的，如下图\n",
    "![内存调用](memory.png)"
   ]
  },
  {
   "cell_type": "markdown",
   "id": "aef80938",
   "metadata": {},
   "source": [
    "图中白色为可用物理内存，黑色为被其他程序占有的内存，现在要分配一个12大小的连续内存，那么显然物理内存中是没有这么大的连续内存的，这时候通过页表对应的方式可以看到我们很容易得到逻辑地址上连续的12大小的内存。"
   ]
  },
  {
   "cell_type": "markdown",
   "id": "bc3a335b",
   "metadata": {},
   "source": [
    "# 句柄"
   ]
  },
  {
   "cell_type": "markdown",
   "id": "137ac5d5",
   "metadata": {},
   "source": [
    "句柄（Handle）是一个用来标识对象或者项目的标识符，可以用来描述窗体、文件等，值得注意的是句柄不能是常量。\n",
    "\n",
    "Windows之所以要设立句柄，根本上源于内存管理机制的问题，即虚拟地址。简而言之数据的地址需要变动，变动以后就需要有人来记录、管理变动，因此系统用句柄来记载数据地址的变更。在程序设计中，句柄是一种特殊的智能指针，当一个应用程序要引用其他系统（如数据库、操作系统）所管理的内存块或对象时，就要使用句柄。"
   ]
  },
  {
   "cell_type": "markdown",
   "id": "96ac92b0",
   "metadata": {},
   "source": [
    "**Windows内存管理器管理的其实都是句柄**，通过句柄来管理指针，Windows的系统整理内存时检测内存属性段，如果是可以移动的就能够移动逻辑地址，移动完后将新的地址更新到对应句柄的指针段中，当要使用MOVABLE地址时的时候必须Lock住，这时候计数加1，内存管理器检测到计数>0便不会移动逻辑地址，这时候才能获得固定的逻辑地址来操作物理内存，使用完后Unlock内存管理器又可以移动逻辑地址了，到此MOVABLE的内存访问为什么不会乱这个问题就解决了。"
   ]
  },
  {
   "cell_type": "markdown",
   "id": "ef5f671a",
   "metadata": {},
   "source": [
    "![工作图](handle.png)"
   ]
  },
  {
   "cell_type": "markdown",
   "id": "bda917e4",
   "metadata": {},
   "source": [
    "作用：1、句柄有管理内存地址变动之用，但是并不只是这个作用，内核对象访问级别、文件是否打开都是和他相关的；2、句柄是指向指针的指针。"
   ]
  },
  {
   "cell_type": "markdown",
   "id": "f71f18ce",
   "metadata": {},
   "source": [
    "# 进程与线程"
   ]
  },
  {
   "cell_type": "markdown",
   "id": "3cd0b415",
   "metadata": {},
   "source": [
    "**进程**：简单来说运行一个程序就会产生一个进程，进程是操作系统用来分配资源的单位，其中至少包含了一个虚拟的地址空间、地址空间中有加载的exe，同时还有程序运行所有需加载的dll。  \n",
    "应用程序包含一个或多个进程。进程具有虚拟地址空间、可执行代码、系统对象的打开句柄、安全上下文、唯一进程标识符、环境变量、优先级类、最小和最大工作集大小，以及至少一个执行线程。"
   ]
  },
  {
   "cell_type": "markdown",
   "id": "9b67a8b3",
   "metadata": {},
   "source": [
    "**线程**：是操作系统向其分配处理器时间的基本单元。线程是进程中可计划执行的实体。 进程的所有线程共享其虚拟地址空间和系统资源。 此外，每个线程都维护异常处理程序、计划优先级、线程本地存储、唯一线程标识符以及系统用于保存线程上下文的一组结构，直到计划线程上下文。"
   ]
  },
  {
   "cell_type": "markdown",
   "id": "303d681b",
   "metadata": {},
   "source": [
    "1、进程是系统分配资源的最小单位。\n",
    "\n",
    "2、线程是处理器调度的最小单位。\n",
    "\n",
    "3、一个进程可以包含很多线程，且这些线程共享进程内的所有资源。"
   ]
  },
  {
   "cell_type": "markdown",
   "id": "fcf0e00d",
   "metadata": {},
   "source": [
    "## 进程"
   ]
  },
  {
   "cell_type": "markdown",
   "id": "09e2ee71",
   "metadata": {},
   "source": [
    "创建进程：CreateProcess"
   ]
  },
  {
   "cell_type": "raw",
   "id": "51846a9e",
   "metadata": {},
   "source": [
    "BOOL CreateProcess(\n",
    "  [in, optional]      LPCSTR                lpApplicationName,\n",
    "  [in, out, optional] LPSTR                 lpCommandLine,\n",
    "  [in, optional]      LPSECURITY_ATTRIBUTES lpProcessAttributes,\n",
    "  [in, optional]      LPSECURITY_ATTRIBUTES lpThreadAttributes,\n",
    "  [in]                BOOL                  bInheritHandles,\n",
    "  [in]                DWORD                 dwCreationFlags,\n",
    "  [in, optional]      LPVOID                lpEnvironment,\n",
    "  [in, optional]      LPCSTR                lpCurrentDirectory,\n",
    "  [in]                LPSTARTUPINFOA        lpStartupInfo,\n",
    "  [out]               LPPROCESS_INFORMATION lpProcessInformation\n",
    ");\n"
   ]
  },
  {
   "cell_type": "markdown",
   "id": "813dd9b0",
   "metadata": {},
   "source": [
    "参数\n",
    "\n",
    "[in, optional] lpApplicationName\n",
    "要执行的模块的名称。该模块可以是基于 Windows 的应用程序。如果适当的子系统在本地计算机上可用，它可以是某种其他类型的模块（例如，MS-DOS 或 OS/2）。\n",
    "\n",
    "[in, out, optional] lpCommandLine\n",
    "要执行的命令行。\n",
    "此字符串的最大长度为 32,767 个字符，包括 Unicode 终止空字符。如果lpApplicationName为NULL ，则lpCommandLine的模块名称部分仅限于MAX_PATH字符。\n",
    "lpCommandLine参数可以为 NULL 。在这种情况下，函数使用lpApplicationName指向的字符串作为命令行。\n",
    "\n",
    "[in, optional] lpProcessAttributes\n",
    "指向 SECURITY_ATTRIBUTES结构的指针，该结构确定返回的新进程对象的句柄是否可以被子进程继承。如果lpProcessAttributes为NULL，则不能继承句柄。\n",
    "\n",
    "[in, optional] lpThreadAttributes\n",
    "指向 SECURITY_ATTRIBUTES结构的指针，该结构确定返回的新线程对象的句柄是否可以被子进程继承。如果lpThreadAttributes为 NULL，则不能继承句柄。\n",
    "\n",
    "[in] bInheritHandles\n",
    "如果此参数为 TRUE，则调用进程中的每个可继承句柄都由新进程继承。如果参数为 FALSE，则不继承句柄。请注意，继承的句柄与原始句柄具有相同的值和访问权限。\n",
    "\n",
    "[in] dwCreationFlags\n",
    "控制优先级和进程创建的标志。\n",
    "如果 dwCreationFlags 参数的值为 0：\n",
    "该进程继承了调用者的错误模式和父控制台的错误模式。\n",
    "假定新进程的环境块包含 ANSI 字符（有关其他信息，请参阅lpEnvironment参数）。\n",
    "基于 Windows 的 16 位应用程序在共享的虚拟 DOS 机器 (VDM) 中运行。\n",
    "\n",
    "[in, optional] lpEnvironment\n",
    "指向新进程的环境块的指针。如果此参数为NULL，则新进程使用调用进程的环境。\n",
    "\n",
    "[in, optional] lpCurrentDirectory\n",
    "进程当前目录的完整路径。该字符串还可以指定 UNC 路径。\n",
    "如果此参数为NULL，则新进程将具有与调用进程相同的当前驱动器和目录。（此功能主要是为需要启动应用程序并指定其初始驱动器和工作目录的 shell 提供的。）\n",
    "\n",
    "[in] lpStartupInfo\n",
    "指向 STARTUPINFO或STARTUPINFOEX结构的指针。\n",
    "要设置扩展属性，请使用STARTUPINFOEX结构并在dwCreationFlags参数中指定 EXTENDED_STARTUPINFO_PRESENT。\n",
    "STARTUPINFO或STARTUPINFOEX中的句柄 在不再需要时必须使用 CloseHandle关闭。\n",
    "\n",
    "[out] lpProcessInformation\n",
    "指向 PROCESS_INFORMATION结构的指针，该结构接收有关新进程的标识信息。\n",
    "PROCESS_INFORMATION中的句柄 在不再需要时必须使用 CloseHandle关闭。"
   ]
  },
  {
   "cell_type": "markdown",
   "id": "47ba0a76",
   "metadata": {},
   "source": [
    "当 CreateProcess 函数创建新进程时，将返回新进程的句柄及其主线程。 这些句柄是使用完全访问权限创建的。"
   ]
  },
  {
   "cell_type": "markdown",
   "id": "d4df9df6",
   "metadata": {},
   "source": [
    "当进程终止时，内核对象的打开句柄会自动关闭，但对象本身存在，直到关闭这些对象的所有打开句柄。 因此，如果另一个进程具有打开的句柄，则对象在使用它的进程终止后将保持有效。\n",
    "\n",
    "GetExitCodeProcess函数返回进程的终止状态。 进程正在执行时，其终止状态仍为 活动。 当进程终止时，其终止状态从\"仍处于活动状态更改到进程的退出代码。\n",
    "\n",
    "进程将一直执行，直到发生下列事件之一：\n",
    "\n",
    "- 进程的任何线程都调用 ExitProcess 函数。 请注意，C 运行时库的一些实现 (CRT) 进程的主线程返回时调用 ExitProcess。\n",
    "- 进程的最后一个线程终止。\n",
    "- 任何线程都使用进程的句柄调用 TerminateProcess 函数。\n",
    "- 对于控制台进程，默认 控制台控件处理程序在控制台收到 CTRL+C 或 CTRL+BREAK 信号时调用 ExitProcess。\n",
    "- 用户关闭系统或注销"
   ]
  },
  {
   "cell_type": "markdown",
   "id": "7264ae1f",
   "metadata": {},
   "source": [
    "## 线程"
   ]
  },
  {
   "cell_type": "markdown",
   "id": "1bb78438",
   "metadata": {},
   "source": [
    "创建线程"
   ]
  },
  {
   "cell_type": "raw",
   "id": "daf1d521",
   "metadata": {},
   "source": [
    "CreateThread()；\n",
    "HANDLE CreateThread(\n",
    "  [in, optional] LPSECURITY_ATTRIBUTES lpThreadAttributes,\n",
    "  [in] SIZE_T dwStackSize,\n",
    "  [in] LPTHREAD_START_ROUTINE lpStartAddress,\n",
    "  [in, optional] __drv_aliasesMem LPVOID lpParameter,\n",
    "  [in] DWORD dwCreationFlags,\n",
    "  [out, optional] LPDWORD lpThreadId\n",
    ");"
   ]
  },
  {
   "cell_type": "markdown",
   "id": "7608fd4e",
   "metadata": {},
   "source": [
    "[in, optional] lpThreadAttributes\n",
    "指向SECURITY_ATTRIBUTES 结构的指针，该结构确定返回的句柄是否可以被子进程继承。如果 lpThreadAttributes为 NULL，则不能继承句柄。\n",
    "该结构的lpSecurityDescriptor成员指定新线程的安全描述符。如果lpThreadAttributes为 NULL，则线程获取默认安全描述符。线程的默认安全描述符中的 ACL 来自创建者的主令牌。\n",
    "\n",
    "[in] dwStackSize\n",
    "堆栈的初始大小，以字节为单位。系统将此值四舍五入到最近的页面。如果此参数为零，则新线程使用可执行文件的默认大小。有关详细信息，请参阅 线程堆栈大小。\n",
    "\n",
    "[in] lpStartAddress\n",
    "指向要由线程执行的应用程序定义函数的指针。该指针表示线程的起始地址。有关线程函数的更多信息，请参阅 ThreadProc。\n",
    "\n",
    "[in, optional] lpParameter\n",
    "指向要传递给线程的变量的指针。\n",
    "\n",
    "[in] dwCreationFlags\n",
    "控制线程创建的标志。"
   ]
  },
  {
   "cell_type": "markdown",
   "id": "60aeca1c",
   "metadata": {},
   "source": [
    "当 CreateThread 或 CreateRemoteThread 函数创建新线程时，将返回线程的句柄。 默认情况下，此句柄具有完全访问权限，并且（受安全访问检查限制）可用于接受线程句柄的任何函数。"
   ]
  },
  {
   "cell_type": "markdown",
   "id": "64ee7348",
   "metadata": {},
   "source": [
    "线程将一直执行，直到发生下列事件之一：\n",
    "\n",
    "线程调用 ExitThread 函数。\n",
    "- 进程的任何线程都调用 ExitProcess 函数。\n",
    "- 线程函数返回 。\n",
    "- 任何线程都调用具有线程句柄的 TerminateThread 函数。\n",
    "- 任何线程都使用进程的句柄调用 TerminateProcess 函数。"
   ]
  },
  {
   "cell_type": "markdown",
   "id": "a1995604",
   "metadata": {},
   "source": [
    "# 问题总结"
   ]
  },
  {
   "cell_type": "markdown",
   "id": "093aa53c",
   "metadata": {},
   "source": [
    "windows使用小技巧\n",
    "\n",
    "创建符号链接  \n",
    "mklink /D \"路径A\" \"路径B\" 将A迁移到B  \n",
    "\n",
    "windows定位到目录下：cd /d D:\\\n",
    "\n",
    "管理员cmd下 powercfg -h off 关闭休眠文件\n",
    "\n",
    "\n",
    "如何在网页上下载PDF文件、或者视频  \n",
    "1、网页上打开要下载的文件  \n",
    "2、按F12  \n",
    "3、选中Network  \n",
    "4、鼠标右键刷新网页  \n",
    "5、左边Filter里面填pdf，视频不需要这一项  \n",
    "6、找到其中任意一个进行下载（视频需要找到对应mp3等格式的链接）  \n",
    "\n",
    "\n",
    "csv文件乱码：用记事本打开，另存为，编码选择ANSI，保存，用excel打开。\n",
    "\n",
    "excel最大行列数(1048576,16384)"
   ]
  },
  {
   "cell_type": "code",
   "execution_count": null,
   "id": "33b36069",
   "metadata": {},
   "outputs": [],
   "source": []
  }
 ],
 "metadata": {
  "kernelspec": {
   "display_name": "Python 3 (ipykernel)",
   "language": "python",
   "name": "python3"
  },
  "language_info": {
   "codemirror_mode": {
    "name": "ipython",
    "version": 3
   },
   "file_extension": ".py",
   "mimetype": "text/x-python",
   "name": "python",
   "nbconvert_exporter": "python",
   "pygments_lexer": "ipython3",
   "version": "3.9.18"
  },
  "nbTranslate": {
   "displayLangs": [
    "*"
   ],
   "hotkey": "alt-t",
   "langInMainMenu": true,
   "sourceLang": "en",
   "targetLang": "fr",
   "useGoogleTranslate": true
  },
  "toc": {
   "base_numbering": 1,
   "nav_menu": {},
   "number_sections": true,
   "sideBar": true,
   "skip_h1_title": false,
   "title_cell": "Table of Contents",
   "title_sidebar": "Contents",
   "toc_cell": false,
   "toc_position": {
    "height": "calc(100% - 180px)",
    "left": "10px",
    "top": "150px",
    "width": "247.08px"
   },
   "toc_section_display": true,
   "toc_window_display": true
  }
 },
 "nbformat": 4,
 "nbformat_minor": 5
}
