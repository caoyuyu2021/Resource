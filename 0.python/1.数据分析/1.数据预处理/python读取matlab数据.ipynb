{
 "cells": [
  {
   "cell_type": "code",
   "execution_count": 1,
   "id": "7960d2fa",
   "metadata": {
    "ExecuteTime": {
     "end_time": "2023-10-16T06:19:25.722948Z",
     "start_time": "2023-10-16T06:19:25.716749Z"
    }
   },
   "outputs": [],
   "source": [
    "import scipy.io as scio \n",
    "path = \"./data2.mat\"\n",
    "data = scio.loadmat(path)"
   ]
  },
  {
   "cell_type": "code",
   "execution_count": 4,
   "id": "682f70e6",
   "metadata": {
    "ExecuteTime": {
     "end_time": "2023-10-16T06:22:03.056595Z",
     "start_time": "2023-10-16T06:22:03.051341Z"
    }
   },
   "outputs": [
    {
     "data": {
      "text/plain": [
       "dict_keys(['__header__', '__version__', '__globals__', 'data'])"
      ]
     },
     "execution_count": 4,
     "metadata": {},
     "output_type": "execute_result"
    }
   ],
   "source": [
    "data.keys()"
   ]
  },
  {
   "cell_type": "code",
   "execution_count": 6,
   "id": "7055630a",
   "metadata": {
    "ExecuteTime": {
     "end_time": "2023-10-16T06:22:20.947925Z",
     "start_time": "2023-10-16T06:22:20.943049Z"
    }
   },
   "outputs": [
    {
     "data": {
      "text/plain": [
       "array([[0.1291, 0.4842, 0.7976],\n",
       "       [0.1084, 0.4579, 0.8187],\n",
       "       [0.1828, 0.7977, 0.743 ],\n",
       "       [0.122 , 0.5468, 0.8048],\n",
       "       [0.113 , 0.3636, 0.814 ],\n",
       "       [0.1719, 0.6011, 0.754 ],\n",
       "       [0.1237, 0.4425, 0.8031],\n",
       "       [0.1721, 0.6152, 0.7626],\n",
       "       [0.1432, 0.5845, 0.7942]])"
      ]
     },
     "execution_count": 6,
     "metadata": {},
     "output_type": "execute_result"
    }
   ],
   "source": [
    "data['data']"
   ]
  },
  {
   "cell_type": "code",
   "execution_count": null,
   "id": "ef272579",
   "metadata": {},
   "outputs": [],
   "source": []
  }
 ],
 "metadata": {
  "kernelspec": {
   "display_name": "Python 3 (ipykernel)",
   "language": "python",
   "name": "python3"
  },
  "language_info": {
   "codemirror_mode": {
    "name": "ipython",
    "version": 3
   },
   "file_extension": ".py",
   "mimetype": "text/x-python",
   "name": "python",
   "nbconvert_exporter": "python",
   "pygments_lexer": "ipython3",
   "version": "3.11.4"
  },
  "toc": {
   "base_numbering": 1,
   "nav_menu": {},
   "number_sections": true,
   "sideBar": true,
   "skip_h1_title": false,
   "title_cell": "Table of Contents",
   "title_sidebar": "Contents",
   "toc_cell": false,
   "toc_position": {},
   "toc_section_display": true,
   "toc_window_display": false
  }
 },
 "nbformat": 4,
 "nbformat_minor": 5
}
