{
 "cells": [
  {
   "cell_type": "markdown",
   "id": "2935a67c",
   "metadata": {},
   "source": [
    "# 滑动窗口"
   ]
  },
  {
   "cell_type": "markdown",
   "id": "93eec7ab",
   "metadata": {},
   "source": [
    "滑动窗口，为了提升数据的准确性，将某个点的取值扩大到包含这个点的一段区间，用区间来进行判断，这个区间就是窗口。滑动窗口就是能够根据指定的单位长度来框住时间序列，从而计算框内的统计指标。相当于一个长度指定的滑块在刻度尺上面滑动，每滑动一个单位即可反馈滑块内的数据。"
   ]
  },
  {
   "cell_type": "markdown",
   "id": "f1733730",
   "metadata": {},
   "source": [
    "## rolling"
   ]
  },
  {
   "cell_type": "markdown",
   "id": "f42e7ea7",
   "metadata": {},
   "source": [
    "![hellworld](../data/rolling.png)"
   ]
  },
  {
   "cell_type": "code",
   "execution_count": 1,
   "id": "5dd079a5",
   "metadata": {
    "ExecuteTime": {
     "end_time": "2023-11-23T12:15:18.179294Z",
     "start_time": "2023-11-23T12:15:15.660471Z"
    }
   },
   "outputs": [],
   "source": [
    "import numpy as np\n",
    "import pandas as pd\n",
    "import matplotlib.pyplot as plt\n",
    "\n",
    "#数据准备\n",
    "v = np.random.randn(200)\n",
    "tx = pd.Series(v)\n",
    "tx.index = pd.date_range('2018-1-01', periods = 200, freq = \"d\")\n",
    "#print(\"tx\", \"-\" * 20, \"\\n\", tx)\n",
    "\n",
    "w = np.random.randn(200)\n",
    "ty = pd.Series(w)\n",
    "ty.index = pd.date_range('2019-1-01', periods = 200, freq = \"d\")\n",
    "#print(\"ty\", \"-\" * 20, \"\\n\", ty)"
   ]
  },
  {
   "cell_type": "code",
   "execution_count": 2,
   "id": "64322a92",
   "metadata": {
    "ExecuteTime": {
     "end_time": "2023-11-23T12:15:19.253513Z",
     "start_time": "2023-11-23T12:15:19.240764Z"
    }
   },
   "outputs": [],
   "source": [
    "rm = tx.rolling(window = 5, center = False).mean()\n",
    "rn = tx.rolling(window = 5, center = False).median()\n",
    "# rm.plot()\n",
    "# rn.plot()\n",
    "# tx.plot()\n",
    "# plt.show()"
   ]
  },
  {
   "cell_type": "markdown",
   "id": "83c476ec",
   "metadata": {},
   "source": [
    "## expanding"
   ]
  },
  {
   "cell_type": "markdown",
   "id": "b4ec64bc",
   "metadata": {},
   "source": [
    "该算子可以看做一个扩展的窗口，最开始窗口为1，聚合一次之后，窗口位置不变，但是大小增加1，直到窗口的覆盖整个序列"
   ]
  },
  {
   "cell_type": "code",
   "execution_count": null,
   "id": "3639dae6",
   "metadata": {},
   "outputs": [],
   "source": []
  }
 ],
 "metadata": {
  "kernelspec": {
   "display_name": "Python 3 (ipykernel)",
   "language": "python",
   "name": "python3"
  },
  "language_info": {
   "codemirror_mode": {
    "name": "ipython",
    "version": 3
   },
   "file_extension": ".py",
   "mimetype": "text/x-python",
   "name": "python",
   "nbconvert_exporter": "python",
   "pygments_lexer": "ipython3",
   "version": "3.9.13"
  },
  "toc": {
   "base_numbering": 1,
   "nav_menu": {},
   "number_sections": true,
   "sideBar": true,
   "skip_h1_title": false,
   "title_cell": "Table of Contents",
   "title_sidebar": "Contents",
   "toc_cell": false,
   "toc_position": {
    "height": "calc(100% - 180px)",
    "left": "10px",
    "top": "150px",
    "width": "215.929px"
   },
   "toc_section_display": true,
   "toc_window_display": true
  }
 },
 "nbformat": 4,
 "nbformat_minor": 5
}
