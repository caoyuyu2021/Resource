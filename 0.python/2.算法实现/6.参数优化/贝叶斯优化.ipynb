{
 "cells": [
  {
   "cell_type": "markdown",
   "id": "105f149f",
   "metadata": {},
   "source": [
    "# HPO介绍"
   ]
  },
  {
   "cell_type": "markdown",
   "id": "30a4f45d",
   "metadata": {
    "ExecuteTime": {
     "end_time": "2023-10-17T09:28:04.149108Z",
     "start_time": "2023-10-17T09:28:03.927154Z"
    }
   },
   "source": [
    "![hello](./HPO.png)"
   ]
  },
  {
   "cell_type": "markdown",
   "id": "af38eb8a",
   "metadata": {},
   "source": [
    "# 贝叶斯优化"
   ]
  },
  {
   "cell_type": "markdown",
   "id": "1d37ccb5",
   "metadata": {},
   "source": [
    "在贝叶斯优化的数学过程当中，我们主要执行以下几个步骤：\n",
    "\n",
    "1 定义需要估计的f(x)以及x的定义域\n",
    "\n",
    "2 取出有限的n个x上的值，求解出这些x对应的f(x)（求解观测值）\n",
    "\n",
    "3 根据有限的观测值，对函数进行估计（该假设被称为贝叶斯优化中的先验知识），得出该估计$f^∗$上的目标值（最大值或最小值）\n",
    "\n",
    "4 定义某种规则，以确定下一个需要计算的观测点\n",
    "\n",
    "并持续在2-4步骤中进行循环，直到假设分布上的目标值达到我们的标准，或者所有计算资源被用完为止（例如，最多观测m次，或最多允许运行t分钟）。"
   ]
  },
  {
   "cell_type": "markdown",
   "id": "62b5e09b",
   "metadata": {},
   "source": [
    "以上流程又被称为序贯模型优化（SMBO），是最为经典的贝叶斯优化方法。在实际的运算过程当中，尤其是超参数优化的过程当中，有以下具体细节需要注意：\n",
    "\n",
    "当贝叶斯优化不被用于HPO时，一般f(x)可以是完全的黑盒函数（black box function，也译作黑箱函数，即只知道x与f(x)的对应关系，却丝毫不知道函数内部规律、同时也不能写出具体表达式的一类函数），因此贝叶斯优化也被认为是可以作用于黑盒函数估计的一类经典方法。但在HPO过程当中，需要定义的f(x)一般是交叉验证的结果/损失函数的结果，而我们往往非常清楚损失函数的表达式，只是我们不了解损失函数内部的具体规律，因此HPO中的f(x)不能算是严格意义上的黑盒函数。\n",
    "\n",
    "在HPO中，自变量x就是超参数空间。在上述二维图像表示中，x为一维的，但在实际进行优化时，超参数空间往往是高维且极度复杂的空间。\n",
    "\n",
    "最初的观测值数量n、以及最终可以取到的最大观测数量m都是贝叶斯优化的超参数，最大观测数量m也决定了整个贝叶斯优化的迭代次数。\n",
    "\n",
    "在第3步中，根据有限的观测值、对函数分布进行估计的工具被称为概率代理模型（Probability Surrogate model），毕竟在数学计算中我们并不能真的邀请数万人对我们的观测点进行连线。这些概率代理模型自带某些假设，他们可以根据廖廖数个观测点估计出目标函数的分布$f^∗$（包括$f^∗$上每个点的取值以及该点对应的置信度）。在实际使用时，概率代理模型往往是一些强大的算法，最常见的比如高斯过程、高斯混合模型等等。传统数学推导中往往使用高斯过程，但现在最普及的优化库中基本都默认使用基于高斯混合模型的TPE过程。\n",
    "\n",
    "在第4步中用来确定下一个观测点的规则被称为采集函数（Aquisition Function），采集函数衡量观测点对拟合$f^∗$所产生的影响，并选取影响最大的点执行下一步观测，因此我们往往关注采集函数值最大的点。最常见的采集函数主要是概率增量PI（Probability of improvement，比如我们计算的频数）、期望增量（Expectation Improvement）、置信度上界（Upper Confidence Bound）、信息熵（Entropy）等等。上方gif图像当中展示了PI、UCB以及EI。其中大部分优化库中默认使用期望增量。"
   ]
  },
  {
   "cell_type": "markdown",
   "id": "4016ad42",
   "metadata": {},
   "source": [
    "在HPO中使用贝叶斯优化时，我们常常会看见下面的图像，这张图像表现了贝叶斯优化的全部基本元素，我们的目标就是在采集函数指导下，让$f^∗$尽量接近f(x)。"
   ]
  },
  {
   "cell_type": "markdown",
   "id": "b9ae8060",
   "metadata": {},
   "source": [
    "![hello](./贝叶斯优化.png)"
   ]
  },
  {
   "cell_type": "markdown",
   "id": "133ca183",
   "metadata": {},
   "source": [
    "# bayes_opt"
   ]
  },
  {
   "cell_type": "code",
   "execution_count": 2,
   "id": "25bdbdaa",
   "metadata": {
    "ExecuteTime": {
     "end_time": "2023-10-17T09:29:11.303699Z",
     "start_time": "2023-10-17T09:29:09.959858Z"
    }
   },
   "outputs": [],
   "source": [
    "from sklearn.datasets import make_classification\n",
    "from sklearn.ensemble import RandomForestClassifier\n",
    "from sklearn.model_selection import cross_val_score\n",
    "from bayes_opt import BayesianOptimization\n",
    "import numpy as np\n",
    "\n",
    "# 产生随机分类数据集，10个特征， 2个类别\n",
    "x, y = make_classification(n_samples=1000,n_features=10,n_classes=2)"
   ]
  },
  {
   "cell_type": "code",
   "execution_count": 3,
   "id": "34c67338",
   "metadata": {
    "ExecuteTime": {
     "end_time": "2023-10-17T09:29:20.481532Z",
     "start_time": "2023-10-17T09:29:13.163194Z"
    }
   },
   "outputs": [
    {
     "name": "stdout",
     "output_type": "stream",
     "text": [
      "0.9835200000000001\n"
     ]
    }
   ],
   "source": [
    "rf = RandomForestClassifier()\n",
    "print(np.mean(cross_val_score(rf, x, y, cv=20, scoring='roc_auc')))"
   ]
  },
  {
   "cell_type": "code",
   "execution_count": 4,
   "id": "c4ec389f",
   "metadata": {
    "ExecuteTime": {
     "end_time": "2023-10-17T09:29:20.489531Z",
     "start_time": "2023-10-17T09:29:20.483528Z"
    }
   },
   "outputs": [],
   "source": [
    "def rf_cv(n_estimators, min_samples_split, max_features, max_depth):\n",
    "    val = cross_val_score(\n",
    "        RandomForestClassifier(n_estimators=int(n_estimators),\n",
    "            min_samples_split=int(min_samples_split),\n",
    "            max_features=min(max_features, 0.999), # float\n",
    "            max_depth=int(max_depth),\n",
    "            random_state=2\n",
    "        ),\n",
    "        x, y, scoring='roc_auc', cv=5\n",
    "    ).mean()\n",
    "    return val"
   ]
  },
  {
   "cell_type": "code",
   "execution_count": 5,
   "id": "eed5cd5d",
   "metadata": {
    "ExecuteTime": {
     "end_time": "2023-10-17T09:29:23.580088Z",
     "start_time": "2023-10-17T09:29:23.574965Z"
    }
   },
   "outputs": [],
   "source": [
    "rf_bo = BayesianOptimization(\n",
    "    rf_cv, {\n",
    "        'n_estimators': (10, 250),\n",
    "        'min_samples_split': (2, 25),\n",
    "        'max_features': (0.1, 0.999),\n",
    "        'max_depth': (5, 15)\n",
    "    })"
   ]
  },
  {
   "cell_type": "code",
   "execution_count": 6,
   "id": "682a5e3a",
   "metadata": {
    "ExecuteTime": {
     "end_time": "2023-10-17T09:31:12.949239Z",
     "start_time": "2023-10-17T09:29:24.806321Z"
    }
   },
   "outputs": [
    {
     "name": "stdout",
     "output_type": "stream",
     "text": [
      "|   iter    |  target   | max_depth | max_fe... | min_sa... | n_esti... |\n",
      "-------------------------------------------------------------------------\n",
      "| \u001b[0m1        \u001b[0m | \u001b[0m0.9834   \u001b[0m | \u001b[0m13.36    \u001b[0m | \u001b[0m0.3301   \u001b[0m | \u001b[0m23.91    \u001b[0m | \u001b[0m105.0    \u001b[0m |\n",
      "| \u001b[0m2        \u001b[0m | \u001b[0m0.9808   \u001b[0m | \u001b[0m7.901    \u001b[0m | \u001b[0m0.8909   \u001b[0m | \u001b[0m22.53    \u001b[0m | \u001b[0m245.8    \u001b[0m |\n",
      "| \u001b[0m3        \u001b[0m | \u001b[0m0.9808   \u001b[0m | \u001b[0m13.3     \u001b[0m | \u001b[0m0.1175   \u001b[0m | \u001b[0m13.65    \u001b[0m | \u001b[0m183.9    \u001b[0m |\n",
      "| \u001b[0m4        \u001b[0m | \u001b[0m0.9822   \u001b[0m | \u001b[0m11.84    \u001b[0m | \u001b[0m0.7042   \u001b[0m | \u001b[0m24.64    \u001b[0m | \u001b[0m156.0    \u001b[0m |\n",
      "| \u001b[0m5        \u001b[0m | \u001b[0m0.9831   \u001b[0m | \u001b[0m9.784    \u001b[0m | \u001b[0m0.5724   \u001b[0m | \u001b[0m9.969    \u001b[0m | \u001b[0m218.7    \u001b[0m |\n",
      "| \u001b[0m6        \u001b[0m | \u001b[0m0.9816   \u001b[0m | \u001b[0m14.07    \u001b[0m | \u001b[0m0.7382   \u001b[0m | \u001b[0m24.9     \u001b[0m | \u001b[0m104.3    \u001b[0m |\n",
      "| \u001b[0m7        \u001b[0m | \u001b[0m0.9814   \u001b[0m | \u001b[0m5.214    \u001b[0m | \u001b[0m0.2656   \u001b[0m | \u001b[0m21.84    \u001b[0m | \u001b[0m230.2    \u001b[0m |\n",
      "| \u001b[95m8        \u001b[0m | \u001b[95m0.9835   \u001b[0m | \u001b[95m5.048    \u001b[0m | \u001b[95m0.3346   \u001b[0m | \u001b[95m3.791    \u001b[0m | \u001b[95m225.8    \u001b[0m |\n",
      "| \u001b[0m9        \u001b[0m | \u001b[0m0.9827   \u001b[0m | \u001b[0m13.99    \u001b[0m | \u001b[0m0.4269   \u001b[0m | \u001b[0m20.41    \u001b[0m | \u001b[0m220.7    \u001b[0m |\n",
      "| \u001b[0m10       \u001b[0m | \u001b[0m0.9829   \u001b[0m | \u001b[0m9.444    \u001b[0m | \u001b[0m0.5339   \u001b[0m | \u001b[0m21.15    \u001b[0m | \u001b[0m188.3    \u001b[0m |\n",
      "| \u001b[0m11       \u001b[0m | \u001b[0m0.9828   \u001b[0m | \u001b[0m14.77    \u001b[0m | \u001b[0m0.4967   \u001b[0m | \u001b[0m11.82    \u001b[0m | \u001b[0m209.6    \u001b[0m |\n",
      "| \u001b[0m12       \u001b[0m | \u001b[0m0.9806   \u001b[0m | \u001b[0m8.171    \u001b[0m | \u001b[0m0.8597   \u001b[0m | \u001b[0m22.94    \u001b[0m | \u001b[0m233.0    \u001b[0m |\n",
      "| \u001b[0m13       \u001b[0m | \u001b[0m0.9829   \u001b[0m | \u001b[0m8.984    \u001b[0m | \u001b[0m0.4728   \u001b[0m | \u001b[0m14.12    \u001b[0m | \u001b[0m144.4    \u001b[0m |\n",
      "| \u001b[0m14       \u001b[0m | \u001b[0m0.9813   \u001b[0m | \u001b[0m6.929    \u001b[0m | \u001b[0m0.1772   \u001b[0m | \u001b[0m20.05    \u001b[0m | \u001b[0m186.0    \u001b[0m |\n",
      "| \u001b[0m15       \u001b[0m | \u001b[0m0.9833   \u001b[0m | \u001b[0m14.5     \u001b[0m | \u001b[0m0.4941   \u001b[0m | \u001b[0m15.34    \u001b[0m | \u001b[0m59.18    \u001b[0m |\n",
      "| \u001b[0m16       \u001b[0m | \u001b[0m0.9825   \u001b[0m | \u001b[0m9.518    \u001b[0m | \u001b[0m0.621    \u001b[0m | \u001b[0m20.6     \u001b[0m | \u001b[0m158.5    \u001b[0m |\n",
      "| \u001b[0m17       \u001b[0m | \u001b[0m0.9815   \u001b[0m | \u001b[0m12.93    \u001b[0m | \u001b[0m0.1604   \u001b[0m | \u001b[0m11.12    \u001b[0m | \u001b[0m233.3    \u001b[0m |\n",
      "| \u001b[0m18       \u001b[0m | \u001b[0m0.9832   \u001b[0m | \u001b[0m9.926    \u001b[0m | \u001b[0m0.5804   \u001b[0m | \u001b[0m14.55    \u001b[0m | \u001b[0m155.4    \u001b[0m |\n",
      "| \u001b[0m19       \u001b[0m | \u001b[0m0.9819   \u001b[0m | \u001b[0m12.81    \u001b[0m | \u001b[0m0.7836   \u001b[0m | \u001b[0m16.1     \u001b[0m | \u001b[0m192.2    \u001b[0m |\n",
      "| \u001b[0m20       \u001b[0m | \u001b[0m0.9822   \u001b[0m | \u001b[0m9.91     \u001b[0m | \u001b[0m0.3615   \u001b[0m | \u001b[0m5.08     \u001b[0m | \u001b[0m129.5    \u001b[0m |\n",
      "| \u001b[0m21       \u001b[0m | \u001b[0m0.9819   \u001b[0m | \u001b[0m8.909    \u001b[0m | \u001b[0m0.7908   \u001b[0m | \u001b[0m7.079    \u001b[0m | \u001b[0m245.6    \u001b[0m |\n",
      "| \u001b[0m22       \u001b[0m | \u001b[0m0.9797   \u001b[0m | \u001b[0m13.36    \u001b[0m | \u001b[0m0.9851   \u001b[0m | \u001b[0m5.975    \u001b[0m | \u001b[0m207.8    \u001b[0m |\n",
      "| \u001b[0m23       \u001b[0m | \u001b[0m0.9795   \u001b[0m | \u001b[0m5.958    \u001b[0m | \u001b[0m0.3203   \u001b[0m | \u001b[0m23.42    \u001b[0m | \u001b[0m18.21    \u001b[0m |\n",
      "| \u001b[0m24       \u001b[0m | \u001b[0m0.9831   \u001b[0m | \u001b[0m7.474    \u001b[0m | \u001b[0m0.5458   \u001b[0m | \u001b[0m10.63    \u001b[0m | \u001b[0m119.5    \u001b[0m |\n",
      "| \u001b[0m25       \u001b[0m | \u001b[0m0.9803   \u001b[0m | \u001b[0m11.0     \u001b[0m | \u001b[0m0.934    \u001b[0m | \u001b[0m14.64    \u001b[0m | \u001b[0m236.2    \u001b[0m |\n",
      "| \u001b[0m26       \u001b[0m | \u001b[0m0.982    \u001b[0m | \u001b[0m5.629    \u001b[0m | \u001b[0m0.5124   \u001b[0m | \u001b[0m8.812    \u001b[0m | \u001b[0m65.49    \u001b[0m |\n",
      "| \u001b[0m27       \u001b[0m | \u001b[0m0.9825   \u001b[0m | \u001b[0m9.77     \u001b[0m | \u001b[0m0.5236   \u001b[0m | \u001b[0m16.73    \u001b[0m | \u001b[0m108.9    \u001b[0m |\n",
      "| \u001b[0m28       \u001b[0m | \u001b[0m0.9818   \u001b[0m | \u001b[0m14.36    \u001b[0m | \u001b[0m0.7846   \u001b[0m | \u001b[0m15.48    \u001b[0m | \u001b[0m59.19    \u001b[0m |\n",
      "| \u001b[0m29       \u001b[0m | \u001b[0m0.9807   \u001b[0m | \u001b[0m6.265    \u001b[0m | \u001b[0m0.8704   \u001b[0m | \u001b[0m14.82    \u001b[0m | \u001b[0m112.9    \u001b[0m |\n",
      "| \u001b[0m30       \u001b[0m | \u001b[0m0.9816   \u001b[0m | \u001b[0m5.727    \u001b[0m | \u001b[0m0.7558   \u001b[0m | \u001b[0m22.87    \u001b[0m | \u001b[0m176.0    \u001b[0m |\n",
      "=========================================================================\n"
     ]
    }
   ],
   "source": [
    "rf_bo.maximize()"
   ]
  },
  {
   "cell_type": "code",
   "execution_count": 7,
   "id": "73ff4134",
   "metadata": {
    "ExecuteTime": {
     "end_time": "2023-10-17T09:31:12.962486Z",
     "start_time": "2023-10-17T09:31:12.951228Z"
    }
   },
   "outputs": [
    {
     "data": {
      "text/plain": [
       "{'target': 0.983459809980998,\n",
       " 'params': {'max_depth': 5.048341014337014,\n",
       "  'max_features': 0.33457277561746435,\n",
       "  'min_samples_split': 3.7906637588173613,\n",
       "  'n_estimators': 225.80156694493454}}"
      ]
     },
     "execution_count": 7,
     "metadata": {},
     "output_type": "execute_result"
    }
   ],
   "source": [
    "rf_bo.max"
   ]
  },
  {
   "cell_type": "markdown",
   "id": "49e1b138",
   "metadata": {},
   "source": [
    "# hyperopt"
   ]
  },
  {
   "cell_type": "code",
   "execution_count": 15,
   "id": "9a8b5bb7",
   "metadata": {
    "ExecuteTime": {
     "end_time": "2023-10-17T10:23:26.940742Z",
     "start_time": "2023-10-17T10:23:22.150396Z"
    }
   },
   "outputs": [
    {
     "name": "stdout",
     "output_type": "stream",
     "text": [
      "100%|█████████████████████████████████████████████| 100/100 [00:04<00:00, 20.97trial/s, best loss: -0.9800000000000001]\n",
      "best: {'n_neighbors': 11}\n",
      "trials:\n",
      "{'state': 2, 'tid': 0, 'spec': None, 'result': {'loss': -0.9400000000000001, 'status': 'ok'}, 'misc': {'tid': 0, 'cmd': ('domain_attachment', 'FMinIter_Domain'), 'workdir': None, 'idxs': {'n_neighbors': [0]}, 'vals': {'n_neighbors': [38]}}, 'exp_key': None, 'owner': None, 'version': 0, 'book_time': datetime.datetime(2023, 10, 17, 10, 23, 22, 173000), 'refresh_time': datetime.datetime(2023, 10, 17, 10, 23, 22, 187000)}\n",
      "{'state': 2, 'tid': 1, 'spec': None, 'result': {'loss': -0.9400000000000001, 'status': 'ok'}, 'misc': {'tid': 1, 'cmd': ('domain_attachment', 'FMinIter_Domain'), 'workdir': None, 'idxs': {'n_neighbors': [1]}, 'vals': {'n_neighbors': [44]}}, 'exp_key': None, 'owner': None, 'version': 0, 'book_time': datetime.datetime(2023, 10, 17, 10, 23, 22, 191000), 'refresh_time': datetime.datetime(2023, 10, 17, 10, 23, 22, 203000)}\n"
     ]
    }
   ],
   "source": [
    "from hyperopt import fmin, tpe, hp, STATUS_OK, Trials\n",
    "import matplotlib.pyplot as plt\n",
    "import numpy as np, pandas as pd\n",
    "from math import *\n",
    "from sklearn import datasets\n",
    "from sklearn.neighbors import KNeighborsClassifier as kNN\n",
    "from sklearn.model_selection import cross_val_score\n",
    "\n",
    "# 数据集导入\n",
    "iris = datasets.load_iris()\n",
    "X = iris.data\n",
    "y = iris.target\n",
    "\n",
    "# 损失函数\n",
    "def hyperopt_train_test(params):\n",
    "    clf = kNN(**params)\n",
    "    return cross_val_score(clf, X, y).mean()\n",
    "\n",
    "# hp.choice(label, options) 其中options应是 python 列表或元组\n",
    "# space4nn就是需要输入到损失函数里面的参数\n",
    "space4knn = {\n",
    "    'n_neighbors': hp.choice('n_neighbors', range(1,100))\n",
    "}\n",
    "\n",
    "# 定义目标函数\n",
    "def f(params):\n",
    "    acc = hyperopt_train_test(params)\n",
    "    return {'loss': -acc, 'status': STATUS_OK}\n",
    "\n",
    "# Trials对象允许我们在每个时间步存储信息\n",
    "trials = Trials()\n",
    "\n",
    "# 函数fmin首先接受一个函数来最小化，algo参数指定搜索算法，最大评估次数max_evals\n",
    "best = fmin(f, space4knn, algo=tpe.suggest, max_evals=100, trials=trials)\n",
    "print('best:',best)\n",
    "print('trials:')\n",
    "for trial in trials.trials[:2]:\n",
    "    print(trial)"
   ]
  },
  {
   "cell_type": "markdown",
   "id": "ab003e60",
   "metadata": {},
   "source": [
    "# optuna"
   ]
  },
  {
   "cell_type": "code",
   "execution_count": 8,
   "id": "f6190ae2",
   "metadata": {
    "ExecuteTime": {
     "end_time": "2023-10-17T09:31:16.609513Z",
     "start_time": "2023-10-17T09:31:16.159879Z"
    }
   },
   "outputs": [],
   "source": [
    "import optuna\n",
    "import numpy as np\n",
    "from sklearn.ensemble import RandomForestRegressor as RFR\n",
    "from sklearn.model_selection import KFold\n",
    "from sklearn.model_selection import cross_validate"
   ]
  },
  {
   "cell_type": "code",
   "execution_count": 9,
   "id": "7454d472",
   "metadata": {
    "ExecuteTime": {
     "end_time": "2023-10-17T09:31:17.205061Z",
     "start_time": "2023-10-17T09:31:17.191885Z"
    }
   },
   "outputs": [],
   "source": [
    "# 糖尿病数据集\n",
    "from sklearn.datasets import load_diabetes\n",
    "\n",
    "diabetes = load_diabetes()\n",
    "\n",
    "X = diabetes.data  # data\n",
    "y = diabetes.target  # label"
   ]
  },
  {
   "cell_type": "code",
   "execution_count": 10,
   "id": "a0f5c3ae",
   "metadata": {
    "ExecuteTime": {
     "end_time": "2023-10-17T09:31:18.070358Z",
     "start_time": "2023-10-17T09:31:18.062872Z"
    }
   },
   "outputs": [],
   "source": [
    "def optuna_objective(trial):\n",
    "\n",
    "    #定义参数空间\n",
    "    n_estimators = trial.suggest_int(\"n_estimators\", 80, 100,\n",
    "                                     1)  #整数型，(参数名称，下界，上界，步长)\n",
    "    max_depth = trial.suggest_int(\"max_depth\", 10, 25, 1)\n",
    "    max_features = trial.suggest_int(\"max_features\", 10, 20, 1)\n",
    "    #max_features = trial.suggest_categorical(\"max_features\",[\"log2\",\"sqrt\",\"auto\"]) #字符型\n",
    "    min_impurity_decrease = trial.suggest_int(\"min_impurity_decrease\", 0, 5, 1)\n",
    "    #min_impurity_decrease = trial.suggest_float(\"min_impurity_decrease\",0,5,log=False) #浮点型\n",
    "\n",
    "    #定义评估器\n",
    "    #需要优化的参数由上述参数空间决定\n",
    "    #不需要优化的参数则直接填写具体值\n",
    "    reg = RFR(n_estimators=n_estimators,\n",
    "              max_depth=max_depth,\n",
    "              max_features=max_features,\n",
    "              min_impurity_decrease=min_impurity_decrease,\n",
    "              random_state=1412,\n",
    "              verbose=False,\n",
    "              n_jobs=-1)\n",
    "\n",
    "    #交叉验证过程，输出负均方根误差(-RMSE)\n",
    "    #optuna同时支持最大化和最小化，因此如果输出-RMSE，则选择最大化\n",
    "    #如果选择输出RMSE，则选择最小化\n",
    "    cv = KFold(n_splits=5, shuffle=True, random_state=1412)\n",
    "    validation_loss = cross_validate(\n",
    "        reg,\n",
    "        X,\n",
    "        y,\n",
    "        scoring=\"neg_root_mean_squared_error\",\n",
    "        cv=cv,  #交叉验证模式\n",
    "        verbose=False,  #是否打印进程\n",
    "        n_jobs=-1,  #线程数\n",
    "        error_score='raise')\n",
    "    #最终输出RMSE\n",
    "    return np.mean(abs(validation_loss[\"test_score\"]))"
   ]
  },
  {
   "cell_type": "code",
   "execution_count": 11,
   "id": "4dd828d0",
   "metadata": {
    "ExecuteTime": {
     "end_time": "2023-10-17T09:31:18.881350Z",
     "start_time": "2023-10-17T09:31:18.875873Z"
    }
   },
   "outputs": [],
   "source": [
    "def optimizer_optuna(n_trials):\n",
    "\n",
    "    algo = optuna.samplers.TPESampler(n_startup_trials=10, n_ei_candidates=24)\n",
    "\n",
    "    #实际优化过程，首先实例化优化器\n",
    "    study = optuna.create_study(\n",
    "        sampler=algo,  #要使用的具体算法\n",
    "        direction=\"minimize\"  #优化的方向，可以填写minimize或maximize\n",
    "    )\n",
    "    #开始优化，n_trials为允许的最大迭代次数\n",
    "    #由于参数空间已经在目标函数中定义好，因此不需要输入参数空间\n",
    "    study.optimize(\n",
    "        optuna_objective,  #目标函数\n",
    "        n_trials=n_trials,  #最大迭代次数（包括最初的观测值的）\n",
    "        show_progress_bar=True  #要不要展示进度条\n",
    "    )\n",
    "\n",
    "    #可直接从优化好的对象study中调用优化的结果\n",
    "    #打印最佳参数与最佳损失值\n",
    "    print(\"\\n\", \"\\n\", \"best params: \", study.best_trial.params, \"\\n\", \"\\n\",\n",
    "          \"best score: \", study.best_trial.values, \"\\n\")\n",
    "\n",
    "    return study.best_trial.params, study.best_trial.values"
   ]
  },
  {
   "cell_type": "code",
   "execution_count": 12,
   "id": "2a229649",
   "metadata": {
    "ExecuteTime": {
     "end_time": "2023-10-17T09:31:32.749922Z",
     "start_time": "2023-10-17T09:31:19.925308Z"
    }
   },
   "outputs": [
    {
     "name": "stderr",
     "output_type": "stream",
     "text": [
      "[I 2023-10-17 17:31:19,928] A new study created in memory with name: no-name-ed08082a-bfdf-425c-a8ef-9104d4e12212\n"
     ]
    },
    {
     "data": {
      "application/vnd.jupyter.widget-view+json": {
       "model_id": "2820966106d94d3bb041e144f1c1089d",
       "version_major": 2,
       "version_minor": 0
      },
      "text/plain": [
       "  0%|          | 0/10 [00:00<?, ?it/s]"
      ]
     },
     "metadata": {},
     "output_type": "display_data"
    },
    {
     "name": "stdout",
     "output_type": "stream",
     "text": [
      "[I 2023-10-17 17:31:25,306] Trial 0 finished with value: 57.67220867261342 and parameters: {'n_estimators': 100, 'max_depth': 19, 'max_features': 10, 'min_impurity_decrease': 1}. Best is trial 0 with value: 57.67220867261342.\n",
      "[I 2023-10-17 17:31:27,176] Trial 1 finished with value: 57.509325481560055 and parameters: {'n_estimators': 89, 'max_depth': 17, 'max_features': 12, 'min_impurity_decrease': 5}. Best is trial 1 with value: 57.509325481560055.\n",
      "[I 2023-10-17 17:31:29,077] Trial 2 finished with value: 57.60779671740814 and parameters: {'n_estimators': 90, 'max_depth': 21, 'max_features': 18, 'min_impurity_decrease': 0}. Best is trial 1 with value: 57.509325481560055.\n",
      "[I 2023-10-17 17:31:30,374] Trial 3 finished with value: 57.66094761630933 and parameters: {'n_estimators': 98, 'max_depth': 12, 'max_features': 14, 'min_impurity_decrease': 1}. Best is trial 1 with value: 57.509325481560055.\n",
      "[I 2023-10-17 17:31:30,735] Trial 4 finished with value: 57.642000518278245 and parameters: {'n_estimators': 86, 'max_depth': 10, 'max_features': 10, 'min_impurity_decrease': 5}. Best is trial 1 with value: 57.509325481560055.\n",
      "[I 2023-10-17 17:31:31,144] Trial 5 finished with value: 57.41757399014946 and parameters: {'n_estimators': 91, 'max_depth': 13, 'max_features': 17, 'min_impurity_decrease': 5}. Best is trial 5 with value: 57.41757399014946.\n",
      "[I 2023-10-17 17:31:31,587] Trial 6 finished with value: 57.49310644004113 and parameters: {'n_estimators': 90, 'max_depth': 12, 'max_features': 13, 'min_impurity_decrease': 2}. Best is trial 5 with value: 57.41757399014946.\n",
      "[I 2023-10-17 17:31:31,970] Trial 7 finished with value: 57.50910187492012 and parameters: {'n_estimators': 82, 'max_depth': 25, 'max_features': 10, 'min_impurity_decrease': 3}. Best is trial 5 with value: 57.41757399014946.\n",
      "[I 2023-10-17 17:31:32,332] Trial 8 finished with value: 57.618036739617175 and parameters: {'n_estimators': 83, 'max_depth': 17, 'max_features': 20, 'min_impurity_decrease': 2}. Best is trial 5 with value: 57.41757399014946.\n",
      "[I 2023-10-17 17:31:32,745] Trial 9 finished with value: 57.42013736740181 and parameters: {'n_estimators': 100, 'max_depth': 24, 'max_features': 12, 'min_impurity_decrease': 3}. Best is trial 5 with value: 57.41757399014946.\n",
      "\n",
      " \n",
      " best params:  {'n_estimators': 91, 'max_depth': 13, 'max_features': 17, 'min_impurity_decrease': 5} \n",
      " \n",
      " best score:  [57.41757399014946] \n",
      "\n"
     ]
    }
   ],
   "source": [
    "best_params, best_score = optimizer_optuna(10) #默认打印迭代过程"
   ]
  },
  {
   "cell_type": "code",
   "execution_count": null,
   "id": "2530b75f",
   "metadata": {},
   "outputs": [],
   "source": []
  }
 ],
 "metadata": {
  "kernelspec": {
   "display_name": "Python 3 (ipykernel)",
   "language": "python",
   "name": "python3"
  },
  "language_info": {
   "codemirror_mode": {
    "name": "ipython",
    "version": 3
   },
   "file_extension": ".py",
   "mimetype": "text/x-python",
   "name": "python",
   "nbconvert_exporter": "python",
   "pygments_lexer": "ipython3",
   "version": "3.11.4"
  },
  "toc": {
   "base_numbering": 1,
   "nav_menu": {},
   "number_sections": true,
   "sideBar": true,
   "skip_h1_title": false,
   "title_cell": "Table of Contents",
   "title_sidebar": "Contents",
   "toc_cell": false,
   "toc_position": {
    "height": "calc(100% - 180px)",
    "left": "10px",
    "top": "150px",
    "width": "237.667px"
   },
   "toc_section_display": true,
   "toc_window_display": true
  }
 },
 "nbformat": 4,
 "nbformat_minor": 5
}
