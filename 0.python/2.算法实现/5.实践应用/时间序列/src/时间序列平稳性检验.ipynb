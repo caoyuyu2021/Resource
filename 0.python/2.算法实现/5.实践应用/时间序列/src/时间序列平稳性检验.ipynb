{
 "cells": [
  {
   "cell_type": "markdown",
   "id": "0c5291fe",
   "metadata": {},
   "source": [
    "# 时间序列平稳性检验"
   ]
  },
  {
   "cell_type": "markdown",
   "id": "ba0930c9",
   "metadata": {},
   "source": [
    "判断时间序列数据是否为平稳时间序列或非平稳时间序列，通常可以通过以下方法：\n",
    "\n",
    "（1）观察时间序列数据的均值和方差是否随时间变化而发生明显的改变。若均值和方差变化明显，则该时间序列数据可能为非平稳时间序列，反之，则可能为平稳时间序列。\n",
    "\n",
    "（2）对时间序列数据进行差分后，再对数据通过ADF单位根检验或KPSS检验，如果数据平稳，则该时间序列数据可能为非平稳时间序列，反之，则可能为平稳时间序列。"
   ]
  },
  {
   "cell_type": "code",
   "execution_count": 28,
   "id": "d0a2869f",
   "metadata": {
    "ExecuteTime": {
     "end_time": "2023-10-19T09:13:37.689505Z",
     "start_time": "2023-10-19T09:13:37.684523Z"
    }
   },
   "outputs": [],
   "source": [
    "import pandas as pd\n",
    "import numpy as np\n",
    "from sklearn.metrics import euclidean_distances\n",
    "from scipy.spatial.distance import cdist\n",
    "from sklearn.metrics import r2_score, mean_squared_error\n",
    "import matplotlib.pyplot as plt\n",
    "plt.rcParams['font.sans-serif'] = ['SimHei'] # 用来正常显示中文标签SimHei\n",
    "plt.rcParams['axes.unicode_minus'] = False # 用来正常显示负号\n",
    "import warnings #消除警告\n",
    "from statsmodels.tools.sm_exceptions import InterpolationWarning\n",
    "warnings.simplefilter('ignore', InterpolationWarning)"
   ]
  },
  {
   "cell_type": "code",
   "execution_count": 21,
   "id": "3de4e92b",
   "metadata": {
    "ExecuteTime": {
     "end_time": "2023-10-19T09:09:42.283606Z",
     "start_time": "2023-10-19T09:09:42.192764Z"
    }
   },
   "outputs": [
    {
     "data": {
      "text/html": [
       "<div>\n",
       "<style scoped>\n",
       "    .dataframe tbody tr th:only-of-type {\n",
       "        vertical-align: middle;\n",
       "    }\n",
       "\n",
       "    .dataframe tbody tr th {\n",
       "        vertical-align: top;\n",
       "    }\n",
       "\n",
       "    .dataframe thead th {\n",
       "        text-align: right;\n",
       "    }\n",
       "</style>\n",
       "<table border=\"1\" class=\"dataframe\">\n",
       "  <thead>\n",
       "    <tr style=\"text-align: right;\">\n",
       "      <th></th>\n",
       "      <th>Time</th>\n",
       "      <th>DWATT</th>\n",
       "      <th>CSGV</th>\n",
       "      <th>CTIM</th>\n",
       "      <th>TTXD1_1</th>\n",
       "      <th>TTXD1_2</th>\n",
       "      <th>TTXD1_3</th>\n",
       "      <th>TTXD1_4</th>\n",
       "      <th>TTXD1_5</th>\n",
       "      <th>TTXD1_6</th>\n",
       "      <th>...</th>\n",
       "      <th>TTXD1_19</th>\n",
       "      <th>TTXD1_20</th>\n",
       "      <th>TTXD1_21</th>\n",
       "      <th>TTXD1_22</th>\n",
       "      <th>TTXD1_23</th>\n",
       "      <th>TTXD1_24</th>\n",
       "      <th>TTXM</th>\n",
       "      <th>TTXSP1</th>\n",
       "      <th>TTXSP3</th>\n",
       "      <th>TTXSP2</th>\n",
       "    </tr>\n",
       "  </thead>\n",
       "  <tbody>\n",
       "    <tr>\n",
       "      <th>0</th>\n",
       "      <td>#!Units</td>\n",
       "      <td>MW</td>\n",
       "      <td>na</td>\n",
       "      <td>deg F</td>\n",
       "      <td>deg F</td>\n",
       "      <td>deg F</td>\n",
       "      <td>deg F</td>\n",
       "      <td>deg F</td>\n",
       "      <td>deg F</td>\n",
       "      <td>deg F</td>\n",
       "      <td>...</td>\n",
       "      <td>deg F</td>\n",
       "      <td>deg F</td>\n",
       "      <td>deg F</td>\n",
       "      <td>naF</td>\n",
       "      <td>naF</td>\n",
       "      <td>naF</td>\n",
       "      <td>deg F</td>\n",
       "      <td>deg F</td>\n",
       "      <td>deg F</td>\n",
       "      <td>deg F</td>\n",
       "    </tr>\n",
       "    <tr>\n",
       "      <th>1</th>\n",
       "      <td>#!Description</td>\n",
       "      <td>Generator Watts Max Selected</td>\n",
       "      <td>IGV angle in deg</td>\n",
       "      <td>Compressor Inlet Temperature</td>\n",
       "      <td>Exhaust Thermocouple 1- Compensated</td>\n",
       "      <td>Exhaust Thermocouple 2- Compensated</td>\n",
       "      <td>Exhaust Thermocouple 3- Compensated</td>\n",
       "      <td>Exhaust Thermocouple 4- Compensated</td>\n",
       "      <td>Exhaust Thermocouple 5- Compensated</td>\n",
       "      <td>Exhaust Thermocouple 6 - Compensated</td>\n",
       "      <td>...</td>\n",
       "      <td>Exhaust Thermocouple 19 - Compensated</td>\n",
       "      <td>Exhaust Thermocouple 20 - Compensated</td>\n",
       "      <td>Exhaust Thermocouple 21 - Compensated</td>\n",
       "      <td>Exhaust Thermocouple 22 - Compensated</td>\n",
       "      <td>Exhaust Thermocouple 23 - Compensated</td>\n",
       "      <td>Exhaust Thermocouple 24 - Compensated</td>\n",
       "      <td>Exhaust Temp Median Corrected By Average</td>\n",
       "      <td>Combustion Monitor Actual Spread 1</td>\n",
       "      <td>Combustion Monitor Actual Spread 3</td>\n",
       "      <td>Combustion Monitor Actual Spread 2</td>\n",
       "    </tr>\n",
       "    <tr>\n",
       "      <th>2</th>\n",
       "      <td>2015/8/1 0:00</td>\n",
       "      <td>103.0826721</td>\n",
       "      <td>84.05797577</td>\n",
       "      <td>91.35520935</td>\n",
       "      <td>1056.271606</td>\n",
       "      <td>1056.249512</td>\n",
       "      <td>1056.90564</td>\n",
       "      <td>1039.57605</td>\n",
       "      <td>1051.324463</td>\n",
       "      <td>1071.620239</td>\n",
       "      <td>...</td>\n",
       "      <td>1040.360107</td>\n",
       "      <td>1044.769287</td>\n",
       "      <td>1061.994507</td>\n",
       "      <td>1052.054688</td>\n",
       "      <td>1055.862671</td>\n",
       "      <td>1061.955322</td>\n",
       "      <td>1055.949707</td>\n",
       "      <td>25.66916656</td>\n",
       "      <td>23.58292007</td>\n",
       "      <td>24.93045998</td>\n",
       "    </tr>\n",
       "    <tr>\n",
       "      <th>3</th>\n",
       "      <td>2015/8/1 1:00</td>\n",
       "      <td>103.3062134</td>\n",
       "      <td>84.06842041</td>\n",
       "      <td>89.63658905</td>\n",
       "      <td>1057.366943</td>\n",
       "      <td>1055.130981</td>\n",
       "      <td>1057.074707</td>\n",
       "      <td>1037.682373</td>\n",
       "      <td>1049.881348</td>\n",
       "      <td>1070.99231</td>\n",
       "      <td>...</td>\n",
       "      <td>1040.169312</td>\n",
       "      <td>1042.369751</td>\n",
       "      <td>1060.376343</td>\n",
       "      <td>1050.632324</td>\n",
       "      <td>1053.875122</td>\n",
       "      <td>1060.029053</td>\n",
       "      <td>1052.199707</td>\n",
       "      <td>25.02660942</td>\n",
       "      <td>22.51792336</td>\n",
       "      <td>23.52773857</td>\n",
       "    </tr>\n",
       "    <tr>\n",
       "      <th>4</th>\n",
       "      <td>2015/8/1 2:00</td>\n",
       "      <td>103.5618591</td>\n",
       "      <td>84.05568695</td>\n",
       "      <td>89.13874054</td>\n",
       "      <td>1055.688599</td>\n",
       "      <td>1053.412842</td>\n",
       "      <td>1056.954224</td>\n",
       "      <td>1039.199585</td>\n",
       "      <td>1050.531128</td>\n",
       "      <td>1071.470703</td>\n",
       "      <td>...</td>\n",
       "      <td>1040.676514</td>\n",
       "      <td>1041.763428</td>\n",
       "      <td>1062.228394</td>\n",
       "      <td>1050.305054</td>\n",
       "      <td>1056.360107</td>\n",
       "      <td>1059.859985</td>\n",
       "      <td>1054.869141</td>\n",
       "      <td>26.2706337</td>\n",
       "      <td>22.97101974</td>\n",
       "      <td>22.13184357</td>\n",
       "    </tr>\n",
       "  </tbody>\n",
       "</table>\n",
       "<p>5 rows × 32 columns</p>\n",
       "</div>"
      ],
      "text/plain": [
       "            Time                         DWATT              CSGV  \\\n",
       "0        #!Units                            MW                na   \n",
       "1  #!Description  Generator Watts Max Selected  IGV angle in deg   \n",
       "2  2015/8/1 0:00                   103.0826721       84.05797577   \n",
       "3  2015/8/1 1:00                   103.3062134       84.06842041   \n",
       "4  2015/8/1 2:00                   103.5618591       84.05568695   \n",
       "\n",
       "                           CTIM                              TTXD1_1  \\\n",
       "0                         deg F                                deg F   \n",
       "1  Compressor Inlet Temperature  Exhaust Thermocouple 1- Compensated   \n",
       "2                   91.35520935                          1056.271606   \n",
       "3                   89.63658905                          1057.366943   \n",
       "4                   89.13874054                          1055.688599   \n",
       "\n",
       "                               TTXD1_2                              TTXD1_3  \\\n",
       "0                                deg F                                deg F   \n",
       "1  Exhaust Thermocouple 2- Compensated  Exhaust Thermocouple 3- Compensated   \n",
       "2                          1056.249512                           1056.90564   \n",
       "3                          1055.130981                          1057.074707   \n",
       "4                          1053.412842                          1056.954224   \n",
       "\n",
       "                               TTXD1_4                              TTXD1_5  \\\n",
       "0                                deg F                                deg F   \n",
       "1  Exhaust Thermocouple 4- Compensated  Exhaust Thermocouple 5- Compensated   \n",
       "2                           1039.57605                          1051.324463   \n",
       "3                          1037.682373                          1049.881348   \n",
       "4                          1039.199585                          1050.531128   \n",
       "\n",
       "                                TTXD1_6  ...  \\\n",
       "0                                 deg F  ...   \n",
       "1  Exhaust Thermocouple 6 - Compensated  ...   \n",
       "2                           1071.620239  ...   \n",
       "3                            1070.99231  ...   \n",
       "4                           1071.470703  ...   \n",
       "\n",
       "                                TTXD1_19  \\\n",
       "0                                  deg F   \n",
       "1  Exhaust Thermocouple 19 - Compensated   \n",
       "2                            1040.360107   \n",
       "3                            1040.169312   \n",
       "4                            1040.676514   \n",
       "\n",
       "                                TTXD1_20  \\\n",
       "0                                  deg F   \n",
       "1  Exhaust Thermocouple 20 - Compensated   \n",
       "2                            1044.769287   \n",
       "3                            1042.369751   \n",
       "4                            1041.763428   \n",
       "\n",
       "                                TTXD1_21  \\\n",
       "0                                  deg F   \n",
       "1  Exhaust Thermocouple 21 - Compensated   \n",
       "2                            1061.994507   \n",
       "3                            1060.376343   \n",
       "4                            1062.228394   \n",
       "\n",
       "                                TTXD1_22  \\\n",
       "0                                    naF   \n",
       "1  Exhaust Thermocouple 22 - Compensated   \n",
       "2                            1052.054688   \n",
       "3                            1050.632324   \n",
       "4                            1050.305054   \n",
       "\n",
       "                                TTXD1_23  \\\n",
       "0                                    naF   \n",
       "1  Exhaust Thermocouple 23 - Compensated   \n",
       "2                            1055.862671   \n",
       "3                            1053.875122   \n",
       "4                            1056.360107   \n",
       "\n",
       "                                TTXD1_24  \\\n",
       "0                                    naF   \n",
       "1  Exhaust Thermocouple 24 - Compensated   \n",
       "2                            1061.955322   \n",
       "3                            1060.029053   \n",
       "4                            1059.859985   \n",
       "\n",
       "                                       TTXM  \\\n",
       "0                                     deg F   \n",
       "1  Exhaust Temp Median Corrected By Average   \n",
       "2                               1055.949707   \n",
       "3                               1052.199707   \n",
       "4                               1054.869141   \n",
       "\n",
       "                               TTXSP1                              TTXSP3  \\\n",
       "0                               deg F                               deg F   \n",
       "1  Combustion Monitor Actual Spread 1  Combustion Monitor Actual Spread 3   \n",
       "2                         25.66916656                         23.58292007   \n",
       "3                         25.02660942                         22.51792336   \n",
       "4                          26.2706337                         22.97101974   \n",
       "\n",
       "                               TTXSP2  \n",
       "0                               deg F  \n",
       "1  Combustion Monitor Actual Spread 2  \n",
       "2                         24.93045998  \n",
       "3                         23.52773857  \n",
       "4                         22.13184357  \n",
       "\n",
       "[5 rows x 32 columns]"
      ]
     },
     "execution_count": 21,
     "metadata": {},
     "output_type": "execute_result"
    }
   ],
   "source": [
    "#选取的数据为正常工况的数据\n",
    "data = pd.read_csv(\"../data/DATA_GT1_CMS_201508-201604.csv\", encoding=\"gbk\")\n",
    "data.to_pickle(\"../data/DATA_GT1_CMS_201508-201604.pkl\")\n",
    "data.head(5)"
   ]
  },
  {
   "cell_type": "code",
   "execution_count": 22,
   "id": "0f6a1a30",
   "metadata": {
    "ExecuteTime": {
     "end_time": "2023-10-19T09:09:42.900168Z",
     "start_time": "2023-10-19T09:09:42.868462Z"
    }
   },
   "outputs": [
    {
     "data": {
      "text/plain": [
       "(3300, 31)"
      ]
     },
     "execution_count": 22,
     "metadata": {},
     "output_type": "execute_result"
    }
   ],
   "source": [
    "#剔除自变量\n",
    "filter_data = data.drop(\"Time\", axis=1).iloc[3:-1, :].reset_index(drop=True).astype('float32')\n",
    "filter_data.shape"
   ]
  },
  {
   "cell_type": "markdown",
   "id": "1652511e",
   "metadata": {},
   "source": [
    "# 差分"
   ]
  },
  {
   "cell_type": "markdown",
   "id": "7d56464b",
   "metadata": {},
   "source": [
    "为什么先差分再检验平稳性？\n",
    "\n",
    "- 大部分经典时间序列模型，如ARIMA模型，要求时间序列是平稳的。只有当时间序列平稳时，才能有效运用这些模型来进行预测和建模。\n",
    "- 差分操作可以去除时间序列中的趋势、季节性等非平稳性因素，使得原始数据更符合平稳性的要求。\n",
    "- 差分操作可以消除时间序列的自相关性，使得之后的模型拟合和预测更加准确可靠。"
   ]
  },
  {
   "cell_type": "code",
   "execution_count": 23,
   "id": "d261c4c1",
   "metadata": {
    "ExecuteTime": {
     "end_time": "2023-10-19T09:09:45.456597Z",
     "start_time": "2023-10-19T09:09:45.448561Z"
    }
   },
   "outputs": [],
   "source": [
    "# data为时间序列数据，n为差分次数，默认为1\n",
    "def difference(data, n=1):\n",
    "    diff = data.diff(n)\n",
    "    diff.dropna(inplace=True)\n",
    "    return diff\n",
    "\n",
    "# 差分1次\n",
    "diff_data = difference(filter_data)"
   ]
  },
  {
   "cell_type": "code",
   "execution_count": 24,
   "id": "0fd5d041",
   "metadata": {
    "ExecuteTime": {
     "end_time": "2023-10-19T09:09:46.112806Z",
     "start_time": "2023-10-19T09:09:46.108279Z"
    }
   },
   "outputs": [
    {
     "data": {
      "text/plain": [
       "(3299, 31)"
      ]
     },
     "execution_count": 24,
     "metadata": {},
     "output_type": "execute_result"
    }
   ],
   "source": [
    "diff_data.shape"
   ]
  },
  {
   "cell_type": "markdown",
   "id": "6cca4300",
   "metadata": {},
   "source": [
    "# ADF单位根检验"
   ]
  },
  {
   "cell_type": "markdown",
   "id": "4359f4e9",
   "metadata": {},
   "source": [
    "ADF单位根检验：检验结果包括ADF统计量、p值以及临界值。若 p 值小于显著性水平（常见使用的是0.05），则可以拒绝原假设，即数据是平稳的，反之。"
   ]
  },
  {
   "cell_type": "code",
   "execution_count": 32,
   "id": "5802271e",
   "metadata": {
    "ExecuteTime": {
     "end_time": "2023-10-19T09:18:58.046759Z",
     "start_time": "2023-10-19T09:18:57.919983Z"
    }
   },
   "outputs": [
    {
     "name": "stdout",
     "output_type": "stream",
     "text": [
      "ADF Statistic: -20.442174\n",
      "p-value: 0.000000\n",
      "Critical Values:\n",
      "\t1%: -3.432\n",
      "\t5%: -2.862\n",
      "\t10%: -2.567\n",
      "该序列是平稳的\n"
     ]
    }
   ],
   "source": [
    "from statsmodels.tsa.stattools import adfuller\n",
    "\n",
    "# data为时间序列数据\n",
    "result = adfuller(diff_data.iloc[:, 3].values)\n",
    "print('ADF Statistic: %f' % result[0])\n",
    "print('p-value: %f' % result[1])\n",
    "print('Critical Values:')\n",
    "for key, value in result[4].items():\n",
    "    print('\\t%s: %.3f' % (key, value))\n",
    "    \n",
    "if result[1]<0.05:\n",
    "    print(\"该序列是平稳的\")\n",
    "else:\n",
    "    print(\"该序列是非平稳的\")"
   ]
  },
  {
   "cell_type": "markdown",
   "id": "cc0c5692",
   "metadata": {},
   "source": [
    "# KPSS检验"
   ]
  },
  {
   "cell_type": "markdown",
   "id": "d2276417",
   "metadata": {},
   "source": [
    "KPSS检验：检验结果包括KPSS统计量、p值以及临界值。若 p 值小于显著性水平，则可以拒绝原假设，即数据是非平稳的，反之。"
   ]
  },
  {
   "cell_type": "code",
   "execution_count": 31,
   "id": "e92c73e8",
   "metadata": {
    "ExecuteTime": {
     "end_time": "2023-10-19T09:18:07.030444Z",
     "start_time": "2023-10-19T09:18:07.024005Z"
    }
   },
   "outputs": [
    {
     "name": "stdout",
     "output_type": "stream",
     "text": [
      "KPSS Statistic: 0.041736\n",
      "p-value: 0.100000\n",
      "Critical Values:\n",
      "\t10%: 0.347\n",
      "\t5%: 0.463\n",
      "\t2.5%: 0.574\n",
      "\t1%: 0.739\n",
      "该序列是平稳的。\n"
     ]
    }
   ],
   "source": [
    "from statsmodels.tsa.stattools import kpss\n",
    "\n",
    "# data为时间序列数据\n",
    "result = kpss(diff_data.iloc[:, 0].values)\n",
    "print('KPSS Statistic: %f' % result[0])\n",
    "print('p-value: %f' % result[1])\n",
    "print('Critical Values:')\n",
    "for key, value in result[3].items():\n",
    "    print('\\t%s: %.3f' % (key, value))\n",
    "    \n",
    "if result[1]>0.05:\n",
    "    print(\"该序列是平稳的\")\n",
    "else:\n",
    "    print(\"该序列是非平稳的\")"
   ]
  },
  {
   "cell_type": "code",
   "execution_count": null,
   "id": "14ae6cf2",
   "metadata": {},
   "outputs": [],
   "source": []
  }
 ],
 "metadata": {
  "kernelspec": {
   "display_name": "Python 3 (ipykernel)",
   "language": "python",
   "name": "python3"
  },
  "language_info": {
   "codemirror_mode": {
    "name": "ipython",
    "version": 3
   },
   "file_extension": ".py",
   "mimetype": "text/x-python",
   "name": "python",
   "nbconvert_exporter": "python",
   "pygments_lexer": "ipython3",
   "version": "3.11.4"
  },
  "toc": {
   "base_numbering": 1,
   "nav_menu": {},
   "number_sections": true,
   "sideBar": true,
   "skip_h1_title": false,
   "title_cell": "Table of Contents",
   "title_sidebar": "Contents",
   "toc_cell": false,
   "toc_position": {
    "height": "calc(100% - 180px)",
    "left": "10px",
    "top": "150px",
    "width": "208.333px"
   },
   "toc_section_display": true,
   "toc_window_display": true
  }
 },
 "nbformat": 4,
 "nbformat_minor": 5
}
