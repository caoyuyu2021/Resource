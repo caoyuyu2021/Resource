{
 "cells": [
  {
   "cell_type": "markdown",
   "id": "cea9a235",
   "metadata": {},
   "source": [
    "理解python在import自定义模块时的行为：  \n",
    "当导入模块时，Python解释器会搜索 sys.path 中的所有路径，如果找不到模块所在的路径就会报错，所以自定义模块要处于 sys.path 里才能被导入。（sys.path 默认包含当前执行的文件目录。）"
   ]
  },
  {
   "cell_type": "code",
   "execution_count": 4,
   "id": "2d9ebe57",
   "metadata": {
    "ExecuteTime": {
     "end_time": "2023-11-07T03:10:03.309454Z",
     "start_time": "2023-11-07T03:10:03.303894Z"
    }
   },
   "outputs": [
    {
     "data": {
      "text/plain": [
       "['',\n",
       " '',\n",
       " 'D:\\\\Jupyter notebook\\\\IKAS\\\\算法学习\\\\解决方案',\n",
       " 'D:\\\\Anaconda\\\\python311.zip',\n",
       " 'D:\\\\Anaconda\\\\DLLs',\n",
       " 'D:\\\\Anaconda\\\\Lib',\n",
       " 'D:\\\\Anaconda',\n",
       " '',\n",
       " 'D:\\\\Anaconda\\\\Lib\\\\site-packages',\n",
       " 'D:\\\\Anaconda\\\\Lib\\\\site-packages\\\\win32',\n",
       " 'D:\\\\Anaconda\\\\Lib\\\\site-packages\\\\win32\\\\lib',\n",
       " 'D:\\\\Anaconda\\\\Lib\\\\site-packages\\\\Pythonwin']"
      ]
     },
     "execution_count": 4,
     "metadata": {},
     "output_type": "execute_result"
    }
   ],
   "source": [
    "import sys\n",
    "sys.path #获取所有路径"
   ]
  },
  {
   "cell_type": "code",
   "execution_count": 5,
   "id": "a3027cfc",
   "metadata": {
    "ExecuteTime": {
     "end_time": "2023-11-07T03:10:11.455081Z",
     "start_time": "2023-11-07T03:10:11.450907Z"
    }
   },
   "outputs": [],
   "source": [
    "path = \"\" #项目所在文件夹，例如'D:\\\\Jupyter notebook\\\\IKAS\\\\数模平台\\\\src\\\\平台代码测试'\n",
    "sys.path.insert(0, path) #将上述路径插入Python默认路径"
   ]
  },
  {
   "cell_type": "code",
   "execution_count": null,
   "id": "25e70f51",
   "metadata": {},
   "outputs": [],
   "source": []
  }
 ],
 "metadata": {
  "kernelspec": {
   "display_name": "Python 3 (ipykernel)",
   "language": "python",
   "name": "python3"
  },
  "language_info": {
   "codemirror_mode": {
    "name": "ipython",
    "version": 3
   },
   "file_extension": ".py",
   "mimetype": "text/x-python",
   "name": "python",
   "nbconvert_exporter": "python",
   "pygments_lexer": "ipython3",
   "version": "3.11.5"
  },
  "toc": {
   "base_numbering": 1,
   "nav_menu": {},
   "number_sections": true,
   "sideBar": true,
   "skip_h1_title": false,
   "title_cell": "Table of Contents",
   "title_sidebar": "Contents",
   "toc_cell": false,
   "toc_position": {},
   "toc_section_display": true,
   "toc_window_display": false
  }
 },
 "nbformat": 4,
 "nbformat_minor": 5
}
