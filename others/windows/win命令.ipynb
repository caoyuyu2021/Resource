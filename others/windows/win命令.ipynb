{
 "cells": [
  {
   "cell_type": "markdown",
   "id": "3eb27a70",
   "metadata": {},
   "source": [
    "# 电脑快捷键"
   ]
  },
  {
   "cell_type": "raw",
   "id": "a051bc84",
   "metadata": {},
   "source": [
    "win+E 打开文件管器\n",
    "win+D 显示桌面\n",
    "win+L 锁计算机\n",
    "alt+F4 关闭当前程序 \\ 文件\n",
    "ctrl+shift+Esc 打开任务管理器（或者 ctrl+alt+delete）\n",
    "ctrl+F 在一个文本或者网页里面查找，相当实用（退出一般按 ESC）\n",
    "ctrl+A 选中所有文本, 或所有文件\n",
    "crtl+alt+tab 选中窗口但不打开，使用回车打开。按tab 或←→切换\n",
    "alt+tab 选中窗口并打开\n",
    "win+tab 任务视图\n",
    "ctrl+tab 切换窗口 (仅同一软件内多个窗口有效，如浏览器开了许多个网页)"
   ]
  },
  {
   "cell_type": "code",
   "execution_count": null,
   "id": "08eae9d0",
   "metadata": {},
   "outputs": [],
   "source": []
  }
 ],
 "metadata": {
  "kernelspec": {
   "display_name": "Python 3 (ipykernel)",
   "language": "python",
   "name": "python3"
  },
  "language_info": {
   "codemirror_mode": {
    "name": "ipython",
    "version": 3
   },
   "file_extension": ".py",
   "mimetype": "text/x-python",
   "name": "python",
   "nbconvert_exporter": "python",
   "pygments_lexer": "ipython3",
   "version": "3.9.7"
  },
  "nbTranslate": {
   "displayLangs": [
    "*"
   ],
   "hotkey": "alt-t",
   "langInMainMenu": true,
   "sourceLang": "en",
   "targetLang": "fr",
   "useGoogleTranslate": true
  },
  "toc": {
   "base_numbering": 1,
   "nav_menu": {},
   "number_sections": true,
   "sideBar": true,
   "skip_h1_title": false,
   "title_cell": "Table of Contents",
   "title_sidebar": "Contents",
   "toc_cell": false,
   "toc_position": {},
   "toc_section_display": true,
   "toc_window_display": false
  }
 },
 "nbformat": 4,
 "nbformat_minor": 5
}
