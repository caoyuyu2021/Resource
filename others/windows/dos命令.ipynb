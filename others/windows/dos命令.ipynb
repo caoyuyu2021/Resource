{
 "cells": [
  {
   "cell_type": "markdown",
   "id": "0c71b581",
   "metadata": {},
   "source": [
    "# dos简介"
   ]
  },
  {
   "cell_type": "markdown",
   "id": "5193495e",
   "metadata": {},
   "source": [
    "dos是磁盘操作系统(Disk Operating System)，是个人计算机上的一类操作系统。\n",
    "\n",
    "**bat**是DOS命令，在任何dos环境下都可以使用。\n",
    "bat文件是dos下的批处理文件，批处理文件是无格式的文本文件，它包含一条或多条命令，后缀为.cmd或.bat，在Windows NT系统中，两者没有任何区别。\n",
    "\n",
    "**cmd**是cmd.exe，是Win32命令，只能在32位系统中的命令行窗口中使用，仅仅是基于windows环境下的假DOS。\n",
    "cmd文件的描述是“windows nt命令脚本”，bat文件的描述是“ms dos批处理文件”；**两者所使用的命令行代码是共用的**，只是cmd文件中允许使用的命令要比bat文件多。cmd文件只有在windows2000以上的系统中才能运行，而bat文件则没有这个限制。在Windows NT系统中，这两种批处理文件由cmd.exe解释执行。在cmd命令提示符窗口键入批处理文件名，或者直接双击批处理文件，即可执行，系统会去调用cmd.exe按照该文件中各个命令出现的顺序来逐个运行。"
   ]
  },
  {
   "cell_type": "markdown",
   "id": "2a6aa4eb",
   "metadata": {},
   "source": [
    "# bat命令"
   ]
  },
  {
   "cell_type": "markdown",
   "id": "010334b2",
   "metadata": {},
   "source": [
    "批处理脚本文件具有特殊的扩展名BAT或CMD，这种类型的文件通过称为**命令解释器（cmd.exe）**的系统文件提供的接口（shell）来识别和执行。bat脚本中命令和参数是不区分大小写的，但是变量名区分大小写。"
   ]
  },
  {
   "cell_type": "markdown",
   "id": "712651f1",
   "metadata": {},
   "source": [
    "bat文件可直接鼠标双击运行。或者`call xxx.bat`"
   ]
  },
  {
   "cell_type": "markdown",
   "id": "f753bb9f",
   "metadata": {},
   "source": [
    "## bat命令速查"
   ]
  },
  {
   "cell_type": "markdown",
   "id": "d0e2b064",
   "metadata": {},
   "source": [
    "|命令\t|备注|\n",
    "|:---|:---|\n",
    "|ver\t|显示正在使用的MS-DOS的版本\n",
    "|assoc\t|这是将扩展名与文件类型(FTYPE)相关联的批处理命令，显示现有关联或删除关联\n",
    "|cd\t|更改不同的目录，或显示当前目录\n",
    "|cls\t|清屏\n",
    "|copy\t|文件复制\n",
    "|del\t|删除文件\n",
    "|dir\t|列出目录内容\n",
    "|date\t|系统日期\n",
    "|echo\t|显示消息，或打开、关闭命令回显\n",
    "|exit\t|退出DOS控制台\n",
    "|md\t|创建目录\n",
    "|move\t|移动文件或目录\n",
    "|path\t|显示或设置路径变量\n",
    "|pause\t|等待输入\n",
    "|prompt\t|用于更改或重置cmd.exe提示符\n",
    "|rd\t|删除目录（需为空）\n",
    "|ren\t|重命名文件和目录\n",
    "|rem\t|注释\n",
    "|start\t|在新窗口中启动程序，或打开文档\n",
    "|time\t|设置或显示时间\n",
    "|type\t|将文件或文件的内容打印到输出中\n",
    "|vol\t|显示卷标\n",
    "|attrib\t|显示或设置当前目录中的文件的属性\n",
    "|chkdsk\t|检查磁盘是否有问题\n",
    "|choice\t|为用户提供了一个选项列表\n",
    "|cmd\t|调用另一个命令提示符实例\n",
    "|comp\t|根据文件大小比较2个文件\n",
    "|convert\t|将卷从FAT16或FAT32文件系统转换为NTFS文件系统\n",
    "|driverquery\t|显示所有已安装的设备驱动程序及其属性\n",
    "|expand\t|从压缩的.cab压缩文件中提取文件\n",
    "|find\t|在文件或输入中搜索字符串，输出匹配的行\n",
    "|format\t|将磁盘格式化为使用Windows支持的文件系统(如FAT，FAT32或NTFS)，从而覆盖磁盘的先前内容\n",
    "|help\t|显示Windows提供的命令的列表\n",
    "|ipconfig\t|显示Windows IP配置。显示连接的配置和连接的名称\n",
    "|label\t|添加，设置或删除磁盘标签\n",
    "|more\t|一次显示一个或多个文件的内容\n",
    "|net\t|根据使用的命令提供各种网络服务\n",
    "|ping\t|通过网络将ICMP/IP “回显”发送到指定的地址的包\n",
    "|shutdown\t|关闭计算机，或者注销当前用户\n",
    "|sort\t|从源文件获取输入，并按字母顺序排序其内容，从A到Z或从Z到A。它将在控制台上打印输出\n",
    "|subst\t|将驱动器号分配给本地文件夹，显示当前分配或删除分配\n",
    "|systeminfo\t|该批处理命令显示计算机及其操作系统的配置\n",
    "|taskkill\t|该批处理命令结束一个或多个任务\n",
    "|tasklist\t|列出任务，包括任务名称和进程标识(PID)\n",
    "|xcopy\t|以更高级的方式复制文件和目录\n",
    "|tree\t|将当前目录的所有子目录的树显示为递归或深度的任何级别\n",
    "|fc\t|列出两个文件之间的实际差异\n",
    "|diskpart\t|显示和配置磁盘分区的属性\n",
    "|title\t|该批处理命令设置控制台窗口中显示的标题\n",
    "|set\t|显示当前系统上的环境变量列表"
   ]
  },
  {
   "cell_type": "markdown",
   "id": "cc1eaaac",
   "metadata": {},
   "source": [
    "常用参数  \n",
    "/L： for循环移动范围的/L参数用于迭代数组。  \n",
    "/A：数值"
   ]
  },
  {
   "cell_type": "markdown",
   "id": "47c398e4",
   "metadata": {},
   "source": [
    "## bat命令详解"
   ]
  },
  {
   "cell_type": "markdown",
   "id": "ab4c9a26",
   "metadata": {},
   "source": [
    "### echo和@"
   ]
  },
  {
   "cell_type": "markdown",
   "id": "461e2833",
   "metadata": {},
   "source": [
    "`@echo off`  通常我们将这条指令写在我们批处理文件的第一行，因为有了这条指令之后，当我们在运行.bat的时候，就不会将文件里面的内容打印出来了，如果没有这句话，会先去将文件里面的内容打印在屏幕上\n",
    "\n",
    "`echo off` 这条指令之后的内容不会被打印，但是这个指令会被打印\n",
    "\n",
    "@  某一条指令不想被打印，可以在前面加上@\n",
    "\n",
    "`echo.` 或 `echo:`  换行，即回车"
   ]
  },
  {
   "cell_type": "markdown",
   "id": "a8e0749c",
   "metadata": {},
   "source": [
    "使用`echo`命令将设置的变量进行回显，即打印。"
   ]
  },
  {
   "cell_type": "markdown",
   "id": "a99a3748",
   "metadata": {},
   "source": [
    "`echo %a%`  \n",
    "`echo %wang%`  \n",
    "`echo %JAVA_HOME%` 环境变量输出"
   ]
  },
  {
   "cell_type": "markdown",
   "id": "4c1f163e",
   "metadata": {},
   "source": [
    "变量需要包含在％符号中显示，注释也可以包含在%%中。"
   ]
  },
  {
   "cell_type": "raw",
   "id": "594ce037",
   "metadata": {},
   "source": [
    "%临时文件夹创建文件%\n",
    "IF NOT EXIST \"%temp%/middle\" (\n",
    "    cd /d %temp%\n",
    "    md middle\n",
    "\tcd /d middle\n",
    "\techo. >build_data.txt\n",
    "\techo. >infer_data.txt\n",
    ")"
   ]
  },
  {
   "cell_type": "raw",
   "id": "757e7806",
   "metadata": {},
   "source": [
    "%获取当前路径%\n",
    "set BASEPATH=%CD%\n",
    "echo %BASEPATH%"
   ]
  },
  {
   "cell_type": "markdown",
   "id": "88df831c",
   "metadata": {},
   "source": [
    "### set"
   ]
  },
  {
   "cell_type": "markdown",
   "id": "32a01e3d",
   "metadata": {},
   "source": [
    "注意等号左边不能有空格，等号右边的空格会被当做字符串的一部分"
   ]
  },
  {
   "cell_type": "markdown",
   "id": "d05dc97a",
   "metadata": {},
   "source": [
    "**Dos命令行临时环境变量设定**\n",
    "- 查看当前所有可用的环境变量：输入 `set` 即可查看。\n",
    "- 查看某个环境变量：输入 `set 变量名`即可，比如想查看path变量的值，即输入 `set path`\n",
    "- 修改环境变量 ：输入`set 变量名=变量内容`即可，比如将path设置为“d:\\nmake.exe”，只要输入`set path=\"d:\\nmake.exe\"`。注意，此修改环境变量是指用现在的内容去覆盖以前的内容，并不是追加。比如当我设置了上面的path路径之后，如果我再重新输入`set path=\"c\"`，再次查看path路径的时候，其值为“c:”，而不是“d:\\nmake.exe”；“c”。注:单独的`.`为当前目录。\n",
    "- 设置为空：如果想将某一变量设置为空，输入`set 变量名=`即可。如`set path=` 那么查看path的时候就为空。注意，上面已经说了，只在当前命令行窗口起作用。\n",
    "- 给变量追加内容（不同于3，那个是覆盖）：输入`set 变量名=%变量名%;变量内容`。如，为path添加一个新的路径，输入`set path=%path%;d:\\nmake.exe`即可将d:\\nmake.exe添加到path中，再次执行`set path=%path%;c:`，那么，使用set path语句来查看的时候，将会有：d:\\nmake.exe;c:，而不是像第3步中的只有c:。"
   ]
  },
  {
   "cell_type": "markdown",
   "id": "02e4eb9f",
   "metadata": {},
   "source": [
    "### rem 和 ::"
   ]
  },
  {
   "cell_type": "markdown",
   "id": "6dbafa65",
   "metadata": {},
   "source": [
    "rem 和 ::的区别：rem会被打印在屏幕上，::不会被打印在屏幕上  "
   ]
  },
  {
   "cell_type": "markdown",
   "id": "a20db7ff",
   "metadata": {},
   "source": [
    "`rem Remarks` 程序执行时忽略rem关键字之后的任何内容。"
   ]
  },
  {
   "cell_type": "markdown",
   "id": "98ececeb",
   "metadata": {
    "ExecuteTime": {
     "end_time": "2023-04-07T02:35:59.400332Z",
     "start_time": "2023-04-07T02:35:59.388097Z"
    }
   },
   "source": [
    "`:: Remarks` 声明Remarks"
   ]
  },
  {
   "cell_type": "markdown",
   "id": "a81f50f4",
   "metadata": {},
   "source": [
    "### title"
   ]
  },
  {
   "cell_type": "markdown",
   "id": "30f32188",
   "metadata": {},
   "source": [
    "`title 新标题名字_wang03` 显示标题"
   ]
  },
  {
   "cell_type": "markdown",
   "id": "cd55e718",
   "metadata": {},
   "source": [
    "### pause"
   ]
  },
  {
   "cell_type": "markdown",
   "id": "1f203b19",
   "metadata": {},
   "source": [
    "当我们需要在文件运行的中间让其暂停一下，在控制台就会显示：“请按任意键以继续”"
   ]
  },
  {
   "cell_type": "markdown",
   "id": "b3ff1add",
   "metadata": {},
   "source": [
    "`echo 其他提示语 & pause > nul`"
   ]
  },
  {
   "cell_type": "markdown",
   "id": "42720e9c",
   "metadata": {},
   "source": [
    "### start"
   ]
  },
  {
   "cell_type": "markdown",
   "id": "352d7180",
   "metadata": {},
   "source": [
    "作用：启动一个单独的窗口以运行指定的程序或命令\n",
    "当我们在cmd窗口输入：`help start`之后，然后回车，就会给我们弹出start命令的解析"
   ]
  },
  {
   "cell_type": "markdown",
   "id": "33e32dd2",
   "metadata": {},
   "source": [
    "### call"
   ]
  },
  {
   "cell_type": "markdown",
   "id": "378cdfff",
   "metadata": {},
   "source": [
    "如果你想在某一批处理程序中调用另外一个批处理文件，就是用call指令。"
   ]
  },
  {
   "cell_type": "markdown",
   "id": "8c3732fe",
   "metadata": {},
   "source": [
    "`call temp.bat`"
   ]
  },
  {
   "cell_type": "markdown",
   "id": "c47de5de",
   "metadata": {},
   "source": [
    "## 字符串"
   ]
  },
  {
   "cell_type": "markdown",
   "id": "904ce150",
   "metadata": {},
   "source": [
    "### 创建"
   ]
  },
  {
   "cell_type": "markdown",
   "id": "e6a8eb80",
   "metadata": {},
   "source": [
    "`set message=Hello World`"
   ]
  },
  {
   "cell_type": "markdown",
   "id": "ccd7e627",
   "metadata": {},
   "source": [
    "### 空字符串"
   ]
  },
  {
   "cell_type": "markdown",
   "id": "d56f9762",
   "metadata": {},
   "source": [
    "`SET a=`   \n",
    "`if [%a%]==[] echo \"String A is empty\" `"
   ]
  },
  {
   "cell_type": "markdown",
   "id": "b1b69f80",
   "metadata": {},
   "source": [
    "要检查是否存在空字符串，需要在方括号中包含变量名，并将其与方括号中的值进行比较。"
   ]
  },
  {
   "cell_type": "markdown",
   "id": "02e0fb9b",
   "metadata": {},
   "source": [
    "### 字符串拼接"
   ]
  },
  {
   "cell_type": "raw",
   "id": "6e576381",
   "metadata": {},
   "source": [
    "@echo off \n",
    "SET a=Hello \n",
    "SET b=World \n",
    "SET /A d=50 \n",
    "SET c=%a% and %b% %d%\n",
    "echo %c%\n",
    ":: Hello and World 50"
   ]
  },
  {
   "cell_type": "markdown",
   "id": "618e6735",
   "metadata": {},
   "source": [
    "### 转int"
   ]
  },
  {
   "cell_type": "markdown",
   "id": "19e996e7",
   "metadata": {},
   "source": [
    "使用set变量设置为字符串的变量后，可以使用set变量的`/A`开关转换为整数。"
   ]
  },
  {
   "cell_type": "raw",
   "id": "21e0cede",
   "metadata": {},
   "source": [
    "@echo off\n",
    "set var=13145\n",
    "set /A var=%var% + 5\n",
    "echo %var%"
   ]
  },
  {
   "cell_type": "markdown",
   "id": "a4fee4dc",
   "metadata": {},
   "source": [
    "### 删除字符串"
   ]
  },
  {
   "cell_type": "raw",
   "id": "28632cf0",
   "metadata": {},
   "source": [
    "@echo off \n",
    "set str=Batch scripts is easy. It is really easy. \n",
    "echo %str% \n",
    ":: 删除is\n",
    "set str=%str:is=% \n",
    "echo %str%\n",
    ":: Batch scripts easy. It really easy."
   ]
  },
  {
   "cell_type": "markdown",
   "id": "d4ba6c32",
   "metadata": {},
   "source": [
    "### 删除空格:="
   ]
  },
  {
   "cell_type": "raw",
   "id": "30444eea",
   "metadata": {},
   "source": [
    "@echo off \n",
    "set str=This string    has    a  lot  of spaces \n",
    "echo %str% \n",
    "\n",
    "set str=%str:=% \n",
    "echo %str%\n",
    ":: Thisstringhasalotofspaces"
   ]
  },
  {
   "cell_type": "markdown",
   "id": "c6798189",
   "metadata": {},
   "source": [
    "### 替换"
   ]
  },
  {
   "cell_type": "raw",
   "id": "093a7854",
   "metadata": {},
   "source": [
    "@echo off \n",
    "set str=This message needs changed. \n",
    "echo %str% \n",
    "\n",
    "set str=%str:needs=has% \n",
    "echo %str%\n",
    ":: This message has changed."
   ]
  },
  {
   "cell_type": "markdown",
   "id": "032c4414",
   "metadata": {},
   "source": [
    "## 数组"
   ]
  },
  {
   "cell_type": "markdown",
   "id": "43f70613",
   "metadata": {},
   "source": [
    "### 创建"
   ]
  },
  {
   "cell_type": "markdown",
   "id": "0d76d19b",
   "metadata": {},
   "source": [
    "方法一：set"
   ]
  },
  {
   "cell_type": "markdown",
   "id": "b069a3f5",
   "metadata": {},
   "source": [
    "`set a[0]=1`"
   ]
  },
  {
   "cell_type": "markdown",
   "id": "8afb68f3",
   "metadata": {},
   "source": [
    "方法二：值列表遍历"
   ]
  },
  {
   "cell_type": "raw",
   "id": "cdf160bd",
   "metadata": {},
   "source": [
    "@echo off \n",
    "set list=1 2 3 4 \n",
    "(for %%a in (%list%) do ( \n",
    "   echo %%a \n",
    ")) "
   ]
  },
  {
   "cell_type": "markdown",
   "id": "31630ce8",
   "metadata": {},
   "source": [
    "### 访问"
   ]
  },
  {
   "cell_type": "markdown",
   "id": "4706c89d",
   "metadata": {},
   "source": [
    "`echo %a[0]%`"
   ]
  },
  {
   "cell_type": "markdown",
   "id": "0db28f63",
   "metadata": {},
   "source": [
    "### 修改"
   ]
  },
  {
   "cell_type": "markdown",
   "id": "fb84a23b",
   "metadata": {},
   "source": [
    "`set a[3]=4 `"
   ]
  },
  {
   "cell_type": "markdown",
   "id": "2abdb20c",
   "metadata": {},
   "source": [
    "### 迭代"
   ]
  },
  {
   "cell_type": "raw",
   "id": "b6298196",
   "metadata": {},
   "source": [
    "@echo off \n",
    "setlocal enabledelayedexpansion \n",
    "set topic[0]=comments \n",
    "set topic[1]=variables \n",
    "set topic[2]=Arrays \n",
    "set topic[3]=Decision making \n",
    "set topic[4]=Time and date \n",
    "set topic[5]=Operators \n",
    "\n",
    "for /l %%n in (0,1,5) do ( \n",
    "   echo !topic[%%n]! \n",
    ")"
   ]
  },
  {
   "cell_type": "markdown",
   "id": "b44a3e99",
   "metadata": {},
   "source": [
    "for循环移动范围的`/L`参数用于迭代数组。"
   ]
  },
  {
   "cell_type": "raw",
   "id": "f59af31d",
   "metadata": {},
   "source": [
    "@echo off \n",
    "set Arr[0]=1 \n",
    "set Arr[1]=2 \n",
    "set Arr[2]=3 \n",
    "set Arr[3]=4 \n",
    "set \"x=0\" \n",
    ":SymLoop \n",
    "\n",
    "if defined Arr[%x%] ( \n",
    "   call echo %%Arr[%x%]%% \n",
    "   set /a \"x+=1\"\n",
    "   GOTO :SymLoop \n",
    ")\n",
    "echo \"The length of the array is\" %x%"
   ]
  },
  {
   "cell_type": "markdown",
   "id": "3dce622e",
   "metadata": {},
   "source": [
    "## if语句"
   ]
  },
  {
   "cell_type": "markdown",
   "id": "6881ff7e",
   "metadata": {},
   "source": [
    "`if %c%==15 (echo \"The value of variable c is 15\") else (echo \"Unknown value\") `"
   ]
  },
  {
   "cell_type": "markdown",
   "id": "4ee0fe5c",
   "metadata": {},
   "source": [
    "- if defined ：变量是否存在  \n",
    "`if defined str1 echo \"Variable str1 is defined\"`\n",
    "- if exists：文件是否存在  \n",
    "`if exist C:\\set3.txt (echo \"File exists\") else (echo \"File does not exist\")`\n",
    "- if errorlevel：测试运行的最后一个命令的退出代码  \n",
    "`if errorlevel n somecommand`"
   ]
  },
  {
   "cell_type": "markdown",
   "id": "9ea5fe63",
   "metadata": {},
   "source": [
    "各种命令发出整数退出代码来表示命令的状态。 通常，如果命令成功完成，则命令通过传递0;如果命令失败，命令通过传递1。"
   ]
  },
  {
   "cell_type": "markdown",
   "id": "ce8d6f28",
   "metadata": {},
   "source": [
    "## for语句"
   ]
  },
  {
   "cell_type": "markdown",
   "id": "a1f3b0c1",
   "metadata": {},
   "source": [
    "%variable 指定一个单一字母可替换的参数。注意：批处理脚本中使用%%variable  \n",
    "(set) 指定一个或一组文件。可以使用通配符。  \n",
    "command 指定对每个文件执行的命令。  \n",
    "command-parameters 为特定命令指定参数或命令行开关。"
   ]
  },
  {
   "cell_type": "markdown",
   "id": "ffb78a3c",
   "metadata": {},
   "source": [
    "## goto语句"
   ]
  },
  {
   "cell_type": "raw",
   "id": "555e91c0",
   "metadata": {},
   "source": [
    "@echo off \n",
    "SET /A a=5 \n",
    "\n",
    "if %a%==5 goto :labela \n",
    "if %a%==10 goto :labelb\n",
    ":labela \n",
    "echo \"The value of a is 5\" \n",
    "exit /b 0\n",
    ":labelb \n",
    "echo \"The value of a is 10\""
   ]
  },
  {
   "cell_type": "markdown",
   "id": "90b1f0ed",
   "metadata": {},
   "source": [
    "## 运算符"
   ]
  },
  {
   "cell_type": "markdown",
   "id": "c0742969",
   "metadata": {},
   "source": [
    "|运算符\t|备注\n",
    "|---|:---|\n",
    "|EQU\t|相等\n",
    "|NEQ\t|不等\n",
    "|LSS\t|左小于右\n",
    "|LEQ\t|小于等于\n",
    "|GTR\t|大于\n",
    "|GEQ\t|大于等于"
   ]
  },
  {
   "cell_type": "markdown",
   "id": "76a49596",
   "metadata": {},
   "source": [
    "## 系统日期"
   ]
  },
  {
   "cell_type": "markdown",
   "id": "e3e2f5d8",
   "metadata": {},
   "source": [
    "`echo %DATE%`"
   ]
  },
  {
   "cell_type": "markdown",
   "id": "5756eda2",
   "metadata": {},
   "source": [
    "## 系统时间"
   ]
  },
  {
   "cell_type": "markdown",
   "id": "683b36e5",
   "metadata": {},
   "source": [
    "`echo %TIME%`"
   ]
  },
  {
   "cell_type": "markdown",
   "id": "3facbdf0",
   "metadata": {},
   "source": [
    "## 输入输出"
   ]
  },
  {
   "cell_type": "markdown",
   "id": "6fea4554",
   "metadata": {},
   "source": [
    "0：stdin 标准输入  \n",
    "1：stdout 标准输出  \n",
    "2：stderr 错误消息"
   ]
  },
  {
   "cell_type": "markdown",
   "id": "c010c8f1",
   "metadata": {},
   "source": [
    "## 重定向"
   ]
  },
  {
   "cell_type": "markdown",
   "id": "bb9c1b83",
   "metadata": {},
   "source": [
    "`DIR C:\\ > lists.txt 2> &1`"
   ]
  },
  {
   "cell_type": "markdown",
   "id": "d71d989f",
   "metadata": {},
   "source": [
    "使用文件编号和\"&\"前缀来组合stdout和stderr流"
   ]
  },
  {
   "cell_type": "markdown",
   "id": "5333c8d6",
   "metadata": {},
   "source": [
    "## 函数"
   ]
  },
  {
   "cell_type": "raw",
   "id": "890e6827",
   "metadata": {},
   "source": [
    ":function_name \n",
    "Do_something \n",
    "EXIT /B 0"
   ]
  },
  {
   "cell_type": "markdown",
   "id": "b4c71a75",
   "metadata": {},
   "source": [
    "function_name是赋予函数的名字，它应该与函数的实际功能相匹配。"
   ]
  },
  {
   "cell_type": "markdown",
   "id": "9f53e405",
   "metadata": {},
   "source": [
    "EXIT语句用于确保函数正常退出."
   ]
  },
  {
   "cell_type": "raw",
   "id": "20e181f3",
   "metadata": {},
   "source": [
    ":Display \n",
    "SET /A index=2 \n",
    "echo The value of index is %index% \n",
    "EXIT /B 0"
   ]
  },
  {
   "cell_type": "raw",
   "id": "f21ffdc8",
   "metadata": {},
   "source": [
    ":Display \n",
    "SET /A index=2 \n",
    "echo The value of index is %index% \n",
    "EXIT /B 0"
   ]
  },
  {
   "cell_type": "markdown",
   "id": "51b3eeae",
   "metadata": {},
   "source": [
    "### 调用 call :function_name"
   ]
  },
  {
   "cell_type": "raw",
   "id": "cc92295f",
   "metadata": {},
   "source": [
    "@echo off\n",
    "Rem main\n",
    "SETLOCAL\n",
    "CALL :Display 5 , 10\n",
    "EXIT /B %ERRORLEVEL%\n",
    "\n",
    "Rem function\n",
    ":Display\n",
    "echo The value of parameter 1 is %~1\n",
    "echo The value of parameter 2 is %~2\n",
    "EXIT /B 0"
   ]
  },
  {
   "cell_type": "markdown",
   "id": "22d30c06",
   "metadata": {},
   "source": [
    "- 确保在主程序中放入`EXIT / B%ERRORLEVEL%`语句，以便将主程序的代码与函数分开。  \n",
    "- 使用`~1`来访问发送给函数的第一个参数，同样使用`~2`来访问第二个参数。"
   ]
  },
  {
   "cell_type": "markdown",
   "id": "e7d6b781",
   "metadata": {},
   "source": [
    "## 进程"
   ]
  },
  {
   "cell_type": "markdown",
   "id": "c09fbf77",
   "metadata": {},
   "source": [
    "### 查看进程列表"
   ]
  },
  {
   "cell_type": "markdown",
   "id": "b8e7890c",
   "metadata": {},
   "source": [
    ":: 获取内存大于40MB的进程  \n",
    "tasklist /fi \"memusage gt 40000\""
   ]
  },
  {
   "cell_type": "raw",
   "id": "281ce39a",
   "metadata": {},
   "source": [
    "/S system\t指定要连接的远程系统\n",
    "/U [domain]user\t指定命令应在其下执行的用户上下文\n",
    "/P [password]\t指定给定用户上下文的密码。 提示输入，如果省略。\n",
    "/M [module]\t列出当前使用给定的exe / dll名称的所有任务。 如果未指定模块名称，则显示所有已加载的模块。\n",
    "/SVC\t显示每个进程中托管的服务。\n",
    "/V\t显示详细的任务信息。\n",
    "/FI filter\t显示一组符合过滤器指定条件的任务。\n",
    "/FO format\t指定输出格式。 有效值:TABLE，LIST，CSV。\n",
    "/NH\t指定“列标题”不应显示在输出中。 仅适用于TABLE和CSV格式。"
   ]
  },
  {
   "cell_type": "markdown",
   "id": "8bcd5da2",
   "metadata": {},
   "source": [
    "### 终止进程"
   ]
  },
  {
   "cell_type": "markdown",
   "id": "112fc012",
   "metadata": {},
   "source": [
    "`START \"title\" [/D path] [options] \"command\" [parameters]`"
   ]
  },
  {
   "cell_type": "raw",
   "id": "4579447b",
   "metadata": {},
   "source": [
    "/S system\t指定要连接的远程系统\n",
    "/U [domain]user\t指定命令应在其下执行的用户上下文。\n",
    "/P [password]\t指定给定用户上下文的密码。 提示输入，如果省略。\n",
    "/FI FilterName\t应用过滤器来选择一组任务，允许使用*通配符。\n",
    "/PID processID\t指定要终止的进程的PID。使用TaskList来获取PID。\n",
    "/IM ImageName\t指定要终止的进程的映像名称。 通配符*可用于指定所有任务或图像名称。\n",
    "/T\t终止指定的进程以及由其启动的任何子进程。\n",
    "/F\t指定强制终止进程。"
   ]
  },
  {
   "cell_type": "markdown",
   "id": "8165ab05",
   "metadata": {},
   "source": [
    "`:: 杀死(终止)打开的记事本任务`  \n",
    "`taskkill /f /im notepad.exe`  \n",
    "`:: 杀死了一个ID为9901的进程 `   \n",
    "`taskill /pid 9901`"
   ]
  },
  {
   "cell_type": "markdown",
   "id": "0309050a",
   "metadata": {},
   "source": [
    "### 启动进程"
   ]
  },
  {
   "cell_type": "markdown",
   "id": "a5439efa",
   "metadata": {},
   "source": [
    "`START \"title\" [/D path] [options] \"command\" [parameters]`"
   ]
  },
  {
   "cell_type": "markdown",
   "id": "45164050",
   "metadata": {},
   "source": [
    "## 别名"
   ]
  },
  {
   "cell_type": "markdown",
   "id": "e3655ee5",
   "metadata": {},
   "source": [
    "`dw=dir /w`"
   ]
  },
  {
   "cell_type": "markdown",
   "id": "21708154",
   "metadata": {},
   "source": [
    "当要执行dir /w命令时，可以简单地键入dw这个单词。dw这个词现在已经成为命令dir /w的别名。"
   ]
  },
  {
   "cell_type": "markdown",
   "id": "fe7dd6b8",
   "metadata": {},
   "source": [
    "### doskey 别名管理"
   ]
  },
  {
   "cell_type": "markdown",
   "id": "9aebeb8d",
   "metadata": {},
   "source": [
    "`DOSKEY [options] [macroname=[text]]`"
   ]
  },
  {
   "cell_type": "markdown",
   "id": "d59df311",
   "metadata": {},
   "source": [
    "创建"
   ]
  },
  {
   "cell_type": "raw",
   "id": "c813c0a6",
   "metadata": {},
   "source": [
    "@echo off\n",
    "doskey cd=cd/test\n",
    "doskey d=dir"
   ]
  },
  {
   "cell_type": "markdown",
   "id": "89a9ffde",
   "metadata": {},
   "source": [
    "删除"
   ]
  },
  {
   "cell_type": "raw",
   "id": "cd221038",
   "metadata": {},
   "source": [
    "@echo off\n",
    "doskey cd=cd/test\n",
    "doskey d=dir\n",
    "d="
   ]
  },
  {
   "cell_type": "markdown",
   "id": "f20c8944",
   "metadata": {},
   "source": [
    "将d的值设置为NULL，所以宏d将被删除。"
   ]
  },
  {
   "cell_type": "markdown",
   "id": "5744aa57",
   "metadata": {},
   "source": [
    "## 管道（|）"
   ]
  },
  {
   "cell_type": "markdown",
   "id": "232d0141",
   "metadata": {},
   "source": [
    "管道运算符(|)将一个命令的输出(默认为STDOUT)引导到另一个命令的输入(默认为STDIN)。"
   ]
  },
  {
   "cell_type": "raw",
   "id": "178a9daa",
   "metadata": {},
   "source": [
    ":: 两个命令同时启动，但是sort命令暂停，直到它接收到dir命令的输出。 \n",
    ":: sort命令使用dir命令的输出作为输入，然后将其输出发送到句柄1(即STDOUT)。\n",
    "dir C:\\ | sort"
   ]
  },
  {
   "cell_type": "markdown",
   "id": "7db83573",
   "metadata": {},
   "source": [
    "# cmd命令"
   ]
  },
  {
   "cell_type": "markdown",
   "id": "f1c6fee0",
   "metadata": {},
   "source": [
    "## 启动 cmd"
   ]
  },
  {
   "cell_type": "markdown",
   "id": "7b3cc9a8",
   "metadata": {},
   "source": [
    "用户启动，Win+r 输入cmd，Enter\n",
    "\n",
    "管理员启动，Win+r 输入cmd，Ctrl+Shift+Enter"
   ]
  },
  {
   "cell_type": "markdown",
   "id": "e007a32d",
   "metadata": {},
   "source": [
    "## 文件夹命令"
   ]
  },
  {
   "cell_type": "raw",
   "id": "4af1f435",
   "metadata": {},
   "source": [
    "切换到指定盘符\n",
    "D：或者C：\n",
    "\n",
    "切换文件路径\n",
    "cd /d 路径\n",
    "路径可用\\\\或者/来切分\n",
    "\n",
    "进入文件夹\n",
    "cd D:\\typora\\file\n",
    "\n",
    "返回上一级\n",
    "cd..\n",
    "\n",
    "跳转到根目录\n",
    "cd \\\n",
    "\n",
    "跳转指定路径 (假设现在在 D:\\typora 跳转到 D:\\ 网页下载)\n",
    "cd D:\\网页下载\n",
    "\n",
    "打开文件夹或文件\n",
    "start 文件名字\n",
    "\n",
    "新建文件夹\n",
    "cd d:\\typora\\file\n",
    "mkdir newtest 进入根目录后使用\n",
    "新建空文件\n",
    "cd.>flie.txt\n",
    "cd.>flie.docx\n",
    "cd.>flie.ppt\n",
    "\n",
    "type nul> newtest.txt \n",
    "type nul>.txt\n",
    "新建非空文件\n",
    "echo 文件中的内容>new.txt\n",
    "删除文件 (如果是del 文件夹A是删除文件夹 A 内的所有带后缀的文件，若文件夹 A 中有文件夹 B，文件夹 B 不会被修改)\n",
    "\n",
    "del flie.txt\n",
    "-删除指定后缀的文件\n",
    "del *.txt\n",
    "del *.docx\n",
    "删除名为 flie 的空文件夹\n",
    "rd flie\n",
    "删除名为 flie 的文件夹\n",
    "rd /s D:\\flie\n",
    "删除 flie 文件夹下的所有文件\n",
    "rd flie /s\n",
    "生成目录树, 在文件少一些的路径尝试。要不会运行好久，ctrl+c 可以停掉\n",
    "\n",
    "tree\n",
    "遍历当前路径下所有文件\n",
    "dir\n",
    "显示当前目录及子文件\n",
    "dir /s\n",
    "显示文件以及文件大小、个数\n",
    "dir /d\n",
    "显示文件\n",
    "dir /b\n",
    "\n",
    "对 dir 的组合使用：\n",
    "查找文件。只需要输入路径即可，无需 cd 返回到某个路径再执行命令 (eg：D:\\JAVA\\eclipse\\flie 和 D:\\eclipse 效果相同)\n",
    "\n",
    "dir/s/b d:\\flie\n",
    "查找文件以及文件大小、个数\n",
    "dir/s/d d:\\flie\n",
    "查看隐藏文件夹\n",
    "dir /?\n",
    "复制文件\n",
    "copy 路径\\文件名 路径\\文件名\n",
    "移动文件\n",
    "move 路径\\文件名 路径\\文件名"
   ]
  },
  {
   "cell_type": "raw",
   "id": "9bb15eb8",
   "metadata": {},
   "source": [
    "在Windows CMD控制台中运行两个命令（使用&符号）：  \n",
    "dir & echo foo   \n",
    "第二个命令只有在第一个成功退出时执行：  \n",
    "dir && echo foo "
   ]
  },
  {
   "cell_type": "raw",
   "id": "1a32c428",
   "metadata": {},
   "source": [
    "您可以使用下表中列出的特殊字符来传递多个命令。\n",
    "\n",
    "& [...] command1 & command2\n",
    "用于在一个命令行上分隔多个命令。 Cmd.exe运行第一个命令，然后运行第二个命令。\n",
    "\n",
    "&& [...] command1 && command2\n",
    "只有在符号前面的命令成功时，才可以用来运行&&后面的命令。 Cmd.exe运行第一个命令，然后只有在第一个命令成功完成时才运行第二个命令。\n",
    "\n",
    "|| [...] command1 || command2\n",
    "用于在||之后运行命令 只有在||之前的命令 失败。 Cmd.exe运行第一个命令，然后只有在第一个命令未成功完成（接收到大于零的错误代码）时才运行第二个命令。\n",
    "\n",
    "( ) [...] (command1 & command2)\n",
    "用于分组或嵌套多个命令。\n",
    "\n",
    "; or , command1 parameter1;parameter2\n",
    "用来分隔命令参数。&是Bash ; 的等价物"
   ]
  },
  {
   "cell_type": "markdown",
   "id": "fbb0170f",
   "metadata": {},
   "source": [
    "## 网络相关"
   ]
  },
  {
   "cell_type": "raw",
   "id": "7f1d39bc",
   "metadata": {},
   "source": [
    "查看 ip 地址\n",
    "ipconfig\n",
    "\n",
    "查询 ip 地址\n",
    "ping www.baidu.com\n",
    "\n",
    "netstat 查看网络连接状态\n",
    "netstat -help 获取命令行使用帮助信息\n",
    "\n",
    "netstat -ano  //查看网络连接、状态以及对应的进程id"
   ]
  },
  {
   "cell_type": "markdown",
   "id": "35e25f55",
   "metadata": {},
   "source": [
    "## 其它常用命令"
   ]
  },
  {
   "cell_type": "raw",
   "id": "2ec1b499",
   "metadata": {},
   "source": [
    "关机\n",
    "shutdown -s\n",
    "关闭本地计算机，没有超时或警告\n",
    "shutdown -p\n",
    "强制关闭正在运行的应用程序而不提前警告用户, 可搭配-p\n",
    "\n",
    "shutdown -f\n",
    "定时关机，定时 60s, 时间自定\n",
    "shutdown -s -t 60\n",
    "关机并重启\n",
    "shutdown -r\n",
    "一段时间后重启\n",
    "shutdown -r -t 秒数\n",
    "注销当前用户\n",
    "shutdown -l\n",
    "休眠，可以搭配 - f,shut down -h -f。不可以搭配-t\n",
    "\n",
    "shutdown -h\n",
    "解除命令\n",
    "shutdown -a\n",
    "清除屏幕\n",
    "cls\n",
    "\n",
    "使用 help 命令查看帮助\n",
    "命令 -help    //第1种形式的使用帮助\n",
    "命令  /?     //第2种形式的使用帮助\n",
    "终止命令\n",
    "ctrl+c\n",
    "退出 cmd\n",
    "exit"
   ]
  },
  {
   "cell_type": "markdown",
   "id": "047b4d57",
   "metadata": {},
   "source": [
    "其他比较实用的，但使用频率不高的命令"
   ]
  },
  {
   "cell_type": "raw",
   "id": "d77c05f4",
   "metadata": {},
   "source": [
    "notepad+路径 打开记事本\n",
    "dxdiag 检查DirectX信息\n",
    "winver 检查Windows版本\n",
    "wmimgmt.msc  打开windows管理体系结构（WMI）\n",
    "wupdmgr   windows 更新程序\n",
    "wscript   windows脚本设置\n",
    "write  写字板\n",
    "winmsd  系统信息\n",
    "wiaacmgr 扫描仪和相机\n",
    "calc  计算器\n",
    "mplayer2 打开windows media player\n",
    "mspaint  画图板\n",
    "mstsc  远程桌面连接\n",
    "mmc   打开控制台\n",
    "dxdiag  检查Directx信息\n",
    "drwtsn32 系统医生\n",
    "devmgmt.msc 设备管理器\n",
    "notepad  记事本\n",
    "ntbackup 系统备份和还原\n",
    "sndrec32 录音机\n",
    "Sndovl32 音量控制程序\n",
    "tsshutdn 60秒倒计时关机\n",
    "taskmgr  任务管理器\n",
    "explorer 资源管理器\n",
    "progman  程序管理器\n",
    "regedit.exe 注册表\n",
    "perfmon.msc 计算机性能监测\n",
    "eventvwr 事件查看器\n",
    "net user   查看用户\n",
    "whoami  查看当前用户\n",
    "net user %username% 123456   将电脑用户密码修改为123456，%%中填写用户名称"
   ]
  },
  {
   "cell_type": "markdown",
   "id": "f719c392",
   "metadata": {},
   "source": [
    "## 快捷键"
   ]
  },
  {
   "cell_type": "raw",
   "id": "586f1d6d",
   "metadata": {},
   "source": [
    "快速查看历史记录↑↓\n",
    "查看完整记录F7\n",
    "切换当前路径下文件Tab\n",
    "反向选择文件和文件夹Shift+Tab\n",
    "拖拽文件到窗口可以直接显示路径\n",
    "ESC 清除当前命令行\n",
    "F1 单字符输出上次输入的命令，如果已经是最后的一条的命令，则不进行任何切换操作。（例：输入 “dir”，按 F1 一次后自动输入 d，按两次自动输入 i, 三次自动输入 r）\n",
    "F2 可复制字符数量 , 输入上次命令中含有的字符, 系统自动删除此字符后的内容. （例：输入 cd test ，按下 F2 输入 e 后, 系统自动输入 cd t 命令）\n",
    "F3 重新输入前一次输入的命令 或者按向上键\n",
    "F4 可删除字符数量, 同于 F2 的功能 （例：输入 cd test 将光标移动到 d 下面，按下 F4 输入 e 后, 系统自动删除 t 以后 (包括 d) e(不包括 e) 以前的字符 命令变为 cest）\n",
    "F5 自动切换到已经执行过的命令字符。可按下多次选择命令\n",
    "F6 相当按键盘上的 Ctrl＋z 键\n",
    "F7 显示命令历史记录，按下后可用方向键上下选择之前输入过的命令\n",
    "F8 搜索命令的历史记录，循环显示所有曾经输入的命令，直到按下回车键为止\n",
    "F9 与 F7 配合使用。F7 中选择的命令是有编号的，按下 F9 再输入命令的编号，就能快速执行命令\n",
    "Ctrl+Break 查看统计信息并按回车继续操作\n",
    "Ctrl+C 强行中止命令执行\n",
    "Ctrl+H 删除光标左边的一个字符\n",
    "Ctrl+M 表示回车确认键\n",
    "Alt+F7 清除所有曾经输入的命令历史记录\n",
    "Alt+PrintScreen 截取当前命令窗内容\n",
    "Tab 自动输入当前文件夹的子文件夹名。可按下多次选择文件夹，与 cd 命令配合使用可快速进入子文件夹"
   ]
  },
  {
   "cell_type": "markdown",
   "id": "9afc915f",
   "metadata": {},
   "source": [
    "# 参数传递"
   ]
  },
  {
   "cell_type": "markdown",
   "id": "0f8d800d",
   "metadata": {},
   "source": [
    "参数长度9个以内不用特殊操作，超过9个时引用需要特殊操作(shift)。"
   ]
  },
  {
   "cell_type": "markdown",
   "id": "05612c3e",
   "metadata": {},
   "source": [
    "## 参数传递和引用的一般方式"
   ]
  },
  {
   "cell_type": "markdown",
   "id": "ff58b442",
   "metadata": {},
   "source": [
    "引用变量用%var%，调用程序外部参数用%0至%9等等\n",
    "\n",
    "%0 %1 %2 %3 %4 %5 %6 %7 %8 %9 %*为命令行传递给批处理的参数"
   ]
  },
  {
   "cell_type": "markdown",
   "id": "adecc1c5",
   "metadata": {},
   "source": [
    "%0批处理文件本身，包括完整的路径和扩展名\n",
    "\n",
    "%1 第一个参数\n",
    "\n",
    "%9 第九个参数\n",
    "\n",
    "%*从第一个参数开始的所有参数，也可以传入若干参数\n",
    "\n",
    "参数%0具有特殊的功能，可以调用批处理自身，以达到批处理本身循环的目的，也可以复制文件自身等等。"
   ]
  },
  {
   "cell_type": "markdown",
   "id": "cbad072d",
   "metadata": {},
   "source": [
    "## bat 传递超过10个参数的情况"
   ]
  },
  {
   "cell_type": "markdown",
   "id": "406f40ff",
   "metadata": {},
   "source": [
    "Shift 命令:更改批处理文件中可替换参数的位置\n",
    "\n",
    "shift[/n]\n",
    "\n",
    "n 的取值是[0-8],且为整数:[/n]为可选参数，当赋予n 某个值时，就意味着命令从第n 个参数开始移位;当 n 赋予的值为 0,1 或不带有任何命令选项的 shift 时，则表示批处理文件中替换参数左移一个位置，后面的替换参数陆续填补上去，直至可替换参数为空。\n",
    "\n",
    "例如:Shift /2;会将 %3移位到 %2，将 %4 移位到 %3，等等；并且不影响 %0 和 %1。"
   ]
  },
  {
   "cell_type": "raw",
   "id": "8b9de680",
   "metadata": {},
   "source": [
    "@echo off\n",
    " \n",
    "echo 您输入了参数*:%*\n",
    "echo 您输入了参数(1-9):%1 %2 %3 %4 %5 %6 %7 %8 %9\n",
    "shift /0\n",
    "echo 您输入了参数(s0):%1 %2 %3 %4 %5 %6 %7 %8 %9\n",
    "shift /1\n",
    "echo 您输入了参数(s1):%1 %2 %3 %4 %5 %6 %7 %8 %9\n",
    "shift /2\n",
    "echo 您输入了参数(s2):%1 %2 %3 %4 %5 %6 %7 %8 %9\n",
    "shift /3\n",
    "echo 您输入了参数(s3):%1 %2 %3 %4 %5 %6 %7 %8 %9\n",
    "shift /4\n",
    "echo 您输入了参数(s4):%1 %2 %3 %4 %5 %6 %7 %8 %9\n",
    "shift /5\n",
    "echo 您输入了参数(s5):%1 %2 %3 %4 %5 %6 %7 %8 %9\n",
    "shift /6\n",
    "echo 您输入了参数(s6):%1 %2 %3 %4 %5 %6 %7 %8 %9\n",
    "shift /7\n",
    "echo 您输入了参数(s7):%1 %2 %3 %4 %5 %6 %7 %8 %9\n",
    "shift /8\n",
    "echo 您输入了参数(s8):%1 %2 %3 %4 %5 %6 %7 %8 %9\n",
    "shift\n",
    "echo 您输入了参数(s):%1 %2 %3 %4 %5 %6 %7 %8 %9"
   ]
  },
  {
   "cell_type": "code",
   "execution_count": null,
   "id": "d7ad3b5d",
   "metadata": {},
   "outputs": [],
   "source": []
  }
 ],
 "metadata": {
  "kernelspec": {
   "display_name": "Python 3 (ipykernel)",
   "language": "python",
   "name": "python3"
  },
  "language_info": {
   "codemirror_mode": {
    "name": "ipython",
    "version": 3
   },
   "file_extension": ".py",
   "mimetype": "text/x-python",
   "name": "python",
   "nbconvert_exporter": "python",
   "pygments_lexer": "ipython3",
   "version": "3.9.7"
  },
  "nbTranslate": {
   "displayLangs": [
    "*"
   ],
   "hotkey": "alt-t",
   "langInMainMenu": true,
   "sourceLang": "en",
   "targetLang": "fr",
   "useGoogleTranslate": true
  },
  "toc": {
   "base_numbering": 1,
   "nav_menu": {},
   "number_sections": true,
   "sideBar": true,
   "skip_h1_title": false,
   "title_cell": "Table of Contents",
   "title_sidebar": "Contents",
   "toc_cell": false,
   "toc_position": {
    "height": "calc(100% - 180px)",
    "left": "10px",
    "top": "150px",
    "width": "235.025px"
   },
   "toc_section_display": true,
   "toc_window_display": true
  }
 },
 "nbformat": 4,
 "nbformat_minor": 5
}
