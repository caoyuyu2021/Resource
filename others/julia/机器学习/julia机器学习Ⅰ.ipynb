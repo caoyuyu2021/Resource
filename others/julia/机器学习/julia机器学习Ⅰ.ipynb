{
 "cells": [
  {
   "cell_type": "markdown",
   "id": "cb64adaa",
   "metadata": {},
   "source": [
    "<font face=\"微软雅黑\" color=green size=5>Julia机器学习Ⅰ</font>"
   ]
  },
  {
   "cell_type": "markdown",
   "id": "803784fe",
   "metadata": {},
   "source": [
    "# 引言"
   ]
  },
  {
   "cell_type": "code",
   "execution_count": 1,
   "id": "3b2ed816",
   "metadata": {
    "ExecuteTime": {
     "end_time": "2022-06-08T16:34:51.009000+08:00",
     "start_time": "2022-06-08T08:34:50.239Z"
    }
   },
   "outputs": [
    {
     "data": {
      "text/plain": [
       "v\"1.7.1\""
      ]
     },
     "execution_count": 1,
     "metadata": {},
     "output_type": "execute_result"
    }
   ],
   "source": [
    "VERSION"
   ]
  },
  {
   "cell_type": "markdown",
   "id": "4f4ebf60",
   "metadata": {},
   "source": [
    "首先，使用using预加载一些包，以避免稍后的延迟。"
   ]
  },
  {
   "cell_type": "code",
   "execution_count": 15,
   "id": "c52f8e47",
   "metadata": {
    "ExecuteTime": {
     "end_time": "2022-07-15T10:04:06.947000+08:00",
     "start_time": "2022-07-15T02:04:06.940Z"
    }
   },
   "outputs": [],
   "source": [
    "using InlineStrings  \n",
    "using WeakRefStrings  \n",
    "using ScikitLearn  \n",
    "using CSV  \n",
    "using MLJScikitLearnInterface  \n",
    "using CorpusLoaders  \n",
    "using ScientificTypes\n",
    "using OpenML\n",
    "using MLJBase\n",
    "using MLJEnsembles\n",
    "using MLJIteration\n",
    "using MLJTuning\n",
    "using MLJSerialization\n",
    "using MLJModels\n",
    "using MLJ"
   ]
  },
  {
   "cell_type": "markdown",
   "id": "766d75d3",
   "metadata": {},
   "source": [
    "# 数据表示"
   ]
  },
  {
   "cell_type": "markdown",
   "id": "7b0a8cdf",
   "metadata": {},
   "source": [
    "## “科学”类型"
   ]
  },
  {
   "cell_type": "markdown",
   "id": "8a043e58",
   "metadata": {},
   "source": [
    "为了帮助您关注数据的预期用途或解释，MLJ模型使用“科学”类型而不是机器类型指定数据要求。“科学”类型是普通的Julia类型（例如，它可以用于方法调用），但它通常没有实例。其他基本的“科学”类型包括：Missing（缺失值）、Textual（文本）、OrderedFactor（有序因子）、Multiclass（多类）、Continuous（连续值）、Count（计数值）"
   ]
  },
  {
   "cell_type": "code",
   "execution_count": 3,
   "id": "3fc00500",
   "metadata": {
    "ExecuteTime": {
     "end_time": "2022-06-08T16:36:15.205000+08:00",
     "start_time": "2022-06-08T08:36:14.435Z"
    }
   },
   "outputs": [
    {
     "data": {
      "text/plain": [
       "Continuous"
      ]
     },
     "execution_count": 3,
     "metadata": {},
     "output_type": "execute_result"
    }
   ],
   "source": [
    "scitype(3.141) #X的“科学”类型，与现行公约规定的机器类型不同。"
   ]
  },
  {
   "cell_type": "code",
   "execution_count": 4,
   "id": "66e9b2d4",
   "metadata": {
    "ExecuteTime": {
     "end_time": "2022-06-08T16:36:15.229000+08:00",
     "start_time": "2022-06-08T08:36:14.929Z"
    }
   },
   "outputs": [
    {
     "data": {
      "text/plain": [
       "AbstractVector{Continuous} (alias for AbstractArray{Continuous, 1})"
      ]
     },
     "execution_count": 4,
     "metadata": {},
     "output_type": "execute_result"
    }
   ],
   "source": [
    "time = [2.3, 4.5, 4.2, 1.8, 7.1]\n",
    "scitype(time)"
   ]
  },
  {
   "cell_type": "code",
   "execution_count": 5,
   "id": "9cb49666",
   "metadata": {
    "ExecuteTime": {
     "end_time": "2022-06-08T16:36:15.371000+08:00",
     "start_time": "2022-06-08T08:36:15.362Z"
    }
   },
   "outputs": [
    {
     "data": {
      "text/plain": [
       "AbstractVector{Count} (alias for AbstractArray{Count, 1})"
      ]
     },
     "execution_count": 5,
     "metadata": {},
     "output_type": "execute_result"
    }
   ],
   "source": [
    "height = [185, 153, 163, 114, 180]\n",
    "scitype(height)"
   ]
  },
  {
   "cell_type": "code",
   "execution_count": 6,
   "id": "331e194c",
   "metadata": {
    "ExecuteTime": {
     "end_time": "2022-06-08T16:36:17.274000+08:00",
     "start_time": "2022-06-08T08:36:16.553Z"
    }
   },
   "outputs": [
    {
     "data": {
      "text/plain": [
       "5-element Vector{Float64}:\n",
       " 185.0\n",
       " 153.0\n",
       " 163.0\n",
       " 114.0\n",
       " 180.0"
      ]
     },
     "execution_count": 6,
     "metadata": {},
     "output_type": "execute_result"
    }
   ],
   "source": [
    "height = coerce(height, Continuous) #返回“科学”类型为S的数组A的新版本。"
   ]
  },
  {
   "cell_type": "code",
   "execution_count": 7,
   "id": "3f85908d",
   "metadata": {
    "ExecuteTime": {
     "end_time": "2022-06-08T16:36:17.731000+08:00",
     "start_time": "2022-06-08T08:36:17.681Z"
    }
   },
   "outputs": [
    {
     "data": {
      "text/plain": [
       "AbstractVector{Union{Missing, Textual}} (alias for AbstractArray{Union{Missing, Textual}, 1})"
      ]
     },
     "execution_count": 7,
     "metadata": {},
     "output_type": "execute_result"
    }
   ],
   "source": [
    "exam_mark = [\"rotten\", \"great\", \"bla\",  missing, \"great\"]\n",
    "scitype(exam_mark)"
   ]
  },
  {
   "cell_type": "code",
   "execution_count": 8,
   "id": "c8e8253b",
   "metadata": {
    "ExecuteTime": {
     "end_time": "2022-06-08T16:36:21.424000+08:00",
     "start_time": "2022-06-08T08:36:19.913Z"
    }
   },
   "outputs": [
    {
     "name": "stderr",
     "output_type": "stream",
     "text": [
      "┌ Info: Trying to coerce from `Union{Missing, String}` to `OrderedFactor`.\n",
      "│ Coerced to `Union{Missing,OrderedFactor}` instead.\n",
      "└ @ ScientificTypes D:\\TongYuan\\.julia\\packages\\ScientificTypes\\3irls\\src\\convention\\coerce.jl:174\n"
     ]
    },
    {
     "data": {
      "text/plain": [
       "5-element CategoricalArrays.CategoricalArray{Union{Missing, String},1,UInt32}:\n",
       " \"rotten\"\n",
       " \"great\"\n",
       " \"bla\"\n",
       " missing\n",
       " \"great\""
      ]
     },
     "execution_count": 8,
     "metadata": {},
     "output_type": "execute_result"
    }
   ],
   "source": [
    "exam_mark = coerce(exam_mark, OrderedFactor)"
   ]
  },
  {
   "cell_type": "code",
   "execution_count": 9,
   "id": "291aa10d",
   "metadata": {
    "ExecuteTime": {
     "end_time": "2022-06-08T16:36:24.298000+08:00",
     "start_time": "2022-06-08T08:36:23.878Z"
    }
   },
   "outputs": [
    {
     "data": {
      "text/plain": [
       "3-element Vector{String}:\n",
       " \"bla\"\n",
       " \"great\"\n",
       " \"rotten\""
      ]
     },
     "execution_count": 9,
     "metadata": {},
     "output_type": "execute_result"
    }
   ],
   "source": [
    "levels(exam_mark) #返回集合x中出现或可能出现的唯一值的向量。除非传递skipmissing=false，否则将跳过缺少的值。"
   ]
  },
  {
   "cell_type": "markdown",
   "id": "831aeb99",
   "metadata": {},
   "source": [
    "## 二维数据"
   ]
  },
  {
   "cell_type": "markdown",
   "id": "7bd7de72",
   "metadata": {},
   "source": [
    "MLJ模型通常将二维数据表示为表格形式，表的最简单示例可能是julia列表，它只是等长向量的命名元组。"
   ]
  },
  {
   "cell_type": "code",
   "execution_count": 10,
   "id": "c14d672e",
   "metadata": {
    "ExecuteTime": {
     "end_time": "2022-06-08T16:36:34.664000+08:00",
     "start_time": "2022-06-08T08:36:34.357Z"
    }
   },
   "outputs": [
    {
     "data": {
      "text/plain": [
       "(h = [185.0, 153.0, 163.0, 114.0, 180.0],\n",
       " e = Union{Missing, CategoricalArrays.CategoricalValue{String, UInt32}}[\"rotten\", \"great\", \"bla\", missing, \"great\"],\n",
       " t = [2.3, 4.5, 4.2, 1.8, 7.1],)"
      ]
     },
     "execution_count": 10,
     "metadata": {},
     "output_type": "execute_result"
    }
   ],
   "source": [
    "column_table = (h=height, e=exam_mark, t=time)"
   ]
  },
  {
   "cell_type": "code",
   "execution_count": 11,
   "id": "a353566c",
   "metadata": {
    "ExecuteTime": {
     "end_time": "2022-06-08T16:36:36.683000+08:00",
     "start_time": "2022-06-08T08:36:35.694Z"
    }
   },
   "outputs": [
    {
     "data": {
      "text/plain": [
       "Table{Union{AbstractVector{Union{Missing, OrderedFactor{3}}}, AbstractVector{Continuous}}}"
      ]
     },
     "execution_count": 11,
     "metadata": {},
     "output_type": "execute_result"
    }
   ],
   "source": [
    "scitype(column_table)"
   ]
  },
  {
   "cell_type": "code",
   "execution_count": 12,
   "id": "5b610c4a",
   "metadata": {
    "ExecuteTime": {
     "end_time": "2022-06-08T16:36:39.685000+08:00",
     "start_time": "2022-06-08T08:36:37.594Z"
    }
   },
   "outputs": [
    {
     "data": {
      "text/plain": [
       "┌───────┬──────────────────────────────────┬────────────────────────────────────\n",
       "│\u001b[22m names \u001b[0m│\u001b[22m scitypes                         \u001b[0m│\u001b[22m types                            \u001b[0m ⋯\n",
       "├───────┼──────────────────────────────────┼────────────────────────────────────\n",
       "│ h     │ Continuous                       │ Float64                           ⋯\n",
       "│ e     │ Union{Missing, OrderedFactor{3}} │ Union{Missing, CategoricalValue{S ⋯\n",
       "│ t     │ Continuous                       │ Float64                           ⋯\n",
       "└───────┴──────────────────────────────────┴────────────────────────────────────\n",
       "\u001b[36m                                                                1 column omitted\u001b[0m\n"
      ]
     },
     "execution_count": 12,
     "metadata": {},
     "output_type": "execute_result"
    }
   ],
   "source": [
    "schema(column_table) #检查表格对象的列类型和类型。如果无法检查列类型和/或scitypes，则返回nothing。"
   ]
  },
  {
   "cell_type": "code",
   "execution_count": 13,
   "id": "6dbea26e",
   "metadata": {
    "ExecuteTime": {
     "end_time": "2022-06-08T16:36:45.498000+08:00",
     "start_time": "2022-06-08T08:36:42.880Z"
    }
   },
   "outputs": [
    {
     "data": {
      "text/plain": [
       "┌───────┬──────────────────────────────────┬────────────────────────────────────\n",
       "│\u001b[22m names \u001b[0m│\u001b[22m scitypes                         \u001b[0m│\u001b[22m types                            \u001b[0m ⋯\n",
       "├───────┼──────────────────────────────────┼────────────────────────────────────\n",
       "│ e     │ Union{Missing, OrderedFactor{3}} │ Union{Missing, CategoricalValue{S ⋯\n",
       "│ h     │ Continuous                       │ Float64                           ⋯\n",
       "│ t     │ Continuous                       │ Float64                           ⋯\n",
       "└───────┴──────────────────────────────────┴────────────────────────────────────\n",
       "\u001b[36m                                                                1 column omitted\u001b[0m\n"
      ]
     },
     "execution_count": 13,
     "metadata": {},
     "output_type": "execute_result"
    }
   ],
   "source": [
    "dict_table = Dict(:h => height, :e => exam_mark, :t => time)\n",
    "schema(dict_table)"
   ]
  },
  {
   "cell_type": "code",
   "execution_count": 14,
   "id": "6b8e9c93",
   "metadata": {
    "ExecuteTime": {
     "end_time": "2022-06-08T16:36:47.245000+08:00",
     "start_time": "2022-06-08T08:36:46.749Z"
    }
   },
   "outputs": [
    {
     "data": {
      "text/plain": [
       "┌───────┬────────────┬─────────┐\n",
       "│\u001b[22m names \u001b[0m│\u001b[22m scitypes   \u001b[0m│\u001b[22m types   \u001b[0m│\n",
       "├───────┼────────────┼─────────┤\n",
       "│ a     │ Count      │ Int64   │\n",
       "│ b     │ Continuous │ Float64 │\n",
       "└───────┴────────────┴─────────┘\n"
      ]
     },
     "execution_count": 14,
     "metadata": {},
     "output_type": "execute_result"
    }
   ],
   "source": [
    "row_table = [(a=1, b=3.4),\n",
    "             (a=2, b=4.5),\n",
    "             (a=3, b=5.6)]\n",
    "schema(row_table)"
   ]
  },
  {
   "cell_type": "code",
   "execution_count": 15,
   "id": "d830c9a9",
   "metadata": {
    "ExecuteTime": {
     "end_time": "2022-06-08T16:36:50.407000+08:00",
     "start_time": "2022-06-08T08:36:47.984Z"
    }
   },
   "outputs": [
    {
     "data": {
      "text/html": [
       "<div class=\"data-frame\"><p>5 rows × 3 columns</p><table class=\"data-frame\"><thead><tr><th></th><th>h</th><th>e</th><th>t</th></tr><tr><th></th><th title=\"Float64\">Float64</th><th title=\"Union{Missing, CategoricalArrays.CategoricalValue{String, UInt32}}\">Cat…?</th><th title=\"Float64\">Float64</th></tr></thead><tbody><tr><th>1</th><td>185.0</td><td>rotten</td><td>2.3</td></tr><tr><th>2</th><td>153.0</td><td>great</td><td>4.5</td></tr><tr><th>3</th><td>163.0</td><td>bla</td><td>4.2</td></tr><tr><th>4</th><td>114.0</td><td><em>missing</em></td><td>1.8</td></tr><tr><th>5</th><td>180.0</td><td>great</td><td>7.1</td></tr></tbody></table></div>"
      ],
      "text/latex": [
       "\\begin{tabular}{r|ccc}\n",
       "\t& h & e & t\\\\\n",
       "\t\\hline\n",
       "\t& Float64 & Cat…? & Float64\\\\\n",
       "\t\\hline\n",
       "\t1 & 185.0 & rotten & 2.3 \\\\\n",
       "\t2 & 153.0 & great & 4.5 \\\\\n",
       "\t3 & 163.0 & bla & 4.2 \\\\\n",
       "\t4 & 114.0 & \\emph{missing} & 1.8 \\\\\n",
       "\t5 & 180.0 & great & 7.1 \\\\\n",
       "\\end{tabular}\n"
      ],
      "text/plain": [
       "\u001b[1m5×3 DataFrame\u001b[0m\n",
       "\u001b[1m Row \u001b[0m│\u001b[1m h       \u001b[0m\u001b[1m e       \u001b[0m\u001b[1m t       \u001b[0m\n",
       "\u001b[1m     \u001b[0m│\u001b[90m Float64 \u001b[0m\u001b[90m Cat…?   \u001b[0m\u001b[90m Float64 \u001b[0m\n",
       "─────┼───────────────────────────\n",
       "   1 │   185.0  rotten       2.3\n",
       "   2 │   153.0  great        4.5\n",
       "   3 │   163.0  bla          4.2\n",
       "   4 │   114.0 \u001b[90m missing \u001b[0m     1.8\n",
       "   5 │   180.0  great        7.1"
      ]
     },
     "execution_count": 15,
     "metadata": {},
     "output_type": "execute_result"
    }
   ],
   "source": [
    "import DataFrames\n",
    "df = DataFrames.DataFrame(column_table)"
   ]
  },
  {
   "cell_type": "code",
   "execution_count": 16,
   "id": "ad592cae",
   "metadata": {
    "ExecuteTime": {
     "end_time": "2022-06-08T16:36:57.650000+08:00",
     "start_time": "2022-06-08T08:36:57.321Z"
    }
   },
   "outputs": [
    {
     "data": {
      "text/plain": [
       "true"
      ]
     },
     "execution_count": 16,
     "metadata": {},
     "output_type": "execute_result"
    }
   ],
   "source": [
    "schema(df) == schema(column_table)"
   ]
  },
  {
   "cell_type": "code",
   "execution_count": 18,
   "id": "0fc4d126",
   "metadata": {
    "ExecuteTime": {
     "end_time": "2022-06-08T16:37:19.966000+08:00",
     "start_time": "2022-06-08T08:37:13.943Z"
    }
   },
   "outputs": [
    {
     "data": {
      "text/plain": [
       "┌─────────────────────────┬────────────┬─────────┐\n",
       "│\u001b[22m names                   \u001b[0m│\u001b[22m scitypes   \u001b[0m│\u001b[22m types   \u001b[0m│\n",
       "├─────────────────────────┼────────────┼─────────┤\n",
       "│ surgery                 │ Count      │ Int64   │\n",
       "│ age                     │ Count      │ Int64   │\n",
       "│ rectal_temperature      │ Continuous │ Float64 │\n",
       "│ pulse                   │ Count      │ Int64   │\n",
       "│ respiratory_rate        │ Count      │ Int64   │\n",
       "│ temperature_extremities │ Count      │ Int64   │\n",
       "│ mucous_membranes        │ Count      │ Int64   │\n",
       "│ capillary_refill_time   │ Count      │ Int64   │\n",
       "│ pain                    │ Count      │ Int64   │\n",
       "│ peristalsis             │ Count      │ Int64   │\n",
       "│ abdominal_distension    │ Count      │ Int64   │\n",
       "│ packed_cell_volume      │ Continuous │ Float64 │\n",
       "│ total_protein           │ Continuous │ Float64 │\n",
       "│ outcome                 │ Count      │ Int64   │\n",
       "│ surgical_lesion         │ Count      │ Int64   │\n",
       "│ cp_data                 │ Count      │ Int64   │\n",
       "└─────────────────────────┴────────────┴─────────┘\n"
      ]
     },
     "execution_count": 18,
     "metadata": {},
     "output_type": "execute_result"
    }
   ],
   "source": [
    "using CSV\n",
    "file = CSV.File(\"D:\\\\Jupyter notebook\\\\DataSet\\\\julia\\\\horse.csv\")\n",
    "schema(file) "
   ]
  },
  {
   "cell_type": "markdown",
   "id": "78753990",
   "metadata": {
    "ExecuteTime": {
     "end_time": "2022-05-30T21:53:34.805000+08:00",
     "start_time": "2022-05-30T13:53:34.751Z"
    }
   },
   "source": [
    "大多数MLJ模型不接受矩阵代替表格，但您可以将矩阵封装为表格。"
   ]
  },
  {
   "cell_type": "code",
   "execution_count": 19,
   "id": "9e68ed9f",
   "metadata": {
    "ExecuteTime": {
     "end_time": "2022-06-08T16:37:24.739000+08:00",
     "start_time": "2022-06-08T08:37:24.102Z"
    }
   },
   "outputs": [
    {
     "data": {
      "text/plain": [
       "┌───────┬────────────┬─────────┐\n",
       "│\u001b[22m names \u001b[0m│\u001b[22m scitypes   \u001b[0m│\u001b[22m types   \u001b[0m│\n",
       "├───────┼────────────┼─────────┤\n",
       "│ x1    │ Continuous │ Float64 │\n",
       "│ x2    │ Continuous │ Float64 │\n",
       "│ x3    │ Continuous │ Float64 │\n",
       "└───────┴────────────┴─────────┘\n"
      ]
     },
     "execution_count": 19,
     "metadata": {},
     "output_type": "execute_result"
    }
   ],
   "source": [
    "matrix_table = MLJ.table(rand(2,3))\n",
    "schema(matrix_table)"
   ]
  },
  {
   "cell_type": "markdown",
   "id": "4b82db0e",
   "metadata": {},
   "source": [
    "## 确定表格数据中的“科学”类型"
   ]
  },
  {
   "cell_type": "markdown",
   "id": "ae7fe3ec",
   "metadata": {},
   "source": [
    "为了说明我们如何更正表格中的“科学”数据类型，我们利用了Horse的数据集。"
   ]
  },
  {
   "cell_type": "code",
   "execution_count": 20,
   "id": "98797b52",
   "metadata": {
    "ExecuteTime": {
     "end_time": "2022-06-08T16:37:38.045000+08:00",
     "start_time": "2022-06-08T08:37:37.806Z"
    }
   },
   "outputs": [
    {
     "data": {
      "text/html": [
       "<div class=\"data-frame\"><p>4 rows × 16 columns (omitted printing of 10 columns)</p><table class=\"data-frame\"><thead><tr><th></th><th>surgery</th><th>age</th><th>rectal_temperature</th><th>pulse</th><th>respiratory_rate</th><th>temperature_extremities</th></tr><tr><th></th><th title=\"Int64\">Int64</th><th title=\"Int64\">Int64</th><th title=\"Float64\">Float64</th><th title=\"Int64\">Int64</th><th title=\"Int64\">Int64</th><th title=\"Int64\">Int64</th></tr></thead><tbody><tr><th>1</th><td>2</td><td>1</td><td>38.5</td><td>66</td><td>66</td><td>3</td></tr><tr><th>2</th><td>1</td><td>1</td><td>39.2</td><td>88</td><td>88</td><td>3</td></tr><tr><th>3</th><td>2</td><td>1</td><td>38.3</td><td>40</td><td>40</td><td>1</td></tr><tr><th>4</th><td>1</td><td>9</td><td>39.1</td><td>164</td><td>164</td><td>4</td></tr></tbody></table></div>"
      ],
      "text/latex": [
       "\\begin{tabular}{r|ccccccc}\n",
       "\t& surgery & age & rectal\\_temperature & pulse & respiratory\\_rate & temperature\\_extremities & \\\\\n",
       "\t\\hline\n",
       "\t& Int64 & Int64 & Float64 & Int64 & Int64 & Int64 & \\\\\n",
       "\t\\hline\n",
       "\t1 & 2 & 1 & 38.5 & 66 & 66 & 3 & $\\dots$ \\\\\n",
       "\t2 & 1 & 1 & 39.2 & 88 & 88 & 3 & $\\dots$ \\\\\n",
       "\t3 & 2 & 1 & 38.3 & 40 & 40 & 1 & $\\dots$ \\\\\n",
       "\t4 & 1 & 9 & 39.1 & 164 & 164 & 4 & $\\dots$ \\\\\n",
       "\\end{tabular}\n"
      ],
      "text/plain": [
       "\u001b[1m4×16 DataFrame\u001b[0m\n",
       "\u001b[1m Row \u001b[0m│\u001b[1m surgery \u001b[0m\u001b[1m age   \u001b[0m\u001b[1m rectal_temperature \u001b[0m\u001b[1m pulse \u001b[0m\u001b[1m respiratory_rate \u001b[0m\u001b[1m temperatur\u001b[0m ⋯\n",
       "\u001b[1m     \u001b[0m│\u001b[90m Int64   \u001b[0m\u001b[90m Int64 \u001b[0m\u001b[90m Float64            \u001b[0m\u001b[90m Int64 \u001b[0m\u001b[90m Int64            \u001b[0m\u001b[90m Int64     \u001b[0m ⋯\n",
       "─────┼──────────────────────────────────────────────────────────────────────────\n",
       "   1 │       2      1                38.5     66                66             ⋯\n",
       "   2 │       1      1                39.2     88                88\n",
       "   3 │       2      1                38.3     40                40\n",
       "   4 │       1      9                39.1    164               164\n",
       "\u001b[36m                                                              11 columns omitted\u001b[0m"
      ]
     },
     "execution_count": 20,
     "metadata": {},
     "output_type": "execute_result"
    }
   ],
   "source": [
    "using CSV\n",
    "file = CSV.File(\"D:\\\\Jupyter notebook\\\\DataSet\\\\julia\\\\horse.csv\");\n",
    "horse = DataFrames.DataFrame(file); # convert to data frame without copying columns\n",
    "first(horse, 4)"
   ]
  },
  {
   "cell_type": "markdown",
   "id": "3f6e10b4",
   "metadata": {},
   "source": [
    "从 UCI 文档中，我们可以推测应该如何解释每个变量（我们工作流程中的一个步骤，不能可靠地留给计算机）："
   ]
  },
  {
   "cell_type": "markdown",
   "id": "5cb8ebfe",
   "metadata": {},
   "source": [
    "variable                    | scientific type (interpretation)\n",
    "----------------------------|-----------------------------------\n",
    "`:surgery`                  | Multiclass\n",
    "`:age`                      | Multiclass\n",
    "`:rectal_temperature`       | Continuous\n",
    "`:pulse`                    | Continuous\n",
    "`:respiratory_rate`         | Continuous\n",
    "`:temperature_extremities`  | OrderedFactor\n",
    "`:mucous_membranes`         | Multiclass\n",
    "`:capillary_refill_time`    | Multiclass\n",
    "`:pain`                     | OrderedFactor\n",
    "`:peristalsis`              | OrderedFactor\n",
    "`:abdominal_distension`     | OrderedFactor\n",
    "`:packed_cell_volume`       | Continuous\n",
    "`:total_protein`            | Continuous\n",
    "`:outcome`                  | Multiclass\n",
    "`:surgical_lesion`          | OrderedFactor\n",
    "`:cp_data`                  | Multiclass"
   ]
  },
  {
   "cell_type": "markdown",
   "id": "01419793",
   "metadata": {},
   "source": [
    "让我们看看 MLJ 将如何实际解释数据，因为它是当前编码的："
   ]
  },
  {
   "cell_type": "code",
   "execution_count": 21,
   "id": "e4fc5817",
   "metadata": {
    "ExecuteTime": {
     "end_time": "2022-06-08T16:37:45.947000+08:00",
     "start_time": "2022-06-08T08:37:45.907Z"
    }
   },
   "outputs": [
    {
     "data": {
      "text/plain": [
       "┌─────────────────────────┬────────────┬─────────┐\n",
       "│\u001b[22m names                   \u001b[0m│\u001b[22m scitypes   \u001b[0m│\u001b[22m types   \u001b[0m│\n",
       "├─────────────────────────┼────────────┼─────────┤\n",
       "│ surgery                 │ Count      │ Int64   │\n",
       "│ age                     │ Count      │ Int64   │\n",
       "│ rectal_temperature      │ Continuous │ Float64 │\n",
       "│ pulse                   │ Count      │ Int64   │\n",
       "│ respiratory_rate        │ Count      │ Int64   │\n",
       "│ temperature_extremities │ Count      │ Int64   │\n",
       "│ mucous_membranes        │ Count      │ Int64   │\n",
       "│ capillary_refill_time   │ Count      │ Int64   │\n",
       "│ pain                    │ Count      │ Int64   │\n",
       "│ peristalsis             │ Count      │ Int64   │\n",
       "│ abdominal_distension    │ Count      │ Int64   │\n",
       "│ packed_cell_volume      │ Continuous │ Float64 │\n",
       "│ total_protein           │ Continuous │ Float64 │\n",
       "│ outcome                 │ Count      │ Int64   │\n",
       "│ surgical_lesion         │ Count      │ Int64   │\n",
       "│ cp_data                 │ Count      │ Int64   │\n",
       "└─────────────────────────┴────────────┴─────────┘\n"
      ]
     },
     "execution_count": 21,
     "metadata": {},
     "output_type": "execute_result"
    }
   ],
   "source": [
    "schema(horse)"
   ]
  },
  {
   "cell_type": "code",
   "execution_count": 22,
   "id": "404fdf69",
   "metadata": {
    "ExecuteTime": {
     "end_time": "2022-06-08T16:37:47.454000+08:00",
     "start_time": "2022-06-08T08:37:46.569Z"
    }
   },
   "outputs": [
    {
     "data": {
      "text/plain": [
       "Dict{Symbol, Type} with 11 entries:\n",
       "  :abdominal_distension    => OrderedFactor\n",
       "  :pain                    => OrderedFactor\n",
       "  :surgery                 => OrderedFactor\n",
       "  :mucous_membranes        => OrderedFactor\n",
       "  :surgical_lesion         => OrderedFactor\n",
       "  :outcome                 => OrderedFactor\n",
       "  :capillary_refill_time   => OrderedFactor\n",
       "  :age                     => OrderedFactor\n",
       "  :temperature_extremities => OrderedFactor\n",
       "  :peristalsis             => OrderedFactor\n",
       "  :cp_data                 => OrderedFactor"
      ]
     },
     "execution_count": 22,
     "metadata": {},
     "output_type": "execute_result"
    }
   ],
   "source": [
    "autotype(horse)"
   ]
  },
  {
   "cell_type": "markdown",
   "id": "3587a358",
   "metadata": {},
   "source": [
    "好的，这并不完美，但朝着正确的方向迈出了一步，我们这样实现："
   ]
  },
  {
   "cell_type": "code",
   "execution_count": 23,
   "id": "5dee707c",
   "metadata": {
    "ExecuteTime": {
     "end_time": "2022-06-08T16:37:52.165000+08:00",
     "start_time": "2022-06-08T08:37:51.470Z"
    }
   },
   "outputs": [
    {
     "data": {
      "text/plain": [
       "┌─────────────────────────┬──────────────────┬──────────────────────────────────\n",
       "│\u001b[22m names                   \u001b[0m│\u001b[22m scitypes         \u001b[0m│\u001b[22m types                          \u001b[0m ⋯\n",
       "├─────────────────────────┼──────────────────┼──────────────────────────────────\n",
       "│ surgery                 │ OrderedFactor{2} │ CategoricalValue{Int64, UInt32} ⋯\n",
       "│ age                     │ OrderedFactor{2} │ CategoricalValue{Int64, UInt32} ⋯\n",
       "│ rectal_temperature      │ Continuous       │ Float64                         ⋯\n",
       "│ pulse                   │ Count            │ Int64                           ⋯\n",
       "│ respiratory_rate        │ Count            │ Int64                           ⋯\n",
       "│ temperature_extremities │ OrderedFactor{4} │ CategoricalValue{Int64, UInt32} ⋯\n",
       "│ mucous_membranes        │ OrderedFactor{6} │ CategoricalValue{Int64, UInt32} ⋯\n",
       "│ capillary_refill_time   │ OrderedFactor{3} │ CategoricalValue{Int64, UInt32} ⋯\n",
       "│ pain                    │ OrderedFactor{5} │ CategoricalValue{Int64, UInt32} ⋯\n",
       "│ peristalsis             │ OrderedFactor{4} │ CategoricalValue{Int64, UInt32} ⋯\n",
       "│ abdominal_distension    │ OrderedFactor{4} │ CategoricalValue{Int64, UInt32} ⋯\n",
       "│ packed_cell_volume      │ Continuous       │ Float64                         ⋯\n",
       "│ total_protein           │ Continuous       │ Float64                         ⋯\n",
       "│ outcome                 │ OrderedFactor{3} │ CategoricalValue{Int64, UInt32} ⋯\n",
       "│ surgical_lesion         │ OrderedFactor{2} │ CategoricalValue{Int64, UInt32} ⋯\n",
       "│ cp_data                 │ OrderedFactor{2} │ CategoricalValue{Int64, UInt32} ⋯\n",
       "└─────────────────────────┴──────────────────┴──────────────────────────────────\n"
      ]
     },
     "execution_count": 23,
     "metadata": {},
     "output_type": "execute_result"
    }
   ],
   "source": [
    "coerce!(horse, autotype(horse));\n",
    "schema(horse)"
   ]
  },
  {
   "cell_type": "markdown",
   "id": "52b9c1c8",
   "metadata": {},
   "source": [
    "所有剩余的计数数据应该是连续的："
   ]
  },
  {
   "cell_type": "code",
   "execution_count": 24,
   "id": "ed688534",
   "metadata": {
    "ExecuteTime": {
     "end_time": "2022-06-08T16:37:55.750000+08:00",
     "start_time": "2022-06-08T08:37:55.316Z"
    }
   },
   "outputs": [
    {
     "data": {
      "text/plain": [
       "┌─────────────────────────┬──────────────────┬──────────────────────────────────\n",
       "│\u001b[22m names                   \u001b[0m│\u001b[22m scitypes         \u001b[0m│\u001b[22m types                          \u001b[0m ⋯\n",
       "├─────────────────────────┼──────────────────┼──────────────────────────────────\n",
       "│ surgery                 │ OrderedFactor{2} │ CategoricalValue{Int64, UInt32} ⋯\n",
       "│ age                     │ OrderedFactor{2} │ CategoricalValue{Int64, UInt32} ⋯\n",
       "│ rectal_temperature      │ Continuous       │ Float64                         ⋯\n",
       "│ pulse                   │ Continuous       │ Float64                         ⋯\n",
       "│ respiratory_rate        │ Continuous       │ Float64                         ⋯\n",
       "│ temperature_extremities │ OrderedFactor{4} │ CategoricalValue{Int64, UInt32} ⋯\n",
       "│ mucous_membranes        │ OrderedFactor{6} │ CategoricalValue{Int64, UInt32} ⋯\n",
       "│ capillary_refill_time   │ OrderedFactor{3} │ CategoricalValue{Int64, UInt32} ⋯\n",
       "│ pain                    │ OrderedFactor{5} │ CategoricalValue{Int64, UInt32} ⋯\n",
       "│ peristalsis             │ OrderedFactor{4} │ CategoricalValue{Int64, UInt32} ⋯\n",
       "│ abdominal_distension    │ OrderedFactor{4} │ CategoricalValue{Int64, UInt32} ⋯\n",
       "│ packed_cell_volume      │ Continuous       │ Float64                         ⋯\n",
       "│ total_protein           │ Continuous       │ Float64                         ⋯\n",
       "│ outcome                 │ OrderedFactor{3} │ CategoricalValue{Int64, UInt32} ⋯\n",
       "│ surgical_lesion         │ OrderedFactor{2} │ CategoricalValue{Int64, UInt32} ⋯\n",
       "│ cp_data                 │ OrderedFactor{2} │ CategoricalValue{Int64, UInt32} ⋯\n",
       "└─────────────────────────┴──────────────────┴──────────────────────────────────\n"
      ]
     },
     "execution_count": 24,
     "metadata": {},
     "output_type": "execute_result"
    }
   ],
   "source": [
    "coerce!(horse, Count => Continuous);\n",
    "schema(horse)"
   ]
  },
  {
   "cell_type": "code",
   "execution_count": 25,
   "id": "6cdc81ef",
   "metadata": {
    "ExecuteTime": {
     "end_time": "2022-06-08T16:37:59.641000+08:00",
     "start_time": "2022-06-08T08:37:59.085Z"
    }
   },
   "outputs": [
    {
     "data": {
      "text/plain": [
       "┌─────────────────────────┬──────────────────┬──────────────────────────────────\n",
       "│\u001b[22m names                   \u001b[0m│\u001b[22m scitypes         \u001b[0m│\u001b[22m types                          \u001b[0m ⋯\n",
       "├─────────────────────────┼──────────────────┼──────────────────────────────────\n",
       "│ surgery                 │ Multiclass{2}    │ CategoricalValue{Int64, UInt32} ⋯\n",
       "│ age                     │ Multiclass{2}    │ CategoricalValue{Int64, UInt32} ⋯\n",
       "│ rectal_temperature      │ Continuous       │ Float64                         ⋯\n",
       "│ pulse                   │ Continuous       │ Float64                         ⋯\n",
       "│ respiratory_rate        │ Continuous       │ Float64                         ⋯\n",
       "│ temperature_extremities │ OrderedFactor{4} │ CategoricalValue{Int64, UInt32} ⋯\n",
       "│ mucous_membranes        │ Multiclass{6}    │ CategoricalValue{Int64, UInt32} ⋯\n",
       "│ capillary_refill_time   │ Multiclass{3}    │ CategoricalValue{Int64, UInt32} ⋯\n",
       "│ pain                    │ OrderedFactor{5} │ CategoricalValue{Int64, UInt32} ⋯\n",
       "│ peristalsis             │ OrderedFactor{4} │ CategoricalValue{Int64, UInt32} ⋯\n",
       "│ abdominal_distension    │ OrderedFactor{4} │ CategoricalValue{Int64, UInt32} ⋯\n",
       "│ packed_cell_volume      │ Continuous       │ Float64                         ⋯\n",
       "│ total_protein           │ Continuous       │ Float64                         ⋯\n",
       "│ outcome                 │ Multiclass{3}    │ CategoricalValue{Int64, UInt32} ⋯\n",
       "│ surgical_lesion         │ OrderedFactor{2} │ CategoricalValue{Int64, UInt32} ⋯\n",
       "│ cp_data                 │ Multiclass{2}    │ CategoricalValue{Int64, UInt32} ⋯\n",
       "└─────────────────────────┴──────────────────┴──────────────────────────────────\n"
      ]
     },
     "execution_count": 25,
     "metadata": {},
     "output_type": "execute_result"
    }
   ],
   "source": [
    "coerce!(horse,\n",
    "        :surgery               => Multiclass,\n",
    "        :age                   => Multiclass,\n",
    "        :mucous_membranes      => Multiclass,\n",
    "        :capillary_refill_time => Multiclass,\n",
    "        :outcome               => Multiclass,\n",
    "        :cp_data               => Multiclass);\n",
    "schema(horse)"
   ]
  },
  {
   "cell_type": "markdown",
   "id": "ae0a5db4",
   "metadata": {},
   "source": [
    "## 第1部分资源"
   ]
  },
  {
   "cell_type": "markdown",
   "id": "57456adf",
   "metadata": {},
   "source": [
    "- From the MLJ manual:\n",
    "   - [A preview of data type specification in\n",
    "  MLJ](https://alan-turing-institute.github.io/MLJ.jl/dev/getting_started/#A-preview-of-data-type-specification-in-MLJ-1)\n",
    "   - [Data containers and scientific types](https://alan-turing-institute.github.io/MLJ.jl/dev/getting_started/#Data-containers-and-scientific-types-1)\n",
    "   - [Working with Categorical Data](https://alan-turing-institute.github.io/MLJ.jl/dev/working_with_categorical_data/)\n",
    "- [Summary](https://juliaai.github.io/ScientificTypes.jl/dev/#Summary-of-the-default-convention) of the MLJ convention for representing scientific types\n",
    "- [ScientificTypes.jl](https://juliaai.github.io/ScientificTypes.jl/dev/)\n",
    "- From Data Science Tutorials:\n",
    "    - [Data interpretation: Scientific Types](https://juliaai.github.io/DataScienceTutorials.jl/data/scitype/)\n",
    "    - [Horse colic data](https://juliaai.github.io/DataScienceTutorials.jl/end-to-end/horse/)\n",
    "- [UCI Horse Colic Data Set](http://archive.ics.uci.edu/ml/datasets/Horse+Colic)"
   ]
  },
  {
   "cell_type": "markdown",
   "id": "7b54f904",
   "metadata": {},
   "source": [
    "# 选择、训练和评估模型"
   ]
  },
  {
   "cell_type": "markdown",
   "id": "d4e221d8",
   "metadata": {},
   "source": [
    "这次，我们将从OpenML获取鸢尾花数据："
   ]
  },
  {
   "cell_type": "code",
   "execution_count": 16,
   "id": "dc36abe2",
   "metadata": {
    "ExecuteTime": {
     "end_time": "2022-07-15T10:04:43.502000+08:00",
     "start_time": "2022-07-15T02:04:43.500Z"
    }
   },
   "outputs": [],
   "source": [
    "using RDatasets"
   ]
  },
  {
   "cell_type": "code",
   "execution_count": 16,
   "id": "4d8d2c78",
   "metadata": {
    "ExecuteTime": {
     "end_time": "2022-06-08T17:24:54.107000+08:00",
     "start_time": "2022-06-08T09:24:51.426Z"
    }
   },
   "outputs": [
    {
     "data": {
      "text/html": [
       "<div class=\"data-frame\"><p>150 rows × 5 columns</p><table class=\"data-frame\"><thead><tr><th></th><th>SepalLength</th><th>SepalWidth</th><th>PetalLength</th><th>PetalWidth</th><th>Species</th></tr><tr><th></th><th title=\"Float64\">Float64</th><th title=\"Float64\">Float64</th><th title=\"Float64\">Float64</th><th title=\"Float64\">Float64</th><th title=\"CategoricalArrays.CategoricalValue{String, UInt8}\">Cat…</th></tr></thead><tbody><tr><th>1</th><td>5.1</td><td>3.5</td><td>1.4</td><td>0.2</td><td>setosa</td></tr><tr><th>2</th><td>4.9</td><td>3.0</td><td>1.4</td><td>0.2</td><td>setosa</td></tr><tr><th>3</th><td>4.7</td><td>3.2</td><td>1.3</td><td>0.2</td><td>setosa</td></tr><tr><th>4</th><td>4.6</td><td>3.1</td><td>1.5</td><td>0.2</td><td>setosa</td></tr><tr><th>5</th><td>5.0</td><td>3.6</td><td>1.4</td><td>0.2</td><td>setosa</td></tr><tr><th>6</th><td>5.4</td><td>3.9</td><td>1.7</td><td>0.4</td><td>setosa</td></tr><tr><th>7</th><td>4.6</td><td>3.4</td><td>1.4</td><td>0.3</td><td>setosa</td></tr><tr><th>8</th><td>5.0</td><td>3.4</td><td>1.5</td><td>0.2</td><td>setosa</td></tr><tr><th>9</th><td>4.4</td><td>2.9</td><td>1.4</td><td>0.2</td><td>setosa</td></tr><tr><th>10</th><td>4.9</td><td>3.1</td><td>1.5</td><td>0.1</td><td>setosa</td></tr><tr><th>11</th><td>5.4</td><td>3.7</td><td>1.5</td><td>0.2</td><td>setosa</td></tr><tr><th>12</th><td>4.8</td><td>3.4</td><td>1.6</td><td>0.2</td><td>setosa</td></tr><tr><th>13</th><td>4.8</td><td>3.0</td><td>1.4</td><td>0.1</td><td>setosa</td></tr><tr><th>14</th><td>4.3</td><td>3.0</td><td>1.1</td><td>0.1</td><td>setosa</td></tr><tr><th>15</th><td>5.8</td><td>4.0</td><td>1.2</td><td>0.2</td><td>setosa</td></tr><tr><th>16</th><td>5.7</td><td>4.4</td><td>1.5</td><td>0.4</td><td>setosa</td></tr><tr><th>17</th><td>5.4</td><td>3.9</td><td>1.3</td><td>0.4</td><td>setosa</td></tr><tr><th>18</th><td>5.1</td><td>3.5</td><td>1.4</td><td>0.3</td><td>setosa</td></tr><tr><th>19</th><td>5.7</td><td>3.8</td><td>1.7</td><td>0.3</td><td>setosa</td></tr><tr><th>20</th><td>5.1</td><td>3.8</td><td>1.5</td><td>0.3</td><td>setosa</td></tr><tr><th>21</th><td>5.4</td><td>3.4</td><td>1.7</td><td>0.2</td><td>setosa</td></tr><tr><th>22</th><td>5.1</td><td>3.7</td><td>1.5</td><td>0.4</td><td>setosa</td></tr><tr><th>23</th><td>4.6</td><td>3.6</td><td>1.0</td><td>0.2</td><td>setosa</td></tr><tr><th>24</th><td>5.1</td><td>3.3</td><td>1.7</td><td>0.5</td><td>setosa</td></tr><tr><th>25</th><td>4.8</td><td>3.4</td><td>1.9</td><td>0.2</td><td>setosa</td></tr><tr><th>26</th><td>5.0</td><td>3.0</td><td>1.6</td><td>0.2</td><td>setosa</td></tr><tr><th>27</th><td>5.0</td><td>3.4</td><td>1.6</td><td>0.4</td><td>setosa</td></tr><tr><th>28</th><td>5.2</td><td>3.5</td><td>1.5</td><td>0.2</td><td>setosa</td></tr><tr><th>29</th><td>5.2</td><td>3.4</td><td>1.4</td><td>0.2</td><td>setosa</td></tr><tr><th>30</th><td>4.7</td><td>3.2</td><td>1.6</td><td>0.2</td><td>setosa</td></tr><tr><th>&vellip;</th><td>&vellip;</td><td>&vellip;</td><td>&vellip;</td><td>&vellip;</td><td>&vellip;</td></tr></tbody></table></div>"
      ],
      "text/latex": [
       "\\begin{tabular}{r|ccccc}\n",
       "\t& SepalLength & SepalWidth & PetalLength & PetalWidth & Species\\\\\n",
       "\t\\hline\n",
       "\t& Float64 & Float64 & Float64 & Float64 & Cat…\\\\\n",
       "\t\\hline\n",
       "\t1 & 5.1 & 3.5 & 1.4 & 0.2 & setosa \\\\\n",
       "\t2 & 4.9 & 3.0 & 1.4 & 0.2 & setosa \\\\\n",
       "\t3 & 4.7 & 3.2 & 1.3 & 0.2 & setosa \\\\\n",
       "\t4 & 4.6 & 3.1 & 1.5 & 0.2 & setosa \\\\\n",
       "\t5 & 5.0 & 3.6 & 1.4 & 0.2 & setosa \\\\\n",
       "\t6 & 5.4 & 3.9 & 1.7 & 0.4 & setosa \\\\\n",
       "\t7 & 4.6 & 3.4 & 1.4 & 0.3 & setosa \\\\\n",
       "\t8 & 5.0 & 3.4 & 1.5 & 0.2 & setosa \\\\\n",
       "\t9 & 4.4 & 2.9 & 1.4 & 0.2 & setosa \\\\\n",
       "\t10 & 4.9 & 3.1 & 1.5 & 0.1 & setosa \\\\\n",
       "\t11 & 5.4 & 3.7 & 1.5 & 0.2 & setosa \\\\\n",
       "\t12 & 4.8 & 3.4 & 1.6 & 0.2 & setosa \\\\\n",
       "\t13 & 4.8 & 3.0 & 1.4 & 0.1 & setosa \\\\\n",
       "\t14 & 4.3 & 3.0 & 1.1 & 0.1 & setosa \\\\\n",
       "\t15 & 5.8 & 4.0 & 1.2 & 0.2 & setosa \\\\\n",
       "\t16 & 5.7 & 4.4 & 1.5 & 0.4 & setosa \\\\\n",
       "\t17 & 5.4 & 3.9 & 1.3 & 0.4 & setosa \\\\\n",
       "\t18 & 5.1 & 3.5 & 1.4 & 0.3 & setosa \\\\\n",
       "\t19 & 5.7 & 3.8 & 1.7 & 0.3 & setosa \\\\\n",
       "\t20 & 5.1 & 3.8 & 1.5 & 0.3 & setosa \\\\\n",
       "\t21 & 5.4 & 3.4 & 1.7 & 0.2 & setosa \\\\\n",
       "\t22 & 5.1 & 3.7 & 1.5 & 0.4 & setosa \\\\\n",
       "\t23 & 4.6 & 3.6 & 1.0 & 0.2 & setosa \\\\\n",
       "\t24 & 5.1 & 3.3 & 1.7 & 0.5 & setosa \\\\\n",
       "\t25 & 4.8 & 3.4 & 1.9 & 0.2 & setosa \\\\\n",
       "\t26 & 5.0 & 3.0 & 1.6 & 0.2 & setosa \\\\\n",
       "\t27 & 5.0 & 3.4 & 1.6 & 0.4 & setosa \\\\\n",
       "\t28 & 5.2 & 3.5 & 1.5 & 0.2 & setosa \\\\\n",
       "\t29 & 5.2 & 3.4 & 1.4 & 0.2 & setosa \\\\\n",
       "\t30 & 4.7 & 3.2 & 1.6 & 0.2 & setosa \\\\\n",
       "\t$\\dots$ & $\\dots$ & $\\dots$ & $\\dots$ & $\\dots$ & $\\dots$ \\\\\n",
       "\\end{tabular}\n"
      ],
      "text/plain": [
       "\u001b[1m150×5 DataFrame\u001b[0m\n",
       "\u001b[1m Row \u001b[0m│\u001b[1m SepalLength \u001b[0m\u001b[1m SepalWidth \u001b[0m\u001b[1m PetalLength \u001b[0m\u001b[1m PetalWidth \u001b[0m\u001b[1m Species   \u001b[0m\n",
       "\u001b[1m     \u001b[0m│\u001b[90m Float64     \u001b[0m\u001b[90m Float64    \u001b[0m\u001b[90m Float64     \u001b[0m\u001b[90m Float64    \u001b[0m\u001b[90m Cat…      \u001b[0m\n",
       "─────┼─────────────────────────────────────────────────────────────\n",
       "   1 │         5.1         3.5          1.4         0.2  setosa\n",
       "   2 │         4.9         3.0          1.4         0.2  setosa\n",
       "   3 │         4.7         3.2          1.3         0.2  setosa\n",
       "   4 │         4.6         3.1          1.5         0.2  setosa\n",
       "   5 │         5.0         3.6          1.4         0.2  setosa\n",
       "   6 │         5.4         3.9          1.7         0.4  setosa\n",
       "   7 │         4.6         3.4          1.4         0.3  setosa\n",
       "   8 │         5.0         3.4          1.5         0.2  setosa\n",
       "   9 │         4.4         2.9          1.4         0.2  setosa\n",
       "  10 │         4.9         3.1          1.5         0.1  setosa\n",
       "  11 │         5.4         3.7          1.5         0.2  setosa\n",
       "  ⋮  │      ⋮           ⋮            ⋮           ⋮           ⋮\n",
       " 141 │         6.7         3.1          5.6         2.4  virginica\n",
       " 142 │         6.9         3.1          5.1         2.3  virginica\n",
       " 143 │         5.8         2.7          5.1         1.9  virginica\n",
       " 144 │         6.8         3.2          5.9         2.3  virginica\n",
       " 145 │         6.7         3.3          5.7         2.5  virginica\n",
       " 146 │         6.7         3.0          5.2         2.3  virginica\n",
       " 147 │         6.3         2.5          5.0         1.9  virginica\n",
       " 148 │         6.5         3.0          5.2         2.0  virginica\n",
       " 149 │         6.2         3.4          5.4         2.3  virginica\n",
       " 150 │         5.9         3.0          5.1         1.8  virginica\n",
       "\u001b[36m                                                   129 rows omitted\u001b[0m"
      ]
     },
     "execution_count": 16,
     "metadata": {},
     "output_type": "execute_result"
    }
   ],
   "source": [
    "iris = dataset(\"datasets\",\"iris\")"
   ]
  },
  {
   "cell_type": "code",
   "execution_count": 23,
   "id": "7a7eafcf",
   "metadata": {
    "ExecuteTime": {
     "end_time": "2022-07-15T10:19:18.193000+08:00",
     "start_time": "2022-07-15T02:19:15.958Z"
    }
   },
   "outputs": [
    {
     "ename": "LoadError",
     "evalue": "Unable to locate dataset file D:\\TongYuan\\.julia\\packages\\RDatasets\\fNG6F\\src\\..\\data\\datasets\\hospital.rda or D:\\TongYuan\\.julia\\packages\\RDatasets\\fNG6F\\src\\..\\data\\datasets\\hospital.csv.gz",
     "output_type": "error",
     "traceback": [
      "Unable to locate dataset file D:\\TongYuan\\.julia\\packages\\RDatasets\\fNG6F\\src\\..\\data\\datasets\\hospital.rda or D:\\TongYuan\\.julia\\packages\\RDatasets\\fNG6F\\src\\..\\data\\datasets\\hospital.csv.gz",
      "",
      "Stacktrace:",
      " [1] error(s::String)",
      "   @ Base .\\error.jl:33",
      " [2] dataset(package_name::String, dataset_name::String)",
      "   @ RDatasets D:\\TongYuan\\.julia\\packages\\RDatasets\\fNG6F\\src\\dataset.jl:23",
      " [3] top-level scope",
      "   @ In[23]:1",
      " [4] eval",
      "   @ .\\boot.jl:373 [inlined]",
      " [5] include_string(mapexpr::typeof(REPL.softscope), mod::Module, code::String, filename::String)",
      "   @ Base .\\loading.jl:1196"
     ]
    }
   ],
   "source": [
    "dataset(\"datasets\",\"hospital\")"
   ]
  },
  {
   "cell_type": "code",
   "execution_count": 22,
   "id": "3d1a0105",
   "metadata": {
    "ExecuteTime": {
     "end_time": "2022-07-15T10:15:28.826000+08:00",
     "start_time": "2022-07-15T02:14:14.279Z"
    }
   },
   "outputs": [
    {
     "data": {
      "text/plain": [
       "4319-element Vector{String}:\n",
       " \"anneal\"\n",
       " \"kr-vs-kp\"\n",
       " \"labor\"\n",
       " \"arrhythmia\"\n",
       " \"letter\"\n",
       " \"audiology\"\n",
       " \"liver-disorders\"\n",
       " \"autos\"\n",
       " \"lymph\"\n",
       " \"balance-scale\"\n",
       " \"mfeat-factors\"\n",
       " \"breast-cancer\"\n",
       " \"mfeat-fourier\"\n",
       " ⋮\n",
       " \"Iris\"\n",
       " \"Brazilian_houses_reproduced\"\n",
       " \"vehicle_reproduced\"\n",
       " \"iris_reproduced\"\n",
       " \"credit-approval_reproduced\"\n",
       " \"electricity\"\n",
       " \"eye_movements\"\n",
       " \"KDDCup09_upselling\"\n",
       " \"covertype\"\n",
       " \"rl\"\n",
       " \"road-safety\"\n",
       " \"compass\""
      ]
     },
     "execution_count": 22,
     "metadata": {},
     "output_type": "execute_result"
    }
   ],
   "source": [
    "OpenML.list_datasets()[:name]"
   ]
  },
  {
   "cell_type": "code",
   "execution_count": 18,
   "id": "5b81358b",
   "metadata": {
    "ExecuteTime": {
     "end_time": "2022-07-15T10:06:31.978000+08:00",
     "start_time": "2022-07-15T02:06:30.567Z"
    }
   },
   "outputs": [
    {
     "data": {
      "text/latex": [
       "\\textbf{Author}: R.A. Fisher   \\textbf{Source}: \\href{https://archive.ics.uci.edu/ml/datasets/Iris}{UCI} - 1936 - Donated by Michael Marshall   \\textbf{Please cite}:   \n",
       "\n",
       "\\textbf{Iris Plants Database}   This is perhaps the best known database to be found in the pattern recognition literature.  Fisher's paper is a classic in the field and is referenced frequently to this day.  (See Duda \\& Hart, for example.)  The data set contains 3 classes of 50 instances each, where each class refers to a type of iris plant.  One class is     linearly separable from the other 2; the latter are NOT linearly separable from each other.\n",
       "\n",
       "Predicted attribute: class of iris plant.   This is an exceedingly simple domain.  \n",
       "\n",
       "\\subsubsection{Attribute Information:}\n",
       "\\begin{verbatim}\n",
       "1. sepal length in cm\n",
       "2. sepal width in cm\n",
       "3. petal length in cm\n",
       "4. petal width in cm\n",
       "5. class: \n",
       "   -- Iris Setosa\n",
       "   -- Iris Versicolour\n",
       "   -- Iris Virginica\n",
       "\\end{verbatim}\n"
      ],
      "text/markdown": [
       "**Author**: R.A. Fisher   **Source**: [UCI](https://archive.ics.uci.edu/ml/datasets/Iris) - 1936 - Donated by Michael Marshall   **Please cite**:   \n",
       "\n",
       "**Iris Plants Database**   This is perhaps the best known database to be found in the pattern recognition literature.  Fisher's paper is a classic in the field and is referenced frequently to this day.  (See Duda & Hart, for example.)  The data set contains 3 classes of 50 instances each, where each class refers to a type of iris plant.  One class is     linearly separable from the other 2; the latter are NOT linearly separable from each other.\n",
       "\n",
       "Predicted attribute: class of iris plant.   This is an exceedingly simple domain.  \n",
       "\n",
       "### Attribute Information:\n",
       "\n",
       "```\n",
       "1. sepal length in cm\n",
       "2. sepal width in cm\n",
       "3. petal length in cm\n",
       "4. petal width in cm\n",
       "5. class: \n",
       "   -- Iris Setosa\n",
       "   -- Iris Versicolour\n",
       "   -- Iris Virginica\n",
       "```\n"
      ],
      "text/plain": [
       "  \u001b[1mAuthor\u001b[22m: R.A. Fisher \u001b[1mSource\u001b[22m: UCI\n",
       "  (https://archive.ics.uci.edu/ml/datasets/Iris) - 1936 - Donated by Michael\n",
       "  Marshall \u001b[1mPlease cite\u001b[22m:\n",
       "\n",
       "  \u001b[1mIris Plants Database\u001b[22m This is perhaps the best known database to be found in\n",
       "  the pattern recognition literature. Fisher's paper is a classic in the field\n",
       "  and is referenced frequently to this day. (See Duda & Hart, for example.)\n",
       "  The data set contains 3 classes of 50 instances each, where each class\n",
       "  refers to a type of iris plant. One class is linearly separable from the\n",
       "  other 2; the latter are NOT linearly separable from each other.\n",
       "\n",
       "  Predicted attribute: class of iris plant. This is an exceedingly simple\n",
       "  domain.\n",
       "\n",
       "\u001b[1m  Attribute Information:\u001b[22m\n",
       "\u001b[1m  ––––––––––––––––––––––––\u001b[22m\n",
       "\n",
       "\u001b[36m  1. sepal length in cm\u001b[39m\n",
       "\u001b[36m  2. sepal width in cm\u001b[39m\n",
       "\u001b[36m  3. petal length in cm\u001b[39m\n",
       "\u001b[36m  4. petal width in cm\u001b[39m\n",
       "\u001b[36m  5. class: \u001b[39m\n",
       "\u001b[36m     -- Iris Setosa\u001b[39m\n",
       "\u001b[36m     -- Iris Versicolour\u001b[39m\n",
       "\u001b[36m     -- Iris Virginica\u001b[39m"
      ]
     },
     "execution_count": 18,
     "metadata": {},
     "output_type": "execute_result"
    }
   ],
   "source": [
    "OpenML.describe_dataset(61)"
   ]
  },
  {
   "cell_type": "code",
   "execution_count": 18,
   "id": "bf991d01",
   "metadata": {
    "ExecuteTime": {
     "end_time": "2022-06-08T17:25:30.523000+08:00",
     "start_time": "2022-06-08T09:25:30.433Z"
    }
   },
   "outputs": [
    {
     "data": {
      "text/html": [
       "<div class=\"data-frame\"><p>4 rows × 5 columns</p><table class=\"data-frame\"><thead><tr><th></th><th>SepalLength</th><th>SepalWidth</th><th>PetalLength</th><th>PetalWidth</th><th>Species</th></tr><tr><th></th><th title=\"Float64\">Float64</th><th title=\"Float64\">Float64</th><th title=\"Float64\">Float64</th><th title=\"Float64\">Float64</th><th title=\"CategoricalArrays.CategoricalValue{String, UInt8}\">Cat…</th></tr></thead><tbody><tr><th>1</th><td>5.1</td><td>3.5</td><td>1.4</td><td>0.2</td><td>setosa</td></tr><tr><th>2</th><td>4.9</td><td>3.0</td><td>1.4</td><td>0.2</td><td>setosa</td></tr><tr><th>3</th><td>4.7</td><td>3.2</td><td>1.3</td><td>0.2</td><td>setosa</td></tr><tr><th>4</th><td>4.6</td><td>3.1</td><td>1.5</td><td>0.2</td><td>setosa</td></tr></tbody></table></div>"
      ],
      "text/latex": [
       "\\begin{tabular}{r|ccccc}\n",
       "\t& SepalLength & SepalWidth & PetalLength & PetalWidth & Species\\\\\n",
       "\t\\hline\n",
       "\t& Float64 & Float64 & Float64 & Float64 & Cat…\\\\\n",
       "\t\\hline\n",
       "\t1 & 5.1 & 3.5 & 1.4 & 0.2 & setosa \\\\\n",
       "\t2 & 4.9 & 3.0 & 1.4 & 0.2 & setosa \\\\\n",
       "\t3 & 4.7 & 3.2 & 1.3 & 0.2 & setosa \\\\\n",
       "\t4 & 4.6 & 3.1 & 1.5 & 0.2 & setosa \\\\\n",
       "\\end{tabular}\n"
      ],
      "text/plain": [
       "\u001b[1m4×5 DataFrame\u001b[0m\n",
       "\u001b[1m Row \u001b[0m│\u001b[1m SepalLength \u001b[0m\u001b[1m SepalWidth \u001b[0m\u001b[1m PetalLength \u001b[0m\u001b[1m PetalWidth \u001b[0m\u001b[1m Species \u001b[0m\n",
       "\u001b[1m     \u001b[0m│\u001b[90m Float64     \u001b[0m\u001b[90m Float64    \u001b[0m\u001b[90m Float64     \u001b[0m\u001b[90m Float64    \u001b[0m\u001b[90m Cat…    \u001b[0m\n",
       "─────┼───────────────────────────────────────────────────────────\n",
       "   1 │         5.1         3.5          1.4         0.2  setosa\n",
       "   2 │         4.9         3.0          1.4         0.2  setosa\n",
       "   3 │         4.7         3.2          1.3         0.2  setosa\n",
       "   4 │         4.6         3.1          1.5         0.2  setosa"
      ]
     },
     "execution_count": 18,
     "metadata": {},
     "output_type": "execute_result"
    }
   ],
   "source": [
    "#iris = OpenML.load(61); # a row table\n",
    "iris = DataFrames.DataFrame(iris);\n",
    "first(iris, 4)"
   ]
  },
  {
   "cell_type": "markdown",
   "id": "fea8ba85",
   "metadata": {},
   "source": [
    "## 步骤1：确定“科学”类型"
   ]
  },
  {
   "cell_type": "code",
   "execution_count": 19,
   "id": "4a42f620",
   "metadata": {
    "ExecuteTime": {
     "end_time": "2022-06-08T17:25:38.118000+08:00",
     "start_time": "2022-06-08T09:25:35.594Z"
    }
   },
   "outputs": [
    {
     "data": {
      "text/plain": [
       "┌─────────────┬───────────────┬─────────────────────────────────┐\n",
       "│\u001b[22m names       \u001b[0m│\u001b[22m scitypes      \u001b[0m│\u001b[22m types                           \u001b[0m│\n",
       "├─────────────┼───────────────┼─────────────────────────────────┤\n",
       "│ SepalLength │ Continuous    │ Float64                         │\n",
       "│ SepalWidth  │ Continuous    │ Float64                         │\n",
       "│ PetalLength │ Continuous    │ Float64                         │\n",
       "│ PetalWidth  │ Continuous    │ Float64                         │\n",
       "│ Species     │ Multiclass{3} │ CategoricalValue{String, UInt8} │\n",
       "└─────────────┴───────────────┴─────────────────────────────────┘\n"
      ]
     },
     "execution_count": 19,
     "metadata": {},
     "output_type": "execute_result"
    }
   ],
   "source": [
    "schema(iris)"
   ]
  },
  {
   "cell_type": "markdown",
   "id": "7aa5343d",
   "metadata": {},
   "source": [
    "## 步骤2：划分数据"
   ]
  },
  {
   "cell_type": "markdown",
   "id": "1461ef16",
   "metadata": {},
   "source": [
    "以下是我们如何将数据分割为目标和输入特征，这是MLJ监督模型所需的。我们同时随机化数据："
   ]
  },
  {
   "cell_type": "code",
   "execution_count": 20,
   "id": "72bee537",
   "metadata": {
    "ExecuteTime": {
     "end_time": "2022-06-08T17:26:15.412000+08:00",
     "start_time": "2022-06-08T09:26:14.290Z"
    }
   },
   "outputs": [
    {
     "data": {
      "text/plain": [
       "Table{Union{}}"
      ]
     },
     "execution_count": 20,
     "metadata": {},
     "output_type": "execute_result"
    }
   ],
   "source": [
    "y, X = unpack(iris, ==(:class), name->true; rng=123);\n",
    "scitype(y)"
   ]
  },
  {
   "cell_type": "markdown",
   "id": "60780997",
   "metadata": {},
   "source": [
    "这里有一种访问文档的方法"
   ]
  },
  {
   "cell_type": "code",
   "execution_count": 21,
   "id": "1e3c7cab",
   "metadata": {
    "ExecuteTime": {
     "end_time": "2022-06-08T17:26:18.964000+08:00",
     "start_time": "2022-06-08T09:26:18.317Z"
    }
   },
   "outputs": [
    {
     "data": {
      "text/latex": [
       "\\begin{verbatim}\n",
       "unpack(table, f1, f2, ... fk;\n",
       "       wrap_singles=false,\n",
       "       shuffle=false,\n",
       "       rng::Union{AbstractRNG,Int,Nothing}=nothing,\n",
       "       coerce_options...)\n",
       "\\end{verbatim}\n",
       "Horizontally split any Tables.jl compatible \\texttt{table} into smaller tables or vectors by making column selections determined by the predicates \\texttt{f1}, \\texttt{f2}, ..., \\texttt{fk}. Selection from the column names is without replacement. A \\emph{predicate} is any object \\texttt{f} such that \\texttt{f(name)} is \\texttt{true} or \\texttt{false} for each column \\texttt{name::Symbol} of \\texttt{table}.\n",
       "\n",
       "Returns a tuple of tables/vectors with length one greater than the number of supplied predicates, with the last component including all previously unselected columns.\n",
       "\n",
       "\\begin{verbatim}\n",
       "julia> table = DataFrame(x=[1,2], y=['a', 'b'], z=[10.0, 20.0], w=[\"A\", \"B\"])\n",
       "2×4 DataFrame\n",
       " Row │ x      y     z        w\n",
       "     │ Int64  Char  Float64  String\n",
       "─────┼──────────────────────────────\n",
       "   1 │     1  a        10.0  A\n",
       "   2 │     2  b        20.0  B\n",
       "\n",
       "Z, XY, W = unpack(table, ==(:z), !=(:w))\n",
       "julia> Z\n",
       "2-element Vector{Float64}:\n",
       " 10.0\n",
       " 20.0\n",
       "\n",
       "julia> XY\n",
       "2×2 DataFrame\n",
       " Row │ x      y\n",
       "     │ Int64  Char\n",
       "─────┼─────────────\n",
       "   1 │     1  a\n",
       "   2 │     2  b\n",
       "\n",
       "julia> W  # the column(s) left over\n",
       "2-element Vector{String}:\n",
       " \"A\"\n",
       " \"B\"\n",
       "\\end{verbatim}\n",
       "Whenever a returned table contains a single column, it is converted to a vector unless \\texttt{wrap\\_singles=true}.\n",
       "\n",
       "If \\texttt{coerce\\_options} are specified then \\texttt{table} is first replaced with \\texttt{coerce(table, coerce\\_options)}. See \\href{@ref}{\\texttt{ScientificTypes.coerce}} for details.\n",
       "\n",
       "If \\texttt{shuffle=true} then the rows of \\texttt{table} are first shuffled, using the global RNG, unless \\texttt{rng} is specified; if \\texttt{rng} is an integer, it specifies the seed of an automatically generated Mersenne twister. If \\texttt{rng} is specified then \\texttt{shuffle=true} is implicit.\n",
       "\n"
      ],
      "text/markdown": [
       "```\n",
       "unpack(table, f1, f2, ... fk;\n",
       "       wrap_singles=false,\n",
       "       shuffle=false,\n",
       "       rng::Union{AbstractRNG,Int,Nothing}=nothing,\n",
       "       coerce_options...)\n",
       "```\n",
       "\n",
       "Horizontally split any Tables.jl compatible `table` into smaller tables or vectors by making column selections determined by the predicates `f1`, `f2`, ..., `fk`. Selection from the column names is without replacement. A *predicate* is any object `f` such that `f(name)` is `true` or `false` for each column `name::Symbol` of `table`.\n",
       "\n",
       "Returns a tuple of tables/vectors with length one greater than the number of supplied predicates, with the last component including all previously unselected columns.\n",
       "\n",
       "```\n",
       "julia> table = DataFrame(x=[1,2], y=['a', 'b'], z=[10.0, 20.0], w=[\"A\", \"B\"])\n",
       "2×4 DataFrame\n",
       " Row │ x      y     z        w\n",
       "     │ Int64  Char  Float64  String\n",
       "─────┼──────────────────────────────\n",
       "   1 │     1  a        10.0  A\n",
       "   2 │     2  b        20.0  B\n",
       "\n",
       "Z, XY, W = unpack(table, ==(:z), !=(:w))\n",
       "julia> Z\n",
       "2-element Vector{Float64}:\n",
       " 10.0\n",
       " 20.0\n",
       "\n",
       "julia> XY\n",
       "2×2 DataFrame\n",
       " Row │ x      y\n",
       "     │ Int64  Char\n",
       "─────┼─────────────\n",
       "   1 │     1  a\n",
       "   2 │     2  b\n",
       "\n",
       "julia> W  # the column(s) left over\n",
       "2-element Vector{String}:\n",
       " \"A\"\n",
       " \"B\"\n",
       "```\n",
       "\n",
       "Whenever a returned table contains a single column, it is converted to a vector unless `wrap_singles=true`.\n",
       "\n",
       "If `coerce_options` are specified then `table` is first replaced with `coerce(table, coerce_options)`. See [`ScientificTypes.coerce`](@ref) for details.\n",
       "\n",
       "If `shuffle=true` then the rows of `table` are first shuffled, using the global RNG, unless `rng` is specified; if `rng` is an integer, it specifies the seed of an automatically generated Mersenne twister. If `rng` is specified then `shuffle=true` is implicit.\n"
      ],
      "text/plain": [
       "\u001b[36m  unpack(table, f1, f2, ... fk;\u001b[39m\n",
       "\u001b[36m         wrap_singles=false,\u001b[39m\n",
       "\u001b[36m         shuffle=false,\u001b[39m\n",
       "\u001b[36m         rng::Union{AbstractRNG,Int,Nothing}=nothing,\u001b[39m\n",
       "\u001b[36m         coerce_options...)\u001b[39m\n",
       "\n",
       "  Horizontally split any Tables.jl compatible \u001b[36mtable\u001b[39m into smaller tables or\n",
       "  vectors by making column selections determined by the predicates \u001b[36mf1\u001b[39m, \u001b[36mf2\u001b[39m,\n",
       "  ..., \u001b[36mfk\u001b[39m. Selection from the column names is without replacement. A \u001b[4mpredicate\u001b[24m\n",
       "  is any object \u001b[36mf\u001b[39m such that \u001b[36mf(name)\u001b[39m is \u001b[36mtrue\u001b[39m or \u001b[36mfalse\u001b[39m for each column\n",
       "  \u001b[36mname::Symbol\u001b[39m of \u001b[36mtable\u001b[39m.\n",
       "\n",
       "  Returns a tuple of tables/vectors with length one greater than the number of\n",
       "  supplied predicates, with the last component including all previously\n",
       "  unselected columns.\n",
       "\n",
       "\u001b[36m  julia> table = DataFrame(x=[1,2], y=['a', 'b'], z=[10.0, 20.0], w=[\"A\", \"B\"])\u001b[39m\n",
       "\u001b[36m  2×4 DataFrame\u001b[39m\n",
       "\u001b[36m   Row │ x      y     z        w\u001b[39m\n",
       "\u001b[36m       │ Int64  Char  Float64  String\u001b[39m\n",
       "\u001b[36m  ─────┼──────────────────────────────\u001b[39m\n",
       "\u001b[36m     1 │     1  a        10.0  A\u001b[39m\n",
       "\u001b[36m     2 │     2  b        20.0  B\u001b[39m\n",
       "\u001b[36m  \u001b[39m\n",
       "\u001b[36m  Z, XY, W = unpack(table, ==(:z), !=(:w))\u001b[39m\n",
       "\u001b[36m  julia> Z\u001b[39m\n",
       "\u001b[36m  2-element Vector{Float64}:\u001b[39m\n",
       "\u001b[36m   10.0\u001b[39m\n",
       "\u001b[36m   20.0\u001b[39m\n",
       "\u001b[36m  \u001b[39m\n",
       "\u001b[36m  julia> XY\u001b[39m\n",
       "\u001b[36m  2×2 DataFrame\u001b[39m\n",
       "\u001b[36m   Row │ x      y\u001b[39m\n",
       "\u001b[36m       │ Int64  Char\u001b[39m\n",
       "\u001b[36m  ─────┼─────────────\u001b[39m\n",
       "\u001b[36m     1 │     1  a\u001b[39m\n",
       "\u001b[36m     2 │     2  b\u001b[39m\n",
       "\u001b[36m  \u001b[39m\n",
       "\u001b[36m  julia> W  # the column(s) left over\u001b[39m\n",
       "\u001b[36m  2-element Vector{String}:\u001b[39m\n",
       "\u001b[36m   \"A\"\u001b[39m\n",
       "\u001b[36m   \"B\"\u001b[39m\n",
       "\n",
       "  Whenever a returned table contains a single column, it is converted to a\n",
       "  vector unless \u001b[36mwrap_singles=true\u001b[39m.\n",
       "\n",
       "  If \u001b[36mcoerce_options\u001b[39m are specified then \u001b[36mtable\u001b[39m is first replaced with\n",
       "  \u001b[36mcoerce(table, coerce_options)\u001b[39m. See \u001b[36mScientificTypes.coerce\u001b[39m for details.\n",
       "\n",
       "  If \u001b[36mshuffle=true\u001b[39m then the rows of \u001b[36mtable\u001b[39m are first shuffled, using the global\n",
       "  RNG, unless \u001b[36mrng\u001b[39m is specified; if \u001b[36mrng\u001b[39m is an integer, it specifies the seed of\n",
       "  an automatically generated Mersenne twister. If \u001b[36mrng\u001b[39m is specified then\n",
       "  \u001b[36mshuffle=true\u001b[39m is implicit."
      ]
     },
     "execution_count": 21,
     "metadata": {},
     "output_type": "execute_result"
    }
   ],
   "source": [
    "@doc unpack"
   ]
  },
  {
   "cell_type": "markdown",
   "id": "d7236ac5",
   "metadata": {},
   "source": [
    "## 如何寻找模型？"
   ]
  },
  {
   "cell_type": "markdown",
   "id": "53aeb1fe",
   "metadata": {},
   "source": [
    "以下是如何查看所有模型"
   ]
  },
  {
   "cell_type": "code",
   "execution_count": 23,
   "id": "0b678c47",
   "metadata": {
    "ExecuteTime": {
     "end_time": "2022-06-08T17:26:53.295000+08:00",
     "start_time": "2022-06-08T09:26:35.673Z"
    }
   },
   "outputs": [
    {
     "data": {
      "text/plain": [
       "187-element Vector{NamedTuple{(:name, :package_name, :is_supervised, :abstract_type, :deep_properties, :docstring, :fit_data_scitype, :human_name, :hyperparameter_ranges, :hyperparameter_types, :hyperparameters, :implemented_methods, :inverse_transform_scitype, :is_pure_julia, :is_wrapper, :iteration_parameter, :load_path, :package_license, :package_url, :package_uuid, :predict_scitype, :prediction_type, :supports_class_weights, :supports_online, :supports_training_losses, :supports_weights, :transform_scitype, :input_scitype, :target_scitype, :output_scitype)}}:\n",
       " (name = ABODDetector, package_name = OutlierDetectionNeighbors, ... )\n",
       " (name = ABODDetector, package_name = OutlierDetectionPython, ... )\n",
       " (name = AEDetector, package_name = OutlierDetectionNetworks, ... )\n",
       " (name = ARDRegressor, package_name = ScikitLearn, ... )\n",
       " (name = AdaBoostClassifier, package_name = ScikitLearn, ... )\n",
       " (name = AdaBoostRegressor, package_name = ScikitLearn, ... )\n",
       " (name = AdaBoostStumpClassifier, package_name = DecisionTree, ... )\n",
       " (name = AffinityPropagation, package_name = ScikitLearn, ... )\n",
       " (name = AgglomerativeClustering, package_name = ScikitLearn, ... )\n",
       " (name = BM25Transformer, package_name = MLJText, ... )\n",
       " (name = BaggingClassifier, package_name = ScikitLearn, ... )\n",
       " (name = BaggingRegressor, package_name = ScikitLearn, ... )\n",
       " (name = BayesianLDA, package_name = MultivariateStats, ... )\n",
       " ⋮\n",
       " (name = SubspaceLDA, package_name = MultivariateStats, ... )\n",
       " (name = TSVDTransformer, package_name = TSVD, ... )\n",
       " (name = TfidfTransformer, package_name = MLJText, ... )\n",
       " (name = TheilSenRegressor, package_name = ScikitLearn, ... )\n",
       " (name = UnivariateBoxCoxTransformer, package_name = MLJModels, ... )\n",
       " (name = UnivariateDiscretizer, package_name = MLJModels, ... )\n",
       " (name = UnivariateFillImputer, package_name = MLJModels, ... )\n",
       " (name = UnivariateStandardizer, package_name = MLJModels, ... )\n",
       " (name = UnivariateTimeTypeToContinuous, package_name = MLJModels, ... )\n",
       " (name = XGBoostClassifier, package_name = XGBoost, ... )\n",
       " (name = XGBoostCount, package_name = XGBoost, ... )\n",
       " (name = XGBoostRegressor, package_name = XGBoost, ... )"
      ]
     },
     "execution_count": 23,
     "metadata": {},
     "output_type": "execute_result"
    }
   ],
   "source": [
    "all_models = models()"
   ]
  },
  {
   "cell_type": "markdown",
   "id": "96bed950",
   "metadata": {},
   "source": [
    "每个条目都包含尚未加载定义代码的模型的元数据："
   ]
  },
  {
   "cell_type": "code",
   "execution_count": 24,
   "id": "4d32f749",
   "metadata": {
    "ExecuteTime": {
     "end_time": "2022-06-08T17:26:56.587000+08:00",
     "start_time": "2022-06-08T09:26:56.264Z"
    }
   },
   "outputs": [
    {
     "data": {
      "text/plain": [
       "(name = \"AEDetector\",\n",
       " package_name = \"OutlierDetectionNetworks\",\n",
       " is_supervised = false,\n",
       " abstract_type = UnsupervisedDetector,\n",
       " deep_properties = (),\n",
       " docstring = \"```\\nAEDetector(encoder= Chain(),\\n           decode...\",\n",
       " fit_data_scitype =\n",
       "     Union{Tuple{Union{Table{<:AbstractVector{<:Continuous}}, AbstractMatrix{<:Continuous}}}, Tuple{Union{Table{<:AbstractVector{<:Continuous}}, AbstractMatrix{<:Continuous}}, AbstractVector{<:OrderedFactor{2}}}},\n",
       " human_name = \"ae detector\",\n",
       " hyperparameter_ranges =\n",
       "     (nothing, nothing, nothing, nothing, nothing, nothing, nothing, nothing),\n",
       " hyperparameter_types = (\"Flux.Chain\",\n",
       "                         \"Flux.Chain\",\n",
       "                         \"Integer\",\n",
       "                         \"Integer\",\n",
       "                         \"Bool\",\n",
       "                         \"Bool\",\n",
       "                         \"Any\",\n",
       "                         \"Function\"),\n",
       " hyperparameters =\n",
       "     (:encoder, :decoder, :batchsize, :epochs, :shuffle, :partial, :opt, :loss),\n",
       " implemented_methods = [:clean!, :fit, :reformat, :selectrows, :transform],\n",
       " inverse_transform_scitype = Unknown,\n",
       " is_pure_julia = true,\n",
       " is_wrapper = false,\n",
       " iteration_parameter = nothing,\n",
       " load_path = \"OutlierDetectionNetworks.AEDetector\",\n",
       " package_license = \"MIT\",\n",
       " package_url =\n",
       "     \"https://github.com/OutlierDetectionJL/OutlierDetectionNetworks.jl\",\n",
       " package_uuid = \"c7f57e37-4fcb-4a0b-a36c-c2204bc839a7\",\n",
       " predict_scitype = Unknown,\n",
       " prediction_type = :unknown,\n",
       " supports_class_weights = false,\n",
       " supports_online = false,\n",
       " supports_training_losses = false,\n",
       " supports_weights = false,\n",
       " transform_scitype = AbstractVector{<:Continuous},\n",
       " input_scitype =\n",
       "     Union{Table{<:AbstractVector{<:Continuous}}, AbstractMatrix{<:Continuous}},\n",
       " target_scitype = AbstractVector{<:OrderedFactor{2}},\n",
       " output_scitype = AbstractVector{<:Continuous})"
      ]
     },
     "execution_count": 24,
     "metadata": {},
     "output_type": "execute_result"
    }
   ],
   "source": [
    "meta = all_models[3]"
   ]
  },
  {
   "cell_type": "code",
   "execution_count": 25,
   "id": "bb8f9ad5",
   "metadata": {
    "ExecuteTime": {
     "end_time": "2022-06-08T17:27:00.343000+08:00",
     "start_time": "2022-06-08T09:27:00.254Z"
    }
   },
   "outputs": [
    {
     "data": {
      "text/plain": [
       "AbstractVector{<:OrderedFactor{2}} (alias for AbstractArray{<:OrderedFactor{2}, 1})"
      ]
     },
     "execution_count": 25,
     "metadata": {},
     "output_type": "execute_result"
    }
   ],
   "source": [
    "targetscitype = meta.target_scitype"
   ]
  },
  {
   "cell_type": "code",
   "execution_count": 26,
   "id": "79115b82",
   "metadata": {
    "ExecuteTime": {
     "end_time": "2022-06-08T17:27:01.512000+08:00",
     "start_time": "2022-06-08T09:27:01.330Z"
    }
   },
   "outputs": [
    {
     "data": {
      "text/plain": [
       "false"
      ]
     },
     "execution_count": 26,
     "metadata": {},
     "output_type": "execute_result"
    }
   ],
   "source": [
    "scitype(y) <: targetscitype"
   ]
  },
  {
   "cell_type": "markdown",
   "id": "7f6fa61a",
   "metadata": {},
   "source": [
    "让我们找到所有julia分类器："
   ]
  },
  {
   "cell_type": "code",
   "execution_count": 27,
   "id": "d8138de4",
   "metadata": {
    "ExecuteTime": {
     "end_time": "2022-06-08T17:27:06.311000+08:00",
     "start_time": "2022-06-08T09:27:04.129Z"
    }
   },
   "outputs": [
    {
     "data": {
      "text/plain": [
       "22-element Vector{NamedTuple{(:name, :package_name, :is_supervised, :abstract_type, :deep_properties, :docstring, :fit_data_scitype, :human_name, :hyperparameter_ranges, :hyperparameter_types, :hyperparameters, :implemented_methods, :inverse_transform_scitype, :is_pure_julia, :is_wrapper, :iteration_parameter, :load_path, :package_license, :package_url, :package_uuid, :predict_scitype, :prediction_type, :supports_class_weights, :supports_online, :supports_training_losses, :supports_weights, :transform_scitype, :input_scitype, :target_scitype, :output_scitype)}}:\n",
       " (name = AdaBoostStumpClassifier, package_name = DecisionTree, ... )\n",
       " (name = BayesianLDA, package_name = MultivariateStats, ... )\n",
       " (name = BayesianSubspaceLDA, package_name = MultivariateStats, ... )\n",
       " (name = ConstantClassifier, package_name = MLJModels, ... )\n",
       " (name = DecisionTreeClassifier, package_name = BetaML, ... )\n",
       " (name = DecisionTreeClassifier, package_name = DecisionTree, ... )\n",
       " (name = DeterministicConstantClassifier, package_name = MLJModels, ... )\n",
       " (name = EvoTreeClassifier, package_name = EvoTrees, ... )\n",
       " (name = GaussianNBClassifier, package_name = NaiveBayes, ... )\n",
       " (name = KNNClassifier, package_name = NearestNeighborModels, ... )\n",
       " (name = KernelPerceptronClassifier, package_name = BetaML, ... )\n",
       " (name = LDA, package_name = MultivariateStats, ... )\n",
       " (name = LogisticClassifier, package_name = MLJLinearModels, ... )\n",
       " (name = MultinomialClassifier, package_name = MLJLinearModels, ... )\n",
       " (name = MultinomialNBClassifier, package_name = NaiveBayes, ... )\n",
       " (name = NeuralNetworkClassifier, package_name = MLJFlux, ... )\n",
       " (name = OneRuleClassifier, package_name = OneRule, ... )\n",
       " (name = PegasosClassifier, package_name = BetaML, ... )\n",
       " (name = PerceptronClassifier, package_name = BetaML, ... )\n",
       " (name = RandomForestClassifier, package_name = BetaML, ... )\n",
       " (name = RandomForestClassifier, package_name = DecisionTree, ... )\n",
       " (name = SubspaceLDA, package_name = MultivariateStats, ... )"
      ]
     },
     "execution_count": 27,
     "metadata": {},
     "output_type": "execute_result"
    }
   ],
   "source": [
    "filter_julia_classifiers(meta) =\n",
    "    AbstractVector{Finite} <: meta.target_scitype &&\n",
    "    meta.is_pure_julia\n",
    "\n",
    "models(filter_julia_classifiers)"
   ]
  },
  {
   "cell_type": "markdown",
   "id": "dd8f3113",
   "metadata": {},
   "source": [
    "查找名称中包含“分类器”的所有模型："
   ]
  },
  {
   "cell_type": "code",
   "execution_count": 28,
   "id": "a32ce9e1",
   "metadata": {
    "ExecuteTime": {
     "end_time": "2022-06-08T17:27:14.459000+08:00",
     "start_time": "2022-06-08T09:27:11.320Z"
    }
   },
   "outputs": [
    {
     "data": {
      "text/plain": [
       "46-element Vector{NamedTuple{(:name, :package_name, :is_supervised, :abstract_type, :deep_properties, :docstring, :fit_data_scitype, :human_name, :hyperparameter_ranges, :hyperparameter_types, :hyperparameters, :implemented_methods, :inverse_transform_scitype, :is_pure_julia, :is_wrapper, :iteration_parameter, :load_path, :package_license, :package_url, :package_uuid, :predict_scitype, :prediction_type, :supports_class_weights, :supports_online, :supports_training_losses, :supports_weights, :transform_scitype, :input_scitype, :target_scitype, :output_scitype)}}:\n",
       " (name = AdaBoostClassifier, package_name = ScikitLearn, ... )\n",
       " (name = AdaBoostStumpClassifier, package_name = DecisionTree, ... )\n",
       " (name = BaggingClassifier, package_name = ScikitLearn, ... )\n",
       " (name = BernoulliNBClassifier, package_name = ScikitLearn, ... )\n",
       " (name = ComplementNBClassifier, package_name = ScikitLearn, ... )\n",
       " (name = ConstantClassifier, package_name = MLJModels, ... )\n",
       " (name = DecisionTreeClassifier, package_name = BetaML, ... )\n",
       " (name = DecisionTreeClassifier, package_name = DecisionTree, ... )\n",
       " (name = DeterministicConstantClassifier, package_name = MLJModels, ... )\n",
       " (name = DummyClassifier, package_name = ScikitLearn, ... )\n",
       " (name = EvoTreeClassifier, package_name = EvoTrees, ... )\n",
       " (name = ExtraTreesClassifier, package_name = ScikitLearn, ... )\n",
       " (name = GaussianNBClassifier, package_name = NaiveBayes, ... )\n",
       " ⋮\n",
       " (name = PerceptronClassifier, package_name = ScikitLearn, ... )\n",
       " (name = ProbabilisticSGDClassifier, package_name = ScikitLearn, ... )\n",
       " (name = RandomForestClassifier, package_name = BetaML, ... )\n",
       " (name = RandomForestClassifier, package_name = DecisionTree, ... )\n",
       " (name = RandomForestClassifier, package_name = ScikitLearn, ... )\n",
       " (name = RidgeCVClassifier, package_name = ScikitLearn, ... )\n",
       " (name = RidgeClassifier, package_name = ScikitLearn, ... )\n",
       " (name = SGDClassifier, package_name = ScikitLearn, ... )\n",
       " (name = SVMClassifier, package_name = ScikitLearn, ... )\n",
       " (name = SVMLinearClassifier, package_name = ScikitLearn, ... )\n",
       " (name = SVMNuClassifier, package_name = ScikitLearn, ... )\n",
       " (name = XGBoostClassifier, package_name = XGBoost, ... )"
      ]
     },
     "execution_count": 28,
     "metadata": {},
     "output_type": "execute_result"
    }
   ],
   "source": [
    "models(\"Classifier\")"
   ]
  },
  {
   "cell_type": "markdown",
   "id": "b7df69c3",
   "metadata": {},
   "source": [
    "查找与数据匹配的所有（监督的）模型！"
   ]
  },
  {
   "cell_type": "code",
   "execution_count": 29,
   "id": "4ad97255",
   "metadata": {
    "ExecuteTime": {
     "end_time": "2022-06-08T17:27:17.640000+08:00",
     "start_time": "2022-06-08T09:27:16.862Z"
    }
   },
   "outputs": [
    {
     "data": {
      "text/plain": [
       "NamedTuple{(:name, :package_name, :is_supervised, :abstract_type, :deep_properties, :docstring, :fit_data_scitype, :human_name, :hyperparameter_ranges, :hyperparameter_types, :hyperparameters, :implemented_methods, :inverse_transform_scitype, :is_pure_julia, :is_wrapper, :iteration_parameter, :load_path, :package_license, :package_url, :package_uuid, :predict_scitype, :prediction_type, :supports_class_weights, :supports_online, :supports_training_losses, :supports_weights, :transform_scitype, :input_scitype, :target_scitype, :output_scitype)}[]"
      ]
     },
     "execution_count": 29,
     "metadata": {},
     "output_type": "execute_result"
    }
   ],
   "source": [
    "models(matching(X, y))"
   ]
  },
  {
   "cell_type": "markdown",
   "id": "c863a410",
   "metadata": {},
   "source": [
    "## 步骤3：选择并实例化模型"
   ]
  },
  {
   "cell_type": "markdown",
   "id": "24a03bd9",
   "metadata": {},
   "source": [
    "要加载定义新模型类型的代码，我们使用@load宏："
   ]
  },
  {
   "cell_type": "code",
   "execution_count": 30,
   "id": "b4768817",
   "metadata": {
    "ExecuteTime": {
     "end_time": "2022-06-08T17:27:31.092000+08:00",
     "start_time": "2022-06-08T09:27:23.863Z"
    }
   },
   "outputs": [
    {
     "name": "stdout",
     "output_type": "stream",
     "text": [
      "import MLJFlux ✔\n"
     ]
    },
    {
     "name": "stderr",
     "output_type": "stream",
     "text": [
      "┌ Info: For silent loading, specify `verbosity=0`. \n",
      "└ @ Main D:\\TongYuan\\.julia\\packages\\MLJModels\\lDzCR\\src\\loading.jl:168\n"
     ]
    },
    {
     "data": {
      "text/plain": [
       "MLJFlux.NeuralNetworkClassifier"
      ]
     },
     "execution_count": 30,
     "metadata": {},
     "output_type": "execute_result"
    }
   ],
   "source": [
    "NeuralNetworkClassifier = @load NeuralNetworkClassifier"
   ]
  },
  {
   "cell_type": "markdown",
   "id": "eb5b7011",
   "metadata": {},
   "source": [
    "我们将使用超参数的默认值实例化此模型："
   ]
  },
  {
   "cell_type": "code",
   "execution_count": 31,
   "id": "0f5d5568",
   "metadata": {
    "ExecuteTime": {
     "end_time": "2022-06-08T17:28:08.498000+08:00",
     "start_time": "2022-06-08T09:28:06.985Z"
    }
   },
   "outputs": [
    {
     "data": {
      "text/plain": [
       "NeuralNetworkClassifier(\n",
       "    builder = Short(\n",
       "            n_hidden = 0,\n",
       "            dropout = 0.5,\n",
       "            σ = NNlib.σ),\n",
       "    finaliser = NNlib.softmax,\n",
       "    optimiser = Flux.Optimise.ADAM(0.001, (0.9, 0.999), 1.0e-8, IdDict{Any, Any}()),\n",
       "    loss = Flux.Losses.crossentropy,\n",
       "    epochs = 10,\n",
       "    batch_size = 1,\n",
       "    lambda = 0.0,\n",
       "    alpha = 0.0,\n",
       "    rng = Random._GLOBAL_RNG(),\n",
       "    optimiser_changes_trigger_retraining = false,\n",
       "    acceleration = CPU1{Nothing}(nothing))"
      ]
     },
     "execution_count": 31,
     "metadata": {},
     "output_type": "execute_result"
    }
   ],
   "source": [
    "model = NeuralNetworkClassifier()"
   ]
  },
  {
   "cell_type": "code",
   "execution_count": 32,
   "id": "e9d15cbd",
   "metadata": {
    "ExecuteTime": {
     "end_time": "2022-06-08T17:28:56.137000+08:00",
     "start_time": "2022-06-08T09:28:10.251Z"
    }
   },
   "outputs": [
    {
     "data": {
      "text/plain": [
       "(name = \"NeuralNetworkClassifier\",\n",
       " package_name = \"MLJFlux\",\n",
       " is_supervised = true,\n",
       " abstract_type = Probabilistic,\n",
       " deep_properties = (:optimiser, :builder),\n",
       " docstring = \"A neural network model for making probabilistic pr...\",\n",
       " fit_data_scitype =\n",
       "     Tuple{Table{<:AbstractVector{<:Continuous}}, AbstractVector{<:Finite}},\n",
       " human_name = \"neural network classifier\",\n",
       " hyperparameter_ranges = (nothing,\n",
       "                          nothing,\n",
       "                          nothing,\n",
       "                          nothing,\n",
       "                          nothing,\n",
       "                          nothing,\n",
       "                          nothing,\n",
       "                          nothing,\n",
       "                          nothing,\n",
       "                          nothing,\n",
       "                          nothing),\n",
       " hyperparameter_types = (\"MLJFlux.Short\",\n",
       "                         \"typeof(NNlib.softmax)\",\n",
       "                         \"Flux.Optimise.ADAM\",\n",
       "                         \"typeof(Flux.Losses.crossentropy)\",\n",
       "                         \"Int64\",\n",
       "                         \"Int64\",\n",
       "                         \"Float64\",\n",
       "                         \"Float64\",\n",
       "                         \"Union{Int64, Random.AbstractRNG}\",\n",
       "                         \"Bool\",\n",
       "                         \"ComputationalResources.AbstractResource\"),\n",
       " hyperparameters = (:builder,\n",
       "                    :finaliser,\n",
       "                    :optimiser,\n",
       "                    :loss,\n",
       "                    :epochs,\n",
       "                    :batch_size,\n",
       "                    :lambda,\n",
       "                    :alpha,\n",
       "                    :rng,\n",
       "                    :optimiser_changes_trigger_retraining,\n",
       "                    :acceleration),\n",
       " implemented_methods = [],\n",
       " inverse_transform_scitype = Unknown,\n",
       " is_pure_julia = true,\n",
       " is_wrapper = false,\n",
       " iteration_parameter = :epochs,\n",
       " load_path = \"MLJFlux.NeuralNetworkClassifier\",\n",
       " package_license = \"MIT\",\n",
       " package_url = \"https://github.com/alan-turing-institute/MLJFlux.jl\",\n",
       " package_uuid = \"094fc8d1-fd35-5302-93ea-dabda2abf845\",\n",
       " predict_scitype = AbstractVector{Density{_s25} where _s25<:Finite},\n",
       " prediction_type = :probabilistic,\n",
       " supports_class_weights = false,\n",
       " supports_online = false,\n",
       " supports_training_losses = true,\n",
       " supports_weights = false,\n",
       " transform_scitype = Unknown,\n",
       " input_scitype = Table{<:AbstractVector{<:Continuous}},\n",
       " target_scitype = AbstractVector{<:Finite},\n",
       " output_scitype = Unknown)"
      ]
     },
     "execution_count": 32,
     "metadata": {},
     "output_type": "execute_result"
    }
   ],
   "source": [
    "info(model)"
   ]
  },
  {
   "cell_type": "markdown",
   "id": "b7d8ad69",
   "metadata": {},
   "source": [
    "在MLJ中，模型只是一个包含超参数的结构，仅此而已。模型不存储已学习的参数。模型是可变的："
   ]
  },
  {
   "cell_type": "code",
   "execution_count": 33,
   "id": "1530dc73",
   "metadata": {
    "ExecuteTime": {
     "end_time": "2022-06-08T17:28:56.327000+08:00",
     "start_time": "2022-06-08T09:28:56.024Z"
    }
   },
   "outputs": [
    {
     "data": {
      "text/plain": [
       "12"
      ]
     },
     "execution_count": 33,
     "metadata": {},
     "output_type": "execute_result"
    }
   ],
   "source": [
    "model.epochs = 12"
   ]
  },
  {
   "cell_type": "markdown",
   "id": "a72d6469",
   "metadata": {},
   "source": [
    "所有模型都有一个关键字构造器，该构造器在执行@加载后即可工作："
   ]
  },
  {
   "cell_type": "code",
   "execution_count": 34,
   "id": "666647aa",
   "metadata": {
    "ExecuteTime": {
     "end_time": "2022-06-08T17:29:00.073000+08:00",
     "start_time": "2022-06-08T09:28:59.975Z"
    }
   },
   "outputs": [
    {
     "data": {
      "text/plain": [
       "true"
      ]
     },
     "execution_count": 34,
     "metadata": {},
     "output_type": "execute_result"
    }
   ],
   "source": [
    "NeuralNetworkClassifier(epochs=12) == model"
   ]
  },
  {
   "cell_type": "markdown",
   "id": "f3b3b754",
   "metadata": {},
   "source": [
    "## 模型训练、预测和测试"
   ]
  },
  {
   "cell_type": "markdown",
   "id": "6d2586ab",
   "metadata": {},
   "source": [
    "在MLJ中，模型和训练/验证数据通常在一台机器中："
   ]
  },
  {
   "cell_type": "code",
   "execution_count": 37,
   "id": "3622d420",
   "metadata": {
    "ExecuteTime": {
     "end_time": "2022-06-08T17:29:42.603000+08:00",
     "start_time": "2022-06-08T09:29:42.576Z"
    }
   },
   "outputs": [
    {
     "name": "stderr",
     "output_type": "stream",
     "text": [
      "┌ Warning: The scitype of `X`, in `machine(model, X, ...)` is incompatible with `model=NeuralNetworkClassifier{Short,…}`:\n",
      "│ scitype(X) = Table{Union{AbstractVector{Continuous}, AbstractVector{Multiclass{3}}}}\n",
      "│ input_scitype(model) = Table{<:AbstractVector{<:Continuous}}.\n",
      "└ @ MLJBase D:\\TongYuan\\.julia\\packages\\MLJBase\\CMT6L\\src\\machines.jl:133\n",
      "┌ Warning: The scitype of `y`, in `machine(model, X, y, ...)` is incompatible with `model=NeuralNetworkClassifier{Short,…}`:\n",
      "│ scitype(y) = Table{Union{}}\n",
      "│ target_scitype(model) = AbstractVector{<:Finite}.\n",
      "└ @ MLJBase D:\\TongYuan\\.julia\\packages\\MLJBase\\CMT6L\\src\\machines.jl:140\n"
     ]
    },
    {
     "ename": "LoadError",
     "evalue": "DimensionMismatch(\"Differing number of observations in input and target. \")",
     "output_type": "error",
     "traceback": [
      "DimensionMismatch(\"Differing number of observations in input and target. \")",
      "",
      "Stacktrace:",
      " [1] check_supervised(::MLJFlux.NeuralNetworkClassifier{MLJFlux.Short, typeof(NNlib.softmax), Flux.Optimise.ADAM, typeof(Flux.Losses.crossentropy)}, ::Bool, ::Source, ::Vararg{Source})",
      "   @ MLJBase D:\\TongYuan\\.julia\\packages\\MLJBase\\CMT6L\\src\\machines.jl:145",
      " [2] #check#45",
      "   @ D:\\TongYuan\\.julia\\packages\\MLJBase\\CMT6L\\src\\machines.jl:185 [inlined]",
      " [3] #machine#53",
      "   @ D:\\TongYuan\\.julia\\packages\\MLJBase\\CMT6L\\src\\machines.jl:371 [inlined]",
      " [4] machine(model::MLJFlux.NeuralNetworkClassifier{MLJFlux.Short, typeof(NNlib.softmax), Flux.Optimise.ADAM, typeof(Flux.Losses.crossentropy)}, raw_arg1::DataFrame, raw_args::DataFrame)",
      "   @ MLJBase D:\\TongYuan\\.julia\\packages\\MLJBase\\CMT6L\\src\\machines.jl:370",
      " [5] top-level scope",
      "   @ In[37]:1",
      " [6] eval",
      "   @ .\\boot.jl:373 [inlined]",
      " [7] include_string(mapexpr::typeof(REPL.softscope), mod::Module, code::String, filename::String)",
      "   @ Base .\\loading.jl:1196"
     ]
    }
   ],
   "source": [
    "mach = machine(model, X, y)"
   ]
  },
  {
   "cell_type": "markdown",
   "id": "b50fbe01",
   "metadata": {},
   "source": [
    "除其他外，机器存储学习的参数。我们将用70%的数据对这台机器进行训练，并在30%的预留集上进行评估。让我们首先将所有行索引划分为列和测试子集："
   ]
  },
  {
   "cell_type": "code",
   "execution_count": 36,
   "id": "821a0c70",
   "metadata": {
    "ExecuteTime": {
     "end_time": "2022-06-08T17:29:31.497000+08:00",
     "start_time": "2022-06-08T09:29:31.227Z"
    }
   },
   "outputs": [
    {
     "ename": "LoadError",
     "evalue": "MethodError: no method matching keys(::DataFrame)\n\u001b[0mClosest candidates are:\n\u001b[0m  keys(\u001b[91m::Union{Tables.AbstractColumns, Tables.AbstractRow}\u001b[39m) at D:\\TongYuan\\.julia\\packages\\Tables\\PxO1m\\src\\Tables.jl:184\n\u001b[0m  keys(\u001b[91m::DataStructures.Accumulator\u001b[39m) at D:\\TongYuan\\.julia\\packages\\DataStructures\\59MD0\\src\\accumulator.jl:58\n\u001b[0m  keys(\u001b[91m::DataFrames.GroupKey\u001b[39m) at D:\\TongYuan\\.julia\\packages\\DataFrames\\zqFGs\\src\\groupeddataframe\\groupeddataframe.jl:526\n\u001b[0m  ...",
     "output_type": "error",
     "traceback": [
      "MethodError: no method matching keys(::DataFrame)\n\u001b[0mClosest candidates are:\n\u001b[0m  keys(\u001b[91m::Union{Tables.AbstractColumns, Tables.AbstractRow}\u001b[39m) at D:\\TongYuan\\.julia\\packages\\Tables\\PxO1m\\src\\Tables.jl:184\n\u001b[0m  keys(\u001b[91m::DataStructures.Accumulator\u001b[39m) at D:\\TongYuan\\.julia\\packages\\DataStructures\\59MD0\\src\\accumulator.jl:58\n\u001b[0m  keys(\u001b[91m::DataFrames.GroupKey\u001b[39m) at D:\\TongYuan\\.julia\\packages\\DataFrames\\zqFGs\\src\\groupeddataframe\\groupeddataframe.jl:526\n\u001b[0m  ...",
      "",
      "Stacktrace:",
      " [1] eachindex(itrs::DataFrame)",
      "   @ Base .\\abstractarray.jl:276",
      " [2] top-level scope",
      "   @ In[36]:1",
      " [3] eval",
      "   @ .\\boot.jl:373 [inlined]",
      " [4] include_string(mapexpr::typeof(REPL.softscope), mod::Module, code::String, filename::String)",
      "   @ Base .\\loading.jl:1196"
     ]
    }
   ],
   "source": [
    "train, test = partition(eachindex(y), 0.7)"
   ]
  },
  {
   "cell_type": "code",
   "execution_count": 44,
   "id": "71aaf848",
   "metadata": {
    "ExecuteTime": {
     "end_time": "2022-06-08T15:17:38.568000+08:00",
     "start_time": "2022-06-08T07:15:15.297Z"
    }
   },
   "outputs": [
    {
     "ename": "LoadError",
     "evalue": "UndefVarError: train not defined",
     "output_type": "error",
     "traceback": [
      "UndefVarError: train not defined",
      "",
      "Stacktrace:",
      " [1] top-level scope",
      "   @ In[44]:1",
      " [2] eval",
      "   @ .\\boot.jl:373 [inlined]",
      " [3] include_string(mapexpr::typeof(REPL.softscope), mod::Module, code::String, filename::String)",
      "   @ Base .\\loading.jl:1196"
     ]
    }
   ],
   "source": [
    "MLJBase.fit!(mach, rows=train, verbosity=2)"
   ]
  },
  {
   "cell_type": "code",
   "execution_count": 45,
   "id": "b1bbaebe",
   "metadata": {
    "ExecuteTime": {
     "end_time": "2022-06-08T15:17:38.572000+08:00",
     "start_time": "2022-06-08T07:15:15.299Z"
    }
   },
   "outputs": [
    {
     "ename": "LoadError",
     "evalue": "UndefVarError: test not defined",
     "output_type": "error",
     "traceback": [
      "UndefVarError: test not defined",
      "",
      "Stacktrace:",
      " [1] top-level scope",
      "   @ In[45]:1",
      " [2] eval",
      "   @ .\\boot.jl:373 [inlined]",
      " [3] include_string(mapexpr::typeof(REPL.softscope), mod::Module, code::String, filename::String)",
      "   @ Base .\\loading.jl:1196"
     ]
    }
   ],
   "source": [
    "yhat = MLJBase.predict(mach, rows=test);  \n",
    "yhat[1:3]"
   ]
  },
  {
   "cell_type": "markdown",
   "id": "1cbee044",
   "metadata": {},
   "source": [
    "训练完成后，可以检查学习到的参数："
   ]
  },
  {
   "cell_type": "code",
   "execution_count": 46,
   "id": "6a0ac46e",
   "metadata": {
    "ExecuteTime": {
     "end_time": "2022-06-08T15:17:38.576000+08:00",
     "start_time": "2022-06-08T07:15:15.302Z"
    }
   },
   "outputs": [
    {
     "ename": "LoadError",
     "evalue": "UndefVarError: mach not defined",
     "output_type": "error",
     "traceback": [
      "UndefVarError: mach not defined",
      "",
      "Stacktrace:",
      " [1] top-level scope",
      "   @ In[46]:1",
      " [2] eval",
      "   @ .\\boot.jl:373 [inlined]",
      " [3] include_string(mapexpr::typeof(REPL.softscope), mod::Module, code::String, filename::String)",
      "   @ Base .\\loading.jl:1196"
     ]
    }
   ],
   "source": [
    "fitted_params(mach)"
   ]
  },
  {
   "cell_type": "code",
   "execution_count": 47,
   "id": "554e2e0d",
   "metadata": {
    "ExecuteTime": {
     "end_time": "2022-06-08T15:17:38.580000+08:00",
     "start_time": "2022-06-08T07:15:15.304Z"
    }
   },
   "outputs": [
    {
     "ename": "LoadError",
     "evalue": "UndefVarError: mach not defined",
     "output_type": "error",
     "traceback": [
      "UndefVarError: mach not defined",
      "",
      "Stacktrace:",
      " [1] top-level scope",
      "   @ In[47]:1",
      " [2] eval",
      "   @ .\\boot.jl:373 [inlined]",
      " [3] include_string(mapexpr::typeof(REPL.softscope), mod::Module, code::String, filename::String)",
      "   @ Base .\\loading.jl:1196"
     ]
    }
   ],
   "source": [
    "report(mach) #获得训练细节"
   ]
  },
  {
   "cell_type": "code",
   "execution_count": 48,
   "id": "fa8248f5",
   "metadata": {
    "ExecuteTime": {
     "end_time": "2022-06-08T15:17:38.585000+08:00",
     "start_time": "2022-06-08T07:15:15.306Z"
    }
   },
   "outputs": [
    {
     "ename": "LoadError",
     "evalue": "UndefVarError: mach not defined",
     "output_type": "error",
     "traceback": [
      "UndefVarError: mach not defined",
      "",
      "Stacktrace:",
      " [1] top-level scope",
      "   @ In[48]:1",
      " [2] eval",
      "   @ .\\boot.jl:373 [inlined]",
      " [3] include_string(mapexpr::typeof(REPL.softscope), mod::Module, code::String, filename::String)",
      "   @ Base .\\loading.jl:1196"
     ]
    }
   ],
   "source": [
    "MLJ.save(\"neural_net.jlso\", mach) #保存模型"
   ]
  },
  {
   "cell_type": "code",
   "execution_count": 49,
   "id": "9ab42921",
   "metadata": {
    "ExecuteTime": {
     "end_time": "2022-06-08T15:17:43.741000+08:00",
     "start_time": "2022-06-08T07:15:15.308Z"
    }
   },
   "outputs": [
    {
     "name": "stdout",
     "output_type": "stream",
     "text": [
      "\u001b[35m[warn | JLSO]: MethodError: no method matching deserialize(::Serialization.Serializer{IOBuffer}, ::Type{Flux.Dropout{Float64, Colon}})\u001b[39m\n",
      "\u001b[35mClosest candidates are:\u001b[39m\n",
      "\u001b[35m  deserialize(::Serialization.AbstractSerializer) at C:\\Program Files\\MWorks.Syslab 2022\\Tools\\julia-1.7.1\\share\\julia\\stdlib\\v1.7\\Serialization\\src\\Serialization.jl:800\u001b[39m\n",
      "\u001b[35m  deserialize(::Serialization.AbstractSerializer, !Matched::Type{T}) where T<:Distributed.WorkerPool at C:\\Program Files\\MWorks.Syslab 2022\\Tools\\julia-1.7.1\\share\\julia\\stdlib\\v1.7\\Distributed\\src\\workerpool.jl:66\u001b[39m\n",
      "\u001b[35m  deserialize(::Serialization.AbstractSerializer, !Matched::Type{T}) where T<:GPUArrays.AbstractGPUArray at D:\\TongYuan\\.julia\\packages\\GPUArrays\\Zecv7\\src\\host\\abstractarray.jl:37\u001b[39m\n",
      "\u001b[35m  ...\u001b[39m\n",
      "\u001b[35m[warn | JLSO]: EOFError: read end of file\u001b[39m\n"
     ]
    },
    {
     "ename": "LoadError",
     "evalue": "MethodError: no method matching Machine(::Vector{UInt8}; cache=true)\n\u001b[0mClosest candidates are:\n\u001b[0m  Machine(\u001b[91m::M\u001b[39m, \u001b[91m::AbstractNode...\u001b[39m; cache) where M<:Model at D:\\TongYuan\\.julia\\packages\\MLJBase\\CMT6L\\src\\machines.jl:44",
     "output_type": "error",
     "traceback": [
      "MethodError: no method matching Machine(::Vector{UInt8}; cache=true)\n\u001b[0mClosest candidates are:\n\u001b[0m  Machine(\u001b[91m::M\u001b[39m, \u001b[91m::AbstractNode...\u001b[39m; cache) where M<:Model at D:\\TongYuan\\.julia\\packages\\MLJBase\\CMT6L\\src\\machines.jl:44",
      "",
      "Stacktrace:",
      " [1] machine(::String; cache::Bool, kwargs::Base.Pairs{Symbol, Union{}, Tuple{}, NamedTuple{(), Tuple{}}})",
      "   @ MLJSerialization D:\\TongYuan\\.julia\\packages\\MLJSerialization\\jybHU\\src\\machines.jl:108",
      " [2] machine(::String)",
      "   @ MLJSerialization D:\\TongYuan\\.julia\\packages\\MLJSerialization\\jybHU\\src\\machines.jl:102",
      " [3] top-level scope",
      "   @ In[49]:1",
      " [4] eval",
      "   @ .\\boot.jl:373 [inlined]",
      " [5] include_string(mapexpr::typeof(REPL.softscope), mod::Module, code::String, filename::String)",
      "   @ Base .\\loading.jl:1196"
     ]
    }
   ],
   "source": [
    "mach2 = machine(\"neural_net.jlso\")\n",
    "yhat = MLJBase.predict(mach2, X);\n",
    "yhat[1:3]"
   ]
  },
  {
   "cell_type": "markdown",
   "id": "3988c9ee",
   "metadata": {},
   "source": [
    "如果要拟合检索到的模型，则需要将一些数据绑定到它："
   ]
  },
  {
   "cell_type": "code",
   "execution_count": 50,
   "id": "cde71cc9",
   "metadata": {
    "ExecuteTime": {
     "end_time": "2022-06-08T15:17:43.747000+08:00",
     "start_time": "2022-06-08T07:15:15.310Z"
    }
   },
   "outputs": [
    {
     "ename": "LoadError",
     "evalue": "UndefVarError: X not defined",
     "output_type": "error",
     "traceback": [
      "UndefVarError: X not defined",
      "",
      "Stacktrace:",
      " [1] top-level scope",
      "   @ In[50]:1",
      " [2] eval",
      "   @ .\\boot.jl:373 [inlined]",
      " [3] include_string(mapexpr::typeof(REPL.softscope), mod::Module, code::String, filename::String)",
      "   @ Base .\\loading.jl:1196"
     ]
    }
   ],
   "source": [
    "mach3 = machine(\"neural_net.jlso\", X, y)\n",
    "MLJBase.fit!(mach3)"
   ]
  },
  {
   "cell_type": "markdown",
   "id": "9e5486ef",
   "metadata": {},
   "source": [
    "机器会记住拟合期间使用的最后一组超参数，在迭代模型的情况下，它允许在仅增加迭代参数的情况下重新启动计算："
   ]
  },
  {
   "cell_type": "code",
   "execution_count": 51,
   "id": "be4f387d",
   "metadata": {
    "ExecuteTime": {
     "end_time": "2022-06-08T15:17:43.754000+08:00",
     "start_time": "2022-06-08T07:15:15.314Z"
    }
   },
   "outputs": [
    {
     "ename": "LoadError",
     "evalue": "UndefVarError: train not defined",
     "output_type": "error",
     "traceback": [
      "UndefVarError: train not defined",
      "",
      "Stacktrace:",
      " [1] top-level scope",
      "   @ In[51]:2",
      " [2] eval",
      "   @ .\\boot.jl:373 [inlined]",
      " [3] include_string(mapexpr::typeof(REPL.softscope), mod::Module, code::String, filename::String)",
      "   @ Base .\\loading.jl:1196"
     ]
    }
   ],
   "source": [
    "model.epochs = model.epochs + 4\n",
    "MLJBase.fit!(mach, rows=train, verbosity=2)"
   ]
  },
  {
   "cell_type": "code",
   "execution_count": 52,
   "id": "f60db99f",
   "metadata": {
    "ExecuteTime": {
     "end_time": "2022-06-08T15:17:43.776000+08:00",
     "start_time": "2022-06-08T07:15:15.316Z"
    }
   },
   "outputs": [
    {
     "ename": "LoadError",
     "evalue": "UndefVarError: train not defined",
     "output_type": "error",
     "traceback": [
      "UndefVarError: train not defined",
      "",
      "Stacktrace:",
      " [1] top-level scope",
      "   @ In[52]:3",
      " [2] eval",
      "   @ .\\boot.jl:373 [inlined]",
      " [3] include_string(mapexpr::typeof(REPL.softscope), mod::Module, code::String, filename::String)",
      "   @ Base .\\loading.jl:1196"
     ]
    }
   ],
   "source": [
    "model.epochs = model.epochs + 4\n",
    "model.optimiser.eta = 10*model.optimiser.eta\n",
    "MLJBase.fit!(mach, rows=train, verbosity=2)"
   ]
  },
  {
   "cell_type": "markdown",
   "id": "41bd7cbc",
   "metadata": {},
   "source": [
    "但是，更改任何其他参数，训练将从头开始："
   ]
  },
  {
   "cell_type": "code",
   "execution_count": 53,
   "id": "141e0201",
   "metadata": {
    "ExecuteTime": {
     "end_time": "2022-06-08T15:17:43.791000+08:00",
     "start_time": "2022-06-08T07:15:15.318Z"
    }
   },
   "outputs": [
    {
     "ename": "LoadError",
     "evalue": "UndefVarError: train not defined",
     "output_type": "error",
     "traceback": [
      "UndefVarError: train not defined",
      "",
      "Stacktrace:",
      " [1] top-level scope",
      "   @ In[53]:2",
      " [2] eval",
      "   @ .\\boot.jl:373 [inlined]",
      " [3] include_string(mapexpr::typeof(REPL.softscope), mod::Module, code::String, filename::String)",
      "   @ Base .\\loading.jl:1196"
     ]
    }
   ],
   "source": [
    "model.lambda = 0.001\n",
    "MLJBase.fit!(mach, rows=train, verbosity=2)"
   ]
  },
  {
   "cell_type": "markdown",
   "id": "a873bee8",
   "metadata": {},
   "source": [
    "让我们静默训练总共 50 个 epoch，然后看一个预测："
   ]
  },
  {
   "cell_type": "code",
   "execution_count": 54,
   "id": "69248f3b",
   "metadata": {
    "ExecuteTime": {
     "end_time": "2022-06-08T15:17:43.796000+08:00",
     "start_time": "2022-06-08T07:15:15.321Z"
    }
   },
   "outputs": [
    {
     "ename": "LoadError",
     "evalue": "UndefVarError: train not defined",
     "output_type": "error",
     "traceback": [
      "UndefVarError: train not defined",
      "",
      "Stacktrace:",
      " [1] top-level scope",
      "   @ In[54]:2",
      " [2] eval",
      "   @ .\\boot.jl:373 [inlined]",
      " [3] include_string(mapexpr::typeof(REPL.softscope), mod::Module, code::String, filename::String)",
      "   @ Base .\\loading.jl:1196"
     ]
    }
   ],
   "source": [
    "model.epochs = 50\n",
    "MLJBase.fit!(mach, rows=train)\n",
    "yhat = MLJBase.predict(mach, X[test,:]); # or predict(mach, rows=test)\n",
    "yhat[1]"
   ]
  },
  {
   "cell_type": "code",
   "execution_count": 55,
   "id": "dfe15610",
   "metadata": {
    "ExecuteTime": {
     "end_time": "2022-06-08T15:17:47.684000+08:00",
     "start_time": "2022-06-08T07:15:15.324Z"
    }
   },
   "outputs": [
    {
     "data": {
      "text/plain": [
       ":probabilistic"
      ]
     },
     "execution_count": 55,
     "metadata": {},
     "output_type": "execute_result"
    }
   ],
   "source": [
    "info(model).prediction_type"
   ]
  },
  {
   "cell_type": "markdown",
   "id": "e266db5a",
   "metadata": {},
   "source": [
    "对于大多数概率预测器，预测对象是 Distributions.Distribution 对象，支持此类对象的 Distributions.jl API。特别是，rand、pdf、logpdf、众数、中位数和均值方法将在适当的情况下适用。"
   ]
  },
  {
   "cell_type": "markdown",
   "id": "4bad1eaa",
   "metadata": {},
   "source": [
    "所以，为了在第一次测试预测中获得“Iris-virginica”的概率:"
   ]
  },
  {
   "cell_type": "code",
   "execution_count": 56,
   "id": "6db15f94",
   "metadata": {
    "ExecuteTime": {
     "end_time": "2022-06-08T15:17:47.688000+08:00",
     "start_time": "2022-06-08T07:15:15.328Z"
    }
   },
   "outputs": [
    {
     "ename": "LoadError",
     "evalue": "UndefVarError: yhat not defined",
     "output_type": "error",
     "traceback": [
      "UndefVarError: yhat not defined",
      "",
      "Stacktrace:",
      " [1] top-level scope",
      "   @ In[56]:1",
      " [2] eval",
      "   @ .\\boot.jl:373 [inlined]",
      " [3] include_string(mapexpr::typeof(REPL.softscope), mod::Module, code::String, filename::String)",
      "   @ Base .\\loading.jl:1196"
     ]
    }
   ],
   "source": [
    "pdf(yhat[1], \"Iris-virginica\")"
   ]
  },
  {
   "cell_type": "markdown",
   "id": "3e761368",
   "metadata": {},
   "source": [
    "为了得到最有可能的观察结果:"
   ]
  },
  {
   "cell_type": "code",
   "execution_count": 57,
   "id": "835eda8e",
   "metadata": {
    "ExecuteTime": {
     "end_time": "2022-06-08T15:17:47.692000+08:00",
     "start_time": "2022-06-08T07:15:15.331Z"
    }
   },
   "outputs": [
    {
     "ename": "LoadError",
     "evalue": "UndefVarError: yhat not defined",
     "output_type": "error",
     "traceback": [
      "UndefVarError: yhat not defined",
      "",
      "Stacktrace:",
      " [1] top-level scope",
      "   @ In[57]:1",
      " [2] eval",
      "   @ .\\boot.jl:373 [inlined]",
      " [3] include_string(mapexpr::typeof(REPL.softscope), mod::Module, code::String, filename::String)",
      "   @ Base .\\loading.jl:1196"
     ]
    }
   ],
   "source": [
    "mode(yhat[1])"
   ]
  },
  {
   "cell_type": "code",
   "execution_count": 58,
   "id": "5215b512",
   "metadata": {
    "ExecuteTime": {
     "end_time": "2022-06-08T15:17:47.699000+08:00",
     "start_time": "2022-06-08T07:15:15.333Z"
    }
   },
   "outputs": [
    {
     "ename": "LoadError",
     "evalue": "UndefVarError: yhat not defined",
     "output_type": "error",
     "traceback": [
      "UndefVarError: yhat not defined",
      "",
      "Stacktrace:",
      " [1] top-level scope",
      "   @ In[58]:1",
      " [2] eval",
      "   @ .\\boot.jl:373 [inlined]",
      " [3] include_string(mapexpr::typeof(REPL.softscope), mod::Module, code::String, filename::String)",
      "   @ Base .\\loading.jl:1196"
     ]
    }
   ],
   "source": [
    "broadcast(pdf, yhat[1:4], \"Iris-versicolor\") #广播"
   ]
  },
  {
   "cell_type": "code",
   "execution_count": 59,
   "id": "d0b7ea1a",
   "metadata": {
    "ExecuteTime": {
     "end_time": "2022-06-08T15:17:47.703000+08:00",
     "start_time": "2022-06-08T07:15:15.335Z"
    }
   },
   "outputs": [
    {
     "ename": "LoadError",
     "evalue": "UndefVarError: yhat not defined",
     "output_type": "error",
     "traceback": [
      "UndefVarError: yhat not defined",
      "",
      "Stacktrace:",
      " [1] top-level scope",
      "   @ In[59]:1",
      " [2] eval",
      "   @ .\\boot.jl:373 [inlined]",
      " [3] include_string(mapexpr::typeof(REPL.softscope), mod::Module, code::String, filename::String)",
      "   @ Base .\\loading.jl:1196"
     ]
    }
   ],
   "source": [
    "mode.(yhat[1:4])"
   ]
  },
  {
   "cell_type": "markdown",
   "id": "a9e2f411",
   "metadata": {},
   "source": [
    "或者，您也可以使用 predict_mode 操作而不是 predict："
   ]
  },
  {
   "cell_type": "code",
   "execution_count": 60,
   "id": "d7d4dc8d",
   "metadata": {
    "ExecuteTime": {
     "end_time": "2022-06-08T15:17:47.707000+08:00",
     "start_time": "2022-06-08T07:15:15.338Z"
    }
   },
   "outputs": [
    {
     "ename": "LoadError",
     "evalue": "UndefVarError: X not defined",
     "output_type": "error",
     "traceback": [
      "UndefVarError: X not defined",
      "",
      "Stacktrace:",
      " [1] top-level scope",
      "   @ In[60]:1",
      " [2] eval",
      "   @ .\\boot.jl:373 [inlined]",
      " [3] include_string(mapexpr::typeof(REPL.softscope), mod::Module, code::String, filename::String)",
      "   @ Base .\\loading.jl:1196"
     ]
    }
   ],
   "source": [
    "predict_mode(mach, X[test,:])[1:4] # or predict_mode(mach, rows=test)[1:4]"
   ]
  },
  {
   "cell_type": "code",
   "execution_count": 61,
   "id": "8acfde1b",
   "metadata": {
    "ExecuteTime": {
     "end_time": "2022-06-08T15:17:47.711000+08:00",
     "start_time": "2022-06-08T07:15:15.341Z"
    }
   },
   "outputs": [
    {
     "ename": "LoadError",
     "evalue": "UndefVarError: y not defined",
     "output_type": "error",
     "traceback": [
      "UndefVarError: y not defined",
      "",
      "Stacktrace:",
      " [1] top-level scope",
      "   @ In[61]:1",
      " [2] eval",
      "   @ .\\boot.jl:373 [inlined]",
      " [3] include_string(mapexpr::typeof(REPL.softscope), mod::Module, code::String, filename::String)",
      "   @ Base .\\loading.jl:1196"
     ]
    }
   ],
   "source": [
    "L = levels(y)\n",
    "pdf(yhat, L)[1:4, :]"
   ]
  },
  {
   "cell_type": "code",
   "execution_count": 62,
   "id": "c4b40b46",
   "metadata": {
    "ExecuteTime": {
     "end_time": "2022-06-08T15:17:47.715000+08:00",
     "start_time": "2022-06-08T07:15:15.343Z"
    }
   },
   "outputs": [
    {
     "ename": "LoadError",
     "evalue": "UndefVarError: y not defined",
     "output_type": "error",
     "traceback": [
      "UndefVarError: y not defined",
      "",
      "Stacktrace:",
      " [1] top-level scope",
      "   @ In[62]:1",
      " [2] eval",
      "   @ .\\boot.jl:373 [inlined]",
      " [3] include_string(mapexpr::typeof(REPL.softscope), mod::Module, code::String, filename::String)",
      "   @ Base .\\loading.jl:1196"
     ]
    }
   ],
   "source": [
    "cross_entropy(yhat, y[test]) |> mean"
   ]
  },
  {
   "cell_type": "markdown",
   "id": "6b108c3b",
   "metadata": {},
   "source": [
    "为了应用确定性度量，我们首先需要获得点估计："
   ]
  },
  {
   "cell_type": "code",
   "execution_count": 63,
   "id": "99ad999b",
   "metadata": {
    "ExecuteTime": {
     "end_time": "2022-06-08T15:17:47.719000+08:00",
     "start_time": "2022-06-08T07:15:15.346Z"
    }
   },
   "outputs": [
    {
     "ename": "LoadError",
     "evalue": "UndefVarError: yhat not defined",
     "output_type": "error",
     "traceback": [
      "UndefVarError: yhat not defined",
      "",
      "Stacktrace:",
      " [1] top-level scope",
      "   @ In[63]:1",
      " [2] eval",
      "   @ .\\boot.jl:373 [inlined]",
      " [3] include_string(mapexpr::typeof(REPL.softscope), mod::Module, code::String, filename::String)",
      "   @ Base .\\loading.jl:1196"
     ]
    }
   ],
   "source": [
    "misclassification_rate(mode.(yhat), y[test])"
   ]
  },
  {
   "cell_type": "markdown",
   "id": "f9e32256",
   "metadata": {},
   "source": [
    "我们顺便注意到，还有一个类似于模型的度量搜索工具："
   ]
  },
  {
   "cell_type": "code",
   "execution_count": 64,
   "id": "c43ef5bd",
   "metadata": {
    "ExecuteTime": {
     "end_time": "2022-06-08T15:17:50.493000+08:00",
     "start_time": "2022-06-08T07:15:15.350Z"
    }
   },
   "outputs": [
    {
     "data": {
      "text/plain": [
       "63-element Vector{NamedTuple{(:name, :instances, :human_name, :target_scitype, :supports_weights, :supports_class_weights, :prediction_type, :orientation, :reports_each_observation, :aggregation, :is_feature_dependent, :docstring, :distribution_type)}}:\n",
       " (name = BrierLoss, instances = [brier_loss], ...)\n",
       " (name = BrierScore, instances = [brier_score], ...)\n",
       " (name = LPLoss, instances = [l1, l2], ...)\n",
       " (name = LogCoshLoss, instances = [log_cosh, log_cosh_loss], ...)\n",
       " (name = LogLoss, instances = [log_loss, cross_entropy], ...)\n",
       " (name = LogScore, instances = [log_score], ...)\n",
       " (name = SphericalScore, instances = [spherical_score], ...)\n",
       " (name = Accuracy, instances = [accuracy], ...)\n",
       " (name = AreaUnderCurve, instances = [area_under_curve, auc], ...)\n",
       " (name = BalancedAccuracy, instances = [balanced_accuracy, bacc, bac], ...)\n",
       " (name = ConfusionMatrix, instances = [confusion_matrix, confmat], ...)\n",
       " (name = FScore, instances = [f1score], ...)\n",
       " (name = FalseDiscoveryRate, instances = [false_discovery_rate, falsediscovery_rate, fdr], ...)\n",
       " ⋮\n",
       " (name = ModifiedHuberLoss, instances = [modified_huber_loss], ...)\n",
       " (name = PerceptronLoss, instances = [perceptron_loss], ...)\n",
       " (name = SigmoidLoss, instances = [sigmoid_loss], ...)\n",
       " (name = SmoothedL1HingeLoss, instances = [smoothed_l1_hinge_loss], ...)\n",
       " (name = ZeroOneLoss, instances = [zero_one_loss], ...)\n",
       " (name = HuberLoss, instances = [huber_loss], ...)\n",
       " (name = L1EpsilonInsLoss, instances = [l1_epsilon_ins_loss], ...)\n",
       " (name = L2EpsilonInsLoss, instances = [l2_epsilon_ins_loss], ...)\n",
       " (name = LPDistLoss, instances = [lp_dist_loss], ...)\n",
       " (name = LogitDistLoss, instances = [logit_dist_loss], ...)\n",
       " (name = PeriodicLoss, instances = [periodic_loss], ...)\n",
       " (name = QuantileLoss, instances = [quantile_loss], ...)"
      ]
     },
     "execution_count": 64,
     "metadata": {},
     "output_type": "execute_result"
    }
   ],
   "source": [
    "measures()"
   ]
  },
  {
   "cell_type": "markdown",
   "id": "8c9137cc",
   "metadata": {},
   "source": [
    "## 步骤4：评估模型性能"
   ]
  },
  {
   "cell_type": "code",
   "execution_count": 65,
   "id": "e3e21540",
   "metadata": {
    "ExecuteTime": {
     "end_time": "2022-06-08T15:17:50.545000+08:00",
     "start_time": "2022-06-08T07:15:15.353Z"
    }
   },
   "outputs": [
    {
     "ename": "LoadError",
     "evalue": "UndefVarError: mach not defined",
     "output_type": "error",
     "traceback": [
      "UndefVarError: mach not defined",
      "",
      "Stacktrace:",
      " [1] top-level scope",
      "   @ In[65]:1",
      " [2] eval",
      "   @ .\\boot.jl:373 [inlined]",
      " [3] include_string(mapexpr::typeof(REPL.softscope), mod::Module, code::String, filename::String)",
      "   @ Base .\\loading.jl:1196"
     ]
    }
   ],
   "source": [
    "evaluate!(mach, resampling=Holdout(fraction_train=0.7),\n",
    "          measures=[cross_entropy, brier_score])"
   ]
  },
  {
   "cell_type": "markdown",
   "id": "31c06cd2",
   "metadata": {},
   "source": [
    "或者改为应用交叉验证："
   ]
  },
  {
   "cell_type": "code",
   "execution_count": 66,
   "id": "09a76f3c",
   "metadata": {
    "ExecuteTime": {
     "end_time": "2022-06-08T15:17:50.571000+08:00",
     "start_time": "2022-06-08T07:15:15.356Z"
    }
   },
   "outputs": [
    {
     "ename": "LoadError",
     "evalue": "UndefVarError: mach not defined",
     "output_type": "error",
     "traceback": [
      "UndefVarError: mach not defined",
      "",
      "Stacktrace:",
      " [1] top-level scope",
      "   @ In[66]:1",
      " [2] eval",
      "   @ .\\boot.jl:373 [inlined]",
      " [3] include_string(mapexpr::typeof(REPL.softscope), mod::Module, code::String, filename::String)",
      "   @ Base .\\loading.jl:1196"
     ]
    }
   ],
   "source": [
    "evaluate!(mach, resampling=CV(nfolds=6),\n",
    "          measures=[cross_entropy, brier_score])"
   ]
  },
  {
   "cell_type": "markdown",
   "id": "e4706c14",
   "metadata": {},
   "source": [
    "或者，蒙特卡洛交叉验证（交叉验证重复随机折叠）"
   ]
  },
  {
   "cell_type": "code",
   "execution_count": 67,
   "id": "aa942fe8",
   "metadata": {
    "ExecuteTime": {
     "end_time": "2022-06-08T15:17:50.606000+08:00",
     "start_time": "2022-06-08T07:15:15.360Z"
    }
   },
   "outputs": [
    {
     "ename": "LoadError",
     "evalue": "UndefVarError: mach not defined",
     "output_type": "error",
     "traceback": [
      "UndefVarError: mach not defined",
      "",
      "Stacktrace:",
      " [1] top-level scope",
      "   @ In[67]:1",
      " [2] eval",
      "   @ .\\boot.jl:373 [inlined]",
      " [3] include_string(mapexpr::typeof(REPL.softscope), mod::Module, code::String, filename::String)",
      "   @ Base .\\loading.jl:1196"
     ]
    }
   ],
   "source": [
    "e = evaluate!(mach, resampling=CV(nfolds=6, rng=123),\n",
    "              repeats=3,\n",
    "              measures=[cross_entropy, brier_score])"
   ]
  },
  {
   "cell_type": "markdown",
   "id": "bc205a2a",
   "metadata": {},
   "source": [
    "可以访问评估输出 e 的以下属性：measure、measurement、per_fold（每次折叠的测量）和 per_observation（每次观察的测量，如果报告）。"
   ]
  },
  {
   "cell_type": "markdown",
   "id": "9d5c64a7",
   "metadata": {},
   "source": [
    "我们最后注意到，您可以通过指定 rows=.... 来限制从中绘制训练和测试折叠的观察行数。"
   ]
  },
  {
   "cell_type": "code",
   "execution_count": 68,
   "id": "0e173c79",
   "metadata": {
    "ExecuteTime": {
     "end_time": "2022-06-08T15:17:50.611000+08:00",
     "start_time": "2022-06-08T07:15:15.363Z"
    }
   },
   "outputs": [
    {
     "ename": "LoadError",
     "evalue": "UndefVarError: y not defined",
     "output_type": "error",
     "traceback": [
      "UndefVarError: y not defined",
      "",
      "Stacktrace:",
      " [1] top-level scope",
      "   @ In[68]:1",
      " [2] eval",
      "   @ .\\boot.jl:373 [inlined]",
      " [3] include_string(mapexpr::typeof(REPL.softscope), mod::Module, code::String, filename::String)",
      "   @ Base .\\loading.jl:1196"
     ]
    }
   ],
   "source": [
    "train, test = partition(eachindex(y), 0.7)\n",
    "mach = machine(model, X, y)\n",
    "evaluate!(mach, resampling=CV(nfolds=6),\n",
    "          measures=[cross_entropy, brier_score],\n",
    "          rows=train)     # cv estimate, resampling from `train`\n",
    "MLJBase.fit!(mach, rows=train)    # re-train using all of `train` observations\n",
    "MLJBase.predict(mach, rows=test); # and predict missing targets"
   ]
  },
  {
   "cell_type": "markdown",
   "id": "e47773b3",
   "metadata": {},
   "source": [
    "## 学习曲线"
   ]
  },
  {
   "cell_type": "markdown",
   "id": "4155318b",
   "metadata": {},
   "source": [
    "由于我们的模型是一个迭代模型，我们可能希望将样本外性能作为迭代参数的函数进行检查。为此，我们可以使用 learning_curve 函数（顺便说一下，它可以应用于任何模型超参数）。首先为参数定义一个一维范围对象（在第 4 部分讨论调优时会详细介绍）："
   ]
  },
  {
   "cell_type": "code",
   "execution_count": 69,
   "id": "f20efbb6",
   "metadata": {
    "ExecuteTime": {
     "end_time": "2022-06-08T15:17:50.952000+08:00",
     "start_time": "2022-06-08T07:15:15.367Z"
    }
   },
   "outputs": [
    {
     "data": {
      "text/plain": [
       "NumericRange(1 ≤ epochs ≤ 50; origin=25.5, unit=24.5) on log scale"
      ]
     },
     "execution_count": 69,
     "metadata": {},
     "output_type": "execute_result"
    }
   ],
   "source": [
    "r = range(model, :epochs, lower=1, upper=50, scale=:log)"
   ]
  },
  {
   "cell_type": "code",
   "execution_count": 70,
   "id": "4702b0ce",
   "metadata": {
    "ExecuteTime": {
     "end_time": "2022-06-08T15:17:50.965000+08:00",
     "start_time": "2022-06-08T07:15:15.370Z"
    }
   },
   "outputs": [
    {
     "ename": "LoadError",
     "evalue": "UndefVarError: mach not defined",
     "output_type": "error",
     "traceback": [
      "UndefVarError: mach not defined",
      "",
      "Stacktrace:",
      " [1] top-level scope",
      "   @ In[70]:1",
      " [2] eval",
      "   @ .\\boot.jl:373 [inlined]",
      " [3] include_string(mapexpr::typeof(REPL.softscope), mod::Module, code::String, filename::String)",
      "   @ Base .\\loading.jl:1196"
     ]
    }
   ],
   "source": [
    "curve = learning_curve(mach,\n",
    "                       range=r,\n",
    "                       resampling=Holdout(fraction_train=0.7), # (default)\n",
    "                       measure=cross_entropy)\n",
    "\n",
    "using Plots\n",
    "gr(size=(490,300))\n",
    "plt=plot(curve.parameter_values, curve.measurements)\n",
    "xlabel!(plt, \"epochs\")\n",
    "ylabel!(plt, \"cross entropy on holdout set\")\n",
    "savefig(\"learning_curve.png\")\n",
    "plt"
   ]
  },
  {
   "cell_type": "markdown",
   "id": "661be838",
   "metadata": {},
   "source": [
    "当我们在第 4 部分查看调优时，我们将回到学习曲线。"
   ]
  },
  {
   "cell_type": "markdown",
   "id": "102345e3",
   "metadata": {
    "ExecuteTime": {
     "end_time": "2022-06-01T16:54:54.104000+08:00",
     "start_time": "2022-06-01T08:54:53.443Z"
    }
   },
   "source": [
    "## 第2部分资源"
   ]
  },
  {
   "cell_type": "markdown",
   "id": "86f7579f",
   "metadata": {},
   "source": [
    "- From the MLJ manual:\n",
    "    - [Getting Started](https://alan-turing-institute.github.io/MLJ.jl/dev/getting_started/)\n",
    "    - [Model Search](https://alan-turing-institute.github.io/MLJ.jl/dev/model_search/)\n",
    "    - [Evaluating Performance](https://alan-turing-institute.github.io/MLJ.jl/dev/evaluating_model_performance/) (using `evaluate!`)\n",
    "    - [Learning Curves](https://alan-turing-institute.github.io/MLJ.jl/dev/learning_curves/)\n",
    "    - [Performance Measures](https://alan-turing-institute.github.io/MLJ.jl/dev/performance_measures/) (loss functions, scores, etc)\n",
    "- From Data Science Tutorials:\n",
    "    - [Choosing and evaluating a model](https://juliaai.github.io/DataScienceTutorials.jl/getting-started/choosing-a-model/)\n",
    "    - [Fit, predict, transform](https://juliaai.github.io/DataScienceTutorials.jl/getting-started/fit-and-predict/)"
   ]
  },
  {
   "cell_type": "markdown",
   "id": "6a01b683",
   "metadata": {},
   "source": [
    "# 特征变换器（Transformers）与管道（Pipelines）"
   ]
  },
  {
   "cell_type": "markdown",
   "id": "64eb210b",
   "metadata": {},
   "source": [
    "## 特征变换器"
   ]
  },
  {
   "cell_type": "markdown",
   "id": "cad3e830",
   "metadata": {},
   "source": [
    "在训练期间不接收目标 y 的无监督模型总是有一个变换操作。它们有时还支持 inverse_transform 操作，意义明显，有时还支持预测操作（参见此处讨论的聚类示例）。否则，它们的处理方式很像监督模型。\n",
    "\n",
    "这是一个简单的标准化示例："
   ]
  },
  {
   "cell_type": "code",
   "execution_count": 71,
   "id": "0ec38dca",
   "metadata": {
    "ExecuteTime": {
     "end_time": "2022-06-08T15:17:51.157000+08:00",
     "start_time": "2022-06-08T07:15:15.379Z"
    }
   },
   "outputs": [
    {
     "name": "stdout",
     "output_type": "stream",
     "text": [
      "mean(x) = 0.4704564851930727\n",
      "std(x) = 0.29605733090559105\n"
     ]
    }
   ],
   "source": [
    "x = rand(100);\n",
    "@show mean(x) std(x);"
   ]
  },
  {
   "cell_type": "code",
   "execution_count": 72,
   "id": "0fe9e82c",
   "metadata": {
    "ExecuteTime": {
     "end_time": "2022-06-08T15:17:53.894000+08:00",
     "start_time": "2022-06-08T07:15:15.382Z"
    }
   },
   "outputs": [
    {
     "name": "stdout",
     "output_type": "stream",
     "text": [
      "mean(xhat) = 1.1879386363489176e-16\n",
      "std(xhat) = 1.0\n"
     ]
    },
    {
     "name": "stderr",
     "output_type": "stream",
     "text": [
      "┌ Info: Training Machine{Standardizer,…}.\n",
      "└ @ MLJBase D:\\TongYuan\\.julia\\packages\\MLJBase\\CMT6L\\src\\machines.jl:464\n"
     ]
    }
   ],
   "source": [
    "model = Standardizer() # a built-in model\n",
    "mach = machine(model, x)\n",
    "MLJBase.fit!(mach)\n",
    "xhat = MLJBase.transform(mach, x);\n",
    "@show mean(xhat) std(xhat);"
   ]
  },
  {
   "cell_type": "markdown",
   "id": "18abf162",
   "metadata": {},
   "source": [
    "这个特定的模型有一个 inverse_transform："
   ]
  },
  {
   "cell_type": "code",
   "execution_count": 73,
   "id": "a248309f",
   "metadata": {
    "ExecuteTime": {
     "end_time": "2022-06-08T15:17:54.056000+08:00",
     "start_time": "2022-06-08T07:15:15.385Z"
    }
   },
   "outputs": [
    {
     "data": {
      "text/plain": [
       "true"
      ]
     },
     "execution_count": 73,
     "metadata": {},
     "output_type": "execute_result"
    }
   ],
   "source": [
    "MLJBase.inverse_transform(mach, xhat) ≈ x"
   ]
  },
  {
   "cell_type": "markdown",
   "id": "811a1c79",
   "metadata": {},
   "source": [
    "## 数据编码"
   ]
  },
  {
   "cell_type": "markdown",
   "id": "128ac3d2",
   "metadata": {},
   "source": [
    "让我们将所有 King County House 输入特征（参见示例 3）重新编码为一组连续特征。我们使用 ContinuousEncoder 模型执行此操作，默认情况下，该模型将："
   ]
  },
  {
   "cell_type": "markdown",
   "id": "43434241",
   "metadata": {},
   "source": [
    "one-hot 编码所有多类特征  \n",
    "将所有 OrderedFactor 特征强制为连续特征  \n",
    "将所有 Count 特征强制为 Continuous 特征  \n",
    "删除任何剩余的非连续特征"
   ]
  },
  {
   "cell_type": "markdown",
   "id": "091af2c5",
   "metadata": {},
   "source": [
    "首先，我们重新加载数据"
   ]
  },
  {
   "cell_type": "code",
   "execution_count": 74,
   "id": "c4c66913",
   "metadata": {
    "ExecuteTime": {
     "end_time": "2022-06-08T15:17:59.394000+08:00",
     "start_time": "2022-06-08T07:15:15.390Z"
    }
   },
   "outputs": [
    {
     "data": {
      "text/plain": [
       "┌───────────────┬───────────────────┬───────────────────────────────────┐\n",
       "│\u001b[22m names         \u001b[0m│\u001b[22m scitypes          \u001b[0m│\u001b[22m types                             \u001b[0m│\n",
       "├───────────────┼───────────────────┼───────────────────────────────────┤\n",
       "│ price         │ Continuous        │ Float64                           │\n",
       "│ bedrooms      │ OrderedFactor{13} │ CategoricalValue{Int64, UInt32}   │\n",
       "│ bathrooms     │ OrderedFactor{30} │ CategoricalValue{Float64, UInt32} │\n",
       "│ sqft_living   │ Continuous        │ Float64                           │\n",
       "│ sqft_lot      │ Continuous        │ Float64                           │\n",
       "│ floors        │ OrderedFactor{6}  │ CategoricalValue{Float64, UInt32} │\n",
       "│ waterfront    │ OrderedFactor{2}  │ CategoricalValue{Int64, UInt32}   │\n",
       "│ view          │ OrderedFactor{5}  │ CategoricalValue{Int64, UInt32}   │\n",
       "│ condition     │ OrderedFactor{5}  │ CategoricalValue{Int64, UInt32}   │\n",
       "│ grade         │ OrderedFactor{12} │ CategoricalValue{Int64, UInt32}   │\n",
       "│ sqft_above    │ Continuous        │ Float64                           │\n",
       "│ sqft_basement │ Continuous        │ Float64                           │\n",
       "│ yr_built      │ Continuous        │ Float64                           │\n",
       "│ zipcode       │ Multiclass{70}    │ CategoricalValue{Int64, UInt32}   │\n",
       "│ lat           │ Continuous        │ Float64                           │\n",
       "│ long          │ Continuous        │ Float64                           │\n",
       "│ sqft_living15 │ Continuous        │ Float64                           │\n",
       "│ sqft_lot15    │ Continuous        │ Float64                           │\n",
       "│ is_renovated  │ OrderedFactor{2}  │ CategoricalValue{Bool, UInt32}    │\n",
       "└───────────────┴───────────────────┴───────────────────────────────────┘\n"
      ]
     },
     "execution_count": 74,
     "metadata": {},
     "output_type": "execute_result"
    }
   ],
   "source": [
    "file = CSV.File(\"D:\\\\Jupyter notebook\\\\DataSet\\\\house.csv\");\n",
    "house = DataFrames.DataFrame(file);\n",
    "coerce!(house, autotype(file));\n",
    "coerce!(house, Count => Continuous, :zipcode => Multiclass);\n",
    "schema(house)"
   ]
  },
  {
   "cell_type": "code",
   "execution_count": 75,
   "id": "d16b138e",
   "metadata": {
    "ExecuteTime": {
     "end_time": "2022-06-08T15:18:00.341000+08:00",
     "start_time": "2022-06-08T07:15:15.392Z"
    }
   },
   "outputs": [],
   "source": [
    "y, X = unpack(house, ==(:price), name -> true, rng=123);"
   ]
  },
  {
   "cell_type": "markdown",
   "id": "04cd4681",
   "metadata": {},
   "source": [
    "实例化无监督模型（特征变换器）："
   ]
  },
  {
   "cell_type": "code",
   "execution_count": 76,
   "id": "93ab7618",
   "metadata": {
    "ExecuteTime": {
     "end_time": "2022-06-08T15:18:00.586000+08:00",
     "start_time": "2022-06-08T07:15:15.395Z"
    }
   },
   "outputs": [
    {
     "data": {
      "text/plain": [
       "ContinuousEncoder(\n",
       "    drop_last = false,\n",
       "    one_hot_ordered_factors = false)"
      ]
     },
     "execution_count": 76,
     "metadata": {},
     "output_type": "execute_result"
    }
   ],
   "source": [
    "encoder = ContinuousEncoder() # a built-in model; no need to @load it"
   ]
  },
  {
   "cell_type": "markdown",
   "id": "b3321695",
   "metadata": {},
   "source": [
    "将模型绑定到数据并拟合！"
   ]
  },
  {
   "cell_type": "code",
   "execution_count": 77,
   "id": "dae4c786",
   "metadata": {
    "ExecuteTime": {
     "end_time": "2022-06-08T15:18:02.580000+08:00",
     "start_time": "2022-06-08T07:15:15.398Z"
    }
   },
   "outputs": [
    {
     "name": "stderr",
     "output_type": "stream",
     "text": [
      "┌ Info: Training Machine{ContinuousEncoder,…}.\n",
      "└ @ MLJBase D:\\TongYuan\\.julia\\packages\\MLJBase\\CMT6L\\src\\machines.jl:464\n"
     ]
    }
   ],
   "source": [
    "mach = machine(encoder, X) |> MLJBase.fit!;"
   ]
  },
  {
   "cell_type": "markdown",
   "id": "cac033cc",
   "metadata": {},
   "source": [
    "转换并检查结果："
   ]
  },
  {
   "cell_type": "code",
   "execution_count": 78,
   "id": "b1dd86a3",
   "metadata": {
    "ExecuteTime": {
     "end_time": "2022-06-08T15:18:05.299000+08:00",
     "start_time": "2022-06-08T07:15:15.401Z"
    }
   },
   "outputs": [
    {
     "data": {
      "text/plain": [
       "┌────────────────┬────────────┬─────────┐\n",
       "│\u001b[22m names          \u001b[0m│\u001b[22m scitypes   \u001b[0m│\u001b[22m types   \u001b[0m│\n",
       "├────────────────┼────────────┼─────────┤\n",
       "│ bedrooms       │ Continuous │ Float64 │\n",
       "│ bathrooms      │ Continuous │ Float64 │\n",
       "│ sqft_living    │ Continuous │ Float64 │\n",
       "│ sqft_lot       │ Continuous │ Float64 │\n",
       "│ floors         │ Continuous │ Float64 │\n",
       "│ waterfront     │ Continuous │ Float64 │\n",
       "│ view           │ Continuous │ Float64 │\n",
       "│ condition      │ Continuous │ Float64 │\n",
       "│ grade          │ Continuous │ Float64 │\n",
       "│ sqft_above     │ Continuous │ Float64 │\n",
       "│ sqft_basement  │ Continuous │ Float64 │\n",
       "│ yr_built       │ Continuous │ Float64 │\n",
       "│ zipcode__98001 │ Continuous │ Float64 │\n",
       "│ zipcode__98002 │ Continuous │ Float64 │\n",
       "│ zipcode__98003 │ Continuous │ Float64 │\n",
       "│ zipcode__98004 │ Continuous │ Float64 │\n",
       "│ zipcode__98005 │ Continuous │ Float64 │\n",
       "│ zipcode__98006 │ Continuous │ Float64 │\n",
       "│ zipcode__98007 │ Continuous │ Float64 │\n",
       "│ zipcode__98008 │ Continuous │ Float64 │\n",
       "│ zipcode__98010 │ Continuous │ Float64 │\n",
       "│ zipcode__98011 │ Continuous │ Float64 │\n",
       "│       ⋮        │     ⋮      │    ⋮    │\n",
       "└────────────────┴────────────┴─────────┘\n",
       "\u001b[36m                          65 rows omitted\u001b[0m\n"
      ]
     },
     "execution_count": 78,
     "metadata": {},
     "output_type": "execute_result"
    }
   ],
   "source": [
    "Xcont = MLJBase.transform(mach, X);\n",
    "schema(Xcont)"
   ]
  },
  {
   "cell_type": "markdown",
   "id": "ad190932",
   "metadata": {},
   "source": [
    "## 更多的特征变换器"
   ]
  },
  {
   "cell_type": "markdown",
   "id": "72642264",
   "metadata": {},
   "source": [
    "以下是列出 MLJ 的所有无监督模型的方法："
   ]
  },
  {
   "cell_type": "code",
   "execution_count": 79,
   "id": "ba19aa9e",
   "metadata": {
    "ExecuteTime": {
     "end_time": "2022-06-08T15:18:09.379000+08:00",
     "start_time": "2022-06-08T07:15:15.404Z"
    }
   },
   "outputs": [
    {
     "data": {
      "text/plain": [
       "60-element Vector{NamedTuple{(:name, :package_name, :is_supervised, :abstract_type, :deep_properties, :docstring, :fit_data_scitype, :human_name, :hyperparameter_ranges, :hyperparameter_types, :hyperparameters, :implemented_methods, :inverse_transform_scitype, :is_pure_julia, :is_wrapper, :iteration_parameter, :load_path, :package_license, :package_url, :package_uuid, :predict_scitype, :prediction_type, :supports_class_weights, :supports_online, :supports_training_losses, :supports_weights, :transform_scitype, :input_scitype, :target_scitype, :output_scitype)}}:\n",
       " (name = ABODDetector, package_name = OutlierDetectionNeighbors, ... )\n",
       " (name = ABODDetector, package_name = OutlierDetectionPython, ... )\n",
       " (name = AEDetector, package_name = OutlierDetectionNetworks, ... )\n",
       " (name = AffinityPropagation, package_name = ScikitLearn, ... )\n",
       " (name = AgglomerativeClustering, package_name = ScikitLearn, ... )\n",
       " (name = BM25Transformer, package_name = MLJText, ... )\n",
       " (name = Birch, package_name = ScikitLearn, ... )\n",
       " (name = CBLOFDetector, package_name = OutlierDetectionPython, ... )\n",
       " (name = COFDetector, package_name = OutlierDetectionNeighbors, ... )\n",
       " (name = COFDetector, package_name = OutlierDetectionPython, ... )\n",
       " (name = COPODDetector, package_name = OutlierDetectionPython, ... )\n",
       " (name = ContinuousEncoder, package_name = MLJModels, ... )\n",
       " (name = CountTransformer, package_name = MLJText, ... )\n",
       " ⋮\n",
       " (name = RODDetector, package_name = OutlierDetectionPython, ... )\n",
       " (name = SODDetector, package_name = OutlierDetectionPython, ... )\n",
       " (name = SOSDetector, package_name = OutlierDetectionPython, ... )\n",
       " (name = SpectralClustering, package_name = ScikitLearn, ... )\n",
       " (name = Standardizer, package_name = MLJModels, ... )\n",
       " (name = TSVDTransformer, package_name = TSVD, ... )\n",
       " (name = TfidfTransformer, package_name = MLJText, ... )\n",
       " (name = UnivariateBoxCoxTransformer, package_name = MLJModels, ... )\n",
       " (name = UnivariateDiscretizer, package_name = MLJModels, ... )\n",
       " (name = UnivariateFillImputer, package_name = MLJModels, ... )\n",
       " (name = UnivariateStandardizer, package_name = MLJModels, ... )\n",
       " (name = UnivariateTimeTypeToContinuous, package_name = MLJModels, ... )"
      ]
     },
     "execution_count": 79,
     "metadata": {},
     "output_type": "execute_result"
    }
   ],
   "source": [
    "models(m->!m.is_supervised)"
   ]
  },
  {
   "cell_type": "markdown",
   "id": "3fe716c1",
   "metadata": {},
   "source": [
    "Some commonly used ones are built-in (do not require `@load`ing):"
   ]
  },
  {
   "cell_type": "markdown",
   "id": "065e2e72",
   "metadata": {},
   "source": [
    "model type                  | does what?\n",
    "----------------------------|----------------------------------------------\n",
    "ContinuousEncoder | transform input table to a table of `Continuous` features (see above)\n",
    "FeatureSelector | retain or dump selected features\n",
    "FillImputer | impute missing values\n",
    "OneHotEncoder | one-hot encoder `Multiclass` (and optionally `OrderedFactor`) features\n",
    "Standardizer | standardize (whiten) a vector or all `Continuous` features of a table\n",
    "UnivariateBoxCoxTransformer | apply a learned Box-Cox transformation to a vector\n",
    "UnivariateDiscretizer | discretize a `Continuous` vector, and hence render its elscitypw `OrderedFactor`"
   ]
  },
  {
   "cell_type": "markdown",
   "id": "14caed02",
   "metadata": {},
   "source": [
    "除了“动态”转换器（从数据中学习一些东西并且必须拟合！）之外，用户可以将普通函数包装为转换器，这样的静态转换器可以依赖于参数，就像动态的一样。"
   ]
  },
  {
   "cell_type": "markdown",
   "id": "35eebbff",
   "metadata": {},
   "source": [
    "## 管道"
   ]
  },
  {
   "cell_type": "code",
   "execution_count": 80,
   "id": "0104bfc8",
   "metadata": {
    "ExecuteTime": {
     "end_time": "2022-06-08T15:18:09.387000+08:00",
     "start_time": "2022-06-08T07:15:15.409Z"
    }
   },
   "outputs": [
    {
     "data": {
      "text/plain": [
       "87"
      ]
     },
     "execution_count": 80,
     "metadata": {},
     "output_type": "execute_result"
    }
   ],
   "source": [
    "length(schema(Xcont).names)"
   ]
  },
  {
   "cell_type": "markdown",
   "id": "4673da26",
   "metadata": {},
   "source": [
    "假设我们还想减少数据的维度。可以做到这一点的模型是来自 MultivariateStats 的 PCA："
   ]
  },
  {
   "cell_type": "code",
   "execution_count": 81,
   "id": "e2832c32",
   "metadata": {
    "ExecuteTime": {
     "end_time": "2022-06-08T15:18:09.876000+08:00",
     "start_time": "2022-06-08T07:15:15.412Z"
    }
   },
   "outputs": [
    {
     "name": "stdout",
     "output_type": "stream",
     "text": [
      "import MLJMultivariateStatsInterface ✔\n"
     ]
    },
    {
     "name": "stderr",
     "output_type": "stream",
     "text": [
      "┌ Info: For silent loading, specify `verbosity=0`. \n",
      "└ @ Main D:\\TongYuan\\.julia\\packages\\MLJModels\\lDzCR\\src\\loading.jl:168\n"
     ]
    },
    {
     "data": {
      "text/plain": [
       "PCA(\n",
       "    maxoutdim = 0,\n",
       "    method = :auto,\n",
       "    pratio = 0.99,\n",
       "    mean = nothing)"
      ]
     },
     "execution_count": 81,
     "metadata": {},
     "output_type": "execute_result"
    }
   ],
   "source": [
    "PCA = @load PCA\n",
    "reducer = PCA()"
   ]
  },
  {
   "cell_type": "markdown",
   "id": "2f4f33d5",
   "metadata": {},
   "source": [
    "现在，我们可以简单地重复上面的工作流程，将新的转换应用到 Xcont，我们可以将编码和降维模型组合成一个模型，称为管道。虽然 MLJ 为以各种方式组合模型提供了强大的接口，但我们现在将坚持使用这些最简单的组合模型类。构造它们的最简单方法是使用 @pipeline 宏："
   ]
  },
  {
   "cell_type": "code",
   "execution_count": 82,
   "id": "67b7f035",
   "metadata": {
    "ExecuteTime": {
     "end_time": "2022-06-08T15:18:12.704000+08:00",
     "start_time": "2022-06-08T07:15:15.416Z"
    }
   },
   "outputs": [
    {
     "data": {
      "text/plain": [
       "Pipeline307(\n",
       "    continuous_encoder = ContinuousEncoder(\n",
       "            drop_last = false,\n",
       "            one_hot_ordered_factors = false),\n",
       "    pca = PCA(\n",
       "            maxoutdim = 0,\n",
       "            method = :auto,\n",
       "            pratio = 0.99,\n",
       "            mean = nothing))"
      ]
     },
     "execution_count": 82,
     "metadata": {},
     "output_type": "execute_result"
    }
   ],
   "source": [
    "pipe = @pipeline encoder reducer"
   ]
  },
  {
   "cell_type": "markdown",
   "id": "4b5dd99b",
   "metadata": {},
   "source": [
    "请注意，管道是自动生成类型的一个实例（称为 Pipeline<some digits>）。\n",
    "\n",
    "新模型的行为与任何其他特征变换器一样："
   ]
  },
  {
   "cell_type": "code",
   "execution_count": 83,
   "id": "6a036281",
   "metadata": {
    "ExecuteTime": {
     "end_time": "2022-06-08T15:18:19.399000+08:00",
     "start_time": "2022-06-08T07:15:15.418Z"
    }
   },
   "outputs": [
    {
     "name": "stderr",
     "output_type": "stream",
     "text": [
      "┌ Info: Training Machine{Pipeline307,…}.\n",
      "└ @ MLJBase D:\\TongYuan\\.julia\\packages\\MLJBase\\CMT6L\\src\\machines.jl:464\n",
      "┌ Info: Training Machine{ContinuousEncoder,…}.\n",
      "└ @ MLJBase D:\\TongYuan\\.julia\\packages\\MLJBase\\CMT6L\\src\\machines.jl:464\n",
      "┌ Info: Training Machine{PCA,…}.\n",
      "└ @ MLJBase D:\\TongYuan\\.julia\\packages\\MLJBase\\CMT6L\\src\\machines.jl:464\n",
      "┌ Error: Problem fitting the machine Machine{PCA,…}. \n",
      "└ @ MLJBase D:\\TongYuan\\.julia\\packages\\MLJBase\\CMT6L\\src\\machines.jl:594\n",
      "┌ Info: Running type checks... \n",
      "└ @ MLJBase D:\\TongYuan\\.julia\\packages\\MLJBase\\CMT6L\\src\\machines.jl:600\n",
      "┌ Info: Type checks okay. \n",
      "└ @ MLJBase D:\\TongYuan\\.julia\\packages\\MLJBase\\CMT6L\\src\\machines.jl:603\n",
      "┌ Error: Problem fitting Machine{PCA,…}\n",
      "└ @ MLJBase D:\\TongYuan\\.julia\\packages\\MLJBase\\CMT6L\\src\\machines.jl:684\n",
      "┌ Error: Problem fitting the machine Machine{Pipeline307,…}. \n",
      "└ @ MLJBase D:\\TongYuan\\.julia\\packages\\MLJBase\\CMT6L\\src\\machines.jl:594\n",
      "┌ Info: Running type checks... \n",
      "└ @ MLJBase D:\\TongYuan\\.julia\\packages\\MLJBase\\CMT6L\\src\\machines.jl:600\n",
      "┌ Info: Type checks okay. \n",
      "└ @ MLJBase D:\\TongYuan\\.julia\\packages\\MLJBase\\CMT6L\\src\\machines.jl:603\n"
     ]
    },
    {
     "ename": "LoadError",
     "evalue": "TaskFailedException\n\n\u001b[91m    nested task error: \u001b[39mMethodError: no method matching size(::MultivariateStats.PCA{Float64}, ::Int64)\n    \u001b[0mClosest candidates are:\n    \u001b[0m  size(\u001b[91m::Union{LinearAlgebra.QR, LinearAlgebra.QRCompactWY, LinearAlgebra.QRPivoted}\u001b[39m, ::Integer) at C:\\Program Files\\MWorks.Syslab 2022\\Tools\\julia-1.7.1\\share\\julia\\stdlib\\v1.7\\LinearAlgebra\\src\\qr.jl:566\n    \u001b[0m  size(\u001b[91m::Union{LinearAlgebra.Cholesky, LinearAlgebra.CholeskyPivoted}\u001b[39m, ::Integer) at C:\\Program Files\\MWorks.Syslab 2022\\Tools\\julia-1.7.1\\share\\julia\\stdlib\\v1.7\\LinearAlgebra\\src\\cholesky.jl:495\n    \u001b[0m  size(\u001b[91m::Union{LinearAlgebra.Hermitian{T, S}, LinearAlgebra.Symmetric{T, S}} where {T, S}\u001b[39m, ::Any) at C:\\Program Files\\MWorks.Syslab 2022\\Tools\\julia-1.7.1\\share\\julia\\stdlib\\v1.7\\LinearAlgebra\\src\\symmetric.jl:201\n    \u001b[0m  ...\n    Stacktrace:\n     [1] \u001b[0m\u001b[1mfit_only!\u001b[22m\u001b[0m\u001b[1m(\u001b[22m\u001b[90mmach\u001b[39m::\u001b[0mMachine\u001b[90m{MLJMultivariateStatsInterface.PCA, true}\u001b[39m, \u001b[90mwait_on_downstream\u001b[39m::\u001b[0mBool; \u001b[90mkwargs\u001b[39m::\u001b[0mBase.Pairs\u001b[90m{Symbol, Int64, Tuple{Symbol}, NamedTuple{(:verbosity,), Tuple{Int64}}}\u001b[39m\u001b[0m\u001b[1m)\u001b[22m\n    \u001b[90m   @ \u001b[39m\u001b[35mMLJBase\u001b[39m \u001b[90mD:\\TongYuan\\.julia\\packages\\MLJBase\\CMT6L\\src\\\u001b[39m\u001b[90m\u001b[4mmachines.jl:685\u001b[24m\u001b[39m\n     [2] \u001b[0m\u001b[1m(::MLJBase.var\"#79#81\"{Base.Pairs{Symbol, Int64, Tuple{Symbol}, NamedTuple{(:verbosity,), Tuple{Int64}}}, Machine{MLJMultivariateStatsInterface.PCA, true}})\u001b[22m\u001b[0m\u001b[1m(\u001b[22m\u001b[0m\u001b[1m)\u001b[22m\n    \u001b[90m   @ \u001b[39m\u001b[35mMLJBase\u001b[39m \u001b[90m.\\\u001b[39m\u001b[90m\u001b[4mtask.jl:423\u001b[24m\u001b[39m\n    \n    \u001b[91mcaused by: \u001b[39mMethodError: no method matching size(::MultivariateStats.PCA{Float64}, ::Int64)\n    \u001b[0mClosest candidates are:\n    \u001b[0m  size(\u001b[91m::Union{LinearAlgebra.QR, LinearAlgebra.QRCompactWY, LinearAlgebra.QRPivoted}\u001b[39m, ::Integer) at C:\\Program Files\\MWorks.Syslab 2022\\Tools\\julia-1.7.1\\share\\julia\\stdlib\\v1.7\\LinearAlgebra\\src\\qr.jl:566\n    \u001b[0m  size(\u001b[91m::Union{LinearAlgebra.Cholesky, LinearAlgebra.CholeskyPivoted}\u001b[39m, ::Integer) at C:\\Program Files\\MWorks.Syslab 2022\\Tools\\julia-1.7.1\\share\\julia\\stdlib\\v1.7\\LinearAlgebra\\src\\cholesky.jl:495\n    \u001b[0m  size(\u001b[91m::Union{LinearAlgebra.Hermitian{T, S}, LinearAlgebra.Symmetric{T, S}} where {T, S}\u001b[39m, ::Any) at C:\\Program Files\\MWorks.Syslab 2022\\Tools\\julia-1.7.1\\share\\julia\\stdlib\\v1.7\\LinearAlgebra\\src\\symmetric.jl:201\n    \u001b[0m  ...\n    Stacktrace:\n     [1] \u001b[0m\u001b[1mfit\u001b[22m\u001b[0m\u001b[1m(\u001b[22m\u001b[90mmodel\u001b[39m::\u001b[0mMLJMultivariateStatsInterface.PCA, \u001b[90mverbosity\u001b[39m::\u001b[0mInt64, \u001b[90mX\u001b[39m::\u001b[0mDataFrames.DataFrame\u001b[0m\u001b[1m)\u001b[22m\n    \u001b[90m   @ \u001b[39m\u001b[35mMLJMultivariateStatsInterface\u001b[39m \u001b[90mD:\\TongYuan\\.julia\\packages\\MLJMultivariateStatsInterface\\NV7Uy\\src\\models\\\u001b[39m\u001b[90m\u001b[4mdecomposition_models.jl:45\u001b[24m\u001b[39m\n     [2] \u001b[0m\u001b[1mfit_only!\u001b[22m\u001b[0m\u001b[1m(\u001b[22m\u001b[90mmach\u001b[39m::\u001b[0mMachine\u001b[90m{MLJMultivariateStatsInterface.PCA, true}\u001b[39m; \u001b[90mrows\u001b[39m::\u001b[0mNothing, \u001b[90mverbosity\u001b[39m::\u001b[0mInt64, \u001b[90mforce\u001b[39m::\u001b[0mBool\u001b[0m\u001b[1m)\u001b[22m\n    \u001b[90m   @ \u001b[39m\u001b[36mMLJBase\u001b[39m \u001b[90mD:\\TongYuan\\.julia\\packages\\MLJBase\\CMT6L\\src\\\u001b[39m\u001b[90m\u001b[4mmachines.jl:592\u001b[24m\u001b[39m\n     [3] \u001b[0m\u001b[1mfit_only!\u001b[22m\u001b[0m\u001b[1m(\u001b[22m\u001b[90mmach\u001b[39m::\u001b[0mMachine\u001b[90m{MLJMultivariateStatsInterface.PCA, true}\u001b[39m, \u001b[90mwait_on_downstream\u001b[39m::\u001b[0mBool; \u001b[90mkwargs\u001b[39m::\u001b[0mBase.Pairs\u001b[90m{Symbol, Int64, Tuple{Symbol}, NamedTuple{(:verbosity,), Tuple{Int64}}}\u001b[39m\u001b[0m\u001b[1m)\u001b[22m\n    \u001b[90m   @ \u001b[39m\u001b[36mMLJBase\u001b[39m \u001b[90mD:\\TongYuan\\.julia\\packages\\MLJBase\\CMT6L\\src\\\u001b[39m\u001b[90m\u001b[4mmachines.jl:681\u001b[24m\u001b[39m\n     [4] \u001b[0m\u001b[1m(::MLJBase.var\"#79#81\"{Base.Pairs{Symbol, Int64, Tuple{Symbol}, NamedTuple{(:verbosity,), Tuple{Int64}}}, Machine{MLJMultivariateStatsInterface.PCA, true}})\u001b[22m\u001b[0m\u001b[1m(\u001b[22m\u001b[0m\u001b[1m)\u001b[22m\n    \u001b[90m   @ \u001b[39m\u001b[36mMLJBase\u001b[39m \u001b[90m.\\\u001b[39m\u001b[90m\u001b[4mtask.jl:423\u001b[24m\u001b[39m",
     "output_type": "error",
     "traceback": [
      "TaskFailedException\n\n\u001b[91m    nested task error: \u001b[39mMethodError: no method matching size(::MultivariateStats.PCA{Float64}, ::Int64)\n    \u001b[0mClosest candidates are:\n    \u001b[0m  size(\u001b[91m::Union{LinearAlgebra.QR, LinearAlgebra.QRCompactWY, LinearAlgebra.QRPivoted}\u001b[39m, ::Integer) at C:\\Program Files\\MWorks.Syslab 2022\\Tools\\julia-1.7.1\\share\\julia\\stdlib\\v1.7\\LinearAlgebra\\src\\qr.jl:566\n    \u001b[0m  size(\u001b[91m::Union{LinearAlgebra.Cholesky, LinearAlgebra.CholeskyPivoted}\u001b[39m, ::Integer) at C:\\Program Files\\MWorks.Syslab 2022\\Tools\\julia-1.7.1\\share\\julia\\stdlib\\v1.7\\LinearAlgebra\\src\\cholesky.jl:495\n    \u001b[0m  size(\u001b[91m::Union{LinearAlgebra.Hermitian{T, S}, LinearAlgebra.Symmetric{T, S}} where {T, S}\u001b[39m, ::Any) at C:\\Program Files\\MWorks.Syslab 2022\\Tools\\julia-1.7.1\\share\\julia\\stdlib\\v1.7\\LinearAlgebra\\src\\symmetric.jl:201\n    \u001b[0m  ...\n    Stacktrace:\n     [1] \u001b[0m\u001b[1mfit_only!\u001b[22m\u001b[0m\u001b[1m(\u001b[22m\u001b[90mmach\u001b[39m::\u001b[0mMachine\u001b[90m{MLJMultivariateStatsInterface.PCA, true}\u001b[39m, \u001b[90mwait_on_downstream\u001b[39m::\u001b[0mBool; \u001b[90mkwargs\u001b[39m::\u001b[0mBase.Pairs\u001b[90m{Symbol, Int64, Tuple{Symbol}, NamedTuple{(:verbosity,), Tuple{Int64}}}\u001b[39m\u001b[0m\u001b[1m)\u001b[22m\n    \u001b[90m   @ \u001b[39m\u001b[35mMLJBase\u001b[39m \u001b[90mD:\\TongYuan\\.julia\\packages\\MLJBase\\CMT6L\\src\\\u001b[39m\u001b[90m\u001b[4mmachines.jl:685\u001b[24m\u001b[39m\n     [2] \u001b[0m\u001b[1m(::MLJBase.var\"#79#81\"{Base.Pairs{Symbol, Int64, Tuple{Symbol}, NamedTuple{(:verbosity,), Tuple{Int64}}}, Machine{MLJMultivariateStatsInterface.PCA, true}})\u001b[22m\u001b[0m\u001b[1m(\u001b[22m\u001b[0m\u001b[1m)\u001b[22m\n    \u001b[90m   @ \u001b[39m\u001b[35mMLJBase\u001b[39m \u001b[90m.\\\u001b[39m\u001b[90m\u001b[4mtask.jl:423\u001b[24m\u001b[39m\n    \n    \u001b[91mcaused by: \u001b[39mMethodError: no method matching size(::MultivariateStats.PCA{Float64}, ::Int64)\n    \u001b[0mClosest candidates are:\n    \u001b[0m  size(\u001b[91m::Union{LinearAlgebra.QR, LinearAlgebra.QRCompactWY, LinearAlgebra.QRPivoted}\u001b[39m, ::Integer) at C:\\Program Files\\MWorks.Syslab 2022\\Tools\\julia-1.7.1\\share\\julia\\stdlib\\v1.7\\LinearAlgebra\\src\\qr.jl:566\n    \u001b[0m  size(\u001b[91m::Union{LinearAlgebra.Cholesky, LinearAlgebra.CholeskyPivoted}\u001b[39m, ::Integer) at C:\\Program Files\\MWorks.Syslab 2022\\Tools\\julia-1.7.1\\share\\julia\\stdlib\\v1.7\\LinearAlgebra\\src\\cholesky.jl:495\n    \u001b[0m  size(\u001b[91m::Union{LinearAlgebra.Hermitian{T, S}, LinearAlgebra.Symmetric{T, S}} where {T, S}\u001b[39m, ::Any) at C:\\Program Files\\MWorks.Syslab 2022\\Tools\\julia-1.7.1\\share\\julia\\stdlib\\v1.7\\LinearAlgebra\\src\\symmetric.jl:201\n    \u001b[0m  ...\n    Stacktrace:\n     [1] \u001b[0m\u001b[1mfit\u001b[22m\u001b[0m\u001b[1m(\u001b[22m\u001b[90mmodel\u001b[39m::\u001b[0mMLJMultivariateStatsInterface.PCA, \u001b[90mverbosity\u001b[39m::\u001b[0mInt64, \u001b[90mX\u001b[39m::\u001b[0mDataFrames.DataFrame\u001b[0m\u001b[1m)\u001b[22m\n    \u001b[90m   @ \u001b[39m\u001b[35mMLJMultivariateStatsInterface\u001b[39m \u001b[90mD:\\TongYuan\\.julia\\packages\\MLJMultivariateStatsInterface\\NV7Uy\\src\\models\\\u001b[39m\u001b[90m\u001b[4mdecomposition_models.jl:45\u001b[24m\u001b[39m\n     [2] \u001b[0m\u001b[1mfit_only!\u001b[22m\u001b[0m\u001b[1m(\u001b[22m\u001b[90mmach\u001b[39m::\u001b[0mMachine\u001b[90m{MLJMultivariateStatsInterface.PCA, true}\u001b[39m; \u001b[90mrows\u001b[39m::\u001b[0mNothing, \u001b[90mverbosity\u001b[39m::\u001b[0mInt64, \u001b[90mforce\u001b[39m::\u001b[0mBool\u001b[0m\u001b[1m)\u001b[22m\n    \u001b[90m   @ \u001b[39m\u001b[36mMLJBase\u001b[39m \u001b[90mD:\\TongYuan\\.julia\\packages\\MLJBase\\CMT6L\\src\\\u001b[39m\u001b[90m\u001b[4mmachines.jl:592\u001b[24m\u001b[39m\n     [3] \u001b[0m\u001b[1mfit_only!\u001b[22m\u001b[0m\u001b[1m(\u001b[22m\u001b[90mmach\u001b[39m::\u001b[0mMachine\u001b[90m{MLJMultivariateStatsInterface.PCA, true}\u001b[39m, \u001b[90mwait_on_downstream\u001b[39m::\u001b[0mBool; \u001b[90mkwargs\u001b[39m::\u001b[0mBase.Pairs\u001b[90m{Symbol, Int64, Tuple{Symbol}, NamedTuple{(:verbosity,), Tuple{Int64}}}\u001b[39m\u001b[0m\u001b[1m)\u001b[22m\n    \u001b[90m   @ \u001b[39m\u001b[36mMLJBase\u001b[39m \u001b[90mD:\\TongYuan\\.julia\\packages\\MLJBase\\CMT6L\\src\\\u001b[39m\u001b[90m\u001b[4mmachines.jl:681\u001b[24m\u001b[39m\n     [4] \u001b[0m\u001b[1m(::MLJBase.var\"#79#81\"{Base.Pairs{Symbol, Int64, Tuple{Symbol}, NamedTuple{(:verbosity,), Tuple{Int64}}}, Machine{MLJMultivariateStatsInterface.PCA, true}})\u001b[22m\u001b[0m\u001b[1m(\u001b[22m\u001b[0m\u001b[1m)\u001b[22m\n    \u001b[90m   @ \u001b[39m\u001b[36mMLJBase\u001b[39m \u001b[90m.\\\u001b[39m\u001b[90m\u001b[4mtask.jl:423\u001b[24m\u001b[39m",
      "",
      "Stacktrace:",
      "  [1] sync_end(c::Channel{Any})",
      "    @ Base .\\task.jl:381",
      "  [2] macro expansion",
      "    @ .\\task.jl:400 [inlined]",
      "  [3] fit!(y::Node{Nothing}, ::CPU1{Nothing}; kwargs::Base.Pairs{Symbol, Int64, Tuple{Symbol}, NamedTuple{(:verbosity,), Tuple{Int64}}})",
      "    @ MLJBase D:\\TongYuan\\.julia\\packages\\MLJBase\\CMT6L\\src\\composition\\learning_networks\\nodes.jl:225",
      "  [4] #fit!#75",
      "    @ D:\\TongYuan\\.julia\\packages\\MLJBase\\CMT6L\\src\\composition\\learning_networks\\nodes.jl:207 [inlined]",
      "  [5] fit!(mach::Machine{UnsupervisedSurrogate, false}; kwargs::Base.Pairs{Symbol, Int64, Tuple{Symbol}, NamedTuple{(:verbosity,), Tuple{Int64}}})",
      "    @ MLJBase D:\\TongYuan\\.julia\\packages\\MLJBase\\CMT6L\\src\\composition\\learning_networks\\machines.jl:253",
      "  [6] return!(mach::Machine{UnsupervisedSurrogate, false}, model::Pipeline307, verbosity::Int64)",
      "    @ MLJBase D:\\TongYuan\\.julia\\packages\\MLJBase\\CMT6L\\src\\composition\\learning_networks\\machines.jl:399",
      "  [7] (::MLJBase.var\"#_fit#174\"{Machine{UnsupervisedSurrogate, false}, Tuple{ContinuousEncoder, MLJMultivariateStatsInterface.PCA}, Tuple{Source}})(model::Pipeline307, verbosity::Int64, args::DataFrames.DataFrame)",
      "    @ MLJBase D:\\TongYuan\\.julia\\packages\\MLJBase\\CMT6L\\src\\composition\\models\\from_network.jl:25",
      "  [8] fit(model::Pipeline307, verb::Int64, args#309::DataFrames.DataFrame)",
      "    @ Main D:\\TongYuan\\.julia\\packages\\MLJBase\\CMT6L\\src\\composition\\models\\from_network.jl:165",
      "  [9] fit_only!(mach::Machine{Pipeline307, true}; rows::Nothing, verbosity::Int64, force::Bool)",
      "    @ MLJBase D:\\TongYuan\\.julia\\packages\\MLJBase\\CMT6L\\src\\machines.jl:592",
      " [10] fit_only!",
      "    @ D:\\TongYuan\\.julia\\packages\\MLJBase\\CMT6L\\src\\machines.jl:545 [inlined]",
      " [11] #fit!#62",
      "    @ D:\\TongYuan\\.julia\\packages\\MLJBase\\CMT6L\\src\\machines.jl:659 [inlined]",
      " [12] fit!(mach::Machine{Pipeline307, true})",
      "    @ MLJBase D:\\TongYuan\\.julia\\packages\\MLJBase\\CMT6L\\src\\machines.jl:657",
      " [13] top-level scope",
      "    @ In[83]:2",
      " [14] eval",
      "    @ .\\boot.jl:373 [inlined]",
      " [15] include_string(mapexpr::typeof(REPL.softscope), mod::Module, code::String, filename::String)",
      "    @ Base .\\loading.jl:1196"
     ]
    }
   ],
   "source": [
    "mach = machine(pipe, X)\n",
    "MLJBase.fit!(mach)\n",
    "Xsmall = MLJBase.transform(mach, X)\n",
    "schema(Xsmall)"
   ]
  },
  {
   "cell_type": "markdown",
   "id": "e74ee0f0",
   "metadata": {},
   "source": [
    "想要将此预处理与岭回归结合起来吗？"
   ]
  },
  {
   "cell_type": "code",
   "execution_count": 84,
   "id": "46cf537a",
   "metadata": {
    "ExecuteTime": {
     "end_time": "2022-06-08T15:18:24.405000+08:00",
     "start_time": "2022-06-08T07:15:15.421Z"
    }
   },
   "outputs": [
    {
     "name": "stdout",
     "output_type": "stream",
     "text": [
      "import MLJLinearModels ✔\n"
     ]
    },
    {
     "name": "stderr",
     "output_type": "stream",
     "text": [
      "┌ Info: For silent loading, specify `verbosity=0`. \n",
      "└ @ Main D:\\TongYuan\\.julia\\packages\\MLJModels\\lDzCR\\src\\loading.jl:168\n"
     ]
    },
    {
     "data": {
      "text/plain": [
       "Pipeline315(\n",
       "    continuous_encoder = ContinuousEncoder(\n",
       "            drop_last = false,\n",
       "            one_hot_ordered_factors = false),\n",
       "    pca = PCA(\n",
       "            maxoutdim = 0,\n",
       "            method = :auto,\n",
       "            pratio = 0.99,\n",
       "            mean = nothing),\n",
       "    ridge_regressor = RidgeRegressor(\n",
       "            lambda = 1.0,\n",
       "            fit_intercept = true,\n",
       "            penalize_intercept = false,\n",
       "            scale_penalty_with_samples = true,\n",
       "            solver = nothing))"
      ]
     },
     "execution_count": 84,
     "metadata": {},
     "output_type": "execute_result"
    }
   ],
   "source": [
    "RidgeRegressor = @load RidgeRegressor pkg=MLJLinearModels\n",
    "rgs = RidgeRegressor()\n",
    "pipe2 = @pipeline encoder reducer rgs"
   ]
  },
  {
   "cell_type": "markdown",
   "id": "26be170f",
   "metadata": {},
   "source": [
    "现在我们的管道是一个监督模型，而不是一个特征变换器，我们可以评估其性能："
   ]
  },
  {
   "cell_type": "code",
   "execution_count": 85,
   "id": "902a4c23",
   "metadata": {
    "ExecuteTime": {
     "end_time": "2022-06-08T15:18:30.624000+08:00",
     "start_time": "2022-06-08T07:15:15.425Z"
    }
   },
   "outputs": [
    {
     "name": "stderr",
     "output_type": "stream",
     "text": [
      "┌ Error: Problem fitting the machine Machine{PCA,…}. \n",
      "└ @ MLJBase D:\\TongYuan\\.julia\\packages\\MLJBase\\CMT6L\\src\\machines.jl:594\n",
      "┌ Info: Running type checks... \n",
      "└ @ MLJBase D:\\TongYuan\\.julia\\packages\\MLJBase\\CMT6L\\src\\machines.jl:600\n",
      "┌ Info: Type checks okay. \n",
      "└ @ MLJBase D:\\TongYuan\\.julia\\packages\\MLJBase\\CMT6L\\src\\machines.jl:603\n",
      "┌ Error: Problem fitting Machine{PCA,…}\n",
      "└ @ MLJBase D:\\TongYuan\\.julia\\packages\\MLJBase\\CMT6L\\src\\machines.jl:684\n",
      "┌ Error: Problem fitting the machine Machine{Pipeline315,…}. \n",
      "└ @ MLJBase D:\\TongYuan\\.julia\\packages\\MLJBase\\CMT6L\\src\\machines.jl:594\n",
      "┌ Info: Running type checks... \n",
      "└ @ MLJBase D:\\TongYuan\\.julia\\packages\\MLJBase\\CMT6L\\src\\machines.jl:600\n",
      "┌ Info: Type checks okay. \n",
      "└ @ MLJBase D:\\TongYuan\\.julia\\packages\\MLJBase\\CMT6L\\src\\machines.jl:603\n"
     ]
    },
    {
     "ename": "LoadError",
     "evalue": "TaskFailedException\n\n\u001b[91m    nested task error: \u001b[39mMethodError: no method matching size(::MultivariateStats.PCA{Float64}, ::Int64)\n    \u001b[0mClosest candidates are:\n    \u001b[0m  size(\u001b[91m::Union{LinearAlgebra.QR, LinearAlgebra.QRCompactWY, LinearAlgebra.QRPivoted}\u001b[39m, ::Integer) at C:\\Program Files\\MWorks.Syslab 2022\\Tools\\julia-1.7.1\\share\\julia\\stdlib\\v1.7\\LinearAlgebra\\src\\qr.jl:566\n    \u001b[0m  size(\u001b[91m::Union{LinearAlgebra.Cholesky, LinearAlgebra.CholeskyPivoted}\u001b[39m, ::Integer) at C:\\Program Files\\MWorks.Syslab 2022\\Tools\\julia-1.7.1\\share\\julia\\stdlib\\v1.7\\LinearAlgebra\\src\\cholesky.jl:495\n    \u001b[0m  size(\u001b[91m::Union{LinearAlgebra.Hermitian{T, S}, LinearAlgebra.Symmetric{T, S}} where {T, S}\u001b[39m, ::Any) at C:\\Program Files\\MWorks.Syslab 2022\\Tools\\julia-1.7.1\\share\\julia\\stdlib\\v1.7\\LinearAlgebra\\src\\symmetric.jl:201\n    \u001b[0m  ...\n    Stacktrace:\n     [1] \u001b[0m\u001b[1mfit_only!\u001b[22m\u001b[0m\u001b[1m(\u001b[22m\u001b[90mmach\u001b[39m::\u001b[0mMachine\u001b[90m{MLJMultivariateStatsInterface.PCA, true}\u001b[39m, \u001b[90mwait_on_downstream\u001b[39m::\u001b[0mBool; \u001b[90mkwargs\u001b[39m::\u001b[0mBase.Pairs\u001b[90m{Symbol, Int64, Tuple{Symbol}, NamedTuple{(:verbosity,), Tuple{Int64}}}\u001b[39m\u001b[0m\u001b[1m)\u001b[22m\n    \u001b[90m   @ \u001b[39m\u001b[35mMLJBase\u001b[39m \u001b[90mD:\\TongYuan\\.julia\\packages\\MLJBase\\CMT6L\\src\\\u001b[39m\u001b[90m\u001b[4mmachines.jl:685\u001b[24m\u001b[39m\n     [2] \u001b[0m\u001b[1m(::MLJBase.var\"#79#81\"{Base.Pairs{Symbol, Int64, Tuple{Symbol}, NamedTuple{(:verbosity,), Tuple{Int64}}}, Machine{MLJMultivariateStatsInterface.PCA, true}})\u001b[22m\u001b[0m\u001b[1m(\u001b[22m\u001b[0m\u001b[1m)\u001b[22m\n    \u001b[90m   @ \u001b[39m\u001b[35mMLJBase\u001b[39m \u001b[90m.\\\u001b[39m\u001b[90m\u001b[4mtask.jl:423\u001b[24m\u001b[39m\n    \n    \u001b[91mcaused by: \u001b[39mMethodError: no method matching size(::MultivariateStats.PCA{Float64}, ::Int64)\n    \u001b[0mClosest candidates are:\n    \u001b[0m  size(\u001b[91m::Union{LinearAlgebra.QR, LinearAlgebra.QRCompactWY, LinearAlgebra.QRPivoted}\u001b[39m, ::Integer) at C:\\Program Files\\MWorks.Syslab 2022\\Tools\\julia-1.7.1\\share\\julia\\stdlib\\v1.7\\LinearAlgebra\\src\\qr.jl:566\n    \u001b[0m  size(\u001b[91m::Union{LinearAlgebra.Cholesky, LinearAlgebra.CholeskyPivoted}\u001b[39m, ::Integer) at C:\\Program Files\\MWorks.Syslab 2022\\Tools\\julia-1.7.1\\share\\julia\\stdlib\\v1.7\\LinearAlgebra\\src\\cholesky.jl:495\n    \u001b[0m  size(\u001b[91m::Union{LinearAlgebra.Hermitian{T, S}, LinearAlgebra.Symmetric{T, S}} where {T, S}\u001b[39m, ::Any) at C:\\Program Files\\MWorks.Syslab 2022\\Tools\\julia-1.7.1\\share\\julia\\stdlib\\v1.7\\LinearAlgebra\\src\\symmetric.jl:201\n    \u001b[0m  ...\n    Stacktrace:\n     [1] \u001b[0m\u001b[1mfit\u001b[22m\u001b[0m\u001b[1m(\u001b[22m\u001b[90mmodel\u001b[39m::\u001b[0mMLJMultivariateStatsInterface.PCA, \u001b[90mverbosity\u001b[39m::\u001b[0mInt64, \u001b[90mX\u001b[39m::\u001b[0mDataFrames.DataFrame\u001b[0m\u001b[1m)\u001b[22m\n    \u001b[90m   @ \u001b[39m\u001b[35mMLJMultivariateStatsInterface\u001b[39m \u001b[90mD:\\TongYuan\\.julia\\packages\\MLJMultivariateStatsInterface\\NV7Uy\\src\\models\\\u001b[39m\u001b[90m\u001b[4mdecomposition_models.jl:45\u001b[24m\u001b[39m\n     [2] \u001b[0m\u001b[1mfit_only!\u001b[22m\u001b[0m\u001b[1m(\u001b[22m\u001b[90mmach\u001b[39m::\u001b[0mMachine\u001b[90m{MLJMultivariateStatsInterface.PCA, true}\u001b[39m; \u001b[90mrows\u001b[39m::\u001b[0mNothing, \u001b[90mverbosity\u001b[39m::\u001b[0mInt64, \u001b[90mforce\u001b[39m::\u001b[0mBool\u001b[0m\u001b[1m)\u001b[22m\n    \u001b[90m   @ \u001b[39m\u001b[36mMLJBase\u001b[39m \u001b[90mD:\\TongYuan\\.julia\\packages\\MLJBase\\CMT6L\\src\\\u001b[39m\u001b[90m\u001b[4mmachines.jl:592\u001b[24m\u001b[39m\n     [3] \u001b[0m\u001b[1mfit_only!\u001b[22m\u001b[0m\u001b[1m(\u001b[22m\u001b[90mmach\u001b[39m::\u001b[0mMachine\u001b[90m{MLJMultivariateStatsInterface.PCA, true}\u001b[39m, \u001b[90mwait_on_downstream\u001b[39m::\u001b[0mBool; \u001b[90mkwargs\u001b[39m::\u001b[0mBase.Pairs\u001b[90m{Symbol, Int64, Tuple{Symbol}, NamedTuple{(:verbosity,), Tuple{Int64}}}\u001b[39m\u001b[0m\u001b[1m)\u001b[22m\n    \u001b[90m   @ \u001b[39m\u001b[36mMLJBase\u001b[39m \u001b[90mD:\\TongYuan\\.julia\\packages\\MLJBase\\CMT6L\\src\\\u001b[39m\u001b[90m\u001b[4mmachines.jl:681\u001b[24m\u001b[39m\n     [4] \u001b[0m\u001b[1m(::MLJBase.var\"#79#81\"{Base.Pairs{Symbol, Int64, Tuple{Symbol}, NamedTuple{(:verbosity,), Tuple{Int64}}}, Machine{MLJMultivariateStatsInterface.PCA, true}})\u001b[22m\u001b[0m\u001b[1m(\u001b[22m\u001b[0m\u001b[1m)\u001b[22m\n    \u001b[90m   @ \u001b[39m\u001b[36mMLJBase\u001b[39m \u001b[90m.\\\u001b[39m\u001b[90m\u001b[4mtask.jl:423\u001b[24m\u001b[39m",
     "output_type": "error",
     "traceback": [
      "TaskFailedException\n\n\u001b[91m    nested task error: \u001b[39mMethodError: no method matching size(::MultivariateStats.PCA{Float64}, ::Int64)\n    \u001b[0mClosest candidates are:\n    \u001b[0m  size(\u001b[91m::Union{LinearAlgebra.QR, LinearAlgebra.QRCompactWY, LinearAlgebra.QRPivoted}\u001b[39m, ::Integer) at C:\\Program Files\\MWorks.Syslab 2022\\Tools\\julia-1.7.1\\share\\julia\\stdlib\\v1.7\\LinearAlgebra\\src\\qr.jl:566\n    \u001b[0m  size(\u001b[91m::Union{LinearAlgebra.Cholesky, LinearAlgebra.CholeskyPivoted}\u001b[39m, ::Integer) at C:\\Program Files\\MWorks.Syslab 2022\\Tools\\julia-1.7.1\\share\\julia\\stdlib\\v1.7\\LinearAlgebra\\src\\cholesky.jl:495\n    \u001b[0m  size(\u001b[91m::Union{LinearAlgebra.Hermitian{T, S}, LinearAlgebra.Symmetric{T, S}} where {T, S}\u001b[39m, ::Any) at C:\\Program Files\\MWorks.Syslab 2022\\Tools\\julia-1.7.1\\share\\julia\\stdlib\\v1.7\\LinearAlgebra\\src\\symmetric.jl:201\n    \u001b[0m  ...\n    Stacktrace:\n     [1] \u001b[0m\u001b[1mfit_only!\u001b[22m\u001b[0m\u001b[1m(\u001b[22m\u001b[90mmach\u001b[39m::\u001b[0mMachine\u001b[90m{MLJMultivariateStatsInterface.PCA, true}\u001b[39m, \u001b[90mwait_on_downstream\u001b[39m::\u001b[0mBool; \u001b[90mkwargs\u001b[39m::\u001b[0mBase.Pairs\u001b[90m{Symbol, Int64, Tuple{Symbol}, NamedTuple{(:verbosity,), Tuple{Int64}}}\u001b[39m\u001b[0m\u001b[1m)\u001b[22m\n    \u001b[90m   @ \u001b[39m\u001b[35mMLJBase\u001b[39m \u001b[90mD:\\TongYuan\\.julia\\packages\\MLJBase\\CMT6L\\src\\\u001b[39m\u001b[90m\u001b[4mmachines.jl:685\u001b[24m\u001b[39m\n     [2] \u001b[0m\u001b[1m(::MLJBase.var\"#79#81\"{Base.Pairs{Symbol, Int64, Tuple{Symbol}, NamedTuple{(:verbosity,), Tuple{Int64}}}, Machine{MLJMultivariateStatsInterface.PCA, true}})\u001b[22m\u001b[0m\u001b[1m(\u001b[22m\u001b[0m\u001b[1m)\u001b[22m\n    \u001b[90m   @ \u001b[39m\u001b[35mMLJBase\u001b[39m \u001b[90m.\\\u001b[39m\u001b[90m\u001b[4mtask.jl:423\u001b[24m\u001b[39m\n    \n    \u001b[91mcaused by: \u001b[39mMethodError: no method matching size(::MultivariateStats.PCA{Float64}, ::Int64)\n    \u001b[0mClosest candidates are:\n    \u001b[0m  size(\u001b[91m::Union{LinearAlgebra.QR, LinearAlgebra.QRCompactWY, LinearAlgebra.QRPivoted}\u001b[39m, ::Integer) at C:\\Program Files\\MWorks.Syslab 2022\\Tools\\julia-1.7.1\\share\\julia\\stdlib\\v1.7\\LinearAlgebra\\src\\qr.jl:566\n    \u001b[0m  size(\u001b[91m::Union{LinearAlgebra.Cholesky, LinearAlgebra.CholeskyPivoted}\u001b[39m, ::Integer) at C:\\Program Files\\MWorks.Syslab 2022\\Tools\\julia-1.7.1\\share\\julia\\stdlib\\v1.7\\LinearAlgebra\\src\\cholesky.jl:495\n    \u001b[0m  size(\u001b[91m::Union{LinearAlgebra.Hermitian{T, S}, LinearAlgebra.Symmetric{T, S}} where {T, S}\u001b[39m, ::Any) at C:\\Program Files\\MWorks.Syslab 2022\\Tools\\julia-1.7.1\\share\\julia\\stdlib\\v1.7\\LinearAlgebra\\src\\symmetric.jl:201\n    \u001b[0m  ...\n    Stacktrace:\n     [1] \u001b[0m\u001b[1mfit\u001b[22m\u001b[0m\u001b[1m(\u001b[22m\u001b[90mmodel\u001b[39m::\u001b[0mMLJMultivariateStatsInterface.PCA, \u001b[90mverbosity\u001b[39m::\u001b[0mInt64, \u001b[90mX\u001b[39m::\u001b[0mDataFrames.DataFrame\u001b[0m\u001b[1m)\u001b[22m\n    \u001b[90m   @ \u001b[39m\u001b[35mMLJMultivariateStatsInterface\u001b[39m \u001b[90mD:\\TongYuan\\.julia\\packages\\MLJMultivariateStatsInterface\\NV7Uy\\src\\models\\\u001b[39m\u001b[90m\u001b[4mdecomposition_models.jl:45\u001b[24m\u001b[39m\n     [2] \u001b[0m\u001b[1mfit_only!\u001b[22m\u001b[0m\u001b[1m(\u001b[22m\u001b[90mmach\u001b[39m::\u001b[0mMachine\u001b[90m{MLJMultivariateStatsInterface.PCA, true}\u001b[39m; \u001b[90mrows\u001b[39m::\u001b[0mNothing, \u001b[90mverbosity\u001b[39m::\u001b[0mInt64, \u001b[90mforce\u001b[39m::\u001b[0mBool\u001b[0m\u001b[1m)\u001b[22m\n    \u001b[90m   @ \u001b[39m\u001b[36mMLJBase\u001b[39m \u001b[90mD:\\TongYuan\\.julia\\packages\\MLJBase\\CMT6L\\src\\\u001b[39m\u001b[90m\u001b[4mmachines.jl:592\u001b[24m\u001b[39m\n     [3] \u001b[0m\u001b[1mfit_only!\u001b[22m\u001b[0m\u001b[1m(\u001b[22m\u001b[90mmach\u001b[39m::\u001b[0mMachine\u001b[90m{MLJMultivariateStatsInterface.PCA, true}\u001b[39m, \u001b[90mwait_on_downstream\u001b[39m::\u001b[0mBool; \u001b[90mkwargs\u001b[39m::\u001b[0mBase.Pairs\u001b[90m{Symbol, Int64, Tuple{Symbol}, NamedTuple{(:verbosity,), Tuple{Int64}}}\u001b[39m\u001b[0m\u001b[1m)\u001b[22m\n    \u001b[90m   @ \u001b[39m\u001b[36mMLJBase\u001b[39m \u001b[90mD:\\TongYuan\\.julia\\packages\\MLJBase\\CMT6L\\src\\\u001b[39m\u001b[90m\u001b[4mmachines.jl:681\u001b[24m\u001b[39m\n     [4] \u001b[0m\u001b[1m(::MLJBase.var\"#79#81\"{Base.Pairs{Symbol, Int64, Tuple{Symbol}, NamedTuple{(:verbosity,), Tuple{Int64}}}, Machine{MLJMultivariateStatsInterface.PCA, true}})\u001b[22m\u001b[0m\u001b[1m(\u001b[22m\u001b[0m\u001b[1m)\u001b[22m\n    \u001b[90m   @ \u001b[39m\u001b[36mMLJBase\u001b[39m \u001b[90m.\\\u001b[39m\u001b[90m\u001b[4mtask.jl:423\u001b[24m\u001b[39m",
      "",
      "Stacktrace:",
      "  [1] sync_end(c::Channel{Any})",
      "    @ Base .\\task.jl:381",
      "  [2] macro expansion",
      "    @ .\\task.jl:400 [inlined]",
      "  [3] fit!(y::Node{Nothing}, ::CPU1{Nothing}; kwargs::Base.Pairs{Symbol, Int64, Tuple{Symbol}, NamedTuple{(:verbosity,), Tuple{Int64}}})",
      "    @ MLJBase D:\\TongYuan\\.julia\\packages\\MLJBase\\CMT6L\\src\\composition\\learning_networks\\nodes.jl:225",
      "  [4] #fit!#75",
      "    @ D:\\TongYuan\\.julia\\packages\\MLJBase\\CMT6L\\src\\composition\\learning_networks\\nodes.jl:207 [inlined]",
      "  [5] fit!(mach::Machine{DeterministicSurrogate, false}; kwargs::Base.Pairs{Symbol, Int64, Tuple{Symbol}, NamedTuple{(:verbosity,), Tuple{Int64}}})",
      "    @ MLJBase D:\\TongYuan\\.julia\\packages\\MLJBase\\CMT6L\\src\\composition\\learning_networks\\machines.jl:253",
      "  [6] return!(mach::Machine{DeterministicSurrogate, false}, model::Pipeline315, verbosity::Int64)",
      "    @ MLJBase D:\\TongYuan\\.julia\\packages\\MLJBase\\CMT6L\\src\\composition\\learning_networks\\machines.jl:399",
      "  [7] (::MLJBase.var\"#_fit#174\"{Machine{DeterministicSurrogate, false}, Tuple{ContinuousEncoder, MLJMultivariateStatsInterface.PCA, MLJLinearModels.RidgeRegressor}, Tuple{Source, Source}})(::Pipeline315, ::Int64, ::DataFrames.DataFrame, ::Vararg{Any})",
      "    @ MLJBase D:\\TongYuan\\.julia\\packages\\MLJBase\\CMT6L\\src\\composition\\models\\from_network.jl:25",
      "  [8] fit(::Pipeline315, ::Int64, ::DataFrames.DataFrame, ::Vector{Float64})",
      "    @ Main D:\\TongYuan\\.julia\\packages\\MLJBase\\CMT6L\\src\\composition\\models\\from_network.jl:165",
      "  [9] fit_only!(mach::Machine{Pipeline315, true}; rows::Vector{Int64}, verbosity::Int64, force::Bool)",
      "    @ MLJBase D:\\TongYuan\\.julia\\packages\\MLJBase\\CMT6L\\src\\machines.jl:592",
      " [10] #fit!#62",
      "    @ D:\\TongYuan\\.julia\\packages\\MLJBase\\CMT6L\\src\\machines.jl:659 [inlined]",
      " [11] fit_and_extract_on_fold",
      "    @ D:\\TongYuan\\.julia\\packages\\MLJBase\\CMT6L\\src\\resampling.jl:1141 [inlined]",
      " [12] (::MLJBase.var\"#275#276\"{MLJBase.var\"#fit_and_extract_on_fold#298\"{Vector{Tuple{Vector{Int64}, Vector{Int64}}}, Nothing, Nothing, Int64, Vector{MeanAbsoluteError}, Vector{typeof(MLJModelInterface.predict)}, Bool, Bool, Vector{Float64}, DataFrames.DataFrame}, Machine{Pipeline315, true}, Int64})(k::Int64)",
      "    @ MLJBase D:\\TongYuan\\.julia\\packages\\MLJBase\\CMT6L\\src\\resampling.jl:980",
      " [13] mapreduce_first",
      "    @ .\\reduce.jl:394 [inlined]",
      " [14] _mapreduce(f::MLJBase.var\"#275#276\"{MLJBase.var\"#fit_and_extract_on_fold#298\"{Vector{Tuple{Vector{Int64}, Vector{Int64}}}, Nothing, Nothing, Int64, Vector{MeanAbsoluteError}, Vector{typeof(MLJModelInterface.predict)}, Bool, Bool, Vector{Float64}, DataFrames.DataFrame}, Machine{Pipeline315, true}, Int64}, op::typeof(vcat), #unused#::IndexLinear, A::UnitRange{Int64})",
      "    @ Base .\\reduce.jl:405",
      " [15] _mapreduce_dim",
      "    @ .\\reducedim.jl:330 [inlined]",
      " [16] #mapreduce#725",
      "    @ .\\reducedim.jl:322 [inlined]",
      " [17] mapreduce",
      "    @ .\\reducedim.jl:322 [inlined]",
      " [18] _evaluate!(func::MLJBase.var\"#fit_and_extract_on_fold#298\"{Vector{Tuple{Vector{Int64}, Vector{Int64}}}, Nothing, Nothing, Int64, Vector{MeanAbsoluteError}, Vector{typeof(MLJModelInterface.predict)}, Bool, Bool, Vector{Float64}, DataFrames.DataFrame}, mach::Machine{Pipeline315, true}, #unused#::CPU1{Nothing}, nfolds::Int64, verbosity::Int64)",
      "    @ MLJBase D:\\TongYuan\\.julia\\packages\\MLJBase\\CMT6L\\src\\resampling.jl:979",
      " [19] evaluate!(mach::Machine{Pipeline315, true}, resampling::Vector{Tuple{Vector{Int64}, Vector{Int64}}}, weights::Nothing, class_weights::Nothing, rows::Nothing, verbosity::Int64, repeats::Int64, measures::Vector{MeanAbsoluteError}, operations::Vector{typeof(MLJModelInterface.predict)}, acceleration::CPU1{Nothing}, force::Bool)",
      "    @ MLJBase D:\\TongYuan\\.julia\\packages\\MLJBase\\CMT6L\\src\\resampling.jl:1182",
      " [20] evaluate!(::Machine{Pipeline315, true}, ::Holdout, ::Nothing, ::Nothing, ::Nothing, ::Int64, ::Int64, ::Vector{MeanAbsoluteError}, ::Vector{typeof(MLJModelInterface.predict)}, ::CPU1{Nothing}, ::Bool)",
      "    @ MLJBase D:\\TongYuan\\.julia\\packages\\MLJBase\\CMT6L\\src\\resampling.jl:1253",
      " [21] evaluate!(mach::Machine{Pipeline315, true}; resampling::Holdout, measures::Nothing, measure::MeanAbsoluteError, weights::Nothing, class_weights::Nothing, operations::Nothing, operation::Nothing, acceleration::CPU1{Nothing}, rows::Nothing, repeats::Int64, force::Bool, check_measure::Bool, verbosity::Int64)",
      "    @ MLJBase D:\\TongYuan\\.julia\\packages\\MLJBase\\CMT6L\\src\\resampling.jl:940",
      " [22] top-level scope",
      "    @ In[85]:2",
      " [23] eval",
      "    @ .\\boot.jl:373 [inlined]",
      " [24] include_string(mapexpr::typeof(REPL.softscope), mod::Module, code::String, filename::String)",
      "    @ Base .\\loading.jl:1196"
     ]
    }
   ],
   "source": [
    "mach = machine(pipe2, X, y)\n",
    "evaluate!(mach, measure=mae, resampling=Holdout()) # CV(nfolds=6) is default"
   ]
  },
  {
   "cell_type": "markdown",
   "id": "ec5ed601",
   "metadata": {},
   "source": [
    "## 训练混合模型"
   ]
  },
  {
   "cell_type": "markdown",
   "id": "0fbf24d1",
   "metadata": {},
   "source": [
    "现在注意如果我们对所有数据进行训练，然后更改回归量超参数并重新训练会发生什么："
   ]
  },
  {
   "cell_type": "code",
   "execution_count": 86,
   "id": "0f2d64f2",
   "metadata": {
    "ExecuteTime": {
     "end_time": "2022-06-08T15:18:31.031000+08:00",
     "start_time": "2022-06-08T07:15:15.429Z"
    }
   },
   "outputs": [
    {
     "name": "stderr",
     "output_type": "stream",
     "text": [
      "┌ Info: Training Machine{Pipeline315,…}.\n",
      "└ @ MLJBase D:\\TongYuan\\.julia\\packages\\MLJBase\\CMT6L\\src\\machines.jl:464\n",
      "┌ Info: Training Machine{ContinuousEncoder,…}.\n",
      "└ @ MLJBase D:\\TongYuan\\.julia\\packages\\MLJBase\\CMT6L\\src\\machines.jl:464\n",
      "┌ Info: Training Machine{PCA,…}.\n",
      "└ @ MLJBase D:\\TongYuan\\.julia\\packages\\MLJBase\\CMT6L\\src\\machines.jl:464\n",
      "┌ Error: Problem fitting the machine Machine{PCA,…}. \n",
      "└ @ MLJBase D:\\TongYuan\\.julia\\packages\\MLJBase\\CMT6L\\src\\machines.jl:594\n",
      "┌ Info: Running type checks... \n",
      "└ @ MLJBase D:\\TongYuan\\.julia\\packages\\MLJBase\\CMT6L\\src\\machines.jl:600\n",
      "┌ Info: Type checks okay. \n",
      "└ @ MLJBase D:\\TongYuan\\.julia\\packages\\MLJBase\\CMT6L\\src\\machines.jl:603\n",
      "┌ Error: Problem fitting Machine{PCA,…}\n",
      "└ @ MLJBase D:\\TongYuan\\.julia\\packages\\MLJBase\\CMT6L\\src\\machines.jl:684\n",
      "┌ Error: Problem fitting the machine Machine{Pipeline315,…}. \n",
      "└ @ MLJBase D:\\TongYuan\\.julia\\packages\\MLJBase\\CMT6L\\src\\machines.jl:594\n",
      "┌ Info: Running type checks... \n",
      "└ @ MLJBase D:\\TongYuan\\.julia\\packages\\MLJBase\\CMT6L\\src\\machines.jl:600\n",
      "┌ Info: Type checks okay. \n",
      "└ @ MLJBase D:\\TongYuan\\.julia\\packages\\MLJBase\\CMT6L\\src\\machines.jl:603\n"
     ]
    },
    {
     "ename": "LoadError",
     "evalue": "TaskFailedException\n\n\u001b[91m    nested task error: \u001b[39mMethodError: no method matching size(::MultivariateStats.PCA{Float64}, ::Int64)\n    \u001b[0mClosest candidates are:\n    \u001b[0m  size(\u001b[91m::Union{LinearAlgebra.QR, LinearAlgebra.QRCompactWY, LinearAlgebra.QRPivoted}\u001b[39m, ::Integer) at C:\\Program Files\\MWorks.Syslab 2022\\Tools\\julia-1.7.1\\share\\julia\\stdlib\\v1.7\\LinearAlgebra\\src\\qr.jl:566\n    \u001b[0m  size(\u001b[91m::Union{LinearAlgebra.Cholesky, LinearAlgebra.CholeskyPivoted}\u001b[39m, ::Integer) at C:\\Program Files\\MWorks.Syslab 2022\\Tools\\julia-1.7.1\\share\\julia\\stdlib\\v1.7\\LinearAlgebra\\src\\cholesky.jl:495\n    \u001b[0m  size(\u001b[91m::Union{LinearAlgebra.Hermitian{T, S}, LinearAlgebra.Symmetric{T, S}} where {T, S}\u001b[39m, ::Any) at C:\\Program Files\\MWorks.Syslab 2022\\Tools\\julia-1.7.1\\share\\julia\\stdlib\\v1.7\\LinearAlgebra\\src\\symmetric.jl:201\n    \u001b[0m  ...\n    Stacktrace:\n     [1] \u001b[0m\u001b[1mfit_only!\u001b[22m\u001b[0m\u001b[1m(\u001b[22m\u001b[90mmach\u001b[39m::\u001b[0mMachine\u001b[90m{MLJMultivariateStatsInterface.PCA, true}\u001b[39m, \u001b[90mwait_on_downstream\u001b[39m::\u001b[0mBool; \u001b[90mkwargs\u001b[39m::\u001b[0mBase.Pairs\u001b[90m{Symbol, Int64, Tuple{Symbol}, NamedTuple{(:verbosity,), Tuple{Int64}}}\u001b[39m\u001b[0m\u001b[1m)\u001b[22m\n    \u001b[90m   @ \u001b[39m\u001b[35mMLJBase\u001b[39m \u001b[90mD:\\TongYuan\\.julia\\packages\\MLJBase\\CMT6L\\src\\\u001b[39m\u001b[90m\u001b[4mmachines.jl:685\u001b[24m\u001b[39m\n     [2] \u001b[0m\u001b[1m(::MLJBase.var\"#79#81\"{Base.Pairs{Symbol, Int64, Tuple{Symbol}, NamedTuple{(:verbosity,), Tuple{Int64}}}, Machine{MLJMultivariateStatsInterface.PCA, true}})\u001b[22m\u001b[0m\u001b[1m(\u001b[22m\u001b[0m\u001b[1m)\u001b[22m\n    \u001b[90m   @ \u001b[39m\u001b[35mMLJBase\u001b[39m \u001b[90m.\\\u001b[39m\u001b[90m\u001b[4mtask.jl:423\u001b[24m\u001b[39m\n    \n    \u001b[91mcaused by: \u001b[39mMethodError: no method matching size(::MultivariateStats.PCA{Float64}, ::Int64)\n    \u001b[0mClosest candidates are:\n    \u001b[0m  size(\u001b[91m::Union{LinearAlgebra.QR, LinearAlgebra.QRCompactWY, LinearAlgebra.QRPivoted}\u001b[39m, ::Integer) at C:\\Program Files\\MWorks.Syslab 2022\\Tools\\julia-1.7.1\\share\\julia\\stdlib\\v1.7\\LinearAlgebra\\src\\qr.jl:566\n    \u001b[0m  size(\u001b[91m::Union{LinearAlgebra.Cholesky, LinearAlgebra.CholeskyPivoted}\u001b[39m, ::Integer) at C:\\Program Files\\MWorks.Syslab 2022\\Tools\\julia-1.7.1\\share\\julia\\stdlib\\v1.7\\LinearAlgebra\\src\\cholesky.jl:495\n    \u001b[0m  size(\u001b[91m::Union{LinearAlgebra.Hermitian{T, S}, LinearAlgebra.Symmetric{T, S}} where {T, S}\u001b[39m, ::Any) at C:\\Program Files\\MWorks.Syslab 2022\\Tools\\julia-1.7.1\\share\\julia\\stdlib\\v1.7\\LinearAlgebra\\src\\symmetric.jl:201\n    \u001b[0m  ...\n    Stacktrace:\n     [1] \u001b[0m\u001b[1mfit\u001b[22m\u001b[0m\u001b[1m(\u001b[22m\u001b[90mmodel\u001b[39m::\u001b[0mMLJMultivariateStatsInterface.PCA, \u001b[90mverbosity\u001b[39m::\u001b[0mInt64, \u001b[90mX\u001b[39m::\u001b[0mDataFrames.DataFrame\u001b[0m\u001b[1m)\u001b[22m\n    \u001b[90m   @ \u001b[39m\u001b[35mMLJMultivariateStatsInterface\u001b[39m \u001b[90mD:\\TongYuan\\.julia\\packages\\MLJMultivariateStatsInterface\\NV7Uy\\src\\models\\\u001b[39m\u001b[90m\u001b[4mdecomposition_models.jl:45\u001b[24m\u001b[39m\n     [2] \u001b[0m\u001b[1mfit_only!\u001b[22m\u001b[0m\u001b[1m(\u001b[22m\u001b[90mmach\u001b[39m::\u001b[0mMachine\u001b[90m{MLJMultivariateStatsInterface.PCA, true}\u001b[39m; \u001b[90mrows\u001b[39m::\u001b[0mNothing, \u001b[90mverbosity\u001b[39m::\u001b[0mInt64, \u001b[90mforce\u001b[39m::\u001b[0mBool\u001b[0m\u001b[1m)\u001b[22m\n    \u001b[90m   @ \u001b[39m\u001b[36mMLJBase\u001b[39m \u001b[90mD:\\TongYuan\\.julia\\packages\\MLJBase\\CMT6L\\src\\\u001b[39m\u001b[90m\u001b[4mmachines.jl:592\u001b[24m\u001b[39m\n     [3] \u001b[0m\u001b[1mfit_only!\u001b[22m\u001b[0m\u001b[1m(\u001b[22m\u001b[90mmach\u001b[39m::\u001b[0mMachine\u001b[90m{MLJMultivariateStatsInterface.PCA, true}\u001b[39m, \u001b[90mwait_on_downstream\u001b[39m::\u001b[0mBool; \u001b[90mkwargs\u001b[39m::\u001b[0mBase.Pairs\u001b[90m{Symbol, Int64, Tuple{Symbol}, NamedTuple{(:verbosity,), Tuple{Int64}}}\u001b[39m\u001b[0m\u001b[1m)\u001b[22m\n    \u001b[90m   @ \u001b[39m\u001b[36mMLJBase\u001b[39m \u001b[90mD:\\TongYuan\\.julia\\packages\\MLJBase\\CMT6L\\src\\\u001b[39m\u001b[90m\u001b[4mmachines.jl:681\u001b[24m\u001b[39m\n     [4] \u001b[0m\u001b[1m(::MLJBase.var\"#79#81\"{Base.Pairs{Symbol, Int64, Tuple{Symbol}, NamedTuple{(:verbosity,), Tuple{Int64}}}, Machine{MLJMultivariateStatsInterface.PCA, true}})\u001b[22m\u001b[0m\u001b[1m(\u001b[22m\u001b[0m\u001b[1m)\u001b[22m\n    \u001b[90m   @ \u001b[39m\u001b[36mMLJBase\u001b[39m \u001b[90m.\\\u001b[39m\u001b[90m\u001b[4mtask.jl:423\u001b[24m\u001b[39m",
     "output_type": "error",
     "traceback": [
      "TaskFailedException\n\n\u001b[91m    nested task error: \u001b[39mMethodError: no method matching size(::MultivariateStats.PCA{Float64}, ::Int64)\n    \u001b[0mClosest candidates are:\n    \u001b[0m  size(\u001b[91m::Union{LinearAlgebra.QR, LinearAlgebra.QRCompactWY, LinearAlgebra.QRPivoted}\u001b[39m, ::Integer) at C:\\Program Files\\MWorks.Syslab 2022\\Tools\\julia-1.7.1\\share\\julia\\stdlib\\v1.7\\LinearAlgebra\\src\\qr.jl:566\n    \u001b[0m  size(\u001b[91m::Union{LinearAlgebra.Cholesky, LinearAlgebra.CholeskyPivoted}\u001b[39m, ::Integer) at C:\\Program Files\\MWorks.Syslab 2022\\Tools\\julia-1.7.1\\share\\julia\\stdlib\\v1.7\\LinearAlgebra\\src\\cholesky.jl:495\n    \u001b[0m  size(\u001b[91m::Union{LinearAlgebra.Hermitian{T, S}, LinearAlgebra.Symmetric{T, S}} where {T, S}\u001b[39m, ::Any) at C:\\Program Files\\MWorks.Syslab 2022\\Tools\\julia-1.7.1\\share\\julia\\stdlib\\v1.7\\LinearAlgebra\\src\\symmetric.jl:201\n    \u001b[0m  ...\n    Stacktrace:\n     [1] \u001b[0m\u001b[1mfit_only!\u001b[22m\u001b[0m\u001b[1m(\u001b[22m\u001b[90mmach\u001b[39m::\u001b[0mMachine\u001b[90m{MLJMultivariateStatsInterface.PCA, true}\u001b[39m, \u001b[90mwait_on_downstream\u001b[39m::\u001b[0mBool; \u001b[90mkwargs\u001b[39m::\u001b[0mBase.Pairs\u001b[90m{Symbol, Int64, Tuple{Symbol}, NamedTuple{(:verbosity,), Tuple{Int64}}}\u001b[39m\u001b[0m\u001b[1m)\u001b[22m\n    \u001b[90m   @ \u001b[39m\u001b[35mMLJBase\u001b[39m \u001b[90mD:\\TongYuan\\.julia\\packages\\MLJBase\\CMT6L\\src\\\u001b[39m\u001b[90m\u001b[4mmachines.jl:685\u001b[24m\u001b[39m\n     [2] \u001b[0m\u001b[1m(::MLJBase.var\"#79#81\"{Base.Pairs{Symbol, Int64, Tuple{Symbol}, NamedTuple{(:verbosity,), Tuple{Int64}}}, Machine{MLJMultivariateStatsInterface.PCA, true}})\u001b[22m\u001b[0m\u001b[1m(\u001b[22m\u001b[0m\u001b[1m)\u001b[22m\n    \u001b[90m   @ \u001b[39m\u001b[35mMLJBase\u001b[39m \u001b[90m.\\\u001b[39m\u001b[90m\u001b[4mtask.jl:423\u001b[24m\u001b[39m\n    \n    \u001b[91mcaused by: \u001b[39mMethodError: no method matching size(::MultivariateStats.PCA{Float64}, ::Int64)\n    \u001b[0mClosest candidates are:\n    \u001b[0m  size(\u001b[91m::Union{LinearAlgebra.QR, LinearAlgebra.QRCompactWY, LinearAlgebra.QRPivoted}\u001b[39m, ::Integer) at C:\\Program Files\\MWorks.Syslab 2022\\Tools\\julia-1.7.1\\share\\julia\\stdlib\\v1.7\\LinearAlgebra\\src\\qr.jl:566\n    \u001b[0m  size(\u001b[91m::Union{LinearAlgebra.Cholesky, LinearAlgebra.CholeskyPivoted}\u001b[39m, ::Integer) at C:\\Program Files\\MWorks.Syslab 2022\\Tools\\julia-1.7.1\\share\\julia\\stdlib\\v1.7\\LinearAlgebra\\src\\cholesky.jl:495\n    \u001b[0m  size(\u001b[91m::Union{LinearAlgebra.Hermitian{T, S}, LinearAlgebra.Symmetric{T, S}} where {T, S}\u001b[39m, ::Any) at C:\\Program Files\\MWorks.Syslab 2022\\Tools\\julia-1.7.1\\share\\julia\\stdlib\\v1.7\\LinearAlgebra\\src\\symmetric.jl:201\n    \u001b[0m  ...\n    Stacktrace:\n     [1] \u001b[0m\u001b[1mfit\u001b[22m\u001b[0m\u001b[1m(\u001b[22m\u001b[90mmodel\u001b[39m::\u001b[0mMLJMultivariateStatsInterface.PCA, \u001b[90mverbosity\u001b[39m::\u001b[0mInt64, \u001b[90mX\u001b[39m::\u001b[0mDataFrames.DataFrame\u001b[0m\u001b[1m)\u001b[22m\n    \u001b[90m   @ \u001b[39m\u001b[35mMLJMultivariateStatsInterface\u001b[39m \u001b[90mD:\\TongYuan\\.julia\\packages\\MLJMultivariateStatsInterface\\NV7Uy\\src\\models\\\u001b[39m\u001b[90m\u001b[4mdecomposition_models.jl:45\u001b[24m\u001b[39m\n     [2] \u001b[0m\u001b[1mfit_only!\u001b[22m\u001b[0m\u001b[1m(\u001b[22m\u001b[90mmach\u001b[39m::\u001b[0mMachine\u001b[90m{MLJMultivariateStatsInterface.PCA, true}\u001b[39m; \u001b[90mrows\u001b[39m::\u001b[0mNothing, \u001b[90mverbosity\u001b[39m::\u001b[0mInt64, \u001b[90mforce\u001b[39m::\u001b[0mBool\u001b[0m\u001b[1m)\u001b[22m\n    \u001b[90m   @ \u001b[39m\u001b[36mMLJBase\u001b[39m \u001b[90mD:\\TongYuan\\.julia\\packages\\MLJBase\\CMT6L\\src\\\u001b[39m\u001b[90m\u001b[4mmachines.jl:592\u001b[24m\u001b[39m\n     [3] \u001b[0m\u001b[1mfit_only!\u001b[22m\u001b[0m\u001b[1m(\u001b[22m\u001b[90mmach\u001b[39m::\u001b[0mMachine\u001b[90m{MLJMultivariateStatsInterface.PCA, true}\u001b[39m, \u001b[90mwait_on_downstream\u001b[39m::\u001b[0mBool; \u001b[90mkwargs\u001b[39m::\u001b[0mBase.Pairs\u001b[90m{Symbol, Int64, Tuple{Symbol}, NamedTuple{(:verbosity,), Tuple{Int64}}}\u001b[39m\u001b[0m\u001b[1m)\u001b[22m\n    \u001b[90m   @ \u001b[39m\u001b[36mMLJBase\u001b[39m \u001b[90mD:\\TongYuan\\.julia\\packages\\MLJBase\\CMT6L\\src\\\u001b[39m\u001b[90m\u001b[4mmachines.jl:681\u001b[24m\u001b[39m\n     [4] \u001b[0m\u001b[1m(::MLJBase.var\"#79#81\"{Base.Pairs{Symbol, Int64, Tuple{Symbol}, NamedTuple{(:verbosity,), Tuple{Int64}}}, Machine{MLJMultivariateStatsInterface.PCA, true}})\u001b[22m\u001b[0m\u001b[1m(\u001b[22m\u001b[0m\u001b[1m)\u001b[22m\n    \u001b[90m   @ \u001b[39m\u001b[36mMLJBase\u001b[39m \u001b[90m.\\\u001b[39m\u001b[90m\u001b[4mtask.jl:423\u001b[24m\u001b[39m",
      "",
      "Stacktrace:",
      "  [1] sync_end(c::Channel{Any})",
      "    @ Base .\\task.jl:381",
      "  [2] macro expansion",
      "    @ .\\task.jl:400 [inlined]",
      "  [3] fit!(y::Node{Nothing}, ::CPU1{Nothing}; kwargs::Base.Pairs{Symbol, Int64, Tuple{Symbol}, NamedTuple{(:verbosity,), Tuple{Int64}}})",
      "    @ MLJBase D:\\TongYuan\\.julia\\packages\\MLJBase\\CMT6L\\src\\composition\\learning_networks\\nodes.jl:225",
      "  [4] #fit!#75",
      "    @ D:\\TongYuan\\.julia\\packages\\MLJBase\\CMT6L\\src\\composition\\learning_networks\\nodes.jl:207 [inlined]",
      "  [5] fit!(mach::Machine{DeterministicSurrogate, false}; kwargs::Base.Pairs{Symbol, Int64, Tuple{Symbol}, NamedTuple{(:verbosity,), Tuple{Int64}}})",
      "    @ MLJBase D:\\TongYuan\\.julia\\packages\\MLJBase\\CMT6L\\src\\composition\\learning_networks\\machines.jl:253",
      "  [6] return!(mach::Machine{DeterministicSurrogate, false}, model::Pipeline315, verbosity::Int64)",
      "    @ MLJBase D:\\TongYuan\\.julia\\packages\\MLJBase\\CMT6L\\src\\composition\\learning_networks\\machines.jl:399",
      "  [7] (::MLJBase.var\"#_fit#174\"{Machine{DeterministicSurrogate, false}, Tuple{ContinuousEncoder, MLJMultivariateStatsInterface.PCA, MLJLinearModels.RidgeRegressor}, Tuple{Source, Source}})(::Pipeline315, ::Int64, ::DataFrames.DataFrame, ::Vararg{Any})",
      "    @ MLJBase D:\\TongYuan\\.julia\\packages\\MLJBase\\CMT6L\\src\\composition\\models\\from_network.jl:25",
      "  [8] fit(::Pipeline315, ::Int64, ::DataFrames.DataFrame, ::Vector{Float64})",
      "    @ Main D:\\TongYuan\\.julia\\packages\\MLJBase\\CMT6L\\src\\composition\\models\\from_network.jl:165",
      "  [9] fit_only!(mach::Machine{Pipeline315, true}; rows::Nothing, verbosity::Int64, force::Bool)",
      "    @ MLJBase D:\\TongYuan\\.julia\\packages\\MLJBase\\CMT6L\\src\\machines.jl:592",
      " [10] fit_only!",
      "    @ D:\\TongYuan\\.julia\\packages\\MLJBase\\CMT6L\\src\\machines.jl:545 [inlined]",
      " [11] #fit!#62",
      "    @ D:\\TongYuan\\.julia\\packages\\MLJBase\\CMT6L\\src\\machines.jl:659 [inlined]",
      " [12] fit!(mach::Machine{Pipeline315, true})",
      "    @ MLJBase D:\\TongYuan\\.julia\\packages\\MLJBase\\CMT6L\\src\\machines.jl:657",
      " [13] top-level scope",
      "    @ In[86]:1",
      " [14] eval",
      "    @ .\\boot.jl:373 [inlined]",
      " [15] include_string(mapexpr::typeof(REPL.softscope), mod::Module, code::String, filename::String)",
      "    @ Base .\\loading.jl:1196"
     ]
    }
   ],
   "source": [
    "MLJBase.fit!(mach)"
   ]
  },
  {
   "cell_type": "code",
   "execution_count": 87,
   "id": "b16b2bec",
   "metadata": {
    "ExecuteTime": {
     "end_time": "2022-06-08T15:18:31.312000+08:00",
     "start_time": "2022-06-08T07:15:15.432Z"
    }
   },
   "outputs": [
    {
     "name": "stderr",
     "output_type": "stream",
     "text": [
      "┌ Info: Training Machine{Pipeline315,…}.\n",
      "└ @ MLJBase D:\\TongYuan\\.julia\\packages\\MLJBase\\CMT6L\\src\\machines.jl:464\n",
      "┌ Info: Training Machine{ContinuousEncoder,…}.\n",
      "└ @ MLJBase D:\\TongYuan\\.julia\\packages\\MLJBase\\CMT6L\\src\\machines.jl:464\n",
      "┌ Info: Training Machine{PCA,…}.\n",
      "└ @ MLJBase D:\\TongYuan\\.julia\\packages\\MLJBase\\CMT6L\\src\\machines.jl:464\n",
      "┌ Error: Problem fitting the machine Machine{PCA,…}. \n",
      "└ @ MLJBase D:\\TongYuan\\.julia\\packages\\MLJBase\\CMT6L\\src\\machines.jl:594\n",
      "┌ Info: Running type checks... \n",
      "└ @ MLJBase D:\\TongYuan\\.julia\\packages\\MLJBase\\CMT6L\\src\\machines.jl:600\n",
      "┌ Info: Type checks okay. \n",
      "└ @ MLJBase D:\\TongYuan\\.julia\\packages\\MLJBase\\CMT6L\\src\\machines.jl:603\n",
      "┌ Error: Problem fitting Machine{PCA,…}\n",
      "└ @ MLJBase D:\\TongYuan\\.julia\\packages\\MLJBase\\CMT6L\\src\\machines.jl:684\n",
      "┌ Error: Problem fitting the machine Machine{Pipeline315,…}. \n",
      "└ @ MLJBase D:\\TongYuan\\.julia\\packages\\MLJBase\\CMT6L\\src\\machines.jl:594\n",
      "┌ Info: Running type checks... \n",
      "└ @ MLJBase D:\\TongYuan\\.julia\\packages\\MLJBase\\CMT6L\\src\\machines.jl:600\n",
      "┌ Info: Type checks okay. \n",
      "└ @ MLJBase D:\\TongYuan\\.julia\\packages\\MLJBase\\CMT6L\\src\\machines.jl:603\n"
     ]
    },
    {
     "ename": "LoadError",
     "evalue": "TaskFailedException\n\n\u001b[91m    nested task error: \u001b[39mMethodError: no method matching size(::MultivariateStats.PCA{Float64}, ::Int64)\n    \u001b[0mClosest candidates are:\n    \u001b[0m  size(\u001b[91m::Union{LinearAlgebra.QR, LinearAlgebra.QRCompactWY, LinearAlgebra.QRPivoted}\u001b[39m, ::Integer) at C:\\Program Files\\MWorks.Syslab 2022\\Tools\\julia-1.7.1\\share\\julia\\stdlib\\v1.7\\LinearAlgebra\\src\\qr.jl:566\n    \u001b[0m  size(\u001b[91m::Union{LinearAlgebra.Cholesky, LinearAlgebra.CholeskyPivoted}\u001b[39m, ::Integer) at C:\\Program Files\\MWorks.Syslab 2022\\Tools\\julia-1.7.1\\share\\julia\\stdlib\\v1.7\\LinearAlgebra\\src\\cholesky.jl:495\n    \u001b[0m  size(\u001b[91m::Union{LinearAlgebra.Hermitian{T, S}, LinearAlgebra.Symmetric{T, S}} where {T, S}\u001b[39m, ::Any) at C:\\Program Files\\MWorks.Syslab 2022\\Tools\\julia-1.7.1\\share\\julia\\stdlib\\v1.7\\LinearAlgebra\\src\\symmetric.jl:201\n    \u001b[0m  ...\n    Stacktrace:\n     [1] \u001b[0m\u001b[1mfit_only!\u001b[22m\u001b[0m\u001b[1m(\u001b[22m\u001b[90mmach\u001b[39m::\u001b[0mMachine\u001b[90m{MLJMultivariateStatsInterface.PCA, true}\u001b[39m, \u001b[90mwait_on_downstream\u001b[39m::\u001b[0mBool; \u001b[90mkwargs\u001b[39m::\u001b[0mBase.Pairs\u001b[90m{Symbol, Int64, Tuple{Symbol}, NamedTuple{(:verbosity,), Tuple{Int64}}}\u001b[39m\u001b[0m\u001b[1m)\u001b[22m\n    \u001b[90m   @ \u001b[39m\u001b[35mMLJBase\u001b[39m \u001b[90mD:\\TongYuan\\.julia\\packages\\MLJBase\\CMT6L\\src\\\u001b[39m\u001b[90m\u001b[4mmachines.jl:685\u001b[24m\u001b[39m\n     [2] \u001b[0m\u001b[1m(::MLJBase.var\"#79#81\"{Base.Pairs{Symbol, Int64, Tuple{Symbol}, NamedTuple{(:verbosity,), Tuple{Int64}}}, Machine{MLJMultivariateStatsInterface.PCA, true}})\u001b[22m\u001b[0m\u001b[1m(\u001b[22m\u001b[0m\u001b[1m)\u001b[22m\n    \u001b[90m   @ \u001b[39m\u001b[35mMLJBase\u001b[39m \u001b[90m.\\\u001b[39m\u001b[90m\u001b[4mtask.jl:423\u001b[24m\u001b[39m\n    \n    \u001b[91mcaused by: \u001b[39mMethodError: no method matching size(::MultivariateStats.PCA{Float64}, ::Int64)\n    \u001b[0mClosest candidates are:\n    \u001b[0m  size(\u001b[91m::Union{LinearAlgebra.QR, LinearAlgebra.QRCompactWY, LinearAlgebra.QRPivoted}\u001b[39m, ::Integer) at C:\\Program Files\\MWorks.Syslab 2022\\Tools\\julia-1.7.1\\share\\julia\\stdlib\\v1.7\\LinearAlgebra\\src\\qr.jl:566\n    \u001b[0m  size(\u001b[91m::Union{LinearAlgebra.Cholesky, LinearAlgebra.CholeskyPivoted}\u001b[39m, ::Integer) at C:\\Program Files\\MWorks.Syslab 2022\\Tools\\julia-1.7.1\\share\\julia\\stdlib\\v1.7\\LinearAlgebra\\src\\cholesky.jl:495\n    \u001b[0m  size(\u001b[91m::Union{LinearAlgebra.Hermitian{T, S}, LinearAlgebra.Symmetric{T, S}} where {T, S}\u001b[39m, ::Any) at C:\\Program Files\\MWorks.Syslab 2022\\Tools\\julia-1.7.1\\share\\julia\\stdlib\\v1.7\\LinearAlgebra\\src\\symmetric.jl:201\n    \u001b[0m  ...\n    Stacktrace:\n     [1] \u001b[0m\u001b[1mfit\u001b[22m\u001b[0m\u001b[1m(\u001b[22m\u001b[90mmodel\u001b[39m::\u001b[0mMLJMultivariateStatsInterface.PCA, \u001b[90mverbosity\u001b[39m::\u001b[0mInt64, \u001b[90mX\u001b[39m::\u001b[0mDataFrames.DataFrame\u001b[0m\u001b[1m)\u001b[22m\n    \u001b[90m   @ \u001b[39m\u001b[35mMLJMultivariateStatsInterface\u001b[39m \u001b[90mD:\\TongYuan\\.julia\\packages\\MLJMultivariateStatsInterface\\NV7Uy\\src\\models\\\u001b[39m\u001b[90m\u001b[4mdecomposition_models.jl:45\u001b[24m\u001b[39m\n     [2] \u001b[0m\u001b[1mfit_only!\u001b[22m\u001b[0m\u001b[1m(\u001b[22m\u001b[90mmach\u001b[39m::\u001b[0mMachine\u001b[90m{MLJMultivariateStatsInterface.PCA, true}\u001b[39m; \u001b[90mrows\u001b[39m::\u001b[0mNothing, \u001b[90mverbosity\u001b[39m::\u001b[0mInt64, \u001b[90mforce\u001b[39m::\u001b[0mBool\u001b[0m\u001b[1m)\u001b[22m\n    \u001b[90m   @ \u001b[39m\u001b[36mMLJBase\u001b[39m \u001b[90mD:\\TongYuan\\.julia\\packages\\MLJBase\\CMT6L\\src\\\u001b[39m\u001b[90m\u001b[4mmachines.jl:592\u001b[24m\u001b[39m\n     [3] \u001b[0m\u001b[1mfit_only!\u001b[22m\u001b[0m\u001b[1m(\u001b[22m\u001b[90mmach\u001b[39m::\u001b[0mMachine\u001b[90m{MLJMultivariateStatsInterface.PCA, true}\u001b[39m, \u001b[90mwait_on_downstream\u001b[39m::\u001b[0mBool; \u001b[90mkwargs\u001b[39m::\u001b[0mBase.Pairs\u001b[90m{Symbol, Int64, Tuple{Symbol}, NamedTuple{(:verbosity,), Tuple{Int64}}}\u001b[39m\u001b[0m\u001b[1m)\u001b[22m\n    \u001b[90m   @ \u001b[39m\u001b[36mMLJBase\u001b[39m \u001b[90mD:\\TongYuan\\.julia\\packages\\MLJBase\\CMT6L\\src\\\u001b[39m\u001b[90m\u001b[4mmachines.jl:681\u001b[24m\u001b[39m\n     [4] \u001b[0m\u001b[1m(::MLJBase.var\"#79#81\"{Base.Pairs{Symbol, Int64, Tuple{Symbol}, NamedTuple{(:verbosity,), Tuple{Int64}}}, Machine{MLJMultivariateStatsInterface.PCA, true}})\u001b[22m\u001b[0m\u001b[1m(\u001b[22m\u001b[0m\u001b[1m)\u001b[22m\n    \u001b[90m   @ \u001b[39m\u001b[36mMLJBase\u001b[39m \u001b[90m.\\\u001b[39m\u001b[90m\u001b[4mtask.jl:423\u001b[24m\u001b[39m",
     "output_type": "error",
     "traceback": [
      "TaskFailedException\n\n\u001b[91m    nested task error: \u001b[39mMethodError: no method matching size(::MultivariateStats.PCA{Float64}, ::Int64)\n    \u001b[0mClosest candidates are:\n    \u001b[0m  size(\u001b[91m::Union{LinearAlgebra.QR, LinearAlgebra.QRCompactWY, LinearAlgebra.QRPivoted}\u001b[39m, ::Integer) at C:\\Program Files\\MWorks.Syslab 2022\\Tools\\julia-1.7.1\\share\\julia\\stdlib\\v1.7\\LinearAlgebra\\src\\qr.jl:566\n    \u001b[0m  size(\u001b[91m::Union{LinearAlgebra.Cholesky, LinearAlgebra.CholeskyPivoted}\u001b[39m, ::Integer) at C:\\Program Files\\MWorks.Syslab 2022\\Tools\\julia-1.7.1\\share\\julia\\stdlib\\v1.7\\LinearAlgebra\\src\\cholesky.jl:495\n    \u001b[0m  size(\u001b[91m::Union{LinearAlgebra.Hermitian{T, S}, LinearAlgebra.Symmetric{T, S}} where {T, S}\u001b[39m, ::Any) at C:\\Program Files\\MWorks.Syslab 2022\\Tools\\julia-1.7.1\\share\\julia\\stdlib\\v1.7\\LinearAlgebra\\src\\symmetric.jl:201\n    \u001b[0m  ...\n    Stacktrace:\n     [1] \u001b[0m\u001b[1mfit_only!\u001b[22m\u001b[0m\u001b[1m(\u001b[22m\u001b[90mmach\u001b[39m::\u001b[0mMachine\u001b[90m{MLJMultivariateStatsInterface.PCA, true}\u001b[39m, \u001b[90mwait_on_downstream\u001b[39m::\u001b[0mBool; \u001b[90mkwargs\u001b[39m::\u001b[0mBase.Pairs\u001b[90m{Symbol, Int64, Tuple{Symbol}, NamedTuple{(:verbosity,), Tuple{Int64}}}\u001b[39m\u001b[0m\u001b[1m)\u001b[22m\n    \u001b[90m   @ \u001b[39m\u001b[35mMLJBase\u001b[39m \u001b[90mD:\\TongYuan\\.julia\\packages\\MLJBase\\CMT6L\\src\\\u001b[39m\u001b[90m\u001b[4mmachines.jl:685\u001b[24m\u001b[39m\n     [2] \u001b[0m\u001b[1m(::MLJBase.var\"#79#81\"{Base.Pairs{Symbol, Int64, Tuple{Symbol}, NamedTuple{(:verbosity,), Tuple{Int64}}}, Machine{MLJMultivariateStatsInterface.PCA, true}})\u001b[22m\u001b[0m\u001b[1m(\u001b[22m\u001b[0m\u001b[1m)\u001b[22m\n    \u001b[90m   @ \u001b[39m\u001b[35mMLJBase\u001b[39m \u001b[90m.\\\u001b[39m\u001b[90m\u001b[4mtask.jl:423\u001b[24m\u001b[39m\n    \n    \u001b[91mcaused by: \u001b[39mMethodError: no method matching size(::MultivariateStats.PCA{Float64}, ::Int64)\n    \u001b[0mClosest candidates are:\n    \u001b[0m  size(\u001b[91m::Union{LinearAlgebra.QR, LinearAlgebra.QRCompactWY, LinearAlgebra.QRPivoted}\u001b[39m, ::Integer) at C:\\Program Files\\MWorks.Syslab 2022\\Tools\\julia-1.7.1\\share\\julia\\stdlib\\v1.7\\LinearAlgebra\\src\\qr.jl:566\n    \u001b[0m  size(\u001b[91m::Union{LinearAlgebra.Cholesky, LinearAlgebra.CholeskyPivoted}\u001b[39m, ::Integer) at C:\\Program Files\\MWorks.Syslab 2022\\Tools\\julia-1.7.1\\share\\julia\\stdlib\\v1.7\\LinearAlgebra\\src\\cholesky.jl:495\n    \u001b[0m  size(\u001b[91m::Union{LinearAlgebra.Hermitian{T, S}, LinearAlgebra.Symmetric{T, S}} where {T, S}\u001b[39m, ::Any) at C:\\Program Files\\MWorks.Syslab 2022\\Tools\\julia-1.7.1\\share\\julia\\stdlib\\v1.7\\LinearAlgebra\\src\\symmetric.jl:201\n    \u001b[0m  ...\n    Stacktrace:\n     [1] \u001b[0m\u001b[1mfit\u001b[22m\u001b[0m\u001b[1m(\u001b[22m\u001b[90mmodel\u001b[39m::\u001b[0mMLJMultivariateStatsInterface.PCA, \u001b[90mverbosity\u001b[39m::\u001b[0mInt64, \u001b[90mX\u001b[39m::\u001b[0mDataFrames.DataFrame\u001b[0m\u001b[1m)\u001b[22m\n    \u001b[90m   @ \u001b[39m\u001b[35mMLJMultivariateStatsInterface\u001b[39m \u001b[90mD:\\TongYuan\\.julia\\packages\\MLJMultivariateStatsInterface\\NV7Uy\\src\\models\\\u001b[39m\u001b[90m\u001b[4mdecomposition_models.jl:45\u001b[24m\u001b[39m\n     [2] \u001b[0m\u001b[1mfit_only!\u001b[22m\u001b[0m\u001b[1m(\u001b[22m\u001b[90mmach\u001b[39m::\u001b[0mMachine\u001b[90m{MLJMultivariateStatsInterface.PCA, true}\u001b[39m; \u001b[90mrows\u001b[39m::\u001b[0mNothing, \u001b[90mverbosity\u001b[39m::\u001b[0mInt64, \u001b[90mforce\u001b[39m::\u001b[0mBool\u001b[0m\u001b[1m)\u001b[22m\n    \u001b[90m   @ \u001b[39m\u001b[36mMLJBase\u001b[39m \u001b[90mD:\\TongYuan\\.julia\\packages\\MLJBase\\CMT6L\\src\\\u001b[39m\u001b[90m\u001b[4mmachines.jl:592\u001b[24m\u001b[39m\n     [3] \u001b[0m\u001b[1mfit_only!\u001b[22m\u001b[0m\u001b[1m(\u001b[22m\u001b[90mmach\u001b[39m::\u001b[0mMachine\u001b[90m{MLJMultivariateStatsInterface.PCA, true}\u001b[39m, \u001b[90mwait_on_downstream\u001b[39m::\u001b[0mBool; \u001b[90mkwargs\u001b[39m::\u001b[0mBase.Pairs\u001b[90m{Symbol, Int64, Tuple{Symbol}, NamedTuple{(:verbosity,), Tuple{Int64}}}\u001b[39m\u001b[0m\u001b[1m)\u001b[22m\n    \u001b[90m   @ \u001b[39m\u001b[36mMLJBase\u001b[39m \u001b[90mD:\\TongYuan\\.julia\\packages\\MLJBase\\CMT6L\\src\\\u001b[39m\u001b[90m\u001b[4mmachines.jl:681\u001b[24m\u001b[39m\n     [4] \u001b[0m\u001b[1m(::MLJBase.var\"#79#81\"{Base.Pairs{Symbol, Int64, Tuple{Symbol}, NamedTuple{(:verbosity,), Tuple{Int64}}}, Machine{MLJMultivariateStatsInterface.PCA, true}})\u001b[22m\u001b[0m\u001b[1m(\u001b[22m\u001b[0m\u001b[1m)\u001b[22m\n    \u001b[90m   @ \u001b[39m\u001b[36mMLJBase\u001b[39m \u001b[90m.\\\u001b[39m\u001b[90m\u001b[4mtask.jl:423\u001b[24m\u001b[39m",
      "",
      "Stacktrace:",
      "  [1] sync_end(c::Channel{Any})",
      "    @ Base .\\task.jl:381",
      "  [2] macro expansion",
      "    @ .\\task.jl:400 [inlined]",
      "  [3] fit!(y::Node{Nothing}, ::CPU1{Nothing}; kwargs::Base.Pairs{Symbol, Int64, Tuple{Symbol}, NamedTuple{(:verbosity,), Tuple{Int64}}})",
      "    @ MLJBase D:\\TongYuan\\.julia\\packages\\MLJBase\\CMT6L\\src\\composition\\learning_networks\\nodes.jl:225",
      "  [4] #fit!#75",
      "    @ D:\\TongYuan\\.julia\\packages\\MLJBase\\CMT6L\\src\\composition\\learning_networks\\nodes.jl:207 [inlined]",
      "  [5] fit!(mach::Machine{DeterministicSurrogate, false}; kwargs::Base.Pairs{Symbol, Int64, Tuple{Symbol}, NamedTuple{(:verbosity,), Tuple{Int64}}})",
      "    @ MLJBase D:\\TongYuan\\.julia\\packages\\MLJBase\\CMT6L\\src\\composition\\learning_networks\\machines.jl:253",
      "  [6] return!(mach::Machine{DeterministicSurrogate, false}, model::Pipeline315, verbosity::Int64)",
      "    @ MLJBase D:\\TongYuan\\.julia\\packages\\MLJBase\\CMT6L\\src\\composition\\learning_networks\\machines.jl:399",
      "  [7] (::MLJBase.var\"#_fit#174\"{Machine{DeterministicSurrogate, false}, Tuple{ContinuousEncoder, MLJMultivariateStatsInterface.PCA, MLJLinearModels.RidgeRegressor}, Tuple{Source, Source}})(::Pipeline315, ::Int64, ::DataFrames.DataFrame, ::Vararg{Any})",
      "    @ MLJBase D:\\TongYuan\\.julia\\packages\\MLJBase\\CMT6L\\src\\composition\\models\\from_network.jl:25",
      "  [8] fit(::Pipeline315, ::Int64, ::DataFrames.DataFrame, ::Vector{Float64})",
      "    @ Main D:\\TongYuan\\.julia\\packages\\MLJBase\\CMT6L\\src\\composition\\models\\from_network.jl:165",
      "  [9] fit_only!(mach::Machine{Pipeline315, true}; rows::Nothing, verbosity::Int64, force::Bool)",
      "    @ MLJBase D:\\TongYuan\\.julia\\packages\\MLJBase\\CMT6L\\src\\machines.jl:592",
      " [10] fit_only!",
      "    @ D:\\TongYuan\\.julia\\packages\\MLJBase\\CMT6L\\src\\machines.jl:545 [inlined]",
      " [11] #fit!#62",
      "    @ D:\\TongYuan\\.julia\\packages\\MLJBase\\CMT6L\\src\\machines.jl:659 [inlined]",
      " [12] fit!(mach::Machine{Pipeline315, true})",
      "    @ MLJBase D:\\TongYuan\\.julia\\packages\\MLJBase\\CMT6L\\src\\machines.jl:657",
      " [13] top-level scope",
      "    @ In[87]:2",
      " [14] eval",
      "    @ .\\boot.jl:373 [inlined]",
      " [15] include_string(mapexpr::typeof(REPL.softscope), mod::Module, code::String, filename::String)",
      "    @ Base .\\loading.jl:1196"
     ]
    }
   ],
   "source": [
    "pipe2.ridge_regressor.lambda = 0.1\n",
    "MLJBase.fit!(mach)"
   ]
  },
  {
   "cell_type": "markdown",
   "id": "d9640e2c",
   "metadata": {},
   "source": [
    "第二次只重新训练岭回归器！"
   ]
  },
  {
   "cell_type": "markdown",
   "id": "94f2932c",
   "metadata": {},
   "source": [
    "改变 PCA 模型和除 ContinuousEncoder 之外的每个模型的超参数（在重新训练之前出现）："
   ]
  },
  {
   "cell_type": "code",
   "execution_count": 88,
   "id": "91e44de8",
   "metadata": {
    "ExecuteTime": {
     "end_time": "2022-06-08T15:18:31.745000+08:00",
     "start_time": "2022-06-08T07:15:15.435Z"
    }
   },
   "outputs": [
    {
     "name": "stderr",
     "output_type": "stream",
     "text": [
      "┌ Info: Training Machine{Pipeline315,…}.\n",
      "└ @ MLJBase D:\\TongYuan\\.julia\\packages\\MLJBase\\CMT6L\\src\\machines.jl:464\n",
      "┌ Info: Training Machine{ContinuousEncoder,…}.\n",
      "└ @ MLJBase D:\\TongYuan\\.julia\\packages\\MLJBase\\CMT6L\\src\\machines.jl:464\n",
      "┌ Info: Training Machine{PCA,…}.\n",
      "└ @ MLJBase D:\\TongYuan\\.julia\\packages\\MLJBase\\CMT6L\\src\\machines.jl:464\n",
      "┌ Error: Problem fitting the machine Machine{PCA,…}. \n",
      "└ @ MLJBase D:\\TongYuan\\.julia\\packages\\MLJBase\\CMT6L\\src\\machines.jl:594\n",
      "┌ Info: Running type checks... \n",
      "└ @ MLJBase D:\\TongYuan\\.julia\\packages\\MLJBase\\CMT6L\\src\\machines.jl:600\n",
      "┌ Info: Type checks okay. \n",
      "└ @ MLJBase D:\\TongYuan\\.julia\\packages\\MLJBase\\CMT6L\\src\\machines.jl:603\n",
      "┌ Error: Problem fitting Machine{PCA,…}\n",
      "└ @ MLJBase D:\\TongYuan\\.julia\\packages\\MLJBase\\CMT6L\\src\\machines.jl:684\n",
      "┌ Error: Problem fitting the machine Machine{Pipeline315,…}. \n",
      "└ @ MLJBase D:\\TongYuan\\.julia\\packages\\MLJBase\\CMT6L\\src\\machines.jl:594\n",
      "┌ Info: Running type checks... \n",
      "└ @ MLJBase D:\\TongYuan\\.julia\\packages\\MLJBase\\CMT6L\\src\\machines.jl:600\n",
      "┌ Info: Type checks okay. \n",
      "└ @ MLJBase D:\\TongYuan\\.julia\\packages\\MLJBase\\CMT6L\\src\\machines.jl:603\n"
     ]
    },
    {
     "ename": "LoadError",
     "evalue": "TaskFailedException\n\n\u001b[91m    nested task error: \u001b[39mMethodError: no method matching size(::MultivariateStats.PCA{Float64}, ::Int64)\n    \u001b[0mClosest candidates are:\n    \u001b[0m  size(\u001b[91m::Union{LinearAlgebra.QR, LinearAlgebra.QRCompactWY, LinearAlgebra.QRPivoted}\u001b[39m, ::Integer) at C:\\Program Files\\MWorks.Syslab 2022\\Tools\\julia-1.7.1\\share\\julia\\stdlib\\v1.7\\LinearAlgebra\\src\\qr.jl:566\n    \u001b[0m  size(\u001b[91m::Union{LinearAlgebra.Cholesky, LinearAlgebra.CholeskyPivoted}\u001b[39m, ::Integer) at C:\\Program Files\\MWorks.Syslab 2022\\Tools\\julia-1.7.1\\share\\julia\\stdlib\\v1.7\\LinearAlgebra\\src\\cholesky.jl:495\n    \u001b[0m  size(\u001b[91m::Union{LinearAlgebra.Hermitian{T, S}, LinearAlgebra.Symmetric{T, S}} where {T, S}\u001b[39m, ::Any) at C:\\Program Files\\MWorks.Syslab 2022\\Tools\\julia-1.7.1\\share\\julia\\stdlib\\v1.7\\LinearAlgebra\\src\\symmetric.jl:201\n    \u001b[0m  ...\n    Stacktrace:\n     [1] \u001b[0m\u001b[1mfit_only!\u001b[22m\u001b[0m\u001b[1m(\u001b[22m\u001b[90mmach\u001b[39m::\u001b[0mMachine\u001b[90m{MLJMultivariateStatsInterface.PCA, true}\u001b[39m, \u001b[90mwait_on_downstream\u001b[39m::\u001b[0mBool; \u001b[90mkwargs\u001b[39m::\u001b[0mBase.Pairs\u001b[90m{Symbol, Int64, Tuple{Symbol}, NamedTuple{(:verbosity,), Tuple{Int64}}}\u001b[39m\u001b[0m\u001b[1m)\u001b[22m\n    \u001b[90m   @ \u001b[39m\u001b[35mMLJBase\u001b[39m \u001b[90mD:\\TongYuan\\.julia\\packages\\MLJBase\\CMT6L\\src\\\u001b[39m\u001b[90m\u001b[4mmachines.jl:685\u001b[24m\u001b[39m\n     [2] \u001b[0m\u001b[1m(::MLJBase.var\"#79#81\"{Base.Pairs{Symbol, Int64, Tuple{Symbol}, NamedTuple{(:verbosity,), Tuple{Int64}}}, Machine{MLJMultivariateStatsInterface.PCA, true}})\u001b[22m\u001b[0m\u001b[1m(\u001b[22m\u001b[0m\u001b[1m)\u001b[22m\n    \u001b[90m   @ \u001b[39m\u001b[35mMLJBase\u001b[39m \u001b[90m.\\\u001b[39m\u001b[90m\u001b[4mtask.jl:423\u001b[24m\u001b[39m\n    \n    \u001b[91mcaused by: \u001b[39mMethodError: no method matching size(::MultivariateStats.PCA{Float64}, ::Int64)\n    \u001b[0mClosest candidates are:\n    \u001b[0m  size(\u001b[91m::Union{LinearAlgebra.QR, LinearAlgebra.QRCompactWY, LinearAlgebra.QRPivoted}\u001b[39m, ::Integer) at C:\\Program Files\\MWorks.Syslab 2022\\Tools\\julia-1.7.1\\share\\julia\\stdlib\\v1.7\\LinearAlgebra\\src\\qr.jl:566\n    \u001b[0m  size(\u001b[91m::Union{LinearAlgebra.Cholesky, LinearAlgebra.CholeskyPivoted}\u001b[39m, ::Integer) at C:\\Program Files\\MWorks.Syslab 2022\\Tools\\julia-1.7.1\\share\\julia\\stdlib\\v1.7\\LinearAlgebra\\src\\cholesky.jl:495\n    \u001b[0m  size(\u001b[91m::Union{LinearAlgebra.Hermitian{T, S}, LinearAlgebra.Symmetric{T, S}} where {T, S}\u001b[39m, ::Any) at C:\\Program Files\\MWorks.Syslab 2022\\Tools\\julia-1.7.1\\share\\julia\\stdlib\\v1.7\\LinearAlgebra\\src\\symmetric.jl:201\n    \u001b[0m  ...\n    Stacktrace:\n     [1] \u001b[0m\u001b[1mfit\u001b[22m\u001b[0m\u001b[1m(\u001b[22m\u001b[90mmodel\u001b[39m::\u001b[0mMLJMultivariateStatsInterface.PCA, \u001b[90mverbosity\u001b[39m::\u001b[0mInt64, \u001b[90mX\u001b[39m::\u001b[0mDataFrames.DataFrame\u001b[0m\u001b[1m)\u001b[22m\n    \u001b[90m   @ \u001b[39m\u001b[35mMLJMultivariateStatsInterface\u001b[39m \u001b[90mD:\\TongYuan\\.julia\\packages\\MLJMultivariateStatsInterface\\NV7Uy\\src\\models\\\u001b[39m\u001b[90m\u001b[4mdecomposition_models.jl:45\u001b[24m\u001b[39m\n     [2] \u001b[0m\u001b[1mfit_only!\u001b[22m\u001b[0m\u001b[1m(\u001b[22m\u001b[90mmach\u001b[39m::\u001b[0mMachine\u001b[90m{MLJMultivariateStatsInterface.PCA, true}\u001b[39m; \u001b[90mrows\u001b[39m::\u001b[0mNothing, \u001b[90mverbosity\u001b[39m::\u001b[0mInt64, \u001b[90mforce\u001b[39m::\u001b[0mBool\u001b[0m\u001b[1m)\u001b[22m\n    \u001b[90m   @ \u001b[39m\u001b[36mMLJBase\u001b[39m \u001b[90mD:\\TongYuan\\.julia\\packages\\MLJBase\\CMT6L\\src\\\u001b[39m\u001b[90m\u001b[4mmachines.jl:592\u001b[24m\u001b[39m\n     [3] \u001b[0m\u001b[1mfit_only!\u001b[22m\u001b[0m\u001b[1m(\u001b[22m\u001b[90mmach\u001b[39m::\u001b[0mMachine\u001b[90m{MLJMultivariateStatsInterface.PCA, true}\u001b[39m, \u001b[90mwait_on_downstream\u001b[39m::\u001b[0mBool; \u001b[90mkwargs\u001b[39m::\u001b[0mBase.Pairs\u001b[90m{Symbol, Int64, Tuple{Symbol}, NamedTuple{(:verbosity,), Tuple{Int64}}}\u001b[39m\u001b[0m\u001b[1m)\u001b[22m\n    \u001b[90m   @ \u001b[39m\u001b[36mMLJBase\u001b[39m \u001b[90mD:\\TongYuan\\.julia\\packages\\MLJBase\\CMT6L\\src\\\u001b[39m\u001b[90m\u001b[4mmachines.jl:681\u001b[24m\u001b[39m\n     [4] \u001b[0m\u001b[1m(::MLJBase.var\"#79#81\"{Base.Pairs{Symbol, Int64, Tuple{Symbol}, NamedTuple{(:verbosity,), Tuple{Int64}}}, Machine{MLJMultivariateStatsInterface.PCA, true}})\u001b[22m\u001b[0m\u001b[1m(\u001b[22m\u001b[0m\u001b[1m)\u001b[22m\n    \u001b[90m   @ \u001b[39m\u001b[36mMLJBase\u001b[39m \u001b[90m.\\\u001b[39m\u001b[90m\u001b[4mtask.jl:423\u001b[24m\u001b[39m",
     "output_type": "error",
     "traceback": [
      "TaskFailedException\n\n\u001b[91m    nested task error: \u001b[39mMethodError: no method matching size(::MultivariateStats.PCA{Float64}, ::Int64)\n    \u001b[0mClosest candidates are:\n    \u001b[0m  size(\u001b[91m::Union{LinearAlgebra.QR, LinearAlgebra.QRCompactWY, LinearAlgebra.QRPivoted}\u001b[39m, ::Integer) at C:\\Program Files\\MWorks.Syslab 2022\\Tools\\julia-1.7.1\\share\\julia\\stdlib\\v1.7\\LinearAlgebra\\src\\qr.jl:566\n    \u001b[0m  size(\u001b[91m::Union{LinearAlgebra.Cholesky, LinearAlgebra.CholeskyPivoted}\u001b[39m, ::Integer) at C:\\Program Files\\MWorks.Syslab 2022\\Tools\\julia-1.7.1\\share\\julia\\stdlib\\v1.7\\LinearAlgebra\\src\\cholesky.jl:495\n    \u001b[0m  size(\u001b[91m::Union{LinearAlgebra.Hermitian{T, S}, LinearAlgebra.Symmetric{T, S}} where {T, S}\u001b[39m, ::Any) at C:\\Program Files\\MWorks.Syslab 2022\\Tools\\julia-1.7.1\\share\\julia\\stdlib\\v1.7\\LinearAlgebra\\src\\symmetric.jl:201\n    \u001b[0m  ...\n    Stacktrace:\n     [1] \u001b[0m\u001b[1mfit_only!\u001b[22m\u001b[0m\u001b[1m(\u001b[22m\u001b[90mmach\u001b[39m::\u001b[0mMachine\u001b[90m{MLJMultivariateStatsInterface.PCA, true}\u001b[39m, \u001b[90mwait_on_downstream\u001b[39m::\u001b[0mBool; \u001b[90mkwargs\u001b[39m::\u001b[0mBase.Pairs\u001b[90m{Symbol, Int64, Tuple{Symbol}, NamedTuple{(:verbosity,), Tuple{Int64}}}\u001b[39m\u001b[0m\u001b[1m)\u001b[22m\n    \u001b[90m   @ \u001b[39m\u001b[35mMLJBase\u001b[39m \u001b[90mD:\\TongYuan\\.julia\\packages\\MLJBase\\CMT6L\\src\\\u001b[39m\u001b[90m\u001b[4mmachines.jl:685\u001b[24m\u001b[39m\n     [2] \u001b[0m\u001b[1m(::MLJBase.var\"#79#81\"{Base.Pairs{Symbol, Int64, Tuple{Symbol}, NamedTuple{(:verbosity,), Tuple{Int64}}}, Machine{MLJMultivariateStatsInterface.PCA, true}})\u001b[22m\u001b[0m\u001b[1m(\u001b[22m\u001b[0m\u001b[1m)\u001b[22m\n    \u001b[90m   @ \u001b[39m\u001b[35mMLJBase\u001b[39m \u001b[90m.\\\u001b[39m\u001b[90m\u001b[4mtask.jl:423\u001b[24m\u001b[39m\n    \n    \u001b[91mcaused by: \u001b[39mMethodError: no method matching size(::MultivariateStats.PCA{Float64}, ::Int64)\n    \u001b[0mClosest candidates are:\n    \u001b[0m  size(\u001b[91m::Union{LinearAlgebra.QR, LinearAlgebra.QRCompactWY, LinearAlgebra.QRPivoted}\u001b[39m, ::Integer) at C:\\Program Files\\MWorks.Syslab 2022\\Tools\\julia-1.7.1\\share\\julia\\stdlib\\v1.7\\LinearAlgebra\\src\\qr.jl:566\n    \u001b[0m  size(\u001b[91m::Union{LinearAlgebra.Cholesky, LinearAlgebra.CholeskyPivoted}\u001b[39m, ::Integer) at C:\\Program Files\\MWorks.Syslab 2022\\Tools\\julia-1.7.1\\share\\julia\\stdlib\\v1.7\\LinearAlgebra\\src\\cholesky.jl:495\n    \u001b[0m  size(\u001b[91m::Union{LinearAlgebra.Hermitian{T, S}, LinearAlgebra.Symmetric{T, S}} where {T, S}\u001b[39m, ::Any) at C:\\Program Files\\MWorks.Syslab 2022\\Tools\\julia-1.7.1\\share\\julia\\stdlib\\v1.7\\LinearAlgebra\\src\\symmetric.jl:201\n    \u001b[0m  ...\n    Stacktrace:\n     [1] \u001b[0m\u001b[1mfit\u001b[22m\u001b[0m\u001b[1m(\u001b[22m\u001b[90mmodel\u001b[39m::\u001b[0mMLJMultivariateStatsInterface.PCA, \u001b[90mverbosity\u001b[39m::\u001b[0mInt64, \u001b[90mX\u001b[39m::\u001b[0mDataFrames.DataFrame\u001b[0m\u001b[1m)\u001b[22m\n    \u001b[90m   @ \u001b[39m\u001b[35mMLJMultivariateStatsInterface\u001b[39m \u001b[90mD:\\TongYuan\\.julia\\packages\\MLJMultivariateStatsInterface\\NV7Uy\\src\\models\\\u001b[39m\u001b[90m\u001b[4mdecomposition_models.jl:45\u001b[24m\u001b[39m\n     [2] \u001b[0m\u001b[1mfit_only!\u001b[22m\u001b[0m\u001b[1m(\u001b[22m\u001b[90mmach\u001b[39m::\u001b[0mMachine\u001b[90m{MLJMultivariateStatsInterface.PCA, true}\u001b[39m; \u001b[90mrows\u001b[39m::\u001b[0mNothing, \u001b[90mverbosity\u001b[39m::\u001b[0mInt64, \u001b[90mforce\u001b[39m::\u001b[0mBool\u001b[0m\u001b[1m)\u001b[22m\n    \u001b[90m   @ \u001b[39m\u001b[36mMLJBase\u001b[39m \u001b[90mD:\\TongYuan\\.julia\\packages\\MLJBase\\CMT6L\\src\\\u001b[39m\u001b[90m\u001b[4mmachines.jl:592\u001b[24m\u001b[39m\n     [3] \u001b[0m\u001b[1mfit_only!\u001b[22m\u001b[0m\u001b[1m(\u001b[22m\u001b[90mmach\u001b[39m::\u001b[0mMachine\u001b[90m{MLJMultivariateStatsInterface.PCA, true}\u001b[39m, \u001b[90mwait_on_downstream\u001b[39m::\u001b[0mBool; \u001b[90mkwargs\u001b[39m::\u001b[0mBase.Pairs\u001b[90m{Symbol, Int64, Tuple{Symbol}, NamedTuple{(:verbosity,), Tuple{Int64}}}\u001b[39m\u001b[0m\u001b[1m)\u001b[22m\n    \u001b[90m   @ \u001b[39m\u001b[36mMLJBase\u001b[39m \u001b[90mD:\\TongYuan\\.julia\\packages\\MLJBase\\CMT6L\\src\\\u001b[39m\u001b[90m\u001b[4mmachines.jl:681\u001b[24m\u001b[39m\n     [4] \u001b[0m\u001b[1m(::MLJBase.var\"#79#81\"{Base.Pairs{Symbol, Int64, Tuple{Symbol}, NamedTuple{(:verbosity,), Tuple{Int64}}}, Machine{MLJMultivariateStatsInterface.PCA, true}})\u001b[22m\u001b[0m\u001b[1m(\u001b[22m\u001b[0m\u001b[1m)\u001b[22m\n    \u001b[90m   @ \u001b[39m\u001b[36mMLJBase\u001b[39m \u001b[90m.\\\u001b[39m\u001b[90m\u001b[4mtask.jl:423\u001b[24m\u001b[39m",
      "",
      "Stacktrace:",
      "  [1] sync_end(c::Channel{Any})",
      "    @ Base .\\task.jl:381",
      "  [2] macro expansion",
      "    @ .\\task.jl:400 [inlined]",
      "  [3] fit!(y::Node{Nothing}, ::CPU1{Nothing}; kwargs::Base.Pairs{Symbol, Int64, Tuple{Symbol}, NamedTuple{(:verbosity,), Tuple{Int64}}})",
      "    @ MLJBase D:\\TongYuan\\.julia\\packages\\MLJBase\\CMT6L\\src\\composition\\learning_networks\\nodes.jl:225",
      "  [4] #fit!#75",
      "    @ D:\\TongYuan\\.julia\\packages\\MLJBase\\CMT6L\\src\\composition\\learning_networks\\nodes.jl:207 [inlined]",
      "  [5] fit!(mach::Machine{DeterministicSurrogate, false}; kwargs::Base.Pairs{Symbol, Int64, Tuple{Symbol}, NamedTuple{(:verbosity,), Tuple{Int64}}})",
      "    @ MLJBase D:\\TongYuan\\.julia\\packages\\MLJBase\\CMT6L\\src\\composition\\learning_networks\\machines.jl:253",
      "  [6] return!(mach::Machine{DeterministicSurrogate, false}, model::Pipeline315, verbosity::Int64)",
      "    @ MLJBase D:\\TongYuan\\.julia\\packages\\MLJBase\\CMT6L\\src\\composition\\learning_networks\\machines.jl:399",
      "  [7] (::MLJBase.var\"#_fit#174\"{Machine{DeterministicSurrogate, false}, Tuple{ContinuousEncoder, MLJMultivariateStatsInterface.PCA, MLJLinearModels.RidgeRegressor}, Tuple{Source, Source}})(::Pipeline315, ::Int64, ::DataFrames.DataFrame, ::Vararg{Any})",
      "    @ MLJBase D:\\TongYuan\\.julia\\packages\\MLJBase\\CMT6L\\src\\composition\\models\\from_network.jl:25",
      "  [8] fit(::Pipeline315, ::Int64, ::DataFrames.DataFrame, ::Vector{Float64})",
      "    @ Main D:\\TongYuan\\.julia\\packages\\MLJBase\\CMT6L\\src\\composition\\models\\from_network.jl:165",
      "  [9] fit_only!(mach::Machine{Pipeline315, true}; rows::Nothing, verbosity::Int64, force::Bool)",
      "    @ MLJBase D:\\TongYuan\\.julia\\packages\\MLJBase\\CMT6L\\src\\machines.jl:592",
      " [10] fit_only!",
      "    @ D:\\TongYuan\\.julia\\packages\\MLJBase\\CMT6L\\src\\machines.jl:545 [inlined]",
      " [11] #fit!#62",
      "    @ D:\\TongYuan\\.julia\\packages\\MLJBase\\CMT6L\\src\\machines.jl:659 [inlined]",
      " [12] fit!(mach::Machine{Pipeline315, true})",
      "    @ MLJBase D:\\TongYuan\\.julia\\packages\\MLJBase\\CMT6L\\src\\machines.jl:657",
      " [13] top-level scope",
      "    @ In[88]:2",
      " [14] eval",
      "    @ .\\boot.jl:373 [inlined]",
      " [15] include_string(mapexpr::typeof(REPL.softscope), mod::Module, code::String, filename::String)",
      "    @ Base .\\loading.jl:1196"
     ]
    }
   ],
   "source": [
    "pipe2.pca.pratio = 0.9999\n",
    "MLJBase.fit!(mach)"
   ]
  },
  {
   "cell_type": "markdown",
   "id": "75b3e7cc",
   "metadata": {},
   "source": [
    "## 检查混合模型"
   ]
  },
  {
   "cell_type": "markdown",
   "id": "9ed3fc0a",
   "metadata": {},
   "source": [
    "上面用于更改嵌套超参数值的点语法在检查学习参数和训练复合模型时生成的报告时也很有用："
   ]
  },
  {
   "cell_type": "code",
   "execution_count": 89,
   "id": "3d1caaaf",
   "metadata": {
    "ExecuteTime": {
     "end_time": "2022-06-08T15:18:31.777000+08:00",
     "start_time": "2022-06-08T07:15:15.439Z"
    }
   },
   "outputs": [
    {
     "ename": "LoadError",
     "evalue": "UndefRefError: access to undefined reference",
     "output_type": "error",
     "traceback": [
      "UndefRefError: access to undefined reference",
      "",
      "Stacktrace:",
      " [1] getproperty",
      "   @ .\\Base.jl:42 [inlined]",
      " [2] fitted_params(mach::Machine{Pipeline315, true})",
      "   @ MLJBase D:\\TongYuan\\.julia\\packages\\MLJBase\\CMT6L\\src\\composition\\models\\inspection.jl:36",
      " [3] top-level scope",
      "   @ In[89]:1",
      " [4] eval",
      "   @ .\\boot.jl:373 [inlined]",
      " [5] include_string(mapexpr::typeof(REPL.softscope), mod::Module, code::String, filename::String)",
      "   @ Base .\\loading.jl:1196"
     ]
    }
   ],
   "source": [
    "fitted_params(mach).ridge_regressor"
   ]
  },
  {
   "cell_type": "code",
   "execution_count": 90,
   "id": "f76b8b32",
   "metadata": {
    "ExecuteTime": {
     "end_time": "2022-06-08T15:18:31.782000+08:00",
     "start_time": "2022-06-08T07:15:15.443Z"
    }
   },
   "outputs": [
    {
     "ename": "LoadError",
     "evalue": "UndefRefError: access to undefined reference",
     "output_type": "error",
     "traceback": [
      "UndefRefError: access to undefined reference",
      "",
      "Stacktrace:",
      " [1] getproperty",
      "   @ .\\Base.jl:42 [inlined]",
      " [2] report(mach::Machine{Pipeline315, true})",
      "   @ MLJBase D:\\TongYuan\\.julia\\packages\\MLJBase\\CMT6L\\src\\composition\\models\\inspection.jl:30",
      " [3] top-level scope",
      "   @ In[90]:1",
      " [4] eval",
      "   @ .\\boot.jl:373 [inlined]",
      " [5] include_string(mapexpr::typeof(REPL.softscope), mod::Module, code::String, filename::String)",
      "   @ Base .\\loading.jl:1196"
     ]
    }
   ],
   "source": [
    "report(mach).pca"
   ]
  },
  {
   "cell_type": "markdown",
   "id": "b786620a",
   "metadata": {},
   "source": [
    "## 合并目标特征变换器"
   ]
  },
  {
   "cell_type": "markdown",
   "id": "4827e655",
   "metadata": {},
   "source": [
    "接下来，假设我们不想使用原始的 :price 作为训练目标，而是使用对数价格（处理房价数据的常见做法）。然而，假设我们仍然想在原始线性尺度上报告最终预测（并将这些用于评估目的）。然后我们为关键字参数 target 和 inverse 提供适当的函数。"
   ]
  },
  {
   "cell_type": "markdown",
   "id": "c91472f7",
   "metadata": {},
   "source": [
    "首先，我们将重载 log 和 exp 进行广播："
   ]
  },
  {
   "cell_type": "code",
   "execution_count": 91,
   "id": "e387c67d",
   "metadata": {
    "ExecuteTime": {
     "end_time": "2022-06-08T15:18:31.784000+08:00",
     "start_time": "2022-06-08T07:15:15.447Z"
    }
   },
   "outputs": [],
   "source": [
    "Base.log(v::AbstractArray) = log.(v)\n",
    "Base.exp(v::AbstractArray) = exp.(v)"
   ]
  },
  {
   "cell_type": "markdown",
   "id": "5f74c980",
   "metadata": {},
   "source": [
    "现在对于新管道："
   ]
  },
  {
   "cell_type": "code",
   "execution_count": 92,
   "id": "7d936d17",
   "metadata": {
    "ExecuteTime": {
     "end_time": "2022-06-08T15:18:36.549000+08:00",
     "start_time": "2022-06-08T07:15:15.452Z"
    }
   },
   "outputs": [
    {
     "name": "stderr",
     "output_type": "stream",
     "text": [
      "┌ Info: Treating pipeline as a `Deterministic` predictor.\n",
      "│ To override, specify `prediction_type=...` (options: :deterministic, :probabilistic, :interval). \n",
      "└ @ MLJBase D:\\TongYuan\\.julia\\packages\\MLJBase\\CMT6L\\src\\composition\\models\\deprecated.jl:387\n",
      "┌ Error: Problem fitting the machine Machine{PCA,…}. \n",
      "└ @ MLJBase D:\\TongYuan\\.julia\\packages\\MLJBase\\CMT6L\\src\\machines.jl:594\n",
      "┌ Info: Running type checks... \n",
      "└ @ MLJBase D:\\TongYuan\\.julia\\packages\\MLJBase\\CMT6L\\src\\machines.jl:600\n",
      "┌ Info: Type checks okay. \n",
      "└ @ MLJBase D:\\TongYuan\\.julia\\packages\\MLJBase\\CMT6L\\src\\machines.jl:603\n",
      "┌ Error: Problem fitting Machine{PCA,…}\n",
      "└ @ MLJBase D:\\TongYuan\\.julia\\packages\\MLJBase\\CMT6L\\src\\machines.jl:684\n",
      "┌ Error: Problem fitting the machine Machine{Pipeline327,…}. \n",
      "└ @ MLJBase D:\\TongYuan\\.julia\\packages\\MLJBase\\CMT6L\\src\\machines.jl:594\n",
      "┌ Info: Running type checks... \n",
      "└ @ MLJBase D:\\TongYuan\\.julia\\packages\\MLJBase\\CMT6L\\src\\machines.jl:600\n",
      "┌ Info: Type checks okay. \n",
      "└ @ MLJBase D:\\TongYuan\\.julia\\packages\\MLJBase\\CMT6L\\src\\machines.jl:603\n"
     ]
    },
    {
     "ename": "LoadError",
     "evalue": "TaskFailedException\n\n\u001b[91m    nested task error: \u001b[39mMethodError: no method matching size(::MultivariateStats.PCA{Float64}, ::Int64)\n    \u001b[0mClosest candidates are:\n    \u001b[0m  size(\u001b[91m::Union{LinearAlgebra.QR, LinearAlgebra.QRCompactWY, LinearAlgebra.QRPivoted}\u001b[39m, ::Integer) at C:\\Program Files\\MWorks.Syslab 2022\\Tools\\julia-1.7.1\\share\\julia\\stdlib\\v1.7\\LinearAlgebra\\src\\qr.jl:566\n    \u001b[0m  size(\u001b[91m::Union{LinearAlgebra.Cholesky, LinearAlgebra.CholeskyPivoted}\u001b[39m, ::Integer) at C:\\Program Files\\MWorks.Syslab 2022\\Tools\\julia-1.7.1\\share\\julia\\stdlib\\v1.7\\LinearAlgebra\\src\\cholesky.jl:495\n    \u001b[0m  size(\u001b[91m::Union{LinearAlgebra.Hermitian{T, S}, LinearAlgebra.Symmetric{T, S}} where {T, S}\u001b[39m, ::Any) at C:\\Program Files\\MWorks.Syslab 2022\\Tools\\julia-1.7.1\\share\\julia\\stdlib\\v1.7\\LinearAlgebra\\src\\symmetric.jl:201\n    \u001b[0m  ...\n    Stacktrace:\n     [1] \u001b[0m\u001b[1mfit_only!\u001b[22m\u001b[0m\u001b[1m(\u001b[22m\u001b[90mmach\u001b[39m::\u001b[0mMachine\u001b[90m{MLJMultivariateStatsInterface.PCA, true}\u001b[39m, \u001b[90mwait_on_downstream\u001b[39m::\u001b[0mBool; \u001b[90mkwargs\u001b[39m::\u001b[0mBase.Pairs\u001b[90m{Symbol, Int64, Tuple{Symbol}, NamedTuple{(:verbosity,), Tuple{Int64}}}\u001b[39m\u001b[0m\u001b[1m)\u001b[22m\n    \u001b[90m   @ \u001b[39m\u001b[35mMLJBase\u001b[39m \u001b[90mD:\\TongYuan\\.julia\\packages\\MLJBase\\CMT6L\\src\\\u001b[39m\u001b[90m\u001b[4mmachines.jl:685\u001b[24m\u001b[39m\n     [2] \u001b[0m\u001b[1m(::MLJBase.var\"#79#81\"{Base.Pairs{Symbol, Int64, Tuple{Symbol}, NamedTuple{(:verbosity,), Tuple{Int64}}}, Machine{MLJMultivariateStatsInterface.PCA, true}})\u001b[22m\u001b[0m\u001b[1m(\u001b[22m\u001b[0m\u001b[1m)\u001b[22m\n    \u001b[90m   @ \u001b[39m\u001b[35mMLJBase\u001b[39m \u001b[90m.\\\u001b[39m\u001b[90m\u001b[4mtask.jl:423\u001b[24m\u001b[39m\n    \n    \u001b[91mcaused by: \u001b[39mMethodError: no method matching size(::MultivariateStats.PCA{Float64}, ::Int64)\n    \u001b[0mClosest candidates are:\n    \u001b[0m  size(\u001b[91m::Union{LinearAlgebra.QR, LinearAlgebra.QRCompactWY, LinearAlgebra.QRPivoted}\u001b[39m, ::Integer) at C:\\Program Files\\MWorks.Syslab 2022\\Tools\\julia-1.7.1\\share\\julia\\stdlib\\v1.7\\LinearAlgebra\\src\\qr.jl:566\n    \u001b[0m  size(\u001b[91m::Union{LinearAlgebra.Cholesky, LinearAlgebra.CholeskyPivoted}\u001b[39m, ::Integer) at C:\\Program Files\\MWorks.Syslab 2022\\Tools\\julia-1.7.1\\share\\julia\\stdlib\\v1.7\\LinearAlgebra\\src\\cholesky.jl:495\n    \u001b[0m  size(\u001b[91m::Union{LinearAlgebra.Hermitian{T, S}, LinearAlgebra.Symmetric{T, S}} where {T, S}\u001b[39m, ::Any) at C:\\Program Files\\MWorks.Syslab 2022\\Tools\\julia-1.7.1\\share\\julia\\stdlib\\v1.7\\LinearAlgebra\\src\\symmetric.jl:201\n    \u001b[0m  ...\n    Stacktrace:\n     [1] \u001b[0m\u001b[1mfit\u001b[22m\u001b[0m\u001b[1m(\u001b[22m\u001b[90mmodel\u001b[39m::\u001b[0mMLJMultivariateStatsInterface.PCA, \u001b[90mverbosity\u001b[39m::\u001b[0mInt64, \u001b[90mX\u001b[39m::\u001b[0mDataFrames.DataFrame\u001b[0m\u001b[1m)\u001b[22m\n    \u001b[90m   @ \u001b[39m\u001b[35mMLJMultivariateStatsInterface\u001b[39m \u001b[90mD:\\TongYuan\\.julia\\packages\\MLJMultivariateStatsInterface\\NV7Uy\\src\\models\\\u001b[39m\u001b[90m\u001b[4mdecomposition_models.jl:45\u001b[24m\u001b[39m\n     [2] \u001b[0m\u001b[1mfit_only!\u001b[22m\u001b[0m\u001b[1m(\u001b[22m\u001b[90mmach\u001b[39m::\u001b[0mMachine\u001b[90m{MLJMultivariateStatsInterface.PCA, true}\u001b[39m; \u001b[90mrows\u001b[39m::\u001b[0mNothing, \u001b[90mverbosity\u001b[39m::\u001b[0mInt64, \u001b[90mforce\u001b[39m::\u001b[0mBool\u001b[0m\u001b[1m)\u001b[22m\n    \u001b[90m   @ \u001b[39m\u001b[36mMLJBase\u001b[39m \u001b[90mD:\\TongYuan\\.julia\\packages\\MLJBase\\CMT6L\\src\\\u001b[39m\u001b[90m\u001b[4mmachines.jl:592\u001b[24m\u001b[39m\n     [3] \u001b[0m\u001b[1mfit_only!\u001b[22m\u001b[0m\u001b[1m(\u001b[22m\u001b[90mmach\u001b[39m::\u001b[0mMachine\u001b[90m{MLJMultivariateStatsInterface.PCA, true}\u001b[39m, \u001b[90mwait_on_downstream\u001b[39m::\u001b[0mBool; \u001b[90mkwargs\u001b[39m::\u001b[0mBase.Pairs\u001b[90m{Symbol, Int64, Tuple{Symbol}, NamedTuple{(:verbosity,), Tuple{Int64}}}\u001b[39m\u001b[0m\u001b[1m)\u001b[22m\n    \u001b[90m   @ \u001b[39m\u001b[36mMLJBase\u001b[39m \u001b[90mD:\\TongYuan\\.julia\\packages\\MLJBase\\CMT6L\\src\\\u001b[39m\u001b[90m\u001b[4mmachines.jl:681\u001b[24m\u001b[39m\n     [4] \u001b[0m\u001b[1m(::MLJBase.var\"#79#81\"{Base.Pairs{Symbol, Int64, Tuple{Symbol}, NamedTuple{(:verbosity,), Tuple{Int64}}}, Machine{MLJMultivariateStatsInterface.PCA, true}})\u001b[22m\u001b[0m\u001b[1m(\u001b[22m\u001b[0m\u001b[1m)\u001b[22m\n    \u001b[90m   @ \u001b[39m\u001b[36mMLJBase\u001b[39m \u001b[90m.\\\u001b[39m\u001b[90m\u001b[4mtask.jl:423\u001b[24m\u001b[39m",
     "output_type": "error",
     "traceback": [
      "TaskFailedException\n\n\u001b[91m    nested task error: \u001b[39mMethodError: no method matching size(::MultivariateStats.PCA{Float64}, ::Int64)\n    \u001b[0mClosest candidates are:\n    \u001b[0m  size(\u001b[91m::Union{LinearAlgebra.QR, LinearAlgebra.QRCompactWY, LinearAlgebra.QRPivoted}\u001b[39m, ::Integer) at C:\\Program Files\\MWorks.Syslab 2022\\Tools\\julia-1.7.1\\share\\julia\\stdlib\\v1.7\\LinearAlgebra\\src\\qr.jl:566\n    \u001b[0m  size(\u001b[91m::Union{LinearAlgebra.Cholesky, LinearAlgebra.CholeskyPivoted}\u001b[39m, ::Integer) at C:\\Program Files\\MWorks.Syslab 2022\\Tools\\julia-1.7.1\\share\\julia\\stdlib\\v1.7\\LinearAlgebra\\src\\cholesky.jl:495\n    \u001b[0m  size(\u001b[91m::Union{LinearAlgebra.Hermitian{T, S}, LinearAlgebra.Symmetric{T, S}} where {T, S}\u001b[39m, ::Any) at C:\\Program Files\\MWorks.Syslab 2022\\Tools\\julia-1.7.1\\share\\julia\\stdlib\\v1.7\\LinearAlgebra\\src\\symmetric.jl:201\n    \u001b[0m  ...\n    Stacktrace:\n     [1] \u001b[0m\u001b[1mfit_only!\u001b[22m\u001b[0m\u001b[1m(\u001b[22m\u001b[90mmach\u001b[39m::\u001b[0mMachine\u001b[90m{MLJMultivariateStatsInterface.PCA, true}\u001b[39m, \u001b[90mwait_on_downstream\u001b[39m::\u001b[0mBool; \u001b[90mkwargs\u001b[39m::\u001b[0mBase.Pairs\u001b[90m{Symbol, Int64, Tuple{Symbol}, NamedTuple{(:verbosity,), Tuple{Int64}}}\u001b[39m\u001b[0m\u001b[1m)\u001b[22m\n    \u001b[90m   @ \u001b[39m\u001b[35mMLJBase\u001b[39m \u001b[90mD:\\TongYuan\\.julia\\packages\\MLJBase\\CMT6L\\src\\\u001b[39m\u001b[90m\u001b[4mmachines.jl:685\u001b[24m\u001b[39m\n     [2] \u001b[0m\u001b[1m(::MLJBase.var\"#79#81\"{Base.Pairs{Symbol, Int64, Tuple{Symbol}, NamedTuple{(:verbosity,), Tuple{Int64}}}, Machine{MLJMultivariateStatsInterface.PCA, true}})\u001b[22m\u001b[0m\u001b[1m(\u001b[22m\u001b[0m\u001b[1m)\u001b[22m\n    \u001b[90m   @ \u001b[39m\u001b[35mMLJBase\u001b[39m \u001b[90m.\\\u001b[39m\u001b[90m\u001b[4mtask.jl:423\u001b[24m\u001b[39m\n    \n    \u001b[91mcaused by: \u001b[39mMethodError: no method matching size(::MultivariateStats.PCA{Float64}, ::Int64)\n    \u001b[0mClosest candidates are:\n    \u001b[0m  size(\u001b[91m::Union{LinearAlgebra.QR, LinearAlgebra.QRCompactWY, LinearAlgebra.QRPivoted}\u001b[39m, ::Integer) at C:\\Program Files\\MWorks.Syslab 2022\\Tools\\julia-1.7.1\\share\\julia\\stdlib\\v1.7\\LinearAlgebra\\src\\qr.jl:566\n    \u001b[0m  size(\u001b[91m::Union{LinearAlgebra.Cholesky, LinearAlgebra.CholeskyPivoted}\u001b[39m, ::Integer) at C:\\Program Files\\MWorks.Syslab 2022\\Tools\\julia-1.7.1\\share\\julia\\stdlib\\v1.7\\LinearAlgebra\\src\\cholesky.jl:495\n    \u001b[0m  size(\u001b[91m::Union{LinearAlgebra.Hermitian{T, S}, LinearAlgebra.Symmetric{T, S}} where {T, S}\u001b[39m, ::Any) at C:\\Program Files\\MWorks.Syslab 2022\\Tools\\julia-1.7.1\\share\\julia\\stdlib\\v1.7\\LinearAlgebra\\src\\symmetric.jl:201\n    \u001b[0m  ...\n    Stacktrace:\n     [1] \u001b[0m\u001b[1mfit\u001b[22m\u001b[0m\u001b[1m(\u001b[22m\u001b[90mmodel\u001b[39m::\u001b[0mMLJMultivariateStatsInterface.PCA, \u001b[90mverbosity\u001b[39m::\u001b[0mInt64, \u001b[90mX\u001b[39m::\u001b[0mDataFrames.DataFrame\u001b[0m\u001b[1m)\u001b[22m\n    \u001b[90m   @ \u001b[39m\u001b[35mMLJMultivariateStatsInterface\u001b[39m \u001b[90mD:\\TongYuan\\.julia\\packages\\MLJMultivariateStatsInterface\\NV7Uy\\src\\models\\\u001b[39m\u001b[90m\u001b[4mdecomposition_models.jl:45\u001b[24m\u001b[39m\n     [2] \u001b[0m\u001b[1mfit_only!\u001b[22m\u001b[0m\u001b[1m(\u001b[22m\u001b[90mmach\u001b[39m::\u001b[0mMachine\u001b[90m{MLJMultivariateStatsInterface.PCA, true}\u001b[39m; \u001b[90mrows\u001b[39m::\u001b[0mNothing, \u001b[90mverbosity\u001b[39m::\u001b[0mInt64, \u001b[90mforce\u001b[39m::\u001b[0mBool\u001b[0m\u001b[1m)\u001b[22m\n    \u001b[90m   @ \u001b[39m\u001b[36mMLJBase\u001b[39m \u001b[90mD:\\TongYuan\\.julia\\packages\\MLJBase\\CMT6L\\src\\\u001b[39m\u001b[90m\u001b[4mmachines.jl:592\u001b[24m\u001b[39m\n     [3] \u001b[0m\u001b[1mfit_only!\u001b[22m\u001b[0m\u001b[1m(\u001b[22m\u001b[90mmach\u001b[39m::\u001b[0mMachine\u001b[90m{MLJMultivariateStatsInterface.PCA, true}\u001b[39m, \u001b[90mwait_on_downstream\u001b[39m::\u001b[0mBool; \u001b[90mkwargs\u001b[39m::\u001b[0mBase.Pairs\u001b[90m{Symbol, Int64, Tuple{Symbol}, NamedTuple{(:verbosity,), Tuple{Int64}}}\u001b[39m\u001b[0m\u001b[1m)\u001b[22m\n    \u001b[90m   @ \u001b[39m\u001b[36mMLJBase\u001b[39m \u001b[90mD:\\TongYuan\\.julia\\packages\\MLJBase\\CMT6L\\src\\\u001b[39m\u001b[90m\u001b[4mmachines.jl:681\u001b[24m\u001b[39m\n     [4] \u001b[0m\u001b[1m(::MLJBase.var\"#79#81\"{Base.Pairs{Symbol, Int64, Tuple{Symbol}, NamedTuple{(:verbosity,), Tuple{Int64}}}, Machine{MLJMultivariateStatsInterface.PCA, true}})\u001b[22m\u001b[0m\u001b[1m(\u001b[22m\u001b[0m\u001b[1m)\u001b[22m\n    \u001b[90m   @ \u001b[39m\u001b[36mMLJBase\u001b[39m \u001b[90m.\\\u001b[39m\u001b[90m\u001b[4mtask.jl:423\u001b[24m\u001b[39m",
      "",
      "Stacktrace:",
      "  [1] sync_end(c::Channel{Any})",
      "    @ Base .\\task.jl:381",
      "  [2] macro expansion",
      "    @ .\\task.jl:400 [inlined]",
      "  [3] fit!(y::Node{Nothing}, ::CPU1{Nothing}; kwargs::Base.Pairs{Symbol, Int64, Tuple{Symbol}, NamedTuple{(:verbosity,), Tuple{Int64}}})",
      "    @ MLJBase D:\\TongYuan\\.julia\\packages\\MLJBase\\CMT6L\\src\\composition\\learning_networks\\nodes.jl:225",
      "  [4] #fit!#75",
      "    @ D:\\TongYuan\\.julia\\packages\\MLJBase\\CMT6L\\src\\composition\\learning_networks\\nodes.jl:207 [inlined]",
      "  [5] fit!(mach::Machine{DeterministicSurrogate, false}; kwargs::Base.Pairs{Symbol, Int64, Tuple{Symbol}, NamedTuple{(:verbosity,), Tuple{Int64}}})",
      "    @ MLJBase D:\\TongYuan\\.julia\\packages\\MLJBase\\CMT6L\\src\\composition\\learning_networks\\machines.jl:253",
      "  [6] return!(mach::Machine{DeterministicSurrogate, false}, model::Pipeline327, verbosity::Int64)",
      "    @ MLJBase D:\\TongYuan\\.julia\\packages\\MLJBase\\CMT6L\\src\\composition\\learning_networks\\machines.jl:399",
      "  [7] (::MLJBase.var\"#_fit#174\"{Machine{DeterministicSurrogate, false}, Tuple{ContinuousEncoder, MLJMultivariateStatsInterface.PCA, MLJLinearModels.RidgeRegressor, MLJBase.WrappedFunction, MLJBase.WrappedFunction}, Tuple{Source, Source}})(::Pipeline327, ::Int64, ::DataFrames.DataFrame, ::Vararg{Any})",
      "    @ MLJBase D:\\TongYuan\\.julia\\packages\\MLJBase\\CMT6L\\src\\composition\\models\\from_network.jl:25",
      "  [8] fit(::Pipeline327, ::Int64, ::DataFrames.DataFrame, ::Vector{Float64})",
      "    @ Main D:\\TongYuan\\.julia\\packages\\MLJBase\\CMT6L\\src\\composition\\models\\from_network.jl:165",
      "  [9] fit_only!(mach::Machine{Pipeline327, true}; rows::Vector{Int64}, verbosity::Int64, force::Bool)",
      "    @ MLJBase D:\\TongYuan\\.julia\\packages\\MLJBase\\CMT6L\\src\\machines.jl:592",
      " [10] #fit!#62",
      "    @ D:\\TongYuan\\.julia\\packages\\MLJBase\\CMT6L\\src\\machines.jl:659 [inlined]",
      " [11] fit_and_extract_on_fold",
      "    @ D:\\TongYuan\\.julia\\packages\\MLJBase\\CMT6L\\src\\resampling.jl:1141 [inlined]",
      " [12] (::MLJBase.var\"#275#276\"{MLJBase.var\"#fit_and_extract_on_fold#298\"{Vector{Tuple{Vector{Int64}, UnitRange{Int64}}}, Nothing, Nothing, Int64, Vector{MeanAbsoluteError}, Vector{typeof(MLJModelInterface.predict)}, Bool, Bool, Vector{Float64}, DataFrames.DataFrame}, Machine{Pipeline327, true}, Int64})(k::Int64)",
      "    @ MLJBase D:\\TongYuan\\.julia\\packages\\MLJBase\\CMT6L\\src\\resampling.jl:980",
      " [13] _mapreduce(f::MLJBase.var\"#275#276\"{MLJBase.var\"#fit_and_extract_on_fold#298\"{Vector{Tuple{Vector{Int64}, UnitRange{Int64}}}, Nothing, Nothing, Int64, Vector{MeanAbsoluteError}, Vector{typeof(MLJModelInterface.predict)}, Bool, Bool, Vector{Float64}, DataFrames.DataFrame}, Machine{Pipeline327, true}, Int64}, op::typeof(vcat), #unused#::IndexLinear, A::UnitRange{Int64})",
      "    @ Base .\\reduce.jl:410",
      " [14] _mapreduce_dim",
      "    @ .\\reducedim.jl:330 [inlined]",
      " [15] #mapreduce#725",
      "    @ .\\reducedim.jl:322 [inlined]",
      " [16] mapreduce",
      "    @ .\\reducedim.jl:322 [inlined]",
      " [17] _evaluate!(func::MLJBase.var\"#fit_and_extract_on_fold#298\"{Vector{Tuple{Vector{Int64}, UnitRange{Int64}}}, Nothing, Nothing, Int64, Vector{MeanAbsoluteError}, Vector{typeof(MLJModelInterface.predict)}, Bool, Bool, Vector{Float64}, DataFrames.DataFrame}, mach::Machine{Pipeline327, true}, #unused#::CPU1{Nothing}, nfolds::Int64, verbosity::Int64)",
      "    @ MLJBase D:\\TongYuan\\.julia\\packages\\MLJBase\\CMT6L\\src\\resampling.jl:979",
      " [18] evaluate!(mach::Machine{Pipeline327, true}, resampling::Vector{Tuple{Vector{Int64}, UnitRange{Int64}}}, weights::Nothing, class_weights::Nothing, rows::Nothing, verbosity::Int64, repeats::Int64, measures::Vector{MeanAbsoluteError}, operations::Vector{typeof(MLJModelInterface.predict)}, acceleration::CPU1{Nothing}, force::Bool)",
      "    @ MLJBase D:\\TongYuan\\.julia\\packages\\MLJBase\\CMT6L\\src\\resampling.jl:1182",
      " [19] evaluate!(::Machine{Pipeline327, true}, ::CV, ::Nothing, ::Nothing, ::Nothing, ::Int64, ::Int64, ::Vector{MeanAbsoluteError}, ::Vector{typeof(MLJModelInterface.predict)}, ::CPU1{Nothing}, ::Bool)",
      "    @ MLJBase D:\\TongYuan\\.julia\\packages\\MLJBase\\CMT6L\\src\\resampling.jl:1253",
      " [20] evaluate!(mach::Machine{Pipeline327, true}; resampling::CV, measures::Nothing, measure::MeanAbsoluteError, weights::Nothing, class_weights::Nothing, operations::Nothing, operation::Nothing, acceleration::CPU1{Nothing}, rows::Nothing, repeats::Int64, force::Bool, check_measure::Bool, verbosity::Int64)",
      "    @ MLJBase D:\\TongYuan\\.julia\\packages\\MLJBase\\CMT6L\\src\\resampling.jl:940",
      " [21] top-level scope",
      "    @ In[92]:3",
      " [22] eval",
      "    @ .\\boot.jl:373 [inlined]",
      " [23] include_string(mapexpr::typeof(REPL.softscope), mod::Module, code::String, filename::String)",
      "    @ Base .\\loading.jl:1196"
     ]
    }
   ],
   "source": [
    "pipe3 = @pipeline encoder reducer rgs target=log inverse=exp\n",
    "mach = machine(pipe3, X, y)\n",
    "evaluate!(mach, measure=mae)"
   ]
  },
  {
   "cell_type": "markdown",
   "id": "b3f5db2b",
   "metadata": {},
   "source": [
    "MLJ 还将允许您插入学习的目标转换。例如，我们可能希望将 Standardizer() 应用于目标，使其标准化，或 UnivariateBoxCoxTransformer() 使其看起来像高斯。然后，我们不指定目标函数，而是指定无监督模型（或模型类型）。一个没有指定 inverse 因为只允许实现 inverse_transform 的模型。\n",
    "\n",
    "让我们看看这两个选项中的哪一个会产生更好的结果："
   ]
  },
  {
   "cell_type": "code",
   "execution_count": 93,
   "id": "decfa136",
   "metadata": {
    "ExecuteTime": {
     "end_time": "2022-06-08T15:18:42.152000+08:00",
     "start_time": "2022-06-08T07:15:15.456Z"
    }
   },
   "outputs": [
    {
     "name": "stderr",
     "output_type": "stream",
     "text": [
      "┌ Info: Treating pipeline as a `Deterministic` predictor.\n",
      "│ To override, specify `prediction_type=...` (options: :deterministic, :probabilistic, :interval). \n",
      "└ @ MLJBase D:\\TongYuan\\.julia\\packages\\MLJBase\\CMT6L\\src\\composition\\models\\deprecated.jl:387\n",
      "┌ Error: Problem fitting the machine Machine{PCA,…}. \n",
      "└ @ MLJBase D:\\TongYuan\\.julia\\packages\\MLJBase\\CMT6L\\src\\machines.jl:594\n",
      "┌ Info: Running type checks... \n",
      "└ @ MLJBase D:\\TongYuan\\.julia\\packages\\MLJBase\\CMT6L\\src\\machines.jl:600\n",
      "┌ Info: Type checks okay. \n",
      "└ @ MLJBase D:\\TongYuan\\.julia\\packages\\MLJBase\\CMT6L\\src\\machines.jl:603\n",
      "┌ Error: Problem fitting Machine{PCA,…}\n",
      "└ @ MLJBase D:\\TongYuan\\.julia\\packages\\MLJBase\\CMT6L\\src\\machines.jl:684\n",
      "┌ Error: Problem fitting the machine Machine{Pipeline336,…}. \n",
      "└ @ MLJBase D:\\TongYuan\\.julia\\packages\\MLJBase\\CMT6L\\src\\machines.jl:594\n",
      "┌ Info: Running type checks... \n",
      "└ @ MLJBase D:\\TongYuan\\.julia\\packages\\MLJBase\\CMT6L\\src\\machines.jl:600\n",
      "┌ Info: Type checks okay. \n",
      "└ @ MLJBase D:\\TongYuan\\.julia\\packages\\MLJBase\\CMT6L\\src\\machines.jl:603\n"
     ]
    },
    {
     "ename": "LoadError",
     "evalue": "TaskFailedException\n\n\u001b[91m    nested task error: \u001b[39mMethodError: no method matching size(::MultivariateStats.PCA{Float64}, ::Int64)\n    \u001b[0mClosest candidates are:\n    \u001b[0m  size(\u001b[91m::Union{LinearAlgebra.QR, LinearAlgebra.QRCompactWY, LinearAlgebra.QRPivoted}\u001b[39m, ::Integer) at C:\\Program Files\\MWorks.Syslab 2022\\Tools\\julia-1.7.1\\share\\julia\\stdlib\\v1.7\\LinearAlgebra\\src\\qr.jl:566\n    \u001b[0m  size(\u001b[91m::Union{LinearAlgebra.Cholesky, LinearAlgebra.CholeskyPivoted}\u001b[39m, ::Integer) at C:\\Program Files\\MWorks.Syslab 2022\\Tools\\julia-1.7.1\\share\\julia\\stdlib\\v1.7\\LinearAlgebra\\src\\cholesky.jl:495\n    \u001b[0m  size(\u001b[91m::Union{LinearAlgebra.Hermitian{T, S}, LinearAlgebra.Symmetric{T, S}} where {T, S}\u001b[39m, ::Any) at C:\\Program Files\\MWorks.Syslab 2022\\Tools\\julia-1.7.1\\share\\julia\\stdlib\\v1.7\\LinearAlgebra\\src\\symmetric.jl:201\n    \u001b[0m  ...\n    Stacktrace:\n     [1] \u001b[0m\u001b[1mfit_only!\u001b[22m\u001b[0m\u001b[1m(\u001b[22m\u001b[90mmach\u001b[39m::\u001b[0mMachine\u001b[90m{MLJMultivariateStatsInterface.PCA, true}\u001b[39m, \u001b[90mwait_on_downstream\u001b[39m::\u001b[0mBool; \u001b[90mkwargs\u001b[39m::\u001b[0mBase.Pairs\u001b[90m{Symbol, Int64, Tuple{Symbol}, NamedTuple{(:verbosity,), Tuple{Int64}}}\u001b[39m\u001b[0m\u001b[1m)\u001b[22m\n    \u001b[90m   @ \u001b[39m\u001b[35mMLJBase\u001b[39m \u001b[90mD:\\TongYuan\\.julia\\packages\\MLJBase\\CMT6L\\src\\\u001b[39m\u001b[90m\u001b[4mmachines.jl:685\u001b[24m\u001b[39m\n     [2] \u001b[0m\u001b[1m(::MLJBase.var\"#79#81\"{Base.Pairs{Symbol, Int64, Tuple{Symbol}, NamedTuple{(:verbosity,), Tuple{Int64}}}, Machine{MLJMultivariateStatsInterface.PCA, true}})\u001b[22m\u001b[0m\u001b[1m(\u001b[22m\u001b[0m\u001b[1m)\u001b[22m\n    \u001b[90m   @ \u001b[39m\u001b[35mMLJBase\u001b[39m \u001b[90m.\\\u001b[39m\u001b[90m\u001b[4mtask.jl:423\u001b[24m\u001b[39m\n    \n    \u001b[91mcaused by: \u001b[39mMethodError: no method matching size(::MultivariateStats.PCA{Float64}, ::Int64)\n    \u001b[0mClosest candidates are:\n    \u001b[0m  size(\u001b[91m::Union{LinearAlgebra.QR, LinearAlgebra.QRCompactWY, LinearAlgebra.QRPivoted}\u001b[39m, ::Integer) at C:\\Program Files\\MWorks.Syslab 2022\\Tools\\julia-1.7.1\\share\\julia\\stdlib\\v1.7\\LinearAlgebra\\src\\qr.jl:566\n    \u001b[0m  size(\u001b[91m::Union{LinearAlgebra.Cholesky, LinearAlgebra.CholeskyPivoted}\u001b[39m, ::Integer) at C:\\Program Files\\MWorks.Syslab 2022\\Tools\\julia-1.7.1\\share\\julia\\stdlib\\v1.7\\LinearAlgebra\\src\\cholesky.jl:495\n    \u001b[0m  size(\u001b[91m::Union{LinearAlgebra.Hermitian{T, S}, LinearAlgebra.Symmetric{T, S}} where {T, S}\u001b[39m, ::Any) at C:\\Program Files\\MWorks.Syslab 2022\\Tools\\julia-1.7.1\\share\\julia\\stdlib\\v1.7\\LinearAlgebra\\src\\symmetric.jl:201\n    \u001b[0m  ...\n    Stacktrace:\n     [1] \u001b[0m\u001b[1mfit\u001b[22m\u001b[0m\u001b[1m(\u001b[22m\u001b[90mmodel\u001b[39m::\u001b[0mMLJMultivariateStatsInterface.PCA, \u001b[90mverbosity\u001b[39m::\u001b[0mInt64, \u001b[90mX\u001b[39m::\u001b[0mDataFrames.DataFrame\u001b[0m\u001b[1m)\u001b[22m\n    \u001b[90m   @ \u001b[39m\u001b[35mMLJMultivariateStatsInterface\u001b[39m \u001b[90mD:\\TongYuan\\.julia\\packages\\MLJMultivariateStatsInterface\\NV7Uy\\src\\models\\\u001b[39m\u001b[90m\u001b[4mdecomposition_models.jl:45\u001b[24m\u001b[39m\n     [2] \u001b[0m\u001b[1mfit_only!\u001b[22m\u001b[0m\u001b[1m(\u001b[22m\u001b[90mmach\u001b[39m::\u001b[0mMachine\u001b[90m{MLJMultivariateStatsInterface.PCA, true}\u001b[39m; \u001b[90mrows\u001b[39m::\u001b[0mNothing, \u001b[90mverbosity\u001b[39m::\u001b[0mInt64, \u001b[90mforce\u001b[39m::\u001b[0mBool\u001b[0m\u001b[1m)\u001b[22m\n    \u001b[90m   @ \u001b[39m\u001b[36mMLJBase\u001b[39m \u001b[90mD:\\TongYuan\\.julia\\packages\\MLJBase\\CMT6L\\src\\\u001b[39m\u001b[90m\u001b[4mmachines.jl:592\u001b[24m\u001b[39m\n     [3] \u001b[0m\u001b[1mfit_only!\u001b[22m\u001b[0m\u001b[1m(\u001b[22m\u001b[90mmach\u001b[39m::\u001b[0mMachine\u001b[90m{MLJMultivariateStatsInterface.PCA, true}\u001b[39m, \u001b[90mwait_on_downstream\u001b[39m::\u001b[0mBool; \u001b[90mkwargs\u001b[39m::\u001b[0mBase.Pairs\u001b[90m{Symbol, Int64, Tuple{Symbol}, NamedTuple{(:verbosity,), Tuple{Int64}}}\u001b[39m\u001b[0m\u001b[1m)\u001b[22m\n    \u001b[90m   @ \u001b[39m\u001b[36mMLJBase\u001b[39m \u001b[90mD:\\TongYuan\\.julia\\packages\\MLJBase\\CMT6L\\src\\\u001b[39m\u001b[90m\u001b[4mmachines.jl:681\u001b[24m\u001b[39m\n     [4] \u001b[0m\u001b[1m(::MLJBase.var\"#79#81\"{Base.Pairs{Symbol, Int64, Tuple{Symbol}, NamedTuple{(:verbosity,), Tuple{Int64}}}, Machine{MLJMultivariateStatsInterface.PCA, true}})\u001b[22m\u001b[0m\u001b[1m(\u001b[22m\u001b[0m\u001b[1m)\u001b[22m\n    \u001b[90m   @ \u001b[39m\u001b[36mMLJBase\u001b[39m \u001b[90m.\\\u001b[39m\u001b[90m\u001b[4mtask.jl:423\u001b[24m\u001b[39m",
     "output_type": "error",
     "traceback": [
      "TaskFailedException\n\n\u001b[91m    nested task error: \u001b[39mMethodError: no method matching size(::MultivariateStats.PCA{Float64}, ::Int64)\n    \u001b[0mClosest candidates are:\n    \u001b[0m  size(\u001b[91m::Union{LinearAlgebra.QR, LinearAlgebra.QRCompactWY, LinearAlgebra.QRPivoted}\u001b[39m, ::Integer) at C:\\Program Files\\MWorks.Syslab 2022\\Tools\\julia-1.7.1\\share\\julia\\stdlib\\v1.7\\LinearAlgebra\\src\\qr.jl:566\n    \u001b[0m  size(\u001b[91m::Union{LinearAlgebra.Cholesky, LinearAlgebra.CholeskyPivoted}\u001b[39m, ::Integer) at C:\\Program Files\\MWorks.Syslab 2022\\Tools\\julia-1.7.1\\share\\julia\\stdlib\\v1.7\\LinearAlgebra\\src\\cholesky.jl:495\n    \u001b[0m  size(\u001b[91m::Union{LinearAlgebra.Hermitian{T, S}, LinearAlgebra.Symmetric{T, S}} where {T, S}\u001b[39m, ::Any) at C:\\Program Files\\MWorks.Syslab 2022\\Tools\\julia-1.7.1\\share\\julia\\stdlib\\v1.7\\LinearAlgebra\\src\\symmetric.jl:201\n    \u001b[0m  ...\n    Stacktrace:\n     [1] \u001b[0m\u001b[1mfit_only!\u001b[22m\u001b[0m\u001b[1m(\u001b[22m\u001b[90mmach\u001b[39m::\u001b[0mMachine\u001b[90m{MLJMultivariateStatsInterface.PCA, true}\u001b[39m, \u001b[90mwait_on_downstream\u001b[39m::\u001b[0mBool; \u001b[90mkwargs\u001b[39m::\u001b[0mBase.Pairs\u001b[90m{Symbol, Int64, Tuple{Symbol}, NamedTuple{(:verbosity,), Tuple{Int64}}}\u001b[39m\u001b[0m\u001b[1m)\u001b[22m\n    \u001b[90m   @ \u001b[39m\u001b[35mMLJBase\u001b[39m \u001b[90mD:\\TongYuan\\.julia\\packages\\MLJBase\\CMT6L\\src\\\u001b[39m\u001b[90m\u001b[4mmachines.jl:685\u001b[24m\u001b[39m\n     [2] \u001b[0m\u001b[1m(::MLJBase.var\"#79#81\"{Base.Pairs{Symbol, Int64, Tuple{Symbol}, NamedTuple{(:verbosity,), Tuple{Int64}}}, Machine{MLJMultivariateStatsInterface.PCA, true}})\u001b[22m\u001b[0m\u001b[1m(\u001b[22m\u001b[0m\u001b[1m)\u001b[22m\n    \u001b[90m   @ \u001b[39m\u001b[35mMLJBase\u001b[39m \u001b[90m.\\\u001b[39m\u001b[90m\u001b[4mtask.jl:423\u001b[24m\u001b[39m\n    \n    \u001b[91mcaused by: \u001b[39mMethodError: no method matching size(::MultivariateStats.PCA{Float64}, ::Int64)\n    \u001b[0mClosest candidates are:\n    \u001b[0m  size(\u001b[91m::Union{LinearAlgebra.QR, LinearAlgebra.QRCompactWY, LinearAlgebra.QRPivoted}\u001b[39m, ::Integer) at C:\\Program Files\\MWorks.Syslab 2022\\Tools\\julia-1.7.1\\share\\julia\\stdlib\\v1.7\\LinearAlgebra\\src\\qr.jl:566\n    \u001b[0m  size(\u001b[91m::Union{LinearAlgebra.Cholesky, LinearAlgebra.CholeskyPivoted}\u001b[39m, ::Integer) at C:\\Program Files\\MWorks.Syslab 2022\\Tools\\julia-1.7.1\\share\\julia\\stdlib\\v1.7\\LinearAlgebra\\src\\cholesky.jl:495\n    \u001b[0m  size(\u001b[91m::Union{LinearAlgebra.Hermitian{T, S}, LinearAlgebra.Symmetric{T, S}} where {T, S}\u001b[39m, ::Any) at C:\\Program Files\\MWorks.Syslab 2022\\Tools\\julia-1.7.1\\share\\julia\\stdlib\\v1.7\\LinearAlgebra\\src\\symmetric.jl:201\n    \u001b[0m  ...\n    Stacktrace:\n     [1] \u001b[0m\u001b[1mfit\u001b[22m\u001b[0m\u001b[1m(\u001b[22m\u001b[90mmodel\u001b[39m::\u001b[0mMLJMultivariateStatsInterface.PCA, \u001b[90mverbosity\u001b[39m::\u001b[0mInt64, \u001b[90mX\u001b[39m::\u001b[0mDataFrames.DataFrame\u001b[0m\u001b[1m)\u001b[22m\n    \u001b[90m   @ \u001b[39m\u001b[35mMLJMultivariateStatsInterface\u001b[39m \u001b[90mD:\\TongYuan\\.julia\\packages\\MLJMultivariateStatsInterface\\NV7Uy\\src\\models\\\u001b[39m\u001b[90m\u001b[4mdecomposition_models.jl:45\u001b[24m\u001b[39m\n     [2] \u001b[0m\u001b[1mfit_only!\u001b[22m\u001b[0m\u001b[1m(\u001b[22m\u001b[90mmach\u001b[39m::\u001b[0mMachine\u001b[90m{MLJMultivariateStatsInterface.PCA, true}\u001b[39m; \u001b[90mrows\u001b[39m::\u001b[0mNothing, \u001b[90mverbosity\u001b[39m::\u001b[0mInt64, \u001b[90mforce\u001b[39m::\u001b[0mBool\u001b[0m\u001b[1m)\u001b[22m\n    \u001b[90m   @ \u001b[39m\u001b[36mMLJBase\u001b[39m \u001b[90mD:\\TongYuan\\.julia\\packages\\MLJBase\\CMT6L\\src\\\u001b[39m\u001b[90m\u001b[4mmachines.jl:592\u001b[24m\u001b[39m\n     [3] \u001b[0m\u001b[1mfit_only!\u001b[22m\u001b[0m\u001b[1m(\u001b[22m\u001b[90mmach\u001b[39m::\u001b[0mMachine\u001b[90m{MLJMultivariateStatsInterface.PCA, true}\u001b[39m, \u001b[90mwait_on_downstream\u001b[39m::\u001b[0mBool; \u001b[90mkwargs\u001b[39m::\u001b[0mBase.Pairs\u001b[90m{Symbol, Int64, Tuple{Symbol}, NamedTuple{(:verbosity,), Tuple{Int64}}}\u001b[39m\u001b[0m\u001b[1m)\u001b[22m\n    \u001b[90m   @ \u001b[39m\u001b[36mMLJBase\u001b[39m \u001b[90mD:\\TongYuan\\.julia\\packages\\MLJBase\\CMT6L\\src\\\u001b[39m\u001b[90m\u001b[4mmachines.jl:681\u001b[24m\u001b[39m\n     [4] \u001b[0m\u001b[1m(::MLJBase.var\"#79#81\"{Base.Pairs{Symbol, Int64, Tuple{Symbol}, NamedTuple{(:verbosity,), Tuple{Int64}}}, Machine{MLJMultivariateStatsInterface.PCA, true}})\u001b[22m\u001b[0m\u001b[1m(\u001b[22m\u001b[0m\u001b[1m)\u001b[22m\n    \u001b[90m   @ \u001b[39m\u001b[36mMLJBase\u001b[39m \u001b[90m.\\\u001b[39m\u001b[90m\u001b[4mtask.jl:423\u001b[24m\u001b[39m",
      "",
      "Stacktrace:",
      "  [1] sync_end(c::Channel{Any})",
      "    @ Base .\\task.jl:381",
      "  [2] macro expansion",
      "    @ .\\task.jl:400 [inlined]",
      "  [3] fit!(y::Node{Nothing}, ::CPU1{Nothing}; kwargs::Base.Pairs{Symbol, Int64, Tuple{Symbol}, NamedTuple{(:verbosity,), Tuple{Int64}}})",
      "    @ MLJBase D:\\TongYuan\\.julia\\packages\\MLJBase\\CMT6L\\src\\composition\\learning_networks\\nodes.jl:225",
      "  [4] #fit!#75",
      "    @ D:\\TongYuan\\.julia\\packages\\MLJBase\\CMT6L\\src\\composition\\learning_networks\\nodes.jl:207 [inlined]",
      "  [5] fit!(mach::Machine{DeterministicSurrogate, false}; kwargs::Base.Pairs{Symbol, Int64, Tuple{Symbol}, NamedTuple{(:verbosity,), Tuple{Int64}}})",
      "    @ MLJBase D:\\TongYuan\\.julia\\packages\\MLJBase\\CMT6L\\src\\composition\\learning_networks\\machines.jl:253",
      "  [6] return!(mach::Machine{DeterministicSurrogate, false}, model::Pipeline336, verbosity::Int64)",
      "    @ MLJBase D:\\TongYuan\\.julia\\packages\\MLJBase\\CMT6L\\src\\composition\\learning_networks\\machines.jl:399",
      "  [7] (::MLJBase.var\"#_fit#174\"{Machine{DeterministicSurrogate, false}, Tuple{ContinuousEncoder, MLJMultivariateStatsInterface.PCA, MLJLinearModels.RidgeRegressor, UnivariateBoxCoxTransformer}, Tuple{Source, Source}})(::Pipeline336, ::Int64, ::DataFrames.DataFrame, ::Vararg{Any})",
      "    @ MLJBase D:\\TongYuan\\.julia\\packages\\MLJBase\\CMT6L\\src\\composition\\models\\from_network.jl:25",
      "  [8] fit(::Pipeline336, ::Int64, ::DataFrames.DataFrame, ::Vector{Float64})",
      "    @ Main D:\\TongYuan\\.julia\\packages\\MLJBase\\CMT6L\\src\\composition\\models\\from_network.jl:165",
      "  [9] fit_only!(mach::Machine{Pipeline336, true}; rows::Vector{Int64}, verbosity::Int64, force::Bool)",
      "    @ MLJBase D:\\TongYuan\\.julia\\packages\\MLJBase\\CMT6L\\src\\machines.jl:592",
      " [10] #fit!#62",
      "    @ D:\\TongYuan\\.julia\\packages\\MLJBase\\CMT6L\\src\\machines.jl:659 [inlined]",
      " [11] fit_and_extract_on_fold",
      "    @ D:\\TongYuan\\.julia\\packages\\MLJBase\\CMT6L\\src\\resampling.jl:1141 [inlined]",
      " [12] (::MLJBase.var\"#275#276\"{MLJBase.var\"#fit_and_extract_on_fold#298\"{Vector{Tuple{Vector{Int64}, UnitRange{Int64}}}, Nothing, Nothing, Int64, Vector{MeanAbsoluteError}, Vector{typeof(MLJModelInterface.predict)}, Bool, Bool, Vector{Float64}, DataFrames.DataFrame}, Machine{Pipeline336, true}, Int64})(k::Int64)",
      "    @ MLJBase D:\\TongYuan\\.julia\\packages\\MLJBase\\CMT6L\\src\\resampling.jl:980",
      " [13] _mapreduce(f::MLJBase.var\"#275#276\"{MLJBase.var\"#fit_and_extract_on_fold#298\"{Vector{Tuple{Vector{Int64}, UnitRange{Int64}}}, Nothing, Nothing, Int64, Vector{MeanAbsoluteError}, Vector{typeof(MLJModelInterface.predict)}, Bool, Bool, Vector{Float64}, DataFrames.DataFrame}, Machine{Pipeline336, true}, Int64}, op::typeof(vcat), #unused#::IndexLinear, A::UnitRange{Int64})",
      "    @ Base .\\reduce.jl:410",
      " [14] _mapreduce_dim",
      "    @ .\\reducedim.jl:330 [inlined]",
      " [15] #mapreduce#725",
      "    @ .\\reducedim.jl:322 [inlined]",
      " [16] mapreduce",
      "    @ .\\reducedim.jl:322 [inlined]",
      " [17] _evaluate!(func::MLJBase.var\"#fit_and_extract_on_fold#298\"{Vector{Tuple{Vector{Int64}, UnitRange{Int64}}}, Nothing, Nothing, Int64, Vector{MeanAbsoluteError}, Vector{typeof(MLJModelInterface.predict)}, Bool, Bool, Vector{Float64}, DataFrames.DataFrame}, mach::Machine{Pipeline336, true}, #unused#::CPU1{Nothing}, nfolds::Int64, verbosity::Int64)",
      "    @ MLJBase D:\\TongYuan\\.julia\\packages\\MLJBase\\CMT6L\\src\\resampling.jl:979",
      " [18] evaluate!(mach::Machine{Pipeline336, true}, resampling::Vector{Tuple{Vector{Int64}, UnitRange{Int64}}}, weights::Nothing, class_weights::Nothing, rows::Nothing, verbosity::Int64, repeats::Int64, measures::Vector{MeanAbsoluteError}, operations::Vector{typeof(MLJModelInterface.predict)}, acceleration::CPU1{Nothing}, force::Bool)",
      "    @ MLJBase D:\\TongYuan\\.julia\\packages\\MLJBase\\CMT6L\\src\\resampling.jl:1182",
      " [19] evaluate!(::Machine{Pipeline336, true}, ::CV, ::Nothing, ::Nothing, ::Nothing, ::Int64, ::Int64, ::Vector{MeanAbsoluteError}, ::Vector{typeof(MLJModelInterface.predict)}, ::CPU1{Nothing}, ::Bool)",
      "    @ MLJBase D:\\TongYuan\\.julia\\packages\\MLJBase\\CMT6L\\src\\resampling.jl:1253",
      " [20] evaluate!(mach::Machine{Pipeline336, true}; resampling::CV, measures::Nothing, measure::MeanAbsoluteError, weights::Nothing, class_weights::Nothing, operations::Nothing, operation::Nothing, acceleration::CPU1{Nothing}, rows::Nothing, repeats::Int64, force::Bool, check_measure::Bool, verbosity::Int64)",
      "    @ MLJBase D:\\TongYuan\\.julia\\packages\\MLJBase\\CMT6L\\src\\resampling.jl:940",
      " [21] top-level scope",
      "    @ In[93]:6",
      " [22] eval",
      "    @ .\\boot.jl:373 [inlined]",
      " [23] include_string(mapexpr::typeof(REPL.softscope), mod::Module, code::String, filename::String)",
      "    @ Base .\\loading.jl:1196"
     ]
    }
   ],
   "source": [
    "box = UnivariateBoxCoxTransformer(n=20)\n",
    "stand = Standardizer()\n",
    "\n",
    "pipe4 = @pipeline encoder reducer rgs target=box\n",
    "mach = machine(pipe4, X, y)\n",
    "evaluate!(mach, measure=mae)"
   ]
  },
  {
   "cell_type": "code",
   "execution_count": 94,
   "id": "809f70af",
   "metadata": {
    "ExecuteTime": {
     "end_time": "2022-06-08T15:18:43.344000+08:00",
     "start_time": "2022-06-08T07:15:15.459Z"
    }
   },
   "outputs": [
    {
     "name": "stderr",
     "output_type": "stream",
     "text": [
      "┌ Error: Problem fitting the machine Machine{PCA,…}. \n",
      "└ @ MLJBase D:\\TongYuan\\.julia\\packages\\MLJBase\\CMT6L\\src\\machines.jl:594\n",
      "┌ Info: Running type checks... \n",
      "└ @ MLJBase D:\\TongYuan\\.julia\\packages\\MLJBase\\CMT6L\\src\\machines.jl:600\n",
      "┌ Info: Type checks okay. \n",
      "└ @ MLJBase D:\\TongYuan\\.julia\\packages\\MLJBase\\CMT6L\\src\\machines.jl:603\n",
      "┌ Error: Problem fitting Machine{PCA,…}\n",
      "└ @ MLJBase D:\\TongYuan\\.julia\\packages\\MLJBase\\CMT6L\\src\\machines.jl:684\n",
      "┌ Error: Problem fitting the machine Machine{Pipeline336,…}. \n",
      "└ @ MLJBase D:\\TongYuan\\.julia\\packages\\MLJBase\\CMT6L\\src\\machines.jl:594\n",
      "┌ Info: Running type checks... \n",
      "└ @ MLJBase D:\\TongYuan\\.julia\\packages\\MLJBase\\CMT6L\\src\\machines.jl:600\n",
      "┌ Info: Type checks okay. \n",
      "└ @ MLJBase D:\\TongYuan\\.julia\\packages\\MLJBase\\CMT6L\\src\\machines.jl:603\n"
     ]
    },
    {
     "ename": "LoadError",
     "evalue": "TaskFailedException\n\n\u001b[91m    nested task error: \u001b[39mMethodError: no method matching size(::MultivariateStats.PCA{Float64}, ::Int64)\n    \u001b[0mClosest candidates are:\n    \u001b[0m  size(\u001b[91m::Union{LinearAlgebra.QR, LinearAlgebra.QRCompactWY, LinearAlgebra.QRPivoted}\u001b[39m, ::Integer) at C:\\Program Files\\MWorks.Syslab 2022\\Tools\\julia-1.7.1\\share\\julia\\stdlib\\v1.7\\LinearAlgebra\\src\\qr.jl:566\n    \u001b[0m  size(\u001b[91m::Union{LinearAlgebra.Cholesky, LinearAlgebra.CholeskyPivoted}\u001b[39m, ::Integer) at C:\\Program Files\\MWorks.Syslab 2022\\Tools\\julia-1.7.1\\share\\julia\\stdlib\\v1.7\\LinearAlgebra\\src\\cholesky.jl:495\n    \u001b[0m  size(\u001b[91m::Union{LinearAlgebra.Hermitian{T, S}, LinearAlgebra.Symmetric{T, S}} where {T, S}\u001b[39m, ::Any) at C:\\Program Files\\MWorks.Syslab 2022\\Tools\\julia-1.7.1\\share\\julia\\stdlib\\v1.7\\LinearAlgebra\\src\\symmetric.jl:201\n    \u001b[0m  ...\n    Stacktrace:\n     [1] \u001b[0m\u001b[1mfit_only!\u001b[22m\u001b[0m\u001b[1m(\u001b[22m\u001b[90mmach\u001b[39m::\u001b[0mMachine\u001b[90m{MLJMultivariateStatsInterface.PCA, true}\u001b[39m, \u001b[90mwait_on_downstream\u001b[39m::\u001b[0mBool; \u001b[90mkwargs\u001b[39m::\u001b[0mBase.Pairs\u001b[90m{Symbol, Int64, Tuple{Symbol}, NamedTuple{(:verbosity,), Tuple{Int64}}}\u001b[39m\u001b[0m\u001b[1m)\u001b[22m\n    \u001b[90m   @ \u001b[39m\u001b[35mMLJBase\u001b[39m \u001b[90mD:\\TongYuan\\.julia\\packages\\MLJBase\\CMT6L\\src\\\u001b[39m\u001b[90m\u001b[4mmachines.jl:685\u001b[24m\u001b[39m\n     [2] \u001b[0m\u001b[1m(::MLJBase.var\"#79#81\"{Base.Pairs{Symbol, Int64, Tuple{Symbol}, NamedTuple{(:verbosity,), Tuple{Int64}}}, Machine{MLJMultivariateStatsInterface.PCA, true}})\u001b[22m\u001b[0m\u001b[1m(\u001b[22m\u001b[0m\u001b[1m)\u001b[22m\n    \u001b[90m   @ \u001b[39m\u001b[35mMLJBase\u001b[39m \u001b[90m.\\\u001b[39m\u001b[90m\u001b[4mtask.jl:423\u001b[24m\u001b[39m\n    \n    \u001b[91mcaused by: \u001b[39mMethodError: no method matching size(::MultivariateStats.PCA{Float64}, ::Int64)\n    \u001b[0mClosest candidates are:\n    \u001b[0m  size(\u001b[91m::Union{LinearAlgebra.QR, LinearAlgebra.QRCompactWY, LinearAlgebra.QRPivoted}\u001b[39m, ::Integer) at C:\\Program Files\\MWorks.Syslab 2022\\Tools\\julia-1.7.1\\share\\julia\\stdlib\\v1.7\\LinearAlgebra\\src\\qr.jl:566\n    \u001b[0m  size(\u001b[91m::Union{LinearAlgebra.Cholesky, LinearAlgebra.CholeskyPivoted}\u001b[39m, ::Integer) at C:\\Program Files\\MWorks.Syslab 2022\\Tools\\julia-1.7.1\\share\\julia\\stdlib\\v1.7\\LinearAlgebra\\src\\cholesky.jl:495\n    \u001b[0m  size(\u001b[91m::Union{LinearAlgebra.Hermitian{T, S}, LinearAlgebra.Symmetric{T, S}} where {T, S}\u001b[39m, ::Any) at C:\\Program Files\\MWorks.Syslab 2022\\Tools\\julia-1.7.1\\share\\julia\\stdlib\\v1.7\\LinearAlgebra\\src\\symmetric.jl:201\n    \u001b[0m  ...\n    Stacktrace:\n     [1] \u001b[0m\u001b[1mfit\u001b[22m\u001b[0m\u001b[1m(\u001b[22m\u001b[90mmodel\u001b[39m::\u001b[0mMLJMultivariateStatsInterface.PCA, \u001b[90mverbosity\u001b[39m::\u001b[0mInt64, \u001b[90mX\u001b[39m::\u001b[0mDataFrames.DataFrame\u001b[0m\u001b[1m)\u001b[22m\n    \u001b[90m   @ \u001b[39m\u001b[35mMLJMultivariateStatsInterface\u001b[39m \u001b[90mD:\\TongYuan\\.julia\\packages\\MLJMultivariateStatsInterface\\NV7Uy\\src\\models\\\u001b[39m\u001b[90m\u001b[4mdecomposition_models.jl:45\u001b[24m\u001b[39m\n     [2] \u001b[0m\u001b[1mfit_only!\u001b[22m\u001b[0m\u001b[1m(\u001b[22m\u001b[90mmach\u001b[39m::\u001b[0mMachine\u001b[90m{MLJMultivariateStatsInterface.PCA, true}\u001b[39m; \u001b[90mrows\u001b[39m::\u001b[0mNothing, \u001b[90mverbosity\u001b[39m::\u001b[0mInt64, \u001b[90mforce\u001b[39m::\u001b[0mBool\u001b[0m\u001b[1m)\u001b[22m\n    \u001b[90m   @ \u001b[39m\u001b[36mMLJBase\u001b[39m \u001b[90mD:\\TongYuan\\.julia\\packages\\MLJBase\\CMT6L\\src\\\u001b[39m\u001b[90m\u001b[4mmachines.jl:592\u001b[24m\u001b[39m\n     [3] \u001b[0m\u001b[1mfit_only!\u001b[22m\u001b[0m\u001b[1m(\u001b[22m\u001b[90mmach\u001b[39m::\u001b[0mMachine\u001b[90m{MLJMultivariateStatsInterface.PCA, true}\u001b[39m, \u001b[90mwait_on_downstream\u001b[39m::\u001b[0mBool; \u001b[90mkwargs\u001b[39m::\u001b[0mBase.Pairs\u001b[90m{Symbol, Int64, Tuple{Symbol}, NamedTuple{(:verbosity,), Tuple{Int64}}}\u001b[39m\u001b[0m\u001b[1m)\u001b[22m\n    \u001b[90m   @ \u001b[39m\u001b[36mMLJBase\u001b[39m \u001b[90mD:\\TongYuan\\.julia\\packages\\MLJBase\\CMT6L\\src\\\u001b[39m\u001b[90m\u001b[4mmachines.jl:681\u001b[24m\u001b[39m\n     [4] \u001b[0m\u001b[1m(::MLJBase.var\"#79#81\"{Base.Pairs{Symbol, Int64, Tuple{Symbol}, NamedTuple{(:verbosity,), Tuple{Int64}}}, Machine{MLJMultivariateStatsInterface.PCA, true}})\u001b[22m\u001b[0m\u001b[1m(\u001b[22m\u001b[0m\u001b[1m)\u001b[22m\n    \u001b[90m   @ \u001b[39m\u001b[36mMLJBase\u001b[39m \u001b[90m.\\\u001b[39m\u001b[90m\u001b[4mtask.jl:423\u001b[24m\u001b[39m",
     "output_type": "error",
     "traceback": [
      "TaskFailedException\n\n\u001b[91m    nested task error: \u001b[39mMethodError: no method matching size(::MultivariateStats.PCA{Float64}, ::Int64)\n    \u001b[0mClosest candidates are:\n    \u001b[0m  size(\u001b[91m::Union{LinearAlgebra.QR, LinearAlgebra.QRCompactWY, LinearAlgebra.QRPivoted}\u001b[39m, ::Integer) at C:\\Program Files\\MWorks.Syslab 2022\\Tools\\julia-1.7.1\\share\\julia\\stdlib\\v1.7\\LinearAlgebra\\src\\qr.jl:566\n    \u001b[0m  size(\u001b[91m::Union{LinearAlgebra.Cholesky, LinearAlgebra.CholeskyPivoted}\u001b[39m, ::Integer) at C:\\Program Files\\MWorks.Syslab 2022\\Tools\\julia-1.7.1\\share\\julia\\stdlib\\v1.7\\LinearAlgebra\\src\\cholesky.jl:495\n    \u001b[0m  size(\u001b[91m::Union{LinearAlgebra.Hermitian{T, S}, LinearAlgebra.Symmetric{T, S}} where {T, S}\u001b[39m, ::Any) at C:\\Program Files\\MWorks.Syslab 2022\\Tools\\julia-1.7.1\\share\\julia\\stdlib\\v1.7\\LinearAlgebra\\src\\symmetric.jl:201\n    \u001b[0m  ...\n    Stacktrace:\n     [1] \u001b[0m\u001b[1mfit_only!\u001b[22m\u001b[0m\u001b[1m(\u001b[22m\u001b[90mmach\u001b[39m::\u001b[0mMachine\u001b[90m{MLJMultivariateStatsInterface.PCA, true}\u001b[39m, \u001b[90mwait_on_downstream\u001b[39m::\u001b[0mBool; \u001b[90mkwargs\u001b[39m::\u001b[0mBase.Pairs\u001b[90m{Symbol, Int64, Tuple{Symbol}, NamedTuple{(:verbosity,), Tuple{Int64}}}\u001b[39m\u001b[0m\u001b[1m)\u001b[22m\n    \u001b[90m   @ \u001b[39m\u001b[35mMLJBase\u001b[39m \u001b[90mD:\\TongYuan\\.julia\\packages\\MLJBase\\CMT6L\\src\\\u001b[39m\u001b[90m\u001b[4mmachines.jl:685\u001b[24m\u001b[39m\n     [2] \u001b[0m\u001b[1m(::MLJBase.var\"#79#81\"{Base.Pairs{Symbol, Int64, Tuple{Symbol}, NamedTuple{(:verbosity,), Tuple{Int64}}}, Machine{MLJMultivariateStatsInterface.PCA, true}})\u001b[22m\u001b[0m\u001b[1m(\u001b[22m\u001b[0m\u001b[1m)\u001b[22m\n    \u001b[90m   @ \u001b[39m\u001b[35mMLJBase\u001b[39m \u001b[90m.\\\u001b[39m\u001b[90m\u001b[4mtask.jl:423\u001b[24m\u001b[39m\n    \n    \u001b[91mcaused by: \u001b[39mMethodError: no method matching size(::MultivariateStats.PCA{Float64}, ::Int64)\n    \u001b[0mClosest candidates are:\n    \u001b[0m  size(\u001b[91m::Union{LinearAlgebra.QR, LinearAlgebra.QRCompactWY, LinearAlgebra.QRPivoted}\u001b[39m, ::Integer) at C:\\Program Files\\MWorks.Syslab 2022\\Tools\\julia-1.7.1\\share\\julia\\stdlib\\v1.7\\LinearAlgebra\\src\\qr.jl:566\n    \u001b[0m  size(\u001b[91m::Union{LinearAlgebra.Cholesky, LinearAlgebra.CholeskyPivoted}\u001b[39m, ::Integer) at C:\\Program Files\\MWorks.Syslab 2022\\Tools\\julia-1.7.1\\share\\julia\\stdlib\\v1.7\\LinearAlgebra\\src\\cholesky.jl:495\n    \u001b[0m  size(\u001b[91m::Union{LinearAlgebra.Hermitian{T, S}, LinearAlgebra.Symmetric{T, S}} where {T, S}\u001b[39m, ::Any) at C:\\Program Files\\MWorks.Syslab 2022\\Tools\\julia-1.7.1\\share\\julia\\stdlib\\v1.7\\LinearAlgebra\\src\\symmetric.jl:201\n    \u001b[0m  ...\n    Stacktrace:\n     [1] \u001b[0m\u001b[1mfit\u001b[22m\u001b[0m\u001b[1m(\u001b[22m\u001b[90mmodel\u001b[39m::\u001b[0mMLJMultivariateStatsInterface.PCA, \u001b[90mverbosity\u001b[39m::\u001b[0mInt64, \u001b[90mX\u001b[39m::\u001b[0mDataFrames.DataFrame\u001b[0m\u001b[1m)\u001b[22m\n    \u001b[90m   @ \u001b[39m\u001b[35mMLJMultivariateStatsInterface\u001b[39m \u001b[90mD:\\TongYuan\\.julia\\packages\\MLJMultivariateStatsInterface\\NV7Uy\\src\\models\\\u001b[39m\u001b[90m\u001b[4mdecomposition_models.jl:45\u001b[24m\u001b[39m\n     [2] \u001b[0m\u001b[1mfit_only!\u001b[22m\u001b[0m\u001b[1m(\u001b[22m\u001b[90mmach\u001b[39m::\u001b[0mMachine\u001b[90m{MLJMultivariateStatsInterface.PCA, true}\u001b[39m; \u001b[90mrows\u001b[39m::\u001b[0mNothing, \u001b[90mverbosity\u001b[39m::\u001b[0mInt64, \u001b[90mforce\u001b[39m::\u001b[0mBool\u001b[0m\u001b[1m)\u001b[22m\n    \u001b[90m   @ \u001b[39m\u001b[36mMLJBase\u001b[39m \u001b[90mD:\\TongYuan\\.julia\\packages\\MLJBase\\CMT6L\\src\\\u001b[39m\u001b[90m\u001b[4mmachines.jl:592\u001b[24m\u001b[39m\n     [3] \u001b[0m\u001b[1mfit_only!\u001b[22m\u001b[0m\u001b[1m(\u001b[22m\u001b[90mmach\u001b[39m::\u001b[0mMachine\u001b[90m{MLJMultivariateStatsInterface.PCA, true}\u001b[39m, \u001b[90mwait_on_downstream\u001b[39m::\u001b[0mBool; \u001b[90mkwargs\u001b[39m::\u001b[0mBase.Pairs\u001b[90m{Symbol, Int64, Tuple{Symbol}, NamedTuple{(:verbosity,), Tuple{Int64}}}\u001b[39m\u001b[0m\u001b[1m)\u001b[22m\n    \u001b[90m   @ \u001b[39m\u001b[36mMLJBase\u001b[39m \u001b[90mD:\\TongYuan\\.julia\\packages\\MLJBase\\CMT6L\\src\\\u001b[39m\u001b[90m\u001b[4mmachines.jl:681\u001b[24m\u001b[39m\n     [4] \u001b[0m\u001b[1m(::MLJBase.var\"#79#81\"{Base.Pairs{Symbol, Int64, Tuple{Symbol}, NamedTuple{(:verbosity,), Tuple{Int64}}}, Machine{MLJMultivariateStatsInterface.PCA, true}})\u001b[22m\u001b[0m\u001b[1m(\u001b[22m\u001b[0m\u001b[1m)\u001b[22m\n    \u001b[90m   @ \u001b[39m\u001b[36mMLJBase\u001b[39m \u001b[90m.\\\u001b[39m\u001b[90m\u001b[4mtask.jl:423\u001b[24m\u001b[39m",
      "",
      "Stacktrace:",
      "  [1] sync_end(c::Channel{Any})",
      "    @ Base .\\task.jl:381",
      "  [2] macro expansion",
      "    @ .\\task.jl:400 [inlined]",
      "  [3] fit!(y::Node{Nothing}, ::CPU1{Nothing}; kwargs::Base.Pairs{Symbol, Int64, Tuple{Symbol}, NamedTuple{(:verbosity,), Tuple{Int64}}})",
      "    @ MLJBase D:\\TongYuan\\.julia\\packages\\MLJBase\\CMT6L\\src\\composition\\learning_networks\\nodes.jl:225",
      "  [4] #fit!#75",
      "    @ D:\\TongYuan\\.julia\\packages\\MLJBase\\CMT6L\\src\\composition\\learning_networks\\nodes.jl:207 [inlined]",
      "  [5] fit!(mach::Machine{DeterministicSurrogate, false}; kwargs::Base.Pairs{Symbol, Int64, Tuple{Symbol}, NamedTuple{(:verbosity,), Tuple{Int64}}})",
      "    @ MLJBase D:\\TongYuan\\.julia\\packages\\MLJBase\\CMT6L\\src\\composition\\learning_networks\\machines.jl:253",
      "  [6] return!(mach::Machine{DeterministicSurrogate, false}, model::Pipeline336, verbosity::Int64)",
      "    @ MLJBase D:\\TongYuan\\.julia\\packages\\MLJBase\\CMT6L\\src\\composition\\learning_networks\\machines.jl:399",
      "  [7] (::MLJBase.var\"#_fit#174\"{Machine{DeterministicSurrogate, false}, Tuple{ContinuousEncoder, MLJMultivariateStatsInterface.PCA, MLJLinearModels.RidgeRegressor, UnivariateBoxCoxTransformer}, Tuple{Source, Source}})(::Pipeline336, ::Int64, ::DataFrames.DataFrame, ::Vararg{Any})",
      "    @ MLJBase D:\\TongYuan\\.julia\\packages\\MLJBase\\CMT6L\\src\\composition\\models\\from_network.jl:25",
      "  [8] fit(::Pipeline336, ::Int64, ::DataFrames.DataFrame, ::Vector{Float64})",
      "    @ Main D:\\TongYuan\\.julia\\packages\\MLJBase\\CMT6L\\src\\composition\\models\\from_network.jl:165",
      "  [9] fit_only!(mach::Machine{Pipeline336, true}; rows::Vector{Int64}, verbosity::Int64, force::Bool)",
      "    @ MLJBase D:\\TongYuan\\.julia\\packages\\MLJBase\\CMT6L\\src\\machines.jl:592",
      " [10] #fit!#62",
      "    @ D:\\TongYuan\\.julia\\packages\\MLJBase\\CMT6L\\src\\machines.jl:659 [inlined]",
      " [11] fit_and_extract_on_fold",
      "    @ D:\\TongYuan\\.julia\\packages\\MLJBase\\CMT6L\\src\\resampling.jl:1141 [inlined]",
      " [12] (::MLJBase.var\"#275#276\"{MLJBase.var\"#fit_and_extract_on_fold#298\"{Vector{Tuple{Vector{Int64}, UnitRange{Int64}}}, Nothing, Nothing, Int64, Vector{MeanAbsoluteError}, Vector{typeof(MLJModelInterface.predict)}, Bool, Bool, Vector{Float64}, DataFrames.DataFrame}, Machine{Pipeline336, true}, Int64})(k::Int64)",
      "    @ MLJBase D:\\TongYuan\\.julia\\packages\\MLJBase\\CMT6L\\src\\resampling.jl:980",
      " [13] _mapreduce(f::MLJBase.var\"#275#276\"{MLJBase.var\"#fit_and_extract_on_fold#298\"{Vector{Tuple{Vector{Int64}, UnitRange{Int64}}}, Nothing, Nothing, Int64, Vector{MeanAbsoluteError}, Vector{typeof(MLJModelInterface.predict)}, Bool, Bool, Vector{Float64}, DataFrames.DataFrame}, Machine{Pipeline336, true}, Int64}, op::typeof(vcat), #unused#::IndexLinear, A::UnitRange{Int64})",
      "    @ Base .\\reduce.jl:410",
      " [14] _mapreduce_dim",
      "    @ .\\reducedim.jl:330 [inlined]",
      " [15] #mapreduce#725",
      "    @ .\\reducedim.jl:322 [inlined]",
      " [16] mapreduce",
      "    @ .\\reducedim.jl:322 [inlined]",
      " [17] _evaluate!(func::MLJBase.var\"#fit_and_extract_on_fold#298\"{Vector{Tuple{Vector{Int64}, UnitRange{Int64}}}, Nothing, Nothing, Int64, Vector{MeanAbsoluteError}, Vector{typeof(MLJModelInterface.predict)}, Bool, Bool, Vector{Float64}, DataFrames.DataFrame}, mach::Machine{Pipeline336, true}, #unused#::CPU1{Nothing}, nfolds::Int64, verbosity::Int64)",
      "    @ MLJBase D:\\TongYuan\\.julia\\packages\\MLJBase\\CMT6L\\src\\resampling.jl:979",
      " [18] evaluate!(mach::Machine{Pipeline336, true}, resampling::Vector{Tuple{Vector{Int64}, UnitRange{Int64}}}, weights::Nothing, class_weights::Nothing, rows::Nothing, verbosity::Int64, repeats::Int64, measures::Vector{MeanAbsoluteError}, operations::Vector{typeof(MLJModelInterface.predict)}, acceleration::CPU1{Nothing}, force::Bool)",
      "    @ MLJBase D:\\TongYuan\\.julia\\packages\\MLJBase\\CMT6L\\src\\resampling.jl:1182",
      " [19] evaluate!(::Machine{Pipeline336, true}, ::CV, ::Nothing, ::Nothing, ::Nothing, ::Int64, ::Int64, ::Vector{MeanAbsoluteError}, ::Vector{typeof(MLJModelInterface.predict)}, ::CPU1{Nothing}, ::Bool)",
      "    @ MLJBase D:\\TongYuan\\.julia\\packages\\MLJBase\\CMT6L\\src\\resampling.jl:1253",
      " [20] evaluate!(mach::Machine{Pipeline336, true}; resampling::CV, measures::Nothing, measure::MeanAbsoluteError, weights::Nothing, class_weights::Nothing, operations::Nothing, operation::Nothing, acceleration::CPU1{Nothing}, rows::Nothing, repeats::Int64, force::Bool, check_measure::Bool, verbosity::Int64)",
      "    @ MLJBase D:\\TongYuan\\.julia\\packages\\MLJBase\\CMT6L\\src\\resampling.jl:940",
      " [21] top-level scope",
      "    @ In[94]:2",
      " [22] eval",
      "    @ .\\boot.jl:373 [inlined]",
      " [23] include_string(mapexpr::typeof(REPL.softscope), mod::Module, code::String, filename::String)",
      "    @ Base .\\loading.jl:1196"
     ]
    }
   ],
   "source": [
    "pipe4.target = stand\n",
    "evaluate!(mach, measure=mae)"
   ]
  },
  {
   "cell_type": "code",
   "execution_count": null,
   "id": "37f62554",
   "metadata": {},
   "outputs": [],
   "source": []
  },
  {
   "cell_type": "markdown",
   "id": "aca39874",
   "metadata": {},
   "source": [
    "## 第3部分资源"
   ]
  },
  {
   "cell_type": "markdown",
   "id": "2732839a",
   "metadata": {},
   "source": [
    "- From the MLJ manual:\n",
    "    - [Transformers and other unsupervised models](https://alan-turing-institute.github.io/MLJ.jl/dev/transformers/)\n",
    "    - [Linear pipelines](https://alan-turing-institute.github.io/MLJ.jl/dev/linear_pipelines/#Linear-Pipelines)\n",
    "- From Data Science Tutorials:\n",
    "    - [Composing models](https://juliaai.github.io/DataScienceTutorials.jl/getting-started/composing-models/)"
   ]
  },
  {
   "cell_type": "markdown",
   "id": "7723ab04",
   "metadata": {},
   "source": [
    "# 调参"
   ]
  },
  {
   "cell_type": "markdown",
   "id": "e23592ef",
   "metadata": {},
   "source": [
    "## 单一参数调整"
   ]
  },
  {
   "cell_type": "markdown",
   "id": "7278d152",
   "metadata": {},
   "source": [
    "调整单个超参数最简单的方法是使用 learning_curve，我们已经在第 2 部分中看到过。让我们在 Horse Colic 分类问题中看到这一点，在要调整的参数是嵌套的情况下（因为模型是管道）："
   ]
  },
  {
   "cell_type": "code",
   "execution_count": 95,
   "id": "18a94d97",
   "metadata": {
    "ExecuteTime": {
     "end_time": "2022-06-08T15:18:45.076000+08:00",
     "start_time": "2022-06-08T07:15:15.467Z"
    }
   },
   "outputs": [
    {
     "name": "stdout",
     "output_type": "stream",
     "text": [
      "import MLJLinearModels ✔\n"
     ]
    },
    {
     "name": "stderr",
     "output_type": "stream",
     "text": [
      "┌ Info: For silent loading, specify `verbosity=0`. \n",
      "└ @ Main D:\\TongYuan\\.julia\\packages\\MLJModels\\lDzCR\\src\\loading.jl:168\n"
     ]
    },
    {
     "data": {
      "text/plain": [
       "Machine{Pipeline344,…} trained 0 times; caches data\n",
       "  model: Pipeline344\n",
       "  args: \n",
       "    1:\tSource @126 ⏎ `Table{Union{AbstractVector{Continuous}, AbstractVector{Multiclass{3}}, AbstractVector{Multiclass{2}}, AbstractVector{Multiclass{6}}, AbstractVector{OrderedFactor{4}}, AbstractVector{OrderedFactor{5}}, AbstractVector{OrderedFactor{2}}}}`\n",
       "    2:\tSource @351 ⏎ `AbstractVector{Multiclass{3}}`\n"
      ]
     },
     "execution_count": 95,
     "metadata": {},
     "output_type": "execute_result"
    }
   ],
   "source": [
    "y, X = unpack(horse, ==(:outcome), name -> true);\n",
    "\n",
    "LogisticClassifier = @load LogisticClassifier pkg=MLJLinearModels\n",
    "model = @pipeline Standardizer ContinuousEncoder LogisticClassifier\n",
    "mach = machine(model, X, y)"
   ]
  },
  {
   "cell_type": "code",
   "execution_count": 96,
   "id": "ff26c786",
   "metadata": {
    "ExecuteTime": {
     "end_time": "2022-06-08T15:18:45.925000+08:00",
     "start_time": "2022-06-08T07:15:15.474Z"
    }
   },
   "outputs": [
    {
     "data": {
      "text/plain": [
       "NumericRange(0.01 ≤ logistic_classifier.lambda ≤ 100; origin=50.005, unit=49.995) on log10 scale"
      ]
     },
     "execution_count": 96,
     "metadata": {},
     "output_type": "execute_result"
    }
   ],
   "source": [
    "r = range(model, :(logistic_classifier.lambda), lower = 1e-2, upper=100, scale=:log10)"
   ]
  },
  {
   "cell_type": "markdown",
   "id": "c8bc285f",
   "metadata": {},
   "source": [
    "如果你很好奇，你可以看到这个范围对于给定的分辨率会生成什么 lambda 值："
   ]
  },
  {
   "cell_type": "code",
   "execution_count": 97,
   "id": "e6464665",
   "metadata": {
    "ExecuteTime": {
     "end_time": "2022-06-08T15:18:46.187000+08:00",
     "start_time": "2022-06-08T07:15:15.477Z"
    }
   },
   "outputs": [
    {
     "data": {
      "text/plain": [
       "5-element Vector{Float64}:\n",
       "   0.01\n",
       "   0.1\n",
       "   1.0\n",
       "  10.0\n",
       " 100.0"
      ]
     },
     "execution_count": 97,
     "metadata": {},
     "output_type": "execute_result"
    }
   ],
   "source": [
    "iterator(r, 5)"
   ]
  },
  {
   "cell_type": "code",
   "execution_count": 98,
   "id": "dfd85282",
   "metadata": {
    "ExecuteTime": {
     "end_time": "2022-06-08T15:22:22.768000+08:00",
     "start_time": "2022-06-08T07:15:15.480Z"
    }
   },
   "outputs": [
    {
     "name": "stderr",
     "output_type": "stream",
     "text": [
      "┌ Info: Training Machine{ProbabilisticTunedModel{Grid,…},…}.\n",
      "└ @ MLJBase D:\\TongYuan\\.julia\\packages\\MLJBase\\CMT6L\\src\\machines.jl:464\n",
      "┌ Info: Attempting to evaluate 30 models.\n",
      "└ @ MLJTuning D:\\TongYuan\\.julia\\packages\\MLJTuning\\Al9yX\\src\\tuned_models.jl:680\n",
      "\u001b[33mEvaluating over 30 metamodels: 100%[=========================] Time: 0:03:32\u001b[39m\n"
     ]
    },
    {
     "ename": "LoadError",
     "evalue": "UndefVarError: plot not defined",
     "output_type": "error",
     "traceback": [
      "UndefVarError: plot not defined",
      "",
      "Stacktrace:",
      " [1] top-level scope",
      "   @ In[98]:6",
      " [2] eval",
      "   @ .\\boot.jl:373 [inlined]",
      " [3] include_string(mapexpr::typeof(REPL.softscope), mod::Module, code::String, filename::String)",
      "   @ Base .\\loading.jl:1196"
     ]
    }
   ],
   "source": [
    "_, _, lambdas, losses = learning_curve(mach,\n",
    "                                       range=r,\n",
    "                                       resampling=CV(nfolds=6),\n",
    "                                       resolution=30, # default\n",
    "                                       measure=cross_entropy)\n",
    "plt=plot(lambdas, losses, xscale=:log10)\n",
    "xlabel!(plt, \"lambda\")\n",
    "ylabel!(plt, \"cross entropy using 6-fold CV\")\n",
    "savefig(\"learning_curve2.png\")\n",
    "plt\n",
    "\n",
    "\n",
    "best_lambda = lambdas[argmin(losses)]"
   ]
  },
  {
   "cell_type": "markdown",
   "id": "5cceb3b4",
   "metadata": {},
   "source": [
    "## 自调整模型"
   ]
  },
  {
   "cell_type": "markdown",
   "id": "bfb1c657",
   "metadata": {},
   "source": [
    "查看超参数调整（受 MLR 启发）的一种更复杂的方法是作为模型包装器。包装模型本身就是一个新模型，当您适合它时，它会在对所有提供的数据进行训练之前调整被包装模型的指定超参数。在包装模型上调用 predict 就像在原始模型上调用 predict 一样，但超参数已经优化。\n",
    "\n",
    "换句话说，我们可以将包装模型视为原始模型的“自我调整”版本。\n",
    "\n",
    "我们现在创建上面管道的自调整版本，将来自 ContinuousEncoder 的参数添加到我们想要优化的参数中。\n",
    "\n",
    "首先，让我们选择一个调优策略（从这些选项中）。 MLJ 支持普通的 Grid 搜索（详情查询 ?Grid）。但是，由于网格搜索的实用性仅限于少量参数，并且网格搜索在其他地方进行了演示（请参阅下面的资源），我们将在此处演示 RandomSearch："
   ]
  },
  {
   "cell_type": "code",
   "execution_count": 99,
   "id": "5f601090",
   "metadata": {
    "ExecuteTime": {
     "end_time": "2022-06-08T15:22:23.158000+08:00",
     "start_time": "2022-06-08T07:15:15.484Z"
    }
   },
   "outputs": [
    {
     "data": {
      "text/plain": [
       "RandomSearch(\n",
       "    bounded = Distributions.Uniform,\n",
       "    positive_unbounded = Distributions.Gamma,\n",
       "    other = Distributions.Normal,\n",
       "    rng = Random.MersenneTwister(123))"
      ]
     },
     "execution_count": 99,
     "metadata": {},
     "output_type": "execute_result"
    }
   ],
   "source": [
    "tuning = RandomSearch(rng=123)"
   ]
  },
  {
   "cell_type": "markdown",
   "id": "0c3ee1f2",
   "metadata": {},
   "source": [
    "在此策略中，每个参数都根据预先指定的先验分布进行采样，该先验分布适合使用之前使用范围构造的一维范围对象。虽然人们对先验的规范有很多控制（运行 ?RandomSearch 了解详细信息），但我们会让算法自动生成这些先验。"
   ]
  },
  {
   "cell_type": "markdown",
   "id": "92b610bd",
   "metadata": {},
   "source": [
    "### 无界范围和采样"
   ]
  },
  {
   "cell_type": "markdown",
   "id": "c1b8cb27",
   "metadata": {},
   "source": [
    "在 MLJ 中，范围不必有界。在 RandomSearch 中，默认情况下，使用 Gamma 分布对正的无界范围进行采样："
   ]
  },
  {
   "cell_type": "code",
   "execution_count": 100,
   "id": "a74d11b3",
   "metadata": {
    "ExecuteTime": {
     "end_time": "2022-06-08T15:22:23.453000+08:00",
     "start_time": "2022-06-08T07:15:15.492Z"
    }
   },
   "outputs": [
    {
     "data": {
      "text/plain": [
       "NumericRange(0 ≤ logistic_classifier.lambda ≤ Inf; origin=6.0, unit=5.0) on log10 scale"
      ]
     },
     "execution_count": 100,
     "metadata": {},
     "output_type": "execute_result"
    }
   ],
   "source": [
    "r = range(model,\n",
    "          :(logistic_classifier.lambda),\n",
    "          lower=0,\n",
    "          origin=6,\n",
    "          unit=5,\n",
    "          scale=:log10)"
   ]
  },
  {
   "cell_type": "markdown",
   "id": "bcfdb588",
   "metadata": {},
   "source": [
    "范围内的比例在 RandomSearch 中无效（除非它是一个函数），但这会影响后面的图，但它确实会影响后面的图。\n",
    "\n",
    "让我们看看使用 Gamma 分布的采样对于这个范围意味着什么："
   ]
  },
  {
   "cell_type": "code",
   "execution_count": 101,
   "id": "49263a44",
   "metadata": {
    "ExecuteTime": {
     "end_time": "2022-06-08T15:22:23.805000+08:00",
     "start_time": "2022-06-08T07:15:15.495Z"
    }
   },
   "outputs": [
    {
     "ename": "LoadError",
     "evalue": "UndefVarError: histogram not defined",
     "output_type": "error",
     "traceback": [
      "UndefVarError: histogram not defined",
      "",
      "Stacktrace:",
      " [1] top-level scope",
      "   @ In[101]:3",
      " [2] eval",
      "   @ .\\boot.jl:373 [inlined]",
      " [3] include_string(mapexpr::typeof(REPL.softscope), mod::Module, code::String, filename::String)",
      "   @ Base .\\loading.jl:1196"
     ]
    }
   ],
   "source": [
    "import Distributions\n",
    "sampler_r = sampler(r, Distributions.Gamma)\n",
    "plt = histogram(rand(sampler_r, 10000), nbins=50)\n",
    "savefig(\"gamma_sampler.png\")\n",
    "plt"
   ]
  },
  {
   "cell_type": "markdown",
   "id": "dc7ca20c",
   "metadata": {},
   "source": [
    "我们将添加到其中的第二个参数是名义（有限），默认情况下，将统一采样。由于它是标称的，我们指定值而不是上限和下限："
   ]
  },
  {
   "cell_type": "code",
   "execution_count": 102,
   "id": "872004ff",
   "metadata": {
    "ExecuteTime": {
     "end_time": "2022-06-08T15:22:24.120000+08:00",
     "start_time": "2022-06-08T07:15:15.498Z"
    }
   },
   "outputs": [
    {
     "data": {
      "text/plain": [
       "NominalRange(continuous_encoder.one_hot_ordered_factors = true, false)"
      ]
     },
     "execution_count": 102,
     "metadata": {},
     "output_type": "execute_result"
    }
   ],
   "source": [
    "s  = range(model, :(continuous_encoder.one_hot_ordered_factors),\n",
    "           values = [true, false])"
   ]
  },
  {
   "cell_type": "markdown",
   "id": "1929e517",
   "metadata": {},
   "source": [
    "### 调优器"
   ]
  },
  {
   "cell_type": "code",
   "execution_count": 103,
   "id": "d87a76ba",
   "metadata": {
    "ExecuteTime": {
     "end_time": "2022-06-08T15:22:24.168000+08:00",
     "start_time": "2022-06-08T07:15:15.504Z"
    }
   },
   "outputs": [
    {
     "ename": "LoadError",
     "evalue": "syntax: invalid character \"，\" near column 15",
     "output_type": "error",
     "traceback": [
      "syntax: invalid character \"，\" near column 15",
      "",
      "Stacktrace:",
      " [1] top-level scope",
      "   @ In[103]:1",
      " [2] eval",
      "   @ .\\boot.jl:373 [inlined]",
      " [3] include_string(mapexpr::typeof(REPL.softscope), mod::Module, code::String, filename::String)",
      "   @ Base .\\loading.jl:1196"
     ]
    }
   ],
   "source": [
    "现在对于优化器，它是 TunedModel 的一个实例："
   ]
  },
  {
   "cell_type": "code",
   "execution_count": 104,
   "id": "619139d5",
   "metadata": {
    "ExecuteTime": {
     "end_time": "2022-06-08T15:22:24.794000+08:00",
     "start_time": "2022-06-08T07:15:15.510Z"
    }
   },
   "outputs": [
    {
     "data": {
      "text/plain": [
       "ProbabilisticTunedModel(\n",
       "    model = Pipeline344(\n",
       "            standardizer = Standardizer,\n",
       "            continuous_encoder = ContinuousEncoder,\n",
       "            logistic_classifier = LogisticClassifier),\n",
       "    tuning = RandomSearch(\n",
       "            bounded = Distributions.Uniform,\n",
       "            positive_unbounded = Distributions.Gamma,\n",
       "            other = Distributions.Normal,\n",
       "            rng = Random.MersenneTwister(123)),\n",
       "    resampling = CV(\n",
       "            nfolds = 6,\n",
       "            shuffle = false,\n",
       "            rng = Random._GLOBAL_RNG()),\n",
       "    measure = LogLoss(tol = 2.220446049250313e-16),\n",
       "    weights = nothing,\n",
       "    operation = nothing,\n",
       "    range = ParamRange[NumericRange(0 ≤ logistic_classifier.lambda ≤ Inf; origin=6.0, unit=5.0) on log10 scale, NominalRange(continuous_encoder.one_hot_ordered_factors = true, false)],\n",
       "    selection_heuristic = NaiveSelection(nothing),\n",
       "    train_best = true,\n",
       "    repeats = 1,\n",
       "    n = 15,\n",
       "    acceleration = CPU1{Nothing}(nothing),\n",
       "    acceleration_resampling = CPU1{Nothing}(nothing),\n",
       "    check_measure = true,\n",
       "    cache = true)"
      ]
     },
     "execution_count": 104,
     "metadata": {},
     "output_type": "execute_result"
    }
   ],
   "source": [
    "tuned_model = TunedModel(model=model,\n",
    "                         ranges=[r, s],\n",
    "                         resampling=CV(nfolds=6),\n",
    "                         measures=cross_entropy,\n",
    "                         tuning=tuning,\n",
    "                         n=15)"
   ]
  },
  {
   "cell_type": "markdown",
   "id": "485c8707",
   "metadata": {},
   "source": [
    "我们可以将 fit!/predict 工作流程应用于 tune_model ，就像对任何其他模型一样："
   ]
  },
  {
   "cell_type": "code",
   "execution_count": 105,
   "id": "2069b107",
   "metadata": {
    "ExecuteTime": {
     "end_time": "2022-06-08T15:23:53.046000+08:00",
     "start_time": "2022-06-08T07:15:15.514Z"
    }
   },
   "outputs": [
    {
     "name": "stderr",
     "output_type": "stream",
     "text": [
      "┌ Info: Training Machine{ProbabilisticTunedModel{RandomSearch,…},…}.\n",
      "└ @ MLJBase D:\\TongYuan\\.julia\\packages\\MLJBase\\CMT6L\\src\\machines.jl:464\n",
      "┌ Info: Attempting to evaluate 15 models.\n",
      "└ @ MLJTuning D:\\TongYuan\\.julia\\packages\\MLJTuning\\Al9yX\\src\\tuned_models.jl:680\n",
      "\u001b[33mEvaluating over 15 metamodels: 100%[=========================] Time: 0:01:22\u001b[39m\n"
     ]
    },
    {
     "data": {
      "text/plain": [
       "3-element UnivariateFiniteVector{Multiclass{3}, Int64, UInt32, Float64}:\n",
       " UnivariateFinite{Multiclass{3}}(1=>0.519, 2=>0.319, 3=>0.161)\n",
       " UnivariateFinite{Multiclass{3}}(1=>0.555, 2=>0.241, 3=>0.203)\n",
       " UnivariateFinite{Multiclass{3}}(1=>0.737, 2=>0.169, 3=>0.0946)"
      ]
     },
     "execution_count": 105,
     "metadata": {},
     "output_type": "execute_result"
    }
   ],
   "source": [
    "tuned_mach = machine(tuned_model, X, y);\n",
    "MLJBase.fit!(tuned_mach);\n",
    "MLJBase.predict(tuned_mach, rows=1:3)"
   ]
  },
  {
   "cell_type": "markdown",
   "id": "71a02518",
   "metadata": {},
   "source": [
    "可以从详细报告中检查调整的结果。例如，我们有："
   ]
  },
  {
   "cell_type": "code",
   "execution_count": 106,
   "id": "69877368",
   "metadata": {
    "ExecuteTime": {
     "end_time": "2022-06-08T15:23:53.280000+08:00",
     "start_time": "2022-06-08T07:15:15.518Z"
    }
   },
   "outputs": [
    {
     "data": {
      "text/plain": [
       "Pipeline344(\n",
       "    standardizer = Standardizer(\n",
       "            features = Symbol[],\n",
       "            ignore = false,\n",
       "            ordered_factor = false,\n",
       "            count = false),\n",
       "    continuous_encoder = ContinuousEncoder(\n",
       "            drop_last = false,\n",
       "            one_hot_ordered_factors = true),\n",
       "    logistic_classifier = LogisticClassifier(\n",
       "            lambda = 0.9590656995775001,\n",
       "            gamma = 0.0,\n",
       "            penalty = :l2,\n",
       "            fit_intercept = true,\n",
       "            penalize_intercept = false,\n",
       "            scale_penalty_with_samples = true,\n",
       "            solver = nothing))"
      ]
     },
     "execution_count": 106,
     "metadata": {},
     "output_type": "execute_result"
    }
   ],
   "source": [
    "rep = report(tuned_mach);\n",
    "rep.best_model"
   ]
  },
  {
   "cell_type": "markdown",
   "id": "59e552e0",
   "metadata": {},
   "source": [
    "默认情况下，有界范围的采样是统一的。\n",
    "\n",
    "在双参数的特殊情况下，您还可以绘制结果："
   ]
  },
  {
   "cell_type": "code",
   "execution_count": 107,
   "id": "a23a0ac4",
   "metadata": {
    "ExecuteTime": {
     "end_time": "2022-06-08T15:23:53.280000+08:00",
     "start_time": "2022-06-08T07:15:15.525Z"
    }
   },
   "outputs": [
    {
     "ename": "LoadError",
     "evalue": "UndefVarError: plot not defined",
     "output_type": "error",
     "traceback": [
      "UndefVarError: plot not defined",
      "",
      "Stacktrace:",
      " [1] top-level scope",
      "   @ In[107]:1",
      " [2] eval",
      "   @ .\\boot.jl:373 [inlined]",
      " [3] include_string(mapexpr::typeof(REPL.softscope), mod::Module, code::String, filename::String)",
      "   @ Base .\\loading.jl:1196"
     ]
    }
   ],
   "source": [
    "plt = plot(tuned_mach)\n",
    "savefig(\"tuning.png\")\n",
    "plt"
   ]
  },
  {
   "cell_type": "markdown",
   "id": "bce50f67",
   "metadata": {},
   "source": [
    "最后，让我们比较一下自调整模型与原始模型的性能的交叉验证估计（这里是嵌套重采样的示例）："
   ]
  },
  {
   "cell_type": "code",
   "execution_count": 108,
   "id": "1acad292",
   "metadata": {
    "ExecuteTime": {
     "end_time": "2022-06-08T15:23:56.770000+08:00",
     "start_time": "2022-06-08T07:15:15.530Z"
    }
   },
   "outputs": [
    {
     "name": "stderr",
     "output_type": "stream",
     "text": [
      "\u001b[33mEvaluating over 3 folds: 100%[=========================] Time: 0:00:02\u001b[39m\n"
     ]
    },
    {
     "data": {
      "text/plain": [
       "PerformanceEvaluation object with these fields:\n",
       "  measure, measurement, operation, per_fold,\n",
       "  per_observation, fitted_params_per_fold,\n",
       "  report_per_fold, train_test_pairs\n",
       "Extract:\n",
       "┌────────────────────────────┬─────────────┬───────────┬────────────────────────\n",
       "│\u001b[22m measure                    \u001b[0m│\u001b[22m measurement \u001b[0m│\u001b[22m operation \u001b[0m│\u001b[22m per_fold             \u001b[0m ⋯\n",
       "├────────────────────────────┼─────────────┼───────────┼────────────────────────\n",
       "│ LogLoss(tol = 2.22045e-16) │ 0.823       │ predict   │ [0.826, 0.828, 0.815] ⋯\n",
       "└────────────────────────────┴─────────────┴───────────┴────────────────────────\n"
      ]
     },
     "execution_count": 108,
     "metadata": {},
     "output_type": "execute_result"
    }
   ],
   "source": [
    "err = evaluate!(mach, resampling=CV(nfolds=3), measure=cross_entropy)"
   ]
  },
  {
   "cell_type": "code",
   "execution_count": 109,
   "id": "3c4983fb",
   "metadata": {
    "ExecuteTime": {
     "end_time": "2022-06-08T15:27:12+08:00",
     "start_time": "2022-06-08T07:15:15.533Z"
    }
   },
   "outputs": [
    {
     "name": "stderr",
     "output_type": "stream",
     "text": [
      "\u001b[33mEvaluating over 3 folds:  67%[================>        ]  ETA: 0:01:15\u001b[39m┌ Error: Problem fitting the machine Machine{Pipeline344,…}. \n",
      "└ @ MLJBase D:\\TongYuan\\.julia\\packages\\MLJBase\\CMT6L\\src\\machines.jl:594\n",
      "┌ Info: Running type checks... \n",
      "└ @ MLJBase D:\\TongYuan\\.julia\\packages\\MLJBase\\CMT6L\\src\\machines.jl:600\n",
      "┌ Info: Type checks okay. \n",
      "└ @ MLJBase D:\\TongYuan\\.julia\\packages\\MLJBase\\CMT6L\\src\\machines.jl:603\n",
      "┌ Error: Problem fitting the machine Machine{ProbabilisticTunedModel{RandomSearch,…},…}. \n",
      "└ @ MLJBase D:\\TongYuan\\.julia\\packages\\MLJBase\\CMT6L\\src\\machines.jl:594\n",
      "┌ Info: Running type checks... \n",
      "└ @ MLJBase D:\\TongYuan\\.julia\\packages\\MLJBase\\CMT6L\\src\\machines.jl:600\n",
      "┌ Info: Type checks okay. \n",
      "└ @ MLJBase D:\\TongYuan\\.julia\\packages\\MLJBase\\CMT6L\\src\\machines.jl:603\n"
     ]
    },
    {
     "ename": "LoadError",
     "evalue": "InterruptException:",
     "output_type": "error",
     "traceback": [
      "InterruptException:",
      "",
      "Stacktrace:",
      "  [1] try_yieldto(undo::typeof(Base.ensure_rescheduled))",
      "    @ Base .\\task.jl:777",
      "  [2] wait()",
      "    @ Base .\\task.jl:837",
      "  [3] wait(c::Base.GenericCondition{Base.Threads.SpinLock})",
      "    @ Base .\\condition.jl:123",
      "  [4] _wait(t::Task)",
      "    @ Base .\\task.jl:293",
      "  [5] sync_end(c::Channel{Any})",
      "    @ Base .\\task.jl:361",
      "  [6] macro expansion",
      "    @ .\\task.jl:400 [inlined]",
      "  [7] fit!(y::Node{Nothing}, ::CPU1{Nothing}; kwargs::Base.Pairs{Symbol, Int64, Tuple{Symbol}, NamedTuple{(:verbosity,), Tuple{Int64}}})",
      "    @ MLJBase D:\\TongYuan\\.julia\\packages\\MLJBase\\CMT6L\\src\\composition\\learning_networks\\nodes.jl:225",
      "  [8] #fit!#75",
      "    @ D:\\TongYuan\\.julia\\packages\\MLJBase\\CMT6L\\src\\composition\\learning_networks\\nodes.jl:207 [inlined]",
      "  [9] fit!(mach::Machine{ProbabilisticSurrogate, false}; kwargs::Base.Pairs{Symbol, Int64, Tuple{Symbol}, NamedTuple{(:verbosity,), Tuple{Int64}}})",
      "    @ MLJBase D:\\TongYuan\\.julia\\packages\\MLJBase\\CMT6L\\src\\composition\\learning_networks\\machines.jl:253",
      " [10] return!(mach::Machine{ProbabilisticSurrogate, false}, model::Pipeline344, verbosity::Int64)",
      "    @ MLJBase D:\\TongYuan\\.julia\\packages\\MLJBase\\CMT6L\\src\\composition\\learning_networks\\machines.jl:399",
      " [11] (::MLJBase.var\"#_fit#174\"{Machine{ProbabilisticSurrogate, false}, Tuple{Standardizer, ContinuousEncoder, MLJLinearModels.LogisticClassifier}, Tuple{Source, Source}})(::Pipeline344, ::Int64, ::DataFrames.DataFrame, ::Vararg{Any})",
      "    @ MLJBase D:\\TongYuan\\.julia\\packages\\MLJBase\\CMT6L\\src\\composition\\models\\from_network.jl:25",
      " [12] fit(::Pipeline344, ::Int64, ::DataFrames.DataFrame, ::CategoricalArrays.CategoricalVector{Int64, UInt32, Int64, CategoricalArrays.CategoricalValue{Int64, UInt32}, Union{}})",
      "    @ Main D:\\TongYuan\\.julia\\packages\\MLJBase\\CMT6L\\src\\composition\\models\\from_network.jl:165",
      " [13] fit_only!(mach::Machine{Pipeline344, true}; rows::Vector{Int64}, verbosity::Int64, force::Bool)",
      "    @ MLJBase D:\\TongYuan\\.julia\\packages\\MLJBase\\CMT6L\\src\\machines.jl:592",
      " [14] #fit!#62",
      "    @ D:\\TongYuan\\.julia\\packages\\MLJBase\\CMT6L\\src\\machines.jl:659 [inlined]",
      " [15] fit_and_extract_on_fold",
      "    @ D:\\TongYuan\\.julia\\packages\\MLJBase\\CMT6L\\src\\resampling.jl:1141 [inlined]",
      " [16] (::MLJBase.var\"#275#276\"{MLJBase.var\"#fit_and_extract_on_fold#298\"{Vector{Tuple{Vector{Int64}, UnitRange{Int64}}}, Nothing, Nothing, Int64, Vector{LogLoss{Float64}}, Vector{typeof(MLJModelInterface.predict)}, Bool, Bool, CategoricalArrays.CategoricalVector{Int64, UInt32, Int64, CategoricalArrays.CategoricalValue{Int64, UInt32}, Union{}}, DataFrames.DataFrame}, Machine{Pipeline344, true}, Int64})(k::Int64)",
      "    @ MLJBase D:\\TongYuan\\.julia\\packages\\MLJBase\\CMT6L\\src\\resampling.jl:980",
      " [17] _mapreduce(f::MLJBase.var\"#275#276\"{MLJBase.var\"#fit_and_extract_on_fold#298\"{Vector{Tuple{Vector{Int64}, UnitRange{Int64}}}, Nothing, Nothing, Int64, Vector{LogLoss{Float64}}, Vector{typeof(MLJModelInterface.predict)}, Bool, Bool, CategoricalArrays.CategoricalVector{Int64, UInt32, Int64, CategoricalArrays.CategoricalValue{Int64, UInt32}, Union{}}, DataFrames.DataFrame}, Machine{Pipeline344, true}, Int64}, op::typeof(vcat), #unused#::IndexLinear, A::UnitRange{Int64})",
      "    @ Base .\\reduce.jl:410",
      " [18] _mapreduce_dim",
      "    @ .\\reducedim.jl:330 [inlined]",
      " [19] #mapreduce#725",
      "    @ .\\reducedim.jl:322 [inlined]",
      " [20] mapreduce",
      "    @ .\\reducedim.jl:322 [inlined]",
      " [21] _evaluate!(func::MLJBase.var\"#fit_and_extract_on_fold#298\"{Vector{Tuple{Vector{Int64}, UnitRange{Int64}}}, Nothing, Nothing, Int64, Vector{LogLoss{Float64}}, Vector{typeof(MLJModelInterface.predict)}, Bool, Bool, CategoricalArrays.CategoricalVector{Int64, UInt32, Int64, CategoricalArrays.CategoricalValue{Int64, UInt32}, Union{}}, DataFrames.DataFrame}, mach::Machine{Pipeline344, true}, #unused#::CPU1{Nothing}, nfolds::Int64, verbosity::Int64)",
      "    @ MLJBase D:\\TongYuan\\.julia\\packages\\MLJBase\\CMT6L\\src\\resampling.jl:979",
      " [22] evaluate!(mach::Machine{Pipeline344, true}, resampling::Vector{Tuple{Vector{Int64}, UnitRange{Int64}}}, weights::Nothing, class_weights::Nothing, rows::Nothing, verbosity::Int64, repeats::Int64, measures::Vector{LogLoss{Float64}}, operations::Vector{typeof(MLJModelInterface.predict)}, acceleration::CPU1{Nothing}, force::Bool)",
      "    @ MLJBase D:\\TongYuan\\.julia\\packages\\MLJBase\\CMT6L\\src\\resampling.jl:1182",
      " [23] update(::Resampler{CV}, ::Int64, ::NamedTuple{(:machine, :evaluation), Tuple{Machine{Pipeline344, true}, PerformanceEvaluation{Vector{LogLoss{Float64}}, Vector{Float64}, Vector{typeof(MLJModelInterface.predict)}, Vector{Vector{Float64}}, Vector{Vector{Vector{Float64}}}, Vector{NamedTuple{(:logistic_classifier, :continuous_encoder, :standardizer, :machines, :fitted_params_given_machine), Tuple{NamedTuple{(:classes, :coefs, :intercept), Tuple{CategoricalArrays.CategoricalVector{Int64, UInt32, Int64, CategoricalArrays.CategoricalValue{Int64, UInt32}, Union{}}, Vector{Pair{Symbol, SubArray{Float64, 1, Matrix{Float64}, Tuple{Int64, Base.Slice{Base.OneTo{Int64}}}, true}}}, Vector{Float64}}}, NamedTuple{(:features_to_keep, :one_hot_encoder, :one_hot_encoder_fitresult), Tuple{Vector{Symbol}, OneHotEncoder, MLJModels.OneHotEncoderResult}}, Dict{Symbol, Tuple{Float64, Float64}}, Vector{Machine}, LittleDict{Any, Any, Vector{Any}, Vector{Any}}}}}, Vector{NamedTuple{(:logistic_classifier, :continuous_encoder, :standardizer, :machines, :report_given_machine), Tuple{NamedTuple{(), Tuple{}}, NamedTuple{(:features_to_keep, :new_features), Tuple{Vector{Symbol}, Vector{Symbol}}}, NamedTuple{(:features_fit,), Tuple{Base.KeySet{Symbol, Dict{Symbol, Tuple{Float64, Float64}}}}}, Vector{Machine}, LittleDict{Any, Any, Vector{Any}, Vector{Any}}}}}}}}, ::NamedTuple{(:resampler, :acceleration), Tuple{Resampler{CV}, CPU1{Nothing}}}, ::DataFrames.DataFrame, ::CategoricalArrays.CategoricalVector{Int64, UInt32, Int64, CategoricalArrays.CategoricalValue{Int64, UInt32}, Union{}})",
      "    @ MLJBase D:\\TongYuan\\.julia\\packages\\MLJBase\\CMT6L\\src\\resampling.jl:1472",
      " [24] fit_only!(mach::Machine{Resampler{CV}, false}; rows::Nothing, verbosity::Int64, force::Bool)",
      "    @ MLJBase D:\\TongYuan\\.julia\\packages\\MLJBase\\CMT6L\\src\\machines.jl:616",
      " [25] #fit!#62",
      "    @ D:\\TongYuan\\.julia\\packages\\MLJBase\\CMT6L\\src\\machines.jl:659 [inlined]",
      " [26] event!(metamodel::Pipeline344, resampling_machine::Machine{Resampler{CV}, false}, verbosity::Int64, tuning::RandomSearch, history::Nothing, state::Vector{Tuple{Expr, Any}})",
      "    @ MLJTuning D:\\TongYuan\\.julia\\packages\\MLJTuning\\Al9yX\\src\\tuned_models.jl:390",
      " [27] #35",
      "    @ D:\\TongYuan\\.julia\\packages\\MLJTuning\\Al9yX\\src\\tuned_models.jl:428 [inlined]",
      " [28] iterate",
      "    @ .\\generator.jl:47 [inlined]",
      " [29] collect_to!(dest::Vector{NamedTuple{(:model, :measure, :measurement, :per_fold, :metadata), Tuple{Pipeline344, Vector{LogLoss{Float64}}, Vector{Float64}, Vector{Vector{Float64}}, Nothing}}}, itr::Base.Generator{Vector{Pipeline344}, MLJTuning.var\"#35#36\"{Machine{Resampler{CV}, false}, Int64, RandomSearch, Nothing, Vector{Tuple{Expr, Any}}, ProgressMeter.Progress}}, offs::Int64, st::Int64)",
      "    @ Base .\\array.jl:782",
      " [30] collect_to_with_first!(dest::Vector{NamedTuple{(:model, :measure, :measurement, :per_fold, :metadata), Tuple{Pipeline344, Vector{LogLoss{Float64}}, Vector{Float64}, Vector{Vector{Float64}}, Nothing}}}, v1::NamedTuple{(:model, :measure, :measurement, :per_fold, :metadata), Tuple{Pipeline344, Vector{LogLoss{Float64}}, Vector{Float64}, Vector{Vector{Float64}}, Nothing}}, itr::Base.Generator{Vector{Pipeline344}, MLJTuning.var\"#35#36\"{Machine{Resampler{CV}, false}, Int64, RandomSearch, Nothing, Vector{Tuple{Expr, Any}}, ProgressMeter.Progress}}, st::Int64)",
      "    @ Base .\\array.jl:760",
      " [31] _collect(c::Vector{Pipeline344}, itr::Base.Generator{Vector{Pipeline344}, MLJTuning.var\"#35#36\"{Machine{Resampler{CV}, false}, Int64, RandomSearch, Nothing, Vector{Tuple{Expr, Any}}, ProgressMeter.Progress}}, #unused#::Base.EltypeUnknown, isz::Base.HasShape{1})",
      "    @ Base .\\array.jl:754",
      " [32] collect_similar",
      "    @ .\\array.jl:653 [inlined]",
      " [33] map",
      "    @ .\\abstractarray.jl:2849 [inlined]",
      " [34] assemble_events!(metamodels::Vector{Pipeline344}, resampling_machine::Machine{Resampler{CV}, false}, verbosity::Int64, tuning::RandomSearch, history::Nothing, state::Vector{Tuple{Expr, Any}}, acceleration::CPU1{Nothing})",
      "    @ MLJTuning D:\\TongYuan\\.julia\\packages\\MLJTuning\\Al9yX\\src\\tuned_models.jl:427",
      " [35] build!(history::Nothing, n::Int64, tuning::RandomSearch, model::Pipeline344, model_buffer::Channel{Any}, state::Vector{Tuple{Expr, Any}}, verbosity::Int64, acceleration::CPU1{Nothing}, resampling_machine::Machine{Resampler{CV}, false})",
      "    @ MLJTuning D:\\TongYuan\\.julia\\packages\\MLJTuning\\Al9yX\\src\\tuned_models.jl:620",
      " [36] fit(::MLJTuning.ProbabilisticTunedModel{RandomSearch, Pipeline344}, ::Int64, ::DataFrames.DataFrame, ::CategoricalArrays.CategoricalVector{Int64, UInt32, Int64, CategoricalArrays.CategoricalValue{Int64, UInt32}, Union{}})",
      "    @ MLJTuning D:\\TongYuan\\.julia\\packages\\MLJTuning\\Al9yX\\src\\tuned_models.jl:699",
      " [37] fit_only!(mach::Machine{MLJTuning.ProbabilisticTunedModel{RandomSearch, Pipeline344}, true}; rows::Vector{Int64}, verbosity::Int64, force::Bool)",
      "    @ MLJBase D:\\TongYuan\\.julia\\packages\\MLJBase\\CMT6L\\src\\machines.jl:592",
      " [38] #fit!#62",
      "    @ D:\\TongYuan\\.julia\\packages\\MLJBase\\CMT6L\\src\\machines.jl:659 [inlined]",
      " [39] fit_and_extract_on_fold",
      "    @ D:\\TongYuan\\.julia\\packages\\MLJBase\\CMT6L\\src\\resampling.jl:1141 [inlined]",
      " [40] (::MLJBase.var\"#275#276\"{MLJBase.var\"#fit_and_extract_on_fold#298\"{Vector{Tuple{Vector{Int64}, UnitRange{Int64}}}, Nothing, Nothing, Int64, Vector{LogLoss{Float64}}, Vector{typeof(MLJModelInterface.predict)}, Bool, Bool, CategoricalArrays.CategoricalVector{Int64, UInt32, Int64, CategoricalArrays.CategoricalValue{Int64, UInt32}, Union{}}, DataFrames.DataFrame}, Machine{MLJTuning.ProbabilisticTunedModel{RandomSearch, Pipeline344}, true}, Int64})(k::Int64)",
      "    @ MLJBase D:\\TongYuan\\.julia\\packages\\MLJBase\\CMT6L\\src\\resampling.jl:980",
      " [41] _mapreduce(f::MLJBase.var\"#275#276\"{MLJBase.var\"#fit_and_extract_on_fold#298\"{Vector{Tuple{Vector{Int64}, UnitRange{Int64}}}, Nothing, Nothing, Int64, Vector{LogLoss{Float64}}, Vector{typeof(MLJModelInterface.predict)}, Bool, Bool, CategoricalArrays.CategoricalVector{Int64, UInt32, Int64, CategoricalArrays.CategoricalValue{Int64, UInt32}, Union{}}, DataFrames.DataFrame}, Machine{MLJTuning.ProbabilisticTunedModel{RandomSearch, Pipeline344}, true}, Int64}, op::typeof(vcat), #unused#::IndexLinear, A::UnitRange{Int64})",
      "    @ Base .\\reduce.jl:413",
      " [42] _mapreduce_dim",
      "    @ .\\reducedim.jl:330 [inlined]",
      " [43] #mapreduce#725",
      "    @ .\\reducedim.jl:322 [inlined]",
      " [44] mapreduce",
      "    @ .\\reducedim.jl:322 [inlined]",
      " [45] _evaluate!(func::MLJBase.var\"#fit_and_extract_on_fold#298\"{Vector{Tuple{Vector{Int64}, UnitRange{Int64}}}, Nothing, Nothing, Int64, Vector{LogLoss{Float64}}, Vector{typeof(MLJModelInterface.predict)}, Bool, Bool, CategoricalArrays.CategoricalVector{Int64, UInt32, Int64, CategoricalArrays.CategoricalValue{Int64, UInt32}, Union{}}, DataFrames.DataFrame}, mach::Machine{MLJTuning.ProbabilisticTunedModel{RandomSearch, Pipeline344}, true}, #unused#::CPU1{Nothing}, nfolds::Int64, verbosity::Int64)",
      "    @ MLJBase D:\\TongYuan\\.julia\\packages\\MLJBase\\CMT6L\\src\\resampling.jl:979",
      " [46] evaluate!(mach::Machine{MLJTuning.ProbabilisticTunedModel{RandomSearch, Pipeline344}, true}, resampling::Vector{Tuple{Vector{Int64}, UnitRange{Int64}}}, weights::Nothing, class_weights::Nothing, rows::Nothing, verbosity::Int64, repeats::Int64, measures::Vector{LogLoss{Float64}}, operations::Vector{typeof(MLJModelInterface.predict)}, acceleration::CPU1{Nothing}, force::Bool)",
      "    @ MLJBase D:\\TongYuan\\.julia\\packages\\MLJBase\\CMT6L\\src\\resampling.jl:1182",
      " [47] evaluate!(::Machine{MLJTuning.ProbabilisticTunedModel{RandomSearch, Pipeline344}, true}, ::CV, ::Nothing, ::Nothing, ::Nothing, ::Int64, ::Int64, ::Vector{LogLoss{Float64}}, ::Vector{typeof(MLJModelInterface.predict)}, ::CPU1{Nothing}, ::Bool)",
      "    @ MLJBase D:\\TongYuan\\.julia\\packages\\MLJBase\\CMT6L\\src\\resampling.jl:1253",
      " [48] evaluate!(mach::Machine{MLJTuning.ProbabilisticTunedModel{RandomSearch, Pipeline344}, true}; resampling::CV, measures::Nothing, measure::LogLoss{Float64}, weights::Nothing, class_weights::Nothing, operations::Nothing, operation::Nothing, acceleration::CPU1{Nothing}, rows::Nothing, repeats::Int64, force::Bool, check_measure::Bool, verbosity::Int64)",
      "    @ MLJBase D:\\TongYuan\\.julia\\packages\\MLJBase\\CMT6L\\src\\resampling.jl:940",
      " [49] top-level scope",
      "    @ In[109]:1",
      " [50] eval",
      "    @ .\\boot.jl:373 [inlined]"
     ]
    }
   ],
   "source": [
    "tuned_err = evaluate!(tuned_mach, resampling=CV(nfolds=3), measure=cross_entropy)"
   ]
  },
  {
   "cell_type": "markdown",
   "id": "91afed1e",
   "metadata": {},
   "source": [
    "## 第4部分资源"
   ]
  },
  {
   "cell_type": "markdown",
   "id": "db3c5370",
   "metadata": {},
   "source": [
    "- From the MLJ manual:\n",
    "   - [Learning Curves](https://alan-turing-institute.github.io/MLJ.jl/dev/learning_curves/)\n",
    "   - [Tuning Models](https://alan-turing-institute.github.io/MLJ.jl/dev/tuning_models/)\n",
    "- The [MLJTuning repo](https://github.com/juliaai/MLJTuning.jl#who-is-this-repo-for) - mostly for developers\n",
    "\n",
    "- From Data Science Tutorials:\n",
    "    - [Tuning a model](https://juliaai.github.io/DataScienceTutorials.jl/getting-started/model-tuning/)\n",
    "    - [Crabs with XGBoost](https://juliaai.github.io/DataScienceTutorials.jl/end-to-end/crabs-xgb/) `Grid` tuning in stages for a tree-boosting model with many parameters\n",
    "    - [Boston with LightGBM](https://juliaai.github.io/DataScienceTutorials.jl/end-to-end/boston-lgbm/) -  `Grid` tuning for another popular tree-booster\n",
    "    - [Boston with Flux](https://juliaai.github.io/DataScienceTutorials.jl/end-to-end/boston-flux/) - optimizing batch size in a simple neural network regressor\n",
    "- [UCI Horse Colic Data Set](http://archive.ics.uci.edu/ml/datasets/Horse+Colic)"
   ]
  },
  {
   "cell_type": "markdown",
   "id": "166a6987",
   "metadata": {},
   "source": [
    "# 高级模型"
   ]
  },
  {
   "cell_type": "markdown",
   "id": "3f717ba6",
   "metadata": {},
   "source": [
    "虽然@pipeline 非常适合以非分支序列组合模型，但对于更复杂的模型组合，您需要使用 MLJ 的通用模型组合语法。主要有两个步骤：\n",
    "\n",
    "通过构建学习网络对复合模型进行原型制作，在构建时可以在一些（虚拟）数据上对其进行测试。  \n",
    "将学习网络导出为新的独立模型类型。  \n",
    "与管道模型一样，导出模型类型的实例的行为类似于任何其他模型（并且不绑定到任何数据，直到您将它们包装在机器中）。  "
   ]
  },
  {
   "cell_type": "markdown",
   "id": "ef72ae3d",
   "metadata": {},
   "source": [
    "## 使用组合构建管道"
   ]
  },
  {
   "cell_type": "code",
   "execution_count": 110,
   "id": "511a34d3",
   "metadata": {
    "ExecuteTime": {
     "end_time": "2022-06-08T15:27:12.523000+08:00",
     "start_time": "2022-06-08T07:15:15.542Z"
    }
   },
   "outputs": [],
   "source": [
    "pipe = @pipeline Standardizer LogisticClassifier;"
   ]
  },
  {
   "cell_type": "markdown",
   "id": "2ef71803",
   "metadata": {},
   "source": [
    "使用通用语法。\n",
    "\n",
    "下面是一些我们将用来测试我们的学习网络的虚拟数据："
   ]
  },
  {
   "cell_type": "code",
   "execution_count": 111,
   "id": "36df0997",
   "metadata": {
    "ExecuteTime": {
     "end_time": "2022-06-08T15:27:14.918000+08:00",
     "start_time": "2022-06-08T07:15:15.546Z"
    }
   },
   "outputs": [
    {
     "name": "stdout",
     "output_type": "stream",
     "text": [
      "┌────────────┬────────────┬────────────┐\n",
      "│\u001b[1m x1         \u001b[0m│\u001b[1m x2         \u001b[0m│\u001b[1m x3         \u001b[0m│\n",
      "│\u001b[90m Float64    \u001b[0m│\u001b[90m Float64    \u001b[0m│\u001b[90m Float64    \u001b[0m│\n",
      "│\u001b[90m Continuous \u001b[0m│\u001b[90m Continuous \u001b[0m│\u001b[90m Continuous \u001b[0m│\n",
      "├────────────┼────────────┼────────────┤\n",
      "│ -7.6775    │ -6.47767   │ 3.30184    │\n",
      "│ 2.40296    │ -4.2438    │ 2.54009    │\n",
      "│ -6.8739    │ -7.84651   │ -0.598379  │\n",
      "│ -0.756992  │ -2.51176   │ 2.92716    │\n",
      "│ -8.68655   │ -4.87497   │ 1.17124    │\n",
      "└────────────┴────────────┴────────────┘\n"
     ]
    }
   ],
   "source": [
    "X, y = make_blobs(5, 3)\n",
    "pretty(X)"
   ]
  },
  {
   "cell_type": "markdown",
   "id": "8935f63e",
   "metadata": {},
   "source": [
    "第 0 步 - 使用所有可用于训练、转换和预测的数据，就像“手动”组合模型一样进行："
   ]
  },
  {
   "cell_type": "code",
   "execution_count": 112,
   "id": "b47867d8",
   "metadata": {
    "ExecuteTime": {
     "end_time": "2022-06-08T15:27:16.293000+08:00",
     "start_time": "2022-06-08T07:15:15.550Z"
    }
   },
   "outputs": [
    {
     "name": "stderr",
     "output_type": "stream",
     "text": [
      "┌ Info: Training Machine{Standardizer,…}.\n",
      "└ @ MLJBase D:\\TongYuan\\.julia\\packages\\MLJBase\\CMT6L\\src\\machines.jl:464\n",
      "┌ Info: Training Machine{LogisticClassifier,…}.\n",
      "└ @ MLJBase D:\\TongYuan\\.julia\\packages\\MLJBase\\CMT6L\\src\\machines.jl:464\n",
      "┌ Info: Solver: MLJLinearModels.LBFGS()\n",
      "└ @ MLJLinearModels D:\\TongYuan\\.julia\\packages\\MLJLinearModels\\eRCwo\\src\\mlj\\interface.jl:76\n"
     ]
    },
    {
     "data": {
      "text/plain": [
       "5-element UnivariateFiniteVector{Multiclass{3}, Int64, UInt32, Float64}:\n",
       " UnivariateFinite{Multiclass{3}}(1=>0.153, 2=>0.157, 3=>0.69)\n",
       " UnivariateFinite{Multiclass{3}}(1=>0.309, 2=>0.283, 3=>0.408)\n",
       " UnivariateFinite{Multiclass{3}}(1=>0.11, 2=>0.0902, 3=>0.8)\n",
       " UnivariateFinite{Multiclass{3}}(1=>0.281, 2=>0.321, 3=>0.397)\n",
       " UnivariateFinite{Multiclass{3}}(1=>0.139, 2=>0.157, 3=>0.704)"
      ]
     },
     "execution_count": 112,
     "metadata": {},
     "output_type": "execute_result"
    }
   ],
   "source": [
    "stand = Standardizer();\n",
    "linear = LogisticClassifier();\n",
    "\n",
    "mach1 = machine(stand, X);\n",
    "MLJBase.fit!(mach1);\n",
    "Xstand = MLJBase.transform(mach1, X);\n",
    "\n",
    "mach2 = machine(linear, Xstand, y);\n",
    "MLJBase.fit!(mach2);\n",
    "yhat = MLJBase.predict(mach2, Xstand)"
   ]
  },
  {
   "cell_type": "markdown",
   "id": "b0355235",
   "metadata": {},
   "source": [
    "第 1 步 - 编辑您的代码，如下所示："
   ]
  },
  {
   "cell_type": "code",
   "execution_count": 113,
   "id": "452b6085",
   "metadata": {
    "ExecuteTime": {
     "end_time": "2022-06-08T15:27:16.759000+08:00",
     "start_time": "2022-06-08T07:15:15.554Z"
    }
   },
   "outputs": [
    {
     "data": {
      "text/plain": [
       "Node{Machine{LogisticClassifier,…}}\n",
       "  args:\n",
       "    1:\tNode{Machine{Standardizer,…}}\n",
       "  formula:\n",
       "    predict(\n",
       "        \u001b[0m\u001b[1mMachine{LogisticClassifier,…}\u001b[22m, \n",
       "        transform(\n",
       "            \u001b[0m\u001b[1mMachine{Standardizer,…}\u001b[22m, \n",
       "            Source @025))"
      ]
     },
     "execution_count": 113,
     "metadata": {},
     "output_type": "execute_result"
    }
   ],
   "source": [
    "X = source(X)  # or X = source() if not testing\n",
    "y = source(y)  # or y = source()\n",
    "\n",
    "stand = Standardizer();\n",
    "linear = LogisticClassifier();\n",
    "\n",
    "mach1 = machine(stand, X);\n",
    "Xstand = MLJBase.transform(mach1, X);\n",
    "\n",
    "mach2 = machine(linear, Xstand, y);\n",
    "yhat = MLJBase.predict(mach2, Xstand)"
   ]
  },
  {
   "cell_type": "markdown",
   "id": "e6d88df8",
   "metadata": {},
   "source": [
    "现在 X、y、Xstand 和 yhat 是节点（“变量”或“动态数据”）而不是数据。现在，只要我们合适，所有的训练、预测和转换都是惰性执行的！这些节点之一。我们调用一个节点来检索它在原始手动工作流中表示的数据。"
   ]
  },
  {
   "cell_type": "code",
   "execution_count": 114,
   "id": "983e70a8",
   "metadata": {
    "ExecuteTime": {
     "end_time": "2022-06-08T15:27:17.142000+08:00",
     "start_time": "2022-06-08T07:15:15.560Z"
    }
   },
   "outputs": [
    {
     "name": "stdout",
     "output_type": "stream",
     "text": [
      "┌────────────┬────────────┬────────────┐\n",
      "│\u001b[1m x1         \u001b[0m│\u001b[1m x2         \u001b[0m│\u001b[1m x3         \u001b[0m│\n",
      "│\u001b[90m Float64    \u001b[0m│\u001b[90m Float64    \u001b[0m│\u001b[90m Float64    \u001b[0m│\n",
      "│\u001b[90m Continuous \u001b[0m│\u001b[90m Continuous \u001b[0m│\u001b[90m Continuous \u001b[0m│\n",
      "├────────────┼────────────┼────────────┤\n",
      "│ -0.690163  │ -0.62632   │ 0.897753   │\n",
      "│ 1.38097    │ 0.461022   │ 0.420679   │\n",
      "│ -0.525055  │ -1.29261   │ -1.54491   │\n",
      "│ 0.731728   │ 1.3041     │ 0.663093   │\n",
      "│ -0.897484  │ 0.153802   │ -0.436616  │\n",
      "└────────────┴────────────┴────────────┘\n"
     ]
    },
    {
     "name": "stderr",
     "output_type": "stream",
     "text": [
      "┌ Info: Training Machine{Standardizer,…}.\n",
      "└ @ MLJBase D:\\TongYuan\\.julia\\packages\\MLJBase\\CMT6L\\src\\machines.jl:464\n"
     ]
    }
   ],
   "source": [
    "MLJBase.fit!(Xstand)\n",
    "Xstand() |> pretty"
   ]
  },
  {
   "cell_type": "code",
   "execution_count": 115,
   "id": "e15ad851",
   "metadata": {
    "ExecuteTime": {
     "end_time": "2022-06-08T15:27:17.418000+08:00",
     "start_time": "2022-06-08T07:15:15.563Z"
    }
   },
   "outputs": [
    {
     "name": "stderr",
     "output_type": "stream",
     "text": [
      "┌ Info: Not retraining Machine{Standardizer,…}. Use `force=true` to force.\n",
      "└ @ MLJBase D:\\TongYuan\\.julia\\packages\\MLJBase\\CMT6L\\src\\machines.jl:467\n",
      "┌ Info: Training Machine{LogisticClassifier,…}.\n",
      "└ @ MLJBase D:\\TongYuan\\.julia\\packages\\MLJBase\\CMT6L\\src\\machines.jl:464\n",
      "┌ Info: Solver: MLJLinearModels.LBFGS()\n",
      "└ @ MLJLinearModels D:\\TongYuan\\.julia\\packages\\MLJLinearModels\\eRCwo\\src\\mlj\\interface.jl:76\n"
     ]
    },
    {
     "data": {
      "text/plain": [
       "5-element UnivariateFiniteVector{Multiclass{3}, Int64, UInt32, Float64}:\n",
       " UnivariateFinite{Multiclass{3}}(1=>0.153, 2=>0.157, 3=>0.69)\n",
       " UnivariateFinite{Multiclass{3}}(1=>0.309, 2=>0.283, 3=>0.408)\n",
       " UnivariateFinite{Multiclass{3}}(1=>0.11, 2=>0.0902, 3=>0.8)\n",
       " UnivariateFinite{Multiclass{3}}(1=>0.281, 2=>0.321, 3=>0.397)\n",
       " UnivariateFinite{Multiclass{3}}(1=>0.139, 2=>0.157, 3=>0.704)"
      ]
     },
     "execution_count": 115,
     "metadata": {},
     "output_type": "execute_result"
    }
   ],
   "source": [
    "MLJBase.fit!(yhat);\n",
    "yhat()"
   ]
  },
  {
   "cell_type": "markdown",
   "id": "a7be0bcf",
   "metadata": {},
   "source": [
    "节点 yhat 是唯一源节点的“后代”（在我们定义的关联 DAG 中）："
   ]
  },
  {
   "cell_type": "code",
   "execution_count": 116,
   "id": "6f225112",
   "metadata": {
    "ExecuteTime": {
     "end_time": "2022-06-08T15:27:18.135000+08:00",
     "start_time": "2022-06-08T07:15:15.567Z"
    }
   },
   "outputs": [
    {
     "data": {
      "text/plain": [
       "2-element Vector{Any}:\n",
       " Source @025 ⏎ `Table{AbstractVector{Continuous}}`\n",
       " Source @337 ⏎ `AbstractVector{Multiclass{3}}`"
      ]
     },
     "execution_count": 116,
     "metadata": {},
     "output_type": "execute_result"
    }
   ],
   "source": [
    "sources(yhat)"
   ]
  },
  {
   "cell_type": "markdown",
   "id": "fc359bed",
   "metadata": {},
   "source": [
    "当我们像这样调用 yhat 时，源节点的数据被 Xnew 替换以获得新的预测："
   ]
  },
  {
   "cell_type": "code",
   "execution_count": 117,
   "id": "0919de82",
   "metadata": {
    "ExecuteTime": {
     "end_time": "2022-06-08T15:27:18.231000+08:00",
     "start_time": "2022-06-08T07:15:15.570Z"
    }
   },
   "outputs": [
    {
     "data": {
      "text/plain": [
       "2-element UnivariateFiniteVector{Multiclass{3}, Int64, UInt32, Float64}:\n",
       " UnivariateFinite{Multiclass{3}}(1=>0.244, 2=>0.724, 3=>0.0315)\n",
       " UnivariateFinite{Multiclass{3}}(1=>0.383, 2=>0.335, 3=>0.282)"
      ]
     },
     "execution_count": 117,
     "metadata": {},
     "output_type": "execute_result"
    }
   ],
   "source": [
    "Xnew, _ = make_blobs(2, 3);\n",
    "yhat(Xnew)"
   ]
  },
  {
   "cell_type": "markdown",
   "id": "f2014867",
   "metadata": {},
   "source": [
    "第 2 步 - 将学习网络导出为新的独立模型类型\n",
    "\n",
    "现在，有点自相矛盾的是，我们可以在定义新模型类型之前将整个网络包装在一个特殊的机器中——称为学习网络机器。确实这样做是导出过程中的必要步骤，因为这台机器会告诉导出宏："
   ]
  },
  {
   "cell_type": "code",
   "execution_count": 118,
   "id": "9e9016cc",
   "metadata": {
    "ExecuteTime": {
     "end_time": "2022-06-08T15:27:18.502000+08:00",
     "start_time": "2022-06-08T07:15:15.575Z"
    }
   },
   "outputs": [
    {
     "data": {
      "text/plain": [
       "Machine{ProbabilisticSurrogate,…} trained 0 times; does not cache data\n",
       "  model: ProbabilisticSurrogate\n",
       "  args: \n",
       "    1:\tSource @025 ⏎ `Table{AbstractVector{Continuous}}`\n",
       "    2:\tSource @337 ⏎ `AbstractVector{Multiclass{3}}`\n"
      ]
     },
     "execution_count": 118,
     "metadata": {},
     "output_type": "execute_result"
    }
   ],
   "source": [
    "surrogate = Probabilistic()     # a model with no fields!\n",
    "mach = machine(surrogate, X, y; predict=yhat)"
   ]
  },
  {
   "cell_type": "markdown",
   "id": "785c8d16",
   "metadata": {},
   "source": [
    "虽然我们并没有真正需要使用它，但这台机器的行为就像你期望的那样："
   ]
  },
  {
   "cell_type": "code",
   "execution_count": 119,
   "id": "cf535c0c",
   "metadata": {
    "ExecuteTime": {
     "end_time": "2022-06-08T15:27:18.540000+08:00",
     "start_time": "2022-06-08T07:15:15.578Z"
    }
   },
   "outputs": [
    {
     "name": "stderr",
     "output_type": "stream",
     "text": [
      "┌ Info: Not retraining Machine{Standardizer,…}. Use `force=true` to force.\n",
      "└ @ MLJBase D:\\TongYuan\\.julia\\packages\\MLJBase\\CMT6L\\src\\machines.jl:467\n",
      "┌ Info: Not retraining Machine{LogisticClassifier,…}. Use `force=true` to force.\n",
      "└ @ MLJBase D:\\TongYuan\\.julia\\packages\\MLJBase\\CMT6L\\src\\machines.jl:467\n"
     ]
    },
    {
     "data": {
      "text/plain": [
       "2-element UnivariateFiniteVector{Multiclass{3}, Int64, UInt32, Float64}:\n",
       " UnivariateFinite{Multiclass{3}}(1=>0.242, 2=>0.67, 3=>0.0876)\n",
       " UnivariateFinite{Multiclass{3}}(1=>0.227, 2=>0.292, 3=>0.481)"
      ]
     },
     "execution_count": 119,
     "metadata": {},
     "output_type": "execute_result"
    }
   ],
   "source": [
    "Xnew, _ = make_blobs(2, 3)\n",
    "MLJBase.fit!(mach)\n",
    "MLJBase.predict(mach, Xnew)"
   ]
  },
  {
   "cell_type": "markdown",
   "id": "83942518",
   "metadata": {},
   "source": [
    "现在我们使用适当修饰的 Julia 结构定义创建一个新的模型类型："
   ]
  },
  {
   "cell_type": "code",
   "execution_count": 120,
   "id": "60d16809",
   "metadata": {
    "ExecuteTime": {
     "end_time": "2022-06-08T15:27:18.715000+08:00",
     "start_time": "2022-06-08T07:15:15.581Z"
    }
   },
   "outputs": [],
   "source": [
    "@from_network mach begin\n",
    "    mutable struct YourPipe\n",
    "        standardizer = stand\n",
    "        classifier = linear::Probabilistic\n",
    "    end\n",
    "end"
   ]
  },
  {
   "cell_type": "markdown",
   "id": "fa0dfcd6",
   "metadata": {
    "ExecuteTime": {
     "end_time": "2022-06-06T11:15:23.456000+08:00",
     "start_time": "2022-06-06T03:15:23.412Z"
    }
   },
   "source": [
    "实例化和评估一些新数据："
   ]
  },
  {
   "cell_type": "code",
   "execution_count": 121,
   "id": "087d88cb",
   "metadata": {
    "ExecuteTime": {
     "end_time": "2022-06-08T15:27:30.569000+08:00",
     "start_time": "2022-06-08T07:15:15.585Z"
    }
   },
   "outputs": [
    {
     "name": "stderr",
     "output_type": "stream",
     "text": [
      "\u001b[33mEvaluating over 6 folds: 100%[=========================] Time: 0:00:07\u001b[39m\n"
     ]
    },
    {
     "data": {
      "text/plain": [
       "PerformanceEvaluation object with these fields:\n",
       "  measure, measurement, operation, per_fold,\n",
       "  per_observation, fitted_params_per_fold,\n",
       "  report_per_fold, train_test_pairs\n",
       "Extract:\n",
       "┌─────────────────────────┬─────────────┬──────────────┬────────────────────────\n",
       "│\u001b[22m measure                 \u001b[0m│\u001b[22m measurement \u001b[0m│\u001b[22m operation    \u001b[0m│\u001b[22m per_fold             \u001b[0m ⋯\n",
       "├─────────────────────────┼─────────────┼──────────────┼────────────────────────\n",
       "│ MisclassificationRate() │ 0.427       │ predict_mode │ [0.0, 0.0, 0.96, 0.92 ⋯\n",
       "└─────────────────────────┴─────────────┴──────────────┴────────────────────────\n",
       "\u001b[36m                                                                1 column omitted\u001b[0m\n"
      ]
     },
     "execution_count": 121,
     "metadata": {},
     "output_type": "execute_result"
    }
   ],
   "source": [
    "pipe = YourPipe()\n",
    "X, y = @load_iris;   # built-in data set\n",
    "mach = machine(pipe, X, y)\n",
    "evaluate!(mach, measure=misclassification_rate, operation=predict_mode)"
   ]
  },
  {
   "cell_type": "markdown",
   "id": "a97a41b3",
   "metadata": {},
   "source": [
    "## 两个回归预测因子平均值的复合模型"
   ]
  },
  {
   "cell_type": "markdown",
   "id": "46c2b506",
   "metadata": {},
   "source": [
    "我们将定义一个复合模型：\n",
    "\n",
    "标准化输入数据  \n",
    "学习并将 Box-Cox 变换应用于目标变量  \n",
    "混合了两个监督学习模型的预测——一个岭回归器和一个随机森林回归器；我们将使用简单的平均值进行混合（有关更复杂的堆叠示例，请参见此处）  \n",
    "将逆 Box-Cox 变换应用于此混合预测  "
   ]
  },
  {
   "cell_type": "code",
   "execution_count": 122,
   "id": "f415d59e",
   "metadata": {
    "ExecuteTime": {
     "end_time": "2022-06-08T15:27:30.667000+08:00",
     "start_time": "2022-06-08T07:15:15.590Z"
    }
   },
   "outputs": [
    {
     "name": "stdout",
     "output_type": "stream",
     "text": [
      "import MLJDecisionTreeInterface ✔\n"
     ]
    },
    {
     "name": "stderr",
     "output_type": "stream",
     "text": [
      "┌ Info: For silent loading, specify `verbosity=0`. \n",
      "└ @ Main D:\\TongYuan\\.julia\\packages\\MLJModels\\lDzCR\\src\\loading.jl:168\n"
     ]
    },
    {
     "data": {
      "text/plain": [
       "MLJDecisionTreeInterface.RandomForestRegressor"
      ]
     },
     "execution_count": 122,
     "metadata": {},
     "output_type": "execute_result"
    }
   ],
   "source": [
    "RandomForestRegressor = @load RandomForestRegressor pkg=DecisionTree"
   ]
  },
  {
   "cell_type": "markdown",
   "id": "9673142c",
   "metadata": {},
   "source": [
    "输入层"
   ]
  },
  {
   "cell_type": "code",
   "execution_count": 123,
   "id": "1df2e0d3",
   "metadata": {
    "ExecuteTime": {
     "end_time": "2022-06-08T15:27:30.876000+08:00",
     "start_time": "2022-06-08T07:15:15.594Z"
    }
   },
   "outputs": [],
   "source": [
    "X = source()\n",
    "y = source()"
   ]
  },
  {
   "cell_type": "markdown",
   "id": "6e76940c",
   "metadata": {},
   "source": [
    "第一层和目标变换"
   ]
  },
  {
   "cell_type": "code",
   "execution_count": null,
   "id": "b23e5d83",
   "metadata": {
    "ExecuteTime": {
     "start_time": "2022-06-08T07:15:15.597Z"
    }
   },
   "outputs": [],
   "source": [
    "std_model = Standardizer()\n",
    "stand = machine(std_model, X)\n",
    "W = MLJ.transform(stand, X)\n",
    "\n",
    "box_model = UnivariateBoxCoxTransformer()\n",
    "box = machine(box_model, y)\n",
    "z = MLJ.transform(box, y)"
   ]
  },
  {
   "cell_type": "markdown",
   "id": "facc9e22",
   "metadata": {},
   "source": [
    "第二层"
   ]
  },
  {
   "cell_type": "code",
   "execution_count": null,
   "id": "725c5d4e",
   "metadata": {
    "ExecuteTime": {
     "start_time": "2022-06-08T07:15:15.600Z"
    }
   },
   "outputs": [],
   "source": [
    "ridge_model = RidgeRegressor(lambda=0.1)\n",
    "ridge = machine(ridge_model, W, z)\n",
    "\n",
    "forest_model = RandomForestRegressor()\n",
    "forest = machine(forest_model, W, z)\n",
    "\n",
    "ẑ = 0.5*MLJBase.predict(ridge, W) + 0.5*MLJBase.predict(forest, W)"
   ]
  },
  {
   "cell_type": "markdown",
   "id": "830f2a14",
   "metadata": {},
   "source": [
    "输出层"
   ]
  },
  {
   "cell_type": "code",
   "execution_count": null,
   "id": "d4ef6778",
   "metadata": {
    "ExecuteTime": {
     "start_time": "2022-06-08T07:15:15.603Z"
    }
   },
   "outputs": [],
   "source": [
    "ŷ = MLJBase.inverse_transform(box, ẑ)"
   ]
  },
  {
   "cell_type": "markdown",
   "id": "1e9b409e",
   "metadata": {},
   "source": [
    "定义学习网络后，我们准备导出："
   ]
  },
  {
   "cell_type": "code",
   "execution_count": null,
   "id": "373ebf7e",
   "metadata": {
    "ExecuteTime": {
     "start_time": "2022-06-08T07:15:15.606Z"
    }
   },
   "outputs": [],
   "source": [
    "@from_network machine(Deterministic(), X, y, predict=ŷ) begin\n",
    "    mutable struct CompositeModel\n",
    "        rgs1 = ridge_model\n",
    "        rgs2 = forest_model\n",
    "    end\n",
    "end"
   ]
  },
  {
   "cell_type": "markdown",
   "id": "baab42cc",
   "metadata": {},
   "source": [
    "让我们实例化新的模型类型并在一些数据上进行尝试："
   ]
  },
  {
   "cell_type": "code",
   "execution_count": null,
   "id": "e9b103a4",
   "metadata": {
    "ExecuteTime": {
     "start_time": "2022-06-08T07:15:15.609Z"
    }
   },
   "outputs": [],
   "source": [
    "composite = CompositeModel()"
   ]
  },
  {
   "cell_type": "code",
   "execution_count": null,
   "id": "87486b02",
   "metadata": {
    "ExecuteTime": {
     "start_time": "2022-06-08T07:15:15.612Z"
    }
   },
   "outputs": [],
   "source": [
    "X, y = @load_boston;\n",
    "mach = machine(composite, X, y);\n",
    "evaluate!(mach,\n",
    "          resampling=CV(nfolds=6, shuffle=true),\n",
    "          measures=[rms, mae])"
   ]
  },
  {
   "cell_type": "markdown",
   "id": "6dccb205",
   "metadata": {},
   "source": [
    "## 第5部分资源"
   ]
  },
  {
   "cell_type": "markdown",
   "id": "6cc916ab",
   "metadata": {},
   "source": [
    "- From the MLJ manual:\n",
    "   - [Learning Networks](https://alan-turing-institute.github.io/MLJ.jl/stable/composing_models/#Learning-Networks-1)\n",
    "- From Data Science Tutorials:\n",
    "    - [Learning Networks](https://juliaai.github.io/DataScienceTutorials.jl/getting-started/learning-networks/)\n",
    "    - [Learning Networks 2](https://juliaai.github.io/DataScienceTutorials.jl/getting-started/learning-networks-2/)"
   ]
  },
  {
   "cell_type": "code",
   "execution_count": null,
   "id": "8113cfe2",
   "metadata": {},
   "outputs": [],
   "source": []
  }
 ],
 "metadata": {
  "hide_input": false,
  "kernelspec": {
   "display_name": "Julia 1.7.1",
   "language": "julia",
   "name": "julia-1.7"
  },
  "language_info": {
   "file_extension": ".jl",
   "mimetype": "application/julia",
   "name": "julia",
   "version": "1.7.1"
  },
  "toc": {
   "base_numbering": 1,
   "nav_menu": {},
   "number_sections": true,
   "sideBar": true,
   "skip_h1_title": false,
   "title_cell": "Table of Contents",
   "title_sidebar": "Contents",
   "toc_cell": false,
   "toc_position": {
    "height": "calc(100% - 180px)",
    "left": "10px",
    "top": "150px",
    "width": "307.2px"
   },
   "toc_section_display": true,
   "toc_window_display": true
  },
  "varInspector": {
   "cols": {
    "lenName": 16,
    "lenType": 16,
    "lenVar": 40
   },
   "kernels_config": {
    "python": {
     "delete_cmd_postfix": "",
     "delete_cmd_prefix": "del ",
     "library": "var_list.py",
     "varRefreshCmd": "print(var_dic_list())"
    },
    "r": {
     "delete_cmd_postfix": ") ",
     "delete_cmd_prefix": "rm(",
     "library": "var_list.r",
     "varRefreshCmd": "cat(var_dic_list()) "
    }
   },
   "types_to_exclude": [
    "module",
    "function",
    "builtin_function_or_method",
    "instance",
    "_Feature"
   ],
   "window_display": false
  }
 },
 "nbformat": 4,
 "nbformat_minor": 5
}
