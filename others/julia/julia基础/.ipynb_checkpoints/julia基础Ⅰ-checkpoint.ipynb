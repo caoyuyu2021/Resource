{
 "cells": [
  {
   "cell_type": "markdown",
   "id": "e099528c",
   "metadata": {},
   "source": [
    "<font face=\"微软雅黑\" color=green size=5>Julia基础Ⅰ</font>"
   ]
  },
  {
   "cell_type": "markdown",
   "id": "77a90d7a",
   "metadata": {},
   "source": [
    "# Julia程序语言介绍"
   ]
  },
  {
   "cell_type": "markdown",
   "id": "d80c1af3",
   "metadata": {},
   "source": [
    "Julia程序语言是一种计算机编程语言， 就像C、C++、Fortran、Java、R、Python、Matlab等程序语言一样。 Julia语言历史比较短，发布于**2012**年， 是MIT的几位作者（Jeff Bezanson, Stefan Karpinski, Viral Shah, Alan Edelman）和全世界的参与者共同制作的。 主网站在https://julialang.org/。\n",
    "\n",
    "Julia与R、Python等一样是动态类型语言， 程序与R、Python一样简单， 但是它先进的设计使得Julia程序的效率基本达到和C、Fortran等强类型语言同样的高效率。 尤其适用于数值计算，在现今的大数据应用中也是特别合适的语言， 排在Python、R之后，已经获得广泛的关注， 现在用户较少只是因为历史还太短。\n",
    "\n",
    "注意， Julia使用即时编译技术， 用**LLVM虚拟机**执行， 这使得其程序在初次运行时好像与R、Python这些动态语言相比响应很慢， 这其实是在进行即时编译， 用编译的等待换取运行时的高效率， 对于不能向量化程序中Julia可以比R、Python这些动态语言快一个数量级。\n",
    "\n",
    "julia的代码文件后缀名为“jl”"
   ]
  },
  {
   "cell_type": "code",
   "execution_count": 1,
   "id": "c79115ae",
   "metadata": {
    "ExecuteTime": {
     "end_time": "2022-06-09T09:34:44.326000+08:00",
     "start_time": "2022-06-09T01:34:43.479Z"
    }
   },
   "outputs": [
    {
     "data": {
      "text/plain": [
       "v\"1.7.1\""
      ]
     },
     "execution_count": 1,
     "metadata": {},
     "output_type": "execute_result"
    }
   ],
   "source": [
    "VERSION"
   ]
  },
  {
   "cell_type": "markdown",
   "id": "a3c6d55b",
   "metadata": {},
   "source": [
    "# Jupyter笔记本软件的安装和使用"
   ]
  },
  {
   "cell_type": "markdown",
   "id": "7d3f4f97",
   "metadata": {},
   "source": [
    "基于Anaconda 3的Jupyter软件安装方法如下：\n",
    "\n",
    "在安装Julia软件之前先安装Anaconda3， 从Anaconda3的程序组中启动Jupyter笔记本软件， 就已经可以支持Python语言的笔记本。\n",
    "\n",
    "然后安装Julia的命令行程序。\n",
    "\n",
    "为了在Julia中安装对已有的Anaconda3中的Jupyter软件的支持， 在anaconda命令行用如下where命令找到python和jupyter软件的安装位置："
   ]
  },
  {
   "cell_type": "raw",
   "id": "083bc471",
   "metadata": {},
   "source": [
    ">where jupyter\n",
    "C:\\Users\\user\\Anaconda3\\Scripts\\jupyter.exe\n",
    ">where python\n",
    "C:\\Users\\user\\Anaconda3\\python.exe\n",
    "C:\\Users\\user\\AppData\\Local\\Microsoft\\WindowsApps\\python.exe"
   ]
  },
  {
   "cell_type": "markdown",
   "id": "53cd4384",
   "metadata": {},
   "source": [
    "其中user是用户在操作系统中的用户名。\n",
    "\n",
    "在Julia中，先设置Python和Jupyter的位置，然后安装和构建IJulia："
   ]
  },
  {
   "cell_type": "raw",
   "id": "3f241e7e",
   "metadata": {},
   "source": [
    "ENV[\"PYTHON\"] = \"C:\\\\Users\\\\user\\\\Anaconda3\\\\python.exe\"\n",
    "ENV[\"JUPYTER\"] = \"C:\\\\Users\\\\user\\\\Anaconda3\\\\Scripts\\\\jupyter.exe\"\n",
    "import Pkg\n",
    "Pkg.add(\"IJulia\")"
   ]
  },
  {
   "cell_type": "markdown",
   "id": "d06a1273",
   "metadata": {},
   "source": [
    "如果中间出错，可以运行"
   ]
  },
  {
   "cell_type": "raw",
   "id": "f58231f0",
   "metadata": {},
   "source": [
    "Pkg.build(\"IJulia\")`"
   ]
  },
  {
   "cell_type": "markdown",
   "id": "27395db9",
   "metadata": {},
   "source": [
    "安装好IJulia以后， 可以从操作系统启动按钮的Anaconda3程序组中启动Jupyter， Jupyter会自动显示在系统默认网络浏览器中（最好是Chrome浏览器）。"
   ]
  },
  {
   "cell_type": "markdown",
   "id": "f6420651",
   "metadata": {},
   "source": [
    "# REPL使用"
   ]
  },
  {
   "cell_type": "markdown",
   "id": "4c8bed3d",
   "metadata": {},
   "source": [
    "在Julia模式REPL模式下，有多种模式：\n"
   ]
  },
  {
   "cell_type": "markdown",
   "id": "afd95312",
   "metadata": {},
   "source": [
    "- help模式：按?进入help模式，可以查看各种帮助文档，相当于执行@doc 命令；  \n",
    "- shell模式：按;进入shell模式，可以执行linux命令；  \n",
    "- package模式：按]进入package模式，可以增加删除各种库；  \n",
    "- 按backspace键返回正常的Julia模式。"
   ]
  },
  {
   "cell_type": "markdown",
   "id": "1ccf6c1c",
   "metadata": {},
   "source": [
    "+ import Pkg; Pkg.status() —— 查看已经安装的包（方法一）  \n",
    "\n",
    "- import Pkg; Pkg.installed() —— 查看已经安装的包（方法二） \n",
    "\n",
    "- import Pkg; Pkg.update() —— 更新已经安装的包  \n",
    "\n",
    "- import Pkg; Pkg.add(“包的名字”) —— 安装在官方上已经注册的包  \n",
    "\n",
    "- import Pkg; Pkg.rm(\"包的名字\") —— 删除已经安装的包  \n",
    "\n",
    "- import Pkg; Pkg.test(\"包的名字\") —— 测试已经安装的包\n",
    "\n",
    "- import Pkg; Pkg.precompile() —— 编译已经安装的包\n",
    "\n",
    "- using 包的名字 —— 使用已经安装的包 \n",
    "\n",
    "- add包的名字@版本号 —— 安装固定版本的包 "
   ]
  },
  {
   "cell_type": "markdown",
   "id": "5fa56fd8",
   "metadata": {},
   "source": [
    "# Julia的基本数据和相应运算"
   ]
  },
  {
   "cell_type": "markdown",
   "id": "1b5125ea",
   "metadata": {},
   "source": [
    "## 整数与浮点数"
   ]
  },
  {
   "cell_type": "markdown",
   "id": "e73a6c9f",
   "metadata": {},
   "source": [
    "Julia程序中的整数值可以直接写成如123或者-123这样。 虽然整数有多种类型， 一般程序中不必特别关心整数常量的具体类型。 Julia允许使用特别长的整数，这时其类型为BigInt。\n",
    "\n",
    "Julia的浮点数可以写成带点的形式如123.0, 1.23, 也可以写成带有10的幂次如1.23e3(表示 1.23×103 ), 1.23e-3(表示 1.23×10−3 )。 这些写法都属于Float64类型的浮点数。 Julia还有其他类型的浮点数，但是科学计算中主要使用Float64类型， 在别的语言中这称为双精度浮点数。\n",
    "\n",
    "Julia还提供了任意精度整数BigInt与任意精度浮点数BigFloat。\n",
    "\n",
    "布尔类型Bool只有两个值：true和false。"
   ]
  },
  {
   "cell_type": "markdown",
   "id": "8c56f0d1",
   "metadata": {},
   "source": [
    "## 四则运算"
   ]
  },
  {
   "cell_type": "markdown",
   "id": "328d35fa",
   "metadata": {},
   "source": [
    "表示加、减、乘、除、乘方的运算符分别为：\n",
    "\n",
    "    +  -   *  /  ^\n",
    "浮点数的四则运算遵循传统的算数运算规则和优先级规定。 用圆括号改变优先级。如"
   ]
  },
  {
   "cell_type": "code",
   "execution_count": 2,
   "id": "83d50bcb",
   "metadata": {
    "ExecuteTime": {
     "end_time": "2022-06-08T14:51:53.445000+08:00",
     "start_time": "2022-06-08T06:51:52.140Z"
    }
   },
   "outputs": [
    {
     "data": {
      "text/plain": [
       "6.039999999999999"
      ]
     },
     "execution_count": 2,
     "metadata": {},
     "output_type": "execute_result"
    }
   ],
   "source": [
    "(1.3 + 2.5)*2.0 - 3.6/1.2 + 1.2^2"
   ]
  },
  {
   "cell_type": "markdown",
   "id": "4e5baeb0",
   "metadata": {},
   "source": [
    "## 整数的四则运算"
   ]
  },
  {
   "cell_type": "markdown",
   "id": "f43173f4",
   "metadata": {},
   "source": [
    "整数加法、减法、乘法结果仍为整数， 这样因为整数的表示范围有限，有可能发生溢出。 如"
   ]
  },
  {
   "cell_type": "code",
   "execution_count": 3,
   "id": "417b7a71",
   "metadata": {
    "ExecuteTime": {
     "end_time": "2022-06-08T14:51:53.627000+08:00",
     "start_time": "2022-06-08T06:51:52.152Z"
    }
   },
   "outputs": [
    {
     "data": {
      "text/plain": [
       "4"
      ]
     },
     "execution_count": 3,
     "metadata": {},
     "output_type": "execute_result"
    }
   ],
   "source": [
    "10 + 2*3 - 3*4"
   ]
  },
  {
   "cell_type": "markdown",
   "id": "7e83f05c",
   "metadata": {},
   "source": [
    "整数用“/”作的除法总是返回浮点数，即使结果是整数也是一样："
   ]
  },
  {
   "cell_type": "code",
   "execution_count": 4,
   "id": "02f9fc46",
   "metadata": {
    "ExecuteTime": {
     "end_time": "2022-06-08T14:51:53.628000+08:00",
     "start_time": "2022-06-08T06:51:52.164Z"
    }
   },
   "outputs": [
    {
     "data": {
      "text/plain": [
       "5.0"
      ]
     },
     "execution_count": 4,
     "metadata": {},
     "output_type": "execute_result"
    }
   ],
   "source": [
    "10/2"
   ]
  },
  {
   "cell_type": "markdown",
   "id": "5d189455",
   "metadata": {},
   "source": [
    "求整数除法的商，用÷运算符, 如"
   ]
  },
  {
   "cell_type": "code",
   "execution_count": 5,
   "id": "11e6725c",
   "metadata": {
    "ExecuteTime": {
     "end_time": "2022-06-08T14:51:53.629000+08:00",
     "start_time": "2022-06-08T06:51:52.176Z"
    }
   },
   "outputs": [
    {
     "data": {
      "text/plain": [
       "1"
      ]
     },
     "execution_count": 5,
     "metadata": {},
     "output_type": "execute_result"
    }
   ],
   "source": [
    "5÷3"
   ]
  },
  {
   "cell_type": "markdown",
   "id": "36d56c50",
   "metadata": {},
   "source": [
    "其中÷的输入方法是在命令行中输入\\div后按TAB键。 这种方法可以输入许多数学符号， 如α(alpha)，π(pi)，∑(sum)，等等。\n",
    "\n",
    "整数用a % b表示a整除b的余数，结果符号总是取a的符号。如"
   ]
  },
  {
   "cell_type": "code",
   "execution_count": 6,
   "id": "7e365825",
   "metadata": {
    "ExecuteTime": {
     "end_time": "2022-06-08T14:51:53.630000+08:00",
     "start_time": "2022-06-08T06:51:52.186Z"
    }
   },
   "outputs": [
    {
     "data": {
      "text/plain": [
       "1"
      ]
     },
     "execution_count": 6,
     "metadata": {},
     "output_type": "execute_result"
    }
   ],
   "source": [
    "10 % 3"
   ]
  },
  {
   "cell_type": "markdown",
   "id": "f64641a3",
   "metadata": {},
   "source": [
    "整数与浮点数的混合运算会将整数转换成浮点数再计算。"
   ]
  },
  {
   "cell_type": "markdown",
   "id": "e2b39ceb",
   "metadata": {},
   "source": [
    "## 数学函数"
   ]
  },
  {
   "cell_type": "markdown",
   "id": "1f5371bf",
   "metadata": {},
   "source": [
    "和其它科学计算语言类似， Julia也支持常见的数学函数， 如log, exp, sqrt, sin, cos, tan等。\n",
    "\n",
    "**round(x)将x四舍五入为整数， round(x, digits=2)将x四舍五入到两位小数。 floor(x)求小于等于x的最大整数（向下取整）， ceil(x)求大于等于x的最小整数（向上取整）**。"
   ]
  },
  {
   "cell_type": "markdown",
   "id": "0c2e06f7",
   "metadata": {},
   "source": [
    "## 字符串"
   ]
  },
  {
   "cell_type": "markdown",
   "id": "70d9cdc2",
   "metadata": {},
   "source": [
    "**单个字符在两边用单撇号界定**，如'A'，'囧'。 字符都是用Unicode编码存储，具体使用UTF-8编码。 每个字符可能使用1到4个字节表示。 字符的类型为Char， 自定义函数中的字符参数可声明为AbstractChar。\n",
    "\n",
    "**零到多个字符组成字符串， 程序中的字符串在两边用双撇号界定**，如 \"A cat\"，\"泰囧\"。 字符串数据类型名称为String， 自定义函数中的字符串参数可声明为AbstractString。\n",
    "\n",
    "**对于占据多行的字符串， 可以在两侧分别用三个双撇号界定**。如"
   ]
  },
  {
   "cell_type": "code",
   "execution_count": 7,
   "id": "cf1607d1",
   "metadata": {
    "ExecuteTime": {
     "end_time": "2022-06-08T14:51:54.127000+08:00",
     "start_time": "2022-06-08T06:51:52.199Z"
    }
   },
   "outputs": [
    {
     "data": {
      "text/plain": [
       "\"这是第一行\\n这是第二行\\n三个双撇号界定的字符串中间的单个双撇号\\\"不需要转义\\n\""
      ]
     },
     "execution_count": 7,
     "metadata": {},
     "output_type": "execute_result"
    }
   ],
   "source": [
    "\"\"\"\n",
    "这是第一行\n",
    "这是第二行\n",
    "三个双撇号界定的字符串中间的单个双撇号\"不需要转义\n",
    "\"\"\""
   ]
  },
  {
   "cell_type": "markdown",
   "id": "5fb7e2e4",
   "metadata": {},
   "source": [
    "注意多行内容的首行不需要紧挨着写在开头的三个双撇号后面同一行内。\n",
    "\n",
    "字符串属于不可修改类型(immutable)， 即不能直接修改字符串的内容， 但可以给保存了字符串的变量赋值为一个新的字符串。\n",
    "\n",
    "用**星号“*”连接两个字符串，也可以将字符连接成字符串**，如"
   ]
  },
  {
   "cell_type": "code",
   "execution_count": 8,
   "id": "1caa8d1a",
   "metadata": {
    "ExecuteTime": {
     "end_time": "2022-06-08T14:51:54.156000+08:00",
     "start_time": "2022-06-08T06:51:52.211Z"
    }
   },
   "outputs": [
    {
     "data": {
      "text/plain": [
       "\"#这是美好的一天。\""
      ]
     },
     "execution_count": 8,
     "metadata": {},
     "output_type": "execute_result"
    }
   ],
   "source": [
    "'#' * \"这是\" * \"美好的一天\" * \"。\""
   ]
  },
  {
   "cell_type": "markdown",
   "id": "0c876572",
   "metadata": {},
   "source": [
    "## 符号类型"
   ]
  },
  {
   "cell_type": "markdown",
   "id": "26803b19",
   "metadata": {},
   "source": [
    "首先 什么是符号（Symbols ）？答案是能够将自定义的语言代码表示为语言本身的数据结构。"
   ]
  },
  {
   "cell_type": "code",
   "execution_count": 9,
   "id": "c6ce40a3",
   "metadata": {
    "ExecuteTime": {
     "end_time": "2022-06-08T14:51:54.896000+08:00",
     "start_time": "2022-06-08T06:51:52.220Z"
    }
   },
   "outputs": [
    {
     "ename": "LoadError",
     "evalue": "UndefVarError: foo not defined",
     "output_type": "error",
     "traceback": [
      "UndefVarError: foo not defined",
      "",
      "Stacktrace:",
      " [1] top-level scope",
      "   @ In[9]:1",
      " [2] eval",
      "   @ .\\boot.jl:373 [inlined]",
      " [3] include_string(mapexpr::typeof(REPL.softscope), mod::Module, code::String, filename::String)",
      "   @ Base .\\loading.jl:1196"
     ]
    }
   ],
   "source": [
    "foo == \"foo\""
   ]
  },
  {
   "cell_type": "markdown",
   "id": "b6f69fcb",
   "metadata": {},
   "source": [
    "符号和字符串之间的区别是左边的foo和右边的“foo”之间的区别。在左边，foo是一个标识符，它的计算结果是当前作用域中绑定到变量foo的值(可以是赋值、函数调用 、可以写成文本值的表达式 等等)。在右边，“foo”是一个字符串文本，它的计算结果是字符串值“foo”。"
   ]
  },
  {
   "cell_type": "code",
   "execution_count": 10,
   "id": "f4b52702",
   "metadata": {
    "ExecuteTime": {
     "end_time": "2022-06-08T14:51:54.904000+08:00",
     "start_time": "2022-06-08T06:51:52.229Z"
    }
   },
   "outputs": [
    {
     "ename": "LoadError",
     "evalue": "UndefVarError: foo not defined",
     "output_type": "error",
     "traceback": [
      "UndefVarError: foo not defined",
      "",
      "Stacktrace:",
      " [1] top-level scope",
      "   @ :0",
      " [2] eval",
      "   @ .\\boot.jl:373 [inlined]",
      " [3] eval(x::Symbol)",
      "   @ Base.MainInclude .\\client.jl:453",
      " [4] top-level scope",
      "   @ In[10]:1",
      " [5] eval",
      "   @ .\\boot.jl:373 [inlined]",
      " [6] include_string(mapexpr::typeof(REPL.softscope), mod::Module, code::String, filename::String)",
      "   @ Base .\\loading.jl:1196"
     ]
    }
   ],
   "source": [
    "eval(:foo)"
   ]
  },
  {
   "cell_type": "code",
   "execution_count": 11,
   "id": "e8f6a11e",
   "metadata": {
    "ExecuteTime": {
     "end_time": "2022-06-08T14:51:54.905000+08:00",
     "start_time": "2022-06-08T06:51:52.234Z"
    }
   },
   "outputs": [
    {
     "data": {
      "text/plain": [
       "\"hello\""
      ]
     },
     "execution_count": 11,
     "metadata": {},
     "output_type": "execute_result"
    }
   ],
   "source": [
    "foo = \"hello\""
   ]
  },
  {
   "cell_type": "code",
   "execution_count": 12,
   "id": "27b80494",
   "metadata": {
    "ExecuteTime": {
     "end_time": "2022-06-08T14:51:54.907000+08:00",
     "start_time": "2022-06-08T06:51:52.240Z"
    }
   },
   "outputs": [
    {
     "data": {
      "text/plain": [
       "\"hello\""
      ]
     },
     "execution_count": 12,
     "metadata": {},
     "output_type": "execute_result"
    }
   ],
   "source": [
    "eval(:foo)"
   ]
  },
  {
   "cell_type": "code",
   "execution_count": 13,
   "id": "4abe3acc",
   "metadata": {
    "ExecuteTime": {
     "end_time": "2022-06-08T14:51:54.910000+08:00",
     "start_time": "2022-06-08T06:51:52.246Z"
    }
   },
   "outputs": [
    {
     "data": {
      "text/plain": [
       "\"foo\""
      ]
     },
     "execution_count": 13,
     "metadata": {},
     "output_type": "execute_result"
    }
   ],
   "source": [
    "eval(\"foo\")"
   ]
  },
  {
   "cell_type": "markdown",
   "id": "91bbc825",
   "metadata": {},
   "source": [
    "符号foo的计算结果取决于绑定到变量foo的对象（如果有,可以是赋值、函数调用 、可以写成文本值的表达式 等等），而“foo”的计算结果总是“foo”。 **如果你想在Julia中构造使用变量的表达式，那么你使用的就是符号**，例如：  "
   ]
  },
  {
   "cell_type": "code",
   "execution_count": 14,
   "id": "03b45148",
   "metadata": {
    "ExecuteTime": {
     "end_time": "2022-06-08T14:51:54.912000+08:00",
     "start_time": "2022-06-08T06:51:52.254Z"
    }
   },
   "outputs": [
    {
     "data": {
      "text/plain": [
       "\"hello\""
      ]
     },
     "execution_count": 14,
     "metadata": {},
     "output_type": "execute_result"
    }
   ],
   "source": [
    "foo = \"hello\"\n",
    "sym = :foo #将foo声明成符号类型，并赋予初始值hello\n",
    "eval(sym) #eval()函数用于输出表达式的值"
   ]
  },
  {
   "cell_type": "code",
   "execution_count": 15,
   "id": "9ce3aef1",
   "metadata": {
    "ExecuteTime": {
     "end_time": "2022-06-08T14:51:54.913000+08:00",
     "start_time": "2022-06-08T06:51:52.259Z"
    }
   },
   "outputs": [
    {
     "data": {
      "text/plain": [
       "3"
      ]
     },
     "execution_count": 15,
     "metadata": {},
     "output_type": "execute_result"
    }
   ],
   "source": [
    "ex = :($sym = \"bar\"; 1 + 2) #foo被重新赋值\n",
    "eval(ex)"
   ]
  },
  {
   "cell_type": "code",
   "execution_count": 16,
   "id": "b7f1e43a",
   "metadata": {
    "ExecuteTime": {
     "end_time": "2022-06-08T14:51:54.913000+08:00",
     "start_time": "2022-06-08T06:51:52.268Z"
    }
   },
   "outputs": [
    {
     "data": {
      "text/plain": [
       "\"bar\""
      ]
     },
     "execution_count": 16,
     "metadata": {},
     "output_type": "execute_result"
    }
   ],
   "source": [
    "foo #重新赋值后的结果"
   ]
  },
  {
   "cell_type": "code",
   "execution_count": 17,
   "id": "b5b6597d",
   "metadata": {
    "ExecuteTime": {
     "end_time": "2022-06-08T14:51:55.053000+08:00",
     "start_time": "2022-06-08T06:51:52.283Z"
    }
   },
   "outputs": [
    {
     "ename": "LoadError",
     "evalue": "syntax: invalid assignment location \"\"foo\"\"",
     "output_type": "error",
     "traceback": [
      "syntax: invalid assignment location \"\"foo\"\"",
      "",
      "Stacktrace:",
      " [1] top-level scope",
      "   @ none:1",
      " [2] eval",
      "   @ .\\boot.jl:373 [inlined]",
      " [3] eval(x::Expr)",
      "   @ Base.MainInclude .\\client.jl:453",
      " [4] top-level scope",
      "   @ In[17]:3",
      " [5] eval",
      "   @ .\\boot.jl:373 [inlined]",
      " [6] include_string(mapexpr::typeof(REPL.softscope), mod::Module, code::String, filename::String)",
      "   @ Base .\\loading.jl:1196"
     ]
    }
   ],
   "source": [
    "sym = \"foo\"\n",
    "ex = :($sym = \"bar\"; 1 + 2)\n",
    "eval(ex) #不会起作用，\"foo\" != \"bar\""
   ]
  },
  {
   "cell_type": "markdown",
   "id": "b22860f3",
   "metadata": {},
   "source": [
    "不起作用的作用的原因很清楚，比如你试图手动分配“foo”=“bar”，它也不会起作用。也就是说sym 必须被赋值为一个 Symbols 时，才会起作用。\n",
    "\n",
    "这是符号（Symbols）的本质：符号用于表示元编程中的变量。当然，一旦将符号作为数据类型，就很容易将它们用作其他用途，例如散列键。"
   ]
  },
  {
   "cell_type": "markdown",
   "id": "6c5543ca",
   "metadata": {},
   "source": [
    "### 冒号:的用法"
   ]
  },
  {
   "cell_type": "markdown",
   "id": "38a2c7be",
   "metadata": {},
   "source": [
    "在 julia 中，只需**在关键字前放置冒号即可写入符号**。"
   ]
  },
  {
   "cell_type": "code",
   "execution_count": 18,
   "id": "07db0cae",
   "metadata": {
    "ExecuteTime": {
     "end_time": "2022-06-08T14:51:55.395000+08:00",
     "start_time": "2022-06-08T06:51:52.299Z"
    }
   },
   "outputs": [
    {
     "data": {
      "text/plain": [
       "Symbol"
      ]
     },
     "execution_count": 18,
     "metadata": {},
     "output_type": "execute_result"
    }
   ],
   "source": [
    "typeof(:sym) #变量sym被声明成了符号类型"
   ]
  },
  {
   "cell_type": "markdown",
   "id": "c511362d",
   "metadata": {},
   "source": [
    "# 变量"
   ]
  },
  {
   "cell_type": "markdown",
   "id": "e9af4dbf",
   "metadata": {},
   "source": [
    "变量名是一个标识符， 用来指向某个值在计算机内存中的存储位置。 变量名可以用英文大小写字母、下划线、数字、允许的Unicode字符， 区分大小写。 **变量名不允许使用空格、句点以及其它标点符号和井号之类的特殊字符**。\n",
    "\n",
    "为兼容性起见，尽可能不要用汉字作为变量名。 **变量名主要使用小写字母、数字和下划线构成， 两个英文单词之间可以用下划线连接**， 如total_number， 也可以在单词之间使用开头字母大写来区分单词， 如totalNumber， 第一个单词仍全部用小写。\n",
    "\n",
    "给变量赋值，即将变量名与一个内存中的内容联系起来，也称为绑定（binding）， 使用等号“=”，等号左边写变量名，右边写要保存到变量中的值。如"
   ]
  },
  {
   "cell_type": "code",
   "execution_count": 19,
   "id": "1857ae78",
   "metadata": {
    "ExecuteTime": {
     "end_time": "2022-06-08T14:51:55.396000+08:00",
     "start_time": "2022-06-08T06:51:52.308Z"
    }
   },
   "outputs": [
    {
     "data": {
      "text/plain": [
       "123"
      ]
     },
     "execution_count": 19,
     "metadata": {},
     "output_type": "execute_result"
    }
   ],
   "source": [
    "x = 123"
   ]
  },
  {
   "cell_type": "code",
   "execution_count": 20,
   "id": "6ca429aa",
   "metadata": {
    "ExecuteTime": {
     "end_time": "2022-06-08T14:51:55.405000+08:00",
     "start_time": "2022-06-08T06:51:52.315Z"
    }
   },
   "outputs": [
    {
     "data": {
      "text/plain": [
       "2.5"
      ]
     },
     "execution_count": 20,
     "metadata": {},
     "output_type": "execute_result"
    }
   ],
   "source": [
    "y = 1+3/2"
   ]
  },
  {
   "cell_type": "code",
   "execution_count": 21,
   "id": "729ad3d5",
   "metadata": {
    "ExecuteTime": {
     "end_time": "2022-06-08T14:51:55.406000+08:00",
     "start_time": "2022-06-08T06:51:52.323Z"
    }
   },
   "outputs": [
    {
     "data": {
      "text/plain": [
       "\"北京市海淀区颐和园路5号\""
      ]
     },
     "execution_count": 21,
     "metadata": {},
     "output_type": "execute_result"
    }
   ],
   "source": [
    "addr10086 = \"北京市海淀区颐和园路5号\""
   ]
  },
  {
   "cell_type": "markdown",
   "id": "4ca50ae3",
   "metadata": {},
   "source": [
    "变量的类型是由它保存的（指向的内存中的）值的类型决定的， **不需要说明变量类型**（Julia允许说明变量类型，但一般不需要）。\n",
    "\n",
    "变量赋值后，就可以参与运算，如："
   ]
  },
  {
   "cell_type": "code",
   "execution_count": 22,
   "id": "94ab29af",
   "metadata": {
    "ExecuteTime": {
     "end_time": "2022-06-08T14:51:55.407000+08:00",
     "start_time": "2022-06-08T06:51:52.330Z"
    }
   },
   "outputs": [
    {
     "data": {
      "text/plain": [
       "128.0"
      ]
     },
     "execution_count": 22,
     "metadata": {},
     "output_type": "execute_result"
    }
   ],
   "source": [
    "x = 123\n",
    "y = 1+3/2\n",
    "x + y*2"
   ]
  },
  {
   "cell_type": "markdown",
   "id": "25da846d",
   "metadata": {},
   "source": [
    "变量名前面紧挨着数字表示相乘，如"
   ]
  },
  {
   "cell_type": "code",
   "execution_count": 23,
   "id": "60839ed7",
   "metadata": {
    "ExecuteTime": {
     "end_time": "2022-06-08T14:51:55.411000+08:00",
     "start_time": "2022-06-08T06:51:52.338Z"
    }
   },
   "outputs": [
    {
     "data": {
      "text/plain": [
       "128.0"
      ]
     },
     "execution_count": 23,
     "metadata": {},
     "output_type": "execute_result"
    }
   ],
   "source": [
    "x + 2y"
   ]
  },
  {
   "cell_type": "markdown",
   "id": "69efbe8b",
   "metadata": {},
   "source": [
    "赋值还有一种计算修改简写方式， 即将变量值进行四则运算后保存回原变量， 格式为x op= expr， 其中op是某种四则运算， 这等价于x = x op expr， 如："
   ]
  },
  {
   "cell_type": "code",
   "execution_count": 24,
   "id": "2b3662bf",
   "metadata": {
    "ExecuteTime": {
     "end_time": "2022-06-08T14:51:55.412000+08:00",
     "start_time": "2022-06-08T06:51:52.346Z"
    }
   },
   "outputs": [
    {
     "data": {
      "text/plain": [
       "223"
      ]
     },
     "execution_count": 24,
     "metadata": {},
     "output_type": "execute_result"
    }
   ],
   "source": [
    "x = 123\n",
    "x += 100\n",
    "x"
   ]
  },
  {
   "cell_type": "markdown",
   "id": "dc954b0d",
   "metadata": {},
   "source": [
    "# 比较和逻辑运算"
   ]
  },
  {
   "cell_type": "markdown",
   "id": "9253524d",
   "metadata": {},
   "source": [
    "## 比较运算"
   ]
  },
  {
   "cell_type": "markdown",
   "id": "806664b5",
   "metadata": {},
   "source": [
    "两个数值之间用如下的比较运算符进行比较：\n",
    "\n",
    "==   !=   <   <=   >   >=\n",
    "分别表示等于、不等于、小于、小于等于、大于、大于等于。 要特别注意“等于”比较用两个等号表示。\n",
    "\n",
    "比较的结果是true(真值)或者false(假值)。 结果类型为布尔型（Bool）。\n",
    "\n",
    "如"
   ]
  },
  {
   "cell_type": "code",
   "execution_count": 25,
   "id": "a555181e",
   "metadata": {
    "ExecuteTime": {
     "end_time": "2022-06-08T14:51:55.656000+08:00",
     "start_time": "2022-06-08T06:51:52.361Z"
    }
   },
   "outputs": [
    {
     "data": {
      "text/plain": [
       "true"
      ]
     },
     "execution_count": 25,
     "metadata": {},
     "output_type": "execute_result"
    }
   ],
   "source": [
    "1 == 1.0"
   ]
  },
  {
   "cell_type": "code",
   "execution_count": 26,
   "id": "ab06fd83",
   "metadata": {
    "ExecuteTime": {
     "end_time": "2022-06-08T14:51:55.663000+08:00",
     "start_time": "2022-06-08T06:51:52.371Z"
    }
   },
   "outputs": [
    {
     "data": {
      "text/plain": [
       "true"
      ]
     },
     "execution_count": 26,
     "metadata": {},
     "output_type": "execute_result"
    }
   ],
   "source": [
    "2 != 2.0001"
   ]
  },
  {
   "cell_type": "code",
   "execution_count": 27,
   "id": "5004d0a7",
   "metadata": {
    "ExecuteTime": {
     "end_time": "2022-06-08T14:51:55.669000+08:00",
     "start_time": "2022-06-08T06:51:52.380Z"
    }
   },
   "outputs": [
    {
     "data": {
      "text/plain": [
       "true"
      ]
     },
     "execution_count": 27,
     "metadata": {},
     "output_type": "execute_result"
    }
   ],
   "source": [
    "3.5 > -1"
   ]
  },
  {
   "cell_type": "code",
   "execution_count": 28,
   "id": "f88fa711",
   "metadata": {
    "ExecuteTime": {
     "end_time": "2022-06-08T14:51:55.674000+08:00",
     "start_time": "2022-06-08T06:51:52.389Z"
    }
   },
   "outputs": [
    {
     "data": {
      "text/plain": [
       "false"
      ]
     },
     "execution_count": 28,
     "metadata": {},
     "output_type": "execute_result"
    }
   ],
   "source": [
    "3.5 < -1.5"
   ]
  },
  {
   "cell_type": "code",
   "execution_count": 29,
   "id": "bfbf09da",
   "metadata": {
    "ExecuteTime": {
     "end_time": "2022-06-08T14:51:55.679000+08:00",
     "start_time": "2022-06-08T06:51:52.398Z"
    }
   },
   "outputs": [
    {
     "data": {
      "text/plain": [
       "false"
      ]
     },
     "execution_count": 29,
     "metadata": {},
     "output_type": "execute_result"
    }
   ],
   "source": [
    "-3.5 >= 1.2"
   ]
  },
  {
   "cell_type": "code",
   "execution_count": 30,
   "id": "056328cc",
   "metadata": {
    "ExecuteTime": {
     "end_time": "2022-06-08T14:51:55.683000+08:00",
     "start_time": "2022-06-08T06:51:52.407Z"
    }
   },
   "outputs": [
    {
     "data": {
      "text/plain": [
       "true"
      ]
     },
     "execution_count": 30,
     "metadata": {},
     "output_type": "execute_result"
    }
   ],
   "source": [
    "-3.5 <= 1.2"
   ]
  },
  {
   "cell_type": "markdown",
   "id": "31b84ef8",
   "metadata": {},
   "source": [
    "两个字符串之间也可以比较， 比较时按字典序比较， 两个字符的次序按照其Unicode编码值比较。如"
   ]
  },
  {
   "cell_type": "code",
   "execution_count": 31,
   "id": "af984fbc",
   "metadata": {
    "ExecuteTime": {
     "end_time": "2022-06-08T14:51:55.684000+08:00",
     "start_time": "2022-06-08T06:51:52.417Z"
    }
   },
   "outputs": [
    {
     "data": {
      "text/plain": [
       "false"
      ]
     },
     "execution_count": 31,
     "metadata": {},
     "output_type": "execute_result"
    }
   ],
   "source": [
    "\"abc\" == \"ABC\""
   ]
  },
  {
   "cell_type": "code",
   "execution_count": 32,
   "id": "be469315",
   "metadata": {
    "ExecuteTime": {
     "end_time": "2022-06-08T14:51:55.703000+08:00",
     "start_time": "2022-06-08T06:51:52.427Z"
    }
   },
   "outputs": [
    {
     "data": {
      "text/plain": [
       "true"
      ]
     },
     "execution_count": 32,
     "metadata": {},
     "output_type": "execute_result"
    }
   ],
   "source": [
    "\"ab\" < \"abc\""
   ]
  },
  {
   "cell_type": "code",
   "execution_count": 33,
   "id": "fdd0c4c6",
   "metadata": {
    "ExecuteTime": {
     "end_time": "2022-06-08T14:51:55.704000+08:00",
     "start_time": "2022-06-08T06:51:52.438Z"
    }
   },
   "outputs": [
    {
     "data": {
      "text/plain": [
       "false"
      ]
     },
     "execution_count": 33,
     "metadata": {},
     "output_type": "execute_result"
    }
   ],
   "source": [
    "\"陕西省\" == \"山西省\""
   ]
  },
  {
   "cell_type": "markdown",
   "id": "b13aaaf2",
   "metadata": {},
   "source": [
    "## 逻辑运算"
   ]
  },
  {
   "cell_type": "markdown",
   "id": "496925de",
   "metadata": {},
   "source": [
    "比较通常有变量参与。如"
   ]
  },
  {
   "cell_type": "code",
   "execution_count": 34,
   "id": "1aade17f",
   "metadata": {
    "ExecuteTime": {
     "end_time": "2022-06-08T14:51:55.704000+08:00",
     "start_time": "2022-06-08T06:51:52.453Z"
    }
   },
   "outputs": [
    {
     "data": {
      "text/plain": [
       "false"
      ]
     },
     "execution_count": 34,
     "metadata": {},
     "output_type": "execute_result"
    }
   ],
   "source": [
    "age = 35; sex=\"F\"\n",
    "age < 18"
   ]
  },
  {
   "cell_type": "code",
   "execution_count": 35,
   "id": "da2863bf",
   "metadata": {
    "ExecuteTime": {
     "end_time": "2022-06-08T14:51:55.705000+08:00",
     "start_time": "2022-06-08T06:51:52.461Z"
    }
   },
   "outputs": [
    {
     "data": {
      "text/plain": [
       "true"
      ]
     },
     "execution_count": 35,
     "metadata": {},
     "output_type": "execute_result"
    }
   ],
   "source": [
    "sex == \"F\""
   ]
  },
  {
   "cell_type": "markdown",
   "id": "be404fe6",
   "metadata": {},
   "source": [
    "有时需要构造复合的条件， 如“年龄不足18岁且性别为女”， “年龄在18岁以上或者性别为男”等。\n",
    "\n",
    "用&&表示要求两个条件同时成立， 用||表示只要两个条件之一成立则结果为真， 用!cond表示cond的反面。 如"
   ]
  },
  {
   "cell_type": "code",
   "execution_count": 36,
   "id": "a5bd876c",
   "metadata": {
    "ExecuteTime": {
     "end_time": "2022-06-08T14:51:55.705000+08:00",
     "start_time": "2022-06-08T06:51:52.471Z"
    }
   },
   "outputs": [
    {
     "data": {
      "text/plain": [
       "false"
      ]
     },
     "execution_count": 36,
     "metadata": {},
     "output_type": "execute_result"
    }
   ],
   "source": [
    "age < 18 && sex == \"F\""
   ]
  },
  {
   "cell_type": "code",
   "execution_count": 37,
   "id": "233cfc90",
   "metadata": {
    "ExecuteTime": {
     "end_time": "2022-06-08T14:51:55.706000+08:00",
     "start_time": "2022-06-08T06:51:52.478Z"
    }
   },
   "outputs": [
    {
     "data": {
      "text/plain": [
       "true"
      ]
     },
     "execution_count": 37,
     "metadata": {},
     "output_type": "execute_result"
    }
   ],
   "source": [
    "age >= 18 || sex == \"M\""
   ]
  },
  {
   "cell_type": "markdown",
   "id": "39b7eb93",
   "metadata": {},
   "source": [
    "# 简单的输出"
   ]
  },
  {
   "cell_type": "markdown",
   "id": "18520323",
   "metadata": {},
   "source": [
    "## println()用法"
   ]
  },
  {
   "cell_type": "markdown",
   "id": "dc36340d",
   "metadata": {},
   "source": [
    "在Julia命令行，键入变量名或者计算表达式直接在下面显示结果。 可以用println()函数显示指定的变量和结果。如"
   ]
  },
  {
   "cell_type": "code",
   "execution_count": 38,
   "id": "0c74c627",
   "metadata": {
    "ExecuteTime": {
     "end_time": "2022-06-08T14:51:55.788000+08:00",
     "start_time": "2022-06-08T06:51:52.487Z"
    }
   },
   "outputs": [
    {
     "name": "stdout",
     "output_type": "stream",
     "text": [
      "228.0\n"
     ]
    }
   ],
   "source": [
    "println(x + y*2)"
   ]
  },
  {
   "cell_type": "markdown",
   "id": "6622595f",
   "metadata": {},
   "source": [
    "**在println()中多个要输出的项用逗号分开。 两项之间没有默认的分隔， 如果需要分隔可以自己写在输出项中**。"
   ]
  },
  {
   "cell_type": "code",
   "execution_count": 39,
   "id": "53fe8d12",
   "metadata": {
    "ExecuteTime": {
     "end_time": "2022-06-08T14:51:55.838000+08:00",
     "start_time": "2022-06-08T06:51:52.494Z"
    }
   },
   "outputs": [
    {
     "name": "stdout",
     "output_type": "stream",
     "text": [
      "x=223 y=2.5 x + y*2 =228.0\n"
     ]
    }
   ],
   "source": [
    "println(\"x=\", x, \" y=\", y, \" x + y*2 =\", x+y*2)"
   ]
  },
  {
   "cell_type": "markdown",
   "id": "5fa785cd",
   "metadata": {},
   "source": [
    "**println()函数输出会将后续输出设置到下一行， 而print()函数与println()类似但是将后续输出设置在当前行**。\n",
    "\n",
    "在命令行运行时， 表达式的值自动显示。 在表达式末尾用分号结尾表示不要显示该表达式的结果。\n",
    "\n",
    "在用include()命令执行整个脚本文件时， 每个表达式的结果默认不自动显示。"
   ]
  },
  {
   "cell_type": "markdown",
   "id": "f8b843b6",
   "metadata": {},
   "source": [
    "## $的用法"
   ]
  },
  {
   "cell_type": "markdown",
   "id": "dcd99296",
   "metadata": {
    "ExecuteTime": {
     "end_time": "2022-05-26T15:38:52.753000+08:00",
     "start_time": "2022-05-26T07:38:52.712Z"
    }
   },
   "source": [
    "**字符串中可以用\\\\$变量名或\\$(表达式)的格式插入变量或表达式的值**。例如"
   ]
  },
  {
   "cell_type": "code",
   "execution_count": 40,
   "id": "24fd91fe",
   "metadata": {
    "ExecuteTime": {
     "end_time": "2022-06-08T14:51:55.839000+08:00",
     "start_time": "2022-06-08T06:51:52.505Z"
    }
   },
   "outputs": [
    {
     "data": {
      "text/plain": [
       "\"My name is John\""
      ]
     },
     "execution_count": 40,
     "metadata": {},
     "output_type": "execute_result"
    }
   ],
   "source": [
    "name=\"John\"\n",
    "\"My name is $name\""
   ]
  },
  {
   "cell_type": "code",
   "execution_count": 41,
   "id": "1fbc41ff",
   "metadata": {
    "ExecuteTime": {
     "end_time": "2022-06-08T14:51:55.840000+08:00",
     "start_time": "2022-06-08T06:51:52.512Z"
    }
   },
   "outputs": [
    {
     "data": {
      "text/plain": [
       "\"100John999\""
      ]
     },
     "execution_count": 41,
     "metadata": {},
     "output_type": "execute_result"
    }
   ],
   "source": [
    "\"100$(name)999\""
   ]
  },
  {
   "cell_type": "markdown",
   "id": "378b0465",
   "metadata": {},
   "source": [
    "# 向量"
   ]
  },
  {
   "cell_type": "markdown",
   "id": "41d27e70",
   "metadata": {},
   "source": [
    "Julia的向量实际是一维数组。 在程序中直接定义一个向量， 只要用方括号内写多个逗号分隔的数值，如"
   ]
  },
  {
   "cell_type": "code",
   "execution_count": 42,
   "id": "ef2ccf3a",
   "metadata": {
    "ExecuteTime": {
     "end_time": "2022-06-08T14:51:56.507000+08:00",
     "start_time": "2022-06-08T06:51:52.523Z"
    }
   },
   "outputs": [
    {
     "data": {
      "text/plain": [
       "5-element Vector{Int64}:\n",
       "  1\n",
       "  3\n",
       "  4\n",
       "  9\n",
       " 13"
      ]
     },
     "execution_count": 42,
     "metadata": {},
     "output_type": "execute_result"
    }
   ],
   "source": [
    "v1 = [1, 3, 4, 9, 13]"
   ]
  },
  {
   "cell_type": "code",
   "execution_count": 43,
   "id": "740998ab",
   "metadata": {
    "ExecuteTime": {
     "end_time": "2022-06-08T14:51:57.122000+08:00",
     "start_time": "2022-06-08T06:51:52.531Z"
    }
   },
   "outputs": [
    {
     "data": {
      "text/plain": [
       "4-element Vector{Float64}:\n",
       " 1.5\n",
       " 3.0\n",
       " 4.0\n",
       " 9.12"
      ]
     },
     "execution_count": 43,
     "metadata": {},
     "output_type": "execute_result"
    }
   ],
   "source": [
    "v2 = [1.5, 3, 4, 9.12]"
   ]
  },
  {
   "cell_type": "markdown",
   "id": "81df3d39",
   "metadata": {},
   "source": [
    "其中v1是整数型的向量， v2是浮点型Float64的向量。\n",
    "\n",
    "用length(x)求向量x的元素个数，如"
   ]
  },
  {
   "cell_type": "code",
   "execution_count": 44,
   "id": "a9ec22e1",
   "metadata": {
    "ExecuteTime": {
     "end_time": "2022-06-08T14:51:57.123000+08:00",
     "start_time": "2022-06-08T06:51:52.539Z"
    }
   },
   "outputs": [
    {
     "data": {
      "text/plain": [
       "5"
      ]
     },
     "execution_count": 44,
     "metadata": {},
     "output_type": "execute_result"
    }
   ],
   "source": [
    "length(v1)"
   ]
  },
  {
   "cell_type": "markdown",
   "id": "c98c45b6",
   "metadata": {},
   "source": [
    "可以用1:5定义一个范围， 在仅使用其中的元素值而不改写时作用与[1, 2, 3, 4, 5]类似。 1:2:9定义带有步长的范围，表示的值与[1, 3, 5, 7, 9]类似。 范围只需要存储必要的开始、结束、步长信息， 所以更节省空间， 但是不能对其元素进行修改。"
   ]
  },
  {
   "cell_type": "code",
   "execution_count": 45,
   "id": "b81c380d",
   "metadata": {
    "ExecuteTime": {
     "end_time": "2022-06-08T14:51:57.436000+08:00",
     "start_time": "2022-06-08T06:51:52.546Z"
    }
   },
   "outputs": [
    {
     "data": {
      "text/plain": [
       "1:5"
      ]
     },
     "execution_count": 45,
     "metadata": {},
     "output_type": "execute_result"
    }
   ],
   "source": [
    "1:5"
   ]
  },
  {
   "cell_type": "code",
   "execution_count": 46,
   "id": "47d02716",
   "metadata": {
    "ExecuteTime": {
     "end_time": "2022-06-08T14:51:57.858000+08:00",
     "start_time": "2022-06-08T06:51:52.553Z"
    }
   },
   "outputs": [
    {
     "data": {
      "text/plain": [
       "1:2:9"
      ]
     },
     "execution_count": 46,
     "metadata": {},
     "output_type": "execute_result"
    }
   ],
   "source": [
    "1:2:9"
   ]
  },
  {
   "cell_type": "markdown",
   "id": "a0c026df",
   "metadata": {},
   "source": [
    "范围不是向量，**用collect()函数可以将范围转换成向量**，如："
   ]
  },
  {
   "cell_type": "code",
   "execution_count": 3,
   "id": "a0c53309",
   "metadata": {
    "ExecuteTime": {
     "end_time": "2022-08-23T14:05:27.990000+08:00",
     "start_time": "2022-08-23T06:05:27.987Z"
    }
   },
   "outputs": [
    {
     "data": {
      "text/plain": [
       "3-element Vector{Int64}:\n",
       " 1\n",
       " 4\n",
       " 7"
      ]
     },
     "execution_count": 3,
     "metadata": {},
     "output_type": "execute_result"
    }
   ],
   "source": [
    "collect(1:3:9)"
   ]
  },
  {
   "cell_type": "markdown",
   "id": "e5329b75",
   "metadata": {},
   "source": [
    "## 向量下标"
   ]
  },
  {
   "cell_type": "markdown",
   "id": "36309f75",
   "metadata": {},
   "source": [
    "若x是向量，i是正整数， x[i]表示向量的第i个元素。 **第一个元素的下标为1，这种规定与R、FORTRAN语言相同， 但不同于Python、C、C++、JAVA语言**。 如"
   ]
  },
  {
   "cell_type": "code",
   "execution_count": 48,
   "id": "188dba66",
   "metadata": {
    "ExecuteTime": {
     "end_time": "2022-06-08T14:51:57.896000+08:00",
     "start_time": "2022-06-08T06:51:52.573Z"
    }
   },
   "outputs": [
    {
     "data": {
      "text/plain": [
       "3"
      ]
     },
     "execution_count": 48,
     "metadata": {},
     "output_type": "execute_result"
    }
   ],
   "source": [
    "v1[2]"
   ]
  },
  {
   "cell_type": "markdown",
   "id": "58986138",
   "metadata": {},
   "source": [
    "用**end**表示最后一个元素位置，如："
   ]
  },
  {
   "cell_type": "code",
   "execution_count": 49,
   "id": "7b075ed6",
   "metadata": {
    "ExecuteTime": {
     "end_time": "2022-06-08T14:51:57.904000+08:00",
     "start_time": "2022-06-08T06:51:52.581Z"
    }
   },
   "outputs": [
    {
     "data": {
      "text/plain": [
       "13"
      ]
     },
     "execution_count": 49,
     "metadata": {},
     "output_type": "execute_result"
    }
   ],
   "source": [
    "v1[end]"
   ]
  },
  {
   "cell_type": "markdown",
   "id": "9095eb5a",
   "metadata": {},
   "source": [
    "对元素赋值将在原地修改元素的值，如"
   ]
  },
  {
   "cell_type": "code",
   "execution_count": 50,
   "id": "9b851a5f",
   "metadata": {
    "ExecuteTime": {
     "end_time": "2022-06-08T14:51:57.906000+08:00",
     "start_time": "2022-06-08T06:51:52.588Z"
    }
   },
   "outputs": [
    {
     "data": {
      "text/plain": [
       "5-element Vector{Int64}:\n",
       "    1\n",
       " -999\n",
       "    4\n",
       "    9\n",
       "   13"
      ]
     },
     "execution_count": 50,
     "metadata": {},
     "output_type": "execute_result"
    }
   ],
   "source": [
    "v1[2] = -999\n",
    "v1"
   ]
  },
  {
   "cell_type": "markdown",
   "id": "306f3967",
   "metadata": {},
   "source": [
    "### 范围作为下标"
   ]
  },
  {
   "cell_type": "markdown",
   "id": "eff86a14",
   "metadata": {},
   "source": [
    "下标可以是一个范围，如"
   ]
  },
  {
   "cell_type": "code",
   "execution_count": 51,
   "id": "41dda47c",
   "metadata": {
    "ExecuteTime": {
     "end_time": "2022-06-08T14:51:57.917000+08:00",
     "start_time": "2022-06-08T06:51:52.596Z"
    }
   },
   "outputs": [
    {
     "data": {
      "text/plain": [
       "3-element Vector{Int64}:\n",
       " -999\n",
       "    4\n",
       "    9"
      ]
     },
     "execution_count": 51,
     "metadata": {},
     "output_type": "execute_result"
    }
   ],
   "source": [
    "v1[2:4]"
   ]
  },
  {
   "cell_type": "markdown",
   "id": "c224bade",
   "metadata": {},
   "source": [
    "在这种范围中，用end表示最后一个下标，如"
   ]
  },
  {
   "cell_type": "code",
   "execution_count": 52,
   "id": "dd67b549",
   "metadata": {
    "ExecuteTime": {
     "end_time": "2022-06-08T14:51:57.921000+08:00",
     "start_time": "2022-06-08T06:51:52.603Z"
    }
   },
   "outputs": [
    {
     "data": {
      "text/plain": [
       "2-element Vector{Int64}:\n",
       "  9\n",
       " 13"
      ]
     },
     "execution_count": 52,
     "metadata": {},
     "output_type": "execute_result"
    }
   ],
   "source": [
    "v1[4:end]"
   ]
  },
  {
   "cell_type": "code",
   "execution_count": 53,
   "id": "05997147",
   "metadata": {
    "ExecuteTime": {
     "end_time": "2022-06-08T14:51:57.923000+08:00",
     "start_time": "2022-06-08T06:51:52.609Z"
    }
   },
   "outputs": [
    {
     "data": {
      "text/plain": [
       "4-element Vector{Int64}:\n",
       "    1\n",
       " -999\n",
       "    4\n",
       "    9"
      ]
     },
     "execution_count": 53,
     "metadata": {},
     "output_type": "execute_result"
    }
   ],
   "source": [
    "v1[1:(end-1)] "
   ]
  },
  {
   "cell_type": "markdown",
   "id": "b3de2e34",
   "metadata": {},
   "source": [
    "### 数组作为下标"
   ]
  },
  {
   "cell_type": "markdown",
   "id": "c0a9901d",
   "metadata": {},
   "source": [
    "向量的下标也可以是一个下标数组，如"
   ]
  },
  {
   "cell_type": "code",
   "execution_count": 54,
   "id": "ff787a4e",
   "metadata": {
    "ExecuteTime": {
     "end_time": "2022-06-08T14:51:57.938000+08:00",
     "start_time": "2022-06-08T06:51:52.617Z"
    }
   },
   "outputs": [
    {
     "data": {
      "text/plain": [
       "3-element Vector{Int64}:\n",
       "  1\n",
       "  4\n",
       " 13"
      ]
     },
     "execution_count": 54,
     "metadata": {},
     "output_type": "execute_result"
    }
   ],
   "source": [
    "v1[[1, 3, 5]]"
   ]
  },
  {
   "cell_type": "markdown",
   "id": "61d70e7f",
   "metadata": {},
   "source": [
    "取出的多个元素可以修改，可以用.=运算符赋值为同一个标量，如："
   ]
  },
  {
   "cell_type": "code",
   "execution_count": 55,
   "id": "5f6ca5de",
   "metadata": {
    "ExecuteTime": {
     "end_time": "2022-06-08T14:51:58.004000+08:00",
     "start_time": "2022-06-08T06:51:52.624Z"
    }
   },
   "outputs": [
    {
     "data": {
      "text/plain": [
       "5-element Vector{Int64}:\n",
       "  0\n",
       "  0\n",
       "  0\n",
       "  9\n",
       " 13"
      ]
     },
     "execution_count": 55,
     "metadata": {},
     "output_type": "execute_result"
    }
   ],
   "source": [
    "v1[1:3] .= 0\n",
    "v1"
   ]
  },
  {
   "cell_type": "markdown",
   "id": "435d34c6",
   "metadata": {},
   "source": [
    "也可以分别赋值，如"
   ]
  },
  {
   "cell_type": "code",
   "execution_count": 56,
   "id": "8803af11",
   "metadata": {
    "ExecuteTime": {
     "end_time": "2022-06-08T14:51:58.040000+08:00",
     "start_time": "2022-06-08T06:51:52.631Z"
    }
   },
   "outputs": [
    {
     "data": {
      "text/plain": [
       "5-element Vector{Int64}:\n",
       " 101\n",
       "   0\n",
       " 303\n",
       "   9\n",
       " 505"
      ]
     },
     "execution_count": 56,
     "metadata": {},
     "output_type": "execute_result"
    }
   ],
   "source": [
    "v1[[1, 3, 5]] = [101, 303, 505]\n",
    "v1"
   ]
  },
  {
   "cell_type": "markdown",
   "id": "08eda7b2",
   "metadata": {},
   "source": [
    "## 向量与标量的运算"
   ]
  },
  {
   "cell_type": "markdown",
   "id": "1ebc6cb7",
   "metadata": {},
   "source": [
    "向量与一个标量作四则运算， 将运算符前面加句点“.”：\n",
    "\n",
    "     .+   .-   .*   ./   .^\n",
    "表示向量的**每个元素分别与该标量作四则运算， 结果仍是向量**。如"
   ]
  },
  {
   "cell_type": "code",
   "execution_count": 57,
   "id": "3617fee7",
   "metadata": {
    "ExecuteTime": {
     "end_time": "2022-06-08T14:51:58.140000+08:00",
     "start_time": "2022-06-08T06:51:52.640Z"
    }
   },
   "outputs": [
    {
     "data": {
      "text/plain": [
       "5-element Vector{Int64}:\n",
       " 101\n",
       " 103\n",
       " 104\n",
       " 109\n",
       " 113"
      ]
     },
     "execution_count": 57,
     "metadata": {},
     "output_type": "execute_result"
    }
   ],
   "source": [
    "v1 = [1, 3, 4, 9, 13]\n",
    "v1 .+ 100"
   ]
  },
  {
   "cell_type": "code",
   "execution_count": 58,
   "id": "b873aac7",
   "metadata": {
    "ExecuteTime": {
     "end_time": "2022-06-08T14:51:58.230000+08:00",
     "start_time": "2022-06-08T06:51:52.646Z"
    }
   },
   "outputs": [
    {
     "data": {
      "text/plain": [
       "5-element Vector{Int64}:\n",
       " 99\n",
       " 97\n",
       " 96\n",
       " 91\n",
       " 87"
      ]
     },
     "execution_count": 58,
     "metadata": {},
     "output_type": "execute_result"
    }
   ],
   "source": [
    "100 .- v1"
   ]
  },
  {
   "cell_type": "code",
   "execution_count": 59,
   "id": "d1476fec",
   "metadata": {
    "ExecuteTime": {
     "end_time": "2022-06-08T14:51:58.333000+08:00",
     "start_time": "2022-06-08T06:51:52.653Z"
    }
   },
   "outputs": [
    {
     "data": {
      "text/plain": [
       "5-element Vector{Int64}:\n",
       "  2\n",
       "  6\n",
       "  8\n",
       " 18\n",
       " 26"
      ]
     },
     "execution_count": 59,
     "metadata": {},
     "output_type": "execute_result"
    }
   ],
   "source": [
    "v1 .* 2"
   ]
  },
  {
   "cell_type": "code",
   "execution_count": 60,
   "id": "1aa0d747",
   "metadata": {
    "ExecuteTime": {
     "end_time": "2022-06-08T14:51:58.407000+08:00",
     "start_time": "2022-06-08T06:51:52.659Z"
    }
   },
   "outputs": [
    {
     "data": {
      "text/plain": [
       "5-element Vector{Float64}:\n",
       " 0.1\n",
       " 0.3\n",
       " 0.4\n",
       " 0.9\n",
       " 1.3"
      ]
     },
     "execution_count": 60,
     "metadata": {},
     "output_type": "execute_result"
    }
   ],
   "source": [
    "v1 ./ 10"
   ]
  },
  {
   "cell_type": "code",
   "execution_count": 61,
   "id": "009a0b62",
   "metadata": {
    "ExecuteTime": {
     "end_time": "2022-06-08T14:51:58.494000+08:00",
     "start_time": "2022-06-08T06:51:52.664Z"
    }
   },
   "outputs": [
    {
     "data": {
      "text/plain": [
       "5-element Vector{Int64}:\n",
       "   1\n",
       "   9\n",
       "  16\n",
       "  81\n",
       " 169"
      ]
     },
     "execution_count": 61,
     "metadata": {},
     "output_type": "execute_result"
    }
   ],
   "source": [
    "v1 .^ 2"
   ]
  },
  {
   "cell_type": "markdown",
   "id": "ca148f29",
   "metadata": {},
   "source": [
    "## 向量与向量的四则运算"
   ]
  },
  {
   "cell_type": "markdown",
   "id": "4cb6d696",
   "metadata": {},
   "source": [
    "两个等长的向量之间作加点的四则运算，表示对应元素作相应的运算。如"
   ]
  },
  {
   "cell_type": "code",
   "execution_count": 62,
   "id": "b1821b37",
   "metadata": {
    "ExecuteTime": {
     "end_time": "2022-06-08T14:51:58.566000+08:00",
     "start_time": "2022-06-08T06:51:52.680Z"
    }
   },
   "outputs": [
    {
     "data": {
      "text/plain": [
       "5-element Vector{Int64}:\n",
       "  3\n",
       "  8\n",
       " 10\n",
       " 16\n",
       " 23"
      ]
     },
     "execution_count": 62,
     "metadata": {},
     "output_type": "execute_result"
    }
   ],
   "source": [
    "v1 = [1, 3, 4, 9, 13]\n",
    "v3 = [2, 5, 6, 7, 10]\n",
    "v1 .+ v3"
   ]
  },
  {
   "cell_type": "markdown",
   "id": "038ba3ce",
   "metadata": {},
   "source": [
    "**向量加减法也可以用不加点的运算符，但对应元素间乘除必须用加点的“.*”和“./”：**"
   ]
  },
  {
   "cell_type": "code",
   "execution_count": 63,
   "id": "6c9efb5d",
   "metadata": {
    "ExecuteTime": {
     "end_time": "2022-06-08T14:51:58.636000+08:00",
     "start_time": "2022-06-08T06:51:52.691Z"
    }
   },
   "outputs": [
    {
     "data": {
      "text/plain": [
       "5-element Vector{Int64}:\n",
       "  3\n",
       "  8\n",
       " 10\n",
       " 16\n",
       " 23"
      ]
     },
     "execution_count": 63,
     "metadata": {},
     "output_type": "execute_result"
    }
   ],
   "source": [
    "v1 + v3"
   ]
  },
  {
   "cell_type": "code",
   "execution_count": 64,
   "id": "2ead5e56",
   "metadata": {
    "ExecuteTime": {
     "end_time": "2022-06-08T14:51:58.706000+08:00",
     "start_time": "2022-06-08T06:51:52.696Z"
    }
   },
   "outputs": [
    {
     "data": {
      "text/plain": [
       "5-element Vector{Int64}:\n",
       " -1\n",
       " -2\n",
       " -2\n",
       "  2\n",
       "  3"
      ]
     },
     "execution_count": 64,
     "metadata": {},
     "output_type": "execute_result"
    }
   ],
   "source": [
    "v1 - v3"
   ]
  },
  {
   "cell_type": "code",
   "execution_count": 65,
   "id": "7dbaaedd",
   "metadata": {
    "ExecuteTime": {
     "end_time": "2022-06-08T14:51:58.779000+08:00",
     "start_time": "2022-06-08T06:51:52.703Z"
    }
   },
   "outputs": [
    {
     "data": {
      "text/plain": [
       "5-element Vector{Int64}:\n",
       "   2\n",
       "  15\n",
       "  24\n",
       "  63\n",
       " 130"
      ]
     },
     "execution_count": 65,
     "metadata": {},
     "output_type": "execute_result"
    }
   ],
   "source": [
    "v1 .* v3"
   ]
  },
  {
   "cell_type": "code",
   "execution_count": 66,
   "id": "78e8b89c",
   "metadata": {
    "ExecuteTime": {
     "end_time": "2022-06-08T14:51:58.826000+08:00",
     "start_time": "2022-06-08T06:51:52.709Z"
    }
   },
   "outputs": [
    {
     "data": {
      "text/plain": [
       "5-element Vector{Float64}:\n",
       " 0.5\n",
       " 0.6\n",
       " 0.6666666666666666\n",
       " 1.2857142857142858\n",
       " 1.3"
      ]
     },
     "execution_count": 66,
     "metadata": {},
     "output_type": "execute_result"
    }
   ],
   "source": [
    "v1 ./ v3"
   ]
  },
  {
   "cell_type": "markdown",
   "id": "030b2d94",
   "metadata": {},
   "source": [
    "## 向量的比较运算"
   ]
  },
  {
   "cell_type": "markdown",
   "id": "b69a99a8",
   "metadata": {},
   "source": [
    "两个标量之间可以进行如下的比较运算：\n",
    "\n",
    "    ==   !=  =  <  <=  >  >=\n",
    "向量每个元素与标量之间、两个向量对应元素之间比较， 只要在前面的比较运算符前面增加句点：\n",
    "\n",
    "    .==  . !=  .<  .<=  .>  .>=\n",
    "标量比较结果之间可以用&&表示“同时成立”, ||表示“至少其中之一成立”。 布尔型标量与向量、向量之间可以用.&表示元素间“与”， .|表示元素间“或”。"
   ]
  },
  {
   "cell_type": "markdown",
   "id": "b91777a0",
   "metadata": {},
   "source": [
    "## 向量初始化"
   ]
  },
  {
   "cell_type": "markdown",
   "id": "a6421776",
   "metadata": {},
   "source": [
    "用zeros(n)可以生成元素类型为Float64、元素值为0、长度为n的向量，如"
   ]
  },
  {
   "cell_type": "code",
   "execution_count": 67,
   "id": "5ee5786f",
   "metadata": {
    "ExecuteTime": {
     "end_time": "2022-06-08T14:51:58.852000+08:00",
     "start_time": "2022-06-08T06:51:52.720Z"
    }
   },
   "outputs": [
    {
     "data": {
      "text/plain": [
       "3-element Vector{Float64}:\n",
       " 0.0\n",
       " 0.0\n",
       " 0.0"
      ]
     },
     "execution_count": 67,
     "metadata": {},
     "output_type": "execute_result"
    }
   ],
   "source": [
    "zeros(3)"
   ]
  },
  {
   "cell_type": "markdown",
   "id": "85f90f45",
   "metadata": {},
   "source": [
    "用zeros(Int64, 3)可以生成指定类型的（这里是Int64）初始化向量。如"
   ]
  },
  {
   "cell_type": "code",
   "execution_count": 68,
   "id": "ed3548b6",
   "metadata": {
    "ExecuteTime": {
     "end_time": "2022-06-08T14:51:58.863000+08:00",
     "start_time": "2022-06-08T06:51:52.727Z"
    }
   },
   "outputs": [
    {
     "data": {
      "text/plain": [
       "3-element Vector{Int64}:\n",
       " 0\n",
       " 0\n",
       " 0"
      ]
     },
     "execution_count": 68,
     "metadata": {},
     "output_type": "execute_result"
    }
   ],
   "source": [
    "zeros(Int64, 3)"
   ]
  },
  {
   "cell_type": "markdown",
   "id": "f2bf6a08",
   "metadata": {},
   "source": [
    "用Vector{Float64}(undef, n)可以生成元素类型为Float64的长度为n的向量， 元素值未初始化，如"
   ]
  },
  {
   "cell_type": "code",
   "execution_count": 69,
   "id": "e897a7cd",
   "metadata": {
    "ExecuteTime": {
     "end_time": "2022-06-08T14:51:58.865000+08:00",
     "start_time": "2022-06-08T06:51:52.735Z"
    }
   },
   "outputs": [
    {
     "data": {
      "text/plain": [
       "3-element Vector{Float64}:\n",
       " 0.0\n",
       " 2.0e-323\n",
       " 5.4365532167065e-311"
      ]
     },
     "execution_count": 69,
     "metadata": {},
     "output_type": "execute_result"
    }
   ],
   "source": [
    "Vector{Float64}(undef, 3)"
   ]
  },
  {
   "cell_type": "markdown",
   "id": "ac5e6505",
   "metadata": {},
   "source": [
    "类似可以生成其它元素类型的元素值未初始化向量，如"
   ]
  },
  {
   "cell_type": "code",
   "execution_count": 70,
   "id": "56893f93",
   "metadata": {
    "ExecuteTime": {
     "end_time": "2022-06-08T14:51:58.868000+08:00",
     "start_time": "2022-06-08T06:51:52.743Z"
    }
   },
   "outputs": [
    {
     "data": {
      "text/plain": [
       "3-element Vector{Int64}:\n",
       " 1\n",
       " 0\n",
       " 1"
      ]
     },
     "execution_count": 70,
     "metadata": {},
     "output_type": "execute_result"
    }
   ],
   "source": [
    "Vector{Int}(undef, 3)"
   ]
  },
  {
   "cell_type": "markdown",
   "id": "fff61443",
   "metadata": {},
   "source": [
    "用这样的办法为向量分配存储空间后可以随后再填入元素值。\n",
    "\n",
    "可以用collect()将一个范围转换成可修改的向量。"
   ]
  },
  {
   "cell_type": "markdown",
   "id": "2d8d51fd",
   "metadata": {},
   "source": [
    "## 向量的循环遍历"
   ]
  },
  {
   "cell_type": "markdown",
   "id": "c59a2ddc",
   "metadata": {},
   "source": [
    "**可以用for循环和eachindex()对向量的每个元素下标遍历访问**。 使用in关键字，格式如"
   ]
  },
  {
   "cell_type": "code",
   "execution_count": 71,
   "id": "17aca21a",
   "metadata": {
    "ExecuteTime": {
     "end_time": "2022-06-08T14:51:58.952000+08:00",
     "start_time": "2022-06-08T06:51:52.754Z"
    }
   },
   "outputs": [
    {
     "name": "stdout",
     "output_type": "stream",
     "text": [
      "v1[1] = 1\n",
      "v1[2] = 3\n",
      "v1[3] = 4\n",
      "v1[4] = 9\n",
      "v1[5] = 13\n"
     ]
    }
   ],
   "source": [
    "for i in eachindex(v1)\n",
    "  println(\"v1[\", i, \"] = \", v1[i])\n",
    "end"
   ]
  },
  {
   "cell_type": "markdown",
   "id": "35b80075",
   "metadata": {},
   "source": [
    "这里i是循环产生的向量下标。\n",
    "\n",
    "也可以直接写下标范围，使用“=”或者in，如："
   ]
  },
  {
   "cell_type": "code",
   "execution_count": 72,
   "id": "17f95544",
   "metadata": {
    "ExecuteTime": {
     "end_time": "2022-06-08T14:51:58.984000+08:00",
     "start_time": "2022-06-08T06:51:52.761Z"
    }
   },
   "outputs": [
    {
     "name": "stdout",
     "output_type": "stream",
     "text": [
      "v1[1] = 1\n",
      "v1[2] = 3\n",
      "v1[3] = 4\n",
      "v1[4] = 9\n",
      "v1[5] = 13\n"
     ]
    }
   ],
   "source": [
    "for i = 1:length(v1)\n",
    "    println(\"v1[\", i, \"] = \", v1[i])\n",
    "end"
   ]
  },
  {
   "cell_type": "markdown",
   "id": "76671d48",
   "metadata": {},
   "source": [
    "也可以不利用下标而是直接对元素遍历，如"
   ]
  },
  {
   "cell_type": "code",
   "execution_count": 73,
   "id": "a9d92bed",
   "metadata": {
    "ExecuteTime": {
     "end_time": "2022-06-08T14:51:59.064000+08:00",
     "start_time": "2022-06-08T06:51:52.770Z"
    }
   },
   "outputs": [
    {
     "name": "stdout",
     "output_type": "stream",
     "text": [
      "1\n",
      "3\n",
      "4\n",
      "9\n",
      "13\n"
     ]
    }
   ],
   "source": [
    "for xi in v1\n",
    "    println(xi)\n",
    "end"
   ]
  },
  {
   "cell_type": "markdown",
   "id": "f95a5485",
   "metadata": {},
   "source": [
    "## 向量的输出"
   ]
  },
  {
   "cell_type": "markdown",
   "id": "337e0d29",
   "metadata": {},
   "source": [
    "在脚本文件中， 为了显示某个向量， 可以用**show()** 函数， 比如，设v2 = [1.5, 3, 4, 9.12]："
   ]
  },
  {
   "cell_type": "code",
   "execution_count": 74,
   "id": "ee92a54f",
   "metadata": {
    "ExecuteTime": {
     "end_time": "2022-06-08T14:51:59.254000+08:00",
     "start_time": "2022-06-08T06:51:52.778Z"
    }
   },
   "outputs": [
    {
     "name": "stdout",
     "output_type": "stream",
     "text": [
      "[1.5, 3.0, 4.0, 9.12]"
     ]
    }
   ],
   "source": [
    "v2 = [1.5, 3, 4, 9.12]\n",
    "show(v2)"
   ]
  },
  {
   "cell_type": "markdown",
   "id": "a5c8656f",
   "metadata": {},
   "source": [
    "为了将向量v2按文本格式保存到文件“tmp1.txt”中， 可用：\n",
    "  \n",
    "using DelimitedFiles  \n",
    "writedlm(\"tmp1.txt\", v2, ' ')  \n",
    "结果文件中每个数占一行。"
   ]
  },
  {
   "cell_type": "markdown",
   "id": "0f0def2b",
   "metadata": {},
   "source": [
    "## 向量的输入"
   ]
  },
  {
   "cell_type": "markdown",
   "id": "9e0b5f57",
   "metadata": {},
   "source": [
    "假设文件“vecstore.txt”中包含如下的内容：\n",
    "\n",
    "1.2 -5  3.6  \n",
    "7.8 9.12 4.11  \n",
    "可以用如下代码将文件中的数据读入到一个向量v4中：\n",
    "  \n",
    "using DelimitedFiles  \n",
    "v4 = readdlm(\"vecstore.txt\")[:]; v4"
   ]
  },
  {
   "cell_type": "markdown",
   "id": "86340ffd",
   "metadata": {},
   "source": [
    "## 向量类型的变量"
   ]
  },
  {
   "cell_type": "markdown",
   "id": "b07cd4ac",
   "metadata": {},
   "source": [
    "由于Julia的变量仅仅是向实际存储空间的绑定， 所以两个变量可以绑定到同一个向量的存储空间， 修改了其中一个变量的元素值，则另一个变量的元素也被修改了。 如"
   ]
  },
  {
   "cell_type": "code",
   "execution_count": 75,
   "id": "ecb7351f",
   "metadata": {
    "ExecuteTime": {
     "end_time": "2022-06-08T14:51:59.256000+08:00",
     "start_time": "2022-06-08T06:51:52.792Z"
    }
   },
   "outputs": [
    {
     "data": {
      "text/plain": [
       "3-element Vector{Int64}:\n",
       "   1\n",
       " 100\n",
       "   3"
      ]
     },
     "execution_count": 75,
     "metadata": {},
     "output_type": "execute_result"
    }
   ],
   "source": [
    "x1 = [1,2,3]\n",
    "x2 = x1\n",
    "x2[2] = 100\n",
    "x1"
   ]
  },
  {
   "cell_type": "markdown",
   "id": "cad2c9c0",
   "metadata": {},
   "source": [
    "用===可以比较两个变量是否同一对象， 如："
   ]
  },
  {
   "cell_type": "code",
   "execution_count": 76,
   "id": "7a1778cb",
   "metadata": {
    "ExecuteTime": {
     "end_time": "2022-06-08T14:51:59.257000+08:00",
     "start_time": "2022-06-08T06:51:52.799Z"
    }
   },
   "outputs": [
    {
     "data": {
      "text/plain": [
       "true"
      ]
     },
     "execution_count": 76,
     "metadata": {},
     "output_type": "execute_result"
    }
   ],
   "source": [
    "x2 === x1"
   ]
  },
  {
   "cell_type": "markdown",
   "id": "24f8bab8",
   "metadata": {},
   "source": [
    "允许两个变量指向同一个对象是有用的， 尤其在函数自变量传递时， 但是在一般程序中这种作法容易引起混淆。 向量（或者数组）作为函数自变量时， 调用函数时传递的是引用， 在函数内可以修改传递进来的向量的元素值。\n",
    "\n",
    "**如果需要制作数组的副本， 用copy()函数**。 如"
   ]
  },
  {
   "cell_type": "code",
   "execution_count": 77,
   "id": "50aab297",
   "metadata": {
    "ExecuteTime": {
     "end_time": "2022-06-08T14:51:59.265000+08:00",
     "start_time": "2022-06-08T06:51:52.809Z"
    }
   },
   "outputs": [
    {
     "data": {
      "text/plain": [
       "3-element Vector{Int64}:\n",
       " 1\n",
       " 2\n",
       " 3"
      ]
     },
     "execution_count": 77,
     "metadata": {},
     "output_type": "execute_result"
    }
   ],
   "source": [
    "x1 = [1,2,3]\n",
    "x2 = copy(x1)\n",
    "x2[2] = -100\n",
    "x1"
   ]
  },
  {
   "cell_type": "code",
   "execution_count": 78,
   "id": "f987759a",
   "metadata": {
    "ExecuteTime": {
     "end_time": "2022-06-08T14:51:59.267000+08:00",
     "start_time": "2022-06-08T06:51:52.816Z"
    }
   },
   "outputs": [
    {
     "data": {
      "text/plain": [
       "false"
      ]
     },
     "execution_count": 78,
     "metadata": {},
     "output_type": "execute_result"
    }
   ],
   "source": [
    "x2 === x1"
   ]
  },
  {
   "cell_type": "markdown",
   "id": "dff5d7e5",
   "metadata": {},
   "source": [
    "## 向量的有关函数"
   ]
  },
  {
   "cell_type": "markdown",
   "id": "58951b04",
   "metadata": {},
   "source": [
    "若x是向量， sum(x)求各个元素的和， prod(x)求各个元素的乘积。\n",
    "\n",
    "rand(n)可以用来生成n个标准均匀分布的随机数， 结果为双精度向量。 randn(n)可以用来生成n个标准正态分布的随机数， 结果为双精度向量。\n",
    "\n",
    "为了判断元素x是否属于数组v，可以用表达式x in v判断， 结果为布尔值。\n",
    "\n",
    "若v是向量，x是一个元素， **push!(v, x)修改向量v， 将x添加到向量v的末尾**。"
   ]
  },
  {
   "cell_type": "markdown",
   "id": "e363f193",
   "metadata": {},
   "source": [
    " **函数名以叹号结尾时此函数会修改其第一个自变量**。 如"
   ]
  },
  {
   "cell_type": "code",
   "execution_count": 79,
   "id": "416989f4",
   "metadata": {
    "ExecuteTime": {
     "end_time": "2022-06-08T14:51:59.285000+08:00",
     "start_time": "2022-06-08T06:51:52.827Z"
    }
   },
   "outputs": [
    {
     "data": {
      "text/plain": [
       "4-element Vector{Int64}:\n",
       " 2\n",
       " 3\n",
       " 5\n",
       " 7"
      ]
     },
     "execution_count": 79,
     "metadata": {},
     "output_type": "execute_result"
    }
   ],
   "source": [
    "v3 = [2,3,5]\n",
    "push!(v3, 7)\n",
    "v3"
   ]
  },
  {
   "cell_type": "markdown",
   "id": "759689d2",
   "metadata": {},
   "source": [
    "若v是向量，u也是一个向量， **append!(v, u)修改向量v， 将u的所有元素添加到向量v的末尾**。 如"
   ]
  },
  {
   "cell_type": "code",
   "execution_count": 80,
   "id": "0daed14a",
   "metadata": {
    "ExecuteTime": {
     "end_time": "2022-06-08T14:51:59.300000+08:00",
     "start_time": "2022-06-08T06:51:52.837Z"
    }
   },
   "outputs": [
    {
     "data": {
      "text/plain": [
       "5-element Vector{Int64}:\n",
       "  2\n",
       "  3\n",
       "  5\n",
       "  7\n",
       " 11"
      ]
     },
     "execution_count": 80,
     "metadata": {},
     "output_type": "execute_result"
    }
   ],
   "source": [
    "v3 = [2,3,5]\n",
    "append!(v3, [7,11])\n",
    "v3"
   ]
  },
  {
   "cell_type": "markdown",
   "id": "b1c349e9",
   "metadata": {},
   "source": [
    "**pop!(v)** 可以返回v的最后一个元素并从v中删除此元素。 popfirst!(v)类似。 **splice!(v, k)** 函数可以返回指定下标位置的元素并从v中删除此元素。 **insert!(v, k, xi)** 函数可以在向量v的指定下标插入指定的一个元素。\n",
    "\n",
    "**sort(v)** 返回向量v按**升序**排序的结果； **sort!(v)** 直接修改v，将其元素按升序排序。 如果要用降序排序，可以加选项**rev=true**。 **sortperm(v)** 返回将v的元素从小到大排序所需要的**下标序列**， 在多个等长向量按照其中一个的次序同时排序时此函数有用。"
   ]
  },
  {
   "cell_type": "markdown",
   "id": "e2c45f87",
   "metadata": {},
   "source": [
    "## 向量化函数"
   ]
  },
  {
   "cell_type": "markdown",
   "id": "75ac7474",
   "metadata": {},
   "source": [
    "许多现代的数据分析语言， 如Python, Matlab, R等都存在循环的效率比编译代码低一两个数量级的问题， 在这些语言中， 如果将对向量和矩阵元素的操作向量化， 即以向量和矩阵整体来执行计算， 就可以利用语言内建的向量化计算获得与编译代码相近的执行效率。\n",
    "\n",
    "Julia语言依靠其LLVM动态编译功能， 对向量和矩阵元素循环时不损失效率， 用显式循环处理向量、矩阵与向量化做法效率相近， 有时显式循环效率更高。 但是，向量化计算的程序代码更简洁， 比如上面的两个向量之间的四则运算的加点格式。\n",
    "\n",
    "**Julia中的函数， 包括自定义函数， 如果可以对单个标量执行， 将函数名加后缀句点后， 就可以变成向量化版本， 对向量和矩阵执行**。 如"
   ]
  },
  {
   "cell_type": "code",
   "execution_count": 81,
   "id": "8e6ecbb6",
   "metadata": {
    "ExecuteTime": {
     "end_time": "2022-06-08T14:51:59.336000+08:00",
     "start_time": "2022-06-08T06:51:52.847Z"
    }
   },
   "outputs": [
    {
     "data": {
      "text/plain": [
       "3-element Vector{Float64}:\n",
       " 1.0\n",
       " 1.4142135623730951\n",
       " 1.7320508075688772"
      ]
     },
     "execution_count": 81,
     "metadata": {},
     "output_type": "execute_result"
    }
   ],
   "source": [
    "sqrt.([1,2,3])"
   ]
  },
  {
   "cell_type": "markdown",
   "id": "aec87be6",
   "metadata": {},
   "source": [
    "这种向量化对于多个自变量的函数也成立。"
   ]
  },
  {
   "cell_type": "markdown",
   "id": "bd8c95a1",
   "metadata": {},
   "source": [
    "# 元组"
   ]
  },
  {
   "cell_type": "markdown",
   "id": "916c2950",
   "metadata": {},
   "source": [
    "与向量类似的一种数据类型称为元组（tuple）。 如"
   ]
  },
  {
   "cell_type": "code",
   "execution_count": 82,
   "id": "b6ef93f0",
   "metadata": {
    "ExecuteTime": {
     "end_time": "2022-06-08T14:51:59.643000+08:00",
     "start_time": "2022-06-08T06:51:52.857Z"
    }
   },
   "outputs": [
    {
     "data": {
      "text/plain": [
       "(1, 2, 3)"
      ]
     },
     "execution_count": 82,
     "metadata": {},
     "output_type": "execute_result"
    }
   ],
   "source": [
    "(1, 2, 3)"
   ]
  },
  {
   "cell_type": "code",
   "execution_count": 83,
   "id": "76a004e5",
   "metadata": {
    "ExecuteTime": {
     "end_time": "2022-06-08T14:52:00.008000+08:00",
     "start_time": "2022-06-08T06:51:52.864Z"
    }
   },
   "outputs": [
    {
     "data": {
      "text/plain": [
       "(1, \"John\", 5.1)"
      ]
     },
     "execution_count": 83,
     "metadata": {},
     "output_type": "execute_result"
    }
   ],
   "source": [
    "(1, \"John\", 5.1)"
   ]
  },
  {
   "cell_type": "markdown",
   "id": "edb6f403",
   "metadata": {},
   "source": [
    "元组的元素不要求属于同一类型。\n",
    "\n",
    "单个元素的元组要有逗号分隔符，如(1,)是单个元素的元组， 而(1)不是元组。\n",
    "\n",
    "元组表面上类似于一维数组， 但是元组属于不可修改(immutable)类型， 不能修改其中的元素。 其存储也与数组不同。\n",
    "\n",
    "可以用tuple()函数生成元组。 可以用类似一维数组的方法对元组取子集， 如x[1], x[2:3]等。 如："
   ]
  },
  {
   "cell_type": "code",
   "execution_count": 84,
   "id": "f72a09e0",
   "metadata": {
    "ExecuteTime": {
     "end_time": "2022-06-08T14:52:00.020000+08:00",
     "start_time": "2022-06-08T06:51:52.872Z"
    }
   },
   "outputs": [
    {
     "data": {
      "text/plain": [
       "NTuple{4, Char}"
      ]
     },
     "execution_count": 84,
     "metadata": {},
     "output_type": "execute_result"
    }
   ],
   "source": [
    "x = ('a', 'b', 'c', 'd')\n",
    "typeof(x)"
   ]
  },
  {
   "cell_type": "code",
   "execution_count": 85,
   "id": "06c8a27f",
   "metadata": {
    "ExecuteTime": {
     "end_time": "2022-06-08T14:52:00.403000+08:00",
     "start_time": "2022-06-08T06:51:52.878Z"
    }
   },
   "outputs": [
    {
     "data": {
      "text/plain": [
       "'a': ASCII/Unicode U+0061 (category Ll: Letter, lowercase)"
      ]
     },
     "execution_count": 85,
     "metadata": {},
     "output_type": "execute_result"
    }
   ],
   "source": [
    "x[1]"
   ]
  },
  {
   "cell_type": "code",
   "execution_count": 86,
   "id": "08772a71",
   "metadata": {
    "ExecuteTime": {
     "end_time": "2022-06-08T14:52:00.762000+08:00",
     "start_time": "2022-06-08T06:51:52.884Z"
    }
   },
   "outputs": [
    {
     "data": {
      "text/plain": [
       "('b', 'c')"
      ]
     },
     "execution_count": 86,
     "metadata": {},
     "output_type": "execute_result"
    }
   ],
   "source": [
    "x[2:3]"
   ]
  },
  {
   "cell_type": "markdown",
   "id": "f6aea09c",
   "metadata": {},
   "source": [
    "元组可以看作一个整体参加比较， 比较方法类似于字典序，如："
   ]
  },
  {
   "cell_type": "code",
   "execution_count": 87,
   "id": "3bb19d03",
   "metadata": {
    "ExecuteTime": {
     "end_time": "2022-06-08T14:52:00.770000+08:00",
     "start_time": "2022-06-08T06:51:52.895Z"
    }
   },
   "outputs": [
    {
     "data": {
      "text/plain": [
       "true"
      ]
     },
     "execution_count": 87,
     "metadata": {},
     "output_type": "execute_result"
    }
   ],
   "source": [
    "(1, 3, 5) < (1, 3, 6)"
   ]
  },
  {
   "cell_type": "markdown",
   "id": "17ccbe92",
   "metadata": {},
   "source": [
    "可以利用元组写法对变量同时赋值， 如"
   ]
  },
  {
   "cell_type": "code",
   "execution_count": 88,
   "id": "c62b3cb1",
   "metadata": {
    "ExecuteTime": {
     "end_time": "2022-06-08T14:52:00.793000+08:00",
     "start_time": "2022-06-08T06:51:52.903Z"
    }
   },
   "outputs": [
    {
     "name": "stdout",
     "output_type": "stream",
     "text": [
      "a=13 b=17\n"
     ]
    }
   ],
   "source": [
    "a, b = 13, 17\n",
    "println(\"a=\", a, \" b=\", b)"
   ]
  },
  {
   "cell_type": "markdown",
   "id": "62b60688",
   "metadata": {},
   "source": [
    "元组赋值的右侧也可以是数组等其它序列类型，如"
   ]
  },
  {
   "cell_type": "code",
   "execution_count": 89,
   "id": "4a3880cb",
   "metadata": {
    "ExecuteTime": {
     "end_time": "2022-06-08T14:52:00.799000+08:00",
     "start_time": "2022-06-08T06:51:52.912Z"
    }
   },
   "outputs": [
    {
     "name": "stdout",
     "output_type": "stream",
     "text": [
      "a=19 b=23\n"
     ]
    }
   ],
   "source": [
    "a, b = [19, 23]\n",
    "println(\"a=\", a, \" b=\", b)"
   ]
  },
  {
   "cell_type": "markdown",
   "id": "66c704bc",
   "metadata": {},
   "source": [
    "自定义函数可以返回元组， 从而返回多个值，见下面的自定义函数章节。"
   ]
  },
  {
   "cell_type": "markdown",
   "id": "c98971e3",
   "metadata": {},
   "source": [
    "# 字典"
   ]
  },
  {
   "cell_type": "markdown",
   "id": "8ed9d5d0",
   "metadata": {},
   "source": [
    "Julia提供了一种Dict数据类型， 是映射的集合， 每个元素是从一个“键值”到另一个“值”的映射， 元素之间没有固定次序。如"
   ]
  },
  {
   "cell_type": "code",
   "execution_count": 90,
   "id": "5757d79c",
   "metadata": {
    "ExecuteTime": {
     "end_time": "2022-06-08T14:52:01.556000+08:00",
     "start_time": "2022-06-08T06:51:52.924Z"
    }
   },
   "outputs": [
    {
     "data": {
      "text/plain": [
       "Dict{String, Any} with 2 entries:\n",
       "  \"name\" => \"Li Ming\"\n",
       "  \"age\"  => 18"
      ]
     },
     "execution_count": 90,
     "metadata": {},
     "output_type": "execute_result"
    }
   ],
   "source": [
    "d = Dict(\"name\" => \"Li Ming\", \"age\" => 18)"
   ]
  },
  {
   "cell_type": "markdown",
   "id": "dc4586eb",
   "metadata": {},
   "source": [
    "访问单个元素如"
   ]
  },
  {
   "cell_type": "code",
   "execution_count": 91,
   "id": "f8b9377a",
   "metadata": {
    "ExecuteTime": {
     "end_time": "2022-06-08T14:52:01.558000+08:00",
     "start_time": "2022-06-08T06:51:52.935Z"
    }
   },
   "outputs": [
    {
     "data": {
      "text/plain": [
       "18"
      ]
     },
     "execution_count": 91,
     "metadata": {},
     "output_type": "execute_result"
    }
   ],
   "source": [
    "d[\"age\"]"
   ]
  },
  {
   "cell_type": "markdown",
   "id": "d183ea86",
   "metadata": {},
   "source": [
    "这种功能类似于R语言中用元素名作为下标, 但R中还可以用序号访问元素， 而字典中的元素没有次序，不能用序号访问。\n",
    "\n",
    "读取字典中单个键的对应值也可以用**get(d, key, default)** 的格式， 其中**default是元素不存在时的返回值**。如："
   ]
  },
  {
   "cell_type": "code",
   "execution_count": 92,
   "id": "174c1977",
   "metadata": {
    "ExecuteTime": {
     "end_time": "2022-06-08T14:52:01.563000+08:00",
     "start_time": "2022-06-08T06:51:52.946Z"
    }
   },
   "outputs": [
    {
     "data": {
      "text/plain": [
       "18"
      ]
     },
     "execution_count": 92,
     "metadata": {},
     "output_type": "execute_result"
    }
   ],
   "source": [
    "get(d, \"age\", \"\")"
   ]
  },
  {
   "cell_type": "markdown",
   "id": "a5ce6f90",
   "metadata": {},
   "source": [
    "可以用**haskey(d, key)** 检查某个键值是否存在，如："
   ]
  },
  {
   "cell_type": "code",
   "execution_count": 93,
   "id": "5c6147d0",
   "metadata": {
    "ExecuteTime": {
     "end_time": "2022-06-08T14:52:01.564000+08:00",
     "start_time": "2022-06-08T06:51:52.955Z"
    }
   },
   "outputs": [
    {
     "data": {
      "text/plain": [
       "false"
      ]
     },
     "execution_count": 93,
     "metadata": {},
     "output_type": "execute_result"
    }
   ],
   "source": [
    "haskey(d, \"gender\")"
   ]
  },
  {
   "cell_type": "markdown",
   "id": "904dbbf9",
   "metadata": {},
   "source": [
    "给不存在的键值赋值就可以增加一对映射，如"
   ]
  },
  {
   "cell_type": "code",
   "execution_count": 94,
   "id": "f4c22c6c",
   "metadata": {
    "ExecuteTime": {
     "end_time": "2022-06-08T14:52:01.565000+08:00",
     "start_time": "2022-06-08T06:51:52.963Z"
    }
   },
   "outputs": [
    {
     "data": {
      "text/plain": [
       "\"Male\""
      ]
     },
     "execution_count": 94,
     "metadata": {},
     "output_type": "execute_result"
    }
   ],
   "source": [
    "d[\"gender\"] = \"Male\""
   ]
  },
  {
   "cell_type": "markdown",
   "id": "81ca1042",
   "metadata": {},
   "source": [
    "也可以用**二元组的数组作为初值定义字典**，如"
   ]
  },
  {
   "cell_type": "code",
   "execution_count": 95,
   "id": "7b1f4007",
   "metadata": {
    "ExecuteTime": {
     "end_time": "2022-06-08T14:52:02.361000+08:00",
     "start_time": "2022-06-08T06:51:52.977Z"
    }
   },
   "outputs": [
    {
     "data": {
      "text/plain": [
       "Dict{Char, Int64} with 4 entries:\n",
       "  'a' => 1\n",
       "  'c' => 3\n",
       "  'd' => 4\n",
       "  'b' => 2"
      ]
     },
     "execution_count": 95,
     "metadata": {},
     "output_type": "execute_result"
    }
   ],
   "source": [
    "d2orig = [('a', 1), ('b', 2), ('c', 3), ('d', 4)]\n",
    "d2 = Dict(d2orig)"
   ]
  },
  {
   "cell_type": "markdown",
   "id": "30ff853b",
   "metadata": {},
   "source": [
    "**delete!(d, key)** 可以删除指定的键值对。 **get!(d, key, default)** 可以在指定键值不存在时用default值填入该键值， 已存在时就不做修改， 两种情况下都返回新填入或原有的键对应的值。\n",
    "\n",
    "可以用**keys()函数遍历各个键**，次序不确定："
   ]
  },
  {
   "cell_type": "code",
   "execution_count": 96,
   "id": "2cc68729",
   "metadata": {
    "ExecuteTime": {
     "end_time": "2022-06-08T14:52:02.474000+08:00",
     "start_time": "2022-06-08T06:51:52.989Z"
    }
   },
   "outputs": [
    {
     "name": "stdout",
     "output_type": "stream",
     "text": [
      "a\n",
      "c\n",
      "d\n",
      "b\n"
     ]
    }
   ],
   "source": [
    "for k in keys(d2)\n",
    "    println(k)\n",
    "end"
   ]
  },
  {
   "cell_type": "markdown",
   "id": "c9000c82",
   "metadata": {},
   "source": [
    "字典存储并没有固定的存储次序。 为了在遍历时按键值的次序， 需要使用如下的效率较低的方法："
   ]
  },
  {
   "cell_type": "code",
   "execution_count": 97,
   "id": "50ea32e3",
   "metadata": {
    "ExecuteTime": {
     "end_time": "2022-06-08T14:52:02.650000+08:00",
     "start_time": "2022-06-08T06:51:52.997Z"
    }
   },
   "outputs": [
    {
     "name": "stdout",
     "output_type": "stream",
     "text": [
      "a => 1\n",
      "b => 2\n",
      "c => 3\n",
      "d => 4\n"
     ]
    }
   ],
   "source": [
    "for k in sort(collect(keys(d2)))\n",
    "    println(k, \" => \", d2[k])\n",
    "end"
   ]
  },
  {
   "cell_type": "markdown",
   "id": "4754f1b3",
   "metadata": {},
   "source": [
    "可以用**values()遍历各个值**，但也没有固定次序。比如"
   ]
  },
  {
   "cell_type": "code",
   "execution_count": 98,
   "id": "18bc4f68",
   "metadata": {
    "ExecuteTime": {
     "end_time": "2022-06-08T14:52:02.712000+08:00",
     "start_time": "2022-06-08T06:51:53.005Z"
    }
   },
   "outputs": [
    {
     "name": "stdout",
     "output_type": "stream",
     "text": [
      "1\n",
      "3\n",
      "4\n",
      "2\n"
     ]
    }
   ],
   "source": [
    "for k in values(d2)\n",
    "    println(k)\n",
    "end"
   ]
  },
  {
   "cell_type": "code",
   "execution_count": 99,
   "id": "439d2ddf",
   "metadata": {
    "ExecuteTime": {
     "end_time": "2022-06-08T14:52:02.770000+08:00",
     "start_time": "2022-06-08T06:51:53.011Z"
    }
   },
   "outputs": [
    {
     "data": {
      "text/plain": [
       "4-element Vector{Int64}:\n",
       " 1\n",
       " 3\n",
       " 4\n",
       " 2"
      ]
     },
     "execution_count": 99,
     "metadata": {},
     "output_type": "execute_result"
    }
   ],
   "source": [
    "collect(values(d2))"
   ]
  },
  {
   "cell_type": "markdown",
   "id": "71c6779c",
   "metadata": {},
   "source": [
    "可以直接用**二元组对字典遍历**，如"
   ]
  },
  {
   "cell_type": "code",
   "execution_count": 100,
   "id": "6ca705fb",
   "metadata": {
    "ExecuteTime": {
     "end_time": "2022-06-08T14:52:02.856000+08:00",
     "start_time": "2022-06-08T06:51:53.020Z"
    }
   },
   "outputs": [
    {
     "name": "stdout",
     "output_type": "stream",
     "text": [
      "a => 1\n",
      "c => 3\n",
      "d => 4\n",
      "b => 2\n"
     ]
    }
   ],
   "source": [
    "for (k,v) in d2\n",
    "    println(k, \" => \", v)\n",
    "end"
   ]
  },
  {
   "cell_type": "markdown",
   "id": "7cef3c44",
   "metadata": {},
   "source": [
    "查找某个键值或者值是否存在用in运算， 这比在数组中查找要高效， 因为字典的基础是杂凑表(hash table)， 其查找时间不随元素个数增加而增加。 如："
   ]
  },
  {
   "cell_type": "code",
   "execution_count": 101,
   "id": "1292961c",
   "metadata": {
    "ExecuteTime": {
     "end_time": "2022-06-08T14:52:02.876000+08:00",
     "start_time": "2022-06-08T06:51:53.027Z"
    }
   },
   "outputs": [
    {
     "data": {
      "text/plain": [
       "true"
      ]
     },
     "execution_count": 101,
     "metadata": {},
     "output_type": "execute_result"
    }
   ],
   "source": [
    "\"age\" in keys(d)"
   ]
  },
  {
   "cell_type": "code",
   "execution_count": 102,
   "id": "ae126542",
   "metadata": {
    "ExecuteTime": {
     "end_time": "2022-06-08T14:52:02.906000+08:00",
     "start_time": "2022-06-08T06:51:53.039Z"
    }
   },
   "outputs": [
    {
     "data": {
      "text/plain": [
       "false"
      ]
     },
     "execution_count": 102,
     "metadata": {},
     "output_type": "execute_result"
    }
   ],
   "source": [
    "19 in values(d)"
   ]
  },
  {
   "cell_type": "markdown",
   "id": "1256a3d4",
   "metadata": {},
   "source": [
    "字典的键值可以是字符串、整数值、浮点数值， 还可以是元组， 不允许取数组这样的可变类型（mutable）。\n",
    "\n",
    "可以在生成字典时指定键值和值的数据类型， 格式为Dict{S, T}(...)。如："
   ]
  },
  {
   "cell_type": "code",
   "execution_count": 103,
   "id": "0f0b139f",
   "metadata": {
    "ExecuteTime": {
     "end_time": "2022-06-08T14:52:03.568000+08:00",
     "start_time": "2022-06-08T06:51:53.047Z"
    }
   },
   "outputs": [
    {
     "data": {
      "text/plain": [
       "Dict{String, Int64} with 3 entries:\n",
       "  \"pear\"   => 2\n",
       "  \"orange\" => 3\n",
       "  \"apple\"  => 1"
      ]
     },
     "execution_count": 103,
     "metadata": {},
     "output_type": "execute_result"
    }
   ],
   "source": [
    "Dict{String, Int64}(\"apple\" => 1, \"pear\" => 2, \"orange\" => 3)"
   ]
  },
  {
   "cell_type": "markdown",
   "id": "88b397b1",
   "metadata": {},
   "source": [
    "元组是可以命名的， 这使得其在一定程度上类似于字典。 如"
   ]
  },
  {
   "cell_type": "code",
   "execution_count": 104,
   "id": "7dd8f973",
   "metadata": {
    "ExecuteTime": {
     "end_time": "2022-06-08T14:52:03.591000+08:00",
     "start_time": "2022-06-08T06:51:53.055Z"
    }
   },
   "outputs": [
    {
     "data": {
      "text/plain": [
       "\"John\""
      ]
     },
     "execution_count": 104,
     "metadata": {},
     "output_type": "execute_result"
    }
   ],
   "source": [
    "tn1 = (name=\"John\", age=32)\n",
    "tn1[:name]"
   ]
  },
  {
   "cell_type": "markdown",
   "id": "3651dfb2",
   "metadata": {},
   "source": [
    "但是要注意**有名元组用变量名访问时用的是符号(Symbol)， 即不写成字符串的变量名前面有冒号**。"
   ]
  },
  {
   "cell_type": "markdown",
   "id": "fd1c1701",
   "metadata": {},
   "source": [
    "## 字典应用：频数表"
   ]
  },
  {
   "cell_type": "markdown",
   "id": "5bddba65",
   "metadata": {},
   "source": [
    "在基本的描述统计中， 经常需要对某个离散取值的变量计算其频数表， 即每个不同值出现的次数。 如果不利用字典类型， 可以先找到所有的不同值， 将每个值与一个序号对应， 然后建立一个一维数组计数， 每个数组元素与一个变量值对应。\n",
    "\n",
    "利用字典， 我们不需要预先找到所有不同值，而是直接用字典计数， 每个键值是一个不同的变量值， 每个值是一个计数值。 如"
   ]
  },
  {
   "cell_type": "code",
   "execution_count": 105,
   "id": "4f28dcd9",
   "metadata": {
    "ExecuteTime": {
     "end_time": "2022-06-08T14:52:04.408000+08:00",
     "start_time": "2022-06-08T06:51:53.064Z"
    }
   },
   "outputs": [
    {
     "data": {
      "text/plain": [
       "Dict{Any, Any} with 2 entries:\n",
       "  \"M\" => 3\n",
       "  \"F\" => 2"
      ]
     },
     "execution_count": 105,
     "metadata": {},
     "output_type": "execute_result"
    }
   ],
   "source": [
    "sex = [\"F\", \"M\", \"M\", \"F\", \"M\"]\n",
    "freqs = Dict()\n",
    "for xi in sex\n",
    "    if xi in keys(freqs)\n",
    "        freqs[xi] += 1\n",
    "    else\n",
    "        freqs[xi] = 1\n",
    "    end\n",
    "end\n",
    "freqs"
   ]
  },
  {
   "cell_type": "markdown",
   "id": "5800e54a",
   "metadata": {},
   "source": [
    "对字典可以用get()函数提取某个键值对应的值， 并在键值不存在时返回指定的缺省值。 这样，上面的例子可以简化写成："
   ]
  },
  {
   "cell_type": "code",
   "execution_count": 106,
   "id": "9bab0f9a",
   "metadata": {
    "ExecuteTime": {
     "end_time": "2022-06-08T14:52:04.423000+08:00",
     "start_time": "2022-06-08T06:51:53.072Z"
    }
   },
   "outputs": [
    {
     "data": {
      "text/plain": [
       "Dict{Any, Any} with 2 entries:\n",
       "  \"M\" => 3\n",
       "  \"F\" => 2"
      ]
     },
     "execution_count": 106,
     "metadata": {},
     "output_type": "execute_result"
    }
   ],
   "source": [
    "sex = [\"F\", \"M\", \"M\", \"F\", \"M\"]\n",
    "freqs = Dict()\n",
    "for xi in sex\n",
    "    freqs[xi] = get(freqs, xi, 0) + 1\n",
    "end\n",
    "freqs"
   ]
  },
  {
   "cell_type": "markdown",
   "id": "0b455259",
   "metadata": {},
   "source": [
    "# 集合类型"
   ]
  },
  {
   "cell_type": "markdown",
   "id": "4a03f262",
   "metadata": {},
   "source": [
    "Julia中Set是集合类型。 用Set()生成一个集合，如Set(1:3), Set(['a', 'b', 'c'])。 支持集合的常见运算， union(), intersect(), setdiff(), symdiff(), issetequal(), issubset()。 子集关系也可以用运算符⊆, ⊇, ⊈, ⊈表示。 属于关系用in, ∈，∋，∉, ∌表示。\n",
    "\n",
    "对数组x, **unique(x)** 返回由x的不同元素组成的数组。"
   ]
  },
  {
   "cell_type": "markdown",
   "id": "54ab24e7",
   "metadata": {},
   "source": [
    "# 矩阵和数组"
   ]
  },
  {
   "cell_type": "markdown",
   "id": "b58f7c31",
   "metadata": {},
   "source": [
    "前面讲的向量当元素类型相同时可以看作一维数组，不区分行向量还是列向量， 在参与矩阵运算时看作列向量。\n",
    "\n",
    "矩阵是二维数组，有两个下标：行下标和列下标。\n",
    "\n",
    "数组(Array)是Julia中的数据类型， 有一维、二维、多维等， 区别在于引用一个元素时所用下标个数， 数组中的元素属于相同的基本类型， 比如， 元素类型都是Int64， 都是Float64， 都是String， 等等。\n",
    "\n",
    "**为了在程序中直接输入一个矩阵， 可以在方括号内两个同行的元素之间用空格分隔， 两行之间用分号分隔**，如"
   ]
  },
  {
   "cell_type": "code",
   "execution_count": 107,
   "id": "93caacac",
   "metadata": {
    "ExecuteTime": {
     "end_time": "2022-06-08T14:52:04.885000+08:00",
     "start_time": "2022-06-08T06:51:53.083Z"
    }
   },
   "outputs": [
    {
     "data": {
      "text/plain": [
       "2×3 Matrix{Int64}:\n",
       " 1  2  3\n",
       " 4  5  6"
      ]
     },
     "execution_count": 107,
     "metadata": {},
     "output_type": "execute_result"
    }
   ],
   "source": [
    "A1 = [1 2 3; 4 5 6]"
   ]
  },
  {
   "cell_type": "markdown",
   "id": "f6e69041",
   "metadata": {},
   "source": [
    "注意结果显示这是一个2×3 Array{Int64,2}， 即一个两行三列的元素都是Int64类型的二维数组。\n",
    "\n",
    "**对矩阵x，size(x,1)返回行数，size(x,2)返回列数**。如"
   ]
  },
  {
   "cell_type": "code",
   "execution_count": 108,
   "id": "22da0749",
   "metadata": {
    "ExecuteTime": {
     "end_time": "2022-06-08T14:52:04.925000+08:00",
     "start_time": "2022-06-08T06:51:53.091Z"
    }
   },
   "outputs": [
    {
     "name": "stdout",
     "output_type": "stream",
     "text": [
      "(2, 3)\n"
     ]
    }
   ],
   "source": [
    "println(\"(\", size(A1, 1), \", \", size(A1, 2), \")\")"
   ]
  },
  {
   "cell_type": "markdown",
   "id": "73de39a2",
   "metadata": {},
   "source": [
    "输入行向量的例子："
   ]
  },
  {
   "cell_type": "code",
   "execution_count": 109,
   "id": "18fe839a",
   "metadata": {
    "ExecuteTime": {
     "end_time": "2022-06-08T14:52:04.967000+08:00",
     "start_time": "2022-06-08T06:51:53.099Z"
    }
   },
   "outputs": [
    {
     "data": {
      "text/plain": [
       "1×3 Matrix{Int64}:\n",
       " 1  2  3"
      ]
     },
     "execution_count": 109,
     "metadata": {},
     "output_type": "execute_result"
    }
   ],
   "source": [
    "[1 2 3]"
   ]
  },
  {
   "cell_type": "markdown",
   "id": "1e31b169",
   "metadata": {},
   "source": [
    "**Julia将一维向量看作列向量**。所以，如下的用分号分隔的输入列向量的程序得到的是一维数组："
   ]
  },
  {
   "cell_type": "code",
   "execution_count": 110,
   "id": "e127c39a",
   "metadata": {
    "ExecuteTime": {
     "end_time": "2022-06-08T14:52:04.986000+08:00",
     "start_time": "2022-06-08T06:51:53.107Z"
    }
   },
   "outputs": [
    {
     "data": {
      "text/plain": [
       "3-element Vector{Int64}:\n",
       " 1\n",
       " 2\n",
       " 3"
      ]
     },
     "execution_count": 110,
     "metadata": {},
     "output_type": "execute_result"
    }
   ],
   "source": [
    "[1; 2; 3]"
   ]
  },
  {
   "cell_type": "markdown",
   "id": "56986811",
   "metadata": {},
   "source": [
    "## 矩阵下标"
   ]
  },
  {
   "cell_type": "markdown",
   "id": "4527b778",
   "metadata": {},
   "source": [
    "设A是矩阵，则A[i,j]表示A的第i行第j列元素，如:"
   ]
  },
  {
   "cell_type": "code",
   "execution_count": 111,
   "id": "349d856a",
   "metadata": {
    "ExecuteTime": {
     "end_time": "2022-06-08T14:52:04.988000+08:00",
     "start_time": "2022-06-08T06:51:53.115Z"
    }
   },
   "outputs": [
    {
     "data": {
      "text/plain": [
       "6"
      ]
     },
     "execution_count": 111,
     "metadata": {},
     "output_type": "execute_result"
    }
   ],
   "source": [
    "A1[2,3]"
   ]
  },
  {
   "cell_type": "markdown",
   "id": "10d58add",
   "metadata": {},
   "source": [
    "给元素赋值可以在矩阵中修改元素值，如："
   ]
  },
  {
   "cell_type": "code",
   "execution_count": 112,
   "id": "eb5577e1",
   "metadata": {
    "ExecuteTime": {
     "end_time": "2022-06-08T14:52:05.008000+08:00",
     "start_time": "2022-06-08T06:51:53.122Z"
    }
   },
   "outputs": [
    {
     "data": {
      "text/plain": [
       "2×3 Matrix{Int64}:\n",
       " 1  2   3\n",
       " 4  5  -6"
      ]
     },
     "execution_count": 112,
     "metadata": {},
     "output_type": "execute_result"
    }
   ],
   "source": [
    "A1[2,3] = -6\n",
    "A1"
   ]
  },
  {
   "cell_type": "markdown",
   "id": "95af9851",
   "metadata": {},
   "source": [
    "### 矩阵列和行"
   ]
  },
  {
   "cell_type": "markdown",
   "id": "6c2261a9",
   "metadata": {},
   "source": [
    "设A是矩阵， 则A[:, j]表示A的第j列元素组成的向量（一维数组），如"
   ]
  },
  {
   "cell_type": "code",
   "execution_count": 113,
   "id": "b25f8a88",
   "metadata": {
    "ExecuteTime": {
     "end_time": "2022-06-08T14:52:05.058000+08:00",
     "start_time": "2022-06-08T06:51:53.131Z"
    }
   },
   "outputs": [
    {
     "data": {
      "text/plain": [
       "2-element Vector{Int64}:\n",
       " 2\n",
       " 5"
      ]
     },
     "execution_count": 113,
     "metadata": {},
     "output_type": "execute_result"
    }
   ],
   "source": [
    "A1[:, 2]"
   ]
  },
  {
   "cell_type": "markdown",
   "id": "fb0ce055",
   "metadata": {},
   "source": [
    "A[i, :]表示A的第i行元素组成的向量（一维数组），如"
   ]
  },
  {
   "cell_type": "code",
   "execution_count": 114,
   "id": "d675aaa5",
   "metadata": {
    "ExecuteTime": {
     "end_time": "2022-06-08T14:52:05.096000+08:00",
     "start_time": "2022-06-08T06:51:53.139Z"
    }
   },
   "outputs": [
    {
     "data": {
      "text/plain": [
       "3-element Vector{Int64}:\n",
       "  4\n",
       "  5\n",
       " -6"
      ]
     },
     "execution_count": 114,
     "metadata": {},
     "output_type": "execute_result"
    }
   ],
   "source": [
    "A1[2, :]"
   ]
  },
  {
   "cell_type": "markdown",
   "id": "b49257aa",
   "metadata": {},
   "source": [
    "**取出后的列或者行不分行向量和列向量**。"
   ]
  },
  {
   "cell_type": "markdown",
   "id": "795de013",
   "metadata": {},
   "source": [
    "### 子矩阵"
   ]
  },
  {
   "cell_type": "markdown",
   "id": "e843429c",
   "metadata": {},
   "source": [
    "如果A是矩阵，I和J是范围或者向量， 则A[I,J]表示A的行号在I中的行与列号在J中的列交叉所得的子矩阵，如"
   ]
  },
  {
   "cell_type": "code",
   "execution_count": 115,
   "id": "8258f995",
   "metadata": {
    "ExecuteTime": {
     "end_time": "2022-06-08T14:52:05.127000+08:00",
     "start_time": "2022-06-08T06:51:53.148Z"
    }
   },
   "outputs": [
    {
     "data": {
      "text/plain": [
       "2×2 Matrix{Int64}:\n",
       " 2   3\n",
       " 5  -6"
      ]
     },
     "execution_count": 115,
     "metadata": {},
     "output_type": "execute_result"
    }
   ],
   "source": [
    "A1[1:2, 2:3]"
   ]
  },
  {
   "cell_type": "markdown",
   "id": "6a5a97c1",
   "metadata": {},
   "source": [
    "**用冒号“:”作为行下标或列下标表示取该维的全部下标**。 如果取出的子矩阵仅有一行或者仅有一列， 则结果退化成一维数组， 不再是矩阵。\n",
    "\n",
    "给子矩阵赋值为一个同样大小的子矩阵给对应元素赋值，如"
   ]
  },
  {
   "cell_type": "code",
   "execution_count": 116,
   "id": "e7215d29",
   "metadata": {
    "ExecuteTime": {
     "end_time": "2022-06-08T14:52:05.160000+08:00",
     "start_time": "2022-06-08T06:51:53.156Z"
    }
   },
   "outputs": [
    {
     "data": {
      "text/plain": [
       "2×3 Matrix{Int64}:\n",
       " 1  102  103\n",
       " 4  202  203"
      ]
     },
     "execution_count": 116,
     "metadata": {},
     "output_type": "execute_result"
    }
   ],
   "source": [
    "A1[1:2, 2:3] = [102 103; 202 203]\n",
    "A1"
   ]
  },
  {
   "cell_type": "markdown",
   "id": "56c95356",
   "metadata": {},
   "source": [
    "## 矩阵初始化"
   ]
  },
  {
   "cell_type": "markdown",
   "id": "dde8ea3e",
   "metadata": {},
   "source": [
    "用zeros(m, n)可以生成元素类型为Float64、元素值为0的 m×n 矩阵，如"
   ]
  },
  {
   "cell_type": "code",
   "execution_count": 117,
   "id": "a2721a40",
   "metadata": {
    "ExecuteTime": {
     "end_time": "2022-06-08T14:52:05.551000+08:00",
     "start_time": "2022-06-08T06:51:53.165Z"
    }
   },
   "outputs": [
    {
     "data": {
      "text/plain": [
       "2×3 Matrix{Float64}:\n",
       " 0.0  0.0  0.0\n",
       " 0.0  0.0  0.0"
      ]
     },
     "execution_count": 117,
     "metadata": {},
     "output_type": "execute_result"
    }
   ],
   "source": [
    "zeros(2, 3)"
   ]
  },
  {
   "cell_type": "markdown",
   "id": "52519b7d",
   "metadata": {},
   "source": [
    "在用方括号格式生成向量或矩阵时， 可以在方括号前面写元素类型名称， 要求生成某种类型的数组。如："
   ]
  },
  {
   "cell_type": "code",
   "execution_count": 118,
   "id": "3d56a9bd",
   "metadata": {
    "ExecuteTime": {
     "end_time": "2022-06-08T14:52:05.560000+08:00",
     "start_time": "2022-06-08T06:51:53.176Z"
    }
   },
   "outputs": [
    {
     "data": {
      "text/plain": [
       "3-element Vector{Float64}:\n",
       " 1.0\n",
       " 3.0\n",
       " 5.0"
      ]
     },
     "execution_count": 118,
     "metadata": {},
     "output_type": "execute_result"
    }
   ],
   "source": [
    "Float64[1,3,5]"
   ]
  },
  {
   "cell_type": "markdown",
   "id": "ae8c9c51",
   "metadata": {},
   "source": [
    "在上例中，如果不指定类型，结果将自动解析为Int64类型， 因为给出的元素值都是整数。\n",
    "\n",
    "又如："
   ]
  },
  {
   "cell_type": "code",
   "execution_count": 119,
   "id": "6e906d3f",
   "metadata": {
    "ExecuteTime": {
     "end_time": "2022-06-08T14:52:05.585000+08:00",
     "start_time": "2022-06-08T06:51:53.183Z"
    }
   },
   "outputs": [
    {
     "data": {
      "text/plain": [
       "2×3 Matrix{Float64}:\n",
       " 1.0  3.0  5.0\n",
       " 2.0  4.0  6.0"
      ]
     },
     "execution_count": 119,
     "metadata": {},
     "output_type": "execute_result"
    }
   ],
   "source": [
    "Float64[1 3 5; 2 4 6]"
   ]
  },
  {
   "cell_type": "markdown",
   "id": "e0078a50",
   "metadata": {},
   "source": [
    "用Array{Float64}(undef, m, n)可以生成元素类型为Float64的 m×n 矩阵， 元素值未初始化，如"
   ]
  },
  {
   "cell_type": "code",
   "execution_count": 120,
   "id": "c5ad26b2",
   "metadata": {
    "ExecuteTime": {
     "end_time": "2022-06-08T14:52:05.599000+08:00",
     "start_time": "2022-06-08T06:51:53.191Z"
    }
   },
   "outputs": [
    {
     "data": {
      "text/plain": [
       "2×3 Matrix{Float64}:\n",
       " 6.36599e-314  1.0e-323  0.0\n",
       " 1.6976e-313   0.0       0.0"
      ]
     },
     "execution_count": 120,
     "metadata": {},
     "output_type": "execute_result"
    }
   ],
   "source": [
    "Array{Float64}(undef, 2, 3)"
   ]
  },
  {
   "cell_type": "markdown",
   "id": "2459bc42",
   "metadata": {},
   "source": [
    "类似可以生成其它元素类型的矩阵，如"
   ]
  },
  {
   "cell_type": "code",
   "execution_count": 121,
   "id": "b1b4d35d",
   "metadata": {
    "ExecuteTime": {
     "end_time": "2022-06-08T14:52:05.607000+08:00",
     "start_time": "2022-06-08T06:51:53.199Z"
    }
   },
   "outputs": [
    {
     "data": {
      "text/plain": [
       "2×3 Matrix{Int64}:\n",
       " 0  -256     1\n",
       " 1     1  -255"
      ]
     },
     "execution_count": 121,
     "metadata": {},
     "output_type": "execute_result"
    }
   ],
   "source": [
    "Array{Int64}(undef, 2, 3)"
   ]
  },
  {
   "cell_type": "markdown",
   "id": "75e0fabe",
   "metadata": {},
   "source": [
    "用这样的办法先为矩阵分配存储空间，然后可以再填入元素值。\n",
    "\n",
    "Array{T}(undef, m, n, k[, ...])这种格式可以生成元素类型为T， 初始值无定义，维数和每一维的下标长度由undef后面的参数给出， 如Array{Char}(undef, 99)是元素为字符的长度为99的字符数组， 元素初值无定义。 Array{UInt8}(undef, 3, 2, 5)是元素类型为UInt8，  3×2×5 形状的三维数组， 可以看成是5个 3×2 矩阵， 元素初值无定义。"
   ]
  },
  {
   "cell_type": "markdown",
   "id": "d3a1e23a",
   "metadata": {},
   "source": [
    "## 矩阵元素遍历"
   ]
  },
  {
   "cell_type": "markdown",
   "id": "d36df408",
   "metadata": {},
   "source": [
    "可以对行下标和列下标分别循环，行下标变化最快，如"
   ]
  },
  {
   "cell_type": "code",
   "execution_count": 122,
   "id": "0da9df8b",
   "metadata": {
    "ExecuteTime": {
     "end_time": "2022-06-08T14:52:05.611000+08:00",
     "start_time": "2022-06-08T06:51:53.208Z"
    }
   },
   "outputs": [
    {
     "data": {
      "text/plain": [
       "2×3 Matrix{Int64}:\n",
       " 1  2  3\n",
       " 4  5  6"
      ]
     },
     "execution_count": 122,
     "metadata": {},
     "output_type": "execute_result"
    }
   ],
   "source": [
    "A1 = [1 2 3; 4 5 6]"
   ]
  },
  {
   "cell_type": "code",
   "execution_count": 123,
   "id": "f5269eb9",
   "metadata": {
    "ExecuteTime": {
     "end_time": "2022-06-08T14:52:05.689000+08:00",
     "start_time": "2022-06-08T06:51:53.214Z"
    }
   },
   "outputs": [
    {
     "name": "stdout",
     "output_type": "stream",
     "text": [
      "A1[1, 1] = 1\n",
      "A1[2, 1] = 4\n",
      "A1[1, 2] = 2\n",
      "A1[2, 2] = 5\n",
      "A1[1, 3] = 3\n",
      "A1[2, 3] = 6\n"
     ]
    }
   ],
   "source": [
    "for j = 1:size(A1,2), i = 1:size(A1,1)\n",
    "  println(\"A1[\", i, \", \", j, \"] = \", A1[i, j])\n",
    "end"
   ]
  },
  {
   "cell_type": "code",
   "execution_count": 124,
   "id": "f1d8c3cf",
   "metadata": {
    "ExecuteTime": {
     "end_time": "2022-06-08T14:52:05.722000+08:00",
     "start_time": "2022-06-08T06:51:53.220Z"
    }
   },
   "outputs": [
    {
     "name": "stdout",
     "output_type": "stream",
     "text": [
      "A1[1, 1] = 1\n",
      "A1[2, 1] = 4\n",
      "A1[1, 2] = 2\n",
      "A1[2, 2] = 5\n",
      "A1[1, 3] = 3\n",
      "A1[2, 3] = 6\n"
     ]
    }
   ],
   "source": [
    "for j = 1:size(A1,2)\n",
    "    for i = 1:size(A1,1)\n",
    "      println(\"A1[\", i, \", \", j, \"] = \", A1[i, j])\n",
    "    end\n",
    "end"
   ]
  },
  {
   "cell_type": "markdown",
   "id": "bc9d50af",
   "metadata": {},
   "source": [
    "之所以在两重循环时让行下标变化最快是因为矩阵的存储是按列存储的， 所以遍历时先遍历第一列的各个行，再遍历第二列的各个行，……，这样效率较高。 如果不考虑效率问题，也可以逐行遍历如下："
   ]
  },
  {
   "cell_type": "code",
   "execution_count": 125,
   "id": "314bf0d8",
   "metadata": {
    "ExecuteTime": {
     "end_time": "2022-06-08T14:52:05.783000+08:00",
     "start_time": "2022-06-08T06:51:53.228Z"
    }
   },
   "outputs": [
    {
     "name": "stdout",
     "output_type": "stream",
     "text": [
      "A1[1, 1] = 1\n",
      "A1[1, 2] = 2\n",
      "A1[1, 3] = 3\n",
      "A1[2, 1] = 4\n",
      "A1[2, 2] = 5\n",
      "A1[2, 3] = 6\n"
     ]
    }
   ],
   "source": [
    "for i = 1:size(A1,1), j = 1:size(A1,2)\n",
    "  println(\"A1[\", i, \", \", j, \"] = \", A1[i, j])\n",
    "end"
   ]
  },
  {
   "cell_type": "markdown",
   "id": "5b57f188",
   "metadata": {},
   "source": [
    "另一种办法是用类似于向量遍历的方法，如："
   ]
  },
  {
   "cell_type": "code",
   "execution_count": 126,
   "id": "50e00b2f",
   "metadata": {
    "ExecuteTime": {
     "end_time": "2022-06-08T14:52:05.831000+08:00",
     "start_time": "2022-06-08T06:51:53.235Z"
    }
   },
   "outputs": [
    {
     "name": "stdout",
     "output_type": "stream",
     "text": [
      "A1[1] = 1\n",
      "A1[2] = 4\n",
      "A1[3] = 2\n",
      "A1[4] = 5\n",
      "A1[5] = 3\n",
      "A1[6] = 6\n"
     ]
    }
   ],
   "source": [
    "for i in eachindex(A1)\n",
    "  println(\"A1[\", i, \"] = \", A1[i])\n",
    "end"
   ]
  },
  {
   "cell_type": "markdown",
   "id": "a754420b",
   "metadata": {},
   "source": [
    "从上例可以看出**矩阵是按列存储的**。"
   ]
  },
  {
   "cell_type": "markdown",
   "id": "f1214b50",
   "metadata": {},
   "source": [
    "## 矩阵读写"
   ]
  },
  {
   "cell_type": "markdown",
   "id": "c75a0212",
   "metadata": {},
   "source": [
    "设当前目录中文件“vecstore.txt”中包含如下内容：\n",
    "\n",
    "    1.2 -5  3.6\n",
    "    7.8 9.12 4.11\n",
    "将文件中的内容每一行看作矩阵的一行， 文件中保存了一个 2×3 矩阵。 读入方法如下:\n",
    "\n",
    "    using DelimitedFiles\n",
    "    Ain = readdlm(\"vecstore.txt\"); Ain\n",
    "考虑上面的Ain矩阵，为了将其按文本文件格式保存到“tmp2.txt”中， 用如下程序：\n",
    "\n",
    "    writedlm(\"tmp2.txt\", Ain, ' ')"
   ]
  },
  {
   "cell_type": "markdown",
   "id": "307d0cd5",
   "metadata": {},
   "source": [
    "## 矩阵与标量的四则运算"
   ]
  },
  {
   "cell_type": "markdown",
   "id": "099c5ad5",
   "metadata": {},
   "source": [
    "矩阵与一个标量之间用加点的四则运算符号进行运算， 与向量和标量之间的运算类似， 表示矩阵的每个元素和该变量的四则运算， 结果仍为矩阵。如"
   ]
  },
  {
   "cell_type": "code",
   "execution_count": 127,
   "id": "74ec14e4",
   "metadata": {
    "ExecuteTime": {
     "end_time": "2022-06-08T14:52:05.835000+08:00",
     "start_time": "2022-06-08T06:51:53.247Z"
    }
   },
   "outputs": [
    {
     "data": {
      "text/plain": [
       "2×3 Matrix{Int64}:\n",
       " 1  2  3\n",
       " 4  5  6"
      ]
     },
     "execution_count": 127,
     "metadata": {},
     "output_type": "execute_result"
    }
   ],
   "source": [
    "A1 = [1 2 3; 4 5 6]"
   ]
  },
  {
   "cell_type": "code",
   "execution_count": 128,
   "id": "78260b64",
   "metadata": {
    "ExecuteTime": {
     "end_time": "2022-06-08T14:52:05.935000+08:00",
     "start_time": "2022-06-08T06:51:53.254Z"
    }
   },
   "outputs": [
    {
     "data": {
      "text/plain": [
       "2×3 Matrix{Int64}:\n",
       " 101  102  103\n",
       " 104  105  106"
      ]
     },
     "execution_count": 128,
     "metadata": {},
     "output_type": "execute_result"
    }
   ],
   "source": [
    "A1 .+ 100"
   ]
  },
  {
   "cell_type": "code",
   "execution_count": 129,
   "id": "8f555f89",
   "metadata": {
    "ExecuteTime": {
     "end_time": "2022-06-08T14:52:06.013000+08:00",
     "start_time": "2022-06-08T06:51:53.260Z"
    }
   },
   "outputs": [
    {
     "data": {
      "text/plain": [
       "2×3 Matrix{Int64}:\n",
       " 99  98  97\n",
       " 96  95  94"
      ]
     },
     "execution_count": 129,
     "metadata": {},
     "output_type": "execute_result"
    }
   ],
   "source": [
    "100 .- A1"
   ]
  },
  {
   "cell_type": "code",
   "execution_count": 130,
   "id": "f8e59e81",
   "metadata": {
    "ExecuteTime": {
     "end_time": "2022-06-08T14:52:06.090000+08:00",
     "start_time": "2022-06-08T06:51:53.266Z"
    }
   },
   "outputs": [
    {
     "data": {
      "text/plain": [
       "2×3 Matrix{Int64}:\n",
       " 2   4   6\n",
       " 8  10  12"
      ]
     },
     "execution_count": 130,
     "metadata": {},
     "output_type": "execute_result"
    }
   ],
   "source": [
    "A1 .* 2"
   ]
  },
  {
   "cell_type": "code",
   "execution_count": 131,
   "id": "7972835e",
   "metadata": {
    "ExecuteTime": {
     "end_time": "2022-06-08T14:52:06.133000+08:00",
     "start_time": "2022-06-08T06:51:53.273Z"
    }
   },
   "outputs": [
    {
     "data": {
      "text/plain": [
       "2×3 Matrix{Float64}:\n",
       " 0.1  0.2  0.3\n",
       " 0.4  0.5  0.6"
      ]
     },
     "execution_count": 131,
     "metadata": {},
     "output_type": "execute_result"
    }
   ],
   "source": [
    "A1 ./ 10"
   ]
  },
  {
   "cell_type": "code",
   "execution_count": 132,
   "id": "ec77bb84",
   "metadata": {
    "ExecuteTime": {
     "end_time": "2022-06-08T14:52:06.212000+08:00",
     "start_time": "2022-06-08T06:51:53.279Z"
    }
   },
   "outputs": [
    {
     "data": {
      "text/plain": [
       "2×3 Matrix{Int64}:\n",
       "  1   4   9\n",
       " 16  25  36"
      ]
     },
     "execution_count": 132,
     "metadata": {},
     "output_type": "execute_result"
    }
   ],
   "source": [
    "A1 .^ 2"
   ]
  },
  {
   "cell_type": "markdown",
   "id": "4e175d03",
   "metadata": {},
   "source": [
    "## 两个矩阵之间的四则运算"
   ]
  },
  {
   "cell_type": "markdown",
   "id": "75cd7c89",
   "metadata": {},
   "source": [
    "两个同样大小的矩阵之间用加点的四则运算符号进行运算， 表示两个矩阵的对应元素的运算。如"
   ]
  },
  {
   "cell_type": "code",
   "execution_count": 133,
   "id": "d83f59da",
   "metadata": {
    "ExecuteTime": {
     "end_time": "2022-06-08T14:52:06.214000+08:00",
     "start_time": "2022-06-08T06:51:53.288Z"
    }
   },
   "outputs": [
    {
     "data": {
      "text/plain": [
       "2×3 Matrix{Int64}:\n",
       " 100  200  300\n",
       " 400  500  600"
      ]
     },
     "execution_count": 133,
     "metadata": {},
     "output_type": "execute_result"
    }
   ],
   "source": [
    "A2 = A1 .* 100"
   ]
  },
  {
   "cell_type": "code",
   "execution_count": 134,
   "id": "0f695eca",
   "metadata": {
    "ExecuteTime": {
     "end_time": "2022-06-08T14:52:06.336000+08:00",
     "start_time": "2022-06-08T06:51:53.293Z"
    }
   },
   "outputs": [
    {
     "data": {
      "text/plain": [
       "2×3 Matrix{Int64}:\n",
       " 101  202  303\n",
       " 404  505  606"
      ]
     },
     "execution_count": 134,
     "metadata": {},
     "output_type": "execute_result"
    }
   ],
   "source": [
    "A1 .+ A2"
   ]
  },
  {
   "cell_type": "code",
   "execution_count": 135,
   "id": "cf8a4368",
   "metadata": {
    "ExecuteTime": {
     "end_time": "2022-06-08T14:52:06.431000+08:00",
     "start_time": "2022-06-08T06:51:53.300Z"
    }
   },
   "outputs": [
    {
     "data": {
      "text/plain": [
       "2×3 Matrix{Int64}:\n",
       "  99  198  297\n",
       " 396  495  594"
      ]
     },
     "execution_count": 135,
     "metadata": {},
     "output_type": "execute_result"
    }
   ],
   "source": [
    "A2 .- A1"
   ]
  },
  {
   "cell_type": "code",
   "execution_count": 136,
   "id": "8756812c",
   "metadata": {
    "ExecuteTime": {
     "end_time": "2022-06-08T14:52:06.511000+08:00",
     "start_time": "2022-06-08T06:51:53.307Z"
    }
   },
   "outputs": [
    {
     "data": {
      "text/plain": [
       "2×3 Matrix{Int64}:\n",
       "  100   400   900\n",
       " 1600  2500  3600"
      ]
     },
     "execution_count": 136,
     "metadata": {},
     "output_type": "execute_result"
    }
   ],
   "source": [
    "A1 .* A2"
   ]
  },
  {
   "cell_type": "code",
   "execution_count": 137,
   "id": "304e3cc9",
   "metadata": {
    "ExecuteTime": {
     "end_time": "2022-06-08T14:52:06.589000+08:00",
     "start_time": "2022-06-08T06:51:53.313Z"
    }
   },
   "outputs": [
    {
     "data": {
      "text/plain": [
       "2×3 Matrix{Float64}:\n",
       " 100.0  100.0  100.0\n",
       " 100.0  100.0  100.0"
      ]
     },
     "execution_count": 137,
     "metadata": {},
     "output_type": "execute_result"
    }
   ],
   "source": [
    "A2 ./ A1"
   ]
  },
  {
   "cell_type": "markdown",
   "id": "57b8211a",
   "metadata": {},
   "source": [
    "矩阵加减也可以用不加点的运算符:"
   ]
  },
  {
   "cell_type": "code",
   "execution_count": 138,
   "id": "d7e7df2f",
   "metadata": {
    "ExecuteTime": {
     "end_time": "2022-06-08T14:52:06.657000+08:00",
     "start_time": "2022-06-08T06:51:53.321Z"
    }
   },
   "outputs": [
    {
     "data": {
      "text/plain": [
       "2×3 Matrix{Int64}:\n",
       " 101  202  303\n",
       " 404  505  606"
      ]
     },
     "execution_count": 138,
     "metadata": {},
     "output_type": "execute_result"
    }
   ],
   "source": [
    "A1 + A2"
   ]
  },
  {
   "cell_type": "markdown",
   "id": "dee0fb93",
   "metadata": {},
   "source": [
    "A1 - A2也可以。\n",
    "\n",
    "但是， **A1 * A2表示矩阵乘法， A1 / A2表示解方程组或者最小二乘， 都不是对应元素间的运算**。"
   ]
  },
  {
   "cell_type": "markdown",
   "id": "4487a9ca",
   "metadata": {},
   "source": [
    "## 矩阵乘法"
   ]
  },
  {
   "cell_type": "markdown",
   "id": "83368c09",
   "metadata": {},
   "source": [
    "用A * B表示矩阵乘法。 如"
   ]
  },
  {
   "cell_type": "code",
   "execution_count": 139,
   "id": "7a74b81c",
   "metadata": {
    "ExecuteTime": {
     "end_time": "2022-06-08T14:52:06.661000+08:00",
     "start_time": "2022-06-08T06:51:53.331Z"
    }
   },
   "outputs": [
    {
     "data": {
      "text/plain": [
       "2×2 Matrix{Int64}:\n",
       " 11  12\n",
       " 21  22"
      ]
     },
     "execution_count": 139,
     "metadata": {},
     "output_type": "execute_result"
    }
   ],
   "source": [
    "A3 = [11 12; 21 22]"
   ]
  },
  {
   "cell_type": "code",
   "execution_count": 140,
   "id": "5f7d1326",
   "metadata": {
    "ExecuteTime": {
     "end_time": "2022-06-08T14:52:07.225000+08:00",
     "start_time": "2022-06-08T06:51:53.337Z"
    }
   },
   "outputs": [
    {
     "data": {
      "text/plain": [
       "2×3 Matrix{Int64}:\n",
       "  59   82  105\n",
       " 109  152  195"
      ]
     },
     "execution_count": 140,
     "metadata": {},
     "output_type": "execute_result"
    }
   ],
   "source": [
    "A3 * A1"
   ]
  },
  {
   "cell_type": "markdown",
   "id": "3422588d",
   "metadata": {},
   "source": [
    "一个矩阵与一个向量（一维数组）作矩阵乘法， 向量自动变成列向量，如:"
   ]
  },
  {
   "cell_type": "code",
   "execution_count": 141,
   "id": "aafa4ef5",
   "metadata": {
    "ExecuteTime": {
     "end_time": "2022-06-08T14:52:07.280000+08:00",
     "start_time": "2022-06-08T06:51:53.344Z"
    }
   },
   "outputs": [
    {
     "data": {
      "text/plain": [
       "2-element Vector{Int64}:\n",
       " -1\n",
       " -1"
      ]
     },
     "execution_count": 141,
     "metadata": {},
     "output_type": "execute_result"
    }
   ],
   "source": [
    "A3 * [1, -1]"
   ]
  },
  {
   "cell_type": "markdown",
   "id": "30b6f0b1",
   "metadata": {},
   "source": [
    "注意结果是向量（一维数组），而不是 2×1 矩阵（二维数组）。\n",
    "\n",
    "行向量可以直接表示成方括号内多个数值之间用空格分隔的格式，如"
   ]
  },
  {
   "cell_type": "code",
   "execution_count": 142,
   "id": "0404bb0c",
   "metadata": {
    "ExecuteTime": {
     "end_time": "2022-06-08T14:52:07.303000+08:00",
     "start_time": "2022-06-08T06:51:53.352Z"
    }
   },
   "outputs": [
    {
     "data": {
      "text/plain": [
       "2×2 Matrix{Int64}:\n",
       "  1  -1\n",
       " -1   1"
      ]
     },
     "execution_count": 142,
     "metadata": {},
     "output_type": "execute_result"
    }
   ],
   "source": [
    "[1,  -1] * [1  -1]"
   ]
  },
  {
   "cell_type": "markdown",
   "id": "24eb3c56",
   "metadata": {},
   "source": [
    "又如"
   ]
  },
  {
   "cell_type": "code",
   "execution_count": 143,
   "id": "324b94e1",
   "metadata": {
    "ExecuteTime": {
     "end_time": "2022-06-08T14:52:07.306000+08:00",
     "start_time": "2022-06-08T06:51:53.359Z"
    }
   },
   "outputs": [
    {
     "data": {
      "text/plain": [
       "1×2 Matrix{Int64}:\n",
       " -10  -10"
      ]
     },
     "execution_count": 143,
     "metadata": {},
     "output_type": "execute_result"
    }
   ],
   "source": [
    "[1  -1] * A3"
   ]
  },
  {
   "cell_type": "markdown",
   "id": "a0776ec7",
   "metadata": {},
   "source": [
    "注意结果是 1×2 矩阵，即行向量，而不是向量。 **向量是一维数组，行向量是二维数组**。\n",
    "\n",
    "从以上例子可以看出在**矩阵运算中向量可以看成是列向量， 矩阵乘法结果如果是列向量，也会表示成向量（一维数组）**。"
   ]
  },
  {
   "cell_type": "markdown",
   "id": "7cda2761",
   "metadata": {},
   "source": [
    "## 矩阵转置"
   ]
  },
  {
   "cell_type": "markdown",
   "id": "a9a65c35",
   "metadata": {},
   "source": [
    "用A’表示矩阵A的共轭转置，对实值矩阵就是转置。 如"
   ]
  },
  {
   "cell_type": "code",
   "execution_count": 144,
   "id": "1164d5e8",
   "metadata": {
    "ExecuteTime": {
     "end_time": "2022-06-08T14:52:07.307000+08:00",
     "start_time": "2022-06-08T06:51:53.370Z"
    }
   },
   "outputs": [
    {
     "data": {
      "text/plain": [
       "2×3 Matrix{Int64}:\n",
       " 1  2  3\n",
       " 4  5  6"
      ]
     },
     "execution_count": 144,
     "metadata": {},
     "output_type": "execute_result"
    }
   ],
   "source": [
    "A1"
   ]
  },
  {
   "cell_type": "code",
   "execution_count": 145,
   "id": "1cf88305",
   "metadata": {
    "ExecuteTime": {
     "end_time": "2022-06-08T14:52:07.668000+08:00",
     "start_time": "2022-06-08T06:51:53.377Z"
    }
   },
   "outputs": [
    {
     "data": {
      "text/plain": [
       "3×2 adjoint(::Matrix{Int64}) with eltype Int64:\n",
       " 1  4\n",
       " 2  5\n",
       " 3  6"
      ]
     },
     "execution_count": 145,
     "metadata": {},
     "output_type": "execute_result"
    }
   ],
   "source": [
    "A1'"
   ]
  },
  {
   "cell_type": "markdown",
   "id": "1462e6d7",
   "metadata": {},
   "source": [
    "**两个向量x和y的内积用LinearAlgebra包的dot(x, y)表示，结果为一个标量**。如"
   ]
  },
  {
   "cell_type": "code",
   "execution_count": 146,
   "id": "1503858b",
   "metadata": {
    "ExecuteTime": {
     "end_time": "2022-06-08T14:52:07.693000+08:00",
     "start_time": "2022-06-08T06:51:53.385Z"
    }
   },
   "outputs": [
    {
     "data": {
      "text/plain": [
       "-1"
      ]
     },
     "execution_count": 146,
     "metadata": {},
     "output_type": "execute_result"
    }
   ],
   "source": [
    "import LinearAlgebra\n",
    "LinearAlgebra.dot([1, -1], [2, 3])"
   ]
  },
  {
   "cell_type": "markdown",
   "id": "c4b6008a",
   "metadata": {},
   "source": [
    "## 矩阵合并"
   ]
  },
  {
   "cell_type": "markdown",
   "id": "0f41cd21",
   "metadata": {},
   "source": [
    "设A, B, C是矩阵， **[A B C]将三个矩阵横向合并**， 这等同于hcat(A, B, C)； **[A; B; C]将三个矩阵纵向合并**， 这等同于vcat(A, B, C)。"
   ]
  },
  {
   "cell_type": "markdown",
   "id": "41dcd716",
   "metadata": {},
   "source": [
    "## 矩阵求逆和解线性方程组"
   ]
  },
  {
   "cell_type": "markdown",
   "id": "22d1aa0f",
   "metadata": {},
   "source": [
    "inv(A)表示 $A^{-1}$ 。如"
   ]
  },
  {
   "cell_type": "code",
   "execution_count": 147,
   "id": "40bfe80a",
   "metadata": {
    "ExecuteTime": {
     "end_time": "2022-06-08T14:52:07.696000+08:00",
     "start_time": "2022-06-08T06:51:53.398Z"
    }
   },
   "outputs": [
    {
     "data": {
      "text/plain": [
       "2×2 Matrix{Int64}:\n",
       " 1  3\n",
       " 3  1"
      ]
     },
     "execution_count": 147,
     "metadata": {},
     "output_type": "execute_result"
    }
   ],
   "source": [
    "A4 = [1 3; 3 1]"
   ]
  },
  {
   "cell_type": "code",
   "execution_count": 148,
   "id": "3878bec1",
   "metadata": {
    "ExecuteTime": {
     "end_time": "2022-06-08T14:52:08.010000+08:00",
     "start_time": "2022-06-08T06:51:53.407Z"
    }
   },
   "outputs": [
    {
     "data": {
      "text/plain": [
       "2×2 Matrix{Float64}:\n",
       " -0.125   0.375\n",
       "  0.375  -0.125"
      ]
     },
     "execution_count": 148,
     "metadata": {},
     "output_type": "execute_result"
    }
   ],
   "source": [
    "inv(A4)"
   ]
  },
  {
   "cell_type": "markdown",
   "id": "586f65a3",
   "metadata": {},
   "source": [
    "用A \\ B表示 $A^{−1}B$ ， 当B是向量或者列向量时， 就是求解线性方程组 Ax=B 中的 x 。 如"
   ]
  },
  {
   "cell_type": "code",
   "execution_count": 149,
   "id": "44d7fd3f",
   "metadata": {
    "ExecuteTime": {
     "end_time": "2022-06-08T14:52:08.978000+08:00",
     "start_time": "2022-06-08T06:51:53.414Z"
    }
   },
   "outputs": [
    {
     "data": {
      "text/plain": [
       "2-element Vector{Float64}:\n",
       "  1.0\n",
       " -1.0"
      ]
     },
     "execution_count": 149,
     "metadata": {},
     "output_type": "execute_result"
    }
   ],
   "source": [
    "A4 \\ [-2, 2]"
   ]
  },
  {
   "cell_type": "markdown",
   "id": "290b1d57",
   "metadata": {},
   "source": [
    "Julia提供了线性代数计算所需的一些函数， 有些在Base包中，有些则在LinearAlgebra包中。 参见LinearAlgebra包的文档。"
   ]
  },
  {
   "cell_type": "markdown",
   "id": "44cf190b",
   "metadata": {},
   "source": [
    "# 字符串处理"
   ]
  },
  {
   "cell_type": "markdown",
   "id": "a968d9f1",
   "metadata": {},
   "source": [
    "## 字符串下标与遍历"
   ]
  },
  {
   "cell_type": "markdown",
   "id": "591029d7",
   "metadata": {},
   "source": [
    "**length()** 求字符串中字符个数， 每个汉字算一个字符。 **对字符串用下标访问，是按字节计算的**， 因为一个汉字可能占据多个字节， 所以有些下标位置能返回字符， 有些下标会出错。 如"
   ]
  },
  {
   "cell_type": "code",
   "execution_count": 150,
   "id": "c162809e",
   "metadata": {
    "ExecuteTime": {
     "end_time": "2022-06-08T14:52:08.979000+08:00",
     "start_time": "2022-06-08T06:51:53.426Z"
    }
   },
   "outputs": [
    {
     "data": {
      "text/plain": [
       "5"
      ]
     },
     "execution_count": 150,
     "metadata": {},
     "output_type": "execute_result"
    }
   ],
   "source": [
    "s = \"汉字123\"\n",
    "length(s)"
   ]
  },
  {
   "cell_type": "code",
   "execution_count": 151,
   "id": "8818094b",
   "metadata": {
    "ExecuteTime": {
     "end_time": "2022-06-08T14:52:08.985000+08:00",
     "start_time": "2022-06-08T06:51:53.433Z"
    }
   },
   "outputs": [
    {
     "data": {
      "text/plain": [
       "'汉': Unicode U+6C49 (category Lo: Letter, other)"
      ]
     },
     "execution_count": 151,
     "metadata": {},
     "output_type": "execute_result"
    }
   ],
   "source": [
    "s[1]"
   ]
  },
  {
   "cell_type": "code",
   "execution_count": 152,
   "id": "43d7ccd2",
   "metadata": {
    "ExecuteTime": {
     "end_time": "2022-06-08T14:52:09.068000+08:00",
     "start_time": "2022-06-08T06:51:53.440Z"
    }
   },
   "outputs": [
    {
     "ename": "LoadError",
     "evalue": "StringIndexError: invalid index [2], valid nearby indices [1]=>'汉', [4]=>'字'",
     "output_type": "error",
     "traceback": [
      "StringIndexError: invalid index [2], valid nearby indices [1]=>'汉', [4]=>'字'",
      "",
      "Stacktrace:",
      " [1] string_index_err(s::String, i::Int64)",
      "   @ Base .\\strings\\string.jl:12",
      " [2] getindex_continued(s::String, i::Int64, u::UInt32)",
      "   @ Base .\\strings\\string.jl:233",
      " [3] getindex(s::String, i::Int64)",
      "   @ Base .\\strings\\string.jl:226",
      " [4] top-level scope",
      "   @ In[152]:1",
      " [5] eval",
      "   @ .\\boot.jl:373 [inlined]",
      " [6] include_string(mapexpr::typeof(REPL.softscope), mod::Module, code::String, filename::String)",
      "   @ Base .\\loading.jl:1196"
     ]
    }
   ],
   "source": [
    "s[2]"
   ]
  },
  {
   "cell_type": "code",
   "execution_count": 153,
   "id": "a1944494",
   "metadata": {
    "ExecuteTime": {
     "end_time": "2022-06-08T14:52:09.070000+08:00",
     "start_time": "2022-06-08T06:51:53.447Z"
    }
   },
   "outputs": [
    {
     "data": {
      "text/plain": [
       "'1': ASCII/Unicode U+0031 (category Nd: Number, decimal digit)"
      ]
     },
     "execution_count": 153,
     "metadata": {},
     "output_type": "execute_result"
    }
   ],
   "source": [
    "s[7]"
   ]
  },
  {
   "cell_type": "code",
   "execution_count": 154,
   "id": "150abef8",
   "metadata": {
    "ExecuteTime": {
     "end_time": "2022-06-08T14:52:09.071000+08:00",
     "start_time": "2022-06-08T06:51:53.454Z"
    }
   },
   "outputs": [
    {
     "data": {
      "text/plain": [
       "\"汉\""
      ]
     },
     "execution_count": 154,
     "metadata": {},
     "output_type": "execute_result"
    }
   ],
   "source": [
    "s[1:1]"
   ]
  },
  {
   "cell_type": "code",
   "execution_count": 155,
   "id": "4a943ca2",
   "metadata": {
    "ExecuteTime": {
     "end_time": "2022-06-08T14:52:09.081000+08:00",
     "start_time": "2022-06-08T06:51:53.460Z"
    }
   },
   "outputs": [
    {
     "ename": "LoadError",
     "evalue": "StringIndexError: invalid index [2], valid nearby indices [1]=>'汉', [4]=>'字'",
     "output_type": "error",
     "traceback": [
      "StringIndexError: invalid index [2], valid nearby indices [1]=>'汉', [4]=>'字'",
      "",
      "Stacktrace:",
      " [1] string_index_err(s::String, i::Int64)",
      "   @ Base .\\strings\\string.jl:12",
      " [2] getindex(s::String, r::UnitRange{Int64})",
      "   @ Base .\\strings\\string.jl:262",
      " [3] top-level scope",
      "   @ In[155]:1",
      " [4] eval",
      "   @ .\\boot.jl:373 [inlined]",
      " [5] include_string(mapexpr::typeof(REPL.softscope), mod::Module, code::String, filename::String)",
      "   @ Base .\\loading.jl:1196"
     ]
    }
   ],
   "source": [
    "s[2:4]"
   ]
  },
  {
   "cell_type": "markdown",
   "id": "56b27ac1",
   "metadata": {},
   "source": [
    "这种设计是为了能够高效地访问字符串中的字符， 因为使用**UTF-8编码，每个字符所用字节个数可能会不同**。\n",
    "\n",
    "**函数firstindex(s)返回s中第一个字符的下标， lastindex(s)返回s中最后一个字符的下标， thisind(s, i)返回字节i所在字符的开始字节位置， nextind(s, i)返回s中跟随在下标i后面的合法字符字节下标， prevtind(s, i)返回s中跟随在下标i前面的合法字符字节下标**。 如："
   ]
  },
  {
   "cell_type": "code",
   "execution_count": 156,
   "id": "4f75aed6",
   "metadata": {
    "ExecuteTime": {
     "end_time": "2022-06-08T14:52:09.081000+08:00",
     "start_time": "2022-06-08T06:51:53.468Z"
    }
   },
   "outputs": [
    {
     "data": {
      "text/plain": [
       "'汉': Unicode U+6C49 (category Lo: Letter, other)"
      ]
     },
     "execution_count": 156,
     "metadata": {},
     "output_type": "execute_result"
    }
   ],
   "source": [
    "s[1]"
   ]
  },
  {
   "cell_type": "code",
   "execution_count": 157,
   "id": "3d6933b2",
   "metadata": {
    "ExecuteTime": {
     "end_time": "2022-06-08T14:52:09.082000+08:00",
     "start_time": "2022-06-08T06:51:53.475Z"
    }
   },
   "outputs": [
    {
     "data": {
      "text/plain": [
       "4"
      ]
     },
     "execution_count": 157,
     "metadata": {},
     "output_type": "execute_result"
    }
   ],
   "source": [
    "nextind(s, 1)"
   ]
  },
  {
   "cell_type": "code",
   "execution_count": 158,
   "id": "c4aed327",
   "metadata": {
    "ExecuteTime": {
     "end_time": "2022-06-08T14:52:09.084000+08:00",
     "start_time": "2022-06-08T06:51:53.480Z"
    }
   },
   "outputs": [
    {
     "data": {
      "text/plain": [
       "'字': Unicode U+5B57 (category Lo: Letter, other)"
      ]
     },
     "execution_count": 158,
     "metadata": {},
     "output_type": "execute_result"
    }
   ],
   "source": [
    "s[4]"
   ]
  },
  {
   "cell_type": "markdown",
   "id": "180816bc",
   "metadata": {},
   "source": [
    "对字符串s， **collect(s)可以将字符串s转换成一个字符数组**， 每个元素是字符串中的一个字符："
   ]
  },
  {
   "cell_type": "code",
   "execution_count": 159,
   "id": "737bc681",
   "metadata": {
    "ExecuteTime": {
     "end_time": "2022-06-08T14:52:09.692000+08:00",
     "start_time": "2022-06-08T06:51:53.488Z"
    }
   },
   "outputs": [
    {
     "data": {
      "text/plain": [
       "5-element Vector{Char}:\n",
       " '汉': Unicode U+6C49 (category Lo: Letter, other)\n",
       " '字': Unicode U+5B57 (category Lo: Letter, other)\n",
       " '1': ASCII/Unicode U+0031 (category Nd: Number, decimal digit)\n",
       " '2': ASCII/Unicode U+0032 (category Nd: Number, decimal digit)\n",
       " '3': ASCII/Unicode U+0033 (category Nd: Number, decimal digit)"
      ]
     },
     "execution_count": 159,
     "metadata": {},
     "output_type": "execute_result"
    }
   ],
   "source": [
    "collect(s)"
   ]
  },
  {
   "cell_type": "code",
   "execution_count": 160,
   "id": "e5034ea6",
   "metadata": {
    "ExecuteTime": {
     "end_time": "2022-06-08T14:52:09.699000+08:00",
     "start_time": "2022-06-08T06:51:53.494Z"
    }
   },
   "outputs": [
    {
     "data": {
      "text/plain": [
       "'汉': Unicode U+6C49 (category Lo: Letter, other)"
      ]
     },
     "execution_count": 160,
     "metadata": {},
     "output_type": "execute_result"
    }
   ],
   "source": [
    "collect(s)[1]"
   ]
  },
  {
   "cell_type": "markdown",
   "id": "cb6e6ec2",
   "metadata": {},
   "source": [
    "对字符串中每个字符也可以用for循环遍历，如"
   ]
  },
  {
   "cell_type": "code",
   "execution_count": 161,
   "id": "10761143",
   "metadata": {
    "ExecuteTime": {
     "end_time": "2022-06-08T14:52:09.746000+08:00",
     "start_time": "2022-06-08T06:51:53.502Z"
    }
   },
   "outputs": [
    {
     "name": "stdout",
     "output_type": "stream",
     "text": [
      "汉\n",
      "字\n",
      "1\n",
      "2\n",
      "3\n"
     ]
    }
   ],
   "source": [
    "for ch in \"汉字123\"\n",
    "    println(ch)\n",
    "end"
   ]
  },
  {
   "cell_type": "markdown",
   "id": "a5d4922d",
   "metadata": {},
   "source": [
    "## 读写字符串"
   ]
  },
  {
   "cell_type": "markdown",
   "id": "d4d5d22a",
   "metadata": {},
   "source": [
    "函数readlines(filename)指定一个输入的文本文件名， 将文件的各行读入为一个字符串数组， 每个元素保存一行，默认不带有换行标志"
   ]
  },
  {
   "cell_type": "markdown",
   "id": "dbc01f79",
   "metadata": {},
   "source": [
    "可以用如下方式对输入文件的每行循环："
   ]
  },
  {
   "cell_type": "code",
   "execution_count": 162,
   "id": "7af34130",
   "metadata": {
    "ExecuteTime": {
     "end_time": "2022-06-08T14:52:09.759000+08:00",
     "start_time": "2022-06-08T06:51:53.511Z"
    }
   },
   "outputs": [
    {
     "ename": "LoadError",
     "evalue": "UndefVarError: filename not defined",
     "output_type": "error",
     "traceback": [
      "UndefVarError: filename not defined",
      "",
      "Stacktrace:",
      " [1] top-level scope",
      "   @ .\\In[162]:1",
      " [2] eval",
      "   @ .\\boot.jl:373 [inlined]",
      " [3] include_string(mapexpr::typeof(REPL.softscope), mod::Module, code::String, filename::String)",
      "   @ Base .\\loading.jl:1196"
     ]
    }
   ],
   "source": [
    "for line in eachline(filename)\n",
    "    ## 对line进行一些操作\n",
    "end"
   ]
  },
  {
   "cell_type": "markdown",
   "id": "f8359ce5",
   "metadata": {},
   "source": [
    "Julia没有提供一个writelines()函数， 自定义及测试如下："
   ]
  },
  {
   "cell_type": "code",
   "execution_count": 163,
   "id": "dc454194",
   "metadata": {
    "ExecuteTime": {
     "end_time": "2022-06-08T14:52:10.257000+08:00",
     "start_time": "2022-06-08T06:51:53.519Z"
    }
   },
   "outputs": [
    {
     "ename": "LoadError",
     "evalue": "MethodError: no method matching writelines(::Vector{String}, ::String)\n\u001b[0mClosest candidates are:\n\u001b[0m  writelines(\u001b[91m::Vector{AbstractString}\u001b[39m, ::AbstractString) at In[163]:1",
     "output_type": "error",
     "traceback": [
      "MethodError: no method matching writelines(::Vector{String}, ::String)\n\u001b[0mClosest candidates are:\n\u001b[0m  writelines(\u001b[91m::Vector{AbstractString}\u001b[39m, ::AbstractString) at In[163]:1",
      "",
      "Stacktrace:",
      " [1] top-level scope",
      "   @ In[163]:11",
      " [2] eval",
      "   @ .\\boot.jl:373 [inlined]",
      " [3] include_string(mapexpr::typeof(REPL.softscope), mod::Module, code::String, filename::String)",
      "   @ Base .\\loading.jl:1196"
     ]
    }
   ],
   "source": [
    "function writelines(lines::Array{AbstractString, 1}, filename::AbstractString)\n",
    "    open(filename, \"w\") do io\n",
    "        for line in lines\n",
    "            println(io, line)\n",
    "        end\n",
    "    end\n",
    "    return\n",
    "end\n",
    "\n",
    "lines = map(string, 1:3)\n",
    "writelines(lines, \"tmp1.txt\")"
   ]
  },
  {
   "cell_type": "markdown",
   "id": "468a9f85",
   "metadata": {},
   "source": [
    "## 字符串函数"
   ]
  },
  {
   "cell_type": "markdown",
   "id": "1a0df5b9",
   "metadata": {},
   "source": [
    "Julia有很多与字符串处理的函数。 如length, sizeof, ^或repeat， lpad, rpad, strip, lstrip, rstrip, chop, chomp, uppercase, lowercase, titlecase, uppercasefirst, lowercasefirst, reverse。\n",
    "\n",
    "**join(x, dlm)将字符串数组x的元素用指定的分隔符分隔后连接成一个长字符串**，如"
   ]
  },
  {
   "cell_type": "code",
   "execution_count": 164,
   "id": "3e680f3f",
   "metadata": {
    "ExecuteTime": {
     "end_time": "2022-06-08T14:52:10.262000+08:00",
     "start_time": "2022-06-08T06:51:53.528Z"
    }
   },
   "outputs": [
    {
     "data": {
      "text/plain": [
       "\"abc-+-汉字-+-1\""
      ]
     },
     "execution_count": 164,
     "metadata": {},
     "output_type": "execute_result"
    }
   ],
   "source": [
    "join([\"abc\", \"汉字\", \"1\"], \"-+-\")"
   ]
  },
  {
   "cell_type": "markdown",
   "id": "dc739278",
   "metadata": {},
   "source": [
    "collect(s)将字符串s转换成一个字符数组。\n",
    "\n",
    "string(x)将数值x转换成字符串表示， string(x, y, z)将x, y, z都转换成字符串然后连接起来。 repr(x)将表达式x的值表示成字符串。 parse(Int64, s)将字符串s中的数值转换成整数类型， parse(Float64, s)将字符串s中的数值转换成Float64类型。\n",
    "\n",
    "occursin(needle, haystack)(v1.0)返回needle是否出现在haystack中， 如"
   ]
  },
  {
   "cell_type": "code",
   "execution_count": 165,
   "id": "fb85a5b4",
   "metadata": {
    "ExecuteTime": {
     "end_time": "2022-06-08T14:52:10.263000+08:00",
     "start_time": "2022-06-08T06:51:53.536Z"
    }
   },
   "outputs": [
    {
     "data": {
      "text/plain": [
       "true"
      ]
     },
     "execution_count": 165,
     "metadata": {},
     "output_type": "execute_result"
    }
   ],
   "source": [
    "occursin(\"oar\", \"board\")"
   ]
  },
  {
   "cell_type": "markdown",
   "id": "16cd2606",
   "metadata": {},
   "source": [
    "startswith(s, prefix), endswith(s, suffix)检查字符串前缀和后缀。\n",
    "\n",
    "**first(s, n), last(s, n)取出头或者尾部指定个数的字符**。\n",
    "\n",
    "**split()函数将分隔的字符串拆分成字符串数组**，如"
   ]
  },
  {
   "cell_type": "code",
   "execution_count": 166,
   "id": "ba7f1b95",
   "metadata": {
    "ExecuteTime": {
     "end_time": "2022-06-08T14:52:10.587000+08:00",
     "start_time": "2022-06-08T06:51:53.544Z"
    }
   },
   "outputs": [
    {
     "name": "stdout",
     "output_type": "stream",
     "text": [
      "SubString{String}[\"1\", \" 2\", \" 3\"]\n"
     ]
    }
   ],
   "source": [
    "println(split(\"1, 2, 3\", \",\"))"
   ]
  },
  {
   "cell_type": "markdown",
   "id": "88683892",
   "metadata": {},
   "source": [
    "## 字符串插值"
   ]
  },
  {
   "cell_type": "markdown",
   "id": "e4917926",
   "metadata": {},
   "source": [
    "在字符串中可以用\\\\$变量名或\\$(表达式)的格式插入变量值或者表达式值。 如："
   ]
  },
  {
   "cell_type": "code",
   "execution_count": 167,
   "id": "90843afa",
   "metadata": {
    "ExecuteTime": {
     "end_time": "2022-06-08T14:52:10.588000+08:00",
     "start_time": "2022-06-08T06:51:53.555Z"
    }
   },
   "outputs": [
    {
     "data": {
      "text/plain": [
       "\"x = 123\""
      ]
     },
     "execution_count": 167,
     "metadata": {},
     "output_type": "execute_result"
    }
   ],
   "source": [
    "x = 123\n",
    "\"x = $x\""
   ]
  },
  {
   "cell_type": "code",
   "execution_count": 168,
   "id": "342bb7f3",
   "metadata": {
    "ExecuteTime": {
     "end_time": "2022-06-08T14:52:10.589000+08:00",
     "start_time": "2022-06-08T06:51:53.562Z"
    }
   },
   "outputs": [
    {
     "data": {
      "text/plain": [
       "\"123 + 100 = 223\""
      ]
     },
     "execution_count": 168,
     "metadata": {},
     "output_type": "execute_result"
    }
   ],
   "source": [
    "\"123 + 100 = $(123+100)\""
   ]
  },
  {
   "cell_type": "markdown",
   "id": "3730703a",
   "metadata": {},
   "source": [
    "## 正则表达式"
   ]
  },
  {
   "cell_type": "markdown",
   "id": "ab99f5b0",
   "metadata": {},
   "source": [
    "Julia支持正则表达式功能。 Julia的正则表达式采用Perl规则。\n",
    "\n",
    "正则表达式的写法对初学者比较困难， 这里不进行详细讲解， 读者可以找一本专门讲正则表达式的书， 或者其它编程语言中讲到正则表达式的书。 例如， 本文作者讲R语言的书中有一章讲文本处理， 其中比较详细地讲解了正则表达式的语法， 见： http://www.math.pku.edu.cn/teachers/lidf/docs/Rbook/html/_Rbook/text.html\n",
    "\n",
    "Julia中正则表达式模式字符串是双撇号界定的特殊字符串开始双撇号之前加r字母作为前缀， 还可以在字符串结尾的双撇号滞后增加一些表示选项的字母， 遵从Perl语言的约定， 如i表示不区分大小写， m表示行首和行尾的匹配是针对每一行进行的， s表示句点可以匹配换行符，等等。 比如，\n",
    "\n",
    "pat=r\"John\"i\n",
    "会不区分大小写地匹配John单词。\n",
    "\n",
    "加了r前缀的正则表达式中的特殊字符\\不需要写成两个， 如r\"\\w\"就表示一个字母、数字、下划线， 而不是写成r\"\\\\w\"。\n",
    "\n",
    "可以用Regex()函数将一个字符串型的表达式转换成正则表达式类型， 这样可以动态地构造正则表达式。\n",
    "\n",
    "下面的正则表达式对电子邮箱地址进行简单地匹配："
   ]
  },
  {
   "cell_type": "code",
   "execution_count": 169,
   "id": "57a6d094",
   "metadata": {
    "ExecuteTime": {
     "end_time": "2022-06-08T14:52:10.595000+08:00",
     "start_time": "2022-06-08T06:51:53.572Z"
    }
   },
   "outputs": [
    {
     "data": {
      "text/plain": [
       "true"
      ]
     },
     "execution_count": 169,
     "metadata": {},
     "output_type": "execute_result"
    }
   ],
   "source": [
    "pat = r\".+@.+\"\n",
    "occursin(pat, \"jason@abc.com\")"
   ]
  },
  {
   "cell_type": "markdown",
   "id": "97a68eaa",
   "metadata": {},
   "source": [
    "occursin()仅返回是否匹配。 用match()函数返回匹配结果， 设结果为m， 则m.match()返回匹配的整个字符串， m.offset()返回匹配的开始字符下标， m.offsets()返回匹配的各个子模式的开始字符下标， m.captures()返回匹配的各个子模式。 如"
   ]
  },
  {
   "cell_type": "code",
   "execution_count": 170,
   "id": "b0f5907c",
   "metadata": {
    "ExecuteTime": {
     "end_time": "2022-06-08T14:52:10.855000+08:00",
     "start_time": "2022-06-08T06:51:53.580Z"
    }
   },
   "outputs": [
    {
     "name": "stdout",
     "output_type": "stream",
     "text": [
      "jason@abc.com\n",
      "3\n",
      "[3, 9]\n",
      "Union{Nothing, SubString{String}}[\"jason\", \"abc.com\"]\n"
     ]
    }
   ],
   "source": [
    "pat = r\"([a-zA-Z0-9_.]+)@([a-zA-Z0-9_.]+)\"\n",
    "m = match(pat, \"==jason@abc.com==\")\n",
    "println(m.match)\n",
    "println(m.offset)\n",
    "println(m.offsets)\n",
    "println(m.captures)"
   ]
  },
  {
   "cell_type": "markdown",
   "id": "b011dc19",
   "metadata": {},
   "source": [
    "用findfirst找到某个模式首次出现, findlast找到某个模式最后一次出现， findnext找到某个模式在指定位置之后的首次出现， findprev找到某个模式在指定位置之前的首次出现。 返回值为匹配的字节位置范围。 如："
   ]
  },
  {
   "cell_type": "code",
   "execution_count": 171,
   "id": "b7b158d8",
   "metadata": {
    "ExecuteTime": {
     "end_time": "2022-06-08T14:52:10.861000+08:00",
     "start_time": "2022-06-08T06:51:53.589Z"
    }
   },
   "outputs": [
    {
     "data": {
      "text/plain": [
       "10:22"
      ]
     },
     "execution_count": 171,
     "metadata": {},
     "output_type": "execute_result"
    }
   ],
   "source": [
    "pat = r\"([a-zA-Z0-9_.]+)@([a-zA-Z0-9_.]+)\"\n",
    "s = \"张三：jason@abc.com; 李四: tom@bde.com\"\n",
    "findfirst(pat, s)"
   ]
  },
  {
   "cell_type": "code",
   "execution_count": 172,
   "id": "3135f0e6",
   "metadata": {
    "ExecuteTime": {
     "end_time": "2022-06-08T14:52:10.862000+08:00",
     "start_time": "2022-06-08T06:51:53.595Z"
    }
   },
   "outputs": [
    {
     "data": {
      "text/plain": [
       "\"jason@abc.com\""
      ]
     },
     "execution_count": 172,
     "metadata": {},
     "output_type": "execute_result"
    }
   ],
   "source": [
    "s[10:22]"
   ]
  },
  {
   "cell_type": "code",
   "execution_count": 173,
   "id": "abaa2e72",
   "metadata": {
    "ExecuteTime": {
     "end_time": "2022-06-08T14:52:10.867000+08:00",
     "start_time": "2022-06-08T06:51:53.602Z"
    }
   },
   "outputs": [
    {
     "data": {
      "text/plain": [
       "33:43"
      ]
     },
     "execution_count": 173,
     "metadata": {},
     "output_type": "execute_result"
    }
   ],
   "source": [
    "findnext(pat, s, 23)"
   ]
  },
  {
   "cell_type": "code",
   "execution_count": 174,
   "id": "edfb02d1",
   "metadata": {
    "ExecuteTime": {
     "end_time": "2022-06-08T14:52:10.868000+08:00",
     "start_time": "2022-06-08T06:51:53.608Z"
    }
   },
   "outputs": [
    {
     "data": {
      "text/plain": [
       "\"tom@bde.com\""
      ]
     },
     "execution_count": 174,
     "metadata": {},
     "output_type": "execute_result"
    }
   ],
   "source": [
    "s[33:43]"
   ]
  },
  {
   "cell_type": "code",
   "execution_count": 175,
   "id": "67cb3118",
   "metadata": {
    "ExecuteTime": {
     "end_time": "2022-06-08T14:52:10.875000+08:00",
     "start_time": "2022-06-08T06:51:53.614Z"
    }
   },
   "outputs": [
    {
     "data": {
      "text/plain": [
       "40:43"
      ]
     },
     "execution_count": 175,
     "metadata": {},
     "output_type": "execute_result"
    }
   ],
   "source": [
    "findlast(\".com\", s)"
   ]
  },
  {
   "cell_type": "markdown",
   "id": "c6a03baa",
   "metadata": {},
   "source": [
    "replace()函数可以用来从字符串中替换某个指定的模式为另外的替换值， 替换字符串使用s前缀的字符串， 也可以用SubstitutionString()将一个字符串型表达式转换成替换字符串类型。"
   ]
  },
  {
   "cell_type": "code",
   "execution_count": 176,
   "id": "50d0e6e8",
   "metadata": {
    "ExecuteTime": {
     "end_time": "2022-06-08T14:52:10.893000+08:00",
     "start_time": "2022-06-08T06:51:53.622Z"
    }
   },
   "outputs": [
    {
     "data": {
      "text/plain": [
       "\"==jason-nospam@abc.com==\""
      ]
     },
     "execution_count": 176,
     "metadata": {},
     "output_type": "execute_result"
    }
   ],
   "source": [
    "pat = r\"([a-zA-Z0-9_.]+)@([a-zA-Z0-9_.]+)\"\n",
    "reppat = s\"\\1-nospam@\\2\"\n",
    "replace(\"==jason@abc.com==\", pat => reppat)"
   ]
  },
  {
   "cell_type": "markdown",
   "id": "8de905ab",
   "metadata": {},
   "source": [
    "其中包含s前缀的字符串是替换字符串，其中的\\1等的反斜杠不需要重复。\n",
    "\n",
    "可以用eachmatch()函数提供对对多处匹配的循环。如"
   ]
  },
  {
   "cell_type": "code",
   "execution_count": 177,
   "id": "6978c87b",
   "metadata": {
    "ExecuteTime": {
     "end_time": "2022-06-08T14:52:10.926000+08:00",
     "start_time": "2022-06-08T06:51:53.630Z"
    }
   },
   "outputs": [
    {
     "name": "stdout",
     "output_type": "stream",
     "text": [
      "\"It\"\n",
      "\"is\"\n",
      "\"raining\"\n"
     ]
    }
   ],
   "source": [
    "pat = r\"\\w+\"\n",
    "for imatch in eachmatch(pat, \"It is raining.\")\n",
    "    println(\"\\\"$(imatch.match)\\\"\")\n",
    "end"
   ]
  },
  {
   "cell_type": "markdown",
   "id": "a553f12f",
   "metadata": {},
   "source": [
    "# Julia互操作性"
   ]
  },
  {
   "cell_type": "markdown",
   "id": "9f2ca1c9",
   "metadata": {},
   "source": [
    "## 文本文件读写"
   ]
  },
  {
   "cell_type": "markdown",
   "id": "b0970e38",
   "metadata": {},
   "source": [
    "对文本文件， **readlines(filename)** 函数根据输入的文件名读入文件的各行为字符串数组， 每个元素是一行， 缺省不包含换行符。 用**read(filename, String)** 将整个文件读入为一个长字符串。**write(filename, lines)** 写入文件。\n",
    "\n",
    "用**fh = open(filename)** 打开指定的文件用于读取， 这里fh称为一个文件句柄。 读取如readline(fh)。 用close(fh)关闭fh对应的文件。\n",
    "\n",
    "用**fh = open(filename, \"w\")** 打开指定的文件用于输出， 写入如println(fh, \"x = \", x)。 结束写入后用close(fh)关闭输出文件。\n",
    "\n",
    "用**CSV.read(\"xx.csv\", DataFrame)** 函数读取CSV文件\n",
    "用**CSV.write(\"xx.csv\", table)** 函数写入CSV文件，用using Tables Tables.table(x)将向量转为table格式\n",
    "\n",
    "Julia 1.0中没有writelines()函数， 可以自定义如下的函数："
   ]
  },
  {
   "cell_type": "code",
   "execution_count": 4,
   "id": "5647ce16",
   "metadata": {
    "ExecuteTime": {
     "end_time": "2022-06-09T14:54:44.643000+08:00",
     "start_time": "2022-06-09T06:54:43.762Z"
    }
   },
   "outputs": [
    {
     "data": {
      "text/plain": [
       "writelines (generic function with 1 method)"
      ]
     },
     "execution_count": 4,
     "metadata": {},
     "output_type": "execute_result"
    }
   ],
   "source": [
    "function writelines(filename, lines)\n",
    "    open(filename, \"w\") do io\n",
    "        for line in lines\n",
    "            println(io, line)\n",
    "        end\n",
    "    end\n",
    "    return\n",
    "end\n",
    "\n",
    "#fh = \"C://Users//TR//Desktop//MLJ.txt\"\n",
    "#x = \"lines\"\n",
    "#writelines(fh, x)\n",
    "#close(fh)"
   ]
  },
  {
   "cell_type": "code",
   "execution_count": 1,
   "id": "145d1f25",
   "metadata": {
    "ExecuteTime": {
     "end_time": "2022-09-06T14:57:26.167000+08:00",
     "start_time": "2022-09-06T06:57:25.820Z"
    }
   },
   "outputs": [],
   "source": [
    "# filename = joinpath(pwd(), \"dist.txt\")\n",
    "# Distance = \"euclidean\"\n",
    "# open(filename, \"w\") do io\n",
    "#     print(io, Distance)\n",
    "# end"
   ]
  },
  {
   "cell_type": "markdown",
   "id": "5f9eb7f9",
   "metadata": {
    "ExecuteTime": {
     "end_time": "2022-05-27T10:45:27.705000+08:00",
     "start_time": "2022-05-27T02:45:27.144Z"
    }
   },
   "source": [
    "filename文件路径，用//来衔接路径，lines要读的数据。"
   ]
  },
  {
   "cell_type": "markdown",
   "id": "8117f2e3",
   "metadata": {},
   "source": [
    "### DelimitedFiles"
   ]
  },
  {
   "cell_type": "code",
   "execution_count": 6,
   "id": "08bc1bde",
   "metadata": {
    "ExecuteTime": {
     "end_time": "2022-06-09T15:00:35.104000+08:00",
     "start_time": "2022-06-09T07:00:35.101Z"
    }
   },
   "outputs": [],
   "source": [
    "using DelimitedFiles #可以用来读写矩阵等"
   ]
  },
  {
   "cell_type": "markdown",
   "id": "3a69c3b1",
   "metadata": {},
   "source": [
    "readlm(filename)读文件；writelm(filename,lines)写文件"
   ]
  },
  {
   "cell_type": "markdown",
   "id": "3b157385",
   "metadata": {},
   "source": [
    "### JLD2"
   ]
  },
  {
   "cell_type": "code",
   "execution_count": 7,
   "id": "db4a54e9",
   "metadata": {
    "ExecuteTime": {
     "end_time": "2022-06-09T15:00:54.082000+08:00",
     "start_time": "2022-06-09T07:00:53.778Z"
    }
   },
   "outputs": [],
   "source": [
    "using JLD2"
   ]
  },
  {
   "cell_type": "markdown",
   "id": "2ddb3cdc",
   "metadata": {},
   "source": [
    "jldopen(filename)读文件；write(filename,lines)写文件"
   ]
  },
  {
   "cell_type": "markdown",
   "id": "4fd770bf",
   "metadata": {},
   "source": [
    "### IOBuffer"
   ]
  },
  {
   "cell_type": "markdown",
   "id": "8b1b6ed0",
   "metadata": {},
   "source": [
    "## 文件和目录信息"
   ]
  },
  {
   "cell_type": "markdown",
   "id": "77e79cf3",
   "metadata": {},
   "source": [
    "文件保存在目录（directory）中。 用**pwd()** 返回当前的工作目录， 不给定具体路径的文件名默认在工作目录中。 用**cd(path)** 设定path为当前工作目录。\n",
    "\n",
    "用**abspath(filename)** 求一个文件的绝对路径。 用**joinpath()** 将目录与文件连接成一个完整路径。\n",
    "\n",
    "用**ispath(filename)** 判断每个文件或者目录是否存在。 用**isdir(filename)** 判断某个路径是否目录， 用**isfile(filename)** 判断某个路径是否文件。\n",
    "\n",
    "用**readdir(path)** 返回指定目录的文件和子目录列表， 无path时对应当前工作目录。\n",
    "\n",
    "用**mkdir()** 创建空目录及该目录的权限。\n",
    "\n",
    "用**cp()** 将一个文件复制到另一个文件中，用**mv()** 将一个文件移动到其他路径或文件中。"
   ]
  },
  {
   "cell_type": "markdown",
   "id": "6332cdcc",
   "metadata": {},
   "source": [
    "## 从Julia调用Python"
   ]
  },
  {
   "cell_type": "markdown",
   "id": "f0343317",
   "metadata": {},
   "source": [
    "首先需要安装名为PyCall的包，它将用于将Python代码导入Julia中。如果需要调用python中的第三方库，则需要使用@pyimport宏，它允许我们调用第三方库。"
   ]
  },
  {
   "cell_type": "code",
   "execution_count": 179,
   "id": "3f3a1b83",
   "metadata": {
    "ExecuteTime": {
     "end_time": "2022-06-08T14:52:11.869000+08:00",
     "start_time": "2022-06-08T06:51:53.655Z"
    }
   },
   "outputs": [],
   "source": [
    "using PyCall"
   ]
  },
  {
   "cell_type": "code",
   "execution_count": 180,
   "id": "1c2a1484",
   "metadata": {
    "ExecuteTime": {
     "end_time": "2022-06-08T14:52:13.065000+08:00",
     "start_time": "2022-06-08T06:51:53.665Z"
    }
   },
   "outputs": [
    {
     "data": {
      "text/plain": [
       "0.5806111842123143"
      ]
     },
     "execution_count": 180,
     "metadata": {},
     "output_type": "execute_result"
    }
   ],
   "source": [
    "@pyimport numpy as np\n",
    "np.sin(120)"
   ]
  },
  {
   "cell_type": "markdown",
   "id": "6daa9b7b",
   "metadata": {},
   "source": [
    "# 程序控制结构"
   ]
  },
  {
   "cell_type": "markdown",
   "id": "12dc74aa",
   "metadata": {},
   "source": [
    "## 复合表达式"
   ]
  },
  {
   "cell_type": "markdown",
   "id": "0a5c4d64",
   "metadata": {},
   "source": [
    "用begin ... end可以将多行的多个表达式组合起来当作一个表达式， **复合表达式的值是其中最后一个表达式的值**。 如"
   ]
  },
  {
   "cell_type": "code",
   "execution_count": 181,
   "id": "fc810736",
   "metadata": {
    "ExecuteTime": {
     "end_time": "2022-06-08T14:52:13.066000+08:00",
     "start_time": "2022-06-08T06:51:53.675Z"
    }
   },
   "outputs": [
    {
     "data": {
      "text/plain": [
       "3"
      ]
     },
     "execution_count": 181,
     "metadata": {},
     "output_type": "execute_result"
    }
   ],
   "source": [
    "z = begin\n",
    "  x = 1\n",
    "  y = 2\n",
    "  x + y\n",
    "end\n",
    "z"
   ]
  },
  {
   "cell_type": "markdown",
   "id": "f5b5c2b0",
   "metadata": {},
   "source": [
    "**多个表达式也可以用分号分隔后写在圆括号中，作为一个复合表达式**，如"
   ]
  },
  {
   "cell_type": "code",
   "execution_count": 182,
   "id": "c18ae763",
   "metadata": {
    "ExecuteTime": {
     "end_time": "2022-06-08T14:52:13.067000+08:00",
     "start_time": "2022-06-08T06:51:53.682Z"
    }
   },
   "outputs": [
    {
     "data": {
      "text/plain": [
       "3"
      ]
     },
     "execution_count": 182,
     "metadata": {},
     "output_type": "execute_result"
    }
   ],
   "source": [
    "z = (x = 1; y = 2; x + y)\n",
    "z"
   ]
  },
  {
   "cell_type": "markdown",
   "id": "20b7015e",
   "metadata": {},
   "source": [
    "## 短路与&&运算以及分支结构"
   ]
  },
  {
   "cell_type": "markdown",
   "id": "5c8513b0",
   "metadata": {},
   "source": [
    "**&& 是一种短路与运算， 表达式cond && expr 仅当cond为true时才计算（运行）expr**， 所以这种写法经常用作程序分支的简写： 条件cond为真时执行expr， 否则不执行。\n",
    "\n",
    "比如，在计算x的平方根之前，先判断其非负："
   ]
  },
  {
   "cell_type": "code",
   "execution_count": 183,
   "id": "35233ed7",
   "metadata": {
    "ExecuteTime": {
     "end_time": "2022-06-08T14:52:13.153000+08:00",
     "start_time": "2022-06-08T06:51:53.690Z"
    }
   },
   "outputs": [
    {
     "name": "stdout",
     "output_type": "stream",
     "text": [
      "平方根计算：自变量定义域错误，x=-1.44\n"
     ]
    }
   ],
   "source": [
    "x = -1.44\n",
    "x < 0 && println(\"平方根计算：自变量定义域错误，x=\", x)"
   ]
  },
  {
   "cell_type": "markdown",
   "id": "642e95cf",
   "metadata": {},
   "source": [
    "## 短路或||运算以及分支结构"
   ]
  },
  {
   "cell_type": "markdown",
   "id": "0e171f7b",
   "metadata": {},
   "source": [
    "**||是一种短路或运算，表达式cond || expr 仅当cond为false时才计算（运行）expr**， 所以这种写法经常作为程序分支的缩写： 条件cond为假时才执行expr，否则不执行。\n",
    "\n",
    "比如，求平方根时当自变量不为负时才计算平方根："
   ]
  },
  {
   "cell_type": "code",
   "execution_count": 184,
   "id": "e81e7621",
   "metadata": {
    "ExecuteTime": {
     "end_time": "2022-06-08T14:52:13.155000+08:00",
     "start_time": "2022-06-08T06:51:53.699Z"
    }
   },
   "outputs": [
    {
     "data": {
      "text/plain": [
       "true"
      ]
     },
     "execution_count": 184,
     "metadata": {},
     "output_type": "execute_result"
    }
   ],
   "source": [
    "x < 0 || (y = sqrt(x))"
   ]
  },
  {
   "cell_type": "markdown",
   "id": "9da481f7",
   "metadata": {},
   "source": [
    "## if–end结构"
   ]
  },
  {
   "cell_type": "markdown",
   "id": "81da5077",
   "metadata": {},
   "source": [
    "可以用if cond ... end结构在条件cond成立时才执行某些语句，如"
   ]
  },
  {
   "cell_type": "code",
   "execution_count": 185,
   "id": "efeece29",
   "metadata": {
    "ExecuteTime": {
     "end_time": "2022-06-08T14:52:13.200000+08:00",
     "start_time": "2022-06-08T06:51:53.709Z"
    }
   },
   "outputs": [
    {
     "name": "stdout",
     "output_type": "stream",
     "text": [
      "√1.44 = 1.2\n"
     ]
    }
   ],
   "source": [
    "x = 1.44\n",
    "if x >= 0\n",
    "  y = sqrt(x)\n",
    "  println(\"√\", x, \" = \", y)\n",
    "end"
   ]
  },
  {
   "cell_type": "markdown",
   "id": "edd3689d",
   "metadata": {},
   "source": [
    "注意条件不需要用括号包围，**结构以end语句结尾**。"
   ]
  },
  {
   "cell_type": "markdown",
   "id": "48ff2791",
   "metadata": {},
   "source": [
    "## if–else–end结构"
   ]
  },
  {
   "cell_type": "markdown",
   "id": "3bff2176",
   "metadata": {},
   "source": [
    "if cond ... else ... end结构当条件成立时执行第一个分支中的语句， 当条件不成立时执行第二个分支中的语句。 如"
   ]
  },
  {
   "cell_type": "code",
   "execution_count": 186,
   "id": "7163be47",
   "metadata": {
    "ExecuteTime": {
     "end_time": "2022-06-08T14:52:13.216000+08:00",
     "start_time": "2022-06-08T06:51:53.718Z"
    }
   },
   "outputs": [
    {
     "name": "stdout",
     "output_type": "stream",
     "text": [
      "√-1.44 = 1.2i\n"
     ]
    }
   ],
   "source": [
    "x = -1.44\n",
    "if x >= 0\n",
    "  y = sqrt(x)\n",
    "  println(\"√\", x, \" = \", y)\n",
    "else\n",
    "  y = sqrt(-x)\n",
    "  println(\"√\", x, \" = \", y, \"i\")\n",
    "end"
   ]
  },
  {
   "cell_type": "markdown",
   "id": "e1536db9",
   "metadata": {},
   "source": [
    "## if-elseif-else-end结构"
   ]
  },
  {
   "cell_type": "markdown",
   "id": "b237a3f6",
   "metadata": {},
   "source": [
    "if cond1 ... elseif cond2 ... else ... end可以有多个分支， 有多个条件cond1, cond2, ……， 依次判断各个条件，那个条件成立就执行对应分支的语句， 所有条件都不成立则执行else分支的语句。 条件cond2隐含条件cond1不成立， cond3隐含cond1和cond2都不成立， 依此类推。 例如"
   ]
  },
  {
   "cell_type": "code",
   "execution_count": 187,
   "id": "9021d9d9",
   "metadata": {
    "ExecuteTime": {
     "end_time": "2022-06-08T14:52:13.217000+08:00",
     "start_time": "2022-06-08T06:51:53.727Z"
    }
   },
   "outputs": [
    {
     "name": "stdout",
     "output_type": "stream",
     "text": [
      "中青年\n"
     ]
    }
   ],
   "source": [
    "age = 35\n",
    "if age < 18\n",
    "  println(\"未成年\")\n",
    "elseif age < 60\n",
    "  println(\"中青年\")\n",
    "elseif age < 100\n",
    "  println(\"老年\")\n",
    "else\n",
    "  println(\"老寿星！\")\n",
    "end"
   ]
  },
  {
   "cell_type": "markdown",
   "id": "944a3ca8",
   "metadata": {},
   "source": [
    "## 三元运算符"
   ]
  },
  {
   "cell_type": "markdown",
   "id": "1cb6fc1f",
   "metadata": {},
   "source": [
    "可以用**cond ? expr1 : expr2**表示比较简单的两分支选择， 当cond成立时结果为expr1的结果， 当cond不成立时结果为expr2的结果。 如"
   ]
  },
  {
   "cell_type": "code",
   "execution_count": 188,
   "id": "b131ced8",
   "metadata": {
    "ExecuteTime": {
     "end_time": "2022-06-08T14:52:13.219000+08:00",
     "start_time": "2022-06-08T06:51:53.736Z"
    }
   },
   "outputs": [
    {
     "data": {
      "text/plain": [
       "1.2"
      ]
     },
     "execution_count": 188,
     "metadata": {},
     "output_type": "execute_result"
    }
   ],
   "source": [
    "x = -1.44\n",
    "x >= 0 ? sqrt(x) : sqrt(-x)"
   ]
  },
  {
   "cell_type": "markdown",
   "id": "4a13d0a9",
   "metadata": {},
   "source": [
    "## for循环"
   ]
  },
  {
   "cell_type": "markdown",
   "id": "9a2d8184",
   "metadata": {},
   "source": [
    "for循环一般是沿着某个范围进行计算或处理，格式如下：\n",
    "\n",
    "        for loopvar = a:b\n",
    "          expr1\n",
    "          expr2\n",
    "          ...\n",
    "        end\n",
    "其中loopvar是自己命名的循环变量名， for结构块内的语句（表达式）先对loopvar=a运行， 再对loopvar=a+1运行, 最后对loopvar=b运行，然后结束。 如"
   ]
  },
  {
   "cell_type": "code",
   "execution_count": 189,
   "id": "352cf143",
   "metadata": {
    "ExecuteTime": {
     "end_time": "2022-06-08T14:52:13.272000+08:00",
     "start_time": "2022-06-08T06:51:53.744Z"
    }
   },
   "outputs": [
    {
     "name": "stdout",
     "output_type": "stream",
     "text": [
      "1^3 = 1\n",
      "2^3 = 8\n",
      "3^3 = 27\n"
     ]
    }
   ],
   "source": [
    "for i=1:3\n",
    "  y = i^3\n",
    "  println(i, \"^3 = \", y)\n",
    "end"
   ]
  },
  {
   "cell_type": "markdown",
   "id": "2aa098ff",
   "metadata": {},
   "source": [
    "范围也可以是1:2:9, 0:0.1:1这样的带有跨度（增量）的， **可以是倒数的如3:-1:1表示3, 2, 1，中间-1为步长**。\n",
    "\n",
    "要小心的是，循环内的变量都是循环的局部变量， 比如上例中的i和y都是局部的， 退出循环后无法访问i和y的值。 循环内可以读取循环外部的变量值但是不能修改循环外部变量的值。\n",
    "\n",
    "当循环在自定义函数内时， 可以读写循环外的变量， 但是循环变量以及循环内新定义的变量仍不能在退出循环后保留。\n",
    "\n",
    "**在自定义函数之外使用循环外的变量时， 应该在循环开始处用global关键字声明该变量**。 如："
   ]
  },
  {
   "cell_type": "code",
   "execution_count": 190,
   "id": "d9851429",
   "metadata": {
    "ExecuteTime": {
     "end_time": "2022-06-08T14:52:13.281000+08:00",
     "start_time": "2022-06-08T06:51:53.751Z"
    }
   },
   "outputs": [
    {
     "name": "stdout",
     "output_type": "stream",
     "text": [
      "120\n"
     ]
    }
   ],
   "source": [
    "n = 5\n",
    "p = 1\n",
    "for i = 1:n\n",
    "    global p\n",
    "    p *= i\n",
    "end\n",
    "println(p)"
   ]
  },
  {
   "cell_type": "markdown",
   "id": "0ad71ab4",
   "metadata": {},
   "source": [
    "Julia程序在Jupyter界面运行时， 可以用选项使得循环内的变量能够直接访问循环外的变量， 不需要global声明。 但是，为兼容性起见， 还是应该按语法要求加上global声明。"
   ]
  },
  {
   "cell_type": "markdown",
   "id": "94b1f3ab",
   "metadata": {},
   "source": [
    "## 对向量元素循环"
   ]
  },
  {
   "cell_type": "markdown",
   "id": "d92dd189",
   "metadata": {},
   "source": [
    "用**in**关键字，可以使得循环变量遍历某个向量的元素，如："
   ]
  },
  {
   "cell_type": "code",
   "execution_count": 191,
   "id": "921d34cc",
   "metadata": {
    "ExecuteTime": {
     "end_time": "2022-06-08T14:52:13.312000+08:00",
     "start_time": "2022-06-08T06:51:53.762Z"
    }
   },
   "outputs": [
    {
     "name": "stdout",
     "output_type": "stream",
     "text": [
      "2^3 = 8\n",
      "3^3 = 27\n",
      "5^3 = 125\n",
      "7^3 = 343\n",
      "11^3 = 1331\n"
     ]
    }
   ],
   "source": [
    "x = [2, 3, 5, 7, 11]\n",
    "for i in x\n",
    "  y = i^3\n",
    "  println(i, \"^3 = \", y)\n",
    "end"
   ]
  },
  {
   "cell_type": "markdown",
   "id": "32c7e838",
   "metadata": {},
   "source": [
    "## 向量下标循环"
   ]
  },
  {
   "cell_type": "markdown",
   "id": "37293317",
   "metadata": {},
   "source": [
    "设x是一个向量，上面的做法可以遍历x每个元素。 有时还需要按照向量的下标遍历，这时使用eachindex(x)，如"
   ]
  },
  {
   "cell_type": "code",
   "execution_count": 192,
   "id": "59aba0f2",
   "metadata": {
    "ExecuteTime": {
     "end_time": "2022-06-08T14:52:13.359000+08:00",
     "start_time": "2022-06-08T06:51:53.771Z"
    }
   },
   "outputs": [
    {
     "name": "stdout",
     "output_type": "stream",
     "text": [
      "Prime No. 1 = 2\n",
      "Prime No. 2 = 3\n",
      "Prime No. 3 = 5\n",
      "Prime No. 4 = 7\n",
      "Prime No. 5 = 11\n"
     ]
    }
   ],
   "source": [
    "x = [2, 3, 5, 7, 11]\n",
    "for i in eachindex(x)\n",
    "  println(\"Prime No. \", i, \" = \", x[i])\n",
    "end"
   ]
  },
  {
   "cell_type": "markdown",
   "id": "d5b02701",
   "metadata": {},
   "source": [
    "用**enumerate()可以对下标与值同时循环**，如"
   ]
  },
  {
   "cell_type": "code",
   "execution_count": 193,
   "id": "9614dc62",
   "metadata": {
    "ExecuteTime": {
     "end_time": "2022-06-08T14:52:13.424000+08:00",
     "start_time": "2022-06-08T06:51:53.778Z"
    }
   },
   "outputs": [
    {
     "name": "stdout",
     "output_type": "stream",
     "text": [
      "Prime No. 1 = 2\n",
      "Prime No. 2 = 3\n",
      "Prime No. 3 = 5\n",
      "Prime No. 4 = 7\n",
      "Prime No. 5 = 11\n"
     ]
    }
   ],
   "source": [
    "x = [2, 3, 5, 7, 11]\n",
    "for (i, xi) in enumerate(x)\n",
    "  println(\"Prime No. \", i, \" = \", xi)\n",
    "end"
   ]
  },
  {
   "cell_type": "markdown",
   "id": "4352124c",
   "metadata": {},
   "source": [
    "## 理解(Comprehension)"
   ]
  },
  {
   "cell_type": "markdown",
   "id": "0bd3bfa7",
   "metadata": {},
   "source": [
    "对向量的循环，经常可以表达成一种称为comprehension的语法（类似于python中的列表推导式）。 例如，为了生成1, 2, 3的立方的向量，可以写成"
   ]
  },
  {
   "cell_type": "code",
   "execution_count": 194,
   "id": "906e1509",
   "metadata": {
    "ExecuteTime": {
     "end_time": "2022-06-08T14:52:13.700000+08:00",
     "start_time": "2022-06-08T06:51:53.787Z"
    }
   },
   "outputs": [
    {
     "data": {
      "text/plain": [
       "3-element Vector{Int64}:\n",
       "  1\n",
       "  8\n",
       " 27"
      ]
     },
     "execution_count": 194,
     "metadata": {},
     "output_type": "execute_result"
    }
   ],
   "source": [
    "xcube = [i^3 for i=1:3]"
   ]
  },
  {
   "cell_type": "markdown",
   "id": "8a4ccf24",
   "metadata": {},
   "source": [
    "对前5个素数作立方，可以写成"
   ]
  },
  {
   "cell_type": "code",
   "execution_count": 195,
   "id": "07f9e01e",
   "metadata": {
    "ExecuteTime": {
     "end_time": "2022-06-08T14:52:13.743000+08:00",
     "start_time": "2022-06-08T06:51:53.794Z"
    }
   },
   "outputs": [
    {
     "data": {
      "text/plain": [
       "5-element Vector{Int64}:\n",
       "    8\n",
       "   27\n",
       "  125\n",
       "  343\n",
       " 1331"
      ]
     },
     "execution_count": 195,
     "metadata": {},
     "output_type": "execute_result"
    }
   ],
   "source": [
    "x = [2, 3, 5, 7, 11]\n",
    "y = [z^3 for z in x]"
   ]
  },
  {
   "cell_type": "markdown",
   "id": "1d9b6008",
   "metadata": {},
   "source": [
    "当然，这样的简单运算也可以用加点四则运算表示："
   ]
  },
  {
   "cell_type": "code",
   "execution_count": 196,
   "id": "ff1f1f76",
   "metadata": {
    "ExecuteTime": {
     "end_time": "2022-06-08T14:52:13.802000+08:00",
     "start_time": "2022-06-08T06:51:53.800Z"
    }
   },
   "outputs": [
    {
     "data": {
      "text/plain": [
       "5-element Vector{Int64}:\n",
       "    8\n",
       "   27\n",
       "  125\n",
       "  343\n",
       " 1331"
      ]
     },
     "execution_count": 196,
     "metadata": {},
     "output_type": "execute_result"
    }
   ],
   "source": [
    "x = [2, 3, 5, 7, 11]\n",
    "y = x .^ 3"
   ]
  },
  {
   "cell_type": "markdown",
   "id": "187ceccb",
   "metadata": {},
   "source": [
    "## 两重for循环"
   ]
  },
  {
   "cell_type": "markdown",
   "id": "5a32e16e",
   "metadata": {},
   "source": [
    "for循环可以嵌套，如"
   ]
  },
  {
   "cell_type": "code",
   "execution_count": 197,
   "id": "6a7d1529",
   "metadata": {
    "ExecuteTime": {
     "end_time": "2022-06-08T14:52:13.947000+08:00",
     "start_time": "2022-06-08T06:51:53.809Z"
    }
   },
   "outputs": [
    {
     "name": "stdout",
     "output_type": "stream",
     "text": [
      "1×1 = 1  \n",
      "1×2 = 2  2×2 = 4  \n",
      "1×3 = 3  2×3 = 6  3×3 = 9  \n",
      "1×4 = 4  2×4 = 8  3×4 = 12  4×4 = 16  \n",
      "1×5 = 5  2×5 = 10  3×5 = 15  4×5 = 20  5×5 = 25  \n",
      "1×6 = 6  2×6 = 12  3×6 = 18  4×6 = 24  5×6 = 30  6×6 = 36  \n",
      "1×7 = 7  2×7 = 14  3×7 = 21  4×7 = 28  5×7 = 35  6×7 = 42  7×7 = 49  \n",
      "1×8 = 8  2×8 = 16  3×8 = 24  4×8 = 32  5×8 = 40  6×8 = 48  7×8 = 56  8×8 = 64  \n",
      "1×9 = 9  2×9 = 18  3×9 = 27  4×9 = 36  5×9 = 45  6×9 = 54  7×9 = 63  8×9 = 72  9×9 = 81  \n"
     ]
    }
   ],
   "source": [
    "for i=1:9\n",
    "  for j=1:i\n",
    "    print(j, \"×\", i, \" = \", i*j, \"  \")\n",
    "  end\n",
    "  println()\n",
    "end"
   ]
  },
  {
   "cell_type": "markdown",
   "id": "b3e8030e",
   "metadata": {},
   "source": [
    "**这种两重循环可以简写为一个for语句，外层循环先写， 内层循环后写，中间用逗号分隔**。 如"
   ]
  },
  {
   "cell_type": "code",
   "execution_count": 198,
   "id": "444c69b5",
   "metadata": {
    "ExecuteTime": {
     "end_time": "2022-06-08T14:52:14.136000+08:00",
     "start_time": "2022-06-08T06:51:53.817Z"
    }
   },
   "outputs": [
    {
     "name": "stdout",
     "output_type": "stream",
     "text": [
      "1×1 = 1  \n",
      "1×2 = 2  2×2 = 4  \n",
      "1×3 = 3  2×3 = 6  3×3 = 9  \n",
      "1×4 = 4  2×4 = 8  3×4 = 12  4×4 = 16  \n",
      "1×5 = 5  2×5 = 10  3×5 = 15  4×5 = 20  5×5 = 25  \n",
      "1×6 = 6  2×6 = 12  3×6 = 18  4×6 = 24  5×6 = 30  6×6 = 36  \n",
      "1×7 = 7  2×7 = 14  3×7 = 21  4×7 = 28  5×7 = 35  6×7 = 42  7×7 = 49  \n",
      "1×8 = 8  2×8 = 16  3×8 = 24  4×8 = 32  5×8 = 40  6×8 = 48  7×8 = 56  8×8 = 64  \n",
      "1×9 = 9  2×9 = 18  3×9 = 27  4×9 = 36  5×9 = 45  6×9 = 54  7×9 = 63  8×9 = 72  9×9 = 81  \n"
     ]
    }
   ],
   "source": [
    "for i=1:9, j=1:i\n",
    "  print(j, \"×\", i, \" = \", i*j, \"  \")\n",
    "  j==i && println()\n",
    "end"
   ]
  },
  {
   "cell_type": "markdown",
   "id": "ef464750",
   "metadata": {},
   "source": [
    "## 矩阵元素遍历"
   ]
  },
  {
   "cell_type": "markdown",
   "id": "9389faa5",
   "metadata": {},
   "source": [
    "矩阵元素按照行列下标遍历，可以写成两重循环的形式。 **Julia的矩阵是按列存储的， 所以循环时先对第一列各个元素循环**， 再对第二列各个元素循环， ……，按这样的次序遍历是效率较高的。 如"
   ]
  },
  {
   "cell_type": "code",
   "execution_count": 199,
   "id": "dfebd147",
   "metadata": {
    "ExecuteTime": {
     "end_time": "2022-06-08T14:52:14.200000+08:00",
     "start_time": "2022-06-08T06:51:53.826Z"
    }
   },
   "outputs": [
    {
     "name": "stdout",
     "output_type": "stream",
     "text": [
      "A1[1, 1] = 1\n",
      "A1[2, 1] = 4\n",
      "A1[1, 2] = 2\n",
      "A1[2, 2] = 5\n",
      "A1[1, 3] = 3\n",
      "A1[2, 3] = 6\n"
     ]
    }
   ],
   "source": [
    "A1 = [1 2 3; \n",
    "      4 5 6]\n",
    "for j=1:3, i=1:2  #先列后行\n",
    "  println(\"A1[\", i, \", \", j, \"] = \", A1[i,j])\n",
    "end"
   ]
  },
  {
   "cell_type": "markdown",
   "id": "862f23b6",
   "metadata": {},
   "source": [
    "for结构的两重循环中写在前面的是外层循环, 循环变量变化较慢， 写在后面的是内层循环，循环变量变化较快。 上例中列下标j写在前面，行下标i写在后面， 所以关于列的循环j是外层循环，关于行的循环i是内层循环， 这样的矩阵元素遍历方式是按列次序遍历。"
   ]
  },
  {
   "cell_type": "markdown",
   "id": "6ffb539c",
   "metadata": {},
   "source": [
    "## 矩阵的comprehension"
   ]
  },
  {
   "cell_type": "markdown",
   "id": "aa2c5dab",
   "metadata": {},
   "source": [
    "**在方括号内用两重的循环变量遍历可以定义矩阵**。如"
   ]
  },
  {
   "cell_type": "code",
   "execution_count": 1,
   "id": "b9179c86",
   "metadata": {
    "ExecuteTime": {
     "end_time": "2022-06-12T17:10:55.801000+08:00",
     "start_time": "2022-06-12T09:10:54.328Z"
    }
   },
   "outputs": [
    {
     "data": {
      "text/plain": [
       "2×3 Matrix{Int64}:\n",
       " 101  102  103\n",
       " 201  202  203"
      ]
     },
     "execution_count": 1,
     "metadata": {},
     "output_type": "execute_result"
    }
   ],
   "source": [
    "Ac = [i*100+j for i=1:2, j=1:3]"
   ]
  },
  {
   "cell_type": "markdown",
   "id": "fed53016",
   "metadata": {},
   "source": [
    "这里写在前面的循环变量i对应于行下标， 写在后面的循环变量i对应于列下标。 执行时行下标i在内层循环，列下标j在外层循环。\n",
    "\n",
    "这种格式也允许在方括号前写出要求的元素类型，如："
   ]
  },
  {
   "cell_type": "code",
   "execution_count": 2,
   "id": "2b8dbb58",
   "metadata": {
    "ExecuteTime": {
     "end_time": "2022-06-12T17:11:02.967000+08:00",
     "start_time": "2022-06-12T09:11:02.639Z"
    }
   },
   "outputs": [
    {
     "data": {
      "text/plain": [
       "2×3 Matrix{Float64}:\n",
       " 101.0  102.0  103.0\n",
       " 201.0  202.0  203.0"
      ]
     },
     "execution_count": 2,
     "metadata": {},
     "output_type": "execute_result"
    }
   ],
   "source": [
    "Float64[i*100+j for i=1:2, j=1:3]"
   ]
  },
  {
   "cell_type": "markdown",
   "id": "87148e25",
   "metadata": {},
   "source": [
    "如下程序返回矩阵对角化的结果："
   ]
  },
  {
   "cell_type": "code",
   "execution_count": 202,
   "id": "f54ae2d4",
   "metadata": {
    "ExecuteTime": {
     "end_time": "2022-06-08T14:52:14.580000+08:00",
     "start_time": "2022-06-08T06:51:53.851Z"
    }
   },
   "outputs": [
    {
     "data": {
      "text/plain": [
       "2×3 Matrix{Int64}:\n",
       " 101    0  0\n",
       "   0  202  0"
      ]
     },
     "execution_count": 202,
     "metadata": {},
     "output_type": "execute_result"
    }
   ],
   "source": [
    "[(i==j ? Ac[i,i] : 0) for i=1:2, j=1:3]"
   ]
  },
  {
   "cell_type": "markdown",
   "id": "956cb11b",
   "metadata": {},
   "source": [
    "## while循环"
   ]
  },
  {
   "cell_type": "markdown",
   "id": "5185d7f3",
   "metadata": {},
   "source": [
    "for循环适用于对固定的元素或者下标的遍历， 在未预先知道具体循环次数时，需要使用当型循环循环或者直到型循环。\n",
    "\n",
    "Julia中用**while cond ... end表示当型循环**， 在条件cond成立时执行结构内的语句， 直到cond不成立时不再循环。\n",
    "\n",
    "这种循环一定要使得循环条件是在有限步内会成立的， 否则就产生无限循环，称为死循环，程序将无法终止。\n",
    "\n",
    "与for循环类似， while循环内的变量也是局部的， 在非自定义函数内while循环访问外部变量时也要用global关键字声明。 如："
   ]
  },
  {
   "cell_type": "code",
   "execution_count": 203,
   "id": "f1010806",
   "metadata": {
    "ExecuteTime": {
     "end_time": "2022-06-08T14:52:14.596000+08:00",
     "start_time": "2022-06-08T06:51:53.860Z"
    }
   },
   "outputs": [
    {
     "name": "stdout",
     "output_type": "stream",
     "text": [
      "120\n"
     ]
    }
   ],
   "source": [
    "s = 1\n",
    "i = 0\n",
    "while i < 5\n",
    "    global i, s\n",
    "    i += 1\n",
    "    s *= i \n",
    "end \n",
    "println(s)"
   ]
  },
  {
   "cell_type": "markdown",
   "id": "e9c73702",
   "metadata": {},
   "source": [
    "### 例：随机数查找"
   ]
  },
  {
   "cell_type": "markdown",
   "id": "f54f8fc2",
   "metadata": {},
   "source": [
    "设向量x中保存了许多[0,1]上的随机数， 依次查询直到找到第一个大于0.99的为止："
   ]
  },
  {
   "cell_type": "code",
   "execution_count": 204,
   "id": "3ba51180",
   "metadata": {
    "ExecuteTime": {
     "end_time": "2022-06-08T14:52:14.768000+08:00",
     "start_time": "2022-06-08T06:51:53.871Z"
    }
   },
   "outputs": [
    {
     "name": "stdout",
     "output_type": "stream",
     "text": [
      "i = 38 y = 0.9923555879129766\n"
     ]
    }
   ],
   "source": [
    "n = 1000\n",
    "x = rand(n)\n",
    "i = 1\n",
    "while i <= n && x[i] <= 0.99\n",
    "    global i\n",
    "    i += 1\n",
    "end\n",
    "if i <= n\n",
    "  println(\"i = \", i, \" y = \", x[i])\n",
    "else\n",
    "  println(\"Not found!\")\n",
    "end"
   ]
  },
  {
   "cell_type": "markdown",
   "id": "3d569e9a",
   "metadata": {},
   "source": [
    "## 直到型循环与break语句"
   ]
  },
  {
   "cell_type": "markdown",
   "id": "8e1833d4",
   "metadata": {},
   "source": [
    "当型循环每次进入循环之前判断循环条件是否成立， 成立才进入循环。\n",
    "\n",
    "直到型循环每次先进入循环，在循环末尾判断循环退出条件是否满足， 满足退出条件时就不再循环。 Julia语言没有提供专门的直到型循环语法，可以用如下的方法制作直到型循环：\n",
    "\n",
    "    while true\n",
    "     expr1\n",
    "     expr2\n",
    "     ...\n",
    "     cond && break\n",
    "    end\n",
    "其中cond是循环退出条件。**break语句表示退出当前循环**。"
   ]
  },
  {
   "cell_type": "markdown",
   "id": "40f16978",
   "metadata": {},
   "source": [
    "## continue语句"
   ]
  },
  {
   "cell_type": "markdown",
   "id": "09299e6b",
   "metadata": {},
   "source": [
    "break语句可以在循环内退出当前所在的循环， 去继续执行当前所在循环后面的程序。 **continue语句不是退出整个循环， 而是中止当前一轮循环， 进入循环的下一轮**。 在for循环和while循环中都可以使用break语句和continue语句。 如："
   ]
  },
  {
   "cell_type": "code",
   "execution_count": 205,
   "id": "a90e3e31",
   "metadata": {
    "ExecuteTime": {
     "end_time": "2022-06-08T14:52:14.800000+08:00",
     "start_time": "2022-06-08T06:51:53.883Z"
    }
   },
   "outputs": [
    {
     "name": "stdout",
     "output_type": "stream",
     "text": [
      "1\n",
      "1\n",
      "2\n",
      "4\n",
      "3\n"
     ]
    }
   ],
   "source": [
    "for i = 1:5\n",
    "    println(i)\n",
    "    if i==3\n",
    "        break\n",
    "    end\n",
    "    y = i*i \n",
    "    println(y)\n",
    "end"
   ]
  },
  {
   "cell_type": "code",
   "execution_count": 206,
   "id": "3113063c",
   "metadata": {
    "ExecuteTime": {
     "end_time": "2022-06-08T14:52:14.824000+08:00",
     "start_time": "2022-06-08T06:51:53.889Z"
    }
   },
   "outputs": [
    {
     "name": "stdout",
     "output_type": "stream",
     "text": [
      "1\n",
      "1\n",
      "2\n",
      "4\n",
      "3\n",
      "4\n",
      "16\n",
      "5\n",
      "25\n"
     ]
    }
   ],
   "source": [
    "for i = 1:5\n",
    "    println(i)\n",
    "    if i==3\n",
    "        continue\n",
    "    end\n",
    "    y = i*i \n",
    "    println(y)\n",
    "end"
   ]
  },
  {
   "cell_type": "markdown",
   "id": "bae2ecbd",
   "metadata": {},
   "source": [
    "## 异常处理"
   ]
  },
  {
   "cell_type": "markdown",
   "id": "d6d5a384",
   "metadata": {},
   "source": [
    "只要是程序， 就难以避免会有出错的时候。 为了在程序出错的时候造成严重后果， 传统的办法是对程序增加许多判断， 确保输入和处理是处于合法和正常的状态。 这样的做法过于依赖于程序员的经验， 程序代码也过于繁复。\n",
    "\n",
    "现代程序设计语言增加了“异常处理”功能。 程序出错时， 称为发生了异常(exception)， 编程时可以用专门的程序“捕获”这些异常， 并进行处理。 这并不能保证程序不出错， 而是出错时能得到及时的、不至于造成严重后果的处理。\n",
    "\n",
    "Julia中捕获异常并处理的基本结构是："
   ]
  },
  {
   "cell_type": "markdown",
   "id": "fbf047fb",
   "metadata": {
    "ExecuteTime": {
     "end_time": "2022-05-26T13:37:45.329000+08:00",
     "start_time": "2022-05-26T05:37:29.906Z"
    }
   },
   "source": [
    "try  \n",
    "  可能出错的程序  \n",
    "catch 异常类型变量名  \n",
    "  异常处理程序  \n",
    "end  "
   ]
  },
  {
   "cell_type": "code",
   "execution_count": 207,
   "id": "67dfeb49",
   "metadata": {
    "ExecuteTime": {
     "end_time": "2022-06-08T14:52:14.911000+08:00",
     "start_time": "2022-06-08T06:51:53.900Z"
    },
    "code_folding": []
   },
   "outputs": [
    {
     "name": "stdout",
     "output_type": "stream",
     "text": [
      "√2 = 1.4142135623730951\n",
      "√-2: 平方根函数定义域异常\n",
      "√a: 平方根函数其它异常"
     ]
    }
   ],
   "source": [
    "x = [2, -2, \"a\"]\n",
    "for xi in x \n",
    "    try\n",
    "        y = sqrt(xi)\n",
    "        println(\"√\", xi, \" = \", y)\n",
    "    catch ex \n",
    "        if isa(ex, DomainError)\n",
    "            println(\"√\", xi, \": 平方根函数定义域异常\")\n",
    "        else\n",
    "            print(\"√\", xi, \": 平方根函数其它异常\")\n",
    "        end\n",
    "    end \n",
    "end"
   ]
  },
  {
   "cell_type": "markdown",
   "id": "691d2e5b",
   "metadata": {},
   "source": [
    "异常处理代码会降低程序效率， 一些常见错误还是应该使用逻辑判断预先排除。\n",
    "\n",
    "throw()函数可以当场生成（称为“抛出”）一个异常对象， 如throw(DomainError())。 Julia中内建了一些异常类型， 详见Julia的手册。\n",
    "\n",
    "error(msg)可以直接抛出ErrorException对象， 使得程序停止， 并显示给出的msg字符串的内容。"
   ]
  },
  {
   "cell_type": "markdown",
   "id": "dbc0316f",
   "metadata": {},
   "source": [
    "# 函数初步"
   ]
  },
  {
   "cell_type": "markdown",
   "id": "a0e1ffa0",
   "metadata": {},
   "source": [
    "Julia语言支持自定义函数。 在计算机程序语言中， 函数是代码模块化、代码复用的基础。 将常用的计算或者操作写成函数以后， 每次要进行这样的计算或者操作， 只要简单地调用函数即可。 将复杂的任务分解成一个个函数， 可以使得任务流程更加明晰， 任务的不同阶段之间减少互相干扰。\n",
    "\n",
    "Julia用户需要了解的一点是， Julia利用一个叫做LLVM的即时编译(JIT)系统执行程序， Julia编译器先将程序编译为LLVM中间代码， LLVM再将中间代码转换成本地二进制代码执行， 这使得Julia程序运行效率可以与C++等强类型编译语言相比拟， 但这种做法使得Julia函数在第一次运行时产生额外的时间开销， 第二次运行时就没有额外开销了。 写成函数的Julia代码通常比没有写成函数的代码运行速度快很多， 因为函数的代码在编译时会进行许多优化， 而不写成函数的代码优化较少。\n",
    "\n",
    "**Julia程序中， 用#表示本行后面的内容是注释， 不参与执行。 可以用#=开始一段注释，用=#结束注释**。"
   ]
  },
  {
   "cell_type": "markdown",
   "id": "79f4a377",
   "metadata": {},
   "source": [
    "## 内建函数"
   ]
  },
  {
   "cell_type": "markdown",
   "id": "a875b9ee",
   "metadata": {},
   "source": [
    "Julia提供了许多内建函数，丰富了Julia基本库。"
   ]
  },
  {
   "cell_type": "markdown",
   "id": "8784892a",
   "metadata": {},
   "source": [
    "**typeof()** ：此函数主要用于显示传递给它的参数类型。  \n",
    "**methods()** ：在用户想要知道自己定义的函数有几个相对应的可用方法时使用。  \n",
    "**enumerate()** ：当需要遍历列表项，并在同一时间跟踪特定项目的索引位置时。  \n",
    "**parse()** ：用于解析给定的字符串并返回一个表达式，它可以将一个字符串参数代表的值，解析为该值本身的数据类型。  \n",
    "**maximum()** ：返回一个序列的最大值。  \n",
    "**minimum()** ：返回一个序列的最小值。  \n",
    "**size()** ：返回数组的大小。  "
   ]
  },
  {
   "cell_type": "markdown",
   "id": "05195996",
   "metadata": {},
   "source": [
    "符号也可以当函数使用："
   ]
  },
  {
   "cell_type": "code",
   "execution_count": 2,
   "id": "5dc09309",
   "metadata": {
    "ExecuteTime": {
     "end_time": "2022-06-09T10:10:59.455000+08:00",
     "start_time": "2022-06-09T02:10:59.290Z"
    }
   },
   "outputs": [
    {
     "data": {
      "text/plain": [
       "6"
      ]
     },
     "execution_count": 2,
     "metadata": {},
     "output_type": "execute_result"
    }
   ],
   "source": [
    "+(1,2,3)"
   ]
  },
  {
   "cell_type": "code",
   "execution_count": 3,
   "id": "a130b772",
   "metadata": {
    "ExecuteTime": {
     "end_time": "2022-06-09T10:11:19.337000+08:00",
     "start_time": "2022-06-09T02:11:19.334Z"
    }
   },
   "outputs": [
    {
     "data": {
      "text/plain": [
       "6"
      ]
     },
     "execution_count": 3,
     "metadata": {},
     "output_type": "execute_result"
    }
   ],
   "source": [
    "f = +\n",
    "f(1,2,3)"
   ]
  },
  {
   "cell_type": "markdown",
   "id": "60ed2b1f",
   "metadata": {},
   "source": [
    "## 自定义函数的单行格式"
   ]
  },
  {
   "cell_type": "code",
   "execution_count": 208,
   "id": "47fc2eb8",
   "metadata": {
    "ExecuteTime": {
     "end_time": "2022-06-08T14:52:15.085000+08:00",
     "start_time": "2022-06-08T06:51:53.915Z"
    }
   },
   "outputs": [
    {
     "data": {
      "text/plain": [
       "f (generic function with 1 method)"
      ]
     },
     "execution_count": 208,
     "metadata": {},
     "output_type": "execute_result"
    }
   ],
   "source": [
    "f(x) = x^2 + 3*x + 1"
   ]
  },
  {
   "cell_type": "code",
   "execution_count": 209,
   "id": "401acc61",
   "metadata": {
    "ExecuteTime": {
     "end_time": "2022-06-08T14:52:15.098000+08:00",
     "start_time": "2022-06-08T06:51:53.925Z"
    }
   },
   "outputs": [
    {
     "data": {
      "text/plain": [
       "11"
      ]
     },
     "execution_count": 209,
     "metadata": {},
     "output_type": "execute_result"
    }
   ],
   "source": [
    "f(2)"
   ]
  },
  {
   "cell_type": "code",
   "execution_count": 210,
   "id": "70d59b6b",
   "metadata": {
    "ExecuteTime": {
     "end_time": "2022-06-08T14:52:15.117000+08:00",
     "start_time": "2022-06-08T06:51:53.931Z"
    }
   },
   "outputs": [
    {
     "data": {
      "text/plain": [
       "5.510000000000001"
      ]
     },
     "execution_count": 210,
     "metadata": {},
     "output_type": "execute_result"
    }
   ],
   "source": [
    "f(1.1)"
   ]
  },
  {
   "cell_type": "markdown",
   "id": "07d04bd9",
   "metadata": {},
   "source": [
    "## 自定义函数的多行格式"
   ]
  },
  {
   "cell_type": "markdown",
   "id": "2f4e4058",
   "metadata": {},
   "source": [
    "需要用多行才能完成的计算或者操作， 就需要写成多行的形式。格式如\n",
    "\n",
    "         function funcname(x, y, z)\n",
    "            ...\n",
    "         end\n",
    "其中funcname是函数名称， x, y, z等是自变量名， ...是函数内的语句或表达式， 定义以end关键字结尾， end也是许多其它程序块的结尾标志。 函数体内的语句（表达式）一般缩进2到4个空格对齐， 但不像Python那样是必须的， 缩进主要是为了程序的可读性。 函数以最后一个表达式为返回值（结果）， 也可以用**return**关键字指定返回值。 不需要返回值的函数可以返回特殊的**nothing**值。 nothing是类似R中的Null的值， 表示不存在。 Julia中用**missing**表示缺失值。"
   ]
  },
  {
   "cell_type": "code",
   "execution_count": 211,
   "id": "bb6cfeac",
   "metadata": {
    "ExecuteTime": {
     "end_time": "2022-06-08T14:52:15.266000+08:00",
     "start_time": "2022-06-08T06:51:53.940Z"
    },
    "code_folding": []
   },
   "outputs": [
    {
     "data": {
      "text/plain": [
       "mysd (generic function with 1 method)"
      ]
     },
     "execution_count": 211,
     "metadata": {},
     "output_type": "execute_result"
    }
   ],
   "source": [
    "function mysd(x)\n",
    "  n = length(x)\n",
    "  mx = sum(x) / n\n",
    "  s = 0.0\n",
    "  for z in x\n",
    "    s += (z - mx)^2\n",
    "  end\n",
    "  sqrt(s / (n-1))\n",
    "end"
   ]
  },
  {
   "cell_type": "markdown",
   "id": "36db6e05",
   "metadata": {},
   "source": [
    "调用如"
   ]
  },
  {
   "cell_type": "code",
   "execution_count": 212,
   "id": "edb9d743",
   "metadata": {
    "ExecuteTime": {
     "end_time": "2022-06-08T14:52:15.288000+08:00",
     "start_time": "2022-06-08T06:51:53.948Z"
    }
   },
   "outputs": [
    {
     "data": {
      "text/plain": [
       "1.5811388300841898"
      ]
     },
     "execution_count": 212,
     "metadata": {},
     "output_type": "execute_result"
    }
   ],
   "source": [
    "mysd([1, 2, 3, 4, 5])"
   ]
  },
  {
   "cell_type": "markdown",
   "id": "09997c9a",
   "metadata": {},
   "source": [
    "事实上，上面的函数定义可以用向量化方法进行简化，如"
   ]
  },
  {
   "cell_type": "code",
   "execution_count": 213,
   "id": "5069bd26",
   "metadata": {
    "ExecuteTime": {
     "end_time": "2022-06-08T14:52:15.428000+08:00",
     "start_time": "2022-06-08T06:51:53.957Z"
    }
   },
   "outputs": [
    {
     "data": {
      "text/plain": [
       "mysd_simple (generic function with 1 method)"
      ]
     },
     "execution_count": 213,
     "metadata": {},
     "output_type": "execute_result"
    }
   ],
   "source": [
    "function mysd_simple(x)\n",
    "  n = length(x)\n",
    "  mx = sum(x)/n\n",
    "  sqrt( sum(x .- mx) / (n-1) )\n",
    "end"
   ]
  },
  {
   "cell_type": "markdown",
   "id": "1ecd9029",
   "metadata": {},
   "source": [
    "第二个版本x .- mx表示向量x每个元素与一个标量mx相减。 这样的做法在Julia中运行效率并不比第一个版本直接循环的效率更好， 甚至可能还不如第一个版本。 **Julia语言与R、Matlab等语言不同， 显式的循环一般有更高的执行效率， 向量化写法仅仅是可以使得程序比较简洁**。"
   ]
  },
  {
   "cell_type": "markdown",
   "id": "b72e0d8c",
   "metadata": {},
   "source": [
    "## 可选参数(Optional argument)和关键词参数(Keyword arguments)"
   ]
  },
  {
   "cell_type": "markdown",
   "id": "08907df8",
   "metadata": {},
   "source": [
    "函数的某些参数可以在定义时指定缺省值， 称为可选参数， 在调用时可以省略这些参数。 比如："
   ]
  },
  {
   "cell_type": "code",
   "execution_count": 214,
   "id": "518d9770",
   "metadata": {
    "ExecuteTime": {
     "end_time": "2022-06-08T14:52:15.549000+08:00",
     "start_time": "2022-06-08T06:51:53.973Z"
    }
   },
   "outputs": [
    {
     "data": {
      "text/plain": [
       "f_quad (generic function with 4 methods)"
      ]
     },
     "execution_count": 214,
     "metadata": {},
     "output_type": "execute_result"
    }
   ],
   "source": [
    "f_quad(x, a=1, b=0, c=0) = a*x^2 + b*x + c"
   ]
  },
  {
   "cell_type": "code",
   "execution_count": 215,
   "id": "a643dc14",
   "metadata": {
    "ExecuteTime": {
     "end_time": "2022-06-08T14:52:15.555000+08:00",
     "start_time": "2022-06-08T06:51:53.981Z"
    }
   },
   "outputs": [
    {
     "data": {
      "text/plain": [
       "2"
      ]
     },
     "execution_count": 215,
     "metadata": {},
     "output_type": "execute_result"
    }
   ],
   "source": [
    "f_quad(1,2)"
   ]
  },
  {
   "cell_type": "markdown",
   "id": "bc0844db",
   "metadata": {},
   "source": [
    "这样，调用f_quad(x)相当于f_quad(x, 1, 0, 0), f_quad(x, 2)相当于f_quad(x, 2, 0, 0), f_quad(x, 2, 4)相当于f_quad(x, 2, 4, 0)。 调用时总是假定最后的参数取缺省值而不能令中间的某个参数取缺省值而后续的参数取指定值， 所以f_quad(x, 2, 4)相当于f_quad(x, 2, 4, 0)。 不带缺省值的参数和带有缺省值的参数都称为按位置对应的参数(positional arguments)， **参数（称为虚参）与调用时的值（称为实参）按位置次序对应， 实参个数少于虚参个数时，缺少的必须是排在最后可选参数，按缺省值调用**。\n",
    "\n",
    "另外一种带有缺省值的参数称为**关键字参数**， **在定义函数时这些参数必须写在分号的后面， 调用时必须使用“参数名=参数值”的格式输入实参值**， 而不允许按位置对应。 关键字参数一般是函数的一些选项， 调用函数时仅当需要使用与缺省选择不同的选项时才输入关键字参数的值。 例如："
   ]
  },
  {
   "cell_type": "code",
   "execution_count": 216,
   "id": "b2b5c486",
   "metadata": {
    "ExecuteTime": {
     "end_time": "2022-06-08T14:52:15.693000+08:00",
     "start_time": "2022-06-08T06:51:53.989Z"
    }
   },
   "outputs": [
    {
     "data": {
      "text/plain": [
       "f_quad2 (generic function with 4 methods)"
      ]
     },
     "execution_count": 216,
     "metadata": {},
     "output_type": "execute_result"
    }
   ],
   "source": [
    "function f_quad2(x, a=1, b=0, c=0; descending=true)\n",
    "    if descending\n",
    "        return a*x^2 + b*x + c\n",
    "    else\n",
    "        return c*x^2 + b*x + a\n",
    "    end\n",
    "end"
   ]
  },
  {
   "cell_type": "markdown",
   "id": "f7113c70",
   "metadata": {},
   "source": [
    "则调用f_quad(x)相当于f_quad(x, 1, 0, 0)即x^2, 调用f_quad(x, descending=false)相当于f_quad(x, 0,0,1)即1。 调用时关键字参数与位置参数之间可以用分号分隔也可以用逗号分隔， 比如调用时f_quad(x, descending=false)和f_quad(x; descending=false)都可以。\n",
    "\n",
    "可以定义有多个关键字参数的函数， 关键字参数与位置参数之间用分号分隔。\n",
    "\n",
    "注意可选参数与关键字参数表面相似， 但是有本质差别：\n",
    "\n",
    "关键字参数在定义时必须用分号与位置参数分隔；  \n",
    "关键字参数在调用时，必须使用“变量名=变量值”的写法，次序不重要；  \n",
    "所有位置参数，不论是有缺省值的还是没有缺省值的， 都不允许写成“变量名=变量值”的写法, 只能按位置对应， 省略时只能从后向前省略；  \n",
    "Julia函数允许同一函数名根据不同的参数个数和类型（signature）而进行不同的操作， 每一个不同的参数组合称为一个“方法”， 这样的特性称为“多重派发”（multiple dispatch）， 这样的参数组合只考虑位置参数而不考虑关键字参数。"
   ]
  },
  {
   "cell_type": "markdown",
   "id": "a68594d0",
   "metadata": {},
   "source": [
    "## 可变个数参数与元组实参"
   ]
  },
  {
   "cell_type": "markdown",
   "id": "2cf15fc1",
   "metadata": {},
   "source": [
    "**在自定义函数的自变量名后面加上三个句点作为后缀，如args...， 则此函数可以有可变个数的位置参数， args为一个元组**。\n",
    "\n",
    "如："
   ]
  },
  {
   "cell_type": "code",
   "execution_count": 217,
   "id": "ee225f62",
   "metadata": {
    "ExecuteTime": {
     "end_time": "2022-06-08T14:52:15.813000+08:00",
     "start_time": "2022-06-08T06:51:54.000Z"
    }
   },
   "outputs": [
    {
     "name": "stdout",
     "output_type": "stream",
     "text": [
      "x=11\n",
      "其它参数：(1, 2, 3)\n"
     ]
    }
   ],
   "source": [
    "function f_vara1(x, args...)\n",
    "    println(\"x=\", x)\n",
    "    println(\"其它参数：\", args)\n",
    "end\n",
    "f_vara1(11, 1, 2, 3)"
   ]
  },
  {
   "cell_type": "markdown",
   "id": "c0c1e373",
   "metadata": {},
   "source": [
    "有时需要传递给一个多自变量函数的实参保存在了一个变量中， 比如， 函数max()求各个自变量中最大值， 如"
   ]
  },
  {
   "cell_type": "code",
   "execution_count": 218,
   "id": "070b211f",
   "metadata": {
    "ExecuteTime": {
     "end_time": "2022-06-08T14:52:15.818000+08:00",
     "start_time": "2022-06-08T06:51:54.011Z"
    }
   },
   "outputs": [
    {
     "data": {
      "text/plain": [
       "4"
      ]
     },
     "execution_count": 218,
     "metadata": {},
     "output_type": "execute_result"
    }
   ],
   "source": [
    "max(1, 3, 1, 4)"
   ]
  },
  {
   "cell_type": "markdown",
   "id": "88f5b385",
   "metadata": {},
   "source": [
    "**如果要求最大值的数已经在一个元组或数组中如何利用max()求最大值？ 可以用“展开”（scatter）的方法将一个变量中的多个值展开成函数的自变量， 方法是在作为实参的自变量名后面加三个句点后缀**，如"
   ]
  },
  {
   "cell_type": "code",
   "execution_count": 219,
   "id": "580295bc",
   "metadata": {
    "ExecuteTime": {
     "end_time": "2022-06-08T14:52:15.819000+08:00",
     "start_time": "2022-06-08T06:51:54.021Z"
    }
   },
   "outputs": [
    {
     "data": {
      "text/plain": [
       "4"
      ]
     },
     "execution_count": 219,
     "metadata": {},
     "output_type": "execute_result"
    }
   ],
   "source": [
    "x = [1, 3, 1, 4]\n",
    "max(x...) #max(x)会报错"
   ]
  },
  {
   "cell_type": "markdown",
   "id": "9b2111e1",
   "metadata": {},
   "source": [
    "## 多返回值"
   ]
  },
  {
   "cell_type": "markdown",
   "id": "bd1373c8",
   "metadata": {},
   "source": [
    "函数的最后一个表达式为函数的返回值， 也可以用return y这样的方法返回值。\n",
    "\n",
    "**如果需要返回多个值， 可以将多个值组成一个元组(tuple)返回， 通过这样的方式就可以返回多个结果**。 给元组赋值可以从结果中拆分出多个结果。 如"
   ]
  },
  {
   "cell_type": "code",
   "execution_count": 220,
   "id": "a3da9361",
   "metadata": {
    "ExecuteTime": {
     "end_time": "2022-06-08T14:52:15.893000+08:00",
     "start_time": "2022-06-08T06:51:54.032Z"
    }
   },
   "outputs": [
    {
     "name": "stdout",
     "output_type": "stream",
     "text": [
      "3.0, 11.0\n"
     ]
    }
   ],
   "source": [
    "function summ(x)\n",
    "  xm = sum(x) / length(x)\n",
    "  xs = sum(x .^2) / length(x)\n",
    "  return (xm, xs)\n",
    "end\n",
    "res1, res2 = summ([1, 2, 3, 4, 5]) #拆包\n",
    "println(res1, \", \", res2)"
   ]
  },
  {
   "cell_type": "markdown",
   "id": "508faa83",
   "metadata": {},
   "source": [
    "## 参数传递模式"
   ]
  },
  {
   "cell_type": "markdown",
   "id": "693a1414",
   "metadata": {},
   "source": [
    "Julia的参数传递是“共享传递”(pass by sharing)， 而不是按值传递，这样可以省去复制的开销。 **如果参数是可变(mutable)的数据类型，如数组， 则函数内修改了这些参数的值，传入的参数也会被修改**。\n",
    "\n",
    "例如："
   ]
  },
  {
   "cell_type": "code",
   "execution_count": 221,
   "id": "db57e211",
   "metadata": {
    "ExecuteTime": {
     "end_time": "2022-06-08T14:52:15.911000+08:00",
     "start_time": "2022-06-08T06:51:54.042Z"
    }
   },
   "outputs": [
    {
     "data": {
      "text/plain": [
       "3-element Vector{Int64}:\n",
       " 2\n",
       " 4\n",
       " 6"
      ]
     },
     "execution_count": 221,
     "metadata": {},
     "output_type": "execute_result"
    }
   ],
   "source": [
    "function double!(x)\n",
    "    for i in eachindex(x)\n",
    "        x[i] *= 2\n",
    "    end\n",
    "end\n",
    "xx = [1, 2, 3]\n",
    "double!(xx)\n",
    "xx"
   ]
  },
  {
   "cell_type": "markdown",
   "id": "60ec5e59",
   "metadata": {},
   "source": [
    "**Julia函数的命名习惯是， 如果函数会修改其第一个自变量的值， 将函数名末尾加上一个叹号后缀**。"
   ]
  },
  {
   "cell_type": "markdown",
   "id": "c76b271f",
   "metadata": {},
   "source": [
    "## 匿名函数"
   ]
  },
  {
   "cell_type": "markdown",
   "id": "4306362d",
   "metadata": {},
   "source": [
    "Julia的函数也是所谓“第一类对象”（first class objects）， 可以将函数本身绑定在一个变量上， 函数名并非必须， 允许有匿名函数。 **匿名函数在“函数式编程”(functional programming)范式中有重要作用**。\n",
    "\n",
    "匿名函数格式是： **参数表 $->$返回值表达式, 其中参数表即自变量表， 没有自变量时参数表写()， 只有一个自变量时可以不写圆括号而只写自变量名， 有多个自变量时将自变量表写成一个元组格式**。"
   ]
  },
  {
   "cell_type": "code",
   "execution_count": 222,
   "id": "9de51712",
   "metadata": {
    "ExecuteTime": {
     "end_time": "2022-06-08T14:52:16.025000+08:00",
     "start_time": "2022-06-08T06:51:54.054Z"
    }
   },
   "outputs": [
    {
     "data": {
      "text/plain": [
       "#14 (generic function with 1 method)"
      ]
     },
     "execution_count": 222,
     "metadata": {},
     "output_type": "execute_result"
    }
   ],
   "source": [
    "x -> x^2 + 1"
   ]
  },
  {
   "cell_type": "markdown",
   "id": "d736cab8",
   "metadata": {},
   "source": [
    "匿名函数的另一种写法如"
   ]
  },
  {
   "cell_type": "code",
   "execution_count": 223,
   "id": "a8483ef8",
   "metadata": {
    "ExecuteTime": {
     "end_time": "2022-06-08T14:52:16.112000+08:00",
     "start_time": "2022-06-08T06:51:54.063Z"
    }
   },
   "outputs": [
    {
     "data": {
      "text/plain": [
       "#16 (generic function with 1 method)"
      ]
     },
     "execution_count": 223,
     "metadata": {},
     "output_type": "execute_result"
    }
   ],
   "source": [
    "function (x)\n",
    "    x^2 + 1\n",
    "end"
   ]
  },
  {
   "cell_type": "markdown",
   "id": "c0201410",
   "metadata": {},
   "source": [
    "这样就产生了一个匿名函数。\n",
    "\n",
    "匿名函数经常用在map(), filter()，reduce()这样的函数式编程函数中。\n",
    "\n",
    "**map(f, x)将函数f应用到变量x的每个元素**，如："
   ]
  },
  {
   "cell_type": "code",
   "execution_count": 224,
   "id": "993538dd",
   "metadata": {
    "ExecuteTime": {
     "end_time": "2022-06-08T14:52:16.191000+08:00",
     "start_time": "2022-06-08T06:51:54.078Z"
    }
   },
   "outputs": [
    {
     "data": {
      "text/plain": [
       "3-element Vector{Int64}:\n",
       "  2\n",
       "  5\n",
       " 10"
      ]
     },
     "execution_count": 224,
     "metadata": {},
     "output_type": "execute_result"
    }
   ],
   "source": [
    "map(x -> x^2 + 1, [1,2,3])"
   ]
  },
  {
   "cell_type": "markdown",
   "id": "2336aa4e",
   "metadata": {},
   "source": [
    "在调用map()函数时， 如果对每个元素执行的操作需要用多行代码完成， 用匿名函数就不太方便。 例如，对数组的每个元素， 负数映射到0， 大于100的数映射到100， 其它数值不变，用有名函数可以写成："
   ]
  },
  {
   "cell_type": "code",
   "execution_count": 225,
   "id": "fbb34cd1",
   "metadata": {
    "ExecuteTime": {
     "end_time": "2022-06-08T14:52:16.239000+08:00",
     "start_time": "2022-06-08T06:51:54.086Z"
    }
   },
   "outputs": [
    {
     "data": {
      "text/plain": [
       "4-element Vector{Int64}:\n",
       "   0\n",
       "   0\n",
       "  80\n",
       " 100"
      ]
     },
     "execution_count": 225,
     "metadata": {},
     "output_type": "execute_result"
    }
   ],
   "source": [
    "function fwins(x)\n",
    "    if x < 0\n",
    "        y = 0\n",
    "    elseif x > 100\n",
    "        y = 100\n",
    "    else\n",
    "        y = x\n",
    "    end\n",
    "    return y\n",
    "end\n",
    "fwins.([-1, 0, 80, 120]) #函数加点对向量执行,不加点会报错"
   ]
  },
  {
   "cell_type": "markdown",
   "id": "aad81bfd",
   "metadata": {},
   "source": [
    "也可以写成map(fwins, [-1, 0, 80, 120])。 如果要用匿名函数的格式， Julia还提供了map函数的一种do块格式，如"
   ]
  },
  {
   "cell_type": "code",
   "execution_count": 226,
   "id": "6fe1e853",
   "metadata": {
    "ExecuteTime": {
     "end_time": "2022-06-08T14:52:16.261000+08:00",
     "start_time": "2022-06-08T06:51:54.094Z"
    }
   },
   "outputs": [
    {
     "data": {
      "text/plain": [
       "4-element Vector{Int64}:\n",
       "   0\n",
       "   0\n",
       "  80\n",
       " 100"
      ]
     },
     "execution_count": 226,
     "metadata": {},
     "output_type": "execute_result"
    }
   ],
   "source": [
    "map(fwins, [-1, 0, 80, 120])"
   ]
  },
  {
   "cell_type": "code",
   "execution_count": 227,
   "id": "79da131a",
   "metadata": {
    "ExecuteTime": {
     "end_time": "2022-06-08T14:52:16.286000+08:00",
     "start_time": "2022-06-08T06:51:54.100Z"
    }
   },
   "outputs": [
    {
     "data": {
      "text/plain": [
       "4-element Vector{Int64}:\n",
       "   0\n",
       "   0\n",
       "  80\n",
       " 100"
      ]
     },
     "execution_count": 227,
     "metadata": {},
     "output_type": "execute_result"
    }
   ],
   "source": [
    "map([-1, 0, 80, 120]) do x\n",
    "    if x < 0\n",
    "        y = 0\n",
    "    elseif x > 100\n",
    "        y = 100\n",
    "    else\n",
    "        y = x\n",
    "    end\n",
    "    return y\n",
    "end"
   ]
  },
  {
   "cell_type": "markdown",
   "id": "45622102",
   "metadata": {},
   "source": [
    "注意这样调用map()时圆括号中仅有要处理的数据， 要进行的操作写在do关键字后面， 操作写成了不带$->$符号的匿名函数格式。\n",
    "\n",
    "**函数filter(f, x)中f是返回布尔值的函数， x是向量， filter(f, x)的结果是将f作用在x的每个元素上， 输出f的结果为真值的那些元素组成的数组**。如"
   ]
  },
  {
   "cell_type": "code",
   "execution_count": 228,
   "id": "6c2e3b98",
   "metadata": {
    "ExecuteTime": {
     "end_time": "2022-06-08T14:52:16.300000+08:00",
     "start_time": "2022-06-08T06:51:54.110Z"
    }
   },
   "outputs": [
    {
     "data": {
      "text/plain": [
       "3-element Vector{Int64}:\n",
       " 1\n",
       " 2\n",
       " 3"
      ]
     },
     "execution_count": 228,
     "metadata": {},
     "output_type": "execute_result"
    }
   ],
   "source": [
    "filter(x -> x>0, [-2, 0, 1,2,3])"
   ]
  },
  {
   "cell_type": "markdown",
   "id": "f435aa5f",
   "metadata": {},
   "source": [
    "**reduce(f, x)中f是接受两个自变量的函数， 如加法、乘法，结果是将x中的元素用f反复按结合律计算结果**。 比如， 求x的元素和， 除了sum(x)函数， 也可以写成reduce(+, x)。\n",
    "\n",
    "**map()、filter()、reduce()对非数值元素的数组也是适用的**。"
   ]
  },
  {
   "cell_type": "code",
   "execution_count": 229,
   "id": "62472caf",
   "metadata": {
    "ExecuteTime": {
     "end_time": "2022-06-08T14:52:16.368000+08:00",
     "start_time": "2022-06-08T06:51:54.120Z"
    }
   },
   "outputs": [
    {
     "data": {
      "text/plain": [
       "15"
      ]
     },
     "execution_count": 229,
     "metadata": {},
     "output_type": "execute_result"
    }
   ],
   "source": [
    "reduce(+ , [1,2,3,4,5])"
   ]
  },
  {
   "cell_type": "markdown",
   "id": "2cd97872",
   "metadata": {},
   "source": [
    "## 闭包"
   ]
  },
  {
   "cell_type": "markdown",
   "id": "91d32da9",
   "metadata": {},
   "source": [
    "**可以在函数内定义内嵌函数并以此内嵌函数为函数返回值， 称这样的内嵌函数为闭包（closure）**。 闭包的好处是可以保存定义时的局部变量作为一部分， 产生“有状态的函数”， 类似于面向对象语言中的方法， 而Julia并不支持传统的面向对象语言中那样的类。\n",
    "\n",
    "例如， 某个函数希望能记住被调用的次数。 传统的方法无法解决问题，比如下面的版本是无效的："
   ]
  },
  {
   "cell_type": "code",
   "execution_count": 230,
   "id": "c5d7a18d",
   "metadata": {
    "ExecuteTime": {
     "end_time": "2022-06-08T14:52:16.385000+08:00",
     "start_time": "2022-06-08T06:51:54.132Z"
    }
   },
   "outputs": [
    {
     "name": "stdout",
     "output_type": "stream",
     "text": [
      "1, 1\n"
     ]
    }
   ],
   "source": [
    "function counter_old()\n",
    "    n = 0\n",
    "    n = n+1\n",
    "    return n\n",
    "end\n",
    "println(counter_old(), \", \", counter_old())"
   ]
  },
  {
   "cell_type": "markdown",
   "id": "1bc3f183",
   "metadata": {},
   "source": [
    "可以用如下的闭包做法："
   ]
  },
  {
   "cell_type": "code",
   "execution_count": 231,
   "id": "d2b9454a",
   "metadata": {
    "ExecuteTime": {
     "end_time": "2022-06-08T14:52:16.435000+08:00",
     "start_time": "2022-06-08T06:51:54.142Z"
    }
   },
   "outputs": [
    {
     "data": {
      "text/plain": [
       "var\"#counter#24\""
      ]
     },
     "execution_count": 231,
     "metadata": {},
     "output_type": "execute_result"
    }
   ],
   "source": [
    "function make_counter()\n",
    "    n = 0\n",
    "    function counter()\n",
    "        n += 1\n",
    "        return n\n",
    "    end\n",
    "end\n",
    "my_counter = make_counter()\n",
    "typeof(my_counter)"
   ]
  },
  {
   "cell_type": "code",
   "execution_count": 232,
   "id": "2eece77a",
   "metadata": {
    "ExecuteTime": {
     "end_time": "2022-06-08T14:52:16.443000+08:00",
     "start_time": "2022-06-08T06:51:54.149Z"
    }
   },
   "outputs": [
    {
     "name": "stdout",
     "output_type": "stream",
     "text": [
      "1, 2\n"
     ]
    }
   ],
   "source": [
    "println(my_counter(), \", \", my_counter())"
   ]
  },
  {
   "cell_type": "markdown",
   "id": "de141b39",
   "metadata": {},
   "source": [
    "## 递归调用"
   ]
  },
  {
   "cell_type": "markdown",
   "id": "a924b831",
   "metadata": {},
   "source": [
    "函数定义时允许调用自己， 这使得许多本质上是递推的计算程序变得很简单， 比如， $n!=n(n−1)! $， 用递归函数可以写成："
   ]
  },
  {
   "cell_type": "code",
   "execution_count": 233,
   "id": "9ab28096",
   "metadata": {
    "ExecuteTime": {
     "end_time": "2022-06-08T14:52:16.449000+08:00",
     "start_time": "2022-06-08T06:51:54.158Z"
    }
   },
   "outputs": [
    {
     "data": {
      "text/plain": [
       "120"
      ]
     },
     "execution_count": 233,
     "metadata": {},
     "output_type": "execute_result"
    }
   ],
   "source": [
    "function myfact(n)\n",
    "    if n==1\n",
    "        return 1\n",
    "    else\n",
    "        return n*myfact(n-1)\n",
    "    end\n",
    "end\n",
    "myfact(5)"
   ]
  },
  {
   "cell_type": "markdown",
   "id": "32850e76",
   "metadata": {},
   "source": [
    "再比如Fibonacci序列，  F0=0 ,  F1=1 ,  Fn=Fn−1+Fn−2 ， 前几个数是0, 1, 1, 2, 3, 5, 8, 13, 21, 34。 用递归调用写成"
   ]
  },
  {
   "cell_type": "code",
   "execution_count": 234,
   "id": "15168e3d",
   "metadata": {
    "ExecuteTime": {
     "end_time": "2022-06-08T14:52:16.463000+08:00",
     "start_time": "2022-06-08T06:51:54.166Z"
    }
   },
   "outputs": [
    {
     "name": "stdout",
     "output_type": "stream",
     "text": [
      "0: 0\n",
      "1: 1\n",
      "2: 1\n",
      "3: 2\n",
      "4: 3\n",
      "5: 5\n",
      "6: 8\n",
      "7: 13\n",
      "8: 21\n",
      "9: 34\n"
     ]
    }
   ],
   "source": [
    "function myfib(n)\n",
    "    if n==0\n",
    "        return 0\n",
    "    elseif n==1\n",
    "        return 1\n",
    "    else\n",
    "        return myfib(n-1) + myfib(n-2)\n",
    "    end\n",
    "end\n",
    "for n in 0:9\n",
    "    println(n, \": \", myfib(n))\n",
    "end"
   ]
  },
  {
   "cell_type": "markdown",
   "id": "52796037",
   "metadata": {},
   "source": [
    "但是，这样的递归在反复调用自身以后效率会很低， 因为对每个 n 都要多次调用自变量为 0,1,2,… 的情形。 可以用闭包的方法将已有结果保存， 使得计算效率大大提高："
   ]
  },
  {
   "cell_type": "code",
   "execution_count": 235,
   "id": "997c584c",
   "metadata": {
    "ExecuteTime": {
     "end_time": "2022-06-08T14:52:16.499000+08:00",
     "start_time": "2022-06-08T06:51:54.174Z"
    }
   },
   "outputs": [
    {
     "name": "stdout",
     "output_type": "stream",
     "text": [
      "0: 0\n",
      "1: 1\n",
      "2: 1\n",
      "3: 2\n",
      "4: 3\n",
      "5: 5\n",
      "6: 8\n",
      "7: 13\n",
      "8: 21\n",
      "9: 34\n"
     ]
    }
   ],
   "source": [
    "function makefib()\n",
    "    saved = Dict(0=>0, 1=>1)\n",
    "    function fib(n)\n",
    "        if !(n in keys(saved))\n",
    "            saved[n] = fib(n-1) + fib(n-2)\n",
    "        end\n",
    "        return saved[n]\n",
    "    end\n",
    "end\n",
    "myfibnew = makefib()\n",
    "for n in 0:9\n",
    "    println(n, \": \", myfibnew(n))\n",
    "end"
   ]
  },
  {
   "cell_type": "markdown",
   "id": "54f9640e",
   "metadata": {},
   "source": [
    "这种方法也可以用来解决判断素数的问题。 可以用字典类型保存一个已经确认的素数表， 然后为了判断某个数是否素数， 先在已保存素数表中查找， 查找不到再用除法判断。 之所以用字典类型而不是数组类型保存素数表， 是因为数组类型的查找是线性查找而字典类型则为杂凑表查找， 效率更高。"
   ]
  },
  {
   "cell_type": "markdown",
   "id": "316d832e",
   "metadata": {},
   "source": [
    "# 模块"
   ]
  },
  {
   "cell_type": "markdown",
   "id": "02f19f18",
   "metadata": {},
   "source": [
    "## 基础知识"
   ]
  },
  {
   "cell_type": "markdown",
   "id": "aab4fcc7",
   "metadata": {},
   "source": [
    "前面的例子都是相当于在命令行直接运行的。 这样，变量和函数属于命令行对应的名字空间， 称为Main模块。 如果要写比较长的程序， 所有变量和函数都在同一个名字空间中就很容易发生名字冲突。\n",
    "\n",
    "Julia使用模块来区分名字空间， 不同模块的同名变量、函数没有关系， 不会发生冲突。\n",
    "\n",
    "在一个模块内， 可以有模块本身的全局变量， 不同模块的全局变量即使同名也没有关系。\n",
    "\n",
    "一个简单的模块定义如："
   ]
  },
  {
   "cell_type": "code",
   "execution_count": 9,
   "id": "42b3de5f",
   "metadata": {
    "ExecuteTime": {
     "end_time": "2022-06-09T15:18:47.683000+08:00",
     "start_time": "2022-06-09T07:18:47.495Z"
    }
   },
   "outputs": [
    {
     "data": {
      "text/plain": [
       "Main.MyStat"
      ]
     },
     "execution_count": 9,
     "metadata": {},
     "output_type": "execute_result"
    }
   ],
   "source": [
    "module MyStat\n",
    "\n",
    "push!(LOAD_PATH, \".\")\n",
    "\n",
    "export mean, rmse \n",
    "\n",
    "function mean(x)\n",
    "  sum(x) / length(x)\n",
    "end\n",
    "\n",
    "function rmse(x)\n",
    "  sqrt(sum(x .^2) / length(x))\n",
    "end\n",
    "\n",
    "end"
   ]
  },
  {
   "cell_type": "markdown",
   "id": "cf669354",
   "metadata": {},
   "source": [
    "有时因为Julia中未找到该模块的位置，会报错，我们可以手动添加进来，在程序的最开始，加上**push!(LOAD_PATH, \".\")**，.表示当前工作目录，也可以把.换成绝对目录;也可以先用cd dir的命令切换到我们的模块的目录，再直接使用push!(LOAD_PATH, \".\")，这样就可以正确的调用MyStat了。"
   ]
  },
  {
   "cell_type": "markdown",
   "id": "ee748674",
   "metadata": {},
   "source": [
    "**export**是将这两个函数导出来，这样using之后就可以直接使用mean和rmse函数，而不必非要使用MyStat.mean和MyStat.rmse"
   ]
  },
  {
   "cell_type": "markdown",
   "id": "83cbda35",
   "metadata": {},
   "source": [
    "**调用一个模块中的全局变量或者函数时， 需要将模块用using或者import关键字引入到当前的名字空间中**。\n",
    "\n",
    "using MyStat使得当前模块可以直接使用MyStat模块中用export声明过的函数，如"
   ]
  },
  {
   "cell_type": "code",
   "execution_count": 237,
   "id": "5ecf0630",
   "metadata": {
    "ExecuteTime": {
     "end_time": "2022-06-08T14:52:16.777000+08:00",
     "start_time": "2022-06-08T06:51:54.195Z"
    }
   },
   "outputs": [
    {
     "data": {
      "text/plain": [
       "2.7386127875258306"
      ]
     },
     "execution_count": 237,
     "metadata": {},
     "output_type": "execute_result"
    }
   ],
   "source": [
    "using .MyStat\n",
    "rmse([1,2,3,4])"
   ]
  },
  {
   "cell_type": "markdown",
   "id": "d262e440",
   "metadata": {},
   "source": [
    "**这里的.MyStat是表示找到MyStat模块定义就在当前环境中**。 using整个模块是比较不安全的做法， 这样会引入多个用户自己不一定了解的函数和全局变量进入当前模块， 建议慎用。\n",
    "\n",
    "比较安全的方法是用using指定将模块中的哪些函数名导入到当前名字空间，如"
   ]
  },
  {
   "cell_type": "code",
   "execution_count": 238,
   "id": "0df9748d",
   "metadata": {
    "ExecuteTime": {
     "end_time": "2022-06-08T14:52:16.779000+08:00",
     "start_time": "2022-06-08T06:51:54.205Z"
    }
   },
   "outputs": [
    {
     "data": {
      "text/plain": [
       "2.7386127875258306"
      ]
     },
     "execution_count": 238,
     "metadata": {},
     "output_type": "execute_result"
    }
   ],
   "source": [
    "using .MyStat: mean, rmse\n",
    "rmse([1,2,3,4])"
   ]
  },
  {
   "cell_type": "markdown",
   "id": "757d2dd5",
   "metadata": {},
   "source": [
    "注意**上面的冒号要紧跟着.MyStat，不能有空格隔开**。\n",
    "\n",
    "可以用import声明导入单个的函数。如"
   ]
  },
  {
   "cell_type": "code",
   "execution_count": 239,
   "id": "1eac1830",
   "metadata": {
    "ExecuteTime": {
     "end_time": "2022-06-08T14:52:16.780000+08:00",
     "start_time": "2022-06-08T06:51:54.213Z"
    }
   },
   "outputs": [
    {
     "data": {
      "text/plain": [
       "2.7386127875258306"
      ]
     },
     "execution_count": 239,
     "metadata": {},
     "output_type": "execute_result"
    }
   ],
   "source": [
    "import .MyStat.mean, .MyStat.rmse\n",
    "rmse([1,2,3,4])"
   ]
  },
  {
   "cell_type": "markdown",
   "id": "afc03f0b",
   "metadata": {},
   "source": [
    "也**可以用import仅导入模块名， 其中的函数需要用“模块名.函数名”的格式调用**。如"
   ]
  },
  {
   "cell_type": "code",
   "execution_count": 240,
   "id": "547fb4d1",
   "metadata": {
    "ExecuteTime": {
     "end_time": "2022-06-08T14:52:16.781000+08:00",
     "start_time": "2022-06-08T06:51:54.221Z"
    }
   },
   "outputs": [
    {
     "data": {
      "text/plain": [
       "2.7386127875258306"
      ]
     },
     "execution_count": 240,
     "metadata": {},
     "output_type": "execute_result"
    }
   ],
   "source": [
    "import .MyStat\n",
    "MyStat.rmse([1,2,3,4])"
   ]
  },
  {
   "cell_type": "markdown",
   "id": "d4a4efec",
   "metadata": {},
   "source": [
    "用import导入的函数都可以定义新方法， 但是如果仅导入了模块名， 则定义新方法时函数名还要用“模块名.函数名”的格式表示。\n",
    "\n",
    "使用using导入的单个函数不能添加新的方法， 用using导入整个模块则可以为导入的的函数添加新的方法。\n",
    "\n",
    "当一个模块的全局变量通过using或者import导入到当前模块后， 当前模块不允许存在同名的全局变量， 而且也只允许读取其它模块中的全局变量值而不允许对其进行修改。 "
   ]
  },
  {
   "cell_type": "markdown",
   "id": "b0b0fb06",
   "metadata": {},
   "source": [
    "模块和文件并没有关系，一个模块可以有多个文件，一个文件也可以有多个模块，可以用**include()** 函数来表示。"
   ]
  },
  {
   "cell_type": "markdown",
   "id": "a9798dca",
   "metadata": {},
   "source": [
    "一个模块多个文件"
   ]
  },
  {
   "cell_type": "raw",
   "id": "e469a41c",
   "metadata": {},
   "source": [
    "module MyModu\n",
    "\n",
    "include(\"file1.jl\")\n",
    "include(\"file2.jl\")\n",
    "\n",
    "end"
   ]
  },
  {
   "cell_type": "markdown",
   "id": "d2431a95",
   "metadata": {},
   "source": [
    "一个文件多个模块"
   ]
  },
  {
   "cell_type": "raw",
   "id": "ca5d7f45",
   "metadata": {},
   "source": [
    "module Test1\n",
    "include(\"file1.jl\")\n",
    "end\n",
    "\n",
    "module Test2\n",
    "include(\"file2.jl\")\n",
    "end"
   ]
  },
  {
   "cell_type": "markdown",
   "id": "bf51ffd1",
   "metadata": {},
   "source": [
    "在Julia中，Main，Core和Base是三个重要的模块。Main是最顶层的模块，我们打开REPL时就已经身在Main模块中了。Core这个名字起得就很核心了，是Julia语言的核心组成。Base是最基本的标准库。"
   ]
  },
  {
   "cell_type": "markdown",
   "id": "5c908eb0",
   "metadata": {},
   "source": [
    "## names()用法"
   ]
  },
  {
   "cell_type": "code",
   "execution_count": 241,
   "id": "4b5cfea6",
   "metadata": {
    "ExecuteTime": {
     "end_time": "2022-06-08T14:52:17.846000+08:00",
     "start_time": "2022-06-08T06:51:54.231Z"
    }
   },
   "outputs": [
    {
     "name": "stdout",
     "output_type": "stream",
     "text": [
      "search: \u001b[0m\u001b[1mn\u001b[22m\u001b[0m\u001b[1ma\u001b[22m\u001b[0m\u001b[1mm\u001b[22m\u001b[0m\u001b[1me\u001b[22m\u001b[0m\u001b[1ms\u001b[22m field\u001b[0m\u001b[1mn\u001b[22m\u001b[0m\u001b[1ma\u001b[22m\u001b[0m\u001b[1mm\u001b[22m\u001b[0m\u001b[1me\u001b[22m\u001b[0m\u001b[1ms\u001b[22m property\u001b[0m\u001b[1mn\u001b[22m\u001b[0m\u001b[1ma\u001b[22m\u001b[0m\u001b[1mm\u001b[22m\u001b[0m\u001b[1me\u001b[22m\u001b[0m\u001b[1ms\u001b[22m \u001b[0m\u001b[1mn\u001b[22m\u001b[0m\u001b[1ma\u001b[22m\u001b[0m\u001b[1mm\u001b[22m\u001b[0m\u001b[1me\u001b[22m \u001b[0m\u001b[1mn\u001b[22m\u001b[0m\u001b[1ma\u001b[22m\u001b[0m\u001b[1mm\u001b[22m\u001b[0m\u001b[1me\u001b[22mof \u001b[0m\u001b[1mN\u001b[22m\u001b[0m\u001b[1ma\u001b[22m\u001b[0m\u001b[1mm\u001b[22m\u001b[0m\u001b[1me\u001b[22mdTuple @\u001b[0m\u001b[1mN\u001b[22m\u001b[0m\u001b[1ma\u001b[22m\u001b[0m\u001b[1mm\u001b[22m\u001b[0m\u001b[1me\u001b[22mdTuple\n",
      "\n"
     ]
    },
    {
     "data": {
      "text/latex": [
       "\\begin{verbatim}\n",
       "names(x::Module; all::Bool = false, imported::Bool = false)\n",
       "\\end{verbatim}\n",
       "Get an array of the names exported by a \\texttt{Module}, excluding deprecated names. If \\texttt{all} is true, then the list also includes non-exported names defined in the module, deprecated names, and compiler-generated names. If \\texttt{imported} is true, then names explicitly imported from other modules are also included.\n",
       "\n",
       "As a special case, all names defined in \\texttt{Main} are considered \"exported\", since it is not idiomatic to explicitly export names from \\texttt{Main}.\n",
       "\n",
       "See also: \\href{@ref Base.@locals}{\\texttt{@locals}}, \\href{@ref}{\\texttt{@\\_\\_MODULE\\_\\_}}.\n",
       "\n"
      ],
      "text/markdown": [
       "```\n",
       "names(x::Module; all::Bool = false, imported::Bool = false)\n",
       "```\n",
       "\n",
       "Get an array of the names exported by a `Module`, excluding deprecated names. If `all` is true, then the list also includes non-exported names defined in the module, deprecated names, and compiler-generated names. If `imported` is true, then names explicitly imported from other modules are also included.\n",
       "\n",
       "As a special case, all names defined in `Main` are considered \"exported\", since it is not idiomatic to explicitly export names from `Main`.\n",
       "\n",
       "See also: [`@locals`](@ref Base.@locals), [`@__MODULE__`](@ref).\n"
      ],
      "text/plain": [
       "\u001b[36m  names(x::Module; all::Bool = false, imported::Bool = false)\u001b[39m\n",
       "\n",
       "  Get an array of the names exported by a \u001b[36mModule\u001b[39m, excluding deprecated names.\n",
       "  If \u001b[36mall\u001b[39m is true, then the list also includes non-exported names defined in\n",
       "  the module, deprecated names, and compiler-generated names. If \u001b[36mimported\u001b[39m is\n",
       "  true, then names explicitly imported from other modules are also included.\n",
       "\n",
       "  As a special case, all names defined in \u001b[36mMain\u001b[39m are considered \"exported\",\n",
       "  since it is not idiomatic to explicitly export names from \u001b[36mMain\u001b[39m.\n",
       "\n",
       "  See also: \u001b[36m@locals\u001b[39m, \u001b[36m@__MODULE__\u001b[39m."
      ]
     },
     "execution_count": 241,
     "metadata": {},
     "output_type": "execute_result"
    }
   ],
   "source": [
    "?names #获取模块导出的名称数组，即获得模块中的函数列表"
   ]
  },
  {
   "cell_type": "code",
   "execution_count": 242,
   "id": "b0c95469",
   "metadata": {
    "ExecuteTime": {
     "end_time": "2022-06-08T14:52:18.384000+08:00",
     "start_time": "2022-06-08T06:51:54.238Z"
    }
   },
   "outputs": [
    {
     "data": {
      "text/plain": [
       "61-element Vector{Symbol}:\n",
       " :A1\n",
       " :A2\n",
       " :A3\n",
       " :A4\n",
       " :Ac\n",
       " :Base\n",
       " :Core\n",
       " :Main\n",
       " :MyStat\n",
       " :a\n",
       " :addr10086\n",
       " :age\n",
       " :b\n",
       " ⋮\n",
       " :tn1\n",
       " :v1\n",
       " :v2\n",
       " :v3\n",
       " :writelines\n",
       " :x\n",
       " :x1\n",
       " :x2\n",
       " :xcube\n",
       " :xx\n",
       " :y\n",
       " :z"
      ]
     },
     "execution_count": 242,
     "metadata": {},
     "output_type": "execute_result"
    }
   ],
   "source": [
    "names(Main)"
   ]
  },
  {
   "cell_type": "code",
   "execution_count": 243,
   "id": "15de135b",
   "metadata": {
    "ExecuteTime": {
     "end_time": "2022-06-08T14:52:18.386000+08:00",
     "start_time": "2022-06-08T06:51:54.244Z"
    }
   },
   "outputs": [
    {
     "data": {
      "text/plain": [
       "102-element Vector{Symbol}:\n",
       " :<:\n",
       " :(===)\n",
       " :AbstractArray\n",
       " :AbstractChar\n",
       " :AbstractFloat\n",
       " :AbstractString\n",
       " :Any\n",
       " :ArgumentError\n",
       " :Array\n",
       " :AssertionError\n",
       " :Bool\n",
       " :BoundsError\n",
       " :Char\n",
       " ⋮\n",
       " :isdefined\n",
       " :modifyfield!\n",
       " :nfields\n",
       " :nothing\n",
       " :replacefield!\n",
       " :setfield!\n",
       " :swapfield!\n",
       " :throw\n",
       " :tuple\n",
       " :typeassert\n",
       " :typeof\n",
       " :undef"
      ]
     },
     "execution_count": 243,
     "metadata": {},
     "output_type": "execute_result"
    }
   ],
   "source": [
    "names(Core)"
   ]
  },
  {
   "cell_type": "code",
   "execution_count": 244,
   "id": "e7bda9fc",
   "metadata": {
    "ExecuteTime": {
     "end_time": "2022-06-08T14:52:18.388000+08:00",
     "start_time": "2022-06-08T06:51:54.253Z"
    }
   },
   "outputs": [
    {
     "data": {
      "text/plain": [
       "933-element Vector{Symbol}:\n",
       " :!\n",
       " :!=\n",
       " :!==\n",
       " :%\n",
       " :&\n",
       " Symbol(\"'\")\n",
       " :*\n",
       " :+\n",
       " :-\n",
       " :/\n",
       " ://\n",
       " :(:)\n",
       " :<\n",
       " ⋮\n",
       " :≢\n",
       " :≤\n",
       " :≥\n",
       " :⊆\n",
       " :⊇\n",
       " :⊈\n",
       " :⊉\n",
       " :⊊\n",
       " :⊋\n",
       " :⊻\n",
       " :⊼\n",
       " :⊽"
      ]
     },
     "execution_count": 244,
     "metadata": {},
     "output_type": "execute_result"
    }
   ],
   "source": [
    "names(Base)"
   ]
  },
  {
   "cell_type": "code",
   "execution_count": 245,
   "id": "398b4c96",
   "metadata": {
    "ExecuteTime": {
     "end_time": "2022-06-08T14:52:24.118000+08:00",
     "start_time": "2022-06-08T06:51:54.260Z"
    }
   },
   "outputs": [
    {
     "name": "stderr",
     "output_type": "stream",
     "text": [
      "┌ Info: Precompiling HMMBase [b2b3ca75-8444-5ffa-85e6-af70e2b64fe7]\n",
      "└ @ Base loading.jl:1423\n"
     ]
    },
    {
     "data": {
      "text/plain": [
       "30-element Vector{Symbol}:\n",
       " :AbstractHMM\n",
       " :HMM\n",
       " :HMMBase\n",
       " :backward\n",
       " :compute_transition_matrix\n",
       " :copy\n",
       " :fit_mle\n",
       " :forward\n",
       " :forward_backward\n",
       " :gettransmat\n",
       " :istransmat\n",
       " :likelihoods\n",
       " :log_likelihoods\n",
       " ⋮\n",
       " :messages_forwards_log\n",
       " :n_parameters\n",
       " :nparams\n",
       " :permute\n",
       " :posteriors\n",
       " :rand\n",
       " :rand_transition_matrix\n",
       " :randtransmat\n",
       " :remapseq\n",
       " :size\n",
       " :statdists\n",
       " :viterbi"
      ]
     },
     "execution_count": 245,
     "metadata": {},
     "output_type": "execute_result"
    }
   ],
   "source": [
    "using HMMBase\n",
    "names(HMMBase) #或者采用代码补全，HMMBase.同时按住Tab，即可查看。"
   ]
  },
  {
   "cell_type": "markdown",
   "id": "2f858a7d",
   "metadata": {},
   "source": [
    "## ?的用法"
   ]
  },
  {
   "cell_type": "code",
   "execution_count": 246,
   "id": "54cae71c",
   "metadata": {
    "ExecuteTime": {
     "end_time": "2022-06-08T14:52:28.650000+08:00",
     "start_time": "2022-06-08T06:51:54.271Z"
    }
   },
   "outputs": [],
   "source": [
    "using MLJ"
   ]
  },
  {
   "cell_type": "code",
   "execution_count": 247,
   "id": "d690f777",
   "metadata": {
    "ExecuteTime": {
     "end_time": "2022-06-08T14:52:29.834000+08:00",
     "start_time": "2022-06-08T06:51:54.278Z"
    }
   },
   "outputs": [
    {
     "name": "stdout",
     "output_type": "stream",
     "text": [
      "search: \u001b[0m\u001b[1mM\u001b[22m\u001b[0m\u001b[1mL\u001b[22m\u001b[0m\u001b[1mJ\u001b[22m \u001b[0m\u001b[1mM\u001b[22m\u001b[0m\u001b[1mL\u001b[22m\u001b[0m\u001b[1mJ\u001b[22mOpenML \u001b[0m\u001b[1mM\u001b[22m\u001b[0m\u001b[1mL\u001b[22m\u001b[0m\u001b[1mJ\u001b[22m_VERSION \u001b[0m\u001b[1mM\u001b[22m\u001b[0m\u001b[1mL\u001b[22m\u001b[0m\u001b[1mJ\u001b[22mIteration l2_\u001b[0m\u001b[1mm\u001b[22margin_\u001b[0m\u001b[1ml\u001b[22moss dwd_\u001b[0m\u001b[1mm\u001b[22margin_\u001b[0m\u001b[1ml\u001b[22moss\n",
      "\n"
     ]
    },
    {
     "data": {
      "text/latex": [
       "No docstring found for module \\texttt{MLJ}.\n",
       "\n",
       "\\section{Exported names}\n",
       "\\texttt{@constant}, \\texttt{@from\\_network}, \\texttt{@iload}, \\texttt{@load}, \\texttt{@load\\_ames}, \\texttt{@load\\_boston}, \\texttt{@load\\_crabs}, \\texttt{@load\\_iris}, \\texttt{@load\\_reduced\\_ames}, \\texttt{@more}, \\texttt{@node}, \\texttt{@pipeline}, \\texttt{AUC}, \\texttt{AbstractNode}, \\texttt{Accuracy}, \\texttt{Annotator}, \\texttt{AnnotatorComposite}, \\texttt{AnnotatorSurrogate}, \\texttt{AreaUnderCurve}, \\texttt{BAC}, \\texttt{BACC}, \\texttt{BalancedAccuracy}, \\texttt{Binary}, \\texttt{BinaryThresholdPredictor}, \\texttt{BrierLoss}, \\texttt{BrierScore}, \\texttt{CPU1}, \\texttt{CPUProcesses}, \\texttt{CPUThreads}, \\texttt{CV}, \\texttt{Callback}, \\texttt{ColorImage}, \\texttt{Composite}, \\texttt{ConfusionMatrix}, \\texttt{ConstantClassifier}, \\texttt{ConstantRegressor}, \\texttt{Continuous}, \\texttt{ContinuousEncoder}, \\texttt{Count}, \\texttt{CrossEntropy}, \\texttt{CycleLearningRate}, \\texttt{DWDMarginLoss}, \\texttt{Data}, \\texttt{Deterministic}, \\texttt{DeterministicComposite}, \\texttt{DeterministicNetwork}, \\texttt{DeterministicSupervisedDetector}, \\texttt{DeterministicSupervisedDetectorComposite}, \\texttt{DeterministicSupervisedDetectorSurrogate}, \\texttt{DeterministicSurrogate}, \\texttt{DeterministicUnsupervisedDetector}, \\texttt{DeterministicUnsupervisedDetectorComposite}, \\texttt{DeterministicUnsupervisedDetectorSurrogate}, \\texttt{Disjunction}, \\texttt{EnsembleModel}, \\texttt{Error}, \\texttt{ExpLoss}, \\texttt{Explicit}, \\texttt{FDR}, \\texttt{FNR}, \\texttt{FPR}, \\texttt{FScore}, \\texttt{FalseDiscoveryRate}, \\texttt{FalseNegative}, \\texttt{FalseNegativeRate}, \\texttt{FalsePositive}, \\texttt{FalsePositiveRate}, \\texttt{FeatureSelector}, \\texttt{FillImputer}, \\texttt{Finite}, \\texttt{Found}, \\texttt{GL}, \\texttt{GrayImage}, \\texttt{Grid}, \\texttt{HANDLE\\_GIVEN\\_ID}, \\texttt{Holdout}, \\texttt{HuberLoss}, \\texttt{Image}, \\texttt{Infinite}, \\texttt{Info}, \\texttt{Interval}, \\texttt{IntervalComposite}, \\texttt{IntervalSurrogate}, \\texttt{InvalidValue}, \\texttt{IteratedModel}, \\texttt{IterationControl}, \\texttt{JointProbabilistic}, \\texttt{JointProbabilisticComposite}, \\texttt{JointProbabilisticSurrogate}, \\texttt{Kappa}, \\texttt{Known}, \\texttt{L1EpsilonInsLoss}, \\texttt{L1HingeLoss}, \\texttt{L2EpsilonInsLoss}, \\texttt{L2HingeLoss}, \\texttt{L2MarginLoss}, \\texttt{LPDistLoss}, \\texttt{LPLoss}, \\texttt{LatinHypercube}, \\texttt{LogCosh}, \\texttt{LogCoshLoss}, \\texttt{LogLoss}, \\texttt{LogScore}, \\texttt{LogitDistLoss}, \\texttt{LogitMarginLoss}, \\texttt{MAE}, \\texttt{MAPE}, \\texttt{MAV}, \\texttt{MCC}, \\texttt{MCR}, \\texttt{MFDR}, \\texttt{MFNR}, \\texttt{MFPR}, \\texttt{MLJIteration}, \\texttt{MLJOpenML}, \\texttt{MLJ\\_VERSION}, \\texttt{MNPV}, \\texttt{MPPV}, \\texttt{MTNR}, \\texttt{MTPR}, \\texttt{Machine}, \\texttt{MatthewsCorrelation}, \\texttt{MeanAbsoluteError}, \\texttt{MeanAbsoluteProportionalError}, \\texttt{MisclassificationRate}, \\texttt{ModifiedHuberLoss}, \\texttt{Multiclass}, \\texttt{MulticlassFScore}, \\texttt{MulticlassFalseDiscoveryRate}, \\texttt{MulticlassFalseNegative}, \\texttt{MulticlassFalseNegativeRate}, \\texttt{MulticlassFalsePositive}, \\texttt{MulticlassFalsePositiveRate}, \\texttt{MulticlassNegativePredictiveValue}, \\texttt{MulticlassPrecision}, \\texttt{MulticlassRecall}, \\texttt{MulticlassSpecificity}, \\texttt{MulticlassTrueNegative}, \\texttt{MulticlassTrueNegativeRate}, \\texttt{MulticlassTruePositive}, \\texttt{MulticlassTruePositiveRate}, \\texttt{NPV}, \\texttt{NegativePredictiveValue}, \\texttt{Never}, \\texttt{Node}, \\texttt{NotANumber}, \\texttt{NumberLimit}, \\texttt{NumberSinceBest}, \\texttt{OneHotEncoder}, \\texttt{OpenML}, \\texttt{OrderedFactor}, \\texttt{PPV}, \\texttt{PQ}, \\texttt{Patience}, \\texttt{PerceptronLoss}, \\texttt{PeriodicLoss}, \\texttt{Pipeline}, \\texttt{Precision}, \\texttt{Probabilistic}, \\texttt{ProbabilisticComposite}, \\texttt{ProbabilisticNetwork}, \\texttt{ProbabilisticSupervisedDetector}, \\texttt{ProbabilisticSupervisedDetectorComposite}, \\texttt{ProbabilisticSupervisedDetectorSurrogate}, \\texttt{ProbabilisticSurrogate}, \\texttt{ProbabilisticUnsupervisedDetector}, \\texttt{ProbabilisticUnsupervisedDetectorComposite}, \\texttt{ProbabilisticUnsupervisedDetectorSurrogate}, \\texttt{QuantileLoss}, \\texttt{RMS}, \\texttt{RMSL}, \\texttt{RMSLP}, \\texttt{RMSP}, \\texttt{RMSPV}, \\texttt{RSQ}, \\texttt{RSquared}, \\texttt{RandomSearch}, \\texttt{Recall}, \\texttt{Resampler}, \\texttt{ResamplingStrategy}, \\texttt{RootMeanSquaredError}, \\texttt{RootMeanSquaredLogError}, \\texttt{RootMeanSquaredLogProportionalError}, \\texttt{RootMeanSquaredProportionalError}, \\texttt{Save}, \\texttt{Scientific}, \\texttt{SigmoidLoss}, \\texttt{SmoothedL1HingeLoss}, \\texttt{Specificity}, \\texttt{SphericalScore}, \\texttt{Stack}, \\texttt{Standardizer}, \\texttt{Static}, \\texttt{StaticComposite}, \\texttt{StaticSurrogate}, \\texttt{Step}, \\texttt{StratifiedCV}, \\texttt{Supervised}, \\texttt{SupervisedAnnotator}, \\texttt{SupervisedAnnotatorComposite}, \\texttt{SupervisedAnnotatorSurrogate}, \\texttt{SupervisedComposite}, \\texttt{SupervisedDetector}, \\texttt{SupervisedDetectorComposite}, \\texttt{SupervisedDetectorSurrogate}, \\texttt{SupervisedSurrogate}, \\texttt{Surrogate}, \\texttt{TNR}, \\texttt{TPR}, \\texttt{Table}, \\texttt{Textual}, \\texttt{Threshold}, \\texttt{TimeLimit}, \\texttt{TimeSeriesCV}, \\texttt{TransformedTargetModel}, \\texttt{TrueNegative}, \\texttt{TrueNegativeRate}, \\texttt{TruePositive}, \\texttt{TruePositiveRate}, \\texttt{TunedModel}, \\texttt{UnivariateBoxCoxTransformer}, \\texttt{UnivariateDiscretizer}, \\texttt{UnivariateFinite}, \\texttt{UnivariateStandardizer}, \\texttt{UnivariateTimeTypeToContinuous}, \\texttt{Unknown}, \\texttt{Unsupervised}, \\texttt{UnsupervisedAnnotator}, \\texttt{UnsupervisedAnnotatorComposite}, \\texttt{UnsupervisedAnnotatorSurrogate}, \\texttt{UnsupervisedComposite}, \\texttt{UnsupervisedDetector}, \\texttt{UnsupervisedDetectorComposite}, \\texttt{UnsupervisedDetectorSurrogate}, \\texttt{UnsupervisedNetwork}, \\texttt{UnsupervisedSurrogate}, \\texttt{Warmup}, \\texttt{Warn}, \\texttt{WithEvaluationDo}, \\texttt{WithFittedParamsDo}, \\texttt{WithIterationsDo}, \\texttt{WithLossDo}, \\texttt{WithMachineDo}, \\texttt{WithModelDo}, \\texttt{WithNumberDo}, \\texttt{WithReportDo}, \\texttt{WithTrainingLossesDo}, \\texttt{ZeroOneLoss}, \\texttt{accuracy}, \\texttt{aggregate}, \\texttt{aggregation}, \\texttt{anonymize!}, \\texttt{area\\_under\\_curve}, \\texttt{auc}, \\texttt{autotype}, \\texttt{bac}, \\texttt{bacc}, \\texttt{balanced\\_accuracy}, \\texttt{brier\\_loss}, \\texttt{brier\\_score}, \\texttt{categorical}, \\texttt{classes}, \\texttt{coerce}, \\texttt{coerce!}, \\texttt{color\\_off}, \\texttt{color\\_on}, \\texttt{complement}, \\texttt{confmat}, \\texttt{confusion\\_matrix}, \\texttt{corestrict}, \\texttt{cross\\_entropy}, \\texttt{decoder}, \\texttt{deep\\_properties}, \\texttt{default\\_measure}, \\texttt{default\\_resource}, \\texttt{distribution\\_type}, \\texttt{docstring}, \\texttt{dwd\\_margin\\_loss}, \\texttt{elscitype}, \\texttt{evaluate}, \\texttt{evaluate!}, \\texttt{exp\\_loss}, \\texttt{f1score}, \\texttt{fallout}, \\texttt{false\\_discovery\\_rate}, \\texttt{false\\_negative}, \\texttt{false\\_negative\\_rate}, \\texttt{false\\_positive}, \\texttt{false\\_positive\\_rate}, \\texttt{falsediscovery\\_rate}, \\texttt{falsenegative}, \\texttt{falsenegative\\_rate}, \\texttt{falsepositive}, \\texttt{falsepositive\\_rate}, \\texttt{fdr}, \\texttt{fit!}, \\texttt{fit\\_data\\_scitype}, \\texttt{fit\\_only!}, \\texttt{fitresults}, \\texttt{fitted\\_params}, \\texttt{fnr}, \\texttt{fpr}, \\texttt{freeze!}, \\texttt{hit\\_rate}, \\texttt{huber\\_loss}, \\texttt{human\\_name}, \\texttt{hyperparameter\\_types}, \\texttt{hyperparameters}, \\texttt{info}, \\texttt{input\\_scitype}, \\texttt{int}, \\texttt{inverse\\_transform}, \\texttt{inverse\\_transform\\_scitype}, \\texttt{is\\_feature\\_dependent}, \\texttt{is\\_pure\\_julia}, \\texttt{is\\_supervised}, \\texttt{is\\_wrapper}, \\texttt{iteration\\_parameter}, \\texttt{iterator}, \\texttt{kappa}, \\texttt{l1}, \\texttt{l1\\_epsilon\\_ins\\_loss}, \\texttt{l1\\_hinge\\_loss}, \\texttt{l2}, \\texttt{l2\\_epsilon\\_ins\\_loss}, \\texttt{l2\\_hinge\\_loss}, \\texttt{l2\\_margin\\_loss}, \\texttt{learning\\_curve}, \\texttt{learning\\_curve!}, \\texttt{levels}, \\texttt{levels!}, \\texttt{load}, \\texttt{load\\_ames}, \\texttt{load\\_boston}, \\texttt{load\\_crabs}, \\texttt{load\\_iris}, \\texttt{load\\_path}, \\texttt{load\\_reduced\\_ames}, \\texttt{localmodels}, \\texttt{log\\_cosh}, \\texttt{log\\_cosh\\_loss}, \\texttt{log\\_loss}, \\texttt{log\\_score}, \\texttt{logit\\_dist\\_loss}, \\texttt{logit\\_margin\\_loss}, \\texttt{logpdf}, \\texttt{lp\\_dist\\_loss}, \\texttt{machine}, \\texttt{machines}, \\texttt{macro\\_avg}, \\texttt{macro\\_f1score}, \\texttt{mae}, \\texttt{make\\_blobs}, \\texttt{make\\_circles}, \\texttt{make\\_moons}, \\texttt{make\\_regression}, \\texttt{mape}, \\texttt{matching}, \\texttt{matthews\\_correlation}, \\texttt{mav}, \\texttt{mcc}, \\texttt{mcr}, \\texttt{mean}, \\texttt{mean\\_absolute\\_error}, \\texttt{mean\\_absolute\\_value}, \\texttt{measures}, \\texttt{median}, \\texttt{micro\\_avg}, \\texttt{micro\\_f1score}, \\texttt{misclassification\\_rate}, \\texttt{miss\\_rate}, \\texttt{mode}, \\texttt{models}, \\texttt{modified\\_huber\\_loss}, \\texttt{multiclass\\_f1score}, \\texttt{multiclass\\_fallout}, \\texttt{multiclass\\_false\\_discovery\\_rate}, \\texttt{multiclass\\_false\\_negative}, \\texttt{multiclass\\_false\\_negative\\_rate}, \\texttt{multiclass\\_false\\_positive}, \\texttt{multiclass\\_false\\_positive\\_rate}, \\texttt{multiclass\\_falsediscovery\\_rate}, \\texttt{multiclass\\_falsenegative}, \\texttt{multiclass\\_falsenegative\\_rate}, \\texttt{multiclass\\_falsepositive}, \\texttt{multiclass\\_falsepositive\\_rate}, \\texttt{multiclass\\_fdr}, \\texttt{multiclass\\_fnr}, \\texttt{multiclass\\_fpr}, \\texttt{multiclass\\_hit\\_rate}, \\texttt{multiclass\\_miss\\_rate}, \\texttt{multiclass\\_negative\\_predictive\\_value}, \\texttt{multiclass\\_negativepredictive\\_value}, \\texttt{multiclass\\_npv}, \\texttt{multiclass\\_positive\\_predictive\\_value}, \\texttt{multiclass\\_positivepredictive\\_value}, \\texttt{multiclass\\_ppv}, \\texttt{multiclass\\_precision}, \\texttt{multiclass\\_recall}, \\texttt{multiclass\\_selectivity}, \\texttt{multiclass\\_sensitivity}, \\texttt{multiclass\\_specificity}, \\texttt{multiclass\\_tnr}, \\texttt{multiclass\\_tpr}, \\texttt{multiclass\\_true\\_negative}, \\texttt{multiclass\\_true\\_negative\\_rate}, \\texttt{multiclass\\_true\\_positive}, \\texttt{multiclass\\_true\\_positive\\_rate}, \\texttt{multiclass\\_truenegative}, \\texttt{multiclass\\_truenegative\\_rate}, \\texttt{multiclass\\_truepositive}, \\texttt{multiclass\\_truepositive\\_rate}, \\texttt{negative\\_predictive\\_value}, \\texttt{negativepredictive\\_value}, \\texttt{no\\_avg}, \\texttt{node}, \\texttt{nonmissing}, \\texttt{npv}, \\texttt{nrows}, \\texttt{orientation}, \\texttt{origins}, \\texttt{output\\_scitype}, \\texttt{package\\_license}, \\texttt{package\\_name}, \\texttt{package\\_url}, \\texttt{package\\_uuid}, \\texttt{params}, \\texttt{partition}, \\texttt{pdf}, \\texttt{perceptron\\_loss}, \\texttt{periodic\\_loss}, \\texttt{positive\\_predictive\\_value}, \\texttt{positivepredictive\\_value}, \\texttt{ppv}, \\texttt{precision}, \\texttt{predict}, \\texttt{predict\\_joint}, \\texttt{predict\\_mean}, \\texttt{predict\\_median}, \\texttt{predict\\_mode}, \\texttt{predict\\_scitype}, \\texttt{prediction\\_type}, \\texttt{pretty}, \\texttt{quantile\\_loss}, \\texttt{rebind!}, \\texttt{recall}, \\texttt{report}, \\texttt{reports\\_each\\_observation}, \\texttt{restrict}, \\texttt{return!}, \\texttt{rms}, \\texttt{rmse}, \\texttt{rmsl}, \\texttt{rmsle}, \\texttt{rmslp1}, \\texttt{rmsp}, \\texttt{roc}, \\texttt{roc\\_curve}, \\texttt{root\\_mean\\_squared\\_error}, \\texttt{root\\_mean\\_squared\\_log\\_error}, \\texttt{rsq}, \\texttt{rsquared}, \\texttt{sampler}, \\texttt{schema}, \\texttt{scitype}, \\texttt{scitype\\_union}, \\texttt{selectcols}, \\texttt{selectivity}, \\texttt{selectrows}, \\texttt{sensitivity}, \\texttt{shuffle}, \\texttt{shuffle!}, \\texttt{sigmoid\\_loss}, \\texttt{skipinvalid}, \\texttt{smoothed\\_l1\\_hinge\\_loss}, \\texttt{source}, \\texttt{sources}, \\texttt{specificity}, \\texttt{spherical\\_score}, \\texttt{std}, \\texttt{support}, \\texttt{supports\\_class\\_weights}, \\texttt{supports\\_training\\_losses}, \\texttt{supports\\_weights}, \\texttt{table}, \\texttt{target\\_scitype}, \\texttt{thaw!}, \\texttt{tnr}, \\texttt{tpr}, \\texttt{training\\_losses}, \\texttt{trait}, \\texttt{transform}, \\texttt{transform\\_scitype}, \\texttt{true\\_negative}, \\texttt{true\\_negative\\_rate}, \\texttt{true\\_positive}, \\texttt{true\\_positive\\_rate}, \\texttt{truenegative}, \\texttt{truenegative\\_rate}, \\texttt{truepositive}, \\texttt{truepositive\\_rate}, \\texttt{unpack}, \\texttt{value}, \\texttt{zero\\_one\\_loss}\n",
       "\n",
       "\\section{Displaying contents of readme found at \\texttt{D:{\\textbackslash}TongYuan{\\textbackslash}.julia{\\textbackslash}packages{\\textbackslash}MLJ{\\textbackslash}hw6oD{\\textbackslash}README.md}}\n",
       "<div align=\"center\">     <img src=\"material/MLJLogo2.svg\" alt=\"MLJ\" width=\"200\"> </div>\n",
       "\n",
       "<h2 align=\"center\">A Machine Learning Framework for Julia <p align=\"center\">   <a href=\"https://github.com/alan-turing-institute/MLJ.jl/actions\">     <img src=\"https://github.com/alan-turing-institute/MLJ.jl/workflows/CI/badge.svg\"          alt=\"Build Status\">   </a>   <a href=\"https://alan-turing-institute.github.io/MLJ.jl/dev/\">     <img src=\"https://img.shields.io/badge/docs-stable-blue.svg\"          alt=\"Documentation\">   </a>   <a href=\"https://opensource.org/licenses/MIT\">     <img src=\"https://img.shields.io/badge/License-MIT-yelllow\"        alt=\"bibtex\">   </a>   <a href=\"BIBLIOGRAPHY.md\">     <img src=\"https://img.shields.io/badge/cite-BibTeX-blue\"        alt=\"bibtex\">   </a>\n",
       "\n",
       "</p> </h2>\n",
       "\n",
       "MLJ (Machine Learning in Julia) is a toolbox written in Julia providing a common interface and meta-algorithms for selecting, tuning, evaluating, composing and comparing over \\href{https://alan-turing-institute.github.io/MLJ.jl/dev/list_of_supported_models/}{160 machine learning models} written in Julia and other languages.\n",
       "\n",
       "\\textbf{New to MLJ?} Start \\href{https://alan-turing-institute.github.io/MLJ.jl/dev/}{here}.\n",
       "\n",
       "\\textbf{Integrating an existing machine learning model into the MLJ framework?} Start \\href{https://alan-turing-institute.github.io/MLJ.jl/dev/quick_start_guide_to_adding_models/}{here}.\n",
       "\n",
       "MLJ was initially created as a Tools, Practices and Systems project at the \\href{https://www.turing.ac.uk/}{Alan Turing Institute} in 2019. Current funding is provided by a \\href{https://www.mbie.govt.nz/science-and-technology/science-and-innovation/funding-information-and-opportunities/investment-funds/strategic-science-investment-fund/ssif-funded-programmes/university-of-auckland/}{New Zealand Strategic Science Investment Fund} awarded to the University of Auckland.\n",
       "\n",
       "MLJ been developed with the support of the following organizations:\n",
       "\n",
       "<div align=\"center\">     <img src=\"material/Turing\\emph{logo.png\" width = 100/>     <img src=\"material/UoA}logo.png\" width = 100/>     <img src=\"material/IQVIA\\_logo.png\" width = 100/>     <img src=\"material/warwick.png\" width = 100/>     <img src=\"material/julia.png\" width = 100/> </div>\n",
       "\n",
       "\\subsubsection{The MLJ Universe}\n",
       "The functionality of MLJ is distributed over a number of repositories illustrated in the dependency chart below. These repositories live at the \\href{https://github.com/JuliaAI}{JuliaAI} umbrella organization.\n",
       "\n",
       "<div align=\"center\">     <img src=\"material/MLJ\\_stack.svg\" alt=\"Dependency Chart\"> </div>\n",
       "\n",
       "\\emph{Dependency chart for MLJ repositories. Repositories with dashed connections do not currently exist but are planned/proposed.}\n",
       "\n",
       "<br> <p align=\"center\"> <a href=\"CONTRIBUTING.md\">Contributing</a> \\&nbsp;•\\&nbsp;  <a href=\"ORGANIZATION.md\">Code Organization</a> \\&nbsp;•\\&nbsp; <a href=\"ROADMAP.md\">Road Map</a>  </br>\n",
       "\n",
       "\\paragraph{Contributors}\n",
       "\\emph{Core design}: A. Blaom, F. Kiraly, S. Vollmer\n",
       "\n",
       "\\emph{Lead contributor}: A. Blaom\n",
       "\n",
       "\\emph{Active maintainers}: A. Blaom, S. Okon, T. Lienart, D. Aluthge\n",
       "\n"
      ],
      "text/markdown": [
       "No docstring found for module `MLJ`.\n",
       "\n",
       "# Exported names\n",
       "\n",
       "`@constant`, `@from_network`, `@iload`, `@load`, `@load_ames`, `@load_boston`, `@load_crabs`, `@load_iris`, `@load_reduced_ames`, `@more`, `@node`, `@pipeline`, `AUC`, `AbstractNode`, `Accuracy`, `Annotator`, `AnnotatorComposite`, `AnnotatorSurrogate`, `AreaUnderCurve`, `BAC`, `BACC`, `BalancedAccuracy`, `Binary`, `BinaryThresholdPredictor`, `BrierLoss`, `BrierScore`, `CPU1`, `CPUProcesses`, `CPUThreads`, `CV`, `Callback`, `ColorImage`, `Composite`, `ConfusionMatrix`, `ConstantClassifier`, `ConstantRegressor`, `Continuous`, `ContinuousEncoder`, `Count`, `CrossEntropy`, `CycleLearningRate`, `DWDMarginLoss`, `Data`, `Deterministic`, `DeterministicComposite`, `DeterministicNetwork`, `DeterministicSupervisedDetector`, `DeterministicSupervisedDetectorComposite`, `DeterministicSupervisedDetectorSurrogate`, `DeterministicSurrogate`, `DeterministicUnsupervisedDetector`, `DeterministicUnsupervisedDetectorComposite`, `DeterministicUnsupervisedDetectorSurrogate`, `Disjunction`, `EnsembleModel`, `Error`, `ExpLoss`, `Explicit`, `FDR`, `FNR`, `FPR`, `FScore`, `FalseDiscoveryRate`, `FalseNegative`, `FalseNegativeRate`, `FalsePositive`, `FalsePositiveRate`, `FeatureSelector`, `FillImputer`, `Finite`, `Found`, `GL`, `GrayImage`, `Grid`, `HANDLE_GIVEN_ID`, `Holdout`, `HuberLoss`, `Image`, `Infinite`, `Info`, `Interval`, `IntervalComposite`, `IntervalSurrogate`, `InvalidValue`, `IteratedModel`, `IterationControl`, `JointProbabilistic`, `JointProbabilisticComposite`, `JointProbabilisticSurrogate`, `Kappa`, `Known`, `L1EpsilonInsLoss`, `L1HingeLoss`, `L2EpsilonInsLoss`, `L2HingeLoss`, `L2MarginLoss`, `LPDistLoss`, `LPLoss`, `LatinHypercube`, `LogCosh`, `LogCoshLoss`, `LogLoss`, `LogScore`, `LogitDistLoss`, `LogitMarginLoss`, `MAE`, `MAPE`, `MAV`, `MCC`, `MCR`, `MFDR`, `MFNR`, `MFPR`, `MLJIteration`, `MLJOpenML`, `MLJ_VERSION`, `MNPV`, `MPPV`, `MTNR`, `MTPR`, `Machine`, `MatthewsCorrelation`, `MeanAbsoluteError`, `MeanAbsoluteProportionalError`, `MisclassificationRate`, `ModifiedHuberLoss`, `Multiclass`, `MulticlassFScore`, `MulticlassFalseDiscoveryRate`, `MulticlassFalseNegative`, `MulticlassFalseNegativeRate`, `MulticlassFalsePositive`, `MulticlassFalsePositiveRate`, `MulticlassNegativePredictiveValue`, `MulticlassPrecision`, `MulticlassRecall`, `MulticlassSpecificity`, `MulticlassTrueNegative`, `MulticlassTrueNegativeRate`, `MulticlassTruePositive`, `MulticlassTruePositiveRate`, `NPV`, `NegativePredictiveValue`, `Never`, `Node`, `NotANumber`, `NumberLimit`, `NumberSinceBest`, `OneHotEncoder`, `OpenML`, `OrderedFactor`, `PPV`, `PQ`, `Patience`, `PerceptronLoss`, `PeriodicLoss`, `Pipeline`, `Precision`, `Probabilistic`, `ProbabilisticComposite`, `ProbabilisticNetwork`, `ProbabilisticSupervisedDetector`, `ProbabilisticSupervisedDetectorComposite`, `ProbabilisticSupervisedDetectorSurrogate`, `ProbabilisticSurrogate`, `ProbabilisticUnsupervisedDetector`, `ProbabilisticUnsupervisedDetectorComposite`, `ProbabilisticUnsupervisedDetectorSurrogate`, `QuantileLoss`, `RMS`, `RMSL`, `RMSLP`, `RMSP`, `RMSPV`, `RSQ`, `RSquared`, `RandomSearch`, `Recall`, `Resampler`, `ResamplingStrategy`, `RootMeanSquaredError`, `RootMeanSquaredLogError`, `RootMeanSquaredLogProportionalError`, `RootMeanSquaredProportionalError`, `Save`, `Scientific`, `SigmoidLoss`, `SmoothedL1HingeLoss`, `Specificity`, `SphericalScore`, `Stack`, `Standardizer`, `Static`, `StaticComposite`, `StaticSurrogate`, `Step`, `StratifiedCV`, `Supervised`, `SupervisedAnnotator`, `SupervisedAnnotatorComposite`, `SupervisedAnnotatorSurrogate`, `SupervisedComposite`, `SupervisedDetector`, `SupervisedDetectorComposite`, `SupervisedDetectorSurrogate`, `SupervisedSurrogate`, `Surrogate`, `TNR`, `TPR`, `Table`, `Textual`, `Threshold`, `TimeLimit`, `TimeSeriesCV`, `TransformedTargetModel`, `TrueNegative`, `TrueNegativeRate`, `TruePositive`, `TruePositiveRate`, `TunedModel`, `UnivariateBoxCoxTransformer`, `UnivariateDiscretizer`, `UnivariateFinite`, `UnivariateStandardizer`, `UnivariateTimeTypeToContinuous`, `Unknown`, `Unsupervised`, `UnsupervisedAnnotator`, `UnsupervisedAnnotatorComposite`, `UnsupervisedAnnotatorSurrogate`, `UnsupervisedComposite`, `UnsupervisedDetector`, `UnsupervisedDetectorComposite`, `UnsupervisedDetectorSurrogate`, `UnsupervisedNetwork`, `UnsupervisedSurrogate`, `Warmup`, `Warn`, `WithEvaluationDo`, `WithFittedParamsDo`, `WithIterationsDo`, `WithLossDo`, `WithMachineDo`, `WithModelDo`, `WithNumberDo`, `WithReportDo`, `WithTrainingLossesDo`, `ZeroOneLoss`, `accuracy`, `aggregate`, `aggregation`, `anonymize!`, `area_under_curve`, `auc`, `autotype`, `bac`, `bacc`, `balanced_accuracy`, `brier_loss`, `brier_score`, `categorical`, `classes`, `coerce`, `coerce!`, `color_off`, `color_on`, `complement`, `confmat`, `confusion_matrix`, `corestrict`, `cross_entropy`, `decoder`, `deep_properties`, `default_measure`, `default_resource`, `distribution_type`, `docstring`, `dwd_margin_loss`, `elscitype`, `evaluate`, `evaluate!`, `exp_loss`, `f1score`, `fallout`, `false_discovery_rate`, `false_negative`, `false_negative_rate`, `false_positive`, `false_positive_rate`, `falsediscovery_rate`, `falsenegative`, `falsenegative_rate`, `falsepositive`, `falsepositive_rate`, `fdr`, `fit!`, `fit_data_scitype`, `fit_only!`, `fitresults`, `fitted_params`, `fnr`, `fpr`, `freeze!`, `hit_rate`, `huber_loss`, `human_name`, `hyperparameter_types`, `hyperparameters`, `info`, `input_scitype`, `int`, `inverse_transform`, `inverse_transform_scitype`, `is_feature_dependent`, `is_pure_julia`, `is_supervised`, `is_wrapper`, `iteration_parameter`, `iterator`, `kappa`, `l1`, `l1_epsilon_ins_loss`, `l1_hinge_loss`, `l2`, `l2_epsilon_ins_loss`, `l2_hinge_loss`, `l2_margin_loss`, `learning_curve`, `learning_curve!`, `levels`, `levels!`, `load`, `load_ames`, `load_boston`, `load_crabs`, `load_iris`, `load_path`, `load_reduced_ames`, `localmodels`, `log_cosh`, `log_cosh_loss`, `log_loss`, `log_score`, `logit_dist_loss`, `logit_margin_loss`, `logpdf`, `lp_dist_loss`, `machine`, `machines`, `macro_avg`, `macro_f1score`, `mae`, `make_blobs`, `make_circles`, `make_moons`, `make_regression`, `mape`, `matching`, `matthews_correlation`, `mav`, `mcc`, `mcr`, `mean`, `mean_absolute_error`, `mean_absolute_value`, `measures`, `median`, `micro_avg`, `micro_f1score`, `misclassification_rate`, `miss_rate`, `mode`, `models`, `modified_huber_loss`, `multiclass_f1score`, `multiclass_fallout`, `multiclass_false_discovery_rate`, `multiclass_false_negative`, `multiclass_false_negative_rate`, `multiclass_false_positive`, `multiclass_false_positive_rate`, `multiclass_falsediscovery_rate`, `multiclass_falsenegative`, `multiclass_falsenegative_rate`, `multiclass_falsepositive`, `multiclass_falsepositive_rate`, `multiclass_fdr`, `multiclass_fnr`, `multiclass_fpr`, `multiclass_hit_rate`, `multiclass_miss_rate`, `multiclass_negative_predictive_value`, `multiclass_negativepredictive_value`, `multiclass_npv`, `multiclass_positive_predictive_value`, `multiclass_positivepredictive_value`, `multiclass_ppv`, `multiclass_precision`, `multiclass_recall`, `multiclass_selectivity`, `multiclass_sensitivity`, `multiclass_specificity`, `multiclass_tnr`, `multiclass_tpr`, `multiclass_true_negative`, `multiclass_true_negative_rate`, `multiclass_true_positive`, `multiclass_true_positive_rate`, `multiclass_truenegative`, `multiclass_truenegative_rate`, `multiclass_truepositive`, `multiclass_truepositive_rate`, `negative_predictive_value`, `negativepredictive_value`, `no_avg`, `node`, `nonmissing`, `npv`, `nrows`, `orientation`, `origins`, `output_scitype`, `package_license`, `package_name`, `package_url`, `package_uuid`, `params`, `partition`, `pdf`, `perceptron_loss`, `periodic_loss`, `positive_predictive_value`, `positivepredictive_value`, `ppv`, `precision`, `predict`, `predict_joint`, `predict_mean`, `predict_median`, `predict_mode`, `predict_scitype`, `prediction_type`, `pretty`, `quantile_loss`, `rebind!`, `recall`, `report`, `reports_each_observation`, `restrict`, `return!`, `rms`, `rmse`, `rmsl`, `rmsle`, `rmslp1`, `rmsp`, `roc`, `roc_curve`, `root_mean_squared_error`, `root_mean_squared_log_error`, `rsq`, `rsquared`, `sampler`, `schema`, `scitype`, `scitype_union`, `selectcols`, `selectivity`, `selectrows`, `sensitivity`, `shuffle`, `shuffle!`, `sigmoid_loss`, `skipinvalid`, `smoothed_l1_hinge_loss`, `source`, `sources`, `specificity`, `spherical_score`, `std`, `support`, `supports_class_weights`, `supports_training_losses`, `supports_weights`, `table`, `target_scitype`, `thaw!`, `tnr`, `tpr`, `training_losses`, `trait`, `transform`, `transform_scitype`, `true_negative`, `true_negative_rate`, `true_positive`, `true_positive_rate`, `truenegative`, `truenegative_rate`, `truepositive`, `truepositive_rate`, `unpack`, `value`, `zero_one_loss`\n",
       "\n",
       "# Displaying contents of readme found at `D:\\TongYuan\\.julia\\packages\\MLJ\\hw6oD\\README.md`\n",
       "\n",
       "<div align=\"center\">     <img src=\"material/MLJLogo2.svg\" alt=\"MLJ\" width=\"200\"> </div>\n",
       "\n",
       "<h2 align=\"center\">A Machine Learning Framework for Julia <p align=\"center\">   <a href=\"https://github.com/alan-turing-institute/MLJ.jl/actions\">     <img src=\"https://github.com/alan-turing-institute/MLJ.jl/workflows/CI/badge.svg\"          alt=\"Build Status\">   </a>   <a href=\"https://alan-turing-institute.github.io/MLJ.jl/dev/\">     <img src=\"https://img.shields.io/badge/docs-stable-blue.svg\"          alt=\"Documentation\">   </a>   <a href=\"https://opensource.org/licenses/MIT\">     <img src=\"https://img.shields.io/badge/License-MIT-yelllow\"        alt=\"bibtex\">   </a>   <a href=\"BIBLIOGRAPHY.md\">     <img src=\"https://img.shields.io/badge/cite-BibTeX-blue\"        alt=\"bibtex\">   </a>\n",
       "\n",
       "</p> </h2>\n",
       "\n",
       "MLJ (Machine Learning in Julia) is a toolbox written in Julia providing a common interface and meta-algorithms for selecting, tuning, evaluating, composing and comparing over [160 machine learning models](https://alan-turing-institute.github.io/MLJ.jl/dev/list_of_supported_models/) written in Julia and other languages.\n",
       "\n",
       "**New to MLJ?** Start [here](https://alan-turing-institute.github.io/MLJ.jl/dev/).\n",
       "\n",
       "**Integrating an existing machine learning model into the MLJ framework?** Start [here](https://alan-turing-institute.github.io/MLJ.jl/dev/quick_start_guide_to_adding_models/).\n",
       "\n",
       "MLJ was initially created as a Tools, Practices and Systems project at the [Alan Turing Institute](https://www.turing.ac.uk/) in 2019. Current funding is provided by a [New Zealand Strategic Science Investment Fund](https://www.mbie.govt.nz/science-and-technology/science-and-innovation/funding-information-and-opportunities/investment-funds/strategic-science-investment-fund/ssif-funded-programmes/university-of-auckland/) awarded to the University of Auckland.\n",
       "\n",
       "MLJ been developed with the support of the following organizations:\n",
       "\n",
       "<div align=\"center\">     <img src=\"material/Turing*logo.png\" width = 100/>     <img src=\"material/UoA*logo.png\" width = 100/>     <img src=\"material/IQVIA_logo.png\" width = 100/>     <img src=\"material/warwick.png\" width = 100/>     <img src=\"material/julia.png\" width = 100/> </div>\n",
       "\n",
       "### The MLJ Universe\n",
       "\n",
       "The functionality of MLJ is distributed over a number of repositories illustrated in the dependency chart below. These repositories live at the [JuliaAI](https://github.com/JuliaAI) umbrella organization.\n",
       "\n",
       "<div align=\"center\">     <img src=\"material/MLJ_stack.svg\" alt=\"Dependency Chart\"> </div>\n",
       "\n",
       "*Dependency chart for MLJ repositories. Repositories with dashed connections do not currently exist but are planned/proposed.*\n",
       "\n",
       "<br> <p align=\"center\"> <a href=\"CONTRIBUTING.md\">Contributing</a> &nbsp;•&nbsp;  <a href=\"ORGANIZATION.md\">Code Organization</a> &nbsp;•&nbsp; <a href=\"ROADMAP.md\">Road Map</a>  </br>\n",
       "\n",
       "#### Contributors\n",
       "\n",
       "*Core design*: A. Blaom, F. Kiraly, S. Vollmer\n",
       "\n",
       "*Lead contributor*: A. Blaom\n",
       "\n",
       "*Active maintainers*: A. Blaom, S. Okon, T. Lienart, D. Aluthge\n"
      ],
      "text/plain": [
       "  No docstring found for module \u001b[36mMLJ\u001b[39m.\n",
       "\n",
       "\u001b[1m  Exported names\u001b[22m\n",
       "\u001b[1m  ≡≡≡≡≡≡≡≡≡≡≡≡≡≡≡≡\u001b[22m\n",
       "\n",
       "  \u001b[36m@constant\u001b[39m, \u001b[36m@from_network\u001b[39m, \u001b[36m@iload\u001b[39m, \u001b[36m@load\u001b[39m, \u001b[36m@load_ames\u001b[39m, \u001b[36m@load_boston\u001b[39m,\n",
       "  \u001b[36m@load_crabs\u001b[39m, \u001b[36m@load_iris\u001b[39m, \u001b[36m@load_reduced_ames\u001b[39m, \u001b[36m@more\u001b[39m, \u001b[36m@node\u001b[39m, \u001b[36m@pipeline\u001b[39m, \u001b[36mAUC\u001b[39m,\n",
       "  \u001b[36mAbstractNode\u001b[39m, \u001b[36mAccuracy\u001b[39m, \u001b[36mAnnotator\u001b[39m, \u001b[36mAnnotatorComposite\u001b[39m, \u001b[36mAnnotatorSurrogate\u001b[39m,\n",
       "  \u001b[36mAreaUnderCurve\u001b[39m, \u001b[36mBAC\u001b[39m, \u001b[36mBACC\u001b[39m, \u001b[36mBalancedAccuracy\u001b[39m, \u001b[36mBinary\u001b[39m,\n",
       "  \u001b[36mBinaryThresholdPredictor\u001b[39m, \u001b[36mBrierLoss\u001b[39m, \u001b[36mBrierScore\u001b[39m, \u001b[36mCPU1\u001b[39m, \u001b[36mCPUProcesses\u001b[39m,\n",
       "  \u001b[36mCPUThreads\u001b[39m, \u001b[36mCV\u001b[39m, \u001b[36mCallback\u001b[39m, \u001b[36mColorImage\u001b[39m, \u001b[36mComposite\u001b[39m, \u001b[36mConfusionMatrix\u001b[39m,\n",
       "  \u001b[36mConstantClassifier\u001b[39m, \u001b[36mConstantRegressor\u001b[39m, \u001b[36mContinuous\u001b[39m, \u001b[36mContinuousEncoder\u001b[39m, \u001b[36mCount\u001b[39m,\n",
       "  \u001b[36mCrossEntropy\u001b[39m, \u001b[36mCycleLearningRate\u001b[39m, \u001b[36mDWDMarginLoss\u001b[39m, \u001b[36mData\u001b[39m, \u001b[36mDeterministic\u001b[39m,\n",
       "  \u001b[36mDeterministicComposite\u001b[39m, \u001b[36mDeterministicNetwork\u001b[39m,\n",
       "  \u001b[36mDeterministicSupervisedDetector\u001b[39m, \u001b[36mDeterministicSupervisedDetectorComposite\u001b[39m,\n",
       "  \u001b[36mDeterministicSupervisedDetectorSurrogate\u001b[39m, \u001b[36mDeterministicSurrogate\u001b[39m,\n",
       "  \u001b[36mDeterministicUnsupervisedDetector\u001b[39m,\n",
       "  \u001b[36mDeterministicUnsupervisedDetectorComposite\u001b[39m,\n",
       "  \u001b[36mDeterministicUnsupervisedDetectorSurrogate\u001b[39m, \u001b[36mDisjunction\u001b[39m, \u001b[36mEnsembleModel\u001b[39m,\n",
       "  \u001b[36mError\u001b[39m, \u001b[36mExpLoss\u001b[39m, \u001b[36mExplicit\u001b[39m, \u001b[36mFDR\u001b[39m, \u001b[36mFNR\u001b[39m, \u001b[36mFPR\u001b[39m, \u001b[36mFScore\u001b[39m, \u001b[36mFalseDiscoveryRate\u001b[39m,\n",
       "  \u001b[36mFalseNegative\u001b[39m, \u001b[36mFalseNegativeRate\u001b[39m, \u001b[36mFalsePositive\u001b[39m, \u001b[36mFalsePositiveRate\u001b[39m,\n",
       "  \u001b[36mFeatureSelector\u001b[39m, \u001b[36mFillImputer\u001b[39m, \u001b[36mFinite\u001b[39m, \u001b[36mFound\u001b[39m, \u001b[36mGL\u001b[39m, \u001b[36mGrayImage\u001b[39m, \u001b[36mGrid\u001b[39m,\n",
       "  \u001b[36mHANDLE_GIVEN_ID\u001b[39m, \u001b[36mHoldout\u001b[39m, \u001b[36mHuberLoss\u001b[39m, \u001b[36mImage\u001b[39m, \u001b[36mInfinite\u001b[39m, \u001b[36mInfo\u001b[39m, \u001b[36mInterval\u001b[39m,\n",
       "  \u001b[36mIntervalComposite\u001b[39m, \u001b[36mIntervalSurrogate\u001b[39m, \u001b[36mInvalidValue\u001b[39m, \u001b[36mIteratedModel\u001b[39m,\n",
       "  \u001b[36mIterationControl\u001b[39m, \u001b[36mJointProbabilistic\u001b[39m, \u001b[36mJointProbabilisticComposite\u001b[39m,\n",
       "  \u001b[36mJointProbabilisticSurrogate\u001b[39m, \u001b[36mKappa\u001b[39m, \u001b[36mKnown\u001b[39m, \u001b[36mL1EpsilonInsLoss\u001b[39m, \u001b[36mL1HingeLoss\u001b[39m,\n",
       "  \u001b[36mL2EpsilonInsLoss\u001b[39m, \u001b[36mL2HingeLoss\u001b[39m, \u001b[36mL2MarginLoss\u001b[39m, \u001b[36mLPDistLoss\u001b[39m, \u001b[36mLPLoss\u001b[39m,\n",
       "  \u001b[36mLatinHypercube\u001b[39m, \u001b[36mLogCosh\u001b[39m, \u001b[36mLogCoshLoss\u001b[39m, \u001b[36mLogLoss\u001b[39m, \u001b[36mLogScore\u001b[39m, \u001b[36mLogitDistLoss\u001b[39m,\n",
       "  \u001b[36mLogitMarginLoss\u001b[39m, \u001b[36mMAE\u001b[39m, \u001b[36mMAPE\u001b[39m, \u001b[36mMAV\u001b[39m, \u001b[36mMCC\u001b[39m, \u001b[36mMCR\u001b[39m, \u001b[36mMFDR\u001b[39m, \u001b[36mMFNR\u001b[39m, \u001b[36mMFPR\u001b[39m, \u001b[36mMLJIteration\u001b[39m,\n",
       "  \u001b[36mMLJOpenML\u001b[39m, \u001b[36mMLJ_VERSION\u001b[39m, \u001b[36mMNPV\u001b[39m, \u001b[36mMPPV\u001b[39m, \u001b[36mMTNR\u001b[39m, \u001b[36mMTPR\u001b[39m, \u001b[36mMachine\u001b[39m,\n",
       "  \u001b[36mMatthewsCorrelation\u001b[39m, \u001b[36mMeanAbsoluteError\u001b[39m, \u001b[36mMeanAbsoluteProportionalError\u001b[39m,\n",
       "  \u001b[36mMisclassificationRate\u001b[39m, \u001b[36mModifiedHuberLoss\u001b[39m, \u001b[36mMulticlass\u001b[39m, \u001b[36mMulticlassFScore\u001b[39m,\n",
       "  \u001b[36mMulticlassFalseDiscoveryRate\u001b[39m, \u001b[36mMulticlassFalseNegative\u001b[39m,\n",
       "  \u001b[36mMulticlassFalseNegativeRate\u001b[39m, \u001b[36mMulticlassFalsePositive\u001b[39m,\n",
       "  \u001b[36mMulticlassFalsePositiveRate\u001b[39m, \u001b[36mMulticlassNegativePredictiveValue\u001b[39m,\n",
       "  \u001b[36mMulticlassPrecision\u001b[39m, \u001b[36mMulticlassRecall\u001b[39m, \u001b[36mMulticlassSpecificity\u001b[39m,\n",
       "  \u001b[36mMulticlassTrueNegative\u001b[39m, \u001b[36mMulticlassTrueNegativeRate\u001b[39m, \u001b[36mMulticlassTruePositive\u001b[39m,\n",
       "  \u001b[36mMulticlassTruePositiveRate\u001b[39m, \u001b[36mNPV\u001b[39m, \u001b[36mNegativePredictiveValue\u001b[39m, \u001b[36mNever\u001b[39m, \u001b[36mNode\u001b[39m,\n",
       "  \u001b[36mNotANumber\u001b[39m, \u001b[36mNumberLimit\u001b[39m, \u001b[36mNumberSinceBest\u001b[39m, \u001b[36mOneHotEncoder\u001b[39m, \u001b[36mOpenML\u001b[39m,\n",
       "  \u001b[36mOrderedFactor\u001b[39m, \u001b[36mPPV\u001b[39m, \u001b[36mPQ\u001b[39m, \u001b[36mPatience\u001b[39m, \u001b[36mPerceptronLoss\u001b[39m, \u001b[36mPeriodicLoss\u001b[39m, \u001b[36mPipeline\u001b[39m,\n",
       "  \u001b[36mPrecision\u001b[39m, \u001b[36mProbabilistic\u001b[39m, \u001b[36mProbabilisticComposite\u001b[39m, \u001b[36mProbabilisticNetwork\u001b[39m,\n",
       "  \u001b[36mProbabilisticSupervisedDetector\u001b[39m, \u001b[36mProbabilisticSupervisedDetectorComposite\u001b[39m,\n",
       "  \u001b[36mProbabilisticSupervisedDetectorSurrogate\u001b[39m, \u001b[36mProbabilisticSurrogate\u001b[39m,\n",
       "  \u001b[36mProbabilisticUnsupervisedDetector\u001b[39m,\n",
       "  \u001b[36mProbabilisticUnsupervisedDetectorComposite\u001b[39m,\n",
       "  \u001b[36mProbabilisticUnsupervisedDetectorSurrogate\u001b[39m, \u001b[36mQuantileLoss\u001b[39m, \u001b[36mRMS\u001b[39m, \u001b[36mRMSL\u001b[39m, \u001b[36mRMSLP\u001b[39m,\n",
       "  \u001b[36mRMSP\u001b[39m, \u001b[36mRMSPV\u001b[39m, \u001b[36mRSQ\u001b[39m, \u001b[36mRSquared\u001b[39m, \u001b[36mRandomSearch\u001b[39m, \u001b[36mRecall\u001b[39m, \u001b[36mResampler\u001b[39m,\n",
       "  \u001b[36mResamplingStrategy\u001b[39m, \u001b[36mRootMeanSquaredError\u001b[39m, \u001b[36mRootMeanSquaredLogError\u001b[39m,\n",
       "  \u001b[36mRootMeanSquaredLogProportionalError\u001b[39m, \u001b[36mRootMeanSquaredProportionalError\u001b[39m, \u001b[36mSave\u001b[39m,\n",
       "  \u001b[36mScientific\u001b[39m, \u001b[36mSigmoidLoss\u001b[39m, \u001b[36mSmoothedL1HingeLoss\u001b[39m, \u001b[36mSpecificity\u001b[39m, \u001b[36mSphericalScore\u001b[39m,\n",
       "  \u001b[36mStack\u001b[39m, \u001b[36mStandardizer\u001b[39m, \u001b[36mStatic\u001b[39m, \u001b[36mStaticComposite\u001b[39m, \u001b[36mStaticSurrogate\u001b[39m, \u001b[36mStep\u001b[39m,\n",
       "  \u001b[36mStratifiedCV\u001b[39m, \u001b[36mSupervised\u001b[39m, \u001b[36mSupervisedAnnotator\u001b[39m, \u001b[36mSupervisedAnnotatorComposite\u001b[39m,\n",
       "  \u001b[36mSupervisedAnnotatorSurrogate\u001b[39m, \u001b[36mSupervisedComposite\u001b[39m, \u001b[36mSupervisedDetector\u001b[39m,\n",
       "  \u001b[36mSupervisedDetectorComposite\u001b[39m, \u001b[36mSupervisedDetectorSurrogate\u001b[39m,\n",
       "  \u001b[36mSupervisedSurrogate\u001b[39m, \u001b[36mSurrogate\u001b[39m, \u001b[36mTNR\u001b[39m, \u001b[36mTPR\u001b[39m, \u001b[36mTable\u001b[39m, \u001b[36mTextual\u001b[39m, \u001b[36mThreshold\u001b[39m,\n",
       "  \u001b[36mTimeLimit\u001b[39m, \u001b[36mTimeSeriesCV\u001b[39m, \u001b[36mTransformedTargetModel\u001b[39m, \u001b[36mTrueNegative\u001b[39m,\n",
       "  \u001b[36mTrueNegativeRate\u001b[39m, \u001b[36mTruePositive\u001b[39m, \u001b[36mTruePositiveRate\u001b[39m, \u001b[36mTunedModel\u001b[39m,\n",
       "  \u001b[36mUnivariateBoxCoxTransformer\u001b[39m, \u001b[36mUnivariateDiscretizer\u001b[39m, \u001b[36mUnivariateFinite\u001b[39m,\n",
       "  \u001b[36mUnivariateStandardizer\u001b[39m, \u001b[36mUnivariateTimeTypeToContinuous\u001b[39m, \u001b[36mUnknown\u001b[39m,\n",
       "  \u001b[36mUnsupervised\u001b[39m, \u001b[36mUnsupervisedAnnotator\u001b[39m, \u001b[36mUnsupervisedAnnotatorComposite\u001b[39m,\n",
       "  \u001b[36mUnsupervisedAnnotatorSurrogate\u001b[39m, \u001b[36mUnsupervisedComposite\u001b[39m, \u001b[36mUnsupervisedDetector\u001b[39m,\n",
       "  \u001b[36mUnsupervisedDetectorComposite\u001b[39m, \u001b[36mUnsupervisedDetectorSurrogate\u001b[39m,\n",
       "  \u001b[36mUnsupervisedNetwork\u001b[39m, \u001b[36mUnsupervisedSurrogate\u001b[39m, \u001b[36mWarmup\u001b[39m, \u001b[36mWarn\u001b[39m, \u001b[36mWithEvaluationDo\u001b[39m,\n",
       "  \u001b[36mWithFittedParamsDo\u001b[39m, \u001b[36mWithIterationsDo\u001b[39m, \u001b[36mWithLossDo\u001b[39m, \u001b[36mWithMachineDo\u001b[39m,\n",
       "  \u001b[36mWithModelDo\u001b[39m, \u001b[36mWithNumberDo\u001b[39m, \u001b[36mWithReportDo\u001b[39m, \u001b[36mWithTrainingLossesDo\u001b[39m, \u001b[36mZeroOneLoss\u001b[39m,\n",
       "  \u001b[36maccuracy\u001b[39m, \u001b[36maggregate\u001b[39m, \u001b[36maggregation\u001b[39m, \u001b[36manonymize!\u001b[39m, \u001b[36marea_under_curve\u001b[39m, \u001b[36mauc\u001b[39m,\n",
       "  \u001b[36mautotype\u001b[39m, \u001b[36mbac\u001b[39m, \u001b[36mbacc\u001b[39m, \u001b[36mbalanced_accuracy\u001b[39m, \u001b[36mbrier_loss\u001b[39m, \u001b[36mbrier_score\u001b[39m,\n",
       "  \u001b[36mcategorical\u001b[39m, \u001b[36mclasses\u001b[39m, \u001b[36mcoerce\u001b[39m, \u001b[36mcoerce!\u001b[39m, \u001b[36mcolor_off\u001b[39m, \u001b[36mcolor_on\u001b[39m, \u001b[36mcomplement\u001b[39m,\n",
       "  \u001b[36mconfmat\u001b[39m, \u001b[36mconfusion_matrix\u001b[39m, \u001b[36mcorestrict\u001b[39m, \u001b[36mcross_entropy\u001b[39m, \u001b[36mdecoder\u001b[39m,\n",
       "  \u001b[36mdeep_properties\u001b[39m, \u001b[36mdefault_measure\u001b[39m, \u001b[36mdefault_resource\u001b[39m, \u001b[36mdistribution_type\u001b[39m,\n",
       "  \u001b[36mdocstring\u001b[39m, \u001b[36mdwd_margin_loss\u001b[39m, \u001b[36melscitype\u001b[39m, \u001b[36mevaluate\u001b[39m, \u001b[36mevaluate!\u001b[39m, \u001b[36mexp_loss\u001b[39m,\n",
       "  \u001b[36mf1score\u001b[39m, \u001b[36mfallout\u001b[39m, \u001b[36mfalse_discovery_rate\u001b[39m, \u001b[36mfalse_negative\u001b[39m, \u001b[36mfalse_negative_rate\u001b[39m,\n",
       "  \u001b[36mfalse_positive\u001b[39m, \u001b[36mfalse_positive_rate\u001b[39m, \u001b[36mfalsediscovery_rate\u001b[39m, \u001b[36mfalsenegative\u001b[39m,\n",
       "  \u001b[36mfalsenegative_rate\u001b[39m, \u001b[36mfalsepositive\u001b[39m, \u001b[36mfalsepositive_rate\u001b[39m, \u001b[36mfdr\u001b[39m, \u001b[36mfit!\u001b[39m,\n",
       "  \u001b[36mfit_data_scitype\u001b[39m, \u001b[36mfit_only!\u001b[39m, \u001b[36mfitresults\u001b[39m, \u001b[36mfitted_params\u001b[39m, \u001b[36mfnr\u001b[39m, \u001b[36mfpr\u001b[39m, \u001b[36mfreeze!\u001b[39m,\n",
       "  \u001b[36mhit_rate\u001b[39m, \u001b[36mhuber_loss\u001b[39m, \u001b[36mhuman_name\u001b[39m, \u001b[36mhyperparameter_types\u001b[39m, \u001b[36mhyperparameters\u001b[39m,\n",
       "  \u001b[36minfo\u001b[39m, \u001b[36minput_scitype\u001b[39m, \u001b[36mint\u001b[39m, \u001b[36minverse_transform\u001b[39m, \u001b[36minverse_transform_scitype\u001b[39m,\n",
       "  \u001b[36mis_feature_dependent\u001b[39m, \u001b[36mis_pure_julia\u001b[39m, \u001b[36mis_supervised\u001b[39m, \u001b[36mis_wrapper\u001b[39m,\n",
       "  \u001b[36miteration_parameter\u001b[39m, \u001b[36miterator\u001b[39m, \u001b[36mkappa\u001b[39m, \u001b[36ml1\u001b[39m, \u001b[36ml1_epsilon_ins_loss\u001b[39m,\n",
       "  \u001b[36ml1_hinge_loss\u001b[39m, \u001b[36ml2\u001b[39m, \u001b[36ml2_epsilon_ins_loss\u001b[39m, \u001b[36ml2_hinge_loss\u001b[39m, \u001b[36ml2_margin_loss\u001b[39m,\n",
       "  \u001b[36mlearning_curve\u001b[39m, \u001b[36mlearning_curve!\u001b[39m, \u001b[36mlevels\u001b[39m, \u001b[36mlevels!\u001b[39m, \u001b[36mload\u001b[39m, \u001b[36mload_ames\u001b[39m,\n",
       "  \u001b[36mload_boston\u001b[39m, \u001b[36mload_crabs\u001b[39m, \u001b[36mload_iris\u001b[39m, \u001b[36mload_path\u001b[39m, \u001b[36mload_reduced_ames\u001b[39m,\n",
       "  \u001b[36mlocalmodels\u001b[39m, \u001b[36mlog_cosh\u001b[39m, \u001b[36mlog_cosh_loss\u001b[39m, \u001b[36mlog_loss\u001b[39m, \u001b[36mlog_score\u001b[39m, \u001b[36mlogit_dist_loss\u001b[39m,\n",
       "  \u001b[36mlogit_margin_loss\u001b[39m, \u001b[36mlogpdf\u001b[39m, \u001b[36mlp_dist_loss\u001b[39m, \u001b[36mmachine\u001b[39m, \u001b[36mmachines\u001b[39m, \u001b[36mmacro_avg\u001b[39m,\n",
       "  \u001b[36mmacro_f1score\u001b[39m, \u001b[36mmae\u001b[39m, \u001b[36mmake_blobs\u001b[39m, \u001b[36mmake_circles\u001b[39m, \u001b[36mmake_moons\u001b[39m, \u001b[36mmake_regression\u001b[39m,\n",
       "  \u001b[36mmape\u001b[39m, \u001b[36mmatching\u001b[39m, \u001b[36mmatthews_correlation\u001b[39m, \u001b[36mmav\u001b[39m, \u001b[36mmcc\u001b[39m, \u001b[36mmcr\u001b[39m, \u001b[36mmean\u001b[39m,\n",
       "  \u001b[36mmean_absolute_error\u001b[39m, \u001b[36mmean_absolute_value\u001b[39m, \u001b[36mmeasures\u001b[39m, \u001b[36mmedian\u001b[39m, \u001b[36mmicro_avg\u001b[39m,\n",
       "  \u001b[36mmicro_f1score\u001b[39m, \u001b[36mmisclassification_rate\u001b[39m, \u001b[36mmiss_rate\u001b[39m, \u001b[36mmode\u001b[39m, \u001b[36mmodels\u001b[39m,\n",
       "  \u001b[36mmodified_huber_loss\u001b[39m, \u001b[36mmulticlass_f1score\u001b[39m, \u001b[36mmulticlass_fallout\u001b[39m,\n",
       "  \u001b[36mmulticlass_false_discovery_rate\u001b[39m, \u001b[36mmulticlass_false_negative\u001b[39m,\n",
       "  \u001b[36mmulticlass_false_negative_rate\u001b[39m, \u001b[36mmulticlass_false_positive\u001b[39m,\n",
       "  \u001b[36mmulticlass_false_positive_rate\u001b[39m, \u001b[36mmulticlass_falsediscovery_rate\u001b[39m,\n",
       "  \u001b[36mmulticlass_falsenegative\u001b[39m, \u001b[36mmulticlass_falsenegative_rate\u001b[39m,\n",
       "  \u001b[36mmulticlass_falsepositive\u001b[39m, \u001b[36mmulticlass_falsepositive_rate\u001b[39m, \u001b[36mmulticlass_fdr\u001b[39m,\n",
       "  \u001b[36mmulticlass_fnr\u001b[39m, \u001b[36mmulticlass_fpr\u001b[39m, \u001b[36mmulticlass_hit_rate\u001b[39m, \u001b[36mmulticlass_miss_rate\u001b[39m,\n",
       "  \u001b[36mmulticlass_negative_predictive_value\u001b[39m, \u001b[36mmulticlass_negativepredictive_value\u001b[39m,\n",
       "  \u001b[36mmulticlass_npv\u001b[39m, \u001b[36mmulticlass_positive_predictive_value\u001b[39m,\n",
       "  \u001b[36mmulticlass_positivepredictive_value\u001b[39m, \u001b[36mmulticlass_ppv\u001b[39m, \u001b[36mmulticlass_precision\u001b[39m,\n",
       "  \u001b[36mmulticlass_recall\u001b[39m, \u001b[36mmulticlass_selectivity\u001b[39m, \u001b[36mmulticlass_sensitivity\u001b[39m,\n",
       "  \u001b[36mmulticlass_specificity\u001b[39m, \u001b[36mmulticlass_tnr\u001b[39m, \u001b[36mmulticlass_tpr\u001b[39m,\n",
       "  \u001b[36mmulticlass_true_negative\u001b[39m, \u001b[36mmulticlass_true_negative_rate\u001b[39m,\n",
       "  \u001b[36mmulticlass_true_positive\u001b[39m, \u001b[36mmulticlass_true_positive_rate\u001b[39m,\n",
       "  \u001b[36mmulticlass_truenegative\u001b[39m, \u001b[36mmulticlass_truenegative_rate\u001b[39m,\n",
       "  \u001b[36mmulticlass_truepositive\u001b[39m, \u001b[36mmulticlass_truepositive_rate\u001b[39m,\n",
       "  \u001b[36mnegative_predictive_value\u001b[39m, \u001b[36mnegativepredictive_value\u001b[39m, \u001b[36mno_avg\u001b[39m, \u001b[36mnode\u001b[39m,\n",
       "  \u001b[36mnonmissing\u001b[39m, \u001b[36mnpv\u001b[39m, \u001b[36mnrows\u001b[39m, \u001b[36morientation\u001b[39m, \u001b[36morigins\u001b[39m, \u001b[36moutput_scitype\u001b[39m,\n",
       "  \u001b[36mpackage_license\u001b[39m, \u001b[36mpackage_name\u001b[39m, \u001b[36mpackage_url\u001b[39m, \u001b[36mpackage_uuid\u001b[39m, \u001b[36mparams\u001b[39m, \u001b[36mpartition\u001b[39m,\n",
       "  \u001b[36mpdf\u001b[39m, \u001b[36mperceptron_loss\u001b[39m, \u001b[36mperiodic_loss\u001b[39m, \u001b[36mpositive_predictive_value\u001b[39m,\n",
       "  \u001b[36mpositivepredictive_value\u001b[39m, \u001b[36mppv\u001b[39m, \u001b[36mprecision\u001b[39m, \u001b[36mpredict\u001b[39m, \u001b[36mpredict_joint\u001b[39m,\n",
       "  \u001b[36mpredict_mean\u001b[39m, \u001b[36mpredict_median\u001b[39m, \u001b[36mpredict_mode\u001b[39m, \u001b[36mpredict_scitype\u001b[39m,\n",
       "  \u001b[36mprediction_type\u001b[39m, \u001b[36mpretty\u001b[39m, \u001b[36mquantile_loss\u001b[39m, \u001b[36mrebind!\u001b[39m, \u001b[36mrecall\u001b[39m, \u001b[36mreport\u001b[39m,\n",
       "  \u001b[36mreports_each_observation\u001b[39m, \u001b[36mrestrict\u001b[39m, \u001b[36mreturn!\u001b[39m, \u001b[36mrms\u001b[39m, \u001b[36mrmse\u001b[39m, \u001b[36mrmsl\u001b[39m, \u001b[36mrmsle\u001b[39m, \u001b[36mrmslp1\u001b[39m,\n",
       "  \u001b[36mrmsp\u001b[39m, \u001b[36mroc\u001b[39m, \u001b[36mroc_curve\u001b[39m, \u001b[36mroot_mean_squared_error\u001b[39m, \u001b[36mroot_mean_squared_log_error\u001b[39m,\n",
       "  \u001b[36mrsq\u001b[39m, \u001b[36mrsquared\u001b[39m, \u001b[36msampler\u001b[39m, \u001b[36mschema\u001b[39m, \u001b[36mscitype\u001b[39m, \u001b[36mscitype_union\u001b[39m, \u001b[36mselectcols\u001b[39m,\n",
       "  \u001b[36mselectivity\u001b[39m, \u001b[36mselectrows\u001b[39m, \u001b[36msensitivity\u001b[39m, \u001b[36mshuffle\u001b[39m, \u001b[36mshuffle!\u001b[39m, \u001b[36msigmoid_loss\u001b[39m,\n",
       "  \u001b[36mskipinvalid\u001b[39m, \u001b[36msmoothed_l1_hinge_loss\u001b[39m, \u001b[36msource\u001b[39m, \u001b[36msources\u001b[39m, \u001b[36mspecificity\u001b[39m,\n",
       "  \u001b[36mspherical_score\u001b[39m, \u001b[36mstd\u001b[39m, \u001b[36msupport\u001b[39m, \u001b[36msupports_class_weights\u001b[39m,\n",
       "  \u001b[36msupports_training_losses\u001b[39m, \u001b[36msupports_weights\u001b[39m, \u001b[36mtable\u001b[39m, \u001b[36mtarget_scitype\u001b[39m, \u001b[36mthaw!\u001b[39m,\n",
       "  \u001b[36mtnr\u001b[39m, \u001b[36mtpr\u001b[39m, \u001b[36mtraining_losses\u001b[39m, \u001b[36mtrait\u001b[39m, \u001b[36mtransform\u001b[39m, \u001b[36mtransform_scitype\u001b[39m,\n",
       "  \u001b[36mtrue_negative\u001b[39m, \u001b[36mtrue_negative_rate\u001b[39m, \u001b[36mtrue_positive\u001b[39m, \u001b[36mtrue_positive_rate\u001b[39m,\n",
       "  \u001b[36mtruenegative\u001b[39m, \u001b[36mtruenegative_rate\u001b[39m, \u001b[36mtruepositive\u001b[39m, \u001b[36mtruepositive_rate\u001b[39m, \u001b[36munpack\u001b[39m,\n",
       "  \u001b[36mvalue\u001b[39m, \u001b[36mzero_one_loss\u001b[39m\n",
       "\n",
       "\u001b[1m  Displaying contents of readme found at\u001b[22m\n",
       "\u001b[1m \u001b[36mD:\\TongYuan\\.julia\\packages\\MLJ\\hw6oD\\README.md\u001b[39m\u001b[22m\n",
       "\u001b[1m  ≡≡≡≡≡≡≡≡≡≡≡≡≡≡≡≡≡≡≡≡≡≡≡≡≡≡≡≡≡≡≡≡≡≡≡≡≡≡≡≡≡≡≡≡≡≡≡≡≡\u001b[22m\n",
       "\n",
       "  <div align=\"center\"> <img src=\"material/MLJLogo2.svg\" alt=\"MLJ\" width=\"200\">\n",
       "  </div>\n",
       "\n",
       "  <h2 align=\"center\">A Machine Learning Framework for Julia <p align=\"center\">\n",
       "  <a href=\"https://github.com/alan-turing-institute/MLJ.jl/actions\"> <img\n",
       "  src=\"https://github.com/alan-turing-institute/MLJ.jl/workflows/CI/badge.svg\"\n",
       "  alt=\"Build Status\"> </a> <a\n",
       "  href=\"https://alan-turing-institute.github.io/MLJ.jl/dev/\"> <img\n",
       "  src=\"https://img.shields.io/badge/docs-stable-blue.svg\" alt=\"Documentation\">\n",
       "  </a> <a href=\"https://opensource.org/licenses/MIT\"> <img\n",
       "  src=\"https://img.shields.io/badge/License-MIT-yelllow\" alt=\"bibtex\"> </a> <a\n",
       "  href=\"BIBLIOGRAPHY.md\"> <img\n",
       "  src=\"https://img.shields.io/badge/cite-BibTeX-blue\" alt=\"bibtex\"> </a>\n",
       "\n",
       "  </p> </h2>\n",
       "\n",
       "  MLJ (Machine Learning in Julia) is a toolbox written in Julia providing a\n",
       "  common interface and meta-algorithms for selecting, tuning, evaluating,\n",
       "  composing and comparing over 160 machine learning models\n",
       "  (https://alan-turing-institute.github.io/MLJ.jl/dev/list_of_supported_models/)\n",
       "  written in Julia and other languages.\n",
       "\n",
       "  \u001b[1mNew to MLJ?\u001b[22m Start here\n",
       "  (https://alan-turing-institute.github.io/MLJ.jl/dev/).\n",
       "\n",
       "  \u001b[1mIntegrating an existing machine learning model into the MLJ framework?\u001b[22m Start\n",
       "  here\n",
       "  (https://alan-turing-institute.github.io/MLJ.jl/dev/quick_start_guide_to_adding_models/).\n",
       "\n",
       "  MLJ was initially created as a Tools, Practices and Systems project at the\n",
       "  Alan Turing Institute (https://www.turing.ac.uk/) in 2019. Current funding\n",
       "  is provided by a New Zealand Strategic Science Investment Fund\n",
       "  (https://www.mbie.govt.nz/science-and-technology/science-and-innovation/funding-information-and-opportunities/investment-funds/strategic-science-investment-fund/ssif-funded-programmes/university-of-auckland/)\n",
       "  awarded to the University of Auckland.\n",
       "\n",
       "  MLJ been developed with the support of the following organizations:\n",
       "\n",
       "  <div align=\"center\"> <img src=\"material/Turing\u001b[4mlogo.png\" width = 100/> <img\n",
       "  src=\"material/UoA\u001b[24mlogo.png\" width = 100/> <img src=\"material/IQVIA_logo.png\"\n",
       "  width = 100/> <img src=\"material/warwick.png\" width = 100/> <img\n",
       "  src=\"material/julia.png\" width = 100/> </div>\n",
       "\n",
       "\u001b[1m  The MLJ Universe\u001b[22m\n",
       "\u001b[1m  ––––––––––––––––––\u001b[22m\n",
       "\n",
       "  The functionality of MLJ is distributed over a number of repositories\n",
       "  illustrated in the dependency chart below. These repositories live at the\n",
       "  JuliaAI (https://github.com/JuliaAI) umbrella organization.\n",
       "\n",
       "  <div align=\"center\"> <img src=\"material/MLJ_stack.svg\" alt=\"Dependency\n",
       "  Chart\"> </div>\n",
       "\n",
       "  \u001b[4mDependency chart for MLJ repositories. Repositories with dashed connections\n",
       "  do not currently exist but are planned/proposed.\u001b[24m\n",
       "\n",
       "  <br> <p align=\"center\"> <a href=\"CONTRIBUTING.md\">Contributing</a>\n",
       "  &nbsp;•&nbsp; <a href=\"ORGANIZATION.md\">Code Organization</a> &nbsp;•&nbsp;\n",
       "  <a href=\"ROADMAP.md\">Road Map</a> </br>\n",
       "\n",
       "\u001b[1m  Contributors\u001b[22m\n",
       "\u001b[1m  --------------\u001b[22m\n",
       "\n",
       "  \u001b[4mCore design\u001b[24m: A. Blaom, F. Kiraly, S. Vollmer\n",
       "\n",
       "  \u001b[4mLead contributor\u001b[24m: A. Blaom\n",
       "\n",
       "  \u001b[4mActive maintainers\u001b[24m: A. Blaom, S. Okon, T. Lienart, D. Aluthge"
      ]
     },
     "execution_count": 247,
     "metadata": {},
     "output_type": "execute_result"
    }
   ],
   "source": [
    "?MLJ #?可以显示模块中的函数"
   ]
  },
  {
   "cell_type": "code",
   "execution_count": 248,
   "id": "0cd18c62",
   "metadata": {
    "ExecuteTime": {
     "end_time": "2022-06-08T14:52:30.111000+08:00",
     "start_time": "2022-06-08T06:51:54.285Z"
    }
   },
   "outputs": [
    {
     "data": {
      "text/latex": [
       "\\begin{verbatim}\n",
       "MLJBase.MeanAbsoluteError\n",
       "\\end{verbatim}\n",
       "A measure type for mean absolute error, which includes the instance(s): \\texttt{mae}, \\texttt{mav}, \\texttt{mean\\_absolute\\_error}, \\texttt{mean\\_absolute\\_value}.\n",
       "\n",
       "\\begin{verbatim}\n",
       "MeanAbsoluteError()(ŷ, y)\n",
       "MeanAbsoluteError()(ŷ, y, w)\n",
       "\\end{verbatim}\n",
       "Evaluate the mean absolute error on predictions \\texttt{ŷ}, given ground truth observations \\texttt{y}. Optionally specify per-sample weights, \\texttt{w}. \n",
       "\n",
       "$\\text{mean absolute error} =  n^{-1}∑ᵢ|yᵢ-ŷᵢ|$ or $\\text{mean absolute error} = n^{-1}∑ᵢwᵢ|yᵢ-ŷᵢ|$\n",
       "\n",
       "Requires \\texttt{scitype(y)} to be a subtype of \\texttt{AbstractArray\\{<:Union\\{Infinite,Missing\\}\\}}; \\texttt{ŷ} must be an array of \\texttt{deterministic} predictions. \n",
       "\n",
       "For more information, run \\texttt{info(MeanAbsoluteError)}. \n",
       "\n"
      ],
      "text/markdown": [
       "```\n",
       "MLJBase.MeanAbsoluteError\n",
       "```\n",
       "\n",
       "A measure type for mean absolute error, which includes the instance(s): `mae`, `mav`, `mean_absolute_error`, `mean_absolute_value`.\n",
       "\n",
       "```\n",
       "MeanAbsoluteError()(ŷ, y)\n",
       "MeanAbsoluteError()(ŷ, y, w)\n",
       "```\n",
       "\n",
       "Evaluate the mean absolute error on predictions `ŷ`, given ground truth observations `y`. Optionally specify per-sample weights, `w`. \n",
       "\n",
       "$\\text{mean absolute error} =  n^{-1}∑ᵢ|yᵢ-ŷᵢ|$ or $\\text{mean absolute error} = n^{-1}∑ᵢwᵢ|yᵢ-ŷᵢ|$\n",
       "\n",
       "Requires `scitype(y)` to be a subtype of `AbstractArray{<:Union{Infinite,Missing}}`; `ŷ` must be an array of `deterministic` predictions. \n",
       "\n",
       "For more information, run `info(MeanAbsoluteError)`. \n"
      ],
      "text/plain": [
       "\u001b[36m  MLJBase.MeanAbsoluteError\u001b[39m\n",
       "\n",
       "  A measure type for mean absolute error, which includes the instance(s): \u001b[36mmae\u001b[39m,\n",
       "  \u001b[36mmav\u001b[39m, \u001b[36mmean_absolute_error\u001b[39m, \u001b[36mmean_absolute_value\u001b[39m.\n",
       "\n",
       "\u001b[36m  MeanAbsoluteError()(ŷ, y)\u001b[39m\n",
       "\u001b[36m  MeanAbsoluteError()(ŷ, y, w)\u001b[39m\n",
       "\n",
       "  Evaluate the mean absolute error on predictions \u001b[36mŷ\u001b[39m, given ground truth\n",
       "  observations \u001b[36my\u001b[39m. Optionally specify per-sample weights, \u001b[36mw\u001b[39m.\n",
       "\n",
       "  \u001b[35m\\text{mean absolute error} = n^{-1}∑ᵢ|yᵢ-ŷᵢ|\u001b[39m or \u001b[35m\\text{mean absolute error} =\n",
       "  n^{-1}∑ᵢwᵢ|yᵢ-ŷᵢ|\u001b[39m\n",
       "\n",
       "  Requires \u001b[36mscitype(y)\u001b[39m to be a subtype of\n",
       "  \u001b[36mAbstractArray{<:Union{Infinite,Missing}}\u001b[39m; \u001b[36mŷ\u001b[39m must be an array of\n",
       "  \u001b[36mdeterministic\u001b[39m predictions.\n",
       "\n",
       "  For more information, run \u001b[36minfo(MeanAbsoluteError)\u001b[39m."
      ]
     },
     "execution_count": 248,
     "metadata": {},
     "output_type": "execute_result"
    }
   ],
   "source": [
    "?MLJ.MAE #进一步可以查看函数中的参数及使用方法"
   ]
  },
  {
   "cell_type": "code",
   "execution_count": null,
   "id": "b927f315",
   "metadata": {},
   "outputs": [],
   "source": []
  }
 ],
 "metadata": {
  "hide_input": false,
  "kernelspec": {
   "display_name": "Julia 1.7.3",
   "language": "julia",
   "name": "julia-1.7"
  },
  "language_info": {
   "file_extension": ".jl",
   "mimetype": "application/julia",
   "name": "julia",
   "version": "1.7.3"
  },
  "nbTranslate": {
   "displayLangs": [
    "*"
   ],
   "hotkey": "alt-t",
   "langInMainMenu": true,
   "sourceLang": "en",
   "targetLang": "fr",
   "useGoogleTranslate": true
  },
  "toc": {
   "base_numbering": 1,
   "nav_menu": {},
   "number_sections": true,
   "sideBar": true,
   "skip_h1_title": false,
   "title_cell": "Table of Contents",
   "title_sidebar": "Contents",
   "toc_cell": false,
   "toc_position": {
    "height": "calc(100% - 180px)",
    "left": "10px",
    "top": "150px",
    "width": "265.825px"
   },
   "toc_section_display": true,
   "toc_window_display": true
  },
  "varInspector": {
   "cols": {
    "lenName": 16,
    "lenType": 16,
    "lenVar": 40
   },
   "kernels_config": {
    "python": {
     "delete_cmd_postfix": "",
     "delete_cmd_prefix": "del ",
     "library": "var_list.py",
     "varRefreshCmd": "print(var_dic_list())"
    },
    "r": {
     "delete_cmd_postfix": ") ",
     "delete_cmd_prefix": "rm(",
     "library": "var_list.r",
     "varRefreshCmd": "cat(var_dic_list()) "
    }
   },
   "types_to_exclude": [
    "module",
    "function",
    "builtin_function_or_method",
    "instance",
    "_Feature"
   ],
   "window_display": false
  }
 },
 "nbformat": 4,
 "nbformat_minor": 5
}
