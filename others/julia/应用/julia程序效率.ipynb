{
 "cells": [
  {
   "cell_type": "markdown",
   "id": "4ae4e263",
   "metadata": {},
   "source": [
    "<font face=\"微软雅黑\" color=green size=5>Julia程序效率</font>"
   ]
  },
  {
   "cell_type": "markdown",
   "id": "729b2f1a",
   "metadata": {},
   "source": [
    "# Julia的语言特点"
   ]
  },
  {
   "cell_type": "markdown",
   "id": "1af0ba71",
   "metadata": {},
   "source": [
    "Julia语言是一种历史很短的计算机语言， 公开发布于2012年。 其设计理念就是希望兼有Python、R、Matlab这样的动态语言的易用性， 以及C、C++、Java这样的静态语言的运行速度。 所以Julia很适合用来做统计和金融计算。\n",
    "\n",
    "Julia语言的特点有：\n",
    "\n",
    "动态语言；  \n",
    "使用基于LLVM的动态编译技术，可以动态生成高效的运行代码；  \n",
    "不需要声明类型也一般能够产生高效代码， 需要时声明类型可以提高效率。  "
   ]
  },
  {
   "cell_type": "markdown",
   "id": "e59a8570",
   "metadata": {},
   "source": [
    "# 程序性能评测"
   ]
  },
  {
   "cell_type": "markdown",
   "id": "444d08a0",
   "metadata": {},
   "source": [
    "## 程序计时"
   ]
  },
  {
   "cell_type": "markdown",
   "id": "1167e661",
   "metadata": {},
   "source": [
    "用@time宏对一个表达式计时和查看内存分配情况，如:"
   ]
  },
  {
   "cell_type": "code",
   "execution_count": 1,
   "id": "23d3607b",
   "metadata": {
    "ExecuteTime": {
     "end_time": "2022-06-01T19:21:42.450000+08:00",
     "start_time": "2022-06-01T11:21:41.120Z"
    }
   },
   "outputs": [
    {
     "name": "stdout",
     "output_type": "stream",
     "text": [
      "  0.113557 seconds (4 allocations: 152.588 MiB, 14.56% gc time)\n"
     ]
    }
   ],
   "source": [
    "@time sqrt.(rand(10_000_000));"
   ]
  },
  {
   "cell_type": "markdown",
   "id": "6c6a92cf",
   "metadata": {},
   "source": [
    "结果中有程序运行时间的秒数， 进行了10次内存分配， 总计分配的内存数（中间可能也有释放的内存）。\n",
    "\n",
    "@time宏执行一个表达式， 显示运行时间、分配内存、垃圾收集时间比例， 然后返回表达式的结果。\n",
    "\n",
    "@time也可以对一个结构计时，如"
   ]
  },
  {
   "cell_type": "code",
   "execution_count": 2,
   "id": "81d582a7",
   "metadata": {
    "ExecuteTime": {
     "end_time": "2022-06-01T19:21:44.013000+08:00",
     "start_time": "2022-06-01T11:21:41.124Z"
    }
   },
   "outputs": [
    {
     "name": "stdout",
     "output_type": "stream",
     "text": [
      "  1.398011 seconds (20.00 M allocations: 305.176 MiB, 12.31% gc time)\n"
     ]
    }
   ],
   "source": [
    "s = 0.0\n",
    "@time for i=1:10_000_000\n",
    "    global s\n",
    "    s += sqrt(rand())\n",
    "end"
   ]
  },
  {
   "cell_type": "markdown",
   "id": "2b1eb05e",
   "metadata": {},
   "source": [
    "这个程序慢了很多，分配内存的次数和总量也比较多。\n",
    "\n",
    "还有一个@timev宏与@time类似， 提供的信息更多。 @time和@timev仅是显示表达式执行的时间和内存分配信息， 不影响表达式返回结果， 所以在程序中使用这两个函数计时一般不影响程序的结果。"
   ]
  },
  {
   "cell_type": "markdown",
   "id": "c5045192",
   "metadata": {},
   "source": [
    "## 程序瓶颈查找(profiler)"
   ]
  },
  {
   "cell_type": "markdown",
   "id": "c7be11d9",
   "metadata": {},
   "source": [
    "为了提高程序效率， 并不是所有的程序代码都需要仔细地考察并改进效率。 大部分的程序可能仅仅执行一两次， 可能仅需要执行几秒钟到几分钟。 这样的程序不需要想办法提高执行效率， 只要程序结果正确就可以了。\n",
    "\n",
    "有些程序需要执行许多次， 可能会提供给许多用户使用， 这样的程序即使耗时并不多， 也有必要去设法改进其运行效率。 有些程序虽然不需要执行许多次， 但是运行所需的时间可能很长， 比如几小时到几天， 这样的程序需要设法改进效率。\n",
    "\n",
    "**对一段比较长的程序， 如果需要改进效率， 并不需要考虑所有的代码行， 而是只要改进程序执行消耗时间最多的部分就可以了， 这样的部分称为程序的瓶颈**。 Julia内置了一个profiler工具， 用定时抽查的方式查看那些代码行被执行得最多。 这样的工具在使用时不需要修改源程序， 对运行速度的影响也很小。\n",
    "\n",
    "因为Julia使用了即时编译， 所以一个函数在第一次被调用时需要有额外的编译时间， 第二次调用就没有这个问题了。 在用profiler分析一个函数是应该从第二次调用开始分析。\n",
    "\n",
    "在执行程序之前，调用:\n",
    "\n",
    "using Profile  \n",
    "Profile.clear()  \n",
    "然后执行要分析的程序。 执行完后调用：  \n",
    "\n",
    "Profile.print()  \n",
    "将显示程序的执行次数， 包括调用的库函数的执行次数， 执行次数多的程序语句是需要优化的。"
   ]
  },
  {
   "cell_type": "markdown",
   "id": "23fcf0dc",
   "metadata": {},
   "source": [
    "## BenchmarkTools"
   ]
  },
  {
   "cell_type": "markdown",
   "id": "be584db7",
   "metadata": {},
   "source": [
    "为了对运行时间较短的程序计时， 通常会人为地重复该程序。 BenchmarkTools提供了更完善的计时统计， 以及系统的性能比较(benchmark)能力。\n",
    "\n",
    "例如，如下的简短程序："
   ]
  },
  {
   "cell_type": "code",
   "execution_count": 5,
   "id": "7077b3b6",
   "metadata": {
    "ExecuteTime": {
     "end_time": "2022-06-10T21:02:30.816000+08:00",
     "start_time": "2022-06-10T13:02:29.882Z"
    }
   },
   "outputs": [
    {
     "data": {
      "text/plain": [
       "2-element Vector{Float64}:\n",
       " 0.698714491968055\n",
       " 1.075390843171893"
      ]
     },
     "execution_count": 5,
     "metadata": {},
     "output_type": "execute_result"
    }
   ],
   "source": [
    "A = rand(2)\n",
    "B = rand(2)\n",
    "C = zeros(2)\n",
    "C = A + B"
   ]
  },
  {
   "cell_type": "markdown",
   "id": "6548b490",
   "metadata": {},
   "source": [
    "对第二行计时如下："
   ]
  },
  {
   "cell_type": "code",
   "execution_count": 4,
   "id": "cc8f8974",
   "metadata": {
    "ExecuteTime": {
     "end_time": "2022-06-01T19:21:51.688000+08:00",
     "start_time": "2022-06-01T11:21:41.138Z"
    }
   },
   "outputs": [
    {
     "data": {
      "text/plain": [
       "BenchmarkTools.Trial: 10000 samples with 888 evaluations.\n",
       " Range \u001b[90m(\u001b[39m\u001b[36m\u001b[1mmin\u001b[22m\u001b[39m … \u001b[35mmax\u001b[39m\u001b[90m):  \u001b[39m\u001b[36m\u001b[1m63.401 ns\u001b[22m\u001b[39m … \u001b[35m 3.095 μs\u001b[39m  \u001b[90m┊\u001b[39m GC \u001b[90m(\u001b[39mmin … max\u001b[90m): \u001b[39m0.00% … 95.20%\n",
       " Time  \u001b[90m(\u001b[39m\u001b[34m\u001b[1mmedian\u001b[22m\u001b[39m\u001b[90m):     \u001b[39m\u001b[34m\u001b[1m71.284 ns              \u001b[22m\u001b[39m\u001b[90m┊\u001b[39m GC \u001b[90m(\u001b[39mmedian\u001b[90m):    \u001b[39m0.00%\n",
       " Time  \u001b[90m(\u001b[39m\u001b[32m\u001b[1mmean\u001b[22m\u001b[39m ± \u001b[32mσ\u001b[39m\u001b[90m):   \u001b[39m\u001b[32m\u001b[1m88.948 ns\u001b[22m\u001b[39m ± \u001b[32m86.021 ns\u001b[39m  \u001b[90m┊\u001b[39m GC \u001b[90m(\u001b[39mmean ± σ\u001b[90m):  \u001b[39m3.47% ±  3.70%\n",
       "\n",
       "  \u001b[39m█\u001b[39m▅\u001b[39m▂\u001b[39m▃\u001b[39m▄\u001b[39m▇\u001b[34m \u001b[39m\u001b[39m \u001b[39m▂\u001b[39m \u001b[39m▅\u001b[39m▁\u001b[39m▁\u001b[39m \u001b[39m \u001b[39m \u001b[39m \u001b[39m▆\u001b[32m▁\u001b[39m\u001b[39m▂\u001b[39m▃\u001b[39m \u001b[39m▄\u001b[39m▄\u001b[39m \u001b[39m▂\u001b[39m▂\u001b[39m \u001b[39m \u001b[39m \u001b[39m \u001b[39m \u001b[39m \u001b[39m▂\u001b[39m \u001b[39m \u001b[39m \u001b[39m \u001b[39m \u001b[39m \u001b[39m \u001b[39m \u001b[39m \u001b[39m \u001b[39m \u001b[39m \u001b[39m \u001b[39m \u001b[39m \u001b[39m \u001b[39m \u001b[39m \u001b[39m \u001b[39m▄\u001b[39m▆\u001b[39m▁\u001b[39m \u001b[39m \u001b[39m \u001b[39m \u001b[39m▂\n",
       "  \u001b[39m█\u001b[39m█\u001b[39m█\u001b[39m█\u001b[39m█\u001b[39m█\u001b[34m█\u001b[39m\u001b[39m█\u001b[39m█\u001b[39m█\u001b[39m█\u001b[39m█\u001b[39m█\u001b[39m█\u001b[39m█\u001b[39m█\u001b[39m█\u001b[39m█\u001b[32m█\u001b[39m\u001b[39m█\u001b[39m█\u001b[39m▇\u001b[39m█\u001b[39m█\u001b[39m▇\u001b[39m█\u001b[39m█\u001b[39m█\u001b[39m█\u001b[39m█\u001b[39m█\u001b[39m▇\u001b[39m█\u001b[39m█\u001b[39m█\u001b[39m█\u001b[39m▇\u001b[39m▆\u001b[39m▆\u001b[39m▆\u001b[39m▆\u001b[39m▇\u001b[39m▇\u001b[39m▆\u001b[39m▇\u001b[39m▆\u001b[39m▅\u001b[39m▇\u001b[39m█\u001b[39m▅\u001b[39m▅\u001b[39m▃\u001b[39m▄\u001b[39m█\u001b[39m█\u001b[39m█\u001b[39m▆\u001b[39m▇\u001b[39m█\u001b[39m \u001b[39m█\n",
       "  63.4 ns\u001b[90m      \u001b[39m\u001b[90mHistogram: \u001b[39m\u001b[90m\u001b[1mlog(\u001b[22m\u001b[39m\u001b[90mfrequency\u001b[39m\u001b[90m\u001b[1m)\u001b[22m\u001b[39m\u001b[90m by time\u001b[39m       147 ns \u001b[0m\u001b[1m<\u001b[22m\n",
       "\n",
       " Memory estimate\u001b[90m: \u001b[39m\u001b[33m80 bytes\u001b[39m, allocs estimate\u001b[90m: \u001b[39m\u001b[33m1\u001b[39m."
      ]
     },
     "execution_count": 4,
     "metadata": {},
     "output_type": "execute_result"
    }
   ],
   "source": [
    "using BenchmarkTools\n",
    "@benchmark C = A + B"
   ]
  },
  {
   "cell_type": "markdown",
   "id": "de42a448",
   "metadata": {},
   "source": [
    "换用加点写法："
   ]
  },
  {
   "cell_type": "code",
   "execution_count": 5,
   "id": "a98d98c2",
   "metadata": {
    "ExecuteTime": {
     "end_time": "2022-06-01T19:21:54.259000+08:00",
     "start_time": "2022-06-01T11:21:41.142Z"
    }
   },
   "outputs": [
    {
     "data": {
      "text/plain": [
       "BenchmarkTools.Trial: 10000 samples with 199 evaluations.\n",
       " Range \u001b[90m(\u001b[39m\u001b[36m\u001b[1mmin\u001b[22m\u001b[39m … \u001b[35mmax\u001b[39m\u001b[90m):  \u001b[39m\u001b[36m\u001b[1m428.141 ns\u001b[22m\u001b[39m … \u001b[35m  8.437 μs\u001b[39m  \u001b[90m┊\u001b[39m GC \u001b[90m(\u001b[39mmin … max\u001b[90m): \u001b[39m0.00% … 93.28%\n",
       " Time  \u001b[90m(\u001b[39m\u001b[34m\u001b[1mmedian\u001b[22m\u001b[39m\u001b[90m):     \u001b[39m\u001b[34m\u001b[1m471.859 ns               \u001b[22m\u001b[39m\u001b[90m┊\u001b[39m GC \u001b[90m(\u001b[39mmedian\u001b[90m):    \u001b[39m0.00%\n",
       " Time  \u001b[90m(\u001b[39m\u001b[32m\u001b[1mmean\u001b[22m\u001b[39m ± \u001b[32mσ\u001b[39m\u001b[90m):   \u001b[39m\u001b[32m\u001b[1m574.246 ns\u001b[22m\u001b[39m ± \u001b[32m215.402 ns\u001b[39m  \u001b[90m┊\u001b[39m GC \u001b[90m(\u001b[39mmean ± σ\u001b[90m):  \u001b[39m0.26% ±  1.32%\n",
       "\n",
       "  \u001b[39m█\u001b[39m \u001b[39m \u001b[39m▃\u001b[39m \u001b[34m \u001b[39m\u001b[39m \u001b[39m \u001b[39m \u001b[39m \u001b[39m \u001b[39m \u001b[39m \u001b[39m \u001b[39m \u001b[39m \u001b[32m \u001b[39m\u001b[39m \u001b[39m \u001b[39m \u001b[39m \u001b[39m \u001b[39m \u001b[39m \u001b[39m \u001b[39m \u001b[39m \u001b[39m \u001b[39m \u001b[39m \u001b[39m \u001b[39m \u001b[39m \u001b[39m \u001b[39m \u001b[39m \u001b[39m \u001b[39m \u001b[39m \u001b[39m \u001b[39m \u001b[39m \u001b[39m \u001b[39m \u001b[39m \u001b[39m \u001b[39m \u001b[39m \u001b[39m \u001b[39m \u001b[39m \u001b[39m \u001b[39m \u001b[39m \u001b[39m \u001b[39m \u001b[39m \u001b[39m \u001b[39m \u001b[39m \u001b[39m \u001b[39m \u001b[39m \n",
       "  \u001b[39m█\u001b[39m▅\u001b[39m▅\u001b[39m█\u001b[39m▅\u001b[34m▃\u001b[39m\u001b[39m▃\u001b[39m▂\u001b[39m▃\u001b[39m▂\u001b[39m▅\u001b[39m▃\u001b[39m▃\u001b[39m▂\u001b[39m▂\u001b[39m▂\u001b[32m▂\u001b[39m\u001b[39m▆\u001b[39m▃\u001b[39m▃\u001b[39m▃\u001b[39m▂\u001b[39m▂\u001b[39m▂\u001b[39m▂\u001b[39m▂\u001b[39m▃\u001b[39m▂\u001b[39m▂\u001b[39m▂\u001b[39m▂\u001b[39m▂\u001b[39m▂\u001b[39m▂\u001b[39m▂\u001b[39m▂\u001b[39m▂\u001b[39m▂\u001b[39m▃\u001b[39m▃\u001b[39m▂\u001b[39m▃\u001b[39m▂\u001b[39m▂\u001b[39m▂\u001b[39m▂\u001b[39m▂\u001b[39m▂\u001b[39m▂\u001b[39m▂\u001b[39m▂\u001b[39m▂\u001b[39m▁\u001b[39m▂\u001b[39m▂\u001b[39m▄\u001b[39m▅\u001b[39m▃\u001b[39m▃\u001b[39m▂\u001b[39m▂\u001b[39m \u001b[39m▃\n",
       "  428 ns\u001b[90m           Histogram: frequency by time\u001b[39m          997 ns \u001b[0m\u001b[1m<\u001b[22m\n",
       "\n",
       " Memory estimate\u001b[90m: \u001b[39m\u001b[33m64 bytes\u001b[39m, allocs estimate\u001b[90m: \u001b[39m\u001b[33m2\u001b[39m."
      ]
     },
     "execution_count": 5,
     "metadata": {},
     "output_type": "execute_result"
    }
   ],
   "source": [
    "@benchmark C .= A .+ B"
   ]
  },
  {
   "cell_type": "markdown",
   "id": "03ed0389",
   "metadata": {},
   "source": [
    "这个版本性能更差。\n",
    "\n",
    "换用显式循环："
   ]
  },
  {
   "cell_type": "code",
   "execution_count": 6,
   "id": "6262fccc",
   "metadata": {
    "ExecuteTime": {
     "end_time": "2022-06-01T19:21:56.371000+08:00",
     "start_time": "2022-06-01T11:21:41.148Z"
    }
   },
   "outputs": [
    {
     "data": {
      "text/plain": [
       "BenchmarkTools.Trial: 10000 samples with 308 evaluations.\n",
       " Range \u001b[90m(\u001b[39m\u001b[36m\u001b[1mmin\u001b[22m\u001b[39m … \u001b[35mmax\u001b[39m\u001b[90m):  \u001b[39m\u001b[36m\u001b[1m195.779 ns\u001b[22m\u001b[39m … \u001b[35m  4.334 μs\u001b[39m  \u001b[90m┊\u001b[39m GC \u001b[90m(\u001b[39mmin … max\u001b[90m): \u001b[39m0.00% … 92.43%\n",
       " Time  \u001b[90m(\u001b[39m\u001b[34m\u001b[1mmedian\u001b[22m\u001b[39m\u001b[90m):     \u001b[39m\u001b[34m\u001b[1m216.883 ns               \u001b[22m\u001b[39m\u001b[90m┊\u001b[39m GC \u001b[90m(\u001b[39mmedian\u001b[90m):    \u001b[39m0.00%\n",
       " Time  \u001b[90m(\u001b[39m\u001b[32m\u001b[1mmean\u001b[22m\u001b[39m ± \u001b[32mσ\u001b[39m\u001b[90m):   \u001b[39m\u001b[32m\u001b[1m283.948 ns\u001b[22m\u001b[39m ± \u001b[32m147.607 ns\u001b[39m  \u001b[90m┊\u001b[39m GC \u001b[90m(\u001b[39mmean ± σ\u001b[90m):  \u001b[39m0.66% ±  2.27%\n",
       "\n",
       "  \u001b[39m█\u001b[39m▅\u001b[34m▃\u001b[39m\u001b[39m▁\u001b[39m▃\u001b[39m▃\u001b[39m▂\u001b[39m▁\u001b[39m▅\u001b[39m▃\u001b[32m▂\u001b[39m\u001b[39m▁\u001b[39m▅\u001b[39m▂\u001b[39m▂\u001b[39m▂\u001b[39m▁\u001b[39m \u001b[39m▁\u001b[39m \u001b[39m \u001b[39m \u001b[39m▂\u001b[39m▄\u001b[39m▁\u001b[39m▁\u001b[39m \u001b[39m▁\u001b[39m▂\u001b[39m▁\u001b[39m \u001b[39m \u001b[39m \u001b[39m▂\u001b[39m▃\u001b[39m▂\u001b[39m▂\u001b[39m▁\u001b[39m \u001b[39m \u001b[39m \u001b[39m \u001b[39m \u001b[39m \u001b[39m \u001b[39m \u001b[39m \u001b[39m \u001b[39m \u001b[39m \u001b[39m \u001b[39m \u001b[39m \u001b[39m \u001b[39m \u001b[39m \u001b[39m \u001b[39m \u001b[39m \u001b[39m \u001b[39m▁\u001b[39m \u001b[39m▂\n",
       "  \u001b[39m█\u001b[39m█\u001b[34m█\u001b[39m\u001b[39m█\u001b[39m█\u001b[39m█\u001b[39m█\u001b[39m█\u001b[39m█\u001b[39m█\u001b[32m█\u001b[39m\u001b[39m█\u001b[39m█\u001b[39m█\u001b[39m█\u001b[39m█\u001b[39m█\u001b[39m▇\u001b[39m█\u001b[39m▆\u001b[39m█\u001b[39m▅\u001b[39m█\u001b[39m█\u001b[39m█\u001b[39m█\u001b[39m█\u001b[39m█\u001b[39m█\u001b[39m█\u001b[39m█\u001b[39m▇\u001b[39m▅\u001b[39m█\u001b[39m█\u001b[39m█\u001b[39m█\u001b[39m█\u001b[39m▇\u001b[39m▆\u001b[39m▆\u001b[39m▇\u001b[39m▆\u001b[39m▅\u001b[39m▅\u001b[39m▆\u001b[39m▄\u001b[39m▄\u001b[39m▄\u001b[39m▁\u001b[39m▃\u001b[39m▅\u001b[39m▄\u001b[39m▅\u001b[39m▅\u001b[39m▄\u001b[39m▅\u001b[39m▄\u001b[39m▄\u001b[39m▅\u001b[39m█\u001b[39m \u001b[39m█\n",
       "  196 ns\u001b[90m        \u001b[39m\u001b[90mHistogram: \u001b[39m\u001b[90m\u001b[1mlog(\u001b[22m\u001b[39m\u001b[90mfrequency\u001b[39m\u001b[90m\u001b[1m)\u001b[22m\u001b[39m\u001b[90m by time\u001b[39m        757 ns \u001b[0m\u001b[1m<\u001b[22m\n",
       "\n",
       " Memory estimate\u001b[90m: \u001b[39m\u001b[33m96 bytes\u001b[39m, allocs estimate\u001b[90m: \u001b[39m\u001b[33m6\u001b[39m."
      ]
     },
     "execution_count": 6,
     "metadata": {},
     "output_type": "execute_result"
    }
   ],
   "source": [
    "@benchmark for i=1:2\n",
    "    C[i] = A[i] + B[i]\n",
    "end"
   ]
  },
  {
   "cell_type": "markdown",
   "id": "a0e9d089",
   "metadata": {},
   "source": [
    "不如向量化版本， 但优于加点版本。\n",
    "\n",
    "以上的程序是在全局名字空间（命令行对应的名字空间）中执行的。 如果调用函数， 结果则不同："
   ]
  },
  {
   "cell_type": "code",
   "execution_count": 7,
   "id": "57c61d91",
   "metadata": {
    "ExecuteTime": {
     "end_time": "2022-06-01T19:21:58.148000+08:00",
     "start_time": "2022-06-01T11:21:41.152Z"
    }
   },
   "outputs": [
    {
     "data": {
      "text/plain": [
       "BenchmarkTools.Trial: 10000 samples with 921 evaluations.\n",
       " Range \u001b[90m(\u001b[39m\u001b[36m\u001b[1mmin\u001b[22m\u001b[39m … \u001b[35mmax\u001b[39m\u001b[90m):  \u001b[39m\u001b[36m\u001b[1m63.301 ns\u001b[22m\u001b[39m … \u001b[35m  3.598 μs\u001b[39m  \u001b[90m┊\u001b[39m GC \u001b[90m(\u001b[39mmin … max\u001b[90m): \u001b[39m0.00% … 95.61%\n",
       " Time  \u001b[90m(\u001b[39m\u001b[34m\u001b[1mmedian\u001b[22m\u001b[39m\u001b[90m):     \u001b[39m\u001b[34m\u001b[1m78.610 ns               \u001b[22m\u001b[39m\u001b[90m┊\u001b[39m GC \u001b[90m(\u001b[39mmedian\u001b[90m):    \u001b[39m0.00%\n",
       " Time  \u001b[90m(\u001b[39m\u001b[32m\u001b[1mmean\u001b[22m\u001b[39m ± \u001b[32mσ\u001b[39m\u001b[90m):   \u001b[39m\u001b[32m\u001b[1m95.601 ns\u001b[22m\u001b[39m ± \u001b[32m105.370 ns\u001b[39m  \u001b[90m┊\u001b[39m GC \u001b[90m(\u001b[39mmean ± σ\u001b[90m):  \u001b[39m4.05% ±  3.84%\n",
       "\n",
       "  \u001b[39m█\u001b[39m▄\u001b[39m▄\u001b[39m▄\u001b[39m▁\u001b[39m \u001b[39m \u001b[39m▅\u001b[34m▁\u001b[39m\u001b[39m▃\u001b[39m▁\u001b[39m \u001b[39m▄\u001b[39m▁\u001b[39m▂\u001b[39m \u001b[39m▁\u001b[32m▁\u001b[39m\u001b[39m▅\u001b[39m▅\u001b[39m▁\u001b[39m▁\u001b[39m▁\u001b[39m▁\u001b[39m▂\u001b[39m \u001b[39m \u001b[39m▅\u001b[39m▂\u001b[39m▁\u001b[39m▃\u001b[39m \u001b[39m \u001b[39m \u001b[39m \u001b[39m \u001b[39m \u001b[39m \u001b[39m \u001b[39m▆\u001b[39m▃\u001b[39m \u001b[39m▃\u001b[39m▂\u001b[39m \u001b[39m \u001b[39m \u001b[39m \u001b[39m \u001b[39m \u001b[39m \u001b[39m \u001b[39m \u001b[39m \u001b[39m \u001b[39m \u001b[39m \u001b[39m \u001b[39m \u001b[39m \u001b[39m \u001b[39m▂\n",
       "  \u001b[39m█\u001b[39m█\u001b[39m█\u001b[39m█\u001b[39m█\u001b[39m█\u001b[39m▇\u001b[39m█\u001b[34m█\u001b[39m\u001b[39m█\u001b[39m█\u001b[39m█\u001b[39m█\u001b[39m█\u001b[39m█\u001b[39m▇\u001b[39m█\u001b[32m█\u001b[39m\u001b[39m█\u001b[39m█\u001b[39m█\u001b[39m█\u001b[39m█\u001b[39m█\u001b[39m█\u001b[39m█\u001b[39m█\u001b[39m█\u001b[39m█\u001b[39m█\u001b[39m█\u001b[39m█\u001b[39m▇\u001b[39m▆\u001b[39m▆\u001b[39m▇\u001b[39m▆\u001b[39m▆\u001b[39m█\u001b[39m█\u001b[39m█\u001b[39m█\u001b[39m█\u001b[39m█\u001b[39m▆\u001b[39m▆\u001b[39m▆\u001b[39m▄\u001b[39m▄\u001b[39m▅\u001b[39m▄\u001b[39m▅\u001b[39m▅\u001b[39m▅\u001b[39m▁\u001b[39m▅\u001b[39m▅\u001b[39m▄\u001b[39m▄\u001b[39m▅\u001b[39m \u001b[39m█\n",
       "  63.3 ns\u001b[90m       \u001b[39m\u001b[90mHistogram: \u001b[39m\u001b[90m\u001b[1mlog(\u001b[22m\u001b[39m\u001b[90mfrequency\u001b[39m\u001b[90m\u001b[1m)\u001b[22m\u001b[39m\u001b[90m by time\u001b[39m       179 ns \u001b[0m\u001b[1m<\u001b[22m\n",
       "\n",
       " Memory estimate\u001b[90m: \u001b[39m\u001b[33m80 bytes\u001b[39m, allocs estimate\u001b[90m: \u001b[39m\u001b[33m1\u001b[39m."
      ]
     },
     "execution_count": 7,
     "metadata": {},
     "output_type": "execute_result"
    }
   ],
   "source": [
    "A = rand(2); B = rand(2); C = zeros(2);\n",
    "\n",
    "function vecadd1(a,b,c)\n",
    "    c = a + b\n",
    "    return nothing\n",
    "end\n",
    "\n",
    "function vecadd2(a,b,c)\n",
    "    c .= a .+ b\n",
    "    return nothing\n",
    "end\n",
    "\n",
    "function vecadd3(a,b,c)\n",
    "    for i=1:length(c)\n",
    "        c[i] = a[i] + b[i]\n",
    "    end\n",
    "    return nothing\n",
    "end\n",
    "@benchmark vecadd1(A, B, C)"
   ]
  },
  {
   "cell_type": "code",
   "execution_count": 8,
   "id": "e2e2bdea",
   "metadata": {
    "ExecuteTime": {
     "end_time": "2022-06-01T19:21:59.380000+08:00",
     "start_time": "2022-06-01T11:21:41.156Z"
    }
   },
   "outputs": [
    {
     "data": {
      "text/plain": [
       "BenchmarkTools.Trial: 10000 samples with 990 evaluations.\n",
       " Range \u001b[90m(\u001b[39m\u001b[36m\u001b[1mmin\u001b[22m\u001b[39m … \u001b[35mmax\u001b[39m\u001b[90m):  \u001b[39m\u001b[36m\u001b[1m32.727 ns\u001b[22m\u001b[39m … \u001b[35m159.798 ns\u001b[39m  \u001b[90m┊\u001b[39m GC \u001b[90m(\u001b[39mmin … max\u001b[90m): \u001b[39m0.00% … 0.00%\n",
       " Time  \u001b[90m(\u001b[39m\u001b[34m\u001b[1mmedian\u001b[22m\u001b[39m\u001b[90m):     \u001b[39m\u001b[34m\u001b[1m33.333 ns               \u001b[22m\u001b[39m\u001b[90m┊\u001b[39m GC \u001b[90m(\u001b[39mmedian\u001b[90m):    \u001b[39m0.00%\n",
       " Time  \u001b[90m(\u001b[39m\u001b[32m\u001b[1mmean\u001b[22m\u001b[39m ± \u001b[32mσ\u001b[39m\u001b[90m):   \u001b[39m\u001b[32m\u001b[1m35.243 ns\u001b[22m\u001b[39m ± \u001b[32m  6.788 ns\u001b[39m  \u001b[90m┊\u001b[39m GC \u001b[90m(\u001b[39mmean ± σ\u001b[90m):  \u001b[39m0.00% ± 0.00%\n",
       "\n",
       "  \u001b[39m█\u001b[34m▆\u001b[39m\u001b[39m▁\u001b[39m▄\u001b[32m▃\u001b[39m\u001b[39m▂\u001b[39m▁\u001b[39m▁\u001b[39m \u001b[39m▂\u001b[39m \u001b[39m▁\u001b[39m▁\u001b[39m \u001b[39m \u001b[39m \u001b[39m \u001b[39m \u001b[39m \u001b[39m▂\u001b[39m \u001b[39m \u001b[39m \u001b[39m \u001b[39m \u001b[39m \u001b[39m \u001b[39m \u001b[39m \u001b[39m \u001b[39m \u001b[39m \u001b[39m \u001b[39m \u001b[39m \u001b[39m \u001b[39m \u001b[39m \u001b[39m \u001b[39m \u001b[39m \u001b[39m \u001b[39m \u001b[39m \u001b[39m \u001b[39m \u001b[39m \u001b[39m \u001b[39m \u001b[39m \u001b[39m \u001b[39m \u001b[39m \u001b[39m \u001b[39m \u001b[39m \u001b[39m \u001b[39m \u001b[39m \u001b[39m \u001b[39m \u001b[39m▁\n",
       "  \u001b[39m█\u001b[34m█\u001b[39m\u001b[39m█\u001b[39m█\u001b[32m█\u001b[39m\u001b[39m█\u001b[39m█\u001b[39m█\u001b[39m▆\u001b[39m█\u001b[39m▆\u001b[39m█\u001b[39m█\u001b[39m▇\u001b[39m▅\u001b[39m▅\u001b[39m█\u001b[39m▆\u001b[39m█\u001b[39m█\u001b[39m▇\u001b[39m▆\u001b[39m▅\u001b[39m▇\u001b[39m▆\u001b[39m▇\u001b[39m▆\u001b[39m▇\u001b[39m▇\u001b[39m▆\u001b[39m▆\u001b[39m▆\u001b[39m▅\u001b[39m▆\u001b[39m▆\u001b[39m▆\u001b[39m▆\u001b[39m▃\u001b[39m▆\u001b[39m▅\u001b[39m▅\u001b[39m▄\u001b[39m▁\u001b[39m▃\u001b[39m▁\u001b[39m▁\u001b[39m▁\u001b[39m▃\u001b[39m▃\u001b[39m▄\u001b[39m▄\u001b[39m▅\u001b[39m▆\u001b[39m▃\u001b[39m▅\u001b[39m▆\u001b[39m▆\u001b[39m▄\u001b[39m▆\u001b[39m█\u001b[39m \u001b[39m█\n",
       "  32.7 ns\u001b[90m       \u001b[39m\u001b[90mHistogram: \u001b[39m\u001b[90m\u001b[1mlog(\u001b[22m\u001b[39m\u001b[90mfrequency\u001b[39m\u001b[90m\u001b[1m)\u001b[22m\u001b[39m\u001b[90m by time\u001b[39m      72.9 ns \u001b[0m\u001b[1m<\u001b[22m\n",
       "\n",
       " Memory estimate\u001b[90m: \u001b[39m\u001b[33m0 bytes\u001b[39m, allocs estimate\u001b[90m: \u001b[39m\u001b[33m0\u001b[39m."
      ]
     },
     "execution_count": 8,
     "metadata": {},
     "output_type": "execute_result"
    }
   ],
   "source": [
    "@benchmark vecadd2(A, B, C)"
   ]
  },
  {
   "cell_type": "code",
   "execution_count": 9,
   "id": "74e0f93f",
   "metadata": {
    "ExecuteTime": {
     "end_time": "2022-06-01T19:22:00.576000+08:00",
     "start_time": "2022-06-01T11:21:41.160Z"
    }
   },
   "outputs": [
    {
     "data": {
      "text/plain": [
       "BenchmarkTools.Trial: 10000 samples with 994 evaluations.\n",
       " Range \u001b[90m(\u001b[39m\u001b[36m\u001b[1mmin\u001b[22m\u001b[39m … \u001b[35mmax\u001b[39m\u001b[90m):  \u001b[39m\u001b[36m\u001b[1m25.956 ns\u001b[22m\u001b[39m … \u001b[35m316.901 ns\u001b[39m  \u001b[90m┊\u001b[39m GC \u001b[90m(\u001b[39mmin … max\u001b[90m): \u001b[39m0.00% … 0.00%\n",
       " Time  \u001b[90m(\u001b[39m\u001b[34m\u001b[1mmedian\u001b[22m\u001b[39m\u001b[90m):     \u001b[39m\u001b[34m\u001b[1m28.169 ns               \u001b[22m\u001b[39m\u001b[90m┊\u001b[39m GC \u001b[90m(\u001b[39mmedian\u001b[90m):    \u001b[39m0.00%\n",
       " Time  \u001b[90m(\u001b[39m\u001b[32m\u001b[1mmean\u001b[22m\u001b[39m ± \u001b[32mσ\u001b[39m\u001b[90m):   \u001b[39m\u001b[32m\u001b[1m35.774 ns\u001b[22m\u001b[39m ± \u001b[32m 13.267 ns\u001b[39m  \u001b[90m┊\u001b[39m GC \u001b[90m(\u001b[39mmean ± σ\u001b[90m):  \u001b[39m0.00% ± 0.00%\n",
       "\n",
       "  \u001b[39m█\u001b[39m▂\u001b[34m▃\u001b[39m\u001b[39m▃\u001b[39m▂\u001b[39m▂\u001b[39m▄\u001b[39m▁\u001b[39m \u001b[39m▂\u001b[39m▁\u001b[32m▃\u001b[39m\u001b[39m \u001b[39m \u001b[39m \u001b[39m \u001b[39m▂\u001b[39m \u001b[39m \u001b[39m \u001b[39m \u001b[39m \u001b[39m \u001b[39m \u001b[39m▆\u001b[39m▁\u001b[39m \u001b[39m \u001b[39m \u001b[39m \u001b[39m▄\u001b[39m▃\u001b[39m \u001b[39m \u001b[39m \u001b[39m \u001b[39m▁\u001b[39m \u001b[39m \u001b[39m \u001b[39m \u001b[39m \u001b[39m \u001b[39m \u001b[39m \u001b[39m \u001b[39m \u001b[39m \u001b[39m \u001b[39m \u001b[39m \u001b[39m \u001b[39m \u001b[39m \u001b[39m \u001b[39m \u001b[39m \u001b[39m \u001b[39m \u001b[39m \u001b[39m \u001b[39m▁\n",
       "  \u001b[39m█\u001b[39m█\u001b[34m█\u001b[39m\u001b[39m█\u001b[39m█\u001b[39m█\u001b[39m█\u001b[39m█\u001b[39m█\u001b[39m█\u001b[39m█\u001b[32m█\u001b[39m\u001b[39m▆\u001b[39m▄\u001b[39m▅\u001b[39m▅\u001b[39m█\u001b[39m▇\u001b[39m▄\u001b[39m▃\u001b[39m▅\u001b[39m▃\u001b[39m▃\u001b[39m▄\u001b[39m█\u001b[39m█\u001b[39m▅\u001b[39m▆\u001b[39m▆\u001b[39m▆\u001b[39m█\u001b[39m█\u001b[39m▇\u001b[39m▄\u001b[39m▆\u001b[39m▆\u001b[39m█\u001b[39m▆\u001b[39m▄\u001b[39m▅\u001b[39m▃\u001b[39m▃\u001b[39m▃\u001b[39m▄\u001b[39m▄\u001b[39m▂\u001b[39m▄\u001b[39m▄\u001b[39m▄\u001b[39m▂\u001b[39m▂\u001b[39m▃\u001b[39m▄\u001b[39m▃\u001b[39m▃\u001b[39m▃\u001b[39m▃\u001b[39m▃\u001b[39m▄\u001b[39m▅\u001b[39m \u001b[39m█\n",
       "  26 ns\u001b[90m         \u001b[39m\u001b[90mHistogram: \u001b[39m\u001b[90m\u001b[1mlog(\u001b[22m\u001b[39m\u001b[90mfrequency\u001b[39m\u001b[90m\u001b[1m)\u001b[22m\u001b[39m\u001b[90m by time\u001b[39m      80.5 ns \u001b[0m\u001b[1m<\u001b[22m\n",
       "\n",
       " Memory estimate\u001b[90m: \u001b[39m\u001b[33m0 bytes\u001b[39m, allocs estimate\u001b[90m: \u001b[39m\u001b[33m0\u001b[39m."
      ]
     },
     "execution_count": 9,
     "metadata": {},
     "output_type": "execute_result"
    }
   ],
   "source": [
    "@benchmark vecadd3(A, B, C)"
   ]
  },
  {
   "cell_type": "markdown",
   "id": "eca30a56",
   "metadata": {},
   "source": [
    "加点和显式循环的版本性能相近， 都优于向量化版本， 比命令行版本也提高了很多。 这可能与即时编译系统对函数的优化有关。"
   ]
  },
  {
   "cell_type": "markdown",
   "id": "675ad763",
   "metadata": {},
   "source": [
    "# 数据类型与运行效率"
   ]
  },
  {
   "cell_type": "markdown",
   "id": "59ebb336",
   "metadata": {},
   "source": [
    "## 类型声明"
   ]
  },
  {
   "cell_type": "markdown",
   "id": "be4496ad",
   "metadata": {},
   "source": [
    "Julia允许对函数自变量、函数返回值、函数的局部变量声明数据类型， 但是一般不需要声明也能产生运行效率很好的执行代码。 声明方式是在变量名后面用双冒号::后面跟类型名，如"
   ]
  },
  {
   "cell_type": "code",
   "execution_count": 6,
   "id": "b4594545",
   "metadata": {
    "ExecuteTime": {
     "end_time": "2022-06-10T21:04:56.231000+08:00",
     "start_time": "2022-06-10T13:04:55.984Z"
    }
   },
   "outputs": [
    {
     "data": {
      "text/plain": [
       "-0.03317921654755682"
      ]
     },
     "execution_count": 6,
     "metadata": {},
     "output_type": "execute_result"
    }
   ],
   "source": [
    "function f_tp01(x::Float64)::Float64\n",
    "    local y::Float64\n",
    "    y = (1 + x)^2\n",
    "    y = sin(y)\n",
    "    return y\n",
    "end\n",
    "f_tp01(1.5)"
   ]
  },
  {
   "cell_type": "markdown",
   "id": "3bd18278",
   "metadata": {},
   "source": [
    "说明类型有可能会提高程序效率， 但是也限制了函数调用方法， 尤其是整型与实型会看成两种不同类型，所以：\n",
    "\n",
    "f_tp01(1)  \n",
    "结果：  \n",
    "\n",
    "MethodError: no method matching f_tp01(::Int64)  \n",
    "Closest candidates are:  \n",
    "  f_tp01(!Matched::Float64) at In[12]:2  \n",
    " \n",
    "Stacktrace:  \n",
    " [1] top-level scope at In[13]:1  \n",
    "上面的调用错误是因为f_tp01()函数只允许浮点型自变量， 而1不是浮点型, Julia在调用函数时不会自动将整型转换成浮点型。 因为Julia的四则运算的设计是允许将整型与浮点型混合运算的， 所以四则运算不存在这样的问题。\n",
    "\n",
    "函数定义时如果不声明自变量类型， 则不存在这个问题，如："
   ]
  },
  {
   "cell_type": "code",
   "execution_count": 7,
   "id": "7949409e",
   "metadata": {
    "ExecuteTime": {
     "end_time": "2022-06-10T21:05:16.784000+08:00",
     "start_time": "2022-06-10T13:05:16.778Z"
    }
   },
   "outputs": [
    {
     "data": {
      "text/plain": [
       "-0.03317921654755682"
      ]
     },
     "execution_count": 7,
     "metadata": {},
     "output_type": "execute_result"
    }
   ],
   "source": [
    "function f_tp01b(x)\n",
    "    y = (1 + x)^2\n",
    "    y = sin(y)\n",
    "    return y\n",
    "end\n",
    "f_tp01b(1.5)"
   ]
  },
  {
   "cell_type": "code",
   "execution_count": 12,
   "id": "3e86228e",
   "metadata": {
    "ExecuteTime": {
     "end_time": "2022-06-01T19:22:01.069000+08:00",
     "start_time": "2022-06-01T11:21:41.177Z"
    }
   },
   "outputs": [
    {
     "data": {
      "text/plain": [
       "-0.7568024953079282"
      ]
     },
     "execution_count": 12,
     "metadata": {},
     "output_type": "execute_result"
    }
   ],
   "source": [
    "f_tp01b(1)"
   ]
  },
  {
   "cell_type": "markdown",
   "id": "aaaa6868",
   "metadata": {},
   "source": [
    "所以自定义函数中如非必要并不是所有自变量、返回值、局部变量都声明类型就更好。\n",
    "\n",
    "为了使得f01()能够对其它数也适用， 可以写一个更一般的类型作为自变量然后转换成浮点型，如："
   ]
  },
  {
   "cell_type": "code",
   "execution_count": 8,
   "id": "b04aec1c",
   "metadata": {
    "ExecuteTime": {
     "end_time": "2022-06-10T21:05:33.797000+08:00",
     "start_time": "2022-06-10T13:05:33.790Z"
    }
   },
   "outputs": [
    {
     "data": {
      "text/plain": [
       "-0.7568024953079282"
      ]
     },
     "execution_count": 8,
     "metadata": {},
     "output_type": "execute_result"
    }
   ],
   "source": [
    "function f_tp01(x::Number)::Float64\n",
    "    local y::Float64\n",
    "    y = (1 + Float64(x))^2\n",
    "    y = sin(y)\n",
    "    return y\n",
    "end\n",
    "f_tp01(1)"
   ]
  },
  {
   "cell_type": "markdown",
   "id": "3b9247f7",
   "metadata": {},
   "source": [
    "在定义变量时，要尽量保持与其后面运算时的类型一致，有几个函数可以帮助完成这种定义。  \n",
    "zero(value)    \n",
    "eltype(array)  \n",
    "one(value)  \n",
    "similar(array)  \n",
    "在定义变量时，可以使用这4个函数来避免常犯的错误。"
   ]
  },
  {
   "cell_type": "code",
   "execution_count": 15,
   "id": "e87bfb30",
   "metadata": {
    "ExecuteTime": {
     "end_time": "2022-06-11T09:30:33.270000+08:00",
     "start_time": "2022-06-11T01:30:33.184Z"
    }
   },
   "outputs": [
    {
     "data": {
      "text/plain": [
       "pos (generic function with 1 method)"
      ]
     },
     "execution_count": 15,
     "metadata": {},
     "output_type": "execute_result"
    }
   ],
   "source": [
    "pos(x) = x < 0 ? zero(x) : x #zero(x)使与x类型保持一致"
   ]
  },
  {
   "cell_type": "code",
   "execution_count": 19,
   "id": "2cad42c6",
   "metadata": {
    "ExecuteTime": {
     "end_time": "2022-06-11T09:32:13.730000+08:00",
     "start_time": "2022-06-11T01:32:13.728Z"
    }
   },
   "outputs": [
    {
     "data": {
      "text/plain": [
       "Float64"
      ]
     },
     "execution_count": 19,
     "metadata": {},
     "output_type": "execute_result"
    }
   ],
   "source": [
    "typeof(pos(-2.3))"
   ]
  },
  {
   "cell_type": "markdown",
   "id": "e006b81e",
   "metadata": {},
   "source": [
    "## 多重派发"
   ]
  },
  {
   "cell_type": "markdown",
   "id": "fdb4cebe",
   "metadata": {},
   "source": [
    "Julia的同一个函数可以根据自变量个数和自变量类型的不同而执行不同的操作， 称为“多重派发”（multiple dispatch）。 这有些像是面向对象语言的方法重载（overloading）， 但是：\n",
    "\n",
    "    ·方法重载是编译时根据对象的类决定的；  \n",
    "    ·方法重载仅能根据其依附的对象而选择对应的方法，即所谓单重派发；  \n",
    "    ·Julia是动态语言，其函数调用是运行时动态决定的；  \n",
    "    ·Julia可以根据其多个自变量的类型而选取不同方法。  \n",
    "多重派发可以让多个类似的操作共享同一个函数名。 比如， 可以这样设计绘图函数plot()， 可以仅输入一个数值型向量y， 作序列图； 可以输入两个数值型向量x和y，作散点图； 可以输入一个字符串向量x和数值型向量y， 作条形图。 不同的自变量个数和类型决定了要执行的操作， 这些操作称为plot()函数的“方法”。"
   ]
  },
  {
   "cell_type": "markdown",
   "id": "84e4c701",
   "metadata": {},
   "source": [
    "## 代码检查"
   ]
  },
  {
   "cell_type": "markdown",
   "id": "6c1f930c",
   "metadata": {},
   "source": [
    "### code_warntype"
   ]
  },
  {
   "cell_type": "markdown",
   "id": "9bdb23df",
   "metadata": {},
   "source": [
    "Julia不要求声明函数自变量、返回值和局部变量类型， 但是如果函数返回值不能被其输入数据类型确定， 这样的函数很难得到高效的执行代码。 这种要求称为程序的“类型稳定性”。\n",
    "\n",
    "例如，下面的程序："
   ]
  },
  {
   "cell_type": "code",
   "execution_count": 14,
   "id": "0dade88f",
   "metadata": {
    "ExecuteTime": {
     "end_time": "2022-06-01T19:22:01.438000+08:00",
     "start_time": "2022-06-01T11:21:41.189Z"
    }
   },
   "outputs": [
    {
     "data": {
      "text/plain": [
       "f_tp02 (generic function with 1 method)"
      ]
     },
     "execution_count": 14,
     "metadata": {},
     "output_type": "execute_result"
    }
   ],
   "source": [
    "function f_tp02(x)\n",
    "    if x >= 0\n",
    "        return sqrt(x)\n",
    "    else\n",
    "        return \"Negative number have no square root!\"\n",
    "    end\n",
    "end"
   ]
  },
  {
   "cell_type": "markdown",
   "id": "5b8c6e62",
   "metadata": {},
   "source": [
    "这个函数从表面上看很正常， 但是违反了类型稳定性。 因为不论输入x为什么数， 返回值的类型都依赖于x的数值而不能由x的数据类型决定， 这就使得依赖于返回值的代码无法确定返回值类型从而无法优化。\n",
    "\n",
    "用宏 **@code_warntype**可以检查一个函数调用中的类型稳定性问题，如"
   ]
  },
  {
   "cell_type": "code",
   "execution_count": 15,
   "id": "19edb233",
   "metadata": {
    "ExecuteTime": {
     "end_time": "2022-06-01T19:22:06.085000+08:00",
     "start_time": "2022-06-01T11:21:41.193Z"
    }
   },
   "outputs": [
    {
     "name": "stdout",
     "output_type": "stream",
     "text": [
      "MethodInstance for f_tp02(::Float64)\n",
      "  from f_tp02(x) in Main at In[14]:1\n",
      "Arguments\n",
      "  #self#\u001b[36m::Core.Const(f_tp02)\u001b[39m\n",
      "  x\u001b[36m::Float64\u001b[39m\n",
      "Body\u001b[91m\u001b[1m::Union{Float64, String}\u001b[22m\u001b[39m\n",
      "\u001b[90m1 ─\u001b[39m %1 = (x >= 0)\u001b[36m::Bool\u001b[39m\n",
      "\u001b[90m└──\u001b[39m      goto #3 if not %1\n",
      "\u001b[90m2 ─\u001b[39m %3 = Main.sqrt(x)\u001b[36m::Float64\u001b[39m\n",
      "\u001b[90m└──\u001b[39m      return %3\n",
      "\u001b[90m3 ─\u001b[39m      return \"Negative number have no square root!\"\n",
      "\n"
     ]
    }
   ],
   "source": [
    "@code_warntype f_tp02(1.5)"
   ]
  },
  {
   "cell_type": "markdown",
   "id": "61d36fa3",
   "metadata": {},
   "source": [
    "结果中的类型不稳定问题会用红色显示。\n",
    "\n",
    "另外，如果一个函数反复被调用或者内部有很多次循环， 某些局部变量在多次调用或者多次循环中不能预先确定类型或者类型被改变， 也会造成程序性能急剧下降。 如："
   ]
  },
  {
   "cell_type": "code",
   "execution_count": 16,
   "id": "776c7b61",
   "metadata": {
    "ExecuteTime": {
     "end_time": "2022-06-01T19:22:06.271000+08:00",
     "start_time": "2022-06-01T11:21:41.200Z"
    }
   },
   "outputs": [
    {
     "data": {
      "text/plain": [
       "f_tp03 (generic function with 1 method)"
      ]
     },
     "execution_count": 16,
     "metadata": {},
     "output_type": "execute_result"
    }
   ],
   "source": [
    "function f_tp03(x)\n",
    "  s = 0\n",
    "  for xi in x\n",
    "    s += sqrt(xi)\n",
    "  end \n",
    "  return s\n",
    "end"
   ]
  },
  {
   "cell_type": "markdown",
   "id": "6bacd223",
   "metadata": {},
   "source": [
    "变量s开始是整型，但在循环中变成了浮点型。初始化可写成s = 0.0。"
   ]
  },
  {
   "cell_type": "markdown",
   "id": "aece7282",
   "metadata": {},
   "source": [
    "### code_lowerd"
   ]
  },
  {
   "cell_type": "markdown",
   "id": "23f0f049",
   "metadata": {},
   "source": [
    "**用@code_lowerd可以查看程序底层运行过程。**"
   ]
  },
  {
   "cell_type": "code",
   "execution_count": 5,
   "id": "e143948f",
   "metadata": {
    "ExecuteTime": {
     "end_time": "2022-06-11T09:03:34.837000+08:00",
     "start_time": "2022-06-11T01:03:34.834Z"
    }
   },
   "outputs": [
    {
     "data": {
      "text/plain": [
       "cal (generic function with 1 method)"
      ]
     },
     "execution_count": 5,
     "metadata": {},
     "output_type": "execute_result"
    }
   ],
   "source": [
    "cal(a, b, c) = a + b * c"
   ]
  },
  {
   "cell_type": "code",
   "execution_count": 6,
   "id": "b103c534",
   "metadata": {
    "ExecuteTime": {
     "end_time": "2022-06-11T09:03:35.475000+08:00",
     "start_time": "2022-06-11T01:03:35.473Z"
    }
   },
   "outputs": [
    {
     "data": {
      "text/plain": [
       "CodeInfo(\n",
       "\u001b[90m1 ─\u001b[39m %1 = b * c\n",
       "\u001b[90m│  \u001b[39m %2 = a + %1\n",
       "\u001b[90m└──\u001b[39m      return %2\n",
       ")"
      ]
     },
     "execution_count": 6,
     "metadata": {},
     "output_type": "execute_result"
    }
   ],
   "source": [
    "@code_lowered cal(1, 2, 3)"
   ]
  },
  {
   "cell_type": "markdown",
   "id": "aa8a64a0",
   "metadata": {},
   "source": [
    "### code_typed"
   ]
  },
  {
   "cell_type": "markdown",
   "id": "55e4a7c6",
   "metadata": {},
   "source": [
    "**用@code_typed可以程序查看运行时类型的变化。**"
   ]
  },
  {
   "cell_type": "code",
   "execution_count": 10,
   "id": "2a6ccec7",
   "metadata": {
    "ExecuteTime": {
     "end_time": "2022-06-11T09:11:04.307000+08:00",
     "start_time": "2022-06-11T01:11:04.305Z"
    }
   },
   "outputs": [
    {
     "data": {
      "text/plain": [
       "cal (generic function with 1 method)"
      ]
     },
     "execution_count": 10,
     "metadata": {},
     "output_type": "execute_result"
    }
   ],
   "source": [
    "cal(a, b, c) = a + b * c"
   ]
  },
  {
   "cell_type": "code",
   "execution_count": 7,
   "id": "5dd4e345",
   "metadata": {
    "ExecuteTime": {
     "end_time": "2022-06-11T09:06:14.949000+08:00",
     "start_time": "2022-06-11T01:06:14.447Z"
    }
   },
   "outputs": [
    {
     "data": {
      "text/plain": [
       "CodeInfo(\n",
       "\u001b[90m1 ─\u001b[39m %1 = Base.sitofp(Float64, b)\u001b[36m::Float64\u001b[39m\n",
       "\u001b[90m│  \u001b[39m %2 = Base.mul_float(%1, c)\u001b[36m::Float64\u001b[39m\n",
       "\u001b[90m│  \u001b[39m %3 = Base.sitofp(Float64, a)\u001b[36m::Float64\u001b[39m\n",
       "\u001b[90m│  \u001b[39m %4 = Base.add_float(%3, %2)\u001b[36m::Float64\u001b[39m\n",
       "\u001b[90m└──\u001b[39m      return %4\n",
       ") => Float64"
      ]
     },
     "execution_count": 7,
     "metadata": {},
     "output_type": "execute_result"
    }
   ],
   "source": [
    "@code_typed cal(1, 2, 3.0)"
   ]
  },
  {
   "cell_type": "code",
   "execution_count": 8,
   "id": "227cf224",
   "metadata": {
    "ExecuteTime": {
     "end_time": "2022-06-11T09:08:06.510000+08:00",
     "start_time": "2022-06-11T01:08:06.506Z"
    }
   },
   "outputs": [
    {
     "data": {
      "text/plain": [
       "CodeInfo(\n",
       "\u001b[90m1 ─\u001b[39m %1 = Base.mul_int(b, c)\u001b[36m::Int64\u001b[39m\n",
       "\u001b[90m│  \u001b[39m %2 = Base.add_int(a, %1)\u001b[36m::Int64\u001b[39m\n",
       "\u001b[90m└──\u001b[39m      return %2\n",
       ") => Int64"
      ]
     },
     "execution_count": 8,
     "metadata": {},
     "output_type": "execute_result"
    }
   ],
   "source": [
    "@code_typed cal(1, 2, 3)"
   ]
  },
  {
   "cell_type": "markdown",
   "id": "68e28dc0",
   "metadata": {
    "ExecuteTime": {
     "end_time": "2022-06-11T09:09:56.677000+08:00",
     "start_time": "2022-06-11T01:09:56.662Z"
    }
   },
   "source": [
    "### code_llvm"
   ]
  },
  {
   "cell_type": "markdown",
   "id": "0e491444",
   "metadata": {},
   "source": [
    "**用@code_llvm查看llvm编译器的运行过程。**"
   ]
  },
  {
   "cell_type": "code",
   "execution_count": 11,
   "id": "26b5232f",
   "metadata": {
    "ExecuteTime": {
     "end_time": "2022-06-11T09:11:08.023000+08:00",
     "start_time": "2022-06-11T01:11:08.021Z"
    }
   },
   "outputs": [
    {
     "data": {
      "text/plain": [
       "cal (generic function with 1 method)"
      ]
     },
     "execution_count": 11,
     "metadata": {},
     "output_type": "execute_result"
    }
   ],
   "source": [
    "cal(a, b, c) = a + b * c"
   ]
  },
  {
   "cell_type": "code",
   "execution_count": 12,
   "id": "9bf86ad9",
   "metadata": {
    "ExecuteTime": {
     "end_time": "2022-06-11T09:11:22.647000+08:00",
     "start_time": "2022-06-11T01:11:22.036Z"
    }
   },
   "outputs": [
    {
     "name": "stdout",
     "output_type": "stream",
     "text": [
      "\u001b[90m;  @ In[11]:1 within `cal`\u001b[39m\n",
      "\u001b[90m; Function Attrs: uwtable\u001b[39m\n",
      "\u001b[95mdefine\u001b[39m \u001b[36mi64\u001b[39m \u001b[93m@julia_cal_2026\u001b[39m\u001b[33m(\u001b[39m\u001b[36mi64\u001b[39m \u001b[95msignext\u001b[39m \u001b[0m%0\u001b[0m, \u001b[36mi64\u001b[39m \u001b[95msignext\u001b[39m \u001b[0m%1\u001b[0m, \u001b[36mi64\u001b[39m \u001b[95msignext\u001b[39m \u001b[0m%2\u001b[33m)\u001b[39m \u001b[0m#0 \u001b[33m{\u001b[39m\n",
      "\u001b[91mtop:\u001b[39m\n",
      "\u001b[90m; ┌ @ int.jl:88 within `*`\u001b[39m\n",
      "   \u001b[0m%3 \u001b[0m= \u001b[96m\u001b[1mmul\u001b[22m\u001b[39m \u001b[36mi64\u001b[39m \u001b[0m%2\u001b[0m, \u001b[0m%1\n",
      "\u001b[90m; └\u001b[39m\n",
      "\u001b[90m; ┌ @ int.jl:87 within `+`\u001b[39m\n",
      "   \u001b[0m%4 \u001b[0m= \u001b[96m\u001b[1madd\u001b[22m\u001b[39m \u001b[36mi64\u001b[39m \u001b[0m%3\u001b[0m, \u001b[0m%0\n",
      "\u001b[90m; └\u001b[39m\n",
      "  \u001b[96m\u001b[1mret\u001b[22m\u001b[39m \u001b[36mi64\u001b[39m \u001b[0m%4\n",
      "\u001b[33m}\u001b[39m\n"
     ]
    }
   ],
   "source": [
    "@code_llvm cal(1, 2, 3)"
   ]
  },
  {
   "cell_type": "markdown",
   "id": "6650f363",
   "metadata": {},
   "source": [
    "### code_native"
   ]
  },
  {
   "cell_type": "markdown",
   "id": "106aaaa8",
   "metadata": {},
   "source": [
    "**用@code_native查看机器语言的运行过程。**"
   ]
  },
  {
   "cell_type": "code",
   "execution_count": 13,
   "id": "3bc2d8b2",
   "metadata": {
    "ExecuteTime": {
     "end_time": "2022-06-11T09:13:36.006000+08:00",
     "start_time": "2022-06-11T01:13:36.004Z"
    }
   },
   "outputs": [
    {
     "data": {
      "text/plain": [
       "cal (generic function with 1 method)"
      ]
     },
     "execution_count": 13,
     "metadata": {},
     "output_type": "execute_result"
    }
   ],
   "source": [
    "cal(a, b, c) = a + b * c"
   ]
  },
  {
   "cell_type": "code",
   "execution_count": 14,
   "id": "c4de3aef",
   "metadata": {
    "ExecuteTime": {
     "end_time": "2022-06-11T09:13:37.465000+08:00",
     "start_time": "2022-06-11T01:13:37.222Z"
    }
   },
   "outputs": [
    {
     "name": "stdout",
     "output_type": "stream",
     "text": [
      "\t\u001b[0m.text\n",
      "\u001b[90m; ┌ @ In[13]:1 within `cal`\u001b[39m\n",
      "\t\u001b[96m\u001b[1mpushq\u001b[22m\u001b[39m\t\u001b[0m%rbp\n",
      "\t\u001b[96m\u001b[1mmovq\u001b[22m\u001b[39m\t\u001b[0m%rsp\u001b[0m, \u001b[0m%rbp\n",
      "\u001b[90m; │┌ @ int.jl:88 within `*`\u001b[39m\n",
      "\t\u001b[96m\u001b[1mimulq\u001b[22m\u001b[39m\t\u001b[0m%r8\u001b[0m, \u001b[0m%rdx\n",
      "\u001b[90m; │└\u001b[39m\n",
      "\u001b[90m; │┌ @ int.jl:87 within `+`\u001b[39m\n",
      "\t\u001b[96m\u001b[1mleaq\u001b[22m\u001b[39m\t\u001b[33m(\u001b[39m\u001b[0m%rdx\u001b[0m,\u001b[0m%rcx\u001b[33m)\u001b[39m\u001b[0m, \u001b[0m%rax\n",
      "\u001b[90m; │└\u001b[39m\n",
      "\t\u001b[96m\u001b[1mpopq\u001b[22m\u001b[39m\t\u001b[0m%rbp\n",
      "\t\u001b[96m\u001b[1mretq\u001b[22m\u001b[39m\n",
      "\t\u001b[96m\u001b[1mnop\u001b[22m\u001b[39m\n",
      "\u001b[90m; └\u001b[39m\n"
     ]
    }
   ],
   "source": [
    "@code_native cal(1, 2, 3)"
   ]
  },
  {
   "cell_type": "markdown",
   "id": "11baa024",
   "metadata": {},
   "source": [
    "# 函数的效率"
   ]
  },
  {
   "cell_type": "markdown",
   "id": "8bf08643",
   "metadata": {},
   "source": [
    "由于Julia的多重派发、动态编译特性， Julia程序最好分解成短小、输入类型明确的多个函数。 函数调用的成本很低， 动态编译可以将函数编译成针对特定输入的高效代码。"
   ]
  },
  {
   "cell_type": "markdown",
   "id": "d1368f50",
   "metadata": {},
   "source": [
    "## 全局变量的问题"
   ]
  },
  {
   "cell_type": "markdown",
   "id": "9bb51a07",
   "metadata": {},
   "source": [
    "为了运行效率考虑， 应尽量避免使用全局变量。 全局变量的取值乃至于类型都可能被不同位置的代码改变， 使得编译器很难预估全局变量的类型， 造成编译代码低效。 尽可能使用局部变量与函数自变量保存和传递数据。 Julia的函数是按引用进行参数传递的， 所以数组的传递不会制作副本， 没有内存和时间的额外开销。\n",
    "\n",
    "**Julia的编译器优化主要是针对函数， 所以对效率敏感的代码都应该写成函数而不是直接在全局变量空间执行。**\n",
    "\n",
    "用const声明的全局变量不能改变类型， 这样的全局变量对程序效率的影响较小。\n",
    "\n",
    "考虑下面的利用了全局变量作为选项的程序："
   ]
  },
  {
   "cell_type": "code",
   "execution_count": 17,
   "id": "a8a5dd6c",
   "metadata": {
    "ExecuteTime": {
     "end_time": "2022-06-01T19:22:17.620000+08:00",
     "start_time": "2022-06-01T11:21:41.210Z"
    }
   },
   "outputs": [
    {
     "data": {
      "text/plain": [
       "BenchmarkTools.Trial: 537 samples with 1 evaluation.\n",
       " Range \u001b[90m(\u001b[39m\u001b[36m\u001b[1mmin\u001b[22m\u001b[39m … \u001b[35mmax\u001b[39m\u001b[90m):  \u001b[39m\u001b[36m\u001b[1m5.525 ms\u001b[22m\u001b[39m … \u001b[35m18.846 ms\u001b[39m  \u001b[90m┊\u001b[39m GC \u001b[90m(\u001b[39mmin … max\u001b[90m): \u001b[39m0.00% … 0.00%\n",
       " Time  \u001b[90m(\u001b[39m\u001b[34m\u001b[1mmedian\u001b[22m\u001b[39m\u001b[90m):     \u001b[39m\u001b[34m\u001b[1m8.278 ms              \u001b[22m\u001b[39m\u001b[90m┊\u001b[39m GC \u001b[90m(\u001b[39mmedian\u001b[90m):    \u001b[39m0.00%\n",
       " Time  \u001b[90m(\u001b[39m\u001b[32m\u001b[1mmean\u001b[22m\u001b[39m ± \u001b[32mσ\u001b[39m\u001b[90m):   \u001b[39m\u001b[32m\u001b[1m9.305 ms\u001b[22m\u001b[39m ± \u001b[32m 3.030 ms\u001b[39m  \u001b[90m┊\u001b[39m GC \u001b[90m(\u001b[39mmean ± σ\u001b[90m):  \u001b[39m2.26% ± 5.33%\n",
       "\n",
       "  \u001b[39m \u001b[39m█\u001b[39m█\u001b[39m \u001b[39m▇\u001b[39m▄\u001b[39m█\u001b[39m▇\u001b[39m▅\u001b[39m▄\u001b[39m▁\u001b[39m▅\u001b[39m \u001b[39m \u001b[34m▂\u001b[39m\u001b[39m \u001b[39m \u001b[39m \u001b[39m \u001b[32m \u001b[39m\u001b[39m \u001b[39m \u001b[39m \u001b[39m \u001b[39m \u001b[39m \u001b[39m \u001b[39m \u001b[39m \u001b[39m \u001b[39m \u001b[39m \u001b[39m \u001b[39m \u001b[39m \u001b[39m▁\u001b[39m▂\u001b[39m \u001b[39m \u001b[39m \u001b[39m \u001b[39m \u001b[39m \u001b[39m \u001b[39m \u001b[39m \u001b[39m \u001b[39m \u001b[39m \u001b[39m \u001b[39m \u001b[39m \u001b[39m \u001b[39m \u001b[39m \u001b[39m \u001b[39m \u001b[39m \u001b[39m \u001b[39m \n",
       "  \u001b[39m▄\u001b[39m█\u001b[39m█\u001b[39m▇\u001b[39m█\u001b[39m█\u001b[39m█\u001b[39m█\u001b[39m█\u001b[39m█\u001b[39m█\u001b[39m█\u001b[39m▆\u001b[39m█\u001b[34m█\u001b[39m\u001b[39m▆\u001b[39m▇\u001b[39m▇\u001b[39m▇\u001b[32m▆\u001b[39m\u001b[39m▄\u001b[39m▇\u001b[39m▅\u001b[39m▄\u001b[39m▃\u001b[39m▆\u001b[39m▄\u001b[39m▃\u001b[39m▄\u001b[39m▃\u001b[39m▄\u001b[39m▃\u001b[39m▅\u001b[39m▆\u001b[39m▅\u001b[39m█\u001b[39m█\u001b[39m█\u001b[39m▇\u001b[39m█\u001b[39m▅\u001b[39m▄\u001b[39m▄\u001b[39m▃\u001b[39m▃\u001b[39m▃\u001b[39m▃\u001b[39m▄\u001b[39m▄\u001b[39m▃\u001b[39m▂\u001b[39m▁\u001b[39m▃\u001b[39m▃\u001b[39m▁\u001b[39m▂\u001b[39m▂\u001b[39m▂\u001b[39m \u001b[39m▄\n",
       "  5.52 ms\u001b[90m        Histogram: frequency by time\u001b[39m        17.2 ms \u001b[0m\u001b[1m<\u001b[22m\n",
       "\n",
       " Memory estimate\u001b[90m: \u001b[39m\u001b[33m5.34 MiB\u001b[39m, allocs estimate\u001b[90m: \u001b[39m\u001b[33m300002\u001b[39m."
      ]
     },
     "execution_count": 17,
     "metadata": {},
     "output_type": "execute_result"
    }
   ],
   "source": [
    "POWER=2\n",
    "function f_gl01(x::Vector{Float64})\n",
    "    s = 0.0\n",
    "    for xi in x\n",
    "        s += xi ^ POWER\n",
    "    end\n",
    "    return s\n",
    "end\n",
    "f_gl01(rand(10))\n",
    "\n",
    "using BenchmarkTools\n",
    "@benchmark f_gl01(rand(100_000))"
   ]
  },
  {
   "cell_type": "markdown",
   "id": "a24d0831",
   "metadata": {},
   "source": [
    "将上面的POWER声明为常数可以提高效率。 Julia用const关键字声明全局变量常数， 但是这种全局变量仅仅是不允许改变数据类型， 变量值还是允许改变的， 改变变量值会有警告信息。\n",
    "\n",
    "修改后的程序如："
   ]
  },
  {
   "cell_type": "code",
   "execution_count": 18,
   "id": "7801e2b4",
   "metadata": {
    "ExecuteTime": {
     "end_time": "2022-06-01T19:22:28.619000+08:00",
     "start_time": "2022-06-01T11:21:41.216Z"
    }
   },
   "outputs": [
    {
     "data": {
      "text/plain": [
       "BenchmarkTools.Trial: 7076 samples with 1 evaluation.\n",
       " Range \u001b[90m(\u001b[39m\u001b[36m\u001b[1mmin\u001b[22m\u001b[39m … \u001b[35mmax\u001b[39m\u001b[90m):  \u001b[39m\u001b[36m\u001b[1m226.600 μs\u001b[22m\u001b[39m … \u001b[35m  8.722 ms\u001b[39m  \u001b[90m┊\u001b[39m GC \u001b[90m(\u001b[39mmin … max\u001b[90m): \u001b[39m 0.00% … 86.73%\n",
       " Time  \u001b[90m(\u001b[39m\u001b[34m\u001b[1mmedian\u001b[22m\u001b[39m\u001b[90m):     \u001b[39m\u001b[34m\u001b[1m609.600 μs               \u001b[22m\u001b[39m\u001b[90m┊\u001b[39m GC \u001b[90m(\u001b[39mmedian\u001b[90m):    \u001b[39m 0.00%\n",
       " Time  \u001b[90m(\u001b[39m\u001b[32m\u001b[1mmean\u001b[22m\u001b[39m ± \u001b[32mσ\u001b[39m\u001b[90m):   \u001b[39m\u001b[32m\u001b[1m702.124 μs\u001b[22m\u001b[39m ± \u001b[32m603.147 μs\u001b[39m  \u001b[90m┊\u001b[39m GC \u001b[90m(\u001b[39mmean ± σ\u001b[90m):  \u001b[39m10.53% ± 11.25%\n",
       "\n",
       "  \u001b[39m \u001b[39m \u001b[39m \u001b[39m \u001b[39m█\u001b[34m▅\u001b[39m\u001b[39m▂\u001b[32m \u001b[39m\u001b[39m \u001b[39m \u001b[39m \u001b[39m \u001b[39m \u001b[39m \u001b[39m \u001b[39m \u001b[39m \u001b[39m \u001b[39m \u001b[39m \u001b[39m \u001b[39m \u001b[39m \u001b[39m \u001b[39m \u001b[39m \u001b[39m \u001b[39m \u001b[39m \u001b[39m \u001b[39m \u001b[39m \u001b[39m \u001b[39m \u001b[39m \u001b[39m \u001b[39m \u001b[39m \u001b[39m \u001b[39m \u001b[39m \u001b[39m \u001b[39m \u001b[39m \u001b[39m \u001b[39m \u001b[39m \u001b[39m \u001b[39m \u001b[39m \u001b[39m \u001b[39m \u001b[39m \u001b[39m \u001b[39m \u001b[39m \u001b[39m \u001b[39m \u001b[39m \u001b[39m \u001b[39m \u001b[39m \u001b[39m \n",
       "  \u001b[39m▄\u001b[39m▂\u001b[39m▂\u001b[39m▇\u001b[39m█\u001b[34m█\u001b[39m\u001b[39m█\u001b[32m▆\u001b[39m\u001b[39m▄\u001b[39m▄\u001b[39m▃\u001b[39m▃\u001b[39m▂\u001b[39m▂\u001b[39m▂\u001b[39m▂\u001b[39m▂\u001b[39m▂\u001b[39m▁\u001b[39m▁\u001b[39m▁\u001b[39m▁\u001b[39m▁\u001b[39m▁\u001b[39m▁\u001b[39m▁\u001b[39m▁\u001b[39m▁\u001b[39m▁\u001b[39m▁\u001b[39m▁\u001b[39m▁\u001b[39m▁\u001b[39m▁\u001b[39m▂\u001b[39m▂\u001b[39m▂\u001b[39m▁\u001b[39m▁\u001b[39m▁\u001b[39m▁\u001b[39m▁\u001b[39m▁\u001b[39m▁\u001b[39m▁\u001b[39m▁\u001b[39m▁\u001b[39m▁\u001b[39m▂\u001b[39m▂\u001b[39m▂\u001b[39m▂\u001b[39m▂\u001b[39m▂\u001b[39m▂\u001b[39m▂\u001b[39m▂\u001b[39m▂\u001b[39m▂\u001b[39m▂\u001b[39m▂\u001b[39m \u001b[39m▃\n",
       "  227 μs\u001b[90m           Histogram: frequency by time\u001b[39m         4.59 ms \u001b[0m\u001b[1m<\u001b[22m\n",
       "\n",
       " Memory estimate\u001b[90m: \u001b[39m\u001b[33m781.30 KiB\u001b[39m, allocs estimate\u001b[90m: \u001b[39m\u001b[33m2\u001b[39m."
      ]
     },
     "execution_count": 18,
     "metadata": {},
     "output_type": "execute_result"
    }
   ],
   "source": [
    "const P_const=2\n",
    "function f_gl01b(x::Vector{Float64})\n",
    "    s = 0.0\n",
    "    for xi in x\n",
    "        s += xi ^ P_const\n",
    "    end\n",
    "    return s\n",
    "end\n",
    "f_gl01b(rand(10))\n",
    "\n",
    "using BenchmarkTools\n",
    "@benchmark f_gl01b(rand(100_000))"
   ]
  },
  {
   "cell_type": "markdown",
   "id": "e3394189",
   "metadata": {},
   "source": [
    "比原来效率提高了一个数量级。\n",
    "\n",
    "在调用全局变量的位置标识其类型也可以提高效率，如"
   ]
  },
  {
   "cell_type": "code",
   "execution_count": 19,
   "id": "4c00405d",
   "metadata": {
    "ExecuteTime": {
     "end_time": "2022-06-01T19:22:39.458000+08:00",
     "start_time": "2022-06-01T11:21:41.221Z"
    }
   },
   "outputs": [
    {
     "data": {
      "text/plain": [
       "BenchmarkTools.Trial: 8952 samples with 1 evaluation.\n",
       " Range \u001b[90m(\u001b[39m\u001b[36m\u001b[1mmin\u001b[22m\u001b[39m … \u001b[35mmax\u001b[39m\u001b[90m):  \u001b[39m\u001b[36m\u001b[1m220.700 μs\u001b[22m\u001b[39m … \u001b[35m  6.826 ms\u001b[39m  \u001b[90m┊\u001b[39m GC \u001b[90m(\u001b[39mmin … max\u001b[90m): \u001b[39m0.00% … 84.62%\n",
       " Time  \u001b[90m(\u001b[39m\u001b[34m\u001b[1mmedian\u001b[22m\u001b[39m\u001b[90m):     \u001b[39m\u001b[34m\u001b[1m501.900 μs               \u001b[22m\u001b[39m\u001b[90m┊\u001b[39m GC \u001b[90m(\u001b[39mmedian\u001b[90m):    \u001b[39m0.00%\n",
       " Time  \u001b[90m(\u001b[39m\u001b[32m\u001b[1mmean\u001b[22m\u001b[39m ± \u001b[32mσ\u001b[39m\u001b[90m):   \u001b[39m\u001b[32m\u001b[1m554.771 μs\u001b[22m\u001b[39m ± \u001b[32m452.155 μs\u001b[39m  \u001b[90m┊\u001b[39m GC \u001b[90m(\u001b[39mmean ± σ\u001b[90m):  \u001b[39m8.79% ± 10.66%\n",
       "\n",
       "  \u001b[39m█\u001b[39m \u001b[39m \u001b[39m \u001b[39m \u001b[39m▄\u001b[34m█\u001b[39m\u001b[32m▁\u001b[39m\u001b[39m \u001b[39m \u001b[39m \u001b[39m \u001b[39m \u001b[39m \u001b[39m \u001b[39m \u001b[39m \u001b[39m \u001b[39m \u001b[39m \u001b[39m \u001b[39m \u001b[39m \u001b[39m \u001b[39m \u001b[39m \u001b[39m \u001b[39m \u001b[39m \u001b[39m \u001b[39m \u001b[39m \u001b[39m \u001b[39m \u001b[39m \u001b[39m \u001b[39m \u001b[39m \u001b[39m \u001b[39m \u001b[39m \u001b[39m \u001b[39m \u001b[39m \u001b[39m \u001b[39m \u001b[39m \u001b[39m \u001b[39m \u001b[39m \u001b[39m \u001b[39m \u001b[39m \u001b[39m \u001b[39m \u001b[39m \u001b[39m \u001b[39m \u001b[39m \u001b[39m \u001b[39m \u001b[39m \u001b[39m \n",
       "  \u001b[39m█\u001b[39m▆\u001b[39m▄\u001b[39m▂\u001b[39m▃\u001b[39m█\u001b[34m█\u001b[39m\u001b[32m█\u001b[39m\u001b[39m▇\u001b[39m▅\u001b[39m▄\u001b[39m▃\u001b[39m▃\u001b[39m▃\u001b[39m▃\u001b[39m▂\u001b[39m▂\u001b[39m▃\u001b[39m▄\u001b[39m▃\u001b[39m▂\u001b[39m▂\u001b[39m▂\u001b[39m▂\u001b[39m▂\u001b[39m▂\u001b[39m▁\u001b[39m▁\u001b[39m▁\u001b[39m▁\u001b[39m▁\u001b[39m▁\u001b[39m▁\u001b[39m▁\u001b[39m▁\u001b[39m▁\u001b[39m▁\u001b[39m▁\u001b[39m▁\u001b[39m▁\u001b[39m▁\u001b[39m▁\u001b[39m▁\u001b[39m▁\u001b[39m▁\u001b[39m▁\u001b[39m▁\u001b[39m▁\u001b[39m▁\u001b[39m▁\u001b[39m▁\u001b[39m▂\u001b[39m▁\u001b[39m▂\u001b[39m▂\u001b[39m▂\u001b[39m▂\u001b[39m▂\u001b[39m▂\u001b[39m▂\u001b[39m▂\u001b[39m \u001b[39m▃\n",
       "  221 μs\u001b[90m           Histogram: frequency by time\u001b[39m         2.95 ms \u001b[0m\u001b[1m<\u001b[22m\n",
       "\n",
       " Memory estimate\u001b[90m: \u001b[39m\u001b[33m781.30 KiB\u001b[39m, allocs estimate\u001b[90m: \u001b[39m\u001b[33m2\u001b[39m."
      ]
     },
     "execution_count": 19,
     "metadata": {},
     "output_type": "execute_result"
    }
   ],
   "source": [
    "POWER=2\n",
    "function f_gl01c(x::Vector{Float64})\n",
    "    s = 0.0\n",
    "    for xi in x\n",
    "        s += xi ^ POWER::Int\n",
    "    end\n",
    "    return s\n",
    "end\n",
    "f_gl01c(rand(10))\n",
    "\n",
    "using BenchmarkTools\n",
    "@benchmark f_gl01c(rand(100_000))"
   ]
  },
  {
   "cell_type": "markdown",
   "id": "ca9313d4",
   "metadata": {},
   "source": [
    "当然，这个问题实际上完全不需要使用全局变量， 只要作为函数自变量即可："
   ]
  },
  {
   "cell_type": "code",
   "execution_count": 20,
   "id": "a4a6f024",
   "metadata": {
    "ExecuteTime": {
     "end_time": "2022-06-01T19:22:50.286000+08:00",
     "start_time": "2022-06-01T11:21:41.225Z"
    }
   },
   "outputs": [
    {
     "data": {
      "text/plain": [
       "BenchmarkTools.Trial: 9113 samples with 1 evaluation.\n",
       " Range \u001b[90m(\u001b[39m\u001b[36m\u001b[1mmin\u001b[22m\u001b[39m … \u001b[35mmax\u001b[39m\u001b[90m):  \u001b[39m\u001b[36m\u001b[1m249.000 μs\u001b[22m\u001b[39m … \u001b[35m  6.928 ms\u001b[39m  \u001b[90m┊\u001b[39m GC \u001b[90m(\u001b[39mmin … max\u001b[90m): \u001b[39m0.00% … 83.46%\n",
       " Time  \u001b[90m(\u001b[39m\u001b[34m\u001b[1mmedian\u001b[22m\u001b[39m\u001b[90m):     \u001b[39m\u001b[34m\u001b[1m511.200 μs               \u001b[22m\u001b[39m\u001b[90m┊\u001b[39m GC \u001b[90m(\u001b[39mmedian\u001b[90m):    \u001b[39m0.00%\n",
       " Time  \u001b[90m(\u001b[39m\u001b[32m\u001b[1mmean\u001b[22m\u001b[39m ± \u001b[32mσ\u001b[39m\u001b[90m):   \u001b[39m\u001b[32m\u001b[1m544.909 μs\u001b[22m\u001b[39m ± \u001b[32m414.139 μs\u001b[39m  \u001b[90m┊\u001b[39m GC \u001b[90m(\u001b[39mmean ± σ\u001b[90m):  \u001b[39m7.79% ± 10.31%\n",
       "\n",
       "  \u001b[39m█\u001b[39m \u001b[39m \u001b[39m \u001b[39m \u001b[39m \u001b[39m▅\u001b[34m▂\u001b[39m\u001b[32m \u001b[39m\u001b[39m \u001b[39m \u001b[39m \u001b[39m \u001b[39m \u001b[39m \u001b[39m \u001b[39m \u001b[39m \u001b[39m \u001b[39m \u001b[39m \u001b[39m \u001b[39m \u001b[39m \u001b[39m \u001b[39m \u001b[39m \u001b[39m \u001b[39m \u001b[39m \u001b[39m \u001b[39m \u001b[39m \u001b[39m \u001b[39m \u001b[39m \u001b[39m \u001b[39m \u001b[39m \u001b[39m \u001b[39m \u001b[39m \u001b[39m \u001b[39m \u001b[39m \u001b[39m \u001b[39m \u001b[39m \u001b[39m \u001b[39m \u001b[39m \u001b[39m \u001b[39m \u001b[39m \u001b[39m \u001b[39m \u001b[39m \u001b[39m \u001b[39m \u001b[39m \u001b[39m \u001b[39m \u001b[39m \n",
       "  \u001b[39m█\u001b[39m▅\u001b[39m▄\u001b[39m▄\u001b[39m▃\u001b[39m▂\u001b[39m█\u001b[34m█\u001b[39m\u001b[32m▅\u001b[39m\u001b[39m▃\u001b[39m▃\u001b[39m▆\u001b[39m▃\u001b[39m▃\u001b[39m▂\u001b[39m▂\u001b[39m▂\u001b[39m▂\u001b[39m▂\u001b[39m▂\u001b[39m▂\u001b[39m▃\u001b[39m▂\u001b[39m▂\u001b[39m▂\u001b[39m▂\u001b[39m▂\u001b[39m▂\u001b[39m▂\u001b[39m▂\u001b[39m▂\u001b[39m▁\u001b[39m▁\u001b[39m▁\u001b[39m▁\u001b[39m▁\u001b[39m▁\u001b[39m▁\u001b[39m▁\u001b[39m▁\u001b[39m▁\u001b[39m▁\u001b[39m▁\u001b[39m▁\u001b[39m▁\u001b[39m▁\u001b[39m▁\u001b[39m▁\u001b[39m▁\u001b[39m▁\u001b[39m▁\u001b[39m▁\u001b[39m▁\u001b[39m▁\u001b[39m▁\u001b[39m▁\u001b[39m▂\u001b[39m▂\u001b[39m▂\u001b[39m▂\u001b[39m▂\u001b[39m \u001b[39m▃\n",
       "  249 μs\u001b[90m           Histogram: frequency by time\u001b[39m         2.62 ms \u001b[0m\u001b[1m<\u001b[22m\n",
       "\n",
       " Memory estimate\u001b[90m: \u001b[39m\u001b[33m781.30 KiB\u001b[39m, allocs estimate\u001b[90m: \u001b[39m\u001b[33m2\u001b[39m."
      ]
     },
     "execution_count": 20,
     "metadata": {},
     "output_type": "execute_result"
    }
   ],
   "source": [
    "function f_gl01d(x::Vector{Float64}, p)\n",
    "    s = 0.0\n",
    "    for xi in x\n",
    "        s += xi ^ p\n",
    "    end\n",
    "    return s\n",
    "end\n",
    "f_gl01d(rand(10), 2)\n",
    "\n",
    "using BenchmarkTools\n",
    "@benchmark f_gl01d(rand(100_000), 2)"
   ]
  },
  {
   "cell_type": "markdown",
   "id": "46069d73",
   "metadata": {},
   "source": [
    "用@code_warntype分析f_gl01()的问题："
   ]
  },
  {
   "cell_type": "code",
   "execution_count": 21,
   "id": "590f05bc",
   "metadata": {
    "ExecuteTime": {
     "end_time": "2022-06-01T19:22:50.808000+08:00",
     "start_time": "2022-06-01T11:21:41.230Z"
    }
   },
   "outputs": [
    {
     "name": "stdout",
     "output_type": "stream",
     "text": [
      "MethodInstance for f_gl01(::Vector{Float64})\n",
      "  from f_gl01(x::Vector{Float64}) in Main at In[17]:2\n",
      "Arguments\n",
      "  #self#\u001b[36m::Core.Const(f_gl01)\u001b[39m\n",
      "  x\u001b[36m::Vector{Float64}\u001b[39m\n",
      "Locals\n",
      "  @_3\u001b[33m\u001b[1m::Union{Nothing, Tuple{Float64, Int64}}\u001b[22m\u001b[39m\n",
      "  s\u001b[91m\u001b[1m::Any\u001b[22m\u001b[39m\n",
      "  xi\u001b[36m::Float64\u001b[39m\n",
      "Body\u001b[91m\u001b[1m::Any\u001b[22m\u001b[39m\n",
      "\u001b[90m1 ─\u001b[39m       (s = 0.0)\n",
      "\u001b[90m│  \u001b[39m %2  = x\u001b[36m::Vector{Float64}\u001b[39m\n",
      "\u001b[90m│  \u001b[39m       (@_3 = Base.iterate(%2))\n",
      "\u001b[90m│  \u001b[39m %4  = (@_3 === nothing)\u001b[36m::Bool\u001b[39m\n",
      "\u001b[90m│  \u001b[39m %5  = Base.not_int(%4)\u001b[36m::Bool\u001b[39m\n",
      "\u001b[90m└──\u001b[39m       goto #4 if not %5\n",
      "\u001b[90m2 ┄\u001b[39m %7  = @_3\u001b[36m::Tuple{Float64, Int64}\u001b[39m\n",
      "\u001b[90m│  \u001b[39m       (xi = Core.getfield(%7, 1))\n",
      "\u001b[90m│  \u001b[39m %9  = Core.getfield(%7, 2)\u001b[36m::Int64\u001b[39m\n",
      "\u001b[90m│  \u001b[39m %10 = s\u001b[91m\u001b[1m::Any\u001b[22m\u001b[39m\n",
      "\u001b[90m│  \u001b[39m %11 = (xi ^ Main.POWER)\u001b[91m\u001b[1m::Any\u001b[22m\u001b[39m\n",
      "\u001b[90m│  \u001b[39m       (s = %10 + %11)\n",
      "\u001b[90m│  \u001b[39m       (@_3 = Base.iterate(%2, %9))\n",
      "\u001b[90m│  \u001b[39m %14 = (@_3 === nothing)\u001b[36m::Bool\u001b[39m\n",
      "\u001b[90m│  \u001b[39m %15 = Base.not_int(%14)\u001b[36m::Bool\u001b[39m\n",
      "\u001b[90m└──\u001b[39m       goto #4 if not %15\n",
      "\u001b[90m3 ─\u001b[39m       goto #2\n",
      "\u001b[90m4 ┄\u001b[39m       return s\n",
      "\n"
     ]
    }
   ],
   "source": [
    "@code_warntype f_gl01(rand(10))"
   ]
  },
  {
   "cell_type": "markdown",
   "id": "097b1c46",
   "metadata": {},
   "source": [
    "输出中的红色Any都提示有类型不确定问题。修改然后再用@code_warntype分析："
   ]
  },
  {
   "cell_type": "code",
   "execution_count": 22,
   "id": "2e8d6240",
   "metadata": {
    "ExecuteTime": {
     "end_time": "2022-06-01T19:23:01.823000+08:00",
     "start_time": "2022-06-01T11:21:41.235Z"
    }
   },
   "outputs": [
    {
     "data": {
      "text/plain": [
       "BenchmarkTools.Trial: 8873 samples with 1 evaluation.\n",
       " Range \u001b[90m(\u001b[39m\u001b[36m\u001b[1mmin\u001b[22m\u001b[39m … \u001b[35mmax\u001b[39m\u001b[90m):  \u001b[39m\u001b[36m\u001b[1m251.100 μs\u001b[22m\u001b[39m … \u001b[35m  7.783 ms\u001b[39m  \u001b[90m┊\u001b[39m GC \u001b[90m(\u001b[39mmin … max\u001b[90m): \u001b[39m0.00% … 83.20%\n",
       " Time  \u001b[90m(\u001b[39m\u001b[34m\u001b[1mmedian\u001b[22m\u001b[39m\u001b[90m):     \u001b[39m\u001b[34m\u001b[1m439.200 μs               \u001b[22m\u001b[39m\u001b[90m┊\u001b[39m GC \u001b[90m(\u001b[39mmedian\u001b[90m):    \u001b[39m0.00%\n",
       " Time  \u001b[90m(\u001b[39m\u001b[32m\u001b[1mmean\u001b[22m\u001b[39m ± \u001b[32mσ\u001b[39m\u001b[90m):   \u001b[39m\u001b[32m\u001b[1m558.134 μs\u001b[22m\u001b[39m ± \u001b[32m418.896 μs\u001b[39m  \u001b[90m┊\u001b[39m GC \u001b[90m(\u001b[39mmean ± σ\u001b[90m):  \u001b[39m6.75% ±  9.56%\n",
       "\n",
       "  \u001b[39m█\u001b[39m▆\u001b[39m▃\u001b[39m▃\u001b[39m \u001b[34m \u001b[39m\u001b[39m \u001b[39m \u001b[32m \u001b[39m\u001b[39m \u001b[39m \u001b[39m \u001b[39m \u001b[39m \u001b[39m \u001b[39m \u001b[39m \u001b[39m \u001b[39m \u001b[39m \u001b[39m \u001b[39m \u001b[39m \u001b[39m \u001b[39m \u001b[39m \u001b[39m \u001b[39m \u001b[39m \u001b[39m \u001b[39m \u001b[39m \u001b[39m \u001b[39m \u001b[39m \u001b[39m \u001b[39m \u001b[39m \u001b[39m \u001b[39m \u001b[39m \u001b[39m \u001b[39m \u001b[39m \u001b[39m \u001b[39m \u001b[39m \u001b[39m \u001b[39m \u001b[39m \u001b[39m \u001b[39m \u001b[39m \u001b[39m \u001b[39m \u001b[39m \u001b[39m \u001b[39m \u001b[39m \u001b[39m \u001b[39m \u001b[39m \u001b[39m \n",
       "  \u001b[39m█\u001b[39m█\u001b[39m█\u001b[39m█\u001b[39m▅\u001b[34m█\u001b[39m\u001b[39m▄\u001b[39m▇\u001b[32m▆\u001b[39m\u001b[39m▆\u001b[39m▅\u001b[39m▅\u001b[39m▅\u001b[39m▅\u001b[39m▄\u001b[39m▃\u001b[39m▃\u001b[39m▃\u001b[39m▃\u001b[39m▄\u001b[39m▃\u001b[39m▂\u001b[39m▂\u001b[39m▂\u001b[39m▂\u001b[39m▂\u001b[39m▂\u001b[39m▂\u001b[39m▂\u001b[39m▁\u001b[39m▂\u001b[39m▂\u001b[39m▁\u001b[39m▂\u001b[39m▂\u001b[39m▂\u001b[39m▂\u001b[39m▂\u001b[39m▂\u001b[39m▁\u001b[39m▂\u001b[39m▂\u001b[39m▂\u001b[39m▂\u001b[39m▂\u001b[39m▂\u001b[39m▂\u001b[39m▂\u001b[39m▂\u001b[39m▂\u001b[39m▂\u001b[39m▂\u001b[39m▂\u001b[39m▂\u001b[39m▂\u001b[39m▂\u001b[39m▂\u001b[39m▂\u001b[39m▂\u001b[39m▂\u001b[39m▂\u001b[39m \u001b[39m▃\n",
       "  251 μs\u001b[90m           Histogram: frequency by time\u001b[39m          2.7 ms \u001b[0m\u001b[1m<\u001b[22m\n",
       "\n",
       " Memory estimate\u001b[90m: \u001b[39m\u001b[33m781.30 KiB\u001b[39m, allocs estimate\u001b[90m: \u001b[39m\u001b[33m2\u001b[39m."
      ]
     },
     "execution_count": 22,
     "metadata": {},
     "output_type": "execute_result"
    }
   ],
   "source": [
    "POWER=2\n",
    "function f_gl01e(x::Vector{Float64})::Float64\n",
    "    s::Float64 = 0.0\n",
    "    for xi in x\n",
    "        s += xi ^ POWER::Int\n",
    "    end\n",
    "    return s\n",
    "end\n",
    "f_gl01e(rand(10))\n",
    "\n",
    "using BenchmarkTools\n",
    "@benchmark f_gl01e(rand(100_000))"
   ]
  },
  {
   "cell_type": "code",
   "execution_count": 23,
   "id": "b6ff00db",
   "metadata": {
    "ExecuteTime": {
     "end_time": "2022-06-01T19:23:02.400000+08:00",
     "start_time": "2022-06-01T11:21:41.239Z"
    }
   },
   "outputs": [
    {
     "name": "stdout",
     "output_type": "stream",
     "text": [
      "MethodInstance for f_gl01e(::Vector{Float64})\n",
      "  from f_gl01e(x::Vector{Float64}) in Main at In[22]:2\n",
      "Arguments\n",
      "  #self#\u001b[36m::Core.Const(f_gl01e)\u001b[39m\n",
      "  x\u001b[36m::Vector{Float64}\u001b[39m\n",
      "Locals\n",
      "  @_3\u001b[33m\u001b[1m::Union{Nothing, Tuple{Float64, Int64}}\u001b[22m\u001b[39m\n",
      "  s\u001b[36m::Float64\u001b[39m\n",
      "  xi\u001b[36m::Float64\u001b[39m\n",
      "Body\u001b[36m::Float64\u001b[39m\n",
      "\u001b[90m1 ─\u001b[39m %1  = Main.Float64\u001b[36m::Core.Const(Float64)\u001b[39m\n",
      "\u001b[90m│  \u001b[39m %2  = Base.convert(Main.Float64, 0.0)\u001b[36m::Core.Const(0.0)\u001b[39m\n",
      "\u001b[90m│  \u001b[39m       (s = Core.typeassert(%2, Main.Float64))\n",
      "\u001b[90m│  \u001b[39m %4  = x\u001b[36m::Vector{Float64}\u001b[39m\n",
      "\u001b[90m│  \u001b[39m       (@_3 = Base.iterate(%4))\n",
      "\u001b[90m│  \u001b[39m %6  = (@_3 === nothing)\u001b[36m::Bool\u001b[39m\n",
      "\u001b[90m│  \u001b[39m %7  = Base.not_int(%6)\u001b[36m::Bool\u001b[39m\n",
      "\u001b[90m└──\u001b[39m       goto #4 if not %7\n",
      "\u001b[90m2 ┄\u001b[39m %9  = @_3\u001b[36m::Tuple{Float64, Int64}\u001b[39m\n",
      "\u001b[90m│  \u001b[39m       (xi = Core.getfield(%9, 1))\n",
      "\u001b[90m│  \u001b[39m %11 = Core.getfield(%9, 2)\u001b[36m::Int64\u001b[39m\n",
      "\u001b[90m│  \u001b[39m %12 = s\u001b[36m::Float64\u001b[39m\n",
      "\u001b[90m│  \u001b[39m %13 = xi\u001b[36m::Float64\u001b[39m\n",
      "\u001b[90m│  \u001b[39m %14 = Core.typeassert(Main.POWER, Main.Int)\u001b[36m::Int64\u001b[39m\n",
      "\u001b[90m│  \u001b[39m %15 = (%13 ^ %14)\u001b[36m::Float64\u001b[39m\n",
      "\u001b[90m│  \u001b[39m %16 = (%12 + %15)\u001b[36m::Float64\u001b[39m\n",
      "\u001b[90m│  \u001b[39m %17 = Base.convert(Main.Float64, %16)\u001b[36m::Float64\u001b[39m\n",
      "\u001b[90m│  \u001b[39m       (s = Core.typeassert(%17, Main.Float64))\n",
      "\u001b[90m│  \u001b[39m       (@_3 = Base.iterate(%4, %11))\n",
      "\u001b[90m│  \u001b[39m %20 = (@_3 === nothing)\u001b[36m::Bool\u001b[39m\n",
      "\u001b[90m│  \u001b[39m %21 = Base.not_int(%20)\u001b[36m::Bool\u001b[39m\n",
      "\u001b[90m└──\u001b[39m       goto #4 if not %21\n",
      "\u001b[90m3 ─\u001b[39m       goto #2\n",
      "\u001b[90m4 ┄\u001b[39m %24 = Base.convert(%1, s)\u001b[36m::Float64\u001b[39m\n",
      "\u001b[90m│  \u001b[39m %25 = Core.typeassert(%24, %1)\u001b[36m::Float64\u001b[39m\n",
      "\u001b[90m└──\u001b[39m       return %25\n",
      "\n"
     ]
    }
   ],
   "source": [
    "@code_warntype f_gl01e(rand(10))"
   ]
  },
  {
   "cell_type": "markdown",
   "id": "55a6cef0",
   "metadata": {},
   "source": [
    "结果中没有需要改进的代码了。"
   ]
  },
  {
   "cell_type": "markdown",
   "id": "4813abf5",
   "metadata": {},
   "source": [
    "## 行内函数(inline functions)"
   ]
  },
  {
   "cell_type": "markdown",
   "id": "89700d23",
   "metadata": {},
   "source": [
    "**Julia编译器自动将较小的类型明确的函数调用变成行内函数**， 即被调用的函数的实际代码被转移到调用者内部。 行内函数提高了程序效率但是会使得程序变大。\n",
    "\n",
    "Julia自动确定哪些函数变成行内函数， 然而， 有些反复调用的代码， 尤其是用在循环和内存循环的代码， 比如数组用下标访问元素的函数， 最好人为地规定成行内函数。 **用@inline宏说明一个函数定义就可以规定其变成行内函数**。 如"
   ]
  },
  {
   "cell_type": "raw",
   "id": "75e3a4e0",
   "metadata": {},
   "source": [
    "@inline function f(x)\n",
    "    ...\n",
    "end"
   ]
  },
  {
   "cell_type": "markdown",
   "id": "258929ce",
   "metadata": {},
   "source": [
    "## 用宏提高效率"
   ]
  },
  {
   "cell_type": "markdown",
   "id": "fe03a923",
   "metadata": {},
   "source": [
    "宏(macro)是类似C语言预处理的语言构件。 宏可以生成程序代码， 可以对程序代码进行操作， 比如前面的@time、@code_warntype等。\n",
    "\n",
    "**宏可以用来对重复性的代码进行简写， 也可以通过将运行时才执行的任务提前到代码编译阶段完成从而提高效率**。\n",
    "\n",
    "以多项式求值的函数为例。 多项式的系数按升序保存在一维数组中。 按照通常的写法，程序为："
   ]
  },
  {
   "cell_type": "code",
   "execution_count": 24,
   "id": "0c999406",
   "metadata": {
    "ExecuteTime": {
     "end_time": "2022-06-01T19:23:02.670000+08:00",
     "start_time": "2022-06-01T11:21:41.301Z"
    }
   },
   "outputs": [
    {
     "data": {
      "text/plain": [
       "f_ma01 (generic function with 1 method)"
      ]
     },
     "execution_count": 24,
     "metadata": {},
     "output_type": "execute_result"
    }
   ],
   "source": [
    "function f_ma01(x, a...)\n",
    "    p = zero(x)\n",
    "    for i = 1: length(a)\n",
    "        p += a[i] * x ^(i-1)\n",
    "    end\n",
    "    return p\n",
    "end"
   ]
  },
  {
   "cell_type": "markdown",
   "id": "32827cbb",
   "metadata": {},
   "source": [
    "这里没有用秦九韶法进行算法优化，直接用了幂函数。 对多项式 $f(x)=1+2x+3x^2+4x^3$ ， 可以用f_ma01()定义如下的多项式函数："
   ]
  },
  {
   "cell_type": "code",
   "execution_count": 25,
   "id": "4a48880b",
   "metadata": {
    "ExecuteTime": {
     "end_time": "2022-06-01T19:23:02.841000+08:00",
     "start_time": "2022-06-01T11:21:41.306Z"
    }
   },
   "outputs": [
    {
     "data": {
      "text/plain": [
       "f_ma01b (generic function with 1 method)"
      ]
     },
     "execution_count": 25,
     "metadata": {},
     "output_type": "execute_result"
    }
   ],
   "source": [
    "f_ma01b(x) = f_ma01(x, 1, 2, 3, 4)"
   ]
  },
  {
   "cell_type": "markdown",
   "id": "3caa31bd",
   "metadata": {},
   "source": [
    "调用如"
   ]
  },
  {
   "cell_type": "code",
   "execution_count": 26,
   "id": "f0843788",
   "metadata": {
    "ExecuteTime": {
     "end_time": "2022-06-01T19:23:02.865000+08:00",
     "start_time": "2022-06-01T11:21:41.312Z"
    }
   },
   "outputs": [
    {
     "data": {
      "text/plain": [
       "10.0"
      ]
     },
     "execution_count": 26,
     "metadata": {},
     "output_type": "execute_result"
    }
   ],
   "source": [
    "f_ma01b(1.0)"
   ]
  },
  {
   "cell_type": "code",
   "execution_count": 27,
   "id": "814a036a",
   "metadata": {
    "ExecuteTime": {
     "end_time": "2022-06-01T19:23:02.873000+08:00",
     "start_time": "2022-06-01T11:21:41.317Z"
    }
   },
   "outputs": [
    {
     "data": {
      "text/plain": [
       "24.25"
      ]
     },
     "execution_count": 27,
     "metadata": {},
     "output_type": "execute_result"
    }
   ],
   "source": [
    "f_ma01b(1.5)"
   ]
  },
  {
   "cell_type": "code",
   "execution_count": 28,
   "id": "9502683a",
   "metadata": {
    "ExecuteTime": {
     "end_time": "2022-06-01T19:23:03.246000+08:00",
     "start_time": "2022-06-01T11:21:41.320Z"
    }
   },
   "outputs": [
    {
     "data": {
      "text/plain": [
       "10"
      ]
     },
     "execution_count": 28,
     "metadata": {},
     "output_type": "execute_result"
    }
   ],
   "source": [
    "f_ma01b(1)"
   ]
  },
  {
   "cell_type": "markdown",
   "id": "edaeb491",
   "metadata": {},
   "source": [
    "测试程序效率如下："
   ]
  },
  {
   "cell_type": "code",
   "execution_count": 29,
   "id": "15134954",
   "metadata": {
    "ExecuteTime": {
     "end_time": "2022-06-01T19:23:04.133000+08:00",
     "start_time": "2022-06-01T11:21:41.323Z"
    }
   },
   "outputs": [
    {
     "data": {
      "text/plain": [
       "BenchmarkTools.Trial: 10000 samples with 1000 evaluations.\n",
       " Range \u001b[90m(\u001b[39m\u001b[36m\u001b[1mmin\u001b[22m\u001b[39m … \u001b[35mmax\u001b[39m\u001b[90m):  \u001b[39m\u001b[36m\u001b[1m2.100 ns\u001b[22m\u001b[39m … \u001b[35m52.100 ns\u001b[39m  \u001b[90m┊\u001b[39m GC \u001b[90m(\u001b[39mmin … max\u001b[90m): \u001b[39m0.00% … 0.00%\n",
       " Time  \u001b[90m(\u001b[39m\u001b[34m\u001b[1mmedian\u001b[22m\u001b[39m\u001b[90m):     \u001b[39m\u001b[34m\u001b[1m2.200 ns              \u001b[22m\u001b[39m\u001b[90m┊\u001b[39m GC \u001b[90m(\u001b[39mmedian\u001b[90m):    \u001b[39m0.00%\n",
       " Time  \u001b[90m(\u001b[39m\u001b[32m\u001b[1mmean\u001b[22m\u001b[39m ± \u001b[32mσ\u001b[39m\u001b[90m):   \u001b[39m\u001b[32m\u001b[1m2.425 ns\u001b[22m\u001b[39m ± \u001b[32m 0.815 ns\u001b[39m  \u001b[90m┊\u001b[39m GC \u001b[90m(\u001b[39mmean ± σ\u001b[90m):  \u001b[39m0.00% ± 0.00%\n",
       "\n",
       "  \u001b[39m█\u001b[39m \u001b[39m \u001b[39m \u001b[34m▇\u001b[39m\u001b[39m \u001b[39m \u001b[39m \u001b[39m \u001b[39m \u001b[39m \u001b[39m \u001b[39m \u001b[32m \u001b[39m\u001b[39m \u001b[39m \u001b[39m \u001b[39m \u001b[39m \u001b[39m \u001b[39m \u001b[39m \u001b[39m \u001b[39m \u001b[39m \u001b[39m \u001b[39m \u001b[39m \u001b[39m \u001b[39m \u001b[39m \u001b[39m \u001b[39m \u001b[39m \u001b[39m \u001b[39m \u001b[39m \u001b[39m \u001b[39m \u001b[39m \u001b[39m \u001b[39m \u001b[39m \u001b[39m \u001b[39m \u001b[39m \u001b[39m \u001b[39m \u001b[39m \u001b[39m \u001b[39m \u001b[39m \u001b[39m \u001b[39m \u001b[39m \u001b[39m \u001b[39m \u001b[39m \u001b[39m \u001b[39m \n",
       "  \u001b[39m█\u001b[39m▁\u001b[39m▁\u001b[39m▁\u001b[34m█\u001b[39m\u001b[39m▁\u001b[39m▁\u001b[39m▁\u001b[39m▃\u001b[39m▁\u001b[39m▁\u001b[39m▁\u001b[39m▂\u001b[32m▁\u001b[39m\u001b[39m▁\u001b[39m▁\u001b[39m▂\u001b[39m▁\u001b[39m▁\u001b[39m▁\u001b[39m▄\u001b[39m▁\u001b[39m▁\u001b[39m▁\u001b[39m▆\u001b[39m▁\u001b[39m▁\u001b[39m▁\u001b[39m▅\u001b[39m▁\u001b[39m▁\u001b[39m▁\u001b[39m▁\u001b[39m▅\u001b[39m▁\u001b[39m▁\u001b[39m▁\u001b[39m▄\u001b[39m▁\u001b[39m▁\u001b[39m▁\u001b[39m▃\u001b[39m▁\u001b[39m▁\u001b[39m▁\u001b[39m▂\u001b[39m▁\u001b[39m▁\u001b[39m▁\u001b[39m▂\u001b[39m▁\u001b[39m▁\u001b[39m▁\u001b[39m▂\u001b[39m▁\u001b[39m▁\u001b[39m▁\u001b[39m▂\u001b[39m \u001b[39m▂\n",
       "  2.1 ns\u001b[90m         Histogram: frequency by time\u001b[39m         3.5 ns \u001b[0m\u001b[1m<\u001b[22m\n",
       "\n",
       " Memory estimate\u001b[90m: \u001b[39m\u001b[33m0 bytes\u001b[39m, allocs estimate\u001b[90m: \u001b[39m\u001b[33m0\u001b[39m."
      ]
     },
     "execution_count": 29,
     "metadata": {},
     "output_type": "execute_result"
    }
   ],
   "source": [
    "@benchmark f_ma01b(1.5)"
   ]
  },
  {
   "cell_type": "markdown",
   "id": "3a4673c2",
   "metadata": {},
   "source": [
    "将程序改成用秦九韶法， 比如 $f(x)=1+2x+3x^2+4x^3$  写成\n",
    "$$f(x)=1+x(2+x(3+4x))$$\n",
    "这样可以减少乘法运算的次数。 算法每一步将前一步的结果乘以x， 加上降序的后一个系数。 将f_ma01()用这种方法改写："
   ]
  },
  {
   "cell_type": "code",
   "execution_count": 30,
   "id": "8d8d4cf7",
   "metadata": {
    "ExecuteTime": {
     "end_time": "2022-06-01T19:23:04.256000+08:00",
     "start_time": "2022-06-01T11:21:41.327Z"
    }
   },
   "outputs": [
    {
     "data": {
      "text/plain": [
       "f_ma02 (generic function with 1 method)"
      ]
     },
     "execution_count": 30,
     "metadata": {},
     "output_type": "execute_result"
    }
   ],
   "source": [
    "function f_ma02(x, a...)\n",
    "    p = zero(x)\n",
    "    for i = length(a):-1:1\n",
    "        p = a[i] + p*x\n",
    "    end\n",
    "    return p\n",
    "end"
   ]
  },
  {
   "cell_type": "markdown",
   "id": "09c6c753",
   "metadata": {},
   "source": [
    "多项式 $f(x)=1+2x+3x^2+4x^3$  的函数为："
   ]
  },
  {
   "cell_type": "code",
   "execution_count": 31,
   "id": "5736ef65",
   "metadata": {
    "ExecuteTime": {
     "end_time": "2022-06-01T19:23:05.134000+08:00",
     "start_time": "2022-06-01T11:21:41.330Z"
    }
   },
   "outputs": [
    {
     "data": {
      "text/plain": [
       "BenchmarkTools.Trial: 10000 samples with 1000 evaluations.\n",
       " Range \u001b[90m(\u001b[39m\u001b[36m\u001b[1mmin\u001b[22m\u001b[39m … \u001b[35mmax\u001b[39m\u001b[90m):  \u001b[39m\u001b[36m\u001b[1m1.800 ns\u001b[22m\u001b[39m … \u001b[35m19.500 ns\u001b[39m  \u001b[90m┊\u001b[39m GC \u001b[90m(\u001b[39mmin … max\u001b[90m): \u001b[39m0.00% … 0.00%\n",
       " Time  \u001b[90m(\u001b[39m\u001b[34m\u001b[1mmedian\u001b[22m\u001b[39m\u001b[90m):     \u001b[39m\u001b[34m\u001b[1m2.200 ns              \u001b[22m\u001b[39m\u001b[90m┊\u001b[39m GC \u001b[90m(\u001b[39mmedian\u001b[90m):    \u001b[39m0.00%\n",
       " Time  \u001b[90m(\u001b[39m\u001b[32m\u001b[1mmean\u001b[22m\u001b[39m ± \u001b[32mσ\u001b[39m\u001b[90m):   \u001b[39m\u001b[32m\u001b[1m2.257 ns\u001b[22m\u001b[39m ± \u001b[32m 0.597 ns\u001b[39m  \u001b[90m┊\u001b[39m GC \u001b[90m(\u001b[39mmean ± σ\u001b[90m):  \u001b[39m0.00% ± 0.00%\n",
       "\n",
       "  \u001b[39m \u001b[39m \u001b[39m \u001b[39m▅\u001b[39m \u001b[39m \u001b[39m \u001b[39m \u001b[39m \u001b[39m \u001b[39m \u001b[39m█\u001b[39m \u001b[39m \u001b[39m \u001b[34m█\u001b[39m\u001b[39m \u001b[39m \u001b[32m \u001b[39m\u001b[39m▃\u001b[39m \u001b[39m \u001b[39m \u001b[39m▃\u001b[39m \u001b[39m \u001b[39m \u001b[39m▂\u001b[39m \u001b[39m \u001b[39m▃\u001b[39m \u001b[39m \u001b[39m \u001b[39m▄\u001b[39m \u001b[39m \u001b[39m \u001b[39m▃\u001b[39m \u001b[39m \u001b[39m \u001b[39m▃\u001b[39m \u001b[39m \u001b[39m \u001b[39m▃\u001b[39m \u001b[39m \u001b[39m \u001b[39m▁\u001b[39m \u001b[39m \u001b[39m \u001b[39m \u001b[39m \u001b[39m \u001b[39m \u001b[39m \u001b[39m▂\n",
       "  \u001b[39m▃\u001b[39m▁\u001b[39m▁\u001b[39m█\u001b[39m▁\u001b[39m▁\u001b[39m▁\u001b[39m█\u001b[39m▁\u001b[39m▁\u001b[39m▁\u001b[39m█\u001b[39m▁\u001b[39m▁\u001b[39m▁\u001b[34m█\u001b[39m\u001b[39m▁\u001b[39m▁\u001b[32m▁\u001b[39m\u001b[39m█\u001b[39m▁\u001b[39m▁\u001b[39m▁\u001b[39m█\u001b[39m▁\u001b[39m▁\u001b[39m▁\u001b[39m█\u001b[39m▁\u001b[39m▁\u001b[39m█\u001b[39m▁\u001b[39m▁\u001b[39m▁\u001b[39m█\u001b[39m▁\u001b[39m▁\u001b[39m▁\u001b[39m█\u001b[39m▁\u001b[39m▁\u001b[39m▁\u001b[39m█\u001b[39m▁\u001b[39m▁\u001b[39m▁\u001b[39m█\u001b[39m▁\u001b[39m▁\u001b[39m▁\u001b[39m█\u001b[39m▁\u001b[39m▁\u001b[39m▁\u001b[39m▇\u001b[39m▁\u001b[39m▁\u001b[39m▇\u001b[39m \u001b[39m█\n",
       "  1.8 ns\u001b[90m       \u001b[39m\u001b[90mHistogram: \u001b[39m\u001b[90m\u001b[1mlog(\u001b[22m\u001b[39m\u001b[90mfrequency\u001b[39m\u001b[90m\u001b[1m)\u001b[22m\u001b[39m\u001b[90m by time\u001b[39m      3.3 ns \u001b[0m\u001b[1m<\u001b[22m\n",
       "\n",
       " Memory estimate\u001b[90m: \u001b[39m\u001b[33m0 bytes\u001b[39m, allocs estimate\u001b[90m: \u001b[39m\u001b[33m0\u001b[39m."
      ]
     },
     "execution_count": 31,
     "metadata": {},
     "output_type": "execute_result"
    }
   ],
   "source": [
    "f_ma02b(x) = f_ma02(x, 1, 2, 3, 4)\n",
    "f_ma02b(1.5)\n",
    "@benchmark f_ma02b(1.5)"
   ]
  },
  {
   "cell_type": "markdown",
   "id": "53590f9e",
   "metadata": {},
   "source": [
    "两个函数性能相同， 可能是Julia本身进行了优化。\n",
    "\n",
    "这个算法还是不够优化， 因为每次调用f_ma02()时都需要访问系数数组， 而实际的多项式的系数是常数， 所以， 直接按 $f(x)=1+x(2+x(3+4x))$ 计算效率会更高，如："
   ]
  },
  {
   "cell_type": "code",
   "execution_count": 32,
   "id": "a93231ed",
   "metadata": {
    "ExecuteTime": {
     "end_time": "2022-06-01T19:23:05.996000+08:00",
     "start_time": "2022-06-01T11:21:41.334Z"
    }
   },
   "outputs": [
    {
     "data": {
      "text/plain": [
       "BenchmarkTools.Trial: 10000 samples with 1000 evaluations.\n",
       " Range \u001b[90m(\u001b[39m\u001b[36m\u001b[1mmin\u001b[22m\u001b[39m … \u001b[35mmax\u001b[39m\u001b[90m):  \u001b[39m\u001b[36m\u001b[1m0.001 ns\u001b[22m\u001b[39m … \u001b[35m0.300 ns\u001b[39m  \u001b[90m┊\u001b[39m GC \u001b[90m(\u001b[39mmin … max\u001b[90m): \u001b[39m0.00% … 0.00%\n",
       " Time  \u001b[90m(\u001b[39m\u001b[34m\u001b[1mmedian\u001b[22m\u001b[39m\u001b[90m):     \u001b[39m\u001b[34m\u001b[1m0.001 ns             \u001b[22m\u001b[39m\u001b[90m┊\u001b[39m GC \u001b[90m(\u001b[39mmedian\u001b[90m):    \u001b[39m0.00%\n",
       " Time  \u001b[90m(\u001b[39m\u001b[32m\u001b[1mmean\u001b[22m\u001b[39m ± \u001b[32mσ\u001b[39m\u001b[90m):   \u001b[39m\u001b[32m\u001b[1m0.043 ns\u001b[22m\u001b[39m ± \u001b[32m0.049 ns\u001b[39m  \u001b[90m┊\u001b[39m GC \u001b[90m(\u001b[39mmean ± σ\u001b[90m):  \u001b[39m0.00% ± 0.00%\n",
       "\n",
       "  \u001b[34m█\u001b[39m\u001b[39m \u001b[39m \u001b[39m \u001b[39m \u001b[39m \u001b[39m \u001b[39m \u001b[39m \u001b[39m \u001b[39m \u001b[39m \u001b[39m \u001b[39m \u001b[39m \u001b[39m \u001b[39m \u001b[39m \u001b[39m \u001b[39m \u001b[39m \u001b[39m \u001b[39m \u001b[39m \u001b[32m \u001b[39m\u001b[39m \u001b[39m \u001b[39m \u001b[39m \u001b[39m \u001b[39m \u001b[39m \u001b[39m \u001b[39m \u001b[39m \u001b[39m \u001b[39m \u001b[39m \u001b[39m \u001b[39m \u001b[39m \u001b[39m \u001b[39m \u001b[39m \u001b[39m \u001b[39m \u001b[39m \u001b[39m \u001b[39m \u001b[39m \u001b[39m \u001b[39m \u001b[39m \u001b[39m \u001b[39m \u001b[39m \u001b[39m▄\u001b[39m \u001b[39m \n",
       "  \u001b[34m█\u001b[39m\u001b[39m▁\u001b[39m▁\u001b[39m▁\u001b[39m▁\u001b[39m▁\u001b[39m▁\u001b[39m▁\u001b[39m▁\u001b[39m▁\u001b[39m▁\u001b[39m▁\u001b[39m▁\u001b[39m▁\u001b[39m▁\u001b[39m▁\u001b[39m▁\u001b[39m▁\u001b[39m▁\u001b[39m▁\u001b[39m▁\u001b[39m▁\u001b[39m▁\u001b[39m▁\u001b[32m▁\u001b[39m\u001b[39m▁\u001b[39m▁\u001b[39m▁\u001b[39m▁\u001b[39m▁\u001b[39m▁\u001b[39m▁\u001b[39m▁\u001b[39m▁\u001b[39m▁\u001b[39m▁\u001b[39m▁\u001b[39m▁\u001b[39m▁\u001b[39m▁\u001b[39m▁\u001b[39m▁\u001b[39m▁\u001b[39m▁\u001b[39m▁\u001b[39m▁\u001b[39m▁\u001b[39m▁\u001b[39m▁\u001b[39m▁\u001b[39m▁\u001b[39m▁\u001b[39m▁\u001b[39m▁\u001b[39m▁\u001b[39m▁\u001b[39m█\u001b[39m \u001b[39m▂\n",
       "  0.001 ns\u001b[90m       Histogram: frequency by time\u001b[39m        0.1 ns \u001b[0m\u001b[1m<\u001b[22m\n",
       "\n",
       " Memory estimate\u001b[90m: \u001b[39m\u001b[33m0 bytes\u001b[39m, allocs estimate\u001b[90m: \u001b[39m\u001b[33m0\u001b[39m."
      ]
     },
     "execution_count": 32,
     "metadata": {},
     "output_type": "execute_result"
    }
   ],
   "source": [
    "f_ma03(x) = 1 + x*(2 + x*(3 + 4 * x))\n",
    "f_ma03(1.5)\n",
    "@benchmark f_ma03(1.5)"
   ]
  },
  {
   "cell_type": "markdown",
   "id": "7b4201c7",
   "metadata": {},
   "source": [
    "第三个版本效率提升了三个数量级。 问题是f_ma03()函数是完全根据多项式阶数与系数手写代码实现的， 我们需要就这个手写代码的过程用Julia程序完成， 这就是宏的作用。\n",
    "\n",
    "一般的生成一个多项式函数的宏如下："
   ]
  },
  {
   "cell_type": "code",
   "execution_count": 33,
   "id": "ef2c6c51",
   "metadata": {
    "ExecuteTime": {
     "end_time": "2022-06-01T19:23:06.180000+08:00",
     "start_time": "2022-06-01T11:21:41.337Z"
    }
   },
   "outputs": [
    {
     "data": {
      "text/plain": [
       "@mac_01 (macro with 1 method)"
      ]
     },
     "execution_count": 33,
     "metadata": {},
     "output_type": "execute_result"
    }
   ],
   "source": [
    "macro mac_01(x, a...)\n",
    "    ex = esc(a[end])\n",
    "    for i = length(a)-1:-1:1\n",
    "        ex = :(muladd(t, $ex, $(esc(a[i]))))\n",
    "    end\n",
    "    Expr(:block, :(t = $(esc(x))), ex)\n",
    "end"
   ]
  },
  {
   "cell_type": "markdown",
   "id": "521dd29e",
   "metadata": {},
   "source": [
    "生成多项式函数如:"
   ]
  },
  {
   "cell_type": "code",
   "execution_count": 34,
   "id": "cf16dee2",
   "metadata": {
    "ExecuteTime": {
     "end_time": "2022-06-01T19:23:06.350000+08:00",
     "start_time": "2022-06-01T11:21:41.341Z"
    }
   },
   "outputs": [
    {
     "data": {
      "text/plain": [
       "f_ma04 (generic function with 1 method)"
      ]
     },
     "execution_count": 34,
     "metadata": {},
     "output_type": "execute_result"
    }
   ],
   "source": [
    "f_ma04(x) = @mac_01(x, 1, 2, 3, 4)"
   ]
  },
  {
   "cell_type": "code",
   "execution_count": 35,
   "id": "9a1a9bdb",
   "metadata": {
    "ExecuteTime": {
     "end_time": "2022-06-01T19:23:07.412000+08:00",
     "start_time": "2022-06-01T11:21:41.344Z"
    }
   },
   "outputs": [
    {
     "data": {
      "text/plain": [
       "BenchmarkTools.Trial: 10000 samples with 1000 evaluations.\n",
       " Range \u001b[90m(\u001b[39m\u001b[36m\u001b[1mmin\u001b[22m\u001b[39m … \u001b[35mmax\u001b[39m\u001b[90m):  \u001b[39m\u001b[36m\u001b[1m0.001 ns\u001b[22m\u001b[39m … \u001b[35m0.500 ns\u001b[39m  \u001b[90m┊\u001b[39m GC \u001b[90m(\u001b[39mmin … max\u001b[90m): \u001b[39m0.00% … 0.00%\n",
       " Time  \u001b[90m(\u001b[39m\u001b[34m\u001b[1mmedian\u001b[22m\u001b[39m\u001b[90m):     \u001b[39m\u001b[34m\u001b[1m0.100 ns             \u001b[22m\u001b[39m\u001b[90m┊\u001b[39m GC \u001b[90m(\u001b[39mmedian\u001b[90m):    \u001b[39m0.00%\n",
       " Time  \u001b[90m(\u001b[39m\u001b[32m\u001b[1mmean\u001b[22m\u001b[39m ± \u001b[32mσ\u001b[39m\u001b[90m):   \u001b[39m\u001b[32m\u001b[1m0.067 ns\u001b[22m\u001b[39m ± \u001b[32m0.047 ns\u001b[39m  \u001b[90m┊\u001b[39m GC \u001b[90m(\u001b[39mmean ± σ\u001b[90m):  \u001b[39m0.00% ± 0.00%\n",
       "\n",
       "  \u001b[39m▁\u001b[39m \u001b[39m \u001b[39m \u001b[39m \u001b[39m \u001b[39m \u001b[39m \u001b[39m \u001b[39m \u001b[39m \u001b[39m \u001b[39m \u001b[39m \u001b[39m \u001b[39m \u001b[39m \u001b[39m \u001b[39m \u001b[39m \u001b[39m \u001b[39m \u001b[39m \u001b[39m \u001b[39m \u001b[39m \u001b[39m \u001b[39m \u001b[39m \u001b[39m \u001b[39m \u001b[39m \u001b[39m \u001b[39m \u001b[39m \u001b[39m \u001b[39m \u001b[39m \u001b[32m \u001b[39m\u001b[39m \u001b[39m \u001b[39m \u001b[39m \u001b[39m \u001b[39m \u001b[39m \u001b[39m \u001b[39m \u001b[39m \u001b[39m \u001b[39m \u001b[39m \u001b[39m \u001b[39m \u001b[39m \u001b[39m \u001b[39m█\u001b[34m \u001b[39m\u001b[39m \n",
       "  \u001b[39m█\u001b[39m▁\u001b[39m▁\u001b[39m▁\u001b[39m▁\u001b[39m▁\u001b[39m▁\u001b[39m▁\u001b[39m▁\u001b[39m▁\u001b[39m▁\u001b[39m▁\u001b[39m▁\u001b[39m▁\u001b[39m▁\u001b[39m▁\u001b[39m▁\u001b[39m▁\u001b[39m▁\u001b[39m▁\u001b[39m▁\u001b[39m▁\u001b[39m▁\u001b[39m▁\u001b[39m▁\u001b[39m▁\u001b[39m▁\u001b[39m▁\u001b[39m▁\u001b[39m▁\u001b[39m▁\u001b[39m▁\u001b[39m▁\u001b[39m▁\u001b[39m▁\u001b[39m▁\u001b[39m▁\u001b[39m▁\u001b[32m▁\u001b[39m\u001b[39m▁\u001b[39m▁\u001b[39m▁\u001b[39m▁\u001b[39m▁\u001b[39m▁\u001b[39m▁\u001b[39m▁\u001b[39m▁\u001b[39m▁\u001b[39m▁\u001b[39m▁\u001b[39m▁\u001b[39m▁\u001b[39m▁\u001b[39m▁\u001b[39m▁\u001b[39m█\u001b[34m \u001b[39m\u001b[39m▂\n",
       "  0.001 ns\u001b[90m       Histogram: frequency by time\u001b[39m        0.1 ns \u001b[0m\u001b[1m<\u001b[22m\n",
       "\n",
       " Memory estimate\u001b[90m: \u001b[39m\u001b[33m0 bytes\u001b[39m, allocs estimate\u001b[90m: \u001b[39m\u001b[33m0\u001b[39m."
      ]
     },
     "execution_count": 35,
     "metadata": {},
     "output_type": "execute_result"
    }
   ],
   "source": [
    "f_ma04(1.5)\n",
    "@benchmark f_ma04(1.5)"
   ]
  },
  {
   "cell_type": "markdown",
   "id": "536ea383",
   "metadata": {},
   "source": [
    "程序效率与手写的优化代码相当。\n",
    "\n",
    "派生函数(generated functions)是与宏类似的函数定义方式， 可以起到类似手写优化代码的效果， 可以将原来一般性的循环写成直接的表达式。"
   ]
  },
  {
   "cell_type": "markdown",
   "id": "6e2ccaa3",
   "metadata": {},
   "source": [
    "## 关键字参数问题"
   ]
  },
  {
   "cell_type": "markdown",
   "id": "e83d3d81",
   "metadata": {},
   "source": [
    "Julia的多重派发是仅根据位置参数， 包括没有缺省值的和有缺省值的位置参数的类型来进行的； 关键字参数不影响多重派发， 这样， 用到关键字参数的函数就无法得到类型信息的好处， 效率相对而言比较低。 关键字参数适用于有很多选项的用户直接调用的参数， 如果是反复循环的对性能要求高的函数则应避免使用关键字参数。 例如："
   ]
  },
  {
   "cell_type": "code",
   "execution_count": 36,
   "id": "a060079a",
   "metadata": {
    "ExecuteTime": {
     "end_time": "2022-06-01T19:23:08.454000+08:00",
     "start_time": "2022-06-01T11:21:41.349Z"
    }
   },
   "outputs": [
    {
     "data": {
      "text/plain": [
       "BenchmarkTools.Trial: 10000 samples with 1000 evaluations.\n",
       " Range \u001b[90m(\u001b[39m\u001b[36m\u001b[1mmin\u001b[22m\u001b[39m … \u001b[35mmax\u001b[39m\u001b[90m):  \u001b[39m\u001b[36m\u001b[1m2.100 ns\u001b[22m\u001b[39m … \u001b[35m48.500 ns\u001b[39m  \u001b[90m┊\u001b[39m GC \u001b[90m(\u001b[39mmin … max\u001b[90m): \u001b[39m0.00% … 0.00%\n",
       " Time  \u001b[90m(\u001b[39m\u001b[34m\u001b[1mmedian\u001b[22m\u001b[39m\u001b[90m):     \u001b[39m\u001b[34m\u001b[1m2.800 ns              \u001b[22m\u001b[39m\u001b[90m┊\u001b[39m GC \u001b[90m(\u001b[39mmedian\u001b[90m):    \u001b[39m0.00%\n",
       " Time  \u001b[90m(\u001b[39m\u001b[32m\u001b[1mmean\u001b[22m\u001b[39m ± \u001b[32mσ\u001b[39m\u001b[90m):   \u001b[39m\u001b[32m\u001b[1m2.846 ns\u001b[22m\u001b[39m ± \u001b[32m 1.122 ns\u001b[39m  \u001b[90m┊\u001b[39m GC \u001b[90m(\u001b[39mmean ± σ\u001b[90m):  \u001b[39m0.00% ± 0.00%\n",
       "\n",
       "  \u001b[39m \u001b[39m \u001b[39m▅\u001b[39m \u001b[39m \u001b[39m \u001b[39m \u001b[39m█\u001b[39m \u001b[39m \u001b[39m▆\u001b[39m \u001b[39m \u001b[39m \u001b[39m \u001b[39m \u001b[39m \u001b[39m \u001b[34m▅\u001b[39m\u001b[39m \u001b[32m \u001b[39m\u001b[39m▇\u001b[39m \u001b[39m \u001b[39m \u001b[39m \u001b[39m \u001b[39m \u001b[39m \u001b[39m \u001b[39m \u001b[39m \u001b[39m \u001b[39m \u001b[39m \u001b[39m \u001b[39m \u001b[39m \u001b[39m \u001b[39m \u001b[39m \u001b[39m \u001b[39m \u001b[39m \u001b[39m \u001b[39m \u001b[39m \u001b[39m \u001b[39m \u001b[39m \u001b[39m \u001b[39m \u001b[39m \u001b[39m \u001b[39m \u001b[39m \u001b[39m \u001b[39m \u001b[39m \u001b[39m \n",
       "  \u001b[39m▅\u001b[39m▁\u001b[39m█\u001b[39m▁\u001b[39m▁\u001b[39m▇\u001b[39m▁\u001b[39m█\u001b[39m▁\u001b[39m▁\u001b[39m█\u001b[39m▁\u001b[39m▁\u001b[39m▃\u001b[39m▁\u001b[39m▂\u001b[39m▁\u001b[39m▁\u001b[34m█\u001b[39m\u001b[39m▁\u001b[32m▁\u001b[39m\u001b[39m█\u001b[39m▁\u001b[39m▄\u001b[39m▁\u001b[39m▁\u001b[39m▄\u001b[39m▁\u001b[39m▅\u001b[39m▁\u001b[39m▁\u001b[39m▅\u001b[39m▁\u001b[39m▁\u001b[39m▅\u001b[39m▁\u001b[39m▅\u001b[39m▁\u001b[39m▁\u001b[39m▅\u001b[39m▁\u001b[39m▁\u001b[39m▅\u001b[39m▁\u001b[39m▄\u001b[39m▁\u001b[39m▁\u001b[39m▃\u001b[39m▁\u001b[39m▁\u001b[39m▂\u001b[39m▁\u001b[39m▂\u001b[39m▁\u001b[39m▁\u001b[39m▂\u001b[39m▁\u001b[39m▂\u001b[39m \u001b[39m▃\n",
       "  2.1 ns\u001b[90m         Histogram: frequency by time\u001b[39m         4.3 ns \u001b[0m\u001b[1m<\u001b[22m\n",
       "\n",
       " Memory estimate\u001b[90m: \u001b[39m\u001b[33m0 bytes\u001b[39m, allocs estimate\u001b[90m: \u001b[39m\u001b[33m0\u001b[39m."
      ]
     },
     "execution_count": 36,
     "metadata": {},
     "output_type": "execute_result"
    }
   ],
   "source": [
    "f_kw01(x; y=2, z=2) = x^y + x^z\n",
    "f_kw01(1.5, y=2, z=3)\n",
    "@benchmark f_kw01(1.5, y=2, z=3)"
   ]
  },
  {
   "cell_type": "code",
   "execution_count": 37,
   "id": "91849f0d",
   "metadata": {
    "ExecuteTime": {
     "end_time": "2022-06-01T19:23:09.460000+08:00",
     "start_time": "2022-06-01T11:21:41.353Z"
    }
   },
   "outputs": [
    {
     "data": {
      "text/plain": [
       "BenchmarkTools.Trial: 10000 samples with 1000 evaluations.\n",
       " Range \u001b[90m(\u001b[39m\u001b[36m\u001b[1mmin\u001b[22m\u001b[39m … \u001b[35mmax\u001b[39m\u001b[90m):  \u001b[39m\u001b[36m\u001b[1m0.001 ns\u001b[22m\u001b[39m … \u001b[35m0.600 ns\u001b[39m  \u001b[90m┊\u001b[39m GC \u001b[90m(\u001b[39mmin … max\u001b[90m): \u001b[39m0.00% … 0.00%\n",
       " Time  \u001b[90m(\u001b[39m\u001b[34m\u001b[1mmedian\u001b[22m\u001b[39m\u001b[90m):     \u001b[39m\u001b[34m\u001b[1m0.100 ns             \u001b[22m\u001b[39m\u001b[90m┊\u001b[39m GC \u001b[90m(\u001b[39mmedian\u001b[90m):    \u001b[39m0.00%\n",
       " Time  \u001b[90m(\u001b[39m\u001b[32m\u001b[1mmean\u001b[22m\u001b[39m ± \u001b[32mσ\u001b[39m\u001b[90m):   \u001b[39m\u001b[32m\u001b[1m0.071 ns\u001b[22m\u001b[39m ± \u001b[32m0.047 ns\u001b[39m  \u001b[90m┊\u001b[39m GC \u001b[90m(\u001b[39mmean ± σ\u001b[90m):  \u001b[39m0.00% ± 0.00%\n",
       "\n",
       "  \u001b[39m \u001b[39m \u001b[39m \u001b[39m \u001b[39m \u001b[39m \u001b[39m \u001b[39m \u001b[39m \u001b[39m \u001b[39m \u001b[39m \u001b[39m \u001b[39m \u001b[39m \u001b[39m \u001b[39m \u001b[39m \u001b[39m \u001b[39m \u001b[39m \u001b[39m \u001b[39m \u001b[39m \u001b[39m \u001b[39m \u001b[39m \u001b[39m \u001b[39m \u001b[39m \u001b[39m \u001b[39m \u001b[39m \u001b[39m \u001b[39m \u001b[39m \u001b[39m \u001b[39m \u001b[39m \u001b[39m \u001b[32m \u001b[39m\u001b[39m \u001b[39m \u001b[39m \u001b[39m \u001b[39m \u001b[39m \u001b[39m \u001b[39m \u001b[39m \u001b[39m \u001b[39m \u001b[39m \u001b[39m \u001b[39m \u001b[39m \u001b[39m█\u001b[34m \u001b[39m\u001b[39m \n",
       "  \u001b[39m█\u001b[39m▁\u001b[39m▁\u001b[39m▁\u001b[39m▁\u001b[39m▁\u001b[39m▁\u001b[39m▁\u001b[39m▁\u001b[39m▁\u001b[39m▁\u001b[39m▁\u001b[39m▁\u001b[39m▁\u001b[39m▁\u001b[39m▁\u001b[39m▁\u001b[39m▁\u001b[39m▁\u001b[39m▁\u001b[39m▁\u001b[39m▁\u001b[39m▁\u001b[39m▁\u001b[39m▁\u001b[39m▁\u001b[39m▁\u001b[39m▁\u001b[39m▁\u001b[39m▁\u001b[39m▁\u001b[39m▁\u001b[39m▁\u001b[39m▁\u001b[39m▁\u001b[39m▁\u001b[39m▁\u001b[39m▁\u001b[39m▁\u001b[39m▁\u001b[32m▁\u001b[39m\u001b[39m▁\u001b[39m▁\u001b[39m▁\u001b[39m▁\u001b[39m▁\u001b[39m▁\u001b[39m▁\u001b[39m▁\u001b[39m▁\u001b[39m▁\u001b[39m▁\u001b[39m▁\u001b[39m▁\u001b[39m▁\u001b[39m▁\u001b[39m█\u001b[34m \u001b[39m\u001b[39m▂\n",
       "  0.001 ns\u001b[90m       Histogram: frequency by time\u001b[39m        0.1 ns \u001b[0m\u001b[1m<\u001b[22m\n",
       "\n",
       " Memory estimate\u001b[90m: \u001b[39m\u001b[33m0 bytes\u001b[39m, allocs estimate\u001b[90m: \u001b[39m\u001b[33m0\u001b[39m."
      ]
     },
     "execution_count": 37,
     "metadata": {},
     "output_type": "execute_result"
    }
   ],
   "source": [
    "f_kw01b(x, y=2, z=2) = x^y + x^z\n",
    "f_kw01b(1.5, 2, 3)\n",
    "@benchmark f_kw01b(1.5, 2, 3)"
   ]
  },
  {
   "cell_type": "markdown",
   "id": "81306193",
   "metadata": {},
   "source": [
    "两个版本性能相近， 可能是Julia做了优化。"
   ]
  },
  {
   "cell_type": "markdown",
   "id": "56272adf",
   "metadata": {},
   "source": [
    "# 基本计算"
   ]
  },
  {
   "cell_type": "markdown",
   "id": "23b87dfe",
   "metadata": {},
   "source": [
    "## 整数的表示与溢出"
   ]
  },
  {
   "cell_type": "markdown",
   "id": "850a95b4",
   "metadata": {},
   "source": [
    "Julia的数值直接使用硬件的数值表示。 **整数值的计算不进行溢出检查， 所以利用整数值计算时需要用户自己注意溢出问题**，如："
   ]
  },
  {
   "cell_type": "code",
   "execution_count": 38,
   "id": "7d09bad5",
   "metadata": {
    "ExecuteTime": {
     "end_time": "2022-06-01T19:23:09.473000+08:00",
     "start_time": "2022-06-01T11:21:41.359Z"
    }
   },
   "outputs": [
    {
     "data": {
      "text/plain": [
       "4611686018427387904"
      ]
     },
     "execution_count": 38,
     "metadata": {},
     "output_type": "execute_result"
    }
   ],
   "source": [
    "2^62"
   ]
  },
  {
   "cell_type": "code",
   "execution_count": 39,
   "id": "6691232b",
   "metadata": {
    "ExecuteTime": {
     "end_time": "2022-06-01T19:23:09.490000+08:00",
     "start_time": "2022-06-01T11:21:41.362Z"
    }
   },
   "outputs": [
    {
     "data": {
      "text/plain": [
       "-9223372036854775808"
      ]
     },
     "execution_count": 39,
     "metadata": {},
     "output_type": "execute_result"
    }
   ],
   "source": [
    "2^63"
   ]
  },
  {
   "cell_type": "markdown",
   "id": "b1b11caf",
   "metadata": {},
   "source": [
    "不进行溢出检查是为了程序效率必须付出的代价。\n",
    "\n",
    "如果确实有可能发生溢出， Int128可以保存更多位， 进一步可以改用浮点数Float64， 或者用无限位数的整数类型BigInt， BigInt效率会很差。 如"
   ]
  },
  {
   "cell_type": "code",
   "execution_count": 40,
   "id": "0a8b80de",
   "metadata": {
    "ExecuteTime": {
     "end_time": "2022-06-01T19:23:09.975000+08:00",
     "start_time": "2022-06-01T11:21:41.367Z"
    }
   },
   "outputs": [
    {
     "data": {
      "text/plain": [
       "9223372036854775808"
      ]
     },
     "execution_count": 40,
     "metadata": {},
     "output_type": "execute_result"
    }
   ],
   "source": [
    "BigInt(2)^63"
   ]
  },
  {
   "cell_type": "markdown",
   "id": "2979af2b",
   "metadata": {},
   "source": [
    "即使用BigInt()说明， 也仅是将输入转换成了无限精度整型， 转换之前的溢出是没有控制的，比如："
   ]
  },
  {
   "cell_type": "code",
   "execution_count": 41,
   "id": "b1daec14",
   "metadata": {
    "ExecuteTime": {
     "end_time": "2022-06-01T19:23:09.975000+08:00",
     "start_time": "2022-06-01T11:21:41.371Z"
    }
   },
   "outputs": [
    {
     "data": {
      "text/plain": [
       "-9223372036854775808"
      ]
     },
     "execution_count": 41,
     "metadata": {},
     "output_type": "execute_result"
    }
   ],
   "source": [
    "BigInt(2^63)"
   ]
  },
  {
   "cell_type": "markdown",
   "id": "bbaa1b62",
   "metadata": {},
   "source": [
    "要注意， 直接写的整数根据数字位数， 较短时为Int类型， 超过Int范围首先选用Int64和Int128， 超过Int128后自动认为是BigInt类型。 如："
   ]
  },
  {
   "cell_type": "code",
   "execution_count": 42,
   "id": "a85e0921",
   "metadata": {
    "ExecuteTime": {
     "end_time": "2022-06-01T19:23:10.426000+08:00",
     "start_time": "2022-06-01T11:21:41.375Z"
    }
   },
   "outputs": [
    {
     "data": {
      "text/plain": [
       "Int64"
      ]
     },
     "execution_count": 42,
     "metadata": {},
     "output_type": "execute_result"
    }
   ],
   "source": [
    "typeof(123456789012345678)"
   ]
  },
  {
   "cell_type": "code",
   "execution_count": 43,
   "id": "01502f94",
   "metadata": {
    "ExecuteTime": {
     "end_time": "2022-06-01T19:23:10.590000+08:00",
     "start_time": "2022-06-01T11:21:41.378Z"
    }
   },
   "outputs": [
    {
     "data": {
      "text/plain": [
       "Int128"
      ]
     },
     "execution_count": 43,
     "metadata": {},
     "output_type": "execute_result"
    }
   ],
   "source": [
    "typeof(12345678901234567890)"
   ]
  },
  {
   "cell_type": "code",
   "execution_count": 44,
   "id": "676e5fd7",
   "metadata": {
    "ExecuteTime": {
     "end_time": "2022-06-01T19:23:10.656000+08:00",
     "start_time": "2022-06-01T11:21:41.381Z"
    }
   },
   "outputs": [
    {
     "data": {
      "text/plain": [
       "BigInt"
      ]
     },
     "execution_count": 44,
     "metadata": {},
     "output_type": "execute_result"
    }
   ],
   "source": [
    "typeof(1234567890123456789012345678901234567890)"
   ]
  },
  {
   "cell_type": "markdown",
   "id": "f5606ebe",
   "metadata": {},
   "source": [
    "用parse(BigInt, \"...\")从字符串输入长整数，如"
   ]
  },
  {
   "cell_type": "code",
   "execution_count": 45,
   "id": "979e7c6e",
   "metadata": {
    "ExecuteTime": {
     "end_time": "2022-06-01T19:23:10.672000+08:00",
     "start_time": "2022-06-01T11:21:41.385Z"
    }
   },
   "outputs": [
    {
     "data": {
      "text/plain": [
       "12345678901234567890"
      ]
     },
     "execution_count": 45,
     "metadata": {},
     "output_type": "execute_result"
    }
   ],
   "source": [
    "parse(BigInt, \"12345678901234567890\")"
   ]
  },
  {
   "cell_type": "markdown",
   "id": "2c7f1c1f",
   "metadata": {},
   "source": [
    "## 浮点数"
   ]
  },
  {
   "cell_type": "markdown",
   "id": "e75c8fc6",
   "metadata": {},
   "source": [
    "现代的浮点数一般使用Float64格式， 并在内存中遵照IEEE754标准表示。 这样， 用Float64表示的浮点数可以高效地运算。\n",
    "\n",
    "为了获得更高精度的浮点数， 可以用BigFloat类型， 这不像BigInt那样可以有任意精度， 而是有较高精度， 精度与舍入方式可以用函数setprecision()和setrounding()全局性地设置。"
   ]
  },
  {
   "cell_type": "markdown",
   "id": "d627112e",
   "metadata": {},
   "source": [
    "# 数组处理"
   ]
  },
  {
   "cell_type": "markdown",
   "id": "b0b0c62f",
   "metadata": {},
   "source": [
    "科学计算， 包括统计建模、数据处理， 广泛使用数组、向量、矩阵运算， 计算中大量的时间都花费在对数组的处理上面。 需要构造高效的数组处理算法。"
   ]
  },
  {
   "cell_type": "markdown",
   "id": "a1800b4e",
   "metadata": {},
   "source": [
    "## 数组存储"
   ]
  },
  {
   "cell_type": "markdown",
   "id": "c65a45c8",
   "metadata": {},
   "source": [
    "数组通过指定元素类型为抽象类型可以保存不同类型的数组元素， 但是这样的数组就无法利用类型信息进行优化， 所以数组应尽可能保存同一种实在类型(concrete type)的元素。\n",
    "\n",
    "数组类型为Array{T, N}， 其中T为元素类型， 一般是实在类型， N是维数。 比如Array{Float64, 2}表示浮点数矩阵。 这种数组可以高效地存储与处理。 实在类型的数组一般可以在连续的内存中存储， 使得其遍历或者随机访问都很便捷。 而其它的动态语言如Python一般需要使用指针指向每个数组元素， 除特定的定制数组类型以外。 连续存储的数组比用指针访问的数组效率要高得多。\n",
    "\n",
    "Julia的多维数组当元素是基础类型时按照列优先原则保存， 比如矩阵的元素也在连续的内存中保存， 先保存第一列，再保存第二列，以此类推。 多维数组类似。\n",
    "\n",
    "在遍历多维数组时按照其存储次序遍历效率更高； 遍历一个矩阵时， 按照列次序遍历效率更高，如："
   ]
  },
  {
   "cell_type": "code",
   "execution_count": 46,
   "id": "afd6be28",
   "metadata": {
    "ExecuteTime": {
     "end_time": "2022-06-01T19:23:10.788000+08:00",
     "start_time": "2022-06-01T11:21:41.392Z"
    }
   },
   "outputs": [
    {
     "name": "stdout",
     "output_type": "stream",
     "text": [
      "(1, 1) -> 1\n",
      "(2, 1) -> 4\n",
      "(1, 2) -> 2\n",
      "(2, 2) -> 5\n",
      "(1, 3) -> 3\n",
      "(2, 3) -> 6\n"
     ]
    }
   ],
   "source": [
    "A = [1 2 3; 4 5 6]\n",
    "for j=1:size(A,2)\n",
    "    for i=1:size(A,1)\n",
    "        println(\"(\", i, \", \", j, \") -> \", A[i,j])\n",
    "    end\n",
    "end"
   ]
  },
  {
   "cell_type": "markdown",
   "id": "614210f6",
   "metadata": {
    "ExecuteTime": {
     "end_time": "2022-06-01T16:29:50.856000+08:00",
     "start_time": "2022-06-01T08:29:50.780Z"
    }
   },
   "source": [
    "或"
   ]
  },
  {
   "cell_type": "code",
   "execution_count": 47,
   "id": "95599fbd",
   "metadata": {
    "ExecuteTime": {
     "end_time": "2022-06-01T19:23:10.885000+08:00",
     "start_time": "2022-06-01T11:21:41.396Z"
    }
   },
   "outputs": [
    {
     "name": "stdout",
     "output_type": "stream",
     "text": [
      "(1, 1) -> 1\n",
      "(2, 1) -> 4\n",
      "(1, 2) -> 2\n",
      "(2, 2) -> 5\n",
      "(1, 3) -> 3\n",
      "(2, 3) -> 6\n"
     ]
    }
   ],
   "source": [
    "for j=1:size(A,2), i=1:size(A,1)\n",
    "    println(\"(\", i, \", \", j, \") -> \", A[i,j])\n",
    "end"
   ]
  },
  {
   "cell_type": "markdown",
   "id": "aa819b80",
   "metadata": {},
   "source": [
    "或"
   ]
  },
  {
   "cell_type": "code",
   "execution_count": 48,
   "id": "838a03be",
   "metadata": {
    "ExecuteTime": {
     "end_time": "2022-06-01T19:23:11.013000+08:00",
     "start_time": "2022-06-01T11:21:41.402Z"
    }
   },
   "outputs": [
    {
     "name": "stdout",
     "output_type": "stream",
     "text": [
      "1\n",
      "4\n",
      "2\n",
      "5\n",
      "3\n",
      "6\n"
     ]
    }
   ],
   "source": [
    "for i in eachindex(A)\n",
    "    println(A[i])\n",
    "end"
   ]
  },
  {
   "cell_type": "markdown",
   "id": "cf181d88",
   "metadata": {},
   "source": [
    "下面的例子演示了按列次序与按行次序遍历矩阵的效率差别。 按列遍历的例子："
   ]
  },
  {
   "cell_type": "code",
   "execution_count": 49,
   "id": "8b3593bd",
   "metadata": {
    "ExecuteTime": {
     "end_time": "2022-06-01T19:23:22.094000+08:00",
     "start_time": "2022-06-01T11:21:41.408Z"
    }
   },
   "outputs": [
    {
     "data": {
      "text/plain": [
       "BenchmarkTools.Trial: 2425 samples with 1 evaluation.\n",
       " Range \u001b[90m(\u001b[39m\u001b[36m\u001b[1mmin\u001b[22m\u001b[39m … \u001b[35mmax\u001b[39m\u001b[90m):  \u001b[39m\u001b[36m\u001b[1m1.294 ms\u001b[22m\u001b[39m … \u001b[35m  5.578 ms\u001b[39m  \u001b[90m┊\u001b[39m GC \u001b[90m(\u001b[39mmin … max\u001b[90m): \u001b[39m0.00% … 0.00%\n",
       " Time  \u001b[90m(\u001b[39m\u001b[34m\u001b[1mmedian\u001b[22m\u001b[39m\u001b[90m):     \u001b[39m\u001b[34m\u001b[1m1.948 ms               \u001b[22m\u001b[39m\u001b[90m┊\u001b[39m GC \u001b[90m(\u001b[39mmedian\u001b[90m):    \u001b[39m0.00%\n",
       " Time  \u001b[90m(\u001b[39m\u001b[32m\u001b[1mmean\u001b[22m\u001b[39m ± \u001b[32mσ\u001b[39m\u001b[90m):   \u001b[39m\u001b[32m\u001b[1m2.051 ms\u001b[22m\u001b[39m ± \u001b[32m660.544 μs\u001b[39m  \u001b[90m┊\u001b[39m GC \u001b[90m(\u001b[39mmean ± σ\u001b[90m):  \u001b[39m0.00% ± 0.00%\n",
       "\n",
       "  \u001b[39m▂\u001b[39m█\u001b[39m▄\u001b[39m \u001b[39m \u001b[39m \u001b[39m \u001b[39m \u001b[39m \u001b[39m \u001b[39m \u001b[39m \u001b[34m \u001b[39m\u001b[39m▁\u001b[32m \u001b[39m\u001b[39m \u001b[39m \u001b[39m \u001b[39m \u001b[39m \u001b[39m \u001b[39m \u001b[39m \u001b[39m \u001b[39m \u001b[39m \u001b[39m▄\u001b[39m \u001b[39m \u001b[39m \u001b[39m \u001b[39m \u001b[39m \u001b[39m \u001b[39m \u001b[39m \u001b[39m \u001b[39m \u001b[39m \u001b[39m \u001b[39m \u001b[39m \u001b[39m \u001b[39m \u001b[39m \u001b[39m \u001b[39m \u001b[39m \u001b[39m \u001b[39m \u001b[39m \u001b[39m \u001b[39m \u001b[39m \u001b[39m \u001b[39m \u001b[39m \u001b[39m \u001b[39m \u001b[39m \u001b[39m \n",
       "  \u001b[39m█\u001b[39m█\u001b[39m█\u001b[39m▇\u001b[39m▆\u001b[39m▄\u001b[39m▄\u001b[39m▅\u001b[39m▅\u001b[39m▇\u001b[39m▇\u001b[39m▇\u001b[34m▇\u001b[39m\u001b[39m█\u001b[32m▆\u001b[39m\u001b[39m▆\u001b[39m▄\u001b[39m▄\u001b[39m▄\u001b[39m▄\u001b[39m▅\u001b[39m▃\u001b[39m▃\u001b[39m▃\u001b[39m▃\u001b[39m█\u001b[39m█\u001b[39m▆\u001b[39m▄\u001b[39m▃\u001b[39m▂\u001b[39m▂\u001b[39m▂\u001b[39m▂\u001b[39m▃\u001b[39m▂\u001b[39m▃\u001b[39m▂\u001b[39m▂\u001b[39m▂\u001b[39m▂\u001b[39m▂\u001b[39m▂\u001b[39m▂\u001b[39m▁\u001b[39m▂\u001b[39m▂\u001b[39m▁\u001b[39m▁\u001b[39m▂\u001b[39m▂\u001b[39m▁\u001b[39m▁\u001b[39m▁\u001b[39m▁\u001b[39m▂\u001b[39m▁\u001b[39m▁\u001b[39m▃\u001b[39m \u001b[39m▃\n",
       "  1.29 ms\u001b[90m         Histogram: frequency by time\u001b[39m        4.57 ms \u001b[0m\u001b[1m<\u001b[22m\n",
       "\n",
       " Memory estimate\u001b[90m: \u001b[39m\u001b[33m16 bytes\u001b[39m, allocs estimate\u001b[90m: \u001b[39m\u001b[33m1\u001b[39m."
      ]
     },
     "execution_count": 49,
     "metadata": {},
     "output_type": "execute_result"
    }
   ],
   "source": [
    "function f_ar01(A)\n",
    "    s = zero(eltype(A))\n",
    "    for j=1:size(A,2), i=1:size(A,1)\n",
    "        s += A[i,j]^2\n",
    "        A[i,j] = s\n",
    "    end\n",
    "    return s\n",
    "end\n",
    "f_ar01(rand(2,2))\n",
    "A = rand(1_000,1_000)\n",
    "@benchmark f_ar01(A)"
   ]
  },
  {
   "cell_type": "markdown",
   "id": "6db0722a",
   "metadata": {},
   "source": [
    "按行遍历的例子:"
   ]
  },
  {
   "cell_type": "code",
   "execution_count": 50,
   "id": "694c7d74",
   "metadata": {
    "ExecuteTime": {
     "end_time": "2022-06-01T19:23:33.145000+08:00",
     "start_time": "2022-06-01T11:21:41.413Z"
    }
   },
   "outputs": [
    {
     "data": {
      "text/plain": [
       "BenchmarkTools.Trial: 1666 samples with 1 evaluation.\n",
       " Range \u001b[90m(\u001b[39m\u001b[36m\u001b[1mmin\u001b[22m\u001b[39m … \u001b[35mmax\u001b[39m\u001b[90m):  \u001b[39m\u001b[36m\u001b[1m2.171 ms\u001b[22m\u001b[39m … \u001b[35m  6.270 ms\u001b[39m  \u001b[90m┊\u001b[39m GC \u001b[90m(\u001b[39mmin … max\u001b[90m): \u001b[39m0.00% … 0.00%\n",
       " Time  \u001b[90m(\u001b[39m\u001b[34m\u001b[1mmedian\u001b[22m\u001b[39m\u001b[90m):     \u001b[39m\u001b[34m\u001b[1m2.775 ms               \u001b[22m\u001b[39m\u001b[90m┊\u001b[39m GC \u001b[90m(\u001b[39mmedian\u001b[90m):    \u001b[39m0.00%\n",
       " Time  \u001b[90m(\u001b[39m\u001b[32m\u001b[1mmean\u001b[22m\u001b[39m ± \u001b[32mσ\u001b[39m\u001b[90m):   \u001b[39m\u001b[32m\u001b[1m2.988 ms\u001b[22m\u001b[39m ± \u001b[32m706.787 μs\u001b[39m  \u001b[90m┊\u001b[39m GC \u001b[90m(\u001b[39mmean ± σ\u001b[90m):  \u001b[39m0.00% ± 0.00%\n",
       "\n",
       "  \u001b[39m \u001b[39m \u001b[39m \u001b[39m▄\u001b[39m▄\u001b[39m█\u001b[39m \u001b[39m \u001b[39m \u001b[39m \u001b[39m \u001b[39m \u001b[34m \u001b[39m\u001b[39m \u001b[39m \u001b[39m \u001b[32m \u001b[39m\u001b[39m \u001b[39m \u001b[39m \u001b[39m \u001b[39m \u001b[39m \u001b[39m \u001b[39m \u001b[39m \u001b[39m \u001b[39m \u001b[39m \u001b[39m \u001b[39m \u001b[39m \u001b[39m \u001b[39m \u001b[39m \u001b[39m \u001b[39m \u001b[39m \u001b[39m \u001b[39m \u001b[39m \u001b[39m \u001b[39m \u001b[39m \u001b[39m \u001b[39m \u001b[39m \u001b[39m \u001b[39m \u001b[39m \u001b[39m \u001b[39m \u001b[39m \u001b[39m \u001b[39m \u001b[39m \u001b[39m \u001b[39m \u001b[39m \u001b[39m \u001b[39m \n",
       "  \u001b[39m▆\u001b[39m▇\u001b[39m█\u001b[39m█\u001b[39m█\u001b[39m█\u001b[39m▆\u001b[39m▅\u001b[39m▄\u001b[39m▄\u001b[39m▃\u001b[39m▃\u001b[34m▄\u001b[39m\u001b[39m▃\u001b[39m▄\u001b[39m▅\u001b[32m▄\u001b[39m\u001b[39m▄\u001b[39m▄\u001b[39m▄\u001b[39m▃\u001b[39m▄\u001b[39m▄\u001b[39m▅\u001b[39m▄\u001b[39m▄\u001b[39m▄\u001b[39m▄\u001b[39m▃\u001b[39m▃\u001b[39m▄\u001b[39m▅\u001b[39m█\u001b[39m▄\u001b[39m▄\u001b[39m▄\u001b[39m▃\u001b[39m▃\u001b[39m▂\u001b[39m▃\u001b[39m▃\u001b[39m▂\u001b[39m▃\u001b[39m▂\u001b[39m▃\u001b[39m▂\u001b[39m▂\u001b[39m▃\u001b[39m▂\u001b[39m▂\u001b[39m▂\u001b[39m▂\u001b[39m▂\u001b[39m▂\u001b[39m▂\u001b[39m▂\u001b[39m▁\u001b[39m▂\u001b[39m▂\u001b[39m \u001b[39m▃\n",
       "  2.17 ms\u001b[90m         Histogram: frequency by time\u001b[39m         5.1 ms \u001b[0m\u001b[1m<\u001b[22m\n",
       "\n",
       " Memory estimate\u001b[90m: \u001b[39m\u001b[33m16 bytes\u001b[39m, allocs estimate\u001b[90m: \u001b[39m\u001b[33m1\u001b[39m."
      ]
     },
     "execution_count": 50,
     "metadata": {},
     "output_type": "execute_result"
    }
   ],
   "source": [
    "function f_ar01b(A)\n",
    "    s = zero(eltype(A))\n",
    "    for i=1:size(A,1), j=1:size(A,2)\n",
    "        s += A[i,j]^2\n",
    "        A[i,j] = s\n",
    "    end\n",
    "    return s\n",
    "end\n",
    "f_ar01b(rand(2,2))\n",
    "@benchmark f_ar01b(A)"
   ]
  },
  {
   "cell_type": "markdown",
   "id": "744f531c",
   "metadata": {},
   "source": [
    "在上面的例子中，按列遍历比按行遍历有明显的性能提升。"
   ]
  },
  {
   "cell_type": "markdown",
   "id": "738e291c",
   "metadata": {},
   "source": [
    "## 减少动态内存分配"
   ]
  },
  {
   "cell_type": "markdown",
   "id": "a7bc98dd",
   "metadata": {},
   "source": [
    "对于在循环内反复执行的代码， 应避免重复地分配内存， 而是预先分配内存。 对于以数组为输入和输出的自定义函数， 可以将函数的输出也作为函数自变量。\n",
    "\n",
    "如："
   ]
  },
  {
   "cell_type": "code",
   "execution_count": 51,
   "id": "0dcb8944",
   "metadata": {
    "ExecuteTime": {
     "end_time": "2022-06-01T19:23:44.131000+08:00",
     "start_time": "2022-06-01T11:21:41.418Z"
    }
   },
   "outputs": [
    {
     "data": {
      "text/plain": [
       "BenchmarkTools.Trial: 8332 samples with 1 evaluation.\n",
       " Range \u001b[90m(\u001b[39m\u001b[36m\u001b[1mmin\u001b[22m\u001b[39m … \u001b[35mmax\u001b[39m\u001b[90m):  \u001b[39m\u001b[36m\u001b[1m477.400 μs\u001b[22m\u001b[39m … \u001b[35m  2.979 ms\u001b[39m  \u001b[90m┊\u001b[39m GC \u001b[90m(\u001b[39mmin … max\u001b[90m): \u001b[39m0.00% … 28.75%\n",
       " Time  \u001b[90m(\u001b[39m\u001b[34m\u001b[1mmedian\u001b[22m\u001b[39m\u001b[90m):     \u001b[39m\u001b[34m\u001b[1m487.000 μs               \u001b[22m\u001b[39m\u001b[90m┊\u001b[39m GC \u001b[90m(\u001b[39mmedian\u001b[90m):    \u001b[39m0.00%\n",
       " Time  \u001b[90m(\u001b[39m\u001b[32m\u001b[1mmean\u001b[22m\u001b[39m ± \u001b[32mσ\u001b[39m\u001b[90m):   \u001b[39m\u001b[32m\u001b[1m596.945 μs\u001b[22m\u001b[39m ± \u001b[32m228.360 μs\u001b[39m  \u001b[90m┊\u001b[39m GC \u001b[90m(\u001b[39mmean ± σ\u001b[90m):  \u001b[39m2.32% ±  7.54%\n",
       "\n",
       "  \u001b[39m█\u001b[34m▄\u001b[39m\u001b[39m▃\u001b[39m▂\u001b[39m▁\u001b[39m \u001b[39m \u001b[39m▁\u001b[39m▃\u001b[32m \u001b[39m\u001b[39m \u001b[39m▁\u001b[39m \u001b[39m▃\u001b[39m▂\u001b[39m \u001b[39m \u001b[39m \u001b[39m \u001b[39m \u001b[39m▂\u001b[39m \u001b[39m \u001b[39m \u001b[39m \u001b[39m \u001b[39m \u001b[39m \u001b[39m \u001b[39m▂\u001b[39m▂\u001b[39m \u001b[39m \u001b[39m \u001b[39m \u001b[39m \u001b[39m \u001b[39m \u001b[39m \u001b[39m \u001b[39m \u001b[39m \u001b[39m▂\u001b[39m▄\u001b[39m▂\u001b[39m \u001b[39m \u001b[39m \u001b[39m \u001b[39m \u001b[39m \u001b[39m \u001b[39m \u001b[39m \u001b[39m \u001b[39m \u001b[39m \u001b[39m \u001b[39m \u001b[39m \u001b[39m \u001b[39m \u001b[39m▁\n",
       "  \u001b[39m█\u001b[34m█\u001b[39m\u001b[39m█\u001b[39m█\u001b[39m█\u001b[39m█\u001b[39m█\u001b[39m█\u001b[39m█\u001b[32m█\u001b[39m\u001b[39m▆\u001b[39m█\u001b[39m█\u001b[39m█\u001b[39m█\u001b[39m█\u001b[39m█\u001b[39m▆\u001b[39m▅\u001b[39m▆\u001b[39m█\u001b[39m█\u001b[39m▆\u001b[39m▆\u001b[39m▄\u001b[39m▅\u001b[39m█\u001b[39m▇\u001b[39m▇\u001b[39m█\u001b[39m█\u001b[39m▇\u001b[39m▇\u001b[39m▆\u001b[39m▆\u001b[39m▆\u001b[39m▅\u001b[39m▅\u001b[39m▃\u001b[39m▅\u001b[39m▃\u001b[39m▄\u001b[39m█\u001b[39m█\u001b[39m█\u001b[39m█\u001b[39m█\u001b[39m▇\u001b[39m▆\u001b[39m▅\u001b[39m▅\u001b[39m▅\u001b[39m▅\u001b[39m▅\u001b[39m▁\u001b[39m▄\u001b[39m▄\u001b[39m▄\u001b[39m▃\u001b[39m▄\u001b[39m▄\u001b[39m \u001b[39m█\n",
       "  477 μs\u001b[90m        \u001b[39m\u001b[90mHistogram: \u001b[39m\u001b[90m\u001b[1mlog(\u001b[22m\u001b[39m\u001b[90mfrequency\u001b[39m\u001b[90m\u001b[1m)\u001b[22m\u001b[39m\u001b[90m by time\u001b[39m       1.27 ms \u001b[0m\u001b[1m<\u001b[22m\n",
       "\n",
       " Memory estimate\u001b[90m: \u001b[39m\u001b[33m1.37 MiB\u001b[39m, allocs estimate\u001b[90m: \u001b[39m\u001b[33m10002\u001b[39m."
      ]
     },
     "execution_count": 51,
     "metadata": {},
     "output_type": "execute_result"
    }
   ],
   "source": [
    "function f_ar02(x, y, n)\n",
    "    local z\n",
    "    for i in 1:n\n",
    "        z = x + y\n",
    "    end\n",
    "    return z\n",
    "end\n",
    "f_ar02(rand(10), rand(10), 100)\n",
    "@benchmark f_ar02(rand(10), rand(10), 10_000)"
   ]
  },
  {
   "cell_type": "markdown",
   "id": "06178043",
   "metadata": {},
   "source": [
    "进行了许多次内存分配。预先分配z的内存："
   ]
  },
  {
   "cell_type": "code",
   "execution_count": 52,
   "id": "0024f341",
   "metadata": {
    "ExecuteTime": {
     "end_time": "2022-06-01T19:23:51.265000+08:00",
     "start_time": "2022-06-01T11:21:41.422Z"
    }
   },
   "outputs": [
    {
     "data": {
      "text/plain": [
       "BenchmarkTools.Trial: 10000 samples with 1 evaluation.\n",
       " Range \u001b[90m(\u001b[39m\u001b[36m\u001b[1mmin\u001b[22m\u001b[39m … \u001b[35mmax\u001b[39m\u001b[90m):  \u001b[39m\u001b[36m\u001b[1m100.500 μs\u001b[22m\u001b[39m … \u001b[35m581.000 μs\u001b[39m  \u001b[90m┊\u001b[39m GC \u001b[90m(\u001b[39mmin … max\u001b[90m): \u001b[39m0.00% … 0.00%\n",
       " Time  \u001b[90m(\u001b[39m\u001b[34m\u001b[1mmedian\u001b[22m\u001b[39m\u001b[90m):     \u001b[39m\u001b[34m\u001b[1m102.800 μs               \u001b[22m\u001b[39m\u001b[90m┊\u001b[39m GC \u001b[90m(\u001b[39mmedian\u001b[90m):    \u001b[39m0.00%\n",
       " Time  \u001b[90m(\u001b[39m\u001b[32m\u001b[1mmean\u001b[22m\u001b[39m ± \u001b[32mσ\u001b[39m\u001b[90m):   \u001b[39m\u001b[32m\u001b[1m118.504 μs\u001b[22m\u001b[39m ± \u001b[32m 38.757 μs\u001b[39m  \u001b[90m┊\u001b[39m GC \u001b[90m(\u001b[39mmean ± σ\u001b[90m):  \u001b[39m0.00% ± 0.00%\n",
       "\n",
       "  \u001b[39m█\u001b[34m▄\u001b[39m\u001b[39m▃\u001b[39m▁\u001b[39m▅\u001b[39m▂\u001b[39m▁\u001b[32m \u001b[39m\u001b[39m▅\u001b[39m▃\u001b[39m▁\u001b[39m \u001b[39m▃\u001b[39m▁\u001b[39m▁\u001b[39m \u001b[39m \u001b[39m \u001b[39m \u001b[39m \u001b[39m \u001b[39m \u001b[39m \u001b[39m \u001b[39m \u001b[39m \u001b[39m \u001b[39m \u001b[39m \u001b[39m \u001b[39m \u001b[39m \u001b[39m \u001b[39m \u001b[39m \u001b[39m \u001b[39m \u001b[39m \u001b[39m \u001b[39m \u001b[39m \u001b[39m \u001b[39m \u001b[39m \u001b[39m \u001b[39m \u001b[39m \u001b[39m▄\u001b[39m \u001b[39m▂\u001b[39m \u001b[39m \u001b[39m \u001b[39m \u001b[39m \u001b[39m \u001b[39m \u001b[39m \u001b[39m \u001b[39m \u001b[39m \u001b[39m \u001b[39m▂\n",
       "  \u001b[39m█\u001b[34m█\u001b[39m\u001b[39m█\u001b[39m█\u001b[39m█\u001b[39m█\u001b[39m█\u001b[32m█\u001b[39m\u001b[39m█\u001b[39m█\u001b[39m█\u001b[39m█\u001b[39m█\u001b[39m█\u001b[39m█\u001b[39m▇\u001b[39m▆\u001b[39m█\u001b[39m▇\u001b[39m█\u001b[39m▆\u001b[39m▅\u001b[39m▅\u001b[39m▇\u001b[39m▅\u001b[39m▅\u001b[39m▄\u001b[39m▃\u001b[39m▅\u001b[39m█\u001b[39m▇\u001b[39m▄\u001b[39m▄\u001b[39m▄\u001b[39m▃\u001b[39m▃\u001b[39m▄\u001b[39m▃\u001b[39m▁\u001b[39m▄\u001b[39m▁\u001b[39m▃\u001b[39m▁\u001b[39m▁\u001b[39m▃\u001b[39m▁\u001b[39m▃\u001b[39m█\u001b[39m▇\u001b[39m█\u001b[39m▇\u001b[39m▆\u001b[39m▅\u001b[39m▅\u001b[39m▃\u001b[39m▅\u001b[39m▄\u001b[39m▄\u001b[39m▅\u001b[39m▅\u001b[39m▅\u001b[39m \u001b[39m█\n",
       "  100 μs\u001b[90m        \u001b[39m\u001b[90mHistogram: \u001b[39m\u001b[90m\u001b[1mlog(\u001b[22m\u001b[39m\u001b[90mfrequency\u001b[39m\u001b[90m\u001b[1m)\u001b[22m\u001b[39m\u001b[90m by time\u001b[39m        254 μs \u001b[0m\u001b[1m<\u001b[22m\n",
       "\n",
       " Memory estimate\u001b[90m: \u001b[39m\u001b[33m432 bytes\u001b[39m, allocs estimate\u001b[90m: \u001b[39m\u001b[33m3\u001b[39m."
      ]
     },
     "execution_count": 52,
     "metadata": {},
     "output_type": "execute_result"
    }
   ],
   "source": [
    "function f_ar02b(x, y, n)\n",
    "    z = similar(x)\n",
    "    for i in 1:n\n",
    "        z .= x .+ y\n",
    "    end\n",
    "    return z\n",
    "end\n",
    "f_ar02b(rand(10), rand(10), 100)\n",
    "@benchmark f_ar02b(rand(10), rand(10), 10_000)"
   ]
  },
  {
   "cell_type": "markdown",
   "id": "e5166e5b",
   "metadata": {},
   "source": [
    "后一个版本基本没有动态分配内存， 效率提升几倍。"
   ]
  },
  {
   "cell_type": "markdown",
   "id": "b3852d58",
   "metadata": {},
   "source": [
    "## 用数组视图代替数组切片"
   ]
  },
  {
   "cell_type": "markdown",
   "id": "f8de4d66",
   "metadata": {},
   "source": [
    "设A为矩阵， A[:,j]表示A的第j列组成的一维数组（向量）， 这种子集访问称为数组切片（slice）。 对向量x的x[1:end-1]这样的子集也会制作副本（切片）。\n",
    "\n",
    "**切片的问题是， A[:,j]会制作第j列的一个副本**， 如果这个副本被反复多次访问， 而且未复制之前的内容在内存中没有连续存储， 复制的做法可以利用复制后连续存储快速访问的优点使得程序效率较高。 但是， 如果副本仅一次性使用， 或者数据子集本来已经是连续存储的， 复制操作会造成严重的性能损失。\n",
    "\n",
    "例如，如下的程序对矩阵求列和："
   ]
  },
  {
   "cell_type": "code",
   "execution_count": 53,
   "id": "7252be8a",
   "metadata": {
    "ExecuteTime": {
     "end_time": "2022-06-01T19:24:02.372000+08:00",
     "start_time": "2022-06-01T11:21:41.429Z"
    }
   },
   "outputs": [
    {
     "data": {
      "text/plain": [
       "BenchmarkTools.Trial: 817 samples with 1 evaluation.\n",
       " Range \u001b[90m(\u001b[39m\u001b[36m\u001b[1mmin\u001b[22m\u001b[39m … \u001b[35mmax\u001b[39m\u001b[90m):  \u001b[39m\u001b[36m\u001b[1m3.279 ms\u001b[22m\u001b[39m … \u001b[35m26.214 ms\u001b[39m  \u001b[90m┊\u001b[39m GC \u001b[90m(\u001b[39mmin … max\u001b[90m): \u001b[39m 0.00% … 46.40%\n",
       " Time  \u001b[90m(\u001b[39m\u001b[34m\u001b[1mmedian\u001b[22m\u001b[39m\u001b[90m):     \u001b[39m\u001b[34m\u001b[1m5.814 ms              \u001b[22m\u001b[39m\u001b[90m┊\u001b[39m GC \u001b[90m(\u001b[39mmedian\u001b[90m):    \u001b[39m 0.00%\n",
       " Time  \u001b[90m(\u001b[39m\u001b[32m\u001b[1mmean\u001b[22m\u001b[39m ± \u001b[32mσ\u001b[39m\u001b[90m):   \u001b[39m\u001b[32m\u001b[1m6.108 ms\u001b[22m\u001b[39m ± \u001b[32m 2.408 ms\u001b[39m  \u001b[90m┊\u001b[39m GC \u001b[90m(\u001b[39mmean ± σ\u001b[90m):  \u001b[39m18.45% ± 19.69%\n",
       "\n",
       "  \u001b[39m \u001b[39m▃\u001b[39m█\u001b[39m▃\u001b[39m▄\u001b[39m▃\u001b[39m▇\u001b[39m▁\u001b[39m \u001b[39m \u001b[39m \u001b[39m \u001b[39m \u001b[39m \u001b[39m \u001b[34m \u001b[39m\u001b[32m▁\u001b[39m\u001b[39m▃\u001b[39m▁\u001b[39m▁\u001b[39m▁\u001b[39m \u001b[39m \u001b[39m \u001b[39m \u001b[39m \u001b[39m \u001b[39m \u001b[39m \u001b[39m \u001b[39m \u001b[39m \u001b[39m \u001b[39m \u001b[39m \u001b[39m \u001b[39m \u001b[39m \u001b[39m \u001b[39m \u001b[39m \u001b[39m \u001b[39m \u001b[39m \u001b[39m \u001b[39m \u001b[39m \u001b[39m \u001b[39m \u001b[39m \u001b[39m \u001b[39m \u001b[39m \u001b[39m \u001b[39m \u001b[39m \u001b[39m \u001b[39m \u001b[39m \u001b[39m \n",
       "  \u001b[39m▇\u001b[39m█\u001b[39m█\u001b[39m█\u001b[39m█\u001b[39m█\u001b[39m█\u001b[39m█\u001b[39m█\u001b[39m▆\u001b[39m▅\u001b[39m▆\u001b[39m▆\u001b[39m▇\u001b[39m▇\u001b[34m▇\u001b[39m\u001b[32m█\u001b[39m\u001b[39m█\u001b[39m█\u001b[39m█\u001b[39m█\u001b[39m█\u001b[39m▆\u001b[39m▇\u001b[39m▄\u001b[39m▅\u001b[39m▅\u001b[39m▄\u001b[39m▄\u001b[39m▅\u001b[39m▅\u001b[39m▄\u001b[39m▅\u001b[39m▃\u001b[39m▃\u001b[39m▄\u001b[39m▄\u001b[39m▁\u001b[39m▃\u001b[39m▃\u001b[39m▃\u001b[39m▃\u001b[39m▃\u001b[39m▄\u001b[39m▃\u001b[39m▃\u001b[39m▄\u001b[39m▃\u001b[39m▃\u001b[39m▃\u001b[39m▂\u001b[39m▁\u001b[39m▁\u001b[39m▁\u001b[39m▂\u001b[39m▁\u001b[39m▁\u001b[39m▃\u001b[39m \u001b[39m▄\n",
       "  3.28 ms\u001b[90m        Histogram: frequency by time\u001b[39m        13.3 ms \u001b[0m\u001b[1m<\u001b[22m\n",
       "\n",
       " Memory estimate\u001b[90m: \u001b[39m\u001b[33m15.39 MiB\u001b[39m, allocs estimate\u001b[90m: \u001b[39m\u001b[33m1003\u001b[39m."
      ]
     },
     "execution_count": 53,
     "metadata": {},
     "output_type": "execute_result"
    }
   ],
   "source": [
    "function f_ar03(A)\n",
    "    nc = size(A,2)\n",
    "    map(j -> sum(A[:,j]), 1:nc)\n",
    "end\n",
    "f_ar03(rand(10,10))\n",
    "@benchmark f_ar03(rand(1000,1000))"
   ]
  },
  {
   "cell_type": "markdown",
   "id": "72505f49",
   "metadata": {},
   "source": [
    "上面的程序中用了许多次内存分配。\n",
    "\n",
    "在访问矩阵的一列时最好不制作副本而直接访问矩阵存储的该列。 在用到矩阵切片的代码前面冠以@views宏就可以达到此目的。如"
   ]
  },
  {
   "cell_type": "code",
   "execution_count": 54,
   "id": "f793cc8b",
   "metadata": {
    "ExecuteTime": {
     "end_time": "2022-06-01T19:24:13.580000+08:00",
     "start_time": "2022-06-01T11:21:41.433Z"
    }
   },
   "outputs": [
    {
     "data": {
      "text/plain": [
       "BenchmarkTools.Trial: 1325 samples with 1 evaluation.\n",
       " Range \u001b[90m(\u001b[39m\u001b[36m\u001b[1mmin\u001b[22m\u001b[39m … \u001b[35mmax\u001b[39m\u001b[90m):  \u001b[39m\u001b[36m\u001b[1m2.283 ms\u001b[22m\u001b[39m … \u001b[35m12.405 ms\u001b[39m  \u001b[90m┊\u001b[39m GC \u001b[90m(\u001b[39mmin … max\u001b[90m): \u001b[39m 0.00% … 60.70%\n",
       " Time  \u001b[90m(\u001b[39m\u001b[34m\u001b[1mmedian\u001b[22m\u001b[39m\u001b[90m):     \u001b[39m\u001b[34m\u001b[1m2.857 ms              \u001b[22m\u001b[39m\u001b[90m┊\u001b[39m GC \u001b[90m(\u001b[39mmedian\u001b[90m):    \u001b[39m 0.00%\n",
       " Time  \u001b[90m(\u001b[39m\u001b[32m\u001b[1mmean\u001b[22m\u001b[39m ± \u001b[32mσ\u001b[39m\u001b[90m):   \u001b[39m\u001b[32m\u001b[1m3.766 ms\u001b[22m\u001b[39m ± \u001b[32m 1.906 ms\u001b[39m  \u001b[90m┊\u001b[39m GC \u001b[90m(\u001b[39mmean ± σ\u001b[90m):  \u001b[39m18.45% ± 21.64%\n",
       "\n",
       "  \u001b[39m█\u001b[39m█\u001b[39m▄\u001b[39m▃\u001b[34m▃\u001b[39m\u001b[39m▄\u001b[39m▃\u001b[39m \u001b[39m▁\u001b[39m▃\u001b[32m▂\u001b[39m\u001b[39m▁\u001b[39m▁\u001b[39m \u001b[39m▂\u001b[39m \u001b[39m▅\u001b[39m▂\u001b[39m \u001b[39m \u001b[39m \u001b[39m \u001b[39m▂\u001b[39m▃\u001b[39m▁\u001b[39m \u001b[39m \u001b[39m \u001b[39m \u001b[39m \u001b[39m \u001b[39m \u001b[39m \u001b[39m \u001b[39m \u001b[39m \u001b[39m \u001b[39m \u001b[39m \u001b[39m \u001b[39m \u001b[39m \u001b[39m \u001b[39m \u001b[39m \u001b[39m \u001b[39m \u001b[39m \u001b[39m \u001b[39m \u001b[39m \u001b[39m \u001b[39m \u001b[39m \u001b[39m \u001b[39m \u001b[39m \u001b[39m \u001b[39m \u001b[39m \n",
       "  \u001b[39m█\u001b[39m█\u001b[39m█\u001b[39m█\u001b[34m█\u001b[39m\u001b[39m█\u001b[39m█\u001b[39m█\u001b[39m█\u001b[39m█\u001b[32m█\u001b[39m\u001b[39m█\u001b[39m█\u001b[39m▆\u001b[39m█\u001b[39m▇\u001b[39m█\u001b[39m█\u001b[39m█\u001b[39m▇\u001b[39m▄\u001b[39m█\u001b[39m█\u001b[39m█\u001b[39m█\u001b[39m█\u001b[39m█\u001b[39m▇\u001b[39m█\u001b[39m▇\u001b[39m▅\u001b[39m▅\u001b[39m▆\u001b[39m▅\u001b[39m▆\u001b[39m▅\u001b[39m▆\u001b[39m▁\u001b[39m▅\u001b[39m▄\u001b[39m▄\u001b[39m▄\u001b[39m▅\u001b[39m▆\u001b[39m▁\u001b[39m▅\u001b[39m▆\u001b[39m▄\u001b[39m▁\u001b[39m▅\u001b[39m▁\u001b[39m▅\u001b[39m▅\u001b[39m▅\u001b[39m▅\u001b[39m▄\u001b[39m▆\u001b[39m▆\u001b[39m \u001b[39m█\n",
       "  2.28 ms\u001b[90m      \u001b[39m\u001b[90mHistogram: \u001b[39m\u001b[90m\u001b[1mlog(\u001b[22m\u001b[39m\u001b[90mfrequency\u001b[39m\u001b[90m\u001b[1m)\u001b[22m\u001b[39m\u001b[90m by time\u001b[39m     11.1 ms \u001b[0m\u001b[1m<\u001b[22m\n",
       "\n",
       " Memory estimate\u001b[90m: \u001b[39m\u001b[33m7.64 MiB\u001b[39m, allocs estimate\u001b[90m: \u001b[39m\u001b[33m3\u001b[39m."
      ]
     },
     "execution_count": 54,
     "metadata": {},
     "output_type": "execute_result"
    }
   ],
   "source": [
    "function f_ar03b(A)\n",
    "    nc = size(A,2)\n",
    "    @views map(j -> sum(A[:,j]), 1:nc)\n",
    "end\n",
    "f_ar03b(rand(10,10))\n",
    "@benchmark f_ar03b(rand(1000,1000))"
   ]
  },
  {
   "cell_type": "markdown",
   "id": "2ed7e061",
   "metadata": {},
   "source": [
    "第二个版本的运行效率明显提升， 内存分配减半。"
   ]
  },
  {
   "cell_type": "markdown",
   "id": "16cb5397",
   "metadata": {},
   "source": [
    "## SIMD并行优化"
   ]
  },
  {
   "cell_type": "markdown",
   "id": "8a8caf05",
   "metadata": {},
   "source": [
    "在执行类似z[i] = x[i] + y[i]这样的向量对应元素运算时， 现代CPU提供了并行执行的SIMD指令， Julia可以自动分析代码对某些代码执行SIMD优化。 可以用@simd宏要求进行SIMD优化。 这样优化的循环必须是循环各步独立的， 循环体没有分支操作，循环次数固定， 下标是连续变化的。 如："
   ]
  },
  {
   "cell_type": "code",
   "execution_count": 55,
   "id": "5d5c12ae",
   "metadata": {
    "ExecuteTime": {
     "end_time": "2022-06-01T19:24:24.667000+08:00",
     "start_time": "2022-06-01T11:21:41.438Z"
    }
   },
   "outputs": [
    {
     "data": {
      "text/plain": [
       "BenchmarkTools.Trial: 607 samples with 1 evaluation.\n",
       " Range \u001b[90m(\u001b[39m\u001b[36m\u001b[1mmin\u001b[22m\u001b[39m … \u001b[35mmax\u001b[39m\u001b[90m):  \u001b[39m\u001b[36m\u001b[1m5.147 ms\u001b[22m\u001b[39m … \u001b[35m21.958 ms\u001b[39m  \u001b[90m┊\u001b[39m GC \u001b[90m(\u001b[39mmin … max\u001b[90m): \u001b[39m 0.00% … 49.81%\n",
       " Time  \u001b[90m(\u001b[39m\u001b[34m\u001b[1mmedian\u001b[22m\u001b[39m\u001b[90m):     \u001b[39m\u001b[34m\u001b[1m7.799 ms              \u001b[22m\u001b[39m\u001b[90m┊\u001b[39m GC \u001b[90m(\u001b[39mmedian\u001b[90m):    \u001b[39m 0.00%\n",
       " Time  \u001b[90m(\u001b[39m\u001b[32m\u001b[1mmean\u001b[22m\u001b[39m ± \u001b[32mσ\u001b[39m\u001b[90m):   \u001b[39m\u001b[32m\u001b[1m8.231 ms\u001b[22m\u001b[39m ± \u001b[32m 3.216 ms\u001b[39m  \u001b[90m┊\u001b[39m GC \u001b[90m(\u001b[39mmean ± σ\u001b[90m):  \u001b[39m16.83% ± 18.00%\n",
       "\n",
       "  \u001b[39m█\u001b[39m▃\u001b[39m▁\u001b[39m \u001b[39m▃\u001b[39m▁\u001b[39m▁\u001b[39m \u001b[39m▃\u001b[39m▁\u001b[39m \u001b[39m \u001b[34m▁\u001b[39m\u001b[39m \u001b[32m▁\u001b[39m\u001b[39m▅\u001b[39m▃\u001b[39m▁\u001b[39m▂\u001b[39m \u001b[39m \u001b[39m \u001b[39m \u001b[39m \u001b[39m \u001b[39m \u001b[39m▄\u001b[39m▁\u001b[39m \u001b[39m \u001b[39m \u001b[39m \u001b[39m \u001b[39m \u001b[39m \u001b[39m \u001b[39m \u001b[39m \u001b[39m \u001b[39m \u001b[39m \u001b[39m \u001b[39m \u001b[39m \u001b[39m \u001b[39m \u001b[39m \u001b[39m \u001b[39m \u001b[39m \u001b[39m \u001b[39m \u001b[39m \u001b[39m \u001b[39m \u001b[39m▁\u001b[39m \u001b[39m \u001b[39m \u001b[39m \n",
       "  \u001b[39m█\u001b[39m█\u001b[39m█\u001b[39m▇\u001b[39m█\u001b[39m█\u001b[39m█\u001b[39m█\u001b[39m█\u001b[39m█\u001b[39m▄\u001b[39m▇\u001b[34m█\u001b[39m\u001b[39m█\u001b[32m█\u001b[39m\u001b[39m█\u001b[39m█\u001b[39m█\u001b[39m█\u001b[39m█\u001b[39m▇\u001b[39m▆\u001b[39m▇\u001b[39m█\u001b[39m▅\u001b[39m▇\u001b[39m█\u001b[39m█\u001b[39m█\u001b[39m▆\u001b[39m▅\u001b[39m▅\u001b[39m▇\u001b[39m▄\u001b[39m▄\u001b[39m▆\u001b[39m▁\u001b[39m▄\u001b[39m▄\u001b[39m▅\u001b[39m▆\u001b[39m▅\u001b[39m▅\u001b[39m▆\u001b[39m▄\u001b[39m▄\u001b[39m▄\u001b[39m▁\u001b[39m▁\u001b[39m▁\u001b[39m▁\u001b[39m▁\u001b[39m▇\u001b[39m▅\u001b[39m▁\u001b[39m█\u001b[39m▅\u001b[39m▄\u001b[39m \u001b[39m▇\n",
       "  5.15 ms\u001b[90m      \u001b[39m\u001b[90mHistogram: \u001b[39m\u001b[90m\u001b[1mlog(\u001b[22m\u001b[39m\u001b[90mfrequency\u001b[39m\u001b[90m\u001b[1m)\u001b[22m\u001b[39m\u001b[90m by time\u001b[39m       18 ms \u001b[0m\u001b[1m<\u001b[22m\n",
       "\n",
       " Memory estimate\u001b[90m: \u001b[39m\u001b[33m15.26 MiB\u001b[39m, allocs estimate\u001b[90m: \u001b[39m\u001b[33m4\u001b[39m."
      ]
     },
     "execution_count": 55,
     "metadata": {},
     "output_type": "execute_result"
    }
   ],
   "source": [
    "function f_ar04!(z, x, y)\n",
    "    n = length(x)\n",
    "    for i=1:n\n",
    "        z[i] = x[i] + y[i]\n",
    "    end\n",
    "    return nothing\n",
    "end\n",
    "z = zeros(10)\n",
    "f_ar04!(z, rand(10), rand(10))\n",
    "z = zeros(1_000_000)\n",
    "@benchmark f_ar04!(z, rand(1_000_000), rand(1_000_000))"
   ]
  },
  {
   "cell_type": "markdown",
   "id": "a8e44709",
   "metadata": {},
   "source": [
    "SIMD优化版本："
   ]
  },
  {
   "cell_type": "code",
   "execution_count": 56,
   "id": "093b0016",
   "metadata": {
    "ExecuteTime": {
     "end_time": "2022-06-01T19:24:35.804000+08:00",
     "start_time": "2022-06-01T11:21:41.441Z"
    }
   },
   "outputs": [
    {
     "data": {
      "text/plain": [
       "BenchmarkTools.Trial: 570 samples with 1 evaluation.\n",
       " Range \u001b[90m(\u001b[39m\u001b[36m\u001b[1mmin\u001b[22m\u001b[39m … \u001b[35mmax\u001b[39m\u001b[90m):  \u001b[39m\u001b[36m\u001b[1m5.353 ms\u001b[22m\u001b[39m … \u001b[35m19.099 ms\u001b[39m  \u001b[90m┊\u001b[39m GC \u001b[90m(\u001b[39mmin … max\u001b[90m): \u001b[39m 0.00% … 39.63%\n",
       " Time  \u001b[90m(\u001b[39m\u001b[34m\u001b[1mmedian\u001b[22m\u001b[39m\u001b[90m):     \u001b[39m\u001b[34m\u001b[1m9.063 ms              \u001b[22m\u001b[39m\u001b[90m┊\u001b[39m GC \u001b[90m(\u001b[39mmedian\u001b[90m):    \u001b[39m 0.00%\n",
       " Time  \u001b[90m(\u001b[39m\u001b[32m\u001b[1mmean\u001b[22m\u001b[39m ± \u001b[32mσ\u001b[39m\u001b[90m):   \u001b[39m\u001b[32m\u001b[1m8.762 ms\u001b[22m\u001b[39m ± \u001b[32m 3.181 ms\u001b[39m  \u001b[90m┊\u001b[39m GC \u001b[90m(\u001b[39mmean ± σ\u001b[90m):  \u001b[39m17.62% ± 18.56%\n",
       "\n",
       "  \u001b[39m█\u001b[39m▅\u001b[39m▂\u001b[39m▁\u001b[39m \u001b[39m \u001b[39m▄\u001b[39m \u001b[39m \u001b[39m \u001b[39m \u001b[39m▂\u001b[39m \u001b[39m \u001b[39m \u001b[39m \u001b[39m \u001b[39m \u001b[32m \u001b[39m\u001b[34m▅\u001b[39m\u001b[39m▄\u001b[39m▂\u001b[39m \u001b[39m▆\u001b[39m▄\u001b[39m \u001b[39m \u001b[39m \u001b[39m \u001b[39m \u001b[39m \u001b[39m \u001b[39m \u001b[39m \u001b[39m \u001b[39m \u001b[39m \u001b[39m \u001b[39m \u001b[39m \u001b[39m \u001b[39m \u001b[39m \u001b[39m \u001b[39m \u001b[39m \u001b[39m \u001b[39m \u001b[39m \u001b[39m \u001b[39m \u001b[39m \u001b[39m \u001b[39m \u001b[39m \u001b[39m \u001b[39m \u001b[39m▂\u001b[39m \u001b[39m \n",
       "  \u001b[39m█\u001b[39m█\u001b[39m█\u001b[39m█\u001b[39m█\u001b[39m█\u001b[39m█\u001b[39m█\u001b[39m▄\u001b[39m▇\u001b[39m█\u001b[39m█\u001b[39m▇\u001b[39m█\u001b[39m▄\u001b[39m▇\u001b[39m▄\u001b[39m█\u001b[32m█\u001b[39m\u001b[34m█\u001b[39m\u001b[39m█\u001b[39m█\u001b[39m▇\u001b[39m█\u001b[39m█\u001b[39m▅\u001b[39m▆\u001b[39m▅\u001b[39m█\u001b[39m█\u001b[39m▇\u001b[39m▅\u001b[39m▄\u001b[39m▇\u001b[39m▄\u001b[39m▁\u001b[39m▄\u001b[39m█\u001b[39m▁\u001b[39m▄\u001b[39m▅\u001b[39m▄\u001b[39m▁\u001b[39m▅\u001b[39m▅\u001b[39m█\u001b[39m▄\u001b[39m▅\u001b[39m▅\u001b[39m▄\u001b[39m▄\u001b[39m▅\u001b[39m▅\u001b[39m█\u001b[39m▇\u001b[39m▆\u001b[39m█\u001b[39m█\u001b[39m \u001b[39m▇\n",
       "  5.35 ms\u001b[90m      \u001b[39m\u001b[90mHistogram: \u001b[39m\u001b[90m\u001b[1mlog(\u001b[22m\u001b[39m\u001b[90mfrequency\u001b[39m\u001b[90m\u001b[1m)\u001b[22m\u001b[39m\u001b[90m by time\u001b[39m     16.6 ms \u001b[0m\u001b[1m<\u001b[22m\n",
       "\n",
       " Memory estimate\u001b[90m: \u001b[39m\u001b[33m15.26 MiB\u001b[39m, allocs estimate\u001b[90m: \u001b[39m\u001b[33m4\u001b[39m."
      ]
     },
     "execution_count": 56,
     "metadata": {},
     "output_type": "execute_result"
    }
   ],
   "source": [
    "function f_ar04b!(z, x, y)\n",
    "    n = length(x)\n",
    "    @inbounds @simd for i=1:n\n",
    "        z[i] = x[i] + y[i]\n",
    "    end\n",
    "    return nothing\n",
    "end\n",
    "z = zeros(10)\n",
    "f_ar04b!(z, rand(10), rand(10))\n",
    "z = zeros(1_000_000)\n",
    "@benchmark f_ar04b!(z, rand(1_000_000), rand(1_000_000))"
   ]
  },
  {
   "cell_type": "markdown",
   "id": "86824e5d",
   "metadata": {},
   "source": [
    "性能没有变化，可能是编译器本身已经包含了足够的优化。"
   ]
  },
  {
   "cell_type": "markdown",
   "id": "5de65a4e",
   "metadata": {},
   "source": [
    "## 数组遍历"
   ]
  },
  {
   "cell_type": "markdown",
   "id": "03006aa5",
   "metadata": {},
   "source": [
    "在编写以数组为输入的函数时， 实际输入的数组可能是稠密数组、稀疏数组、数组的视图等。 这样，用单个下标遍历有可能降低性能。 数组一般提供eachindex()函数可以用来高效地线性遍历数组元素。"
   ]
  },
  {
   "cell_type": "markdown",
   "id": "072916e6",
   "metadata": {},
   "source": [
    "# 并行计算"
   ]
  },
  {
   "cell_type": "markdown",
   "id": "10453024",
   "metadata": {},
   "source": [
    "Julia语言中直接提供了对并行计算的支持。 因为并行计算与硬件密切相关， 所以这些功能在不同运行环境中有些能发挥作用而有些受限。 **目前在非用户干预的情况下Julia还是单线程计算**， 例外是输入输出是非同步的， 一些内建的计算库如OpenBlas能够利用多线程。 为了实现并行计算需要用户自己调用并行计算功能。\n",
    "统计计算中有大量重复计算可以利用并行计算加速， 尤其是随机模拟问题，比较适合用并行计算。\n",
    "\n",
    "有一些问题可以不依赖于语言支持而并行执行， 比如， 一个模型的随机模拟研究， 往往需要对模型设置许多组真实参数， 然后对每一组真实参数产生许多批次的样本进行模型估计。 这样， 可以运行多个非交互的Julia程序， 每个程序中使用不同的参数模拟， 最后汇总结果。 这样做的好处是不需要了解并行计算， 缺点是需要人为地开始多组程序， 当某些组任务完成时再人为地开始新的任务。 当每个任务耗时都很长， 比如若干个小时的时候， 这样的方法还是可行的。\n",
    "\n",
    "**最简单的并行运算是单一计算机的多个CPU核心(kernels或threads)同时独立地对一个数组的不同部分计算， 进一步还可以将若干台计算机组成集群(cluster)并行运行。 在统计中随机模拟经常需要对多个独立样本并行地执行一些计算， 这种情况下利用Julia的并行能力是有意义的， 即使单个计算机的4个核心同时运行能够将模拟速度提高一倍也是有意义的**。\n",
    "\n",
    "Julia的**Distributed包**是标准库的一部分， 提供了这样的功能， 实际上是在不同核心、不同CPU、不同计算机上执行单独的进程， 称这样的每个进程为一个工作进程或者节点。\n",
    "\n",
    "Julia提供了coroutine功能， 也是一种并行机制， 离散系统模拟SimJulia就是利用这种机制。\n",
    "\n",
    "Julia的Base.Threads包试验性地提供了多线程功能， 功能尚未成熟。"
   ]
  },
  {
   "cell_type": "code",
   "execution_count": null,
   "id": "0b8f2365",
   "metadata": {},
   "outputs": [],
   "source": []
  }
 ],
 "metadata": {
  "hide_input": false,
  "kernelspec": {
   "display_name": "Julia 1.7.3",
   "language": "julia",
   "name": "julia-1.7"
  },
  "language_info": {
   "file_extension": ".jl",
   "mimetype": "application/julia",
   "name": "julia",
   "version": "1.7.3"
  },
  "nbTranslate": {
   "displayLangs": [
    "*"
   ],
   "hotkey": "alt-t",
   "langInMainMenu": true,
   "sourceLang": "en",
   "targetLang": "fr",
   "useGoogleTranslate": true
  },
  "toc": {
   "base_numbering": 1,
   "nav_menu": {},
   "number_sections": true,
   "sideBar": true,
   "skip_h1_title": false,
   "title_cell": "Table of Contents",
   "title_sidebar": "Contents",
   "toc_cell": false,
   "toc_position": {
    "height": "calc(100% - 180px)",
    "left": "10px",
    "top": "150px",
    "width": "307.2px"
   },
   "toc_section_display": true,
   "toc_window_display": true
  },
  "varInspector": {
   "cols": {
    "lenName": 16,
    "lenType": 16,
    "lenVar": 40
   },
   "kernels_config": {
    "python": {
     "delete_cmd_postfix": "",
     "delete_cmd_prefix": "del ",
     "library": "var_list.py",
     "varRefreshCmd": "print(var_dic_list())"
    },
    "r": {
     "delete_cmd_postfix": ") ",
     "delete_cmd_prefix": "rm(",
     "library": "var_list.r",
     "varRefreshCmd": "cat(var_dic_list()) "
    }
   },
   "types_to_exclude": [
    "module",
    "function",
    "builtin_function_or_method",
    "instance",
    "_Feature"
   ],
   "window_display": false
  }
 },
 "nbformat": 4,
 "nbformat_minor": 5
}
