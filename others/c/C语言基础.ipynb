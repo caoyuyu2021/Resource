{
 "cells": [
  {
   "cell_type": "markdown",
   "id": "d3824771",
   "metadata": {},
   "source": [
    "<font face=\"微软雅黑\" color=green size=5>C语言基础</font>"
   ]
  },
  {
   "cell_type": "markdown",
   "id": "e1e85e8b",
   "metadata": {},
   "source": [
    "# C语言初探"
   ]
  },
  {
   "cell_type": "markdown",
   "id": "9669f65d",
   "metadata": {},
   "source": [
    "## 编译（Compile）"
   ]
  },
  {
   "cell_type": "markdown",
   "id": "cb0b435d",
   "metadata": {},
   "source": [
    "C语言代码由固定的词汇按照固定的格式组织起来，简单直观，程序员容易识别和理解，但是对于CPU，C语言代码就是天书，根本不认识，CPU只认识几百个二进制形式的指令。这就需要一个工具，将C语言代码转换成CPU能够识别的二进制指令，也就是将代码加工成 .exe 程序的格式；这个工具是一个特殊的软件，叫做**编译器（Compiler）**。"
   ]
  },
  {
   "cell_type": "markdown",
   "id": "8fd59b5a",
   "metadata": {},
   "source": [
    "编译器能够识别代码中的词汇、句子以及各种特定的格式，并将他们转换成计算机能够识别的二进制形式，这个过程称为**编译（Compile）**。"
   ]
  },
  {
   "cell_type": "markdown",
   "id": "17933a7f",
   "metadata": {},
   "source": [
    "C语言的编译器有很多种，不同的平台下有不同的编译器，例如：  \n",
    "- Windows 下常用的是微软开发的 Visual C++，它被集成在 Visual Studio 中，一般不单独使用； \n",
    "- Linux 下常用的是 GUN 组织开发的 GCC，很多 Linux 发行版都自带 GCC；  \n",
    "- Mac 下常用的是 LLVM/Clang，它被集成在 Xcode 中（Xcode 以前集成的是 GCC，后来由于 GCC 的不配合才改为 LLVM/Clang，LLVM/Clang 的性能比 GCC 更加强大）。"
   ]
  },
  {
   "cell_type": "markdown",
   "id": "d093d96e",
   "metadata": {},
   "source": [
    "## 链接（Link）"
   ]
  },
  {
   "cell_type": "markdown",
   "id": "44cfb1ff",
   "metadata": {},
   "source": [
    "C语言代码经过编译以后，并没有生成最终的可执行文件（.exe 文件），而是生成了一种叫做目标文件（Object File）的中间文件（或者说临时文件）。目标文件也是二进制形式的，它和可执行文件的格式是一样的。对于 Visual C++，目标文件的后缀是.obj；对于 GCC，目标文件的后缀是.o。\n",
    "\n",
    "目标文件经过链接（Link）以后才能变成可执行文件。既然目标文件和可执行文件的格式是一样的，为什么还要再链接一次呢，直接作为可执行文件不行吗？\n",
    "\n",
    "不行的！因为编译只是将我们自己写的代码变成了二进制形式，它还需要和系统组件（比如标准库、动态链接库等）结合起来，这些组件都是程序运行所必须的。\n",
    "\n",
    "链接（Link）其实就是一个“打包”的过程，它将所有二进制形式的目标文件和系统组件组合成一个可执行文件。完成链接的过程也需要一个特殊的软件，叫做**链接器（Linker）**。"
   ]
  },
  {
   "cell_type": "markdown",
   "id": "32b4e070",
   "metadata": {},
   "source": [
    "**总结**"
   ]
  },
  {
   "cell_type": "markdown",
   "id": "e5085f34",
   "metadata": {},
   "source": [
    "不管我们编写的代码有多么简单，都必须经过「编译 --> 链接」的过程才能生成可执行文件：  \n",
    "- 编译就是将我们编写的源代码“翻译”成计算机可以识别的二进制格式，它们以目标文件的形式存在；  \n",
    "- 链接就是一个“打包”的过程，它将所有的目标文件以及系统组件组合成一个可执行文件。  "
   ]
  },
  {
   "cell_type": "markdown",
   "id": "e1f3fd3f",
   "metadata": {},
   "source": [
    "## IDE"
   ]
  },
  {
   "cell_type": "markdown",
   "id": "af84566c",
   "metadata": {},
   "source": [
    "实际开发中，除了编译器是必须的工具，我们往往还需要很多其他辅助软件，例如：\n",
    "- 编辑器：用来编写代码，并且给代码着色，以方便阅读；\n",
    "- 代码提示器：输入部分代码，即可提示全部代码，加速代码的编写过程；\n",
    "- 调试器：观察程序的每一个运行步骤，发现程序的逻辑错误；\n",
    "- 项目管理工具：对程序涉及到的所有资源进行管理，包括源文件、图片、视频、第三方库等；\n",
    "- 漂亮的界面：各种按钮、面板、菜单、窗口等控件整齐排布，操作更方便。\n",
    "\n",
    "这些工具通常被打包在一起，统一发布和安装，例如 Visual Studio、Dev C++、Xcode、Visual C++ 6.0、C-Free、Code::Blocks 等，它们统称为**集成开发环境（IDE，Integrated Development Environment）**。"
   ]
  },
  {
   "cell_type": "markdown",
   "id": "e3b1b832",
   "metadata": {},
   "source": [
    "## 自定义函数和main函数"
   ]
  },
  {
   "cell_type": "markdown",
   "id": "75b60af5",
   "metadata": {},
   "source": [
    "C语言自带的函数称为库函数（Library Function）。库（Library）是编程中的一个基本概念，可以简单地认为它是一些列函数的集合，在磁盘上往往是一个文件夹。C语言自带的库称为标准库（Standard Library），其他公司或个人开发的库称为第三方库（Third-Party Library）。"
   ]
  },
  {
   "cell_type": "markdown",
   "id": "fac4e4d0",
   "metadata": {},
   "source": [
    "除了库函数，我们还可以编写自己的函数，拓展程序的功能。自己编写的函数称为自定义函数。"
   ]
  },
  {
   "cell_type": "markdown",
   "id": "08dccf25",
   "metadata": {},
   "source": [
    "C语言规定，一个程序必须有且只有一个 main 函数。main 被称为主函数，是程序的入口函数，程序运行时从 main 函数开始，直到 main 函数结束（遇到 return 或者执行到函数末尾时，函数才结束）。"
   ]
  },
  {
   "cell_type": "markdown",
   "id": "34ac250b",
   "metadata": {},
   "source": [
    "## 头文件的概念"
   ]
  },
  {
   "cell_type": "markdown",
   "id": "81103afa",
   "metadata": {},
   "source": [
    "C语言开发者们编写了很多常用函数，并分门别类的放在了不同的文件，这些文件就称为头文件（header file）。每个头文件中都包含了若干个功能类似的函数，调用某个函数时，要引入对应的头文件，否则编译器找不到函数。"
   ]
  },
  {
   "cell_type": "markdown",
   "id": "6d9ad823",
   "metadata": {},
   "source": [
    "引入头文件使用#include命令，并将文件名放在< >中，#include 和 < > 之间可以有空格，也可以没有。\n",
    "\n",
    "头文件以.h为后缀，而C语言代码文件以.c为后缀，它们都是文本文件，没有本质上的区别，#include 命令的作用也仅仅是将头文件中的文本复制到当前文件，然后和当前文件一起编译。你可以尝试将头文件中的内容复制到当前文件，那样也可以不引入头文件。"
   ]
  },
  {
   "cell_type": "markdown",
   "id": "fa09bc7e",
   "metadata": {},
   "source": [
    "# 内存"
   ]
  },
  {
   "cell_type": "markdown",
   "id": "b30f9b63",
   "metadata": {},
   "source": [
    "## 数据在内存中的存储"
   ]
  },
  {
   "cell_type": "markdown",
   "id": "6324de58",
   "metadata": {},
   "source": [
    "内存条是一个非常精密的部件，包含了上亿个电子元器件，它们很小，达到了纳米级别。这些元器件，实际上就是电路；电路的电压会变化，要么是 0V，要么是 5V，只有这两种电压。5V 是通电，用1来表示，0V 是断电，用0来表示。所以，一个元器件有2种状态，0 或者 1。  \n",
    "\n",
    "我们通过电路来控制这些元器件的通断电，会得到很多0、1的组合。例如，8个元器件有 28=256 种不同的组合，16个元器件有 216=65536 种不同的组合。虽然一个元器件只能表示2个数值，但是多个结合起来就可以表示很多数值了。  \n",
    "\n",
    "一般情况下我们不一个一个的使用元器件，而是将8个元器件看做一个单位，即使表示很小的数，例如 1，也需要8个，也就是 00000001。  \n",
    "\n",
    "1个元器件称为1比特（Bit）或1位，8个元器件称为1字节（Byte），那么16个元器件就是2Byte，32个就是4Byte，以此类推：  \n",
    "- 8×1024个元器件就是1024Byte，简写为1KB；\n",
    "- 8×1024×1024个元器件就是1024KB，简写为1MB；\n",
    "- 8×1024×1024×1024个元器件就是1024MB，简写为1GB。"
   ]
  },
  {
   "cell_type": "markdown",
   "id": "defc7530",
   "metadata": {},
   "source": [
    "单位换算：\n",
    "- 1Byte = 8 Bit\n",
    "- 1KB = 1024Byte = 210Byte\n",
    "- 1MB = 1024KB = 220Byte\n",
    "- 1GB = 1024MB = 230Byte\n",
    "- 1TB = 1024GB = 240Byte\n",
    "- 1PB = 1024TB = 250Byte\n",
    "- 1EB = 1024PB = 260Byte"
   ]
  },
  {
   "cell_type": "markdown",
   "id": "9d7ceb55",
   "metadata": {},
   "source": [
    "## 载入内存"
   ]
  },
  {
   "cell_type": "markdown",
   "id": "af5581d7",
   "metadata": {},
   "source": [
    "对于读写速度，内存 > 固态硬盘 > 机械硬盘。机械硬盘是靠电机带动盘片转动来读写数据的，而内存条通过电路来读写数据，电机的转速肯定没有电的传输速度（几乎是光速）快。虽然固态硬盘也是通过电路来读写数据，但是因为与内存的控制方式不一样，速度也不及内存。  \n",
    "\n",
    "所以，不管是运行QQ还是编辑Word文档，都是先将硬盘上的数据复制到内存，才能让CPU来处理，这个过程就叫作载入内存（Load into Memory）。完成这个过程需要一个特殊的程序（软件），这个程序就叫做加载器（Loader）。  \n",
    "\n",
    "CPU直接与内存打交道，它会读取内存中的数据进行处理，并将结果保存到内存。如果需要保存到硬盘，才会将内存中的数据复制到硬盘。"
   ]
  },
  {
   "cell_type": "markdown",
   "id": "c60b3240",
   "metadata": {},
   "source": [
    "## 虚拟内存"
   ]
  },
  {
   "cell_type": "markdown",
   "id": "7a39af0e",
   "metadata": {},
   "source": [
    "如果我们运行的程序较多，占用的空间就会超过内存（内存条）容量。例如计算机的内存容量为2G，却运行着10个程序，这10个程序共占用3G的空间，也就意味着需要从硬盘复制 3G 的数据到内存，这显然是不可能的。  \n",
    "\n",
    "操作系统（Operating System，简称 OS）为我们解决了这个问题：当程序运行需要的空间大于内存容量时，会将内存中暂时不用的数据再写回硬盘；需要这些数据时再从硬盘中读取，并将另外一部分不用的数据写入硬盘。这样，硬盘中就会有一部分空间用来存放内存中暂时不用的数据。这一部分空间就叫做虚拟内存（Virtual Memory）。"
   ]
  },
  {
   "cell_type": "markdown",
   "id": "62153d9f",
   "metadata": {},
   "source": [
    "# 指针"
   ]
  },
  {
   "cell_type": "markdown",
   "id": "aca47ff0",
   "metadata": {},
   "source": [
    "## 一切都是地址"
   ]
  },
  {
   "cell_type": "markdown",
   "id": "e3e43481",
   "metadata": {},
   "source": [
    "计算机中所有的数据都必须放在内存中，不同类型的数据占用的字节数不一样，例如 int 占用 4 个字节，char 占用 1 个字节。为了正确地访问这些数据，必须为每个字节都编上号码，就像门牌号、身份证号一样，每个字节的编号是唯一的，根据编号可以准确地找到某个字节。  \n",
    "\n",
    "我们将内存中字节的编号称为地址（Address）或指针（Pointer）。地址从 0 开始依次增加，对于 32 位环境，程序能够使用的内存为 4GB，最小的地址为 0，最大的地址为 0XFFFFFFFF。  \n",
    "\n",
    "C语言用变量来存储数据，用函数来定义一段可以重复使用的代码，它们最终都要放到内存中才能供 CPU 使用。  \n",
    "\n",
    "数据和代码都以二进制的形式存储在内存中，计算机无法从格式上区分某块内存到底存储的是数据还是代码。当程序被加载到内存后，操作系统会给不同的内存块指定不同的权限，拥有读取和执行权限的内存块就是代码，而拥有读取和写入权限（也可能只有读取权限）的内存块就是数据。  \n",
    "\n",
    "CPU 只能通过地址来取得内存中的代码和数据，程序在执行过程中会告知 CPU 要执行的代码以及要读写的数据的地址。如果程序不小心出错，或者开发者有意为之，在 CPU 要写入数据时给它一个代码区域的地址，就会发生内存访问错误。这种内存访问错误会被硬件和操作系统拦截，强制程序崩溃，程序员没有挽救的机会。  \n",
    "\n",
    "**CPU 访问内存时需要的是地址，而不是变量名和函数名！变量名和函数名只是地址的一种助记符，当源文件被编译和链接成可执行程序后，它们都会被替换成地址。编译和链接过程的一项重要任务就是找到这些名称所对应的地址。**   \n",
    "\n",
    "需要注意的是，虽然变量名、函数名、字符串名和数组名在本质上是一样的，它们都是地址的助记符，但在编写代码的过程中，我们认为变量名表示的是数据本身，而函数名、字符串名和数组名表示的是代码块或数据块的首地址。\n"
   ]
  },
  {
   "cell_type": "markdown",
   "id": "a0e3bb9c",
   "metadata": {},
   "source": [
    "## 指针变量的定义和使用"
   ]
  },
  {
   "cell_type": "markdown",
   "id": "6feab568",
   "metadata": {},
   "source": [
    "数据在内存中的地址也称为指针，如果一个变量存储了一份数据的指针，我们就称它为指针变量。  \n",
    "\n",
    "在C语言中，允许用一个变量来存放指针，这种变量称为指针变量。指针变量的值就是某份数据的地址，这样的一份数据可以是数组、字符串、函数，也可以是另外的一个普通变量或指针变量。"
   ]
  },
  {
   "cell_type": "markdown",
   "id": "ec9c0aad",
   "metadata": {},
   "source": [
    "### 定义指针变量"
   ]
  },
  {
   "cell_type": "markdown",
   "id": "d51d1608",
   "metadata": {},
   "source": [
    "定义指针变量与定义普通变量非常类似，不过要在变量名前面加星号\\*，格式为：  \n",
    "`datatype *name;`  \n",
    "或者  \n",
    "`datatype *name = value;`  \n",
    "\\*表示这是一个指针变量，datatype表示该指针变量所指向的数据的类型 。例如：  \n",
    "`int *p1;`  \n",
    "p1 是一个指向 int 类型数据的指针变量，至于 p1 究竟指向哪一份数据，应该由赋予它的值决定。再如：  \n",
    "`int a = 100;`  \n",
    "`int *p_a = &a;`  \n",
    "在定义指针变量 p_a 的同时对它进行初始化，并将变量 a 的地址赋予它，此时 p_a 就指向了 a。值得注意的是，p_a 需要的是一个地址，a 前面必须要加取地址符&，否则是不对的。"
   ]
  },
  {
   "cell_type": "markdown",
   "id": "9600bf47",
   "metadata": {},
   "source": [
    "指针变量也可以连续定义，例如：  \n",
    "`int *a, *b, *c;`  //a、b、c 的类型都是 int*  \n",
    "注意每个变量前面都要带*。如果写成下面的形式，那么只有 a 是指针变量，b、c 都是类型为 int 的普通变量：  \n",
    "`int *a, b, c;`"
   ]
  },
  {
   "cell_type": "markdown",
   "id": "4fbd8fde",
   "metadata": {},
   "source": [
    "### 通过指针变量取得数据"
   ]
  },
  {
   "cell_type": "markdown",
   "id": "2145d858",
   "metadata": {},
   "source": [
    "指针变量存储了数据的地址，通过指针变量能够获得该地址上的数据，格式为：  \n",
    "`*pointer;`  \n",
    "这里的\\*称为指针运算符，用来取得某个地址上的数据。  "
   ]
  },
  {
   "cell_type": "markdown",
   "id": "618eb674",
   "metadata": {},
   "source": [
    "假设 a 的地址是 0X1000，p 指向 a 后，p 本身的值也会变为 0X1000，\\*p 表示获取地址 0X1000 上的数据，也即变量 a 的值。"
   ]
  },
  {
   "cell_type": "markdown",
   "id": "a5939c4f",
   "metadata": {},
   "source": [
    "使用指针是间接获取数据，使用变量名是直接获取数据，前者比后者的代价要高。"
   ]
  },
  {
   "cell_type": "markdown",
   "id": "67b7dac3",
   "metadata": {},
   "source": [
    "\\*在不同的场景下有不同的作用：\\*可以用在指针变量的定义中，表明这是一个指针变量，以和普通变量区分开；使用指针变量时在前面加\\*表示获取指针指向的数据，或者说表示的是指针指向的数据本身。  \n",
    "\n",
    "也就是说，定义指针变量时的\\*和使用指针变量时的\\*意义完全不同。以下面的语句为例：  \n",
    "`int *p = &a;`  \n",
    "`*p = 100;`  \n",
    "第1行代码中\\*用来指明 p 是一个指针变量，第2行代码中\\*用来获取指针指向的数据。  \n",
    "\n",
    "需要注意的是，给指针变量本身赋值时不能加\\*。修改上面的语句：  \n",
    "`int *p;`  \n",
    "`p = &a;`  \n",
    "`*p = 100;`  \n",
    "第2行代码中的 p 前面就不能加\\*。"
   ]
  },
  {
   "cell_type": "markdown",
   "id": "154c7dbd",
   "metadata": {},
   "source": [
    "### 对星号\\*的总结"
   ]
  },
  {
   "cell_type": "markdown",
   "id": "6872cf82",
   "metadata": {},
   "source": [
    "在我们目前所学到的语法中，星号\\*主要有三种用途：  \n",
    "- 表示乘法，例如`int a = 3, b = 5, c;  c = a * b;`，这是最容易理解的。  \n",
    "- 表示定义一个指针变量，以和普通变量区分开，例如`int a = 100;  int *p = &a;`。  \n",
    "- 表示获取指针指向的数据，是一种间接操作，例如`int a, b, *p = &a;  *p = 100;  b = *p;`。  "
   ]
  },
  {
   "cell_type": "markdown",
   "id": "61964e21",
   "metadata": {},
   "source": [
    "### C语言数组指针"
   ]
  },
  {
   "cell_type": "markdown",
   "id": "8123fc14",
   "metadata": {},
   "source": [
    "数组（Array）是一系列具有相同类型的数据的集合，每一份数据叫做一个数组元素（Element）。数组中的所有元素在内存中是连续排列的，整个数组占用的是一块内存。  \n",
    "定义数组时，要给出数组名和数组长度，数组名可以认为是一个指针，它指向数组的第 0 个元素。在C语言中，我们将第 0 个元素的地址称为数组的**首地址**。"
   ]
  },
  {
   "cell_type": "markdown",
   "id": "e99017db",
   "metadata": {},
   "source": [
    "如果一个指针指向了数组，我们就称它为数组指针（Array Pointer）。  \n",
    "\n",
    "数组指针指向的是数组中的一个具体元素，而不是整个数组，所以数组指针的类型和数组元素的类型有关。  \n",
    "\n",
    "引入数组指针后，我们就有两种方案来访问数组元素了，一种是使用下标，另外一种是使用指针。\n",
    "1) 使用下标\n",
    "也就是采用 arr[i] 的形式访问数组元素。如果 p 是指向数组 arr 的指针，那么也可以使用 p[i] 来访问数组元素，它等价于 arr[i]。\n",
    "2) 使用指针\n",
    "也就是使用 \\*(p+i) 的形式访问数组元素。另外数组名本身也是指针，也可以使用 \\*(arr+i) 来访问数组元素，它等价于 \\*(p+i)。\n",
    "\n",
    "不管是数组名还是数组指针，都可以使用上面的两种方式来访问数组元素。不同的是，数组名是常量，它的值不能改变，而数组指针是变量（除非特别指明它是常量），它的值可以任意改变。也就是说，数组名只能指向数组的开头，而数组指针可以先指向数组开头，再指向其他元素。"
   ]
  },
  {
   "cell_type": "markdown",
   "id": "148b732f",
   "metadata": {},
   "source": [
    "### 指针变量作为函数参数"
   ]
  },
  {
   "cell_type": "markdown",
   "id": "756b7ac1",
   "metadata": {},
   "source": [
    "在C语言中，函数的参数不仅可以是整数、小数、字符等具体的数据，还可以是指向它们的指针。用指针变量作函数参数可以将函数外部的地址传递到函数内部，使得在函数内部可以操作函数外部的数据，并且这些数据不会随着函数的结束而被销毁。  \n",
    "\n",
    "像数组、字符串、动态分配的内存等都是一系列数据的集合，没有办法通过一个参数全部传入函数内部，只能传递它们的指针，在函数内部通过指针来影响这些数据集合。  \n",
    "\n",
    "数组是一系列数据的集合，无法通过参数将它们一次性传递到函数内部，如果希望在函数内部操作数组，必须传递数组指针。  \n",
    "\n",
    "C语言为什么不允许直接传递数组的所有元素，而必须传递数组指针呢？  \n",
    "\n",
    "**参数的传递本质上是一次赋值的过程，赋值就是对内存进行拷贝。所谓内存拷贝，是指将一块内存上的数据复制到另一块内存上。**  \n",
    "\n",
    "对于像 int、float、char 等基本类型的数据，它们占用的内存往往只有几个字节，对它们进行内存拷贝非常快速。而数组是一系列数据的集合，数据的数量没有限制，可能很少，也可能成千上万，对它们进行内存拷贝有可能是一个漫长的过程，会严重拖慢程序的效率，为了防止技艺不佳的程序员写出低效的代码，C语言没有从语法上支持数据集合的直接赋值。"
   ]
  },
  {
   "cell_type": "markdown",
   "id": "56e522ab",
   "metadata": {},
   "source": [
    "## 总结"
   ]
  },
  {
   "cell_type": "markdown",
   "id": "32f84052",
   "metadata": {},
   "source": [
    "1) 指针变量可以进行加减运算，例如p++、p+i、p-=i。指针变量的加减运算并不是简单的加上或减去一个整数，而是跟指针指向的数据类型有关。\n",
    "\n",
    "2) 给指针变量赋值时，要将一份数据的地址赋给它，不能直接赋给一个整数，例如int \\*p = 1000;是没有意义的，使用过程中一般会导致程序崩溃。\n",
    "\n",
    "3) 使用指针变量之前一定要初始化，否则就不能确定指针指向哪里，如果它指向的内存没有使用权限，程序就崩溃了。对于暂时没有指向的指针，建议赋值NULL。\n",
    "\n",
    "4) 两个指针变量可以相减。如果两个指针变量指向同一个数组中的某个元素，那么相减的结果就是两个指针之间相差的元素个数。\n",
    "\n",
    "5) 数组也是有类型的，数组名的本意是表示一组类型相同的数据。在定义数组时，或者和 sizeof、& 运算符一起使用时数组名才表示整个数组，表达式中的数组名会被转换为一个指向数组的指针。"
   ]
  },
  {
   "cell_type": "markdown",
   "id": "88451244",
   "metadata": {},
   "source": [
    "# 函数"
   ]
  },
  {
   "cell_type": "markdown",
   "id": "3f61f7d0",
   "metadata": {},
   "source": [
    "## 无参函数的定义"
   ]
  },
  {
   "cell_type": "markdown",
   "id": "2307f71a",
   "metadata": {},
   "source": [
    "如果函数不接收用户传递的数据，那么定义时可以不带参数。如下所示："
   ]
  },
  {
   "cell_type": "raw",
   "id": "18a5a34a",
   "metadata": {},
   "source": [
    "dataType  functionName(){\n",
    "    //body\n",
    "}"
   ]
  },
  {
   "cell_type": "markdown",
   "id": "95761459",
   "metadata": {},
   "source": [
    "- dataType 是返回值类型，它可以是C语言中的任意数据类型，例如 int、float、char 等。\n",
    "- functionName 是函数名，它是标识符的一种，命名规则和标识符相同。函数名后面的括号( )不能少。\n",
    "- body 是函数体，它是函数需要执行的代码，是函数的主体部分。即使只有一个语句，函数体也要由{ }包围。\n",
    "- 如果有返回值，在函数体中使用 return 语句返回。return 出来的数据的类型要和 dataType 一样。"
   ]
  },
  {
   "cell_type": "markdown",
   "id": "27598d70",
   "metadata": {},
   "source": [
    "main 是函数定义，不是函数调用。当可执行文件加载到内存后，系统从 main 函数开始执行，也就是说，系统会调用我们定义的 main 函数。"
   ]
  },
  {
   "cell_type": "markdown",
   "id": "d30699c4",
   "metadata": {},
   "source": [
    "### 无返回值函数"
   ]
  },
  {
   "cell_type": "markdown",
   "id": "625d6f11",
   "metadata": {},
   "source": [
    "有的函数不需要返回值，或者返回值类型不确定（很少见），那么可以用 void 表示，例如："
   ]
  },
  {
   "cell_type": "raw",
   "id": "6bbb470b",
   "metadata": {},
   "source": [
    "void hello(){\n",
    "    printf (\"Hello,world \\n\");\n",
    "    //没有返回值就不需要 return 语句\n",
    "}"
   ]
  },
  {
   "cell_type": "markdown",
   "id": "bf13d924",
   "metadata": {},
   "source": [
    "## 有参函数的定义"
   ]
  },
  {
   "cell_type": "markdown",
   "id": "2038ae68",
   "metadata": {},
   "source": [
    "如果函数需要接收用户传递的数据，那么定义时就要带上参数。如下所示："
   ]
  },
  {
   "cell_type": "raw",
   "id": "e4338ba7",
   "metadata": {},
   "source": [
    "dataType  functionName( dataType1 param1, dataType2 param2 ... ){\n",
    "    //body\n",
    "}"
   ]
  },
  {
   "cell_type": "markdown",
   "id": "89f3f07b",
   "metadata": {},
   "source": [
    "`dataType1 param1, dataType2 param2 ...`是参数列表。函数可以只有一个参数，也可以有多个，多个参数之间由,分隔。参数本质上也是变量，定义时要指明类型和名称。与无参函数的定义相比，有参函数的定义仅仅是多了一个参数列表。  \n",
    "\n",
    "数据通过参数传递到函数内部进行处理，处理完成以后再通过返回值告知函数外部。  \n",
    "\n",
    "函数定义时给出的参数称为形式参数，简称形参；函数调用时给出的参数（也就是传递的数据）称为实际参数，简称实参。函数调用时，将实参的值传递给形参，相当于一次赋值操作。  \n",
    "\n",
    "原则上讲，实参的类型和数目要与形参保持一致。如果能够进行自动类型转换，或者进行了强制类型转换，那么实参类型也可以不同于形参类型，例如将 int 类型的实参传递给 float 类型的形参就会发生自动类型转换。"
   ]
  },
  {
   "cell_type": "markdown",
   "id": "f964b9ff",
   "metadata": {},
   "source": [
    "## 函数不能嵌套定义"
   ]
  },
  {
   "cell_type": "markdown",
   "id": "86183456",
   "metadata": {},
   "source": [
    "C语言不允许函数嵌套定义；也就是说，不能在一个函数中定义另外一个函数，必须在所有函数之外定义另外一个函数。main() 也是一个函数定义，也不能在 main() 函数内部定义新函数。"
   ]
  },
  {
   "cell_type": "markdown",
   "id": "b6e6b806",
   "metadata": {},
   "source": [
    "## 内置函数"
   ]
  },
  {
   "cell_type": "markdown",
   "id": "d1f2c2f4",
   "metadata": {},
   "source": [
    "### 字符串拼接"
   ]
  },
  {
   "cell_type": "markdown",
   "id": "cb92e94e",
   "metadata": {},
   "source": [
    "#### strcat"
   ]
  },
  {
   "cell_type": "raw",
   "id": "4c6ecd60",
   "metadata": {},
   "source": [
    "#include <stdio.h>\n",
    "#include <stdlib.h>\n",
    "#include <string.h>\n",
    "\n",
    "int main() {\n",
    "    char *firstName = \"Theo\";\n",
    "    char *lastName = \"Tsao\";\n",
    "    char *name = (char *) malloc(strlen(firstName) + strlen(lastName));\n",
    "    strcpy(name, firstName); // 把firstName复制到name中\n",
    "    strcat(name, lastName); // 把lastName追加到name中\n",
    "    printf(\"%s\\n\", name);\n",
    "    return 0;\n",
    "}"
   ]
  },
  {
   "cell_type": "markdown",
   "id": "b3169821",
   "metadata": {},
   "source": [
    "#### sprintf"
   ]
  },
  {
   "cell_type": "raw",
   "id": "7d6dc041",
   "metadata": {},
   "source": [
    "#include <stdio.h>\n",
    "#include <stdlib.h>\n",
    "#include <string.h>\n",
    "\n",
    "int main() {\n",
    "    char *firstName = \"Theo\";\n",
    "    char *lastName = \"Tsao\";\n",
    "    char *name = (char *) malloc(strlen(firstName) + strlen(lastName));\n",
    "    // 发送格式化输出到name指定的字符串\n",
    "    sprintf(name, \"%s%s\", firstName, lastName); \n",
    "    printf(\"%s\\n\", name);\n",
    "    return 0;\n",
    "}"
   ]
  },
  {
   "cell_type": "markdown",
   "id": "9b6cd50a",
   "metadata": {},
   "source": [
    "### 数据类型转换"
   ]
  },
  {
   "cell_type": "markdown",
   "id": "a95c5464",
   "metadata": {},
   "source": [
    "把int转换为float类型有两种办法：\n",
    "-  `int a;(float)a;`\n",
    "-  `int a;a*1.0;`"
   ]
  },
  {
   "cell_type": "markdown",
   "id": "52430163",
   "metadata": {},
   "source": [
    "#### atof"
   ]
  },
  {
   "cell_type": "markdown",
   "id": "92fa24ba",
   "metadata": {},
   "source": [
    "可以把字符串（字符数组）转成float。"
   ]
  },
  {
   "cell_type": "markdown",
   "id": "91f68a86",
   "metadata": {},
   "source": [
    "#### atoi"
   ]
  },
  {
   "cell_type": "markdown",
   "id": "17bf6816",
   "metadata": {},
   "source": [
    "可以把字符串（字符数组）转成int。"
   ]
  },
  {
   "cell_type": "markdown",
   "id": "4ef215de",
   "metadata": {},
   "source": [
    "#### itoa"
   ]
  },
  {
   "cell_type": "markdown",
   "id": "29687280",
   "metadata": {},
   "source": [
    "可以把int转成字符串。"
   ]
  },
  {
   "cell_type": "markdown",
   "id": "f78aa8df",
   "metadata": {},
   "source": [
    "# 预处理命令"
   ]
  },
  {
   "cell_type": "markdown",
   "id": "f2a2dda2",
   "metadata": {},
   "source": [
    "使用库函数之前，应该用#include引入对应的头文件。这种以#号开头的命令称为预处理命令。  \n",
    "\n",
    "预处理主要是处理以#开头的命令，例如#include <stdio.h>等。预处理命令要放在所有函数之外，而且一般都放在源文件的前面。  \n",
    "\n",
    "预处理是C语言的一个重要功能，由预处理程序完成。当对一个源文件进行编译时，系统将自动调用预处理程序对源程序中的预处理部分作处理，处理完毕自动进入对源程序的编译。  \n",
    "\n",
    "编译器会将预处理的结果保存到和源文件同名的.i文件中，例如 main.c 的预处理结果在 main.i 中。和.c一样，.i也是文本文件，可以用编辑器打开直接查看内容。"
   ]
  },
  {
   "cell_type": "markdown",
   "id": "613b6e33",
   "metadata": {},
   "source": [
    "## #include的用法详解"
   ]
  },
  {
   "cell_type": "markdown",
   "id": "945c2500",
   "metadata": {},
   "source": [
    "#include叫做文件包含命令，用来引入对应的头文件（.h文件）。#include 也是C语言预处理命令的一种。  \n",
    "\n",
    "#include 的处理过程很简单，就是将头文件的内容插入到该命令所在的位置，从而把头文件和当前源文件连接成一个源文件，这与复制粘贴的效果相同。  \n",
    "\n",
    "#include 的用法有两种，如下所示："
   ]
  },
  {
   "cell_type": "raw",
   "id": "82f21aa2",
   "metadata": {},
   "source": [
    "#include <stdHeader.h>\n",
    "#include \"myHeader.h\""
   ]
  },
  {
   "cell_type": "markdown",
   "id": "396f0997",
   "metadata": {},
   "source": [
    "使用尖括号< >和双引号\" \"的区别在于头文件的搜索路径不同：  \n",
    "使用尖括号< >，编译器会到系统路径下查找头文件；  \n",
    "而使用双引号\" \"，编译器首先在当前目录下查找头文件，如果没有找到，再到系统路径下查找。  \n",
    "\n",
    "也就是说，使用双引号比使用尖括号多了一个查找路径，它的功能更为强大。"
   ]
  },
  {
   "cell_type": "markdown",
   "id": "096c0b67",
   "metadata": {},
   "source": [
    "关于 #include 用法的注意事项：  \n",
    "- 一个 #include 命令只能包含一个头文件，多个头文件需要多个 #include 命令。  \n",
    "- 同一个头文件可以被多次引入，多次引入的效果和一次引入的效果相同，因为头文件在代码层面有防止重复引入的机制。  \n",
    "- 文件包含允许嵌套，也就是说在一个被包含的文件中又可以包含另一个文件。"
   ]
  },
  {
   "cell_type": "markdown",
   "id": "a2a679d2",
   "metadata": {},
   "source": [
    "## 宏定义"
   ]
  },
  {
   "cell_type": "markdown",
   "id": "2fa05ec0",
   "metadata": {},
   "source": [
    "#define 叫做宏定义命令，它也是C语言预处理命令的一种。所谓宏定义，就是用一个标识符来表示一个字符串，如果在后面的代码中出现了该标识符，那么就全部替换成指定的字符串。"
   ]
  },
  {
   "cell_type": "markdown",
   "id": "a9ec8638",
   "metadata": {},
   "source": [
    "宏定义是由源程序中的宏定义命令#define完成的，宏替换是由预处理程序完成的。  \n",
    "\n",
    "宏定义的一般形式为：  \n",
    "`#define  宏名  字符串`  \n",
    "\n",
    "#表示这是一条预处理命令，所有的预处理命令都以 # 开头。宏名是标识符的一种，命名规则和变量相同。字符串可以是数字、表达式、if 语句、函数等。\n",
    "这里所说的字符串是一般意义上的字符序列，不要和C语言中的字符串等同，它不需要双引号。"
   ]
  },
  {
   "cell_type": "markdown",
   "id": "322910ae",
   "metadata": {},
   "source": [
    "**对 #define 用法的几点说明**\n",
    "1) 宏定义是用宏名来表示一个字符串，在宏展开时又以该字符串取代宏名，这只是一种简单粗暴的替换。字符串中可以含任何字符，它可以是常数、表达式、if 语句、函数等，预处理程序对它不作任何检查，如有错误，只能在编译已被宏展开后的源程序时发现。\n",
    "\n",
    "2) 宏定义不是说明或语句，在行末不必加分号，如加上分号则连分号也一起替换。\n",
    "\n",
    "3) 宏定义必须写在函数之外，其作用域为宏定义命令起到源程序结束。如要终止其作用域可使用#undef命令。\n",
    "4) 代码中的宏名如果被引号包围，那么预处理程序不对其作宏代替。\n",
    "5) 宏定义允许嵌套，在宏定义的字符串中可以使用已经定义的宏名，在宏展开时由预处理程序层层代换。\n",
    "6) 习惯上宏名用大写字母表示，以便于与变量区别。但也允许用小写字母。\n",
    "7) 可用宏定义表示数据类型，使书写方便。"
   ]
  },
  {
   "cell_type": "markdown",
   "id": "ab3ccdd6",
   "metadata": {},
   "source": [
    "## 带参数的宏定义"
   ]
  },
  {
   "cell_type": "markdown",
   "id": "b6aff0bc",
   "metadata": {},
   "source": [
    "C语言允许宏带有参数。在宏定义中的参数称为“形式参数”，在宏调用中的参数称为“实际参数”，这点和函数有些类似。  \n",
    "\n",
    "对带参数的宏，在展开过程中不仅要进行字符串替换，还要用实参去替换形参。  \n",
    "\n",
    "带参宏定义的一般形式为：  \n",
    "`#define 宏名(形参列表) 字符串` \n",
    "\n",
    "在字符串中可以含有各个形参。  \n",
    "\n",
    "带参宏调用的一般形式为：  \n",
    "`宏名(实参列表); ` "
   ]
  },
  {
   "cell_type": "markdown",
   "id": "e0016d9c",
   "metadata": {},
   "source": [
    "# 结构体"
   ]
  },
  {
   "cell_type": "markdown",
   "id": "4e685491",
   "metadata": {},
   "source": [
    "数组（Array）是一组具有相同类型的数据的集合。但在实际的编程过程中，我们往往还需要一组类型不同的数据，例如对于学生信息登记表，姓名为字符串，学号为整数，年龄为整数，所在的学习小组为字符，成绩为小数，因为数据类型不同，显然不能用一个数组来存放。  \n",
    "\n",
    "在C语言中，可以使用**结构体（Struct）来存放一组不同类型的数据**。结构体的定义形式为："
   ]
  },
  {
   "cell_type": "raw",
   "id": "832dd3a1",
   "metadata": {},
   "source": [
    "struct 结构体名{\n",
    "    结构体所包含的变量或数组\n",
    "};"
   ]
  },
  {
   "cell_type": "markdown",
   "id": "1fc68e80",
   "metadata": {},
   "source": [
    "结构体是一种集合，它里面包含了多个变量或数组，它们的类型可以相同，也可以不同，每个这样的变量或数组都称为结构体的成员（Member）。注意大括号后面的分号;不能少，这是一条完整的语句。"
   ]
  },
  {
   "cell_type": "markdown",
   "id": "19e3e3a9",
   "metadata": {},
   "source": [
    "像 int、float、char 等是由C语言本身提供的数据类型，不能再进行分拆，我们称之为**基本数据类型**；而结构体可以包含多个基本类型的数据，也可以包含其他的结构体，我们将它称为**复杂数据类型**或**构造数据类型**。"
   ]
  },
  {
   "cell_type": "markdown",
   "id": "4f2b44c6",
   "metadata": {},
   "source": [
    "## 结构体变量"
   ]
  },
  {
   "cell_type": "raw",
   "id": "479abf3c",
   "metadata": {},
   "source": [
    "struct stu{\n",
    "    char *name;  //姓名\n",
    "    int num;  //学号\n",
    "    int age;  //年龄\n",
    "    char group;  //所在学习小组\n",
    "    float score;  //成绩\n",
    "};"
   ]
  },
  {
   "cell_type": "markdown",
   "id": "208236db",
   "metadata": {},
   "source": [
    "stu 为结构体名，它包含了 5 个成员，分别是 name、num、age、group、score。结构体成员的定义方式与变量和数组的定义方式相同，只是不能初始化。"
   ]
  },
  {
   "cell_type": "markdown",
   "id": "a47bb62f",
   "metadata": {},
   "source": [
    "既然结构体是一种数据类型，那么就可以用它来定义变量。例如：  \n",
    "`struct stu stu1, stu2;`  \n",
    "定义了两个变量 stu1 和 stu2，它们都是 stu 类型，都由 5 个成员组成。注意关键字struct不能少。  \n",
    "\n",
    "stu 就像一个“模板”，定义出来的变量都具有相同的性质。也可以将结构体比作“图纸”，将结构体变量比作“零件”，根据同一张图纸生产出来的零件的特性都是一样的。  "
   ]
  },
  {
   "cell_type": "markdown",
   "id": "6f06af24",
   "metadata": {},
   "source": [
    "## 成员的获取和赋值"
   ]
  },
  {
   "cell_type": "markdown",
   "id": "8d76515c",
   "metadata": {},
   "source": [
    "结构体和数组类似，也是一组数据的集合，整体使用没有太大的意义。数组使用下标[ ]获取单个元素，结构体使用点号.获取单个成员。获取结构体成员的一般格式为：  \n",
    "`结构体变量名.成员名;`  \n",
    "通过这种方式可以获取成员的值，也可以给成员赋值："
   ]
  },
  {
   "cell_type": "raw",
   "id": "aad25e4f",
   "metadata": {},
   "source": [
    "//给结构体成员赋值\n",
    "stu1.name = \"Tom\";\n",
    "stu1.num = 12;\n",
    "stu1.age = 18;\n",
    "stu1.group = 'A';\n",
    "stu1.score = 136.5;"
   ]
  },
  {
   "cell_type": "markdown",
   "id": "9c831946",
   "metadata": {},
   "source": [
    "# 文件操作"
   ]
  },
  {
   "cell_type": "markdown",
   "id": "fed680e3",
   "metadata": {},
   "source": [
    "在操作系统中，为了统一对各种硬件的操作，简化接口，不同的硬件设备也都被看成一个文件。对这些文件的操作，等同于对磁盘上普通文件的操作。例如：\n",
    "- 通常把显示器称为标准输出文件，printf 就是向这个文件输出数据；\n",
    "- 通常把键盘称为标准输入文件，scanf 就是从这个文件读取数据。"
   ]
  },
  {
   "cell_type": "markdown",
   "id": "66bb7975",
   "metadata": {},
   "source": [
    "所有的文件（保存在磁盘）都要载入内存才能处理，所有的数据必须写入文件（磁盘）才不会丢失。数据在文件和内存之间传递的过程叫做文件流，类似水从一个地方流动到另一个地方。数据从文件复制到内存的过程叫做输入流，从内存保存到文件的过程叫做输出流。  \n",
    "\n",
    "文件是数据源的一种，除了文件，还有数据库、网络、键盘等；数据传递到内存也就是保存到C语言的变量（例如整数、字符串、数组、缓冲区等）。我们把数据在数据源和程序（内存）之间传递的过程叫做数据流(Data Stream)。相应的，数据从数据源到程序（内存）的过程叫做输入流(Input Stream)，从程序（内存）到数据源的过程叫做输出流(Output Stream)。  \n",
    "\n",
    "输入输出（Input output，IO）是指程序（内存）与外部设备（键盘、显示器、磁盘、其他计算机等）进行交互的操作。几乎所有的程序都有输入与输出操作，如从键盘上读取数据，从本地或网络上的文件读取数据或写入数据等。通过输入和输出操作可以从外界接收信息，或者是把信息传递给外界。  \n",
    "\n",
    "我们可以说，打开文件就是打开了一个流。"
   ]
  },
  {
   "cell_type": "markdown",
   "id": "f5a2b688",
   "metadata": {},
   "source": [
    "fopen() 会获取文件信息，包括文件名、文件状态、当前读写位置等，并将这些信息保存到一个 FILE 类型的结构体变量中，然后将该变量的地址返回。  \n",
    "\n",
    "\n",
    "文件一旦使用完毕，应该用 fclose() 函数把文件关闭，以释放相关资源，避免数据丢失。fclose() 的用法为：  \n",
    "`int fclose(FILE *fp);`  \n",
    "fp 为文件指针。"
   ]
  },
  {
   "cell_type": "markdown",
   "id": "665585e2",
   "metadata": {},
   "source": [
    "# 其他知识点"
   ]
  },
  {
   "cell_type": "markdown",
   "id": "3178454d",
   "metadata": {},
   "source": [
    "## typedef的用法"
   ]
  },
  {
   "cell_type": "markdown",
   "id": "25521dcb",
   "metadata": {},
   "source": [
    "C语言允许为一个数据类型起一个新的别名，就像给人起“绰号”一样。  \n",
    "\n",
    "使用关键字 typedef 可以为类型起一个新的别名。typedef 的用法一般为：  \n",
    "`typedef  oldName  newName;`\n",
    "\n",
    "oldName 是类型原来的名字，newName 是类型新的名字。"
   ]
  },
  {
   "cell_type": "markdown",
   "id": "a855b50b",
   "metadata": {},
   "source": [
    "## const的用法"
   ]
  },
  {
   "cell_type": "markdown",
   "id": "d8dc2cd7",
   "metadata": {},
   "source": [
    "我们经常将 const 变量称为常量（Constant）。创建常量的格式通常为：  \n",
    "`const type name = value;`  \n",
    "\n",
    "const 和 type 都是用来修饰变量的，它们的位置可以互换，也就是将 type 放在 const 前面：  \n",
    "`type const name = value;`  \n",
    "\n",
    "但我们通常采用第一种方式，不采用第二种方式。另外建议将常量名的首字母大写，以提醒程序员这是个常量。  \n",
    "\n",
    "由于常量一旦被创建后其值就不能再改变，所以常量必须在定义的同时赋值（初始化），后面的任何赋值行为都将引发错误。"
   ]
  },
  {
   "cell_type": "markdown",
   "id": "93e2c46a",
   "metadata": {},
   "source": [
    "# GCC编译C语言程序的过程"
   ]
  },
  {
   "cell_type": "markdown",
   "id": "9b50ddd2",
   "metadata": {},
   "source": [
    "从 hello.c 到 hello(或 a.out)文件， 必须历经 hello.i、 hello.s、 hello.o，最后才得到 hello(或a.out)文件，分别对应着预处理、编译、汇编和链接 4 个步骤。"
   ]
  },
  {
   "cell_type": "markdown",
   "id": "e989a10e",
   "metadata": {},
   "source": [
    "这 4 步大致的工作内容如下：  \n",
    "\n",
    "预处理： 去掉注释、头文件包含、宏替换、条件编译选择等；   \n",
    "编译：将预处理得到的源代码文件，进行“翻译转换”，产生出机器语言的目标程序，得到机器语言的汇编文件；  \n",
    "汇编：将汇编代码翻译成了机器码，但是还不可以运行；  \n",
    "链接：处理可重定位文件，把各种符号引用和符号定义转换成为可执行文件中的合适信息，通常是虚拟地址。"
   ]
  },
  {
   "cell_type": "markdown",
   "id": "a99d1b2e",
   "metadata": {},
   "source": [
    "## 预处理"
   ]
  },
  {
   "cell_type": "markdown",
   "id": "b1a8d318",
   "metadata": {},
   "source": [
    "预处理，生成预编译文件（.i文件）："
   ]
  },
  {
   "cell_type": "raw",
   "id": "992759b8",
   "metadata": {},
   "source": [
    "gcc -E hello.c -o hello.i"
   ]
  },
  {
   "cell_type": "markdown",
   "id": "a6829f6d",
   "metadata": {},
   "source": [
    "将会产生 hello.i 文件，这就是 hello.c 经过预处理后的文件。"
   ]
  },
  {
   "cell_type": "markdown",
   "id": "52852c27",
   "metadata": {},
   "source": [
    "## 编译"
   ]
  },
  {
   "cell_type": "markdown",
   "id": "d411141c",
   "metadata": {},
   "source": [
    "编译，生成汇编代码（.s文件）："
   ]
  },
  {
   "cell_type": "raw",
   "id": "221f8cc0",
   "metadata": {},
   "source": [
    "gcc -S hello.i -o hello.s"
   ]
  },
  {
   "cell_type": "markdown",
   "id": "6809ac0f",
   "metadata": {},
   "source": [
    "## 汇编"
   ]
  },
  {
   "cell_type": "markdown",
   "id": "eb85a763",
   "metadata": {},
   "source": [
    "得到了汇编文件后，通过 gcc 就可以得到机器码了。在终端输入下列命令，可以得到hello.o 目标文件。"
   ]
  },
  {
   "cell_type": "raw",
   "id": "03064d09",
   "metadata": {},
   "source": [
    "gcc -c hello.s -o hello.o"
   ]
  },
  {
   "cell_type": "markdown",
   "id": "34d56ef9",
   "metadata": {},
   "source": [
    "## 链接"
   ]
  },
  {
   "cell_type": "markdown",
   "id": "ba1692eb",
   "metadata": {},
   "source": [
    "尽管已经得到了机器码，但这个文件却还是不可以运行的，必须要经过链接才能得到可执行文件。在终端输入下列命令，将会得到可执行文件 a.out。"
   ]
  },
  {
   "cell_type": "raw",
   "id": "3a26e815",
   "metadata": {},
   "source": [
    "gcc hello.o -o hello"
   ]
  },
  {
   "cell_type": "markdown",
   "id": "171540f4",
   "metadata": {},
   "source": [
    "a.out 是 gcc 默认输出文件名称，可以通过-o 参数指定新的文件名。例如加上“-o hello”参数，将会生成 hello 文件，这个文件和 a.out 实际上是一样的"
   ]
  },
  {
   "cell_type": "markdown",
   "id": "076924bf",
   "metadata": {},
   "source": [
    "在程序完成编译后，就会进入链接阶段，编译器检测到你引入了系统头文件，就会隐式链接相应的函数库，所以在程序执行时，才可以正常输出。\n",
    "\n",
    "这里有一个重要的概念：函数库。\n",
    "函数库分为静态库和动态库。通常，对函数的链接是在编译期的时候完成的，所有相关的对象文件与相关联的library被链接成一个可执行文件，这就是使用静态库的编译过程，其后缀名一般为”.a”。而动态库技术：对一些库函数的链接载入推迟到程序运行的时候，其后缀名一般为\".so\"。\n",
    "\n",
    "不管是使用静态库还是使用动态库，这些库文件都是由*.o文件生成的，给编译器gcc传不同的参数，就会生成相应的静态库或者是动态库了。"
   ]
  },
  {
   "cell_type": "markdown",
   "id": "d0d294c9",
   "metadata": {},
   "source": [
    "**链接可分为动态链接和静态链接**：  \n",
    "动态链接使用动态链接库进行链接，生成的程序在执行的时候需要加载所需的动态库才能运行。动态链接生成的程序小巧，但是必须依赖动态库，否则无法执行。Linux 下的动态链接库实际是共享目标文件（shared object），一般是.so 文件，作用类似于 Windows 下的.dll 文件。  \n",
    "静态链接使用静态库进行链接，生成的程序包含程序运行所需要的全部库，可以直接运行，不过体积较大。Linux 下静态库是汇编产生的.o 文件的集合，一般以.a 文件形式出现。  \n",
    "gcc 默认是动态链接，加上-static 参数则采用静态链接。再来看 hello.c 示例，在链接的时候加上-static 参数：  "
   ]
  },
  {
   "cell_type": "raw",
   "id": "206ac072",
   "metadata": {},
   "source": [
    "gcc hello.o -static -o hello_static"
   ]
  },
  {
   "cell_type": "markdown",
   "id": "314084ac",
   "metadata": {},
   "source": [
    "## 运行"
   ]
  },
  {
   "cell_type": "markdown",
   "id": "3eb0d8a9",
   "metadata": {},
   "source": [
    "生成的可执行文件可以直接在终端运行："
   ]
  },
  {
   "cell_type": "raw",
   "id": "ed860fdb",
   "metadata": {},
   "source": [
    "./hello"
   ]
  },
  {
   "cell_type": "markdown",
   "id": "d377b7cf",
   "metadata": {},
   "source": [
    "## 总结"
   ]
  },
  {
   "cell_type": "markdown",
   "id": "1cd9bbf0",
   "metadata": {},
   "source": [
    "对于上述步骤，预处理、编译、汇编、链接其实可以一步到位："
   ]
  },
  {
   "cell_type": "raw",
   "id": "92c5c5ae",
   "metadata": {},
   "source": [
    "//默认生成a.out可执行文件\n",
    "gcc hello.c\n",
    "\n",
    "//也可以通过-o指定可执行文件名称\n",
    "gcc hello.c -o hello"
   ]
  },
  {
   "cell_type": "markdown",
   "id": "27e848c2",
   "metadata": {},
   "source": [
    "或者直接编译运行："
   ]
  },
  {
   "cell_type": "raw",
   "id": "a39b9287",
   "metadata": {},
   "source": [
    "gcc -o hello hello.c && ./hello"
   ]
  },
  {
   "cell_type": "markdown",
   "id": "6b841e00",
   "metadata": {},
   "source": [
    "# 堆和栈"
   ]
  },
  {
   "cell_type": "markdown",
   "id": "772995b8",
   "metadata": {},
   "source": [
    "## C语言和堆栈的联系"
   ]
  },
  {
   "cell_type": "markdown",
   "id": "024a55ca",
   "metadata": {},
   "source": [
    "**C语言和栈**：必须要先给C语言分配一个可用的栈空间，C语言才能运行，因为C语言里的临时变量都是放在栈空间里的，没有栈C语言是无法运行的。  \n",
    "**C语言和堆**：堆空间就是我们申请的内存空间，用malloc函数申请的。C语言中当想要使用内存时就可以向堆区申请，但是使用时要注意及时释放不用的内存，以免造成内存泄漏。"
   ]
  },
  {
   "cell_type": "markdown",
   "id": "2768d3ad",
   "metadata": {},
   "source": [
    "## 堆和栈的理解"
   ]
  },
  {
   "cell_type": "markdown",
   "id": "2b6e2ba2",
   "metadata": {},
   "source": [
    "**栈**：栈是一种数据结构（后进先出），栈空间由系统管理，不需要申请和释放，C语言里的临时变量会自动放到栈里，压栈和弹栈都不需要程序员操心。  \n",
    "**堆**：堆是一种特殊的完全二叉树的数据结构，简单来说就是管理系统里空闲的内存，可以通过malloc申请和free释放，需要程序员手动操作。"
   ]
  },
  {
   "cell_type": "markdown",
   "id": "9e7cb748",
   "metadata": {},
   "source": [
    "栈的分类：  \n",
    "- 1.满减栈：进栈（先移动指针再入栈，指针往地址减小的方向移动）；出栈（先出栈，栈指针往地址 增大的地方移动）。  \n",
    "- 2.满增栈：进栈（先移动指针再入栈，指针往地址增大的方向移动）；出 栈（先出栈，栈指针往地址减小的地方移动）。  \n",
    "- 3.空减栈：进栈（先进栈，栈指针往地址减小的方向移动）；出栈（先移动指针再出栈，栈指针往地址增大的方向移动）  \n",
    "- 4.空增栈：进栈（先进栈，栈指针往地址增大的方向移动）；出栈（先移动指针再出栈，栈指针往地址减小的方向移动）  \n",
    "备注：使用时不用纠结时哪一种栈结构，只要进栈和出栈用同一种栈结构就不会出错。"
   ]
  },
  {
   "cell_type": "markdown",
   "id": "867de7e7",
   "metadata": {},
   "source": [
    "栈的特性：  \n",
    "- 1.栈空间一般是由编译器指定大小和在内存中的位置，并且栈的空间一般不大，如果在程序中要定义字节数较多的变量，尽量申请堆空间，不然会栈溢出，造成程序崩溃。  \n",
    "- 2.C语言运行时必须要分配栈空间，但是我们在写C语言程序时并没有初始化栈的相关操作，这是因为编译器自动给我们分配了栈空间，再生成可执行程序时，会自动把初始化栈的代码给链接进去。并且因为采用虚拟地址的原因，每个进程都认为自己独占整个内存，所以编译器分配栈空间时也是比较方便的。  \n",
    "- 3.栈空间是不用C程序员去管理的，进栈和出栈都是自动的，C程序员只需要保证栈不溢出就行。  \n",
    "- 4.栈是脏的。也就是定义一个临时变量分配得到的栈空间，栈空间的内容是随机的，没有被初始化过，这也是为什么我们写代码时，定义临时变量时最好初始化一个值（一般是0），不然变量的值就是乱码。背后的原因是，我们使用完栈空间后，不会去清空栈空间，当回收回去的栈空间下一次分配出去时，还保留着上一次的数据，所以定义的临时变量值是随机的。"
   ]
  },
  {
   "cell_type": "markdown",
   "id": "458b8d6f",
   "metadata": {},
   "source": [
    "堆的特性：\n",
    "- 1.堆空间：内存中，除了已经分配为栈空间或者其他用途的空间，剩余还没用的空间都可以叫做堆空间。\n",
    "- 2.堆空间的申请（malloc）和释放（free）都是程序员手动操作的，尤其要注意及时释放不需要的内存，否则会造成内存泄漏，程序崩溃。"
   ]
  },
  {
   "cell_type": "markdown",
   "id": "29a3b9de",
   "metadata": {},
   "source": [
    "堆的使用：\n",
    "- 1.堆空间的申请要避免频繁、少字节数的申请，因为频繁多次申请会造成内存碎片，不利于内存管理。如果是要频繁使用的内存空间，可以在初始化的时候就申请好，并用一个静态变量记录下申请的内存地址，后面就可以反复利用而不用频繁的申请释放。\n",
    "- 2.如果不可避免的要频繁、少字节的使用内存，可以再初始化的时候，一次性申请一大块内存，然后需要的时候从之前申请的一大块内存中分配出去一块。其中就要求程序员要自己设计出一套管理这块内存的逻辑，一般情况下使用链表就足以，使用内核链表会更方便。"
   ]
  },
  {
   "cell_type": "markdown",
   "id": "150d2682",
   "metadata": {},
   "source": [
    "# 常用函数"
   ]
  },
  {
   "cell_type": "markdown",
   "id": "4f10f6b3",
   "metadata": {},
   "source": [
    "## strlen()"
   ]
  },
  {
   "cell_type": "markdown",
   "id": "05cdb1bd",
   "metadata": {},
   "source": [
    "strlen函数：计算的是字符串str的长度，从字符的首地址开始遍历，以 '\\0' 为结束标志，然后将计算的长度返回，计算的长度并不包含'\\0'。下面是库中的strlen（）函数："
   ]
  },
  {
   "cell_type": "markdown",
   "id": "b0b15681",
   "metadata": {},
   "source": [
    "```C\n",
    "#include <stdio.h>\n",
    "#include <string.h>\n",
    "int main()\n",
    "{\n",
    "\tchar arr[10] = \"abcde\";\n",
    "\tint num = strlen(arr);\n",
    "\tprintf(\"数组arr的长度为：%d\\n\", num);\n",
    " \n",
    "\treturn 0;\n",
    "}\n",
    "\n",
    "```"
   ]
  },
  {
   "cell_type": "code",
   "execution_count": null,
   "id": "6a30e5f4",
   "metadata": {},
   "outputs": [],
   "source": []
  }
 ],
 "metadata": {
  "kernelspec": {
   "display_name": "Python 3 (ipykernel)",
   "language": "python",
   "name": "python3"
  },
  "language_info": {
   "codemirror_mode": {
    "name": "ipython",
    "version": 3
   },
   "file_extension": ".py",
   "mimetype": "text/x-python",
   "name": "python",
   "nbconvert_exporter": "python",
   "pygments_lexer": "ipython3",
   "version": "3.9.7"
  },
  "nbTranslate": {
   "displayLangs": [
    "*"
   ],
   "hotkey": "alt-t",
   "langInMainMenu": true,
   "sourceLang": "en",
   "targetLang": "fr",
   "useGoogleTranslate": true
  },
  "toc": {
   "base_numbering": 1,
   "nav_menu": {},
   "number_sections": true,
   "sideBar": true,
   "skip_h1_title": false,
   "title_cell": "Table of Contents",
   "title_sidebar": "Contents",
   "toc_cell": false,
   "toc_position": {
    "height": "calc(100% - 180px)",
    "left": "10px",
    "top": "150px",
    "width": "327.625px"
   },
   "toc_section_display": true,
   "toc_window_display": true
  }
 },
 "nbformat": 4,
 "nbformat_minor": 5
}
