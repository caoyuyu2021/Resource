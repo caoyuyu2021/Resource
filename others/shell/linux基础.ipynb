{
 "cells": [
  {
   "cell_type": "markdown",
   "id": "2f1ae139",
   "metadata": {},
   "source": [
    "<font face=\"微软雅黑\" color=green size=5>Linux基础</font>"
   ]
  },
  {
   "cell_type": "markdown",
   "id": "1af9802e",
   "metadata": {},
   "source": [
    "# Linux基本命令"
   ]
  },
  {
   "cell_type": "markdown",
   "id": "9029c533",
   "metadata": {},
   "source": [
    "## su命令"
   ]
  },
  {
   "cell_type": "markdown",
   "id": "30e96b3d",
   "metadata": {},
   "source": [
    "su USER USER为变更使用者身份  \n",
    "su root 切换到root权限下（root为Linux最高权限）"
   ]
  },
  {
   "cell_type": "markdown",
   "id": "8838c782",
   "metadata": {},
   "source": [
    "## 重启"
   ]
  },
  {
   "cell_type": "markdown",
   "id": "e4a62ef5",
   "metadata": {},
   "source": [
    "init 6  \n",
    "reboot"
   ]
  },
  {
   "cell_type": "markdown",
   "id": "3bb43f9a",
   "metadata": {},
   "source": [
    "## 关机"
   ]
  },
  {
   "cell_type": "markdown",
   "id": "cc13cc01",
   "metadata": {},
   "source": [
    "init 0   \n",
    "halt"
   ]
  },
  {
   "cell_type": "markdown",
   "id": "584c0d57",
   "metadata": {},
   "source": [
    "## 切换dos界面"
   ]
  },
  {
   "cell_type": "markdown",
   "id": "b4c59153",
   "metadata": {},
   "source": [
    "init 3"
   ]
  },
  {
   "cell_type": "markdown",
   "id": "6eb498a3",
   "metadata": {},
   "source": [
    "## 切换图形界面"
   ]
  },
  {
   "cell_type": "markdown",
   "id": "ea84d1f2",
   "metadata": {},
   "source": [
    "init 5"
   ]
  },
  {
   "cell_type": "markdown",
   "id": "feda493e",
   "metadata": {},
   "source": [
    "## 清屏"
   ]
  },
  {
   "cell_type": "markdown",
   "id": "30f4660b",
   "metadata": {},
   "source": [
    "clear"
   ]
  },
  {
   "cell_type": "markdown",
   "id": "c4165239",
   "metadata": {},
   "source": [
    "## 查看服务器的IP地址"
   ]
  },
  {
   "cell_type": "markdown",
   "id": "06cd350d",
   "metadata": {},
   "source": [
    "ifconfig  \n",
    "ip addr 在ens33或者eno16777736中，inet这一项"
   ]
  },
  {
   "cell_type": "markdown",
   "id": "9cb0c6d0",
   "metadata": {},
   "source": [
    "## 路径"
   ]
  },
  {
   "cell_type": "markdown",
   "id": "51202486",
   "metadata": {},
   "source": [
    "绝对路径：目录和文件的绝对路径是从根算起的(/)  \n",
    "相对路径：从当前工作目录算起  \n",
    ".一个圆点表示当前工作目录  \n",
    "..两个圆点表示当前工作目录的上一级目录  \n",
    "./执行当前目录下的某个文件"
   ]
  },
  {
   "cell_type": "markdown",
   "id": "e6f61a37",
   "metadata": {},
   "source": [
    "## 查看当前工作目录"
   ]
  },
  {
   "cell_type": "markdown",
   "id": "cfa6afb0",
   "metadata": {},
   "source": [
    "pwd"
   ]
  },
  {
   "cell_type": "markdown",
   "id": "8c916fee",
   "metadata": {},
   "source": [
    "## 改变当前工作目录"
   ]
  },
  {
   "cell_type": "markdown",
   "id": "6a439204",
   "metadata": {},
   "source": [
    "cd 目录名   \n",
    "cd /tmp 进入tmp目录  \n",
    "cd .. 返回上一级目录  \n",
    "cd 进入根目录  \n",
    "cd ../.. 返回上两级目录"
   ]
  },
  {
   "cell_type": "markdown",
   "id": "fe98badf",
   "metadata": {},
   "source": [
    "## 列出文件和文件信息"
   ]
  },
  {
   "cell_type": "markdown",
   "id": "2b6c1be5",
   "metadata": {},
   "source": [
    "ls 列出当前工作目录下全部的目录和文件名信息  \n",
    "ll 列出当前工作目录下全部的目录和文件名详细的信息  \n",
    "ls /tmp 列出tmp下的全部目录和文件"
   ]
  },
  {
   "cell_type": "markdown",
   "id": "bf218974",
   "metadata": {},
   "source": [
    "## 创建目录"
   ]
  },
  {
   "cell_type": "markdown",
   "id": "72a978d7",
   "metadata": {},
   "source": [
    "1）在当前目录下创建aaa目录  \n",
    "mkdir aaa  \n",
    "2）在当前目录的aaa目录下创建bbb目录  \n",
    "mkdir aaa/bbb  \n",
    "3）创建 /tmp/aaa目录  \n",
    "mkdir /tmp/aaa"
   ]
  },
  {
   "cell_type": "markdown",
   "id": "fbbf6140",
   "metadata": {},
   "source": [
    "## 删除目录和文件"
   ]
  },
  {
   "cell_type": "markdown",
   "id": "6f8c1aca",
   "metadata": {},
   "source": [
    "rm [-rf] 目录或文件列表  \n",
    "rm -r 可以删除目录，没有-r只能删除文件  \n",
    "rm -f 表示强制删除，不需要确认  \n",
    "rm -rf /tmp/aaa 删除目录和文件"
   ]
  },
  {
   "cell_type": "markdown",
   "id": "ff125d22",
   "metadata": {},
   "source": [
    "## 移动目录和文件"
   ]
  },
  {
   "cell_type": "markdown",
   "id": "d9fd410a",
   "metadata": {},
   "source": [
    "mv 旧目录或文件名 新目录或文件名  \n",
    "如果第二个参数已经存在，则把第一个参数移动到该目录下，如果不存在，则创建一个。  \n",
    "mv book1 book2 把当前工作目录的book1重命名为book2"
   ]
  },
  {
   "cell_type": "markdown",
   "id": "abccf547",
   "metadata": {},
   "source": [
    "## 复制目录和文件"
   ]
  },
  {
   "cell_type": "markdown",
   "id": "2c816c52",
   "metadata": {},
   "source": [
    "cp [-r] 旧目录或文件名 新目录或文件名  \n",
    "选项-r可以复制目录，如果没有只能复制文件"
   ]
  },
  {
   "cell_type": "markdown",
   "id": "42cd4418",
   "metadata": {},
   "source": [
    "## 打包压缩和解包解压"
   ]
  },
  {
   "cell_type": "markdown",
   "id": "2bf67c42",
   "metadata": {},
   "source": [
    "tar命令用来打包和解包文件  \n",
    "tar zcvf 压缩包文件名 目录或文件名列表  \n",
    "tar zcvf 压缩包文件名  \n",
    "zip/unzip  \n",
    "unzip 文件名 加压到当前目录  \n",
    "unzip -d /tmp 文件名 解压到指定目录下"
   ]
  },
  {
   "cell_type": "markdown",
   "id": "b7381929",
   "metadata": {},
   "source": [
    "## 判断网络是否联通"
   ]
  },
  {
   "cell_type": "markdown",
   "id": "e26ac004",
   "metadata": {},
   "source": [
    "ping ip地址 ping用于确定本地主机是否能与另一台主机成功交换数据包，判断网络是否通畅。  \n",
    "CTRL+c中断过程  \n",
    "ping 192.168.108.129 或 ping www.baidu.com  "
   ]
  },
  {
   "cell_type": "markdown",
   "id": "452f1f17",
   "metadata": {},
   "source": [
    "## 显示文本文件的内容"
   ]
  },
  {
   "cell_type": "markdown",
   "id": "e31117cd",
   "metadata": {},
   "source": [
    "cat 文件名  \n",
    "more 文件名 分页显示文件内容  \n",
    "tail -f 文件名 显示文本文件的最后几行"
   ]
  },
  {
   "cell_type": "markdown",
   "id": "a4c08417",
   "metadata": {},
   "source": [
    "## 统计文本文件的行数，单词数，字节数"
   ]
  },
  {
   "cell_type": "markdown",
   "id": "7b040ffc",
   "metadata": {},
   "source": [
    "wc 文件名"
   ]
  },
  {
   "cell_type": "markdown",
   "id": "c1f22155",
   "metadata": {},
   "source": [
    "## 搜索文件的内容"
   ]
  },
  {
   "cell_type": "markdown",
   "id": "3ad71ebc",
   "metadata": {},
   "source": [
    "grep \"内容\" 文件名 如果内容中没有空格等特殊字符，可以不用双括号括起来。"
   ]
  },
  {
   "cell_type": "markdown",
   "id": "e4ff66e9",
   "metadata": {},
   "source": [
    "## 搜索文件"
   ]
  },
  {
   "cell_type": "markdown",
   "id": "6dd539d0",
   "metadata": {},
   "source": [
    "find 目录名 -name 文件名 -print"
   ]
  },
  {
   "cell_type": "markdown",
   "id": "780cf451",
   "metadata": {},
   "source": [
    "## 增加/删除用户"
   ]
  },
  {
   "cell_type": "markdown",
   "id": "e4f2246a",
   "metadata": {},
   "source": [
    "useradd -n 用户名 -g组名 -d用户的主目录  \n",
    "userdel 用户名"
   ]
  },
  {
   "cell_type": "markdown",
   "id": "ff9ff83f",
   "metadata": {},
   "source": [
    "## 修改用户的密码"
   ]
  },
  {
   "cell_type": "markdown",
   "id": "ea78d301",
   "metadata": {},
   "source": [
    "passwd [用户名] 提示两次输入密码"
   ]
  },
  {
   "cell_type": "markdown",
   "id": "7df19dde",
   "metadata": {},
   "source": [
    "## 查看系统磁盘空间"
   ]
  },
  {
   "cell_type": "markdown",
   "id": "0ad4777a",
   "metadata": {},
   "source": [
    "df [-h] [-T]  \n",
    "df -h 以方便阅读的方式显示信息  \n",
    "df -T 列出文件系统类型  \n",
    "df -h -T"
   ]
  },
  {
   "cell_type": "markdown",
   "id": "0af2074e",
   "metadata": {},
   "source": [
    "## sudo命令"
   ]
  },
  {
   "cell_type": "markdown",
   "id": "26298a9a",
   "metadata": {},
   "source": [
    "sudo命令以系统管理者的身份执行命令，也就是说sudo所执行的指令就好像是root亲自执行。  \n",
    "sudo -u username 代表以username的身份执行指令。  \n",
    "sudo 命令 要以系统管理者身份执行的指令。"
   ]
  },
  {
   "cell_type": "markdown",
   "id": "2667721a",
   "metadata": {},
   "source": [
    "# Linux VI命令"
   ]
  },
  {
   "cell_type": "markdown",
   "id": "a3b17445",
   "metadata": {},
   "source": [
    "vi/vim  \n",
    "所有的Linux都会内建vi文书编辑器，我们目前使用最多的是vim，vim具有程序编辑的能力，可以主动的以字体颜色辨别语法的正确性。  \n",
    "vim/vi有三种模式：命令模式、输入模式、底线命令模式。"
   ]
  },
  {
   "cell_type": "markdown",
   "id": "628fa167",
   "metadata": {},
   "source": [
    "命令模式：  \n",
    "用户刚启动vi/vim，便切换到命令模式，此状态下敲击键盘会被识别为命令。  \n",
    "常用命令：  \n",
    "i 切换到输入模式  \n",
    "x 删除当前光标所在处的字符  \n",
    ": 切换到底线命令模式，在最底一行输入命令 "
   ]
  },
  {
   "cell_type": "markdown",
   "id": "c6d0bab1",
   "metadata": {},
   "source": [
    "输入模式：  \n",
    "正常使用即可，esc退出输入模式，切换到命令模式。"
   ]
  },
  {
   "cell_type": "markdown",
   "id": "4a546c1e",
   "metadata": {},
   "source": [
    "底线命令模式：  \n",
    "在命令模式中按:进入底线命令模式  \n",
    ":q 退出程序  \n",
    ":q! 强制退出  \n",
    ":w 保存文件  \n",
    ":wq 保存并退出  \n",
    ":set number 显示行号"
   ]
  },
  {
   "cell_type": "markdown",
   "id": "afd29139",
   "metadata": {},
   "source": [
    "# Linux yum命令"
   ]
  },
  {
   "cell_type": "markdown",
   "id": "32e31a94",
   "metadata": {},
   "source": [
    "yum (读漾)  \n",
    "基于RPM包管理，能够从指定的服务器自动下载RPM包并且安装。  \n",
    "yum update 更新所有软件  \n",
    "yum update 包名  \n",
    "yum install 包名  \n",
    "yum remove 包名  \n",
    "yum search 查找软件包命令  \n",
    "yum clean packages 清除缓存目录下的软件包"
   ]
  },
  {
   "cell_type": "markdown",
   "id": "6d68b5b0",
   "metadata": {},
   "source": [
    "rpm命令用于管理套件  \n",
    "rpm 格式 xxx.rpm 安装xxx.rpm套件"
   ]
  },
  {
   "cell_type": "markdown",
   "id": "84516c93",
   "metadata": {},
   "source": [
    "# Linux快捷键"
   ]
  },
  {
   "cell_type": "markdown",
   "id": "006c7a98",
   "metadata": {
    "ExecuteTime": {
     "end_time": "2022-06-05T10:06:33.309226Z",
     "start_time": "2022-06-05T10:06:33.296123Z"
    }
   },
   "source": [
    "Tab 自动补全  \n",
    "ctrl+c 中断运行的程序  \n",
    "ctrl+z 将正在运行的程序送到后台  \n",
    "ctrl+d 退出当前终端  \n",
    "ctrl+l 清屏  \n",
    "ctrl+a 将移动光标到所在行首  \n",
    "ctrl+e 移动光标到行尾  \n",
    "ctrl+y 如果删除了错误的文本或使已删除的文本重现，可以使用  \n",
    "ctrl+p 查看上一个命令  \n",
    "ctrl+n 查看下一个命令  \n",
    "ctrl+r 搜索历史命令  \n",
    "who 查看所有登陆的用户  \n",
    "history 查看历史命令列表  \n",
    "ctrl+s 使终端发呆"
   ]
  },
  {
   "cell_type": "markdown",
   "id": "f5267c07",
   "metadata": {},
   "source": [
    "# Linux其他"
   ]
  },
  {
   "cell_type": "markdown",
   "id": "94b5ed7a",
   "metadata": {},
   "source": [
    "## 查看主机名"
   ]
  },
  {
   "cell_type": "markdown",
   "id": "9567d742",
   "metadata": {},
   "source": [
    "hostnamectl 或 hostnamectl status 或 hostname"
   ]
  },
  {
   "cell_type": "markdown",
   "id": "36fb254a",
   "metadata": {},
   "source": [
    "## 修改主机名"
   ]
  },
  {
   "cell_type": "markdown",
   "id": "466361cf",
   "metadata": {},
   "source": [
    "hostnamectl set-hostname 主机名"
   ]
  },
  {
   "cell_type": "markdown",
   "id": "2b50215b",
   "metadata": {},
   "source": [
    "## 创建文件软链接"
   ]
  },
  {
   "cell_type": "markdown",
   "id": "d4711276",
   "metadata": {},
   "source": [
    "ln -s 源文件 链接文件"
   ]
  },
  {
   "cell_type": "markdown",
   "id": "eae41efd",
   "metadata": {},
   "source": [
    "## 查看端口使用情况"
   ]
  },
  {
   "cell_type": "markdown",
   "id": "190dbc82",
   "metadata": {},
   "source": [
    "netstat -ntlp 查看当前所有端口  \n",
    "netstat -ntulp|grep 80 查看所有80端口使用情况  \n",
    "netstat -an|grep 3306 查看所有3306端口使用情况  \n",
    "0.0.0.0  代表本机上可用的任意地址  \n",
    "127.0.0.1 代表本机ip地址  \n",
    ":::21 表示ipv6的21号端口  \n",
    ": 是网址的通配符"
   ]
  },
  {
   "cell_type": "markdown",
   "id": "6db57b60",
   "metadata": {},
   "source": [
    "## PID进程"
   ]
  },
  {
   "cell_type": "markdown",
   "id": "81b28088",
   "metadata": {},
   "source": [
    "ps -ef 查看全部进程  \n",
    "kill 进程号 杀死进程"
   ]
  },
  {
   "cell_type": "markdown",
   "id": "6c4973ac",
   "metadata": {},
   "source": [
    "## rz"
   ]
  },
  {
   "cell_type": "markdown",
   "id": "eca62c09",
   "metadata": {},
   "source": [
    "rz与sz需要远程连接服务器才可以用，Linux默认终端是不支持的。上传文件方法。  \n",
    "rz -be 强制上传  \n",
    "sz 从终端下载文件"
   ]
  },
  {
   "cell_type": "markdown",
   "id": "8cd219d7",
   "metadata": {},
   "source": [
    "## 环境变量"
   ]
  },
  {
   "cell_type": "markdown",
   "id": "90ee451c",
   "metadata": {},
   "source": [
    "vim /etc/profile 打开环境变量配置文件   \n",
    "在文档最后添加 export PATH=目录:\\\\$PATH 保存退出    \n",
    "source /etc/profile 使配置生效    \n",
    "echo \\\\$PATH 显示当前PATH环境变量"
   ]
  },
  {
   "cell_type": "markdown",
   "id": "d8afae11",
   "metadata": {},
   "source": [
    "## 执行.sh文件"
   ]
  },
  {
   "cell_type": "markdown",
   "id": "ce6b4e81",
   "metadata": {},
   "source": [
    "利用./来执行.sh 文件 ./root/123.sh  \n",
    "sh 文件名.sh"
   ]
  },
  {
   "cell_type": "markdown",
   "id": "129af9d2",
   "metadata": {},
   "source": [
    "## service服务"
   ]
  },
  {
   "cell_type": "markdown",
   "id": "28d46739",
   "metadata": {},
   "source": [
    "service本质就是进程，但是在后台运行，通常都会监听某个端口，等待其它程序的请求，又称守护进程。  \n",
    "service 服务名 start/stop/restart/reload/status  \n",
    "service iptables status 查看防火墙状况  \n",
    "ll /etc/init.d/ 列出系统有哪些服务"
   ]
  },
  {
   "cell_type": "markdown",
   "id": "8e656ec4",
   "metadata": {},
   "source": [
    "## chmod权限"
   ]
  },
  {
   "cell_type": "markdown",
   "id": "a25fa7b0",
   "metadata": {},
   "source": [
    "执行文件时，经常会遇到Permission denied 没有权限，chmod用于改变文件或目录的访问权限。  \n",
    "字母组合法：  \n",
    "chmod [who] [opt] [mode] 文件/目录名  \n",
    "who表示对象，u：文件所有者，g：同组用户，o：其他用户，a：所有用户  \n",
    "opt表示操作，+：添加某个权限，-：取消某个权限，=：赋予给定的权限，并取消原来的权限  \n",
    "mode表示权限，r：可读，w：可写，x：可执行，可进行组合  \n",
    "chmod u+rw 123.txt  \n",
    "数字设定法：  \n",
    "chmod[mode] 文件名 一般是三个数字  \n",
    "chmod 777 123.txt 777代表可读可写可执行"
   ]
  },
  {
   "cell_type": "markdown",
   "id": "c76d266d",
   "metadata": {},
   "source": [
    "## ssh(安全网络协议)"
   ]
  },
  {
   "cell_type": "markdown",
   "id": "fac3ad9e",
   "metadata": {},
   "source": [
    "远程登陆：  \n",
    "ssh 客户端用户名@服务器IP地址  \n",
    "ssh -P 18888 用户名@IP -P 18888代表端口号，ssh的默认端口是22"
   ]
  },
  {
   "cell_type": "code",
   "execution_count": null,
   "id": "b2497d0e",
   "metadata": {},
   "outputs": [],
   "source": []
  }
 ],
 "metadata": {
  "kernelspec": {
   "display_name": "Python 3 (ipykernel)",
   "language": "python",
   "name": "python3"
  },
  "language_info": {
   "codemirror_mode": {
    "name": "ipython",
    "version": 3
   },
   "file_extension": ".py",
   "mimetype": "text/x-python",
   "name": "python",
   "nbconvert_exporter": "python",
   "pygments_lexer": "ipython3",
   "version": "3.9.7"
  },
  "nbTranslate": {
   "displayLangs": [
    "*"
   ],
   "hotkey": "alt-t",
   "langInMainMenu": true,
   "sourceLang": "en",
   "targetLang": "fr",
   "useGoogleTranslate": true
  },
  "toc": {
   "base_numbering": 1,
   "nav_menu": {},
   "number_sections": true,
   "sideBar": true,
   "skip_h1_title": false,
   "title_cell": "Table of Contents",
   "title_sidebar": "Contents",
   "toc_cell": false,
   "toc_position": {},
   "toc_section_display": true,
   "toc_window_display": true
  },
  "varInspector": {
   "cols": {
    "lenName": 16,
    "lenType": 16,
    "lenVar": 40
   },
   "kernels_config": {
    "python": {
     "delete_cmd_postfix": "",
     "delete_cmd_prefix": "del ",
     "library": "var_list.py",
     "varRefreshCmd": "print(var_dic_list())"
    },
    "r": {
     "delete_cmd_postfix": ") ",
     "delete_cmd_prefix": "rm(",
     "library": "var_list.r",
     "varRefreshCmd": "cat(var_dic_list()) "
    }
   },
   "types_to_exclude": [
    "module",
    "function",
    "builtin_function_or_method",
    "instance",
    "_Feature"
   ],
   "window_display": false
  }
 },
 "nbformat": 4,
 "nbformat_minor": 5
}
