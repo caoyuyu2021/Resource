{
 "cells": [
  {
   "cell_type": "markdown",
   "id": "6e2402f5",
   "metadata": {},
   "source": [
    "# 什么是Jupyter Notebook"
   ]
  },
  {
   "cell_type": "markdown",
   "id": "a753db67",
   "metadata": {},
   "source": [
    "Jupyter Notebook是基于网页的用于交互计算的应用程序。其可被应用于全过程计算：开发、文档编写、运行代码和展示结果。\n",
    "\n",
    "简而言之，Jupyter Notebook是以网页的形式打开，可以在网页页面中直接编写代码和运行代码，代码的运行结果也会直接在代码块下显示。如在编程过程中需要编写说明文档，可在同一个页面中直接编写，便于作及时的说明和解释。"
   ]
  },
  {
   "cell_type": "markdown",
   "id": "e9d55985",
   "metadata": {},
   "source": [
    "# 安装 Jupyter Notebook"
   ]
  },
  {
   "cell_type": "markdown",
   "id": "2ce3b023",
   "metadata": {},
   "source": [
    "## Anaconda安装"
   ]
  },
  {
   "cell_type": "markdown",
   "id": "5b9fa2a9",
   "metadata": {},
   "source": [
    "在终端（Linux或macOS的“终端”，Windows的“Anaconda Prompt”，以下均简称“终端”）中输入以下命令安装："
   ]
  },
  {
   "cell_type": "raw",
   "id": "03efa1f9",
   "metadata": {},
   "source": [
    "conda install jupyter notebook"
   ]
  },
  {
   "cell_type": "markdown",
   "id": "e3e2f26c",
   "metadata": {},
   "source": [
    "## pip安装"
   ]
  },
  {
   "cell_type": "raw",
   "id": "a5bebf81",
   "metadata": {},
   "source": [
    "pip install --upgrade pip\n",
    "pip install jupyter"
   ]
  },
  {
   "cell_type": "markdown",
   "id": "96f89313",
   "metadata": {},
   "source": [
    "# 运行 Jupyter Notebook"
   ]
  },
  {
   "cell_type": "markdown",
   "id": "0bf49711",
   "metadata": {},
   "source": [
    "## 启动"
   ]
  },
  {
   "cell_type": "markdown",
   "id": "eef8f2e0",
   "metadata": {},
   "source": [
    "在终端中输入以下命令："
   ]
  },
  {
   "cell_type": "raw",
   "id": "c4339a32",
   "metadata": {},
   "source": [
    "jupyter notebook"
   ]
  },
  {
   "cell_type": "markdown",
   "id": "9fa9fd3f",
   "metadata": {},
   "source": [
    "执行命令之后，在终端中将会显示一系列notebook的服务器信息，同时浏览器将会自动启动Jupyter Notebook。  \n",
    "注意：之后在Jupyter Notebook的所有操作，都请保持终端不要关闭，因为一旦关闭终端，就会断开与本地服务器的链接，你将无法在Jupyter Notebook中进行其他操作啦。"
   ]
  },
  {
   "cell_type": "markdown",
   "id": "b9e968fd",
   "metadata": {},
   "source": [
    "## 主页面"
   ]
  },
  {
   "cell_type": "markdown",
   "id": "3f20fe6d",
   "metadata": {},
   "source": [
    "设置Jupyter Notebook文件存放位置"
   ]
  },
  {
   "cell_type": "raw",
   "id": "83dcfe6a",
   "metadata": {},
   "source": [
    "jupyter notebook --generate-config"
   ]
  },
  {
   "cell_type": "markdown",
   "id": "c1bf0b52",
   "metadata": {},
   "source": [
    "# Jupyter Notebook中显示目录"
   ]
  },
  {
   "cell_type": "markdown",
   "id": "a0050df8",
   "metadata": {},
   "source": [
    "在终端中输入以下命令："
   ]
  },
  {
   "cell_type": "raw",
   "id": "9a5b387d",
   "metadata": {},
   "source": [
    "pip install jupyter_contrib_nbextensions"
   ]
  },
  {
   "cell_type": "markdown",
   "id": "1b8034fe",
   "metadata": {},
   "source": [
    "然后，配置nbextension。"
   ]
  },
  {
   "cell_type": "raw",
   "id": "375f316e",
   "metadata": {},
   "source": [
    "jupyter contrib nbextension install --user"
   ]
  },
  {
   "cell_type": "markdown",
   "id": "3b96f57d",
   "metadata": {},
   "source": [
    "最后启动jupyter notebook，选择 Nbextensions，勾选 Table of Contents。"
   ]
  },
  {
   "cell_type": "markdown",
   "id": "2e624701",
   "metadata": {},
   "source": [
    "最后勾选disable。"
   ]
  },
  {
   "cell_type": "markdown",
   "id": "e0a22eb3",
   "metadata": {},
   "source": [
    "# 常用快捷键"
   ]
  },
  {
   "cell_type": "markdown",
   "id": "2087dbe1",
   "metadata": {},
   "source": [
    "**命令模式**  \n",
    "Y 单元格转换成code类型。  \n",
    "M 单元格转换成Markdown类型。  \n",
    "R 单元格转换成Raw NBConvert类型。  \n",
    "Enter 进入编辑模式。  \n",
    "A 在当前单元格上方插入新单元格。  \n",
    "B 在当前单元格下方插入新单元格。  \n",
    "C 复制当前单元格。  \n",
    "D(两次） 删除当前单元格。  \n",
    "V 粘贴到当前单元格的下方。  \n",
    "Shift + V 粘贴到当前单元格的上方。  \n",
    "Z 撤销删除。  \n",
    "**编辑模式**  \n",
    "Tab 代码补全  \n",
    "Shift + Tab 显示doc文档信息。  \n",
    "Esc 进入命令模式。  \n",
    "**通用模式**  \n",
    "Ctrl + Enter 运行单元格，然后该单元格处于命令模式。  \n",
    "Shift + Enter 运行单元格，并切换到下一个单元格，如果下方没有单元格，则会新建一个单元格。  \n",
    "Alt + Enter 运行单元格，并在下方新增一个单元格。"
   ]
  },
  {
   "cell_type": "markdown",
   "id": "b82fb853",
   "metadata": {},
   "source": [
    "# Jupyter内核"
   ]
  },
  {
   "cell_type": "markdown",
   "id": "348a05f5",
   "metadata": {},
   "source": [
    "## 查看内核"
   ]
  },
  {
   "cell_type": "markdown",
   "id": "49ea810b",
   "metadata": {},
   "source": [
    "可以通过下列命令查看jupyter核"
   ]
  },
  {
   "cell_type": "raw",
   "id": "c4ef7d74",
   "metadata": {},
   "source": [
    "jupyter kernelspec list"
   ]
  },
  {
   "cell_type": "markdown",
   "id": "a25acadb",
   "metadata": {},
   "source": [
    "## 删除内核"
   ]
  },
  {
   "cell_type": "markdown",
   "id": "7826c7b9",
   "metadata": {},
   "source": [
    "如果想要删除其中某个核，可以使用命令"
   ]
  },
  {
   "cell_type": "raw",
   "id": "7393dc61",
   "metadata": {},
   "source": [
    "jupyter kernelspec remove 环境名称"
   ]
  },
  {
   "cell_type": "markdown",
   "id": "6a088e08",
   "metadata": {},
   "source": [
    "## 添加内核"
   ]
  },
  {
   "cell_type": "markdown",
   "id": "e889dc22",
   "metadata": {},
   "source": [
    "### 进入你想新增kernel的虚拟环境"
   ]
  },
  {
   "cell_type": "raw",
   "id": "0d0b7d17",
   "metadata": {},
   "source": [
    "conda activate env"
   ]
  },
  {
   "cell_type": "markdown",
   "id": "a19939eb",
   "metadata": {},
   "source": [
    "env为你的虚拟环境名"
   ]
  },
  {
   "cell_type": "markdown",
   "id": "8cbb1b16",
   "metadata": {},
   "source": [
    "### 进入env虚拟环境，安装ipykernel"
   ]
  },
  {
   "cell_type": "raw",
   "id": "a3863fe3",
   "metadata": {},
   "source": [
    "pip install ipykernel"
   ]
  },
  {
   "cell_type": "markdown",
   "id": "cf65dd84",
   "metadata": {},
   "source": [
    "### 安装ipykernel完成后，添加kernel名"
   ]
  },
  {
   "cell_type": "raw",
   "id": "8601168c",
   "metadata": {},
   "source": [
    "python -m ipykernel install --name showname"
   ]
  },
  {
   "cell_type": "markdown",
   "id": "1465a0f2",
   "metadata": {},
   "source": [
    "showname为在kernel中显示的kernel名"
   ]
  },
  {
   "cell_type": "markdown",
   "id": "94ef93ae",
   "metadata": {},
   "source": [
    "# Jupyter 屏蔽忽略告警信息"
   ]
  },
  {
   "cell_type": "raw",
   "id": "6b139d68",
   "metadata": {},
   "source": [
    "import warnings\n",
    "warnings.filterwarnings(\"ignore\")"
   ]
  },
  {
   "cell_type": "code",
   "execution_count": null,
   "id": "98656e7f",
   "metadata": {},
   "outputs": [],
   "source": []
  }
 ],
 "metadata": {
  "kernelspec": {
   "display_name": "Python 3 (ipykernel)",
   "language": "python",
   "name": "python3"
  },
  "language_info": {
   "codemirror_mode": {
    "name": "ipython",
    "version": 3
   },
   "file_extension": ".py",
   "mimetype": "text/x-python",
   "name": "python",
   "nbconvert_exporter": "python",
   "pygments_lexer": "ipython3",
   "version": "3.9.7"
  },
  "nbTranslate": {
   "displayLangs": [
    "*"
   ],
   "hotkey": "alt-t",
   "langInMainMenu": true,
   "sourceLang": "en",
   "targetLang": "fr",
   "useGoogleTranslate": true
  },
  "toc": {
   "base_numbering": 1,
   "nav_menu": {},
   "number_sections": true,
   "sideBar": true,
   "skip_h1_title": false,
   "title_cell": "Table of Contents",
   "title_sidebar": "Contents",
   "toc_cell": false,
   "toc_position": {},
   "toc_section_display": true,
   "toc_window_display": false
  }
 },
 "nbformat": 4,
 "nbformat_minor": 5
}
