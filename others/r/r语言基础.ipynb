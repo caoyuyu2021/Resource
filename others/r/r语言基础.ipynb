{
 "cells": [
  {
   "cell_type": "markdown",
   "id": "5e613b96",
   "metadata": {},
   "source": [
    "[R语言教程地址](https://www.math.pku.edu.cn/teachers/lidf/docs/Rbook/html/_Rbook/index.html)"
   ]
  },
  {
   "cell_type": "code",
   "execution_count": null,
   "id": "d00dbd24",
   "metadata": {},
   "outputs": [],
   "source": []
  }
 ],
 "metadata": {
  "kernelspec": {
   "display_name": "R",
   "language": "R",
   "name": "ir"
  },
  "language_info": {
   "codemirror_mode": "r",
   "file_extension": ".r",
   "mimetype": "text/x-r-source",
   "name": "R",
   "pygments_lexer": "r",
   "version": "4.1.3"
  },
  "toc": {
   "base_numbering": 1,
   "nav_menu": {},
   "number_sections": true,
   "sideBar": true,
   "skip_h1_title": false,
   "title_cell": "Table of Contents",
   "title_sidebar": "Contents",
   "toc_cell": false,
   "toc_position": {},
   "toc_section_display": true,
   "toc_window_display": false
  }
 },
 "nbformat": 4,
 "nbformat_minor": 5
}
