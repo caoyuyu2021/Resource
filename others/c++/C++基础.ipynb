{
 "cells": [
  {
   "cell_type": "markdown",
   "id": "5b3b70e7",
   "metadata": {},
   "source": [
    "<font face=\"微软雅黑\" color=green size=5>C++基础</font>"
   ]
  },
  {
   "cell_type": "markdown",
   "id": "3510742f",
   "metadata": {},
   "source": [
    "C++ 读作“C加加”，是“C Plus Plus”的简称。顾名思义，C++ 是在C语言的基础上增加新特性，玩出了新花样，所以叫“C Plus Plus”。早期并没有“C++”这个名字，而是叫做“带类的C”。“带类的C”是作为C语言的一个扩展和补充出现的，它增加了很多新的语法，目的是提高开发效率。  \n",
    "我们很难说 C++ 拥有独立的编译器，例如 Windows 下的微软编译器（cl.exe）、Linux 下的 GCC 编译器、Mac 下的 Clang 编译器，它们都同时支持C语言和 C++，统称为 C/C++ 编译器。对于C语言代码，它们按照C语言的方式来编译；对于 C++ 代码，就按照 C++ 的方式编译。"
   ]
  },
  {
   "cell_type": "markdown",
   "id": "3131496c",
   "metadata": {},
   "source": [
    "C语言源文件的后缀非常统一，在不同的编译器下都是.c。C++ 源文件的后缀则有些混乱，不同的编译器支持不同的后缀，下表是一个简单的汇总："
   ]
  },
  {
   "cell_type": "markdown",
   "id": "01e0bab8",
   "metadata": {},
   "source": [
    "\n",
    "|编译器|Microsoft Visual C++|GCC（GNU C++）|Borland C++|\tUNIX|\n",
    "|:-----:|:-----:|:-----:|:-----:|:-----:|\n",
    "|后缀|cpp、cxx、cc|cpp、cxx、cc、c++、C|cpp|C、cc、cxx|"
   ]
  },
  {
   "cell_type": "markdown",
   "id": "2dea247b",
   "metadata": {},
   "source": [
    "# GCC编译C++语言程序的过程"
   ]
  },
  {
   "cell_type": "markdown",
   "id": "13ac5ef4",
   "metadata": {},
   "source": [
    "gcc是C语言的编译器，g++是c++的编译器。编译过程如下："
   ]
  },
  {
   "cell_type": "markdown",
   "id": "2b27a41d",
   "metadata": {},
   "source": [
    "-  创建一个cpp文件：`touch test_cpp.cpp`；"
   ]
  },
  {
   "cell_type": "markdown",
   "id": "16cc5d4d",
   "metadata": {},
   "source": [
    "-  对cpp文件进行编写：`vi test_cpp.cpp` 进入界面后，输入i，然后输入代码语句，输入完成后，按键盘上的Esc，按住shift键并输入：，然后输入wq，保存并退出；"
   ]
  },
  {
   "cell_type": "markdown",
   "id": "6d025390",
   "metadata": {},
   "source": [
    "-  输入`g++ test_cpp.cpp -o test_cpp.out` 对cpp文件进行编译，-o为重命名，否则，默认为a.out;"
   ]
  },
  {
   "cell_type": "markdown",
   "id": "b5a92690",
   "metadata": {},
   "source": [
    "-  运行cpp文件，输入`./test_cpp.out`。"
   ]
  },
  {
   "cell_type": "code",
   "execution_count": null,
   "id": "5635e042",
   "metadata": {},
   "outputs": [],
   "source": []
  }
 ],
 "metadata": {
  "kernelspec": {
   "display_name": "Python 3 (ipykernel)",
   "language": "python",
   "name": "python3"
  },
  "language_info": {
   "codemirror_mode": {
    "name": "ipython",
    "version": 3
   },
   "file_extension": ".py",
   "mimetype": "text/x-python",
   "name": "python",
   "nbconvert_exporter": "python",
   "pygments_lexer": "ipython3",
   "version": "3.9.7"
  },
  "nbTranslate": {
   "displayLangs": [
    "*"
   ],
   "hotkey": "alt-t",
   "langInMainMenu": true,
   "sourceLang": "en",
   "targetLang": "fr",
   "useGoogleTranslate": true
  },
  "toc": {
   "base_numbering": 1,
   "nav_menu": {},
   "number_sections": true,
   "sideBar": true,
   "skip_h1_title": false,
   "title_cell": "Table of Contents",
   "title_sidebar": "Contents",
   "toc_cell": false,
   "toc_position": {
    "height": "calc(100% - 180px)",
    "left": "10px",
    "top": "150px",
    "width": "354.625px"
   },
   "toc_section_display": true,
   "toc_window_display": true
  }
 },
 "nbformat": 4,
 "nbformat_minor": 5
}
