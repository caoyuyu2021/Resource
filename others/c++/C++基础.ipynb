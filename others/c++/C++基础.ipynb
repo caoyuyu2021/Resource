{
 "cells": [
  {
   "cell_type": "markdown",
   "id": "5b3b70e7",
   "metadata": {},
   "source": [
    "<font face=\"微软雅黑\" color=green size=5>C++基础</font>"
   ]
  },
  {
   "cell_type": "markdown",
   "id": "3510742f",
   "metadata": {},
   "source": [
    "C++ 读作“C加加”，是“C Plus Plus”的简称。顾名思义，C++ 是在C语言的基础上增加新特性，玩出了新花样，所以叫“C Plus Plus”。早期并没有“C++”这个名字，而是叫做“带类的C”。“带类的C”是作为C语言的一个扩展和补充出现的，它增加了很多新的语法，目的是提高开发效率。  \n",
    "我们很难说 C++ 拥有独立的编译器，例如 Windows 下的微软编译器（cl.exe）、Linux 下的 GCC 编译器、Mac 下的 Clang 编译器，它们都同时支持C语言和 C++，统称为 C/C++ 编译器。对于C语言代码，它们按照C语言的方式来编译；对于 C++ 代码，就按照 C++ 的方式编译。"
   ]
  },
  {
   "cell_type": "markdown",
   "id": "3131496c",
   "metadata": {},
   "source": [
    "C语言源文件的后缀非常统一，在不同的编译器下都是.c。C++ 源文件的后缀则有些混乱，不同的编译器支持不同的后缀，下表是一个简单的汇总："
   ]
  },
  {
   "cell_type": "markdown",
   "id": "01e0bab8",
   "metadata": {},
   "source": [
    "\n",
    "|编译器|Microsoft Visual C++|GCC（GNU C++）|Borland C++|\tUNIX|\n",
    "|:-----:|:-----:|:-----:|:-----:|:-----:|\n",
    "|后缀|cpp、cxx、cc|cpp、cxx、cc、c++、C|cpp|C、cc、cxx|"
   ]
  },
  {
   "cell_type": "markdown",
   "id": "2dea247b",
   "metadata": {},
   "source": [
    "# GCC编译C++语言程序的过程"
   ]
  },
  {
   "cell_type": "markdown",
   "id": "13ac5ef4",
   "metadata": {},
   "source": [
    "gcc是C语言的编译器，g++是c++的编译器。编译过程如下："
   ]
  },
  {
   "cell_type": "markdown",
   "id": "2b27a41d",
   "metadata": {},
   "source": [
    "-  创建一个cpp文件：`touch test_cpp.cpp`；"
   ]
  },
  {
   "cell_type": "markdown",
   "id": "16cc5d4d",
   "metadata": {},
   "source": [
    "-  对cpp文件进行编写：`vi test_cpp.cpp` 进入界面后，输入i，然后输入代码语句，输入完成后，按键盘上的Esc，按住shift键并输入：，然后输入wq，保存并退出；"
   ]
  },
  {
   "cell_type": "markdown",
   "id": "6d025390",
   "metadata": {},
   "source": [
    "-  输入`g++ test_cpp.cpp -o test_cpp.out` 对cpp文件进行编译，-o为重命名，否则，默认为a.out;"
   ]
  },
  {
   "cell_type": "markdown",
   "id": "b5a92690",
   "metadata": {},
   "source": [
    "-  运行cpp文件，输入`./test_cpp.out`。"
   ]
  },
  {
   "cell_type": "markdown",
   "id": "4904e0ac",
   "metadata": {},
   "source": [
    "# 基本知识"
   ]
  },
  {
   "cell_type": "markdown",
   "id": "4cdab07a",
   "metadata": {},
   "source": [
    "## memcpy()函数"
   ]
  },
  {
   "cell_type": "markdown",
   "id": "bd9d15a1",
   "metadata": {},
   "source": [
    "memcpy函数是C/C++语言中的一个用于内存复制的函数，声明在 string.h 中（C++是 cstring）。其原型是："
   ]
  },
  {
   "cell_type": "raw",
   "id": "4ec7e4c4",
   "metadata": {},
   "source": [
    "void *memcpy(void *destin, void *source, unsigned n);"
   ]
  },
  {
   "cell_type": "markdown",
   "id": "1bcecd0c",
   "metadata": {},
   "source": [
    "作用是：以source指向的地址为起点，将连续的n个字节数据，复制到以destin指向的地址为起点的内存中。\n",
    "函数有三个参数，第一个是目标地址，第二个是源地址，第三个是数据长度。\n",
    "\n",
    "使用memcpy函数时，需要注意：\n",
    "\n",
    "数据长度（第三个参数）的单位是字节（1byte = 8bit）。\n",
    "注意该函数有一个返回值，类型是void*，是一个指向destin的指针。"
   ]
  },
  {
   "cell_type": "markdown",
   "id": "25b0a0c9",
   "metadata": {},
   "source": [
    "使用memcpy函数时，特别要注意数据长度。如果复制的数据类型是char，那么数据长度就等于元素的个数。而如果数据类型是其他（如int, double, 自定义结构体等），就要特别注意数据长度的值。  \n",
    "好的习惯是，无论拷贝何种数据类型，都用 n * sizeof(type_name)的写法。"
   ]
  },
  {
   "cell_type": "raw",
   "id": "aafa48dc",
   "metadata": {},
   "source": [
    "char a[10] = \"abcdefgh\";\n",
    "unsigned n = 2;\n",
    "void * p = memcpy(a+3, a, n);"
   ]
  },
  {
   "cell_type": "markdown",
   "id": "47777745",
   "metadata": {},
   "source": [
    "以上代码将从a开始的两个字节的数据（即’a’和’b’），复制到从a+3开始的内存（'d’所在的地址）。这样，'d’和’e’被替换。\n",
    "执行结束之后，字符数组（字符串）a的内容变为\"abcabfgh\"，返回值p即为a的地址（p == a）。"
   ]
  },
  {
   "cell_type": "markdown",
   "id": "eb1bbbeb",
   "metadata": {},
   "source": [
    "## ftok()函数"
   ]
  },
  {
   "cell_type": "markdown",
   "id": "8e43a8df",
   "metadata": {},
   "source": [
    "系统建立IPC通讯(如消息队列、共享内存时)必须指定一个ID值。通常情况下，该id值通过ftok函数得到。"
   ]
  },
  {
   "cell_type": "markdown",
   "id": "591a8752",
   "metadata": {},
   "source": [
    "ftok原型如下："
   ]
  },
  {
   "cell_type": "raw",
   "id": "ef88b483",
   "metadata": {},
   "source": [
    "头文件：\n",
    "#include <sys/types.h>\n",
    "#include <sys/ipc.h>"
   ]
  },
  {
   "cell_type": "raw",
   "id": "03c06b64",
   "metadata": {},
   "source": [
    "key_t ftok( char * fname, int id );"
   ]
  },
  {
   "cell_type": "markdown",
   "id": "ce4eba4e",
   "metadata": {},
   "source": [
    "fname就是你指定的文件名(该文件必须是存在而且可以访问的)，id是子序号，虽然为int，但是只有8个比特被使用(0-255)。\n",
    "\n",
    "当成功执行的时候，一个key_t值将会被返回，否则 -1 被返回。"
   ]
  },
  {
   "cell_type": "code",
   "execution_count": null,
   "id": "3ab333c9",
   "metadata": {},
   "outputs": [],
   "source": []
  }
 ],
 "metadata": {
  "kernelspec": {
   "display_name": "Python 3 (ipykernel)",
   "language": "python",
   "name": "python3"
  },
  "language_info": {
   "codemirror_mode": {
    "name": "ipython",
    "version": 3
   },
   "file_extension": ".py",
   "mimetype": "text/x-python",
   "name": "python",
   "nbconvert_exporter": "python",
   "pygments_lexer": "ipython3",
   "version": "3.9.7"
  },
  "nbTranslate": {
   "displayLangs": [
    "*"
   ],
   "hotkey": "alt-t",
   "langInMainMenu": true,
   "sourceLang": "en",
   "targetLang": "fr",
   "useGoogleTranslate": true
  },
  "toc": {
   "base_numbering": 1,
   "nav_menu": {},
   "number_sections": true,
   "sideBar": true,
   "skip_h1_title": false,
   "title_cell": "Table of Contents",
   "title_sidebar": "Contents",
   "toc_cell": false,
   "toc_position": {
    "height": "calc(100% - 180px)",
    "left": "10px",
    "top": "150px",
    "width": "354.625px"
   },
   "toc_section_display": true,
   "toc_window_display": true
  }
 },
 "nbformat": 4,
 "nbformat_minor": 5
}
