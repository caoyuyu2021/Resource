{
 "cells": [
  {
   "cell_type": "markdown",
   "id": "5b3b70e7",
   "metadata": {},
   "source": [
    "<font face=\"微软雅黑\" color=green size=5>C++基础</font>"
   ]
  },
  {
   "cell_type": "markdown",
   "id": "3510742f",
   "metadata": {},
   "source": [
    "C++ 读作“C加加”，是“C Plus Plus”的简称。顾名思义，C++ 是在C语言的基础上增加新特性，玩出了新花样，所以叫“C Plus Plus”。早期并没有“C++”这个名字，而是叫做“带类的C”。“带类的C”是作为C语言的一个扩展和补充出现的，它增加了很多新的语法，目的是提高开发效率。  \n",
    "我们很难说 C++ 拥有独立的编译器，例如 Windows 下的微软编译器（cl.exe）、Linux 下的 GCC 编译器、Mac 下的 Clang 编译器，它们都同时支持C语言和 C++，统称为 C/C++ 编译器。对于C语言代码，它们按照C语言的方式来编译；对于 C++ 代码，就按照 C++ 的方式编译。"
   ]
  },
  {
   "cell_type": "markdown",
   "id": "3131496c",
   "metadata": {},
   "source": [
    "C语言源文件的后缀非常统一，在不同的编译器下都是.c。C++ 源文件的后缀则有些混乱，不同的编译器支持不同的后缀，下表是一个简单的汇总："
   ]
  },
  {
   "cell_type": "markdown",
   "id": "01e0bab8",
   "metadata": {},
   "source": [
    "\n",
    "|编译器|Microsoft Visual C++|GCC（GNU C++）|Borland C++|\tUNIX|\n",
    "|:-----:|:-----:|:-----:|:-----:|:-----:|\n",
    "|后缀|cpp、cxx、cc|cpp、cxx、cc、c++、C|cpp|C、cc、cxx|"
   ]
  },
  {
   "cell_type": "markdown",
   "id": "2dea247b",
   "metadata": {},
   "source": [
    "# GCC编译C++语言程序的过程"
   ]
  },
  {
   "cell_type": "markdown",
   "id": "13ac5ef4",
   "metadata": {},
   "source": [
    "gcc是C语言的编译器，g++是c++的编译器。编译过程如下："
   ]
  },
  {
   "cell_type": "markdown",
   "id": "2b27a41d",
   "metadata": {},
   "source": [
    "-  创建一个cpp文件：`touch test_cpp.cpp`；"
   ]
  },
  {
   "cell_type": "markdown",
   "id": "16cc5d4d",
   "metadata": {},
   "source": [
    "-  对cpp文件进行编写：`vi test_cpp.cpp` 进入界面后，输入i，然后输入代码语句，输入完成后，按键盘上的Esc，按住shift键并输入：，然后输入wq，保存并退出；"
   ]
  },
  {
   "cell_type": "markdown",
   "id": "6d025390",
   "metadata": {},
   "source": [
    "-  输入`g++ test_cpp.cpp -o test_cpp.out` 对cpp文件进行编译，-o为重命名，否则，默认为a.out;"
   ]
  },
  {
   "cell_type": "markdown",
   "id": "b5a92690",
   "metadata": {},
   "source": [
    "-  运行cpp文件，输入`./test_cpp.out`。"
   ]
  },
  {
   "cell_type": "markdown",
   "id": "4904e0ac",
   "metadata": {},
   "source": [
    "# 从C到C++"
   ]
  },
  {
   "cell_type": "markdown",
   "id": "77ebc15f",
   "metadata": {},
   "source": [
    "## 命名空间"
   ]
  },
  {
   "cell_type": "markdown",
   "id": "405a5af6",
   "metadata": {},
   "source": [
    "namespace 是C++中的关键字，用来定义一个命名空间，语法格式为："
   ]
  },
  {
   "cell_type": "markdown",
   "id": "749a55b5",
   "metadata": {},
   "source": [
    "```C++\n",
    "namespace name{\n",
    "    //variables, functions, classes\n",
    "}\n",
    "```"
   ]
  },
  {
   "cell_type": "markdown",
   "id": "73887275",
   "metadata": {},
   "source": [
    "name是命名空间的名字，它里面可以包含变量、函数、类、typedef、#define 等，最后由{ }包围。"
   ]
  },
  {
   "cell_type": "markdown",
   "id": "b89bb03f",
   "metadata": {},
   "source": [
    "```C++\n",
    "namespace Li{  //小李的变量定义\n",
    "    FILE* fp = NULL;\n",
    "}\n",
    "namespace Han{  //小韩的变量定义\n",
    "    FILE* fp = NULL;\n",
    "}\n",
    "```"
   ]
  },
  {
   "cell_type": "markdown",
   "id": "4c3f0059",
   "metadata": {},
   "source": [
    "使用变量、函数时要指明它们所在的命名空间。以上面的 fp 变量为例，可以这样来使用："
   ]
  },
  {
   "cell_type": "markdown",
   "id": "68162df8",
   "metadata": {},
   "source": [
    "```C++\n",
    "Li::fp = fopen(\"one.txt\", \"r\");  //使用小李定义的变量 fp\n",
    "Han::fp = fopen(\"two.txt\", \"rb+\");  //使用小韩定义的变量 fp\n",
    "```"
   ]
  },
  {
   "cell_type": "markdown",
   "id": "ac421628",
   "metadata": {},
   "source": [
    "`::`是一个新符号，称为域解析操作符，在C++中用来指明要使用的命名空间。"
   ]
  },
  {
   "cell_type": "markdown",
   "id": "172e6064",
   "metadata": {},
   "source": [
    "除了直接使用域解析操作符，还可以采用 using 关键字声明，例如："
   ]
  },
  {
   "cell_type": "markdown",
   "id": "9d652d4b",
   "metadata": {},
   "source": [
    "```C++\n",
    "using Li::fp;\n",
    "fp = fopen(\"one.txt\", \"r\");  //使用小李定义的变量 fp\n",
    "Han :: fp = fopen(\"two.txt\", \"rb+\");  //使用小韩定义的变量 fp\n",
    "```"
   ]
  },
  {
   "cell_type": "markdown",
   "id": "0be7be67",
   "metadata": {},
   "source": [
    "在代码的开头用using声明了 Li::fp，它的意思是，using 声明以后的程序中如果出现了未指明命名空间的 fp，就使用 Li::fp；但是若要使用小韩定义的 fp，仍然需要 Han::fp。"
   ]
  },
  {
   "cell_type": "markdown",
   "id": "0f61036e",
   "metadata": {},
   "source": [
    "using 声明不仅可以针对命名空间中的一个变量，也可以用于声明整个命名空间，例如："
   ]
  },
  {
   "cell_type": "markdown",
   "id": "992c7b38",
   "metadata": {},
   "source": [
    "```C++\n",
    "using namespace Li;\n",
    "fp = fopen(\"one.txt\", \"r\");  //使用小李定义的变量 fp\n",
    "Han::fp = fopen(\"two.txt\", \"rb+\");  //使用小韩定义的变量 fp\n",
    "```"
   ]
  },
  {
   "cell_type": "markdown",
   "id": "11d3fdbf",
   "metadata": {},
   "source": [
    "如果命名空间 Li 中还定义了其他的变量，那么同样具有 fp 变量的效果。在 using 声明后，如果有未具体指定命名空间的变量产生了命名冲突，那么默认采用命名空间 Li 中的变量。\n",
    "\n",
    "命名空间内部不仅可以声明或定义变量，对于其它能在命名空间以外声明或定义的名称，同样也都能在命名空间内部进行声明或定义，例如类、函数、typedef、#define 等都可以出现在命名空间中。"
   ]
  },
  {
   "cell_type": "markdown",
   "id": "5fb24e60",
   "metadata": {},
   "source": [
    "```C++\n",
    "#include <stdio.h>\n",
    "//将类定义在命名空间中\n",
    "namespace Diy{\n",
    "    class Student{\n",
    "    public:\n",
    "        char *name;\n",
    "        int age;\n",
    "        float score;\n",
    "  \n",
    "    public:\n",
    "        void say(){\n",
    "            printf(\"%s的年龄是 %d，成绩是 %f\\n\", name, age, score);\n",
    "        }\n",
    "    };\n",
    "}\n",
    "int main(){\n",
    "    Diy::Student stu1;\n",
    "    stu1.name = \"小明\";\n",
    "    stu1.age = 15;\n",
    "    stu1.score = 92.5f;\n",
    "    stu1.say();\n",
    "    return 0;\n",
    "}\n",
    "```"
   ]
  },
  {
   "cell_type": "markdown",
   "id": "bcd6a28c",
   "metadata": {},
   "source": [
    "## 头文件"
   ]
  },
  {
   "cell_type": "markdown",
   "id": "9e4f78d2",
   "metadata": {},
   "source": [
    "C++ 是在C语言的基础上开发的，早期的 C++ 还不完善，不支持命名空间，没有自己的编译器，而是将 C++ 代码翻译成C代码，再通过C编译器完成编译。这个时候的 C++ 仍然在使用C语言的库，stdio.h、stdlib.h、string.h 等头文件依然有效；此外 C++ 也开发了一些新的库，增加了自己的头文件，例如：\n",
    "- iostream.h：用于控制台输入输出头文件。\n",
    "- fstream.h：用于文件操作的头文件。\n",
    "- complex.h：用于复数计算的头文件。\n",
    "\n",
    "和C语言一样，C++ 头文件仍然以.h为后缀，它们所包含的类、函数、宏等都是全局范围的。\n",
    "\n",
    "后来 C++ 引入了命名空间的概念，计划重新编写库，将类、函数、宏等都统一纳入一个命名空间，这个命名空间的名字就是std。std 是 standard 的缩写，意思是“标准命名空间”。\n",
    "\n",
    "但是这时已经有很多用老式 C++ 开发的程序了，它们的代码中并没有使用命名空间，直接修改原来的库会带来一个很严重的后果：程序员会因为不愿花费大量时间修改老式代码而极力反抗，拒绝使用新标准的 C++ 代码。\n",
    "\n",
    "C++ 开发人员想了一个好办法，保留原来的库和头文件，它们在 C++ 中可以继续使用，然后再把原来的库复制一份，在此基础上稍加修改，把类、函数、宏等纳入命名空间 std 下，就成了新版 C++ 标准库。这样共存在了两份功能相似的库，使用了老式 C++ 的程序可以继续使用原来的库，新开发的程序可以使用新版的 C++ 库。\n",
    "\n",
    "为了避免头文件重名，新版 C++ 库也对头文件的命名做了调整，去掉了后缀.h，所以老式 C++ 的iostream.h变成了iostream，fstream.h变成了fstream。而对于原来C语言的头文件，也采用同样的方法，但在每个名字前还要添加一个c字母，所以C语言的stdio.h变成了cstdio，stdlib.h变成了cstdlib。\n",
    "\n",
    "需要注意的是，旧的 C++ 头文件是官方所反对使用的，已明确提出不再支持，但旧的C头文件仍然可以使用，以保持对C的兼容性。实际上，编译器开发商不会停止对客户现有软件提供支持，可以预计，旧的 C++ 头文件在未来数年内还是会被支持。"
   ]
  },
  {
   "cell_type": "markdown",
   "id": "751f83cb",
   "metadata": {},
   "source": [
    "**对于不带.h的头文件，所有的符号都位于命名空间 std 中，使用时需要声明命名空间 std；对于带.h的头文件，没有使用任何命名空间，所有符号都位于全局作用域。这也是 C++ 标准所规定的。**"
   ]
  },
  {
   "cell_type": "markdown",
   "id": "b1202a1e",
   "metadata": {},
   "source": [
    "虽然 C++ 几乎完全兼容C语言，C语言的头文件在 C++ 中依然被支持，但 C++ 新增的库更加强大和灵活，请读者尽量使用这些 C++ 新增的头文件，例如 iostream、fstream、string 等。"
   ]
  },
  {
   "cell_type": "markdown",
   "id": "e6b116e6",
   "metadata": {},
   "source": [
    "```C++\n",
    "#include <iostream>\n",
    "#include <string>\n",
    "int main(){\n",
    "    //声明命名空间std\n",
    "    using namespace std;\n",
    "   \n",
    "    //定义字符串变量\n",
    "    string str;\n",
    "    //定义 int 变量\n",
    "    int age;\n",
    "    //从控制台获取用户输入\n",
    "    cin>>str>>age;\n",
    "    //将数据输出到控制台\n",
    "    cout<<str<<\"已经成立\"<<age<<\"年了！\"<<endl;\n",
    "    return 0;\n",
    "}\n",
    "```"
   ]
  },
  {
   "cell_type": "markdown",
   "id": "b4b0865f",
   "metadata": {},
   "source": [
    "`using namespace std;`，它声明了命名空间 std，后续如果有未指定命名空间的符号，那么默认使用 std，代码中的 string、cin、cout 都位于命名空间 std。"
   ]
  },
  {
   "cell_type": "markdown",
   "id": "cdd1da26",
   "metadata": {},
   "source": [
    "在 main() 函数中声明命名空间 std，它的作用范围就位于 main() 函数内部，如果在其他函数中又用到了 std，就需要重新声明"
   ]
  },
  {
   "cell_type": "markdown",
   "id": "1be20c12",
   "metadata": {},
   "source": [
    "```C++\n",
    "#include <iostream>\n",
    "void func(){\n",
    "    //必须重新声明\n",
    "    using namespace std;\n",
    "    cout<<\"http://c.biancheng.net\"<<endl;\n",
    "}\n",
    "int main(){\n",
    "    //声明命名空间std\n",
    "    using namespace std;\n",
    "   \n",
    "    cout<<\"C语言中文网\"<<endl;\n",
    "    func();\n",
    "    return 0;\n",
    "}\n",
    "```"
   ]
  },
  {
   "cell_type": "markdown",
   "id": "f5f1e7ef",
   "metadata": {},
   "source": [
    "如果希望在所有函数中都使用命名空间 std，可以将它声明在全局范围中，例如："
   ]
  },
  {
   "cell_type": "markdown",
   "id": "cb3595b5",
   "metadata": {},
   "source": [
    "```C++\n",
    "#include <iostream>\n",
    "//声明命名空间std\n",
    "using namespace std;\n",
    "void func(){\n",
    "    cout<<\"http://c.biancheng.net\"<<endl;\n",
    "}\n",
    "int main(){\n",
    "    cout<<\"C语言中文网\"<<endl;\n",
    "    func();\n",
    "    return 0;\n",
    "}\n",
    "```"
   ]
  },
  {
   "cell_type": "markdown",
   "id": "97105496",
   "metadata": {},
   "source": [
    "## 输入输出"
   ]
  },
  {
   "cell_type": "markdown",
   "id": "28b08857",
   "metadata": {},
   "source": [
    "在C语言中，我们通常会使用 scanf 和 printf 来对数据进行输入输出操作。在C++语言中，C语言的这一套输入输出库我们仍然能使用，但是 C++ 又增加了一套新的、更容易使用的输入输出库。"
   ]
  },
  {
   "cell_type": "markdown",
   "id": "61f6271f",
   "metadata": {},
   "source": [
    "```C++\n",
    "#include<iostream>\n",
    "using namespace std;\n",
    "int main(){\n",
    "    int x;\n",
    "    float y;\n",
    "    cout<<\"Please input an int number:\"<<endl;\n",
    "    cin>>x;\n",
    "    cout<<\"The int number is x= \"<<x<<endl;\n",
    "    cout<<\"Please input a float number:\"<<endl;\n",
    "    cin>>y;\n",
    "    cout<<\"The float number is y= \"<<y<<endl;   \n",
    "    return 0;\n",
    "}\n",
    "```"
   ]
  },
  {
   "cell_type": "markdown",
   "id": "0bc42f02",
   "metadata": {},
   "source": [
    "C++ 中的输入与输出可以看做是一连串的数据流，输入即可视为从文件或键盘中输入程序中的一串数据流，而输出则可以视为从程序中输出一连串的数据流到显示屏或文件中。\n",
    "\n",
    "在编写 C++ 程序时，如果需要使用输入输出时，则需要包含头文件iostream，它包含了用于输入输出的对象，例如常见的cin表示标准输入、cout表示标准输出、cerr表示标准错误。\n",
    "iostream 是 Input Output Stream 的缩写，意思是“输入输出流”。\n",
    "cout 和 cin 都是 C++ 的内置对象，而不是关键字。C++ 库定义了大量的类（Class），程序员可以使用它们来创建对象，cout 和 cin 就分别是 ostream 和 istream 类的对象，只不过它们是由标准库的开发者提前创建好的，可以直接拿来使用。这种在 C++ 中提前创建好的对象称为内置对象。\n",
    "\n",
    "使用 cout 进行输出时需要紧跟`<<`运算符，使用 cin 进行输入时需要紧跟`>>`运算符，这两个运算符可以自行分析所处理的数据类型，因此无需像使用 scanf 和 printf 那样给出格式控制字符串。"
   ]
  },
  {
   "cell_type": "markdown",
   "id": "0b363cab",
   "metadata": {},
   "source": [
    "endl表示换行，与C语言里的\\n作用相同。"
   ]
  },
  {
   "cell_type": "markdown",
   "id": "29a47ac7",
   "metadata": {},
   "source": [
    "## 变量的定义位置"
   ]
  },
  {
   "cell_type": "markdown",
   "id": "fbcab020",
   "metadata": {},
   "source": [
    "C++ 不但在C语言的基础上进行了很多扩展，而且也对C语言部分做了细节上的改进，变量的定义位置就是其中之一。\n",
    "\n",
    "C89 规定，所有局部变量都必须定义在函数开头，在定义好变量之前不能有其他的执行语句。C99 标准取消这这条限制，但是 VC/VS 对 C99 的支持很不积极，仍然要求变量定义在函数开头。"
   ]
  },
  {
   "cell_type": "markdown",
   "id": "fad978a1",
   "metadata": {},
   "source": [
    "```C++\n",
    "#include <stdio.h>\n",
    "int main(){\n",
    "    int a;\n",
    "    scanf(\"%d\", &a);\n",
    "    int b;\n",
    "    scanf(\"%d\", &b);\n",
    "    int c = a + b;\n",
    "    printf(\"%d\\n\", c);\n",
    "    return 0;\n",
    "}\n",
    "```"
   ]
  },
  {
   "cell_type": "markdown",
   "id": "e4b54840",
   "metadata": {},
   "source": [
    "将代码保存到源文件main.c，那么它可以在 GCC、Xcode 下编译通过，但在 VC/VS 下会报错。GCC、Xcode 对 C99 的支持非常好，可以在函数的任意位置定义变量；但 VC/VS 对 C99 的支持寥寥无几，必须在函数开头定义好所有变量。\n",
    "\n",
    "将上面的代码再保存到源文件main.cpp，那么它在 GCC、Xcode、VC/VS 下都可以编译通过。这是因为 C++ 取消了原来的限制，变量只要在使用之前定义好即可，不强制必须在函数开头定义所有变量。"
   ]
  },
  {
   "cell_type": "markdown",
   "id": "3d9bedcf",
   "metadata": {},
   "source": [
    "## 布尔类型"
   ]
  },
  {
   "cell_type": "markdown",
   "id": "d6faeafc",
   "metadata": {},
   "source": [
    "C语言并没有彻底从语法上支持“真”和“假”，只是用 0 和非 0 来代表。这点在 C++ 中得到了改善，C++ 新增了 bool 类型（布尔类型），它一般占用 1 个字节长度。bool 类型只有两个取值，true 和 false：true 表示“真”，false 表示“假”。\n",
    "\n",
    "bool 是类型名字，也是 C++ 中的关键字，它的用法和 int、char、long 是一样的，请看下面的例子："
   ]
  },
  {
   "cell_type": "markdown",
   "id": "633037ea",
   "metadata": {},
   "source": [
    "```C++\n",
    "#include <iostream>\n",
    "using namespace std;\n",
    "int main(){\n",
    "    int a, b;\n",
    "    bool flag;  //定义布尔变量\n",
    "    cin>>a>>b;\n",
    "    flag = a > b;\n",
    "    cout<<\"flag = \"<<flag<<endl;\n",
    "    return 0;\n",
    "}\n",
    "```"
   ]
  },
  {
   "cell_type": "markdown",
   "id": "0094c00c",
   "metadata": {},
   "source": [
    "遗憾的是，在 C++ 中使用 cout 输出 bool 变量的值时还是用数字 1 和 0 表示，而不是 true 或 false。"
   ]
  },
  {
   "cell_type": "markdown",
   "id": "df574edf",
   "metadata": {},
   "source": [
    "## new和delete运算符"
   ]
  },
  {
   "cell_type": "markdown",
   "id": "90ec835a",
   "metadata": {},
   "source": [
    "在C语言中，动态分配内存用 malloc() 函数，释放内存用 free() 函数。如下所示："
   ]
  },
  {
   "cell_type": "markdown",
   "id": "e6fa9aa8",
   "metadata": {},
   "source": [
    "```C++\n",
    "int *p = (int*) malloc( sizeof(int) * 10 );  //分配10个int型的内存空间\n",
    "free(p);  //释放内存\n",
    "```"
   ]
  },
  {
   "cell_type": "markdown",
   "id": "354b6cdf",
   "metadata": {},
   "source": [
    "在C++中，这两个函数仍然可以使用，但是C++又新增了两个关键字，new 和 delete：new 用来动态分配内存，delete 用来释放内存。\n",
    "\n",
    "用 new 和 delete 分配内存更加简单："
   ]
  },
  {
   "cell_type": "markdown",
   "id": "631c0c60",
   "metadata": {},
   "source": [
    "```C++\n",
    "int *p = new int;  //分配1个int型的内存空间\n",
    "delete p;  //释放内存\n",
    "```"
   ]
  },
  {
   "cell_type": "markdown",
   "id": "0464ac3e",
   "metadata": {},
   "source": [
    "new 操作符会根据后面的数据类型来推断所需空间的大小。  \n",
    "如果希望分配一组连续的数据，可以使用 new[]："
   ]
  },
  {
   "cell_type": "markdown",
   "id": "688270df",
   "metadata": {},
   "source": [
    "```C++\n",
    "int *p = new int[10];  //分配10个int型的内存空间\n",
    "delete[] p;\n",
    "```"
   ]
  },
  {
   "cell_type": "markdown",
   "id": "83729716",
   "metadata": {},
   "source": [
    "用 new[] 分配的内存需要用 delete[] 释放，它们是一一对应的。\n",
    "\n",
    "和 malloc() 一样，new 也是在堆区分配内存，必须手动释放，否则只能等到程序运行结束由操作系统回收。为了避免内存泄露，通常 new 和 delete、new[] 和 delete[] 操作符应该成对出现，并且不要和C语言中 malloc()、free() 一起混用。"
   ]
  },
  {
   "cell_type": "markdown",
   "id": "0e71021c",
   "metadata": {},
   "source": [
    "## 函数顺序"
   ]
  },
  {
   "cell_type": "markdown",
   "id": "d5bc30f8",
   "metadata": {},
   "source": [
    "函数是一个可以重复使用的代码块，CPU 会一条一条地挨着执行其中的代码。CPU 在执行主调函数代码时如果遇到了被调函数，主调函数就会暂停，CPU 转而执行被调函数的代码；被调函数执行完毕后再返回到主调函数，主调函数根据刚才的状态继续往下执行。\n",
    "\n",
    "一个 C/C++ 程序的执行过程可以认为是多个函数之间的相互调用过程，它们形成了一个或简单或复杂的调用链条，这个链条的起点是 main()，终点也是 main()。当 main() 调用完了所有的函数，它会返回一个值（例如return 0;）来结束自己的生命，从而结束整个程序。\n",
    "\n",
    "函数调用是有时间和空间开销的。程序在执行一个函数之前需要做一些准备工作，要将实参、局部变量、返回地址以及若干寄存器都压入栈中，然后才能执行函数体中的代码；函数体中的代码执行完毕后还要清理现场，将之前压入栈中的数据都出栈，才能接着执行函数调用位置以后的代码。"
   ]
  },
  {
   "cell_type": "markdown",
   "id": "f0769d0e",
   "metadata": {},
   "source": [
    "## 函数的默认参数"
   ]
  },
  {
   "cell_type": "markdown",
   "id": "a689c8b3",
   "metadata": {},
   "source": [
    "在C++中，定义函数时可以给形参指定一个默认的值，这样调用函数时如果没有给这个形参赋值（没有对应的实参），那么就使用这个默认的值。也就是说，调用函数时可以省略有默认值的参数。如果用户指定了参数的值，那么就使用用户指定的值，否则使用参数的默认值。\n",
    "\n",
    "所谓默认参数，指的是当函数调用中省略了实参时自动使用的一个值，这个值就是给形参指定的默认值。下面是一个简单的示例："
   ]
  },
  {
   "cell_type": "markdown",
   "id": "42b7bdf7",
   "metadata": {},
   "source": [
    "```C++\n",
    "#include<iostream>\n",
    "using namespace std;\n",
    "//带默认参数的函数\n",
    "void func(int n, float b=1.2, char c='@'){\n",
    "    cout<<n<<\", \"<<b<<\", \"<<c<<endl;\n",
    "}\n",
    "int main(){\n",
    "    //为所有参数传值\n",
    "    func(10, 3.5, '#');\n",
    "    //为n、b传值，相当于调用func(20, 9.8, '@')\n",
    "    func(20, 9.8);\n",
    "    //只为n传值，相当于调用func(30, 1.2, '@')\n",
    "    func(30);\n",
    "    return 0;\n",
    "}\n",
    "```"
   ]
  },
  {
   "cell_type": "markdown",
   "id": "655065ff",
   "metadata": {},
   "source": [
    "默认参数除了使用数值常量指定，也可以使用表达式指定，例如："
   ]
  },
  {
   "cell_type": "markdown",
   "id": "b27f9bd3",
   "metadata": {},
   "source": [
    "```C++\n",
    "float d = 10.8;\n",
    "void func(int n, float b=d+2.9, char c='@'){\n",
    "    cout<<n<<\", \"<<b<<\", \"<<c<<endl;\n",
    "}\n",
    "```"
   ]
  },
  {
   "cell_type": "markdown",
   "id": "833f2093",
   "metadata": {},
   "source": [
    "C++规定，默认参数只能放在形参列表的最后，而且一旦为某个形参指定了默认值，那么它后面的所有形参都必须有默认值。实参和形参的传值是从左到右依次匹配的，默认参数的连续性是保证正确传参的前提。"
   ]
  },
  {
   "cell_type": "markdown",
   "id": "f3173202",
   "metadata": {},
   "source": [
    "下面的写法是正确的："
   ]
  },
  {
   "cell_type": "markdown",
   "id": "82de2443",
   "metadata": {},
   "source": [
    "```C++\n",
    "void func(int a, int b=10, int c=20){ }\n",
    "void func(int a, int b, int c=20){ }\n",
    "```"
   ]
  },
  {
   "cell_type": "markdown",
   "id": "4ef13ebb",
   "metadata": {},
   "source": [
    "## 函数重载"
   ]
  },
  {
   "cell_type": "markdown",
   "id": "a5e08800",
   "metadata": {},
   "source": [
    "在实际开发中，有时候我们需要实现几个功能类似的函数，只是有些细节不同。例如希望交换两个变量的值，这两个变量有多种类型，可以是 int、float、char、bool 等，我们需要通过参数把变量的地址传入函数内部。在C语言中，程序员往往需要分别设计出三个不同名的函数，其函数原型与下面类似："
   ]
  },
  {
   "cell_type": "markdown",
   "id": "6046e6f1",
   "metadata": {},
   "source": [
    "```C++\n",
    "void swap1(int *a, int *b);      //交换 int 变量的值\n",
    "void swap2(float *a, float *b);  //交换 float 变量的值\n",
    "void swap3(char *a, char *b);    //交换 char 变量的值\n",
    "void swap4(bool *a, bool *b);    //交换 bool 变量的值\n",
    "```"
   ]
  },
  {
   "cell_type": "markdown",
   "id": "7db0412b",
   "metadata": {},
   "source": [
    "但在C++中，这完全没有必要。C++ 允许多个函数拥有相同的名字，只要它们的参数列表不同就可以，这就是函数的重载（Function Overloading）。借助重载，一个函数名可以有多种用途。\n",
    "\n",
    "参数列表又叫参数签名，包括参数的类型、参数的个数和参数的顺序，只要有一个不同就叫做参数列表不同。"
   ]
  },
  {
   "cell_type": "markdown",
   "id": "e2508ad2",
   "metadata": {},
   "source": [
    "```C++\n",
    "#include <iostream>\n",
    "using namespace std;\n",
    "//交换 int 变量的值\n",
    "void Swap(int *a, int *b){\n",
    "    int temp = *a;\n",
    "    *a = *b;\n",
    "    *b = temp;\n",
    "}\n",
    "//交换 float 变量的值\n",
    "void Swap(float *a, float *b){\n",
    "    float temp = *a;\n",
    "    *a = *b;\n",
    "    *b = temp;\n",
    "}\n",
    "//交换 char 变量的值\n",
    "void Swap(char *a, char *b){\n",
    "    char temp = *a;\n",
    "    *a = *b;\n",
    "    *b = temp;\n",
    "}\n",
    "//交换 bool 变量的值\n",
    "void Swap(bool *a, bool *b){\n",
    "    char temp = *a;\n",
    "    *a = *b;\n",
    "    *b = temp;\n",
    "}\n",
    "int main(){\n",
    "    //交换 int 变量的值\n",
    "    int n1 = 100, n2 = 200;\n",
    "    Swap(&n1, &n2);\n",
    "    cout<<n1<<\", \"<<n2<<endl;\n",
    "   \n",
    "    //交换 float 变量的值\n",
    "    float f1 = 12.5, f2 = 56.93;\n",
    "    Swap(&f1, &f2);\n",
    "    cout<<f1<<\", \"<<f2<<endl;\n",
    "   \n",
    "    //交换 char 变量的值\n",
    "    char c1 = 'A', c2 = 'B';\n",
    "    Swap(&c1, &c2);\n",
    "    cout<<c1<<\", \"<<c2<<endl;\n",
    "   \n",
    "    //交换 bool 变量的值\n",
    "    bool b1 = false, b2 = true;\n",
    "    Swap(&b1, &b2);\n",
    "    cout<<b1<<\", \"<<b2<<endl;\n",
    "    return 0;\n",
    "}\n",
    "```"
   ]
  },
  {
   "cell_type": "markdown",
   "id": "52ac6c08",
   "metadata": {},
   "source": [
    "函数的重载的规则：\n",
    "- 函数名称必须相同。\n",
    "- 参数列表必须不同（个数不同、类型不同、参数排列顺序不同等）。\n",
    "- 函数的返回类型可以相同也可以不相同。\n",
    "- 仅仅返回类型不同不足以成为函数的重载。"
   ]
  },
  {
   "cell_type": "markdown",
   "id": "24698d4e",
   "metadata": {},
   "source": [
    "# 类和对象"
   ]
  },
  {
   "cell_type": "markdown",
   "id": "b174f699",
   "metadata": {},
   "source": [
    "类是创建对象的模板，一个类可以创建多个对象，每个对象都是类类型的一个变量；创建对象的过程也叫类的实例化。每个对象都是类的一个具体实例（Instance），拥有类的成员变量和成员函数。\n",
    "有些教程将类的成员变量称为类的属性（Property），将类的成员函数称为类的方法（Method）。在面向对象的编程语言中，经常把函数（Function）称为方法（Method）。\n",
    "与结构体一样，类只是一种复杂数据类型的声明，不占用内存空间。而对象是类这种数据类型的一个变量，或者说是通过类这种数据类型创建出来的一份实实在在的数据，所以占用内存空间。"
   ]
  },
  {
   "cell_type": "markdown",
   "id": "8126b5f9",
   "metadata": {},
   "source": [
    "## 类的定义"
   ]
  },
  {
   "cell_type": "markdown",
   "id": "fc980c51",
   "metadata": {},
   "source": [
    "类是用户自定义的类型，如果程序中要用到类，必须提前说明，或者使用已存在的类（别人写好的类、标准库中的类等），C++语法本身并不提供现成的类的名称、结构和内容。\n",
    "\n",
    "一个简单的类的定义："
   ]
  },
  {
   "cell_type": "markdown",
   "id": "0445d7a5",
   "metadata": {},
   "source": [
    "```C++\n",
    "class Student{\n",
    "public:\n",
    "    //成员变量\n",
    "    char *name;\n",
    "    int age;\n",
    "    float score;\n",
    "    //成员函数\n",
    "    void say(){\n",
    "        cout<<name<<\"的年龄是\"<<age<<\"，成绩是\"<<score<<endl;\n",
    "    }\n",
    "};\n",
    "```"
   ]
  },
  {
   "cell_type": "markdown",
   "id": "671bfde0",
   "metadata": {},
   "source": [
    "class是 C++ 中新增的关键字，专门用来定义类。Student是类的名称；类名的首字母一般大写，以和其他的标识符区分开。{ }内部是类所包含的成员变量和成员函数，它们统称为类的成员（Member）；由{ }包围起来的部分有时也称为类体，和函数体的概念类似。public也是 C++ 的新增关键字，它只能用在类的定义中，表示类的成员变量或成员函数具有“公开”的访问权限，注意在类定义的最后有一个分号;，它是类定义的一部分，表示类定义结束了，不能省略。\n",
    "整体上讲，上面的代码创建了一个 Student 类，它包含了 3 个成员变量和 1 个成员函数。\n",
    "\n",
    "类只是一个模板（Template），编译后不占用内存空间，所以在定义类时不能对成员变量进行初始化，因为没有地方存储数据。只有在创建对象以后才会给成员变量分配内存，这个时候就可以赋值了。\n",
    "\n",
    "类可以理解为一种新的数据类型，该数据类型的名称是 Student。与 char、int、float 等基本数据类型不同的是，Student 是一种复杂数据类型，可以包含基本类型，而且还有很多基本类型中没有的特性。"
   ]
  },
  {
   "cell_type": "markdown",
   "id": "df452c0b",
   "metadata": {},
   "source": [
    "## 创建对象"
   ]
  },
  {
   "cell_type": "markdown",
   "id": "48dc3102",
   "metadata": {},
   "source": [
    "有了 Student 类后，就可以通过它来创建对象了，例如：  \n",
    "`Student liLei;  //创建对象`  \n",
    "Student是类名，liLei是对象名。这和使用基本类型定义变量的形式类似：  \n",
    "`int a;  //定义整型变量`  \n",
    "从这个角度考虑，我们可以把 Student 看做一种新的数据类型，把 liLei 看做一个变量。  \n",
    "\n",
    "在创建对象时，class 关键字可要可不要，但是出于习惯我们通常会省略掉 class 关键字，例如：  \n",
    "`class Student LiLei;  //正确`  \n",
    "`Student LiLei;  //同样正确`  \n",
    "除了创建单个对象，还可以创建对象数组：  \n",
    "`Student allStu[100];`  \n",
    "该语句创建了一个 allStu 数组，它拥有100个元素，每个元素都是 Student 类型的对象。"
   ]
  },
  {
   "cell_type": "markdown",
   "id": "e819f373",
   "metadata": {},
   "source": [
    "## 访问类的成员"
   ]
  },
  {
   "cell_type": "markdown",
   "id": "14a80d52",
   "metadata": {},
   "source": [
    "创建对象以后，可以使用点号`.`来访问成员变量和成员函数，这和通过结构体变量来访问它的成员类似，如下所示："
   ]
  },
  {
   "cell_type": "markdown",
   "id": "72e6739c",
   "metadata": {},
   "source": [
    "```C++\n",
    "#include <iostream>\n",
    "using namespace std;\n",
    "//类通常定义在函数外面\n",
    "class Student{\n",
    "public:\n",
    "    //类包含的变量\n",
    "    char *name;\n",
    "    int age;\n",
    "    float score;\n",
    "    //类包含的函数\n",
    "    void say(){\n",
    "        cout<<name<<\"的年龄是\"<<age<<\"，成绩是\"<<score<<endl;\n",
    "    }\n",
    "};\n",
    "int main(){\n",
    "    //创建对象\n",
    "    Student stu;\n",
    "    stu.name = \"小明\";\n",
    "    stu.age = 15;\n",
    "    stu.score = 92.5f;\n",
    "    stu.say();\n",
    "    return 0;\n",
    "}\n",
    "```"
   ]
  },
  {
   "cell_type": "markdown",
   "id": "fe448356",
   "metadata": {},
   "source": [
    "## 使用对象指针"
   ]
  },
  {
   "cell_type": "markdown",
   "id": "459c602c",
   "metadata": {},
   "source": [
    "C语言中经典的指针在 C++ 中仍然广泛使用，尤其是指向对象的指针，没有它就不能实现某些功能。\n",
    "\n",
    "上面代码中创建的对象 stu 在栈上分配内存，需要使用&获取它的地址，例如："
   ]
  },
  {
   "cell_type": "markdown",
   "id": "ec48f8e0",
   "metadata": {},
   "source": [
    "```C++\n",
    "Student stu;\n",
    "Student *pStu = &stu;\n",
    "```"
   ]
  },
  {
   "cell_type": "markdown",
   "id": "79867b56",
   "metadata": {},
   "source": [
    "pStu 是一个指针，它指向 Student 类型的数据，也就是通过 Student 创建出来的对象。\n",
    "\n",
    "当然，你也可以在堆上创建对象，这个时候就需要使用前面讲到的new关键字"
   ]
  },
  {
   "cell_type": "markdown",
   "id": "5459e056",
   "metadata": {},
   "source": [
    "`Student *pStu = new Student;`"
   ]
  },
  {
   "cell_type": "markdown",
   "id": "33e631b0",
   "metadata": {},
   "source": [
    "在栈上创建出来的对象都有一个名字，比如 stu，使用指针指向它不是必须的。但是通过 new 创建出来的对象就不一样了，它在堆上分配内存，没有名字，只能得到一个指向它的指针，所以必须使用一个指针变量来接收这个指针，否则以后再也无法找到这个对象了，更没有办法使用它。也就是说，**使用 new 在堆上创建出来的对象是匿名的，没法直接使用，必须要用一个指针指向它，再借助指针来访问它的成员变量或成员函数**。"
   ]
  },
  {
   "cell_type": "markdown",
   "id": "58a0ae99",
   "metadata": {},
   "source": [
    "栈内存是程序自动管理的，不能使用 delete 删除在栈上创建的对象；堆内存由程序员管理，对象使用完毕后可以通过 delete 删除。在实际开发中，new 和 delete 往往成对出现，以保证及时删除不再使用的对象，防止无用内存堆积。"
   ]
  },
  {
   "cell_type": "markdown",
   "id": "f1aae458",
   "metadata": {},
   "source": [
    "有了对象指针后，可以通过箭头`->`来访问对象的成员变量和成员函数，这和通过结构体指针来访问它的成员类似，请看下面的示例："
   ]
  },
  {
   "cell_type": "markdown",
   "id": "300f38fe",
   "metadata": {},
   "source": [
    "```C++\n",
    "pStu -> name = \"小明\";\n",
    "pStu -> age = 15;\n",
    "pStu -> score = 92.5f;\n",
    "pStu -> say();\n",
    "```"
   ]
  },
  {
   "cell_type": "markdown",
   "id": "389dc93a",
   "metadata": {},
   "source": [
    "```C++\n",
    "#include <iostream>\n",
    "using namespace std;\n",
    "class Student{\n",
    "public:\n",
    "    char *name;\n",
    "    int age;\n",
    "    float score;\n",
    "    void say(){\n",
    "        cout<<name<<\"的年龄是\"<<age<<\"，成绩是\"<<score<<endl;\n",
    "    }\n",
    "};\n",
    "int main(){\n",
    "    Student *pStu = new Student;\n",
    "    pStu -> name = \"小明\";\n",
    "    pStu -> age = 15;\n",
    "    pStu -> score = 92.5f;\n",
    "    pStu -> say();\n",
    "    delete pStu;  //删除对象\n",
    "    return 0;\n",
    "}\n",
    "```"
   ]
  },
  {
   "cell_type": "markdown",
   "id": "de0dc04a",
   "metadata": {},
   "source": [
    "两种创建对象的方式：一种是在栈上创建，形式和定义普通变量类似；另外一种是在堆上使用 new 关键字创建，必须要用一个指针指向它，要记得 delete 掉不再使用的对象."
   ]
  },
  {
   "cell_type": "markdown",
   "id": "16beb460",
   "metadata": {},
   "source": [
    "通过对象名字访问成员使用点号.，通过对象指针访问成员使用箭头->，这和结构体非常类似。"
   ]
  },
  {
   "cell_type": "markdown",
   "id": "ddc747f3",
   "metadata": {},
   "source": [
    "## 类的成员变量和成员函数"
   ]
  },
  {
   "cell_type": "markdown",
   "id": "23f0a73e",
   "metadata": {},
   "source": [
    "类可以看做是一种数据类型，它类似于普通的数据类型，但是又有别于普通的数据类型。类这种数据类型是一个包含成员变量和成员函数的集合。\n",
    "\n",
    "类的成员变量和普通变量一样，也有数据类型和名称，占用固定长度的内存。但是，在定义类的时候不能对成员变量赋值，因为类只是一种数据类型或者说是一种模板，本身不占用内存空间，而变量的值则需要内存来存储。\n",
    "\n",
    "类的成员函数也和普通函数一样，都有返回值和参数列表，它与一般函数的区别是：成员函数是一个类的成员，出现在类体中，它的作用范围由类来决定；而普通函数是独立的，作用范围是全局的，或位于某个命名空间内。"
   ]
  },
  {
   "cell_type": "markdown",
   "id": "bb1c8b3e",
   "metadata": {},
   "source": [
    "```C++\n",
    "class Student{\n",
    "public:\n",
    "    //成员变量\n",
    "    char *name;\n",
    "    int age;\n",
    "    float score;\n",
    "    //成员函数\n",
    "    void say();  //函数声明\n",
    "};\n",
    "//函数定义\n",
    "void Student::say(){\n",
    "    cout<<name<<\"的年龄是\"<<age<<\"，成绩是\"<<score<<endl;\n",
    "}\n",
    "```"
   ]
  },
  {
   "cell_type": "markdown",
   "id": "edeba616",
   "metadata": {},
   "source": [
    "在类体中直接定义函数时，不需要在函数名前面加上类名，因为函数属于哪一个类是不言而喻的。\n",
    "\n",
    "但当成员函数定义在类外时，就必须在函数名前面加上类名予以限定。::被称为域解析符（也称作用域运算符或作用域限定符），用来连接类名和函数名，指明当前函数属于哪个类。\n",
    "\n",
    "成员函数必须先在类体中作原型声明，然后在类外定义，也就是说类体的位置应在函数定义之前。"
   ]
  },
  {
   "cell_type": "markdown",
   "id": "13bc1555",
   "metadata": {},
   "source": [
    "## 类成员的访问权限以及类的封装"
   ]
  },
  {
   "cell_type": "markdown",
   "id": "87a24ebf",
   "metadata": {},
   "source": [
    "C++通过 public、protected、private 三个关键字来控制成员变量和成员函数的访问权限，它们分别表示公有的、受保护的、私有的，被称为成员访问限定符。所谓访问权限，就是你能不能使用该类中的成员。  \n",
    "Java、C# 程序员注意，C++ 中的 public、private、protected 只能修饰类的成员，不能修饰类，C++中的类没有共有私有之分。  \n",
    "在类的内部（定义类的代码内部），无论成员被声明为 public、protected 还是 private，都是可以互相访问的，没有访问权限的限制。  \n",
    "\n",
    "在类的外部（定义类的代码之外），只能通过对象访问成员，并且通过对象只能访问 public 属性的成员，不能访问 private、protected 属性的成员。"
   ]
  },
  {
   "cell_type": "markdown",
   "id": "7ba4fb0d",
   "metadata": {},
   "source": [
    "```C++\n",
    "#include <iostream>\n",
    "using namespace std;\n",
    "//类的声明\n",
    "class Student{\n",
    "private:  //私有的\n",
    "    char *m_name;\n",
    "    int m_age;\n",
    "    float m_score;\n",
    "public:  //共有的\n",
    "    void setname(char *name);\n",
    "    void setage(int age);\n",
    "    void setscore(float score);\n",
    "    void show();\n",
    "};\n",
    "//成员函数的定义\n",
    "void Student::setname(char *name){\n",
    "    m_name = name;\n",
    "}\n",
    "void Student::setage(int age){\n",
    "    m_age = age;\n",
    "}\n",
    "void Student::setscore(float score){\n",
    "    m_score = score;\n",
    "}\n",
    "void Student::show(){\n",
    "    cout<<m_name<<\"的年龄是\"<<m_age<<\"，成绩是\"<<m_score<<endl;\n",
    "}\n",
    "int main(){\n",
    "    //在栈上创建对象\n",
    "    Student stu;\n",
    "    stu.setname(\"小明\");\n",
    "    stu.setage(15);\n",
    "    stu.setscore(92.5f);\n",
    "    stu.show();\n",
    "    //在堆上创建对象\n",
    "    Student *pstu = new Student;\n",
    "    pstu -> setname(\"李华\");\n",
    "    pstu -> setage(16);\n",
    "    pstu -> setscore(96);\n",
    "    pstu -> show();\n",
    "    return 0;\n",
    "}\n",
    "```"
   ]
  },
  {
   "cell_type": "markdown",
   "id": "0e28eb85",
   "metadata": {},
   "source": [
    "类的声明和成员函数的定义都是类定义的一部分，在实际开发中，我们通常将类的声明放在头文件中，而将成员函数的定义放在源文件中。\n",
    "\n",
    "类中的成员变量 m_name、m_age 和m_ score 被设置成 private 属性，在类的外部不能通过对象访问。也就是说，私有成员变量和成员函数只能在类内部使用，在类外都是无效的。\n",
    "\n",
    "成员函数 setname()、setage() 和 setscore() 被设置为 public 属性，是公有的，可以通过对象访问。\n",
    "\n",
    "private 后面的成员都是私有的，直到有 public 出现才会变成共有的；public 之后再无其他限定符，所以 public 后面的成员都是共有的。\n",
    "\n",
    "成员变量大都以m_开头，这是约定成俗的写法，不是语法规定的内容。以m_开头既可以一眼看出这是成员变量，又可以和成员函数中的形参名字区分开。"
   ]
  },
  {
   "cell_type": "markdown",
   "id": "b6c3346b",
   "metadata": {},
   "source": [
    "private 关键字的作用在于更好地隐藏类的内部实现，该向外暴露的接口（能通过对象访问的成员）都声明为 public，不希望外部知道、或者只在类内部使用的、或者对外部没有影响的成员，都建议声明为 private。\n",
    "\n",
    "根据C++软件设计规范，实际项目开发中的成员变量以及只在类内部使用的成员函数（只被成员函数调用的成员函数）都建议声明为 private，而只将允许通过对象调用的成员函数声明为 public。\n",
    "另外还有一个关键字 protected，声明为 protected 的成员在类外也不能通过对象访问，但是在它的派生类内部可以访问。\n",
    "\n",
    "我们可以额外添加两个 public 属性的成员函数，一个用来设置成员变量的值，一个用来获取成员变量的值。上面的代码中，setname()、setage()、setscore() 函数就用来设置成员变量的值；如果希望获取成员变量的值，可以再添加三个函数 getname()、getage()、getscore()。\n",
    "\n",
    "给成员变量赋值的函数通常称为 set 函数，它们的名字通常以set开头，后跟成员变量的名字；读取成员变量的值的函数通常称为 get 函数，它们的名字通常以get开头，后跟成员变量的名字。"
   ]
  },
  {
   "cell_type": "markdown",
   "id": "dcb59a1c",
   "metadata": {},
   "source": [
    "## 构造函数"
   ]
  },
  {
   "cell_type": "markdown",
   "id": "4721adad",
   "metadata": {},
   "source": [
    "在C++中，有一种特殊的成员函数，它的名字和类名相同，没有返回值，不需要用户显式调用（用户也不能调用），而是在创建对象时自动执行。这种特殊的成员函数就是构造函数（Constructor）。"
   ]
  },
  {
   "cell_type": "markdown",
   "id": "d392fec3",
   "metadata": {},
   "source": [
    "```C++\n",
    "#include <iostream>\n",
    "using namespace std;\n",
    "class Student{\n",
    "private:\n",
    "    char *m_name;\n",
    "    int m_age;\n",
    "    float m_score;\n",
    "public:\n",
    "    //声明构造函数\n",
    "    Student(char *name, int age, float score);\n",
    "    //声明普通成员函数\n",
    "    void show();\n",
    "};\n",
    "//定义构造函数\n",
    "Student::Student(char *name, int age, float score){\n",
    "    m_name = name;\n",
    "    m_age = age;\n",
    "    m_score = score;\n",
    "}\n",
    "//定义普通成员函数\n",
    "void Student::show(){\n",
    "    cout<<m_name<<\"的年龄是\"<<m_age<<\"，成绩是\"<<m_score<<endl;\n",
    "}\n",
    "int main(){\n",
    "    //创建对象时向构造函数传参\n",
    "    Student stu(\"小明\", 15, 92.5f);\n",
    "    stu.show();\n",
    "    //创建对象时向构造函数传参\n",
    "    Student *pstu = new Student(\"李华\", 16, 96);\n",
    "    pstu -> show();\n",
    "    return 0;\n",
    "}\n",
    "```"
   ]
  },
  {
   "cell_type": "markdown",
   "id": "b35fe532",
   "metadata": {},
   "source": [
    "构造函数没有返回值，因为没有变量来接收返回值，即使有也毫无用处，这意味着：\n",
    "- 不管是声明还是定义，函数名前面都不能出现返回值类型，即使是 void 也不允许；\n",
    "- 函数体中不能有 return 语句。"
   ]
  },
  {
   "cell_type": "markdown",
   "id": "984a9f65",
   "metadata": {},
   "source": [
    "和普通成员函数一样，构造函数是允许重载的。一个类可以有多个重载的构造函数，创建对象时根据传递的实参来判断调用哪一个构造函数。\n",
    "\n",
    "构造函数的调用是强制性的，一旦在类中定义了构造函数，那么创建对象时就一定要调用，不调用是错误的。如果有多个重载的构造函数，那么创建对象时提供的实参必须和其中的一个构造函数匹配；反过来说，创建对象时只有一个构造函数会被调用。"
   ]
  },
  {
   "cell_type": "markdown",
   "id": "b329ebf8",
   "metadata": {},
   "source": [
    "```C++\n",
    "#include <iostream>\n",
    "using namespace std;\n",
    "class Student{\n",
    "private:\n",
    "    char *m_name;\n",
    "    int m_age;\n",
    "    float m_score;\n",
    "public:\n",
    "    Student();\n",
    "    Student(char *name, int age, float score);\n",
    "    void setname(char *name);\n",
    "    void setage(int age);\n",
    "    void setscore(float score);\n",
    "    void show();\n",
    "};\n",
    "Student::Student(){\n",
    "    m_name = NULL;\n",
    "    m_age = 0;\n",
    "    m_score = 0.0;\n",
    "}\n",
    "Student::Student(char *name, int age, float score){\n",
    "    m_name = name;\n",
    "    m_age = age;\n",
    "    m_score = score;\n",
    "}\n",
    "void Student::setname(char *name){\n",
    "    m_name = name;\n",
    "}\n",
    "void Student::setage(int age){\n",
    "    m_age = age;\n",
    "}\n",
    "void Student::setscore(float score){\n",
    "    m_score = score;\n",
    "}\n",
    "void Student::show(){\n",
    "    if(m_name == NULL || m_age <= 0){\n",
    "        cout<<\"成员变量还未初始化\"<<endl;\n",
    "    }else{\n",
    "        cout<<m_name<<\"的年龄是\"<<m_age<<\"，成绩是\"<<m_score<<endl;\n",
    "    }\n",
    "}\n",
    "int main(){\n",
    "    //调用构造函数 Student(char *, int, float)\n",
    "    Student stu(\"小明\", 15, 92.5f);\n",
    "    stu.show();\n",
    "    //调用构造函数 Student()\n",
    "    Student *pstu = new Student();\n",
    "    pstu -> show();\n",
    "    pstu -> setname(\"李华\");\n",
    "    pstu -> setage(16);\n",
    "    pstu -> setscore(96);\n",
    "    pstu -> show();\n",
    "    return 0;\n",
    "}\n",
    "```"
   ]
  },
  {
   "cell_type": "markdown",
   "id": "36fda583",
   "metadata": {},
   "source": [
    "如果用户自己没有定义构造函数，那么编译器会自动生成一个默认的构造函数，只是这个构造函数的函数体是空的，也没有形参，也不执行任何操作。比如上面的 Student 类，默认生成的构造函数如下："
   ]
  },
  {
   "cell_type": "markdown",
   "id": "94b82d4b",
   "metadata": {},
   "source": [
    "`Student(){}`"
   ]
  },
  {
   "cell_type": "markdown",
   "id": "c596a7e9",
   "metadata": {},
   "source": [
    "一个类必须有构造函数，要么用户自己定义，要么编译器自动生成。一旦用户自己定义了构造函数，不管有几个，也不管形参如何，编译器都不再自动生成。"
   ]
  },
  {
   "cell_type": "markdown",
   "id": "a59cd02d",
   "metadata": {},
   "source": [
    "## 析构函数"
   ]
  },
  {
   "cell_type": "markdown",
   "id": "aacf329a",
   "metadata": {},
   "source": [
    "创建对象时系统会自动调用构造函数进行初始化工作，同样，销毁对象时系统也会自动调用一个函数来进行清理工作，例如释放分配的内存、关闭打开的文件等，这个函数就是析构函数。\n",
    "\n",
    "析构函数（Destructor）也是一种特殊的成员函数，没有返回值，不需要程序员显式调用（程序员也没法显式调用），而是在销毁对象时自动执行。构造函数的名字和类名相同，而析构函数的名字是在类名前面加一个~符号。\n",
    "\n",
    "注意：析构函数没有参数，不能被重载，因此一个类只能有一个析构函数。如果用户没有定义，编译器会自动生成一个默认的析构函数。"
   ]
  },
  {
   "cell_type": "markdown",
   "id": "c76193e2",
   "metadata": {},
   "source": [
    "```C++\n",
    "#include <iostream>\n",
    "using namespace std;\n",
    "class VLA{\n",
    "public:\n",
    "    VLA(int len);  //构造函数\n",
    "    ~VLA();  //析构函数\n",
    "public:\n",
    "    void input();  //从控制台输入数组元素\n",
    "    void show();  //显示数组元素\n",
    "private:\n",
    "    int *at(int i);  //获取第i个元素的指针\n",
    "private:\n",
    "    const int m_len;  //数组长度\n",
    "    int *m_arr; //数组指针\n",
    "    int *m_p;  //指向数组第i个元素的指针\n",
    "};\n",
    "VLA::VLA(int len): m_len(len){  //使用初始化列表来给 m_len 赋值\n",
    "    if(len > 0){ m_arr = new int[len];  /*分配内存*/ }\n",
    "    else{ m_arr = NULL; }\n",
    "}\n",
    "VLA::~VLA(){\n",
    "    delete[] m_arr;  //释放内存\n",
    "}\n",
    "void VLA::input(){\n",
    "    for(int i=0; m_p=at(i); i++){ cin>>*at(i); }\n",
    "}\n",
    "void VLA::show(){\n",
    "    for(int i=0; m_p=at(i); i++){\n",
    "        if(i == m_len - 1){ cout<<*at(i)<<endl; }\n",
    "        else{ cout<<*at(i)<<\", \"; }\n",
    "    }\n",
    "}\n",
    "int * VLA::at(int i){\n",
    "    if(!m_arr || i<0 || i>=m_len){ return NULL; }\n",
    "    else{ return m_arr + i; }\n",
    "}\n",
    "int main(){\n",
    "    //创建一个有n个元素的数组（对象）\n",
    "    int n;\n",
    "    cout<<\"Input array length: \";\n",
    "    cin>>n;\n",
    "    VLA *parr = new VLA(n);\n",
    "    //输入数组元素\n",
    "    cout<<\"Input \"<<n<<\" numbers: \";\n",
    "    parr -> input();\n",
    "    //输出数组元素\n",
    "    cout<<\"Elements: \";\n",
    "    parr -> show();\n",
    "    //删除数组（对象）\n",
    "    delete parr;\n",
    "    return 0;\n",
    "}\n",
    "```"
   ]
  },
  {
   "cell_type": "markdown",
   "id": "509f1f05",
   "metadata": {},
   "source": [
    "~VLA()就是 VLA 类的析构函数，它的唯一作用就是在删除对象（第 53 行代码）后释放已经分配的内存。\n",
    "\n",
    "函数名是标识符的一种，原则上标识符的命名中不允许出现~符号，在析构函数的名字中出现的~可以认为是一种特殊情况，目的是为了和构造函数的名字加以对比和区分。"
   ]
  },
  {
   "cell_type": "markdown",
   "id": "059ae6b6",
   "metadata": {},
   "source": [
    "## this指针"
   ]
  },
  {
   "cell_type": "markdown",
   "id": "c8a9d013",
   "metadata": {},
   "source": [
    "this 是 C++ 中的一个关键字，也是一个 const 指针，它指向当前对象，通过它可以访问当前对象的所有成员。\n",
    "\n",
    "所谓当前对象，是指正在使用的对象。例如对于stu.show();，stu 就是当前对象，this 就指向 stu。"
   ]
  },
  {
   "cell_type": "markdown",
   "id": "5e120f91",
   "metadata": {},
   "source": [
    "```C++\n",
    "#include <iostream>\n",
    "using namespace std;\n",
    "class Student{\n",
    "public:\n",
    "    void setname(char *name);\n",
    "    void setage(int age);\n",
    "    void setscore(float score);\n",
    "    void show();\n",
    "private:\n",
    "    char *name;\n",
    "    int age;\n",
    "    float score;\n",
    "};\n",
    "void Student::setname(char *name){\n",
    "    this->name = name;\n",
    "}\n",
    "void Student::setage(int age){\n",
    "    this->age = age;\n",
    "}\n",
    "void Student::setscore(float score){\n",
    "    this->score = score;\n",
    "}\n",
    "void Student::show(){\n",
    "    cout<<this->name<<\"的年龄是\"<<this->age<<\"，成绩是\"<<this->score<<endl;\n",
    "}\n",
    "int main(){\n",
    "    Student *pstu = new Student;\n",
    "    pstu -> setname(\"李华\");\n",
    "    pstu -> setage(16);\n",
    "    pstu -> setscore(96.5);\n",
    "    pstu -> show();\n",
    "    return 0;\n",
    "}\n",
    "```"
   ]
  },
  {
   "cell_type": "markdown",
   "id": "1fe23821",
   "metadata": {},
   "source": [
    "本例中成员函数的参数和成员变量重名，只能通过 this 区分。以成员函数`setname(char *name)`为例，它的形参是name，和成员变量name重名，如果写作name = name;这样的语句，就是给形参name赋值，而不是给成员变量name赋值。而写作this -> name = name;后，=左边的name就是成员变量，右边的name就是形参，一目了然。\n",
    "\n",
    "注意，this 是一个指针，要用->来访问成员变量或成员函数。\n",
    "\n",
    "this 虽然用在类的内部，但是只有在对象被创建以后才会给 this 赋值，并且这个赋值的过程是编译器自动完成的，不需要用户干预，用户也不能显式地给 this 赋值。本例中，this 的值和 pstu 的值是相同的。"
   ]
  },
  {
   "cell_type": "markdown",
   "id": "fc1a45db",
   "metadata": {},
   "source": [
    "this 实际上是成员函数的一个形参，在调用成员函数时将对象的地址作为实参传递给 this。不过 this 这个形参是隐式的，它并不出现在代码中，而是在编译阶段由编译器默默地将它添加到参数列表中。\n",
    "\n",
    "this 作为隐式形参，本质上是成员函数的局部变量，所以只能用在成员函数的内部，并且只有在通过对象调用成员函数时才给 this 赋值。"
   ]
  },
  {
   "cell_type": "markdown",
   "id": "713035cd",
   "metadata": {},
   "source": [
    "## static静态成员变量"
   ]
  },
  {
   "cell_type": "markdown",
   "id": "485f0dc1",
   "metadata": {},
   "source": [
    "对象的内存中包含了成员变量，不同的对象占用不同的内存，这使得不同对象的成员变量相互独立，它们的值不受其他对象的影响。例如有两个相同类型的对象 a、b，它们都有一个成员变量 m_name，那么修改 a.m_name 的值不会影响 b.m_name 的值。\n",
    "\n",
    "可是有时候我们希望在多个对象之间共享数据，对象 a 改变了某份数据后对象 b 可以检测到。共享数据的典型使用场景是计数，以前面的 Student 类为例，如果我们想知道班级中共有多少名学生，就可以设置一份共享的变量，每次创建对象时让该变量加 1。\n",
    "\n",
    "在C++中，我们可以使用静态成员变量来实现多个对象共享数据的目标。静态成员变量是一种特殊的成员变量，它被关键字static修饰，例如："
   ]
  },
  {
   "cell_type": "markdown",
   "id": "07b93230",
   "metadata": {},
   "source": [
    "```c++\n",
    "class Student{\n",
    "public:\n",
    "    Student(char *name, int age, float score);\n",
    "    void show();\n",
    "public:\n",
    "    static int m_total;  //静态成员变量\n",
    "private:\n",
    "    char *m_name;\n",
    "    int m_age;\n",
    "    float m_score;\n",
    "};\n",
    "```"
   ]
  },
  {
   "cell_type": "markdown",
   "id": "e628f04f",
   "metadata": {},
   "source": [
    "static 成员变量必须在类声明的外部初始化，具体形式为：  \n",
    "`type class::name = value;`\n",
    "\n",
    "type 是变量的类型，class 是类名，name 是变量名，value 是初始值。将上面的 m_total 初始化：  \n",
    "`int Student::m_total = 0;`\n",
    "\n",
    "静态成员变量在初始化时不能再加 static，但必须要有数据类型。被 private、protected、public 修饰的静态成员变量都可以用这种方式初始化。"
   ]
  },
  {
   "cell_type": "markdown",
   "id": "8653ce09",
   "metadata": {},
   "source": [
    "注意：static 成员变量的内存既不是在声明类时分配，也不是在创建对象时分配，而是在（类外）初始化时分配。反过来说，没有在类外初始化的 static 成员变量不能使用。"
   ]
  },
  {
   "cell_type": "markdown",
   "id": "07287ce7",
   "metadata": {},
   "source": [
    "1) 一个类中可以有一个或多个静态成员变量，所有的对象都共享这些静态成员变量，都可以引用它。\n",
    "\n",
    "2) static 成员变量和普通 static 变量一样，都在内存分区中的全局数据区分配内存，到程序结束时才释放。这就意味着，static 成员变量不随对象的创建而分配内存，也不随对象的销毁而释放内存。而普通成员变量在对象创建时分配内存，在对象销毁时释放内存。\n",
    "\n",
    "3) 静态成员变量必须初始化，而且只能在类体外进行。例如：\n",
    "`int Student::m_total = 10;`\n",
    "初始化时可以赋初值，也可以不赋值。如果不赋值，那么会被默认初始化为 0。全局数据区的变量都有默认的初始值 0，而动态数据区（堆区、栈区）变量的默认值是不确定的，一般认为是垃圾值。\n",
    "\n",
    "4) 静态成员变量既可以通过对象名访问，也可以通过类名访问，但要遵循 private、protected 和 public 关键字的访问权限限制。当通过对象名访问时，对于不同的对象，访问的是同一份内存。"
   ]
  },
  {
   "cell_type": "markdown",
   "id": "b50ae557",
   "metadata": {},
   "source": [
    "## static静态成员函数"
   ]
  },
  {
   "cell_type": "markdown",
   "id": "09df97b6",
   "metadata": {},
   "source": [
    "在类中，static 除了可以声明静态成员变量，还可以声明静态成员函数。普通成员函数可以访问所有成员（包括成员变量和成员函数），静态成员函数只能访问静态成员。\n",
    "\n",
    "编译器在编译一个普通成员函数时，会隐式地增加一个形参 this，并把当前对象的地址赋值给 this，所以普通成员函数只能在创建对象后通过对象来调用，因为它需要当前对象的地址。而静态成员函数可以通过类来直接调用，编译器不会为它增加形参 this，它不需要当前对象的地址，所以不管有没有创建对象，都可以调用静态成员函数。\n",
    "\n",
    "普通成员变量占用对象的内存，静态成员函数没有 this 指针，不知道指向哪个对象，无法访问对象的成员变量，也就是说静态成员函数不能访问普通成员变量，只能访问静态成员变量。\n",
    "\n",
    "普通成员函数必须通过对象才能调用，而静态成员函数没有 this 指针，无法在函数体内部访问某个对象，所以不能调用普通成员函数，只能调用静态成员函数。\n",
    "\n",
    "静态成员函数与普通成员函数的根本区别在于：普通成员函数有 this 指针，可以访问类中的任意成员；而静态成员函数没有 this 指针，只能访问静态成员（包括静态成员变量和静态成员函数）。"
   ]
  },
  {
   "cell_type": "markdown",
   "id": "e2d2d1d7",
   "metadata": {},
   "source": [
    "```c++\n",
    "#include <iostream>\n",
    "using namespace std;\n",
    "class Student{\n",
    "public:\n",
    "    Student(char *name, int age, float score);\n",
    "    void show();\n",
    "public:  //声明静态成员函数\n",
    "    static int getTotal();\n",
    "    static float getPoints();\n",
    "private:\n",
    "    static int m_total;  //总人数\n",
    "    static float m_points;  //总成绩\n",
    "private:\n",
    "    char *m_name;\n",
    "    int m_age;\n",
    "    float m_score;\n",
    "};\n",
    "int Student::m_total = 0;\n",
    "float Student::m_points = 0.0;\n",
    "Student::Student(char *name, int age, float score): m_name(name), m_age(age), m_score(score){\n",
    "    m_total++;\n",
    "    m_points += score;\n",
    "}\n",
    "void Student::show(){\n",
    "    cout<<m_name<<\"的年龄是\"<<m_age<<\"，成绩是\"<<m_score<<endl;\n",
    "}\n",
    "//定义静态成员函数\n",
    "int Student::getTotal(){\n",
    "    return m_total;\n",
    "}\n",
    "float Student::getPoints(){\n",
    "    return m_points;\n",
    "}\n",
    "int main(){\n",
    "    (new Student(\"小明\", 15, 90.6)) -> show();\n",
    "    (new Student(\"李磊\", 16, 80.5)) -> show();\n",
    "    (new Student(\"张华\", 16, 99.0)) -> show();\n",
    "    (new Student(\"王康\", 14, 60.8)) -> show();\n",
    "    int total = Student::getTotal();\n",
    "    float points = Student::getPoints();\n",
    "    cout<<\"当前共有\"<<total<<\"名学生，总成绩是\"<<points<<\"，平均分是\"<<points/total<<endl;\n",
    "    return 0;\n",
    "}\n",
    "```"
   ]
  },
  {
   "cell_type": "markdown",
   "id": "4c1a39ca",
   "metadata": {},
   "source": [
    "## const成员变量"
   ]
  },
  {
   "cell_type": "markdown",
   "id": "563e5766",
   "metadata": {},
   "source": [
    "const 成员变量的用法和普通 const 变量的用法相似，只需要在声明时加上 const 关键字。初始化 const 成员变量只有一种方法，就是通过构造函数的初始化列表。"
   ]
  },
  {
   "cell_type": "markdown",
   "id": "9cc7afb4",
   "metadata": {},
   "source": [
    "## 字符串"
   ]
  },
  {
   "cell_type": "markdown",
   "id": "c4ca64ce",
   "metadata": {},
   "source": [
    "C++ 大大增强了对字符串的支持，除了可以使用C风格的字符串，还可以使用内置的 string 类。string 类处理起字符串来会方便很多，完全可以代替C语言中的字符数组或字符串指针。"
   ]
  },
  {
   "cell_type": "markdown",
   "id": "3795f284",
   "metadata": {},
   "source": [
    "使用 string 类需要包含头文件`<string>`，下面的例子介绍了几种定义 string 变量（对象）的方法："
   ]
  },
  {
   "cell_type": "markdown",
   "id": "e6274748",
   "metadata": {},
   "source": [
    "```C++\n",
    "#include <iostream>\n",
    "#include <string>\n",
    "using namespace std;\n",
    "int main(){\n",
    "    string s1;\n",
    "    string s2 = \"c plus plus\";\n",
    "    string s3 = s2;\n",
    "    string s4 (5, 's');\n",
    "    return 0;\n",
    "}\n",
    "```"
   ]
  },
  {
   "cell_type": "markdown",
   "id": "ae40338b",
   "metadata": {},
   "source": [
    "变量 s1 只是定义但没有初始化，编译器会将默认值赋给 s1，默认值是\"\"，也即空字符串。\n",
    "\n",
    "变量 s2 在定义的同时被初始化为\"c plus plus\"。与C风格的字符串不同，string 的结尾没有结束标志'\\0'。\n",
    "\n",
    "变量 s3 在定义的时候直接用 s2 进行初始化，因此 s3 的内容也是\"c plus plus\"。\n",
    "\n",
    "变量 s4 被初始化为由 5 个's'字符组成的字符串，也就是\"sssss\"。\n",
    "\n",
    "从上面的代码可以看出，string 变量可以直接通过赋值操作符=进行赋值。string 变量也可以用C风格的字符串进行赋值，例如，s2 是用一个字符串常量进行初始化的，而 s3 则是通过 s2 变量进行初始化的。\n",
    "\n",
    "与C风格的字符串不同，当我们需要知道字符串长度时，可以调用 string 类提供的 length() 函数。如下所示："
   ]
  },
  {
   "cell_type": "markdown",
   "id": "810b075f",
   "metadata": {},
   "source": [
    "```C++\n",
    "string s = \"http://c.biancheng.net\";\n",
    "int len = s.length();\n",
    "cout<<len<<endl;\n",
    "```"
   ]
  },
  {
   "cell_type": "markdown",
   "id": "bc75447a",
   "metadata": {},
   "source": [
    "输出结果为22。由于 string 的末尾没有'\\0'字符，所以 length() 返回的是字符串的真实长度，而不是长度 +1。"
   ]
  },
  {
   "cell_type": "markdown",
   "id": "21e82c06",
   "metadata": {},
   "source": [
    "### 访问字符串中的字符"
   ]
  },
  {
   "cell_type": "markdown",
   "id": "1c15b5c4",
   "metadata": {},
   "source": [
    "```C++\n",
    "#include <iostream>\n",
    "#include <string>\n",
    "using namespace std;\n",
    "int main(){\n",
    "    string s = \"1234567890\";\n",
    "    for(int i=0,len=s.length(); i<len; i++){\n",
    "        cout<<s[i]<<\" \";\n",
    "    }\n",
    "    cout<<endl;\n",
    "    s[5] = '5';\n",
    "    cout<<s<<endl;\n",
    "    return 0;\n",
    "}\n",
    "```"
   ]
  },
  {
   "cell_type": "markdown",
   "id": "87cd93f5",
   "metadata": {},
   "source": [
    "运行结果：  \n",
    "1 2 3 4 5 6 7 8 9 0  \n",
    "1234557890\n",
    "\n",
    "本例定义了一个 string 变量 s，并赋值 \"1234567890\"，之后用 for 循环遍历输出每一个字符。借助下标，除了能够访问每个字符，也可以修改每个字符，s[5] = '5';就将第6个字符修改为 '5'，所以 s 最后为 \"1234557890\"。"
   ]
  },
  {
   "cell_type": "markdown",
   "id": "904bdbb7",
   "metadata": {},
   "source": [
    "### 字符串的拼接"
   ]
  },
  {
   "cell_type": "markdown",
   "id": "0678c63d",
   "metadata": {},
   "source": [
    "有了 string 类，我们可以使用+或+=运算符来直接拼接字符串，非常方便，再也不需要使用C语言中的 strcat()、strcpy()、malloc() 等函数来拼接字符串了，再也不用担心空间不够会溢出了。\n",
    "\n",
    "用+来拼接字符串时，运算符的两边可以都是 string 字符串，也可以是一个 string 字符串和一个C风格的字符串，还可以是一个 string 字符串和一个字符数组，或者是一个 string 字符串和一个单独的字符。请看下面的例子："
   ]
  },
  {
   "cell_type": "markdown",
   "id": "7c6df2b1",
   "metadata": {},
   "source": [
    "```C++\n",
    "#include <iostream>\n",
    "#include <string>\n",
    "using namespace std;\n",
    "int main(){\n",
    "    string s1 = \"first \";\n",
    "    string s2 = \"second \";\n",
    "    char *s3 = \"third \";\n",
    "    char s4[] = \"fourth \";\n",
    "    char ch = '@';\n",
    "    string s5 = s1 + s2;\n",
    "    string s6 = s1 + s3;\n",
    "    string s7 = s1 + s4;\n",
    "    string s8 = s1 + ch;\n",
    "    \n",
    "    cout<<s5<<endl<<s6<<endl<<s7<<endl<<s8<<endl;\n",
    "    return 0;\n",
    "}\n",
    "```"
   ]
  },
  {
   "cell_type": "markdown",
   "id": "8b0a2912",
   "metadata": {},
   "source": [
    "### 插入字符串"
   ]
  },
  {
   "cell_type": "markdown",
   "id": "b78880a2",
   "metadata": {},
   "source": [
    "insert() 函数可以在 string 字符串中指定的位置插入另一个字符串，它的一种原型为：\n",
    "`string& insert (size_t pos, const string& str);`\n",
    "\n",
    "pos 表示要插入的位置，也就是下标；str 表示要插入的字符串，它可以是 string 字符串，也可以是C风格的字符串。"
   ]
  },
  {
   "cell_type": "markdown",
   "id": "800f53c7",
   "metadata": {},
   "source": [
    "```C++\n",
    "#include <iostream>\n",
    "#include <string>\n",
    "using namespace std;\n",
    "int main(){\n",
    "    string s1, s2, s3;\n",
    "    s1 = s2 = \"1234567890\";\n",
    "    s3 = \"aaa\";\n",
    "    s1.insert(5, s3);\n",
    "    cout<< s1 <<endl;\n",
    "    s2.insert(5, \"bbb\");\n",
    "    cout<< s2 <<endl;\n",
    "    return 0;\n",
    "}\n",
    "```"
   ]
  },
  {
   "cell_type": "markdown",
   "id": "2fffa2a2",
   "metadata": {},
   "source": [
    "### 删除字符串"
   ]
  },
  {
   "cell_type": "markdown",
   "id": "9afaf773",
   "metadata": {},
   "source": [
    "erase() 函数可以删除 string 中的一个子字符串。它的一种原型为：  \n",
    "`string& erase (size_t pos = 0, size_t len = npos);`\n",
    "\n",
    "pos 表示要删除的子字符串的起始下标，len 表示要删除子字符串的长度。如果不指明 len 的话，那么直接删除从 pos 到字符串结束处的所有字符（此时 len = str.length - pos）。"
   ]
  },
  {
   "cell_type": "markdown",
   "id": "b3c24db0",
   "metadata": {},
   "source": [
    "```C++\n",
    "#include <iostream>\n",
    "#include <string>\n",
    "using namespace std;\n",
    "int main(){\n",
    "    string s1, s2, s3;\n",
    "    s1 = s2 = s3 = \"1234567890\";\n",
    "    s2.erase(5);\n",
    "    s3.erase(5, 3);\n",
    "    cout<< s1 <<endl;\n",
    "    cout<< s2 <<endl;\n",
    "    cout<< s3 <<endl;\n",
    "    return 0;\n",
    "}\n",
    "```"
   ]
  },
  {
   "cell_type": "markdown",
   "id": "aa28e217",
   "metadata": {},
   "source": [
    "### 提取子字符串"
   ]
  },
  {
   "cell_type": "markdown",
   "id": "e9a8bb4e",
   "metadata": {},
   "source": [
    "substr() 函数用于从 string 字符串中提取子字符串，它的原型为：  \n",
    "`string substr (size_t pos = 0, size_t len = npos) const;`\n",
    "\n",
    "pos 为要提取的子字符串的起始下标，len 为要提取的子字符串的长度。"
   ]
  },
  {
   "cell_type": "markdown",
   "id": "dd99bed7",
   "metadata": {},
   "source": [
    "```C++\n",
    "#include <iostream>\n",
    "#include <string>\n",
    "using namespace std;\n",
    "int main(){\n",
    "    string s1 = \"first second third\";\n",
    "    string s2;\n",
    "    s2 = s1.substr(6, 6);\n",
    "    cout<< s1 <<endl;\n",
    "    cout<< s2 <<endl;\n",
    "    return 0;\n",
    "}\n",
    "```"
   ]
  },
  {
   "cell_type": "markdown",
   "id": "94f5749a",
   "metadata": {},
   "source": [
    "### 字符串查找"
   ]
  },
  {
   "cell_type": "markdown",
   "id": "6079c030",
   "metadata": {},
   "source": [
    "find() 函数\n",
    "find() 函数用于在 string 字符串中查找子字符串出现的位置，它其中的两种原型为：  \n",
    "size_t find (const string& str, size_t pos = 0) const;  \n",
    "size_t find (const char* s, size_t pos = 0) const;\n",
    "\n",
    "第一个参数为待查找的子字符串，它可以是 string 字符串，也可以是C风格的字符串。第二个参数为开始查找的位置（下标）；如果不指明，则从第0个字符开始查找。"
   ]
  },
  {
   "cell_type": "markdown",
   "id": "09c4d86f",
   "metadata": {},
   "source": [
    "```C++\n",
    "#include <iostream>\n",
    "#include <string>\n",
    "using namespace std;\n",
    "int main(){\n",
    "    string s1 = \"first second third\";\n",
    "    string s2 = \"second\";\n",
    "    int index = s1.find(s2,5);\n",
    "    if(index < s1.length())\n",
    "        cout<<\"Found at index : \"<< index <<endl;\n",
    "    else\n",
    "        cout<<\"Not found\"<<endl;\n",
    "    return 0;\n",
    "}\n",
    "```"
   ]
  },
  {
   "cell_type": "markdown",
   "id": "157e47f0",
   "metadata": {},
   "source": [
    "find() 函数最终返回的是子字符串第一次出现在字符串中的起始下标。本例最终是在下标 6 处找到了 s2 字符串。如果没有查找到子字符串，那么会返回 string::npos，它是 string 类内部定义的一个静态常成员，用来表示 size_t 类型所能存储的最大值。"
   ]
  },
  {
   "cell_type": "markdown",
   "id": "9df3e1ef",
   "metadata": {},
   "source": [
    "# 继承和派生"
   ]
  },
  {
   "cell_type": "markdown",
   "id": "6a4c1eda",
   "metadata": {},
   "source": [
    "继承（Inheritance）可以理解为一个类从另一个类获取成员变量和成员函数的过程。例如类 B 继承于类 A，那么 B 就拥有 A 的成员变量和成员函数。\n",
    "\n",
    "在C++中，派生（Derive）和继承是一个概念，只是站的角度不同。继承是儿子接收父亲的产业，派生是父亲把产业传承给儿子。\n",
    "\n",
    "被继承的类称为父类或基类，继承的类称为子类或派生类。“子类”和“父类”通常放在一起称呼，“基类”和“派生类”通常放在一起称呼。\n",
    "\n",
    "派生类除了拥有基类的成员，还可以定义自己的新成员，以增强类的功能。\n",
    "\n",
    "以下是两种典型的使用继承的场景：\n",
    "1) 当你创建的新类与现有的类相似，只是多出若干成员变量或成员函数时，可以使用继承，这样不但会减少代码量，而且新类会拥有基类的所有功能。\n",
    "\n",
    "2) 当你需要创建多个类，它们拥有很多相似的成员变量或成员函数时，也可以使用继承。可以将这些类的共同成员提取出来，定义为基类，然后从基类继承，既可以节省代码，也方便后续修改成员。"
   ]
  },
  {
   "cell_type": "markdown",
   "id": "2e42672d",
   "metadata": {},
   "source": [
    "```C++\n",
    "#include<iostream>\n",
    "using namespace std;\n",
    "//基类 Pelple\n",
    "class People{\n",
    "public:\n",
    "    void setname(char *name);\n",
    "    void setage(int age);\n",
    "    char *getname();\n",
    "    int getage();\n",
    "private:\n",
    "    char *m_name;\n",
    "    int m_age;\n",
    "};\n",
    "void People::setname(char *name){ m_name = name; }\n",
    "void People::setage(int age){ m_age = age; }\n",
    "char* People::getname(){ return m_name; }\n",
    "int People::getage(){ return m_age;}\n",
    "//派生类 Student\n",
    "class Student: public People{\n",
    "public:\n",
    "    void setscore(float score);\n",
    "    float getscore();\n",
    "private:\n",
    "    float m_score;\n",
    "};\n",
    "void Student::setscore(float score){ m_score = score; }\n",
    "float Student::getscore(){ return m_score; }\n",
    "int main(){\n",
    "    Student stu;\n",
    "    stu.setname(\"小明\");\n",
    "    stu.setage(16);\n",
    "    stu.setscore(95.5f);\n",
    "    cout<<stu.getname()<<\"的年龄是 \"<<stu.getage()<<\"，成绩是 \"<<stu.getscore()<<endl;\n",
    "    return 0;\n",
    "}\n",
    "```"
   ]
  },
  {
   "cell_type": "markdown",
   "id": "b9071277",
   "metadata": {},
   "source": [
    "由此总结出继承的一般语法为：\n",
    "```C++\n",
    "class 派生类名:［继承方式］ 基类名{\n",
    "    派生类新增加的成员\n",
    "};\n",
    "```\n",
    "\n",
    "继承方式包括 public（公有的）、private（私有的）和 protected（受保护的），此项是可选的，如果不写，那么默认为 private。"
   ]
  },
  {
   "cell_type": "markdown",
   "id": "affbee20",
   "metadata": {},
   "source": [
    "public、protected、private 指定继承方式  \n",
    "不同的继承方式会影响基类成员在派生类中的访问权限。\n",
    "\n",
    "1) public继承方式  \n",
    "基类中所有 public 成员在派生类中为 public 属性；  \n",
    "基类中所有 protected 成员在派生类中为 protected 属性；  \n",
    "基类中所有 private 成员在派生类中不能使用。  \n",
    "  \n",
    "2) protected继承方式  \n",
    "基类中的所有 public 成员在派生类中为 protected 属性；  \n",
    "基类中的所有 protected 成员在派生类中为 protected 属性；  \n",
    "基类中的所有 private 成员在派生类中不能使用。  \n",
    "\n",
    "3) private继承方式  \n",
    "基类中的所有 public 成员在派生类中均为 private 属性；  \n",
    "基类中的所有 protected 成员在派生类中均为 private 属性；  \n",
    "基类中的所有 private 成员在派生类中不能使用。"
   ]
  },
  {
   "cell_type": "markdown",
   "id": "33523e48",
   "metadata": {},
   "source": [
    "# 文件操作"
   ]
  },
  {
   "cell_type": "markdown",
   "id": "c908d3ec",
   "metadata": {},
   "source": [
    "C++ 标准库中还专门提供了 3 个类用于实现文件操作，它们统称为文件流类，这 3 个类分别为：\n",
    "- ifstream：专用于从文件中读取数据；\n",
    "- ofstream：专用于向文件中写入数据；\n",
    "- fstream：既可用于从文件中读取数据，又可用于向文件中写入数据。\n",
    "值得一提的是，这 3 个文件流类都位于 `<fstream>` 头文件中，因此在使用它们之前，程序中应先引入此头文件。"
   ]
  },
  {
   "cell_type": "markdown",
   "id": "d93594c9",
   "metadata": {},
   "source": [
    "在C++中，有一个stream这个类，所有的I/O都以这个“流”类为基础的，包括我们要认识的文件I/O.\n",
    "\n",
    "stream这个类有两个重要的运算符：\n",
    "\n",
    "　　1、插入器(<<)\n",
    "\n",
    "　　向流输出数据。比如说系统有一个默认的标准输出流(cout)，一般情况下就是指的显示器，所以，cout<<\"Write Stdout\"<<'\\n';就表示把字符串\"Write Stdout\"和换行字符('\\n')输出到标准输出流。\n",
    "\n",
    "　　2、析取器(>>)\n",
    "\n",
    "　　从流中输入数据。比如说系统有一个默认的标准输入流(cin)，一般情况下就是指的键盘，所以，cin>>x;就表示从标准输入流中读取一个指定类型的数据。\n",
    "\n",
    "在C++中，对文件的操作是通过stream的子类fstream(file stream)来实现的，所以，要用这种方式操作文件，就必须加入头文件fstream.h。"
   ]
  },
  {
   "cell_type": "markdown",
   "id": "eb775c54",
   "metadata": {},
   "source": [
    "```C++\n",
    "#include <iostream>\n",
    "#include <fstream>\n",
    "using namespace std;\n",
    "int main()\n",
    "{\n",
    "    ifstream inFile;\n",
    "    inFile.open(\"c:\\\\tmp\\\\test.txt\", ios::in);\n",
    "    if (inFile)  //条件成立，则说明文件打开成功\n",
    "        inFile.close();\n",
    "    else\n",
    "        cout << \"test.txt doesn't exist\" << endl;\n",
    "    ofstream oFile;\n",
    "    oFile.open(\"test1.txt\", ios::out);\n",
    "    if (!oFile)  //条件成立，则说明文件打开出错\n",
    "        cout << \"error 1\" << endl;\n",
    "    else\n",
    "        oFile.close();\n",
    "    oFile.open(\"tmp\\\\test2.txt\", ios::out | ios::in);\n",
    "    if (oFile)  //条件成立，则说明文件打开成功\n",
    "        oFile.close();\n",
    "    else\n",
    "        cout << \"error 2\" << endl;\n",
    "    fstream ioFile;\n",
    "    ioFile.open(\"..\\\\test3.txt\", ios::out | ios::in | ios::trunc);\n",
    "    if (!ioFile)\n",
    "        cout << \"error 3\" << endl;\n",
    "    else\n",
    "        ioFile.close();\n",
    "    return 0;\n",
    "}\n",
    "```"
   ]
  },
  {
   "cell_type": "markdown",
   "id": "c93a1376",
   "metadata": {},
   "source": [
    "```C++\n",
    "//读数据\n",
    "double b[10];\n",
    "b[10] = 0.0;\n",
    "int inputlen = 0;\n",
    "ifstream ffile(\"c:\\\\tmp\\\\test.txt\");\n",
    "while (inputlen < 10) {\n",
    "  ffile >> b[inputlen];\n",
    "  inputlen++;\n",
    "}\n",
    "for (int j = 0; j < inputlen; j++)\n",
    "{\n",
    "  cout << b[j] << \"\\n\";\n",
    "}\n",
    "ffile.close();\n",
    "```"
   ]
  },
  {
   "cell_type": "markdown",
   "id": "2b19d0b8",
   "metadata": {},
   "source": [
    "```C++\n",
    "//写数据\n",
    "int outputlen = 0;\n",
    "ofstream tfile(\"c:\\\\tmp\\\\test.txt\");\n",
    "for (int i = 0; i < outputlen; ++i) {\n",
    "tfile << (double)p[i] << \"\\n\";\n",
    "cout << p[i] << \"\\n\";\n",
    "}\n",
    "tfile.close();\n",
    "```"
   ]
  },
  {
   "cell_type": "code",
   "execution_count": null,
   "id": "ab3e1769",
   "metadata": {},
   "outputs": [],
   "source": []
  },
  {
   "cell_type": "markdown",
   "id": "176b413c",
   "metadata": {},
   "source": [
    "# 常用函数"
   ]
  },
  {
   "cell_type": "markdown",
   "id": "e1fa906f",
   "metadata": {},
   "source": [
    "**C/C++ 禁止在函数调用时直接传递数组的内容，而是强制传递数组指针。**"
   ]
  },
  {
   "cell_type": "markdown",
   "id": "4cdab07a",
   "metadata": {},
   "source": [
    "## memcpy()函数"
   ]
  },
  {
   "cell_type": "markdown",
   "id": "bd9d15a1",
   "metadata": {},
   "source": [
    "memcpy函数是C/C++语言中的一个用于内存复制的函数，声明在 string.h 中（C++是 cstring）。其原型是："
   ]
  },
  {
   "cell_type": "markdown",
   "id": "26060972",
   "metadata": {},
   "source": [
    "```C++\n",
    "void *memcpy(void *destin, void *source, unsigned n);\n",
    "```"
   ]
  },
  {
   "cell_type": "markdown",
   "id": "1bcecd0c",
   "metadata": {},
   "source": [
    "作用是：以source指向的地址为起点，将连续的n个字节数据，复制到以destin指向的地址为起点的内存中。\n",
    "函数有三个参数，第一个是目标地址，第二个是源地址，第三个是数据长度。\n",
    "\n",
    "使用memcpy函数时，需要注意：\n",
    "\n",
    "数据长度（第三个参数）的单位是字节（1byte = 8bit）。\n",
    "注意该函数有一个返回值，类型是void*，是一个指向destin的指针。"
   ]
  },
  {
   "cell_type": "markdown",
   "id": "25b0a0c9",
   "metadata": {},
   "source": [
    "使用memcpy函数时，特别要注意数据长度。如果复制的数据类型是char，那么数据长度就等于元素的个数。而如果数据类型是其他（如int, double, 自定义结构体等），就要特别注意数据长度的值。  \n",
    "好的习惯是，无论拷贝何种数据类型，都用 n * sizeof(type_name)的写法。"
   ]
  },
  {
   "cell_type": "markdown",
   "id": "2970c79b",
   "metadata": {},
   "source": [
    "```C++\n",
    "char a[10] = \"abcdefgh\";\n",
    "unsigned n = 2;\n",
    "void * p = memcpy(a+3, a, n);\n",
    "```"
   ]
  },
  {
   "cell_type": "markdown",
   "id": "47777745",
   "metadata": {},
   "source": [
    "以上代码将从a开始的两个字节的数据（即’a’和’b’），复制到从a+3开始的内存（'d’所在的地址）。这样，'d’和’e’被替换。\n",
    "执行结束之后，字符数组（字符串）a的内容变为\"abcabfgh\"，返回值p即为a的地址（p == a）。"
   ]
  },
  {
   "cell_type": "markdown",
   "id": "eb1bbbeb",
   "metadata": {},
   "source": [
    "## ftok()函数"
   ]
  },
  {
   "cell_type": "markdown",
   "id": "8e43a8df",
   "metadata": {},
   "source": [
    "系统建立IPC通讯(如消息队列、共享内存时)必须指定一个ID值。通常情况下，该id值通过ftok函数得到。"
   ]
  },
  {
   "cell_type": "markdown",
   "id": "591a8752",
   "metadata": {},
   "source": [
    "ftok原型如下："
   ]
  },
  {
   "cell_type": "markdown",
   "id": "8f8a352d",
   "metadata": {},
   "source": [
    "```C++\n",
    "#include <sys/types.h>\n",
    "#include <sys/ipc.h>\n",
    "```"
   ]
  },
  {
   "cell_type": "markdown",
   "id": "e2199580",
   "metadata": {},
   "source": [
    "`key_t ftok( char * fname, int id );`"
   ]
  },
  {
   "cell_type": "markdown",
   "id": "ce4eba4e",
   "metadata": {},
   "source": [
    "fname就是你指定的文件名(该文件必须是存在而且可以访问的)，id是子序号，虽然为int，但是只有8个比特被使用(0-255)。\n",
    "\n",
    "当成功执行的时候，一个key_t值将会被返回，否则 -1 被返回。"
   ]
  },
  {
   "cell_type": "markdown",
   "id": "ee80d85a",
   "metadata": {},
   "source": [
    "## 箭头运算符"
   ]
  },
  {
   "cell_type": "markdown",
   "id": "e3a98bed",
   "metadata": {},
   "source": [
    "C++中箭头运算符`->`，相当于把解引用和成员访问符两个操作符结合在一起，换句话说，`p->func()`和`(*p).func()`所表示的意思一样。"
   ]
  },
  {
   "cell_type": "markdown",
   "id": "748ef224",
   "metadata": {},
   "source": [
    "```C++\n",
    "class A\n",
    "{\n",
    "public:\n",
    "func();\n",
    "}\n",
    "```"
   ]
  },
  {
   "cell_type": "markdown",
   "id": "4e6545a3",
   "metadata": {},
   "source": [
    "```C++\n",
    "class B\n",
    "{\n",
    " A *p = new A();\n",
    "*p.a(); \n",
    "//或者使用p->a，二者等价，且更加简洁\n",
    "}\n",
    "```"
   ]
  },
  {
   "cell_type": "markdown",
   "id": "fc34da16",
   "metadata": {},
   "source": [
    "理解就是，`->`的功能就是提供了一种对象指针更方便的访问对象成员的方法。"
   ]
  },
  {
   "cell_type": "markdown",
   "id": "83837303",
   "metadata": {},
   "source": [
    "```C++\n",
    "#include<stdio.h>\n",
    "// 结构体的声明与定义\n",
    "struct\n",
    "{\n",
    "  char name[10];\n",
    "  int age;\n",
    "  char sex;\n",
    "}person;\n",
    "void main()\n",
    "{\n",
    "  int i;\n",
    "  // 此处就是指向结构体成员运算符（->）的用法\n",
    "  i = person->age; // 提取结构体成员变量age的值，并赋值给变量i\n",
    "}\n",
    "```"
   ]
  },
  {
   "cell_type": "markdown",
   "id": "e81b3a1f",
   "metadata": {},
   "source": [
    "## Sleep()函数"
   ]
  },
  {
   "cell_type": "markdown",
   "id": "a1dc8f41",
   "metadata": {},
   "source": [
    "Sleep(0) 的意义是放弃当前线程执行的时间片，把自身放到等待队列之中。这时其它的线程就会得到时间片进行程序的程序。Sleep(0)能够降低当前线程的执行速 度，比如：现在系统中有100个线程（先假设是线程吧）在执行不同的任务，并且它们执行的优先级都是一样的，并且它们每一次分配的时间片的长度都是一样 的。那么现在当前线程中有一个Sleep(0)，那么对于当前线程获得时间片的等待时间延长了1倍，也就是说相当于 200 个时间片之后再得到时间片执行任务。\n",
    "\n",
    "标准库中无该函数\n",
    "\n",
    "但在某些编译系统中有，在有些系统库中有，要根据你那边的环境而定。\n",
    "如:\n",
    "\n",
    "linux中有，unsigned int sleep(unsigned int seconds)，传入挂起时间，成功返回0，不成功则返回余下的秒数。\n",
    "windows系统中有Sleep函数（注意大写），void Sleep(DWORD dwMilliseconds); 提供挂起的毫秒数。\n",
    "\n",
    "Sleep就是结束当前时间片，把自己挂起，进入等待队列,等待dwMilliseconds毫秒时间后，再进入就绪队列，直到获得时间片运行"
   ]
  },
  {
   "cell_type": "markdown",
   "id": "79d85859",
   "metadata": {},
   "source": [
    "```C++\n",
    "#include<iostream>\n",
    "#include<windows.h>\n",
    "using namespace std;\n",
    "int main()\n",
    "{\n",
    "Sleep(3000);//暂停3秒  S要大写\n",
    "return 0;\n",
    "}\n",
    "```"
   ]
  },
  {
   "cell_type": "markdown",
   "id": "9553a30c",
   "metadata": {},
   "source": [
    "头文件：Windows下为--> windows.h  \n",
    "Linux 下为 --> unistd.h\n",
    "\n",
    "注意：（1）Sleep是区分大小写的，有的编译器是大写，有的是小写。  \n",
    "（2）Sleep括号里的时间，在windows下是已毫秒为单位，而Linux是以秒为单位"
   ]
  },
  {
   "cell_type": "code",
   "execution_count": null,
   "id": "aa5acf52",
   "metadata": {},
   "outputs": [],
   "source": []
  }
 ],
 "metadata": {
  "kernelspec": {
   "display_name": "Python 3 (ipykernel)",
   "language": "python",
   "name": "python3"
  },
  "language_info": {
   "codemirror_mode": {
    "name": "ipython",
    "version": 3
   },
   "file_extension": ".py",
   "mimetype": "text/x-python",
   "name": "python",
   "nbconvert_exporter": "python",
   "pygments_lexer": "ipython3",
   "version": "3.9.13"
  },
  "nbTranslate": {
   "displayLangs": [
    "*"
   ],
   "hotkey": "alt-t",
   "langInMainMenu": true,
   "sourceLang": "en",
   "targetLang": "fr",
   "useGoogleTranslate": true
  },
  "toc": {
   "base_numbering": 1,
   "nav_menu": {},
   "number_sections": true,
   "sideBar": true,
   "skip_h1_title": false,
   "title_cell": "Table of Contents",
   "title_sidebar": "Contents",
   "toc_cell": false,
   "toc_position": {
    "height": "calc(100% - 180px)",
    "left": "10px",
    "top": "150px",
    "width": "354.625px"
   },
   "toc_section_display": true,
   "toc_window_display": true
  }
 },
 "nbformat": 4,
 "nbformat_minor": 5
}
