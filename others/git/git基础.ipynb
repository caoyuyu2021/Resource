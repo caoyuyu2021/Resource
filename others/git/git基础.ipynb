{
 "cells": [
  {
   "cell_type": "markdown",
   "id": "2941e71d",
   "metadata": {},
   "source": [
    "# git\n",
    "git 是一种版本控制系统，是一个命令，是一种工具。  \n",
    "github 是一个基于git实现在线代码托管的仓库，向互联网开放，企业版要收钱。  \n",
    "gitlab 类似 github，一般用于在企业内搭建git私服，要自己搭环境。  \n",
    "gitee 即码云，是 oschina 免费给企业用的，不用自己搭建环境。  "
   ]
  },
  {
   "cell_type": "markdown",
   "id": "b0fb95d9",
   "metadata": {},
   "source": [
    "# git拉取代码\n",
    "git clone ssh地址，例如\n",
    "git clone git@gitee.com:cao-yuyu/deep-learning.git"
   ]
  },
  {
   "cell_type": "markdown",
   "id": "5bcf5a9b",
   "metadata": {},
   "source": [
    "# 本地文件上传到远程git仓库\n",
    "1、（先进入项目文件夹）通过命令 git init 把这个目录变成git可以管理的仓库  \n",
    "`git init ` \n",
    "\n",
    "2、把文件添加到版本库中，使用命令 git add .添加到暂存区里面去，不要忘记后面的小数点“.”，意为添加文件夹下的所有文件  \n",
    "`git add .  `\n",
    "\n",
    "3、用命令 git commit告诉Git，把文件提交到仓库。引号内为提交说明  \n",
    "`git commit -m 'first commit' ` \n",
    "\n",
    "4、关联到远程库  \n",
    "`git remote add origin 你的远程库地址  `\n",
    "\n",
    "如：  \n",
    "git remote add origin git@github.com:caoyuyu2021/仓库名.git  \n",
    "\n",
    "5、获取远程库与本地同步合并（如果远程库不为空必须做这一步，否则后面的提交会失败）  \n",
    "`git pull --rebase origin master  `\n",
    "\n",
    "6、把本地库的内容推送到远程，使用`git push -u origin master`命令，实际上是把当前分支master推送到远程。执行此命令后会要求输入用户名、密码，验证通过后即开始上传。  \n",
    "\n",
    "7、如果正常push失败，可以用这个命令强制覆盖分支：git push -u origin master -f  \n",
    "\n",
    "8、git fetch下载所有远程库的变化  \n",
    "\n",
    "9、git merge origin/master 将下载的内容与本地库合并  "
   ]
  },
  {
   "cell_type": "markdown",
   "id": "23da841e",
   "metadata": {},
   "source": [
    "# 切换文件夹提交\n",
    "选择对应的文件夹，Git Bash Here：  \n",
    "`git init  \n",
    "git commit -m \"first commit\"  \n",
    "git remote add origin git@github.com:caoyuyu2021/仓库名.git  \n",
    "git push -u origin master`"
   ]
  },
  {
   "cell_type": "markdown",
   "id": "747c5cda",
   "metadata": {},
   "source": [
    "# Git配置多个SSH-Key\n",
    "针对不同的账户，生成一个不同用途的SSH-Key，然后进行相关的配置即可。\n",
    "\n",
    "## 生成对应的SSH-Key\n",
    "生成一个gitee用的SSH-Key  \n",
    "`ssh-keygen -t rsa -C 'xxxxx@qq.com' -f ~/.ssh/gitee_id_rsa`\n",
    "\n",
    "生成一个github用的SSH-Key  \n",
    "`ssh-keygen -t rsa -C 'xxxxx@gmail.com' -f ~/.ssh/github_id_rsa`\n",
    "\n",
    "生成一个gitlab用的SSH-Key  \n",
    "`ssh-keygen -t rsa -C 'xxxxx@163.com' -f ~/.ssh/gitlab_id_rsa`\n",
    "\n",
    "## 在 ~/.ssh 目录下新建一个config文件\n",
    "添加如下内容（其中Host和HostName填写git服务器的域名，IdentityFile指定私钥的路径）\n",
    "\n",
    "`# gitlab                                    \n",
    "Host gitlab.com\n",
    "User caoyuyu@live.cn\n",
    "HostName gitlab.com\n",
    "IdentityFile ~/.ssh/gitlab_id_rsa\n",
    "PreferredAuthentications publickey`\n",
    "\n",
    "`# github\n",
    "Host github.com                 \n",
    "HostName github.com\n",
    "User caoyuyu\n",
    "IdentityFile ~/.ssh/github_id_rsa\n",
    "PreferredAuthentications publickey`\n",
    "\n",
    "`# gitee\n",
    "Host gitee.com                 \n",
    "HostName gitee.com\n",
    "User caoyuyu@live.cn\n",
    "IdentityFile ~/.ssh/gitee_id_rsa\n",
    "PreferredAuthentications publickey`\n",
    "\n",
    "## 进入 ~/.ssh ，拷贝不同的xxx_id_rsa.pub到不同的服务器进行配置\n",
    "将id_rsa.pub里的内容复制到Key中，点击下方的Add key按钮。\n",
    "\n",
    "## 用ssh命令分别测试\n",
    "`ssh -T git@gitee.com  \n",
    "ssh -T git@github.com  \n",
    "ssh -T git@gitlab.com  `"
   ]
  },
  {
   "cell_type": "markdown",
   "id": "2413f085",
   "metadata": {},
   "source": [
    "# 实用汇总\n",
    "\n",
    "参考链接：\n",
    "- [【实用工具】怎样快速访问Github？](https://blog.csdn.net/weixin_41512747/article/details/125941762?utm_medium=distribute.pc_feed_404.none-task-blog-2~default~BlogCommendFromBaidu~Rate-4-125941762-blog-null.pc_404_mixedpudn&depth_1-utm_source=distribute.pc_feed_404.none-task-blog-2~default~BlogCommendFromBaidu~Rate-4-125941762-blog-null.pc_404_mixedpud)\n",
    "- [同一台电脑同时使用gitHub和gitLab](https://blog.csdn.net/m0_51691302/article/details/125706793)\n",
    "- [怎么将本地文件上传到远程git仓库](https://www.cnblogs.com/wujindong/p/7280847.html)\n",
    "- [GitHub如何删除项目库Repositories](https://www.likecs.com/show-203647457.html)\n",
    "- [解决git@github.com: Permission denied (publickey)](https://blog.csdn.net/qq_40047019/article/details/122898308)\n",
    "\n",
    "解决方案：\n",
    "- 情形一：\n",
    "\n",
    "如果ssh -T git@github.com出现：git@github.com: Permission denied (publickey).\n",
    "\n",
    "则执行下述操作：\n",
    "\n",
    "- ssh -v git@github.com\n",
    "\n",
    "- ssh-agent -s\n",
    "\n",
    "- ssh-add ~/.ssh/github_id_rsa\n",
    "\n",
    "如果还是报错，则继续执行下述操作：\n",
    "- eval \\`ssh-agent -s\\`\n",
    "- ssh-add ~/.ssh/github_id_rsa\n",
    "- ssh -T git@github.com\n",
    "出现下述表述则表示正确：\n",
    "Hi caoyuyu2021! You've successfully authenticated, but GitHub does not provide shell access."
   ]
  }
 ],
 "metadata": {
  "kernelspec": {
   "display_name": "Python 3 (ipykernel)",
   "language": "python",
   "name": "python3"
  },
  "language_info": {
   "codemirror_mode": {
    "name": "ipython",
    "version": 3
   },
   "file_extension": ".py",
   "mimetype": "text/x-python",
   "name": "python",
   "nbconvert_exporter": "python",
   "pygments_lexer": "ipython3",
   "version": "3.9.7"
  },
  "nbTranslate": {
   "displayLangs": [
    "*"
   ],
   "hotkey": "alt-t",
   "langInMainMenu": true,
   "sourceLang": "en",
   "targetLang": "fr",
   "useGoogleTranslate": true
  },
  "toc": {
   "base_numbering": 1,
   "nav_menu": {},
   "number_sections": true,
   "sideBar": true,
   "skip_h1_title": false,
   "title_cell": "Table of Contents",
   "title_sidebar": "Contents",
   "toc_cell": false,
   "toc_position": {
    "height": "calc(100% - 180px)",
    "left": "10px",
    "top": "150px",
    "width": "303.225px"
   },
   "toc_section_display": true,
   "toc_window_display": true
  },
  "vscode": {
   "interpreter": {
    "hash": "89ec99c62174f1c8fd5a03edcbffb33bcf4cdc0ef2feaa7f1e454ac2d444c181"
   }
  }
 },
 "nbformat": 4,
 "nbformat_minor": 5
}
