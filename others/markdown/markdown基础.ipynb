{
 "cells": [
  {
   "cell_type": "markdown",
   "id": "c6882cbc",
   "metadata": {},
   "source": [
    "<font face=\"微软雅黑\" color=green size=5>Markdown基础</font>"
   ]
  },
  {
   "cell_type": "markdown",
   "id": "fea23ea7",
   "metadata": {},
   "source": [
    "# 基本操作"
   ]
  },
  {
   "cell_type": "markdown",
   "id": "faeb9ba2",
   "metadata": {},
   "source": [
    "## 格式切换"
   ]
  },
  {
   "cell_type": "markdown",
   "id": "daefc4a8",
   "metadata": {},
   "source": [
    "快捷方式：Esc进入命令模式，输入M切换为MarkDown模式，输入Y切换为Code模式。"
   ]
  },
  {
   "cell_type": "markdown",
   "id": "81def34a",
   "metadata": {},
   "source": [
    "## 设置标题"
   ]
  },
  {
   "cell_type": "markdown",
   "id": "170fe08b",
   "metadata": {},
   "source": [
    "设置方式：在markdown模式中，根据#号的数量设置不同的标题层级。"
   ]
  },
  {
   "cell_type": "markdown",
   "id": "af6be133",
   "metadata": {},
   "source": [
    "快捷方式：Esc进入命令模式，输入1,2,3,4,5,6分别对应级别的标题"
   ]
  },
  {
   "cell_type": "markdown",
   "id": "847b3721",
   "metadata": {},
   "source": [
    "## 设置文本"
   ]
  },
  {
   "cell_type": "markdown",
   "id": "fd4cea9b",
   "metadata": {},
   "source": [
    "### 加粗文本"
   ]
  },
  {
   "cell_type": "markdown",
   "id": "6907420a",
   "metadata": {},
   "source": [
    "设置方式： 在文本两旁加上“**”，即可设置为粗体。"
   ]
  },
  {
   "cell_type": "markdown",
   "id": "b013114a",
   "metadata": {},
   "source": [
    "**加粗文本**"
   ]
  },
  {
   "cell_type": "markdown",
   "id": "124dc463",
   "metadata": {},
   "source": [
    "### 斜体文本"
   ]
  },
  {
   "cell_type": "markdown",
   "id": "ec1f4b3b",
   "metadata": {},
   "source": [
    "设置方式：在文本两旁加上“_”，即可设置为斜体。"
   ]
  },
  {
   "cell_type": "markdown",
   "id": "153d9542",
   "metadata": {},
   "source": [
    "_斜体文本_"
   ]
  },
  {
   "cell_type": "markdown",
   "id": "536232fa",
   "metadata": {},
   "source": [
    "### 删除线"
   ]
  },
  {
   "cell_type": "markdown",
   "id": "4096501c",
   "metadata": {},
   "source": [
    "设置方式：在文本两旁加上“~~”，即可设置删除当前选中文本。"
   ]
  },
  {
   "cell_type": "markdown",
   "id": "3f930d6a",
   "metadata": {},
   "source": [
    "~~删除线~~"
   ]
  },
  {
   "cell_type": "markdown",
   "id": "b310359e",
   "metadata": {},
   "source": [
    "### 高亮文本"
   ]
  },
  {
   "cell_type": "markdown",
   "id": "f5d74423",
   "metadata": {},
   "source": [
    "设置方式：在文本两旁加上“ ` ”，即可高亮当前文本。"
   ]
  },
  {
   "cell_type": "markdown",
   "id": "579d5098",
   "metadata": {},
   "source": [
    "`高亮文本`"
   ]
  },
  {
   "cell_type": "markdown",
   "id": "3412a8aa",
   "metadata": {},
   "source": [
    "在大块文本两旁加上“ ``` ”，可高亮大块文本。"
   ]
  },
  {
   "cell_type": "markdown",
   "id": "d8145d36",
   "metadata": {},
   "source": [
    "## 区块引用"
   ]
  },
  {
   "cell_type": "markdown",
   "id": "208dfb67",
   "metadata": {},
   "source": [
    "设置方式：在文本前加上“>”，数量越多，层级越低。比如“>”的层级关系高于“>>”"
   ]
  },
  {
   "cell_type": "markdown",
   "id": "fbc8ba83",
   "metadata": {},
   "source": [
    ">第一层\n",
    ">>第二层\n",
    ">>>第三层"
   ]
  },
  {
   "cell_type": "markdown",
   "id": "f4941f5e",
   "metadata": {},
   "source": [
    "## 设置列表序号"
   ]
  },
  {
   "cell_type": "markdown",
   "id": "f0ba3125",
   "metadata": {},
   "source": [
    "### 无序序号"
   ]
  },
  {
   "cell_type": "markdown",
   "id": "848d0315",
   "metadata": {},
   "source": [
    "设置方式：使用“*”、“-”、“+”之后空格再加文本均可实现此功能。"
   ]
  },
  {
   "cell_type": "markdown",
   "id": "b161d5a8",
   "metadata": {},
   "source": [
    "* 第一\n",
    "- 第二\n",
    "+ 第三"
   ]
  },
  {
   "cell_type": "markdown",
   "id": "cc9c6606",
   "metadata": {
    "ExecuteTime": {
     "end_time": "2022-10-17T07:07:11.172994Z",
     "start_time": "2022-10-17T07:07:10.848874Z"
    }
   },
   "source": [
    "- 一级标题\n",
    "  - 二级标题"
   ]
  },
  {
   "cell_type": "markdown",
   "id": "3b1bd72f",
   "metadata": {},
   "source": [
    "### 有序序号"
   ]
  },
  {
   "cell_type": "markdown",
   "id": "7f9bbb58",
   "metadata": {},
   "source": [
    "设置方式：在文本前加入类似“1.”、“2.”之后空格再加文本即可实现此功能。"
   ]
  },
  {
   "cell_type": "markdown",
   "id": "9f7ee459",
   "metadata": {},
   "source": [
    "1. 第一\n",
    "2. 第二"
   ]
  },
  {
   "cell_type": "markdown",
   "id": "2c4f66ed",
   "metadata": {},
   "source": [
    "## 添加链接"
   ]
  },
  {
   "cell_type": "markdown",
   "id": "7182b7ec",
   "metadata": {},
   "source": [
    "设置方式：输入网址链接的同时，更改网址的名称，中括号“[ ]”重命名，小括号“( )”添加网址。"
   ]
  },
  {
   "cell_type": "markdown",
   "id": "cb8ba50f",
   "metadata": {},
   "source": [
    "[百度](https://www.baidu.com/)"
   ]
  },
  {
   "cell_type": "markdown",
   "id": "92c87ecc",
   "metadata": {},
   "source": [
    "www.baidu.com"
   ]
  },
  {
   "cell_type": "markdown",
   "id": "9849fcae",
   "metadata": {},
   "source": [
    "## 水平分割线"
   ]
  },
  {
   "cell_type": "markdown",
   "id": "9c9b55d5",
   "metadata": {},
   "source": [
    "在cell中输入代码时，行与行之间可能需要分割线进行分割。"
   ]
  },
  {
   "cell_type": "markdown",
   "id": "b724e80b",
   "metadata": {},
   "source": [
    "设置方法：三个及其以上“-”或“*”"
   ]
  },
  {
   "cell_type": "markdown",
   "id": "5d3032c2",
   "metadata": {},
   "source": [
    "---"
   ]
  },
  {
   "cell_type": "markdown",
   "id": "9061e19c",
   "metadata": {},
   "source": [
    "## 代码高亮"
   ]
  },
  {
   "cell_type": "markdown",
   "id": "978c9910",
   "metadata": {},
   "source": [
    "设置方式：使用“```”将前后代码包裹，实现代码高亮功能。"
   ]
  },
  {
   "cell_type": "markdown",
   "id": "aef4d46f",
   "metadata": {},
   "source": [
    "```string = Hello World!```"
   ]
  },
  {
   "cell_type": "markdown",
   "id": "3778a4cc",
   "metadata": {},
   "source": [
    "## 行内代码"
   ]
  },
  {
   "cell_type": "markdown",
   "id": "9973faf9",
   "metadata": {},
   "source": [
    "设置方式：使用“`”将前后文字包裹，高亮所选部分。"
   ]
  },
  {
   "cell_type": "markdown",
   "id": "0b09c046",
   "metadata": {},
   "source": [
    "你好世界（`print(Hello World!`)）"
   ]
  },
  {
   "cell_type": "markdown",
   "id": "972e4318",
   "metadata": {},
   "source": [
    "## 换行"
   ]
  },
  {
   "cell_type": "markdown",
   "id": "bdbfd658",
   "metadata": {},
   "source": [
    "设置方式：使用\\<p>或\\<br>、\\<br />、\\<br/>，其中\\<p>的行距会比\\<br>的行距大。"
   ]
  },
  {
   "cell_type": "markdown",
   "id": "a61b7c84",
   "metadata": {},
   "source": [
    "第一段<p>\n",
    "第二段<br>\n",
    "第三段"
   ]
  },
  {
   "cell_type": "markdown",
   "id": "472afa53",
   "metadata": {},
   "source": [
    "## 制作表格"
   ]
  },
  {
   "cell_type": "markdown",
   "id": "4ca489d8",
   "metadata": {},
   "source": [
    "设置方式：字与字之间用“|”分割表示竖边框，用“—”代表表格的横边框。"
   ]
  },
  {
   "cell_type": "markdown",
   "id": "94878367",
   "metadata": {},
   "source": [
    "|  表头   | 表头  |\n",
    "|  ----  | ----  |\n",
    "| 单元格  | 单元格 |\n",
    "| 单元格  | 单元格 |"
   ]
  },
  {
   "cell_type": "markdown",
   "id": "76e89ed4",
   "metadata": {},
   "source": [
    "| Coef. | Std. Error | t | Pr(>$|t|$) | Lower 95% | Upper 95% |\n",
    "| :----:| :----: | :----: | :----:| :----: | :----: |\n",
    "| x1 | 60.7104|      4.6908 |     12.94 |   <1e-21 | 51.3898  |    70.0309 |\n",
    "|x2  |-0.0101535|   0.00157919|  -6.43   | <1e-08  |-0.0132914 |  -0.00701574|\n",
    "|x3  |-0.188206  |  0.0526546  | -3.57   | 0.0006  |-0.29283    | -0.0835829|\n",
    "|x4  | 3.84948e-5 | 1.30376e-5  | 2.95   | 0.0040  | 1.25894e-5 |  6.44003e-5|"
   ]
  },
  {
   "cell_type": "markdown",
   "id": "619bcda0",
   "metadata": {},
   "source": [
    "-: 设置内容和标题栏居右对齐。  \n",
    ":- 设置内容和标题栏居左对齐。  \n",
    ":-: 设置内容和标题栏居中对齐。"
   ]
  },
  {
   "cell_type": "markdown",
   "id": "00db6f52",
   "metadata": {},
   "source": [
    "| 左对齐 | 右对齐 | 居中对齐 |\n",
    "| :-----| ----: | :----: |\n",
    "| 1 | 2 | 3 |\n",
    "| 1 | 2 | 3 |"
   ]
  },
  {
   "cell_type": "markdown",
   "id": "c6d7bd47",
   "metadata": {},
   "source": [
    "## HTML格式生成图片"
   ]
  },
  {
   "cell_type": "markdown",
   "id": "71ff0b06",
   "metadata": {},
   "source": [
    "设置方式：\\<img src= 图片地址>"
   ]
  },
  {
   "cell_type": "markdown",
   "id": "86776a71",
   "metadata": {},
   "source": [
    "<img src=http://localhost:8889/static/base/images/logo.png v=a2a176ee3cee251ffddf5fa21fe8e43727a9e5f87a06f9c91ad7b776d9e9d3d5e0159c16cc188a3965e00375fb4bc336c16067c688f5040c0c2d4bfdb852a9e4 >"
   ]
  },
  {
   "cell_type": "markdown",
   "id": "18ca2952",
   "metadata": {},
   "source": [
    "## 插入本地图片"
   ]
  },
  {
   "cell_type": "markdown",
   "id": "20af4e71",
   "metadata": {},
   "source": [
    "![hellworld](diagram.png)"
   ]
  },
  {
   "cell_type": "markdown",
   "id": "f5d715d7",
   "metadata": {},
   "source": [
    "`![Alternative text](link \"optional title\")`"
   ]
  },
  {
   "cell_type": "markdown",
   "id": "f53702ee",
   "metadata": {},
   "source": [
    "- Alternative text：替代文本，即当图片不能正常显示的时候显示的文本。这个字段中不能有空格，如果一定要填空格可以使用%20代替，我一般是使用下划线代替空格\n",
    "\n",
    "- Link：图片的本地地址，或者网络地址，这个地址最好选择相对地址，不能使用绝对地址\n",
    "\n",
    "- Optional Title：鼠标悬停的时候显示的标题和文字，可以不写"
   ]
  },
  {
   "cell_type": "markdown",
   "id": "4f5550a9",
   "metadata": {},
   "source": [
    "如果非要调用其他文件夹的图片，那就记住一个原则，就是Markdown进行文件搜寻的方式是，从 .md 所在的文件夹出发，然后开始路径搜寻~什么意思呢，就是一定是相对路径，绝路路径行不通。\n",
    "\n",
    "搜寻的方式向上用 ../../，向下用filename/filename/"
   ]
  },
  {
   "cell_type": "markdown",
   "id": "6730cf41",
   "metadata": {},
   "source": [
    "## 脚注"
   ]
  },
  {
   "cell_type": "markdown",
   "id": "bb7ff6c9",
   "metadata": {
    "ExecuteTime": {
     "end_time": "2022-06-11T05:39:12.433520Z",
     "start_time": "2022-06-11T05:39:12.415047Z"
    }
   },
   "source": [
    "设置方式：在需要添加脚注的地方输入[^数字]，比如[^1]，在此基础上在同一个cell下输入该脚注的网址。"
   ]
  },
  {
   "cell_type": "markdown",
   "id": "24c30dc9",
   "metadata": {},
   "source": [
    "百度[^1]\n",
    "\n",
    "[^1]:https://www.baidu.com"
   ]
  },
  {
   "cell_type": "markdown",
   "id": "42c5795d",
   "metadata": {},
   "source": [
    "## 复选框"
   ]
  },
  {
   "cell_type": "markdown",
   "id": "4113af07",
   "metadata": {},
   "source": [
    "设置方式：<p>\n",
    "\n",
    "[ ] 表示未完成或未选，符号文本之间有空格<p>\n",
    "\n",
    "[x] 表示已完成或已选，符号文本之间有空格"
   ]
  },
  {
   "cell_type": "markdown",
   "id": "93693430",
   "metadata": {},
   "source": [
    "- [x] 已完成<p>\n",
    "- [ ] 未完成"
   ]
  },
  {
   "cell_type": "markdown",
   "id": "0c921b00",
   "metadata": {},
   "source": [
    "# 进阶操作"
   ]
  },
  {
   "cell_type": "markdown",
   "id": "a8a0c91e",
   "metadata": {},
   "source": [
    "## 更改字体、大小、颜色"
   ]
  },
  {
   "cell_type": "markdown",
   "id": "2ac1fafd",
   "metadata": {},
   "source": [
    "size：规定文本的尺寸大小，取值从 1 到 7。"
   ]
  },
  {
   "cell_type": "markdown",
   "id": "d8d242c6",
   "metadata": {},
   "source": [
    "\\<font face=\"黑体\">我是黑体字\\</font><p>\n",
    "\\<font face=\"微软雅黑\">我是微软雅黑\\</font><p>\n",
    "\\<font face=\"STCAIYUN\">我是华文彩云\\</font><p>\n",
    "\\<font color=red>我是红色\\</font><p>\n",
    "\\<font color=#008000>我是绿色\\</font><p>\n",
    "\\<font color=Blue>我是蓝色\\</font><p>\n",
    "\\<font size=5>我是尺寸\\</font><p>\n",
    "\\<font face=\"黑体\" color=green size=5>我是黑体，绿色，尺寸为5\\</font><p>\n",
    "\\<font face=\"Times New Roman\">Times New Roman\\</font>"
   ]
  },
  {
   "cell_type": "markdown",
   "id": "7e109a45",
   "metadata": {},
   "source": [
    "效果如下："
   ]
  },
  {
   "cell_type": "markdown",
   "id": "d3107635",
   "metadata": {},
   "source": [
    "<font face=\"黑体\">我是黑体字</font><p>\n",
    "<font face=\"微软雅黑\">我是微软雅黑</font><p>\n",
    "<font face=\"STCAIYUN\">我是华文彩云</font><p>\n",
    "<font color=red>我是红色</font><p>\n",
    "<font color=#008000>我是绿色</font><p>\n",
    "<font color=Blue>我是蓝色</font><p>\n",
    "<font size=5>我是尺寸</font><p>\n",
    "<font face=\"黑体\" color=green size=5>我是黑体，绿色，尺寸为5</font><p>\n",
    "<font face=\"Times New Roman\">Times New Roman</font>"
   ]
  },
  {
   "cell_type": "markdown",
   "id": "0876efb8",
   "metadata": {},
   "source": [
    "## 为文字添加背景色"
   ]
  },
  {
   "cell_type": "markdown",
   "id": "a64c58f9",
   "metadata": {},
   "source": [
    "由于 style 标签和标签的 style 属性不被支持，所以这里只能是借助 table, tr, td 等表格标签的 bgcolor 属性来实现背景色。故这里对于文字背景色的设置，只是将那一整行看作一个表格，更改了那个格子的背景色（bgcolor）"
   ]
  },
  {
   "cell_type": "markdown",
   "id": "e1f7017d",
   "metadata": {},
   "source": [
    "\\<table>\\<tr>\\<td bgcolor=yellow>背景色yellow\\</td>\\</tr>\\</table>"
   ]
  },
  {
   "cell_type": "markdown",
   "id": "f73dd1a6",
   "metadata": {},
   "source": [
    "<table><tr><td bgcolor=yellow>背景色yellow</td></tr></table>"
   ]
  },
  {
   "cell_type": "markdown",
   "id": "c93a56aa",
   "metadata": {},
   "source": [
    "## 设置图片大小"
   ]
  },
  {
   "cell_type": "markdown",
   "id": "c5e98c37",
   "metadata": {},
   "source": [
    "### 设置图片百分比"
   ]
  },
  {
   "cell_type": "markdown",
   "id": "8092d8d8",
   "metadata": {},
   "source": [
    "<img src=http://localhost:8889/static/base/images/logo.png v=a2a176ee3cee251ffddf5fa21fe8e43727a9e5f87a06f9c91ad7b776d9e9d3d5e0159c16cc188a3965e00375fb4bc336c16067c688f5040c0c2d4bfdb852a9e4 width=100 height=50 >"
   ]
  },
  {
   "cell_type": "markdown",
   "id": "540f891e",
   "metadata": {},
   "source": [
    "### 设置图片居中"
   ]
  },
  {
   "cell_type": "markdown",
   "id": "20838b07",
   "metadata": {},
   "source": [
    "<div align=right><img src=http://localhost:8889/static/base/images/logo.png v=a2a176ee3cee251ffddf5fa21fe8e43727a9e5f87a06f9c91ad7b776d9e9d3d5e0159c16cc188a3965e00375fb4bc336c16067c688f5040c0c2d4bfdb852a9e4 width=100 height=50 ></div>"
   ]
  },
  {
   "cell_type": "markdown",
   "id": "99f51e8b",
   "metadata": {},
   "source": [
    "## 公式符号"
   ]
  },
  {
   "cell_type": "markdown",
   "id": "b00ef32a",
   "metadata": {},
   "source": [
    "设置方式： 正文中\\\\$...\\\\$   单独一行显示\\\\$\\\\$...\\\\$\\\\$"
   ]
  },
  {
   "cell_type": "markdown",
   "id": "d86012ca",
   "metadata": {},
   "source": [
    "公式中有中文可以用\\text{}渲染从而可以插入空格，更美观。"
   ]
  },
  {
   "cell_type": "markdown",
   "id": "0372348b",
   "metadata": {},
   "source": [
    "$$\n",
    "L_{out} = \\lceil {\\frac{L_{in}-{\\text{dilation×(kernel_size−1)}}}{stride}}\\rceil\n",
    "$$"
   ]
  },
  {
   "cell_type": "markdown",
   "id": "2af6190e",
   "metadata": {},
   "source": [
    "### 基本公式"
   ]
  },
  {
   "cell_type": "markdown",
   "id": "c73ada53",
   "metadata": {},
   "source": [
    "公式|对应代码|对应渲染效果\n",
    "-----|-----|-----|\n",
    "分数|\\frac{a}{b}|$\\frac{a}{b}$\n",
    "根号|\\sqrt{2} \\sqrt[n]{3}|$\\sqrt{2}$ $\\sqrt[n]{3}$\n",
    "下标|A_b|$A_b$\n",
    "上标|a^{b\\*c}|$a^{b*c}$\n",
    "上划线|\\overline{X}|$\\overline{X}$\n",
    "^|\\hat{x}|$\\hat{x}$\n",
    "矢量|\\vec{a}|$\\vec{a}$\n",
    "上波浪线|\\tilde{a}|$\\tilde{a}$\n",
    "累和|\\sum_{i=1}^{n}|$$\\sum_{i=1}^{n}$$\n",
    "累积|\\prod|$\\prod$\n",
    "lim|\\lim_{n\\rightarrow+\\infty} n|$$\\lim_{n\\rightarrow+\\infty} n$$\n",
    "积分|\\int ^3_0|$\\int ^3_0$\n",
    "log|\\log_2 10|$\\log_2 10$\n",
    "向上取整|\\lceil \\rceil|$\\lceil x\\rceil$\n",
    "向下取整|\\lfloor \\rfloor|$\\lfloor \\rfloor$\n",
    "max下面添符号|arg,\\max_{c_k}|$$arg,\\max_{c_k}$$\n",
    "下括号|\\underbrace{aaa}\\_{b}|$\\underbrace{aaa}_{b}$"
   ]
  },
  {
   "cell_type": "markdown",
   "id": "3fe816cf",
   "metadata": {},
   "source": [
    "### 特殊符号"
   ]
  },
  {
   "cell_type": "markdown",
   "id": "5ee6cb66",
   "metadata": {},
   "source": [
    "特殊符号|对应代码|对应渲染效果\n",
    "-----|-----|-----|\n",
    "ψ|\\psi|$\\psi$\n",
    "Ω|\\Omega|$\\Omega$\n",
    "ϕ|\\phi|$\\phi$\n",
    "φ|\\varphi|$\\varphi$\n",
    "λ|\\lambda|$\\lambda$\n",
    "π|\\pi|$\\pi$\n",
    "Θ|\\Theta|$\\Theta$\n",
    "⊕|\\oplus|$\\oplus$\n",
    "θ|\\theta|$\\theta$\n",
    "μ|\\mu|$\\mu$\n",
    "ε|\\varepsilon|$\\varepsilon$\n",
    "γ|\\gamma|$\\gamma$\n",
    "ℓ|\\ell|$\\ell$\n",
    "ζ|\\zeta|$\\zeta$\n",
    "𝛼|\\alpha|$\\alpha$\n",
    "β|\\beta|$\\beta$\n",
    "σ|\\sigma|$\\sigma$\n",
    "𝛿 |\\delta|$\\delta$\n",
    "ρ|\\rho|$\\rho$\n",
    "∪|\\cup|$\\cup$\n",
    "∩|\\cap|$\\cap$\n",
    "η|\\eta|$\\eta$\n",
    "Δ|\\Delta|$\\Delta$\n",
    "∇|\\nabla|$\\nabla$\n",
    "∂|\\partial|$\\partial$\n",
    "∈|\\in|$\\in$\n",
    "≠|\\ne|$\\ne$\n",
    "←|\\gets|$\\gets$\n",
    "→|\\to|$\\to$\n",
    "↑|\\uparrow|$\\uparrow$\n",
    "↓|\\downarrow|$\\downarrow$\n",
    "⊆|\\subseteq|$\\subseteq$\n",
    "≤|\\leq|$\\leq$\n",
    "≥|\\ge|$\\ge$\n",
    "±|\\pm|$\\pm$\n",
    "≈|\\approx|$\\approx$\n",
    "∞|\\infty|$\\infty$"
   ]
  },
  {
   "cell_type": "markdown",
   "id": "d67699e3",
   "metadata": {},
   "source": [
    "### 向量公式"
   ]
  },
  {
   "cell_type": "markdown",
   "id": "b52ab11d",
   "metadata": {},
   "source": [
    "使用\\mathbf{x}来表示向量$\\mathbf{x}$。"
   ]
  },
  {
   "cell_type": "markdown",
   "id": "083f3823",
   "metadata": {},
   "source": [
    "$$f(\\mathbf{x})=\\mathbf{w}^T\\mathbf{x}$$"
   ]
  },
  {
   "cell_type": "markdown",
   "id": "1a6b8d4e",
   "metadata": {},
   "source": [
    "### 分段公式"
   ]
  },
  {
   "cell_type": "markdown",
   "id": "ceed5937",
   "metadata": {},
   "source": [
    "定义函数的时候经常需要分情况给出表达式，使用 {…。其中：  \n",
    "（1）使用\\ 来分隔分组；  \n",
    "（2）使用& 来指示需要对齐的位置；  \n",
    "（3）使用\\ + 空格来表示空格；  \n",
    "（4）如果要使分类之间的垂直间隔变大，可以使用\\\\[2ex] 代替\\ 来分隔不同的情况。(3ex,4ex 也可以用，1ex 相当于原始距离）。"
   ]
  },
  {
   "cell_type": "markdown",
   "id": "26121354",
   "metadata": {},
   "source": [
    "分段函数"
   ]
  },
  {
   "cell_type": "markdown",
   "id": "8f8b8a16",
   "metadata": {},
   "source": [
    "$$\n",
    "y=\n",
    "\\begin{cases}\n",
    "-x,& x\\leq 0\\\\\n",
    "x, & x>0\n",
    "\\end{cases}\n",
    "\\tag{1}\n",
    "$$"
   ]
  },
  {
   "cell_type": "markdown",
   "id": "d210f3cc",
   "metadata": {},
   "source": [
    "方程组"
   ]
  },
  {
   "cell_type": "markdown",
   "id": "a04acb93",
   "metadata": {},
   "source": [
    "$$\n",
    "\\left\\{ \n",
    "\\begin{array}{c}\n",
    "    a_1x+b_1y+c_1z=d_1 \\\\ \n",
    "    a_2x+b_2y+c_2z=d_2 \\\\ \n",
    "    a_3x+b_3y+c_3z=d_3\n",
    "\\end{array}\n",
    "\\right. \n",
    "$$"
   ]
  },
  {
   "cell_type": "markdown",
   "id": "bcad7132",
   "metadata": {},
   "source": [
    "均方误差"
   ]
  },
  {
   "cell_type": "markdown",
   "id": "e7627a1c",
   "metadata": {},
   "source": [
    "$$\n",
    "J(\\theta) = \\frac{1}{2m}\\sum_{i = 0} ^m(y^i - h_\\theta (x^i))^2\n",
    "$$"
   ]
  },
  {
   "cell_type": "markdown",
   "id": "fac54c5d",
   "metadata": {},
   "source": [
    "批量梯度下降"
   ]
  },
  {
   "cell_type": "markdown",
   "id": "084e286d",
   "metadata": {},
   "source": [
    "$$\n",
    "\\frac{\\partial J(\\theta)}{\\partial\\theta_j}=-\\frac1m\\sum_{i=0}^m(y^i-h_\\theta(x^i))x^i_j \n",
    "$$"
   ]
  },
  {
   "cell_type": "markdown",
   "id": "57fa7c94",
   "metadata": {},
   "source": [
    "推导过程"
   ]
  },
  {
   "cell_type": "markdown",
   "id": "9cb10f30",
   "metadata": {},
   "source": [
    "$$\n",
    "\\begin{aligned}\n",
    "\\frac{\\partial J(\\theta)}{\\partial\\theta_j}\n",
    "& = -\\frac1m\\sum_{i=0}^m(y^i-h_\\theta(x^i)) \\frac{\\partial}{\\partial\\theta_j}(y^i-h_\\theta(x^i)) \\\\\n",
    "& = -\\frac1m\\sum_{i=0}^m(y^i-h_\\theta(x^i)) \\frac{\\partial}{\\partial\\theta_j}(\\sum_{j=0}^n\\theta_jx_j^i-y^i) \\\\\n",
    "& = -\\frac1m\\sum_{i=0}^m(y^i-h_\\theta(x^i))x^i_j\n",
    "\\end{aligned}\n",
    "$$"
   ]
  },
  {
   "cell_type": "markdown",
   "id": "08920cb4",
   "metadata": {},
   "source": [
    "带方框的等式"
   ]
  },
  {
   "cell_type": "markdown",
   "id": "6e808552",
   "metadata": {},
   "source": [
    "$$\n",
    "\\begin{aligned}\n",
    " \\boxed{x^2+y^2 = z^2}\n",
    "\\end{aligned}\n",
    "$$"
   ]
  },
  {
   "cell_type": "markdown",
   "id": "501f6b67",
   "metadata": {},
   "source": [
    "### 矩阵"
   ]
  },
  {
   "cell_type": "markdown",
   "id": "62b2720a",
   "metadata": {},
   "source": [
    "#### 不带括号的矩阵"
   ]
  },
  {
   "cell_type": "markdown",
   "id": "964b5914",
   "metadata": {},
   "source": [
    "$$\n",
    "\\begin{matrix}\n",
    "1 & 2 & 3\\\\\n",
    "4 & 5 & 6 \\\\\n",
    "7 & 8 & 9\n",
    "\\end{matrix}\n",
    "\\tag{1}\n",
    "$$"
   ]
  },
  {
   "cell_type": "markdown",
   "id": "b550bd9b",
   "metadata": {},
   "source": [
    "#### 带小括号的矩阵"
   ]
  },
  {
   "cell_type": "markdown",
   "id": "c30bfed8",
   "metadata": {},
   "source": [
    "$$\\left(\n",
    "\\begin{matrix}\n",
    "1 & 2 & 3\\\\\n",
    "4 & 5 & 6 \\\\\n",
    "7 & 8 & 9\n",
    "\\end{matrix}\n",
    "\\right)\n",
    "\\tag{2}\n",
    "$$\n"
   ]
  },
  {
   "cell_type": "markdown",
   "id": "3894b509",
   "metadata": {},
   "source": [
    "#### 带中括号的矩阵"
   ]
  },
  {
   "cell_type": "markdown",
   "id": "f9496204",
   "metadata": {},
   "source": [
    "$$\\left[\n",
    "\\begin{matrix}\n",
    "1 & 2 & 3\\\\\n",
    "4 & 5 & 6 \\\\\n",
    "7 & 8 & 9\n",
    "\\end{matrix}\n",
    "\\right]\n",
    "\\tag{3}\n",
    "$$\n"
   ]
  },
  {
   "cell_type": "markdown",
   "id": "d68070be",
   "metadata": {},
   "source": [
    "#### 带大括号的矩阵"
   ]
  },
  {
   "cell_type": "markdown",
   "id": "938a86c8",
   "metadata": {},
   "source": [
    "$$\\left\\{\n",
    "\\begin{matrix}\n",
    "1 & 2 & 3\\\\\n",
    "4 & 5 & 6 \\\\\n",
    "7 & 8 & 9\n",
    "\\end{matrix}\n",
    "\\right\\}\n",
    "\\tag{4}\n",
    "$$\n"
   ]
  },
  {
   "cell_type": "markdown",
   "id": "5124e147",
   "metadata": {},
   "source": [
    "#### 带省略号的矩阵"
   ]
  },
  {
   "cell_type": "markdown",
   "id": "1cd3068f",
   "metadata": {},
   "source": [
    "$$\n",
    "\\left[\n",
    "\\begin{matrix}\n",
    "a & b & \\cdots & a\\\\\n",
    "b & b & \\cdots & b\\\\\n",
    "\\vdots & \\vdots & \\ddots & \\vdots\\\\\n",
    "c & c & \\cdots & c\n",
    "\\end{matrix}\n",
    "\\right]\n",
    "\\tag{5}\n",
    "$$\n"
   ]
  },
  {
   "cell_type": "markdown",
   "id": "1a78e967",
   "metadata": {},
   "source": [
    "#### 带横线/竖线分割的矩阵"
   ]
  },
  {
   "cell_type": "markdown",
   "id": "ecbaa14e",
   "metadata": {},
   "source": [
    "$$\n",
    "\\left[\n",
    "\\begin{array}{c|cc}\n",
    "1 & 2 & 3 \\\\\n",
    "4 & 5 & 6 \\\\\n",
    "7 & 8 & 9\n",
    "\\end{array}\n",
    "\\right]\n",
    "\\tag{6}\n",
    "$$\n"
   ]
  },
  {
   "cell_type": "markdown",
   "id": "60cc8a1a",
   "metadata": {},
   "source": [
    "横线用 \\hline 分割，示例如下："
   ]
  },
  {
   "cell_type": "markdown",
   "id": "25c6bef7",
   "metadata": {},
   "source": [
    "$$\n",
    "\\left[\n",
    "    \\begin{array}{c|cc}\n",
    "    1 & 2 & 3 \\\\ \\hline\n",
    "    4 & 5 & 6 \\\\\n",
    "    7 & 8 & 9\n",
    "    \\end{array}\n",
    "\\right]\n",
    "\\tag{7}\n",
    "$$\n"
   ]
  },
  {
   "cell_type": "markdown",
   "id": "c566a2ce",
   "metadata": {},
   "source": [
    "### 连分号"
   ]
  },
  {
   "cell_type": "markdown",
   "id": "e21c77d4",
   "metadata": {},
   "source": [
    "$$x=a_0 + \\cfrac{1^2}{a_ 1+\\cfrac{2^2}{a_2+\\cfrac{3^2}{a_3+ \\cfrac{4^2}{a_4+...}}}}$$"
   ]
  },
  {
   "cell_type": "markdown",
   "id": "5fa4087b",
   "metadata": {},
   "source": [
    "### 省略号"
   ]
  },
  {
   "cell_type": "markdown",
   "id": "aeddf813",
   "metadata": {},
   "source": [
    "数学算式|Markdown公式|核心语法\n",
    "----|----|----|\n",
    "…|\\dots|$\\dots$\n",
    "…|\\ldots|$\\ldots$\n",
    "⋯|\\cdots|$\\cdots$\n",
    "⋮|\\vdots|$\\vdots$\n",
    "⋱|\\ddots|$\\ddots$"
   ]
  },
  {
   "cell_type": "markdown",
   "id": "fef796e2",
   "metadata": {},
   "source": [
    "### 三角函数"
   ]
  },
  {
   "cell_type": "markdown",
   "id": "021e0930",
   "metadata": {},
   "source": [
    "数学算式|Markdown公式|释义\n",
    "----|----|----|\n",
    "sin ⁡|\\sin\t|正弦\n",
    "cos |\\cos\t|余弦\n",
    "tan ⁡|\\tan\t|正切\n",
    "cot ⁡|\\cot\t|余切\n",
    "sec |\\sec\t|反正弦\n",
    "csc ⁡|\\csc\t|反余弦\n",
    "⊥  |\\bot\t|垂直\n",
    "∠ |\\angle\t|夹角\n",
    "$40^\\circ$| 40^\\circ|$40^\\circ$"
   ]
  },
  {
   "cell_type": "markdown",
   "id": "7ce79d83",
   "metadata": {},
   "source": [
    "### 空格"
   ]
  },
  {
   "cell_type": "markdown",
   "id": "1640d893",
   "metadata": {},
   "source": [
    "Markdown公式|数学算式\n",
    "----|----|\n",
    "$123\\!123$|123\\!123\n",
    "$123\\,123$|123\\,123\n",
    "$123\\:123$|123\\:123\n",
    "$123\\;123$|123\\;123\n",
    "$123\\quad123$|123\\quad123\n",
    "$123\\qquad123$|123\\qquad123"
   ]
  },
  {
   "cell_type": "markdown",
   "id": "7280e7bd",
   "metadata": {},
   "source": [
    "# 高级操作"
   ]
  },
  {
   "cell_type": "markdown",
   "id": "7d2c32f8",
   "metadata": {},
   "source": [
    "## 绘制目录结构"
   ]
  },
  {
   "cell_type": "markdown",
   "id": "d2609c32",
   "metadata": {},
   "source": [
    "Windows：cmd到命令提示符，cd到对应目录（`cd /D 路径`），使用`tree /f > tree.txt`，将目录生成到tree.txt文本文件中 ，打开文件拷贝复制到markdown中，使用\\`\\`\\`开启代码块。"
   ]
  },
  {
   "cell_type": "markdown",
   "id": "4caf485c",
   "metadata": {},
   "source": [
    "```\n",
    "D:.\n",
    "│  README.md\n",
    "│\n",
    "├─julia\n",
    "│  ├─julia基础\n",
    "│  │  │  julia基础Ⅰ.ipynb\n",
    "│  │  │  julia基础Ⅱ.ipynb\n",
    "│  │  │  julia查库.ipynb\n",
    "│  │  │\n",
    "│  │  └─.ipynb_checkpoints\n",
    "│  │          julia基础Ⅰ-checkpoint.ipynb\n",
    "│  │          julia基础Ⅱ-checkpoint.ipynb\n",
    "│  │\n",
    "│  ├─julia应用\n",
    "│  │  │  julia程序效率.ipynb\n",
    "│  │  │\n",
    "│  │  └─.ipynb_checkpoints\n",
    "│  ├─julia数据分析\n",
    "│  │  │  julia数据分析.ipynb\n",
    "│  │  │  tmp.gif\n",
    "│  │  │\n",
    "│  │  └─.ipynb_checkpoints\n",
    "│  └─julia机器学习\n",
    "│          gamma_sampler.png\n",
    "│          julia机器学习Ⅰ.ipynb\n",
    "│          julia机器学习Ⅱ.ipynb\n",
    "│          learning_curve.png\n",
    "│          learning_curve2.png\n",
    "│          neural_net.jlso\n",
    "│          tuning.png\n",
    "```"
   ]
  },
  {
   "cell_type": "code",
   "execution_count": null,
   "id": "4d1eed46",
   "metadata": {},
   "outputs": [],
   "source": []
  }
 ],
 "metadata": {
  "kernelspec": {
   "display_name": "Python 3 (ipykernel)",
   "language": "python",
   "name": "python3"
  },
  "language_info": {
   "codemirror_mode": {
    "name": "ipython",
    "version": 3
   },
   "file_extension": ".py",
   "mimetype": "text/x-python",
   "name": "python",
   "nbconvert_exporter": "python",
   "pygments_lexer": "ipython3",
   "version": "3.9.7"
  },
  "nbTranslate": {
   "displayLangs": [
    "*"
   ],
   "hotkey": "alt-t",
   "langInMainMenu": true,
   "sourceLang": "en",
   "targetLang": "fr",
   "useGoogleTranslate": true
  },
  "toc": {
   "base_numbering": 1,
   "nav_menu": {},
   "number_sections": true,
   "sideBar": true,
   "skip_h1_title": false,
   "title_cell": "Table of Contents",
   "title_sidebar": "Contents",
   "toc_cell": false,
   "toc_position": {
    "height": "calc(100% - 180px)",
    "left": "10px",
    "top": "150px",
    "width": "286.2px"
   },
   "toc_section_display": true,
   "toc_window_display": true
  }
 },
 "nbformat": 4,
 "nbformat_minor": 5
}
