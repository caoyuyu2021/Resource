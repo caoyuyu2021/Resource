{
 "cells": [
  {
   "cell_type": "markdown",
   "id": "735c6bd5",
   "metadata": {},
   "source": [
    "# shell简介"
   ]
  },
  {
   "cell_type": "markdown",
   "id": "a746e5ca",
   "metadata": {},
   "source": [
    "shell是Linux系统的用户界面，它提供用户与内核的一种交互方式。它接收用户输入的命令，并把它送入内核去执行，是一个命令解释器。"
   ]
  },
  {
   "cell_type": "markdown",
   "id": "a1d7e7e0",
   "metadata": {},
   "source": [
    "shell是用户接口，而bash只是shell的一个型号而已。就好比shell就是iPhone，而bash只是iPhone的其中一个型号。"
   ]
  },
  {
   "cell_type": "markdown",
   "id": "92f82b2d",
   "metadata": {},
   "source": [
    "`cat /etc/shells`可以查看系统有多少个shell。  \n",
    "/bin/sh  \n",
    "/bin/bash  \n",
    "/usr/bin/sh  \n",
    "/usr/bin/bash  \n",
    "/bin/tcsh  \n",
    "/bin/csh  "
   ]
  },
  {
   "cell_type": "markdown",
   "id": "6e57a74f",
   "metadata": {},
   "source": [
    "shell脚本就是将命令写入文本中，文本可以被执行。  \n",
    "脚本：本质是一个文件，文件里面存放的是 特定格式的指令，系统可以使用脚本解析器 翻译或解析 指令 并执行（它不需要编译）  \n",
    "shell 既是应用程序，又是一种脚本语言（应用程序 解析 脚本语言）。"
   ]
  },
  {
   "cell_type": "markdown",
   "id": "e812f404",
   "metadata": {},
   "source": [
    "# 执行方式"
   ]
  },
  {
   "cell_type": "markdown",
   "id": "2bdc773f",
   "metadata": {},
   "source": [
    "- `./xxx.sh` 先按照#！指定的解析器解析，如果找不到使用默认解析  \n",
    "- `bash xxx.sh` 指定使用bash解析器解析，找不到使用默认解析  \n",
    "- `.xxx.sh` 直接使用默认解析"
   ]
  },
  {
   "cell_type": "markdown",
   "id": "451678c3",
   "metadata": {},
   "source": [
    "# 脚本的调用形式"
   ]
  },
  {
   "cell_type": "markdown",
   "id": "e815c3b5",
   "metadata": {
    "ExecuteTime": {
     "end_time": "2023-01-18T01:46:42.280295Z",
     "start_time": "2023-01-18T01:46:42.271535Z"
    }
   },
   "source": [
    "可以手动执行脚本或自动执行脚本。  \n",
    "手动执行：  \n",
    "①`chmod +x xxx.sh`（添加可执行权限） `./xxx.sh`（执行脚本）  \n",
    "②`source xxx.sh`  \n",
    "自动执行：写到其他脚本中，利用脚本去调用。"
   ]
  },
  {
   "cell_type": "markdown",
   "id": "1075e102",
   "metadata": {},
   "source": [
    "打开终端时系统自动调用：/etc/profile 或 ~/.bashrc  "
   ]
  },
  {
   "cell_type": "markdown",
   "id": "b2d2dd7d",
   "metadata": {},
   "source": [
    "/etc/profile  \n",
    "此文件为Linux系统为每个用户设置环境变量，当用户第一次登陆时，该文件会被执行。 系统的公共环境变量在这里设置\n",
    "开始自启动的程序，一般也在这里设置。  \n",
    "注意：错误的修改系统配置文件时，可能会导致重复输密码一直无法进入桌面的现象。  "
   ]
  },
  {
   "cell_type": "markdown",
   "id": "a74945a0",
   "metadata": {},
   "source": [
    "~/.bashrc  \n",
    "用户自己的家目录中的.bashrc  \n",
    "登录时会自动调用，打开一个新终端时也会自动调用  \n",
    "这个文件一般设置与个人用户有关的环境变量 ，如交叉编译器的路径等等"
   ]
  },
  {
   "cell_type": "markdown",
   "id": "ec5cbfa1",
   "metadata": {},
   "source": [
    "# shell语法"
   ]
  },
  {
   "cell_type": "markdown",
   "id": "224186c4",
   "metadata": {},
   "source": [
    "## 基本规则"
   ]
  },
  {
   "cell_type": "markdown",
   "id": "c8e2b24b",
   "metadata": {},
   "source": [
    "定义以开头：`#!/bin/sh`"
   ]
  },
  {
   "cell_type": "markdown",
   "id": "d7cf190e",
   "metadata": {},
   "source": [
    "#!用来声明脚本由什么shell解释，否则使用默认shell"
   ]
  },
  {
   "cell_type": "markdown",
   "id": "56b4616e",
   "metadata": {},
   "source": [
    "单个\"#\"号代表注释当前行"
   ]
  },
  {
   "cell_type": "markdown",
   "id": "8bbc2a32",
   "metadata": {},
   "source": [
    "`<<EOF  xxxxxxx  EOF`   \n",
    "能注释多行"
   ]
  },
  {
   "cell_type": "markdown",
   "id": "76047e43",
   "metadata": {},
   "source": [
    "## 变量"
   ]
  },
  {
   "cell_type": "markdown",
   "id": "5a42260a",
   "metadata": {},
   "source": [
    "### 变量定义"
   ]
  },
  {
   "cell_type": "markdown",
   "id": "03b62c0b",
   "metadata": {},
   "source": [
    "Shell 变量的命名规范和大部分编程语言都一样：\n",
    "- 变量名由数字、字母、下划线组成；\n",
    "- 必须以字母或者下划线开头；\n",
    "- 不能使用 Shell 里的关键字（通过 help 命令可以查看保留关键字）。"
   ]
  },
  {
   "cell_type": "markdown",
   "id": "6582042d",
   "metadata": {},
   "source": [
    "shell支持以下3种方式定义变量：\n",
    "- `variable=value`      #普通赋值方法\n",
    "- `variable='value'`\n",
    "- `variable=\"value\"`\t\t#当变量的值（字符串）中包含任何空白符时，加双引号  \n",
    "\n",
    "赋值符两边不能有空格，若变量值本身包含了空格，则整个字符串都要用双引号、或单引号括起来。"
   ]
  },
  {
   "cell_type": "markdown",
   "id": "d9017bc4",
   "metadata": {},
   "source": [
    "**双引号和单引号的区别**  \n",
    "在双引号中会引用变量的值，而单引号只把它当字符处理。  \n",
    "在脚本中定义的变量，脚本结束后，变量和它的值还在，命令行“echo $变量名”可以查看。"
   ]
  },
  {
   "cell_type": "markdown",
   "id": "3a2869ab",
   "metadata": {},
   "source": [
    "### 变量类型"
   ]
  },
  {
   "cell_type": "markdown",
   "id": "634ad508",
   "metadata": {},
   "source": [
    "在shell中给变量赋值会默认视为字符串，不管有没有加双引号，即使你将整数或者小数赋值给它。  \n",
    "\n",
    "当然如果有需要也可以设置变量类型：  \n",
    "设置变量类型：typeset或declare可以设置变量类型。  \n",
    "比如：  \n",
    "`typeset -i data` 表示将data设置为int型。"
   ]
  },
  {
   "cell_type": "markdown",
   "id": "49158418",
   "metadata": {},
   "source": [
    "### 使用变量"
   ]
  },
  {
   "cell_type": "markdown",
   "id": "29a15b1b",
   "metadata": {},
   "source": [
    "使用一个定义过的变量，只要在变量名前面加美元符号\\\\$即可，如：  \n",
    "`author=\"九月\"`  \n",
    "`echo $author`  \n",
    "`echo ${author}`  "
   ]
  },
  {
   "cell_type": "markdown",
   "id": "47ed8ddf",
   "metadata": {},
   "source": [
    "花括号{ }是可选的，加花括号是为了帮助解释器识别变量的边界，比如下面这种情况：  \n",
    "`skill=\"Java\"`  \n",
    "`echo \"I am good at ${skill}Script`  \n",
    "如果不给 skill 变量加花括号，写成`echo \"I am good at $skillScript\"`，解释器就会把 \\\\$skillScript 当成一个变量（其值为空），代码执行结果就不是我们期望的样子了。\n",
    "推荐给所有变量加上花括号{ }。"
   ]
  },
  {
   "cell_type": "markdown",
   "id": "5c16514e",
   "metadata": {},
   "source": [
    "### 变量作用域"
   ]
  },
  {
   "cell_type": "markdown",
   "id": "0c2e0181",
   "metadata": {},
   "source": [
    "运行shell时，会同时存在三种变量："
   ]
  },
  {
   "cell_type": "markdown",
   "id": "5f7969be",
   "metadata": {},
   "source": [
    "- 局部变量  \n",
    "局部变量在脚本或命令中定义，仅在当前shell实例中有效，其他shell启动的程序不能访问局部变量。\n",
    "- 环境变量  \n",
    "所有的程序，包括shell启动的程序，都能访问环境变量，有些程序需要环境变量来保证其正常运行。必要的时候shell脚本也可以定义环境变量。\n",
    "- shell变量  \n",
    "shell变量是由shell程序设置的特殊变量。shell变量中有一部分是环境变量，有一部分是局部变量，这些变量保证了shell的正常运行。"
   ]
  },
  {
   "cell_type": "markdown",
   "id": "6a228178",
   "metadata": {},
   "source": [
    "## shell中的一些关键字"
   ]
  },
  {
   "cell_type": "markdown",
   "id": "9b6de3bc",
   "metadata": {},
   "source": [
    "**echo： 打印**  \n",
    "`echo \"xxxxx\"` #打印字符串  \n",
    "`echo $变量名` #打印变量的值  \n",
    "例如：`echo $PATH` 可以打印环境变量PATH的值  \n",
    "`env` #打印所有的环境变量"
   ]
  },
  {
   "cell_type": "markdown",
   "id": "39de9083",
   "metadata": {},
   "source": [
    "**显示结果重定向至文件**  \n",
    "会在当前目录下创建myfile文件，并写入字符串。  \n",
    "`echo \"It is a test\" > myfile`  "
   ]
  },
  {
   "cell_type": "markdown",
   "id": "06e51ced",
   "metadata": {},
   "source": [
    "**unset：变量值清除。**"
   ]
  },
  {
   "cell_type": "markdown",
   "id": "c4a42c2b",
   "metadata": {},
   "source": [
    "**read： 读取键盘输入。read 变量名。读取输入的值到变量。readonly：只读变量**"
   ]
  },
  {
   "cell_type": "markdown",
   "id": "1ca420e2",
   "metadata": {},
   "source": [
    "## 预设变量"
   ]
  },
  {
   "cell_type": "markdown",
   "id": "543b7a96",
   "metadata": {},
   "source": [
    "shell直接提供无需定义的变量。"
   ]
  },
  {
   "cell_type": "markdown",
   "id": "f976c85b",
   "metadata": {},
   "source": [
    "`$#`：传给shell脚本参数的数量。  \n",
    "`$*`：传给shell脚本参数的内容。  \n",
    "`$1、$2、$3、...、$9`：运行脚本时传递给其的参数，用空格隔开。  \n",
    "`$?`：命令执行后返回的状态：返回0表示成功，非0表示失败。  \n",
    "`$0`：当前执行的进程名。  \n",
    "`$$`：当前进程的进程号。  "
   ]
  },
  {
   "cell_type": "markdown",
   "id": "6599c4ee",
   "metadata": {},
   "source": [
    "## 脚本变量的特殊用法"
   ]
  },
  {
   "cell_type": "markdown",
   "id": "a2bbc1e2",
   "metadata": {},
   "source": [
    "\"\"（双引号）：包含的变量会被解释。  \n",
    "''（单引号）：包含的变量会被当作字符串解释。  \n",
    "\\（转义字符）：echo命令需加-e转义。  \n",
    "()（命令序列）：由子shell来完成，类似于子进程，（“()”内定义的变量仅在此文件有效）。  \n",
    "{}（命令序列）：在当前shell中执行，会影响当前变量。  \n",
    "``（反引号）：反引号中的内容为系统命令。echo \"today is \\`date\\`\""
   ]
  },
  {
   "cell_type": "markdown",
   "id": "63a342af",
   "metadata": {},
   "source": [
    "## 变量的扩展"
   ]
  },
  {
   "cell_type": "markdown",
   "id": "6476dbee",
   "metadata": {},
   "source": [
    "**判断变量是否存在**"
   ]
  },
  {
   "cell_type": "markdown",
   "id": "d707ec57",
   "metadata": {},
   "source": [
    "`${var}`：变量本来的值。  \n",
    "`${var:-word}`：如果变量var为空或已被删除，那么返回word，但不改变var的值。  \n",
    "`${var:=word}`：如果变量var为空或已被删除，那么返回word，并将var的值设置为word。  \n",
    "`${var:?message}`：如果变量var为空或已被删除，那么将message送到标准错误输出，可以用来检测变量var是否被正常赋值，若此替换出现在shell脚本中，那么脚本将停止运行。  \n",
    "`${var:+word}`：如果变量var被定义，那么返回word，但不改变var的值。"
   ]
  },
  {
   "cell_type": "markdown",
   "id": "502ad7f6",
   "metadata": {},
   "source": [
    "## 字符串操作"
   ]
  },
  {
   "cell_type": "markdown",
   "id": "bee9f656",
   "metadata": {},
   "source": [
    "### 计算字符串长度"
   ]
  },
  {
   "cell_type": "markdown",
   "id": "35b2fb6f",
   "metadata": {},
   "source": [
    "`string=\"abcd\"`  \n",
    "`echo ${#string}` #输出 4"
   ]
  },
  {
   "cell_type": "markdown",
   "id": "af19e40b",
   "metadata": {},
   "source": [
    "### 提取子串"
   ]
  },
  {
   "cell_type": "markdown",
   "id": "a663a417",
   "metadata": {},
   "source": [
    "`string=\"alibaba is a great company\"`  \n",
    "`echo ${string:1:4}` #输出liba"
   ]
  },
  {
   "cell_type": "markdown",
   "id": "7ea69b9b",
   "metadata": {},
   "source": [
    "### 拼接字符串"
   ]
  },
  {
   "cell_type": "markdown",
   "id": "f49a3afa",
   "metadata": {},
   "source": [
    "`your_name=\"qinjx\"`  \n",
    "`greeting=\"hello, \"$your_name\" \"`  \n",
    "`greeting_1=\"hello, ${your_name} \"`  \n",
    "`echo $greeting $greeting_1`  #输出hello, qinjx"
   ]
  },
  {
   "cell_type": "markdown",
   "id": "04bbb554",
   "metadata": {},
   "source": [
    "### 查找字符串"
   ]
  },
  {
   "cell_type": "markdown",
   "id": "948ebc1d",
   "metadata": {},
   "source": [
    "string=\"alibaba is a great company\"  \n",
    "echo \\`expr index \"$string\" alibaba\\` #输出1，空格也算一个"
   ]
  },
  {
   "cell_type": "markdown",
   "id": "93846844",
   "metadata": {},
   "source": [
    "### 替换字符"
   ]
  },
  {
   "cell_type": "markdown",
   "id": "dee3562b",
   "metadata": {},
   "source": [
    "`string=\"123123\"`  \n",
    "`echo ${string/3/0}`\t\t\t#用0替换第一个遇见的3  \n",
    "`echo ${string//3/0}`\t\t\t#用0替换字符串中所有3  "
   ]
  },
  {
   "cell_type": "markdown",
   "id": "0e76ceba",
   "metadata": {},
   "source": [
    "## 运算符操作"
   ]
  },
  {
   "cell_type": "markdown",
   "id": "302ba4e9",
   "metadata": {},
   "source": [
    "bash 支持很多运算符，包括算术运算符、关系运算符、布尔运算符、字符串运算符和文件测试运算符。"
   ]
  },
  {
   "cell_type": "markdown",
   "id": "929bc9b5",
   "metadata": {},
   "source": [
    "### 算术运算符"
   ]
  },
  {
   "cell_type": "markdown",
   "id": "2096d9c3",
   "metadata": {},
   "source": [
    "原生bash不支持简单的数学运算，但是可以通过其他命令来实现，例如 awk 和 expr，expr 最常用。  \n",
    "\n",
    "expr 是一款表达式计算工具，使用它能完成表达式的求值操作："
   ]
  },
  {
   "cell_type": "markdown",
   "id": "99afe639",
   "metadata": {},
   "source": [
    "#!/bin/bash  \n",
    "val=\\`expr 2 + 2\\`  \n",
    "echo \"Total value : $val\"  "
   ]
  },
  {
   "cell_type": "markdown",
   "id": "4ffec720",
   "metadata": {},
   "source": [
    "两点注意：\n",
    "\n",
    "- 表达式和运算符之间要有空格，例如 2+2 是不对的，必须写成 2 + 2，这与我们熟悉的大多数编程语言不一样。\n",
    "- 完整的表达式要被``包含，注意这个字符不是常用的单引号，在 Esc 键下边。"
   ]
  },
  {
   "cell_type": "markdown",
   "id": "2e529ccb",
   "metadata": {},
   "source": [
    "### 文件测试运算符"
   ]
  },
  {
   "cell_type": "markdown",
   "id": "ebc6b128",
   "metadata": {},
   "source": [
    "test命令：用于测试字符串、文件状态和数值。  \n",
    "\n",
    "test命令有两种格式:  \n",
    "test condition 或[ condition ]  \n",
    "**使用方括号时，要注意在条件两边加上空格。** "
   ]
  },
  {
   "cell_type": "markdown",
   "id": "3d3fd31f",
   "metadata": {},
   "source": [
    "文件测试：测试文件状态的条件表达式  \n",
    "-e 是否存在   \n",
    "-d 是文件夹  \n",
    "-f 是文件  \n",
    "-r 可读  \n",
    "-w 可写  \n",
    "-x 可执行  \n",
    "-L 符号连接  \n",
    "-c 是否字符设备\n",
    "-s 文件非空  \n",
    "-b 是否块设备"
   ]
  },
  {
   "cell_type": "markdown",
   "id": "faad6a4f",
   "metadata": {},
   "source": [
    "`test -e str.sh` #str.sh是否存在"
   ]
  },
  {
   "cell_type": "markdown",
   "id": "4c4a3c09",
   "metadata": {},
   "source": [
    "### 字符串运算符"
   ]
  },
  {
   "cell_type": "markdown",
   "id": "ffec641a",
   "metadata": {},
   "source": [
    "= 两个字符串相等  \n",
    "!= 两个字符串不相等  \n",
    "-z 空串  \n",
    "-n 非空串"
   ]
  },
  {
   "cell_type": "markdown",
   "id": "895c6677",
   "metadata": {},
   "source": [
    "`str = 123`  \n",
    "`test -n $str`"
   ]
  },
  {
   "cell_type": "markdown",
   "id": "83b7e163",
   "metadata": {},
   "source": [
    "### 关系运算符"
   ]
  },
  {
   "cell_type": "markdown",
   "id": "f823d37b",
   "metadata": {},
   "source": [
    "-eq 数值相等  \n",
    "-ne 数值不相等  \n",
    "-gt 数一大于数二  \n",
    "-ge 数一大于等于数二  \n",
    "-le 数一小于等于数二  \n",
    "-lt 数一小于数二"
   ]
  },
  {
   "cell_type": "markdown",
   "id": "8c77820f",
   "metadata": {},
   "source": [
    "test num1 operator num2"
   ]
  },
  {
   "cell_type": "markdown",
   "id": "8d607efe",
   "metadata": {},
   "source": [
    "### 与或非"
   ]
  },
  {
   "cell_type": "markdown",
   "id": "1d94adc9",
   "metadata": {},
   "source": [
    "&& 与  \n",
    "|| 或  \n",
    "! 非"
   ]
  },
  {
   "cell_type": "markdown",
   "id": "72c7843d",
   "metadata": {},
   "source": [
    "## 数组"
   ]
  },
  {
   "cell_type": "markdown",
   "id": "bb9077f7",
   "metadata": {},
   "source": [
    "bash支持一维数组（不支持多维数组），并且没有限定数组的大小。类似与C语言，数组元素的下标由0开始编号。获取数组中的元素要利用下标，下标可以是整数或算术表达式，其值应大于或等于0。"
   ]
  },
  {
   "cell_type": "markdown",
   "id": "e995e332",
   "metadata": {},
   "source": [
    "### 定义数组"
   ]
  },
  {
   "cell_type": "markdown",
   "id": "5db8ef8c",
   "metadata": {},
   "source": [
    "在Shell中，用括号来表示数组，数组元素用“空格”符号分割开。定义数组的一般形式为："
   ]
  },
  {
   "cell_type": "markdown",
   "id": "951001bd",
   "metadata": {},
   "source": [
    "`array_name=(value0 value1 value2 value3)`"
   ]
  },
  {
   "cell_type": "markdown",
   "id": "b0a9973b",
   "metadata": {},
   "source": [
    "还可以单独定义数组的各个分量："
   ]
  },
  {
   "cell_type": "markdown",
   "id": "fa1c3b96",
   "metadata": {},
   "source": [
    "`array_name[0]=value0`  \n",
    "`array_name[1]=value1`  \n",
    "`array_name[2]=value2`  "
   ]
  },
  {
   "cell_type": "markdown",
   "id": "9731730c",
   "metadata": {},
   "source": [
    "可以不使用连续的下标，而且下标的范围没有限制。"
   ]
  },
  {
   "cell_type": "markdown",
   "id": "e134a909",
   "metadata": {},
   "source": [
    "### 读取数组"
   ]
  },
  {
   "cell_type": "markdown",
   "id": "7dff8bdc",
   "metadata": {},
   "source": [
    "读取数组元素值的一般格式是："
   ]
  },
  {
   "cell_type": "markdown",
   "id": "1f0691d1",
   "metadata": {},
   "source": [
    "`${array_name[index]}`"
   ]
  },
  {
   "cell_type": "markdown",
   "id": "e542de18",
   "metadata": {},
   "source": [
    "使用@ 或 * 可以获取数组中的所有元素，例如："
   ]
  },
  {
   "cell_type": "markdown",
   "id": "7bfa7ce7",
   "metadata": {},
   "source": [
    "`${array_name[*]}`  \n",
    "`${array_name[@]}`"
   ]
  },
  {
   "cell_type": "markdown",
   "id": "0ecb5c61",
   "metadata": {},
   "source": [
    "### 获取数组的长度"
   ]
  },
  {
   "cell_type": "markdown",
   "id": "a5e05626",
   "metadata": {},
   "source": [
    "获取数组长度的方法与获取字符串长度的方法相同，例如："
   ]
  },
  {
   "cell_type": "markdown",
   "id": "5280fed4",
   "metadata": {},
   "source": [
    "取得数组元素的个数  \n",
    "`length=${#array_name[@]}`  \n",
    "\n",
    "或者  \n",
    "`length=${#array_name[*]}`  \n",
    "\n",
    "取得数组单个元素的长度  \n",
    "`lengthn=${#array_name[n]}`"
   ]
  },
  {
   "cell_type": "markdown",
   "id": "f71cd3a7",
   "metadata": {},
   "source": [
    "## 控制语句"
   ]
  },
  {
   "cell_type": "markdown",
   "id": "5cad2810",
   "metadata": {},
   "source": [
    "### if控制语句"
   ]
  },
  {
   "cell_type": "raw",
   "id": "f0c06fee",
   "metadata": {},
   "source": [
    "格式一：  \n",
    "if [条件1]  \n",
    "then  \n",
    "  执行第一段程序  \n",
    "else  \n",
    "  执行第二段程序  \n",
    "fi"
   ]
  },
  {
   "cell_type": "raw",
   "id": "c469eb65",
   "metadata": {},
   "source": [
    "格式二：  \n",
    "if [条件1]   \n",
    "then  \n",
    "  执行第一段程序  \n",
    "elif [条件2]   \n",
    "then  \n",
    "执行第二段程序  \n",
    "else  \n",
    "  执行第三段程序  \n",
    "fi  "
   ]
  },
  {
   "cell_type": "markdown",
   "id": "30191381",
   "metadata": {},
   "source": [
    "### case 控制语句"
   ]
  },
  {
   "cell_type": "raw",
   "id": "2ba8ce9a",
   "metadata": {},
   "source": [
    "case $变量名称 in  \n",
    "    \"第一个变量内容\")  \n",
    "    程序段一  \n",
    "    ;;  \n",
    "    \"第二个变量内容\")  \n",
    "    程序段二  \n",
    "    ;;  \n",
    "    *)  \n",
    "    其他程序段  \n",
    "    exit 1  \n",
    "esac  "
   ]
  },
  {
   "cell_type": "markdown",
   "id": "8820d25d",
   "metadata": {},
   "source": [
    "### for循环语句"
   ]
  },
  {
   "cell_type": "raw",
   "id": "1d1633ce",
   "metadata": {},
   "source": [
    "格式一：\n",
    "for (( 初始值; 限制值; 执行步阶 ))\n",
    "    do\n",
    "        程序段\n",
    "    done"
   ]
  },
  {
   "cell_type": "markdown",
   "id": "8c7103f6",
   "metadata": {},
   "source": [
    "初始值：变量在循环中的起始值。  \n",
    "限制值：当变量值在这个限制范围内时，就继续循环。  \n",
    "执行步阶：每做一次循环时，变量的变化量。"
   ]
  },
  {
   "cell_type": "markdown",
   "id": "df422269",
   "metadata": {},
   "source": [
    "declare是bash的一个内建命令，可以用来声明shell变量、设置变量的属性。declare也可以写作typeset。  \n",
    "declare -i s 代表强制把s变量当作int型参数运算。"
   ]
  },
  {
   "cell_type": "raw",
   "id": "6cc108b9",
   "metadata": {},
   "source": [
    "格式二：  \n",
    "for var in con1 con2 con3 ...\n",
    "    do\n",
    "        程序段\n",
    "    done"
   ]
  },
  {
   "cell_type": "markdown",
   "id": "af09052c",
   "metadata": {},
   "source": [
    "第一次循环时，\\\\$var的内容为con1  \n",
    "第二次循环时，\\\\$var的内容为con2  \n",
    "第三次循环时，\\\\$var的内容为con3  \n",
    "......"
   ]
  },
  {
   "cell_type": "markdown",
   "id": "13aff5ff",
   "metadata": {},
   "source": [
    "### while控制语句"
   ]
  },
  {
   "cell_type": "raw",
   "id": "5f978bba",
   "metadata": {},
   "source": [
    "while [ condition ]\n",
    "    do\n",
    "        程序段\n",
    "    done"
   ]
  },
  {
   "cell_type": "markdown",
   "id": "88dce140",
   "metadata": {},
   "source": [
    "当condition成立时进入while循环，直到condition不成立才退出循环。"
   ]
  },
  {
   "cell_type": "markdown",
   "id": "fe27dfd1",
   "metadata": {},
   "source": [
    "### until控制语句"
   ]
  },
  {
   "cell_type": "raw",
   "id": "fb3be8da",
   "metadata": {},
   "source": [
    "until [ condition ]\n",
    "    do\n",
    "        程序段\n",
    "    done"
   ]
  },
  {
   "cell_type": "markdown",
   "id": "ad41b80a",
   "metadata": {},
   "source": [
    "这种方式与while恰恰相反，当condition成立时退出循环，否则继续循环。"
   ]
  },
  {
   "cell_type": "markdown",
   "id": "92fa2992",
   "metadata": {},
   "source": [
    "### break、continue"
   ]
  },
  {
   "cell_type": "markdown",
   "id": "f60ee52e",
   "metadata": {},
   "source": [
    "**break**  \n",
    "break命令允许跳出循环。  \n",
    "break通常在进行一些处理后退出循环或case语句。  \n",
    "**continue**  \n",
    "continue命令类似于break命令。  \n",
    "它不会跳出循环，只是跳过这个循环步。"
   ]
  },
  {
   "cell_type": "markdown",
   "id": "88b83ba9",
   "metadata": {},
   "source": [
    "在嵌套循环中，break 命令后面还可以跟一个整数，表示跳出第几层循环。例如：  \n",
    "`break n`  \n",
    "表示跳出第 n 层循环。  \n",
    "同样，continue 后面也可以跟一个数字，表示跳出第几层循环。"
   ]
  },
  {
   "cell_type": "markdown",
   "id": "759716da",
   "metadata": {},
   "source": [
    "### 函数"
   ]
  },
  {
   "cell_type": "markdown",
   "id": "410db3e2",
   "metadata": {},
   "source": [
    "所有函数在使用前必须定义，必须将函数放在脚本开始部分，直至shell解释器首次发现它时，才可以使用。"
   ]
  },
  {
   "cell_type": "raw",
   "id": "f4aa5460",
   "metadata": {},
   "source": [
    "格式一：  \n",
    "函数名(){\n",
    "    命令\n",
    "}"
   ]
  },
  {
   "cell_type": "raw",
   "id": "1aeabefb",
   "metadata": {},
   "source": [
    "格式二：  \n",
    "function 函数名(){\n",
    "    命令\n",
    "}"
   ]
  },
  {
   "cell_type": "markdown",
   "id": "b446aa5b",
   "metadata": {},
   "source": [
    "调用函数的格式为：  \n",
    "`函数名 param1 param2 ......`"
   ]
  },
  {
   "cell_type": "markdown",
   "id": "a5acc016",
   "metadata": {},
   "source": [
    "函数可以使用return提前结束并带回返回值  \n",
    "`return` 从函数中返回，用最后的状态命令决定返回值。  \n",
    "`return 0` 无错误返回  \n",
    "`return 1` 有错误返回"
   ]
  },
  {
   "cell_type": "markdown",
   "id": "e7ef0458",
   "metadata": {},
   "source": [
    "在Shell中，调用函数时可以向其传递参数。在函数体内部，通过 \\\\$n 的形式来获取参数的值，例如，\\\\$1表示第一个参数，\\\\$2表示第二个参数…  \n",
    "注意，10不能获取第十个参数，获取第十个参数需要10不能获取第十个参数，获取第十个参数需要10不能获取第十个参数，获取第十个参数需要{10}。当n>=10时，需要使用\\\\${n}来获取参数。"
   ]
  },
  {
   "cell_type": "markdown",
   "id": "f2c0d2e7",
   "metadata": {},
   "source": [
    "## 输出重定向"
   ]
  },
  {
   "cell_type": "markdown",
   "id": "dbf6cd80",
   "metadata": {},
   "source": [
    "命令的输出不仅可以是显示器，还可以很容易的转移向到文件，这被称为输出重定向。"
   ]
  },
  {
   "cell_type": "markdown",
   "id": "687f23c1",
   "metadata": {},
   "source": [
    "命令输出重定向的语法为：  \n",
    "`命令 > 文件`  \n",
    "这样，输出到显示器的内容就可以被重定向到文件。"
   ]
  },
  {
   "cell_type": "markdown",
   "id": "b3f4e32d",
   "metadata": {},
   "source": [
    "例如：`who > users`"
   ]
  },
  {
   "cell_type": "markdown",
   "id": "b797078c",
   "metadata": {},
   "source": [
    "输出重定向会覆盖文件内容。"
   ]
  },
  {
   "cell_type": "markdown",
   "id": "a3d2a855",
   "metadata": {},
   "source": [
    "如果不希望文件内容被覆盖，可以使用 >> 追加到文件末尾。"
   ]
  },
  {
   "cell_type": "markdown",
   "id": "8f45a66b",
   "metadata": {},
   "source": [
    "例如：`who >> users`"
   ]
  },
  {
   "cell_type": "markdown",
   "id": "d6015772",
   "metadata": {},
   "source": [
    "## 输入重定向"
   ]
  },
  {
   "cell_type": "markdown",
   "id": "595b27ba",
   "metadata": {},
   "source": [
    "和输出重定向一样，Linux 命令也可以从文件获取输入，语法为："
   ]
  },
  {
   "cell_type": "markdown",
   "id": "1e07bc8f",
   "metadata": {},
   "source": [
    "`命令 < 文件`  "
   ]
  },
  {
   "cell_type": "markdown",
   "id": "9bcf4db8",
   "metadata": {},
   "source": [
    "这样，本来需要从键盘获取输入的命令会转移到文件读取内容。"
   ]
  },
  {
   "cell_type": "markdown",
   "id": "98e07ba5",
   "metadata": {},
   "source": [
    "## shell文件包含"
   ]
  },
  {
   "cell_type": "markdown",
   "id": "e55bfb55",
   "metadata": {},
   "source": [
    "像其他语言一样，Shell 也可以包含外部脚本，将外部脚本的内容合并到当前脚本。  \n",
    "Shell 中包含脚本可以使用："
   ]
  },
  {
   "cell_type": "markdown",
   "id": "9ead9876",
   "metadata": {},
   "source": [
    "`. filename`  \n",
    "或  \n",
    "`source filename`  "
   ]
  },
  {
   "cell_type": "code",
   "execution_count": null,
   "id": "cfdfcfae",
   "metadata": {},
   "outputs": [],
   "source": []
  }
 ],
 "metadata": {
  "kernelspec": {
   "display_name": "Python 3 (ipykernel)",
   "language": "python",
   "name": "python3"
  },
  "language_info": {
   "codemirror_mode": {
    "name": "ipython",
    "version": 3
   },
   "file_extension": ".py",
   "mimetype": "text/x-python",
   "name": "python",
   "nbconvert_exporter": "python",
   "pygments_lexer": "ipython3",
   "version": "3.9.7"
  },
  "nbTranslate": {
   "displayLangs": [
    "*"
   ],
   "hotkey": "alt-t",
   "langInMainMenu": true,
   "sourceLang": "en",
   "targetLang": "fr",
   "useGoogleTranslate": true
  },
  "toc": {
   "base_numbering": 1,
   "nav_menu": {},
   "number_sections": true,
   "sideBar": true,
   "skip_h1_title": false,
   "title_cell": "Table of Contents",
   "title_sidebar": "Contents",
   "toc_cell": false,
   "toc_position": {
    "height": "calc(100% - 180px)",
    "left": "10px",
    "top": "150px",
    "width": "198.425px"
   },
   "toc_section_display": true,
   "toc_window_display": true
  }
 },
 "nbformat": 4,
 "nbformat_minor": 5
}
