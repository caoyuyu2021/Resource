{
 "cells": [
  {
   "cell_type": "markdown",
   "id": "07058ddb",
   "metadata": {},
   "source": [
    "# linux编译"
   ]
  },
  {
   "cell_type": "markdown",
   "id": "ead601d9",
   "metadata": {},
   "source": [
    "在linux系统运行程序，有**3种编译方式**，一种是直接命令行编译(gcc)，一种是使用Cmake，一种是使用脚本文件(*.sh)。"
   ]
  },
  {
   "cell_type": "markdown",
   "id": "6fcbfb9f",
   "metadata": {},
   "source": [
    "gcc编译c/c++过程见C和C++学习资料。"
   ]
  },
  {
   "cell_type": "markdown",
   "id": "34ade3a5",
   "metadata": {},
   "source": [
    "# make"
   ]
  },
  {
   "cell_type": "markdown",
   "id": "794f1217",
   "metadata": {},
   "source": [
    "## make工具"
   ]
  },
  {
   "cell_type": "markdown",
   "id": "db6f8f50",
   "metadata": {},
   "source": [
    "人们通常利用 make 工具来自动完成编译工作。  \n",
    "这些工作包括：如果仅修改了某几个源文件，则只重新编译这几个源文件。  \n",
    "如果某个头文件被修改了，则重新编译所有包含该头文件的源文件。  \n",
    "利用这种自动编译可大大简化开发工作，避免不必要的重新编译。"
   ]
  },
  {
   "cell_type": "markdown",
   "id": "4e8411c0",
   "metadata": {},
   "source": [
    "## Makefile"
   ]
  },
  {
   "cell_type": "markdown",
   "id": "f9e0c8cd",
   "metadata": {},
   "source": [
    "make 工具通过一个称为 makefile 的文件来完成并自动维护编译工作。\n",
    "\n",
    "makefile 需要按照某种语法进行编写，其中说明了如何编译各个源文件并连接生成可执行文件，并定义了源文件之间的依赖关系。\n",
    "\n",
    "当修改了其中某个源文件时，如果其他源文件依赖于该文件，则也要重新编译所有依赖该文件的源文件 。"
   ]
  },
  {
   "cell_type": "markdown",
   "id": "9e56ffc1",
   "metadata": {},
   "source": [
    "make 命令所使用的编译配置文件可以是 Makefile，makefile 或 GUNMake。"
   ]
  },
  {
   "cell_type": "markdown",
   "id": "55e205ad",
   "metadata": {},
   "source": [
    "其中定义任务的基本语法为："
   ]
  },
  {
   "cell_type": "raw",
   "id": "3fe3a18f",
   "metadata": {},
   "source": [
    "target1 [target2 ...]: [pre-req-1 pre-req-2 ...]\n",
    "\t[command1\n",
    "\t command2\n",
    "\t ......]"
   ]
  },
  {
   "cell_type": "markdown",
   "id": "e3f89de0",
   "metadata": {},
   "source": [
    "上面形式也可称作是一条编译规则（rule）。\n",
    "\n",
    "其中，  \n",
    "-  target 为任务名或文件产出。如果该任务不产出文件，则称该任务为 Phony Targets。make 内置的 phony target 有 all, install 及 clean 等，这些任务都不实际产出文件，一般用来执行一些命令。\n",
    "-  pre-req123... 这些是依赖项，即该任务所需要的外部输入，这些输入可以是其他文件，也可以是其他任务产出的文件。\n",
    "-  command 为该任务具体需要执行的 shell 命令。"
   ]
  },
  {
   "cell_type": "markdown",
   "id": "5ccd9988",
   "metadata": {},
   "source": [
    "### Makefile 示例"
   ]
  },
  {
   "cell_type": "markdown",
   "id": "8039a167",
   "metadata": {},
   "source": [
    "考察下面的示例代码：\n",
    "\n",
    "main.c"
   ]
  },
  {
   "cell_type": "raw",
   "id": "7c688d15",
   "metadata": {},
   "source": [
    "#include <stdio.h>\n",
    "int main(){\n",
    "printf(\"hello world!\");\n",
    "return 0;\n",
    "}"
   ]
  },
  {
   "cell_type": "markdown",
   "id": "0af3ee0f",
   "metadata": {},
   "source": [
    "正常情况下，通过 gcc 在命令行将其编译后产出相应文件，可执行文件或 object 文件等。"
   ]
  },
  {
   "cell_type": "raw",
   "id": "820f6efd",
   "metadata": {},
   "source": [
    "gcc -o main.out main.c"
   ]
  },
  {
   "cell_type": "markdown",
   "id": "3833ec40",
   "metadata": {},
   "source": [
    "上面命令编译后运行 main.out 可执行文件。"
   ]
  },
  {
   "cell_type": "raw",
   "id": "f88daacc",
   "metadata": {},
   "source": [
    "./main.out"
   ]
  },
  {
   "cell_type": "markdown",
   "id": "ecb4ae51",
   "metadata": {},
   "source": [
    "以上的编译，可通过编写下面的 Makefile 来完成："
   ]
  },
  {
   "cell_type": "raw",
   "id": "9ee1398b",
   "metadata": {},
   "source": [
    "all:main.out\n",
    "main.out: main.c\n",
    "gcc -o main.out main.c\n",
    "\n",
    "clean:\n",
    "rm main.out"
   ]
  },
  {
   "cell_type": "markdown",
   "id": "03f51b83",
   "metadata": {},
   "source": [
    "上面的 Makefile 中定义了三个任务，调用时可通过 `make <target name> `形式来调用。"
   ]
  },
  {
   "cell_type": "raw",
   "id": "8c89db7f",
   "metadata": {},
   "source": [
    "make main.out"
   ]
  },
  {
   "cell_type": "markdown",
   "id": "70f4cf53",
   "metadata": {},
   "source": [
    "产出 main.out 文件。\n",
    "\n",
    "再比如："
   ]
  },
  {
   "cell_type": "raw",
   "id": "6b8d3ba2",
   "metadata": {},
   "source": [
    "make clean"
   ]
  },
  {
   "cell_type": "markdown",
   "id": "04ce94f0",
   "metadata": {},
   "source": [
    "该 clean 任务清除刚刚生成的 main.out 文件。\n",
    "\n",
    "三个任务中，all 为内置的任务名，一般一个 Makefile 中都会包含，当直接调用 make 后面没有跟任务名时，默认执行的就是 all。"
   ]
  },
  {
   "cell_type": "raw",
   "id": "023e08a5",
   "metadata": {},
   "source": [
    "make"
   ]
  },
  {
   "cell_type": "markdown",
   "id": "7550c035",
   "metadata": {},
   "source": [
    "前面调用 all 的效果等同于调用 main.out 任务，因为 all 的输入依赖为 main.out 文件。Make 在执行任务前会先检查其输入的依赖项，执行 all 时发现它依赖 main.out 文件，于是本地查找，发现本地没有，再从 Makefile 中查找看是否有相应任务会产生该文件，结果确实有相应任务能产生该文件，所以先执行能够产生依赖项的任务。"
   ]
  },
  {
   "cell_type": "markdown",
   "id": "e183cd92",
   "metadata": {},
   "source": [
    "# CMake"
   ]
  },
  {
   "cell_type": "markdown",
   "id": "1d773e41",
   "metadata": {},
   "source": [
    "## CMake编译原理"
   ]
  },
  {
   "cell_type": "markdown",
   "id": "32749bb0",
   "metadata": {},
   "source": [
    "CMake是一种跨平台编译工具，比make更为高级，使用起来要方便得多。CMake主要是编写CMakeLists.txt文件，然后用cmake命令将CMakeLists.txt文件转化为make所需要的makefile文件，最后用make命令编译源码生成可执行程序或共享库（so(shared object)）。因此CMake的编译基本就两个步骤："
   ]
  },
  {
   "cell_type": "raw",
   "id": "a4e52a17",
   "metadata": {},
   "source": [
    "cmake\n",
    "make"
   ]
  },
  {
   "cell_type": "markdown",
   "id": "f367afb6",
   "metadata": {},
   "source": [
    "cmake 指向CMakeLists.txt所在的目录，例如cmake .. /表示CMakeLists.txt在当前目录的上一级目录。cmake后会生成很多编译的中间文件以及makefile文件，所以一般建议新建一个新的目录，专门用来编译，例如："
   ]
  },
  {
   "cell_type": "raw",
   "id": "2b499d8e",
   "metadata": {},
   "source": [
    "mkdir build\n",
    "cd build\n",
    "cmake ../\n",
    "make"
   ]
  },
  {
   "cell_type": "markdown",
   "id": "31c6a81e",
   "metadata": {},
   "source": [
    "make根据生成makefile文件，编译程序。"
   ]
  },
  {
   "cell_type": "markdown",
   "id": "e84330be",
   "metadata": {},
   "source": [
    "## CMakeLists.txt文件编写"
   ]
  },
  {
   "cell_type": "raw",
   "id": "df14dc68",
   "metadata": {},
   "source": [
    "#表示注释   \n",
    "#cmake file for project association\n",
    " \n",
    "#cmake 最低版本要求，低于2.8 构建过程会被终止。   \n",
    "CMAKE_MINIMUM_REQUIRED(VERSION 2.8)\n",
    " \n",
    "#定义工程名称\n",
    "PROJECT(association)\n",
    "                     \n",
    "#打印相关消息消息   \n",
    "#MESSAGE(STATUS \"Project: ${PROJECT_NAME}\")\n",
    "#MESSAGE(STATUS \"Project Directory: ${PROJECT_SOURCE_DIR}\")  \n",
    " \n",
    "#指定编译类型debug版\n",
    "SET(CMAKE_BUILE_TYPE DEBUG)\n",
    "#发行版\n",
    "#SET(CMAKE_BUILE_TYPE RELEASE)\n",
    " \n",
    "#SET(CMAKE_C_FLAGS_DEBUG \"-g -Wall\")             #C\n",
    "#SET(CMAKE_CXX_FLAGS_DEBUG \"-g -Wall\")           #C++\n",
    " \n",
    "#设置C++ 编译\n",
    "SET(CMAKE_CXX_FLAGS \"${CMAKE_CXX_FLAGS} -std=c++11 -s -Wall -W -O3\")   \n",
    " \n",
    "#添加子目录   \n",
    "ADD_SUBDIRECTORY(src/include)\n",
    " \n",
    "#设置变量，表示所有的源文件  \n",
    "SET(SOURCE_FILES\n",
    "    src/main.cpp    \n",
    "    )\n",
    " \n",
    " \n",
    "#配置相关库文件的目录，  \n",
    "LINK_DIRECTORIES(                                  \n",
    "    /usr/local/lib\n",
    "    )  \n",
    " \n",
    "#找BZip2\n",
    "FIND_PACKAGE(BZip2)\n",
    "if (BZIP2_FOUND)\n",
    "    MESSAGE(STATUS \"${BZIP_INCLUDE_DIRS}\")  \n",
    "    MESSAGE(STATUS \" ${BZIP2_LIBRARIES}\")  \n",
    "endif (BZIP2_FOUND)\n",
    "if (NOT BZIP2_FOUND)\n",
    "    MESSAGE(STATUS \"NOT  BZIP2_FOUND\")  \n",
    "endif (NOT  BZIP2_FOUND)\n",
    " \n",
    " \n",
    "#相关头文件的目录\n",
    "INCLUDE_DIRECTORIES(  \n",
    "     /usr/local/include  \n",
    "     ${PROJECT_SOURCE_DIR}/utility_inc\n",
    "     ${BZIP_INCLUDE_DIRS}\n",
    "    )\n",
    " \n",
    "#链接库\n",
    "LINK_LIBRARIES(\n",
    "    ${PROJECT_SOURCE_DIR}/static_libs/libSentinelKeys64.a\n",
    "    ${BZIP2_LIBRARIES}\n",
    "    )\n",
    " \n",
    "#生成可执行文件\n",
    "ADD_EXECUTABLE(${PROJECT_NAME} ${SOURCE_FILES})\n",
    " \n",
    "#依赖的库文件  \n",
    "TARGET_LINK_LIBRARIES(${PROJECT_NAME} eventloop)"
   ]
  },
  {
   "cell_type": "markdown",
   "id": "f2b79b99",
   "metadata": {},
   "source": [
    "## 子目录CMakeLists.txt文件编写"
   ]
  },
  {
   "cell_type": "raw",
   "id": "7fee704a",
   "metadata": {},
   "source": [
    "SET(EVENTLOOP_SOURCE_FILES\n",
    "        tool/BlockingQueue.hpp\n",
    "        tool/Copyable.h\n",
    "        tool/ExecuteState.h\n",
    "        tool/Likely.h\n",
    "        EventLoop.h\n",
    "        EventLoop.cpp\n",
    "        )\n",
    "#生成静态链接库eventloop \n",
    "ADD_LIBRARY(eventloop ${EVENTLOOP_SOURCE_FILES})"
   ]
  },
  {
   "cell_type": "code",
   "execution_count": null,
   "id": "00b07349",
   "metadata": {},
   "outputs": [],
   "source": []
  }
 ],
 "metadata": {
  "kernelspec": {
   "display_name": "Python 3 (ipykernel)",
   "language": "python",
   "name": "python3"
  },
  "language_info": {
   "codemirror_mode": {
    "name": "ipython",
    "version": 3
   },
   "file_extension": ".py",
   "mimetype": "text/x-python",
   "name": "python",
   "nbconvert_exporter": "python",
   "pygments_lexer": "ipython3",
   "version": "3.9.7"
  },
  "nbTranslate": {
   "displayLangs": [
    "*"
   ],
   "hotkey": "alt-t",
   "langInMainMenu": true,
   "sourceLang": "en",
   "targetLang": "fr",
   "useGoogleTranslate": true
  },
  "toc": {
   "base_numbering": 1,
   "nav_menu": {},
   "number_sections": true,
   "sideBar": true,
   "skip_h1_title": false,
   "title_cell": "Table of Contents",
   "title_sidebar": "Contents",
   "toc_cell": false,
   "toc_position": {},
   "toc_section_display": true,
   "toc_window_display": true
  }
 },
 "nbformat": 4,
 "nbformat_minor": 5
}
