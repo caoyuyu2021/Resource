{
 "cells": [
  {
   "cell_type": "markdown",
   "id": "14b6654f-ec80-447c-bc58-16eeae34e16f",
   "metadata": {},
   "source": [
    "# duckdb读数"
   ]
  },
  {
   "cell_type": "code",
   "execution_count": 1,
   "id": "303d943f",
   "metadata": {
    "ExecuteTime": {
     "end_time": "2024-01-23T09:55:22.743374Z",
     "start_time": "2024-01-23T09:55:17.894209Z"
    }
   },
   "outputs": [],
   "source": [
    "import pandas as pd\n",
    "import duckdb"
   ]
  },
  {
   "cell_type": "markdown",
   "id": "1172ba70",
   "metadata": {},
   "source": [
    "duckdb可以读取的文件格式：CSV Files、Parquet Files、HTTP(S), S3 and GCP、JSON Files、Excel Files with the Spatial Extension、Querying Other Database Systems"
   ]
  },
  {
   "cell_type": "code",
   "execution_count": 2,
   "id": "355fe478",
   "metadata": {
    "ExecuteTime": {
     "end_time": "2024-01-23T09:55:40.259342Z",
     "start_time": "2024-01-23T09:55:40.213177Z"
    },
    "scrolled": true
   },
   "outputs": [],
   "source": [
    "path = \"../data/AirPassengers.csv\"  # 可以读取其他格式的数据\n",
    "query = f\"\"\"\n",
    "SELECT DISTINCT Month FROM \\'{path}\\'\n",
    "ORDER BY Month\n",
    "LIMIT 10\n",
    "\"\"\"\n",
    "result = duckdb.sql(query).df()  # 读取数据并转为Dataframe"
   ]
  },
  {
   "cell_type": "code",
   "execution_count": null,
   "id": "4d6d373f",
   "metadata": {
    "ExecuteTime": {
     "end_time": "2024-01-23T09:55:49.198932Z",
     "start_time": "2024-01-23T09:55:49.198932Z"
    }
   },
   "outputs": [],
   "source": [
    "result.to_parquet(\"../data/AirPassengers.parquet\")"
   ]
  },
  {
   "cell_type": "markdown",
   "id": "e6617c29-ad14-4889-8c51-070da5017cf9",
   "metadata": {},
   "source": [
    "# matlab读数"
   ]
  },
  {
   "cell_type": "code",
   "execution_count": 2,
   "id": "7f044155-ce7f-4651-add6-7ce412c6881f",
   "metadata": {
    "execution": {
     "iopub.execute_input": "2024-04-26T06:54:21.436878Z",
     "iopub.status.busy": "2024-04-26T06:54:21.436204Z",
     "iopub.status.idle": "2024-04-26T06:54:21.463611Z",
     "shell.execute_reply": "2024-04-26T06:54:21.462280Z",
     "shell.execute_reply.started": "2024-04-26T06:54:21.436878Z"
    }
   },
   "outputs": [],
   "source": [
    "import scipy.io as scio \n",
    "path = \"../data/data2.mat\"\n",
    "data = scio.loadmat(path)"
   ]
  },
  {
   "cell_type": "code",
   "execution_count": 3,
   "id": "a723dfe8-32a7-4b69-9cfd-d508b3c4b28b",
   "metadata": {
    "execution": {
     "iopub.execute_input": "2024-04-26T06:54:37.435984Z",
     "iopub.status.busy": "2024-04-26T06:54:37.435984Z",
     "iopub.status.idle": "2024-04-26T06:54:37.458868Z",
     "shell.execute_reply": "2024-04-26T06:54:37.457990Z",
     "shell.execute_reply.started": "2024-04-26T06:54:37.435984Z"
    }
   },
   "outputs": [
    {
     "data": {
      "text/plain": [
       "{'__header__': b'MATLAB 5.0 MAT-file, Platform: PCWIN, Created on: Sun Oct 25 16:29:54 2009',\n",
       " '__version__': '1.0',\n",
       " '__globals__': [],\n",
       " 'data': array([[0.1291, 0.4842, 0.7976],\n",
       "        [0.1084, 0.4579, 0.8187],\n",
       "        [0.1828, 0.7977, 0.743 ],\n",
       "        [0.122 , 0.5468, 0.8048],\n",
       "        [0.113 , 0.3636, 0.814 ],\n",
       "        [0.1719, 0.6011, 0.754 ],\n",
       "        [0.1237, 0.4425, 0.8031],\n",
       "        [0.1721, 0.6152, 0.7626],\n",
       "        [0.1432, 0.5845, 0.7942]])}"
      ]
     },
     "execution_count": 3,
     "metadata": {},
     "output_type": "execute_result"
    }
   ],
   "source": [
    "data"
   ]
  },
  {
   "cell_type": "markdown",
   "id": "2c8a234c-609c-4436-9e0f-9e0768bcb9aa",
   "metadata": {},
   "source": [
    "# parquet读数"
   ]
  },
  {
   "cell_type": "code",
   "execution_count": 4,
   "id": "9d40894e-ec16-43f9-8b4b-481c6a81e36f",
   "metadata": {
    "execution": {
     "iopub.execute_input": "2024-04-26T06:55:41.223736Z",
     "iopub.status.busy": "2024-04-26T06:55:41.220729Z",
     "iopub.status.idle": "2024-04-26T06:55:42.078353Z",
     "shell.execute_reply": "2024-04-26T06:55:42.077367Z",
     "shell.execute_reply.started": "2024-04-26T06:55:41.223736Z"
    }
   },
   "outputs": [],
   "source": [
    "import pandas as pd\n",
    "\n",
    "df = pd.read_parquet('../data/AirPassengers.parquet')"
   ]
  },
  {
   "cell_type": "code",
   "execution_count": 5,
   "id": "94810aef-e836-4f53-91e8-28b29dd53c55",
   "metadata": {
    "execution": {
     "iopub.execute_input": "2024-04-26T06:55:51.948029Z",
     "iopub.status.busy": "2024-04-26T06:55:51.945047Z",
     "iopub.status.idle": "2024-04-26T06:55:51.981580Z",
     "shell.execute_reply": "2024-04-26T06:55:51.980614Z",
     "shell.execute_reply.started": "2024-04-26T06:55:51.948029Z"
    }
   },
   "outputs": [],
   "source": [
    "import pyarrow.parquet as parquet\n",
    "\n",
    "table = parquet.read_table('../data/AirPassengers.parquet')\n",
    "df = table.to_pandas()"
   ]
  },
  {
   "cell_type": "code",
   "execution_count": 8,
   "id": "92412d66-8e36-4207-bd9f-7553d5a8266f",
   "metadata": {
    "execution": {
     "iopub.execute_input": "2024-04-26T06:56:33.404422Z",
     "iopub.status.busy": "2024-04-26T06:56:33.403879Z",
     "iopub.status.idle": "2024-04-26T06:56:33.419523Z",
     "shell.execute_reply": "2024-04-26T06:56:33.418628Z",
     "shell.execute_reply.started": "2024-04-26T06:56:33.404422Z"
    }
   },
   "outputs": [],
   "source": [
    "import pandas as pd\n",
    "# 读取部分列\n",
    "df = pd.read_parquet('../data/AirPassengers.parquet', columns=['Month'])"
   ]
  },
  {
   "cell_type": "code",
   "execution_count": 9,
   "id": "960f33ee-0ebe-4d8a-ac90-ada246868764",
   "metadata": {
    "execution": {
     "iopub.execute_input": "2024-04-26T06:56:34.069599Z",
     "iopub.status.busy": "2024-04-26T06:56:34.068601Z",
     "iopub.status.idle": "2024-04-26T06:56:34.102868Z",
     "shell.execute_reply": "2024-04-26T06:56:34.101036Z",
     "shell.execute_reply.started": "2024-04-26T06:56:34.069599Z"
    }
   },
   "outputs": [],
   "source": [
    "import pyarrow.parquet as parquet\n",
    "# 读取部分列\n",
    "table = parquet.read_table('../data/AirPassengers.parquet', columns=['Month'])\n",
    "df = table.to_pandas()"
   ]
  },
  {
   "cell_type": "code",
   "execution_count": null,
   "id": "1f96f935-2696-41ab-9aef-2e917e32c50e",
   "metadata": {},
   "outputs": [],
   "source": []
  }
 ],
 "metadata": {
  "hide_input": false,
  "kernelspec": {
   "display_name": "Python 3 (ipykernel)",
   "language": "python",
   "name": "python3"
  },
  "language_info": {
   "codemirror_mode": {
    "name": "ipython",
    "version": 3
   },
   "file_extension": ".py",
   "mimetype": "text/x-python",
   "name": "python",
   "nbconvert_exporter": "python",
   "pygments_lexer": "ipython3",
   "version": "3.9.18"
  },
  "toc": {
   "base_numbering": 1,
   "nav_menu": {},
   "number_sections": true,
   "sideBar": true,
   "skip_h1_title": false,
   "title_cell": "Table of Contents",
   "title_sidebar": "Contents",
   "toc_cell": false,
   "toc_position": {},
   "toc_section_display": true,
   "toc_window_display": false
  },
  "varInspector": {
   "cols": {
    "lenName": 16,
    "lenType": 16,
    "lenVar": 40
   },
   "kernels_config": {
    "python": {
     "delete_cmd_postfix": "",
     "delete_cmd_prefix": "del ",
     "library": "var_list.py",
     "varRefreshCmd": "print(var_dic_list())"
    },
    "r": {
     "delete_cmd_postfix": ") ",
     "delete_cmd_prefix": "rm(",
     "library": "var_list.r",
     "varRefreshCmd": "cat(var_dic_list()) "
    }
   },
   "types_to_exclude": [
    "module",
    "function",
    "builtin_function_or_method",
    "instance",
    "_Feature"
   ],
   "window_display": false
  }
 },
 "nbformat": 4,
 "nbformat_minor": 5
}
