{
 "cells": [
  {
   "cell_type": "markdown",
   "id": "8e1db9a1-1462-4562-af66-840ac7fe9df3",
   "metadata": {},
   "source": [
    "# sklearn"
   ]
  },
  {
   "cell_type": "markdown",
   "id": "69fe8034-380f-4e00-b98d-12a7fdcc9c8e",
   "metadata": {},
   "source": [
    "## train_test_split"
   ]
  },
  {
   "cell_type": "markdown",
   "id": "34fab1bf-3b41-4e88-a245-0719e34ba9fe",
   "metadata": {},
   "source": [
    "### 随机划分"
   ]
  },
  {
   "cell_type": "code",
   "execution_count": 1,
   "id": "7f2f38ce-5e0a-4acc-bb30-ab05f191c9f2",
   "metadata": {
    "execution": {
     "iopub.execute_input": "2024-12-19T03:15:57.679024Z",
     "iopub.status.busy": "2024-12-19T03:15:57.679024Z",
     "iopub.status.idle": "2024-12-19T03:16:03.968545Z",
     "shell.execute_reply": "2024-12-19T03:16:03.967373Z",
     "shell.execute_reply.started": "2024-12-19T03:15:57.679024Z"
    }
   },
   "outputs": [
    {
     "name": "stdout",
     "output_type": "stream",
     "text": [
      "训练集: [[7, 8], [1, 2], [5, 6]] [1, 0, 0]\n",
      "测试集: [[3, 4]] [1]\n"
     ]
    }
   ],
   "source": [
    "from sklearn.model_selection import train_test_split\n",
    "\n",
    "# 示例数据\n",
    "X = [[1, 2], [3, 4], [5, 6], [7, 8]]\n",
    "y = [0, 1, 0, 1]\n",
    "\n",
    "# 按8:2划分训练集和测试集\n",
    "X_train, X_test, y_train, y_test = train_test_split(X, y, test_size=0.2, random_state=42)\n",
    "\n",
    "print(\"训练集:\", X_train, y_train)\n",
    "print(\"测试集:\", X_test, y_test)"
   ]
  },
  {
   "cell_type": "markdown",
   "id": "d295bf1c-a033-4e9a-834b-e22de95e46d1",
   "metadata": {},
   "source": [
    "### 分层划分"
   ]
  },
  {
   "cell_type": "code",
   "execution_count": 2,
   "id": "45fe080b-51df-4407-b335-fce190f6b5a5",
   "metadata": {
    "execution": {
     "iopub.execute_input": "2024-12-19T03:16:45.975183Z",
     "iopub.status.busy": "2024-12-19T03:16:45.973154Z",
     "iopub.status.idle": "2024-12-19T03:16:46.014172Z",
     "shell.execute_reply": "2024-12-19T03:16:46.012213Z",
     "shell.execute_reply.started": "2024-12-19T03:16:45.975183Z"
    }
   },
   "outputs": [
    {
     "name": "stdout",
     "output_type": "stream",
     "text": [
      "训练集: [[3, 4], [11, 12], [1, 2], [7, 8]] [0, 1, 0, 1]\n",
      "测试集: [[5, 6], [9, 10]] [1, 0]\n"
     ]
    }
   ],
   "source": [
    "from sklearn.model_selection import train_test_split\n",
    "\n",
    "# 示例数据\n",
    "X = [[1, 2], [3, 4], [5, 6], [7, 8], [9, 10], [11, 12]]\n",
    "y = [0, 0, 1, 1, 0, 1]  # 标签分布不均\n",
    "\n",
    "# 按标签分层划分\n",
    "X_train, X_test, y_train, y_test = train_test_split(\n",
    "    X, y, test_size=0.33, random_state=42, stratify=y\n",
    ")\n",
    "\n",
    "print(\"训练集:\", X_train, y_train)\n",
    "print(\"测试集:\", X_test, y_test)"
   ]
  },
  {
   "cell_type": "markdown",
   "id": "bdfd3cbe-33f4-4a7d-8ef0-aa4717291fd1",
   "metadata": {},
   "source": [
    "### 多数据集划分"
   ]
  },
  {
   "cell_type": "code",
   "execution_count": 4,
   "id": "ad70ec81-526f-4b9c-a6d0-e088df4d32b7",
   "metadata": {
    "execution": {
     "iopub.execute_input": "2024-12-19T03:19:03.873110Z",
     "iopub.status.busy": "2024-12-19T03:19:03.873110Z",
     "iopub.status.idle": "2024-12-19T03:19:03.895473Z",
     "shell.execute_reply": "2024-12-19T03:19:03.893608Z",
     "shell.execute_reply.started": "2024-12-19T03:19:03.873110Z"
    }
   },
   "outputs": [
    {
     "name": "stdout",
     "output_type": "stream",
     "text": [
      "X1_train: [[1, 2], [5, 6]]\n",
      "X2_train: [[9, 10], [13, 14]]\n",
      "y_train: [0, 0]\n"
     ]
    }
   ],
   "source": [
    "from sklearn.model_selection import train_test_split\n",
    "\n",
    "# 示例数据\n",
    "X1 = [[1, 2], [3, 4], [5, 6], [7, 8]]\n",
    "X2 = [[9, 10], [11, 12], [13, 14], [15, 16]]\n",
    "y = [0, 1, 0, 1]\n",
    "\n",
    "# 同步划分多个数据集\n",
    "X1_train, X1_test, X2_train, X2_test, y_train, y_test = train_test_split(\n",
    "    X1, X2, y, test_size=0.5, random_state=42\n",
    ")\n",
    "\n",
    "print(\"X1_train:\", X1_train)\n",
    "print(\"X2_train:\", X2_train)\n",
    "print(\"y_train:\", y_train)"
   ]
  },
  {
   "cell_type": "markdown",
   "id": "6cdf571f-8e77-41c6-8aca-8cb6801156dc",
   "metadata": {},
   "source": [
    "# torch"
   ]
  },
  {
   "cell_type": "markdown",
   "id": "29471241-d704-47f4-82a4-fbaa522f6d7e",
   "metadata": {},
   "source": [
    "## random_split"
   ]
  },
  {
   "cell_type": "markdown",
   "id": "7ceaf83b-6730-44ca-80ba-8f45e2f38faf",
   "metadata": {},
   "source": [
    "用于随机划分数据集，常用于Dataset对象。"
   ]
  },
  {
   "cell_type": "code",
   "execution_count": 5,
   "id": "e49568f5-fc93-4171-a0e6-5261ed1f77aa",
   "metadata": {
    "execution": {
     "iopub.execute_input": "2024-12-19T03:23:57.149357Z",
     "iopub.status.busy": "2024-12-19T03:23:57.148356Z",
     "iopub.status.idle": "2024-12-19T03:24:51.932155Z",
     "shell.execute_reply": "2024-12-19T03:24:51.931154Z",
     "shell.execute_reply.started": "2024-12-19T03:23:57.149357Z"
    }
   },
   "outputs": [
    {
     "name": "stdout",
     "output_type": "stream",
     "text": [
      "训练集: [(tensor([6, 7]), tensor(3)), (tensor([2, 3]), tensor(1)), (tensor([10, 11]), tensor(5)), (tensor([18, 19]), tensor(9)), (tensor([0, 1]), tensor(0)), (tensor([12, 13]), tensor(6)), (tensor([8, 9]), tensor(4)), (tensor([4, 5]), tensor(2))]\n",
      "测试集: [(tensor([16, 17]), tensor(8)), (tensor([14, 15]), tensor(7))]\n"
     ]
    }
   ],
   "source": [
    "import torch\n",
    "from torch.utils.data import random_split, TensorDataset\n",
    "\n",
    "# 创建示例数据集\n",
    "data = torch.arange(20).view(-1, 2)  # 特征\n",
    "labels = torch.arange(10)  # 标签\n",
    "\n",
    "# 构建TensorDataset\n",
    "dataset = TensorDataset(data, labels)\n",
    "\n",
    "# 按80:20划分\n",
    "train_size = int(0.8 * len(dataset))\n",
    "test_size = len(dataset) - train_size\n",
    "\n",
    "train_dataset, test_dataset = random_split(dataset, [train_size, test_size])\n",
    "\n",
    "# 查看划分结果\n",
    "print(\"训练集:\", list(train_dataset))\n",
    "print(\"测试集:\", list(test_dataset))"
   ]
  },
  {
   "cell_type": "markdown",
   "id": "ed8c5cf0-8780-4bca-9c24-194d106eab15",
   "metadata": {},
   "source": [
    "## SubsetRandomSampler"
   ]
  },
  {
   "cell_type": "markdown",
   "id": "2efd1924-0615-4491-afcb-6bacb0d042ab",
   "metadata": {},
   "source": [
    "用于按索引随机采样，适合自定义数据划分。"
   ]
  },
  {
   "cell_type": "code",
   "execution_count": 8,
   "id": "bf56259b-85c1-4cf9-8867-acafeee45d43",
   "metadata": {
    "execution": {
     "iopub.execute_input": "2024-12-19T05:35:52.814897Z",
     "iopub.status.busy": "2024-12-19T05:35:52.813895Z",
     "iopub.status.idle": "2024-12-19T05:35:52.838361Z",
     "shell.execute_reply": "2024-12-19T05:35:52.837360Z",
     "shell.execute_reply.started": "2024-12-19T05:35:52.814897Z"
    }
   },
   "outputs": [
    {
     "name": "stdout",
     "output_type": "stream",
     "text": [
      "训练集: [[tensor([[ 8,  9],\n",
      "        [16, 17],\n",
      "        [14, 15]]), tensor([4, 8, 7])], [tensor([[ 6,  7],\n",
      "        [ 4,  5],\n",
      "        [18, 19]]), tensor([3, 2, 9])], [tensor([[10, 11],\n",
      "        [12, 13]]), tensor([5, 6])]]\n",
      "测试集: [[tensor([[2, 3],\n",
      "        [0, 1]]), tensor([1, 0])]]\n"
     ]
    }
   ],
   "source": [
    "import torch\n",
    "import random\n",
    "from torch.utils.data import DataLoader, SubsetRandomSampler, TensorDataset\n",
    "\n",
    "# 创建示例数据集\n",
    "data = torch.arange(20).view(-1, 2)  # 特征\n",
    "labels = torch.arange(10)  # 标签\n",
    "dataset = TensorDataset(data, labels)\n",
    "\n",
    "# 划分索引\n",
    "dataset_size = len(dataset)\n",
    "indices = list(range(dataset_size))\n",
    "\n",
    "# 打乱数据\n",
    "random.seed(42)\n",
    "random.shuffle(indices)\n",
    "\n",
    "# 划分索引\n",
    "split = int(0.8 * dataset_size)\n",
    "\n",
    "# 定义采样器\n",
    "train_sampler = SubsetRandomSampler(indices[:split])\n",
    "test_sampler = SubsetRandomSampler(indices[split:])\n",
    "\n",
    "# 创建DataLoader\n",
    "train_loader = DataLoader(dataset, batch_size=3, sampler=train_sampler)\n",
    "test_loader = DataLoader(dataset, batch_size=3, sampler=test_sampler)\n",
    "\n",
    "# 查看数据\n",
    "print(\"训练集:\", list(train_loader))\n",
    "print(\"测试集:\", list(test_loader))"
   ]
  },
  {
   "cell_type": "code",
   "execution_count": null,
   "id": "967724fd-e69e-4790-9d17-b56a33597070",
   "metadata": {},
   "outputs": [],
   "source": []
  }
 ],
 "metadata": {
  "kernelspec": {
   "display_name": "Python 3 (ipykernel)",
   "language": "python",
   "name": "python3"
  },
  "language_info": {
   "codemirror_mode": {
    "name": "ipython",
    "version": 3
   },
   "file_extension": ".py",
   "mimetype": "text/x-python",
   "name": "python",
   "nbconvert_exporter": "python",
   "pygments_lexer": "ipython3",
   "version": "3.9.18"
  }
 },
 "nbformat": 4,
 "nbformat_minor": 5
}
