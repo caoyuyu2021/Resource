{
 "cells": [
  {
   "cell_type": "code",
   "execution_count": 1,
   "metadata": {
    "ExecuteTime": {
     "end_time": "2021-09-09T09:49:15.141944Z",
     "start_time": "2021-09-09T09:49:11.991371Z"
    }
   },
   "outputs": [],
   "source": [
    "import numpy as np\n",
    "import pandas as pd\n",
    "import sklearn\n",
    "import matplotlib.pyplot as plt\n",
    "import mglearn\n",
    "from sklearn.model_selection import train_test_split\n",
    "import os\n",
    "import seaborn as sns\n",
    "plt.rcParams['font.sans-serif'] = ['SimHei']  #显示中文标签\n",
    "plt.rcParams['axes.unicode_minus'] = False"
   ]
  },
  {
   "cell_type": "code",
   "execution_count": 2,
   "metadata": {
    "ExecuteTime": {
     "end_time": "2021-05-12T03:07:07.838083Z",
     "start_time": "2021-05-12T03:07:07.821114Z"
    }
   },
   "outputs": [],
   "source": [
    "def lis(data):  #筛选符合要求的列数据，即原始数据raw\n",
    "    import re\n",
    "    lis = list(data)\n",
    "    lisdata = []\n",
    "    listdata = []\n",
    "    for i in range(len(lis)):\n",
    "        lisdata.append(re.findall('.*raw$', lis[i]))  #匹配以raw结尾的字符串\n",
    "        if len(lisdata[i]) != 0:\n",
    "            listdata.append(lisdata[i])\n",
    "\n",
    "    list_data = []\n",
    "    for i in range(len(listdata)):\n",
    "        list_data.append(listdata[i][0])\n",
    "\n",
    "    return list_data"
   ]
  },
  {
   "cell_type": "code",
   "execution_count": 12,
   "metadata": {
    "ExecuteTime": {
     "end_time": "2021-05-12T06:02:19.479531Z",
     "start_time": "2021-05-12T06:02:19.466871Z"
    }
   },
   "outputs": [],
   "source": [
    "def skew(data):  #计算特征列的偏态系数以及偏斜程度\n",
    "    mean = Data.mean(axis=0)  #均值\n",
    "    median = Data.median(axis=0)  #中位数\n",
    "    std = Data.std(axis=0)  #标准差\n",
    "    SK = (mean - median) / std  #偏度系数，SK的绝对值越小，偏斜程度越小\n",
    "    sk = pd.DataFrame(SK).rename(columns={0: 'SK'})\n",
    "    sk['feature'] = sk.index\n",
    "    sk = pd.DataFrame(sk).rename(index=dict(\n",
    "        zip(list(sk.index), list(range(len(sk.index))))),\n",
    "                                 columns={0: 'SK'})\n",
    "    sk['status'] = [\n",
    "        '左偏态' if sk['SK'][i] < 0 else '右偏态' for i in range(len(sk['SK']))\n",
    "    ]\n",
    "    a = []\n",
    "    for i in range(len(sk['SK'])):\n",
    "        if abs(sk['SK'][i]) > 1:\n",
    "            a.append('高度偏态')\n",
    "        elif abs(sk['SK'][i]) < 0.5:\n",
    "            a.append('轻度偏态')\n",
    "        else:\n",
    "            a.append('中度偏态')\n",
    "    sk['degree'] = a\n",
    "    skew = sk[['feature', 'SK', 'status', 'degree']]\n",
    "    return skew"
   ]
  },
  {
   "cell_type": "code",
   "execution_count": 13,
   "metadata": {
    "ExecuteTime": {
     "end_time": "2021-05-12T06:02:22.509600Z",
     "start_time": "2021-05-12T06:02:20.353023Z"
    }
   },
   "outputs": [
    {
     "data": {
      "text/html": [
       "<div>\n",
       "<style scoped>\n",
       "    .dataframe tbody tr th:only-of-type {\n",
       "        vertical-align: middle;\n",
       "    }\n",
       "\n",
       "    .dataframe tbody tr th {\n",
       "        vertical-align: top;\n",
       "    }\n",
       "\n",
       "    .dataframe thead th {\n",
       "        text-align: right;\n",
       "    }\n",
       "</style>\n",
       "<table border=\"1\" class=\"dataframe\">\n",
       "  <thead>\n",
       "    <tr style=\"text-align: right;\">\n",
       "      <th></th>\n",
       "      <th>feature</th>\n",
       "      <th>SK</th>\n",
       "      <th>status</th>\n",
       "      <th>degree</th>\n",
       "    </tr>\n",
       "  </thead>\n",
       "  <tbody>\n",
       "    <tr>\n",
       "      <th>0</th>\n",
       "      <td>smart_1_raw</td>\n",
       "      <td>0.260895</td>\n",
       "      <td>右偏态</td>\n",
       "      <td>轻度偏态</td>\n",
       "    </tr>\n",
       "    <tr>\n",
       "      <th>1</th>\n",
       "      <td>smart_3_raw</td>\n",
       "      <td>0.387164</td>\n",
       "      <td>右偏态</td>\n",
       "      <td>轻度偏态</td>\n",
       "    </tr>\n",
       "    <tr>\n",
       "      <th>2</th>\n",
       "      <td>smart_4_raw</td>\n",
       "      <td>0.030847</td>\n",
       "      <td>右偏态</td>\n",
       "      <td>轻度偏态</td>\n",
       "    </tr>\n",
       "    <tr>\n",
       "      <th>3</th>\n",
       "      <td>smart_5_raw</td>\n",
       "      <td>0.039116</td>\n",
       "      <td>右偏态</td>\n",
       "      <td>轻度偏态</td>\n",
       "    </tr>\n",
       "    <tr>\n",
       "      <th>4</th>\n",
       "      <td>smart_7_raw</td>\n",
       "      <td>0.019650</td>\n",
       "      <td>右偏态</td>\n",
       "      <td>轻度偏态</td>\n",
       "    </tr>\n",
       "    <tr>\n",
       "      <th>5</th>\n",
       "      <td>smart_9_raw</td>\n",
       "      <td>-0.003088</td>\n",
       "      <td>左偏态</td>\n",
       "      <td>轻度偏态</td>\n",
       "    </tr>\n",
       "    <tr>\n",
       "      <th>6</th>\n",
       "      <td>smart_10_raw</td>\n",
       "      <td>0.021868</td>\n",
       "      <td>右偏态</td>\n",
       "      <td>轻度偏态</td>\n",
       "    </tr>\n",
       "    <tr>\n",
       "      <th>7</th>\n",
       "      <td>smart_12_raw</td>\n",
       "      <td>0.207163</td>\n",
       "      <td>右偏态</td>\n",
       "      <td>轻度偏态</td>\n",
       "    </tr>\n",
       "    <tr>\n",
       "      <th>8</th>\n",
       "      <td>smart_184_raw</td>\n",
       "      <td>0.004679</td>\n",
       "      <td>右偏态</td>\n",
       "      <td>轻度偏态</td>\n",
       "    </tr>\n",
       "    <tr>\n",
       "      <th>9</th>\n",
       "      <td>smart_187_raw</td>\n",
       "      <td>0.007828</td>\n",
       "      <td>右偏态</td>\n",
       "      <td>轻度偏态</td>\n",
       "    </tr>\n",
       "    <tr>\n",
       "      <th>10</th>\n",
       "      <td>smart_188_raw</td>\n",
       "      <td>0.060722</td>\n",
       "      <td>右偏态</td>\n",
       "      <td>轻度偏态</td>\n",
       "    </tr>\n",
       "    <tr>\n",
       "      <th>11</th>\n",
       "      <td>smart_189_raw</td>\n",
       "      <td>0.012870</td>\n",
       "      <td>右偏态</td>\n",
       "      <td>轻度偏态</td>\n",
       "    </tr>\n",
       "    <tr>\n",
       "      <th>12</th>\n",
       "      <td>smart_190_raw</td>\n",
       "      <td>0.082167</td>\n",
       "      <td>右偏态</td>\n",
       "      <td>轻度偏态</td>\n",
       "    </tr>\n",
       "    <tr>\n",
       "      <th>13</th>\n",
       "      <td>smart_191_raw</td>\n",
       "      <td>0.180731</td>\n",
       "      <td>右偏态</td>\n",
       "      <td>轻度偏态</td>\n",
       "    </tr>\n",
       "    <tr>\n",
       "      <th>14</th>\n",
       "      <td>smart_192_raw</td>\n",
       "      <td>0.253528</td>\n",
       "      <td>右偏态</td>\n",
       "      <td>轻度偏态</td>\n",
       "    </tr>\n",
       "    <tr>\n",
       "      <th>15</th>\n",
       "      <td>smart_193_raw</td>\n",
       "      <td>0.384011</td>\n",
       "      <td>右偏态</td>\n",
       "      <td>轻度偏态</td>\n",
       "    </tr>\n",
       "    <tr>\n",
       "      <th>16</th>\n",
       "      <td>smart_194_raw</td>\n",
       "      <td>0.142489</td>\n",
       "      <td>右偏态</td>\n",
       "      <td>轻度偏态</td>\n",
       "    </tr>\n",
       "    <tr>\n",
       "      <th>17</th>\n",
       "      <td>smart_195_raw</td>\n",
       "      <td>-0.004002</td>\n",
       "      <td>左偏态</td>\n",
       "      <td>轻度偏态</td>\n",
       "    </tr>\n",
       "    <tr>\n",
       "      <th>18</th>\n",
       "      <td>smart_197_raw</td>\n",
       "      <td>0.004840</td>\n",
       "      <td>右偏态</td>\n",
       "      <td>轻度偏态</td>\n",
       "    </tr>\n",
       "    <tr>\n",
       "      <th>19</th>\n",
       "      <td>smart_198_raw</td>\n",
       "      <td>0.003936</td>\n",
       "      <td>右偏态</td>\n",
       "      <td>轻度偏态</td>\n",
       "    </tr>\n",
       "    <tr>\n",
       "      <th>20</th>\n",
       "      <td>smart_199_raw</td>\n",
       "      <td>0.013352</td>\n",
       "      <td>右偏态</td>\n",
       "      <td>轻度偏态</td>\n",
       "    </tr>\n",
       "    <tr>\n",
       "      <th>21</th>\n",
       "      <td>smart_240_raw</td>\n",
       "      <td>-0.092760</td>\n",
       "      <td>左偏态</td>\n",
       "      <td>轻度偏态</td>\n",
       "    </tr>\n",
       "    <tr>\n",
       "      <th>22</th>\n",
       "      <td>smart_241_raw</td>\n",
       "      <td>-0.157233</td>\n",
       "      <td>左偏态</td>\n",
       "      <td>轻度偏态</td>\n",
       "    </tr>\n",
       "    <tr>\n",
       "      <th>23</th>\n",
       "      <td>smart_242_raw</td>\n",
       "      <td>-0.195489</td>\n",
       "      <td>左偏态</td>\n",
       "      <td>轻度偏态</td>\n",
       "    </tr>\n",
       "  </tbody>\n",
       "</table>\n",
       "</div>"
      ],
      "text/plain": [
       "          feature        SK status degree\n",
       "0     smart_1_raw  0.260895    右偏态   轻度偏态\n",
       "1     smart_3_raw  0.387164    右偏态   轻度偏态\n",
       "2     smart_4_raw  0.030847    右偏态   轻度偏态\n",
       "3     smart_5_raw  0.039116    右偏态   轻度偏态\n",
       "4     smart_7_raw  0.019650    右偏态   轻度偏态\n",
       "5     smart_9_raw -0.003088    左偏态   轻度偏态\n",
       "6    smart_10_raw  0.021868    右偏态   轻度偏态\n",
       "7    smart_12_raw  0.207163    右偏态   轻度偏态\n",
       "8   smart_184_raw  0.004679    右偏态   轻度偏态\n",
       "9   smart_187_raw  0.007828    右偏态   轻度偏态\n",
       "10  smart_188_raw  0.060722    右偏态   轻度偏态\n",
       "11  smart_189_raw  0.012870    右偏态   轻度偏态\n",
       "12  smart_190_raw  0.082167    右偏态   轻度偏态\n",
       "13  smart_191_raw  0.180731    右偏态   轻度偏态\n",
       "14  smart_192_raw  0.253528    右偏态   轻度偏态\n",
       "15  smart_193_raw  0.384011    右偏态   轻度偏态\n",
       "16  smart_194_raw  0.142489    右偏态   轻度偏态\n",
       "17  smart_195_raw -0.004002    左偏态   轻度偏态\n",
       "18  smart_197_raw  0.004840    右偏态   轻度偏态\n",
       "19  smart_198_raw  0.003936    右偏态   轻度偏态\n",
       "20  smart_199_raw  0.013352    右偏态   轻度偏态\n",
       "21  smart_240_raw -0.092760    左偏态   轻度偏态\n",
       "22  smart_241_raw -0.157233    左偏态   轻度偏态\n",
       "23  smart_242_raw -0.195489    左偏态   轻度偏态"
      ]
     },
     "execution_count": 13,
     "metadata": {},
     "output_type": "execute_result"
    }
   ],
   "source": [
    "data = pd.read_csv(\"Z:\\\\Data\\\\xu_data\\\\2020-10-01.csv\")\n",
    "Data = data.loc[:, lis(data)]\n",
    "skew_data = skew(Data)\n",
    "skew_data"
   ]
  },
  {
   "cell_type": "code",
   "execution_count": 31,
   "metadata": {
    "ExecuteTime": {
     "end_time": "2021-05-12T06:51:28.586159Z",
     "start_time": "2021-05-12T06:51:27.932905Z"
    }
   },
   "outputs": [
    {
     "name": "stderr",
     "output_type": "stream",
     "text": [
      "D:\\anaconda\\lib\\site-packages\\seaborn\\distributions.py:2557: FutureWarning: `distplot` is a deprecated function and will be removed in a future version. Please adapt your code to use either `displot` (a figure-level function with similar flexibility) or `histplot` (an axes-level function for histograms).\n",
      "  warnings.warn(msg, FutureWarning)\n"
     ]
    },
    {
     "data": {
      "text/plain": [
       "<matplotlib.axes._subplots.AxesSubplot at 0x1d7008b8a08>"
      ]
     },
     "execution_count": 31,
     "metadata": {},
     "output_type": "execute_result"
    },
    {
     "data": {
      "image/png": "[encoded data removed]",
      "text/plain": [
       "<Figure size 432x288 with 1 Axes>"
      ]
     },
     "metadata": {
      "needs_background": "light"
     },
     "output_type": "display_data"
    }
   ],
   "source": [
    "#绘制直方图\n",
    "sns.distplot(np.sqrt(data['smart_190_raw']))"
   ]
  },
  {
   "cell_type": "code",
   "execution_count": 28,
   "metadata": {
    "ExecuteTime": {
     "end_time": "2021-05-12T06:50:24.500813Z",
     "start_time": "2021-05-12T06:50:23.852045Z"
    }
   },
   "outputs": [
    {
     "name": "stderr",
     "output_type": "stream",
     "text": [
      "D:\\anaconda\\lib\\site-packages\\seaborn\\distributions.py:2557: FutureWarning: `distplot` is a deprecated function and will be removed in a future version. Please adapt your code to use either `displot` (a figure-level function with similar flexibility) or `histplot` (an axes-level function for histograms).\n",
      "  warnings.warn(msg, FutureWarning)\n"
     ]
    },
    {
     "data": {
      "text/plain": [
       "<matplotlib.axes._subplots.AxesSubplot at 0x1d7005c7888>"
      ]
     },
     "execution_count": 28,
     "metadata": {},
     "output_type": "execute_result"
    },
    {
     "data": {
      "image/png": "[encoded data removed]",
      "text/plain": [
       "<Figure size 432x288 with 1 Axes>"
      ]
     },
     "metadata": {
      "needs_background": "light"
     },
     "output_type": "display_data"
    }
   ],
   "source": [
    "sns.distplot(data['smart_190_raw'])"
   ]
  },
  {
   "cell_type": "code",
   "execution_count": 27,
   "metadata": {
    "ExecuteTime": {
     "end_time": "2021-05-12T06:49:43.528577Z",
     "start_time": "2021-05-12T06:49:43.424282Z"
    }
   },
   "outputs": [
    {
     "data": {
      "text/plain": [
       "smart_1_raw        0.514052\n",
       "smart_3_raw        2.421132\n",
       "smart_4_raw      135.453767\n",
       "smart_5_raw       39.908957\n",
       "smart_7_raw      212.435425\n",
       "smart_9_raw        0.207927\n",
       "smart_10_raw      52.732847\n",
       "smart_12_raw      39.258113\n",
       "smart_184_raw    213.710084\n",
       "smart_187_raw    208.748244\n",
       "smart_188_raw     53.918639\n",
       "smart_189_raw    121.436712\n",
       "smart_190_raw      0.386310\n",
       "smart_191_raw     71.463058\n",
       "smart_192_raw     11.990122\n",
       "smart_193_raw      6.624487\n",
       "smart_194_raw      0.360176\n",
       "smart_195_raw     -0.003489\n",
       "smart_197_raw    381.416400\n",
       "smart_198_raw    388.556681\n",
       "smart_199_raw    161.811682\n",
       "smart_240_raw      0.226259\n",
       "smart_241_raw     -0.841840\n",
       "smart_242_raw     97.740733\n",
       "dtype: float64"
      ]
     },
     "execution_count": 27,
     "metadata": {},
     "output_type": "execute_result"
    }
   ],
   "source": [
    "Data.skew()#计算偏度"
   ]
  }
 ],
 "metadata": {
  "kernelspec": {
   "display_name": "Python 3 (ipykernel)",
   "language": "python",
   "name": "python3"
  },
  "language_info": {
   "codemirror_mode": {
    "name": "ipython",
    "version": 3
   },
   "file_extension": ".py",
   "mimetype": "text/x-python",
   "name": "python",
   "nbconvert_exporter": "python",
   "pygments_lexer": "ipython3",
   "version": "3.9.13"
  },
  "nbTranslate": {
   "displayLangs": [
    "*"
   ],
   "hotkey": "alt-t",
   "langInMainMenu": true,
   "sourceLang": "en",
   "targetLang": "fr",
   "useGoogleTranslate": true
  },
  "toc": {
   "base_numbering": 1,
   "nav_menu": {},
   "number_sections": true,
   "sideBar": true,
   "skip_h1_title": false,
   "title_cell": "Table of Contents",
   "title_sidebar": "Contents",
   "toc_cell": false,
   "toc_position": {},
   "toc_section_display": true,
   "toc_window_display": false
  },
  "varInspector": {
   "cols": {
    "lenName": 16,
    "lenType": 16,
    "lenVar": 40
   },
   "kernels_config": {
    "python": {
     "delete_cmd_postfix": "",
     "delete_cmd_prefix": "del ",
     "library": "var_list.py",
     "varRefreshCmd": "print(var_dic_list())"
    },
    "r": {
     "delete_cmd_postfix": ") ",
     "delete_cmd_prefix": "rm(",
     "library": "var_list.r",
     "varRefreshCmd": "cat(var_dic_list()) "
    }
   },
   "types_to_exclude": [
    "module",
    "function",
    "builtin_function_or_method",
    "instance",
    "_Feature"
   ],
   "window_display": false
  }
 },
 "nbformat": 4,
 "nbformat_minor": 4
}
