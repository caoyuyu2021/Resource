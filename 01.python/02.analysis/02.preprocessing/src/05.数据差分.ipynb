{
 "cells": [
  {
   "cell_type": "code",
   "execution_count": 41,
   "metadata": {
    "ExecuteTime": {
     "end_time": "2021-04-25T06:40:23.819092Z",
     "start_time": "2021-04-25T06:40:23.806339Z"
    }
   },
   "outputs": [],
   "source": [
    "import numpy as np\n",
    "import pandas as pd"
   ]
  },
  {
   "cell_type": "markdown",
   "metadata": {},
   "source": [
    "# 差分"
   ]
  },
  {
   "cell_type": "code",
   "execution_count": 43,
   "metadata": {
    "ExecuteTime": {
     "end_time": "2021-04-25T06:40:26.946606Z",
     "start_time": "2021-04-25T06:40:26.933641Z"
    }
   },
   "outputs": [
    {
     "data": {
      "text/plain": [
       "array([0, 0, 0, 0, 0, 0, 0, 0], dtype=int64)"
      ]
     },
     "execution_count": 43,
     "metadata": {},
     "output_type": "execute_result"
    }
   ],
   "source": [
    "test = pd.Series([1,2,3,4,5,6,7,8,9,10])\n",
    "test_diff1 = np.diff(test ,2)\n",
    "test_diff1"
   ]
  },
  {
   "cell_type": "code",
   "execution_count": 44,
   "metadata": {
    "ExecuteTime": {
     "end_time": "2021-04-25T06:40:27.423489Z",
     "start_time": "2021-04-25T06:40:27.406506Z"
    }
   },
   "outputs": [
    {
     "data": {
      "text/plain": [
       "0    NaN\n",
       "1    1.0\n",
       "2    1.0\n",
       "3    1.0\n",
       "4    1.0\n",
       "5    1.0\n",
       "6    1.0\n",
       "7    1.0\n",
       "8    1.0\n",
       "9    1.0\n",
       "dtype: float64"
      ]
     },
     "execution_count": 44,
     "metadata": {},
     "output_type": "execute_result"
    }
   ],
   "source": [
    "test = pd.Series([1,2,3,4,5,6,7,8,9,10])\n",
    "test.diff(periods = 1)"
   ]
  },
  {
   "cell_type": "code",
   "execution_count": 46,
   "metadata": {
    "ExecuteTime": {
     "end_time": "2021-04-25T07:01:51.280728Z",
     "start_time": "2021-04-25T07:01:51.259751Z"
    }
   },
   "outputs": [
    {
     "data": {
      "text/plain": [
       "array([ 0.        ,  0.0841471 ,  0.1682942 ,  0.2524413 ,  0.33658839,\n",
       "        0.42073549,  0.50488259,  0.58902969,  0.67317679,  0.75732389,\n",
       "        0.84147098,  0.84825363,  0.85503627,  0.86181892,  0.86860156,\n",
       "        0.87538421,  0.88216685,  0.88894949,  0.89573214,  0.90251478,\n",
       "        0.90929743,  0.83247968,  0.75566194,  0.6788442 ,  0.60202646,\n",
       "        0.52520872,  0.44839098,  0.37157323,  0.29475549,  0.21793775,\n",
       "        0.14112001,  0.05132776, -0.03846449, -0.12825674, -0.21804899,\n",
       "       -0.30784124, -0.39763349, -0.48742574, -0.57721799, -0.66701024,\n",
       "       -0.7568025 , -0.77701467, -0.79722685, -0.81743903, -0.83765121,\n",
       "       -0.85786338, -0.87807556, -0.89828774, -0.91849992, -0.9387121 ,\n",
       "       -0.95892427, -0.8909734 , -0.82302252, -0.75507164, -0.68712076,\n",
       "       -0.61916989, -0.55121901, -0.48326813, -0.41531725, -0.34736638,\n",
       "       -0.2794155 , -0.18577529, -0.09213508,  0.00150513,  0.09514534,\n",
       "        0.18878555,  0.28242576,  0.37606597,  0.46970618,  0.56334639,\n",
       "        0.6569866 ,  0.69022376,  0.72346093,  0.75669809,  0.78993526,\n",
       "        0.82317242,  0.85640959,  0.88964675,  0.92288392,  0.95612108,\n",
       "        0.98935825,  0.93163427,  0.87391029,  0.81618632,  0.75846234,\n",
       "        0.70073837,  0.64301439,  0.58529041,  0.52756644,  0.46984246,\n",
       "        0.41211849,  0.31650453,  0.22089057,  0.12527661,  0.02966265,\n",
       "       -0.06595131, -0.16156527, -0.25717923, -0.35279319, -0.44840715,\n",
       "       -0.54402111])"
      ]
     },
     "execution_count": 46,
     "metadata": {},
     "output_type": "execute_result"
    }
   ],
   "source": [
    "from scipy import interpolate\n",
    "x=np.linspace(0,10,11)\n",
    "y=np.sin(x)\n",
    "xnew=np.linspace(0,10,101)\n",
    "f=interpolate.interp1d(x,y,kind=\"slinear\")\n",
    "ynew=f(xnew)\n",
    "ynew"
   ]
  },
  {
   "cell_type": "code",
   "execution_count": null,
   "metadata": {},
   "outputs": [],
   "source": []
  }
 ],
 "metadata": {
  "kernelspec": {
   "display_name": "Python 3 (ipykernel)",
   "language": "python",
   "name": "python3"
  },
  "language_info": {
   "codemirror_mode": {
    "name": "ipython",
    "version": 3
   },
   "file_extension": ".py",
   "mimetype": "text/x-python",
   "name": "python",
   "nbconvert_exporter": "python",
   "pygments_lexer": "ipython3",
   "version": "3.9.18"
  },
  "toc": {
   "base_numbering": 1,
   "nav_menu": {},
   "number_sections": true,
   "sideBar": true,
   "skip_h1_title": false,
   "title_cell": "Table of Contents",
   "title_sidebar": "Contents",
   "toc_cell": false,
   "toc_position": {},
   "toc_section_display": true,
   "toc_window_display": false
  }
 },
 "nbformat": 4,
 "nbformat_minor": 4
}
