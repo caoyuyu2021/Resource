{
 "cells": [
  {
   "cell_type": "code",
   "execution_count": 1,
   "id": "303d943f",
   "metadata": {
    "ExecuteTime": {
     "end_time": "2024-01-23T09:55:22.743374Z",
     "start_time": "2024-01-23T09:55:17.894209Z"
    }
   },
   "outputs": [],
   "source": [
    "import pandas as pd\n",
    "import duckdb"
   ]
  },
  {
   "cell_type": "markdown",
   "id": "1172ba70",
   "metadata": {},
   "source": [
    "duckdb可以读取的文件格式：CSV Files、Parquet Files、HTTP(S), S3 and GCP、JSON Files、Excel Files with the Spatial Extension、Querying Other Database Systems"
   ]
  },
  {
   "cell_type": "code",
   "execution_count": 2,
   "id": "355fe478",
   "metadata": {
    "ExecuteTime": {
     "end_time": "2024-01-23T09:55:40.259342Z",
     "start_time": "2024-01-23T09:55:40.213177Z"
    },
    "scrolled": true
   },
   "outputs": [],
   "source": [
    "path = \"../data/AirPassengers.csv\"  # 可以读取其他格式的数据\n",
    "query = f\"\"\"\n",
    "SELECT DISTINCT Month FROM \\'{path}\\'\n",
    "ORDER BY Month\n",
    "LIMIT 10\n",
    "\"\"\"\n",
    "result = duckdb.sql(query).df()  # 读取数据并转为Dataframe"
   ]
  },
  {
   "cell_type": "code",
   "execution_count": null,
   "id": "4d6d373f",
   "metadata": {
    "ExecuteTime": {
     "end_time": "2024-01-23T09:55:49.198932Z",
     "start_time": "2024-01-23T09:55:49.198932Z"
    }
   },
   "outputs": [],
   "source": [
    "result.to_parquet(\"../data/AirPassengers.parquet\")"
   ]
  },
  {
   "cell_type": "code",
   "execution_count": 3,
   "id": "6a6ac66e",
   "metadata": {
    "ExecuteTime": {
     "end_time": "2024-01-23T09:55:50.888622Z",
     "start_time": "2024-01-23T09:55:50.855291Z"
    }
   },
   "outputs": [
    {
     "data": {
      "text/html": [
       "<div>\n",
       "<style scoped>\n",
       "    .dataframe tbody tr th:only-of-type {\n",
       "        vertical-align: middle;\n",
       "    }\n",
       "\n",
       "    .dataframe tbody tr th {\n",
       "        vertical-align: top;\n",
       "    }\n",
       "\n",
       "    .dataframe thead th {\n",
       "        text-align: right;\n",
       "    }\n",
       "</style>\n",
       "<table border=\"1\" class=\"dataframe\">\n",
       "  <thead>\n",
       "    <tr style=\"text-align: right;\">\n",
       "      <th></th>\n",
       "      <th>Month</th>\n",
       "    </tr>\n",
       "  </thead>\n",
       "  <tbody>\n",
       "    <tr>\n",
       "      <th>0</th>\n",
       "      <td>1949-01</td>\n",
       "    </tr>\n",
       "    <tr>\n",
       "      <th>1</th>\n",
       "      <td>1949-02</td>\n",
       "    </tr>\n",
       "    <tr>\n",
       "      <th>2</th>\n",
       "      <td>1949-03</td>\n",
       "    </tr>\n",
       "    <tr>\n",
       "      <th>3</th>\n",
       "      <td>1949-04</td>\n",
       "    </tr>\n",
       "    <tr>\n",
       "      <th>4</th>\n",
       "      <td>1949-05</td>\n",
       "    </tr>\n",
       "    <tr>\n",
       "      <th>5</th>\n",
       "      <td>1949-06</td>\n",
       "    </tr>\n",
       "    <tr>\n",
       "      <th>6</th>\n",
       "      <td>1949-07</td>\n",
       "    </tr>\n",
       "    <tr>\n",
       "      <th>7</th>\n",
       "      <td>1949-08</td>\n",
       "    </tr>\n",
       "    <tr>\n",
       "      <th>8</th>\n",
       "      <td>1949-09</td>\n",
       "    </tr>\n",
       "    <tr>\n",
       "      <th>9</th>\n",
       "      <td>1949-10</td>\n",
       "    </tr>\n",
       "  </tbody>\n",
       "</table>\n",
       "</div>"
      ],
      "text/plain": [
       "     Month\n",
       "0  1949-01\n",
       "1  1949-02\n",
       "2  1949-03\n",
       "3  1949-04\n",
       "4  1949-05\n",
       "5  1949-06\n",
       "6  1949-07\n",
       "7  1949-08\n",
       "8  1949-09\n",
       "9  1949-10"
      ]
     },
     "execution_count": 3,
     "metadata": {},
     "output_type": "execute_result"
    }
   ],
   "source": [
    "result"
   ]
  },
  {
   "cell_type": "code",
   "execution_count": null,
   "id": "f7059e87",
   "metadata": {},
   "outputs": [],
   "source": []
  }
 ],
 "metadata": {
  "hide_input": false,
  "kernelspec": {
   "display_name": "Python 3 (ipykernel)",
   "language": "python",
   "name": "python3"
  },
  "language_info": {
   "codemirror_mode": {
    "name": "ipython",
    "version": 3
   },
   "file_extension": ".py",
   "mimetype": "text/x-python",
   "name": "python",
   "nbconvert_exporter": "python",
   "pygments_lexer": "ipython3",
   "version": "3.11.5"
  },
  "toc": {
   "base_numbering": 1,
   "nav_menu": {},
   "number_sections": true,
   "sideBar": true,
   "skip_h1_title": false,
   "title_cell": "Table of Contents",
   "title_sidebar": "Contents",
   "toc_cell": false,
   "toc_position": {},
   "toc_section_display": true,
   "toc_window_display": false
  },
  "varInspector": {
   "cols": {
    "lenName": 16,
    "lenType": 16,
    "lenVar": 40
   },
   "kernels_config": {
    "python": {
     "delete_cmd_postfix": "",
     "delete_cmd_prefix": "del ",
     "library": "var_list.py",
     "varRefreshCmd": "print(var_dic_list())"
    },
    "r": {
     "delete_cmd_postfix": ") ",
     "delete_cmd_prefix": "rm(",
     "library": "var_list.r",
     "varRefreshCmd": "cat(var_dic_list()) "
    }
   },
   "types_to_exclude": [
    "module",
    "function",
    "builtin_function_or_method",
    "instance",
    "_Feature"
   ],
   "window_display": false
  }
 },
 "nbformat": 4,
 "nbformat_minor": 5
}
