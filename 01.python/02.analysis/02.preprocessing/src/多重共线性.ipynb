{
 "cells": [
  {
   "cell_type": "markdown",
   "id": "596303c9",
   "metadata": {},
   "source": [
    "# 多重共线性"
   ]
  },
  {
   "cell_type": "markdown",
   "id": "f026383c",
   "metadata": {},
   "source": [
    "**多重共线性是指多元回归模型中有两个或两个以上的自变量X**，它们之间具有高度的相关性。当某些特征高度相关时，我们可能很难区分它们对因变量的个体影响。"
   ]
  },
  {
   "cell_type": "markdown",
   "id": "6e803280",
   "metadata": {},
   "source": [
    "## 方差膨胀因子"
   ]
  },
  {
   "cell_type": "markdown",
   "id": "12d890d4",
   "metadata": {},
   "source": [
    "在VIF方法中，我们选择每个特征并将其与所有其他特征进行回归。对于每个回归，因子计算如下：\n",
    "$$VIF = 1/(1-R^2)$$\n",
    "其中，R平方是线性回归中的决定系数。它的值介于0和1之间。\n",
    "\n",
    "正如我们从公式中看到的，R平方的值越大，VIF越大。因此，VIF越大，相关性越强。这与较高的R平方值表示较强的共线性的事实一致。通常，VIF高于5表示高多重共线性。"
   ]
  },
  {
   "cell_type": "markdown",
   "id": "b5830459",
   "metadata": {},
   "source": [
    "statsmodels提供了一个名为variance_inflation_factor()的函数来计算VIF。\n",
    "\n",
    "语法：statmodels.stats.outliers_influence.variance_inflation_factor（exog，exog_idx）  \n",
    "主要参数：  \n",
    "exog：一个数组，包含对其执行线性回归的特征。  \n",
    "exog_idx：要测量其对其他特征的影响的附加特征的索引。\n"
   ]
  },
  {
   "cell_type": "code",
   "execution_count": 14,
   "id": "8554a3c1",
   "metadata": {
    "ExecuteTime": {
     "end_time": "2024-04-17T06:24:20.495370Z",
     "start_time": "2024-04-17T06:24:20.487995Z"
    }
   },
   "outputs": [
    {
     "name": "stdout",
     "output_type": "stream",
     "text": [
      "   Gender  Height  Weight  Index\n",
      "0    Male     174      87      4\n",
      "1    Male     174      87      2\n",
      "2  Female     174      87      4\n",
      "3  Female     174      87      3\n",
      "4    Male     174      87      3\n"
     ]
    }
   ],
   "source": [
    "import pandas as pd  \n",
    "  \n",
    "# the dataset   \n",
    "data = pd.read_csv('../data/BMI.csv') \n",
    "  \n",
    "# printing first few rows \n",
    "print(data.head())"
   ]
  },
  {
   "cell_type": "code",
   "execution_count": 2,
   "id": "74095d51",
   "metadata": {
    "ExecuteTime": {
     "end_time": "2024-04-17T06:02:43.417207Z",
     "start_time": "2024-04-17T06:02:42.483782Z"
    }
   },
   "outputs": [
    {
     "name": "stdout",
     "output_type": "stream",
     "text": [
      "  feature           VIF\n",
      "0  Gender      1.090909\n",
      "1  Height  17557.511404\n",
      "2  Weight  17621.035960\n"
     ]
    }
   ],
   "source": [
    "from statsmodels.stats.outliers_influence import variance_inflation_factor \n",
    "\n",
    "# creating dummies for gender \n",
    "data['Gender'] = data['Gender'].map({'Male':0, 'Female':1}) \n",
    "\n",
    "# the independent variables set \n",
    "X = data[['Gender', 'Height', 'Weight']] \n",
    "\n",
    "# VIF dataframe \n",
    "vif_data = pd.DataFrame() \n",
    "vif_data[\"feature\"] = X.columns \n",
    "\n",
    "# calculating VIF for each feature \n",
    "vif_data[\"VIF\"] = [variance_inflation_factor(X.values, i) for i in range(len(X.columns))] \n",
    "\n",
    "print(vif_data)"
   ]
  },
  {
   "cell_type": "markdown",
   "id": "57342523",
   "metadata": {},
   "source": [
    "正如我们所看到的，身高和体重具有非常高的VIF值，表明这两个变量高度相关。这是预料之中的，因为一个人的身高确实会影响他们的体重。因此，将这两个特征一起考虑会导致具有高多重共线性的模型。"
   ]
  },
  {
   "cell_type": "markdown",
   "id": "1f691d61",
   "metadata": {},
   "source": [
    "其实方差因子通常成对出现，通常较大的两个方差膨胀因子表明这两个变量自身本来就具有高度相关性，即这两个变量一起才解释一种东西，可以考虑去除一个自己并不怎么感兴趣的变量即可，也回到了我们最开始的目的：多重线性回归模型的主要假设之一是我们的预测变量彼此不相关，我们希望预测变量与反应变量相关，而不是彼此之间具有相关性。"
   ]
  },
  {
   "cell_type": "markdown",
   "id": "65d70bef",
   "metadata": {},
   "source": [
    "## 相关系数"
   ]
  },
  {
   "cell_type": "code",
   "execution_count": 15,
   "id": "1168125f",
   "metadata": {
    "ExecuteTime": {
     "end_time": "2024-04-17T06:24:25.055889Z",
     "start_time": "2024-04-17T06:24:25.051273Z"
    }
   },
   "outputs": [],
   "source": [
    "data = data[['Height', 'Weight']]\n",
    "p_value = data.values"
   ]
  },
  {
   "cell_type": "code",
   "execution_count": 20,
   "id": "fee87fa1",
   "metadata": {
    "ExecuteTime": {
     "end_time": "2024-04-17T06:24:58.009892Z",
     "start_time": "2024-04-17T06:24:58.006250Z"
    }
   },
   "outputs": [],
   "source": [
    "value = np.corrcoef(p_value)"
   ]
  },
  {
   "cell_type": "code",
   "execution_count": 21,
   "id": "186ce147",
   "metadata": {
    "ExecuteTime": {
     "end_time": "2024-04-17T06:25:02.686134Z",
     "start_time": "2024-04-17T06:25:02.680644Z"
    },
    "scrolled": true
   },
   "outputs": [
    {
     "data": {
      "text/plain": [
       "array([[0, 0],\n",
       "       [0, 1],\n",
       "       [0, 2],\n",
       "       [0, 3],\n",
       "       [0, 4],\n",
       "       [1, 0],\n",
       "       [1, 1],\n",
       "       [1, 2],\n",
       "       [1, 3],\n",
       "       [1, 4],\n",
       "       [2, 0],\n",
       "       [2, 1],\n",
       "       [2, 2],\n",
       "       [2, 3],\n",
       "       [2, 4],\n",
       "       [3, 0],\n",
       "       [3, 1],\n",
       "       [3, 2],\n",
       "       [3, 3],\n",
       "       [3, 4],\n",
       "       [4, 0],\n",
       "       [4, 1],\n",
       "       [4, 2],\n",
       "       [4, 3],\n",
       "       [4, 4]], dtype=int64)"
      ]
     },
     "execution_count": 21,
     "metadata": {},
     "output_type": "execute_result"
    }
   ],
   "source": [
    "np.argwhere(value == 1)"
   ]
  },
  {
   "cell_type": "markdown",
   "id": "cab84d8b",
   "metadata": {},
   "source": [
    "## 处理方法"
   ]
  },
  {
   "cell_type": "markdown",
   "id": "1838785e",
   "metadata": {},
   "source": [
    "### 手动剔除变量"
   ]
  },
  {
   "cell_type": "markdown",
   "id": "8c62e1d6",
   "metadata": {},
   "source": [
    "手动剔除变量，最简单的方法就是对存在共线性的自变量进行一定的筛选。将VIF值最大的两个自变量进行剔除，再次分析。"
   ]
  },
  {
   "cell_type": "markdown",
   "id": "524da745",
   "metadata": {},
   "source": [
    "### 逐步回归"
   ]
  },
  {
   "cell_type": "markdown",
   "id": "22bad98d",
   "metadata": {},
   "source": [
    "逐步回归法是在模型中逐个引入自变量，自动筛选出有影响的变量。逐步回归根据模型统计意义的检验以及调整后R方的变化情况来判断新引入的变量是否引起共线性。如果新引入的变量使得模型统计意义检验能通过，且又能提高模型的调整后R方，则应该引入，否则不引入。"
   ]
  },
  {
   "cell_type": "markdown",
   "id": "38908bc4",
   "metadata": {},
   "source": [
    "### 岭回归"
   ]
  },
  {
   "cell_type": "markdown",
   "id": "34130eb3",
   "metadata": {},
   "source": [
    "岭回归是利用岭估计来代替普通最小二乘估计，以损失部分信息为代价来寻找效果稍差但回归系数更符合实际情况的模型方程。当自变量之间存在多重共线性，岭回归是相对比较稳定的方法，且岭回归估计的回归系数的标准差也较小。\n",
    "\n",
    "在现实中，真正应用来选择正则化系数的技术是交叉验证，并且选择的标准非常明确——选择让交叉验证下的均方误差最小的正则化系数α。"
   ]
  },
  {
   "cell_type": "markdown",
   "id": "7cb03c7a",
   "metadata": {},
   "source": [
    "### 增大样本量"
   ]
  },
  {
   "cell_type": "markdown",
   "id": "c0f221f9",
   "metadata": {},
   "source": [
    "在建立回归模型时，如果变量的样本数据太少，很容易产生多重共线性问题。所以可以通过增大样本量的方法，克服多重共线性。但是在实际研究中是不现实的，因为我们没有办法确定增加什么多少样本才能克服多重共线性，也有可能在增加了样本量的同时，产生了一些新的问题，导致模型的拟合变差，没有达到我们所期望的效果。"
   ]
  },
  {
   "cell_type": "code",
   "execution_count": null,
   "id": "cd126977",
   "metadata": {},
   "outputs": [],
   "source": []
  }
 ],
 "metadata": {
  "hide_input": false,
  "kernelspec": {
   "display_name": "Python 3 (ipykernel)",
   "language": "python",
   "name": "python3"
  },
  "language_info": {
   "codemirror_mode": {
    "name": "ipython",
    "version": 3
   },
   "file_extension": ".py",
   "mimetype": "text/x-python",
   "name": "python",
   "nbconvert_exporter": "python",
   "pygments_lexer": "ipython3",
   "version": "3.11.5"
  },
  "toc": {
   "base_numbering": 1,
   "nav_menu": {},
   "number_sections": true,
   "sideBar": true,
   "skip_h1_title": false,
   "title_cell": "Table of Contents",
   "title_sidebar": "Contents",
   "toc_cell": false,
   "toc_position": {
    "height": "calc(100% - 180px)",
    "left": "10px",
    "top": "150px",
    "width": "188.667px"
   },
   "toc_section_display": true,
   "toc_window_display": true
  },
  "varInspector": {
   "cols": {
    "lenName": 16,
    "lenType": 16,
    "lenVar": 40
   },
   "kernels_config": {
    "python": {
     "delete_cmd_postfix": "",
     "delete_cmd_prefix": "del ",
     "library": "var_list.py",
     "varRefreshCmd": "print(var_dic_list())"
    },
    "r": {
     "delete_cmd_postfix": ") ",
     "delete_cmd_prefix": "rm(",
     "library": "var_list.r",
     "varRefreshCmd": "cat(var_dic_list()) "
    }
   },
   "types_to_exclude": [
    "module",
    "function",
    "builtin_function_or_method",
    "instance",
    "_Feature"
   ],
   "window_display": false
  }
 },
 "nbformat": 4,
 "nbformat_minor": 5
}
