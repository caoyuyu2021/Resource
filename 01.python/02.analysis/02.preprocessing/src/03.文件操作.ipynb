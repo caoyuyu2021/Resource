{
 "cells": [
  {
   "cell_type": "markdown",
   "id": "14b6654f-ec80-447c-bc58-16eeae34e16f",
   "metadata": {},
   "source": [
    "# duckdb读数"
   ]
  },
  {
   "cell_type": "code",
   "execution_count": 1,
   "id": "303d943f",
   "metadata": {
    "ExecuteTime": {
     "end_time": "2024-01-23T09:55:22.743374Z",
     "start_time": "2024-01-23T09:55:17.894209Z"
    }
   },
   "outputs": [],
   "source": [
    "import pandas as pd\n",
    "import duckdb"
   ]
  },
  {
   "cell_type": "markdown",
   "id": "1172ba70",
   "metadata": {},
   "source": [
    "duckdb可以读取的文件格式：CSV Files、Parquet Files、HTTP(S), S3 and GCP、JSON Files、Excel Files with the Spatial Extension、Querying Other Database Systems"
   ]
  },
  {
   "cell_type": "code",
   "execution_count": 2,
   "id": "355fe478",
   "metadata": {
    "ExecuteTime": {
     "end_time": "2024-01-23T09:55:40.259342Z",
     "start_time": "2024-01-23T09:55:40.213177Z"
    },
    "scrolled": true
   },
   "outputs": [],
   "source": [
    "path = \"../data/AirPassengers.csv\"  # 可以读取其他格式的数据\n",
    "query = f\"\"\"\n",
    "SELECT DISTINCT Month FROM \\'{path}\\'\n",
    "ORDER BY Month\n",
    "LIMIT 10\n",
    "\"\"\"\n",
    "result = duckdb.sql(query).df()  # 读取数据并转为Dataframe"
   ]
  },
  {
   "cell_type": "code",
   "execution_count": null,
   "id": "4d6d373f",
   "metadata": {
    "ExecuteTime": {
     "end_time": "2024-01-23T09:55:49.198932Z",
     "start_time": "2024-01-23T09:55:49.198932Z"
    }
   },
   "outputs": [],
   "source": [
    "result.to_parquet(\"../data/AirPassengers.parquet\")"
   ]
  },
  {
   "cell_type": "markdown",
   "id": "e6617c29-ad14-4889-8c51-070da5017cf9",
   "metadata": {},
   "source": [
    "# matlab读数"
   ]
  },
  {
   "cell_type": "code",
   "execution_count": 2,
   "id": "7f044155-ce7f-4651-add6-7ce412c6881f",
   "metadata": {
    "execution": {
     "iopub.execute_input": "2024-04-26T06:54:21.436878Z",
     "iopub.status.busy": "2024-04-26T06:54:21.436204Z",
     "iopub.status.idle": "2024-04-26T06:54:21.463611Z",
     "shell.execute_reply": "2024-04-26T06:54:21.462280Z",
     "shell.execute_reply.started": "2024-04-26T06:54:21.436878Z"
    }
   },
   "outputs": [],
   "source": [
    "import scipy.io as scio \n",
    "path = \"../data/data2.mat\"\n",
    "data = scio.loadmat(path)"
   ]
  },
  {
   "cell_type": "code",
   "execution_count": 3,
   "id": "a723dfe8-32a7-4b69-9cfd-d508b3c4b28b",
   "metadata": {
    "execution": {
     "iopub.execute_input": "2024-04-26T06:54:37.435984Z",
     "iopub.status.busy": "2024-04-26T06:54:37.435984Z",
     "iopub.status.idle": "2024-04-26T06:54:37.458868Z",
     "shell.execute_reply": "2024-04-26T06:54:37.457990Z",
     "shell.execute_reply.started": "2024-04-26T06:54:37.435984Z"
    }
   },
   "outputs": [
    {
     "data": {
      "text/plain": [
       "{'__header__': b'MATLAB 5.0 MAT-file, Platform: PCWIN, Created on: Sun Oct 25 16:29:54 2009',\n",
       " '__version__': '1.0',\n",
       " '__globals__': [],\n",
       " 'data': array([[0.1291, 0.4842, 0.7976],\n",
       "        [0.1084, 0.4579, 0.8187],\n",
       "        [0.1828, 0.7977, 0.743 ],\n",
       "        [0.122 , 0.5468, 0.8048],\n",
       "        [0.113 , 0.3636, 0.814 ],\n",
       "        [0.1719, 0.6011, 0.754 ],\n",
       "        [0.1237, 0.4425, 0.8031],\n",
       "        [0.1721, 0.6152, 0.7626],\n",
       "        [0.1432, 0.5845, 0.7942]])}"
      ]
     },
     "execution_count": 3,
     "metadata": {},
     "output_type": "execute_result"
    }
   ],
   "source": [
    "data"
   ]
  },
  {
   "cell_type": "markdown",
   "id": "2c8a234c-609c-4436-9e0f-9e0768bcb9aa",
   "metadata": {},
   "source": [
    "# parquet读数"
   ]
  },
  {
   "cell_type": "code",
   "execution_count": 1,
   "id": "9d40894e-ec16-43f9-8b4b-481c6a81e36f",
   "metadata": {
    "ExecuteTime": {
     "end_time": "2024-08-08T01:54:31.161638Z",
     "start_time": "2024-08-08T01:54:30.288643Z"
    },
    "execution": {
     "iopub.execute_input": "2024-04-26T06:55:41.223736Z",
     "iopub.status.busy": "2024-04-26T06:55:41.220729Z",
     "iopub.status.idle": "2024-04-26T06:55:42.078353Z",
     "shell.execute_reply": "2024-04-26T06:55:42.077367Z",
     "shell.execute_reply.started": "2024-04-26T06:55:41.223736Z"
    }
   },
   "outputs": [],
   "source": [
    "import pandas as pd\n",
    "\n",
    "df = pd.read_parquet('../data/AirPassengers.parquet')"
   ]
  },
  {
   "cell_type": "code",
   "execution_count": 2,
   "id": "29dc9678",
   "metadata": {
    "ExecuteTime": {
     "end_time": "2024-08-08T01:54:36.684369Z",
     "start_time": "2024-08-08T01:54:36.670074Z"
    }
   },
   "outputs": [
    {
     "data": {
      "text/html": [
       "<div>\n",
       "<style scoped>\n",
       "    .dataframe tbody tr th:only-of-type {\n",
       "        vertical-align: middle;\n",
       "    }\n",
       "\n",
       "    .dataframe tbody tr th {\n",
       "        vertical-align: top;\n",
       "    }\n",
       "\n",
       "    .dataframe thead th {\n",
       "        text-align: right;\n",
       "    }\n",
       "</style>\n",
       "<table border=\"1\" class=\"dataframe\">\n",
       "  <thead>\n",
       "    <tr style=\"text-align: right;\">\n",
       "      <th></th>\n",
       "      <th>Month</th>\n",
       "    </tr>\n",
       "  </thead>\n",
       "  <tbody>\n",
       "    <tr>\n",
       "      <th>0</th>\n",
       "      <td>1949-01</td>\n",
       "    </tr>\n",
       "    <tr>\n",
       "      <th>1</th>\n",
       "      <td>1949-02</td>\n",
       "    </tr>\n",
       "    <tr>\n",
       "      <th>2</th>\n",
       "      <td>1949-03</td>\n",
       "    </tr>\n",
       "    <tr>\n",
       "      <th>3</th>\n",
       "      <td>1949-04</td>\n",
       "    </tr>\n",
       "    <tr>\n",
       "      <th>4</th>\n",
       "      <td>1949-05</td>\n",
       "    </tr>\n",
       "    <tr>\n",
       "      <th>5</th>\n",
       "      <td>1949-06</td>\n",
       "    </tr>\n",
       "    <tr>\n",
       "      <th>6</th>\n",
       "      <td>1949-07</td>\n",
       "    </tr>\n",
       "    <tr>\n",
       "      <th>7</th>\n",
       "      <td>1949-08</td>\n",
       "    </tr>\n",
       "    <tr>\n",
       "      <th>8</th>\n",
       "      <td>1949-09</td>\n",
       "    </tr>\n",
       "    <tr>\n",
       "      <th>9</th>\n",
       "      <td>1949-10</td>\n",
       "    </tr>\n",
       "  </tbody>\n",
       "</table>\n",
       "</div>"
      ],
      "text/plain": [
       "     Month\n",
       "0  1949-01\n",
       "1  1949-02\n",
       "2  1949-03\n",
       "3  1949-04\n",
       "4  1949-05\n",
       "5  1949-06\n",
       "6  1949-07\n",
       "7  1949-08\n",
       "8  1949-09\n",
       "9  1949-10"
      ]
     },
     "execution_count": 2,
     "metadata": {},
     "output_type": "execute_result"
    }
   ],
   "source": [
    "df"
   ]
  },
  {
   "cell_type": "code",
   "execution_count": 5,
   "id": "94810aef-e836-4f53-91e8-28b29dd53c55",
   "metadata": {
    "execution": {
     "iopub.execute_input": "2024-04-26T06:55:51.948029Z",
     "iopub.status.busy": "2024-04-26T06:55:51.945047Z",
     "iopub.status.idle": "2024-04-26T06:55:51.981580Z",
     "shell.execute_reply": "2024-04-26T06:55:51.980614Z",
     "shell.execute_reply.started": "2024-04-26T06:55:51.948029Z"
    }
   },
   "outputs": [],
   "source": [
    "import pyarrow.parquet as parquet\n",
    "\n",
    "table = parquet.read_table('../data/AirPassengers.parquet')\n",
    "df = table.to_pandas()"
   ]
  },
  {
   "cell_type": "code",
   "execution_count": 8,
   "id": "92412d66-8e36-4207-bd9f-7553d5a8266f",
   "metadata": {
    "execution": {
     "iopub.execute_input": "2024-04-26T06:56:33.404422Z",
     "iopub.status.busy": "2024-04-26T06:56:33.403879Z",
     "iopub.status.idle": "2024-04-26T06:56:33.419523Z",
     "shell.execute_reply": "2024-04-26T06:56:33.418628Z",
     "shell.execute_reply.started": "2024-04-26T06:56:33.404422Z"
    }
   },
   "outputs": [],
   "source": [
    "import pandas as pd\n",
    "# 读取部分列\n",
    "df = pd.read_parquet('../data/AirPassengers.parquet', columns=['Month'])"
   ]
  },
  {
   "cell_type": "code",
   "execution_count": 9,
   "id": "960f33ee-0ebe-4d8a-ac90-ada246868764",
   "metadata": {
    "execution": {
     "iopub.execute_input": "2024-04-26T06:56:34.069599Z",
     "iopub.status.busy": "2024-04-26T06:56:34.068601Z",
     "iopub.status.idle": "2024-04-26T06:56:34.102868Z",
     "shell.execute_reply": "2024-04-26T06:56:34.101036Z",
     "shell.execute_reply.started": "2024-04-26T06:56:34.069599Z"
    }
   },
   "outputs": [],
   "source": [
    "import pyarrow.parquet as parquet\n",
    "# 读取部分列\n",
    "table = parquet.read_table('../data/AirPassengers.parquet', columns=['Month'])\n",
    "df = table.to_pandas()"
   ]
  },
  {
   "cell_type": "markdown",
   "id": "179cd41b",
   "metadata": {},
   "source": [
    "# python读数"
   ]
  },
  {
   "cell_type": "markdown",
   "id": "860a6fab",
   "metadata": {},
   "source": [
    "## 实时向csv文件写入数据"
   ]
  },
  {
   "cell_type": "markdown",
   "id": "2a656897",
   "metadata": {},
   "source": [
    "最常用的一种方法，利用pandas包"
   ]
  },
  {
   "cell_type": "code",
   "execution_count": null,
   "id": "33786066",
   "metadata": {},
   "outputs": [],
   "source": [
    "import pandas as pd\n",
    "import os\n",
    "\n",
    "#任意的多组列表\n",
    "a = [1,2,3]\n",
    "b = [4,5,6]    \n",
    "\n",
    "#字典中的key值即为csv中列名\n",
    "dataframe = pd.DataFrame({'a_name':a,'b_name':b})\n",
    "\n",
    "#将DataFrame存储为csv,index表示是否显示行名，default=True，\"a\"表示导入的数据不会将test3.csv文件中的原始数据覆盖\n",
    "dataframe.to_csv(\"test.csv\", mode='a', index=False,sep=',')\n",
    "\n",
    "#同样pandas也提供简单的读csv方法，会得到一个DataFrame类型的data\n",
    "data = pd.read_csv('test.csv')\n",
    "print(data)\n",
    "\n",
    "os.remove(\"test.csv\")"
   ]
  },
  {
   "cell_type": "markdown",
   "id": "74042dec",
   "metadata": {},
   "source": [
    "另一种方法用csv包，一行一行写入"
   ]
  },
  {
   "cell_type": "code",
   "execution_count": null,
   "id": "143a568a",
   "metadata": {},
   "outputs": [],
   "source": [
    "import csv\n",
    "\n",
    "with open(\"test3.csv\",\"a\",newline='') as csvfile: \n",
    "    writer = csv.writer(csvfile, delimiter=' ')\n",
    "    writer.writerow([\"index\",\"a_name\",\"b_name\"])"
   ]
  },
  {
   "cell_type": "markdown",
   "id": "db7c3c09",
   "metadata": {},
   "source": [
    "上述代码参数解释：\n",
    "\n",
    "​ test3.csv表示要创建一个test3.csv的文件，注意:如果当前目录下没有这个文件，则会自动生成test3.csv文件，如果当前目录下已经有了test3.csv的文件，那么在新建结束后，会将原始的test3.csv文件覆盖。\n",
    "\n",
    "​ \"a\"表示导入的数据不会将test3.csv文件中的原始数据覆盖，即：在后面继续添加，如果需要覆盖，则将\"a\"改成\"w\"即可。\n",
    "\n",
    "​ newline=’ ’ 表示不会以空行作为每一行的分割线，注意:这一行代码必须添加上，否则csv文件中的每一行数据的前面会出现空行。"
   ]
  },
  {
   "cell_type": "code",
   "execution_count": null,
   "id": "ffee923c",
   "metadata": {},
   "outputs": [],
   "source": [
    "list1=[0,0,0]\n",
    "list2=[1,1,1]\n",
    "\n",
    "data_array=[[5,5,5],[1,2,3]]\n",
    "with open(\"test3.csv\",\"a\",newline='') as csvfile: \n",
    "    writer = csv.writer(csvfile)\n",
    "    # 多行写入用writerows\n",
    "    writer.writerows(data_array)\n",
    "\n",
    "    # 单行逐个写入用 writerow\n",
    "#     writer.writerow(list1)\n",
    "#     writer.writerow(list2)\n",
    "    \n",
    "    # 执行添加数据操作之后，要写close关闭，否则下次无法再次插入新的数据\n",
    "    csvfile.close()"
   ]
  },
  {
   "cell_type": "markdown",
   "id": "8e30f15c",
   "metadata": {},
   "source": [
    " 实时写入数据时，有可能是逐个写入，也可能是一次性写入多个数据。多行写入用writerows，\n",
    "\n",
    "单行逐个写入用 writerow，根据需求调整。close()这行代码一定要加上，否则下次无法再次插入新的数据。"
   ]
  },
  {
   "cell_type": "code",
   "execution_count": null,
   "id": "3b13902c",
   "metadata": {},
   "outputs": [],
   "source": [
    "list1=[0,0,0]\n",
    "list2=[1,1,1]\n",
    "\n",
    "data_array=[[5,5,5],[1,2,3]]\n",
    "with open(\"test3.csv\",\"a\",newline='') as csvfile: \n",
    "    writer = csv.writer(csvfile)\n",
    "    # 写入多行用writerows\n",
    "#     writer.writerows(data_array)\n",
    "\n",
    "#     写入单行用 writerow\n",
    "    writer.writerow(list1)\n",
    "    writer.writerow(list2)\n",
    "    \n",
    "    # 执行添加数据操作之后，要写close关闭，否则下次无法再次插入新的数据\n",
    "    csvfile.close()"
   ]
  },
  {
   "cell_type": "code",
   "execution_count": null,
   "id": "37d01ee2",
   "metadata": {},
   "outputs": [],
   "source": [
    "import csv\n",
    "with open(\"test3.csv\",\"r\") as csvfile:\n",
    "    reader = csv.reader(csvfile)\n",
    "    #这里不需要readlines\n",
    "    for line in reader:\n",
    "        print(line)\n",
    "        \n",
    "os.remove(\"test3.csv\")"
   ]
  },
  {
   "cell_type": "markdown",
   "id": "a7b91f6f",
   "metadata": {},
   "source": [
    "## 实时向txt文件写入数据"
   ]
  },
  {
   "cell_type": "markdown",
   "id": "87730611",
   "metadata": {},
   "source": [
    "实时向txt文件写入内容的过程，与创建csv文件，实时向文件写入内容大致相同，只需要添加一个换行符就行。"
   ]
  },
  {
   "cell_type": "code",
   "execution_count": null,
   "id": "cb398dfc",
   "metadata": {},
   "outputs": [],
   "source": [
    "with open ('testing.txt','a') as f:\n",
    "    f.write('%s       %s      %s'%('姓名','国籍','金额'))"
   ]
  },
  {
   "cell_type": "markdown",
   "id": "d846201d",
   "metadata": {},
   "source": [
    "再次向txt文件中写入数据："
   ]
  },
  {
   "cell_type": "code",
   "execution_count": null,
   "id": "975acd4e",
   "metadata": {},
   "outputs": [],
   "source": [
    "with open ('testing.txt','a') as f:   \n",
    "    f.write('\\n')     #换行\n",
    "    f.write('%s       %s      %d' %('张三','中国',2000))"
   ]
  },
  {
   "cell_type": "code",
   "execution_count": null,
   "id": "34851cb3",
   "metadata": {},
   "outputs": [],
   "source": [
    "with open(\"testing.txt\",\"r\") as testfile:\n",
    "    reader = csv.reader(testfile)\n",
    "    #这里不需要readlines\n",
    "    for line in reader:\n",
    "        print(line)\n",
    "        \n",
    "os.remove(\"testing.txt\")"
   ]
  }
 ],
 "metadata": {
  "hide_input": false,
  "kernelspec": {
   "display_name": "Python 3 (ipykernel)",
   "language": "python",
   "name": "python3"
  },
  "language_info": {
   "codemirror_mode": {
    "name": "ipython",
    "version": 3
   },
   "file_extension": ".py",
   "mimetype": "text/x-python",
   "name": "python",
   "nbconvert_exporter": "python",
   "pygments_lexer": "ipython3",
   "version": "3.11.5"
  },
  "toc": {
   "base_numbering": 1,
   "nav_menu": {},
   "number_sections": true,
   "sideBar": true,
   "skip_h1_title": false,
   "title_cell": "Table of Contents",
   "title_sidebar": "Contents",
   "toc_cell": false,
   "toc_position": {
    "height": "calc(100% - 180px)",
    "left": "10px",
    "top": "150px",
    "width": "229.66px"
   },
   "toc_section_display": true,
   "toc_window_display": true
  },
  "varInspector": {
   "cols": {
    "lenName": 16,
    "lenType": 16,
    "lenVar": 40
   },
   "kernels_config": {
    "python": {
     "delete_cmd_postfix": "",
     "delete_cmd_prefix": "del ",
     "library": "var_list.py",
     "varRefreshCmd": "print(var_dic_list())"
    },
    "r": {
     "delete_cmd_postfix": ") ",
     "delete_cmd_prefix": "rm(",
     "library": "var_list.r",
     "varRefreshCmd": "cat(var_dic_list()) "
    }
   },
   "types_to_exclude": [
    "module",
    "function",
    "builtin_function_or_method",
    "instance",
    "_Feature"
   ],
   "window_display": false
  }
 },
 "nbformat": 4,
 "nbformat_minor": 5
}
