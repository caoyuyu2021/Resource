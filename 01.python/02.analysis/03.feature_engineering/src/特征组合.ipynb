{
 "cells": [
  {
   "cell_type": "markdown",
   "id": "54490638-8d52-43bc-82a9-230bbb930c0b",
   "metadata": {},
   "source": [
    "# 特征乘积"
   ]
  },
  {
   "cell_type": "code",
   "execution_count": 5,
   "id": "7e9d7758-4202-4d09-816a-63d75120225d",
   "metadata": {
    "execution": {
     "iopub.execute_input": "2024-04-26T06:10:59.184793Z",
     "iopub.status.busy": "2024-04-26T06:10:59.182568Z",
     "iopub.status.idle": "2024-04-26T06:10:59.206080Z",
     "shell.execute_reply": "2024-04-26T06:10:59.204081Z",
     "shell.execute_reply.started": "2024-04-26T06:10:59.184725Z"
    }
   },
   "outputs": [],
   "source": [
    "import numpy as np\n",
    "# 分箱\n",
    "bins = np.linspace(-3, 3, 11)\n",
    "x = np.array([-3.5, -1.2, -2.3, -0.6, 0, 1.2, 0.6, 2.4, 4.5])\n",
    "which_bin = np.digitize(x, bins=bins)\n",
    "\n",
    "x_combine = x*which_bin"
   ]
  },
  {
   "cell_type": "code",
   "execution_count": 6,
   "id": "a9f98c84-d0cd-401f-aa88-556512113fda",
   "metadata": {
    "execution": {
     "iopub.execute_input": "2024-04-26T06:11:00.254536Z",
     "iopub.status.busy": "2024-04-26T06:11:00.252538Z",
     "iopub.status.idle": "2024-04-26T06:11:00.266207Z",
     "shell.execute_reply": "2024-04-26T06:11:00.264669Z",
     "shell.execute_reply.started": "2024-04-26T06:11:00.253930Z"
    }
   },
   "outputs": [
    {
     "data": {
      "text/plain": [
       "array([-0. , -4.8, -4.6, -3. ,  0. ,  8.4,  4.2, 24. , 49.5])"
      ]
     },
     "execution_count": 6,
     "metadata": {},
     "output_type": "execute_result"
    }
   ],
   "source": [
    "x_combine"
   ]
  },
  {
   "cell_type": "markdown",
   "id": "f25c512d",
   "metadata": {},
   "source": [
    "# 特征交叉"
   ]
  },
  {
   "cell_type": "code",
   "execution_count": null,
   "id": "cfcbbda6",
   "metadata": {},
   "outputs": [],
   "source": []
  },
  {
   "cell_type": "code",
   "execution_count": null,
   "id": "97bd4024",
   "metadata": {},
   "outputs": [],
   "source": []
  },
  {
   "cell_type": "markdown",
   "id": "fcbf0f1d",
   "metadata": {},
   "source": [
    "# 多项式特征"
   ]
  },
  {
   "cell_type": "markdown",
   "id": "b6902560",
   "metadata": {},
   "source": [
    "sklearn.preprocessing.PolynomialFeatures"
   ]
  },
  {
   "cell_type": "code",
   "execution_count": null,
   "id": "9fe6aff2",
   "metadata": {},
   "outputs": [],
   "source": []
  }
 ],
 "metadata": {
  "hide_input": false,
  "kernelspec": {
   "display_name": "Python 3 (ipykernel)",
   "language": "python",
   "name": "python3"
  },
  "language_info": {
   "codemirror_mode": {
    "name": "ipython",
    "version": 3
   },
   "file_extension": ".py",
   "mimetype": "text/x-python",
   "name": "python",
   "nbconvert_exporter": "python",
   "pygments_lexer": "ipython3",
   "version": "3.11.5"
  },
  "toc": {
   "base_numbering": 1,
   "nav_menu": {},
   "number_sections": true,
   "sideBar": true,
   "skip_h1_title": false,
   "title_cell": "Table of Contents",
   "title_sidebar": "Contents",
   "toc_cell": false,
   "toc_position": {},
   "toc_section_display": true,
   "toc_window_display": false
  },
  "varInspector": {
   "cols": {
    "lenName": 16,
    "lenType": 16,
    "lenVar": 40
   },
   "kernels_config": {
    "python": {
     "delete_cmd_postfix": "",
     "delete_cmd_prefix": "del ",
     "library": "var_list.py",
     "varRefreshCmd": "print(var_dic_list())"
    },
    "r": {
     "delete_cmd_postfix": ") ",
     "delete_cmd_prefix": "rm(",
     "library": "var_list.r",
     "varRefreshCmd": "cat(var_dic_list()) "
    }
   },
   "types_to_exclude": [
    "module",
    "function",
    "builtin_function_or_method",
    "instance",
    "_Feature"
   ],
   "window_display": false
  }
 },
 "nbformat": 4,
 "nbformat_minor": 5
}
