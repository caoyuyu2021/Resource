{
 "cells": [
  {
   "cell_type": "markdown",
   "id": "926a5d68-06fc-46d7-8645-dede7e540b1a",
   "metadata": {},
   "source": [
    "# 过滤式特征选择"
   ]
  },
  {
   "cell_type": "markdown",
   "id": "60f57d75-3b31-491e-bccd-e2ee4667b192",
   "metadata": {},
   "source": [
    "过滤式特征选择即单变量选择法，单变量选择法的主要思路是根据某些统计检验的方法分别对每个变量进行检验，得到一组分数、p-value数据，然后我们排序选择分数最高(或p-value最小等)的那些特征。"
   ]
  },
  {
   "cell_type": "code",
   "execution_count": 8,
   "id": "ed478bc5-c5a8-4200-83c6-016b4b1d8bb5",
   "metadata": {
    "execution": {
     "iopub.execute_input": "2024-04-25T11:28:30.265811Z",
     "iopub.status.busy": "2024-04-25T11:28:30.264204Z",
     "iopub.status.idle": "2024-04-25T11:28:30.283097Z",
     "shell.execute_reply": "2024-04-25T11:28:30.278144Z",
     "shell.execute_reply.started": "2024-04-25T11:28:30.265811Z"
    }
   },
   "outputs": [],
   "source": [
    "from sklearn.model_selection import train_test_split\n",
    "import pandas as pd"
   ]
  },
  {
   "cell_type": "code",
   "execution_count": 9,
   "id": "9d240e83-8a1c-40ed-a657-fbad4d008ea9",
   "metadata": {
    "execution": {
     "iopub.execute_input": "2024-04-25T11:28:30.907217Z",
     "iopub.status.busy": "2024-04-25T11:28:30.906006Z",
     "iopub.status.idle": "2024-04-25T11:28:30.948485Z",
     "shell.execute_reply": "2024-04-25T11:28:30.947121Z",
     "shell.execute_reply.started": "2024-04-25T11:28:30.907217Z"
    }
   },
   "outputs": [
    {
     "name": "stdout",
     "output_type": "stream",
     "text": [
      "       0      1       2       3        4        5       6        7       8  \\\n",
      "0  17.99  10.38  122.80  1001.0  0.11840  0.27760  0.3001  0.14710  0.2419   \n",
      "1  20.57  17.77  132.90  1326.0  0.08474  0.07864  0.0869  0.07017  0.1812   \n",
      "2  19.69  21.25  130.00  1203.0  0.10960  0.15990  0.1974  0.12790  0.2069   \n",
      "3  11.42  20.38   77.58   386.1  0.14250  0.28390  0.2414  0.10520  0.2597   \n",
      "4  20.29  14.34  135.10  1297.0  0.10030  0.13280  0.1980  0.10430  0.1809   \n",
      "\n",
      "         9  ...     21      22      23      24      25      26      27  \\\n",
      "0  0.07871  ...  17.33  184.60  2019.0  0.1622  0.6656  0.7119  0.2654   \n",
      "1  0.05667  ...  23.41  158.80  1956.0  0.1238  0.1866  0.2416  0.1860   \n",
      "2  0.05999  ...  25.53  152.50  1709.0  0.1444  0.4245  0.4504  0.2430   \n",
      "3  0.09744  ...  26.50   98.87   567.7  0.2098  0.8663  0.6869  0.2575   \n",
      "4  0.05883  ...  16.67  152.20  1575.0  0.1374  0.2050  0.4000  0.1625   \n",
      "\n",
      "       28       29  label  \n",
      "0  0.4601  0.11890      0  \n",
      "1  0.2750  0.08902      0  \n",
      "2  0.3613  0.08758      0  \n",
      "3  0.6638  0.17300      0  \n",
      "4  0.2364  0.07678      0  \n",
      "\n",
      "[5 rows x 31 columns]\n"
     ]
    }
   ],
   "source": [
    "#读取数据\n",
    "data = pd.read_csv(\"../data/breast_cancer.csv\")\n",
    "print(data.head())\n",
    "\n",
    "#准备数据\n",
    "data = data.dropna()\n",
    "y = data['label']\n",
    "x = data.drop(['label'],axis=1).astype('float64')\n",
    "\n",
    "# 训练集、测试集划分\n",
    "x_train,x_test,y_train,y_test = train_test_split(x,y,test_size=0.25,random_state= 42)"
   ]
  },
  {
   "cell_type": "markdown",
   "id": "b1bcfdb2-d0d4-4bfa-bed1-a925bff805b6",
   "metadata": {},
   "source": [
    "## SelectPercentile"
   ]
  },
  {
   "cell_type": "code",
   "execution_count": 10,
   "id": "e186a5cf-249d-4f38-bb98-672f6d3be026",
   "metadata": {
    "execution": {
     "iopub.execute_input": "2024-04-25T11:28:32.470882Z",
     "iopub.status.busy": "2024-04-25T11:28:32.468889Z",
     "iopub.status.idle": "2024-04-25T11:28:32.502235Z",
     "shell.execute_reply": "2024-04-25T11:28:32.497293Z",
     "shell.execute_reply.started": "2024-04-25T11:28:32.470882Z"
    }
   },
   "outputs": [],
   "source": [
    "from sklearn.feature_selection import SelectPercentile"
   ]
  },
  {
   "cell_type": "markdown",
   "id": "52befd81-2128-4a0c-8fec-ae959b220319",
   "metadata": {},
   "source": [
    "SelectPercentile在给定一个0到1之间的百分比x%的情况下，选择最好的x%的特征。比如10个特征，前20%的特征就是最好的两个特征，以此类推。"
   ]
  },
  {
   "cell_type": "code",
   "execution_count": 11,
   "id": "4686b4eb-2b7d-487c-92dc-d853d3fe9724",
   "metadata": {
    "execution": {
     "iopub.execute_input": "2024-04-25T11:28:33.427068Z",
     "iopub.status.busy": "2024-04-25T11:28:33.425964Z",
     "iopub.status.idle": "2024-04-25T11:28:33.466352Z",
     "shell.execute_reply": "2024-04-25T11:28:33.464893Z",
     "shell.execute_reply.started": "2024-04-25T11:28:33.427068Z"
    }
   },
   "outputs": [
    {
     "data": {
      "text/plain": [
       "(426, 15)"
      ]
     },
     "execution_count": 11,
     "metadata": {},
     "output_type": "execute_result"
    }
   ],
   "source": [
    "# 选择前50%好的特征\n",
    "select = SelectPercentile(percentile=50)\n",
    "select.fit(x_train,y_train)\n",
    "x_train_selected = select.transform(x_train)\n",
    "x_train_selected.shape"
   ]
  },
  {
   "cell_type": "markdown",
   "id": "aba0320e-99b1-4fa4-adc1-babaf42bce0c",
   "metadata": {},
   "source": [
    "# 包裹式特征选择"
   ]
  },
  {
   "cell_type": "markdown",
   "id": "e1044908-142f-4f2b-9654-238f5fa2026e",
   "metadata": {},
   "source": [
    "包裹式选择与过滤式选择不考虑后续学习器不同，直接把最终使用的学习器的性能作为特征子集的评价准则。换言之，包裹式选择的目的就是为给定学习器选择最有利于其性能、“量身定做”的特征子集。"
   ]
  },
  {
   "cell_type": "code",
   "execution_count": null,
   "id": "d6fa4b1e-f8f3-41f8-b9d9-6094f59b92cd",
   "metadata": {},
   "outputs": [],
   "source": []
  },
  {
   "cell_type": "markdown",
   "id": "50b401a0-c479-42bd-b0b0-71b5b146b7a5",
   "metadata": {},
   "source": [
    "# 嵌入式特征选择"
   ]
  },
  {
   "cell_type": "markdown",
   "id": "f94c88cb-4f84-456e-b346-5b1633847904",
   "metadata": {},
   "source": [
    "嵌入式特征选择，就是通过一些特殊的模型拟合数据然后根据模型自身的某些对于特征的评价的属性来作为评价指标，最后再使用包裹式的特征选择方法来选择，当然，很多时候我们还是仅停留在计算出评价指标的阶段，因为包裹式特征选择的最大问题就是计算量和时间是三者之中最大的。\n",
    "\n",
    "最常用的进行嵌入式特征选择的模型：树模型和带正则项的模型（线性回归、逻辑回归、svm、svr、神经网络等）。"
   ]
  },
  {
   "cell_type": "code",
   "execution_count": null,
   "id": "d7731ca8-5d97-4818-acd7-fc3216171a79",
   "metadata": {},
   "outputs": [],
   "source": []
  },
  {
   "cell_type": "code",
   "execution_count": null,
   "id": "5679e6dd-8bee-4990-9124-0b06681ff55d",
   "metadata": {},
   "outputs": [],
   "source": []
  }
 ],
 "metadata": {
  "kernelspec": {
   "display_name": "Python 3 (ipykernel)",
   "language": "python",
   "name": "python3"
  },
  "language_info": {
   "codemirror_mode": {
    "name": "ipython",
    "version": 3
   },
   "file_extension": ".py",
   "mimetype": "text/x-python",
   "name": "python",
   "nbconvert_exporter": "python",
   "pygments_lexer": "ipython3",
   "version": "3.9.18"
  }
 },
 "nbformat": 4,
 "nbformat_minor": 5
}
