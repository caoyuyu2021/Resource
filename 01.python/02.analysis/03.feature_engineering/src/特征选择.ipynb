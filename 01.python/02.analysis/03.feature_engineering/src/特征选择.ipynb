{
 "cells": [
  {
   "cell_type": "markdown",
   "id": "926a5d68-06fc-46d7-8645-dede7e540b1a",
   "metadata": {},
   "source": [
    "# 过滤式特征选择"
   ]
  },
  {
   "cell_type": "markdown",
   "id": "60f57d75-3b31-491e-bccd-e2ee4667b192",
   "metadata": {},
   "source": [
    "过滤式特征选择即单变量选择法，单变量选择法的主要思路是根据某些统计检验的方法分别对每个变量进行检验，得到一组分数、p-value数据，然后我们排序选择分数最高(或p-value最小等)的那些特征。"
   ]
  },
  {
   "cell_type": "code",
   "execution_count": 18,
   "id": "ed478bc5-c5a8-4200-83c6-016b4b1d8bb5",
   "metadata": {
    "execution": {
     "iopub.execute_input": "2024-04-25T12:24:39.512317Z",
     "iopub.status.busy": "2024-04-25T12:24:39.505847Z",
     "iopub.status.idle": "2024-04-25T12:24:40.393387Z",
     "shell.execute_reply": "2024-04-25T12:24:40.389621Z",
     "shell.execute_reply.started": "2024-04-25T12:24:39.511331Z"
    }
   },
   "outputs": [],
   "source": [
    "from sklearn.model_selection import train_test_split\n",
    "import pandas as pd\n",
    "import numpy as np\n",
    "import matplotlib.pyplot as plt"
   ]
  },
  {
   "cell_type": "code",
   "execution_count": 19,
   "id": "9d240e83-8a1c-40ed-a657-fbad4d008ea9",
   "metadata": {
    "execution": {
     "iopub.execute_input": "2024-04-25T12:24:41.029349Z",
     "iopub.status.busy": "2024-04-25T12:24:41.028074Z",
     "iopub.status.idle": "2024-04-25T12:24:41.064972Z",
     "shell.execute_reply": "2024-04-25T12:24:41.064217Z",
     "shell.execute_reply.started": "2024-04-25T12:24:41.029349Z"
    }
   },
   "outputs": [
    {
     "name": "stdout",
     "output_type": "stream",
     "text": [
      "       0      1       2       3        4        5       6        7       8  \\\n",
      "0  17.99  10.38  122.80  1001.0  0.11840  0.27760  0.3001  0.14710  0.2419   \n",
      "1  20.57  17.77  132.90  1326.0  0.08474  0.07864  0.0869  0.07017  0.1812   \n",
      "2  19.69  21.25  130.00  1203.0  0.10960  0.15990  0.1974  0.12790  0.2069   \n",
      "3  11.42  20.38   77.58   386.1  0.14250  0.28390  0.2414  0.10520  0.2597   \n",
      "4  20.29  14.34  135.10  1297.0  0.10030  0.13280  0.1980  0.10430  0.1809   \n",
      "\n",
      "         9  ...     21      22      23      24      25      26      27  \\\n",
      "0  0.07871  ...  17.33  184.60  2019.0  0.1622  0.6656  0.7119  0.2654   \n",
      "1  0.05667  ...  23.41  158.80  1956.0  0.1238  0.1866  0.2416  0.1860   \n",
      "2  0.05999  ...  25.53  152.50  1709.0  0.1444  0.4245  0.4504  0.2430   \n",
      "3  0.09744  ...  26.50   98.87   567.7  0.2098  0.8663  0.6869  0.2575   \n",
      "4  0.05883  ...  16.67  152.20  1575.0  0.1374  0.2050  0.4000  0.1625   \n",
      "\n",
      "       28       29  label  \n",
      "0  0.4601  0.11890      0  \n",
      "1  0.2750  0.08902      0  \n",
      "2  0.3613  0.08758      0  \n",
      "3  0.6638  0.17300      0  \n",
      "4  0.2364  0.07678      0  \n",
      "\n",
      "[5 rows x 31 columns]\n"
     ]
    }
   ],
   "source": [
    "#读取数据\n",
    "data = pd.read_csv(\"../data/breast_cancer.csv\")\n",
    "print(data.head())\n",
    "\n",
    "#准备数据\n",
    "data = data.dropna()\n",
    "y = data['label']\n",
    "x = data.drop(['label'],axis=1).astype('float64')\n",
    "\n",
    "# 训练集、测试集划分\n",
    "x_train,x_test,y_train,y_test = train_test_split(x,y,test_size=0.25,random_state= 42)"
   ]
  },
  {
   "cell_type": "markdown",
   "id": "b1bcfdb2-d0d4-4bfa-bed1-a925bff805b6",
   "metadata": {},
   "source": [
    "## SelectPercentile"
   ]
  },
  {
   "cell_type": "code",
   "execution_count": 27,
   "id": "e186a5cf-249d-4f38-bb98-672f6d3be026",
   "metadata": {
    "execution": {
     "iopub.execute_input": "2024-04-25T12:29:25.622825Z",
     "iopub.status.busy": "2024-04-25T12:29:25.621671Z",
     "iopub.status.idle": "2024-04-25T12:29:25.630944Z",
     "shell.execute_reply": "2024-04-25T12:29:25.628951Z",
     "shell.execute_reply.started": "2024-04-25T12:29:25.622825Z"
    }
   },
   "outputs": [],
   "source": [
    "# f_classif对应分类任务\n",
    "# f_regression对应回归任务\n",
    "from sklearn.feature_selection import SelectPercentile, f_classif, f_regression"
   ]
  },
  {
   "cell_type": "markdown",
   "id": "52befd81-2128-4a0c-8fec-ae959b220319",
   "metadata": {},
   "source": [
    "SelectPercentile在给定一个0到1之间的百分比x%的情况下，选择最好的x%的特征。比如10个特征，前20%的特征就是最好的两个特征，以此类推。"
   ]
  },
  {
   "cell_type": "code",
   "execution_count": 55,
   "id": "4686b4eb-2b7d-487c-92dc-d853d3fe9724",
   "metadata": {
    "execution": {
     "iopub.execute_input": "2024-04-25T12:44:25.898933Z",
     "iopub.status.busy": "2024-04-25T12:44:25.897557Z",
     "iopub.status.idle": "2024-04-25T12:44:25.928826Z",
     "shell.execute_reply": "2024-04-25T12:44:25.927838Z",
     "shell.execute_reply.started": "2024-04-25T12:44:25.898933Z"
    }
   },
   "outputs": [
    {
     "data": {
      "text/plain": [
       "(426, 15)"
      ]
     },
     "execution_count": 55,
     "metadata": {},
     "output_type": "execute_result"
    }
   ],
   "source": [
    "# 选择前50%好的特征\n",
    "selector = SelectPercentile(score_func=f_classif, percentile=50)\n",
    "selector.fit(x_train, y_train)\n",
    "x_train_selected = selector.transform(x_train)\n",
    "x_train_selected.shape"
   ]
  },
  {
   "cell_type": "code",
   "execution_count": 56,
   "id": "36778e56-3225-49d0-81c6-fc61d581f4f9",
   "metadata": {
    "execution": {
     "iopub.execute_input": "2024-04-25T12:44:26.657000Z",
     "iopub.status.busy": "2024-04-25T12:44:26.654812Z",
     "iopub.status.idle": "2024-04-25T12:44:26.678741Z",
     "shell.execute_reply": "2024-04-25T12:44:26.677360Z",
     "shell.execute_reply.started": "2024-04-25T12:44:26.657000Z"
    }
   },
   "outputs": [
    {
     "data": {
      "text/plain": [
       "array(['0', '2', '3', '5', '6', '7', '10', '12', '13', '20', '22', '23',\n",
       "       '25', '26', '27'], dtype=object)"
      ]
     },
     "execution_count": 56,
     "metadata": {},
     "output_type": "execute_result"
    }
   ],
   "source": [
    "# 选择出的特征列\n",
    "selector.get_feature_names_out(selector.feature_names_in_)"
   ]
  },
  {
   "cell_type": "code",
   "execution_count": 57,
   "id": "3ec2adb2-f411-434a-9ae3-07267647312d",
   "metadata": {
    "execution": {
     "iopub.execute_input": "2024-04-25T12:44:34.184302Z",
     "iopub.status.busy": "2024-04-25T12:44:34.183041Z",
     "iopub.status.idle": "2024-04-25T12:44:34.410063Z",
     "shell.execute_reply": "2024-04-25T12:44:34.409306Z",
     "shell.execute_reply.started": "2024-04-25T12:44:34.184302Z"
    }
   },
   "outputs": [
    {
     "data": {
      "image/png": "[encoded data removed]",
      "text/plain": [
       "<Figure size 640x480 with 1 Axes>"
      ]
     },
     "metadata": {},
     "output_type": "display_data"
    }
   ],
   "source": [
    "# 绘制特征选择图\n",
    "plt.figure(1)\n",
    "plt.clf()\n",
    "x_indices = np.arange(x_train.shape[-1])\n",
    "scores = -np.log10(selector.pvalues_)\n",
    "scores /= scores.max()\n",
    "plt.bar(x_indices - .45, scores, width=.2, label=r'Univariate score ($-Log(p_{value})$)')\n",
    "plt.title(\"Feature selection\")\n",
    "plt.xlabel('Feature number')\n",
    "plt.yticks(())\n",
    "plt.axis('tight')\n",
    "plt.legend(loc='upper right')\n",
    "plt.show()"
   ]
  },
  {
   "cell_type": "markdown",
   "id": "4c29ed32-5edf-47e8-8f2e-ec3e2e838420",
   "metadata": {},
   "source": [
    "## SelectKBest"
   ]
  },
  {
   "cell_type": "code",
   "execution_count": 69,
   "id": "fcf001f5-42aa-47b1-9790-6811e658f7c4",
   "metadata": {
    "execution": {
     "iopub.execute_input": "2024-04-25T12:54:22.584047Z",
     "iopub.status.busy": "2024-04-25T12:54:22.581807Z",
     "iopub.status.idle": "2024-04-25T12:54:22.594086Z",
     "shell.execute_reply": "2024-04-25T12:54:22.592658Z",
     "shell.execute_reply.started": "2024-04-25T12:54:22.583040Z"
    }
   },
   "outputs": [],
   "source": [
    "# f_classif对应分类任务\n",
    "# f_regression对应回归任务\n",
    "from sklearn.feature_selection import SelectKBest, f_classif, f_regression"
   ]
  },
  {
   "cell_type": "markdown",
   "id": "61448d39-c839-4c2b-a357-dc5d7a71c4bb",
   "metadata": {},
   "source": [
    "SelectKBest是选取在某种标准下最好的K个特征。"
   ]
  },
  {
   "cell_type": "code",
   "execution_count": 70,
   "id": "2fa6cd26-0f43-4a73-afb2-5811d3a9ec75",
   "metadata": {
    "execution": {
     "iopub.execute_input": "2024-04-25T12:55:26.844333Z",
     "iopub.status.busy": "2024-04-25T12:55:26.841877Z",
     "iopub.status.idle": "2024-04-25T12:55:26.872834Z",
     "shell.execute_reply": "2024-04-25T12:55:26.871705Z",
     "shell.execute_reply.started": "2024-04-25T12:55:26.844333Z"
    }
   },
   "outputs": [
    {
     "data": {
      "text/plain": [
       "(426, 10)"
      ]
     },
     "execution_count": 70,
     "metadata": {},
     "output_type": "execute_result"
    }
   ],
   "source": [
    "# 选择前50%好的特征\n",
    "selector = SelectKBest(score_func=f_classif, k=10)\n",
    "selector.fit(x_train, y_train)\n",
    "x_train_selected = selector.transform(x_train)\n",
    "x_train_selected.shape"
   ]
  },
  {
   "cell_type": "code",
   "execution_count": 71,
   "id": "b24ca1be-351b-436e-8bef-8aa63cc00c26",
   "metadata": {
    "execution": {
     "iopub.execute_input": "2024-04-25T12:55:46.523539Z",
     "iopub.status.busy": "2024-04-25T12:55:46.520032Z",
     "iopub.status.idle": "2024-04-25T12:55:46.549031Z",
     "shell.execute_reply": "2024-04-25T12:55:46.547441Z",
     "shell.execute_reply.started": "2024-04-25T12:55:46.523539Z"
    }
   },
   "outputs": [
    {
     "data": {
      "text/plain": [
       "array(['0', '2', '3', '6', '7', '20', '22', '23', '26', '27'],\n",
       "      dtype=object)"
      ]
     },
     "execution_count": 71,
     "metadata": {},
     "output_type": "execute_result"
    }
   ],
   "source": [
    "# 选择出的特征列\n",
    "selector.get_feature_names_out(selector.feature_names_in_)"
   ]
  },
  {
   "cell_type": "code",
   "execution_count": 72,
   "id": "221cc80d-8f98-4881-b803-43767c0de72c",
   "metadata": {
    "execution": {
     "iopub.execute_input": "2024-04-25T12:55:54.938506Z",
     "iopub.status.busy": "2024-04-25T12:55:54.937574Z",
     "iopub.status.idle": "2024-04-25T12:55:55.148373Z",
     "shell.execute_reply": "2024-04-25T12:55:55.147151Z",
     "shell.execute_reply.started": "2024-04-25T12:55:54.938506Z"
    }
   },
   "outputs": [
    {
     "data": {
      "image/png": "[encoded data removed]",
      "text/plain": [
       "<Figure size 640x480 with 1 Axes>"
      ]
     },
     "metadata": {},
     "output_type": "display_data"
    }
   ],
   "source": [
    "# 绘制特征选择图\n",
    "plt.figure(1)\n",
    "plt.clf()\n",
    "x_indices = np.arange(x_train.shape[-1])\n",
    "scores = -np.log10(selector.pvalues_)\n",
    "scores /= scores.max()\n",
    "plt.bar(x_indices - .45, scores, width=.2, label=r'Univariate score ($-Log(p_{value})$)')\n",
    "plt.title(\"Feature selection\")\n",
    "plt.xlabel('Feature number')\n",
    "plt.yticks(())\n",
    "plt.axis('tight')\n",
    "plt.legend(loc='upper right')\n",
    "plt.show()"
   ]
  },
  {
   "cell_type": "markdown",
   "id": "8dd34e1e-931c-42c5-be20-878724c30d08",
   "metadata": {},
   "source": [
    "## VarianceThreshold"
   ]
  },
  {
   "cell_type": "code",
   "execution_count": 73,
   "id": "0e15c44e-455b-4ec6-9258-e95541b8bcf8",
   "metadata": {
    "execution": {
     "iopub.execute_input": "2024-04-25T12:59:12.863534Z",
     "iopub.status.busy": "2024-04-25T12:59:12.861535Z",
     "iopub.status.idle": "2024-04-25T12:59:12.874125Z",
     "shell.execute_reply": "2024-04-25T12:59:12.872563Z",
     "shell.execute_reply.started": "2024-04-25T12:59:12.863534Z"
    }
   },
   "outputs": [],
   "source": [
    "# 方差阈值法\n",
    "from sklearn.feature_selection import VarianceThreshold"
   ]
  },
  {
   "cell_type": "code",
   "execution_count": 75,
   "id": "e2d454d6-6024-4089-aea9-ae34b73556ee",
   "metadata": {
    "execution": {
     "iopub.execute_input": "2024-04-25T13:00:24.577016Z",
     "iopub.status.busy": "2024-04-25T13:00:24.575599Z",
     "iopub.status.idle": "2024-04-25T13:00:24.596224Z",
     "shell.execute_reply": "2024-04-25T13:00:24.595691Z",
     "shell.execute_reply.started": "2024-04-25T13:00:24.577016Z"
    }
   },
   "outputs": [
    {
     "data": {
      "text/plain": [
       "(426, 10)"
      ]
     },
     "execution_count": 75,
     "metadata": {},
     "output_type": "execute_result"
    }
   ],
   "source": [
    "# 使用VarianceThreshold来过滤掉方差在0.6以下的特征\n",
    "selector = VarianceThreshold(threshold=0.6)\n",
    "selector.fit(x_train, y_train)\n",
    "x_train_selected = selector.transform(x_train)\n",
    "x_train_selected.shape"
   ]
  },
  {
   "cell_type": "code",
   "execution_count": 76,
   "id": "78fea0e8-14fb-4b6f-8d9f-175fbcdf131e",
   "metadata": {
    "execution": {
     "iopub.execute_input": "2024-04-25T13:00:34.684765Z",
     "iopub.status.busy": "2024-04-25T13:00:34.683019Z",
     "iopub.status.idle": "2024-04-25T13:00:34.705799Z",
     "shell.execute_reply": "2024-04-25T13:00:34.704851Z",
     "shell.execute_reply.started": "2024-04-25T13:00:34.684765Z"
    }
   },
   "outputs": [
    {
     "data": {
      "text/plain": [
       "array(['0', '1', '2', '3', '12', '13', '20', '21', '22', '23'],\n",
       "      dtype=object)"
      ]
     },
     "execution_count": 76,
     "metadata": {},
     "output_type": "execute_result"
    }
   ],
   "source": [
    "# 选择出的特征列\n",
    "selector.get_feature_names_out(selector.feature_names_in_)"
   ]
  },
  {
   "cell_type": "markdown",
   "id": "0b993ef2-e84d-4c27-89d7-2358072dd63c",
   "metadata": {},
   "source": [
    "## SelectFpr"
   ]
  },
  {
   "cell_type": "code",
   "execution_count": 77,
   "id": "9ca849bc-2340-42c4-bf6e-dbe74c9c0b3a",
   "metadata": {
    "execution": {
     "iopub.execute_input": "2024-04-25T13:01:42.727238Z",
     "iopub.status.busy": "2024-04-25T13:01:42.724597Z",
     "iopub.status.idle": "2024-04-25T13:01:42.747975Z",
     "shell.execute_reply": "2024-04-25T13:01:42.746975Z",
     "shell.execute_reply.started": "2024-04-25T13:01:42.727238Z"
    }
   },
   "outputs": [],
   "source": [
    "from sklearn.feature_selection import SelectFpr, f_classif, f_regression"
   ]
  },
  {
   "cell_type": "markdown",
   "id": "047b7129-05f0-4b6d-aae6-462cb3f65917",
   "metadata": {},
   "source": [
    "SelectFpr方法则要求对假设检验有一定的认识。这种方法基于FPR测试，即False Positive Rate，其含义为假阳性率，是指被我们预测为正但实际为负的样本的比例，也就是假设检验中的一类错误发生的比例。"
   ]
  },
  {
   "cell_type": "code",
   "execution_count": 85,
   "id": "2f93c838-47fa-4971-ac59-8efdd3673c5e",
   "metadata": {
    "execution": {
     "iopub.execute_input": "2024-04-25T13:04:32.720382Z",
     "iopub.status.busy": "2024-04-25T13:04:32.717958Z",
     "iopub.status.idle": "2024-04-25T13:04:32.753926Z",
     "shell.execute_reply": "2024-04-25T13:04:32.752956Z",
     "shell.execute_reply.started": "2024-04-25T13:04:32.720382Z"
    }
   },
   "outputs": [
    {
     "data": {
      "text/plain": [
       "(426, 25)"
      ]
     },
     "execution_count": 85,
     "metadata": {},
     "output_type": "execute_result"
    }
   ],
   "source": [
    "selector = SelectFpr(score_func=f_classif, alpha=0.1)\n",
    "selector.fit(x_train, y_train)\n",
    "x_train_selected = selector.transform(x_train)\n",
    "x_train_selected.shape"
   ]
  },
  {
   "cell_type": "code",
   "execution_count": 86,
   "id": "0beae573-13ce-4bae-97f5-37a970793991",
   "metadata": {
    "execution": {
     "iopub.execute_input": "2024-04-25T13:04:42.135601Z",
     "iopub.status.busy": "2024-04-25T13:04:42.134603Z",
     "iopub.status.idle": "2024-04-25T13:04:42.158102Z",
     "shell.execute_reply": "2024-04-25T13:04:42.157154Z",
     "shell.execute_reply.started": "2024-04-25T13:04:42.135601Z"
    }
   },
   "outputs": [
    {
     "data": {
      "text/plain": [
       "array(['0', '1', '2', '3', '4', '5', '6', '7', '8', '10', '12', '13',\n",
       "       '15', '16', '17', '20', '21', '22', '23', '24', '25', '26', '27',\n",
       "       '28', '29'], dtype=object)"
      ]
     },
     "execution_count": 86,
     "metadata": {},
     "output_type": "execute_result"
    }
   ],
   "source": [
    "# 选择出的特征列\n",
    "selector.get_feature_names_out(selector.feature_names_in_)"
   ]
  },
  {
   "cell_type": "markdown",
   "id": "071427ae-3acc-4e58-9415-78f8e33e5229",
   "metadata": {},
   "source": [
    "## SelectFdr"
   ]
  },
  {
   "cell_type": "code",
   "execution_count": 87,
   "id": "618293d9-9baa-4e65-940a-80b0d9772b83",
   "metadata": {
    "execution": {
     "iopub.execute_input": "2024-04-25T13:05:28.072951Z",
     "iopub.status.busy": "2024-04-25T13:05:28.067892Z",
     "iopub.status.idle": "2024-04-25T13:05:28.090998Z",
     "shell.execute_reply": "2024-04-25T13:05:28.089462Z",
     "shell.execute_reply.started": "2024-04-25T13:05:28.071943Z"
    }
   },
   "outputs": [],
   "source": [
    "from sklearn.feature_selection import SelectFdr, f_classif, f_regression"
   ]
  },
  {
   "cell_type": "markdown",
   "id": "4831e4fb-daa3-4a99-93aa-cf4889c78676",
   "metadata": {},
   "source": [
    "SelectFdr则是根据错误发现率（FDR，False Discovery Rate）来为特征排序。错误发现率与假阳性率非常相似，但是却有着本质的不同。假阳性率是在所有样本中一类错误发生的概率，而错误发现率则仅仅关注在我们拒绝原假设(预测为正)的样本中，有多大比例是犯了一类错误的（即在\"发现\"的样本里，有多少是错误的\"发现\"）。"
   ]
  },
  {
   "cell_type": "code",
   "execution_count": 90,
   "id": "c68f0a78-37d1-4556-9640-fb10b8e51d80",
   "metadata": {
    "execution": {
     "iopub.execute_input": "2024-04-25T13:07:34.464549Z",
     "iopub.status.busy": "2024-04-25T13:07:34.463553Z",
     "iopub.status.idle": "2024-04-25T13:07:34.480822Z",
     "shell.execute_reply": "2024-04-25T13:07:34.479705Z",
     "shell.execute_reply.started": "2024-04-25T13:07:34.464549Z"
    }
   },
   "outputs": [
    {
     "data": {
      "text/plain": [
       "(426, 25)"
      ]
     },
     "execution_count": 90,
     "metadata": {},
     "output_type": "execute_result"
    }
   ],
   "source": [
    "selector = SelectFdr(score_func=f_classif, alpha=0.00001)\n",
    "selector.fit(x_train, y_train)\n",
    "x_train_selected = selector.transform(x_train)\n",
    "x_train_selected.shape"
   ]
  },
  {
   "cell_type": "code",
   "execution_count": 91,
   "id": "fc80244f-7863-46f6-b6be-5b149307a6fd",
   "metadata": {
    "execution": {
     "iopub.execute_input": "2024-04-25T13:07:35.401933Z",
     "iopub.status.busy": "2024-04-25T13:07:35.399502Z",
     "iopub.status.idle": "2024-04-25T13:07:35.418684Z",
     "shell.execute_reply": "2024-04-25T13:07:35.417546Z",
     "shell.execute_reply.started": "2024-04-25T13:07:35.401933Z"
    }
   },
   "outputs": [
    {
     "data": {
      "text/plain": [
       "array(['0', '1', '2', '3', '4', '5', '6', '7', '8', '10', '12', '13',\n",
       "       '15', '16', '17', '20', '21', '22', '23', '24', '25', '26', '27',\n",
       "       '28', '29'], dtype=object)"
      ]
     },
     "execution_count": 91,
     "metadata": {},
     "output_type": "execute_result"
    }
   ],
   "source": [
    "# 选择出的特征列\n",
    "selector.get_feature_names_out(selector.feature_names_in_)"
   ]
  },
  {
   "cell_type": "markdown",
   "id": "dcc80c45-c575-4f48-b5c9-a444248d4c87",
   "metadata": {},
   "source": [
    "## SelectFwe"
   ]
  },
  {
   "cell_type": "code",
   "execution_count": 92,
   "id": "ce0a00d5-64a9-4ec8-8d92-e59d9590a19a",
   "metadata": {
    "execution": {
     "iopub.execute_input": "2024-04-25T13:08:03.817653Z",
     "iopub.status.busy": "2024-04-25T13:08:03.816655Z",
     "iopub.status.idle": "2024-04-25T13:08:03.828044Z",
     "shell.execute_reply": "2024-04-25T13:08:03.825715Z",
     "shell.execute_reply.started": "2024-04-25T13:08:03.817653Z"
    }
   },
   "outputs": [],
   "source": [
    "from sklearn.feature_selection import SelectFwe, f_classif, f_regression"
   ]
  },
  {
   "cell_type": "markdown",
   "id": "bea5a727-6485-4373-a242-5518e940412e",
   "metadata": {},
   "source": [
    "在多重假设检验中，总体错误率(族系误差率，FWER，family-wise error rate)是另一个常用的错误控制指标，它与FDR的区别在于，FWER是指至少出现一次一类错误的概率，而FDR则是关注预测为正的样本中一类错误发生的比例。"
   ]
  },
  {
   "cell_type": "code",
   "execution_count": 93,
   "id": "cdb11e24-d29a-4766-91f5-1d05efe88e11",
   "metadata": {
    "execution": {
     "iopub.execute_input": "2024-04-25T13:08:17.576153Z",
     "iopub.status.busy": "2024-04-25T13:08:17.573427Z",
     "iopub.status.idle": "2024-04-25T13:08:17.614230Z",
     "shell.execute_reply": "2024-04-25T13:08:17.613201Z",
     "shell.execute_reply.started": "2024-04-25T13:08:17.576153Z"
    }
   },
   "outputs": [
    {
     "data": {
      "text/plain": [
       "(426, 23)"
      ]
     },
     "execution_count": 93,
     "metadata": {},
     "output_type": "execute_result"
    }
   ],
   "source": [
    "selector = SelectFwe(score_func=f_classif, alpha=0.0000001)\n",
    "selector.fit(x_train, y_train)\n",
    "x_train_selected = selector.transform(x_train)\n",
    "x_train_selected.shape"
   ]
  },
  {
   "cell_type": "code",
   "execution_count": 94,
   "id": "b6659453-587f-4399-aa79-1825b21277e5",
   "metadata": {
    "execution": {
     "iopub.execute_input": "2024-04-25T13:08:25.333213Z",
     "iopub.status.busy": "2024-04-25T13:08:25.330340Z",
     "iopub.status.idle": "2024-04-25T13:08:25.351441Z",
     "shell.execute_reply": "2024-04-25T13:08:25.350869Z",
     "shell.execute_reply.started": "2024-04-25T13:08:25.333213Z"
    }
   },
   "outputs": [
    {
     "data": {
      "text/plain": [
       "array(['0', '1', '2', '3', '4', '5', '6', '7', '8', '10', '12', '13',\n",
       "       '17', '20', '21', '22', '23', '24', '25', '26', '27', '28', '29'],\n",
       "      dtype=object)"
      ]
     },
     "execution_count": 94,
     "metadata": {},
     "output_type": "execute_result"
    }
   ],
   "source": [
    "# 选择出的特征列\n",
    "selector.get_feature_names_out(selector.feature_names_in_)"
   ]
  },
  {
   "cell_type": "markdown",
   "id": "c51fb851-88b7-4118-a9be-873f759ab45e",
   "metadata": {},
   "source": [
    "## GenericUnivariateSelect"
   ]
  },
  {
   "cell_type": "code",
   "execution_count": 95,
   "id": "a44a819a-1d1d-40bb-af24-afbfa6de3e90",
   "metadata": {
    "execution": {
     "iopub.execute_input": "2024-04-25T13:09:14.280251Z",
     "iopub.status.busy": "2024-04-25T13:09:14.278518Z",
     "iopub.status.idle": "2024-04-25T13:09:14.293483Z",
     "shell.execute_reply": "2024-04-25T13:09:14.292044Z",
     "shell.execute_reply.started": "2024-04-25T13:09:14.280251Z"
    }
   },
   "outputs": [],
   "source": [
    "from sklearn.feature_selection import GenericUnivariateSelect, f_classif, f_regression"
   ]
  },
  {
   "cell_type": "markdown",
   "id": "280ceb50-7fa3-4a26-a572-aaf5417215b6",
   "metadata": {},
   "source": [
    "这种方法将上述五种方法集成到了一起，然后我们将评分方法、选择方法以参数的形式传递进来即可。"
   ]
  },
  {
   "cell_type": "code",
   "execution_count": 96,
   "id": "e47db773-b52b-42ac-b868-d72011ef6866",
   "metadata": {
    "execution": {
     "iopub.execute_input": "2024-04-25T13:09:41.387493Z",
     "iopub.status.busy": "2024-04-25T13:09:41.384546Z",
     "iopub.status.idle": "2024-04-25T13:09:41.417383Z",
     "shell.execute_reply": "2024-04-25T13:09:41.416042Z",
     "shell.execute_reply.started": "2024-04-25T13:09:41.386442Z"
    }
   },
   "outputs": [
    {
     "data": {
      "text/plain": [
       "(426, 24)"
      ]
     },
     "execution_count": 96,
     "metadata": {},
     "output_type": "execute_result"
    }
   ],
   "source": [
    "selector = GenericUnivariateSelect(score_func=f_classif, mode='fpr', param=0.0000001)\n",
    "selector.fit(x_train, y_train)\n",
    "x_train_selected = selector.transform(x_train)\n",
    "x_train_selected.shape"
   ]
  },
  {
   "cell_type": "code",
   "execution_count": 97,
   "id": "cfba2aed-886d-4693-8aef-0801832cdbea",
   "metadata": {
    "execution": {
     "iopub.execute_input": "2024-04-25T13:09:47.875448Z",
     "iopub.status.busy": "2024-04-25T13:09:47.873385Z",
     "iopub.status.idle": "2024-04-25T13:09:47.910091Z",
     "shell.execute_reply": "2024-04-25T13:09:47.905387Z",
     "shell.execute_reply.started": "2024-04-25T13:09:47.875448Z"
    }
   },
   "outputs": [
    {
     "data": {
      "text/plain": [
       "array(['0', '1', '2', '3', '4', '5', '6', '7', '8', '10', '12', '13',\n",
       "       '15', '17', '20', '21', '22', '23', '24', '25', '26', '27', '28',\n",
       "       '29'], dtype=object)"
      ]
     },
     "execution_count": 97,
     "metadata": {},
     "output_type": "execute_result"
    }
   ],
   "source": [
    "# 选择出的特征列\n",
    "selector.get_feature_names_out(selector.feature_names_in_)"
   ]
  },
  {
   "cell_type": "markdown",
   "id": "aba0320e-99b1-4fa4-adc1-babaf42bce0c",
   "metadata": {},
   "source": [
    "# 包裹式特征选择"
   ]
  },
  {
   "cell_type": "markdown",
   "id": "e1044908-142f-4f2b-9654-238f5fa2026e",
   "metadata": {},
   "source": [
    "包裹式选择与过滤式选择不考虑后续学习器不同，直接把最终使用的学习器的性能作为特征子集的评价准则。换言之，包裹式选择的目的就是为给定学习器选择最有利于其性能、“量身定做”的特征子集。"
   ]
  },
  {
   "cell_type": "markdown",
   "id": "2f7f30f1-2d0a-4166-94d0-bf4c48f40ae6",
   "metadata": {},
   "source": [
    "SelectFromModel将分类模型中的系数向量中各维度值看作对应词语权重，值越小认为词语对分类表征越小，用户设定一个阈值，所有权重小于该阈值的词语都将被移除，从而达到特征选择的目的。因此，如果要使用SelectFromModel类，那么所用分类模型必须具有coef_属性或feature_importances_属性。除了可以指定阈值外，该类还支持用权重均值或权重中值或两者的倍数作为阈值。"
   ]
  },
  {
   "cell_type": "code",
   "execution_count": 41,
   "id": "d6fa4b1e-f8f3-41f8-b9d9-6094f59b92cd",
   "metadata": {
    "execution": {
     "iopub.execute_input": "2024-04-25T12:38:36.275242Z",
     "iopub.status.busy": "2024-04-25T12:38:36.273501Z",
     "iopub.status.idle": "2024-04-25T12:38:36.641582Z",
     "shell.execute_reply": "2024-04-25T12:38:36.640583Z",
     "shell.execute_reply.started": "2024-04-25T12:38:36.274242Z"
    }
   },
   "outputs": [
    {
     "data": {
      "text/plain": [
       "(426, 15)"
      ]
     },
     "execution_count": 41,
     "metadata": {},
     "output_type": "execute_result"
    }
   ],
   "source": [
    "# 基于随机森林的特征选择\n",
    "from sklearn.feature_selection import SelectFromModel  \n",
    "from sklearn.ensemble import RandomForestClassifier\n",
    "selector = SelectFromModel(RandomForestClassifier(\n",
    "    n_estimators=100, random_state=0), threshold=\"median\")\n",
    "selector.fit(x_train, y_train)\n",
    "x_selected = selector.transform(x_train)\n",
    "x_selected.shape"
   ]
  },
  {
   "cell_type": "code",
   "execution_count": 51,
   "id": "9fc8aebe-846e-4b74-abc4-f7c0aeb5f2e0",
   "metadata": {
    "execution": {
     "iopub.execute_input": "2024-04-25T12:43:52.252723Z",
     "iopub.status.busy": "2024-04-25T12:43:52.251884Z",
     "iopub.status.idle": "2024-04-25T12:43:52.301451Z",
     "shell.execute_reply": "2024-04-25T12:43:52.300307Z",
     "shell.execute_reply.started": "2024-04-25T12:43:52.252723Z"
    }
   },
   "outputs": [
    {
     "data": {
      "text/plain": [
       "array(['0', '1', '2', '3', '6', '7', '10', '13', '20', '21', '22', '23',\n",
       "       '25', '26', '27'], dtype=object)"
      ]
     },
     "execution_count": 51,
     "metadata": {},
     "output_type": "execute_result"
    }
   ],
   "source": [
    "# 选择出的特征列\n",
    "selector.get_feature_names_out(selector.feature_names_in_)"
   ]
  },
  {
   "cell_type": "code",
   "execution_count": 52,
   "id": "5aa03380-bd76-4ced-8c35-e07bbb303ac7",
   "metadata": {
    "execution": {
     "iopub.execute_input": "2024-04-25T12:43:53.312531Z",
     "iopub.status.busy": "2024-04-25T12:43:53.311531Z",
     "iopub.status.idle": "2024-04-25T12:43:58.589405Z",
     "shell.execute_reply": "2024-04-25T12:43:58.588182Z",
     "shell.execute_reply.started": "2024-04-25T12:43:53.312531Z"
    }
   },
   "outputs": [
    {
     "data": {
      "text/plain": [
       "(426, 10)"
      ]
     },
     "execution_count": 52,
     "metadata": {},
     "output_type": "execute_result"
    }
   ],
   "source": [
    "# 迭代特征选择\n",
    "from sklearn.feature_selection import RFE  \n",
    "selector = RFE(RandomForestClassifier(n_estimators=100,\n",
    "             random_state=42), n_features_to_select=10)\n",
    "selector.fit(x_train, y_train)\n",
    "x_selected = selector.transform(x_train)\n",
    "x_selected.shape"
   ]
  },
  {
   "cell_type": "code",
   "execution_count": 53,
   "id": "a2784434-5fc0-42c8-bab1-d37aa5a6e055",
   "metadata": {
    "execution": {
     "iopub.execute_input": "2024-04-25T12:44:11.358576Z",
     "iopub.status.busy": "2024-04-25T12:44:11.356822Z",
     "iopub.status.idle": "2024-04-25T12:44:11.375079Z",
     "shell.execute_reply": "2024-04-25T12:44:11.373796Z",
     "shell.execute_reply.started": "2024-04-25T12:44:11.357575Z"
    }
   },
   "outputs": [
    {
     "data": {
      "text/plain": [
       "array(['2', '3', '6', '7', '20', '21', '22', '23', '26', '27'],\n",
       "      dtype=object)"
      ]
     },
     "execution_count": 53,
     "metadata": {},
     "output_type": "execute_result"
    }
   ],
   "source": [
    "# 选择出的特征列\n",
    "selector.get_feature_names_out(selector.feature_names_in_)"
   ]
  },
  {
   "cell_type": "code",
   "execution_count": 61,
   "id": "5343a887-0064-4a0f-a92b-c2008bf300de",
   "metadata": {
    "execution": {
     "iopub.execute_input": "2024-04-25T12:48:19.292036Z",
     "iopub.status.busy": "2024-04-25T12:48:19.285685Z",
     "iopub.status.idle": "2024-04-25T12:48:19.489281Z",
     "shell.execute_reply": "2024-04-25T12:48:19.488281Z",
     "shell.execute_reply.started": "2024-04-25T12:48:19.292036Z"
    }
   },
   "outputs": [
    {
     "data": {
      "image/png": "[encoded data removed]",
      "text/plain": [
       "<Figure size 640x480 with 1 Axes>"
      ]
     },
     "metadata": {},
     "output_type": "display_data"
    }
   ],
   "source": [
    "# 绘制特征选择图\n",
    "plt.figure(1)\n",
    "plt.clf()\n",
    "x_indices = np.arange(x_train.shape[-1])\n",
    "scores = -np.log10(selector.pvalues_)\n",
    "scores /= scores.max()\n",
    "plt.bar(x_indices - .45, scores, width=.2, label=r'Univariate score ($-Log(p_{value})$)')\n",
    "plt.title(\"Feature selection\")\n",
    "plt.xlabel('Feature number')\n",
    "plt.yticks(())\n",
    "plt.axis('tight')\n",
    "plt.legend(loc='upper right')\n",
    "plt.show()"
   ]
  },
  {
   "cell_type": "markdown",
   "id": "50b401a0-c479-42bd-b0b0-71b5b146b7a5",
   "metadata": {},
   "source": [
    "# 嵌入式特征选择"
   ]
  },
  {
   "cell_type": "markdown",
   "id": "f94c88cb-4f84-456e-b346-5b1633847904",
   "metadata": {},
   "source": [
    "嵌入式特征选择，就是通过一些特殊的模型拟合数据然后根据模型自身的某些对于特征的评价的属性来作为评价指标，最后再使用包裹式的特征选择方法来选择，当然，很多时候我们还是仅停留在计算出评价指标的阶段，因为包裹式特征选择的最大问题就是计算量和时间是三者之中最大的。\n",
    "\n",
    "最常用的进行嵌入式特征选择的模型：树模型和带正则项的模型（线性回归、逻辑回归、svm、svr、神经网络等）。"
   ]
  },
  {
   "cell_type": "code",
   "execution_count": 58,
   "id": "d7731ca8-5d97-4818-acd7-fc3216171a79",
   "metadata": {
    "execution": {
     "iopub.execute_input": "2024-04-25T12:46:48.375798Z",
     "iopub.status.busy": "2024-04-25T12:46:48.374798Z",
     "iopub.status.idle": "2024-04-25T12:46:54.499382Z",
     "shell.execute_reply": "2024-04-25T12:46:54.499382Z",
     "shell.execute_reply.started": "2024-04-25T12:46:48.375798Z"
    }
   },
   "outputs": [
    {
     "name": "stdout",
     "output_type": "stream",
     "text": [
      "RandomForest params: RandomForestClassifier(max_depth=10, n_estimators=50, random_state=0)\n"
     ]
    }
   ],
   "source": [
    "# 随机森林的特征重要性\n",
    "from sklearn.ensemble import RandomForestClassifier\n",
    "from sklearn.model_selection import GridSearchCV\n",
    "\n",
    "model = RandomForestClassifier(random_state = 0)\n",
    "param_grid = {'max_depth': [5, 10, 15], 'n_estimators': [10, 50, 100]}\n",
    "\n",
    "# GridSearchCV优化参数、训练模型\n",
    "gsearch = GridSearchCV(model, param_grid)\n",
    "model = gsearch.fit(x_train, y_train)\n",
    "\n",
    "# 打印最优结果\n",
    "print('RandomForest params:', model.best_estimator_)"
   ]
  },
  {
   "cell_type": "code",
   "execution_count": 59,
   "id": "5679e6dd-8bee-4990-9124-0b06681ff55d",
   "metadata": {
    "execution": {
     "iopub.execute_input": "2024-04-25T12:47:03.941017Z",
     "iopub.status.busy": "2024-04-25T12:47:03.937534Z",
     "iopub.status.idle": "2024-04-25T12:47:04.130408Z",
     "shell.execute_reply": "2024-04-25T12:47:04.130090Z",
     "shell.execute_reply.started": "2024-04-25T12:47:03.941017Z"
    }
   },
   "outputs": [
    {
     "data": {
      "text/plain": [
       "array([0.030437  , 0.01271943, 0.02963404, 0.04373559, 0.00283017,\n",
       "       0.0024759 , 0.05222278, 0.09263968, 0.00318368, 0.00400532,\n",
       "       0.03272393, 0.00565687, 0.01554212, 0.03770175, 0.00268446,\n",
       "       0.00659989, 0.00399327, 0.00603836, 0.00497851, 0.00635845,\n",
       "       0.09732282, 0.0192155 , 0.11589386, 0.06164254, 0.01439712,\n",
       "       0.01640329, 0.02810356, 0.2283326 , 0.0116641 , 0.01086343])"
      ]
     },
     "execution_count": 59,
     "metadata": {},
     "output_type": "execute_result"
    }
   ],
   "source": [
    "forest = RandomForestClassifier(max_depth=10, n_estimators=50, random_state=0)\n",
    "forest.fit(x_train, y_train)\n",
    "forest.feature_importances_ # 特征重要性"
   ]
  },
  {
   "cell_type": "code",
   "execution_count": 60,
   "id": "11f41243-5f35-48cc-b6c6-c2516e5ac5c3",
   "metadata": {
    "execution": {
     "iopub.execute_input": "2024-04-25T12:47:07.094654Z",
     "iopub.status.busy": "2024-04-25T12:47:07.093222Z",
     "iopub.status.idle": "2024-04-25T12:47:07.429525Z",
     "shell.execute_reply": "2024-04-25T12:47:07.428120Z",
     "shell.execute_reply.started": "2024-04-25T12:47:07.094654Z"
    }
   },
   "outputs": [
    {
     "data": {
      "text/plain": [
       "Text(0, 0.5, 'Feature')"
      ]
     },
     "execution_count": 60,
     "metadata": {},
     "output_type": "execute_result"
    },
    {
     "data": {
      "image/png": "[encoded data removed]",
      "text/plain": [
       "<Figure size 640x480 with 1 Axes>"
      ]
     },
     "metadata": {},
     "output_type": "display_data"
    }
   ],
   "source": [
    "can = {n:v for n,v in zip(data.columns,forest.feature_importances_)}\n",
    "plt.barh(list(can.keys()),list(can.values()),align = 'center')\n",
    "plt.xlabel(\"Feature Importances\")\n",
    "plt.ylabel(\"Feature\")"
   ]
  },
  {
   "cell_type": "code",
   "execution_count": 68,
   "id": "766b8e1f-c4de-4a57-8ee5-da241fd6bf2f",
   "metadata": {
    "execution": {
     "iopub.execute_input": "2024-04-25T12:53:03.446435Z",
     "iopub.status.busy": "2024-04-25T12:53:03.442745Z",
     "iopub.status.idle": "2024-04-25T12:53:03.482445Z",
     "shell.execute_reply": "2024-04-25T12:53:03.481402Z",
     "shell.execute_reply.started": "2024-04-25T12:53:03.445428Z"
    }
   },
   "outputs": [
    {
     "data": {
      "text/plain": [
       "array([27, 22, 20,  7, 23,  6,  3, 13, 10,  0], dtype=int64)"
      ]
     },
     "execution_count": 68,
     "metadata": {},
     "output_type": "execute_result"
    }
   ],
   "source": [
    "# 特征重要性最大的前10个\n",
    "feature_importances = forest.feature_importances_ \n",
    "np.argsort(-feature_importances)[:10]"
   ]
  },
  {
   "cell_type": "code",
   "execution_count": null,
   "id": "bf32c0b1-e4a2-4a18-bc35-b46a0996477b",
   "metadata": {},
   "outputs": [],
   "source": []
  }
 ],
 "metadata": {
  "kernelspec": {
   "display_name": "Python 3 (ipykernel)",
   "language": "python",
   "name": "python3"
  },
  "language_info": {
   "codemirror_mode": {
    "name": "ipython",
    "version": 3
   },
   "file_extension": ".py",
   "mimetype": "text/x-python",
   "name": "python",
   "nbconvert_exporter": "python",
   "pygments_lexer": "ipython3",
   "version": "3.9.18"
  }
 },
 "nbformat": 4,
 "nbformat_minor": 5
}
