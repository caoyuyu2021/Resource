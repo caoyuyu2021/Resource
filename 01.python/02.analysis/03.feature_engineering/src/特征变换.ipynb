{
 "cells": [
  {
   "cell_type": "markdown",
   "id": "7b05b75e-3d60-4926-8db7-7f7f63df3aa3",
   "metadata": {},
   "source": [
    "# One-Hot编码"
   ]
  },
  {
   "cell_type": "code",
   "execution_count": 3,
   "id": "04930b28-d516-43cc-a49f-eb3e3c9a08c6",
   "metadata": {
    "execution": {
     "iopub.execute_input": "2024-04-25T11:20:33.858400Z",
     "iopub.status.busy": "2024-04-25T11:20:33.854781Z",
     "iopub.status.idle": "2024-04-25T11:20:33.891512Z",
     "shell.execute_reply": "2024-04-25T11:20:33.890523Z",
     "shell.execute_reply.started": "2024-04-25T11:20:33.857770Z"
    }
   },
   "outputs": [
    {
     "data": {
      "text/plain": [
       "array([[0., 1., 0.],\n",
       "       [1., 0., 0.],\n",
       "       [0., 0., 1.],\n",
       "       [0., 1., 0.]])"
      ]
     },
     "execution_count": 3,
     "metadata": {},
     "output_type": "execute_result"
    }
   ],
   "source": [
    "from sklearn.preprocessing import LabelEncoder, OneHotEncoder\n",
    "\n",
    "one_feature = ['b', 'a', 'c', 'b']\n",
    "label_encoder = LabelEncoder()\n",
    "feature = label_encoder.fit_transform(one_feature)\n",
    "onehot_encoder = OneHotEncoder(sparse_output=False)\n",
    "onehot_encoder.fit_transform(feature.reshape(-1, 1))"
   ]
  },
  {
   "cell_type": "code",
   "execution_count": null,
   "id": "a4b836a5-2635-48e1-a79a-457dd2bc2faa",
   "metadata": {},
   "outputs": [],
   "source": []
  }
 ],
 "metadata": {
  "kernelspec": {
   "display_name": "Python 3 (ipykernel)",
   "language": "python",
   "name": "python3"
  },
  "language_info": {
   "codemirror_mode": {
    "name": "ipython",
    "version": 3
   },
   "file_extension": ".py",
   "mimetype": "text/x-python",
   "name": "python",
   "nbconvert_exporter": "python",
   "pygments_lexer": "ipython3",
   "version": "3.9.18"
  }
 },
 "nbformat": 4,
 "nbformat_minor": 5
}
