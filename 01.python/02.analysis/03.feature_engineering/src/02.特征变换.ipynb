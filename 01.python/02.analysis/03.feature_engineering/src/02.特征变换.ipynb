{
 "cells": [
  {
   "cell_type": "markdown",
   "id": "1e7e96d1-e77b-46b5-92c4-842b60ac8f7f",
   "metadata": {},
   "source": [
    "# 类别特征处理"
   ]
  },
  {
   "cell_type": "markdown",
   "id": "7fe7bc52-c622-4adc-bc77-eb0ae048fc04",
   "metadata": {},
   "source": [
    "类别特征由于没有顺序也没有尺度，因此处理较为麻烦，但是在CTR等领域却是非常常见的特征。比如商品的类型，颜色，用户的职业，兴趣等等。类别变量编码方法中最常使用的就是One-Hot编码，接下来结合具体实例来介绍。"
   ]
  },
  {
   "cell_type": "markdown",
   "id": "7b05b75e-3d60-4926-8db7-7f7f63df3aa3",
   "metadata": {},
   "source": [
    "## One-Hot编码"
   ]
  },
  {
   "cell_type": "code",
   "execution_count": 3,
   "id": "04930b28-d516-43cc-a49f-eb3e3c9a08c6",
   "metadata": {
    "execution": {
     "iopub.execute_input": "2024-04-25T11:20:33.858400Z",
     "iopub.status.busy": "2024-04-25T11:20:33.854781Z",
     "iopub.status.idle": "2024-04-25T11:20:33.891512Z",
     "shell.execute_reply": "2024-04-25T11:20:33.890523Z",
     "shell.execute_reply.started": "2024-04-25T11:20:33.857770Z"
    }
   },
   "outputs": [
    {
     "data": {
      "text/plain": [
       "array([[0., 1., 0.],\n",
       "       [1., 0., 0.],\n",
       "       [0., 0., 1.],\n",
       "       [0., 1., 0.]])"
      ]
     },
     "execution_count": 3,
     "metadata": {},
     "output_type": "execute_result"
    }
   ],
   "source": [
    "from sklearn.preprocessing import LabelEncoder, OneHotEncoder\n",
    "\n",
    "one_feature = ['b', 'a', 'c', 'b']\n",
    "label_encoder = LabelEncoder()\n",
    "feature = label_encoder.fit_transform(one_feature)\n",
    "onehot_encoder = OneHotEncoder(sparse_output=False)\n",
    "onehot_encoder.fit_transform(feature.reshape(-1, 1))"
   ]
  },
  {
   "cell_type": "markdown",
   "id": "def4467f-c913-485e-9602-e65ba91d6100",
   "metadata": {},
   "source": [
    "## LabelBinarizer"
   ]
  },
  {
   "cell_type": "code",
   "execution_count": 2,
   "id": "f4811e2a-d3aa-4faa-ac67-a6b8df3e45aa",
   "metadata": {
    "execution": {
     "iopub.execute_input": "2024-04-26T03:19:22.631987Z",
     "iopub.status.busy": "2024-04-26T03:19:22.630988Z",
     "iopub.status.idle": "2024-04-26T03:19:22.661149Z",
     "shell.execute_reply": "2024-04-26T03:19:22.660397Z",
     "shell.execute_reply.started": "2024-04-26T03:19:22.631987Z"
    }
   },
   "outputs": [
    {
     "data": {
      "text/plain": [
       "array([[0, 1, 0],\n",
       "       [1, 0, 0],\n",
       "       [0, 0, 1]])"
      ]
     },
     "execution_count": 2,
     "metadata": {},
     "output_type": "execute_result"
    }
   ],
   "source": [
    "from sklearn.preprocessing import LabelBinarizer\n",
    "import numpy as np\n",
    "feature = np.array(['b', 'a', 'c'])\n",
    "LabelBinarizer().fit_transform(feature)"
   ]
  },
  {
   "cell_type": "markdown",
   "id": "38bc9011-960e-4089-a4de-2a359698087c",
   "metadata": {},
   "source": [
    "## 虚拟编码Dummy Coding"
   ]
  },
  {
   "cell_type": "code",
   "execution_count": 4,
   "id": "4dff183b-5a56-4cdf-978f-bc82566b89a4",
   "metadata": {
    "execution": {
     "iopub.execute_input": "2024-04-26T03:20:10.320950Z",
     "iopub.status.busy": "2024-04-26T03:20:10.319353Z",
     "iopub.status.idle": "2024-04-26T03:20:10.820492Z",
     "shell.execute_reply": "2024-04-26T03:20:10.819291Z",
     "shell.execute_reply.started": "2024-04-26T03:20:10.320950Z"
    }
   },
   "outputs": [
    {
     "data": {
      "text/html": [
       "<div>\n",
       "<style scoped>\n",
       "    .dataframe tbody tr th:only-of-type {\n",
       "        vertical-align: middle;\n",
       "    }\n",
       "\n",
       "    .dataframe tbody tr th {\n",
       "        vertical-align: top;\n",
       "    }\n",
       "\n",
       "    .dataframe thead th {\n",
       "        text-align: right;\n",
       "    }\n",
       "</style>\n",
       "<table border=\"1\" class=\"dataframe\">\n",
       "  <thead>\n",
       "    <tr style=\"text-align: right;\">\n",
       "      <th></th>\n",
       "      <th>test_a</th>\n",
       "      <th>test_b</th>\n",
       "      <th>test_c</th>\n",
       "    </tr>\n",
       "  </thead>\n",
       "  <tbody>\n",
       "    <tr>\n",
       "      <th>0</th>\n",
       "      <td>False</td>\n",
       "      <td>True</td>\n",
       "      <td>False</td>\n",
       "    </tr>\n",
       "    <tr>\n",
       "      <th>1</th>\n",
       "      <td>True</td>\n",
       "      <td>False</td>\n",
       "      <td>False</td>\n",
       "    </tr>\n",
       "    <tr>\n",
       "      <th>2</th>\n",
       "      <td>False</td>\n",
       "      <td>False</td>\n",
       "      <td>True</td>\n",
       "    </tr>\n",
       "  </tbody>\n",
       "</table>\n",
       "</div>"
      ],
      "text/plain": [
       "   test_a  test_b  test_c\n",
       "0   False    True   False\n",
       "1    True   False   False\n",
       "2   False   False    True"
      ]
     },
     "execution_count": 4,
     "metadata": {},
     "output_type": "execute_result"
    }
   ],
   "source": [
    "import pandas as pd\n",
    "one_feature = ['b', 'a', 'c']\n",
    "pd.get_dummies(one_feature, prefix='test') # 设置前缀test"
   ]
  },
  {
   "cell_type": "code",
   "execution_count": 5,
   "id": "383317a1-07b9-4f51-8350-4f56f1ddcef5",
   "metadata": {
    "execution": {
     "iopub.execute_input": "2024-04-26T03:20:39.300151Z",
     "iopub.status.busy": "2024-04-26T03:20:39.298153Z",
     "iopub.status.idle": "2024-04-26T03:20:39.332145Z",
     "shell.execute_reply": "2024-04-26T03:20:39.331179Z",
     "shell.execute_reply.started": "2024-04-26T03:20:39.299287Z"
    }
   },
   "outputs": [
    {
     "data": {
      "text/html": [
       "<div>\n",
       "<style scoped>\n",
       "    .dataframe tbody tr th:only-of-type {\n",
       "        vertical-align: middle;\n",
       "    }\n",
       "\n",
       "    .dataframe tbody tr th {\n",
       "        vertical-align: top;\n",
       "    }\n",
       "\n",
       "    .dataframe thead th {\n",
       "        text-align: right;\n",
       "    }\n",
       "</style>\n",
       "<table border=\"1\" class=\"dataframe\">\n",
       "  <thead>\n",
       "    <tr style=\"text-align: right;\">\n",
       "      <th></th>\n",
       "      <th>test_b</th>\n",
       "      <th>test_c</th>\n",
       "    </tr>\n",
       "  </thead>\n",
       "  <tbody>\n",
       "    <tr>\n",
       "      <th>0</th>\n",
       "      <td>True</td>\n",
       "      <td>False</td>\n",
       "    </tr>\n",
       "    <tr>\n",
       "      <th>1</th>\n",
       "      <td>False</td>\n",
       "      <td>False</td>\n",
       "    </tr>\n",
       "    <tr>\n",
       "      <th>2</th>\n",
       "      <td>False</td>\n",
       "      <td>True</td>\n",
       "    </tr>\n",
       "  </tbody>\n",
       "</table>\n",
       "</div>"
      ],
      "text/plain": [
       "   test_b  test_c\n",
       "0    True   False\n",
       "1   False   False\n",
       "2   False    True"
      ]
     },
     "execution_count": 5,
     "metadata": {},
     "output_type": "execute_result"
    }
   ],
   "source": [
    "one_feature = ['b', 'a', 'c']\n",
    "pd.get_dummies(one_feature, prefix='test', drop_first=True) # 设置前缀test"
   ]
  },
  {
   "cell_type": "markdown",
   "id": "0a332442-8db0-416d-b669-6d0c8722a2af",
   "metadata": {},
   "source": [
    "## 特征哈希"
   ]
  },
  {
   "cell_type": "markdown",
   "id": "1a291a55-d9f5-462f-80a5-866799ef5b82",
   "metadata": {},
   "source": [
    "按照上述编码方式，如果某个特征具有100个类别值，那么经过编码后将产生100个或99个新特征，这极大地增加了特征维度和特征的稀疏度，同时还可能会出现内存不足的情况。sklearn中的FeatureHasher接口采用了hash的方法，将不同的值映射到用户指定长度的数组中，使得输出特征的维度是固定的，该方法占用内存少，效率高，可以在多类别变量值中使用，但是由于采用了Hash函数的方式，所以具有冲突的可能，即不同的类别值可能映射到同一个特征变量值中。"
   ]
  },
  {
   "cell_type": "code",
   "execution_count": 18,
   "id": "6b4821e0-adda-4434-b73f-323a79b4dce0",
   "metadata": {
    "execution": {
     "iopub.execute_input": "2024-04-26T03:37:04.735016Z",
     "iopub.status.busy": "2024-04-26T03:37:04.731977Z",
     "iopub.status.idle": "2024-04-26T03:37:04.783438Z",
     "shell.execute_reply": "2024-04-26T03:37:04.781384Z",
     "shell.execute_reply.started": "2024-04-26T03:37:04.735016Z"
    }
   },
   "outputs": [
    {
     "data": {
      "text/plain": [
       "array([[ 1.,  0.,  0.,  0.,  0.],\n",
       "       [ 0., -1.,  0.,  0.,  0.],\n",
       "       [ 0.,  0., -1.,  0.,  0.],\n",
       "       [ 0.,  0.,  0.,  0.,  1.],\n",
       "       [ 0.,  0.,  0.,  0.,  1.],\n",
       "       [ 0.,  0.,  0.,  1.,  0.],\n",
       "       [ 0.,  0., -1.,  0.,  0.],\n",
       "       [-1.,  0.,  0.,  0.,  0.],\n",
       "       [ 0., -1.,  0.,  0.,  0.],\n",
       "       [ 0., -1.,  0.,  0.,  0.],\n",
       "       [ 1.,  0.,  0.,  0.,  0.],\n",
       "       [ 0., -1.,  0.,  0.,  0.]])"
      ]
     },
     "execution_count": 18,
     "metadata": {},
     "output_type": "execute_result"
    }
   ],
   "source": [
    "from sklearn.feature_extraction import FeatureHasher\n",
    "\n",
    "h = FeatureHasher(n_features=5, input_type='string')\n",
    "test_cat = np.array(['a','b','c','d','e','f','g','h','i','j','a','b']).reshape(-1, 1)\n",
    "f = h.transform(test_cat).toarray()\n",
    "f"
   ]
  },
  {
   "cell_type": "code",
   "execution_count": null,
   "id": "b4a8269d-76b5-4bf9-b44c-2872843d1a6b",
   "metadata": {},
   "outputs": [],
   "source": []
  },
  {
   "cell_type": "markdown",
   "id": "bfe9b4d6-9e7f-4eac-b55b-6fa6af82b763",
   "metadata": {},
   "source": [
    "# 序数特征处理"
   ]
  },
  {
   "cell_type": "markdown",
   "id": "daca8056-89b9-4b63-a349-a93cf327e74d",
   "metadata": {
    "jp-MarkdownHeadingCollapsed": true
   },
   "source": [
    "序数特征指的是有序但无尺度的特征。比如表示‘学历’的特征，'高中'、'本科'、'硕士'，这些特征彼此之间是有顺序关系的，但是特征本身无尺度，并且也可能不是数值类型。在实际应用中，一般是字符类型居多，为了将其转换成模型能处理的形式，通常需要先进行编码，比如LabelEncoding。如果序数特征本身就是数值类型变量，则可不进行该步骤。下面依次介绍序数特征相关的处理方式。"
   ]
  },
  {
   "cell_type": "markdown",
   "id": "eb748770-384b-4d81-9a4f-75ec66218946",
   "metadata": {},
   "source": [
    "## Label Encoding"
   ]
  },
  {
   "cell_type": "markdown",
   "id": "c1c0267b-6715-41cf-8e97-40680f562f0c",
   "metadata": {},
   "source": [
    "Label Encoding编码方式，该方式默认从0开始，按照变量字符顺序排序，例子如下："
   ]
  },
  {
   "cell_type": "code",
   "execution_count": 20,
   "id": "ca92aba7-85d9-42d1-8a21-9fd5b3d96a47",
   "metadata": {
    "execution": {
     "iopub.execute_input": "2024-04-26T03:42:23.521644Z",
     "iopub.status.busy": "2024-04-26T03:42:23.518649Z",
     "iopub.status.idle": "2024-04-26T03:42:23.542723Z",
     "shell.execute_reply": "2024-04-26T03:42:23.541792Z",
     "shell.execute_reply.started": "2024-04-26T03:42:23.521644Z"
    }
   },
   "outputs": [
    {
     "data": {
      "text/plain": [
       "array([0, 1, 0, 2, 1], dtype=int64)"
      ]
     },
     "execution_count": 20,
     "metadata": {},
     "output_type": "execute_result"
    }
   ],
   "source": [
    "from sklearn.preprocessing import LabelEncoder\n",
    "\n",
    "x = ['a', 'b', 'a', 'c', 'b']\n",
    "\n",
    "encoder = LabelEncoder()\n",
    "x1 = encoder.fit_transform(x)\n",
    "x1"
   ]
  },
  {
   "cell_type": "code",
   "execution_count": 21,
   "id": "cc84d223-0054-42c5-a97d-bec80e848347",
   "metadata": {
    "execution": {
     "iopub.execute_input": "2024-04-26T03:42:46.006506Z",
     "iopub.status.busy": "2024-04-26T03:42:46.004524Z",
     "iopub.status.idle": "2024-04-26T03:42:46.032282Z",
     "shell.execute_reply": "2024-04-26T03:42:46.030352Z",
     "shell.execute_reply.started": "2024-04-26T03:42:46.006506Z"
    }
   },
   "outputs": [
    {
     "data": {
      "text/plain": [
       "array([0, 1, 0, 2, 1], dtype=int8)"
      ]
     },
     "execution_count": 21,
     "metadata": {},
     "output_type": "execute_result"
    }
   ],
   "source": [
    "import pandas as pd\n",
    "\n",
    "x2 = pd.Series(x).astype('category')\n",
    "x2.cat.codes.values"
   ]
  },
  {
   "cell_type": "markdown",
   "id": "52375970-11e5-4a1e-b618-b559cd18eefe",
   "metadata": {},
   "source": [
    "## 二值化"
   ]
  },
  {
   "cell_type": "code",
   "execution_count": 22,
   "id": "9ea81bad-e8b9-4442-a84b-318a51013a53",
   "metadata": {
    "execution": {
     "iopub.execute_input": "2024-04-26T03:44:43.605788Z",
     "iopub.status.busy": "2024-04-26T03:44:43.602900Z",
     "iopub.status.idle": "2024-04-26T03:44:43.629120Z",
     "shell.execute_reply": "2024-04-26T03:44:43.627462Z",
     "shell.execute_reply.started": "2024-04-26T03:44:43.605788Z"
    }
   },
   "outputs": [
    {
     "data": {
      "text/plain": [
       "array([0, 1, 0, 1, 1])"
      ]
     },
     "execution_count": 22,
     "metadata": {},
     "output_type": "execute_result"
    }
   ],
   "source": [
    "x = ['a', 'b', 'a', 'c', 'b']\n",
    "x4 = pd.Series(x)\n",
    "x4 = (x4 >= 'b').astype(int) #令大于等于'b'的都为1\n",
    "x4.values"
   ]
  },
  {
   "cell_type": "markdown",
   "id": "162acf43-8064-4d17-9acc-61ab0753e6fd",
   "metadata": {},
   "source": [
    "# 连续特征处理"
   ]
  },
  {
   "cell_type": "markdown",
   "id": "0e0b0b3a-b69c-4810-b643-6008ba313e5c",
   "metadata": {},
   "source": [
    "## 分箱离散化"
   ]
  },
  {
   "cell_type": "code",
   "execution_count": 23,
   "id": "de7fcf54-95de-47a3-ad79-14e41cba2e8f",
   "metadata": {
    "execution": {
     "iopub.execute_input": "2024-04-26T05:57:51.024720Z",
     "iopub.status.busy": "2024-04-26T05:57:51.023722Z",
     "iopub.status.idle": "2024-04-26T05:57:51.044260Z",
     "shell.execute_reply": "2024-04-26T05:57:51.042351Z",
     "shell.execute_reply.started": "2024-04-26T05:57:51.024720Z"
    }
   },
   "outputs": [],
   "source": [
    "import numpy as np"
   ]
  },
  {
   "cell_type": "code",
   "execution_count": 24,
   "id": "d6823991-8b5f-4eb0-ab9a-18ecb8e98541",
   "metadata": {
    "execution": {
     "iopub.execute_input": "2024-04-26T05:58:25.106583Z",
     "iopub.status.busy": "2024-04-26T05:58:25.105520Z",
     "iopub.status.idle": "2024-04-26T05:58:25.130526Z",
     "shell.execute_reply": "2024-04-26T05:58:25.129523Z",
     "shell.execute_reply.started": "2024-04-26T05:58:25.106583Z"
    }
   },
   "outputs": [
    {
     "data": {
      "text/plain": [
       "array([-3. , -2.4, -1.8, -1.2, -0.6,  0. ,  0.6,  1.2,  1.8,  2.4,  3. ])"
      ]
     },
     "execution_count": 24,
     "metadata": {},
     "output_type": "execute_result"
    }
   ],
   "source": [
    "bins = np.linspace(-3, 3, 11)\n",
    "bins"
   ]
  },
  {
   "cell_type": "code",
   "execution_count": 29,
   "id": "660c4aa6-58a4-4c82-8a8c-1fe1ef76c2b0",
   "metadata": {
    "execution": {
     "iopub.execute_input": "2024-04-26T06:02:38.533176Z",
     "iopub.status.busy": "2024-04-26T06:02:38.532210Z",
     "iopub.status.idle": "2024-04-26T06:02:38.556230Z",
     "shell.execute_reply": "2024-04-26T06:02:38.554924Z",
     "shell.execute_reply.started": "2024-04-26T06:02:38.533176Z"
    }
   },
   "outputs": [
    {
     "data": {
      "text/plain": [
       "array([ 0,  4,  2,  5,  6,  7,  7, 10, 11], dtype=int64)"
      ]
     },
     "execution_count": 29,
     "metadata": {},
     "output_type": "execute_result"
    }
   ],
   "source": [
    "x = np.array([-3.5, -1.2, -2.3, -0.6, 0, 1.2, 0.6, 2.4, 4.5])\n",
    "which_bin = np.digitize(x, bins=bins)\n",
    "which_bin"
   ]
  },
  {
   "cell_type": "code",
   "execution_count": null,
   "id": "25fc4a05-e4d7-4f5b-a143-e27b12d4137f",
   "metadata": {},
   "outputs": [],
   "source": []
  }
 ],
 "metadata": {
  "kernelspec": {
   "display_name": "Python 3 (ipykernel)",
   "language": "python",
   "name": "python3"
  },
  "language_info": {
   "codemirror_mode": {
    "name": "ipython",
    "version": 3
   },
   "file_extension": ".py",
   "mimetype": "text/x-python",
   "name": "python",
   "nbconvert_exporter": "python",
   "pygments_lexer": "ipython3",
   "version": "3.9.18"
  }
 },
 "nbformat": 4,
 "nbformat_minor": 5
}
