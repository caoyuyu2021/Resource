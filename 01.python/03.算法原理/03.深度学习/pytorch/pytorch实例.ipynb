{
 "cells": [
  {
   "cell_type": "markdown",
   "id": "00882202",
   "metadata": {},
   "source": [
    "# iris案例"
   ]
  },
  {
   "cell_type": "markdown",
   "id": "b363baa0",
   "metadata": {},
   "source": [
    "## 自定义数据集"
   ]
  },
  {
   "cell_type": "markdown",
   "id": "5a9ae87d",
   "metadata": {},
   "source": [
    "我们经常可以看到Pytorch加载数据集会用到官方整理好的数据集。很多时候我们需要加载自己的数据集，这时候我们需要使用Dataset和DataLoader\n",
    "- Dataset：是被封装进DataLoader里，实现该方法封装自己的数据和标签。\n",
    "- DataLoader：被封装入DataLoaderIter里，实现该方法达到数据的划分。"
   ]
  },
  {
   "cell_type": "markdown",
   "id": "2b8ee4b1",
   "metadata": {},
   "source": [
    "### 加载iris数据集"
   ]
  },
  {
   "cell_type": "code",
   "execution_count": 1,
   "id": "3a422b46",
   "metadata": {
    "ExecuteTime": {
     "end_time": "2023-12-08T02:38:44.187110Z",
     "start_time": "2023-12-08T02:38:38.859482Z"
    }
   },
   "outputs": [],
   "source": [
    "import torch\n",
    "import torch.nn as nn\n",
    "import pandas as pd\n",
    "import numpy as np\n",
    "from torch.utils.data import DataLoader"
   ]
  },
  {
   "cell_type": "code",
   "execution_count": 2,
   "id": "90015f17",
   "metadata": {
    "ExecuteTime": {
     "end_time": "2023-12-07T08:14:03.587260Z",
     "start_time": "2023-12-07T08:14:03.577489Z"
    }
   },
   "outputs": [],
   "source": [
    "iris = pd.read_csv(\"D:\\\\Jupyter notebook\\\\data\\\\iris_dataset\\\\iris.csv\",header=None)"
   ]
  },
  {
   "cell_type": "code",
   "execution_count": 3,
   "id": "f0d6abfc",
   "metadata": {
    "ExecuteTime": {
     "end_time": "2023-12-07T08:14:04.578012Z",
     "start_time": "2023-12-07T08:14:04.560436Z"
    }
   },
   "outputs": [
    {
     "data": {
      "text/html": [
       "<div>\n",
       "<style scoped>\n",
       "    .dataframe tbody tr th:only-of-type {\n",
       "        vertical-align: middle;\n",
       "    }\n",
       "\n",
       "    .dataframe tbody tr th {\n",
       "        vertical-align: top;\n",
       "    }\n",
       "\n",
       "    .dataframe thead th {\n",
       "        text-align: right;\n",
       "    }\n",
       "</style>\n",
       "<table border=\"1\" class=\"dataframe\">\n",
       "  <thead>\n",
       "    <tr style=\"text-align: right;\">\n",
       "      <th></th>\n",
       "      <th>0</th>\n",
       "      <th>1</th>\n",
       "      <th>2</th>\n",
       "      <th>3</th>\n",
       "      <th>4</th>\n",
       "    </tr>\n",
       "  </thead>\n",
       "  <tbody>\n",
       "    <tr>\n",
       "      <th>0</th>\n",
       "      <td>5.1</td>\n",
       "      <td>3.5</td>\n",
       "      <td>1.4</td>\n",
       "      <td>0.2</td>\n",
       "      <td>0</td>\n",
       "    </tr>\n",
       "    <tr>\n",
       "      <th>1</th>\n",
       "      <td>4.9</td>\n",
       "      <td>3.0</td>\n",
       "      <td>1.4</td>\n",
       "      <td>0.2</td>\n",
       "      <td>0</td>\n",
       "    </tr>\n",
       "    <tr>\n",
       "      <th>2</th>\n",
       "      <td>4.7</td>\n",
       "      <td>3.2</td>\n",
       "      <td>1.3</td>\n",
       "      <td>0.2</td>\n",
       "      <td>0</td>\n",
       "    </tr>\n",
       "    <tr>\n",
       "      <th>3</th>\n",
       "      <td>4.6</td>\n",
       "      <td>3.1</td>\n",
       "      <td>1.5</td>\n",
       "      <td>0.2</td>\n",
       "      <td>0</td>\n",
       "    </tr>\n",
       "    <tr>\n",
       "      <th>4</th>\n",
       "      <td>5.0</td>\n",
       "      <td>3.6</td>\n",
       "      <td>1.4</td>\n",
       "      <td>0.2</td>\n",
       "      <td>0</td>\n",
       "    </tr>\n",
       "    <tr>\n",
       "      <th>...</th>\n",
       "      <td>...</td>\n",
       "      <td>...</td>\n",
       "      <td>...</td>\n",
       "      <td>...</td>\n",
       "      <td>...</td>\n",
       "    </tr>\n",
       "    <tr>\n",
       "      <th>145</th>\n",
       "      <td>6.7</td>\n",
       "      <td>3.0</td>\n",
       "      <td>5.2</td>\n",
       "      <td>2.3</td>\n",
       "      <td>2</td>\n",
       "    </tr>\n",
       "    <tr>\n",
       "      <th>146</th>\n",
       "      <td>6.3</td>\n",
       "      <td>2.5</td>\n",
       "      <td>5.0</td>\n",
       "      <td>1.9</td>\n",
       "      <td>2</td>\n",
       "    </tr>\n",
       "    <tr>\n",
       "      <th>147</th>\n",
       "      <td>6.5</td>\n",
       "      <td>3.0</td>\n",
       "      <td>5.2</td>\n",
       "      <td>2.0</td>\n",
       "      <td>2</td>\n",
       "    </tr>\n",
       "    <tr>\n",
       "      <th>148</th>\n",
       "      <td>6.2</td>\n",
       "      <td>3.4</td>\n",
       "      <td>5.4</td>\n",
       "      <td>2.3</td>\n",
       "      <td>2</td>\n",
       "    </tr>\n",
       "    <tr>\n",
       "      <th>149</th>\n",
       "      <td>5.9</td>\n",
       "      <td>3.0</td>\n",
       "      <td>5.1</td>\n",
       "      <td>1.8</td>\n",
       "      <td>2</td>\n",
       "    </tr>\n",
       "  </tbody>\n",
       "</table>\n",
       "<p>150 rows × 5 columns</p>\n",
       "</div>"
      ],
      "text/plain": [
       "       0    1    2    3  4\n",
       "0    5.1  3.5  1.4  0.2  0\n",
       "1    4.9  3.0  1.4  0.2  0\n",
       "2    4.7  3.2  1.3  0.2  0\n",
       "3    4.6  3.1  1.5  0.2  0\n",
       "4    5.0  3.6  1.4  0.2  0\n",
       "..   ...  ...  ...  ... ..\n",
       "145  6.7  3.0  5.2  2.3  2\n",
       "146  6.3  2.5  5.0  1.9  2\n",
       "147  6.5  3.0  5.2  2.0  2\n",
       "148  6.2  3.4  5.4  2.3  2\n",
       "149  5.9  3.0  5.1  1.8  2\n",
       "\n",
       "[150 rows x 5 columns]"
      ]
     },
     "execution_count": 3,
     "metadata": {},
     "output_type": "execute_result"
    }
   ],
   "source": [
    "iris"
   ]
  },
  {
   "cell_type": "code",
   "execution_count": 4,
   "id": "0c1aaa57",
   "metadata": {
    "ExecuteTime": {
     "end_time": "2023-12-07T08:14:07.329418Z",
     "start_time": "2023-12-07T08:14:07.325368Z"
    }
   },
   "outputs": [],
   "source": [
    "train_data = np.array(iris.iloc[:,:4])\n",
    "train_label = np.array(iris.iloc[:,4])"
   ]
  },
  {
   "cell_type": "markdown",
   "id": "c3eb04f6",
   "metadata": {},
   "source": [
    "### Dataset"
   ]
  },
  {
   "cell_type": "markdown",
   "id": "02dac3b8",
   "metadata": {},
   "source": [
    "继承该方法必须实现两个方法：\n",
    "- `_getitem_()`\n",
    "- `_len_()`"
   ]
  },
  {
   "cell_type": "code",
   "execution_count": 5,
   "id": "fa1cbe2d",
   "metadata": {
    "ExecuteTime": {
     "end_time": "2023-12-07T08:16:46.798014Z",
     "start_time": "2023-12-07T08:16:46.792592Z"
    }
   },
   "outputs": [],
   "source": [
    "# 定义GetLoader类，继承Dataset方法，并重写__getitem__()和__len__()方法\n",
    "class GetLoader(torch.utils.data.Dataset):\n",
    "    # 初始化函数，得到数据\n",
    "    def __init__(self, data_root, data_label):\n",
    "        self.data = data_root\n",
    "        self.label = data_label\n",
    "    # index是根据batchsize划分数据后得到的索引，最后将data和对应的labels进行一起返回\n",
    "    def __getitem__(self, index):\n",
    "        data = self.data[index]\n",
    "        labels = self.label[index]\n",
    "        return data, labels\n",
    "    # 该函数返回数据大小长度，目的是DataLoader方便划分，如果不知道大小，DataLoader会一脸懵逼\n",
    "    def __len__(self):\n",
    "        return len(self.data)"
   ]
  },
  {
   "cell_type": "code",
   "execution_count": 6,
   "id": "78b6af24",
   "metadata": {
    "ExecuteTime": {
     "end_time": "2023-12-07T08:16:47.392271Z",
     "start_time": "2023-12-07T08:16:47.388889Z"
    }
   },
   "outputs": [],
   "source": [
    "torch_data = GetLoader(train_data, train_label)"
   ]
  },
  {
   "cell_type": "code",
   "execution_count": 7,
   "id": "ffbcb81d",
   "metadata": {
    "ExecuteTime": {
     "end_time": "2023-12-07T08:16:47.970021Z",
     "start_time": "2023-12-07T08:16:47.956718Z"
    }
   },
   "outputs": [
    {
     "data": {
      "text/plain": [
       "array([[5.1, 3.5, 1.4, 0.2],\n",
       "       [4.9, 3. , 1.4, 0.2],\n",
       "       [4.7, 3.2, 1.3, 0.2],\n",
       "       [4.6, 3.1, 1.5, 0.2],\n",
       "       [5. , 3.6, 1.4, 0.2],\n",
       "       [5.4, 3.9, 1.7, 0.4],\n",
       "       [4.6, 3.4, 1.4, 0.3],\n",
       "       [5. , 3.4, 1.5, 0.2],\n",
       "       [4.4, 2.9, 1.4, 0.2],\n",
       "       [4.9, 3.1, 1.5, 0.1],\n",
       "       [5.4, 3.7, 1.5, 0.2],\n",
       "       [4.8, 3.4, 1.6, 0.2],\n",
       "       [4.8, 3. , 1.4, 0.1],\n",
       "       [4.3, 3. , 1.1, 0.1],\n",
       "       [5.8, 4. , 1.2, 0.2],\n",
       "       [5.7, 4.4, 1.5, 0.4],\n",
       "       [5.4, 3.9, 1.3, 0.4],\n",
       "       [5.1, 3.5, 1.4, 0.3],\n",
       "       [5.7, 3.8, 1.7, 0.3],\n",
       "       [5.1, 3.8, 1.5, 0.3],\n",
       "       [5.4, 3.4, 1.7, 0.2],\n",
       "       [5.1, 3.7, 1.5, 0.4],\n",
       "       [4.6, 3.6, 1. , 0.2],\n",
       "       [5.1, 3.3, 1.7, 0.5],\n",
       "       [4.8, 3.4, 1.9, 0.2],\n",
       "       [5. , 3. , 1.6, 0.2],\n",
       "       [5. , 3.4, 1.6, 0.4],\n",
       "       [5.2, 3.5, 1.5, 0.2],\n",
       "       [5.2, 3.4, 1.4, 0.2],\n",
       "       [4.7, 3.2, 1.6, 0.2],\n",
       "       [4.8, 3.1, 1.6, 0.2],\n",
       "       [5.4, 3.4, 1.5, 0.4],\n",
       "       [5.2, 4.1, 1.5, 0.1],\n",
       "       [5.5, 4.2, 1.4, 0.2],\n",
       "       [4.9, 3.1, 1.5, 0.1],\n",
       "       [5. , 3.2, 1.2, 0.2],\n",
       "       [5.5, 3.5, 1.3, 0.2],\n",
       "       [4.9, 3.1, 1.5, 0.1],\n",
       "       [4.4, 3. , 1.3, 0.2],\n",
       "       [5.1, 3.4, 1.5, 0.2],\n",
       "       [5. , 3.5, 1.3, 0.3],\n",
       "       [4.5, 2.3, 1.3, 0.3],\n",
       "       [4.4, 3.2, 1.3, 0.2],\n",
       "       [5. , 3.5, 1.6, 0.6],\n",
       "       [5.1, 3.8, 1.9, 0.4],\n",
       "       [4.8, 3. , 1.4, 0.3],\n",
       "       [5.1, 3.8, 1.6, 0.2],\n",
       "       [4.6, 3.2, 1.4, 0.2],\n",
       "       [5.3, 3.7, 1.5, 0.2],\n",
       "       [5. , 3.3, 1.4, 0.2],\n",
       "       [7. , 3.2, 4.7, 1.4],\n",
       "       [6.4, 3.2, 4.5, 1.5],\n",
       "       [6.9, 3.1, 4.9, 1.5],\n",
       "       [5.5, 2.3, 4. , 1.3],\n",
       "       [6.5, 2.8, 4.6, 1.5],\n",
       "       [5.7, 2.8, 4.5, 1.3],\n",
       "       [6.3, 3.3, 4.7, 1.6],\n",
       "       [4.9, 2.4, 3.3, 1. ],\n",
       "       [6.6, 2.9, 4.6, 1.3],\n",
       "       [5.2, 2.7, 3.9, 1.4],\n",
       "       [5. , 2. , 3.5, 1. ],\n",
       "       [5.9, 3. , 4.2, 1.5],\n",
       "       [6. , 2.2, 4. , 1. ],\n",
       "       [6.1, 2.9, 4.7, 1.4],\n",
       "       [5.6, 2.9, 3.6, 1.3],\n",
       "       [6.7, 3.1, 4.4, 1.4],\n",
       "       [5.6, 3. , 4.5, 1.5],\n",
       "       [5.8, 2.7, 4.1, 1. ],\n",
       "       [6.2, 2.2, 4.5, 1.5],\n",
       "       [5.6, 2.5, 3.9, 1.1],\n",
       "       [5.9, 3.2, 4.8, 1.8],\n",
       "       [6.1, 2.8, 4. , 1.3],\n",
       "       [6.3, 2.5, 4.9, 1.5],\n",
       "       [6.1, 2.8, 4.7, 1.2],\n",
       "       [6.4, 2.9, 4.3, 1.3],\n",
       "       [6.6, 3. , 4.4, 1.4],\n",
       "       [6.8, 2.8, 4.8, 1.4],\n",
       "       [6.7, 3. , 5. , 1.7],\n",
       "       [6. , 2.9, 4.5, 1.5],\n",
       "       [5.7, 2.6, 3.5, 1. ],\n",
       "       [5.5, 2.4, 3.8, 1.1],\n",
       "       [5.5, 2.4, 3.7, 1. ],\n",
       "       [5.8, 2.7, 3.9, 1.2],\n",
       "       [6. , 2.7, 5.1, 1.6],\n",
       "       [5.4, 3. , 4.5, 1.5],\n",
       "       [6. , 3.4, 4.5, 1.6],\n",
       "       [6.7, 3.1, 4.7, 1.5],\n",
       "       [6.3, 2.3, 4.4, 1.3],\n",
       "       [5.6, 3. , 4.1, 1.3],\n",
       "       [5.5, 2.5, 4. , 1.3],\n",
       "       [5.5, 2.6, 4.4, 1.2],\n",
       "       [6.1, 3. , 4.6, 1.4],\n",
       "       [5.8, 2.6, 4. , 1.2],\n",
       "       [5. , 2.3, 3.3, 1. ],\n",
       "       [5.6, 2.7, 4.2, 1.3],\n",
       "       [5.7, 3. , 4.2, 1.2],\n",
       "       [5.7, 2.9, 4.2, 1.3],\n",
       "       [6.2, 2.9, 4.3, 1.3],\n",
       "       [5.1, 2.5, 3. , 1.1],\n",
       "       [5.7, 2.8, 4.1, 1.3],\n",
       "       [6.3, 3.3, 6. , 2.5],\n",
       "       [5.8, 2.7, 5.1, 1.9],\n",
       "       [7.1, 3. , 5.9, 2.1],\n",
       "       [6.3, 2.9, 5.6, 1.8],\n",
       "       [6.5, 3. , 5.8, 2.2],\n",
       "       [7.6, 3. , 6.6, 2.1],\n",
       "       [4.9, 2.5, 4.5, 1.7],\n",
       "       [7.3, 2.9, 6.3, 1.8],\n",
       "       [6.7, 2.5, 5.8, 1.8],\n",
       "       [7.2, 3.6, 6.1, 2.5],\n",
       "       [6.5, 3.2, 5.1, 2. ],\n",
       "       [6.4, 2.7, 5.3, 1.9],\n",
       "       [6.8, 3. , 5.5, 2.1],\n",
       "       [5.7, 2.5, 5. , 2. ],\n",
       "       [5.8, 2.8, 5.1, 2.4],\n",
       "       [6.4, 3.2, 5.3, 2.3],\n",
       "       [6.5, 3. , 5.5, 1.8],\n",
       "       [7.7, 3.8, 6.7, 2.2],\n",
       "       [7.7, 2.6, 6.9, 2.3],\n",
       "       [6. , 2.2, 5. , 1.5],\n",
       "       [6.9, 3.2, 5.7, 2.3],\n",
       "       [5.6, 2.8, 4.9, 2. ],\n",
       "       [7.7, 2.8, 6.7, 2. ],\n",
       "       [6.3, 2.7, 4.9, 1.8],\n",
       "       [6.7, 3.3, 5.7, 2.1],\n",
       "       [7.2, 3.2, 6. , 1.8],\n",
       "       [6.2, 2.8, 4.8, 1.8],\n",
       "       [6.1, 3. , 4.9, 1.8],\n",
       "       [6.4, 2.8, 5.6, 2.1],\n",
       "       [7.2, 3. , 5.8, 1.6],\n",
       "       [7.4, 2.8, 6.1, 1.9],\n",
       "       [7.9, 3.8, 6.4, 2. ],\n",
       "       [6.4, 2.8, 5.6, 2.2],\n",
       "       [6.3, 2.8, 5.1, 1.5],\n",
       "       [6.1, 2.6, 5.6, 1.4],\n",
       "       [7.7, 3. , 6.1, 2.3],\n",
       "       [6.3, 3.4, 5.6, 2.4],\n",
       "       [6.4, 3.1, 5.5, 1.8],\n",
       "       [6. , 3. , 4.8, 1.8],\n",
       "       [6.9, 3.1, 5.4, 2.1],\n",
       "       [6.7, 3.1, 5.6, 2.4],\n",
       "       [6.9, 3.1, 5.1, 2.3],\n",
       "       [5.8, 2.7, 5.1, 1.9],\n",
       "       [6.8, 3.2, 5.9, 2.3],\n",
       "       [6.7, 3.3, 5.7, 2.5],\n",
       "       [6.7, 3. , 5.2, 2.3],\n",
       "       [6.3, 2.5, 5. , 1.9],\n",
       "       [6.5, 3. , 5.2, 2. ],\n",
       "       [6.2, 3.4, 5.4, 2.3],\n",
       "       [5.9, 3. , 5.1, 1.8]])"
      ]
     },
     "execution_count": 7,
     "metadata": {},
     "output_type": "execute_result"
    }
   ],
   "source": [
    "torch_data.data"
   ]
  },
  {
   "cell_type": "code",
   "execution_count": 8,
   "id": "86b6f421",
   "metadata": {
    "ExecuteTime": {
     "end_time": "2023-12-07T08:16:51.515688Z",
     "start_time": "2023-12-07T08:16:51.505538Z"
    }
   },
   "outputs": [
    {
     "data": {
      "text/plain": [
       "array([0, 0, 0, 0, 0, 0, 0, 0, 0, 0, 0, 0, 0, 0, 0, 0, 0, 0, 0, 0, 0, 0,\n",
       "       0, 0, 0, 0, 0, 0, 0, 0, 0, 0, 0, 0, 0, 0, 0, 0, 0, 0, 0, 0, 0, 0,\n",
       "       0, 0, 0, 0, 0, 0, 1, 1, 1, 1, 1, 1, 1, 1, 1, 1, 1, 1, 1, 1, 1, 1,\n",
       "       1, 1, 1, 1, 1, 1, 1, 1, 1, 1, 1, 1, 1, 1, 1, 1, 1, 1, 1, 1, 1, 1,\n",
       "       1, 1, 1, 1, 1, 1, 1, 1, 1, 1, 1, 1, 2, 2, 2, 2, 2, 2, 2, 2, 2, 2,\n",
       "       2, 2, 2, 2, 2, 2, 2, 2, 2, 2, 2, 2, 2, 2, 2, 2, 2, 2, 2, 2, 2, 2,\n",
       "       2, 2, 2, 2, 2, 2, 2, 2, 2, 2, 2, 2, 2, 2, 2, 2, 2, 2], dtype=int64)"
      ]
     },
     "execution_count": 8,
     "metadata": {},
     "output_type": "execute_result"
    }
   ],
   "source": [
    "torch_data.label"
   ]
  },
  {
   "cell_type": "markdown",
   "id": "e70954d8",
   "metadata": {},
   "source": [
    "### DataLoader"
   ]
  },
  {
   "cell_type": "markdown",
   "id": "b82a6884",
   "metadata": {},
   "source": [
    "提供对Dataset的操作，操作如下：\n",
    "\n",
    "`torch.utils.data.DataLoader(dataset,batch_size,shuffle,drop_last，num_workers)`"
   ]
  },
  {
   "cell_type": "markdown",
   "id": "ed298ab6",
   "metadata": {},
   "source": [
    "参数含义如下：\n",
    "\n",
    "- dataset： 加载torch.utils.data.Dataset对象数据\n",
    "- batch_size： 每个batch的大小\n",
    "- shuffle：是否对数据进行打乱\n",
    "- drop_last：是否对无法整除的最后一个datasize进行丢弃\n",
    "- num_workers：表示加载的时候子进程数"
   ]
  },
  {
   "cell_type": "code",
   "execution_count": 9,
   "id": "8f66d75e",
   "metadata": {
    "ExecuteTime": {
     "end_time": "2023-12-07T08:17:12.177467Z",
     "start_time": "2023-12-07T08:17:12.173539Z"
    }
   },
   "outputs": [],
   "source": [
    "# 读取数据\n",
    "datas = DataLoader(torch_data, batch_size=50, shuffle=True, drop_last=False)"
   ]
  },
  {
   "cell_type": "markdown",
   "id": "7a51e450",
   "metadata": {},
   "source": [
    "### 查看数据"
   ]
  },
  {
   "cell_type": "code",
   "execution_count": 10,
   "id": "b4eb0824",
   "metadata": {
    "ExecuteTime": {
     "end_time": "2023-12-07T08:17:17.771264Z",
     "start_time": "2023-12-07T08:17:17.667787Z"
    }
   },
   "outputs": [
    {
     "name": "stdout",
     "output_type": "stream",
     "text": [
      "第 0 个Batch \n",
      "[tensor([[6.3000, 2.5000, 5.0000, 1.9000],\n",
      "        [6.6000, 2.9000, 4.6000, 1.3000],\n",
      "        [6.1000, 2.8000, 4.0000, 1.3000],\n",
      "        [4.9000, 3.0000, 1.4000, 0.2000],\n",
      "        [5.6000, 3.0000, 4.5000, 1.5000],\n",
      "        [7.7000, 3.8000, 6.7000, 2.2000],\n",
      "        [6.6000, 3.0000, 4.4000, 1.4000],\n",
      "        [4.9000, 3.1000, 1.5000, 0.1000],\n",
      "        [4.4000, 3.2000, 1.3000, 0.2000],\n",
      "        [6.3000, 3.3000, 6.0000, 2.5000],\n",
      "        [7.3000, 2.9000, 6.3000, 1.8000],\n",
      "        [7.2000, 3.2000, 6.0000, 1.8000],\n",
      "        [6.2000, 2.8000, 4.8000, 1.8000],\n",
      "        [6.3000, 2.9000, 5.6000, 1.8000],\n",
      "        [5.8000, 4.0000, 1.2000, 0.2000],\n",
      "        [5.8000, 2.7000, 5.1000, 1.9000],\n",
      "        [5.7000, 4.4000, 1.5000, 0.4000],\n",
      "        [5.7000, 2.8000, 4.5000, 1.3000],\n",
      "        [5.9000, 3.2000, 4.8000, 1.8000],\n",
      "        [6.9000, 3.2000, 5.7000, 2.3000],\n",
      "        [4.7000, 3.2000, 1.3000, 0.2000],\n",
      "        [5.0000, 3.2000, 1.2000, 0.2000],\n",
      "        [4.6000, 3.1000, 1.5000, 0.2000],\n",
      "        [5.6000, 2.5000, 3.9000, 1.1000],\n",
      "        [6.0000, 2.2000, 4.0000, 1.0000],\n",
      "        [5.1000, 3.8000, 1.6000, 0.2000],\n",
      "        [5.1000, 3.8000, 1.5000, 0.3000],\n",
      "        [6.7000, 2.5000, 5.8000, 1.8000],\n",
      "        [6.1000, 3.0000, 4.6000, 1.4000],\n",
      "        [6.4000, 2.8000, 5.6000, 2.2000],\n",
      "        [6.2000, 3.4000, 5.4000, 2.3000],\n",
      "        [5.6000, 2.7000, 4.2000, 1.3000],\n",
      "        [5.6000, 2.8000, 4.9000, 2.0000],\n",
      "        [6.7000, 3.0000, 5.0000, 1.7000],\n",
      "        [4.8000, 3.1000, 1.6000, 0.2000],\n",
      "        [5.2000, 4.1000, 1.5000, 0.1000],\n",
      "        [6.0000, 2.2000, 5.0000, 1.5000],\n",
      "        [6.9000, 3.1000, 4.9000, 1.5000],\n",
      "        [6.3000, 2.8000, 5.1000, 1.5000],\n",
      "        [6.2000, 2.2000, 4.5000, 1.5000],\n",
      "        [6.8000, 2.8000, 4.8000, 1.4000],\n",
      "        [4.4000, 2.9000, 1.4000, 0.2000],\n",
      "        [4.8000, 3.0000, 1.4000, 0.1000],\n",
      "        [5.4000, 3.7000, 1.5000, 0.2000],\n",
      "        [7.1000, 3.0000, 5.9000, 2.1000],\n",
      "        [7.7000, 3.0000, 6.1000, 2.3000],\n",
      "        [5.6000, 2.9000, 3.6000, 1.3000],\n",
      "        [6.5000, 3.0000, 5.8000, 2.2000],\n",
      "        [4.9000, 3.1000, 1.5000, 0.1000],\n",
      "        [5.5000, 2.4000, 3.7000, 1.0000]], dtype=torch.float64), tensor([2, 1, 1, 0, 1, 2, 1, 0, 0, 2, 2, 2, 2, 2, 0, 2, 0, 1, 1, 2, 0, 0, 0, 1,\n",
      "        1, 0, 0, 2, 1, 2, 2, 1, 2, 1, 0, 0, 2, 1, 2, 1, 1, 0, 0, 0, 2, 2, 1, 2,\n",
      "        0, 1])]\n",
      "第 1 个Batch \n",
      "[tensor([[4.3000, 3.0000, 1.1000, 0.1000],\n",
      "        [5.8000, 2.6000, 4.0000, 1.2000],\n",
      "        [4.8000, 3.4000, 1.6000, 0.2000],\n",
      "        [7.2000, 3.0000, 5.8000, 1.6000],\n",
      "        [6.7000, 3.1000, 5.6000, 2.4000],\n",
      "        [6.0000, 3.0000, 4.8000, 1.8000],\n",
      "        [5.0000, 2.0000, 3.5000, 1.0000],\n",
      "        [5.5000, 3.5000, 1.3000, 0.2000],\n",
      "        [5.7000, 2.6000, 3.5000, 1.0000],\n",
      "        [5.1000, 3.4000, 1.5000, 0.2000],\n",
      "        [4.9000, 2.5000, 4.5000, 1.7000],\n",
      "        [6.7000, 3.1000, 4.7000, 1.5000],\n",
      "        [5.1000, 2.5000, 3.0000, 1.1000],\n",
      "        [5.4000, 3.9000, 1.3000, 0.4000],\n",
      "        [5.5000, 2.5000, 4.0000, 1.3000],\n",
      "        [5.6000, 3.0000, 4.1000, 1.3000],\n",
      "        [5.4000, 3.4000, 1.7000, 0.2000],\n",
      "        [6.4000, 2.9000, 4.3000, 1.3000],\n",
      "        [5.7000, 2.9000, 4.2000, 1.3000],\n",
      "        [4.4000, 3.0000, 1.3000, 0.2000],\n",
      "        [5.7000, 3.0000, 4.2000, 1.2000],\n",
      "        [6.1000, 3.0000, 4.9000, 1.8000],\n",
      "        [6.4000, 3.1000, 5.5000, 1.8000],\n",
      "        [4.6000, 3.4000, 1.4000, 0.3000],\n",
      "        [5.7000, 2.8000, 4.1000, 1.3000],\n",
      "        [6.5000, 2.8000, 4.6000, 1.5000],\n",
      "        [5.7000, 3.8000, 1.7000, 0.3000],\n",
      "        [6.4000, 2.8000, 5.6000, 2.1000],\n",
      "        [5.0000, 3.5000, 1.6000, 0.6000],\n",
      "        [5.0000, 3.5000, 1.3000, 0.3000],\n",
      "        [5.0000, 3.4000, 1.5000, 0.2000],\n",
      "        [4.8000, 3.0000, 1.4000, 0.3000],\n",
      "        [6.3000, 3.4000, 5.6000, 2.4000],\n",
      "        [7.0000, 3.2000, 4.7000, 1.4000],\n",
      "        [5.0000, 3.4000, 1.6000, 0.4000],\n",
      "        [5.0000, 2.3000, 3.3000, 1.0000],\n",
      "        [6.0000, 3.4000, 4.5000, 1.6000],\n",
      "        [5.9000, 3.0000, 4.2000, 1.5000],\n",
      "        [6.5000, 3.2000, 5.1000, 2.0000],\n",
      "        [7.7000, 2.6000, 6.9000, 2.3000],\n",
      "        [6.4000, 2.7000, 5.3000, 1.9000],\n",
      "        [6.3000, 2.7000, 4.9000, 1.8000],\n",
      "        [5.2000, 2.7000, 3.9000, 1.4000],\n",
      "        [7.4000, 2.8000, 6.1000, 1.9000],\n",
      "        [6.3000, 2.3000, 4.4000, 1.3000],\n",
      "        [6.9000, 3.1000, 5.4000, 2.1000],\n",
      "        [5.0000, 3.6000, 1.4000, 0.2000],\n",
      "        [5.8000, 2.7000, 4.1000, 1.0000],\n",
      "        [5.3000, 3.7000, 1.5000, 0.2000],\n",
      "        [5.0000, 3.0000, 1.6000, 0.2000]], dtype=torch.float64), tensor([0, 1, 0, 2, 2, 2, 1, 0, 1, 0, 2, 1, 1, 0, 1, 1, 0, 1, 1, 0, 1, 2, 2, 0,\n",
      "        1, 1, 0, 2, 0, 0, 0, 0, 2, 1, 0, 1, 1, 1, 2, 2, 2, 2, 1, 2, 1, 2, 0, 1,\n",
      "        0, 0])]\n",
      "第 2 个Batch \n",
      "[tensor([[5.4000, 3.9000, 1.7000, 0.4000],\n",
      "        [4.7000, 3.2000, 1.6000, 0.2000],\n",
      "        [6.4000, 3.2000, 5.3000, 2.3000],\n",
      "        [5.9000, 3.0000, 5.1000, 1.8000],\n",
      "        [6.1000, 2.9000, 4.7000, 1.4000],\n",
      "        [6.1000, 2.8000, 4.7000, 1.2000],\n",
      "        [6.7000, 3.3000, 5.7000, 2.5000],\n",
      "        [5.5000, 2.3000, 4.0000, 1.3000],\n",
      "        [5.1000, 3.7000, 1.5000, 0.4000],\n",
      "        [6.7000, 3.0000, 5.2000, 2.3000],\n",
      "        [5.1000, 3.5000, 1.4000, 0.3000],\n",
      "        [6.5000, 3.0000, 5.5000, 1.8000],\n",
      "        [6.3000, 2.5000, 4.9000, 1.5000],\n",
      "        [6.3000, 3.3000, 4.7000, 1.6000],\n",
      "        [7.2000, 3.6000, 6.1000, 2.5000],\n",
      "        [7.7000, 2.8000, 6.7000, 2.0000],\n",
      "        [5.2000, 3.5000, 1.5000, 0.2000],\n",
      "        [4.6000, 3.6000, 1.0000, 0.2000],\n",
      "        [5.1000, 3.8000, 1.9000, 0.4000],\n",
      "        [5.4000, 3.0000, 4.5000, 1.5000],\n",
      "        [4.9000, 3.1000, 1.5000, 0.1000],\n",
      "        [6.8000, 3.2000, 5.9000, 2.3000],\n",
      "        [4.9000, 2.4000, 3.3000, 1.0000],\n",
      "        [5.0000, 3.3000, 1.4000, 0.2000],\n",
      "        [5.2000, 3.4000, 1.4000, 0.2000],\n",
      "        [6.7000, 3.1000, 4.4000, 1.4000],\n",
      "        [6.4000, 3.2000, 4.5000, 1.5000],\n",
      "        [6.8000, 3.0000, 5.5000, 2.1000],\n",
      "        [7.9000, 3.8000, 6.4000, 2.0000],\n",
      "        [5.7000, 2.5000, 5.0000, 2.0000],\n",
      "        [6.1000, 2.6000, 5.6000, 1.4000],\n",
      "        [5.5000, 2.4000, 3.8000, 1.1000],\n",
      "        [7.6000, 3.0000, 6.6000, 2.1000],\n",
      "        [5.8000, 2.8000, 5.1000, 2.4000],\n",
      "        [5.8000, 2.7000, 5.1000, 1.9000],\n",
      "        [6.0000, 2.7000, 5.1000, 1.6000],\n",
      "        [5.8000, 2.7000, 3.9000, 1.2000],\n",
      "        [5.1000, 3.5000, 1.4000, 0.2000],\n",
      "        [4.5000, 2.3000, 1.3000, 0.3000],\n",
      "        [5.1000, 3.3000, 1.7000, 0.5000],\n",
      "        [6.7000, 3.3000, 5.7000, 2.1000],\n",
      "        [6.0000, 2.9000, 4.5000, 1.5000],\n",
      "        [5.5000, 4.2000, 1.4000, 0.2000],\n",
      "        [5.4000, 3.4000, 1.5000, 0.4000],\n",
      "        [4.6000, 3.2000, 1.4000, 0.2000],\n",
      "        [6.5000, 3.0000, 5.2000, 2.0000],\n",
      "        [4.8000, 3.4000, 1.9000, 0.2000],\n",
      "        [6.9000, 3.1000, 5.1000, 2.3000],\n",
      "        [6.2000, 2.9000, 4.3000, 1.3000],\n",
      "        [5.5000, 2.6000, 4.4000, 1.2000]], dtype=torch.float64), tensor([0, 0, 2, 2, 1, 1, 2, 1, 0, 2, 0, 2, 1, 1, 2, 2, 0, 0, 0, 1, 0, 2, 1, 0,\n",
      "        0, 1, 1, 2, 2, 2, 2, 1, 2, 2, 2, 1, 1, 0, 0, 0, 2, 1, 0, 0, 0, 2, 0, 2,\n",
      "        1, 1])]\n"
     ]
    }
   ],
   "source": [
    "for i, data in enumerate(datas):\n",
    "    # i表示第几个batch， data表示该batch对应的数据，包含data和对应的labels\n",
    "    print(\"第 {} 个Batch \\n{}\".format(i, data))"
   ]
  },
  {
   "cell_type": "markdown",
   "id": "960166de",
   "metadata": {},
   "source": [
    "## 训练模型"
   ]
  },
  {
   "cell_type": "markdown",
   "id": "ab06b1f4",
   "metadata": {},
   "source": [
    "### 直接构建模型"
   ]
  },
  {
   "cell_type": "code",
   "execution_count": 26,
   "id": "402d6003",
   "metadata": {
    "ExecuteTime": {
     "end_time": "2023-12-07T08:27:41.981821Z",
     "start_time": "2023-12-07T08:27:41.977432Z"
    }
   },
   "outputs": [],
   "source": [
    "net = torch.nn.Sequential(\n",
    "    nn.Linear(4, 10),\n",
    "    nn.ReLU(),\n",
    "    nn.Linear(10,3)\n",
    ")"
   ]
  },
  {
   "cell_type": "code",
   "execution_count": 27,
   "id": "6ed5fac7",
   "metadata": {
    "ExecuteTime": {
     "end_time": "2023-12-07T08:27:43.006396Z",
     "start_time": "2023-12-07T08:27:43.001878Z"
    }
   },
   "outputs": [
    {
     "data": {
      "text/plain": [
       "Sequential(\n",
       "  (0): Linear(in_features=4, out_features=10, bias=True)\n",
       "  (1): ReLU()\n",
       "  (2): Linear(in_features=10, out_features=3, bias=True)\n",
       ")"
      ]
     },
     "execution_count": 27,
     "metadata": {},
     "output_type": "execute_result"
    }
   ],
   "source": [
    "net"
   ]
  },
  {
   "cell_type": "code",
   "execution_count": 28,
   "id": "ea40c367",
   "metadata": {
    "ExecuteTime": {
     "end_time": "2023-12-07T08:27:44.089526Z",
     "start_time": "2023-12-07T08:27:44.084919Z"
    }
   },
   "outputs": [],
   "source": [
    "def get_acc(outputs, labels):\n",
    "    \"\"\"计算acc\"\"\"\n",
    "    _, predict = torch.max(outputs.data, 1)\n",
    "    total_num = labels.shape[0]*1.0\n",
    "    correct_num = (labels == predict).sum().item()\n",
    "    acc = correct_num / total_num\n",
    "\n",
    "    return acc"
   ]
  },
  {
   "cell_type": "code",
   "execution_count": 31,
   "id": "d1a5804e",
   "metadata": {
    "ExecuteTime": {
     "end_time": "2023-12-07T08:33:46.354188Z",
     "start_time": "2023-12-07T08:33:46.349871Z"
    }
   },
   "outputs": [],
   "source": [
    "# 优化器\n",
    "optim = torch.optim.Adam(net.parameters(), lr=0.0001)\n",
    "\n",
    "# 损失\n",
    "loss_fun = nn.CrossEntropyLoss()"
   ]
  },
  {
   "cell_type": "code",
   "execution_count": 32,
   "id": "ffaba01e",
   "metadata": {
    "ExecuteTime": {
     "end_time": "2023-12-07T08:33:50.794483Z",
     "start_time": "2023-12-07T08:33:47.271835Z"
    }
   },
   "outputs": [
    {
     "name": "stdout",
     "output_type": "stream",
     "text": [
      "epoch: 0, loss: 0.030020, acc: 0.050400\n",
      "epoch: 200, loss: 0.025750, acc: 0.056000\n",
      "epoch: 400, loss: 0.022585, acc: 0.058000\n",
      "epoch: 600, loss: 0.019912, acc: 0.058000\n",
      "epoch: 800, loss: 0.017524, acc: 0.058800\n"
     ]
    }
   ],
   "source": [
    "# 训练\n",
    "for e in range(1000):\n",
    "    epoch_loss = 0\n",
    "    epoch_acc = 0\n",
    "    for i, (x, y) in enumerate(datas):\n",
    "        optim.zero_grad()\n",
    "\n",
    "        x = torch.as_tensor(x, dtype=torch.float)\n",
    "        y = torch.as_tensor(y, dtype=torch.long)\n",
    "        out = net(x)\n",
    "        loss = loss_fun(out, y)\n",
    "\n",
    "        loss.backward()\n",
    "        optim.step()\n",
    "\n",
    "        epoch_loss += loss.data\n",
    "        epoch_acc += get_acc(out, y)\n",
    "\n",
    "    if e % 200 == 0:\n",
    "        print('epoch: %d, loss: %f, acc: %f' % (e, epoch_loss / 50, epoch_acc / 50))"
   ]
  },
  {
   "cell_type": "markdown",
   "id": "f33eb4dd",
   "metadata": {},
   "source": [
    "# passengers案例"
   ]
  },
  {
   "cell_type": "code",
   "execution_count": 5,
   "id": "6af72069",
   "metadata": {
    "ExecuteTime": {
     "end_time": "2023-12-08T02:42:04.891930Z",
     "start_time": "2023-12-08T02:42:04.409239Z"
    }
   },
   "outputs": [],
   "source": [
    "import matplotlib.pyplot as plt\n",
    "import pandas as pd"
   ]
  },
  {
   "cell_type": "code",
   "execution_count": 6,
   "id": "29037460",
   "metadata": {
    "ExecuteTime": {
     "end_time": "2023-12-08T02:42:06.405989Z",
     "start_time": "2023-12-08T02:42:06.141865Z"
    }
   },
   "outputs": [
    {
     "data": {
      "image/png": "[encoded data removed]",
      "text/plain": [
       "<Figure size 640x480 with 1 Axes>"
      ]
     },
     "metadata": {},
     "output_type": "display_data"
    }
   ],
   "source": [
    "df = pd.read_csv(\"../data/airline-passengers.csv\")\n",
    "timeseries = df[[\"Passengers\"]].values.astype('float32')\n",
    " \n",
    "plt.plot(timeseries)\n",
    "plt.show()"
   ]
  },
  {
   "cell_type": "code",
   "execution_count": 7,
   "id": "724301ea",
   "metadata": {
    "ExecuteTime": {
     "end_time": "2023-12-08T02:43:06.945824Z",
     "start_time": "2023-12-08T02:43:06.941780Z"
    }
   },
   "outputs": [],
   "source": [
    "# train-test split for time series\n",
    "train_size = int(len(timeseries) * 0.67)\n",
    "test_size = len(timeseries) - train_size\n",
    "train, test = timeseries[:train_size], timeseries[train_size:]"
   ]
  },
  {
   "cell_type": "markdown",
   "id": "89ebb052",
   "metadata": {},
   "source": [
    "## 单变量多步预测"
   ]
  },
  {
   "cell_type": "code",
   "execution_count": null,
   "id": "2e7b97b5",
   "metadata": {},
   "outputs": [],
   "source": [
    "import torch\n",
    "\n",
    "\n",
    "#多输入单输出预测\n",
    "def create_dataset(dataset, lookback):\n",
    "    \"\"\"Transform a time series into a prediction dataset\n",
    "    \n",
    "    Args:\n",
    "        dataset: A numpy array of time series, first dimension is the time steps\n",
    "        lookback: Size of window for prediction\n",
    "    \"\"\"\n",
    "    X, y = [], []\n",
    "    for i in range(len(dataset) - lookback):\n",
    "        feature = dataset[i:i + lookback]\n",
    "        target = dataset[i + 1:i + lookback + 1]\n",
    "        X.append(feature)\n",
    "        y.append(target)\n",
    "    return torch.tensor(X), torch.tensor(y)"
   ]
  },
  {
   "cell_type": "markdown",
   "id": "8c78c8bb",
   "metadata": {},
   "source": [
    "## 单变量单步预测"
   ]
  },
  {
   "cell_type": "code",
   "execution_count": 10,
   "id": "a8164d86",
   "metadata": {
    "ExecuteTime": {
     "end_time": "2023-12-08T02:55:07.795473Z",
     "start_time": "2023-12-08T02:55:07.789346Z"
    }
   },
   "outputs": [],
   "source": [
    "#多输入单输出预测\n",
    "def create_dataset(dataset, lookback):\n",
    "    \"\"\"Transform a time series into a prediction dataset\n",
    "    \n",
    "    Args:\n",
    "        dataset: A numpy array of time series, first dimension is the time steps\n",
    "        lookback: Size of window\n",
    "    \"\"\"\n",
    "    X, y = [], []\n",
    "    for i in range(len(dataset) - lookback):\n",
    "        feature = dataset[i:i + lookback]\n",
    "        target = dataset[i + lookback:i + lookback + 1]\n",
    "        X.append(feature)\n",
    "        y.append(target)\n",
    "    return torch.as_tensor(X), torch.as_tensor(y)"
   ]
  },
  {
   "cell_type": "code",
   "execution_count": 11,
   "id": "38d37a44",
   "metadata": {
    "ExecuteTime": {
     "end_time": "2023-12-08T02:55:08.756270Z",
     "start_time": "2023-12-08T02:55:08.748751Z"
    }
   },
   "outputs": [
    {
     "name": "stdout",
     "output_type": "stream",
     "text": [
      "torch.Size([84, 12, 1]) torch.Size([84, 1, 1])\n",
      "torch.Size([36, 12, 1]) torch.Size([36, 1, 1])\n"
     ]
    }
   ],
   "source": [
    "lookback = 12\n",
    "X_train, y_train = create_dataset(train, lookback=lookback)\n",
    "X_test, y_test = create_dataset(test, lookback=lookback)\n",
    "print(X_train.shape, y_train.shape)\n",
    "print(X_test.shape, y_test.shape)"
   ]
  },
  {
   "cell_type": "code",
   "execution_count": 12,
   "id": "08c4261c",
   "metadata": {
    "ExecuteTime": {
     "end_time": "2023-12-08T03:15:55.210453Z",
     "start_time": "2023-12-08T03:15:55.205366Z"
    }
   },
   "outputs": [],
   "source": [
    "import torch.nn as nn\n",
    "\n",
    "class AirModel(nn.Module):\n",
    "    def __init__(self):\n",
    "        super().__init__()\n",
    "        self.lstm = nn.LSTM(input_size=1, hidden_size=50, num_layers=1, batch_first=True)\n",
    "        self.linear = nn.Linear(50, 1)\n",
    "    def forward(self, x):\n",
    "        x, _ = self.lstm(x)\n",
    "        x = self.linear(x)\n",
    "        return x"
   ]
  },
  {
   "cell_type": "code",
   "execution_count": 14,
   "id": "ff1d5673",
   "metadata": {
    "ExecuteTime": {
     "end_time": "2023-12-08T03:25:15.250629Z",
     "start_time": "2023-12-08T03:24:27.143304Z"
    }
   },
   "outputs": [
    {
     "name": "stdout",
     "output_type": "stream",
     "text": [
      "Epoch 0: train RMSE 235.9761, test RMSE 435.4907\n",
      "Epoch 100: train RMSE 192.0565, test RMSE 389.9826\n",
      "Epoch 200: train RMSE 157.1661, test RMSE 352.8921\n",
      "Epoch 300: train RMSE 126.9465, test RMSE 319.2674\n",
      "Epoch 400: train RMSE 102.0200, test RMSE 288.9693\n",
      "Epoch 500: train RMSE 83.0410, test RMSE 262.2727\n",
      "Epoch 600: train RMSE 63.7312, test RMSE 231.6472\n",
      "Epoch 700: train RMSE 51.3595, test RMSE 207.2764\n",
      "Epoch 800: train RMSE 40.8687, test RMSE 186.0006\n",
      "Epoch 900: train RMSE 34.4917, test RMSE 166.8624\n",
      "Epoch 1000: train RMSE 28.7007, test RMSE 150.3446\n",
      "Epoch 1100: train RMSE 27.4221, test RMSE 148.0343\n",
      "Epoch 1200: train RMSE 22.4725, test RMSE 132.1616\n",
      "Epoch 1300: train RMSE 22.7256, test RMSE 121.1022\n",
      "Epoch 1400: train RMSE 19.2891, test RMSE 112.4533\n",
      "Epoch 1500: train RMSE 16.7504, test RMSE 104.6215\n",
      "Epoch 1600: train RMSE 17.1666, test RMSE 100.0548\n",
      "Epoch 1700: train RMSE 15.1670, test RMSE 95.5372\n",
      "Epoch 1800: train RMSE 15.2629, test RMSE 92.5802\n",
      "Epoch 1900: train RMSE 15.5041, test RMSE 99.0341\n"
     ]
    }
   ],
   "source": [
    "import numpy as np\n",
    "import torch.optim as optim\n",
    "import torch.utils.data as data\n",
    "\n",
    "model = AirModel()\n",
    "optimizer = optim.Adam(model.parameters())\n",
    "loss_fn = nn.MSELoss()\n",
    "loader = data.DataLoader(data.TensorDataset(X_train, y_train), shuffle=True, batch_size=8)\n",
    "\n",
    "n_epochs = 2000\n",
    "for epoch in range(n_epochs):\n",
    "    model.train()\n",
    "    for X_batch, y_batch in loader:\n",
    "        y_pred = model(X_batch)\n",
    "        loss = loss_fn(y_pred, y_batch)\n",
    "        optimizer.zero_grad()\n",
    "        loss.backward()\n",
    "        optimizer.step()\n",
    "    # Validation\n",
    "    if epoch % 100 != 0:\n",
    "        continue\n",
    "    model.eval()\n",
    "    with torch.no_grad():\n",
    "        y_pred = model(X_train)\n",
    "        train_rmse = np.sqrt(loss_fn(y_pred, y_train))\n",
    "        y_pred = model(X_test)\n",
    "        test_rmse = np.sqrt(loss_fn(y_pred, y_test))\n",
    "    print(\"Epoch %d: train RMSE %.4f, test RMSE %.4f\" % (epoch, train_rmse, test_rmse))"
   ]
  },
  {
   "cell_type": "code",
   "execution_count": 15,
   "id": "9f2e9627",
   "metadata": {
    "ExecuteTime": {
     "end_time": "2023-12-08T03:25:35.750787Z",
     "start_time": "2023-12-08T03:25:35.595260Z"
    }
   },
   "outputs": [
    {
     "data": {
      "image/png": "[encoded data removed]",
      "text/plain": [
       "<Figure size 640x480 with 1 Axes>"
      ]
     },
     "metadata": {},
     "output_type": "display_data"
    }
   ],
   "source": [
    "with torch.no_grad():\n",
    "    # shift train predictions for plotting\n",
    "    train_plot = np.ones_like(timeseries) * np.nan\n",
    "    y_pred = model(X_train)\n",
    "    y_pred = y_pred[:, -1, :]\n",
    "    train_plot[lookback:train_size] = model(X_train)[:, -1, :]\n",
    "    # shift test predictions for plotting\n",
    "    test_plot = np.ones_like(timeseries) * np.nan\n",
    "    test_plot[train_size+lookback:len(timeseries)] = model(X_test)[:, -1, :]\n",
    "# plot\n",
    "plt.plot(timeseries, c='b')\n",
    "plt.plot(train_plot, c='r')\n",
    "plt.plot(test_plot, c='g')\n",
    "plt.show()"
   ]
  },
  {
   "cell_type": "code",
   "execution_count": null,
   "id": "4ce8f28b",
   "metadata": {},
   "outputs": [],
   "source": []
  }
 ],
 "metadata": {
  "kernelspec": {
   "display_name": "Python 3 (ipykernel)",
   "language": "python",
   "name": "python3"
  },
  "language_info": {
   "codemirror_mode": {
    "name": "ipython",
    "version": 3
   },
   "file_extension": ".py",
   "mimetype": "text/x-python",
   "name": "python",
   "nbconvert_exporter": "python",
   "pygments_lexer": "ipython3",
   "version": "3.11.5"
  },
  "toc": {
   "base_numbering": 1,
   "nav_menu": {},
   "number_sections": true,
   "sideBar": true,
   "skip_h1_title": false,
   "title_cell": "Table of Contents",
   "title_sidebar": "Contents",
   "toc_cell": false,
   "toc_position": {
    "height": "calc(100% - 180px)",
    "left": "10px",
    "top": "150px",
    "width": "195.667px"
   },
   "toc_section_display": true,
   "toc_window_display": true
  }
 },
 "nbformat": 4,
 "nbformat_minor": 5
}
