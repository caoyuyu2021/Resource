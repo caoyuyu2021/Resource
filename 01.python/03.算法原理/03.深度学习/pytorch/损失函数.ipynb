{
 "cells": [
  {
   "cell_type": "markdown",
   "id": "c7de1818",
   "metadata": {},
   "source": [
    "# 损失函数"
   ]
  },
  {
   "cell_type": "markdown",
   "id": "8a3e9d5a",
   "metadata": {},
   "source": [
    "\"SMAPE loss\" 是指 Symmetric Mean Absolute Percentage Error，中文意为对称平均绝对百分比误差。这是一种用于衡量预测模型精度的指标，通常用于评估时间序列预测模型的性能。\n",
    "\n",
    "SMAPE 的计算公式如下：\n",
    "\n",
    "\\$\n",
    "SMAPE = \\frac{100\\%}{n} \\sum_{t=1}^{n} \\frac{|F_t - A_t|}{(|F_t| + |A_t|)/2}\n",
    "\\$\n",
    "\n",
    "其中：\n",
    "\n",
    "- \\(F_t\\) 是模型预测的值；\n",
    "- \\(A_t\\) 是实际观测到的值；\n",
    "- \\(n\\) 是样本数量。\n",
    "\n",
    "SMAPE 通常被用作损失函数，用于优化时间序列预测模型。在优化过程中，目标是尽量减小 SMAPE 损失，以提高模型的预测准确性。"
   ]
  },
  {
   "cell_type": "code",
   "execution_count": 1,
   "id": "fde36ce2",
   "metadata": {
    "ExecuteTime": {
     "end_time": "2024-03-31T10:03:23.210183Z",
     "start_time": "2024-03-31T10:03:21.973134Z"
    }
   },
   "outputs": [
    {
     "ename": "NameError",
     "evalue": "name 'nn' is not defined",
     "output_type": "error",
     "traceback": [
      "\u001b[1;31m---------------------------------------------------------------------------\u001b[0m",
      "\u001b[1;31mNameError\u001b[0m                                 Traceback (most recent call last)",
      "Cell \u001b[1;32mIn[1], line 2\u001b[0m\n\u001b[0;32m      1\u001b[0m \u001b[38;5;66;03m# 损失函数\u001b[39;00m\n\u001b[1;32m----> 2\u001b[0m \u001b[38;5;28;01mclass\u001b[39;00m \u001b[38;5;21;01msmape_loss\u001b[39;00m(\u001b[43mnn\u001b[49m\u001b[38;5;241m.\u001b[39mModule):\n\u001b[0;32m      3\u001b[0m     \u001b[38;5;28;01mdef\u001b[39;00m \u001b[38;5;21m__init__\u001b[39m(\u001b[38;5;28mself\u001b[39m):\n\u001b[0;32m      4\u001b[0m         \u001b[38;5;28msuper\u001b[39m(smape_loss, \u001b[38;5;28mself\u001b[39m)\u001b[38;5;241m.\u001b[39m\u001b[38;5;21m__init__\u001b[39m()\n",
      "\u001b[1;31mNameError\u001b[0m: name 'nn' is not defined"
     ]
    }
   ],
   "source": [
    "# 损失函数\n",
    "class smape_loss(nn.Module):\n",
    "    def __init__(self):\n",
    "        super(smape_loss, self).__init__()\n",
    "\n",
    "    def divide_no_nan(self, a, b):\n",
    "        \"\"\"\n",
    "        a/b where the resulted NaN or Inf are replaced by 0.\n",
    "        \"\"\"\n",
    "        result = a / b\n",
    "        result[result != result] = .0\n",
    "        result[result == np.inf] = .0\n",
    "        return result\n",
    "    \n",
    "    def sequence_mask(self, target: torch.Tensor):\n",
    "        np.random.seed(2024)\n",
    "        device = torch.device(\"cuda\" if torch.cuda.is_available() else \"cpu\")\n",
    "        batch_size, pred_len = target.shape[0], target.shape[1]\n",
    "        mask = torch.triu(torch.ones((pred_len, 1), dtype=torch.uint8),\n",
    "                        diagonal=1)\n",
    "        cut_point = np.random.randint(low=1, high=pred_len, size=1)[0]\n",
    "        mask[:cut_point, 0] = 1.0\n",
    "        mask.unsqueeze(0).expand(batch_size, -1, -1)  # [B, L, L]\n",
    "        return mask.to(device)\n",
    "\n",
    "    def forward(self, forecast: torch.Tensor, target: torch.Tensor) -> torch.float:\n",
    "        \"\"\"\n",
    "        sMAPE loss as defined in https://robjhyndman.com/hyndsight/smape/ (Makridakis 1993)\n",
    "\n",
    "        :param forecast: Forecast values. Shape: batch, time\n",
    "        :param target: Target values. Shape: batch, time\n",
    "        :param mask: 0/1 mask. Shape: batch, time\n",
    "        :return: Loss value\n",
    "        \"\"\"\n",
    "        mask = self.sequence_mask(target)\n",
    "        return 200 * torch.mean(self.divide_no_nan(torch.abs(forecast - target),\n",
    "                                          torch.abs(forecast.data) + torch.abs(target.data))* mask)"
   ]
  },
  {
   "cell_type": "code",
   "execution_count": null,
   "id": "292607e9",
   "metadata": {},
   "outputs": [],
   "source": [
    "def sequence_mask(target: torch.Tensor):\n",
    "    np.random.seed(2024)\n",
    "    device = torch.device(\"cuda\" if torch.cuda.is_available() else \"cpu\")\n",
    "    batch_size, seq_len = target.shape[0], target.shape[1]\n",
    "    mask = torch.triu(torch.ones((seq_len, 2), dtype=torch.uint8),\n",
    "                    diagonal=1)\n",
    "    cut_point = np.random.randint(low=1, high=seq_len, size=1)[0]\n",
    "    mask[-cut_point:, 0] = 1.0\n",
    "    mask = mask.unsqueeze(0).expand(batch_size, -1, -1)  # [B, L, L]\n",
    "    return mask.to(device)"
   ]
  }
 ],
 "metadata": {
  "kernelspec": {
   "display_name": "Python 3 (ipykernel)",
   "language": "python",
   "name": "python3"
  },
  "language_info": {
   "codemirror_mode": {
    "name": "ipython",
    "version": 3
   },
   "file_extension": ".py",
   "mimetype": "text/x-python",
   "name": "python",
   "nbconvert_exporter": "python",
   "pygments_lexer": "ipython3",
   "version": "3.9.18"
  },
  "toc": {
   "base_numbering": 1,
   "nav_menu": {},
   "number_sections": true,
   "sideBar": true,
   "skip_h1_title": false,
   "title_cell": "Table of Contents",
   "title_sidebar": "Contents",
   "toc_cell": false,
   "toc_position": {},
   "toc_section_display": true,
   "toc_window_display": false
  },
  "varInspector": {
   "cols": {
    "lenName": 16,
    "lenType": 16,
    "lenVar": 40
   },
   "kernels_config": {
    "python": {
     "delete_cmd_postfix": "",
     "delete_cmd_prefix": "del ",
     "library": "var_list.py",
     "varRefreshCmd": "print(var_dic_list())"
    },
    "r": {
     "delete_cmd_postfix": ") ",
     "delete_cmd_prefix": "rm(",
     "library": "var_list.r",
     "varRefreshCmd": "cat(var_dic_list()) "
    }
   },
   "types_to_exclude": [
    "module",
    "function",
    "builtin_function_or_method",
    "instance",
    "_Feature"
   ],
   "window_display": false
  }
 },
 "nbformat": 4,
 "nbformat_minor": 5
}
