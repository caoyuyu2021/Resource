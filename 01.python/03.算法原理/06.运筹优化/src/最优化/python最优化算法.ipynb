{
 "cells": [
  {
   "cell_type": "markdown",
   "id": "62956075",
   "metadata": {},
   "source": [
    "# 最优化算法与编程基础"
   ]
  },
  {
   "cell_type": "markdown",
   "id": "94c89878",
   "metadata": {},
   "source": [
    "最优化算法的内容包括：规划论（线性规划、非线性规划、整数规划和动态规划）、库存论、图论、排队论、可靠性理论、对策论、搜索论等。"
   ]
  },
  {
   "cell_type": "markdown",
   "id": "2c4f4c1e",
   "metadata": {},
   "source": [
    "# 数学规划方法"
   ]
  },
  {
   "cell_type": "markdown",
   "id": "0d52c8db",
   "metadata": {},
   "source": [
    "## 线性规划"
   ]
  },
  {
   "cell_type": "markdown",
   "id": "8472c113",
   "metadata": {},
   "source": [
    "## 整数规划"
   ]
  },
  {
   "cell_type": "markdown",
   "id": "e512db76",
   "metadata": {},
   "source": [
    "## 多目标优化"
   ]
  },
  {
   "cell_type": "markdown",
   "id": "49a97e36",
   "metadata": {},
   "source": [
    "# 启发式算法"
   ]
  },
  {
   "cell_type": "markdown",
   "id": "75283d67",
   "metadata": {},
   "source": [
    "## 动态规划"
   ]
  },
  {
   "cell_type": "markdown",
   "id": "9f8167c6",
   "metadata": {},
   "source": [
    "## 图与网络分析"
   ]
  },
  {
   "cell_type": "markdown",
   "id": "70950322",
   "metadata": {},
   "source": [
    "# 智能优化算法"
   ]
  },
  {
   "cell_type": "code",
   "execution_count": null,
   "id": "7e7e3902",
   "metadata": {},
   "outputs": [],
   "source": []
  }
 ],
 "metadata": {
  "kernelspec": {
   "display_name": "Python 3 (ipykernel)",
   "language": "python",
   "name": "python3"
  },
  "language_info": {
   "codemirror_mode": {
    "name": "ipython",
    "version": 3
   },
   "file_extension": ".py",
   "mimetype": "text/x-python",
   "name": "python",
   "nbconvert_exporter": "python",
   "pygments_lexer": "ipython3",
   "version": "3.9.18"
  },
  "toc": {
   "base_numbering": 1,
   "nav_menu": {},
   "number_sections": true,
   "sideBar": true,
   "skip_h1_title": false,
   "title_cell": "Table of Contents",
   "title_sidebar": "Contents",
   "toc_cell": false,
   "toc_position": {
    "height": "calc(100% - 180px)",
    "left": "10px",
    "top": "150px",
    "width": "214.014px"
   },
   "toc_section_display": true,
   "toc_window_display": true
  }
 },
 "nbformat": 4,
 "nbformat_minor": 5
}
