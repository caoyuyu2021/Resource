{
 "cells": [
  {
   "cell_type": "markdown",
   "id": "4b2a517d",
   "metadata": {},
   "source": [
    "# 时间序列概述"
   ]
  },
  {
   "cell_type": "markdown",
   "id": "ed6660ab",
   "metadata": {},
   "source": [
    "本代码来自弗朗西斯卡所著《时间序列预测：基于机器学习和python实现》"
   ]
  },
  {
   "cell_type": "code",
   "execution_count": 2,
   "id": "91e75e57",
   "metadata": {
    "ExecuteTime": {
     "end_time": "2023-12-11T06:33:43.641524Z",
     "start_time": "2023-12-11T06:33:43.276922Z"
    }
   },
   "outputs": [],
   "source": [
    "import scipy\n",
    "import numpy as np\n",
    "import pandas as pd\n",
    "import statsmodels\n",
    "import matplotlib.pyplot as plt\n",
    "from matplotlib import pyplot\n",
    "import seaborn as sns\n",
    "import datetime as dt\n",
    "import warnings\n",
    "import matplotlib\n",
    "import matplotlib.dates as mdates\n",
    "import statsmodels.api as sm\n",
    "from scipy import stats\n",
    "from pandas import Series\n",
    "from sklearn.preprocessing import MinMaxScaler\n",
    "from sklearn.preprocessing import StandardScaler\n",
    "from statsmodels.tsa.statespace.sarimax import SARIMAX\n",
    "from math import sqrt\n",
    "import math\n",
    "import os\n",
    "import shutil\n",
    "from collections import UserDict\n",
    "from glob import glob\n",
    "from IPython.display import Image\n",
    "\n",
    "plt.rcParams['font.sans-serif'] = ['SimHei'] # 用来正常显示中文标签SimHei\n",
    "plt.rcParams['axes.unicode_minus'] = False # 用来正常显示负号\n",
    "\n",
    "%matplotlib inline\n",
    "\n",
    "pd.options.display.float_format = \"{:,.2f}\".format\n",
    "np.set_printoptions(precision=2)\n",
    "warnings.filterwarnings(\"ignore\")"
   ]
  },
  {
   "cell_type": "markdown",
   "id": "b7d54e50",
   "metadata": {},
   "source": [
    "## 时间序列的特性"
   ]
  },
  {
   "cell_type": "markdown",
   "id": "206eb669",
   "metadata": {},
   "source": [
    "时间序列通常包含与事件相关的特定信息和特征：\n",
    "- **趋势**：此特征描述了长时间（而非季节性或周期性）的时间序列相对于较高或较低值的可见变化。\n",
    "* **季节性**：此特征描述了**固定时间段内**时间序列中的重复性和持久性模式。\n",
    "- **周期性**：此特征描述了时间序列数据中向上和向下变化的重复性和持续性模式，但**没有显示固定**的模式。\n",
    "* **噪声**：此特征描述了时间序列中数据的不规则值，因为没有重复性和持久性的模式。"
   ]
  },
  {
   "cell_type": "markdown",
   "id": "2567cbf3",
   "metadata": {},
   "source": [
    "### 趋势性"
   ]
  },
  {
   "cell_type": "markdown",
   "id": "b5dc23db",
   "metadata": {},
   "source": [
    "时间序列分析主要有三个组成部分：**长期运动或趋势**、**短期运动**（季节性短期运动、周期性短期运动）和**随机或不规则波动**。\n",
    "- 长期运动或趋势是指时间序列在一个较长的时间间隔内整体增加或减少的运动。\n",
    "* 短期运动：\n",
    "  - 季节性变化是显示相同变化的周期性时间波动，通常在不到一年的时间内重复出现。季节性总是有固定且已知的时期。如节日、天气和气候条件等。\n",
    "  - 周期性变化是一种周期性的模式，存在于数据显示上升和下降时，而不是固定的时期。一个完整的时期是一个周期，但一个周期不会有特定的预定时间长度，即使这些时间波动的持续时间通常超过一年。如商业周期等。\n",
    "- 随机或不规则波动是最后一个引起时间学列数据变化的因素。这些波动是不可控制的、不可预测的、不稳定的。如地震、战争等。\n",
    "\n",
    "一边情况下，将**长期运动或趋势**、**短期运动**（季节性短期运动、周期性短期运动）作为时间序列数据中的信号，**随机或不规则波动**作为噪声。"
   ]
  },
  {
   "cell_type": "markdown",
   "id": "2cf85a7b",
   "metadata": {},
   "source": [
    "### 平稳性"
   ]
  },
  {
   "cell_type": "markdown",
   "id": "2ab2f37e",
   "metadata": {},
   "source": [
    "**平稳性**：平稳性是指时间序列的统计参数不会随时间变化。即均值和方差，不随时间变化。\n",
    "- 强平稳：时间序列的所有统计参数不随时间变化。\n",
    "* 弱平稳：时间序列的均值和自协方差函数不随时间变化。"
   ]
  },
  {
   "cell_type": "markdown",
   "id": "7dfadc36",
   "metadata": {},
   "source": [
    "判断时间序列数据是否为平稳时间序列或非平稳时间序列，通常可以通过以下方法：\n",
    "\n",
    "- 平稳序列通常具有短期相关性，对于平稳的时间序列，自相关系数往往会迅速退化到零（滞后期越短相关性越高，滞后期为0时，相关性为1）；而对于非平稳的数据，退化会发生得更慢，或存在先减后增或者周期性的波动等变动。\n",
    "\n",
    "- 观察时间序列数据的均值和方差是否随时间变化而发生明显的改变。若均值和方差变化明显，则该时间序列数据可能为非平稳时间序列，反之，则可能为平稳时间序列。\n",
    "\n",
    "- 对时间序列数据进行差分后，再对数据通过ADF单位根检验或KPSS检验，如果检验通过，则该时间序列数据可能为平稳时间序列，反之，则可能为非平稳时间序列。"
   ]
  },
  {
   "cell_type": "markdown",
   "id": "2bf14a5e",
   "metadata": {},
   "source": [
    "## 时间序列的相关内容"
   ]
  },
  {
   "cell_type": "markdown",
   "id": "c2e74595",
   "metadata": {},
   "source": [
    "1、 预测模型的输入和输出。  \n",
    "  \n",
    "2、 预测模型的粒度级别：时间序列预测的粒度表示为每个时间戳捕获的值的最低详细级别。粒度与收集时间序列值的频率有关。有时，**聚合时间序列数据**可以是构建和优化时间序列模型的重要步骤：时间聚合是指特定时期内单个资源的所有数据点的组合（每天、每周或每月等），通过聚合，可以将每个粒度期间收集的数据点聚合为单个统计值，例如收集的所有数据点的平均值或总和。\n",
    "\n",
    "3、 预测模型的范围：预测模型的范围是指未来预测所需要的时间长度。\n",
    "\n",
    "4、 预测模型的内源性和外源性特征。\n",
    "\n",
    "5、 预测模型的结构化或非结构化特征：结构化数据包含明确定义的数据类型。非结构化数据包含不易搜索的数据，包括音频、视频等格式。\n",
    "\n",
    "6、 预测模型的单变量或多变量性质：**单变量时间序列**指的是由单个观测结果在相同的时间增量上顺序记录而成的序列。**多变量（多元）时间序列模型**是单变量模型的拓展，涉及两个或多个输入变量，不仅包括自身过去的信息，而且还包括其他变量的过去信息。\n",
    "\n",
    "7、 预测模型的单步或多步结构：时间序列预测描述了下一个时间步的预测值。由于仅预测一个时间步，因此被称为单步预测。与单步预测相对的是多步时间序列预测问题，其目标是预测时间序列中的一系列值。\n",
    "\n",
    "* **直接多步预测**：直接方法需要为每个预测时间戳创建一个单独的模型。例如，在预测接下来两个小时的能源消耗的情况下，我们需要开发一个模型来预测第一个小时的能源消耗，在开发一个模型来预测第二个小时的能源消耗。\n",
    "  \n",
    "- **递归多步预测**：递归地处理多步预测，其中创建单个时间序列模型来预测下一个时间戳，然后使用之前的预测来计算之后的预测。例如，在预测未来两个小时的能源消耗的情况下，我们需要开发一个单步预测模型。然后将该模型用于预测下一个小时的能源消耗，之后将该预测作为输入，以预测第二个小时的能源消耗。\n",
    "  \n",
    "+ **直接递归混合多步预测**：混合以上两种。\n",
    "  \n",
    "- **多输出预测**：多输出策略要求开发一个能够预测整个预测序列的模型。例如，在预测未来两个小时的能源消耗的情况下，只开发一个模型，并应用到一次计算中即可预测未来两小时的能源消耗结果。\n",
    "  \n",
    "8、 预测模型的连续或非连续时间序列值：彼此之间呈现一致的时间间隔的时间序列被定义为**连续的**。时间间隔不一致的时间序列可以被定义为**不连续的**：很多时候，不连续时间序列背后的原因通常是含有缺失值或损坏值。造成缺失的原因如下：\n",
    "- **随机缺失**：随机缺失意味着数据点缺失的倾向与缺失的数据无关，而是与某些观测到的数据有关。\n",
    "* **完全随机缺失**：某个值的缺失的事实与其假设值和其他变量的值没有关系。\n",
    "- **非随机缺失**：两个可能原因：缺失值取决于假设值，缺失值取决于其他变量的值。\n",
    "   \n",
    "前两种情况下，根据出现的情况删除含有缺失值的数据是安全的，而在第三种情况下，删除含有缺失值的观测值可能会在模型中产生偏差。\n",
    "- **列表删除**：列表删除会删除具有一个或多个缺失值的所有观测数据。特别是如果缺失的数据仅限于少量的观测。\n",
    "* **成对删除**：会分析所有存在目标变量的情况，最大限度地利用所有数据的分析基础。\n",
    "- **列删除**：如果60%以上的观测数据缺失，可以删除变量，但只有当变量不重要时才可以。\n",
    "   \n",
    " 9、时间序列插补技术，有以下几种方式：\n",
    "- **线性插值**：这种方法适用于具有一定趋势的时间序列，但不适用于季节性数据。\n",
    "* **季节调整和线性插值**：这种方法适用于具有趋势和季节性的数据。\n",
    "- **均值、中位数和众数**：缺点是均值插补会降低数据集的方差。"
   ]
  },
  {
   "cell_type": "markdown",
   "id": "88bf5585",
   "metadata": {},
   "source": [
    "![hellworld](../images/缺失值解决方案.png)"
   ]
  },
  {
   "cell_type": "markdown",
   "id": "3a51b025",
   "metadata": {},
   "source": [
    "## 时间序列的监督学习"
   ]
  },
  {
   "cell_type": "markdown",
   "id": "440f6e22",
   "metadata": {},
   "source": [
    "时间序列数据可以表示为监督学习问题：利用先前的时间步作为输入，然后利用下一个时间步作为模型的输出，将其时间序列数据集转换为监督学习问题。"
   ]
  },
  {
   "cell_type": "markdown",
   "id": "c0869d4b",
   "metadata": {},
   "source": [
    "如何将任何时间序列数据集转换为监督学习问题？通常利用先前时间步值来预测后续时间步值，这种方法被称为**滑动窗口法**。"
   ]
  },
  {
   "cell_type": "markdown",
   "id": "30ce82e6",
   "metadata": {},
   "source": [
    "时间序列预测通常有两种方式：单步预测和多步预测。\n",
    "- 单步预测：预测当前时间步t的下一个时间步t+1。\n",
    "- 多步预测：预测当前时间步t的下两个或更多个的时间步t+1,t+2,..."
   ]
  },
  {
   "cell_type": "markdown",
   "id": "cd532329",
   "metadata": {},
   "source": [
    "### 单步预测"
   ]
  },
  {
   "cell_type": "markdown",
   "id": "6a4bf324",
   "metadata": {},
   "source": [
    "#### 单变量单步预测"
   ]
  },
  {
   "cell_type": "markdown",
   "id": "b7364fb4",
   "metadata": {},
   "source": [
    "![单变量时间序列预测](../images/p1.jpg)\n",
    "<center style=\"font-size:14px;color:#C0C0C0;text-decoration:underline\">图1.单变量时间序列预测</center> "
   ]
  },
  {
   "cell_type": "markdown",
   "id": "c3997524",
   "metadata": {},
   "source": [
    "使用时第一行删除。"
   ]
  },
  {
   "cell_type": "markdown",
   "id": "b17fcd46",
   "metadata": {},
   "source": [
    "#### 多变量单步预测"
   ]
  },
  {
   "cell_type": "markdown",
   "id": "869e48ac",
   "metadata": {},
   "source": [
    "![单变量时间序列预测](../images/p2.jpg)\n",
    "<center style=\"font-size:14px;color:#C0C0C0;text-decoration:underline\">图2.多变量时间序列预测</center> "
   ]
  },
  {
   "cell_type": "markdown",
   "id": "09f45cac",
   "metadata": {},
   "source": [
    "使用时第一行删除。"
   ]
  },
  {
   "cell_type": "markdown",
   "id": "268b5578",
   "metadata": {},
   "source": [
    "### 多步预测"
   ]
  },
  {
   "cell_type": "markdown",
   "id": "1d299221",
   "metadata": {},
   "source": [
    "#### 单变量多步预测"
   ]
  },
  {
   "cell_type": "markdown",
   "id": "142e9773",
   "metadata": {},
   "source": [
    "![单变量时间序列预测](../images/p3.jpg)\n",
    "<center style=\"font-size:14px;color:#C0C0C0;text-decoration:underline\">图3.单变量时间序列多步预测</center> "
   ]
  },
  {
   "cell_type": "markdown",
   "id": "4790cb7c",
   "metadata": {},
   "source": [
    "使用时第一行和倒数第二行删除。"
   ]
  },
  {
   "cell_type": "markdown",
   "id": "10d6bc60",
   "metadata": {},
   "source": [
    "#### 多变量多步预测"
   ]
  },
  {
   "cell_type": "markdown",
   "id": "afb46ddf",
   "metadata": {},
   "source": [
    "# 时间序列预测解决方案"
   ]
  },
  {
   "cell_type": "markdown",
   "id": "f00a05ef",
   "metadata": {},
   "source": [
    "## 时间序列预测模板"
   ]
  },
  {
   "cell_type": "markdown",
   "id": "d1e3949c",
   "metadata": {},
   "source": [
    "![hello](../images/p4.jpg)\n",
    "<center style=\"font-size:14px;color:#C0C0C0;text-decoration:underline\">图4.时间序列预测模板</center> "
   ]
  },
  {
   "cell_type": "markdown",
   "id": "6f2e1ffa",
   "metadata": {},
   "source": [
    "### 业务理解和性能度量"
   ]
  },
  {
   "cell_type": "markdown",
   "id": "1dd94a45",
   "metadata": {},
   "source": [
    "1、决定衡量什么：比如预测性维护，需要首先考虑是否有足够的历史故障数据。\n",
    "\n",
    "2、决定如何衡量：中心目标是识别预测分析需要预测的关键业务变量。\n",
    "\n",
    "3、定义成功变量：将业务问题转化为数据科学问题并定义项目成功的度量标准。"
   ]
  },
  {
   "cell_type": "markdown",
   "id": "8de16a43",
   "metadata": {},
   "source": [
    "### 数据摄取"
   ]
  },
  {
   "cell_type": "markdown",
   "id": "1910a93f",
   "metadata": {},
   "source": [
    "数据摄取有三种不同的方法：批处理、实时处理和流处理。\n",
    "- 批处理：一种常见的大数据场景是对静止数据进行批处理。\n",
    "- 实时处理：实时处理方法处理实时捕获并以最小延迟处理的数据流，以生成实时（或接近实时）报告或自动响应。指不需要进行复杂分析的实时数据处理方式。\n",
    "- 流处理：使用流数据，并立即处理传入的数据流。指需要进行复杂分析的实时数据处理方式，包括过滤、聚合等。"
   ]
  },
  {
   "cell_type": "markdown",
   "id": "da8909ec",
   "metadata": {},
   "source": [
    "![hello](../images/p5.jpg)"
   ]
  },
  {
   "cell_type": "markdown",
   "id": "74d0d661",
   "metadata": {},
   "source": [
    "![hello](../images/p6.jpg)"
   ]
  },
  {
   "cell_type": "markdown",
   "id": "8a49d4fe",
   "metadata": {},
   "source": [
    "### 数据探索与理解"
   ]
  },
  {
   "cell_type": "markdown",
   "id": "98afc753",
   "metadata": {},
   "source": [
    "以下是关于原始数据质量的几个考虑因素：\n",
    "- 缺失值：在任何给定的时间段内，缺失值率不应大于10%，在缺少单个值的情况下，应该使用预定义的值（例如'9999'）而不是'0'，'0'可能是一个有效的度量。\n",
    "* 测量准确率：应准确记录消耗值或温度的实际值。通常，测量误差相对于真实值应小于1%。\n",
    "- 测量时间：要求所收集数据的实际时间戳相对于实际测量的真实时间不会偏差超过10秒。\n",
    "* 同步：当使用多个数据源时，应保持数据的时间戳的差不超过10秒。\n",
    "- 延迟：实际测量时间与加载时间之间的时间差。"
   ]
  },
  {
   "cell_type": "markdown",
   "id": "16cab31f",
   "metadata": {},
   "source": [
    "### 数据预处理和特征工程"
   ]
  },
  {
   "cell_type": "markdown",
   "id": "c61e8420",
   "metadata": {},
   "source": [
    "特征可以是基于数据集的两种主要类型：\n",
    "\n",
    "1、**固有的原始特征**\n",
    "\n",
    "2、**衍生特征**\n",
    "- 时间驱动特征：这些特征来源于日期/时间戳数据，它们提取并转化为如下的分类特征：\n",
    "  - 一天中的时间：一天中的小时，取值范围从0到23。\n",
    "  - 星期：取值范围从1到7。\n",
    "  - 日期：可以取1到31的值。\n",
    "  - 月份：取值范围从1到12。\n",
    "  - 周末：工作日取0， 周末取1。\n",
    "  - 假日：0表示普通的一天，1表示假日。\n",
    "  - 傅里叶项：傅里叶项是从时间戳中推导出的权值，用于捕获数据中的季节性（周期）。\n",
    "- 独立的测量特征\n",
    "  - 滞后特征：这些是实际值的时移值。滞后1特征将保持相对于当前时间戳的前一小时的需求值。\n",
    "  - 长期趋势：这一特征代表了需求在年份之间的线性增长。\n",
    "- 依赖特征：也称为标签"
   ]
  },
  {
   "cell_type": "markdown",
   "id": "fcdfcf69",
   "metadata": {},
   "source": [
    "### 模型构建和选择"
   ]
  },
  {
   "cell_type": "markdown",
   "id": "280a004c",
   "metadata": {},
   "source": [
    "训练集：拟合机器学习模型。\n",
    "\n",
    "验证集：用于在模型调整超参数时，为模型在训练集上的拟合提供无偏评估。\n",
    "\n",
    "测试集：确定模型是否过拟合或欠拟合。"
   ]
  },
  {
   "cell_type": "markdown",
   "id": "c48b5ae4",
   "metadata": {},
   "source": [
    "## 需求预测建模技术概述"
   ]
  },
  {
   "cell_type": "markdown",
   "id": "63343172",
   "metadata": {},
   "source": [
    "我们通常把包含时间维度的数据称为时间序列。时间序列建模的目标是找到与时间相关的趋势、季节性和自相关性，并建立模型。"
   ]
  },
  {
   "cell_type": "markdown",
   "id": "93174f70",
   "metadata": {},
   "source": [
    "### 常用建模技术"
   ]
  },
  {
   "cell_type": "markdown",
   "id": "4371455a",
   "metadata": {},
   "source": [
    "**移动平均（MA）**：通过对最近的K个点求平均来预测下一个数据点，其中K表示移动平均的次数。移动平均具有平滑预测的效果，因此可能不能很好的处理数据中的大波动。\n",
    "\n",
    "**指数平滑**：通过使用最近数据点的加权平均来预测下一个数据点。具体做法是，为最近的值分配更高的权重，并逐渐降低旧的测量值的权重。可以用来处理数据的季节性。\n",
    "\n",
    "**自回归**：自回归方法使用回归模型，通过之前的时间序列值来计算下一个日期点。\n",
    "\n",
    "**差分自回归移动平均（ARIMA）**：结合了自回归方法和移动平均。\n",
    "\n",
    "**一般多元回归**：包括非常简单的回归模型（线性回归）和更高级的回归模型（决策树、随机森林、神经网络等）。神经网络主要有三个内在能力：\n",
    "- 可以从输入到输出的任意映射中学习。\n",
    "- 支持多种输入和输出。\n",
    "- 可以自动提取跨越长序列的输入数据中的模式。"
   ]
  },
  {
   "cell_type": "markdown",
   "id": "ec747a95",
   "metadata": {},
   "source": [
    "### 模型评估"
   ]
  },
  {
   "cell_type": "markdown",
   "id": "d72ed2da",
   "metadata": {},
   "source": [
    "#### MAPE"
   ]
  },
  {
   "cell_type": "markdown",
   "id": "b1836b37",
   "metadata": {},
   "source": [
    "有一种与时间序列相关的、特定于需求预测的评估技术：**MAPE**。MAPE代表平均绝对百分比误差。MAPE使用的数学公式如下：\n",
    "$$MAPE=(\\frac{1}{n}\\sum_{i=1}^{n}|\\frac{实际值-预测值}{实际值}|)×100\\%$$\n",
    "当实际值为0时，MAPE没有意义，当实际值不是0，而是非常小的时候，MAPE经常出现极值，这种尺度敏感性使得MAPE作为低容量数据的误差方法几乎毫无价值。"
   ]
  },
  {
   "cell_type": "markdown",
   "id": "279bd92e",
   "metadata": {},
   "source": [
    "#### MAD"
   ]
  },
  {
   "cell_type": "markdown",
   "id": "ee53f3fe",
   "metadata": {},
   "source": [
    "平均绝对偏差：\n",
    "$$MAD=(\\frac{1}{n}\\sum_{i=1}^{n}|实际值-预测值|)×100\\%$$"
   ]
  },
  {
   "cell_type": "markdown",
   "id": "194969fd",
   "metadata": {},
   "source": [
    "#### MAD/平均比"
   ]
  },
  {
   "cell_type": "markdown",
   "id": "418ce28c",
   "metadata": {},
   "source": [
    "可以用来处理间歇和低容量数据。"
   ]
  },
  {
   "cell_type": "markdown",
   "id": "71da86e1",
   "metadata": {},
   "source": [
    "#### GMRAE"
   ]
  },
  {
   "cell_type": "markdown",
   "id": "98b203f0",
   "metadata": {},
   "source": [
    "几何平均相对绝对误差"
   ]
  },
  {
   "cell_type": "markdown",
   "id": "9a6fd830",
   "metadata": {},
   "source": [
    "#### SMAPE"
   ]
  },
  {
   "cell_type": "markdown",
   "id": "0c527c85",
   "metadata": {},
   "source": [
    "对称平均绝对百分比误差"
   ]
  },
  {
   "cell_type": "markdown",
   "id": "f17c055b",
   "metadata": {},
   "source": [
    "## 需求预测实例"
   ]
  },
  {
   "cell_type": "markdown",
   "id": "a1f2cad2",
   "metadata": {},
   "source": [
    "在能源部门，需求预测可以通过多种方式帮助解决关键的业务问题。在能源需求的背景下，短期负荷预测（STLF）被定义为在不久的将来对电网的各个部分（或整个电网）进行总负荷预测。长期负荷预测（LTLF）的目标是在一个时间段内预测电力需求，范围从一周到几个月（或者几年）。"
   ]
  },
  {
   "cell_type": "markdown",
   "id": "36351d13",
   "metadata": {},
   "source": [
    "![hello](../images/p7.jpg)"
   ]
  },
  {
   "cell_type": "markdown",
   "id": "074daf28",
   "metadata": {},
   "source": [
    "# 时间序列数据准备"
   ]
  },
  {
   "cell_type": "markdown",
   "id": "32ff3a4f",
   "metadata": {},
   "source": [
    "## 探索与理解时间序列"
   ]
  },
  {
   "cell_type": "code",
   "execution_count": 3,
   "id": "f091a6df",
   "metadata": {
    "ExecuteTime": {
     "end_time": "2023-12-11T02:08:03.910765Z",
     "start_time": "2023-12-11T02:08:03.857651Z"
    }
   },
   "outputs": [],
   "source": [
    "ts_data = pd.read_csv(\"../data/energy.csv\")"
   ]
  },
  {
   "cell_type": "code",
   "execution_count": 4,
   "id": "f746a2dc",
   "metadata": {
    "ExecuteTime": {
     "end_time": "2023-12-11T02:08:04.886994Z",
     "start_time": "2023-12-11T02:08:04.841642Z"
    }
   },
   "outputs": [],
   "source": [
    "ts_data = pd.DataFrame(ts_data[[\"load\", \"temp\"]].values, index=pd.to_datetime(ts_data[\"Unnamed: 0\"].values), columns=[\"load\", \"temp\"])"
   ]
  },
  {
   "cell_type": "code",
   "execution_count": 5,
   "id": "d765eb0b",
   "metadata": {
    "ExecuteTime": {
     "end_time": "2023-12-11T02:08:05.553543Z",
     "start_time": "2023-12-11T02:08:05.533846Z"
    }
   },
   "outputs": [],
   "source": [
    "ts_data = ts_data.asfreq(freq='H') #转换为小时频率的数据"
   ]
  },
  {
   "cell_type": "code",
   "execution_count": 6,
   "id": "01232f9f",
   "metadata": {
    "ExecuteTime": {
     "end_time": "2023-12-11T02:08:06.004955Z",
     "start_time": "2023-12-11T02:08:05.981489Z"
    }
   },
   "outputs": [
    {
     "data": {
      "text/html": [
       "<div>\n",
       "<style scoped>\n",
       "    .dataframe tbody tr th:only-of-type {\n",
       "        vertical-align: middle;\n",
       "    }\n",
       "\n",
       "    .dataframe tbody tr th {\n",
       "        vertical-align: top;\n",
       "    }\n",
       "\n",
       "    .dataframe thead th {\n",
       "        text-align: right;\n",
       "    }\n",
       "</style>\n",
       "<table border=\"1\" class=\"dataframe\">\n",
       "  <thead>\n",
       "    <tr style=\"text-align: right;\">\n",
       "      <th></th>\n",
       "      <th>load</th>\n",
       "      <th>temp</th>\n",
       "    </tr>\n",
       "  </thead>\n",
       "  <tbody>\n",
       "    <tr>\n",
       "      <th>2012-01-01 00:00:00</th>\n",
       "      <td>2698.0</td>\n",
       "      <td>32.00</td>\n",
       "    </tr>\n",
       "    <tr>\n",
       "      <th>2012-01-01 01:00:00</th>\n",
       "      <td>2558.0</td>\n",
       "      <td>32.67</td>\n",
       "    </tr>\n",
       "    <tr>\n",
       "      <th>2012-01-01 02:00:00</th>\n",
       "      <td>2444.0</td>\n",
       "      <td>30.00</td>\n",
       "    </tr>\n",
       "    <tr>\n",
       "      <th>2012-01-01 03:00:00</th>\n",
       "      <td>2402.0</td>\n",
       "      <td>31.00</td>\n",
       "    </tr>\n",
       "    <tr>\n",
       "      <th>2012-01-01 04:00:00</th>\n",
       "      <td>2403.0</td>\n",
       "      <td>32.00</td>\n",
       "    </tr>\n",
       "  </tbody>\n",
       "</table>\n",
       "</div>"
      ],
      "text/plain": [
       "                       load   temp\n",
       "2012-01-01 00:00:00  2698.0  32.00\n",
       "2012-01-01 01:00:00  2558.0  32.67\n",
       "2012-01-01 02:00:00  2444.0  30.00\n",
       "2012-01-01 03:00:00  2402.0  31.00\n",
       "2012-01-01 04:00:00  2403.0  32.00"
      ]
     },
     "execution_count": 6,
     "metadata": {},
     "output_type": "execute_result"
    }
   ],
   "source": [
    "ts_data.head()"
   ]
  },
  {
   "cell_type": "code",
   "execution_count": 7,
   "id": "48f68a68",
   "metadata": {
    "ExecuteTime": {
     "end_time": "2023-12-11T02:08:08.352662Z",
     "start_time": "2023-12-11T02:08:08.346561Z"
    }
   },
   "outputs": [
    {
     "data": {
      "text/plain": [
       "load    0\n",
       "temp    0\n",
       "dtype: int64"
      ]
     },
     "execution_count": 7,
     "metadata": {},
     "output_type": "execute_result"
    }
   ],
   "source": [
    "ts_data.isna().sum()"
   ]
  },
  {
   "cell_type": "code",
   "execution_count": 8,
   "id": "89b4d75c",
   "metadata": {
    "ExecuteTime": {
     "end_time": "2023-12-11T02:08:08.826221Z",
     "start_time": "2023-12-11T02:08:08.818280Z"
    }
   },
   "outputs": [
    {
     "data": {
      "text/plain": [
       "load    float64\n",
       "temp    float64\n",
       "dtype: object"
      ]
     },
     "execution_count": 8,
     "metadata": {},
     "output_type": "execute_result"
    }
   ],
   "source": [
    "ts_data.dtypes"
   ]
  },
  {
   "cell_type": "code",
   "execution_count": 9,
   "id": "63bc60ff",
   "metadata": {
    "ExecuteTime": {
     "end_time": "2023-12-11T02:08:09.455967Z",
     "start_time": "2023-12-11T02:08:09.434872Z"
    }
   },
   "outputs": [
    {
     "data": {
      "text/html": [
       "<div>\n",
       "<style scoped>\n",
       "    .dataframe tbody tr th:only-of-type {\n",
       "        vertical-align: middle;\n",
       "    }\n",
       "\n",
       "    .dataframe tbody tr th {\n",
       "        vertical-align: top;\n",
       "    }\n",
       "\n",
       "    .dataframe thead th {\n",
       "        text-align: right;\n",
       "    }\n",
       "</style>\n",
       "<table border=\"1\" class=\"dataframe\">\n",
       "  <thead>\n",
       "    <tr style=\"text-align: right;\">\n",
       "      <th></th>\n",
       "      <th>load</th>\n",
       "      <th>temp</th>\n",
       "    </tr>\n",
       "  </thead>\n",
       "  <tbody>\n",
       "    <tr>\n",
       "      <th>count</th>\n",
       "      <td>26304.000000</td>\n",
       "      <td>26304.000000</td>\n",
       "    </tr>\n",
       "    <tr>\n",
       "      <th>mean</th>\n",
       "      <td>3303.769199</td>\n",
       "      <td>47.765639</td>\n",
       "    </tr>\n",
       "    <tr>\n",
       "      <th>std</th>\n",
       "      <td>564.579253</td>\n",
       "      <td>19.338137</td>\n",
       "    </tr>\n",
       "    <tr>\n",
       "      <th>min</th>\n",
       "      <td>1979.000000</td>\n",
       "      <td>-13.670000</td>\n",
       "    </tr>\n",
       "    <tr>\n",
       "      <th>25%</th>\n",
       "      <td>2867.000000</td>\n",
       "      <td>32.670000</td>\n",
       "    </tr>\n",
       "    <tr>\n",
       "      <th>50%</th>\n",
       "      <td>3364.000000</td>\n",
       "      <td>48.330000</td>\n",
       "    </tr>\n",
       "    <tr>\n",
       "      <th>75%</th>\n",
       "      <td>3690.000000</td>\n",
       "      <td>63.670000</td>\n",
       "    </tr>\n",
       "    <tr>\n",
       "      <th>max</th>\n",
       "      <td>5224.000000</td>\n",
       "      <td>95.000000</td>\n",
       "    </tr>\n",
       "  </tbody>\n",
       "</table>\n",
       "</div>"
      ],
      "text/plain": [
       "               load          temp\n",
       "count  26304.000000  26304.000000\n",
       "mean    3303.769199     47.765639\n",
       "std      564.579253     19.338137\n",
       "min     1979.000000    -13.670000\n",
       "25%     2867.000000     32.670000\n",
       "50%     3364.000000     48.330000\n",
       "75%     3690.000000     63.670000\n",
       "max     5224.000000     95.000000"
      ]
     },
     "execution_count": 9,
     "metadata": {},
     "output_type": "execute_result"
    }
   ],
   "source": [
    "ts_data.describe()"
   ]
  },
  {
   "cell_type": "markdown",
   "id": "4c772635",
   "metadata": {},
   "source": [
    "statsmodels是具有时间序列分析的包，可以可视化组件的成分并从时间序列数据中获得更多见解。"
   ]
  },
  {
   "cell_type": "code",
   "execution_count": 10,
   "id": "8d2f7745",
   "metadata": {
    "ExecuteTime": {
     "end_time": "2023-12-11T02:08:14.171435Z",
     "start_time": "2023-12-11T02:08:13.189191Z"
    }
   },
   "outputs": [
    {
     "data": {
      "image/png": "[encoded data removed]",
      "text/plain": [
       "<Figure size 640x480 with 4 Axes>"
      ]
     },
     "metadata": {},
     "output_type": "display_data"
    }
   ],
   "source": [
    "ts_data_load = ts_data[\"load\"]\n",
    "decomposition = sm.tsa.seasonal_decompose(\n",
    "    ts_data_load[\"2012-07-01\":\"2012-12-31\"], model=\"additive\"\n",
    ") #季节性变化趋势\n",
    "\n",
    "fig = decomposition.plot()\n",
    "matplotlib.rcParams[\"figure.figsize\"] = [10.0, 6.0]"
   ]
  },
  {
   "cell_type": "markdown",
   "id": "63e1f5be",
   "metadata": {},
   "source": [
    "对于下图，每年将从1月开始，将月份设置为显示每三个月的变化的小定位器。"
   ]
  },
  {
   "cell_type": "code",
   "execution_count": 11,
   "id": "813e9406",
   "metadata": {
    "ExecuteTime": {
     "end_time": "2023-12-11T02:08:18.841633Z",
     "start_time": "2023-12-11T02:08:18.397406Z"
    }
   },
   "outputs": [
    {
     "data": {
      "text/plain": [
       "Text(0.5, 1.0, '时间序列负荷值及趋势分解图')"
      ]
     },
     "execution_count": 11,
     "metadata": {},
     "output_type": "execute_result"
    },
    {
     "data": {
      "image/png": "[encoded data removed]",
      "text/plain": [
       "<Figure size 1000x600 with 1 Axes>"
      ]
     },
     "metadata": {},
     "output_type": "display_data"
    }
   ],
   "source": [
    "decomposition = sm.tsa.seasonal_decompose(ts_data_load, model=\"additive\")\n",
    "\n",
    "fig, ax = plt.subplots()\n",
    "ax.grid(True)\n",
    "\n",
    "year = mdates.YearLocator(month=1)\n",
    "month = mdates.MonthLocator(interval=1)\n",
    "\n",
    "year_format = mdates.DateFormatter(\"%Y\")\n",
    "month_format = mdates.DateFormatter(\"%m\")\n",
    "\n",
    "ax.xaxis.set_minor_locator(month)\n",
    "ax.xaxis.grid(True, which=\"minor\")\n",
    "ax.xaxis.set_major_locator(year)\n",
    "ax.xaxis.set_major_formatter(year_format)\n",
    "\n",
    "plt.plot(ts_data_load.index, ts_data_load, c=\"blue\")\n",
    "plt.plot(decomposition.trend.index, decomposition.trend, c=\"yellow\")\n",
    "plt.title(\"时间序列负荷值及趋势分解图\")"
   ]
  },
  {
   "cell_type": "markdown",
   "id": "ffc56d7e",
   "metadata": {},
   "source": [
    "## 时间序列中缺失值的数据清理"
   ]
  },
  {
   "cell_type": "markdown",
   "id": "940693e8",
   "metadata": {},
   "source": [
    "时间序列中常用**线性插值**来填充缺失值，df.interpolate()函数可以填充，但仅支持method='linear'。"
   ]
  },
  {
   "cell_type": "code",
   "execution_count": 12,
   "id": "54cf105b",
   "metadata": {
    "ExecuteTime": {
     "end_time": "2023-12-11T02:08:22.322122Z",
     "start_time": "2023-12-11T02:08:22.313800Z"
    }
   },
   "outputs": [
    {
     "data": {
      "text/plain": [
       "2012-01-01 00:00:00    2698.0\n",
       "2012-01-01 01:00:00    2558.0\n",
       "2012-01-01 02:00:00    2444.0\n",
       "2012-01-01 03:00:00    2402.0\n",
       "2012-01-01 04:00:00    2403.0\n",
       "                        ...  \n",
       "2014-12-31 19:00:00    4012.0\n",
       "2014-12-31 20:00:00    3856.0\n",
       "2014-12-31 21:00:00    3671.0\n",
       "2014-12-31 22:00:00    3499.0\n",
       "2014-12-31 23:00:00    3345.0\n",
       "Freq: H, Name: load, Length: 26304, dtype: float64"
      ]
     },
     "execution_count": 12,
     "metadata": {},
     "output_type": "execute_result"
    }
   ],
   "source": [
    "ts_data_load.interpolate(limit=8, method='linear', limit_direction='both') \n",
    "#limit代表连续出现8个以上缺失值，就不会填充。limit_direction='both'：插值的极限方向"
   ]
  },
  {
   "cell_type": "code",
   "execution_count": 13,
   "id": "8e49bc78",
   "metadata": {
    "ExecuteTime": {
     "end_time": "2023-12-11T02:08:25.532229Z",
     "start_time": "2023-12-11T02:08:25.518202Z"
    }
   },
   "outputs": [
    {
     "data": {
      "text/plain": [
       "load    0\n",
       "temp    0\n",
       "dtype: int64"
      ]
     },
     "execution_count": 13,
     "metadata": {},
     "output_type": "execute_result"
    }
   ],
   "source": [
    "temp_mode = stats.mode(ts_data[\"temp\"]).mode #返回出现最多的值\n",
    "ts_data[\"temp\"] = ts_data[\"temp\"].fillna(temp_mode)\n",
    "ts_data.isnull().sum()"
   ]
  },
  {
   "cell_type": "markdown",
   "id": "2375cc3a",
   "metadata": {},
   "source": [
    "## 归一化和标准化时间序列数据"
   ]
  },
  {
   "cell_type": "markdown",
   "id": "1d5e3002",
   "metadata": {},
   "source": [
    "### 归一化"
   ]
  },
  {
   "cell_type": "markdown",
   "id": "f6f14f85",
   "metadata": {},
   "source": [
    "归一化将所有值都约束在0到1的范围内。对于使用**距离估计、线性回归以及处理输入值校准的神经网络算法**，必须进行归一化。"
   ]
  },
  {
   "cell_type": "code",
   "execution_count": 14,
   "id": "767b2eaa",
   "metadata": {
    "ExecuteTime": {
     "end_time": "2023-12-11T02:08:28.399653Z",
     "start_time": "2023-12-11T02:08:28.219332Z"
    }
   },
   "outputs": [
    {
     "name": "stdout",
     "output_type": "stream",
     "text": [
      "Min: 1979.000000, Max: 5224.000000\n"
     ]
    }
   ],
   "source": [
    "values = ts_data_load.values\n",
    "values = values.reshape((len(values), 1))\n",
    "\n",
    "scaler = MinMaxScaler(feature_range=(0, 1))\n",
    "scaler = scaler.fit(values)\n",
    "print(\"Min: %f, Max: %f\" % (scaler.data_min_, scaler.data_max_))"
   ]
  },
  {
   "cell_type": "markdown",
   "id": "5ac1641f",
   "metadata": {},
   "source": [
    "对归一化后的数据进行反转以再次显示原始值。"
   ]
  },
  {
   "cell_type": "code",
   "execution_count": 15,
   "id": "358c5c4b",
   "metadata": {
    "ExecuteTime": {
     "end_time": "2023-12-11T02:08:29.658891Z",
     "start_time": "2023-12-11T02:08:29.652614Z"
    }
   },
   "outputs": [
    {
     "name": "stdout",
     "output_type": "stream",
     "text": [
      "[0.22157165]\n",
      "[0.17842835]\n",
      "[0.14329738]\n",
      "[0.13035439]\n",
      "[0.13066256]\n",
      "[2698.]\n",
      "[2558.]\n",
      "[2444.]\n",
      "[2402.]\n",
      "[2403.]\n"
     ]
    }
   ],
   "source": [
    "normalized = scaler.transform(values)\n",
    "for i in range(5):\n",
    "    print(normalized[i])\n",
    "\n",
    "inversed = scaler.inverse_transform(normalized)\n",
    "for i in range(5):\n",
    "    print(inversed[i])"
   ]
  },
  {
   "cell_type": "markdown",
   "id": "7287b76d",
   "metadata": {},
   "source": [
    "### 标准化"
   ]
  },
  {
   "cell_type": "markdown",
   "id": "25d0b122",
   "metadata": {},
   "source": [
    "标准化使观测值的均值为0，标准差为1。标准化假设观测结果符合高斯分布，且均值和标准差表现良好。这包括**支持向量机、线性和逻辑回归等，以及采用已改善高斯数据性能的其他算法**。"
   ]
  },
  {
   "cell_type": "code",
   "execution_count": 16,
   "id": "06b87cef",
   "metadata": {
    "ExecuteTime": {
     "end_time": "2023-12-11T02:08:33.799183Z",
     "start_time": "2023-12-11T02:08:33.793136Z"
    }
   },
   "outputs": [
    {
     "name": "stdout",
     "output_type": "stream",
     "text": [
      "Mean: 3303.769199, StandardDeviation: 564.568521\n"
     ]
    }
   ],
   "source": [
    "values = ts_data_load.values\n",
    "values = values.reshape((len(values), 1))\n",
    "\n",
    "scaler = StandardScaler()\n",
    "scaler = scaler.fit(values)\n",
    "print(\"Mean: %f, StandardDeviation: %f\" % (scaler.mean_, sqrt(scaler.var_)))"
   ]
  },
  {
   "cell_type": "code",
   "execution_count": 17,
   "id": "44e85de8",
   "metadata": {
    "ExecuteTime": {
     "end_time": "2023-12-11T02:08:34.523536Z",
     "start_time": "2023-12-11T02:08:34.517639Z"
    }
   },
   "outputs": [
    {
     "name": "stdout",
     "output_type": "stream",
     "text": [
      "[-1.07297728]\n",
      "[-1.32095427]\n",
      "[-1.52287839]\n",
      "[-1.59727148]\n",
      "[-1.59550022]\n",
      "[2698.]\n",
      "[2558.]\n",
      "[2444.]\n",
      "[2402.]\n",
      "[2403.]\n"
     ]
    }
   ],
   "source": [
    "normalized = scaler.transform(values)\n",
    "for i in range(5):\n",
    "    print(normalized[i])\n",
    "\n",
    "inversed = scaler.inverse_transform(normalized)\n",
    "for i in range(5):\n",
    "    print(inversed[i])"
   ]
  },
  {
   "cell_type": "markdown",
   "id": "4a374f60",
   "metadata": {},
   "source": [
    "## 时间序列特征工程"
   ]
  },
  {
   "cell_type": "markdown",
   "id": "1a7f72c5",
   "metadata": {},
   "source": [
    "### 日期时间特征"
   ]
  },
  {
   "cell_type": "markdown",
   "id": "a899e6a1",
   "metadata": {},
   "source": [
    "日期时间特征是根据每个观测的时间戳创建的特征，这些特征的几个示例是每个观测的整数小时、月、一周的每一天。"
   ]
  },
  {
   "cell_type": "code",
   "execution_count": 18,
   "id": "6d42b648",
   "metadata": {
    "ExecuteTime": {
     "end_time": "2023-12-11T02:08:38.148334Z",
     "start_time": "2023-12-11T02:08:37.769723Z"
    }
   },
   "outputs": [
    {
     "name": "stdout",
     "output_type": "stream",
     "text": [
      "                       load   temp  hour  month  dayofweek\n",
      "2012-01-01 00:00:00  2698.0  32.00     0      1          1\n",
      "2012-01-01 01:00:00  2558.0  32.67     1      1          1\n",
      "2012-01-01 02:00:00  2444.0  30.00     2      1          1\n",
      "2012-01-01 03:00:00  2402.0  31.00     3      1          1\n",
      "2012-01-01 04:00:00  2403.0  32.00     4      1          1\n"
     ]
    }
   ],
   "source": [
    "ts_data[\"hour\"] = [ts_data.index[i].hour for i in range(len(ts_data))]\n",
    "ts_data[\"month\"] = [ts_data.index[i].month for i in range(len(ts_data))]\n",
    "ts_data[\"dayofweek\"] = [ts_data.index[i].day for i in range(len(ts_data))]\n",
    "print(ts_data.head(5))"
   ]
  },
  {
   "cell_type": "markdown",
   "id": "b3d95104",
   "metadata": {},
   "source": [
    "以下是一些可以构建并生成其他重要信息的特征示例：\n",
    "- 是否是周末\n",
    "- 一天中的分钟\n",
    "- 是否是夏时制\n",
    "- 是否有公共假期\n",
    "- 一年中的季度\n",
    "- 一天中的小时\n",
    "- 营业时间之前或之后\n",
    "- 一年中的季节\n",
    "\n",
    "日期时间特征不仅限于整数值，还可以是二进制特征。"
   ]
  },
  {
   "cell_type": "markdown",
   "id": "1619bf17",
   "metadata": {},
   "source": [
    "### 滞后特征和窗口特征"
   ]
  },
  {
   "cell_type": "markdown",
   "id": "345abd22",
   "metadata": {},
   "source": [
    "#### shift"
   ]
  },
  {
   "cell_type": "markdown",
   "id": "691766ca",
   "metadata": {},
   "source": [
    "frame.shift(periods=1, freq=None, axis=0) periods类型为int，表示移动的幅度，可以是正数，也可以是负数，默认值为1，1表示移动一次，这里移动的是数据，而索引是不移动的，移动之后没有对应值的，为NaN。以下为freq的参数设置。"
   ]
  },
  {
   "cell_type": "markdown",
   "id": "a505bffa",
   "metadata": {},
   "source": [
    "![hello](../images/p8.jpg)\n",
    "![hello](../images/p9.jpg)"
   ]
  },
  {
   "cell_type": "code",
   "execution_count": 19,
   "id": "a2807c7c",
   "metadata": {
    "ExecuteTime": {
     "end_time": "2023-12-11T02:08:42.958030Z",
     "start_time": "2023-12-11T02:08:42.949514Z"
    }
   },
   "outputs": [
    {
     "data": {
      "text/html": [
       "<div>\n",
       "<style scoped>\n",
       "    .dataframe tbody tr th:only-of-type {\n",
       "        vertical-align: middle;\n",
       "    }\n",
       "\n",
       "    .dataframe tbody tr th {\n",
       "        vertical-align: top;\n",
       "    }\n",
       "\n",
       "    .dataframe thead th {\n",
       "        text-align: right;\n",
       "    }\n",
       "</style>\n",
       "<table border=\"1\" class=\"dataframe\">\n",
       "  <thead>\n",
       "    <tr style=\"text-align: right;\">\n",
       "      <th></th>\n",
       "      <th>load</th>\n",
       "      <th>temp</th>\n",
       "      <th>hour</th>\n",
       "      <th>month</th>\n",
       "      <th>dayofweek</th>\n",
       "    </tr>\n",
       "  </thead>\n",
       "  <tbody>\n",
       "    <tr>\n",
       "      <th>2012-01-01 00:00:00</th>\n",
       "      <td>2698.0</td>\n",
       "      <td>32.00</td>\n",
       "      <td>0</td>\n",
       "      <td>1</td>\n",
       "      <td>1</td>\n",
       "    </tr>\n",
       "    <tr>\n",
       "      <th>2012-01-01 01:00:00</th>\n",
       "      <td>2558.0</td>\n",
       "      <td>32.67</td>\n",
       "      <td>1</td>\n",
       "      <td>1</td>\n",
       "      <td>1</td>\n",
       "    </tr>\n",
       "    <tr>\n",
       "      <th>2012-01-01 02:00:00</th>\n",
       "      <td>2444.0</td>\n",
       "      <td>30.00</td>\n",
       "      <td>2</td>\n",
       "      <td>1</td>\n",
       "      <td>1</td>\n",
       "    </tr>\n",
       "    <tr>\n",
       "      <th>2012-01-01 03:00:00</th>\n",
       "      <td>2402.0</td>\n",
       "      <td>31.00</td>\n",
       "      <td>3</td>\n",
       "      <td>1</td>\n",
       "      <td>1</td>\n",
       "    </tr>\n",
       "    <tr>\n",
       "      <th>2012-01-01 04:00:00</th>\n",
       "      <td>2403.0</td>\n",
       "      <td>32.00</td>\n",
       "      <td>4</td>\n",
       "      <td>1</td>\n",
       "      <td>1</td>\n",
       "    </tr>\n",
       "  </tbody>\n",
       "</table>\n",
       "</div>"
      ],
      "text/plain": [
       "                       load   temp  hour  month  dayofweek\n",
       "2012-01-01 00:00:00  2698.0  32.00     0      1          1\n",
       "2012-01-01 01:00:00  2558.0  32.67     1      1          1\n",
       "2012-01-01 02:00:00  2444.0  30.00     2      1          1\n",
       "2012-01-01 03:00:00  2402.0  31.00     3      1          1\n",
       "2012-01-01 04:00:00  2403.0  32.00     4      1          1"
      ]
     },
     "execution_count": 19,
     "metadata": {},
     "output_type": "execute_result"
    }
   ],
   "source": [
    "ts_data.head(5)"
   ]
  },
  {
   "cell_type": "code",
   "execution_count": 20,
   "id": "682ba1fd",
   "metadata": {
    "ExecuteTime": {
     "end_time": "2023-12-11T02:08:46.281490Z",
     "start_time": "2023-12-11T02:08:46.269867Z"
    }
   },
   "outputs": [
    {
     "data": {
      "text/html": [
       "<div>\n",
       "<style scoped>\n",
       "    .dataframe tbody tr th:only-of-type {\n",
       "        vertical-align: middle;\n",
       "    }\n",
       "\n",
       "    .dataframe tbody tr th {\n",
       "        vertical-align: top;\n",
       "    }\n",
       "\n",
       "    .dataframe thead th {\n",
       "        text-align: right;\n",
       "    }\n",
       "</style>\n",
       "<table border=\"1\" class=\"dataframe\">\n",
       "  <thead>\n",
       "    <tr style=\"text-align: right;\">\n",
       "      <th></th>\n",
       "      <th>load</th>\n",
       "      <th>temp</th>\n",
       "      <th>hour</th>\n",
       "      <th>month</th>\n",
       "      <th>dayofweek</th>\n",
       "    </tr>\n",
       "  </thead>\n",
       "  <tbody>\n",
       "    <tr>\n",
       "      <th>2012-01-01 04:00:00</th>\n",
       "      <td>2698.0</td>\n",
       "      <td>32.00</td>\n",
       "      <td>0</td>\n",
       "      <td>1</td>\n",
       "      <td>1</td>\n",
       "    </tr>\n",
       "    <tr>\n",
       "      <th>2012-01-01 05:00:00</th>\n",
       "      <td>2558.0</td>\n",
       "      <td>32.67</td>\n",
       "      <td>1</td>\n",
       "      <td>1</td>\n",
       "      <td>1</td>\n",
       "    </tr>\n",
       "    <tr>\n",
       "      <th>2012-01-01 06:00:00</th>\n",
       "      <td>2444.0</td>\n",
       "      <td>30.00</td>\n",
       "      <td>2</td>\n",
       "      <td>1</td>\n",
       "      <td>1</td>\n",
       "    </tr>\n",
       "    <tr>\n",
       "      <th>2012-01-01 07:00:00</th>\n",
       "      <td>2402.0</td>\n",
       "      <td>31.00</td>\n",
       "      <td>3</td>\n",
       "      <td>1</td>\n",
       "      <td>1</td>\n",
       "    </tr>\n",
       "    <tr>\n",
       "      <th>2012-01-01 08:00:00</th>\n",
       "      <td>2403.0</td>\n",
       "      <td>32.00</td>\n",
       "      <td>4</td>\n",
       "      <td>1</td>\n",
       "      <td>1</td>\n",
       "    </tr>\n",
       "  </tbody>\n",
       "</table>\n",
       "</div>"
      ],
      "text/plain": [
       "                       load   temp  hour  month  dayofweek\n",
       "2012-01-01 04:00:00  2698.0  32.00     0      1          1\n",
       "2012-01-01 05:00:00  2558.0  32.67     1      1          1\n",
       "2012-01-01 06:00:00  2444.0  30.00     2      1          1\n",
       "2012-01-01 07:00:00  2402.0  31.00     3      1          1\n",
       "2012-01-01 08:00:00  2403.0  32.00     4      1          1"
      ]
     },
     "execution_count": 20,
     "metadata": {},
     "output_type": "execute_result"
    }
   ],
   "source": [
    "ts_data_shift = ts_data.shift(4, freq='1H') #滞后4小时\n",
    "ts_data_shift.head(5)"
   ]
  },
  {
   "cell_type": "code",
   "execution_count": 21,
   "id": "27076f3a",
   "metadata": {
    "ExecuteTime": {
     "end_time": "2023-12-11T02:08:48.889235Z",
     "start_time": "2023-12-11T02:08:48.884519Z"
    }
   },
   "outputs": [],
   "source": [
    "#滞后函数，每后移一位创建一个特征，max_lag表示最多后移几位\n",
    "def generated_lagged_features(ts_data, var, max_lag):\n",
    "    for t in range(1, max_lag + 1):\n",
    "        ts_data[var + \"_lag\" + str(t)] = ts_data[var].shift(t, freq=\"1H\")"
   ]
  },
  {
   "cell_type": "code",
   "execution_count": 22,
   "id": "ee17f98d",
   "metadata": {
    "ExecuteTime": {
     "end_time": "2023-12-11T02:08:49.714414Z",
     "start_time": "2023-12-11T02:08:49.666506Z"
    }
   },
   "outputs": [
    {
     "name": "stdout",
     "output_type": "stream",
     "text": [
      "                       load   temp  hour  month  dayofweek  load_lag1  \\\n",
      "2012-01-01 00:00:00  2698.0  32.00     0      1          1        NaN   \n",
      "2012-01-01 01:00:00  2558.0  32.67     1      1          1     2698.0   \n",
      "2012-01-01 02:00:00  2444.0  30.00     2      1          1     2558.0   \n",
      "2012-01-01 03:00:00  2402.0  31.00     3      1          1     2444.0   \n",
      "2012-01-01 04:00:00  2403.0  32.00     4      1          1     2402.0   \n",
      "\n",
      "                     load_lag2  load_lag3  load_lag4  load_lag5  ...  \\\n",
      "2012-01-01 00:00:00        NaN        NaN        NaN        NaN  ...   \n",
      "2012-01-01 01:00:00        NaN        NaN        NaN        NaN  ...   \n",
      "2012-01-01 02:00:00     2698.0        NaN        NaN        NaN  ...   \n",
      "2012-01-01 03:00:00     2558.0     2698.0        NaN        NaN  ...   \n",
      "2012-01-01 04:00:00     2444.0     2558.0     2698.0        NaN  ...   \n",
      "\n",
      "                     load_lag7  load_lag8  temp_lag1  temp_lag2  temp_lag3  \\\n",
      "2012-01-01 00:00:00        NaN        NaN        NaN        NaN        NaN   \n",
      "2012-01-01 01:00:00        NaN        NaN      32.00        NaN        NaN   \n",
      "2012-01-01 02:00:00        NaN        NaN      32.67      32.00        NaN   \n",
      "2012-01-01 03:00:00        NaN        NaN      30.00      32.67      32.00   \n",
      "2012-01-01 04:00:00        NaN        NaN      31.00      30.00      32.67   \n",
      "\n",
      "                     temp_lag4  temp_lag5  temp_lag6  temp_lag7  temp_lag8  \n",
      "2012-01-01 00:00:00        NaN        NaN        NaN        NaN        NaN  \n",
      "2012-01-01 01:00:00        NaN        NaN        NaN        NaN        NaN  \n",
      "2012-01-01 02:00:00        NaN        NaN        NaN        NaN        NaN  \n",
      "2012-01-01 03:00:00        NaN        NaN        NaN        NaN        NaN  \n",
      "2012-01-01 04:00:00       32.0        NaN        NaN        NaN        NaN  \n",
      "\n",
      "[5 rows x 21 columns]\n"
     ]
    }
   ],
   "source": [
    "generated_lagged_features(ts_data, \"load\", 8)\n",
    "generated_lagged_features(ts_data, \"temp\", 8)\n",
    "print(ts_data.head(5))"
   ]
  },
  {
   "cell_type": "markdown",
   "id": "8c17463a",
   "metadata": {},
   "source": [
    "添加滞后特征的操作被称为**滑动窗口法**或窗口特征。\n",
    "\n",
    "一个常见的问题是，窗口的大小应该多大。一个好的方法是构建一系列不同的窗口宽度，或者从数据集中添加和删除他们，以查看哪个宽度对你的模型性能有更积极地影响。"
   ]
  },
  {
   "cell_type": "markdown",
   "id": "7381c00c",
   "metadata": {},
   "source": [
    "### 滚动窗口统计信息"
   ]
  },
  {
   "cell_type": "markdown",
   "id": "52bd75bb",
   "metadata": {},
   "source": [
    "#### rolling"
   ]
  },
  {
   "cell_type": "markdown",
   "id": "b0bd2e9d",
   "metadata": {},
   "source": [
    "滚动窗口统计信息的关键步骤是定义观测值的滚动窗口：首先在滚动窗口中获取每个时间点的观测值，并使用它们来计算决定使用的统计信息。接下来，需要进入下一个时间点，并对下一个窗口的观测值重复相同的计算。\n",
    "\n",
    "**移动平均**：移动一个时间窗口(当前点的前n个)，并计算该时间段的均值。pandas使用rolling()函数。"
   ]
  },
  {
   "cell_type": "markdown",
   "id": "8fdcb8d7",
   "metadata": {},
   "source": [
    "![hellworld](../images/rolling.png)"
   ]
  },
  {
   "cell_type": "code",
   "execution_count": 23,
   "id": "fda8d58a",
   "metadata": {
    "ExecuteTime": {
     "end_time": "2023-12-11T02:08:55.078027Z",
     "start_time": "2023-12-11T02:08:55.062252Z"
    }
   },
   "outputs": [
    {
     "name": "stdout",
     "output_type": "stream",
     "text": [
      "                     load_rol_mean    load\n",
      "2012-01-01 00:00:00            NaN  2698.0\n",
      "2012-01-01 01:00:00            NaN  2558.0\n",
      "2012-01-01 02:00:00         2628.0  2444.0\n",
      "2012-01-01 03:00:00         2501.0  2402.0\n",
      "2012-01-01 04:00:00         2423.0  2403.0\n",
      "2012-01-01 05:00:00         2402.5  2453.0\n",
      "2012-01-01 06:00:00         2428.0  2560.0\n",
      "2012-01-01 07:00:00         2506.5  2719.0\n",
      "2012-01-01 08:00:00         2639.5  2916.0\n",
      "2012-01-01 09:00:00         2817.5  3105.0\n"
     ]
    }
   ],
   "source": [
    "shifted = ts_data_load.shift(1) #每次移动一个点\n",
    "\n",
    "window = shifted.rolling(window=2)\n",
    "means = window.mean() #滑动平均\n",
    "new_dataframe = pd.concat([means, ts_data_load], axis=1)\n",
    "new_dataframe.columns = [\"load_rol_mean\", \"load\"]\n",
    "\n",
    "print(new_dataframe.head(10))"
   ]
  },
  {
   "cell_type": "code",
   "execution_count": 24,
   "id": "0b6efdf7",
   "metadata": {
    "ExecuteTime": {
     "end_time": "2023-12-11T02:08:58.567275Z",
     "start_time": "2023-12-11T02:08:58.549927Z"
    }
   },
   "outputs": [
    {
     "name": "stdout",
     "output_type": "stream",
     "text": [
      "                        min     mean     max    load\n",
      "2012-01-01 00:00:00     NaN      NaN     NaN  2698.0\n",
      "2012-01-01 01:00:00     NaN      NaN     NaN  2558.0\n",
      "2012-01-01 02:00:00     NaN      NaN     NaN  2444.0\n",
      "2012-01-01 03:00:00     NaN      NaN     NaN  2402.0\n",
      "2012-01-01 04:00:00     NaN      NaN     NaN  2403.0\n",
      "2012-01-01 05:00:00     NaN      NaN     NaN  2453.0\n",
      "2012-01-01 06:00:00  2402.0  2525.50  2698.0  2560.0\n",
      "2012-01-01 07:00:00  2402.0  2451.75  2558.0  2719.0\n",
      "2012-01-01 08:00:00  2402.0  2425.50  2453.0  2916.0\n",
      "2012-01-01 09:00:00  2402.0  2454.50  2560.0  3105.0\n"
     ]
    }
   ],
   "source": [
    "width = 4\n",
    "shifted = ts_data_load.shift(width - 1) #每次移动3个点\n",
    "window = shifted.rolling(window=width)\n",
    "\n",
    "new_dataframe = pd.concat([window.min(), window.mean(), window.max(), ts_data_load], axis=1)\n",
    "new_dataframe.columns = [\"min\", \"mean\", \"max\", \"load\"]\n",
    "\n",
    "print(new_dataframe.head(10))"
   ]
  },
  {
   "cell_type": "markdown",
   "id": "1ab3ff6b",
   "metadata": {},
   "source": [
    "### 扩展窗口统计信息"
   ]
  },
  {
   "cell_type": "markdown",
   "id": "be114bc1",
   "metadata": {},
   "source": [
    "#### expanding"
   ]
  },
  {
   "cell_type": "markdown",
   "id": "30cce56c",
   "metadata": {},
   "source": [
    "扩展窗口是包含所有历史数据的特征。pandas使用expanding()函数，该函数为每个时间步提供扩展的转换和所有先验值的集合。与rolling()函数功能相同。"
   ]
  },
  {
   "cell_type": "markdown",
   "id": "5c5f5a0a",
   "metadata": {},
   "source": [
    "![hellworld](../images/expanding.png)"
   ]
  },
  {
   "cell_type": "code",
   "execution_count": 25,
   "id": "2bded5b2",
   "metadata": {
    "ExecuteTime": {
     "end_time": "2023-12-11T02:09:02.182801Z",
     "start_time": "2023-12-11T02:09:02.170531Z"
    }
   },
   "outputs": [
    {
     "name": "stdout",
     "output_type": "stream",
     "text": [
      "                        min         mean     max  load+1\n",
      "2012-01-01 00:00:00     NaN          NaN     NaN     NaN\n",
      "2012-01-01 01:00:00     NaN          NaN     NaN  2698.0\n",
      "2012-01-01 02:00:00  2444.0  2566.666667  2698.0  2558.0\n",
      "2012-01-01 03:00:00  2402.0  2525.500000  2698.0  2444.0\n",
      "2012-01-01 04:00:00  2402.0  2501.000000  2698.0  2402.0\n",
      "2012-01-01 05:00:00  2402.0  2493.000000  2698.0  2403.0\n",
      "2012-01-01 06:00:00  2402.0  2502.571429  2698.0  2453.0\n",
      "2012-01-01 07:00:00  2402.0  2529.625000  2719.0  2560.0\n",
      "2012-01-01 08:00:00  2402.0  2572.555556  2916.0  2719.0\n",
      "2012-01-01 09:00:00  2402.0  2625.800000  3105.0  2916.0\n"
     ]
    }
   ],
   "source": [
    "window = ts_data_load.expanding(3)\n",
    "new_dataframe = pd.concat(\n",
    "    [window.min(), window.mean(), window.max(), ts_data_load.shift(1)], axis=1\n",
    ")\n",
    "new_dataframe.columns = [\"min\", \"mean\", \"max\", \"load+1\"]\n",
    "print(new_dataframe.head(10))"
   ]
  },
  {
   "cell_type": "markdown",
   "id": "bc87eff8",
   "metadata": {},
   "source": [
    "#### ewm"
   ]
  },
  {
   "cell_type": "markdown",
   "id": "a5b4b1bc",
   "metadata": {},
   "source": [
    "指数加权函数滑动窗口(ewm)算子可以计算指数加权平均值的计算，具体的说来，就是更近观测的数值具有更高的权重，对于ewm指定权重的方式即指定跨度（span），由于给近期的观测值更高的权重，与等权重相比，它对变化适应的更快。"
   ]
  },
  {
   "cell_type": "markdown",
   "id": "d5356f3e",
   "metadata": {},
   "source": [
    "![hellworld](../images/ewm.png)\n",
    "![hellworld](../images/ewm2.png)"
   ]
  },
  {
   "cell_type": "code",
   "execution_count": 27,
   "id": "3a5af69f",
   "metadata": {
    "ExecuteTime": {
     "end_time": "2023-12-11T02:16:03.611217Z",
     "start_time": "2023-12-11T02:16:03.593584Z"
    }
   },
   "outputs": [
    {
     "name": "stdout",
     "output_type": "stream",
     "text": [
      "                            std         mean           var  load+1\n",
      "2012-01-01 00:00:00         NaN  2698.000000           NaN     NaN\n",
      "2012-01-01 01:00:00   98.994949  2618.000000   9800.000000  2698.0\n",
      "2012-01-01 02:00:00  125.123075  2542.756757  15655.783784  2558.0\n",
      "2012-01-01 03:00:00  123.392479  2491.280000  15225.703784  2444.0\n",
      "2012-01-01 04:00:00  109.053535  2462.343150  11892.673393  2402.0\n",
      "2012-01-01 05:00:00   89.541414  2459.501634   8017.664863  2403.0\n",
      "2012-01-01 06:00:00   90.160790  2488.496584   8128.968043  2453.0\n",
      "2012-01-01 07:00:00  136.745280  2552.533345  18699.271622  2560.0\n",
      "2012-01-01 08:00:00  211.539588  2650.776570  44748.997295  2719.0\n",
      "2012-01-01 09:00:00  283.688301  2771.108756  80479.052187  2916.0\n"
     ]
    }
   ],
   "source": [
    "window = ts_data_load.ewm(3)\n",
    "new_dataframe = pd.concat(\n",
    "    [window.std(), window.mean(), window.var(), ts_data_load.shift(1)], axis=1\n",
    ")\n",
    "new_dataframe.columns = [\"std\", \"mean\", \"var\", \"load+1\"]\n",
    "print(new_dataframe.head(10))"
   ]
  },
  {
   "cell_type": "code",
   "execution_count": null,
   "id": "434a0b34",
   "metadata": {},
   "outputs": [],
   "source": []
  },
  {
   "cell_type": "markdown",
   "id": "9c82a869",
   "metadata": {},
   "source": [
    "# 传统时间序列预测方法"
   ]
  },
  {
   "cell_type": "markdown",
   "id": "e0251ea5",
   "metadata": {},
   "source": [
    "经典的时间序列预测方法一般侧重于历史数据和未来结果之间的线性关系。"
   ]
  },
  {
   "cell_type": "markdown",
   "id": "f68acc77",
   "metadata": {},
   "source": [
    "## 平稳性检验"
   ]
  },
  {
   "cell_type": "markdown",
   "id": "f215f334",
   "metadata": {},
   "source": [
    "### 图形分析方法"
   ]
  },
  {
   "cell_type": "markdown",
   "id": "3a21b8ad",
   "metadata": {},
   "source": [
    "- 可视化数据即绘制时间序列的折线图，看曲线是否围绕某一数值上下波动（判断均值是否稳定），看曲线上下波动幅度变化大不大（判断方差是否稳定），看曲线不同时间段波动的频率变化大不大（判断协方差是否稳定），以此来判断时间序列是否是平稳的。\n",
    "\n",
    "- 可视化统计特征，是指绘制时间序列的自相关图和偏自相关图，根据自相关图的表现来判断序列是否平稳。"
   ]
  },
  {
   "cell_type": "code",
   "execution_count": 16,
   "id": "be05ef82",
   "metadata": {
    "ExecuteTime": {
     "end_time": "2023-12-07T09:42:43.088597Z",
     "start_time": "2023-12-07T09:42:42.696237Z"
    }
   },
   "outputs": [
    {
     "data": {
      "text/plain": [
       "Text(0.5, 1.0, '时间序列负荷值及趋势分解图')"
      ]
     },
     "execution_count": 16,
     "metadata": {},
     "output_type": "execute_result"
    },
    {
     "data": {
      "image/png": "[encoded data removed]",
      "text/plain": [
       "<Figure size 1000x600 with 1 Axes>"
      ]
     },
     "metadata": {},
     "output_type": "display_data"
    }
   ],
   "source": [
    "ts_data_load = ts_data[\"load\"]\n",
    "plt.plot(ts_data_load.index, ts_data_load)\n",
    "plt.title(\"时间序列负荷值及趋势分解图\")"
   ]
  },
  {
   "cell_type": "markdown",
   "id": "25209b09",
   "metadata": {},
   "source": [
    "曲线上下波动，波动幅度前后、上下一致，为平稳序列。"
   ]
  },
  {
   "cell_type": "markdown",
   "id": "851f4c10",
   "metadata": {},
   "source": [
    "### 简单统计方法"
   ]
  },
  {
   "cell_type": "code",
   "execution_count": 17,
   "id": "d5ac6448",
   "metadata": {
    "ExecuteTime": {
     "end_time": "2023-12-07T09:50:30.752470Z",
     "start_time": "2023-12-07T09:50:30.747155Z"
    }
   },
   "outputs": [],
   "source": [
    "#将数据拆分为2份，计算每份的均值，方差\n",
    "def describe(X):\n",
    "    split = int(len(X) / 2)\n",
    "    X1, X2 = X[0:split], X[split:]\n",
    "    mean1, mean2 = X1.mean(), X2.mean()\n",
    "    var1, var2 = X1.var(), X2.var()\n",
    "    print('mean1=%f, mean2=%f\\n' % (mean1, mean2))\n",
    "    print('variance1=%f, variance2=%f' % (var1, var2))"
   ]
  },
  {
   "cell_type": "code",
   "execution_count": 18,
   "id": "e33304cd",
   "metadata": {
    "ExecuteTime": {
     "end_time": "2023-12-07T09:50:49.494009Z",
     "start_time": "2023-12-07T09:50:49.483078Z"
    }
   },
   "outputs": [
    {
     "name": "stdout",
     "output_type": "stream",
     "text": [
      "mean1=3259.103748, mean2=3348.434649\n",
      "\n",
      "variance1=307931.570427, variance2=325601.825305\n"
     ]
    }
   ],
   "source": [
    "describe(ts_data_load)"
   ]
  },
  {
   "cell_type": "markdown",
   "id": "57113274",
   "metadata": {},
   "source": [
    "序列均值和方差略有不同，但大致在同一水平线上，所以为平稳时间序列。"
   ]
  },
  {
   "cell_type": "markdown",
   "id": "36231736",
   "metadata": {},
   "source": [
    "### 假设检验方法"
   ]
  },
  {
   "cell_type": "markdown",
   "id": "7567fdbc",
   "metadata": {},
   "source": [
    "#### 差分"
   ]
  },
  {
   "cell_type": "markdown",
   "id": "9b271a66",
   "metadata": {},
   "source": [
    "为什么先差分再检验平稳性？\n",
    "\n",
    "- 大部分经典时间序列模型，如ARIMA模型，要求时间序列是平稳的。只有当时间序列平稳时，才能有效运用这些模型来进行预测和建模。\n",
    "\n",
    "- 差分操作可以去除时间序列中的趋势、季节性等非平稳性因素，使得原始数据更符合平稳性的要求。\n",
    "\n",
    "- 差分操作可以消除时间序列的自相关性，使得之后的模型拟合和预测更加准确可靠。"
   ]
  },
  {
   "cell_type": "code",
   "execution_count": 19,
   "id": "e3139dc1",
   "metadata": {
    "ExecuteTime": {
     "end_time": "2023-12-07T10:04:19.064996Z",
     "start_time": "2023-12-07T10:04:19.052919Z"
    }
   },
   "outputs": [
    {
     "data": {
      "text/plain": [
       "(26303,)"
      ]
     },
     "execution_count": 19,
     "metadata": {},
     "output_type": "execute_result"
    }
   ],
   "source": [
    "# data为时间序列数据，n为差分次数，默认为1\n",
    "def difference(data, n=1):\n",
    "    diff = data.diff(n)\n",
    "    diff.dropna(inplace=True)\n",
    "    return diff\n",
    "\n",
    "# 差分1次\n",
    "diff_data = difference(ts_data_load)\n",
    "diff_data.shape"
   ]
  },
  {
   "cell_type": "markdown",
   "id": "c698c033",
   "metadata": {},
   "source": [
    "#### ADF单位根检验"
   ]
  },
  {
   "cell_type": "markdown",
   "id": "961e5aa4",
   "metadata": {},
   "source": [
    "ADF单位根检验：检验结果包括ADF统计量、p值以及临界值。若 p 值小于显著性水平（常见使用的是0.05），则可以拒绝原假设，即数据是平稳的，反之。"
   ]
  },
  {
   "cell_type": "code",
   "execution_count": 20,
   "id": "94e7f1bc",
   "metadata": {
    "ExecuteTime": {
     "end_time": "2023-12-07T10:06:53.018462Z",
     "start_time": "2023-12-07T10:06:50.644997Z"
    }
   },
   "outputs": [
    {
     "name": "stdout",
     "output_type": "stream",
     "text": [
      "ADF Statistic: -25.763207\n",
      "p-value: 0.000000\n",
      "Critical Values:\n",
      "\t1%: -3.431\n",
      "\t5%: -2.862\n",
      "\t10%: -2.567\n",
      "该序列是平稳的\n"
     ]
    }
   ],
   "source": [
    "from statsmodels.tsa.stattools import adfuller\n",
    "\n",
    "# data为时间序列数据\n",
    "result = adfuller(diff_data)\n",
    "print('ADF Statistic: %f' % result[0])\n",
    "print('p-value: %f' % result[1])\n",
    "print('Critical Values:')\n",
    "for key, value in result[4].items():\n",
    "    print('\\t%s: %.3f' % (key, value))\n",
    "    \n",
    "if result[1]<0.05:\n",
    "    print(\"该序列是平稳的\")\n",
    "else:\n",
    "    print(\"该序列是非平稳的\")"
   ]
  },
  {
   "cell_type": "markdown",
   "id": "9f752398",
   "metadata": {
    "ExecuteTime": {
     "end_time": "2023-12-07T10:08:21.188645Z",
     "start_time": "2023-12-07T10:08:21.184159Z"
    }
   },
   "source": [
    "#### KPSS检验"
   ]
  },
  {
   "cell_type": "markdown",
   "id": "364659ea",
   "metadata": {},
   "source": [
    "KPSS检验：检验结果包括KPSS统计量、p值以及临界值。若 p 值小于显著性水平，则可以拒绝原假设，即数据是非平稳的，反之。"
   ]
  },
  {
   "cell_type": "code",
   "execution_count": 22,
   "id": "a74bc128",
   "metadata": {
    "ExecuteTime": {
     "end_time": "2023-12-07T10:09:12.359625Z",
     "start_time": "2023-12-07T10:09:12.351672Z"
    }
   },
   "outputs": [
    {
     "name": "stdout",
     "output_type": "stream",
     "text": [
      "KPSS Statistic: 0.007016\n",
      "p-value: 0.100000\n",
      "Critical Values:\n",
      "\t10%: 0.347\n",
      "\t5%: 0.463\n",
      "\t2.5%: 0.574\n",
      "\t1%: 0.739\n",
      "该序列是平稳的\n"
     ]
    }
   ],
   "source": [
    "from statsmodels.tsa.stattools import kpss\n",
    "\n",
    "# data为时间序列数据\n",
    "result = kpss(diff_data)\n",
    "print('KPSS Statistic: %f' % result[0])\n",
    "print('p-value: %f' % result[1])\n",
    "print('Critical Values:')\n",
    "for key, value in result[3].items():\n",
    "    print('\\t%s: %.3f' % (key, value))\n",
    "    \n",
    "if result[1]>0.05:\n",
    "    print(\"该序列是平稳的\")\n",
    "else:\n",
    "    print(\"该序列是非平稳的\")"
   ]
  },
  {
   "cell_type": "markdown",
   "id": "766051af",
   "metadata": {},
   "source": [
    "## 自回归"
   ]
  },
  {
   "cell_type": "markdown",
   "id": "eef903a1",
   "metadata": {},
   "source": [
    "自回归(**AR(p)**)是一种时间序列预测方法，仅依赖于时间序列的先前输出：该技术假设下一个时间戳的未来观测值与先前时间戳的观测值存在线性关系。\n",
    "\n",
    "在自回归中，前一个时间戳的输出值成为预测下一个时间戳的输入值，并且误差遵循简单线性回归模型中关于误差的一般假设。\n",
    "\n",
    "在自回归中，时间序列中用于预测下一个时间戳的先前输入值的数量成为顺序（用p表示），该顺序值决定了使用多少个先前的数据点。通常使用最小的赤池信息量准则（AIC）得出的模型来估计p值。\n",
    "\n",
    "将当前预测值基于紧接在前的值的自回归称为**一阶自回归**。\n",
    "\n",
    "如果使用前两个值来预测下一个时间戳的值，该方法称为**二阶自回归**。\n",
    "\n",
    "更一般地，n阶自回归是**多重线性回归**。"
   ]
  },
  {
   "cell_type": "markdown",
   "id": "7c08ea53",
   "metadata": {},
   "source": [
    "![hello](../images/p10.jpg)\n",
    "![hello](../images/p11.jpg)"
   ]
  },
  {
   "cell_type": "markdown",
   "id": "e81fe8c2",
   "metadata": {},
   "source": [
    "### 自相关"
   ]
  },
  {
   "cell_type": "markdown",
   "id": "9f2c8c1c",
   "metadata": {},
   "source": [
    "**自相关**是自回归的一个关键概念，当时间序列与其自身的之前或滞后版本线性相关时，就会出现。\n",
    "\n",
    "自相关对于识别时间序列数据中的季节性和趋势非常有用。\n"
   ]
  },
  {
   "cell_type": "markdown",
   "id": "9d0ce529",
   "metadata": {},
   "source": [
    "### 滞后图"
   ]
  },
  {
   "cell_type": "markdown",
   "id": "3b518e0f",
   "metadata": {},
   "source": [
    "pandas提供**滞后图**（lag_plot）的方法用于检查时间序列数据是否存在自相关。"
   ]
  },
  {
   "cell_type": "code",
   "execution_count": 82,
   "id": "73c90c63",
   "metadata": {
    "ExecuteTime": {
     "end_time": "2023-11-26T13:36:08.696357Z",
     "start_time": "2023-11-26T13:36:08.666264Z"
    }
   },
   "outputs": [
    {
     "data": {
      "text/plain": [
       "2012-01-01 00:00:00   2,698.00\n",
       "2012-01-01 01:00:00   2,558.00\n",
       "2012-01-01 02:00:00   2,444.00\n",
       "2012-01-01 03:00:00   2,402.00\n",
       "2012-01-01 04:00:00   2,403.00\n",
       "Freq: H, Name: load, dtype: float64"
      ]
     },
     "execution_count": 82,
     "metadata": {},
     "output_type": "execute_result"
    }
   ],
   "source": [
    "ts_data_load.head()"
   ]
  },
  {
   "cell_type": "code",
   "execution_count": 81,
   "id": "d9771dcc",
   "metadata": {
    "ExecuteTime": {
     "end_time": "2023-11-26T13:32:50.187515Z",
     "start_time": "2023-11-26T13:32:49.785835Z"
    }
   },
   "outputs": [
    {
     "data": {
      "text/plain": [
       "<Axes: xlabel='y(t)', ylabel='y(t + 1)'>"
      ]
     },
     "execution_count": 81,
     "metadata": {},
     "output_type": "execute_result"
    },
    {
     "data": {
      "image/png": "[encoded data removed]",
      "text/plain": [
       "<Figure size 1000x600 with 1 Axes>"
      ]
     },
     "metadata": {},
     "output_type": "display_data"
    }
   ],
   "source": [
    "from pandas.plotting import lag_plot\n",
    "plt.figure()\n",
    "lag_plot(ts_data_load)"
   ]
  },
  {
   "cell_type": "markdown",
   "id": "95786e0a",
   "metadata": {},
   "source": [
    "### 自相关图"
   ]
  },
  {
   "cell_type": "markdown",
   "id": "7595e530",
   "metadata": {},
   "source": [
    "如果时间序列是随机的，则所有时间滞后的自相关值应该接近于零，如果不是随机的，那么一个或多个自相关将显著非零。"
   ]
  },
  {
   "cell_type": "code",
   "execution_count": 83,
   "id": "d5bafb3f",
   "metadata": {
    "ExecuteTime": {
     "end_time": "2023-11-26T13:38:14.218467Z",
     "start_time": "2023-11-26T13:38:13.054685Z"
    }
   },
   "outputs": [
    {
     "data": {
      "text/plain": [
       "<Axes: xlabel='Lag', ylabel='Autocorrelation'>"
      ]
     },
     "execution_count": 83,
     "metadata": {},
     "output_type": "execute_result"
    },
    {
     "data": {
      "image/png": "[encoded data removed]",
      "text/plain": [
       "<Figure size 1000x600 with 1 Axes>"
      ]
     },
     "metadata": {},
     "output_type": "display_data"
    }
   ],
   "source": [
    "from pandas.plotting import autocorrelation_plot\n",
    "plt.figure()\n",
    "autocorrelation_plot(ts_data_load)"
   ]
  },
  {
   "cell_type": "markdown",
   "id": "2a3923d4",
   "metadata": {},
   "source": [
    "如下图所示：自相关图显示了垂直轴上的自相关函数值，它的范围是-1到1.图中虚线代表99%置信区间，实线是95%置信区间。自相关图旨在揭示时间序列的数据点是正相关的、负相关的还是不相关的。"
   ]
  },
  {
   "cell_type": "code",
   "execution_count": 84,
   "id": "70a18254",
   "metadata": {
    "ExecuteTime": {
     "end_time": "2023-11-26T13:41:24.764662Z",
     "start_time": "2023-11-26T13:41:24.478849Z"
    }
   },
   "outputs": [
    {
     "data": {
      "text/plain": [
       "<Axes: xlabel='Lag', ylabel='Autocorrelation'>"
      ]
     },
     "execution_count": 84,
     "metadata": {},
     "output_type": "execute_result"
    },
    {
     "data": {
      "image/png": "[encoded data removed]",
      "text/plain": [
       "<Figure size 1000x600 with 1 Axes>"
      ]
     },
     "metadata": {},
     "output_type": "display_data"
    }
   ],
   "source": [
    "ts_data_load_subset = ts_data_load[\"2014-08-01\":\"2014-08-07\"]\n",
    "from pandas.plotting import autocorrelation_plot\n",
    "\n",
    "plt.figure()\n",
    "autocorrelation_plot(ts_data_load_subset)"
   ]
  },
  {
   "cell_type": "markdown",
   "id": "16a6d4fd",
   "metadata": {},
   "source": [
    "### 自相关函数"
   ]
  },
  {
   "cell_type": "markdown",
   "id": "79c9bd0b",
   "metadata": {},
   "source": [
    "时间序列的滞后自相关图也称为自相关函数（ACF）。下图横轴代表滞后数，纵轴代表自相关值。"
   ]
  },
  {
   "cell_type": "code",
   "execution_count": 85,
   "id": "1b04d6bd",
   "metadata": {
    "ExecuteTime": {
     "end_time": "2023-11-26T13:47:49.104997Z",
     "start_time": "2023-11-26T13:47:48.727881Z"
    }
   },
   "outputs": [
    {
     "data": {
      "image/png": "[encoded data removed]",
      "text/plain": [
       "<Figure size 1000x600 with 1 Axes>"
      ]
     },
     "metadata": {},
     "output_type": "display_data"
    }
   ],
   "source": [
    "from statsmodels.graphics.tsaplots import plot_acf\n",
    "\n",
    "plot_acf(ts_data_load)\n",
    "pyplot.show()"
   ]
  },
  {
   "cell_type": "code",
   "execution_count": 86,
   "id": "fdf75681",
   "metadata": {
    "ExecuteTime": {
     "end_time": "2023-11-26T13:48:50.334130Z",
     "start_time": "2023-11-26T13:48:50.119369Z"
    }
   },
   "outputs": [
    {
     "data": {
      "image/png": "[encoded data removed]",
      "text/plain": [
       "<Figure size 1000x600 with 1 Axes>"
      ]
     },
     "metadata": {},
     "output_type": "display_data"
    }
   ],
   "source": [
    "from statsmodels.graphics.tsaplots import plot_acf\n",
    "\n",
    "plot_acf(ts_data_load_subset)\n",
    "pyplot.show()"
   ]
  },
  {
   "cell_type": "markdown",
   "id": "80002ea9",
   "metadata": {},
   "source": [
    "上面两个图中，置信区间被绘制成圆锥形，默认置信区间设置为95%，这表明该圆锥体之外的值很可能是相关的。"
   ]
  },
  {
   "cell_type": "markdown",
   "id": "06049ab6",
   "metadata": {},
   "source": [
    "自相关系数很快就衰减到0附近，是明显的平稳序列。滞后期为0时自相关系数和偏自相关系数其实就是序列自己和自己的相关性，故为1。"
   ]
  },
  {
   "cell_type": "markdown",
   "id": "a557abcf",
   "metadata": {},
   "source": [
    "### 部分相关函数"
   ]
  },
  {
   "cell_type": "markdown",
   "id": "ed94af8d",
   "metadata": {},
   "source": [
    "部分相关函数（PACF）是一种条件相关，假设我们考虑一些其他变量集的值，这就是两个变量之间的相关性。PACF不是像ACF一样找到当前值与滞后的相关性，而是找到残差与下一个滞后的相关性。"
   ]
  },
  {
   "cell_type": "code",
   "execution_count": 87,
   "id": "15409e9a",
   "metadata": {
    "ExecuteTime": {
     "end_time": "2023-11-26T14:00:12.043442Z",
     "start_time": "2023-11-26T14:00:11.834528Z"
    }
   },
   "outputs": [
    {
     "data": {
      "image/png": "[encoded data removed]",
      "text/plain": [
       "<Figure size 1000x600 with 1 Axes>"
      ]
     },
     "metadata": {},
     "output_type": "display_data"
    }
   ],
   "source": [
    "from statsmodels.graphics.tsaplots import plot_pacf\n",
    "\n",
    "plot_pacf(ts_data_load, lags=20) #前20个滞后量\n",
    "pyplot.show()"
   ]
  },
  {
   "cell_type": "code",
   "execution_count": 88,
   "id": "db7a824e",
   "metadata": {
    "ExecuteTime": {
     "end_time": "2023-11-26T14:00:42.100876Z",
     "start_time": "2023-11-26T14:00:41.867306Z"
    }
   },
   "outputs": [
    {
     "data": {
      "image/png": "[encoded data removed]",
      "text/plain": [
       "<Figure size 1000x600 with 1 Axes>"
      ]
     },
     "metadata": {},
     "output_type": "display_data"
    }
   ],
   "source": [
    "from statsmodels.graphics.tsaplots import plot_pacf\n",
    "\n",
    "plot_pacf(ts_data_load_subset, lags=30) #前30个滞后量\n",
    "pyplot.show()"
   ]
  },
  {
   "cell_type": "markdown",
   "id": "c16b27d6",
   "metadata": {},
   "source": [
    "在上图中我们可以看到在图第一次切割上置信区间之前，最多1个滞后具有良好的相关性，这是p值，是自回归过程的顺序。"
   ]
  },
  {
   "cell_type": "markdown",
   "id": "41a4286e",
   "metadata": {},
   "source": [
    "**当需要确定自回归和移动平均时间序列方法的顺序（p）时，ACF和PACF图尤为重要，可以用两种方法确定自回归模型的顺序：**\n",
    "- ACF和PACF函数\n",
    "- AIC和BIC信息准则"
   ]
  },
  {
   "cell_type": "markdown",
   "id": "aad5281d",
   "metadata": {},
   "source": [
    "### 信息量准则"
   ]
  },
  {
   "cell_type": "markdown",
   "id": "4a71550c",
   "metadata": {},
   "source": [
    "模型中包含的滞后变量越多，模型对数据的拟合就越好，这也代表模型有过拟合的风险。信息量准则通过使用参数数量施加惩罚来调整模型的拟合优度。有两种拟合优度指标：\n",
    "- 赤池信息量准则（AIC）\n",
    "- 贝叶斯信息量准则（BIC）"
   ]
  },
  {
   "cell_type": "markdown",
   "id": "620206c9",
   "metadata": {},
   "source": [
    "信息量准则用于拟合多个模型，每个模型具有不同数量的参数，并选择具有最低贝叶斯信息量准则的模型。"
   ]
  },
  {
   "cell_type": "markdown",
   "id": "f447d28a",
   "metadata": {},
   "source": [
    "### python自回归模型"
   ]
  },
  {
   "cell_type": "markdown",
   "id": "85d8f3cd",
   "metadata": {},
   "source": [
    "python支持statsmodels库中的AutoReg模型进行自回归建模。"
   ]
  },
  {
   "cell_type": "code",
   "execution_count": 152,
   "id": "972b7419",
   "metadata": {
    "ExecuteTime": {
     "end_time": "2023-11-27T12:25:03.936782Z",
     "start_time": "2023-11-27T12:25:03.911449Z"
    }
   },
   "outputs": [],
   "source": [
    "from statsmodels.tsa.api import acf, graphics, pacf\n",
    "from statsmodels.tsa.ar_model import AutoReg, ar_select_order"
   ]
  },
  {
   "cell_type": "code",
   "execution_count": 153,
   "id": "17975d41",
   "metadata": {
    "ExecuteTime": {
     "end_time": "2023-11-27T12:25:04.421171Z",
     "start_time": "2023-11-27T12:25:04.382634Z"
    }
   },
   "outputs": [
    {
     "name": "stdout",
     "output_type": "stream",
     "text": [
      "                            AutoReg Model Results                             \n",
      "==============================================================================\n",
      "Dep. Variable:                   load   No. Observations:                26304\n",
      "Model:                     AutoReg(1)   Log Likelihood             -171639.978\n",
      "Method:               Conditional MLE   S.D. of innovations            165.100\n",
      "Date:                Mon, 27 Nov 2023   AIC                         343285.956\n",
      "Time:                        20:25:04   BIC                         343310.488\n",
      "Sample:                    01-01-2012   HQIC                        343293.877\n",
      "                         - 12-31-2014                                         \n",
      "==============================================================================\n",
      "                 coef    std err          z      P>|z|      [0.025      0.975]\n",
      "------------------------------------------------------------------------------\n",
      "const        144.5181      6.043     23.913      0.000     132.673     156.363\n",
      "load.L1        0.9563      0.002    530.344      0.000       0.953       0.960\n",
      "                                    Roots                                    \n",
      "=============================================================================\n",
      "                  Real          Imaginary           Modulus         Frequency\n",
      "-----------------------------------------------------------------------------\n",
      "AR.1            1.0457           +0.0000j            1.0457            0.0000\n",
      "-----------------------------------------------------------------------------\n"
     ]
    }
   ],
   "source": [
    "model = AutoReg(ts_data_load, 1) #1表示滞后量是1\n",
    "results = model.fit()\n",
    "print(results.summary())"
   ]
  },
  {
   "cell_type": "code",
   "execution_count": 155,
   "id": "b5cc454b",
   "metadata": {
    "ExecuteTime": {
     "end_time": "2023-11-27T12:25:08.581825Z",
     "start_time": "2023-11-27T12:25:08.554332Z"
    }
   },
   "outputs": [
    {
     "name": "stdout",
     "output_type": "stream",
     "text": [
      "                            AutoReg Model Results                             \n",
      "==============================================================================\n",
      "Dep. Variable:                   load   No. Observations:                26304\n",
      "Model:                     AutoReg(1)   Log Likelihood             -171639.978\n",
      "Method:               Conditional MLE   S.D. of innovations            165.100\n",
      "Date:                Mon, 27 Nov 2023   AIC                         343285.956\n",
      "Time:                        20:25:08   BIC                         343310.488\n",
      "Sample:                    01-01-2012   HQIC                        343293.877\n",
      "                         - 12-31-2014                                         \n",
      "==============================================================================\n",
      "                 coef    std err          z      P>|z|      [0.025      0.975]\n",
      "------------------------------------------------------------------------------\n",
      "const        144.5181      5.364     26.945      0.000     134.006     155.030\n",
      "load.L1        0.9563      0.002    618.131      0.000       0.953       0.959\n",
      "                                    Roots                                    \n",
      "=============================================================================\n",
      "                  Real          Imaginary           Modulus         Frequency\n",
      "-----------------------------------------------------------------------------\n",
      "AR.1            1.0457           +0.0000j            1.0457            0.0000\n",
      "-----------------------------------------------------------------------------\n"
     ]
    }
   ],
   "source": [
    "res = model.fit(cov_type=\"HC0\") #White检验\n",
    "print(res.summary())"
   ]
  },
  {
   "cell_type": "code",
   "execution_count": 156,
   "id": "19325990",
   "metadata": {
    "ExecuteTime": {
     "end_time": "2023-11-27T12:25:09.020125Z",
     "start_time": "2023-11-27T12:25:09.005128Z"
    }
   },
   "outputs": [],
   "source": [
    "sns.set_style(\"darkgrid\")\n",
    "pd.plotting.register_matplotlib_converters()\n",
    "sns.mpl.rc(\"figure\", figsize=(16, 6))"
   ]
  },
  {
   "cell_type": "markdown",
   "id": "ec72fcaf",
   "metadata": {},
   "source": [
    "通过使用plot_predict，可以对预测可视化。"
   ]
  },
  {
   "cell_type": "code",
   "execution_count": 157,
   "id": "899c209f",
   "metadata": {
    "ExecuteTime": {
     "end_time": "2023-11-27T12:25:12.004577Z",
     "start_time": "2023-11-27T12:25:11.602934Z"
    }
   },
   "outputs": [
    {
     "name": "stderr",
     "output_type": "stream",
     "text": [
      "No artists with labels found to put in legend.  Note that artists whose label start with an underscore are ignored when legend() is called with no argument.\n"
     ]
    },
    {
     "data": {
      "image/png": "[encoded data removed]",
      "text/plain": [
       "<Figure size 1600x600 with 1 Axes>"
      ]
     },
     "metadata": {},
     "output_type": "display_data"
    }
   ],
   "source": [
    "fig = res.plot_predict(720, 840)"
   ]
  },
  {
   "cell_type": "markdown",
   "id": "7dd1eaf9",
   "metadata": {},
   "source": [
    "plot_diagnostics表示模型捕获了数据中的关键特征。"
   ]
  },
  {
   "cell_type": "code",
   "execution_count": 148,
   "id": "637bd733",
   "metadata": {
    "ExecuteTime": {
     "end_time": "2023-11-27T12:24:08.150063Z",
     "start_time": "2023-11-27T12:24:06.014359Z"
    }
   },
   "outputs": [
    {
     "data": {
      "image/png": "[encoded data removed]",
      "text/plain": [
       "<Figure size 1600x900 with 4 Axes>"
      ]
     },
     "metadata": {},
     "output_type": "display_data"
    }
   ],
   "source": [
    "fig = plt.figure(figsize=(16, 9))\n",
    "fig = res.plot_diagnostics(fig=fig, lags=20)"
   ]
  },
  {
   "cell_type": "markdown",
   "id": "b77be456",
   "metadata": {},
   "source": [
    "最后，我们测试`AutoReg`函数的预测能力，使用`predict`函数生成预测，默认是单步预测，生成多步预测需要`dynamic=True`。"
   ]
  },
  {
   "cell_type": "markdown",
   "id": "b02b1d74",
   "metadata": {},
   "source": [
    "### 完整流程"
   ]
  },
  {
   "cell_type": "markdown",
   "id": "09de700e",
   "metadata": {},
   "source": [
    "定义训练集和测试集开始的时间。"
   ]
  },
  {
   "cell_type": "code",
   "execution_count": 101,
   "id": "91bbded1",
   "metadata": {
    "ExecuteTime": {
     "end_time": "2023-11-26T14:53:58.109218Z",
     "start_time": "2023-11-26T14:53:58.087692Z"
    }
   },
   "outputs": [],
   "source": [
    "train_start_dt = \"2014-11-01 00:00:00\"\n",
    "test_start_dt = \"2014-12-30 00:00:00\""
   ]
  },
  {
   "cell_type": "markdown",
   "id": "51d80fab",
   "metadata": {},
   "source": [
    "过滤原始数据集。"
   ]
  },
  {
   "cell_type": "code",
   "execution_count": 120,
   "id": "54fdff1f",
   "metadata": {
    "ExecuteTime": {
     "end_time": "2023-11-26T15:06:12.526447Z",
     "start_time": "2023-11-26T15:06:12.507692Z"
    }
   },
   "outputs": [
    {
     "name": "stdout",
     "output_type": "stream",
     "text": [
      "Training data shape:  (1416, 1)\n",
      "Test data shape:  (48, 1)\n"
     ]
    }
   ],
   "source": [
    "ts_data_load = pd.DataFrame(ts_data[\"load\"], columns=['load'])\n",
    "train = ts_data_load.copy()[(ts_data_load.index >= train_start_dt)\n",
    "                            & (ts_data_load.index < test_start_dt)][[\"load\"]]\n",
    "test = ts_data_load.copy()[ts_data_load.index >= test_start_dt][[\"load\"]]\n",
    "\n",
    "print(\"Training data shape: \", train.shape)\n",
    "print(\"Test data shape: \", test.shape)"
   ]
  },
  {
   "cell_type": "code",
   "execution_count": 121,
   "id": "c02392b5",
   "metadata": {
    "ExecuteTime": {
     "end_time": "2023-11-26T15:06:14.812404Z",
     "start_time": "2023-11-26T15:06:14.783512Z"
    }
   },
   "outputs": [
    {
     "data": {
      "text/html": [
       "<div>\n",
       "<style scoped>\n",
       "    .dataframe tbody tr th:only-of-type {\n",
       "        vertical-align: middle;\n",
       "    }\n",
       "\n",
       "    .dataframe tbody tr th {\n",
       "        vertical-align: top;\n",
       "    }\n",
       "\n",
       "    .dataframe thead th {\n",
       "        text-align: right;\n",
       "    }\n",
       "</style>\n",
       "<table border=\"1\" class=\"dataframe\">\n",
       "  <thead>\n",
       "    <tr style=\"text-align: right;\">\n",
       "      <th></th>\n",
       "      <th>load</th>\n",
       "    </tr>\n",
       "  </thead>\n",
       "  <tbody>\n",
       "    <tr>\n",
       "      <th>2014-11-01 00:00:00</th>\n",
       "      <td>2,514.00</td>\n",
       "    </tr>\n",
       "    <tr>\n",
       "      <th>2014-11-01 01:00:00</th>\n",
       "      <td>2,434.00</td>\n",
       "    </tr>\n",
       "    <tr>\n",
       "      <th>2014-11-01 02:00:00</th>\n",
       "      <td>2,390.00</td>\n",
       "    </tr>\n",
       "    <tr>\n",
       "      <th>2014-11-01 03:00:00</th>\n",
       "      <td>2,382.00</td>\n",
       "    </tr>\n",
       "    <tr>\n",
       "      <th>2014-11-01 04:00:00</th>\n",
       "      <td>2,419.00</td>\n",
       "    </tr>\n",
       "    <tr>\n",
       "      <th>...</th>\n",
       "      <td>...</td>\n",
       "    </tr>\n",
       "    <tr>\n",
       "      <th>2014-12-29 19:00:00</th>\n",
       "      <td>4,183.00</td>\n",
       "    </tr>\n",
       "    <tr>\n",
       "      <th>2014-12-29 20:00:00</th>\n",
       "      <td>4,033.00</td>\n",
       "    </tr>\n",
       "    <tr>\n",
       "      <th>2014-12-29 21:00:00</th>\n",
       "      <td>3,778.00</td>\n",
       "    </tr>\n",
       "    <tr>\n",
       "      <th>2014-12-29 22:00:00</th>\n",
       "      <td>3,459.00</td>\n",
       "    </tr>\n",
       "    <tr>\n",
       "      <th>2014-12-29 23:00:00</th>\n",
       "      <td>3,203.00</td>\n",
       "    </tr>\n",
       "  </tbody>\n",
       "</table>\n",
       "<p>1416 rows × 1 columns</p>\n",
       "</div>"
      ],
      "text/plain": [
       "                        load\n",
       "2014-11-01 00:00:00 2,514.00\n",
       "2014-11-01 01:00:00 2,434.00\n",
       "2014-11-01 02:00:00 2,390.00\n",
       "2014-11-01 03:00:00 2,382.00\n",
       "2014-11-01 04:00:00 2,419.00\n",
       "...                      ...\n",
       "2014-12-29 19:00:00 4,183.00\n",
       "2014-12-29 20:00:00 4,033.00\n",
       "2014-12-29 21:00:00 3,778.00\n",
       "2014-12-29 22:00:00 3,459.00\n",
       "2014-12-29 23:00:00 3,203.00\n",
       "\n",
       "[1416 rows x 1 columns]"
      ]
     },
     "execution_count": 121,
     "metadata": {},
     "output_type": "execute_result"
    }
   ],
   "source": [
    "train"
   ]
  },
  {
   "cell_type": "markdown",
   "id": "241c3226",
   "metadata": {
    "ExecuteTime": {
     "end_time": "2023-11-26T14:55:00.137718Z",
     "start_time": "2023-11-26T14:55:00.119682Z"
    }
   },
   "source": [
    "归一化。"
   ]
  },
  {
   "cell_type": "code",
   "execution_count": 122,
   "id": "243ae0b5",
   "metadata": {
    "ExecuteTime": {
     "end_time": "2023-11-26T15:07:47.914983Z",
     "start_time": "2023-11-26T15:07:47.893487Z"
    }
   },
   "outputs": [
    {
     "data": {
      "text/html": [
       "<div>\n",
       "<style scoped>\n",
       "    .dataframe tbody tr th:only-of-type {\n",
       "        vertical-align: middle;\n",
       "    }\n",
       "\n",
       "    .dataframe tbody tr th {\n",
       "        vertical-align: top;\n",
       "    }\n",
       "\n",
       "    .dataframe thead th {\n",
       "        text-align: right;\n",
       "    }\n",
       "</style>\n",
       "<table border=\"1\" class=\"dataframe\">\n",
       "  <thead>\n",
       "    <tr style=\"text-align: right;\">\n",
       "      <th></th>\n",
       "      <th>load</th>\n",
       "    </tr>\n",
       "  </thead>\n",
       "  <tbody>\n",
       "    <tr>\n",
       "      <th>2014-11-01 00:00:00</th>\n",
       "      <td>0.10</td>\n",
       "    </tr>\n",
       "    <tr>\n",
       "      <th>2014-11-01 01:00:00</th>\n",
       "      <td>0.07</td>\n",
       "    </tr>\n",
       "    <tr>\n",
       "      <th>2014-11-01 02:00:00</th>\n",
       "      <td>0.05</td>\n",
       "    </tr>\n",
       "    <tr>\n",
       "      <th>2014-11-01 03:00:00</th>\n",
       "      <td>0.04</td>\n",
       "    </tr>\n",
       "    <tr>\n",
       "      <th>2014-11-01 04:00:00</th>\n",
       "      <td>0.06</td>\n",
       "    </tr>\n",
       "  </tbody>\n",
       "</table>\n",
       "</div>"
      ],
      "text/plain": [
       "                     load\n",
       "2014-11-01 00:00:00  0.10\n",
       "2014-11-01 01:00:00  0.07\n",
       "2014-11-01 02:00:00  0.05\n",
       "2014-11-01 03:00:00  0.04\n",
       "2014-11-01 04:00:00  0.06"
      ]
     },
     "execution_count": 122,
     "metadata": {},
     "output_type": "execute_result"
    }
   ],
   "source": [
    "scaler = MinMaxScaler()\n",
    "train['load'] = scaler.fit_transform(train)\n",
    "train.head()"
   ]
  },
  {
   "cell_type": "code",
   "execution_count": 123,
   "id": "969dfb90",
   "metadata": {
    "ExecuteTime": {
     "end_time": "2023-11-26T15:08:05.586043Z",
     "start_time": "2023-11-26T15:08:05.555224Z"
    }
   },
   "outputs": [
    {
     "data": {
      "text/html": [
       "<div>\n",
       "<style scoped>\n",
       "    .dataframe tbody tr th:only-of-type {\n",
       "        vertical-align: middle;\n",
       "    }\n",
       "\n",
       "    .dataframe tbody tr th {\n",
       "        vertical-align: top;\n",
       "    }\n",
       "\n",
       "    .dataframe thead th {\n",
       "        text-align: right;\n",
       "    }\n",
       "</style>\n",
       "<table border=\"1\" class=\"dataframe\">\n",
       "  <thead>\n",
       "    <tr style=\"text-align: right;\">\n",
       "      <th></th>\n",
       "      <th>load</th>\n",
       "    </tr>\n",
       "  </thead>\n",
       "  <tbody>\n",
       "    <tr>\n",
       "      <th>2014-12-30 00:00:00</th>\n",
       "      <td>0.33</td>\n",
       "    </tr>\n",
       "    <tr>\n",
       "      <th>2014-12-30 01:00:00</th>\n",
       "      <td>0.29</td>\n",
       "    </tr>\n",
       "    <tr>\n",
       "      <th>2014-12-30 02:00:00</th>\n",
       "      <td>0.27</td>\n",
       "    </tr>\n",
       "    <tr>\n",
       "      <th>2014-12-30 03:00:00</th>\n",
       "      <td>0.27</td>\n",
       "    </tr>\n",
       "    <tr>\n",
       "      <th>2014-12-30 04:00:00</th>\n",
       "      <td>0.30</td>\n",
       "    </tr>\n",
       "  </tbody>\n",
       "</table>\n",
       "</div>"
      ],
      "text/plain": [
       "                     load\n",
       "2014-12-30 00:00:00  0.33\n",
       "2014-12-30 01:00:00  0.29\n",
       "2014-12-30 02:00:00  0.27\n",
       "2014-12-30 03:00:00  0.27\n",
       "2014-12-30 04:00:00  0.30"
      ]
     },
     "execution_count": 123,
     "metadata": {},
     "output_type": "execute_result"
    }
   ],
   "source": [
    "test[\"load\"] = scaler.transform(test)\n",
    "#test.head()"
   ]
  },
  {
   "cell_type": "code",
   "execution_count": 124,
   "id": "d8940b7a",
   "metadata": {
    "ExecuteTime": {
     "end_time": "2023-11-26T15:08:54.441830Z",
     "start_time": "2023-11-26T15:08:54.431730Z"
    }
   },
   "outputs": [
    {
     "name": "stdout",
     "output_type": "stream",
     "text": [
      "Forecasting horizon: 3 hours\n"
     ]
    }
   ],
   "source": [
    "#指定提前预测的步骤数\n",
    "HORIZON = 3\n",
    "print(\"Forecasting horizon:\", HORIZON, \"hours\")"
   ]
  },
  {
   "cell_type": "code",
   "execution_count": 125,
   "id": "eef59c2b",
   "metadata": {
    "ExecuteTime": {
     "end_time": "2023-11-26T15:10:08.266509Z",
     "start_time": "2023-11-26T15:10:08.240055Z"
    }
   },
   "outputs": [
    {
     "data": {
      "text/html": [
       "<div>\n",
       "<style scoped>\n",
       "    .dataframe tbody tr th:only-of-type {\n",
       "        vertical-align: middle;\n",
       "    }\n",
       "\n",
       "    .dataframe tbody tr th {\n",
       "        vertical-align: top;\n",
       "    }\n",
       "\n",
       "    .dataframe thead th {\n",
       "        text-align: right;\n",
       "    }\n",
       "</style>\n",
       "<table border=\"1\" class=\"dataframe\">\n",
       "  <thead>\n",
       "    <tr style=\"text-align: right;\">\n",
       "      <th></th>\n",
       "      <th>load</th>\n",
       "      <th>load+1</th>\n",
       "      <th>load+2</th>\n",
       "    </tr>\n",
       "  </thead>\n",
       "  <tbody>\n",
       "    <tr>\n",
       "      <th>2014-12-30 00:00:00</th>\n",
       "      <td>0.33</td>\n",
       "      <td>0.29</td>\n",
       "      <td>0.27</td>\n",
       "    </tr>\n",
       "    <tr>\n",
       "      <th>2014-12-30 01:00:00</th>\n",
       "      <td>0.29</td>\n",
       "      <td>0.27</td>\n",
       "      <td>0.27</td>\n",
       "    </tr>\n",
       "    <tr>\n",
       "      <th>2014-12-30 02:00:00</th>\n",
       "      <td>0.27</td>\n",
       "      <td>0.27</td>\n",
       "      <td>0.30</td>\n",
       "    </tr>\n",
       "    <tr>\n",
       "      <th>2014-12-30 03:00:00</th>\n",
       "      <td>0.27</td>\n",
       "      <td>0.30</td>\n",
       "      <td>0.41</td>\n",
       "    </tr>\n",
       "    <tr>\n",
       "      <th>2014-12-30 04:00:00</th>\n",
       "      <td>0.30</td>\n",
       "      <td>0.41</td>\n",
       "      <td>0.57</td>\n",
       "    </tr>\n",
       "  </tbody>\n",
       "</table>\n",
       "</div>"
      ],
      "text/plain": [
       "                     load  load+1  load+2\n",
       "2014-12-30 00:00:00  0.33    0.29    0.27\n",
       "2014-12-30 01:00:00  0.29    0.27    0.27\n",
       "2014-12-30 02:00:00  0.27    0.27    0.30\n",
       "2014-12-30 03:00:00  0.27    0.30    0.41\n",
       "2014-12-30 04:00:00  0.30    0.41    0.57"
      ]
     },
     "execution_count": 125,
     "metadata": {},
     "output_type": "execute_result"
    }
   ],
   "source": [
    "#创建测试数据点\n",
    "test_shifted = test.copy()\n",
    "\n",
    "for t in range(1, HORIZON):\n",
    "    test_shifted[\"load+\" + str(t)] = test_shifted[\"load\"].shift(-t, freq=\"H\")\n",
    "\n",
    "test_shifted = test_shifted.dropna(how=\"any\")\n",
    "test_shifted.head(5)"
   ]
  },
  {
   "cell_type": "code",
   "execution_count": 129,
   "id": "ab1e95a3",
   "metadata": {
    "ExecuteTime": {
     "end_time": "2023-11-26T15:15:10.397760Z",
     "start_time": "2023-11-26T15:13:15.539090Z"
    },
    "scrolled": true
   },
   "outputs": [
    {
     "name": "stdout",
     "output_type": "stream",
     "text": [
      "2014-12-30 00:00:00\n",
      "1 : predicted = [0.32 0.29 0.28] expected = [0.32945389435989236, 0.2900626678603402, 0.2739480752014323]\n",
      "2014-12-30 01:00:00\n",
      "2 : predicted = [0.3  0.29 0.3 ] expected = [0.2900626678603402, 0.2739480752014323, 0.26812891674127126]\n",
      "2014-12-30 02:00:00\n",
      "3 : predicted = [0.27 0.28 0.32] expected = [0.2739480752014323, 0.26812891674127126, 0.3025962399283795]\n",
      "2014-12-30 03:00:00\n",
      "4 : predicted = [0.28 0.32 0.42] expected = [0.26812891674127126, 0.3025962399283795, 0.40823634735899716]\n",
      "2014-12-30 04:00:00\n",
      "5 : predicted = [0.3  0.39 0.54] expected = [0.3025962399283795, 0.40823634735899716, 0.5689346463742166]\n",
      "2014-12-30 05:00:00\n",
      "6 : predicted = [0.4  0.55 0.66] expected = [0.40823634735899716, 0.5689346463742166, 0.6799462846911368]\n",
      "2014-12-30 06:00:00\n",
      "7 : predicted = [0.57 0.68 0.75] expected = [0.5689346463742166, 0.6799462846911368, 0.7309758281110115]\n",
      "2014-12-30 07:00:00\n",
      "8 : predicted = [0.68 0.75 0.8 ] expected = [0.6799462846911368, 0.7309758281110115, 0.7511190689346463]\n",
      "2014-12-30 08:00:00\n",
      "9 : predicted = [0.75 0.8  0.82] expected = [0.7309758281110115, 0.7511190689346463, 0.7636526410026856]\n",
      "2014-12-30 09:00:00\n",
      "10 : predicted = [0.77 0.78 0.78] expected = [0.7511190689346463, 0.7636526410026856, 0.7381378692927483]\n",
      "2014-12-30 10:00:00\n",
      "11 : predicted = [0.76 0.75 0.74] expected = [0.7636526410026856, 0.7381378692927483, 0.7188898836168307]\n",
      "2014-12-30 11:00:00\n",
      "12 : predicted = [0.77 0.76 0.75] expected = [0.7381378692927483, 0.7188898836168307, 0.7090420769919425]\n",
      "2014-12-30 12:00:00\n",
      "13 : predicted = [0.7  0.68 0.69] expected = [0.7188898836168307, 0.7090420769919425, 0.7081468218442255]\n",
      "2014-12-30 13:00:00\n",
      "14 : predicted = [0.72 0.73 0.76] expected = [0.7090420769919425, 0.7081468218442255, 0.7385854968666068]\n",
      "2014-12-30 14:00:00\n",
      "15 : predicted = [0.71 0.73 0.86] expected = [0.7081468218442255, 0.7385854968666068, 0.8478066248880931]\n",
      "2014-12-30 15:00:00\n",
      "16 : predicted = [0.73 0.85 0.97] expected = [0.7385854968666068, 0.8478066248880931, 0.9516562220232765]\n",
      "2014-12-30 16:00:00\n",
      "17 : predicted = [0.87 0.99 0.97] expected = [0.8478066248880931, 0.9516562220232765, 0.934198746642793]\n",
      "2014-12-30 17:00:00\n",
      "18 : predicted = [0.94 0.92 0.86] expected = [0.9516562220232765, 0.934198746642793, 0.8876454789615038]\n",
      "2014-12-30 18:00:00\n",
      "19 : predicted = [0.94 0.89 0.82] expected = [0.934198746642793, 0.8876454789615038, 0.8294538943598924]\n",
      "2014-12-30 19:00:00\n",
      "20 : predicted = [0.88 0.82 0.71] expected = [0.8876454789615038, 0.8294538943598924, 0.7197851387645477]\n",
      "2014-12-30 20:00:00\n",
      "21 : predicted = [0.83 0.72 0.58] expected = [0.8294538943598924, 0.7197851387645477, 0.5747538048343777]\n",
      "2014-12-30 21:00:00\n",
      "22 : predicted = [0.72 0.58 0.47] expected = [0.7197851387645477, 0.5747538048343777, 0.4592658907788718]\n",
      "2014-12-30 22:00:00\n",
      "23 : predicted = [0.58 0.47 0.39] expected = [0.5747538048343777, 0.4592658907788718, 0.3858549686660697]\n",
      "2014-12-30 23:00:00\n",
      "24 : predicted = [0.46 0.38 0.34] expected = [0.4592658907788718, 0.3858549686660697, 0.34377797672336596]\n",
      "2014-12-31 00:00:00\n",
      "25 : predicted = [0.38 0.34 0.33] expected = [0.3858549686660697, 0.34377797672336596, 0.32542524619516544]\n",
      "2014-12-31 01:00:00\n",
      "26 : predicted = [0.36 0.34 0.34] expected = [0.34377797672336596, 0.32542524619516544, 0.33034914950760963]\n",
      "2014-12-31 02:00:00\n",
      "27 : predicted = [0.32 0.32 0.35] expected = [0.32542524619516544, 0.33034914950760963, 0.3706356311548791]\n",
      "2014-12-31 03:00:00\n",
      "28 : predicted = [0.32 0.36 0.47] expected = [0.33034914950760963, 0.3706356311548791, 0.470008952551477]\n",
      "2014-12-31 04:00:00\n",
      "29 : predicted = [0.37 0.48 0.65] expected = [0.3706356311548791, 0.470008952551477, 0.6145926589077886]\n",
      "2014-12-31 05:00:00\n",
      "30 : predicted = [0.48 0.64 0.75] expected = [0.470008952551477, 0.6145926589077886, 0.7247090420769919]\n",
      "2014-12-31 06:00:00\n",
      "31 : predicted = [0.63 0.73 0.79] expected = [0.6145926589077886, 0.7247090420769919, 0.786034019695613]\n",
      "2014-12-31 07:00:00\n",
      "32 : predicted = [0.71 0.76 0.79] expected = [0.7247090420769919, 0.786034019695613, 0.8012533572068039]\n",
      "2014-12-31 08:00:00\n",
      "33 : predicted = [0.78 0.82 0.83] expected = [0.786034019695613, 0.8012533572068039, 0.7994628469113696]\n",
      "2014-12-31 09:00:00\n",
      "34 : predicted = [0.82 0.83 0.81] expected = [0.8012533572068039, 0.7994628469113696, 0.780214861235452]\n",
      "2014-12-31 10:00:00\n",
      "35 : predicted = [0.8  0.78 0.76] expected = [0.7994628469113696, 0.780214861235452, 0.7587287376902416]\n",
      "2014-12-31 11:00:00\n",
      "36 : predicted = [0.77 0.75 0.74] expected = [0.780214861235452, 0.7587287376902416, 0.7367949865711727]\n",
      "2014-12-31 12:00:00\n",
      "37 : predicted = [0.77 0.76 0.76] expected = [0.7587287376902416, 0.7367949865711727, 0.7188898836168307]\n",
      "2014-12-31 13:00:00\n",
      "38 : predicted = [0.75 0.75 0.78] expected = [0.7367949865711727, 0.7188898836168307, 0.7273948075201431]\n",
      "2014-12-31 14:00:00\n",
      "39 : predicted = [0.73 0.75 0.87] expected = [0.7188898836168307, 0.7273948075201431, 0.8299015219337511]\n",
      "2014-12-31 15:00:00\n",
      "40 : predicted = [0.74 0.85 0.96] expected = [0.7273948075201431, 0.8299015219337511, 0.909579230080573]\n",
      "2014-12-31 16:00:00\n",
      "41 : predicted = [0.83 0.94 0.93] expected = [0.8299015219337511, 0.909579230080573, 0.855863921217547]\n",
      "2014-12-31 17:00:00\n",
      "42 : predicted = [0.94 0.93 0.88] expected = [0.909579230080573, 0.855863921217547, 0.7721575649059982]\n",
      "2014-12-31 18:00:00\n",
      "43 : predicted = [0.87 0.82 0.77] expected = [0.855863921217547, 0.7721575649059982, 0.7023276633840643]\n",
      "2014-12-31 19:00:00\n",
      "44 : predicted = [0.79 0.73 0.63] expected = [0.7721575649059982, 0.7023276633840643, 0.6195165622202325]\n",
      "2014-12-31 20:00:00\n",
      "45 : predicted = [0.7  0.59 0.46] expected = [0.7023276633840643, 0.6195165622202325, 0.5425246195165621]\n",
      "2014-12-31 21:00:00\n",
      "46 : predicted = [0.6  0.47 0.36] expected = [0.6195165622202325, 0.5425246195165621, 0.4735899731423454]\n"
     ]
    }
   ],
   "source": [
    "#预测\n",
    "training_window = 720\n",
    "\n",
    "train_ts = train[\"load\"]\n",
    "test_ts = test_shifted\n",
    "\n",
    "history = [x for x in train_ts]\n",
    "history = history[(-training_window):]\n",
    "\n",
    "predictions = list()\n",
    "\n",
    "order = (2, 1, 0)\n",
    "seasonal_order = (1, 1, 0, 24)\n",
    "\n",
    "for t in range(test_ts.shape[0]):\n",
    "    model = SARIMAX(endog=history, order=order, seasonal_order=seasonal_order)\n",
    "    model_fit = model.fit()\n",
    "    yhat = model_fit.forecast(steps=HORIZON)\n",
    "    predictions.append(yhat)\n",
    "    obs = list(test_ts.iloc[t])\n",
    "    history.append(obs[0])\n",
    "    history.pop(0)\n",
    "    print(test_ts.index[t])\n",
    "    print(t + 1, \": predicted =\", yhat, \"expected =\", obs)"
   ]
  },
  {
   "cell_type": "markdown",
   "id": "6e432700",
   "metadata": {},
   "source": [
    "## 移动平均"
   ]
  },
  {
   "cell_type": "markdown",
   "id": "974a60b3",
   "metadata": {},
   "source": [
    "移动平均(**MA(q)**)技术利用回归方法中的先前预测误差来预测下一个时间戳的未来观测值：每个未来观测值可以被认为是先前预测误差的加权移动平均。只适用于近期预测，且数据发展趋势不大。\n",
    "\n",
    "**自回归模型代表过去观测值的线性组合，而移动平均模型代表过去误差项的组合。**"
   ]
  },
  {
   "cell_type": "code",
   "execution_count": 142,
   "id": "4f5fdfa2",
   "metadata": {
    "ExecuteTime": {
     "end_time": "2023-11-27T12:18:57.812437Z",
     "start_time": "2023-11-27T12:18:52.261292Z"
    }
   },
   "outputs": [
    {
     "name": "stdout",
     "output_type": "stream",
     "text": [
      "                               SARIMAX Results                                \n",
      "==============================================================================\n",
      "Dep. Variable:                   load   No. Observations:                26304\n",
      "Model:                 ARIMA(0, 0, 1)   Log Likelihood             -186910.844\n",
      "Date:                Mon, 27 Nov 2023   AIC                         373827.688\n",
      "Time:                        20:18:57   BIC                         373852.221\n",
      "Sample:                    01-01-2012   HQIC                        373835.609\n",
      "                         - 12-31-2014                                         \n",
      "Covariance Type:                  opg                                         \n",
      "==============================================================================\n",
      "                 coef    std err          z      P>|z|      [0.025      0.975]\n",
      "------------------------------------------------------------------------------\n",
      "const       3303.7674      3.569    925.642      0.000    3296.772    3310.763\n",
      "ma.L1          0.9616      0.002    549.644      0.000       0.958       0.965\n",
      "sigma2      8.699e+04    874.328     99.498      0.000    8.53e+04    8.87e+04\n",
      "===================================================================================\n",
      "Ljung-Box (L1) (Q):               21509.36   Jarque-Bera (JB):               265.22\n",
      "Prob(Q):                              0.00   Prob(JB):                         0.00\n",
      "Heteroskedasticity (H):               0.92   Skew:                             0.01\n",
      "Prob(H) (two-sided):                  0.00   Kurtosis:                         2.51\n",
      "===================================================================================\n",
      "\n",
      "Warnings:\n",
      "[1] Covariance matrix calculated using the outer product of gradients (complex-step).\n"
     ]
    }
   ],
   "source": [
    "from statsmodels.tsa.arima.model import ARIMA\n",
    "model = ARIMA(ts_data_load, order=(0, 0, 1)) #q=1，代表选择MA模型\n",
    "results = model.fit()\n",
    "print(results.summary())"
   ]
  },
  {
   "cell_type": "markdown",
   "id": "1f95f721",
   "metadata": {},
   "source": [
    "## 自回归移动平均"
   ]
  },
  {
   "cell_type": "markdown",
   "id": "e1bc4b25",
   "metadata": {
    "ExecuteTime": {
     "end_time": "2023-11-27T12:17:21.511252Z",
     "start_time": "2023-11-27T12:17:21.490476Z"
    }
   },
   "source": [
    "自回归移动平均(**ARMA(p,q)**)由两部分组成：\n",
    "- 自回归\n",
    "- 移动平均\n",
    "\n",
    "ARMA模型用于根据两个多项式来描述每周平稳随机时间序列。第一个p多项式用于自回归，第二个q用于移动平均。"
   ]
  },
  {
   "cell_type": "code",
   "execution_count": 160,
   "id": "c9be3adc",
   "metadata": {
    "ExecuteTime": {
     "end_time": "2023-11-27T12:41:01.699042Z",
     "start_time": "2023-11-27T12:40:49.298514Z"
    }
   },
   "outputs": [
    {
     "name": "stdout",
     "output_type": "stream",
     "text": [
      "                               SARIMAX Results                                \n",
      "==============================================================================\n",
      "Dep. Variable:                   load   No. Observations:                26304\n",
      "Model:                 ARIMA(1, 0, 1)   Log Likelihood             -159105.472\n",
      "Date:                Mon, 27 Nov 2023   AIC                         318218.944\n",
      "Time:                        20:41:01   BIC                         318251.654\n",
      "Sample:                    01-01-2012   HQIC                        318229.506\n",
      "                         - 12-31-2014                                         \n",
      "Covariance Type:                  opg                                         \n",
      "==============================================================================\n",
      "                 coef    std err          z      P>|z|      [0.025      0.975]\n",
      "------------------------------------------------------------------------------\n",
      "const       3303.7690     21.236    155.577      0.000    3262.148    3345.390\n",
      "ar.L1          0.9434      0.002    392.705      0.000       0.939       0.948\n",
      "ma.L1          0.8528      0.003    257.066      0.000       0.846       0.859\n",
      "sigma2       1.05e+04     80.728    130.098      0.000    1.03e+04    1.07e+04\n",
      "===================================================================================\n",
      "Ljung-Box (L1) (Q):                6895.31   Jarque-Bera (JB):               930.33\n",
      "Prob(Q):                              0.00   Prob(JB):                         0.00\n",
      "Heteroskedasticity (H):               0.93   Skew:                             0.27\n",
      "Prob(H) (two-sided):                  0.00   Kurtosis:                         3.74\n",
      "===================================================================================\n",
      "\n",
      "Warnings:\n",
      "[1] Covariance matrix calculated using the outer product of gradients (complex-step).\n"
     ]
    }
   ],
   "source": [
    "from statsmodels.tsa.arima.model import ARIMA\n",
    "model = ARIMA(ts_data_load, order=(1, 0, 1)) #p=1,q=1，代表选择ARMA模型\n",
    "results = model.fit()\n",
    "print(results.summary())"
   ]
  },
  {
   "cell_type": "markdown",
   "id": "029efc03",
   "metadata": {},
   "source": [
    "## 差分自回归移动平均"
   ]
  },
  {
   "cell_type": "markdown",
   "id": "360d9f10",
   "metadata": {},
   "source": [
    "差分自回归移动平均(**ARIMA(p,d,q)**)模型是ARMA模型的发展。增加了差分技术（例如，从时间t-1观测到的值减去时间t观测到的值）使时间序列平稳。估计时间序列平稳性需要多少非季节性差异的过程被称为积分法。\n",
    "\n",
    "ARIMA模型有三个主要组成部分，分别表示为p，d，q；这些参数的定义入下：\n",
    "- p代表ARIMA模型中包含的滞后变量的数量，也称为滞后顺序。\n",
    "- d代表时间序列数据集中原始值的差异次数，也称差异程度。\n",
    "- q代表移动平均窗口的大小，也称为移动顺序平均。"
   ]
  },
  {
   "cell_type": "markdown",
   "id": "4e925c27",
   "metadata": {},
   "source": [
    "### ARIMA参数详解"
   ]
  },
  {
   "cell_type": "code",
   "execution_count": 161,
   "id": "7e96350f",
   "metadata": {
    "ExecuteTime": {
     "end_time": "2023-11-27T12:55:17.571353Z",
     "start_time": "2023-11-27T12:55:17.558043Z"
    }
   },
   "outputs": [],
   "source": [
    "from statsmodels.tsa.arima.model import ARIMA"
   ]
  },
  {
   "cell_type": "markdown",
   "id": "31a7faa0",
   "metadata": {},
   "source": [
    "ARIMA一般形式为ARIMA(p,d,q)，其中p代表自回归的顺序，d代表差分阶数，q代表移动平均多项式的顺序。存在参数`order=(p,d,q)`：\n",
    "- 如果`order=(p,0,0)`，则代表选择移动平均模型（MA）\n",
    "- 如果`order=(0,0,q)`，则代表选择自回归模型（AR）\n",
    "- 如果`order=(p,0,q)`，则代表选择自回归移动平均模型（ARMA）\n",
    "- 如果`order=(p,d,q)`，则代表选择自回归差分移动平均模型（ARIMA）。"
   ]
  },
  {
   "cell_type": "code",
   "execution_count": 162,
   "id": "dca15ca1",
   "metadata": {
    "ExecuteTime": {
     "end_time": "2023-11-27T12:55:24.448714Z",
     "start_time": "2023-11-27T12:55:22.088288Z"
    }
   },
   "outputs": [
    {
     "name": "stdout",
     "output_type": "stream",
     "text": [
      "                               SARIMAX Results                                \n",
      "==============================================================================\n",
      "Dep. Variable:                   load   No. Observations:                26304\n",
      "Model:                 ARIMA(1, 1, 1)   Log Likelihood             -153477.857\n",
      "Date:                Mon, 27 Nov 2023   AIC                         306961.714\n",
      "Time:                        20:55:24   BIC                         306986.246\n",
      "Sample:                    01-01-2012   HQIC                        306969.635\n",
      "                         - 12-31-2014                                         \n",
      "Covariance Type:                  opg                                         \n",
      "==============================================================================\n",
      "                 coef    std err          z      P>|z|      [0.025      0.975]\n",
      "------------------------------------------------------------------------------\n",
      "ar.L1          0.6773      0.004    164.823      0.000       0.669       0.685\n",
      "ma.L1          0.6112      0.006    102.521      0.000       0.600       0.623\n",
      "sigma2      6849.5180     43.255    158.352      0.000    6764.740    6934.296\n",
      "===================================================================================\n",
      "Ljung-Box (L1) (Q):                  86.53   Jarque-Bera (JB):              6290.49\n",
      "Prob(Q):                              0.00   Prob(JB):                         0.00\n",
      "Heteroskedasticity (H):               0.94   Skew:                            -0.52\n",
      "Prob(H) (two-sided):                  0.01   Kurtosis:                         5.15\n",
      "===================================================================================\n",
      "\n",
      "Warnings:\n",
      "[1] Covariance matrix calculated using the outer product of gradients (complex-step).\n"
     ]
    }
   ],
   "source": [
    "model = ARIMA(ts_data_load, order=(1, 1, 1)) #p=1,d=1,q=1，代表选择ARIMA模型\n",
    "results = model.fit()\n",
    "print(results.summary())"
   ]
  },
  {
   "cell_type": "markdown",
   "id": "c37ae63f",
   "metadata": {},
   "source": [
    "### SARIMAX参数详解"
   ]
  },
  {
   "cell_type": "markdown",
   "id": "25f28522",
   "metadata": {},
   "source": [
    "SARIMAX代表具有外源因素的季节性差分自回归移动平均模型。它不仅需要ARIMA所要求的p,d和q参数，还需要季节性方面的另一组p,d,q和s参数，s是时间序列数据集中季节性周期的周期性。"
   ]
  },
  {
   "cell_type": "markdown",
   "id": "86dd8b2a",
   "metadata": {},
   "source": [
    "![hello](../images/p12.jpg)\n",
    "![hello](../images/p13.jpg)"
   ]
  },
  {
   "cell_type": "markdown",
   "id": "cbf8f657",
   "metadata": {},
   "source": [
    "### 完整流程"
   ]
  },
  {
   "cell_type": "code",
   "execution_count": 166,
   "id": "7fe09b88",
   "metadata": {
    "ExecuteTime": {
     "end_time": "2023-11-27T13:12:18.523481Z",
     "start_time": "2023-11-27T13:12:18.518144Z"
    }
   },
   "outputs": [],
   "source": [
    "train_start_dt = \"2014-11-01 00:00:00\"\n",
    "test_start_dt = \"2014-12-30 00:00:00\""
   ]
  },
  {
   "cell_type": "code",
   "execution_count": 167,
   "id": "c7346a5f",
   "metadata": {
    "ExecuteTime": {
     "end_time": "2023-11-27T13:12:27.792116Z",
     "start_time": "2023-11-27T13:12:27.766866Z"
    }
   },
   "outputs": [
    {
     "name": "stdout",
     "output_type": "stream",
     "text": [
      "Training data shape:  (1416, 1)\n",
      "Test data shape:  (48, 1)\n"
     ]
    }
   ],
   "source": [
    "train = ts_data_load.copy()[\n",
    "    (ts_data_load.index >= train_start_dt) & (ts_data_load.index < test_start_dt)\n",
    "][[\"load\"]]\n",
    "test = ts_data_load.copy()[ts_data_load.index >= test_start_dt][[\"load\"]]\n",
    "\n",
    "print(\"Training data shape: \", train.shape)\n",
    "print(\"Test data shape: \", test.shape)"
   ]
  },
  {
   "cell_type": "code",
   "execution_count": 168,
   "id": "ea7b86e8",
   "metadata": {
    "ExecuteTime": {
     "end_time": "2023-11-27T13:13:14.754646Z",
     "start_time": "2023-11-27T13:13:14.726672Z"
    }
   },
   "outputs": [
    {
     "data": {
      "text/html": [
       "<div>\n",
       "<style scoped>\n",
       "    .dataframe tbody tr th:only-of-type {\n",
       "        vertical-align: middle;\n",
       "    }\n",
       "\n",
       "    .dataframe tbody tr th {\n",
       "        vertical-align: top;\n",
       "    }\n",
       "\n",
       "    .dataframe thead th {\n",
       "        text-align: right;\n",
       "    }\n",
       "</style>\n",
       "<table border=\"1\" class=\"dataframe\">\n",
       "  <thead>\n",
       "    <tr style=\"text-align: right;\">\n",
       "      <th></th>\n",
       "      <th>load</th>\n",
       "    </tr>\n",
       "  </thead>\n",
       "  <tbody>\n",
       "    <tr>\n",
       "      <th>2014-11-01 00:00:00</th>\n",
       "      <td>0.10</td>\n",
       "    </tr>\n",
       "    <tr>\n",
       "      <th>2014-11-01 01:00:00</th>\n",
       "      <td>0.07</td>\n",
       "    </tr>\n",
       "    <tr>\n",
       "      <th>2014-11-01 02:00:00</th>\n",
       "      <td>0.05</td>\n",
       "    </tr>\n",
       "    <tr>\n",
       "      <th>2014-11-01 03:00:00</th>\n",
       "      <td>0.04</td>\n",
       "    </tr>\n",
       "    <tr>\n",
       "      <th>2014-11-01 04:00:00</th>\n",
       "      <td>0.06</td>\n",
       "    </tr>\n",
       "  </tbody>\n",
       "</table>\n",
       "</div>"
      ],
      "text/plain": [
       "                     load\n",
       "2014-11-01 00:00:00  0.10\n",
       "2014-11-01 01:00:00  0.07\n",
       "2014-11-01 02:00:00  0.05\n",
       "2014-11-01 03:00:00  0.04\n",
       "2014-11-01 04:00:00  0.06"
      ]
     },
     "execution_count": 168,
     "metadata": {},
     "output_type": "execute_result"
    }
   ],
   "source": [
    "scaler = MinMaxScaler()\n",
    "train[\"load\"] = scaler.fit_transform(train)\n",
    "train.head()"
   ]
  },
  {
   "cell_type": "code",
   "execution_count": 169,
   "id": "98a484c3",
   "metadata": {
    "ExecuteTime": {
     "end_time": "2023-11-27T13:13:26.309236Z",
     "start_time": "2023-11-27T13:13:26.290736Z"
    }
   },
   "outputs": [
    {
     "data": {
      "text/html": [
       "<div>\n",
       "<style scoped>\n",
       "    .dataframe tbody tr th:only-of-type {\n",
       "        vertical-align: middle;\n",
       "    }\n",
       "\n",
       "    .dataframe tbody tr th {\n",
       "        vertical-align: top;\n",
       "    }\n",
       "\n",
       "    .dataframe thead th {\n",
       "        text-align: right;\n",
       "    }\n",
       "</style>\n",
       "<table border=\"1\" class=\"dataframe\">\n",
       "  <thead>\n",
       "    <tr style=\"text-align: right;\">\n",
       "      <th></th>\n",
       "      <th>load</th>\n",
       "    </tr>\n",
       "  </thead>\n",
       "  <tbody>\n",
       "    <tr>\n",
       "      <th>2014-12-30 00:00:00</th>\n",
       "      <td>0.33</td>\n",
       "    </tr>\n",
       "    <tr>\n",
       "      <th>2014-12-30 01:00:00</th>\n",
       "      <td>0.29</td>\n",
       "    </tr>\n",
       "    <tr>\n",
       "      <th>2014-12-30 02:00:00</th>\n",
       "      <td>0.27</td>\n",
       "    </tr>\n",
       "    <tr>\n",
       "      <th>2014-12-30 03:00:00</th>\n",
       "      <td>0.27</td>\n",
       "    </tr>\n",
       "    <tr>\n",
       "      <th>2014-12-30 04:00:00</th>\n",
       "      <td>0.30</td>\n",
       "    </tr>\n",
       "  </tbody>\n",
       "</table>\n",
       "</div>"
      ],
      "text/plain": [
       "                     load\n",
       "2014-12-30 00:00:00  0.33\n",
       "2014-12-30 01:00:00  0.29\n",
       "2014-12-30 02:00:00  0.27\n",
       "2014-12-30 03:00:00  0.27\n",
       "2014-12-30 04:00:00  0.30"
      ]
     },
     "execution_count": 169,
     "metadata": {},
     "output_type": "execute_result"
    }
   ],
   "source": [
    "test[\"load\"] = scaler.transform(test)\n",
    "test.head()"
   ]
  },
  {
   "cell_type": "code",
   "execution_count": 170,
   "id": "537a4d94",
   "metadata": {
    "ExecuteTime": {
     "end_time": "2023-11-27T13:14:09.782582Z",
     "start_time": "2023-11-27T13:14:09.773912Z"
    }
   },
   "outputs": [
    {
     "name": "stdout",
     "output_type": "stream",
     "text": [
      "Forecasting horizon: 3 hours\n"
     ]
    }
   ],
   "source": [
    "HORIZON = 3 #提前预测3小时\n",
    "print(\"Forecasting horizon:\", HORIZON, \"hours\")"
   ]
  },
  {
   "cell_type": "code",
   "execution_count": 171,
   "id": "f10ae828",
   "metadata": {
    "ExecuteTime": {
     "end_time": "2023-11-27T13:14:37.387586Z",
     "start_time": "2023-11-27T13:14:37.367343Z"
    }
   },
   "outputs": [],
   "source": [
    "order = (4, 1, 0)\n",
    "seasonal_order = (1, 1, 0, 24) #季节性顺序"
   ]
  },
  {
   "cell_type": "code",
   "execution_count": 172,
   "id": "239e088f",
   "metadata": {
    "ExecuteTime": {
     "end_time": "2023-11-27T13:15:18.283425Z",
     "start_time": "2023-11-27T13:15:12.980382Z"
    }
   },
   "outputs": [
    {
     "name": "stdout",
     "output_type": "stream",
     "text": [
      "                                     SARIMAX Results                                      \n",
      "==========================================================================================\n",
      "Dep. Variable:                               load   No. Observations:                 1416\n",
      "Model:             SARIMAX(4, 1, 0)x(1, 1, 0, 24)   Log Likelihood                3477.209\n",
      "Date:                            Mon, 27 Nov 2023   AIC                          -6942.418\n",
      "Time:                                    21:15:18   BIC                          -6910.991\n",
      "Sample:                                11-01-2014   HQIC                         -6930.666\n",
      "                                     - 12-29-2014                                         \n",
      "Covariance Type:                              opg                                         \n",
      "==============================================================================\n",
      "                 coef    std err          z      P>|z|      [0.025      0.975]\n",
      "------------------------------------------------------------------------------\n",
      "ar.L1          0.8400      0.016     52.491      0.000       0.809       0.871\n",
      "ar.L2         -0.5183      0.034    -15.333      0.000      -0.585      -0.452\n",
      "ar.L3          0.1534      0.044      3.456      0.001       0.066       0.240\n",
      "ar.L4         -0.0764      0.036     -2.114      0.035      -0.147      -0.006\n",
      "ar.S.L24      -0.2358      0.024     -9.879      0.000      -0.283      -0.189\n",
      "sigma2         0.0004   8.32e-06     47.361      0.000       0.000       0.000\n",
      "===================================================================================\n",
      "Ljung-Box (L1) (Q):                   0.04   Jarque-Bera (JB):              1470.96\n",
      "Prob(Q):                              0.85   Prob(JB):                         0.00\n",
      "Heteroskedasticity (H):               0.84   Skew:                             0.13\n",
      "Prob(H) (two-sided):                  0.07   Kurtosis:                         8.03\n",
      "===================================================================================\n",
      "\n",
      "Warnings:\n",
      "[1] Covariance matrix calculated using the outer product of gradients (complex-step).\n"
     ]
    }
   ],
   "source": [
    "model = SARIMAX(endog=train, order=order, seasonal_order=seasonal_order)\n",
    "results = model.fit()\n",
    "\n",
    "print(results.summary())"
   ]
  },
  {
   "cell_type": "markdown",
   "id": "3fe56525",
   "metadata": {},
   "source": [
    "**向前传播**是时间序列模型评估的黄金标准。从时间序列开始，我们在训练集上训练模型，然后对下一个时间步进行预测，再根据已知值对预测进行评估。在实践中，每次有新数据可用时，时间序列模型都会重新训练。"
   ]
  },
  {
   "cell_type": "code",
   "execution_count": 173,
   "id": "99269b9d",
   "metadata": {
    "ExecuteTime": {
     "end_time": "2023-11-27T13:26:29.562425Z",
     "start_time": "2023-11-27T13:26:29.528780Z"
    }
   },
   "outputs": [
    {
     "data": {
      "text/html": [
       "<div>\n",
       "<style scoped>\n",
       "    .dataframe tbody tr th:only-of-type {\n",
       "        vertical-align: middle;\n",
       "    }\n",
       "\n",
       "    .dataframe tbody tr th {\n",
       "        vertical-align: top;\n",
       "    }\n",
       "\n",
       "    .dataframe thead th {\n",
       "        text-align: right;\n",
       "    }\n",
       "</style>\n",
       "<table border=\"1\" class=\"dataframe\">\n",
       "  <thead>\n",
       "    <tr style=\"text-align: right;\">\n",
       "      <th></th>\n",
       "      <th>load</th>\n",
       "      <th>load+1</th>\n",
       "      <th>load+2</th>\n",
       "    </tr>\n",
       "  </thead>\n",
       "  <tbody>\n",
       "    <tr>\n",
       "      <th>2014-12-30 00:00:00</th>\n",
       "      <td>0.33</td>\n",
       "      <td>0.29</td>\n",
       "      <td>0.27</td>\n",
       "    </tr>\n",
       "    <tr>\n",
       "      <th>2014-12-30 01:00:00</th>\n",
       "      <td>0.29</td>\n",
       "      <td>0.27</td>\n",
       "      <td>0.27</td>\n",
       "    </tr>\n",
       "    <tr>\n",
       "      <th>2014-12-30 02:00:00</th>\n",
       "      <td>0.27</td>\n",
       "      <td>0.27</td>\n",
       "      <td>0.30</td>\n",
       "    </tr>\n",
       "    <tr>\n",
       "      <th>2014-12-30 03:00:00</th>\n",
       "      <td>0.27</td>\n",
       "      <td>0.30</td>\n",
       "      <td>0.41</td>\n",
       "    </tr>\n",
       "    <tr>\n",
       "      <th>2014-12-30 04:00:00</th>\n",
       "      <td>0.30</td>\n",
       "      <td>0.41</td>\n",
       "      <td>0.57</td>\n",
       "    </tr>\n",
       "  </tbody>\n",
       "</table>\n",
       "</div>"
      ],
      "text/plain": [
       "                     load  load+1  load+2\n",
       "2014-12-30 00:00:00  0.33    0.29    0.27\n",
       "2014-12-30 01:00:00  0.29    0.27    0.27\n",
       "2014-12-30 02:00:00  0.27    0.27    0.30\n",
       "2014-12-30 03:00:00  0.27    0.30    0.41\n",
       "2014-12-30 04:00:00  0.30    0.41    0.57"
      ]
     },
     "execution_count": 173,
     "metadata": {},
     "output_type": "execute_result"
    }
   ],
   "source": [
    "test_shifted = test.copy()\n",
    "\n",
    "for t in range(1, HORIZON):\n",
    "    test_shifted[\"load+\" + str(t)] = test_shifted[\"load\"].shift(-t, freq=\"H\")\n",
    "\n",
    "test_shifted = test_shifted.dropna(how=\"any\")\n",
    "test_shifted.head(5)"
   ]
  },
  {
   "cell_type": "code",
   "execution_count": 174,
   "id": "862dcdea",
   "metadata": {
    "ExecuteTime": {
     "end_time": "2023-11-27T13:32:35.619042Z",
     "start_time": "2023-11-27T13:30:44.034737Z"
    },
    "scrolled": true
   },
   "outputs": [
    {
     "name": "stdout",
     "output_type": "stream",
     "text": [
      "2014-12-30 00:00:00\n",
      "1 : predicted = [0.32 0.29 0.28] expected = [0.32945389435989236, 0.2900626678603402, 0.2739480752014323]\n",
      "2014-12-30 01:00:00\n",
      "2 : predicted = [0.3  0.29 0.3 ] expected = [0.2900626678603402, 0.2739480752014323, 0.26812891674127126]\n",
      "2014-12-30 02:00:00\n",
      "3 : predicted = [0.27 0.28 0.32] expected = [0.2739480752014323, 0.26812891674127126, 0.3025962399283795]\n",
      "2014-12-30 03:00:00\n",
      "4 : predicted = [0.28 0.32 0.42] expected = [0.26812891674127126, 0.3025962399283795, 0.40823634735899716]\n",
      "2014-12-30 04:00:00\n",
      "5 : predicted = [0.3  0.39 0.54] expected = [0.3025962399283795, 0.40823634735899716, 0.5689346463742166]\n",
      "2014-12-30 05:00:00\n",
      "6 : predicted = [0.4  0.55 0.66] expected = [0.40823634735899716, 0.5689346463742166, 0.6799462846911368]\n",
      "2014-12-30 06:00:00\n",
      "7 : predicted = [0.57 0.68 0.75] expected = [0.5689346463742166, 0.6799462846911368, 0.7309758281110115]\n",
      "2014-12-30 07:00:00\n",
      "8 : predicted = [0.68 0.75 0.8 ] expected = [0.6799462846911368, 0.7309758281110115, 0.7511190689346463]\n",
      "2014-12-30 08:00:00\n",
      "9 : predicted = [0.75 0.8  0.82] expected = [0.7309758281110115, 0.7511190689346463, 0.7636526410026856]\n",
      "2014-12-30 09:00:00\n",
      "10 : predicted = [0.77 0.78 0.78] expected = [0.7511190689346463, 0.7636526410026856, 0.7381378692927483]\n",
      "2014-12-30 10:00:00\n",
      "11 : predicted = [0.76 0.75 0.74] expected = [0.7636526410026856, 0.7381378692927483, 0.7188898836168307]\n",
      "2014-12-30 11:00:00\n",
      "12 : predicted = [0.77 0.76 0.75] expected = [0.7381378692927483, 0.7188898836168307, 0.7090420769919425]\n",
      "2014-12-30 12:00:00\n",
      "13 : predicted = [0.7  0.68 0.69] expected = [0.7188898836168307, 0.7090420769919425, 0.7081468218442255]\n",
      "2014-12-30 13:00:00\n",
      "14 : predicted = [0.72 0.73 0.76] expected = [0.7090420769919425, 0.7081468218442255, 0.7385854968666068]\n",
      "2014-12-30 14:00:00\n",
      "15 : predicted = [0.71 0.73 0.86] expected = [0.7081468218442255, 0.7385854968666068, 0.8478066248880931]\n",
      "2014-12-30 15:00:00\n",
      "16 : predicted = [0.73 0.85 0.97] expected = [0.7385854968666068, 0.8478066248880931, 0.9516562220232765]\n",
      "2014-12-30 16:00:00\n",
      "17 : predicted = [0.87 0.99 0.97] expected = [0.8478066248880931, 0.9516562220232765, 0.934198746642793]\n",
      "2014-12-30 17:00:00\n",
      "18 : predicted = [0.94 0.92 0.86] expected = [0.9516562220232765, 0.934198746642793, 0.8876454789615038]\n",
      "2014-12-30 18:00:00\n",
      "19 : predicted = [0.94 0.89 0.82] expected = [0.934198746642793, 0.8876454789615038, 0.8294538943598924]\n",
      "2014-12-30 19:00:00\n",
      "20 : predicted = [0.88 0.82 0.71] expected = [0.8876454789615038, 0.8294538943598924, 0.7197851387645477]\n",
      "2014-12-30 20:00:00\n",
      "21 : predicted = [0.83 0.72 0.58] expected = [0.8294538943598924, 0.7197851387645477, 0.5747538048343777]\n",
      "2014-12-30 21:00:00\n",
      "22 : predicted = [0.72 0.58 0.47] expected = [0.7197851387645477, 0.5747538048343777, 0.4592658907788718]\n",
      "2014-12-30 22:00:00\n",
      "23 : predicted = [0.58 0.47 0.39] expected = [0.5747538048343777, 0.4592658907788718, 0.3858549686660697]\n",
      "2014-12-30 23:00:00\n",
      "24 : predicted = [0.46 0.38 0.34] expected = [0.4592658907788718, 0.3858549686660697, 0.34377797672336596]\n",
      "2014-12-31 00:00:00\n",
      "25 : predicted = [0.38 0.34 0.33] expected = [0.3858549686660697, 0.34377797672336596, 0.32542524619516544]\n",
      "2014-12-31 01:00:00\n",
      "26 : predicted = [0.36 0.34 0.34] expected = [0.34377797672336596, 0.32542524619516544, 0.33034914950760963]\n",
      "2014-12-31 02:00:00\n",
      "27 : predicted = [0.32 0.32 0.35] expected = [0.32542524619516544, 0.33034914950760963, 0.3706356311548791]\n",
      "2014-12-31 03:00:00\n",
      "28 : predicted = [0.32 0.36 0.47] expected = [0.33034914950760963, 0.3706356311548791, 0.470008952551477]\n",
      "2014-12-31 04:00:00\n",
      "29 : predicted = [0.37 0.48 0.65] expected = [0.3706356311548791, 0.470008952551477, 0.6145926589077886]\n",
      "2014-12-31 05:00:00\n",
      "30 : predicted = [0.48 0.64 0.75] expected = [0.470008952551477, 0.6145926589077886, 0.7247090420769919]\n",
      "2014-12-31 06:00:00\n",
      "31 : predicted = [0.63 0.73 0.79] expected = [0.6145926589077886, 0.7247090420769919, 0.786034019695613]\n",
      "2014-12-31 07:00:00\n",
      "32 : predicted = [0.71 0.76 0.79] expected = [0.7247090420769919, 0.786034019695613, 0.8012533572068039]\n",
      "2014-12-31 08:00:00\n",
      "33 : predicted = [0.78 0.82 0.83] expected = [0.786034019695613, 0.8012533572068039, 0.7994628469113696]\n",
      "2014-12-31 09:00:00\n",
      "34 : predicted = [0.82 0.83 0.81] expected = [0.8012533572068039, 0.7994628469113696, 0.780214861235452]\n",
      "2014-12-31 10:00:00\n",
      "35 : predicted = [0.8  0.78 0.76] expected = [0.7994628469113696, 0.780214861235452, 0.7587287376902416]\n",
      "2014-12-31 11:00:00\n",
      "36 : predicted = [0.77 0.75 0.74] expected = [0.780214861235452, 0.7587287376902416, 0.7367949865711727]\n",
      "2014-12-31 12:00:00\n",
      "37 : predicted = [0.77 0.76 0.76] expected = [0.7587287376902416, 0.7367949865711727, 0.7188898836168307]\n",
      "2014-12-31 13:00:00\n",
      "38 : predicted = [0.75 0.75 0.78] expected = [0.7367949865711727, 0.7188898836168307, 0.7273948075201431]\n",
      "2014-12-31 14:00:00\n",
      "39 : predicted = [0.73 0.75 0.87] expected = [0.7188898836168307, 0.7273948075201431, 0.8299015219337511]\n",
      "2014-12-31 15:00:00\n",
      "40 : predicted = [0.74 0.85 0.96] expected = [0.7273948075201431, 0.8299015219337511, 0.909579230080573]\n",
      "2014-12-31 16:00:00\n",
      "41 : predicted = [0.83 0.94 0.93] expected = [0.8299015219337511, 0.909579230080573, 0.855863921217547]\n",
      "2014-12-31 17:00:00\n",
      "42 : predicted = [0.94 0.93 0.88] expected = [0.909579230080573, 0.855863921217547, 0.7721575649059982]\n",
      "2014-12-31 18:00:00\n",
      "43 : predicted = [0.87 0.82 0.77] expected = [0.855863921217547, 0.7721575649059982, 0.7023276633840643]\n",
      "2014-12-31 19:00:00\n",
      "44 : predicted = [0.79 0.73 0.63] expected = [0.7721575649059982, 0.7023276633840643, 0.6195165622202325]\n",
      "2014-12-31 20:00:00\n",
      "45 : predicted = [0.7  0.59 0.46] expected = [0.7023276633840643, 0.6195165622202325, 0.5425246195165621]\n",
      "2014-12-31 21:00:00\n",
      "46 : predicted = [0.6  0.47 0.36] expected = [0.6195165622202325, 0.5425246195165621, 0.4735899731423454]\n"
     ]
    }
   ],
   "source": [
    "training_window = 720\n",
    "\n",
    "train_ts = train[\"load\"]\n",
    "test_ts = test_shifted\n",
    "\n",
    "history = [x for x in train_ts]\n",
    "history = history[(-training_window):] #向前传播，每次取720个值\n",
    "\n",
    "predictions = list()\n",
    "\n",
    "order = (2, 1, 0)\n",
    "seasonal_order = (1, 1, 0, 24)\n",
    "\n",
    "for t in range(test_ts.shape[0]):\n",
    "    model = SARIMAX(endog=history, order=order, seasonal_order=seasonal_order)\n",
    "    model_fit = model.fit()\n",
    "    yhat = model_fit.forecast(steps=HORIZON)\n",
    "    predictions.append(yhat)\n",
    "    obs = list(test_ts.iloc[t])\n",
    "    history.append(obs[0])\n",
    "    history.pop(0) #每次向训练集添加新的观测值时，都会从训练集的开头删除观测值\n",
    "    print(test_ts.index[t])\n",
    "    print(t + 1, \": predicted =\", yhat, \"expected =\", obs)"
   ]
  },
  {
   "cell_type": "code",
   "execution_count": 175,
   "id": "20aeadf5",
   "metadata": {
    "ExecuteTime": {
     "end_time": "2023-11-27T13:36:21.943225Z",
     "start_time": "2023-11-27T13:36:21.907152Z"
    }
   },
   "outputs": [
    {
     "data": {
      "text/html": [
       "<div>\n",
       "<style scoped>\n",
       "    .dataframe tbody tr th:only-of-type {\n",
       "        vertical-align: middle;\n",
       "    }\n",
       "\n",
       "    .dataframe tbody tr th {\n",
       "        vertical-align: top;\n",
       "    }\n",
       "\n",
       "    .dataframe thead th {\n",
       "        text-align: right;\n",
       "    }\n",
       "</style>\n",
       "<table border=\"1\" class=\"dataframe\">\n",
       "  <thead>\n",
       "    <tr style=\"text-align: right;\">\n",
       "      <th></th>\n",
       "      <th>timestamp</th>\n",
       "      <th>h</th>\n",
       "      <th>prediction</th>\n",
       "      <th>actual</th>\n",
       "    </tr>\n",
       "  </thead>\n",
       "  <tbody>\n",
       "    <tr>\n",
       "      <th>0</th>\n",
       "      <td>2014-12-30 00:00:00</td>\n",
       "      <td>t+1</td>\n",
       "      <td>3,008.85</td>\n",
       "      <td>3,023.00</td>\n",
       "    </tr>\n",
       "    <tr>\n",
       "      <th>1</th>\n",
       "      <td>2014-12-30 01:00:00</td>\n",
       "      <td>t+1</td>\n",
       "      <td>2,955.74</td>\n",
       "      <td>2,935.00</td>\n",
       "    </tr>\n",
       "    <tr>\n",
       "      <th>2</th>\n",
       "      <td>2014-12-30 02:00:00</td>\n",
       "      <td>t+1</td>\n",
       "      <td>2,900.14</td>\n",
       "      <td>2,899.00</td>\n",
       "    </tr>\n",
       "    <tr>\n",
       "      <th>3</th>\n",
       "      <td>2014-12-30 03:00:00</td>\n",
       "      <td>t+1</td>\n",
       "      <td>2,917.96</td>\n",
       "      <td>2,886.00</td>\n",
       "    </tr>\n",
       "    <tr>\n",
       "      <th>4</th>\n",
       "      <td>2014-12-30 04:00:00</td>\n",
       "      <td>t+1</td>\n",
       "      <td>2,947.01</td>\n",
       "      <td>2,963.00</td>\n",
       "    </tr>\n",
       "  </tbody>\n",
       "</table>\n",
       "</div>"
      ],
      "text/plain": [
       "            timestamp    h  prediction   actual\n",
       "0 2014-12-30 00:00:00  t+1    3,008.85 3,023.00\n",
       "1 2014-12-30 01:00:00  t+1    2,955.74 2,935.00\n",
       "2 2014-12-30 02:00:00  t+1    2,900.14 2,899.00\n",
       "3 2014-12-30 03:00:00  t+1    2,917.96 2,886.00\n",
       "4 2014-12-30 04:00:00  t+1    2,947.01 2,963.00"
      ]
     },
     "execution_count": 175,
     "metadata": {},
     "output_type": "execute_result"
    }
   ],
   "source": [
    "#预测值与实际值比较\n",
    "eval_df = pd.DataFrame(predictions,\n",
    "                       columns=[\"t+\" + str(t) for t in range(1, HORIZON + 1)])\n",
    "eval_df[\"timestamp\"] = test.index[0:len(test.index) - HORIZON + 1]\n",
    "eval_df = pd.melt(eval_df,\n",
    "                  id_vars=\"timestamp\",\n",
    "                  value_name=\"prediction\",\n",
    "                  var_name=\"h\")\n",
    "eval_df[\"actual\"] = np.array(np.transpose(test_ts)).ravel()\n",
    "eval_df[[\"prediction\", \"actual\"\n",
    "         ]] = scaler.inverse_transform(eval_df[[\"prediction\", \"actual\"]])\n",
    "eval_df.head()"
   ]
  },
  {
   "cell_type": "code",
   "execution_count": 178,
   "id": "7c83474f",
   "metadata": {
    "ExecuteTime": {
     "end_time": "2023-11-27T13:41:34.417052Z",
     "start_time": "2023-11-27T13:41:34.405818Z"
    }
   },
   "outputs": [
    {
     "name": "stdout",
     "output_type": "stream",
     "text": [
      "h\n",
      "t+1   0.01\n",
      "t+2   0.01\n",
      "t+3   0.02\n",
      "Name: APE, dtype: float64\n"
     ]
    }
   ],
   "source": [
    "#计算绝对百分比误差APE\n",
    "if HORIZON > 1:\n",
    "    eval_df[\"APE\"] = (eval_df[\"prediction\"] - eval_df[\"actual\"]).abs() / eval_df[\"actual\"]\n",
    "    print(eval_df.groupby(\"h\")[\"APE\"].mean())"
   ]
  },
  {
   "cell_type": "code",
   "execution_count": 198,
   "id": "3fc69bb3",
   "metadata": {
    "ExecuteTime": {
     "end_time": "2023-11-27T14:07:30.974901Z",
     "start_time": "2023-11-27T14:07:30.956855Z"
    }
   },
   "outputs": [
    {
     "name": "stdout",
     "output_type": "stream",
     "text": [
      "0.011459507664559833\n"
     ]
    }
   ],
   "source": [
    "#计算平均绝对百分比误差\n",
    "mape = ((eval_df[\"prediction\"] - eval_df[\"actual\"]).abs() / eval_df[\"actual\"]).mean()\n",
    "print(mape)"
   ]
  },
  {
   "cell_type": "markdown",
   "id": "1ccc5607",
   "metadata": {},
   "source": [
    "## 总结"
   ]
  },
  {
   "cell_type": "markdown",
   "id": "f3399988",
   "metadata": {},
   "source": [
    "1、自回归：该时间序列技术假设下一个时间戳的未来观测值与前一个时间戳的观测值呈线性关系。\n",
    "\n",
    "2、移动平均：该时间序列技术利用回归方法中以前的预测误差来预测下一个时间戳的未来观测值。\n",
    "\n",
    "3、自回归移动平均：该时间序列技术假设下一个时间戳的未来观测值可以表示为先前时间戳的观测值和残差的线性函数。\n",
    "\n",
    "4、差分自回归移动平均：该时间序列技术假设下一个时间戳的未来观测值可以表示为先前时间戳的差分观测值和残差的线性函数。\n"
   ]
  },
  {
   "cell_type": "code",
   "execution_count": null,
   "id": "a090d191",
   "metadata": {},
   "outputs": [],
   "source": []
  }
 ],
 "metadata": {
  "kernelspec": {
   "display_name": "Python 3 (ipykernel)",
   "language": "python",
   "name": "python3"
  },
  "language_info": {
   "codemirror_mode": {
    "name": "ipython",
    "version": 3
   },
   "file_extension": ".py",
   "mimetype": "text/x-python",
   "name": "python",
   "nbconvert_exporter": "python",
   "pygments_lexer": "ipython3",
   "version": "3.11.5"
  },
  "toc": {
   "base_numbering": 1,
   "nav_menu": {},
   "number_sections": true,
   "sideBar": true,
   "skip_h1_title": false,
   "title_cell": "Table of Contents",
   "title_sidebar": "Contents",
   "toc_cell": false,
   "toc_position": {
    "height": "calc(100% - 180px)",
    "left": "10px",
    "top": "150px",
    "width": "215.823px"
   },
   "toc_section_display": true,
   "toc_window_display": true
  }
 },
 "nbformat": 4,
 "nbformat_minor": 5
}
