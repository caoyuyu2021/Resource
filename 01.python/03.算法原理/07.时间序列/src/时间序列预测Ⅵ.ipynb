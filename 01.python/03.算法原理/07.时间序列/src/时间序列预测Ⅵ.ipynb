{
 "cells": [
  {
   "cell_type": "markdown",
   "id": "dd846351",
   "metadata": {},
   "source": [
    "# 时间序列预测的模型部署"
   ]
  },
  {
   "cell_type": "markdown",
   "id": "3f161829",
   "metadata": {},
   "source": [
    "## 模型工作流"
   ]
  },
  {
   "cell_type": "markdown",
   "id": "7ecf2376",
   "metadata": {},
   "source": [
    "![hello](../images/p20.jpg)"
   ]
  },
  {
   "cell_type": "markdown",
   "id": "635fa827",
   "metadata": {},
   "source": [
    "## 数据流周期"
   ]
  },
  {
   "cell_type": "markdown",
   "id": "5302a35e",
   "metadata": {},
   "source": [
    "![hello](../images/p21.jpg)"
   ]
  },
  {
   "cell_type": "markdown",
   "id": "59e39f5b",
   "metadata": {},
   "source": [
    "- 数百万已部署的数据仪表不断实时生成功耗数据。\n",
    "- 收集数据并将其上传到云存储库。\n",
    "- 在处理原始数据之前，先将其聚合到业务定义的变电站或区域级别。\n",
    "- 进行特征工程，进而生成模型训练或评价所需的数据，特征集数据存储在数据库中。\n",
    "- 调用再训练服务以继续训练预测模型，该模型的新版本将保存下来以便Web服务的评价可以再使用。\n",
    "- 根据适应所需预测频率的计划评价Web服务。\n",
    "- 预测的数据结果存储在最终用户可访问到的数据库中。\n",
    "- 客户端检索预测并将其应用回网络中，根据所需用例再进行调用。"
   ]
  },
  {
   "cell_type": "code",
   "execution_count": null,
   "id": "52212684",
   "metadata": {},
   "outputs": [],
   "source": []
  }
 ],
 "metadata": {
  "hide_input": false,
  "kernelspec": {
   "display_name": "Python 3 (ipykernel)",
   "language": "python",
   "name": "python3"
  },
  "language_info": {
   "codemirror_mode": {
    "name": "ipython",
    "version": 3
   },
   "file_extension": ".py",
   "mimetype": "text/x-python",
   "name": "python",
   "nbconvert_exporter": "python",
   "pygments_lexer": "ipython3",
   "version": "3.11.5"
  },
  "toc": {
   "base_numbering": 1,
   "nav_menu": {},
   "number_sections": true,
   "sideBar": true,
   "skip_h1_title": false,
   "title_cell": "Table of Contents",
   "title_sidebar": "Contents",
   "toc_cell": false,
   "toc_position": {},
   "toc_section_display": true,
   "toc_window_display": false
  },
  "varInspector": {
   "cols": {
    "lenName": 16,
    "lenType": 16,
    "lenVar": 40
   },
   "kernels_config": {
    "python": {
     "delete_cmd_postfix": "",
     "delete_cmd_prefix": "del ",
     "library": "var_list.py",
     "varRefreshCmd": "print(var_dic_list())"
    },
    "r": {
     "delete_cmd_postfix": ") ",
     "delete_cmd_prefix": "rm(",
     "library": "var_list.r",
     "varRefreshCmd": "cat(var_dic_list()) "
    }
   },
   "types_to_exclude": [
    "module",
    "function",
    "builtin_function_or_method",
    "instance",
    "_Feature"
   ],
   "window_display": false
  }
 },
 "nbformat": 4,
 "nbformat_minor": 5
}
