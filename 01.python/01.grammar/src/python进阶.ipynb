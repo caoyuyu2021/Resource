{
 "cells": [
  {
   "cell_type": "markdown",
   "id": "1d14c58d",
   "metadata": {},
   "source": [
    "# 文件操作"
   ]
  },
  {
   "cell_type": "markdown",
   "id": "43ddf2ef",
   "metadata": {},
   "source": [
    "## 实时向csv文件写入数据"
   ]
  },
  {
   "cell_type": "markdown",
   "id": "15eb6755",
   "metadata": {},
   "source": [
    "- 最常用的一种方法，利用pandas包"
   ]
  },
  {
   "cell_type": "code",
   "execution_count": 16,
   "id": "f6ad5acd",
   "metadata": {
    "ExecuteTime": {
     "end_time": "2022-11-09T09:50:01.933418Z",
     "start_time": "2022-11-09T09:50:01.908098Z"
    }
   },
   "outputs": [
    {
     "name": "stdout",
     "output_type": "stream",
     "text": [
      "   a_name  b_name\n",
      "0       1       4\n",
      "1       2       5\n",
      "2       3       6\n"
     ]
    }
   ],
   "source": [
    "import pandas as pd\n",
    "import os\n",
    "\n",
    "#任意的多组列表\n",
    "a = [1,2,3]\n",
    "b = [4,5,6]    \n",
    "\n",
    "#字典中的key值即为csv中列名\n",
    "dataframe = pd.DataFrame({'a_name':a,'b_name':b})\n",
    "\n",
    "#将DataFrame存储为csv,index表示是否显示行名，default=True，\"a\"表示导入的数据不会将test3.csv文件中的原始数据覆盖\n",
    "dataframe.to_csv(\"test.csv\", mode='a', index=False,sep=',')\n",
    "\n",
    "#同样pandas也提供简单的读csv方法，会得到一个DataFrame类型的data\n",
    "data = pd.read_csv('test.csv')\n",
    "print(data)\n",
    "\n",
    "os.remove(\"test.csv\")"
   ]
  },
  {
   "cell_type": "markdown",
   "id": "a9df4f46",
   "metadata": {},
   "source": [
    "- 另一种方法用csv包，一行一行写入"
   ]
  },
  {
   "cell_type": "code",
   "execution_count": 17,
   "id": "3c4287bd",
   "metadata": {
    "ExecuteTime": {
     "end_time": "2022-11-09T09:50:07.162881Z",
     "start_time": "2022-11-09T09:50:07.155905Z"
    }
   },
   "outputs": [],
   "source": [
    "import csv\n",
    "\n",
    "with open(\"test3.csv\",\"a\",newline='') as csvfile: \n",
    "    writer = csv.writer(csvfile, delimiter=' ')\n",
    "    writer.writerow([\"index\",\"a_name\",\"b_name\"])"
   ]
  },
  {
   "cell_type": "markdown",
   "id": "a2bec01c",
   "metadata": {},
   "source": [
    "上述代码参数解释：\n",
    "\n",
    "​ test3.csv表示要创建一个test3.csv的文件，注意:如果当前目录下没有这个文件，则会自动生成test3.csv文件，如果当前目录下已经有了test3.csv的文件，那么在新建结束后，会将原始的test3.csv文件覆盖。\n",
    "\n",
    "​ \"a\"表示导入的数据不会将test3.csv文件中的原始数据覆盖，即：在后面继续添加，如果需要覆盖，则将\"a\"改成\"w\"即可。\n",
    "\n",
    "​ newline=’ ’ 表示不会以空行作为每一行的分割线，注意:这一行代码必须添加上，否则csv文件中的每一行数据的前面会出现空行。"
   ]
  },
  {
   "cell_type": "code",
   "execution_count": 18,
   "id": "392466ba",
   "metadata": {
    "ExecuteTime": {
     "end_time": "2022-11-09T09:50:12.072975Z",
     "start_time": "2022-11-09T09:50:12.060019Z"
    }
   },
   "outputs": [],
   "source": [
    "list1=[0,0,0]\n",
    "list2=[1,1,1]\n",
    "\n",
    "data_array=[[5,5,5],[1,2,3]]\n",
    "with open(\"test3.csv\",\"a\",newline='') as csvfile: \n",
    "    writer = csv.writer(csvfile)\n",
    "    # 多行写入用writerows\n",
    "    writer.writerows(data_array)\n",
    "\n",
    "    # 单行逐个写入用 writerow\n",
    "#     writer.writerow(list1)\n",
    "#     writer.writerow(list2)\n",
    "    \n",
    "    # 执行添加数据操作之后，要写close关闭，否则下次无法再次插入新的数据\n",
    "    csvfile.close()"
   ]
  },
  {
   "cell_type": "markdown",
   "id": "094ed94f",
   "metadata": {},
   "source": [
    "​ 实时写入数据时，有可能是逐个写入，也可能是一次性写入多个数据。多行写入用writerows，\n",
    "\n",
    "单行逐个写入用 writerow，根据需求调整。close()这行代码一定要加上，否则下次无法再次插入新的数据。"
   ]
  },
  {
   "cell_type": "code",
   "execution_count": 19,
   "id": "18ffdff3",
   "metadata": {
    "ExecuteTime": {
     "end_time": "2022-11-09T09:50:13.705495Z",
     "start_time": "2022-11-09T09:50:13.691583Z"
    }
   },
   "outputs": [],
   "source": [
    "list1=[0,0,0]\n",
    "list2=[1,1,1]\n",
    "\n",
    "data_array=[[5,5,5],[1,2,3]]\n",
    "with open(\"test3.csv\",\"a\",newline='') as csvfile: \n",
    "    writer = csv.writer(csvfile)\n",
    "    # 写入多行用writerows\n",
    "#     writer.writerows(data_array)\n",
    "\n",
    "#     写入单行用 writerow\n",
    "    writer.writerow(list1)\n",
    "    writer.writerow(list2)\n",
    "    \n",
    "    # 执行添加数据操作之后，要写close关闭，否则下次无法再次插入新的数据\n",
    "    csvfile.close()"
   ]
  },
  {
   "cell_type": "code",
   "execution_count": 20,
   "id": "3be145aa",
   "metadata": {
    "ExecuteTime": {
     "end_time": "2022-11-09T09:50:14.966967Z",
     "start_time": "2022-11-09T09:50:14.946940Z"
    }
   },
   "outputs": [
    {
     "name": "stdout",
     "output_type": "stream",
     "text": [
      "['index a_name b_name']\n",
      "['5', '5', '5']\n",
      "['1', '2', '3']\n",
      "['0', '0', '0']\n",
      "['1', '1', '1']\n"
     ]
    }
   ],
   "source": [
    "import csv\n",
    "with open(\"test3.csv\",\"r\") as csvfile:\n",
    "    reader = csv.reader(csvfile)\n",
    "    #这里不需要readlines\n",
    "    for line in reader:\n",
    "        print(line)\n",
    "        \n",
    "os.remove(\"test3.csv\")"
   ]
  },
  {
   "cell_type": "markdown",
   "id": "4e091bc6",
   "metadata": {},
   "source": [
    "## 实时向txt文件写入数据"
   ]
  },
  {
   "cell_type": "markdown",
   "id": "c5cde4cf",
   "metadata": {},
   "source": [
    "实时向txt文件写入内容的过程，与创建csv文件，实时向文件写入内容大致相同，只需要添加一个换行符就行。"
   ]
  },
  {
   "cell_type": "code",
   "execution_count": 21,
   "id": "3afcdf38",
   "metadata": {
    "ExecuteTime": {
     "end_time": "2022-11-09T09:50:17.845896Z",
     "start_time": "2022-11-09T09:50:17.827912Z"
    }
   },
   "outputs": [],
   "source": [
    "with open ('testing.txt','a') as f:\n",
    "    f.write('%s       %s      %s'%('姓名','国籍','金额'))"
   ]
  },
  {
   "cell_type": "markdown",
   "id": "5cac5853",
   "metadata": {},
   "source": [
    "再次向txt文件中写入数据："
   ]
  },
  {
   "cell_type": "code",
   "execution_count": 22,
   "id": "d9ef5cf8",
   "metadata": {
    "ExecuteTime": {
     "end_time": "2022-11-09T09:50:18.880756Z",
     "start_time": "2022-11-09T09:50:18.866786Z"
    }
   },
   "outputs": [],
   "source": [
    "with open ('testing.txt','a') as f:   \n",
    "    f.write('\\n')     #换行\n",
    "    f.write('%s       %s      %d' %('张三','中国',2000))"
   ]
  },
  {
   "cell_type": "code",
   "execution_count": 23,
   "id": "13f78997",
   "metadata": {
    "ExecuteTime": {
     "end_time": "2022-11-09T09:50:19.461754Z",
     "start_time": "2022-11-09T09:50:19.451784Z"
    }
   },
   "outputs": [
    {
     "name": "stdout",
     "output_type": "stream",
     "text": [
      "['姓名       国籍      金额']\n",
      "['张三       中国      2000']\n"
     ]
    }
   ],
   "source": [
    "with open(\"testing.txt\",\"r\") as testfile:\n",
    "    reader = csv.reader(testfile)\n",
    "    #这里不需要readlines\n",
    "    for line in reader:\n",
    "        print(line)\n",
    "        \n",
    "os.remove(\"testing.txt\")"
   ]
  },
  {
   "cell_type": "markdown",
   "id": "655aaaa0",
   "metadata": {},
   "source": [
    "## 使用pickle读写数据"
   ]
  },
  {
   "cell_type": "code",
   "execution_count": 1,
   "id": "2c75c313",
   "metadata": {
    "ExecuteTime": {
     "end_time": "2023-07-06T06:54:50.715670Z",
     "start_time": "2023-07-06T06:54:50.396369Z"
    }
   },
   "outputs": [
    {
     "data": {
      "text/html": [
       "<div>\n",
       "<style scoped>\n",
       "    .dataframe tbody tr th:only-of-type {\n",
       "        vertical-align: middle;\n",
       "    }\n",
       "\n",
       "    .dataframe tbody tr th {\n",
       "        vertical-align: top;\n",
       "    }\n",
       "\n",
       "    .dataframe thead th {\n",
       "        text-align: right;\n",
       "    }\n",
       "</style>\n",
       "<table border=\"1\" class=\"dataframe\">\n",
       "  <thead>\n",
       "    <tr style=\"text-align: right;\">\n",
       "      <th></th>\n",
       "      <th>0</th>\n",
       "      <th>1</th>\n",
       "      <th>2</th>\n",
       "      <th>3</th>\n",
       "      <th>4</th>\n",
       "    </tr>\n",
       "  </thead>\n",
       "  <tbody>\n",
       "    <tr>\n",
       "      <th>0</th>\n",
       "      <td>0</td>\n",
       "      <td>1</td>\n",
       "      <td>2</td>\n",
       "      <td>3</td>\n",
       "      <td>4</td>\n",
       "    </tr>\n",
       "    <tr>\n",
       "      <th>1</th>\n",
       "      <td>5</td>\n",
       "      <td>6</td>\n",
       "      <td>7</td>\n",
       "      <td>8</td>\n",
       "      <td>9</td>\n",
       "    </tr>\n",
       "    <tr>\n",
       "      <th>2</th>\n",
       "      <td>10</td>\n",
       "      <td>11</td>\n",
       "      <td>12</td>\n",
       "      <td>13</td>\n",
       "      <td>14</td>\n",
       "    </tr>\n",
       "    <tr>\n",
       "      <th>3</th>\n",
       "      <td>15</td>\n",
       "      <td>16</td>\n",
       "      <td>17</td>\n",
       "      <td>18</td>\n",
       "      <td>19</td>\n",
       "    </tr>\n",
       "  </tbody>\n",
       "</table>\n",
       "</div>"
      ],
      "text/plain": [
       "    0   1   2   3   4\n",
       "0   0   1   2   3   4\n",
       "1   5   6   7   8   9\n",
       "2  10  11  12  13  14\n",
       "3  15  16  17  18  19"
      ]
     },
     "execution_count": 1,
     "metadata": {},
     "output_type": "execute_result"
    }
   ],
   "source": [
    "import pandas as pd\n",
    "import numpy as np\n",
    "df = pd.DataFrame(np.arange(20).reshape(4,5))\n",
    "\n",
    "df"
   ]
  },
  {
   "cell_type": "code",
   "execution_count": 2,
   "id": "ead4fdab",
   "metadata": {
    "ExecuteTime": {
     "end_time": "2023-07-06T06:56:10.452049Z",
     "start_time": "2023-07-06T06:56:10.439092Z"
    }
   },
   "outputs": [],
   "source": [
    "#使用DataFrame的to_pickle属性就可以生成pickle文件对数据进行永久储存\n",
    "df.to_pickle('D:\\\\Jupyter notebook\\\\data\\\\python\\\\foo.pkl')"
   ]
  },
  {
   "cell_type": "code",
   "execution_count": 3,
   "id": "485253c9",
   "metadata": {
    "ExecuteTime": {
     "end_time": "2023-07-06T06:57:38.115885Z",
     "start_time": "2023-07-06T06:57:38.101932Z"
    }
   },
   "outputs": [
    {
     "data": {
      "text/html": [
       "<div>\n",
       "<style scoped>\n",
       "    .dataframe tbody tr th:only-of-type {\n",
       "        vertical-align: middle;\n",
       "    }\n",
       "\n",
       "    .dataframe tbody tr th {\n",
       "        vertical-align: top;\n",
       "    }\n",
       "\n",
       "    .dataframe thead th {\n",
       "        text-align: right;\n",
       "    }\n",
       "</style>\n",
       "<table border=\"1\" class=\"dataframe\">\n",
       "  <thead>\n",
       "    <tr style=\"text-align: right;\">\n",
       "      <th></th>\n",
       "      <th>0</th>\n",
       "      <th>1</th>\n",
       "      <th>2</th>\n",
       "      <th>3</th>\n",
       "      <th>4</th>\n",
       "    </tr>\n",
       "  </thead>\n",
       "  <tbody>\n",
       "    <tr>\n",
       "      <th>0</th>\n",
       "      <td>0</td>\n",
       "      <td>1</td>\n",
       "      <td>2</td>\n",
       "      <td>3</td>\n",
       "      <td>4</td>\n",
       "    </tr>\n",
       "    <tr>\n",
       "      <th>1</th>\n",
       "      <td>5</td>\n",
       "      <td>6</td>\n",
       "      <td>7</td>\n",
       "      <td>8</td>\n",
       "      <td>9</td>\n",
       "    </tr>\n",
       "    <tr>\n",
       "      <th>2</th>\n",
       "      <td>10</td>\n",
       "      <td>11</td>\n",
       "      <td>12</td>\n",
       "      <td>13</td>\n",
       "      <td>14</td>\n",
       "    </tr>\n",
       "    <tr>\n",
       "      <th>3</th>\n",
       "      <td>15</td>\n",
       "      <td>16</td>\n",
       "      <td>17</td>\n",
       "      <td>18</td>\n",
       "      <td>19</td>\n",
       "    </tr>\n",
       "  </tbody>\n",
       "</table>\n",
       "</div>"
      ],
      "text/plain": [
       "    0   1   2   3   4\n",
       "0   0   1   2   3   4\n",
       "1   5   6   7   8   9\n",
       "2  10  11  12  13  14\n",
       "3  15  16  17  18  19"
      ]
     },
     "execution_count": 3,
     "metadata": {},
     "output_type": "execute_result"
    }
   ],
   "source": [
    "pd.read_pickle('D:\\\\Jupyter notebook\\\\data\\\\python\\\\foo.pkl')"
   ]
  },
  {
   "cell_type": "markdown",
   "id": "fe862895",
   "metadata": {},
   "source": [
    "# 类型提示"
   ]
  },
  {
   "cell_type": "markdown",
   "id": "b5c12698",
   "metadata": {},
   "source": [
    "众所周知，Python 是动态类型语言，运行时不需要指定变量类型。这一点是不会改变的，但是2015年9月创始人 Guido van Rossum 在 Python 3.5 引入了一个类型系统，允许开发者指定变量类型–类型提示（Type Hints）。它的主要作用是方便开发，供IDE 和各种开发工具使用，对代码运行不产生影响，运行时会过滤类型信息。"
   ]
  },
  {
   "cell_type": "markdown",
   "id": "bc7befde",
   "metadata": {},
   "source": [
    "## 优点"
   ]
  },
  {
   "cell_type": "markdown",
   "id": "8765b022",
   "metadata": {},
   "source": [
    "1、易于理解代码\n",
    "指定函数输入和输出，便于理解代码片段的过程。\n",
    "有了类型提示（Type Hints），在调用函数时就可以告诉你需要传递哪些参数类型；以及需要扩展/修改函数时，也会告诉你输入和输出所需要的数据类型。 \n",
    "\n",
    "2、 易于重构\n",
    "类型提示可以在重构时，更好得帮助我们定位类的位置。\n",
    "\n",
    "虽然许多IDE现在采用一些启发式方法提供了这项功能，但是类型提示可以使IDE具有100%的检测准确率，并定位到类的位置。这样可以更平滑，更准确地检测变量类型在代码中的运行方式。\n",
    "\n",
    "请记住，虽然动态类型意味着任何变量都可以成为任何类型，但是所有变量在所有时间中都应只有一种类型。类型系统仍然是编程的核心组件，想想那些使用isinstance判断变量类型、应用逻辑所浪费的时间吧。\n",
    "\n",
    "3、 易于使用库\n",
    "使用类型提示意味着IDE可以拥有更准确、更智能的建议引擎。当调用自动完成时，IDE会完全放心地知道对象上有哪些方法/属性可用。此外，如果用户尝试调用不存在的内容或传递不正确类型的参数，IDE可以立即警告它。\n",
    "\n",
    "4、验证运行数据\n",
    "类型标注（Type annotations）是一种直接的方式，并且是类型文档中最常见到的那种方式。\n",
    "\n",
    "使用：语句将信息附加到变量或函数参数中。\n",
    "->运算符用于将信息附加到函数/方法的返回值中。"
   ]
  },
  {
   "cell_type": "markdown",
   "id": "2add1ca3",
   "metadata": {},
   "source": [
    "## 类型标注"
   ]
  },
  {
   "cell_type": "markdown",
   "id": "d2e7d01c",
   "metadata": {},
   "source": [
    "类型标注（Type annotations）是一种直接的方式，并且是类型文档中最常见到的那种方式。\n",
    "声明一个函数参数的类型，只要在参数名称的后面加个\":“号，带上类型名称就行了。声明函数的返回值类型，只要在函数声明结束之前，也就是”:“号之前加入一个”->\"，带上类型名称。"
   ]
  },
  {
   "cell_type": "markdown",
   "id": "e86c9571",
   "metadata": {},
   "source": [
    "常见数据类型\n",
    "\n",
    "- int,long,float: 整型,长整形,浮点型\n",
    "- bool,str: 布尔型，字符串类型\n",
    "- List, Tuple, Dict, Set:列表，元组，字典, 集合\n",
    "- Iterable,Iterator:可迭代类型，迭代器类型\n",
    "- Generator：生成器类型"
   ]
  },
  {
   "cell_type": "markdown",
   "id": "ff4ee7dc",
   "metadata": {},
   "source": [
    "### 基本数据类型"
   ]
  },
  {
   "cell_type": "code",
   "execution_count": 2,
   "id": "adfb526a",
   "metadata": {
    "ExecuteTime": {
     "end_time": "2024-03-26T12:58:54.755825Z",
     "start_time": "2024-03-26T12:58:54.743824Z"
    }
   },
   "outputs": [
    {
     "name": "stdout",
     "output_type": "stream",
     "text": [
      "test abc\n"
     ]
    }
   ],
   "source": [
    "def test(a: int, b: str) -> str:\n",
    "    print(a, b)\n",
    "    return 1000\n",
    "\n",
    "\n",
    "if __name__ == '__main__':\n",
    "    test('test', 'abc')"
   ]
  },
  {
   "cell_type": "markdown",
   "id": "096b6cca",
   "metadata": {},
   "source": [
    "只是提出了警告，但实际上运行是不会报错，毕竟python的本质还是动态语言。"
   ]
  },
  {
   "cell_type": "markdown",
   "id": "a769161f",
   "metadata": {},
   "source": [
    "### 复杂的类型标注"
   ]
  },
  {
   "cell_type": "code",
   "execution_count": 3,
   "id": "1460fdcb",
   "metadata": {
    "ExecuteTime": {
     "end_time": "2024-03-26T13:01:49.158005Z",
     "start_time": "2024-03-26T13:01:49.143446Z"
    }
   },
   "outputs": [],
   "source": [
    "from typing import List\n",
    "Vector = List[float]\n",
    "\n",
    "def scale(scalar: float, vector: Vector) -> Vector:\n",
    "    return [scalar * num for num in vector]\n",
    "\n",
    "# typechecks; a list of floats qualifies as a Vector.\n",
    "new_vector = scale(2.0, [1.0, -4.2, 5.4])"
   ]
  },
  {
   "cell_type": "code",
   "execution_count": 6,
   "id": "0d9be5f6",
   "metadata": {
    "ExecuteTime": {
     "end_time": "2024-03-26T13:03:43.398805Z",
     "start_time": "2024-03-26T13:03:43.376893Z"
    }
   },
   "outputs": [],
   "source": [
    "from typing import Dict, Tuple, Sequence\n",
    "\n",
    "ConnectionOptions = Dict[str, str]\n",
    "Address = Tuple[str, int]\n",
    "Server = Tuple[Address, ConnectionOptions]\n",
    "\n",
    "def broadcast_message(message: str, servers: Sequence[Server]) -> None:\n",
    "    ...\n",
    "\n",
    "# The static type checker will treat the previous type signature as\n",
    "# being exactly equivalent to this one.\n",
    "def broadcast_message(\n",
    "    message: str,\n",
    "    servers: Sequence[Tuple[Tuple[str, int], Dict[str, str]]]) -> None:\n",
    "    pass"
   ]
  },
  {
   "cell_type": "markdown",
   "id": "d4e4487a",
   "metadata": {},
   "source": [
    "### 泛型指定"
   ]
  },
  {
   "cell_type": "code",
   "execution_count": 7,
   "id": "08772f9e",
   "metadata": {
    "ExecuteTime": {
     "end_time": "2024-03-26T13:04:42.238882Z",
     "start_time": "2024-03-26T13:04:42.228510Z"
    }
   },
   "outputs": [],
   "source": [
    "from typing import Sequence, TypeVar, Union\n",
    "\n",
    "T = TypeVar('T')      # Declare type variable\n",
    "\n",
    "def first(l: Sequence[T]) -> T:   # Generic function\n",
    "    return l[0]\n",
    "\n",
    "T = TypeVar('T')  # Can be anything\n",
    "A = TypeVar('A', str, bytes)  # Must be str or bytes\n",
    "A = Union[str, None] # Must be str or None"
   ]
  },
  {
   "cell_type": "code",
   "execution_count": 9,
   "id": "a142a771",
   "metadata": {
    "ExecuteTime": {
     "end_time": "2024-03-26T13:06:35.438150Z",
     "start_time": "2024-03-26T13:06:35.415936Z"
    }
   },
   "outputs": [],
   "source": [
    "# 创建变量时类型指定\n",
    "from typing import NamedTuple\n",
    "\n",
    "class Employee(NamedTuple):\n",
    "    name: str\n",
    "    id: int = 3\n",
    "\n",
    "employee = Employee('Guido')\n",
    "assert employee.id == 3"
   ]
  },
  {
   "cell_type": "markdown",
   "id": "f3f8085c",
   "metadata": {},
   "source": [
    "Optional，可选类型， Optional[X] 等价于 X | None （或 Union[X, None] ）。 意思是说这个参数可以为空或已经声明的类型。\n",
    "\n",
    "但值得注意的是，这个并不等价于可选参数，当它作为参数类型注解的时候，不代表这个参数可以不传递了，而是说这个参数可以传为 None。"
   ]
  },
  {
   "cell_type": "code",
   "execution_count": 1,
   "id": "67857eb1",
   "metadata": {
    "ExecuteTime": {
     "end_time": "2024-03-27T03:48:33.910851Z",
     "start_time": "2024-03-27T03:48:33.905448Z"
    }
   },
   "outputs": [
    {
     "name": "stdout",
     "output_type": "stream",
     "text": [
      "parameter b is a NoneType!\n"
     ]
    }
   ],
   "source": [
    "#Optional\n",
    "from typing import Optional\n",
    "\n",
    "def foo_v2(a: int, b: Optional[int] = None):\n",
    "    if b:\n",
    "        print(a + b)\n",
    "    else:\n",
    "        print(\"parameter b is a NoneType!\")\n",
    "\n",
    "#只传入a位置的实参\n",
    "foo_v2(2)"
   ]
  },
  {
   "cell_type": "markdown",
   "id": "4a3aa1f3",
   "metadata": {},
   "source": [
    "### 参数注释"
   ]
  },
  {
   "cell_type": "code",
   "execution_count": 11,
   "id": "a90b76ea",
   "metadata": {
    "ExecuteTime": {
     "end_time": "2024-03-26T13:10:18.169290Z",
     "start_time": "2024-03-26T13:10:18.151457Z"
    }
   },
   "outputs": [],
   "source": [
    "def send_mail(\n",
    "    sender: \"fish@example.com\", receiver: \"panda@example.com\",\n",
    "    subject: \"say hello to you.\", message: \"hello.\",\n",
    "    attachments: list(\"type<io.BytesIO>\")) -> bool:\n",
    "    return sender"
   ]
  },
  {
   "cell_type": "code",
   "execution_count": 14,
   "id": "8debe5b2",
   "metadata": {
    "ExecuteTime": {
     "end_time": "2024-03-26T13:11:21.456709Z",
     "start_time": "2024-03-26T13:11:21.432178Z"
    }
   },
   "outputs": [
    {
     "data": {
      "text/plain": [
       "'dog@example.com'"
      ]
     },
     "execution_count": 14,
     "metadata": {},
     "output_type": "execute_result"
    }
   ],
   "source": [
    "send_mail(\"dog@example.com\", \"panda@example.com\", \"panda@example.com\", \"panda@example.com\", \"panda@example.com\")"
   ]
  },
  {
   "cell_type": "markdown",
   "id": "71e8606b",
   "metadata": {},
   "source": [
    "写在\":“号后面的并一定是一个类型。Python把这种写法称为\"annotations”(标注)，在运行的时候完全不使用它。它是专门设计出来给程序员和自动处理程序看的。任何可被计算出来的东西都可以写在那里。\n",
    "\n",
    "很明显，与直接写类型相比，直接把参数是什么样子写出来更容易让调用者看清楚函数的使用方法。更激进的话，标注还可以是被计算出来的。"
   ]
  },
  {
   "cell_type": "code",
   "execution_count": 15,
   "id": "538272d4",
   "metadata": {
    "ExecuteTime": {
     "end_time": "2024-03-26T13:11:46.598281Z",
     "start_time": "2024-03-26T13:11:46.588621Z"
    }
   },
   "outputs": [],
   "source": [
    "def add_matrix3x3(\n",
    "    x: [(1, 1, 1), (1, 1, 1), (1, 1, 1)],\n",
    "    y: [(2, 2, 2), (2, 2, 2), (2, 2, 2)],\n",
    ") -> [(3, 3, 3), (3, 3, 3), (3, 3, 3)]:\n",
    "    pass"
   ]
  },
  {
   "cell_type": "markdown",
   "id": "f4ebf7ee",
   "metadata": {},
   "source": [
    "## 不足之处"
   ]
  },
  {
   "cell_type": "code",
   "execution_count": 16,
   "id": "37a6d14d",
   "metadata": {
    "ExecuteTime": {
     "end_time": "2024-03-26T13:13:17.317405Z",
     "start_time": "2024-03-26T13:13:17.303358Z"
    }
   },
   "outputs": [
    {
     "name": "stdout",
     "output_type": "stream",
     "text": [
      "[1, 'a']\n"
     ]
    }
   ],
   "source": [
    "from typing import List\n",
    "\n",
    "\n",
    "def test(b: List[int]) -> str:\n",
    "    print(b)\n",
    "    return 'test'\n",
    "\n",
    "\n",
    "if __name__ == '__main__':\n",
    "    test([1, 'a'])"
   ]
  },
  {
   "cell_type": "markdown",
   "id": "d9f17c9b",
   "metadata": {},
   "source": [
    "从这个例子可以看出来，虽然我们指定了List[int]即由int组成的列表，但是，实际中，只要这个列表中存在int（其他的可以为任何类型），就不会出现警告。"
   ]
  },
  {
   "cell_type": "markdown",
   "id": "73922f22",
   "metadata": {},
   "source": [
    "# 类型推断"
   ]
  },
  {
   "cell_type": "markdown",
   "id": "f1e02bf7",
   "metadata": {},
   "source": [
    "isinstance() 函数来判断一个对象是否是一个已知的类型，类似 type()。"
   ]
  },
  {
   "cell_type": "markdown",
   "id": "8934277c",
   "metadata": {},
   "source": [
    "isinstance() 与 type() 区别：\n",
    "\n",
    "- type() 不会认为子类是一种父类类型，不考虑继承关系。\n",
    "\n",
    "- isinstance() 会认为子类是一种父类类型，考虑继承关系。\n",
    "\n",
    "如果要判断两个类型是否相同推荐使用 isinstance()。"
   ]
  },
  {
   "cell_type": "markdown",
   "id": "b6955284",
   "metadata": {},
   "source": [
    "以下是 isinstance() 方法的语法:\n",
    "\n",
    "isinstance(object, classinfo)\n",
    "\n",
    "参数\n",
    "- object -- 实例对象。\n",
    "- classinfo -- 可以是直接或间接类名、基本类型或者由它们组成的元组。\n",
    "\n",
    "如果对象的类型与参数二的类型（classinfo）相同则返回 True，否则返回 False。"
   ]
  },
  {
   "cell_type": "markdown",
   "id": "29eedd7e",
   "metadata": {},
   "source": [
    "## 单类型"
   ]
  },
  {
   "cell_type": "code",
   "execution_count": 17,
   "id": "5db97708",
   "metadata": {
    "ExecuteTime": {
     "end_time": "2024-03-26T13:21:47.212380Z",
     "start_time": "2024-03-26T13:21:47.196415Z"
    }
   },
   "outputs": [
    {
     "data": {
      "text/plain": [
       "True"
      ]
     },
     "execution_count": 17,
     "metadata": {},
     "output_type": "execute_result"
    }
   ],
   "source": [
    "a = 2\n",
    "isinstance (a,int)"
   ]
  },
  {
   "cell_type": "code",
   "execution_count": 18,
   "id": "140ce885",
   "metadata": {
    "ExecuteTime": {
     "end_time": "2024-03-26T13:22:09.885986Z",
     "start_time": "2024-03-26T13:22:09.867010Z"
    }
   },
   "outputs": [
    {
     "data": {
      "text/plain": [
       "False"
      ]
     },
     "execution_count": 18,
     "metadata": {},
     "output_type": "execute_result"
    }
   ],
   "source": [
    "isinstance (a,str)"
   ]
  },
  {
   "cell_type": "markdown",
   "id": "f8ee7796",
   "metadata": {},
   "source": [
    "## 多类型"
   ]
  },
  {
   "cell_type": "code",
   "execution_count": 19,
   "id": "e9818e21",
   "metadata": {
    "ExecuteTime": {
     "end_time": "2024-03-26T13:22:15.210818Z",
     "start_time": "2024-03-26T13:22:15.188142Z"
    }
   },
   "outputs": [
    {
     "data": {
      "text/plain": [
       "True"
      ]
     },
     "execution_count": 19,
     "metadata": {},
     "output_type": "execute_result"
    }
   ],
   "source": [
    "isinstance (a,(str,int,list))    # 是元组中的一个返回 True"
   ]
  },
  {
   "cell_type": "markdown",
   "id": "fc380099",
   "metadata": {},
   "source": [
    "对于基本类型来说 classinfo 可以是：\n",
    "\n",
    "int，float，bool，complex，str(字符串)，list，dict(字典)，set，tuple\n",
    "\n",
    "要注意的是，classinfo 的字符串是 str 而不是 string，字典也是简写 dict。"
   ]
  },
  {
   "cell_type": "markdown",
   "id": "01128b16",
   "metadata": {},
   "source": [
    "## None"
   ]
  },
  {
   "cell_type": "code",
   "execution_count": 27,
   "id": "36e6b66c",
   "metadata": {
    "ExecuteTime": {
     "end_time": "2024-03-26T13:43:00.791142Z",
     "start_time": "2024-03-26T13:43:00.780033Z"
    }
   },
   "outputs": [
    {
     "data": {
      "text/plain": [
       "True"
      ]
     },
     "execution_count": 27,
     "metadata": {},
     "output_type": "execute_result"
    }
   ],
   "source": [
    "isinstance(None, type(None))"
   ]
  },
  {
   "cell_type": "code",
   "execution_count": 28,
   "id": "178c640a",
   "metadata": {
    "ExecuteTime": {
     "end_time": "2024-03-26T13:43:01.390502Z",
     "start_time": "2024-03-26T13:43:01.371448Z"
    }
   },
   "outputs": [
    {
     "data": {
      "text/plain": [
       "True"
      ]
     },
     "execution_count": 28,
     "metadata": {},
     "output_type": "execute_result"
    }
   ],
   "source": [
    "isinstance(None, (type(None), list, str))"
   ]
  },
  {
   "cell_type": "markdown",
   "id": "10bb14c4",
   "metadata": {},
   "source": [
    "# 标准代码"
   ]
  },
  {
   "cell_type": "code",
   "execution_count": 1,
   "id": "ce192975",
   "metadata": {
    "ExecuteTime": {
     "end_time": "2024-03-26T09:50:36.144364Z",
     "start_time": "2024-03-26T09:50:33.414230Z"
    }
   },
   "outputs": [],
   "source": [
    "from pandas import DataFrame\n",
    "from pandas import Series\n",
    "from numpy import ndarray\n",
    "from typing import Union, List, Dict\n",
    "import pandas as pd\n",
    "import numpy as np\n",
    "from sklearn.metrics import r2_score, mean_squared_error\n",
    "from scipy.spatial.distance import cdist\n",
    "import optuna\n",
    "import warnings\n",
    "\n",
    "warnings.filterwarnings('ignore')\n",
    "\n",
    "\n",
    "# 归一化和反归一化函数\n",
    "def __minmax(data: DataFrame,\n",
    "             feature_max: Series,\n",
    "             feature_min: Series,\n",
    "             inverse: bool = False) -> DataFrame:\n",
    "    \"\"\"\n",
    "    对输入数据进行归一化或反归一化\n",
    "\n",
    "    参数说明\n",
    "    ----------\n",
    "    data : {DataFrame} of shape (n_samples, n_features)\n",
    "        输入数据，可以是历史数据，实时数据或者状态矩阵等\n",
    "    feature_max : {Series} of shape (n_features, )\n",
    "        输入数据每个特征的最大值\n",
    "    feature_min : {Series} of shape (n_features, )\n",
    "        输入数据每个特征的最小值\n",
    "    inverse : {bool}\n",
    "        是否反归一化，如果为True，则为反归一化；反之为归一化\n",
    "\n",
    "    返回值\n",
    "    -------\n",
    "    data : {DataFrame} of shape (n_samples, n_features)\n",
    "        输出归一化或反归一化后的数据\n",
    "    \"\"\"\n",
    "    if inverse:\n",
    "        # 反归一化\n",
    "        max_min_diff = feature_max - feature_min\n",
    "        data_min_diff = data * max_min_diff\n",
    "        data = data_min_diff + feature_min\n",
    "    else:\n",
    "        # 正归一化\n",
    "        max_min_diff = feature_max - feature_min\n",
    "        data_min_diff = data - feature_min\n",
    "        data = data_min_diff / max_min_diff\n",
    "    return data\n",
    "\n",
    "\n",
    "# 初始化状态矩阵\n",
    "def __init_state_matrix(data: DataFrame, n_columns: Union[int, None],\n",
    "                        time_tag: Union[str, None]) -> DataFrame:\n",
    "    \"\"\"\n",
    "    初始化状态矩阵参数并生成状态矩阵\n",
    "\n",
    "    参数说明\n",
    "    ----------\n",
    "    data : {DataFrame} of shape (n_samples, n_features)\n",
    "        输入数据，可以是历史数据\n",
    "    time_tag : {str}\n",
    "        时间标签，如果为None，默认数据中不含时间特征\n",
    "    n_columns : {int}\n",
    "        状态矩阵数据样本数\n",
    "\n",
    "    返回值\n",
    "    -------\n",
    "    D : {DataFrame} of shape (n_samples, n_features)\n",
    "        输出数据，状态矩阵\n",
    "    \"\"\"\n",
    "    # 规范化数据\n",
    "    data = data.reset_index(drop=True)\n",
    "\n",
    "    # 选取时间列\n",
    "    if time_tag != None:\n",
    "        no_time_tags = [i for i in data.columns if i != time_tag]\n",
    "        data[time_tag] = pd.to_datetime(data[time_tag])\n",
    "        data_no_time = data.loc[:, no_time_tags].astype('float32')\n",
    "    else:\n",
    "        data_no_time = data.astype('float32')\n",
    "\n",
    "    # 求最大最小值\n",
    "    feature_max = data_no_time.max()\n",
    "    feature_min = data_no_time.min()\n",
    "\n",
    "    # 数据归一化\n",
    "    filter_data = __minmax(data_no_time, feature_max, feature_min)\n",
    "\n",
    "    # 把每个测点的最大最小值中位数所在状态的数据均选入状态矩阵\n",
    "    m = filter_data.shape[1]  # 数据列数\n",
    "    index_list = []\n",
    "    for i in range(m):\n",
    "        index_max = filter_data.iloc[:, i].argmax()\n",
    "        index_list.append(index_max)\n",
    "        index_min = filter_data.iloc[:, i].argmin()\n",
    "        index_list.append(index_min)\n",
    "        index_median = np.argsort(\n",
    "            filter_data.iloc[:,\n",
    "                             i].values)[len(filter_data.iloc[:, i].values) //\n",
    "                                        2]\n",
    "        index_list.append(index_median)\n",
    "\n",
    "    D1 = set(index_list)\n",
    "    n = filter_data.shape[0]  # 数据行数\n",
    "    D_full = set(range(n))\n",
    "    D_comp = D_full - D1  # 补集\n",
    "\n",
    "    # 剩余按照L2范数大小递减\n",
    "    row_key = list(D_comp)\n",
    "    row_value = []\n",
    "    filter_data_comp = filter_data.iloc[row_key, :]\n",
    "    for j in row_key:\n",
    "        norm = np.linalg.norm(filter_data_comp.loc[j, :])\n",
    "        row_value.append(norm)\n",
    "    row = pd.DataFrame(zip(row_key, row_value)).sort_values(\n",
    "        by=1, ascending=False).reset_index(drop=True)\n",
    "\n",
    "    # 以t为因子进行抽取\n",
    "    n_columns = n_columns\n",
    "    k = (n_columns - len(D1))\n",
    "    t = np.floor(len(D_comp) / (n_columns - len(D1)))  # 每t个抽取一次\n",
    "    D2 = []\n",
    "    i = 1\n",
    "    for j in row.index:\n",
    "        if j % t == 0 and i <= k:\n",
    "            D2.append(int(row.loc[j, :][0]))\n",
    "            i += 1\n",
    "    D2 = set(D2)\n",
    "\n",
    "    # 状态矩阵的行为特征数，列为样本数\n",
    "    D_no_time = filter_data.iloc[list(D1\n",
    "                                      | D2), :].reset_index(drop=True).values\n",
    "    D_no_time = pd.DataFrame(D_no_time, columns=data_no_time.columns)\n",
    "\n",
    "    # 反归一化\n",
    "    D_no_time = __minmax(D_no_time, feature_max, feature_min, inverse=True)\n",
    "\n",
    "    # 拼接时间列\n",
    "    if time_tag != None:\n",
    "        data_time = data.iloc[list(D1 | D2), :].loc[:, time_tag].reset_index(\n",
    "            drop=True)\n",
    "        D = pd.concat([data_time, D_no_time], axis=1)\n",
    "    else:\n",
    "        data_no_time = data\n",
    "        D = D_no_time\n",
    "    return D\n",
    "\n",
    "\n",
    "def __distance(x1: ndarray, x2: ndarray, dist_metric: str) -> ndarray:\n",
    "    \"\"\"\n",
    "    计算数据间的“距离”\n",
    "\n",
    "    参数说明\n",
    "    ----------\n",
    "    x1 : {array-like}\n",
    "        输入数据，矩阵或向量\n",
    "    x2 : {array-like}\n",
    "        输入数据，矩阵或向量\n",
    "    dist_metric : {str}\n",
    "        距离类型，默认为'union'，可选'gaussian','euclidean','union'\n",
    "\n",
    "    返回值\n",
    "    -------\n",
    "    dist_mat : {array-like}\n",
    "        输出数据，距离矩阵或向量\n",
    "    \"\"\"\n",
    "    # 选择距离度量方式\n",
    "    if dist_metric == 'gaussian':\n",
    "        m, n = x1.shape[0], x2.shape[0]  #获取行数\n",
    "        dist_matrix = np.zeros((m, n), dtype=float)  #全零矩阵\n",
    "        # 数据间的距离\n",
    "        for i in range(m):\n",
    "            for j in range(n):\n",
    "                dist_matrix[i][j] = np.sum((x1[i] - x2[j])**2)  #向量差的平方和\n",
    "        # 参数初始化，表示数据的紧密程度\n",
    "        gamma = 0.5\n",
    "        dist_mat = np.exp(-gamma * dist_matrix)  #计算结果矩阵\n",
    "\n",
    "    elif dist_metric == 'union':\n",
    "        m, n = x1.shape[0], x2.shape[0]  #获取行数\n",
    "        dist_matrix = np.zeros((m, n), dtype=float)  #全零矩阵\n",
    "        # 数据间的距离\n",
    "        for i in range(m):\n",
    "            for j in range(n):\n",
    "                dist_matrix[i][j] = np.sum((x1[i] - x2[j])**2)  #向量差的平方和\n",
    "        # 参数初始化，表示数据的紧密程度\n",
    "        gamma1 = 0.5\n",
    "        # 高斯核\n",
    "        dist_matrix1 = np.exp(-gamma1 * dist_matrix)\n",
    "        # 欧氏距离\n",
    "        dist_matrix2 = cdist(x1, x2, 'euclidean')\n",
    "        # 联合“距离”\n",
    "        dist_matrix3 = dist_matrix1 - dist_matrix2\n",
    "        gamma2 = 0.5\n",
    "        # 高斯核\n",
    "        dist_mat = np.exp(-gamma2 * dist_matrix3)\n",
    "\n",
    "    elif dist_metric == 'euclidean':\n",
    "        dist_mat = cdist(x1, x2, dist_metric)\n",
    "\n",
    "    else:\n",
    "        raise ValueError('Please enter the correct parameters!')\n",
    "    return dist_mat\n",
    "\n",
    "\n",
    "# 权重向量\n",
    "def __weight(D: ndarray, x_in: ndarray, dist_metric: str) -> ndarray:\n",
    "    \"\"\"\n",
    "    计算数据间的权重向量\n",
    "\n",
    "    参数说明\n",
    "    ----------\n",
    "    D : {array-like} of shape (n_features, n_samples)\n",
    "        输入数据，可以是状态矩阵\n",
    "    x_in : {array-like} of shape (n_features, n_samples)\n",
    "        输入数据，待预测数据\n",
    "    dist_metric : {str}\n",
    "        距离类型，默认为'union'，可选'gaussian','euclidean','union'\n",
    "\n",
    "    返回值\n",
    "    -------\n",
    "    w : {array-like}\n",
    "        输出数据，权重向量\n",
    "    \"\"\"\n",
    "    # 计算距离\n",
    "    G = __distance(D.T, D.T, dist_metric)\n",
    "    G_inv = np.linalg.inv(G)\n",
    "\n",
    "    # 相似性度量\n",
    "    a = __distance(D.T, x_in, dist_metric)\n",
    "\n",
    "    # 计算权重向量\n",
    "    w0 = np.dot(G_inv, a)\n",
    "    w = w0 / np.sum(w0, axis=0)\n",
    "    return w\n",
    "\n",
    "\n",
    "# VSG函数\n",
    "def __vsg(D: ndarray, x_in: ndarray, ms: Union[int, None],\n",
    "          dist_metric: str) -> ndarray:\n",
    "    \"\"\"\n",
    "    返回不含缺失值的特征列索引\n",
    "\n",
    "    参数说明\n",
    "    ----------\n",
    "    D : {array-like} of shape (n_features, n_samples)\n",
    "        输入数据，可以是状态矩阵\n",
    "    x_in : {array-like} of shape (n_features, n_samples)\n",
    "        输入数据，矩阵或向量\n",
    "    ms : {int}\n",
    "        权重前ms个\n",
    "    dist_metric : {str}\n",
    "        距离类型，默认为'union'，可选'gaussian','euclidean','union'\n",
    "\n",
    "    返回值\n",
    "    -------\n",
    "    x_index : {array-like}\n",
    "        不包含缺失值的特征列索引\n",
    "    \"\"\"\n",
    "    x_out = []\n",
    "    for j in range(x_in.shape[0]):\n",
    "        # 判断缺失值\n",
    "        x_nan_len = np.isnan(x_in[j]).sum()\n",
    "        if x_nan_len / len(x_in[j]) <= 0.2:\n",
    "            # 判断异常值\n",
    "            x_in_out = [i if i <= 1 and i >= 0 else np.nan for i in x_in[j]]\n",
    "            x__in = np.array(x_in_out).reshape((1, -1))\n",
    "\n",
    "            # 预测值中包含缺失值的索引\n",
    "            nan_index = np.where(np.isnan(x__in[0]))[0]\n",
    "            not_nan_index = list(set(range(x__in.shape[1])) - set(nan_index))\n",
    "\n",
    "            # 去除缺失值\n",
    "            x__in_ = x__in[:, not_nan_index]\n",
    "            D_ = D[not_nan_index, :]\n",
    "\n",
    "            # 计算权重向量\n",
    "            w = __weight(D_, x__in_, dist_metric)\n",
    "\n",
    "            # VBM算法：选择权重最大的ms个索引\n",
    "            if ms != None:\n",
    "                w_index = np.argsort(-w.T)[0][:ms]\n",
    "                # 动态状态矩阵\n",
    "                D__ = D_[:, w_index]\n",
    "                # 计算权重向量\n",
    "                w_ms = __weight(D__, x__in_, dist_metric)\n",
    "                # 计算输出向量\n",
    "                D_ms = D[:, w_index]\n",
    "                x_out_ = np.dot(D_ms, w_ms).T\n",
    "            else:\n",
    "                # 计算输出向量\n",
    "                x_out_ = np.dot(D, w).T\n",
    "            x_out_ = x_out_.reshape((-1, ))\n",
    "            x_out.append(x_out_)\n",
    "        else:\n",
    "            x_out.append(x_in[j])\n",
    "\n",
    "    x_out = np.array(x_out)\n",
    "    return x_out\n",
    "\n",
    "\n",
    "# 填补状态矩阵中与缺失值相似的值\n",
    "def __fillna(D: ndarray, x_in: ndarray, ms: Union[int, None],\n",
    "             dist_metric: str) -> ndarray:\n",
    "    \"\"\"\n",
    "    缺失值填充\n",
    "\n",
    "    参数说明\n",
    "    ----------\n",
    "    D : {array-like} of shape (n_features, n_samples)\n",
    "        输入数据，可以是状态矩阵\n",
    "    x_in : {array-like} of shape (n_features, n_samples)\n",
    "        输入数据，待预测数据\n",
    "    ms : {int}\n",
    "        权重前ms个\n",
    "    dist_metric : {str}\n",
    "        距离类型，默认为'union'，可选'gaussian','euclidean','union'\n",
    "\n",
    "    返回值\n",
    "    -------\n",
    "    full_x : {array-like}\n",
    "        输出数据，填充后的待预测数据\n",
    "    \"\"\"\n",
    "    full_x = []\n",
    "    # 异常的点置空并填充\n",
    "    for j in range(x_in.shape[0]):\n",
    "        x_in_out = [i if i <= 1 and i >= 0 else np.nan for i in x_in[j]]\n",
    "        x__in = np.array(x_in_out).reshape((1, -1))\n",
    "\n",
    "        # 预测值中包含缺失值的索引\n",
    "        nan_index = np.where(np.isnan(x__in[0]))[0]\n",
    "        not_nan_index = list(set(range(x__in.shape[1])) - set(nan_index))\n",
    "\n",
    "        # 去除缺失值\n",
    "        x__in_ = x__in[:, not_nan_index]\n",
    "        D_ = D[not_nan_index, :].T\n",
    "\n",
    "        # 与状态矩阵差值最小的索引，也就是最相似的数据\n",
    "        diff_index = np.argmin(np.sum(np.abs(x__in_ - D_), axis=1))\n",
    "\n",
    "        # 填补缺失值\n",
    "        fillna = D.T[diff_index, :][nan_index]\n",
    "        x__in[0][nan_index] = fillna\n",
    "        x__in = x__in.reshape((-1, ))\n",
    "\n",
    "        # 输出整个数组\n",
    "        full_x.append(x__in)\n",
    "    full_x = np.array(full_x)\n",
    "\n",
    "    # 计算权重向量\n",
    "    w = __weight(D, full_x, dist_metric)\n",
    "\n",
    "    # VBM算法：选择权重最大的ms个索引\n",
    "    if ms != None:\n",
    "        w_index = np.argsort(-w.T)[0][:ms]\n",
    "        # 动态状态矩阵\n",
    "        D_ms = D[:, w_index]\n",
    "        # 计算权重向量\n",
    "        w_ms = __weight(D_ms, full_x, dist_metric)\n",
    "        # 计算输出向量\n",
    "        x_out = np.dot(D_ms, w_ms).T\n",
    "    else:\n",
    "        # 计算输出向量\n",
    "        x_out = np.dot(D, w).T\n",
    "    return x_out\n",
    "\n",
    "\n",
    "# 自学习\n",
    "def state_matrix(data: DataFrame, options: Dict[str, Union[str, int, bool, None]]) -> DataFrame:\n",
    "    \"\"\"\n",
    "    利用贝叶斯模型生成最佳状态矩阵\n",
    "\n",
    "    参数说明\n",
    "    ----------\n",
    "    data : {DataFrame} of shape (n_samples, n_features)\n",
    "        输入数据，训练数据\n",
    "    time_tag : {str}\n",
    "        时间标签，如果为None，默认数据中不含时间特征\n",
    "    n_columns : {int}\n",
    "        状态矩阵样本数，在不使用贝叶斯优化的情况下可自行设置，默认为400\n",
    "    k : {int}\n",
    "        K折交叉验证，在使用贝叶斯优化时填写，默认为5\n",
    "    n_trials : {int}\n",
    "        迭代次数，在使用贝叶斯优化时填写，默认为50\n",
    "    bayes_opt : {bool}\n",
    "        是否采用贝叶斯优化生成状态矩阵，如果为True，使用贝叶斯；反之，不使用\n",
    "\n",
    "    返回值\n",
    "    -------\n",
    "    D : {DataFrame} of shape (n_samples, n_features)\n",
    "        输出数据，最终状态矩阵\n",
    "    ms : {int}\n",
    "        权重最大的ms个索引\n",
    "    \"\"\"\n",
    "    # 函数参数解析\n",
    "    time_tag = options['time_tag']\n",
    "    n_columns = options['n_columns']\n",
    "    k = options['k']\n",
    "    n_trials = options['n_trials']\n",
    "    bayes_opt = options['bayes_opt']\n",
    "    \n",
    "    # 输入数据判断类型\n",
    "    if not isinstance(data, DataFrame):\n",
    "        raise TypeError('data should be of DataFrame type!')\n",
    "    if not isinstance(time_tag, (type(None), str)):\n",
    "        raise TypeError('time_tag should be of str type!')\n",
    "    if not isinstance(n_columns, (type(None), int)):\n",
    "        raise TypeError('n_columns should be of int type!')\n",
    "    if not isinstance(k, (type(None), int)):\n",
    "        raise TypeError('k should be of int type!')\n",
    "    if not isinstance(n_trials, (type(None), int)):\n",
    "        raise TypeError('n_trials should be of int type!')\n",
    "    if not isinstance(bayes_opt, bool):\n",
    "        raise TypeError('bayes_opt should be of bool type!')\n",
    "\n",
    "    # 规范化数据\n",
    "    data = data.reset_index(drop=True)\n",
    "\n",
    "    # 缺失值处理，如果历史数据存在缺失值，直接结束，不生成状态矩阵\n",
    "    if data.isna().values.sum() > 0:\n",
    "        raise ValueError('The data should not contain missing values!')\n",
    "\n",
    "    # 贝叶斯优化\n",
    "    if bayes_opt:\n",
    "        # 划分训练集和验证集\n",
    "        samples = data.shape[0]\n",
    "        features = data.shape[1]\n",
    "\n",
    "        # K折交叉验证\n",
    "        if k == None:\n",
    "            k = 5\n",
    "        best_values = []\n",
    "        best_n_columns = []\n",
    "        best_mss = []\n",
    "        for i in range(k):\n",
    "            start = np.random.randint(0, int(samples * 0.875))\n",
    "            end = start + int(samples * 0.125)\n",
    "            train, valid = pd.concat(\n",
    "                [data.iloc[:start, :], data.iloc[end:, :]],\n",
    "                axis=0).reset_index(drop=True), data.iloc[start:end, :]\n",
    "\n",
    "            # optuna优化\n",
    "            def optuna_objective(trial):\n",
    "                # 定义参数空间\n",
    "                n_columns = trial.suggest_int(\"n_columns_params\",\n",
    "                                              features * 3 * 2,\n",
    "                                              features * 3 * 10,\n",
    "                                              1)  # 整数型，(参数名称，下界，上界，步长)\n",
    "                ms = trial.suggest_int(\"ms_params\", features * 3 * 2,\n",
    "                                       n_columns, 1)\n",
    "                D = __init_state_matrix(train, n_columns, time_tag=time_tag)\n",
    "                X_out = estimate(D, valid, time_tag=time_tag, ms=ms)\n",
    "                ivbm_eva = eval(valid, X_out, time_tag=time_tag)\n",
    "                return ivbm_eva\n",
    "\n",
    "            algo = optuna.samplers.TPESampler(n_startup_trials=10,\n",
    "                                              n_ei_candidates=24)\n",
    "            # 实例化优化器\n",
    "            study = optuna.create_study(sampler=algo, direction=\"minimize\")\n",
    "            # 开始优化，n_trials为允许的最大迭代次数\n",
    "            if n_trials == None:\n",
    "                n_trials = 50\n",
    "            study.optimize(optuna_objective,\n",
    "                           n_trials=n_trials,\n",
    "                           show_progress_bar=True)\n",
    "\n",
    "            # 是否选择参数优化\n",
    "            best_value = study.best_trial.value  # 获取最优值\n",
    "            best_param = study.best_trial.params  # 获取最优值对应的参数列表\n",
    "            best_n_column = best_param['n_columns_params']\n",
    "            best_ms = best_param['ms_params']\n",
    "\n",
    "            # 结果拼接\n",
    "            best_values.append(best_value)\n",
    "            best_n_columns.append(best_n_column)\n",
    "            best_mss.append(best_ms)\n",
    "        # 选择RMSE最小的值对应的样本数\n",
    "        best_index = np.where(\n",
    "            np.array(best_values) == np.array(best_values).min())[0][0]\n",
    "        best_n_column = best_n_columns[best_index]\n",
    "        best_ms = best_mss[best_index]\n",
    "        best_D = __init_state_matrix(data, best_n_column, time_tag=time_tag)\n",
    "\n",
    "        return best_D, best_ms\n",
    "    else:\n",
    "        if n_columns == None:\n",
    "            n_columns = 400\n",
    "        best_D = __init_state_matrix(data, n_columns, time_tag=time_tag)\n",
    "\n",
    "        return best_D\n",
    "\n",
    "\n",
    "# 估计\n",
    "def estimate(data: List[DataFrame], options: Dict[str, Union[str, int, bool, None]]) -> DataFrame:\n",
    "    \"\"\"\n",
    "    待预测数据进行预测\n",
    "\n",
    "    参数说明\n",
    "    ----------\n",
    "    D : {DataFrame} of shape (n_samples, n_features)\n",
    "        输入数据，状态矩阵\n",
    "    x_in : {DataFrame} of shape (n_samples, n_features)\n",
    "        输入数据，测试数据\n",
    "    time_tag : {str}\n",
    "        时间标签，如果为None，默认数据中不含时间特征\n",
    "    in_tags : {list}\n",
    "        独立标签索引，如果为None，默认选择全部特征\n",
    "    ms : {int}\n",
    "        权重最大的ms个索引，如果为None，默认使用全部权重向量，权重越大，拟合效果越好，容易过拟合\n",
    "    vsg : {bool}\n",
    "        是否使用VSG方法处理缺失值，默认不使用，使用空值填充，vsg精度稍高但运行时间长\n",
    "    dist_metric : {str}\n",
    "        距离类型，默认为'union'，可选'gaussian','euclidean','union'\n",
    "\n",
    "    返回值\n",
    "    -------\n",
    "    x_out : {DataFrame} of shape (n_samples, n_features)\n",
    "        输出向量\n",
    "    \"\"\"\n",
    "    # 函数参数解析\n",
    "    D = data[0]\n",
    "    x_in = data[1]\n",
    "    time_tag = options['time_tag']\n",
    "    in_tags = options['in_tags']\n",
    "    ms = options['ms']\n",
    "    vsg = options['vsg']\n",
    "    dist_metric = options['dist_metric']\n",
    "    \n",
    "    # 输入数据判断类型\n",
    "    if not isinstance(D, DataFrame):\n",
    "        raise TypeError('D should be of DataFrame type!')\n",
    "    if not isinstance(x_in, DataFrame):\n",
    "        raise TypeError('x_in should be of DataFrame type!')\n",
    "    if not isinstance(time_tag, (type(None), str)):\n",
    "        raise TypeError('time_tag should be of str type!')\n",
    "    if not isinstance(in_tags, (List, type(None))):\n",
    "        raise TypeError('in_tags should be of list type!')\n",
    "    if not isinstance(ms, (type(None), int)):\n",
    "        raise TypeError('ms should be of int type!')\n",
    "    if not isinstance(vsg, bool):\n",
    "        raise TypeError('vsg should be of bool type!')\n",
    "    if dist_metric not in ['gaussian', 'euclidean', 'union']:\n",
    "        raise ValueError(\n",
    "            'eval_metrics should be one of \"gaussian\" or \"euclidean\" or \"union\"!'\n",
    "        )\n",
    "\n",
    "    # 规范化数据\n",
    "    D = D.reset_index(drop=True)\n",
    "    x_in = x_in.reset_index(drop=True)\n",
    "\n",
    "    # 选取时间列\n",
    "    if time_tag != None:\n",
    "        no_time_tags = [i for i in D.columns if i != time_tag]\n",
    "        D[time_tag] = pd.to_datetime(D[time_tag])\n",
    "        D_no_time = D.loc[:, no_time_tags].astype('float32')\n",
    "        x_in[time_tag] = pd.to_datetime(x_in[time_tag])\n",
    "        x_in_no_time = x_in.loc[:, no_time_tags].astype('float32')\n",
    "    else:\n",
    "        D_no_time = D.astype('float32')\n",
    "        x_in_no_time = x_in.astype('float32')\n",
    "\n",
    "    # 自关联模型，选择独立标签\n",
    "    if in_tags != None:\n",
    "        if time_tag in in_tags:\n",
    "            in_tags = list(set(in_tags) - set([time_tag]))\n",
    "        x_independent = x_in_no_time.loc[:, in_tags]\n",
    "        D_independent = D_no_time.loc[:, in_tags]\n",
    "        columns = in_tags\n",
    "    else:\n",
    "        x_independent = x_in_no_time\n",
    "        D_independent = D_no_time\n",
    "        columns = D_no_time.columns\n",
    "\n",
    "    # 缺失值处理，缺失值大于20%的，将原输入作为输出\n",
    "    if vsg == False:\n",
    "        for i in range(x_independent.shape[0]):\n",
    "            ratio = x_independent.iloc[\n",
    "                i, :].isna().sum() / x_independent.shape[1]\n",
    "            if ratio >= 0.2 or vsg == True:\n",
    "                vsg = True\n",
    "            else:\n",
    "                vsg = vsg\n",
    "\n",
    "    # 状态矩阵归一化，最大最小值\n",
    "    feature_max = D_independent.max()\n",
    "    feature_min = D_independent.min()\n",
    "    D_minmax = __minmax(D_independent, feature_max, feature_min)\n",
    "    D_minmax = D_minmax.values.T\n",
    "\n",
    "    # 待预测数据归一化\n",
    "    x_minmax = __minmax(x_independent, feature_max, feature_min)\n",
    "    if len(x_independent.shape) == 1:\n",
    "        x_minmax = x_minmax.values.reshape((1, -1))\n",
    "    else:\n",
    "        x_minmax = x_minmax.values\n",
    "\n",
    "    # 异常值处理方式：置空并空值填充或者VSG\n",
    "    if vsg:\n",
    "        x_out_minmax = __vsg(D_minmax, x_minmax, ms, dist_metric)\n",
    "    else:\n",
    "        x_out_minmax = __fillna(D_minmax, x_minmax, ms, dist_metric)\n",
    "\n",
    "    x_out_minmax = pd.DataFrame(x_out_minmax, columns=columns)\n",
    "\n",
    "    # 反归一化\n",
    "    x_out = __minmax(x_out_minmax, feature_max, feature_min, inverse=True)\n",
    "\n",
    "    # 拼接时间列\n",
    "    if time_tag != None:\n",
    "        x_out_time = x_in.loc[:, time_tag]\n",
    "        x_out = pd.concat([x_out_time, x_out], axis=1)\n",
    "    else:\n",
    "        x_out = x_out\n",
    "\n",
    "    return x_out\n",
    "\n",
    "\n",
    "# 计算评估指标\n",
    "def eval(data: List[DataFrame], options: Dict[str, Union[str, None]]) -> float:\n",
    "    \"\"\"\n",
    "    计算评估指标\n",
    "\n",
    "    参数说明\n",
    "    ----------\n",
    "    x_in : {DataFrame} of shape (n_samples, n_features)\n",
    "        输入数据\n",
    "    x_out : {DataFrame} of shape (n_samples, n_features)\n",
    "        预测数据\n",
    "    time_tag : {str}\n",
    "        时间标签，如果为None，默认数据中不含时间特征\n",
    "    eval_metrics : {str}\n",
    "        评估指标值，可选'r2'和'rmse'\n",
    "\n",
    "    返回值\n",
    "    -------\n",
    "    eval_value : {float}\n",
    "        评估值\n",
    "    \"\"\"\n",
    "    # 函数参数解析\n",
    "    x_in = data[0]\n",
    "    x_out = data[1]\n",
    "    time_tag = options['time_tag']\n",
    "    eval_metrics = options['eval_metrics']\n",
    "    \n",
    "    # 输入数据判断类型\n",
    "    if not isinstance(x_in, DataFrame):\n",
    "        raise TypeError('x_in should be of DataFrame type!')\n",
    "    if not isinstance(x_out, DataFrame):\n",
    "        raise TypeError('x_out should be of DataFrame type!')\n",
    "    if not isinstance(time_tag, (type(None), str)):\n",
    "        raise TypeError('time_tag should be of str type!')\n",
    "    if eval_metrics not in ['r2', 'rmse']:\n",
    "        raise ValueError('eval_metrics should be one of \"r2\" or \"rmse\"!')\n",
    "\n",
    "    # 规范化数据\n",
    "    x_in = x_in.reset_index(drop=True)\n",
    "    x_out = x_out.reset_index(drop=True)\n",
    "\n",
    "    # 选取时间列\n",
    "    if time_tag != None:\n",
    "        no_time_tags = [i for i in x_in.columns if i != time_tag]\n",
    "        x_in[time_tag] = pd.to_datetime(x_in[time_tag])\n",
    "        x_in_no_time = x_in.loc[:, no_time_tags].astype('float32')\n",
    "        x_out[time_tag] = pd.to_datetime(x_out[time_tag])\n",
    "        x_out_no_time = x_out.loc[:, no_time_tags].astype('float32')\n",
    "    else:\n",
    "        x_in_no_time = x_in.astype('float32')\n",
    "        x_out_no_time = x_out.astype('float32')\n",
    "\n",
    "    # 缺失值索引\n",
    "    nan_index = set(np.where(np.isnan(x_in_no_time.values))[0])\n",
    "    no_nan_index = list(set(range(x_in_no_time.shape[0])) - nan_index)\n",
    "\n",
    "    # 删除缺失值\n",
    "    x_in_no_nan = x_in_no_time.iloc[no_nan_index, :]\n",
    "    x_out_no_nan = x_out_no_time.iloc[no_nan_index, :]\n",
    "\n",
    "    #     # 计算偏差值\n",
    "    #     RES = x_in_no_nan - x_out_no_nan\n",
    "\n",
    "    # 计算评估指标\n",
    "    if eval_metrics == 'r2':\n",
    "        eval_value = r2_score(x_in_no_nan.values.T, x_out_no_nan.values.T)\n",
    "    elif eval_metrics == 'rmse':\n",
    "        eval_value = np.sqrt(\n",
    "            mean_squared_error(x_in_no_nan.values.T, x_out_no_nan.values.T))\n",
    "\n",
    "    return eval_value"
   ]
  },
  {
   "cell_type": "code",
   "execution_count": null,
   "id": "44effeb0",
   "metadata": {},
   "outputs": [],
   "source": [
    "param1 = {\n",
    "    'data': train_data,\n",
    "    'options': {\n",
    "        'time_tag': 'Time',\n",
    "        'n_columns': None,\n",
    "        'k': None,\n",
    "        'n_trials': None,\n",
    "        'bayes_opt': False,\n",
    "    }\n",
    "}\n",
    "ivbm_D = state_matrix(**param1)"
   ]
  },
  {
   "cell_type": "code",
   "execution_count": null,
   "id": "0e222f6c",
   "metadata": {},
   "outputs": [],
   "source": [
    "param2 = {\n",
    "    'data': [ivbm_D, test_data],\n",
    "    'options': {\n",
    "        'time_tag': 'Time',\n",
    "        'in_tags': None,\n",
    "        'ms': None,\n",
    "        'vsg': False,\n",
    "        'dist_metric': 'union'\n",
    "    }\n",
    "}\n",
    "X_out = estimate(**param2)"
   ]
  },
  {
   "cell_type": "code",
   "execution_count": null,
   "id": "75303e80",
   "metadata": {},
   "outputs": [],
   "source": [
    "param3 = {\n",
    "    'data': [test_data, X_out],\n",
    "    'options': {\n",
    "        'time_tag': 'Time',\n",
    "        'eval_metrics': 'rmse'\n",
    "    }\n",
    "}\n",
    "ivbm_eva = eval(**param3)"
   ]
  },
  {
   "cell_type": "markdown",
   "id": "f9e23868",
   "metadata": {},
   "source": [
    "# `__init__.py`"
   ]
  },
  {
   "cell_type": "markdown",
   "id": "43f90cf2",
   "metadata": {},
   "source": [
    "在Python工程里，当python检测到一个目录下存在__init__.py文件时，python就会把它当成一个模块(module)。Module跟C＋＋的命名空间和Java的Package的概念很像，都是为了科学地组织化工程，管理命名空间。\n",
    "\n",
    "__init__.py可以是一个空文件，也可以有非常丰富的内容。本文将举一个非常简单的例子，来介绍__init__.py的用法."
   ]
  },
  {
   "cell_type": "markdown",
   "id": "9e6ccf5e",
   "metadata": {},
   "source": [
    "__init__.py 会在 import 的时候被执行，而空的 __init__.py 在Python新版本中已经不需要你额外去定义了，因为就算你不定义 init， Python 也知道你导入的包路径，但是如果你想要做一些初始化操作，或者像我们刚刚说的预先导入相关的模块，那么定义 __init__.py 还是很有必要的"
   ]
  },
  {
   "cell_type": "markdown",
   "id": "23419da6",
   "metadata": {},
   "source": [
    "[https://zhuanlan.zhihu.com/p/115350758](相关网址)"
   ]
  },
  {
   "cell_type": "markdown",
   "id": "0a76084f",
   "metadata": {},
   "source": [
    "# python脚本"
   ]
  },
  {
   "cell_type": "markdown",
   "id": "337c6b4c",
   "metadata": {},
   "source": [
    "## python文件中执行另一个python文件"
   ]
  },
  {
   "cell_type": "markdown",
   "id": "441cd78a",
   "metadata": {},
   "source": [
    "在python文件中直接执行另一个python文件，和引用（import）其他python文件的方法函数有所不同，相当于直接Run python文件"
   ]
  },
  {
   "cell_type": "markdown",
   "id": "ac56999d",
   "metadata": {},
   "source": [
    "使用 os.system()"
   ]
  },
  {
   "cell_type": "raw",
   "id": "3a3bd2a5",
   "metadata": {},
   "source": [
    "os.system('python print.py')"
   ]
  },
  {
   "cell_type": "markdown",
   "id": "0651a706",
   "metadata": {},
   "source": [
    "print.py为另一个python文件"
   ]
  },
  {
   "cell_type": "markdown",
   "id": "c2c8bea2",
   "metadata": {},
   "source": [
    "# 源码保护"
   ]
  },
  {
   "cell_type": "markdown",
   "id": "f4cd514c",
   "metadata": {},
   "source": [
    "Python 与其他许多解释型语言一样，Python 实际上将源代码编译为一组虚拟机指令，\n",
    "Python 的解释器就是该虚拟机的一个具体实现。这种跑在虚拟机内部的中间格式被称为“字\n",
    "节码”。因此，Python 在执行后留下的.pyc 文件不仅仅是源代码的一个“更快”或“优化”版本，\n",
    "实际上，它们是在程序运行时由 Python 的虚拟机来执行的字节码指令。所以为了保护用户\n",
    "的 Python 代码，可以直接使用编译过的 Python 代码，也就是直接使用 .pyc 文件来提供给\n",
    "框架，这和提供 py 文件是完全等价的，而且字节码比较难解读。不过，pyc 有一个局限性\n",
    "是依赖于 python 解析器的版本, 使用某一个版本的 python 解释器生成的 pyc 必须要在相同\n",
    "版本下的 python 解释器下才可以正常工作.\n",
    "但是这仍然也面临着反编译的手段，所以为了防止反编译后获得相对易懂的代码结构，\n",
    "同样需要一些混淆或者加密工具来进行保护。一般采用如下的两种方法：\n",
    "-  借助 cython。cython 可以将 python 文件转换成 c, 并编译成 pyd 文件。。Cython 是用\n",
    "来生成 C 扩展到而不是独立的程序的，但是要求 Python 模块的作者按照 Cython 的要\n",
    "求和规范进行编码，生成，编译，比较复杂，对加密单一的模块/特制算法很有效。\n",
    "-  采用专业的 Python 代码混淆工具，如 pyminifier。"
   ]
  },
  {
   "cell_type": "markdown",
   "id": "f4658487",
   "metadata": {},
   "source": [
    "# .npy文件"
   ]
  },
  {
   "cell_type": "markdown",
   "id": "1770ea87",
   "metadata": {},
   "source": [
    ".npy文件是numpy专用的二进制文件。在深度神经网络训练过程中通常需要读取预训练权重，预训练权重通常是 .npy文件。"
   ]
  },
  {
   "cell_type": "markdown",
   "id": "e676edf9",
   "metadata": {},
   "source": [
    "## 读取与保存"
   ]
  },
  {
   "cell_type": "code",
   "execution_count": 1,
   "id": "161176f3",
   "metadata": {
    "ExecuteTime": {
     "end_time": "2024-04-17T02:11:14.128075Z",
     "start_time": "2024-04-17T02:11:14.119622Z"
    }
   },
   "outputs": [
    {
     "name": "stdout",
     "output_type": "stream",
     "text": [
      "----type----\n",
      "<class 'numpy.ndarray'>\n",
      "----shape----\n",
      "(2, 3)\n",
      "----data----\n",
      "[[1 2 3]\n",
      " [4 5 6]]\n"
     ]
    }
   ],
   "source": [
    "import numpy as np\n",
    "\n",
    "arr = np.array([[1, 2, 3],\n",
    "               [4, 5, 6]])\n",
    "np.save('../data/weight.npy', arr)\n",
    "\n",
    "loadData = np.load('../data/weight.npy')\n",
    "\n",
    "print(\"----type----\")\n",
    "print(type(loadData))\n",
    "print(\"----shape----\")\n",
    "print(loadData.shape)\n",
    "print(\"----data----\")\n",
    "print(loadData)"
   ]
  },
  {
   "cell_type": "code",
   "execution_count": null,
   "id": "1efb781d",
   "metadata": {},
   "outputs": [],
   "source": []
  }
 ],
 "metadata": {
  "hide_input": false,
  "kernelspec": {
   "display_name": "Python 3 (ipykernel)",
   "language": "python",
   "name": "python3"
  },
  "language_info": {
   "codemirror_mode": {
    "name": "ipython",
    "version": 3
   },
   "file_extension": ".py",
   "mimetype": "text/x-python",
   "name": "python",
   "nbconvert_exporter": "python",
   "pygments_lexer": "ipython3",
   "version": "3.11.5"
  },
  "nbTranslate": {
   "displayLangs": [
    "*"
   ],
   "hotkey": "alt-t",
   "langInMainMenu": true,
   "sourceLang": "en",
   "targetLang": "fr",
   "useGoogleTranslate": true
  },
  "toc": {
   "base_numbering": 1,
   "nav_menu": {},
   "number_sections": true,
   "sideBar": true,
   "skip_h1_title": false,
   "title_cell": "Table of Contents",
   "title_sidebar": "Contents",
   "toc_cell": false,
   "toc_position": {
    "height": "calc(100% - 180px)",
    "left": "10px",
    "top": "150px",
    "width": "165px"
   },
   "toc_section_display": true,
   "toc_window_display": true
  },
  "varInspector": {
   "cols": {
    "lenName": 16,
    "lenType": 16,
    "lenVar": 40
   },
   "kernels_config": {
    "python": {
     "delete_cmd_postfix": "",
     "delete_cmd_prefix": "del ",
     "library": "var_list.py",
     "varRefreshCmd": "print(var_dic_list())"
    },
    "r": {
     "delete_cmd_postfix": ") ",
     "delete_cmd_prefix": "rm(",
     "library": "var_list.r",
     "varRefreshCmd": "cat(var_dic_list()) "
    }
   },
   "types_to_exclude": [
    "module",
    "function",
    "builtin_function_or_method",
    "instance",
    "_Feature"
   ],
   "window_display": false
  }
 },
 "nbformat": 4,
 "nbformat_minor": 5
}
