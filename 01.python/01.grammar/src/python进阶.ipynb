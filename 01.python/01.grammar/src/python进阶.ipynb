{
 "cells": [
  {
   "cell_type": "markdown",
   "id": "8221efd0",
   "metadata": {},
   "source": [
    "# 代码计时"
   ]
  },
  {
   "cell_type": "markdown",
   "id": "c70d16b8",
   "metadata": {},
   "source": [
    "## time.time()"
   ]
  },
  {
   "cell_type": "markdown",
   "id": "9b574f10",
   "metadata": {},
   "source": [
    "返回当前时间的时间戳 如 1524302633.980187  \n",
    "两次时间相减，代码运行所需的 挂钟时间，也就是命令开始执行到结束的时间。"
   ]
  },
  {
   "cell_type": "code",
   "execution_count": 2,
   "id": "e175c71a",
   "metadata": {
    "ExecuteTime": {
     "end_time": "2024-05-11T02:51:10.688675Z",
     "start_time": "2024-05-11T02:51:10.683749Z"
    }
   },
   "outputs": [
    {
     "name": "stdout",
     "output_type": "stream",
     "text": [
      "Hello World\n",
      "0.0\n"
     ]
    }
   ],
   "source": [
    "import time\n",
    "start = time.time()\n",
    "print(\"Hello World\")\n",
    "end = time.time()\n",
    "print(end - start)"
   ]
  },
  {
   "cell_type": "markdown",
   "id": "92e404fe",
   "metadata": {},
   "source": [
    "## timeit"
   ]
  },
  {
   "cell_type": "code",
   "execution_count": 4,
   "id": "3b45968b",
   "metadata": {
    "ExecuteTime": {
     "end_time": "2024-05-11T02:55:35.849083Z",
     "start_time": "2024-05-11T02:55:35.792724Z"
    }
   },
   "outputs": [
    {
     "data": {
      "text/plain": [
       "0.04830319999928179"
      ]
     },
     "execution_count": 4,
     "metadata": {},
     "output_type": "execute_result"
    }
   ],
   "source": [
    "from timeit import timeit\n",
    "timeit('[i for i in range(100) if i%2==0]', number=10000)"
   ]
  },
  {
   "cell_type": "code",
   "execution_count": 5,
   "id": "4708d8e7",
   "metadata": {
    "ExecuteTime": {
     "end_time": "2024-05-11T02:56:15.242622Z",
     "start_time": "2024-05-11T02:56:14.669955Z"
    }
   },
   "outputs": [
    {
     "data": {
      "text/plain": [
       "0.5664076999992176"
      ]
     },
     "execution_count": 5,
     "metadata": {},
     "output_type": "execute_result"
    }
   ],
   "source": [
    "def func(a):\n",
    "    sum = 0\n",
    "    for i in range(a):\n",
    "        sum += i\n",
    "    return sum\n",
    "\n",
    "timeit('func(10000000)', 'from __main__ import func', number=1)"
   ]
  },
  {
   "cell_type": "markdown",
   "id": "fe862895",
   "metadata": {},
   "source": [
    "# 类型提示"
   ]
  },
  {
   "cell_type": "markdown",
   "id": "b5c12698",
   "metadata": {},
   "source": [
    "众所周知，Python 是动态类型语言，运行时不需要指定变量类型。这一点是不会改变的，但是2015年9月创始人 Guido van Rossum 在 Python 3.5 引入了一个类型系统，允许开发者指定变量类型–类型提示（Type Hints）。它的主要作用是方便开发，供IDE 和各种开发工具使用，对代码运行不产生影响，运行时会过滤类型信息。"
   ]
  },
  {
   "cell_type": "markdown",
   "id": "bc7befde",
   "metadata": {},
   "source": [
    "## 优点"
   ]
  },
  {
   "cell_type": "markdown",
   "id": "8765b022",
   "metadata": {},
   "source": [
    "1、易于理解代码\n",
    "指定函数输入和输出，便于理解代码片段的过程。\n",
    "有了类型提示（Type Hints），在调用函数时就可以告诉你需要传递哪些参数类型；以及需要扩展/修改函数时，也会告诉你输入和输出所需要的数据类型。 \n",
    "\n",
    "2、 易于重构\n",
    "类型提示可以在重构时，更好得帮助我们定位类的位置。\n",
    "\n",
    "虽然许多IDE现在采用一些启发式方法提供了这项功能，但是类型提示可以使IDE具有100%的检测准确率，并定位到类的位置。这样可以更平滑，更准确地检测变量类型在代码中的运行方式。\n",
    "\n",
    "请记住，虽然动态类型意味着任何变量都可以成为任何类型，但是所有变量在所有时间中都应只有一种类型。类型系统仍然是编程的核心组件，想想那些使用isinstance判断变量类型、应用逻辑所浪费的时间吧。\n",
    "\n",
    "3、 易于使用库\n",
    "使用类型提示意味着IDE可以拥有更准确、更智能的建议引擎。当调用自动完成时，IDE会完全放心地知道对象上有哪些方法/属性可用。此外，如果用户尝试调用不存在的内容或传递不正确类型的参数，IDE可以立即警告它。\n",
    "\n",
    "4、验证运行数据\n",
    "类型标注（Type annotations）是一种直接的方式，并且是类型文档中最常见到的那种方式。\n",
    "\n",
    "使用：语句将信息附加到变量或函数参数中。\n",
    "->运算符用于将信息附加到函数/方法的返回值中。"
   ]
  },
  {
   "cell_type": "markdown",
   "id": "2add1ca3",
   "metadata": {},
   "source": [
    "## 类型标注"
   ]
  },
  {
   "cell_type": "markdown",
   "id": "d2e7d01c",
   "metadata": {},
   "source": [
    "类型标注（Type annotations）是一种直接的方式，并且是类型文档中最常见到的那种方式。\n",
    "声明一个函数参数的类型，只要在参数名称的后面加个\":“号，带上类型名称就行了。声明函数的返回值类型，只要在函数声明结束之前，也就是”:“号之前加入一个”->\"，带上类型名称。"
   ]
  },
  {
   "cell_type": "markdown",
   "id": "e86c9571",
   "metadata": {},
   "source": [
    "常见数据类型\n",
    "\n",
    "- int,long,float: 整型,长整形,浮点型\n",
    "- bool,str: 布尔型，字符串类型\n",
    "- List, Tuple, Dict, Set:列表，元组，字典, 集合\n",
    "- Iterable,Iterator:可迭代类型，迭代器类型\n",
    "- Generator：生成器类型"
   ]
  },
  {
   "cell_type": "markdown",
   "id": "ff4ee7dc",
   "metadata": {},
   "source": [
    "### 基本数据类型"
   ]
  },
  {
   "cell_type": "code",
   "execution_count": 2,
   "id": "adfb526a",
   "metadata": {
    "ExecuteTime": {
     "end_time": "2024-03-26T12:58:54.755825Z",
     "start_time": "2024-03-26T12:58:54.743824Z"
    }
   },
   "outputs": [
    {
     "name": "stdout",
     "output_type": "stream",
     "text": [
      "test abc\n"
     ]
    }
   ],
   "source": [
    "def test(a: int, b: str) -> str:\n",
    "    print(a, b)\n",
    "    return 1000\n",
    "\n",
    "\n",
    "if __name__ == '__main__':\n",
    "    test('test', 'abc')"
   ]
  },
  {
   "cell_type": "markdown",
   "id": "096b6cca",
   "metadata": {},
   "source": [
    "只是提出了警告，但实际上运行是不会报错，毕竟python的本质还是动态语言。"
   ]
  },
  {
   "cell_type": "markdown",
   "id": "a769161f",
   "metadata": {},
   "source": [
    "### 复杂的类型标注"
   ]
  },
  {
   "cell_type": "code",
   "execution_count": 3,
   "id": "1460fdcb",
   "metadata": {
    "ExecuteTime": {
     "end_time": "2024-03-26T13:01:49.158005Z",
     "start_time": "2024-03-26T13:01:49.143446Z"
    }
   },
   "outputs": [],
   "source": [
    "from typing import List\n",
    "Vector = List[float]\n",
    "\n",
    "def scale(scalar: float, vector: Vector) -> Vector:\n",
    "    return [scalar * num for num in vector]\n",
    "\n",
    "# typechecks; a list of floats qualifies as a Vector.\n",
    "new_vector = scale(2.0, [1.0, -4.2, 5.4])"
   ]
  },
  {
   "cell_type": "code",
   "execution_count": 6,
   "id": "0d9be5f6",
   "metadata": {
    "ExecuteTime": {
     "end_time": "2024-03-26T13:03:43.398805Z",
     "start_time": "2024-03-26T13:03:43.376893Z"
    }
   },
   "outputs": [],
   "source": [
    "from typing import Dict, Tuple, Sequence\n",
    "\n",
    "ConnectionOptions = Dict[str, str]\n",
    "Address = Tuple[str, int]\n",
    "Server = Tuple[Address, ConnectionOptions]\n",
    "\n",
    "def broadcast_message(message: str, servers: Sequence[Server]) -> None:\n",
    "    ...\n",
    "\n",
    "# The static type checker will treat the previous type signature as\n",
    "# being exactly equivalent to this one.\n",
    "def broadcast_message(\n",
    "    message: str,\n",
    "    servers: Sequence[Tuple[Tuple[str, int], Dict[str, str]]]) -> None:\n",
    "    pass"
   ]
  },
  {
   "cell_type": "markdown",
   "id": "d4e4487a",
   "metadata": {},
   "source": [
    "### 泛型指定"
   ]
  },
  {
   "cell_type": "code",
   "execution_count": 7,
   "id": "08772f9e",
   "metadata": {
    "ExecuteTime": {
     "end_time": "2024-03-26T13:04:42.238882Z",
     "start_time": "2024-03-26T13:04:42.228510Z"
    }
   },
   "outputs": [],
   "source": [
    "from typing import Sequence, TypeVar, Union\n",
    "\n",
    "T = TypeVar('T')      # Declare type variable\n",
    "\n",
    "def first(l: Sequence[T]) -> T:   # Generic function\n",
    "    return l[0]\n",
    "\n",
    "T = TypeVar('T')  # Can be anything\n",
    "A = TypeVar('A', str, bytes)  # Must be str or bytes\n",
    "A = Union[str, None] # Must be str or None"
   ]
  },
  {
   "cell_type": "code",
   "execution_count": 9,
   "id": "a142a771",
   "metadata": {
    "ExecuteTime": {
     "end_time": "2024-03-26T13:06:35.438150Z",
     "start_time": "2024-03-26T13:06:35.415936Z"
    }
   },
   "outputs": [],
   "source": [
    "# 创建变量时类型指定\n",
    "from typing import NamedTuple\n",
    "\n",
    "class Employee(NamedTuple):\n",
    "    name: str\n",
    "    id: int = 3\n",
    "\n",
    "employee = Employee('Guido')\n",
    "assert employee.id == 3"
   ]
  },
  {
   "cell_type": "markdown",
   "id": "f3f8085c",
   "metadata": {},
   "source": [
    "Optional，可选类型， Optional[X] 等价于 X | None （或 Union[X, None] ）。 意思是说这个参数可以为空或已经声明的类型。\n",
    "\n",
    "但值得注意的是，这个并不等价于可选参数，当它作为参数类型注解的时候，不代表这个参数可以不传递了，而是说这个参数可以传为 None。"
   ]
  },
  {
   "cell_type": "code",
   "execution_count": 1,
   "id": "67857eb1",
   "metadata": {
    "ExecuteTime": {
     "end_time": "2024-03-27T03:48:33.910851Z",
     "start_time": "2024-03-27T03:48:33.905448Z"
    }
   },
   "outputs": [
    {
     "name": "stdout",
     "output_type": "stream",
     "text": [
      "parameter b is a NoneType!\n"
     ]
    }
   ],
   "source": [
    "#Optional\n",
    "from typing import Optional\n",
    "\n",
    "def foo_v2(a: int, b: Optional[int] = None):\n",
    "    if b:\n",
    "        print(a + b)\n",
    "    else:\n",
    "        print(\"parameter b is a NoneType!\")\n",
    "\n",
    "#只传入a位置的实参\n",
    "foo_v2(2)"
   ]
  },
  {
   "cell_type": "markdown",
   "id": "4a3aa1f3",
   "metadata": {},
   "source": [
    "### 参数注释"
   ]
  },
  {
   "cell_type": "code",
   "execution_count": 11,
   "id": "a90b76ea",
   "metadata": {
    "ExecuteTime": {
     "end_time": "2024-03-26T13:10:18.169290Z",
     "start_time": "2024-03-26T13:10:18.151457Z"
    }
   },
   "outputs": [],
   "source": [
    "def send_mail(\n",
    "    sender: \"fish@example.com\", receiver: \"panda@example.com\",\n",
    "    subject: \"say hello to you.\", message: \"hello.\",\n",
    "    attachments: list(\"type<io.BytesIO>\")) -> bool:\n",
    "    return sender"
   ]
  },
  {
   "cell_type": "code",
   "execution_count": 14,
   "id": "8debe5b2",
   "metadata": {
    "ExecuteTime": {
     "end_time": "2024-03-26T13:11:21.456709Z",
     "start_time": "2024-03-26T13:11:21.432178Z"
    }
   },
   "outputs": [
    {
     "data": {
      "text/plain": [
       "'dog@example.com'"
      ]
     },
     "execution_count": 14,
     "metadata": {},
     "output_type": "execute_result"
    }
   ],
   "source": [
    "send_mail(\"dog@example.com\", \"panda@example.com\", \"panda@example.com\", \"panda@example.com\", \"panda@example.com\")"
   ]
  },
  {
   "cell_type": "markdown",
   "id": "71e8606b",
   "metadata": {},
   "source": [
    "写在\":“号后面的并一定是一个类型。Python把这种写法称为\"annotations”(标注)，在运行的时候完全不使用它。它是专门设计出来给程序员和自动处理程序看的。任何可被计算出来的东西都可以写在那里。\n",
    "\n",
    "很明显，与直接写类型相比，直接把参数是什么样子写出来更容易让调用者看清楚函数的使用方法。更激进的话，标注还可以是被计算出来的。"
   ]
  },
  {
   "cell_type": "code",
   "execution_count": 15,
   "id": "538272d4",
   "metadata": {
    "ExecuteTime": {
     "end_time": "2024-03-26T13:11:46.598281Z",
     "start_time": "2024-03-26T13:11:46.588621Z"
    }
   },
   "outputs": [],
   "source": [
    "def add_matrix3x3(\n",
    "    x: [(1, 1, 1), (1, 1, 1), (1, 1, 1)],\n",
    "    y: [(2, 2, 2), (2, 2, 2), (2, 2, 2)],\n",
    ") -> [(3, 3, 3), (3, 3, 3), (3, 3, 3)]:\n",
    "    pass"
   ]
  },
  {
   "cell_type": "markdown",
   "id": "f4ebf7ee",
   "metadata": {},
   "source": [
    "## 不足之处"
   ]
  },
  {
   "cell_type": "code",
   "execution_count": 16,
   "id": "37a6d14d",
   "metadata": {
    "ExecuteTime": {
     "end_time": "2024-03-26T13:13:17.317405Z",
     "start_time": "2024-03-26T13:13:17.303358Z"
    }
   },
   "outputs": [
    {
     "name": "stdout",
     "output_type": "stream",
     "text": [
      "[1, 'a']\n"
     ]
    }
   ],
   "source": [
    "from typing import List\n",
    "\n",
    "\n",
    "def test(b: List[int]) -> str:\n",
    "    print(b)\n",
    "    return 'test'\n",
    "\n",
    "\n",
    "if __name__ == '__main__':\n",
    "    test([1, 'a'])"
   ]
  },
  {
   "cell_type": "markdown",
   "id": "d9f17c9b",
   "metadata": {},
   "source": [
    "从这个例子可以看出来，虽然我们指定了List[int]即由int组成的列表，但是，实际中，只要这个列表中存在int（其他的可以为任何类型），就不会出现警告。"
   ]
  },
  {
   "cell_type": "markdown",
   "id": "73922f22",
   "metadata": {},
   "source": [
    "# 类型推断"
   ]
  },
  {
   "cell_type": "markdown",
   "id": "f1e02bf7",
   "metadata": {},
   "source": [
    "isinstance() 函数来判断一个对象是否是一个已知的类型，类似 type()。"
   ]
  },
  {
   "cell_type": "markdown",
   "id": "8934277c",
   "metadata": {},
   "source": [
    "isinstance() 与 type() 区别：\n",
    "\n",
    "- type() 不会认为子类是一种父类类型，不考虑继承关系。\n",
    "\n",
    "- isinstance() 会认为子类是一种父类类型，考虑继承关系。\n",
    "\n",
    "如果要判断两个类型是否相同推荐使用 isinstance()。"
   ]
  },
  {
   "cell_type": "markdown",
   "id": "b6955284",
   "metadata": {},
   "source": [
    "以下是 isinstance() 方法的语法:\n",
    "\n",
    "isinstance(object, classinfo)\n",
    "\n",
    "参数\n",
    "- object -- 实例对象。\n",
    "- classinfo -- 可以是直接或间接类名、基本类型或者由它们组成的元组。\n",
    "\n",
    "如果对象的类型与参数二的类型（classinfo）相同则返回 True，否则返回 False。"
   ]
  },
  {
   "cell_type": "markdown",
   "id": "29eedd7e",
   "metadata": {},
   "source": [
    "## 单类型"
   ]
  },
  {
   "cell_type": "code",
   "execution_count": 17,
   "id": "5db97708",
   "metadata": {
    "ExecuteTime": {
     "end_time": "2024-03-26T13:21:47.212380Z",
     "start_time": "2024-03-26T13:21:47.196415Z"
    }
   },
   "outputs": [
    {
     "data": {
      "text/plain": [
       "True"
      ]
     },
     "execution_count": 17,
     "metadata": {},
     "output_type": "execute_result"
    }
   ],
   "source": [
    "a = 2\n",
    "isinstance (a,int)"
   ]
  },
  {
   "cell_type": "code",
   "execution_count": 18,
   "id": "140ce885",
   "metadata": {
    "ExecuteTime": {
     "end_time": "2024-03-26T13:22:09.885986Z",
     "start_time": "2024-03-26T13:22:09.867010Z"
    }
   },
   "outputs": [
    {
     "data": {
      "text/plain": [
       "False"
      ]
     },
     "execution_count": 18,
     "metadata": {},
     "output_type": "execute_result"
    }
   ],
   "source": [
    "isinstance (a,str)"
   ]
  },
  {
   "cell_type": "markdown",
   "id": "f8ee7796",
   "metadata": {},
   "source": [
    "## 多类型"
   ]
  },
  {
   "cell_type": "code",
   "execution_count": 19,
   "id": "e9818e21",
   "metadata": {
    "ExecuteTime": {
     "end_time": "2024-03-26T13:22:15.210818Z",
     "start_time": "2024-03-26T13:22:15.188142Z"
    }
   },
   "outputs": [
    {
     "data": {
      "text/plain": [
       "True"
      ]
     },
     "execution_count": 19,
     "metadata": {},
     "output_type": "execute_result"
    }
   ],
   "source": [
    "isinstance (a,(str,int,list))    # 是元组中的一个返回 True"
   ]
  },
  {
   "cell_type": "markdown",
   "id": "fc380099",
   "metadata": {},
   "source": [
    "对于基本类型来说 classinfo 可以是：\n",
    "\n",
    "int，float，bool，complex，str(字符串)，list，dict(字典)，set，tuple\n",
    "\n",
    "要注意的是，classinfo 的字符串是 str 而不是 string，字典也是简写 dict。"
   ]
  },
  {
   "cell_type": "markdown",
   "id": "01128b16",
   "metadata": {},
   "source": [
    "## None"
   ]
  },
  {
   "cell_type": "code",
   "execution_count": 27,
   "id": "36e6b66c",
   "metadata": {
    "ExecuteTime": {
     "end_time": "2024-03-26T13:43:00.791142Z",
     "start_time": "2024-03-26T13:43:00.780033Z"
    }
   },
   "outputs": [
    {
     "data": {
      "text/plain": [
       "True"
      ]
     },
     "execution_count": 27,
     "metadata": {},
     "output_type": "execute_result"
    }
   ],
   "source": [
    "isinstance(None, type(None))"
   ]
  },
  {
   "cell_type": "code",
   "execution_count": 28,
   "id": "178c640a",
   "metadata": {
    "ExecuteTime": {
     "end_time": "2024-03-26T13:43:01.390502Z",
     "start_time": "2024-03-26T13:43:01.371448Z"
    }
   },
   "outputs": [
    {
     "data": {
      "text/plain": [
       "True"
      ]
     },
     "execution_count": 28,
     "metadata": {},
     "output_type": "execute_result"
    }
   ],
   "source": [
    "isinstance(None, (type(None), list, str))"
   ]
  },
  {
   "cell_type": "markdown",
   "id": "0a76084f",
   "metadata": {},
   "source": [
    "# python脚本"
   ]
  },
  {
   "cell_type": "markdown",
   "id": "5d415cce",
   "metadata": {},
   "source": [
    "## `__init__.py`"
   ]
  },
  {
   "cell_type": "markdown",
   "id": "14c9702b",
   "metadata": {},
   "source": [
    "在Python工程里，当python检测到一个目录下存在__init__.py文件时，python就会把它当成一个模块(module)。Module跟C＋＋的命名空间和Java的Package的概念很像，都是为了科学地组织化工程，管理命名空间。\n",
    "\n",
    "__init__.py可以是一个空文件，也可以有非常丰富的内容。本文将举一个非常简单的例子，来介绍__init__.py的用法.\n",
    "\n",
    "__init__.py 会在 import 的时候被执行，而空的 __init__.py 在Python新版本中已经不需要你额外去定义了，因为就算你不定义 init， Python 也知道你导入的包路径，但是如果你想要做一些初始化操作，或者像我们刚刚说的预先导入相关的模块，那么定义 __init__.py 还是很有必要的\n",
    "\n",
    "[https://zhuanlan.zhihu.com/p/115350758](相关网址)"
   ]
  },
  {
   "cell_type": "markdown",
   "id": "337c6b4c",
   "metadata": {},
   "source": [
    "## python文件中执行另一个python文件"
   ]
  },
  {
   "cell_type": "markdown",
   "id": "441cd78a",
   "metadata": {},
   "source": [
    "在python文件中直接执行另一个python文件，和引用（import）其他python文件的方法函数有所不同，相当于直接Run python文件"
   ]
  },
  {
   "cell_type": "markdown",
   "id": "ac56999d",
   "metadata": {},
   "source": [
    "使用 os.system()"
   ]
  },
  {
   "cell_type": "raw",
   "id": "3a3bd2a5",
   "metadata": {},
   "source": [
    "os.system('python print.py')"
   ]
  },
  {
   "cell_type": "markdown",
   "id": "0651a706",
   "metadata": {},
   "source": [
    "print.py为另一个python文件"
   ]
  },
  {
   "cell_type": "markdown",
   "id": "f4658487",
   "metadata": {},
   "source": [
    "# .npy文件"
   ]
  },
  {
   "cell_type": "markdown",
   "id": "1770ea87",
   "metadata": {},
   "source": [
    ".npy文件是numpy专用的二进制文件。在深度神经网络训练过程中通常需要读取预训练权重，预训练权重通常是 .npy文件。"
   ]
  },
  {
   "cell_type": "markdown",
   "id": "e676edf9",
   "metadata": {},
   "source": [
    "## 读取与保存"
   ]
  },
  {
   "cell_type": "code",
   "execution_count": 1,
   "id": "161176f3",
   "metadata": {
    "ExecuteTime": {
     "end_time": "2024-04-17T02:11:14.128075Z",
     "start_time": "2024-04-17T02:11:14.119622Z"
    }
   },
   "outputs": [
    {
     "name": "stdout",
     "output_type": "stream",
     "text": [
      "----type----\n",
      "<class 'numpy.ndarray'>\n",
      "----shape----\n",
      "(2, 3)\n",
      "----data----\n",
      "[[1 2 3]\n",
      " [4 5 6]]\n"
     ]
    }
   ],
   "source": [
    "import numpy as np\n",
    "\n",
    "arr = np.array([[1, 2, 3],\n",
    "               [4, 5, 6]])\n",
    "np.save('../data/weight.npy', arr)\n",
    "\n",
    "loadData = np.load('../data/weight.npy')\n",
    "\n",
    "print(\"----type----\")\n",
    "print(type(loadData))\n",
    "print(\"----shape----\")\n",
    "print(loadData.shape)\n",
    "print(\"----data----\")\n",
    "print(loadData)"
   ]
  },
  {
   "cell_type": "markdown",
   "id": "06df501c",
   "metadata": {},
   "source": [
    "# jupyter运行命令行命令"
   ]
  },
  {
   "cell_type": "markdown",
   "id": "45c192d6",
   "metadata": {},
   "source": [
    "根据操作系统的不同可分linux命令和cmd命令，语法和对应命令完全相同，只是**每句前面都要加一个英文感叹号**。linux命令在colab，kaggle等云端环境非常常见，因为云端只能操作notebook，但很多人不知道cmd命令也是可以的。另外，conda命令也是可以执行的，因此一份notebook可以包含从建立虚拟环境，到编辑代码，到创建py脚本，最后用命令行执行脚本的全过程。"
   ]
  },
  {
   "cell_type": "code",
   "execution_count": 1,
   "id": "376979fa",
   "metadata": {
    "ExecuteTime": {
     "end_time": "2024-04-17T10:16:17.305231Z",
     "start_time": "2024-04-17T10:16:12.347649Z"
    }
   },
   "outputs": [
    {
     "name": "stdout",
     "output_type": "stream",
     "text": [
      "# conda environments:\n",
      "#\n",
      "base                  *  D:\\Anaconda\n",
      "\n"
     ]
    }
   ],
   "source": [
    "!conda env list"
   ]
  },
  {
   "cell_type": "code",
   "execution_count": 5,
   "id": "65a64c8e",
   "metadata": {
    "ExecuteTime": {
     "end_time": "2024-04-17T10:19:05.758334Z",
     "start_time": "2024-04-17T10:19:05.753133Z"
    }
   },
   "outputs": [
    {
     "name": "stdout",
     "output_type": "stream",
     "text": [
      "Overwriting ../data/main.py\n"
     ]
    }
   ],
   "source": [
    "%%writefile ../data/main.py\n",
    "# 本地创建一个main.py文件，并填入代码\n",
    "import numpy as np\n",
    "a=np.array([1,2,3])\n",
    "print(a)"
   ]
  },
  {
   "cell_type": "code",
   "execution_count": 6,
   "id": "d4d38c44",
   "metadata": {
    "ExecuteTime": {
     "end_time": "2024-04-17T10:21:31.457105Z",
     "start_time": "2024-04-17T10:21:30.946679Z"
    }
   },
   "outputs": [
    {
     "name": "stdout",
     "output_type": "stream",
     "text": [
      "[1 2 3]\n"
     ]
    }
   ],
   "source": [
    "!python ../data/main.py"
   ]
  },
  {
   "cell_type": "markdown",
   "id": "12c3246b",
   "metadata": {},
   "source": [
    "# argsparse"
   ]
  },
  {
   "cell_type": "markdown",
   "id": "0f490e8a",
   "metadata": {},
   "source": [
    "argsparse是python的命令行解析的标准模块，内置于python，不需要安装。这个库可以让我们直接在命令行中就可以向程序中传入参数并让程序运行。"
   ]
  },
  {
   "cell_type": "markdown",
   "id": "2c42bc62",
   "metadata": {},
   "source": [
    "## 传入一个参数"
   ]
  },
  {
   "cell_type": "markdown",
   "id": "2e015cdd",
   "metadata": {},
   "source": [
    "先在本地文件夹中新建demo.py文件"
   ]
  },
  {
   "cell_type": "code",
   "execution_count": 7,
   "id": "dd9d4f41",
   "metadata": {
    "ExecuteTime": {
     "end_time": "2024-04-17T11:10:54.207099Z",
     "start_time": "2024-04-17T11:10:54.198446Z"
    }
   },
   "outputs": [
    {
     "name": "stdout",
     "output_type": "stream",
     "text": [
      "Writing ../data/demo.py\n"
     ]
    }
   ],
   "source": [
    "%%writefile ../data/demo.py\n",
    "import argparse\n",
    "\n",
    "parser = argparse.ArgumentParser(description='命令行中传入一个数字')\n",
    "#type是要传入的参数的数据类型  help是该参数的提示信息\n",
    "parser.add_argument('integers', type=str, help='传入的数字')\n",
    "\n",
    "args = parser.parse_args()\n",
    "\n",
    "#获得传入的参数\n",
    "print(args)"
   ]
  },
  {
   "cell_type": "markdown",
   "id": "8d7961e0",
   "metadata": {},
   "source": [
    "然后在命令行中输入python demo.py -h或者python demo.py --help"
   ]
  },
  {
   "cell_type": "code",
   "execution_count": 9,
   "id": "e79cb37c",
   "metadata": {
    "ExecuteTime": {
     "end_time": "2024-04-17T11:12:04.897361Z",
     "start_time": "2024-04-17T11:12:04.609033Z"
    }
   },
   "outputs": [
    {
     "name": "stdout",
     "output_type": "stream",
     "text": [
      "usage: demo.py [-h] integers\n",
      "\n",
      "命令行中传入一个数字\n",
      "\n",
      "positional arguments:\n",
      "  integers    传入的数字\n",
      "\n",
      "options:\n",
      "  -h, --help  show this help message and exit\n"
     ]
    }
   ],
   "source": [
    "!python ../data/demo.py -h"
   ]
  },
  {
   "cell_type": "markdown",
   "id": "f1c2a5f2",
   "metadata": {},
   "source": [
    "在命令行中看到demo.py的运行结果如下"
   ]
  },
  {
   "cell_type": "markdown",
   "id": "38cb0554",
   "metadata": {},
   "source": [
    "现在我们在命令行中给demo.py 传入一个参数5，"
   ]
  },
  {
   "cell_type": "code",
   "execution_count": 10,
   "id": "4e01e6f3",
   "metadata": {
    "ExecuteTime": {
     "end_time": "2024-04-17T11:12:53.143287Z",
     "start_time": "2024-04-17T11:12:52.837367Z"
    }
   },
   "outputs": [
    {
     "name": "stdout",
     "output_type": "stream",
     "text": [
      "Namespace(integers='5')\n"
     ]
    }
   ],
   "source": [
    "!python ../data/demo.py 5"
   ]
  },
  {
   "cell_type": "markdown",
   "id": "1c68f3be",
   "metadata": {},
   "source": [
    "## 操作args字典"
   ]
  },
  {
   "cell_type": "markdown",
   "id": "fbcd5c2e",
   "metadata": {},
   "source": [
    "其实得到的这个结果Namespace(integers='5')是一种类似于python字典的数据类型。\n",
    "\n",
    "我们可以使用 arg.参数名来提取这个参数"
   ]
  },
  {
   "cell_type": "code",
   "execution_count": 11,
   "id": "6824425d",
   "metadata": {
    "ExecuteTime": {
     "end_time": "2024-04-17T11:17:15.710011Z",
     "start_time": "2024-04-17T11:17:15.703003Z"
    }
   },
   "outputs": [
    {
     "name": "stdout",
     "output_type": "stream",
     "text": [
      "Writing ../data/demo1.py\n"
     ]
    }
   ],
   "source": [
    "%%writefile ../data/demo1.py\n",
    "import argparse\n",
    "\n",
    "parser = argparse.ArgumentParser(description='命令行中传入一个数字')\n",
    "#type是要传入的参数的数据类型  help是该参数的提示信息\n",
    "parser.add_argument('integers', type=str, help='传入的数字')\n",
    "\n",
    "args = parser.parse_args()\n",
    "\n",
    "#获得传入的参数\n",
    "print(args.integers)"
   ]
  },
  {
   "cell_type": "code",
   "execution_count": 12,
   "id": "540c178f",
   "metadata": {
    "ExecuteTime": {
     "end_time": "2024-04-17T11:17:29.425610Z",
     "start_time": "2024-04-17T11:17:29.122340Z"
    }
   },
   "outputs": [
    {
     "name": "stdout",
     "output_type": "stream",
     "text": [
      "5\n"
     ]
    }
   ],
   "source": [
    "!python ../data/demo1.py 5"
   ]
  },
  {
   "cell_type": "markdown",
   "id": "539ff6c0",
   "metadata": {},
   "source": [
    "## 传入多个参数"
   ]
  },
  {
   "cell_type": "code",
   "execution_count": 13,
   "id": "f96095bc",
   "metadata": {
    "ExecuteTime": {
     "end_time": "2024-04-17T11:20:14.651959Z",
     "start_time": "2024-04-17T11:20:14.645907Z"
    }
   },
   "outputs": [
    {
     "name": "stdout",
     "output_type": "stream",
     "text": [
      "Writing ../data/demo2.py\n"
     ]
    }
   ],
   "source": [
    "%%writefile ../data/demo2.py\n",
    "import argparse\n",
    "\n",
    "parser = argparse.ArgumentParser(description='命令行中传入一个数字')\n",
    "parser.add_argument('integers', type=str, nargs='+',help='传入的数字')\n",
    "args = parser.parse_args()\n",
    "\n",
    "print(args.integers)"
   ]
  },
  {
   "cell_type": "markdown",
   "id": "89420682",
   "metadata": {},
   "source": [
    "nargs是用来说明传入的参数个数，'+' 表示传入至少一个参数。"
   ]
  },
  {
   "cell_type": "code",
   "execution_count": 16,
   "id": "08bd62a9",
   "metadata": {
    "ExecuteTime": {
     "end_time": "2024-04-17T11:20:59.799345Z",
     "start_time": "2024-04-17T11:20:59.516056Z"
    }
   },
   "outputs": [
    {
     "name": "stdout",
     "output_type": "stream",
     "text": [
      "['5', '4', '3']\n"
     ]
    }
   ],
   "source": [
    "!python ../data/demo2.py 5 4 3"
   ]
  },
  {
   "cell_type": "markdown",
   "id": "e593e8a3",
   "metadata": {},
   "source": [
    "## 改变数据类型"
   ]
  },
  {
   "cell_type": "markdown",
   "id": "f926b5f6",
   "metadata": {},
   "source": [
    "type这个关键词可以传入list, str, tuple, set, dict等。"
   ]
  },
  {
   "cell_type": "markdown",
   "id": "ce82ec12",
   "metadata": {},
   "source": [
    "## 位置参数"
   ]
  },
  {
   "cell_type": "markdown",
   "id": "f0a6f1e7",
   "metadata": {},
   "source": [
    "在命令行中传入参数时候，传入的参数的先后顺序不同，运行结果往往会不同，这是因为采用了位置参数,例如"
   ]
  },
  {
   "cell_type": "code",
   "execution_count": 17,
   "id": "a5ac3511",
   "metadata": {
    "ExecuteTime": {
     "end_time": "2024-04-17T11:22:49.433281Z",
     "start_time": "2024-04-17T11:22:49.426331Z"
    }
   },
   "outputs": [
    {
     "name": "stdout",
     "output_type": "stream",
     "text": [
      "Writing ../data/demo3.py\n"
     ]
    }
   ],
   "source": [
    "%%writefile ../data/demo3.py\n",
    "import argparse\n",
    "\n",
    "parser = argparse.ArgumentParser(description='姓名')\n",
    "parser.add_argument('param1', type=str,help='姓')\n",
    "parser.add_argument('param2', type=str,help='名')\n",
    "args = parser.parse_args()\n",
    "\n",
    "#打印姓名\n",
    "print(args.param1+args.param2)"
   ]
  },
  {
   "cell_type": "code",
   "execution_count": 18,
   "id": "13610f67",
   "metadata": {
    "ExecuteTime": {
     "end_time": "2024-04-17T11:23:22.518987Z",
     "start_time": "2024-04-17T11:23:22.234371Z"
    }
   },
   "outputs": [
    {
     "name": "stdout",
     "output_type": "stream",
     "text": [
      "张三\n"
     ]
    }
   ],
   "source": [
    "!python ../data/demo3.py 张 三"
   ]
  },
  {
   "cell_type": "markdown",
   "id": "71009eac",
   "metadata": {},
   "source": [
    "## 可选参数"
   ]
  },
  {
   "cell_type": "markdown",
   "id": "94972134",
   "metadata": {},
   "source": [
    "为了在命令行中避免上述位置参数的bug（容易忘了顺序），可以使用可选参数，这个有点像关键词传参，但是需要在关键词前面加--，例如"
   ]
  },
  {
   "cell_type": "code",
   "execution_count": 19,
   "id": "23928ac0",
   "metadata": {
    "ExecuteTime": {
     "end_time": "2024-04-17T11:24:21.965524Z",
     "start_time": "2024-04-17T11:24:21.954720Z"
    }
   },
   "outputs": [
    {
     "name": "stdout",
     "output_type": "stream",
     "text": [
      "Writing ../data/demo4.py\n"
     ]
    }
   ],
   "source": [
    "%%writefile ../data/demo4.py\n",
    "import argparse\n",
    "\n",
    "parser = argparse.ArgumentParser(description='姓名')\n",
    "parser.add_argument('--family', type=str,help='姓')\n",
    "parser.add_argument('--name', type=str,help='名')\n",
    "args = parser.parse_args()\n",
    "\n",
    "#打印姓名\n",
    "print(args.family+args.name)"
   ]
  },
  {
   "cell_type": "code",
   "execution_count": 20,
   "id": "7d9d39ab",
   "metadata": {
    "ExecuteTime": {
     "end_time": "2024-04-17T11:24:40.720329Z",
     "start_time": "2024-04-17T11:24:40.427794Z"
    }
   },
   "outputs": [
    {
     "name": "stdout",
     "output_type": "stream",
     "text": [
      "张三\n"
     ]
    }
   ],
   "source": [
    "!python ../data/demo4.py --family=张 --name=三"
   ]
  },
  {
   "cell_type": "markdown",
   "id": "615d3177",
   "metadata": {},
   "source": [
    "## 默认值"
   ]
  },
  {
   "cell_type": "markdown",
   "id": "cd33e7ec",
   "metadata": {},
   "source": [
    "add_argument中有一个default参数。有的时候需要对某个参数设置默认值，即如果命令行中没有传入该参数的值，程序使用默认值。如果命令行传入该参数，则程序使用传入的值。具体请看下面的例子"
   ]
  },
  {
   "cell_type": "code",
   "execution_count": 21,
   "id": "fb589282",
   "metadata": {
    "ExecuteTime": {
     "end_time": "2024-04-17T11:25:25.405542Z",
     "start_time": "2024-04-17T11:25:25.398866Z"
    }
   },
   "outputs": [
    {
     "name": "stdout",
     "output_type": "stream",
     "text": [
      "Writing ../data/demo5.py\n"
     ]
    }
   ],
   "source": [
    "%%writefile ../data/demo5.py\n",
    "import argparse\n",
    "\n",
    "parser = argparse.ArgumentParser(description='姓名')\n",
    "parser.add_argument('--family', type=str, default='张',help='姓')\n",
    "parser.add_argument('--name', type=str, default='三', help='名')\n",
    "args = parser.parse_args()\n",
    "\n",
    "#打印姓名\n",
    "print(args.family+args.name)"
   ]
  },
  {
   "cell_type": "code",
   "execution_count": 22,
   "id": "897a1bf2",
   "metadata": {
    "ExecuteTime": {
     "end_time": "2024-04-17T11:25:37.617521Z",
     "start_time": "2024-04-17T11:25:37.327848Z"
    }
   },
   "outputs": [
    {
     "name": "stdout",
     "output_type": "stream",
     "text": [
      "张三\n"
     ]
    }
   ],
   "source": [
    "!python ../data/demo5.py"
   ]
  },
  {
   "cell_type": "code",
   "execution_count": 24,
   "id": "ac0f14c7",
   "metadata": {
    "ExecuteTime": {
     "end_time": "2024-04-17T11:26:02.006938Z",
     "start_time": "2024-04-17T11:26:01.731113Z"
    }
   },
   "outputs": [
    {
     "name": "stdout",
     "output_type": "stream",
     "text": [
      "李三\n"
     ]
    }
   ],
   "source": [
    "!python ../data/demo5.py --family=李"
   ]
  },
  {
   "cell_type": "markdown",
   "id": "b67253c2",
   "metadata": {},
   "source": [
    "## 必须参数"
   ]
  },
  {
   "cell_type": "markdown",
   "id": "bf526108",
   "metadata": {},
   "source": [
    "add_argument有一个required参数可以设置该参数是否必需。"
   ]
  },
  {
   "cell_type": "code",
   "execution_count": 29,
   "id": "816c970e",
   "metadata": {
    "ExecuteTime": {
     "end_time": "2024-04-17T11:28:26.252285Z",
     "start_time": "2024-04-17T11:28:26.246480Z"
    }
   },
   "outputs": [
    {
     "name": "stdout",
     "output_type": "stream",
     "text": [
      "Overwriting ../data/demo6.py\n"
     ]
    }
   ],
   "source": [
    "%%writefile ../data/demo6.py\n",
    "import argparse\n",
    "\n",
    "parser = argparse.ArgumentParser(description='姓名')\n",
    "parser.add_argument('--family', type=str, default='张', help='姓')\n",
    "parser.add_argument('--name', type=str, required=True, default='', help='名')\n",
    "args = parser.parse_args()\n",
    "\n",
    "#打印姓名\n",
    "print(args.family+args.name)"
   ]
  },
  {
   "cell_type": "code",
   "execution_count": 30,
   "id": "4fc511a1",
   "metadata": {
    "ExecuteTime": {
     "end_time": "2024-04-17T11:28:27.671934Z",
     "start_time": "2024-04-17T11:28:27.402561Z"
    }
   },
   "outputs": [
    {
     "name": "stderr",
     "output_type": "stream",
     "text": [
      "usage: demo6.py [-h] [--family FAMILY] --name NAME\n",
      "demo6.py: error: the following arguments are required: --name\n"
     ]
    }
   ],
   "source": [
    "!python ../data/demo6.py --family=李"
   ]
  },
  {
   "cell_type": "code",
   "execution_count": 31,
   "id": "c4d00db4",
   "metadata": {
    "ExecuteTime": {
     "end_time": "2024-04-17T11:28:29.827511Z",
     "start_time": "2024-04-17T11:28:29.582396Z"
    }
   },
   "outputs": [
    {
     "name": "stdout",
     "output_type": "stream",
     "text": [
      "张四\n"
     ]
    }
   ],
   "source": [
    "!python ../data/demo6.py --name=四"
   ]
  },
  {
   "cell_type": "code",
   "execution_count": null,
   "id": "51576ef8",
   "metadata": {},
   "outputs": [],
   "source": []
  }
 ],
 "metadata": {
  "hide_input": false,
  "kernelspec": {
   "display_name": "Python 3 (ipykernel)",
   "language": "python",
   "name": "python3"
  },
  "language_info": {
   "codemirror_mode": {
    "name": "ipython",
    "version": 3
   },
   "file_extension": ".py",
   "mimetype": "text/x-python",
   "name": "python",
   "nbconvert_exporter": "python",
   "pygments_lexer": "ipython3",
   "version": "3.11.5"
  },
  "nbTranslate": {
   "displayLangs": [
    "*"
   ],
   "hotkey": "alt-t",
   "langInMainMenu": true,
   "sourceLang": "en",
   "targetLang": "fr",
   "useGoogleTranslate": true
  },
  "toc": {
   "base_numbering": 1,
   "nav_menu": {},
   "number_sections": true,
   "sideBar": true,
   "skip_h1_title": false,
   "title_cell": "Table of Contents",
   "title_sidebar": "Contents",
   "toc_cell": false,
   "toc_position": {
    "height": "calc(100% - 180px)",
    "left": "10px",
    "top": "150px",
    "width": "165px"
   },
   "toc_section_display": true,
   "toc_window_display": true
  },
  "varInspector": {
   "cols": {
    "lenName": 16,
    "lenType": 16,
    "lenVar": 40
   },
   "kernels_config": {
    "python": {
     "delete_cmd_postfix": "",
     "delete_cmd_prefix": "del ",
     "library": "var_list.py",
     "varRefreshCmd": "print(var_dic_list())"
    },
    "r": {
     "delete_cmd_postfix": ") ",
     "delete_cmd_prefix": "rm(",
     "library": "var_list.r",
     "varRefreshCmd": "cat(var_dic_list()) "
    }
   },
   "types_to_exclude": [
    "module",
    "function",
    "builtin_function_or_method",
    "instance",
    "_Feature"
   ],
   "window_display": false
  }
 },
 "nbformat": 4,
 "nbformat_minor": 5
}
