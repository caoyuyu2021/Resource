{
 "cells": [
  {
   "cell_type": "markdown",
   "id": "a919c923-dacf-4a73-827d-f19196a81869",
   "metadata": {},
   "source": [
    "## 基本函数定义"
   ]
  },
  {
   "cell_type": "code",
   "execution_count": 46,
   "id": "420aab13-7ceb-44af-b6e3-4a84d9760679",
   "metadata": {
    "execution": {
     "iopub.execute_input": "2024-11-03T11:34:26.045423Z",
     "iopub.status.busy": "2024-11-03T11:34:26.043425Z",
     "iopub.status.idle": "2024-11-03T11:34:26.069780Z",
     "shell.execute_reply": "2024-11-03T11:34:26.067819Z",
     "shell.execute_reply.started": "2024-11-03T11:34:26.045423Z"
    }
   },
   "outputs": [],
   "source": [
    "import pandas as pd\n",
    "import numpy as np\n",
    "from pandas import DataFrame\n",
    "from datetime import timedelta\n",
    "from numpy import ndarray\n",
    "from typing import Union, List, Dict\n",
    "from sklearn.preprocessing import MinMaxScaler\n",
    "from torch.nn.utils import weight_norm\n",
    "import os\n",
    "import re\n",
    "import torch\n",
    "import torch.nn as nn\n",
    "import torch.optim as optim\n",
    "from torch.utils.data import TensorDataset, DataLoader\n",
    "import torch.nn.functional as F\n",
    "from tqdm import tqdm  # 打印进度条\n",
    "import math\n",
    "import matplotlib.pyplot as plt\n",
    "from typing import List\n",
    "from pandas.tseries import offsets\n",
    "from pandas.tseries.frequencies import to_offset\n",
    "from sklearn.metrics import r2_score, mean_squared_error\n",
    "import joblib\n",
    "import plotly.graph_objects as go\n",
    "import warnings\n",
    "\n",
    "warnings.filterwarnings(\"ignore\")\n",
    "plt.rcParams['font.sans-serif'] = ['SimHei']  # 显示中文标签\n",
    "plt.rcParams['axes.unicode_minus'] = False"
   ]
  },
  {
   "cell_type": "markdown",
   "id": "e7657bf6-b75e-4788-9775-3f08cc82ea56",
   "metadata": {},
   "source": [
    "### 数据准备"
   ]
  },
  {
   "cell_type": "code",
   "execution_count": 93,
   "id": "a4ded8dc-5907-429d-b91b-97f35c7e2820",
   "metadata": {
    "execution": {
     "iopub.execute_input": "2024-11-03T12:09:54.669866Z",
     "iopub.status.busy": "2024-11-03T12:09:54.668866Z",
     "iopub.status.idle": "2024-11-03T12:09:54.690732Z",
     "shell.execute_reply": "2024-11-03T12:09:54.689418Z",
     "shell.execute_reply.started": "2024-11-03T12:09:54.669866Z"
    }
   },
   "outputs": [],
   "source": [
    "# 读取数据\n",
    "def loader(data_path=None, data=None, time_col=None, datetime=None, freq=None):\n",
    "    \"\"\"\n",
    "    读取数据，并对输入数据时间列进行处理\n",
    "\n",
    "    参数说明\n",
    "    ----------\n",
    "    data_path : {str}\n",
    "        输入数据地址，如果为空，读取已有数据\n",
    "    data : {DataFrame} of shape (n_samples, n_features)\n",
    "        输入数据，如果需读取本地数据，将该值置空，否则传入已有数据\n",
    "    time_col : {str}\n",
    "        输入数据的时间列，如果没有时间列，生成时间戳范围，或者生成固定频率的时间戳数据\n",
    "    datetime : {str} \n",
    "        时间列开始时间，如果time_col为空，需填入此项，格式为%Y-%m-%d %H:%M:%S\n",
    "    freq : {int}\n",
    "        时间序列频率，单位为秒\n",
    "\n",
    "    返回值\n",
    "    -------\n",
    "    data : {DataFrame} of shape (n_samples, n_features)\n",
    "        经过时间序列处理后的数据\n",
    "    \"\"\"\n",
    "    # 读取原始数据\n",
    "    if data_path == None:\n",
    "        if data.empty is True:\n",
    "            raise ValueError(\"data is not exist!\")\n",
    "        else:\n",
    "            data = data\n",
    "    else:\n",
    "        data = pd.read_csv(data_path)\n",
    "\n",
    "    # 时间列处理\n",
    "    if time_col == None:\n",
    "        # 筛选输入频率\n",
    "        re_1 = re.findall('[0-9]', freq)\n",
    "        re_2 = re.findall('[a-z]', freq)\n",
    "        # 识别数字频率\n",
    "        if len(re_1) == 0:\n",
    "            nums = 1\n",
    "        else:\n",
    "            nums = int(''.join(re_1))\n",
    "        # 识别频率\n",
    "        fr = re_2[0]\n",
    "        # 生成时间间隔\n",
    "        if fr == 's':\n",
    "            time_index = pd.date_range(start=pd.to_datetime(datetime),\n",
    "                                       end=pd.to_datetime(datetime) +\n",
    "                                       timedelta(\n",
    "                                           seconds=(data.shape[0] - 1)*nums),\n",
    "                                       freq=freq)\n",
    "        elif fr == 't':\n",
    "            time_index = pd.date_range(start=pd.to_datetime(datetime),\n",
    "                                       end=pd.to_datetime(datetime) +\n",
    "                                       timedelta(\n",
    "                                           minutes=(data.shape[0] - 1)*nums),\n",
    "                                       freq=freq)\n",
    "        elif fr == 'h':\n",
    "            time_index = pd.date_range(start=pd.to_datetime(datetime),\n",
    "                                       end=pd.to_datetime(datetime) +\n",
    "                                       timedelta(\n",
    "                                           hours=(data.shape[0] - 1)*nums),\n",
    "                                       freq=freq)\n",
    "        elif fr == 'd':\n",
    "            time_index = pd.date_range(start=pd.to_datetime(datetime),\n",
    "                                       end=pd.to_datetime(datetime) +\n",
    "                                       timedelta(\n",
    "                                           days=(data.shape[0] - 1)*nums),\n",
    "                                       freq=freq)\n",
    "        full_data = pd.DataFrame(data=data.values,\n",
    "                                 index=pd.to_datetime(time_index, unit=freq),\n",
    "                                 columns=data.columns)\n",
    "    else:\n",
    "        columns = [i for i in data.columns if i != time_col]  # 去除时间列\n",
    "        full_data = pd.DataFrame(data=data.drop([time_col], axis=1).values,\n",
    "                                 index=pd.to_datetime(data[time_col].values),\n",
    "                                 columns=columns)\n",
    "    return full_data"
   ]
  },
  {
   "cell_type": "code",
   "execution_count": 94,
   "id": "b4febea5-e6da-44f2-a413-a0ac40ce84c5",
   "metadata": {
    "execution": {
     "iopub.execute_input": "2024-11-03T12:09:55.139728Z",
     "iopub.status.busy": "2024-11-03T12:09:55.137721Z",
     "iopub.status.idle": "2024-11-03T12:09:55.204040Z",
     "shell.execute_reply": "2024-11-03T12:09:55.202040Z",
     "shell.execute_reply.started": "2024-11-03T12:09:55.139728Z"
    }
   },
   "outputs": [],
   "source": [
    "# 时间格式编码\n",
    "def time_features_from_frequency_str(freq_str: str):\n",
    "    \"\"\"\n",
    "    Returns a list of time features that will be appropriate for the given frequency string.\n",
    "    Parameters\n",
    "    ----------\n",
    "    freq_str\n",
    "        Frequency string of the form [multiple][granularity] such as \"12H\", \"5min\", \"1D\" etc.\n",
    "    \"\"\"\n",
    "\n",
    "    class TimeFeature:\n",
    "        def __init__(self):\n",
    "            pass\n",
    "\n",
    "        def __call__(self, index: pd.DatetimeIndex) -> np.ndarray:\n",
    "            pass\n",
    "\n",
    "        def __repr__(self):\n",
    "            return self.__class__.__name__ + \"()\"\n",
    "\n",
    "    class SecondOfMinute(TimeFeature):\n",
    "        \"\"\"Minute of hour encoded as value between [-0.5, 0.5]\"\"\"\n",
    "\n",
    "        def __call__(self, index: pd.DatetimeIndex) -> np.ndarray:\n",
    "            return index.second / 59.0 - 0.5\n",
    "\n",
    "    class MinuteOfHour(TimeFeature):\n",
    "        \"\"\"Minute of hour encoded as value between [-0.5, 0.5]\"\"\"\n",
    "\n",
    "        def __call__(self, index: pd.DatetimeIndex) -> np.ndarray:\n",
    "            return index.minute / 59.0 - 0.5\n",
    "\n",
    "    class HourOfDay(TimeFeature):\n",
    "        \"\"\"Hour of day encoded as value between [-0.5, 0.5]\"\"\"\n",
    "\n",
    "        def __call__(self, index: pd.DatetimeIndex) -> np.ndarray:\n",
    "            return index.hour / 23.0 - 0.5\n",
    "\n",
    "    class DayOfWeek(TimeFeature):\n",
    "        \"\"\"Hour of day encoded as value between [-0.5, 0.5]\"\"\"\n",
    "\n",
    "        def __call__(self, index: pd.DatetimeIndex) -> np.ndarray:\n",
    "            return index.dayofweek / 6.0 - 0.5\n",
    "\n",
    "    class DayOfMonth(TimeFeature):\n",
    "        \"\"\"Day of month encoded as value between [-0.5, 0.5]\"\"\"\n",
    "\n",
    "        def __call__(self, index: pd.DatetimeIndex) -> np.ndarray:\n",
    "            return (index.day - 1) / 30.0 - 0.5\n",
    "\n",
    "    class DayOfYear(TimeFeature):\n",
    "        \"\"\"Day of year encoded as value between [-0.5, 0.5]\"\"\"\n",
    "\n",
    "        def __call__(self, index: pd.DatetimeIndex) -> np.ndarray:\n",
    "            return (index.dayofyear - 1) / 365.0 - 0.5\n",
    "\n",
    "    class MonthOfYear(TimeFeature):\n",
    "        \"\"\"Month of year encoded as value between [-0.5, 0.5]\"\"\"\n",
    "\n",
    "        def __call__(self, index: pd.DatetimeIndex) -> np.ndarray:\n",
    "            return (index.month - 1) / 11.0 - 0.5\n",
    "\n",
    "    class WeekOfYear(TimeFeature):\n",
    "        \"\"\"Week of year encoded as value between [-0.5, 0.5]\"\"\"\n",
    "\n",
    "        def __call__(self, index: pd.DatetimeIndex) -> np.ndarray:\n",
    "            return (index.isocalendar().week - 1) / 52.0 - 0.5\n",
    "\n",
    "    features_by_offsets = {\n",
    "        offsets.YearEnd: [],\n",
    "        offsets.QuarterEnd: [MonthOfYear],\n",
    "        offsets.MonthEnd: [MonthOfYear],\n",
    "        offsets.Week: [DayOfMonth, WeekOfYear],\n",
    "        offsets.Day: [DayOfWeek, DayOfMonth, DayOfYear],\n",
    "        offsets.BusinessDay: [DayOfWeek, DayOfMonth, DayOfYear],\n",
    "        offsets.Hour: [HourOfDay, DayOfWeek, DayOfMonth, DayOfYear],\n",
    "        offsets.Minute: [\n",
    "            MinuteOfHour,\n",
    "            HourOfDay,\n",
    "            DayOfWeek,\n",
    "            DayOfMonth,\n",
    "            DayOfYear,\n",
    "        ],\n",
    "        offsets.Second: [\n",
    "            SecondOfMinute,\n",
    "            MinuteOfHour,\n",
    "            HourOfDay,\n",
    "            DayOfWeek,\n",
    "            DayOfMonth,\n",
    "            DayOfYear,\n",
    "        ],\n",
    "    }\n",
    "\n",
    "    offset = to_offset(freq_str)\n",
    "\n",
    "    for offset_type, feature_classes in features_by_offsets.items():\n",
    "        if isinstance(offset, offset_type):\n",
    "            return [cls() for cls in feature_classes]\n",
    "\n",
    "    supported_freq_msg = f\"\"\"\n",
    "    Unsupported frequency {freq_str}\n",
    "    The following frequencies are supported:\n",
    "        Y   - yearly\n",
    "            alias: A\n",
    "        M   - monthly\n",
    "        W   - weekly\n",
    "        D   - daily\n",
    "        B   - business days\n",
    "        H   - hourly\n",
    "        T   - minutely\n",
    "            alias: min\n",
    "        S   - secondly\n",
    "    \"\"\"\n",
    "    raise RuntimeError(supported_freq_msg)\n",
    "\n",
    "\n",
    "def time_features(dates, freq='h'):\n",
    "    return np.vstack([feat(dates) for feat in time_features_from_frequency_str(freq)])"
   ]
  },
  {
   "cell_type": "code",
   "execution_count": 95,
   "id": "8ba7eaea-3661-494a-9d46-4fb901051c7f",
   "metadata": {
    "execution": {
     "iopub.execute_input": "2024-11-03T12:09:55.696252Z",
     "iopub.status.busy": "2024-11-03T12:09:55.694252Z",
     "iopub.status.idle": "2024-11-03T12:09:55.764009Z",
     "shell.execute_reply": "2024-11-03T12:09:55.762010Z",
     "shell.execute_reply.started": "2024-11-03T12:09:55.696252Z"
    }
   },
   "outputs": [],
   "source": [
    "# 数据集划分\n",
    "def divider(df, train_ratio, valid_ratio, x_feature_list, y_feature_list, freq, scaler_path):\n",
    "    \"\"\"\n",
    "    读取数据，并对数据进行划分\n",
    "\n",
    "    参数说明\n",
    "    ----------\n",
    "    df : {DataFrame} of shape (n_samples, n_features)\n",
    "        输入数据\n",
    "    train_ratio : {float}\n",
    "        用于训练的数据集占比:将数据按照一定比例进行切分，取值范围为(0,1)\n",
    "    valid_ratio : {float}\n",
    "        用于验证的数据集占比:将数据按照一定比例进行切分，取值范围为(0,1)\n",
    "    x_feature_list : {list[str]} \n",
    "        训练特征列，不包含时间列\n",
    "    y_feature_list : {list[str]} \n",
    "        目标特征列，不包含时间列\n",
    "    freq : {str}\n",
    "        用来编码时间特征的频率，可选[s:秒,t:分,h:时,d:天,b:工作日,w:周,m:月]，频率越低，模型可能越精确\n",
    "    scaler_path : {str} \n",
    "        数据归一化模型保存地址\n",
    "\n",
    "    返回值\n",
    "    -------\n",
    "    x_scaler : {sklearn.preprocessing.MinMaxScaler}\n",
    "        训练特征列归一化器\n",
    "    y_scaler : {sklearn.preprocessing.MinMaxScaler}\n",
    "        目标特征列归一化器\n",
    "    train : {list[DataFrame]}\n",
    "        训练特征数据，目标特征数据，时间特征数据\n",
    "    valid : {list[DataFrame]}\n",
    "        验证特征数据，目标特征数据，时间特征数据\n",
    "    test : {list[DataFrame]}\n",
    "        测试特征数据，目标特征数据，时间特征数据\n",
    "    \"\"\"\n",
    "    # 归一化\n",
    "    x_scaler = MinMaxScaler()  # 保证数据同分布\n",
    "    y_scaler = MinMaxScaler()\n",
    "    x_scaler = x_scaler.fit(df.copy()[x_feature_list])\n",
    "    y_scaler = y_scaler.fit(df.copy()[y_feature_list])\n",
    "\n",
    "    # 设置保存归一化参数路径\n",
    "    if not os.path.exists(scaler_path):\n",
    "        os.makedirs(scaler_path)\n",
    "\n",
    "    # 保存归一化参数\n",
    "    joblib.dump(x_scaler, scaler_path + \"/x_scaler.pkl\")\n",
    "    joblib.dump(y_scaler, scaler_path + \"/y_scaler.pkl\")\n",
    "\n",
    "    # 测试集\n",
    "    train = df.copy().iloc[:int(df.shape[0]*train_ratio), :][x_feature_list]\n",
    "    train_stamp = time_features(pd.to_datetime(train.index), freq=freq)\n",
    "    train_stamp = train_stamp.transpose(1, 0)\n",
    "    train[x_feature_list] = x_scaler.transform(train)\n",
    "    xtr = train.values.astype('float32')\n",
    "    ytr = df.copy().iloc[:int(df.shape[0]*train_ratio), :][y_feature_list]\n",
    "    ytr[y_feature_list] = y_scaler.transform(ytr)\n",
    "    ytr = ytr.values.astype('float32')\n",
    "    train = [xtr, ytr, train_stamp]\n",
    "\n",
    "    # 验证集\n",
    "    if train_ratio != 1:\n",
    "        valid = df.copy().iloc[int(df.shape[0]*train_ratio)\n",
    "                        : int(df.shape[0]*(train_ratio+valid_ratio)), :][x_feature_list]\n",
    "        valid_stamp = time_features(pd.to_datetime(valid.index), freq=freq)\n",
    "        valid_stamp = valid_stamp.transpose(1, 0)\n",
    "        valid[x_feature_list] = x_scaler.transform(valid)\n",
    "        xva = valid.values.astype('float32')\n",
    "        yva = df.copy().iloc[int(df.shape[0]*train_ratio)\n",
    "                      : int(df.shape[0]*(train_ratio+valid_ratio)), :][y_feature_list]\n",
    "        yva[y_feature_list] = y_scaler.transform(yva)\n",
    "        yva = yva.values.astype('float32')\n",
    "        valid = [xva, yva, valid_stamp]\n",
    "    else:\n",
    "        valid = [np.array(0), np.array(0), np.array(0)]\n",
    "\n",
    "    # 测试集\n",
    "    if train_ratio + valid_ratio != 1:\n",
    "        test = df.copy().iloc[int(\n",
    "            df.shape[0]*(train_ratio+valid_ratio)):, :][x_feature_list]\n",
    "        test_stamp = time_features(pd.to_datetime(test.index), freq=freq)\n",
    "        test_stamp = test_stamp.transpose(1, 0)\n",
    "        test[x_feature_list] = x_scaler.transform(test)\n",
    "        xte = test.values.astype('float32')\n",
    "        yte = df.copy().iloc[int(\n",
    "            df.shape[0]*(train_ratio+valid_ratio)):, :][y_feature_list]\n",
    "        yte[y_feature_list] = y_scaler.transform(yte)\n",
    "        yte = yte.values.astype('float32')\n",
    "        test = [xte, yte, test_stamp]\n",
    "    else:\n",
    "        test = [np.array(0), np.array(0), np.array(0)]\n",
    "\n",
    "    return x_scaler, y_scaler, train, valid, test"
   ]
  },
  {
   "cell_type": "code",
   "execution_count": 96,
   "id": "41a2217c-81a0-404b-b14a-65cf82ed873c",
   "metadata": {
    "execution": {
     "iopub.execute_input": "2024-11-03T12:09:56.224805Z",
     "iopub.status.busy": "2024-11-03T12:09:56.223807Z",
     "iopub.status.idle": "2024-11-03T12:09:56.279995Z",
     "shell.execute_reply": "2024-11-03T12:09:56.276554Z",
     "shell.execute_reply.started": "2024-11-03T12:09:56.224805Z"
    }
   },
   "outputs": [],
   "source": [
    "# 利用前seq_len个数据，预测下pred_len个数据\n",
    "def generator(data_list, seq_len, pred_len, label_len, batch_size, sample_freq: int = 1):\n",
    "    \"\"\"\n",
    "    读取数据，并对数据进行划分\n",
    "\n",
    "    参数说明\n",
    "    ----------\n",
    "    data_list : {list[DataFrame]}\n",
    "        输入特征数据，目标特征数据，时间特征数据\n",
    "    seq_len : {int}\n",
    "        输入数据包含过去多少个时间步，正整数\n",
    "    pred_len : {int}\n",
    "        目标应该在未来多少个时间步之后，正整数\n",
    "    label_len : {int} \n",
    "        先验时间步\n",
    "    batch_size : {int} \n",
    "        输入数据的批次大小，正整数\n",
    "    sample_freq : {int} \n",
    "        采样频率，正整数\n",
    "\n",
    "    返回值\n",
    "    -------\n",
    "    X : {torch.Tensor}\n",
    "        特征数据张量\n",
    "    y : {torch.Tensor}\n",
    "        目标数据张量\n",
    "    X_stamp : {torch.Tensor}\n",
    "        特征时间编码张量\n",
    "    y_stamp : {torch.Tensor}\n",
    "        目标时间编码张量\n",
    "    data_loader : {torch.utils.data.dataloader.DataLoader}\n",
    "        数据加载器，[特征，目标，特征时间编码，目标时间编码]\n",
    "    \"\"\"\n",
    "    # 获取数据\n",
    "    feature = data_list[0]  # 特征\n",
    "    target = data_list[1]  # 目标\n",
    "    stamp = data_list[2]  # 时间戳，不包含未来的时间\n",
    "\n",
    "    # 循环生成数据\n",
    "    X, y = [], []\n",
    "    X_stamp, y_stamp = [], []\n",
    "\n",
    "    for index in range(0, len(feature) - seq_len - pred_len + 1, sample_freq):\n",
    "        # 起点\n",
    "        s_begin = index\n",
    "        # 终点(起点 + 回视窗口)\n",
    "        s_end = s_begin + seq_len\n",
    "        # (终点 - 先验序列窗口)\n",
    "        r_begin = s_end - label_len\n",
    "        # (终点 + 预测序列长度)\n",
    "        r_end = r_begin + label_len + pred_len\n",
    "\n",
    "        # 数据维度\n",
    "        feat = feature[s_begin: s_end]\n",
    "        tar = target[s_begin: s_end]\n",
    "        X.append(np.array(feat))\n",
    "        y.append(np.array(tar))\n",
    "\n",
    "        # 时间维度\n",
    "        xs = stamp[s_begin: s_end]\n",
    "        ys = stamp[s_begin: s_end]\n",
    "        X_stamp.append(np.array(xs))\n",
    "        y_stamp.append(np.array(ys))\n",
    "\n",
    "    # 转为张量，数据维度\n",
    "    X = torch.as_tensor(X).float()\n",
    "    y = torch.as_tensor(y).float()\n",
    "\n",
    "    # 转为张量，时间维度\n",
    "    X_stamp = torch.as_tensor(X_stamp).float()\n",
    "    y_stamp = torch.as_tensor(y_stamp).float()\n",
    "\n",
    "    # 创建dataloader，[特征，目标，特征时间编码，目标时间编码]\n",
    "    data_loader = DataLoader(TensorDataset(\n",
    "        X, y, X_stamp, y_stamp), shuffle=True, batch_size=batch_size, drop_last=False)\n",
    "\n",
    "    return X, y, X_stamp, y_stamp, data_loader"
   ]
  },
  {
   "cell_type": "markdown",
   "id": "c200cd90",
   "metadata": {
    "slideshow": {
     "slide_type": ""
    },
    "tags": []
   },
   "source": [
    "# GAN（生成对抗式网络）"
   ]
  },
  {
   "cell_type": "markdown",
   "id": "8dcade2e",
   "metadata": {},
   "source": [
    "## 基本概念"
   ]
  },
  {
   "cell_type": "markdown",
   "id": "6f4137ff",
   "metadata": {},
   "source": [
    "GAN的全称是Generative adversarial network，中文翻译过来就是生成对抗网络。生成对抗网络其实是两个网络的组合：生成网络（Generator）负责生成模拟数据；判别网络（Discriminator）负责判断输入的数据是真实的还是生成的。生成网络要不断优化自己生成的数据让判别网络判断不出来，判别网络也要优化自己让自己判断得更准确。二者关系形成对抗，因此叫对抗网络。"
   ]
  },
  {
   "cell_type": "markdown",
   "id": "42b60f2a",
   "metadata": {},
   "source": [
    "GAN通过对某一事物大量数据的学习，来学习总结出其在数学层面上的分布规律，构建出合理的映射函数，从而解决现实问题。"
   ]
  },
  {
   "cell_type": "markdown",
   "id": "ab14bcf6",
   "metadata": {},
   "source": [
    "![示例图片](../images/p40.png)"
   ]
  },
  {
   "cell_type": "markdown",
   "id": "cc5b4974",
   "metadata": {},
   "source": [
    "生成器(Generator)：通过机器生成数据（大部分情况下是图像），最终目的是“骗过”判别器。\n",
    "\n",
    "判别器(Discriminator)：判断这张图像是真实的还是机器生成的，目的是找出生成器做的“假数据”。"
   ]
  },
  {
   "cell_type": "markdown",
   "id": "62e2afc4",
   "metadata": {},
   "source": [
    "生成器生成假数据，然后将生成的假数据和真数据都输入判别器，判别器要判断出哪些是真的哪些是假的。判别器第一次判别出来的肯定有很大的误差，然后我们根据误差来优化判别器。现在判别器水平提高了，生成器生成的数据很难再骗过判别器了，所以我们得反过来优化生成器，之后生成器水平提高了，然后反过来继续训练判别器，判别器水平又提高了，再反过来训练生成器，就这样循环往复，直到达到纳什均衡。"
   ]
  },
  {
   "cell_type": "markdown",
   "id": "a235db90",
   "metadata": {},
   "source": [
    "**生成网络的损失函数：**\n",
    "$$L_G=H(1,D(G(z)))$$\n",
    "上式中，$G$ 代表生成网络，$D $代表判别网络，$H$ 代表交叉熵，$z$ 是输入随机数据。$D(G(z))$是对生成数据的判断概率，1代表数据绝对真实，0代表数据绝对虚假。$H(1,D(G(z)))$代表判断结果与1的距离。显然生成网络想取得良好的效果，那就要做到，让判别器将生成数据判别为真数据（即$D(G(z))$与1的距离越小越好）。\n",
    "\n",
    "**判别网络的损失函数：**\n",
    "$$L_D=H(1,D(x))+H(0,D(G(z)))$$\n",
    "上式中，$x$是真实数据，这里要注意的是，$H(1,D(x))$代表真实数据与1的距离，$H(0,D(G(z)))$代表生成数据与0的距离。显然，识别网络要想取得良好的效果，那么就要做到，在它眼里，真实数据就是真实数据，生成数据就是虚假数据（即真实数据与1的距离小，生成数据与0的距离小）。\n",
    " "
   ]
  },
  {
   "cell_type": "markdown",
   "id": "50554999",
   "metadata": {},
   "source": [
    "**优化原理**：生成网络和判别网络有了损失函数，就可以基于各自的损失函数，利用误差反向传播（Backpropagation）(BP)反向传播算法和最优化方法(如梯度下降法)来实现参数的调整），不断提高生成网络和判别网络的性能（最终生成网络和判别网络的成熟状态就是学习到了合理的映射函数）。"
   ]
  },
  {
   "cell_type": "markdown",
   "id": "b2f75982",
   "metadata": {},
   "source": [
    "## WGAN"
   ]
  },
  {
   "cell_type": "markdown",
   "id": "ec11f13f",
   "metadata": {},
   "source": [
    "### Wasserstein距离"
   ]
  },
  {
   "cell_type": "markdown",
   "id": "76993800",
   "metadata": {},
   "source": [
    "WGAN引入了Wasserstein距离（也称为地雷杰斯坦距离或汉明斯坦距离）作为GAN的目标函数，用于衡量真实分布和生成分布之间的差异。Wasserstein距离具有更好的数学性质，尤其是当两个分布有重叠时，它依然是可导的。这使得训练过程更加稳定，避免了传统GAN中 Jensen-Shannon 散度等指标可能出现的问题。\n"
   ]
  },
  {
   "attachments": {
    "image.png": {
     "image/png": "[encoded data removed]"
    }
   },
   "cell_type": "markdown",
   "id": "6675d2a4",
   "metadata": {},
   "source": [
    "![image.png](attachment:image.png)"
   ]
  },
  {
   "cell_type": "markdown",
   "id": "1a2b18c6",
   "metadata": {},
   "source": [
    "### 梯度裁剪"
   ]
  },
  {
   "cell_type": "markdown",
   "id": "59e5eec0",
   "metadata": {},
   "source": [
    "梯度裁剪（Gradient Clipping）是深度学习中的一种优化技术，主要用于防止梯度爆炸的问题。当神经网络训练时，梯度值可能变得非常大，导致权重更新过大，进而影响模型的稳定性和收敛性。梯度裁剪通过限制梯度的大小，防止它们超过设定的阈值，从而解决这个问题。\n",
    "\n",
    "在实践中，梯度裁剪通常在每个训练迭代之后应用于模型的梯度。具体步骤如下：\n",
    "\n",
    "- 计算模型参数关于损失函数的梯度。\n",
    "- 计算梯度的范数（通常是L2范数）。\n",
    "- 如果梯度的范数超过了预先设定的阈值，就按比例缩放梯度，使其范数等于阈值。\n",
    "梯度裁剪的公式如下：\n",
    "\n",
    "$$clipped_{gradient}=\\frac{threshold}{||gradients||}×gradients$$\n",
    "\n",
    "其中，threshold 是设定的梯度阈值，gradients 是计算得到的梯度。\n",
    "\n",
    "梯度裁剪有助于避免梯度爆炸的问题，提高模型的稳定性和训练效果。这一技术通常用于循环神经网络（Recurrent Neural Networks，RNN）等架构，因为它们更容易受到梯度爆炸的影响。在许多深度学习框架中，梯度裁剪往往可以通过设置相应的参数或调用相应的函数来实现。"
   ]
  },
  {
   "cell_type": "markdown",
   "id": "b658ee42",
   "metadata": {},
   "source": [
    "## 数据准备"
   ]
  },
  {
   "cell_type": "code",
   "execution_count": 52,
   "id": "07d79e5e-cf9d-47c9-9005-0df2e01915da",
   "metadata": {
    "execution": {
     "iopub.execute_input": "2024-11-03T11:35:09.691505Z",
     "iopub.status.busy": "2024-11-03T11:35:09.690503Z",
     "iopub.status.idle": "2024-11-03T11:35:09.769604Z",
     "shell.execute_reply": "2024-11-03T11:35:09.768588Z",
     "shell.execute_reply.started": "2024-11-03T11:35:09.691505Z"
    }
   },
   "outputs": [
    {
     "data": {
      "text/html": [
       "<div>\n",
       "<style scoped>\n",
       "    .dataframe tbody tr th:only-of-type {\n",
       "        vertical-align: middle;\n",
       "    }\n",
       "\n",
       "    .dataframe tbody tr th {\n",
       "        vertical-align: top;\n",
       "    }\n",
       "\n",
       "    .dataframe thead th {\n",
       "        text-align: right;\n",
       "    }\n",
       "</style>\n",
       "<table border=\"1\" class=\"dataframe\">\n",
       "  <thead>\n",
       "    <tr style=\"text-align: right;\">\n",
       "      <th></th>\n",
       "      <th>load</th>\n",
       "      <th>temp</th>\n",
       "    </tr>\n",
       "  </thead>\n",
       "  <tbody>\n",
       "    <tr>\n",
       "      <th>2012-01-01 00:00:00</th>\n",
       "      <td>2698.0</td>\n",
       "      <td>32.00</td>\n",
       "    </tr>\n",
       "    <tr>\n",
       "      <th>2012-01-01 01:00:00</th>\n",
       "      <td>2558.0</td>\n",
       "      <td>32.67</td>\n",
       "    </tr>\n",
       "    <tr>\n",
       "      <th>2012-01-01 02:00:00</th>\n",
       "      <td>2444.0</td>\n",
       "      <td>30.00</td>\n",
       "    </tr>\n",
       "    <tr>\n",
       "      <th>2012-01-01 03:00:00</th>\n",
       "      <td>2402.0</td>\n",
       "      <td>31.00</td>\n",
       "    </tr>\n",
       "    <tr>\n",
       "      <th>2012-01-01 04:00:00</th>\n",
       "      <td>2403.0</td>\n",
       "      <td>32.00</td>\n",
       "    </tr>\n",
       "    <tr>\n",
       "      <th>...</th>\n",
       "      <td>...</td>\n",
       "      <td>...</td>\n",
       "    </tr>\n",
       "    <tr>\n",
       "      <th>2014-12-31 19:00:00</th>\n",
       "      <td>4012.0</td>\n",
       "      <td>18.00</td>\n",
       "    </tr>\n",
       "    <tr>\n",
       "      <th>2014-12-31 20:00:00</th>\n",
       "      <td>3856.0</td>\n",
       "      <td>16.67</td>\n",
       "    </tr>\n",
       "    <tr>\n",
       "      <th>2014-12-31 21:00:00</th>\n",
       "      <td>3671.0</td>\n",
       "      <td>17.00</td>\n",
       "    </tr>\n",
       "    <tr>\n",
       "      <th>2014-12-31 22:00:00</th>\n",
       "      <td>3499.0</td>\n",
       "      <td>15.33</td>\n",
       "    </tr>\n",
       "    <tr>\n",
       "      <th>2014-12-31 23:00:00</th>\n",
       "      <td>3345.0</td>\n",
       "      <td>15.33</td>\n",
       "    </tr>\n",
       "  </tbody>\n",
       "</table>\n",
       "<p>26304 rows × 2 columns</p>\n",
       "</div>"
      ],
      "text/plain": [
       "                       load   temp\n",
       "2012-01-01 00:00:00  2698.0  32.00\n",
       "2012-01-01 01:00:00  2558.0  32.67\n",
       "2012-01-01 02:00:00  2444.0  30.00\n",
       "2012-01-01 03:00:00  2402.0  31.00\n",
       "2012-01-01 04:00:00  2403.0  32.00\n",
       "...                     ...    ...\n",
       "2014-12-31 19:00:00  4012.0  18.00\n",
       "2014-12-31 20:00:00  3856.0  16.67\n",
       "2014-12-31 21:00:00  3671.0  17.00\n",
       "2014-12-31 22:00:00  3499.0  15.33\n",
       "2014-12-31 23:00:00  3345.0  15.33\n",
       "\n",
       "[26304 rows x 2 columns]"
      ]
     },
     "execution_count": 52,
     "metadata": {},
     "output_type": "execute_result"
    }
   ],
   "source": [
    "data_path = \"../outputs/datasets/energy.csv\"\n",
    "ts_data = loader(data_path=data_path, data=None, time_col='time')\n",
    "ts_data"
   ]
  },
  {
   "cell_type": "code",
   "execution_count": 53,
   "id": "61a66e58-0827-44c5-8bfd-25fcc41be6de",
   "metadata": {
    "execution": {
     "iopub.execute_input": "2024-11-03T11:35:10.355690Z",
     "iopub.status.busy": "2024-11-03T11:35:10.353698Z",
     "iopub.status.idle": "2024-11-03T11:35:10.815643Z",
     "shell.execute_reply": "2024-11-03T11:35:10.813927Z",
     "shell.execute_reply.started": "2024-11-03T11:35:10.355180Z"
    }
   },
   "outputs": [
    {
     "name": "stdout",
     "output_type": "stream",
     "text": [
      "x_train shape: (18412, 2) y_train shape: (18412, 2) stamp_train shape: (18412, 4)\n",
      "x_valid shape: (2631, 2) y_valid shape: (2631, 2) stamp_valid shape: (2631, 4)\n",
      "x_test shape: (5261, 2) y_test shape: (5261, 2) stamp_test shape: (5261, 4)\n"
     ]
    }
   ],
   "source": [
    "# 数据划分\n",
    "params1 = {\n",
    "    \"df\": ts_data,\n",
    "    \"train_ratio\": 0.7,\n",
    "    \"valid_ratio\": 0.1,\n",
    "    \"x_feature_list\": ['load', 'temp'],\n",
    "    \"y_feature_list\": ['load', 'temp'],\n",
    "    \"freq\": 'h',\n",
    "    \"scaler_path\": '../outputs/scalers/GAN'\n",
    "}\n",
    "\n",
    "# 函数传参\n",
    "x_scaler, y_scaler, train_data, valid_data, test_data = divider(**params1)\n",
    "print(\"x_train shape: {0} y_train shape: {1} stamp_train shape: {2}\".format(\n",
    "    train_data[0].shape, train_data[1].shape, train_data[2].shape))\n",
    "print(\"x_valid shape: {0} y_valid shape: {1} stamp_valid shape: {2}\".format(\n",
    "    valid_data[0].shape, valid_data[1].shape, valid_data[2].shape))\n",
    "print(\"x_test shape: {0} y_test shape: {1} stamp_test shape: {2}\".format(\n",
    "    test_data[0].shape, test_data[1].shape, test_data[2].shape))"
   ]
  },
  {
   "cell_type": "code",
   "execution_count": 54,
   "id": "dea2d61a-6da1-4b25-bb43-79d3ea2e0693",
   "metadata": {
    "execution": {
     "iopub.execute_input": "2024-11-03T11:35:10.996757Z",
     "iopub.status.busy": "2024-11-03T11:35:10.995404Z",
     "iopub.status.idle": "2024-11-03T11:35:12.265988Z",
     "shell.execute_reply": "2024-11-03T11:35:12.265048Z",
     "shell.execute_reply.started": "2024-11-03T11:35:10.996757Z"
    }
   },
   "outputs": [
    {
     "name": "stdout",
     "output_type": "stream",
     "text": [
      "X_size: torch.Size([18407, 6, 2]),y_size: torch.Size([18407, 6, 2]),loader_len: 576\n",
      "X_size: torch.Size([2626, 6, 2]),y_size: torch.Size([2626, 6, 2]),loader_len: 83\n",
      "X_size: torch.Size([5256, 6, 2]),y_size: torch.Size([5256, 6, 2]),loader_len: 165\n"
     ]
    }
   ],
   "source": [
    "# 构造参数字典\n",
    "params2 = {\n",
    "    \"seq_len\": 6,\n",
    "    \"pred_len\": 0,\n",
    "    \"label_len\": 0,\n",
    "    \"batch_size\": 32,\n",
    "}\n",
    "X_train, y_train, X_train_stamp, y_train_stamp, train_loader = generator(\n",
    "    train_data, **params2)\n",
    "X_valid, y_valid, X_valid_stamp, y_valid_stamp, valid_loader = generator(\n",
    "    valid_data, **params2)\n",
    "X_test, y_test, X_test_stamp, y_test_stamp, test_loader = generator(\n",
    "    test_data, **params2)\n",
    "print(\"X_size: {0},y_size: {1},loader_len: {2}\".format(\n",
    "    X_train.shape, y_train.shape, len(train_loader)))\n",
    "print(\"X_size: {0},y_size: {1},loader_len: {2}\".format(\n",
    "    X_valid.shape, y_valid.shape, len(valid_loader)))\n",
    "print(\"X_size: {0},y_size: {1},loader_len: {2}\".format(\n",
    "    X_test.shape, y_test.shape, len(test_loader)))"
   ]
  },
  {
   "cell_type": "markdown",
   "id": "c80d6c16-cdcd-4bf9-86cf-0da48a375f03",
   "metadata": {},
   "source": [
    "## 模型定义"
   ]
  },
  {
   "cell_type": "code",
   "execution_count": 55,
   "id": "530f3aaa-8355-400c-9220-de92c0b50311",
   "metadata": {
    "execution": {
     "iopub.execute_input": "2024-11-03T11:35:16.719224Z",
     "iopub.status.busy": "2024-11-03T11:35:16.717226Z",
     "iopub.status.idle": "2024-11-03T11:35:16.744498Z",
     "shell.execute_reply": "2024-11-03T11:35:16.743533Z",
     "shell.execute_reply.started": "2024-11-03T11:35:16.719224Z"
    }
   },
   "outputs": [],
   "source": [
    "# 定义生成器\n",
    "class Generator(nn.Module):\n",
    "    def __init__(self, c_in, d_model, c_out, dropout):\n",
    "        super(Generator, self).__init__()\n",
    "        # 输入维度为 (batch_size, c_in, seq_len)\n",
    "        self.conv1 = nn.Conv1d(c_in, d_model, kernel_size=3, stride=1, padding=1)\n",
    "        self.conv2 = nn.Conv1d(d_model, c_out, kernel_size=3, stride=1, padding=1)\n",
    "        self.dropout = nn.Dropout(p=dropout)\n",
    "\n",
    "    def forward(self, x):\n",
    "        x = x.permute(0, 2, 1)\n",
    "        out = self.dropout(torch.relu(self.conv1(x)))\n",
    "        out = self.dropout(torch.relu(self.conv2(out)))\n",
    "        out = out.permute(0, 2, 1)\n",
    "        return out\n",
    "\n",
    "# 定义判别器\n",
    "class Discriminator(nn.Module):\n",
    "    def __init__(self, c_in, d_model, ex_model, dropout):\n",
    "        super(Discriminator, self).__init__()\n",
    "        self.linear1 = nn.Linear(c_in, d_model)\n",
    "        self.linear2 = nn.Linear(d_model, ex_model)\n",
    "        self.linear3 = nn.Linear(ex_model, 1)\n",
    "        self.dropout = nn.Dropout(dropout)\n",
    "\n",
    "    def forward(self, x):\n",
    "        out = self.linear1(x)\n",
    "        out = self.dropout(out)\n",
    "        out = self.linear2(out)\n",
    "        out = self.dropout(out)\n",
    "        out = self.linear3(out)\n",
    "        return out"
   ]
  },
  {
   "cell_type": "markdown",
   "id": "24e8ba52-bbd0-456b-aff9-6d3ae053a2b4",
   "metadata": {},
   "source": [
    "## 模型训练"
   ]
  },
  {
   "cell_type": "code",
   "execution_count": 56,
   "id": "363519f4-fd6b-4d7d-b695-0fcc1da1daf1",
   "metadata": {
    "execution": {
     "iopub.execute_input": "2024-11-03T11:35:18.179313Z",
     "iopub.status.busy": "2024-11-03T11:35:18.177303Z",
     "iopub.status.idle": "2024-11-03T11:35:18.230227Z",
     "shell.execute_reply": "2024-11-03T11:35:18.228259Z",
     "shell.execute_reply.started": "2024-11-03T11:35:18.179313Z"
    }
   },
   "outputs": [],
   "source": [
    "def train(train_args, generator_args, discriminator_args):\n",
    "    # 参数配置\n",
    "    generator_name = train_args['generator_name']  # 生成器模型名称\n",
    "    discriminator_name = train_args['discriminator_name']  # 判别器模型名称\n",
    "    train_loader = train_args['train_loader']  # 训练集\n",
    "    valid_loader = train_args['valid_loader']  # 验证集\n",
    "    n_epochs = train_args['n_epochs']  # 训练次数\n",
    "    learning_rate = train_args['learning_rate']  # 学习率\n",
    "    model_path = train_args['model_path']  # 模型保存路径\n",
    "    verbose = train_args['verbose']  # 打印训练过程\n",
    "    plots = train_args['plots']  # 绘制损失图\n",
    "    device = train_args['device']  # 可选'cuda'和'cpu'\n",
    "    patience = train_args['patience']\n",
    "    clip_value = train_args['clip_value'] # 裁剪值\n",
    "    batch_size = train_args['batch_size']\n",
    "    seq_len = train_args['seq_len']\n",
    "    c_in = generator_args['c_in']\n",
    "\n",
    "    # 检查可用device\n",
    "    device = torch.device(device)\n",
    "\n",
    "    # 设置早停\n",
    "    class EarlyStopping():\n",
    "        def __init__(self, patience=7, verbose=False, delta=0):\n",
    "            self.patience = patience  # 连续超限次数，如果满足条件，则早停\n",
    "            self.verbose = verbose\n",
    "            self.counter = 0\n",
    "            self.best_score = None\n",
    "            self.early_stop = False\n",
    "            self.val_loss_min = np.Inf\n",
    "            self.delta = delta\n",
    "\n",
    "        def __call__(self, val_loss, model, path):\n",
    "            score = -val_loss\n",
    "            if self.best_score is None:\n",
    "                self.best_score = score\n",
    "                self.save_checkpoint(val_loss, model, path)\n",
    "            elif score < self.best_score + self.delta:\n",
    "                self.counter += 1\n",
    "                print(\n",
    "                    f'EarlyStopping counter: {self.counter} out of {self.patience}')\n",
    "                if self.counter >= self.patience:\n",
    "                    self.early_stop = True\n",
    "            else:\n",
    "                self.best_score = score\n",
    "                self.save_checkpoint(val_loss, model, path)\n",
    "                self.counter = 0\n",
    "\n",
    "        def save_checkpoint(self, val_loss, model, path):\n",
    "            if self.verbose:\n",
    "                print(\n",
    "                    f'Validation loss decreased ({self.val_loss_min:.6f} --> {val_loss:.6f}).  Saving model ...')\n",
    "            torch.save(model.state_dict(), path + '/' + 'checkpoint.pth')\n",
    "            self.val_loss_min = val_loss\n",
    "    early_stopping = EarlyStopping(patience=patience, verbose=verbose)\n",
    "\n",
    "    # 设置保存模型路径\n",
    "    if not os.path.exists(model_path):\n",
    "        os.makedirs(model_path)\n",
    "\n",
    "    # 定义模型\n",
    "    generator = generator_name(**generator_args).to(device)\n",
    "    discriminator = discriminator_name(**discriminator_args).to(device)\n",
    "\n",
    "    optimizer_G = optim.Adam(generator.parameters(), lr=learning_rate)\n",
    "    optimizer_D = optim.Adam(discriminator.parameters(), lr=learning_rate)\n",
    "\n",
    "    # 损失函数值\n",
    "    G_losses, D_losses = [], []\n",
    "\n",
    "    for epoch in tqdm(range(n_epochs)):\n",
    "        generator.train()\n",
    "        discriminator.train()\n",
    "        total_G_loss = 0\n",
    "        total_D_loss = 0\n",
    "        for batch_x, batch_y, batch_x_mark, batch_y_mark in train_loader:\n",
    "            # 将输入数据和标签移至device\n",
    "            inputs_batch, targets_batch = batch_x.to(device), batch_y.to(device)\n",
    "\n",
    "            # 训练生成器\n",
    "            optimizer_G.zero_grad()\n",
    "            fake_data = generator(torch.randn(\n",
    "                batch_size, seq_len, c_in).to(device))\n",
    "            loss_G = -torch.mean(discriminator(fake_data))\n",
    "            loss_G.backward()\n",
    "            optimizer_G.step()\n",
    "\n",
    "            # 训练判别器\n",
    "            optimizer_D.zero_grad()\n",
    "            real_data = inputs_batch\n",
    "            loss_real = -torch.mean(discriminator(real_data))\n",
    "            fake_data = generator(torch.randn(\n",
    "                batch_size, seq_len, c_in).to(device))\n",
    "            loss_fake = torch.mean(discriminator(fake_data))\n",
    "            loss_D = loss_real + loss_fake\n",
    "            loss_D.backward()\n",
    "            optimizer_D.step()\n",
    "\n",
    "            # 在训练生成器和判别器之前添加梯度裁剪\n",
    "            for p in discriminator.parameters():\n",
    "                p.data.clamp_(-clip_value, clip_value)\n",
    "\n",
    "            # 计算每个batch的loss和\n",
    "            total_G_loss += loss_G.item()\n",
    "            total_D_loss += loss_D.item()\n",
    "\n",
    "        # 计算每个epoch的损失平均\n",
    "        avg_G_loss = total_G_loss / len(train_loader)\n",
    "        avg_D_loss = total_D_loss / len(train_loader)\n",
    "\n",
    "        # 记录所有epoch的loss\n",
    "        G_losses.append(avg_G_loss)\n",
    "        D_losses.append(avg_D_loss)\n",
    "\n",
    "        # 打印训练过程\n",
    "        print(\n",
    "            f'Epoch [{epoch}/{n_epochs}], Generator Loss: {avg_G_loss:.4f}, Discriminator Loss: {avg_D_loss:.4f}')\n",
    "\n",
    "        # 设置早停\n",
    "        early_stopping(avg_D_loss, generator, model_path)\n",
    "        if early_stopping.early_stop:\n",
    "            print(\"Early stopping!\")\n",
    "            break\n",
    "\n",
    "    # 绘制损失函数图\n",
    "    def plot_loss(G_losses, D_losses):\n",
    "        plt.figure(figsize=(10, 5))\n",
    "        plt.style.use('seaborn-v0_8-paper')  # 绘制背景色\n",
    "        plt.grid(axis='y', linewidth=0.35)  # 绘制网格\n",
    "        plt.plot(G_losses, linestyle='-', color='#11b3b6')\n",
    "        plt.plot(D_losses, linestyle='-', color='#f14643')\n",
    "        plt.xlabel(\"Epoch\")\n",
    "        plt.ylabel(\"Loss\")\n",
    "        plt.title(\"Training and Validation Progress\")\n",
    "        plt.legend([\"Generator\", \"Discriminator\"])\n",
    "        plt.show()\n",
    "    if plots:\n",
    "        plot_loss(G_losses, D_losses)\n",
    "\n",
    "    return generator"
   ]
  },
  {
   "cell_type": "code",
   "execution_count": 57,
   "id": "f68499cf-44a1-4ebb-9333-459333273862",
   "metadata": {
    "execution": {
     "iopub.execute_input": "2024-11-03T11:35:28.590251Z",
     "iopub.status.busy": "2024-11-03T11:35:28.590251Z",
     "iopub.status.idle": "2024-11-03T11:36:58.872755Z",
     "shell.execute_reply": "2024-11-03T11:36:58.871656Z",
     "shell.execute_reply.started": "2024-11-03T11:35:28.590251Z"
    },
    "scrolled": true
   },
   "outputs": [
    {
     "name": "stderr",
     "output_type": "stream",
     "text": [
      "  5%|████▏                                                                              | 1/20 [00:05<01:46,  5.59s/it]"
     ]
    },
    {
     "name": "stdout",
     "output_type": "stream",
     "text": [
      "Epoch [0/20], Generator Loss: -0.0095, Discriminator Loss: -0.0054\n",
      "Validation loss decreased (inf --> -0.005381).  Saving model ...\n"
     ]
    },
    {
     "name": "stderr",
     "output_type": "stream",
     "text": [
      " 10%|████████▎                                                                          | 2/20 [00:11<01:39,  5.53s/it]"
     ]
    },
    {
     "name": "stdout",
     "output_type": "stream",
     "text": [
      "Epoch [1/20], Generator Loss: -0.0110, Discriminator Loss: -0.0079\n",
      "Validation loss decreased (-0.005381 --> -0.007938).  Saving model ...\n"
     ]
    },
    {
     "name": "stderr",
     "output_type": "stream",
     "text": [
      " 15%|████████████▍                                                                      | 3/20 [00:16<01:34,  5.53s/it]"
     ]
    },
    {
     "name": "stdout",
     "output_type": "stream",
     "text": [
      "Epoch [2/20], Generator Loss: -0.0089, Discriminator Loss: -0.0079\n",
      "EarlyStopping counter: 1 out of 5\n"
     ]
    },
    {
     "name": "stderr",
     "output_type": "stream",
     "text": [
      " 20%|████████████████▌                                                                  | 4/20 [00:22<01:28,  5.52s/it]"
     ]
    },
    {
     "name": "stdout",
     "output_type": "stream",
     "text": [
      "Epoch [3/20], Generator Loss: -0.0098, Discriminator Loss: -0.0079\n",
      "EarlyStopping counter: 2 out of 5\n"
     ]
    },
    {
     "name": "stderr",
     "output_type": "stream",
     "text": [
      " 25%|████████████████████▊                                                              | 5/20 [00:27<01:22,  5.51s/it]"
     ]
    },
    {
     "name": "stdout",
     "output_type": "stream",
     "text": [
      "Epoch [4/20], Generator Loss: -0.0095, Discriminator Loss: -0.0079\n",
      "EarlyStopping counter: 3 out of 5\n"
     ]
    },
    {
     "name": "stderr",
     "output_type": "stream",
     "text": [
      " 30%|████████████████████████▉                                                          | 6/20 [00:33<01:16,  5.49s/it]"
     ]
    },
    {
     "name": "stdout",
     "output_type": "stream",
     "text": [
      "Epoch [5/20], Generator Loss: -0.0115, Discriminator Loss: -0.0079\n",
      "EarlyStopping counter: 4 out of 5\n"
     ]
    },
    {
     "name": "stderr",
     "output_type": "stream",
     "text": [
      " 35%|█████████████████████████████                                                      | 7/20 [00:38<01:12,  5.57s/it]"
     ]
    },
    {
     "name": "stdout",
     "output_type": "stream",
     "text": [
      "Epoch [6/20], Generator Loss: -0.0095, Discriminator Loss: -0.0079\n",
      "Validation loss decreased (-0.007938 --> -0.007939).  Saving model ...\n"
     ]
    },
    {
     "name": "stderr",
     "output_type": "stream",
     "text": [
      " 40%|█████████████████████████████████▏                                                 | 8/20 [00:44<01:07,  5.62s/it]"
     ]
    },
    {
     "name": "stdout",
     "output_type": "stream",
     "text": [
      "Epoch [7/20], Generator Loss: -0.0094, Discriminator Loss: -0.0079\n",
      "EarlyStopping counter: 1 out of 5\n"
     ]
    },
    {
     "name": "stderr",
     "output_type": "stream",
     "text": [
      " 45%|█████████████████████████████████████▎                                             | 9/20 [00:50<01:01,  5.59s/it]"
     ]
    },
    {
     "name": "stdout",
     "output_type": "stream",
     "text": [
      "Epoch [8/20], Generator Loss: -0.0100, Discriminator Loss: -0.0079\n",
      "EarlyStopping counter: 2 out of 5\n"
     ]
    },
    {
     "name": "stderr",
     "output_type": "stream",
     "text": [
      " 50%|█████████████████████████████████████████                                         | 10/20 [00:55<00:55,  5.58s/it]"
     ]
    },
    {
     "name": "stdout",
     "output_type": "stream",
     "text": [
      "Epoch [9/20], Generator Loss: -0.0103, Discriminator Loss: -0.0079\n",
      "EarlyStopping counter: 3 out of 5\n"
     ]
    },
    {
     "name": "stderr",
     "output_type": "stream",
     "text": [
      " 55%|█████████████████████████████████████████████                                     | 11/20 [01:01<00:50,  5.58s/it]"
     ]
    },
    {
     "name": "stdout",
     "output_type": "stream",
     "text": [
      "Epoch [10/20], Generator Loss: -0.0107, Discriminator Loss: -0.0080\n",
      "Validation loss decreased (-0.007939 --> -0.008035).  Saving model ...\n"
     ]
    },
    {
     "name": "stderr",
     "output_type": "stream",
     "text": [
      " 60%|█████████████████████████████████████████████████▏                                | 12/20 [01:06<00:44,  5.59s/it]"
     ]
    },
    {
     "name": "stdout",
     "output_type": "stream",
     "text": [
      "Epoch [11/20], Generator Loss: -0.0112, Discriminator Loss: -0.0079\n",
      "EarlyStopping counter: 1 out of 5\n"
     ]
    },
    {
     "name": "stderr",
     "output_type": "stream",
     "text": [
      " 65%|█████████████████████████████████████████████████████▎                            | 13/20 [01:12<00:39,  5.65s/it]"
     ]
    },
    {
     "name": "stdout",
     "output_type": "stream",
     "text": [
      "Epoch [12/20], Generator Loss: -0.0108, Discriminator Loss: -0.0079\n",
      "EarlyStopping counter: 2 out of 5\n"
     ]
    },
    {
     "name": "stderr",
     "output_type": "stream",
     "text": [
      " 70%|█████████████████████████████████████████████████████████▍                        | 14/20 [01:18<00:34,  5.72s/it]"
     ]
    },
    {
     "name": "stdout",
     "output_type": "stream",
     "text": [
      "Epoch [13/20], Generator Loss: -0.0094, Discriminator Loss: -0.0079\n",
      "EarlyStopping counter: 3 out of 5\n"
     ]
    },
    {
     "name": "stderr",
     "output_type": "stream",
     "text": [
      " 75%|█████████████████████████████████████████████████████████████▌                    | 15/20 [01:24<00:28,  5.71s/it]"
     ]
    },
    {
     "name": "stdout",
     "output_type": "stream",
     "text": [
      "Epoch [14/20], Generator Loss: -0.0098, Discriminator Loss: -0.0079\n",
      "EarlyStopping counter: 4 out of 5\n"
     ]
    },
    {
     "name": "stderr",
     "output_type": "stream",
     "text": [
      " 75%|█████████████████████████████████████████████████████████████▌                    | 15/20 [01:29<00:29,  5.99s/it]"
     ]
    },
    {
     "name": "stdout",
     "output_type": "stream",
     "text": [
      "Epoch [15/20], Generator Loss: -0.0107, Discriminator Loss: -0.0079\n",
      "EarlyStopping counter: 5 out of 5\n",
      "Early stopping!\n"
     ]
    },
    {
     "name": "stderr",
     "output_type": "stream",
     "text": [
      "\n"
     ]
    },
    {
     "data": {
      "image/png": "[encoded data removed]",
      "text/plain": [
       "<Figure size 1000x500 with 1 Axes>"
      ]
     },
     "metadata": {},
     "output_type": "display_data"
    }
   ],
   "source": [
    "# 构造参数字典\n",
    "params3 = {\n",
    "    \"train_args\": {\n",
    "        \"generator_name\": Generator,\n",
    "        \"discriminator_name\": Discriminator,\n",
    "        \"train_loader\": train_loader,\n",
    "        \"valid_loader\": valid_loader,\n",
    "        \"n_epochs\": 20,\n",
    "        \"patience\": 5,\n",
    "        \"learning_rate\": 0.001,\n",
    "        \"model_path\": \"../outputs/best_models/GAN\",\n",
    "        \"device\": 'cuda',\n",
    "        \"verbose\": True,\n",
    "        \"plots\": True,\n",
    "        \"clip_value\": 0.01,\n",
    "        \"batch_size\": 32,\n",
    "        \"seq_len\": 6,\n",
    "    },\n",
    "    \"generator_args\": {\n",
    "        'c_in': 2,\n",
    "        'd_model': 128,\n",
    "        'c_out': 2,\n",
    "        'dropout': 0.1\n",
    "    },\n",
    "    \"discriminator_args\": {\n",
    "        'c_in': 2,\n",
    "        'd_model': 128,\n",
    "        'ex_model': 64,\n",
    "        'dropout': 0.1\n",
    "    },\n",
    "}\n",
    "generator = train(**params3)"
   ]
  },
  {
   "cell_type": "markdown",
   "id": "f6e4ff43",
   "metadata": {},
   "source": [
    "## 数据生成"
   ]
  },
  {
   "cell_type": "code",
   "execution_count": 64,
   "id": "1b110f25-0504-47e0-a745-7e8727c38a28",
   "metadata": {
    "execution": {
     "iopub.execute_input": "2024-11-03T11:40:44.457156Z",
     "iopub.status.busy": "2024-11-03T11:40:44.456155Z",
     "iopub.status.idle": "2024-11-03T11:40:44.469674Z",
     "shell.execute_reply": "2024-11-03T11:40:44.468673Z",
     "shell.execute_reply.started": "2024-11-03T11:40:44.457156Z"
    }
   },
   "outputs": [],
   "source": [
    "# 生成单步数据\n",
    "def generator_gan(data, seq_len, c_out, num_samples, scaler, device, model):\n",
    "    # 设定参数\n",
    "    batch_size = 1 # 默认每次只生成一组\n",
    "    nums = data.shape[0]\n",
    "    data = scaler.fit_transform(data.values.astype('float32'))\n",
    "    # 检查可用device\n",
    "    device = torch.device(device)\n",
    "\n",
    "    # 生成新样本\n",
    "    samples = []\n",
    "    for i in range(num_samples):\n",
    "        # 使用模型先跑一组数据，每次跑数据隐藏层维度都会变，会和之后跑的数据分布相同\n",
    "        k = np.random.randint(0, nums-seq_len) # 随机生成一个整数\n",
    "        input_data = torch.tensor(data[k:k+seq_len, :]).unsqueeze(0) # 随机抽样\n",
    "        input_data = input_data.to(device) # 将数据应用到GPU\n",
    "        # 确保梯度不变\n",
    "        with torch.no_grad():\n",
    "            model.eval()\n",
    "            y_pred = model(input_data) # 使隐藏层输入batch_size变为1\n",
    "    \n",
    "        # 在潜在空间中生成一个随机样本\n",
    "        new_input_data = torch.randn((batch_size, seq_len, c_out))  \n",
    "        new_input_data = new_input_data.to(device) \n",
    "        with torch.no_grad():\n",
    "            model.eval()\n",
    "            generated_samples = model(new_input_data)\n",
    "            generated_samples = generated_samples[:, -1, :] # 取最后一组数据\n",
    "            generated_samples = generated_samples.cpu().detach().numpy()\n",
    "            generated_samples = scaler.inverse_transform(generated_samples) # 反归一化\n",
    "            samples.append(generated_samples)\n",
    "\n",
    "    # 重塑维度\n",
    "    samples = np.squeeze(np.array(samples))\n",
    "    \n",
    "    return samples"
   ]
  },
  {
   "cell_type": "code",
   "execution_count": 65,
   "id": "a9634f1b",
   "metadata": {
    "ExecuteTime": {
     "end_time": "2024-01-10T03:32:15.374642Z",
     "start_time": "2024-01-10T03:32:13.473207Z"
    },
    "execution": {
     "iopub.execute_input": "2024-11-03T11:40:50.951839Z",
     "iopub.status.busy": "2024-11-03T11:40:50.951839Z",
     "iopub.status.idle": "2024-11-03T11:40:54.652652Z",
     "shell.execute_reply": "2024-11-03T11:40:54.651744Z",
     "shell.execute_reply.started": "2024-11-03T11:40:50.951839Z"
    }
   },
   "outputs": [],
   "source": [
    "# 生成时序数据\n",
    "params4 = {\n",
    "    \"data\": ts_data,\n",
    "    \"seq_len\": 6,\n",
    "    \"c_out\": 2,\n",
    "    \"num_samples\": 3000,\n",
    "    \"scaler\": x_scaler,\n",
    "    \"device\": 'cuda',\n",
    "    \"model\": generator,\n",
    "}\n",
    "new_data = generator_gan(**params4)"
   ]
  },
  {
   "cell_type": "markdown",
   "id": "b54328c6",
   "metadata": {},
   "source": [
    "## 分布差异"
   ]
  },
  {
   "cell_type": "code",
   "execution_count": 62,
   "id": "bddd6dc8",
   "metadata": {
    "ExecuteTime": {
     "end_time": "2024-01-10T03:32:25.977238Z",
     "start_time": "2024-01-10T03:32:25.637985Z"
    },
    "execution": {
     "iopub.execute_input": "2024-11-03T11:40:08.598304Z",
     "iopub.status.busy": "2024-11-03T11:40:08.597351Z",
     "iopub.status.idle": "2024-11-03T11:40:09.013529Z",
     "shell.execute_reply": "2024-11-03T11:40:09.011816Z",
     "shell.execute_reply.started": "2024-11-03T11:40:08.598304Z"
    }
   },
   "outputs": [
    {
     "name": "stdout",
     "output_type": "stream",
     "text": [
      "KL散度: 3.147503386149521\n"
     ]
    },
    {
     "data": {
      "image/png": "[encoded data removed]",
      "text/plain": [
       "<Figure size 640x440 with 1 Axes>"
      ]
     },
     "metadata": {},
     "output_type": "display_data"
    },
    {
     "data": {
      "image/png": "[encoded data removed]",
      "text/plain": [
       "<Figure size 640x440 with 1 Axes>"
      ]
     },
     "metadata": {},
     "output_type": "display_data"
    }
   ],
   "source": [
    "import numpy as np\n",
    "import matplotlib.pyplot as plt\n",
    "from scipy.stats import entropy\n",
    "\n",
    "np.random.seed(42)\n",
    "data1 = new_data[:,0]\n",
    "data2 = ts_data['load'].values\n",
    "\n",
    "# 生成两个直方图\n",
    "hist1, bins1 = np.histogram(data1, bins=50, density=True) # hist等于频率/组距\n",
    "hist2, bins2 = np.histogram(data2, bins=50, density=True)\n",
    "\n",
    "# 计算每个区间的概率密度\n",
    "pdf1 = hist1 / np.sum(hist1)\n",
    "pdf2 = hist2 / np.sum(hist2)\n",
    "\n",
    "# 计算KL散度\n",
    "kl_divergence = entropy(pdf1, pdf2)\n",
    "\n",
    "# 打印结果\n",
    "print(\"KL散度:\", kl_divergence)\n",
    "\n",
    "# 绘制直方图和概率密度函数\n",
    "plt.figure()\n",
    "plt.hist(data1, bins=bins1, density=True, alpha=0.3, color='#11b3b6', label='Data 1', histtype='stepfilled' )\n",
    "plt.hist(data2, bins=bins2, density=True, alpha=0.3, color='#f14643', label='Data 2', histtype='stepfilled')\n",
    "plt.legend() \n",
    "plt.title('频率直方图')\n",
    "\n",
    "plt.figure()\n",
    "plt.plot((bins1[:-1] + bins1[1:]) / 2, pdf1, color='#11b3b6', linestyle='dashed', linewidth=2, label='PDF 1')\n",
    "plt.plot((bins2[:-1] + bins2[1:]) / 2, pdf2, color='#f14643', linestyle='dashed', linewidth=2, label='PDF 2')\n",
    "# 显示图例和标题\n",
    "plt.legend()\n",
    "plt.title('概率密度图')\n",
    "\n",
    "plt.show()"
   ]
  },
  {
   "cell_type": "markdown",
   "id": "698c5a7b",
   "metadata": {},
   "source": [
    "# VAE（变分自编码器）"
   ]
  },
  {
   "cell_type": "markdown",
   "id": "e5ff11e4",
   "metadata": {},
   "source": [
    "详见05.时间序列"
   ]
  },
  {
   "cell_type": "markdown",
   "id": "56536cbe",
   "metadata": {
    "slideshow": {
     "slide_type": ""
    },
    "tags": []
   },
   "source": [
    "## 数据准备"
   ]
  },
  {
   "cell_type": "code",
   "execution_count": 97,
   "id": "bbcbdcc0-9558-4815-94b7-ae8b44f235e1",
   "metadata": {
    "execution": {
     "iopub.execute_input": "2024-11-03T12:09:59.819644Z",
     "iopub.status.busy": "2024-11-03T12:09:59.817651Z",
     "iopub.status.idle": "2024-11-03T12:09:59.903650Z",
     "shell.execute_reply": "2024-11-03T12:09:59.902653Z",
     "shell.execute_reply.started": "2024-11-03T12:09:59.819644Z"
    }
   },
   "outputs": [
    {
     "data": {
      "text/html": [
       "<div>\n",
       "<style scoped>\n",
       "    .dataframe tbody tr th:only-of-type {\n",
       "        vertical-align: middle;\n",
       "    }\n",
       "\n",
       "    .dataframe tbody tr th {\n",
       "        vertical-align: top;\n",
       "    }\n",
       "\n",
       "    .dataframe thead th {\n",
       "        text-align: right;\n",
       "    }\n",
       "</style>\n",
       "<table border=\"1\" class=\"dataframe\">\n",
       "  <thead>\n",
       "    <tr style=\"text-align: right;\">\n",
       "      <th></th>\n",
       "      <th>load</th>\n",
       "      <th>temp</th>\n",
       "    </tr>\n",
       "  </thead>\n",
       "  <tbody>\n",
       "    <tr>\n",
       "      <th>2012-01-01 00:00:00</th>\n",
       "      <td>2698.0</td>\n",
       "      <td>32.00</td>\n",
       "    </tr>\n",
       "    <tr>\n",
       "      <th>2012-01-01 01:00:00</th>\n",
       "      <td>2558.0</td>\n",
       "      <td>32.67</td>\n",
       "    </tr>\n",
       "    <tr>\n",
       "      <th>2012-01-01 02:00:00</th>\n",
       "      <td>2444.0</td>\n",
       "      <td>30.00</td>\n",
       "    </tr>\n",
       "    <tr>\n",
       "      <th>2012-01-01 03:00:00</th>\n",
       "      <td>2402.0</td>\n",
       "      <td>31.00</td>\n",
       "    </tr>\n",
       "    <tr>\n",
       "      <th>2012-01-01 04:00:00</th>\n",
       "      <td>2403.0</td>\n",
       "      <td>32.00</td>\n",
       "    </tr>\n",
       "    <tr>\n",
       "      <th>...</th>\n",
       "      <td>...</td>\n",
       "      <td>...</td>\n",
       "    </tr>\n",
       "    <tr>\n",
       "      <th>2014-12-31 19:00:00</th>\n",
       "      <td>4012.0</td>\n",
       "      <td>18.00</td>\n",
       "    </tr>\n",
       "    <tr>\n",
       "      <th>2014-12-31 20:00:00</th>\n",
       "      <td>3856.0</td>\n",
       "      <td>16.67</td>\n",
       "    </tr>\n",
       "    <tr>\n",
       "      <th>2014-12-31 21:00:00</th>\n",
       "      <td>3671.0</td>\n",
       "      <td>17.00</td>\n",
       "    </tr>\n",
       "    <tr>\n",
       "      <th>2014-12-31 22:00:00</th>\n",
       "      <td>3499.0</td>\n",
       "      <td>15.33</td>\n",
       "    </tr>\n",
       "    <tr>\n",
       "      <th>2014-12-31 23:00:00</th>\n",
       "      <td>3345.0</td>\n",
       "      <td>15.33</td>\n",
       "    </tr>\n",
       "  </tbody>\n",
       "</table>\n",
       "<p>26304 rows × 2 columns</p>\n",
       "</div>"
      ],
      "text/plain": [
       "                       load   temp\n",
       "2012-01-01 00:00:00  2698.0  32.00\n",
       "2012-01-01 01:00:00  2558.0  32.67\n",
       "2012-01-01 02:00:00  2444.0  30.00\n",
       "2012-01-01 03:00:00  2402.0  31.00\n",
       "2012-01-01 04:00:00  2403.0  32.00\n",
       "...                     ...    ...\n",
       "2014-12-31 19:00:00  4012.0  18.00\n",
       "2014-12-31 20:00:00  3856.0  16.67\n",
       "2014-12-31 21:00:00  3671.0  17.00\n",
       "2014-12-31 22:00:00  3499.0  15.33\n",
       "2014-12-31 23:00:00  3345.0  15.33\n",
       "\n",
       "[26304 rows x 2 columns]"
      ]
     },
     "execution_count": 97,
     "metadata": {},
     "output_type": "execute_result"
    }
   ],
   "source": [
    "data_path = \"../outputs/datasets/energy.csv\"\n",
    "ts_data = loader(data_path=data_path, data=None, time_col='time')\n",
    "ts_data"
   ]
  },
  {
   "cell_type": "code",
   "execution_count": 98,
   "id": "14a0e08b-e9fe-43c1-9eac-3b67b380e5dc",
   "metadata": {
    "execution": {
     "iopub.execute_input": "2024-11-03T12:10:00.293141Z",
     "iopub.status.busy": "2024-11-03T12:10:00.291152Z",
     "iopub.status.idle": "2024-11-03T12:10:00.387592Z",
     "shell.execute_reply": "2024-11-03T12:10:00.386623Z",
     "shell.execute_reply.started": "2024-11-03T12:10:00.293141Z"
    }
   },
   "outputs": [
    {
     "name": "stdout",
     "output_type": "stream",
     "text": [
      "x_train shape: (18412, 2) y_train shape: (18412, 2) stamp_train shape: (18412, 4)\n",
      "x_valid shape: (2631, 2) y_valid shape: (2631, 2) stamp_valid shape: (2631, 4)\n",
      "x_test shape: (5261, 2) y_test shape: (5261, 2) stamp_test shape: (5261, 4)\n"
     ]
    }
   ],
   "source": [
    "# 数据划分\n",
    "params1 = {\n",
    "    \"df\": ts_data,\n",
    "    \"train_ratio\": 0.7,\n",
    "    \"valid_ratio\": 0.1,\n",
    "    \"x_feature_list\": ['load', 'temp'],\n",
    "    \"y_feature_list\": ['load', 'temp'],\n",
    "    \"freq\": 'h',\n",
    "    \"scaler_path\": '../outputs/scalers/VAE'\n",
    "}\n",
    "\n",
    "# 函数传参\n",
    "x_scaler, y_scaler, train_data, valid_data, test_data = divider(**params1)\n",
    "print(\"x_train shape: {0} y_train shape: {1} stamp_train shape: {2}\".format(\n",
    "    train_data[0].shape, train_data[1].shape, train_data[2].shape))\n",
    "print(\"x_valid shape: {0} y_valid shape: {1} stamp_valid shape: {2}\".format(\n",
    "    valid_data[0].shape, valid_data[1].shape, valid_data[2].shape))\n",
    "print(\"x_test shape: {0} y_test shape: {1} stamp_test shape: {2}\".format(\n",
    "    test_data[0].shape, test_data[1].shape, test_data[2].shape))"
   ]
  },
  {
   "cell_type": "code",
   "execution_count": 99,
   "id": "83b4bdb9-4b4f-4bf8-82a0-952b6dd176e5",
   "metadata": {
    "execution": {
     "iopub.execute_input": "2024-11-03T12:10:00.852545Z",
     "iopub.status.busy": "2024-11-03T12:10:00.849726Z",
     "iopub.status.idle": "2024-11-03T12:10:02.110353Z",
     "shell.execute_reply": "2024-11-03T12:10:02.109404Z",
     "shell.execute_reply.started": "2024-11-03T12:10:00.852454Z"
    }
   },
   "outputs": [
    {
     "name": "stdout",
     "output_type": "stream",
     "text": [
      "X_size: torch.Size([18407, 6, 2]),y_size: torch.Size([18407, 6, 2]),loader_len: 576\n",
      "X_size: torch.Size([2626, 6, 2]),y_size: torch.Size([2626, 6, 2]),loader_len: 83\n",
      "X_size: torch.Size([5256, 6, 2]),y_size: torch.Size([5256, 6, 2]),loader_len: 165\n"
     ]
    }
   ],
   "source": [
    "# 构造参数字典\n",
    "params2 = {\n",
    "    \"seq_len\": 6,\n",
    "    \"pred_len\": 0,\n",
    "    \"label_len\": 0,\n",
    "    \"batch_size\": 32,\n",
    "}\n",
    "X_train, y_train, X_train_stamp, y_train_stamp, train_loader = generator(\n",
    "    train_data, **params2)\n",
    "X_valid, y_valid, X_valid_stamp, y_valid_stamp, valid_loader = generator(\n",
    "    valid_data, **params2)\n",
    "X_test, y_test, X_test_stamp, y_test_stamp, test_loader = generator(\n",
    "    test_data, **params2)\n",
    "print(\"X_size: {0},y_size: {1},loader_len: {2}\".format(\n",
    "    X_train.shape, y_train.shape, len(train_loader)))\n",
    "print(\"X_size: {0},y_size: {1},loader_len: {2}\".format(\n",
    "    X_valid.shape, y_valid.shape, len(valid_loader)))\n",
    "print(\"X_size: {0},y_size: {1},loader_len: {2}\".format(\n",
    "    X_test.shape, y_test.shape, len(test_loader)))"
   ]
  },
  {
   "cell_type": "markdown",
   "id": "aea2881b-7307-45b4-856e-b4248ef006c6",
   "metadata": {},
   "source": [
    "## 模型定义"
   ]
  },
  {
   "cell_type": "code",
   "execution_count": 100,
   "id": "bc010297-62f3-4c0b-a033-135835a22797",
   "metadata": {
    "execution": {
     "iopub.execute_input": "2024-11-03T12:10:03.646302Z",
     "iopub.status.busy": "2024-11-03T12:10:03.644936Z",
     "iopub.status.idle": "2024-11-03T12:10:03.687047Z",
     "shell.execute_reply": "2024-11-03T12:10:03.685045Z",
     "shell.execute_reply.started": "2024-11-03T12:10:03.646302Z"
    }
   },
   "outputs": [],
   "source": [
    "# 定义变分自编码器模型\n",
    "class VAE(nn.Module):\n",
    "    def __init__(self, c_in, d_model, ex_model):\n",
    "        super(VAE, self).__init__()\n",
    "\n",
    "        # Encoder\n",
    "        self.encoder_lstm = nn.LSTM(\n",
    "            c_in, d_model, num_layers=1, batch_first=True, bidirectional=True)  # LSTM用于编码输入序列\n",
    "        self.fc_mean = nn.Linear(d_model*2, ex_model)  # 输出均值\n",
    "        self.fc_logvar = nn.Linear(d_model*2, ex_model)  # 输出对数方差\n",
    "\n",
    "        # Decoder\n",
    "        self.decoder_lstm = nn.LSTM(\n",
    "            ex_model, d_model, num_layers=1, batch_first=True, bidirectional=True)  # LSTM用于解码潜在表示\n",
    "        self.fc_output = nn.Linear(d_model*2, c_in)  # 输出重建的序列\n",
    "\n",
    "    def encode(self, x):\n",
    "        x, (encoder_hidden, encoder_cell) = self.encoder_lstm(x)  # LSTM编码器的输出\n",
    "        mean = self.fc_mean(x)  # 计算均值\n",
    "        logvar = self.fc_logvar(x)  # 计算对数方差\n",
    "        return mean, logvar, encoder_hidden, encoder_cell\n",
    "\n",
    "    def reparameterize(self, mean, logvar):\n",
    "        std = torch.exp(0.5 * logvar)  # 计算标准差\n",
    "        eps = torch.randn_like(std)  # 从标准正态分布中采样噪声，并生成一个与输入张量形状相同的张量，目的是对抗\n",
    "        return mean + eps * std  # 重新参数化，随着损失函数变小，使其服从标准正态分布\n",
    "\n",
    "    def decode(self, z):\n",
    "        decoder_hidden, decoder_cell = self.encoder_hidden, self.encoder_cell\n",
    "        x, _ = self.decoder_lstm(\n",
    "            z, (decoder_hidden, decoder_cell))  # z服从标准正态分布\n",
    "        x = self.fc_output(x)  # 输出重建的序列\n",
    "        return x\n",
    "\n",
    "    def forward(self, x):\n",
    "        mean, logvar, self.encoder_hidden, self.encoder_cell = self.encode(\n",
    "            x)  # 编码输入序列\n",
    "        # 重参数化，形状为(batch_size, seq_len, latent_dim)\n",
    "        z = self.reparameterize(mean, logvar)\n",
    "        x_recon = self.decode(z)  # 解码潜在表示\n",
    "        return x_recon, mean, logvar"
   ]
  },
  {
   "cell_type": "markdown",
   "id": "02bef9d8",
   "metadata": {},
   "source": [
    "## 模型训练"
   ]
  },
  {
   "cell_type": "code",
   "execution_count": 101,
   "id": "490a2372",
   "metadata": {
    "ExecuteTime": {
     "end_time": "2024-01-09T06:52:48.217655Z",
     "start_time": "2024-01-09T06:52:48.200955Z"
    },
    "execution": {
     "iopub.execute_input": "2024-11-03T12:10:05.000324Z",
     "iopub.status.busy": "2024-11-03T12:10:04.998332Z",
     "iopub.status.idle": "2024-11-03T12:10:05.065548Z",
     "shell.execute_reply": "2024-11-03T12:10:05.064571Z",
     "shell.execute_reply.started": "2024-11-03T12:10:05.000324Z"
    }
   },
   "outputs": [],
   "source": [
    "def train(train_args, model_args):\n",
    "    # 参数配置\n",
    "    model_name = train_args['model_name']  # 模型名称\n",
    "    train_loader = train_args['train_loader']  # 训练集\n",
    "    valid_loader = train_args['valid_loader']  # 验证集\n",
    "    n_epochs = train_args['n_epochs']  # 训练次数\n",
    "    learning_rate = train_args['learning_rate']  # 学习率\n",
    "    model_path = train_args['model_path']  # 模型保存路径\n",
    "    verbose = train_args['verbose']  # 打印训练过程\n",
    "    plots = train_args['plots']  # 绘制损失图\n",
    "    device = train_args['device']  # 可选'cuda'和'cpu'\n",
    "    patience = train_args['patience']\n",
    "    loss = train_args['loss'] # 损失函数\n",
    "\n",
    "    # 检查可用device\n",
    "    device = torch.device(device)\n",
    "\n",
    "    # 设置早停\n",
    "    class EarlyStopping():\n",
    "        def __init__(self, patience=7, verbose=False, delta=0):\n",
    "            self.patience = patience  # 连续超限次数，如果满足条件，则早停\n",
    "            self.verbose = verbose\n",
    "            self.counter = 0\n",
    "            self.best_score = None\n",
    "            self.early_stop = False\n",
    "            self.val_loss_min = np.Inf\n",
    "            self.delta = delta\n",
    "\n",
    "        def __call__(self, val_loss, model, path):\n",
    "            score = -val_loss\n",
    "            if self.best_score is None:\n",
    "                self.best_score = score\n",
    "                self.save_checkpoint(val_loss, model, path)\n",
    "            elif score < self.best_score + self.delta:\n",
    "                self.counter += 1\n",
    "                print(\n",
    "                    f'EarlyStopping counter: {self.counter} out of {self.patience}')\n",
    "                if self.counter >= self.patience:\n",
    "                    self.early_stop = True\n",
    "            else:\n",
    "                self.best_score = score\n",
    "                self.save_checkpoint(val_loss, model, path)\n",
    "                self.counter = 0\n",
    "\n",
    "        def save_checkpoint(self, val_loss, model, path):\n",
    "            if self.verbose:\n",
    "                print(\n",
    "                    f'Validation loss decreased ({self.val_loss_min:.6f} --> {val_loss:.6f}).  Saving model ...')\n",
    "            torch.save(model.state_dict(), path + '/' + 'checkpoint.pth')\n",
    "            self.val_loss_min = val_loss\n",
    "    early_stopping = EarlyStopping(patience=patience, verbose=verbose)\n",
    "\n",
    "    # 设置保存模型路径\n",
    "    if not os.path.exists(model_path):\n",
    "        os.makedirs(model_path)\n",
    "\n",
    "    # 定义变分自编码器的损失函数\n",
    "    def vae_loss(x_recon, x, mean, logvar):\n",
    "        # 重建损失（MSE损失）\n",
    "        recon_loss = nn.functional.mse_loss(x_recon, x)\n",
    "\n",
    "        # KL散度损失，KL散度通常用于衡量潜在空间中的编码分布与先验分布（通常是标准正态分布）之间的差异。\n",
    "        kl_loss = -0.5 * torch.sum(1 + logvar - mean.pow(2) - logvar.exp()) # 散度越小意味着两个分布越接近\n",
    "\n",
    "        return recon_loss + kl_loss\n",
    "\n",
    "    # 创建模型和优化器\n",
    "    model = model_name(**model_args).to(device)\n",
    "    optimizer = optim.Adam(model.parameters(), lr=learning_rate)\n",
    "    loss_fn = loss\n",
    "\n",
    "    # 损失函数值\n",
    "    train_losses, val_losses = [], []\n",
    "    for epoch in tqdm(range(n_epochs)):\n",
    "        model.train()\n",
    "        total_train_loss = 0\n",
    "        for batch_x, batch_y, batch_x_mark, batch_y_mark in train_loader:\n",
    "            #将数据移至device\n",
    "            inputs_batch = batch_x.to(device)\n",
    "            targets_batch = batch_y.to(device)\n",
    "            # 清空梯度\n",
    "            optimizer.zero_grad()\n",
    "            x_recon, mean, logvar = model(inputs_batch)\n",
    "            train_loss = vae_loss(x_recon, inputs_batch, mean, logvar)\n",
    "            # 反向传播计算得到每个参数的梯度值\n",
    "            train_loss.backward()\n",
    "            # 通过梯度下降执行一步参数更新\n",
    "            optimizer.step()\n",
    "            #每个batch的loss和\n",
    "            total_train_loss += train_loss.item() # .item()表示只包含一个元素的tensor中提取值\n",
    "                \n",
    "        #每个epoch的损失平均\n",
    "        avg_train_loss = total_train_loss / len(train_loader)\n",
    "        \n",
    "        #所有epoch的loss\n",
    "        train_losses.append(avg_train_loss)\n",
    "        \n",
    "        #评估模型\n",
    "        model.eval()\n",
    "        #关闭自动求导功能，只使用训练好的模型进行预测或评估，不需要进行梯度计算和参数更新\n",
    "        with torch.no_grad():\n",
    "            total_val_loss = 0\n",
    "            for batch_x, batch_y, batch_x_mark, batch_y_mark in valid_loader:\n",
    "                #将数据移至 GPU\n",
    "                inputs_batch = batch_x.to(device)\n",
    "                targets_batch = batch_y.to(device)\n",
    "                x_recon, mean, logvar = model(inputs_batch)\n",
    "                val_loss = vae_loss(x_recon, inputs_batch, mean, logvar)\n",
    "                #每个batch的loss和\n",
    "                total_val_loss += val_loss.item()\n",
    "                \n",
    "        #每个epoch的损失平均\n",
    "        avg_val_loss = total_val_loss / len(valid_loader)\n",
    "        \n",
    "        #所有epoch的loss\n",
    "        val_losses.append(avg_val_loss)\n",
    "        \n",
    "        #打印训练过程\n",
    "        if verbose:\n",
    "            print(f'Epoch [{epoch+1}/{n_epochs}], Training Loss: {avg_train_loss:.4f}, Validation Loss: {avg_val_loss:.4f}')\n",
    "\n",
    "        # 设置早停\n",
    "        early_stopping(avg_val_loss, model, model_path)\n",
    "        if early_stopping.early_stop:\n",
    "            print(\"Early stopping!\")\n",
    "            break\n",
    "    \n",
    "    #绘制损失函数图\n",
    "    def plot_loss(train_losses, val_losses):\n",
    "        plt.figure(figsize=(10, 5))\n",
    "        plt.style.use('seaborn-v0_8-paper')  # 绘制背景色\n",
    "        plt.grid(axis='y', linewidth=0.35)  # 绘制网格\n",
    "        plt.plot(val_losses, linestyle='-', color='#11b3b6')\n",
    "        plt.plot(train_losses, linestyle='-', color='#f14643')\n",
    "        plt.xlabel(\"Epoch\")\n",
    "        plt.ylabel(\"Loss\")\n",
    "        plt.title(\"Training and Validation Progress\")\n",
    "        plt.legend([\"Validation\", \"Training\"])\n",
    "        plt.show()\n",
    "    if plots:\n",
    "        plot_loss(train_losses, val_losses)\n",
    "        \n",
    "    return model"
   ]
  },
  {
   "cell_type": "code",
   "execution_count": 86,
   "id": "6efb4bfe-f3e0-4ab2-99bd-ae9900ec1072",
   "metadata": {
    "execution": {
     "iopub.execute_input": "2024-11-03T12:07:42.385386Z",
     "iopub.status.busy": "2024-11-03T12:07:42.385386Z",
     "iopub.status.idle": "2024-11-03T12:09:05.866223Z",
     "shell.execute_reply": "2024-11-03T12:09:05.864188Z",
     "shell.execute_reply.started": "2024-11-03T12:07:42.385386Z"
    },
    "scrolled": true
   },
   "outputs": [
    {
     "name": "stderr",
     "output_type": "stream",
     "text": [
      "  5%|████▏                                                                              | 1/20 [00:04<01:20,  4.24s/it]"
     ]
    },
    {
     "name": "stdout",
     "output_type": "stream",
     "text": [
      "Epoch [1/20], Training Loss: 0.1021, Validation Loss: 0.0027\n",
      "Validation loss decreased (inf --> 0.002727).  Saving model ...\n"
     ]
    },
    {
     "name": "stderr",
     "output_type": "stream",
     "text": [
      " 10%|████████▎                                                                          | 2/20 [00:08<01:17,  4.31s/it]"
     ]
    },
    {
     "name": "stdout",
     "output_type": "stream",
     "text": [
      "Epoch [2/20], Training Loss: 0.0021, Validation Loss: 0.0014\n",
      "Validation loss decreased (0.002727 --> 0.001382).  Saving model ...\n"
     ]
    },
    {
     "name": "stderr",
     "output_type": "stream",
     "text": [
      " 15%|████████████▍                                                                      | 3/20 [00:12<01:11,  4.23s/it]"
     ]
    },
    {
     "name": "stdout",
     "output_type": "stream",
     "text": [
      "Epoch [3/20], Training Loss: 0.0012, Validation Loss: 0.0010\n",
      "Validation loss decreased (0.001382 --> 0.001041).  Saving model ...\n"
     ]
    },
    {
     "name": "stderr",
     "output_type": "stream",
     "text": [
      " 20%|████████████████▌                                                                  | 4/20 [00:16<01:07,  4.25s/it]"
     ]
    },
    {
     "name": "stdout",
     "output_type": "stream",
     "text": [
      "Epoch [4/20], Training Loss: 0.0008, Validation Loss: 0.0008\n",
      "Validation loss decreased (0.001041 --> 0.000759).  Saving model ...\n"
     ]
    },
    {
     "name": "stderr",
     "output_type": "stream",
     "text": [
      " 25%|████████████████████▊                                                              | 5/20 [00:21<01:02,  4.18s/it]"
     ]
    },
    {
     "name": "stdout",
     "output_type": "stream",
     "text": [
      "Epoch [5/20], Training Loss: 0.0006, Validation Loss: 0.0007\n",
      "Validation loss decreased (0.000759 --> 0.000675).  Saving model ...\n"
     ]
    },
    {
     "name": "stderr",
     "output_type": "stream",
     "text": [
      " 30%|████████████████████████▉                                                          | 6/20 [00:25<00:57,  4.12s/it]"
     ]
    },
    {
     "name": "stdout",
     "output_type": "stream",
     "text": [
      "Epoch [6/20], Training Loss: 0.0005, Validation Loss: 0.0005\n",
      "Validation loss decreased (0.000675 --> 0.000486).  Saving model ...\n"
     ]
    },
    {
     "name": "stderr",
     "output_type": "stream",
     "text": [
      " 35%|█████████████████████████████                                                      | 7/20 [00:29<00:53,  4.08s/it]"
     ]
    },
    {
     "name": "stdout",
     "output_type": "stream",
     "text": [
      "Epoch [7/20], Training Loss: 0.0004, Validation Loss: 0.0004\n",
      "Validation loss decreased (0.000486 --> 0.000446).  Saving model ...\n"
     ]
    },
    {
     "name": "stderr",
     "output_type": "stream",
     "text": [
      " 40%|█████████████████████████████████▏                                                 | 8/20 [00:33<00:49,  4.10s/it]"
     ]
    },
    {
     "name": "stdout",
     "output_type": "stream",
     "text": [
      "Epoch [8/20], Training Loss: 0.0004, Validation Loss: 0.0005\n",
      "EarlyStopping counter: 1 out of 5\n"
     ]
    },
    {
     "name": "stderr",
     "output_type": "stream",
     "text": [
      " 45%|█████████████████████████████████████▎                                             | 9/20 [00:37<00:45,  4.11s/it]"
     ]
    },
    {
     "name": "stdout",
     "output_type": "stream",
     "text": [
      "Epoch [9/20], Training Loss: 0.0004, Validation Loss: 0.0004\n",
      "Validation loss decreased (0.000446 --> 0.000434).  Saving model ...\n"
     ]
    },
    {
     "name": "stderr",
     "output_type": "stream",
     "text": [
      " 50%|█████████████████████████████████████████                                         | 10/20 [00:41<00:41,  4.11s/it]"
     ]
    },
    {
     "name": "stdout",
     "output_type": "stream",
     "text": [
      "Epoch [10/20], Training Loss: 0.0004, Validation Loss: 0.0005\n",
      "EarlyStopping counter: 1 out of 5\n"
     ]
    },
    {
     "name": "stderr",
     "output_type": "stream",
     "text": [
      " 55%|█████████████████████████████████████████████                                     | 11/20 [00:45<00:37,  4.13s/it]"
     ]
    },
    {
     "name": "stdout",
     "output_type": "stream",
     "text": [
      "Epoch [11/20], Training Loss: 0.0004, Validation Loss: 0.0003\n",
      "Validation loss decreased (0.000434 --> 0.000329).  Saving model ...\n"
     ]
    },
    {
     "name": "stderr",
     "output_type": "stream",
     "text": [
      " 60%|█████████████████████████████████████████████████▏                                | 12/20 [00:49<00:32,  4.09s/it]"
     ]
    },
    {
     "name": "stdout",
     "output_type": "stream",
     "text": [
      "Epoch [12/20], Training Loss: 0.0003, Validation Loss: 0.0006\n",
      "EarlyStopping counter: 1 out of 5\n"
     ]
    },
    {
     "name": "stderr",
     "output_type": "stream",
     "text": [
      " 65%|█████████████████████████████████████████████████████▎                            | 13/20 [00:53<00:28,  4.06s/it]"
     ]
    },
    {
     "name": "stdout",
     "output_type": "stream",
     "text": [
      "Epoch [13/20], Training Loss: 0.0003, Validation Loss: 0.0003\n",
      "EarlyStopping counter: 2 out of 5\n"
     ]
    },
    {
     "name": "stderr",
     "output_type": "stream",
     "text": [
      " 70%|█████████████████████████████████████████████████████████▍                        | 14/20 [00:57<00:24,  4.10s/it]"
     ]
    },
    {
     "name": "stdout",
     "output_type": "stream",
     "text": [
      "Epoch [14/20], Training Loss: 0.0003, Validation Loss: 0.0003\n",
      "Validation loss decreased (0.000329 --> 0.000307).  Saving model ...\n"
     ]
    },
    {
     "name": "stderr",
     "output_type": "stream",
     "text": [
      " 75%|█████████████████████████████████████████████████████████████▌                    | 15/20 [01:01<00:20,  4.08s/it]"
     ]
    },
    {
     "name": "stdout",
     "output_type": "stream",
     "text": [
      "Epoch [15/20], Training Loss: 0.0003, Validation Loss: 0.0006\n",
      "EarlyStopping counter: 1 out of 5\n"
     ]
    },
    {
     "name": "stderr",
     "output_type": "stream",
     "text": [
      " 80%|█████████████████████████████████████████████████████████████████▌                | 16/20 [01:06<00:16,  4.13s/it]"
     ]
    },
    {
     "name": "stdout",
     "output_type": "stream",
     "text": [
      "Epoch [16/20], Training Loss: 0.0002, Validation Loss: 0.0002\n",
      "Validation loss decreased (0.000307 --> 0.000238).  Saving model ...\n"
     ]
    },
    {
     "name": "stderr",
     "output_type": "stream",
     "text": [
      " 85%|█████████████████████████████████████████████████████████████████████▋            | 17/20 [01:10<00:12,  4.14s/it]"
     ]
    },
    {
     "name": "stdout",
     "output_type": "stream",
     "text": [
      "Epoch [17/20], Training Loss: 0.0002, Validation Loss: 0.0002\n",
      "Validation loss decreased (0.000238 --> 0.000204).  Saving model ...\n"
     ]
    },
    {
     "name": "stderr",
     "output_type": "stream",
     "text": [
      " 90%|█████████████████████████████████████████████████████████████████████████▊        | 18/20 [01:14<00:08,  4.17s/it]"
     ]
    },
    {
     "name": "stdout",
     "output_type": "stream",
     "text": [
      "Epoch [18/20], Training Loss: 0.0002, Validation Loss: 0.0002\n",
      "EarlyStopping counter: 1 out of 5\n"
     ]
    },
    {
     "name": "stderr",
     "output_type": "stream",
     "text": [
      " 95%|█████████████████████████████████████████████████████████████████████████████▉    | 19/20 [01:18<00:04,  4.25s/it]"
     ]
    },
    {
     "name": "stdout",
     "output_type": "stream",
     "text": [
      "Epoch [19/20], Training Loss: 0.0002, Validation Loss: 0.0004\n",
      "EarlyStopping counter: 2 out of 5\n"
     ]
    },
    {
     "name": "stderr",
     "output_type": "stream",
     "text": [
      "100%|██████████████████████████████████████████████████████████████████████████████████| 20/20 [01:23<00:00,  4.15s/it]"
     ]
    },
    {
     "name": "stdout",
     "output_type": "stream",
     "text": [
      "Epoch [20/20], Training Loss: 0.0002, Validation Loss: 0.0004\n",
      "EarlyStopping counter: 3 out of 5\n"
     ]
    },
    {
     "name": "stderr",
     "output_type": "stream",
     "text": [
      "\n"
     ]
    },
    {
     "data": {
      "image/png": "[encoded data removed]",
      "text/plain": [
       "<Figure size 1000x500 with 1 Axes>"
      ]
     },
     "metadata": {},
     "output_type": "display_data"
    }
   ],
   "source": [
    "# 构造参数字典\n",
    "params3 = {\n",
    "    \"train_args\": {\n",
    "        \"model_name\": VAE,\n",
    "        \"train_loader\": train_loader,\n",
    "        \"valid_loader\": valid_loader,\n",
    "        \"n_epochs\": 20,\n",
    "        \"patience\": 5,\n",
    "        \"learning_rate\": 0.001,\n",
    "        \"model_path\": \"../outputs/best_models/VAE\",\n",
    "        \"device\": 'cuda',\n",
    "        \"verbose\": True,\n",
    "        \"plots\": True,\n",
    "        \"loss\": nn.MSELoss(),\n",
    "    },\n",
    "    \"model_args\": {\n",
    "        'c_in': 2,\n",
    "        'd_model': 64,\n",
    "        'ex_model': 16\n",
    "    },\n",
    "}\n",
    "model = train(**params3)"
   ]
  },
  {
   "cell_type": "markdown",
   "id": "b10e40b2",
   "metadata": {},
   "source": [
    "## 数据生成"
   ]
  },
  {
   "cell_type": "code",
   "execution_count": 87,
   "id": "32d3927e",
   "metadata": {
    "ExecuteTime": {
     "end_time": "2024-01-09T06:53:54.745879Z",
     "start_time": "2024-01-09T06:53:54.738526Z"
    },
    "execution": {
     "iopub.execute_input": "2024-11-03T12:09:09.455422Z",
     "iopub.status.busy": "2024-11-03T12:09:09.454407Z",
     "iopub.status.idle": "2024-11-03T12:09:09.479959Z",
     "shell.execute_reply": "2024-11-03T12:09:09.478501Z",
     "shell.execute_reply.started": "2024-11-03T12:09:09.455422Z"
    }
   },
   "outputs": [],
   "source": [
    "# 生成单步数据\n",
    "def generator_vae(data, seq_len, ex_model, num_samples, scaler, device, model):\n",
    "    # 设定参数\n",
    "    batch_size = 1 # 默认每次只生成一组\n",
    "\n",
    "    # 检查可用device\n",
    "    device = torch.device(device)\n",
    "    nums = data.shape[0]\n",
    "    data = scaler.fit_transform(data.values.astype('float32'))\n",
    "\n",
    "    # 生成新样本\n",
    "    samples = []\n",
    "    for i in range(num_samples):\n",
    "        # 使用模型先跑一组数据，每次跑数据隐藏层维度都会变，会和之后跑的数据分布相同\n",
    "        k = np.random.randint(0, nums-seq_len) # 随机生成一个整数\n",
    "        input_data = torch.tensor(data[k:k+seq_len, :]).unsqueeze(0) # 随机抽样\n",
    "        input_data = input_data.to(device) # 将数据应用到GPU\n",
    "        with torch.no_grad():\n",
    "            model.eval()\n",
    "            y_pred, mean, logvar = model(input_data) # 使隐藏层输入batch_size变为1\n",
    "    \n",
    "        # 在潜在空间中生成一个随机样本\n",
    "        new_input_data = torch.randn((batch_size, seq_len, ex_model))  \n",
    "        new_input_data = new_input_data.to(device) \n",
    "        with torch.no_grad():\n",
    "            model.eval()\n",
    "            generated_samples = model.decode(new_input_data)\n",
    "            generated_samples = generated_samples[:, -1, :] # 取最后一组数据\n",
    "            generated_samples = generated_samples.cpu().detach().numpy()\n",
    "            generated_samples = scaler.inverse_transform(generated_samples) # 反归一化\n",
    "            samples.append(generated_samples)\n",
    "\n",
    "    # 重塑维度\n",
    "    samples = np.squeeze(np.array(samples))\n",
    "    \n",
    "    return samples"
   ]
  },
  {
   "cell_type": "code",
   "execution_count": 88,
   "id": "6519c7e1",
   "metadata": {
    "ExecuteTime": {
     "end_time": "2024-01-09T06:54:00.663977Z",
     "start_time": "2024-01-09T06:53:55.780989Z"
    },
    "execution": {
     "iopub.execute_input": "2024-11-03T12:09:10.411594Z",
     "iopub.status.busy": "2024-11-03T12:09:10.409751Z",
     "iopub.status.idle": "2024-11-03T12:09:15.638473Z",
     "shell.execute_reply": "2024-11-03T12:09:15.637501Z",
     "shell.execute_reply.started": "2024-11-03T12:09:10.410616Z"
    }
   },
   "outputs": [],
   "source": [
    "# 生成时序数据\n",
    "params4 = {\n",
    "    \"data\": ts_data,\n",
    "    \"seq_len\": 6,\n",
    "    \"ex_model\": 16,\n",
    "    \"num_samples\": 3000,\n",
    "    \"scaler\": x_scaler,\n",
    "    \"device\": 'cuda',\n",
    "    \"model\": model,\n",
    "}\n",
    "new_data = generator_vae(**params4)"
   ]
  },
  {
   "cell_type": "code",
   "execution_count": 103,
   "id": "e705e034-56f8-4a34-8c22-ff8193e5fdfb",
   "metadata": {
    "execution": {
     "iopub.execute_input": "2024-11-03T12:11:07.872807Z",
     "iopub.status.busy": "2024-11-03T12:11:07.872807Z",
     "iopub.status.idle": "2024-11-03T12:11:07.889995Z",
     "shell.execute_reply": "2024-11-03T12:11:07.888847Z",
     "shell.execute_reply.started": "2024-11-03T12:11:07.872807Z"
    }
   },
   "outputs": [
    {
     "data": {
      "text/plain": [
       "(3000, 2)"
      ]
     },
     "execution_count": 103,
     "metadata": {},
     "output_type": "execute_result"
    }
   ],
   "source": [
    "new_data.shape"
   ]
  },
  {
   "cell_type": "markdown",
   "id": "8c5145e0",
   "metadata": {},
   "source": [
    "## 分布差异"
   ]
  },
  {
   "cell_type": "code",
   "execution_count": 89,
   "id": "1f0fddf6",
   "metadata": {
    "ExecuteTime": {
     "end_time": "2024-01-09T06:54:07.832960Z",
     "start_time": "2024-01-09T06:54:07.512954Z"
    },
    "execution": {
     "iopub.execute_input": "2024-11-03T12:09:18.266641Z",
     "iopub.status.busy": "2024-11-03T12:09:18.266641Z",
     "iopub.status.idle": "2024-11-03T12:09:18.672436Z",
     "shell.execute_reply": "2024-11-03T12:09:18.671394Z",
     "shell.execute_reply.started": "2024-11-03T12:09:18.266641Z"
    }
   },
   "outputs": [
    {
     "name": "stdout",
     "output_type": "stream",
     "text": [
      "KL散度: 0.019296837927837752\n"
     ]
    },
    {
     "data": {
      "image/png": "[encoded data removed]",
      "text/plain": [
       "<Figure size 640x440 with 1 Axes>"
      ]
     },
     "metadata": {},
     "output_type": "display_data"
    },
    {
     "data": {
      "image/png": "[encoded data removed]",
      "text/plain": [
       "<Figure size 640x440 with 1 Axes>"
      ]
     },
     "metadata": {},
     "output_type": "display_data"
    }
   ],
   "source": [
    "import numpy as np\n",
    "import matplotlib.pyplot as plt\n",
    "from scipy.stats import entropy\n",
    "\n",
    "np.random.seed(42)\n",
    "data1 = new_data[:,0]\n",
    "data2 = ts_data['load'].values\n",
    "\n",
    "# 生成两个直方图\n",
    "hist1, bins1 = np.histogram(data1, bins=50, density=True) # hist等于频率/组距\n",
    "hist2, bins2 = np.histogram(data2, bins=50, density=True)\n",
    "\n",
    "# 计算每个区间的概率密度\n",
    "pdf1 = hist1 / np.sum(hist1)\n",
    "pdf2 = hist2 / np.sum(hist2)\n",
    "\n",
    "# 计算KL散度\n",
    "kl_divergence = entropy(pdf1, pdf2)\n",
    "\n",
    "# 打印结果\n",
    "print(\"KL散度:\", kl_divergence)\n",
    "\n",
    "# 绘制直方图和概率密度函数\n",
    "plt.figure()\n",
    "plt.hist(data1, bins=bins1, density=True, alpha=0.3, color='#11b3b6', label='Data 1', histtype='stepfilled' )\n",
    "plt.hist(data2, bins=bins2, density=True, alpha=0.3, color='#f14643', label='Data 2', histtype='stepfilled')\n",
    "plt.legend() \n",
    "plt.title('频率直方图')\n",
    "\n",
    "plt.figure()\n",
    "plt.plot((bins1[:-1] + bins1[1:]) / 2, pdf1, color='#11b3b6', linestyle='dashed', linewidth=2, label='PDF 1')\n",
    "plt.plot((bins2[:-1] + bins2[1:]) / 2, pdf2, color='#f14643', linestyle='dashed', linewidth=2, label='PDF 2')\n",
    "# 显示图例和标题\n",
    "plt.legend()\n",
    "plt.title('概率密度图')\n",
    "\n",
    "plt.show()"
   ]
  },
  {
   "cell_type": "code",
   "execution_count": null,
   "id": "ccf9947a",
   "metadata": {},
   "outputs": [],
   "source": []
  }
 ],
 "metadata": {
  "hide_input": false,
  "kernelspec": {
   "display_name": "Python 3 (ipykernel)",
   "language": "python",
   "name": "python3"
  },
  "language_info": {
   "codemirror_mode": {
    "name": "ipython",
    "version": 3
   },
   "file_extension": ".py",
   "mimetype": "text/x-python",
   "name": "python",
   "nbconvert_exporter": "python",
   "pygments_lexer": "ipython3",
   "version": "3.11.5"
  },
  "toc": {
   "base_numbering": 1,
   "nav_menu": {},
   "number_sections": true,
   "sideBar": true,
   "skip_h1_title": false,
   "title_cell": "Table of Contents",
   "title_sidebar": "Contents",
   "toc_cell": false,
   "toc_position": {
    "height": "calc(100% - 180px)",
    "left": "10px",
    "top": "150px",
    "width": "229.663px"
   },
   "toc_section_display": true,
   "toc_window_display": true
  },
  "varInspector": {
   "cols": {
    "lenName": 16,
    "lenType": 16,
    "lenVar": 40
   },
   "kernels_config": {
    "python": {
     "delete_cmd_postfix": "",
     "delete_cmd_prefix": "del ",
     "library": "var_list.py",
     "varRefreshCmd": "print(var_dic_list())"
    },
    "r": {
     "delete_cmd_postfix": ") ",
     "delete_cmd_prefix": "rm(",
     "library": "var_list.r",
     "varRefreshCmd": "cat(var_dic_list()) "
    }
   },
   "types_to_exclude": [
    "module",
    "function",
    "builtin_function_or_method",
    "instance",
    "_Feature"
   ],
   "window_display": false
  }
 },
 "nbformat": 4,
 "nbformat_minor": 5
}
