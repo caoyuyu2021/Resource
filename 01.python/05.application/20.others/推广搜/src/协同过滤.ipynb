{
 "cells": [
  {
   "cell_type": "code",
   "execution_count": 2,
   "id": "f136e671",
   "metadata": {
    "ExecuteTime": {
     "end_time": "2023-05-26T03:10:00.767164Z",
     "start_time": "2023-05-26T03:10:00.594350Z"
    }
   },
   "outputs": [
    {
     "name": "stdout",
     "output_type": "stream",
     "text": [
      "       ItemA  ItemB  ItemC  ItemD  ItemE\n",
      "User1      1      0      1      1      0\n",
      "User2      1      0      0      1      1\n",
      "User3      1      0      1      0      0\n",
      "User4      0      1      0      1      1\n",
      "User5      1      1      1      0      1\n",
      "用户之间的两两相似度：\n",
      "          User1     User2     User3     User4     User5\n",
      "User1  1.000000  0.444444  0.666667  0.111111  0.333333\n",
      "User2  0.444444  1.000000  0.166667  0.444444  0.333333\n",
      "User3  0.666667  0.166667  1.000000  0.000000  0.500000\n",
      "User4  0.111111  0.444444  0.000000  1.000000  0.333333\n",
      "User5  0.333333  0.333333  0.500000  0.333333  1.000000\n",
      "Top2相似用户：\n",
      "{'User1': ['User3', 'User2'], 'User2': ['User1', 'User4'], 'User3': ['User1', 'User5'], 'User4': ['User2', 'User5'], 'User5': ['User3', 'User1']}\n",
      "最终推荐结果：\n",
      "{'User1': {'ItemE'}, 'User2': {'ItemB', 'ItemC'}, 'User3': {'ItemB', 'ItemE', 'ItemD'}, 'User4': {'ItemA', 'ItemC'}, 'User5': {'ItemD'}}\n"
     ]
    }
   ],
   "source": [
    "#基于协同过滤的推荐算法（Collaborative Filtering）\n",
    "#User-Based CF 基于用户的协同过滤推荐\n",
    "\n",
    "import numpy as np\n",
    "import pandas as pd\n",
    "\n",
    "users = ['User1', 'User2', 'User3', 'User4', 'User5']\n",
    "items = ['ItemA', 'ItemB', 'ItemC', 'ItemD', 'ItemE']\n",
    "\n",
    "# 1.构造用户购买记录数据集\n",
    "datasets = [\n",
    "    [1,0,1,1,0],\n",
    "    [1,0,0,1,1],\n",
    "    [1,0,1,0,0],\n",
    "    [0,1,0,1,1],\n",
    "    [1,1,1,0,1],\n",
    "]\n",
    "df = pd.DataFrame(datasets, columns=items, index=users)\n",
    "print(df)\n",
    "\n",
    "# 2.计算用户间相似度\n",
    "user_similar = []\n",
    "for user in df.index:\n",
    "    # 计算每个用户和其他用户间的相似度\n",
    "    similarity_list = []\n",
    "    for other_user in df.index:\n",
    "        user_list = list(df.loc[user])\n",
    "        other_user_list = list(df.loc[other_user])\n",
    "        common_num = sum([ 1 for i in range(len(user_list)) if user_list[i] + other_user_list[i] == 2 ])\n",
    "        similarity = (common_num / sum(user_list)) * (common_num / sum(other_user_list))\n",
    "        similarity_list.append(similarity)\n",
    "    # 构建用户间相似度矩阵\n",
    "    user_similar.append(similarity_list)\n",
    "\n",
    "user_similar = pd.DataFrame(user_similar, columns=users, index=users)\n",
    "\n",
    "print(\"用户之间的两两相似度：\")\n",
    "print(user_similar)\n",
    "\n",
    "# 3.构造每个用户相似度topN的用户字典\n",
    "topN_users = {}\n",
    "for i in user_similar.index:\n",
    "    # 取出每一列数据，并删除自身，然后排序数据\n",
    "    _df = user_similar.loc[i].drop([i])\n",
    "    _df_sorted = _df.sort_values(ascending=False)\n",
    "\n",
    "    top2 = list(_df_sorted.index[:2])\n",
    "    topN_users[i] = top2\n",
    "\n",
    "print(\"Top2相似用户：\")\n",
    "print(topN_users)\n",
    "\n",
    "# 4.构建推荐结果\n",
    "rs_results = {}\n",
    "for user, sim_users in topN_users.items():\n",
    "    # 存储每个用户推荐结果\n",
    "    rs_result = set()   \n",
    "    # 找到最相似的topN用户购买过的物品\n",
    "    for sim_user in sim_users:\n",
    "        rs_result = rs_result.union(set(df.loc[sim_user].replace(0, np.nan).dropna().index))\n",
    "    # 过滤掉已经购买过的物品\n",
    "    rs_result -= set(df.loc[user].replace(0, np.nan).dropna().index)\n",
    "\n",
    "    rs_results[user] = rs_result\n",
    "\n",
    "print(\"最终推荐结果：\")\n",
    "print(rs_results)"
   ]
  },
  {
   "cell_type": "code",
   "execution_count": 1,
   "id": "43382d07",
   "metadata": {
    "ExecuteTime": {
     "end_time": "2023-05-26T05:55:19.020896Z",
     "start_time": "2023-05-26T05:55:18.786784Z"
    }
   },
   "outputs": [
    {
     "name": "stdout",
     "output_type": "stream",
     "text": [
      "       ItemA  ItemB  ItemC  ItemD  ItemE\n",
      "User1      1      0      1      1      0\n",
      "User2      1      0      0      1      1\n",
      "User3      1      0      1      0      0\n",
      "User4      0      1      0      1      1\n",
      "User5      1      1      1      0      1\n",
      "物品之间的两两相似度：\n",
      "          ItemA     ItemB     ItemC     ItemD     ItemE\n",
      "ItemA  1.000000  0.125000  0.750000  0.333333  0.333333\n",
      "ItemB  0.125000  1.000000  0.166667  0.166667  0.666667\n",
      "ItemC  0.750000  0.166667  1.000000  0.111111  0.111111\n",
      "ItemD  0.333333  0.166667  0.111111  1.000000  0.444444\n",
      "ItemE  0.333333  0.666667  0.111111  0.444444  1.000000\n",
      "Top2相似物品：\n",
      "{'ItemA': ['ItemC', 'ItemD'], 'ItemB': ['ItemE', 'ItemC'], 'ItemC': ['ItemA', 'ItemB'], 'ItemD': ['ItemE', 'ItemA'], 'ItemE': ['ItemB', 'ItemD']}\n",
      "最终推荐结果：\n",
      "{'User1': {'ItemB', 'ItemE'}, 'User2': {'ItemB', 'ItemC'}, 'User3': {'ItemB', 'ItemD'}, 'User4': {'ItemA', 'ItemC'}, 'User5': {'ItemD'}}\n"
     ]
    }
   ],
   "source": [
    "#Item-Based CF 基于物品的协同过滤推荐\n",
    "import numpy as np\n",
    "import pandas as pd\n",
    "\n",
    "users = ['User1', 'User2', 'User3', 'User4', 'User5']\n",
    "items = ['ItemA', 'ItemB', 'ItemC', 'ItemD', 'ItemE']\n",
    "\n",
    "# 1.构造用户购买记录数据集\n",
    "datasets = [\n",
    "    [1,0,1,1,0],\n",
    "    [1,0,0,1,1],\n",
    "    [1,0,1,0,0],\n",
    "    [0,1,0,1,1],\n",
    "    [1,1,1,0,1],\n",
    "]\n",
    "df = pd.DataFrame(datasets, columns=items, index=users)\n",
    "print(df)\n",
    "\n",
    "# 2.计算物品间相似度\n",
    "item_similar = []\n",
    "for item in df.T.index:\n",
    "    # 计算每个用户和其他用户间的相似度\n",
    "    similarity_list = []\n",
    "    for other_item in df.T.index:\n",
    "        item_list = list(df.T.loc[item])\n",
    "        other_item_list = list(df.T.loc[other_item])\n",
    "        common_num = sum([ 1 for i in range(len(item_list)) if item_list[i] + other_item_list[i] == 2 ])\n",
    "        similarity = (common_num / sum(item_list)) * (common_num / sum(other_item_list))\n",
    "        similarity_list.append(similarity)\n",
    "    # 构建用户间相似度矩阵\n",
    "    item_similar.append(similarity_list)\n",
    "\n",
    "item_similar = pd.DataFrame(item_similar, columns=items, index=items)\n",
    "\n",
    "print(\"物品之间的两两相似度：\")\n",
    "print(item_similar)\n",
    "\n",
    "# 3.构造每个物品相似度topN的物品字典\n",
    "topN_items = {}\n",
    "for i in item_similar.index:\n",
    "    # 取出每一列数据，并删除自身，然后排序数据\n",
    "    _df = item_similar.loc[i].drop([i])\n",
    "    _df_sorted = _df.sort_values(ascending=False)\n",
    "\n",
    "    top2 = list(_df_sorted.index[:2])\n",
    "    topN_items[i] = top2\n",
    "\n",
    "print(\"Top2相似物品：\")\n",
    "print(topN_items)\n",
    "\n",
    "# 4.构建推荐结果\n",
    "rs_results = {}\n",
    "for user in df.index:\n",
    "    # 存储每个用户推荐结果\n",
    "    rs_result = set() \n",
    "    # 根据每个物品找出最相似的topN物品\n",
    "    for item in df.loc[user].replace(0, np.nan).dropna().index: \n",
    "        rs_result = rs_result.union(topN_items[item])\n",
    "    # 过滤掉用户已经购买过的物品\n",
    "    rs_result -= set(df.loc[user].replace(0, np.nan).dropna().index)\n",
    "    \n",
    "    rs_results[user] = rs_result\n",
    "\n",
    "print(\"最终推荐结果：\")\n",
    "print(rs_results)"
   ]
  },
  {
   "cell_type": "code",
   "execution_count": 2,
   "id": "378123ff",
   "metadata": {
    "ExecuteTime": {
     "end_time": "2023-05-26T05:55:23.232474Z",
     "start_time": "2023-05-26T05:55:23.219690Z"
    }
   },
   "outputs": [
    {
     "data": {
      "text/plain": [
       "Index(['ItemA', 'ItemB', 'ItemC', 'ItemD', 'ItemE'], dtype='object')"
      ]
     },
     "execution_count": 2,
     "metadata": {},
     "output_type": "execute_result"
    }
   ],
   "source": [
    "df.T.index"
   ]
  },
  {
   "cell_type": "code",
   "execution_count": 3,
   "id": "63bf7c5b",
   "metadata": {
    "ExecuteTime": {
     "end_time": "2023-05-26T06:00:11.492358Z",
     "start_time": "2023-05-26T06:00:11.474360Z"
    }
   },
   "outputs": [],
   "source": [
    "item_list = list(df.T.loc['ItemA'])"
   ]
  },
  {
   "cell_type": "code",
   "execution_count": 4,
   "id": "b40b45a6",
   "metadata": {
    "ExecuteTime": {
     "end_time": "2023-05-26T06:00:20.479169Z",
     "start_time": "2023-05-26T06:00:20.473190Z"
    }
   },
   "outputs": [
    {
     "data": {
      "text/plain": [
       "[1, 1, 1, 0, 1]"
      ]
     },
     "execution_count": 4,
     "metadata": {},
     "output_type": "execute_result"
    }
   ],
   "source": [
    "item_list"
   ]
  },
  {
   "cell_type": "code",
   "execution_count": 5,
   "id": "3d66eea1",
   "metadata": {
    "ExecuteTime": {
     "end_time": "2023-05-26T06:00:51.074476Z",
     "start_time": "2023-05-26T06:00:51.066502Z"
    }
   },
   "outputs": [],
   "source": [
    "other_item_list = list(df.T.loc['ItemB'])"
   ]
  },
  {
   "cell_type": "code",
   "execution_count": 6,
   "id": "8bd06a8f",
   "metadata": {
    "ExecuteTime": {
     "end_time": "2023-05-26T06:00:56.530835Z",
     "start_time": "2023-05-26T06:00:56.513892Z"
    }
   },
   "outputs": [
    {
     "data": {
      "text/plain": [
       "[0, 0, 0, 1, 1]"
      ]
     },
     "execution_count": 6,
     "metadata": {},
     "output_type": "execute_result"
    }
   ],
   "source": [
    "other_item_list"
   ]
  },
  {
   "cell_type": "code",
   "execution_count": 7,
   "id": "31a78dd5",
   "metadata": {
    "ExecuteTime": {
     "end_time": "2023-05-26T06:03:02.276063Z",
     "start_time": "2023-05-26T06:03:02.265542Z"
    }
   },
   "outputs": [
    {
     "data": {
      "text/plain": [
       "[[1, 1, 1, 0, 1], [0, 0, 0, 1, 1]]"
      ]
     },
     "execution_count": 7,
     "metadata": {},
     "output_type": "execute_result"
    }
   ],
   "source": [
    "item = [item_list,other_item_list]\n",
    "item"
   ]
  },
  {
   "cell_type": "code",
   "execution_count": 8,
   "id": "b95367ec",
   "metadata": {
    "ExecuteTime": {
     "end_time": "2023-05-26T06:03:15.965938Z",
     "start_time": "2023-05-26T06:03:15.961951Z"
    }
   },
   "outputs": [
    {
     "data": {
      "text/plain": [
       "2.1010029896154583"
      ]
     },
     "execution_count": 8,
     "metadata": {},
     "output_type": "execute_result"
    }
   ],
   "source": [
    "np.linalg.norm(item,ord=2)"
   ]
  },
  {
   "cell_type": "code",
   "execution_count": 9,
   "id": "fd6da9a7",
   "metadata": {
    "ExecuteTime": {
     "end_time": "2023-05-26T06:05:49.980032Z",
     "start_time": "2023-05-26T06:05:49.969068Z"
    }
   },
   "outputs": [
    {
     "data": {
      "text/plain": [
       "array([[3, 2, 2, 1, 2],\n",
       "       [2, 3, 1, 2, 2],\n",
       "       [2, 1, 2, 0, 2],\n",
       "       [1, 2, 0, 3, 2],\n",
       "       [2, 2, 2, 2, 4]], dtype=int64)"
      ]
     },
     "execution_count": 9,
     "metadata": {},
     "output_type": "execute_result"
    }
   ],
   "source": [
    "np.dot(df, df.T)"
   ]
  },
  {
   "cell_type": "code",
   "execution_count": 17,
   "id": "0000ccd2",
   "metadata": {
    "ExecuteTime": {
     "end_time": "2023-05-26T06:22:17.817647Z",
     "start_time": "2023-05-26T06:22:17.799075Z"
    }
   },
   "outputs": [
    {
     "data": {
      "text/plain": [
       "(5,)"
      ]
     },
     "execution_count": 17,
     "metadata": {},
     "output_type": "execute_result"
    }
   ],
   "source": [
    "# 计算矩阵的行向量范数\n",
    "norms = np.linalg.norm(df, axis=1)\n",
    "norms.shape"
   ]
  },
  {
   "cell_type": "code",
   "execution_count": 18,
   "id": "622416c8",
   "metadata": {
    "ExecuteTime": {
     "end_time": "2023-05-26T06:22:23.858000Z",
     "start_time": "2023-05-26T06:22:23.846969Z"
    }
   },
   "outputs": [
    {
     "data": {
      "text/plain": [
       "(5, 1)"
      ]
     },
     "execution_count": 18,
     "metadata": {},
     "output_type": "execute_result"
    }
   ],
   "source": [
    "norms[:, np.newaxis].shape"
   ]
  },
  {
   "cell_type": "code",
   "execution_count": 13,
   "id": "1cef77bf",
   "metadata": {
    "ExecuteTime": {
     "end_time": "2023-05-26T06:10:40.594841Z",
     "start_time": "2023-05-26T06:10:40.576902Z"
    },
    "scrolled": false
   },
   "outputs": [
    {
     "data": {
      "text/html": [
       "<div>\n",
       "<style scoped>\n",
       "    .dataframe tbody tr th:only-of-type {\n",
       "        vertical-align: middle;\n",
       "    }\n",
       "\n",
       "    .dataframe tbody tr th {\n",
       "        vertical-align: top;\n",
       "    }\n",
       "\n",
       "    .dataframe thead th {\n",
       "        text-align: right;\n",
       "    }\n",
       "</style>\n",
       "<table border=\"1\" class=\"dataframe\">\n",
       "  <thead>\n",
       "    <tr style=\"text-align: right;\">\n",
       "      <th></th>\n",
       "      <th>ItemA</th>\n",
       "      <th>ItemB</th>\n",
       "      <th>ItemC</th>\n",
       "      <th>ItemD</th>\n",
       "      <th>ItemE</th>\n",
       "    </tr>\n",
       "  </thead>\n",
       "  <tbody>\n",
       "    <tr>\n",
       "      <th>User1</th>\n",
       "      <td>0.577350</td>\n",
       "      <td>0.00000</td>\n",
       "      <td>0.577350</td>\n",
       "      <td>0.57735</td>\n",
       "      <td>0.00000</td>\n",
       "    </tr>\n",
       "    <tr>\n",
       "      <th>User2</th>\n",
       "      <td>0.577350</td>\n",
       "      <td>0.00000</td>\n",
       "      <td>0.000000</td>\n",
       "      <td>0.57735</td>\n",
       "      <td>0.57735</td>\n",
       "    </tr>\n",
       "    <tr>\n",
       "      <th>User3</th>\n",
       "      <td>0.707107</td>\n",
       "      <td>0.00000</td>\n",
       "      <td>0.707107</td>\n",
       "      <td>0.00000</td>\n",
       "      <td>0.00000</td>\n",
       "    </tr>\n",
       "    <tr>\n",
       "      <th>User4</th>\n",
       "      <td>0.000000</td>\n",
       "      <td>0.57735</td>\n",
       "      <td>0.000000</td>\n",
       "      <td>0.57735</td>\n",
       "      <td>0.57735</td>\n",
       "    </tr>\n",
       "    <tr>\n",
       "      <th>User5</th>\n",
       "      <td>0.500000</td>\n",
       "      <td>0.50000</td>\n",
       "      <td>0.500000</td>\n",
       "      <td>0.00000</td>\n",
       "      <td>0.50000</td>\n",
       "    </tr>\n",
       "  </tbody>\n",
       "</table>\n",
       "</div>"
      ],
      "text/plain": [
       "          ItemA    ItemB     ItemC    ItemD    ItemE\n",
       "User1  0.577350  0.00000  0.577350  0.57735  0.00000\n",
       "User2  0.577350  0.00000  0.000000  0.57735  0.57735\n",
       "User3  0.707107  0.00000  0.707107  0.00000  0.00000\n",
       "User4  0.000000  0.57735  0.000000  0.57735  0.57735\n",
       "User5  0.500000  0.50000  0.500000  0.00000  0.50000"
      ]
     },
     "execution_count": 13,
     "metadata": {},
     "output_type": "execute_result"
    }
   ],
   "source": [
    "# 归一化矩阵的行向量\n",
    "normalized_matrix = df / norms[:, np.newaxis]\n",
    "normalized_matrix"
   ]
  },
  {
   "cell_type": "code",
   "execution_count": 14,
   "id": "2b5f6567",
   "metadata": {
    "ExecuteTime": {
     "end_time": "2023-05-26T06:11:17.552949Z",
     "start_time": "2023-05-26T06:11:17.545002Z"
    }
   },
   "outputs": [
    {
     "data": {
      "text/plain": [
       "array([[1.        , 0.66666667, 0.81649658, 0.33333333, 0.57735027],\n",
       "       [0.66666667, 1.        , 0.40824829, 0.66666667, 0.57735027],\n",
       "       [0.81649658, 0.40824829, 1.        , 0.        , 0.70710678],\n",
       "       [0.33333333, 0.66666667, 0.        , 1.        , 0.57735027],\n",
       "       [0.57735027, 0.57735027, 0.70710678, 0.57735027, 1.        ]])"
      ]
     },
     "execution_count": 14,
     "metadata": {},
     "output_type": "execute_result"
    }
   ],
   "source": [
    "np.dot(normalized_matrix, normalized_matrix.T)"
   ]
  },
  {
   "cell_type": "code",
   "execution_count": 20,
   "id": "aac310cf",
   "metadata": {
    "ExecuteTime": {
     "end_time": "2023-05-26T06:46:59.559782Z",
     "start_time": "2023-05-26T06:46:59.547797Z"
    }
   },
   "outputs": [
    {
     "data": {
      "text/plain": [
       "array([[1.        , 0.66666667, 0.81649658, 0.33333333, 0.57735027],\n",
       "       [0.66666667, 1.        , 0.40824829, 0.66666667, 0.57735027],\n",
       "       [0.81649658, 0.40824829, 1.        , 0.        , 0.70710678],\n",
       "       [0.33333333, 0.66666667, 0.        , 1.        , 0.57735027],\n",
       "       [0.57735027, 0.57735027, 0.70710678, 0.57735027, 1.        ]])"
      ]
     },
     "execution_count": 20,
     "metadata": {},
     "output_type": "execute_result"
    }
   ],
   "source": [
    "from sklearn.metrics.pairwise import cosine_similarity\n",
    "r = cosine_similarity(df,df)\n",
    "r"
   ]
  },
  {
   "cell_type": "code",
   "execution_count": 26,
   "id": "8d263561",
   "metadata": {
    "ExecuteTime": {
     "end_time": "2023-05-26T07:02:56.874563Z",
     "start_time": "2023-05-26T07:02:56.864633Z"
    }
   },
   "outputs": [
    {
     "data": {
      "text/plain": [
       "array([1.31607401, 1.31607401, 1.18920712, 1.31607401, 1.41421356])"
      ]
     },
     "execution_count": 26,
     "metadata": {},
     "output_type": "execute_result"
    }
   ],
   "source": [
    "std = np.sqrt(norms)\n",
    "std"
   ]
  },
  {
   "cell_type": "code",
   "execution_count": 29,
   "id": "e8171180",
   "metadata": {
    "ExecuteTime": {
     "end_time": "2023-05-26T07:06:39.275121Z",
     "start_time": "2023-05-26T07:06:39.264745Z"
    }
   },
   "outputs": [
    {
     "data": {
      "text/plain": [
       "array([1.73205081, 1.73205081, 1.41421356, 1.73205081, 2.        ])"
      ]
     },
     "execution_count": 29,
     "metadata": {},
     "output_type": "execute_result"
    }
   ],
   "source": [
    "norms = np.linalg.norm(df, ord=2)\n",
    "d = std*std.T\n",
    "d"
   ]
  },
  {
   "cell_type": "code",
   "execution_count": 32,
   "id": "656d78c0",
   "metadata": {
    "ExecuteTime": {
     "end_time": "2023-05-26T07:08:10.566547Z",
     "start_time": "2023-05-26T07:08:10.559570Z"
    }
   },
   "outputs": [
    {
     "data": {
      "text/plain": [
       "array([[1.73205081, 1.15470054, 1.15470054, 0.57735027, 1.15470054],\n",
       "       [1.15470054, 1.73205081, 0.57735027, 1.15470054, 1.15470054],\n",
       "       [1.41421356, 0.70710678, 1.41421356, 0.        , 1.41421356],\n",
       "       [0.57735027, 1.15470054, 0.        , 1.73205081, 1.15470054],\n",
       "       [1.        , 1.        , 1.        , 1.        , 2.        ]])"
      ]
     },
     "execution_count": 32,
     "metadata": {},
     "output_type": "execute_result"
    }
   ],
   "source": [
    "np.dot(df, df.T)/d[:,None]"
   ]
  },
  {
   "cell_type": "code",
   "execution_count": 33,
   "id": "5e59297e",
   "metadata": {
    "ExecuteTime": {
     "end_time": "2023-05-26T07:11:02.372278Z",
     "start_time": "2023-05-26T07:11:02.359816Z"
    }
   },
   "outputs": [],
   "source": [
    "vec1 = df\n",
    "vec2 = df"
   ]
  },
  {
   "cell_type": "code",
   "execution_count": 36,
   "id": "1a32776d",
   "metadata": {
    "ExecuteTime": {
     "end_time": "2023-05-26T07:11:37.458015Z",
     "start_time": "2023-05-26T07:11:37.438910Z"
    }
   },
   "outputs": [
    {
     "name": "stdout",
     "output_type": "stream",
     "text": [
      "[[0.13333333 0.06666667 0.13333333 0.13333333 0.06666667]\n",
      " [0.13333333 0.13333333 0.13333333 0.13333333 0.13333333]\n",
      " [0.13333333 0.         0.13333333 0.06666667 0.        ]\n",
      " [0.13333333 0.13333333 0.06666667 0.13333333 0.2       ]\n",
      " [0.26666667 0.06666667 0.2        0.13333333 0.13333333]]\n"
     ]
    }
   ],
   "source": [
    "cos_sim = np.dot(vec1, vec2) / (np.linalg.norm(vec1) * np.linalg.norm(vec2))\n",
    "print(cos_sim)"
   ]
  },
  {
   "cell_type": "code",
   "execution_count": 40,
   "id": "242f948c",
   "metadata": {
    "ExecuteTime": {
     "end_time": "2023-05-26T07:15:56.413102Z",
     "start_time": "2023-05-26T07:15:56.406126Z"
    }
   },
   "outputs": [
    {
     "data": {
      "text/plain": [
       "[1, 0, 1, 1, 0]"
      ]
     },
     "execution_count": 40,
     "metadata": {},
     "output_type": "execute_result"
    }
   ],
   "source": [
    "list(df.loc['User1'])"
   ]
  },
  {
   "cell_type": "code",
   "execution_count": 42,
   "id": "0350f09a",
   "metadata": {
    "ExecuteTime": {
     "end_time": "2023-05-26T07:19:06.719697Z",
     "start_time": "2023-05-26T07:19:06.710728Z"
    }
   },
   "outputs": [
    {
     "name": "stdout",
     "output_type": "stream",
     "text": [
      "余弦相似度: 0.8164965809277259\n"
     ]
    }
   ],
   "source": [
    "import numpy as np\n",
    "\n",
    "def cosine_similarity(vector1, vector2):\n",
    "    dot_product = np.dot(vector1, vector2)\n",
    "    norm1 = np.linalg.norm(vector1)\n",
    "    norm2 = np.linalg.norm(vector2)\n",
    "    similarity = dot_product / (norm1 * norm2)\n",
    "    return similarity\n",
    "\n",
    "# 示例向量\n",
    "vector1 = np.array([1, 2, 3])\n",
    "vector2 = np.array([4, 5, 6])\n",
    "\n",
    "# 计算余弦相似度\n",
    "similarity = cosine_similarity(vector1, vector2)\n",
    "print(\"余弦相似度:\", similarity)"
   ]
  },
  {
   "cell_type": "code",
   "execution_count": 43,
   "id": "d37a6def",
   "metadata": {
    "ExecuteTime": {
     "end_time": "2023-05-26T07:20:28.688635Z",
     "start_time": "2023-05-26T07:20:28.670598Z"
    }
   },
   "outputs": [
    {
     "data": {
      "text/plain": [
       "Index(['User1', 'User2', 'User3', 'User4', 'User5'], dtype='object')"
      ]
     },
     "execution_count": 43,
     "metadata": {},
     "output_type": "execute_result"
    }
   ],
   "source": [
    "df.index"
   ]
  },
  {
   "cell_type": "code",
   "execution_count": 44,
   "id": "60b761b7",
   "metadata": {
    "ExecuteTime": {
     "end_time": "2023-05-26T07:23:55.895366Z",
     "start_time": "2023-05-26T07:23:55.877884Z"
    }
   },
   "outputs": [],
   "source": [
    "similarity_list = []\n",
    "for user in df.index:\n",
    "    # 计算每个用户和其他用户间的相似度\n",
    "    similarity = []\n",
    "    for other_user in df.index:\n",
    "        vector1 = list(df.loc[user])\n",
    "        vector2 = list(df.loc[other_user])\n",
    "        # 计算余弦相似度\n",
    "        similarity.append(cosine_similarity(vector1, vector2))\n",
    "    similarity_list.append(similarity)"
   ]
  },
  {
   "cell_type": "code",
   "execution_count": 46,
   "id": "3ae3aba6",
   "metadata": {
    "ExecuteTime": {
     "end_time": "2023-05-26T07:24:15.768118Z",
     "start_time": "2023-05-26T07:24:15.750179Z"
    }
   },
   "outputs": [
    {
     "data": {
      "text/plain": [
       "array([[1.        , 0.66666667, 0.81649658, 0.33333333, 0.57735027],\n",
       "       [0.66666667, 1.        , 0.40824829, 0.66666667, 0.57735027],\n",
       "       [0.81649658, 0.40824829, 1.        , 0.        , 0.70710678],\n",
       "       [0.33333333, 0.66666667, 0.        , 1.        , 0.57735027],\n",
       "       [0.57735027, 0.57735027, 0.70710678, 0.57735027, 1.        ]])"
      ]
     },
     "execution_count": 46,
     "metadata": {},
     "output_type": "execute_result"
    }
   ],
   "source": [
    "np.array(similarity_list)"
   ]
  },
  {
   "cell_type": "code",
   "execution_count": null,
   "id": "a2b5be04",
   "metadata": {},
   "outputs": [],
   "source": []
  }
 ],
 "metadata": {
  "hide_input": false,
  "kernelspec": {
   "display_name": "Python 3 (ipykernel)",
   "language": "python",
   "name": "python3"
  },
  "language_info": {
   "codemirror_mode": {
    "name": "ipython",
    "version": 3
   },
   "file_extension": ".py",
   "mimetype": "text/x-python",
   "name": "python",
   "nbconvert_exporter": "python",
   "pygments_lexer": "ipython3",
   "version": "3.11.5"
  },
  "nbTranslate": {
   "displayLangs": [
    "*"
   ],
   "hotkey": "alt-t",
   "langInMainMenu": true,
   "sourceLang": "en",
   "targetLang": "fr",
   "useGoogleTranslate": true
  },
  "toc": {
   "base_numbering": 1,
   "nav_menu": {},
   "number_sections": true,
   "sideBar": true,
   "skip_h1_title": false,
   "title_cell": "Table of Contents",
   "title_sidebar": "Contents",
   "toc_cell": false,
   "toc_position": {},
   "toc_section_display": true,
   "toc_window_display": false
  },
  "varInspector": {
   "cols": {
    "lenName": 16,
    "lenType": 16,
    "lenVar": 40
   },
   "kernels_config": {
    "python": {
     "delete_cmd_postfix": "",
     "delete_cmd_prefix": "del ",
     "library": "var_list.py",
     "varRefreshCmd": "print(var_dic_list())"
    },
    "r": {
     "delete_cmd_postfix": ") ",
     "delete_cmd_prefix": "rm(",
     "library": "var_list.r",
     "varRefreshCmd": "cat(var_dic_list()) "
    }
   },
   "types_to_exclude": [
    "module",
    "function",
    "builtin_function_or_method",
    "instance",
    "_Feature"
   ],
   "window_display": false
  }
 },
 "nbformat": 4,
 "nbformat_minor": 5
}
