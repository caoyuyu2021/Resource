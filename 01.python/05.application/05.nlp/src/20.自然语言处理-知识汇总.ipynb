{
 "cells": [
  {
   "cell_type": "markdown",
   "id": "dcc3d059",
   "metadata": {},
   "source": [
    "# 自然语言处理常用参数"
   ]
  },
  {
   "cell_type": "markdown",
   "id": "d33c4594",
   "metadata": {},
   "source": [
    "## segment_ids"
   ]
  },
  {
   "cell_type": "markdown",
   "id": "8d1ac05a",
   "metadata": {},
   "source": [
    "segment_ids 是一个重要的输入，它主要用于区分输入文本中的两个不同部分（通常是两个句子）以便模型能够理解它们之间的关系。\n",
    "\n",
    "segment_ids 的作用在于：\n",
    "\n",
    "1. 区分两个句子（句子对输入）  \n",
    "\n",
    "BERT 预训练时有一个任务叫 Next Sentence Prediction (NSP)，它要求模型判断第二个句子是否是第一个句子的后续句子。因此，当 BERT 接收两个句子时，它需要一种方法来区分这两个句子。这就是 segment_ids 的作用。\n",
    "\n",
    "对于第一个句子，segment_ids 中的值设置为 0。  \n",
    "对于第二个句子，segment_ids 中的值设置为 1。  \n",
    "例如，在训练时，BERT 的输入格式通常是这样的：\n",
    "\n",
    "input_ids: 句子对的 token IDs  \n",
    "attention_mask: 标识哪些 token 是有效的（即非 padding）\n",
    "segment_ids: 用于标识句子 1 和句子 2  \n",
    "\n",
    "2. 例子  \n",
    "\n",
    "假设我们有两个句子：\n",
    "\n",
    "句子 1: \"I love machine learning.\"  \n",
    "句子 2: \"It is very interesting.\"  \n",
    "我们将这两个句子输入 BERT 时，通常会将它们连接起来，形成一个序列：\n",
    "\n",
    "[I, love, machine, learning, ., SEP, It, is, very, interesting, .]  \n",
    "SEP 是 BERT 用于分隔句子的特殊符号。\n",
    "input_ids 将是句子的 token ID 列表（包括特殊符号如 [CLS] 和 [SEP]）。  \n",
    "segment_ids 将是一个与 input_ids 长度相同的数组，用于标识每个 token 属于哪个句子。  \n",
    "具体来说，假设我们对上述两个句子的输入进行处理，segment_ids 可能如下所示：  \n",
    "\n",
    "[0, 0, 0, 0, 0, 0, 1, 1, 1, 1, 1]  \n",
    "前 5 个位置（即句子 1）对应的 segment_ids 都是 0。  \n",
    "后 6 个位置（即句子 2）对应的 segment_ids 都是 1。"
   ]
  },
  {
   "cell_type": "code",
   "execution_count": null,
   "id": "184e618a",
   "metadata": {},
   "outputs": [],
   "source": []
  }
 ],
 "metadata": {
  "hide_input": false,
  "kernelspec": {
   "display_name": "",
   "name": ""
  },
  "language_info": {
   "name": ""
  },
  "toc": {
   "base_numbering": 1,
   "nav_menu": {},
   "number_sections": true,
   "sideBar": true,
   "skip_h1_title": false,
   "title_cell": "Table of Contents",
   "title_sidebar": "Contents",
   "toc_cell": false,
   "toc_position": {
    "height": "calc(100% - 180px)",
    "left": "10px",
    "top": "150px",
    "width": "223.6px"
   },
   "toc_section_display": true,
   "toc_window_display": true
  }
 },
 "nbformat": 4,
 "nbformat_minor": 5
}
