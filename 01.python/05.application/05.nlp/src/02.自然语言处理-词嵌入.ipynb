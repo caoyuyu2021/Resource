{
 "cells": [
  {
   "cell_type": "markdown",
   "id": "5c1159cb-ba95-41aa-bcc3-a955b037caa9",
   "metadata": {},
   "source": [
    "# 词嵌入"
   ]
  },
  {
   "cell_type": "markdown",
   "id": "2a26845f-2ae4-4ce9-8086-1abf08540782",
   "metadata": {},
   "source": [
    "## 独热向量"
   ]
  },
  {
   "cell_type": "markdown",
   "id": "e265ece6-31f7-4c09-bdc2-bdb7dfaf8e8c",
   "metadata": {},
   "source": [
    "我们构建每个词的数值向量表示，这些向量称为独热向量(one-hot vector)。这些向量构成的序列能够以向量序列(数字构成的表格)的方式完美捕捉原始文本。"
   ]
  },
  {
   "cell_type": "code",
   "execution_count": 1,
   "id": "66ae7317-b157-47b0-ad12-315c267b571d",
   "metadata": {
    "execution": {
     "iopub.execute_input": "2024-11-21T12:39:29.896116Z",
     "iopub.status.busy": "2024-11-21T12:39:29.896116Z",
     "iopub.status.idle": "2024-11-21T12:39:30.112376Z",
     "shell.execute_reply": "2024-11-21T12:39:30.111583Z",
     "shell.execute_reply.started": "2024-11-21T12:39:29.896116Z"
    }
   },
   "outputs": [
    {
     "name": "stdout",
     "output_type": "stream",
     "text": [
      "词汇表: ['began', 'Thomas', 'the', 'Monticello', 'age', 'at', 'of', 'Jefferson', '26.', 'building']\n",
      "\n",
      "单词与索引的映射: {'began': 0, 'Thomas': 1, 'the': 2, 'Monticello': 3, 'age': 4, 'at': 5, 'of': 6, 'Jefferson': 7, '26.': 8, 'building': 9}\n",
      "\n",
      "独热矩阵:\n",
      " [[0 1 0 0 0 0 0 0 0 0]\n",
      " [0 0 0 0 0 0 0 1 0 0]\n",
      " [1 0 0 0 0 0 0 0 0 0]\n",
      " [0 0 0 0 0 0 0 0 0 1]\n",
      " [0 0 0 1 0 0 0 0 0 0]\n",
      " [0 0 0 0 0 1 0 0 0 0]\n",
      " [0 0 1 0 0 0 0 0 0 0]\n",
      " [0 0 0 0 1 0 0 0 0 0]\n",
      " [0 0 0 0 0 0 1 0 0 0]\n",
      " [0 0 0 0 0 0 0 0 1 0]]\n"
     ]
    }
   ],
   "source": [
    "import numpy as np\n",
    "\n",
    "# 输入句子\n",
    "sentence = \"\"\"Thomas Jefferson began building Monticello at the age of 26.\"\"\"\n",
    "\n",
    "# 步骤 1: 将句子分词\n",
    "words = sentence.split()\n",
    "\n",
    "# 步骤 2: 创建词汇表（提取唯一单词）\n",
    "vocab = list(set(words))\n",
    "\n",
    "# 步骤 3: 为词汇表中的每个单词分配一个索引\n",
    "word_to_index = {word: idx for idx, word in enumerate(vocab)}\n",
    "\n",
    "# 步骤 4: 使用 numpy 创建独热矩阵\n",
    "vocab_size = len(vocab)  # 词汇表大小\n",
    "one_hot_matrix = np.zeros((len(words), vocab_size), dtype=int)  # 初始化零矩阵\n",
    "\n",
    "# 将每个单词编码为独热向量\n",
    "for i, word in enumerate(words):\n",
    "    one_hot_matrix[i, word_to_index[word]] = 1  # 根据单词索引设置对应位置为 1\n",
    "\n",
    "# 步骤 5: 打印结果\n",
    "print(\"词汇表:\", vocab)\n",
    "print(\"\\n单词与索引的映射:\", word_to_index)\n",
    "print(\"\\n独热矩阵:\\n\", one_hot_matrix)"
   ]
  },
  {
   "cell_type": "markdown",
   "id": "c2f402c6-4c10-4d5c-bc8a-f6f0fcae01f6",
   "metadata": {},
   "source": [
    "## 词袋模型"
   ]
  },
  {
   "cell_type": "markdown",
   "id": "335c0cd3-c26d-430d-ae8c-3b88f750c601",
   "metadata": {},
   "source": [
    "上述基于独热向量的句子表示方法保留了原始句子的所有细节，包括语法和词序。但是，相对于上述的短句子而言的整个表格却很大，对长文档来说这种做法不太现实。如果把所有的独热向量加在一起，而不是一次一次地”回放“它们，我们会得到一个词袋向量。这个向量也被称为词频向量，因为它只计算了词的频率，而不是词的顺序。"
   ]
  },
  {
   "cell_type": "code",
   "execution_count": 1,
   "id": "2b02db24-68cb-471e-8ae2-5ef2c09dffae",
   "metadata": {
    "execution": {
     "iopub.execute_input": "2024-11-21T12:52:17.746545Z",
     "iopub.status.busy": "2024-11-21T12:52:17.745977Z",
     "iopub.status.idle": "2024-11-21T12:52:17.781675Z",
     "shell.execute_reply": "2024-11-21T12:52:17.780596Z",
     "shell.execute_reply.started": "2024-11-21T12:52:17.746545Z"
    }
   },
   "outputs": [
    {
     "name": "stdout",
     "output_type": "stream",
     "text": [
      "词汇表: ['Virginia.', '26.', 'of', 'age', 'United', 'Thomas', 'located', 'began', 'Jefferson', 'president', 'States.', 'was', 'Monticello', 'the', 'is', 'in', 'building', 'at', 'third']\n",
      "\n",
      "单词与索引的映射: {'Virginia.': 0, '26.': 1, 'of': 2, 'age': 3, 'United': 4, 'Thomas': 5, 'located': 6, 'began': 7, 'Jefferson': 8, 'president': 9, 'States.': 10, 'was': 11, 'Monticello': 12, 'the': 13, 'is': 14, 'in': 15, 'building': 16, 'at': 17, 'third': 18}\n",
      "\n",
      "词袋向量矩阵:\n",
      "句子 1: [0, 1, 1, 1, 0, 1, 0, 1, 1, 0, 0, 0, 1, 1, 0, 0, 1, 1, 0]\n",
      "句子 2: [0, 0, 1, 0, 1, 0, 0, 0, 1, 1, 1, 1, 0, 2, 0, 0, 0, 0, 1]\n",
      "句子 3: [1, 0, 0, 0, 0, 0, 1, 0, 0, 0, 0, 0, 1, 0, 1, 1, 0, 0, 0]\n"
     ]
    }
   ],
   "source": [
    "# 输入多句\n",
    "sentences = [\n",
    "    \"Thomas Jefferson began building Monticello at the age of 26.\",\n",
    "    \"Jefferson was the third president of the United States.\",\n",
    "    \"Monticello is located in Virginia.\"\n",
    "]\n",
    "\n",
    "# 步骤 1: 对所有句子进行分词\n",
    "all_words = []\n",
    "for sentence in sentences:\n",
    "    all_words.extend(sentence.split())  # 将所有句子的单词加入列表\n",
    "\n",
    "# 步骤 2: 创建全局词汇表（唯一单词）\n",
    "vocab = list(set(all_words))  # 去重，得到全局唯一单词列表\n",
    "\n",
    "# 步骤 3: 为词汇表中的每个单词分配一个索引\n",
    "word_to_index = {word: idx for idx, word in enumerate(vocab)}\n",
    "\n",
    "# 步骤 4: 初始化词袋向量矩阵\n",
    "bow_matrix = []\n",
    "\n",
    "# 步骤 5: 为每个句子生成词袋向量\n",
    "for sentence in sentences:\n",
    "    bow_vector = [0] * len(vocab)  # 初始化零向量\n",
    "    for word in sentence.split():\n",
    "        bow_vector[word_to_index[word]] += 1  # 根据单词的索引增加计数\n",
    "    bow_matrix.append(bow_vector)  # 将当前句子的向量加入矩阵\n",
    "\n",
    "# 步骤 6: 打印结果\n",
    "print(\"词汇表:\", vocab)\n",
    "print(\"\\n单词与索引的映射:\", word_to_index)\n",
    "print(\"\\n词袋向量矩阵:\")\n",
    "for i, vector in enumerate(bow_matrix):\n",
    "    print(f\"句子 {i + 1}: {vector}\")"
   ]
  },
  {
   "cell_type": "code",
   "execution_count": null,
   "id": "00ad8775-4bc5-415f-a67d-2767f71d7cb6",
   "metadata": {},
   "outputs": [],
   "source": []
  }
 ],
 "metadata": {
  "hide_input": false,
  "kernelspec": {
   "display_name": "NLP",
   "language": "python",
   "name": "nlp"
  },
  "language_info": {
   "codemirror_mode": {
    "name": "ipython",
    "version": 3
   },
   "file_extension": ".py",
   "mimetype": "text/x-python",
   "name": "python",
   "nbconvert_exporter": "python",
   "pygments_lexer": "ipython3",
   "version": "3.9.18"
  },
  "toc": {
   "base_numbering": 1,
   "nav_menu": {},
   "number_sections": true,
   "sideBar": true,
   "skip_h1_title": false,
   "title_cell": "Table of Contents",
   "title_sidebar": "Contents",
   "toc_cell": false,
   "toc_position": {},
   "toc_section_display": true,
   "toc_window_display": false
  },
  "varInspector": {
   "cols": {
    "lenName": 16,
    "lenType": 16,
    "lenVar": 40
   },
   "kernels_config": {
    "python": {
     "delete_cmd_postfix": "",
     "delete_cmd_prefix": "del ",
     "library": "var_list.py",
     "varRefreshCmd": "print(var_dic_list())"
    },
    "r": {
     "delete_cmd_postfix": ") ",
     "delete_cmd_prefix": "rm(",
     "library": "var_list.r",
     "varRefreshCmd": "cat(var_dic_list()) "
    }
   },
   "types_to_exclude": [
    "module",
    "function",
    "builtin_function_or_method",
    "instance",
    "_Feature"
   ],
   "window_display": false
  }
 },
 "nbformat": 4,
 "nbformat_minor": 5
}
