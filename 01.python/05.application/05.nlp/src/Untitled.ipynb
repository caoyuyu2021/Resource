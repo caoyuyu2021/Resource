{
 "cells": [
  {
   "cell_type": "markdown",
   "id": "8f2ab9bf",
   "metadata": {},
   "source": [
    "Word2Vec是Google研究团队里的Tomas Mikolov等人于2013年提出的一种高效训练词向量的模型，基本出发点是上下文相似的两个词，它们的词向量也应该相似，比如香蕉和梨在句子中可能经常出现在相同的上下文中，因此这两个词的表示向量应该就比较相似。\n",
    "\n",
    "Word2Vec的最终目的不是为了得到一个语言模型，也不是要把模型训练得多么完美，而是只关心模型训练完后的副产物：模型参数(这里特指神经网络的权重)，并将这些参数作为输入 x 的某种向量化的表示，这个向量便叫做——词向量。\n",
    "\n",
    "包括两种主要的模型架构：\n",
    "\n",
    "CBOW (Continuous Bag of Words)连续词袋模型：基于上下文预测目标词。  \n",
    "Skip-Gram连续跳字模型：基于目标词预测上下文。\n",
    "\n",
    "CBOW 模型  \n",
    "目标：给定上下文中的若干单词，预测目标单词。  \n",
    "特点：对小型数据集更高效，效果稳定。  \n",
    "例子：对于句子“我喜欢学习机器学习”，上下文是“我”和“学习”，CBOW 的目标是预测“喜欢”。  \n",
    "\n",
    "Skip-Gram 模型  \n",
    "目标：给定一个目标单词，预测其上下文。  \n",
    "特点：在处理大型语料库和稀疏数据时表现更好。  \n",
    "例子：对于目标单词“喜欢”，Skip-Gram 的目标是预测“我”和“学习”。\n",
    "\n",
    "Word2Vec 的实现步骤  \n",
    "- 预处理文本数据：\n",
    "\n",
    "分词  \n",
    "去除停用词  \n",
    "构建词汇表  \n",
    "- 训练模型：\n",
    "\n",
    "初始化词向量矩阵（随机值）  \n",
    "构建滑动窗口获取训练样本  \n",
    "使用神经网络进行训练：  \n",
    "输入层：词汇表大小的独热向量  \n",
    "隐藏层：低维嵌入空间  \n",
    "输出层：预测的目标单词或上下文单词  \n",
    "- 优化：\n",
    "\n",
    "损失函数：负对数似然（Negative Log-Likelihood）  \n",
    "优化方法：随机梯度下降（SGD）  \n",
    "- 词向量生成：\n",
    "\n",
    "训练完成后，隐藏层的权重矩阵即为词向量。\n",
    "\n"
   ]
  }
 ],
 "metadata": {
  "hide_input": false,
  "kernelspec": {
   "display_name": "Python 3 (ipykernel)",
   "language": "python",
   "name": "python3"
  },
  "language_info": {
   "codemirror_mode": {
    "name": "ipython",
    "version": 3
   },
   "file_extension": ".py",
   "mimetype": "text/x-python",
   "name": "python",
   "nbconvert_exporter": "python",
   "pygments_lexer": "ipython3",
   "version": "3.11.5"
  },
  "toc": {
   "base_numbering": 1,
   "nav_menu": {},
   "number_sections": true,
   "sideBar": true,
   "skip_h1_title": false,
   "title_cell": "Table of Contents",
   "title_sidebar": "Contents",
   "toc_cell": false,
   "toc_position": {},
   "toc_section_display": true,
   "toc_window_display": false
  },
  "varInspector": {
   "cols": {
    "lenName": 16,
    "lenType": 16,
    "lenVar": 40
   },
   "kernels_config": {
    "python": {
     "delete_cmd_postfix": "",
     "delete_cmd_prefix": "del ",
     "library": "var_list.py",
     "varRefreshCmd": "print(var_dic_list())"
    },
    "r": {
     "delete_cmd_postfix": ") ",
     "delete_cmd_prefix": "rm(",
     "library": "var_list.r",
     "varRefreshCmd": "cat(var_dic_list()) "
    }
   },
   "types_to_exclude": [
    "module",
    "function",
    "builtin_function_or_method",
    "instance",
    "_Feature"
   ],
   "window_display": false
  }
 },
 "nbformat": 4,
 "nbformat_minor": 5
}
