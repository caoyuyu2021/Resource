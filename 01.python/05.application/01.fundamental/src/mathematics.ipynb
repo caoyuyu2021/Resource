{
 "cells": [
  {
   "cell_type": "markdown",
   "id": "c08a2b58",
   "metadata": {},
   "source": [
    "# 矩阵求逆"
   ]
  },
  {
   "cell_type": "markdown",
   "id": "294ee52d",
   "metadata": {},
   "source": [
    "对于两个方阵A,B,若AB = E，且E为单位阵，则A,B互逆，可记作$A = B^{-1}$, $B=A^{-1}$。"
   ]
  },
  {
   "cell_type": "markdown",
   "id": "738a4e92",
   "metadata": {},
   "source": [
    "## 普通逆"
   ]
  },
  {
   "cell_type": "markdown",
   "id": "a105cd51",
   "metadata": {},
   "source": [
    "在numpy和scipy中，均提供了求逆函数，分别是numpy.linalg.inv和scipy.lingalg.inv。"
   ]
  },
  {
   "cell_type": "code",
   "execution_count": 1,
   "id": "10b2f03e",
   "metadata": {
    "ExecuteTime": {
     "end_time": "2024-09-30T09:45:02.006271Z",
     "start_time": "2024-09-30T09:45:00.670540Z"
    }
   },
   "outputs": [],
   "source": [
    "import numpy as np\n",
    "import scipy.linalg as sl\n",
    "import numpy.linalg as nl"
   ]
  },
  {
   "cell_type": "code",
   "execution_count": 2,
   "id": "cc8232ea",
   "metadata": {
    "ExecuteTime": {
     "end_time": "2024-09-30T09:45:04.236549Z",
     "start_time": "2024-09-30T09:45:04.232475Z"
    }
   },
   "outputs": [],
   "source": [
    "a = np.array([[1,8,3],[2,4,6],[5,6,8]])\n",
    "b = np.array([[1,2,3],[2,4,6],[5,6,8]])\n",
    "c = np.array([[1,2,3],[1,2,3],[5,6,8]])"
   ]
  },
  {
   "cell_type": "code",
   "execution_count": 3,
   "id": "8aa35a1d",
   "metadata": {
    "ExecuteTime": {
     "end_time": "2024-05-11T02:10:34.403817Z",
     "start_time": "2024-05-11T02:10:34.394282Z"
    }
   },
   "outputs": [
    {
     "data": {
      "text/plain": [
       "array([[-4.76190476e-02, -5.47619048e-01,  4.28571429e-01],\n",
       "       [ 1.66666667e-01, -8.33333333e-02, -4.08170230e-18],\n",
       "       [-9.52380952e-02,  4.04761905e-01, -1.42857143e-01]])"
      ]
     },
     "execution_count": 3,
     "metadata": {},
     "output_type": "execute_result"
    }
   ],
   "source": [
    "nl.inv(a)"
   ]
  },
  {
   "cell_type": "code",
   "execution_count": 4,
   "id": "e78806c5",
   "metadata": {
    "ExecuteTime": {
     "end_time": "2024-05-11T02:10:42.868085Z",
     "start_time": "2024-05-11T02:10:42.861905Z"
    }
   },
   "outputs": [
    {
     "data": {
      "text/plain": [
       "array([[-0.04761905, -0.54761905,  0.42857143],\n",
       "       [ 0.16666667, -0.08333333,  0.        ],\n",
       "       [-0.0952381 ,  0.4047619 , -0.14285714]])"
      ]
     },
     "execution_count": 4,
     "metadata": {},
     "output_type": "execute_result"
    }
   ],
   "source": [
    "sl.inv(a)"
   ]
  },
  {
   "cell_type": "code",
   "execution_count": 5,
   "id": "3e683230",
   "metadata": {
    "ExecuteTime": {
     "end_time": "2024-05-11T02:11:01.885091Z",
     "start_time": "2024-05-11T02:11:00.287903Z"
    }
   },
   "outputs": [
    {
     "ename": "LinAlgError",
     "evalue": "Singular matrix",
     "output_type": "error",
     "traceback": [
      "\u001b[1;31m---------------------------------------------------------------------------\u001b[0m",
      "\u001b[1;31mLinAlgError\u001b[0m                               Traceback (most recent call last)",
      "Cell \u001b[1;32mIn[5], line 1\u001b[0m\n\u001b[1;32m----> 1\u001b[0m nl\u001b[38;5;241m.\u001b[39minv(b)\n",
      "File \u001b[1;32m<__array_function__ internals>:200\u001b[0m, in \u001b[0;36minv\u001b[1;34m(*args, **kwargs)\u001b[0m\n",
      "File \u001b[1;32mD:\\Anaconda\\Lib\\site-packages\\numpy\\linalg\\linalg.py:538\u001b[0m, in \u001b[0;36minv\u001b[1;34m(a)\u001b[0m\n\u001b[0;32m    536\u001b[0m signature \u001b[38;5;241m=\u001b[39m \u001b[38;5;124m'\u001b[39m\u001b[38;5;124mD->D\u001b[39m\u001b[38;5;124m'\u001b[39m \u001b[38;5;28;01mif\u001b[39;00m isComplexType(t) \u001b[38;5;28;01melse\u001b[39;00m \u001b[38;5;124m'\u001b[39m\u001b[38;5;124md->d\u001b[39m\u001b[38;5;124m'\u001b[39m\n\u001b[0;32m    537\u001b[0m extobj \u001b[38;5;241m=\u001b[39m get_linalg_error_extobj(_raise_linalgerror_singular)\n\u001b[1;32m--> 538\u001b[0m ainv \u001b[38;5;241m=\u001b[39m _umath_linalg\u001b[38;5;241m.\u001b[39minv(a, signature\u001b[38;5;241m=\u001b[39msignature, extobj\u001b[38;5;241m=\u001b[39mextobj)\n\u001b[0;32m    539\u001b[0m \u001b[38;5;28;01mreturn\u001b[39;00m wrap(ainv\u001b[38;5;241m.\u001b[39mastype(result_t, copy\u001b[38;5;241m=\u001b[39m\u001b[38;5;28;01mFalse\u001b[39;00m))\n",
      "File \u001b[1;32mD:\\Anaconda\\Lib\\site-packages\\numpy\\linalg\\linalg.py:89\u001b[0m, in \u001b[0;36m_raise_linalgerror_singular\u001b[1;34m(err, flag)\u001b[0m\n\u001b[0;32m     88\u001b[0m \u001b[38;5;28;01mdef\u001b[39;00m \u001b[38;5;21m_raise_linalgerror_singular\u001b[39m(err, flag):\n\u001b[1;32m---> 89\u001b[0m     \u001b[38;5;28;01mraise\u001b[39;00m LinAlgError(\u001b[38;5;124m\"\u001b[39m\u001b[38;5;124mSingular matrix\u001b[39m\u001b[38;5;124m\"\u001b[39m)\n",
      "\u001b[1;31mLinAlgError\u001b[0m: Singular matrix"
     ]
    }
   ],
   "source": [
    "nl.inv(b)"
   ]
  },
  {
   "cell_type": "markdown",
   "id": "eddb2ab8",
   "metadata": {},
   "source": [
    "## 奇异矩阵"
   ]
  },
  {
   "cell_type": "markdown",
   "id": "aee1e46f",
   "metadata": {},
   "source": [
    "奇异矩阵是线性代数的概念，就是该矩阵的秩不是满秩。\n",
    "\n",
    "1.  首先，看这个矩阵是不是方阵\n",
    "\n",
    "2.  再看此矩阵的行列式|A|是否等于0，若等于0，称矩阵A为奇异矩阵\n",
    "\n",
    "3.  若不等于0，称矩阵A为非奇异矩阵\n",
    "\n",
    " \n",
    "\n",
    "用途：\n",
    "\n",
    "1.  这样可以得出一个重要结论:可逆矩阵就是非奇异矩阵，非奇异矩阵也是可逆矩阵。\n",
    "\n",
    "2.  如果A为奇异矩阵，则AX=0有无穷解，AX=b有无穷解或者无解；\n",
    "\n",
    "3.  如果A为非奇异矩阵，则AX=0有且只有唯一零解，AX=b有唯一解。"
   ]
  },
  {
   "cell_type": "markdown",
   "id": "ffa41c73",
   "metadata": {},
   "source": [
    "## 广义逆"
   ]
  },
  {
   "cell_type": "markdown",
   "id": "e57a747c",
   "metadata": {},
   "source": [
    "对于复矩阵A而言，若存在复矩阵G，满足\n",
    "\n",
    "$$A G A = A$$\n",
    "$$G A G = G$$\n",
    "$$(AG)^H=AG$$\n",
    "$$(GA)^H=GA$$\n",
    "其中$*^H$表示共轭转置，则称G为A的穆尔-彭罗斯广义逆，也叫加号逆，记作$G=A^+ $。"
   ]
  },
  {
   "cell_type": "markdown",
   "id": "23f7e49d",
   "metadata": {},
   "source": [
    "scipy.linalg提供了两个求加号逆的矩阵，分别是pinv和pinvh，分别用于实矩阵和复矩阵。"
   ]
  },
  {
   "cell_type": "code",
   "execution_count": 7,
   "id": "74257632",
   "metadata": {
    "ExecuteTime": {
     "end_time": "2024-05-11T02:19:42.510769Z",
     "start_time": "2024-05-11T02:19:42.359408Z"
    }
   },
   "outputs": [
    {
     "ename": "LinAlgError",
     "evalue": "singular matrix",
     "output_type": "error",
     "traceback": [
      "\u001b[1;31m---------------------------------------------------------------------------\u001b[0m",
      "\u001b[1;31mLinAlgError\u001b[0m                               Traceback (most recent call last)",
      "Cell \u001b[1;32mIn[7], line 1\u001b[0m\n\u001b[1;32m----> 1\u001b[0m sl\u001b[38;5;241m.\u001b[39minv(c)\n",
      "File \u001b[1;32mD:\\Anaconda\\Lib\\site-packages\\scipy\\linalg\\_basic.py:972\u001b[0m, in \u001b[0;36minv\u001b[1;34m(a, overwrite_a, check_finite)\u001b[0m\n\u001b[0;32m    970\u001b[0m     inv_a, info \u001b[38;5;241m=\u001b[39m getri(lu, piv, lwork\u001b[38;5;241m=\u001b[39mlwork, overwrite_lu\u001b[38;5;241m=\u001b[39m\u001b[38;5;241m1\u001b[39m)\n\u001b[0;32m    971\u001b[0m \u001b[38;5;28;01mif\u001b[39;00m info \u001b[38;5;241m>\u001b[39m \u001b[38;5;241m0\u001b[39m:\n\u001b[1;32m--> 972\u001b[0m     \u001b[38;5;28;01mraise\u001b[39;00m LinAlgError(\u001b[38;5;124m\"\u001b[39m\u001b[38;5;124msingular matrix\u001b[39m\u001b[38;5;124m\"\u001b[39m)\n\u001b[0;32m    973\u001b[0m \u001b[38;5;28;01mif\u001b[39;00m info \u001b[38;5;241m<\u001b[39m \u001b[38;5;241m0\u001b[39m:\n\u001b[0;32m    974\u001b[0m     \u001b[38;5;28;01mraise\u001b[39;00m \u001b[38;5;167;01mValueError\u001b[39;00m(\u001b[38;5;124m'\u001b[39m\u001b[38;5;124millegal value in \u001b[39m\u001b[38;5;132;01m%d\u001b[39;00m\u001b[38;5;124m-th argument of internal \u001b[39m\u001b[38;5;124m'\u001b[39m\n\u001b[0;32m    975\u001b[0m                      \u001b[38;5;124m'\u001b[39m\u001b[38;5;124mgetrf|getri\u001b[39m\u001b[38;5;124m'\u001b[39m \u001b[38;5;241m%\u001b[39m \u001b[38;5;241m-\u001b[39minfo)\n",
      "\u001b[1;31mLinAlgError\u001b[0m: singular matrix"
     ]
    }
   ],
   "source": [
    "sl.inv(c)"
   ]
  },
  {
   "cell_type": "code",
   "execution_count": 6,
   "id": "09ad4006",
   "metadata": {
    "ExecuteTime": {
     "end_time": "2024-05-11T02:19:34.613917Z",
     "start_time": "2024-05-11T02:19:34.594631Z"
    }
   },
   "outputs": [
    {
     "data": {
      "text/plain": [
       "array([[-0.57971014, -0.57971014,  0.42028986],\n",
       "       [ 0.02898551,  0.02898551,  0.02898551],\n",
       "       [ 0.34057971,  0.34057971, -0.15942029]])"
      ]
     },
     "execution_count": 6,
     "metadata": {},
     "output_type": "execute_result"
    }
   ],
   "source": [
    "sl.pinv(c)"
   ]
  },
  {
   "cell_type": "markdown",
   "id": "c853ab9e",
   "metadata": {},
   "source": [
    "## 共线性"
   ]
  },
  {
   "cell_type": "code",
   "execution_count": 8,
   "id": "b87b0945",
   "metadata": {
    "ExecuteTime": {
     "end_time": "2024-05-11T02:32:12.109790Z",
     "start_time": "2024-05-11T02:32:12.102820Z"
    }
   },
   "outputs": [],
   "source": [
    "# 多重共线性识别与处理\n",
    "def __new_multi(matrix):\n",
    "    # 计算相关系数\n",
    "    corr = np.corrcoef(matrix)\n",
    "\n",
    "    # 获取值为1的索引，针对的是行数据\n",
    "    index = np.argwhere(corr >= 0.95)\n",
    "\n",
    "    # 获取共线性对应的行索引\n",
    "    row_indexs = set()\n",
    "    for i in range(index.shape[0]):\n",
    "        if index[i][0] != index[i][1]:\n",
    "            row_indexs = row_indexs.union(set(index[i]))\n",
    "\n",
    "    # 定义新矩阵\n",
    "    matrix = np.float64(matrix)\n",
    "    new_matrix = np.zeros_like(matrix)\n",
    "    m, n = matrix.shape[0], matrix.shape[1]\n",
    "    delta = np.abs(matrix[matrix != 0].min()) * 0.00001\n",
    "\n",
    "    # 对共线性的行进行处理\n",
    "    for j in range(m):\n",
    "        for k in range(n):\n",
    "            if j in list(row_indexs):\n",
    "                value = matrix[j][k] + np.abs(np.random.randn() * delta)\n",
    "                new_matrix[j][k] = value\n",
    "            else:\n",
    "                new_matrix[j][k] = matrix[j][k]\n",
    "    return new_matrix"
   ]
  },
  {
   "cell_type": "code",
   "execution_count": 9,
   "id": "b5aa4c55",
   "metadata": {
    "ExecuteTime": {
     "end_time": "2024-05-11T02:32:32.915453Z",
     "start_time": "2024-05-11T02:32:32.907825Z"
    }
   },
   "outputs": [
    {
     "data": {
      "text/plain": [
       "array([[ 3.25342190e+04, -3.25365190e+04,  8.03257128e-01],\n",
       "       [-1.13868258e+05,  1.13872307e+05, -1.31134519e+00],\n",
       "       [ 6.50673896e+04, -6.50689894e+04,  6.06473621e-01]])"
      ]
     },
     "execution_count": 9,
     "metadata": {},
     "output_type": "execute_result"
    }
   ],
   "source": [
    "sl.inv(__new_multi(c))"
   ]
  },
  {
   "cell_type": "markdown",
   "id": "ca5d21d1",
   "metadata": {},
   "source": [
    "## 验证逆是否准确"
   ]
  },
  {
   "cell_type": "code",
   "execution_count": 10,
   "id": "ac914296",
   "metadata": {
    "ExecuteTime": {
     "end_time": "2024-05-11T02:33:46.995989Z",
     "start_time": "2024-05-11T02:33:46.989632Z"
    }
   },
   "outputs": [
    {
     "data": {
      "text/plain": [
       "array([[0.9999856 , 1.99998844, 2.99998697],\n",
       "       [0.9999856 , 1.99998844, 2.99998697],\n",
       "       [4.99999636, 5.9999945 , 7.99999219]])"
      ]
     },
     "execution_count": 10,
     "metadata": {},
     "output_type": "execute_result"
    }
   ],
   "source": [
    "c@(sl.inv(__new_multi(c)))@c"
   ]
  },
  {
   "cell_type": "markdown",
   "id": "df6d6f92",
   "metadata": {},
   "source": [
    "该矩阵与c近似相等，所以逆是准确的。"
   ]
  },
  {
   "cell_type": "code",
   "execution_count": 12,
   "id": "75ad2bb4",
   "metadata": {
    "ExecuteTime": {
     "end_time": "2024-05-11T02:34:54.328206Z",
     "start_time": "2024-05-11T02:34:54.323178Z"
    }
   },
   "outputs": [
    {
     "data": {
      "text/plain": [
       "array([[1., 2., 3.],\n",
       "       [1., 2., 3.],\n",
       "       [5., 6., 8.]])"
      ]
     },
     "execution_count": 12,
     "metadata": {},
     "output_type": "execute_result"
    }
   ],
   "source": [
    "c@(sl.pinv(c))@c"
   ]
  },
  {
   "cell_type": "markdown",
   "id": "ef56ad04-0ff9-4d9c-96e8-537d3e291c18",
   "metadata": {},
   "source": [
    "# 定积分"
   ]
  },
  {
   "cell_type": "code",
   "execution_count": 2,
   "id": "f98b1b5f-a49e-4f36-9fb2-8ff6675d970b",
   "metadata": {
    "execution": {
     "iopub.execute_input": "2024-07-31T11:53:25.054857Z",
     "iopub.status.busy": "2024-07-31T11:53:25.054857Z",
     "iopub.status.idle": "2024-07-31T11:53:25.073907Z",
     "shell.execute_reply": "2024-07-31T11:53:25.072805Z",
     "shell.execute_reply.started": "2024-07-31T11:53:25.054857Z"
    }
   },
   "outputs": [
    {
     "data": {
      "text/plain": [
       "344.7933333333334"
      ]
     },
     "execution_count": 2,
     "metadata": {},
     "output_type": "execute_result"
    }
   ],
   "source": [
    "# 导入包\n",
    "from scipy.integrate import simpson\n",
    "import numpy as np\n",
    "import pandas as pd \n",
    "import matplotlib.pyplot as plt \n",
    "\n",
    "# 数据部分\n",
    "# 数据来自于matlab doc\n",
    "vel = np.array([0, 0.45, 1.79, 4.02, 7.15, 11.18, 16.09, 21.90, 29.05, 29.05,\n",
    "29.05, 29.05, 29.05, 22.42, 17.9, 17.9, 17.9, 17.9, 14.34, 11.01,\n",
    "8.9, 6.54, 2.03, 0.55, 0])\n",
    "\n",
    "# 如果为时间数据，需要保证时间之间没有缺失，如果有需要先补点再计算\n",
    "time = np.arange(vel.shape[0])\n",
    "\n",
    "# 求积分部分\n",
    "simpson(vel, time)\n",
    "# > 344.793333333333"
   ]
  },
  {
   "cell_type": "markdown",
   "id": "9759b7f4",
   "metadata": {},
   "source": [
    "# 矩阵距离"
   ]
  },
  {
   "cell_type": "code",
   "execution_count": 3,
   "id": "202bfc6e",
   "metadata": {
    "ExecuteTime": {
     "end_time": "2024-09-30T09:45:36.039011Z",
     "start_time": "2024-09-30T09:45:36.034143Z"
    }
   },
   "outputs": [],
   "source": [
    "from sklearn.metrics import euclidean_distances"
   ]
  },
  {
   "cell_type": "code",
   "execution_count": 11,
   "id": "5fdc741a",
   "metadata": {
    "ExecuteTime": {
     "end_time": "2024-09-30T09:48:20.782398Z",
     "start_time": "2024-09-30T09:48:20.777424Z"
    }
   },
   "outputs": [],
   "source": [
    "a = np.array([[1,8,3,2],[2,4,6,1]])"
   ]
  },
  {
   "cell_type": "code",
   "execution_count": 17,
   "id": "a4ced63d",
   "metadata": {
    "ExecuteTime": {
     "end_time": "2024-09-30T10:07:35.969166Z",
     "start_time": "2024-09-30T10:07:35.963027Z"
    }
   },
   "outputs": [
    {
     "data": {
      "text/plain": [
       "array([[1, 2],\n",
       "       [8, 4],\n",
       "       [3, 6],\n",
       "       [2, 1]])"
      ]
     },
     "execution_count": 17,
     "metadata": {},
     "output_type": "execute_result"
    }
   ],
   "source": [
    "a.T"
   ]
  },
  {
   "cell_type": "code",
   "execution_count": 16,
   "id": "4eec7469",
   "metadata": {
    "ExecuteTime": {
     "end_time": "2024-09-30T10:07:19.959449Z",
     "start_time": "2024-09-30T10:07:19.954701Z"
    }
   },
   "outputs": [
    {
     "data": {
      "text/plain": [
       "array([[1, 8, 3, 2],\n",
       "       [2, 4, 6, 1]])"
      ]
     },
     "execution_count": 16,
     "metadata": {},
     "output_type": "execute_result"
    }
   ],
   "source": [
    "a"
   ]
  },
  {
   "cell_type": "code",
   "execution_count": null,
   "id": "37b42f58",
   "metadata": {},
   "outputs": [],
   "source": []
  },
  {
   "cell_type": "code",
   "execution_count": 18,
   "id": "b53256fa",
   "metadata": {
    "ExecuteTime": {
     "end_time": "2024-09-30T10:08:49.860320Z",
     "start_time": "2024-09-30T10:08:49.853252Z"
    }
   },
   "outputs": [
    {
     "name": "stderr",
     "output_type": "stream",
     "text": [
      "C:\\Users\\IKAS\\AppData\\Local\\Temp\\ipykernel_50784\\764718757.py:1: RuntimeWarning: divide by zero encountered in divide\n",
      "  1/euclidean_distances(a.T, a.T)\n"
     ]
    },
    {
     "data": {
      "text/plain": [
       "array([[       inf, 0.13736056, 0.2236068 , 0.70710678],\n",
       "       [0.13736056,        inf, 0.18569534, 0.1490712 ],\n",
       "       [0.2236068 , 0.18569534,        inf, 0.19611614],\n",
       "       [0.70710678, 0.1490712 , 0.19611614,        inf]])"
      ]
     },
     "execution_count": 18,
     "metadata": {},
     "output_type": "execute_result"
    }
   ],
   "source": [
    "1/euclidean_distances(a.T, a.T)"
   ]
  },
  {
   "cell_type": "code",
   "execution_count": 24,
   "id": "4a079955",
   "metadata": {
    "ExecuteTime": {
     "end_time": "2024-09-30T10:12:14.035732Z",
     "start_time": "2024-09-30T10:12:14.031724Z"
    }
   },
   "outputs": [],
   "source": [
    "G_dist = euclidean_distances(a.T, a.T)"
   ]
  },
  {
   "cell_type": "code",
   "execution_count": 25,
   "id": "c147864e",
   "metadata": {
    "ExecuteTime": {
     "end_time": "2024-09-30T10:12:14.573872Z",
     "start_time": "2024-09-30T10:12:14.569301Z"
    }
   },
   "outputs": [],
   "source": [
    "G_dist[G_dist==0]=1"
   ]
  },
  {
   "cell_type": "code",
   "execution_count": 26,
   "id": "6d1f0cba",
   "metadata": {
    "ExecuteTime": {
     "end_time": "2024-09-30T10:12:24.194715Z",
     "start_time": "2024-09-30T10:12:24.190634Z"
    }
   },
   "outputs": [],
   "source": [
    "G = 1/G_dist"
   ]
  },
  {
   "cell_type": "code",
   "execution_count": 27,
   "id": "de9a8082",
   "metadata": {
    "ExecuteTime": {
     "end_time": "2024-09-30T10:12:28.870417Z",
     "start_time": "2024-09-30T10:12:28.864300Z"
    }
   },
   "outputs": [
    {
     "data": {
      "text/plain": [
       "array([[1.        , 0.13736056, 0.2236068 , 0.70710678],\n",
       "       [0.13736056, 1.        , 0.18569534, 0.1490712 ],\n",
       "       [0.2236068 , 0.18569534, 1.        , 0.19611614],\n",
       "       [0.70710678, 0.1490712 , 0.19611614, 1.        ]])"
      ]
     },
     "execution_count": 27,
     "metadata": {},
     "output_type": "execute_result"
    }
   ],
   "source": [
    "G"
   ]
  },
  {
   "cell_type": "code",
   "execution_count": null,
   "id": "31528f07",
   "metadata": {},
   "outputs": [],
   "source": []
  }
 ],
 "metadata": {
  "hide_input": false,
  "kernelspec": {
   "display_name": "Python 3 (ipykernel)",
   "language": "python",
   "name": "python3"
  },
  "language_info": {
   "codemirror_mode": {
    "name": "ipython",
    "version": 3
   },
   "file_extension": ".py",
   "mimetype": "text/x-python",
   "name": "python",
   "nbconvert_exporter": "python",
   "pygments_lexer": "ipython3",
   "version": "3.11.5"
  },
  "toc": {
   "base_numbering": 1,
   "nav_menu": {},
   "number_sections": true,
   "sideBar": true,
   "skip_h1_title": false,
   "title_cell": "Table of Contents",
   "title_sidebar": "Contents",
   "toc_cell": false,
   "toc_position": {
    "height": "calc(100% - 180px)",
    "left": "10px",
    "top": "150px",
    "width": "229.663px"
   },
   "toc_section_display": true,
   "toc_window_display": true
  },
  "varInspector": {
   "cols": {
    "lenName": 16,
    "lenType": 16,
    "lenVar": 40
   },
   "kernels_config": {
    "python": {
     "delete_cmd_postfix": "",
     "delete_cmd_prefix": "del ",
     "library": "var_list.py",
     "varRefreshCmd": "print(var_dic_list())"
    },
    "r": {
     "delete_cmd_postfix": ") ",
     "delete_cmd_prefix": "rm(",
     "library": "var_list.r",
     "varRefreshCmd": "cat(var_dic_list()) "
    }
   },
   "types_to_exclude": [
    "module",
    "function",
    "builtin_function_or_method",
    "instance",
    "_Feature"
   ],
   "window_display": false
  }
 },
 "nbformat": 4,
 "nbformat_minor": 5
}
