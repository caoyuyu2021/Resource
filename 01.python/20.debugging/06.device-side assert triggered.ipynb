{
 "cells": [
  {
   "cell_type": "markdown",
   "id": "42c15d9d-14de-4fe1-9ed8-14615b60e509",
   "metadata": {},
   "source": [
    "CUDA error: device-side assert triggered"
   ]
  },
  {
   "cell_type": "markdown",
   "id": "f9f701e0-c0f6-4a1d-8b0c-d82409898f37",
   "metadata": {},
   "source": [
    "这个错误通常出现在GPU端，表示在进行反向传播时发生了无效的操作，比如索引越界或其他不合法的操作。\n",
    "\n",
    "1. 设置 CUDA_LAUNCH_BLOCKING=1  \n",
    "这个设置会强制GPU同步报告错误，从而帮助你定位错误发生的具体位置。你可以通过以下代码设置：  \n",
    "import os  \n",
    "os.environ[\"CUDA_LAUNCH_BLOCKING\"] = \"1\"  \n",
    "这样可以确保错误会立即被报告，帮助你更精确地找到问题的根源。\n",
    "\n",
    "2. 检查索引是否越界    \n",
    "在像 BertForQuestionAnswering 这种模型中，通常需要处理问题的起始和结束位置。如果起始和结束位置标签超出了有效范围，就可能触发该错误。请确保模型的标签（start_positions 和 end_positions）在有效范围内（通常是 0 到序列长度之间）。你可以检查标签是否有效：\n",
    "\n",
    "3. 检查张量形状  \n",
    "确保输入的张量（如 input_ids、attention_mask、start_positions、end_positions 等）形状正确。它们的维度必须符合模型的预期输入。如果形状不匹配，可能会导致错误。\n",
    "\n",
    "4. 检查学习率  \n",
    "如果学习率设置过高，可能会导致数值不稳定，从而导致 NaN 或无效操作。尝试降低学习率，看是否能够解决问题。\n",
    "\n",
    "5. 检查 NaN 或 Inf  \n",
    "在损失函数或者梯度计算中，如果出现 NaN 或 Inf，也可能触发这个错误。在调用 .backward() 之前，你可以检查损失值是否存在 NaN 或 Inf："
   ]
  },
  {
   "cell_type": "markdown",
   "id": "aa2a60db-97b8-49c2-ae27-5424e24a5625",
   "metadata": {},
   "source": [
    "错误原因\t|解决方案\n",
    "---|---|\n",
    "数据类型不匹配\t|检查并转换数据类型\n",
    "索引超出范围\t|验证索引值是否在有效范围内\n",
    "未正确初始化的张量\t|确保张量已正确初始化"
   ]
  },
  {
   "cell_type": "code",
   "execution_count": null,
   "id": "b7368534-9c23-47fc-b821-8bf6728f36c8",
   "metadata": {},
   "outputs": [],
   "source": []
  }
 ],
 "metadata": {
  "kernelspec": {
   "display_name": "Python 3 (ipykernel)",
   "language": "python",
   "name": "python3"
  },
  "language_info": {
   "codemirror_mode": {
    "name": "ipython",
    "version": 3
   },
   "file_extension": ".py",
   "mimetype": "text/x-python",
   "name": "python",
   "nbconvert_exporter": "python",
   "pygments_lexer": "ipython3",
   "version": "3.9.18"
  }
 },
 "nbformat": 4,
 "nbformat_minor": 5
}
