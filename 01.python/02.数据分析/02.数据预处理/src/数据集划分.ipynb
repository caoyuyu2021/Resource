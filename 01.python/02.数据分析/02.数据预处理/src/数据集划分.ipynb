{
 "cells": [
  {
   "cell_type": "code",
   "execution_count": 3,
   "id": "ffd990d5",
   "metadata": {
    "ExecuteTime": {
     "end_time": "2023-12-21T12:28:17.052482Z",
     "start_time": "2023-12-21T12:28:14.358507Z"
    }
   },
   "outputs": [],
   "source": [
    "import datetime as dt\n",
    "import os\n",
    "import warnings\n",
    "from collections import UserDict\n",
    "\n",
    "import matplotlib.pyplot as plt\n",
    "import numpy as np\n",
    "import pandas as pd\n",
    "from IPython.display import Image\n",
    "from sklearn.preprocessing import MinMaxScaler\n",
    "from sklearn.model_selection import train_test_split\n",
    "\n",
    "# 两种绘图接口\n",
    "import plotly_express as px  \n",
    "import plotly.graph_objects as go\n",
    "\n",
    "%matplotlib inline\n",
    "\n",
    "warnings.filterwarnings(\"ignore\")\n",
    "pd.options.display.float_format = \"{:,.2f}\".format\n",
    "np.set_printoptions(precision=2)"
   ]
  },
  {
   "cell_type": "code",
   "execution_count": 5,
   "id": "137cd32c",
   "metadata": {
    "ExecuteTime": {
     "end_time": "2023-12-21T12:29:22.361510Z",
     "start_time": "2023-12-21T12:29:22.231602Z"
    }
   },
   "outputs": [
    {
     "data": {
      "text/html": [
       "<div>\n",
       "<style scoped>\n",
       "    .dataframe tbody tr th:only-of-type {\n",
       "        vertical-align: middle;\n",
       "    }\n",
       "\n",
       "    .dataframe tbody tr th {\n",
       "        vertical-align: top;\n",
       "    }\n",
       "\n",
       "    .dataframe thead th {\n",
       "        text-align: right;\n",
       "    }\n",
       "</style>\n",
       "<table border=\"1\" class=\"dataframe\">\n",
       "  <thead>\n",
       "    <tr style=\"text-align: right;\">\n",
       "      <th></th>\n",
       "      <th>load</th>\n",
       "      <th>temp</th>\n",
       "    </tr>\n",
       "  </thead>\n",
       "  <tbody>\n",
       "    <tr>\n",
       "      <th>2012-01-01 00:00:00</th>\n",
       "      <td>2,698.00</td>\n",
       "      <td>32.00</td>\n",
       "    </tr>\n",
       "    <tr>\n",
       "      <th>2012-01-01 01:00:00</th>\n",
       "      <td>2,558.00</td>\n",
       "      <td>32.67</td>\n",
       "    </tr>\n",
       "    <tr>\n",
       "      <th>2012-01-01 02:00:00</th>\n",
       "      <td>2,444.00</td>\n",
       "      <td>30.00</td>\n",
       "    </tr>\n",
       "    <tr>\n",
       "      <th>2012-01-01 03:00:00</th>\n",
       "      <td>2,402.00</td>\n",
       "      <td>31.00</td>\n",
       "    </tr>\n",
       "    <tr>\n",
       "      <th>2012-01-01 04:00:00</th>\n",
       "      <td>2,403.00</td>\n",
       "      <td>32.00</td>\n",
       "    </tr>\n",
       "  </tbody>\n",
       "</table>\n",
       "</div>"
      ],
      "text/plain": [
       "                        load  temp\n",
       "2012-01-01 00:00:00 2,698.00 32.00\n",
       "2012-01-01 01:00:00 2,558.00 32.67\n",
       "2012-01-01 02:00:00 2,444.00 30.00\n",
       "2012-01-01 03:00:00 2,402.00 31.00\n",
       "2012-01-01 04:00:00 2,403.00 32.00"
      ]
     },
     "execution_count": 5,
     "metadata": {},
     "output_type": "execute_result"
    }
   ],
   "source": [
    "ts_data = pd.read_csv(\"../data/energy.csv\")\n",
    "ts_data = pd.DataFrame(ts_data[[\"load\", \"temp\"]].values, index=pd.to_datetime(ts_data[\"Unnamed: 0\"].values), columns=[\"load\", \"temp\"])\n",
    "ts_data = ts_data.asfreq(freq='H') #转换为小时频率的数据\n",
    "ts_data.head()"
   ]
  },
  {
   "cell_type": "code",
   "execution_count": 8,
   "id": "0494fcaf",
   "metadata": {
    "ExecuteTime": {
     "end_time": "2023-12-21T12:30:51.643385Z",
     "start_time": "2023-12-21T12:30:51.621659Z"
    }
   },
   "outputs": [],
   "source": [
    "#不包含时间维度的数据集划分\n",
    "def split_dataset(df, test_size, valid_size, x_feature_list, y_feature_list):\n",
    "    # 假设X是特征，y是标签\n",
    "    X = df.copy()[x_feature_list]\n",
    "    y = df.copy()[x_feature_list]\n",
    "    # 划分为训练集和临时集合\n",
    "    X_train, X_temp, y_train, y_temp = train_test_split(X, y, test_size=test_size, random_state=42)\n",
    "    # 进一步将临时集合划分为测试集和验证集\n",
    "    X_test, X_val, y_test, y_val = train_test_split(X_temp, y_temp, test_size=valid_size, random_state=42)\n",
    "    \n",
    "    #归一化\n",
    "    X_scaler = MinMaxScaler()\n",
    "    y_scaler = MinMaxScaler()\n",
    "    \n",
    "    #训练集\n",
    "    X_train[x_feature_list] = X_scaler.fit_transform(X_train)\n",
    "    X_train = X_train.values.astype('float32')\n",
    "    #验证集\n",
    "    X_val[x_feature_list] = X_scaler.fit_transform(X_val)\n",
    "    X_val = X_val.values.astype('float32')\n",
    "    #测试集\n",
    "    X_test[x_feature_list] = X_scaler.fit_transform(X_test)\n",
    "    X_test = X_test.values.astype('float32')\n",
    "    \n",
    "    #标签\n",
    "    y_train[y_feature_list] = y_scaler.fit_transform(y_train)\n",
    "    y_train = y_train.values.astype('float32')\n",
    "    y_val[y_feature_list] = y_scaler.fit_transform(y_val)\n",
    "    y_val = y_val.values.astype('float32')\n",
    "    y_test[y_feature_list] = y_scaler.fit_transform(y_test)\n",
    "    y_test = y_test.values.astype('float32')\n",
    "    return y_scaler, X_train, X_val, X_test, y_train, y_val, y_test"
   ]
  },
  {
   "cell_type": "code",
   "execution_count": 9,
   "id": "a3b39d6e",
   "metadata": {
    "ExecuteTime": {
     "end_time": "2023-12-21T12:30:52.342920Z",
     "start_time": "2023-12-21T12:30:52.290232Z"
    }
   },
   "outputs": [],
   "source": [
    "y_scaler, X_train, X_val, X_test, y_train, y_val, y_test = split_dataset(ts_data, 0.2, 0.3, ['load'], ['load'])"
   ]
  },
  {
   "cell_type": "code",
   "execution_count": 12,
   "id": "3494f829",
   "metadata": {
    "ExecuteTime": {
     "end_time": "2023-12-21T12:31:51.794331Z",
     "start_time": "2023-12-21T12:31:51.773911Z"
    }
   },
   "outputs": [
    {
     "name": "stdout",
     "output_type": "stream",
     "text": [
      "X_train shape: (21043, 1) y_train shape: (21043, 1)\n",
      "X_val shape: (1579, 1) y_val shape: (1579, 1)\n",
      "X_test shape: (3682, 1) y_test shape: (3682, 1)\n"
     ]
    }
   ],
   "source": [
    "print(\"X_train shape: {0} y_train shape: {1}\".format(X_train.shape, y_train.shape))\n",
    "print(\"X_val shape: {0} y_val shape: {1}\".format(X_val.shape, y_val.shape))\n",
    "print(\"X_test shape: {0} y_test shape: {1}\".format(X_test.shape, y_test.shape))"
   ]
  },
  {
   "cell_type": "code",
   "execution_count": null,
   "id": "105e1921",
   "metadata": {},
   "outputs": [],
   "source": []
  }
 ],
 "metadata": {
  "kernelspec": {
   "display_name": "Python 3 (ipykernel)",
   "language": "python",
   "name": "python3"
  },
  "language_info": {
   "codemirror_mode": {
    "name": "ipython",
    "version": 3
   },
   "file_extension": ".py",
   "mimetype": "text/x-python",
   "name": "python",
   "nbconvert_exporter": "python",
   "pygments_lexer": "ipython3",
   "version": "3.9.18"
  },
  "toc": {
   "base_numbering": 1,
   "nav_menu": {},
   "number_sections": true,
   "sideBar": true,
   "skip_h1_title": false,
   "title_cell": "Table of Contents",
   "title_sidebar": "Contents",
   "toc_cell": false,
   "toc_position": {},
   "toc_section_display": true,
   "toc_window_display": false
  },
  "varInspector": {
   "cols": {
    "lenName": 16,
    "lenType": 16,
    "lenVar": 40
   },
   "kernels_config": {
    "python": {
     "delete_cmd_postfix": "",
     "delete_cmd_prefix": "del ",
     "library": "var_list.py",
     "varRefreshCmd": "print(var_dic_list())"
    },
    "r": {
     "delete_cmd_postfix": ") ",
     "delete_cmd_prefix": "rm(",
     "library": "var_list.r",
     "varRefreshCmd": "cat(var_dic_list()) "
    }
   },
   "types_to_exclude": [
    "module",
    "function",
    "builtin_function_or_method",
    "instance",
    "_Feature"
   ],
   "window_display": false
  }
 },
 "nbformat": 4,
 "nbformat_minor": 5
}
