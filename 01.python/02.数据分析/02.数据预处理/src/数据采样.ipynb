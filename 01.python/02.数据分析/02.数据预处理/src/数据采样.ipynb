{
 "cells": [
  {
   "cell_type": "markdown",
   "id": "afcc683b",
   "metadata": {},
   "source": [
    "# 数据读取"
   ]
  },
  {
   "cell_type": "code",
   "execution_count": 8,
   "id": "04c69d08",
   "metadata": {
    "ExecuteTime": {
     "end_time": "2024-01-18T06:36:23.289854Z",
     "start_time": "2024-01-18T06:36:23.282823Z"
    }
   },
   "outputs": [],
   "source": [
    "import os\n",
    "import numpy as np\n",
    "import pandas as pd\n",
    "import seaborn as sns\n",
    "import matplotlib.pyplot as plt\n",
    "import plotly.express as px\n",
    "import plotly.graph_objects as go\n",
    "import warnings\n",
    "warnings.filterwarnings('ignore')\n",
    "plt.rcParams['font.sans-serif'] = ['SimHei'] # 用来正常显示中文标签SimHei\n",
    "plt.rcParams['axes.unicode_minus'] = False # 用来正常显示负号\n",
    "pd.set_option('display.float_format',  '{:,.2f}'.format)\n",
    "pd.set_option( 'display.precision',2)\n",
    "%matplotlib inline"
   ]
  },
  {
   "cell_type": "code",
   "execution_count": 9,
   "id": "b80f723b",
   "metadata": {
    "ExecuteTime": {
     "end_time": "2024-01-18T06:36:25.686874Z",
     "start_time": "2024-01-18T06:36:25.660742Z"
    }
   },
   "outputs": [],
   "source": [
    "data = pd.read_csv(\"../data/energy.csv\").drop(['Unnamed: 0'], axis=1)"
   ]
  },
  {
   "cell_type": "code",
   "execution_count": 12,
   "id": "18f098c1",
   "metadata": {
    "ExecuteTime": {
     "end_time": "2024-01-18T09:23:02.739407Z",
     "start_time": "2024-01-18T09:23:02.108322Z"
    }
   },
   "outputs": [
    {
     "data": {
      "text/plain": [
       "<Axes: ylabel='Density'>"
      ]
     },
     "execution_count": 12,
     "metadata": {},
     "output_type": "execute_result"
    },
    {
     "data": {
      "image/png": "[encoded data removed]",
      "text/plain": [
       "<Figure size 640x480 with 1 Axes>"
      ]
     },
     "metadata": {},
     "output_type": "display_data"
    }
   ],
   "source": [
    "sns.distplot(data['load'].values)"
   ]
  },
  {
   "cell_type": "markdown",
   "id": "a7f4c55e",
   "metadata": {},
   "source": [
    "# 采样方法"
   ]
  },
  {
   "cell_type": "markdown",
   "id": "b4407faf",
   "metadata": {},
   "source": [
    "## 均匀采样"
   ]
  },
  {
   "cell_type": "code",
   "execution_count": 11,
   "id": "d6c6698b",
   "metadata": {
    "ExecuteTime": {
     "end_time": "2024-01-18T09:22:50.476149Z",
     "start_time": "2024-01-18T09:22:50.453886Z"
    }
   },
   "outputs": [
    {
     "data": {
      "text/html": [
       "<div>\n",
       "<style scoped>\n",
       "    .dataframe tbody tr th:only-of-type {\n",
       "        vertical-align: middle;\n",
       "    }\n",
       "\n",
       "    .dataframe tbody tr th {\n",
       "        vertical-align: top;\n",
       "    }\n",
       "\n",
       "    .dataframe thead th {\n",
       "        text-align: right;\n",
       "    }\n",
       "</style>\n",
       "<table border=\"1\" class=\"dataframe\">\n",
       "  <thead>\n",
       "    <tr style=\"text-align: right;\">\n",
       "      <th></th>\n",
       "      <th>load</th>\n",
       "      <th>temp</th>\n",
       "    </tr>\n",
       "  </thead>\n",
       "  <tbody>\n",
       "    <tr>\n",
       "      <th>0</th>\n",
       "      <td>2,698.00</td>\n",
       "      <td>32.00</td>\n",
       "    </tr>\n",
       "    <tr>\n",
       "      <th>1</th>\n",
       "      <td>2,558.00</td>\n",
       "      <td>32.67</td>\n",
       "    </tr>\n",
       "    <tr>\n",
       "      <th>2</th>\n",
       "      <td>2,444.00</td>\n",
       "      <td>30.00</td>\n",
       "    </tr>\n",
       "    <tr>\n",
       "      <th>3</th>\n",
       "      <td>2,402.00</td>\n",
       "      <td>31.00</td>\n",
       "    </tr>\n",
       "    <tr>\n",
       "      <th>4</th>\n",
       "      <td>2,403.00</td>\n",
       "      <td>32.00</td>\n",
       "    </tr>\n",
       "    <tr>\n",
       "      <th>...</th>\n",
       "      <td>...</td>\n",
       "      <td>...</td>\n",
       "    </tr>\n",
       "    <tr>\n",
       "      <th>26299</th>\n",
       "      <td>4,012.00</td>\n",
       "      <td>18.00</td>\n",
       "    </tr>\n",
       "    <tr>\n",
       "      <th>26300</th>\n",
       "      <td>3,856.00</td>\n",
       "      <td>16.67</td>\n",
       "    </tr>\n",
       "    <tr>\n",
       "      <th>26301</th>\n",
       "      <td>3,671.00</td>\n",
       "      <td>17.00</td>\n",
       "    </tr>\n",
       "    <tr>\n",
       "      <th>26302</th>\n",
       "      <td>3,499.00</td>\n",
       "      <td>15.33</td>\n",
       "    </tr>\n",
       "    <tr>\n",
       "      <th>26303</th>\n",
       "      <td>3,345.00</td>\n",
       "      <td>15.33</td>\n",
       "    </tr>\n",
       "  </tbody>\n",
       "</table>\n",
       "<p>26304 rows × 2 columns</p>\n",
       "</div>"
      ],
      "text/plain": [
       "          load  temp\n",
       "0     2,698.00 32.00\n",
       "1     2,558.00 32.67\n",
       "2     2,444.00 30.00\n",
       "3     2,402.00 31.00\n",
       "4     2,403.00 32.00\n",
       "...        ...   ...\n",
       "26299 4,012.00 18.00\n",
       "26300 3,856.00 16.67\n",
       "26301 3,671.00 17.00\n",
       "26302 3,499.00 15.33\n",
       "26303 3,345.00 15.33\n",
       "\n",
       "[26304 rows x 2 columns]"
      ]
     },
     "execution_count": 11,
     "metadata": {},
     "output_type": "execute_result"
    }
   ],
   "source": [
    "data"
   ]
  },
  {
   "cell_type": "markdown",
   "id": "2a4376e8",
   "metadata": {},
   "source": [
    "## 非均匀采样"
   ]
  },
  {
   "cell_type": "code",
   "execution_count": null,
   "id": "211b2dc6",
   "metadata": {},
   "outputs": [],
   "source": []
  },
  {
   "cell_type": "markdown",
   "id": "ca4e89ac",
   "metadata": {},
   "source": [
    "## 分层随机采样"
   ]
  },
  {
   "cell_type": "markdown",
   "id": "46d2d62f",
   "metadata": {},
   "source": [
    "## OCSVM采样"
   ]
  },
  {
   "cell_type": "markdown",
   "id": "18d223f4",
   "metadata": {},
   "source": [
    "## GSW采样"
   ]
  },
  {
   "cell_type": "markdown",
   "id": "63a1025b",
   "metadata": {},
   "source": [
    "## LTTB采样"
   ]
  },
  {
   "cell_type": "code",
   "execution_count": null,
   "id": "3049e4d0",
   "metadata": {},
   "outputs": [],
   "source": []
  }
 ],
 "metadata": {
  "hide_input": false,
  "kernelspec": {
   "display_name": "Python 3 (ipykernel)",
   "language": "python",
   "name": "python3"
  },
  "language_info": {
   "codemirror_mode": {
    "name": "ipython",
    "version": 3
   },
   "file_extension": ".py",
   "mimetype": "text/x-python",
   "name": "python",
   "nbconvert_exporter": "python",
   "pygments_lexer": "ipython3",
   "version": "3.11.5"
  },
  "toc": {
   "base_numbering": 1,
   "nav_menu": {},
   "number_sections": true,
   "sideBar": true,
   "skip_h1_title": false,
   "title_cell": "Table of Contents",
   "title_sidebar": "Contents",
   "toc_cell": false,
   "toc_position": {
    "height": "calc(100% - 180px)",
    "left": "10px",
    "top": "150px",
    "width": "231.667px"
   },
   "toc_section_display": true,
   "toc_window_display": true
  },
  "varInspector": {
   "cols": {
    "lenName": 16,
    "lenType": 16,
    "lenVar": 40
   },
   "kernels_config": {
    "python": {
     "delete_cmd_postfix": "",
     "delete_cmd_prefix": "del ",
     "library": "var_list.py",
     "varRefreshCmd": "print(var_dic_list())"
    },
    "r": {
     "delete_cmd_postfix": ") ",
     "delete_cmd_prefix": "rm(",
     "library": "var_list.r",
     "varRefreshCmd": "cat(var_dic_list()) "
    }
   },
   "types_to_exclude": [
    "module",
    "function",
    "builtin_function_or_method",
    "instance",
    "_Feature"
   ],
   "window_display": false
  }
 },
 "nbformat": 4,
 "nbformat_minor": 5
}
