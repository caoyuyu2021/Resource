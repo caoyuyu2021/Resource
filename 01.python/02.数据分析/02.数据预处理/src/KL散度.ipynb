{
 "cells": [
  {
   "cell_type": "code",
   "execution_count": null,
   "id": "7f58452d",
   "metadata": {},
   "outputs": [],
   "source": [
    "import numpy as np\n",
    "import matplotlib.pyplot as plt\n",
    "from scipy.stats import entropy\n",
    "\n",
    "np.random.seed(42)\n",
    "data1 = new_data[:,0] # 数据一\n",
    "data2 = ts_data['load'].values # 数据二\n",
    "\n",
    "# 生成两个直方图\n",
    "hist1, bins1 = np.histogram(data1, bins=50, density=True) # hist等于频率/组距\n",
    "hist2, bins2 = np.histogram(data2, bins=50, density=True)\n",
    "\n",
    "# 计算每个区间的概率密度\n",
    "pdf1 = hist1 / np.sum(hist1)\n",
    "pdf2 = hist2 / np.sum(hist2)\n",
    "\n",
    "# 计算KL散度\n",
    "kl_divergence = entropy(pdf1, pdf2)\n",
    "\n",
    "# 打印结果\n",
    "print(\"KL散度:\", kl_divergence)\n",
    "\n",
    "# 绘制直方图和概率密度函数\n",
    "plt.figure()\n",
    "plt.hist(data1, bins=bins1, density=True, alpha=0.3, color='#11b3b6', label='Data 1', histtype='stepfilled' )\n",
    "plt.hist(data2, bins=bins2, density=True, alpha=0.3, color='#f14643', label='Data 2', histtype='stepfilled')\n",
    "plt.legend() \n",
    "plt.title('频率直方图')\n",
    "\n",
    "plt.figure()\n",
    "plt.plot((bins1[:-1] + bins1[1:]) / 2, pdf1, color='#11b3b6', linestyle='dashed', linewidth=2, label='PDF 1')\n",
    "plt.plot((bins2[:-1] + bins2[1:]) / 2, pdf2, color='#f14643', linestyle='dashed', linewidth=2, label='PDF 2')\n",
    "# 显示图例和标题\n",
    "plt.legend()\n",
    "plt.title('概率密度图')\n",
    "\n",
    "plt.show()"
   ]
  }
 ],
 "metadata": {
  "hide_input": false,
  "kernelspec": {
   "display_name": "Python 3 (ipykernel)",
   "language": "python",
   "name": "python3"
  },
  "language_info": {
   "codemirror_mode": {
    "name": "ipython",
    "version": 3
   },
   "file_extension": ".py",
   "mimetype": "text/x-python",
   "name": "python",
   "nbconvert_exporter": "python",
   "pygments_lexer": "ipython3",
   "version": "3.11.5"
  },
  "toc": {
   "base_numbering": 1,
   "nav_menu": {},
   "number_sections": true,
   "sideBar": true,
   "skip_h1_title": false,
   "title_cell": "Table of Contents",
   "title_sidebar": "Contents",
   "toc_cell": false,
   "toc_position": {},
   "toc_section_display": true,
   "toc_window_display": false
  },
  "varInspector": {
   "cols": {
    "lenName": 16,
    "lenType": 16,
    "lenVar": 40
   },
   "kernels_config": {
    "python": {
     "delete_cmd_postfix": "",
     "delete_cmd_prefix": "del ",
     "library": "var_list.py",
     "varRefreshCmd": "print(var_dic_list())"
    },
    "r": {
     "delete_cmd_postfix": ") ",
     "delete_cmd_prefix": "rm(",
     "library": "var_list.r",
     "varRefreshCmd": "cat(var_dic_list()) "
    }
   },
   "types_to_exclude": [
    "module",
    "function",
    "builtin_function_or_method",
    "instance",
    "_Feature"
   ],
   "window_display": false
  }
 },
 "nbformat": 4,
 "nbformat_minor": 5
}
