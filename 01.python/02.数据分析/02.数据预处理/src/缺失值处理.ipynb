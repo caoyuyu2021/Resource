{
 "cells": [
  {
   "cell_type": "markdown",
   "id": "34970a2f",
   "metadata": {},
   "source": [
    "# 前言"
   ]
  },
  {
   "cell_type": "markdown",
   "id": "516bdc47",
   "metadata": {},
   "source": [
    "缺失值（类型）：\n",
    "\n",
    "- 完全随机缺失（missing completely at random，MCAR）：指的是数据的缺失是随机的，数据的缺失不依赖于任何不完全变量或完全变量。空值的出现与数据集中已知或者未知的特征是完全无关的（没有任何已知特征与其相关，类似自然选择无筛选条件）。比如：一调查问卷中的性别字段，是否缺失属于完全随机，它取决于调查对象。\n",
    "- 随机缺失 (missing at random,MAR)：指的是数据的缺失不是完全随机的，即该类数据的缺失依赖于其他完全变量。比如：一个关于教育的数据集缺失了很多小孩的IQ测试分数，只是因为相比十二岁的孩子，四岁的孩子很少会通过这个测试。所以出现的空值与IQ实际值没有相关性，而与年龄相关。IQ字段缺失记录主要集中在低年龄人群中！\n",
    "- 非随机缺失 (missing not at random,MNAR)：指的是数据的缺失依赖于不完全变量自身。 比如：只有具有低分个体的IQ变量值缺失。"
   ]
  },
  {
   "cell_type": "markdown",
   "id": "ee508404",
   "metadata": {},
   "source": [
    "前两种情况下，根据出现的情况删除含有缺失值的数据是安全的，而在第三种情况下，删除含有缺失值的观测值可能会在模型中产生偏差。"
   ]
  },
  {
   "cell_type": "markdown",
   "id": "a0d83fca",
   "metadata": {},
   "source": [
    "# 缺失值的识别"
   ]
  },
  {
   "cell_type": "code",
   "execution_count": 1,
   "id": "452005e0",
   "metadata": {
    "ExecuteTime": {
     "end_time": "2023-11-16T09:35:33.822774Z",
     "start_time": "2023-11-16T09:35:33.036412Z"
    }
   },
   "outputs": [],
   "source": [
    "import pandas as pd \n",
    "import numpy as np"
   ]
  },
  {
   "cell_type": "code",
   "execution_count": 11,
   "id": "f40b9f59",
   "metadata": {
    "ExecuteTime": {
     "end_time": "2023-10-19T07:55:49.719593Z",
     "start_time": "2023-10-19T07:55:49.707650Z"
    }
   },
   "outputs": [
    {
     "name": "stdout",
     "output_type": "stream",
     "text": [
      "带有缺失值的数据\n",
      "        one       two     three      four\n",
      "A -1.755212  0.296064 -0.072823 -1.252411\n",
      "B  1.523137 -0.445252  0.791023 -0.434625\n",
      "C       NaN       NaN       NaN -0.075022\n",
      "D  0.540466  0.734528       NaN  1.598347\n",
      "E  0.294629 -0.252511       NaN  0.813611\n",
      "F  0.724350 -0.437479  0.214818  0.788320\n",
      "对整个数据表进行识别\n",
      "     one    two  three   four\n",
      "A  False  False  False  False\n",
      "B  False  False  False  False\n",
      "C   True   True   True  False\n",
      "D  False  False   True  False\n",
      "E  False  False   True  False\n",
      "F  False  False  False  False\n",
      "判断哪些列存在缺失值\n",
      "one       True\n",
      "two       True\n",
      "three     True\n",
      "four     False\n",
      "dtype: bool\n",
      "展示数据缺失值的位置，用True表示\n",
      "[[False False False False]\n",
      " [False False False False]\n",
      " [ True  True  True False]\n",
      " [False False  True False]\n",
      " [False False  True False]\n",
      " [False False False False]]\n"
     ]
    }
   ],
   "source": [
    "df = pd.DataFrame(np.random.randn(6,4),index=list('ABCDEF'),columns=['one','two','three','four'])\n",
    "df.iloc[2,:-2] = np.nan\n",
    "df.iloc[2:-1,2] = np.nan\n",
    "print(\"带有缺失值的数据\")\n",
    "print(df)\n",
    "\"\"\"------------缺失值的识别----------------\"\"\"\n",
    "print(\"对整个数据表进行识别\")\n",
    "print(df.isnull())\n",
    "print(\"判断哪些列存在缺失值\")\n",
    "print(df.isnull().any())\n",
    "print(\"展示数据缺失值的位置，用True表示\")\n",
    "print(df.isnull().values==True)"
   ]
  },
  {
   "cell_type": "markdown",
   "id": "bad58ee8",
   "metadata": {},
   "source": [
    "# 删除缺失值"
   ]
  },
  {
   "cell_type": "markdown",
   "id": "90459743",
   "metadata": {},
   "source": [
    "80%法则 (Bijlsma et al. 2006)认为，当某一物质的非缺失部分低于总样本量的80%时，建议删除该物质。Modified 80%法则认为， 当某一物质的非缺失部分低于所有生物学亚组的80%时，建议删除该物质。"
   ]
  },
  {
   "cell_type": "code",
   "execution_count": 13,
   "id": "fbbb8090",
   "metadata": {
    "ExecuteTime": {
     "end_time": "2023-10-19T08:08:30.578371Z",
     "start_time": "2023-10-19T08:08:30.560670Z"
    }
   },
   "outputs": [
    {
     "name": "stdout",
     "output_type": "stream",
     "text": [
      "删除有缺失值的行\n",
      "        one       two     three      four\n",
      "A  0.370368 -1.137125  0.481571  0.645958\n",
      "B  0.086334 -0.740657  0.624970 -1.774424\n",
      "F -1.026114  1.343027 -0.943506  1.435659\n",
      "只有行里的数据全部为空时才删除\n",
      "        one       two     three      four\n",
      "A  0.370368 -1.137125  0.481571  0.645958\n",
      "B  0.086334 -0.740657  0.624970 -1.774424\n",
      "C       NaN       NaN       NaN  0.773868\n",
      "D -0.112797 -0.637683       NaN -0.675264\n",
      "E -0.530505 -1.718158       NaN  1.238525\n",
      "F -1.026114  1.343027 -0.943506  1.435659\n",
      "删除有缺失值的列\n",
      "       four\n",
      "A  0.645958\n",
      "B -1.774424\n",
      "C  0.773868\n",
      "D -0.675264\n",
      "E  1.238525\n",
      "F  1.435659\n",
      "只有列里的数据全部为空时才删除\n",
      "        one       two     three      four\n",
      "A  0.370368 -1.137125  0.481571  0.645958\n",
      "B  0.086334 -0.740657  0.624970 -1.774424\n",
      "C       NaN       NaN       NaN  0.773868\n",
      "D -0.112797 -0.637683       NaN -0.675264\n",
      "E -0.530505 -1.718158       NaN  1.238525\n",
      "F -1.026114  1.343027 -0.943506  1.435659\n"
     ]
    }
   ],
   "source": [
    "\"\"\"------------删除缺失值----------------\"\"\"\n",
    "df = pd.DataFrame(np.random.randn(6,4),index=list('ABCDEF'),columns=['one','two','three','four'])\n",
    "df.iloc[2,:-2] = np.nan\n",
    "df.iloc[2:-1,2] = np.nan\n",
    "print(\"删除有缺失值的行\")\n",
    "print(df.dropna(axis=0))\n",
    "\n",
    "print(\"只有行里的数据全部为空时才删除\")\n",
    "print(df.dropna(how='all'))\n",
    "\n",
    "print(\"删除有缺失值的列\")\n",
    "print(df.dropna(axis=1))\n",
    "\n",
    "print(\"只有列里的数据全部为空时才删除\")\n",
    "print(df.dropna(how='all',axis=1))"
   ]
  },
  {
   "cell_type": "markdown",
   "id": "2f524f64",
   "metadata": {},
   "source": [
    "# 数据填充"
   ]
  },
  {
   "cell_type": "markdown",
   "id": "89713207",
   "metadata": {},
   "source": [
    "- 使用一个自定义值进行填充\n",
    "- 使用相邻的数据进行填充\n",
    "- 使用一个字符串进行填充\n",
    "- 使用统计数进行填充（如：平均数，中位数，众数）\n",
    "- 使用插值法进行填充"
   ]
  },
  {
   "cell_type": "code",
   "execution_count": 12,
   "id": "cfcb390f",
   "metadata": {
    "ExecuteTime": {
     "end_time": "2023-10-19T07:58:20.992725Z",
     "start_time": "2023-10-19T07:58:20.959505Z"
    }
   },
   "outputs": [
    {
     "name": "stdout",
     "output_type": "stream",
     "text": [
      "DataFrame.fillna()填充数据\n",
      "使用固定值代替缺失值\n",
      "        one       two     three      four\n",
      "A -1.755212  0.296064 -0.072823 -1.252411\n",
      "B  1.523137 -0.445252  0.791023 -0.434625\n",
      "C  3.000000  3.000000  3.000000 -0.075022\n",
      "D  0.540466  0.734528  3.000000  1.598347\n",
      "E  0.294629 -0.252511  3.000000  0.813611\n",
      "F  0.724350 -0.437479  0.214818  0.788320\n",
      "使用字符串替换缺失值\n",
      "        one       two     three      four\n",
      "A -1.755212  0.296064 -0.072823 -1.252411\n",
      "B  1.523137 -0.445252  0.791023 -0.434625\n",
      "C   default   default   default -0.075022\n",
      "D  0.540466  0.734528   default  1.598347\n",
      "E  0.294629 -0.252511   default  0.813611\n",
      "F   0.72435 -0.437479  0.214818  0.788320\n",
      "用前一个数替换缺失值\n",
      "        one       two     three      four\n",
      "A -1.755212  0.296064 -0.072823 -1.252411\n",
      "B  1.523137 -0.445252  0.791023 -0.434625\n",
      "C  1.523137 -0.445252  0.791023 -0.075022\n",
      "D  0.540466  0.734528  0.791023  1.598347\n",
      "E  0.294629 -0.252511  0.791023  0.813611\n",
      "F  0.724350 -0.437479  0.214818  0.788320\n",
      "用后一个数替换缺失值\n",
      "        one       two     three      four\n",
      "A -1.755212  0.296064 -0.072823 -1.252411\n",
      "B  1.523137 -0.445252  0.791023 -0.434625\n",
      "C  0.540466  0.734528       NaN -0.075022\n",
      "D  0.540466  0.734528       NaN  1.598347\n",
      "E  0.294629 -0.252511  0.214818  0.813611\n",
      "F  0.724350 -0.437479  0.214818  0.788320\n",
      "用统计数替换缺失值，如平均数\n",
      "        one       two     three      four\n",
      "A -1.755212  0.296064 -0.072823 -1.252411\n",
      "B  1.523137 -0.445252  0.791023 -0.434625\n",
      "C  0.265474 -0.020930  0.311006 -0.075022\n",
      "D  0.540466  0.734528  0.311006  1.598347\n",
      "E  0.294629 -0.252511  0.311006  0.813611\n",
      "F  0.724350 -0.437479  0.214818  0.788320\n",
      "还可以指定列来，替换缺失值\n",
      "        one       two     three      four\n",
      "A -1.755212  0.296064 -0.072823 -1.252411\n",
      "B  1.523137 -0.445252  0.791023 -0.434625\n",
      "C  0.265474 -0.020930  0.311006 -0.075022\n",
      "D  0.540466  0.734528  0.311006  1.598347\n",
      "E  0.294629 -0.252511  0.311006  0.813611\n",
      "F  0.724350 -0.437479  0.214818  0.788320\n",
      "用统计数替换缺失值，如中位数\n",
      "        one       two     three      four\n",
      "A -1.755212  0.296064 -0.072823 -1.252411\n",
      "B  1.523137 -0.445252  0.791023 -0.434625\n",
      "C  0.540466 -0.252511  0.214818 -0.075022\n",
      "D  0.540466  0.734528  0.214818  1.598347\n",
      "E  0.294629 -0.252511  0.214818  0.813611\n",
      "F  0.724350 -0.437479  0.214818  0.788320\n",
      "插值法填补缺失值\n",
      "        one       two     three      four\n",
      "A -1.755212  0.296064 -0.072823 -1.252411\n",
      "B  1.523137 -0.445252  0.791023 -0.434625\n",
      "C  1.031801  0.144638  0.646972 -0.075022\n",
      "D  0.540466  0.734528  0.502921  1.598347\n",
      "E  0.294629 -0.252511  0.358870  0.813611\n",
      "F  0.724350 -0.437479  0.214818  0.788320\n"
     ]
    }
   ],
   "source": [
    "\"\"\"------------填充数据----------------\"\"\"\n",
    "print(\"DataFrame.fillna()填充数据\")\n",
    "print(\"使用固定值代替缺失值\")\n",
    "print(df.fillna(3))\n",
    "\n",
    "print(\"使用字符串替换缺失值\")\n",
    "print(df.fillna('default'))\n",
    "\n",
    "print(\"用前一个数替换缺失值\")\n",
    "print(df.fillna(method='pad'))\n",
    "\n",
    "print(\"用后一个数替换缺失值\")\n",
    "print(df.fillna(method='bfill',limit=1))\n",
    "\n",
    "print(\"用统计数替换缺失值，如平均数\")\n",
    "print(df.fillna(df.mean()))#用每一列的均值填充\n",
    "\n",
    "print(\"还可以指定列来，替换缺失值\")\n",
    "print(df.fillna(df.mean()['one':'three']))\n",
    "\n",
    "print(\"用统计数替换缺失值，如中位数\")\n",
    "print(df.fillna(df.median()))#用每一列的中位数填充\n",
    "\n",
    "print(\"插值法填补缺失值\")\n",
    "print(df.interpolate())"
   ]
  },
  {
   "cell_type": "markdown",
   "id": "ae5e5070",
   "metadata": {},
   "source": [
    "# 基于KNN算法的数值插补"
   ]
  },
  {
   "cell_type": "markdown",
   "id": "76d578c8",
   "metadata": {},
   "source": [
    "通过距离测量来识别数据集中空间相似或相近的 k个样本。然后，使用这些 k 样本来估计缺失数据点的值。每个样本的缺失值使用数据集中找到的 k 邻域的平均值进行插补。"
   ]
  },
  {
   "cell_type": "markdown",
   "id": "cdac3420",
   "metadata": {},
   "source": [
    "## 含有缺失值的欧几里得距离的计算"
   ]
  },
  {
   "cell_type": "markdown",
   "id": "1a63f4a1",
   "metadata": {},
   "source": [
    "在存在缺失坐标的情况下，通过忽略缺失值并放大非缺失坐标的权重来计算欧几里德距离。"
   ]
  },
  {
   "cell_type": "code",
   "execution_count": 1,
   "id": "ca63edb0",
   "metadata": {
    "ExecuteTime": {
     "end_time": "2023-10-19T07:22:05.579438Z",
     "start_time": "2023-10-19T07:22:00.718734Z"
    }
   },
   "outputs": [
    {
     "data": {
      "text/plain": [
       "array([[6.59545298]])"
      ]
     },
     "execution_count": 1,
     "metadata": {},
     "output_type": "execute_result"
    }
   ],
   "source": [
    "# 基于sklearn.metrics.pairwise的计算\n",
    "import numpy as np\n",
    "from sklearn.metrics.pairwise import nan_euclidean_distances\n",
    "x = [[3, np.nan, 5]]\n",
    "y = [[1, 0, 0]]\n",
    "nan_euclidean_distances(x, y)"
   ]
  },
  {
   "cell_type": "code",
   "execution_count": 2,
   "id": "b33183ad",
   "metadata": {
    "ExecuteTime": {
     "end_time": "2023-10-19T07:22:25.786796Z",
     "start_time": "2023-10-19T07:22:25.763279Z"
    }
   },
   "outputs": [
    {
     "data": {
      "text/plain": [
       "array([[0.        , 6.59545298],\n",
       "       [6.59545298, 0.        ]])"
      ]
     },
     "execution_count": 2,
     "metadata": {},
     "output_type": "execute_result"
    }
   ],
   "source": [
    "x = [[3, np.nan, 5], [1, 0, 0]]\n",
    "nan_euclidean_distances(x, x)"
   ]
  },
  {
   "cell_type": "markdown",
   "id": "fac3e4b2",
   "metadata": {},
   "source": [
    "## 基于KNNImputer插补方法"
   ]
  },
  {
   "cell_type": "markdown",
   "id": "a36fbcb5",
   "metadata": {},
   "source": [
    "基本思想：KNNImputer通过欧几里德距离矩阵寻找最近邻样本，使用最近邻样本的对应位置的非空数值的均值填补缺失的数值。"
   ]
  },
  {
   "cell_type": "code",
   "execution_count": 3,
   "id": "4f41b168",
   "metadata": {
    "ExecuteTime": {
     "end_time": "2023-10-19T07:23:41.662668Z",
     "start_time": "2023-10-19T07:23:41.091592Z"
    }
   },
   "outputs": [
    {
     "data": {
      "text/plain": [
       "array([[ 0.        ,  3.46410162,  6.92820323, 11.29158979],\n",
       "       [ 3.46410162,  0.        ,  3.46410162,  7.54983444],\n",
       "       [ 6.92820323,  3.46410162,  0.        ,  3.46410162],\n",
       "       [11.29158979,  7.54983444,  3.46410162,  0.        ]])"
      ]
     },
     "execution_count": 3,
     "metadata": {},
     "output_type": "execute_result"
    }
   ],
   "source": [
    "from sklearn.impute import KNNImputer\n",
    "import numpy as np\n",
    "\n",
    "X = [[1, 2, np.nan], [3, 4, 3], [np.nan, 6, 5], [8, 8, 7]]\n",
    "np.array(X)\n",
    "\n",
    "nan_euclidean_distances(X, X)"
   ]
  },
  {
   "cell_type": "code",
   "execution_count": 4,
   "id": "064721e6",
   "metadata": {
    "ExecuteTime": {
     "end_time": "2023-10-19T07:24:42.600342Z",
     "start_time": "2023-10-19T07:24:42.591232Z"
    }
   },
   "outputs": [
    {
     "data": {
      "text/plain": [
       "array([[1. , 2. , 4. ],\n",
       "       [3. , 4. , 3. ],\n",
       "       [5.5, 6. , 5. ],\n",
       "       [8. , 8. , 7. ]])"
      ]
     },
     "execution_count": 4,
     "metadata": {},
     "output_type": "execute_result"
    }
   ],
   "source": [
    "imputer = KNNImputer(n_neighbors=2)\n",
    "imputer.fit_transform(X)"
   ]
  },
  {
   "cell_type": "markdown",
   "id": "50d1d807",
   "metadata": {},
   "source": [
    "# 回归填充"
   ]
  },
  {
   "cell_type": "markdown",
   "id": "a39b07a4",
   "metadata": {},
   "source": [
    "回归方程填充法，是选择若干能预测缺失值的自变量，通过建立回归方程估算缺失值。该方法能尽可能地利用原数据集中的信息，但也存在一些不足之处：1. 虽然这是一个无偏估计，但会忽视随机误差，低估标准差和其他未知性质的测量值。2.使用前，必须假设存在缺失值所在的变量与其他变量是存在线性关系的,但现实它们不一定存在这样的线性关系，这可以借助统计工具来辨析，但往往更需要建模人员的实践经验和业务知识来进行分析和判断。"
   ]
  },
  {
   "cell_type": "markdown",
   "id": "13c1b2a2",
   "metadata": {},
   "source": [
    "所有的回归方法均可使用此步骤。如线性回归、随机森林回归、svm回归等。"
   ]
  },
  {
   "cell_type": "markdown",
   "id": "74bae8b4",
   "metadata": {},
   "source": [
    "## 方法步骤"
   ]
  },
  {
   "cell_type": "markdown",
   "id": "16724785",
   "metadata": {},
   "source": [
    "a. 确定填充缺失值的变量（特征列）  \n",
    "\n",
    "b. 拆分原始数据集：\n",
    "根据需要充填缺失值的变量，把原始数据集拆分为2个子集（1. 不含有缺失值：dataset_train; 2. 只含有缺失值dataset_pred)\n",
    "\n",
    "c. 辨析并检验相关变量的相关性：\n",
    "经验分析判定与充填缺失值的变量相关的属性列有哪些，应用统计分析工具，在dataset_train数据集上查看验证所选择的属性列之间的相关性。\n",
    "\n",
    "d. 建模并预测：\n",
    "使用dataset_train数据集建立线性回归模型，并应用建好的模型对dataset_pred数据集中的缺失变量进行预测估计\n",
    "\n",
    "e. 合并还原数据集：\n",
    "将两个子集合并还原为一个数据集，为后续建模准备好数据。"
   ]
  },
  {
   "cell_type": "markdown",
   "id": "b25492ae",
   "metadata": {},
   "source": [
    "**那如果数据中除了特征T之外，其他特征也有缺失值怎么办？**\n",
    "\n",
    "答案是遍历所有的特征，从缺失最少的开始进行填补（因为填补缺失最少的特征所需要的准确信息最少）。填补一个特征时，先将其他特征的缺失值用0代替，每完成一次回归预测，就将预测值放到原本的特征矩阵中，再继续填补下一个特征。每一次填补完毕，有缺失值的特征会减少一个，所以每次循环后，需要用0来填补的特征就越来越少。当进行到最后一个特征时（这个特征应该是所有特征中缺失值最多的），已经没有任何的其他特征需要用0来进行填补了，而我们已经使用回归为其他特征填补了大量有效信息，可以用来填补缺失最多的特征。遍历所有的特征后，数据就完整，不再有缺失值了。"
   ]
  },
  {
   "cell_type": "markdown",
   "id": "35ff727c",
   "metadata": {},
   "source": [
    "## 应用实例"
   ]
  },
  {
   "cell_type": "code",
   "execution_count": 9,
   "id": "e66b938c",
   "metadata": {
    "ExecuteTime": {
     "end_time": "2023-10-19T07:49:22.733435Z",
     "start_time": "2023-10-19T07:49:22.599581Z"
    }
   },
   "outputs": [
    {
     "name": "stdout",
     "output_type": "stream",
     "text": [
      "    ID Weight Height\n",
      "0  001     60    NaN\n",
      "1  002     70    175\n",
      "2  003     55    180\n",
      "3  004     57    167\n",
      "4  005     80    NaN\n",
      "5  006     78    169\n",
      "6  007     90    185\n",
      "    ID Weight Height\n",
      "1  002     70    175\n",
      "2  003     55    180\n",
      "3  004     57    167\n",
      "5  006     78    169\n",
      "6  007     90    185\n",
      "[[172.03566434]]\n",
      "[[173.09044289]]\n"
     ]
    }
   ],
   "source": [
    "# 创建一个学生信息集，属性列ID、Weight和Height\n",
    " \n",
    "import pandas as pd\n",
    "import numpy as np\n",
    "# 学生数据集\n",
    "sInfo = pd.DataFrame({\"ID\":[\"001\",\"002\",\"003\",\"004\",\"005\",\"006\",\"007\"],\n",
    "                      \"Weight\":['60','70','55','57','80','78','90'],\n",
    "                      \"Height\":[np.nan, '175', '180', '167', np.nan,'169','185']})\n",
    "print(sInfo)\n",
    "# 删除缺失值行\n",
    "sInfonew = sInfo.dropna(axis=0,how=\"any\")\n",
    "print(sInfonew)\n",
    " \n",
    "# 建立回归模型做数据填充\n",
    "from sklearn.linear_model import LinearRegression # 线性回归模型\n",
    "\n",
    "model = LinearRegression()\n",
    "model.fit(sInfonew[\"Weight\"].values.reshape(-1,1), sInfonew[\"Height\"].values.reshape(-1,1)) # 模型训练\n",
    " \n",
    "# 假设已知体重55kg，身高未知\n",
    "result = model.predict([[55]])\n",
    "print(result)\n",
    " \n",
    "result2 = model.predict([[60]])\n",
    "print(result2)"
   ]
  },
  {
   "cell_type": "markdown",
   "id": "7ea5f0cf",
   "metadata": {
    "ExecuteTime": {
     "end_time": "2023-10-19T07:47:32.198845Z",
     "start_time": "2023-10-19T07:47:32.192633Z"
    }
   },
   "source": [
    "# 插值函数"
   ]
  },
  {
   "cell_type": "markdown",
   "id": "53791bd8",
   "metadata": {},
   "source": [
    "scipy.interpolate 模块有一维插值函数(interp1d)、二位插值函数(interp2d)、多为插值函数(interpn、interpnd)。\n",
    "\n",
    "内插法和外插法的区别：是处理方法不同、职责不同、工作内容不同，核心区别就是：内插法在样本数据的范围内预测，比外插法要准。用回归方程预测范围以外的数值称为外插法，而内插法是对数据范围内的点进行预测。"
   ]
  },
  {
   "cell_type": "code",
   "execution_count": 2,
   "id": "4ee4e3fd",
   "metadata": {
    "ExecuteTime": {
     "end_time": "2023-11-16T09:35:52.116979Z",
     "start_time": "2023-11-16T09:35:50.156053Z"
    }
   },
   "outputs": [
    {
     "data": {
      "image/png": "[encoded data removed]",
      "text/plain": [
       "<Figure size 800x600 with 4 Axes>"
      ]
     },
     "metadata": {},
     "output_type": "display_data"
    }
   ],
   "source": [
    "#一维插值方法(内插)比较\n",
    "import numpy as np\n",
    "import matplotlib.pyplot as plt  # 导入 Matplotlib 工具包\n",
    "from scipy.interpolate import interp1d  # 导入 scipy 中的一维插值工具 interp1d\n",
    "\n",
    "# 生成已知数据点集 (x,y)，需插值的数据点集 xnew\n",
    "np.random.seed(5)\n",
    "x = np.linspace(0, 5, 10)  # 生成已知数据点集的 x\n",
    "y = np.cos(x/10)*2 + 0.5*np.random.rand(10)  # 生成已知数据点集的 y\n",
    "xnew = np.linspace(0, 5, 100)  # 指定需插值的数据点集 xnew\n",
    "\n",
    "# 使用不同插值方法，由给定数据点集 (x,y) 求插值函数 fx\n",
    "f1 = interp1d(x, y, kind=\"linear\")  # 线性插值\n",
    "f2 = interp1d(x, y, kind=\"zero\")  # 零阶样条插值\n",
    "f3 = interp1d(x, y, kind=\"slinear\")  # 一次样条插值\n",
    "f4 = interp1d(x, y, kind=\"quadratic\")  # 二次样条插值\n",
    "f5 = interp1d(x, y, kind=\"cubic\")  # 三次样条插值\n",
    "f6 = interp1d(x, y, kind=\"nearest\")  # 临近点插值，向下舍入\n",
    "# f7 = interp1d(x, y, kind=\"nearest-up\")  # 临近点插值，向上舍入\n",
    "f8 = interp1d(x, y, kind=\"previous\")  # 前点插值\n",
    "f9 = interp1d(x, y, kind=\"next\")  # 后点插值\n",
    "\n",
    "# 绘图\n",
    "plt.figure(figsize=(8,6))\n",
    "plt.suptitle(\"Data interpolate\")  # 全局标题\n",
    "plt.subplot(221)\n",
    "plt.plot(x, y, \"o\",  label=\"data\")  # 已知数据点\n",
    "plt.plot(xnew, f2(xnew), label=\"0-order spline\")  # 零阶样条插值\n",
    "plt.plot(xnew, f3(xnew), label=\"1-order spline\")  # 一阶样条插值\n",
    "plt.legend(loc=\"lower left\")\n",
    "plt.subplot(222)\n",
    "plt.plot(x, y, \"o\",  label=\"data\")  # 已知数据点\n",
    "plt.plot(xnew, f4(xnew), label=\"2-order spline\")  # 二阶样条插值\n",
    "plt.plot(xnew, f5(xnew), label=\"3-order spline\")  # 三阶样条插值\n",
    "plt.legend(loc=\"lower left\")\n",
    "plt.subplot(223)\n",
    "plt.plot(x, y, \"o\",  label=\"data\")  # 已知数据点\n",
    "plt.plot(xnew, f1(xnew), label=\"linear\")  # 线性插值\n",
    "plt.plot(xnew, f6(xnew), label=\"nearest\")  # 临近点插值，向下舍入\n",
    "# plt.plot(xnew, f7(xnew), label=\"nearest-up\")  # 临近点插值，向上舍入\n",
    "plt.legend(loc=\"lower left\")\n",
    "plt.subplot(224)\n",
    "plt.plot(x, y, \"o\",  label=\"data\")  # 已知数据点\n",
    "plt.plot(xnew, f8(xnew), label=\"previous\")  # 前点插值\n",
    "plt.plot(xnew, f9(xnew), label=\"next\")  # 后点插值\n",
    "plt.legend(loc=\"lower left\")\n",
    "plt.show()"
   ]
  },
  {
   "cell_type": "markdown",
   "id": "b0d3bde9",
   "metadata": {},
   "source": [
    "## 线性插值"
   ]
  },
  {
   "cell_type": "code",
   "execution_count": 17,
   "id": "c156a94e",
   "metadata": {
    "ExecuteTime": {
     "end_time": "2023-11-16T09:47:49.446875Z",
     "start_time": "2023-11-16T09:47:49.425841Z"
    }
   },
   "outputs": [],
   "source": [
    "def irp(data):\n",
    "    input_varlen = len(data.columns)\n",
    "    #转为Pandas\n",
    "    dfs = data.values\n",
    "    nan_sum = np.isnan(dfs).sum(axis=0)\n",
    "    ir_data = []\n",
    "    for i in range(input_varlen):\n",
    "        #选择缺失列\n",
    "        if nan_sum[i] > 0:\n",
    "            filter_data = dfs[:, i]\n",
    "            #定义纵坐标，删除缺失值\n",
    "            y = filter_data[np.where(np.isnan(filter_data) != 1)]\n",
    "            #定义横坐标，没有缺失值的索引\n",
    "            x0 = np.array(range(len(filter_data)))\n",
    "            x = x0[np.where(np.isnan(filter_data) != 1)]\n",
    "            #构造拟合函数\n",
    "            irf = scipy.interpolate.interp1d(x, y, kind = 'linear', fill_value=\"extrapolate\")\n",
    "            #获取缺失值的索引，方便进行插值\n",
    "            x_new = x0[np.where(np.isnan(filter_data) == 1)]\n",
    "            #拟合缺失数据\n",
    "            y_new = irf(x_new)\n",
    "            filter_data[x_new] = y_new \n",
    "            #数据合并\n",
    "            ir_data.append(filter_data)\n",
    "        else:\n",
    "            filter_data = dfs[:, i]\n",
    "            #数据合并\n",
    "            ir_data.append(filter_data)\n",
    "    df = np.array(ir_data).T\n",
    "    data = pd.DataFrame(data=df, columns=data.columns)\n",
    "    return data"
   ]
  },
  {
   "cell_type": "code",
   "execution_count": 18,
   "id": "58458cfc",
   "metadata": {
    "ExecuteTime": {
     "end_time": "2023-11-16T09:47:51.508275Z",
     "start_time": "2023-11-16T09:47:51.503841Z"
    }
   },
   "outputs": [],
   "source": [
    "data = pd.DataFrame([(1, 55, 23), (2, 66, np.nan), (3, 60, 34), (4, np.nan, 35)],\n",
    "                    columns=['id', 'name', 'age'])"
   ]
  },
  {
   "cell_type": "code",
   "execution_count": 19,
   "id": "1a21ac0e",
   "metadata": {
    "ExecuteTime": {
     "end_time": "2023-11-16T09:47:52.155670Z",
     "start_time": "2023-11-16T09:47:52.144651Z"
    }
   },
   "outputs": [
    {
     "data": {
      "text/html": [
       "<div>\n",
       "<style scoped>\n",
       "    .dataframe tbody tr th:only-of-type {\n",
       "        vertical-align: middle;\n",
       "    }\n",
       "\n",
       "    .dataframe tbody tr th {\n",
       "        vertical-align: top;\n",
       "    }\n",
       "\n",
       "    .dataframe thead th {\n",
       "        text-align: right;\n",
       "    }\n",
       "</style>\n",
       "<table border=\"1\" class=\"dataframe\">\n",
       "  <thead>\n",
       "    <tr style=\"text-align: right;\">\n",
       "      <th></th>\n",
       "      <th>id</th>\n",
       "      <th>name</th>\n",
       "      <th>age</th>\n",
       "    </tr>\n",
       "  </thead>\n",
       "  <tbody>\n",
       "    <tr>\n",
       "      <th>0</th>\n",
       "      <td>1.0</td>\n",
       "      <td>55.0</td>\n",
       "      <td>23.0</td>\n",
       "    </tr>\n",
       "    <tr>\n",
       "      <th>1</th>\n",
       "      <td>2.0</td>\n",
       "      <td>66.0</td>\n",
       "      <td>28.5</td>\n",
       "    </tr>\n",
       "    <tr>\n",
       "      <th>2</th>\n",
       "      <td>3.0</td>\n",
       "      <td>60.0</td>\n",
       "      <td>34.0</td>\n",
       "    </tr>\n",
       "    <tr>\n",
       "      <th>3</th>\n",
       "      <td>4.0</td>\n",
       "      <td>54.0</td>\n",
       "      <td>35.0</td>\n",
       "    </tr>\n",
       "  </tbody>\n",
       "</table>\n",
       "</div>"
      ],
      "text/plain": [
       "    id  name   age\n",
       "0  1.0  55.0  23.0\n",
       "1  2.0  66.0  28.5\n",
       "2  3.0  60.0  34.0\n",
       "3  4.0  54.0  35.0"
      ]
     },
     "execution_count": 19,
     "metadata": {},
     "output_type": "execute_result"
    }
   ],
   "source": [
    "import scipy\n",
    "irp(data)"
   ]
  },
  {
   "cell_type": "code",
   "execution_count": null,
   "id": "65e07d4e",
   "metadata": {},
   "outputs": [],
   "source": [
    "filter_data = dfs[:, \"\"]\n",
    "#定义纵坐标，删除缺失值\n",
    "y = filter_data[np.where(np.isnan(filter_data) != 1)]\n",
    "#定义横坐标，没有缺失值的索引\n",
    "x0 = np.array(range(len(filter_data)))\n",
    "x = x0[np.where(np.isnan(filter_data) != 1)]\n",
    "#构造拟合函数\n",
    "irf = scipy.interpolate.interp1d(x, y, kind = 'linear', fill_value=\"extrapolate\")\n",
    "#获取缺失值的索引，方便进行插值\n",
    "x_new = x0[np.where(np.isnan(filter_data) == 1)]\n",
    "#拟合缺失数据\n",
    "y_new = irf(x_new)\n",
    "filter_data[x_new] = y_new "
   ]
  },
  {
   "cell_type": "code",
   "execution_count": null,
   "id": "fc4962c3",
   "metadata": {},
   "outputs": [],
   "source": []
  }
 ],
 "metadata": {
  "kernelspec": {
   "display_name": "Python 3 (ipykernel)",
   "language": "python",
   "name": "python3"
  },
  "language_info": {
   "codemirror_mode": {
    "name": "ipython",
    "version": 3
   },
   "file_extension": ".py",
   "mimetype": "text/x-python",
   "name": "python",
   "nbconvert_exporter": "python",
   "pygments_lexer": "ipython3",
   "version": "3.9.18"
  },
  "toc": {
   "base_numbering": 1,
   "nav_menu": {},
   "number_sections": true,
   "sideBar": true,
   "skip_h1_title": false,
   "title_cell": "Table of Contents",
   "title_sidebar": "Contents",
   "toc_cell": false,
   "toc_position": {
    "height": "calc(100% - 180px)",
    "left": "10px",
    "top": "150px",
    "width": "191.316px"
   },
   "toc_section_display": true,
   "toc_window_display": true
  }
 },
 "nbformat": 4,
 "nbformat_minor": 5
}
