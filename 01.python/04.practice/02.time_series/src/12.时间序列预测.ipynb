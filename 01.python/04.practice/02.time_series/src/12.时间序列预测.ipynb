{
 "cells": [
  {
   "cell_type": "markdown",
   "id": "dd846351",
   "metadata": {
    "slideshow": {
     "slide_type": ""
    },
    "tags": []
   },
   "source": [
    "# pytorch模型部署"
   ]
  },
  {
   "cell_type": "markdown",
   "id": "3f161829",
   "metadata": {},
   "source": [
    "## 模型工作流"
   ]
  },
  {
   "cell_type": "markdown",
   "id": "7ecf2376",
   "metadata": {},
   "source": [
    "![hello](../images/p20.jpg)"
   ]
  },
  {
   "cell_type": "markdown",
   "id": "635fa827",
   "metadata": {},
   "source": [
    "## 数据流周期"
   ]
  },
  {
   "cell_type": "markdown",
   "id": "5302a35e",
   "metadata": {},
   "source": [
    "![hello](../images/p21.jpg)"
   ]
  },
  {
   "cell_type": "markdown",
   "id": "59e39f5b",
   "metadata": {},
   "source": [
    "- 数百万已部署的数据仪表不断实时生成功耗数据。\n",
    "- 收集数据并将其上传到云存储库。\n",
    "- 在处理原始数据之前，先将其聚合到业务定义的变电站或区域级别。\n",
    "- 进行特征工程，进而生成模型训练或评价所需的数据，特征集数据存储在数据库中。\n",
    "- 调用再训练服务以继续训练预测模型，该模型的新版本将保存下来以便Web服务的评价可以再使用。\n",
    "- 根据适应所需预测频率的计划评价Web服务。\n",
    "- 预测的数据结果存储在最终用户可访问到的数据库中。\n",
    "- 客户端检索预测并将其应用回网络中，根据所需用例再进行调用。"
   ]
  },
  {
   "cell_type": "markdown",
   "id": "b24b0a89",
   "metadata": {},
   "source": [
    "## 模型训练"
   ]
  },
  {
   "cell_type": "code",
   "execution_count": 33,
   "id": "08b63a94",
   "metadata": {
    "ExecuteTime": {
     "end_time": "2024-05-17T09:18:50.540868Z",
     "start_time": "2024-05-17T09:18:44.326531Z"
    },
    "execution": {
     "iopub.execute_input": "2024-04-20T07:18:49.393093Z",
     "iopub.status.busy": "2024-04-20T07:18:49.392108Z",
     "iopub.status.idle": "2024-04-20T07:18:54.144596Z",
     "shell.execute_reply": "2024-04-20T07:18:54.142940Z",
     "shell.execute_reply.started": "2024-04-20T07:18:49.393093Z"
    }
   },
   "outputs": [],
   "source": [
    "import pandas as pd\n",
    "import numpy as np\n",
    "from datetime import datetime\n",
    "from sklearn.preprocessing import MinMaxScaler\n",
    "import re\n",
    "import torch\n",
    "import torch.nn as nn\n",
    "import torch.optim as optim\n",
    "from torch.utils.data import TensorDataset, DataLoader\n",
    "import torch.nn.functional as F\n",
    "import torch.fft as fft\n",
    "import os\n",
    "from tqdm import tqdm # 打印进度条\n",
    "import math\n",
    "from einops import rearrange, repeat, reduce\n",
    "from scipy.fftpack import next_fast_len\n",
    "import matplotlib.pyplot as plt\n",
    "import functools\n",
    "from functools import partial, wraps\n",
    "from sympy import Poly, legendre, Symbol, chebyshevt\n",
    "from scipy.special import eval_legendre\n",
    "from scipy import signal\n",
    "from torch.nn.modules.linear import Linear\n",
    "from operator import mul\n",
    "from typing import List\n",
    "from pandas.tseries import offsets\n",
    "from pandas.tseries.frequencies import to_offset\n",
    "import joblib\n",
    "# 两种绘图接口\n",
    "import plotly_express as px\n",
    "import plotly.graph_objects as go\n",
    "\n",
    "import warnings\n",
    "\n",
    "warnings.filterwarnings(\"ignore\")"
   ]
  },
  {
   "cell_type": "code",
   "execution_count": 2,
   "id": "62cd9f12-742a-4b17-bbb8-6db560f1b89b",
   "metadata": {
    "ExecuteTime": {
     "end_time": "2024-05-17T02:40:17.155007Z",
     "start_time": "2024-05-17T02:40:17.146656Z"
    },
    "execution": {
     "iopub.execute_input": "2024-04-20T07:18:59.444186Z",
     "iopub.status.busy": "2024-04-20T07:18:59.442191Z",
     "iopub.status.idle": "2024-04-20T07:18:59.463092Z",
     "shell.execute_reply": "2024-04-20T07:18:59.462094Z",
     "shell.execute_reply.started": "2024-04-20T07:18:59.444186Z"
    }
   },
   "outputs": [],
   "source": [
    "# 读取数据\n",
    "def loader(data_path=None, data=None, time_col=None, datetime=None, freq=None):\n",
    "    \"\"\"\n",
    "    读取数据，并对输入数据时间列进行处理\n",
    "\n",
    "    参数说明\n",
    "    ----------\n",
    "    data_path : {str}\n",
    "        输入数据地址，如果为空，读取已有数据\n",
    "    data : {DataFrame} of shape (n_samples, n_features)\n",
    "        输入数据，如果需读取本地数据，将该值置空，否则传入已有数据\n",
    "    time_col : {str}\n",
    "        输入数据的时间列，如果没有时间列，生成时间戳范围，或者生成固定频率的时间戳数据\n",
    "    datetime : {str} \n",
    "        时间列开始时间，如果time_col为空，需填入此项，格式为%Y-%m-%d %H:%M:%S\n",
    "    freq : {int}\n",
    "        时间序列频率，单位为秒\n",
    "\n",
    "    返回值\n",
    "    -------\n",
    "    data : {DataFrame} of shape (n_samples, n_features)\n",
    "        经过时间序列处理后的数据\n",
    "    \"\"\"\n",
    "    # 读取原始数据\n",
    "    if data_path == None:\n",
    "        if data.empty is True:\n",
    "            raise ValueError(\"data is not exist!\")\n",
    "        else:\n",
    "            data = data\n",
    "    else:\n",
    "        data = pd.read_csv(data_path)\n",
    "    \n",
    "    # 时间列处理\n",
    "    if time_col == None:\n",
    "        # 筛选输入频率\n",
    "        re_ = re.findall('[0-9]', freq)\n",
    "        if len(re_) == 0:\n",
    "            nums = 1\n",
    "        else:\n",
    "            nums = int(''.join(re_))\n",
    "        # 生成时间间隔\n",
    "        time_index = pd.date_range(start=pd.to_datetime(datetime),\n",
    "                                   end=pd.to_datetime(datetime) +\n",
    "                                   timedelta(seconds=(data.shape[0] - 1)*nums),\n",
    "                                   freq=freq)\n",
    "        full_data = pd.DataFrame(data=data.values,\n",
    "                                 index=pd.to_datetime(time_index, unit=freq),\n",
    "                                 columns=data.columns)\n",
    "    else:\n",
    "        columns = [i for i in data.columns if i != time_col] # 去除时间列\n",
    "        full_data = pd.DataFrame(data=data.drop([time_col], axis=1).values,\n",
    "                                 index=pd.to_datetime(data[time_col].values),\n",
    "                                 columns=columns)\n",
    "    return full_data"
   ]
  },
  {
   "cell_type": "code",
   "execution_count": 3,
   "id": "b78021e0",
   "metadata": {
    "ExecuteTime": {
     "end_time": "2024-05-17T02:40:19.934468Z",
     "start_time": "2024-05-17T02:40:19.870708Z"
    },
    "execution": {
     "iopub.execute_input": "2024-04-20T07:19:08.197218Z",
     "iopub.status.busy": "2024-04-20T07:19:08.197218Z",
     "iopub.status.idle": "2024-04-20T07:19:08.288599Z",
     "shell.execute_reply": "2024-04-20T07:19:08.286593Z",
     "shell.execute_reply.started": "2024-04-20T07:19:08.197218Z"
    }
   },
   "outputs": [
    {
     "data": {
      "text/html": [
       "<div>\n",
       "<style scoped>\n",
       "    .dataframe tbody tr th:only-of-type {\n",
       "        vertical-align: middle;\n",
       "    }\n",
       "\n",
       "    .dataframe tbody tr th {\n",
       "        vertical-align: top;\n",
       "    }\n",
       "\n",
       "    .dataframe thead th {\n",
       "        text-align: right;\n",
       "    }\n",
       "</style>\n",
       "<table border=\"1\" class=\"dataframe\">\n",
       "  <thead>\n",
       "    <tr style=\"text-align: right;\">\n",
       "      <th></th>\n",
       "      <th>load</th>\n",
       "      <th>temp</th>\n",
       "    </tr>\n",
       "  </thead>\n",
       "  <tbody>\n",
       "    <tr>\n",
       "      <th>2012-01-01 00:00:00</th>\n",
       "      <td>2698.0</td>\n",
       "      <td>32.00</td>\n",
       "    </tr>\n",
       "    <tr>\n",
       "      <th>2012-01-01 01:00:00</th>\n",
       "      <td>2558.0</td>\n",
       "      <td>32.67</td>\n",
       "    </tr>\n",
       "    <tr>\n",
       "      <th>2012-01-01 02:00:00</th>\n",
       "      <td>2444.0</td>\n",
       "      <td>30.00</td>\n",
       "    </tr>\n",
       "    <tr>\n",
       "      <th>2012-01-01 03:00:00</th>\n",
       "      <td>2402.0</td>\n",
       "      <td>31.00</td>\n",
       "    </tr>\n",
       "    <tr>\n",
       "      <th>2012-01-01 04:00:00</th>\n",
       "      <td>2403.0</td>\n",
       "      <td>32.00</td>\n",
       "    </tr>\n",
       "    <tr>\n",
       "      <th>...</th>\n",
       "      <td>...</td>\n",
       "      <td>...</td>\n",
       "    </tr>\n",
       "    <tr>\n",
       "      <th>2014-12-31 19:00:00</th>\n",
       "      <td>4012.0</td>\n",
       "      <td>18.00</td>\n",
       "    </tr>\n",
       "    <tr>\n",
       "      <th>2014-12-31 20:00:00</th>\n",
       "      <td>3856.0</td>\n",
       "      <td>16.67</td>\n",
       "    </tr>\n",
       "    <tr>\n",
       "      <th>2014-12-31 21:00:00</th>\n",
       "      <td>3671.0</td>\n",
       "      <td>17.00</td>\n",
       "    </tr>\n",
       "    <tr>\n",
       "      <th>2014-12-31 22:00:00</th>\n",
       "      <td>3499.0</td>\n",
       "      <td>15.33</td>\n",
       "    </tr>\n",
       "    <tr>\n",
       "      <th>2014-12-31 23:00:00</th>\n",
       "      <td>3345.0</td>\n",
       "      <td>15.33</td>\n",
       "    </tr>\n",
       "  </tbody>\n",
       "</table>\n",
       "<p>26304 rows × 2 columns</p>\n",
       "</div>"
      ],
      "text/plain": [
       "                       load   temp\n",
       "2012-01-01 00:00:00  2698.0  32.00\n",
       "2012-01-01 01:00:00  2558.0  32.67\n",
       "2012-01-01 02:00:00  2444.0  30.00\n",
       "2012-01-01 03:00:00  2402.0  31.00\n",
       "2012-01-01 04:00:00  2403.0  32.00\n",
       "...                     ...    ...\n",
       "2014-12-31 19:00:00  4012.0  18.00\n",
       "2014-12-31 20:00:00  3856.0  16.67\n",
       "2014-12-31 21:00:00  3671.0  17.00\n",
       "2014-12-31 22:00:00  3499.0  15.33\n",
       "2014-12-31 23:00:00  3345.0  15.33\n",
       "\n",
       "[26304 rows x 2 columns]"
      ]
     },
     "execution_count": 3,
     "metadata": {},
     "output_type": "execute_result"
    }
   ],
   "source": [
    "data_path = \"../outputs/datasets/energy.csv\"\n",
    "ts_data = loader(data_path=data_path, data=None, time_col='time')\n",
    "ts_data"
   ]
  },
  {
   "cell_type": "code",
   "execution_count": 4,
   "id": "c091c1cc",
   "metadata": {
    "ExecuteTime": {
     "end_time": "2024-05-17T02:40:23.626934Z",
     "start_time": "2024-05-17T02:40:23.614774Z"
    }
   },
   "outputs": [],
   "source": [
    "# 时间格式编码\n",
    "def time_features_from_frequency_str(freq_str: str):\n",
    "    \"\"\"\n",
    "    Returns a list of time features that will be appropriate for the given frequency string.\n",
    "    Parameters\n",
    "    ----------\n",
    "    freq_str\n",
    "        Frequency string of the form [multiple][granularity] such as \"12H\", \"5min\", \"1D\" etc.\n",
    "    \"\"\"\n",
    "\n",
    "    class TimeFeature:\n",
    "        def __init__(self):\n",
    "            pass\n",
    "\n",
    "        def __call__(self, index: pd.DatetimeIndex) -> np.ndarray:\n",
    "            pass\n",
    "\n",
    "        def __repr__(self):\n",
    "            return self.__class__.__name__ + \"()\"\n",
    "\n",
    "\n",
    "    class SecondOfMinute(TimeFeature):\n",
    "        \"\"\"Minute of hour encoded as value between [-0.5, 0.5]\"\"\"\n",
    "\n",
    "        def __call__(self, index: pd.DatetimeIndex) -> np.ndarray:\n",
    "            return index.second / 59.0 - 0.5\n",
    "\n",
    "\n",
    "    class MinuteOfHour(TimeFeature):\n",
    "        \"\"\"Minute of hour encoded as value between [-0.5, 0.5]\"\"\"\n",
    "\n",
    "        def __call__(self, index: pd.DatetimeIndex) -> np.ndarray:\n",
    "            return index.minute / 59.0 - 0.5\n",
    "\n",
    "\n",
    "    class HourOfDay(TimeFeature):\n",
    "        \"\"\"Hour of day encoded as value between [-0.5, 0.5]\"\"\"\n",
    "\n",
    "        def __call__(self, index: pd.DatetimeIndex) -> np.ndarray:\n",
    "            return index.hour / 23.0 - 0.5\n",
    "\n",
    "\n",
    "    class DayOfWeek(TimeFeature):\n",
    "        \"\"\"Hour of day encoded as value between [-0.5, 0.5]\"\"\"\n",
    "\n",
    "        def __call__(self, index: pd.DatetimeIndex) -> np.ndarray:\n",
    "            return index.dayofweek / 6.0 - 0.5\n",
    "\n",
    "\n",
    "    class DayOfMonth(TimeFeature):\n",
    "        \"\"\"Day of month encoded as value between [-0.5, 0.5]\"\"\"\n",
    "\n",
    "        def __call__(self, index: pd.DatetimeIndex) -> np.ndarray:\n",
    "            return (index.day - 1) / 30.0 - 0.5\n",
    "\n",
    "\n",
    "    class DayOfYear(TimeFeature):\n",
    "        \"\"\"Day of year encoded as value between [-0.5, 0.5]\"\"\"\n",
    "\n",
    "        def __call__(self, index: pd.DatetimeIndex) -> np.ndarray:\n",
    "            return (index.dayofyear - 1) / 365.0 - 0.5\n",
    "\n",
    "\n",
    "    class MonthOfYear(TimeFeature):\n",
    "        \"\"\"Month of year encoded as value between [-0.5, 0.5]\"\"\"\n",
    "\n",
    "        def __call__(self, index: pd.DatetimeIndex) -> np.ndarray:\n",
    "            return (index.month - 1) / 11.0 - 0.5\n",
    "\n",
    "\n",
    "    class WeekOfYear(TimeFeature):\n",
    "        \"\"\"Week of year encoded as value between [-0.5, 0.5]\"\"\"\n",
    "\n",
    "        def __call__(self, index: pd.DatetimeIndex) -> np.ndarray:\n",
    "            return (index.isocalendar().week - 1) / 52.0 - 0.5\n",
    "\n",
    "    \n",
    "    features_by_offsets = {\n",
    "        offsets.YearEnd: [],\n",
    "        offsets.QuarterEnd: [MonthOfYear],\n",
    "        offsets.MonthEnd: [MonthOfYear],\n",
    "        offsets.Week: [DayOfMonth, WeekOfYear],\n",
    "        offsets.Day: [DayOfWeek, DayOfMonth, DayOfYear],\n",
    "        offsets.BusinessDay: [DayOfWeek, DayOfMonth, DayOfYear],\n",
    "        offsets.Hour: [HourOfDay, DayOfWeek, DayOfMonth, DayOfYear],\n",
    "        offsets.Minute: [\n",
    "            MinuteOfHour,\n",
    "            HourOfDay,\n",
    "            DayOfWeek,\n",
    "            DayOfMonth,\n",
    "            DayOfYear,\n",
    "        ],\n",
    "        offsets.Second: [\n",
    "            SecondOfMinute,\n",
    "            MinuteOfHour,\n",
    "            HourOfDay,\n",
    "            DayOfWeek,\n",
    "            DayOfMonth,\n",
    "            DayOfYear,\n",
    "        ],\n",
    "    }\n",
    "\n",
    "    offset = to_offset(freq_str)\n",
    "\n",
    "    for offset_type, feature_classes in features_by_offsets.items():\n",
    "        if isinstance(offset, offset_type):\n",
    "            return [cls() for cls in feature_classes]\n",
    "\n",
    "    supported_freq_msg = f\"\"\"\n",
    "    Unsupported frequency {freq_str}\n",
    "    The following frequencies are supported:\n",
    "        Y   - yearly\n",
    "            alias: A\n",
    "        M   - monthly\n",
    "        W   - weekly\n",
    "        D   - daily\n",
    "        B   - business days\n",
    "        H   - hourly\n",
    "        T   - minutely\n",
    "            alias: min\n",
    "        S   - secondly\n",
    "    \"\"\"\n",
    "    raise RuntimeError(supported_freq_msg)\n",
    "    \n",
    "def time_features(dates, freq='h'):\n",
    "    return np.vstack([feat(dates) for feat in time_features_from_frequency_str(freq)])"
   ]
  },
  {
   "cell_type": "code",
   "execution_count": 5,
   "id": "64a2e846",
   "metadata": {
    "ExecuteTime": {
     "end_time": "2024-05-17T02:40:27.835412Z",
     "start_time": "2024-05-17T02:40:27.826335Z"
    },
    "execution": {
     "iopub.execute_input": "2024-04-19T10:54:29.792101Z",
     "iopub.status.busy": "2024-04-19T10:54:29.790101Z",
     "iopub.status.idle": "2024-04-19T10:54:29.841074Z",
     "shell.execute_reply": "2024-04-19T10:54:29.840035Z",
     "shell.execute_reply.started": "2024-04-19T10:54:29.792101Z"
    }
   },
   "outputs": [],
   "source": [
    "# 包含时间维度的数据集划分\n",
    "def divider(df, valid_date, test_date, x_feature_list, y_feature_list, freq, scaler_path):\n",
    "    #归一化\n",
    "    x_scaler = MinMaxScaler() # 保证数据同分布\n",
    "    y_scaler = MinMaxScaler()\n",
    "    x_scaler = x_scaler.fit(df.copy()[x_feature_list]) \n",
    "    y_scaler = y_scaler.fit(df.copy()[y_feature_list])\n",
    "\n",
    "    # 设置保存归一化参数路径\n",
    "    if not os.path.exists(scaler_path):\n",
    "        os.makedirs(scaler_path)\n",
    "\n",
    "    # 保存归一化参数\n",
    "    joblib.dump(x_scaler, scaler_path + \"/x_scaler.pkl\")\n",
    "    joblib.dump(y_scaler, scaler_path + \"/y_scaler.pkl\")\n",
    "\n",
    "    #测试集\n",
    "    train = df.copy()[df.index < valid_date][x_feature_list]\n",
    "    train_stamp = time_features(pd.to_datetime(train.index), freq=freq)\n",
    "    train_stamp = train_stamp.transpose(1, 0)\n",
    "    train[x_feature_list] = x_scaler.transform(train)\n",
    "    xtr = train.values.astype('float32')\n",
    "\n",
    "    #验证集\n",
    "    valid = df.copy()[(df.index >= valid_date) & (df.index < test_date)][x_feature_list]\n",
    "    valid_stamp = time_features(pd.to_datetime(valid.index), freq=freq)\n",
    "    valid_stamp = valid_stamp.transpose(1, 0)\n",
    "    valid[x_feature_list] = x_scaler.transform(valid)\n",
    "    xva = valid.values.astype('float32')\n",
    "\n",
    "    #测试集\n",
    "    test = df.copy()[test_date:][x_feature_list]\n",
    "    test_stamp = time_features(pd.to_datetime(test.index), freq=freq)\n",
    "    test_stamp = test_stamp.transpose(1, 0)\n",
    "    test[x_feature_list] = x_scaler.transform(test)\n",
    "    xte = test.values.astype('float32')\n",
    "\n",
    "    #标签\n",
    "    ytr = df.copy()[df.index < valid_date][y_feature_list]\n",
    "    ytr[y_feature_list] = y_scaler.transform(ytr)\n",
    "    ytr = ytr.values.astype('float32')\n",
    "\n",
    "    yva = df.copy()[(df.index >= valid_date) & (df.index < test_date)][y_feature_list]\n",
    "    yva[y_feature_list] = y_scaler.transform(yva)\n",
    "    yva = yva.values.astype('float32')\n",
    "\n",
    "    yte = df.copy()[test_date:][y_feature_list]\n",
    "    yte[y_feature_list] = y_scaler.transform(yte)\n",
    "    yte = yte.values.astype('float32')\n",
    "    \n",
    "    # 数据合并，[训练集，测试集，时间戳]\n",
    "    train = [xtr, ytr, train_stamp]\n",
    "    valid = [xva, yva, valid_stamp]\n",
    "    test = [xte, yte, test_stamp]\n",
    "    \n",
    "    return x_scaler, y_scaler, train, valid, test"
   ]
  },
  {
   "cell_type": "code",
   "execution_count": 6,
   "id": "efbb7af2",
   "metadata": {
    "ExecuteTime": {
     "end_time": "2024-05-17T02:40:29.055271Z",
     "start_time": "2024-05-17T02:40:29.013589Z"
    }
   },
   "outputs": [
    {
     "name": "stdout",
     "output_type": "stream",
     "text": [
      "x_train shape: (23376, 2) y_train shape: (23376, 2) stamp_train shape: (23376, 4)\n",
      "x_valid shape: (1464, 2) y_valid shape: (1464, 2) stamp_valid shape: (1464, 4)\n",
      "x_test shape: (1464, 2) y_test shape: (1464, 2) stamp_test shape: (1464, 4)\n"
     ]
    }
   ],
   "source": [
    "# 构造参数字典\n",
    "params1 = {\n",
    "    \"df\": ts_data,\n",
    "    \"valid_date\": \"2014-09-01 00:00:00\",\n",
    "    \"test_date\": \"2014-11-01 00:00:00\",\n",
    "    \"x_feature_list\": [\"load\", 'temp'],\n",
    "    \"y_feature_list\": [\"load\", 'temp'],\n",
    "    \"freq\": 'h',\n",
    "    \"scaler_path\": '../outputs/scalers/Transformer'\n",
    "}\n",
    "\n",
    "#函数传参\n",
    "x_scaler, y_scaler, train_data, valid_data, test_data = divider(**params1)\n",
    "print(\"x_train shape: {0} y_train shape: {1} stamp_train shape: {2}\".format(train_data[0].shape, train_data[1].shape, train_data[2].shape))\n",
    "print(\"x_valid shape: {0} y_valid shape: {1} stamp_valid shape: {2}\".format(valid_data[0].shape, valid_data[1].shape, valid_data[2].shape))\n",
    "print(\"x_test shape: {0} y_test shape: {1} stamp_test shape: {2}\".format(test_data[0].shape, test_data[1].shape, test_data[2].shape))"
   ]
  },
  {
   "cell_type": "code",
   "execution_count": 7,
   "id": "1d4037cc",
   "metadata": {
    "ExecuteTime": {
     "end_time": "2024-05-17T02:40:29.909609Z",
     "start_time": "2024-05-17T02:40:29.902325Z"
    }
   },
   "outputs": [],
   "source": [
    "#利用前seq_len个数据，预测下pred_len个数据\n",
    "def generator(data_list, seq_len, pred_len, label_len, batch_size):\n",
    "    \"\"\"\n",
    "    @参数设置：\n",
    "    data_list：特征，目标，时间戳\n",
    "    seq_len：输入数据包含过去多少个时间步\n",
    "    pred_len：目标应该在未来多少个时间步之后\n",
    "    label_len：先验时间步\n",
    "    \"\"\"\n",
    "    # 获取数据\n",
    "    feature = data_list[0] # 特征\n",
    "    target = data_list[1] # 目标\n",
    "    stamp = data_list[2] # 时间戳\n",
    "    \n",
    "    # 循环生成数据\n",
    "    X, y = [], []\n",
    "    X_stamp, y_stamp = [], []\n",
    "    seq_len = seq_len - 1 # 包含当前时间点\n",
    "    for i in range(seq_len, len(feature) - pred_len):\n",
    "        # 数据维度\n",
    "        feat = feature[i - seq_len:i + 1]\n",
    "        tar = target[i + 1:i + 1 + pred_len]\n",
    "        X.append(feat)\n",
    "        y.append(tar)\n",
    "        \n",
    "        # 时间维度\n",
    "        xs = stamp[i - seq_len:i + 1]\n",
    "        ys = stamp[i + 1 - label_len:i + 1 + pred_len]\n",
    "        X_stamp.append(xs)\n",
    "        y_stamp.append(ys)\n",
    "        \n",
    "    # 转为张量，数据维度\n",
    "    X = torch.as_tensor(X).float()\n",
    "    y = torch.as_tensor(y).float()\n",
    "    \n",
    "    # 转为张量，时间维度\n",
    "    X_stamp = torch.as_tensor(X_stamp).float()\n",
    "    y_stamp = torch.as_tensor(y_stamp).float()\n",
    "    \n",
    "    # 创建dataloader，[特征，目标，特征时间编码，目标时间编码]\n",
    "    data_loader = DataLoader(TensorDataset(X, y, X_stamp, y_stamp), shuffle=True, batch_size=batch_size)\n",
    "    \n",
    "    return X, y, X_stamp, y_stamp, data_loader"
   ]
  },
  {
   "cell_type": "code",
   "execution_count": 8,
   "id": "c60226b3",
   "metadata": {
    "ExecuteTime": {
     "end_time": "2024-05-17T02:40:31.875471Z",
     "start_time": "2024-05-17T02:40:30.808225Z"
    }
   },
   "outputs": [
    {
     "name": "stdout",
     "output_type": "stream",
     "text": [
      "X_size: torch.Size([23368, 6, 2]),y_size: torch.Size([23368, 3, 2]),loader_len: 731\n",
      "X_size: torch.Size([1456, 6, 2]),y_size: torch.Size([1456, 3, 2]),loader_len: 46\n",
      "X_size: torch.Size([1456, 6, 2]),y_size: torch.Size([1456, 3, 2]),loader_len: 46\n"
     ]
    }
   ],
   "source": [
    "# 构造参数字典\n",
    "params2 = {\n",
    "    \"seq_len\": 6,\n",
    "    \"pred_len\": 3,\n",
    "    \"label_len\": 3,\n",
    "    \"batch_size\": 32,\n",
    "}\n",
    "X_train, y_train, X_train_stamp, y_train_stamp, train_loader = generator(train_data, **params2)\n",
    "X_valid, y_valid, X_valid_stamp, y_valid_stamp, valid_loader = generator(valid_data, **params2)\n",
    "X_test, y_test, X_test_stamp, y_test_stamp, test_loader = generator(test_data, **params2)\n",
    "print(\"X_size: {0},y_size: {1},loader_len: {2}\".format(X_train.shape, y_train.shape, len(train_loader)))\n",
    "print(\"X_size: {0},y_size: {1},loader_len: {2}\".format(X_valid.shape, y_valid.shape, len(valid_loader)))\n",
    "print(\"X_size: {0},y_size: {1},loader_len: {2}\".format(X_test.shape, y_test.shape, len(test_loader)))"
   ]
  },
  {
   "cell_type": "code",
   "execution_count": 29,
   "id": "dcfee3fa",
   "metadata": {
    "ExecuteTime": {
     "end_time": "2024-05-17T02:57:23.378330Z",
     "start_time": "2024-05-17T02:57:23.351669Z"
    }
   },
   "outputs": [],
   "source": [
    "def train(task_args, train_args, model_args):\n",
    "    # 参数配置\n",
    "    columns = task_args['columns'] # 模型全部特征\n",
    "    target = task_args['target'] # 模型预测特征\n",
    "    features = task_args['features'] # 模型预测模式\n",
    "    model_name = train_args['model_name'] # 模型名称\n",
    "    train_loader = train_args['train_loader'] # 训练集\n",
    "    valid_loader = train_args['valid_loader'] # 验证集\n",
    "    n_epochs = train_args['n_epochs'] # 训练次数\n",
    "    learning_rate = train_args['learning_rate'] # 学习率\n",
    "    loss = train_args['loss'] # 损失函数\n",
    "    patience = train_args['patience'] # 最大早停次数阈值，超过就会早停\n",
    "    lradj = train_args['lradj'] # 学习率函数\n",
    "    model_path = train_args['model_path'] # 模型保存路径\n",
    "    verbose = train_args['verbose'] # 打印训练过程\n",
    "    plots = train_args['plots'] # 绘制损失图\n",
    "    device = train_args['device'] # 训练设备，可选'cuda'和'cpu'\n",
    "    pred_len = model_args['pred_len'] # 预测长度\n",
    "    label_len = model_args['label_len']\n",
    "    \n",
    "    #检查是否可用GPU\n",
    "    device = torch.device(device)\n",
    "    \n",
    "    # 创建模型和优化器\n",
    "    model = model_name(**model_args).to(device)\n",
    "    optimizer = optim.Adam(model.parameters(), lr=learning_rate)\n",
    "    criterion = loss\n",
    "    \n",
    "    # 调整学习率\n",
    "    def adjust_learning_rate(optimizer, epoch, lradj, learning_rate, train_epochs):\n",
    "        # lr = learning_rate * (0.2 ** (epoch // 2))\n",
    "        if lradj == 'type1':\n",
    "            lr_adjust = {epoch: learning_rate * (0.5 ** ((epoch - 1) // 1))}\n",
    "        elif lradj == 'type2':\n",
    "            lr_adjust = {\n",
    "                2: 5e-5, 4: 1e-5, 6: 5e-6, 8: 1e-6,\n",
    "                10: 5e-7, 15: 1e-7, 20: 5e-8\n",
    "            }\n",
    "        elif lradj == \"cosine\":\n",
    "            lr_adjust = {epoch: learning_rate /2 * (1 + math.cos(epoch / train_epochs * math.pi))}\n",
    "        if epoch in lr_adjust.keys():\n",
    "            lr = lr_adjust[epoch]\n",
    "            # 参数组(param_groups)是用来指定不同的参数组以便对它们进行不同的优化设置，比如'lr'\n",
    "            for param_group in optimizer.param_groups:\n",
    "                param_group['lr'] = lr\n",
    "            print('Updating learning rate to {}'.format(lr))\n",
    "    \n",
    "    # 设置早停\n",
    "    class EarlyStopping():\n",
    "        def __init__(self, patience=7, verbose=False, delta=0):\n",
    "            self.patience = patience # 连续超限次数，如果满足条件，则早停\n",
    "            self.verbose = verbose\n",
    "            self.counter = 0\n",
    "            self.best_score = None\n",
    "            self.early_stop = False\n",
    "            self.val_loss_min = np.Inf\n",
    "            self.delta = delta\n",
    "\n",
    "        def __call__(self, val_loss, model, path):\n",
    "            score = -val_loss\n",
    "            if self.best_score is None:\n",
    "                self.best_score = score\n",
    "                self.save_checkpoint(val_loss, model, path)\n",
    "            elif score < self.best_score + self.delta:\n",
    "                self.counter += 1\n",
    "                print(f'EarlyStopping counter: {self.counter} out of {self.patience}')\n",
    "                if self.counter >= self.patience:\n",
    "                    self.early_stop = True\n",
    "            else:\n",
    "                self.best_score = score\n",
    "                self.save_checkpoint(val_loss, model, path)\n",
    "                self.counter = 0\n",
    "\n",
    "        def save_checkpoint(self, val_loss, model, path):\n",
    "            if self.verbose:\n",
    "                print(f'Validation loss decreased ({self.val_loss_min:.6f} --> {val_loss:.6f}).  Saving model ...')\n",
    "            torch.save(model.state_dict(), path + '/' + 'checkpoint.pth')\n",
    "            self.val_loss_min = val_loss\n",
    "    early_stopping = EarlyStopping(patience=patience, verbose=verbose)\n",
    "    \n",
    "    # 训练任务\n",
    "    def forecasting_task(columns, target, features):\n",
    "        \"\"\"\n",
    "        features: [M, S, MS]; \n",
    "            M:multivariate predict multivariate, \n",
    "            S:univariate predict univariate, \n",
    "            MS:multivariate predict univariate'\n",
    "        \"\"\"\n",
    "        # 字典索引生成\n",
    "        col_dict = {}\n",
    "        for i,j in enumerate(columns):\n",
    "            col_dict[j] = i\n",
    "\n",
    "        if features == 'MS':\n",
    "            target = target[0]\n",
    "            if target in columns:\n",
    "                f_dim = col_dict[target]\n",
    "            else:\n",
    "                f_dim = 0\n",
    "        elif features == 'S':\n",
    "            f_dim = 0\n",
    "        else:\n",
    "            f_dim = 0\n",
    "        return f_dim\n",
    "    f_dim = forecasting_task(columns, target, features)\n",
    "    \n",
    "    # 设置保存模型路径\n",
    "    if not os.path.exists(model_path):\n",
    "        os.makedirs(model_path)\n",
    "\n",
    "    # 模型训练和验证\n",
    "    train_losses, val_losses = [], []\n",
    "    for epoch in tqdm(range(n_epochs)):\n",
    "        model.train()\n",
    "        total_train_loss = 0\n",
    "        for batch_x, batch_y, batch_x_mark, batch_y_mark in train_loader:\n",
    "            #将数据移至 GPU\n",
    "            batch_x = batch_x.to(device) # 会用到实际数据\n",
    "            batch_y = batch_y.to(device) # 只用来获取维度，不会用到实际数据，防止泄露信息\n",
    "            batch_x_mark = batch_x_mark.to(device)\n",
    "            batch_y_mark = batch_y_mark.to(device)\n",
    "            # 清空梯度\n",
    "            optimizer.zero_grad()\n",
    "            # decoder输入 \n",
    "            dec_inp = torch.zeros_like(batch_y[:, -pred_len:, :]).float()\n",
    "            # attn_mask\n",
    "            B = batch_x.shape[0]\n",
    "            L = batch_x.shape[1]\n",
    "            mask_shape = [B, 1, L, L]\n",
    "            attn_mask = torch.triu(torch.ones(mask_shape, dtype=torch.bool), diagonal=1).to(device)\n",
    "            if features == 'MS':\n",
    "                dec_inp = torch.cat([batch_x[:, -label_len:, f_dim: f_dim+1], dec_inp], dim=1).float().to(device)\n",
    "                outputs = model(batch_x, batch_x_mark, dec_inp, batch_y_mark, attn_mask)\n",
    "                outputs = outputs[:, :, f_dim: f_dim+1] \n",
    "            else:\n",
    "                dec_inp = torch.cat([batch_x[:, -label_len:, f_dim:], dec_inp], dim=1).float().to(device)\n",
    "                outputs = model(batch_x, batch_x_mark, dec_inp, batch_y_mark, attn_mask)\n",
    "                outputs = outputs[:, :, f_dim:]\n",
    "            train_loss = criterion(outputs, batch_y)\n",
    "            # 反向传播计算得到每个参数的梯度值\n",
    "            train_loss.backward()\n",
    "            # 通过梯度下降执行一步参数更新\n",
    "            optimizer.step()\n",
    "            #每个batch的loss和\n",
    "            total_train_loss += train_loss.item() # .item()表示只包含一个元素的tensor中提取值\n",
    "                \n",
    "        #每个epoch的损失平均\n",
    "        avg_train_loss = total_train_loss / len(train_loader)\n",
    "        \n",
    "        #所有epoch的loss\n",
    "        train_losses.append(avg_train_loss)\n",
    "        \n",
    "        #评估模型\n",
    "        model.eval()\n",
    "        #关闭自动求导功能，只使用训练好的模型进行预测或评估，不需要进行梯度计算和参数更新\n",
    "        with torch.no_grad():\n",
    "            total_val_loss = 0\n",
    "            for batch_x, batch_y, batch_x_mark, batch_y_mark in valid_loader:\n",
    "                #将数据移至 GPU\n",
    "                batch_x = batch_x.to(device) # 会用到实际数据\n",
    "                batch_y = batch_y.to(device) # 只用来获取维度，不会用到实际数据，防止泄露信息\n",
    "                batch_x_mark = batch_x_mark.to(device)\n",
    "                batch_y_mark = batch_y_mark.to(device)\n",
    "                # decoder输入\n",
    "                dec_inp = torch.zeros_like(batch_y[:, -pred_len:, :]).float()\n",
    "                # attn_mask\n",
    "                B = batch_x.shape[0]\n",
    "                L = batch_x.shape[1]\n",
    "                mask_shape = [B, 1, L, L]\n",
    "                attn_mask = torch.triu(torch.ones(mask_shape, dtype=torch.bool), diagonal=1).to(device)\n",
    "                if features == 'MS':\n",
    "                    dec_inp = torch.cat([batch_x[:, -label_len:, f_dim: f_dim+1], dec_inp], dim=1).float().to(device)\n",
    "                    outputs = model(batch_x, batch_x_mark, dec_inp, batch_y_mark, attn_mask)\n",
    "                    outputs = outputs[:, :, f_dim: f_dim+1] \n",
    "                else:\n",
    "                    dec_inp = torch.cat([batch_x[:, -label_len:, f_dim:], dec_inp], dim=1).float().to(device)\n",
    "                    outputs = model(batch_x, batch_x_mark, dec_inp, batch_y_mark, attn_mask)\n",
    "                    outputs = outputs[:, :, f_dim:]\n",
    "                val_loss = criterion(outputs, batch_y)\n",
    "                #每个batch的loss和\n",
    "                total_val_loss += val_loss.item()\n",
    "                \n",
    "        #每个epoch的损失平均\n",
    "        avg_val_loss = total_val_loss / len(valid_loader)\n",
    "        \n",
    "        #所有epoch的loss\n",
    "        val_losses.append(avg_val_loss)\n",
    "        \n",
    "        #打印训练过程\n",
    "        if verbose:\n",
    "            print(f'Epoch [{epoch+1}/{n_epochs}], Training Loss: {avg_train_loss:.4f}, Validation Loss: {avg_val_loss:.4f}')\n",
    "            \n",
    "        # 设置早停\n",
    "        early_stopping(avg_val_loss, model, model_path)\n",
    "        if early_stopping.early_stop:\n",
    "            print(\"Early stopping!\")\n",
    "            break\n",
    "            \n",
    "        # 调整学习率\n",
    "        adjust_learning_rate(optimizer, epoch+1, lradj, learning_rate, n_epochs)\n",
    "\n",
    "    #绘制损失函数图\n",
    "    def plot_loss(train_losses, val_losses):\n",
    "        plt.figure(figsize=(10, 5))\n",
    "        plt.style.use('seaborn-v0_8-paper') #绘制背景色\n",
    "        plt.grid(axis = 'y',linewidth=0.35) #绘制网格\n",
    "        plt.plot(val_losses, linestyle='-',color = '#11b3b6')\n",
    "        plt.plot(train_losses, linestyle='-',color = '#f14643')\n",
    "        plt.xlabel(\"Epoch\")\n",
    "        plt.ylabel(\"Loss\")\n",
    "        plt.title(\"Training and Validation Progress\")\n",
    "        plt.legend([\"Validation\", \"Training\"])\n",
    "        plt.show()\n",
    "    if plots:\n",
    "        plot_loss(train_losses, val_losses)\n",
    "            \n",
    "    return model"
   ]
  },
  {
   "cell_type": "code",
   "execution_count": 30,
   "id": "8e5b944d",
   "metadata": {
    "ExecuteTime": {
     "end_time": "2024-05-17T02:57:24.139469Z",
     "start_time": "2024-05-17T02:57:24.135861Z"
    }
   },
   "outputs": [],
   "source": [
    "# 读取本地模型\n",
    "import sys\n",
    "path = '../outputs/models'\n",
    "sys.path.insert(0, path)\n",
    "\n",
    "from Transformer import Transformer"
   ]
  },
  {
   "cell_type": "code",
   "execution_count": 31,
   "id": "437e9744",
   "metadata": {
    "ExecuteTime": {
     "end_time": "2024-05-17T03:27:54.982585Z",
     "start_time": "2024-05-17T02:57:31.651078Z"
    },
    "scrolled": true
   },
   "outputs": [
    {
     "name": "stderr",
     "output_type": "stream",
     "text": [
      "  5%|████▏                                                                              | 1/20 [01:21<25:49, 81.57s/it]"
     ]
    },
    {
     "name": "stdout",
     "output_type": "stream",
     "text": [
      "Epoch [1/20], Training Loss: 0.0189, Validation Loss: 0.0031\n",
      "Validation loss decreased (inf --> 0.003077).  Saving model ...\n",
      "Updating learning rate to 0.0009938441702975688\n"
     ]
    },
    {
     "name": "stderr",
     "output_type": "stream",
     "text": [
      "\r",
      " 10%|████████▎                                                                          | 2/20 [02:43<24:37, 82.07s/it]"
     ]
    },
    {
     "name": "stdout",
     "output_type": "stream",
     "text": [
      "Epoch [2/20], Training Loss: 0.0050, Validation Loss: 0.0059\n",
      "EarlyStopping counter: 1 out of 3\n",
      "Updating learning rate to 0.0009755282581475768\n"
     ]
    },
    {
     "name": "stderr",
     "output_type": "stream",
     "text": [
      "\r",
      " 15%|████████████▍                                                                      | 3/20 [04:08<23:33, 83.13s/it]"
     ]
    },
    {
     "name": "stdout",
     "output_type": "stream",
     "text": [
      "Epoch [3/20], Training Loss: 0.0038, Validation Loss: 0.0020\n",
      "Validation loss decreased (0.003077 --> 0.001964).  Saving model ...\n",
      "Updating learning rate to 0.0009455032620941839\n"
     ]
    },
    {
     "name": "stderr",
     "output_type": "stream",
     "text": [
      "\r",
      " 20%|████████████████▌                                                                  | 4/20 [05:41<23:12, 87.04s/it]"
     ]
    },
    {
     "name": "stdout",
     "output_type": "stream",
     "text": [
      "Epoch [4/20], Training Loss: 0.0032, Validation Loss: 0.0019\n",
      "Validation loss decreased (0.001964 --> 0.001933).  Saving model ...\n",
      "Updating learning rate to 0.0009045084971874737\n"
     ]
    },
    {
     "name": "stderr",
     "output_type": "stream",
     "text": [
      "\r",
      " 25%|████████████████████▊                                                              | 5/20 [07:13<22:15, 89.01s/it]"
     ]
    },
    {
     "name": "stdout",
     "output_type": "stream",
     "text": [
      "Epoch [5/20], Training Loss: 0.0029, Validation Loss: 0.0020\n",
      "EarlyStopping counter: 1 out of 3\n",
      "Updating learning rate to 0.0008535533905932737\n"
     ]
    },
    {
     "name": "stderr",
     "output_type": "stream",
     "text": [
      "\r",
      " 30%|████████████████████████▉                                                          | 6/20 [08:46<21:00, 90.06s/it]"
     ]
    },
    {
     "name": "stdout",
     "output_type": "stream",
     "text": [
      "Epoch [6/20], Training Loss: 0.0026, Validation Loss: 0.0015\n",
      "Validation loss decreased (0.001933 --> 0.001537).  Saving model ...\n",
      "Updating learning rate to 0.0007938926261462366\n"
     ]
    },
    {
     "name": "stderr",
     "output_type": "stream",
     "text": [
      "\r",
      " 35%|█████████████████████████████                                                      | 7/20 [10:18<19:41, 90.90s/it]"
     ]
    },
    {
     "name": "stdout",
     "output_type": "stream",
     "text": [
      "Epoch [7/20], Training Loss: 0.0023, Validation Loss: 0.0019\n",
      "EarlyStopping counter: 1 out of 3\n",
      "Updating learning rate to 0.0007269952498697733\n"
     ]
    },
    {
     "name": "stderr",
     "output_type": "stream",
     "text": [
      "\r",
      " 40%|█████████████████████████████████▏                                                 | 8/20 [11:49<18:11, 90.92s/it]"
     ]
    },
    {
     "name": "stdout",
     "output_type": "stream",
     "text": [
      "Epoch [8/20], Training Loss: 0.0022, Validation Loss: 0.0012\n",
      "Validation loss decreased (0.001537 --> 0.001168).  Saving model ...\n",
      "Updating learning rate to 0.0006545084971874737\n"
     ]
    },
    {
     "name": "stderr",
     "output_type": "stream",
     "text": [
      "\r",
      " 45%|█████████████████████████████████████▎                                             | 9/20 [13:22<16:47, 91.59s/it]"
     ]
    },
    {
     "name": "stdout",
     "output_type": "stream",
     "text": [
      "Epoch [9/20], Training Loss: 0.0019, Validation Loss: 0.0024\n",
      "EarlyStopping counter: 1 out of 3\n",
      "Updating learning rate to 0.0005782172325201155\n"
     ]
    },
    {
     "name": "stderr",
     "output_type": "stream",
     "text": [
      "\r",
      " 50%|█████████████████████████████████████████                                         | 10/20 [14:54<15:17, 91.72s/it]"
     ]
    },
    {
     "name": "stdout",
     "output_type": "stream",
     "text": [
      "Epoch [10/20], Training Loss: 0.0018, Validation Loss: 0.0011\n",
      "Validation loss decreased (0.001168 --> 0.001133).  Saving model ...\n",
      "Updating learning rate to 0.0005\n"
     ]
    },
    {
     "name": "stderr",
     "output_type": "stream",
     "text": [
      "\r",
      " 55%|█████████████████████████████████████████████                                     | 11/20 [16:27<13:47, 91.95s/it]"
     ]
    },
    {
     "name": "stdout",
     "output_type": "stream",
     "text": [
      "Epoch [11/20], Training Loss: 0.0017, Validation Loss: 0.0013\n",
      "EarlyStopping counter: 1 out of 3\n",
      "Updating learning rate to 0.0004217827674798845\n"
     ]
    },
    {
     "name": "stderr",
     "output_type": "stream",
     "text": [
      "\r",
      " 60%|█████████████████████████████████████████████████▏                                | 12/20 [17:58<12:13, 91.69s/it]"
     ]
    },
    {
     "name": "stdout",
     "output_type": "stream",
     "text": [
      "Epoch [12/20], Training Loss: 0.0015, Validation Loss: 0.0020\n",
      "EarlyStopping counter: 2 out of 3\n",
      "Updating learning rate to 0.00034549150281252633\n"
     ]
    },
    {
     "name": "stderr",
     "output_type": "stream",
     "text": [
      "\r",
      " 65%|█████████████████████████████████████████████████████▎                            | 13/20 [19:29<10:40, 91.55s/it]"
     ]
    },
    {
     "name": "stdout",
     "output_type": "stream",
     "text": [
      "Epoch [13/20], Training Loss: 0.0014, Validation Loss: 0.0009\n",
      "Validation loss decreased (0.001133 --> 0.000932).  Saving model ...\n",
      "Updating learning rate to 0.00027300475013022663\n"
     ]
    },
    {
     "name": "stderr",
     "output_type": "stream",
     "text": [
      "\r",
      " 70%|█████████████████████████████████████████████████████████▍                        | 14/20 [21:02<09:11, 91.86s/it]"
     ]
    },
    {
     "name": "stdout",
     "output_type": "stream",
     "text": [
      "Epoch [14/20], Training Loss: 0.0014, Validation Loss: 0.0010\n",
      "EarlyStopping counter: 1 out of 3\n",
      "Updating learning rate to 0.00020610737385376348\n"
     ]
    },
    {
     "name": "stderr",
     "output_type": "stream",
     "text": [
      "\r",
      " 75%|█████████████████████████████████████████████████████████████▌                    | 15/20 [22:34<07:39, 91.96s/it]"
     ]
    },
    {
     "name": "stdout",
     "output_type": "stream",
     "text": [
      "Epoch [15/20], Training Loss: 0.0013, Validation Loss: 0.0008\n",
      "Validation loss decreased (0.000932 --> 0.000755).  Saving model ...\n",
      "Updating learning rate to 0.00014644660940672628\n"
     ]
    },
    {
     "name": "stderr",
     "output_type": "stream",
     "text": [
      "\r",
      " 80%|█████████████████████████████████████████████████████████████████▌                | 16/20 [24:06<06:08, 92.01s/it]"
     ]
    },
    {
     "name": "stdout",
     "output_type": "stream",
     "text": [
      "Epoch [16/20], Training Loss: 0.0012, Validation Loss: 0.0008\n",
      "EarlyStopping counter: 1 out of 3\n",
      "Updating learning rate to 9.549150281252633e-05\n"
     ]
    },
    {
     "name": "stderr",
     "output_type": "stream",
     "text": [
      "\r",
      " 85%|█████████████████████████████████████████████████████████████████████▋            | 17/20 [25:40<04:37, 92.62s/it]"
     ]
    },
    {
     "name": "stdout",
     "output_type": "stream",
     "text": [
      "Epoch [17/20], Training Loss: 0.0012, Validation Loss: 0.0008\n",
      "Validation loss decreased (0.000755 --> 0.000753).  Saving model ...\n",
      "Updating learning rate to 5.449673790581611e-05\n"
     ]
    },
    {
     "name": "stderr",
     "output_type": "stream",
     "text": [
      "\r",
      " 90%|█████████████████████████████████████████████████████████████████████████▊        | 18/20 [27:14<03:05, 92.96s/it]"
     ]
    },
    {
     "name": "stdout",
     "output_type": "stream",
     "text": [
      "Epoch [18/20], Training Loss: 0.0012, Validation Loss: 0.0008\n",
      "EarlyStopping counter: 1 out of 3\n",
      "Updating learning rate to 2.4471741852423235e-05\n"
     ]
    },
    {
     "name": "stderr",
     "output_type": "stream",
     "text": [
      "\r",
      " 95%|█████████████████████████████████████████████████████████████████████████████▉    | 19/20 [28:47<01:32, 92.94s/it]"
     ]
    },
    {
     "name": "stdout",
     "output_type": "stream",
     "text": [
      "Epoch [19/20], Training Loss: 0.0012, Validation Loss: 0.0008\n",
      "EarlyStopping counter: 2 out of 3\n",
      "Updating learning rate to 6.15582970243117e-06\n"
     ]
    },
    {
     "name": "stderr",
     "output_type": "stream",
     "text": [
      "\r",
      " 95%|█████████████████████████████████████████████████████████████████████████████▉    | 19/20 [30:23<01:35, 95.95s/it]"
     ]
    },
    {
     "name": "stdout",
     "output_type": "stream",
     "text": [
      "Epoch [20/20], Training Loss: 0.0011, Validation Loss: 0.0008\n",
      "EarlyStopping counter: 3 out of 3\n",
      "Early stopping!\n"
     ]
    },
    {
     "name": "stderr",
     "output_type": "stream",
     "text": [
      "\n"
     ]
    },
    {
     "data": {
      "image/png": "[encoded data removed]",
      "text/plain": [
       "<Figure size 1000x500 with 1 Axes>"
      ]
     },
     "metadata": {},
     "output_type": "display_data"
    }
   ],
   "source": [
    "# 构造参数字典\n",
    "params3 = {\n",
    "    \"task_args\":{\n",
    "        \"columns\": ['load', 'temp'],\n",
    "        \"target\": ['load', 'temp'],\n",
    "        \"features\": 'M'\n",
    "    },\n",
    "    \"train_args\": {\n",
    "        \"model_name\": Transformer,\n",
    "        \"train_loader\": train_loader,\n",
    "        \"valid_loader\": valid_loader,\n",
    "        \"n_epochs\": 20,\n",
    "        \"learning_rate\": 0.001,\n",
    "        \"loss\": nn.MSELoss(),\n",
    "        \"patience\": 3,\n",
    "        \"device\": 'cpu',\n",
    "        \"lradj\": 'cosine',\n",
    "        \"model_path\": \"../outputs/best_models/Transformer\",\n",
    "        \"verbose\": True,\n",
    "        \"plots\": True,\n",
    "    },\n",
    "    \"model_args\": {\n",
    "        'pred_len': 3, \n",
    "        \"label_len\": 3,\n",
    "        'output_attention': True,\n",
    "        'embed': 'fixed',\n",
    "        'freq': 'h',\n",
    "        'd_model': 128,\n",
    "        'enc_in': 2,\n",
    "        'dec_in':2,\n",
    "        'dropout': 0.1,\n",
    "        'factor': 3,\n",
    "        'n_heads': 8,\n",
    "        'd_ff': 128,\n",
    "        'e_layers': 1,\n",
    "        'd_layers': 1,\n",
    "        'c_out': 2\n",
    "    },\n",
    "}\n",
    "model = train(**params3)"
   ]
  },
  {
   "cell_type": "markdown",
   "id": "cda341c5",
   "metadata": {},
   "source": [
    "## 模型保存"
   ]
  },
  {
   "cell_type": "markdown",
   "id": "5979918d",
   "metadata": {},
   "source": [
    "在许多深度学习框架中，可以直接保存整个模型，包括模型的架构、权重和训练状态。"
   ]
  },
  {
   "cell_type": "markdown",
   "id": "c0d47bab",
   "metadata": {},
   "source": [
    "### 保存模型权重"
   ]
  },
  {
   "cell_type": "markdown",
   "id": "a14f2257-7ff9-4cf2-b963-b2c74f03c7e9",
   "metadata": {},
   "source": [
    "只保存模型权重时，如果是在GPU上训练的模型，可以在CPU上跑。"
   ]
  },
  {
   "cell_type": "code",
   "execution_count": 32,
   "id": "6d1817cc",
   "metadata": {
    "ExecuteTime": {
     "end_time": "2024-05-17T03:28:05.794719Z",
     "start_time": "2024-05-17T03:28:05.779098Z"
    }
   },
   "outputs": [],
   "source": [
    "weight_path = '../outputs/models/weights/transformer_weights.pth'\n",
    "torch.save(model.state_dict(), weight_path)"
   ]
  },
  {
   "cell_type": "markdown",
   "id": "26384672",
   "metadata": {},
   "source": [
    "### 保存整个模型"
   ]
  },
  {
   "cell_type": "markdown",
   "id": "94c1b377-c719-4428-a7d6-34738d263f74",
   "metadata": {},
   "source": [
    "如果保存整个模型，会根据模型训练方式（CPU训练或者GPU训练），自动选择加载设备。即GPU上跑GPU模型，CPU上跑CPU模型。"
   ]
  },
  {
   "cell_type": "code",
   "execution_count": 33,
   "id": "08b6d41d",
   "metadata": {
    "ExecuteTime": {
     "end_time": "2024-05-17T03:28:08.474575Z",
     "start_time": "2024-05-17T03:28:08.456119Z"
    }
   },
   "outputs": [],
   "source": [
    "# 必须将模型单独写成py文件才能保存\n",
    "model_path = '../outputs/models/best_models/transformer.pth'\n",
    "torch.save(model, model_path)"
   ]
  },
  {
   "cell_type": "markdown",
   "id": "125b7154",
   "metadata": {
    "ExecuteTime": {
     "end_time": "2024-01-10T12:35:12.127716Z",
     "start_time": "2024-01-10T12:35:12.108834Z"
    }
   },
   "source": [
    "## 模型加载"
   ]
  },
  {
   "cell_type": "markdown",
   "id": "f6c2e4ab",
   "metadata": {},
   "source": [
    "### 加载整个模型"
   ]
  },
  {
   "cell_type": "markdown",
   "id": "312a763b",
   "metadata": {},
   "source": [
    "如果之前使用了torch.save(model, model_path)，那说明保存的是整个模型对象而不是脚本化的模型。在这种情况下，加载模型时使用 torch.load 即可。"
   ]
  },
  {
   "cell_type": "code",
   "execution_count": 34,
   "id": "c665aff7",
   "metadata": {
    "ExecuteTime": {
     "end_time": "2024-05-17T03:28:11.798333Z",
     "start_time": "2024-05-17T03:28:11.786129Z"
    }
   },
   "outputs": [],
   "source": [
    "model_path = '../outputs/models/best_models/transformer.pth'\n",
    "transformer_model = torch.load(model_path)"
   ]
  },
  {
   "cell_type": "markdown",
   "id": "925a32ba",
   "metadata": {},
   "source": [
    "### 加载模型权重"
   ]
  },
  {
   "cell_type": "markdown",
   "id": "9eb80527",
   "metadata": {},
   "source": [
    "如果之前使用了torch.save(model.state_dict(), model_path)，在加载时需要加载模型的权重，并在模型实例上应用这些权重。"
   ]
  },
  {
   "cell_type": "code",
   "execution_count": 35,
   "id": "1f70c6b7",
   "metadata": {
    "ExecuteTime": {
     "end_time": "2024-05-17T03:28:15.420992Z",
     "start_time": "2024-05-17T03:28:15.386428Z"
    }
   },
   "outputs": [
    {
     "data": {
      "text/plain": [
       "<All keys matched successfully>"
      ]
     },
     "execution_count": 35,
     "metadata": {},
     "output_type": "execute_result"
    }
   ],
   "source": [
    "weight_path = '../outputs/models/weights/transformer_weights.pth'\n",
    "model_args = {\n",
    "        'pred_len': 3, \n",
    "        \"label_len\": 3,\n",
    "        'output_attention': True,\n",
    "        'embed': 'fixed',\n",
    "        'freq': 'h',\n",
    "        'd_model': 128,\n",
    "        'enc_in': 2,\n",
    "        'dec_in':2,\n",
    "        'dropout': 0.1,\n",
    "        'factor': 3,\n",
    "        'n_heads': 8,\n",
    "        'd_ff': 128,\n",
    "        'e_layers': 1,\n",
    "        'd_layers': 1,\n",
    "        'c_out': 2\n",
    "    }\n",
    "transformer_model = Transformer(**model_args)\n",
    "state_dict = torch.load(weight_path)\n",
    "transformer_model.load_state_dict(state_dict)"
   ]
  },
  {
   "cell_type": "markdown",
   "id": "d0194524",
   "metadata": {},
   "source": [
    "### CPU和GPU模型转换"
   ]
  },
  {
   "cell_type": "markdown",
   "id": "dd5bc6f3",
   "metadata": {},
   "source": [
    "如果模型是在GPU上训练，保存模型后，想在CPU上推理，加载模型时只需使用如下代码：  \n",
    "`state_dict = torch.load(path, map_location='cpu') `  \n",
    "`model.load_state_dict()`"
   ]
  },
  {
   "cell_type": "markdown",
   "id": "d3e1a6a6",
   "metadata": {},
   "source": [
    "如果模型已在CPU加载，想部署到GPU，可以使用如下代码：  \n",
    "`device=torch.device('cuda')`  \n",
    "`model.to(device)`"
   ]
  },
  {
   "cell_type": "markdown",
   "id": "9bcf8fc3",
   "metadata": {},
   "source": [
    "## 模型预测"
   ]
  },
  {
   "cell_type": "code",
   "execution_count": 94,
   "id": "e06b3987",
   "metadata": {
    "ExecuteTime": {
     "end_time": "2024-05-17T06:16:04.189973Z",
     "start_time": "2024-05-17T06:16:04.172357Z"
    }
   },
   "outputs": [],
   "source": [
    "def predict(task_args, predict_args, model_args):\n",
    "    # 参数配置\n",
    "    columns = task_args['columns']\n",
    "    target = task_args['target'] \n",
    "    time_col = predict_args['time_col']\n",
    "    features = task_args['features'] \n",
    "    freq = predict_args['freq']\n",
    "    model_name = predict_args['model_name'] \n",
    "    x_true = predict_args['x_true'] \n",
    "    scaler_path = predict_args['scaler_path']\n",
    "    model_path = predict_args['model_path'] \n",
    "    device = predict_args['device'] # 预测设备，可选'cuda'和'cpu'\n",
    "    pred_len = model_args['pred_len'] \n",
    "    label_len = model_args['label_len']\n",
    "\n",
    "    #检查是否可用GPU\n",
    "    device = torch.device(device)\n",
    "\n",
    "    # 读取归一化参数\n",
    "    x_scaler = joblib.load(scaler_path + \"/x_scaler.pkl\")\n",
    "    y_scaler = joblib.load(scaler_path + \"/y_scaler.pkl\")\n",
    "\n",
    "    # 加载模型\n",
    "    model = model_name(**model_args)\n",
    "    state_dict = torch.load(model_path, map_location=device)\n",
    "    model.load_state_dict(state_dict)\n",
    "\n",
    "    # 生成固定长度的时间范围\n",
    "    x_true = loader(data_path=None, data=x_true, time_col=time_col) # 原始数据\n",
    "    x_true = x_true[columns]\n",
    "    timedelta = x_true.index[-1] - x_true.index[-2] # 时间差\n",
    "    if label_len != 0:\n",
    "        y_stamp = pd.date_range(start=x_true.index[-label_len], \n",
    "                                end=x_true.index[-label_len]+timedelta*(label_len+pred_len-1), \n",
    "                                freq=freq)\n",
    "    else:\n",
    "        y_stamp = pd.date_range(start=x_true.index[-1]+timedelta*(label_len+1), \n",
    "                                end=x_true.index[-1]+timedelta*(label_len+pred_len), \n",
    "                                freq=freq) \n",
    "    x_stamp = time_features(pd.to_datetime(x_true.index), freq=freq) # x时间戳数据\n",
    "    x_stamp = x_stamp.transpose(1, 0)\n",
    "    y_time = y_stamp\n",
    "    y_stamp = time_features(y_stamp, freq=freq) # y时间戳数据\n",
    "    y_stamp = y_stamp.transpose(1, 0)\n",
    "    \n",
    "\n",
    "    # 转换类型\n",
    "    x_true[columns] = x_scaler.transform(x_true) # 归一化\n",
    "    x_true = x_true.values.astype('float32')\n",
    "    x_true = torch.as_tensor(x_true).unsqueeze(0).float() # 转为张量\n",
    "    x_stamp = torch.as_tensor(x_stamp).unsqueeze(0).float()\n",
    "    y_stamp = torch.as_tensor(y_stamp).unsqueeze(0).float()\n",
    "    \n",
    "    # 任务分类\n",
    "    def forecasting_task(columns, target, features):\n",
    "        \"\"\"\n",
    "        features: [M, S, MS]; \n",
    "            M:multivariate predict multivariate, \n",
    "            S:univariate predict univariate, \n",
    "            MS:multivariate predict univariate'\n",
    "        \"\"\"\n",
    "        # 字典索引生成\n",
    "        col_dict = {}\n",
    "        for i,j in enumerate(columns):\n",
    "            col_dict[j] = i\n",
    "\n",
    "        if features == 'MS':\n",
    "            target = target[0]\n",
    "            if target in columns:\n",
    "                f_dim = col_dict[target]\n",
    "            else:\n",
    "                f_dim = 0\n",
    "        elif features == 'S':\n",
    "            f_dim = 0\n",
    "        else:\n",
    "            f_dim = 0\n",
    "        return f_dim\n",
    "    f_dim = forecasting_task(columns, target, features)\n",
    "\n",
    "    # 关闭自动求导功能\n",
    "    model.eval() # 切换为推理模式\n",
    "    with torch.no_grad():\n",
    "        x_true = x_true.to(device)\n",
    "        x_stamp = x_stamp.to(device)\n",
    "        y_stamp = y_stamp.to(device)\n",
    "        # decoder输入\n",
    "        B, _, _ = x_true.shape\n",
    "        dec_inp = torch.zeros((B, pred_len, len(target))).float().to(device)\n",
    "        # attn_mask\n",
    "        B = x_true.shape[0]\n",
    "        L = x_true.shape[1]\n",
    "        mask_shape = [B, 1, L, L]\n",
    "        attn_mask = torch.triu(torch.ones(mask_shape, dtype=torch.bool), diagonal=1).to(device)\n",
    "        if features == 'MS':\n",
    "            dec_inp = torch.cat([x_true[:, -label_len:, f_dim: f_dim+1], dec_inp], dim=1).float()\n",
    "            y_pred = model(x_true, x_stamp, dec_inp, y_stamp, attn_mask)\n",
    "            y_pred = y_pred.cpu().detach().numpy() \n",
    "            y_pred = y_scaler.inverse_transform(y_pred[-1, :, :]) # 反归一化\n",
    "            y_pred = y_pred[:, f_dim: f_dim+1]\n",
    "        else:\n",
    "            dec_inp = torch.cat([x_true[:, -label_len:, f_dim:], dec_inp], dim=1).float()\n",
    "            y_pred = model(x_true, x_stamp, dec_inp, y_stamp, attn_mask)\n",
    "            y_pred = y_pred.cpu().detach().numpy() \n",
    "            print(y_pred.shape)\n",
    "            y_pred = y_scaler.inverse_transform(y_pred[-1, :, :]) # 反归一化\n",
    "            print(y_pred.shape)\n",
    "            y_pred = y_pred[:, f_dim:]\n",
    "\n",
    "    # 输出为dataframe\n",
    "    y_pred = pd.DataFrame(data=y_pred, index=y_time[-pred_len:], columns=target)\n",
    "    \n",
    "    return y_pred"
   ]
  },
  {
   "cell_type": "code",
   "execution_count": 95,
   "id": "3f9cbb81",
   "metadata": {
    "ExecuteTime": {
     "end_time": "2024-05-17T06:16:05.425929Z",
     "start_time": "2024-05-17T06:16:05.355866Z"
    }
   },
   "outputs": [
    {
     "name": "stdout",
     "output_type": "stream",
     "text": [
      "(1, 3, 2)\n",
      "(3, 2)\n"
     ]
    }
   ],
   "source": [
    "# 构造参数字典\n",
    "params6 = {\n",
    "    \"task_args\":{\n",
    "        \"columns\": ['load', 'temp'],\n",
    "        \"target\": ['load', 'temp'],\n",
    "        \"features\": 'M',\n",
    "    },\n",
    "    \"predict_args\": {\n",
    "        \"time_col\": 'time',\n",
    "        \"freq\": 'h',\n",
    "        \"model_name\": Transformer,\n",
    "        \"model_path\": \"../outputs/models/weights/transformer_weights.pth\",\n",
    "        \"x_true\": pd.read_csv(data_path).iloc[:6, :],\n",
    "        \"scaler_path\": '../outputs/scalers/Transformer',\n",
    "        \"device\": 'cpu'\n",
    "    },\n",
    "    \"model_args\": {\n",
    "        'pred_len': 3, \n",
    "        \"label_len\": 3,\n",
    "        'output_attention': True,\n",
    "        'embed': 'fixed',\n",
    "        'freq': 'h',\n",
    "        'd_model': 128,\n",
    "        'enc_in': 2,\n",
    "        'dec_in':2,\n",
    "        'dropout': 0.1,\n",
    "        'factor': 3,\n",
    "        'n_heads': 8,\n",
    "        'd_ff': 128,\n",
    "        'e_layers': 1,\n",
    "        'd_layers': 1,\n",
    "        'c_out': 2\n",
    "    },\n",
    "}\n",
    "y_pred = predict(**params6)"
   ]
  },
  {
   "cell_type": "code",
   "execution_count": 40,
   "id": "08d727bd",
   "metadata": {
    "ExecuteTime": {
     "end_time": "2024-05-17T03:28:48.015222Z",
     "start_time": "2024-05-17T03:28:48.007332Z"
    }
   },
   "outputs": [
    {
     "data": {
      "text/html": [
       "<div>\n",
       "<style scoped>\n",
       "    .dataframe tbody tr th:only-of-type {\n",
       "        vertical-align: middle;\n",
       "    }\n",
       "\n",
       "    .dataframe tbody tr th {\n",
       "        vertical-align: top;\n",
       "    }\n",
       "\n",
       "    .dataframe thead th {\n",
       "        text-align: right;\n",
       "    }\n",
       "</style>\n",
       "<table border=\"1\" class=\"dataframe\">\n",
       "  <thead>\n",
       "    <tr style=\"text-align: right;\">\n",
       "      <th></th>\n",
       "      <th>load</th>\n",
       "      <th>temp</th>\n",
       "    </tr>\n",
       "  </thead>\n",
       "  <tbody>\n",
       "    <tr>\n",
       "      <th>2012-01-01 06:00:00</th>\n",
       "      <td>2641.291748</td>\n",
       "      <td>30.517662</td>\n",
       "    </tr>\n",
       "    <tr>\n",
       "      <th>2012-01-01 07:00:00</th>\n",
       "      <td>2955.476807</td>\n",
       "      <td>30.698469</td>\n",
       "    </tr>\n",
       "    <tr>\n",
       "      <th>2012-01-01 08:00:00</th>\n",
       "      <td>3226.948730</td>\n",
       "      <td>31.756979</td>\n",
       "    </tr>\n",
       "  </tbody>\n",
       "</table>\n",
       "</div>"
      ],
      "text/plain": [
       "                            load       temp\n",
       "2012-01-01 06:00:00  2641.291748  30.517662\n",
       "2012-01-01 07:00:00  2955.476807  30.698469\n",
       "2012-01-01 08:00:00  3226.948730  31.756979"
      ]
     },
     "execution_count": 40,
     "metadata": {},
     "output_type": "execute_result"
    }
   ],
   "source": [
    "y_pred"
   ]
  },
  {
   "cell_type": "markdown",
   "id": "0cbc0b89",
   "metadata": {},
   "source": [
    "# onnx模型部署"
   ]
  },
  {
   "cell_type": "markdown",
   "id": "048f4732",
   "metadata": {},
   "source": [
    "开放神经网络交换ONNX（Open Neural Network Exchange）是一套表示深度神经网络模型的开放格式，由微软和Facebook于2017推出，然后迅速得到了各大厂商和框架的支持。通过短短几年的发展，已经成为表示深度学习模型的实际标准，并且通过ONNX-ML，可以支持传统非神经网络机器学习模型，大有一统整个AI模型交换标准。ONNX定义了一组与环境和平台无关的标准格式，为AI模型的互操作性提供了基础，使AI模型可以在不同框架和环境下交互使用。硬件和软件厂商可以基于ONNX标准优化模型性能，让所有兼容ONNX标准的框架受益，简单来说，ONNX就是模型转换的中间人。"
   ]
  },
  {
   "attachments": {
    "image.png": {
     "image/png": "[encoded data removed]"
    }
   },
   "cell_type": "markdown",
   "id": "4a47ce7a",
   "metadata": {},
   "source": [
    "![image.png](attachment:image.png)"
   ]
  },
  {
   "cell_type": "markdown",
   "id": "4bd971bd",
   "metadata": {},
   "source": [
    "无论你使用什么样的训练框架来训练模型（比如TensorFlow/Pytorch/OneFlow/Paddle），你都可以在训练后将这些框架的模型统一转为ONNX存储。ONNX文件不仅存储了神经网络模型的权重，还存储了模型的结构信息、网络中各层的输入输出等一些信息。目前，ONNX主要关注在模型预测方面（inferring），将转换后的ONNX模型，转换成我们需要使用不同框架部署的类型，可以很容易的部署在兼容ONNX的运行环境中。"
   ]
  },
  {
   "cell_type": "markdown",
   "id": "70b0b2d2",
   "metadata": {},
   "source": [
    "目前onnx不支持triu功能，需要在模型外部计算，将值传入模型内。在onnxruntime推理时，输入需要是numpy格式，需要将tensor转换为numpy。"
   ]
  },
  {
   "cell_type": "markdown",
   "id": "8ed938e0",
   "metadata": {},
   "source": [
    "## 模型保存"
   ]
  },
  {
   "cell_type": "code",
   "execution_count": 41,
   "id": "e1fe8448",
   "metadata": {
    "ExecuteTime": {
     "end_time": "2024-05-17T03:28:53.816541Z",
     "start_time": "2024-05-17T03:28:53.784131Z"
    }
   },
   "outputs": [
    {
     "data": {
      "text/plain": [
       "<All keys matched successfully>"
      ]
     },
     "execution_count": 41,
     "metadata": {},
     "output_type": "execute_result"
    }
   ],
   "source": [
    "weight_path = '../outputs/models/weights/transformer_weights.pth'\n",
    "model_args = {\n",
    "        'pred_len': 3, \n",
    "        \"label_len\": 3,\n",
    "        'output_attention': True,\n",
    "        'embed': 'fixed',\n",
    "        'freq': 'h',\n",
    "        'd_model': 128,\n",
    "        'enc_in': 2,\n",
    "        'dec_in':2,\n",
    "        'dropout': 0.1,\n",
    "        'factor': 3,\n",
    "        'n_heads': 8,\n",
    "        'd_ff': 128,\n",
    "        'e_layers': 1,\n",
    "        'd_layers': 1,\n",
    "        'c_out': 2\n",
    "    }\n",
    "transformer_model = Transformer(**model_args)\n",
    "state_dict = torch.load(weight_path)\n",
    "transformer_model.load_state_dict(state_dict)"
   ]
  },
  {
   "cell_type": "code",
   "execution_count": 42,
   "id": "c58b6108",
   "metadata": {
    "ExecuteTime": {
     "end_time": "2024-05-17T03:28:55.819831Z",
     "start_time": "2024-05-17T03:28:55.811111Z"
    }
   },
   "outputs": [],
   "source": [
    "# 生成随机张量\n",
    "x_true = torch.tensor([[[0.2216, 0.4203], [0.1784, 0.4264], [0.1433, 0.4019],\n",
    "                        [0.1304, 0.4111], [0.1307, 0.4203], [0.1461, 0.4141]]])\n",
    "\n",
    "x_stamp = torch.tensor([[[-0.5000, 0.5000, -0.5000, -0.5000],\n",
    "                         [-0.4565, 0.5000, -0.5000, -0.5000],\n",
    "                         [-0.4130, 0.5000, -0.5000, -0.5000],\n",
    "                         [-0.3696, 0.5000, -0.5000, -0.5000],\n",
    "                         [-0.3261, 0.5000, -0.5000, -0.5000],\n",
    "                         [-0.2826, 0.5000, -0.5000, -0.5000]]])\n",
    "\n",
    "dec_inp = torch.tensor([[[0.1304, 0.4111], [0.1307, 0.4203], [0.1461, 0.4141],\n",
    "                         [0.0000, 0.0000], [0.0000, 0.0000], [0.0000, 0.0000]]])\n",
    "\n",
    "y_stamp = torch.tensor([[[-0.3696, 0.5000, -0.5000, -0.5000],\n",
    "                         [-0.3261, 0.5000, -0.5000, -0.5000],\n",
    "                         [-0.2826, 0.5000, -0.5000, -0.5000],\n",
    "                         [-0.2391, 0.5000, -0.5000, -0.5000],\n",
    "                         [-0.1957, 0.5000, -0.5000, -0.5000],\n",
    "                         [-0.1522, 0.5000, -0.5000, -0.5000]]])\n",
    "B = 1\n",
    "L = 6\n",
    "mask_shape = [B, 1, L, L]\n",
    "attn_mask = torch.triu(torch.ones(mask_shape, dtype=torch.bool), diagonal=1)"
   ]
  },
  {
   "cell_type": "code",
   "execution_count": 43,
   "id": "e815dbef",
   "metadata": {
    "ExecuteTime": {
     "end_time": "2024-05-17T03:28:56.988933Z",
     "start_time": "2024-05-17T03:28:56.983136Z"
    },
    "scrolled": true
   },
   "outputs": [
    {
     "data": {
      "text/plain": [
       "Transformer(\n",
       "  (enc_embedding): DataEmbedding(\n",
       "    (value_embedding): TokenEmbedding(\n",
       "      (tokenConv): Conv1d(2, 128, kernel_size=(3,), stride=(1,), padding=(1,), bias=False, padding_mode=circular)\n",
       "    )\n",
       "    (position_embedding): PositionalEmbedding()\n",
       "    (temporal_embedding): TemporalEmbedding(\n",
       "      (hour_embed): FixedEmbedding(\n",
       "        (emb): Embedding(24, 128)\n",
       "      )\n",
       "      (weekday_embed): FixedEmbedding(\n",
       "        (emb): Embedding(7, 128)\n",
       "      )\n",
       "      (day_embed): FixedEmbedding(\n",
       "        (emb): Embedding(32, 128)\n",
       "      )\n",
       "      (month_embed): FixedEmbedding(\n",
       "        (emb): Embedding(13, 128)\n",
       "      )\n",
       "    )\n",
       "    (dropout): Dropout(p=0.1, inplace=False)\n",
       "  )\n",
       "  (encoder): Encoder(\n",
       "    (attn_layers): ModuleList(\n",
       "      (0): EncoderLayer(\n",
       "        (attention): AttentionLayer(\n",
       "          (inner_attention): FullAttention(\n",
       "            (dropout): Dropout(p=0.1, inplace=False)\n",
       "          )\n",
       "          (query_projection): Linear(in_features=128, out_features=128, bias=True)\n",
       "          (key_projection): Linear(in_features=128, out_features=128, bias=True)\n",
       "          (value_projection): Linear(in_features=128, out_features=128, bias=True)\n",
       "          (out_projection): Linear(in_features=128, out_features=128, bias=True)\n",
       "        )\n",
       "        (conv1): Conv1d(128, 128, kernel_size=(1,), stride=(1,))\n",
       "        (conv2): Conv1d(128, 128, kernel_size=(1,), stride=(1,))\n",
       "        (norm1): LayerNorm((128,), eps=1e-05, elementwise_affine=True)\n",
       "        (norm2): LayerNorm((128,), eps=1e-05, elementwise_affine=True)\n",
       "        (dropout): Dropout(p=0.1, inplace=False)\n",
       "      )\n",
       "    )\n",
       "    (norm): LayerNorm((128,), eps=1e-05, elementwise_affine=True)\n",
       "  )\n",
       "  (dec_embedding): DataEmbedding(\n",
       "    (value_embedding): TokenEmbedding(\n",
       "      (tokenConv): Conv1d(2, 128, kernel_size=(3,), stride=(1,), padding=(1,), bias=False, padding_mode=circular)\n",
       "    )\n",
       "    (position_embedding): PositionalEmbedding()\n",
       "    (temporal_embedding): TemporalEmbedding(\n",
       "      (hour_embed): FixedEmbedding(\n",
       "        (emb): Embedding(24, 128)\n",
       "      )\n",
       "      (weekday_embed): FixedEmbedding(\n",
       "        (emb): Embedding(7, 128)\n",
       "      )\n",
       "      (day_embed): FixedEmbedding(\n",
       "        (emb): Embedding(32, 128)\n",
       "      )\n",
       "      (month_embed): FixedEmbedding(\n",
       "        (emb): Embedding(13, 128)\n",
       "      )\n",
       "    )\n",
       "    (dropout): Dropout(p=0.1, inplace=False)\n",
       "  )\n",
       "  (decoder): Decoder(\n",
       "    (layers): ModuleList(\n",
       "      (0): DecoderLayer(\n",
       "        (self_attention): AttentionLayer(\n",
       "          (inner_attention): FullAttention(\n",
       "            (dropout): Dropout(p=0.1, inplace=False)\n",
       "          )\n",
       "          (query_projection): Linear(in_features=128, out_features=128, bias=True)\n",
       "          (key_projection): Linear(in_features=128, out_features=128, bias=True)\n",
       "          (value_projection): Linear(in_features=128, out_features=128, bias=True)\n",
       "          (out_projection): Linear(in_features=128, out_features=128, bias=True)\n",
       "        )\n",
       "        (cross_attention): AttentionLayer(\n",
       "          (inner_attention): FullAttention(\n",
       "            (dropout): Dropout(p=0.1, inplace=False)\n",
       "          )\n",
       "          (query_projection): Linear(in_features=128, out_features=128, bias=True)\n",
       "          (key_projection): Linear(in_features=128, out_features=128, bias=True)\n",
       "          (value_projection): Linear(in_features=128, out_features=128, bias=True)\n",
       "          (out_projection): Linear(in_features=128, out_features=128, bias=True)\n",
       "        )\n",
       "        (conv1): Conv1d(128, 128, kernel_size=(1,), stride=(1,))\n",
       "        (conv2): Conv1d(128, 128, kernel_size=(1,), stride=(1,))\n",
       "        (norm1): LayerNorm((128,), eps=1e-05, elementwise_affine=True)\n",
       "        (norm2): LayerNorm((128,), eps=1e-05, elementwise_affine=True)\n",
       "        (norm3): LayerNorm((128,), eps=1e-05, elementwise_affine=True)\n",
       "        (dropout): Dropout(p=0.1, inplace=False)\n",
       "      )\n",
       "    )\n",
       "    (norm): LayerNorm((128,), eps=1e-05, elementwise_affine=True)\n",
       "    (projection): Linear(in_features=128, out_features=2, bias=True)\n",
       "  )\n",
       ")"
      ]
     },
     "execution_count": 43,
     "metadata": {},
     "output_type": "execute_result"
    }
   ],
   "source": [
    "# 切换为推理模式\n",
    "transformer_model.eval()"
   ]
  },
  {
   "cell_type": "code",
   "execution_count": 44,
   "id": "febc7e7d",
   "metadata": {
    "ExecuteTime": {
     "end_time": "2024-05-17T03:29:04.682660Z",
     "start_time": "2024-05-17T03:29:04.679120Z"
    }
   },
   "outputs": [],
   "source": [
    "# 设置ONNX模型保存路径\n",
    "export_onnx_path = \"../outputs/models/transformer.onnx\""
   ]
  },
  {
   "cell_type": "code",
   "execution_count": 45,
   "id": "42a95996",
   "metadata": {
    "ExecuteTime": {
     "end_time": "2024-05-17T03:29:09.749113Z",
     "start_time": "2024-05-17T03:29:09.167145Z"
    }
   },
   "outputs": [
    {
     "name": "stdout",
     "output_type": "stream",
     "text": [
      "================ Diagnostic Run torch.onnx.export version 2.0.1 ================\n",
      "verbose: False, log level: Level.ERROR\n",
      "======================= 0 NONE 0 NOTE 0 WARNING 0 ERROR ========================\n",
      "\n"
     ]
    }
   ],
   "source": [
    "torch.onnx.export(\n",
    "    model=transformer_model,\n",
    "    args=(x_true, x_stamp, dec_inp, y_stamp, attn_mask),\n",
    "    f=export_onnx_path,\n",
    "    verbose=True,\n",
    "    opset_version=17,\n",
    "    do_constant_folding=True,  # 是否执行常量折叠优化\n",
    "    input_names=['x_true', 'x_stamp', 'dec_inp', 'y_stamp', 'attn_mask'],  # 输入名\n",
    "    output_names=['output'],  # 输出名\n",
    "    dynamic_axes={ # 指定模型的动态轴\n",
    "        'x_true': {\n",
    "            0: 'batch_size'\n",
    "        },  \n",
    "        'x_stamp': {\n",
    "            0: 'batch_size'\n",
    "        },\n",
    "        'dec_inp': {\n",
    "            0: 'batch_size'\n",
    "        },\n",
    "        'y_stamp': {\n",
    "            0: 'batch_size'\n",
    "        },\n",
    "        'attn_mask': {\n",
    "            0: 'batch_size'\n",
    "        },\n",
    "        'output': {\n",
    "            0: 'batch_size'\n",
    "        }\n",
    "    })"
   ]
  },
  {
   "cell_type": "markdown",
   "id": "4ccc3542",
   "metadata": {},
   "source": [
    "## 模型加载"
   ]
  },
  {
   "cell_type": "code",
   "execution_count": 46,
   "id": "f498b4ff",
   "metadata": {
    "ExecuteTime": {
     "end_time": "2024-05-17T03:29:14.954306Z",
     "start_time": "2024-05-17T03:29:14.910957Z"
    }
   },
   "outputs": [],
   "source": [
    "# 加载和检查导出的ONNX模型\n",
    "import onnx\n",
    "onnx_model = onnx.load(export_onnx_path)\n",
    "\n",
    "# 检查模型，发现问题时会打印相关信息\n",
    "onnx.checker.check_model(onnx_model)"
   ]
  },
  {
   "cell_type": "markdown",
   "id": "c7fb1987",
   "metadata": {},
   "source": [
    "## 模型可视化"
   ]
  },
  {
   "cell_type": "markdown",
   "id": "39cc9f94",
   "metadata": {},
   "source": [
    "netron官网地址为：[netron](https://netron.app/)  \n",
    "通过netron可以直观的可视化onnx模型结构，利于理解与调整。"
   ]
  },
  {
   "cell_type": "markdown",
   "id": "ee4cedec",
   "metadata": {},
   "source": [
    "## 模型预测"
   ]
  },
  {
   "cell_type": "markdown",
   "id": "4f56defa",
   "metadata": {},
   "source": [
    "### 功能测试"
   ]
  },
  {
   "cell_type": "code",
   "execution_count": 49,
   "id": "7099be09",
   "metadata": {
    "ExecuteTime": {
     "end_time": "2024-05-17T03:30:03.225539Z",
     "start_time": "2024-05-17T03:30:03.128149Z"
    }
   },
   "outputs": [],
   "source": [
    "import onnxruntime as ort\n",
    "\n",
    "# 将模型序列化为字符串\n",
    "onnx_model_serialized = onnx_model.SerializeToString()\n",
    "\n",
    "# 使用指定的提供者创建推理会话\n",
    "sess_options = ort.SessionOptions()\n",
    "providers = ['CPUExecutionProvider']\n",
    "sess = ort.InferenceSession(onnx_model_serialized, sess_options, providers=providers)"
   ]
  },
  {
   "cell_type": "code",
   "execution_count": 52,
   "id": "a24e2e1e",
   "metadata": {
    "ExecuteTime": {
     "end_time": "2024-05-17T03:32:21.699397Z",
     "start_time": "2024-05-17T03:32:21.695099Z"
    }
   },
   "outputs": [],
   "source": [
    "input_name1 = sess.get_inputs()[0].name\n",
    "input_name2 = sess.get_inputs()[1].name\n",
    "input_name3 = sess.get_inputs()[2].name\n",
    "input_name4 = sess.get_inputs()[3].name\n",
    "input_name5 = sess.get_inputs()[4].name\n",
    "output_name = sess.get_outputs()[0].name"
   ]
  },
  {
   "cell_type": "code",
   "execution_count": 59,
   "id": "1e53fa98",
   "metadata": {
    "ExecuteTime": {
     "end_time": "2024-05-17T03:38:41.383055Z",
     "start_time": "2024-05-17T03:38:41.374787Z"
    }
   },
   "outputs": [],
   "source": [
    "x_true = torch.tensor([[[0.2216, 0.4203], [0.1784, 0.4264], [0.1433, 0.4019],\n",
    "                        [0.1304, 0.4111], [0.1307, 0.4203], [0.1461, 0.4141]]])\n",
    "\n",
    "x_stamp = torch.tensor([[[-0.5000, 0.5000, -0.5000, -0.5000],\n",
    "                         [-0.4565, 0.5000, -0.5000, -0.5000],\n",
    "                         [-0.4130, 0.5000, -0.5000, -0.5000],\n",
    "                         [-0.3696, 0.5000, -0.5000, -0.5000],\n",
    "                         [-0.3261, 0.5000, -0.5000, -0.5000],\n",
    "                         [-0.2826, 0.5000, -0.5000, -0.5000]]])\n",
    "\n",
    "dec_inp = torch.tensor([[[0.1304, 0.4111], [0.1307, 0.4203], [0.1461, 0.4141],\n",
    "                         [0.0000, 0.0000], [0.0000, 0.0000], [0.0000, 0.0000]]])\n",
    "\n",
    "y_stamp = torch.tensor([[[-0.3696, 0.5000, -0.5000, -0.5000],\n",
    "                         [-0.3261, 0.5000, -0.5000, -0.5000],\n",
    "                         [-0.2826, 0.5000, -0.5000, -0.5000],\n",
    "                         [-0.2391, 0.5000, -0.5000, -0.5000],\n",
    "                         [-0.1957, 0.5000, -0.5000, -0.5000],\n",
    "                         [-0.1522, 0.5000, -0.5000, -0.5000]]])\n",
    "B = 1\n",
    "L = 6\n",
    "mask_shape = [B, 1, L, L]\n",
    "attn_mask = torch.triu(torch.ones(mask_shape, dtype=torch.bool), diagonal=1)"
   ]
  },
  {
   "cell_type": "code",
   "execution_count": 60,
   "id": "69c5e08a",
   "metadata": {
    "ExecuteTime": {
     "end_time": "2024-05-17T03:38:42.535691Z",
     "start_time": "2024-05-17T03:38:42.531195Z"
    }
   },
   "outputs": [],
   "source": [
    "# 将 PyTorch 张量转换为 numpy 数组\n",
    "x_true_np = x_true.cpu().numpy()\n",
    "x_stamp_np = x_stamp.cpu().numpy()\n",
    "dec_inp_np = dec_inp.cpu().numpy()\n",
    "y_stamp_np = y_stamp.cpu().numpy()\n",
    "attn_mask_np = attn_mask.cpu().numpy()"
   ]
  },
  {
   "cell_type": "code",
   "execution_count": 88,
   "id": "4727b122",
   "metadata": {
    "ExecuteTime": {
     "end_time": "2024-05-17T06:10:59.692343Z",
     "start_time": "2024-05-17T06:10:59.684254Z"
    }
   },
   "outputs": [],
   "source": [
    "# 使用转换后的 numpy 数组作为输入\n",
    "output = sess.run(\n",
    "    [output_name], {\n",
    "        input_name1: x_true_np,\n",
    "        input_name2: x_stamp_np,\n",
    "        input_name3: dec_inp_np,\n",
    "        input_name4: y_stamp_np,\n",
    "        input_name5: attn_mask_np\n",
    "    })"
   ]
  },
  {
   "cell_type": "code",
   "execution_count": 93,
   "id": "4f0373dd",
   "metadata": {
    "ExecuteTime": {
     "end_time": "2024-05-17T06:11:22.107211Z",
     "start_time": "2024-05-17T06:11:22.101691Z"
    }
   },
   "outputs": [
    {
     "data": {
      "text/plain": [
       "array([[[0.20412195, 0.40663266],\n",
       "        [0.30094713, 0.40829346],\n",
       "        [0.38461053, 0.4180346 ]]], dtype=float32)"
      ]
     },
     "execution_count": 93,
     "metadata": {},
     "output_type": "execute_result"
    }
   ],
   "source": [
    "output[0]"
   ]
  },
  {
   "cell_type": "markdown",
   "id": "15c510a4",
   "metadata": {},
   "source": [
    "### 完整实现"
   ]
  },
  {
   "cell_type": "markdown",
   "id": "efbb1ec1",
   "metadata": {},
   "source": [
    "使用onnxruntime进行推理，极大的减少空间的占用。onnx大小34.0MB，onnxruntime大小21.0MB，torch787MB。"
   ]
  },
  {
   "cell_type": "code",
   "execution_count": 27,
   "id": "09404980",
   "metadata": {
    "ExecuteTime": {
     "end_time": "2024-05-17T07:02:09.904427Z",
     "start_time": "2024-05-17T07:02:09.899717Z"
    }
   },
   "outputs": [],
   "source": [
    "import onnx\n",
    "import onnxruntime as ort\n",
    "import pandas as pd\n",
    "import numpy as np\n",
    "import joblib\n",
    "from pandas.tseries import offsets\n",
    "from pandas.tseries.frequencies import to_offset"
   ]
  },
  {
   "cell_type": "code",
   "execution_count": 28,
   "id": "3144378b",
   "metadata": {
    "ExecuteTime": {
     "end_time": "2024-05-17T07:02:12.788989Z",
     "start_time": "2024-05-17T07:02:12.780958Z"
    }
   },
   "outputs": [],
   "source": [
    "# 读取数据\n",
    "def loader(data_path=None, data=None, time_col=None, datetime=None, freq=None):\n",
    "    \"\"\"\n",
    "    读取数据，并对输入数据时间列进行处理\n",
    "\n",
    "    参数说明\n",
    "    ----------\n",
    "    data_path : {str}\n",
    "        输入数据地址，如果为空，读取已有数据\n",
    "    data : {DataFrame} of shape (n_samples, n_features)\n",
    "        输入数据，如果需读取本地数据，将该值置空，否则传入已有数据\n",
    "    time_col : {str}\n",
    "        输入数据的时间列，如果没有时间列，生成时间戳范围，或者生成固定频率的时间戳数据\n",
    "    datetime : {str} \n",
    "        时间列开始时间，如果time_col为空，需填入此项，格式为%Y-%m-%d %H:%M:%S\n",
    "    freq : {int}\n",
    "        时间序列频率，单位为秒\n",
    "\n",
    "    返回值\n",
    "    -------\n",
    "    data : {DataFrame} of shape (n_samples, n_features)\n",
    "        经过时间序列处理后的数据\n",
    "    \"\"\"\n",
    "    # 读取原始数据\n",
    "    if data_path == None:\n",
    "        if data.empty is True:\n",
    "            raise ValueError(\"data is not exist!\")\n",
    "        else:\n",
    "            data = data\n",
    "    else:\n",
    "        data = pd.read_csv(data_path)\n",
    "    \n",
    "    # 时间列处理\n",
    "    if time_col == None:\n",
    "        # 筛选输入频率\n",
    "        re_ = re.findall('[0-9]', freq)\n",
    "        if len(re_) == 0:\n",
    "            nums = 1\n",
    "        else:\n",
    "            nums = int(''.join(re_))\n",
    "        # 生成时间间隔\n",
    "        time_index = pd.date_range(start=pd.to_datetime(datetime),\n",
    "                                   end=pd.to_datetime(datetime) +\n",
    "                                   timedelta(seconds=(data.shape[0] - 1)*nums),\n",
    "                                   freq=freq)\n",
    "        full_data = pd.DataFrame(data=data.values,\n",
    "                                 index=pd.to_datetime(time_index, unit=freq),\n",
    "                                 columns=data.columns)\n",
    "    else:\n",
    "        columns = [i for i in data.columns if i != time_col] # 去除时间列\n",
    "        full_data = pd.DataFrame(data=data.drop([time_col], axis=1).values,\n",
    "                                 index=pd.to_datetime(data[time_col].values),\n",
    "                                 columns=columns)\n",
    "    return full_data"
   ]
  },
  {
   "cell_type": "code",
   "execution_count": 29,
   "id": "b6d0a934",
   "metadata": {
    "ExecuteTime": {
     "end_time": "2024-05-17T07:02:13.618812Z",
     "start_time": "2024-05-17T07:02:13.605970Z"
    }
   },
   "outputs": [],
   "source": [
    "# 时间格式编码\n",
    "def time_features_from_frequency_str(freq_str: str):\n",
    "    \"\"\"\n",
    "    Returns a list of time features that will be appropriate for the given frequency string.\n",
    "    Parameters\n",
    "    ----------\n",
    "    freq_str\n",
    "        Frequency string of the form [multiple][granularity] such as \"12H\", \"5min\", \"1D\" etc.\n",
    "    \"\"\"\n",
    "\n",
    "    class TimeFeature:\n",
    "        def __init__(self):\n",
    "            pass\n",
    "\n",
    "        def __call__(self, index: pd.DatetimeIndex) -> np.ndarray:\n",
    "            pass\n",
    "\n",
    "        def __repr__(self):\n",
    "            return self.__class__.__name__ + \"()\"\n",
    "\n",
    "\n",
    "    class SecondOfMinute(TimeFeature):\n",
    "        \"\"\"Minute of hour encoded as value between [-0.5, 0.5]\"\"\"\n",
    "\n",
    "        def __call__(self, index: pd.DatetimeIndex) -> np.ndarray:\n",
    "            return index.second / 59.0 - 0.5\n",
    "\n",
    "\n",
    "    class MinuteOfHour(TimeFeature):\n",
    "        \"\"\"Minute of hour encoded as value between [-0.5, 0.5]\"\"\"\n",
    "\n",
    "        def __call__(self, index: pd.DatetimeIndex) -> np.ndarray:\n",
    "            return index.minute / 59.0 - 0.5\n",
    "\n",
    "\n",
    "    class HourOfDay(TimeFeature):\n",
    "        \"\"\"Hour of day encoded as value between [-0.5, 0.5]\"\"\"\n",
    "\n",
    "        def __call__(self, index: pd.DatetimeIndex) -> np.ndarray:\n",
    "            return index.hour / 23.0 - 0.5\n",
    "\n",
    "\n",
    "    class DayOfWeek(TimeFeature):\n",
    "        \"\"\"Hour of day encoded as value between [-0.5, 0.5]\"\"\"\n",
    "\n",
    "        def __call__(self, index: pd.DatetimeIndex) -> np.ndarray:\n",
    "            return index.dayofweek / 6.0 - 0.5\n",
    "\n",
    "\n",
    "    class DayOfMonth(TimeFeature):\n",
    "        \"\"\"Day of month encoded as value between [-0.5, 0.5]\"\"\"\n",
    "\n",
    "        def __call__(self, index: pd.DatetimeIndex) -> np.ndarray:\n",
    "            return (index.day - 1) / 30.0 - 0.5\n",
    "\n",
    "\n",
    "    class DayOfYear(TimeFeature):\n",
    "        \"\"\"Day of year encoded as value between [-0.5, 0.5]\"\"\"\n",
    "\n",
    "        def __call__(self, index: pd.DatetimeIndex) -> np.ndarray:\n",
    "            return (index.dayofyear - 1) / 365.0 - 0.5\n",
    "\n",
    "\n",
    "    class MonthOfYear(TimeFeature):\n",
    "        \"\"\"Month of year encoded as value between [-0.5, 0.5]\"\"\"\n",
    "\n",
    "        def __call__(self, index: pd.DatetimeIndex) -> np.ndarray:\n",
    "            return (index.month - 1) / 11.0 - 0.5\n",
    "\n",
    "\n",
    "    class WeekOfYear(TimeFeature):\n",
    "        \"\"\"Week of year encoded as value between [-0.5, 0.5]\"\"\"\n",
    "\n",
    "        def __call__(self, index: pd.DatetimeIndex) -> np.ndarray:\n",
    "            return (index.isocalendar().week - 1) / 52.0 - 0.5\n",
    "\n",
    "    \n",
    "    features_by_offsets = {\n",
    "        offsets.YearEnd: [],\n",
    "        offsets.QuarterEnd: [MonthOfYear],\n",
    "        offsets.MonthEnd: [MonthOfYear],\n",
    "        offsets.Week: [DayOfMonth, WeekOfYear],\n",
    "        offsets.Day: [DayOfWeek, DayOfMonth, DayOfYear],\n",
    "        offsets.BusinessDay: [DayOfWeek, DayOfMonth, DayOfYear],\n",
    "        offsets.Hour: [HourOfDay, DayOfWeek, DayOfMonth, DayOfYear],\n",
    "        offsets.Minute: [\n",
    "            MinuteOfHour,\n",
    "            HourOfDay,\n",
    "            DayOfWeek,\n",
    "            DayOfMonth,\n",
    "            DayOfYear,\n",
    "        ],\n",
    "        offsets.Second: [\n",
    "            SecondOfMinute,\n",
    "            MinuteOfHour,\n",
    "            HourOfDay,\n",
    "            DayOfWeek,\n",
    "            DayOfMonth,\n",
    "            DayOfYear,\n",
    "        ],\n",
    "    }\n",
    "\n",
    "    offset = to_offset(freq_str)\n",
    "\n",
    "    for offset_type, feature_classes in features_by_offsets.items():\n",
    "        if isinstance(offset, offset_type):\n",
    "            return [cls() for cls in feature_classes]\n",
    "\n",
    "    supported_freq_msg = f\"\"\"\n",
    "    Unsupported frequency {freq_str}\n",
    "    The following frequencies are supported:\n",
    "        Y   - yearly\n",
    "            alias: A\n",
    "        M   - monthly\n",
    "        W   - weekly\n",
    "        D   - daily\n",
    "        B   - business days\n",
    "        H   - hourly\n",
    "        T   - minutely\n",
    "            alias: min\n",
    "        S   - secondly\n",
    "    \"\"\"\n",
    "    raise RuntimeError(supported_freq_msg)\n",
    "    \n",
    "def time_features(dates, freq='h'):\n",
    "    return np.vstack([feat(dates) for feat in time_features_from_frequency_str(freq)])"
   ]
  },
  {
   "cell_type": "code",
   "execution_count": 30,
   "id": "af7eca8d",
   "metadata": {
    "ExecuteTime": {
     "end_time": "2024-05-17T07:02:15.044461Z",
     "start_time": "2024-05-17T07:02:15.025926Z"
    }
   },
   "outputs": [],
   "source": [
    "def predict(task_args, predict_args):\n",
    "    # 参数配置\n",
    "    columns = task_args['columns']\n",
    "    target = task_args['target']\n",
    "    time_col = predict_args['time_col']\n",
    "    features = task_args['features']\n",
    "    freq = predict_args['freq']\n",
    "    x_true = predict_args['x_true']\n",
    "    scaler_path = predict_args['scaler_path']\n",
    "    model_path = predict_args['model_path']\n",
    "    pred_len = predict_args['pred_len']\n",
    "    label_len = predict_args['label_len']\n",
    "\n",
    "    # 读取归一化参数\n",
    "    x_scaler = joblib.load(scaler_path + \"/x_scaler.pkl\")\n",
    "    y_scaler = joblib.load(scaler_path + \"/y_scaler.pkl\")\n",
    "\n",
    "    # 加载模型\n",
    "    onnx_model = onnx.load(model_path)\n",
    "\n",
    "    # 将模型序列化为字符串\n",
    "    onnx_model_serialized = onnx_model.SerializeToString()\n",
    "\n",
    "    # 使用指定的提供者创建推理会话\n",
    "    sess_options = ort.SessionOptions()\n",
    "    providers = ['CPUExecutionProvider']\n",
    "    sess = ort.InferenceSession(onnx_model_serialized,\n",
    "                                sess_options,\n",
    "                                providers=providers)\n",
    "\n",
    "    # 参数名称\n",
    "    input_name1 = sess.get_inputs()[0].name\n",
    "    input_name2 = sess.get_inputs()[1].name\n",
    "    input_name3 = sess.get_inputs()[2].name\n",
    "    input_name4 = sess.get_inputs()[3].name\n",
    "    input_name5 = sess.get_inputs()[4].name\n",
    "    output_name = sess.get_outputs()[0].name\n",
    "\n",
    "    # 生成固定长度的时间范围\n",
    "    x_true = loader(data_path=None, data=x_true, time_col=time_col)  # 原始数据\n",
    "    x_true = x_true[columns]\n",
    "    timedelta = x_true.index[-1] - x_true.index[-2]  # 时间差\n",
    "    if label_len != 0:\n",
    "        y_stamp = pd.date_range(start=x_true.index[-label_len],\n",
    "                                end=x_true.index[-label_len] + timedelta *\n",
    "                                (label_len + pred_len - 1),\n",
    "                                freq=freq)\n",
    "    else:\n",
    "        y_stamp = pd.date_range(\n",
    "            start=x_true.index[-1] + timedelta * (label_len + 1),\n",
    "            end=x_true.index[-1] + timedelta * (label_len + pred_len),\n",
    "            freq=freq)\n",
    "    x_stamp = time_features(pd.to_datetime(x_true.index), freq=freq)  # x时间戳数据\n",
    "    x_stamp = x_stamp.transpose(1, 0)\n",
    "    y_time = y_stamp\n",
    "    y_stamp = time_features(y_stamp, freq=freq)  # y时间戳数据\n",
    "    y_stamp = y_stamp.transpose(1, 0)\n",
    "\n",
    "    # 转换类型\n",
    "    x_true[columns] = x_scaler.transform(x_true)  # 归一化\n",
    "    x_true = x_true.values.astype('float32')\n",
    "\n",
    "    # x_true\n",
    "    x_true = x_true[np.newaxis, :].astype(np.float32)\n",
    "    # x_stamp\n",
    "    x_stamp = x_stamp[np.newaxis, :].astype(np.float32)\n",
    "    # dec_inp\n",
    "    B, L, _ = x_true.shape\n",
    "    dec_inp = np.zeros((B, pred_len, len(target))).astype(np.float32)\n",
    "    # y_stamp\n",
    "    y_stamp = y_stamp[np.newaxis, :].astype(np.float32)\n",
    "    # attn_mask\n",
    "    mask_shape = [B, 1, L, L]\n",
    "    attn_mask = np.triu(np.ones(mask_shape, dtype=np.bool_), k=1)\n",
    "\n",
    "    # 任务分类\n",
    "    def forecasting_task(columns, target, features):\n",
    "        \"\"\"\n",
    "        features: [M, S, MS]; \n",
    "            M:multivariate predict multivariate, \n",
    "            S:univariate predict univariate, \n",
    "            MS:multivariate predict univariate'\n",
    "        \"\"\"\n",
    "        # 字典索引生成\n",
    "        col_dict = {}\n",
    "        for i, j in enumerate(columns):\n",
    "            col_dict[j] = i\n",
    "\n",
    "        if features == 'MS':\n",
    "            target = target[0]\n",
    "            if target in columns:\n",
    "                f_dim = col_dict[target]\n",
    "            else:\n",
    "                f_dim = 0\n",
    "        elif features == 'S':\n",
    "            f_dim = 0\n",
    "        else:\n",
    "            f_dim = 0\n",
    "        return f_dim\n",
    "\n",
    "    f_dim = forecasting_task(columns, target, features)\n",
    "\n",
    "    # 模型推理\n",
    "    if features == 'MS':\n",
    "        dec_inp = np.concatenate(\n",
    "            [x_true[:, -label_len:, f_dim:f_dim + 1], dec_inp], axis=1)\n",
    "        y_pred = sess.run(\n",
    "            [output_name], {\n",
    "                input_name1: x_true,\n",
    "                input_name2: x_stamp,\n",
    "                input_name3: dec_inp,\n",
    "                input_name4: y_stamp,\n",
    "                input_name5: attn_mask\n",
    "            })[0]\n",
    "        y_pred = y_scaler.inverse_transform(y_pred[-1, :, :])  # 反归一化\n",
    "        y_pred = y_pred[:, f_dim:f_dim + 1]\n",
    "    else:\n",
    "        dec_inp = np.concatenate([x_true[:, -label_len:, f_dim:], dec_inp],\n",
    "                                 axis=1)\n",
    "        y_pred = sess.run(\n",
    "            [output_name], {\n",
    "                input_name1: x_true,\n",
    "                input_name2: x_stamp,\n",
    "                input_name3: dec_inp,\n",
    "                input_name4: y_stamp,\n",
    "                input_name5: attn_mask\n",
    "            })[0]\n",
    "        y_pred = y_scaler.inverse_transform(y_pred[-1, :, :])  # 反归一化\n",
    "        y_pred = y_pred[:, f_dim:]\n",
    "\n",
    "    # 输出为dataframe\n",
    "    y_pred = pd.DataFrame(data=y_pred,\n",
    "                          index=y_time[-pred_len:],\n",
    "                          columns=target)\n",
    "\n",
    "    return y_pred"
   ]
  },
  {
   "cell_type": "code",
   "execution_count": 31,
   "id": "74d2757e",
   "metadata": {
    "ExecuteTime": {
     "end_time": "2024-05-17T07:02:16.087854Z",
     "start_time": "2024-05-17T07:02:15.974038Z"
    }
   },
   "outputs": [],
   "source": [
    "# 构造参数字典\n",
    "params6 = {\n",
    "    \"task_args\":{\n",
    "        \"columns\": ['load', 'temp'],\n",
    "        \"target\": ['load', 'temp'],\n",
    "        \"features\": 'M',\n",
    "    },\n",
    "    \"predict_args\": {\n",
    "        \"time_col\": 'time',\n",
    "        \"freq\": 'h',\n",
    "        \"model_path\": \"../outputs/models/transformer.onnx\",\n",
    "        \"x_true\": pd.read_csv(\"../outputs/datasets/energy.csv\").iloc[:6, :],\n",
    "        \"scaler_path\": '../outputs/scalers/Transformer',\n",
    "        'pred_len': 3, \n",
    "        \"label_len\": 3,\n",
    "    },\n",
    "}\n",
    "y_pred = predict(**params6)"
   ]
  },
  {
   "cell_type": "code",
   "execution_count": 32,
   "id": "ee9f4f75",
   "metadata": {
    "ExecuteTime": {
     "end_time": "2024-05-17T07:02:16.813933Z",
     "start_time": "2024-05-17T07:02:16.805602Z"
    }
   },
   "outputs": [
    {
     "data": {
      "text/html": [
       "<div>\n",
       "<style scoped>\n",
       "    .dataframe tbody tr th:only-of-type {\n",
       "        vertical-align: middle;\n",
       "    }\n",
       "\n",
       "    .dataframe tbody tr th {\n",
       "        vertical-align: top;\n",
       "    }\n",
       "\n",
       "    .dataframe thead th {\n",
       "        text-align: right;\n",
       "    }\n",
       "</style>\n",
       "<table border=\"1\" class=\"dataframe\">\n",
       "  <thead>\n",
       "    <tr style=\"text-align: right;\">\n",
       "      <th></th>\n",
       "      <th>load</th>\n",
       "      <th>temp</th>\n",
       "    </tr>\n",
       "  </thead>\n",
       "  <tbody>\n",
       "    <tr>\n",
       "      <th>2012-01-01 06:00:00</th>\n",
       "      <td>2641.291748</td>\n",
       "      <td>30.517683</td>\n",
       "    </tr>\n",
       "    <tr>\n",
       "      <th>2012-01-01 07:00:00</th>\n",
       "      <td>2955.476807</td>\n",
       "      <td>30.698471</td>\n",
       "    </tr>\n",
       "    <tr>\n",
       "      <th>2012-01-01 08:00:00</th>\n",
       "      <td>3226.948486</td>\n",
       "      <td>31.756971</td>\n",
       "    </tr>\n",
       "  </tbody>\n",
       "</table>\n",
       "</div>"
      ],
      "text/plain": [
       "                            load       temp\n",
       "2012-01-01 06:00:00  2641.291748  30.517683\n",
       "2012-01-01 07:00:00  2955.476807  30.698471\n",
       "2012-01-01 08:00:00  3226.948486  31.756971"
      ]
     },
     "execution_count": 32,
     "metadata": {},
     "output_type": "execute_result"
    }
   ],
   "source": [
    "y_pred"
   ]
  },
  {
   "cell_type": "code",
   "execution_count": null,
   "id": "7f0a787d",
   "metadata": {},
   "outputs": [],
   "source": []
  }
 ],
 "metadata": {
  "hide_input": false,
  "kernelspec": {
   "display_name": "Python 3 (ipykernel)",
   "language": "python",
   "name": "python3"
  },
  "language_info": {
   "codemirror_mode": {
    "name": "ipython",
    "version": 3
   },
   "file_extension": ".py",
   "mimetype": "text/x-python",
   "name": "python",
   "nbconvert_exporter": "python",
   "pygments_lexer": "ipython3",
   "version": "3.11.5"
  },
  "toc": {
   "base_numbering": 1,
   "nav_menu": {},
   "number_sections": true,
   "sideBar": true,
   "skip_h1_title": false,
   "title_cell": "Table of Contents",
   "title_sidebar": "Contents",
   "toc_cell": false,
   "toc_position": {
    "height": "calc(100% - 180px)",
    "left": "10px",
    "top": "150px",
    "width": "182.323px"
   },
   "toc_section_display": true,
   "toc_window_display": true
  },
  "varInspector": {
   "cols": {
    "lenName": 16,
    "lenType": 16,
    "lenVar": 40
   },
   "kernels_config": {
    "python": {
     "delete_cmd_postfix": "",
     "delete_cmd_prefix": "del ",
     "library": "var_list.py",
     "varRefreshCmd": "print(var_dic_list())"
    },
    "r": {
     "delete_cmd_postfix": ") ",
     "delete_cmd_prefix": "rm(",
     "library": "var_list.r",
     "varRefreshCmd": "cat(var_dic_list()) "
    }
   },
   "types_to_exclude": [
    "module",
    "function",
    "builtin_function_or_method",
    "instance",
    "_Feature"
   ],
   "window_display": false
  }
 },
 "nbformat": 4,
 "nbformat_minor": 5
}
