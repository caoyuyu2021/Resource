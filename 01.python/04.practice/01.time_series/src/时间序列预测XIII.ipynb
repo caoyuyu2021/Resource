{
 "cells": [
  {
   "cell_type": "markdown",
   "id": "d3b9e7b1",
   "metadata": {},
   "source": [
    "# 时间序列预测基本问题"
   ]
  },
  {
   "cell_type": "markdown",
   "id": "b06d61e3",
   "metadata": {},
   "source": [
    "## 时间特征编码"
   ]
  },
  {
   "cell_type": "markdown",
   "id": "1f7b9c8d",
   "metadata": {},
   "source": [
    "timeenc = 0 if args.embed!=‘timeF’ else 1，如果timeenc为1，将考虑更多可能的周期信息。timeenc只是Dataloader实现时为了区别不同的时间编码方式做的一个标记，不同的timeenc会加载出不同的timestamp。"
   ]
  },
  {
   "cell_type": "markdown",
   "id": "dfc5cf3f",
   "metadata": {},
   "source": [
    "## 参数配置表"
   ]
  },
  {
   "cell_type": "markdown",
   "id": "3ce43bcb",
   "metadata": {},
   "source": [
    "### basic config\n",
    "parser.add_argument('--task_name', type=str, required=True, default='long_term_forecast',\n",
    "                    help='task name, options:[long_term_forecast, short_term_forecast, imputation, classification, anomaly_detection]')\n",
    "                    \n",
    "parser.add_argument('--is_training', type=int, required=True, default=1, help='status')\n",
    "\n",
    "parser.add_argument('--model_id', type=str, required=True, default='test', help='model id')\n",
    "\n",
    "parser.add_argument('--model', type=str, required=True, default='Autoformer',\n",
    "                    help='model name, options: [Autoformer, Transformer, TimesNet]')\n",
    "\n",
    "### data loader\n",
    "parser.add_argument('--data', type=str, required=True, default='ETTm1', help='dataset type')\n",
    "\n",
    "parser.add_argument('--root_path', type=str, default='./data/ETT/', help='root path of the data file')\n",
    "\n",
    "parser.add_argument('--data_path', type=str, default='ETTh1.csv', help='data file')\n",
    "\n",
    "parser.add_argument('--features', type=str, default='M',\n",
    "                    help='forecasting task, options:[M, S, MS]; M:multivariate predict multivariate, S:univariate predict univariate, MS:multivariate predict univariate')\n",
    "                    \n",
    "parser.add_argument('--target', type=str, default='OT', help='target feature in S or MS task')\n",
    "\n",
    "parser.add_argument('--freq', type=str, default='h',\n",
    "                    help='freq for time features encoding, options:[s:secondly, t:minutely, h:hourly, d:daily, b:business days, w:weekly, m:monthly], you can also use more detailed freq like 15min or 3h')\n",
    "                    \n",
    "parser.add_argument('--checkpoints', type=str, default='./checkpoints/', help='location of model checkpoints')\n",
    "\n",
    "### forecasting task\n",
    "parser.add_argument('--seq_len', type=int, default=96, help='input sequence length')\n",
    "\n",
    "parser.add_argument('--label_len', type=int, default=48, help='start token length')\n",
    "\n",
    "parser.add_argument('--pred_len', type=int, default=96, help='prediction sequence length')\n",
    "\n",
    "parser.add_argument('--seasonal_patterns', type=str, default='Monthly', help='subset for M4')\n",
    "\n",
    "parser.add_argument('--inverse', action='store_true', help='inverse output data', default=False)\n",
    "\n",
    "### inputation task\n",
    "parser.add_argument('--mask_rate', type=float, default=0.25, help='mask ratio')\n",
    "\n",
    "### anomaly detection task\n",
    "parser.add_argument('--anomaly_ratio', type=float, default=0.25, help='prior anomaly ratio (%)')\n",
    "\n",
    "### model define\n",
    "parser.add_argument('--top_k', type=int, default=5, help='for TimesBlock')\n",
    "\n",
    "parser.add_argument('--num_kernels', type=int, default=6, help='for Inception')\n",
    "\n",
    "parser.add_argument('--enc_in', type=int, default=7, help='encoder input size')\n",
    "\n",
    "parser.add_argument('--dec_in', type=int, default=7, help='decoder input size')\n",
    "\n",
    "parser.add_argument('--c_out', type=int, default=7, help='output size')\n",
    "\n",
    "parser.add_argument('--d_model', type=int, default=512, help='dimension of model')\n",
    "\n",
    "parser.add_argument('--n_heads', type=int, default=8, help='num of heads')\n",
    "\n",
    "parser.add_argument('--e_layers', type=int, default=2, help='num of encoder layers')\n",
    "\n",
    "parser.add_argument('--d_layers', type=int, default=1, help='num of decoder layers')\n",
    "\n",
    "parser.add_argument('--d_ff', type=int, default=2048, help='dimension of fcn')\n",
    "\n",
    "parser.add_argument('--moving_avg', type=int, default=25, help='window size of moving average')\n",
    "\n",
    "parser.add_argument('--factor', type=int, default=1, help='attn factor')\n",
    "\n",
    "parser.add_argument('--distil', action='store_false',\n",
    "                    help='whether to use distilling in encoder, using this argument means not using distilling',\n",
    "                    default=True)\n",
    "                    \n",
    "parser.add_argument('--dropout', type=float, default=0.1, help='dropout')\n",
    "\n",
    "parser.add_argument('--embed', type=str, default='timeF',\n",
    "                    help='time features encoding, options:[timeF, fixed, learned]')\n",
    "                    \n",
    "parser.add_argument('--activation', type=str, default='gelu', help='activation')\n",
    "\n",
    "parser.add_argument('--output_attention', action='store_true', help='whether to output attention in ecoder')\n",
    "\n",
    "### optimization\n",
    "parser.add_argument('--num_workers', type=int, default=10, help='data loader num workers')\n",
    "\n",
    "parser.add_argument('--itr', type=int, default=1, help='experiments times')\n",
    "\n",
    "parser.add_argument('--train_epochs', type=int, default=10, help='train epochs')\n",
    "\n",
    "parser.add_argument('--batch_size', type=int, default=32, help='batch size of train input data')\n",
    "\n",
    "parser.add_argument('--patience', type=int, default=3, help='early stopping patience')\n",
    "\n",
    "parser.add_argument('--learning_rate', type=float, default=0.0001, help='optimizer learning rate')\n",
    "\n",
    "parser.add_argument('--des', type=str, default='test', help='exp description')\n",
    "\n",
    "parser.add_argument('--loss', type=str, default='MSE', help='loss function')\n",
    "\n",
    "parser.add_argument('--lradj', type=str, default='type1', help='adjust learning rate')\n",
    "\n",
    "parser.add_argument('--use_amp', action='store_true', help='use automatic mixed precision training', default=False)\n",
    "\n",
    "### GPU\n",
    "parser.add_argument('--use_gpu', type=bool, default=True, help='use gpu')\n",
    "\n",
    "parser.add_argument('--gpu', type=int, default=0, help='gpu')\n",
    "\n",
    "parser.add_argument('--use_multi_gpu', action='store_true', help='use multiple gpus', default=False)\n",
    "\n",
    "parser.add_argument('--devices', type=str, default='0,1,2,3', help='device ids of multile gpus')\n",
    "\n",
    "### de-stationary projector params\n",
    "parser.add_argument('--p_hidden_dims', type=int, nargs='+', default=[128, 128],\n",
    "                    help='hidden layer dimensions of projector (List)')\n",
    "                    \n",
    "parser.add_argument('--p_hidden_layers', type=int, default=2, help='number of hidden layers in projector')"
   ]
  },
  {
   "cell_type": "code",
   "execution_count": null,
   "id": "a2956b43",
   "metadata": {},
   "outputs": [],
   "source": []
  }
 ],
 "metadata": {
  "hide_input": false,
  "kernelspec": {
   "display_name": "Python 3 (ipykernel)",
   "language": "python",
   "name": "python3"
  },
  "language_info": {
   "codemirror_mode": {
    "name": "ipython",
    "version": 3
   },
   "file_extension": ".py",
   "mimetype": "text/x-python",
   "name": "python",
   "nbconvert_exporter": "python",
   "pygments_lexer": "ipython3",
   "version": "3.11.5"
  },
  "toc": {
   "base_numbering": 1,
   "nav_menu": {},
   "number_sections": true,
   "sideBar": true,
   "skip_h1_title": false,
   "title_cell": "Table of Contents",
   "title_sidebar": "Contents",
   "toc_cell": false,
   "toc_position": {},
   "toc_section_display": true,
   "toc_window_display": false
  },
  "varInspector": {
   "cols": {
    "lenName": 16,
    "lenType": 16,
    "lenVar": 40
   },
   "kernels_config": {
    "python": {
     "delete_cmd_postfix": "",
     "delete_cmd_prefix": "del ",
     "library": "var_list.py",
     "varRefreshCmd": "print(var_dic_list())"
    },
    "r": {
     "delete_cmd_postfix": ") ",
     "delete_cmd_prefix": "rm(",
     "library": "var_list.r",
     "varRefreshCmd": "cat(var_dic_list()) "
    }
   },
   "types_to_exclude": [
    "module",
    "function",
    "builtin_function_or_method",
    "instance",
    "_Feature"
   ],
   "window_display": false
  }
 },
 "nbformat": 4,
 "nbformat_minor": 5
}
