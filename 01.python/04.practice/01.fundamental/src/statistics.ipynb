{
 "cells": [
  {
   "cell_type": "markdown",
   "id": "fb80d7a3",
   "metadata": {},
   "source": [
    "# 相似性方法"
   ]
  },
  {
   "cell_type": "markdown",
   "id": "ce0873b2",
   "metadata": {},
   "source": [
    "## 欧几里德距离"
   ]
  },
  {
   "cell_type": "markdown",
   "id": "906eb9a3",
   "metadata": {},
   "source": []
  },
  {
   "cell_type": "markdown",
   "id": "c4446e44",
   "metadata": {},
   "source": [
    "## 余弦相似度"
   ]
  },
  {
   "cell_type": "code",
   "execution_count": 1,
   "id": "f94a23e6",
   "metadata": {
    "ExecuteTime": {
     "end_time": "2024-05-11T07:46:21.894828Z",
     "start_time": "2024-05-11T07:46:21.876177Z"
    }
   },
   "outputs": [
    {
     "data": {
      "text/plain": [
       "array([[1.        , 0.66666667, 0.81649658, 0.33333333, 0.57735027],\n",
       "       [0.66666667, 1.        , 0.40824829, 0.66666667, 0.57735027],\n",
       "       [0.81649658, 0.40824829, 1.        , 0.        , 0.70710678],\n",
       "       [0.33333333, 0.66666667, 0.        , 1.        , 0.57735027],\n",
       "       [0.57735027, 0.57735027, 0.70710678, 0.57735027, 1.        ]])"
      ]
     },
     "execution_count": 1,
     "metadata": {},
     "output_type": "execute_result"
    }
   ],
   "source": [
    "from sklearn.metrics.pairwise import cosine_similarity\n",
    "df = [\n",
    "    [1, 0, 1, 1, 0],\n",
    "    [1, 0, 0, 1, 1],\n",
    "    [1, 0, 1, 0, 0],\n",
    "    [0, 1, 0, 1, 1],\n",
    "    [1, 1, 1, 0, 1],\n",
    "]\n",
    "r = cosine_similarity(df,df)\n",
    "r"
   ]
  },
  {
   "cell_type": "code",
   "execution_count": null,
   "id": "58e731ba",
   "metadata": {},
   "outputs": [],
   "source": []
  }
 ],
 "metadata": {
  "hide_input": false,
  "kernelspec": {
   "display_name": "Python 3 (ipykernel)",
   "language": "python",
   "name": "python3"
  },
  "language_info": {
   "codemirror_mode": {
    "name": "ipython",
    "version": 3
   },
   "file_extension": ".py",
   "mimetype": "text/x-python",
   "name": "python",
   "nbconvert_exporter": "python",
   "pygments_lexer": "ipython3",
   "version": "3.11.5"
  },
  "toc": {
   "base_numbering": 1,
   "nav_menu": {},
   "number_sections": true,
   "sideBar": true,
   "skip_h1_title": false,
   "title_cell": "Table of Contents",
   "title_sidebar": "Contents",
   "toc_cell": false,
   "toc_position": {
    "height": "calc(100% - 180px)",
    "left": "10px",
    "top": "150px",
    "width": "230.667px"
   },
   "toc_section_display": true,
   "toc_window_display": true
  },
  "varInspector": {
   "cols": {
    "lenName": 16,
    "lenType": 16,
    "lenVar": 40
   },
   "kernels_config": {
    "python": {
     "delete_cmd_postfix": "",
     "delete_cmd_prefix": "del ",
     "library": "var_list.py",
     "varRefreshCmd": "print(var_dic_list())"
    },
    "r": {
     "delete_cmd_postfix": ") ",
     "delete_cmd_prefix": "rm(",
     "library": "var_list.r",
     "varRefreshCmd": "cat(var_dic_list()) "
    }
   },
   "types_to_exclude": [
    "module",
    "function",
    "builtin_function_or_method",
    "instance",
    "_Feature"
   ],
   "window_display": false
  }
 },
 "nbformat": 4,
 "nbformat_minor": 5
}
