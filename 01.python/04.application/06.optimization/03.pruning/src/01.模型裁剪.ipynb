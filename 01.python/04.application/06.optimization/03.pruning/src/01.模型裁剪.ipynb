{
 "cells": [
  {
   "cell_type": "markdown",
   "id": "90a9f857-ae64-4b0f-a097-7f912836ed11",
   "metadata": {},
   "source": [
    "# 模型裁剪"
   ]
  },
  {
   "cell_type": "code",
   "execution_count": 5,
   "id": "b8448916-6b6c-4c02-a3f5-5b52f20bb261",
   "metadata": {
    "execution": {
     "iopub.execute_input": "2024-12-29T07:18:08.865163Z",
     "iopub.status.busy": "2024-12-29T07:18:08.864166Z",
     "iopub.status.idle": "2024-12-29T07:18:08.879624Z",
     "shell.execute_reply": "2024-12-29T07:18:08.878624Z",
     "shell.execute_reply.started": "2024-12-29T07:18:08.865163Z"
    }
   },
   "outputs": [],
   "source": [
    "import torch\n",
    "import torch.nn as nn\n",
    "import torch.nn.utils.prune as prune\n",
    "import torch.optim as optim"
   ]
  },
  {
   "cell_type": "markdown",
   "id": "78f11662-1712-48a4-89c6-e4947df7d1a3",
   "metadata": {},
   "source": [
    "深度学习模型裁剪（Pruning）是一种优化技术，通过减少模型中的参数来降低其计算复杂度和存储需求，同时尽可能保持模型性能。以下是常见的模型裁剪方法："
   ]
  },
  {
   "cell_type": "markdown",
   "id": "e15bf431-5a67-484a-9051-a9485029ac80",
   "metadata": {},
   "source": [
    "裁剪场景的总结\n",
    "使用时机\t|适用场景\t|优点\t|缺点\n",
    "---|---|---|---|\n",
    "训练前\t|已有明确的裁剪策略或稀疏结构需求\t|提前减少模型复杂度，节省训练资源\t|可能会影响模型初始性能\n",
    "训练过程中\t|动态稀疏性、逐步裁剪或基于训练过程调整裁剪策略\t|灵活动态调整稀疏性，更容易控制模型性能\t|增加了训练的复杂性\n",
    "训练后\t|对预训练模型进行压缩优化\t|不影响训练过程，可直接应用到已训练好的模型\t|可能需要微调以恢复裁剪导致的性能损失"
   ]
  },
  {
   "cell_type": "markdown",
   "id": "124e4b98-2d6b-457f-8a82-e7fe313e0938",
   "metadata": {},
   "source": [
    "最佳实践\n",
    "- 如果目标是优化推理性能：建议在训练后使用裁剪，结合微调恢复性能。\n",
    "- 如果目标是节省训练资源：可以在训练前裁剪，结合稀疏性训练。\n",
    "- 如果目标是动态调整稀疏性：选择训练中裁剪，结合逐步裁剪方法（如 iterative pruning）。"
   ]
  },
  {
   "cell_type": "markdown",
   "id": "c4f61e05-479a-49ce-84dd-ece7aee577ff",
   "metadata": {},
   "source": [
    "## 权重级裁剪（Weight Pruning）"
   ]
  },
  {
   "cell_type": "markdown",
   "id": "7b1498ee-9b66-4252-93b2-c177a3a9b843",
   "metadata": {},
   "source": [
    "定义：直接将权重矩阵中的小权重（接近零的权重）设置为零。   \n",
    "方法：\n",
    "- 全局裁剪：全局地选择小于某个阈值的权重进行裁剪。\n",
    "- 分层裁剪：针对每一层分别设置裁剪阈值，确保每层的重要性均衡。\n",
    "  \n",
    "优点：灵活，易实现。  \n",
    "缺点：可能导致稀疏矩阵，无法直接提高硬件加速效果。"
   ]
  },
  {
   "cell_type": "code",
   "execution_count": 2,
   "id": "ecb2e2d5-5df9-48e9-bdfd-fdbf0bc70854",
   "metadata": {
    "execution": {
     "iopub.execute_input": "2024-12-29T07:10:06.400996Z",
     "iopub.status.busy": "2024-12-29T07:10:06.399999Z",
     "iopub.status.idle": "2024-12-29T07:10:06.520056Z",
     "shell.execute_reply": "2024-12-29T07:10:06.519156Z",
     "shell.execute_reply.started": "2024-12-29T07:10:06.399999Z"
    },
    "scrolled": true
   },
   "outputs": [
    {
     "name": "stdout",
     "output_type": "stream",
     "text": [
      "Original model: SimpleModel(\n",
      "  (fc1): Linear(in_features=10, out_features=20, bias=True)\n",
      "  (fc2): Linear(in_features=20, out_features=10, bias=True)\n",
      ")\n",
      "Model after pruning: SimpleModel(\n",
      "  (fc1): Linear(in_features=10, out_features=20, bias=True)\n",
      "  (fc2): Linear(in_features=20, out_features=10, bias=True)\n",
      ")\n",
      "Pruned weight matrix:\n",
      " tensor([[-0.1199,  0.0000, -0.1932,  0.0000,  0.0000,  0.1765,  0.1008,  0.1464,\n",
      "          0.1849, -0.2613],\n",
      "        [-0.1732, -0.2893,  0.0000,  0.0000, -0.1734, -0.0000, -0.1881, -0.0983,\n",
      "         -0.2661, -0.0984],\n",
      "        [ 0.2228, -0.2964, -0.1743, -0.0000, -0.2952,  0.3142, -0.2945,  0.2322,\n",
      "         -0.1544,  0.1497],\n",
      "        [ 0.1685,  0.2131, -0.2918, -0.2657, -0.2932,  0.2701,  0.2129, -0.1973,\n",
      "          0.1372, -0.0000],\n",
      "        [ 0.1423,  0.2068,  0.1207, -0.0000,  0.0000,  0.0000,  0.1879, -0.0000,\n",
      "          0.2540,  0.0000],\n",
      "        [ 0.1718,  0.2132,  0.1636, -0.2630,  0.3034, -0.1297, -0.1317, -0.2207,\n",
      "          0.2798, -0.1621],\n",
      "        [ 0.2039,  0.1831, -0.0000,  0.2253, -0.2046,  0.2999,  0.3123, -0.0000,\n",
      "         -0.1756, -0.0000],\n",
      "        [ 0.0000, -0.0000,  0.0000, -0.0000,  0.2013,  0.2596, -0.2679,  0.0000,\n",
      "         -0.3043, -0.3074],\n",
      "        [ 0.1327, -0.2678, -0.2847, -0.2867, -0.0000,  0.2674,  0.1702, -0.0962,\n",
      "          0.2496, -0.0000],\n",
      "        [-0.1409, -0.0000, -0.0000, -0.1174, -0.3138,  0.1902, -0.3020,  0.2871,\n",
      "          0.0000, -0.2921],\n",
      "        [ 0.0000, -0.1869, -0.2921,  0.0000, -0.1222,  0.2696,  0.1185,  0.0000,\n",
      "         -0.1801, -0.2025],\n",
      "        [-0.0000, -0.2135, -0.2055, -0.2446,  0.0000,  0.1094,  0.0000,  0.1378,\n",
      "         -0.1153, -0.1697],\n",
      "        [-0.0000,  0.0000,  0.2145,  0.1020,  0.1255, -0.2345, -0.2582, -0.1363,\n",
      "         -0.1007,  0.2826],\n",
      "        [ 0.2093,  0.1100,  0.1859, -0.1236, -0.1130, -0.2196,  0.0000,  0.1159,\n",
      "          0.0954, -0.1940],\n",
      "        [-0.0000,  0.0000,  0.1343, -0.0000,  0.1726, -0.1974, -0.0976, -0.0000,\n",
      "          0.0000, -0.0000],\n",
      "        [ 0.0000,  0.1837,  0.0000, -0.0000,  0.0000,  0.1488, -0.1470,  0.1508,\n",
      "         -0.1818,  0.2612],\n",
      "        [ 0.2138, -0.1216,  0.1430,  0.1524, -0.0000, -0.2615, -0.0000, -0.0000,\n",
      "         -0.1943, -0.1916],\n",
      "        [-0.2215, -0.0000,  0.0000,  0.1351, -0.2992,  0.1282, -0.2256, -0.1547,\n",
      "          0.2028, -0.0000],\n",
      "        [ 0.2906, -0.1597,  0.1560,  0.0000,  0.0000, -0.0000,  0.0000,  0.0000,\n",
      "         -0.1705, -0.0000],\n",
      "        [ 0.1630, -0.1384,  0.1104,  0.0000, -0.0000, -0.2152,  0.0000,  0.2942,\n",
      "         -0.2815, -0.2781]], grad_fn=<MulBackward0>)\n",
      "After removing pruning: Parameter containing:\n",
      "tensor([[-0.1199,  0.0000, -0.1932,  0.0000,  0.0000,  0.1765,  0.1008,  0.1464,\n",
      "          0.1849, -0.2613],\n",
      "        [-0.1732, -0.2893,  0.0000,  0.0000, -0.1734, -0.0000, -0.1881, -0.0983,\n",
      "         -0.2661, -0.0984],\n",
      "        [ 0.2228, -0.2964, -0.1743, -0.0000, -0.2952,  0.3142, -0.2945,  0.2322,\n",
      "         -0.1544,  0.1497],\n",
      "        [ 0.1685,  0.2131, -0.2918, -0.2657, -0.2932,  0.2701,  0.2129, -0.1973,\n",
      "          0.1372, -0.0000],\n",
      "        [ 0.1423,  0.2068,  0.1207, -0.0000,  0.0000,  0.0000,  0.1879, -0.0000,\n",
      "          0.2540,  0.0000],\n",
      "        [ 0.1718,  0.2132,  0.1636, -0.2630,  0.3034, -0.1297, -0.1317, -0.2207,\n",
      "          0.2798, -0.1621],\n",
      "        [ 0.2039,  0.1831, -0.0000,  0.2253, -0.2046,  0.2999,  0.3123, -0.0000,\n",
      "         -0.1756, -0.0000],\n",
      "        [ 0.0000, -0.0000,  0.0000, -0.0000,  0.2013,  0.2596, -0.2679,  0.0000,\n",
      "         -0.3043, -0.3074],\n",
      "        [ 0.1327, -0.2678, -0.2847, -0.2867, -0.0000,  0.2674,  0.1702, -0.0962,\n",
      "          0.2496, -0.0000],\n",
      "        [-0.1409, -0.0000, -0.0000, -0.1174, -0.3138,  0.1902, -0.3020,  0.2871,\n",
      "          0.0000, -0.2921],\n",
      "        [ 0.0000, -0.1869, -0.2921,  0.0000, -0.1222,  0.2696,  0.1185,  0.0000,\n",
      "         -0.1801, -0.2025],\n",
      "        [-0.0000, -0.2135, -0.2055, -0.2446,  0.0000,  0.1094,  0.0000,  0.1378,\n",
      "         -0.1153, -0.1697],\n",
      "        [-0.0000,  0.0000,  0.2145,  0.1020,  0.1255, -0.2345, -0.2582, -0.1363,\n",
      "         -0.1007,  0.2826],\n",
      "        [ 0.2093,  0.1100,  0.1859, -0.1236, -0.1130, -0.2196,  0.0000,  0.1159,\n",
      "          0.0954, -0.1940],\n",
      "        [-0.0000,  0.0000,  0.1343, -0.0000,  0.1726, -0.1974, -0.0976, -0.0000,\n",
      "          0.0000, -0.0000],\n",
      "        [ 0.0000,  0.1837,  0.0000, -0.0000,  0.0000,  0.1488, -0.1470,  0.1508,\n",
      "         -0.1818,  0.2612],\n",
      "        [ 0.2138, -0.1216,  0.1430,  0.1524, -0.0000, -0.2615, -0.0000, -0.0000,\n",
      "         -0.1943, -0.1916],\n",
      "        [-0.2215, -0.0000,  0.0000,  0.1351, -0.2992,  0.1282, -0.2256, -0.1547,\n",
      "          0.2028, -0.0000],\n",
      "        [ 0.2906, -0.1597,  0.1560,  0.0000,  0.0000, -0.0000,  0.0000,  0.0000,\n",
      "         -0.1705, -0.0000],\n",
      "        [ 0.1630, -0.1384,  0.1104,  0.0000, -0.0000, -0.2152,  0.0000,  0.2942,\n",
      "         -0.2815, -0.2781]], requires_grad=True)\n"
     ]
    }
   ],
   "source": [
    "# 定义一个简单模型\n",
    "class SimpleModel(nn.Module):\n",
    "    def __init__(self):\n",
    "        super(SimpleModel, self).__init__()\n",
    "        self.fc1 = nn.Linear(10, 20)\n",
    "        self.fc2 = nn.Linear(20, 10)\n",
    "    \n",
    "    def forward(self, x):\n",
    "        x = self.fc1(x)\n",
    "        x = self.fc2(x)\n",
    "        return x\n",
    "\n",
    "model = SimpleModel()\n",
    "print(\"Original model:\", model)\n",
    "\n",
    "# 对第一个全连接层的权重进行裁剪\n",
    "prune.l1_unstructured(model.fc1, name='weight', amount=0.3)  # 裁剪30%的权重\n",
    "print(\"Model after pruning:\", model)\n",
    "\n",
    "# 查看裁剪后的权重\n",
    "print(\"Pruned weight matrix:\\n\", model.fc1.weight)\n",
    "\n",
    "# 移除裁剪后产生的掩码（永久化裁剪效果）\n",
    "prune.remove(model.fc1, 'weight')\n",
    "print(\"After removing pruning:\", model.fc1.weight)"
   ]
  },
  {
   "cell_type": "markdown",
   "id": "66fb99c2-3e24-46c3-852c-840960eaec8e",
   "metadata": {},
   "source": [
    "## 结构化裁剪（Structured Pruning）"
   ]
  },
  {
   "cell_type": "markdown",
   "id": "e3efa974-277d-4bee-b4c9-85c4137c89d6",
   "metadata": {},
   "source": [
    "定义：以更大的结构为单位进行裁剪，例如神经元、卷积核或通道。  \n",
    "方法：\n",
    "- 通道裁剪（Channel Pruning）：去掉冗余的卷积核或通道。\n",
    "- 滤波器裁剪（Filter Pruning）：裁剪不重要的卷积核。\n",
    "- 块裁剪（Block Pruning）：裁剪掉连续的参数块。\n",
    "\n",
    "优点：对硬件友好，能直接减少计算量和存储需求。  \n",
    "缺点：可能会丢失更多信息，调参复杂。"
   ]
  },
  {
   "cell_type": "code",
   "execution_count": 3,
   "id": "b8806641-aede-42ce-ac94-1fc6340b0201",
   "metadata": {
    "execution": {
     "iopub.execute_input": "2024-12-29T07:14:08.692589Z",
     "iopub.status.busy": "2024-12-29T07:14:08.691724Z",
     "iopub.status.idle": "2024-12-29T07:14:08.734624Z",
     "shell.execute_reply": "2024-12-29T07:14:08.732677Z",
     "shell.execute_reply.started": "2024-12-29T07:14:08.692589Z"
    },
    "scrolled": true
   },
   "outputs": [
    {
     "name": "stdout",
     "output_type": "stream",
     "text": [
      "Pruned convolutional layer:\n",
      " tensor([[[[ 0.0818,  0.0693,  0.1905],\n",
      "          [ 0.1192,  0.0742, -0.1314],\n",
      "          [ 0.1149, -0.0935,  0.1843]],\n",
      "\n",
      "         [[ 0.0183, -0.0910, -0.0321],\n",
      "          [-0.0871, -0.1826, -0.1558],\n",
      "          [ 0.1444,  0.1415, -0.1535]],\n",
      "\n",
      "         [[ 0.0281, -0.1639, -0.1781],\n",
      "          [-0.1289, -0.0663, -0.1559],\n",
      "          [-0.1092,  0.0808, -0.0514]]],\n",
      "\n",
      "\n",
      "        [[[-0.0000, -0.0000,  0.0000],\n",
      "          [-0.0000,  0.0000, -0.0000],\n",
      "          [-0.0000,  0.0000,  0.0000]],\n",
      "\n",
      "         [[ 0.0000, -0.0000, -0.0000],\n",
      "          [-0.0000,  0.0000,  0.0000],\n",
      "          [ 0.0000,  0.0000, -0.0000]],\n",
      "\n",
      "         [[ 0.0000, -0.0000, -0.0000],\n",
      "          [ 0.0000,  0.0000,  0.0000],\n",
      "          [ 0.0000, -0.0000, -0.0000]]],\n",
      "\n",
      "\n",
      "        [[[-0.1238, -0.1531,  0.1732],\n",
      "          [-0.0641, -0.0635, -0.1834],\n",
      "          [ 0.0961,  0.1230, -0.0719]],\n",
      "\n",
      "         [[ 0.1923, -0.0091,  0.1423],\n",
      "          [ 0.0225, -0.1631,  0.1666],\n",
      "          [-0.0049, -0.1813,  0.0107]],\n",
      "\n",
      "         [[ 0.0563,  0.0149,  0.0327],\n",
      "          [ 0.0235,  0.0927, -0.0774],\n",
      "          [-0.1694, -0.0885, -0.0216]]],\n",
      "\n",
      "\n",
      "        [[[-0.0000,  0.0000, -0.0000],\n",
      "          [-0.0000, -0.0000,  0.0000],\n",
      "          [ 0.0000,  0.0000, -0.0000]],\n",
      "\n",
      "         [[ 0.0000,  0.0000,  0.0000],\n",
      "          [ 0.0000,  0.0000, -0.0000],\n",
      "          [-0.0000,  0.0000,  0.0000]],\n",
      "\n",
      "         [[ 0.0000,  0.0000,  0.0000],\n",
      "          [ 0.0000,  0.0000, -0.0000],\n",
      "          [-0.0000,  0.0000, -0.0000]]],\n",
      "\n",
      "\n",
      "        [[[ 0.0000, -0.0000, -0.0000],\n",
      "          [ 0.0000, -0.0000,  0.0000],\n",
      "          [-0.0000, -0.0000, -0.0000]],\n",
      "\n",
      "         [[-0.0000,  0.0000, -0.0000],\n",
      "          [ 0.0000,  0.0000, -0.0000],\n",
      "          [-0.0000, -0.0000,  0.0000]],\n",
      "\n",
      "         [[ 0.0000,  0.0000,  0.0000],\n",
      "          [ 0.0000,  0.0000,  0.0000],\n",
      "          [ 0.0000, -0.0000,  0.0000]]],\n",
      "\n",
      "\n",
      "        [[[ 0.1739, -0.1353,  0.0409],\n",
      "          [ 0.1587,  0.1579,  0.0647],\n",
      "          [ 0.0394, -0.1813, -0.0437]],\n",
      "\n",
      "         [[-0.1335,  0.1726, -0.0808],\n",
      "          [-0.1257,  0.1626, -0.0277],\n",
      "          [-0.0454,  0.0931,  0.0082]],\n",
      "\n",
      "         [[ 0.1796,  0.1816,  0.0597],\n",
      "          [ 0.1524,  0.0152,  0.0235],\n",
      "          [ 0.0338, -0.0257,  0.0017]]]], grad_fn=<MulBackward0>)\n"
     ]
    }
   ],
   "source": [
    "# 对卷积层的特定维度进行结构化裁剪\n",
    "conv_layer = nn.Conv2d(3, 6, 3)\n",
    "\n",
    "# 裁剪整个通道（Structured Pruning）\n",
    "prune.ln_structured(conv_layer, name='weight', amount=0.5, n=2, dim=0)  # 保留50%的通道\n",
    "print(\"Pruned convolutional layer:\\n\", conv_layer.weight)"
   ]
  },
  {
   "cell_type": "markdown",
   "id": "a5b3d0ac-63fa-45d9-ac5f-59e28fe1d80e",
   "metadata": {},
   "source": [
    "## 基于正则化的裁剪"
   ]
  },
  {
   "cell_type": "markdown",
   "id": "efa02a34-c6f7-49a6-97a8-e26941fb888f",
   "metadata": {},
   "source": [
    "定义：通过在训练过程中引入额外的正则化项，使部分参数自然趋于零。  \n",
    "常见方法：\n",
    "- L1正则化：添加 L1 范数约束，让不重要的参数趋向零。\n",
    "- Group Lasso：针对分组的结构化裁剪。\n",
    "  \n",
    "优点：无需显式裁剪步骤，参数自然变稀疏。  \n",
    "缺点：训练过程复杂，可能增加训练时间。"
   ]
  },
  {
   "cell_type": "code",
   "execution_count": 7,
   "id": "cdd3e8ce-931f-40c9-8ec2-d1c03922f9e7",
   "metadata": {
    "execution": {
     "iopub.execute_input": "2024-12-29T07:18:27.386920Z",
     "iopub.status.busy": "2024-12-29T07:18:27.384933Z",
     "iopub.status.idle": "2024-12-29T07:18:27.494090Z",
     "shell.execute_reply": "2024-12-29T07:18:27.492898Z",
     "shell.execute_reply.started": "2024-12-29T07:18:27.386920Z"
    },
    "scrolled": true
   },
   "outputs": [
    {
     "name": "stdout",
     "output_type": "stream",
     "text": [
      "tensor(1.2798, grad_fn=<AddBackward0>)\n",
      "tensor(1.1328, grad_fn=<AddBackward0>)\n",
      "tensor(1.1576, grad_fn=<AddBackward0>)\n",
      "tensor(1.2264, grad_fn=<AddBackward0>)\n",
      "tensor(1.0927, grad_fn=<AddBackward0>)\n",
      "tensor(1.0248, grad_fn=<AddBackward0>)\n",
      "tensor(1.0389, grad_fn=<AddBackward0>)\n",
      "tensor(1.1160, grad_fn=<AddBackward0>)\n",
      "tensor(1.3103, grad_fn=<AddBackward0>)\n",
      "tensor(1.1671, grad_fn=<AddBackward0>)\n",
      "tensor(1.1784, grad_fn=<AddBackward0>)\n",
      "tensor(1.1616, grad_fn=<AddBackward0>)\n",
      "tensor(1.1381, grad_fn=<AddBackward0>)\n",
      "tensor(1.1945, grad_fn=<AddBackward0>)\n",
      "tensor(1.1590, grad_fn=<AddBackward0>)\n",
      "tensor(1.1085, grad_fn=<AddBackward0>)\n",
      "tensor(1.0255, grad_fn=<AddBackward0>)\n",
      "tensor(1.2537, grad_fn=<AddBackward0>)\n",
      "tensor(1.0417, grad_fn=<AddBackward0>)\n",
      "tensor(1.0126, grad_fn=<AddBackward0>)\n",
      "tensor(1.1518, grad_fn=<AddBackward0>)\n",
      "tensor(1.1390, grad_fn=<AddBackward0>)\n",
      "tensor(0.9792, grad_fn=<AddBackward0>)\n",
      "tensor(1.0338, grad_fn=<AddBackward0>)\n",
      "tensor(1.0508, grad_fn=<AddBackward0>)\n",
      "tensor(1.1590, grad_fn=<AddBackward0>)\n",
      "tensor(1.1030, grad_fn=<AddBackward0>)\n",
      "tensor(1.1593, grad_fn=<AddBackward0>)\n",
      "tensor(1.1369, grad_fn=<AddBackward0>)\n",
      "tensor(1.0349, grad_fn=<AddBackward0>)\n",
      "tensor(1.0675, grad_fn=<AddBackward0>)\n",
      "tensor(1.0500, grad_fn=<AddBackward0>)\n",
      "tensor(1.0245, grad_fn=<AddBackward0>)\n",
      "tensor(1.1250, grad_fn=<AddBackward0>)\n",
      "tensor(1.1412, grad_fn=<AddBackward0>)\n",
      "tensor(1.1226, grad_fn=<AddBackward0>)\n",
      "tensor(1.1310, grad_fn=<AddBackward0>)\n",
      "tensor(1.0619, grad_fn=<AddBackward0>)\n",
      "tensor(1.0628, grad_fn=<AddBackward0>)\n",
      "tensor(0.9657, grad_fn=<AddBackward0>)\n",
      "tensor(1.0551, grad_fn=<AddBackward0>)\n",
      "tensor(1.1418, grad_fn=<AddBackward0>)\n",
      "tensor(1.0794, grad_fn=<AddBackward0>)\n",
      "tensor(1.2338, grad_fn=<AddBackward0>)\n",
      "tensor(1.0152, grad_fn=<AddBackward0>)\n",
      "tensor(0.9983, grad_fn=<AddBackward0>)\n",
      "tensor(1.0737, grad_fn=<AddBackward0>)\n",
      "tensor(1.1496, grad_fn=<AddBackward0>)\n",
      "tensor(0.9565, grad_fn=<AddBackward0>)\n",
      "tensor(1.0234, grad_fn=<AddBackward0>)\n"
     ]
    }
   ],
   "source": [
    "# 定义模型\n",
    "model = SimpleModel()\n",
    "\n",
    "# 定义优化器和L1正则化\n",
    "optimizer = optim.SGD(model.parameters(), lr=0.01, weight_decay=1e-5)  # L2正则化\n",
    "l1_lambda = 1e-4  # L1正则化系数\n",
    "\n",
    "# 训练循环\n",
    "for epoch in range(5):\n",
    "    for batch in range(10):  # 模拟数据训练\n",
    "        inputs = torch.randn(32, 10)\n",
    "        targets = torch.randn(32, 10)\n",
    "        \n",
    "        # 前向传播\n",
    "        outputs = model(inputs)\n",
    "        loss = torch.nn.functional.mse_loss(outputs, targets)\n",
    "        \n",
    "        # 添加L1正则化\n",
    "        l1_norm = sum(p.abs().sum() for p in model.parameters())\n",
    "        loss += l1_lambda * l1_norm\n",
    "        print(loss)\n",
    "        \n",
    "        # 反向传播\n",
    "        optimizer.zero_grad()\n",
    "        loss.backward()\n",
    "        optimizer.step()"
   ]
  },
  {
   "cell_type": "markdown",
   "id": "0ab9d660-42db-41ba-a507-c0c3934d2250",
   "metadata": {},
   "source": [
    "## 动态裁剪（Dynamic Pruning）"
   ]
  },
  {
   "cell_type": "markdown",
   "id": "93e43352-bbac-4758-a046-893435bcebc0",
   "metadata": {},
   "source": [
    "定义：在推理过程中动态调整裁剪策略。  \n",
    "方法：\n",
    "- 根据输入数据动态关闭部分网络通路。\n",
    "- 使用门控机制（如可学习的Gate）。\n",
    "  \n",
    "优点：灵活适应不同输入，能进一步减少实时计算量。  \n",
    "缺点：实现复杂，可能导致额外的动态计算开销。"
   ]
  },
  {
   "cell_type": "code",
   "execution_count": 8,
   "id": "ead26b8d-99cb-4633-a5dc-9f179a18ea23",
   "metadata": {
    "execution": {
     "iopub.execute_input": "2024-12-29T07:22:52.581481Z",
     "iopub.status.busy": "2024-12-29T07:22:52.580481Z",
     "iopub.status.idle": "2024-12-29T07:22:52.594480Z",
     "shell.execute_reply": "2024-12-29T07:22:52.593583Z",
     "shell.execute_reply.started": "2024-12-29T07:22:52.581481Z"
    }
   },
   "outputs": [],
   "source": [
    "# 自定义裁剪机制\n",
    "def dynamic_pruning(module, input, output):\n",
    "    with torch.no_grad():\n",
    "        module.weight.data[module.weight.data.abs() < 0.1] = 0  # 动态清零小权重\n",
    "\n",
    "# 动态裁剪的实现\n",
    "model = SimpleModel()\n",
    "model.fc1.register_forward_hook(dynamic_pruning)  # 添加动态裁剪到前向传播钩子\n",
    "\n",
    "# 模拟输入\n",
    "inputs = torch.randn(32, 10)\n",
    "outputs = model(inputs)  # 在推理过程中动态裁剪权重"
   ]
  },
  {
   "cell_type": "markdown",
   "id": "8fdf2b9f-e7c0-45cc-b898-5d31ef781ec5",
   "metadata": {},
   "source": [
    "# 梯度裁剪"
   ]
  },
  {
   "cell_type": "markdown",
   "id": "614b3f2a-f191-4627-8b7c-404256c50c35",
   "metadata": {},
   "source": [
    "在深度学习中，尤其是 RNN 或 LSTM 等递归模型中，梯度爆炸会导致数值不稳定，损失无法正常下降。梯度裁剪通过限制梯度的大小，帮助模型在训练过程中更稳定地优化。"
   ]
  },
  {
   "cell_type": "markdown",
   "id": "b0d433c7-555b-464a-8772-43a61b182574",
   "metadata": {},
   "source": [
    "## 基于梯度范数的裁剪"
   ]
  },
  {
   "cell_type": "markdown",
   "id": "2a2c84ca-acb2-4e6a-9c16-74b256d7a876",
   "metadata": {},
   "source": [
    "torch.nn.utils.clip_grad_norm_ 的主要功能是限制模型参数的梯度范数。如果梯度的总范数超过设定的阈值 clip_value，就会将其缩放到阈值范围内。"
   ]
  },
  {
   "cell_type": "code",
   "execution_count": 9,
   "id": "95dda301-0ebc-41ac-8a2f-7a66eae943a9",
   "metadata": {
    "execution": {
     "iopub.execute_input": "2024-12-29T07:26:29.016018Z",
     "iopub.status.busy": "2024-12-29T07:26:29.016018Z",
     "iopub.status.idle": "2024-12-29T07:26:29.058659Z",
     "shell.execute_reply": "2024-12-29T07:26:29.057660Z",
     "shell.execute_reply.started": "2024-12-29T07:26:29.016018Z"
    }
   },
   "outputs": [],
   "source": [
    "# 定义简单模型\n",
    "model = nn.Linear(10, 1)\n",
    "\n",
    "# 定义优化器\n",
    "optimizer = optim.SGD(model.parameters(), lr=0.01)\n",
    "\n",
    "# 模拟训练循环\n",
    "for epoch in range(5):\n",
    "    inputs = torch.randn(32, 10)\n",
    "    targets = torch.randn(32, 1)\n",
    "    \n",
    "    # 前向传播\n",
    "    outputs = model(inputs)\n",
    "    loss = torch.nn.functional.mse_loss(outputs, targets)\n",
    "    \n",
    "    # 反向传播\n",
    "    optimizer.zero_grad()\n",
    "    loss.backward()\n",
    "    \n",
    "    # 梯度裁剪\n",
    "    torch.nn.utils.clip_grad_norm_(model.parameters(), max_norm=1.0)  # 限制梯度的L2范数不超过1.0\n",
    "    # torch.nn.utils.clip_grad_value_(model.parameters(), clip_value=0.5)  # 限制梯度值在 [-0.5, 0.5] 之间\n",
    "    \n",
    "    # 参数更新\n",
    "    optimizer.step()"
   ]
  },
  {
   "cell_type": "markdown",
   "id": "e0ac42ea-3c07-43ca-a903-33168bc7ba83",
   "metadata": {},
   "source": [
    "## 基于梯度值的裁剪"
   ]
  },
  {
   "cell_type": "markdown",
   "id": "0e75be1b-8032-4e34-99e6-510ae7ceb4a5",
   "metadata": {},
   "source": [
    "直接裁剪梯度的值，使其限制在特定范围。"
   ]
  },
  {
   "cell_type": "code",
   "execution_count": 10,
   "id": "284a8abf-d858-4f05-b033-b5cae433dc3a",
   "metadata": {
    "execution": {
     "iopub.execute_input": "2024-12-29T07:28:36.084140Z",
     "iopub.status.busy": "2024-12-29T07:28:36.083615Z",
     "iopub.status.idle": "2024-12-29T07:28:36.104127Z",
     "shell.execute_reply": "2024-12-29T07:28:36.103226Z",
     "shell.execute_reply.started": "2024-12-29T07:28:36.084140Z"
    }
   },
   "outputs": [],
   "source": [
    "# 定义简单模型\n",
    "model = nn.Linear(10, 1)\n",
    "\n",
    "# 定义优化器\n",
    "optimizer = optim.SGD(model.parameters(), lr=0.01)\n",
    "\n",
    "# 模拟训练循环\n",
    "for epoch in range(5):\n",
    "    inputs = torch.randn(32, 10)\n",
    "    targets = torch.randn(32, 1)\n",
    "    \n",
    "    # 前向传播\n",
    "    outputs = model(inputs)\n",
    "    loss = torch.nn.functional.mse_loss(outputs, targets)\n",
    "    \n",
    "    # 反向传播\n",
    "    optimizer.zero_grad()\n",
    "    loss.backward()\n",
    "    \n",
    "    # 梯度裁剪\n",
    "    torch.nn.utils.clip_grad_value_(model.parameters(), clip_value=0.5)  # 限制梯度值在 [-0.5, 0.5] 之间\n",
    "    \n",
    "    # 参数更新\n",
    "    optimizer.step()"
   ]
  },
  {
   "cell_type": "markdown",
   "id": "fef60600-a0de-4e86-9ad9-005a988c393d",
   "metadata": {},
   "source": [
    "## 动态梯度裁剪 "
   ]
  },
  {
   "attachments": {
    "dfd2f785-141d-4d82-8c6b-40d9ce637869.png": {
     "image/png": "[encoded data removed]"
    }
   },
   "cell_type": "markdown",
   "id": "dce05a40-98b3-4ea0-b090-2cf0a507858a",
   "metadata": {},
   "source": [
    "![image.png](attachment:dfd2f785-141d-4d82-8c6b-40d9ce637869.png)"
   ]
  },
  {
   "cell_type": "code",
   "execution_count": 11,
   "id": "94390588-8090-4dd9-89de-d94c45711fd1",
   "metadata": {
    "execution": {
     "iopub.execute_input": "2024-12-29T07:36:10.235998Z",
     "iopub.status.busy": "2024-12-29T07:36:10.234953Z",
     "iopub.status.idle": "2024-12-29T07:36:10.252077Z",
     "shell.execute_reply": "2024-12-29T07:36:10.251078Z",
     "shell.execute_reply.started": "2024-12-29T07:36:10.235998Z"
    }
   },
   "outputs": [],
   "source": [
    "def adaptive_gradient_clipping(parameters, clip_factor=0.01):\n",
    "    for param in parameters:\n",
    "        if param.grad is not None:\n",
    "            grad_norm = param.grad.data.norm(2)\n",
    "            param_norm = param.data.norm(2)\n",
    "            clip_value = clip_factor * param_norm\n",
    "            if grad_norm > clip_value:\n",
    "                param.grad.data.mul_(clip_value / grad_norm)"
   ]
  },
  {
   "cell_type": "code",
   "execution_count": 12,
   "id": "1c156d2f-5427-47c0-924a-b70a30ca6828",
   "metadata": {
    "execution": {
     "iopub.execute_input": "2024-12-29T07:36:15.090345Z",
     "iopub.status.busy": "2024-12-29T07:36:15.090345Z",
     "iopub.status.idle": "2024-12-29T07:36:15.107262Z",
     "shell.execute_reply": "2024-12-29T07:36:15.106377Z",
     "shell.execute_reply.started": "2024-12-29T07:36:15.090345Z"
    }
   },
   "outputs": [],
   "source": [
    "# 定义简单模型\n",
    "model = nn.Linear(10, 1)\n",
    "\n",
    "# 定义优化器\n",
    "optimizer = optim.SGD(model.parameters(), lr=0.01)\n",
    "\n",
    "# 模拟训练循环\n",
    "for epoch in range(5):\n",
    "    inputs = torch.randn(32, 10)\n",
    "    targets = torch.randn(32, 1)\n",
    "    \n",
    "    # 前向传播\n",
    "    outputs = model(inputs)\n",
    "    loss = torch.nn.functional.mse_loss(outputs, targets)\n",
    "    \n",
    "    # 反向传播\n",
    "    optimizer.zero_grad()\n",
    "    loss.backward()\n",
    "    \n",
    "    # 动态梯度裁剪\n",
    "    adaptive_gradient_clipping(model.parameters(), clip_factor=0.01)\n",
    "    \n",
    "    # 参数更新\n",
    "    optimizer.step()"
   ]
  },
  {
   "cell_type": "markdown",
   "id": "8a6af13f-2a56-45e4-adf7-c58ff0c5be18",
   "metadata": {},
   "source": [
    "# 模型裁剪和梯度裁剪区别"
   ]
  },
  {
   "cell_type": "markdown",
   "id": "7c2fdf9d-b0c3-48eb-b33a-8b895737d5e2",
   "metadata": {},
   "source": [
    "梯度裁剪\t|模型裁剪\n",
    "---|---\n",
    "作用于梯度：在反向传播过程中，对梯度进行裁剪，防止梯度爆炸或不稳定。\t|作用于权重或结构：直接减少模型权重或结构中的参数，优化推理效率。\n",
    "目标：改善训练的稳定性。\t|目标：减少模型复杂度和计算量。\n",
    "方法：如 clip_grad_norm_ 或 clip_grad_value_。\t|如权重裁剪、通道裁剪、滤波器裁剪等。\n",
    "不影响推理阶段。\t|影响推理阶段，通过减少模型规模加速推理。"
   ]
  },
  {
   "cell_type": "code",
   "execution_count": null,
   "id": "ca7b48c5-6f14-4a79-9ad2-e69cb4152342",
   "metadata": {},
   "outputs": [],
   "source": []
  }
 ],
 "metadata": {
  "kernelspec": {
   "display_name": "Python 3 (ipykernel)",
   "language": "python",
   "name": "python3"
  },
  "language_info": {
   "codemirror_mode": {
    "name": "ipython",
    "version": 3
   },
   "file_extension": ".py",
   "mimetype": "text/x-python",
   "name": "python",
   "nbconvert_exporter": "python",
   "pygments_lexer": "ipython3",
   "version": "3.9.18"
  }
 },
 "nbformat": 4,
 "nbformat_minor": 5
}
