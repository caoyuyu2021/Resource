{
 "cells": [
  {
   "cell_type": "markdown",
   "id": "1e71b747",
   "metadata": {},
   "source": [
    "# MPI 简介"
   ]
  },
  {
   "cell_type": "markdown",
   "id": "a8f83278",
   "metadata": {},
   "source": [
    "Message Passing Interface（MPI）是个经典的并行计算工具，由于它的“年龄”比较老，新一代程序员很少听说过这个“老古董”，也经常忽视其重要性。但随着人工智能大模型浪潮的到来，MPI 或者基于 MPI 思想的各类通讯库再次回到人们的视线内，因为大模型必须使用并行计算框架进行跨机通信。比如，大模型训练框架 DeepSpeed 就使用了 mpi4py 进行多机通信。\n",
    "\n",
    "MPI 的发展可以追溯到20世纪80年代末和90年代初，彼时已经开始出现了超级计算机，主要用于科学和工程计算，包括气象模拟、核能研究、分子建模、流体动力学等领域。超级计算机主要是一组高性能计算机组成的集群，服务科学和工程计算问题，使得程序得以在多台计算机上并行运行。MPI 出现之前，多个研究小组和机构开始独立开发并推广自己的通信库，但这导致了互操作性和可移植性的问题。因此，社区迫切需要一种标准化的方法来编写并行应用程序。\n",
    "\n",
    "1992年，图灵奖得主 Jack Dongarra 联合几位学者提出了并行计算第一个草案：MPI1。第一个标准版本 MPI 1.0 最终于 1994 年发布。之后，MPI-2、MPI-3 接连发布，来自学术界和工业界的多位专家共同参与修订，不断根据最新的并行计算需求修改 MPI 标准。\n",
    "\n",
    "MPI 是一个标准，不是一个编译器或者编程语言，也不是一个具体的实现或者产品。像 Dask、Ray 这样的框架是一个具体的实现，而 MPI 不一样，MPI 是一个标准，不同厂商在这个标准下可以有自己的实现。“标准”的意思是说，MPI 定义了一些标准的函数或方法，所有的厂商都需要遵循；“实现”是说，不同软硬件厂商可以根据标准去实现底层通信。比如，如果实现一个发送数据的需求，MPI 标准中定义了 MPI_Send 方法，所有厂商应遵循这个标准。\n",
    "\n",
    "MPI 标准定义了：\n",
    "\n",
    "- 每个函数的函数名、参数列表；\n",
    "\n",
    "- 每个函数的语义，或者说每个函数的预期功能，又或者说每个函数能做什么、不能做什么。\n",
    "\n",
    "在具体实现上，现在常用的有 Open MPI 、MPICH、Intel MPI、Microsoft MPI 和 NVIDIA HPC-X 等。由于 MPI 是标准，因此，同样一份代码，可以被 OpenMPI 编译，也可以被 Intel MPI 编译。每个实现是由特定的厂商或开源社区开发的，因此使用起来也有一些差异。\n",
    "\n",
    "如果进行多机并行，机器之间需要有高速互联网络。如果你的集群已经部署了这些硬件，并安装了某个 MPI 实现，MPI 可以充分利用这些高速网络的高带宽、低延迟的特性。这些网络大部分拥有超过 100Gbps 的带宽，但其价格也非常昂贵，通常在面向高性能计算的场景上才会配置这些网络设备。数据中心经常部署的普通万兆网络，带宽在 10Gbps 量级。在万兆网络上也可以使用 MPI 也会有一定加速效果。MPI 也可以在单机上运行，即：利用单台节点上的多个计算核心。"
   ]
  },
  {
   "cell_type": "code",
   "execution_count": null,
   "id": "f780e4a4",
   "metadata": {},
   "outputs": [],
   "source": []
  }
 ],
 "metadata": {
  "hide_input": false,
  "kernelspec": {
   "display_name": "Python 3 (ipykernel)",
   "language": "python",
   "name": "python3"
  },
  "language_info": {
   "codemirror_mode": {
    "name": "ipython",
    "version": 3
   },
   "file_extension": ".py",
   "mimetype": "text/x-python",
   "name": "python",
   "nbconvert_exporter": "python",
   "pygments_lexer": "ipython3",
   "version": "3.11.5"
  },
  "toc": {
   "base_numbering": 1,
   "nav_menu": {},
   "number_sections": true,
   "sideBar": true,
   "skip_h1_title": false,
   "title_cell": "Table of Contents",
   "title_sidebar": "Contents",
   "toc_cell": false,
   "toc_position": {},
   "toc_section_display": true,
   "toc_window_display": false
  },
  "varInspector": {
   "cols": {
    "lenName": 16,
    "lenType": 16,
    "lenVar": 40
   },
   "kernels_config": {
    "python": {
     "delete_cmd_postfix": "",
     "delete_cmd_prefix": "del ",
     "library": "var_list.py",
     "varRefreshCmd": "print(var_dic_list())"
    },
    "r": {
     "delete_cmd_postfix": ") ",
     "delete_cmd_prefix": "rm(",
     "library": "var_list.r",
     "varRefreshCmd": "cat(var_dic_list()) "
    }
   },
   "types_to_exclude": [
    "module",
    "function",
    "builtin_function_or_method",
    "instance",
    "_Feature"
   ],
   "window_display": false
  }
 },
 "nbformat": 4,
 "nbformat_minor": 5
}
