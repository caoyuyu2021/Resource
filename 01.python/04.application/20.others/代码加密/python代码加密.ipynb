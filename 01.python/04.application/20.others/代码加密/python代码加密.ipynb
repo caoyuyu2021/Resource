{
 "cells": [
  {
   "cell_type": "markdown",
   "id": "73a9ec14-b30a-4d4d-93cc-78dd16f25b64",
   "metadata": {},
   "source": [
    "# 基本介绍"
   ]
  },
  {
   "cell_type": "markdown",
   "id": "fcee6f85-8807-4625-b091-85fb315de565",
   "metadata": {},
   "source": [
    "python代码加密方法有很多，这里使用Cython，它的基本原理是：首先将 .py文件 编译为 .c 文件，再将 .c 文件编译为 .so(Unix) 或 .pyd(Windows)，其不仅可以提升性能，还能够让代码难以破解。最让人心动的是，其生成的.so(或.pyd)文件与.py文件一样，能够直接被python文件调用。"
   ]
  },
  {
   "cell_type": "markdown",
   "id": "59900027-d1ff-4c21-b45a-b37080603336",
   "metadata": {},
   "source": [
    "## cpython介绍"
   ]
  },
  {
   "cell_type": "markdown",
   "id": "5f7c8b22-1938-4b26-991c-be27a78a30ee",
   "metadata": {},
   "source": [
    "CPython是特指C语言实现的Python，就是原汁原味的Python。\n",
    "\n",
    "之所以使用CPython这个词，是因为Python还有一些其它的实现，比如Jython，就是Java版的Python，还有烧脑的PyPy，使用Python再把Python实现了一遍。\n",
    "\n",
    "我们从Python官方网站下载并安装好Python后，我们就直接获得了一个官方版本的解释器：CPython。这个解释器是用C语言开发的，所以叫CPython。在命令行下运行python就是启动CPython解释器。\n",
    "\n",
    "CPython是使用最广的Python解释器。教程的所有代码也都在CPython下执行。"
   ]
  },
  {
   "cell_type": "markdown",
   "id": "f310ff0b-cb4f-4df4-ba45-3b4fa9483199",
   "metadata": {},
   "source": [
    "## pyd文件"
   ]
  },
  {
   "cell_type": "markdown",
   "id": "b35083a2-7653-4114-aa9f-6e62ea420ada",
   "metadata": {},
   "source": [
    " .pyd 文件是由非 Python，其它编程语言编写 (或直接把 .py 文件转换成 .c 中间文件) 编译生成的 Python 扩展模块，是类似 .so .dll 动态链接库的一种 Python 文件。（当然，python代码也可以打包为pyd）\n",
    "\n",
    "为啥要打包成pyd文件呢？因为pyd文件可以更好的防止反编译，只能反汇编。如果你直接打包将python代码直接打包为exe，是可以直接反编译源代码的。还有可以将c++，c等编译为pyd给python调用。"
   ]
  },
  {
   "cell_type": "markdown",
   "id": "c4689169-9b4e-439b-a65b-cd1555200311",
   "metadata": {},
   "source": [
    "## 环境要求"
   ]
  },
  {
   "cell_type": "markdown",
   "id": "fde4e9ec-9b44-4e98-9675-18e022e1fa0b",
   "metadata": {},
   "source": [
    "windows基础环境准备:\n",
    "\n",
    "pip install cython\n",
    "\n",
    "安装 visual studio 2019"
   ]
  },
  {
   "cell_type": "markdown",
   "id": "b4be1b25-aab1-4541-b131-ed4ffae5351f",
   "metadata": {},
   "source": [
    "# 操作步骤"
   ]
  },
  {
   "cell_type": "markdown",
   "id": "482a1e44-3fab-4bc0-bdd0-bffa0c8e57df",
   "metadata": {},
   "source": [
    "## 编写自己的代码"
   ]
  },
  {
   "cell_type": "code",
   "execution_count": 1,
   "id": "dfed9c98-7843-4934-874d-94fc388e2ef2",
   "metadata": {
    "execution": {
     "iopub.execute_input": "2024-10-11T11:33:32.429069Z",
     "iopub.status.busy": "2024-10-11T11:33:32.427010Z",
     "iopub.status.idle": "2024-10-11T11:33:32.451884Z",
     "shell.execute_reply": "2024-10-11T11:33:32.449981Z",
     "shell.execute_reply.started": "2024-10-11T11:33:32.429069Z"
    }
   },
   "outputs": [],
   "source": [
    "class TEST:\n",
    "    def hello():\n",
    "        print('Hello CSDN!')"
   ]
  },
  {
   "cell_type": "markdown",
   "id": "e0c6143a-902d-48f1-bb92-9c66e6630891",
   "metadata": {},
   "source": [
    "注意编写完成后保存成TEST.py文件。"
   ]
  },
  {
   "cell_type": "markdown",
   "id": "3baa798d-d446-42ac-bbae-c8fa48651844",
   "metadata": {},
   "source": [
    "## 制作setup文件"
   ]
  },
  {
   "cell_type": "code",
   "execution_count": 2,
   "id": "e94bad77-d5fe-49fa-a51f-508c096f23ae",
   "metadata": {
    "execution": {
     "iopub.execute_input": "2024-10-11T11:34:14.491365Z",
     "iopub.status.busy": "2024-10-11T11:34:14.491365Z",
     "iopub.status.idle": "2024-10-11T11:34:14.513723Z",
     "shell.execute_reply": "2024-10-11T11:34:14.512723Z",
     "shell.execute_reply.started": "2024-10-11T11:34:14.491365Z"
    }
   },
   "outputs": [],
   "source": [
    "# from distutils.core import setup\n",
    "# from Cython.Build import cythonize\n",
    "# setup(ext_modules = cythonize([\"TEST.py\"]))"
   ]
  },
  {
   "cell_type": "markdown",
   "id": "dc44d49d-9b09-4adf-8fcb-54da06579cea",
   "metadata": {},
   "source": [
    "注意编写完成后保存成setup.py文件，与TEST.py放到同一个文件夹中。"
   ]
  },
  {
   "cell_type": "markdown",
   "id": "3aaa4c20-0d66-40c0-8973-83ca036abd69",
   "metadata": {},
   "source": [
    "## 生成.so(.pyd)文件"
   ]
  },
  {
   "cell_type": "markdown",
   "id": "a3a0f69e-f0b4-4b11-a6b8-df4179c4f54b",
   "metadata": {},
   "source": [
    "在cmd窗口中先进入文件夹，再输入以下代码："
   ]
  },
  {
   "cell_type": "code",
   "execution_count": 3,
   "id": "ea80bb23-832a-40a0-ad74-8256668cded6",
   "metadata": {
    "execution": {
     "iopub.execute_input": "2024-10-11T11:35:15.812941Z",
     "iopub.status.busy": "2024-10-11T11:35:15.811934Z",
     "iopub.status.idle": "2024-10-11T11:35:15.831640Z",
     "shell.execute_reply": "2024-10-11T11:35:15.829387Z",
     "shell.execute_reply.started": "2024-10-11T11:35:15.812941Z"
    }
   },
   "outputs": [],
   "source": [
    "# python setup.py build_ext"
   ]
  },
  {
   "attachments": {
    "6b519390-36cd-4fe5-82b3-6caec8d801d7.png": {
     "image/png": "[encoded data removed]"
    }
   },
   "cell_type": "markdown",
   "id": "01323a5d-2779-4bc5-ae68-6ce0222345e6",
   "metadata": {},
   "source": [
    "则会生成以下文件：\n",
    "![image.png](attachment:6b519390-36cd-4fe5-82b3-6caec8d801d7.png)"
   ]
  },
  {
   "cell_type": "markdown",
   "id": "363f4bbc-d747-4eea-9565-f14a4d7ffd98",
   "metadata": {},
   "source": [
    "在bulid/lib.win-amd64-3.9中TEST.cp39-win_amd64.pyd即为加密后的文件。"
   ]
  },
  {
   "cell_type": "markdown",
   "id": "8efb437f-3dbf-4145-9f4d-c76f43e05886",
   "metadata": {},
   "source": [
    "## 使用.so(.pyd)文件"
   ]
  },
  {
   "cell_type": "markdown",
   "id": "3bd574a2-8867-4611-8b3a-abb1402fd1eb",
   "metadata": {},
   "source": [
    "进入TEST.cp39-win_amd64.pyd文件所在目录，执行以下python代码，可直接调用TEST类。"
   ]
  },
  {
   "cell_type": "code",
   "execution_count": 4,
   "id": "ddc8babe-fd93-4c5a-b06b-a29db10bb498",
   "metadata": {
    "execution": {
     "iopub.execute_input": "2024-10-11T11:36:46.738047Z",
     "iopub.status.busy": "2024-10-11T11:36:46.737046Z",
     "iopub.status.idle": "2024-10-11T11:36:46.744344Z",
     "shell.execute_reply": "2024-10-11T11:36:46.743311Z",
     "shell.execute_reply.started": "2024-10-11T11:36:46.738047Z"
    }
   },
   "outputs": [],
   "source": [
    "# from TEST import TEST\n",
    "# TEST.hello()"
   ]
  },
  {
   "cell_type": "code",
   "execution_count": null,
   "id": "747a1a7e-e4bc-477e-b3aa-96db452c689b",
   "metadata": {},
   "outputs": [],
   "source": []
  }
 ],
 "metadata": {
  "kernelspec": {
   "display_name": "Python 3 (ipykernel)",
   "language": "python",
   "name": "python3"
  },
  "language_info": {
   "codemirror_mode": {
    "name": "ipython",
    "version": 3
   },
   "file_extension": ".py",
   "mimetype": "text/x-python",
   "name": "python",
   "nbconvert_exporter": "python",
   "pygments_lexer": "ipython3",
   "version": "3.9.18"
  }
 },
 "nbformat": 4,
 "nbformat_minor": 5
}
