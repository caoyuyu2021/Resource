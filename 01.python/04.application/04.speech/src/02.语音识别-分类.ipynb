{
 "cells": [
  {
   "cell_type": "markdown",
   "id": "95fa2458-a463-4539-9783-2349725b8c50",
   "metadata": {},
   "source": [
    "# 基于TimesNet的说话人识别算法"
   ]
  },
  {
   "cell_type": "code",
   "execution_count": 1,
   "id": "f35715dc-b5ab-4852-97c4-8d28b5c390f0",
   "metadata": {
    "execution": {
     "iopub.execute_input": "2024-12-17T10:21:51.680377Z",
     "iopub.status.busy": "2024-12-17T10:21:51.679378Z",
     "iopub.status.idle": "2024-12-17T10:21:59.340417Z",
     "shell.execute_reply": "2024-12-17T10:21:59.339174Z",
     "shell.execute_reply.started": "2024-12-17T10:21:51.680377Z"
    }
   },
   "outputs": [],
   "source": [
    "import pandas as pd\n",
    "import numpy as np\n",
    "from pandas import DataFrame\n",
    "from datetime import timedelta\n",
    "from numpy import ndarray\n",
    "from typing import Union, List, Dict\n",
    "from sklearn.preprocessing import MinMaxScaler\n",
    "import os\n",
    "import re\n",
    "import torch\n",
    "import torchaudio\n",
    "from torchaudio.transforms import MFCC\n",
    "import torch.nn as nn\n",
    "import torch.optim as optim\n",
    "from sklearn.model_selection import train_test_split\n",
    "from torch.utils.data import TensorDataset, DataLoader, Dataset\n",
    "import torch.nn.functional as F\n",
    "from tqdm import tqdm  # 打印进度条\n",
    "import math\n",
    "import matplotlib.pyplot as plt\n",
    "import seaborn as sns\n",
    "from typing import List\n",
    "from pandas.tseries import offsets\n",
    "from pandas.tseries.frequencies import to_offset\n",
    "from sklearn.metrics import r2_score, mean_squared_error\n",
    "import joblib\n",
    "import warnings\n",
    "\n",
    "warnings.filterwarnings(\"ignore\")\n",
    "plt.rcParams['font.sans-serif'] = ['SimHei']  # 显示中文标签\n",
    "plt.rcParams['axes.unicode_minus'] = False"
   ]
  },
  {
   "cell_type": "markdown",
   "id": "f7a34393-9f78-4c4a-8eca-b90503cfde59",
   "metadata": {},
   "source": [
    "## 基础知识"
   ]
  },
  {
   "cell_type": "markdown",
   "id": "f6fd535b-0e99-421b-996a-85fca6db54f4",
   "metadata": {},
   "source": [
    "### 梅尔频率倒谱系数"
   ]
  },
  {
   "cell_type": "markdown",
   "id": "98ec90e6-ea17-4fb4-a818-0414b8ffa71f",
   "metadata": {},
   "source": [
    "MFCC（Mel Frequency Cepstral Coefficients，梅尔频率倒谱系数）是语音信号处理中常用的一种特征提取方法，广泛应用于语音识别、音频处理等领域。MFCC的目的是将音频信号转换为一个更适合机器学习模型处理的特征表示。\n",
    "\n",
    "MFCC的基本步骤：\n",
    "- 分帧（Framing）：将音频信号分割成多个小的时间片段，每个片段通常为20-40毫秒。这是因为语音信号在短时间内可以近似为平稳信号。\n",
    "\n",
    "- 窗口加权（Windowing）：对每一帧信号应用窗函数（通常是汉明窗或汉宁窗），以减小帧之间的边界效应。\n",
    "\n",
    "- 快速傅里叶变换（FFT）：对每一帧信号进行FFT变换，得到信号的频谱表示。\n",
    "\n",
    "- Mel频率滤波器组：将频谱经过Mel频率尺度的滤波器组进行滤波。Mel尺度是一种对人耳听觉特性的模拟，它在低频段具有更高的分辨率，而在高频段分辨率较低。\n",
    "\n",
    "- 对数变换：对滤波器输出的能量进行对数变换，这一操作是为了模拟人耳对声音强度的感知。\n",
    "\n",
    "- 离散余弦变换（DCT）：对经过Mel频率滤波后的能量谱进行离散余弦变换，最终得到MFCC系数。"
   ]
  },
  {
   "cell_type": "markdown",
   "id": "b65acbd8-ce82-49e3-95ff-987779e8c283",
   "metadata": {},
   "source": [
    "### MFCC"
   ]
  },
  {
   "cell_type": "raw",
   "id": "45517c0c-9c40-4b2f-90bb-307e2df57a3e",
   "metadata": {},
   "source": [
    "class MFCC(torch.nn.Module):\n",
    "    def __init__(\n",
    "        self,\n",
    "        sample_rate: int,\n",
    "        n_mfcc: int = 13,\n",
    "        melkwargs: Optional[dict] = None,\n",
    "    ) -> None:"
   ]
  },
  {
   "cell_type": "markdown",
   "id": "e768a36b-8fc5-4cae-9dd5-f2034f56579c",
   "metadata": {},
   "source": [
    "构造函数：MFCC:\n",
    "- sample_rate（int）：音频的采样率。通常音频文件的采样率为16000、22050、44100等，这会影响特征提取的精度和速度。\n",
    "\n",
    "- n_mfcc（int）：要提取的MFCC系数的数量。通常选择13个MFCC系数，这些系数能够有效捕捉音频信号的特征。n_mfcc的默认值是13。\n",
    "\n",
    "- melkwargs（dict，可选）：一个字典，包含Mel滤波器组的参数配置。常见的参数包括：\n",
    "\n",
    "    - n_fft: 用于计算FFT的窗口大小（以样本为单位），默认值通常是400。\n",
    "    - hop_length: 每一帧的步长（以样本为单位），默认值通常是160。\n",
    "    - n_mels: Mel滤波器的数量，决定了Mel频率尺度的分辨率。默认通常为23。\n",
    "    - center: 是否将FFT窗口居中，默认为True。"
   ]
  },
  {
   "cell_type": "raw",
   "id": "5493d5dd-f45b-4e10-b642-352978c238c8",
   "metadata": {},
   "source": [
    "def forward(self, waveform: Tensor) -> Tensor:"
   ]
  },
  {
   "cell_type": "markdown",
   "id": "1e905c32-df2c-4dbf-aedb-a947a5c6bafc",
   "metadata": {},
   "source": [
    "forward方法是MFCC类的核心功能，它执行音频信号的MFCC特征提取过程。调用transform(waveform)时，实际上是调用forward方法。\n",
    "- waveform（Tensor）：一个形状为 (channel, time) 的音频波形张量。通常情况下，channel表示音频的声道数（单声道是1，立体声是2），time表示音频的样本数。\n",
    "\n",
    "- 返回值：一个形状为 (n_mfcc, time) 的张量，包含了提取的MFCC系数。n_mfcc是MFCC系数的数量，time是帧数（即音频信号的时长被分割成的小帧数量，**每帧代表每个时间步**）。"
   ]
  },
  {
   "cell_type": "markdown",
   "id": "af5bc0dc-ebf2-432c-96f9-3e6a0cbf857c",
   "metadata": {},
   "source": [
    "### 举例说明"
   ]
  },
  {
   "cell_type": "code",
   "execution_count": 55,
   "id": "6a685239-8b6e-48fc-9567-e224d68fd56d",
   "metadata": {
    "execution": {
     "iopub.execute_input": "2024-12-15T07:18:10.934093Z",
     "iopub.status.busy": "2024-12-15T07:18:10.933091Z",
     "iopub.status.idle": "2024-12-15T07:18:11.031371Z",
     "shell.execute_reply": "2024-12-15T07:18:11.029370Z",
     "shell.execute_reply.started": "2024-12-15T07:18:10.934093Z"
    }
   },
   "outputs": [
    {
     "name": "stdout",
     "output_type": "stream",
     "text": [
      "torch.Size([13, 9981]) torch.Size([13, 9981])\n"
     ]
    }
   ],
   "source": [
    "import torch\n",
    "import torchaudio\n",
    "from torchaudio.transforms import MFCC\n",
    "\n",
    "# 读取立体声音频（2通道）\n",
    "waveform, sample_rate = torchaudio.load('../data\\\\cyy1.wav')\n",
    "\n",
    "# 设置MFCC转换器\n",
    "mfcc_transform = MFCC(\n",
    "    sample_rate=sample_rate,\n",
    "    n_mfcc=13,\n",
    "    melkwargs={'n_fft': 400, 'hop_length': 160, 'n_mels': 23, 'center': False}\n",
    ")\n",
    "\n",
    "# 处理左右声道\n",
    "mfcc_left = mfcc_transform(waveform[0])  # 左声道\n",
    "mfcc_right = mfcc_transform(waveform[1])  # 右声道\n",
    "\n",
    "# 你可以将它们分别输入模型\n",
    "print(mfcc_left.shape, mfcc_right.shape)"
   ]
  },
  {
   "cell_type": "code",
   "execution_count": 57,
   "id": "d38063b0-bcda-4dff-ab9e-4ef3e84d85cf",
   "metadata": {
    "execution": {
     "iopub.execute_input": "2024-12-15T07:18:49.162953Z",
     "iopub.status.busy": "2024-12-15T07:18:49.161955Z",
     "iopub.status.idle": "2024-12-15T07:18:49.181955Z",
     "shell.execute_reply": "2024-12-15T07:18:49.181132Z",
     "shell.execute_reply.started": "2024-12-15T07:18:49.162953Z"
    }
   },
   "outputs": [
    {
     "data": {
      "text/plain": [
       "torch.Size([1597200])"
      ]
     },
     "execution_count": 57,
     "metadata": {},
     "output_type": "execute_result"
    }
   ],
   "source": [
    "waveform[0].size()"
   ]
  },
  {
   "cell_type": "markdown",
   "id": "eae8c723-2d9a-4d46-83a9-3d67f6c86ace",
   "metadata": {},
   "source": [
    "## 数据预处理"
   ]
  },
  {
   "cell_type": "markdown",
   "id": "e68b8e73-aea5-4fab-be85-5c894ca5d353",
   "metadata": {},
   "source": [
    "### 分帧"
   ]
  },
  {
   "cell_type": "markdown",
   "id": "0f82beaa-90bc-41f3-9393-7233fa25e16a",
   "metadata": {},
   "source": [
    "#### 计算帧数"
   ]
  },
  {
   "cell_type": "code",
   "execution_count": 2,
   "id": "90c2e72a-b7bc-47be-b85d-daaab02b86e4",
   "metadata": {
    "execution": {
     "iopub.execute_input": "2024-12-17T10:22:05.862270Z",
     "iopub.status.busy": "2024-12-17T10:22:05.859287Z",
     "iopub.status.idle": "2024-12-17T10:22:05.881152Z",
     "shell.execute_reply": "2024-12-17T10:22:05.879579Z",
     "shell.execute_reply.started": "2024-12-17T10:22:05.862270Z"
    }
   },
   "outputs": [],
   "source": [
    "# 计算帧数\n",
    "def Nf(wave_data):\n",
    "    wlen = 3840\n",
    "    inc = 960  #每帧长度20ms\n",
    "    signal_length = len(wave_data)  #信号总长度\n",
    "    if signal_length <= wlen:  #若信号长度小于一个帧的长度，则帧数定义为1\n",
    "        nf = 1\n",
    "    else:  #否则，计算帧的总长度\n",
    "        nf = int(np.ceil((1.0 * signal_length - wlen + inc) / inc))\n",
    "    return nf"
   ]
  },
  {
   "cell_type": "markdown",
   "id": "12a3e4b6-6b3f-4eaa-acb9-8cdd298b82c0",
   "metadata": {},
   "source": [
    "#### 信号分帧"
   ]
  },
  {
   "cell_type": "code",
   "execution_count": 3,
   "id": "05ffd22f-cf2b-450d-94bd-b0256c6342fa",
   "metadata": {
    "execution": {
     "iopub.execute_input": "2024-12-17T10:22:07.437969Z",
     "iopub.status.busy": "2024-12-17T10:22:07.435973Z",
     "iopub.status.idle": "2024-12-17T10:22:07.465917Z",
     "shell.execute_reply": "2024-12-17T10:22:07.464169Z",
     "shell.execute_reply.started": "2024-12-17T10:22:07.437969Z"
    }
   },
   "outputs": [],
   "source": [
    "# 信号分帧\n",
    "def Frame(wave_data, nf):\n",
    "    wlen = 3840\n",
    "    inc = 960  #每帧长度20ms\n",
    "    signal_length = len(wave_data)  #信号总长度\n",
    "    if signal_length <= wlen:  #若信号长度小于一个帧的长度，则帧数定义为1\n",
    "        nf = 1\n",
    "    else:  #否则，计算帧的总长度\n",
    "        nf = int(np.ceil((1.0 * signal_length - wlen + inc) / inc))\n",
    "    pad_length = int((nf - 1) * inc + wlen)  #所有帧加起来总的铺平后的长度\n",
    "    zeros = np.zeros(\n",
    "        (pad_length - signal_length, ))  #不够的长度使用0填补，类似于FFT中的扩充数组操作\n",
    "    pad_signal = np.concatenate((wave_data, zeros))  #填补后的信号记为pad_signal\n",
    "    indices = np.tile(np.arange(0, wlen), (nf, 1)) + np.tile(\n",
    "        np.arange(0, nf * inc, inc),\n",
    "        (wlen, 1)).T  #相当于对所有帧的时间点进行抽取，得到nf*nw长度的矩阵\n",
    "    indices = np.array(indices, dtype=np.int32)  #将indices转化为矩阵\n",
    "    frames = pad_signal[indices]  #得到帧信号\n",
    "    return frames"
   ]
  },
  {
   "cell_type": "markdown",
   "id": "7a99de18-f1df-4fb1-bd01-a3249d85f101",
   "metadata": {},
   "source": [
    "### 加窗"
   ]
  },
  {
   "cell_type": "code",
   "execution_count": 4,
   "id": "5a363c2c-eacc-4076-a619-d52e7a5828c7",
   "metadata": {
    "execution": {
     "iopub.execute_input": "2024-12-17T10:22:08.210950Z",
     "iopub.status.busy": "2024-12-17T10:22:08.208089Z",
     "iopub.status.idle": "2024-12-17T10:22:08.236166Z",
     "shell.execute_reply": "2024-12-17T10:22:08.231202Z",
     "shell.execute_reply.started": "2024-12-17T10:22:08.210950Z"
    }
   },
   "outputs": [],
   "source": [
    "# 加窗\n",
    "def Window(frames, nf):\n",
    "    wlen = 3840\n",
    "    inc = 960  #每帧长度20ms\n",
    "    windown = np.hanning(wlen)\n",
    "    wf = np.zeros((nf, wlen))  #加窗后数据变为nf*wlen的矩阵\n",
    "    for i in range(0, nf):\n",
    "        a = frames[i:i + 1]\n",
    "        wf[i] = a[0] * windown\n",
    "    return wf"
   ]
  },
  {
   "cell_type": "markdown",
   "id": "3c46a65f-8550-44ec-a09b-e5e6f12244a8",
   "metadata": {},
   "source": [
    "### 短时能量"
   ]
  },
  {
   "cell_type": "code",
   "execution_count": 5,
   "id": "78538daa-7a61-4c6b-ba34-0a57f13bfb98",
   "metadata": {
    "execution": {
     "iopub.execute_input": "2024-12-17T10:22:08.999327Z",
     "iopub.status.busy": "2024-12-17T10:22:08.992473Z",
     "iopub.status.idle": "2024-12-17T10:22:09.015244Z",
     "shell.execute_reply": "2024-12-17T10:22:09.013607Z",
     "shell.execute_reply.started": "2024-12-17T10:22:08.999327Z"
    }
   },
   "outputs": [],
   "source": [
    "# 短时能量\n",
    "def ShortEnergy(wf, nf):\n",
    "    wlen = 3840\n",
    "    inc = 960  #每帧长度20ms\n",
    "    energy = np.zeros(nf)\n",
    "    for i in range(nf):\n",
    "        c = np.square(wf[i])\n",
    "        energy[i] = np.sum(c)\n",
    "    return energy"
   ]
  },
  {
   "cell_type": "markdown",
   "id": "703cf685-6025-4e59-92ac-c009fc37f70f",
   "metadata": {},
   "source": [
    "### 短时过零率"
   ]
  },
  {
   "cell_type": "code",
   "execution_count": 6,
   "id": "727a6d29-7e6c-4ec7-9490-50717326ff68",
   "metadata": {
    "execution": {
     "iopub.execute_input": "2024-12-17T10:22:09.734645Z",
     "iopub.status.busy": "2024-12-17T10:22:09.730922Z",
     "iopub.status.idle": "2024-12-17T10:22:09.769550Z",
     "shell.execute_reply": "2024-12-17T10:22:09.764455Z",
     "shell.execute_reply.started": "2024-12-17T10:22:09.734645Z"
    }
   },
   "outputs": [],
   "source": [
    "# 短时过零率\n",
    "def ZeroCrossingRate(wf, nf):\n",
    "    wlen = 3840\n",
    "    inc = 960  #每帧长度20ms\n",
    "    counts = np.zeros(nf)\n",
    "    # rate = np.zeros(nf)\n",
    "    for i in range(nf):\n",
    "        a = wf[i]\n",
    "        for j in range(wlen - 1):\n",
    "            if a[j] * a[j + 1] < 0:\n",
    "                counts[i] = counts[i] + 1\n",
    "        #rate[i] = counts[i]/wlen\n",
    "    return counts"
   ]
  },
  {
   "cell_type": "markdown",
   "id": "5114081b-5f77-43d1-83bf-80e3b4093247",
   "metadata": {},
   "source": [
    "### 双门限端点检测"
   ]
  },
  {
   "cell_type": "code",
   "execution_count": 7,
   "id": "4b59fd4d-9899-4845-b233-84ca55b5eeb2",
   "metadata": {
    "execution": {
     "iopub.execute_input": "2024-12-17T10:22:10.483017Z",
     "iopub.status.busy": "2024-12-17T10:22:10.479974Z",
     "iopub.status.idle": "2024-12-17T10:22:10.529094Z",
     "shell.execute_reply": "2024-12-17T10:22:10.528093Z",
     "shell.execute_reply.started": "2024-12-17T10:22:10.483017Z"
    }
   },
   "outputs": [],
   "source": [
    "# 端点检测\n",
    "def point_check(amp, zcr, Parameters):\n",
    "    #分配参数\n",
    "    AmpLow = Parameters[0]  #能量低门限\n",
    "    AmpHigh = Parameters[1]  #能量高门限\n",
    "    ZcrLow = Parameters[2]  #过零率低门限\n",
    "    ZcrHigh = Parameters[3]  #过零率高门限\n",
    "    MaxSilence = Parameters[4]  #最长间隙时间\n",
    "    MinAudio = Parameters[5]  #最短语音时间\n",
    "\n",
    "    #开始端点检测，过渡段语音开始\n",
    "    StartPoint = 0  #语音起始帧数\n",
    "    frames = 0  #语音段数\n",
    "    Start = []  #每段语音起始帧数\n",
    "    End = []  #每段语音结束帧数\n",
    "    while StartPoint < len(zcr):\n",
    "        Status = 0  #状态 0:静音段,1:过渡段,2:语音段,3:结束段,4：音频末段\n",
    "        HoldTime = 0  #语音持续时间\n",
    "        SilenceTime = 0  #语音间隙时间\n",
    "        for i in range(StartPoint, len(zcr)):  #逐帧检测\n",
    "            if Status == 0 or Status == 1:  #静音段或者过渡段\n",
    "                if amp[i] > AmpHigh or zcr[\n",
    "                        i] > ZcrHigh:  #短时能量大于能量高门限或者短时过零率大于过零率高门限\n",
    "                    StartPoint = i - HoldTime\n",
    "                    Status = 2  #语音段\n",
    "                    HoldTime = HoldTime + 1  #语音段继续计数语音持续时间\n",
    "                    SilenceTime = 0\n",
    "                elif amp[i] > AmpLow or zcr[\n",
    "                        i] > ZcrLow:  #短时能量大于能量低门限或者短时过零率大于过零率低门限\n",
    "                    if i == len(zcr) - 1:  #表明端点检测已结束\n",
    "                        Status = 4  #音频末段\n",
    "                    else:\n",
    "                        Status = 1  #过渡段\n",
    "                        HoldTime = HoldTime + 1  #过渡段开始计数语音持续时间\n",
    "                else:\n",
    "                    if i == len(zcr) - 1:  #表明端点检测已结束\n",
    "                        Status = 4  #音频末段\n",
    "                    else:\n",
    "                        Status = 0  #静音段\n",
    "                        HoldTime = 0  #静音段不计数语音持续时间\n",
    "            elif Status == 2:  #语音段\n",
    "                if amp[i] > AmpLow or zcr[\n",
    "                        i] > ZcrLow:  #短时能量大于能量低门限或者短时过零率大于过零率低门限\n",
    "                    HoldTime = HoldTime + 1\n",
    "                else:  # 静音段\n",
    "                    SilenceTime = SilenceTime + 1  #可能是另一段语音的开始，即语音间隙时间\n",
    "                    if SilenceTime < MaxSilence:  #未达到最长语音间隙时间\n",
    "                        HoldTime = HoldTime + 1\n",
    "                    elif (HoldTime -\n",
    "                          SilenceTime) < MinAudio:  #真正语音时间小于最短语音时间，说明可能是噪声\n",
    "                        Status = 0  #重新开始检测\n",
    "                        HoldTime = 0\n",
    "                        SilenceTime = 0\n",
    "                    else:  #语音间隙时间足够长，说明语音已结束\n",
    "                        Status = 3  #结束段\n",
    "            elif Status == 3:\n",
    "                break\n",
    "            if Status == 3:\n",
    "                HoldTime = HoldTime - SilenceTime  #真正的语音持续时间\n",
    "                EndPoint = StartPoint + HoldTime  #语音结束时间\n",
    "                Start.append(StartPoint)\n",
    "                End.append(EndPoint)\n",
    "                #print(\"第{0}段语音从第{1}帧开始\".format(frames,StartPoint))\n",
    "                #print(\"第{0}段语音到第{1}帧结束\".format(frames,EndPoint))\n",
    "                break\n",
    "            if Status == 4:\n",
    "                EndPoint = len(zcr)\n",
    "                Start.append(StartPoint)\n",
    "                End.append(EndPoint)\n",
    "                #print(\"第{0}段语音从第{1}帧开始\".format(frames,StartPoint))\n",
    "                #print(\"第{0}段语音到第{1}帧结束\".format(frames,EndPoint))\n",
    "                break\n",
    "        StartPoint = EndPoint + 1\n",
    "        frames = frames + 1\n",
    "    return (Start, End, frames)"
   ]
  },
  {
   "cell_type": "markdown",
   "id": "7ba14cd1-e111-4aaf-856f-17cff4a0cf78",
   "metadata": {},
   "source": [
    "### 分段"
   ]
  },
  {
   "cell_type": "code",
   "execution_count": 8,
   "id": "98163b27-fff6-48db-a7a0-8ebe9f6486ab",
   "metadata": {
    "execution": {
     "iopub.execute_input": "2024-12-17T10:22:11.662531Z",
     "iopub.status.busy": "2024-12-17T10:22:11.660531Z",
     "iopub.status.idle": "2024-12-17T10:22:11.705418Z",
     "shell.execute_reply": "2024-12-17T10:22:11.698550Z",
     "shell.execute_reply.started": "2024-12-17T10:22:11.662531Z"
    }
   },
   "outputs": [],
   "source": [
    "# 检测区间\n",
    "def check_signal(StartPoint, EndPoint, wave_data):\n",
    "    inc = 960\n",
    "    startpoint = StartPoint * inc\n",
    "    endpoint = EndPoint * inc\n",
    "    wave_data_section = wave_data[startpoint:endpoint]\n",
    "    return wave_data_section\n",
    "\n",
    "# 将每个人的音频进行分段\n",
    "def select_data(wave_data):\n",
    "    length = int(0.1 * 48000)  # 0.1s为一段,每段9600个数据\n",
    "    seg = int(np.ceil(len(wave_data) / (length)))  # 分成的段数,向上取整\n",
    "    seg1 = seg - 1  # 不包含最后一段，因为有可能包含0\n",
    "    zeros = np.zeros(length * seg - len(wave_data))\n",
    "    wave_data_new = np.concatenate([wave_data, zeros\n",
    "                                    ]).reshape(seg,\n",
    "                                               length)  # 将原数组变成seg*length的数组\n",
    "    wave_data_new = wave_data_new[:len(wave_data_new) - 1]\n",
    "    return wave_data_new"
   ]
  },
  {
   "cell_type": "markdown",
   "id": "3d5dea21-6628-4368-bbaa-76efb64fdccf",
   "metadata": {},
   "source": [
    "### 代码合并"
   ]
  },
  {
   "cell_type": "code",
   "execution_count": 9,
   "id": "6d157560-5d04-4c55-9f65-3d2401ddad7a",
   "metadata": {
    "execution": {
     "iopub.execute_input": "2024-12-17T10:22:12.601032Z",
     "iopub.status.busy": "2024-12-17T10:22:12.596781Z",
     "iopub.status.idle": "2024-12-17T10:22:12.636253Z",
     "shell.execute_reply": "2024-12-17T10:22:12.631312Z",
     "shell.execute_reply.started": "2024-12-17T10:22:12.601032Z"
    }
   },
   "outputs": [],
   "source": [
    "#将上述所有函数整合成一个函数PointCheck，分帧，加窗，端点检测，分段\n",
    "def PointCheck(wave_data, Parameters):\n",
    "    nf = Nf(wave_data)  #获取帧数\n",
    "    frames = Frame(wave_data, nf)  #分帧\n",
    "    wf = Window(frames, nf)  #加窗\n",
    "    amp = ShortEnergy(wf, nf)  #短时能量\n",
    "    zcr = ZeroCrossingRate(wf, nf)  #短时过零率\n",
    "    point = point_check(amp, zcr, Parameters)  #端点检测\n",
    "    #每段检测的结果（去掉首尾段）\n",
    "    for i in range(1, len(point[0]) - 1):\n",
    "        seg_data = check_signal(point[0][i], point[1][i], wave_data)\n",
    "        wave_ = select_data(seg_data)\n",
    "        if i == 1:\n",
    "            wave_data_new = wave_\n",
    "        else:\n",
    "            wave_data_new = np.concatenate([wave_data_new, wave_])\n",
    "    \n",
    "    return wave_data_new"
   ]
  },
  {
   "cell_type": "markdown",
   "id": "12d8d943-4ff1-4686-bdcc-5a199ea80356",
   "metadata": {},
   "source": [
    "## 数据准备"
   ]
  },
  {
   "cell_type": "code",
   "execution_count": 10,
   "id": "9bdad2b1-7941-4822-a67a-54ae0e68f6dd",
   "metadata": {
    "execution": {
     "iopub.execute_input": "2024-12-17T10:22:13.604627Z",
     "iopub.status.busy": "2024-12-17T10:22:13.601096Z",
     "iopub.status.idle": "2024-12-17T10:22:13.636799Z",
     "shell.execute_reply": "2024-12-17T10:22:13.632469Z",
     "shell.execute_reply.started": "2024-12-17T10:22:13.603610Z"
    }
   },
   "outputs": [],
   "source": [
    "# 加载所有音频\n",
    "def loader(data_path, parameters):\n",
    "    # 遍历音频文件夹\n",
    "    for index, file in enumerate(os.listdir(data_path)):\n",
    "        if file.endswith('.wav'):\n",
    "            file_path = os.path.join(data_path, file)\n",
    "            speaker = file[:-5]\n",
    "            print(speaker)\n",
    "            # 读取立体声音频（2通道）\n",
    "            waveform, sample_rate = torchaudio.load(file_path)\n",
    "            # 端点检测\n",
    "            waveform_left = PointCheck(waveform[0, :].numpy(), parameters[speaker][0])\n",
    "            waveform_right = PointCheck(waveform[1, :].numpy(), parameters[speaker][1])\n",
    "            # 划分数据和标签\n",
    "            waveform_con = np.concatenate([waveform_left, waveform_right])\n",
    "            label = np.array([index] * waveform_con.shape[0]).reshape((-1))\n",
    "\n",
    "            # 合并每个人的音频\n",
    "            if index == 0:\n",
    "                waveforms = waveform_con\n",
    "                labels = label\n",
    "            else:\n",
    "                waveforms = np.concatenate([waveforms, waveform_con])\n",
    "                labels = np.concatenate([labels, label])\n",
    "\n",
    "    return waveforms, labels"
   ]
  },
  {
   "cell_type": "code",
   "execution_count": 11,
   "id": "09ac37cb-d4a8-45dd-a9d4-c01ea121bc8d",
   "metadata": {
    "execution": {
     "iopub.execute_input": "2024-12-17T10:22:14.443195Z",
     "iopub.status.busy": "2024-12-17T10:22:14.441050Z",
     "iopub.status.idle": "2024-12-17T10:22:14.487081Z",
     "shell.execute_reply": "2024-12-17T10:22:14.481304Z",
     "shell.execute_reply.started": "2024-12-17T10:22:14.443195Z"
    }
   },
   "outputs": [],
   "source": [
    "parameters = {\"fxf\": [[1.29, 200, 300, 400, 8, 12], [1.29, 200, 300, 400, 8, 12]], \\\n",
    "              \"cj\": [[0.09, 11, 300, 400, 8, 12], [0.09, 11, 300, 400, 8, 12]], \\\n",
    "              \"cyy\": [[1.29, 200, 300, 400, 8, 12], [1.29, 200, 300, 400, 8, 12]], \\\n",
    "              \"djj\": [[1.29, 200, 300, 400, 8, 12], [0.09, 14, 300, 700, 8, 12]], \\\n",
    "              \"lpy\": [[0.29, 120, 300, 450, 8, 12], [0.29, 120, 300, 450, 8, 12]], \\\n",
    "              \"mf\": [[40, 200, 300, 400, 8, 12], [0.09, 40, 300, 600, 8, 12]], \\\n",
    "              \"op\": [[0.69, 30, 300, 400, 8, 12], [0.69, 30, 300, 400, 8, 12]], \\\n",
    "              \"sbb\": [[1.29, 190, 300, 400, 8, 12], [0.09, 70, 300, 600, 8, 12]], \\\n",
    "              \"sx\": [[1.29, 120, 300, 400, 8, 12], [0.09, 30, 300, 600, 8, 12]], \\\n",
    "              \"xll\": [[0.09, 40, 300, 400, 8, 12], [0.09, 40, 300, 400, 8, 12]], \\\n",
    "              \"xmm\": [[1.29, 190, 300, 400, 8, 12], [1.29, 190, 300, 400, 8, 12]], \\\n",
    "              \"ywy\": [[1.29, 200, 300, 400, 8, 12], [1.29, 200, 300, 400, 8, 12]]}"
   ]
  },
  {
   "cell_type": "code",
   "execution_count": 12,
   "id": "2aa5ad90-a888-4794-b793-f0c40dea6404",
   "metadata": {
    "execution": {
     "iopub.execute_input": "2024-12-17T10:22:15.074323Z",
     "iopub.status.busy": "2024-12-17T10:22:15.071312Z",
     "iopub.status.idle": "2024-12-17T10:23:03.908093Z",
     "shell.execute_reply": "2024-12-17T10:23:03.906978Z",
     "shell.execute_reply.started": "2024-12-17T10:22:15.074323Z"
    }
   },
   "outputs": [
    {
     "name": "stdout",
     "output_type": "stream",
     "text": [
      "cj\n",
      "cyy\n",
      "djj\n",
      "fxf\n",
      "lpy\n",
      "mf\n",
      "op\n",
      "sbb\n",
      "sx\n",
      "xll\n",
      "xmm\n",
      "ywy\n",
      "x shape: (2352, 4800) y shape: (2352,)\n"
     ]
    }
   ],
   "source": [
    "x, y = loader(\"../data\", parameters)\n",
    "print(\"x shape: {0} y shape: {1}\".format(x.shape, y.shape))"
   ]
  },
  {
   "cell_type": "code",
   "execution_count": 13,
   "id": "2a234d04-e176-4d25-a0a5-2813ea257752",
   "metadata": {
    "execution": {
     "iopub.execute_input": "2024-12-17T10:23:06.758440Z",
     "iopub.status.busy": "2024-12-17T10:23:06.756898Z",
     "iopub.status.idle": "2024-12-17T10:23:06.787501Z",
     "shell.execute_reply": "2024-12-17T10:23:06.785452Z",
     "shell.execute_reply.started": "2024-12-17T10:23:06.758440Z"
    }
   },
   "outputs": [
    {
     "data": {
      "text/plain": [
       "{0, 1, 2, 3, 4, 5, 6, 7, 8, 9, 10, 11}"
      ]
     },
     "execution_count": 13,
     "metadata": {},
     "output_type": "execute_result"
    }
   ],
   "source": [
    "set(y.reshape(-1))"
   ]
  },
  {
   "cell_type": "code",
   "execution_count": 14,
   "id": "c5415afa-87fc-41c1-a2bc-626660692c05",
   "metadata": {
    "execution": {
     "iopub.execute_input": "2024-12-17T10:23:07.344860Z",
     "iopub.status.busy": "2024-12-17T10:23:07.343026Z",
     "iopub.status.idle": "2024-12-17T10:23:07.391491Z",
     "shell.execute_reply": "2024-12-17T10:23:07.386487Z",
     "shell.execute_reply.started": "2024-12-17T10:23:07.344860Z"
    }
   },
   "outputs": [],
   "source": [
    "# 数据归一化\n",
    "def divider(data_list, train_ratio, scaler_path):\n",
    "    \"\"\"\n",
    "    读取数据，并对数据进行归一化\n",
    "\n",
    "    参数说明\n",
    "    ----------\n",
    "    data_list : {list}\n",
    "        输入数据[x, y]\n",
    "    train_ratio : {float}\n",
    "        用于训练的数据集占比:将数据按照一定比例进行切分，取值范围为(0,1)\n",
    "    scaler_path : {str} \n",
    "        数据归一化模型保存地址\n",
    "\n",
    "    返回值\n",
    "    -------\n",
    "    x_scaler : {sklearn.preprocessing.MinMaxScaler}\n",
    "        训练特征列归一化器\n",
    "    train : {list[DataFrame]}\n",
    "        训练特征数据，目标特征数据，时间特征数据\n",
    "    valid : {list[DataFrame]}\n",
    "        验证特征数据，目标特征数据，时间特征数据\n",
    "    \"\"\"\n",
    "    # 获取数据\n",
    "    x, y = data_list\n",
    "    #归一化训练\n",
    "    x_scaler = MinMaxScaler() # 保证数据同分布\n",
    "    m, n = x.shape[0], x.shape[1]\n",
    "    x = x.reshape(-1, 1)\n",
    "    x_scaler = x_scaler.fit(x) \n",
    "\n",
    "    # 设置保存归一化参数路径\n",
    "    if not os.path.exists(scaler_path):\n",
    "        os.makedirs(scaler_path)\n",
    "\n",
    "    # 保存归一化参数\n",
    "    joblib.dump(x_scaler, scaler_path + \"/x_scaler.pkl\")\n",
    "\n",
    "    # 归一化\n",
    "    x = x_scaler.transform(x)\n",
    "    x = x.reshape(m, n)\n",
    "\n",
    "    # 划分数据集\n",
    "    x_train, x_valid, y_train, y_valid = train_test_split(x, y, test_size=1-train_ratio, random_state=42)\n",
    "    train = [x_train, y_train]\n",
    "    valid = [x_valid, y_valid]\n",
    "    \n",
    "    return x_scaler, train, valid"
   ]
  },
  {
   "cell_type": "code",
   "execution_count": 15,
   "id": "5b6ad62b-352d-43ce-adbe-003275f750b2",
   "metadata": {
    "execution": {
     "iopub.execute_input": "2024-12-17T10:23:08.000878Z",
     "iopub.status.busy": "2024-12-17T10:23:07.998872Z",
     "iopub.status.idle": "2024-12-17T10:23:08.169927Z",
     "shell.execute_reply": "2024-12-17T10:23:08.168734Z",
     "shell.execute_reply.started": "2024-12-17T10:23:08.000878Z"
    }
   },
   "outputs": [
    {
     "name": "stdout",
     "output_type": "stream",
     "text": [
      "x_train shape: (1881, 4800) y_train shape: (1881,)\n",
      "x_valid shape: (471, 4800) y_valid shape: (471,)\n"
     ]
    }
   ],
   "source": [
    "# 构造参数字典\n",
    "params1 = {\n",
    "    \"data_list\": [x, y],\n",
    "    \"train_ratio\": 0.8,\n",
    "    \"scaler_path\": '../outputs/scalers/TimesNet_audio_C'\n",
    "}\n",
    "\n",
    "# 函数传参\n",
    "x_scaler, train_data, valid_data = divider(**params1)\n",
    "print(\"x_train shape: {0} y_train shape: {1}\".format(\n",
    "    train_data[0].shape, train_data[1].shape))\n",
    "print(\"x_valid shape: {0} y_valid shape: {1}\".format(\n",
    "    valid_data[0].shape, valid_data[1].shape))"
   ]
  },
  {
   "cell_type": "code",
   "execution_count": 24,
   "id": "87a865ea-fb41-4851-ae1c-6840a7b5cddd",
   "metadata": {
    "execution": {
     "iopub.execute_input": "2024-12-17T12:29:08.599496Z",
     "iopub.status.busy": "2024-12-17T12:29:08.594881Z",
     "iopub.status.idle": "2024-12-17T12:29:08.633492Z",
     "shell.execute_reply": "2024-12-17T12:29:08.632144Z",
     "shell.execute_reply.started": "2024-12-17T12:29:08.598985Z"
    }
   },
   "outputs": [],
   "source": [
    "# 生成数据集\n",
    "def generator(data_list, batch_size):\n",
    "    # 获取数据\n",
    "    feature = data_list[0]  # 特征\n",
    "    target = data_list[1]  # 目标\n",
    "    \n",
    "    # 音频类\n",
    "    class AudioDataset(Dataset):\n",
    "        def __init__(self, waveforms, labels):\n",
    "            self.waveforms = waveforms\n",
    "            self.labels = labels\n",
    "            self.mfcc_transform = MFCC(\n",
    "                sample_rate=16000,  # 假设采样率为16000\n",
    "                n_mfcc=40,\n",
    "                melkwargs={'n_fft': 400, 'hop_length': 160, 'n_mels': 40, 'center': False}\n",
    "            )\n",
    "    \n",
    "        def __len__(self):\n",
    "            return len(self.waveforms)\n",
    "    \n",
    "        def __getitem__(self, idx):\n",
    "            # 获取音频和标签\n",
    "            waveforms = self.waveforms[idx]\n",
    "            label = self.labels[idx]\n",
    "            \n",
    "            # MFCC\n",
    "            mfcc_features = self.mfcc_transform(torch.tensor(waveforms, dtype = torch.float32))\n",
    "    \n",
    "            return mfcc_features.permute(1, 0), torch.tensor(label, dtype = torch.long), torch.ones(mfcc_features.shape[1])\n",
    "\n",
    "    # 生成数据集\n",
    "    dataset = AudioDataset(feature, target)\n",
    "    dataloader = torch.utils.data.DataLoader(dataset, batch_size=batch_size, shuffle=True)\n",
    "\n",
    "    return dataloader"
   ]
  },
  {
   "cell_type": "code",
   "execution_count": 25,
   "id": "a8053089-620d-497a-b089-de8d05bfca93",
   "metadata": {
    "execution": {
     "iopub.execute_input": "2024-12-17T12:29:09.525425Z",
     "iopub.status.busy": "2024-12-17T12:29:09.522123Z",
     "iopub.status.idle": "2024-12-17T12:29:09.613054Z",
     "shell.execute_reply": "2024-12-17T12:29:09.611051Z",
     "shell.execute_reply.started": "2024-12-17T12:29:09.525425Z"
    }
   },
   "outputs": [
    {
     "name": "stdout",
     "output_type": "stream",
     "text": [
      "train_loader_len: 59\n",
      "test_loader_len: 15\n",
      "batch_x shape: torch.Size([32, 28, 40])\n",
      "batch_y shape: torch.Size([32])\n",
      "mask_x shape: torch.Size([32, 28])\n"
     ]
    }
   ],
   "source": [
    "# 构造参数字典\n",
    "params2 = {\n",
    "    \"batch_size\": 32,\n",
    "}\n",
    "train_loader = generator(train_data, **params2)\n",
    "valid_loader = generator(valid_data, **params2)\n",
    "print(\"train_loader_len: {}\".format(len(train_loader)))\n",
    "print(\"test_loader_len: {}\".format(len(valid_loader)))\n",
    "for batch_x, batch_y, mask_x in train_loader:\n",
    "    print(\"batch_x shape:\", batch_x.shape)\n",
    "    print(\"batch_y shape:\", batch_y.shape)\n",
    "    print(\"mask_x shape:\", mask_x.shape)\n",
    "    break"
   ]
  },
  {
   "cell_type": "markdown",
   "id": "19837aff-19bf-488e-b799-45a407ec7066",
   "metadata": {},
   "source": [
    "## 模型定义"
   ]
  },
  {
   "cell_type": "code",
   "execution_count": 26,
   "id": "43cb9506-34ed-4e2d-8b25-c728ba6e0324",
   "metadata": {
    "execution": {
     "iopub.execute_input": "2024-12-17T12:29:16.041342Z",
     "iopub.status.busy": "2024-12-17T12:29:16.039578Z",
     "iopub.status.idle": "2024-12-17T12:29:16.099676Z",
     "shell.execute_reply": "2024-12-17T12:29:16.098709Z",
     "shell.execute_reply.started": "2024-12-17T12:29:16.041342Z"
    }
   },
   "outputs": [],
   "source": [
    "# 位置编码，是对于每一条序列位置的编码，和具体的值无关\n",
    "class PositionalEmbedding(nn.Module):\n",
    "    def __init__(self, d_model, max_len=5000):\n",
    "        super(PositionalEmbedding, self).__init__()\n",
    "        # Compute the positional encodings once in log space.\n",
    "        pe = torch.zeros(max_len, d_model).float()\n",
    "        pe.require_grad = False\n",
    "\n",
    "        position = torch.arange(0, max_len).float().unsqueeze(1)\n",
    "        div_term = (torch.arange(0, d_model, 2).float() *\n",
    "                    -(math.log(10000.0) / d_model)).exp()\n",
    "\n",
    "        # 注意：d_model需要是偶数\n",
    "        # 0::2：从0开始，以步长为2进行取值，取到的都是偶数位置\n",
    "        pe[:, 0::2] = torch.sin(position * div_term)\n",
    "        # 1::2：从1开始，以步长为2进行取值，取到的都是奇数位置\n",
    "        pe[:, 1::2] = torch.cos(position * div_term)\n",
    "\n",
    "        pe = pe.unsqueeze(0)\n",
    "        # 作用是该组参数不会更新，但是保存模型时，该组参数又作为模型参数被保存\n",
    "        self.register_buffer('pe', pe)\n",
    "\n",
    "    def forward(self, x):\n",
    "        return self.pe[:, :x.size(1)]\n",
    "\n",
    "\n",
    "# 使用conv1d的目的是要对序列中的每一个时间点上的数据（也就是token）来做编码\n",
    "class TokenEmbedding(nn.Module):\n",
    "    def __init__(self, c_in, d_model):\n",
    "        super(TokenEmbedding, self).__init__()\n",
    "        padding = 1 if torch.__version__ >= '1.5.0' else 2\n",
    "        self.tokenConv = nn.Conv1d(in_channels=c_in,\n",
    "                                   out_channels=d_model,\n",
    "                                   kernel_size=3,\n",
    "                                   padding=padding,\n",
    "                                   padding_mode='circular',\n",
    "                                   bias=False)\n",
    "        for m in self.modules():\n",
    "            if isinstance(m, nn.Conv1d):\n",
    "                nn.init.kaiming_normal_(m.weight,\n",
    "                                        mode='fan_in',\n",
    "                                        nonlinearity='leaky_relu')\n",
    "\n",
    "    def forward(self, x):\n",
    "        x = self.tokenConv(x.permute(0, 2, 1)).transpose(1, 2)\n",
    "        return x\n",
    "\n",
    "\n",
    "class DataEmbedding(nn.Module):\n",
    "    def __init__(self,\n",
    "                 c_in,\n",
    "                 d_model,\n",
    "                 dropout=0.1):\n",
    "        super(DataEmbedding, self).__init__()\n",
    "\n",
    "        self.value_embedding = TokenEmbedding(c_in=c_in, d_model=d_model)\n",
    "        self.position_embedding = PositionalEmbedding(d_model=d_model)\n",
    "        self.dropout = nn.Dropout(p=dropout)\n",
    "\n",
    "    def forward(self, x):\n",
    "        x = self.value_embedding(x) + self.position_embedding(x)\n",
    "        return self.dropout(x)\n",
    "\n",
    "\n",
    "# 将不同的卷积层通过并联的方式结合在一起，经过不同卷积层处理的结果矩阵在深度这个维度拼接起来，形成一个更深的矩阵\n",
    "class Inception_Block_V1(nn.Module):\n",
    "    def __init__(self,\n",
    "                 in_channels,\n",
    "                 out_channels,\n",
    "                 num_kernels=6,\n",
    "                 init_weight=True):\n",
    "        super(Inception_Block_V1, self).__init__()\n",
    "        self.in_channels = in_channels\n",
    "        self.out_channels = out_channels\n",
    "        self.num_kernels = num_kernels  # 卷积核尺寸\n",
    "        kernels = []\n",
    "        for i in range(self.num_kernels):\n",
    "            kernels.append(\n",
    "                nn.Conv2d(in_channels,\n",
    "                          out_channels,\n",
    "                          kernel_size=2 * i + 1,\n",
    "                          padding=i))\n",
    "        self.kernels = nn.ModuleList(kernels)\n",
    "        if init_weight:\n",
    "            self._initialize_weights()\n",
    "\n",
    "    def _initialize_weights(self):\n",
    "        for m in self.modules():\n",
    "            if isinstance(m, nn.Conv2d):\n",
    "                nn.init.kaiming_normal_(m.weight,\n",
    "                                        mode='fan_out',\n",
    "                                        nonlinearity='relu')\n",
    "                if m.bias is not None:\n",
    "                    nn.init.constant_(m.bias, 0)\n",
    "\n",
    "    def forward(self, x):\n",
    "        res_list = []\n",
    "        for i in range(self.num_kernels):\n",
    "            res_list.append(self.kernels[i](x))\n",
    "        res = torch.stack(res_list, dim=-1).mean(-1)\n",
    "        return res\n",
    "\n",
    "\n",
    "# 快速傅里叶变换，返回周期长度和频率\n",
    "def FFT_for_Period(x, k=2):\n",
    "    # [B, T, C]\n",
    "    xf = torch.fft.rfft(x, dim=1)\n",
    "    # find period by amplitudes\n",
    "    frequency_list = abs(xf).mean(0).mean(-1)\n",
    "    frequency_list[0] = 0\n",
    "    _, top_list = torch.topk(frequency_list, k)\n",
    "    top_list = top_list.detach().cpu().numpy()\n",
    "    period = x.shape[1] // top_list\n",
    "    return period, abs(xf).mean(-1)[:, top_list]\n",
    "\n",
    "\n",
    "class TimesBlock(nn.Module):\n",
    "    def __init__(self, seq_len, pred_len, top_k, d_model, d_ff, num_kernels):\n",
    "        super(TimesBlock, self).__init__()\n",
    "        self.seq_len = seq_len\n",
    "        self.pred_len = pred_len\n",
    "        self.k = top_k  # 强度最大的K个频率，不宜过大，容易出现0的情况\n",
    "        # parameter-efficient design\n",
    "        self.conv = nn.Sequential(\n",
    "            Inception_Block_V1(d_model, d_ff, num_kernels=num_kernels),\n",
    "            nn.GELU(),\n",
    "            Inception_Block_V1(d_ff, d_model, num_kernels=num_kernels))\n",
    "\n",
    "    def forward(self, x):\n",
    "        B, T, C = x.size()\n",
    "        period_list, period_weight = FFT_for_Period(x, self.k)\n",
    "\n",
    "        res = []\n",
    "        for i in range(self.k):\n",
    "            period = period_list[i]\n",
    "            # padding\n",
    "            if (self.seq_len + self.pred_len) % period != 0:\n",
    "                length = ((\n",
    "                    (self.seq_len + self.pred_len) // period) + 1) * period\n",
    "                padding = torch.zeros([\n",
    "                    x.shape[0], (length - (self.seq_len + self.pred_len)),\n",
    "                    x.shape[2]\n",
    "                ]).to(x.device)\n",
    "                out = torch.cat([x, padding], dim=1)\n",
    "            else:\n",
    "                length = (self.seq_len + self.pred_len)\n",
    "                out = x\n",
    "            # reshape\n",
    "            out = out.reshape(B, length // period, period,\n",
    "                              C).permute(0, 3, 1, 2).contiguous()\n",
    "            # 2D conv: from 1d Variation to 2d Variation\n",
    "            out = self.conv(out)\n",
    "            # reshape back\n",
    "            out = out.permute(0, 2, 3, 1).reshape(B, -1, C)\n",
    "            res.append(out[:, :(self.seq_len + self.pred_len), :])\n",
    "        res = torch.stack(res, dim=-1)\n",
    "        # 自适应融合\n",
    "        period_weight = F.softmax(period_weight, dim=1)\n",
    "        period_weight = period_weight.unsqueeze(1).unsqueeze(1).repeat(\n",
    "            1, T, C, 1)\n",
    "        res = torch.sum(res * period_weight, -1)\n",
    "        # 残差连接\n",
    "        res = res + x\n",
    "        return res\n",
    "\n",
    "\n",
    "# TimesNet模型\n",
    "class TimesNet(nn.Module):\n",
    "    def __init__(self, seq_len, top_k, d_model, d_ff, num_kernels,\n",
    "                 e_layers, enc_in, dropout, num_class):\n",
    "        super(TimesNet, self).__init__()\n",
    "        self.seq_len = seq_len  # 输入序列长度\n",
    "        self.pred_len = 0  # 输出序列长度\n",
    "        self.model = nn.ModuleList([\n",
    "            TimesBlock(self.seq_len, self.pred_len, top_k, d_model, d_ff,\n",
    "                       num_kernels) for _ in range(e_layers)\n",
    "        ])\n",
    "        self.enc_embedding = DataEmbedding(\n",
    "            enc_in,  # 编码器维度\n",
    "            d_model,  # 隐藏层维度\n",
    "            dropout)\n",
    "        self.layer = e_layers  # TimesBlock层数\n",
    "        self.layer_norm = nn.LayerNorm(d_model)\n",
    "        self.act = F.gelu\n",
    "        self.dropout = nn.Dropout(dropout)\n",
    "        self.projection = nn.Linear(d_model * seq_len, num_class)\n",
    "\n",
    "    def forward(self, x_enc, x_mark_enc):\n",
    "        # embedding\n",
    "        enc_out = self.enc_embedding(x_enc)  # [B,T,C]\n",
    "        # TimesNet\n",
    "        for i in range(self.layer):\n",
    "            enc_out = self.layer_norm(self.model[i](enc_out))\n",
    "        # Output\n",
    "        # the output transformer encoder/decoder embeddings don't include non-linearity\n",
    "        output = self.act(enc_out)\n",
    "        output = self.dropout(output)\n",
    "        # zero-out padding embeddings\n",
    "        output = output * x_mark_enc.unsqueeze(-1)\n",
    "        # (batch_size, seq_length * d_model)\n",
    "        output = output.reshape(output.shape[0], -1)\n",
    "        output = self.projection(output)  # (batch_size, num_classes)\n",
    "\n",
    "        return output"
   ]
  },
  {
   "cell_type": "markdown",
   "id": "cb5af6c8-299e-4e88-857d-748542b792e7",
   "metadata": {},
   "source": [
    "## 模型训练"
   ]
  },
  {
   "cell_type": "code",
   "execution_count": 27,
   "id": "4d7e5878-cc76-47fe-9e84-fd5334f048e4",
   "metadata": {
    "execution": {
     "iopub.execute_input": "2024-12-17T12:29:17.275924Z",
     "iopub.status.busy": "2024-12-17T12:29:17.271874Z",
     "iopub.status.idle": "2024-12-17T12:29:17.335241Z",
     "shell.execute_reply": "2024-12-17T12:29:17.333694Z",
     "shell.execute_reply.started": "2024-12-17T12:29:17.274869Z"
    }
   },
   "outputs": [],
   "source": [
    "def train(train_args, model_args):\n",
    "    # 参数配置\n",
    "    model_name = train_args['model_name'] # 模型名称\n",
    "    train_loader = train_args['train_loader'] # 训练集\n",
    "    valid_loader = train_args['valid_loader'] # 验证集\n",
    "    n_epochs = train_args['n_epochs'] # 训练次数\n",
    "    learning_rate = train_args['learning_rate'] # 学习率\n",
    "    loss = train_args['loss'] # 损失函数\n",
    "    patience = train_args['patience'] # 最大早停次数阈值，超过就会早停\n",
    "    lradj = train_args['lradj'] # 学习率函数\n",
    "    model_path = train_args['model_path'] # 模型保存路径\n",
    "    verbose = train_args['verbose'] # 打印训练过程\n",
    "    plots = train_args['plots'] # 绘制损失图\n",
    "    device = train_args['device'] # 训练设备，可选'cuda'和'cpu'\n",
    "    \n",
    "    #检查是否可用GPU\n",
    "    device = torch.device(device)\n",
    "    \n",
    "    # 创建模型和优化器\n",
    "    model = model_name(**model_args).to(device)\n",
    "    optimizer = optim.RAdam(model.parameters(), lr=learning_rate)\n",
    "    criterion = loss\n",
    "    \n",
    "    # 调整学习率\n",
    "    def adjust_learning_rate(optimizer, epoch, lradj, learning_rate, train_epochs):\n",
    "        # lr = learning_rate * (0.2 ** (epoch // 2))\n",
    "        if lradj == 'type1':\n",
    "            lr_adjust = {epoch: learning_rate * (0.5 ** ((epoch - 1) // 1))}\n",
    "        elif lradj == 'type2':\n",
    "            lr_adjust = {\n",
    "                2: 5e-5, 4: 1e-5, 6: 5e-6, 8: 1e-6,\n",
    "                10: 5e-7, 15: 1e-7, 20: 5e-8\n",
    "            }\n",
    "        elif lradj == \"cosine\":\n",
    "            lr_adjust = {epoch: learning_rate /2 * (1 + math.cos(epoch / train_epochs * math.pi))}\n",
    "        if epoch in lr_adjust.keys():\n",
    "            lr = lr_adjust[epoch]\n",
    "            # 参数组(param_groups)是用来指定不同的参数组以便对它们进行不同的优化设置，比如'lr'\n",
    "            for param_group in optimizer.param_groups:\n",
    "                param_group['lr'] = lr\n",
    "            print('Updating learning rate to {}'.format(lr))\n",
    "    \n",
    "    # 设置早停\n",
    "    class EarlyStopping():\n",
    "        def __init__(self, patience=7, verbose=False, delta=0):\n",
    "            self.patience = patience # 连续超限次数，如果满足条件，则早停\n",
    "            self.verbose = verbose\n",
    "            self.counter = 0\n",
    "            self.best_score = None\n",
    "            self.early_stop = False\n",
    "            self.val_loss_min = np.Inf\n",
    "            self.delta = delta\n",
    "\n",
    "        def __call__(self, val_loss, model, path):\n",
    "            score = -val_loss\n",
    "            if self.best_score is None:\n",
    "                self.best_score = score\n",
    "                self.save_checkpoint(val_loss, model, path)\n",
    "            elif score < self.best_score + self.delta:\n",
    "                self.counter += 1\n",
    "                print(f'EarlyStopping counter: {self.counter} out of {self.patience}')\n",
    "                if self.counter >= self.patience:\n",
    "                    self.early_stop = True\n",
    "            else:\n",
    "                self.best_score = score\n",
    "                self.save_checkpoint(val_loss, model, path)\n",
    "                self.counter = 0\n",
    "\n",
    "        def save_checkpoint(self, val_loss, model, path):\n",
    "            if self.verbose:\n",
    "                print(f'Validation loss decreased ({self.val_loss_min:.6f} --> {val_loss:.6f}).  Saving model ...')\n",
    "            torch.save(model.state_dict(), path + '/' + 'checkpoint.pth')\n",
    "            self.val_loss_min = val_loss\n",
    "    early_stopping = EarlyStopping(patience=patience, verbose=verbose)\n",
    "    \n",
    "    # 设置保存模型路径\n",
    "    if not os.path.exists(model_path):\n",
    "        os.makedirs(model_path)\n",
    "\n",
    "    # 模型训练和验证\n",
    "    train_losses, val_losses = [], []\n",
    "    for epoch in tqdm(range(n_epochs)):\n",
    "        model.train()\n",
    "        total_train_loss = 0\n",
    "        train_correct_predictions = 0\n",
    "        for batch_x, batch_y, mask_x in train_loader:\n",
    "            #将数据移至 GPU\n",
    "            batch_x = batch_x.to(device) \n",
    "            batch_y = batch_y.to(device) \n",
    "            mask_x = mask_x.to(device)\n",
    "            # 清空梯度\n",
    "            optimizer.zero_grad()\n",
    "            outputs = model(batch_x, mask_x)\n",
    "            train_loss = criterion(outputs, batch_y)\n",
    "            # 反向传播计算得到每个参数的梯度值\n",
    "            train_loss.backward()\n",
    "            # 通过梯度下降执行一步参数更新\n",
    "            optimizer.step()\n",
    "            #每个batch的loss和\n",
    "            total_train_loss += train_loss.item() # .item()表示只包含一个元素的tensor中提取值\n",
    "            # 计算准确率\n",
    "            _, preds = torch.max(outputs, dim=1)\n",
    "            train_correct_predictions += torch.sum(preds == batch_y)\n",
    "                \n",
    "        #每个epoch的损失平均\n",
    "        avg_train_loss = total_train_loss / len(train_loader)\n",
    "        \n",
    "        #所有epoch的loss\n",
    "        train_losses.append(avg_train_loss)\n",
    "\n",
    "        # 计算准确率\n",
    "        train_accuracy = train_correct_predictions.double() / len(train_loader.dataset)\n",
    "        \n",
    "        #评估模型\n",
    "        model.eval()\n",
    "        preds = []\n",
    "        trues = []\n",
    "        #关闭自动求导功能，只使用训练好的模型进行预测或评估，不需要进行梯度计算和参数更新\n",
    "        with torch.no_grad():\n",
    "            total_val_loss = 0\n",
    "            val_correct_predictions = 0\n",
    "            for batch_x, batch_y, mask_x in valid_loader:\n",
    "                #将数据移至 GPU\n",
    "                batch_x = batch_x.to(device) \n",
    "                batch_y = batch_y.to(device) \n",
    "                mask_x = mask_x.to(device)\n",
    "                outputs = model(batch_x, mask_x)\n",
    "                val_loss = criterion(outputs, batch_y)\n",
    "                #每个batch的loss和\n",
    "                total_val_loss += val_loss.item()\n",
    "                # 计算准确率\n",
    "                _, preds = torch.max(outputs, dim=1)\n",
    "                val_correct_predictions += torch.sum(preds == batch_y)\n",
    "                \n",
    "        #每个epoch的损失平均\n",
    "        avg_val_loss = total_val_loss / len(valid_loader)\n",
    "        \n",
    "        #所有epoch的loss\n",
    "        val_losses.append(avg_val_loss)\n",
    "\n",
    "        # 计算准确率\n",
    "        val_accuracy = val_correct_predictions.double() / len(valid_loader.dataset)\n",
    "\n",
    "        # 打印训练过程\n",
    "        if verbose:\n",
    "            print(f'Epoch [{epoch+1}/{n_epochs}], Training Loss: {avg_train_loss:.4f}, Training Accuracy: {train_accuracy:.4f}, Validation Loss: {avg_val_loss:.4f}, Validation Accuracy: {val_accuracy:.4f}')\n",
    "\n",
    "        # 设置早停\n",
    "        early_stopping(avg_val_loss, model, model_path)\n",
    "        if early_stopping.early_stop:\n",
    "            print(\"Early stopping!\")\n",
    "            break\n",
    "            \n",
    "        # 调整学习率\n",
    "        adjust_learning_rate(optimizer, epoch+1, lradj, learning_rate, n_epochs)\n",
    "\n",
    "    #绘制损失函数图\n",
    "    def plot_loss(train_losses, val_losses):\n",
    "        plt.figure(figsize=(10, 5))\n",
    "        plt.style.use('seaborn-v0_8-paper') #绘制背景色\n",
    "        plt.grid(axis = 'y',linewidth=0.35) #绘制网格\n",
    "        plt.plot(val_losses, linestyle='-',color = '#11b3b6')\n",
    "        plt.plot(train_losses, linestyle='-',color = '#f14643')\n",
    "        plt.xlabel(\"Epoch\")\n",
    "        plt.ylabel(\"Loss\")\n",
    "        plt.title(\"Training and Validation Progress\")\n",
    "        plt.legend([\"Validation\", \"Training\"])\n",
    "        plt.show()\n",
    "    if plots:\n",
    "        plot_loss(train_losses, val_losses)\n",
    "            \n",
    "    return model"
   ]
  },
  {
   "cell_type": "code",
   "execution_count": 29,
   "id": "374743af-f3a6-44ee-b7dc-7357b5d2af38",
   "metadata": {
    "execution": {
     "iopub.execute_input": "2024-12-17T12:29:29.659303Z",
     "iopub.status.busy": "2024-12-17T12:29:29.659303Z",
     "iopub.status.idle": "2024-12-17T20:02:47.142073Z",
     "shell.execute_reply": "2024-12-17T20:02:47.140913Z",
     "shell.execute_reply.started": "2024-12-17T12:29:29.659303Z"
    },
    "scrolled": true
   },
   "outputs": [
    {
     "name": "stderr",
     "output_type": "stream",
     "text": [
      "  2%|█▌                                                                            | 1/50 [17:16<14:06:44, 1036.84s/it]"
     ]
    },
    {
     "name": "stdout",
     "output_type": "stream",
     "text": [
      "Epoch [1/50], Training Loss: 2.2649, Training Accuracy: 0.2079, Validation Loss: 1.9868, Validation Accuracy: 0.3631\n",
      "Validation loss decreased (inf --> 1.986842).  Saving model ...\n",
      "Updating learning rate to 0.0009990133642141358\n"
     ]
    },
    {
     "name": "stderr",
     "output_type": "stream",
     "text": [
      "  4%|███                                                                           | 2/50 [34:43<13:54:11, 1042.75s/it]"
     ]
    },
    {
     "name": "stdout",
     "output_type": "stream",
     "text": [
      "Epoch [2/50], Training Loss: 1.9354, Training Accuracy: 0.3498, Validation Loss: 1.8489, Validation Accuracy: 0.3758\n",
      "Validation loss decreased (1.986842 --> 1.848871).  Saving model ...\n",
      "Updating learning rate to 0.000996057350657239\n"
     ]
    },
    {
     "name": "stderr",
     "output_type": "stream",
     "text": [
      "  6%|████▋                                                                         | 3/50 [52:10<13:38:09, 1044.45s/it]"
     ]
    },
    {
     "name": "stdout",
     "output_type": "stream",
     "text": [
      "Epoch [3/50], Training Loss: 1.6748, Training Accuracy: 0.4343, Validation Loss: 1.5237, Validation Accuracy: 0.4820\n",
      "Validation loss decreased (1.848871 --> 1.523672).  Saving model ...\n",
      "Updating learning rate to 0.0009911436253643444\n"
     ]
    },
    {
     "name": "stderr",
     "output_type": "stream",
     "text": [
      "  8%|██████                                                                      | 4/50 [1:09:37<13:21:30, 1045.45s/it]"
     ]
    },
    {
     "name": "stdout",
     "output_type": "stream",
     "text": [
      "Epoch [4/50], Training Loss: 1.4525, Training Accuracy: 0.5178, Validation Loss: 1.3584, Validation Accuracy: 0.5626\n",
      "Validation loss decreased (1.523672 --> 1.358407).  Saving model ...\n",
      "Updating learning rate to 0.0009842915805643156\n"
     ]
    },
    {
     "name": "stderr",
     "output_type": "stream",
     "text": [
      " 10%|███████▌                                                                    | 5/50 [1:27:05<13:04:48, 1046.41s/it]"
     ]
    },
    {
     "name": "stdout",
     "output_type": "stream",
     "text": [
      "Epoch [5/50], Training Loss: 1.2323, Training Accuracy: 0.5853, Validation Loss: 1.2562, Validation Accuracy: 0.5711\n",
      "Validation loss decreased (1.358407 --> 1.256196).  Saving model ...\n",
      "Updating learning rate to 0.0009755282581475768\n"
     ]
    },
    {
     "name": "stderr",
     "output_type": "stream",
     "text": [
      " 12%|█████████                                                                   | 6/50 [1:44:31<12:47:17, 1046.30s/it]"
     ]
    },
    {
     "name": "stdout",
     "output_type": "stream",
     "text": [
      "Epoch [6/50], Training Loss: 1.0704, Training Accuracy: 0.6459, Validation Loss: 1.0973, Validation Accuracy: 0.6433\n",
      "Validation loss decreased (1.256196 --> 1.097293).  Saving model ...\n",
      "Updating learning rate to 0.0009648882429441257\n"
     ]
    },
    {
     "name": "stderr",
     "output_type": "stream",
     "text": [
      " 14%|██████████▋                                                                 | 7/50 [2:01:57<12:29:50, 1046.30s/it]"
     ]
    },
    {
     "name": "stdout",
     "output_type": "stream",
     "text": [
      "Epoch [7/50], Training Loss: 0.9354, Training Accuracy: 0.6911, Validation Loss: 1.1436, Validation Accuracy: 0.6157\n",
      "EarlyStopping counter: 1 out of 5\n",
      "Updating learning rate to 0.0009524135262330098\n",
      "Epoch [8/50], Training Loss: 0.7562, Training Accuracy: 0.7570, Validation Loss: 0.9335, Validation Accuracy: 0.6943\n",
      "Validation loss decreased (1.097293 --> 0.933543).  Saving model ...\n",
      "Updating learning rate to 0.0009381533400219318\n"
     ]
    },
    {
     "name": "stderr",
     "output_type": "stream",
     "text": [
      " 18%|█████████████▋                                                              | 9/50 [2:36:50<11:54:54, 1046.21s/it]"
     ]
    },
    {
     "name": "stdout",
     "output_type": "stream",
     "text": [
      "Epoch [9/50], Training Loss: 0.6700, Training Accuracy: 0.7858, Validation Loss: 0.9131, Validation Accuracy: 0.7176\n",
      "Validation loss decreased (0.933543 --> 0.913135).  Saving model ...\n",
      "Updating learning rate to 0.0009221639627510075\n"
     ]
    },
    {
     "name": "stderr",
     "output_type": "stream",
     "text": [
      " 20%|███████████████                                                            | 10/50 [2:54:16<11:37:32, 1046.32s/it]"
     ]
    },
    {
     "name": "stdout",
     "output_type": "stream",
     "text": [
      "Epoch [10/50], Training Loss: 0.5357, Training Accuracy: 0.8246, Validation Loss: 0.8615, Validation Accuracy: 0.7304\n",
      "Validation loss decreased (0.913135 --> 0.861457).  Saving model ...\n",
      "Updating learning rate to 0.0009045084971874737\n"
     ]
    },
    {
     "name": "stderr",
     "output_type": "stream",
     "text": [
      " 22%|████████████████▌                                                          | 11/50 [3:11:42<11:20:04, 1046.28s/it]"
     ]
    },
    {
     "name": "stdout",
     "output_type": "stream",
     "text": [
      "Epoch [11/50], Training Loss: 0.3874, Training Accuracy: 0.8793, Validation Loss: 0.8357, Validation Accuracy: 0.7537\n",
      "Validation loss decreased (0.861457 --> 0.835660).  Saving model ...\n",
      "Updating learning rate to 0.0008852566213878947\n"
     ]
    },
    {
     "name": "stderr",
     "output_type": "stream",
     "text": [
      " 24%|██████████████████                                                         | 12/50 [3:29:10<11:02:51, 1046.61s/it]"
     ]
    },
    {
     "name": "stdout",
     "output_type": "stream",
     "text": [
      "Epoch [12/50], Training Loss: 0.3325, Training Accuracy: 0.8985, Validation Loss: 0.8372, Validation Accuracy: 0.7558\n",
      "EarlyStopping counter: 1 out of 5\n",
      "Updating learning rate to 0.0008644843137107057\n"
     ]
    },
    {
     "name": "stderr",
     "output_type": "stream",
     "text": [
      " 26%|███████████████████▌                                                       | 13/50 [3:46:36<10:45:18, 1046.45s/it]"
     ]
    },
    {
     "name": "stdout",
     "output_type": "stream",
     "text": [
      "Epoch [13/50], Training Loss: 0.2679, Training Accuracy: 0.9176, Validation Loss: 0.9620, Validation Accuracy: 0.7495\n",
      "EarlyStopping counter: 2 out of 5\n",
      "Updating learning rate to 0.0008422735529643444\n"
     ]
    },
    {
     "name": "stderr",
     "output_type": "stream",
     "text": [
      " 28%|█████████████████████                                                      | 14/50 [4:04:02<10:27:50, 1046.39s/it]"
     ]
    },
    {
     "name": "stdout",
     "output_type": "stream",
     "text": [
      "Epoch [14/50], Training Loss: 0.2188, Training Accuracy: 0.9362, Validation Loss: 0.8290, Validation Accuracy: 0.7707\n",
      "Validation loss decreased (0.835660 --> 0.829034).  Saving model ...\n",
      "Updating learning rate to 0.0008187119948743449\n"
     ]
    },
    {
     "name": "stderr",
     "output_type": "stream",
     "text": [
      " 30%|██████████████████████▌                                                    | 15/50 [4:21:28<10:10:20, 1046.30s/it]"
     ]
    },
    {
     "name": "stdout",
     "output_type": "stream",
     "text": [
      "Epoch [15/50], Training Loss: 0.1562, Training Accuracy: 0.9580, Validation Loss: 0.9350, Validation Accuracy: 0.7452\n",
      "EarlyStopping counter: 1 out of 5\n",
      "Updating learning rate to 0.0007938926261462366\n"
     ]
    },
    {
     "name": "stderr",
     "output_type": "stream",
     "text": [
      " 32%|████████████████████████▎                                                   | 16/50 [4:38:54<9:52:52, 1046.24s/it]"
     ]
    },
    {
     "name": "stdout",
     "output_type": "stream",
     "text": [
      "Epoch [16/50], Training Loss: 0.1695, Training Accuracy: 0.9516, Validation Loss: 0.8928, Validation Accuracy: 0.7813\n",
      "EarlyStopping counter: 2 out of 5\n",
      "Updating learning rate to 0.0007679133974894983\n"
     ]
    },
    {
     "name": "stderr",
     "output_type": "stream",
     "text": [
      " 34%|█████████████████████████▊                                                  | 17/50 [4:56:20<9:35:18, 1046.03s/it]"
     ]
    },
    {
     "name": "stdout",
     "output_type": "stream",
     "text": [
      "Epoch [17/50], Training Loss: 0.1259, Training Accuracy: 0.9686, Validation Loss: 0.8403, Validation Accuracy: 0.7707\n",
      "EarlyStopping counter: 3 out of 5\n",
      "Updating learning rate to 0.0007408768370508576\n"
     ]
    },
    {
     "name": "stderr",
     "output_type": "stream",
     "text": [
      " 36%|███████████████████████████▎                                                | 18/50 [5:13:47<9:17:59, 1046.25s/it]"
     ]
    },
    {
     "name": "stdout",
     "output_type": "stream",
     "text": [
      "Epoch [18/50], Training Loss: 0.0848, Training Accuracy: 0.9819, Validation Loss: 0.8349, Validation Accuracy: 0.8047\n",
      "EarlyStopping counter: 4 out of 5\n",
      "Updating learning rate to 0.0007128896457825364\n",
      "Epoch [19/50], Training Loss: 0.0633, Training Accuracy: 0.9856, Validation Loss: 0.7980, Validation Accuracy: 0.8153\n",
      "Validation loss decreased (0.829034 --> 0.797977).  Saving model ...\n",
      "Updating learning rate to 0.0006840622763423391\n"
     ]
    },
    {
     "name": "stderr",
     "output_type": "stream",
     "text": [
      " 40%|██████████████████████████████▍                                             | 20/50 [5:48:39<8:43:06, 1046.21s/it]"
     ]
    },
    {
     "name": "stdout",
     "output_type": "stream",
     "text": [
      "Epoch [20/50], Training Loss: 0.0305, Training Accuracy: 0.9968, Validation Loss: 0.7671, Validation Accuracy: 0.8153\n",
      "Validation loss decreased (0.797977 --> 0.767075).  Saving model ...\n",
      "Updating learning rate to 0.0006545084971874737\n"
     ]
    },
    {
     "name": "stderr",
     "output_type": "stream",
     "text": [
      " 42%|███████████████████████████████▉                                            | 21/50 [6:06:05<8:25:39, 1046.20s/it]"
     ]
    },
    {
     "name": "stdout",
     "output_type": "stream",
     "text": [
      "Epoch [21/50], Training Loss: 0.0194, Training Accuracy: 0.9984, Validation Loss: 0.7469, Validation Accuracy: 0.8217\n",
      "Validation loss decreased (0.767075 --> 0.746921).  Saving model ...\n",
      "Updating learning rate to 0.0006243449435824276\n"
     ]
    },
    {
     "name": "stderr",
     "output_type": "stream",
     "text": [
      " 44%|█████████████████████████████████▍                                          | 22/50 [6:23:32<8:08:18, 1046.38s/it]"
     ]
    },
    {
     "name": "stdout",
     "output_type": "stream",
     "text": [
      "Epoch [22/50], Training Loss: 0.0188, Training Accuracy: 0.9979, Validation Loss: 0.7547, Validation Accuracy: 0.8365\n",
      "EarlyStopping counter: 1 out of 5\n",
      "Updating learning rate to 0.0005936906572928624\n"
     ]
    },
    {
     "name": "stderr",
     "output_type": "stream",
     "text": [
      " 46%|██████████████████████████████████▉                                         | 23/50 [6:40:58<7:50:49, 1046.28s/it]"
     ]
    },
    {
     "name": "stdout",
     "output_type": "stream",
     "text": [
      "Epoch [23/50], Training Loss: 0.0124, Training Accuracy: 0.9973, Validation Loss: 0.7542, Validation Accuracy: 0.8301\n",
      "EarlyStopping counter: 2 out of 5\n",
      "Updating learning rate to 0.0005626666167821521\n"
     ]
    },
    {
     "name": "stderr",
     "output_type": "stream",
     "text": [
      " 48%|████████████████████████████████████▍                                       | 24/50 [6:58:24<7:33:17, 1046.04s/it]"
     ]
    },
    {
     "name": "stdout",
     "output_type": "stream",
     "text": [
      "Epoch [24/50], Training Loss: 0.0358, Training Accuracy: 0.9936, Validation Loss: 0.9073, Validation Accuracy: 0.8004\n",
      "EarlyStopping counter: 3 out of 5\n",
      "Updating learning rate to 0.0005313952597646568\n"
     ]
    },
    {
     "name": "stderr",
     "output_type": "stream",
     "text": [
      " 50%|██████████████████████████████████████                                      | 25/50 [7:15:49<7:15:47, 1045.91s/it]"
     ]
    },
    {
     "name": "stdout",
     "output_type": "stream",
     "text": [
      "Epoch [25/50], Training Loss: 0.0239, Training Accuracy: 0.9957, Validation Loss: 0.8520, Validation Accuracy: 0.8004\n",
      "EarlyStopping counter: 4 out of 5\n",
      "Updating learning rate to 0.0005\n"
     ]
    },
    {
     "name": "stderr",
     "output_type": "stream",
     "text": [
      " 50%|██████████████████████████████████████                                      | 25/50 [7:33:16<7:33:16, 1087.86s/it]"
     ]
    },
    {
     "name": "stdout",
     "output_type": "stream",
     "text": [
      "Epoch [26/50], Training Loss: 0.0152, Training Accuracy: 0.9984, Validation Loss: 0.8434, Validation Accuracy: 0.8280\n",
      "EarlyStopping counter: 5 out of 5\n",
      "Early stopping!\n"
     ]
    },
    {
     "name": "stderr",
     "output_type": "stream",
     "text": [
      "\n"
     ]
    },
    {
     "data": {
      "image/png": "[encoded data removed]",
      "text/plain": [
       "<Figure size 1000x500 with 1 Axes>"
      ]
     },
     "metadata": {},
     "output_type": "display_data"
    }
   ],
   "source": [
    "# 构造参数字典\n",
    "params3 = {\n",
    "    \"train_args\": {\n",
    "        \"model_name\": TimesNet,\n",
    "        \"train_loader\": train_loader,\n",
    "        \"valid_loader\": valid_loader,\n",
    "        \"n_epochs\": 50,\n",
    "        \"learning_rate\": 0.001,\n",
    "        \"loss\": nn.CrossEntropyLoss(),\n",
    "        \"patience\": 5,\n",
    "        \"lradj\": 'cosine',\n",
    "        \"model_path\": \"../outputs/best_models/TimesNet_audio_C\",\n",
    "        \"device\": 'cuda',\n",
    "        \"verbose\": True,\n",
    "        \"plots\": True,\n",
    "    },\n",
    "    \"model_args\": {\n",
    "        'seq_len': 28,\n",
    "        'top_k': 5,\n",
    "        'd_model': 128,\n",
    "        'num_kernels': 6,\n",
    "        'd_ff': 256,\n",
    "        'dropout': 0.1,\n",
    "        'e_layers': 2,\n",
    "        'enc_in': 40,\n",
    "        'num_class': 12,\n",
    "    },\n",
    "}\n",
    "model = train(**params3)"
   ]
  },
  {
   "cell_type": "markdown",
   "id": "6c4bf412-ce76-4bf9-bc4b-a3db17d82035",
   "metadata": {},
   "source": [
    "## 模型预测"
   ]
  },
  {
   "cell_type": "code",
   "execution_count": null,
   "id": "f6d76f21-e690-4da3-9764-efec1a9eaa72",
   "metadata": {},
   "outputs": [],
   "source": []
  }
 ],
 "metadata": {
  "kernelspec": {
   "display_name": "NLP",
   "language": "python",
   "name": "nlp"
  },
  "language_info": {
   "codemirror_mode": {
    "name": "ipython",
    "version": 3
   },
   "file_extension": ".py",
   "mimetype": "text/x-python",
   "name": "python",
   "nbconvert_exporter": "python",
   "pygments_lexer": "ipython3",
   "version": "3.9.18"
  }
 },
 "nbformat": 4,
 "nbformat_minor": 5
}
