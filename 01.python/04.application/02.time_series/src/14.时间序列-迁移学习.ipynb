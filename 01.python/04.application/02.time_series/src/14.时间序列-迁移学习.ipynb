{
 "cells": [
  {
   "cell_type": "markdown",
   "id": "3b880c63-f275-4d7b-97d1-d403d9e1eea6",
   "metadata": {},
   "source": [
    "## 基本函数定义"
   ]
  },
  {
   "cell_type": "code",
   "execution_count": 1,
   "id": "77159e8c-4663-4d1f-8ad6-eb0bd55dd83a",
   "metadata": {
    "execution": {
     "iopub.execute_input": "2024-11-04T08:38:37.370621Z",
     "iopub.status.busy": "2024-11-04T08:38:37.369618Z",
     "iopub.status.idle": "2024-11-04T08:38:52.649997Z",
     "shell.execute_reply": "2024-11-04T08:38:52.648114Z",
     "shell.execute_reply.started": "2024-11-04T08:38:37.370621Z"
    }
   },
   "outputs": [],
   "source": [
    "import pandas as pd\n",
    "import numpy as np\n",
    "from pandas import DataFrame\n",
    "from datetime import timedelta\n",
    "from numpy import ndarray\n",
    "from typing import Union, List, Dict\n",
    "from sklearn.preprocessing import MinMaxScaler\n",
    "import os\n",
    "import re\n",
    "import torch\n",
    "import torch.nn as nn\n",
    "import torch.optim as optim\n",
    "from torch.utils.data import TensorDataset, DataLoader\n",
    "import torch.nn.functional as F\n",
    "from tqdm import tqdm  # 打印进度条\n",
    "import math\n",
    "import matplotlib.pyplot as plt\n",
    "import seaborn as sns\n",
    "from typing import List\n",
    "from pandas.tseries import offsets\n",
    "from pandas.tseries.frequencies import to_offset\n",
    "from sklearn.metrics import r2_score, mean_squared_error\n",
    "import joblib\n",
    "import plotly.graph_objects as go\n",
    "import warnings\n",
    "\n",
    "warnings.filterwarnings(\"ignore\")\n",
    "plt.rcParams['font.sans-serif'] = ['SimHei']  # 显示中文标签\n",
    "plt.rcParams['axes.unicode_minus'] = False"
   ]
  },
  {
   "cell_type": "markdown",
   "id": "0c277cc7-4bfa-4b83-87b3-062a08b27d6c",
   "metadata": {},
   "source": [
    "### 数据准备"
   ]
  },
  {
   "cell_type": "code",
   "execution_count": 2,
   "id": "96a9835f-703f-4cc5-990f-dd8dab01e44e",
   "metadata": {
    "execution": {
     "iopub.execute_input": "2024-11-04T08:38:54.898741Z",
     "iopub.status.busy": "2024-11-04T08:38:54.897586Z",
     "iopub.status.idle": "2024-11-04T08:38:55.043595Z",
     "shell.execute_reply": "2024-11-04T08:38:55.041589Z",
     "shell.execute_reply.started": "2024-11-04T08:38:54.898741Z"
    }
   },
   "outputs": [],
   "source": [
    "# 读取数据\n",
    "def loader(data_path=None, data=None, time_col=None, datetime=None, freq=None):\n",
    "    \"\"\"\n",
    "    读取数据，并对输入数据时间列进行处理\n",
    "\n",
    "    参数说明\n",
    "    ----------\n",
    "    data_path : {str}\n",
    "        输入数据地址，如果为空，读取已有数据\n",
    "    data : {DataFrame} of shape (n_samples, n_features)\n",
    "        输入数据，如果需读取本地数据，将该值置空，否则传入已有数据\n",
    "    time_col : {str}\n",
    "        输入数据的时间列，如果没有时间列，生成时间戳范围，或者生成固定频率的时间戳数据\n",
    "    datetime : {str} \n",
    "        时间列开始时间，如果time_col为空，需填入此项，格式为%Y-%m-%d %H:%M:%S\n",
    "    freq : {int}\n",
    "        时间序列频率，单位为秒\n",
    "\n",
    "    返回值\n",
    "    -------\n",
    "    data : {DataFrame} of shape (n_samples, n_features)\n",
    "        经过时间序列处理后的数据\n",
    "    \"\"\"\n",
    "    # 读取原始数据\n",
    "    if data_path == None:\n",
    "        if data.empty is True:\n",
    "            raise ValueError(\"data is not exist!\")\n",
    "        else:\n",
    "            data = data\n",
    "    else:\n",
    "        data = pd.read_csv(data_path)\n",
    "\n",
    "    # 时间列处理\n",
    "    if time_col == None:\n",
    "        # 筛选输入频率\n",
    "        re_1 = re.findall('[0-9]', freq)\n",
    "        re_2 = re.findall('[a-z]', freq)\n",
    "        # 识别数字频率\n",
    "        if len(re_1) == 0:\n",
    "            nums = 1\n",
    "        else:\n",
    "            nums = int(''.join(re_1))\n",
    "        # 识别频率\n",
    "        fr = re_2[0]\n",
    "        # 生成时间间隔\n",
    "        if fr == 's':\n",
    "            time_index = pd.date_range(start=pd.to_datetime(datetime),\n",
    "                                       end=pd.to_datetime(datetime) +\n",
    "                                       timedelta(\n",
    "                                           seconds=(data.shape[0] - 1)*nums),\n",
    "                                       freq=freq)\n",
    "        elif fr == 't':\n",
    "            time_index = pd.date_range(start=pd.to_datetime(datetime),\n",
    "                                       end=pd.to_datetime(datetime) +\n",
    "                                       timedelta(\n",
    "                                           minutes=(data.shape[0] - 1)*nums),\n",
    "                                       freq=freq)\n",
    "        elif fr == 'h':\n",
    "            time_index = pd.date_range(start=pd.to_datetime(datetime),\n",
    "                                       end=pd.to_datetime(datetime) +\n",
    "                                       timedelta(\n",
    "                                           hours=(data.shape[0] - 1)*nums),\n",
    "                                       freq=freq)\n",
    "        elif fr == 'd':\n",
    "            time_index = pd.date_range(start=pd.to_datetime(datetime),\n",
    "                                       end=pd.to_datetime(datetime) +\n",
    "                                       timedelta(\n",
    "                                           days=(data.shape[0] - 1)*nums),\n",
    "                                       freq=freq)\n",
    "        full_data = pd.DataFrame(data=data.values,\n",
    "                                 index=pd.to_datetime(time_index, unit=freq),\n",
    "                                 columns=data.columns)\n",
    "    else:\n",
    "        columns = [i for i in data.columns if i != time_col]  # 去除时间列\n",
    "        full_data = pd.DataFrame(data=data.drop([time_col], axis=1).values,\n",
    "                                 index=pd.to_datetime(data[time_col].values),\n",
    "                                 columns=columns)\n",
    "    return full_data"
   ]
  },
  {
   "cell_type": "code",
   "execution_count": 3,
   "id": "25110b7a-4a29-4d00-b9c6-3e7ebe60fd69",
   "metadata": {
    "execution": {
     "iopub.execute_input": "2024-11-04T08:38:55.644846Z",
     "iopub.status.busy": "2024-11-04T08:38:55.643742Z",
     "iopub.status.idle": "2024-11-04T08:38:55.715232Z",
     "shell.execute_reply": "2024-11-04T08:38:55.709422Z",
     "shell.execute_reply.started": "2024-11-04T08:38:55.644846Z"
    }
   },
   "outputs": [],
   "source": [
    "# 时间格式编码\n",
    "def time_features_from_frequency_str(freq_str: str):\n",
    "    \"\"\"\n",
    "    Returns a list of time features that will be appropriate for the given frequency string.\n",
    "    Parameters\n",
    "    ----------\n",
    "    freq_str\n",
    "        Frequency string of the form [multiple][granularity] such as \"12H\", \"5min\", \"1D\" etc.\n",
    "    \"\"\"\n",
    "\n",
    "    class TimeFeature:\n",
    "        def __init__(self):\n",
    "            pass\n",
    "\n",
    "        def __call__(self, index: pd.DatetimeIndex) -> np.ndarray:\n",
    "            pass\n",
    "\n",
    "        def __repr__(self):\n",
    "            return self.__class__.__name__ + \"()\"\n",
    "\n",
    "    class SecondOfMinute(TimeFeature):\n",
    "        \"\"\"Minute of hour encoded as value between [-0.5, 0.5]\"\"\"\n",
    "\n",
    "        def __call__(self, index: pd.DatetimeIndex) -> np.ndarray:\n",
    "            return index.second / 59.0 - 0.5\n",
    "\n",
    "    class MinuteOfHour(TimeFeature):\n",
    "        \"\"\"Minute of hour encoded as value between [-0.5, 0.5]\"\"\"\n",
    "\n",
    "        def __call__(self, index: pd.DatetimeIndex) -> np.ndarray:\n",
    "            return index.minute / 59.0 - 0.5\n",
    "\n",
    "    class HourOfDay(TimeFeature):\n",
    "        \"\"\"Hour of day encoded as value between [-0.5, 0.5]\"\"\"\n",
    "\n",
    "        def __call__(self, index: pd.DatetimeIndex) -> np.ndarray:\n",
    "            return index.hour / 23.0 - 0.5\n",
    "\n",
    "    class DayOfWeek(TimeFeature):\n",
    "        \"\"\"Hour of day encoded as value between [-0.5, 0.5]\"\"\"\n",
    "\n",
    "        def __call__(self, index: pd.DatetimeIndex) -> np.ndarray:\n",
    "            return index.dayofweek / 6.0 - 0.5\n",
    "\n",
    "    class DayOfMonth(TimeFeature):\n",
    "        \"\"\"Day of month encoded as value between [-0.5, 0.5]\"\"\"\n",
    "\n",
    "        def __call__(self, index: pd.DatetimeIndex) -> np.ndarray:\n",
    "            return (index.day - 1) / 30.0 - 0.5\n",
    "\n",
    "    class DayOfYear(TimeFeature):\n",
    "        \"\"\"Day of year encoded as value between [-0.5, 0.5]\"\"\"\n",
    "\n",
    "        def __call__(self, index: pd.DatetimeIndex) -> np.ndarray:\n",
    "            return (index.dayofyear - 1) / 365.0 - 0.5\n",
    "\n",
    "    class MonthOfYear(TimeFeature):\n",
    "        \"\"\"Month of year encoded as value between [-0.5, 0.5]\"\"\"\n",
    "\n",
    "        def __call__(self, index: pd.DatetimeIndex) -> np.ndarray:\n",
    "            return (index.month - 1) / 11.0 - 0.5\n",
    "\n",
    "    class WeekOfYear(TimeFeature):\n",
    "        \"\"\"Week of year encoded as value between [-0.5, 0.5]\"\"\"\n",
    "\n",
    "        def __call__(self, index: pd.DatetimeIndex) -> np.ndarray:\n",
    "            return (index.isocalendar().week - 1) / 52.0 - 0.5\n",
    "\n",
    "    features_by_offsets = {\n",
    "        offsets.YearEnd: [],\n",
    "        offsets.QuarterEnd: [MonthOfYear],\n",
    "        offsets.MonthEnd: [MonthOfYear],\n",
    "        offsets.Week: [DayOfMonth, WeekOfYear],\n",
    "        offsets.Day: [DayOfWeek, DayOfMonth, DayOfYear],\n",
    "        offsets.BusinessDay: [DayOfWeek, DayOfMonth, DayOfYear],\n",
    "        offsets.Hour: [HourOfDay, DayOfWeek, DayOfMonth, DayOfYear],\n",
    "        offsets.Minute: [\n",
    "            MinuteOfHour,\n",
    "            HourOfDay,\n",
    "            DayOfWeek,\n",
    "            DayOfMonth,\n",
    "            DayOfYear,\n",
    "        ],\n",
    "        offsets.Second: [\n",
    "            SecondOfMinute,\n",
    "            MinuteOfHour,\n",
    "            HourOfDay,\n",
    "            DayOfWeek,\n",
    "            DayOfMonth,\n",
    "            DayOfYear,\n",
    "        ],\n",
    "    }\n",
    "\n",
    "    offset = to_offset(freq_str)\n",
    "\n",
    "    for offset_type, feature_classes in features_by_offsets.items():\n",
    "        if isinstance(offset, offset_type):\n",
    "            return [cls() for cls in feature_classes]\n",
    "\n",
    "    supported_freq_msg = f\"\"\"\n",
    "    Unsupported frequency {freq_str}\n",
    "    The following frequencies are supported:\n",
    "        Y   - yearly\n",
    "            alias: A\n",
    "        M   - monthly\n",
    "        W   - weekly\n",
    "        D   - daily\n",
    "        B   - business days\n",
    "        H   - hourly\n",
    "        T   - minutely\n",
    "            alias: min\n",
    "        S   - secondly\n",
    "    \"\"\"\n",
    "    raise RuntimeError(supported_freq_msg)\n",
    "\n",
    "\n",
    "def time_features(dates, freq='h'):\n",
    "    return np.vstack([feat(dates) for feat in time_features_from_frequency_str(freq)])"
   ]
  },
  {
   "cell_type": "code",
   "execution_count": 4,
   "id": "06eec6f3-0492-404f-90cd-76d8e71e71bd",
   "metadata": {
    "execution": {
     "iopub.execute_input": "2024-11-04T08:38:56.538302Z",
     "iopub.status.busy": "2024-11-04T08:38:56.537525Z",
     "iopub.status.idle": "2024-11-04T08:38:56.559182Z",
     "shell.execute_reply": "2024-11-04T08:38:56.558205Z",
     "shell.execute_reply.started": "2024-11-04T08:38:56.538302Z"
    }
   },
   "outputs": [],
   "source": [
    "# 数据集划分\n",
    "def divider(df, train_ratio, valid_ratio, x_feature_list, y_feature_list, freq, scaler_path):\n",
    "    \"\"\"\n",
    "    读取数据，并对数据进行划分\n",
    "\n",
    "    参数说明\n",
    "    ----------\n",
    "    df : {DataFrame} of shape (n_samples, n_features)\n",
    "        输入数据\n",
    "    train_ratio : {float}\n",
    "        用于训练的数据集占比:将数据按照一定比例进行切分，取值范围为(0,1)\n",
    "    valid_ratio : {float}\n",
    "        用于验证的数据集占比:将数据按照一定比例进行切分，取值范围为(0,1)\n",
    "    x_feature_list : {list[str]} \n",
    "        训练特征列，不包含时间列\n",
    "    y_feature_list : {list[str]} \n",
    "        目标特征列，不包含时间列\n",
    "    freq : {str}\n",
    "        用来编码时间特征的频率，可选[s:秒,t:分,h:时,d:天,b:工作日,w:周,m:月]，频率越低，模型可能越精确\n",
    "    scaler_path : {str} \n",
    "        数据归一化模型保存地址\n",
    "\n",
    "    返回值\n",
    "    -------\n",
    "    x_scaler : {sklearn.preprocessing.MinMaxScaler}\n",
    "        训练特征列归一化器\n",
    "    y_scaler : {sklearn.preprocessing.MinMaxScaler}\n",
    "        目标特征列归一化器\n",
    "    train : {list[DataFrame]}\n",
    "        训练特征数据，目标特征数据，时间特征数据\n",
    "    valid : {list[DataFrame]}\n",
    "        验证特征数据，目标特征数据，时间特征数据\n",
    "    test : {list[DataFrame]}\n",
    "        测试特征数据，目标特征数据，时间特征数据\n",
    "    \"\"\"\n",
    "    # 归一化\n",
    "    x_scaler = MinMaxScaler()  # 保证数据同分布\n",
    "    y_scaler = MinMaxScaler()\n",
    "    x_scaler = x_scaler.fit(df.copy()[x_feature_list])\n",
    "    y_scaler = y_scaler.fit(df.copy()[y_feature_list])\n",
    "\n",
    "    # 设置保存归一化参数路径\n",
    "    if not os.path.exists(scaler_path):\n",
    "        os.makedirs(scaler_path)\n",
    "\n",
    "    # 保存归一化参数\n",
    "    joblib.dump(x_scaler, scaler_path + \"/x_scaler.pkl\")\n",
    "    joblib.dump(y_scaler, scaler_path + \"/y_scaler.pkl\")\n",
    "\n",
    "    # 测试集\n",
    "    train = df.copy().iloc[:int(df.shape[0]*train_ratio), :][x_feature_list]\n",
    "    train_stamp = time_features(pd.to_datetime(train.index), freq=freq)\n",
    "    train_stamp = train_stamp.transpose(1, 0)\n",
    "    train[x_feature_list] = x_scaler.transform(train)\n",
    "    xtr = train.values.astype('float32')\n",
    "    ytr = df.copy().iloc[:int(df.shape[0]*train_ratio), :][y_feature_list]\n",
    "    ytr[y_feature_list] = y_scaler.transform(ytr)\n",
    "    ytr = ytr.values.astype('float32')\n",
    "    train = [xtr, ytr, train_stamp]\n",
    "\n",
    "    # 验证集\n",
    "    if train_ratio != 1:\n",
    "        valid = df.copy().iloc[int(df.shape[0]*train_ratio)\n",
    "                        : int(df.shape[0]*(train_ratio+valid_ratio)), :][x_feature_list]\n",
    "        valid_stamp = time_features(pd.to_datetime(valid.index), freq=freq)\n",
    "        valid_stamp = valid_stamp.transpose(1, 0)\n",
    "        valid[x_feature_list] = x_scaler.transform(valid)\n",
    "        xva = valid.values.astype('float32')\n",
    "        yva = df.copy().iloc[int(df.shape[0]*train_ratio)\n",
    "                      : int(df.shape[0]*(train_ratio+valid_ratio)), :][y_feature_list]\n",
    "        yva[y_feature_list] = y_scaler.transform(yva)\n",
    "        yva = yva.values.astype('float32')\n",
    "        valid = [xva, yva, valid_stamp]\n",
    "    else:\n",
    "        valid = [np.array(0), np.array(0), np.array(0)]\n",
    "\n",
    "    # 测试集\n",
    "    if train_ratio + valid_ratio != 1:\n",
    "        test = df.copy().iloc[int(\n",
    "            df.shape[0]*(train_ratio+valid_ratio)):, :][x_feature_list]\n",
    "        test_stamp = time_features(pd.to_datetime(test.index), freq=freq)\n",
    "        test_stamp = test_stamp.transpose(1, 0)\n",
    "        test[x_feature_list] = x_scaler.transform(test)\n",
    "        xte = test.values.astype('float32')\n",
    "        yte = df.copy().iloc[int(\n",
    "            df.shape[0]*(train_ratio+valid_ratio)):, :][y_feature_list]\n",
    "        yte[y_feature_list] = y_scaler.transform(yte)\n",
    "        yte = yte.values.astype('float32')\n",
    "        test = [xte, yte, test_stamp]\n",
    "    else:\n",
    "        test = [np.array(0), np.array(0), np.array(0)]\n",
    "\n",
    "    return x_scaler, y_scaler, train, valid, test"
   ]
  },
  {
   "cell_type": "code",
   "execution_count": 5,
   "id": "7d0f1a7b-6f22-456d-818a-e20074b91b32",
   "metadata": {
    "execution": {
     "iopub.execute_input": "2024-11-04T08:38:57.267913Z",
     "iopub.status.busy": "2024-11-04T08:38:57.265896Z",
     "iopub.status.idle": "2024-11-04T08:38:57.311612Z",
     "shell.execute_reply": "2024-11-04T08:38:57.306833Z",
     "shell.execute_reply.started": "2024-11-04T08:38:57.266956Z"
    }
   },
   "outputs": [],
   "source": [
    "# 利用前seq_len个数据，预测下pred_len个数据\n",
    "def generator(data_list, seq_len, pred_len, label_len, batch_size, sample_freq: int = 1):\n",
    "    \"\"\"\n",
    "    读取数据，并对数据进行划分\n",
    "\n",
    "    参数说明\n",
    "    ----------\n",
    "    data_list : {list[DataFrame]}\n",
    "        输入特征数据，目标特征数据，时间特征数据\n",
    "    seq_len : {int}\n",
    "        输入数据包含过去多少个时间步，正整数\n",
    "    pred_len : {int}\n",
    "        目标应该在未来多少个时间步之后，正整数\n",
    "    label_len : {int} \n",
    "        先验时间步\n",
    "    batch_size : {int} \n",
    "        输入数据的批次大小，正整数\n",
    "    sample_freq : {int} \n",
    "        采样频率，正整数\n",
    "\n",
    "    返回值\n",
    "    -------\n",
    "    X : {torch.Tensor}\n",
    "        特征数据张量\n",
    "    y : {torch.Tensor}\n",
    "        目标数据张量\n",
    "    X_stamp : {torch.Tensor}\n",
    "        特征时间编码张量\n",
    "    y_stamp : {torch.Tensor}\n",
    "        目标时间编码张量\n",
    "    data_loader : {torch.utils.data.dataloader.DataLoader}\n",
    "        数据加载器，[特征，目标，特征时间编码，目标时间编码]\n",
    "    \"\"\"\n",
    "    # 获取数据\n",
    "    feature = data_list[0]  # 特征\n",
    "    target = data_list[1]  # 目标\n",
    "    stamp = data_list[2]  # 时间戳，不包含未来的时间\n",
    "\n",
    "    # 循环生成数据\n",
    "    X, y = [], []\n",
    "    X_stamp, y_stamp = [], []\n",
    "\n",
    "    for index in range(0, len(feature) - seq_len - pred_len + 1, sample_freq):\n",
    "        # 起点\n",
    "        s_begin = index\n",
    "        # 终点(起点 + 回视窗口)\n",
    "        s_end = s_begin + seq_len\n",
    "        # (终点 - 先验序列窗口)\n",
    "        r_begin = s_end - label_len\n",
    "        # (终点 + 预测序列长度)\n",
    "        r_end = r_begin + label_len + pred_len\n",
    "\n",
    "        # 数据维度\n",
    "        feat = feature[s_begin: s_end]\n",
    "        tar = target[r_begin: r_end]\n",
    "        X.append(np.array(feat))\n",
    "        y.append(np.array(tar))\n",
    "\n",
    "        # 时间维度\n",
    "        xs = stamp[s_begin: s_end]\n",
    "        ys = stamp[r_begin: r_end]\n",
    "        X_stamp.append(np.array(xs))\n",
    "        y_stamp.append(np.array(ys))\n",
    "\n",
    "    # 转为张量，数据维度\n",
    "    X = torch.as_tensor(X).float()\n",
    "    y = torch.as_tensor(y).float()\n",
    "\n",
    "    # 转为张量，时间维度\n",
    "    X_stamp = torch.as_tensor(X_stamp).float()\n",
    "    y_stamp = torch.as_tensor(y_stamp).float()\n",
    "\n",
    "    # 创建dataloader，[特征，目标，特征时间编码，目标时间编码]\n",
    "    data_loader = DataLoader(TensorDataset(\n",
    "        X, y, X_stamp, y_stamp), shuffle=True, batch_size=batch_size)\n",
    "\n",
    "    return X, y, X_stamp, y_stamp, data_loader"
   ]
  },
  {
   "cell_type": "markdown",
   "id": "21778c71-2646-4ad7-910d-3c0516b2aae7",
   "metadata": {},
   "source": [
    "### 模型预测"
   ]
  },
  {
   "cell_type": "code",
   "execution_count": 27,
   "id": "7d77b7d9-93cc-43a3-918f-6576454e61b4",
   "metadata": {
    "execution": {
     "iopub.execute_input": "2024-11-04T08:51:12.999430Z",
     "iopub.status.busy": "2024-11-04T08:51:12.997447Z",
     "iopub.status.idle": "2024-11-04T08:51:13.077630Z",
     "shell.execute_reply": "2024-11-04T08:51:13.076272Z",
     "shell.execute_reply.started": "2024-11-04T08:51:12.999430Z"
    }
   },
   "outputs": [],
   "source": [
    "def predict(task_args, predict_args, model_args):\n",
    "    # 参数配置\n",
    "    columns = task_args['columns']\n",
    "    target = task_args['target']\n",
    "    features = task_args['features']\n",
    "    mode = task_args['mode'] # 可选'online'和'offline'\n",
    "    time_col = predict_args['time_col']\n",
    "    freq = predict_args['freq']\n",
    "    model_name = predict_args['model_name']\n",
    "    x_true = predict_args['x_true']\n",
    "    scaler_path = predict_args['scaler_path']\n",
    "    model_path = predict_args['model_path']\n",
    "    device = predict_args['device']  # 可选'cuda'和'cpu'\n",
    "    pred_len = model_args['pred_len']\n",
    "    label_len = model_args['label_len']\n",
    "    seq_len = model_args['seq_len']\n",
    "\n",
    "    # 检查可用device\n",
    "    device = torch.device(device)\n",
    "\n",
    "    # 读取归一化参数\n",
    "    x_scaler = joblib.load(scaler_path + \"/x_scaler.pkl\")\n",
    "    y_scaler = joblib.load(scaler_path + \"/y_scaler.pkl\")\n",
    "\n",
    "    # 加载模型\n",
    "    model = model_name(**model_args)\n",
    "    state_dict = torch.load(model_path, map_location=device)\n",
    "    model.load_state_dict(state_dict)\n",
    "    model = model.to(device)\n",
    "\n",
    "    # 预测模式\n",
    "    if mode == 'online':\n",
    "        # 生成固定长度的时间范围\n",
    "        x_true = loader(data_path=None, data=x_true, time_col=time_col)  # 原始数据\n",
    "        x_true = x_true[columns]\n",
    "        timedelta = x_true.index[-1] - x_true.index[-2]  # 时间差\n",
    "        if label_len != 0:\n",
    "            y_stamp = pd.date_range(start=x_true.index[-label_len],\n",
    "                                    end=x_true.index[-label_len] +\n",
    "                                    timedelta*(label_len+pred_len-1),\n",
    "                                    freq=freq)\n",
    "        else:\n",
    "            y_stamp = pd.date_range(start=x_true.index[-1]+timedelta*(label_len+1),\n",
    "                                    end=x_true.index[-1] +\n",
    "                                    timedelta*(label_len+pred_len),\n",
    "                                    freq=freq)\n",
    "        x_stamp = time_features(pd.to_datetime(x_true.index), freq=freq)  # x时间戳数据\n",
    "        x_stamp = x_stamp.transpose(1, 0)\n",
    "        y_time = y_stamp\n",
    "        y_stamp = time_features(y_stamp, freq=freq)  # y时间戳数据\n",
    "        y_stamp = y_stamp.transpose(1, 0)\n",
    "    \n",
    "        # 转换类型\n",
    "        x_true[columns] = x_scaler.transform(x_true)  # 归一化\n",
    "        x_true = x_true.values.astype('float32')\n",
    "        x_true = torch.as_tensor(x_true).unsqueeze(0).float()  # 转为张量\n",
    "        x_stamp = torch.as_tensor(x_stamp).unsqueeze(0).float()\n",
    "        y_stamp = torch.as_tensor(y_stamp).unsqueeze(0).float()\n",
    "    \n",
    "        # 关闭自动求导功能\n",
    "        model.eval()  # 一定要有\n",
    "        with torch.no_grad():\n",
    "            x_true = x_true.to(device)\n",
    "            x_stamp = x_stamp.to(device)\n",
    "            y_stamp = y_stamp.to(device)\n",
    "            # decoder输入\n",
    "            B, _, _ = x_true.shape\n",
    "            dec_inp = torch.zeros((B, pred_len + label_len, len(target))).float().to(device) # 占位符\n",
    "            y_pred = model(x_true, x_stamp, dec_inp, y_stamp)\n",
    "            y_pred = y_pred.cpu().detach().numpy()\n",
    "            f_dim = -1 if features == 'MS' else 0\n",
    "            y_pred = y_pred[:, -pred_len:, f_dim:]\n",
    "            y_pred = y_scaler.inverse_transform(y_pred[-1, :, :])  # 反归一化\n",
    "    \n",
    "        # 输出为dataframe\n",
    "        y_pred = pd.DataFrame(\n",
    "            data=y_pred, index=y_time[-pred_len:], columns=target)\n",
    "    # 离线模式\n",
    "    else:\n",
    "        # 构造数据集\n",
    "        x_true_ = loader(data_path=None, data=x_true, time_col=time_col)  # 原始数据\n",
    "        time_columns = x_true_.index  # 获取时间列\n",
    "        x_true_ = x_true_.copy()[columns]\n",
    "    \n",
    "        # X时间编码\n",
    "        x_stamp = pd.to_datetime(x_true_.index)\n",
    "        x_stamp = time_features(x_stamp, freq=freq)\n",
    "        x_stamp = x_stamp.transpose(1, 0)\n",
    "    \n",
    "        # y时间编码，包含未来的时间\n",
    "        timedelta = x_true_.index[-1] - x_true_.index[-2]  # 时间差\n",
    "        y_stamp = pd.date_range(start=x_true_.index[0],\n",
    "                                end=x_true_.index[-1] +\n",
    "                                timedelta*(pred_len),\n",
    "                                freq=freq)\n",
    "        y_stamp = time_features(y_stamp, freq=freq)\n",
    "        y_stamp = y_stamp.transpose(1, 0)\n",
    "    \n",
    "        # X归一化\n",
    "        x_true_[columns] = x_scaler.transform(x_true_)\n",
    "        x_true_ = x_true_.values.astype('float32')\n",
    "    \n",
    "        # 生成预测张量\n",
    "        X_true, X_stamp, Y_stamp = [], [], []\n",
    "        sample_freq = 1\n",
    "        for index in range(0, len(x_true) - seq_len + 1, sample_freq):\n",
    "            # 起点\n",
    "            s_begin = index\n",
    "            # 终点(起点 + 回视窗口)\n",
    "            s_end = s_begin + seq_len\n",
    "            # (终点 - 先验序列窗口)\n",
    "            r_begin = s_end - label_len\n",
    "            # (终点 + 预测序列长度)\n",
    "            r_end = r_begin + label_len + pred_len\n",
    "    \n",
    "            # 数据维度\n",
    "            feat = x_true_[s_begin: s_end]\n",
    "            X_true.append(np.array(feat))\n",
    "    \n",
    "            # 时间维度\n",
    "            xs = x_stamp[s_begin: s_end]\n",
    "            ys = y_stamp[r_begin: r_end]\n",
    "            X_stamp.append(np.array(xs))\n",
    "            Y_stamp.append(np.array(ys))\n",
    "        X_true = torch.as_tensor(X_true).float()\n",
    "        X_stamp = torch.as_tensor(X_stamp).float()\n",
    "        Y_stamp = torch.as_tensor(Y_stamp).float()\n",
    "    \n",
    "        # 模型预测\n",
    "        model.eval()\n",
    "        with torch.no_grad():\n",
    "            X_true = X_true.to(device)\n",
    "            X_stamp = X_stamp.to(device)\n",
    "            Y_stamp = Y_stamp.to(device)\n",
    "    \n",
    "            # decoder输入\n",
    "            B, _, _ = X_true.shape\n",
    "            dec_inp = torch.zeros(\n",
    "                (B, pred_len + label_len, len(target))).float().to(device)\n",
    "            y_pred = model(X_true, X_stamp, dec_inp, Y_stamp)\n",
    "            y_pred = y_pred.cpu().detach().numpy()\n",
    "            f_dim = -1 if features == 'MS' else 0\n",
    "            y_pred = y_pred[:, -pred_len:, f_dim:]\n",
    "    \n",
    "        # y_pred的形状为 (batch_size, pred_len, feature_dim)\n",
    "        batch_size, pred_len, feature_dim = y_pred.shape\n",
    "        time_index = time_columns[seq_len-1:]\n",
    "    \n",
    "        # 初始化一个空的 DataFrame，每行是初始时间，每列是递增的预测步\n",
    "        # 列名格式为 target_i，例如 target_1 表示预测步1，target_2 表示预测步2，依此类推\n",
    "        columns = [f\"{t}_{i+1}\" for i in range(pred_len) for t in target]\n",
    "        result_df = pd.DataFrame(index=time_index, columns=columns)\n",
    "    \n",
    "        # 填充 DataFrame，每一行是一个时间点的预测序列\n",
    "        for i in range(batch_size):\n",
    "            # 当前时间点的预测\n",
    "            pred_data = y_scaler.inverse_transform(\n",
    "                y_pred[i, :, :])  # 形状 (pred_len, feature_dim)\n",
    "            pred_flattened = pred_data.flatten()  # 将预测结果展平\n",
    "    \n",
    "            # 将展平的预测步依次填入当前行\n",
    "            result_df.iloc[i] = pred_flattened\n",
    "    \n",
    "        # 将原始数据与预测数据合并输出\n",
    "        result_df = result_df.reset_index().rename(columns={'index': time_col})\n",
    "        select_columns = [time_col] + target\n",
    "        y_pred = pd.merge(x_true[select_columns], result_df, on=time_col, how='left')\n",
    "\n",
    "    return y_pred"
   ]
  },
  {
   "cell_type": "markdown",
   "id": "2ab46e3a-d570-443e-9432-5555925225e0",
   "metadata": {},
   "source": [
    "### 结果分析"
   ]
  },
  {
   "cell_type": "code",
   "execution_count": 28,
   "id": "30ee76ba-c039-47c7-bbc8-74f3cd2e0af0",
   "metadata": {
    "execution": {
     "iopub.execute_input": "2024-11-04T08:51:29.784233Z",
     "iopub.status.busy": "2024-11-04T08:51:29.783230Z",
     "iopub.status.idle": "2024-11-04T08:51:29.796804Z",
     "shell.execute_reply": "2024-11-04T08:51:29.795235Z",
     "shell.execute_reply.started": "2024-11-04T08:51:29.784233Z"
    }
   },
   "outputs": [],
   "source": [
    "# 获取最后一个预测结果\n",
    "def last_prediction(prediction, pred_len, time_col, target):\n",
    "    pre_target = [i+'_'+str(pred_len) for i in target]\n",
    "    prediction_target = prediction[pre_target]\n",
    "    time = prediction[[time_col]]\n",
    "    # 向下平移数据\n",
    "    prediction_shift = prediction_target.shift(pred_len)\n",
    "    prediction_shift.columns = target\n",
    "    # 对齐时间\n",
    "    last_prediction = pd.concat([time, prediction_shift], axis=1)\n",
    "    \n",
    "    return last_prediction"
   ]
  },
  {
   "cell_type": "code",
   "execution_count": 29,
   "id": "01f7b475-f764-4e45-a423-41c5c2dd25a2",
   "metadata": {
    "execution": {
     "iopub.execute_input": "2024-11-04T08:51:37.073852Z",
     "iopub.status.busy": "2024-11-04T08:51:37.071197Z",
     "iopub.status.idle": "2024-11-04T08:51:37.112561Z",
     "shell.execute_reply": "2024-11-04T08:51:37.110554Z",
     "shell.execute_reply.started": "2024-11-04T08:51:37.073640Z"
    }
   },
   "outputs": [],
   "source": [
    "# 计算评估指标\n",
    "def score(x1: pd.DataFrame,\n",
    "          x2: pd.DataFrame,\n",
    "          time_col: Union[str, None] = None,\n",
    "          eval_metrics: str = 'rmse') -> float:\n",
    "    \"\"\"\n",
    "    计算评估指标\n",
    "\n",
    "    参数说明\n",
    "    ----------\n",
    "    x1 : {DataFrame} of shape (n_samples, n_features)\n",
    "        输入数据\n",
    "    x2 : {DataFrame} of shape (n_samples, n_features)\n",
    "        预测数据\n",
    "    time_col : {str}\n",
    "        时间标签，如果为None，默认数据中不含时间特征\n",
    "    eval_metrics : {str}\n",
    "        评估指标值，可选'r2'和'rmse'\n",
    "\n",
    "    返回值\n",
    "    -------\n",
    "    eval_value : {float}\n",
    "        评估值\n",
    "    \"\"\"\n",
    "    # 规范化数据\n",
    "    x1 = x1.reset_index(drop=True)\n",
    "    x2 = x2.reset_index(drop=True)\n",
    "\n",
    "    # 选取时间列\n",
    "    if time_col != None:\n",
    "        no_time_cols = [i for i in x1.columns if i != time_col]\n",
    "        x1[time_col] = pd.to_datetime(x1[time_col])\n",
    "        x1_no_time = x1.loc[:, no_time_cols].values.astype('float32')\n",
    "        x2[time_col] = pd.to_datetime(x2[time_col])\n",
    "        x2_no_time = x2.loc[:, no_time_cols].values.astype('float32')\n",
    "    else:\n",
    "        x1_no_time = x1.values.astype('float32')\n",
    "        x2_no_time = x2.values.astype('float32')\n",
    "\n",
    "    # 缺失值删除\n",
    "    x1_not_nan_index = np.where(~np.isnan(x1_no_time))[0]\n",
    "    x2_not_nan_index = np.where(~np.isnan(x2_no_time))[0]\n",
    "    not_nan_index = list(set(x1_not_nan_index) & set(x2_not_nan_index))\n",
    "    x1_not_nan = x1_no_time[not_nan_index]\n",
    "    x2_not_nan = x2_no_time[not_nan_index]\n",
    "\n",
    "    # 计算评估指标\n",
    "    if eval_metrics == 'r2':\n",
    "        eval_value = r2_score(x1_not_nan, x2_not_nan)\n",
    "    elif eval_metrics == 'rmse':\n",
    "        eval_value = np.sqrt(mean_squared_error(x1_not_nan, x2_not_nan))\n",
    "\n",
    "    return round(eval_value, 3)"
   ]
  },
  {
   "cell_type": "code",
   "execution_count": 30,
   "id": "e1d2c412-c53e-40d7-9ea5-e13c5e9beb0c",
   "metadata": {
    "execution": {
     "iopub.execute_input": "2024-11-04T08:51:51.104411Z",
     "iopub.status.busy": "2024-11-04T08:51:51.103871Z",
     "iopub.status.idle": "2024-11-04T08:51:51.130485Z",
     "shell.execute_reply": "2024-11-04T08:51:51.129473Z",
     "shell.execute_reply.started": "2024-11-04T08:51:51.104411Z"
    }
   },
   "outputs": [],
   "source": [
    "# 绘制子图\n",
    "def __axs_plot(axs: ndarray,\n",
    "               nums: int,\n",
    "               x_in: DataFrame,\n",
    "               x_out: DataFrame,\n",
    "               time_col: Union[str, None],\n",
    "               x_time: ndarray,\n",
    "               y_label: str,\n",
    "               threshold: float = 0.05):\n",
    "    \"\"\"\n",
    "    绘制子图函数\n",
    "\n",
    "    参数说明\n",
    "    ----------\n",
    "    axs : {numpy.ndarray}\n",
    "        绘图示例\n",
    "    nums : {int}\n",
    "        绘制子图的个数\n",
    "    x_in : {DataFrame} of shape (n_samples, n_features)\n",
    "        实际值\n",
    "    x_out : {DataFrame} of shape (n_samples, n_features)\n",
    "        预测值\n",
    "    time_col : {str}\n",
    "        时间列\n",
    "    x_time : {numpy.ndarray}\n",
    "        x轴的值\n",
    "    y_label : {str}\n",
    "        y轴标签\n",
    "    threshold : {float}\n",
    "        超限阈值比例\n",
    "\n",
    "    返回值\n",
    "    -------\n",
    "    None\n",
    "    \"\"\"\n",
    "    if nums > 1:\n",
    "        for nn, ax in enumerate(axs):\n",
    "            true = x_in.iloc[:, nn].values.astype(\"float\")\n",
    "            predict = x_out.iloc[:, nn].values.astype(\"float\")\n",
    "            # 选择数据，同一张子图需要绘制实际值和预测值曲线\n",
    "            ax.plot(x_time, true)\n",
    "            ax.plot(x_time, predict)\n",
    "            # 绘制x轴标签\n",
    "            if nn == nums - 1:\n",
    "                ax.set_xlabel(time_col, fontsize=14)\n",
    "            # 绘制y轴标签\n",
    "            ax.set_ylabel('value', fontsize=14)\n",
    "            # 绘制预测阈值带（安全范围的区间）\n",
    "            ax.fill_between(x_time,\n",
    "                            predict - predict * threshold,\n",
    "                            predict + predict * threshold,\n",
    "                            facecolor='red',\n",
    "                            alpha=0.3)\n",
    "            # 绘制图例\n",
    "            rmse = round(score(pd.DataFrame(true), pd.DataFrame(predict)), 3)\n",
    "            ax.legend([\n",
    "                y_label[nn] + \" 原始值\", y_label[nn] + \" 预测值\" +\n",
    "                \" rmse: \" + str(rmse),\n",
    "                y_label[nn] + \" 预警区间\"\n",
    "            ])\n",
    "            # x轴文字旋转方向\n",
    "            for xtick in ax.get_xticklabels():\n",
    "                xtick.set_rotation(45)\n",
    "    else:\n",
    "        # 选择数据，同一张子图需要绘制实际值和预测值曲线\n",
    "        if type(y_label) == list:\n",
    "            y_label = y_label[0]\n",
    "        true = x_in[y_label].values.astype(\"float\").reshape((-1, ))\n",
    "        predict = x_out[y_label].values.astype(\"float\").reshape((-1, ))\n",
    "        axs.plot(x_time, true)\n",
    "        axs.plot(x_time, predict)\n",
    "        # 绘制x轴标签\n",
    "        axs.set_xlabel(time_col, fontsize=14)\n",
    "        # 绘制y轴标签\n",
    "        axs.set_ylabel('value', fontsize=14)\n",
    "        # 绘制预测阈值带（安全范围的区间）\n",
    "        axs.fill_between(x_time,\n",
    "                         predict - predict * threshold,\n",
    "                         predict + predict * threshold,\n",
    "                         facecolor='red',\n",
    "                         alpha=0.3)\n",
    "        # 绘制图例\n",
    "        rmse = round(score(pd.DataFrame(true), pd.DataFrame(predict)), 3)\n",
    "        axs.legend([\n",
    "            y_label + \" 原始值\", y_label + \" 预测值\" +\n",
    "            \" rmse: \" + str(rmse),\n",
    "            y_label + \" 预警区间\"\n",
    "        ])\n",
    "        # x轴文字旋转方向\n",
    "        for xtick in axs.get_xticklabels():\n",
    "            xtick.set_rotation(45)\n",
    "\n",
    "    return 0\n",
    "\n",
    "\n",
    "# 绘制曲线\n",
    "def plot(x_in: DataFrame,\n",
    "         x_out: DataFrame,\n",
    "         time_col: Union[str, None] = None,\n",
    "         plot_cols: Union[List[str], None] = None,\n",
    "         threshold: float = 0.05) -> None:\n",
    "    \"\"\"\n",
    "    绘制实际值和预测值曲线\n",
    "\n",
    "    参数说明\n",
    "    ----------\n",
    "    x_in : {DataFrame} of shape (n_samples, n_features)\n",
    "        输入数据\n",
    "    x_out : {DataFrame} of shape (n_samples, n_features)\n",
    "        预测数据\n",
    "    time_col : {str}\n",
    "        时间标签，如果为None，默认数据中不含时间特征\n",
    "    plot_cols : {Union[List[str], None]}\n",
    "        需要绘制的特征列，如果为None，默认不绘制\n",
    "    threshold : {float}\n",
    "        预警阈值比例\n",
    "\n",
    "    返回值\n",
    "    -------\n",
    "    None\n",
    "    \"\"\"\n",
    "    # 选择数据\n",
    "    if plot_cols == None:\n",
    "        raise ValueError('请选择需要绘制的点，不能为空！')\n",
    "    no_time_cols = [i for i in plot_cols if i != time_col]\n",
    "    x_in[time_col] = pd.to_datetime(x_in[time_col])\n",
    "    x_time = x_in[time_col]\n",
    "    x_in = x_in[no_time_cols]\n",
    "    x_out = x_out[no_time_cols]\n",
    "\n",
    "    # 子图个数\n",
    "    axs_nums = len(no_time_cols)\n",
    "\n",
    "    # 分成左右两块画布\n",
    "    if axs_nums > 1 and axs_nums % 2 == 0:\n",
    "        # 左右子图个数\n",
    "        axsLeft_nums = axsRight_nums = int(axs_nums / 2)\n",
    "        # 创建画布，支持左右布局\n",
    "        fig = plt.figure(constrained_layout=True,\n",
    "                         figsize=(20, 4 * axsLeft_nums))\n",
    "        subfigs = fig.subfigures(1, 2, wspace=0.07)\n",
    "        # 左子图\n",
    "        axsLeft = subfigs[0].subplots(axsLeft_nums, 1, sharex=True)\n",
    "        __axs_plot(axsLeft, axsLeft_nums, x_in.iloc[:, :axsLeft_nums],\n",
    "                   x_out.iloc[:, :axsLeft_nums], time_col, x_time,\n",
    "                   no_time_cols[:axsLeft_nums], threshold)\n",
    "        # 右子图\n",
    "        axsRight = subfigs[1].subplots(axsRight_nums, 1, sharex=True)\n",
    "        __axs_plot(axsRight, axsRight_nums, x_in.iloc[:, axsRight_nums:],\n",
    "                   x_out.iloc[:, axsRight_nums:], time_col, x_time,\n",
    "                   no_time_cols[axsRight_nums:], threshold)\n",
    "        # 绘制表头\n",
    "        fig.suptitle('预警曲线', fontsize=14)\n",
    "    else:\n",
    "        # 创建画布，支持单一画布\n",
    "        if axs_nums == 1:\n",
    "            no_time_cols = no_time_cols[0]\n",
    "        fig = plt.figure(constrained_layout=True, figsize=(10, 4 * axs_nums))\n",
    "        axs = fig.subplots(axs_nums, 1, sharex=True)\n",
    "        __axs_plot(axs, axs_nums, x_in, x_out, time_col, x_time, no_time_cols,\n",
    "                   threshold)\n",
    "        # 绘制表头\n",
    "        fig.suptitle('预警曲线', fontsize=14)\n",
    "    plt.show()\n",
    "\n",
    "    return 0"
   ]
  },
  {
   "cell_type": "code",
   "execution_count": 31,
   "id": "cb314b0a-2b01-4f83-9921-b9b126bbbd9b",
   "metadata": {
    "execution": {
     "iopub.execute_input": "2024-11-04T08:52:05.564264Z",
     "iopub.status.busy": "2024-11-04T08:52:05.563914Z",
     "iopub.status.idle": "2024-11-04T08:52:05.584977Z",
     "shell.execute_reply": "2024-11-04T08:52:05.583927Z",
     "shell.execute_reply.started": "2024-11-04T08:52:05.564264Z"
    }
   },
   "outputs": [],
   "source": [
    "def __warning(data, width_threshold, false_size):\n",
    "    \"\"\"\n",
    "    width_threshold：滑动窗口长度\n",
    "    false_size：超限次数\n",
    "    \"\"\"\n",
    "    slide = data.rolling(window=width_threshold).sum()\n",
    "    slide[slide >= false_size] = 1\n",
    "    slide[slide < false_size] = 0\n",
    "    slide[slide.isna()] = 0\n",
    "\n",
    "    return slide\n",
    "\n",
    "\n",
    "def output(x_in: DataFrame,\n",
    "           x_out: DataFrame,\n",
    "           time_col: Union[str, None] = None,\n",
    "           threshold: float = 0.05,\n",
    "           is_real_time_warning: bool = False):\n",
    "    \"\"\"\n",
    "    结果合并输出，包含实际值、预测值、预警结果\n",
    "\n",
    "    参数说明\n",
    "    ----------\n",
    "    x_in : {DataFrame} of shape (n_samples, n_features)\n",
    "        实际数据\n",
    "    x_out : {DataFrame} of shape (n_samples, n_features)\n",
    "        预测数据\n",
    "    time_col : {str}\n",
    "        时间标签，如果为None，默认数据中不含时间特征\n",
    "    threshold : {float}\n",
    "        预警阈值比例\n",
    "    is_real_time_warning: {bool}\n",
    "        是否输出预警结果\n",
    "\n",
    "    返回值\n",
    "    -------\n",
    "    x_out : {DataFrame} of shape (n_samples, n_features)\n",
    "        合并结果数据\n",
    "    \"\"\"\n",
    "    # 规范化列\n",
    "    x_in = x_in.reset_index(drop=True)\n",
    "    x_out = x_out.reset_index(drop=True)\n",
    "    if time_col != None:\n",
    "        x_time = x_in[[time_col]]\n",
    "        x_in = x_in.drop(time_col, axis=1)\n",
    "        x_out = x_out.drop(time_col, axis=1)\n",
    "    x_cols = x_in.columns  # 实际列\n",
    "    x_cols_prediction = [i + '_prediction' for i in x_cols]  # 预测列\n",
    "    x_cols_warning = [i + '_warning_label' for i in x_cols]  # 残差列\n",
    "\n",
    "    # 阈值规则\n",
    "    x_high = x_out + x_out * threshold\n",
    "    x_low = x_out - x_out * threshold\n",
    "    # print(x_in.columns)\n",
    "\n",
    "    # 预警判定\n",
    "    x_warning = pd.DataFrame(data=np.zeros(x_in.shape), columns=x_cols_warning)\n",
    "    for i in range(x_high.shape[0]):\n",
    "        for j in range(x_high.shape[1]):\n",
    "            value = 1 if (x_in.iloc[i, j] > x_high.iloc[i, j]) or (\n",
    "                x_in.iloc[i, j] < x_low.iloc[i, j]) else 0\n",
    "            x_warning.iloc[i, j] = value\n",
    "    if not is_real_time_warning:\n",
    "        x_warning = __warning(x_warning, 10, 8)\n",
    "    x_prediction = pd.DataFrame(data=x_out.loc[:, x_cols].values,\n",
    "                                columns=x_cols_prediction)\n",
    "    \n",
    "    # 合并输出\n",
    "    if time_col != None:\n",
    "        x_out = pd.concat([x_time, x_in, x_prediction, x_warning], axis=1)\n",
    "    else:\n",
    "        x_out = pd.concat([x_in, x_prediction, x_warning], axis=1)\n",
    "    print('合并输出为：{0}'.format(x_out))\n",
    "\n",
    "    return x_out"
   ]
  },
  {
   "cell_type": "markdown",
   "id": "86770a3f",
   "metadata": {
    "slideshow": {
     "slide_type": ""
    },
    "tags": []
   },
   "source": [
    "# 迁移学习"
   ]
  },
  {
   "cell_type": "markdown",
   "id": "9ef2e552-9a49-4ed3-a6a9-aad6d008bbd7",
   "metadata": {},
   "source": [
    "迁移学习主要为两个模块：\n",
    "- 模型微调（Fine-tuning）：这是对预训练模型的一种调整方式，主要是在预训练模型的基础上，根据新任务的需求对模型进行细微的参数更新。通常只在**模型的后几层上微调**，或者在新任务上用较小的学习率重新训练整个模型。\n",
    "\n",
    "- 模型扩展（Model Extension）：这种方法通常是直接在**预训练模型的后面增加新层**，以适应新任务。例如，在分类模型上扩展新的全连接层、分支结构，或者在自定义模型中增加新的网络结构。扩展后的模型通常可以适应更复杂的任务需求，比如多任务学习、多分支输出等。\n",
    "\n",
    "总结\n",
    "- 微调主要是指对现有的预训练权重进行小幅度调整。\n",
    "- 扩展则是在原有模型结构上增加新层或分支，使模型具备新的功能或适应新的任务。"
   ]
  },
  {
   "cell_type": "markdown",
   "id": "c4987fdb",
   "metadata": {},
   "source": [
    "## 模型微调"
   ]
  },
  {
   "cell_type": "markdown",
   "id": "7dbb3076",
   "metadata": {},
   "source": [
    "### 加载预训练模型"
   ]
  },
  {
   "cell_type": "code",
   "execution_count": 50,
   "id": "55ea9f8b",
   "metadata": {
    "ExecuteTime": {
     "end_time": "2024-01-11T02:51:12.283168Z",
     "start_time": "2024-01-11T02:51:12.277187Z"
    },
    "execution": {
     "iopub.execute_input": "2024-11-04T03:10:23.795429Z",
     "iopub.status.busy": "2024-11-04T03:10:23.794434Z",
     "iopub.status.idle": "2024-11-04T03:10:25.045025Z",
     "shell.execute_reply": "2024-11-04T03:10:25.044114Z",
     "shell.execute_reply.started": "2024-11-04T03:10:23.795429Z"
    }
   },
   "outputs": [
    {
     "data": {
      "text/plain": [
       "<All keys matched successfully>"
      ]
     },
     "execution_count": 50,
     "metadata": {},
     "output_type": "execute_result"
    }
   ],
   "source": [
    "# 定义预训练模型\n",
    "import sys\n",
    "path = '../scripts/Transformer/'  # 项目所在文件夹\n",
    "sys.path.insert(0, path)\n",
    "\n",
    "# 加载模型\n",
    "from Transformer import Transformer\n",
    "model_args = {\n",
    "    'seq_len': 60,\n",
    "    'pred_len': 3,\n",
    "    'label_len': 10,\n",
    "    'output_attention': True,\n",
    "    'embed': 'timeF', \n",
    "    'freq': 'h',\n",
    "    'd_model': 512,\n",
    "    'enc_in': 2,\n",
    "    'dec_in': 2,\n",
    "    'dropout': 0.1,\n",
    "    'factor': 3,\n",
    "    'n_heads': 8,\n",
    "    'd_ff': 128,\n",
    "    'e_layers': 2,\n",
    "    'd_layers': 2,\n",
    "    'c_out': 2\n",
    "}\n",
    "pretrained_model = Transformer(**model_args)  # 定义模型实例\n",
    "model_path = '../outputs/best_models/Transformer/checkpoint.pth'\n",
    "pretrained_model.load_state_dict(torch.load(model_path))  # 加载模型权重"
   ]
  },
  {
   "cell_type": "markdown",
   "id": "abbcb85a",
   "metadata": {},
   "source": [
    "### 修改模型架构"
   ]
  },
  {
   "cell_type": "markdown",
   "id": "1905a5ae",
   "metadata": {},
   "source": [
    "#### 冻结层"
   ]
  },
  {
   "cell_type": "markdown",
   "id": "25ac3c32-2c25-4159-9a27-602d133cb558",
   "metadata": {},
   "source": [
    "冻结模型中的部分层通常用于迁移学习，目的是保留预训练的权重而不进行更新。您可以选择冻结模型的某些层，而仅训练其他层，以减少计算开销或防止过拟合。\n",
    "\n",
    "在 PyTorch 中，冻结层的方法如下：\n",
    "- 遍历模型的参数：通过设置特定层的 requires_grad 属性为 False 来冻结它们。\n",
    "- 分层次地解冻：对于有些模型架构（如 Transformer 或 CNN），可以按层组或模块逐步解冻。\n",
    "\n",
    "冻结的策略\n",
    "- 冻结底层，训练顶层：通常情况下，可以冻结模型的底层（靠近输入的层），并只训练靠近输出的顶层，以充分利用预训练的特征。\n",
    "- 逐层解冻：可以首先冻结大部分层，然后逐层解冻，这种方式适用于需要逐步微调模型的场景。"
   ]
  },
  {
   "cell_type": "code",
   "execution_count": 51,
   "id": "05d6acc7",
   "metadata": {
    "ExecuteTime": {
     "end_time": "2024-01-11T02:51:37.468714Z",
     "start_time": "2024-01-11T02:51:37.464153Z"
    },
    "execution": {
     "iopub.execute_input": "2024-11-04T03:10:29.446707Z",
     "iopub.status.busy": "2024-11-04T03:10:29.446179Z",
     "iopub.status.idle": "2024-11-04T03:10:29.467093Z",
     "shell.execute_reply": "2024-11-04T03:10:29.465925Z",
     "shell.execute_reply.started": "2024-11-04T03:10:29.446707Z"
    },
    "scrolled": true
   },
   "outputs": [
    {
     "name": "stdout",
     "output_type": "stream",
     "text": [
      "enc_embedding.value_embedding.tokenConv.weight: True\n",
      "enc_embedding.temporal_embedding.embed.weight: True\n",
      "encoder.attn_layers.0.attention.query_projection.weight: True\n",
      "encoder.attn_layers.0.attention.query_projection.bias: True\n",
      "encoder.attn_layers.0.attention.key_projection.weight: True\n",
      "encoder.attn_layers.0.attention.key_projection.bias: True\n",
      "encoder.attn_layers.0.attention.value_projection.weight: True\n",
      "encoder.attn_layers.0.attention.value_projection.bias: True\n",
      "encoder.attn_layers.0.attention.out_projection.weight: True\n",
      "encoder.attn_layers.0.attention.out_projection.bias: True\n",
      "encoder.attn_layers.0.conv1.weight: True\n",
      "encoder.attn_layers.0.conv1.bias: True\n",
      "encoder.attn_layers.0.conv2.weight: True\n",
      "encoder.attn_layers.0.conv2.bias: True\n",
      "encoder.attn_layers.0.norm1.weight: True\n",
      "encoder.attn_layers.0.norm1.bias: True\n",
      "encoder.attn_layers.0.norm2.weight: True\n",
      "encoder.attn_layers.0.norm2.bias: True\n",
      "encoder.attn_layers.1.attention.query_projection.weight: True\n",
      "encoder.attn_layers.1.attention.query_projection.bias: True\n",
      "encoder.attn_layers.1.attention.key_projection.weight: True\n",
      "encoder.attn_layers.1.attention.key_projection.bias: True\n",
      "encoder.attn_layers.1.attention.value_projection.weight: True\n",
      "encoder.attn_layers.1.attention.value_projection.bias: True\n",
      "encoder.attn_layers.1.attention.out_projection.weight: True\n",
      "encoder.attn_layers.1.attention.out_projection.bias: True\n",
      "encoder.attn_layers.1.conv1.weight: True\n",
      "encoder.attn_layers.1.conv1.bias: True\n",
      "encoder.attn_layers.1.conv2.weight: True\n",
      "encoder.attn_layers.1.conv2.bias: True\n",
      "encoder.attn_layers.1.norm1.weight: True\n",
      "encoder.attn_layers.1.norm1.bias: True\n",
      "encoder.attn_layers.1.norm2.weight: True\n",
      "encoder.attn_layers.1.norm2.bias: True\n",
      "encoder.norm.weight: True\n",
      "encoder.norm.bias: True\n",
      "dec_embedding.value_embedding.tokenConv.weight: True\n",
      "dec_embedding.temporal_embedding.embed.weight: True\n",
      "decoder.layers.0.self_attention.query_projection.weight: True\n",
      "decoder.layers.0.self_attention.query_projection.bias: True\n",
      "decoder.layers.0.self_attention.key_projection.weight: True\n",
      "decoder.layers.0.self_attention.key_projection.bias: True\n",
      "decoder.layers.0.self_attention.value_projection.weight: True\n",
      "decoder.layers.0.self_attention.value_projection.bias: True\n",
      "decoder.layers.0.self_attention.out_projection.weight: True\n",
      "decoder.layers.0.self_attention.out_projection.bias: True\n",
      "decoder.layers.0.cross_attention.query_projection.weight: True\n",
      "decoder.layers.0.cross_attention.query_projection.bias: True\n",
      "decoder.layers.0.cross_attention.key_projection.weight: True\n",
      "decoder.layers.0.cross_attention.key_projection.bias: True\n",
      "decoder.layers.0.cross_attention.value_projection.weight: True\n",
      "decoder.layers.0.cross_attention.value_projection.bias: True\n",
      "decoder.layers.0.cross_attention.out_projection.weight: True\n",
      "decoder.layers.0.cross_attention.out_projection.bias: True\n",
      "decoder.layers.0.conv1.weight: True\n",
      "decoder.layers.0.conv1.bias: True\n",
      "decoder.layers.0.conv2.weight: True\n",
      "decoder.layers.0.conv2.bias: True\n",
      "decoder.layers.0.norm1.weight: True\n",
      "decoder.layers.0.norm1.bias: True\n",
      "decoder.layers.0.norm2.weight: True\n",
      "decoder.layers.0.norm2.bias: True\n",
      "decoder.layers.0.norm3.weight: True\n",
      "decoder.layers.0.norm3.bias: True\n",
      "decoder.layers.1.self_attention.query_projection.weight: True\n",
      "decoder.layers.1.self_attention.query_projection.bias: True\n",
      "decoder.layers.1.self_attention.key_projection.weight: True\n",
      "decoder.layers.1.self_attention.key_projection.bias: True\n",
      "decoder.layers.1.self_attention.value_projection.weight: True\n",
      "decoder.layers.1.self_attention.value_projection.bias: True\n",
      "decoder.layers.1.self_attention.out_projection.weight: True\n",
      "decoder.layers.1.self_attention.out_projection.bias: True\n",
      "decoder.layers.1.cross_attention.query_projection.weight: True\n",
      "decoder.layers.1.cross_attention.query_projection.bias: True\n",
      "decoder.layers.1.cross_attention.key_projection.weight: True\n",
      "decoder.layers.1.cross_attention.key_projection.bias: True\n",
      "decoder.layers.1.cross_attention.value_projection.weight: True\n",
      "decoder.layers.1.cross_attention.value_projection.bias: True\n",
      "decoder.layers.1.cross_attention.out_projection.weight: True\n",
      "decoder.layers.1.cross_attention.out_projection.bias: True\n",
      "decoder.layers.1.conv1.weight: True\n",
      "decoder.layers.1.conv1.bias: True\n",
      "decoder.layers.1.conv2.weight: True\n",
      "decoder.layers.1.conv2.bias: True\n",
      "decoder.layers.1.norm1.weight: True\n",
      "decoder.layers.1.norm1.bias: True\n",
      "decoder.layers.1.norm2.weight: True\n",
      "decoder.layers.1.norm2.bias: True\n",
      "decoder.layers.1.norm3.weight: True\n",
      "decoder.layers.1.norm3.bias: True\n",
      "decoder.norm.weight: True\n",
      "decoder.norm.bias: True\n",
      "decoder.projection.weight: True\n",
      "decoder.projection.bias: True\n"
     ]
    }
   ],
   "source": [
    "# 输出模型参数的 requires_grad 属性\n",
    "for name, param in pretrained_model.named_parameters():\n",
    "    print(f\"{name}: {param.requires_grad}\")"
   ]
  },
  {
   "cell_type": "code",
   "execution_count": 52,
   "id": "616b49fc-a724-4d0e-9a4c-f042ccb5a079",
   "metadata": {
    "execution": {
     "iopub.execute_input": "2024-11-04T03:10:30.148347Z",
     "iopub.status.busy": "2024-11-04T03:10:30.147396Z",
     "iopub.status.idle": "2024-11-04T03:10:30.168331Z",
     "shell.execute_reply": "2024-11-04T03:10:30.167383Z",
     "shell.execute_reply.started": "2024-11-04T03:10:30.148347Z"
    },
    "scrolled": true
   },
   "outputs": [
    {
     "name": "stdout",
     "output_type": "stream",
     "text": [
      "encoder.attn_layers.0.attention.query_projection.weight has been frozen.\n",
      "encoder.attn_layers.0.attention.query_projection.bias has been frozen.\n",
      "encoder.attn_layers.0.attention.key_projection.weight has been frozen.\n",
      "encoder.attn_layers.0.attention.key_projection.bias has been frozen.\n",
      "encoder.attn_layers.0.attention.value_projection.weight has been frozen.\n",
      "encoder.attn_layers.0.attention.value_projection.bias has been frozen.\n",
      "encoder.attn_layers.0.attention.out_projection.weight has been frozen.\n",
      "encoder.attn_layers.0.attention.out_projection.bias has been frozen.\n",
      "encoder.attn_layers.0.conv1.weight has been frozen.\n",
      "encoder.attn_layers.0.conv1.bias has been frozen.\n",
      "encoder.attn_layers.0.conv2.weight has been frozen.\n",
      "encoder.attn_layers.0.conv2.bias has been frozen.\n",
      "encoder.attn_layers.0.norm1.weight has been frozen.\n",
      "encoder.attn_layers.0.norm1.bias has been frozen.\n",
      "encoder.attn_layers.0.norm2.weight has been frozen.\n",
      "encoder.attn_layers.0.norm2.bias has been frozen.\n",
      "encoder.attn_layers.1.attention.query_projection.weight has been frozen.\n",
      "encoder.attn_layers.1.attention.query_projection.bias has been frozen.\n",
      "encoder.attn_layers.1.attention.key_projection.weight has been frozen.\n",
      "encoder.attn_layers.1.attention.key_projection.bias has been frozen.\n",
      "encoder.attn_layers.1.attention.value_projection.weight has been frozen.\n",
      "encoder.attn_layers.1.attention.value_projection.bias has been frozen.\n",
      "encoder.attn_layers.1.attention.out_projection.weight has been frozen.\n",
      "encoder.attn_layers.1.attention.out_projection.bias has been frozen.\n",
      "encoder.attn_layers.1.conv1.weight has been frozen.\n",
      "encoder.attn_layers.1.conv1.bias has been frozen.\n",
      "encoder.attn_layers.1.conv2.weight has been frozen.\n",
      "encoder.attn_layers.1.conv2.bias has been frozen.\n",
      "encoder.attn_layers.1.norm1.weight has been frozen.\n",
      "encoder.attn_layers.1.norm1.bias has been frozen.\n",
      "encoder.attn_layers.1.norm2.weight has been frozen.\n",
      "encoder.attn_layers.1.norm2.bias has been frozen.\n",
      "encoder.norm.weight has been frozen.\n",
      "encoder.norm.bias has been frozen.\n",
      "decoder.layers.0.self_attention.query_projection.weight has been frozen.\n",
      "decoder.layers.0.self_attention.query_projection.bias has been frozen.\n",
      "decoder.layers.0.self_attention.key_projection.weight has been frozen.\n",
      "decoder.layers.0.self_attention.key_projection.bias has been frozen.\n",
      "decoder.layers.0.self_attention.value_projection.weight has been frozen.\n",
      "decoder.layers.0.self_attention.value_projection.bias has been frozen.\n",
      "decoder.layers.0.self_attention.out_projection.weight has been frozen.\n",
      "decoder.layers.0.self_attention.out_projection.bias has been frozen.\n",
      "decoder.layers.0.cross_attention.query_projection.weight has been frozen.\n",
      "decoder.layers.0.cross_attention.query_projection.bias has been frozen.\n",
      "decoder.layers.0.cross_attention.key_projection.weight has been frozen.\n",
      "decoder.layers.0.cross_attention.key_projection.bias has been frozen.\n",
      "decoder.layers.0.cross_attention.value_projection.weight has been frozen.\n",
      "decoder.layers.0.cross_attention.value_projection.bias has been frozen.\n",
      "decoder.layers.0.cross_attention.out_projection.weight has been frozen.\n",
      "decoder.layers.0.cross_attention.out_projection.bias has been frozen.\n",
      "decoder.layers.0.conv1.weight has been frozen.\n",
      "decoder.layers.0.conv1.bias has been frozen.\n",
      "decoder.layers.0.conv2.weight has been frozen.\n",
      "decoder.layers.0.conv2.bias has been frozen.\n",
      "decoder.layers.0.norm1.weight has been frozen.\n",
      "decoder.layers.0.norm1.bias has been frozen.\n",
      "decoder.layers.0.norm2.weight has been frozen.\n",
      "decoder.layers.0.norm2.bias has been frozen.\n",
      "decoder.layers.0.norm3.weight has been frozen.\n",
      "decoder.layers.0.norm3.bias has been frozen.\n",
      "decoder.layers.1.self_attention.query_projection.weight has been frozen.\n",
      "decoder.layers.1.self_attention.query_projection.bias has been frozen.\n",
      "decoder.layers.1.self_attention.key_projection.weight has been frozen.\n",
      "decoder.layers.1.self_attention.key_projection.bias has been frozen.\n",
      "decoder.layers.1.self_attention.value_projection.weight has been frozen.\n",
      "decoder.layers.1.self_attention.value_projection.bias has been frozen.\n",
      "decoder.layers.1.self_attention.out_projection.weight has been frozen.\n",
      "decoder.layers.1.self_attention.out_projection.bias has been frozen.\n",
      "decoder.layers.1.cross_attention.query_projection.weight has been frozen.\n",
      "decoder.layers.1.cross_attention.query_projection.bias has been frozen.\n",
      "decoder.layers.1.cross_attention.key_projection.weight has been frozen.\n",
      "decoder.layers.1.cross_attention.key_projection.bias has been frozen.\n",
      "decoder.layers.1.cross_attention.value_projection.weight has been frozen.\n",
      "decoder.layers.1.cross_attention.value_projection.bias has been frozen.\n",
      "decoder.layers.1.cross_attention.out_projection.weight has been frozen.\n",
      "decoder.layers.1.cross_attention.out_projection.bias has been frozen.\n",
      "decoder.layers.1.conv1.weight has been frozen.\n",
      "decoder.layers.1.conv1.bias has been frozen.\n",
      "decoder.layers.1.conv2.weight has been frozen.\n",
      "decoder.layers.1.conv2.bias has been frozen.\n",
      "decoder.layers.1.norm1.weight has been frozen.\n",
      "decoder.layers.1.norm1.bias has been frozen.\n",
      "decoder.layers.1.norm2.weight has been frozen.\n",
      "decoder.layers.1.norm2.bias has been frozen.\n",
      "decoder.layers.1.norm3.weight has been frozen.\n",
      "decoder.layers.1.norm3.bias has been frozen.\n",
      "decoder.norm.weight has been frozen.\n",
      "decoder.norm.bias has been frozen.\n"
     ]
    }
   ],
   "source": [
    "# 冻结 encoder 的部分层\n",
    "for name, param in pretrained_model.named_parameters():\n",
    "    # 根据参数名判断是否需要冻结\n",
    "    if \"encoder.attn_layers.0\" in name or \"encoder.attn_layers.1\" in name:\n",
    "        param.requires_grad = False  # 冻结第 0 和第 1 个注意力层\n",
    "    elif \"encoder.norm\" in name:\n",
    "        param.requires_grad = False  # 冻结 encoder 的归一化层\n",
    "\n",
    "# 也可以冻结 decoder 的部分层\n",
    "for name, param in pretrained_model.named_parameters():\n",
    "    if \"decoder.layers.0\" in name or \"decoder.layers.1\" in name:\n",
    "        param.requires_grad = False  # 冻结 decoder 的前两层\n",
    "    elif \"decoder.norm\" in name:\n",
    "        param.requires_grad = False  # 冻结 decoder 的归一化层\n",
    "\n",
    "# 检查哪些参数已被冻结\n",
    "for name, param in pretrained_model.named_parameters():\n",
    "    if not param.requires_grad:\n",
    "        print(f\"{name} has been frozen.\")"
   ]
  },
  {
   "cell_type": "code",
   "execution_count": 53,
   "id": "399193c8",
   "metadata": {
    "ExecuteTime": {
     "end_time": "2024-01-11T02:57:35.045071Z",
     "start_time": "2024-01-11T02:57:35.041459Z"
    },
    "execution": {
     "iopub.execute_input": "2024-11-04T03:10:31.100338Z",
     "iopub.status.busy": "2024-11-04T03:10:31.099274Z",
     "iopub.status.idle": "2024-11-04T03:10:31.133858Z",
     "shell.execute_reply": "2024-11-04T03:10:31.131855Z",
     "shell.execute_reply.started": "2024-11-04T03:10:31.100338Z"
    },
    "scrolled": true
   },
   "outputs": [
    {
     "name": "stdout",
     "output_type": "stream",
     "text": [
      "enc_embedding.value_embedding.tokenConv.weight: True\n",
      "enc_embedding.temporal_embedding.embed.weight: True\n",
      "encoder.attn_layers.0.attention.query_projection.weight: False\n",
      "encoder.attn_layers.0.attention.query_projection.bias: False\n",
      "encoder.attn_layers.0.attention.key_projection.weight: False\n",
      "encoder.attn_layers.0.attention.key_projection.bias: False\n",
      "encoder.attn_layers.0.attention.value_projection.weight: False\n",
      "encoder.attn_layers.0.attention.value_projection.bias: False\n",
      "encoder.attn_layers.0.attention.out_projection.weight: False\n",
      "encoder.attn_layers.0.attention.out_projection.bias: False\n",
      "encoder.attn_layers.0.conv1.weight: False\n",
      "encoder.attn_layers.0.conv1.bias: False\n",
      "encoder.attn_layers.0.conv2.weight: False\n",
      "encoder.attn_layers.0.conv2.bias: False\n",
      "encoder.attn_layers.0.norm1.weight: False\n",
      "encoder.attn_layers.0.norm1.bias: False\n",
      "encoder.attn_layers.0.norm2.weight: False\n",
      "encoder.attn_layers.0.norm2.bias: False\n",
      "encoder.attn_layers.1.attention.query_projection.weight: False\n",
      "encoder.attn_layers.1.attention.query_projection.bias: False\n",
      "encoder.attn_layers.1.attention.key_projection.weight: False\n",
      "encoder.attn_layers.1.attention.key_projection.bias: False\n",
      "encoder.attn_layers.1.attention.value_projection.weight: False\n",
      "encoder.attn_layers.1.attention.value_projection.bias: False\n",
      "encoder.attn_layers.1.attention.out_projection.weight: False\n",
      "encoder.attn_layers.1.attention.out_projection.bias: False\n",
      "encoder.attn_layers.1.conv1.weight: False\n",
      "encoder.attn_layers.1.conv1.bias: False\n",
      "encoder.attn_layers.1.conv2.weight: False\n",
      "encoder.attn_layers.1.conv2.bias: False\n",
      "encoder.attn_layers.1.norm1.weight: False\n",
      "encoder.attn_layers.1.norm1.bias: False\n",
      "encoder.attn_layers.1.norm2.weight: False\n",
      "encoder.attn_layers.1.norm2.bias: False\n",
      "encoder.norm.weight: False\n",
      "encoder.norm.bias: False\n",
      "dec_embedding.value_embedding.tokenConv.weight: True\n",
      "dec_embedding.temporal_embedding.embed.weight: True\n",
      "decoder.layers.0.self_attention.query_projection.weight: False\n",
      "decoder.layers.0.self_attention.query_projection.bias: False\n",
      "decoder.layers.0.self_attention.key_projection.weight: False\n",
      "decoder.layers.0.self_attention.key_projection.bias: False\n",
      "decoder.layers.0.self_attention.value_projection.weight: False\n",
      "decoder.layers.0.self_attention.value_projection.bias: False\n",
      "decoder.layers.0.self_attention.out_projection.weight: False\n",
      "decoder.layers.0.self_attention.out_projection.bias: False\n",
      "decoder.layers.0.cross_attention.query_projection.weight: False\n",
      "decoder.layers.0.cross_attention.query_projection.bias: False\n",
      "decoder.layers.0.cross_attention.key_projection.weight: False\n",
      "decoder.layers.0.cross_attention.key_projection.bias: False\n",
      "decoder.layers.0.cross_attention.value_projection.weight: False\n",
      "decoder.layers.0.cross_attention.value_projection.bias: False\n",
      "decoder.layers.0.cross_attention.out_projection.weight: False\n",
      "decoder.layers.0.cross_attention.out_projection.bias: False\n",
      "decoder.layers.0.conv1.weight: False\n",
      "decoder.layers.0.conv1.bias: False\n",
      "decoder.layers.0.conv2.weight: False\n",
      "decoder.layers.0.conv2.bias: False\n",
      "decoder.layers.0.norm1.weight: False\n",
      "decoder.layers.0.norm1.bias: False\n",
      "decoder.layers.0.norm2.weight: False\n",
      "decoder.layers.0.norm2.bias: False\n",
      "decoder.layers.0.norm3.weight: False\n",
      "decoder.layers.0.norm3.bias: False\n",
      "decoder.layers.1.self_attention.query_projection.weight: False\n",
      "decoder.layers.1.self_attention.query_projection.bias: False\n",
      "decoder.layers.1.self_attention.key_projection.weight: False\n",
      "decoder.layers.1.self_attention.key_projection.bias: False\n",
      "decoder.layers.1.self_attention.value_projection.weight: False\n",
      "decoder.layers.1.self_attention.value_projection.bias: False\n",
      "decoder.layers.1.self_attention.out_projection.weight: False\n",
      "decoder.layers.1.self_attention.out_projection.bias: False\n",
      "decoder.layers.1.cross_attention.query_projection.weight: False\n",
      "decoder.layers.1.cross_attention.query_projection.bias: False\n",
      "decoder.layers.1.cross_attention.key_projection.weight: False\n",
      "decoder.layers.1.cross_attention.key_projection.bias: False\n",
      "decoder.layers.1.cross_attention.value_projection.weight: False\n",
      "decoder.layers.1.cross_attention.value_projection.bias: False\n",
      "decoder.layers.1.cross_attention.out_projection.weight: False\n",
      "decoder.layers.1.cross_attention.out_projection.bias: False\n",
      "decoder.layers.1.conv1.weight: False\n",
      "decoder.layers.1.conv1.bias: False\n",
      "decoder.layers.1.conv2.weight: False\n",
      "decoder.layers.1.conv2.bias: False\n",
      "decoder.layers.1.norm1.weight: False\n",
      "decoder.layers.1.norm1.bias: False\n",
      "decoder.layers.1.norm2.weight: False\n",
      "decoder.layers.1.norm2.bias: False\n",
      "decoder.layers.1.norm3.weight: False\n",
      "decoder.layers.1.norm3.bias: False\n",
      "decoder.norm.weight: False\n",
      "decoder.norm.bias: False\n",
      "decoder.projection.weight: True\n",
      "decoder.projection.bias: True\n"
     ]
    }
   ],
   "source": [
    "# 输出模型参数的requires_grad属性（已冻结的层的requires_grad应为False）\n",
    "for name, param in pretrained_model.named_parameters():\n",
    "    print(f\"{name}: {param.requires_grad}\")"
   ]
  },
  {
   "cell_type": "markdown",
   "id": "69b03dc3",
   "metadata": {},
   "source": [
    "#### 替换层"
   ]
  },
  {
   "cell_type": "markdown",
   "id": "df01fc5f-b917-4377-940b-fbc096affa45",
   "metadata": {},
   "source": [
    "在一些任务中，可能不仅是最后一层，整个 decoder 或一些 attention 模块也需要修改。比如，对于一个分类任务，可能希望 decoder 的其他部分也进行微调。以下是一些常见的调整方法：\n",
    "\n",
    "- 分类任务：调整输出层以匹配类别数，并可能微调部分 decoder 层。\n",
    "- 回归任务：将输出层设置为特定的回归维度，输出单个或多个连续值。"
   ]
  },
  {
   "cell_type": "code",
   "execution_count": 54,
   "id": "fd675ec7-5816-4f9b-b85f-170fe4616f75",
   "metadata": {
    "execution": {
     "iopub.execute_input": "2024-11-04T03:10:33.371618Z",
     "iopub.status.busy": "2024-11-04T03:10:33.369616Z",
     "iopub.status.idle": "2024-11-04T03:10:33.390757Z",
     "shell.execute_reply": "2024-11-04T03:10:33.389419Z",
     "shell.execute_reply.started": "2024-11-04T03:10:33.370617Z"
    }
   },
   "outputs": [
    {
     "name": "stdout",
     "output_type": "stream",
     "text": [
      "Original output layer: Linear(in_features=512, out_features=2, bias=True)\n"
     ]
    }
   ],
   "source": [
    "# 检查原始输出层的维度（假设是 decoder.projection 层）\n",
    "print(\"Original output layer:\", pretrained_model.decoder.projection)"
   ]
  },
  {
   "cell_type": "code",
   "execution_count": 57,
   "id": "1109c4db-7760-44f3-96b9-700a69e8a0b2",
   "metadata": {
    "execution": {
     "iopub.execute_input": "2024-11-04T03:13:51.571049Z",
     "iopub.status.busy": "2024-11-04T03:13:51.571049Z",
     "iopub.status.idle": "2024-11-04T03:13:51.584197Z",
     "shell.execute_reply": "2024-11-04T03:13:51.583129Z",
     "shell.execute_reply.started": "2024-11-04T03:13:51.571049Z"
    }
   },
   "outputs": [
    {
     "name": "stdout",
     "output_type": "stream",
     "text": [
      "New output layer: Linear(in_features=512, out_features=1, bias=True)\n"
     ]
    }
   ],
   "source": [
    "# 假设新任务需要的输出维度是 new_output_dim\n",
    "new_output_dim = 1\n",
    "\n",
    "# 替换原来的输出层\n",
    "pretrained_model.decoder.projection = nn.Linear(\n",
    "    pretrained_model.decoder.projection.in_features,  # 原来的输入维度\n",
    "    new_output_dim                        # 新的输出维度\n",
    ")\n",
    "\n",
    "# 替换其他层以满足输出维度要求\n",
    "pretrained_model.dec_embedding.value_embedding.tokenConv = nn.Conv1d(\n",
    "    in_channels=new_output_dim,  # 改为 1，匹配输入的通道数\n",
    "    out_channels=512,\n",
    "    kernel_size=3,\n",
    "    padding=1\n",
    ")\n",
    "\n",
    "# 检查新的输出层\n",
    "print(\"New output layer:\", pretrained_model.decoder.projection)"
   ]
  },
  {
   "cell_type": "markdown",
   "id": "5579c09c",
   "metadata": {},
   "source": [
    "### 定义新任务"
   ]
  },
  {
   "cell_type": "markdown",
   "id": "b31755df",
   "metadata": {},
   "source": [
    "将在load和temp上训练的模型应用在temp上。"
   ]
  },
  {
   "cell_type": "code",
   "execution_count": 45,
   "id": "541f6ee0-f333-4365-aae4-4a3b5575908a",
   "metadata": {
    "execution": {
     "iopub.execute_input": "2024-11-04T03:05:49.108375Z",
     "iopub.status.busy": "2024-11-04T03:05:49.108375Z",
     "iopub.status.idle": "2024-11-04T03:05:49.196006Z",
     "shell.execute_reply": "2024-11-04T03:05:49.193798Z",
     "shell.execute_reply.started": "2024-11-04T03:05:49.108375Z"
    }
   },
   "outputs": [
    {
     "data": {
      "text/html": [
       "<div>\n",
       "<style scoped>\n",
       "    .dataframe tbody tr th:only-of-type {\n",
       "        vertical-align: middle;\n",
       "    }\n",
       "\n",
       "    .dataframe tbody tr th {\n",
       "        vertical-align: top;\n",
       "    }\n",
       "\n",
       "    .dataframe thead th {\n",
       "        text-align: right;\n",
       "    }\n",
       "</style>\n",
       "<table border=\"1\" class=\"dataframe\">\n",
       "  <thead>\n",
       "    <tr style=\"text-align: right;\">\n",
       "      <th></th>\n",
       "      <th>load</th>\n",
       "      <th>temp</th>\n",
       "    </tr>\n",
       "  </thead>\n",
       "  <tbody>\n",
       "    <tr>\n",
       "      <th>2012-01-01 00:00:00</th>\n",
       "      <td>2698.0</td>\n",
       "      <td>32.00</td>\n",
       "    </tr>\n",
       "    <tr>\n",
       "      <th>2012-01-01 01:00:00</th>\n",
       "      <td>2558.0</td>\n",
       "      <td>32.67</td>\n",
       "    </tr>\n",
       "    <tr>\n",
       "      <th>2012-01-01 02:00:00</th>\n",
       "      <td>2444.0</td>\n",
       "      <td>30.00</td>\n",
       "    </tr>\n",
       "    <tr>\n",
       "      <th>2012-01-01 03:00:00</th>\n",
       "      <td>2402.0</td>\n",
       "      <td>31.00</td>\n",
       "    </tr>\n",
       "    <tr>\n",
       "      <th>2012-01-01 04:00:00</th>\n",
       "      <td>2403.0</td>\n",
       "      <td>32.00</td>\n",
       "    </tr>\n",
       "    <tr>\n",
       "      <th>...</th>\n",
       "      <td>...</td>\n",
       "      <td>...</td>\n",
       "    </tr>\n",
       "    <tr>\n",
       "      <th>2014-12-31 19:00:00</th>\n",
       "      <td>4012.0</td>\n",
       "      <td>18.00</td>\n",
       "    </tr>\n",
       "    <tr>\n",
       "      <th>2014-12-31 20:00:00</th>\n",
       "      <td>3856.0</td>\n",
       "      <td>16.67</td>\n",
       "    </tr>\n",
       "    <tr>\n",
       "      <th>2014-12-31 21:00:00</th>\n",
       "      <td>3671.0</td>\n",
       "      <td>17.00</td>\n",
       "    </tr>\n",
       "    <tr>\n",
       "      <th>2014-12-31 22:00:00</th>\n",
       "      <td>3499.0</td>\n",
       "      <td>15.33</td>\n",
       "    </tr>\n",
       "    <tr>\n",
       "      <th>2014-12-31 23:00:00</th>\n",
       "      <td>3345.0</td>\n",
       "      <td>15.33</td>\n",
       "    </tr>\n",
       "  </tbody>\n",
       "</table>\n",
       "<p>26304 rows × 2 columns</p>\n",
       "</div>"
      ],
      "text/plain": [
       "                       load   temp\n",
       "2012-01-01 00:00:00  2698.0  32.00\n",
       "2012-01-01 01:00:00  2558.0  32.67\n",
       "2012-01-01 02:00:00  2444.0  30.00\n",
       "2012-01-01 03:00:00  2402.0  31.00\n",
       "2012-01-01 04:00:00  2403.0  32.00\n",
       "...                     ...    ...\n",
       "2014-12-31 19:00:00  4012.0  18.00\n",
       "2014-12-31 20:00:00  3856.0  16.67\n",
       "2014-12-31 21:00:00  3671.0  17.00\n",
       "2014-12-31 22:00:00  3499.0  15.33\n",
       "2014-12-31 23:00:00  3345.0  15.33\n",
       "\n",
       "[26304 rows x 2 columns]"
      ]
     },
     "execution_count": 45,
     "metadata": {},
     "output_type": "execute_result"
    }
   ],
   "source": [
    "data_path = \"../data/energy.csv\"\n",
    "ts_data = loader(data_path=data_path, data=None, time_col='time')\n",
    "ts_data"
   ]
  },
  {
   "cell_type": "code",
   "execution_count": 46,
   "id": "b6773f85-c893-4e2b-b801-633565021d29",
   "metadata": {
    "execution": {
     "iopub.execute_input": "2024-11-04T03:05:49.740619Z",
     "iopub.status.busy": "2024-11-04T03:05:49.738617Z",
     "iopub.status.idle": "2024-11-04T03:05:49.851326Z",
     "shell.execute_reply": "2024-11-04T03:05:49.849417Z",
     "shell.execute_reply.started": "2024-11-04T03:05:49.740619Z"
    }
   },
   "outputs": [
    {
     "name": "stdout",
     "output_type": "stream",
     "text": [
      "x_train shape: (18412, 2) y_train shape: (18412, 1) stamp_train shape: (18412, 4)\n",
      "x_valid shape: (2631, 2) y_valid shape: (2631, 1) stamp_valid shape: (2631, 4)\n",
      "x_test shape: (5261, 2) y_test shape: (5261, 1) stamp_test shape: (5261, 4)\n"
     ]
    }
   ],
   "source": [
    "# 构造参数字典\n",
    "params1 = {\n",
    "    \"df\": ts_data,\n",
    "    \"train_ratio\": 0.7,\n",
    "    \"valid_ratio\": 0.1,\n",
    "    \"x_feature_list\": ['load', 'temp'],\n",
    "    \"y_feature_list\": ['temp'],\n",
    "    \"freq\": 'h',\n",
    "    \"scaler_path\": '../outputs/scalers/Transformer_transfer_learning'\n",
    "}\n",
    "\n",
    "# 函数传参\n",
    "x_scaler, y_scaler, train_data, valid_data, test_data = divider(**params1)\n",
    "print(\"x_train shape: {0} y_train shape: {1} stamp_train shape: {2}\".format(\n",
    "    train_data[0].shape, train_data[1].shape, train_data[2].shape))\n",
    "print(\"x_valid shape: {0} y_valid shape: {1} stamp_valid shape: {2}\".format(\n",
    "    valid_data[0].shape, valid_data[1].shape, valid_data[2].shape))\n",
    "print(\"x_test shape: {0} y_test shape: {1} stamp_test shape: {2}\".format(\n",
    "    test_data[0].shape, test_data[1].shape, test_data[2].shape))"
   ]
  },
  {
   "cell_type": "code",
   "execution_count": 47,
   "id": "8875dbd8-851f-45cb-ac3f-9e864ee788ac",
   "metadata": {
    "execution": {
     "iopub.execute_input": "2024-11-04T03:05:50.918372Z",
     "iopub.status.busy": "2024-11-04T03:05:50.917145Z",
     "iopub.status.idle": "2024-11-04T03:05:56.621655Z",
     "shell.execute_reply": "2024-11-04T03:05:56.620733Z",
     "shell.execute_reply.started": "2024-11-04T03:05:50.918372Z"
    }
   },
   "outputs": [
    {
     "name": "stdout",
     "output_type": "stream",
     "text": [
      "X_size: torch.Size([18350, 60, 2]),y_size: torch.Size([18350, 13, 1]),loader_len: 574\n",
      "X_size: torch.Size([2569, 60, 2]),y_size: torch.Size([2569, 13, 1]),loader_len: 81\n",
      "X_size: torch.Size([5199, 60, 2]),y_size: torch.Size([5199, 13, 1]),loader_len: 163\n"
     ]
    }
   ],
   "source": [
    "# 构造参数字典\n",
    "params2 = {\n",
    "    \"seq_len\": 60,\n",
    "    \"pred_len\": 3,\n",
    "    \"label_len\": 10,\n",
    "    \"batch_size\": 32,\n",
    "}\n",
    "X_train, y_train, X_train_stamp, y_train_stamp, train_loader = generator(\n",
    "    train_data, **params2)\n",
    "X_valid, y_valid, X_valid_stamp, y_valid_stamp, valid_loader = generator(\n",
    "    valid_data, **params2)\n",
    "X_test, y_test, X_test_stamp, y_test_stamp, test_loader = generator(\n",
    "    test_data, **params2)\n",
    "print(\"X_size: {0},y_size: {1},loader_len: {2}\".format(\n",
    "    X_train.shape, y_train.shape, len(train_loader)))\n",
    "print(\"X_size: {0},y_size: {1},loader_len: {2}\".format(\n",
    "    X_valid.shape, y_valid.shape, len(valid_loader)))\n",
    "print(\"X_size: {0},y_size: {1},loader_len: {2}\".format(\n",
    "    X_test.shape, y_test.shape, len(test_loader)))"
   ]
  },
  {
   "cell_type": "markdown",
   "id": "45c32f41",
   "metadata": {},
   "source": [
    "### 训练新模型"
   ]
  },
  {
   "cell_type": "code",
   "execution_count": 62,
   "id": "98bdf137-e935-4459-a19f-fbc10989bca2",
   "metadata": {
    "execution": {
     "iopub.execute_input": "2024-11-04T03:31:58.016633Z",
     "iopub.status.busy": "2024-11-04T03:31:58.016633Z",
     "iopub.status.idle": "2024-11-04T03:31:58.059446Z",
     "shell.execute_reply": "2024-11-04T03:31:58.058477Z",
     "shell.execute_reply.started": "2024-11-04T03:31:58.016633Z"
    }
   },
   "outputs": [],
   "source": [
    "def train(train_args):\n",
    "    # 参数配置\n",
    "    features = train_args['features']  # 模型预测模式\n",
    "    model_name = train_args['model_name']  # 模型名称\n",
    "    train_loader = train_args['train_loader']  # 训练集\n",
    "    valid_loader = train_args['valid_loader']  # 验证集\n",
    "    n_epochs = train_args['n_epochs']  # 训练次数\n",
    "    learning_rate = train_args['learning_rate']  # 学习率\n",
    "    loss = train_args['loss']  # 损失函数\n",
    "    patience = train_args['patience']  # 最大早停次数阈值，超过就会早停\n",
    "    lradj = train_args['lradj']  # 学习率函数\n",
    "    model_path = train_args['model_path']  # 模型保存路径\n",
    "    verbose = train_args['verbose']  # 打印训练过程\n",
    "    plots = train_args['plots']  # 绘制损失图\n",
    "    device = train_args['device']  # 训练设备，可选'cuda'和'cpu'\n",
    "    pred_len = train_args['pred_len']  # 预测长度\n",
    "    label_len = train_args['label_len']\n",
    "\n",
    "    # 检查可用device\n",
    "    device = torch.device(device)\n",
    "\n",
    "    # 创建模型和优化器\n",
    "    model = model_name.to(device)\n",
    "    # 创建 optimizer 时仅包含未冻结的参数\n",
    "    optimizer = optim.Adam(filter(lambda p: p.requires_grad, model.parameters()), lr=learning_rate)\n",
    "    criterion = loss\n",
    "\n",
    "    # 调整学习率\n",
    "    def adjust_learning_rate(optimizer, epoch, lradj, learning_rate, train_epochs):\n",
    "        # lr = learning_rate * (0.2 ** (epoch // 2))\n",
    "        if lradj == 'type1':\n",
    "            lr_adjust = {epoch: learning_rate * (0.5 ** ((epoch - 1) // 1))}\n",
    "        elif lradj == 'type2':\n",
    "            lr_adjust = {\n",
    "                2: 5e-5, 4: 1e-5, 6: 5e-6, 8: 1e-6,\n",
    "                10: 5e-7, 15: 1e-7, 20: 5e-8\n",
    "            }\n",
    "        elif lradj == \"cosine\":\n",
    "            lr_adjust = {epoch: learning_rate / 2 *\n",
    "                         (1 + math.cos(epoch / train_epochs * math.pi))}\n",
    "        if epoch in lr_adjust.keys():\n",
    "            lr = lr_adjust[epoch]\n",
    "            # 参数组(param_groups)是用来指定不同的参数组以便对它们进行不同的优化设置，比如'lr'\n",
    "            for param_group in optimizer.param_groups:\n",
    "                param_group['lr'] = lr\n",
    "            print('Updating learning rate to {}'.format(lr))\n",
    "\n",
    "    # 设置早停\n",
    "    class EarlyStopping():\n",
    "        def __init__(self, patience=7, verbose=False, delta=0):\n",
    "            self.patience = patience  # 连续超限次数，如果满足条件，则早停\n",
    "            self.verbose = verbose\n",
    "            self.counter = 0\n",
    "            self.best_score = None\n",
    "            self.early_stop = False\n",
    "            self.val_loss_min = np.Inf\n",
    "            self.delta = delta\n",
    "\n",
    "        def __call__(self, val_loss, model, path):\n",
    "            score = -val_loss\n",
    "            if self.best_score is None:\n",
    "                self.best_score = score\n",
    "                self.save_checkpoint(val_loss, model, path)\n",
    "            elif score < self.best_score + self.delta:\n",
    "                self.counter += 1\n",
    "                print(\n",
    "                    f'EarlyStopping counter: {self.counter} out of {self.patience}')\n",
    "                if self.counter >= self.patience:\n",
    "                    self.early_stop = True\n",
    "            else:\n",
    "                self.best_score = score\n",
    "                self.save_checkpoint(val_loss, model, path)\n",
    "                self.counter = 0\n",
    "\n",
    "        def save_checkpoint(self, val_loss, model, path):\n",
    "            if self.verbose:\n",
    "                print(\n",
    "                    f'Validation loss decreased ({self.val_loss_min:.6f} --> {val_loss:.6f}).  Saving model ...')\n",
    "            with open(path + '/' + 'checkpoint.pth', 'wb') as f:\n",
    "                torch.save(model.state_dict(), f)\n",
    "            self.val_loss_min = val_loss\n",
    "    early_stopping = EarlyStopping(patience=patience, verbose=verbose)\n",
    "\n",
    "    # 设置保存模型路径\n",
    "    if not os.path.exists(model_path):\n",
    "        os.makedirs(model_path)\n",
    "\n",
    "    # 模型训练和验证\n",
    "    train_losses, val_losses = [], []\n",
    "    for epoch in tqdm(range(n_epochs)):\n",
    "        model.train()\n",
    "        total_train_loss = 0\n",
    "        for batch_x, batch_y, batch_x_mark, batch_y_mark in train_loader:\n",
    "            # 将数据移至 device\n",
    "            batch_x = batch_x.to(device)  # 会用到实际数据\n",
    "            batch_y = batch_y.to(device)  # 只用来获取维度，不会用到实际数据，防止泄露信息\n",
    "            batch_x_mark = batch_x_mark.to(device)\n",
    "            batch_y_mark = batch_y_mark.to(device)\n",
    "            # 清空梯度\n",
    "            optimizer.zero_grad()\n",
    "            # decoder输入\n",
    "            dec_inp = torch.zeros_like(batch_y[:, -pred_len:, :]).float()\n",
    "            dec_inp = torch.cat([batch_y[:, :label_len, :], dec_inp], dim=1).float().to(device)\n",
    "            outputs = model(batch_x, batch_x_mark, dec_inp, batch_y_mark)\n",
    "            f_dim = -1 if features == 'MS' else 0\n",
    "            outputs = outputs[:, -pred_len:, f_dim:]\n",
    "            batch_y = batch_y[:, -pred_len:, f_dim:]\n",
    "            train_loss = criterion(outputs, batch_y)\n",
    "            # 反向传播计算得到每个参数的梯度值\n",
    "            train_loss.backward()\n",
    "            # 通过梯度下降执行一步参数更新\n",
    "            optimizer.step()\n",
    "            # 每个batch的loss和\n",
    "            total_train_loss += train_loss.item()  # .item()表示只包含一个元素的tensor中提取值\n",
    "\n",
    "        # 每个epoch的损失平均\n",
    "        avg_train_loss = total_train_loss / len(train_loader)\n",
    "\n",
    "        # 所有epoch的loss\n",
    "        train_losses.append(avg_train_loss)\n",
    "\n",
    "        # 评估模型\n",
    "        model.eval()\n",
    "        # 关闭自动求导功能，只使用训练好的模型进行预测或评估，不需要进行梯度计算和参数更新\n",
    "        with torch.no_grad():\n",
    "            total_val_loss = 0\n",
    "            for batch_x, batch_y, batch_x_mark, batch_y_mark in valid_loader:\n",
    "                # 将数据移至 device\n",
    "                batch_x = batch_x.to(device)  # 会用到实际数据\n",
    "                batch_y = batch_y.to(device)  # 只用来获取维度，不会用到实际数据，防止泄露信息\n",
    "                batch_x_mark = batch_x_mark.to(device)\n",
    "                batch_y_mark = batch_y_mark.to(device)\n",
    "                # decoder输入\n",
    "                dec_inp = torch.zeros_like(batch_y[:, -pred_len:, :]).float()\n",
    "                dec_inp = torch.cat([batch_y[:, :label_len, :], dec_inp], dim=1).float().to(device)\n",
    "                outputs = model(batch_x, batch_x_mark, dec_inp, batch_y_mark)\n",
    "                f_dim = -1 if features == 'MS' else 0\n",
    "                outputs = outputs[:, -pred_len:, f_dim:]\n",
    "                batch_y = batch_y[:, -pred_len:, f_dim:]\n",
    "                val_loss = criterion(outputs, batch_y)\n",
    "                # 每个batch的loss和\n",
    "                total_val_loss += val_loss.item()\n",
    "\n",
    "        # 每个epoch的损失平均\n",
    "        avg_val_loss = total_val_loss / len(valid_loader)\n",
    "\n",
    "        # 所有epoch的loss\n",
    "        val_losses.append(avg_val_loss)\n",
    "\n",
    "        # 打印训练过程\n",
    "        if verbose:\n",
    "            print(f'Epoch [{epoch+1}/{n_epochs}], Training Loss: {avg_train_loss:.4f}, Validation Loss: {avg_val_loss:.4f}')\n",
    "\n",
    "        # 设置早停\n",
    "        early_stopping(avg_val_loss, model, model_path)\n",
    "        if early_stopping.early_stop:\n",
    "            print(\"Early stopping!\")\n",
    "            break\n",
    "\n",
    "        # 调整学习率\n",
    "        adjust_learning_rate(optimizer, epoch+1, lradj,\n",
    "                             learning_rate, n_epochs)\n",
    "\n",
    "    # 绘制损失函数图\n",
    "    def plot_loss(train_losses, val_losses):\n",
    "        plt.figure(figsize=(10, 5))\n",
    "        plt.style.use('seaborn-v0_8-paper')  # 绘制背景色\n",
    "        plt.grid(axis='y', linewidth=0.35)  # 绘制网格\n",
    "        plt.plot(val_losses, linestyle='-', color='#11b3b6')\n",
    "        plt.plot(train_losses, linestyle='-', color='#f14643')\n",
    "        plt.xlabel(\"Epoch\")\n",
    "        plt.ylabel(\"Loss\")\n",
    "        plt.title(\"Training and Validation Progress\")\n",
    "        plt.legend([\"Validation\", \"Training\"])\n",
    "        plt.show()\n",
    "    if plots:\n",
    "        plot_loss(train_losses, val_losses)\n",
    "\n",
    "    return model"
   ]
  },
  {
   "cell_type": "code",
   "execution_count": 59,
   "id": "8a009445-6774-4f05-8037-df1ea9f3f1e6",
   "metadata": {
    "execution": {
     "iopub.execute_input": "2024-11-04T03:20:06.452623Z",
     "iopub.status.busy": "2024-11-04T03:20:06.452227Z",
     "iopub.status.idle": "2024-11-04T03:25:54.123986Z",
     "shell.execute_reply": "2024-11-04T03:25:54.122986Z",
     "shell.execute_reply.started": "2024-11-04T03:20:06.452623Z"
    },
    "scrolled": true
   },
   "outputs": [
    {
     "name": "stderr",
     "output_type": "stream",
     "text": [
      "  5%|████▏                                                                              | 1/20 [00:49<15:37, 49.35s/it]"
     ]
    },
    {
     "name": "stdout",
     "output_type": "stream",
     "text": [
      "Epoch [1/20], Training Loss: 0.0007, Validation Loss: 0.0008\n",
      "Validation loss decreased (inf --> 0.000779).  Saving model ...\n",
      "Updating learning rate to 0.0009938441702975688\n"
     ]
    },
    {
     "name": "stderr",
     "output_type": "stream",
     "text": [
      " 10%|████████▎                                                                          | 2/20 [01:43<15:42, 52.35s/it]"
     ]
    },
    {
     "name": "stdout",
     "output_type": "stream",
     "text": [
      "Epoch [2/20], Training Loss: 0.0006, Validation Loss: 0.0007\n",
      "Validation loss decreased (0.000779 --> 0.000651).  Saving model ...\n",
      "Updating learning rate to 0.0009755282581475768\n"
     ]
    },
    {
     "name": "stderr",
     "output_type": "stream",
     "text": [
      " 15%|████████████▍                                                                      | 3/20 [02:36<14:54, 52.63s/it]"
     ]
    },
    {
     "name": "stdout",
     "output_type": "stream",
     "text": [
      "Epoch [3/20], Training Loss: 0.0006, Validation Loss: 0.0006\n",
      "Validation loss decreased (0.000651 --> 0.000622).  Saving model ...\n",
      "Updating learning rate to 0.0009455032620941839\n"
     ]
    },
    {
     "name": "stderr",
     "output_type": "stream",
     "text": [
      " 20%|████████████████▌                                                                  | 4/20 [03:24<13:33, 50.86s/it]"
     ]
    },
    {
     "name": "stdout",
     "output_type": "stream",
     "text": [
      "Epoch [4/20], Training Loss: 0.0006, Validation Loss: 0.0005\n",
      "Validation loss decreased (0.000622 --> 0.000516).  Saving model ...\n",
      "Updating learning rate to 0.0009045084971874737\n"
     ]
    },
    {
     "name": "stderr",
     "output_type": "stream",
     "text": [
      " 25%|████████████████████▊                                                              | 5/20 [04:12<12:26, 49.78s/it]"
     ]
    },
    {
     "name": "stdout",
     "output_type": "stream",
     "text": [
      "Epoch [5/20], Training Loss: 0.0006, Validation Loss: 0.0007\n",
      "EarlyStopping counter: 1 out of 3\n",
      "Updating learning rate to 0.0008535533905932737\n"
     ]
    },
    {
     "name": "stderr",
     "output_type": "stream",
     "text": [
      " 30%|████████████████████████▉                                                          | 6/20 [05:00<11:27, 49.09s/it]"
     ]
    },
    {
     "name": "stdout",
     "output_type": "stream",
     "text": [
      "Epoch [6/20], Training Loss: 0.0006, Validation Loss: 0.0006\n",
      "EarlyStopping counter: 2 out of 3\n",
      "Updating learning rate to 0.0007938926261462366\n"
     ]
    },
    {
     "name": "stderr",
     "output_type": "stream",
     "text": [
      " 30%|████████████████████████▉                                                          | 6/20 [05:46<13:29, 57.82s/it]"
     ]
    },
    {
     "name": "stdout",
     "output_type": "stream",
     "text": [
      "Epoch [7/20], Training Loss: 0.0006, Validation Loss: 0.0006\n",
      "EarlyStopping counter: 3 out of 3\n",
      "Early stopping!\n"
     ]
    },
    {
     "name": "stderr",
     "output_type": "stream",
     "text": [
      "\n"
     ]
    },
    {
     "data": {
      "image/png": "[encoded data removed]",
      "text/plain": [
       "<Figure size 1000x500 with 1 Axes>"
      ]
     },
     "metadata": {},
     "output_type": "display_data"
    }
   ],
   "source": [
    "# 构造参数字典\n",
    "params3 = {\n",
    "    \"train_args\": {\n",
    "        \"features\": 'MS',\n",
    "        \"model_name\": pretrained_model,\n",
    "        \"train_loader\": train_loader,\n",
    "        \"valid_loader\": valid_loader,\n",
    "        \"n_epochs\": 20,\n",
    "        \"learning_rate\": 0.001,\n",
    "        \"loss\": nn.MSELoss(),\n",
    "        \"patience\": 3,\n",
    "        \"lradj\": 'cosine',\n",
    "        \"model_path\": \"../outputs/best_models/Transformer_transfer_learning\",\n",
    "        \"device\": 'cuda',\n",
    "        \"verbose\": True,\n",
    "        \"plots\": True,\n",
    "        \"pred_len\": 3,\n",
    "        \"label_len\": 10\n",
    "    }\n",
    "}\n",
    "new_model = train(**params3)"
   ]
  },
  {
   "cell_type": "markdown",
   "id": "1f9652a9",
   "metadata": {},
   "source": [
    "### 加载新模型"
   ]
  },
  {
   "cell_type": "code",
   "execution_count": 65,
   "id": "e0b2b8dd-0696-4f41-8dea-f59e6910b0af",
   "metadata": {
    "execution": {
     "iopub.execute_input": "2024-11-04T03:34:47.363738Z",
     "iopub.status.busy": "2024-11-04T03:34:47.363195Z",
     "iopub.status.idle": "2024-11-04T03:34:48.292215Z",
     "shell.execute_reply": "2024-11-04T03:34:48.290818Z",
     "shell.execute_reply.started": "2024-11-04T03:34:47.363738Z"
    }
   },
   "outputs": [
    {
     "data": {
      "text/plain": [
       "_IncompatibleKeys(missing_keys=[], unexpected_keys=['dec_embedding.value_embedding.tokenConv.bias'])"
      ]
     },
     "execution_count": 65,
     "metadata": {},
     "output_type": "execute_result"
    }
   ],
   "source": [
    "# 定义预训练模型\n",
    "import sys\n",
    "path = '../scripts/Transformer/'  # 项目所在文件夹\n",
    "sys.path.insert(0, path)\n",
    "\n",
    "# 加载模型\n",
    "from Transformer import Transformer\n",
    "model_args = {\n",
    "    'seq_len': 60,\n",
    "    'pred_len': 3,\n",
    "    'label_len': 10,\n",
    "    'output_attention': True,\n",
    "    'embed': 'timeF', \n",
    "    'freq': 'h',\n",
    "    'd_model': 512,\n",
    "    'enc_in': 2,\n",
    "    'dec_in': 1,\n",
    "    'dropout': 0.1,\n",
    "    'factor': 3,\n",
    "    'n_heads': 8,\n",
    "    'd_ff': 128,\n",
    "    'e_layers': 2,\n",
    "    'd_layers': 2,\n",
    "    'c_out': 1\n",
    "}\n",
    "# 定义模型实例\n",
    "new_model = Transformer(**model_args)  \n",
    "\n",
    "# 设置 strict=False，忽略多余的键，同时仍会加载匹配的权重\n",
    "model_path = \"../outputs/best_models/Transformer_transfer_learning/checkpoint.pth\"\n",
    "new_model.load_state_dict(torch.load(model_path), strict=False)"
   ]
  },
  {
   "cell_type": "markdown",
   "id": "35996fe8",
   "metadata": {},
   "source": [
    "## 模型扩展"
   ]
  },
  {
   "cell_type": "markdown",
   "id": "d99b7db8",
   "metadata": {},
   "source": [
    "### 加载预训练模型"
   ]
  },
  {
   "cell_type": "code",
   "execution_count": 153,
   "id": "adb26e0e-4c23-437a-a329-e1c76aef4dcb",
   "metadata": {
    "execution": {
     "iopub.execute_input": "2024-11-04T06:57:58.666140Z",
     "iopub.status.busy": "2024-11-04T06:57:58.665140Z",
     "iopub.status.idle": "2024-11-04T06:57:59.235578Z",
     "shell.execute_reply": "2024-11-04T06:57:59.234577Z",
     "shell.execute_reply.started": "2024-11-04T06:57:58.666140Z"
    }
   },
   "outputs": [
    {
     "data": {
      "text/plain": [
       "<All keys matched successfully>"
      ]
     },
     "execution_count": 153,
     "metadata": {},
     "output_type": "execute_result"
    }
   ],
   "source": [
    "# 定义预训练模型\n",
    "import sys\n",
    "path = '../scripts/Transformer/'  # 项目所在文件夹\n",
    "sys.path.insert(0, path)\n",
    "\n",
    "# 加载模型\n",
    "from Transformer import Transformer\n",
    "model_args = {\n",
    "    'seq_len': 60,\n",
    "    'pred_len': 3,\n",
    "    'label_len': 10,\n",
    "    'output_attention': True,\n",
    "    'embed': 'timeF', \n",
    "    'freq': 'h',\n",
    "    'd_model': 512,\n",
    "    'enc_in': 2,\n",
    "    'dec_in': 2,\n",
    "    'dropout': 0.1,\n",
    "    'factor': 3,\n",
    "    'n_heads': 8,\n",
    "    'd_ff': 128,\n",
    "    'e_layers': 2,\n",
    "    'd_layers': 2,\n",
    "    'c_out': 2\n",
    "}\n",
    "pretrained_model = Transformer(**model_args)  # 定义模型实例\n",
    "model_path = '../outputs/best_models/Transformer/checkpoint.pth'\n",
    "pretrained_model.load_state_dict(torch.load(model_path))  # 加载模型权重"
   ]
  },
  {
   "cell_type": "markdown",
   "id": "ac121907-5581-44c7-a8bb-a4f39e12a2ef",
   "metadata": {},
   "source": [
    "### 添加新的层"
   ]
  },
  {
   "cell_type": "code",
   "execution_count": 100,
   "id": "40f7968b-6771-4b1a-bc84-582c5eb40851",
   "metadata": {
    "execution": {
     "iopub.execute_input": "2024-11-04T06:34:21.033478Z",
     "iopub.status.busy": "2024-11-04T06:34:21.032936Z",
     "iopub.status.idle": "2024-11-04T06:34:21.048057Z",
     "shell.execute_reply": "2024-11-04T06:34:21.047057Z",
     "shell.execute_reply.started": "2024-11-04T06:34:21.033478Z"
    }
   },
   "outputs": [],
   "source": [
    "# 冻结全部层可在后面添加新层\n",
    "for param in pretrained_model.parameters():\n",
    "    param.requires_grad = False"
   ]
  },
  {
   "cell_type": "code",
   "execution_count": 68,
   "id": "7965dd99-0693-4c2e-825d-7ef30cef8af1",
   "metadata": {
    "execution": {
     "iopub.execute_input": "2024-11-04T05:35:20.797254Z",
     "iopub.status.busy": "2024-11-04T05:35:20.796269Z",
     "iopub.status.idle": "2024-11-04T05:35:20.817968Z",
     "shell.execute_reply": "2024-11-04T05:35:20.816094Z",
     "shell.execute_reply.started": "2024-11-04T05:35:20.797254Z"
    },
    "scrolled": true
   },
   "outputs": [
    {
     "name": "stdout",
     "output_type": "stream",
     "text": [
      "enc_embedding.value_embedding.tokenConv.weight: False\n",
      "enc_embedding.temporal_embedding.embed.weight: False\n",
      "encoder.attn_layers.0.attention.query_projection.weight: False\n",
      "encoder.attn_layers.0.attention.query_projection.bias: False\n",
      "encoder.attn_layers.0.attention.key_projection.weight: False\n",
      "encoder.attn_layers.0.attention.key_projection.bias: False\n",
      "encoder.attn_layers.0.attention.value_projection.weight: False\n",
      "encoder.attn_layers.0.attention.value_projection.bias: False\n",
      "encoder.attn_layers.0.attention.out_projection.weight: False\n",
      "encoder.attn_layers.0.attention.out_projection.bias: False\n",
      "encoder.attn_layers.0.conv1.weight: False\n",
      "encoder.attn_layers.0.conv1.bias: False\n",
      "encoder.attn_layers.0.conv2.weight: False\n",
      "encoder.attn_layers.0.conv2.bias: False\n",
      "encoder.attn_layers.0.norm1.weight: False\n",
      "encoder.attn_layers.0.norm1.bias: False\n",
      "encoder.attn_layers.0.norm2.weight: False\n",
      "encoder.attn_layers.0.norm2.bias: False\n",
      "encoder.attn_layers.1.attention.query_projection.weight: False\n",
      "encoder.attn_layers.1.attention.query_projection.bias: False\n",
      "encoder.attn_layers.1.attention.key_projection.weight: False\n",
      "encoder.attn_layers.1.attention.key_projection.bias: False\n",
      "encoder.attn_layers.1.attention.value_projection.weight: False\n",
      "encoder.attn_layers.1.attention.value_projection.bias: False\n",
      "encoder.attn_layers.1.attention.out_projection.weight: False\n",
      "encoder.attn_layers.1.attention.out_projection.bias: False\n",
      "encoder.attn_layers.1.conv1.weight: False\n",
      "encoder.attn_layers.1.conv1.bias: False\n",
      "encoder.attn_layers.1.conv2.weight: False\n",
      "encoder.attn_layers.1.conv2.bias: False\n",
      "encoder.attn_layers.1.norm1.weight: False\n",
      "encoder.attn_layers.1.norm1.bias: False\n",
      "encoder.attn_layers.1.norm2.weight: False\n",
      "encoder.attn_layers.1.norm2.bias: False\n",
      "encoder.norm.weight: False\n",
      "encoder.norm.bias: False\n",
      "dec_embedding.value_embedding.tokenConv.weight: False\n",
      "dec_embedding.temporal_embedding.embed.weight: False\n",
      "decoder.layers.0.self_attention.query_projection.weight: False\n",
      "decoder.layers.0.self_attention.query_projection.bias: False\n",
      "decoder.layers.0.self_attention.key_projection.weight: False\n",
      "decoder.layers.0.self_attention.key_projection.bias: False\n",
      "decoder.layers.0.self_attention.value_projection.weight: False\n",
      "decoder.layers.0.self_attention.value_projection.bias: False\n",
      "decoder.layers.0.self_attention.out_projection.weight: False\n",
      "decoder.layers.0.self_attention.out_projection.bias: False\n",
      "decoder.layers.0.cross_attention.query_projection.weight: False\n",
      "decoder.layers.0.cross_attention.query_projection.bias: False\n",
      "decoder.layers.0.cross_attention.key_projection.weight: False\n",
      "decoder.layers.0.cross_attention.key_projection.bias: False\n",
      "decoder.layers.0.cross_attention.value_projection.weight: False\n",
      "decoder.layers.0.cross_attention.value_projection.bias: False\n",
      "decoder.layers.0.cross_attention.out_projection.weight: False\n",
      "decoder.layers.0.cross_attention.out_projection.bias: False\n",
      "decoder.layers.0.conv1.weight: False\n",
      "decoder.layers.0.conv1.bias: False\n",
      "decoder.layers.0.conv2.weight: False\n",
      "decoder.layers.0.conv2.bias: False\n",
      "decoder.layers.0.norm1.weight: False\n",
      "decoder.layers.0.norm1.bias: False\n",
      "decoder.layers.0.norm2.weight: False\n",
      "decoder.layers.0.norm2.bias: False\n",
      "decoder.layers.0.norm3.weight: False\n",
      "decoder.layers.0.norm3.bias: False\n",
      "decoder.layers.1.self_attention.query_projection.weight: False\n",
      "decoder.layers.1.self_attention.query_projection.bias: False\n",
      "decoder.layers.1.self_attention.key_projection.weight: False\n",
      "decoder.layers.1.self_attention.key_projection.bias: False\n",
      "decoder.layers.1.self_attention.value_projection.weight: False\n",
      "decoder.layers.1.self_attention.value_projection.bias: False\n",
      "decoder.layers.1.self_attention.out_projection.weight: False\n",
      "decoder.layers.1.self_attention.out_projection.bias: False\n",
      "decoder.layers.1.cross_attention.query_projection.weight: False\n",
      "decoder.layers.1.cross_attention.query_projection.bias: False\n",
      "decoder.layers.1.cross_attention.key_projection.weight: False\n",
      "decoder.layers.1.cross_attention.key_projection.bias: False\n",
      "decoder.layers.1.cross_attention.value_projection.weight: False\n",
      "decoder.layers.1.cross_attention.value_projection.bias: False\n",
      "decoder.layers.1.cross_attention.out_projection.weight: False\n",
      "decoder.layers.1.cross_attention.out_projection.bias: False\n",
      "decoder.layers.1.conv1.weight: False\n",
      "decoder.layers.1.conv1.bias: False\n",
      "decoder.layers.1.conv2.weight: False\n",
      "decoder.layers.1.conv2.bias: False\n",
      "decoder.layers.1.norm1.weight: False\n",
      "decoder.layers.1.norm1.bias: False\n",
      "decoder.layers.1.norm2.weight: False\n",
      "decoder.layers.1.norm2.bias: False\n",
      "decoder.layers.1.norm3.weight: False\n",
      "decoder.layers.1.norm3.bias: False\n",
      "decoder.norm.weight: False\n",
      "decoder.norm.bias: False\n",
      "decoder.projection.weight: False\n",
      "decoder.projection.bias: False\n"
     ]
    }
   ],
   "source": [
    "# 输出模型参数的requires_grad属性（已冻结的层的requires_grad应为False）\n",
    "for name, param in pretrained_model.named_parameters():\n",
    "    print(f\"{name}: {param.requires_grad}\")"
   ]
  },
  {
   "cell_type": "markdown",
   "id": "b32f9c14-cbcb-42c8-884f-a1708d088fc6",
   "metadata": {},
   "source": [
    "### 定义新任务"
   ]
  },
  {
   "cell_type": "markdown",
   "id": "a9589e76-1221-4acb-8192-0fc4ae023a7c",
   "metadata": {},
   "source": [
    "将在load和temp上训练的模型应用在temp上。"
   ]
  },
  {
   "cell_type": "code",
   "execution_count": 192,
   "id": "d342616e-2d91-4ba4-8aa7-07d8dd52fb35",
   "metadata": {
    "execution": {
     "iopub.execute_input": "2024-11-04T07:22:25.861271Z",
     "iopub.status.busy": "2024-11-04T07:22:25.860146Z",
     "iopub.status.idle": "2024-11-04T07:22:25.929512Z",
     "shell.execute_reply": "2024-11-04T07:22:25.928513Z",
     "shell.execute_reply.started": "2024-11-04T07:22:25.861271Z"
    }
   },
   "outputs": [
    {
     "data": {
      "text/html": [
       "<div>\n",
       "<style scoped>\n",
       "    .dataframe tbody tr th:only-of-type {\n",
       "        vertical-align: middle;\n",
       "    }\n",
       "\n",
       "    .dataframe tbody tr th {\n",
       "        vertical-align: top;\n",
       "    }\n",
       "\n",
       "    .dataframe thead th {\n",
       "        text-align: right;\n",
       "    }\n",
       "</style>\n",
       "<table border=\"1\" class=\"dataframe\">\n",
       "  <thead>\n",
       "    <tr style=\"text-align: right;\">\n",
       "      <th></th>\n",
       "      <th>load</th>\n",
       "      <th>temp</th>\n",
       "    </tr>\n",
       "  </thead>\n",
       "  <tbody>\n",
       "    <tr>\n",
       "      <th>2012-01-01 00:00:00</th>\n",
       "      <td>2698.0</td>\n",
       "      <td>32.00</td>\n",
       "    </tr>\n",
       "    <tr>\n",
       "      <th>2012-01-01 01:00:00</th>\n",
       "      <td>2558.0</td>\n",
       "      <td>32.67</td>\n",
       "    </tr>\n",
       "    <tr>\n",
       "      <th>2012-01-01 02:00:00</th>\n",
       "      <td>2444.0</td>\n",
       "      <td>30.00</td>\n",
       "    </tr>\n",
       "    <tr>\n",
       "      <th>2012-01-01 03:00:00</th>\n",
       "      <td>2402.0</td>\n",
       "      <td>31.00</td>\n",
       "    </tr>\n",
       "    <tr>\n",
       "      <th>2012-01-01 04:00:00</th>\n",
       "      <td>2403.0</td>\n",
       "      <td>32.00</td>\n",
       "    </tr>\n",
       "    <tr>\n",
       "      <th>...</th>\n",
       "      <td>...</td>\n",
       "      <td>...</td>\n",
       "    </tr>\n",
       "    <tr>\n",
       "      <th>2014-12-31 19:00:00</th>\n",
       "      <td>4012.0</td>\n",
       "      <td>18.00</td>\n",
       "    </tr>\n",
       "    <tr>\n",
       "      <th>2014-12-31 20:00:00</th>\n",
       "      <td>3856.0</td>\n",
       "      <td>16.67</td>\n",
       "    </tr>\n",
       "    <tr>\n",
       "      <th>2014-12-31 21:00:00</th>\n",
       "      <td>3671.0</td>\n",
       "      <td>17.00</td>\n",
       "    </tr>\n",
       "    <tr>\n",
       "      <th>2014-12-31 22:00:00</th>\n",
       "      <td>3499.0</td>\n",
       "      <td>15.33</td>\n",
       "    </tr>\n",
       "    <tr>\n",
       "      <th>2014-12-31 23:00:00</th>\n",
       "      <td>3345.0</td>\n",
       "      <td>15.33</td>\n",
       "    </tr>\n",
       "  </tbody>\n",
       "</table>\n",
       "<p>26304 rows × 2 columns</p>\n",
       "</div>"
      ],
      "text/plain": [
       "                       load   temp\n",
       "2012-01-01 00:00:00  2698.0  32.00\n",
       "2012-01-01 01:00:00  2558.0  32.67\n",
       "2012-01-01 02:00:00  2444.0  30.00\n",
       "2012-01-01 03:00:00  2402.0  31.00\n",
       "2012-01-01 04:00:00  2403.0  32.00\n",
       "...                     ...    ...\n",
       "2014-12-31 19:00:00  4012.0  18.00\n",
       "2014-12-31 20:00:00  3856.0  16.67\n",
       "2014-12-31 21:00:00  3671.0  17.00\n",
       "2014-12-31 22:00:00  3499.0  15.33\n",
       "2014-12-31 23:00:00  3345.0  15.33\n",
       "\n",
       "[26304 rows x 2 columns]"
      ]
     },
     "execution_count": 192,
     "metadata": {},
     "output_type": "execute_result"
    }
   ],
   "source": [
    "data_path = \"../data/energy.csv\"\n",
    "ts_data = loader(data_path=data_path, data=None, time_col='time')\n",
    "ts_data"
   ]
  },
  {
   "cell_type": "code",
   "execution_count": 193,
   "id": "a9677158-26fe-442a-bb78-6e6d5c7d8612",
   "metadata": {
    "execution": {
     "iopub.execute_input": "2024-11-04T07:22:26.661712Z",
     "iopub.status.busy": "2024-11-04T07:22:26.660724Z",
     "iopub.status.idle": "2024-11-04T07:22:26.774577Z",
     "shell.execute_reply": "2024-11-04T07:22:26.773579Z",
     "shell.execute_reply.started": "2024-11-04T07:22:26.661712Z"
    }
   },
   "outputs": [
    {
     "name": "stdout",
     "output_type": "stream",
     "text": [
      "x_train shape: (18412, 2) y_train shape: (18412, 1) stamp_train shape: (18412, 4)\n",
      "x_valid shape: (2631, 2) y_valid shape: (2631, 1) stamp_valid shape: (2631, 4)\n",
      "x_test shape: (5261, 2) y_test shape: (5261, 1) stamp_test shape: (5261, 4)\n"
     ]
    }
   ],
   "source": [
    "# 构造参数字典\n",
    "params1 = {\n",
    "    \"df\": ts_data,\n",
    "    \"train_ratio\": 0.7,\n",
    "    \"valid_ratio\": 0.1,\n",
    "    \"x_feature_list\": ['load', 'temp'],\n",
    "    \"y_feature_list\": ['temp'],\n",
    "    \"freq\": 'h',\n",
    "    \"scaler_path\": '../outputs/scalers/Transformer_transfer_learning'\n",
    "}\n",
    "\n",
    "# 函数传参\n",
    "x_scaler, y_scaler, train_data, valid_data, test_data = divider(**params1)\n",
    "print(\"x_train shape: {0} y_train shape: {1} stamp_train shape: {2}\".format(\n",
    "    train_data[0].shape, train_data[1].shape, train_data[2].shape))\n",
    "print(\"x_valid shape: {0} y_valid shape: {1} stamp_valid shape: {2}\".format(\n",
    "    valid_data[0].shape, valid_data[1].shape, valid_data[2].shape))\n",
    "print(\"x_test shape: {0} y_test shape: {1} stamp_test shape: {2}\".format(\n",
    "    test_data[0].shape, test_data[1].shape, test_data[2].shape))"
   ]
  },
  {
   "cell_type": "code",
   "execution_count": 194,
   "id": "f31eecae-796c-4e85-bb7c-21ae100c9602",
   "metadata": {
    "execution": {
     "iopub.execute_input": "2024-11-04T07:22:29.249517Z",
     "iopub.status.busy": "2024-11-04T07:22:29.248444Z",
     "iopub.status.idle": "2024-11-04T07:22:34.714943Z",
     "shell.execute_reply": "2024-11-04T07:22:34.713964Z",
     "shell.execute_reply.started": "2024-11-04T07:22:29.249517Z"
    }
   },
   "outputs": [
    {
     "name": "stdout",
     "output_type": "stream",
     "text": [
      "X_size: torch.Size([18350, 60, 2]),y_size: torch.Size([18350, 13, 1]),loader_len: 574\n",
      "X_size: torch.Size([2569, 60, 2]),y_size: torch.Size([2569, 13, 1]),loader_len: 81\n",
      "X_size: torch.Size([5199, 60, 2]),y_size: torch.Size([5199, 13, 1]),loader_len: 163\n"
     ]
    }
   ],
   "source": [
    "# 构造参数字典\n",
    "params2 = {\n",
    "    \"seq_len\": 60,\n",
    "    \"pred_len\": 3,\n",
    "    \"label_len\": 10,\n",
    "    \"batch_size\": 32,\n",
    "}\n",
    "X_train, y_train, X_train_stamp, y_train_stamp, train_loader = generator(\n",
    "    train_data, **params2)\n",
    "X_valid, y_valid, X_valid_stamp, y_valid_stamp, valid_loader = generator(\n",
    "    valid_data, **params2)\n",
    "X_test, y_test, X_test_stamp, y_test_stamp, test_loader = generator(\n",
    "    test_data, **params2)\n",
    "print(\"X_size: {0},y_size: {1},loader_len: {2}\".format(\n",
    "    X_train.shape, y_train.shape, len(train_loader)))\n",
    "print(\"X_size: {0},y_size: {1},loader_len: {2}\".format(\n",
    "    X_valid.shape, y_valid.shape, len(valid_loader)))\n",
    "print(\"X_size: {0},y_size: {1},loader_len: {2}\".format(\n",
    "    X_test.shape, y_test.shape, len(test_loader)))"
   ]
  },
  {
   "cell_type": "markdown",
   "id": "e6960901",
   "metadata": {},
   "source": [
    "### 定义新模型"
   ]
  },
  {
   "cell_type": "code",
   "execution_count": 201,
   "id": "455f04c7-e305-47b7-b3ec-9f8e257b3e47",
   "metadata": {
    "execution": {
     "iopub.execute_input": "2024-11-04T07:24:57.640350Z",
     "iopub.status.busy": "2024-11-04T07:24:57.639352Z",
     "iopub.status.idle": "2024-11-04T07:24:57.656356Z",
     "shell.execute_reply": "2024-11-04T07:24:57.655350Z",
     "shell.execute_reply.started": "2024-11-04T07:24:57.640350Z"
    }
   },
   "outputs": [],
   "source": [
    "class CustomModel(nn.Module):\n",
    "    def __init__(self, pretrained_model, pred_len, label_len, seq_len, c_out):\n",
    "        super(CustomModel, self).__init__()\n",
    "        self.seq_len = seq_len\n",
    "        self.pred_len = pred_len\n",
    "        self.label_len = label_len\n",
    "        \n",
    "        # 冻结全部层可在后面添加新层\n",
    "        self.pretrained_model = pretrained_model\n",
    "        for param in self.pretrained_model.parameters():\n",
    "            param.requires_grad = False\n",
    "            \n",
    "        # 替换其他层以满足输出维度要求\n",
    "        self.pretrained_model.dec_embedding.value_embedding.tokenConv = nn.Conv1d(\n",
    "            in_channels=c_out,  # 改为 1，匹配输入的通道数\n",
    "            out_channels=512,\n",
    "            kernel_size=3,\n",
    "            padding=1\n",
    "        )\n",
    "\n",
    "        # 添加新的层\n",
    "        self.new_layers = nn.Sequential(\n",
    "            nn.Linear(6, 256),  # 使用适合的输入特征数\n",
    "            nn.ReLU(),\n",
    "            nn.Dropout(0.1),\n",
    "            nn.Linear(256, (self.pred_len+self.label_len)*c_out)\n",
    "        )\n",
    "    \n",
    "    def forward(self, x_enc, x_mark_enc, x_dec, x_mark_dec):\n",
    "        # 使用预训练模型进行前向传播\n",
    "        x = self.pretrained_model(x_enc, x_mark_enc, x_dec, x_mark_dec)\n",
    "        x = x.view(x.size(0), -1)  # 保持 batch 大小\n",
    "        \n",
    "        # 通过新的层\n",
    "        x = self.new_layers(x)\n",
    "        \n",
    "        # 调整输出形状为 (B, pred_len+label_len, c_out) 以匹配期望的输出\n",
    "        x = x.view(x.size(0), (self.pred_len+self.label_len), -1)\n",
    "\n",
    "        # output\n",
    "        output = x[:, -self.pred_len:, :]  # [B, L, D]\n",
    "        \n",
    "        return output"
   ]
  },
  {
   "cell_type": "markdown",
   "id": "7dc0c5d7-e03c-4c3c-b3fd-f73953b2c963",
   "metadata": {},
   "source": [
    "### 训练新模型"
   ]
  },
  {
   "cell_type": "code",
   "execution_count": 204,
   "id": "31ef35da-3290-4e3b-b2fe-f9a381cb06f1",
   "metadata": {
    "execution": {
     "iopub.execute_input": "2024-11-04T07:25:28.302099Z",
     "iopub.status.busy": "2024-11-04T07:25:28.301102Z",
     "iopub.status.idle": "2024-11-04T07:25:28.348790Z",
     "shell.execute_reply": "2024-11-04T07:25:28.347787Z",
     "shell.execute_reply.started": "2024-11-04T07:25:28.302099Z"
    }
   },
   "outputs": [],
   "source": [
    "def train(train_args, model_args):\n",
    "    # 参数配置\n",
    "    features = train_args['features']  # 模型预测模式\n",
    "    model_name = train_args['model_name']  # 模型名称\n",
    "    train_loader = train_args['train_loader']  # 训练集\n",
    "    valid_loader = train_args['valid_loader']  # 验证集\n",
    "    n_epochs = train_args['n_epochs']  # 训练次数\n",
    "    learning_rate = train_args['learning_rate']  # 学习率\n",
    "    loss = train_args['loss']  # 损失函数\n",
    "    patience = train_args['patience']  # 最大早停次数阈值，超过就会早停\n",
    "    lradj = train_args['lradj']  # 学习率函数\n",
    "    model_path = train_args['model_path']  # 模型保存路径\n",
    "    verbose = train_args['verbose']  # 打印训练过程\n",
    "    plots = train_args['plots']  # 绘制损失图\n",
    "    device = train_args['device']  # 训练设备，可选'cuda'和'cpu'\n",
    "    pred_len = model_args['pred_len']  # 预测长度\n",
    "    label_len = model_args['label_len']\n",
    "\n",
    "    # 检查可用device\n",
    "    device = torch.device(device)\n",
    "\n",
    "    # 创建模型和优化器\n",
    "    model = model_name(**model_args).to(device)\n",
    "    optimizer = optim.Adam(model.parameters(), lr=learning_rate)\n",
    "    criterion = loss\n",
    "\n",
    "    # 调整学习率\n",
    "    def adjust_learning_rate(optimizer, epoch, lradj, learning_rate, train_epochs):\n",
    "        # lr = learning_rate * (0.2 ** (epoch // 2))\n",
    "        if lradj == 'type1':\n",
    "            lr_adjust = {epoch: learning_rate * (0.5 ** ((epoch - 1) // 1))}\n",
    "        elif lradj == 'type2':\n",
    "            lr_adjust = {\n",
    "                2: 5e-5, 4: 1e-5, 6: 5e-6, 8: 1e-6,\n",
    "                10: 5e-7, 15: 1e-7, 20: 5e-8\n",
    "            }\n",
    "        elif lradj == \"cosine\":\n",
    "            lr_adjust = {epoch: learning_rate / 2 *\n",
    "                         (1 + math.cos(epoch / train_epochs * math.pi))}\n",
    "        if epoch in lr_adjust.keys():\n",
    "            lr = lr_adjust[epoch]\n",
    "            # 参数组(param_groups)是用来指定不同的参数组以便对它们进行不同的优化设置，比如'lr'\n",
    "            for param_group in optimizer.param_groups:\n",
    "                param_group['lr'] = lr\n",
    "            print('Updating learning rate to {}'.format(lr))\n",
    "\n",
    "    # 设置早停\n",
    "    class EarlyStopping():\n",
    "        def __init__(self, patience=7, verbose=False, delta=0):\n",
    "            self.patience = patience  # 连续超限次数，如果满足条件，则早停\n",
    "            self.verbose = verbose\n",
    "            self.counter = 0\n",
    "            self.best_score = None\n",
    "            self.early_stop = False\n",
    "            self.val_loss_min = np.Inf\n",
    "            self.delta = delta\n",
    "\n",
    "        def __call__(self, val_loss, model, path):\n",
    "            score = -val_loss\n",
    "            if self.best_score is None:\n",
    "                self.best_score = score\n",
    "                self.save_checkpoint(val_loss, model, path)\n",
    "            elif score < self.best_score + self.delta:\n",
    "                self.counter += 1\n",
    "                print(\n",
    "                    f'EarlyStopping counter: {self.counter} out of {self.patience}')\n",
    "                if self.counter >= self.patience:\n",
    "                    self.early_stop = True\n",
    "            else:\n",
    "                self.best_score = score\n",
    "                self.save_checkpoint(val_loss, model, path)\n",
    "                self.counter = 0\n",
    "\n",
    "        def save_checkpoint(self, val_loss, model, path):\n",
    "            if self.verbose:\n",
    "                print(\n",
    "                    f'Validation loss decreased ({self.val_loss_min:.6f} --> {val_loss:.6f}).  Saving model ...')\n",
    "            with open(path + '/' + 'checkpoint.pth', 'wb') as f:\n",
    "                torch.save(model.state_dict(), f)\n",
    "            self.val_loss_min = val_loss\n",
    "    early_stopping = EarlyStopping(patience=patience, verbose=verbose)\n",
    "\n",
    "    # 设置保存模型路径\n",
    "    if not os.path.exists(model_path):\n",
    "        os.makedirs(model_path)\n",
    "\n",
    "    # 模型训练和验证\n",
    "    train_losses, val_losses = [], []\n",
    "    for epoch in tqdm(range(n_epochs)):\n",
    "        model.train()\n",
    "        total_train_loss = 0\n",
    "        for batch_x, batch_y, batch_x_mark, batch_y_mark in train_loader:\n",
    "            # 将数据移至 device\n",
    "            batch_x = batch_x.to(device)  # 会用到实际数据\n",
    "            batch_y = batch_y.to(device)  # 只用来获取维度，不会用到实际数据，防止泄露信息\n",
    "            batch_x_mark = batch_x_mark.to(device)\n",
    "            batch_y_mark = batch_y_mark.to(device)\n",
    "            # 清空梯度\n",
    "            optimizer.zero_grad()\n",
    "            # decoder输入\n",
    "            dec_inp = torch.zeros_like(batch_y[:, -pred_len:, :]).float()\n",
    "            dec_inp = torch.cat([batch_y[:, :label_len, :], dec_inp], dim=1).float().to(device)\n",
    "            outputs = model(batch_x, batch_x_mark, dec_inp, batch_y_mark)\n",
    "            f_dim = -1 if features == 'MS' else 0\n",
    "            outputs = outputs[:, -pred_len:, f_dim:]\n",
    "            batch_y = batch_y[:, -pred_len:, f_dim:]\n",
    "            train_loss = criterion(outputs, batch_y)\n",
    "            # 反向传播计算得到每个参数的梯度值\n",
    "            train_loss.backward()\n",
    "            # 通过梯度下降执行一步参数更新\n",
    "            optimizer.step()\n",
    "            # 每个batch的loss和\n",
    "            total_train_loss += train_loss.item()  # .item()表示只包含一个元素的tensor中提取值\n",
    "\n",
    "        # 每个epoch的损失平均\n",
    "        avg_train_loss = total_train_loss / len(train_loader)\n",
    "\n",
    "        # 所有epoch的loss\n",
    "        train_losses.append(avg_train_loss)\n",
    "\n",
    "        # 评估模型\n",
    "        model.eval()\n",
    "        # 关闭自动求导功能，只使用训练好的模型进行预测或评估，不需要进行梯度计算和参数更新\n",
    "        with torch.no_grad():\n",
    "            total_val_loss = 0\n",
    "            for batch_x, batch_y, batch_x_mark, batch_y_mark in valid_loader:\n",
    "                # 将数据移至 device\n",
    "                batch_x = batch_x.to(device)  # 会用到实际数据\n",
    "                batch_y = batch_y.to(device)  # 只用来获取维度，不会用到实际数据，防止泄露信息\n",
    "                batch_x_mark = batch_x_mark.to(device)\n",
    "                batch_y_mark = batch_y_mark.to(device)\n",
    "                # decoder输入\n",
    "                dec_inp = torch.zeros_like(batch_y[:, -pred_len:, :]).float()\n",
    "                dec_inp = torch.cat([batch_y[:, :label_len, :], dec_inp], dim=1).float().to(device)\n",
    "                outputs = model(batch_x, batch_x_mark, dec_inp, batch_y_mark)\n",
    "                f_dim = -1 if features == 'MS' else 0\n",
    "                outputs = outputs[:, -pred_len:, f_dim:]\n",
    "                batch_y = batch_y[:, -pred_len:, f_dim:]\n",
    "                val_loss = criterion(outputs, batch_y)\n",
    "                # 每个batch的loss和\n",
    "                total_val_loss += val_loss.item()\n",
    "\n",
    "        # 每个epoch的损失平均\n",
    "        avg_val_loss = total_val_loss / len(valid_loader)\n",
    "\n",
    "        # 所有epoch的loss\n",
    "        val_losses.append(avg_val_loss)\n",
    "\n",
    "        # 打印训练过程\n",
    "        if verbose:\n",
    "            print(f'Epoch [{epoch+1}/{n_epochs}], Training Loss: {avg_train_loss:.4f}, Validation Loss: {avg_val_loss:.4f}')\n",
    "\n",
    "        # 设置早停\n",
    "        early_stopping(avg_val_loss, model, model_path)\n",
    "        if early_stopping.early_stop:\n",
    "            print(\"Early stopping!\")\n",
    "            break\n",
    "\n",
    "        # 调整学习率\n",
    "        adjust_learning_rate(optimizer, epoch+1, lradj,\n",
    "                             learning_rate, n_epochs)\n",
    "\n",
    "    # 绘制损失函数图\n",
    "    def plot_loss(train_losses, val_losses):\n",
    "        plt.figure(figsize=(10, 5))\n",
    "        plt.style.use('seaborn-v0_8-paper')  # 绘制背景色\n",
    "        plt.grid(axis='y', linewidth=0.35)  # 绘制网格\n",
    "        plt.plot(val_losses, linestyle='-', color='#11b3b6')\n",
    "        plt.plot(train_losses, linestyle='-', color='#f14643')\n",
    "        plt.xlabel(\"Epoch\")\n",
    "        plt.ylabel(\"Loss\")\n",
    "        plt.title(\"Training and Validation Progress\")\n",
    "        plt.legend([\"Validation\", \"Training\"])\n",
    "        plt.show()\n",
    "    if plots:\n",
    "        plot_loss(train_losses, val_losses)\n",
    "\n",
    "    return model"
   ]
  },
  {
   "cell_type": "code",
   "execution_count": 205,
   "id": "47f5dd41-0697-49a6-a290-52802a28d884",
   "metadata": {
    "execution": {
     "iopub.execute_input": "2024-11-04T07:25:29.021616Z",
     "iopub.status.busy": "2024-11-04T07:25:29.020678Z",
     "iopub.status.idle": "2024-11-04T07:29:38.091888Z",
     "shell.execute_reply": "2024-11-04T07:29:38.090995Z",
     "shell.execute_reply.started": "2024-11-04T07:25:29.021616Z"
    },
    "scrolled": true
   },
   "outputs": [
    {
     "name": "stderr",
     "output_type": "stream",
     "text": [
      "  5%|████▏                                                                              | 1/20 [00:24<07:43, 24.41s/it]"
     ]
    },
    {
     "name": "stdout",
     "output_type": "stream",
     "text": [
      "Epoch [1/20], Training Loss: 0.0061, Validation Loss: 0.0007\n",
      "Validation loss decreased (inf --> 0.000660).  Saving model ...\n",
      "Updating learning rate to 0.0009938441702975688\n"
     ]
    },
    {
     "name": "stderr",
     "output_type": "stream",
     "text": [
      " 10%|████████▎                                                                          | 2/20 [00:53<08:05, 27.00s/it]"
     ]
    },
    {
     "name": "stdout",
     "output_type": "stream",
     "text": [
      "Epoch [2/20], Training Loss: 0.0015, Validation Loss: 0.0006\n",
      "Validation loss decreased (0.000660 --> 0.000645).  Saving model ...\n",
      "Updating learning rate to 0.0009755282581475768\n"
     ]
    },
    {
     "name": "stderr",
     "output_type": "stream",
     "text": [
      " 15%|████████████▍                                                                      | 3/20 [01:22<07:52, 27.82s/it]"
     ]
    },
    {
     "name": "stdout",
     "output_type": "stream",
     "text": [
      "Epoch [3/20], Training Loss: 0.0012, Validation Loss: 0.0006\n",
      "Validation loss decreased (0.000645 --> 0.000616).  Saving model ...\n",
      "Updating learning rate to 0.0009455032620941839\n"
     ]
    },
    {
     "name": "stderr",
     "output_type": "stream",
     "text": [
      " 20%|████████████████▌                                                                  | 4/20 [01:49<07:26, 27.88s/it]"
     ]
    },
    {
     "name": "stdout",
     "output_type": "stream",
     "text": [
      "Epoch [4/20], Training Loss: 0.0010, Validation Loss: 0.0006\n",
      "EarlyStopping counter: 1 out of 5\n",
      "Updating learning rate to 0.0009045084971874737\n"
     ]
    },
    {
     "name": "stderr",
     "output_type": "stream",
     "text": [
      " 25%|████████████████████▊                                                              | 5/20 [02:30<08:07, 32.53s/it]"
     ]
    },
    {
     "name": "stdout",
     "output_type": "stream",
     "text": [
      "Epoch [5/20], Training Loss: 0.0010, Validation Loss: 0.0006\n",
      "EarlyStopping counter: 2 out of 5\n",
      "Updating learning rate to 0.0008535533905932737\n"
     ]
    },
    {
     "name": "stderr",
     "output_type": "stream",
     "text": [
      " 30%|████████████████████████▉                                                          | 6/20 [03:03<07:36, 32.57s/it]"
     ]
    },
    {
     "name": "stdout",
     "output_type": "stream",
     "text": [
      "Epoch [6/20], Training Loss: 0.0010, Validation Loss: 0.0007\n",
      "EarlyStopping counter: 3 out of 5\n",
      "Updating learning rate to 0.0007938926261462366\n"
     ]
    },
    {
     "name": "stderr",
     "output_type": "stream",
     "text": [
      " 35%|█████████████████████████████                                                      | 7/20 [03:36<07:05, 32.76s/it]"
     ]
    },
    {
     "name": "stdout",
     "output_type": "stream",
     "text": [
      "Epoch [7/20], Training Loss: 0.0009, Validation Loss: 0.0006\n",
      "EarlyStopping counter: 4 out of 5\n",
      "Updating learning rate to 0.0007269952498697733\n"
     ]
    },
    {
     "name": "stderr",
     "output_type": "stream",
     "text": [
      " 35%|█████████████████████████████                                                      | 7/20 [04:08<07:41, 35.51s/it]"
     ]
    },
    {
     "name": "stdout",
     "output_type": "stream",
     "text": [
      "Epoch [8/20], Training Loss: 0.0009, Validation Loss: 0.0006\n",
      "EarlyStopping counter: 5 out of 5\n",
      "Early stopping!\n"
     ]
    },
    {
     "name": "stderr",
     "output_type": "stream",
     "text": [
      "\n"
     ]
    },
    {
     "data": {
      "image/png": "[encoded data removed]",
      "text/plain": [
       "<Figure size 1000x500 with 1 Axes>"
      ]
     },
     "metadata": {},
     "output_type": "display_data"
    }
   ],
   "source": [
    "# 构造参数字典\n",
    "params3 = {\n",
    "    \"train_args\": {\n",
    "        \"features\": 'MS',\n",
    "        \"model_name\": CustomModel,\n",
    "        \"train_loader\": train_loader,\n",
    "        \"valid_loader\": valid_loader,\n",
    "        \"n_epochs\": 20,\n",
    "        \"learning_rate\": 0.001,\n",
    "        \"loss\": nn.MSELoss(),\n",
    "        \"patience\": 5,\n",
    "        \"lradj\": 'cosine',\n",
    "        \"model_path\": \"../outputs/best_models/CustomModel\",\n",
    "        \"device\": 'cuda',\n",
    "        \"verbose\": True,\n",
    "        \"plots\": True,\n",
    "    },\n",
    "    \"model_args\": {\n",
    "        'pretrained_model': pretrained_model,\n",
    "        'c_out': 1,\n",
    "        'seq_len': 60,\n",
    "        'pred_len': 3,\n",
    "        \"label_len\": 10,\n",
    "    },\n",
    "}\n",
    "model = train(**params3)"
   ]
  },
  {
   "cell_type": "markdown",
   "id": "6ce1fcea",
   "metadata": {},
   "source": [
    "# 知识蒸馏"
   ]
  },
  {
   "cell_type": "markdown",
   "id": "7c2f916e",
   "metadata": {},
   "source": [
    "知识蒸馏（Knowledge Distillation）是一种利用预训练的模型（通常是大模型）的知识来提升目标任务上小模型的性能的方法。"
   ]
  },
  {
   "cell_type": "markdown",
   "id": "8083c69b",
   "metadata": {},
   "source": [
    "1. 提升模型精度\n",
    "\n",
    "如果对目前的网络模型A的精度不是很满意，那么可以先训练一个更高精度的teacher模型B（通常参数量更多，时延更大），然后用这个训练好的teacher模型B对student模型A进行知识蒸馏，得到一个更高精度的A模型。\n",
    "\n",
    "2. 降低模型时延，压缩网络参数\n",
    "\n",
    "如果对目前的网络模型A的时延不满意，可以先找到一个时延更低，参数量更小的模型B，通常来讲，这种模型精度也会比较低，然后通过训练一个更高精度的teacher模型C来对这个参数量小的模型B进行知识蒸馏，使得该模型B的精度接近最原始的模型A，从而达到降低时延的目的。\n",
    "\n",
    "3. 标签之间的域迁移\n",
    "\n",
    "假如使用狗和猫的数据集训练了一个teacher模型A，使用香蕉和苹果训练了一个teacher模型B，那么就可以用这两个模型同时蒸馏出一个可以识别狗、猫、香蕉以及苹果的模型，将两个不同域的数据集进行集成和迁移。"
   ]
  },
  {
   "cell_type": "markdown",
   "id": "e39f48b4",
   "metadata": {},
   "source": [
    "知识蒸馏采取Teacher-Student模式：将复杂且大的模型作为Teacher，Student模型结构较为简单，用Teacher来辅助Student模型的训练，Teacher学习能力强，可以将它学到的知识迁移给学习能力相对弱的Student模型，以此来增强Student模型的泛化能力。复杂笨重但是效果好的Teacher模型不上线，就单纯是个导师角色，真正部署上线进行预测任务的是灵活轻巧的Student小模型。"
   ]
  },
  {
   "cell_type": "markdown",
   "id": "3716cf62-3281-4340-9a9c-6e39b8401e4b",
   "metadata": {},
   "source": [
    "知识蒸馏（Knowledge Distillation）的任务不一定需要完全相同，但通常需要一定的相似性以确保知识能够有效传递。知识蒸馏的主要目的是将大模型（教师模型）的知识传递给小模型（学生模型），以便学生模型能够在更小的计算资源下，达到接近教师模型的性能。\n",
    "\n",
    "任务相似性的要求\n",
    "- 相同任务：在大多数情况下，知识蒸馏用于相同任务，例如分类、检测或分割。这样，学生模型能够学习教师模型对相同输入的预测表现，确保知识蒸馏效果较好。\n",
    "\n",
    "- 相似任务：对于一些具有高度相似性的任务，例如教师模型是一个多类别分类器，而学生模型的任务是少数类别的分类器，知识蒸馏也可以有效。此时，教师模型提供的类别概率分布可以帮助学生模型更好地学习这些少数类别之间的区分。\n",
    "\n",
    "- 不同但相关的任务：如果任务并不完全相同，但具有一定相关性（如从图像分类模型蒸馏到物体检测模型），可以通过特征蒸馏或中间层蒸馏的方式，将教师模型的部分特征或中间输出传递给学生模型。但这种情况下，蒸馏效果可能不如相同任务，因为学生模型不一定能够完全利用教师模型的知识。\n",
    "\n",
    "知识蒸馏的方式\n",
    "\n",
    "不同的蒸馏方式也可以让任务不完全相同的模型进行知识传递：\n",
    "\n",
    "- 软标签蒸馏：教师模型输出的软标签（类别概率分布）作为学生模型的训练目标。这种方式适用于同一任务或类似分类任务。\n",
    "- 特征蒸馏：在中间层进行特征匹配，将教师模型的中间特征作为学生模型的学习目标。适用于不同但有相似结构的任务。\n",
    "- 关系蒸馏：学习不同样本间的相对关系，如相似性矩阵等，可以在不同任务间传递结构信息。"
   ]
  },
  {
   "cell_type": "markdown",
   "id": "de69abda",
   "metadata": {},
   "source": [
    "## 数据准备"
   ]
  },
  {
   "cell_type": "code",
   "execution_count": 6,
   "id": "5cb75cec-a24b-4e09-aadd-bc110d1eeb6f",
   "metadata": {
    "execution": {
     "iopub.execute_input": "2024-11-04T08:39:05.343724Z",
     "iopub.status.busy": "2024-11-04T08:39:05.342725Z",
     "iopub.status.idle": "2024-11-04T08:39:05.456059Z",
     "shell.execute_reply": "2024-11-04T08:39:05.455007Z",
     "shell.execute_reply.started": "2024-11-04T08:39:05.343724Z"
    }
   },
   "outputs": [
    {
     "data": {
      "text/html": [
       "<div>\n",
       "<style scoped>\n",
       "    .dataframe tbody tr th:only-of-type {\n",
       "        vertical-align: middle;\n",
       "    }\n",
       "\n",
       "    .dataframe tbody tr th {\n",
       "        vertical-align: top;\n",
       "    }\n",
       "\n",
       "    .dataframe thead th {\n",
       "        text-align: right;\n",
       "    }\n",
       "</style>\n",
       "<table border=\"1\" class=\"dataframe\">\n",
       "  <thead>\n",
       "    <tr style=\"text-align: right;\">\n",
       "      <th></th>\n",
       "      <th>load</th>\n",
       "      <th>temp</th>\n",
       "    </tr>\n",
       "  </thead>\n",
       "  <tbody>\n",
       "    <tr>\n",
       "      <th>2012-01-01 00:00:00</th>\n",
       "      <td>2698.0</td>\n",
       "      <td>32.00</td>\n",
       "    </tr>\n",
       "    <tr>\n",
       "      <th>2012-01-01 01:00:00</th>\n",
       "      <td>2558.0</td>\n",
       "      <td>32.67</td>\n",
       "    </tr>\n",
       "    <tr>\n",
       "      <th>2012-01-01 02:00:00</th>\n",
       "      <td>2444.0</td>\n",
       "      <td>30.00</td>\n",
       "    </tr>\n",
       "    <tr>\n",
       "      <th>2012-01-01 03:00:00</th>\n",
       "      <td>2402.0</td>\n",
       "      <td>31.00</td>\n",
       "    </tr>\n",
       "    <tr>\n",
       "      <th>2012-01-01 04:00:00</th>\n",
       "      <td>2403.0</td>\n",
       "      <td>32.00</td>\n",
       "    </tr>\n",
       "    <tr>\n",
       "      <th>...</th>\n",
       "      <td>...</td>\n",
       "      <td>...</td>\n",
       "    </tr>\n",
       "    <tr>\n",
       "      <th>2014-12-31 19:00:00</th>\n",
       "      <td>4012.0</td>\n",
       "      <td>18.00</td>\n",
       "    </tr>\n",
       "    <tr>\n",
       "      <th>2014-12-31 20:00:00</th>\n",
       "      <td>3856.0</td>\n",
       "      <td>16.67</td>\n",
       "    </tr>\n",
       "    <tr>\n",
       "      <th>2014-12-31 21:00:00</th>\n",
       "      <td>3671.0</td>\n",
       "      <td>17.00</td>\n",
       "    </tr>\n",
       "    <tr>\n",
       "      <th>2014-12-31 22:00:00</th>\n",
       "      <td>3499.0</td>\n",
       "      <td>15.33</td>\n",
       "    </tr>\n",
       "    <tr>\n",
       "      <th>2014-12-31 23:00:00</th>\n",
       "      <td>3345.0</td>\n",
       "      <td>15.33</td>\n",
       "    </tr>\n",
       "  </tbody>\n",
       "</table>\n",
       "<p>26304 rows × 2 columns</p>\n",
       "</div>"
      ],
      "text/plain": [
       "                       load   temp\n",
       "2012-01-01 00:00:00  2698.0  32.00\n",
       "2012-01-01 01:00:00  2558.0  32.67\n",
       "2012-01-01 02:00:00  2444.0  30.00\n",
       "2012-01-01 03:00:00  2402.0  31.00\n",
       "2012-01-01 04:00:00  2403.0  32.00\n",
       "...                     ...    ...\n",
       "2014-12-31 19:00:00  4012.0  18.00\n",
       "2014-12-31 20:00:00  3856.0  16.67\n",
       "2014-12-31 21:00:00  3671.0  17.00\n",
       "2014-12-31 22:00:00  3499.0  15.33\n",
       "2014-12-31 23:00:00  3345.0  15.33\n",
       "\n",
       "[26304 rows x 2 columns]"
      ]
     },
     "execution_count": 6,
     "metadata": {},
     "output_type": "execute_result"
    }
   ],
   "source": [
    "data_path = \"../data/energy.csv\"\n",
    "ts_data = loader(data_path=data_path, data=None, time_col='time')\n",
    "ts_data"
   ]
  },
  {
   "cell_type": "code",
   "execution_count": 7,
   "id": "a1c96ac2-dcf5-42f0-aebb-b6ba7de6b49f",
   "metadata": {
    "execution": {
     "iopub.execute_input": "2024-11-04T08:39:06.172763Z",
     "iopub.status.busy": "2024-11-04T08:39:06.169761Z",
     "iopub.status.idle": "2024-11-04T08:39:06.295105Z",
     "shell.execute_reply": "2024-11-04T08:39:06.294108Z",
     "shell.execute_reply.started": "2024-11-04T08:39:06.172763Z"
    }
   },
   "outputs": [
    {
     "name": "stdout",
     "output_type": "stream",
     "text": [
      "x_train shape: (18412, 2) y_train shape: (18412, 2) stamp_train shape: (18412, 4)\n",
      "x_valid shape: (2631, 2) y_valid shape: (2631, 2) stamp_valid shape: (2631, 4)\n",
      "x_test shape: (5261, 2) y_test shape: (5261, 2) stamp_test shape: (5261, 4)\n"
     ]
    }
   ],
   "source": [
    "# 构造参数字典\n",
    "params1 = {\n",
    "    \"df\": ts_data,\n",
    "    \"train_ratio\": 0.7,\n",
    "    \"valid_ratio\": 0.1,\n",
    "    \"x_feature_list\": ['load', 'temp'],\n",
    "    \"y_feature_list\": ['load', 'temp'],\n",
    "    \"freq\": 'h',\n",
    "    \"scaler_path\": '../outputs/scalers/Teacher_Student'\n",
    "}\n",
    "\n",
    "# 函数传参\n",
    "x_scaler, y_scaler, train_data, valid_data, test_data = divider(**params1)\n",
    "print(\"x_train shape: {0} y_train shape: {1} stamp_train shape: {2}\".format(\n",
    "    train_data[0].shape, train_data[1].shape, train_data[2].shape))\n",
    "print(\"x_valid shape: {0} y_valid shape: {1} stamp_valid shape: {2}\".format(\n",
    "    valid_data[0].shape, valid_data[1].shape, valid_data[2].shape))\n",
    "print(\"x_test shape: {0} y_test shape: {1} stamp_test shape: {2}\".format(\n",
    "    test_data[0].shape, test_data[1].shape, test_data[2].shape))"
   ]
  },
  {
   "cell_type": "code",
   "execution_count": 8,
   "id": "ad357406-79bd-4d7a-ab16-1011fb5b2ac4",
   "metadata": {
    "execution": {
     "iopub.execute_input": "2024-11-04T08:39:07.860320Z",
     "iopub.status.busy": "2024-11-04T08:39:07.858321Z",
     "iopub.status.idle": "2024-11-04T08:39:13.782265Z",
     "shell.execute_reply": "2024-11-04T08:39:13.781402Z",
     "shell.execute_reply.started": "2024-11-04T08:39:07.860320Z"
    }
   },
   "outputs": [
    {
     "name": "stdout",
     "output_type": "stream",
     "text": [
      "X_size: torch.Size([18350, 60, 2]),y_size: torch.Size([18350, 13, 2]),loader_len: 574\n",
      "X_size: torch.Size([2569, 60, 2]),y_size: torch.Size([2569, 13, 2]),loader_len: 81\n",
      "X_size: torch.Size([5199, 60, 2]),y_size: torch.Size([5199, 13, 2]),loader_len: 163\n"
     ]
    }
   ],
   "source": [
    "# 构造参数字典\n",
    "params2 = {\n",
    "    \"seq_len\": 60,\n",
    "    \"pred_len\": 3,\n",
    "    \"label_len\": 10,\n",
    "    \"batch_size\": 32,\n",
    "}\n",
    "X_train, y_train, X_train_stamp, y_train_stamp, train_loader = generator(\n",
    "    train_data, **params2)\n",
    "X_valid, y_valid, X_valid_stamp, y_valid_stamp, valid_loader = generator(\n",
    "    valid_data, **params2)\n",
    "X_test, y_test, X_test_stamp, y_test_stamp, test_loader = generator(\n",
    "    test_data, **params2)\n",
    "print(\"X_size: {0},y_size: {1},loader_len: {2}\".format(\n",
    "    X_train.shape, y_train.shape, len(train_loader)))\n",
    "print(\"X_size: {0},y_size: {1},loader_len: {2}\".format(\n",
    "    X_valid.shape, y_valid.shape, len(valid_loader)))\n",
    "print(\"X_size: {0},y_size: {1},loader_len: {2}\".format(\n",
    "    X_test.shape, y_test.shape, len(test_loader)))"
   ]
  },
  {
   "cell_type": "markdown",
   "id": "c8a9ec04",
   "metadata": {},
   "source": [
    "## Teacher模型"
   ]
  },
  {
   "cell_type": "code",
   "execution_count": 9,
   "id": "2fc84dbc-bca2-4d86-b05a-23ad4067eb30",
   "metadata": {
    "execution": {
     "iopub.execute_input": "2024-11-04T08:39:16.304322Z",
     "iopub.status.busy": "2024-11-04T08:39:16.304067Z",
     "iopub.status.idle": "2024-11-04T08:39:17.379628Z",
     "shell.execute_reply": "2024-11-04T08:39:17.378626Z",
     "shell.execute_reply.started": "2024-11-04T08:39:16.304322Z"
    }
   },
   "outputs": [
    {
     "data": {
      "text/plain": [
       "<All keys matched successfully>"
      ]
     },
     "execution_count": 9,
     "metadata": {},
     "output_type": "execute_result"
    }
   ],
   "source": [
    "# 定义预训练模型\n",
    "import sys\n",
    "path = '../scripts/Transformer/'  # 项目所在文件夹\n",
    "sys.path.insert(0, path)\n",
    "\n",
    "# 加载模型\n",
    "from Transformer import Transformer\n",
    "model_args = {\n",
    "    'seq_len': 60,\n",
    "    'pred_len': 3,\n",
    "    'label_len': 10,\n",
    "    'output_attention': True,\n",
    "    'embed': 'timeF', \n",
    "    'freq': 'h',\n",
    "    'd_model': 512,\n",
    "    'enc_in': 2,\n",
    "    'dec_in': 2,\n",
    "    'dropout': 0.1,\n",
    "    'factor': 3,\n",
    "    'n_heads': 8,\n",
    "    'd_ff': 128,\n",
    "    'e_layers': 2,\n",
    "    'd_layers': 2,\n",
    "    'c_out': 2\n",
    "}\n",
    "teacher_model = Transformer(**model_args)  # 定义模型实例\n",
    "model_path = '../outputs/best_models/Transformer/checkpoint.pth'\n",
    "teacher_model.load_state_dict(torch.load(model_path))  # 加载模型权重"
   ]
  },
  {
   "cell_type": "markdown",
   "id": "54fb7622",
   "metadata": {},
   "source": [
    "## Student模型"
   ]
  },
  {
   "cell_type": "code",
   "execution_count": 10,
   "id": "d0011f0a",
   "metadata": {
    "ExecuteTime": {
     "end_time": "2024-01-12T01:06:25.829213Z",
     "start_time": "2024-01-12T01:06:25.823207Z"
    },
    "execution": {
     "iopub.execute_input": "2024-11-04T08:39:21.212480Z",
     "iopub.status.busy": "2024-11-04T08:39:21.212480Z",
     "iopub.status.idle": "2024-11-04T08:39:21.226489Z",
     "shell.execute_reply": "2024-11-04T08:39:21.225478Z",
     "shell.execute_reply.started": "2024-11-04T08:39:21.212480Z"
    }
   },
   "outputs": [],
   "source": [
    "# LSTM模型\n",
    "class LSTM(nn.Module):\n",
    "    def __init__(self, seq_len, pred_len, label_len, c_in, c_out, d_model, num_layers):\n",
    "        super().__init__()\n",
    "        self.pred_len = pred_len\n",
    "        self.lstm = nn.LSTM(input_size=c_in, hidden_size=d_model, num_layers=num_layers, batch_first=True)\n",
    "        self.linear = nn.Linear(in_features=d_model, out_features=c_out)\n",
    "    def forward(self, x_enc, x_mark_enc, x_dec, x_mark_dec):\n",
    "        x, _ = self.lstm(x_enc)\n",
    "        x = self.linear(x)\n",
    "        x = x[:, -self.pred_len:, :]  # [B, L, D]\n",
    "\n",
    "        return x"
   ]
  },
  {
   "cell_type": "code",
   "execution_count": 11,
   "id": "7a39a1c2",
   "metadata": {
    "ExecuteTime": {
     "end_time": "2024-01-12T01:06:26.823832Z",
     "start_time": "2024-01-12T01:06:26.819438Z"
    },
    "execution": {
     "iopub.execute_input": "2024-11-04T08:39:24.948614Z",
     "iopub.status.busy": "2024-11-04T08:39:24.946663Z",
     "iopub.status.idle": "2024-11-04T08:39:24.970608Z",
     "shell.execute_reply": "2024-11-04T08:39:24.968642Z",
     "shell.execute_reply.started": "2024-11-04T08:39:24.948614Z"
    }
   },
   "outputs": [],
   "source": [
    "# 初始化\n",
    "model_args = {\n",
    "    'seq_len': 60,\n",
    "    'pred_len': 3,\n",
    "    \"label_len\": 10,\n",
    "    'd_model': 128,\n",
    "    'c_in': 2,\n",
    "    'c_out': 2,\n",
    "    'num_layers': 2,\n",
    "}\n",
    "\n",
    "student_model = LSTM(**model_args)"
   ]
  },
  {
   "cell_type": "markdown",
   "id": "a5d60fe1",
   "metadata": {},
   "source": [
    "## 定义损失函数"
   ]
  },
  {
   "cell_type": "code",
   "execution_count": 12,
   "id": "b213b010",
   "metadata": {
    "ExecuteTime": {
     "end_time": "2024-01-12T01:06:49.073074Z",
     "start_time": "2024-01-12T01:06:49.066958Z"
    },
    "execution": {
     "iopub.execute_input": "2024-11-04T08:39:35.055648Z",
     "iopub.status.busy": "2024-11-04T08:39:35.055163Z",
     "iopub.status.idle": "2024-11-04T08:39:35.078732Z",
     "shell.execute_reply": "2024-11-04T08:39:35.076781Z",
     "shell.execute_reply.started": "2024-11-04T08:39:35.055648Z"
    }
   },
   "outputs": [],
   "source": [
    "class KnowledgeDistillationLoss(nn.Module):\n",
    "    def __init__(self, temperature=1.0):\n",
    "        super(KnowledgeDistillationLoss, self).__init__()\n",
    "        # 温度调节项是知识蒸馏中的一种技巧，它用于调整软标签（teacher模型的输出）的分布，以便更有效地传递知识给学生模型。\n",
    "        self.temperature = temperature \n",
    "        self.mse_loss = nn.MSELoss()\n",
    "\n",
    "    def forward(self, student_outputs, teacher_outputs):\n",
    "        # 计算 MSE 损失\n",
    "        mse_loss = self.mse_loss(student_outputs, teacher_outputs)\n",
    "\n",
    "        # 添加温度调节\n",
    "        loss = mse_loss / (2 * self.temperature**2)\n",
    "\n",
    "        return loss"
   ]
  },
  {
   "cell_type": "code",
   "execution_count": 13,
   "id": "513d8e64",
   "metadata": {
    "ExecuteTime": {
     "end_time": "2024-01-12T01:06:49.759686Z",
     "start_time": "2024-01-12T01:06:49.755171Z"
    },
    "execution": {
     "iopub.execute_input": "2024-11-04T08:39:36.117733Z",
     "iopub.status.busy": "2024-11-04T08:39:36.115802Z",
     "iopub.status.idle": "2024-11-04T08:39:36.147306Z",
     "shell.execute_reply": "2024-11-04T08:39:36.140987Z",
     "shell.execute_reply.started": "2024-11-04T08:39:36.117733Z"
    }
   },
   "outputs": [],
   "source": [
    "loss_fn = KnowledgeDistillationLoss(temperature=2.0)"
   ]
  },
  {
   "cell_type": "markdown",
   "id": "090217ec",
   "metadata": {},
   "source": [
    "## T-S模型训练"
   ]
  },
  {
   "cell_type": "code",
   "execution_count": 18,
   "id": "10cec238-edad-4920-af48-2313bccf16f3",
   "metadata": {
    "execution": {
     "iopub.execute_input": "2024-11-04T08:41:42.583865Z",
     "iopub.status.busy": "2024-11-04T08:41:42.581860Z",
     "iopub.status.idle": "2024-11-04T08:41:42.641854Z",
     "shell.execute_reply": "2024-11-04T08:41:42.640973Z",
     "shell.execute_reply.started": "2024-11-04T08:41:42.583865Z"
    }
   },
   "outputs": [],
   "source": [
    "def train(train_args):\n",
    "    # 参数配置\n",
    "    features = train_args['features']  # 模型预测模式\n",
    "    teacher_model_name = train_args['teacher_model_name']  # 教师模型名称\n",
    "    student_model_name = train_args['student_model_name'] # 学生模型名称\n",
    "    train_loader = train_args['train_loader']  # 训练集\n",
    "    valid_loader = train_args['valid_loader']  # 验证集\n",
    "    n_epochs = train_args['n_epochs']  # 训练次数\n",
    "    learning_rate = train_args['learning_rate']  # 学习率\n",
    "    loss = train_args['loss']  # 损失函数\n",
    "    patience = train_args['patience']  # 最大早停次数阈值，超过就会早停\n",
    "    lradj = train_args['lradj']  # 学习率函数\n",
    "    model_path = train_args['model_path']  # 模型保存路径\n",
    "    verbose = train_args['verbose']  # 打印训练过程\n",
    "    plots = train_args['plots']  # 绘制损失图\n",
    "    device = train_args['device']  # 训练设备，可选'cuda'和'cpu'\n",
    "    pred_len = train_args['pred_len']  # 预测长度\n",
    "    label_len = train_args['label_len']\n",
    "\n",
    "    # 检查可用device\n",
    "    device = torch.device(device)\n",
    "\n",
    "    # 设置参数优化策略\n",
    "    teacher_model = teacher_model_name.to(device)\n",
    "    student_model = student_model_name.to(device)\n",
    "    optimizer = optim.Adam(student_model.parameters(), lr=learning_rate)\n",
    "    criterion = loss\n",
    "\n",
    "    # 调整学习率\n",
    "    def adjust_learning_rate(optimizer, epoch, lradj, learning_rate, train_epochs):\n",
    "        # lr = learning_rate * (0.2 ** (epoch // 2))\n",
    "        if lradj == 'type1':\n",
    "            lr_adjust = {epoch: learning_rate * (0.5 ** ((epoch - 1) // 1))}\n",
    "        elif lradj == 'type2':\n",
    "            lr_adjust = {\n",
    "                2: 5e-5, 4: 1e-5, 6: 5e-6, 8: 1e-6,\n",
    "                10: 5e-7, 15: 1e-7, 20: 5e-8\n",
    "            }\n",
    "        elif lradj == \"cosine\":\n",
    "            lr_adjust = {epoch: learning_rate / 2 *\n",
    "                         (1 + math.cos(epoch / train_epochs * math.pi))}\n",
    "        if epoch in lr_adjust.keys():\n",
    "            lr = lr_adjust[epoch]\n",
    "            # 参数组(param_groups)是用来指定不同的参数组以便对它们进行不同的优化设置，比如'lr'\n",
    "            for param_group in optimizer.param_groups:\n",
    "                param_group['lr'] = lr\n",
    "            print('Updating learning rate to {}'.format(lr))\n",
    "\n",
    "    # 设置早停\n",
    "    class EarlyStopping():\n",
    "        def __init__(self, patience=7, verbose=False, delta=0):\n",
    "            self.patience = patience  # 连续超限次数，如果满足条件，则早停\n",
    "            self.verbose = verbose\n",
    "            self.counter = 0\n",
    "            self.best_score = None\n",
    "            self.early_stop = False\n",
    "            self.val_loss_min = np.Inf\n",
    "            self.delta = delta\n",
    "\n",
    "        def __call__(self, val_loss, model, path):\n",
    "            score = -val_loss\n",
    "            if self.best_score is None:\n",
    "                self.best_score = score\n",
    "                self.save_checkpoint(val_loss, model, path)\n",
    "            elif score < self.best_score + self.delta:\n",
    "                self.counter += 1\n",
    "                print(\n",
    "                    f'EarlyStopping counter: {self.counter} out of {self.patience}')\n",
    "                if self.counter >= self.patience:\n",
    "                    self.early_stop = True\n",
    "            else:\n",
    "                self.best_score = score\n",
    "                self.save_checkpoint(val_loss, model, path)\n",
    "                self.counter = 0\n",
    "\n",
    "        def save_checkpoint(self, val_loss, model, path):\n",
    "            if self.verbose:\n",
    "                print(\n",
    "                    f'Validation loss decreased ({self.val_loss_min:.6f} --> {val_loss:.6f}).  Saving model ...')\n",
    "            with open(path + '/' + 'checkpoint.pth', 'wb') as f:\n",
    "                torch.save(model.state_dict(), f)\n",
    "            self.val_loss_min = val_loss\n",
    "    early_stopping = EarlyStopping(patience=patience, verbose=verbose)\n",
    "\n",
    "    # 设置保存模型路径\n",
    "    if not os.path.exists(model_path):\n",
    "        os.makedirs(model_path)\n",
    "\n",
    "    # 模型训练和验证\n",
    "    train_losses, val_losses = [], []\n",
    "    for epoch in tqdm(range(n_epochs)):\n",
    "        student_model.train()\n",
    "        total_train_loss = 0\n",
    "        for batch_x, batch_y, batch_x_mark, batch_y_mark in train_loader:\n",
    "            # 将数据移至 device\n",
    "            batch_x = batch_x.to(device)  # 会用到实际数据\n",
    "            batch_y = batch_y.to(device)  # 只用来获取维度，不会用到实际数据，防止泄露信息\n",
    "            batch_x_mark = batch_x_mark.to(device)\n",
    "            batch_y_mark = batch_y_mark.to(device)\n",
    "            # decoder输入\n",
    "            dec_inp = torch.zeros_like(batch_y[:, -pred_len:, :]).float()\n",
    "            dec_inp = torch.cat([batch_y[:, :label_len, :], dec_inp], dim=1).float().to(device)\n",
    "            # 教师模型不需要参与训练\n",
    "            with torch.no_grad():\n",
    "                teacher_outputs = teacher_model(batch_x, batch_x_mark, dec_inp, batch_y_mark)\n",
    "            # 清空梯度\n",
    "            optimizer.zero_grad()\n",
    "            # 训练学生模型\n",
    "            student_outputs = student_model(batch_x, batch_x_mark, dec_inp, batch_y_mark)\n",
    "            f_dim = -1 if features == 'MS' else 0\n",
    "            teacher_outputs = teacher_outputs[:, -pred_len:, f_dim:]\n",
    "            student_outputs = student_outputs[:, -pred_len:, f_dim:]\n",
    "            # 计算时序数据知识蒸馏损失\n",
    "            train_loss = criterion(teacher_outputs, student_outputs)\n",
    "            # 反向传播计算得到每个参数的梯度值\n",
    "            train_loss.backward()\n",
    "            # 通过梯度下降执行一步参数更新\n",
    "            optimizer.step()\n",
    "            # 每个batch的loss和\n",
    "            total_train_loss += train_loss.item()  # .item()表示只包含一个元素的tensor中提取值\n",
    "\n",
    "        # 每个epoch的损失平均\n",
    "        avg_train_loss = total_train_loss / len(train_loader)\n",
    "\n",
    "        # 所有epoch的loss\n",
    "        train_losses.append(avg_train_loss)\n",
    "\n",
    "        # 评估模型\n",
    "        teacher_model.eval()\n",
    "        student_model.eval()\n",
    "        # 关闭自动求导功能，只使用训练好的模型进行预测或评估，不需要进行梯度计算和参数更新\n",
    "        with torch.no_grad():\n",
    "            total_val_loss = 0\n",
    "            for batch_x, batch_y, batch_x_mark, batch_y_mark in valid_loader:\n",
    "                # 将数据移至 device\n",
    "                batch_x = batch_x.to(device)  # 会用到实际数据\n",
    "                batch_y = batch_y.to(device)  # 只用来获取维度，不会用到实际数据，防止泄露信息\n",
    "                batch_x_mark = batch_x_mark.to(device)\n",
    "                batch_y_mark = batch_y_mark.to(device)\n",
    "                # decoder输入\n",
    "                dec_inp = torch.zeros_like(batch_y[:, -pred_len:, :]).float()\n",
    "                dec_inp = torch.cat([batch_y[:, :label_len, :], dec_inp], dim=1).float().to(device)\n",
    "                # 模型验证\n",
    "                teacher_outputs = teacher_model(batch_x, batch_x_mark, dec_inp, batch_y_mark)\n",
    "                student_outputs = student_model(batch_x, batch_x_mark, dec_inp, batch_y_mark)\n",
    "                f_dim = -1 if features == 'MS' else 0\n",
    "                teacher_outputs = teacher_outputs[:, -pred_len:, f_dim:]\n",
    "                student_outputs = student_outputs[:, -pred_len:, f_dim:]\n",
    "                # 计算时序数据知识蒸馏损失\n",
    "                val_loss = criterion(teacher_outputs, student_outputs)\n",
    "                # 每个batch的loss和\n",
    "                total_val_loss += val_loss.item()\n",
    "\n",
    "        # 每个epoch的损失平均\n",
    "        avg_val_loss = total_val_loss / len(valid_loader)\n",
    "\n",
    "        # 所有epoch的loss\n",
    "        val_losses.append(avg_val_loss)\n",
    "\n",
    "        # 打印训练过程\n",
    "        if verbose:\n",
    "            print(f'Epoch [{epoch+1}/{n_epochs}], Training Loss: {avg_train_loss:.4f}, Validation Loss: {avg_val_loss:.4f}')\n",
    "\n",
    "        # 设置早停\n",
    "        early_stopping(avg_val_loss, student_model, model_path)\n",
    "        if early_stopping.early_stop:\n",
    "            print(\"Early stopping!\")\n",
    "            break\n",
    "\n",
    "        # 调整学习率\n",
    "        adjust_learning_rate(optimizer, epoch+1, lradj,\n",
    "                             learning_rate, n_epochs)\n",
    "\n",
    "    # 绘制损失函数图\n",
    "    def plot_loss(train_losses, val_losses):\n",
    "        plt.figure(figsize=(10, 5))\n",
    "        plt.style.use('seaborn-v0_8-paper')  # 绘制背景色\n",
    "        plt.grid(axis='y', linewidth=0.35)  # 绘制网格\n",
    "        plt.plot(val_losses, linestyle='-', color='#11b3b6')\n",
    "        plt.plot(train_losses, linestyle='-', color='#f14643')\n",
    "        plt.xlabel(\"Epoch\")\n",
    "        plt.ylabel(\"Loss\")\n",
    "        plt.title(\"Training and Validation Progress\")\n",
    "        plt.legend([\"Validation\", \"Training\"])\n",
    "        plt.show()\n",
    "    if plots:\n",
    "        plot_loss(train_losses, val_losses)\n",
    "\n",
    "    return student_model"
   ]
  },
  {
   "cell_type": "code",
   "execution_count": 19,
   "id": "57c410be-013d-44e3-9347-1b507aed3de4",
   "metadata": {
    "execution": {
     "iopub.execute_input": "2024-11-04T08:41:43.356323Z",
     "iopub.status.busy": "2024-11-04T08:41:43.354374Z",
     "iopub.status.idle": "2024-11-04T08:45:38.478487Z",
     "shell.execute_reply": "2024-11-04T08:45:38.477369Z",
     "shell.execute_reply.started": "2024-11-04T08:41:43.356323Z"
    },
    "scrolled": true
   },
   "outputs": [
    {
     "name": "stderr",
     "output_type": "stream",
     "text": [
      "  5%|████▏                                                                              | 1/20 [00:25<08:06, 25.62s/it]"
     ]
    },
    {
     "name": "stdout",
     "output_type": "stream",
     "text": [
      "Epoch [1/20], Training Loss: 0.0002, Validation Loss: 0.0002\n",
      "Validation loss decreased (inf --> 0.000169).  Saving model ...\n",
      "Updating learning rate to 0.0009938441702975688\n"
     ]
    },
    {
     "name": "stderr",
     "output_type": "stream",
     "text": [
      " 10%|████████▎                                                                          | 2/20 [00:55<08:21, 27.87s/it]"
     ]
    },
    {
     "name": "stdout",
     "output_type": "stream",
     "text": [
      "Epoch [2/20], Training Loss: 0.0001, Validation Loss: 0.0001\n",
      "Validation loss decreased (0.000169 --> 0.000093).  Saving model ...\n",
      "Updating learning rate to 0.0009755282581475768\n"
     ]
    },
    {
     "name": "stderr",
     "output_type": "stream",
     "text": [
      " 15%|████████████▍                                                                      | 3/20 [01:38<09:57, 35.13s/it]"
     ]
    },
    {
     "name": "stdout",
     "output_type": "stream",
     "text": [
      "Epoch [3/20], Training Loss: 0.0001, Validation Loss: 0.0001\n",
      "EarlyStopping counter: 1 out of 3\n",
      "Updating learning rate to 0.0009455032620941839\n"
     ]
    },
    {
     "name": "stderr",
     "output_type": "stream",
     "text": [
      " 20%|████████████████▌                                                                  | 4/20 [02:13<09:17, 34.84s/it]"
     ]
    },
    {
     "name": "stdout",
     "output_type": "stream",
     "text": [
      "Epoch [4/20], Training Loss: 0.0001, Validation Loss: 0.0001\n",
      "Validation loss decreased (0.000093 --> 0.000073).  Saving model ...\n",
      "Updating learning rate to 0.0009045084971874737\n"
     ]
    },
    {
     "name": "stderr",
     "output_type": "stream",
     "text": [
      " 25%|████████████████████▊                                                              | 5/20 [02:46<08:36, 34.42s/it]"
     ]
    },
    {
     "name": "stdout",
     "output_type": "stream",
     "text": [
      "Epoch [5/20], Training Loss: 0.0001, Validation Loss: 0.0001\n",
      "EarlyStopping counter: 1 out of 3\n",
      "Updating learning rate to 0.0008535533905932737\n"
     ]
    },
    {
     "name": "stderr",
     "output_type": "stream",
     "text": [
      " 30%|████████████████████████▉                                                          | 6/20 [03:20<07:57, 34.11s/it]"
     ]
    },
    {
     "name": "stdout",
     "output_type": "stream",
     "text": [
      "Epoch [6/20], Training Loss: 0.0001, Validation Loss: 0.0001\n",
      "EarlyStopping counter: 2 out of 3\n",
      "Updating learning rate to 0.0007938926261462366\n"
     ]
    },
    {
     "name": "stderr",
     "output_type": "stream",
     "text": [
      " 30%|████████████████████████▉                                                          | 6/20 [03:53<09:05, 38.97s/it]"
     ]
    },
    {
     "name": "stdout",
     "output_type": "stream",
     "text": [
      "Epoch [7/20], Training Loss: 0.0001, Validation Loss: 0.0001\n",
      "EarlyStopping counter: 3 out of 3\n",
      "Early stopping!\n"
     ]
    },
    {
     "name": "stderr",
     "output_type": "stream",
     "text": [
      "\n"
     ]
    },
    {
     "data": {
      "image/png": "[encoded data removed]",
      "text/plain": [
       "<Figure size 1000x500 with 1 Axes>"
      ]
     },
     "metadata": {},
     "output_type": "display_data"
    }
   ],
   "source": [
    "# 构造参数字典\n",
    "params3 = {\n",
    "    \"train_args\": {\n",
    "        \"features\": 'M',\n",
    "        \"teacher_model_name\": teacher_model,\n",
    "        \"student_model_name\": student_model,\n",
    "        \"train_loader\": train_loader,\n",
    "        \"valid_loader\": valid_loader,\n",
    "        \"n_epochs\": 20,\n",
    "        \"learning_rate\": 0.001,\n",
    "        \"loss\": loss_fn, # 知识蒸馏损失函数\n",
    "        \"patience\": 3,\n",
    "        \"lradj\": 'cosine',\n",
    "        \"model_path\": \"../outputs/best_models/Teacher_Student\",\n",
    "        \"device\": 'cuda',\n",
    "        \"verbose\": True,\n",
    "        \"plots\": True,\n",
    "        \"pred_len\": 3,\n",
    "        \"label_len\": 10\n",
    "    }\n",
    "}\n",
    "student_model = train(**params3)"
   ]
  },
  {
   "cell_type": "markdown",
   "id": "83ea39a9",
   "metadata": {},
   "source": [
    "## Student模型预测"
   ]
  },
  {
   "cell_type": "markdown",
   "id": "187deb78-547c-4cf9-8855-5ffd0f9b1c61",
   "metadata": {},
   "source": [
    "### 在线预测"
   ]
  },
  {
   "cell_type": "code",
   "execution_count": 21,
   "id": "c794e781-3160-4301-9182-38aa3fd97262",
   "metadata": {
    "execution": {
     "iopub.execute_input": "2024-11-04T08:47:41.689137Z",
     "iopub.status.busy": "2024-11-04T08:47:41.689137Z",
     "iopub.status.idle": "2024-11-04T08:47:41.834775Z",
     "shell.execute_reply": "2024-11-04T08:47:41.833774Z",
     "shell.execute_reply.started": "2024-11-04T08:47:41.689137Z"
    }
   },
   "outputs": [],
   "source": [
    "data_path = \"../data/energy.csv\"\n",
    "ts_data = pd.read_csv(data_path).iloc[:60, :]\n",
    "# 构造参数字典\n",
    "params5 = {\n",
    "    \"task_args\": {\n",
    "        \"columns\": ['load', 'temp'],\n",
    "        \"target\": ['load', 'temp'],\n",
    "        \"features\": 'M',\n",
    "        \"mode\": 'online'\n",
    "    },\n",
    "    \"predict_args\": {\n",
    "        \"time_col\": 'time',\n",
    "        \"freq\": 'h',\n",
    "        \"model_name\": LSTM,\n",
    "        \"model_path\": \"../outputs/best_models/Teacher_Student/checkpoint.pth\",\n",
    "        \"x_true\": ts_data,\n",
    "        \"scaler_path\": '../outputs/scalers/Teacher_Student',\n",
    "        \"device\": 'cpu'\n",
    "    },\n",
    "    \"model_args\": {\n",
    "        'seq_len': 60,\n",
    "        'pred_len': 3,\n",
    "        \"label_len\": 10,\n",
    "        'd_model': 128,\n",
    "        'c_in': 2,\n",
    "        'c_out': 2,\n",
    "        'num_layers': 2,\n",
    "    },\n",
    "}\n",
    "y_pred = predict(**params5)"
   ]
  },
  {
   "cell_type": "code",
   "execution_count": 22,
   "id": "ea92130b-a965-4121-acff-a35e3b7f2a95",
   "metadata": {
    "execution": {
     "iopub.execute_input": "2024-11-04T08:47:48.698294Z",
     "iopub.status.busy": "2024-11-04T08:47:48.698294Z",
     "iopub.status.idle": "2024-11-04T08:47:48.719569Z",
     "shell.execute_reply": "2024-11-04T08:47:48.718570Z",
     "shell.execute_reply.started": "2024-11-04T08:47:48.698294Z"
    }
   },
   "outputs": [
    {
     "data": {
      "text/html": [
       "<div>\n",
       "<style scoped>\n",
       "    .dataframe tbody tr th:only-of-type {\n",
       "        vertical-align: middle;\n",
       "    }\n",
       "\n",
       "    .dataframe tbody tr th {\n",
       "        vertical-align: top;\n",
       "    }\n",
       "\n",
       "    .dataframe thead th {\n",
       "        text-align: right;\n",
       "    }\n",
       "</style>\n",
       "<table border=\"1\" class=\"dataframe\">\n",
       "  <thead>\n",
       "    <tr style=\"text-align: right;\">\n",
       "      <th></th>\n",
       "      <th>load</th>\n",
       "      <th>temp</th>\n",
       "    </tr>\n",
       "  </thead>\n",
       "  <tbody>\n",
       "    <tr>\n",
       "      <th>2012-01-03 12:00:00</th>\n",
       "      <td>3861.940918</td>\n",
       "      <td>24.144377</td>\n",
       "    </tr>\n",
       "    <tr>\n",
       "      <th>2012-01-03 13:00:00</th>\n",
       "      <td>3860.435059</td>\n",
       "      <td>21.933071</td>\n",
       "    </tr>\n",
       "    <tr>\n",
       "      <th>2012-01-03 14:00:00</th>\n",
       "      <td>3891.848633</td>\n",
       "      <td>19.892427</td>\n",
       "    </tr>\n",
       "  </tbody>\n",
       "</table>\n",
       "</div>"
      ],
      "text/plain": [
       "                            load       temp\n",
       "2012-01-03 12:00:00  3861.940918  24.144377\n",
       "2012-01-03 13:00:00  3860.435059  21.933071\n",
       "2012-01-03 14:00:00  3891.848633  19.892427"
      ]
     },
     "execution_count": 22,
     "metadata": {},
     "output_type": "execute_result"
    }
   ],
   "source": [
    "y_pred"
   ]
  },
  {
   "cell_type": "markdown",
   "id": "e9328748-f097-445e-b67b-f935fe60863c",
   "metadata": {},
   "source": [
    "### 离线预测"
   ]
  },
  {
   "cell_type": "code",
   "execution_count": 24,
   "id": "eb3daa76-29c8-4313-916b-edffb128cb51",
   "metadata": {
    "execution": {
     "iopub.execute_input": "2024-11-04T08:49:01.377387Z",
     "iopub.status.busy": "2024-11-04T08:49:01.377387Z",
     "iopub.status.idle": "2024-11-04T08:49:16.148242Z",
     "shell.execute_reply": "2024-11-04T08:49:16.146646Z",
     "shell.execute_reply.started": "2024-11-04T08:49:01.377387Z"
    }
   },
   "outputs": [],
   "source": [
    "data_path = \"../data/energy.csv\"\n",
    "ts_data = pd.read_csv(data_path)\n",
    "ts_data['time'] = pd.to_datetime(ts_data['time'])\n",
    "# 构造参数字典\n",
    "params5 = {\n",
    "    \"task_args\": {\n",
    "        \"columns\": ['load', 'temp'],\n",
    "        \"target\": ['load', 'temp'],\n",
    "        \"features\": 'M',\n",
    "        \"mode\": 'offline'\n",
    "    },\n",
    "    \"predict_args\": {\n",
    "        \"time_col\": 'time',\n",
    "        \"freq\": 'h',\n",
    "        \"model_name\": LSTM,\n",
    "        \"model_path\": \"../outputs/best_models/Teacher_Student/checkpoint.pth\",\n",
    "        \"x_true\": ts_data,\n",
    "        \"scaler_path\": '../outputs/scalers/Teacher_Student',\n",
    "        \"device\": 'cpu'\n",
    "    },\n",
    "    \"model_args\": {\n",
    "        'seq_len': 60,\n",
    "        'pred_len': 3,\n",
    "        \"label_len\": 10,\n",
    "        'd_model': 128,\n",
    "        'c_in': 2,\n",
    "        'c_out': 2,\n",
    "        'num_layers': 2,\n",
    "    },\n",
    "}\n",
    "y_pred = predict(**params5)"
   ]
  },
  {
   "cell_type": "code",
   "execution_count": 25,
   "id": "723eae09-c9f7-42c6-81c1-ced6b92f7b57",
   "metadata": {
    "execution": {
     "iopub.execute_input": "2024-11-04T08:49:22.667490Z",
     "iopub.status.busy": "2024-11-04T08:49:22.665470Z",
     "iopub.status.idle": "2024-11-04T08:49:22.720323Z",
     "shell.execute_reply": "2024-11-04T08:49:22.718322Z",
     "shell.execute_reply.started": "2024-11-04T08:49:22.667490Z"
    }
   },
   "outputs": [
    {
     "data": {
      "text/html": [
       "<div>\n",
       "<style scoped>\n",
       "    .dataframe tbody tr th:only-of-type {\n",
       "        vertical-align: middle;\n",
       "    }\n",
       "\n",
       "    .dataframe tbody tr th {\n",
       "        vertical-align: top;\n",
       "    }\n",
       "\n",
       "    .dataframe thead th {\n",
       "        text-align: right;\n",
       "    }\n",
       "</style>\n",
       "<table border=\"1\" class=\"dataframe\">\n",
       "  <thead>\n",
       "    <tr style=\"text-align: right;\">\n",
       "      <th></th>\n",
       "      <th>time</th>\n",
       "      <th>load</th>\n",
       "      <th>temp</th>\n",
       "      <th>load_1</th>\n",
       "      <th>temp_1</th>\n",
       "      <th>load_2</th>\n",
       "      <th>temp_2</th>\n",
       "      <th>load_3</th>\n",
       "      <th>temp_3</th>\n",
       "    </tr>\n",
       "  </thead>\n",
       "  <tbody>\n",
       "    <tr>\n",
       "      <th>0</th>\n",
       "      <td>2012-01-01 00:00:00</td>\n",
       "      <td>2698.0</td>\n",
       "      <td>32.00</td>\n",
       "      <td>NaN</td>\n",
       "      <td>NaN</td>\n",
       "      <td>NaN</td>\n",
       "      <td>NaN</td>\n",
       "      <td>NaN</td>\n",
       "      <td>NaN</td>\n",
       "    </tr>\n",
       "    <tr>\n",
       "      <th>1</th>\n",
       "      <td>2012-01-01 01:00:00</td>\n",
       "      <td>2558.0</td>\n",
       "      <td>32.67</td>\n",
       "      <td>NaN</td>\n",
       "      <td>NaN</td>\n",
       "      <td>NaN</td>\n",
       "      <td>NaN</td>\n",
       "      <td>NaN</td>\n",
       "      <td>NaN</td>\n",
       "    </tr>\n",
       "    <tr>\n",
       "      <th>2</th>\n",
       "      <td>2012-01-01 02:00:00</td>\n",
       "      <td>2444.0</td>\n",
       "      <td>30.00</td>\n",
       "      <td>NaN</td>\n",
       "      <td>NaN</td>\n",
       "      <td>NaN</td>\n",
       "      <td>NaN</td>\n",
       "      <td>NaN</td>\n",
       "      <td>NaN</td>\n",
       "    </tr>\n",
       "    <tr>\n",
       "      <th>3</th>\n",
       "      <td>2012-01-01 03:00:00</td>\n",
       "      <td>2402.0</td>\n",
       "      <td>31.00</td>\n",
       "      <td>NaN</td>\n",
       "      <td>NaN</td>\n",
       "      <td>NaN</td>\n",
       "      <td>NaN</td>\n",
       "      <td>NaN</td>\n",
       "      <td>NaN</td>\n",
       "    </tr>\n",
       "    <tr>\n",
       "      <th>4</th>\n",
       "      <td>2012-01-01 04:00:00</td>\n",
       "      <td>2403.0</td>\n",
       "      <td>32.00</td>\n",
       "      <td>NaN</td>\n",
       "      <td>NaN</td>\n",
       "      <td>NaN</td>\n",
       "      <td>NaN</td>\n",
       "      <td>NaN</td>\n",
       "      <td>NaN</td>\n",
       "    </tr>\n",
       "    <tr>\n",
       "      <th>...</th>\n",
       "      <td>...</td>\n",
       "      <td>...</td>\n",
       "      <td>...</td>\n",
       "      <td>...</td>\n",
       "      <td>...</td>\n",
       "      <td>...</td>\n",
       "      <td>...</td>\n",
       "      <td>...</td>\n",
       "      <td>...</td>\n",
       "    </tr>\n",
       "    <tr>\n",
       "      <th>26299</th>\n",
       "      <td>2014-12-31 19:00:00</td>\n",
       "      <td>4012.0</td>\n",
       "      <td>18.00</td>\n",
       "      <td>4048.242188</td>\n",
       "      <td>19.777733</td>\n",
       "      <td>3712.823975</td>\n",
       "      <td>19.714087</td>\n",
       "      <td>3401.50293</td>\n",
       "      <td>17.948114</td>\n",
       "    </tr>\n",
       "    <tr>\n",
       "      <th>26300</th>\n",
       "      <td>2014-12-31 20:00:00</td>\n",
       "      <td>3856.0</td>\n",
       "      <td>16.67</td>\n",
       "      <td>3712.324707</td>\n",
       "      <td>19.71533</td>\n",
       "      <td>3401.040283</td>\n",
       "      <td>17.949499</td>\n",
       "      <td>3165.301025</td>\n",
       "      <td>16.437784</td>\n",
       "    </tr>\n",
       "    <tr>\n",
       "      <th>26301</th>\n",
       "      <td>2014-12-31 21:00:00</td>\n",
       "      <td>3671.0</td>\n",
       "      <td>17.00</td>\n",
       "      <td>3399.689941</td>\n",
       "      <td>17.954216</td>\n",
       "      <td>3164.291016</td>\n",
       "      <td>16.443121</td>\n",
       "      <td>3027.245361</td>\n",
       "      <td>16.978037</td>\n",
       "    </tr>\n",
       "    <tr>\n",
       "      <th>26302</th>\n",
       "      <td>2014-12-31 22:00:00</td>\n",
       "      <td>3499.0</td>\n",
       "      <td>15.33</td>\n",
       "      <td>3162.316406</td>\n",
       "      <td>16.45433</td>\n",
       "      <td>3026.52124</td>\n",
       "      <td>16.983215</td>\n",
       "      <td>3008.274414</td>\n",
       "      <td>15.742394</td>\n",
       "    </tr>\n",
       "    <tr>\n",
       "      <th>26303</th>\n",
       "      <td>2014-12-31 23:00:00</td>\n",
       "      <td>3345.0</td>\n",
       "      <td>15.33</td>\n",
       "      <td>3025.445801</td>\n",
       "      <td>16.99094</td>\n",
       "      <td>3008.530518</td>\n",
       "      <td>15.742311</td>\n",
       "      <td>3048.235352</td>\n",
       "      <td>14.99702</td>\n",
       "    </tr>\n",
       "  </tbody>\n",
       "</table>\n",
       "<p>26304 rows × 9 columns</p>\n",
       "</div>"
      ],
      "text/plain": [
       "                     time    load   temp       load_1     temp_1       load_2  \\\n",
       "0     2012-01-01 00:00:00  2698.0  32.00          NaN        NaN          NaN   \n",
       "1     2012-01-01 01:00:00  2558.0  32.67          NaN        NaN          NaN   \n",
       "2     2012-01-01 02:00:00  2444.0  30.00          NaN        NaN          NaN   \n",
       "3     2012-01-01 03:00:00  2402.0  31.00          NaN        NaN          NaN   \n",
       "4     2012-01-01 04:00:00  2403.0  32.00          NaN        NaN          NaN   \n",
       "...                   ...     ...    ...          ...        ...          ...   \n",
       "26299 2014-12-31 19:00:00  4012.0  18.00  4048.242188  19.777733  3712.823975   \n",
       "26300 2014-12-31 20:00:00  3856.0  16.67  3712.324707   19.71533  3401.040283   \n",
       "26301 2014-12-31 21:00:00  3671.0  17.00  3399.689941  17.954216  3164.291016   \n",
       "26302 2014-12-31 22:00:00  3499.0  15.33  3162.316406   16.45433   3026.52124   \n",
       "26303 2014-12-31 23:00:00  3345.0  15.33  3025.445801   16.99094  3008.530518   \n",
       "\n",
       "          temp_2       load_3     temp_3  \n",
       "0            NaN          NaN        NaN  \n",
       "1            NaN          NaN        NaN  \n",
       "2            NaN          NaN        NaN  \n",
       "3            NaN          NaN        NaN  \n",
       "4            NaN          NaN        NaN  \n",
       "...          ...          ...        ...  \n",
       "26299  19.714087   3401.50293  17.948114  \n",
       "26300  17.949499  3165.301025  16.437784  \n",
       "26301  16.443121  3027.245361  16.978037  \n",
       "26302  16.983215  3008.274414  15.742394  \n",
       "26303  15.742311  3048.235352   14.99702  \n",
       "\n",
       "[26304 rows x 9 columns]"
      ]
     },
     "execution_count": 25,
     "metadata": {},
     "output_type": "execute_result"
    }
   ],
   "source": [
    "y_pred"
   ]
  },
  {
   "cell_type": "markdown",
   "id": "cb1bc729",
   "metadata": {},
   "source": [
    "## 结果分析"
   ]
  },
  {
   "cell_type": "code",
   "execution_count": 32,
   "id": "b22dac3c-f750-4cfb-be85-1457ad043993",
   "metadata": {
    "execution": {
     "iopub.execute_input": "2024-11-04T08:52:26.579900Z",
     "iopub.status.busy": "2024-11-04T08:52:26.578899Z",
     "iopub.status.idle": "2024-11-04T08:52:26.598904Z",
     "shell.execute_reply": "2024-11-04T08:52:26.597131Z",
     "shell.execute_reply.started": "2024-11-04T08:52:26.579900Z"
    }
   },
   "outputs": [],
   "source": [
    "# 获取最后一个预测结果\n",
    "params6 = {\n",
    "    \"prediction\": y_pred,\n",
    "    \"pred_len\": 3,\n",
    "    \"time_col\": 'time',\n",
    "    \"target\": ['load', 'temp']\n",
    "}\n",
    "y_pred = last_prediction(**params6)"
   ]
  },
  {
   "cell_type": "code",
   "execution_count": 33,
   "id": "94e95046-1414-4646-b046-c9b13217d369",
   "metadata": {
    "execution": {
     "iopub.execute_input": "2024-11-04T08:52:37.630951Z",
     "iopub.status.busy": "2024-11-04T08:52:37.629947Z",
     "iopub.status.idle": "2024-11-04T08:52:37.723333Z",
     "shell.execute_reply": "2024-11-04T08:52:37.717323Z",
     "shell.execute_reply.started": "2024-11-04T08:52:37.630951Z"
    }
   },
   "outputs": [
    {
     "data": {
      "text/plain": [
       "90.243"
      ]
     },
     "execution_count": 33,
     "metadata": {},
     "output_type": "execute_result"
    }
   ],
   "source": [
    "# 评估指标\n",
    "params7 = {\n",
    "    \"x1\": ts_data,\n",
    "    \"x2\": y_pred,\n",
    "    \"time_col\": 'time',\n",
    "    \"eval_metrics\": 'rmse'\n",
    "}\n",
    "score(**params7)"
   ]
  },
  {
   "cell_type": "code",
   "execution_count": 34,
   "id": "1c5b63b0-7930-4d3f-a519-7dcffbb59c62",
   "metadata": {
    "execution": {
     "iopub.execute_input": "2024-11-04T08:52:46.581024Z",
     "iopub.status.busy": "2024-11-04T08:52:46.580024Z",
     "iopub.status.idle": "2024-11-04T08:52:48.387024Z",
     "shell.execute_reply": "2024-11-04T08:52:48.386023Z",
     "shell.execute_reply.started": "2024-11-04T08:52:46.581024Z"
    }
   },
   "outputs": [
    {
     "data": {
      "image/png": "[encoded data removed]",
      "text/plain": [
       "<Figure size 2000x400 with 2 Axes>"
      ]
     },
     "metadata": {},
     "output_type": "display_data"
    },
    {
     "data": {
      "text/plain": [
       "0"
      ]
     },
     "execution_count": 34,
     "metadata": {},
     "output_type": "execute_result"
    }
   ],
   "source": [
    "param8 = {\n",
    "    'x_in': ts_data,\n",
    "    'x_out': y_pred,\n",
    "    'time_col': 'time',\n",
    "    'plot_cols': ['load', 'temp'],\n",
    "    'threshold': 0.05,\n",
    "}\n",
    "plot(**param8)"
   ]
  },
  {
   "cell_type": "code",
   "execution_count": 35,
   "id": "eb9e9107-eca5-4da7-82a0-b681884d863d",
   "metadata": {
    "execution": {
     "iopub.execute_input": "2024-11-04T08:52:59.888490Z",
     "iopub.status.busy": "2024-11-04T08:52:59.886497Z",
     "iopub.status.idle": "2024-11-04T08:53:06.935442Z",
     "shell.execute_reply": "2024-11-04T08:53:06.934442Z",
     "shell.execute_reply.started": "2024-11-04T08:52:59.888490Z"
    }
   },
   "outputs": [
    {
     "name": "stdout",
     "output_type": "stream",
     "text": [
      "合并输出为：                     time    load   temp load_prediction temp_prediction  \\\n",
      "0     2012-01-01 00:00:00  2698.0  32.00            None            None   \n",
      "1     2012-01-01 01:00:00  2558.0  32.67            None            None   \n",
      "2     2012-01-01 02:00:00  2444.0  30.00            None            None   \n",
      "3     2012-01-01 03:00:00  2402.0  31.00             NaN             NaN   \n",
      "4     2012-01-01 04:00:00  2403.0  32.00             NaN             NaN   \n",
      "...                   ...     ...    ...             ...             ...   \n",
      "26299 2014-12-31 19:00:00  4012.0  18.00     4275.476074       19.427177   \n",
      "26300 2014-12-31 20:00:00  3856.0  16.67     4047.425537       19.779108   \n",
      "26301 2014-12-31 21:00:00  3671.0  17.00      3712.69458       19.713352   \n",
      "26302 2014-12-31 22:00:00  3499.0  15.33      3401.50293       17.948114   \n",
      "26303 2014-12-31 23:00:00  3345.0  15.33     3165.301025       16.437784   \n",
      "\n",
      "       load_warning_label  temp_warning_label  \n",
      "0                     0.0                 0.0  \n",
      "1                     0.0                 0.0  \n",
      "2                     0.0                 0.0  \n",
      "3                     0.0                 0.0  \n",
      "4                     0.0                 0.0  \n",
      "...                   ...                 ...  \n",
      "26299                 1.0                 1.0  \n",
      "26300                 0.0                 1.0  \n",
      "26301                 0.0                 1.0  \n",
      "26302                 0.0                 1.0  \n",
      "26303                 1.0                 1.0  \n",
      "\n",
      "[26304 rows x 7 columns]\n"
     ]
    }
   ],
   "source": [
    "# 合并输出\n",
    "param9 = {\n",
    "    'x_in': ts_data,\n",
    "    'x_out': y_pred,\n",
    "    'time_col': 'time',\n",
    "    'threshold': 0.05,\n",
    "    'is_real_time_warning': True,\n",
    "}\n",
    "x_out = output(**param9)"
   ]
  },
  {
   "cell_type": "code",
   "execution_count": null,
   "id": "851c6909",
   "metadata": {},
   "outputs": [],
   "source": []
  }
 ],
 "metadata": {
  "hide_input": false,
  "kernelspec": {
   "display_name": "Python 3 (ipykernel)",
   "language": "python",
   "name": "python3"
  },
  "language_info": {
   "codemirror_mode": {
    "name": "ipython",
    "version": 3
   },
   "file_extension": ".py",
   "mimetype": "text/x-python",
   "name": "python",
   "nbconvert_exporter": "python",
   "pygments_lexer": "ipython3",
   "version": "3.9.18"
  },
  "toc": {
   "base_numbering": 1,
   "nav_menu": {},
   "number_sections": true,
   "sideBar": true,
   "skip_h1_title": false,
   "title_cell": "Table of Contents",
   "title_sidebar": "Contents",
   "toc_cell": false,
   "toc_position": {
    "height": "calc(100% - 180px)",
    "left": "10px",
    "top": "150px",
    "width": "230.663px"
   },
   "toc_section_display": true,
   "toc_window_display": true
  },
  "varInspector": {
   "cols": {
    "lenName": 16,
    "lenType": 16,
    "lenVar": 40
   },
   "kernels_config": {
    "python": {
     "delete_cmd_postfix": "",
     "delete_cmd_prefix": "del ",
     "library": "var_list.py",
     "varRefreshCmd": "print(var_dic_list())"
    },
    "r": {
     "delete_cmd_postfix": ") ",
     "delete_cmd_prefix": "rm(",
     "library": "var_list.r",
     "varRefreshCmd": "cat(var_dic_list()) "
    }
   },
   "types_to_exclude": [
    "module",
    "function",
    "builtin_function_or_method",
    "instance",
    "_Feature"
   ],
   "window_display": false
  }
 },
 "nbformat": 4,
 "nbformat_minor": 5
}
