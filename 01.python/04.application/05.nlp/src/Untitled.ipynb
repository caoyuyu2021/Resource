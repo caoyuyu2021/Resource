{
 "cells": [
  {
   "cell_type": "code",
   "execution_count": 1,
   "id": "29e895bd-8d25-4770-8dd8-4b868487500a",
   "metadata": {
    "execution": {
     "iopub.execute_input": "2024-12-02T12:49:59.402890Z",
     "iopub.status.busy": "2024-12-02T12:49:59.401888Z",
     "iopub.status.idle": "2024-12-02T12:54:15.173254Z",
     "shell.execute_reply": "2024-12-02T12:54:15.171345Z",
     "shell.execute_reply.started": "2024-12-02T12:49:59.401888Z"
    }
   },
   "outputs": [
    {
     "name": "stderr",
     "output_type": "stream",
     "text": [
      "D:\\Anaconda\\envs\\nlp\\lib\\site-packages\\huggingface_hub\\file_download.py:797: FutureWarning: `resume_download` is deprecated and will be removed in version 1.0.0. Downloads always resume when possible. If you want to force a new download, use `force_download=True`.\n",
      "  warnings.warn(\n"
     ]
    },
    {
     "data": {
      "application/vnd.jupyter.widget-view+json": {
       "model_id": "b4f127098f3246719031feb39270b8dd",
       "version_major": 2,
       "version_minor": 0
      },
      "text/plain": [
       "model.safetensors:   0%|          | 0.00/440M [00:00<?, ?B/s]"
      ]
     },
     "metadata": {},
     "output_type": "display_data"
    },
    {
     "name": "stderr",
     "output_type": "stream",
     "text": [
      "Some weights of BertForSequenceClassification were not initialized from the model checkpoint at bert-base-uncased and are newly initialized: ['classifier.bias', 'classifier.weight']\n",
      "You should probably TRAIN this model on a down-stream task to be able to use it for predictions and inference.\n"
     ]
    },
    {
     "name": "stdout",
     "output_type": "stream",
     "text": [
      "[{'label': 'LABEL_0', 'score': 0.5495854020118713}]\n"
     ]
    }
   ],
   "source": [
    "from transformers import pipeline\n",
    "classifier = pipeline(\"text-classification\", model=\"bert-base-uncased\")\n",
    "result = classifier(\"I love Hugging Face!\")\n",
    "print(result)"
   ]
  },
  {
   "cell_type": "code",
   "execution_count": null,
   "id": "aaf4d15a-3089-40d9-a74e-62deddb2825f",
   "metadata": {},
   "outputs": [],
   "source": [
    "import torch.nn as nn\n",
    "\n",
    "class LSTM(nn.Module):\n",
    "    def __init__(self, vocab_size, embedding_dim, hidden_dim, num_classes):\n",
    "        super(LSTM, self).__init__()\n",
    "        self.embedding = nn.Embedding(vocab_size, embedding_dim)  # 嵌入层\n",
    "        self.lstm = nn.LSTM(embedding_dim, hidden_dim, batch_first=True)  # LSTM层\n",
    "        self.fc = nn.Linear(hidden_dim, num_classes)  # 全连接层\n",
    "        self.dropout = nn.Dropout(0.5)\n",
    "\n",
    "    def forward(self, x):\n",
    "        embedded = self.embedding(x)  # [batch_size, seq_len, embedding_dim]\n",
    "        _, (hidden, _) = self.lstm(embedded)  # hidden: [1, batch_size, hidden_dim]\n",
    "        hidden = hidden.squeeze(0)  # [batch_size, hidden_dim]\n",
    "        output = self.fc(self.dropout(hidden))  # [batch_size, output_dim]\n",
    "        return output.squeeze(-1)"
   ]
  },
  {
   "cell_type": "code",
   "execution_count": null,
   "id": "426491a0-18d2-4866-98ce-cc7b059ea40f",
   "metadata": {},
   "outputs": [],
   "source": []
  }
 ],
 "metadata": {
  "kernelspec": {
   "display_name": "NLP",
   "language": "python",
   "name": "nlp"
  },
  "language_info": {
   "codemirror_mode": {
    "name": "ipython",
    "version": 3
   },
   "file_extension": ".py",
   "mimetype": "text/x-python",
   "name": "python",
   "nbconvert_exporter": "python",
   "pygments_lexer": "ipython3",
   "version": "3.9.18"
  }
 },
 "nbformat": 4,
 "nbformat_minor": 5
}
