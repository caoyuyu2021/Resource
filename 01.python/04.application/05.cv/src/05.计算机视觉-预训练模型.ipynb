{
 "cells": [
  {
   "cell_type": "markdown",
   "id": "e681530b-a2f4-4412-84a7-bf556a0df031",
   "metadata": {},
   "source": [
    "# 预训练模型"
   ]
  },
  {
   "cell_type": "code",
   "execution_count": 61,
   "id": "0d55a926-8dc8-466a-9d2e-b13c53680980",
   "metadata": {
    "execution": {
     "iopub.execute_input": "2024-12-22T09:39:16.444117Z",
     "iopub.status.busy": "2024-12-22T09:39:16.443430Z",
     "iopub.status.idle": "2024-12-22T09:39:16.465837Z",
     "shell.execute_reply": "2024-12-22T09:39:16.463831Z",
     "shell.execute_reply.started": "2024-12-22T09:39:16.443607Z"
    }
   },
   "outputs": [],
   "source": [
    "import pandas as pd\n",
    "import numpy as np\n",
    "from pandas import DataFrame\n",
    "from datetime import timedelta\n",
    "from numpy import ndarray\n",
    "from typing import Union, List, Dict\n",
    "from sklearn.preprocessing import MinMaxScaler\n",
    "import os\n",
    "import re\n",
    "import torch\n",
    "import json\n",
    "import cv2\n",
    "import torch.nn as nn\n",
    "import torch.optim as optim\n",
    "from torchvision import datasets, transforms, models\n",
    "from torch.utils.data import TensorDataset, DataLoader\n",
    "import torch.nn.functional as F\n",
    "from tqdm import tqdm  # 打印进度条\n",
    "import math\n",
    "from PIL import Image\n",
    "import matplotlib.pyplot as plt\n",
    "from torchvision import datasets, transforms\n",
    "import seaborn as sns\n",
    "from typing import List\n",
    "from pandas.tseries import offsets\n",
    "from pandas.tseries.frequencies import to_offset\n",
    "from sklearn.metrics import r2_score, mean_squared_error\n",
    "import joblib\n",
    "import warnings\n",
    "\n",
    "warnings.filterwarnings(\"ignore\")\n",
    "plt.rcParams['font.sans-serif'] = ['SimHei']  # 显示中文标签\n",
    "plt.rcParams['axes.unicode_minus'] = False"
   ]
  },
  {
   "cell_type": "markdown",
   "id": "d6113e9f-5fce-483a-8159-b80fca9e97e7",
   "metadata": {},
   "source": [
    "## 数据准备"
   ]
  },
  {
   "cell_type": "code",
   "execution_count": 73,
   "id": "cd78220d-8b61-4a05-b3e8-7bff7219ba63",
   "metadata": {
    "execution": {
     "iopub.execute_input": "2024-12-22T09:41:44.064809Z",
     "iopub.status.busy": "2024-12-22T09:41:44.062832Z",
     "iopub.status.idle": "2024-12-22T09:41:44.095806Z",
     "shell.execute_reply": "2024-12-22T09:41:44.094927Z",
     "shell.execute_reply.started": "2024-12-22T09:41:44.064809Z"
    }
   },
   "outputs": [],
   "source": [
    "# 加载图像并生成批次数据\n",
    "def generator(data_path, label_path, batch_size):\n",
    "    \"\"\"\n",
    "    读取图像，并生成批次数据\n",
    "\n",
    "    参数说明\n",
    "    ----------\n",
    "    data_path : {str}\n",
    "        图像文件夹地址\n",
    "    batch_size : {int} \n",
    "        输入数据的批次大小，正整数\n",
    "    label_path : {str} \n",
    "        标签字典保存地址\n",
    "\n",
    "    返回值\n",
    "    -------\n",
    "    data_loader : {torch.utils.data.dataloader.DataLoader}\n",
    "        数据加载器，[批次，目标，特征时间编码，目标时间编码]\n",
    "    \"\"\"\n",
    "    # 定义图像变换操作\n",
    "    transform = transforms.Compose([\n",
    "        transforms.Resize((224, 224)),         # 调整图像大小\n",
    "        transforms.RandomHorizontalFlip(p=0.5), # 随机水平翻转\n",
    "        transforms.ColorJitter(brightness=0.2, contrast=0.2),  # 颜色抖动\n",
    "        transforms.ToTensor(),                  # 转换为张量\n",
    "        transforms.Normalize(mean=[0.485, 0.456, 0.406], std=[0.229, 0.224, 0.225])  # 标准化\n",
    "    ])\n",
    "    \n",
    "    dataset = datasets.ImageFolder(root=data_path, transform=transform)\n",
    "    print(f\"图像个数：{len(dataset)}, 尺寸：{dataset[0][0].shape}\")\n",
    "\n",
    "    # 获取类别名称和索引\n",
    "    class_to_idx = dataset.class_to_idx  # 字典形式：类别名称 -> 索引\n",
    "    idx_to_class = {v: k for k, v in class_to_idx.items()}  # 反向字典：索引 -> 类别名称\n",
    "    with open(os.path.join(label_path + '/idx_to_class.json'), 'w') as f:\n",
    "        json.dump(idx_to_class, f)\n",
    "    \n",
    "    # 数据加载器\n",
    "    dataloader = DataLoader(dataset, batch_size=batch_size, shuffle=True)\n",
    "    \n",
    "    # 查看一个批次数据\n",
    "    images, labels = next(iter(dataloader))\n",
    "    print(f\"图像批次大小: {images.shape}\")\n",
    "    print(f\"标签批次大小: {labels.shape}\")\n",
    "    print(f\"图像批次个数: {len(dataloader)}\")\n",
    "\n",
    "    return dataloader"
   ]
  },
  {
   "cell_type": "code",
   "execution_count": 74,
   "id": "bcc70dff-50ad-4abf-b1f6-43155e30d06a",
   "metadata": {
    "execution": {
     "iopub.execute_input": "2024-12-22T09:41:53.932104Z",
     "iopub.status.busy": "2024-12-22T09:41:53.932104Z",
     "iopub.status.idle": "2024-12-22T09:41:54.817461Z",
     "shell.execute_reply": "2024-12-22T09:41:54.816459Z",
     "shell.execute_reply.started": "2024-12-22T09:41:53.932104Z"
    }
   },
   "outputs": [
    {
     "name": "stdout",
     "output_type": "stream",
     "text": [
      "训练集：\n",
      "图像个数：2000, 尺寸：torch.Size([3, 224, 224])\n",
      "图像批次大小: torch.Size([32, 3, 224, 224])\n",
      "标签批次大小: torch.Size([32])\n",
      "图像批次个数: 63\n",
      "验证集：\n",
      "图像个数：1000, 尺寸：torch.Size([3, 224, 224])\n",
      "图像批次大小: torch.Size([32, 3, 224, 224])\n",
      "标签批次大小: torch.Size([32])\n",
      "图像批次个数: 32\n",
      "测试集：\n",
      "图像个数：1000, 尺寸：torch.Size([3, 224, 224])\n",
      "图像批次大小: torch.Size([32, 3, 224, 224])\n",
      "标签批次大小: torch.Size([32])\n",
      "图像批次个数: 32\n"
     ]
    }
   ],
   "source": [
    "# 训练集\n",
    "params1 = {\n",
    "    \"data_path\": \"../data/cats_and_dogs_small/train\",\n",
    "    \"label_path\": \"../outputs/labels\",\n",
    "    \"batch_size\": 32,\n",
    "}\n",
    "print(\"训练集：\")\n",
    "train_loader = generator(**params1)\n",
    "\n",
    "# 验证集\n",
    "params2 = {\n",
    "    \"data_path\": \"../data/cats_and_dogs_small/validation\",\n",
    "    \"label_path\": \"../outputs/labels\",\n",
    "    \"batch_size\": 32,\n",
    "}\n",
    "print(\"验证集：\")\n",
    "valid_loader = generator(**params2)\n",
    "\n",
    "# 测试集\n",
    "params3 = {\n",
    "    \"data_path\": \"../data/cats_and_dogs_small/test\",\n",
    "    \"label_path\": \"../outputs/labels\",\n",
    "    \"batch_size\": 32,\n",
    "}\n",
    "print(\"测试集：\")\n",
    "test_loader = generator(**params3)"
   ]
  },
  {
   "cell_type": "markdown",
   "id": "d4e3286c-cee8-4df8-85bf-9a343adcce78",
   "metadata": {},
   "source": [
    "## 加载预训练模型"
   ]
  },
  {
   "cell_type": "markdown",
   "id": "964aec7e-9969-46bd-a00c-e958e11ee85e",
   "metadata": {},
   "source": [
    "pre-trained model"
   ]
  },
  {
   "cell_type": "markdown",
   "id": "c03a6014-7949-4267-9579-232305247a75",
   "metadata": {},
   "source": [
    "### VGG16"
   ]
  },
  {
   "cell_type": "markdown",
   "id": "7f8216a1-a73f-4761-82e8-c0c9f62cb204",
   "metadata": {
    "execution": {
     "iopub.execute_input": "2024-12-22T06:50:07.430228Z",
     "iopub.status.busy": "2024-12-22T06:50:07.429228Z",
     "iopub.status.idle": "2024-12-22T06:50:07.461572Z",
     "shell.execute_reply": "2024-12-22T06:50:07.460232Z",
     "shell.execute_reply.started": "2024-12-22T06:50:07.430228Z"
    }
   },
   "source": [
    "VGG16 的网络结构主要分为两部分：\n",
    "\n",
    "- 特征提取部分（features）：由多个卷积层和池化层组成，提取输入图像的特征。\n",
    "- 分类器部分（classifier）：全连接层组成，用于将提取的特征映射到具体的类别。\n",
    "\n",
    "对于 torchvision.models.vgg16 的分类器部分，结构如下："
   ]
  },
  {
   "cell_type": "raw",
   "id": "051dc119-0707-48f9-8441-026b2d774905",
   "metadata": {},
   "source": [
    "Sequential(\n",
    "  (0): Linear(in_features=25088, out_features=4096, bias=True)\n",
    "  (1): ReLU(inplace=True)\n",
    "  (2): Dropout(p=0.5, inplace=False)\n",
    "  (3): Linear(in_features=4096, out_features=4096, bias=True)\n",
    "  (4): ReLU(inplace=True)\n",
    "  (5): Dropout(p=0.5, inplace=False)\n",
    "  (6): Linear(in_features=4096, out_features=1000, bias=True)\n",
    ")"
   ]
  },
  {
   "cell_type": "code",
   "execution_count": 80,
   "id": "7a41142b-328a-4a4b-9d4c-3a9a3c0d62d9",
   "metadata": {
    "execution": {
     "iopub.execute_input": "2024-12-22T09:48:27.862182Z",
     "iopub.status.busy": "2024-12-22T09:48:27.860207Z",
     "iopub.status.idle": "2024-12-22T09:48:29.637198Z",
     "shell.execute_reply": "2024-12-22T09:48:29.636243Z",
     "shell.execute_reply.started": "2024-12-22T09:48:27.862182Z"
    }
   },
   "outputs": [],
   "source": [
    "# 加载预训练的 VGG16 模型\n",
    "VGG16 = models.vgg16(pretrained=True)"
   ]
  },
  {
   "cell_type": "code",
   "execution_count": 81,
   "id": "d06116fa-e7fa-4bfb-9e65-784b033451a3",
   "metadata": {
    "execution": {
     "iopub.execute_input": "2024-12-22T09:48:30.430333Z",
     "iopub.status.busy": "2024-12-22T09:48:30.429337Z",
     "iopub.status.idle": "2024-12-22T09:48:30.472273Z",
     "shell.execute_reply": "2024-12-22T09:48:30.465319Z",
     "shell.execute_reply.started": "2024-12-22T09:48:30.430333Z"
    }
   },
   "outputs": [],
   "source": [
    "# 冻结卷积层参数\n",
    "for param in VGG16.features.parameters():\n",
    "    param.requires_grad = False\n",
    "\n",
    "# 修改分类头\n",
    "num_classes = 2\n",
    "VGG16.classifier[6] = nn.Linear(VGG16.classifier[6].in_features, num_classes)"
   ]
  },
  {
   "cell_type": "code",
   "execution_count": 82,
   "id": "51289f69-b0d6-4939-95d6-a0918bdf271f",
   "metadata": {
    "execution": {
     "iopub.execute_input": "2024-12-22T09:48:31.806987Z",
     "iopub.status.busy": "2024-12-22T09:48:31.805173Z",
     "iopub.status.idle": "2024-12-22T09:48:31.832030Z",
     "shell.execute_reply": "2024-12-22T09:48:31.830514Z",
     "shell.execute_reply.started": "2024-12-22T09:48:31.806987Z"
    },
    "scrolled": true
   },
   "outputs": [
    {
     "data": {
      "text/plain": [
       "VGG(\n",
       "  (features): Sequential(\n",
       "    (0): Conv2d(3, 64, kernel_size=(3, 3), stride=(1, 1), padding=(1, 1))\n",
       "    (1): ReLU(inplace=True)\n",
       "    (2): Conv2d(64, 64, kernel_size=(3, 3), stride=(1, 1), padding=(1, 1))\n",
       "    (3): ReLU(inplace=True)\n",
       "    (4): MaxPool2d(kernel_size=2, stride=2, padding=0, dilation=1, ceil_mode=False)\n",
       "    (5): Conv2d(64, 128, kernel_size=(3, 3), stride=(1, 1), padding=(1, 1))\n",
       "    (6): ReLU(inplace=True)\n",
       "    (7): Conv2d(128, 128, kernel_size=(3, 3), stride=(1, 1), padding=(1, 1))\n",
       "    (8): ReLU(inplace=True)\n",
       "    (9): MaxPool2d(kernel_size=2, stride=2, padding=0, dilation=1, ceil_mode=False)\n",
       "    (10): Conv2d(128, 256, kernel_size=(3, 3), stride=(1, 1), padding=(1, 1))\n",
       "    (11): ReLU(inplace=True)\n",
       "    (12): Conv2d(256, 256, kernel_size=(3, 3), stride=(1, 1), padding=(1, 1))\n",
       "    (13): ReLU(inplace=True)\n",
       "    (14): Conv2d(256, 256, kernel_size=(3, 3), stride=(1, 1), padding=(1, 1))\n",
       "    (15): ReLU(inplace=True)\n",
       "    (16): MaxPool2d(kernel_size=2, stride=2, padding=0, dilation=1, ceil_mode=False)\n",
       "    (17): Conv2d(256, 512, kernel_size=(3, 3), stride=(1, 1), padding=(1, 1))\n",
       "    (18): ReLU(inplace=True)\n",
       "    (19): Conv2d(512, 512, kernel_size=(3, 3), stride=(1, 1), padding=(1, 1))\n",
       "    (20): ReLU(inplace=True)\n",
       "    (21): Conv2d(512, 512, kernel_size=(3, 3), stride=(1, 1), padding=(1, 1))\n",
       "    (22): ReLU(inplace=True)\n",
       "    (23): MaxPool2d(kernel_size=2, stride=2, padding=0, dilation=1, ceil_mode=False)\n",
       "    (24): Conv2d(512, 512, kernel_size=(3, 3), stride=(1, 1), padding=(1, 1))\n",
       "    (25): ReLU(inplace=True)\n",
       "    (26): Conv2d(512, 512, kernel_size=(3, 3), stride=(1, 1), padding=(1, 1))\n",
       "    (27): ReLU(inplace=True)\n",
       "    (28): Conv2d(512, 512, kernel_size=(3, 3), stride=(1, 1), padding=(1, 1))\n",
       "    (29): ReLU(inplace=True)\n",
       "    (30): MaxPool2d(kernel_size=2, stride=2, padding=0, dilation=1, ceil_mode=False)\n",
       "  )\n",
       "  (avgpool): AdaptiveAvgPool2d(output_size=(7, 7))\n",
       "  (classifier): Sequential(\n",
       "    (0): Linear(in_features=25088, out_features=4096, bias=True)\n",
       "    (1): ReLU(inplace=True)\n",
       "    (2): Dropout(p=0.5, inplace=False)\n",
       "    (3): Linear(in_features=4096, out_features=4096, bias=True)\n",
       "    (4): ReLU(inplace=True)\n",
       "    (5): Dropout(p=0.5, inplace=False)\n",
       "    (6): Linear(in_features=4096, out_features=2, bias=True)\n",
       "  )\n",
       ")"
      ]
     },
     "execution_count": 82,
     "metadata": {},
     "output_type": "execute_result"
    }
   ],
   "source": [
    "VGG16"
   ]
  },
  {
   "cell_type": "markdown",
   "id": "302f6969-0d37-4fa2-a988-54bd754adeb4",
   "metadata": {},
   "source": [
    "### ResNet50"
   ]
  },
  {
   "cell_type": "markdown",
   "id": "03123359-010a-42da-a9dd-57019000b59d",
   "metadata": {},
   "source": [
    "ResNet50 是 ResNet（Residual Network）系列中的一种深度神经网络，其主要特点是引入了 残差连接（Residual Connection），解决了深度网络中梯度消失和训练困难的问题。ResNet50 共有 50 层（包括卷积层和全连接层），其设计理念是通过跳跃连接（skip connections）让网络更容易训练，从而获得更好的性能。\n",
    "\n",
    "ResNet50 是 ResNet 系列中比较常用的版本，广泛应用于图像分类、目标检测、语义分割等任务。"
   ]
  },
  {
   "cell_type": "markdown",
   "id": "a4213754-0d2f-4e01-b818-99d48cf1d972",
   "metadata": {},
   "source": [
    "ResNet50 的结构可以分为以下几部分：\n",
    "\n",
    "- Initial Convolutional Layer  \n",
    "一个 \n",
    "7×7 卷积层，步幅为 2，负责提取图像的低级特征，并将输入图像尺寸减小。\n",
    "\n",
    "- MaxPooling Layer  \n",
    "接着是一个 \n",
    "3×3 的最大池化层，步幅为 2。\n",
    "\n",
    "\n",
    "- Residual Blocks  \n",
    "之后是多个 残差块，每个残差块内部包含多个卷积层，并且每两个卷积层之间有跳跃连接（skip connections）。通过跳跃连接，网络能够避免梯度消失问题，尤其是在很深的网络中。  \n",
    "在 ResNet50 中，残差块采用了 瓶颈结构，即每个残差块包含三个卷积层（1x1、3x3、1x1）：  \n",
    "第一个卷积层：  \n",
    "1×1 卷积，减少通道数。  \n",
    "第二个卷积层：  \n",
    "3×3 卷积，进行特征提取。  \n",
    "第三个卷积层：  \n",
    "1×1 卷积，恢复通道数。\n",
    "\n",
    "\n",
    "- Global Average Pooling  \n",
    "在所有残差块之后，使用 全局平均池化（Global Average Pooling）层，将每个通道的特征图压缩成一个标量，进一步降低了参数数量，减少过拟合。\n",
    "\n",
    "\n",
    "- Fully Connected Layer  \n",
    "最后，通过一个全连接层（FC Layer）进行分类，输出类别的数量。"
   ]
  },
  {
   "cell_type": "code",
   "execution_count": 23,
   "id": "5e3dbfab-205b-4d1e-810b-55d56058bc15",
   "metadata": {
    "execution": {
     "iopub.execute_input": "2024-12-22T08:31:46.363125Z",
     "iopub.status.busy": "2024-12-22T08:31:46.362568Z",
     "iopub.status.idle": "2024-12-22T08:32:55.958936Z",
     "shell.execute_reply": "2024-12-22T08:32:55.956934Z",
     "shell.execute_reply.started": "2024-12-22T08:31:46.363125Z"
    }
   },
   "outputs": [
    {
     "name": "stderr",
     "output_type": "stream",
     "text": [
      "Downloading: \"https://download.pytorch.org/models/resnet50-0676ba61.pth\" to C:\\Users\\caoyuyu/.cache\\torch\\hub\\checkpoints\\resnet50-0676ba61.pth\n",
      "100%|█████████████████████████████████████████████████████████████████████████████| 97.8M/97.8M [01:07<00:00, 1.52MB/s]\n"
     ]
    }
   ],
   "source": [
    "# # 加载预训练的 ResNet 模型\n",
    "ResNet50 = models.resnet50(pretrained=True)"
   ]
  },
  {
   "cell_type": "code",
   "execution_count": 26,
   "id": "3abc09fe-8aaa-40c4-b8fa-a5e04aff24bf",
   "metadata": {
    "execution": {
     "iopub.execute_input": "2024-12-22T08:36:07.384731Z",
     "iopub.status.busy": "2024-12-22T08:36:07.384731Z",
     "iopub.status.idle": "2024-12-22T08:36:07.406103Z",
     "shell.execute_reply": "2024-12-22T08:36:07.404853Z",
     "shell.execute_reply.started": "2024-12-22T08:36:07.384731Z"
    }
   },
   "outputs": [],
   "source": [
    "# 冻结部分层\n",
    "for name, param in ResNet50.named_parameters():\n",
    "    if name.startswith('layer1') or name.startswith('layer2'):  # 冻结 layer1 和 layer2\n",
    "        param.requires_grad = False\n",
    "        \n",
    "# 修改分类头\n",
    "num_classes = 2\n",
    "ResNet50.fc = nn.Linear(ResNet50.fc.in_features, num_classes)  # 修改分类头"
   ]
  },
  {
   "cell_type": "markdown",
   "id": "5565a28f-9ca7-4485-883f-7a3540ab8843",
   "metadata": {},
   "source": [
    "### GoogLeNet"
   ]
  },
  {
   "cell_type": "markdown",
   "id": "d9263b8e-9dd3-464c-be4d-c01b8356ff06",
   "metadata": {},
   "source": [
    "GoogLeNet 的深度为 22 层（包括卷积层和全连接层），但其参数量比 AlexNet 少了 12 倍，大约是 6.8M。它的主要设计目标是提升网络深度的同时，避免参数数量过多的问题。\n",
    "\n",
    "GoogLeNet 结构由以下部分组成：\n",
    "\n",
    "- Initial Layers（初始层）  \n",
    "通过基本的卷积层和最大池化层提取初始特征。\n",
    "\n",
    "- Inception 模块  \n",
    "GoogLeNet 的核心创新模块，包含并行的卷积和池化操作，可以捕获多尺度特征。\n",
    "\n",
    "\n",
    "- Global Average Pooling（全局平均池化）  \n",
    "代替全连接层，大大减少了参数量，同时降低了过拟合风险。\n",
    "\n",
    "\n",
    "- Auxiliary Classifiers（辅助分类器）  \n",
    "在中间层引入两个辅助分类器，用于缓解梯度消失问题，同时提高训练效果。"
   ]
  },
  {
   "cell_type": "code",
   "execution_count": 27,
   "id": "7a039a14-a001-40c9-ac24-084f643af7b2",
   "metadata": {
    "execution": {
     "iopub.execute_input": "2024-12-22T08:40:33.013052Z",
     "iopub.status.busy": "2024-12-22T08:40:33.013052Z",
     "iopub.status.idle": "2024-12-22T08:41:05.679878Z",
     "shell.execute_reply": "2024-12-22T08:41:05.678958Z",
     "shell.execute_reply.started": "2024-12-22T08:40:33.013052Z"
    }
   },
   "outputs": [
    {
     "name": "stderr",
     "output_type": "stream",
     "text": [
      "Downloading: \"https://download.pytorch.org/models/googlenet-1378be20.pth\" to C:\\Users\\caoyuyu/.cache\\torch\\hub\\checkpoints\\googlenet-1378be20.pth\n",
      "100%|█████████████████████████████████████████████████████████████████████████████| 49.7M/49.7M [00:30<00:00, 1.69MB/s]\n"
     ]
    }
   ],
   "source": [
    "# 加载预训练的 GoogLeNet 模型\n",
    "GoogLeNet = models.googlenet(pretrained=True)"
   ]
  },
  {
   "cell_type": "code",
   "execution_count": 28,
   "id": "0203569c-8a09-4aa9-b8be-1b891dbb973e",
   "metadata": {
    "execution": {
     "iopub.execute_input": "2024-12-22T08:41:17.464089Z",
     "iopub.status.busy": "2024-12-22T08:41:17.464089Z",
     "iopub.status.idle": "2024-12-22T08:41:17.473530Z",
     "shell.execute_reply": "2024-12-22T08:41:17.472122Z",
     "shell.execute_reply.started": "2024-12-22T08:41:17.464089Z"
    }
   },
   "outputs": [],
   "source": [
    "# 修改分类层以适应新任务\n",
    "num_classes = 2  # 自定义任务的类别数\n",
    "GoogLeNet.fc = nn.Linear(GoogLeNet.fc.in_features, num_classes)"
   ]
  },
  {
   "cell_type": "markdown",
   "id": "0c19df8d-2ca9-44be-9275-fd5d6036a94d",
   "metadata": {},
   "source": [
    "### ConvNext"
   ]
  },
  {
   "cell_type": "markdown",
   "id": "481827a4-6091-4223-afe7-4da83291a77a",
   "metadata": {},
   "source": [
    "结合 CNN 和 Transformer 优势，适合复杂分类任务。\n",
    "\n",
    "ConvNext  \n",
    "特点：  \n",
    "- 受 Transformer 设计启发，优化了传统 CNN 的架构。\n",
    "- 提供 S、M、L 等版本。\n",
    "  \n",
    "适用场景：  \n",
    "- 高性能分类任务。"
   ]
  },
  {
   "cell_type": "code",
   "execution_count": 29,
   "id": "7c6a26ef-310a-4ce1-a2ed-a550ab9a1f20",
   "metadata": {
    "execution": {
     "iopub.execute_input": "2024-12-22T08:46:05.821020Z",
     "iopub.status.busy": "2024-12-22T08:46:05.821020Z",
     "iopub.status.idle": "2024-12-22T08:49:44.027994Z",
     "shell.execute_reply": "2024-12-22T08:49:44.026073Z",
     "shell.execute_reply.started": "2024-12-22T08:46:05.821020Z"
    }
   },
   "outputs": [
    {
     "name": "stderr",
     "output_type": "stream",
     "text": [
      "Downloading: \"https://download.pytorch.org/models/convnext_base-6075fbad.pth\" to C:\\Users\\caoyuyu/.cache\\torch\\hub\\checkpoints\\convnext_base-6075fbad.pth\n",
      "100%|███████████████████████████████████████████████████████████████████████████████| 338M/338M [03:35<00:00, 1.65MB/s]\n"
     ]
    }
   ],
   "source": [
    "# 加载预训练的 ConvNext 模型\n",
    "ConvNext = models.convnext_base(pretrained=True)"
   ]
  },
  {
   "cell_type": "code",
   "execution_count": 30,
   "id": "cd369645-da52-4c7b-b4ea-fbd9749e20fd",
   "metadata": {
    "execution": {
     "iopub.execute_input": "2024-12-22T08:49:55.071120Z",
     "iopub.status.busy": "2024-12-22T08:49:55.070119Z",
     "iopub.status.idle": "2024-12-22T08:49:55.080884Z",
     "shell.execute_reply": "2024-12-22T08:49:55.080884Z",
     "shell.execute_reply.started": "2024-12-22T08:49:55.071120Z"
    }
   },
   "outputs": [],
   "source": [
    "# 冻结卷积层参数\n",
    "for param in ConvNext.features.parameters():\n",
    "    param.requires_grad = False\n",
    "\n",
    "# 修改分类头\n",
    "num_classes = 2\n",
    "ConvNext.classifier[2] = nn.Linear(ConvNext.classifier[2].in_features, num_classes)"
   ]
  },
  {
   "cell_type": "markdown",
   "id": "aaec9acc-202a-4e7b-a1b5-7aec92d6b39b",
   "metadata": {},
   "source": [
    "## 模型训练"
   ]
  },
  {
   "cell_type": "code",
   "execution_count": 83,
   "id": "f455bc15-1044-4f32-88ee-3f602e63ae97",
   "metadata": {
    "execution": {
     "iopub.execute_input": "2024-12-22T09:48:38.251459Z",
     "iopub.status.busy": "2024-12-22T09:48:38.250459Z",
     "iopub.status.idle": "2024-12-22T09:48:38.295488Z",
     "shell.execute_reply": "2024-12-22T09:48:38.294488Z",
     "shell.execute_reply.started": "2024-12-22T09:48:38.251459Z"
    }
   },
   "outputs": [],
   "source": [
    "def train(train_args):\n",
    "    # 参数配置\n",
    "    model_name = train_args['model_name'] # 模型名称\n",
    "    train_loader = train_args['train_loader'] # 训练集\n",
    "    valid_loader = train_args['valid_loader'] # 验证集\n",
    "    n_epochs = train_args['n_epochs'] # 训练次数\n",
    "    learning_rate = train_args['learning_rate'] # 学习率\n",
    "    loss = train_args['loss'] # 损失函数\n",
    "    patience = train_args['patience'] # 最大早停次数阈值，超过就会早停\n",
    "    lradj = train_args['lradj'] # 学习率函数\n",
    "    model_path = train_args['model_path'] # 模型保存路径\n",
    "    verbose = train_args['verbose'] # 打印训练过程\n",
    "    plots = train_args['plots'] # 绘制损失图\n",
    "    device = train_args['device'] # 训练设备，可选'cuda'和'cpu'\n",
    "    \n",
    "    #检查是否可用GPU\n",
    "    device = torch.device(device)\n",
    "    \n",
    "    # 创建模型和优化器\n",
    "    model = model_name.to(device)\n",
    "    optimizer = optim.RAdam(model.parameters(), lr=learning_rate)\n",
    "    criterion = loss\n",
    "    \n",
    "    # 调整学习率\n",
    "    def adjust_learning_rate(optimizer, epoch, lradj, learning_rate, train_epochs):\n",
    "        # lr = learning_rate * (0.2 ** (epoch // 2))\n",
    "        if lradj == 'type1':\n",
    "            lr_adjust = {epoch: learning_rate * (0.5 ** ((epoch - 1) // 1))}\n",
    "        elif lradj == 'type2':\n",
    "            lr_adjust = {\n",
    "                2: 5e-5, 4: 1e-5, 6: 5e-6, 8: 1e-6,\n",
    "                10: 5e-7, 15: 1e-7, 20: 5e-8\n",
    "            }\n",
    "        elif lradj == \"cosine\":\n",
    "            lr_adjust = {epoch: learning_rate /2 * (1 + math.cos(epoch / train_epochs * math.pi))}\n",
    "        if epoch in lr_adjust.keys():\n",
    "            lr = lr_adjust[epoch]\n",
    "            # 参数组(param_groups)是用来指定不同的参数组以便对它们进行不同的优化设置，比如'lr'\n",
    "            for param_group in optimizer.param_groups:\n",
    "                param_group['lr'] = lr\n",
    "            print('Updating learning rate to {}'.format(lr))\n",
    "    \n",
    "    # 设置早停\n",
    "    class EarlyStopping():\n",
    "        def __init__(self, patience=7, verbose=False, delta=0):\n",
    "            self.patience = patience # 连续超限次数，如果满足条件，则早停\n",
    "            self.verbose = verbose\n",
    "            self.counter = 0\n",
    "            self.best_score = None\n",
    "            self.early_stop = False\n",
    "            self.val_loss_min = np.Inf\n",
    "            self.delta = delta\n",
    "\n",
    "        def __call__(self, val_loss, model, path):\n",
    "            score = -val_loss\n",
    "            if self.best_score is None:\n",
    "                self.best_score = score\n",
    "                self.save_checkpoint(val_loss, model, path)\n",
    "            elif score < self.best_score + self.delta:\n",
    "                self.counter += 1\n",
    "                print(f'EarlyStopping counter: {self.counter} out of {self.patience}')\n",
    "                if self.counter >= self.patience:\n",
    "                    self.early_stop = True\n",
    "            else:\n",
    "                self.best_score = score\n",
    "                self.save_checkpoint(val_loss, model, path)\n",
    "                self.counter = 0\n",
    "\n",
    "        def save_checkpoint(self, val_loss, model, path):\n",
    "            if self.verbose:\n",
    "                print(f'Validation loss decreased ({self.val_loss_min:.6f} --> {val_loss:.6f}).  Saving model ...')\n",
    "            torch.save(model.state_dict(), path + '/' + 'checkpoint.pth')\n",
    "            self.val_loss_min = val_loss\n",
    "    early_stopping = EarlyStopping(patience=patience, verbose=verbose)\n",
    "    \n",
    "    # 设置保存模型路径\n",
    "    if not os.path.exists(model_path):\n",
    "        os.makedirs(model_path)\n",
    "\n",
    "    # 模型训练和验证\n",
    "    train_losses, val_losses = [], []\n",
    "    for epoch in tqdm(range(n_epochs)):\n",
    "        model.train()\n",
    "        total_train_loss = 0\n",
    "        train_correct_predictions = 0\n",
    "        for batch_x, batch_y in train_loader:\n",
    "            #将数据移至 GPU\n",
    "            batch_x = batch_x.to(device) \n",
    "            batch_y = batch_y.to(device) \n",
    "            # 清空梯度\n",
    "            optimizer.zero_grad()\n",
    "            outputs = model(batch_x)\n",
    "            train_loss = criterion(outputs, batch_y)\n",
    "            # 反向传播计算得到每个参数的梯度值\n",
    "            train_loss.backward()\n",
    "            # 通过梯度下降执行一步参数更新\n",
    "            optimizer.step()\n",
    "            #每个batch的loss和\n",
    "            total_train_loss += train_loss.item() # .item()表示只包含一个元素的tensor中提取值\n",
    "            # 计算准确率\n",
    "            _, preds = torch.max(outputs, dim=1)\n",
    "            train_correct_predictions += torch.sum(preds == batch_y)\n",
    "                \n",
    "        #每个epoch的损失平均\n",
    "        avg_train_loss = total_train_loss / len(train_loader)\n",
    "        \n",
    "        #所有epoch的loss\n",
    "        train_losses.append(avg_train_loss)\n",
    "\n",
    "        # 计算准确率\n",
    "        train_accuracy = train_correct_predictions.double() / len(train_loader.dataset)\n",
    "        \n",
    "        #评估模型\n",
    "        model.eval()\n",
    "        preds = []\n",
    "        trues = []\n",
    "        #关闭自动求导功能，只使用训练好的模型进行预测或评估，不需要进行梯度计算和参数更新\n",
    "        with torch.no_grad():\n",
    "            total_val_loss = 0\n",
    "            val_correct_predictions = 0\n",
    "            for batch_x, batch_y in valid_loader:\n",
    "                #将数据移至 GPU\n",
    "                batch_x = batch_x.to(device) \n",
    "                batch_y = batch_y.to(device) \n",
    "                outputs = model(batch_x)\n",
    "                val_loss = criterion(outputs, batch_y)\n",
    "                #每个batch的loss和\n",
    "                total_val_loss += val_loss.item()\n",
    "                # 计算准确率\n",
    "                _, preds = torch.max(outputs, dim=1)\n",
    "                val_correct_predictions += torch.sum(preds == batch_y)\n",
    "                \n",
    "        #每个epoch的损失平均\n",
    "        avg_val_loss = total_val_loss / len(valid_loader)\n",
    "        \n",
    "        #所有epoch的loss\n",
    "        val_losses.append(avg_val_loss)\n",
    "\n",
    "        # 计算准确率\n",
    "        val_accuracy = val_correct_predictions.double() / len(valid_loader.dataset)\n",
    "\n",
    "        # 打印训练过程\n",
    "        if verbose:\n",
    "            print(f'Epoch [{epoch+1}/{n_epochs}], Training Loss: {avg_train_loss:.4f}, Training Accuracy: {train_accuracy:.4f}, Validation Loss: {avg_val_loss:.4f}, Validation Accuracy: {val_accuracy:.4f}')\n",
    "\n",
    "        # 设置早停\n",
    "        early_stopping(avg_val_loss, model, model_path)\n",
    "        if early_stopping.early_stop:\n",
    "            print(\"Early stopping!\")\n",
    "            break\n",
    "            \n",
    "        # 调整学习率\n",
    "        adjust_learning_rate(optimizer, epoch+1, lradj, learning_rate, n_epochs)\n",
    "\n",
    "    #绘制损失函数图\n",
    "    def plot_loss(train_losses, val_losses):\n",
    "        plt.figure(figsize=(10, 5))\n",
    "        plt.style.use('seaborn-v0_8-paper') #绘制背景色\n",
    "        plt.grid(axis = 'y',linewidth=0.35) #绘制网格\n",
    "        plt.plot(val_losses, linestyle='-',color = '#11b3b6')\n",
    "        plt.plot(train_losses, linestyle='-',color = '#f14643')\n",
    "        plt.xlabel(\"Epoch\")\n",
    "        plt.ylabel(\"Loss\")\n",
    "        plt.title(\"Training and Validation Progress\")\n",
    "        plt.legend([\"Validation\", \"Training\"])\n",
    "        plt.show()\n",
    "    if plots:\n",
    "        plot_loss(train_losses, val_losses)\n",
    "            \n",
    "    return model"
   ]
  },
  {
   "cell_type": "code",
   "execution_count": 90,
   "id": "923f3e2b-5a5f-42d4-9889-395499f04c9c",
   "metadata": {
    "execution": {
     "iopub.execute_input": "2024-12-22T10:04:51.516817Z",
     "iopub.status.busy": "2024-12-22T10:04:51.515820Z",
     "iopub.status.idle": "2024-12-22T12:26:46.685219Z",
     "shell.execute_reply": "2024-12-22T12:26:46.678400Z",
     "shell.execute_reply.started": "2024-12-22T10:04:51.516817Z"
    },
    "scrolled": true
   },
   "outputs": [
    {
     "name": "stderr",
     "output_type": "stream",
     "text": [
      "  0%|                                                                                           | 0/50 [00:00<?, ?it/s]"
     ]
    },
    {
     "name": "stdout",
     "output_type": "stream",
     "text": [
      "Epoch [1/50], Training Loss: 0.0261, Training Accuracy: 0.9915, Validation Loss: 0.1152, Validation Accuracy: 0.9780\n",
      "Validation loss decreased (inf --> 0.115241).  Saving model ...\n"
     ]
    },
    {
     "name": "stderr",
     "output_type": "stream",
     "text": [
      "  2%|█▌                                                                            | 1/50 [17:34<14:20:53, 1054.16s/it]"
     ]
    },
    {
     "name": "stdout",
     "output_type": "stream",
     "text": [
      "Updating learning rate to 0.0009990133642141358\n"
     ]
    },
    {
     "name": "stderr",
     "output_type": "stream",
     "text": [
      "  4%|███                                                                           | 2/50 [35:32<14:14:56, 1068.67s/it]"
     ]
    },
    {
     "name": "stdout",
     "output_type": "stream",
     "text": [
      "Epoch [2/50], Training Loss: 0.0705, Training Accuracy: 0.9860, Validation Loss: 0.4402, Validation Accuracy: 0.9380\n",
      "EarlyStopping counter: 1 out of 5\n",
      "Updating learning rate to 0.000996057350657239\n",
      "Epoch [3/50], Training Loss: 0.2024, Training Accuracy: 0.9715, Validation Loss: 0.1071, Validation Accuracy: 0.9800\n",
      "Validation loss decreased (0.115241 --> 0.107115).  Saving model ...\n"
     ]
    },
    {
     "name": "stderr",
     "output_type": "stream",
     "text": [
      "  6%|████▋                                                                         | 3/50 [53:26<13:58:48, 1070.82s/it]"
     ]
    },
    {
     "name": "stdout",
     "output_type": "stream",
     "text": [
      "Updating learning rate to 0.0009911436253643444\n"
     ]
    },
    {
     "name": "stderr",
     "output_type": "stream",
     "text": [
      "  8%|██████                                                                      | 4/50 [1:10:59<13:35:42, 1063.98s/it]"
     ]
    },
    {
     "name": "stdout",
     "output_type": "stream",
     "text": [
      "Epoch [4/50], Training Loss: 0.0834, Training Accuracy: 0.9875, Validation Loss: 0.3649, Validation Accuracy: 0.9730\n",
      "EarlyStopping counter: 1 out of 5\n",
      "Updating learning rate to 0.0009842915805643156\n"
     ]
    },
    {
     "name": "stderr",
     "output_type": "stream",
     "text": [
      " 10%|███████▌                                                                    | 5/50 [1:28:37<13:16:11, 1061.58s/it]"
     ]
    },
    {
     "name": "stdout",
     "output_type": "stream",
     "text": [
      "Epoch [5/50], Training Loss: 0.2365, Training Accuracy: 0.9800, Validation Loss: 0.4159, Validation Accuracy: 0.9780\n",
      "EarlyStopping counter: 2 out of 5\n",
      "Updating learning rate to 0.0009755282581475768\n"
     ]
    },
    {
     "name": "stderr",
     "output_type": "stream",
     "text": [
      " 12%|█████████                                                                   | 6/50 [1:46:22<12:59:23, 1062.81s/it]"
     ]
    },
    {
     "name": "stdout",
     "output_type": "stream",
     "text": [
      "Epoch [6/50], Training Loss: 0.1644, Training Accuracy: 0.9870, Validation Loss: 0.4357, Validation Accuracy: 0.9710\n",
      "EarlyStopping counter: 3 out of 5\n",
      "Updating learning rate to 0.0009648882429441257\n"
     ]
    },
    {
     "name": "stderr",
     "output_type": "stream",
     "text": [
      " 14%|██████████▋                                                                 | 7/50 [2:04:06<12:41:56, 1063.17s/it]"
     ]
    },
    {
     "name": "stdout",
     "output_type": "stream",
     "text": [
      "Epoch [7/50], Training Loss: 0.1058, Training Accuracy: 0.9920, Validation Loss: 0.5787, Validation Accuracy: 0.9690\n",
      "EarlyStopping counter: 4 out of 5\n",
      "Updating learning rate to 0.0009524135262330098\n"
     ]
    },
    {
     "name": "stderr",
     "output_type": "stream",
     "text": [
      " 14%|██████████▋                                                                 | 7/50 [2:21:53<14:31:37, 1216.22s/it]"
     ]
    },
    {
     "name": "stdout",
     "output_type": "stream",
     "text": [
      "Epoch [8/50], Training Loss: 0.2816, Training Accuracy: 0.9880, Validation Loss: 1.4166, Validation Accuracy: 0.9630\n",
      "EarlyStopping counter: 5 out of 5\n",
      "Early stopping!\n"
     ]
    },
    {
     "name": "stderr",
     "output_type": "stream",
     "text": [
      "\n"
     ]
    },
    {
     "data": {
      "image/png": "[encoded data removed]",
      "text/plain": [
       "<Figure size 1000x500 with 1 Axes>"
      ]
     },
     "metadata": {},
     "output_type": "display_data"
    }
   ],
   "source": [
    "# 构造参数字典\n",
    "params4 = {\n",
    "    \"train_args\": {\n",
    "        \"model_name\": VGG16,\n",
    "        \"train_loader\": train_loader,\n",
    "        \"valid_loader\": valid_loader,\n",
    "        \"n_epochs\": 50,\n",
    "        \"learning_rate\": 0.001,\n",
    "        \"loss\": nn.CrossEntropyLoss(),\n",
    "        \"patience\": 5,\n",
    "        \"lradj\": 'cosine',\n",
    "        \"model_path\": \"../outputs/best_models/VGG16_C\",\n",
    "        \"device\": 'cuda',\n",
    "        \"verbose\": True,\n",
    "        \"plots\": True,\n",
    "    },\n",
    "}\n",
    "model = train(**params4)"
   ]
  },
  {
   "cell_type": "markdown",
   "id": "6b339e17-2342-4af1-b52b-9d9b36329484",
   "metadata": {},
   "source": [
    "## 模型预测"
   ]
  },
  {
   "cell_type": "code",
   "execution_count": 87,
   "id": "ac3821c7-94c7-4206-8c44-0fc1508904ad",
   "metadata": {
    "execution": {
     "iopub.execute_input": "2024-12-22T10:01:00.060080Z",
     "iopub.status.busy": "2024-12-22T10:01:00.059166Z",
     "iopub.status.idle": "2024-12-22T10:01:00.076658Z",
     "shell.execute_reply": "2024-12-22T10:01:00.075656Z",
     "shell.execute_reply.started": "2024-12-22T10:01:00.060080Z"
    }
   },
   "outputs": [],
   "source": [
    "def predict(predict_args):\n",
    "    # 参数配置\n",
    "    pre_model_name = predict_args['pre_model_name']\n",
    "    data_path = predict_args['data_path']\n",
    "    model_path = predict_args['model_path']\n",
    "    device = predict_args['device']  # 可选'cuda'和'cpu'\n",
    "    label_path = predict_args['label_path'] # 标签字典\n",
    "\n",
    "    # 检查可用device\n",
    "    device = torch.device(device)\n",
    "\n",
    "    # 标签地址\n",
    "    with open(os.path.join(label_path + '/idx_to_class.json'), 'r') as f:\n",
    "        label_dicts = json.load(f)\n",
    "\n",
    "    # 加载模型\n",
    "    model = pre_model_name\n",
    "    state_dict = torch.load(model_path, map_location=device)\n",
    "    model.load_state_dict(state_dict)\n",
    "    model = model.to(device)\n",
    "\n",
    "    # 构造数据集\n",
    "    transform = transforms.Compose([\n",
    "        transforms.Resize((224, 224)),         # 调整图像大小\n",
    "        transforms.RandomHorizontalFlip(p=0.5), # 随机水平翻转\n",
    "        transforms.ColorJitter(brightness=0.2, contrast=0.2),  # 颜色抖动\n",
    "        transforms.ToTensor(),                  # 转换为张量\n",
    "        transforms.Normalize(mean=[0.485, 0.456, 0.406], std=[0.229, 0.224, 0.225])  # 标准化\n",
    "    ])\n",
    "\n",
    "    # 加载待预测数据\n",
    "    labels = {}\n",
    "    for file_name in os.listdir(data_path):\n",
    "        # 检查文件是否为 .jpg 格式\n",
    "        if file_name.endswith(\".jpg\"):\n",
    "            file_path = os.path.join(data_path, file_name)  # 获取完整路径\n",
    "            image = Image.open(file_path).convert('RGB')  # 确保是 RGB 图像\n",
    "            X_true = transform(image).unsqueeze(0)  # 添加 batch 维度\n",
    "            X_true = X_true.to(device)  # 移动到设备（CPU 或 GPU）\n",
    "        \n",
    "            # 模型预测\n",
    "            model.eval()\n",
    "            with torch.no_grad():\n",
    "                X_true = X_true.to(device)\n",
    "                outputs = model(X_true)\n",
    "                # 计算准确率\n",
    "                _, preds = torch.max(outputs, dim=1)\n",
    "            labels[file_name] = label_dicts[str(preds.item())]\n",
    "        else:\n",
    "            pass\n",
    "\n",
    "    return labels"
   ]
  },
  {
   "cell_type": "code",
   "execution_count": 88,
   "id": "b7a07dd5-4300-41c8-a485-864e7cf0d200",
   "metadata": {
    "execution": {
     "iopub.execute_input": "2024-12-22T10:01:03.320225Z",
     "iopub.status.busy": "2024-12-22T10:01:03.319225Z",
     "iopub.status.idle": "2024-12-22T10:03:09.498307Z",
     "shell.execute_reply": "2024-12-22T10:03:09.497355Z",
     "shell.execute_reply.started": "2024-12-22T10:01:03.320225Z"
    }
   },
   "outputs": [],
   "source": [
    "# 构造参数字典\n",
    "params6 = {\n",
    "    \"predict_args\": {\n",
    "        \"pre_model_name\": VGG16,\n",
    "        \"model_path\": \"../outputs/best_models/VGG16_C/checkpoint.pth\",\n",
    "        \"data_path\": \"../data/cats_and_dogs_small/test/cats\",\n",
    "        \"device\": 'cpu', \n",
    "        \"label_path\": \"../outputs/labels\"\n",
    "    },\n",
    "}\n",
    "y_pred = predict(**params6)"
   ]
  },
  {
   "cell_type": "code",
   "execution_count": 89,
   "id": "5d25989a-47ba-4788-8c84-0bf368bb2522",
   "metadata": {
    "execution": {
     "iopub.execute_input": "2024-12-22T10:03:40.404050Z",
     "iopub.status.busy": "2024-12-22T10:03:40.404050Z",
     "iopub.status.idle": "2024-12-22T10:03:40.446708Z",
     "shell.execute_reply": "2024-12-22T10:03:40.444753Z",
     "shell.execute_reply.started": "2024-12-22T10:03:40.404050Z"
    }
   },
   "outputs": [
    {
     "data": {
      "text/plain": [
       "{'cat.1500.jpg': 'cats',\n",
       " 'cat.1501.jpg': 'cats',\n",
       " 'cat.1502.jpg': 'cats',\n",
       " 'cat.1503.jpg': 'cats',\n",
       " 'cat.1504.jpg': 'cats',\n",
       " 'cat.1505.jpg': 'cats',\n",
       " 'cat.1506.jpg': 'cats',\n",
       " 'cat.1507.jpg': 'dogs',\n",
       " 'cat.1508.jpg': 'cats',\n",
       " 'cat.1509.jpg': 'cats',\n",
       " 'cat.1510.jpg': 'cats',\n",
       " 'cat.1511.jpg': 'cats',\n",
       " 'cat.1512.jpg': 'cats',\n",
       " 'cat.1513.jpg': 'cats',\n",
       " 'cat.1514.jpg': 'cats',\n",
       " 'cat.1515.jpg': 'cats',\n",
       " 'cat.1516.jpg': 'cats',\n",
       " 'cat.1517.jpg': 'cats',\n",
       " 'cat.1518.jpg': 'cats',\n",
       " 'cat.1519.jpg': 'cats',\n",
       " 'cat.1520.jpg': 'cats',\n",
       " 'cat.1521.jpg': 'cats',\n",
       " 'cat.1522.jpg': 'cats',\n",
       " 'cat.1523.jpg': 'cats',\n",
       " 'cat.1524.jpg': 'cats',\n",
       " 'cat.1525.jpg': 'cats',\n",
       " 'cat.1526.jpg': 'cats',\n",
       " 'cat.1527.jpg': 'cats',\n",
       " 'cat.1528.jpg': 'cats',\n",
       " 'cat.1529.jpg': 'cats',\n",
       " 'cat.1530.jpg': 'cats',\n",
       " 'cat.1531.jpg': 'cats',\n",
       " 'cat.1532.jpg': 'cats',\n",
       " 'cat.1533.jpg': 'cats',\n",
       " 'cat.1534.jpg': 'cats',\n",
       " 'cat.1535.jpg': 'cats',\n",
       " 'cat.1536.jpg': 'cats',\n",
       " 'cat.1537.jpg': 'cats',\n",
       " 'cat.1538.jpg': 'cats',\n",
       " 'cat.1539.jpg': 'cats',\n",
       " 'cat.1540.jpg': 'cats',\n",
       " 'cat.1541.jpg': 'cats',\n",
       " 'cat.1542.jpg': 'cats',\n",
       " 'cat.1543.jpg': 'cats',\n",
       " 'cat.1544.jpg': 'cats',\n",
       " 'cat.1545.jpg': 'cats',\n",
       " 'cat.1546.jpg': 'cats',\n",
       " 'cat.1547.jpg': 'cats',\n",
       " 'cat.1548.jpg': 'cats',\n",
       " 'cat.1549.jpg': 'cats',\n",
       " 'cat.1550.jpg': 'cats',\n",
       " 'cat.1551.jpg': 'cats',\n",
       " 'cat.1552.jpg': 'cats',\n",
       " 'cat.1553.jpg': 'cats',\n",
       " 'cat.1554.jpg': 'cats',\n",
       " 'cat.1555.jpg': 'cats',\n",
       " 'cat.1556.jpg': 'cats',\n",
       " 'cat.1557.jpg': 'cats',\n",
       " 'cat.1558.jpg': 'cats',\n",
       " 'cat.1559.jpg': 'cats',\n",
       " 'cat.1560.jpg': 'cats',\n",
       " 'cat.1561.jpg': 'cats',\n",
       " 'cat.1562.jpg': 'cats',\n",
       " 'cat.1563.jpg': 'cats',\n",
       " 'cat.1564.jpg': 'cats',\n",
       " 'cat.1565.jpg': 'cats',\n",
       " 'cat.1566.jpg': 'cats',\n",
       " 'cat.1567.jpg': 'cats',\n",
       " 'cat.1568.jpg': 'cats',\n",
       " 'cat.1569.jpg': 'cats',\n",
       " 'cat.1570.jpg': 'cats',\n",
       " 'cat.1571.jpg': 'cats',\n",
       " 'cat.1572.jpg': 'cats',\n",
       " 'cat.1573.jpg': 'cats',\n",
       " 'cat.1574.jpg': 'cats',\n",
       " 'cat.1575.jpg': 'dogs',\n",
       " 'cat.1576.jpg': 'cats',\n",
       " 'cat.1577.jpg': 'cats',\n",
       " 'cat.1578.jpg': 'cats',\n",
       " 'cat.1579.jpg': 'cats',\n",
       " 'cat.1580.jpg': 'cats',\n",
       " 'cat.1581.jpg': 'cats',\n",
       " 'cat.1582.jpg': 'cats',\n",
       " 'cat.1583.jpg': 'cats',\n",
       " 'cat.1584.jpg': 'cats',\n",
       " 'cat.1585.jpg': 'cats',\n",
       " 'cat.1586.jpg': 'cats',\n",
       " 'cat.1587.jpg': 'cats',\n",
       " 'cat.1588.jpg': 'cats',\n",
       " 'cat.1589.jpg': 'cats',\n",
       " 'cat.1590.jpg': 'cats',\n",
       " 'cat.1591.jpg': 'cats',\n",
       " 'cat.1592.jpg': 'cats',\n",
       " 'cat.1593.jpg': 'cats',\n",
       " 'cat.1594.jpg': 'cats',\n",
       " 'cat.1595.jpg': 'cats',\n",
       " 'cat.1596.jpg': 'cats',\n",
       " 'cat.1597.jpg': 'cats',\n",
       " 'cat.1598.jpg': 'cats',\n",
       " 'cat.1599.jpg': 'cats',\n",
       " 'cat.1600.jpg': 'cats',\n",
       " 'cat.1601.jpg': 'cats',\n",
       " 'cat.1602.jpg': 'cats',\n",
       " 'cat.1603.jpg': 'cats',\n",
       " 'cat.1604.jpg': 'cats',\n",
       " 'cat.1605.jpg': 'cats',\n",
       " 'cat.1606.jpg': 'cats',\n",
       " 'cat.1607.jpg': 'cats',\n",
       " 'cat.1608.jpg': 'cats',\n",
       " 'cat.1609.jpg': 'cats',\n",
       " 'cat.1610.jpg': 'cats',\n",
       " 'cat.1611.jpg': 'cats',\n",
       " 'cat.1612.jpg': 'cats',\n",
       " 'cat.1613.jpg': 'cats',\n",
       " 'cat.1614.jpg': 'cats',\n",
       " 'cat.1615.jpg': 'dogs',\n",
       " 'cat.1616.jpg': 'cats',\n",
       " 'cat.1617.jpg': 'cats',\n",
       " 'cat.1618.jpg': 'cats',\n",
       " 'cat.1619.jpg': 'cats',\n",
       " 'cat.1620.jpg': 'cats',\n",
       " 'cat.1621.jpg': 'cats',\n",
       " 'cat.1622.jpg': 'cats',\n",
       " 'cat.1623.jpg': 'cats',\n",
       " 'cat.1624.jpg': 'cats',\n",
       " 'cat.1625.jpg': 'cats',\n",
       " 'cat.1626.jpg': 'cats',\n",
       " 'cat.1627.jpg': 'cats',\n",
       " 'cat.1628.jpg': 'cats',\n",
       " 'cat.1629.jpg': 'cats',\n",
       " 'cat.1630.jpg': 'cats',\n",
       " 'cat.1631.jpg': 'cats',\n",
       " 'cat.1632.jpg': 'cats',\n",
       " 'cat.1633.jpg': 'cats',\n",
       " 'cat.1634.jpg': 'cats',\n",
       " 'cat.1635.jpg': 'cats',\n",
       " 'cat.1636.jpg': 'cats',\n",
       " 'cat.1637.jpg': 'cats',\n",
       " 'cat.1638.jpg': 'cats',\n",
       " 'cat.1639.jpg': 'cats',\n",
       " 'cat.1640.jpg': 'cats',\n",
       " 'cat.1641.jpg': 'cats',\n",
       " 'cat.1642.jpg': 'cats',\n",
       " 'cat.1643.jpg': 'cats',\n",
       " 'cat.1644.jpg': 'cats',\n",
       " 'cat.1645.jpg': 'cats',\n",
       " 'cat.1646.jpg': 'cats',\n",
       " 'cat.1647.jpg': 'cats',\n",
       " 'cat.1648.jpg': 'cats',\n",
       " 'cat.1649.jpg': 'cats',\n",
       " 'cat.1650.jpg': 'cats',\n",
       " 'cat.1651.jpg': 'cats',\n",
       " 'cat.1652.jpg': 'cats',\n",
       " 'cat.1653.jpg': 'cats',\n",
       " 'cat.1654.jpg': 'cats',\n",
       " 'cat.1655.jpg': 'cats',\n",
       " 'cat.1656.jpg': 'cats',\n",
       " 'cat.1657.jpg': 'cats',\n",
       " 'cat.1658.jpg': 'cats',\n",
       " 'cat.1659.jpg': 'cats',\n",
       " 'cat.1660.jpg': 'cats',\n",
       " 'cat.1661.jpg': 'cats',\n",
       " 'cat.1662.jpg': 'cats',\n",
       " 'cat.1663.jpg': 'cats',\n",
       " 'cat.1664.jpg': 'cats',\n",
       " 'cat.1665.jpg': 'cats',\n",
       " 'cat.1666.jpg': 'cats',\n",
       " 'cat.1667.jpg': 'cats',\n",
       " 'cat.1668.jpg': 'cats',\n",
       " 'cat.1669.jpg': 'cats',\n",
       " 'cat.1670.jpg': 'cats',\n",
       " 'cat.1671.jpg': 'cats',\n",
       " 'cat.1672.jpg': 'cats',\n",
       " 'cat.1673.jpg': 'cats',\n",
       " 'cat.1674.jpg': 'cats',\n",
       " 'cat.1675.jpg': 'cats',\n",
       " 'cat.1676.jpg': 'cats',\n",
       " 'cat.1677.jpg': 'cats',\n",
       " 'cat.1678.jpg': 'cats',\n",
       " 'cat.1679.jpg': 'cats',\n",
       " 'cat.1680.jpg': 'cats',\n",
       " 'cat.1681.jpg': 'cats',\n",
       " 'cat.1682.jpg': 'cats',\n",
       " 'cat.1683.jpg': 'cats',\n",
       " 'cat.1684.jpg': 'cats',\n",
       " 'cat.1685.jpg': 'cats',\n",
       " 'cat.1686.jpg': 'cats',\n",
       " 'cat.1687.jpg': 'cats',\n",
       " 'cat.1688.jpg': 'cats',\n",
       " 'cat.1689.jpg': 'cats',\n",
       " 'cat.1690.jpg': 'cats',\n",
       " 'cat.1691.jpg': 'cats',\n",
       " 'cat.1692.jpg': 'cats',\n",
       " 'cat.1693.jpg': 'cats',\n",
       " 'cat.1694.jpg': 'cats',\n",
       " 'cat.1695.jpg': 'cats',\n",
       " 'cat.1696.jpg': 'cats',\n",
       " 'cat.1697.jpg': 'cats',\n",
       " 'cat.1698.jpg': 'cats',\n",
       " 'cat.1699.jpg': 'cats',\n",
       " 'cat.1700.jpg': 'cats',\n",
       " 'cat.1701.jpg': 'cats',\n",
       " 'cat.1702.jpg': 'cats',\n",
       " 'cat.1703.jpg': 'cats',\n",
       " 'cat.1704.jpg': 'cats',\n",
       " 'cat.1705.jpg': 'cats',\n",
       " 'cat.1706.jpg': 'cats',\n",
       " 'cat.1707.jpg': 'cats',\n",
       " 'cat.1708.jpg': 'cats',\n",
       " 'cat.1709.jpg': 'cats',\n",
       " 'cat.1710.jpg': 'cats',\n",
       " 'cat.1711.jpg': 'cats',\n",
       " 'cat.1712.jpg': 'cats',\n",
       " 'cat.1713.jpg': 'cats',\n",
       " 'cat.1714.jpg': 'cats',\n",
       " 'cat.1715.jpg': 'cats',\n",
       " 'cat.1716.jpg': 'cats',\n",
       " 'cat.1717.jpg': 'cats',\n",
       " 'cat.1718.jpg': 'cats',\n",
       " 'cat.1719.jpg': 'cats',\n",
       " 'cat.1720.jpg': 'cats',\n",
       " 'cat.1721.jpg': 'cats',\n",
       " 'cat.1722.jpg': 'cats',\n",
       " 'cat.1723.jpg': 'cats',\n",
       " 'cat.1724.jpg': 'cats',\n",
       " 'cat.1725.jpg': 'cats',\n",
       " 'cat.1726.jpg': 'cats',\n",
       " 'cat.1727.jpg': 'cats',\n",
       " 'cat.1728.jpg': 'cats',\n",
       " 'cat.1729.jpg': 'cats',\n",
       " 'cat.1730.jpg': 'cats',\n",
       " 'cat.1731.jpg': 'cats',\n",
       " 'cat.1732.jpg': 'cats',\n",
       " 'cat.1733.jpg': 'cats',\n",
       " 'cat.1734.jpg': 'cats',\n",
       " 'cat.1735.jpg': 'cats',\n",
       " 'cat.1736.jpg': 'cats',\n",
       " 'cat.1737.jpg': 'cats',\n",
       " 'cat.1738.jpg': 'cats',\n",
       " 'cat.1739.jpg': 'cats',\n",
       " 'cat.1740.jpg': 'cats',\n",
       " 'cat.1741.jpg': 'cats',\n",
       " 'cat.1742.jpg': 'cats',\n",
       " 'cat.1743.jpg': 'cats',\n",
       " 'cat.1744.jpg': 'cats',\n",
       " 'cat.1745.jpg': 'cats',\n",
       " 'cat.1746.jpg': 'cats',\n",
       " 'cat.1747.jpg': 'cats',\n",
       " 'cat.1748.jpg': 'cats',\n",
       " 'cat.1749.jpg': 'cats',\n",
       " 'cat.1750.jpg': 'cats',\n",
       " 'cat.1751.jpg': 'cats',\n",
       " 'cat.1752.jpg': 'cats',\n",
       " 'cat.1753.jpg': 'cats',\n",
       " 'cat.1754.jpg': 'cats',\n",
       " 'cat.1755.jpg': 'cats',\n",
       " 'cat.1756.jpg': 'cats',\n",
       " 'cat.1757.jpg': 'cats',\n",
       " 'cat.1758.jpg': 'cats',\n",
       " 'cat.1759.jpg': 'cats',\n",
       " 'cat.1760.jpg': 'cats',\n",
       " 'cat.1761.jpg': 'cats',\n",
       " 'cat.1762.jpg': 'cats',\n",
       " 'cat.1763.jpg': 'cats',\n",
       " 'cat.1764.jpg': 'cats',\n",
       " 'cat.1765.jpg': 'cats',\n",
       " 'cat.1766.jpg': 'cats',\n",
       " 'cat.1767.jpg': 'cats',\n",
       " 'cat.1768.jpg': 'cats',\n",
       " 'cat.1769.jpg': 'cats',\n",
       " 'cat.1770.jpg': 'cats',\n",
       " 'cat.1771.jpg': 'cats',\n",
       " 'cat.1772.jpg': 'cats',\n",
       " 'cat.1773.jpg': 'cats',\n",
       " 'cat.1774.jpg': 'cats',\n",
       " 'cat.1775.jpg': 'cats',\n",
       " 'cat.1776.jpg': 'cats',\n",
       " 'cat.1777.jpg': 'cats',\n",
       " 'cat.1778.jpg': 'cats',\n",
       " 'cat.1779.jpg': 'cats',\n",
       " 'cat.1780.jpg': 'cats',\n",
       " 'cat.1781.jpg': 'cats',\n",
       " 'cat.1782.jpg': 'cats',\n",
       " 'cat.1783.jpg': 'cats',\n",
       " 'cat.1784.jpg': 'cats',\n",
       " 'cat.1785.jpg': 'cats',\n",
       " 'cat.1786.jpg': 'cats',\n",
       " 'cat.1787.jpg': 'cats',\n",
       " 'cat.1788.jpg': 'cats',\n",
       " 'cat.1789.jpg': 'cats',\n",
       " 'cat.1790.jpg': 'cats',\n",
       " 'cat.1791.jpg': 'cats',\n",
       " 'cat.1792.jpg': 'cats',\n",
       " 'cat.1793.jpg': 'cats',\n",
       " 'cat.1794.jpg': 'cats',\n",
       " 'cat.1795.jpg': 'cats',\n",
       " 'cat.1796.jpg': 'cats',\n",
       " 'cat.1797.jpg': 'cats',\n",
       " 'cat.1798.jpg': 'cats',\n",
       " 'cat.1799.jpg': 'cats',\n",
       " 'cat.1800.jpg': 'cats',\n",
       " 'cat.1801.jpg': 'cats',\n",
       " 'cat.1802.jpg': 'cats',\n",
       " 'cat.1803.jpg': 'cats',\n",
       " 'cat.1804.jpg': 'cats',\n",
       " 'cat.1805.jpg': 'cats',\n",
       " 'cat.1806.jpg': 'cats',\n",
       " 'cat.1807.jpg': 'cats',\n",
       " 'cat.1808.jpg': 'cats',\n",
       " 'cat.1809.jpg': 'cats',\n",
       " 'cat.1810.jpg': 'cats',\n",
       " 'cat.1811.jpg': 'cats',\n",
       " 'cat.1812.jpg': 'cats',\n",
       " 'cat.1813.jpg': 'cats',\n",
       " 'cat.1814.jpg': 'cats',\n",
       " 'cat.1815.jpg': 'cats',\n",
       " 'cat.1816.jpg': 'cats',\n",
       " 'cat.1817.jpg': 'cats',\n",
       " 'cat.1818.jpg': 'cats',\n",
       " 'cat.1819.jpg': 'cats',\n",
       " 'cat.1820.jpg': 'cats',\n",
       " 'cat.1821.jpg': 'cats',\n",
       " 'cat.1822.jpg': 'cats',\n",
       " 'cat.1823.jpg': 'cats',\n",
       " 'cat.1824.jpg': 'cats',\n",
       " 'cat.1825.jpg': 'cats',\n",
       " 'cat.1826.jpg': 'cats',\n",
       " 'cat.1827.jpg': 'cats',\n",
       " 'cat.1828.jpg': 'cats',\n",
       " 'cat.1829.jpg': 'cats',\n",
       " 'cat.1830.jpg': 'cats',\n",
       " 'cat.1831.jpg': 'cats',\n",
       " 'cat.1832.jpg': 'cats',\n",
       " 'cat.1833.jpg': 'cats',\n",
       " 'cat.1834.jpg': 'cats',\n",
       " 'cat.1835.jpg': 'cats',\n",
       " 'cat.1836.jpg': 'cats',\n",
       " 'cat.1837.jpg': 'cats',\n",
       " 'cat.1838.jpg': 'cats',\n",
       " 'cat.1839.jpg': 'cats',\n",
       " 'cat.1840.jpg': 'cats',\n",
       " 'cat.1841.jpg': 'cats',\n",
       " 'cat.1842.jpg': 'cats',\n",
       " 'cat.1843.jpg': 'cats',\n",
       " 'cat.1844.jpg': 'cats',\n",
       " 'cat.1845.jpg': 'cats',\n",
       " 'cat.1846.jpg': 'cats',\n",
       " 'cat.1847.jpg': 'cats',\n",
       " 'cat.1848.jpg': 'cats',\n",
       " 'cat.1849.jpg': 'cats',\n",
       " 'cat.1850.jpg': 'cats',\n",
       " 'cat.1851.jpg': 'cats',\n",
       " 'cat.1852.jpg': 'cats',\n",
       " 'cat.1853.jpg': 'cats',\n",
       " 'cat.1854.jpg': 'cats',\n",
       " 'cat.1855.jpg': 'cats',\n",
       " 'cat.1856.jpg': 'cats',\n",
       " 'cat.1857.jpg': 'cats',\n",
       " 'cat.1858.jpg': 'cats',\n",
       " 'cat.1859.jpg': 'cats',\n",
       " 'cat.1860.jpg': 'cats',\n",
       " 'cat.1861.jpg': 'cats',\n",
       " 'cat.1862.jpg': 'cats',\n",
       " 'cat.1863.jpg': 'cats',\n",
       " 'cat.1864.jpg': 'cats',\n",
       " 'cat.1865.jpg': 'cats',\n",
       " 'cat.1866.jpg': 'cats',\n",
       " 'cat.1867.jpg': 'cats',\n",
       " 'cat.1868.jpg': 'cats',\n",
       " 'cat.1869.jpg': 'cats',\n",
       " 'cat.1870.jpg': 'dogs',\n",
       " 'cat.1871.jpg': 'cats',\n",
       " 'cat.1872.jpg': 'cats',\n",
       " 'cat.1873.jpg': 'cats',\n",
       " 'cat.1874.jpg': 'cats',\n",
       " 'cat.1875.jpg': 'cats',\n",
       " 'cat.1876.jpg': 'cats',\n",
       " 'cat.1877.jpg': 'cats',\n",
       " 'cat.1878.jpg': 'cats',\n",
       " 'cat.1879.jpg': 'cats',\n",
       " 'cat.1880.jpg': 'cats',\n",
       " 'cat.1881.jpg': 'cats',\n",
       " 'cat.1882.jpg': 'cats',\n",
       " 'cat.1883.jpg': 'cats',\n",
       " 'cat.1884.jpg': 'cats',\n",
       " 'cat.1885.jpg': 'cats',\n",
       " 'cat.1886.jpg': 'cats',\n",
       " 'cat.1887.jpg': 'cats',\n",
       " 'cat.1888.jpg': 'cats',\n",
       " 'cat.1889.jpg': 'cats',\n",
       " 'cat.1890.jpg': 'cats',\n",
       " 'cat.1891.jpg': 'cats',\n",
       " 'cat.1892.jpg': 'cats',\n",
       " 'cat.1893.jpg': 'cats',\n",
       " 'cat.1894.jpg': 'cats',\n",
       " 'cat.1895.jpg': 'cats',\n",
       " 'cat.1896.jpg': 'cats',\n",
       " 'cat.1897.jpg': 'cats',\n",
       " 'cat.1898.jpg': 'cats',\n",
       " 'cat.1899.jpg': 'cats',\n",
       " 'cat.1900.jpg': 'cats',\n",
       " 'cat.1901.jpg': 'cats',\n",
       " 'cat.1902.jpg': 'cats',\n",
       " 'cat.1903.jpg': 'cats',\n",
       " 'cat.1904.jpg': 'cats',\n",
       " 'cat.1905.jpg': 'cats',\n",
       " 'cat.1906.jpg': 'cats',\n",
       " 'cat.1907.jpg': 'cats',\n",
       " 'cat.1908.jpg': 'cats',\n",
       " 'cat.1909.jpg': 'cats',\n",
       " 'cat.1910.jpg': 'cats',\n",
       " 'cat.1911.jpg': 'cats',\n",
       " 'cat.1912.jpg': 'cats',\n",
       " 'cat.1913.jpg': 'cats',\n",
       " 'cat.1914.jpg': 'cats',\n",
       " 'cat.1915.jpg': 'cats',\n",
       " 'cat.1916.jpg': 'cats',\n",
       " 'cat.1917.jpg': 'cats',\n",
       " 'cat.1918.jpg': 'cats',\n",
       " 'cat.1919.jpg': 'cats',\n",
       " 'cat.1920.jpg': 'cats',\n",
       " 'cat.1921.jpg': 'cats',\n",
       " 'cat.1922.jpg': 'cats',\n",
       " 'cat.1923.jpg': 'cats',\n",
       " 'cat.1924.jpg': 'cats',\n",
       " 'cat.1925.jpg': 'cats',\n",
       " 'cat.1926.jpg': 'cats',\n",
       " 'cat.1927.jpg': 'cats',\n",
       " 'cat.1928.jpg': 'cats',\n",
       " 'cat.1929.jpg': 'cats',\n",
       " 'cat.1930.jpg': 'cats',\n",
       " 'cat.1931.jpg': 'cats',\n",
       " 'cat.1932.jpg': 'cats',\n",
       " 'cat.1933.jpg': 'cats',\n",
       " 'cat.1934.jpg': 'cats',\n",
       " 'cat.1935.jpg': 'cats',\n",
       " 'cat.1936.jpg': 'cats',\n",
       " 'cat.1937.jpg': 'cats',\n",
       " 'cat.1938.jpg': 'cats',\n",
       " 'cat.1939.jpg': 'cats',\n",
       " 'cat.1940.jpg': 'cats',\n",
       " 'cat.1941.jpg': 'cats',\n",
       " 'cat.1942.jpg': 'cats',\n",
       " 'cat.1943.jpg': 'cats',\n",
       " 'cat.1944.jpg': 'cats',\n",
       " 'cat.1945.jpg': 'cats',\n",
       " 'cat.1946.jpg': 'cats',\n",
       " 'cat.1947.jpg': 'cats',\n",
       " 'cat.1948.jpg': 'cats',\n",
       " 'cat.1949.jpg': 'cats',\n",
       " 'cat.1950.jpg': 'cats',\n",
       " 'cat.1951.jpg': 'cats',\n",
       " 'cat.1952.jpg': 'cats',\n",
       " 'cat.1953.jpg': 'cats',\n",
       " 'cat.1954.jpg': 'cats',\n",
       " 'cat.1955.jpg': 'cats',\n",
       " 'cat.1956.jpg': 'cats',\n",
       " 'cat.1957.jpg': 'cats',\n",
       " 'cat.1958.jpg': 'cats',\n",
       " 'cat.1959.jpg': 'cats',\n",
       " 'cat.1960.jpg': 'cats',\n",
       " 'cat.1961.jpg': 'cats',\n",
       " 'cat.1962.jpg': 'cats',\n",
       " 'cat.1963.jpg': 'cats',\n",
       " 'cat.1964.jpg': 'cats',\n",
       " 'cat.1965.jpg': 'cats',\n",
       " 'cat.1966.jpg': 'cats',\n",
       " 'cat.1967.jpg': 'cats',\n",
       " 'cat.1968.jpg': 'cats',\n",
       " 'cat.1969.jpg': 'cats',\n",
       " 'cat.1970.jpg': 'cats',\n",
       " 'cat.1971.jpg': 'cats',\n",
       " 'cat.1972.jpg': 'cats',\n",
       " 'cat.1973.jpg': 'cats',\n",
       " 'cat.1974.jpg': 'cats',\n",
       " 'cat.1975.jpg': 'cats',\n",
       " 'cat.1976.jpg': 'cats',\n",
       " 'cat.1977.jpg': 'cats',\n",
       " 'cat.1978.jpg': 'cats',\n",
       " 'cat.1979.jpg': 'cats',\n",
       " 'cat.1980.jpg': 'cats',\n",
       " 'cat.1981.jpg': 'cats',\n",
       " 'cat.1982.jpg': 'cats',\n",
       " 'cat.1983.jpg': 'cats',\n",
       " 'cat.1984.jpg': 'cats',\n",
       " 'cat.1985.jpg': 'cats',\n",
       " 'cat.1986.jpg': 'cats',\n",
       " 'cat.1987.jpg': 'cats',\n",
       " 'cat.1988.jpg': 'cats',\n",
       " 'cat.1989.jpg': 'cats',\n",
       " 'cat.1990.jpg': 'cats',\n",
       " 'cat.1991.jpg': 'cats',\n",
       " 'cat.1992.jpg': 'cats',\n",
       " 'cat.1993.jpg': 'cats',\n",
       " 'cat.1994.jpg': 'cats',\n",
       " 'cat.1995.jpg': 'cats',\n",
       " 'cat.1996.jpg': 'cats',\n",
       " 'cat.1997.jpg': 'cats',\n",
       " 'cat.1998.jpg': 'cats',\n",
       " 'cat.1999.jpg': 'cats'}"
      ]
     },
     "execution_count": 89,
     "metadata": {},
     "output_type": "execute_result"
    }
   ],
   "source": [
    "y_pred"
   ]
  },
  {
   "cell_type": "code",
   "execution_count": null,
   "id": "198c5f70-91c3-4b44-b997-a19abbac58c0",
   "metadata": {},
   "outputs": [],
   "source": []
  }
 ],
 "metadata": {
  "kernelspec": {
   "display_name": "Python 3 (ipykernel)",
   "language": "python",
   "name": "python3"
  },
  "language_info": {
   "codemirror_mode": {
    "name": "ipython",
    "version": 3
   },
   "file_extension": ".py",
   "mimetype": "text/x-python",
   "name": "python",
   "nbconvert_exporter": "python",
   "pygments_lexer": "ipython3",
   "version": "3.9.18"
  }
 },
 "nbformat": 4,
 "nbformat_minor": 5
}
