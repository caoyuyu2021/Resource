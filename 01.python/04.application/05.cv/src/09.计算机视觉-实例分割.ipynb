{
 "cells": [
  {
   "cell_type": "markdown",
   "id": "76c2d9fa-0b1a-4d49-948d-ea8af60505b5",
   "metadata": {},
   "source": [
    "# 实例分割"
   ]
  },
  {
   "cell_type": "markdown",
   "id": "5119a9ab-feed-4c67-8aad-c8ad937dda8d",
   "metadata": {},
   "source": [
    "## 基础知识"
   ]
  },
  {
   "cell_type": "markdown",
   "id": "5ce698bb-dc1c-472d-87a3-35819de5b451",
   "metadata": {},
   "source": [
    "实例分割是计算机视觉中的一项任务，目标是识别图像中每个实例的类别，并为每个实例生成一个精确的像素级分割掩码。它结合了目标检测（识别和定位）和语义分割（像素分类）的特点。"
   ]
  },
  {
   "cell_type": "code",
   "execution_count": null,
   "id": "9ab22092-517e-4b91-861e-8c55eb4ad697",
   "metadata": {},
   "outputs": [],
   "source": []
  }
 ],
 "metadata": {
  "kernelspec": {
   "display_name": "CV",
   "language": "python",
   "name": "cv"
  },
  "language_info": {
   "codemirror_mode": {
    "name": "ipython",
    "version": 3
   },
   "file_extension": ".py",
   "mimetype": "text/x-python",
   "name": "python",
   "nbconvert_exporter": "python",
   "pygments_lexer": "ipython3",
   "version": "3.9.18"
  }
 },
 "nbformat": 4,
 "nbformat_minor": 5
}
