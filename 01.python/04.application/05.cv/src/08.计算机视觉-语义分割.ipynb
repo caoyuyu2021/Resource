{
 "cells": [
  {
   "cell_type": "markdown",
   "id": "00781481-1aba-46bb-bf8e-37699af50d47",
   "metadata": {},
   "source": [
    "# 语义分割"
   ]
  },
  {
   "cell_type": "markdown",
   "id": "bbf53f4b-ff0e-487b-9b85-5a3aeccad391",
   "metadata": {},
   "source": [
    "## 基础知识"
   ]
  },
  {
   "cell_type": "markdown",
   "id": "52c0798d-66e9-4a91-9792-3f0aaf239707",
   "metadata": {},
   "source": [
    "语义分割是一种计算机视觉任务，其目标是为图像中的每个像素分配一个类别标签。与目标检测不同，语义分割关注的是对图像中所有像素进行分类，而不是仅检测物体边界框。\n",
    "\n",
    "关键概念\n",
    "- 像素级别分类：\n",
    "\n",
    "    - 每个像素被分类为一个特定的类别（如道路、建筑、树木）。\n",
    "- 类别与实例：\n",
    "\n",
    "    - 语义分割（Semantic Segmentation）：分类不区分物体实例，所有属于同一类别的像素被分为一组。\n",
    "    - 实例分割（Instance Segmentation）：不仅区分类别，还区分同一类别下的不同实例。\n",
    "- 输入输出：\n",
    "\n",
    "    - 输入：原始图像。\n",
    "    - 输出：与输入图像大小相同的“分割图”，每个像素的值对应分类标签。"
   ]
  },
  {
   "cell_type": "code",
   "execution_count": null,
   "id": "eb2848d9-cc65-493b-abd3-1d5c05720983",
   "metadata": {},
   "outputs": [],
   "source": []
  }
 ],
 "metadata": {
  "kernelspec": {
   "display_name": "CV",
   "language": "python",
   "name": "cv"
  },
  "language_info": {
   "codemirror_mode": {
    "name": "ipython",
    "version": 3
   },
   "file_extension": ".py",
   "mimetype": "text/x-python",
   "name": "python",
   "nbconvert_exporter": "python",
   "pygments_lexer": "ipython3",
   "version": "3.9.18"
  }
 },
 "nbformat": 4,
 "nbformat_minor": 5
}
