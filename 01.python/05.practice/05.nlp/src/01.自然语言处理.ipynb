{
 "cells": [
  {
   "cell_type": "markdown",
   "metadata": {},
   "source": [
    "# 文本分析"
   ]
  },
  {
   "cell_type": "markdown",
   "metadata": {},
   "source": [
    "## 基本原理"
   ]
  },
  {
   "cell_type": "code",
   "execution_count": null,
   "metadata": {},
   "outputs": [],
   "source": []
  },
  {
   "cell_type": "markdown",
   "metadata": {},
   "source": [
    "## 常用工具"
   ]
  },
  {
   "cell_type": "markdown",
   "metadata": {},
   "source": [
    "### jieba"
   ]
  },
  {
   "cell_type": "code",
   "execution_count": 2,
   "metadata": {
    "ExecuteTime": {
     "end_time": "2024-05-11T07:58:19.875165Z",
     "start_time": "2024-05-11T07:58:19.849956Z"
    }
   },
   "outputs": [],
   "source": [
    "import jieba  # jieba适用中文场景"
   ]
  },
  {
   "cell_type": "code",
   "execution_count": 4,
   "metadata": {
    "ExecuteTime": {
     "end_time": "2024-05-11T08:00:13.639143Z",
     "start_time": "2024-05-11T08:00:13.634714Z"
    }
   },
   "outputs": [
    {
     "name": "stdout",
     "output_type": "stream",
     "text": [
      "此时 相望 不 相闻 ， 愿逐 月华 流照 君 。\n",
      "['此时', '相望', '不', '相闻', '，', '愿逐', '月华', '流照', '君', '。']\n"
     ]
    }
   ],
   "source": [
    "text = \"此时相望不相闻，愿逐月华流照君。\"\n",
    "\n",
    "# jieba.cut直接得到generator形式的分词结果\n",
    "seg = jieba.cut(text)\n",
    "print(' '.join(seg))\n",
    "\n",
    "# 也可以使用jieba.lcut得到list的分词结果\n",
    "seg = jieba.lcut(text)\n",
    "print(seg)"
   ]
  },
  {
   "cell_type": "markdown",
   "metadata": {},
   "source": [
    "### nltk"
   ]
  },
  {
   "cell_type": "code",
   "execution_count": 8,
   "metadata": {
    "ExecuteTime": {
     "end_time": "2024-05-11T08:19:08.702647Z",
     "start_time": "2024-05-11T08:19:08.660391Z"
    }
   },
   "outputs": [
    {
     "name": "stderr",
     "output_type": "stream",
     "text": [
      "[nltk_data] Downloading package punkt to\n",
      "[nltk_data]     C:\\Users\\IKAS\\AppData\\Roaming\\nltk_data...\n",
      "[nltk_data]   Package punkt is already up-to-date!\n"
     ]
    },
    {
     "data": {
      "text/plain": [
       "['hello', 'world', '.']"
      ]
     },
     "execution_count": 8,
     "metadata": {},
     "output_type": "execute_result"
    }
   ],
   "source": [
    "import nltk  # nltk适用英文场景\n",
    "nltk.download('punkt')\n",
    "from nltk.tokenize import sent_tokenize\n",
    "from nltk.tokenize import word_tokenize\n",
    "\n",
    "word_tokenize('hello world.')"
   ]
  },
  {
   "cell_type": "markdown",
   "metadata": {},
   "source": [
    "### pyhanlp"
   ]
  },
  {
   "cell_type": "code",
   "execution_count": 9,
   "metadata": {
    "ExecuteTime": {
     "end_time": "2024-05-11T08:21:22.471579Z",
     "start_time": "2024-05-11T08:21:22.448307Z"
    }
   },
   "outputs": [
    {
     "ename": "ModuleNotFoundError",
     "evalue": "No module named 'pyhanlp'",
     "output_type": "error",
     "traceback": [
      "\u001b[1;31m---------------------------------------------------------------------------\u001b[0m",
      "\u001b[1;31mModuleNotFoundError\u001b[0m                       Traceback (most recent call last)",
      "Cell \u001b[1;32mIn[9], line 1\u001b[0m\n\u001b[1;32m----> 1\u001b[0m \u001b[38;5;28;01mfrom\u001b[39;00m \u001b[38;5;21;01mpyhanlp\u001b[39;00m \u001b[38;5;28;01mimport\u001b[39;00m \u001b[38;5;241m*\u001b[39m\n",
      "\u001b[1;31mModuleNotFoundError\u001b[0m: No module named 'pyhanlp'"
     ]
    }
   ],
   "source": [
    "from pyhanlp import *"
   ]
  },
  {
   "cell_type": "markdown",
   "metadata": {},
   "source": [
    "### sklearn"
   ]
  },
  {
   "cell_type": "code",
   "execution_count": 17,
   "metadata": {
    "ExecuteTime": {
     "end_time": "2024-05-11T08:33:13.684776Z",
     "start_time": "2024-05-11T08:33:13.585350Z"
    }
   },
   "outputs": [
    {
     "name": "stdout",
     "output_type": "stream",
     "text": [
      "去除停用词：\n",
      " [['Once', 'dreamt', 'that', 'were', 'strangers', 'We', 'wake', 'up', 'find', 'that', 'were', 'dear', 'each', 'other'], ['We', 'come', 'nearest', 'the', 'great', 'when', 'are', 'great', 'in', 'humility'], ['My', 'heart', ',', 'the', 'bird', 'the', 'wilderness', ',', 'has', 'found', 'its', 'sky', 'in', 'your', 'eyes'], ['The', 'perfect', 'decks', 'itself', 'in', 'beauty', 'for', 'the', 'love', 'the', 'Imperfect'], ['What', 'are', 'do', 'see', ',', 'what', 'see', 'your', 'shadow'], ['Like', 'the', 'meeting', 'the', 'seagulls', 'the', 'waves', 'meet', 'come', 'near', 'The', 'seagulls', 'fly', 'off', ',', 'the', 'waves', 'roll', 'away', 'depart']]\n",
      "分词：\n",
      " ['Once dreamt that were strangers We wake up find that were dear each other', 'We come nearest the great when are great in humility', 'My heart , the bird the wilderness , has found its sky in your eyes', 'The perfect decks itself in beauty for the love the Imperfect', 'What are do see , what see your shadow', 'Like the meeting the seagulls the waves meet come near The seagulls fly off , the waves roll away depart']\n",
      "词频统计矩阵:\n",
      "   (0, 33)\t0.23787672206180113\n",
      "  (0, 10)\t0.23787672206180113\n",
      "  (0, 5)\t0.23787672206180113\n",
      "  (0, 12)\t0.23787672206180113\n",
      "  (0, 43)\t0.23787672206180113\n",
      "  (0, 44)\t0.23787672206180113\n",
      "  (0, 46)\t0.19506231496435852\n",
      "  (0, 40)\t0.23787672206180113\n",
      "  (0, 47)\t0.47575344412360226\n",
      "  (0, 41)\t0.47575344412360226\n",
      "  (0, 9)\t0.23787672206180113\n",
      "  (0, 32)\t0.23787672206180113\n",
      "  (1, 19)\t0.3186503808708026\n",
      "  (1, 21)\t0.22060561709679985\n",
      "  (1, 0)\t0.26129787067094695\n",
      "  (1, 49)\t0.3186503808708026\n",
      "  (1, 16)\t0.6373007617416052\n",
      "  (1, 42)\t0.18904225308135367\n",
      "  (1, 30)\t0.3186503808708026\n",
      "  (1, 4)\t0.26129787067094695\n",
      "  (1, 46)\t0.26129787067094695\n",
      "  (2, 11)\t0.29412342765820926\n",
      "  (2, 51)\t0.24118541817369085\n",
      "  (2, 39)\t0.29412342765820926\n",
      "  (2, 22)\t0.29412342765820926\n",
      "  :\t:\n",
      "  (3, 2)\t0.306470252579436\n",
      "  (3, 23)\t0.306470252579436\n",
      "  (3, 6)\t0.306470252579436\n",
      "  (3, 34)\t0.306470252579436\n",
      "  (3, 21)\t0.21217316297359395\n",
      "  (3, 42)\t0.5454488416900871\n",
      "  (4, 38)\t0.29689349340747523\n",
      "  (4, 37)\t0.5937869868149505\n",
      "  (4, 8)\t0.29689349340747523\n",
      "  (4, 48)\t0.5937869868149505\n",
      "  (4, 51)\t0.24345691171442882\n",
      "  (4, 0)\t0.24345691171442882\n",
      "  (5, 7)\t0.19436232584306853\n",
      "  (5, 1)\t0.19436232584306853\n",
      "  (5, 35)\t0.19436232584306853\n",
      "  (5, 31)\t0.19436232584306853\n",
      "  (5, 13)\t0.19436232584306853\n",
      "  (5, 29)\t0.19436232584306853\n",
      "  (5, 26)\t0.19436232584306853\n",
      "  (5, 45)\t0.38872465168613707\n",
      "  (5, 36)\t0.38872465168613707\n",
      "  (5, 27)\t0.19436232584306853\n",
      "  (5, 24)\t0.19436232584306853\n",
      "  (5, 42)\t0.5765361379938737\n",
      "  (5, 4)\t0.1593798875829307\n",
      "稀疏矩阵：\n",
      " [[0.         0.         0.         0.         0.         0.23787672\n",
      "  0.         0.         0.         0.23787672 0.23787672 0.\n",
      "  0.23787672 0.         0.         0.         0.         0.\n",
      "  0.         0.         0.         0.         0.         0.\n",
      "  0.         0.         0.         0.         0.         0.\n",
      "  0.         0.         0.23787672 0.23787672 0.         0.\n",
      "  0.         0.         0.         0.         0.23787672 0.47575344\n",
      "  0.         0.23787672 0.23787672 0.         0.19506231 0.47575344\n",
      "  0.         0.         0.         0.        ]\n",
      " [0.26129787 0.         0.         0.         0.26129787 0.\n",
      "  0.         0.         0.         0.         0.         0.\n",
      "  0.         0.         0.         0.         0.63730076 0.\n",
      "  0.         0.31865038 0.         0.22060562 0.         0.\n",
      "  0.         0.         0.         0.         0.         0.\n",
      "  0.31865038 0.         0.         0.         0.         0.\n",
      "  0.         0.         0.         0.         0.         0.\n",
      "  0.18904225 0.         0.         0.         0.26129787 0.\n",
      "  0.         0.31865038 0.         0.        ]\n",
      " [0.         0.         0.         0.29412343 0.         0.\n",
      "  0.         0.         0.         0.         0.         0.29412343\n",
      "  0.         0.         0.         0.29412343 0.         0.29412343\n",
      "  0.29412343 0.         0.         0.2036253  0.29412343 0.\n",
      "  0.         0.         0.         0.         0.29412343 0.\n",
      "  0.         0.         0.         0.         0.         0.\n",
      "  0.         0.         0.         0.29412343 0.         0.\n",
      "  0.34898283 0.         0.         0.         0.         0.\n",
      "  0.         0.         0.29412343 0.24118542]\n",
      " [0.         0.         0.30647025 0.         0.         0.\n",
      "  0.30647025 0.         0.         0.         0.         0.\n",
      "  0.         0.         0.30647025 0.         0.         0.\n",
      "  0.         0.         0.30647025 0.21217316 0.         0.30647025\n",
      "  0.         0.30647025 0.         0.         0.         0.\n",
      "  0.         0.         0.         0.         0.30647025 0.\n",
      "  0.         0.         0.         0.         0.         0.\n",
      "  0.54544884 0.         0.         0.         0.         0.\n",
      "  0.         0.         0.         0.        ]\n",
      " [0.24345691 0.         0.         0.         0.         0.\n",
      "  0.         0.         0.29689349 0.         0.         0.\n",
      "  0.         0.         0.         0.         0.         0.\n",
      "  0.         0.         0.         0.         0.         0.\n",
      "  0.         0.         0.         0.         0.         0.\n",
      "  0.         0.         0.         0.         0.         0.\n",
      "  0.         0.59378699 0.29689349 0.         0.         0.\n",
      "  0.         0.         0.         0.         0.         0.\n",
      "  0.59378699 0.         0.         0.24345691]\n",
      " [0.         0.19436233 0.         0.         0.15937989 0.\n",
      "  0.         0.19436233 0.         0.         0.         0.\n",
      "  0.         0.19436233 0.         0.         0.         0.\n",
      "  0.         0.         0.         0.         0.         0.\n",
      "  0.19436233 0.         0.19436233 0.19436233 0.         0.19436233\n",
      "  0.         0.19436233 0.         0.         0.         0.19436233\n",
      "  0.38872465 0.         0.         0.         0.         0.\n",
      "  0.57653614 0.         0.         0.38872465 0.         0.\n",
      "  0.         0.         0.         0.        ]]\n",
      "分类结果矩阵：\n",
      " [[0.1325794  0.8674206 ]\n",
      " [0.83999007 0.16000993]\n",
      " [0.86415984 0.13584016]\n",
      " [0.85281843 0.14718157]\n",
      " [0.17360863 0.82639137]\n",
      " [0.85992795 0.14007205]]\n",
      "属于第一类的概率：[0.1325794  0.83999007 0.86415984 0.85281843 0.17360863 0.85992795]\n",
      "属于第二类的概率：[0.8674206  0.16000993 0.13584016 0.14718157 0.82639137 0.14007205]\n"
     ]
    }
   ],
   "source": [
    "#LDA主题分类（聚类）\n",
    "import jieba\n",
    "import pandas as pd\n",
    "from sklearn.feature_extraction.text import TfidfVectorizer\n",
    "from sklearn.decomposition import LatentDirichletAllocation\n",
    "\n",
    "data = pd.read_csv('../data/sentence.csv',encoding = 'gb2312')\n",
    "text = list(data['sentence'].values) \n",
    " \n",
    "docs = [jieba.lcut(doc) for doc in text] #分词\n",
    "stopwords = ['we','i','to','and','not','is','you','.','?','of'] #停用词表\n",
    "docs = [[w for w in doc if w not in stopwords ] for doc in docs] \n",
    "docs = [[s for s in doc if s != ' '] for doc in docs] #去掉多余的空格\n",
    "print(\"去除停用词：\\n\",docs)\n",
    "\n",
    "corpus = [' '.join(doc) for doc in docs]#处理之后，每个文档的词语列表，加上空格\n",
    "print(\"分词：\\n\",corpus)\n",
    " \n",
    "tfidf = TfidfVectorizer() #TF-IDF词频统计\n",
    "tfidf_matrix = tfidf.fit_transform(corpus)\n",
    "print(\"词频统计矩阵:\\n\",tfidf_matrix)  #词频统计\n",
    "print(\"稀疏矩阵：\\n\",tfidf_matrix.toarray()) #稀疏矩阵\n",
    "\n",
    "lda = LatentDirichletAllocation(n_components=2,random_state=123456) #n_components，话题数K等于2，也就是聚类数为2\n",
    "docres = lda.fit_transform(tfidf_matrix)\n",
    "print(\"分类结果矩阵：\\n\",docres)\n",
    "print(\"属于第一类的概率：{0}\".format(docres[:,0]))\n",
    "print(\"属于第二类的概率：{0}\".format(docres[:,1]))"
   ]
  },
  {
   "cell_type": "code",
   "execution_count": null,
   "metadata": {},
   "outputs": [],
   "source": []
  }
 ],
 "metadata": {
  "hide_input": false,
  "kernelspec": {
   "display_name": "Python 3 (ipykernel)",
   "language": "python",
   "name": "python3"
  },
  "language_info": {
   "codemirror_mode": {
    "name": "ipython",
    "version": 3
   },
   "file_extension": ".py",
   "mimetype": "text/x-python",
   "name": "python",
   "nbconvert_exporter": "python",
   "pygments_lexer": "ipython3",
   "version": "3.11.5"
  },
  "nbTranslate": {
   "displayLangs": [
    "*"
   ],
   "hotkey": "alt-t",
   "langInMainMenu": true,
   "sourceLang": "en",
   "targetLang": "fr",
   "useGoogleTranslate": true
  },
  "toc": {
   "base_numbering": 1,
   "nav_menu": {},
   "number_sections": true,
   "sideBar": true,
   "skip_h1_title": false,
   "title_cell": "Table of Contents",
   "title_sidebar": "Contents",
   "toc_cell": false,
   "toc_position": {
    "height": "calc(100% - 180px)",
    "left": "10px",
    "top": "150px",
    "width": "225.667px"
   },
   "toc_section_display": true,
   "toc_window_display": true
  },
  "varInspector": {
   "cols": {
    "lenName": 16,
    "lenType": 16,
    "lenVar": 40
   },
   "kernels_config": {
    "python": {
     "delete_cmd_postfix": "",
     "delete_cmd_prefix": "del ",
     "library": "var_list.py",
     "varRefreshCmd": "print(var_dic_list())"
    },
    "r": {
     "delete_cmd_postfix": ") ",
     "delete_cmd_prefix": "rm(",
     "library": "var_list.r",
     "varRefreshCmd": "cat(var_dic_list()) "
    }
   },
   "types_to_exclude": [
    "module",
    "function",
    "builtin_function_or_method",
    "instance",
    "_Feature"
   ],
   "window_display": false
  }
 },
 "nbformat": 4,
 "nbformat_minor": 4
}
