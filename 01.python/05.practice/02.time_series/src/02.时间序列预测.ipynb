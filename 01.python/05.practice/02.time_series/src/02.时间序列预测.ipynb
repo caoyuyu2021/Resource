{
 "cells": [
  {
   "cell_type": "markdown",
   "id": "50240e3c-d68f-4a17-827d-958d70cf734f",
   "metadata": {},
   "source": [
    "# 基于机器学习的时间序列预测"
   ]
  },
  {
   "cell_type": "code",
   "execution_count": null,
   "id": "3c65df0a-ede2-4a01-91af-d038094a3123",
   "metadata": {},
   "outputs": [],
   "source": []
  }
 ],
 "metadata": {
  "kernelspec": {
   "display_name": "Python 3 (ipykernel)",
   "language": "python",
   "name": "python3"
  },
  "language_info": {
   "codemirror_mode": {
    "name": "ipython",
    "version": 3
   },
   "file_extension": ".py",
   "mimetype": "text/x-python",
   "name": "python",
   "nbconvert_exporter": "python",
   "pygments_lexer": "ipython3",
   "version": "3.9.18"
  }
 },
 "nbformat": 4,
 "nbformat_minor": 5
}
