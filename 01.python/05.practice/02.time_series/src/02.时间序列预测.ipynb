{
 "cells": [
  {
   "cell_type": "markdown",
   "id": "50240e3c-d68f-4a17-827d-958d70cf734f",
   "metadata": {},
   "source": [
    "# 基于机器学习的时间序列预测"
   ]
  },
  {
   "cell_type": "code",
   "execution_count": 74,
   "id": "3c65df0a-ede2-4a01-91af-d038094a3123",
   "metadata": {
    "ExecuteTime": {
     "end_time": "2024-10-17T10:26:42.125023Z",
     "start_time": "2024-10-17T10:26:42.116428Z"
    }
   },
   "outputs": [],
   "source": [
    "import scipy\n",
    "import numpy as np\n",
    "import pandas as pd\n",
    "import statsmodels\n",
    "import matplotlib.pyplot as plt\n",
    "from matplotlib import pyplot\n",
    "import seaborn as sns\n",
    "import datetime as dt\n",
    "import warnings\n",
    "import matplotlib\n",
    "import matplotlib.dates as mdates\n",
    "import statsmodels.api as sm\n",
    "from scipy import stats\n",
    "from pandas import Series\n",
    "from sklearn.preprocessing import MinMaxScaler\n",
    "from sklearn.preprocessing import StandardScaler\n",
    "from statsmodels.tsa.statespace.sarimax import SARIMAX\n",
    "from math import sqrt\n",
    "import joblib\n",
    "import math\n",
    "import pickle\n",
    "import os\n",
    "import shutil\n",
    "from collections import UserDict\n",
    "from glob import glob\n",
    "from IPython.display import Image\n",
    "from datetime import datetime\n",
    "from typing import List\n",
    "from sklearn.metrics import mean_squared_error, r2_score\n",
    "from xgboost import XGBRegressor\n",
    "\n",
    "plt.rcParams['font.sans-serif'] = ['SimHei'] # 用来正常显示中文标签SimHei\n",
    "plt.rcParams['axes.unicode_minus'] = False # 用来正常显示负号\n",
    "\n",
    "%matplotlib inline\n",
    "\n",
    "pd.options.display.float_format = \"{:,.2f}\".format\n",
    "np.set_printoptions(precision=2)\n",
    "warnings.filterwarnings(\"ignore\")"
   ]
  },
  {
   "cell_type": "markdown",
   "id": "1319505c",
   "metadata": {},
   "source": [
    "## 可用模型介绍"
   ]
  },
  {
   "cell_type": "markdown",
   "id": "d78eda8b",
   "metadata": {},
   "source": [
    "传统的机器学习算法在时间序列预测中表现不错的有以下几种：\n",
    "\n",
    "1. 线性回归 (Linear Regression)  \n",
    "通过建立输入特征和目标变量之间的线性关系来进行预测。适用于简单的时间序列数据，但是对非线性和复杂模式的处理能力有限。\n",
    "2. 决策树 (Decision Tree)  \n",
    "决策树通过构建特征的分层决策规则来做预测。它可以处理非线性关系和复杂的模式，不过容易发生过拟合。\n",
    "3. 随机森林 (Random Forest)  \n",
    "随机森林是多棵决策树的集合，使用集成学习的思想来提高预测的准确性和稳健性。它可以很好地处理时间序列的复杂性，尤其是带有非线性特征的数据。\n",
    "4. 支持向量机 (Support Vector Machine, SVM)  \n",
    "SVM 在时间序列预测中可以用于回归（称为支持向量回归，SVR）。它适合用于复杂的非线性模式，但在高维数据上的计算成本较高。\n",
    "5. K-近邻算法 (K-Nearest Neighbors, KNN)  \n",
    "KNN 回归可以用于时间序列预测。它的原理是基于相似的历史数据点来预测未来值，适用于模式重复性强的时间序列。\n",
    "6. XGBoost/LightGBM  \n",
    "这些是基于梯度提升决策树 (GBDT) 的集成算法，近年来在时间序列预测中非常受欢迎。它们可以捕捉到非线性关系，并能处理大规模数据集。  \n",
    "\n",
    "传统机器学习算法在时间序列预测中的应用往往需要将时间序列数据转换为监督学习的形式（例如使用滞后值作为特征），才能更好地进行建模和预测。"
   ]
  },
  {
   "cell_type": "markdown",
   "id": "5959cc08",
   "metadata": {},
   "source": [
    "## 多步预测方法"
   ]
  },
  {
   "cell_type": "markdown",
   "id": "357e5343",
   "metadata": {},
   "source": [
    "在时间序列预测中，多步预测指的是预测多个未来时刻的值。多步预测的方法主要有以下几种：\n",
    "\n",
    "1. 直接方法（Direct Method）\n",
    "每个未来时刻单独训练一个模型，即预测第 𝑡+1时刻的一个模型、预测第 t+2 时刻的另一个模型，依此类推。  \n",
    "优点：每个模型专门针对一个特定的未来时刻进行优化，可能获得较高的预测精度。  \n",
    "缺点：需要训练多个模型，当预测步数较多时计算成本较高，且模型数量随步数增加。  \n",
    "2. 递归方法（Iterative Method）\n",
    "使用一个单步预测的模型反复迭代，先预测第 t+1 时刻的值，然后将其作为输入预测第 t+2 时刻，以此类推。  \n",
    "优点：只需要训练一个模型，方法简单且直观。  \n",
    "缺点：预测误差会逐步累积，导致预测精度下降。  \n",
    "3. 直接递归混合方法（DirRec Method）\n",
    "结合了直接方法和递归方法，首先预测某个未来时刻，然后将预测结果作为下一步的输入特征。  \n",
    "这种方法既保持了直接方法的灵活性，又能利用递归方法的连续性，适用于特征较少的场景。  \n",
    "4. 多输出方法（Multi-Output Method）\n",
    "训练一个多输出的模型，一次性预测多个未来时刻的值。  \n",
    "例如，可以使用机器学习模型（如XGBoost/LightGBM）来预测一个包含多个未来时刻值的向量。  \n",
    "优点：模型只需要训练一次，且能考虑多个未来时刻之间的相关性。  \n",
    "缺点：对于长时间跨度的预测，模型复杂度较高，且难以保证所有输出的准确性。  \n",
    "5. 状态空间模型（State Space Models）\n",
    "基于状态空间的方法（如卡尔曼滤波、粒子滤波）来做多步预测，通过构建状态转移模型迭代预测未来时刻的状态。  \n",
    "适用于包含噪声和不确定性的时间序列数据。  \n",
    "6. 组合方法（Ensemble Methods）\n",
    "将多种方法结合使用。例如，可以使用递归方法得到初步预测，再使用直接方法对其进行调整。  \n",
    "可以利用不同方法的优点，减少单一方法的缺点。  "
   ]
  },
  {
   "cell_type": "markdown",
   "id": "99c347a0",
   "metadata": {},
   "source": [
    "# 基于XGBoost的时间序列预测"
   ]
  },
  {
   "cell_type": "markdown",
   "id": "55a70cd2",
   "metadata": {},
   "source": [
    "## 多输入单输出单步预测"
   ]
  },
  {
   "cell_type": "markdown",
   "id": "eea1c857",
   "metadata": {},
   "source": [
    "### 数据准备"
   ]
  },
  {
   "cell_type": "code",
   "execution_count": 2,
   "id": "e444a834",
   "metadata": {
    "ExecuteTime": {
     "end_time": "2024-10-17T09:19:02.552254Z",
     "start_time": "2024-10-17T09:19:02.541595Z"
    }
   },
   "outputs": [],
   "source": [
    "# 读取数据\n",
    "def loader(data_path=None, data=None, time_col=None, datetime=None, freq=None):\n",
    "    \"\"\"\n",
    "    读取数据，并对输入数据时间列进行处理\n",
    "\n",
    "    参数说明\n",
    "    ----------\n",
    "    data_path : {str}\n",
    "        输入数据地址，如果为空，读取已有数据\n",
    "    data : {DataFrame} of shape (n_samples, n_features)\n",
    "        输入数据，如果需读取本地数据，将该值置空，否则传入已有数据\n",
    "    time_col : {str}\n",
    "        输入数据的时间列，如果没有时间列，生成时间戳范围，或者生成固定频率的时间戳数据\n",
    "    datetime : {str} \n",
    "        时间列开始时间，如果time_col为空，需填入此项，格式为%Y-%m-%d %H:%M:%S\n",
    "    freq : {int}\n",
    "        时间序列频率，单位为秒\n",
    "\n",
    "    返回值\n",
    "    -------\n",
    "    data : {DataFrame} of shape (n_samples, n_features)\n",
    "        经过时间序列处理后的数据\n",
    "    \"\"\"\n",
    "    # 读取原始数据\n",
    "    if data_path == None:\n",
    "        if data.empty is True:\n",
    "            raise ValueError(\"data is not exist!\")\n",
    "        else:\n",
    "            data = data\n",
    "    else:\n",
    "        data = pd.read_csv(data_path)\n",
    "    \n",
    "    # 时间列处理\n",
    "    if time_col == None:\n",
    "        # 筛选输入频率\n",
    "        re_1 = re.findall('[0-9]', freq)\n",
    "        re_2 = re.findall('[a-z]', freq)\n",
    "        # 识别数字频率\n",
    "        if len(re_1) == 0:\n",
    "            nums = 1\n",
    "        else:\n",
    "            nums = int(''.join(re_1))\n",
    "        # 识别频率\n",
    "        fr = re_2[0]\n",
    "        # 生成时间间隔\n",
    "        if fr == 's':\n",
    "            time_index = pd.date_range(start=pd.to_datetime(datetime),\n",
    "                                       end=pd.to_datetime(datetime) +\n",
    "                                       timedelta(seconds=(data.shape[0] - 1)*nums),\n",
    "                                       freq=freq)\n",
    "        elif fr == 't':\n",
    "            time_index = pd.date_range(start=pd.to_datetime(datetime),\n",
    "                                       end=pd.to_datetime(datetime) +\n",
    "                                       timedelta(minutes=(data.shape[0] - 1)*nums),\n",
    "                                       freq=freq)\n",
    "        elif fr == 'h':\n",
    "            time_index = pd.date_range(start=pd.to_datetime(datetime),\n",
    "                                       end=pd.to_datetime(datetime) +\n",
    "                                       timedelta(hours=(data.shape[0] - 1)*nums),\n",
    "                                       freq=freq)\n",
    "        elif fr == 'd':\n",
    "            time_index = pd.date_range(start=pd.to_datetime(datetime),\n",
    "                                       end=pd.to_datetime(datetime) +\n",
    "                                       timedelta(days=(data.shape[0] - 1)*nums),\n",
    "                                       freq=freq)\n",
    "        full_data = pd.DataFrame(data=data.values,\n",
    "                                 index=pd.to_datetime(time_index, unit=freq),\n",
    "                                 columns=data.columns)\n",
    "    else:\n",
    "        columns = [i for i in data.columns if i != time_col] # 去除时间列\n",
    "        full_data = pd.DataFrame(data=data.drop([time_col], axis=1).values,\n",
    "                                 index=pd.to_datetime(data[time_col].values),\n",
    "                                 columns=columns)\n",
    "    return full_data"
   ]
  },
  {
   "cell_type": "code",
   "execution_count": 61,
   "id": "729bada7",
   "metadata": {
    "ExecuteTime": {
     "end_time": "2024-10-17T10:01:27.609455Z",
     "start_time": "2024-10-17T10:01:27.562117Z"
    }
   },
   "outputs": [
    {
     "data": {
      "text/html": [
       "<div>\n",
       "<style scoped>\n",
       "    .dataframe tbody tr th:only-of-type {\n",
       "        vertical-align: middle;\n",
       "    }\n",
       "\n",
       "    .dataframe tbody tr th {\n",
       "        vertical-align: top;\n",
       "    }\n",
       "\n",
       "    .dataframe thead th {\n",
       "        text-align: right;\n",
       "    }\n",
       "</style>\n",
       "<table border=\"1\" class=\"dataframe\">\n",
       "  <thead>\n",
       "    <tr style=\"text-align: right;\">\n",
       "      <th></th>\n",
       "      <th>load</th>\n",
       "      <th>temp</th>\n",
       "    </tr>\n",
       "  </thead>\n",
       "  <tbody>\n",
       "    <tr>\n",
       "      <th>2012-01-01 00:00:00</th>\n",
       "      <td>2,698.00</td>\n",
       "      <td>32.00</td>\n",
       "    </tr>\n",
       "    <tr>\n",
       "      <th>2012-01-01 01:00:00</th>\n",
       "      <td>2,558.00</td>\n",
       "      <td>32.67</td>\n",
       "    </tr>\n",
       "    <tr>\n",
       "      <th>2012-01-01 02:00:00</th>\n",
       "      <td>2,444.00</td>\n",
       "      <td>30.00</td>\n",
       "    </tr>\n",
       "    <tr>\n",
       "      <th>2012-01-01 03:00:00</th>\n",
       "      <td>2,402.00</td>\n",
       "      <td>31.00</td>\n",
       "    </tr>\n",
       "    <tr>\n",
       "      <th>2012-01-01 04:00:00</th>\n",
       "      <td>2,403.00</td>\n",
       "      <td>32.00</td>\n",
       "    </tr>\n",
       "    <tr>\n",
       "      <th>...</th>\n",
       "      <td>...</td>\n",
       "      <td>...</td>\n",
       "    </tr>\n",
       "    <tr>\n",
       "      <th>2014-12-31 19:00:00</th>\n",
       "      <td>4,012.00</td>\n",
       "      <td>18.00</td>\n",
       "    </tr>\n",
       "    <tr>\n",
       "      <th>2014-12-31 20:00:00</th>\n",
       "      <td>3,856.00</td>\n",
       "      <td>16.67</td>\n",
       "    </tr>\n",
       "    <tr>\n",
       "      <th>2014-12-31 21:00:00</th>\n",
       "      <td>3,671.00</td>\n",
       "      <td>17.00</td>\n",
       "    </tr>\n",
       "    <tr>\n",
       "      <th>2014-12-31 22:00:00</th>\n",
       "      <td>3,499.00</td>\n",
       "      <td>15.33</td>\n",
       "    </tr>\n",
       "    <tr>\n",
       "      <th>2014-12-31 23:00:00</th>\n",
       "      <td>3,345.00</td>\n",
       "      <td>15.33</td>\n",
       "    </tr>\n",
       "  </tbody>\n",
       "</table>\n",
       "<p>26304 rows × 2 columns</p>\n",
       "</div>"
      ],
      "text/plain": [
       "                        load  temp\n",
       "2012-01-01 00:00:00 2,698.00 32.00\n",
       "2012-01-01 01:00:00 2,558.00 32.67\n",
       "2012-01-01 02:00:00 2,444.00 30.00\n",
       "2012-01-01 03:00:00 2,402.00 31.00\n",
       "2012-01-01 04:00:00 2,403.00 32.00\n",
       "...                      ...   ...\n",
       "2014-12-31 19:00:00 4,012.00 18.00\n",
       "2014-12-31 20:00:00 3,856.00 16.67\n",
       "2014-12-31 21:00:00 3,671.00 17.00\n",
       "2014-12-31 22:00:00 3,499.00 15.33\n",
       "2014-12-31 23:00:00 3,345.00 15.33\n",
       "\n",
       "[26304 rows x 2 columns]"
      ]
     },
     "execution_count": 61,
     "metadata": {},
     "output_type": "execute_result"
    }
   ],
   "source": [
    "data_path = \"../outputs/datasets/energy.csv\"\n",
    "ts_data = loader(data_path=data_path, data=None, time_col='time')\n",
    "ts_data"
   ]
  },
  {
   "cell_type": "markdown",
   "id": "4e05fbce",
   "metadata": {},
   "source": [
    "### 特征构造"
   ]
  },
  {
   "cell_type": "code",
   "execution_count": 62,
   "id": "61d5cb9e",
   "metadata": {
    "ExecuteTime": {
     "end_time": "2024-10-17T10:01:29.713306Z",
     "start_time": "2024-10-17T10:01:29.704896Z"
    }
   },
   "outputs": [],
   "source": [
    "# 时间特征构造，包含日期时间特征、滞后特征和窗口特征、滚动窗口统计信息\n",
    "def generated_features(data: pd.DataFrame, date_type: List[str], seq_len: int,\n",
    "                       window_type: List[str], freq: str):\n",
    "    \"\"\"\n",
    "    时间特征构造\n",
    "\n",
    "    参数说明\n",
    "    ----------\n",
    "    data : {DataFrame}\n",
    "        输入数据\n",
    "    date_type : {List[str]}\n",
    "        日期特征，包含year,month,day,hour,minute,second,week等\n",
    "    seq_len : {int}\n",
    "        seq_len表示最多后移几位\n",
    "    window_type : {int} \n",
    "        滑动窗口特征，包含min, mean, max等\n",
    "    freq : {str} \n",
    "        滞后频率，包含'h','t','s'等\n",
    "\n",
    "    返回值\n",
    "    -------\n",
    "    data : {DataFrame}\n",
    "        输出数据\n",
    "    \"\"\"\n",
    "    # 滞后特征和窗口特征\n",
    "    for var in data.columns:\n",
    "        for t in range(1, seq_len + 1):\n",
    "            data[var + \"_lag\" + str(t)] = data[var].shift(t, freq=freq)\n",
    "\n",
    "        # 滚动窗口统计信息\n",
    "        shifted = data[var].shift(1)\n",
    "        window = shifted.rolling(window=seq_len)\n",
    "        for stats in window_type:\n",
    "            data[var + \"_\" + stats] = eval(f\"window.{stats}()\")\n",
    "\n",
    "    # 日期时间特征\n",
    "    for types in date_type:\n",
    "        if types == 'day':\n",
    "            data[types] = [data.index[i].day for i in range(len(data))]\n",
    "        elif types == 'hour':\n",
    "            data[types] = [data.index[i].hour for i in range(len(data))]\n",
    "        elif types == 'minute':\n",
    "            data[types] = [data.index[i].minute for i in range(len(data))]\n",
    "        elif types == 'second':\n",
    "            data[types] = [data.index[i].second for i in range(len(data))]\n",
    "        elif types == 'month':\n",
    "            data[types] = [data.index[i].month for i in range(len(data))]\n",
    "\n",
    "    # 删除None数据\n",
    "    data = data.dropna()\n",
    "\n",
    "    return data"
   ]
  },
  {
   "cell_type": "code",
   "execution_count": 63,
   "id": "e2a67c61",
   "metadata": {
    "ExecuteTime": {
     "end_time": "2024-10-17T10:01:31.152926Z",
     "start_time": "2024-10-17T10:01:30.592913Z"
    }
   },
   "outputs": [],
   "source": [
    "# 构造参数字典\n",
    "params1 = {\n",
    "    \"data\": ts_data,\n",
    "    \"date_type\": ['day', 'hour', 'minute', 'second'],\n",
    "    \"seq_len\": 6,\n",
    "    \"window_type\": [\"min\", \"mean\", \"max\"],\n",
    "    \"freq\": 'h',\n",
    "}\n",
    "\n",
    "#函数传参\n",
    "data = generated_features(**params1)"
   ]
  },
  {
   "cell_type": "markdown",
   "id": "7873b08c",
   "metadata": {},
   "source": [
    "### 数据划分"
   ]
  },
  {
   "cell_type": "code",
   "execution_count": 64,
   "id": "a936d729",
   "metadata": {
    "ExecuteTime": {
     "end_time": "2024-10-17T10:01:32.587770Z",
     "start_time": "2024-10-17T10:01:32.575595Z"
    }
   },
   "outputs": [],
   "source": [
    "# 包含时间维度的数据集划分\n",
    "def divider(df, train_ratio, valid_ratio, x_feature_list, y_feature_list, scaler_path):\n",
    "    \"\"\"\n",
    "    读取数据，并对数据进行划分\n",
    "\n",
    "    参数说明\n",
    "    ----------\n",
    "    df : {DataFrame} of shape (n_samples, n_features)\n",
    "        输入数据\n",
    "    train_ratio : {float}\n",
    "        用于训练的数据集占比:将数据按照一定比例进行切分，取值范围为(0,1)\n",
    "    valid_ratio : {float}\n",
    "        用于验证的数据集占比:将数据按照一定比例进行切分，取值范围为(0,1)\n",
    "    x_feature_list : {list[str]} \n",
    "        训练特征列，不包含时间列\n",
    "    y_feature_list : {list[str]} \n",
    "        目标特征列，不包含时间列\n",
    "    scaler_path : {str} \n",
    "        数据归一化模型保存地址\n",
    "\n",
    "    返回值\n",
    "    -------\n",
    "    x_scaler : {sklearn.preprocessing.MinMaxScaler}\n",
    "        训练特征列归一化器\n",
    "    y_scaler : {sklearn.preprocessing.MinMaxScaler}\n",
    "        目标特征列归一化器\n",
    "    train : {list[DataFrame]}\n",
    "        训练特征数据，目标特征数据，时间特征数据\n",
    "    valid : {list[DataFrame]}\n",
    "        验证特征数据，目标特征数据，时间特征数据\n",
    "    test : {list[DataFrame]}\n",
    "        测试特征数据，目标特征数据，时间特征数据\n",
    "    \"\"\"\n",
    "    #归一化\n",
    "    x_scaler = MinMaxScaler() # 保证数据同分布\n",
    "    y_scaler = MinMaxScaler()\n",
    "    x_scaler = x_scaler.fit(df.copy()[x_feature_list]) \n",
    "    y_scaler = y_scaler.fit(df.copy()[y_feature_list])\n",
    "\n",
    "    # 设置保存归一化参数路径\n",
    "    if not os.path.exists(scaler_path):\n",
    "        os.makedirs(scaler_path)\n",
    "\n",
    "    # 保存归一化参数\n",
    "    joblib.dump(x_scaler, scaler_path + \"/x_scaler.pkl\")\n",
    "    joblib.dump(y_scaler, scaler_path + \"/y_scaler.pkl\")\n",
    "\n",
    "    #测试集\n",
    "    train = df.copy().iloc[:int(df.shape[0]*train_ratio), :][x_feature_list]\n",
    "    train[x_feature_list] = x_scaler.transform(train)\n",
    "    xtr = train.values.astype('float32')\n",
    "    ytr = df.copy().iloc[:int(df.shape[0]*train_ratio), :][y_feature_list]\n",
    "    ytr[y_feature_list] = y_scaler.transform(ytr)\n",
    "    ytr = ytr.values.astype('float32')\n",
    "    train = [xtr, ytr]\n",
    "\n",
    "    #验证集\n",
    "    valid = df.copy().iloc[int(df.shape[0]*train_ratio): int(df.shape[0]*(train_ratio+valid_ratio)), :][x_feature_list]\n",
    "    valid[x_feature_list] = x_scaler.transform(valid)\n",
    "    xva = valid.values.astype('float32')\n",
    "    yva = df.copy().iloc[int(df.shape[0]*train_ratio): int(df.shape[0]*(train_ratio+valid_ratio)), :][y_feature_list]\n",
    "    yva[y_feature_list] = y_scaler.transform(yva)\n",
    "    yva = yva.values.astype('float32')\n",
    "    valid = [xva, yva]\n",
    "\n",
    "    #测试集\n",
    "    if train_ratio + valid_ratio != 1:\n",
    "        test = df.copy().iloc[int(df.shape[0]*(train_ratio+valid_ratio)):, :][x_feature_list]\n",
    "        test[x_feature_list] = x_scaler.transform(test)\n",
    "        xte = test.values.astype('float32')\n",
    "        yte = df.copy().iloc[int(df.shape[0]*(train_ratio+valid_ratio)):, :][y_feature_list]\n",
    "        yte[y_feature_list] = y_scaler.transform(yte)\n",
    "        yte = yte.values.astype('float32')\n",
    "        test = [xte, yte]\n",
    "    else:\n",
    "        test = [np.array(0), np.array(0)]\n",
    "    \n",
    "    return x_scaler, y_scaler, train, valid, test"
   ]
  },
  {
   "cell_type": "code",
   "execution_count": 65,
   "id": "c25e6206",
   "metadata": {
    "ExecuteTime": {
     "end_time": "2024-10-17T10:01:33.920844Z",
     "start_time": "2024-10-17T10:01:33.819320Z"
    }
   },
   "outputs": [
    {
     "name": "stdout",
     "output_type": "stream",
     "text": [
      "x_train shape: (21038, 23) y_train shape: (21038, 1)\n",
      "x_valid shape: (2630, 23) y_valid shape: (2630, 1)\n",
      "x_test shape: (2630, 23) y_test shape: (2630, 1)\n"
     ]
    }
   ],
   "source": [
    "# 构造参数字典\n",
    "params2 = {\n",
    "    \"df\": data,\n",
    "    \"train_ratio\": 0.8,\n",
    "    \"valid_ratio\": 0.1,\n",
    "    \"x_feature_list\": list(set(data.columns)-set(['temp'])),\n",
    "    \"y_feature_list\": ['temp'],\n",
    "    \"scaler_path\": '../outputs/scalers/XGBoost'\n",
    "}\n",
    "\n",
    "#函数传参\n",
    "x_scaler, y_scaler, train_data, valid_data, test_data = divider(**params2)\n",
    "x_train, y_train = train_data[0], train_data[1]\n",
    "x_test, y_test = test_data[0], test_data[1]\n",
    "print(\"x_train shape: {0} y_train shape: {1}\".format(train_data[0].shape, train_data[1].shape))\n",
    "print(\"x_valid shape: {0} y_valid shape: {1}\".format(valid_data[0].shape, valid_data[1].shape))\n",
    "print(\"x_test shape: {0} y_test shape: {1}\".format(test_data[0].shape, test_data[1].shape))"
   ]
  },
  {
   "cell_type": "markdown",
   "id": "0283f132",
   "metadata": {},
   "source": [
    "### 模型训练"
   ]
  },
  {
   "cell_type": "code",
   "execution_count": 75,
   "id": "be472ac9",
   "metadata": {
    "ExecuteTime": {
     "end_time": "2024-10-17T10:26:47.297106Z",
     "start_time": "2024-10-17T10:26:47.292549Z"
    }
   },
   "outputs": [],
   "source": [
    "def train(train_args, model_args):\n",
    "    # 参数配置\n",
    "    model_path = train_args['model_path']\n",
    "    \n",
    "    # 模型训练\n",
    "    xgb = XGBRegressor(**model_args)\n",
    "    model = xgb.fit(x_train, y_train)\n",
    "    \n",
    "    # 保存模型\n",
    "    with open(model_path, 'wb') as f:\n",
    "        pickle.dump(model, f)\n",
    "        \n",
    "    return model"
   ]
  },
  {
   "cell_type": "code",
   "execution_count": 76,
   "id": "f1f35bb5",
   "metadata": {
    "ExecuteTime": {
     "end_time": "2024-10-17T10:26:48.750480Z",
     "start_time": "2024-10-17T10:26:48.474272Z"
    }
   },
   "outputs": [],
   "source": [
    "# 构造参数字典\n",
    "params3 = {\n",
    "    \"train_args\": {\n",
    "        \"model_path\": \"../outputs/best_models/xgboost.pkl\",\n",
    "    },\n",
    "    \"model_args\": {\n",
    "        'n_estimators': 10,\n",
    "        'max_depth': 10, \n",
    "        'learning_rate': 0.1,\n",
    "        'random_state': 0,\n",
    "    },\n",
    "}\n",
    "model = train(**params3)"
   ]
  },
  {
   "cell_type": "markdown",
   "id": "a4a115df",
   "metadata": {},
   "source": [
    "### 模型测试"
   ]
  },
  {
   "cell_type": "code",
   "execution_count": 77,
   "id": "e73629b6",
   "metadata": {
    "ExecuteTime": {
     "end_time": "2024-10-17T10:27:04.720128Z",
     "start_time": "2024-10-17T10:27:04.715430Z"
    }
   },
   "outputs": [],
   "source": [
    "def test(model, x_test, y_test):\n",
    "    prediction = model.predict(x_test)\n",
    "    # 计算R2，均方差\n",
    "    r2 = r2_score(y_test, prediction)\n",
    "    mse = np.sqrt(mean_squared_error(y_test, prediction))\n",
    "    print(\"mse: {:.4f}\\nr2: {:.4f}\".format(mse, r2))\n",
    "    return 0"
   ]
  },
  {
   "cell_type": "code",
   "execution_count": 79,
   "id": "5d888480",
   "metadata": {
    "ExecuteTime": {
     "end_time": "2024-10-17T10:27:21.446278Z",
     "start_time": "2024-10-17T10:27:21.440004Z"
    }
   },
   "outputs": [
    {
     "name": "stdout",
     "output_type": "stream",
     "text": [
      "mse: 0.0444\n",
      "r2: 0.8708\n"
     ]
    }
   ],
   "source": [
    "res = test(model, x_test, y_test)"
   ]
  },
  {
   "cell_type": "markdown",
   "id": "67d6acc3",
   "metadata": {},
   "source": [
    "### 结果分析"
   ]
  },
  {
   "cell_type": "code",
   "execution_count": null,
   "id": "ffe538fc",
   "metadata": {},
   "outputs": [],
   "source": []
  },
  {
   "cell_type": "markdown",
   "id": "64d83a40",
   "metadata": {},
   "source": [
    "### 模型预测"
   ]
  },
  {
   "cell_type": "code",
   "execution_count": null,
   "id": "cdf335fb",
   "metadata": {},
   "outputs": [],
   "source": [
    "def predict(data, seq_len, scaler_path):\n",
    "    "
   ]
  },
  {
   "cell_type": "code",
   "execution_count": null,
   "id": "c7087fed",
   "metadata": {},
   "outputs": [],
   "source": []
  },
  {
   "cell_type": "code",
   "execution_count": null,
   "id": "c288d946",
   "metadata": {},
   "outputs": [],
   "source": []
  }
 ],
 "metadata": {
  "hide_input": false,
  "kernelspec": {
   "display_name": "Python 3 (ipykernel)",
   "language": "python",
   "name": "python3"
  },
  "language_info": {
   "codemirror_mode": {
    "name": "ipython",
    "version": 3
   },
   "file_extension": ".py",
   "mimetype": "text/x-python",
   "name": "python",
   "nbconvert_exporter": "python",
   "pygments_lexer": "ipython3",
   "version": "3.11.5"
  },
  "toc": {
   "base_numbering": 1,
   "nav_menu": {},
   "number_sections": true,
   "sideBar": true,
   "skip_h1_title": false,
   "title_cell": "Table of Contents",
   "title_sidebar": "Contents",
   "toc_cell": false,
   "toc_position": {
    "height": "calc(100% - 180px)",
    "left": "10px",
    "top": "150px",
    "width": "225.4px"
   },
   "toc_section_display": true,
   "toc_window_display": true
  },
  "varInspector": {
   "cols": {
    "lenName": 16,
    "lenType": 16,
    "lenVar": 40
   },
   "kernels_config": {
    "python": {
     "delete_cmd_postfix": "",
     "delete_cmd_prefix": "del ",
     "library": "var_list.py",
     "varRefreshCmd": "print(var_dic_list())"
    },
    "r": {
     "delete_cmd_postfix": ") ",
     "delete_cmd_prefix": "rm(",
     "library": "var_list.r",
     "varRefreshCmd": "cat(var_dic_list()) "
    }
   },
   "types_to_exclude": [
    "module",
    "function",
    "builtin_function_or_method",
    "instance",
    "_Feature"
   ],
   "window_display": false
  }
 },
 "nbformat": 4,
 "nbformat_minor": 5
}
