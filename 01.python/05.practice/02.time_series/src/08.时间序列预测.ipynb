{
 "cells": [
  {
   "cell_type": "markdown",
   "id": "c0d6f06e",
   "metadata": {
    "slideshow": {
     "slide_type": ""
    },
    "tags": []
   },
   "source": [
    "# 利用智能优化算法优化神经网络参数"
   ]
  },
  {
   "cell_type": "code",
   "execution_count": 9,
   "id": "8c81734e",
   "metadata": {
    "ExecuteTime": {
     "end_time": "2024-05-15T07:12:39.276640Z",
     "start_time": "2024-05-15T07:12:39.109279Z"
    },
    "execution": {
     "iopub.execute_input": "2024-04-20T07:11:40.708349Z",
     "iopub.status.busy": "2024-04-20T07:11:40.707362Z",
     "iopub.status.idle": "2024-04-20T07:11:45.201193Z",
     "shell.execute_reply": "2024-04-20T07:11:45.200190Z",
     "shell.execute_reply.started": "2024-04-20T07:11:40.708349Z"
    }
   },
   "outputs": [],
   "source": [
    "import pandas as pd\n",
    "import numpy as np\n",
    "from datetime import datetime\n",
    "from sklearn.preprocessing import MinMaxScaler\n",
    "import re\n",
    "import torch\n",
    "import torch.nn as nn\n",
    "import torch.optim as optim\n",
    "from torch.utils.data import TensorDataset, DataLoader\n",
    "import torch.nn.functional as F\n",
    "import torch.fft as fft\n",
    "import os\n",
    "from tqdm import tqdm # 打印进度条\n",
    "import math\n",
    "from einops import rearrange, repeat, reduce\n",
    "from scipy.fftpack import next_fast_len\n",
    "import matplotlib.pyplot as plt\n",
    "import functools\n",
    "from functools import partial, wraps\n",
    "from sympy import Poly, legendre, Symbol, chebyshevt\n",
    "from scipy.special import eval_legendre\n",
    "from scipy import signal\n",
    "from torch.nn.modules.linear import Linear\n",
    "from torch.nn.utils import weight_norm \n",
    "from operator import mul\n",
    "from typing import List\n",
    "from pandas.tseries import offsets\n",
    "from pandas.tseries.frequencies import to_offset\n",
    "import joblib\n",
    "# 两种绘图接口\n",
    "import plotly_express as px\n",
    "import plotly.graph_objects as go\n",
    "\n",
    "import warnings\n",
    "\n",
    "warnings.filterwarnings(\"ignore\")"
   ]
  },
  {
   "cell_type": "code",
   "execution_count": 3,
   "id": "e5fbc894",
   "metadata": {
    "ExecuteTime": {
     "end_time": "2024-05-15T07:06:12.458871Z",
     "start_time": "2024-05-15T07:06:12.454825Z"
    }
   },
   "outputs": [],
   "source": [
    "import sys\n",
    "path = 'D:/Jupyter notebook/src/01.python/04.practice/03.optimization/models' #智能优化算法所在文件夹\n",
    "sys.path.insert(0, path)"
   ]
  },
  {
   "cell_type": "markdown",
   "id": "3d4cca32",
   "metadata": {},
   "source": [
    "## 数据准备"
   ]
  },
  {
   "cell_type": "code",
   "execution_count": 4,
   "id": "3e5742ca-50d7-4629-a7ec-877a724ee20f",
   "metadata": {
    "ExecuteTime": {
     "end_time": "2024-05-15T07:10:44.511787Z",
     "start_time": "2024-05-15T07:10:44.504068Z"
    },
    "execution": {
     "iopub.execute_input": "2024-04-20T07:12:02.822015Z",
     "iopub.status.busy": "2024-04-20T07:12:02.819952Z",
     "iopub.status.idle": "2024-04-20T07:12:02.841241Z",
     "shell.execute_reply": "2024-04-20T07:12:02.839784Z",
     "shell.execute_reply.started": "2024-04-20T07:12:02.822015Z"
    }
   },
   "outputs": [],
   "source": [
    "# 读取数据\n",
    "def loader(data_path=None, data=None, time_col=None, datetime=None, freq=None):\n",
    "    \"\"\"\n",
    "    读取数据，并对输入数据时间列进行处理\n",
    "\n",
    "    参数说明\n",
    "    ----------\n",
    "    data_path : {str}\n",
    "        输入数据地址，如果为空，读取已有数据\n",
    "    data : {DataFrame} of shape (n_samples, n_features)\n",
    "        输入数据，如果需读取本地数据，将该值置空，否则传入已有数据\n",
    "    time_col : {str}\n",
    "        输入数据的时间列，如果没有时间列，生成时间戳范围，或者生成固定频率的时间戳数据\n",
    "    datetime : {str} \n",
    "        时间列开始时间，如果time_col为空，需填入此项，格式为%Y-%m-%d %H:%M:%S\n",
    "    freq : {int}\n",
    "        时间序列频率，单位为秒\n",
    "\n",
    "    返回值\n",
    "    -------\n",
    "    data : {DataFrame} of shape (n_samples, n_features)\n",
    "        经过时间序列处理后的数据\n",
    "    \"\"\"\n",
    "    # 读取原始数据\n",
    "    if data_path == None:\n",
    "        if data.empty is True:\n",
    "            raise ValueError(\"data is not exist!\")\n",
    "        else:\n",
    "            data = data\n",
    "    else:\n",
    "        data = pd.read_csv(data_path)\n",
    "    \n",
    "    # 时间列处理\n",
    "    if time_col == None:\n",
    "        # 筛选输入频率\n",
    "        re_ = re.findall('[0-9]', freq)\n",
    "        if len(re_) == 0:\n",
    "            nums = 1\n",
    "        else:\n",
    "            nums = int(''.join(re_))\n",
    "        # 生成时间间隔\n",
    "        time_index = pd.date_range(start=pd.to_datetime(datetime),\n",
    "                                   end=pd.to_datetime(datetime) +\n",
    "                                   timedelta(seconds=(data.shape[0] - 1)*nums),\n",
    "                                   freq=freq)\n",
    "        full_data = pd.DataFrame(data=data.values,\n",
    "                                 index=pd.to_datetime(time_index, unit=freq),\n",
    "                                 columns=data.columns)\n",
    "    else:\n",
    "        columns = [i for i in data.columns if i != time_col] # 去除时间列\n",
    "        full_data = pd.DataFrame(data=data.drop([time_col], axis=1).values,\n",
    "                                 index=pd.to_datetime(data[time_col].values),\n",
    "                                 columns=columns)\n",
    "    return full_data"
   ]
  },
  {
   "cell_type": "code",
   "execution_count": 5,
   "id": "a5230640",
   "metadata": {
    "ExecuteTime": {
     "end_time": "2024-05-15T07:10:57.103421Z",
     "start_time": "2024-05-15T07:10:57.015983Z"
    },
    "execution": {
     "iopub.execute_input": "2024-04-20T07:12:11.730596Z",
     "iopub.status.busy": "2024-04-20T07:12:11.729596Z",
     "iopub.status.idle": "2024-04-20T07:12:11.814439Z",
     "shell.execute_reply": "2024-04-20T07:12:11.813625Z",
     "shell.execute_reply.started": "2024-04-20T07:12:11.730596Z"
    }
   },
   "outputs": [
    {
     "data": {
      "text/html": [
       "<div>\n",
       "<style scoped>\n",
       "    .dataframe tbody tr th:only-of-type {\n",
       "        vertical-align: middle;\n",
       "    }\n",
       "\n",
       "    .dataframe tbody tr th {\n",
       "        vertical-align: top;\n",
       "    }\n",
       "\n",
       "    .dataframe thead th {\n",
       "        text-align: right;\n",
       "    }\n",
       "</style>\n",
       "<table border=\"1\" class=\"dataframe\">\n",
       "  <thead>\n",
       "    <tr style=\"text-align: right;\">\n",
       "      <th></th>\n",
       "      <th>load</th>\n",
       "      <th>temp</th>\n",
       "    </tr>\n",
       "  </thead>\n",
       "  <tbody>\n",
       "    <tr>\n",
       "      <th>2012-01-01 00:00:00</th>\n",
       "      <td>2,698.00</td>\n",
       "      <td>32.00</td>\n",
       "    </tr>\n",
       "    <tr>\n",
       "      <th>2012-01-01 01:00:00</th>\n",
       "      <td>2,558.00</td>\n",
       "      <td>32.67</td>\n",
       "    </tr>\n",
       "    <tr>\n",
       "      <th>2012-01-01 02:00:00</th>\n",
       "      <td>2,444.00</td>\n",
       "      <td>30.00</td>\n",
       "    </tr>\n",
       "    <tr>\n",
       "      <th>2012-01-01 03:00:00</th>\n",
       "      <td>2,402.00</td>\n",
       "      <td>31.00</td>\n",
       "    </tr>\n",
       "    <tr>\n",
       "      <th>2012-01-01 04:00:00</th>\n",
       "      <td>2,403.00</td>\n",
       "      <td>32.00</td>\n",
       "    </tr>\n",
       "    <tr>\n",
       "      <th>...</th>\n",
       "      <td>...</td>\n",
       "      <td>...</td>\n",
       "    </tr>\n",
       "    <tr>\n",
       "      <th>2014-12-31 19:00:00</th>\n",
       "      <td>4,012.00</td>\n",
       "      <td>18.00</td>\n",
       "    </tr>\n",
       "    <tr>\n",
       "      <th>2014-12-31 20:00:00</th>\n",
       "      <td>3,856.00</td>\n",
       "      <td>16.67</td>\n",
       "    </tr>\n",
       "    <tr>\n",
       "      <th>2014-12-31 21:00:00</th>\n",
       "      <td>3,671.00</td>\n",
       "      <td>17.00</td>\n",
       "    </tr>\n",
       "    <tr>\n",
       "      <th>2014-12-31 22:00:00</th>\n",
       "      <td>3,499.00</td>\n",
       "      <td>15.33</td>\n",
       "    </tr>\n",
       "    <tr>\n",
       "      <th>2014-12-31 23:00:00</th>\n",
       "      <td>3,345.00</td>\n",
       "      <td>15.33</td>\n",
       "    </tr>\n",
       "  </tbody>\n",
       "</table>\n",
       "<p>26304 rows × 2 columns</p>\n",
       "</div>"
      ],
      "text/plain": [
       "                        load  temp\n",
       "2012-01-01 00:00:00 2,698.00 32.00\n",
       "2012-01-01 01:00:00 2,558.00 32.67\n",
       "2012-01-01 02:00:00 2,444.00 30.00\n",
       "2012-01-01 03:00:00 2,402.00 31.00\n",
       "2012-01-01 04:00:00 2,403.00 32.00\n",
       "...                      ...   ...\n",
       "2014-12-31 19:00:00 4,012.00 18.00\n",
       "2014-12-31 20:00:00 3,856.00 16.67\n",
       "2014-12-31 21:00:00 3,671.00 17.00\n",
       "2014-12-31 22:00:00 3,499.00 15.33\n",
       "2014-12-31 23:00:00 3,345.00 15.33\n",
       "\n",
       "[26304 rows x 2 columns]"
      ]
     },
     "execution_count": 5,
     "metadata": {},
     "output_type": "execute_result"
    }
   ],
   "source": [
    "data_path = \"../outputs/datasets/energy.csv\"\n",
    "ts_data = loader(data_path=data_path, data=None, time_col='time')\n",
    "ts_data"
   ]
  },
  {
   "cell_type": "code",
   "execution_count": 6,
   "id": "69f3a152",
   "metadata": {
    "ExecuteTime": {
     "end_time": "2024-05-15T07:11:16.340796Z",
     "start_time": "2024-05-15T07:11:16.327263Z"
    },
    "execution": {
     "iopub.execute_input": "2024-04-19T10:52:58.102867Z",
     "iopub.status.busy": "2024-04-19T10:52:58.100858Z",
     "iopub.status.idle": "2024-04-19T10:52:58.149922Z",
     "shell.execute_reply": "2024-04-19T10:52:58.148957Z",
     "shell.execute_reply.started": "2024-04-19T10:52:58.102867Z"
    }
   },
   "outputs": [],
   "source": [
    "# 时间格式编码\n",
    "def time_features_from_frequency_str(freq_str: str):\n",
    "    \"\"\"\n",
    "    Returns a list of time features that will be appropriate for the given frequency string.\n",
    "    Parameters\n",
    "    ----------\n",
    "    freq_str\n",
    "        Frequency string of the form [multiple][granularity] such as \"12H\", \"5min\", \"1D\" etc.\n",
    "    \"\"\"\n",
    "\n",
    "    class TimeFeature:\n",
    "        def __init__(self):\n",
    "            pass\n",
    "\n",
    "        def __call__(self, index: pd.DatetimeIndex) -> np.ndarray:\n",
    "            pass\n",
    "\n",
    "        def __repr__(self):\n",
    "            return self.__class__.__name__ + \"()\"\n",
    "\n",
    "\n",
    "    class SecondOfMinute(TimeFeature):\n",
    "        \"\"\"Minute of hour encoded as value between [-0.5, 0.5]\"\"\"\n",
    "\n",
    "        def __call__(self, index: pd.DatetimeIndex) -> np.ndarray:\n",
    "            return index.second / 59.0 - 0.5\n",
    "\n",
    "\n",
    "    class MinuteOfHour(TimeFeature):\n",
    "        \"\"\"Minute of hour encoded as value between [-0.5, 0.5]\"\"\"\n",
    "\n",
    "        def __call__(self, index: pd.DatetimeIndex) -> np.ndarray:\n",
    "            return index.minute / 59.0 - 0.5\n",
    "\n",
    "\n",
    "    class HourOfDay(TimeFeature):\n",
    "        \"\"\"Hour of day encoded as value between [-0.5, 0.5]\"\"\"\n",
    "\n",
    "        def __call__(self, index: pd.DatetimeIndex) -> np.ndarray:\n",
    "            return index.hour / 23.0 - 0.5\n",
    "\n",
    "\n",
    "    class DayOfWeek(TimeFeature):\n",
    "        \"\"\"Hour of day encoded as value between [-0.5, 0.5]\"\"\"\n",
    "\n",
    "        def __call__(self, index: pd.DatetimeIndex) -> np.ndarray:\n",
    "            return index.dayofweek / 6.0 - 0.5\n",
    "\n",
    "\n",
    "    class DayOfMonth(TimeFeature):\n",
    "        \"\"\"Day of month encoded as value between [-0.5, 0.5]\"\"\"\n",
    "\n",
    "        def __call__(self, index: pd.DatetimeIndex) -> np.ndarray:\n",
    "            return (index.day - 1) / 30.0 - 0.5\n",
    "\n",
    "\n",
    "    class DayOfYear(TimeFeature):\n",
    "        \"\"\"Day of year encoded as value between [-0.5, 0.5]\"\"\"\n",
    "\n",
    "        def __call__(self, index: pd.DatetimeIndex) -> np.ndarray:\n",
    "            return (index.dayofyear - 1) / 365.0 - 0.5\n",
    "\n",
    "\n",
    "    class MonthOfYear(TimeFeature):\n",
    "        \"\"\"Month of year encoded as value between [-0.5, 0.5]\"\"\"\n",
    "\n",
    "        def __call__(self, index: pd.DatetimeIndex) -> np.ndarray:\n",
    "            return (index.month - 1) / 11.0 - 0.5\n",
    "\n",
    "\n",
    "    class WeekOfYear(TimeFeature):\n",
    "        \"\"\"Week of year encoded as value between [-0.5, 0.5]\"\"\"\n",
    "\n",
    "        def __call__(self, index: pd.DatetimeIndex) -> np.ndarray:\n",
    "            return (index.isocalendar().week - 1) / 52.0 - 0.5\n",
    "\n",
    "    \n",
    "    features_by_offsets = {\n",
    "        offsets.YearEnd: [],\n",
    "        offsets.QuarterEnd: [MonthOfYear],\n",
    "        offsets.MonthEnd: [MonthOfYear],\n",
    "        offsets.Week: [DayOfMonth, WeekOfYear],\n",
    "        offsets.Day: [DayOfWeek, DayOfMonth, DayOfYear],\n",
    "        offsets.BusinessDay: [DayOfWeek, DayOfMonth, DayOfYear],\n",
    "        offsets.Hour: [HourOfDay, DayOfWeek, DayOfMonth, DayOfYear],\n",
    "        offsets.Minute: [\n",
    "            MinuteOfHour,\n",
    "            HourOfDay,\n",
    "            DayOfWeek,\n",
    "            DayOfMonth,\n",
    "            DayOfYear,\n",
    "        ],\n",
    "        offsets.Second: [\n",
    "            SecondOfMinute,\n",
    "            MinuteOfHour,\n",
    "            HourOfDay,\n",
    "            DayOfWeek,\n",
    "            DayOfMonth,\n",
    "            DayOfYear,\n",
    "        ],\n",
    "    }\n",
    "\n",
    "    offset = to_offset(freq_str)\n",
    "\n",
    "    for offset_type, feature_classes in features_by_offsets.items():\n",
    "        if isinstance(offset, offset_type):\n",
    "            return [cls() for cls in feature_classes]\n",
    "\n",
    "    supported_freq_msg = f\"\"\"\n",
    "    Unsupported frequency {freq_str}\n",
    "    The following frequencies are supported:\n",
    "        Y   - yearly\n",
    "            alias: A\n",
    "        M   - monthly\n",
    "        W   - weekly\n",
    "        D   - daily\n",
    "        B   - business days\n",
    "        H   - hourly\n",
    "        T   - minutely\n",
    "            alias: min\n",
    "        S   - secondly\n",
    "    \"\"\"\n",
    "    raise RuntimeError(supported_freq_msg)\n",
    "    \n",
    "def time_features(dates, freq='h'):\n",
    "    return np.vstack([feat(dates) for feat in time_features_from_frequency_str(freq)])"
   ]
  },
  {
   "cell_type": "code",
   "execution_count": 7,
   "id": "bf6458b3",
   "metadata": {
    "ExecuteTime": {
     "end_time": "2024-05-15T07:11:25.312170Z",
     "start_time": "2024-05-15T07:11:25.301354Z"
    }
   },
   "outputs": [],
   "source": [
    "# 包含时间维度的数据集划分\n",
    "def divider(df, valid_date, test_date, x_feature_list, y_feature_list, freq, scaler_path):\n",
    "    #归一化\n",
    "    x_scaler = MinMaxScaler() # 保证数据同分布\n",
    "    y_scaler = MinMaxScaler()\n",
    "    x_scaler = x_scaler.fit(df.copy()[x_feature_list]) \n",
    "    y_scaler = y_scaler.fit(df.copy()[y_feature_list])\n",
    "\n",
    "    # 设置保存归一化参数路径\n",
    "    if not os.path.exists(scaler_path):\n",
    "        os.makedirs(scaler_path)\n",
    "\n",
    "    # 保存归一化参数\n",
    "    joblib.dump(x_scaler, scaler_path + \"/x_scaler.pkl\")\n",
    "    joblib.dump(y_scaler, scaler_path + \"/y_scaler.pkl\")\n",
    "\n",
    "    #测试集\n",
    "    train = df.copy()[df.index < valid_date][x_feature_list]\n",
    "    train_stamp = time_features(pd.to_datetime(train.index), freq=freq)\n",
    "    train_stamp = train_stamp.transpose(1, 0)\n",
    "    train[x_feature_list] = x_scaler.transform(train)\n",
    "    xtr = train.values.astype('float32')\n",
    "\n",
    "    #验证集\n",
    "    valid = df.copy()[(df.index >= valid_date) & (df.index < test_date)][x_feature_list]\n",
    "    valid_stamp = time_features(pd.to_datetime(valid.index), freq=freq)\n",
    "    valid_stamp = valid_stamp.transpose(1, 0)\n",
    "    valid[x_feature_list] = x_scaler.transform(valid)\n",
    "    xva = valid.values.astype('float32')\n",
    "\n",
    "    #测试集\n",
    "    test = df.copy()[test_date:][x_feature_list]\n",
    "    test_stamp = time_features(pd.to_datetime(test.index), freq=freq)\n",
    "    test_stamp = test_stamp.transpose(1, 0)\n",
    "    test[x_feature_list] = x_scaler.transform(test)\n",
    "    xte = test.values.astype('float32')\n",
    "\n",
    "    #标签\n",
    "    ytr = df.copy()[df.index < valid_date][y_feature_list]\n",
    "    ytr[y_feature_list] = y_scaler.transform(ytr)\n",
    "    ytr = ytr.values.astype('float32')\n",
    "\n",
    "    yva = df.copy()[(df.index >= valid_date) & (df.index < test_date)][y_feature_list]\n",
    "    yva[y_feature_list] = y_scaler.transform(yva)\n",
    "    yva = yva.values.astype('float32')\n",
    "\n",
    "    yte = df.copy()[test_date:][y_feature_list]\n",
    "    yte[y_feature_list] = y_scaler.transform(yte)\n",
    "    yte = yte.values.astype('float32')\n",
    "    \n",
    "    # 数据合并，[训练集，测试集，时间戳]\n",
    "    train = [xtr, ytr, train_stamp]\n",
    "    valid = [xva, yva, valid_stamp]\n",
    "    test = [xte, yte, test_stamp]\n",
    "    \n",
    "    return x_scaler, y_scaler, train, valid, test"
   ]
  },
  {
   "cell_type": "code",
   "execution_count": 10,
   "id": "57ed18cd",
   "metadata": {
    "ExecuteTime": {
     "end_time": "2024-05-15T07:12:51.952615Z",
     "start_time": "2024-05-15T07:12:51.905369Z"
    }
   },
   "outputs": [
    {
     "name": "stdout",
     "output_type": "stream",
     "text": [
      "x_train shape: (23376, 2) y_train shape: (23376, 2) stamp_train shape: (23376, 4)\n",
      "x_valid shape: (1464, 2) y_valid shape: (1464, 2) stamp_valid shape: (1464, 4)\n",
      "x_test shape: (1464, 2) y_test shape: (1464, 2) stamp_test shape: (1464, 4)\n"
     ]
    }
   ],
   "source": [
    "# 构造参数字典\n",
    "params1 = {\n",
    "    \"df\": ts_data,\n",
    "    \"valid_date\": \"2014-09-01 00:00:00\",\n",
    "    \"test_date\": \"2014-11-01 00:00:00\",\n",
    "    \"x_feature_list\": [\"load\", 'temp'],\n",
    "    \"y_feature_list\": [\"load\", 'temp'],\n",
    "    \"freq\": 'h',\n",
    "    \"scaler_path\": '../outputs/scalers/LSTM'\n",
    "}\n",
    "\n",
    "#函数传参\n",
    "x_scaler, y_scaler, train_data, valid_data, test_data = divider(**params1)\n",
    "print(\"x_train shape: {0} y_train shape: {1} stamp_train shape: {2}\".format(train_data[0].shape, train_data[1].shape, train_data[2].shape))\n",
    "print(\"x_valid shape: {0} y_valid shape: {1} stamp_valid shape: {2}\".format(valid_data[0].shape, valid_data[1].shape, valid_data[2].shape))\n",
    "print(\"x_test shape: {0} y_test shape: {1} stamp_test shape: {2}\".format(test_data[0].shape, test_data[1].shape, test_data[2].shape))"
   ]
  },
  {
   "cell_type": "code",
   "execution_count": 11,
   "id": "f8e209f9",
   "metadata": {
    "ExecuteTime": {
     "end_time": "2024-05-15T07:13:55.995060Z",
     "start_time": "2024-05-15T07:13:55.987469Z"
    }
   },
   "outputs": [],
   "source": [
    "# 利用前seq_len个数据，预测下pred_len个数据\n",
    "def generator(data_list, seq_len, pred_len, label_len, batch_size, sample_freq: int = 1):\n",
    "    \"\"\"\n",
    "    读取数据，并对数据进行划分\n",
    "\n",
    "    参数说明\n",
    "    ----------\n",
    "    data_list : {list[DataFrame]}\n",
    "        输入特征数据，目标特征数据，时间特征数据\n",
    "    seq_len : {int}\n",
    "        输入数据包含过去多少个时间步，正整数\n",
    "    pred_len : {int}\n",
    "        目标应该在未来多少个时间步之后，正整数\n",
    "    label_len : {int} \n",
    "        先验时间步\n",
    "    batch_size : {int} \n",
    "        输入数据的批次大小，正整数\n",
    "    sample_freq : {int} \n",
    "        采样频率，正整数\n",
    "\n",
    "    返回值\n",
    "    -------\n",
    "    X : {torch.Tensor}\n",
    "        特征数据张量\n",
    "    y : {torch.Tensor}\n",
    "        目标数据张量\n",
    "    X_stamp : {torch.Tensor}\n",
    "        特征时间编码张量\n",
    "    y_stamp : {torch.Tensor}\n",
    "        目标时间编码张量\n",
    "    data_loader : {torch.utils.data.dataloader.DataLoader}\n",
    "        数据加载器，[特征，目标，特征时间编码，目标时间编码]\n",
    "    \"\"\"\n",
    "    # 获取数据\n",
    "    feature = data_list[0] # 特征\n",
    "    target = data_list[1] # 目标\n",
    "    stamp = data_list[2] # 时间戳\n",
    "    \n",
    "    # 循环生成数据\n",
    "    X, y = [], []\n",
    "    X_stamp, y_stamp = [], []\n",
    "    seq_len = seq_len - 1 # 包含当前时间点\n",
    "    for i in range(seq_len, len(feature) - pred_len, sample_freq):\n",
    "        # 数据维度\n",
    "        feat = feature[i - seq_len:i + 1]\n",
    "        tar = target[i + 1:i + 1 + pred_len]\n",
    "        X.append(feat)\n",
    "        y.append(tar)\n",
    "        \n",
    "        # 时间维度\n",
    "        xs = stamp[i - seq_len:i + 1]\n",
    "        ys = stamp[i + 1 - label_len:i + 1 + pred_len]\n",
    "        X_stamp.append(xs)\n",
    "        y_stamp.append(ys)\n",
    "        \n",
    "    # 转为张量，数据维度\n",
    "    X = torch.as_tensor(X).float()\n",
    "    y = torch.as_tensor(y).float()\n",
    "    \n",
    "    # 转为张量，时间维度\n",
    "    X_stamp = torch.as_tensor(X_stamp).float()\n",
    "    y_stamp = torch.as_tensor(y_stamp).float()\n",
    "    \n",
    "    # 创建dataloader，[特征，目标，特征时间编码，目标时间编码]\n",
    "    data_loader = DataLoader(TensorDataset(X, y, X_stamp, y_stamp), shuffle=True, batch_size=batch_size)\n",
    "    \n",
    "    return X, y, X_stamp, y_stamp, data_loader"
   ]
  },
  {
   "cell_type": "code",
   "execution_count": 12,
   "id": "d9860475",
   "metadata": {
    "ExecuteTime": {
     "end_time": "2024-05-15T07:14:07.537808Z",
     "start_time": "2024-05-15T07:14:06.602462Z"
    }
   },
   "outputs": [
    {
     "name": "stdout",
     "output_type": "stream",
     "text": [
      "X_size: torch.Size([23368, 6, 2]),y_size: torch.Size([23368, 3, 2]),loader_len: 731\n",
      "X_size: torch.Size([1456, 6, 2]),y_size: torch.Size([1456, 3, 2]),loader_len: 46\n",
      "X_size: torch.Size([1456, 6, 2]),y_size: torch.Size([1456, 3, 2]),loader_len: 46\n"
     ]
    }
   ],
   "source": [
    "# 构造参数字典\n",
    "params2 = {\n",
    "    \"seq_len\": 6,\n",
    "    \"pred_len\": 3,\n",
    "    \"label_len\": 0,\n",
    "    \"batch_size\": 32,\n",
    "}\n",
    "X_train, y_train, X_train_stamp, y_train_stamp, train_loader = generator(train_data, **params2)\n",
    "X_valid, y_valid, X_valid_stamp, y_valid_stamp, valid_loader = generator(valid_data, **params2)\n",
    "X_test, y_test, X_test_stamp, y_test_stamp, test_loader = generator(test_data, **params2)\n",
    "print(\"X_size: {0},y_size: {1},loader_len: {2}\".format(X_train.shape, y_train.shape, len(train_loader)))\n",
    "print(\"X_size: {0},y_size: {1},loader_len: {2}\".format(X_valid.shape, y_valid.shape, len(valid_loader)))\n",
    "print(\"X_size: {0},y_size: {1},loader_len: {2}\".format(X_test.shape, y_test.shape, len(test_loader)))"
   ]
  },
  {
   "cell_type": "markdown",
   "id": "d588a5b0",
   "metadata": {},
   "source": [
    "## 模型定义"
   ]
  },
  {
   "cell_type": "code",
   "execution_count": 13,
   "id": "6ed4d2cb",
   "metadata": {
    "ExecuteTime": {
     "end_time": "2024-05-15T07:16:35.263549Z",
     "start_time": "2024-05-15T07:16:35.257942Z"
    }
   },
   "outputs": [],
   "source": [
    "# LSTM模型\n",
    "class LSTM(nn.Module):\n",
    "    def __init__(self, seq_len, pred_len, label_len, c_in, c_out, d_model, num_layers):\n",
    "        super().__init__()\n",
    "        self.pred_len = pred_len\n",
    "        self.lstm = nn.LSTM(input_size=c_in, hidden_size=d_model, num_layers=num_layers, batch_first=True)\n",
    "        self.linear = nn.Linear(in_features=d_model, out_features=c_out)\n",
    "    def forward(self, x_enc, x_mark_enc, x_dec, x_mark_dec):\n",
    "        x, _ = self.lstm(x_enc)\n",
    "        x = self.linear(x)\n",
    "        x = x[:, -self.pred_len:, :]  # [B, L, D]\n",
    "\n",
    "        return x"
   ]
  },
  {
   "cell_type": "markdown",
   "id": "69e9df3e",
   "metadata": {},
   "source": [
    "## 模型训练"
   ]
  },
  {
   "cell_type": "code",
   "execution_count": 15,
   "id": "2e74255e",
   "metadata": {
    "ExecuteTime": {
     "end_time": "2024-05-15T07:56:38.708557Z",
     "start_time": "2024-05-15T07:56:38.681907Z"
    }
   },
   "outputs": [],
   "source": [
    "def train(task_args, train_args, model_args):\n",
    "    # 参数配置\n",
    "    columns = task_args['columns'] # 模型全部特征\n",
    "    target = task_args['target'] # 模型预测特征\n",
    "    features = task_args['features'] # 模型预测模式\n",
    "    model_name = train_args['model_name'] # 模型名称\n",
    "    train_loader = train_args['train_loader'] # 训练集\n",
    "    valid_loader = train_args['valid_loader'] # 验证集\n",
    "    n_epochs = train_args['n_epochs'] # 训练次数\n",
    "    learning_rate = train_args['learning_rate'] # 学习率\n",
    "    loss = train_args['loss'] # 损失函数\n",
    "    patience = train_args['patience'] # 最大早停次数阈值，超过就会早停\n",
    "    lradj = train_args['lradj'] # 学习率函数\n",
    "    model_path = train_args['model_path'] # 模型保存路径\n",
    "    verbose = train_args['verbose'] # 打印训练过程\n",
    "    plots = train_args['plots'] # 绘制损失图\n",
    "    device = train_args['device'] # 训练设备，可选'cuda'和'cpu'\n",
    "    pred_len = model_args['pred_len'] # 预测长度\n",
    "    label_len = model_args['label_len']\n",
    "    \n",
    "    #检查是否可用GPU\n",
    "    device = torch.device(device)\n",
    "    \n",
    "    # 创建模型和优化器\n",
    "    model = model_name(**model_args).to(device)\n",
    "    optimizer = optim.Adam(model.parameters(), lr=learning_rate)\n",
    "    criterion = loss\n",
    "    \n",
    "    # 调整学习率\n",
    "    def adjust_learning_rate(optimizer, epoch, lradj, learning_rate, train_epochs):\n",
    "        # lr = learning_rate * (0.2 ** (epoch // 2))\n",
    "        if lradj == 'type1':\n",
    "            lr_adjust = {epoch: learning_rate * (0.5 ** ((epoch - 1) // 1))}\n",
    "        elif lradj == 'type2':\n",
    "            lr_adjust = {\n",
    "                2: 5e-5, 4: 1e-5, 6: 5e-6, 8: 1e-6,\n",
    "                10: 5e-7, 15: 1e-7, 20: 5e-8\n",
    "            }\n",
    "        elif lradj == \"cosine\":\n",
    "            lr_adjust = {epoch: learning_rate /2 * (1 + math.cos(epoch / train_epochs * math.pi))}\n",
    "        if epoch in lr_adjust.keys():\n",
    "            lr = lr_adjust[epoch]\n",
    "            # 参数组(param_groups)是用来指定不同的参数组以便对它们进行不同的优化设置，比如'lr'\n",
    "            for param_group in optimizer.param_groups:\n",
    "                param_group['lr'] = lr\n",
    "            print('Updating learning rate to {}'.format(lr))\n",
    "    \n",
    "    # 设置早停\n",
    "    class EarlyStopping():\n",
    "        def __init__(self, patience=7, verbose=False, delta=0):\n",
    "            self.patience = patience # 连续超限次数，如果满足条件，则早停\n",
    "            self.verbose = verbose\n",
    "            self.counter = 0\n",
    "            self.best_score = None\n",
    "            self.early_stop = False\n",
    "            self.val_loss_min = np.Inf\n",
    "            self.delta = delta\n",
    "\n",
    "        def __call__(self, val_loss, model, path):\n",
    "            score = -val_loss\n",
    "            if self.best_score is None:\n",
    "                self.best_score = score\n",
    "                self.save_checkpoint(val_loss, model, path)\n",
    "            elif score < self.best_score + self.delta:\n",
    "                self.counter += 1\n",
    "                print(f'EarlyStopping counter: {self.counter} out of {self.patience}')\n",
    "                if self.counter >= self.patience:\n",
    "                    self.early_stop = True\n",
    "            else:\n",
    "                self.best_score = score\n",
    "                self.save_checkpoint(val_loss, model, path)\n",
    "                self.counter = 0\n",
    "\n",
    "        def save_checkpoint(self, val_loss, model, path):\n",
    "            if self.verbose:\n",
    "                print(f'Validation loss decreased ({self.val_loss_min:.6f} --> {val_loss:.6f}).  Saving model ...')\n",
    "            torch.save(model.state_dict(), path + '/' + 'checkpoint.pth')\n",
    "            self.val_loss_min = val_loss\n",
    "    early_stopping = EarlyStopping(patience=patience, verbose=verbose)\n",
    "    \n",
    "    # 训练任务\n",
    "    def forecasting_task(columns, target, features):\n",
    "        \"\"\"\n",
    "        features: [M, S, MS]; \n",
    "            M:multivariate predict multivariate, \n",
    "            S:univariate predict univariate, \n",
    "            MS:multivariate predict univariate'\n",
    "        \"\"\"\n",
    "        # 字典索引生成\n",
    "        col_dict = {}\n",
    "        for i,j in enumerate(columns):\n",
    "            col_dict[j] = i\n",
    "\n",
    "        if features == 'MS':\n",
    "            target = target[0]\n",
    "            if target in columns:\n",
    "                f_dim = col_dict[target]\n",
    "            else:\n",
    "                f_dim = 0\n",
    "        elif features == 'S':\n",
    "            f_dim = 0\n",
    "        else:\n",
    "            f_dim = 0\n",
    "        return f_dim\n",
    "    f_dim = forecasting_task(columns, target, features)\n",
    "    \n",
    "    # 设置保存模型路径\n",
    "    if not os.path.exists(model_path):\n",
    "        os.makedirs(model_path)\n",
    "\n",
    "    # 模型训练和验证\n",
    "    train_losses, val_losses = [], []\n",
    "    for epoch in tqdm(range(n_epochs)):\n",
    "        model.train()\n",
    "        total_train_loss = 0\n",
    "        for batch_x, batch_y, batch_x_mark, batch_y_mark in train_loader:\n",
    "            #将数据移至 GPU\n",
    "            batch_x = batch_x.to(device) # 会用到实际数据\n",
    "            batch_y = batch_y.to(device) # 只用来获取维度，不会用到实际数据，防止泄露信息\n",
    "            batch_x_mark = batch_x_mark.to(device)\n",
    "            batch_y_mark = batch_y_mark.to(device)\n",
    "            # 清空梯度\n",
    "            optimizer.zero_grad()\n",
    "            # decoder输入 \n",
    "            dec_inp = torch.zeros_like(batch_y[:, -pred_len:, :]).float()\n",
    "            if features == 'MS':\n",
    "                dec_inp = torch.cat([batch_x[:, -label_len:, f_dim: f_dim+1], dec_inp], dim=1).float().to(device)\n",
    "                outputs = model(batch_x, batch_x_mark, dec_inp, batch_y_mark)\n",
    "                # outputs = outputs[:, :, f_dim: f_dim+1] \n",
    "            else:\n",
    "                dec_inp = torch.cat([batch_x[:, -label_len:, f_dim:], dec_inp], dim=1).float().to(device)\n",
    "                outputs = model(batch_x, batch_x_mark, dec_inp, batch_y_mark)\n",
    "                # outputs = outputs[:, :, f_dim:]\n",
    "            train_loss = criterion(outputs, batch_y)\n",
    "            # 反向传播计算得到每个参数的梯度值\n",
    "            train_loss.backward()\n",
    "            # 通过梯度下降执行一步参数更新\n",
    "            optimizer.step()\n",
    "            #每个batch的loss和\n",
    "            total_train_loss += train_loss.item() # .item()表示只包含一个元素的tensor中提取值\n",
    "                \n",
    "        #每个epoch的损失平均\n",
    "        avg_train_loss = total_train_loss / len(train_loader)\n",
    "        \n",
    "        #所有epoch的loss\n",
    "        train_losses.append(avg_train_loss)\n",
    "        \n",
    "        #评估模型\n",
    "        model.eval()\n",
    "        #关闭自动求导功能，只使用训练好的模型进行预测或评估，不需要进行梯度计算和参数更新\n",
    "        with torch.no_grad():\n",
    "            total_val_loss = 0\n",
    "            for batch_x, batch_y, batch_x_mark, batch_y_mark in valid_loader:\n",
    "                #将数据移至 GPU\n",
    "                batch_x = batch_x.to(device) # 会用到实际数据\n",
    "                batch_y = batch_y.to(device) # 只用来获取维度，不会用到实际数据，防止泄露信息\n",
    "                batch_x_mark = batch_x_mark.to(device)\n",
    "                batch_y_mark = batch_y_mark.to(device)\n",
    "                # decoder输入\n",
    "                dec_inp = torch.zeros_like(batch_y[:, -pred_len:, :]).float()\n",
    "                if features == 'MS':\n",
    "                    dec_inp = torch.cat([batch_x[:, -label_len:, f_dim: f_dim+1], dec_inp], dim=1).float().to(device)\n",
    "                    outputs = model(batch_x, batch_x_mark, dec_inp, batch_y_mark)\n",
    "                    # outputs = outputs[:, :, f_dim: f_dim+1] \n",
    "                else:\n",
    "                    dec_inp = torch.cat([batch_x[:, -label_len:, f_dim:], dec_inp], dim=1).float().to(device)\n",
    "                    outputs = model(batch_x, batch_x_mark, dec_inp, batch_y_mark)\n",
    "                    # outputs = outputs[:, :, f_dim:]\n",
    "                val_loss = criterion(outputs, batch_y)\n",
    "                #每个batch的loss和\n",
    "                total_val_loss += val_loss.item()\n",
    "                \n",
    "        #每个epoch的损失平均\n",
    "        avg_val_loss = total_val_loss / len(valid_loader)\n",
    "        \n",
    "        #所有epoch的loss\n",
    "        val_losses.append(avg_val_loss)\n",
    "        \n",
    "        #打印训练过程\n",
    "        if verbose:\n",
    "            print(f'Epoch [{epoch+1}/{n_epochs}], Training Loss: {avg_train_loss:.4f}, Validation Loss: {avg_val_loss:.4f}')\n",
    "            \n",
    "        # 设置早停\n",
    "        early_stopping(avg_val_loss, model, model_path)\n",
    "        if early_stopping.early_stop:\n",
    "            print(\"Early stopping!\")\n",
    "            break\n",
    "            \n",
    "        # 调整学习率\n",
    "        adjust_learning_rate(optimizer, epoch+1, lradj, learning_rate, n_epochs)\n",
    "\n",
    "    #绘制损失函数图\n",
    "    def plot_loss(train_losses, val_losses):\n",
    "        plt.figure(figsize=(10, 5))\n",
    "        plt.style.use('seaborn-v0_8-paper') #绘制背景色\n",
    "        plt.grid(axis = 'y',linewidth=0.35) #绘制网格\n",
    "        plt.plot(val_losses, linestyle='-',color = '#11b3b6')\n",
    "        plt.plot(train_losses, linestyle='-',color = '#f14643')\n",
    "        plt.xlabel(\"Epoch\")\n",
    "        plt.ylabel(\"Loss\")\n",
    "        plt.title(\"Training and Validation Progress\")\n",
    "        plt.legend([\"Validation\", \"Training\"])\n",
    "        plt.show()\n",
    "    if plots:\n",
    "        plot_loss(train_losses, val_losses)\n",
    "            \n",
    "    return avg_val_loss"
   ]
  },
  {
   "cell_type": "markdown",
   "id": "a954ddc6",
   "metadata": {},
   "source": [
    "## 适应度函数"
   ]
  },
  {
   "cell_type": "code",
   "execution_count": 19,
   "id": "a6b23961",
   "metadata": {
    "ExecuteTime": {
     "end_time": "2024-05-15T08:05:03.957886Z",
     "start_time": "2024-05-15T08:05:03.949588Z"
    }
   },
   "outputs": [],
   "source": [
    "# 适应度函数\n",
    "def fitness(X):\n",
    "    \"\"\"超参数初始化\"\"\"\n",
    "    params1 = {\n",
    "        \"seq_len\": int(X[0]),\n",
    "        \"pred_len\": int(X[1]),\n",
    "        \"label_len\": 0,\n",
    "        \"batch_size\": int(X[2]),\n",
    "    }\n",
    "    _, _, _, _, train_loader = generator(train_data, **params1)\n",
    "    _, _, _, _, valid_loader = generator(valid_data, **params1)\n",
    "    \n",
    "    params2 = {\n",
    "        \"task_args\":{\n",
    "            \"columns\": ['load', 'temp'],\n",
    "            \"target\": ['load', 'temp'],\n",
    "            \"features\": 'M'\n",
    "        },\n",
    "        \"train_args\": {\n",
    "            \"model_name\": LSTM,\n",
    "            \"train_loader\": train_loader,\n",
    "            \"valid_loader\": valid_loader,\n",
    "            \"n_epochs\": int(X[3]),\n",
    "            \"learning_rate\": 0.001,\n",
    "            \"loss\": nn.MSELoss(),\n",
    "            \"patience\": 7,\n",
    "            \"device\": 'cpu',\n",
    "            \"lradj\": 'cosine',\n",
    "            \"model_path\": \"../outputs/best_models/LSTM\",\n",
    "            \"verbose\": True,\n",
    "            \"plots\": False,\n",
    "        },\n",
    "        \"model_args\": {\n",
    "            'seq_len': int(X[0]),\n",
    "            'pred_len': int(X[1]),\n",
    "            \"label_len\": 0,\n",
    "            'd_model': int(X[4]),\n",
    "            'c_in': 2,\n",
    "            'c_out': 2,\n",
    "            'num_layers': int(X[5]),\n",
    "        },\n",
    "    }\n",
    "    avg_val_loss = train(**params2)\n",
    "        \n",
    "    return avg_val_loss # 适应度值，如果任务是最大化，将适应度值加负号即可"
   ]
  },
  {
   "cell_type": "markdown",
   "id": "96d48c39",
   "metadata": {},
   "source": [
    "## 智能优化算法"
   ]
  },
  {
   "cell_type": "markdown",
   "id": "7fee8462",
   "metadata": {},
   "source": [
    "### 鲸鱼优化算法"
   ]
  },
  {
   "cell_type": "code",
   "execution_count": null,
   "id": "f8a48ff0",
   "metadata": {
    "ExecuteTime": {
     "start_time": "2024-05-15T08:10:11.648Z"
    },
    "scrolled": true
   },
   "outputs": [
    {
     "name": "stderr",
     "output_type": "stream",
     "text": [
      "  8%|██████▉                                                                            | 1/12 [00:27<04:58, 27.16s/it]"
     ]
    },
    {
     "name": "stdout",
     "output_type": "stream",
     "text": [
      "Epoch [1/12], Training Loss: 0.0090, Validation Loss: 0.0026\n",
      "Validation loss decreased (inf --> 0.002636).  Saving model ...\n",
      "Updating learning rate to 0.0009829629131445341\n"
     ]
    },
    {
     "name": "stderr",
     "output_type": "stream",
     "text": [
      "\r",
      " 17%|█████████████▊                                                                     | 2/12 [00:54<04:32, 27.22s/it]"
     ]
    },
    {
     "name": "stdout",
     "output_type": "stream",
     "text": [
      "Epoch [2/12], Training Loss: 0.0022, Validation Loss: 0.0017\n",
      "Validation loss decreased (0.002636 --> 0.001689).  Saving model ...\n",
      "Updating learning rate to 0.0009330127018922195\n"
     ]
    },
    {
     "name": "stderr",
     "output_type": "stream",
     "text": [
      "\r",
      " 25%|████████████████████▊                                                              | 3/12 [01:22<04:07, 27.45s/it]"
     ]
    },
    {
     "name": "stdout",
     "output_type": "stream",
     "text": [
      "Epoch [3/12], Training Loss: 0.0014, Validation Loss: 0.0010\n",
      "Validation loss decreased (0.001689 --> 0.001032).  Saving model ...\n",
      "Updating learning rate to 0.0008535533905932737\n"
     ]
    },
    {
     "name": "stderr",
     "output_type": "stream",
     "text": [
      "\r",
      " 33%|███████████████████████████▋                                                       | 4/12 [01:48<03:34, 26.82s/it]"
     ]
    },
    {
     "name": "stdout",
     "output_type": "stream",
     "text": [
      "Epoch [4/12], Training Loss: 0.0012, Validation Loss: 0.0010\n",
      "Validation loss decreased (0.001032 --> 0.000958).  Saving model ...\n",
      "Updating learning rate to 0.00075\n"
     ]
    },
    {
     "name": "stderr",
     "output_type": "stream",
     "text": [
      "\r",
      " 42%|██████████████████████████████████▌                                                | 5/12 [02:14<03:05, 26.57s/it]"
     ]
    },
    {
     "name": "stdout",
     "output_type": "stream",
     "text": [
      "Epoch [5/12], Training Loss: 0.0011, Validation Loss: 0.0010\n",
      "EarlyStopping counter: 1 out of 7\n",
      "Updating learning rate to 0.0006294095225512603\n"
     ]
    },
    {
     "name": "stderr",
     "output_type": "stream",
     "text": [
      "\r",
      " 50%|█████████████████████████████████████████▌                                         | 6/12 [02:40<02:39, 26.57s/it]"
     ]
    },
    {
     "name": "stdout",
     "output_type": "stream",
     "text": [
      "Epoch [6/12], Training Loss: 0.0010, Validation Loss: 0.0009\n",
      "Validation loss decreased (0.000958 --> 0.000868).  Saving model ...\n",
      "Updating learning rate to 0.0005\n"
     ]
    },
    {
     "name": "stderr",
     "output_type": "stream",
     "text": [
      "\r",
      " 58%|████████████████████████████████████████████████▍                                  | 7/12 [03:08<02:14, 26.85s/it]"
     ]
    },
    {
     "name": "stdout",
     "output_type": "stream",
     "text": [
      "Epoch [7/12], Training Loss: 0.0010, Validation Loss: 0.0008\n",
      "Validation loss decreased (0.000868 --> 0.000804).  Saving model ...\n",
      "Updating learning rate to 0.0003705904774487396\n"
     ]
    },
    {
     "name": "stderr",
     "output_type": "stream",
     "text": [
      "\r",
      " 67%|███████████████████████████████████████████████████████▎                           | 8/12 [03:34<01:47, 26.82s/it]"
     ]
    },
    {
     "name": "stdout",
     "output_type": "stream",
     "text": [
      "Epoch [8/12], Training Loss: 0.0009, Validation Loss: 0.0007\n",
      "Validation loss decreased (0.000804 --> 0.000737).  Saving model ...\n",
      "Updating learning rate to 0.0002500000000000001\n"
     ]
    },
    {
     "name": "stderr",
     "output_type": "stream",
     "text": [
      "\r",
      " 75%|██████████████████████████████████████████████████████████████▎                    | 9/12 [04:01<01:20, 26.68s/it]"
     ]
    },
    {
     "name": "stdout",
     "output_type": "stream",
     "text": [
      "Epoch [9/12], Training Loss: 0.0008, Validation Loss: 0.0007\n",
      "Validation loss decreased (0.000737 --> 0.000662).  Saving model ...\n",
      "Updating learning rate to 0.00014644660940672628\n"
     ]
    },
    {
     "name": "stderr",
     "output_type": "stream",
     "text": [
      "\r",
      " 83%|████████████████████████████████████████████████████████████████████▎             | 10/12 [04:27<00:53, 26.56s/it]"
     ]
    },
    {
     "name": "stdout",
     "output_type": "stream",
     "text": [
      "Epoch [10/12], Training Loss: 0.0008, Validation Loss: 0.0007\n",
      "Validation loss decreased (0.000662 --> 0.000657).  Saving model ...\n",
      "Updating learning rate to 6.698729810778065e-05\n"
     ]
    },
    {
     "name": "stderr",
     "output_type": "stream",
     "text": [
      "\r",
      " 92%|███████████████████████████████████████████████████████████████████████████▏      | 11/12 [04:54<00:26, 26.61s/it]"
     ]
    },
    {
     "name": "stdout",
     "output_type": "stream",
     "text": [
      "Epoch [11/12], Training Loss: 0.0008, Validation Loss: 0.0006\n",
      "Validation loss decreased (0.000657 --> 0.000630).  Saving model ...\n",
      "Updating learning rate to 1.70370868554659e-05\n"
     ]
    },
    {
     "name": "stderr",
     "output_type": "stream",
     "text": [
      "100%|██████████████████████████████████████████████████████████████████████████████████| 12/12 [05:21<00:00, 26.81s/it]"
     ]
    },
    {
     "name": "stdout",
     "output_type": "stream",
     "text": [
      "Epoch [12/12], Training Loss: 0.0007, Validation Loss: 0.0006\n",
      "Validation loss decreased (0.000630 --> 0.000606).  Saving model ...\n",
      "Updating learning rate to 0.0\n"
     ]
    },
    {
     "name": "stderr",
     "output_type": "stream",
     "text": [
      "\n",
      " 17%|██████████████                                                                      | 1/6 [00:05<00:27,  5.42s/it]"
     ]
    },
    {
     "name": "stdout",
     "output_type": "stream",
     "text": [
      "Epoch [1/6], Training Loss: 0.0155, Validation Loss: 0.0029\n",
      "Validation loss decreased (inf --> 0.002925).  Saving model ...\n",
      "Updating learning rate to 0.0009330127018922195\n"
     ]
    },
    {
     "name": "stderr",
     "output_type": "stream",
     "text": [
      "\r",
      " 33%|████████████████████████████                                                        | 2/6 [00:10<00:21,  5.44s/it]"
     ]
    },
    {
     "name": "stdout",
     "output_type": "stream",
     "text": [
      "Epoch [2/6], Training Loss: 0.0025, Validation Loss: 0.0020\n",
      "Validation loss decreased (0.002925 --> 0.002022).  Saving model ...\n",
      "Updating learning rate to 0.00075\n"
     ]
    },
    {
     "name": "stderr",
     "output_type": "stream",
     "text": [
      "\r",
      " 50%|██████████████████████████████████████████                                          | 3/6 [00:16<00:16,  5.45s/it]"
     ]
    },
    {
     "name": "stdout",
     "output_type": "stream",
     "text": [
      "Epoch [3/6], Training Loss: 0.0022, Validation Loss: 0.0021\n",
      "EarlyStopping counter: 1 out of 7\n",
      "Updating learning rate to 0.0005\n"
     ]
    },
    {
     "name": "stderr",
     "output_type": "stream",
     "text": [
      "\r",
      " 67%|████████████████████████████████████████████████████████                            | 4/6 [00:21<00:10,  5.46s/it]"
     ]
    },
    {
     "name": "stdout",
     "output_type": "stream",
     "text": [
      "Epoch [4/6], Training Loss: 0.0021, Validation Loss: 0.0018\n",
      "Validation loss decreased (0.002022 --> 0.001815).  Saving model ...\n",
      "Updating learning rate to 0.0002500000000000001\n"
     ]
    },
    {
     "name": "stderr",
     "output_type": "stream",
     "text": [
      "\r",
      " 83%|██████████████████████████████████████████████████████████████████████              | 5/6 [00:27<00:05,  5.46s/it]"
     ]
    },
    {
     "name": "stdout",
     "output_type": "stream",
     "text": [
      "Epoch [5/6], Training Loss: 0.0020, Validation Loss: 0.0018\n",
      "Validation loss decreased (0.001815 --> 0.001804).  Saving model ...\n",
      "Updating learning rate to 6.698729810778065e-05\n"
     ]
    },
    {
     "name": "stderr",
     "output_type": "stream",
     "text": [
      "100%|████████████████████████████████████████████████████████████████████████████████████| 6/6 [00:32<00:00,  5.48s/it]"
     ]
    },
    {
     "name": "stdout",
     "output_type": "stream",
     "text": [
      "Epoch [6/6], Training Loss: 0.0019, Validation Loss: 0.0017\n",
      "Validation loss decreased (0.001804 --> 0.001738).  Saving model ...\n",
      "Updating learning rate to 0.0\n"
     ]
    },
    {
     "name": "stderr",
     "output_type": "stream",
     "text": [
      "\n",
      "  7%|█████▍                                                                            | 1/15 [02:40<37:23, 160.22s/it]"
     ]
    },
    {
     "name": "stdout",
     "output_type": "stream",
     "text": [
      "Epoch [1/15], Training Loss: 0.0043, Validation Loss: 0.0009\n",
      "Validation loss decreased (inf --> 0.000875).  Saving model ...\n",
      "Updating learning rate to 0.0009890738003669028\n"
     ]
    },
    {
     "name": "stderr",
     "output_type": "stream",
     "text": [
      "\r",
      " 13%|██████████▉                                                                       | 2/15 [05:20<34:46, 160.53s/it]"
     ]
    },
    {
     "name": "stdout",
     "output_type": "stream",
     "text": [
      "Epoch [2/15], Training Loss: 0.0007, Validation Loss: 0.0004\n",
      "Validation loss decreased (0.000875 --> 0.000449).  Saving model ...\n",
      "Updating learning rate to 0.0009567727288213005\n"
     ]
    },
    {
     "name": "stderr",
     "output_type": "stream",
     "text": [
      "\r",
      " 20%|████████████████▍                                                                 | 3/15 [08:00<32:00, 160.06s/it]"
     ]
    },
    {
     "name": "stdout",
     "output_type": "stream",
     "text": [
      "Epoch [3/15], Training Loss: 0.0004, Validation Loss: 0.0004\n",
      "Validation loss decreased (0.000449 --> 0.000359).  Saving model ...\n",
      "Updating learning rate to 0.0009045084971874737\n"
     ]
    },
    {
     "name": "stderr",
     "output_type": "stream",
     "text": [
      "\r",
      " 27%|█████████████████████▊                                                            | 4/15 [10:36<29:01, 158.34s/it]"
     ]
    },
    {
     "name": "stdout",
     "output_type": "stream",
     "text": [
      "Epoch [4/15], Training Loss: 0.0004, Validation Loss: 0.0005\n",
      "EarlyStopping counter: 1 out of 7\n",
      "Updating learning rate to 0.0008345653031794292\n"
     ]
    },
    {
     "name": "stderr",
     "output_type": "stream",
     "text": [
      "\r",
      " 33%|███████████████████████████▎                                                      | 5/15 [13:12<26:16, 157.69s/it]"
     ]
    },
    {
     "name": "stdout",
     "output_type": "stream",
     "text": [
      "Epoch [5/15], Training Loss: 0.0004, Validation Loss: 0.0004\n",
      "EarlyStopping counter: 2 out of 7\n",
      "Updating learning rate to 0.00075\n"
     ]
    },
    {
     "name": "stderr",
     "output_type": "stream",
     "text": [
      "\r",
      " 40%|████████████████████████████████▊                                                 | 6/15 [15:48<23:32, 156.92s/it]"
     ]
    },
    {
     "name": "stdout",
     "output_type": "stream",
     "text": [
      "Epoch [6/15], Training Loss: 0.0004, Validation Loss: 0.0003\n",
      "Validation loss decreased (0.000359 --> 0.000290).  Saving model ...\n",
      "Updating learning rate to 0.0006545084971874737\n"
     ]
    },
    {
     "name": "stderr",
     "output_type": "stream",
     "text": [
      "\r",
      " 47%|██████████████████████████████████████▎                                           | 7/15 [18:23<20:51, 156.43s/it]"
     ]
    },
    {
     "name": "stdout",
     "output_type": "stream",
     "text": [
      "Epoch [7/15], Training Loss: 0.0003, Validation Loss: 0.0003\n",
      "Validation loss decreased (0.000290 --> 0.000289).  Saving model ...\n",
      "Updating learning rate to 0.0005522642316338268\n"
     ]
    },
    {
     "name": "stderr",
     "output_type": "stream",
     "text": [
      "\r",
      " 53%|███████████████████████████████████████████▋                                      | 8/15 [20:56<18:07, 155.39s/it]"
     ]
    },
    {
     "name": "stdout",
     "output_type": "stream",
     "text": [
      "Epoch [8/15], Training Loss: 0.0003, Validation Loss: 0.0003\n",
      "Validation loss decreased (0.000289 --> 0.000257).  Saving model ...\n",
      "Updating learning rate to 0.00044773576836617336\n"
     ]
    },
    {
     "name": "stderr",
     "output_type": "stream",
     "text": [
      "\r",
      " 60%|█████████████████████████████████████████████████▏                                | 9/15 [23:30<15:28, 154.76s/it]"
     ]
    },
    {
     "name": "stdout",
     "output_type": "stream",
     "text": [
      "Epoch [9/15], Training Loss: 0.0003, Validation Loss: 0.0003\n",
      "EarlyStopping counter: 1 out of 7\n",
      "Updating learning rate to 0.00034549150281252633\n"
     ]
    },
    {
     "name": "stderr",
     "output_type": "stream",
     "text": [
      "\r",
      " 67%|██████████████████████████████████████████████████████                           | 10/15 [26:03<12:51, 154.29s/it]"
     ]
    },
    {
     "name": "stdout",
     "output_type": "stream",
     "text": [
      "Epoch [10/15], Training Loss: 0.0003, Validation Loss: 0.0003\n",
      "EarlyStopping counter: 2 out of 7\n",
      "Updating learning rate to 0.0002500000000000001\n"
     ]
    },
    {
     "name": "stderr",
     "output_type": "stream",
     "text": [
      "\r",
      " 73%|███████████████████████████████████████████████████████████▍                     | 11/15 [28:36<10:16, 154.06s/it]"
     ]
    },
    {
     "name": "stdout",
     "output_type": "stream",
     "text": [
      "Epoch [11/15], Training Loss: 0.0003, Validation Loss: 0.0003\n",
      "Validation loss decreased (0.000257 --> 0.000252).  Saving model ...\n",
      "Updating learning rate to 0.00016543469682057105\n"
     ]
    },
    {
     "name": "stderr",
     "output_type": "stream",
     "text": [
      "\r",
      " 80%|████████████████████████████████████████████████████████████████▊                | 12/15 [31:10<07:42, 154.06s/it]"
     ]
    },
    {
     "name": "stdout",
     "output_type": "stream",
     "text": [
      "Epoch [12/15], Training Loss: 0.0003, Validation Loss: 0.0002\n",
      "Validation loss decreased (0.000252 --> 0.000247).  Saving model ...\n",
      "Updating learning rate to 9.549150281252633e-05\n"
     ]
    },
    {
     "name": "stderr",
     "output_type": "stream",
     "text": [
      "\r",
      " 87%|██████████████████████████████████████████████████████████████████████▏          | 13/15 [33:51<05:12, 156.12s/it]"
     ]
    },
    {
     "name": "stdout",
     "output_type": "stream",
     "text": [
      "Epoch [13/15], Training Loss: 0.0003, Validation Loss: 0.0002\n",
      "Validation loss decreased (0.000247 --> 0.000221).  Saving model ...\n",
      "Updating learning rate to 4.322727117869951e-05\n"
     ]
    },
    {
     "name": "stderr",
     "output_type": "stream",
     "text": [
      "\r",
      " 93%|███████████████████████████████████████████████████████████████████████████▌     | 14/15 [36:34<02:38, 158.05s/it]"
     ]
    },
    {
     "name": "stdout",
     "output_type": "stream",
     "text": [
      "Epoch [14/15], Training Loss: 0.0002, Validation Loss: 0.0002\n",
      "Validation loss decreased (0.000221 --> 0.000217).  Saving model ...\n",
      "Updating learning rate to 1.0926199633097156e-05\n"
     ]
    },
    {
     "name": "stderr",
     "output_type": "stream",
     "text": [
      "100%|█████████████████████████████████████████████████████████████████████████████████| 15/15 [39:15<00:00, 157.04s/it]"
     ]
    },
    {
     "name": "stdout",
     "output_type": "stream",
     "text": [
      "Epoch [15/15], Training Loss: 0.0002, Validation Loss: 0.0002\n",
      "Validation loss decreased (0.000217 --> 0.000216).  Saving model ...\n",
      "Updating learning rate to 0.0\n"
     ]
    },
    {
     "name": "stderr",
     "output_type": "stream",
     "text": [
      "\n",
      " 14%|████████████                                                                        | 1/7 [00:06<00:37,  6.32s/it]"
     ]
    },
    {
     "name": "stdout",
     "output_type": "stream",
     "text": [
      "Epoch [1/7], Training Loss: 0.0130, Validation Loss: 0.0044\n",
      "Validation loss decreased (inf --> 0.004404).  Saving model ...\n",
      "Updating learning rate to 0.0009504844339512095\n"
     ]
    },
    {
     "name": "stderr",
     "output_type": "stream",
     "text": [
      "\r",
      " 29%|████████████████████████                                                            | 2/7 [00:12<00:30,  6.17s/it]"
     ]
    },
    {
     "name": "stdout",
     "output_type": "stream",
     "text": [
      "Epoch [2/7], Training Loss: 0.0023, Validation Loss: 0.0017\n",
      "Validation loss decreased (0.004404 --> 0.001667).  Saving model ...\n",
      "Updating learning rate to 0.0008117449009293668\n"
     ]
    },
    {
     "name": "stderr",
     "output_type": "stream",
     "text": [
      "\r",
      " 43%|████████████████████████████████████                                                | 3/7 [00:18<00:24,  6.08s/it]"
     ]
    },
    {
     "name": "stdout",
     "output_type": "stream",
     "text": [
      "Epoch [3/7], Training Loss: 0.0016, Validation Loss: 0.0011\n",
      "Validation loss decreased (0.001667 --> 0.001112).  Saving model ...\n",
      "Updating learning rate to 0.0006112604669781572\n"
     ]
    },
    {
     "name": "stderr",
     "output_type": "stream",
     "text": [
      "\r",
      " 57%|████████████████████████████████████████████████                                    | 4/7 [00:24<00:18,  6.11s/it]"
     ]
    },
    {
     "name": "stdout",
     "output_type": "stream",
     "text": [
      "Epoch [4/7], Training Loss: 0.0013, Validation Loss: 0.0011\n",
      "EarlyStopping counter: 1 out of 7\n",
      "Updating learning rate to 0.00038873953302184284\n"
     ]
    },
    {
     "name": "stderr",
     "output_type": "stream",
     "text": [
      "\r",
      " 71%|████████████████████████████████████████████████████████████                        | 5/7 [00:30<00:12,  6.07s/it]"
     ]
    },
    {
     "name": "stdout",
     "output_type": "stream",
     "text": [
      "Epoch [5/7], Training Loss: 0.0011, Validation Loss: 0.0008\n",
      "Validation loss decreased (0.001112 --> 0.000850).  Saving model ...\n",
      "Updating learning rate to 0.00018825509907063325\n"
     ]
    },
    {
     "name": "stderr",
     "output_type": "stream",
     "text": [
      "\r",
      " 86%|████████████████████████████████████████████████████████████████████████            | 6/7 [00:36<00:06,  6.09s/it]"
     ]
    },
    {
     "name": "stdout",
     "output_type": "stream",
     "text": [
      "Epoch [6/7], Training Loss: 0.0010, Validation Loss: 0.0008\n",
      "Validation loss decreased (0.000850 --> 0.000781).  Saving model ...\n",
      "Updating learning rate to 4.9515566048790485e-05\n"
     ]
    },
    {
     "name": "stderr",
     "output_type": "stream",
     "text": [
      "100%|████████████████████████████████████████████████████████████████████████████████████| 7/7 [00:42<00:00,  6.08s/it]"
     ]
    },
    {
     "name": "stdout",
     "output_type": "stream",
     "text": [
      "Epoch [7/7], Training Loss: 0.0009, Validation Loss: 0.0008\n",
      "Validation loss decreased (0.000781 --> 0.000762).  Saving model ...\n",
      "Updating learning rate to 0.0\n"
     ]
    },
    {
     "name": "stderr",
     "output_type": "stream",
     "text": [
      "\n",
      "  8%|██████▍                                                                            | 1/13 [00:31<06:21, 31.79s/it]"
     ]
    },
    {
     "name": "stdout",
     "output_type": "stream",
     "text": [
      "Epoch [1/13], Training Loss: 0.0094, Validation Loss: 0.0023\n",
      "Validation loss decreased (inf --> 0.002270).  Saving model ...\n",
      "Updating learning rate to 0.000985470908713026\n"
     ]
    },
    {
     "name": "stderr",
     "output_type": "stream",
     "text": [
      "\r",
      " 15%|████████████▊                                                                      | 2/13 [01:00<05:29, 29.97s/it]"
     ]
    },
    {
     "name": "stdout",
     "output_type": "stream",
     "text": [
      "Epoch [2/13], Training Loss: 0.0013, Validation Loss: 0.0008\n",
      "Validation loss decreased (0.002270 --> 0.000753).  Saving model ...\n",
      "Updating learning rate to 0.0009427280128266049\n"
     ]
    },
    {
     "name": "stderr",
     "output_type": "stream",
     "text": [
      "\r",
      " 23%|███████████████████▏                                                               | 3/13 [01:28<04:51, 29.16s/it]"
     ]
    },
    {
     "name": "stdout",
     "output_type": "stream",
     "text": [
      "Epoch [3/13], Training Loss: 0.0007, Validation Loss: 0.0004\n",
      "Validation loss decreased (0.000753 --> 0.000435).  Saving model ...\n",
      "Updating learning rate to 0.0008742553740855505\n"
     ]
    },
    {
     "name": "stderr",
     "output_type": "stream",
     "text": [
      "\r",
      " 31%|█████████████████████████▌                                                         | 4/13 [01:58<04:25, 29.46s/it]"
     ]
    },
    {
     "name": "stdout",
     "output_type": "stream",
     "text": [
      "Epoch [4/13], Training Loss: 0.0004, Validation Loss: 0.0004\n",
      "Validation loss decreased (0.000435 --> 0.000391).  Saving model ...\n",
      "Updating learning rate to 0.0007840323733655779\n"
     ]
    },
    {
     "name": "stderr",
     "output_type": "stream",
     "text": [
      "\r",
      " 38%|███████████████████████████████▉                                                   | 5/13 [02:27<03:52, 29.09s/it]"
     ]
    },
    {
     "name": "stdout",
     "output_type": "stream",
     "text": [
      "Epoch [5/13], Training Loss: 0.0004, Validation Loss: 0.0004\n",
      "Validation loss decreased (0.000391 --> 0.000377).  Saving model ...\n",
      "Updating learning rate to 0.0006773024435212678\n"
     ]
    },
    {
     "name": "stderr",
     "output_type": "stream",
     "text": [
      "\r",
      " 46%|██████████████████████████████████████▎                                            | 6/13 [02:55<03:21, 28.80s/it]"
     ]
    },
    {
     "name": "stdout",
     "output_type": "stream",
     "text": [
      "Epoch [6/13], Training Loss: 0.0004, Validation Loss: 0.0003\n",
      "Validation loss decreased (0.000377 --> 0.000327).  Saving model ...\n",
      "Updating learning rate to 0.0005602683401276614\n"
     ]
    },
    {
     "name": "stderr",
     "output_type": "stream",
     "text": [
      "\r",
      " 54%|████████████████████████████████████████████▋                                      | 7/13 [03:24<02:53, 28.86s/it]"
     ]
    },
    {
     "name": "stdout",
     "output_type": "stream",
     "text": [
      "Epoch [7/13], Training Loss: 0.0003, Validation Loss: 0.0003\n",
      "Validation loss decreased (0.000327 --> 0.000319).  Saving model ...\n",
      "Updating learning rate to 0.00043973165987233853\n"
     ]
    },
    {
     "name": "stderr",
     "output_type": "stream",
     "text": [
      "\r",
      " 62%|███████████████████████████████████████████████████                                | 8/13 [03:54<02:26, 29.24s/it]"
     ]
    },
    {
     "name": "stdout",
     "output_type": "stream",
     "text": [
      "Epoch [8/13], Training Loss: 0.0003, Validation Loss: 0.0003\n",
      "Validation loss decreased (0.000319 --> 0.000291).  Saving model ...\n",
      "Updating learning rate to 0.00032269755647873217\n"
     ]
    },
    {
     "name": "stderr",
     "output_type": "stream",
     "text": [
      "\r",
      " 69%|█████████████████████████████████████████████████████████▍                         | 9/13 [04:23<01:57, 29.34s/it]"
     ]
    },
    {
     "name": "stdout",
     "output_type": "stream",
     "text": [
      "Epoch [9/13], Training Loss: 0.0003, Validation Loss: 0.0003\n",
      "EarlyStopping counter: 1 out of 7\n",
      "Updating learning rate to 0.00021596762663442215\n"
     ]
    },
    {
     "name": "stderr",
     "output_type": "stream",
     "text": [
      "\r",
      " 77%|███████████████████████████████████████████████████████████████                   | 10/13 [04:56<01:31, 30.50s/it]"
     ]
    },
    {
     "name": "stdout",
     "output_type": "stream",
     "text": [
      "Epoch [10/13], Training Loss: 0.0003, Validation Loss: 0.0003\n",
      "Validation loss decreased (0.000291 --> 0.000269).  Saving model ...\n",
      "Updating learning rate to 0.0001257446259144494\n"
     ]
    },
    {
     "name": "stderr",
     "output_type": "stream",
     "text": [
      "\r",
      " 85%|█████████████████████████████████████████████████████████████████████▍            | 11/13 [05:29<01:01, 30.97s/it]"
     ]
    },
    {
     "name": "stdout",
     "output_type": "stream",
     "text": [
      "Epoch [11/13], Training Loss: 0.0003, Validation Loss: 0.0003\n",
      "Validation loss decreased (0.000269 --> 0.000261).  Saving model ...\n",
      "Updating learning rate to 5.72719871733951e-05\n"
     ]
    },
    {
     "name": "stderr",
     "output_type": "stream",
     "text": [
      "\r",
      " 92%|███████████████████████████████████████████████████████████████████████████▋      | 12/13 [05:59<00:30, 30.96s/it]"
     ]
    },
    {
     "name": "stdout",
     "output_type": "stream",
     "text": [
      "Epoch [12/13], Training Loss: 0.0003, Validation Loss: 0.0003\n",
      "Validation loss decreased (0.000261 --> 0.000256).  Saving model ...\n",
      "Updating learning rate to 1.4529091286973995e-05\n"
     ]
    },
    {
     "name": "stderr",
     "output_type": "stream",
     "text": [
      "100%|██████████████████████████████████████████████████████████████████████████████████| 13/13 [06:31<00:00, 30.09s/it]"
     ]
    },
    {
     "name": "stdout",
     "output_type": "stream",
     "text": [
      "Epoch [13/13], Training Loss: 0.0003, Validation Loss: 0.0002\n",
      "Validation loss decreased (0.000256 --> 0.000249).  Saving model ...\n",
      "Updating learning rate to 0.0\n"
     ]
    },
    {
     "name": "stderr",
     "output_type": "stream",
     "text": [
      "\n",
      " 20%|████████████████▊                                                                   | 1/5 [00:05<00:22,  5.61s/it]"
     ]
    },
    {
     "name": "stdout",
     "output_type": "stream",
     "text": [
      "Epoch [1/5], Training Loss: 0.0161, Validation Loss: 0.0030\n",
      "Validation loss decreased (inf --> 0.002951).  Saving model ...\n",
      "Updating learning rate to 0.0009045084971874737\n"
     ]
    },
    {
     "name": "stderr",
     "output_type": "stream",
     "text": [
      "\r",
      " 40%|█████████████████████████████████▌                                                  | 2/5 [00:11<00:17,  5.78s/it]"
     ]
    },
    {
     "name": "stdout",
     "output_type": "stream",
     "text": [
      "Epoch [2/5], Training Loss: 0.0024, Validation Loss: 0.0020\n",
      "Validation loss decreased (0.002951 --> 0.002045).  Saving model ...\n",
      "Updating learning rate to 0.0006545084971874737\n"
     ]
    },
    {
     "name": "stderr",
     "output_type": "stream",
     "text": [
      "\r",
      " 60%|██████████████████████████████████████████████████▍                                 | 3/5 [00:17<00:11,  5.71s/it]"
     ]
    },
    {
     "name": "stdout",
     "output_type": "stream",
     "text": [
      "Epoch [3/5], Training Loss: 0.0017, Validation Loss: 0.0013\n",
      "Validation loss decreased (0.002045 --> 0.001349).  Saving model ...\n",
      "Updating learning rate to 0.00034549150281252633\n"
     ]
    },
    {
     "name": "stderr",
     "output_type": "stream",
     "text": [
      "\r",
      " 80%|███████████████████████████████████████████████████████████████████▏                | 4/5 [00:22<00:05,  5.70s/it]"
     ]
    },
    {
     "name": "stdout",
     "output_type": "stream",
     "text": [
      "Epoch [4/5], Training Loss: 0.0014, Validation Loss: 0.0012\n",
      "Validation loss decreased (0.001349 --> 0.001195).  Saving model ...\n",
      "Updating learning rate to 9.549150281252633e-05\n"
     ]
    },
    {
     "name": "stderr",
     "output_type": "stream",
     "text": [
      "100%|████████████████████████████████████████████████████████████████████████████████████| 5/5 [00:28<00:00,  5.69s/it]"
     ]
    },
    {
     "name": "stdout",
     "output_type": "stream",
     "text": [
      "Epoch [5/5], Training Loss: 0.0013, Validation Loss: 0.0011\n",
      "Validation loss decreased (0.001195 --> 0.001108).  Saving model ...\n",
      "Updating learning rate to 0.0\n"
     ]
    },
    {
     "name": "stderr",
     "output_type": "stream",
     "text": [
      "\n",
      "  8%|██████▉                                                                            | 1/12 [00:19<03:36, 19.70s/it]"
     ]
    },
    {
     "name": "stdout",
     "output_type": "stream",
     "text": [
      "Epoch [1/12], Training Loss: 0.0058, Validation Loss: 0.0010\n",
      "Validation loss decreased (inf --> 0.000980).  Saving model ...\n",
      "Updating learning rate to 0.0009829629131445341\n"
     ]
    },
    {
     "name": "stderr",
     "output_type": "stream",
     "text": [
      "\r",
      " 17%|█████████████▊                                                                     | 2/12 [00:38<03:10, 19.07s/it]"
     ]
    },
    {
     "name": "stdout",
     "output_type": "stream",
     "text": [
      "Epoch [2/12], Training Loss: 0.0007, Validation Loss: 0.0006\n",
      "Validation loss decreased (0.000980 --> 0.000569).  Saving model ...\n",
      "Updating learning rate to 0.0009330127018922195\n"
     ]
    },
    {
     "name": "stderr",
     "output_type": "stream",
     "text": [
      "\r",
      " 25%|████████████████████▊                                                              | 3/12 [00:57<02:50, 18.96s/it]"
     ]
    },
    {
     "name": "stdout",
     "output_type": "stream",
     "text": [
      "Epoch [3/12], Training Loss: 0.0004, Validation Loss: 0.0003\n",
      "Validation loss decreased (0.000569 --> 0.000283).  Saving model ...\n",
      "Updating learning rate to 0.0008535533905932737\n"
     ]
    },
    {
     "name": "stderr",
     "output_type": "stream",
     "text": [
      "\r",
      " 33%|███████████████████████████▋                                                       | 4/12 [01:15<02:30, 18.84s/it]"
     ]
    },
    {
     "name": "stdout",
     "output_type": "stream",
     "text": [
      "Epoch [4/12], Training Loss: 0.0003, Validation Loss: 0.0002\n",
      "Validation loss decreased (0.000283 --> 0.000230).  Saving model ...\n",
      "Updating learning rate to 0.00075\n"
     ]
    },
    {
     "name": "stderr",
     "output_type": "stream",
     "text": [
      "\r",
      " 42%|██████████████████████████████████▌                                                | 5/12 [01:34<02:12, 18.90s/it]"
     ]
    },
    {
     "name": "stdout",
     "output_type": "stream",
     "text": [
      "Epoch [5/12], Training Loss: 0.0003, Validation Loss: 0.0003\n",
      "EarlyStopping counter: 1 out of 7\n",
      "Updating learning rate to 0.0006294095225512603\n"
     ]
    },
    {
     "name": "stderr",
     "output_type": "stream",
     "text": [
      "\r",
      " 50%|█████████████████████████████████████████▌                                         | 6/12 [01:53<01:52, 18.77s/it]"
     ]
    },
    {
     "name": "stdout",
     "output_type": "stream",
     "text": [
      "Epoch [6/12], Training Loss: 0.0002, Validation Loss: 0.0002\n",
      "Validation loss decreased (0.000230 --> 0.000211).  Saving model ...\n",
      "Updating learning rate to 0.0005\n"
     ]
    },
    {
     "name": "stderr",
     "output_type": "stream",
     "text": [
      "\r",
      " 58%|████████████████████████████████████████████████▍                                  | 7/12 [02:11<01:33, 18.69s/it]"
     ]
    },
    {
     "name": "stdout",
     "output_type": "stream",
     "text": [
      "Epoch [7/12], Training Loss: 0.0002, Validation Loss: 0.0002\n",
      "Validation loss decreased (0.000211 --> 0.000174).  Saving model ...\n",
      "Updating learning rate to 0.0003705904774487396\n"
     ]
    },
    {
     "name": "stderr",
     "output_type": "stream",
     "text": [
      "\r",
      " 67%|███████████████████████████████████████████████████████▎                           | 8/12 [02:30<01:14, 18.60s/it]"
     ]
    },
    {
     "name": "stdout",
     "output_type": "stream",
     "text": [
      "Epoch [8/12], Training Loss: 0.0002, Validation Loss: 0.0002\n",
      "EarlyStopping counter: 1 out of 7\n",
      "Updating learning rate to 0.0002500000000000001\n"
     ]
    },
    {
     "name": "stderr",
     "output_type": "stream",
     "text": [
      "\r",
      " 75%|██████████████████████████████████████████████████████████████▎                    | 9/12 [02:48<00:55, 18.53s/it]"
     ]
    },
    {
     "name": "stdout",
     "output_type": "stream",
     "text": [
      "Epoch [9/12], Training Loss: 0.0002, Validation Loss: 0.0002\n",
      "Validation loss decreased (0.000174 --> 0.000165).  Saving model ...\n",
      "Updating learning rate to 0.00014644660940672628\n"
     ]
    },
    {
     "name": "stderr",
     "output_type": "stream",
     "text": [
      "\r",
      " 83%|████████████████████████████████████████████████████████████████████▎             | 10/12 [03:07<00:37, 18.59s/it]"
     ]
    },
    {
     "name": "stdout",
     "output_type": "stream",
     "text": [
      "Epoch [10/12], Training Loss: 0.0002, Validation Loss: 0.0002\n",
      "EarlyStopping counter: 1 out of 7\n",
      "Updating learning rate to 6.698729810778065e-05\n"
     ]
    },
    {
     "name": "stderr",
     "output_type": "stream",
     "text": [
      "\r",
      " 92%|███████████████████████████████████████████████████████████████████████████▏      | 11/12 [03:26<00:18, 18.80s/it]"
     ]
    },
    {
     "name": "stdout",
     "output_type": "stream",
     "text": [
      "Epoch [11/12], Training Loss: 0.0002, Validation Loss: 0.0002\n",
      "Validation loss decreased (0.000165 --> 0.000154).  Saving model ...\n",
      "Updating learning rate to 1.70370868554659e-05\n"
     ]
    },
    {
     "name": "stderr",
     "output_type": "stream",
     "text": [
      "100%|██████████████████████████████████████████████████████████████████████████████████| 12/12 [03:44<00:00, 18.73s/it]"
     ]
    },
    {
     "name": "stdout",
     "output_type": "stream",
     "text": [
      "Epoch [12/12], Training Loss: 0.0002, Validation Loss: 0.0001\n",
      "Validation loss decreased (0.000154 --> 0.000146).  Saving model ...\n",
      "Updating learning rate to 0.0\n"
     ]
    },
    {
     "name": "stderr",
     "output_type": "stream",
     "text": [
      "\n",
      " 12%|██████████▌                                                                         | 1/8 [00:27<03:12, 27.44s/it]"
     ]
    },
    {
     "name": "stdout",
     "output_type": "stream",
     "text": [
      "Epoch [1/8], Training Loss: 0.0122, Validation Loss: 0.0025\n",
      "Validation loss decreased (inf --> 0.002527).  Saving model ...\n",
      "Updating learning rate to 0.0009619397662556434\n"
     ]
    },
    {
     "name": "stderr",
     "output_type": "stream",
     "text": [
      "\r",
      " 25%|█████████████████████                                                               | 2/8 [00:54<02:43, 27.19s/it]"
     ]
    },
    {
     "name": "stdout",
     "output_type": "stream",
     "text": [
      "Epoch [2/8], Training Loss: 0.0020, Validation Loss: 0.0011\n",
      "Validation loss decreased (0.002527 --> 0.001133).  Saving model ...\n",
      "Updating learning rate to 0.0008535533905932737\n"
     ]
    },
    {
     "name": "stderr",
     "output_type": "stream",
     "text": [
      "\r",
      " 38%|███████████████████████████████▌                                                    | 3/8 [01:21<02:16, 27.27s/it]"
     ]
    },
    {
     "name": "stdout",
     "output_type": "stream",
     "text": [
      "Epoch [3/8], Training Loss: 0.0012, Validation Loss: 0.0010\n",
      "Validation loss decreased (0.001133 --> 0.001016).  Saving model ...\n",
      "Updating learning rate to 0.000691341716182545\n"
     ]
    },
    {
     "name": "stderr",
     "output_type": "stream",
     "text": [
      "\r",
      " 50%|██████████████████████████████████████████                                          | 4/8 [01:51<01:53, 28.30s/it]"
     ]
    },
    {
     "name": "stdout",
     "output_type": "stream",
     "text": [
      "Epoch [4/8], Training Loss: 0.0010, Validation Loss: 0.0009\n",
      "Validation loss decreased (0.001016 --> 0.000851).  Saving model ...\n",
      "Updating learning rate to 0.0005\n"
     ]
    },
    {
     "name": "stderr",
     "output_type": "stream",
     "text": [
      "\r",
      " 62%|████████████████████████████████████████████████████▌                               | 5/8 [02:18<01:23, 27.93s/it]"
     ]
    },
    {
     "name": "stdout",
     "output_type": "stream",
     "text": [
      "Epoch [5/8], Training Loss: 0.0009, Validation Loss: 0.0007\n",
      "Validation loss decreased (0.000851 --> 0.000653).  Saving model ...\n",
      "Updating learning rate to 0.0003086582838174551\n"
     ]
    },
    {
     "name": "stderr",
     "output_type": "stream",
     "text": [
      "\r",
      " 75%|███████████████████████████████████████████████████████████████                     | 6/8 [02:45<00:55, 27.57s/it]"
     ]
    },
    {
     "name": "stdout",
     "output_type": "stream",
     "text": [
      "Epoch [6/8], Training Loss: 0.0008, Validation Loss: 0.0006\n",
      "Validation loss decreased (0.000653 --> 0.000638).  Saving model ...\n",
      "Updating learning rate to 0.00014644660940672628\n"
     ]
    },
    {
     "name": "stderr",
     "output_type": "stream",
     "text": [
      "\r",
      " 88%|█████████████████████████████████████████████████████████████████████████▌          | 7/8 [03:13<00:27, 27.48s/it]"
     ]
    },
    {
     "name": "stdout",
     "output_type": "stream",
     "text": [
      "Epoch [7/8], Training Loss: 0.0007, Validation Loss: 0.0006\n",
      "Validation loss decreased (0.000638 --> 0.000586).  Saving model ...\n",
      "Updating learning rate to 3.806023374435663e-05\n"
     ]
    },
    {
     "name": "stderr",
     "output_type": "stream",
     "text": [
      "100%|████████████████████████████████████████████████████████████████████████████████████| 8/8 [03:39<00:00, 27.49s/it]"
     ]
    },
    {
     "name": "stdout",
     "output_type": "stream",
     "text": [
      "Epoch [8/8], Training Loss: 0.0006, Validation Loss: 0.0006\n",
      "Validation loss decreased (0.000586 --> 0.000573).  Saving model ...\n",
      "Updating learning rate to 0.0\n"
     ]
    },
    {
     "name": "stderr",
     "output_type": "stream",
     "text": [
      "\n",
      " 17%|█████████████▊                                                                     | 1/6 [03:55<19:36, 235.23s/it]"
     ]
    },
    {
     "name": "stdout",
     "output_type": "stream",
     "text": [
      "Epoch [1/6], Training Loss: 0.0071, Validation Loss: 0.0008\n",
      "Validation loss decreased (inf --> 0.000765).  Saving model ...\n",
      "Updating learning rate to 0.0009330127018922195\n"
     ]
    },
    {
     "name": "stderr",
     "output_type": "stream",
     "text": [
      "\r",
      " 33%|███████████████████████████▋                                                       | 2/6 [08:02<16:09, 242.47s/it]"
     ]
    },
    {
     "name": "stdout",
     "output_type": "stream",
     "text": [
      "Epoch [2/6], Training Loss: 0.0005, Validation Loss: 0.0003\n",
      "Validation loss decreased (0.000765 --> 0.000343).  Saving model ...\n",
      "Updating learning rate to 0.00075\n"
     ]
    },
    {
     "name": "stderr",
     "output_type": "stream",
     "text": [
      "\r",
      " 50%|█████████████████████████████████████████▌                                         | 3/6 [12:16<12:23, 247.68s/it]"
     ]
    },
    {
     "name": "stdout",
     "output_type": "stream",
     "text": [
      "Epoch [3/6], Training Loss: 0.0003, Validation Loss: 0.0003\n",
      "Validation loss decreased (0.000343 --> 0.000303).  Saving model ...\n",
      "Updating learning rate to 0.0005\n"
     ]
    },
    {
     "name": "stderr",
     "output_type": "stream",
     "text": [
      "\r",
      " 67%|███████████████████████████████████████████████████████▎                           | 4/6 [16:23<08:14, 247.22s/it]"
     ]
    },
    {
     "name": "stdout",
     "output_type": "stream",
     "text": [
      "Epoch [4/6], Training Loss: 0.0003, Validation Loss: 0.0003\n",
      "Validation loss decreased (0.000303 --> 0.000251).  Saving model ...\n",
      "Updating learning rate to 0.0002500000000000001\n"
     ]
    },
    {
     "name": "stderr",
     "output_type": "stream",
     "text": [
      "\r",
      " 83%|█████████████████████████████████████████████████████████████████████▏             | 5/6 [20:19<04:03, 243.23s/it]"
     ]
    },
    {
     "name": "stdout",
     "output_type": "stream",
     "text": [
      "Epoch [5/6], Training Loss: 0.0002, Validation Loss: 0.0002\n",
      "Validation loss decreased (0.000251 --> 0.000189).  Saving model ...\n",
      "Updating learning rate to 6.698729810778065e-05\n"
     ]
    },
    {
     "name": "stderr",
     "output_type": "stream",
     "text": [
      "100%|███████████████████████████████████████████████████████████████████████████████████| 6/6 [24:16<00:00, 242.73s/it]"
     ]
    },
    {
     "name": "stdout",
     "output_type": "stream",
     "text": [
      "Epoch [6/6], Training Loss: 0.0002, Validation Loss: 0.0002\n",
      "Validation loss decreased (0.000189 --> 0.000183).  Saving model ...\n",
      "Updating learning rate to 0.0\n"
     ]
    },
    {
     "name": "stderr",
     "output_type": "stream",
     "text": [
      "\n",
      "  8%|██████▊                                                                           | 1/12 [02:11<24:09, 131.78s/it]"
     ]
    },
    {
     "name": "stdout",
     "output_type": "stream",
     "text": [
      "Epoch [1/12], Training Loss: 0.0089, Validation Loss: 0.0015\n",
      "Validation loss decreased (inf --> 0.001511).  Saving model ...\n",
      "Updating learning rate to 0.0009829629131445341\n"
     ]
    },
    {
     "name": "stderr",
     "output_type": "stream",
     "text": [
      "\r",
      " 17%|█████████████▋                                                                    | 2/12 [04:26<22:13, 133.33s/it]"
     ]
    },
    {
     "name": "stdout",
     "output_type": "stream",
     "text": [
      "Epoch [2/12], Training Loss: 0.0006, Validation Loss: 0.0004\n",
      "Validation loss decreased (0.001511 --> 0.000354).  Saving model ...\n",
      "Updating learning rate to 0.0009330127018922195\n"
     ]
    },
    {
     "name": "stderr",
     "output_type": "stream",
     "text": [
      "\r",
      " 25%|████████████████████▌                                                             | 3/12 [06:39<19:59, 133.32s/it]"
     ]
    },
    {
     "name": "stdout",
     "output_type": "stream",
     "text": [
      "Epoch [3/12], Training Loss: 0.0004, Validation Loss: 0.0003\n",
      "Validation loss decreased (0.000354 --> 0.000334).  Saving model ...\n",
      "Updating learning rate to 0.0008535533905932737\n"
     ]
    },
    {
     "name": "stderr",
     "output_type": "stream",
     "text": [
      "\r",
      " 33%|███████████████████████████▎                                                      | 4/12 [08:57<18:00, 135.08s/it]"
     ]
    },
    {
     "name": "stdout",
     "output_type": "stream",
     "text": [
      "Epoch [4/12], Training Loss: 0.0003, Validation Loss: 0.0003\n",
      "Validation loss decreased (0.000334 --> 0.000262).  Saving model ...\n",
      "Updating learning rate to 0.00075\n"
     ]
    },
    {
     "name": "stderr",
     "output_type": "stream",
     "text": [
      "\r",
      " 42%|██████████████████████████████████▏                                               | 5/12 [11:11<15:44, 134.91s/it]"
     ]
    },
    {
     "name": "stdout",
     "output_type": "stream",
     "text": [
      "Epoch [5/12], Training Loss: 0.0003, Validation Loss: 0.0002\n",
      "Validation loss decreased (0.000262 --> 0.000222).  Saving model ...\n",
      "Updating learning rate to 0.0006294095225512603\n"
     ]
    },
    {
     "name": "stderr",
     "output_type": "stream",
     "text": [
      "\r",
      " 50%|█████████████████████████████████████████                                         | 6/12 [13:32<13:40, 136.78s/it]"
     ]
    },
    {
     "name": "stdout",
     "output_type": "stream",
     "text": [
      "Epoch [6/12], Training Loss: 0.0002, Validation Loss: 0.0002\n",
      "EarlyStopping counter: 1 out of 7\n",
      "Updating learning rate to 0.0005\n"
     ]
    },
    {
     "name": "stderr",
     "output_type": "stream",
     "text": [
      "\r",
      " 58%|███████████████████████████████████████████████▊                                  | 7/12 [15:49<11:25, 137.08s/it]"
     ]
    },
    {
     "name": "stdout",
     "output_type": "stream",
     "text": [
      "Epoch [7/12], Training Loss: 0.0002, Validation Loss: 0.0002\n",
      "EarlyStopping counter: 2 out of 7\n",
      "Updating learning rate to 0.0003705904774487396\n"
     ]
    },
    {
     "name": "stderr",
     "output_type": "stream",
     "text": [
      "\r",
      " 67%|██████████████████████████████████████████████████████▋                           | 8/12 [18:13<09:16, 139.14s/it]"
     ]
    },
    {
     "name": "stdout",
     "output_type": "stream",
     "text": [
      "Epoch [8/12], Training Loss: 0.0002, Validation Loss: 0.0002\n",
      "Validation loss decreased (0.000222 --> 0.000169).  Saving model ...\n",
      "Updating learning rate to 0.0002500000000000001\n"
     ]
    },
    {
     "name": "stderr",
     "output_type": "stream",
     "text": [
      "\r",
      " 75%|█████████████████████████████████████████████████████████████▌                    | 9/12 [20:53<07:16, 145.51s/it]"
     ]
    },
    {
     "name": "stdout",
     "output_type": "stream",
     "text": [
      "Epoch [9/12], Training Loss: 0.0002, Validation Loss: 0.0002\n",
      "EarlyStopping counter: 1 out of 7\n",
      "Updating learning rate to 0.00014644660940672628\n"
     ]
    },
    {
     "name": "stderr",
     "output_type": "stream",
     "text": [
      "\r",
      " 83%|███████████████████████████████████████████████████████████████████▌             | 10/12 [23:28<04:57, 148.58s/it]"
     ]
    },
    {
     "name": "stdout",
     "output_type": "stream",
     "text": [
      "Epoch [10/12], Training Loss: 0.0002, Validation Loss: 0.0002\n",
      "Validation loss decreased (0.000169 --> 0.000150).  Saving model ...\n",
      "Updating learning rate to 6.698729810778065e-05\n"
     ]
    },
    {
     "name": "stderr",
     "output_type": "stream",
     "text": [
      "\r",
      " 92%|██████████████████████████████████████████████████████████████████████████▎      | 11/12 [26:03<02:30, 150.39s/it]"
     ]
    },
    {
     "name": "stdout",
     "output_type": "stream",
     "text": [
      "Epoch [11/12], Training Loss: 0.0002, Validation Loss: 0.0001\n",
      "Validation loss decreased (0.000150 --> 0.000141).  Saving model ...\n",
      "Updating learning rate to 1.70370868554659e-05\n"
     ]
    },
    {
     "name": "stderr",
     "output_type": "stream",
     "text": [
      "100%|█████████████████████████████████████████████████████████████████████████████████| 12/12 [28:37<00:00, 143.14s/it]"
     ]
    },
    {
     "name": "stdout",
     "output_type": "stream",
     "text": [
      "Epoch [12/12], Training Loss: 0.0002, Validation Loss: 0.0001\n",
      "Validation loss decreased (0.000141 --> 0.000137).  Saving model ...\n",
      "Updating learning rate to 0.0\n"
     ]
    },
    {
     "name": "stderr",
     "output_type": "stream",
     "text": [
      "\n",
      "  7%|█████▌                                                                             | 1/15 [01:13<17:15, 73.94s/it]"
     ]
    },
    {
     "name": "stdout",
     "output_type": "stream",
     "text": [
      "Epoch [1/15], Training Loss: 0.0040, Validation Loss: 0.0004\n",
      "Validation loss decreased (inf --> 0.000390).  Saving model ...\n",
      "Updating learning rate to 0.0009890738003669028\n"
     ]
    },
    {
     "name": "stderr",
     "output_type": "stream",
     "text": [
      "\r",
      " 13%|███████████                                                                        | 2/15 [02:24<15:37, 72.08s/it]"
     ]
    },
    {
     "name": "stdout",
     "output_type": "stream",
     "text": [
      "Epoch [2/15], Training Loss: 0.0004, Validation Loss: 0.0003\n",
      "Validation loss decreased (0.000390 --> 0.000281).  Saving model ...\n",
      "Updating learning rate to 0.0009567727288213005\n"
     ]
    },
    {
     "name": "stderr",
     "output_type": "stream",
     "text": [
      "\r",
      " 20%|████████████████▌                                                                  | 3/15 [03:29<13:47, 68.94s/it]"
     ]
    },
    {
     "name": "stdout",
     "output_type": "stream",
     "text": [
      "Epoch [3/15], Training Loss: 0.0003, Validation Loss: 0.0002\n",
      "Validation loss decreased (0.000281 --> 0.000211).  Saving model ...\n",
      "Updating learning rate to 0.0009045084971874737\n"
     ]
    },
    {
     "name": "stderr",
     "output_type": "stream",
     "text": [
      "\r",
      " 27%|██████████████████████▏                                                            | 4/15 [04:38<12:36, 68.74s/it]"
     ]
    },
    {
     "name": "stdout",
     "output_type": "stream",
     "text": [
      "Epoch [4/15], Training Loss: 0.0003, Validation Loss: 0.0002\n",
      "EarlyStopping counter: 1 out of 7\n",
      "Updating learning rate to 0.0008345653031794292\n"
     ]
    },
    {
     "name": "stderr",
     "output_type": "stream",
     "text": [
      "\r",
      " 33%|███████████████████████████▋                                                       | 5/15 [05:44<11:18, 67.83s/it]"
     ]
    },
    {
     "name": "stdout",
     "output_type": "stream",
     "text": [
      "Epoch [5/15], Training Loss: 0.0002, Validation Loss: 0.0002\n",
      "Validation loss decreased (0.000211 --> 0.000198).  Saving model ...\n",
      "Updating learning rate to 0.00075\n"
     ]
    },
    {
     "name": "stderr",
     "output_type": "stream",
     "text": [
      "\r",
      " 40%|█████████████████████████████████▏                                                 | 6/15 [06:52<10:11, 67.94s/it]"
     ]
    },
    {
     "name": "stdout",
     "output_type": "stream",
     "text": [
      "Epoch [6/15], Training Loss: 0.0002, Validation Loss: 0.0002\n",
      "EarlyStopping counter: 1 out of 7\n",
      "Updating learning rate to 0.0006545084971874737\n"
     ]
    },
    {
     "name": "stderr",
     "output_type": "stream",
     "text": [
      "\r",
      " 47%|██████████████████████████████████████▋                                            | 7/15 [07:57<08:56, 67.01s/it]"
     ]
    },
    {
     "name": "stdout",
     "output_type": "stream",
     "text": [
      "Epoch [7/15], Training Loss: 0.0002, Validation Loss: 0.0001\n",
      "Validation loss decreased (0.000198 --> 0.000147).  Saving model ...\n",
      "Updating learning rate to 0.0005522642316338268\n"
     ]
    },
    {
     "name": "stderr",
     "output_type": "stream",
     "text": [
      "\r",
      " 53%|████████████████████████████████████████████▎                                      | 8/15 [09:03<07:46, 66.62s/it]"
     ]
    },
    {
     "name": "stdout",
     "output_type": "stream",
     "text": [
      "Epoch [8/15], Training Loss: 0.0002, Validation Loss: 0.0002\n",
      "EarlyStopping counter: 1 out of 7\n",
      "Updating learning rate to 0.00044773576836617336\n"
     ]
    },
    {
     "name": "stderr",
     "output_type": "stream",
     "text": [
      "\r",
      " 60%|█████████████████████████████████████████████████▊                                 | 9/15 [10:08<06:37, 66.19s/it]"
     ]
    },
    {
     "name": "stdout",
     "output_type": "stream",
     "text": [
      "Epoch [9/15], Training Loss: 0.0002, Validation Loss: 0.0001\n",
      "Validation loss decreased (0.000147 --> 0.000132).  Saving model ...\n",
      "Updating learning rate to 0.00034549150281252633\n"
     ]
    },
    {
     "name": "stderr",
     "output_type": "stream",
     "text": [
      "\r",
      " 67%|██████████████████████████████████████████████████████▋                           | 10/15 [11:13<05:28, 65.65s/it]"
     ]
    },
    {
     "name": "stdout",
     "output_type": "stream",
     "text": [
      "Epoch [10/15], Training Loss: 0.0002, Validation Loss: 0.0001\n",
      "EarlyStopping counter: 1 out of 7\n",
      "Updating learning rate to 0.0002500000000000001\n"
     ]
    },
    {
     "name": "stderr",
     "output_type": "stream",
     "text": [
      "\r",
      " 73%|████████████████████████████████████████████████████████████▏                     | 11/15 [12:32<04:39, 69.79s/it]"
     ]
    },
    {
     "name": "stdout",
     "output_type": "stream",
     "text": [
      "Epoch [11/15], Training Loss: 0.0001, Validation Loss: 0.0001\n",
      "Validation loss decreased (0.000132 --> 0.000119).  Saving model ...\n",
      "Updating learning rate to 0.00016543469682057105\n"
     ]
    },
    {
     "name": "stderr",
     "output_type": "stream",
     "text": [
      "\r",
      " 80%|█████████████████████████████████████████████████████████████████▌                | 12/15 [13:36<03:23, 67.94s/it]"
     ]
    },
    {
     "name": "stdout",
     "output_type": "stream",
     "text": [
      "Epoch [12/15], Training Loss: 0.0001, Validation Loss: 0.0001\n",
      "EarlyStopping counter: 1 out of 7\n",
      "Updating learning rate to 9.549150281252633e-05\n"
     ]
    },
    {
     "name": "stderr",
     "output_type": "stream",
     "text": [
      "\r",
      " 87%|███████████████████████████████████████████████████████████████████████           | 13/15 [14:40<02:13, 66.86s/it]"
     ]
    },
    {
     "name": "stdout",
     "output_type": "stream",
     "text": [
      "Epoch [13/15], Training Loss: 0.0001, Validation Loss: 0.0001\n",
      "EarlyStopping counter: 2 out of 7\n",
      "Updating learning rate to 4.322727117869951e-05\n"
     ]
    },
    {
     "name": "stderr",
     "output_type": "stream",
     "text": [
      "\r",
      " 93%|████████████████████████████████████████████████████████████████████████████▌     | 14/15 [15:49<01:07, 67.39s/it]"
     ]
    },
    {
     "name": "stdout",
     "output_type": "stream",
     "text": [
      "Epoch [14/15], Training Loss: 0.0001, Validation Loss: 0.0001\n",
      "EarlyStopping counter: 3 out of 7\n",
      "Updating learning rate to 1.0926199633097156e-05\n"
     ]
    },
    {
     "name": "stderr",
     "output_type": "stream",
     "text": [
      "100%|██████████████████████████████████████████████████████████████████████████████████| 15/15 [16:56<00:00, 67.79s/it]"
     ]
    },
    {
     "name": "stdout",
     "output_type": "stream",
     "text": [
      "Epoch [15/15], Training Loss: 0.0001, Validation Loss: 0.0001\n",
      "Validation loss decreased (0.000119 --> 0.000111).  Saving model ...\n",
      "Updating learning rate to 0.0\n"
     ]
    },
    {
     "name": "stderr",
     "output_type": "stream",
     "text": [
      "\n",
      "  7%|█████▉                                                                             | 1/14 [00:31<06:46, 31.24s/it]"
     ]
    },
    {
     "name": "stdout",
     "output_type": "stream",
     "text": [
      "Epoch [1/14], Training Loss: 0.0072, Validation Loss: 0.0009\n",
      "Validation loss decreased (inf --> 0.000947).  Saving model ...\n",
      "Updating learning rate to 0.0009874639560909118\n"
     ]
    },
    {
     "name": "stderr",
     "output_type": "stream",
     "text": [
      "\r",
      " 14%|███████████▊                                                                       | 2/14 [01:01<06:11, 30.95s/it]"
     ]
    },
    {
     "name": "stdout",
     "output_type": "stream",
     "text": [
      "Epoch [2/14], Training Loss: 0.0005, Validation Loss: 0.0005\n",
      "Validation loss decreased (0.000947 --> 0.000451).  Saving model ...\n",
      "Updating learning rate to 0.0009504844339512095\n"
     ]
    },
    {
     "name": "stderr",
     "output_type": "stream",
     "text": [
      "\r",
      " 21%|█████████████████▊                                                                 | 3/14 [01:31<05:32, 30.25s/it]"
     ]
    },
    {
     "name": "stdout",
     "output_type": "stream",
     "text": [
      "Epoch [3/14], Training Loss: 0.0004, Validation Loss: 0.0004\n",
      "Validation loss decreased (0.000451 --> 0.000427).  Saving model ...\n",
      "Updating learning rate to 0.000890915741234015\n"
     ]
    },
    {
     "name": "stderr",
     "output_type": "stream",
     "text": [
      "\r",
      " 29%|███████████████████████▋                                                           | 4/14 [02:00<04:58, 29.83s/it]"
     ]
    },
    {
     "name": "stdout",
     "output_type": "stream",
     "text": [
      "Epoch [4/14], Training Loss: 0.0004, Validation Loss: 0.0003\n",
      "Validation loss decreased (0.000427 --> 0.000279).  Saving model ...\n",
      "Updating learning rate to 0.0008117449009293668\n"
     ]
    },
    {
     "name": "stderr",
     "output_type": "stream",
     "text": [
      "\r",
      " 36%|█████████████████████████████▋                                                     | 5/14 [02:29<04:26, 29.57s/it]"
     ]
    },
    {
     "name": "stdout",
     "output_type": "stream",
     "text": [
      "Epoch [5/14], Training Loss: 0.0003, Validation Loss: 0.0002\n",
      "Validation loss decreased (0.000279 --> 0.000229).  Saving model ...\n",
      "Updating learning rate to 0.0007169418695587791\n"
     ]
    },
    {
     "name": "stderr",
     "output_type": "stream",
     "text": [
      "\r",
      " 43%|███████████████████████████████████▌                                               | 6/14 [02:59<03:58, 29.76s/it]"
     ]
    },
    {
     "name": "stdout",
     "output_type": "stream",
     "text": [
      "Epoch [6/14], Training Loss: 0.0003, Validation Loss: 0.0002\n",
      "EarlyStopping counter: 1 out of 7\n",
      "Updating learning rate to 0.0006112604669781572\n"
     ]
    },
    {
     "name": "stderr",
     "output_type": "stream",
     "text": [
      "\r",
      " 50%|█████████████████████████████████████████▌                                         | 7/14 [03:29<03:28, 29.75s/it]"
     ]
    },
    {
     "name": "stdout",
     "output_type": "stream",
     "text": [
      "Epoch [7/14], Training Loss: 0.0003, Validation Loss: 0.0003\n",
      "EarlyStopping counter: 2 out of 7\n",
      "Updating learning rate to 0.0005\n"
     ]
    },
    {
     "name": "stderr",
     "output_type": "stream",
     "text": [
      "\r",
      " 57%|███████████████████████████████████████████████▍                                   | 8/14 [03:59<02:58, 29.68s/it]"
     ]
    },
    {
     "name": "stdout",
     "output_type": "stream",
     "text": [
      "Epoch [8/14], Training Loss: 0.0002, Validation Loss: 0.0002\n",
      "Validation loss decreased (0.000229 --> 0.000200).  Saving model ...\n",
      "Updating learning rate to 0.00038873953302184284\n"
     ]
    },
    {
     "name": "stderr",
     "output_type": "stream",
     "text": [
      "\r",
      " 64%|█████████████████████████████████████████████████████▎                             | 9/14 [04:28<02:28, 29.71s/it]"
     ]
    },
    {
     "name": "stdout",
     "output_type": "stream",
     "text": [
      "Epoch [9/14], Training Loss: 0.0002, Validation Loss: 0.0002\n",
      "EarlyStopping counter: 1 out of 7\n",
      "Updating learning rate to 0.00028305813044122096\n"
     ]
    },
    {
     "name": "stderr",
     "output_type": "stream",
     "text": [
      "\r",
      " 71%|██████████████████████████████████████████████████████████▌                       | 10/14 [04:58<01:58, 29.73s/it]"
     ]
    },
    {
     "name": "stdout",
     "output_type": "stream",
     "text": [
      "Epoch [10/14], Training Loss: 0.0002, Validation Loss: 0.0002\n",
      "Validation loss decreased (0.000200 --> 0.000193).  Saving model ...\n",
      "Updating learning rate to 0.00018825509907063325\n"
     ]
    },
    {
     "name": "stderr",
     "output_type": "stream",
     "text": [
      "\r",
      " 79%|████████████████████████████████████████████████████████████████▍                 | 11/14 [05:27<01:28, 29.62s/it]"
     ]
    },
    {
     "name": "stdout",
     "output_type": "stream",
     "text": [
      "Epoch [11/14], Training Loss: 0.0002, Validation Loss: 0.0002\n",
      "EarlyStopping counter: 1 out of 7\n",
      "Updating learning rate to 0.00010908425876598516\n"
     ]
    },
    {
     "name": "stderr",
     "output_type": "stream",
     "text": [
      "\r",
      " 86%|██████████████████████████████████████████████████████████████████████▎           | 12/14 [05:56<00:58, 29.41s/it]"
     ]
    },
    {
     "name": "stdout",
     "output_type": "stream",
     "text": [
      "Epoch [12/14], Training Loss: 0.0002, Validation Loss: 0.0002\n",
      "Validation loss decreased (0.000193 --> 0.000172).  Saving model ...\n",
      "Updating learning rate to 4.9515566048790485e-05\n"
     ]
    },
    {
     "name": "stderr",
     "output_type": "stream",
     "text": [
      "\r",
      " 93%|████████████████████████████████████████████████████████████████████████████▏     | 13/14 [06:26<00:29, 29.31s/it]"
     ]
    },
    {
     "name": "stdout",
     "output_type": "stream",
     "text": [
      "Epoch [13/14], Training Loss: 0.0002, Validation Loss: 0.0002\n",
      "Validation loss decreased (0.000172 --> 0.000165).  Saving model ...\n",
      "Updating learning rate to 1.2536043909088191e-05\n"
     ]
    },
    {
     "name": "stderr",
     "output_type": "stream",
     "text": [
      "100%|██████████████████████████████████████████████████████████████████████████████████| 14/14 [06:54<00:00, 29.62s/it]"
     ]
    },
    {
     "name": "stdout",
     "output_type": "stream",
     "text": [
      "Epoch [14/14], Training Loss: 0.0002, Validation Loss: 0.0002\n",
      "Validation loss decreased (0.000165 --> 0.000163).  Saving model ...\n",
      "Updating learning rate to 0.0\n"
     ]
    },
    {
     "name": "stderr",
     "output_type": "stream",
     "text": [
      "\n",
      " 11%|█████████▎                                                                          | 1/9 [01:20<10:43, 80.43s/it]"
     ]
    },
    {
     "name": "stdout",
     "output_type": "stream",
     "text": [
      "Epoch [1/9], Training Loss: 0.0059, Validation Loss: 0.0021\n",
      "Validation loss decreased (inf --> 0.002069).  Saving model ...\n",
      "Updating learning rate to 0.0009698463103929542\n"
     ]
    },
    {
     "name": "stderr",
     "output_type": "stream",
     "text": [
      "\r",
      " 22%|██████████████████▋                                                                 | 2/9 [02:35<08:58, 76.99s/it]"
     ]
    },
    {
     "name": "stdout",
     "output_type": "stream",
     "text": [
      "Epoch [2/9], Training Loss: 0.0014, Validation Loss: 0.0009\n",
      "Validation loss decreased (0.002069 --> 0.000947).  Saving model ...\n",
      "Updating learning rate to 0.000883022221559489\n"
     ]
    },
    {
     "name": "stderr",
     "output_type": "stream",
     "text": [
      "\r",
      " 33%|████████████████████████████                                                        | 3/9 [03:49<07:36, 76.04s/it]"
     ]
    },
    {
     "name": "stdout",
     "output_type": "stream",
     "text": [
      "Epoch [3/9], Training Loss: 0.0011, Validation Loss: 0.0009\n",
      "Validation loss decreased (0.000947 --> 0.000897).  Saving model ...\n",
      "Updating learning rate to 0.00075\n"
     ]
    },
    {
     "name": "stderr",
     "output_type": "stream",
     "text": [
      "\r",
      " 44%|█████████████████████████████████████▎                                              | 4/9 [05:06<06:21, 76.24s/it]"
     ]
    },
    {
     "name": "stdout",
     "output_type": "stream",
     "text": [
      "Epoch [4/9], Training Loss: 0.0009, Validation Loss: 0.0007\n",
      "Validation loss decreased (0.000897 --> 0.000686).  Saving model ...\n",
      "Updating learning rate to 0.0005868240888334653\n"
     ]
    },
    {
     "name": "stderr",
     "output_type": "stream",
     "text": [
      "\r",
      " 56%|██████████████████████████████████████████████▋                                     | 5/9 [06:21<05:03, 75.81s/it]"
     ]
    },
    {
     "name": "stdout",
     "output_type": "stream",
     "text": [
      "Epoch [5/9], Training Loss: 0.0008, Validation Loss: 0.0006\n",
      "Validation loss decreased (0.000686 --> 0.000569).  Saving model ...\n",
      "Updating learning rate to 0.00041317591116653486\n"
     ]
    },
    {
     "name": "stderr",
     "output_type": "stream",
     "text": [
      "\r",
      " 67%|████████████████████████████████████████████████████████                            | 6/9 [07:38<03:48, 76.12s/it]"
     ]
    },
    {
     "name": "stdout",
     "output_type": "stream",
     "text": [
      "Epoch [6/9], Training Loss: 0.0007, Validation Loss: 0.0005\n",
      "Validation loss decreased (0.000569 --> 0.000549).  Saving model ...\n",
      "Updating learning rate to 0.0002500000000000001\n"
     ]
    },
    {
     "name": "stderr",
     "output_type": "stream",
     "text": [
      "\r",
      " 78%|█████████████████████████████████████████████████████████████████▎                  | 7/9 [08:54<02:32, 76.21s/it]"
     ]
    },
    {
     "name": "stdout",
     "output_type": "stream",
     "text": [
      "Epoch [7/9], Training Loss: 0.0006, Validation Loss: 0.0005\n",
      "Validation loss decreased (0.000549 --> 0.000500).  Saving model ...\n",
      "Updating learning rate to 0.00011697777844051105\n"
     ]
    },
    {
     "name": "stderr",
     "output_type": "stream",
     "text": [
      "\r",
      " 89%|██████████████████████████████████████████████████████████████████████████▋         | 8/9 [10:18<01:18, 78.59s/it]"
     ]
    },
    {
     "name": "stdout",
     "output_type": "stream",
     "text": [
      "Epoch [8/9], Training Loss: 0.0005, Validation Loss: 0.0005\n",
      "Validation loss decreased (0.000500 --> 0.000481).  Saving model ...\n",
      "Updating learning rate to 3.0153689607045842e-05\n"
     ]
    },
    {
     "name": "stderr",
     "output_type": "stream",
     "text": [
      "100%|████████████████████████████████████████████████████████████████████████████████████| 9/9 [11:36<00:00, 77.38s/it]"
     ]
    },
    {
     "name": "stdout",
     "output_type": "stream",
     "text": [
      "Epoch [9/9], Training Loss: 0.0005, Validation Loss: 0.0004\n",
      "Validation loss decreased (0.000481 --> 0.000432).  Saving model ...\n",
      "Updating learning rate to 0.0\n"
     ]
    },
    {
     "name": "stderr",
     "output_type": "stream",
     "text": [
      "\n",
      "  8%|██████▍                                                                            | 1/13 [00:15<03:00, 15.04s/it]"
     ]
    },
    {
     "name": "stdout",
     "output_type": "stream",
     "text": [
      "Epoch [1/13], Training Loss: 0.0076, Validation Loss: 0.0023\n",
      "Validation loss decreased (inf --> 0.002315).  Saving model ...\n",
      "Updating learning rate to 0.000985470908713026\n"
     ]
    },
    {
     "name": "stderr",
     "output_type": "stream",
     "text": [
      "\r",
      " 15%|████████████▊                                                                      | 2/13 [00:27<02:29, 13.62s/it]"
     ]
    },
    {
     "name": "stdout",
     "output_type": "stream",
     "text": [
      "Epoch [2/13], Training Loss: 0.0019, Validation Loss: 0.0013\n",
      "Validation loss decreased (0.002315 --> 0.001342).  Saving model ...\n",
      "Updating learning rate to 0.0009427280128266049\n"
     ]
    },
    {
     "name": "stderr",
     "output_type": "stream",
     "text": [
      "\r",
      " 23%|███████████████████▏                                                               | 3/13 [00:39<02:09, 12.92s/it]"
     ]
    },
    {
     "name": "stdout",
     "output_type": "stream",
     "text": [
      "Epoch [3/13], Training Loss: 0.0013, Validation Loss: 0.0010\n",
      "Validation loss decreased (0.001342 --> 0.000994).  Saving model ...\n",
      "Updating learning rate to 0.0008742553740855505\n"
     ]
    },
    {
     "name": "stderr",
     "output_type": "stream",
     "text": [
      "\r",
      " 31%|█████████████████████████▌                                                         | 4/13 [00:50<01:49, 12.19s/it]"
     ]
    },
    {
     "name": "stdout",
     "output_type": "stream",
     "text": [
      "Epoch [4/13], Training Loss: 0.0010, Validation Loss: 0.0010\n",
      "EarlyStopping counter: 1 out of 7\n",
      "Updating learning rate to 0.0007840323733655779\n"
     ]
    },
    {
     "name": "stderr",
     "output_type": "stream",
     "text": [
      "\r",
      " 38%|███████████████████████████████▉                                                   | 5/13 [01:01<01:34, 11.82s/it]"
     ]
    },
    {
     "name": "stdout",
     "output_type": "stream",
     "text": [
      "Epoch [5/13], Training Loss: 0.0009, Validation Loss: 0.0008\n",
      "Validation loss decreased (0.000994 --> 0.000798).  Saving model ...\n",
      "Updating learning rate to 0.0006773024435212678\n"
     ]
    },
    {
     "name": "stderr",
     "output_type": "stream",
     "text": [
      "\r",
      " 46%|██████████████████████████████████████▎                                            | 6/13 [01:13<01:21, 11.59s/it]"
     ]
    },
    {
     "name": "stdout",
     "output_type": "stream",
     "text": [
      "Epoch [6/13], Training Loss: 0.0008, Validation Loss: 0.0005\n",
      "Validation loss decreased (0.000798 --> 0.000539).  Saving model ...\n",
      "Updating learning rate to 0.0005602683401276614\n"
     ]
    },
    {
     "name": "stderr",
     "output_type": "stream",
     "text": [
      "\r",
      " 54%|████████████████████████████████████████████▋                                      | 7/13 [01:24<01:09, 11.64s/it]"
     ]
    },
    {
     "name": "stdout",
     "output_type": "stream",
     "text": [
      "Epoch [7/13], Training Loss: 0.0007, Validation Loss: 0.0005\n",
      "Validation loss decreased (0.000539 --> 0.000525).  Saving model ...\n",
      "Updating learning rate to 0.00043973165987233853\n"
     ]
    },
    {
     "name": "stderr",
     "output_type": "stream",
     "text": [
      "\r",
      " 62%|███████████████████████████████████████████████████                                | 8/13 [01:36<00:58, 11.64s/it]"
     ]
    },
    {
     "name": "stdout",
     "output_type": "stream",
     "text": [
      "Epoch [8/13], Training Loss: 0.0006, Validation Loss: 0.0005\n",
      "Validation loss decreased (0.000525 --> 0.000487).  Saving model ...\n",
      "Updating learning rate to 0.00032269755647873217\n"
     ]
    },
    {
     "name": "stderr",
     "output_type": "stream",
     "text": [
      "\r",
      " 69%|█████████████████████████████████████████████████████████▍                         | 9/13 [01:51<00:50, 12.61s/it]"
     ]
    },
    {
     "name": "stdout",
     "output_type": "stream",
     "text": [
      "Epoch [9/13], Training Loss: 0.0006, Validation Loss: 0.0005\n",
      "Validation loss decreased (0.000487 --> 0.000473).  Saving model ...\n",
      "Updating learning rate to 0.00021596762663442215\n"
     ]
    },
    {
     "name": "stderr",
     "output_type": "stream",
     "text": [
      "\r",
      " 77%|███████████████████████████████████████████████████████████████                   | 10/13 [02:06<00:39, 13.32s/it]"
     ]
    },
    {
     "name": "stdout",
     "output_type": "stream",
     "text": [
      "Epoch [10/13], Training Loss: 0.0005, Validation Loss: 0.0005\n",
      "EarlyStopping counter: 1 out of 7\n",
      "Updating learning rate to 0.0001257446259144494\n"
     ]
    },
    {
     "name": "stderr",
     "output_type": "stream",
     "text": [
      "\r",
      " 85%|█████████████████████████████████████████████████████████████████████▍            | 11/13 [02:18<00:26, 13.17s/it]"
     ]
    },
    {
     "name": "stdout",
     "output_type": "stream",
     "text": [
      "Epoch [11/13], Training Loss: 0.0005, Validation Loss: 0.0005\n",
      "Validation loss decreased (0.000473 --> 0.000452).  Saving model ...\n",
      "Updating learning rate to 5.72719871733951e-05\n"
     ]
    },
    {
     "name": "stderr",
     "output_type": "stream",
     "text": [
      "\r",
      " 92%|███████████████████████████████████████████████████████████████████████████▋      | 12/13 [02:31<00:13, 13.08s/it]"
     ]
    },
    {
     "name": "stdout",
     "output_type": "stream",
     "text": [
      "Epoch [12/13], Training Loss: 0.0005, Validation Loss: 0.0004\n",
      "Validation loss decreased (0.000452 --> 0.000429).  Saving model ...\n",
      "Updating learning rate to 1.4529091286973995e-05\n"
     ]
    },
    {
     "name": "stderr",
     "output_type": "stream",
     "text": [
      "100%|██████████████████████████████████████████████████████████████████████████████████| 13/13 [02:44<00:00, 12.64s/it]"
     ]
    },
    {
     "name": "stdout",
     "output_type": "stream",
     "text": [
      "Epoch [13/13], Training Loss: 0.0005, Validation Loss: 0.0004\n",
      "EarlyStopping counter: 1 out of 7\n",
      "Updating learning rate to 0.0\n"
     ]
    },
    {
     "name": "stderr",
     "output_type": "stream",
     "text": [
      "\n",
      "  6%|█████▏                                                                             | 1/16 [00:15<03:47, 15.19s/it]"
     ]
    },
    {
     "name": "stdout",
     "output_type": "stream",
     "text": [
      "Epoch [1/16], Training Loss: 0.0057, Validation Loss: 0.0011\n",
      "Validation loss decreased (inf --> 0.001085).  Saving model ...\n",
      "Updating learning rate to 0.0009903926402016153\n"
     ]
    },
    {
     "name": "stderr",
     "output_type": "stream",
     "text": [
      "\r",
      " 12%|██████████▍                                                                        | 2/16 [00:28<03:15, 13.98s/it]"
     ]
    },
    {
     "name": "stdout",
     "output_type": "stream",
     "text": [
      "Epoch [2/16], Training Loss: 0.0007, Validation Loss: 0.0005\n",
      "Validation loss decreased (0.001085 --> 0.000536).  Saving model ...\n",
      "Updating learning rate to 0.0009619397662556434\n"
     ]
    },
    {
     "name": "stderr",
     "output_type": "stream",
     "text": [
      "\r",
      " 19%|███████████████▌                                                                   | 3/16 [00:41<02:56, 13.58s/it]"
     ]
    },
    {
     "name": "stdout",
     "output_type": "stream",
     "text": [
      "Epoch [3/16], Training Loss: 0.0004, Validation Loss: 0.0004\n",
      "Validation loss decreased (0.000536 --> 0.000364).  Saving model ...\n",
      "Updating learning rate to 0.0009157348061512727\n"
     ]
    },
    {
     "name": "stderr",
     "output_type": "stream",
     "text": [
      "\r",
      " 25%|████████████████████▊                                                              | 4/16 [00:54<02:39, 13.27s/it]"
     ]
    },
    {
     "name": "stdout",
     "output_type": "stream",
     "text": [
      "Epoch [4/16], Training Loss: 0.0003, Validation Loss: 0.0002\n",
      "Validation loss decreased (0.000364 --> 0.000218).  Saving model ...\n",
      "Updating learning rate to 0.0008535533905932737\n"
     ]
    },
    {
     "name": "stderr",
     "output_type": "stream",
     "text": [
      "\r",
      " 31%|█████████████████████████▉                                                         | 5/16 [01:06<02:23, 13.01s/it]"
     ]
    },
    {
     "name": "stdout",
     "output_type": "stream",
     "text": [
      "Epoch [5/16], Training Loss: 0.0003, Validation Loss: 0.0004\n",
      "EarlyStopping counter: 1 out of 7\n",
      "Updating learning rate to 0.0007777851165098011\n"
     ]
    },
    {
     "name": "stderr",
     "output_type": "stream",
     "text": [
      "\r",
      " 38%|███████████████████████████████▏                                                   | 6/16 [01:19<02:08, 12.86s/it]"
     ]
    },
    {
     "name": "stdout",
     "output_type": "stream",
     "text": [
      "Epoch [6/16], Training Loss: 0.0002, Validation Loss: 0.0002\n",
      "Validation loss decreased (0.000218 --> 0.000190).  Saving model ...\n",
      "Updating learning rate to 0.000691341716182545\n"
     ]
    },
    {
     "name": "stderr",
     "output_type": "stream",
     "text": [
      "\r",
      " 44%|████████████████████████████████████▎                                              | 7/16 [01:32<01:55, 12.88s/it]"
     ]
    },
    {
     "name": "stdout",
     "output_type": "stream",
     "text": [
      "Epoch [7/16], Training Loss: 0.0002, Validation Loss: 0.0002\n",
      "EarlyStopping counter: 1 out of 7\n",
      "Updating learning rate to 0.0005975451610080642\n"
     ]
    },
    {
     "name": "stderr",
     "output_type": "stream",
     "text": [
      "\r",
      " 50%|█████████████████████████████████████████▌                                         | 8/16 [01:44<01:42, 12.80s/it]"
     ]
    },
    {
     "name": "stdout",
     "output_type": "stream",
     "text": [
      "Epoch [8/16], Training Loss: 0.0002, Validation Loss: 0.0002\n",
      "Validation loss decreased (0.000190 --> 0.000186).  Saving model ...\n",
      "Updating learning rate to 0.0005\n"
     ]
    },
    {
     "name": "stderr",
     "output_type": "stream",
     "text": [
      "\r",
      " 56%|██████████████████████████████████████████████▋                                    | 9/16 [01:57<01:29, 12.81s/it]"
     ]
    },
    {
     "name": "stdout",
     "output_type": "stream",
     "text": [
      "Epoch [9/16], Training Loss: 0.0002, Validation Loss: 0.0002\n",
      "Validation loss decreased (0.000186 --> 0.000170).  Saving model ...\n",
      "Updating learning rate to 0.00040245483899193594\n"
     ]
    },
    {
     "name": "stderr",
     "output_type": "stream",
     "text": [
      "\r",
      " 62%|███████████████████████████████████████████████████▎                              | 10/16 [02:13<01:22, 13.76s/it]"
     ]
    },
    {
     "name": "stdout",
     "output_type": "stream",
     "text": [
      "Epoch [10/16], Training Loss: 0.0002, Validation Loss: 0.0002\n",
      "Validation loss decreased (0.000170 --> 0.000156).  Saving model ...\n",
      "Updating learning rate to 0.0003086582838174551\n"
     ]
    },
    {
     "name": "stderr",
     "output_type": "stream",
     "text": [
      "\r",
      " 69%|████████████████████████████████████████████████████████▍                         | 11/16 [02:28<01:11, 14.21s/it]"
     ]
    },
    {
     "name": "stdout",
     "output_type": "stream",
     "text": [
      "Epoch [11/16], Training Loss: 0.0002, Validation Loss: 0.0002\n",
      "Validation loss decreased (0.000156 --> 0.000155).  Saving model ...\n",
      "Updating learning rate to 0.00022221488349019903\n"
     ]
    },
    {
     "name": "stderr",
     "output_type": "stream",
     "text": [
      "\r",
      " 75%|█████████████████████████████████████████████████████████████▌                    | 12/16 [02:42<00:56, 14.04s/it]"
     ]
    },
    {
     "name": "stdout",
     "output_type": "stream",
     "text": [
      "Epoch [12/16], Training Loss: 0.0002, Validation Loss: 0.0002\n",
      "EarlyStopping counter: 1 out of 7\n",
      "Updating learning rate to 0.00014644660940672628\n"
     ]
    },
    {
     "name": "stderr",
     "output_type": "stream",
     "text": [
      "\r",
      " 81%|██████████████████████████████████████████████████████████████████▋               | 13/16 [02:57<00:42, 14.22s/it]"
     ]
    },
    {
     "name": "stdout",
     "output_type": "stream",
     "text": [
      "Epoch [13/16], Training Loss: 0.0002, Validation Loss: 0.0001\n",
      "Validation loss decreased (0.000155 --> 0.000146).  Saving model ...\n",
      "Updating learning rate to 8.426519384872733e-05\n"
     ]
    },
    {
     "name": "stderr",
     "output_type": "stream",
     "text": [
      "\r",
      " 88%|███████████████████████████████████████████████████████████████████████▊          | 14/16 [03:10<00:27, 13.95s/it]"
     ]
    },
    {
     "name": "stdout",
     "output_type": "stream",
     "text": [
      "Epoch [14/16], Training Loss: 0.0002, Validation Loss: 0.0001\n",
      "Validation loss decreased (0.000146 --> 0.000146).  Saving model ...\n",
      "Updating learning rate to 3.806023374435663e-05\n"
     ]
    },
    {
     "name": "stderr",
     "output_type": "stream",
     "text": [
      "\r",
      " 94%|████████████████████████████████████████████████████████████████████████████▉     | 15/16 [03:23<00:13, 13.66s/it]"
     ]
    },
    {
     "name": "stdout",
     "output_type": "stream",
     "text": [
      "Epoch [15/16], Training Loss: 0.0001, Validation Loss: 0.0001\n",
      "Validation loss decreased (0.000146 --> 0.000135).  Saving model ...\n",
      "Updating learning rate to 9.607359798384786e-06\n"
     ]
    },
    {
     "name": "stderr",
     "output_type": "stream",
     "text": [
      "100%|██████████████████████████████████████████████████████████████████████████████████| 16/16 [03:36<00:00, 13.51s/it]"
     ]
    },
    {
     "name": "stdout",
     "output_type": "stream",
     "text": [
      "Epoch [16/16], Training Loss: 0.0001, Validation Loss: 0.0001\n",
      "EarlyStopping counter: 1 out of 7\n",
      "Updating learning rate to 0.0\n"
     ]
    },
    {
     "name": "stderr",
     "output_type": "stream",
     "text": [
      "\n",
      " 10%|████████▎                                                                          | 1/10 [00:32<04:48, 32.10s/it]"
     ]
    },
    {
     "name": "stdout",
     "output_type": "stream",
     "text": [
      "Epoch [1/10], Training Loss: 0.0073, Validation Loss: 0.0025\n",
      "Validation loss decreased (inf --> 0.002453).  Saving model ...\n",
      "Updating learning rate to 0.0009755282581475768\n"
     ]
    },
    {
     "name": "stderr",
     "output_type": "stream",
     "text": [
      "\r",
      " 20%|████████████████▌                                                                  | 2/10 [01:05<04:24, 33.03s/it]"
     ]
    },
    {
     "name": "stdout",
     "output_type": "stream",
     "text": [
      "Epoch [2/10], Training Loss: 0.0022, Validation Loss: 0.0018\n",
      "Validation loss decreased (0.002453 --> 0.001762).  Saving model ...\n",
      "Updating learning rate to 0.0009045084971874737\n"
     ]
    },
    {
     "name": "stderr",
     "output_type": "stream",
     "text": [
      "\r",
      " 30%|████████████████████████▉                                                          | 3/10 [01:38<03:50, 32.96s/it]"
     ]
    },
    {
     "name": "stdout",
     "output_type": "stream",
     "text": [
      "Epoch [3/10], Training Loss: 0.0018, Validation Loss: 0.0014\n",
      "Validation loss decreased (0.001762 --> 0.001409).  Saving model ...\n",
      "Updating learning rate to 0.0007938926261462366\n"
     ]
    },
    {
     "name": "stderr",
     "output_type": "stream",
     "text": [
      "\r",
      " 40%|█████████████████████████████████▏                                                 | 4/10 [02:10<03:16, 32.67s/it]"
     ]
    },
    {
     "name": "stdout",
     "output_type": "stream",
     "text": [
      "Epoch [4/10], Training Loss: 0.0016, Validation Loss: 0.0015\n",
      "EarlyStopping counter: 1 out of 7\n",
      "Updating learning rate to 0.0006545084971874737\n"
     ]
    },
    {
     "name": "stderr",
     "output_type": "stream",
     "text": [
      "\r",
      " 50%|█████████████████████████████████████████▌                                         | 5/10 [02:45<02:46, 33.39s/it]"
     ]
    },
    {
     "name": "stdout",
     "output_type": "stream",
     "text": [
      "Epoch [5/10], Training Loss: 0.0014, Validation Loss: 0.0012\n",
      "Validation loss decreased (0.001409 --> 0.001170).  Saving model ...\n",
      "Updating learning rate to 0.0005\n"
     ]
    },
    {
     "name": "stderr",
     "output_type": "stream",
     "text": [
      "\r",
      " 60%|█████████████████████████████████████████████████▊                                 | 6/10 [03:18<02:13, 33.37s/it]"
     ]
    },
    {
     "name": "stdout",
     "output_type": "stream",
     "text": [
      "Epoch [6/10], Training Loss: 0.0013, Validation Loss: 0.0011\n",
      "Validation loss decreased (0.001170 --> 0.001128).  Saving model ...\n",
      "Updating learning rate to 0.00034549150281252633\n"
     ]
    },
    {
     "name": "stderr",
     "output_type": "stream",
     "text": [
      "\r",
      " 70%|██████████████████████████████████████████████████████████                         | 7/10 [03:51<01:39, 33.26s/it]"
     ]
    },
    {
     "name": "stdout",
     "output_type": "stream",
     "text": [
      "Epoch [7/10], Training Loss: 0.0013, Validation Loss: 0.0011\n",
      "Validation loss decreased (0.001128 --> 0.001115).  Saving model ...\n",
      "Updating learning rate to 0.00020610737385376348\n"
     ]
    },
    {
     "name": "stderr",
     "output_type": "stream",
     "text": [
      "\r",
      " 80%|██████████████████████████████████████████████████████████████████▍                | 8/10 [04:24<01:06, 33.16s/it]"
     ]
    },
    {
     "name": "stdout",
     "output_type": "stream",
     "text": [
      "Epoch [8/10], Training Loss: 0.0012, Validation Loss: 0.0010\n",
      "Validation loss decreased (0.001115 --> 0.001035).  Saving model ...\n",
      "Updating learning rate to 9.549150281252633e-05\n"
     ]
    },
    {
     "name": "stderr",
     "output_type": "stream",
     "text": [
      "\r",
      " 90%|██████████████████████████████████████████████████████████████████████████▋        | 9/10 [04:58<00:33, 33.21s/it]"
     ]
    },
    {
     "name": "stdout",
     "output_type": "stream",
     "text": [
      "Epoch [9/10], Training Loss: 0.0012, Validation Loss: 0.0010\n",
      "Validation loss decreased (0.001035 --> 0.001031).  Saving model ...\n",
      "Updating learning rate to 2.4471741852423235e-05\n"
     ]
    },
    {
     "name": "stderr",
     "output_type": "stream",
     "text": [
      "100%|██████████████████████████████████████████████████████████████████████████████████| 10/10 [05:30<00:00, 33.08s/it]"
     ]
    },
    {
     "name": "stdout",
     "output_type": "stream",
     "text": [
      "Epoch [10/10], Training Loss: 0.0012, Validation Loss: 0.0010\n",
      "Validation loss decreased (0.001031 --> 0.001011).  Saving model ...\n",
      "Updating learning rate to 0.0\n"
     ]
    },
    {
     "name": "stderr",
     "output_type": "stream",
     "text": [
      "\n",
      "  8%|██████▉                                                                            | 1/12 [00:24<04:32, 24.82s/it]"
     ]
    },
    {
     "name": "stdout",
     "output_type": "stream",
     "text": [
      "Epoch [1/12], Training Loss: 0.0045, Validation Loss: 0.0006\n",
      "Validation loss decreased (inf --> 0.000564).  Saving model ...\n",
      "Updating learning rate to 0.0009829629131445341\n"
     ]
    },
    {
     "name": "stderr",
     "output_type": "stream",
     "text": [
      "\r",
      " 17%|█████████████▊                                                                     | 2/12 [00:48<04:03, 24.38s/it]"
     ]
    },
    {
     "name": "stdout",
     "output_type": "stream",
     "text": [
      "Epoch [2/12], Training Loss: 0.0005, Validation Loss: 0.0004\n",
      "Validation loss decreased (0.000564 --> 0.000369).  Saving model ...\n",
      "Updating learning rate to 0.0009330127018922195\n"
     ]
    },
    {
     "name": "stderr",
     "output_type": "stream",
     "text": [
      "\r",
      " 25%|████████████████████▊                                                              | 3/12 [01:12<03:37, 24.19s/it]"
     ]
    },
    {
     "name": "stdout",
     "output_type": "stream",
     "text": [
      "Epoch [3/12], Training Loss: 0.0003, Validation Loss: 0.0003\n",
      "Validation loss decreased (0.000369 --> 0.000265).  Saving model ...\n",
      "Updating learning rate to 0.0008535533905932737\n"
     ]
    },
    {
     "name": "stderr",
     "output_type": "stream",
     "text": [
      "\r",
      " 33%|███████████████████████████▋                                                       | 4/12 [01:36<03:13, 24.14s/it]"
     ]
    },
    {
     "name": "stdout",
     "output_type": "stream",
     "text": [
      "Epoch [4/12], Training Loss: 0.0003, Validation Loss: 0.0003\n",
      "EarlyStopping counter: 1 out of 7\n",
      "Updating learning rate to 0.00075\n"
     ]
    },
    {
     "name": "stderr",
     "output_type": "stream",
     "text": [
      "\r",
      " 42%|██████████████████████████████████▌                                                | 5/12 [02:00<02:48, 24.11s/it]"
     ]
    },
    {
     "name": "stdout",
     "output_type": "stream",
     "text": [
      "Epoch [5/12], Training Loss: 0.0002, Validation Loss: 0.0002\n",
      "Validation loss decreased (0.000265 --> 0.000177).  Saving model ...\n",
      "Updating learning rate to 0.0006294095225512603\n"
     ]
    },
    {
     "name": "stderr",
     "output_type": "stream",
     "text": [
      "\r",
      " 50%|█████████████████████████████████████████▌                                         | 6/12 [02:26<02:26, 24.48s/it]"
     ]
    },
    {
     "name": "stdout",
     "output_type": "stream",
     "text": [
      "Epoch [6/12], Training Loss: 0.0002, Validation Loss: 0.0002\n",
      "Validation loss decreased (0.000177 --> 0.000175).  Saving model ...\n",
      "Updating learning rate to 0.0005\n"
     ]
    },
    {
     "name": "stderr",
     "output_type": "stream",
     "text": [
      "\r",
      " 58%|████████████████████████████████████████████████▍                                  | 7/12 [02:51<02:03, 24.74s/it]"
     ]
    },
    {
     "name": "stdout",
     "output_type": "stream",
     "text": [
      "Epoch [7/12], Training Loss: 0.0002, Validation Loss: 0.0001\n",
      "Validation loss decreased (0.000175 --> 0.000143).  Saving model ...\n",
      "Updating learning rate to 0.0003705904774487396\n"
     ]
    },
    {
     "name": "stderr",
     "output_type": "stream",
     "text": [
      "\r",
      " 67%|███████████████████████████████████████████████████████▎                           | 8/12 [03:15<01:38, 24.63s/it]"
     ]
    },
    {
     "name": "stdout",
     "output_type": "stream",
     "text": [
      "Epoch [8/12], Training Loss: 0.0002, Validation Loss: 0.0001\n",
      "Validation loss decreased (0.000143 --> 0.000141).  Saving model ...\n",
      "Updating learning rate to 0.0002500000000000001\n"
     ]
    },
    {
     "name": "stderr",
     "output_type": "stream",
     "text": [
      "\r",
      " 75%|██████████████████████████████████████████████████████████████▎                    | 9/12 [03:39<01:13, 24.38s/it]"
     ]
    },
    {
     "name": "stdout",
     "output_type": "stream",
     "text": [
      "Epoch [9/12], Training Loss: 0.0002, Validation Loss: 0.0002\n",
      "EarlyStopping counter: 1 out of 7\n",
      "Updating learning rate to 0.00014644660940672628\n"
     ]
    },
    {
     "name": "stderr",
     "output_type": "stream",
     "text": [
      "\r",
      " 83%|████████████████████████████████████████████████████████████████████▎             | 10/12 [04:03<00:48, 24.34s/it]"
     ]
    },
    {
     "name": "stdout",
     "output_type": "stream",
     "text": [
      "Epoch [10/12], Training Loss: 0.0001, Validation Loss: 0.0001\n",
      "Validation loss decreased (0.000141 --> 0.000132).  Saving model ...\n",
      "Updating learning rate to 6.698729810778065e-05\n"
     ]
    },
    {
     "name": "stderr",
     "output_type": "stream",
     "text": [
      "\r",
      " 92%|███████████████████████████████████████████████████████████████████████████▏      | 11/12 [04:27<00:24, 24.24s/it]"
     ]
    },
    {
     "name": "stdout",
     "output_type": "stream",
     "text": [
      "Epoch [11/12], Training Loss: 0.0001, Validation Loss: 0.0001\n",
      "Validation loss decreased (0.000132 --> 0.000128).  Saving model ...\n",
      "Updating learning rate to 1.70370868554659e-05\n"
     ]
    },
    {
     "name": "stderr",
     "output_type": "stream",
     "text": [
      "100%|██████████████████████████████████████████████████████████████████████████████████| 12/12 [04:51<00:00, 24.33s/it]"
     ]
    },
    {
     "name": "stdout",
     "output_type": "stream",
     "text": [
      "Epoch [12/12], Training Loss: 0.0001, Validation Loss: 0.0001\n",
      "Validation loss decreased (0.000128 --> 0.000125).  Saving model ...\n",
      "Updating learning rate to 0.0\n"
     ]
    },
    {
     "name": "stderr",
     "output_type": "stream",
     "text": [
      "\n",
      " 11%|█████████▏                                                                         | 1/9 [01:54<15:13, 114.13s/it]"
     ]
    },
    {
     "name": "stdout",
     "output_type": "stream",
     "text": [
      "Epoch [1/9], Training Loss: 0.0123, Validation Loss: 0.0012\n",
      "Validation loss decreased (inf --> 0.001224).  Saving model ...\n",
      "Updating learning rate to 0.0009698463103929542\n"
     ]
    },
    {
     "name": "stderr",
     "output_type": "stream",
     "text": [
      "\r",
      " 22%|██████████████████▍                                                                | 2/9 [03:48<13:19, 114.19s/it]"
     ]
    },
    {
     "name": "stdout",
     "output_type": "stream",
     "text": [
      "Epoch [2/9], Training Loss: 0.0008, Validation Loss: 0.0005\n",
      "Validation loss decreased (0.001224 --> 0.000487).  Saving model ...\n",
      "Updating learning rate to 0.000883022221559489\n"
     ]
    },
    {
     "name": "stderr",
     "output_type": "stream",
     "text": [
      "\r",
      " 33%|███████████████████████████▋                                                       | 3/9 [05:43<11:26, 114.46s/it]"
     ]
    },
    {
     "name": "stdout",
     "output_type": "stream",
     "text": [
      "Epoch [3/9], Training Loss: 0.0004, Validation Loss: 0.0004\n",
      "Validation loss decreased (0.000487 --> 0.000405).  Saving model ...\n",
      "Updating learning rate to 0.00075\n"
     ]
    },
    {
     "name": "stderr",
     "output_type": "stream",
     "text": [
      "\r",
      " 44%|████████████████████████████████████▉                                              | 4/9 [07:36<09:31, 114.20s/it]"
     ]
    },
    {
     "name": "stdout",
     "output_type": "stream",
     "text": [
      "Epoch [4/9], Training Loss: 0.0003, Validation Loss: 0.0003\n",
      "Validation loss decreased (0.000405 --> 0.000297).  Saving model ...\n",
      "Updating learning rate to 0.0005868240888334653\n"
     ]
    },
    {
     "name": "stderr",
     "output_type": "stream",
     "text": [
      "\r",
      " 56%|██████████████████████████████████████████████                                     | 5/9 [09:30<07:36, 114.12s/it]"
     ]
    },
    {
     "name": "stdout",
     "output_type": "stream",
     "text": [
      "Epoch [5/9], Training Loss: 0.0003, Validation Loss: 0.0002\n",
      "Validation loss decreased (0.000297 --> 0.000236).  Saving model ...\n",
      "Updating learning rate to 0.00041317591116653486\n"
     ]
    },
    {
     "name": "stderr",
     "output_type": "stream",
     "text": [
      "\r",
      " 67%|███████████████████████████████████████████████████████▎                           | 6/9 [11:24<05:41, 113.97s/it]"
     ]
    },
    {
     "name": "stdout",
     "output_type": "stream",
     "text": [
      "Epoch [6/9], Training Loss: 0.0002, Validation Loss: 0.0002\n",
      "Validation loss decreased (0.000236 --> 0.000198).  Saving model ...\n",
      "Updating learning rate to 0.0002500000000000001\n"
     ]
    },
    {
     "name": "stderr",
     "output_type": "stream",
     "text": [
      "\r",
      " 78%|████████████████████████████████████████████████████████████████▌                  | 7/9 [13:18<03:47, 113.91s/it]"
     ]
    },
    {
     "name": "stdout",
     "output_type": "stream",
     "text": [
      "Epoch [7/9], Training Loss: 0.0002, Validation Loss: 0.0002\n",
      "Validation loss decreased (0.000198 --> 0.000197).  Saving model ...\n",
      "Updating learning rate to 0.00011697777844051105\n"
     ]
    },
    {
     "name": "stderr",
     "output_type": "stream",
     "text": [
      "\r",
      " 89%|█████████████████████████████████████████████████████████████████████████▊         | 8/9 [15:12<01:54, 114.07s/it]"
     ]
    },
    {
     "name": "stdout",
     "output_type": "stream",
     "text": [
      "Epoch [8/9], Training Loss: 0.0002, Validation Loss: 0.0002\n",
      "Validation loss decreased (0.000197 --> 0.000169).  Saving model ...\n",
      "Updating learning rate to 3.0153689607045842e-05\n"
     ]
    },
    {
     "name": "stderr",
     "output_type": "stream",
     "text": [
      "100%|███████████████████████████████████████████████████████████████████████████████████| 9/9 [17:06<00:00, 114.02s/it]"
     ]
    },
    {
     "name": "stdout",
     "output_type": "stream",
     "text": [
      "Epoch [9/9], Training Loss: 0.0002, Validation Loss: 0.0002\n",
      "Validation loss decreased (0.000169 --> 0.000166).  Saving model ...\n",
      "Updating learning rate to 0.0\n"
     ]
    },
    {
     "name": "stderr",
     "output_type": "stream",
     "text": [
      "\n",
      "  5%|████▎                                                                              | 1/19 [00:17<05:06, 17.05s/it]"
     ]
    },
    {
     "name": "stdout",
     "output_type": "stream",
     "text": [
      "Epoch [1/19], Training Loss: 0.0089, Validation Loss: 0.0017\n",
      "Validation loss decreased (inf --> 0.001722).  Saving model ...\n",
      "Updating learning rate to 0.0009931806517013613\n"
     ]
    },
    {
     "name": "stderr",
     "output_type": "stream",
     "text": [
      "\r",
      " 11%|████████▋                                                                          | 2/19 [00:34<04:49, 17.04s/it]"
     ]
    },
    {
     "name": "stdout",
     "output_type": "stream",
     "text": [
      "Epoch [2/19], Training Loss: 0.0012, Validation Loss: 0.0010\n",
      "Validation loss decreased (0.001722 --> 0.000994).  Saving model ...\n",
      "Updating learning rate to 0.0009729086208503173\n"
     ]
    },
    {
     "name": "stderr",
     "output_type": "stream",
     "text": [
      "\r",
      " 16%|█████████████                                                                      | 3/19 [00:51<04:33, 17.08s/it]"
     ]
    },
    {
     "name": "stdout",
     "output_type": "stream",
     "text": [
      "Epoch [3/19], Training Loss: 0.0006, Validation Loss: 0.0005\n",
      "Validation loss decreased (0.000994 --> 0.000456).  Saving model ...\n",
      "Updating learning rate to 0.0009397368756032445\n"
     ]
    },
    {
     "name": "stderr",
     "output_type": "stream",
     "text": [
      "\r",
      " 21%|█████████████████▍                                                                 | 4/19 [01:08<04:16, 17.10s/it]"
     ]
    },
    {
     "name": "stdout",
     "output_type": "stream",
     "text": [
      "Epoch [4/19], Training Loss: 0.0004, Validation Loss: 0.0004\n",
      "Validation loss decreased (0.000456 --> 0.000379).  Saving model ...\n",
      "Updating learning rate to 0.0008945702546981969\n"
     ]
    },
    {
     "name": "stderr",
     "output_type": "stream",
     "text": [
      "\r",
      " 26%|█████████████████████▊                                                             | 5/19 [01:25<04:00, 17.20s/it]"
     ]
    },
    {
     "name": "stdout",
     "output_type": "stream",
     "text": [
      "Epoch [5/19], Training Loss: 0.0004, Validation Loss: 0.0003\n",
      "Validation loss decreased (0.000379 --> 0.000342).  Saving model ...\n",
      "Updating learning rate to 0.0008386407858128706\n"
     ]
    },
    {
     "name": "stderr",
     "output_type": "stream",
     "text": [
      "\r",
      " 32%|██████████████████████████▏                                                        | 6/19 [01:43<03:45, 17.32s/it]"
     ]
    },
    {
     "name": "stdout",
     "output_type": "stream",
     "text": [
      "Epoch [6/19], Training Loss: 0.0003, Validation Loss: 0.0003\n",
      "Validation loss decreased (0.000342 --> 0.000253).  Saving model ...\n",
      "Updating learning rate to 0.0007734740790612134\n"
     ]
    },
    {
     "name": "stderr",
     "output_type": "stream",
     "text": [
      "\r",
      " 37%|██████████████████████████████▌                                                    | 7/19 [02:00<03:27, 17.29s/it]"
     ]
    },
    {
     "name": "stdout",
     "output_type": "stream",
     "text": [
      "Epoch [7/19], Training Loss: 0.0003, Validation Loss: 0.0003\n",
      "EarlyStopping counter: 1 out of 7\n",
      "Updating learning rate to 0.0007008477123264848\n"
     ]
    },
    {
     "name": "stderr",
     "output_type": "stream",
     "text": [
      "\r",
      " 42%|██████████████████████████████████▉                                                | 8/19 [02:17<03:09, 17.27s/it]"
     ]
    },
    {
     "name": "stdout",
     "output_type": "stream",
     "text": [
      "Epoch [8/19], Training Loss: 0.0003, Validation Loss: 0.0003\n",
      "EarlyStopping counter: 2 out of 7\n",
      "Updating learning rate to 0.0006227427435703996\n"
     ]
    },
    {
     "name": "stderr",
     "output_type": "stream",
     "text": [
      "\r",
      " 47%|███████████████████████████████████████▎                                           | 9/19 [02:34<02:52, 17.24s/it]"
     ]
    },
    {
     "name": "stdout",
     "output_type": "stream",
     "text": [
      "Epoch [9/19], Training Loss: 0.0003, Validation Loss: 0.0002\n",
      "Validation loss decreased (0.000253 --> 0.000208).  Saving model ...\n",
      "Updating learning rate to 0.0005412896727361663\n"
     ]
    },
    {
     "name": "stderr",
     "output_type": "stream",
     "text": [
      "\r",
      " 53%|███████████████████████████████████████████▏                                      | 10/19 [02:52<02:35, 17.28s/it]"
     ]
    },
    {
     "name": "stdout",
     "output_type": "stream",
     "text": [
      "Epoch [10/19], Training Loss: 0.0002, Validation Loss: 0.0002\n",
      "EarlyStopping counter: 1 out of 7\n",
      "Updating learning rate to 0.0004587103272638339\n"
     ]
    },
    {
     "name": "stderr",
     "output_type": "stream",
     "text": [
      "\r",
      " 58%|███████████████████████████████████████████████▍                                  | 11/19 [03:09<02:19, 17.40s/it]"
     ]
    },
    {
     "name": "stdout",
     "output_type": "stream",
     "text": [
      "Epoch [11/19], Training Loss: 0.0002, Validation Loss: 0.0002\n",
      "Validation loss decreased (0.000208 --> 0.000192).  Saving model ...\n",
      "Updating learning rate to 0.00037725725642960046\n"
     ]
    },
    {
     "name": "stderr",
     "output_type": "stream",
     "text": [
      "\r",
      " 63%|███████████████████████████████████████████████████▊                              | 12/19 [03:27<02:01, 17.41s/it]"
     ]
    },
    {
     "name": "stdout",
     "output_type": "stream",
     "text": [
      "Epoch [12/19], Training Loss: 0.0002, Validation Loss: 0.0002\n",
      "EarlyStopping counter: 1 out of 7\n",
      "Updating learning rate to 0.0002991522876735154\n"
     ]
    },
    {
     "name": "stderr",
     "output_type": "stream",
     "text": [
      "\r",
      " 68%|████████████████████████████████████████████████████████                          | 13/19 [03:44<01:44, 17.37s/it]"
     ]
    },
    {
     "name": "stdout",
     "output_type": "stream",
     "text": [
      "Epoch [13/19], Training Loss: 0.0002, Validation Loss: 0.0002\n",
      "EarlyStopping counter: 2 out of 7\n",
      "Updating learning rate to 0.00022652592093878665\n"
     ]
    },
    {
     "name": "stderr",
     "output_type": "stream",
     "text": [
      "\r",
      " 74%|████████████████████████████████████████████████████████████▍                     | 14/19 [04:02<01:27, 17.43s/it]"
     ]
    },
    {
     "name": "stdout",
     "output_type": "stream",
     "text": [
      "Epoch [14/19], Training Loss: 0.0002, Validation Loss: 0.0002\n",
      "Validation loss decreased (0.000192 --> 0.000174).  Saving model ...\n",
      "Updating learning rate to 0.00016135921418712956\n"
     ]
    },
    {
     "name": "stderr",
     "output_type": "stream",
     "text": [
      "\r",
      " 79%|████████████████████████████████████████████████████████████████▋                 | 15/19 [04:19<01:09, 17.43s/it]"
     ]
    },
    {
     "name": "stdout",
     "output_type": "stream",
     "text": [
      "Epoch [15/19], Training Loss: 0.0002, Validation Loss: 0.0002\n",
      "EarlyStopping counter: 1 out of 7\n",
      "Updating learning rate to 0.00010542974530180327\n"
     ]
    },
    {
     "name": "stderr",
     "output_type": "stream",
     "text": [
      "\r",
      " 84%|█████████████████████████████████████████████████████████████████████             | 16/19 [04:36<00:52, 17.36s/it]"
     ]
    },
    {
     "name": "stdout",
     "output_type": "stream",
     "text": [
      "Epoch [16/19], Training Loss: 0.0002, Validation Loss: 0.0002\n",
      "Validation loss decreased (0.000174 --> 0.000166).  Saving model ...\n",
      "Updating learning rate to 6.026312439675552e-05\n"
     ]
    },
    {
     "name": "stderr",
     "output_type": "stream",
     "text": [
      "\r",
      " 89%|█████████████████████████████████████████████████████████████████████████▎        | 17/19 [04:54<00:34, 17.38s/it]"
     ]
    },
    {
     "name": "stdout",
     "output_type": "stream",
     "text": [
      "Epoch [17/19], Training Loss: 0.0002, Validation Loss: 0.0002\n",
      "Validation loss decreased (0.000166 --> 0.000157).  Saving model ...\n",
      "Updating learning rate to 2.709137914968268e-05\n"
     ]
    },
    {
     "name": "stderr",
     "output_type": "stream",
     "text": [
      "\r",
      " 95%|█████████████████████████████████████████████████████████████████████████████▋    | 18/19 [05:11<00:17, 17.31s/it]"
     ]
    },
    {
     "name": "stdout",
     "output_type": "stream",
     "text": [
      "Epoch [18/19], Training Loss: 0.0002, Validation Loss: 0.0002\n",
      "EarlyStopping counter: 1 out of 7\n",
      "Updating learning rate to 6.819348298638839e-06\n"
     ]
    },
    {
     "name": "stderr",
     "output_type": "stream",
     "text": [
      "100%|██████████████████████████████████████████████████████████████████████████████████| 19/19 [05:28<00:00, 17.30s/it]"
     ]
    },
    {
     "name": "stdout",
     "output_type": "stream",
     "text": [
      "Epoch [19/19], Training Loss: 0.0002, Validation Loss: 0.0002\n",
      "Validation loss decreased (0.000157 --> 0.000157).  Saving model ...\n",
      "Updating learning rate to 0.0\n"
     ]
    },
    {
     "name": "stderr",
     "output_type": "stream",
     "text": [
      "\n",
      "  8%|██████▉                                                                            | 1/12 [00:14<02:41, 14.68s/it]"
     ]
    },
    {
     "name": "stdout",
     "output_type": "stream",
     "text": [
      "Epoch [1/12], Training Loss: 0.0107, Validation Loss: 0.0012\n",
      "Validation loss decreased (inf --> 0.001228).  Saving model ...\n",
      "Updating learning rate to 0.0009829629131445341\n"
     ]
    },
    {
     "name": "stderr",
     "output_type": "stream",
     "text": [
      "\r",
      " 17%|█████████████▊                                                                     | 2/12 [00:29<02:26, 14.68s/it]"
     ]
    },
    {
     "name": "stdout",
     "output_type": "stream",
     "text": [
      "Epoch [2/12], Training Loss: 0.0008, Validation Loss: 0.0005\n",
      "Validation loss decreased (0.001228 --> 0.000473).  Saving model ...\n",
      "Updating learning rate to 0.0009330127018922195\n"
     ]
    },
    {
     "name": "stderr",
     "output_type": "stream",
     "text": [
      "\r",
      " 25%|████████████████████▊                                                              | 3/12 [00:43<02:11, 14.62s/it]"
     ]
    },
    {
     "name": "stdout",
     "output_type": "stream",
     "text": [
      "Epoch [3/12], Training Loss: 0.0005, Validation Loss: 0.0005\n",
      "EarlyStopping counter: 1 out of 7\n",
      "Updating learning rate to 0.0008535533905932737\n"
     ]
    },
    {
     "name": "stderr",
     "output_type": "stream",
     "text": [
      "\r",
      " 33%|███████████████████████████▋                                                       | 4/12 [00:58<01:56, 14.57s/it]"
     ]
    },
    {
     "name": "stdout",
     "output_type": "stream",
     "text": [
      "Epoch [4/12], Training Loss: 0.0004, Validation Loss: 0.0004\n",
      "Validation loss decreased (0.000473 --> 0.000415).  Saving model ...\n",
      "Updating learning rate to 0.00075\n"
     ]
    },
    {
     "name": "stderr",
     "output_type": "stream",
     "text": [
      "\r",
      " 42%|██████████████████████████████████▌                                                | 5/12 [01:12<01:41, 14.51s/it]"
     ]
    },
    {
     "name": "stdout",
     "output_type": "stream",
     "text": [
      "Epoch [5/12], Training Loss: 0.0004, Validation Loss: 0.0003\n",
      "Validation loss decreased (0.000415 --> 0.000294).  Saving model ...\n",
      "Updating learning rate to 0.0006294095225512603\n"
     ]
    },
    {
     "name": "stderr",
     "output_type": "stream",
     "text": [
      "\r",
      " 50%|█████████████████████████████████████████▌                                         | 6/12 [01:27<01:27, 14.60s/it]"
     ]
    },
    {
     "name": "stdout",
     "output_type": "stream",
     "text": [
      "Epoch [6/12], Training Loss: 0.0003, Validation Loss: 0.0003\n",
      "EarlyStopping counter: 1 out of 7\n",
      "Updating learning rate to 0.0005\n"
     ]
    },
    {
     "name": "stderr",
     "output_type": "stream",
     "text": [
      "\r",
      " 58%|████████████████████████████████████████████████▍                                  | 7/12 [01:41<01:12, 14.53s/it]"
     ]
    },
    {
     "name": "stdout",
     "output_type": "stream",
     "text": [
      "Epoch [7/12], Training Loss: 0.0003, Validation Loss: 0.0003\n",
      "Validation loss decreased (0.000294 --> 0.000282).  Saving model ...\n",
      "Updating learning rate to 0.0003705904774487396\n"
     ]
    },
    {
     "name": "stderr",
     "output_type": "stream",
     "text": [
      "\r",
      " 67%|███████████████████████████████████████████████████████▎                           | 8/12 [01:56<00:58, 14.54s/it]"
     ]
    },
    {
     "name": "stdout",
     "output_type": "stream",
     "text": [
      "Epoch [8/12], Training Loss: 0.0002, Validation Loss: 0.0002\n",
      "Validation loss decreased (0.000282 --> 0.000195).  Saving model ...\n",
      "Updating learning rate to 0.0002500000000000001\n"
     ]
    },
    {
     "name": "stderr",
     "output_type": "stream",
     "text": [
      "\r",
      " 75%|██████████████████████████████████████████████████████████████▎                    | 9/12 [02:10<00:43, 14.51s/it]"
     ]
    },
    {
     "name": "stdout",
     "output_type": "stream",
     "text": [
      "Epoch [9/12], Training Loss: 0.0002, Validation Loss: 0.0002\n",
      "Validation loss decreased (0.000195 --> 0.000191).  Saving model ...\n",
      "Updating learning rate to 0.00014644660940672628\n"
     ]
    },
    {
     "name": "stderr",
     "output_type": "stream",
     "text": [
      "\r",
      " 83%|████████████████████████████████████████████████████████████████████▎             | 10/12 [02:25<00:29, 14.53s/it]"
     ]
    },
    {
     "name": "stdout",
     "output_type": "stream",
     "text": [
      "Epoch [10/12], Training Loss: 0.0002, Validation Loss: 0.0002\n",
      "Validation loss decreased (0.000191 --> 0.000185).  Saving model ...\n",
      "Updating learning rate to 6.698729810778065e-05\n"
     ]
    },
    {
     "name": "stderr",
     "output_type": "stream",
     "text": [
      "\r",
      " 92%|███████████████████████████████████████████████████████████████████████████▏      | 11/12 [02:39<00:14, 14.50s/it]"
     ]
    },
    {
     "name": "stdout",
     "output_type": "stream",
     "text": [
      "Epoch [11/12], Training Loss: 0.0002, Validation Loss: 0.0002\n",
      "Validation loss decreased (0.000185 --> 0.000179).  Saving model ...\n",
      "Updating learning rate to 1.70370868554659e-05\n"
     ]
    },
    {
     "name": "stderr",
     "output_type": "stream",
     "text": [
      "100%|██████████████████████████████████████████████████████████████████████████████████| 12/12 [02:54<00:00, 14.53s/it]"
     ]
    },
    {
     "name": "stdout",
     "output_type": "stream",
     "text": [
      "Epoch [12/12], Training Loss: 0.0002, Validation Loss: 0.0002\n",
      "Validation loss decreased (0.000179 --> 0.000172).  Saving model ...\n",
      "Updating learning rate to 0.0\n",
      "第0次迭代\n"
     ]
    },
    {
     "name": "stderr",
     "output_type": "stream",
     "text": [
      "\n",
      " 20%|████████████████▊                                                                   | 1/5 [00:49<03:16, 49.04s/it]"
     ]
    },
    {
     "name": "stdout",
     "output_type": "stream",
     "text": [
      "Epoch [1/5], Training Loss: 0.0059, Validation Loss: 0.0005\n",
      "Validation loss decreased (inf --> 0.000542).  Saving model ...\n",
      "Updating learning rate to 0.0009045084971874737\n"
     ]
    },
    {
     "name": "stderr",
     "output_type": "stream",
     "text": [
      "\r",
      " 40%|█████████████████████████████████▌                                                  | 2/5 [01:38<02:27, 49.24s/it]"
     ]
    },
    {
     "name": "stdout",
     "output_type": "stream",
     "text": [
      "Epoch [2/5], Training Loss: 0.0005, Validation Loss: 0.0003\n",
      "Validation loss decreased (0.000542 --> 0.000278).  Saving model ...\n",
      "Updating learning rate to 0.0006545084971874737\n"
     ]
    },
    {
     "name": "stderr",
     "output_type": "stream",
     "text": [
      "\r",
      " 60%|██████████████████████████████████████████████████▍                                 | 3/5 [02:28<01:39, 49.62s/it]"
     ]
    },
    {
     "name": "stdout",
     "output_type": "stream",
     "text": [
      "Epoch [3/5], Training Loss: 0.0003, Validation Loss: 0.0003\n",
      "EarlyStopping counter: 1 out of 7\n",
      "Updating learning rate to 0.00034549150281252633\n"
     ]
    },
    {
     "name": "stderr",
     "output_type": "stream",
     "text": [
      "\r",
      " 80%|███████████████████████████████████████████████████████████████████▏                | 4/5 [03:18<00:49, 49.60s/it]"
     ]
    },
    {
     "name": "stdout",
     "output_type": "stream",
     "text": [
      "Epoch [4/5], Training Loss: 0.0002, Validation Loss: 0.0002\n",
      "Validation loss decreased (0.000278 --> 0.000233).  Saving model ...\n",
      "Updating learning rate to 9.549150281252633e-05\n"
     ]
    },
    {
     "name": "stderr",
     "output_type": "stream",
     "text": [
      "100%|████████████████████████████████████████████████████████████████████████████████████| 5/5 [04:07<00:00, 49.58s/it]"
     ]
    },
    {
     "name": "stdout",
     "output_type": "stream",
     "text": [
      "Epoch [5/5], Training Loss: 0.0002, Validation Loss: 0.0002\n",
      "Validation loss decreased (0.000233 --> 0.000175).  Saving model ...\n",
      "Updating learning rate to 0.0\n"
     ]
    },
    {
     "name": "stderr",
     "output_type": "stream",
     "text": [
      "\n",
      " 20%|████████████████▊                                                                   | 1/5 [01:00<04:00, 60.19s/it]"
     ]
    },
    {
     "name": "stdout",
     "output_type": "stream",
     "text": [
      "Epoch [1/5], Training Loss: 0.0032, Validation Loss: 0.0004\n",
      "Validation loss decreased (inf --> 0.000428).  Saving model ...\n",
      "Updating learning rate to 0.0009045084971874737\n"
     ]
    },
    {
     "name": "stderr",
     "output_type": "stream",
     "text": [
      "\r",
      " 40%|█████████████████████████████████▌                                                  | 2/5 [02:00<03:00, 60.31s/it]"
     ]
    },
    {
     "name": "stdout",
     "output_type": "stream",
     "text": [
      "Epoch [2/5], Training Loss: 0.0004, Validation Loss: 0.0003\n",
      "Validation loss decreased (0.000428 --> 0.000261).  Saving model ...\n",
      "Updating learning rate to 0.0006545084971874737\n"
     ]
    },
    {
     "name": "stderr",
     "output_type": "stream",
     "text": [
      "\r",
      " 60%|██████████████████████████████████████████████████▍                                 | 3/5 [03:00<02:00, 60.29s/it]"
     ]
    },
    {
     "name": "stdout",
     "output_type": "stream",
     "text": [
      "Epoch [3/5], Training Loss: 0.0003, Validation Loss: 0.0002\n",
      "Validation loss decreased (0.000261 --> 0.000213).  Saving model ...\n",
      "Updating learning rate to 0.00034549150281252633\n"
     ]
    },
    {
     "name": "stderr",
     "output_type": "stream",
     "text": [
      "\r",
      " 80%|███████████████████████████████████████████████████████████████████▏                | 4/5 [04:01<01:00, 60.51s/it]"
     ]
    },
    {
     "name": "stdout",
     "output_type": "stream",
     "text": [
      "Epoch [4/5], Training Loss: 0.0002, Validation Loss: 0.0002\n",
      "Validation loss decreased (0.000213 --> 0.000186).  Saving model ...\n",
      "Updating learning rate to 9.549150281252633e-05\n"
     ]
    },
    {
     "name": "stderr",
     "output_type": "stream",
     "text": [
      "100%|████████████████████████████████████████████████████████████████████████████████████| 5/5 [05:02<00:00, 60.47s/it]"
     ]
    },
    {
     "name": "stdout",
     "output_type": "stream",
     "text": [
      "Epoch [5/5], Training Loss: 0.0002, Validation Loss: 0.0002\n",
      "Validation loss decreased (0.000186 --> 0.000160).  Saving model ...\n",
      "Updating learning rate to 0.0\n"
     ]
    },
    {
     "name": "stderr",
     "output_type": "stream",
     "text": [
      "\n",
      " 20%|████████████████▊                                                                   | 1/5 [00:45<03:00, 45.14s/it]"
     ]
    },
    {
     "name": "stdout",
     "output_type": "stream",
     "text": [
      "Epoch [1/5], Training Loss: 0.0063, Validation Loss: 0.0006\n",
      "Validation loss decreased (inf --> 0.000590).  Saving model ...\n",
      "Updating learning rate to 0.0009045084971874737\n"
     ]
    },
    {
     "name": "stderr",
     "output_type": "stream",
     "text": [
      "\r",
      " 40%|█████████████████████████████████▌                                                  | 2/5 [01:29<02:14, 44.92s/it]"
     ]
    },
    {
     "name": "stdout",
     "output_type": "stream",
     "text": [
      "Epoch [2/5], Training Loss: 0.0005, Validation Loss: 0.0004\n",
      "Validation loss decreased (0.000590 --> 0.000355).  Saving model ...\n",
      "Updating learning rate to 0.0006545084971874737\n"
     ]
    },
    {
     "name": "stderr",
     "output_type": "stream",
     "text": [
      "\r",
      " 60%|██████████████████████████████████████████████████▍                                 | 3/5 [02:14<01:29, 44.88s/it]"
     ]
    },
    {
     "name": "stdout",
     "output_type": "stream",
     "text": [
      "Epoch [3/5], Training Loss: 0.0003, Validation Loss: 0.0003\n",
      "Validation loss decreased (0.000355 --> 0.000321).  Saving model ...\n",
      "Updating learning rate to 0.00034549150281252633\n"
     ]
    },
    {
     "name": "stderr",
     "output_type": "stream",
     "text": [
      "\r",
      " 80%|███████████████████████████████████████████████████████████████████▏                | 4/5 [02:59<00:44, 44.86s/it]"
     ]
    },
    {
     "name": "stdout",
     "output_type": "stream",
     "text": [
      "Epoch [4/5], Training Loss: 0.0003, Validation Loss: 0.0003\n",
      "Validation loss decreased (0.000321 --> 0.000261).  Saving model ...\n",
      "Updating learning rate to 9.549150281252633e-05\n"
     ]
    },
    {
     "name": "stderr",
     "output_type": "stream",
     "text": [
      "100%|████████████████████████████████████████████████████████████████████████████████████| 5/5 [03:44<00:00, 44.94s/it]"
     ]
    },
    {
     "name": "stdout",
     "output_type": "stream",
     "text": [
      "Epoch [5/5], Training Loss: 0.0002, Validation Loss: 0.0002\n",
      "Validation loss decreased (0.000261 --> 0.000202).  Saving model ...\n",
      "Updating learning rate to 0.0\n"
     ]
    },
    {
     "name": "stderr",
     "output_type": "stream",
     "text": [
      "\n",
      " 20%|████████████████▊                                                                   | 1/5 [00:08<00:33,  8.37s/it]"
     ]
    },
    {
     "name": "stdout",
     "output_type": "stream",
     "text": [
      "Epoch [1/5], Training Loss: 0.0078, Validation Loss: 0.0015\n",
      "Validation loss decreased (inf --> 0.001462).  Saving model ...\n",
      "Updating learning rate to 0.0009045084971874737\n"
     ]
    },
    {
     "name": "stderr",
     "output_type": "stream",
     "text": [
      "\r",
      " 40%|█████████████████████████████████▌                                                  | 2/5 [00:16<00:25,  8.35s/it]"
     ]
    },
    {
     "name": "stdout",
     "output_type": "stream",
     "text": [
      "Epoch [2/5], Training Loss: 0.0009, Validation Loss: 0.0006\n",
      "Validation loss decreased (0.001462 --> 0.000571).  Saving model ...\n",
      "Updating learning rate to 0.0006545084971874737\n"
     ]
    },
    {
     "name": "stderr",
     "output_type": "stream",
     "text": [
      "\r",
      " 60%|██████████████████████████████████████████████████▍                                 | 3/5 [00:25<00:16,  8.42s/it]"
     ]
    },
    {
     "name": "stdout",
     "output_type": "stream",
     "text": [
      "Epoch [3/5], Training Loss: 0.0006, Validation Loss: 0.0006\n",
      "EarlyStopping counter: 1 out of 7\n",
      "Updating learning rate to 0.00034549150281252633\n"
     ]
    },
    {
     "name": "stderr",
     "output_type": "stream",
     "text": [
      "\r",
      " 80%|███████████████████████████████████████████████████████████████████▏                | 4/5 [00:33<00:08,  8.42s/it]"
     ]
    },
    {
     "name": "stdout",
     "output_type": "stream",
     "text": [
      "Epoch [4/5], Training Loss: 0.0004, Validation Loss: 0.0003\n",
      "Validation loss decreased (0.000571 --> 0.000342).  Saving model ...\n",
      "Updating learning rate to 9.549150281252633e-05\n"
     ]
    },
    {
     "name": "stderr",
     "output_type": "stream",
     "text": [
      "100%|████████████████████████████████████████████████████████████████████████████████████| 5/5 [00:41<00:00,  8.39s/it]"
     ]
    },
    {
     "name": "stdout",
     "output_type": "stream",
     "text": [
      "Epoch [5/5], Training Loss: 0.0003, Validation Loss: 0.0003\n",
      "Validation loss decreased (0.000342 --> 0.000305).  Saving model ...\n",
      "Updating learning rate to 0.0\n"
     ]
    },
    {
     "name": "stderr",
     "output_type": "stream",
     "text": [
      "\n",
      "  5%|████                                                                            | 1/20 [06:41<2:07:05, 401.36s/it]"
     ]
    },
    {
     "name": "stdout",
     "output_type": "stream",
     "text": [
      "Epoch [1/20], Training Loss: 0.0043, Validation Loss: 0.0004\n",
      "Validation loss decreased (inf --> 0.000367).  Saving model ...\n",
      "Updating learning rate to 0.0009938441702975688\n"
     ]
    },
    {
     "name": "stderr",
     "output_type": "stream",
     "text": [
      "\r",
      " 10%|████████                                                                        | 2/20 [13:22<2:00:19, 401.09s/it]"
     ]
    },
    {
     "name": "stdout",
     "output_type": "stream",
     "text": [
      "Epoch [2/20], Training Loss: 0.0004, Validation Loss: 0.0003\n",
      "Validation loss decreased (0.000367 --> 0.000290).  Saving model ...\n",
      "Updating learning rate to 0.0009755282581475768\n"
     ]
    },
    {
     "name": "stderr",
     "output_type": "stream",
     "text": [
      "\r",
      " 15%|████████████                                                                    | 3/20 [20:03<1:53:43, 401.37s/it]"
     ]
    },
    {
     "name": "stdout",
     "output_type": "stream",
     "text": [
      "Epoch [3/20], Training Loss: 0.0003, Validation Loss: 0.0002\n",
      "Validation loss decreased (0.000290 --> 0.000219).  Saving model ...\n",
      "Updating learning rate to 0.0009455032620941839\n"
     ]
    },
    {
     "name": "stderr",
     "output_type": "stream",
     "text": [
      "\r",
      " 20%|████████████████                                                                | 4/20 [26:46<1:47:09, 401.87s/it]"
     ]
    },
    {
     "name": "stdout",
     "output_type": "stream",
     "text": [
      "Epoch [4/20], Training Loss: 0.0003, Validation Loss: 0.0003\n",
      "EarlyStopping counter: 1 out of 7\n",
      "Updating learning rate to 0.0009045084971874737\n"
     ]
    },
    {
     "name": "stderr",
     "output_type": "stream",
     "text": [
      "\r",
      " 25%|████████████████████                                                            | 5/20 [33:29<1:40:34, 402.32s/it]"
     ]
    },
    {
     "name": "stdout",
     "output_type": "stream",
     "text": [
      "Epoch [5/20], Training Loss: 0.0003, Validation Loss: 0.0002\n",
      "EarlyStopping counter: 2 out of 7\n",
      "Updating learning rate to 0.0008535533905932737\n"
     ]
    },
    {
     "name": "stderr",
     "output_type": "stream",
     "text": [
      "\r",
      " 30%|████████████████████████                                                        | 6/20 [40:15<1:34:09, 403.57s/it]"
     ]
    },
    {
     "name": "stdout",
     "output_type": "stream",
     "text": [
      "Epoch [6/20], Training Loss: 0.0002, Validation Loss: 0.0002\n",
      "EarlyStopping counter: 3 out of 7\n",
      "Updating learning rate to 0.0007938926261462366\n"
     ]
    },
    {
     "name": "stderr",
     "output_type": "stream",
     "text": [
      "\r",
      " 35%|████████████████████████████                                                    | 7/20 [46:08<1:23:52, 387.08s/it]"
     ]
    },
    {
     "name": "stdout",
     "output_type": "stream",
     "text": [
      "Epoch [7/20], Training Loss: 0.0002, Validation Loss: 0.0002\n",
      "Validation loss decreased (0.000219 --> 0.000212).  Saving model ...\n",
      "Updating learning rate to 0.0007269952498697733\n"
     ]
    },
    {
     "name": "stderr",
     "output_type": "stream",
     "text": [
      "\r",
      " 40%|████████████████████████████████                                                | 8/20 [51:56<1:14:54, 374.55s/it]"
     ]
    },
    {
     "name": "stdout",
     "output_type": "stream",
     "text": [
      "Epoch [8/20], Training Loss: 0.0002, Validation Loss: 0.0002\n",
      "Validation loss decreased (0.000212 --> 0.000163).  Saving model ...\n",
      "Updating learning rate to 0.0006545084971874737\n"
     ]
    },
    {
     "name": "stderr",
     "output_type": "stream",
     "text": [
      "\r",
      " 45%|████████████████████████████████████                                            | 9/20 [57:44<1:07:09, 366.32s/it]"
     ]
    },
    {
     "name": "stdout",
     "output_type": "stream",
     "text": [
      "Epoch [9/20], Training Loss: 0.0002, Validation Loss: 0.0001\n",
      "Validation loss decreased (0.000163 --> 0.000148).  Saving model ...\n",
      "Updating learning rate to 0.0005782172325201155\n"
     ]
    },
    {
     "name": "stderr",
     "output_type": "stream",
     "text": [
      "\r",
      " 50%|██████████████████████████████████████▌                                      | 10/20 [1:03:31<1:00:03, 360.38s/it]"
     ]
    },
    {
     "name": "stdout",
     "output_type": "stream",
     "text": [
      "Epoch [10/20], Training Loss: 0.0002, Validation Loss: 0.0001\n",
      "Validation loss decreased (0.000148 --> 0.000126).  Saving model ...\n",
      "Updating learning rate to 0.0005\n"
     ]
    },
    {
     "name": "stderr",
     "output_type": "stream",
     "text": [
      "\r",
      " 55%|███████████████████████████████████████████▍                                   | 11/20 [1:09:20<53:31, 356.80s/it]"
     ]
    },
    {
     "name": "stdout",
     "output_type": "stream",
     "text": [
      "Epoch [11/20], Training Loss: 0.0002, Validation Loss: 0.0001\n",
      "EarlyStopping counter: 1 out of 7\n",
      "Updating learning rate to 0.0004217827674798845\n"
     ]
    },
    {
     "name": "stderr",
     "output_type": "stream",
     "text": [
      "\r",
      " 60%|███████████████████████████████████████████████▍                               | 12/20 [1:15:08<47:11, 353.98s/it]"
     ]
    },
    {
     "name": "stdout",
     "output_type": "stream",
     "text": [
      "Epoch [12/20], Training Loss: 0.0001, Validation Loss: 0.0001\n",
      "EarlyStopping counter: 2 out of 7\n",
      "Updating learning rate to 0.00034549150281252633\n"
     ]
    },
    {
     "name": "stderr",
     "output_type": "stream",
     "text": [
      "\r",
      " 65%|███████████████████████████████████████████████████▎                           | 13/20 [1:20:56<41:06, 352.38s/it]"
     ]
    },
    {
     "name": "stdout",
     "output_type": "stream",
     "text": [
      "Epoch [13/20], Training Loss: 0.0001, Validation Loss: 0.0001\n",
      "EarlyStopping counter: 3 out of 7\n",
      "Updating learning rate to 0.00027300475013022663\n"
     ]
    }
   ],
   "source": [
    "import WOA # 加载本地鲸鱼优化算法\n",
    "\n",
    "# 构造参数字典\n",
    "woa_args = {\n",
    "    \"pop\": 20, # 种群数量，需遍历\n",
    "    \"dim\": 6, # 优化参数维度\n",
    "    \"lb\": np.array([3, 1, 16, 5, 128, 1]), # 下边界，分别为滞后量、预测维度、批量大小、迭代次数、隐藏层维度、隐藏层数\n",
    "    \"ub\": np.array([20, 3, 64, 20, 1024, 3]), # 上边界，分别为滞后量、预测维度、批量大小、迭代次数、隐藏层维度、隐藏层数\n",
    "    \"fun\": fitness, # 适应度函数，最小化问题\n",
    "    \"MaxIter\": 5, # 最大迭代次数，需遍历\n",
    "}\n",
    "\n",
    "#函数传参，运行次数：pop*MaxIter*n_epochs\n",
    "GbestScore,GbestPositon,Curve = WOA.WOA(**woa_args)"
   ]
  },
  {
   "cell_type": "code",
   "execution_count": 14,
   "id": "27709d8e",
   "metadata": {
    "ExecuteTime": {
     "end_time": "2024-01-13T00:40:59.577149Z",
     "start_time": "2024-01-13T00:40:59.571569Z"
    }
   },
   "outputs": [
    {
     "name": "stdout",
     "output_type": "stream",
     "text": [
      "最优适应度值： [0.]\n",
      "最优解[滞后量]： 20\n",
      "最优解[批量大小]： 41\n",
      "最优解[学习率]： 0.01\n",
      "最优解[迭代次数]： 11\n",
      "最优解[隐藏层数]： 19\n"
     ]
    }
   ],
   "source": [
    "x1, x2, x3, x4, x5, x6 = GbestPositon[0]\n",
    "print('最优适应度值：',GbestScore)\n",
    "print('最优解[滞后量]：', int(x1))\n",
    "print('最优解[预测维度]：', int(x2))\n",
    "print('最优解[批量大小]：', int(x3))\n",
    "print('最优解[迭代次数]：', int(x4))\n",
    "print('最优解[隐藏层维度]：', int(x5))\n",
    "print('最优解[隐藏层数]：', int(x6))"
   ]
  },
  {
   "cell_type": "code",
   "execution_count": 15,
   "id": "54b3ee5b",
   "metadata": {
    "ExecuteTime": {
     "end_time": "2024-01-13T00:41:19.158114Z",
     "start_time": "2024-01-13T00:41:18.991168Z"
    }
   },
   "outputs": [
    {
     "data": {
      "image/png": "[encoded data removed]",
      "text/plain": [
       "<Figure size 640x480 with 1 Axes>"
      ]
     },
     "metadata": {},
     "output_type": "display_data"
    }
   ],
   "source": [
    "#绘制适应度曲线\n",
    "plt.figure(1)\n",
    "plt.plot(Curve,'r-',linewidth=2)\n",
    "plt.xlabel('Iteration',fontsize='medium')\n",
    "plt.ylabel(\"Fitness\",fontsize='medium')\n",
    "plt.grid()\n",
    "plt.title('WOA',fontsize='large')\n",
    "plt.show()"
   ]
  },
  {
   "cell_type": "markdown",
   "id": "d1b01320",
   "metadata": {},
   "source": [
    "### 遗传算法"
   ]
  },
  {
   "cell_type": "code",
   "execution_count": 34,
   "id": "a32949e3",
   "metadata": {
    "ExecuteTime": {
     "end_time": "2024-01-13T06:38:20.852293Z",
     "start_time": "2024-01-13T04:47:43.567083Z"
    }
   },
   "outputs": [
    {
     "name": "stdout",
     "output_type": "stream",
     "text": [
      "size_pop: 10, Lind: [28 29 17 28 28]\n"
     ]
    }
   ],
   "source": [
    "from sko.GA import GA\n",
    "\n",
    "# 构造参数字典\n",
    "ga_args = {\n",
    "    \"func\": fitness, # 适应度函数，最小化问题\n",
    "    \"n_dim\": 6, # 优化参数维度\n",
    "    \"lb\": [3, 1, 16, 5, 128, 1], # 下边界，分别为滞后量、预测维度、批量大小、迭代次数、隐藏层维度、隐藏层数\n",
    "    \"ub\": [20, 3, 64, 20, 1024, 3], # 上边界，分别为滞后量、预测维度、批量大小、迭代次数、隐藏层维度、隐藏层数\n",
    "    \"size_pop\": 10, \n",
    "    \"max_iter\": 20, # 最大迭代次数，需遍历\n",
    "    \"prob_mut\": 0.001,\n",
    "    \"precision\": 1e-7\n",
    "}\n",
    "\n",
    "#函数传参，运行次数：size_pop*max_iter*n_epochs\n",
    "ga = GA(**ga_args)\n",
    "\n",
    "# 执行优化程序\n",
    "best_x, best_y = ga.run()"
   ]
  },
  {
   "cell_type": "code",
   "execution_count": 35,
   "id": "50c7ef4d",
   "metadata": {
    "ExecuteTime": {
     "end_time": "2024-01-13T06:54:45.840314Z",
     "start_time": "2024-01-13T06:54:45.834237Z"
    }
   },
   "outputs": [
    {
     "name": "stdout",
     "output_type": "stream",
     "text": [
      "最优适应度值： [0.]\n",
      "最优解[滞后量]： 9\n",
      "最优解[批量大小]： 38\n",
      "最优解[学习率]： 0.0041612027069298325\n",
      "最优解[迭代次数]： 17\n",
      "最优解[隐藏层数]： 17\n"
     ]
    }
   ],
   "source": [
    "x1, x2, x3, x4, x5, x6 = best_x\n",
    "print('最优适应度值：',best_y)\n",
    "print('最优解[滞后量]：', int(x1))\n",
    "print('最优解[预测维度]：', int(x2))\n",
    "print('最优解[批量大小]：', int(x3))\n",
    "print('最优解[迭代次数]：', int(x4))\n",
    "print('最优解[隐藏层维度]：', int(x5))\n",
    "print('最优解[隐藏层数]：', int(x6))"
   ]
  },
  {
   "cell_type": "code",
   "execution_count": 39,
   "id": "0f90aa16",
   "metadata": {
    "ExecuteTime": {
     "end_time": "2024-01-13T06:55:38.134971Z",
     "start_time": "2024-01-13T06:55:37.993237Z"
    }
   },
   "outputs": [
    {
     "data": {
      "image/png": "[encoded data removed]",
      "text/plain": [
       "<Figure size 640x440 with 1 Axes>"
      ]
     },
     "metadata": {},
     "output_type": "display_data"
    }
   ],
   "source": [
    "#绘制适应度曲线\n",
    "Y_history = pd.DataFrame(ga.all_history_Y)\n",
    "plt.figure(1)\n",
    "plt.plot(Y_history.min(axis=1).cummin(),'r-',linewidth=2)\n",
    "plt.xlabel('Iteration',fontsize='medium')\n",
    "plt.ylabel(\"Fitness\",fontsize='medium')\n",
    "plt.grid()\n",
    "plt.title('GA',fontsize='large')\n",
    "plt.show()"
   ]
  },
  {
   "cell_type": "markdown",
   "id": "3ea826c9",
   "metadata": {},
   "source": [
    "### 麻雀搜索算法"
   ]
  },
  {
   "cell_type": "code",
   "execution_count": 58,
   "id": "be72b333",
   "metadata": {
    "ExecuteTime": {
     "end_time": "2024-01-13T08:35:02.913426Z",
     "start_time": "2024-01-13T07:17:29.244785Z"
    }
   },
   "outputs": [
    {
     "name": "stdout",
     "output_type": "stream",
     "text": [
      "第0次迭代\n",
      "第1次迭代\n",
      "第2次迭代\n",
      "第3次迭代\n",
      "第4次迭代\n"
     ]
    }
   ],
   "source": [
    "import SSA # 加载本地算法\n",
    "\n",
    "# 构造参数字典\n",
    "ssa_args = {\n",
    "    \"pop\": 10, # 种群数量，需遍历\n",
    "    \"dim\": 6, # 优化参数维度\n",
    "    \"lb\": np.array([3, 1, 16, 5, 128, 1]), # 下边界，分别为滞后量、预测维度、批量大小、迭代次数、隐藏层维度、隐藏层数\n",
    "    \"ub\": np.array([20, 3, 64, 20, 1024, 3]), # 上边界，分别为滞后量、预测维度、批量大小、迭代次数、隐藏层维度、隐藏层数\n",
    "    \"fun\": fitness, # 适应度函数，最小化问题\n",
    "    \"Max_iter\": 5, # 最大迭代次数，需遍历\n",
    "}\n",
    "\n",
    "#函数传参，运行次数：pop*Max_iter*n_epochs\n",
    "GbestScore, GbestPositon, Curve = SSA.SSA(**ssa_args)"
   ]
  },
  {
   "cell_type": "code",
   "execution_count": 59,
   "id": "7507ea33",
   "metadata": {
    "ExecuteTime": {
     "end_time": "2024-01-13T08:36:17.143234Z",
     "start_time": "2024-01-13T08:36:17.137306Z"
    }
   },
   "outputs": [
    {
     "name": "stdout",
     "output_type": "stream",
     "text": [
      "最优适应度值： [0.]\n",
      "最优解[滞后量]： 11\n",
      "最优解[批量大小]： 30\n",
      "最优解[学习率]： 0.003897927868600384\n",
      "最优解[迭代次数]： 18\n",
      "最优解[隐藏层数]： 21\n"
     ]
    }
   ],
   "source": [
    "x1, x2, x3, x4, x5, x6 = GbestPositon[0]\n",
    "print('最优适应度值：',GbestScore)\n",
    "print('最优解[滞后量]：', int(x1))\n",
    "print('最优解[预测维度]：', int(x2))\n",
    "print('最优解[批量大小]：', int(x3))\n",
    "print('最优解[迭代次数]：', int(x4))\n",
    "print('最优解[隐藏层维度]：', int(x5))\n",
    "print('最优解[隐藏层数]：', int(x6))"
   ]
  },
  {
   "cell_type": "code",
   "execution_count": 61,
   "id": "42b124e7",
   "metadata": {
    "ExecuteTime": {
     "end_time": "2024-01-13T08:36:33.808785Z",
     "start_time": "2024-01-13T08:36:33.685456Z"
    }
   },
   "outputs": [
    {
     "data": {
      "image/png": "[encoded data removed]",
      "text/plain": [
       "<Figure size 640x440 with 1 Axes>"
      ]
     },
     "metadata": {},
     "output_type": "display_data"
    }
   ],
   "source": [
    "#绘制适应度曲线\n",
    "plt.figure(1)\n",
    "plt.plot(Curve,'r-',linewidth=2)\n",
    "# 设置X轴刻度为整数\n",
    "plt.locator_params(axis='x', integer=True)\n",
    "plt.xlabel('Iteration',fontsize='medium')\n",
    "plt.ylabel(\"Fitness\",fontsize='medium')\n",
    "plt.grid()\n",
    "plt.title('SSA',fontsize='large')\n",
    "plt.show()"
   ]
  },
  {
   "cell_type": "code",
   "execution_count": null,
   "id": "a4a21d54",
   "metadata": {},
   "outputs": [],
   "source": []
  }
 ],
 "metadata": {
  "hide_input": false,
  "kernelspec": {
   "display_name": "Python 3 (ipykernel)",
   "language": "python",
   "name": "python3"
  },
  "language_info": {
   "codemirror_mode": {
    "name": "ipython",
    "version": 3
   },
   "file_extension": ".py",
   "mimetype": "text/x-python",
   "name": "python",
   "nbconvert_exporter": "python",
   "pygments_lexer": "ipython3",
   "version": "3.11.5"
  },
  "toc": {
   "base_numbering": 1,
   "nav_menu": {},
   "number_sections": true,
   "sideBar": true,
   "skip_h1_title": false,
   "title_cell": "Table of Contents",
   "title_sidebar": "Contents",
   "toc_cell": false,
   "toc_position": {
    "height": "calc(100% - 180px)",
    "left": "10px",
    "top": "150px",
    "width": "226.667px"
   },
   "toc_section_display": true,
   "toc_window_display": true
  },
  "varInspector": {
   "cols": {
    "lenName": 16,
    "lenType": 16,
    "lenVar": 40
   },
   "kernels_config": {
    "python": {
     "delete_cmd_postfix": "",
     "delete_cmd_prefix": "del ",
     "library": "var_list.py",
     "varRefreshCmd": "print(var_dic_list())"
    },
    "r": {
     "delete_cmd_postfix": ") ",
     "delete_cmd_prefix": "rm(",
     "library": "var_list.r",
     "varRefreshCmd": "cat(var_dic_list()) "
    }
   },
   "types_to_exclude": [
    "module",
    "function",
    "builtin_function_or_method",
    "instance",
    "_Feature"
   ],
   "window_display": false
  }
 },
 "nbformat": 4,
 "nbformat_minor": 5
}
