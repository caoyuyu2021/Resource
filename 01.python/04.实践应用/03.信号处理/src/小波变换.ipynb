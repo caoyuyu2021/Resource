{
 "cells": [
  {
   "cell_type": "markdown",
   "id": "9884dbca",
   "metadata": {},
   "source": [
    "# 基本知识"
   ]
  },
  {
   "cell_type": "markdown",
   "id": "c14f4b95",
   "metadata": {},
   "source": [
    "小波变换（Wavelet Transform）是一种在信号处理和图像处理领域广泛使用的数学工具。它的主要优点之一是能够在时域和频域上提供局部信息，相比于傅里叶变换等其他方法，**小波变换更适合分析非平稳信号**。\n",
    "\n",
    "小波变换使用一组小波函数，这些小波函数是通过对母小波函数进行平移和伸缩得到的。小波变换可以分为连续小波变换（Continuous Wavelet Transform，CWT）和离散小波变换（Discrete Wavelet Transform，DWT）两种主要类型。\n",
    "\n",
    "- 连续小波变换（CWT）： 连续小波变换对信号进行连续的平移和伸缩操作，从而得到在不同尺度和位置上的小波系数。这种变换在某些应用中提供了更精细的频率和时域信息。\n",
    "\n",
    "- 离散小波变换（DWT）： 离散小波变换是通过对信号进行多尺度分解和重构来实现的。DWT 使用一组离散的小波函数，通过级联地将信号分解为低频和高频成分，然后可以通过逆变换重构原始信号。\n",
    "\n",
    "小波变换在信号压缩、图像处理、数据压缩、特征提取等领域有广泛的应用。它可以帮助分析信号的局部特性，并在处理**非平稳信号**时具有一定的优势。"
   ]
  },
  {
   "cell_type": "code",
   "execution_count": null,
   "id": "a157e0d1",
   "metadata": {},
   "outputs": [],
   "source": []
  }
 ],
 "metadata": {
  "hide_input": false,
  "kernelspec": {
   "display_name": "Python 3 (ipykernel)",
   "language": "python",
   "name": "python3"
  },
  "language_info": {
   "codemirror_mode": {
    "name": "ipython",
    "version": 3
   },
   "file_extension": ".py",
   "mimetype": "text/x-python",
   "name": "python",
   "nbconvert_exporter": "python",
   "pygments_lexer": "ipython3",
   "version": "3.11.5"
  },
  "toc": {
   "base_numbering": 1,
   "nav_menu": {},
   "number_sections": true,
   "sideBar": true,
   "skip_h1_title": false,
   "title_cell": "Table of Contents",
   "title_sidebar": "Contents",
   "toc_cell": false,
   "toc_position": {
    "height": "calc(100% - 180px)",
    "left": "10px",
    "top": "150px",
    "width": "232.667px"
   },
   "toc_section_display": true,
   "toc_window_display": true
  },
  "varInspector": {
   "cols": {
    "lenName": 16,
    "lenType": 16,
    "lenVar": 40
   },
   "kernels_config": {
    "python": {
     "delete_cmd_postfix": "",
     "delete_cmd_prefix": "del ",
     "library": "var_list.py",
     "varRefreshCmd": "print(var_dic_list())"
    },
    "r": {
     "delete_cmd_postfix": ") ",
     "delete_cmd_prefix": "rm(",
     "library": "var_list.r",
     "varRefreshCmd": "cat(var_dic_list()) "
    }
   },
   "types_to_exclude": [
    "module",
    "function",
    "builtin_function_or_method",
    "instance",
    "_Feature"
   ],
   "window_display": false
  }
 },
 "nbformat": 4,
 "nbformat_minor": 5
}
