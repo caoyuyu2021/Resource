{
 "cells": [
  {
   "cell_type": "markdown",
   "id": "c200cd90",
   "metadata": {},
   "source": [
    "# GAN（生成对抗式网络）"
   ]
  },
  {
   "cell_type": "code",
   "execution_count": 274,
   "id": "b01335a0",
   "metadata": {
    "ExecuteTime": {
     "end_time": "2024-01-08T08:43:41.101206Z",
     "start_time": "2024-01-08T08:43:40.618206Z"
    }
   },
   "outputs": [],
   "source": [
    "import datetime as dt\n",
    "import os\n",
    "import warnings\n",
    "from collections import UserDict\n",
    "from tqdm import tqdm # 打印进度条\n",
    "\n",
    "import matplotlib.pyplot as plt\n",
    "import seaborn as sns\n",
    "import numpy as np\n",
    "import pandas as pd\n",
    "from IPython.display import Image\n",
    "from sklearn.preprocessing import MinMaxScaler\n",
    "\n",
    "import torch\n",
    "import torch.nn as nn\n",
    "import torch.optim as optim\n",
    "import torch.utils.data as data\n",
    "from sklearn.model_selection import train_test_split\n",
    "\n",
    "# 两种绘图接口\n",
    "import plotly_express as px  \n",
    "import plotly.graph_objects as go\n",
    "\n",
    "%matplotlib inline\n",
    "\n",
    "warnings.filterwarnings(\"ignore\")\n",
    "pd.options.display.float_format = \"{:,.2f}\".format\n",
    "np.set_printoptions(precision=2)"
   ]
  },
  {
   "cell_type": "markdown",
   "id": "8dcade2e",
   "metadata": {},
   "source": [
    "## GAN基本概念"
   ]
  },
  {
   "cell_type": "markdown",
   "id": "6f4137ff",
   "metadata": {},
   "source": [
    "GAN的全称是Generative adversarial network，中文翻译过来就是生成对抗网络。生成对抗网络其实是两个网络的组合：生成网络（Generator）负责生成模拟数据；判别网络Discriminator）负责判断输入的数据是真实的还是生成的。生成网络要不断优化自己生成的数据让判别网络判断不出来，判别网络也要优化自己让自己判断得更准确。二者关系形成对抗，因此叫对抗网络。"
   ]
  },
  {
   "cell_type": "markdown",
   "id": "698c5a7b",
   "metadata": {},
   "source": [
    "# VAE（变分自编码器）"
   ]
  },
  {
   "cell_type": "markdown",
   "id": "56536cbe",
   "metadata": {},
   "source": [
    "## 数据准备"
   ]
  },
  {
   "cell_type": "code",
   "execution_count": 246,
   "id": "b9f09f36",
   "metadata": {
    "ExecuteTime": {
     "end_time": "2024-01-08T08:29:20.473808Z",
     "start_time": "2024-01-08T08:29:20.421791Z"
    }
   },
   "outputs": [
    {
     "data": {
      "text/html": [
       "<div>\n",
       "<style scoped>\n",
       "    .dataframe tbody tr th:only-of-type {\n",
       "        vertical-align: middle;\n",
       "    }\n",
       "\n",
       "    .dataframe tbody tr th {\n",
       "        vertical-align: top;\n",
       "    }\n",
       "\n",
       "    .dataframe thead th {\n",
       "        text-align: right;\n",
       "    }\n",
       "</style>\n",
       "<table border=\"1\" class=\"dataframe\">\n",
       "  <thead>\n",
       "    <tr style=\"text-align: right;\">\n",
       "      <th></th>\n",
       "      <th>load</th>\n",
       "      <th>temp</th>\n",
       "    </tr>\n",
       "  </thead>\n",
       "  <tbody>\n",
       "    <tr>\n",
       "      <th>2012-01-01 00:00:00</th>\n",
       "      <td>2,698.00</td>\n",
       "      <td>32.00</td>\n",
       "    </tr>\n",
       "    <tr>\n",
       "      <th>2012-01-01 01:00:00</th>\n",
       "      <td>2,558.00</td>\n",
       "      <td>32.67</td>\n",
       "    </tr>\n",
       "    <tr>\n",
       "      <th>2012-01-01 02:00:00</th>\n",
       "      <td>2,444.00</td>\n",
       "      <td>30.00</td>\n",
       "    </tr>\n",
       "    <tr>\n",
       "      <th>2012-01-01 03:00:00</th>\n",
       "      <td>2,402.00</td>\n",
       "      <td>31.00</td>\n",
       "    </tr>\n",
       "    <tr>\n",
       "      <th>2012-01-01 04:00:00</th>\n",
       "      <td>2,403.00</td>\n",
       "      <td>32.00</td>\n",
       "    </tr>\n",
       "  </tbody>\n",
       "</table>\n",
       "</div>"
      ],
      "text/plain": [
       "                        load  temp\n",
       "2012-01-01 00:00:00 2,698.00 32.00\n",
       "2012-01-01 01:00:00 2,558.00 32.67\n",
       "2012-01-01 02:00:00 2,444.00 30.00\n",
       "2012-01-01 03:00:00 2,402.00 31.00\n",
       "2012-01-01 04:00:00 2,403.00 32.00"
      ]
     },
     "execution_count": 246,
     "metadata": {},
     "output_type": "execute_result"
    }
   ],
   "source": [
    "ts_data = pd.read_csv(\"../data/energy.csv\")\n",
    "ts_data = pd.DataFrame(ts_data[[\"load\", \"temp\"]].values, index=pd.to_datetime(ts_data[\"Unnamed: 0\"].values), columns=[\"load\", \"temp\"])\n",
    "ts_data = ts_data.asfreq(freq='H') #转换为小时频率的数据\n",
    "ts_data.head()"
   ]
  },
  {
   "cell_type": "code",
   "execution_count": null,
   "id": "b93370df",
   "metadata": {
    "ExecuteTime": {
     "end_time": "2024-01-08T08:29:20.542291Z",
     "start_time": "2024-01-08T08:29:20.542291Z"
    }
   },
   "outputs": [],
   "source": [
    "# 包含时间维度的数据集划分\n",
    "def divide_dataset(df, valid_date, test_date, x_feature_list, y_feature_list):\n",
    "    #归一化\n",
    "    x_scaler = MinMaxScaler()\n",
    "    y_scaler = MinMaxScaler()\n",
    "\n",
    "    #测试集\n",
    "    train = df.copy()[df.index < valid_date][x_feature_list]\n",
    "    train[x_feature_list] = x_scaler.fit_transform(train)\n",
    "    train = train.values.astype('float32')\n",
    "\n",
    "    #验证集\n",
    "    valid = df.copy()[(df.index >= valid_date) & (df.index < test_date)][x_feature_list]\n",
    "    valid[x_feature_list] = x_scaler.fit_transform(valid)\n",
    "    valid = valid.values.astype('float32')\n",
    "\n",
    "    #测试集\n",
    "    test = df.copy()[test_date:][x_feature_list]\n",
    "    test[x_feature_list] = x_scaler.fit_transform(test)\n",
    "    test = test.values.astype('float32')\n",
    "\n",
    "    #标签\n",
    "    ytr = df.copy()[df.index < valid_date][y_feature_list]\n",
    "    ytr[y_feature_list] = y_scaler.fit_transform(ytr)\n",
    "    ytr = ytr.values.astype('float32')\n",
    "\n",
    "    yva = df.copy()[(df.index >= valid_date) & (df.index < test_date)][y_feature_list]\n",
    "    yva[y_feature_list] = y_scaler.fit_transform(yva)\n",
    "    yva = yva.values.astype('float32')\n",
    "\n",
    "    yte = df.copy()[test_date:][y_feature_list]\n",
    "    yte[y_feature_list] = y_scaler.fit_transform(yte)\n",
    "    yte = yte.values.astype('float32')\n",
    "    return y_scaler, train, valid, test, ytr, yva, yte"
   ]
  },
  {
   "cell_type": "code",
   "execution_count": 247,
   "id": "a6b8053d",
   "metadata": {
    "ExecuteTime": {
     "end_time": "2024-01-08T08:29:21.144153Z",
     "start_time": "2024-01-08T08:29:21.110594Z"
    }
   },
   "outputs": [
    {
     "name": "stdout",
     "output_type": "stream",
     "text": [
      "x_train shape: (23376, 2) y_train shape: (23376, 2)\n",
      "x_valid shape: (1464, 2) y_valid shape: (1464, 2)\n",
      "x_test shape: (1464, 2) y_test shape: (1464, 2)\n"
     ]
    }
   ],
   "source": [
    "# 构造参数字典\n",
    "params1 = {\n",
    "    \"df\": ts_data,\n",
    "    \"valid_date\": \"2014-09-01 00:00:00\",\n",
    "    \"test_date\": \"2014-11-01 00:00:00\",\n",
    "    \"x_feature_list\": [\"load\", \"temp\"],\n",
    "    \"y_feature_list\": [\"load\", \"temp\"],\n",
    "}\n",
    "\n",
    "#函数传参\n",
    "scaler, x_train, x_valid, x_test, y_train, y_valid, y_test = divide_dataset(**params1)\n",
    "print(\"x_train shape: {0} y_train shape: {1}\".format(x_train.shape, y_train.shape))\n",
    "print(\"x_valid shape: {0} y_valid shape: {1}\".format(x_valid.shape, y_valid.shape))\n",
    "print(\"x_test shape: {0} y_test shape: {1}\".format(x_test.shape, y_test.shape))"
   ]
  },
  {
   "cell_type": "code",
   "execution_count": 248,
   "id": "a2bfb83f",
   "metadata": {
    "ExecuteTime": {
     "end_time": "2024-01-08T08:29:22.954062Z",
     "start_time": "2024-01-08T08:29:22.947401Z"
    }
   },
   "outputs": [],
   "source": [
    "# 生成tensor数据\n",
    "def rnn_create_dataset(feature, target, lookback, step, batch_size):\n",
    "    \"\"\"\n",
    "    @参数设置：\n",
    "    feature：输入向量\n",
    "    target：输出向量\n",
    "    \"\"\"\n",
    "    X, y = [], []\n",
    "    #循环生成数据\n",
    "    for i in range(lookback, len(feature), step):\n",
    "        feat = feature[i - lookback:i]\n",
    "        tar = target[i - lookback:i]\n",
    "        X.append(feat)\n",
    "        y.append(tar)\n",
    "    #转为张量\n",
    "    X = torch.as_tensor(X)\n",
    "    y = torch.as_tensor(y)\n",
    "    #创建dataloader，drop_last这个是对最后的未完成的batch来说的，后面剩余的不够batch_size的会丢弃\n",
    "    loader = data.DataLoader(data.TensorDataset(X, y), shuffle=True, batch_size=batch_size, drop_last=False)\n",
    "    return X, y, loader"
   ]
  },
  {
   "cell_type": "code",
   "execution_count": 249,
   "id": "5fece8de",
   "metadata": {
    "ExecuteTime": {
     "end_time": "2024-01-08T08:29:25.182036Z",
     "start_time": "2024-01-08T08:29:24.639189Z"
    }
   },
   "outputs": [
    {
     "name": "stdout",
     "output_type": "stream",
     "text": [
      "X_size: torch.Size([23370, 6, 2]),y_size: torch.Size([23370, 6, 2]),loader_len: 366\n",
      "X_size: torch.Size([1458, 6, 2]),y_size: torch.Size([1458, 6, 2]),loader_len: 23\n",
      "X_size: torch.Size([1458, 6, 2]),y_size: torch.Size([1458, 6, 2]),loader_len: 23\n"
     ]
    }
   ],
   "source": [
    "# 构造参数字典\n",
    "params2 = {\n",
    "    \"lookback\": 6,\n",
    "    \"step\": 1,\n",
    "    \"batch_size\": 64,\n",
    "}\n",
    "X_train, y_train, train_loader = rnn_create_dataset(x_train, y_train, **params2)\n",
    "X_valid, y_valid, valid_loader = rnn_create_dataset(x_valid, y_valid, **params2)\n",
    "X_test, y_test, test_loader = rnn_create_dataset(x_test, y_test, **params2)\n",
    "print(\"X_size: {0},y_size: {1},loader_len: {2}\".format(X_train.shape, y_train.shape, len(train_loader)))\n",
    "print(\"X_size: {0},y_size: {1},loader_len: {2}\".format(X_valid.shape, y_valid.shape, len(valid_loader)))\n",
    "print(\"X_size: {0},y_size: {1},loader_len: {2}\".format(X_test.shape, y_test.shape, len(test_loader)))"
   ]
  },
  {
   "cell_type": "markdown",
   "id": "bcc0ae84",
   "metadata": {},
   "source": [
    "## 结果分析"
   ]
  },
  {
   "cell_type": "code",
   "execution_count": 8,
   "id": "6bd6068f",
   "metadata": {
    "ExecuteTime": {
     "end_time": "2024-01-08T07:00:59.250937Z",
     "start_time": "2024-01-08T07:00:59.245626Z"
    }
   },
   "outputs": [],
   "source": [
    "#损失函数图\n",
    "def plot_loss(train_losses, val_losses):\n",
    "    plt.figure(figsize=(10, 5))\n",
    "    plt.plot(val_losses, linestyle='-',color = '#11b3b6')\n",
    "    plt.plot(train_losses, linestyle='-',color = '#f14643')\n",
    "    plt.xlabel(\"Epoch\")\n",
    "    plt.ylabel(\"Loss\")\n",
    "    plt.title(\"Training and Validation Progress\")\n",
    "    plt.legend([\"Validation\", \"Training\"])\n",
    "    plt.show()"
   ]
  },
  {
   "cell_type": "markdown",
   "id": "02bef9d8",
   "metadata": {},
   "source": [
    "## 模型训练"
   ]
  },
  {
   "cell_type": "code",
   "execution_count": 250,
   "id": "490a2372",
   "metadata": {
    "ExecuteTime": {
     "end_time": "2024-01-08T08:29:29.452590Z",
     "start_time": "2024-01-08T08:29:29.434941Z"
    }
   },
   "outputs": [],
   "source": [
    "def train(train_loader, valid_loader, n_epochs, verbose=True, plots=True):\n",
    "    # 定义变分自编码器模型\n",
    "    class VAE(nn.Module):\n",
    "        def __init__(self, input_dim, hidden_dim, latent_dim):\n",
    "            super(VAE, self).__init__()\n",
    "\n",
    "            # Encoder\n",
    "            self.encoder_lstm = nn.LSTM(input_dim, hidden_dim, num_layers=1, batch_first=True, bidirectional = True)  # LSTM用于编码输入序列\n",
    "            self.fc_mean = nn.Linear(hidden_dim*2, latent_dim) # 输出均值\n",
    "            self.fc_logvar = nn.Linear(hidden_dim*2, latent_dim) # 输出对数方差\n",
    "\n",
    "            # Decoder\n",
    "            self.decoder_lstm = nn.LSTM(latent_dim, hidden_dim, num_layers=1, batch_first=True, bidirectional = True)  # LSTM用于解码潜在表示\n",
    "            self.fc_output = nn.Linear(hidden_dim*2, input_dim) # 输出重建的序列\n",
    "\n",
    "        def encode(self, x):\n",
    "            x, (encoder_hidden, encoder_cell) = self.encoder_lstm(x)  # LSTM编码器的输出\n",
    "            mean = self.fc_mean(x) # 计算均值\n",
    "            logvar = self.fc_logvar(x) # 计算对数方差\n",
    "            return mean, logvar, encoder_hidden, encoder_cell\n",
    "\n",
    "        def reparameterize(self, mean, logvar):\n",
    "            std = torch.exp(0.5 * logvar) # 计算标准差\n",
    "            eps = torch.randn_like(std) # 从标准正态分布中采样噪声，并生成一个与输入张量形状相同的张量，目的是对抗\n",
    "            return mean + eps * std # 重新参数化，随着损失函数变小，使其服从标准正态分布\n",
    "\n",
    "        def decode(self, z):\n",
    "            decoder_hidden, decoder_cell = self.encoder_hidden, self.encoder_cell\n",
    "            x, _ = self.decoder_lstm(z, (decoder_hidden, decoder_cell))  # z服从标准正态分布\n",
    "            x = self.fc_output(x) # 输出重建的序列\n",
    "            return x\n",
    "\n",
    "        def forward(self, x):\n",
    "            mean, logvar, self.encoder_hidden, self.encoder_cell = self.encode(x) # 编码输入序列\n",
    "            z = self.reparameterize(mean, logvar) # 重参数化，形状为(batch_size, seq_length, latent_dim)\n",
    "            x_recon = self.decode(z) # 解码潜在表示\n",
    "            return x_recon, mean, logvar\n",
    "\n",
    "    # 定义变分自编码器的损失函数\n",
    "    def vae_loss(x_recon, x, mean, logvar):\n",
    "        # 重建损失（MSE损失）\n",
    "        recon_loss = nn.functional.mse_loss(x_recon, x)\n",
    "\n",
    "        # KL散度损失，KL散度通常用于衡量潜在空间中的编码分布与先验分布（通常是标准正态分布）之间的差异。\n",
    "        kl_loss = -0.5 * torch.sum(1 + logvar - mean.pow(2) - logvar.exp()) # 散度越小意味着两个分布越接近\n",
    "\n",
    "        return recon_loss + kl_loss\n",
    "        \n",
    "    #检查是否可用GPU\n",
    "    device = torch.device(\"cuda\" if torch.cuda.is_available() else \"cpu\")\n",
    "\n",
    "    # 创建模型和优化器\n",
    "    input_dim = 2  # 输入数据的维度\n",
    "    hidden_dim = 64  # LSTM层的隐藏单元数\n",
    "    latent_dim = 16  # 潜在空间的维度\n",
    "    model = VAE(input_dim, hidden_dim, latent_dim)\n",
    "    optimizer = optim.Adam(model.parameters(), lr=0.001)\n",
    "    loss_fn = nn.MSELoss()\n",
    "\n",
    "    # 损失函数值\n",
    "    train_losses, val_losses = [], []\n",
    "\n",
    "    for epoch in tqdm(range(n_epochs)):\n",
    "        model.train()\n",
    "        total_train_loss = 0\n",
    "        for inputs_batch, targets_batch in train_loader:\n",
    "            #将数据移至 GPU\n",
    "            inputs_batch = inputs_batch.to(device)\n",
    "            targets_batch = targets_batch.to(device)\n",
    "            # 清空梯度\n",
    "            optimizer.zero_grad()\n",
    "            x_recon, mean, logvar = model(inputs_batch)\n",
    "            train_loss = vae_loss(x_recon, inputs_batch, mean, logvar)\n",
    "            # 反向传播计算得到每个参数的梯度值\n",
    "            train_loss.backward()\n",
    "            # 通过梯度下降执行一步参数更新\n",
    "            optimizer.step()\n",
    "            #每个batch的loss和\n",
    "            total_train_loss += train_loss.item() # .item()表示只包含一个元素的tensor中提取值\n",
    "                \n",
    "        #每个epoch的损失平均\n",
    "        avg_train_loss = total_train_loss / len(train_loader)\n",
    "        \n",
    "        #所有epoch的loss\n",
    "        train_losses.append(avg_train_loss)\n",
    "        \n",
    "        #评估模型\n",
    "        model.eval()\n",
    "        #关闭自动求导功能，只使用训练好的模型进行预测或评估，不需要进行梯度计算和参数更新\n",
    "        with torch.no_grad():\n",
    "            total_val_loss = 0\n",
    "            for inputs_batch, targets_batch in valid_loader:\n",
    "                #将数据移至 GPU\n",
    "                inputs_batch = inputs_batch.to(device)\n",
    "                targets_batch = targets_batch.to(device)\n",
    "                x_recon, mean, logvar = model(inputs_batch)\n",
    "                val_loss = vae_loss(x_recon, inputs_batch, mean, logvar)\n",
    "                #每个batch的loss和\n",
    "                total_val_loss += val_loss.item()\n",
    "                \n",
    "        #每个epoch的损失平均\n",
    "        avg_val_loss = total_val_loss / len(valid_loader)\n",
    "        \n",
    "        #所有epoch的loss\n",
    "        val_losses.append(avg_val_loss)\n",
    "        \n",
    "        #打印训练过程\n",
    "        if verbose:\n",
    "            print(f'Epoch [{epoch+1}/{n_epochs}], Training Loss: {avg_train_loss:.4f}, Validation Loss: {avg_val_loss:.4f}')\n",
    "\n",
    "    #绘制损失函数图\n",
    "    if plots:\n",
    "        plot_loss(train_losses, val_losses)\n",
    "    return model"
   ]
  },
  {
   "cell_type": "code",
   "execution_count": 251,
   "id": "49d7b00b",
   "metadata": {
    "ExecuteTime": {
     "end_time": "2024-01-08T08:32:31.803867Z",
     "start_time": "2024-01-08T08:29:30.719553Z"
    },
    "scrolled": true
   },
   "outputs": [
    {
     "name": "stderr",
     "output_type": "stream",
     "text": [
      "  3%|██▊                                                                                | 1/30 [00:05<02:35,  5.36s/it]"
     ]
    },
    {
     "name": "stdout",
     "output_type": "stream",
     "text": [
      "Epoch [1/30], Training Loss: 0.2436, Validation Loss: 0.0156\n"
     ]
    },
    {
     "name": "stderr",
     "output_type": "stream",
     "text": [
      "\r",
      "  7%|█████▌                                                                             | 2/30 [00:11<02:37,  5.63s/it]"
     ]
    },
    {
     "name": "stdout",
     "output_type": "stream",
     "text": [
      "Epoch [2/30], Training Loss: 0.0034, Validation Loss: 0.0036\n"
     ]
    },
    {
     "name": "stderr",
     "output_type": "stream",
     "text": [
      "\r",
      " 10%|████████▎                                                                          | 3/30 [00:17<02:35,  5.77s/it]"
     ]
    },
    {
     "name": "stdout",
     "output_type": "stream",
     "text": [
      "Epoch [3/30], Training Loss: 0.0015, Validation Loss: 0.0028\n"
     ]
    },
    {
     "name": "stderr",
     "output_type": "stream",
     "text": [
      "\r",
      " 13%|███████████                                                                        | 4/30 [00:23<02:32,  5.87s/it]"
     ]
    },
    {
     "name": "stdout",
     "output_type": "stream",
     "text": [
      "Epoch [4/30], Training Loss: 0.0012, Validation Loss: 0.0025\n"
     ]
    },
    {
     "name": "stderr",
     "output_type": "stream",
     "text": [
      "\r",
      " 17%|█████████████▊                                                                     | 5/30 [00:29<02:26,  5.88s/it]"
     ]
    },
    {
     "name": "stdout",
     "output_type": "stream",
     "text": [
      "Epoch [5/30], Training Loss: 0.0010, Validation Loss: 0.0021\n"
     ]
    },
    {
     "name": "stderr",
     "output_type": "stream",
     "text": [
      "\r",
      " 20%|████████████████▌                                                                  | 6/30 [00:34<02:21,  5.90s/it]"
     ]
    },
    {
     "name": "stdout",
     "output_type": "stream",
     "text": [
      "Epoch [6/30], Training Loss: 0.0008, Validation Loss: 0.0021\n"
     ]
    },
    {
     "name": "stderr",
     "output_type": "stream",
     "text": [
      "\r",
      " 23%|███████████████████▎                                                               | 7/30 [00:40<02:14,  5.87s/it]"
     ]
    },
    {
     "name": "stdout",
     "output_type": "stream",
     "text": [
      "Epoch [7/30], Training Loss: 0.0007, Validation Loss: 0.0018\n"
     ]
    },
    {
     "name": "stderr",
     "output_type": "stream",
     "text": [
      "\r",
      " 27%|██████████████████████▏                                                            | 8/30 [00:46<02:09,  5.89s/it]"
     ]
    },
    {
     "name": "stdout",
     "output_type": "stream",
     "text": [
      "Epoch [8/30], Training Loss: 0.0007, Validation Loss: 0.0016\n"
     ]
    },
    {
     "name": "stderr",
     "output_type": "stream",
     "text": [
      "\r",
      " 30%|████████████████████████▉                                                          | 9/30 [00:53<02:06,  6.04s/it]"
     ]
    },
    {
     "name": "stdout",
     "output_type": "stream",
     "text": [
      "Epoch [9/30], Training Loss: 0.0006, Validation Loss: 0.0022\n"
     ]
    },
    {
     "name": "stderr",
     "output_type": "stream",
     "text": [
      "\r",
      " 33%|███████████████████████████▎                                                      | 10/30 [00:59<02:00,  6.05s/it]"
     ]
    },
    {
     "name": "stdout",
     "output_type": "stream",
     "text": [
      "Epoch [10/30], Training Loss: 0.0006, Validation Loss: 0.0013\n"
     ]
    },
    {
     "name": "stderr",
     "output_type": "stream",
     "text": [
      "\r",
      " 37%|██████████████████████████████                                                    | 11/30 [01:05<01:54,  6.04s/it]"
     ]
    },
    {
     "name": "stdout",
     "output_type": "stream",
     "text": [
      "Epoch [11/30], Training Loss: 0.0006, Validation Loss: 0.0017\n"
     ]
    },
    {
     "name": "stderr",
     "output_type": "stream",
     "text": [
      "\r",
      " 40%|████████████████████████████████▊                                                 | 12/30 [01:11<01:48,  6.00s/it]"
     ]
    },
    {
     "name": "stdout",
     "output_type": "stream",
     "text": [
      "Epoch [12/30], Training Loss: 0.0006, Validation Loss: 0.0013\n"
     ]
    },
    {
     "name": "stderr",
     "output_type": "stream",
     "text": [
      "\r",
      " 43%|███████████████████████████████████▌                                              | 13/30 [01:18<01:46,  6.29s/it]"
     ]
    },
    {
     "name": "stdout",
     "output_type": "stream",
     "text": [
      "Epoch [13/30], Training Loss: 0.0005, Validation Loss: 0.0012\n"
     ]
    },
    {
     "name": "stderr",
     "output_type": "stream",
     "text": [
      "\r",
      " 47%|██████████████████████████████████████▎                                           | 14/30 [01:24<01:41,  6.37s/it]"
     ]
    },
    {
     "name": "stdout",
     "output_type": "stream",
     "text": [
      "Epoch [14/30], Training Loss: 0.0005, Validation Loss: 0.0012\n"
     ]
    },
    {
     "name": "stderr",
     "output_type": "stream",
     "text": [
      "\r",
      " 50%|█████████████████████████████████████████                                         | 15/30 [01:30<01:34,  6.28s/it]"
     ]
    },
    {
     "name": "stdout",
     "output_type": "stream",
     "text": [
      "Epoch [15/30], Training Loss: 0.0005, Validation Loss: 0.0011\n"
     ]
    },
    {
     "name": "stderr",
     "output_type": "stream",
     "text": [
      "\r",
      " 53%|███████████████████████████████████████████▋                                      | 16/30 [01:36<01:26,  6.17s/it]"
     ]
    },
    {
     "name": "stdout",
     "output_type": "stream",
     "text": [
      "Epoch [16/30], Training Loss: 0.0005, Validation Loss: 0.0031\n"
     ]
    },
    {
     "name": "stderr",
     "output_type": "stream",
     "text": [
      "\r",
      " 57%|██████████████████████████████████████████████▍                                   | 17/30 [01:42<01:19,  6.10s/it]"
     ]
    },
    {
     "name": "stdout",
     "output_type": "stream",
     "text": [
      "Epoch [17/30], Training Loss: 0.0006, Validation Loss: 0.0014\n"
     ]
    },
    {
     "name": "stderr",
     "output_type": "stream",
     "text": [
      "\r",
      " 60%|█████████████████████████████████████████████████▏                                | 18/30 [01:48<01:12,  6.02s/it]"
     ]
    },
    {
     "name": "stdout",
     "output_type": "stream",
     "text": [
      "Epoch [18/30], Training Loss: 0.0005, Validation Loss: 0.0011\n"
     ]
    },
    {
     "name": "stderr",
     "output_type": "stream",
     "text": [
      "\r",
      " 63%|███████████████████████████████████████████████████▉                              | 19/30 [01:54<01:06,  6.00s/it]"
     ]
    },
    {
     "name": "stdout",
     "output_type": "stream",
     "text": [
      "Epoch [19/30], Training Loss: 0.0004, Validation Loss: 0.0009\n"
     ]
    },
    {
     "name": "stderr",
     "output_type": "stream",
     "text": [
      "\r",
      " 67%|██████████████████████████████████████████████████████▋                           | 20/30 [02:00<00:59,  5.98s/it]"
     ]
    },
    {
     "name": "stdout",
     "output_type": "stream",
     "text": [
      "Epoch [20/30], Training Loss: 0.0004, Validation Loss: 0.0010\n"
     ]
    },
    {
     "name": "stderr",
     "output_type": "stream",
     "text": [
      "\r",
      " 70%|█████████████████████████████████████████████████████████▍                        | 21/30 [02:06<00:53,  5.97s/it]"
     ]
    },
    {
     "name": "stdout",
     "output_type": "stream",
     "text": [
      "Epoch [21/30], Training Loss: 0.0004, Validation Loss: 0.0021\n"
     ]
    },
    {
     "name": "stderr",
     "output_type": "stream",
     "text": [
      "\r",
      " 73%|████████████████████████████████████████████████████████████▏                     | 22/30 [02:12<00:47,  5.96s/it]"
     ]
    },
    {
     "name": "stdout",
     "output_type": "stream",
     "text": [
      "Epoch [22/30], Training Loss: 0.0004, Validation Loss: 0.0007\n"
     ]
    },
    {
     "name": "stderr",
     "output_type": "stream",
     "text": [
      "\r",
      " 77%|██████████████████████████████████████████████████████████████▊                   | 23/30 [02:18<00:41,  5.98s/it]"
     ]
    },
    {
     "name": "stdout",
     "output_type": "stream",
     "text": [
      "Epoch [23/30], Training Loss: 0.0003, Validation Loss: 0.0017\n"
     ]
    },
    {
     "name": "stderr",
     "output_type": "stream",
     "text": [
      "\r",
      " 80%|█████████████████████████████████████████████████████████████████▌                | 24/30 [02:24<00:35,  5.99s/it]"
     ]
    },
    {
     "name": "stdout",
     "output_type": "stream",
     "text": [
      "Epoch [24/30], Training Loss: 0.0003, Validation Loss: 0.0010\n"
     ]
    },
    {
     "name": "stderr",
     "output_type": "stream",
     "text": [
      "\r",
      " 83%|████████████████████████████████████████████████████████████████████▎             | 25/30 [02:30<00:30,  6.10s/it]"
     ]
    },
    {
     "name": "stdout",
     "output_type": "stream",
     "text": [
      "Epoch [25/30], Training Loss: 0.0003, Validation Loss: 0.0025\n"
     ]
    },
    {
     "name": "stderr",
     "output_type": "stream",
     "text": [
      "\r",
      " 87%|███████████████████████████████████████████████████████████████████████           | 26/30 [02:36<00:24,  6.04s/it]"
     ]
    },
    {
     "name": "stdout",
     "output_type": "stream",
     "text": [
      "Epoch [26/30], Training Loss: 0.0003, Validation Loss: 0.0004\n"
     ]
    },
    {
     "name": "stderr",
     "output_type": "stream",
     "text": [
      "\r",
      " 90%|█████████████████████████████████████████████████████████████████████████▊        | 27/30 [02:42<00:18,  6.01s/it]"
     ]
    },
    {
     "name": "stdout",
     "output_type": "stream",
     "text": [
      "Epoch [27/30], Training Loss: 0.0002, Validation Loss: 0.0011\n"
     ]
    },
    {
     "name": "stderr",
     "output_type": "stream",
     "text": [
      "\r",
      " 93%|████████████████████████████████████████████████████████████████████████████▌     | 28/30 [02:48<00:11,  6.00s/it]"
     ]
    },
    {
     "name": "stdout",
     "output_type": "stream",
     "text": [
      "Epoch [28/30], Training Loss: 0.0003, Validation Loss: 0.0005\n"
     ]
    },
    {
     "name": "stderr",
     "output_type": "stream",
     "text": [
      "\r",
      " 97%|███████████████████████████████████████████████████████████████████████████████▎  | 29/30 [02:54<00:06,  6.08s/it]"
     ]
    },
    {
     "name": "stdout",
     "output_type": "stream",
     "text": [
      "Epoch [29/30], Training Loss: 0.0002, Validation Loss: 0.0005\n"
     ]
    },
    {
     "name": "stderr",
     "output_type": "stream",
     "text": [
      "100%|██████████████████████████████████████████████████████████████████████████████████| 30/30 [03:00<00:00,  6.03s/it]"
     ]
    },
    {
     "name": "stdout",
     "output_type": "stream",
     "text": [
      "Epoch [30/30], Training Loss: 0.0003, Validation Loss: 0.0013\n"
     ]
    },
    {
     "name": "stderr",
     "output_type": "stream",
     "text": [
      "\n"
     ]
    },
    {
     "data": {
      "image/png": "[encoded data removed]",
      "text/plain": [
       "<Figure size 1000x500 with 1 Axes>"
      ]
     },
     "metadata": {},
     "output_type": "display_data"
    }
   ],
   "source": [
    "# 构造参数字典\n",
    "params3 = {\n",
    "    \"train_loader\": train_loader,\n",
    "    \"valid_loader\": valid_loader,\n",
    "    \"n_epochs\": 30,\n",
    "    \"verbose\": True,\n",
    "    \"verbose\": True,\n",
    "}\n",
    "model = train(**params3)"
   ]
  },
  {
   "cell_type": "markdown",
   "id": "b10e40b2",
   "metadata": {},
   "source": [
    "## 数据生成"
   ]
  },
  {
   "cell_type": "code",
   "execution_count": 267,
   "id": "32d3927e",
   "metadata": {
    "ExecuteTime": {
     "end_time": "2024-01-08T08:40:37.538311Z",
     "start_time": "2024-01-08T08:40:37.531018Z"
    }
   },
   "outputs": [],
   "source": [
    "def generator(data, seq_length, latent_dim, num_samples, scaler, model):\n",
    "    # 设定参数\n",
    "    batch_size = 1 # 默认每次只生成一组\n",
    "    seq_length = seq_length\n",
    "    latent_dim = latent_dim\n",
    "\n",
    "    # 检查是否可用GPU\n",
    "    device = torch.device(\"cuda\" if torch.cuda.is_available() else \"cpu\") \n",
    "    nums = data.shape[0]\n",
    "    data = scaler.fit_transform(data.values.astype('float32'))\n",
    "\n",
    "    # 生成新样本\n",
    "    samples = []\n",
    "    for i in range(num_samples):\n",
    "        # 使用模型先跑一组数据，每次跑数据隐藏层维度都会变，会和之后跑的数据分布相同\n",
    "        k = np.random.randint(0, nums-seq_length) # 随机生成一个整数\n",
    "        input_data = torch.tensor(data[k:k+seq_length, :]).unsqueeze(0) # 随机抽样\n",
    "        input_data = input_data.to(device) # 将数据应用到GPU\n",
    "        y_pred, mean, logvar = model(input_data) # 使隐藏层输入batch_size变为1\n",
    "    \n",
    "        # 在潜在空间中生成一个随机样本\n",
    "        new_input_data = torch.randn((batch_size, seq_length, latent_dim))  \n",
    "        new_input_data = new_input_data.to(device) \n",
    "        generated_samples = model.decode(new_input_data)\n",
    "        generated_samples = generated_samples[:, -1, :] # 取最后一组数据\n",
    "        generated_samples = generated_samples.cpu().detach().numpy()\n",
    "        generated_samples = scaler.inverse_transform(generated_samples) # 反归一化\n",
    "        samples.append(generated_samples)\n",
    "\n",
    "    # 重塑维度\n",
    "    samples = np.squeeze(np.array(samples))\n",
    "    \n",
    "    return samples"
   ]
  },
  {
   "cell_type": "code",
   "execution_count": 281,
   "id": "6519c7e1",
   "metadata": {
    "ExecuteTime": {
     "end_time": "2024-01-08T08:48:10.527392Z",
     "start_time": "2024-01-08T08:48:04.938567Z"
    }
   },
   "outputs": [],
   "source": [
    "# 生成时序数据\n",
    "params6 = {\n",
    "    \"data\": ts_data,\n",
    "    \"seq_length\": 6,\n",
    "    \"latent_dim\": 16,\n",
    "    \"num_samples\": 3000,\n",
    "    \"scaler\": scaler,\n",
    "    \"model\": model,\n",
    "}\n",
    "new_data = generator(**params6)"
   ]
  },
  {
   "cell_type": "markdown",
   "id": "8c5145e0",
   "metadata": {},
   "source": [
    "## 分布差异"
   ]
  },
  {
   "cell_type": "code",
   "execution_count": 282,
   "id": "a4c9c91b",
   "metadata": {
    "ExecuteTime": {
     "end_time": "2024-01-08T08:48:29.042530Z",
     "start_time": "2024-01-08T08:48:28.766374Z"
    }
   },
   "outputs": [
    {
     "data": {
      "text/plain": [
       "<Axes: ylabel='Density'>"
      ]
     },
     "execution_count": 282,
     "metadata": {},
     "output_type": "execute_result"
    },
    {
     "data": {
      "image/png": "[encoded data removed]",
      "text/plain": [
       "<Figure size 640x480 with 1 Axes>"
      ]
     },
     "metadata": {},
     "output_type": "display_data"
    }
   ],
   "source": [
    "sns.distplot(new_data[:,0]) # 生成的数据分布"
   ]
  },
  {
   "cell_type": "code",
   "execution_count": 291,
   "id": "dd42dec9",
   "metadata": {
    "ExecuteTime": {
     "end_time": "2024-01-08T09:15:59.372266Z",
     "start_time": "2024-01-08T09:15:59.174723Z"
    }
   },
   "outputs": [
    {
     "data": {
      "text/plain": [
       "<Axes: ylabel='Density'>"
      ]
     },
     "execution_count": 291,
     "metadata": {},
     "output_type": "execute_result"
    },
    {
     "data": {
      "image/png": "[encoded data removed]",
      "text/plain": [
       "<Figure size 640x480 with 1 Axes>"
      ]
     },
     "metadata": {},
     "output_type": "display_data"
    }
   ],
   "source": [
    "sns.distplot(ts_data['load'].values[:3000]) # 原始的数据分布"
   ]
  },
  {
   "cell_type": "code",
   "execution_count": 289,
   "id": "b1f6eab2",
   "metadata": {
    "ExecuteTime": {
     "end_time": "2024-01-08T09:11:58.954166Z",
     "start_time": "2024-01-08T09:11:58.950090Z"
    }
   },
   "outputs": [],
   "source": [
    "import scipy.stats"
   ]
  },
  {
   "cell_type": "code",
   "execution_count": 303,
   "id": "86512e3e",
   "metadata": {
    "ExecuteTime": {
     "end_time": "2024-01-08T09:22:01.412907Z",
     "start_time": "2024-01-08T09:22:01.406539Z"
    }
   },
   "outputs": [
    {
     "data": {
      "text/plain": [
       "0.03739433877942046"
      ]
     },
     "execution_count": 303,
     "metadata": {},
     "output_type": "execute_result"
    }
   ],
   "source": [
    "p = new_data[:,0]\n",
    "q = ts_data['load'].values[:3000]\n",
    "scipy.stats.entropy(p, q)"
   ]
  },
  {
   "cell_type": "code",
   "execution_count": 306,
   "id": "4dad5b48",
   "metadata": {
    "ExecuteTime": {
     "end_time": "2024-01-08T09:22:56.684157Z",
     "start_time": "2024-01-08T09:22:56.678416Z"
    }
   },
   "outputs": [],
   "source": [
    "p = np.sort(p)\n",
    "q = np.sort(q)"
   ]
  },
  {
   "cell_type": "code",
   "execution_count": 308,
   "id": "858ac400",
   "metadata": {
    "ExecuteTime": {
     "end_time": "2024-01-08T09:23:01.225854Z",
     "start_time": "2024-01-08T09:23:01.216252Z"
    }
   },
   "outputs": [],
   "source": [
    "# 编程实现\n",
    "KL = 0.0\n",
    "for i in range(3000):\n",
    "    KL += p[i] * np.log(p[i] / q[i])"
   ]
  },
  {
   "cell_type": "code",
   "execution_count": 309,
   "id": "7f79823b",
   "metadata": {
    "ExecuteTime": {
     "end_time": "2024-01-08T09:23:02.196367Z",
     "start_time": "2024-01-08T09:23:02.191081Z"
    }
   },
   "outputs": [
    {
     "data": {
      "text/plain": [
       "321912.6951684307"
      ]
     },
     "execution_count": 309,
     "metadata": {},
     "output_type": "execute_result"
    }
   ],
   "source": [
    "KL"
   ]
  },
  {
   "cell_type": "code",
   "execution_count": 108,
   "id": "57db19b6",
   "metadata": {
    "ExecuteTime": {
     "end_time": "2024-01-08T07:33:49.225904Z",
     "start_time": "2024-01-08T07:33:49.212422Z"
    }
   },
   "outputs": [
    {
     "data": {
      "text/plain": [
       "tensor([[0.9096, 0.2454],\n",
       "        [0.8559, 0.2025],\n",
       "        [0.7722, 0.1657],\n",
       "        [0.7023, 0.1412],\n",
       "        [0.6195, 0.1472],\n",
       "        [0.5425, 0.1165]])"
      ]
     },
     "execution_count": 108,
     "metadata": {},
     "output_type": "execute_result"
    }
   ],
   "source": [
    "X_test[-1:,:,:].squeeze()"
   ]
  },
  {
   "cell_type": "code",
   "execution_count": 131,
   "id": "27324189",
   "metadata": {
    "ExecuteTime": {
     "end_time": "2024-01-08T07:53:00.861248Z",
     "start_time": "2024-01-08T07:53:00.855955Z"
    }
   },
   "outputs": [
    {
     "data": {
      "text/plain": [
       "torch.Size([1458, 6, 2])"
      ]
     },
     "execution_count": 131,
     "metadata": {},
     "output_type": "execute_result"
    }
   ],
   "source": [
    "X_test.shape"
   ]
  },
  {
   "cell_type": "code",
   "execution_count": 233,
   "id": "555f4dfe",
   "metadata": {
    "ExecuteTime": {
     "end_time": "2024-01-08T08:27:24.720718Z",
     "start_time": "2024-01-08T08:27:24.715018Z"
    }
   },
   "outputs": [
    {
     "data": {
      "text/plain": [
       "array([[3634.28,   54.67],\n",
       "       [3648.74,   54.17],\n",
       "       [3657.  ,   53.17],\n",
       "       [3588.16,   52.83],\n",
       "       [3432.57,   52.33],\n",
       "       [3241.18,   51.83]])"
      ]
     },
     "execution_count": 233,
     "metadata": {},
     "output_type": "execute_result"
    }
   ],
   "source": [
    "scaler.inverse_transform(X_train[-1:,:,:].squeeze()) # 反归一化"
   ]
  },
  {
   "cell_type": "code",
   "execution_count": 183,
   "id": "6be96a06",
   "metadata": {
    "ExecuteTime": {
     "end_time": "2024-01-08T08:05:57.780961Z",
     "start_time": "2024-01-08T08:05:57.775544Z"
    }
   },
   "outputs": [],
   "source": [
    "nums = ts_data.shape[0]"
   ]
  },
  {
   "cell_type": "code",
   "execution_count": 186,
   "id": "20eb57ec",
   "metadata": {
    "ExecuteTime": {
     "end_time": "2024-01-08T08:07:03.669645Z",
     "start_time": "2024-01-08T08:07:03.664072Z"
    }
   },
   "outputs": [
    {
     "data": {
      "text/plain": [
       "21446"
      ]
     },
     "execution_count": 186,
     "metadata": {},
     "output_type": "execute_result"
    }
   ],
   "source": [
    "np.random.randint(0, nums)"
   ]
  },
  {
   "cell_type": "code",
   "execution_count": 191,
   "id": "c522fd32",
   "metadata": {
    "ExecuteTime": {
     "end_time": "2024-01-08T08:09:40.904307Z",
     "start_time": "2024-01-08T08:09:40.898273Z"
    }
   },
   "outputs": [
    {
     "data": {
      "text/plain": [
       "torch.Size([1, 6, 2])"
      ]
     },
     "execution_count": 191,
     "metadata": {},
     "output_type": "execute_result"
    }
   ],
   "source": [
    "torch.tensor(ts_data.values[0:6, :]).unsqueeze(0).shape"
   ]
  },
  {
   "cell_type": "code",
   "execution_count": 52,
   "id": "c66af66a",
   "metadata": {
    "ExecuteTime": {
     "end_time": "2024-01-08T07:23:28.689602Z",
     "start_time": "2024-01-08T07:23:28.684374Z"
    }
   },
   "outputs": [
    {
     "data": {
      "text/plain": [
       "1979.0"
      ]
     },
     "execution_count": 52,
     "metadata": {},
     "output_type": "execute_result"
    }
   ],
   "source": [
    "ts_data['load'].min()"
   ]
  },
  {
   "cell_type": "code",
   "execution_count": 56,
   "id": "a80675c0",
   "metadata": {
    "ExecuteTime": {
     "end_time": "2024-01-08T07:24:06.578643Z",
     "start_time": "2024-01-08T07:24:06.573625Z"
    }
   },
   "outputs": [
    {
     "data": {
      "text/plain": [
       "95.0"
      ]
     },
     "execution_count": 56,
     "metadata": {},
     "output_type": "execute_result"
    }
   ],
   "source": [
    "ts_data['temp'].max()"
   ]
  },
  {
   "cell_type": "code",
   "execution_count": 57,
   "id": "ade89ded",
   "metadata": {
    "ExecuteTime": {
     "end_time": "2024-01-08T07:24:18.981944Z",
     "start_time": "2024-01-08T07:24:18.976902Z"
    }
   },
   "outputs": [
    {
     "data": {
      "text/plain": [
       "-13.67"
      ]
     },
     "execution_count": 57,
     "metadata": {},
     "output_type": "execute_result"
    }
   ],
   "source": [
    "ts_data['temp'].min()"
   ]
  },
  {
   "cell_type": "code",
   "execution_count": 324,
   "id": "c09492c3",
   "metadata": {
    "ExecuteTime": {
     "end_time": "2024-01-08T09:47:57.476690Z",
     "start_time": "2024-01-08T09:47:57.471341Z"
    }
   },
   "outputs": [
    {
     "data": {
      "text/plain": [
       "array([2063.14, 2124.36, 2185.58, 2246.81, 2308.03, 2369.25, 2430.47,\n",
       "       2491.69, 2552.92, 2614.14, 2675.36, 2736.58, 2797.81, 2859.03,\n",
       "       2920.25, 2981.47, 3042.69, 3103.92, 3165.14, 3226.36, 3287.58,\n",
       "       3348.8 , 3410.03, 3471.25, 3532.47, 3593.69, 3654.92, 3716.14,\n",
       "       3777.36, 3838.58, 3899.8 , 3961.03, 4022.25, 4083.47, 4144.69,\n",
       "       4205.92, 4267.14, 4328.36, 4389.58, 4450.8 , 4512.03, 4573.25,\n",
       "       4634.47, 4695.69, 4756.91, 4818.14, 4879.36, 4940.58, 5001.8 ,\n",
       "       5063.02, 5124.25], dtype=float32)"
      ]
     },
     "execution_count": 324,
     "metadata": {},
     "output_type": "execute_result"
    }
   ],
   "source": [
    "bins1"
   ]
  },
  {
   "cell_type": "code",
   "execution_count": 326,
   "id": "7783e556",
   "metadata": {
    "ExecuteTime": {
     "end_time": "2024-01-08T09:53:24.952238Z",
     "start_time": "2024-01-08T09:53:24.945989Z"
    }
   },
   "outputs": [
    {
     "data": {
      "text/plain": [
       "0.016333956307811235"
      ]
     },
     "execution_count": 326,
     "metadata": {},
     "output_type": "execute_result"
    }
   ],
   "source": [
    "np.sum(hist1)"
   ]
  },
  {
   "cell_type": "code",
   "execution_count": 325,
   "id": "8efaa775",
   "metadata": {
    "ExecuteTime": {
     "end_time": "2024-01-08T09:53:13.852375Z",
     "start_time": "2024-01-08T09:53:13.846759Z"
    }
   },
   "outputs": [
    {
     "data": {
      "text/plain": [
       "array([1.09e-05, 5.99e-05, 1.20e-04, 2.67e-04, 4.63e-04, 4.08e-04,\n",
       "       2.99e-04, 3.32e-04, 4.36e-04, 4.46e-04, 3.54e-04, 3.54e-04,\n",
       "       3.70e-04, 4.63e-04, 3.43e-04, 4.85e-04, 4.74e-04, 4.25e-04,\n",
       "       3.81e-04, 6.81e-04, 7.08e-04, 7.62e-04, 8.82e-04, 1.02e-03,\n",
       "       8.17e-04, 7.35e-04, 6.59e-04, 4.36e-04, 5.12e-04, 3.81e-04,\n",
       "       4.03e-04, 3.32e-04, 2.67e-04, 2.89e-04, 2.01e-04, 1.31e-04,\n",
       "       1.52e-04, 8.17e-05, 6.53e-05, 5.99e-05, 4.36e-05, 4.36e-05,\n",
       "       5.99e-05, 4.90e-05, 2.72e-05, 2.18e-05, 0.00e+00, 1.09e-05,\n",
       "       0.00e+00, 1.63e-05])"
      ]
     },
     "execution_count": 325,
     "metadata": {},
     "output_type": "execute_result"
    }
   ],
   "source": [
    "hist1"
   ]
  },
  {
   "cell_type": "code",
   "execution_count": 336,
   "id": "1f0fddf6",
   "metadata": {
    "ExecuteTime": {
     "end_time": "2024-01-08T10:05:04.905997Z",
     "start_time": "2024-01-08T10:05:04.573986Z"
    }
   },
   "outputs": [
    {
     "name": "stdout",
     "output_type": "stream",
     "text": [
      "KL Divergence: 0.027949849251781497\n"
     ]
    },
    {
     "data": {
      "image/png": "[encoded data removed]",
      "text/plain": [
       "<Figure size 640x480 with 1 Axes>"
      ]
     },
     "metadata": {},
     "output_type": "display_data"
    },
    {
     "data": {
      "image/png": "[encoded data removed]",
      "text/plain": [
       "<Figure size 640x480 with 1 Axes>"
      ]
     },
     "metadata": {},
     "output_type": "display_data"
    }
   ],
   "source": [
    "import numpy as np\n",
    "import matplotlib.pyplot as plt\n",
    "from scipy.stats import entropy\n",
    "\n",
    "# 生成两个示例数据集\n",
    "np.random.seed(42)\n",
    "data1 = new_data[:,0]\n",
    "data2 = ts_data['load'].values\n",
    "\n",
    "# 生成两个直方图\n",
    "hist1, bins1 = np.histogram(data1, bins=50, density=True) # hist等于频率/组距\n",
    "hist2, bins2 = np.histogram(data2, bins=50, density=True)\n",
    "\n",
    "# 计算每个区间的概率密度\n",
    "pdf1 = hist1 / np.sum(hist1)\n",
    "pdf2 = hist2 / np.sum(hist2)\n",
    "\n",
    "# 计算KL散度\n",
    "kl_divergence = entropy(pdf1, pdf2)\n",
    "\n",
    "# 打印结果\n",
    "print(\"KL Divergence:\", kl_divergence)\n",
    "\n",
    "# 绘制直方图和概率密度函数\n",
    "plt.figure()\n",
    "plt.hist(data1, bins=bins1, density=True, alpha=0.3, color='#11b3b6', label='Data 1', histtype='stepfilled' )\n",
    "plt.hist(data2, bins=bins2, density=True, alpha=0.3, color='#f14643', label='Data 2', histtype='stepfilled')\n",
    "plt.legend() \n",
    "\n",
    "plt.figure()\n",
    "plt.plot((bins1[:-1] + bins1[1:]) / 2, pdf1, color='#11b3b6', linestyle='dashed', linewidth=2, label='PDF 1')\n",
    "plt.plot((bins2[:-1] + bins2[1:]) / 2, pdf2, color='#f14643', linestyle='dashed', linewidth=2, label='PDF 2')\n",
    "plt.legend() \n",
    "\n",
    "# 显示图例和标题\n",
    "plt.legend()\n",
    "plt.title('KL Divergence Calculation')\n",
    "plt.show()"
   ]
  },
  {
   "cell_type": "code",
   "execution_count": null,
   "id": "ccf9947a",
   "metadata": {},
   "outputs": [],
   "source": []
  }
 ],
 "metadata": {
  "hide_input": false,
  "kernelspec": {
   "display_name": "Python 3 (ipykernel)",
   "language": "python",
   "name": "python3"
  },
  "language_info": {
   "codemirror_mode": {
    "name": "ipython",
    "version": 3
   },
   "file_extension": ".py",
   "mimetype": "text/x-python",
   "name": "python",
   "nbconvert_exporter": "python",
   "pygments_lexer": "ipython3",
   "version": "3.11.5"
  },
  "toc": {
   "base_numbering": "10",
   "nav_menu": {},
   "number_sections": true,
   "sideBar": true,
   "skip_h1_title": false,
   "title_cell": "Table of Contents",
   "title_sidebar": "Contents",
   "toc_cell": false,
   "toc_position": {
    "height": "calc(100% - 180px)",
    "left": "10px",
    "top": "150px",
    "width": "229.667px"
   },
   "toc_section_display": true,
   "toc_window_display": true
  },
  "varInspector": {
   "cols": {
    "lenName": 16,
    "lenType": 16,
    "lenVar": 40
   },
   "kernels_config": {
    "python": {
     "delete_cmd_postfix": "",
     "delete_cmd_prefix": "del ",
     "library": "var_list.py",
     "varRefreshCmd": "print(var_dic_list())"
    },
    "r": {
     "delete_cmd_postfix": ") ",
     "delete_cmd_prefix": "rm(",
     "library": "var_list.r",
     "varRefreshCmd": "cat(var_dic_list()) "
    }
   },
   "types_to_exclude": [
    "module",
    "function",
    "builtin_function_or_method",
    "instance",
    "_Feature"
   ],
   "window_display": false
  }
 },
 "nbformat": 4,
 "nbformat_minor": 5
}
