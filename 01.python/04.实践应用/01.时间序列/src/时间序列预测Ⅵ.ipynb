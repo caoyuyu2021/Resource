{
 "cells": [
  {
   "cell_type": "markdown",
   "id": "c200cd90",
   "metadata": {},
   "source": [
    "# GAN（生成对抗式网络）"
   ]
  },
  {
   "cell_type": "code",
   "execution_count": 18,
   "id": "b01335a0",
   "metadata": {
    "ExecuteTime": {
     "end_time": "2024-01-09T01:06:05.036947Z",
     "start_time": "2024-01-09T01:06:05.013132Z"
    }
   },
   "outputs": [],
   "source": [
    "import datetime as dt\n",
    "import os\n",
    "import warnings\n",
    "from collections import UserDict\n",
    "from tqdm import tqdm # 打印进度条\n",
    "\n",
    "import matplotlib.pyplot as plt\n",
    "import seaborn as sns\n",
    "import numpy as np\n",
    "import pandas as pd\n",
    "from IPython.display import Image\n",
    "from sklearn.preprocessing import MinMaxScaler\n",
    "\n",
    "from pylab import mpl\n",
    "# 设置显示中文字体\n",
    "mpl.rcParams[\"font.sans-serif\"] = [\"SimHei\"]\n",
    "# 设置正常显示符号\n",
    "mpl.rcParams[\"axes.unicode_minus\"] = False\n",
    "\n",
    "import torch\n",
    "import torch.nn as nn\n",
    "import torch.optim as optim\n",
    "import torch.utils.data as data\n",
    "from sklearn.model_selection import train_test_split\n",
    "\n",
    "# 两种绘图接口\n",
    "import plotly_express as px  \n",
    "import plotly.graph_objects as go\n",
    "\n",
    "%matplotlib inline\n",
    "\n",
    "warnings.filterwarnings(\"ignore\")\n",
    "pd.options.display.float_format = \"{:,.2f}\".format\n",
    "np.set_printoptions(precision=2)"
   ]
  },
  {
   "cell_type": "markdown",
   "id": "8dcade2e",
   "metadata": {},
   "source": [
    "## 基本概念"
   ]
  },
  {
   "cell_type": "markdown",
   "id": "6f4137ff",
   "metadata": {},
   "source": [
    "GAN的全称是Generative adversarial network，中文翻译过来就是生成对抗网络。生成对抗网络其实是两个网络的组合：生成网络（Generator）负责生成模拟数据；判别网络Discriminator）负责判断输入的数据是真实的还是生成的。生成网络要不断优化自己生成的数据让判别网络判断不出来，判别网络也要优化自己让自己判断得更准确。二者关系形成对抗，因此叫对抗网络。"
   ]
  },
  {
   "cell_type": "markdown",
   "id": "42b60f2a",
   "metadata": {},
   "source": [
    "GAN通过对某一事物大量数据的学习，来学习总结出其在数学层面上的分布规律，构建出合理的映射函数，从而解决现实问题。"
   ]
  },
  {
   "cell_type": "markdown",
   "id": "ab14bcf6",
   "metadata": {},
   "source": [
    "![示例图片](../images/p40.png)"
   ]
  },
  {
   "cell_type": "markdown",
   "id": "cc5b4974",
   "metadata": {},
   "source": [
    "生成器(Generator)：通过机器生成数据（大部分情况下是图像），最终目的是“骗过”判别器。\n",
    "\n",
    "判别器(Discriminator)：判断这张图像是真实的还是机器生成的，目的是找出生成器做的“假数据”。"
   ]
  },
  {
   "cell_type": "markdown",
   "id": "62e2afc4",
   "metadata": {},
   "source": [
    "生成器生成假数据，然后将生成的假数据和真数据都输入判别器，判别器要判断出哪些是真的哪些是假的。判别器第一次判别出来的肯定有很大的误差，然后我们根据误差来优化判别器。现在判别器水平提高了，生成器生成的数据很难再骗过判别器了，所以我们得反过来优化生成器，之后生成器水平提高了，然后反过来继续训练判别器，判别器水平又提高了，再反过来训练生成器，就这样循环往复，直到达到纳什均衡。"
   ]
  },
  {
   "cell_type": "markdown",
   "id": "a235db90",
   "metadata": {},
   "source": [
    "**生成网络的损失函数：**\n",
    "$$L_G=H(1,D(G(z)))$$\n",
    "上式中，$G$ 代表生成网络，$D $代表判别网络，$H$ 代表交叉熵，$z$ 是输入随机数据。$D(G(z))$是对生成数据的判断概率，1代表数据绝对真实，0代表数据绝对虚假。$H(1,D(G(z)))$代表判断结果与1的距离。显然生成网络想取得良好的效果，那就要做到，让判别器将生成数据判别为真数据（即$D(G(z))$与1的距离越小越好）。\n",
    "\n",
    "**判别网络的损失函数：**\n",
    "$$L_D=H(1,D(x))+H(0,D(G(z)))$$\n",
    "上式中，$x$是真实数据，这里要注意的是，$H(1,D(x))$代表真实数据与1的距离，$H(0,D(G(z)))$代表生成数据与0的距离。显然，识别网络要想取得良好的效果，那么就要做到，在它眼里，真实数据就是真实数据，生成数据就是虚假数据（即真实数据与1的距离小，生成数据与0的距离小）。\n",
    " "
   ]
  },
  {
   "cell_type": "markdown",
   "id": "50554999",
   "metadata": {},
   "source": [
    "**优化原理**：生成网络和判别网络有了损失函数，就可以基于各自的损失函数，利用误差反向传播（Backpropagation）(BP)反向传播算法和最优化方法(如梯度下降法)来实现参数的调整），不断提高生成网络和判别网络的性能（最终生成网络和判别网络的成熟状态就是学习到了合理的映射函数）。"
   ]
  },
  {
   "cell_type": "markdown",
   "id": "b658ee42",
   "metadata": {},
   "source": [
    "## 数据准备"
   ]
  },
  {
   "cell_type": "code",
   "execution_count": 148,
   "id": "7881fb0d",
   "metadata": {
    "ExecuteTime": {
     "end_time": "2024-01-09T09:43:28.033439Z",
     "start_time": "2024-01-09T09:43:27.955523Z"
    }
   },
   "outputs": [
    {
     "data": {
      "text/html": [
       "<div>\n",
       "<style scoped>\n",
       "    .dataframe tbody tr th:only-of-type {\n",
       "        vertical-align: middle;\n",
       "    }\n",
       "\n",
       "    .dataframe tbody tr th {\n",
       "        vertical-align: top;\n",
       "    }\n",
       "\n",
       "    .dataframe thead th {\n",
       "        text-align: right;\n",
       "    }\n",
       "</style>\n",
       "<table border=\"1\" class=\"dataframe\">\n",
       "  <thead>\n",
       "    <tr style=\"text-align: right;\">\n",
       "      <th></th>\n",
       "      <th>load</th>\n",
       "      <th>temp</th>\n",
       "    </tr>\n",
       "  </thead>\n",
       "  <tbody>\n",
       "    <tr>\n",
       "      <th>2012-01-01 00:00:00</th>\n",
       "      <td>2,698.00</td>\n",
       "      <td>32.00</td>\n",
       "    </tr>\n",
       "    <tr>\n",
       "      <th>2012-01-01 01:00:00</th>\n",
       "      <td>2,558.00</td>\n",
       "      <td>32.67</td>\n",
       "    </tr>\n",
       "    <tr>\n",
       "      <th>2012-01-01 02:00:00</th>\n",
       "      <td>2,444.00</td>\n",
       "      <td>30.00</td>\n",
       "    </tr>\n",
       "    <tr>\n",
       "      <th>2012-01-01 03:00:00</th>\n",
       "      <td>2,402.00</td>\n",
       "      <td>31.00</td>\n",
       "    </tr>\n",
       "    <tr>\n",
       "      <th>2012-01-01 04:00:00</th>\n",
       "      <td>2,403.00</td>\n",
       "      <td>32.00</td>\n",
       "    </tr>\n",
       "  </tbody>\n",
       "</table>\n",
       "</div>"
      ],
      "text/plain": [
       "                        load  temp\n",
       "2012-01-01 00:00:00 2,698.00 32.00\n",
       "2012-01-01 01:00:00 2,558.00 32.67\n",
       "2012-01-01 02:00:00 2,444.00 30.00\n",
       "2012-01-01 03:00:00 2,402.00 31.00\n",
       "2012-01-01 04:00:00 2,403.00 32.00"
      ]
     },
     "execution_count": 148,
     "metadata": {},
     "output_type": "execute_result"
    }
   ],
   "source": [
    "ts_data = pd.read_csv(\"../data/energy.csv\")\n",
    "ts_data = pd.DataFrame(ts_data[[\"load\", \"temp\"]].values, index=pd.to_datetime(ts_data[\"Unnamed: 0\"].values), columns=[\"load\", \"temp\"])\n",
    "ts_data = ts_data.asfreq(freq='H') #转换为小时频率的数据\n",
    "ts_data.head()"
   ]
  },
  {
   "cell_type": "code",
   "execution_count": 149,
   "id": "d9172fca",
   "metadata": {
    "ExecuteTime": {
     "end_time": "2024-01-09T09:43:29.042500Z",
     "start_time": "2024-01-09T09:43:29.034542Z"
    }
   },
   "outputs": [],
   "source": [
    "# 包含时间维度的数据集划分\n",
    "def divide_dataset(df, valid_date, test_date, x_feature_list, y_feature_list):\n",
    "    #归一化\n",
    "    x_scaler = MinMaxScaler()\n",
    "    y_scaler = MinMaxScaler()\n",
    "\n",
    "    #测试集\n",
    "    train = df.copy()[df.index < valid_date][x_feature_list]\n",
    "    train[x_feature_list] = x_scaler.fit_transform(train)\n",
    "    train = train.values.astype('float32')\n",
    "\n",
    "    #验证集\n",
    "    valid = df.copy()[(df.index >= valid_date) & (df.index < test_date)][x_feature_list]\n",
    "    valid[x_feature_list] = x_scaler.fit_transform(valid)\n",
    "    valid = valid.values.astype('float32')\n",
    "\n",
    "    #测试集\n",
    "    test = df.copy()[test_date:][x_feature_list]\n",
    "    test[x_feature_list] = x_scaler.fit_transform(test)\n",
    "    test = test.values.astype('float32')\n",
    "\n",
    "    #标签\n",
    "    ytr = df.copy()[df.index < valid_date][y_feature_list]\n",
    "    ytr[y_feature_list] = y_scaler.fit_transform(ytr)\n",
    "    ytr = ytr.values.astype('float32')\n",
    "\n",
    "    yva = df.copy()[(df.index >= valid_date) & (df.index < test_date)][y_feature_list]\n",
    "    yva[y_feature_list] = y_scaler.fit_transform(yva)\n",
    "    yva = yva.values.astype('float32')\n",
    "\n",
    "    yte = df.copy()[test_date:][y_feature_list]\n",
    "    yte[y_feature_list] = y_scaler.fit_transform(yte)\n",
    "    yte = yte.values.astype('float32')\n",
    "    return y_scaler, train, valid, test, ytr, yva, yte"
   ]
  },
  {
   "cell_type": "code",
   "execution_count": 150,
   "id": "5050fb53",
   "metadata": {
    "ExecuteTime": {
     "end_time": "2024-01-09T09:43:29.711950Z",
     "start_time": "2024-01-09T09:43:29.681254Z"
    }
   },
   "outputs": [
    {
     "name": "stdout",
     "output_type": "stream",
     "text": [
      "x_train shape: (23376, 2) y_train shape: (23376, 2)\n",
      "x_valid shape: (1464, 2) y_valid shape: (1464, 2)\n",
      "x_test shape: (1464, 2) y_test shape: (1464, 2)\n"
     ]
    }
   ],
   "source": [
    "# 构造参数字典\n",
    "params1 = {\n",
    "    \"df\": ts_data,\n",
    "    \"valid_date\": \"2014-09-01 00:00:00\",\n",
    "    \"test_date\": \"2014-11-01 00:00:00\",\n",
    "    \"x_feature_list\": [\"load\", \"temp\"],\n",
    "    \"y_feature_list\": [\"load\", \"temp\"],\n",
    "}\n",
    "\n",
    "#函数传参\n",
    "scaler, x_train, x_valid, x_test, y_train, y_valid, y_test = divide_dataset(**params1)\n",
    "print(\"x_train shape: {0} y_train shape: {1}\".format(x_train.shape, y_train.shape))\n",
    "print(\"x_valid shape: {0} y_valid shape: {1}\".format(x_valid.shape, y_valid.shape))\n",
    "print(\"x_test shape: {0} y_test shape: {1}\".format(x_test.shape, y_test.shape))"
   ]
  },
  {
   "cell_type": "code",
   "execution_count": 151,
   "id": "7e4c5890",
   "metadata": {
    "ExecuteTime": {
     "end_time": "2024-01-09T09:43:30.563743Z",
     "start_time": "2024-01-09T09:43:30.557389Z"
    }
   },
   "outputs": [],
   "source": [
    "# 生成tensor数据\n",
    "def rnn_create_dataset(feature, target, lookback, step, batch_size):\n",
    "    \"\"\"\n",
    "    @参数设置：\n",
    "    feature：输入向量\n",
    "    target：输出向量\n",
    "    \"\"\"\n",
    "    X, y = [], []\n",
    "    #循环生成数据\n",
    "    for i in range(lookback, len(feature), step):\n",
    "        feat = feature[i - lookback:i]\n",
    "        tar = target[i - lookback:i]\n",
    "        X.append(feat)\n",
    "        y.append(tar)\n",
    "    #转为张量\n",
    "    X = torch.as_tensor(X)\n",
    "    y = torch.as_tensor(y)\n",
    "    #创建dataloader，drop_last这个是对最后的未完成的batch来说的，后面剩余的不够batch_size的会丢弃\n",
    "    loader = data.DataLoader(data.TensorDataset(X, y), shuffle=True, batch_size=batch_size, drop_last=True)\n",
    "    return X, y, loader"
   ]
  },
  {
   "cell_type": "code",
   "execution_count": 152,
   "id": "b02c2345",
   "metadata": {
    "ExecuteTime": {
     "end_time": "2024-01-09T09:43:31.920660Z",
     "start_time": "2024-01-09T09:43:31.398529Z"
    }
   },
   "outputs": [
    {
     "name": "stdout",
     "output_type": "stream",
     "text": [
      "X_size: torch.Size([23370, 6, 2]),y_size: torch.Size([23370, 6, 2]),loader_len: 365\n",
      "X_size: torch.Size([1458, 6, 2]),y_size: torch.Size([1458, 6, 2]),loader_len: 22\n",
      "X_size: torch.Size([1458, 6, 2]),y_size: torch.Size([1458, 6, 2]),loader_len: 22\n"
     ]
    }
   ],
   "source": [
    "# 构造参数字典\n",
    "params2 = {\n",
    "    \"lookback\": 6,\n",
    "    \"step\": 1,\n",
    "    \"batch_size\": 64,\n",
    "}\n",
    "X_train, y_train, train_loader = rnn_create_dataset(x_train, y_train, **params2)\n",
    "X_valid, y_valid, valid_loader = rnn_create_dataset(x_valid, y_valid, **params2)\n",
    "X_test, y_test, test_loader = rnn_create_dataset(x_test, y_test, **params2)\n",
    "print(\"X_size: {0},y_size: {1},loader_len: {2}\".format(X_train.shape, y_train.shape, len(train_loader)))\n",
    "print(\"X_size: {0},y_size: {1},loader_len: {2}\".format(X_valid.shape, y_valid.shape, len(valid_loader)))\n",
    "print(\"X_size: {0},y_size: {1},loader_len: {2}\".format(X_test.shape, y_test.shape, len(test_loader)))"
   ]
  },
  {
   "cell_type": "markdown",
   "id": "9366af09",
   "metadata": {},
   "source": [
    "## 结果分析"
   ]
  },
  {
   "cell_type": "code",
   "execution_count": 153,
   "id": "5580672e",
   "metadata": {
    "ExecuteTime": {
     "end_time": "2024-01-09T09:43:33.679379Z",
     "start_time": "2024-01-09T09:43:33.673455Z"
    }
   },
   "outputs": [],
   "source": [
    "#损失函数图\n",
    "def plot_loss(train_losses, val_losses):\n",
    "    plt.figure(figsize=(10, 5))\n",
    "    plt.plot(val_losses, linestyle='-',color = '#11b3b6')\n",
    "    plt.plot(train_losses, linestyle='-',color = '#f14643')\n",
    "    plt.xlabel(\"Epoch\")\n",
    "    plt.ylabel(\"Loss\")\n",
    "    plt.title(\"GANs\")\n",
    "    plt.legend([\"Generator loss\", \"Discriminator loss\"])\n",
    "    plt.show()"
   ]
  },
  {
   "cell_type": "markdown",
   "id": "e4f51d82",
   "metadata": {},
   "source": [
    "## 模型训练"
   ]
  },
  {
   "cell_type": "code",
   "execution_count": 188,
   "id": "99456c7b",
   "metadata": {
    "ExecuteTime": {
     "end_time": "2024-01-09T10:19:29.404488Z",
     "start_time": "2024-01-09T10:19:29.390111Z"
    }
   },
   "outputs": [],
   "source": [
    "def train(train_loader, valid_loader, n_epochs, verbose=True, plots=True):\n",
    "    # 定义生成器\n",
    "    class Generator(nn.Module):\n",
    "        def __init__(self, input_dim, hidden_dim, out_dim):\n",
    "            super(Generator, self).__init__()\n",
    "            self.lstm = nn.LSTM(input_dim, hidden_dim, batch_first=True, bidirectional = True)\n",
    "            self.fc = nn.Linear(hidden_dim*2, out_dim)\n",
    "            self.sigmoid = nn.Sigmoid()\n",
    "\n",
    "        def forward(self, x):\n",
    "            out, _ = self.lstm(x)\n",
    "            out = self.fc(out)  \n",
    "            out = self.sigmoid(out)\n",
    "            return out\n",
    "\n",
    "    # 定义判别器\n",
    "    class Discriminator(nn.Module):\n",
    "        def __init__(self, input_dim, hidden_dim):\n",
    "            super(Discriminator, self).__init__()\n",
    "            self.lstm = nn.LSTM(input_dim, hidden_dim, batch_first=True, bidirectional = True)\n",
    "            self.fc = nn.Linear(hidden_dim*2, 1)\n",
    "            self.sigmoid = nn.Sigmoid() # 二分类\n",
    "\n",
    "        def forward(self, x):\n",
    "            out, _ = self.lstm(x)\n",
    "            out = out[:, -1, :]  # 使用最后一个时间步的输出\n",
    "            out = self.fc(out)\n",
    "            out = self.sigmoid(out)\n",
    "            return out\n",
    "        \n",
    "    #检查是否可用GPU\n",
    "    device = torch.device(\"cuda\" if torch.cuda.is_available() else \"cpu\")\n",
    "\n",
    "    # 创建模型和优化器\n",
    "    input_dim = 2  # 输入数据的维度\n",
    "    hidden_dim = 64  # LSTM层的隐藏单元数\n",
    "    out_dim = 2  # 输出数据的维度\n",
    "    batch_size = 64\n",
    "    seq_length = 6\n",
    "    lr = 0.001  # 学习率\n",
    "\n",
    "    generator = Generator(input_dim, hidden_dim, out_dim)\n",
    "    discriminator = Discriminator(input_dim, hidden_dim)\n",
    "\n",
    "    optimizer_G = optim.Adam(generator.parameters(), lr=lr)\n",
    "    optimizer_D = optim.Adam(discriminator.parameters(), lr=lr)\n",
    "\n",
    "    # 定义损失函数\n",
    "    loss_fn = nn.BCELoss()\n",
    "    \n",
    "    # 损失函数值\n",
    "    G_losses, D_losses = [], []\n",
    "\n",
    "    for epoch in tqdm(range(n_epochs)):\n",
    "        generator.train()\n",
    "        discriminator.train()\n",
    "        total_G_loss = 0\n",
    "        total_D_loss = 0\n",
    "        for inputs_batch, targets_batch in train_loader:\n",
    "            # 将输入数据和标签移至GPU\n",
    "            inputs_batch, targets_batch = inputs_batch.to(device), targets_batch.to(device)\n",
    "            \n",
    "            # 训练生成器\n",
    "            optimizer_G.zero_grad()\n",
    "            # 生成器的输入可以是随机噪声等，均值为0，方差为1的正态分布随机数\n",
    "            fake_data = generator(torch.rand(batch_size, seq_length, input_dim).to(device))  # 64个序列，每个序列长度为6\n",
    "            fake_labels = torch.zeros(batch_size, 1)  # 生成器生成的数据标签为0，表示生成的数据\n",
    "            loss_G = loss_fn(discriminator(fake_data), fake_labels)\n",
    "            loss_G.backward()\n",
    "            optimizer_G.step()\n",
    "\n",
    "            # 训练判别器\n",
    "            optimizer_D.zero_grad()\n",
    "            real_data = inputs_batch # 实际数据\n",
    "            real_labels = torch.ones(batch_size, 1)  # 真实数据的标签为1，表示真实数据\n",
    "            loss_real = loss_fn(discriminator(real_data), real_labels) # 判定为真的损失\n",
    "            # 判别器对生成器生成的数据的损失\n",
    "            # .detach()的作用是防止梯度回传到生成器，因为在这里我们只关心判别器的损失。\n",
    "            loss_fake = loss_fn(discriminator(fake_data.detach()), fake_labels)  # 判定为假的损失\n",
    "            loss_D = (loss_real + loss_fake) / 2\n",
    "            loss_D.backward()\n",
    "            optimizer_D.step()\n",
    "            \n",
    "            #每个batch的loss和\n",
    "            total_G_loss += loss_G.item()\n",
    "            total_D_loss += loss_D.item()\n",
    "                \n",
    "        #每个epoch的损失平均\n",
    "        avg_G_loss = total_G_loss / len(train_loader)\n",
    "        avg_D_loss = total_D_loss / len(train_loader)\n",
    "        \n",
    "        #所有epoch的loss\n",
    "        G_losses.append(avg_G_loss)\n",
    "        D_losses.append(avg_D_loss)\n",
    "            \n",
    "        print(f'Epoch [{epoch}/{n_epochs}], Generator Loss: {avg_G_loss:.4f}, Discriminator Loss: {avg_D_loss:.4f}')\n",
    "\n",
    "    #绘制损失函数图\n",
    "    if plots:\n",
    "        plot_loss(G_losses, D_losses)\n",
    "        \n",
    "    return generator"
   ]
  },
  {
   "cell_type": "code",
   "execution_count": 189,
   "id": "7e161e02",
   "metadata": {
    "ExecuteTime": {
     "end_time": "2024-01-09T10:20:52.864557Z",
     "start_time": "2024-01-09T10:19:30.092753Z"
    }
   },
   "outputs": [
    {
     "name": "stderr",
     "output_type": "stream",
     "text": [
      " 10%|████████▎                                                                          | 1/10 [00:08<01:12,  8.01s/it]"
     ]
    },
    {
     "name": "stdout",
     "output_type": "stream",
     "text": [
      "Epoch [0/10], Generator Loss: 0.0873, Discriminator Loss: 0.0853\n"
     ]
    },
    {
     "name": "stderr",
     "output_type": "stream",
     "text": [
      "\r",
      " 20%|████████████████▌                                                                  | 2/10 [00:16<01:04,  8.06s/it]"
     ]
    },
    {
     "name": "stdout",
     "output_type": "stream",
     "text": [
      "Epoch [1/10], Generator Loss: 0.0003, Discriminator Loss: 0.0003\n"
     ]
    },
    {
     "name": "stderr",
     "output_type": "stream",
     "text": [
      "\r",
      " 30%|████████████████████████▉                                                          | 3/10 [00:24<00:56,  8.04s/it]"
     ]
    },
    {
     "name": "stdout",
     "output_type": "stream",
     "text": [
      "Epoch [2/10], Generator Loss: 0.0001, Discriminator Loss: 0.0001\n"
     ]
    },
    {
     "name": "stderr",
     "output_type": "stream",
     "text": [
      "\r",
      " 40%|█████████████████████████████████▏                                                 | 4/10 [00:32<00:48,  8.05s/it]"
     ]
    },
    {
     "name": "stdout",
     "output_type": "stream",
     "text": [
      "Epoch [3/10], Generator Loss: 0.0001, Discriminator Loss: 0.0001\n"
     ]
    },
    {
     "name": "stderr",
     "output_type": "stream",
     "text": [
      "\r",
      " 50%|█████████████████████████████████████████▌                                         | 5/10 [00:40<00:40,  8.04s/it]"
     ]
    },
    {
     "name": "stdout",
     "output_type": "stream",
     "text": [
      "Epoch [4/10], Generator Loss: 0.0000, Discriminator Loss: 0.0000\n"
     ]
    },
    {
     "name": "stderr",
     "output_type": "stream",
     "text": [
      "\r",
      " 60%|█████████████████████████████████████████████████▊                                 | 6/10 [00:48<00:33,  8.27s/it]"
     ]
    },
    {
     "name": "stdout",
     "output_type": "stream",
     "text": [
      "Epoch [5/10], Generator Loss: 0.0000, Discriminator Loss: 0.0000\n"
     ]
    },
    {
     "name": "stderr",
     "output_type": "stream",
     "text": [
      "\r",
      " 70%|██████████████████████████████████████████████████████████                         | 7/10 [00:57<00:25,  8.43s/it]"
     ]
    },
    {
     "name": "stdout",
     "output_type": "stream",
     "text": [
      "Epoch [6/10], Generator Loss: 0.0000, Discriminator Loss: 0.0000\n"
     ]
    },
    {
     "name": "stderr",
     "output_type": "stream",
     "text": [
      "\r",
      " 80%|██████████████████████████████████████████████████████████████████▍                | 8/10 [01:06<00:17,  8.52s/it]"
     ]
    },
    {
     "name": "stdout",
     "output_type": "stream",
     "text": [
      "Epoch [7/10], Generator Loss: 0.0000, Discriminator Loss: 0.0000\n"
     ]
    },
    {
     "name": "stderr",
     "output_type": "stream",
     "text": [
      "\r",
      " 90%|██████████████████████████████████████████████████████████████████████████▋        | 9/10 [01:14<00:08,  8.39s/it]"
     ]
    },
    {
     "name": "stdout",
     "output_type": "stream",
     "text": [
      "Epoch [8/10], Generator Loss: 0.0000, Discriminator Loss: 0.0000\n"
     ]
    },
    {
     "name": "stderr",
     "output_type": "stream",
     "text": [
      "100%|██████████████████████████████████████████████████████████████████████████████████| 10/10 [01:22<00:00,  8.26s/it]"
     ]
    },
    {
     "name": "stdout",
     "output_type": "stream",
     "text": [
      "Epoch [9/10], Generator Loss: 0.0000, Discriminator Loss: 0.0000\n"
     ]
    },
    {
     "name": "stderr",
     "output_type": "stream",
     "text": [
      "\n"
     ]
    },
    {
     "data": {
      "image/png": "[encoded data removed]",
      "text/plain": [
       "<Figure size 1000x500 with 1 Axes>"
      ]
     },
     "metadata": {},
     "output_type": "display_data"
    }
   ],
   "source": [
    "# 构造参数字典\n",
    "params3 = {\n",
    "    \"train_loader\": train_loader,\n",
    "    \"valid_loader\": valid_loader,\n",
    "    \"n_epochs\": 10,\n",
    "    \"verbose\": True,\n",
    "    \"plots\": True,\n",
    "}\n",
    "generator = train(**params3)"
   ]
  },
  {
   "cell_type": "markdown",
   "id": "f6e4ff43",
   "metadata": {},
   "source": [
    "## 数据生成"
   ]
  },
  {
   "cell_type": "code",
   "execution_count": 179,
   "id": "a574eedc",
   "metadata": {
    "ExecuteTime": {
     "end_time": "2024-01-09T10:12:12.555964Z",
     "start_time": "2024-01-09T10:12:12.548914Z"
    }
   },
   "outputs": [],
   "source": [
    "# 生成单步数据\n",
    "def generator_(data, seq_length, out_dim, num_samples, scaler, model):\n",
    "    # 设定参数\n",
    "    batch_size = 1 # 默认每次只生成一组\n",
    "\n",
    "    # 检查是否可用GPU\n",
    "    device = torch.device(\"cuda\" if torch.cuda.is_available() else \"cpu\") \n",
    "    nums = data.shape[0]\n",
    "    data = scaler.fit_transform(data.values.astype('float32'))\n",
    "\n",
    "    # 生成新样本\n",
    "    samples = []\n",
    "    for i in range(num_samples):\n",
    "#         # 使用模型先跑一组数据，每次跑数据隐藏层维度都会变，会和之后跑的数据分布相同\n",
    "#         k = np.random.randint(0, nums-seq_length) # 随机生成一个整数\n",
    "#         input_data = torch.tensor(data[k:k+seq_length, :]).unsqueeze(0) # 随机抽样\n",
    "#         input_data = input_data.to(device) # 将数据应用到GPU\n",
    "#         # 确保梯度不变\n",
    "#         with torch.no_grad():\n",
    "#             model.eval()\n",
    "#             y_pred = model(input_data) # 使隐藏层输入batch_size变为1\n",
    "    \n",
    "        # 在潜在空间中生成一个随机样本\n",
    "        new_input_data = torch.randn((batch_size, seq_length, out_dim))  \n",
    "        new_input_data = new_input_data.to(device) \n",
    "        with torch.no_grad():\n",
    "            model.eval()\n",
    "            generated_samples = model(new_input_data)\n",
    "            generated_samples = generated_samples[:, -1, :] # 取最后一组数据\n",
    "            generated_samples = generated_samples.cpu().detach().numpy()\n",
    "            generated_samples = scaler.inverse_transform(generated_samples) # 反归一化\n",
    "            samples.append(generated_samples)\n",
    "\n",
    "    # 重塑维度\n",
    "    samples = np.squeeze(np.array(samples))\n",
    "    \n",
    "    return samples"
   ]
  },
  {
   "cell_type": "code",
   "execution_count": 180,
   "id": "a9634f1b",
   "metadata": {
    "ExecuteTime": {
     "end_time": "2024-01-09T10:12:13.347755Z",
     "start_time": "2024-01-09T10:12:13.332907Z"
    }
   },
   "outputs": [],
   "source": [
    "# 生成时序数据\n",
    "params6 = {\n",
    "    \"data\": ts_data,\n",
    "    \"seq_length\": 6,\n",
    "    \"out_dim\": 2,\n",
    "    \"num_samples\": 10,\n",
    "    \"scaler\": scaler,\n",
    "    \"model\": generator,\n",
    "}\n",
    "new_data = generator_(**params6)"
   ]
  },
  {
   "cell_type": "code",
   "execution_count": 181,
   "id": "e74d18bc",
   "metadata": {
    "ExecuteTime": {
     "end_time": "2024-01-09T10:12:13.951667Z",
     "start_time": "2024-01-09T10:12:13.945943Z"
    }
   },
   "outputs": [
    {
     "data": {
      "text/plain": [
       "array([[5212.58,  -13.23],\n",
       "       [5212.42,  -13.23],\n",
       "       [5212.62,  -13.24],\n",
       "       [5213.06,  -13.25],\n",
       "       [5212.68,  -13.23],\n",
       "       [5212.5 ,  -13.24],\n",
       "       [5212.51,  -13.24],\n",
       "       [5212.75,  -13.23],\n",
       "       [5213.43,  -13.24],\n",
       "       [5212.58,  -13.23]], dtype=float32)"
      ]
     },
     "execution_count": 181,
     "metadata": {},
     "output_type": "execute_result"
    }
   ],
   "source": [
    "new_data"
   ]
  },
  {
   "cell_type": "code",
   "execution_count": 190,
   "id": "e3ed53d6",
   "metadata": {
    "ExecuteTime": {
     "end_time": "2024-01-09T10:21:03.390640Z",
     "start_time": "2024-01-09T10:21:03.385739Z"
    }
   },
   "outputs": [],
   "source": [
    "# 假设 generator 是已经训练好的生成器模型\n",
    "generator.eval()  # 将生成器切换到评估模式，确保不再进行梯度计算\n",
    "\n",
    "# 生成随机噪声作为输入\n",
    "random_noise = torch.rand(1, 6, 2)\n",
    "\n",
    "# 使用生成器生成数据\n",
    "generated_data = generator(random_noise)\n",
    "\n",
    "# generated_data 现在包含了生成器生成的数据\n"
   ]
  },
  {
   "cell_type": "code",
   "execution_count": 191,
   "id": "deca22d4",
   "metadata": {
    "ExecuteTime": {
     "end_time": "2024-01-09T10:21:04.293857Z",
     "start_time": "2024-01-09T10:21:04.288741Z"
    }
   },
   "outputs": [
    {
     "data": {
      "text/plain": [
       "array([[5215.87,  -13.16],\n",
       "       [5218.55,  -13.38],\n",
       "       [5219.98,  -13.52],\n",
       "       [5219.27,  -13.56],\n",
       "       [5213.57,  -13.5 ],\n",
       "       [5203.14,  -13.38]], dtype=float32)"
      ]
     },
     "execution_count": 191,
     "metadata": {},
     "output_type": "execute_result"
    }
   ],
   "source": [
    "scaler.inverse_transform(generated_data.squeeze().detach().numpy())"
   ]
  },
  {
   "cell_type": "code",
   "execution_count": 160,
   "id": "671d2f33",
   "metadata": {
    "ExecuteTime": {
     "end_time": "2024-01-09T09:53:16.581052Z",
     "start_time": "2024-01-09T09:53:16.573223Z"
    }
   },
   "outputs": [
    {
     "data": {
      "text/plain": [
       "tensor([[[0.9970, 0.0034],\n",
       "         [0.9976, 0.0028],\n",
       "         [0.9975, 0.0029],\n",
       "         [0.9972, 0.0037],\n",
       "         [0.9969, 0.0047],\n",
       "         [0.9958, 0.0061]]], grad_fn=<SigmoidBackward0>)"
      ]
     },
     "execution_count": 160,
     "metadata": {},
     "output_type": "execute_result"
    }
   ],
   "source": [
    "generated_data"
   ]
  },
  {
   "cell_type": "code",
   "execution_count": 122,
   "id": "253ae3c9",
   "metadata": {
    "ExecuteTime": {
     "end_time": "2024-01-09T07:34:59.845546Z",
     "start_time": "2024-01-09T07:34:59.839513Z"
    }
   },
   "outputs": [],
   "source": [
    "# 产生随机噪声\n",
    "latent_noise = torch.randn(1, 6, 2)\n",
    "\n",
    "# 在生成器前向传播中不跟踪梯度\n",
    "with torch.no_grad():\n",
    "    # 通过生成器生成数据\n",
    "    generator.eval()\n",
    "    generated_data = generator(latent_noise)"
   ]
  },
  {
   "cell_type": "code",
   "execution_count": 123,
   "id": "460a7a04",
   "metadata": {
    "ExecuteTime": {
     "end_time": "2024-01-09T07:35:00.729354Z",
     "start_time": "2024-01-09T07:35:00.723377Z"
    }
   },
   "outputs": [
    {
     "data": {
      "text/plain": [
       "tensor([[[8.8322e-01, 9.3992e-02],\n",
       "         [9.9912e-01, 2.9040e-04],\n",
       "         [9.9999e-01, 1.1246e-06],\n",
       "         [1.0000e+00, 4.3052e-07],\n",
       "         [1.0000e+00, 3.8304e-07],\n",
       "         [1.0000e+00, 3.7671e-07]]])"
      ]
     },
     "execution_count": 123,
     "metadata": {},
     "output_type": "execute_result"
    }
   ],
   "source": [
    "generated_data"
   ]
  },
  {
   "cell_type": "markdown",
   "id": "075a2f3e",
   "metadata": {},
   "source": [
    "如果生成的数据是同一个值，这可能是生成器陷入了模式崩溃（Mode Collapse）的情况。模式崩溃是指生成器倾向于生成相似或相同的样本，而不是多样性的输出。这可能是GAN训练中的一种常见问题。\n",
    "\n",
    "以下是一些可能的解决方法：\n",
    "\n",
    "增加生成器和判别器的复杂性：\n",
    "\n",
    "考虑增加生成器和判别器的容量，例如增加隐藏单元的数量、增加层数等。这有助于提高模型的表达能力，防止模式崩溃。\n",
    "使用其他的GAN变体：\n",
    "\n",
    "尝试使用其他GAN的变体，如WGAN（Wasserstein GAN）、LSGAN（Least Squares GAN）等。这些变体对于某些稳定性问题有更好的性能。\n",
    "尝试不同的优化器和学习率：\n",
    "\n",
    "调整生成器和判别器的优化器、学习率和其他超参数。有时候，改变优化器或学习率可以改善训练的稳定性。\n",
    "实施正则化技术：\n",
    "\n",
    "添加正则化技术，如批量归一化（Batch Normalization）或正则化项，以促使模型学习更稳定的表示。\n",
    "改变损失函数：\n",
    "\n",
    "尝试不同的损失函数，有时候使用不同的损失函数可以改善模型的训练表现。\n",
    "增加噪声：\n",
    "\n",
    "在训练中引入一些噪声，有时可以帮助模型避免陷入同一模式的问题。\n",
    "监控生成器和判别器的损失：\n",
    "\n",
    "通过监控生成器和判别器的损失来检查训练进程。如果发现损失不断变化而不收敛，可能需要调整超参数或模型架构。\n",
    "调整数据集：\n",
    "\n",
    "确保你的训练数据集具有足够的多样性，以便模型能够学到不同的模式。"
   ]
  },
  {
   "cell_type": "code",
   "execution_count": null,
   "id": "7e0794b2",
   "metadata": {},
   "outputs": [],
   "source": []
  },
  {
   "cell_type": "code",
   "execution_count": null,
   "id": "b29a3cbc",
   "metadata": {},
   "outputs": [],
   "source": []
  },
  {
   "cell_type": "code",
   "execution_count": null,
   "id": "ba5b3489",
   "metadata": {},
   "outputs": [],
   "source": []
  },
  {
   "cell_type": "code",
   "execution_count": null,
   "id": "bddd6dc8",
   "metadata": {},
   "outputs": [],
   "source": []
  },
  {
   "cell_type": "markdown",
   "id": "698c5a7b",
   "metadata": {},
   "source": [
    "# VAE（变分自编码器）"
   ]
  },
  {
   "cell_type": "markdown",
   "id": "e5ff11e4",
   "metadata": {},
   "source": [
    "详见时间序列预测Ⅳ，第七章7.5.8"
   ]
  },
  {
   "cell_type": "markdown",
   "id": "56536cbe",
   "metadata": {},
   "source": [
    "## 数据准备"
   ]
  },
  {
   "cell_type": "code",
   "execution_count": 60,
   "id": "b9f09f36",
   "metadata": {
    "ExecuteTime": {
     "end_time": "2024-01-09T06:52:43.200212Z",
     "start_time": "2024-01-09T06:52:43.139552Z"
    }
   },
   "outputs": [
    {
     "data": {
      "text/html": [
       "<div>\n",
       "<style scoped>\n",
       "    .dataframe tbody tr th:only-of-type {\n",
       "        vertical-align: middle;\n",
       "    }\n",
       "\n",
       "    .dataframe tbody tr th {\n",
       "        vertical-align: top;\n",
       "    }\n",
       "\n",
       "    .dataframe thead th {\n",
       "        text-align: right;\n",
       "    }\n",
       "</style>\n",
       "<table border=\"1\" class=\"dataframe\">\n",
       "  <thead>\n",
       "    <tr style=\"text-align: right;\">\n",
       "      <th></th>\n",
       "      <th>load</th>\n",
       "      <th>temp</th>\n",
       "    </tr>\n",
       "  </thead>\n",
       "  <tbody>\n",
       "    <tr>\n",
       "      <th>2012-01-01 00:00:00</th>\n",
       "      <td>2,698.00</td>\n",
       "      <td>32.00</td>\n",
       "    </tr>\n",
       "    <tr>\n",
       "      <th>2012-01-01 01:00:00</th>\n",
       "      <td>2,558.00</td>\n",
       "      <td>32.67</td>\n",
       "    </tr>\n",
       "    <tr>\n",
       "      <th>2012-01-01 02:00:00</th>\n",
       "      <td>2,444.00</td>\n",
       "      <td>30.00</td>\n",
       "    </tr>\n",
       "    <tr>\n",
       "      <th>2012-01-01 03:00:00</th>\n",
       "      <td>2,402.00</td>\n",
       "      <td>31.00</td>\n",
       "    </tr>\n",
       "    <tr>\n",
       "      <th>2012-01-01 04:00:00</th>\n",
       "      <td>2,403.00</td>\n",
       "      <td>32.00</td>\n",
       "    </tr>\n",
       "  </tbody>\n",
       "</table>\n",
       "</div>"
      ],
      "text/plain": [
       "                        load  temp\n",
       "2012-01-01 00:00:00 2,698.00 32.00\n",
       "2012-01-01 01:00:00 2,558.00 32.67\n",
       "2012-01-01 02:00:00 2,444.00 30.00\n",
       "2012-01-01 03:00:00 2,402.00 31.00\n",
       "2012-01-01 04:00:00 2,403.00 32.00"
      ]
     },
     "execution_count": 60,
     "metadata": {},
     "output_type": "execute_result"
    }
   ],
   "source": [
    "ts_data = pd.read_csv(\"../data/energy.csv\")\n",
    "ts_data = pd.DataFrame(ts_data[[\"load\", \"temp\"]].values, index=pd.to_datetime(ts_data[\"Unnamed: 0\"].values), columns=[\"load\", \"temp\"])\n",
    "ts_data = ts_data.asfreq(freq='H') #转换为小时频率的数据\n",
    "ts_data.head()"
   ]
  },
  {
   "cell_type": "code",
   "execution_count": null,
   "id": "b93370df",
   "metadata": {
    "ExecuteTime": {
     "end_time": "2024-01-09T06:52:43.267537Z",
     "start_time": "2024-01-09T06:52:43.267537Z"
    }
   },
   "outputs": [],
   "source": [
    "# 包含时间维度的数据集划分\n",
    "def divide_dataset(df, valid_date, test_date, x_feature_list, y_feature_list):\n",
    "    #归一化\n",
    "    x_scaler = MinMaxScaler()\n",
    "    y_scaler = MinMaxScaler()\n",
    "\n",
    "    #测试集\n",
    "    train = df.copy()[df.index < valid_date][x_feature_list]\n",
    "    train[x_feature_list] = x_scaler.fit_transform(train)\n",
    "    train = train.values.astype('float32')\n",
    "\n",
    "    #验证集\n",
    "    valid = df.copy()[(df.index >= valid_date) & (df.index < test_date)][x_feature_list]\n",
    "    valid[x_feature_list] = x_scaler.fit_transform(valid)\n",
    "    valid = valid.values.astype('float32')\n",
    "\n",
    "    #测试集\n",
    "    test = df.copy()[test_date:][x_feature_list]\n",
    "    test[x_feature_list] = x_scaler.fit_transform(test)\n",
    "    test = test.values.astype('float32')\n",
    "\n",
    "    #标签\n",
    "    ytr = df.copy()[df.index < valid_date][y_feature_list]\n",
    "    ytr[y_feature_list] = y_scaler.fit_transform(ytr)\n",
    "    ytr = ytr.values.astype('float32')\n",
    "\n",
    "    yva = df.copy()[(df.index >= valid_date) & (df.index < test_date)][y_feature_list]\n",
    "    yva[y_feature_list] = y_scaler.fit_transform(yva)\n",
    "    yva = yva.values.astype('float32')\n",
    "\n",
    "    yte = df.copy()[test_date:][y_feature_list]\n",
    "    yte[y_feature_list] = y_scaler.fit_transform(yte)\n",
    "    yte = yte.values.astype('float32')\n",
    "    return y_scaler, train, valid, test, ytr, yva, yte"
   ]
  },
  {
   "cell_type": "code",
   "execution_count": 61,
   "id": "a6b8053d",
   "metadata": {
    "ExecuteTime": {
     "end_time": "2024-01-09T06:52:43.540698Z",
     "start_time": "2024-01-09T06:52:43.513998Z"
    }
   },
   "outputs": [
    {
     "name": "stdout",
     "output_type": "stream",
     "text": [
      "x_train shape: (23376, 2) y_train shape: (23376, 2)\n",
      "x_valid shape: (1464, 2) y_valid shape: (1464, 2)\n",
      "x_test shape: (1464, 2) y_test shape: (1464, 2)\n"
     ]
    }
   ],
   "source": [
    "# 构造参数字典\n",
    "params1 = {\n",
    "    \"df\": ts_data,\n",
    "    \"valid_date\": \"2014-09-01 00:00:00\",\n",
    "    \"test_date\": \"2014-11-01 00:00:00\",\n",
    "    \"x_feature_list\": [\"load\", \"temp\"],\n",
    "    \"y_feature_list\": [\"load\", \"temp\"],\n",
    "}\n",
    "\n",
    "#函数传参\n",
    "scaler, x_train, x_valid, x_test, y_train, y_valid, y_test = divide_dataset(**params1)\n",
    "print(\"x_train shape: {0} y_train shape: {1}\".format(x_train.shape, y_train.shape))\n",
    "print(\"x_valid shape: {0} y_valid shape: {1}\".format(x_valid.shape, y_valid.shape))\n",
    "print(\"x_test shape: {0} y_test shape: {1}\".format(x_test.shape, y_test.shape))"
   ]
  },
  {
   "cell_type": "code",
   "execution_count": 62,
   "id": "a2bfb83f",
   "metadata": {
    "ExecuteTime": {
     "end_time": "2024-01-09T06:52:44.379825Z",
     "start_time": "2024-01-09T06:52:44.373595Z"
    }
   },
   "outputs": [],
   "source": [
    "# 生成tensor数据\n",
    "def rnn_create_dataset(feature, target, lookback, step, batch_size):\n",
    "    \"\"\"\n",
    "    @参数设置：\n",
    "    feature：输入向量\n",
    "    target：输出向量\n",
    "    \"\"\"\n",
    "    X, y = [], []\n",
    "    #循环生成数据\n",
    "    for i in range(lookback, len(feature), step):\n",
    "        feat = feature[i - lookback:i]\n",
    "        tar = target[i - lookback:i]\n",
    "        X.append(feat)\n",
    "        y.append(tar)\n",
    "    #转为张量\n",
    "    X = torch.as_tensor(X)\n",
    "    y = torch.as_tensor(y)\n",
    "    #创建dataloader，drop_last这个是对最后的未完成的batch来说的，后面剩余的不够batch_size的会丢弃\n",
    "    loader = data.DataLoader(data.TensorDataset(X, y), shuffle=True, batch_size=batch_size, drop_last=False)\n",
    "    return X, y, loader"
   ]
  },
  {
   "cell_type": "code",
   "execution_count": 63,
   "id": "5fece8de",
   "metadata": {
    "ExecuteTime": {
     "end_time": "2024-01-09T06:52:45.566809Z",
     "start_time": "2024-01-09T06:52:45.054500Z"
    }
   },
   "outputs": [
    {
     "name": "stdout",
     "output_type": "stream",
     "text": [
      "X_size: torch.Size([23370, 6, 2]),y_size: torch.Size([23370, 6, 2]),loader_len: 366\n",
      "X_size: torch.Size([1458, 6, 2]),y_size: torch.Size([1458, 6, 2]),loader_len: 23\n",
      "X_size: torch.Size([1458, 6, 2]),y_size: torch.Size([1458, 6, 2]),loader_len: 23\n"
     ]
    }
   ],
   "source": [
    "# 构造参数字典\n",
    "params2 = {\n",
    "    \"lookback\": 6,\n",
    "    \"step\": 1,\n",
    "    \"batch_size\": 64,\n",
    "}\n",
    "X_train, y_train, train_loader = rnn_create_dataset(x_train, y_train, **params2)\n",
    "X_valid, y_valid, valid_loader = rnn_create_dataset(x_valid, y_valid, **params2)\n",
    "X_test, y_test, test_loader = rnn_create_dataset(x_test, y_test, **params2)\n",
    "print(\"X_size: {0},y_size: {1},loader_len: {2}\".format(X_train.shape, y_train.shape, len(train_loader)))\n",
    "print(\"X_size: {0},y_size: {1},loader_len: {2}\".format(X_valid.shape, y_valid.shape, len(valid_loader)))\n",
    "print(\"X_size: {0},y_size: {1},loader_len: {2}\".format(X_test.shape, y_test.shape, len(test_loader)))"
   ]
  },
  {
   "cell_type": "markdown",
   "id": "bcc0ae84",
   "metadata": {},
   "source": [
    "## 结果分析"
   ]
  },
  {
   "cell_type": "code",
   "execution_count": 64,
   "id": "6bd6068f",
   "metadata": {
    "ExecuteTime": {
     "end_time": "2024-01-09T06:52:46.806048Z",
     "start_time": "2024-01-09T06:52:46.801234Z"
    }
   },
   "outputs": [],
   "source": [
    "#损失函数图\n",
    "def plot_loss(train_losses, val_losses):\n",
    "    plt.figure(figsize=(10, 5))\n",
    "    plt.plot(val_losses, linestyle='-',color = '#11b3b6')\n",
    "    plt.plot(train_losses, linestyle='-',color = '#f14643')\n",
    "    plt.xlabel(\"Epoch\")\n",
    "    plt.ylabel(\"Loss\")\n",
    "    plt.title(\"Training and Validation Progress\")\n",
    "    plt.legend([\"Validation\", \"Training\"])\n",
    "    plt.show()"
   ]
  },
  {
   "cell_type": "markdown",
   "id": "02bef9d8",
   "metadata": {},
   "source": [
    "## 模型训练"
   ]
  },
  {
   "cell_type": "code",
   "execution_count": 65,
   "id": "490a2372",
   "metadata": {
    "ExecuteTime": {
     "end_time": "2024-01-09T06:52:48.217655Z",
     "start_time": "2024-01-09T06:52:48.200955Z"
    }
   },
   "outputs": [],
   "source": [
    "def train(train_loader, valid_loader, n_epochs, verbose=True, plots=True):\n",
    "    # 定义变分自编码器模型\n",
    "    class VAE(nn.Module):\n",
    "        def __init__(self, input_dim, hidden_dim, latent_dim):\n",
    "            super(VAE, self).__init__()\n",
    "\n",
    "            # Encoder\n",
    "            self.encoder_lstm = nn.LSTM(input_dim, hidden_dim, num_layers=1, batch_first=True, bidirectional = True)  # LSTM用于编码输入序列\n",
    "            self.fc_mean = nn.Linear(hidden_dim*2, latent_dim) # 输出均值\n",
    "            self.fc_logvar = nn.Linear(hidden_dim*2, latent_dim) # 输出对数方差\n",
    "\n",
    "            # Decoder\n",
    "            self.decoder_lstm = nn.LSTM(latent_dim, hidden_dim, num_layers=1, batch_first=True, bidirectional = True)  # LSTM用于解码潜在表示\n",
    "            self.fc_output = nn.Linear(hidden_dim*2, input_dim) # 输出重建的序列\n",
    "\n",
    "        def encode(self, x):\n",
    "            x, (encoder_hidden, encoder_cell) = self.encoder_lstm(x)  # LSTM编码器的输出\n",
    "            mean = self.fc_mean(x) # 计算均值\n",
    "            logvar = self.fc_logvar(x) # 计算对数方差\n",
    "            return mean, logvar, encoder_hidden, encoder_cell\n",
    "\n",
    "        def reparameterize(self, mean, logvar):\n",
    "            std = torch.exp(0.5 * logvar) # 计算标准差\n",
    "            eps = torch.randn_like(std) # 从标准正态分布中采样噪声，并生成一个与输入张量形状相同的张量，目的是对抗\n",
    "            return mean + eps * std # 重新参数化，随着损失函数变小，使其服从标准正态分布\n",
    "\n",
    "        def decode(self, z):\n",
    "            decoder_hidden, decoder_cell = self.encoder_hidden, self.encoder_cell\n",
    "            x, _ = self.decoder_lstm(z, (decoder_hidden, decoder_cell))  # z服从标准正态分布\n",
    "            x = self.fc_output(x) # 输出重建的序列\n",
    "            return x\n",
    "\n",
    "        def forward(self, x):\n",
    "            mean, logvar, self.encoder_hidden, self.encoder_cell = self.encode(x) # 编码输入序列\n",
    "            z = self.reparameterize(mean, logvar) # 重参数化，形状为(batch_size, seq_length, latent_dim)\n",
    "            x_recon = self.decode(z) # 解码潜在表示\n",
    "            return x_recon, mean, logvar\n",
    "\n",
    "    # 定义变分自编码器的损失函数\n",
    "    def vae_loss(x_recon, x, mean, logvar):\n",
    "        # 重建损失（MSE损失）\n",
    "        recon_loss = nn.functional.mse_loss(x_recon, x)\n",
    "\n",
    "        # KL散度损失，KL散度通常用于衡量潜在空间中的编码分布与先验分布（通常是标准正态分布）之间的差异。\n",
    "        kl_loss = -0.5 * torch.sum(1 + logvar - mean.pow(2) - logvar.exp()) # 散度越小意味着两个分布越接近\n",
    "\n",
    "        return recon_loss + kl_loss\n",
    "        \n",
    "    #检查是否可用GPU\n",
    "    device = torch.device(\"cuda\" if torch.cuda.is_available() else \"cpu\")\n",
    "\n",
    "    # 创建模型和优化器\n",
    "    input_dim = 2  # 输入数据的维度\n",
    "    hidden_dim = 64  # LSTM层的隐藏单元数\n",
    "    latent_dim = 16  # 潜在空间的维度\n",
    "    model = VAE(input_dim, hidden_dim, latent_dim)\n",
    "    optimizer = optim.Adam(model.parameters(), lr=0.001)\n",
    "    loss_fn = nn.MSELoss()\n",
    "\n",
    "    # 损失函数值\n",
    "    train_losses, val_losses = [], []\n",
    "\n",
    "    for epoch in tqdm(range(n_epochs)):\n",
    "        model.train()\n",
    "        total_train_loss = 0\n",
    "        for inputs_batch, targets_batch in train_loader:\n",
    "            #将数据移至 GPU\n",
    "            inputs_batch = inputs_batch.to(device)\n",
    "            targets_batch = targets_batch.to(device)\n",
    "            # 清空梯度\n",
    "            optimizer.zero_grad()\n",
    "            x_recon, mean, logvar = model(inputs_batch)\n",
    "            train_loss = vae_loss(x_recon, inputs_batch, mean, logvar)\n",
    "            # 反向传播计算得到每个参数的梯度值\n",
    "            train_loss.backward()\n",
    "            # 通过梯度下降执行一步参数更新\n",
    "            optimizer.step()\n",
    "            #每个batch的loss和\n",
    "            total_train_loss += train_loss.item() # .item()表示只包含一个元素的tensor中提取值\n",
    "                \n",
    "        #每个epoch的损失平均\n",
    "        avg_train_loss = total_train_loss / len(train_loader)\n",
    "        \n",
    "        #所有epoch的loss\n",
    "        train_losses.append(avg_train_loss)\n",
    "        \n",
    "        #评估模型\n",
    "        model.eval()\n",
    "        #关闭自动求导功能，只使用训练好的模型进行预测或评估，不需要进行梯度计算和参数更新\n",
    "        with torch.no_grad():\n",
    "            total_val_loss = 0\n",
    "            for inputs_batch, targets_batch in valid_loader:\n",
    "                #将数据移至 GPU\n",
    "                inputs_batch = inputs_batch.to(device)\n",
    "                targets_batch = targets_batch.to(device)\n",
    "                x_recon, mean, logvar = model(inputs_batch)\n",
    "                val_loss = vae_loss(x_recon, inputs_batch, mean, logvar)\n",
    "                #每个batch的loss和\n",
    "                total_val_loss += val_loss.item()\n",
    "                \n",
    "        #每个epoch的损失平均\n",
    "        avg_val_loss = total_val_loss / len(valid_loader)\n",
    "        \n",
    "        #所有epoch的loss\n",
    "        val_losses.append(avg_val_loss)\n",
    "        \n",
    "        #打印训练过程\n",
    "        if verbose:\n",
    "            print(f'Epoch [{epoch+1}/{n_epochs}], Training Loss: {avg_train_loss:.4f}, Validation Loss: {avg_val_loss:.4f}')\n",
    "\n",
    "    #绘制损失函数图\n",
    "    if plots:\n",
    "        plot_loss(train_losses, val_losses)\n",
    "    return model"
   ]
  },
  {
   "cell_type": "code",
   "execution_count": 66,
   "id": "49d7b00b",
   "metadata": {
    "ExecuteTime": {
     "end_time": "2024-01-09T06:53:51.154668Z",
     "start_time": "2024-01-09T06:52:53.609307Z"
    },
    "scrolled": true
   },
   "outputs": [
    {
     "name": "stderr",
     "output_type": "stream",
     "text": [
      " 10%|████████▎                                                                          | 1/10 [00:05<00:48,  5.41s/it]"
     ]
    },
    {
     "name": "stdout",
     "output_type": "stream",
     "text": [
      "Epoch [1/10], Training Loss: 0.2539, Validation Loss: 0.0101\n"
     ]
    },
    {
     "name": "stderr",
     "output_type": "stream",
     "text": [
      "\r",
      " 20%|████████████████▌                                                                  | 2/10 [00:11<00:44,  5.58s/it]"
     ]
    },
    {
     "name": "stdout",
     "output_type": "stream",
     "text": [
      "Epoch [2/10], Training Loss: 0.0027, Validation Loss: 0.0036\n"
     ]
    },
    {
     "name": "stderr",
     "output_type": "stream",
     "text": [
      "\r",
      " 30%|████████████████████████▉                                                          | 3/10 [00:16<00:39,  5.66s/it]"
     ]
    },
    {
     "name": "stdout",
     "output_type": "stream",
     "text": [
      "Epoch [3/10], Training Loss: 0.0015, Validation Loss: 0.0028\n"
     ]
    },
    {
     "name": "stderr",
     "output_type": "stream",
     "text": [
      "\r",
      " 40%|█████████████████████████████████▏                                                 | 4/10 [00:22<00:34,  5.72s/it]"
     ]
    },
    {
     "name": "stdout",
     "output_type": "stream",
     "text": [
      "Epoch [4/10], Training Loss: 0.0011, Validation Loss: 0.0023\n"
     ]
    },
    {
     "name": "stderr",
     "output_type": "stream",
     "text": [
      "\r",
      " 50%|█████████████████████████████████████████▌                                         | 5/10 [00:28<00:28,  5.78s/it]"
     ]
    },
    {
     "name": "stdout",
     "output_type": "stream",
     "text": [
      "Epoch [5/10], Training Loss: 0.0009, Validation Loss: 0.0019\n"
     ]
    },
    {
     "name": "stderr",
     "output_type": "stream",
     "text": [
      "\r",
      " 60%|█████████████████████████████████████████████████▊                                 | 6/10 [00:34<00:23,  5.79s/it]"
     ]
    },
    {
     "name": "stdout",
     "output_type": "stream",
     "text": [
      "Epoch [6/10], Training Loss: 0.0007, Validation Loss: 0.0017\n"
     ]
    },
    {
     "name": "stderr",
     "output_type": "stream",
     "text": [
      "\r",
      " 70%|██████████████████████████████████████████████████████████                         | 7/10 [00:40<00:17,  5.76s/it]"
     ]
    },
    {
     "name": "stdout",
     "output_type": "stream",
     "text": [
      "Epoch [7/10], Training Loss: 0.0007, Validation Loss: 0.0015\n"
     ]
    },
    {
     "name": "stderr",
     "output_type": "stream",
     "text": [
      "\r",
      " 80%|██████████████████████████████████████████████████████████████████▍                | 8/10 [00:45<00:11,  5.76s/it]"
     ]
    },
    {
     "name": "stdout",
     "output_type": "stream",
     "text": [
      "Epoch [8/10], Training Loss: 0.0006, Validation Loss: 0.0015\n"
     ]
    },
    {
     "name": "stderr",
     "output_type": "stream",
     "text": [
      "\r",
      " 90%|██████████████████████████████████████████████████████████████████████████▋        | 9/10 [00:51<00:05,  5.77s/it]"
     ]
    },
    {
     "name": "stdout",
     "output_type": "stream",
     "text": [
      "Epoch [9/10], Training Loss: 0.0006, Validation Loss: 0.0014\n"
     ]
    },
    {
     "name": "stderr",
     "output_type": "stream",
     "text": [
      "100%|██████████████████████████████████████████████████████████████████████████████████| 10/10 [00:57<00:00,  5.73s/it]"
     ]
    },
    {
     "name": "stdout",
     "output_type": "stream",
     "text": [
      "Epoch [10/10], Training Loss: 0.0005, Validation Loss: 0.0013\n"
     ]
    },
    {
     "name": "stderr",
     "output_type": "stream",
     "text": [
      "\n"
     ]
    },
    {
     "data": {
      "image/png": "[encoded data removed]",
      "text/plain": [
       "<Figure size 1000x500 with 1 Axes>"
      ]
     },
     "metadata": {},
     "output_type": "display_data"
    }
   ],
   "source": [
    "# 构造参数字典\n",
    "params3 = {\n",
    "    \"train_loader\": train_loader,\n",
    "    \"valid_loader\": valid_loader,\n",
    "    \"n_epochs\": 10,\n",
    "    \"verbose\": True,\n",
    "    \"plots\": True,\n",
    "}\n",
    "model = train(**params3)"
   ]
  },
  {
   "cell_type": "markdown",
   "id": "b10e40b2",
   "metadata": {},
   "source": [
    "## 数据生成"
   ]
  },
  {
   "cell_type": "code",
   "execution_count": 67,
   "id": "32d3927e",
   "metadata": {
    "ExecuteTime": {
     "end_time": "2024-01-09T06:53:54.745879Z",
     "start_time": "2024-01-09T06:53:54.738526Z"
    }
   },
   "outputs": [],
   "source": [
    "# 生成单步数据\n",
    "def generator(data, seq_length, latent_dim, num_samples, scaler, model):\n",
    "    # 设定参数\n",
    "    batch_size = 1 # 默认每次只生成一组\n",
    "    seq_length = seq_length\n",
    "    latent_dim = latent_dim\n",
    "\n",
    "    # 检查是否可用GPU\n",
    "    device = torch.device(\"cuda\" if torch.cuda.is_available() else \"cpu\") \n",
    "    nums = data.shape[0]\n",
    "    data = scaler.fit_transform(data.values.astype('float32'))\n",
    "\n",
    "    # 生成新样本\n",
    "    samples = []\n",
    "    for i in range(num_samples):\n",
    "        # 使用模型先跑一组数据，每次跑数据隐藏层维度都会变，会和之后跑的数据分布相同\n",
    "        k = np.random.randint(0, nums-seq_length) # 随机生成一个整数\n",
    "        input_data = torch.tensor(data[k:k+seq_length, :]).unsqueeze(0) # 随机抽样\n",
    "        input_data = input_data.to(device) # 将数据应用到GPU\n",
    "        with torch.no_grad():\n",
    "            model.eval()\n",
    "            y_pred, mean, logvar = model(input_data) # 使隐藏层输入batch_size变为1\n",
    "    \n",
    "        # 在潜在空间中生成一个随机样本\n",
    "        new_input_data = torch.randn((batch_size, seq_length, latent_dim))  \n",
    "        new_input_data = new_input_data.to(device) \n",
    "        with torch.no_grad():\n",
    "            model.eval()\n",
    "            generated_samples = model.decode(new_input_data)\n",
    "            generated_samples = generated_samples[:, -1, :] # 取最后一组数据\n",
    "            generated_samples = generated_samples.cpu().detach().numpy()\n",
    "            generated_samples = scaler.inverse_transform(generated_samples) # 反归一化\n",
    "            samples.append(generated_samples)\n",
    "\n",
    "    # 重塑维度\n",
    "    samples = np.squeeze(np.array(samples))\n",
    "    \n",
    "    return samples"
   ]
  },
  {
   "cell_type": "code",
   "execution_count": 68,
   "id": "6519c7e1",
   "metadata": {
    "ExecuteTime": {
     "end_time": "2024-01-09T06:54:00.663977Z",
     "start_time": "2024-01-09T06:53:55.780989Z"
    }
   },
   "outputs": [],
   "source": [
    "# 生成时序数据\n",
    "params6 = {\n",
    "    \"data\": ts_data,\n",
    "    \"seq_length\": 6,\n",
    "    \"latent_dim\": 16,\n",
    "    \"num_samples\": 3000,\n",
    "    \"scaler\": scaler,\n",
    "    \"model\": model,\n",
    "}\n",
    "new_data = generator(**params6)"
   ]
  },
  {
   "cell_type": "markdown",
   "id": "8c5145e0",
   "metadata": {},
   "source": [
    "## 分布差异"
   ]
  },
  {
   "cell_type": "code",
   "execution_count": 72,
   "id": "a4c9c91b",
   "metadata": {
    "ExecuteTime": {
     "end_time": "2024-01-09T06:54:20.219629Z",
     "start_time": "2024-01-09T06:54:19.981044Z"
    }
   },
   "outputs": [
    {
     "data": {
      "text/plain": [
       "<Axes: ylabel='Density'>"
      ]
     },
     "execution_count": 72,
     "metadata": {},
     "output_type": "execute_result"
    },
    {
     "data": {
      "image/png": "[encoded data removed]",
      "text/plain": [
       "<Figure size 640x480 with 1 Axes>"
      ]
     },
     "metadata": {},
     "output_type": "display_data"
    }
   ],
   "source": [
    "sns.distplot(new_data[:,0]) # 生成的数据分布"
   ]
  },
  {
   "cell_type": "code",
   "execution_count": 73,
   "id": "dd42dec9",
   "metadata": {
    "ExecuteTime": {
     "end_time": "2024-01-09T06:54:22.421110Z",
     "start_time": "2024-01-09T06:54:22.128245Z"
    }
   },
   "outputs": [
    {
     "data": {
      "text/plain": [
       "<Axes: ylabel='Density'>"
      ]
     },
     "execution_count": 73,
     "metadata": {},
     "output_type": "execute_result"
    },
    {
     "data": {
      "image/png": "[encoded data removed]",
      "text/plain": [
       "<Figure size 640x480 with 1 Axes>"
      ]
     },
     "metadata": {},
     "output_type": "display_data"
    }
   ],
   "source": [
    "sns.distplot(ts_data['load'].values) # 原始的数据分布"
   ]
  },
  {
   "cell_type": "code",
   "execution_count": 71,
   "id": "1f0fddf6",
   "metadata": {
    "ExecuteTime": {
     "end_time": "2024-01-09T06:54:07.832960Z",
     "start_time": "2024-01-09T06:54:07.512954Z"
    }
   },
   "outputs": [
    {
     "name": "stdout",
     "output_type": "stream",
     "text": [
      "KL散度: 0.06708296180865164\n"
     ]
    },
    {
     "data": {
      "image/png": "[encoded data removed]",
      "text/plain": [
       "<Figure size 640x480 with 1 Axes>"
      ]
     },
     "metadata": {},
     "output_type": "display_data"
    },
    {
     "data": {
      "image/png": "[encoded data removed]",
      "text/plain": [
       "<Figure size 640x480 with 1 Axes>"
      ]
     },
     "metadata": {},
     "output_type": "display_data"
    }
   ],
   "source": [
    "import numpy as np\n",
    "import matplotlib.pyplot as plt\n",
    "from scipy.stats import entropy\n",
    "\n",
    "np.random.seed(42)\n",
    "data1 = new_data[:,0]\n",
    "data2 = ts_data['load'].values\n",
    "\n",
    "# 生成两个直方图\n",
    "hist1, bins1 = np.histogram(data1, bins=50, density=True) # hist等于频率/组距\n",
    "hist2, bins2 = np.histogram(data2, bins=50, density=True)\n",
    "\n",
    "# 计算每个区间的概率密度\n",
    "pdf1 = hist1 / np.sum(hist1)\n",
    "pdf2 = hist2 / np.sum(hist2)\n",
    "\n",
    "# 计算KL散度\n",
    "kl_divergence = entropy(pdf1, pdf2)\n",
    "\n",
    "# 打印结果\n",
    "print(\"KL散度:\", kl_divergence)\n",
    "\n",
    "# 绘制直方图和概率密度函数\n",
    "plt.figure()\n",
    "plt.hist(data1, bins=bins1, density=True, alpha=0.3, color='#11b3b6', label='Data 1', histtype='stepfilled' )\n",
    "plt.hist(data2, bins=bins2, density=True, alpha=0.3, color='#f14643', label='Data 2', histtype='stepfilled')\n",
    "plt.legend() \n",
    "plt.title('频率直方图')\n",
    "\n",
    "plt.figure()\n",
    "plt.plot((bins1[:-1] + bins1[1:]) / 2, pdf1, color='#11b3b6', linestyle='dashed', linewidth=2, label='PDF 1')\n",
    "plt.plot((bins2[:-1] + bins2[1:]) / 2, pdf2, color='#f14643', linestyle='dashed', linewidth=2, label='PDF 2')\n",
    "# 显示图例和标题\n",
    "plt.legend()\n",
    "plt.title('概率密度图')\n",
    "\n",
    "plt.show()"
   ]
  },
  {
   "cell_type": "code",
   "execution_count": null,
   "id": "ccf9947a",
   "metadata": {},
   "outputs": [],
   "source": []
  }
 ],
 "metadata": {
  "hide_input": false,
  "kernelspec": {
   "display_name": "Python 3 (ipykernel)",
   "language": "python",
   "name": "python3"
  },
  "language_info": {
   "codemirror_mode": {
    "name": "ipython",
    "version": 3
   },
   "file_extension": ".py",
   "mimetype": "text/x-python",
   "name": "python",
   "nbconvert_exporter": "python",
   "pygments_lexer": "ipython3",
   "version": "3.11.5"
  },
  "toc": {
   "base_numbering": "10",
   "nav_menu": {},
   "number_sections": true,
   "sideBar": true,
   "skip_h1_title": false,
   "title_cell": "Table of Contents",
   "title_sidebar": "Contents",
   "toc_cell": false,
   "toc_position": {
    "height": "calc(100% - 180px)",
    "left": "10px",
    "top": "150px",
    "width": "229.667px"
   },
   "toc_section_display": true,
   "toc_window_display": true
  },
  "varInspector": {
   "cols": {
    "lenName": 16,
    "lenType": 16,
    "lenVar": 40
   },
   "kernels_config": {
    "python": {
     "delete_cmd_postfix": "",
     "delete_cmd_prefix": "del ",
     "library": "var_list.py",
     "varRefreshCmd": "print(var_dic_list())"
    },
    "r": {
     "delete_cmd_postfix": ") ",
     "delete_cmd_prefix": "rm(",
     "library": "var_list.r",
     "varRefreshCmd": "cat(var_dic_list()) "
    }
   },
   "types_to_exclude": [
    "module",
    "function",
    "builtin_function_or_method",
    "instance",
    "_Feature"
   ],
   "window_display": false
  }
 },
 "nbformat": 4,
 "nbformat_minor": 5
}
