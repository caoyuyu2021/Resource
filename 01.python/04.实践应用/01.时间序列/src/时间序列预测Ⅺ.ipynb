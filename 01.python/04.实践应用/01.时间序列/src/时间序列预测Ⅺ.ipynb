{
 "cells": [
  {
   "cell_type": "markdown",
   "id": "3cdea874",
   "metadata": {},
   "source": [
    "# 基于iTransformer的时间序列预测"
   ]
  },
  {
   "cell_type": "code",
   "execution_count": 15,
   "id": "ded86309",
   "metadata": {
    "ExecuteTime": {
     "end_time": "2024-03-30T07:48:35.071884Z",
     "start_time": "2024-03-30T07:48:35.053298Z"
    }
   },
   "outputs": [],
   "source": [
    "import datetime as dt\n",
    "import os\n",
    "import warnings\n",
    "from collections import UserDict\n",
    "from tqdm import tqdm # 打印进度条\n",
    "import math\n",
    "from math import sqrt\n",
    "\n",
    "import matplotlib.pyplot as plt\n",
    "import numpy as np\n",
    "import pandas as pd\n",
    "from IPython.display import Image\n",
    "from sklearn.preprocessing import MinMaxScaler\n",
    "\n",
    "import torch\n",
    "import torch.nn as nn\n",
    "import torch.optim as optim\n",
    "import torch.utils.data as data\n",
    "import torch.nn.functional as F\n",
    "\n",
    "# 两种绘图接口\n",
    "import plotly_express as px  \n",
    "import plotly.graph_objects as go\n",
    "\n",
    "%matplotlib inline\n",
    "\n",
    "warnings.filterwarnings(\"ignore\")\n",
    "pd.options.display.float_format = \"{:,.2f}\".format\n",
    "np.set_printoptions(precision=2)"
   ]
  },
  {
   "cell_type": "markdown",
   "id": "42d180ff",
   "metadata": {},
   "source": [
    "## 多变量多步预测"
   ]
  },
  {
   "cell_type": "markdown",
   "id": "135ef871",
   "metadata": {},
   "source": [
    "### 数据准备"
   ]
  },
  {
   "cell_type": "code",
   "execution_count": 74,
   "id": "22b89625",
   "metadata": {
    "ExecuteTime": {
     "end_time": "2024-03-30T09:46:20.634102Z",
     "start_time": "2024-03-30T09:46:20.560764Z"
    }
   },
   "outputs": [
    {
     "data": {
      "text/html": [
       "<div>\n",
       "<style scoped>\n",
       "    .dataframe tbody tr th:only-of-type {\n",
       "        vertical-align: middle;\n",
       "    }\n",
       "\n",
       "    .dataframe tbody tr th {\n",
       "        vertical-align: top;\n",
       "    }\n",
       "\n",
       "    .dataframe thead th {\n",
       "        text-align: right;\n",
       "    }\n",
       "</style>\n",
       "<table border=\"1\" class=\"dataframe\">\n",
       "  <thead>\n",
       "    <tr style=\"text-align: right;\">\n",
       "      <th></th>\n",
       "      <th>load</th>\n",
       "      <th>temp</th>\n",
       "    </tr>\n",
       "  </thead>\n",
       "  <tbody>\n",
       "    <tr>\n",
       "      <th>2012-01-01 00:00:00</th>\n",
       "      <td>2,698.00</td>\n",
       "      <td>32.00</td>\n",
       "    </tr>\n",
       "    <tr>\n",
       "      <th>2012-01-01 01:00:00</th>\n",
       "      <td>2,558.00</td>\n",
       "      <td>32.67</td>\n",
       "    </tr>\n",
       "    <tr>\n",
       "      <th>2012-01-01 02:00:00</th>\n",
       "      <td>2,444.00</td>\n",
       "      <td>30.00</td>\n",
       "    </tr>\n",
       "    <tr>\n",
       "      <th>2012-01-01 03:00:00</th>\n",
       "      <td>2,402.00</td>\n",
       "      <td>31.00</td>\n",
       "    </tr>\n",
       "    <tr>\n",
       "      <th>2012-01-01 04:00:00</th>\n",
       "      <td>2,403.00</td>\n",
       "      <td>32.00</td>\n",
       "    </tr>\n",
       "  </tbody>\n",
       "</table>\n",
       "</div>"
      ],
      "text/plain": [
       "                        load  temp\n",
       "2012-01-01 00:00:00 2,698.00 32.00\n",
       "2012-01-01 01:00:00 2,558.00 32.67\n",
       "2012-01-01 02:00:00 2,444.00 30.00\n",
       "2012-01-01 03:00:00 2,402.00 31.00\n",
       "2012-01-01 04:00:00 2,403.00 32.00"
      ]
     },
     "execution_count": 74,
     "metadata": {},
     "output_type": "execute_result"
    }
   ],
   "source": [
    "ts_data = pd.read_csv(\"../data/energy.csv\")\n",
    "ts_data = pd.DataFrame(ts_data[[\"load\", \"temp\"]].values, index=pd.to_datetime(ts_data[\"Unnamed: 0\"].values), columns=[\"load\", \"temp\"])\n",
    "ts_data = ts_data.asfreq(freq='H') #转换为小时频率的数据\n",
    "ts_data.head()"
   ]
  },
  {
   "cell_type": "code",
   "execution_count": 75,
   "id": "748a6631",
   "metadata": {
    "ExecuteTime": {
     "end_time": "2024-03-30T09:46:21.599321Z",
     "start_time": "2024-03-30T09:46:21.579272Z"
    }
   },
   "outputs": [],
   "source": [
    "# 包含时间维度的数据集划分\n",
    "def divide_dataset(df, valid_date, test_date, x_feature_list, y_feature_list):\n",
    "    #归一化\n",
    "    x_scaler = MinMaxScaler()\n",
    "    y_scaler = MinMaxScaler()\n",
    "\n",
    "    #测试集\n",
    "    train = df.copy()[df.index < valid_date][x_feature_list]\n",
    "    train[x_feature_list] = x_scaler.fit_transform(train)\n",
    "    train = train.values.astype('float32')\n",
    "\n",
    "    #验证集\n",
    "    valid = df.copy()[(df.index >= valid_date) & (df.index < test_date)][x_feature_list]\n",
    "    valid[x_feature_list] = x_scaler.fit_transform(valid)\n",
    "    valid = valid.values.astype('float32')\n",
    "\n",
    "    #测试集\n",
    "    test = df.copy()[test_date:][x_feature_list]\n",
    "    test[x_feature_list] = x_scaler.fit_transform(test)\n",
    "    test = test.values.astype('float32')\n",
    "\n",
    "    #标签\n",
    "    ytr = df.copy()[df.index < valid_date][y_feature_list]\n",
    "    ytr[y_feature_list] = y_scaler.fit_transform(ytr)\n",
    "    ytr = ytr.values.astype('float32')\n",
    "\n",
    "    yva = df.copy()[(df.index >= valid_date) & (df.index < test_date)][y_feature_list]\n",
    "    yva[y_feature_list] = y_scaler.fit_transform(yva)\n",
    "    yva = yva.values.astype('float32')\n",
    "\n",
    "    yte = df.copy()[test_date:][y_feature_list]\n",
    "    yte[y_feature_list] = y_scaler.fit_transform(yte)\n",
    "    yte = yte.values.astype('float32')\n",
    "    return y_scaler, train, valid, test, ytr, yva, yte"
   ]
  },
  {
   "cell_type": "code",
   "execution_count": 76,
   "id": "ea83366d",
   "metadata": {
    "ExecuteTime": {
     "end_time": "2024-03-30T09:46:22.594296Z",
     "start_time": "2024-03-30T09:46:22.530911Z"
    }
   },
   "outputs": [
    {
     "name": "stdout",
     "output_type": "stream",
     "text": [
      "x_train shape: (23376, 2) y_train shape: (23376, 1)\n",
      "x_valid shape: (1464, 2) y_valid shape: (1464, 1)\n",
      "x_test shape: (1464, 2) y_test shape: (1464, 1)\n"
     ]
    }
   ],
   "source": [
    "# 构造参数字典\n",
    "params1 = {\n",
    "    \"df\": ts_data,\n",
    "    \"valid_date\": \"2014-09-01 00:00:00\",\n",
    "    \"test_date\": \"2014-11-01 00:00:00\",\n",
    "    \"x_feature_list\": [\"load\", \"temp\"],\n",
    "    \"y_feature_list\": [\"load\"],\n",
    "}\n",
    "\n",
    "#函数传参\n",
    "scaler, x_train, x_valid, x_test, y_train, y_valid, y_test = divide_dataset(**params1)\n",
    "print(\"x_train shape: {0} y_train shape: {1}\".format(x_train.shape, y_train.shape))\n",
    "print(\"x_valid shape: {0} y_valid shape: {1}\".format(x_valid.shape, y_valid.shape))\n",
    "print(\"x_test shape: {0} y_test shape: {1}\".format(x_test.shape, y_test.shape))"
   ]
  },
  {
   "cell_type": "code",
   "execution_count": 77,
   "id": "3eb3c002",
   "metadata": {
    "ExecuteTime": {
     "end_time": "2024-03-30T09:46:23.597856Z",
     "start_time": "2024-03-30T09:46:23.588083Z"
    }
   },
   "outputs": [],
   "source": [
    "#利用前lookback个数据，预测下delay个数据\n",
    "def create_dataset(feature, target, lookback, delay, step, batch_size):\n",
    "    \"\"\"\n",
    "    @参数设置：\n",
    "    feat：输入向量\n",
    "    tar：输出向量\n",
    "    lookback：输入数据包含过去多少个时间步\n",
    "    delay：目标应该在未来多少个时间步之后\n",
    "    \"\"\"\n",
    "    X, y = [], []\n",
    "    lookback = lookback - 1 #包含当前时间点\n",
    "    #循环生成数据\n",
    "    for i in range(lookback, len(feature) - delay, step):\n",
    "        feat = feature[i - lookback:i + 1]\n",
    "        tar = target[i + 1:i + 1 + delay]\n",
    "        X.append(feat)\n",
    "        y.append(tar)\n",
    "    #转为张量\n",
    "    X = torch.as_tensor(X)\n",
    "    y = torch.as_tensor(y)\n",
    "    #创建dataloader\n",
    "    loader = data.DataLoader(data.TensorDataset(X, y), shuffle=True, batch_size=batch_size)\n",
    "    return X, y, loader"
   ]
  },
  {
   "cell_type": "code",
   "execution_count": 78,
   "id": "9f021481",
   "metadata": {
    "ExecuteTime": {
     "end_time": "2024-03-30T09:46:33.529958Z",
     "start_time": "2024-03-30T09:46:33.140338Z"
    }
   },
   "outputs": [
    {
     "name": "stdout",
     "output_type": "stream",
     "text": [
      "X_size: torch.Size([23368, 6, 2]),y_size: torch.Size([23368, 3, 1]),loader_len: 731\n",
      "X_size: torch.Size([1456, 6, 2]),y_size: torch.Size([1456, 3, 1]),loader_len: 46\n",
      "X_size: torch.Size([1456, 6, 2]),y_size: torch.Size([1456, 3, 1]),loader_len: 46\n"
     ]
    }
   ],
   "source": [
    "# 构造参数字典\n",
    "params2 = {\n",
    "    \"lookback\": 6,\n",
    "    \"delay\": 3,\n",
    "    \"step\": 1, \n",
    "    \"batch_size\": 32,\n",
    "}\n",
    "X_train, y_train, train_loader = create_dataset(x_train, y_train, **params2)\n",
    "X_valid, y_valid, valid_loader = create_dataset(x_valid, y_valid, **params2)\n",
    "X_test, y_test, test_loader = create_dataset(x_test, y_test, **params2)\n",
    "print(\"X_size: {0},y_size: {1},loader_len: {2}\".format(X_train.shape, y_train.shape, len(train_loader)))\n",
    "print(\"X_size: {0},y_size: {1},loader_len: {2}\".format(X_valid.shape, y_valid.shape, len(valid_loader)))\n",
    "print(\"X_size: {0},y_size: {1},loader_len: {2}\".format(X_test.shape, y_test.shape, len(test_loader)))"
   ]
  },
  {
   "cell_type": "markdown",
   "id": "0413f924",
   "metadata": {},
   "source": [
    "### 模型训练"
   ]
  },
  {
   "cell_type": "code",
   "execution_count": 121,
   "id": "7d15e6ad",
   "metadata": {
    "ExecuteTime": {
     "end_time": "2024-03-30T10:44:54.670876Z",
     "start_time": "2024-03-30T10:44:54.618875Z"
    }
   },
   "outputs": [],
   "source": [
    "def train(train_loader, valid_loader, n_epochs, verbose=True, plots=True):\n",
    "    # 倒置编码\n",
    "    class DataEmbedding_inverted(nn.Module):\n",
    "        def __init__(self, seq_len, d_model, dropout=0.1):\n",
    "            super(DataEmbedding_inverted, self).__init__()\n",
    "            self.value_embedding = nn.Linear(seq_len, d_model)\n",
    "            self.dropout = nn.Dropout(p=dropout)\n",
    "\n",
    "        def forward(self, x, x_mark):\n",
    "            x = x.permute(0, 2, 1)\n",
    "            # x: [Batch Variate Time]\n",
    "            if x_mark is None:\n",
    "                x = self.value_embedding(x)\n",
    "            else:\n",
    "                x = self.value_embedding(torch.cat([x, x_mark.permute(0, 2, 1)], 1))\n",
    "            # x: [Batch Variate d_model]\n",
    "            return self.dropout(x)\n",
    "        \n",
    "    class EncoderLayer(nn.Module):\n",
    "        def __init__(self, attention, d_model, d_ff=None, dropout=0.1, activation=\"relu\"):\n",
    "            super(EncoderLayer, self).__init__()\n",
    "            d_ff = d_ff or 4 * d_model\n",
    "            self.attention = attention\n",
    "            self.conv1 = nn.Conv1d(in_channels=d_model, out_channels=d_ff, kernel_size=1)\n",
    "            self.conv2 = nn.Conv1d(in_channels=d_ff, out_channels=d_model, kernel_size=1)\n",
    "            self.norm1 = nn.LayerNorm(d_model)\n",
    "            self.norm2 = nn.LayerNorm(d_model)\n",
    "            self.dropout = nn.Dropout(dropout)\n",
    "            self.activation = F.relu if activation == \"relu\" else F.gelu\n",
    "\n",
    "        def forward(self, x, attn_mask=None, tau=None, delta=None):\n",
    "            new_x, attn = self.attention(\n",
    "                x, x, x,\n",
    "                attn_mask=attn_mask,\n",
    "                tau=tau, delta=delta\n",
    "            )\n",
    "            x = x + self.dropout(new_x)\n",
    "\n",
    "            y = x = self.norm1(x)\n",
    "            y = self.dropout(self.activation(self.conv1(y.transpose(-1, 1))))\n",
    "            y = self.dropout(self.conv2(y).transpose(-1, 1))\n",
    "\n",
    "            return self.norm2(x + y), attn\n",
    "\n",
    "\n",
    "    class Encoder(nn.Module):\n",
    "        def __init__(self, attn_layers, conv_layers=None, norm_layer=None):\n",
    "            super(Encoder, self).__init__()\n",
    "            self.attn_layers = nn.ModuleList(attn_layers)\n",
    "            self.conv_layers = nn.ModuleList(conv_layers) if conv_layers is not None else None\n",
    "            self.norm = norm_layer\n",
    "\n",
    "        def forward(self, x, attn_mask=None, tau=None, delta=None):\n",
    "            # x [B, L, D]\n",
    "            attns = []\n",
    "            if self.conv_layers is not None:\n",
    "                for i, (attn_layer, conv_layer) in enumerate(zip(self.attn_layers, self.conv_layers)):\n",
    "                    delta = delta if i == 0 else None\n",
    "                    x, attn = attn_layer(x, attn_mask=attn_mask, tau=tau, delta=delta)\n",
    "                    x = conv_layer(x)\n",
    "                    attns.append(attn)\n",
    "                x, attn = self.attn_layers[-1](x, tau=tau, delta=None)\n",
    "                attns.append(attn)\n",
    "            else:\n",
    "                for attn_layer in self.attn_layers:\n",
    "                    x, attn = attn_layer(x, attn_mask=attn_mask, tau=tau, delta=delta)\n",
    "                    attns.append(attn)\n",
    "\n",
    "            if self.norm is not None:\n",
    "                x = self.norm(x)\n",
    "\n",
    "            return x, attns\n",
    "        \n",
    "    class FullAttention(nn.Module):\n",
    "        def __init__(self, mask_flag=True, scale=None, attention_dropout=0.1, output_attention=False):\n",
    "            super(FullAttention, self).__init__()\n",
    "            self.scale = scale\n",
    "            self.mask_flag = mask_flag\n",
    "            self.output_attention = output_attention\n",
    "            self.dropout = nn.Dropout(attention_dropout)\n",
    "\n",
    "        def forward(self, queries, keys, values, attn_mask, tau=None, delta=None):\n",
    "            B, L, H, E = queries.shape\n",
    "            _, S, _, D = values.shape\n",
    "            scale = self.scale or 1. / sqrt(E)\n",
    "\n",
    "            scores = torch.einsum(\"blhe,bshe->bhls\", queries, keys)\n",
    "\n",
    "            if self.mask_flag:\n",
    "                if attn_mask is None:\n",
    "                    attn_mask = TriangularCausalMask(B, L, device=queries.device)\n",
    "\n",
    "                scores.masked_fill_(attn_mask.mask, -np.inf)\n",
    "\n",
    "            A = self.dropout(torch.softmax(scale * scores, dim=-1))\n",
    "            V = torch.einsum(\"bhls,bshd->blhd\", A, values)\n",
    "\n",
    "            if self.output_attention:\n",
    "                return V.contiguous(), A\n",
    "            else:\n",
    "                return V.contiguous(), None\n",
    "            \n",
    "    class AttentionLayer(nn.Module):\n",
    "        def __init__(self, attention, d_model, n_heads, d_keys=None, d_values=None):\n",
    "            super(AttentionLayer, self).__init__()\n",
    "\n",
    "            d_keys = d_keys or (d_model // n_heads)\n",
    "            d_values = d_values or (d_model // n_heads)\n",
    "\n",
    "            self.inner_attention = attention\n",
    "            self.query_projection = nn.Linear(d_model, d_keys * n_heads)\n",
    "            self.key_projection = nn.Linear(d_model, d_keys * n_heads)\n",
    "            self.value_projection = nn.Linear(d_model, d_values * n_heads)\n",
    "            self.out_projection = nn.Linear(d_values * n_heads, d_model)\n",
    "            self.n_heads = n_heads\n",
    "\n",
    "        def forward(self, queries, keys, values, attn_mask, tau=None, delta=None):\n",
    "            B, L, _ = queries.shape\n",
    "            _, S, _ = keys.shape\n",
    "            H = self.n_heads\n",
    "\n",
    "            queries = self.query_projection(queries).view(B, L, H, -1)\n",
    "            keys = self.key_projection(keys).view(B, S, H, -1)\n",
    "            values = self.value_projection(values).view(B, S, H, -1)\n",
    "\n",
    "            out, attn = self.inner_attention(\n",
    "                queries,\n",
    "                keys,\n",
    "                values,\n",
    "                attn_mask,\n",
    "                tau=tau,\n",
    "                delta=delta\n",
    "            )\n",
    "            out = out.view(B, L, -1)\n",
    "\n",
    "            return self.out_projection(out), attn\n",
    "\n",
    "    # iTransformer模型\n",
    "    class iTransformer(nn.Module):\n",
    "        def __init__(self, sequence_len, pred_len, output_attention, d_model, dropout, n_heads, d_ff, \n",
    "                     e_layers, activation):\n",
    "            super(iTransformer, self).__init__()\n",
    "            # 参数配置\n",
    "            self.sequence_len = sequence_len # sequence_len输入时间步\n",
    "            self.pred_len = pred_len # pred_len输出时间步\n",
    "            self.output_attention = output_attention # 是否在ecoder中输出注意力\n",
    "            \n",
    "            # Embedding\n",
    "            self.enc_embedding = DataEmbedding_inverted(sequence_len, d_model, dropout)\n",
    "            \n",
    "            # Encoder\n",
    "            self.encoder = Encoder(\n",
    "                [\n",
    "                    EncoderLayer(\n",
    "                        AttentionLayer(\n",
    "                            FullAttention(False, attention_dropout=dropout,\n",
    "                                          output_attention=output_attention), d_model, n_heads),\n",
    "                        d_model, # 隐藏层数\n",
    "                        d_ff, # ecoder中卷积层输出维度\n",
    "                        dropout=dropout,\n",
    "                        activation=activation # 激活函数\n",
    "                    ) for l in range(e_layers) # encoder layers的层数\n",
    "                ],\n",
    "                norm_layer=torch.nn.LayerNorm(d_model)\n",
    "            )\n",
    "            \n",
    "            # Decoder\n",
    "            self.projection = nn.Linear(d_model, pred_len, bias=True)\n",
    "            \n",
    "        def forward(self, x_enc, x_mark_enc):\n",
    "            # Normalization from Non-stationary Transformer\n",
    "            means = x_enc.mean(1, keepdim=True).detach()\n",
    "            x_enc = x_enc - means\n",
    "            stdev = torch.sqrt(torch.var(x_enc, dim=1, keepdim=True, unbiased=False) + 1e-5)\n",
    "            x_enc /= stdev\n",
    "\n",
    "            _, _, N = x_enc.shape\n",
    "#             print(N)\n",
    "\n",
    "            # Embedding\n",
    "            enc_out = self.enc_embedding(x_enc, x_mark_enc)\n",
    "            \n",
    "            enc_out, attns = self.encoder(enc_out, attn_mask=None)\n",
    "#             print(enc_out.shape)\n",
    "            dec_out = self.projection(enc_out).permute(0, 2, 1)[:, :, :N]\n",
    "#             print(dec_out.shape)\n",
    "            # De-Normalization from Non-stationary Transformer\n",
    "            dec_out = dec_out * (stdev[:, 0, :].unsqueeze(1).repeat(1, self.pred_len, 1))\n",
    "            dec_out = dec_out + (means[:, 0, :].unsqueeze(1).repeat(1, self.pred_len, 1))\n",
    "            \n",
    "            # output\n",
    "            output = dec_out[:, -self.pred_len:, :]  # [B, L, D]\n",
    "            return output\n",
    "    \n",
    "    #检查是否可用GPU\n",
    "    device = torch.device(\"cuda\" if torch.cuda.is_available() else \"cpu\")\n",
    "    \n",
    "    # 创建模型和优化器\n",
    "    itransformer_args = {\n",
    "        'sequence_len': 2*3,\n",
    "        'pred_len': 3,\n",
    "        'output_attention': True,\n",
    "        'd_model': 128,\n",
    "        'n_heads': 8,\n",
    "        'd_ff': 512,\n",
    "        'dropout': 0,\n",
    "        'e_layers': 1,\n",
    "        'activation': \"relu\"}\n",
    "    model = iTransformer(**itransformer_args).to(device)\n",
    "    optimizer = optim.Adam(model.parameters(), lr=0.001)\n",
    "    loss_fn = nn.MSELoss()\n",
    "    \n",
    "    # 损失函数值\n",
    "    train_losses, val_losses = [], []\n",
    "\n",
    "    for epoch in tqdm(range(n_epochs)):\n",
    "        model.train()\n",
    "        total_train_loss = 0\n",
    "        for inputs_batch, targets_batch in train_loader:\n",
    "            #将数据移至 GPU\n",
    "            inputs_batch = inputs_batch.to(device)\n",
    "            targets_batch = targets_batch.to(device)\n",
    "            # 清空梯度\n",
    "            optimizer.zero_grad()\n",
    "            outputs = model(inputs_batch, None)\n",
    "            outputs = outputs[:, :, :1] # 预测第一列的值，0代表第一列，1代表第二列\n",
    "#             print(inputs_batch.shape)\n",
    "#             print(targets_batch.shape)\n",
    "#             print(outputs.shape)\n",
    "            train_loss = loss_fn(outputs, targets_batch)\n",
    "            # 反向传播计算得到每个参数的梯度值\n",
    "            train_loss.backward()\n",
    "            # 通过梯度下降执行一步参数更新\n",
    "            optimizer.step()\n",
    "            #每个batch的loss和\n",
    "            total_train_loss += train_loss.item() # .item()表示只包含一个元素的tensor中提取值\n",
    "                \n",
    "        #每个epoch的损失平均\n",
    "        avg_train_loss = total_train_loss / len(train_loader)\n",
    "        \n",
    "        #所有epoch的loss\n",
    "        train_losses.append(avg_train_loss)\n",
    "        \n",
    "        #评估模型\n",
    "        model.eval()\n",
    "        #关闭自动求导功能，只使用训练好的模型进行预测或评估，不需要进行梯度计算和参数更新\n",
    "        with torch.no_grad():\n",
    "            total_val_loss = 0\n",
    "            for inputs_batch, targets_batch in valid_loader:\n",
    "                #将数据移至 GPU\n",
    "                inputs_batch = inputs_batch.to(device)\n",
    "                targets_batch = targets_batch.to(device)\n",
    "                val_outputs = model(inputs_batch, None)\n",
    "                val_outputs = val_outputs[:, :, :1] # 取最后一个值\n",
    "                val_loss = loss_fn(val_outputs, targets_batch)\n",
    "                #每个batch的loss和\n",
    "                total_val_loss += val_loss.item()\n",
    "                \n",
    "        #每个epoch的损失平均\n",
    "        avg_val_loss = total_val_loss / len(valid_loader)\n",
    "        \n",
    "        #所有epoch的loss\n",
    "        val_losses.append(avg_val_loss)\n",
    "        \n",
    "        #打印训练过程\n",
    "        if verbose:\n",
    "            print(f'Epoch [{epoch+1}/{n_epochs}], Training Loss: {avg_train_loss:.4f}, Validation Loss: {avg_val_loss:.4f}')\n",
    "\n",
    "    #绘制损失函数图\n",
    "    def plot_loss(train_losses, val_losses):\n",
    "        plt.figure(figsize=(10, 5))\n",
    "        plt.plot(val_losses, linestyle='-',color = '#11b3b6')\n",
    "        plt.plot(train_losses, linestyle='-',color = '#f14643')\n",
    "        plt.xlabel(\"Epoch\")\n",
    "        plt.ylabel(\"Loss\")\n",
    "        plt.title(\"Training and Validation Progress\")\n",
    "        plt.legend([\"Validation\", \"Training\"])\n",
    "        plt.show()\n",
    "    if plots:\n",
    "        plot_loss(train_losses, val_losses)\n",
    "            \n",
    "    return model"
   ]
  },
  {
   "cell_type": "code",
   "execution_count": 122,
   "id": "607001c7",
   "metadata": {
    "ExecuteTime": {
     "end_time": "2024-03-30T10:52:02.251712Z",
     "start_time": "2024-03-30T10:44:55.679335Z"
    },
    "scrolled": true
   },
   "outputs": [
    {
     "name": "stderr",
     "output_type": "stream",
     "text": [
      "  1%|▊                                                                                 | 1/100 [00:04<07:49,  4.74s/it]"
     ]
    },
    {
     "name": "stdout",
     "output_type": "stream",
     "text": [
      "Epoch [1/100], Training Loss: 0.0030, Validation Loss: 0.0041\n"
     ]
    },
    {
     "name": "stderr",
     "output_type": "stream",
     "text": [
      "\r",
      "  2%|█▋                                                                                | 2/100 [00:09<07:35,  4.65s/it]"
     ]
    },
    {
     "name": "stdout",
     "output_type": "stream",
     "text": [
      "Epoch [2/100], Training Loss: 0.0021, Validation Loss: 0.0040\n"
     ]
    },
    {
     "name": "stderr",
     "output_type": "stream",
     "text": [
      "\r",
      "  3%|██▍                                                                               | 3/100 [00:13<07:30,  4.64s/it]"
     ]
    },
    {
     "name": "stdout",
     "output_type": "stream",
     "text": [
      "Epoch [3/100], Training Loss: 0.0019, Validation Loss: 0.0033\n"
     ]
    },
    {
     "name": "stderr",
     "output_type": "stream",
     "text": [
      "\r",
      "  4%|███▎                                                                              | 4/100 [00:18<07:27,  4.66s/it]"
     ]
    },
    {
     "name": "stdout",
     "output_type": "stream",
     "text": [
      "Epoch [4/100], Training Loss: 0.0018, Validation Loss: 0.0031\n"
     ]
    },
    {
     "name": "stderr",
     "output_type": "stream",
     "text": [
      "\r",
      "  5%|████                                                                              | 5/100 [00:23<07:28,  4.72s/it]"
     ]
    },
    {
     "name": "stdout",
     "output_type": "stream",
     "text": [
      "Epoch [5/100], Training Loss: 0.0017, Validation Loss: 0.0030\n"
     ]
    },
    {
     "name": "stderr",
     "output_type": "stream",
     "text": [
      "\r",
      "  6%|████▉                                                                             | 6/100 [00:28<07:30,  4.79s/it]"
     ]
    },
    {
     "name": "stdout",
     "output_type": "stream",
     "text": [
      "Epoch [6/100], Training Loss: 0.0016, Validation Loss: 0.0031\n"
     ]
    },
    {
     "name": "stderr",
     "output_type": "stream",
     "text": [
      "\r",
      "  7%|█████▋                                                                            | 7/100 [00:33<07:23,  4.77s/it]"
     ]
    },
    {
     "name": "stdout",
     "output_type": "stream",
     "text": [
      "Epoch [7/100], Training Loss: 0.0016, Validation Loss: 0.0028\n"
     ]
    },
    {
     "name": "stderr",
     "output_type": "stream",
     "text": [
      "\r",
      "  8%|██████▌                                                                           | 8/100 [00:37<07:12,  4.70s/it]"
     ]
    },
    {
     "name": "stdout",
     "output_type": "stream",
     "text": [
      "Epoch [8/100], Training Loss: 0.0015, Validation Loss: 0.0031\n"
     ]
    },
    {
     "name": "stderr",
     "output_type": "stream",
     "text": [
      "\r",
      "  9%|███████▍                                                                          | 9/100 [00:42<07:05,  4.67s/it]"
     ]
    },
    {
     "name": "stdout",
     "output_type": "stream",
     "text": [
      "Epoch [9/100], Training Loss: 0.0015, Validation Loss: 0.0028\n"
     ]
    },
    {
     "name": "stderr",
     "output_type": "stream",
     "text": [
      "\r",
      " 10%|████████                                                                         | 10/100 [00:46<06:57,  4.64s/it]"
     ]
    },
    {
     "name": "stdout",
     "output_type": "stream",
     "text": [
      "Epoch [10/100], Training Loss: 0.0015, Validation Loss: 0.0028\n"
     ]
    },
    {
     "name": "stderr",
     "output_type": "stream",
     "text": [
      "\r",
      " 11%|████████▉                                                                        | 11/100 [00:51<06:53,  4.65s/it]"
     ]
    },
    {
     "name": "stdout",
     "output_type": "stream",
     "text": [
      "Epoch [11/100], Training Loss: 0.0014, Validation Loss: 0.0027\n"
     ]
    },
    {
     "name": "stderr",
     "output_type": "stream",
     "text": [
      "\r",
      " 12%|█████████▋                                                                       | 12/100 [00:56<06:48,  4.64s/it]"
     ]
    },
    {
     "name": "stdout",
     "output_type": "stream",
     "text": [
      "Epoch [12/100], Training Loss: 0.0014, Validation Loss: 0.0027\n"
     ]
    },
    {
     "name": "stderr",
     "output_type": "stream",
     "text": [
      "\r",
      " 13%|██████████▌                                                                      | 13/100 [01:00<06:38,  4.58s/it]"
     ]
    },
    {
     "name": "stdout",
     "output_type": "stream",
     "text": [
      "Epoch [13/100], Training Loss: 0.0013, Validation Loss: 0.0029\n"
     ]
    },
    {
     "name": "stderr",
     "output_type": "stream",
     "text": [
      "\r",
      " 14%|███████████▎                                                                     | 14/100 [01:05<06:29,  4.53s/it]"
     ]
    },
    {
     "name": "stdout",
     "output_type": "stream",
     "text": [
      "Epoch [14/100], Training Loss: 0.0014, Validation Loss: 0.0030\n"
     ]
    },
    {
     "name": "stderr",
     "output_type": "stream",
     "text": [
      "\r",
      " 15%|████████████▏                                                                    | 15/100 [01:09<06:22,  4.50s/it]"
     ]
    },
    {
     "name": "stdout",
     "output_type": "stream",
     "text": [
      "Epoch [15/100], Training Loss: 0.0015, Validation Loss: 0.0027\n"
     ]
    },
    {
     "name": "stderr",
     "output_type": "stream",
     "text": [
      "\r",
      " 16%|████████████▉                                                                    | 16/100 [01:13<06:15,  4.48s/it]"
     ]
    },
    {
     "name": "stdout",
     "output_type": "stream",
     "text": [
      "Epoch [16/100], Training Loss: 0.0013, Validation Loss: 0.0029\n"
     ]
    },
    {
     "name": "stderr",
     "output_type": "stream",
     "text": [
      "\r",
      " 17%|█████████████▊                                                                   | 17/100 [01:18<06:09,  4.45s/it]"
     ]
    },
    {
     "name": "stdout",
     "output_type": "stream",
     "text": [
      "Epoch [17/100], Training Loss: 0.0013, Validation Loss: 0.0031\n"
     ]
    },
    {
     "name": "stderr",
     "output_type": "stream",
     "text": [
      "\r",
      " 18%|██████████████▌                                                                  | 18/100 [01:22<06:04,  4.44s/it]"
     ]
    },
    {
     "name": "stdout",
     "output_type": "stream",
     "text": [
      "Epoch [18/100], Training Loss: 0.0013, Validation Loss: 0.0027\n"
     ]
    },
    {
     "name": "stderr",
     "output_type": "stream",
     "text": [
      "\r",
      " 19%|███████████████▍                                                                 | 19/100 [01:27<05:58,  4.43s/it]"
     ]
    },
    {
     "name": "stdout",
     "output_type": "stream",
     "text": [
      "Epoch [19/100], Training Loss: 0.0012, Validation Loss: 0.0029\n"
     ]
    },
    {
     "name": "stderr",
     "output_type": "stream",
     "text": [
      "\r",
      " 20%|████████████████▏                                                                | 20/100 [01:31<05:53,  4.42s/it]"
     ]
    },
    {
     "name": "stdout",
     "output_type": "stream",
     "text": [
      "Epoch [20/100], Training Loss: 0.0013, Validation Loss: 0.0025\n"
     ]
    },
    {
     "name": "stderr",
     "output_type": "stream",
     "text": [
      "\r",
      " 21%|█████████████████                                                                | 21/100 [01:35<05:48,  4.41s/it]"
     ]
    },
    {
     "name": "stdout",
     "output_type": "stream",
     "text": [
      "Epoch [21/100], Training Loss: 0.0012, Validation Loss: 0.0029\n"
     ]
    },
    {
     "name": "stderr",
     "output_type": "stream",
     "text": [
      "\r",
      " 22%|█████████████████▊                                                               | 22/100 [01:40<05:43,  4.41s/it]"
     ]
    },
    {
     "name": "stdout",
     "output_type": "stream",
     "text": [
      "Epoch [22/100], Training Loss: 0.0012, Validation Loss: 0.0023\n"
     ]
    },
    {
     "name": "stderr",
     "output_type": "stream",
     "text": [
      "\r",
      " 23%|██████████████████▋                                                              | 23/100 [01:44<05:39,  4.41s/it]"
     ]
    },
    {
     "name": "stdout",
     "output_type": "stream",
     "text": [
      "Epoch [23/100], Training Loss: 0.0012, Validation Loss: 0.0027\n"
     ]
    },
    {
     "name": "stderr",
     "output_type": "stream",
     "text": [
      "\r",
      " 24%|███████████████████▍                                                             | 24/100 [01:49<05:35,  4.41s/it]"
     ]
    },
    {
     "name": "stdout",
     "output_type": "stream",
     "text": [
      "Epoch [24/100], Training Loss: 0.0012, Validation Loss: 0.0030\n"
     ]
    },
    {
     "name": "stderr",
     "output_type": "stream",
     "text": [
      "\r",
      " 25%|████████████████████▎                                                            | 25/100 [01:53<05:30,  4.41s/it]"
     ]
    },
    {
     "name": "stdout",
     "output_type": "stream",
     "text": [
      "Epoch [25/100], Training Loss: 0.0012, Validation Loss: 0.0024\n"
     ]
    },
    {
     "name": "stderr",
     "output_type": "stream",
     "text": [
      "\r",
      " 26%|█████████████████████                                                            | 26/100 [01:57<05:24,  4.39s/it]"
     ]
    },
    {
     "name": "stdout",
     "output_type": "stream",
     "text": [
      "Epoch [26/100], Training Loss: 0.0012, Validation Loss: 0.0026\n"
     ]
    },
    {
     "name": "stderr",
     "output_type": "stream",
     "text": [
      "\r",
      " 27%|█████████████████████▊                                                           | 27/100 [02:01<05:09,  4.24s/it]"
     ]
    },
    {
     "name": "stdout",
     "output_type": "stream",
     "text": [
      "Epoch [27/100], Training Loss: 0.0012, Validation Loss: 0.0033\n"
     ]
    },
    {
     "name": "stderr",
     "output_type": "stream",
     "text": [
      "\r",
      " 28%|██████████████████████▋                                                          | 28/100 [02:05<05:00,  4.17s/it]"
     ]
    },
    {
     "name": "stdout",
     "output_type": "stream",
     "text": [
      "Epoch [28/100], Training Loss: 0.0014, Validation Loss: 0.0025\n"
     ]
    },
    {
     "name": "stderr",
     "output_type": "stream",
     "text": [
      "\r",
      " 29%|███████████████████████▍                                                         | 29/100 [02:09<04:51,  4.11s/it]"
     ]
    },
    {
     "name": "stdout",
     "output_type": "stream",
     "text": [
      "Epoch [29/100], Training Loss: 0.0012, Validation Loss: 0.0024\n"
     ]
    },
    {
     "name": "stderr",
     "output_type": "stream",
     "text": [
      "\r",
      " 30%|████████████████████████▎                                                        | 30/100 [02:13<04:43,  4.06s/it]"
     ]
    },
    {
     "name": "stdout",
     "output_type": "stream",
     "text": [
      "Epoch [30/100], Training Loss: 0.0011, Validation Loss: 0.0024\n"
     ]
    },
    {
     "name": "stderr",
     "output_type": "stream",
     "text": [
      "\r",
      " 31%|█████████████████████████                                                        | 31/100 [02:17<04:37,  4.02s/it]"
     ]
    },
    {
     "name": "stdout",
     "output_type": "stream",
     "text": [
      "Epoch [31/100], Training Loss: 0.0011, Validation Loss: 0.0030\n"
     ]
    },
    {
     "name": "stderr",
     "output_type": "stream",
     "text": [
      "\r",
      " 32%|█████████████████████████▉                                                       | 32/100 [02:21<04:32,  4.00s/it]"
     ]
    },
    {
     "name": "stdout",
     "output_type": "stream",
     "text": [
      "Epoch [32/100], Training Loss: 0.0011, Validation Loss: 0.0026\n"
     ]
    },
    {
     "name": "stderr",
     "output_type": "stream",
     "text": [
      "\r",
      " 33%|██████████████████████████▋                                                      | 33/100 [02:25<04:27,  3.99s/it]"
     ]
    },
    {
     "name": "stdout",
     "output_type": "stream",
     "text": [
      "Epoch [33/100], Training Loss: 0.0012, Validation Loss: 0.0027\n"
     ]
    },
    {
     "name": "stderr",
     "output_type": "stream",
     "text": [
      "\r",
      " 34%|███████████████████████████▌                                                     | 34/100 [02:29<04:21,  3.96s/it]"
     ]
    },
    {
     "name": "stdout",
     "output_type": "stream",
     "text": [
      "Epoch [34/100], Training Loss: 0.0011, Validation Loss: 0.0028\n"
     ]
    },
    {
     "name": "stderr",
     "output_type": "stream",
     "text": [
      "\r",
      " 35%|████████████████████████████▎                                                    | 35/100 [02:33<04:18,  3.98s/it]"
     ]
    },
    {
     "name": "stdout",
     "output_type": "stream",
     "text": [
      "Epoch [35/100], Training Loss: 0.0011, Validation Loss: 0.0026\n"
     ]
    },
    {
     "name": "stderr",
     "output_type": "stream",
     "text": [
      "\r",
      " 36%|█████████████████████████████▏                                                   | 36/100 [02:37<04:18,  4.04s/it]"
     ]
    },
    {
     "name": "stdout",
     "output_type": "stream",
     "text": [
      "Epoch [36/100], Training Loss: 0.0011, Validation Loss: 0.0025\n"
     ]
    },
    {
     "name": "stderr",
     "output_type": "stream",
     "text": [
      "\r",
      " 37%|█████████████████████████████▉                                                   | 37/100 [02:41<04:14,  4.04s/it]"
     ]
    },
    {
     "name": "stdout",
     "output_type": "stream",
     "text": [
      "Epoch [37/100], Training Loss: 0.0011, Validation Loss: 0.0032\n"
     ]
    },
    {
     "name": "stderr",
     "output_type": "stream",
     "text": [
      "\r",
      " 38%|██████████████████████████████▊                                                  | 38/100 [02:45<04:09,  4.03s/it]"
     ]
    },
    {
     "name": "stdout",
     "output_type": "stream",
     "text": [
      "Epoch [38/100], Training Loss: 0.0011, Validation Loss: 0.0027\n"
     ]
    },
    {
     "name": "stderr",
     "output_type": "stream",
     "text": [
      "\r",
      " 39%|███████████████████████████████▌                                                 | 39/100 [02:49<04:06,  4.04s/it]"
     ]
    },
    {
     "name": "stdout",
     "output_type": "stream",
     "text": [
      "Epoch [39/100], Training Loss: 0.0011, Validation Loss: 0.0031\n"
     ]
    },
    {
     "name": "stderr",
     "output_type": "stream",
     "text": [
      "\r",
      " 40%|████████████████████████████████▍                                                | 40/100 [02:53<04:02,  4.04s/it]"
     ]
    },
    {
     "name": "stdout",
     "output_type": "stream",
     "text": [
      "Epoch [40/100], Training Loss: 0.0011, Validation Loss: 0.0030\n"
     ]
    },
    {
     "name": "stderr",
     "output_type": "stream",
     "text": [
      "\r",
      " 41%|█████████████████████████████████▏                                               | 41/100 [02:57<03:58,  4.04s/it]"
     ]
    },
    {
     "name": "stdout",
     "output_type": "stream",
     "text": [
      "Epoch [41/100], Training Loss: 0.0011, Validation Loss: 0.0026\n"
     ]
    },
    {
     "name": "stderr",
     "output_type": "stream",
     "text": [
      "\r",
      " 42%|██████████████████████████████████                                               | 42/100 [03:01<03:56,  4.07s/it]"
     ]
    },
    {
     "name": "stdout",
     "output_type": "stream",
     "text": [
      "Epoch [42/100], Training Loss: 0.0010, Validation Loss: 0.0024\n"
     ]
    },
    {
     "name": "stderr",
     "output_type": "stream",
     "text": [
      "\r",
      " 43%|██████████████████████████████████▊                                              | 43/100 [03:05<03:51,  4.07s/it]"
     ]
    },
    {
     "name": "stdout",
     "output_type": "stream",
     "text": [
      "Epoch [43/100], Training Loss: 0.0011, Validation Loss: 0.0027\n"
     ]
    },
    {
     "name": "stderr",
     "output_type": "stream",
     "text": [
      "\r",
      " 44%|███████████████████████████████████▋                                             | 44/100 [03:10<03:50,  4.12s/it]"
     ]
    },
    {
     "name": "stdout",
     "output_type": "stream",
     "text": [
      "Epoch [44/100], Training Loss: 0.0011, Validation Loss: 0.0028\n"
     ]
    },
    {
     "name": "stderr",
     "output_type": "stream",
     "text": [
      "\r",
      " 45%|████████████████████████████████████▍                                            | 45/100 [03:14<03:45,  4.10s/it]"
     ]
    },
    {
     "name": "stdout",
     "output_type": "stream",
     "text": [
      "Epoch [45/100], Training Loss: 0.0011, Validation Loss: 0.0024\n"
     ]
    },
    {
     "name": "stderr",
     "output_type": "stream",
     "text": [
      "\r",
      " 46%|█████████████████████████████████████▎                                           | 46/100 [03:18<03:41,  4.09s/it]"
     ]
    },
    {
     "name": "stdout",
     "output_type": "stream",
     "text": [
      "Epoch [46/100], Training Loss: 0.0011, Validation Loss: 0.0028\n"
     ]
    },
    {
     "name": "stderr",
     "output_type": "stream",
     "text": [
      "\r",
      " 47%|██████████████████████████████████████                                           | 47/100 [03:22<03:37,  4.09s/it]"
     ]
    },
    {
     "name": "stdout",
     "output_type": "stream",
     "text": [
      "Epoch [47/100], Training Loss: 0.0010, Validation Loss: 0.0024\n"
     ]
    },
    {
     "name": "stderr",
     "output_type": "stream",
     "text": [
      "\r",
      " 48%|██████████████████████████████████████▉                                          | 48/100 [03:26<03:31,  4.08s/it]"
     ]
    },
    {
     "name": "stdout",
     "output_type": "stream",
     "text": [
      "Epoch [48/100], Training Loss: 0.0010, Validation Loss: 0.0024\n"
     ]
    },
    {
     "name": "stderr",
     "output_type": "stream",
     "text": [
      "\r",
      " 49%|███████████████████████████████████████▋                                         | 49/100 [03:30<03:26,  4.05s/it]"
     ]
    },
    {
     "name": "stdout",
     "output_type": "stream",
     "text": [
      "Epoch [49/100], Training Loss: 0.0011, Validation Loss: 0.0024\n"
     ]
    },
    {
     "name": "stderr",
     "output_type": "stream",
     "text": [
      "\r",
      " 50%|████████████████████████████████████████▌                                        | 50/100 [03:34<03:23,  4.08s/it]"
     ]
    },
    {
     "name": "stdout",
     "output_type": "stream",
     "text": [
      "Epoch [50/100], Training Loss: 0.0010, Validation Loss: 0.0023\n"
     ]
    },
    {
     "name": "stderr",
     "output_type": "stream",
     "text": [
      "\r",
      " 51%|█████████████████████████████████████████▎                                       | 51/100 [03:38<03:19,  4.07s/it]"
     ]
    },
    {
     "name": "stdout",
     "output_type": "stream",
     "text": [
      "Epoch [51/100], Training Loss: 0.0010, Validation Loss: 0.0024\n"
     ]
    },
    {
     "name": "stderr",
     "output_type": "stream",
     "text": [
      "\r",
      " 52%|██████████████████████████████████████████                                       | 52/100 [03:42<03:15,  4.07s/it]"
     ]
    },
    {
     "name": "stdout",
     "output_type": "stream",
     "text": [
      "Epoch [52/100], Training Loss: 0.0010, Validation Loss: 0.0026\n"
     ]
    },
    {
     "name": "stderr",
     "output_type": "stream",
     "text": [
      "\r",
      " 53%|██████████████████████████████████████████▉                                      | 53/100 [03:46<03:12,  4.09s/it]"
     ]
    },
    {
     "name": "stdout",
     "output_type": "stream",
     "text": [
      "Epoch [53/100], Training Loss: 0.0011, Validation Loss: 0.0028\n"
     ]
    },
    {
     "name": "stderr",
     "output_type": "stream",
     "text": [
      "\r",
      " 54%|███████████████████████████████████████████▋                                     | 54/100 [03:51<03:09,  4.12s/it]"
     ]
    },
    {
     "name": "stdout",
     "output_type": "stream",
     "text": [
      "Epoch [54/100], Training Loss: 0.0010, Validation Loss: 0.0023\n"
     ]
    },
    {
     "name": "stderr",
     "output_type": "stream",
     "text": [
      "\r",
      " 55%|████████████████████████████████████████████▌                                    | 55/100 [03:55<03:04,  4.10s/it]"
     ]
    },
    {
     "name": "stdout",
     "output_type": "stream",
     "text": [
      "Epoch [55/100], Training Loss: 0.0010, Validation Loss: 0.0027\n"
     ]
    },
    {
     "name": "stderr",
     "output_type": "stream",
     "text": [
      "\r",
      " 56%|█████████████████████████████████████████████▎                                   | 56/100 [03:59<03:00,  4.10s/it]"
     ]
    },
    {
     "name": "stdout",
     "output_type": "stream",
     "text": [
      "Epoch [56/100], Training Loss: 0.0010, Validation Loss: 0.0026\n"
     ]
    },
    {
     "name": "stderr",
     "output_type": "stream",
     "text": [
      "\r",
      " 57%|██████████████████████████████████████████████▏                                  | 57/100 [04:03<02:56,  4.10s/it]"
     ]
    },
    {
     "name": "stdout",
     "output_type": "stream",
     "text": [
      "Epoch [57/100], Training Loss: 0.0010, Validation Loss: 0.0025\n"
     ]
    },
    {
     "name": "stderr",
     "output_type": "stream",
     "text": [
      "\r",
      " 58%|██████████████████████████████████████████████▉                                  | 58/100 [04:07<02:52,  4.11s/it]"
     ]
    },
    {
     "name": "stdout",
     "output_type": "stream",
     "text": [
      "Epoch [58/100], Training Loss: 0.0010, Validation Loss: 0.0023\n"
     ]
    },
    {
     "name": "stderr",
     "output_type": "stream",
     "text": [
      "\r",
      " 59%|███████████████████████████████████████████████▊                                 | 59/100 [04:11<02:49,  4.12s/it]"
     ]
    },
    {
     "name": "stdout",
     "output_type": "stream",
     "text": [
      "Epoch [59/100], Training Loss: 0.0010, Validation Loss: 0.0028\n"
     ]
    },
    {
     "name": "stderr",
     "output_type": "stream",
     "text": [
      "\r",
      " 60%|████████████████████████████████████████████████▌                                | 60/100 [04:15<02:47,  4.18s/it]"
     ]
    },
    {
     "name": "stdout",
     "output_type": "stream",
     "text": [
      "Epoch [60/100], Training Loss: 0.0010, Validation Loss: 0.0028\n"
     ]
    },
    {
     "name": "stderr",
     "output_type": "stream",
     "text": [
      "\r",
      " 61%|█████████████████████████████████████████████████▍                               | 61/100 [04:20<02:42,  4.17s/it]"
     ]
    },
    {
     "name": "stdout",
     "output_type": "stream",
     "text": [
      "Epoch [61/100], Training Loss: 0.0011, Validation Loss: 0.0025\n"
     ]
    },
    {
     "name": "stderr",
     "output_type": "stream",
     "text": [
      "\r",
      " 62%|██████████████████████████████████████████████████▏                              | 62/100 [04:24<02:38,  4.18s/it]"
     ]
    },
    {
     "name": "stdout",
     "output_type": "stream",
     "text": [
      "Epoch [62/100], Training Loss: 0.0010, Validation Loss: 0.0024\n"
     ]
    },
    {
     "name": "stderr",
     "output_type": "stream",
     "text": [
      "\r",
      " 63%|███████████████████████████████████████████████████                              | 63/100 [04:28<02:33,  4.15s/it]"
     ]
    },
    {
     "name": "stdout",
     "output_type": "stream",
     "text": [
      "Epoch [63/100], Training Loss: 0.0010, Validation Loss: 0.0024\n"
     ]
    },
    {
     "name": "stderr",
     "output_type": "stream",
     "text": [
      "\r",
      " 64%|███████████████████████████████████████████████████▊                             | 64/100 [04:32<02:30,  4.17s/it]"
     ]
    },
    {
     "name": "stdout",
     "output_type": "stream",
     "text": [
      "Epoch [64/100], Training Loss: 0.0009, Validation Loss: 0.0026\n"
     ]
    },
    {
     "name": "stderr",
     "output_type": "stream",
     "text": [
      "\r",
      " 65%|████████████████████████████████████████████████████▋                            | 65/100 [04:36<02:25,  4.15s/it]"
     ]
    },
    {
     "name": "stdout",
     "output_type": "stream",
     "text": [
      "Epoch [65/100], Training Loss: 0.0009, Validation Loss: 0.0024\n"
     ]
    },
    {
     "name": "stderr",
     "output_type": "stream",
     "text": [
      "\r",
      " 66%|█████████████████████████████████████████████████████▍                           | 66/100 [04:40<02:20,  4.15s/it]"
     ]
    },
    {
     "name": "stdout",
     "output_type": "stream",
     "text": [
      "Epoch [66/100], Training Loss: 0.0010, Validation Loss: 0.0026\n"
     ]
    },
    {
     "name": "stderr",
     "output_type": "stream",
     "text": [
      "\r",
      " 67%|██████████████████████████████████████████████████████▎                          | 67/100 [04:45<02:18,  4.19s/it]"
     ]
    },
    {
     "name": "stdout",
     "output_type": "stream",
     "text": [
      "Epoch [67/100], Training Loss: 0.0009, Validation Loss: 0.0026\n"
     ]
    },
    {
     "name": "stderr",
     "output_type": "stream",
     "text": [
      "\r",
      " 68%|███████████████████████████████████████████████████████                          | 68/100 [04:49<02:14,  4.20s/it]"
     ]
    },
    {
     "name": "stdout",
     "output_type": "stream",
     "text": [
      "Epoch [68/100], Training Loss: 0.0009, Validation Loss: 0.0024\n"
     ]
    },
    {
     "name": "stderr",
     "output_type": "stream",
     "text": [
      "\r",
      " 69%|███████████████████████████████████████████████████████▉                         | 69/100 [04:53<02:09,  4.19s/it]"
     ]
    },
    {
     "name": "stdout",
     "output_type": "stream",
     "text": [
      "Epoch [69/100], Training Loss: 0.0009, Validation Loss: 0.0026\n"
     ]
    },
    {
     "name": "stderr",
     "output_type": "stream",
     "text": [
      "\r",
      " 70%|████████████████████████████████████████████████████████▋                        | 70/100 [04:57<02:06,  4.20s/it]"
     ]
    },
    {
     "name": "stdout",
     "output_type": "stream",
     "text": [
      "Epoch [70/100], Training Loss: 0.0010, Validation Loss: 0.0024\n"
     ]
    },
    {
     "name": "stderr",
     "output_type": "stream",
     "text": [
      "\r",
      " 71%|█████████████████████████████████████████████████████████▌                       | 71/100 [05:02<02:02,  4.24s/it]"
     ]
    },
    {
     "name": "stdout",
     "output_type": "stream",
     "text": [
      "Epoch [71/100], Training Loss: 0.0009, Validation Loss: 0.0025\n"
     ]
    },
    {
     "name": "stderr",
     "output_type": "stream",
     "text": [
      "\r",
      " 72%|██████████████████████████████████████████████████████████▎                      | 72/100 [05:06<01:58,  4.23s/it]"
     ]
    },
    {
     "name": "stdout",
     "output_type": "stream",
     "text": [
      "Epoch [72/100], Training Loss: 0.0009, Validation Loss: 0.0025\n"
     ]
    },
    {
     "name": "stderr",
     "output_type": "stream",
     "text": [
      "\r",
      " 73%|███████████████████████████████████████████████████████████▏                     | 73/100 [05:10<01:56,  4.30s/it]"
     ]
    },
    {
     "name": "stdout",
     "output_type": "stream",
     "text": [
      "Epoch [73/100], Training Loss: 0.0009, Validation Loss: 0.0026\n"
     ]
    },
    {
     "name": "stderr",
     "output_type": "stream",
     "text": [
      "\r",
      " 74%|███████████████████████████████████████████████████████████▉                     | 74/100 [05:14<01:51,  4.29s/it]"
     ]
    },
    {
     "name": "stdout",
     "output_type": "stream",
     "text": [
      "Epoch [74/100], Training Loss: 0.0009, Validation Loss: 0.0025\n"
     ]
    },
    {
     "name": "stderr",
     "output_type": "stream",
     "text": [
      "\r",
      " 75%|████████████████████████████████████████████████████████████▊                    | 75/100 [05:19<01:46,  4.28s/it]"
     ]
    },
    {
     "name": "stdout",
     "output_type": "stream",
     "text": [
      "Epoch [75/100], Training Loss: 0.0009, Validation Loss: 0.0024\n"
     ]
    },
    {
     "name": "stderr",
     "output_type": "stream",
     "text": [
      "\r",
      " 76%|█████████████████████████████████████████████████████████████▌                   | 76/100 [05:23<01:42,  4.27s/it]"
     ]
    },
    {
     "name": "stdout",
     "output_type": "stream",
     "text": [
      "Epoch [76/100], Training Loss: 0.0009, Validation Loss: 0.0024\n"
     ]
    },
    {
     "name": "stderr",
     "output_type": "stream",
     "text": [
      "\r",
      " 77%|██████████████████████████████████████████████████████████████▎                  | 77/100 [05:27<01:37,  4.24s/it]"
     ]
    },
    {
     "name": "stdout",
     "output_type": "stream",
     "text": [
      "Epoch [77/100], Training Loss: 0.0009, Validation Loss: 0.0028\n"
     ]
    },
    {
     "name": "stderr",
     "output_type": "stream",
     "text": [
      "\r",
      " 78%|███████████████████████████████████████████████████████████████▏                 | 78/100 [05:31<01:33,  4.25s/it]"
     ]
    },
    {
     "name": "stdout",
     "output_type": "stream",
     "text": [
      "Epoch [78/100], Training Loss: 0.0009, Validation Loss: 0.0024\n"
     ]
    },
    {
     "name": "stderr",
     "output_type": "stream",
     "text": [
      "\r",
      " 79%|███████████████████████████████████████████████████████████████▉                 | 79/100 [05:36<01:29,  4.24s/it]"
     ]
    },
    {
     "name": "stdout",
     "output_type": "stream",
     "text": [
      "Epoch [79/100], Training Loss: 0.0009, Validation Loss: 0.0025\n"
     ]
    },
    {
     "name": "stderr",
     "output_type": "stream",
     "text": [
      "\r",
      " 80%|████████████████████████████████████████████████████████████████▊                | 80/100 [05:40<01:25,  4.26s/it]"
     ]
    },
    {
     "name": "stdout",
     "output_type": "stream",
     "text": [
      "Epoch [80/100], Training Loss: 0.0009, Validation Loss: 0.0025\n"
     ]
    },
    {
     "name": "stderr",
     "output_type": "stream",
     "text": [
      "\r",
      " 81%|█████████████████████████████████████████████████████████████████▌               | 81/100 [05:44<01:20,  4.26s/it]"
     ]
    },
    {
     "name": "stdout",
     "output_type": "stream",
     "text": [
      "Epoch [81/100], Training Loss: 0.0009, Validation Loss: 0.0023\n"
     ]
    },
    {
     "name": "stderr",
     "output_type": "stream",
     "text": [
      "\r",
      " 82%|██████████████████████████████████████████████████████████████████▍              | 82/100 [05:48<01:16,  4.26s/it]"
     ]
    },
    {
     "name": "stdout",
     "output_type": "stream",
     "text": [
      "Epoch [82/100], Training Loss: 0.0009, Validation Loss: 0.0025\n"
     ]
    },
    {
     "name": "stderr",
     "output_type": "stream",
     "text": [
      "\r",
      " 83%|███████████████████████████████████████████████████████████████████▏             | 83/100 [05:53<01:12,  4.25s/it]"
     ]
    },
    {
     "name": "stdout",
     "output_type": "stream",
     "text": [
      "Epoch [83/100], Training Loss: 0.0009, Validation Loss: 0.0023\n"
     ]
    },
    {
     "name": "stderr",
     "output_type": "stream",
     "text": [
      "\r",
      " 84%|████████████████████████████████████████████████████████████████████             | 84/100 [05:57<01:08,  4.26s/it]"
     ]
    },
    {
     "name": "stdout",
     "output_type": "stream",
     "text": [
      "Epoch [84/100], Training Loss: 0.0009, Validation Loss: 0.0030\n"
     ]
    },
    {
     "name": "stderr",
     "output_type": "stream",
     "text": [
      "\r",
      " 85%|████████████████████████████████████████████████████████████████████▊            | 85/100 [06:01<01:04,  4.30s/it]"
     ]
    },
    {
     "name": "stdout",
     "output_type": "stream",
     "text": [
      "Epoch [85/100], Training Loss: 0.0009, Validation Loss: 0.0024\n"
     ]
    },
    {
     "name": "stderr",
     "output_type": "stream",
     "text": [
      "\r",
      " 86%|█████████████████████████████████████████████████████████████████████▋           | 86/100 [06:06<01:01,  4.41s/it]"
     ]
    },
    {
     "name": "stdout",
     "output_type": "stream",
     "text": [
      "Epoch [86/100], Training Loss: 0.0009, Validation Loss: 0.0029\n"
     ]
    },
    {
     "name": "stderr",
     "output_type": "stream",
     "text": [
      "\r",
      " 87%|██████████████████████████████████████████████████████████████████████▍          | 87/100 [06:10<00:56,  4.35s/it]"
     ]
    },
    {
     "name": "stdout",
     "output_type": "stream",
     "text": [
      "Epoch [87/100], Training Loss: 0.0009, Validation Loss: 0.0025\n"
     ]
    },
    {
     "name": "stderr",
     "output_type": "stream",
     "text": [
      "\r",
      " 88%|███████████████████████████████████████████████████████████████████████▎         | 88/100 [06:15<00:51,  4.33s/it]"
     ]
    },
    {
     "name": "stdout",
     "output_type": "stream",
     "text": [
      "Epoch [88/100], Training Loss: 0.0008, Validation Loss: 0.0028\n"
     ]
    },
    {
     "name": "stderr",
     "output_type": "stream",
     "text": [
      "\r",
      " 89%|████████████████████████████████████████████████████████████████████████         | 89/100 [06:19<00:47,  4.33s/it]"
     ]
    },
    {
     "name": "stdout",
     "output_type": "stream",
     "text": [
      "Epoch [89/100], Training Loss: 0.0008, Validation Loss: 0.0025\n"
     ]
    },
    {
     "name": "stderr",
     "output_type": "stream",
     "text": [
      "\r",
      " 90%|████████████████████████████████████████████████████████████████████████▉        | 90/100 [06:23<00:43,  4.32s/it]"
     ]
    },
    {
     "name": "stdout",
     "output_type": "stream",
     "text": [
      "Epoch [90/100], Training Loss: 0.0009, Validation Loss: 0.0027\n"
     ]
    },
    {
     "name": "stderr",
     "output_type": "stream",
     "text": [
      "\r",
      " 91%|█████████████████████████████████████████████████████████████████████████▋       | 91/100 [06:27<00:38,  4.29s/it]"
     ]
    },
    {
     "name": "stdout",
     "output_type": "stream",
     "text": [
      "Epoch [91/100], Training Loss: 0.0008, Validation Loss: 0.0025\n"
     ]
    },
    {
     "name": "stderr",
     "output_type": "stream",
     "text": [
      "\r",
      " 92%|██████████████████████████████████████████████████████████████████████████▌      | 92/100 [06:32<00:34,  4.30s/it]"
     ]
    },
    {
     "name": "stdout",
     "output_type": "stream",
     "text": [
      "Epoch [92/100], Training Loss: 0.0008, Validation Loss: 0.0024\n"
     ]
    },
    {
     "name": "stderr",
     "output_type": "stream",
     "text": [
      "\r",
      " 93%|███████████████████████████████████████████████████████████████████████████▎     | 93/100 [06:36<00:30,  4.29s/it]"
     ]
    },
    {
     "name": "stdout",
     "output_type": "stream",
     "text": [
      "Epoch [93/100], Training Loss: 0.0008, Validation Loss: 0.0027\n"
     ]
    },
    {
     "name": "stderr",
     "output_type": "stream",
     "text": [
      "\r",
      " 94%|████████████████████████████████████████████████████████████████████████████▏    | 94/100 [06:40<00:25,  4.26s/it]"
     ]
    },
    {
     "name": "stdout",
     "output_type": "stream",
     "text": [
      "Epoch [94/100], Training Loss: 0.0009, Validation Loss: 0.0024\n"
     ]
    },
    {
     "name": "stderr",
     "output_type": "stream",
     "text": [
      "\r",
      " 95%|████████████████████████████████████████████████████████████████████████████▉    | 95/100 [06:44<00:21,  4.26s/it]"
     ]
    },
    {
     "name": "stdout",
     "output_type": "stream",
     "text": [
      "Epoch [95/100], Training Loss: 0.0008, Validation Loss: 0.0026\n"
     ]
    },
    {
     "name": "stderr",
     "output_type": "stream",
     "text": [
      "\r",
      " 96%|█████████████████████████████████████████████████████████████████████████████▊   | 96/100 [06:49<00:17,  4.28s/it]"
     ]
    },
    {
     "name": "stdout",
     "output_type": "stream",
     "text": [
      "Epoch [96/100], Training Loss: 0.0009, Validation Loss: 0.0049\n"
     ]
    },
    {
     "name": "stderr",
     "output_type": "stream",
     "text": [
      "\r",
      " 97%|██████████████████████████████████████████████████████████████████████████████▌  | 97/100 [06:53<00:12,  4.28s/it]"
     ]
    },
    {
     "name": "stdout",
     "output_type": "stream",
     "text": [
      "Epoch [97/100], Training Loss: 0.0010, Validation Loss: 0.0027\n"
     ]
    },
    {
     "name": "stderr",
     "output_type": "stream",
     "text": [
      "\r",
      " 98%|███████████████████████████████████████████████████████████████████████████████▍ | 98/100 [06:57<00:08,  4.27s/it]"
     ]
    },
    {
     "name": "stdout",
     "output_type": "stream",
     "text": [
      "Epoch [98/100], Training Loss: 0.0008, Validation Loss: 0.0025\n"
     ]
    },
    {
     "name": "stderr",
     "output_type": "stream",
     "text": [
      "\r",
      " 99%|████████████████████████████████████████████████████████████████████████████████▏| 99/100 [07:02<00:04,  4.26s/it]"
     ]
    },
    {
     "name": "stdout",
     "output_type": "stream",
     "text": [
      "Epoch [99/100], Training Loss: 0.0009, Validation Loss: 0.0024\n"
     ]
    },
    {
     "name": "stderr",
     "output_type": "stream",
     "text": [
      "100%|████████████████████████████████████████████████████████████████████████████████| 100/100 [07:06<00:00,  4.26s/it]"
     ]
    },
    {
     "name": "stdout",
     "output_type": "stream",
     "text": [
      "Epoch [100/100], Training Loss: 0.0008, Validation Loss: 0.0024\n"
     ]
    },
    {
     "name": "stderr",
     "output_type": "stream",
     "text": [
      "\n"
     ]
    },
    {
     "data": {
      "image/png": "[encoded data removed]",
      "text/plain": [
       "<Figure size 1000x500 with 1 Axes>"
      ]
     },
     "metadata": {},
     "output_type": "display_data"
    }
   ],
   "source": [
    "# 构造参数字典\n",
    "params3 = {\n",
    "    \"train_loader\": train_loader,\n",
    "    \"valid_loader\": valid_loader,\n",
    "    \"n_epochs\": 100,\n",
    "    \"verbose\": True,\n",
    "    \"plots\": True,\n",
    "}\n",
    "model = train(**params3)"
   ]
  },
  {
   "cell_type": "markdown",
   "id": "b84642bb",
   "metadata": {},
   "source": [
    "### 模型预测"
   ]
  },
  {
   "cell_type": "markdown",
   "id": "80f5385e",
   "metadata": {},
   "source": [
    "\"SMAPE loss\" 是指 Symmetric Mean Absolute Percentage Error，中文意为对称平均绝对百分比误差。这是一种用于衡量预测模型精度的指标，通常用于评估时间序列预测模型的性能。\n",
    "\n",
    "SMAPE 的计算公式如下：\n",
    "\n",
    "\\$\n",
    "SMAPE = \\frac{100\\%}{n} \\sum_{t=1}^{n} \\frac{|F_t - A_t|}{(|F_t| + |A_t|)/2}\n",
    "\\$\n",
    "\n",
    "其中：\n",
    "\n",
    "- \\(F_t\\) 是模型预测的值；\n",
    "- \\(A_t\\) 是实际观测到的值；\n",
    "- \\(n\\) 是样本数量。\n",
    "\n",
    "SMAPE 通常被用作损失函数，用于优化时间序列预测模型。在优化过程中，目标是尽量减小 SMAPE 损失，以提高模型的预测准确性。"
   ]
  },
  {
   "cell_type": "code",
   "execution_count": null,
   "id": "ad2f5c4c",
   "metadata": {},
   "outputs": [],
   "source": [
    "#     # 损失函数\n",
    "#     class smape_loss(nn.Module):\n",
    "#         def __init__(self):\n",
    "#             super(smape_loss, self).__init__()\n",
    "            \n",
    "#         def divide_no_nan(self, a, b):\n",
    "#             \"\"\"\n",
    "#             a/b where the resulted NaN or Inf are replaced by 0.\n",
    "#             \"\"\"\n",
    "#             result = a / b\n",
    "#             result[result != result] = .0\n",
    "#             result[result == np.inf] = .0\n",
    "#             return result\n",
    "\n",
    "#         def forward(self, forecast: torch.Tensor, target: torch.Tensor) -> torch.float:\n",
    "#             \"\"\"\n",
    "#             sMAPE loss as defined in https://robjhyndman.com/hyndsight/smape/ (Makridakis 1993)\n",
    "\n",
    "#             :param forecast: Forecast values. Shape: batch, time\n",
    "#             :param target: Target values. Shape: batch, time\n",
    "#             :param mask: 0/1 mask. Shape: batch, time\n",
    "#             :return: Loss value\n",
    "#             \"\"\"\n",
    "#             return 200 * torch.mean(self.divide_no_nan(torch.abs(forecast - target),\n",
    "#                                               torch.abs(forecast.data) + torch.abs(target.data)))"
   ]
  },
  {
   "cell_type": "code",
   "execution_count": 123,
   "id": "63438c25",
   "metadata": {
    "ExecuteTime": {
     "end_time": "2024-03-30T10:54:32.675615Z",
     "start_time": "2024-03-30T10:54:32.649815Z"
    }
   },
   "outputs": [],
   "source": [
    "def predict(model, X_train, X_valid, X_test, y_train, y_valid, y_test, y_true, y_feature_list, lookback, delay, scaler, in_tag):\n",
    "    lookback = lookback - 1 # 包含当前时间点\n",
    "    features = y_train.shape[-1] # 预测特征数\n",
    "    \n",
    "    # 字典索引生成\n",
    "    col_dict = {}\n",
    "    for i,j in enumerate(y_feature_list):\n",
    "        col_dict[j] = i\n",
    "        \n",
    "    # 数据集长度\n",
    "    train_size = len(X_train) + lookback + delay\n",
    "    valid_size = len(X_valid) + lookback + delay\n",
    "    test_size = len(X_test) + lookback + delay\n",
    "    \n",
    "    # 时间序列形状\n",
    "    timeseries_y = y_true.values[:, col_dict[in_tag]].reshape(-1, 1)\n",
    "    timeseries_x = y_true.index\n",
    "    \n",
    "    # 检查是否可用GPU\n",
    "    device = torch.device(\"cuda\" if torch.cuda.is_available() else \"cpu\")\n",
    "    \n",
    "    # 关闭自动求导功能\n",
    "    with torch.no_grad():\n",
    "        '''测试集设置'''\n",
    "        X_train = X_train.to(device) # 将数据应用到GPU\n",
    "        y_train = y_train.to(device)\n",
    "        y_pred = model(X_train, None)\n",
    "        y_pred = y_pred[:, 0, :1].reshape(-1, features) # 0表示第一个输出\n",
    "        y_pred = y_pred.cpu().detach().numpy() # 首先将张量移动到CPU，然后从计算图中分离，最后转换为NumPy数组\n",
    "        y_pred = scaler.inverse_transform(y_pred) # 反归一化\n",
    "        y_pred = y_pred[:,col_dict[in_tag]] # 选择要输出的列，单输出时默认为0\n",
    "        train_plot_y = [np.nan]*(lookback+1) + list(y_pred.reshape(-1, ))+ [np.nan]*(delay-1)\n",
    "        train_plot_x = timeseries_x[: train_size]\n",
    "        \n",
    "        '''验证集设置'''\n",
    "        X_valid = X_valid.to(device)\n",
    "        y_valid = y_valid.to(device)\n",
    "        y_pred = model(X_valid, None)\n",
    "        y_pred = y_pred[:, 0, :1].reshape(-1, features)\n",
    "        y_pred = y_pred.cpu().detach().numpy()\n",
    "        y_pred = scaler.inverse_transform(y_pred)\n",
    "        y_pred = y_pred[:,col_dict[in_tag]] # 选择要输出的列\n",
    "        valid_plot_y = [np.nan]*(lookback+1) + list(y_pred.reshape(-1, ))+ [np.nan]*(delay-1)\n",
    "        valid_plot_x = timeseries_x[train_size: train_size+valid_size]\n",
    "        \n",
    "        '''测试集设置'''\n",
    "        X_test = X_test.to(device)\n",
    "        y_test = y_test.to(device)\n",
    "        y_pred = model(X_test, None)\n",
    "        y_pred = y_pred[:, 0, :1].reshape(-1, features)\n",
    "        y_pred = y_pred.cpu().detach().numpy()\n",
    "        y_pred = scaler.inverse_transform(y_pred)\n",
    "        y_pred = y_pred[:,col_dict[in_tag]] # 选择要输出的列\n",
    "        test_plot_y = [np.nan]*(lookback+1) + list(y_pred.reshape(-1, )) + [np.nan]*(delay-1)\n",
    "        test_plot_x = timeseries_x[train_size+valid_size: train_size+valid_size+test_size]\n",
    "    return timeseries_x, timeseries_y, train_plot_x, train_plot_y, valid_plot_x, valid_plot_y, test_plot_x, test_plot_y"
   ]
  },
  {
   "cell_type": "code",
   "execution_count": 124,
   "id": "5def97b7",
   "metadata": {
    "ExecuteTime": {
     "end_time": "2024-03-30T10:54:33.861900Z",
     "start_time": "2024-03-30T10:54:33.433417Z"
    }
   },
   "outputs": [],
   "source": [
    "# 构造参数字典\n",
    "params4 = {\n",
    "    \"model\": model,\n",
    "    \"X_train\": X_train,\n",
    "    \"X_valid\": X_valid,\n",
    "    \"X_test\": X_test,\n",
    "    \"y_train\": y_train,\n",
    "    \"y_valid\": y_valid,\n",
    "    \"y_test\": y_test,\n",
    "    \"y_true\": ts_data,\n",
    "    \"y_feature_list\": ['load'],\n",
    "    \"lookback\": 6,\n",
    "    \"delay\": 3,\n",
    "    \"scaler\": scaler,\n",
    "    \"in_tag\": 'load'\n",
    "}\n",
    "timeseries_x, timeseries_y, train_plot_x, train_plot_y, valid_plot_x, valid_plot_y, test_plot_x, test_plot_y = predict(\n",
    "    **params4)"
   ]
  },
  {
   "cell_type": "markdown",
   "id": "4a09858e",
   "metadata": {},
   "source": [
    "### 结果分析"
   ]
  },
  {
   "cell_type": "code",
   "execution_count": 125,
   "id": "645f7333",
   "metadata": {
    "ExecuteTime": {
     "end_time": "2024-03-30T10:54:35.331315Z",
     "start_time": "2024-03-30T10:54:35.316167Z"
    }
   },
   "outputs": [],
   "source": [
    "# 局部静态图\n",
    "def static_part_timeseries(timeseries_x, timeseries_y, test_plot_x, test_plot_y):\n",
    "    timeseries_x = timeseries_x[timeseries_x >= test_plot_x[0]]\n",
    "    timeseries_y = timeseries_y[timeseries_y.shape[0] - len(test_plot_x):,:]\n",
    "    #绘图，原始图，训练图，验证图，测试图\n",
    "    fig = plt.figure(1, (10, 5))\n",
    "    ax = fig.add_subplot(1,1,1)\n",
    "    plt.style.use('seaborn-v0_8-paper') #绘制背景色\n",
    "    plt.grid(axis = 'y',linewidth=0.35) #绘制网格\n",
    "    plt.title('true-predict-curve ') #图标题\n",
    "    plt.xticks(rotation = 45) #rotation文字旋转方向\n",
    "    ax.plot(timeseries_x, timeseries_y, linestyle='-',label = 'true_curve')\n",
    "    ax.plot(test_plot_x, test_plot_y, linestyle='--',label = 'predict_curve')\n",
    "    ax.legend(frameon=False) #绘制图例\n",
    "    plt.xlabel('Time')\n",
    "    plt.ylabel('Values')\n",
    "    plt.show()"
   ]
  },
  {
   "cell_type": "code",
   "execution_count": 126,
   "id": "0f249d94",
   "metadata": {
    "ExecuteTime": {
     "end_time": "2024-03-30T10:54:36.581216Z",
     "start_time": "2024-03-30T10:54:36.285464Z"
    }
   },
   "outputs": [
    {
     "data": {
      "image/png": "[encoded data removed]",
      "text/plain": [
       "<Figure size 1000x500 with 1 Axes>"
      ]
     },
     "metadata": {},
     "output_type": "display_data"
    }
   ],
   "source": [
    "# 局部静态图\n",
    "params5 = {\n",
    "    \"timeseries_x\": timeseries_x,\n",
    "    \"timeseries_y\": timeseries_y,\n",
    "    \"test_plot_x\": test_plot_x,\n",
    "    \"test_plot_y\": test_plot_y,\n",
    "}\n",
    "static_part_timeseries(**params5)"
   ]
  },
  {
   "cell_type": "code",
   "execution_count": null,
   "id": "0c3e1def",
   "metadata": {},
   "outputs": [],
   "source": []
  }
 ],
 "metadata": {
  "kernelspec": {
   "display_name": "Python 3 (ipykernel)",
   "language": "python",
   "name": "python3"
  },
  "language_info": {
   "codemirror_mode": {
    "name": "ipython",
    "version": 3
   },
   "file_extension": ".py",
   "mimetype": "text/x-python",
   "name": "python",
   "nbconvert_exporter": "python",
   "pygments_lexer": "ipython3",
   "version": "3.9.18"
  },
  "toc": {
   "base_numbering": "17",
   "nav_menu": {},
   "number_sections": true,
   "sideBar": true,
   "skip_h1_title": false,
   "title_cell": "Table of Contents",
   "title_sidebar": "Contents",
   "toc_cell": false,
   "toc_position": {
    "height": "calc(100% - 180px)",
    "left": "10px",
    "top": "150px",
    "width": "170.786px"
   },
   "toc_section_display": true,
   "toc_window_display": true
  },
  "varInspector": {
   "cols": {
    "lenName": 16,
    "lenType": 16,
    "lenVar": 40
   },
   "kernels_config": {
    "python": {
     "delete_cmd_postfix": "",
     "delete_cmd_prefix": "del ",
     "library": "var_list.py",
     "varRefreshCmd": "print(var_dic_list())"
    },
    "r": {
     "delete_cmd_postfix": ") ",
     "delete_cmd_prefix": "rm(",
     "library": "var_list.r",
     "varRefreshCmd": "cat(var_dic_list()) "
    }
   },
   "types_to_exclude": [
    "module",
    "function",
    "builtin_function_or_method",
    "instance",
    "_Feature"
   ],
   "window_display": false
  }
 },
 "nbformat": 4,
 "nbformat_minor": 5
}
