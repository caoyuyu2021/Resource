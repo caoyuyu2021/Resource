{
 "cells": [
  {
   "cell_type": "markdown",
   "id": "86770a3f",
   "metadata": {},
   "source": [
    "# 迁移学习"
   ]
  },
  {
   "cell_type": "markdown",
   "id": "8b2328d5",
   "metadata": {},
   "source": [
    "迁移学习是在一个任务上训练的模型被用于不同但相关的任务。在 PyTorch 中，进行迁移学习通常包括以下步骤：\n",
    "\n",
    "- 加载预训练模型： 使用一个在大规模数据集上训练过的模型，例如 ImageNet 上的预训练模型。\n",
    "\n",
    "- 修改模型架构： 修改加载的模型以适应新任务。这可能包括调整输出层的大小，冻结一些层，或者替换一些层。\n",
    "\n",
    "- 定义新任务： 定义新任务的数据集和相应的损失函数。\n",
    "\n",
    "- 训练模型： 使用新任务的数据集对修改后的模型进行训练。"
   ]
  },
  {
   "cell_type": "code",
   "execution_count": 29,
   "id": "f28a5908",
   "metadata": {
    "ExecuteTime": {
     "end_time": "2024-01-11T03:38:16.516102Z",
     "start_time": "2024-01-11T03:38:16.505919Z"
    }
   },
   "outputs": [],
   "source": [
    "import datetime as dt\n",
    "import os\n",
    "import warnings\n",
    "from collections import UserDict\n",
    "from tqdm import tqdm # 打印进度条\n",
    "\n",
    "import matplotlib.pyplot as plt\n",
    "import numpy as np\n",
    "import pandas as pd\n",
    "from IPython.display import Image\n",
    "from sklearn.preprocessing import MinMaxScaler\n",
    "from sklearn.model_selection import train_test_split\n",
    "\n",
    "# 两种绘图接口\n",
    "import plotly_express as px\n",
    "import plotly.graph_objects as go\n",
    "\n",
    "import torch\n",
    "import torch.nn as nn\n",
    "import torch.optim as optim\n",
    "import torch.utils.data as data\n",
    "from torch.nn.utils import weight_norm\n",
    "\n",
    "%matplotlib inline\n",
    "\n",
    "warnings.filterwarnings(\"ignore\")\n",
    "pd.options.display.float_format = \"{:,.2f}\".format\n",
    "np.set_printoptions(precision=2)"
   ]
  },
  {
   "cell_type": "markdown",
   "id": "b2cd50f5",
   "metadata": {},
   "source": [
    "## 模型微调"
   ]
  },
  {
   "cell_type": "markdown",
   "id": "7dbb3076",
   "metadata": {},
   "source": [
    "### 加载预训练模型"
   ]
  },
  {
   "cell_type": "code",
   "execution_count": 25,
   "id": "55ea9f8b",
   "metadata": {
    "ExecuteTime": {
     "end_time": "2024-01-11T02:51:12.283168Z",
     "start_time": "2024-01-11T02:51:12.277187Z"
    }
   },
   "outputs": [],
   "source": [
    "# 定义预训练模型\n",
    "import sys\n",
    "path = '../models' #项目所在文件夹\n",
    "sys.path.insert(0, path)\n",
    "\n",
    "from lstm import LSTM\n",
    "model_path = '../models/best_models/lstm.pth'\n",
    "pretrained_model = torch.load(model_path)"
   ]
  },
  {
   "cell_type": "markdown",
   "id": "a978acd3",
   "metadata": {},
   "source": [
    "### 修改模型架构"
   ]
  },
  {
   "cell_type": "markdown",
   "id": "11aea211",
   "metadata": {},
   "source": [
    "#### 冻结层"
   ]
  },
  {
   "cell_type": "code",
   "execution_count": 26,
   "id": "1994b1fa",
   "metadata": {
    "ExecuteTime": {
     "end_time": "2024-01-11T02:51:37.468714Z",
     "start_time": "2024-01-11T02:51:37.464153Z"
    }
   },
   "outputs": [
    {
     "name": "stdout",
     "output_type": "stream",
     "text": [
      "lstm.weight_ih_l0: True\n",
      "lstm.weight_hh_l0: True\n",
      "lstm.bias_ih_l0: True\n",
      "lstm.bias_hh_l0: True\n",
      "linear.weight: True\n",
      "linear.bias: True\n"
     ]
    }
   ],
   "source": [
    "# 输出模型参数的requires_grad属性\n",
    "for name, param in model.named_parameters():\n",
    "    print(f\"{name}: {param.requires_grad}\")"
   ]
  },
  {
   "cell_type": "markdown",
   "id": "272663d0",
   "metadata": {},
   "source": [
    "lstm、linear表示层的别名。\n",
    "\n",
    "weight_ih_l0表示LSTM模型的输入到隐藏层的权重参数。\n",
    "\n",
    "weight_hh_l0表示LSTM隐藏层到隐藏层的权重。"
   ]
  },
  {
   "cell_type": "code",
   "execution_count": 27,
   "id": "c3812195",
   "metadata": {
    "ExecuteTime": {
     "end_time": "2024-01-11T02:55:45.611852Z",
     "start_time": "2024-01-11T02:55:45.608290Z"
    }
   },
   "outputs": [],
   "source": [
    "# 冻结部分层\n",
    "for name, param in model.named_parameters():\n",
    "    if name.startswith('lstm'):  # 在这个示例中冻结别名为lstm的层\n",
    "        param.requires_grad = False"
   ]
  },
  {
   "cell_type": "code",
   "execution_count": 28,
   "id": "a5ad040a",
   "metadata": {
    "ExecuteTime": {
     "end_time": "2024-01-11T02:57:35.045071Z",
     "start_time": "2024-01-11T02:57:35.041459Z"
    }
   },
   "outputs": [
    {
     "name": "stdout",
     "output_type": "stream",
     "text": [
      "lstm.weight_ih_l0: False\n",
      "lstm.weight_hh_l0: False\n",
      "lstm.bias_ih_l0: False\n",
      "lstm.bias_hh_l0: False\n",
      "linear.weight: True\n",
      "linear.bias: True\n"
     ]
    }
   ],
   "source": [
    "# 输出模型参数的requires_grad属性（已冻结的层的requires_grad应为False）\n",
    "for name, param in model.named_parameters():\n",
    "    print(f\"{name}: {param.requires_grad}\")"
   ]
  },
  {
   "cell_type": "markdown",
   "id": "4f0567e9",
   "metadata": {},
   "source": [
    "#### 替换层"
   ]
  },
  {
   "cell_type": "code",
   "execution_count": 14,
   "id": "9fb67614",
   "metadata": {
    "ExecuteTime": {
     "end_time": "2024-01-11T02:33:41.626666Z",
     "start_time": "2024-01-11T02:33:41.622744Z"
    }
   },
   "outputs": [],
   "source": [
    "# 修改模型架构，这里假设输出层需要调整为新任务的输出维度\n",
    "new_out_dim = 1\n",
    "pretrained_model.linear = nn.Linear(in_features=5, out_features=new_out_dim)"
   ]
  },
  {
   "cell_type": "markdown",
   "id": "472d3493",
   "metadata": {},
   "source": [
    "### 定义新任务"
   ]
  },
  {
   "cell_type": "markdown",
   "id": "be2de538",
   "metadata": {},
   "source": [
    "#### 定义新数据集"
   ]
  },
  {
   "cell_type": "markdown",
   "id": "0e49d031",
   "metadata": {},
   "source": [
    "将在load上训练的模型应用在temp上。"
   ]
  },
  {
   "cell_type": "code",
   "execution_count": 9,
   "id": "8c58d1cd",
   "metadata": {
    "ExecuteTime": {
     "end_time": "2024-01-11T02:30:07.324355Z",
     "start_time": "2024-01-11T02:30:07.248743Z"
    }
   },
   "outputs": [
    {
     "data": {
      "text/html": [
       "<div>\n",
       "<style scoped>\n",
       "    .dataframe tbody tr th:only-of-type {\n",
       "        vertical-align: middle;\n",
       "    }\n",
       "\n",
       "    .dataframe tbody tr th {\n",
       "        vertical-align: top;\n",
       "    }\n",
       "\n",
       "    .dataframe thead th {\n",
       "        text-align: right;\n",
       "    }\n",
       "</style>\n",
       "<table border=\"1\" class=\"dataframe\">\n",
       "  <thead>\n",
       "    <tr style=\"text-align: right;\">\n",
       "      <th></th>\n",
       "      <th>load</th>\n",
       "      <th>temp</th>\n",
       "    </tr>\n",
       "  </thead>\n",
       "  <tbody>\n",
       "    <tr>\n",
       "      <th>2012-01-01 00:00:00</th>\n",
       "      <td>2,698.00</td>\n",
       "      <td>32.00</td>\n",
       "    </tr>\n",
       "    <tr>\n",
       "      <th>2012-01-01 01:00:00</th>\n",
       "      <td>2,558.00</td>\n",
       "      <td>32.67</td>\n",
       "    </tr>\n",
       "    <tr>\n",
       "      <th>2012-01-01 02:00:00</th>\n",
       "      <td>2,444.00</td>\n",
       "      <td>30.00</td>\n",
       "    </tr>\n",
       "    <tr>\n",
       "      <th>2012-01-01 03:00:00</th>\n",
       "      <td>2,402.00</td>\n",
       "      <td>31.00</td>\n",
       "    </tr>\n",
       "    <tr>\n",
       "      <th>2012-01-01 04:00:00</th>\n",
       "      <td>2,403.00</td>\n",
       "      <td>32.00</td>\n",
       "    </tr>\n",
       "  </tbody>\n",
       "</table>\n",
       "</div>"
      ],
      "text/plain": [
       "                        load  temp\n",
       "2012-01-01 00:00:00 2,698.00 32.00\n",
       "2012-01-01 01:00:00 2,558.00 32.67\n",
       "2012-01-01 02:00:00 2,444.00 30.00\n",
       "2012-01-01 03:00:00 2,402.00 31.00\n",
       "2012-01-01 04:00:00 2,403.00 32.00"
      ]
     },
     "execution_count": 9,
     "metadata": {},
     "output_type": "execute_result"
    }
   ],
   "source": [
    "ts_data = pd.read_csv(\"../data/energy.csv\")\n",
    "ts_data = pd.DataFrame(ts_data[[\"load\", \"temp\"]].values, index=pd.to_datetime(ts_data[\"Unnamed: 0\"].values), columns=[\"load\", \"temp\"])\n",
    "ts_data = ts_data.asfreq(freq='H') #转换为小时频率的数据\n",
    "ts_data.head()"
   ]
  },
  {
   "cell_type": "code",
   "execution_count": 10,
   "id": "60677ba4",
   "metadata": {
    "ExecuteTime": {
     "end_time": "2024-01-11T02:30:17.105218Z",
     "start_time": "2024-01-11T02:30:17.098067Z"
    }
   },
   "outputs": [],
   "source": [
    "# 包含时间维度的数据集划分\n",
    "def divide_dataset(df, test_date, valid_date, x_feature_list, y_feature_list):\n",
    "    #归一化\n",
    "    x_scaler = MinMaxScaler()\n",
    "    y_scaler = MinMaxScaler()\n",
    "\n",
    "    #测试集\n",
    "    train = df.copy()[df.index < valid_date][x_feature_list]\n",
    "    train[x_feature_list] = x_scaler.fit_transform(train)\n",
    "    train = train.values.astype('float32')\n",
    "\n",
    "    #验证集\n",
    "    valid = df.copy()[(df.index >= valid_date) & (df.index < test_date)][x_feature_list]\n",
    "    valid[x_feature_list] = x_scaler.fit_transform(valid)\n",
    "    valid = valid.values.astype('float32')\n",
    "\n",
    "    #测试集\n",
    "    test = df.copy()[test_date:][x_feature_list]\n",
    "    test[x_feature_list] = x_scaler.fit_transform(test)\n",
    "    test = test.values.astype('float32')\n",
    "\n",
    "    #标签\n",
    "    ytr = df.copy()[df.index < valid_date][y_feature_list]\n",
    "    ytr[y_feature_list] = y_scaler.fit_transform(ytr)\n",
    "    ytr = ytr.values.astype('float32')\n",
    "\n",
    "    yva = df.copy()[(df.index >= valid_date) & (df.index < test_date)][y_feature_list]\n",
    "    yva[y_feature_list] = y_scaler.fit_transform(yva)\n",
    "    yva = yva.values.astype('float32')\n",
    "\n",
    "    yte = df.copy()[test_date:][y_feature_list]\n",
    "    yte[y_feature_list] = y_scaler.fit_transform(yte)\n",
    "    yte = yte.values.astype('float32')\n",
    "    return y_scaler, train, valid, test, ytr, yva, yte"
   ]
  },
  {
   "cell_type": "code",
   "execution_count": 11,
   "id": "4ea49a78",
   "metadata": {
    "ExecuteTime": {
     "end_time": "2024-01-11T02:33:15.635613Z",
     "start_time": "2024-01-11T02:33:15.598801Z"
    }
   },
   "outputs": [
    {
     "name": "stdout",
     "output_type": "stream",
     "text": [
      "x_train shape: (23376, 1) y_train shape: (23376, 1)\n",
      "x_valid shape: (1464, 1) y_valid shape: (1464, 1)\n",
      "x_test shape: (1464, 1) y_test shape: (1464, 1)\n"
     ]
    }
   ],
   "source": [
    "# 构造参数字典\n",
    "params1 = {\n",
    "    \"df\": ts_data,\n",
    "    \"valid_date\": \"2014-09-01 00:00:00\",\n",
    "    \"test_date\": \"2014-11-01 00:00:00\",\n",
    "    \"x_feature_list\": [\"temp\"],\n",
    "    \"y_feature_list\": [\"temp\"],\n",
    "}\n",
    "\n",
    "#函数传参\n",
    "scaler, x_train, x_valid, x_test, y_train, y_valid, y_test = divide_dataset(**params1)\n",
    "print(\"x_train shape: {0} y_train shape: {1}\".format(x_train.shape, y_train.shape))\n",
    "print(\"x_valid shape: {0} y_valid shape: {1}\".format(x_valid.shape, y_valid.shape))\n",
    "print(\"x_test shape: {0} y_test shape: {1}\".format(x_test.shape, y_test.shape))"
   ]
  },
  {
   "cell_type": "code",
   "execution_count": 12,
   "id": "9025d0e9",
   "metadata": {
    "ExecuteTime": {
     "end_time": "2024-01-11T02:33:24.885404Z",
     "start_time": "2024-01-11T02:33:24.879000Z"
    }
   },
   "outputs": [],
   "source": [
    "#利用前lookback个数据，预测下delay个数据\n",
    "def rnn_create_dataset(feature, target, lookback, delay, step, batch_size):\n",
    "    \"\"\"\n",
    "    @参数设置：\n",
    "    feat：输入向量\n",
    "    tar：输出向量\n",
    "    lookback：输入数据包含过去多少个时间步\n",
    "    delay：目标应该在未来多少个时间步之后\n",
    "    \"\"\"\n",
    "    X, y = [], []\n",
    "    lookback = lookback - 1 #包含当前时间点\n",
    "    #循环生成数据\n",
    "    for i in range(lookback, len(feature) - delay, step):\n",
    "        feat = feature[i - lookback:i + 1]\n",
    "        tar = target[i + 1:i + 1 + delay]\n",
    "        X.append(feat)\n",
    "        y.append(tar)\n",
    "    #转为张量\n",
    "    X = torch.as_tensor(X) # X为三维\n",
    "    y = torch.as_tensor(y) \n",
    "    y = y.squeeze(dim=2) #去掉维度为1的第三维度，将其变为二维\n",
    "    #创建dataloader\n",
    "    loader = data.DataLoader(data.TensorDataset(X, y), shuffle=True, batch_size=batch_size)\n",
    "    return X, y, loader"
   ]
  },
  {
   "cell_type": "code",
   "execution_count": 13,
   "id": "f09addad",
   "metadata": {
    "ExecuteTime": {
     "end_time": "2024-01-11T02:33:31.746833Z",
     "start_time": "2024-01-11T02:33:31.416100Z"
    }
   },
   "outputs": [
    {
     "name": "stdout",
     "output_type": "stream",
     "text": [
      "X_size: torch.Size([23370, 6, 1]),y_size: torch.Size([23370, 1]),loader_len: 731\n",
      "X_size: torch.Size([1458, 6, 1]),y_size: torch.Size([1458, 1]),loader_len: 46\n",
      "X_size: torch.Size([1458, 6, 1]),y_size: torch.Size([1458, 1]),loader_len: 46\n"
     ]
    }
   ],
   "source": [
    "# 构造参数字典\n",
    "params2 = {\n",
    "    \"lookback\": 6,\n",
    "    \"delay\": 1,\n",
    "    \"step\": 1, #确保后续画图不出错\n",
    "    \"batch_size\": 32,\n",
    "}\n",
    "X_train, y_train, train_loader = rnn_create_dataset(x_train, y_train, **params2)\n",
    "X_valid, y_valid, valid_loader = rnn_create_dataset(x_valid, y_valid, **params2)\n",
    "X_test, y_test, test_loader = rnn_create_dataset(x_test, y_test, **params2)\n",
    "print(\"X_size: {0},y_size: {1},loader_len: {2}\".format(X_train.shape, y_train.shape, len(train_loader)))\n",
    "print(\"X_size: {0},y_size: {1},loader_len: {2}\".format(X_valid.shape, y_valid.shape, len(valid_loader)))\n",
    "print(\"X_size: {0},y_size: {1},loader_len: {2}\".format(X_test.shape, y_test.shape, len(test_loader)))"
   ]
  },
  {
   "cell_type": "markdown",
   "id": "af7a6830",
   "metadata": {},
   "source": [
    "### 训练模型"
   ]
  },
  {
   "cell_type": "code",
   "execution_count": 15,
   "id": "62ea4a4e",
   "metadata": {
    "ExecuteTime": {
     "end_time": "2024-01-11T02:37:40.819784Z",
     "start_time": "2024-01-11T02:37:40.810991Z"
    }
   },
   "outputs": [],
   "source": [
    "def train(pretrained_model, train_loader, valid_loader, n_epochs, verbose=True, plots=True):\n",
    "#     #LSTM\n",
    "#     class LSTM(nn.Module):\n",
    "#         def __init__(self, input_dim, out_dim):\n",
    "#             super(LSTM, self).__init__()\n",
    "#             self.lstm = nn.LSTM(input_size=input_dim, hidden_size=5, num_layers=1, batch_first=True)\n",
    "#             self.linear = nn.Linear(in_features=5, out_features=out_dim)\n",
    "#         def forward(self, x):\n",
    "#             lstm_out, _ = self.lstm(x)\n",
    "#             last_time_step_output = lstm_out[:, -1, :]\n",
    "#             output = self.linear(last_time_step_output)\n",
    "#             return output\n",
    "        \n",
    "    #检查是否可用GPU\n",
    "    device = torch.device(\"cuda\" if torch.cuda.is_available() else \"cpu\")\n",
    "    \n",
    "    #训练模型\n",
    "    model = pretrained_model\n",
    "    optimizer = optim.Adam(model.parameters())\n",
    "    loss_fn = nn.MSELoss()\n",
    "\n",
    "    # 损失函数值\n",
    "    train_losses, val_losses = [], []\n",
    "\n",
    "    for epoch in tqdm(range(n_epochs)):\n",
    "        model.train()\n",
    "        total_train_loss = 0\n",
    "        for inputs_batch, targets_batch in train_loader:\n",
    "            #将数据移至 GPU\n",
    "            inputs_batch = inputs_batch.to(device)\n",
    "            targets_batch = targets_batch.to(device)\n",
    "            # 清空梯度\n",
    "            optimizer.zero_grad()\n",
    "            outputs = model(inputs_batch)\n",
    "            outputs = outputs\n",
    "            train_loss = loss_fn(outputs, targets_batch)\n",
    "            # 反向传播计算得到每个参数的梯度值\n",
    "            train_loss.backward()\n",
    "            # 通过梯度下降执行一步参数更新\n",
    "            optimizer.step()\n",
    "            #每个batch的loss和\n",
    "            total_train_loss += train_loss.item() # .item()表示只包含一个元素的tensor中提取值\n",
    "                \n",
    "        #每个epoch的损失平均\n",
    "        avg_train_loss = total_train_loss / len(train_loader)\n",
    "        \n",
    "        #所有epoch的loss\n",
    "        train_losses.append(avg_train_loss)\n",
    "        \n",
    "        #评估模型\n",
    "        model.eval()\n",
    "        #关闭自动求导功能，只使用训练好的模型进行预测或评估，不需要进行梯度计算和参数更新\n",
    "        with torch.no_grad():\n",
    "            total_val_loss = 0\n",
    "            for inputs_batch, targets_batch in valid_loader:\n",
    "                #将数据移至 GPU\n",
    "                inputs_batch = inputs_batch.to(device)\n",
    "                targets_batch = targets_batch.to(device)\n",
    "                val_outputs = model(inputs_batch)\n",
    "                val_loss = loss_fn(val_outputs, targets_batch)\n",
    "                #每个batch的loss和\n",
    "                total_val_loss += val_loss.item()\n",
    "                \n",
    "        #每个epoch的损失平均\n",
    "        avg_val_loss = total_val_loss / len(valid_loader)\n",
    "        \n",
    "        #所有epoch的loss\n",
    "        val_losses.append(avg_val_loss)\n",
    "        \n",
    "        #打印训练过程\n",
    "        if verbose:\n",
    "            print(f'Epoch [{epoch+1}/{n_epochs}], Training Loss: {avg_train_loss:.4f}, Validation Loss: {avg_val_loss:.4f}')\n",
    "\n",
    "    #绘制损失函数图\n",
    "    if plots:\n",
    "        plot_loss(train_losses, val_losses)\n",
    "    return model"
   ]
  },
  {
   "cell_type": "code",
   "execution_count": 16,
   "id": "29801d64",
   "metadata": {
    "ExecuteTime": {
     "end_time": "2024-01-11T02:37:50.315878Z",
     "start_time": "2024-01-11T02:37:50.310403Z"
    }
   },
   "outputs": [],
   "source": [
    "#损失函数图\n",
    "def plot_loss(train_losses, val_losses):\n",
    "    plt.figure(figsize=(10, 5))\n",
    "    plt.plot(val_losses, linestyle='-',color = '#11b3b6')\n",
    "    plt.plot(train_losses, linestyle='-',color = '#f14643')\n",
    "    plt.xlabel(\"Epoch\")\n",
    "    plt.ylabel(\"Loss\")\n",
    "    plt.title(\"Training and Validation Progress\")\n",
    "    plt.legend([\"Validation\", \"Training\"])\n",
    "    plt.show()"
   ]
  },
  {
   "cell_type": "code",
   "execution_count": 17,
   "id": "f8a40335",
   "metadata": {
    "ExecuteTime": {
     "end_time": "2024-01-11T02:39:10.925405Z",
     "start_time": "2024-01-11T02:38:39.965327Z"
    }
   },
   "outputs": [
    {
     "name": "stderr",
     "output_type": "stream",
     "text": [
      "  5%|████▏                                                                              | 1/20 [00:01<00:29,  1.56s/it]"
     ]
    },
    {
     "name": "stdout",
     "output_type": "stream",
     "text": [
      "Epoch [1/20], Training Loss: 0.0164, Validation Loss: 0.0019\n"
     ]
    },
    {
     "name": "stderr",
     "output_type": "stream",
     "text": [
      "\r",
      " 10%|████████▎                                                                          | 2/20 [00:02<00:26,  1.45s/it]"
     ]
    },
    {
     "name": "stdout",
     "output_type": "stream",
     "text": [
      "Epoch [2/20], Training Loss: 0.0004, Validation Loss: 0.0016\n"
     ]
    },
    {
     "name": "stderr",
     "output_type": "stream",
     "text": [
      "\r",
      " 15%|████████████▍                                                                      | 3/20 [00:04<00:23,  1.41s/it]"
     ]
    },
    {
     "name": "stdout",
     "output_type": "stream",
     "text": [
      "Epoch [3/20], Training Loss: 0.0003, Validation Loss: 0.0013\n"
     ]
    },
    {
     "name": "stderr",
     "output_type": "stream",
     "text": [
      "\r",
      " 20%|████████████████▌                                                                  | 4/20 [00:05<00:22,  1.41s/it]"
     ]
    },
    {
     "name": "stdout",
     "output_type": "stream",
     "text": [
      "Epoch [4/20], Training Loss: 0.0003, Validation Loss: 0.0011\n"
     ]
    },
    {
     "name": "stderr",
     "output_type": "stream",
     "text": [
      "\r",
      " 25%|████████████████████▊                                                              | 5/20 [00:07<00:21,  1.43s/it]"
     ]
    },
    {
     "name": "stdout",
     "output_type": "stream",
     "text": [
      "Epoch [5/20], Training Loss: 0.0002, Validation Loss: 0.0009\n"
     ]
    },
    {
     "name": "stderr",
     "output_type": "stream",
     "text": [
      "\r",
      " 30%|████████████████████████▉                                                          | 6/20 [00:08<00:20,  1.47s/it]"
     ]
    },
    {
     "name": "stdout",
     "output_type": "stream",
     "text": [
      "Epoch [6/20], Training Loss: 0.0002, Validation Loss: 0.0008\n"
     ]
    },
    {
     "name": "stderr",
     "output_type": "stream",
     "text": [
      "\r",
      " 35%|█████████████████████████████                                                      | 7/20 [00:10<00:19,  1.46s/it]"
     ]
    },
    {
     "name": "stdout",
     "output_type": "stream",
     "text": [
      "Epoch [7/20], Training Loss: 0.0002, Validation Loss: 0.0007\n"
     ]
    },
    {
     "name": "stderr",
     "output_type": "stream",
     "text": [
      "\r",
      " 40%|█████████████████████████████████▏                                                 | 8/20 [00:11<00:17,  1.47s/it]"
     ]
    },
    {
     "name": "stdout",
     "output_type": "stream",
     "text": [
      "Epoch [8/20], Training Loss: 0.0002, Validation Loss: 0.0007\n"
     ]
    },
    {
     "name": "stderr",
     "output_type": "stream",
     "text": [
      "\r",
      " 45%|█████████████████████████████████████▎                                             | 9/20 [00:13<00:16,  1.54s/it]"
     ]
    },
    {
     "name": "stdout",
     "output_type": "stream",
     "text": [
      "Epoch [9/20], Training Loss: 0.0001, Validation Loss: 0.0007\n"
     ]
    },
    {
     "name": "stderr",
     "output_type": "stream",
     "text": [
      "\r",
      " 50%|█████████████████████████████████████████                                         | 10/20 [00:15<00:16,  1.63s/it]"
     ]
    },
    {
     "name": "stdout",
     "output_type": "stream",
     "text": [
      "Epoch [10/20], Training Loss: 0.0001, Validation Loss: 0.0007\n"
     ]
    },
    {
     "name": "stderr",
     "output_type": "stream",
     "text": [
      "\r",
      " 55%|█████████████████████████████████████████████                                     | 11/20 [00:16<00:14,  1.64s/it]"
     ]
    },
    {
     "name": "stdout",
     "output_type": "stream",
     "text": [
      "Epoch [11/20], Training Loss: 0.0001, Validation Loss: 0.0007\n"
     ]
    },
    {
     "name": "stderr",
     "output_type": "stream",
     "text": [
      "\r",
      " 60%|█████████████████████████████████████████████████▏                                | 12/20 [00:18<00:13,  1.64s/it]"
     ]
    },
    {
     "name": "stdout",
     "output_type": "stream",
     "text": [
      "Epoch [12/20], Training Loss: 0.0001, Validation Loss: 0.0007\n"
     ]
    },
    {
     "name": "stderr",
     "output_type": "stream",
     "text": [
      "\r",
      " 65%|█████████████████████████████████████████████████████▎                            | 13/20 [00:19<00:11,  1.60s/it]"
     ]
    },
    {
     "name": "stdout",
     "output_type": "stream",
     "text": [
      "Epoch [13/20], Training Loss: 0.0001, Validation Loss: 0.0007\n"
     ]
    },
    {
     "name": "stderr",
     "output_type": "stream",
     "text": [
      "\r",
      " 70%|█████████████████████████████████████████████████████████▍                        | 14/20 [00:21<00:09,  1.57s/it]"
     ]
    },
    {
     "name": "stdout",
     "output_type": "stream",
     "text": [
      "Epoch [14/20], Training Loss: 0.0001, Validation Loss: 0.0007\n"
     ]
    },
    {
     "name": "stderr",
     "output_type": "stream",
     "text": [
      "\r",
      " 75%|█████████████████████████████████████████████████████████████▌                    | 15/20 [00:22<00:07,  1.54s/it]"
     ]
    },
    {
     "name": "stdout",
     "output_type": "stream",
     "text": [
      "Epoch [15/20], Training Loss: 0.0001, Validation Loss: 0.0007\n"
     ]
    },
    {
     "name": "stderr",
     "output_type": "stream",
     "text": [
      "\r",
      " 80%|█████████████████████████████████████████████████████████████████▌                | 16/20 [00:24<00:06,  1.53s/it]"
     ]
    },
    {
     "name": "stdout",
     "output_type": "stream",
     "text": [
      "Epoch [16/20], Training Loss: 0.0001, Validation Loss: 0.0007\n"
     ]
    },
    {
     "name": "stderr",
     "output_type": "stream",
     "text": [
      "\r",
      " 85%|█████████████████████████████████████████████████████████████████████▋            | 17/20 [00:25<00:04,  1.53s/it]"
     ]
    },
    {
     "name": "stdout",
     "output_type": "stream",
     "text": [
      "Epoch [17/20], Training Loss: 0.0001, Validation Loss: 0.0007\n"
     ]
    },
    {
     "name": "stderr",
     "output_type": "stream",
     "text": [
      "\r",
      " 90%|█████████████████████████████████████████████████████████████████████████▊        | 18/20 [00:27<00:03,  1.57s/it]"
     ]
    },
    {
     "name": "stdout",
     "output_type": "stream",
     "text": [
      "Epoch [18/20], Training Loss: 0.0001, Validation Loss: 0.0007\n"
     ]
    },
    {
     "name": "stderr",
     "output_type": "stream",
     "text": [
      "\r",
      " 95%|█████████████████████████████████████████████████████████████████████████████▉    | 19/20 [00:29<00:01,  1.56s/it]"
     ]
    },
    {
     "name": "stdout",
     "output_type": "stream",
     "text": [
      "Epoch [19/20], Training Loss: 0.0001, Validation Loss: 0.0007\n"
     ]
    },
    {
     "name": "stderr",
     "output_type": "stream",
     "text": [
      "100%|██████████████████████████████████████████████████████████████████████████████████| 20/20 [00:30<00:00,  1.54s/it]"
     ]
    },
    {
     "name": "stdout",
     "output_type": "stream",
     "text": [
      "Epoch [20/20], Training Loss: 0.0001, Validation Loss: 0.0007\n"
     ]
    },
    {
     "name": "stderr",
     "output_type": "stream",
     "text": [
      "\n"
     ]
    },
    {
     "data": {
      "image/png": "[encoded data removed]",
      "text/plain": [
       "<Figure size 1000x500 with 1 Axes>"
      ]
     },
     "metadata": {},
     "output_type": "display_data"
    }
   ],
   "source": [
    "# 构造参数字典\n",
    "params3 = {\n",
    "    \"pretrained_model\": pretrained_model,\n",
    "    \"train_loader\": train_loader,\n",
    "    \"valid_loader\": valid_loader,\n",
    "    \"n_epochs\": 20,\n",
    "    \"verbose\": True,\n",
    "    \"plots\": True,\n",
    "}\n",
    "model = train(**params3)"
   ]
  },
  {
   "cell_type": "markdown",
   "id": "f9fee393",
   "metadata": {},
   "source": [
    "### 保存迁移学习后的模型"
   ]
  },
  {
   "cell_type": "code",
   "execution_count": 18,
   "id": "a5117a8e",
   "metadata": {
    "ExecuteTime": {
     "end_time": "2024-01-11T02:40:30.094579Z",
     "start_time": "2024-01-11T02:40:30.083858Z"
    }
   },
   "outputs": [],
   "source": [
    "torch.save(model, \"../models/best_models/transfer_learned_model.pth\")"
   ]
  },
  {
   "cell_type": "markdown",
   "id": "4c737117",
   "metadata": {},
   "source": [
    "### 加载新模型"
   ]
  },
  {
   "cell_type": "code",
   "execution_count": 19,
   "id": "a5b66743",
   "metadata": {
    "ExecuteTime": {
     "end_time": "2024-01-11T02:45:03.873287Z",
     "start_time": "2024-01-11T02:45:03.868524Z"
    }
   },
   "outputs": [],
   "source": [
    "# 定义预训练模型\n",
    "import sys\n",
    "path = '../models' #项目所在文件夹\n",
    "sys.path.insert(0, path)\n",
    "\n",
    "from lstm import LSTM\n",
    "model_path = '../models/best_models/transfer_learned_model.pth'\n",
    "new_model = torch.load(model_path)"
   ]
  },
  {
   "cell_type": "markdown",
   "id": "14c7a8ef",
   "metadata": {},
   "source": [
    "## 模型定义"
   ]
  },
  {
   "cell_type": "markdown",
   "id": "49b1ac32",
   "metadata": {},
   "source": [
    "### 训练预训练模型"
   ]
  },
  {
   "cell_type": "code",
   "execution_count": 30,
   "id": "0d26493a",
   "metadata": {
    "ExecuteTime": {
     "end_time": "2024-01-11T03:49:24.863507Z",
     "start_time": "2024-01-11T03:49:24.852934Z"
    }
   },
   "outputs": [],
   "source": [
    "def train(train_loader, valid_loader, n_epochs, input_dim, out_dim, verbose=True, plots=True):\n",
    "    #LSTM\n",
    "    class LSTM(nn.Module):\n",
    "        def __init__(self, input_dim, out_dim):\n",
    "            super().__init__()\n",
    "            self.lstm = nn.LSTM(input_size=input_dim, hidden_size=32, num_layers=1, batch_first=True)\n",
    "            self.linear = nn.Linear(in_features=32, out_features=out_dim)\n",
    "        def forward(self, x):\n",
    "            x, _ = self.lstm(x)\n",
    "            x = self.linear(x)\n",
    "            return x\n",
    "        \n",
    "    #检查是否可用GPU\n",
    "    device = torch.device(\"cuda\" if torch.cuda.is_available() else \"cpu\")\n",
    "    \n",
    "    #训练模型\n",
    "    model = LSTM(input_dim=input_dim, out_dim=out_dim).to(device)\n",
    "    optimizer = optim.Adam(model.parameters())\n",
    "    loss_fn = nn.MSELoss()\n",
    "\n",
    "    # 损失函数值\n",
    "    train_losses, val_losses = [], []\n",
    "\n",
    "    for epoch in tqdm(range(n_epochs)):\n",
    "        model.train()\n",
    "        total_train_loss = 0\n",
    "        for inputs_batch, targets_batch in train_loader:\n",
    "            #将数据移至 GPU\n",
    "            inputs_batch = inputs_batch.to(device)\n",
    "            targets_batch = targets_batch.to(device)\n",
    "            # 清空梯度\n",
    "            optimizer.zero_grad()\n",
    "            outputs = model(inputs_batch)\n",
    "            outputs = outputs[:,-1, -1:] # 取最后一个值，并将其变为二维\n",
    "            train_loss = loss_fn(outputs, targets_batch)\n",
    "            # 反向传播计算得到每个参数的梯度值\n",
    "            train_loss.backward()\n",
    "            # 通过梯度下降执行一步参数更新\n",
    "            optimizer.step()\n",
    "            #每个batch的loss和\n",
    "            total_train_loss += train_loss.item() # .item()表示只包含一个元素的tensor中提取值\n",
    "                \n",
    "        #每个epoch的损失平均\n",
    "        avg_train_loss = total_train_loss / len(train_loader)\n",
    "        \n",
    "        #所有epoch的loss\n",
    "        train_losses.append(avg_train_loss)\n",
    "        \n",
    "        #评估模型\n",
    "        model.eval()\n",
    "        #关闭自动求导功能，只使用训练好的模型进行预测或评估，不需要进行梯度计算和参数更新\n",
    "        with torch.no_grad():\n",
    "            total_val_loss = 0\n",
    "            for inputs_batch, targets_batch in valid_loader:\n",
    "                #将数据移至 GPU\n",
    "                inputs_batch = inputs_batch.to(device)\n",
    "                targets_batch = targets_batch.to(device)\n",
    "                val_outputs = model(inputs_batch)[:,-1, -1:]\n",
    "                val_loss = loss_fn(val_outputs, targets_batch)\n",
    "                #每个batch的loss和\n",
    "                total_val_loss += val_loss.item()\n",
    "                \n",
    "        #每个epoch的损失平均\n",
    "        avg_val_loss = total_val_loss / len(valid_loader)\n",
    "        \n",
    "        #所有epoch的loss\n",
    "        val_losses.append(avg_val_loss)\n",
    "        \n",
    "        #打印训练过程\n",
    "        if verbose:\n",
    "            print(f'Epoch [{epoch+1}/{n_epochs}], Training Loss: {avg_train_loss:.4f}, Validation Loss: {avg_val_loss:.4f}')\n",
    "\n",
    "    #绘制损失函数图\n",
    "    if plots:\n",
    "        plot_loss(train_losses, val_losses)\n",
    "    return model"
   ]
  },
  {
   "cell_type": "code",
   "execution_count": 32,
   "id": "bed06b4b",
   "metadata": {
    "ExecuteTime": {
     "end_time": "2024-01-11T03:52:47.026508Z",
     "start_time": "2024-01-11T03:52:30.389635Z"
    },
    "scrolled": true
   },
   "outputs": [
    {
     "name": "stderr",
     "output_type": "stream",
     "text": [
      " 10%|████████▎                                                                          | 1/10 [00:01<00:13,  1.54s/it]"
     ]
    },
    {
     "name": "stdout",
     "output_type": "stream",
     "text": [
      "Epoch [1/10], Training Loss: 0.0101, Validation Loss: 0.0091\n"
     ]
    },
    {
     "name": "stderr",
     "output_type": "stream",
     "text": [
      "\r",
      " 20%|████████████████▌                                                                  | 2/10 [00:03<00:12,  1.53s/it]"
     ]
    },
    {
     "name": "stdout",
     "output_type": "stream",
     "text": [
      "Epoch [2/10], Training Loss: 0.0014, Validation Loss: 0.0039\n"
     ]
    },
    {
     "name": "stderr",
     "output_type": "stream",
     "text": [
      "\r",
      " 30%|████████████████████████▉                                                          | 3/10 [00:04<00:10,  1.53s/it]"
     ]
    },
    {
     "name": "stdout",
     "output_type": "stream",
     "text": [
      "Epoch [3/10], Training Loss: 0.0006, Validation Loss: 0.0025\n"
     ]
    },
    {
     "name": "stderr",
     "output_type": "stream",
     "text": [
      "\r",
      " 40%|█████████████████████████████████▏                                                 | 4/10 [00:06<00:09,  1.59s/it]"
     ]
    },
    {
     "name": "stdout",
     "output_type": "stream",
     "text": [
      "Epoch [4/10], Training Loss: 0.0004, Validation Loss: 0.0018\n"
     ]
    },
    {
     "name": "stderr",
     "output_type": "stream",
     "text": [
      "\r",
      " 50%|█████████████████████████████████████████▌                                         | 5/10 [00:07<00:08,  1.62s/it]"
     ]
    },
    {
     "name": "stdout",
     "output_type": "stream",
     "text": [
      "Epoch [5/10], Training Loss: 0.0004, Validation Loss: 0.0017\n"
     ]
    },
    {
     "name": "stderr",
     "output_type": "stream",
     "text": [
      "\r",
      " 60%|█████████████████████████████████████████████████▊                                 | 6/10 [00:09<00:06,  1.65s/it]"
     ]
    },
    {
     "name": "stdout",
     "output_type": "stream",
     "text": [
      "Epoch [6/10], Training Loss: 0.0003, Validation Loss: 0.0013\n"
     ]
    },
    {
     "name": "stderr",
     "output_type": "stream",
     "text": [
      "\r",
      " 70%|██████████████████████████████████████████████████████████                         | 7/10 [00:11<00:05,  1.67s/it]"
     ]
    },
    {
     "name": "stdout",
     "output_type": "stream",
     "text": [
      "Epoch [7/10], Training Loss: 0.0002, Validation Loss: 0.0010\n"
     ]
    },
    {
     "name": "stderr",
     "output_type": "stream",
     "text": [
      "\r",
      " 80%|██████████████████████████████████████████████████████████████████▍                | 8/10 [00:13<00:03,  1.68s/it]"
     ]
    },
    {
     "name": "stdout",
     "output_type": "stream",
     "text": [
      "Epoch [8/10], Training Loss: 0.0002, Validation Loss: 0.0009\n"
     ]
    },
    {
     "name": "stderr",
     "output_type": "stream",
     "text": [
      "\r",
      " 90%|██████████████████████████████████████████████████████████████████████████▋        | 9/10 [00:14<00:01,  1.67s/it]"
     ]
    },
    {
     "name": "stdout",
     "output_type": "stream",
     "text": [
      "Epoch [9/10], Training Loss: 0.0002, Validation Loss: 0.0008\n"
     ]
    },
    {
     "name": "stderr",
     "output_type": "stream",
     "text": [
      "100%|██████████████████████████████████████████████████████████████████████████████████| 10/10 [00:16<00:00,  1.65s/it]"
     ]
    },
    {
     "name": "stdout",
     "output_type": "stream",
     "text": [
      "Epoch [10/10], Training Loss: 0.0002, Validation Loss: 0.0008\n"
     ]
    },
    {
     "name": "stderr",
     "output_type": "stream",
     "text": [
      "\n"
     ]
    },
    {
     "data": {
      "image/png": "[encoded data removed]",
      "text/plain": [
       "<Figure size 1000x500 with 1 Axes>"
      ]
     },
     "metadata": {},
     "output_type": "display_data"
    }
   ],
   "source": [
    "# 构造参数字典\n",
    "params3 = {\n",
    "    \"train_loader\": train_loader,\n",
    "    \"valid_loader\": valid_loader,\n",
    "    \"n_epochs\": 10,\n",
    "    \"input_dim\": 1,\n",
    "    \"out_dim\": 1,\n",
    "    \"verbose\": True,\n",
    "    \"plots\": True,\n",
    "}\n",
    "pretrained_model = train(**params3)"
   ]
  },
  {
   "cell_type": "markdown",
   "id": "2d6af359",
   "metadata": {},
   "source": [
    "### 定义迁移学习模型"
   ]
  },
  {
   "cell_type": "code",
   "execution_count": 36,
   "id": "8e6d3bc5",
   "metadata": {
    "ExecuteTime": {
     "end_time": "2024-01-11T04:01:20.739891Z",
     "start_time": "2024-01-11T04:01:20.726806Z"
    }
   },
   "outputs": [],
   "source": [
    "def train(pretrained_model, train_loader, valid_loader, n_epochs, verbose=True, plots=True):\n",
    "    # 定义迁移学习模型，在原始模型后面添加新的层\n",
    "    class TransferLearningModel(nn.Module):\n",
    "        def __init__(self, pretrained_model, hidden_dim):\n",
    "            super(TransferLearningModel, self).__init__()\n",
    "            self.pretrained_model = pretrained_model\n",
    "            self.activation = nn.ReLU()\n",
    "            self.output_layer1 = nn.Linear(pretrained_model.linear.out_features, hidden_dim)\n",
    "            self.output_layer2 = nn.Linear(hidden_dim, 1)\n",
    "\n",
    "        def forward(self, x):\n",
    "            x = self.pretrained_model(x)\n",
    "            x = self.activation(x)\n",
    "            x = self.output_layer1(x)\n",
    "            x = self.activation(x)\n",
    "            x = self.output_layer2(x)\n",
    "            return x\n",
    "        \n",
    "    #检查是否可用GPU\n",
    "    device = torch.device(\"cuda\" if torch.cuda.is_available() else \"cpu\")\n",
    "    \n",
    "    #训练模型\n",
    "    hidden_dim = 32\n",
    "    model = TransferLearningModel(pretrained_model, hidden_dim).to(device)\n",
    "    optimizer = optim.Adam(model.parameters())\n",
    "    loss_fn = nn.MSELoss()\n",
    "\n",
    "    # 损失函数值\n",
    "    train_losses, val_losses = [], []\n",
    "\n",
    "    for epoch in tqdm(range(n_epochs)):\n",
    "        model.train()\n",
    "        total_train_loss = 0\n",
    "        for inputs_batch, targets_batch in train_loader:\n",
    "            #将数据移至 GPU\n",
    "            inputs_batch = inputs_batch.to(device)\n",
    "            targets_batch = targets_batch.to(device)\n",
    "            # 清空梯度\n",
    "            optimizer.zero_grad()\n",
    "            outputs = model(inputs_batch)\n",
    "            outputs = outputs[:,-1, -1:] # 取最后一个值，并将其变为二维\n",
    "            train_loss = loss_fn(outputs, targets_batch)\n",
    "            # 反向传播计算得到每个参数的梯度值\n",
    "            train_loss.backward()\n",
    "            # 通过梯度下降执行一步参数更新\n",
    "            optimizer.step()\n",
    "            #每个batch的loss和\n",
    "            total_train_loss += train_loss.item() # .item()表示只包含一个元素的tensor中提取值\n",
    "                \n",
    "        #每个epoch的损失平均\n",
    "        avg_train_loss = total_train_loss / len(train_loader)\n",
    "        \n",
    "        #所有epoch的loss\n",
    "        train_losses.append(avg_train_loss)\n",
    "        \n",
    "        #评估模型\n",
    "        model.eval()\n",
    "        #关闭自动求导功能，只使用训练好的模型进行预测或评估，不需要进行梯度计算和参数更新\n",
    "        with torch.no_grad():\n",
    "            total_val_loss = 0\n",
    "            for inputs_batch, targets_batch in valid_loader:\n",
    "                #将数据移至 GPU\n",
    "                inputs_batch = inputs_batch.to(device)\n",
    "                targets_batch = targets_batch.to(device)\n",
    "                val_outputs = model(inputs_batch)[:,-1, -1:]\n",
    "                val_loss = loss_fn(val_outputs, targets_batch)\n",
    "                #每个batch的loss和\n",
    "                total_val_loss += val_loss.item()\n",
    "                \n",
    "        #每个epoch的损失平均\n",
    "        avg_val_loss = total_val_loss / len(valid_loader)\n",
    "        \n",
    "        #所有epoch的loss\n",
    "        val_losses.append(avg_val_loss)\n",
    "        \n",
    "        #打印训练过程\n",
    "        if verbose:\n",
    "            print(f'Epoch [{epoch+1}/{n_epochs}], Training Loss: {avg_train_loss:.4f}, Validation Loss: {avg_val_loss:.4f}')\n",
    "\n",
    "    #绘制损失函数图\n",
    "    if plots:\n",
    "        plot_loss(train_losses, val_losses)\n",
    "    return model"
   ]
  },
  {
   "cell_type": "code",
   "execution_count": 37,
   "id": "f0be9388",
   "metadata": {
    "ExecuteTime": {
     "end_time": "2024-01-11T04:01:43.779558Z",
     "start_time": "2024-01-11T04:01:21.655844Z"
    },
    "scrolled": true
   },
   "outputs": [
    {
     "name": "stderr",
     "output_type": "stream",
     "text": [
      " 10%|████████▎                                                                          | 1/10 [00:01<00:17,  1.99s/it]"
     ]
    },
    {
     "name": "stdout",
     "output_type": "stream",
     "text": [
      "Epoch [1/10], Training Loss: 0.0012, Validation Loss: 0.0008\n"
     ]
    },
    {
     "name": "stderr",
     "output_type": "stream",
     "text": [
      "\r",
      " 20%|████████████████▌                                                                  | 2/10 [00:03<00:15,  1.98s/it]"
     ]
    },
    {
     "name": "stdout",
     "output_type": "stream",
     "text": [
      "Epoch [2/10], Training Loss: 0.0002, Validation Loss: 0.0007\n"
     ]
    },
    {
     "name": "stderr",
     "output_type": "stream",
     "text": [
      "\r",
      " 30%|████████████████████████▉                                                          | 3/10 [00:06<00:14,  2.05s/it]"
     ]
    },
    {
     "name": "stdout",
     "output_type": "stream",
     "text": [
      "Epoch [3/10], Training Loss: 0.0002, Validation Loss: 0.0007\n"
     ]
    },
    {
     "name": "stderr",
     "output_type": "stream",
     "text": [
      "\r",
      " 40%|█████████████████████████████████▏                                                 | 4/10 [00:08<00:12,  2.15s/it]"
     ]
    },
    {
     "name": "stdout",
     "output_type": "stream",
     "text": [
      "Epoch [4/10], Training Loss: 0.0002, Validation Loss: 0.0007\n"
     ]
    },
    {
     "name": "stderr",
     "output_type": "stream",
     "text": [
      "\r",
      " 50%|█████████████████████████████████████████▌                                         | 5/10 [00:10<00:11,  2.21s/it]"
     ]
    },
    {
     "name": "stdout",
     "output_type": "stream",
     "text": [
      "Epoch [5/10], Training Loss: 0.0002, Validation Loss: 0.0007\n"
     ]
    },
    {
     "name": "stderr",
     "output_type": "stream",
     "text": [
      "\r",
      " 60%|█████████████████████████████████████████████████▊                                 | 6/10 [00:12<00:08,  2.22s/it]"
     ]
    },
    {
     "name": "stdout",
     "output_type": "stream",
     "text": [
      "Epoch [6/10], Training Loss: 0.0002, Validation Loss: 0.0007\n"
     ]
    },
    {
     "name": "stderr",
     "output_type": "stream",
     "text": [
      "\r",
      " 70%|██████████████████████████████████████████████████████████                         | 7/10 [00:15<00:06,  2.22s/it]"
     ]
    },
    {
     "name": "stdout",
     "output_type": "stream",
     "text": [
      "Epoch [7/10], Training Loss: 0.0002, Validation Loss: 0.0007\n"
     ]
    },
    {
     "name": "stderr",
     "output_type": "stream",
     "text": [
      "\r",
      " 80%|██████████████████████████████████████████████████████████████████▍                | 8/10 [00:17<00:04,  2.22s/it]"
     ]
    },
    {
     "name": "stdout",
     "output_type": "stream",
     "text": [
      "Epoch [8/10], Training Loss: 0.0002, Validation Loss: 0.0007\n"
     ]
    },
    {
     "name": "stderr",
     "output_type": "stream",
     "text": [
      "\r",
      " 90%|██████████████████████████████████████████████████████████████████████████▋        | 9/10 [00:19<00:02,  2.24s/it]"
     ]
    },
    {
     "name": "stdout",
     "output_type": "stream",
     "text": [
      "Epoch [9/10], Training Loss: 0.0002, Validation Loss: 0.0007\n"
     ]
    },
    {
     "name": "stderr",
     "output_type": "stream",
     "text": [
      "100%|██████████████████████████████████████████████████████████████████████████████████| 10/10 [00:21<00:00,  2.19s/it]"
     ]
    },
    {
     "name": "stdout",
     "output_type": "stream",
     "text": [
      "Epoch [10/10], Training Loss: 0.0002, Validation Loss: 0.0008\n"
     ]
    },
    {
     "name": "stderr",
     "output_type": "stream",
     "text": [
      "\n"
     ]
    },
    {
     "data": {
      "image/png": "[encoded data removed]",
      "text/plain": [
       "<Figure size 1000x500 with 1 Axes>"
      ]
     },
     "metadata": {},
     "output_type": "display_data"
    }
   ],
   "source": [
    "# 构造参数字典\n",
    "params3 = {\n",
    "    \"pretrained_model\": pretrained_model,\n",
    "    \"train_loader\": train_loader,\n",
    "    \"valid_loader\": valid_loader,\n",
    "    \"n_epochs\": 10,\n",
    "    \"verbose\": True,\n",
    "    \"plots\": True,\n",
    "}\n",
    "model = train(**params3)"
   ]
  },
  {
   "cell_type": "markdown",
   "id": "aafdcda1",
   "metadata": {},
   "source": [
    "## 模型预测"
   ]
  },
  {
   "cell_type": "code",
   "execution_count": 38,
   "id": "c27237b4",
   "metadata": {
    "ExecuteTime": {
     "end_time": "2024-01-11T04:02:04.332994Z",
     "start_time": "2024-01-11T04:02:04.322209Z"
    }
   },
   "outputs": [],
   "source": [
    "def predict(model, X_train, X_valid, X_test, y_true, lookback, delay, scaler):\n",
    "    lookback = lookback - 1 #包含当前时间点\n",
    "    #数据集长度\n",
    "    train_size = len(X_train) + lookback + delay\n",
    "    valid_size = len(X_valid) + lookback + delay\n",
    "    test_size = len(X_test) + lookback + delay\n",
    "    \n",
    "    #时间序列形状\n",
    "    timeseries_y = y_true.values\n",
    "    timeseries_x = y_true.index\n",
    "    \n",
    "    #检查是否可用GPU\n",
    "    device = torch.device(\"cuda\" if torch.cuda.is_available() else \"cpu\")\n",
    "    \n",
    "    #关闭自动求导功能\n",
    "    with torch.no_grad():\n",
    "        '''测试集设置'''\n",
    "        X_train = X_train.to(device) #将数据应用到GPU\n",
    "        y_pred = model(X_train)\n",
    "        y_pred = y_pred\n",
    "        y_pred = y_pred.cpu().detach().numpy() # 首先将张量移动到CPU，然后从计算图中分离，最后转换为NumPy数组\n",
    "        y_pred = scaler.inverse_transform(y_pred) #反归一化\n",
    "        train_plot_y = [np.nan]*(lookback+1) + list(y_pred.reshape(-1, ))+ [np.nan]*(delay-1)\n",
    "        train_plot_x = timeseries_x[: train_size]\n",
    "        '''验证集设置'''\n",
    "        X_valid = X_valid.to(device)\n",
    "        y_pred = model(X_valid)\n",
    "        y_pred = y_pred\n",
    "        y_pred = y_pred.cpu().detach().numpy()\n",
    "        y_pred = scaler.inverse_transform(y_pred)\n",
    "        valid_plot_y = [np.nan]*(lookback+1) + list(y_pred.reshape(-1, ))+ [np.nan]*(delay-1)\n",
    "        valid_plot_x = timeseries_x[train_size: train_size+valid_size]\n",
    "        '''测试集设置'''\n",
    "        X_test = X_test.to(device)\n",
    "        y_pred = model(X_test)\n",
    "        y_pred = y_pred\n",
    "        y_pred = y_pred.cpu().detach().numpy()\n",
    "        y_pred = scaler.inverse_transform(y_pred)\n",
    "        test_plot_y = [np.nan]*(lookback+1) + list(y_pred.reshape(-1, )) + [np.nan]*(delay-1)\n",
    "        test_plot_x = timeseries_x[train_size+valid_size: train_size+valid_size+test_size]\n",
    "    return timeseries_x, timeseries_y, train_plot_x, train_plot_y, valid_plot_x, valid_plot_y, test_plot_x, test_plot_y"
   ]
  },
  {
   "cell_type": "code",
   "execution_count": 39,
   "id": "72800aec",
   "metadata": {
    "ExecuteTime": {
     "end_time": "2024-01-11T04:02:05.048860Z",
     "start_time": "2024-01-11T04:02:05.010769Z"
    }
   },
   "outputs": [],
   "source": [
    "# 构造参数字典\n",
    "params4 = {\n",
    "    \"model\": new_model,\n",
    "    \"X_train\": X_train,\n",
    "    \"X_valid\": X_valid,\n",
    "    \"X_test\": X_test,\n",
    "    \"y_true\": ts_data[['temp']],\n",
    "    \"lookback\": 6,\n",
    "    \"delay\": 1,\n",
    "    \"scaler\": scaler,\n",
    "}\n",
    "timeseries_x, timeseries_y, train_plot_x, train_plot_y, valid_plot_x, valid_plot_y, test_plot_x, test_plot_y = predict(\n",
    "    **params4)"
   ]
  },
  {
   "cell_type": "markdown",
   "id": "af06697f",
   "metadata": {},
   "source": [
    "## 结果分析"
   ]
  },
  {
   "cell_type": "code",
   "execution_count": 40,
   "id": "596db309",
   "metadata": {
    "ExecuteTime": {
     "end_time": "2024-01-11T04:02:06.841177Z",
     "start_time": "2024-01-11T04:02:06.834785Z"
    }
   },
   "outputs": [],
   "source": [
    "# 局部静态图\n",
    "def static_part_timeseries(timeseries_x, timeseries_y, test_plot_x, test_plot_y):\n",
    "    timeseries_x = timeseries_x[timeseries_x >= test_plot_x[0]]\n",
    "    timeseries_y = timeseries_y[timeseries_y.shape[0] - len(test_plot_x):,:]\n",
    "    #绘图，原始图，训练图，验证图，测试图\n",
    "    fig = plt.figure(1, (10, 5))\n",
    "    ax = fig.add_subplot(1,1,1)\n",
    "    plt.style.use('seaborn-v0_8-paper') #绘制背景色\n",
    "    plt.grid(axis = 'y',linewidth=0.35) #绘制网格\n",
    "    plt.title('true-predict-curve ') #图标题\n",
    "    plt.xticks(rotation = 45) #rotation文字旋转方向\n",
    "    ax.plot(timeseries_x, timeseries_y, linestyle='-',label = 'true_curve')\n",
    "    ax.plot(test_plot_x, test_plot_y, linestyle='--',label = 'predict_curve')\n",
    "    ax.legend(frameon=False) #绘制图例\n",
    "    plt.xlabel('Time')\n",
    "    plt.ylabel('Values')\n",
    "    plt.show()"
   ]
  },
  {
   "cell_type": "code",
   "execution_count": 41,
   "id": "9f143624",
   "metadata": {
    "ExecuteTime": {
     "end_time": "2024-01-11T04:02:07.758782Z",
     "start_time": "2024-01-11T04:02:07.533753Z"
    }
   },
   "outputs": [
    {
     "data": {
      "image/png": "[encoded data removed]",
      "text/plain": [
       "<Figure size 1000x500 with 1 Axes>"
      ]
     },
     "metadata": {},
     "output_type": "display_data"
    }
   ],
   "source": [
    "# 局部静态图\n",
    "params5 = {\n",
    "    \"timeseries_x\": timeseries_x,\n",
    "    \"timeseries_y\": timeseries_y,\n",
    "    \"test_plot_x\": test_plot_x,\n",
    "    \"test_plot_y\": test_plot_y,\n",
    "}\n",
    "static_part_timeseries(**params5)"
   ]
  },
  {
   "cell_type": "code",
   "execution_count": null,
   "id": "ffec9e8b",
   "metadata": {},
   "outputs": [],
   "source": []
  }
 ],
 "metadata": {
  "hide_input": false,
  "kernelspec": {
   "display_name": "Python 3 (ipykernel)",
   "language": "python",
   "name": "python3"
  },
  "language_info": {
   "codemirror_mode": {
    "name": "ipython",
    "version": 3
   },
   "file_extension": ".py",
   "mimetype": "text/x-python",
   "name": "python",
   "nbconvert_exporter": "python",
   "pygments_lexer": "ipython3",
   "version": "3.11.5"
  },
  "toc": {
   "base_numbering": 1,
   "nav_menu": {},
   "number_sections": true,
   "sideBar": true,
   "skip_h1_title": false,
   "title_cell": "Table of Contents",
   "title_sidebar": "Contents",
   "toc_cell": false,
   "toc_position": {
    "height": "calc(100% - 180px)",
    "left": "10px",
    "top": "150px",
    "width": "230.667px"
   },
   "toc_section_display": true,
   "toc_window_display": true
  },
  "varInspector": {
   "cols": {
    "lenName": 16,
    "lenType": 16,
    "lenVar": 40
   },
   "kernels_config": {
    "python": {
     "delete_cmd_postfix": "",
     "delete_cmd_prefix": "del ",
     "library": "var_list.py",
     "varRefreshCmd": "print(var_dic_list())"
    },
    "r": {
     "delete_cmd_postfix": ") ",
     "delete_cmd_prefix": "rm(",
     "library": "var_list.r",
     "varRefreshCmd": "cat(var_dic_list()) "
    }
   },
   "types_to_exclude": [
    "module",
    "function",
    "builtin_function_or_method",
    "instance",
    "_Feature"
   ],
   "window_display": false
  }
 },
 "nbformat": 4,
 "nbformat_minor": 5
}
