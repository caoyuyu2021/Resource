{
 "cells": [
  {
   "cell_type": "markdown",
   "id": "4b2a517d",
   "metadata": {},
   "source": [
    "# 时间序列概述"
   ]
  },
  {
   "cell_type": "markdown",
   "id": "ed6660ab",
   "metadata": {},
   "source": [
    "本代码来自弗朗西斯卡所著《时间序列预测-基于机器学习和python实现》"
   ]
  },
  {
   "cell_type": "markdown",
   "id": "b7d54e50",
   "metadata": {},
   "source": [
    "## 时间序列的特性"
   ]
  },
  {
   "cell_type": "markdown",
   "id": "ae9331da",
   "metadata": {},
   "source": [
    "时间序列通常包含与事件相关的特定信息和特征：\n",
    "- **趋势**：此特征描述了长时间（而非季节性或周期性）的时间序列相对于较高或较低值的可见变化。\n",
    "* **季节性**：此特征描述了**固定时间段内**时间序列中的重复性和持久性模式。\n",
    "- **周期性**：此特征描述了时间序列数据中向上和向下变化的重复性和持续性模式，但**没有显示固定**的模式。\n",
    "* **噪声**：此特征描述了时间序列中数据的不规则值，因为没有重复性和持久性的模式。"
   ]
  },
  {
   "cell_type": "markdown",
   "id": "2567cbf3",
   "metadata": {},
   "source": [
    "### 趋势性"
   ]
  },
  {
   "cell_type": "markdown",
   "id": "b5dc23db",
   "metadata": {},
   "source": [
    "时间序列分析主要有三个组成部分：**长期运动或趋势**、**短期运动**（季节性短期运动、周期性短期运动）和**随机或不规则波动**。\n",
    "- 长期运动或趋势是指时间序列在一个较长的时间间隔内整体增加或减少的运动。\n",
    "* 短期运动：\n",
    "  - 季节性变化是显示相同变化的周期性时间波动，通常在不到一年的时间内重复出现。季节性总是有固定且已知的时期。如节日、天气和气候条件等。\n",
    "  - 周期性变化是一种周期性的模式，存在于数据显示上升和下降时，而不是固定的时期。一个完整的时期是一个周期，但一个周期不会有特定的预定时间长度，即使这些时间波动的持续时间通常超过一年。如商业周期等。\n",
    "- 随机或不规则波动是最后一个引起时间学列数据变化的因素。这些波动是不可控制的、不可预测的、不稳定的。如地震、战争等。\n",
    "\n",
    "一边情况下，将**长期运动或趋势**、**短期运动**（季节性短期运动、周期性短期运动）作为时间序列数据中的信号，**随机或不规则波动**作为噪声。"
   ]
  },
  {
   "cell_type": "markdown",
   "id": "2cf85a7b",
   "metadata": {},
   "source": [
    "### 平稳性"
   ]
  },
  {
   "cell_type": "markdown",
   "id": "2ab2f37e",
   "metadata": {},
   "source": [
    "**平稳性**：平稳性是指时间序列的统计参数不会随时间变化。即均值和方差，不随时间变化。\n",
    "- 强平稳：时间序列的所有统计参数不随时间变化。\n",
    "* 弱平稳：时间序列的均值和自协方差函数不随时间变化。"
   ]
  },
  {
   "cell_type": "markdown",
   "id": "2bf14a5e",
   "metadata": {},
   "source": [
    "## 时间序列的相关内容"
   ]
  },
  {
   "cell_type": "markdown",
   "id": "c2e74595",
   "metadata": {},
   "source": [
    "1、 预测模型的输入和输出。  \n",
    "  \n",
    "2、 预测模型的粒度级别：时间序列预测的粒度表示为每个时间戳捕获的值的最低详细级别。粒度与收集时间序列值的频率有关。有时，**聚合时间序列数据**可以是构建和优化时间序列模型的重要步骤：时间聚合是指特定时期内单个资源的所有数据点的组合（每天、每周或每月等），通过聚合，可以将每个粒度期间收集的数据点聚合为单个统计值，例如收集的所有数据点的平均值或总和。\n",
    "\n",
    "3、 预测模型的范围：预测模型的范围是指未来预测所需要的时间长度。\n",
    "\n",
    "4、 预测模型的内源性和外源性特征。\n",
    "\n",
    "5、 预测模型的结构化或非结构化特征：结构化数据包含明确定义的数据类型。非结构化数据包含不易搜索的数据，包括音频、视频等格式。\n",
    "\n",
    "6、 预测模型的单变量或多变量性质：**单变量时间序列**指的是由单个观测结果在相同的时间增量上顺序记录而成的序列。**多变量（多元）时间序列模型**是单变量模型的拓展，涉及两个或多个输入变量，不仅包括自身过去的信息，而且还包括其他变量的过去信息。\n",
    "\n",
    "7、 预测模型的单步或多步结构：时间序列预测描述了下一个时间步的预测值。由于仅预测一个时间步，因此被称为单步预测。与单步预测相对的是多步时间序列预测问题，其目标是预测时间序列中的一系列值。\n",
    "\n",
    "* **直接多步预测**：直接方法需要为每个预测时间戳创建一个单独的模型。例如，在预测接下来两个小时的能源消耗的情况下，我们需要开发一个模型来预测第一个小时的能源消耗，在开发一个模型来预测第二个小时的能源消耗。\n",
    "  \n",
    "- **递归多步预测**：递归地处理多步预测，其中创建单个时间序列模型来预测下一个时间戳，然后使用之前的预测来计算之后的预测。例如，在预测未来两个小时的能源消耗的情况下，我们需要开发一个单步预测模型。然后将该模型用于预测下一个小时的能源消耗，之后将该预测作为输入，以预测第二个小时的能源消耗。\n",
    "  \n",
    "+ **直接递归混合多步预测**：混合以上两种。\n",
    "  \n",
    "- **多输出预测**：多输出策略要求开发一个能够预测整个预测序列的模型。例如，在预测未来两个小时的能源消耗的情况下，只开发一个模型，并应用到一次计算中即可预测未来两小时的能源消耗结果。\n",
    "  \n",
    "8、 预测模型的连续或非连续时间序列值：彼此之间呈现一致的时间间隔的时间序列被定义为**连续的**。时间间隔不一致的时间序列可以被定义为**不连续的**：很多时候，不连续时间序列背后的原因通常是含有缺失值或损坏值。造成缺失的原因如下：\n",
    "- **随机缺失**：随机缺失意味着数据点缺失的倾向与缺失的数据无关，而是与某些观测到的数据有关。\n",
    "* **完全随机缺失**：某个值的缺失的事实与其假设值和其他变量的值没有关系。\n",
    "- **非随机缺失**：两个可能原因：缺失值取决于假设值，缺失值取决于其他变量的值。\n",
    "   \n",
    "前两种情况下，根据出现的情况删除含有缺失值的数据是安全的，而在第三种情况下，删除含有缺失值的观测值可能会在模型中产生偏差。\n",
    "- **列表删除**：列表删除会删除具有一个或多个缺失值的所有观测数据。特别是如果缺失的数据仅限于少量的观测。\n",
    "* **成对删除**：会分析所有存在目标变量的情况，最大限度地利用所有数据的分析基础。\n",
    "- **列删除**：如果60%以上的观测数据缺失，可以删除变量，但只有当变量不重要时才可以。\n",
    "   \n",
    " 9、时间序列插补技术，有以下几种方式：\n",
    "- **线性插值**：这种方法适用于具有一定趋势的时间序列，但不适用于季节性数据。\n",
    "* **季节调整和线性插值**：这种方法适用于具有趋势和季节性的数据。\n",
    "- **均值、中位数和众数**：缺点是均值插补会降低数据集的方差。"
   ]
  },
  {
   "cell_type": "markdown",
   "id": "88bf5585",
   "metadata": {},
   "source": [
    "![hellworld](../images/缺失值解决方案.png)"
   ]
  },
  {
   "cell_type": "markdown",
   "id": "3a51b025",
   "metadata": {},
   "source": [
    "## 时间序列的监督学习"
   ]
  },
  {
   "cell_type": "markdown",
   "id": "440f6e22",
   "metadata": {},
   "source": [
    "时间序列数据可以表示为监督学习问题：利用先前的时间步作为输入，然后利用下一个时间步作为模型的输出，将其时间序列数据集转换为监督学习问题。"
   ]
  },
  {
   "cell_type": "markdown",
   "id": "c0869d4b",
   "metadata": {},
   "source": [
    "如何将任何时间序列数据集转换为监督学习问题？通常利用先前时间步值来预测后续时间步值，这种方法被称为**滑动窗口法**。"
   ]
  },
  {
   "cell_type": "markdown",
   "id": "30ce82e6",
   "metadata": {},
   "source": [
    "时间序列预测通常有两种方式：单步预测和多步预测。\n",
    "- 单步预测：预测当前时间步t的下一个时间步t+1。\n",
    "- 多步预测：预测当前时间步t的下两个或更多个的时间步t+1,t+2,..."
   ]
  },
  {
   "cell_type": "markdown",
   "id": "cd532329",
   "metadata": {},
   "source": [
    "### 单步预测"
   ]
  },
  {
   "cell_type": "markdown",
   "id": "6a4bf324",
   "metadata": {},
   "source": [
    "#### 单变量单步预测"
   ]
  },
  {
   "cell_type": "markdown",
   "id": "b7364fb4",
   "metadata": {},
   "source": [
    "![单变量时间序列预测](../images/p1.jpg)\n",
    "<center style=\"font-size:14px;color:#C0C0C0;text-decoration:underline\">图1.单变量时间序列预测</center> "
   ]
  },
  {
   "cell_type": "markdown",
   "id": "c3997524",
   "metadata": {},
   "source": [
    "使用时第一行删除。"
   ]
  },
  {
   "cell_type": "markdown",
   "id": "b17fcd46",
   "metadata": {},
   "source": [
    "#### 多变量单步预测"
   ]
  },
  {
   "cell_type": "markdown",
   "id": "869e48ac",
   "metadata": {},
   "source": [
    "![单变量时间序列预测](../images/p2.jpg)\n",
    "<center style=\"font-size:14px;color:#C0C0C0;text-decoration:underline\">图2.多变量时间序列预测</center> "
   ]
  },
  {
   "cell_type": "markdown",
   "id": "09f45cac",
   "metadata": {},
   "source": [
    "使用时第一行删除。"
   ]
  },
  {
   "cell_type": "markdown",
   "id": "268b5578",
   "metadata": {},
   "source": [
    "### 多步预测"
   ]
  },
  {
   "cell_type": "markdown",
   "id": "1d299221",
   "metadata": {},
   "source": [
    "#### 单变量多步预测"
   ]
  },
  {
   "cell_type": "markdown",
   "id": "142e9773",
   "metadata": {},
   "source": [
    "![单变量时间序列预测](../images/p3.jpg)\n",
    "<center style=\"font-size:14px;color:#C0C0C0;text-decoration:underline\">图3.单变量时间序列多步预测</center> "
   ]
  },
  {
   "cell_type": "markdown",
   "id": "4790cb7c",
   "metadata": {},
   "source": [
    "使用时第一行和倒数第二行删除。"
   ]
  },
  {
   "cell_type": "markdown",
   "id": "10d6bc60",
   "metadata": {},
   "source": [
    "#### 多变量多步预测"
   ]
  },
  {
   "cell_type": "markdown",
   "id": "fd659098",
   "metadata": {},
   "source": []
  },
  {
   "cell_type": "markdown",
   "id": "2341189b",
   "metadata": {},
   "source": [
    "## 基于Python的时间序列预测"
   ]
  },
  {
   "cell_type": "code",
   "execution_count": 3,
   "id": "2f7ddb72",
   "metadata": {
    "ExecuteTime": {
     "end_time": "2023-11-26T09:51:28.123717Z",
     "start_time": "2023-11-26T09:51:28.107051Z"
    }
   },
   "outputs": [],
   "source": [
    "import scipy\n",
    "import numpy as np\n",
    "import pandas as pd\n",
    "import statsmodels\n",
    "import matplotlib.pyplot as plt\n",
    "import datetime as dt"
   ]
  },
  {
   "cell_type": "markdown",
   "id": "afb46ddf",
   "metadata": {},
   "source": [
    "# 时间序列预测解决方案"
   ]
  },
  {
   "cell_type": "markdown",
   "id": "f00a05ef",
   "metadata": {},
   "source": [
    "## 时间序列预测模板"
   ]
  },
  {
   "cell_type": "markdown",
   "id": "d1e3949c",
   "metadata": {},
   "source": [
    "![hello](../images/p4.jpg)\n",
    "<center style=\"font-size:14px;color:#C0C0C0;text-decoration:underline\">图4.时间序列预测模板</center> "
   ]
  },
  {
   "cell_type": "markdown",
   "id": "6f2e1ffa",
   "metadata": {},
   "source": [
    "### 业务理解和性能度量"
   ]
  },
  {
   "cell_type": "markdown",
   "id": "1dd94a45",
   "metadata": {},
   "source": [
    "1、决定衡量什么：比如预测性维护，需要首先考虑是否有足够的历史故障数据。\n",
    "\n",
    "2、决定如何衡量：中心目标是识别预测分析需要预测的关键业务变量。\n",
    "\n",
    "3、定义成功变量：将业务问题转化为数据科学问题并定义项目成功的度量标准。"
   ]
  },
  {
   "cell_type": "markdown",
   "id": "8de16a43",
   "metadata": {},
   "source": [
    "### 数据摄取"
   ]
  },
  {
   "cell_type": "markdown",
   "id": "1910a93f",
   "metadata": {},
   "source": [
    "数据摄取有三种不同的方法：批处理、实时处理和流处理。\n",
    "- 批处理：一种常见的大数据场景是对静止数据进行批处理。\n",
    "- 实时处理：实时处理方法处理实时捕获并以最小延迟处理的数据流，以生成实时（或接近实时）报告或自动响应。指不需要进行复杂分析的实时数据处理方式。\n",
    "- 流处理：使用流数据，并立即处理传入的数据流。指需要进行复杂分析的实时数据处理方式，包括过滤、聚合等。"
   ]
  },
  {
   "cell_type": "markdown",
   "id": "da8909ec",
   "metadata": {},
   "source": [
    "![hello](../images/p5.jpg)"
   ]
  },
  {
   "cell_type": "markdown",
   "id": "74d0d661",
   "metadata": {},
   "source": [
    "![hello](../images/p6.jpg)"
   ]
  },
  {
   "cell_type": "markdown",
   "id": "8a49d4fe",
   "metadata": {},
   "source": [
    "### 数据探索与理解"
   ]
  },
  {
   "cell_type": "markdown",
   "id": "98afc753",
   "metadata": {},
   "source": [
    "以下是关于原始数据质量的几个考虑因素：\n",
    "- 缺失值：在任何给定的时间段内，缺失值率不应大于10%，在缺少单个值的情况下，应该使用预定义的值（例如'9999'）而不是'0'，'0'可能是一个有效的度量。\n",
    "* 测量准确率：应准确记录消耗值或温度的实际值。通常，测量误差相对于真实值应小于1%。\n",
    "- 测量时间：要求所收集数据的实际时间戳相对于实际测量的真实时间不会偏差超过10秒。\n",
    "* 同步：当使用多个数据源时，应保持数据的时间戳的差不超过10秒。\n",
    "- 延迟：实际测量时间与加载时间之间的时间差。"
   ]
  },
  {
   "cell_type": "markdown",
   "id": "16cab31f",
   "metadata": {},
   "source": [
    "### 数据预处理和特征工程"
   ]
  },
  {
   "cell_type": "markdown",
   "id": "c61e8420",
   "metadata": {},
   "source": [
    "特征可以是基于数据集的两种主要类型：\n",
    "\n",
    "1、**固有的原始特征**\n",
    "\n",
    "2、**衍生特征**\n",
    "- 时间驱动特征：这些特征来源于日期/时间戳数据，它们提取并转化为如下的分类特征：\n",
    "  - 一天中的时间：一天中的小时，取值范围从0到23。\n",
    "  - 星期：取值范围从1到7。\n",
    "  - 日期：可以取1到31的值。\n",
    "  - 月份：取值范围从1到12。\n",
    "  - 周末：工作日取0， 周末取1。\n",
    "  - 假日：0表示普通的一天，1表示假日。\n",
    "  - 傅里叶项：傅里叶项是从时间戳中推导出的权值，用于捕获数据中的季节性（周期）。\n",
    "- 独立的测量特征\n",
    "  - 滞后特征：这些是实际值的时移值。滞后1特征将保持相对于当前时间戳的前一小时的需求值。\n",
    "  - 长期趋势：这一特征代表了需求在年份之间的线性增长。\n",
    "- 依赖特征：也称为标签"
   ]
  },
  {
   "cell_type": "markdown",
   "id": "fcdfcf69",
   "metadata": {},
   "source": [
    "### 模型构建和选择"
   ]
  },
  {
   "cell_type": "markdown",
   "id": "280a004c",
   "metadata": {},
   "source": [
    "训练集：拟合机器学习模型。\n",
    "\n",
    "验证集：用于在模型调整超参数时，为模型在训练集上的拟合提供无偏评估。\n",
    "\n",
    "测试集：确定模型是否过拟合或欠拟合。"
   ]
  },
  {
   "cell_type": "markdown",
   "id": "c48b5ae4",
   "metadata": {},
   "source": [
    "## 需求预测建模技术概述"
   ]
  },
  {
   "cell_type": "markdown",
   "id": "63343172",
   "metadata": {},
   "source": [
    "我们通常把包含时间维度的数据称为时间序列。时间序列建模的目标是找到与时间相关的趋势、季节性和自相关性，并建立模型。"
   ]
  },
  {
   "cell_type": "markdown",
   "id": "93174f70",
   "metadata": {},
   "source": [
    "### 常用建模技术"
   ]
  },
  {
   "cell_type": "markdown",
   "id": "4371455a",
   "metadata": {},
   "source": [
    "**移动平均（MA）**：通过对最近的K个点求平均来预测下一个数据点，其中K表示移动平均的次数。移动平均具有平滑预测的效果，因此可能不能很好的处理数据中的大波动。\n",
    "\n",
    "**指数平滑**：通过使用最近数据点的加权平均来预测下一个数据点。具体做法是，为最近的值分配更高的权重，并逐渐降低旧的测量值的权重。可以用来处理数据的季节性。\n",
    "\n",
    "**自回归**：自回归方法使用回归模型，通过之前的时间序列值来计算下一个日期点。\n",
    "\n",
    "**差分自回归移动平均（ARIMA）**：结合了自回归方法和移动平均。\n",
    "\n",
    "**一般多元回归**：包括非常简单的回归模型（线性回归）和更高级的回归模型（决策树、随机森林、神经网络等）。神经网络主要有三个内在能力：\n",
    "- 可以从输入到输出的任意映射中学习。\n",
    "- 支持多种输入和输出。\n",
    "- 可以自动提取跨越长序列的输入数据中的模式。"
   ]
  },
  {
   "cell_type": "markdown",
   "id": "ec747a95",
   "metadata": {},
   "source": [
    "### 模型评估"
   ]
  },
  {
   "cell_type": "markdown",
   "id": "d72ed2da",
   "metadata": {},
   "source": [
    "#### MAPE"
   ]
  },
  {
   "cell_type": "markdown",
   "id": "b1836b37",
   "metadata": {},
   "source": [
    "有一种与时间序列相关的、特定于需求预测的评估技术：**MAPE**。MAPE代表平均绝对百分比误差。MAPE使用的数学公式如下：\n",
    "$$MAPE=(\\frac{1}{n}\\sum_{i=1}^{n}|\\frac{实际值-预测值}{实际值}|)×100\\%$$\n",
    "当实际值为0时，MAPE没有意义，当实际值不是0，而是非常小的时候，MAPE经常出现极值，这种尺度敏感性使得MAPE作为低容量数据的误差方法几乎毫无价值。"
   ]
  },
  {
   "cell_type": "markdown",
   "id": "279bd92e",
   "metadata": {},
   "source": [
    "#### MAD"
   ]
  },
  {
   "cell_type": "markdown",
   "id": "ee53f3fe",
   "metadata": {},
   "source": [
    "平均绝对偏差：\n",
    "$$MAD=(\\frac{1}{n}\\sum_{i=1}^{n}|实际值-预测值|)×100\\%$$"
   ]
  },
  {
   "cell_type": "markdown",
   "id": "194969fd",
   "metadata": {},
   "source": [
    "#### MAD/平均比"
   ]
  },
  {
   "cell_type": "markdown",
   "id": "418ce28c",
   "metadata": {},
   "source": [
    "可以用来处理间歇和低容量数据。"
   ]
  },
  {
   "cell_type": "markdown",
   "id": "71da86e1",
   "metadata": {},
   "source": [
    "#### GMRAE"
   ]
  },
  {
   "cell_type": "markdown",
   "id": "98b203f0",
   "metadata": {},
   "source": [
    "几何平均相对绝对误差"
   ]
  },
  {
   "cell_type": "markdown",
   "id": "9a6fd830",
   "metadata": {},
   "source": [
    "#### SMAPE"
   ]
  },
  {
   "cell_type": "markdown",
   "id": "0c527c85",
   "metadata": {},
   "source": [
    "对称平均绝对百分比误差"
   ]
  },
  {
   "cell_type": "markdown",
   "id": "f17c055b",
   "metadata": {},
   "source": [
    "## 需求预测实例"
   ]
  },
  {
   "cell_type": "markdown",
   "id": "a1f2cad2",
   "metadata": {},
   "source": [
    "在能源部门，需求预测可以通过多种方式帮助解决关键的业务问题。在能源需求的背景下，短期负荷预测（STLF）被定义为在不久的将来对电网的各个部分（或整个电网）进行总负荷预测。长期负荷预测（LTLF）的目标是在一个时间段内预测电力需求，范围从一周到几个月（或者几年）。"
   ]
  },
  {
   "cell_type": "markdown",
   "id": "36351d13",
   "metadata": {},
   "source": [
    "![hello](../images/p7.jpg)"
   ]
  },
  {
   "cell_type": "markdown",
   "id": "6a5b7fbb",
   "metadata": {},
   "source": [
    "# 时间序列数据准备"
   ]
  },
  {
   "cell_type": "code",
   "execution_count": 5,
   "id": "cd92b7e3",
   "metadata": {
    "ExecuteTime": {
     "end_time": "2023-11-26T09:53:23.473821Z",
     "start_time": "2023-11-26T09:53:19.262158Z"
    }
   },
   "outputs": [],
   "source": [
    "import warnings\n",
    "import matplotlib\n",
    "import matplotlib.dates as mdates\n",
    "import matplotlib.pyplot as plt\n",
    "import statsmodels.api as sm\n",
    "import pandas as pd\n",
    "import numpy as np\n",
    "\n",
    "%matplotlib inline\n",
    "\n",
    "warnings.filterwarnings(\"ignore\")"
   ]
  },
  {
   "cell_type": "markdown",
   "id": "f98773dc",
   "metadata": {},
   "source": [
    "## 探索与理解时间序列"
   ]
  },
  {
   "cell_type": "code",
   "execution_count": 36,
   "id": "8c8ce79d",
   "metadata": {
    "ExecuteTime": {
     "end_time": "2023-11-26T10:23:51.639791Z",
     "start_time": "2023-11-26T10:23:51.595457Z"
    }
   },
   "outputs": [],
   "source": [
    "ts_data = pd.read_csv(\"../data/energy.csv\")"
   ]
  },
  {
   "cell_type": "code",
   "execution_count": 37,
   "id": "a3910639",
   "metadata": {
    "ExecuteTime": {
     "end_time": "2023-11-26T10:23:52.093659Z",
     "start_time": "2023-11-26T10:23:52.057051Z"
    }
   },
   "outputs": [],
   "source": [
    "ts_data = pd.DataFrame(ts_data[[\"load\", \"temp\"]].values, index=pd.to_datetime(ts_data[\"Unnamed: 0\"].values), columns=[\"load\", \"temp\"])"
   ]
  },
  {
   "cell_type": "code",
   "execution_count": 38,
   "id": "6e4c0a1d",
   "metadata": {
    "ExecuteTime": {
     "end_time": "2023-11-26T10:23:52.721451Z",
     "start_time": "2023-11-26T10:23:52.702447Z"
    }
   },
   "outputs": [],
   "source": [
    "ts_data = ts_data.asfreq(freq='H') #转换为小时频率的数据"
   ]
  },
  {
   "cell_type": "code",
   "execution_count": 39,
   "id": "646e88a9",
   "metadata": {
    "ExecuteTime": {
     "end_time": "2023-11-26T10:23:53.428269Z",
     "start_time": "2023-11-26T10:23:53.400839Z"
    }
   },
   "outputs": [
    {
     "data": {
      "text/html": [
       "<div>\n",
       "<style scoped>\n",
       "    .dataframe tbody tr th:only-of-type {\n",
       "        vertical-align: middle;\n",
       "    }\n",
       "\n",
       "    .dataframe tbody tr th {\n",
       "        vertical-align: top;\n",
       "    }\n",
       "\n",
       "    .dataframe thead th {\n",
       "        text-align: right;\n",
       "    }\n",
       "</style>\n",
       "<table border=\"1\" class=\"dataframe\">\n",
       "  <thead>\n",
       "    <tr style=\"text-align: right;\">\n",
       "      <th></th>\n",
       "      <th>load</th>\n",
       "      <th>temp</th>\n",
       "    </tr>\n",
       "  </thead>\n",
       "  <tbody>\n",
       "    <tr>\n",
       "      <th>2012-01-01 00:00:00</th>\n",
       "      <td>2698.0</td>\n",
       "      <td>32.00</td>\n",
       "    </tr>\n",
       "    <tr>\n",
       "      <th>2012-01-01 01:00:00</th>\n",
       "      <td>2558.0</td>\n",
       "      <td>32.67</td>\n",
       "    </tr>\n",
       "    <tr>\n",
       "      <th>2012-01-01 02:00:00</th>\n",
       "      <td>2444.0</td>\n",
       "      <td>30.00</td>\n",
       "    </tr>\n",
       "    <tr>\n",
       "      <th>2012-01-01 03:00:00</th>\n",
       "      <td>2402.0</td>\n",
       "      <td>31.00</td>\n",
       "    </tr>\n",
       "    <tr>\n",
       "      <th>2012-01-01 04:00:00</th>\n",
       "      <td>2403.0</td>\n",
       "      <td>32.00</td>\n",
       "    </tr>\n",
       "  </tbody>\n",
       "</table>\n",
       "</div>"
      ],
      "text/plain": [
       "                       load   temp\n",
       "2012-01-01 00:00:00  2698.0  32.00\n",
       "2012-01-01 01:00:00  2558.0  32.67\n",
       "2012-01-01 02:00:00  2444.0  30.00\n",
       "2012-01-01 03:00:00  2402.0  31.00\n",
       "2012-01-01 04:00:00  2403.0  32.00"
      ]
     },
     "execution_count": 39,
     "metadata": {},
     "output_type": "execute_result"
    }
   ],
   "source": [
    "ts_data.head()"
   ]
  },
  {
   "cell_type": "code",
   "execution_count": 40,
   "id": "d2434786",
   "metadata": {
    "ExecuteTime": {
     "end_time": "2023-11-26T10:24:25.889604Z",
     "start_time": "2023-11-26T10:24:25.876607Z"
    }
   },
   "outputs": [
    {
     "data": {
      "text/plain": [
       "load    0\n",
       "temp    0\n",
       "dtype: int64"
      ]
     },
     "execution_count": 40,
     "metadata": {},
     "output_type": "execute_result"
    }
   ],
   "source": [
    "ts_data.isna().sum()"
   ]
  },
  {
   "cell_type": "code",
   "execution_count": 41,
   "id": "21d55f2e",
   "metadata": {
    "ExecuteTime": {
     "end_time": "2023-11-26T10:24:26.686456Z",
     "start_time": "2023-11-26T10:24:26.665570Z"
    }
   },
   "outputs": [
    {
     "data": {
      "text/plain": [
       "load    float64\n",
       "temp    float64\n",
       "dtype: object"
      ]
     },
     "execution_count": 41,
     "metadata": {},
     "output_type": "execute_result"
    }
   ],
   "source": [
    "ts_data.dtypes"
   ]
  },
  {
   "cell_type": "code",
   "execution_count": 42,
   "id": "5d84da5b",
   "metadata": {
    "ExecuteTime": {
     "end_time": "2023-11-26T10:24:27.531461Z",
     "start_time": "2023-11-26T10:24:27.501443Z"
    }
   },
   "outputs": [
    {
     "data": {
      "text/html": [
       "<div>\n",
       "<style scoped>\n",
       "    .dataframe tbody tr th:only-of-type {\n",
       "        vertical-align: middle;\n",
       "    }\n",
       "\n",
       "    .dataframe tbody tr th {\n",
       "        vertical-align: top;\n",
       "    }\n",
       "\n",
       "    .dataframe thead th {\n",
       "        text-align: right;\n",
       "    }\n",
       "</style>\n",
       "<table border=\"1\" class=\"dataframe\">\n",
       "  <thead>\n",
       "    <tr style=\"text-align: right;\">\n",
       "      <th></th>\n",
       "      <th>load</th>\n",
       "      <th>temp</th>\n",
       "    </tr>\n",
       "  </thead>\n",
       "  <tbody>\n",
       "    <tr>\n",
       "      <th>count</th>\n",
       "      <td>26304.000000</td>\n",
       "      <td>26304.000000</td>\n",
       "    </tr>\n",
       "    <tr>\n",
       "      <th>mean</th>\n",
       "      <td>3303.769199</td>\n",
       "      <td>47.765639</td>\n",
       "    </tr>\n",
       "    <tr>\n",
       "      <th>std</th>\n",
       "      <td>564.579253</td>\n",
       "      <td>19.338137</td>\n",
       "    </tr>\n",
       "    <tr>\n",
       "      <th>min</th>\n",
       "      <td>1979.000000</td>\n",
       "      <td>-13.670000</td>\n",
       "    </tr>\n",
       "    <tr>\n",
       "      <th>25%</th>\n",
       "      <td>2867.000000</td>\n",
       "      <td>32.670000</td>\n",
       "    </tr>\n",
       "    <tr>\n",
       "      <th>50%</th>\n",
       "      <td>3364.000000</td>\n",
       "      <td>48.330000</td>\n",
       "    </tr>\n",
       "    <tr>\n",
       "      <th>75%</th>\n",
       "      <td>3690.000000</td>\n",
       "      <td>63.670000</td>\n",
       "    </tr>\n",
       "    <tr>\n",
       "      <th>max</th>\n",
       "      <td>5224.000000</td>\n",
       "      <td>95.000000</td>\n",
       "    </tr>\n",
       "  </tbody>\n",
       "</table>\n",
       "</div>"
      ],
      "text/plain": [
       "               load          temp\n",
       "count  26304.000000  26304.000000\n",
       "mean    3303.769199     47.765639\n",
       "std      564.579253     19.338137\n",
       "min     1979.000000    -13.670000\n",
       "25%     2867.000000     32.670000\n",
       "50%     3364.000000     48.330000\n",
       "75%     3690.000000     63.670000\n",
       "max     5224.000000     95.000000"
      ]
     },
     "execution_count": 42,
     "metadata": {},
     "output_type": "execute_result"
    }
   ],
   "source": [
    "ts_data.describe()"
   ]
  },
  {
   "cell_type": "markdown",
   "id": "d8739e48",
   "metadata": {},
   "source": [
    "statsmodels是具有时间序列分析的包，可以可视化组件的成分并从时间序列数据中获得更多见解。"
   ]
  },
  {
   "cell_type": "code",
   "execution_count": 46,
   "id": "8ba0656b",
   "metadata": {
    "ExecuteTime": {
     "end_time": "2023-11-26T10:31:08.390704Z",
     "start_time": "2023-11-26T10:31:08.381157Z"
    }
   },
   "outputs": [],
   "source": [
    "?sm.tsa.seasonal_decompose"
   ]
  },
  {
   "cell_type": "code",
   "execution_count": 43,
   "id": "ff8eeed9",
   "metadata": {
    "ExecuteTime": {
     "end_time": "2023-11-26T10:24:33.423509Z",
     "start_time": "2023-11-26T10:24:31.879579Z"
    }
   },
   "outputs": [
    {
     "data": {
      "image/png": "[encoded data removed]",
      "text/plain": [
       "<Figure size 640x480 with 4 Axes>"
      ]
     },
     "metadata": {},
     "output_type": "display_data"
    }
   ],
   "source": [
    "ts_data_load = ts_data[\"load\"]\n",
    "decomposition = sm.tsa.seasonal_decompose(\n",
    "    ts_data_load[\"2012-07-01\":\"2012-12-31\"], model=\"additive\"\n",
    ") #季节性变化趋势\n",
    "\n",
    "fig = decomposition.plot()\n",
    "matplotlib.rcParams[\"figure.figsize\"] = [10.0, 6.0]"
   ]
  },
  {
   "cell_type": "markdown",
   "id": "c8c432b6",
   "metadata": {},
   "source": [
    "对于下图，每年将从1月开始，将月份设置为显示每三个月的变化的小定位器。"
   ]
  },
  {
   "cell_type": "code",
   "execution_count": 45,
   "id": "ed9fc97b",
   "metadata": {
    "ExecuteTime": {
     "end_time": "2023-11-26T10:29:09.798149Z",
     "start_time": "2023-11-26T10:29:09.159633Z"
    }
   },
   "outputs": [
    {
     "data": {
      "text/plain": [
       "Text(0.5, 1.0, '时间序列负荷值及趋势分解图')"
      ]
     },
     "execution_count": 45,
     "metadata": {},
     "output_type": "execute_result"
    },
    {
     "data": {
      "image/png": "[encoded data removed]",
      "text/plain": [
       "<Figure size 1000x600 with 1 Axes>"
      ]
     },
     "metadata": {},
     "output_type": "display_data"
    }
   ],
   "source": [
    "decomposition = sm.tsa.seasonal_decompose(ts_data_load, model=\"additive\")\n",
    "\n",
    "fig, ax = plt.subplots()\n",
    "ax.grid(True)\n",
    "\n",
    "year = mdates.YearLocator(month=1)\n",
    "month = mdates.MonthLocator(interval=1)\n",
    "\n",
    "year_format = mdates.DateFormatter(\"%Y\")\n",
    "month_format = mdates.DateFormatter(\"%m\")\n",
    "\n",
    "ax.xaxis.set_minor_locator(month)\n",
    "ax.xaxis.grid(True, which=\"minor\")\n",
    "ax.xaxis.set_major_locator(year)\n",
    "ax.xaxis.set_major_formatter(year_format)\n",
    "\n",
    "plt.plot(ts_data_load.index, ts_data_load, c=\"blue\")\n",
    "plt.plot(decomposition.trend.index, decomposition.trend, c=\"yellow\")\n",
    "plt.title(\"时间序列负荷值及趋势分解图\")"
   ]
  },
  {
   "cell_type": "markdown",
   "id": "f9fba5bf",
   "metadata": {},
   "source": [
    "## 时间序列中缺失值的数据清理"
   ]
  },
  {
   "cell_type": "markdown",
   "id": "64c6a22e",
   "metadata": {},
   "source": [
    "时间序列中常用**线性插值**来填充缺失值，df.interpolate()函数可以填充，但仅支持method='linear'。"
   ]
  },
  {
   "cell_type": "code",
   "execution_count": 47,
   "id": "e74f4327",
   "metadata": {
    "ExecuteTime": {
     "end_time": "2023-11-26T10:39:13.124867Z",
     "start_time": "2023-11-26T10:39:13.098056Z"
    }
   },
   "outputs": [
    {
     "data": {
      "text/plain": [
       "2012-01-01 00:00:00    2698.0\n",
       "2012-01-01 01:00:00    2558.0\n",
       "2012-01-01 02:00:00    2444.0\n",
       "2012-01-01 03:00:00    2402.0\n",
       "2012-01-01 04:00:00    2403.0\n",
       "                        ...  \n",
       "2014-12-31 19:00:00    4012.0\n",
       "2014-12-31 20:00:00    3856.0\n",
       "2014-12-31 21:00:00    3671.0\n",
       "2014-12-31 22:00:00    3499.0\n",
       "2014-12-31 23:00:00    3345.0\n",
       "Freq: H, Name: load, Length: 26304, dtype: float64"
      ]
     },
     "execution_count": 47,
     "metadata": {},
     "output_type": "execute_result"
    }
   ],
   "source": [
    "ts_data_load.interpolate(limit=8, method='linear', limit_direction='both') \n",
    "#limit代表连续出现8个以上缺失值，就不会填充。limit_direction='both'：插值的极限方向"
   ]
  },
  {
   "cell_type": "code",
   "execution_count": 57,
   "id": "644ec479",
   "metadata": {
    "ExecuteTime": {
     "end_time": "2023-11-26T10:48:19.325627Z",
     "start_time": "2023-11-26T10:48:19.303829Z"
    }
   },
   "outputs": [
    {
     "data": {
      "text/plain": [
       "load    0\n",
       "temp    0\n",
       "dtype: int64"
      ]
     },
     "execution_count": 57,
     "metadata": {},
     "output_type": "execute_result"
    }
   ],
   "source": [
    "from scipy import stats\n",
    "temp_mode = stats.mode(ts_data[\"temp\"]).mode #返回出现最多的值\n",
    "ts_data[\"temp\"] = ts_data[\"temp\"].fillna(temp_mode)\n",
    "ts_data.isnull().sum()"
   ]
  },
  {
   "cell_type": "markdown",
   "id": "0f383f8a",
   "metadata": {},
   "source": [
    "## 归一化和标准化时间序列数据"
   ]
  },
  {
   "cell_type": "markdown",
   "id": "e5f69228",
   "metadata": {},
   "source": [
    "### 归一化"
   ]
  },
  {
   "cell_type": "markdown",
   "id": "11873b9a",
   "metadata": {},
   "source": [
    "归一化将所有值都约束在0到1的范围内。对于使用**距离估计、线性回归以及处理输入值校准的神经网络算法**，必须进行归一化。"
   ]
  },
  {
   "cell_type": "code",
   "execution_count": 58,
   "id": "e6bbbf0c",
   "metadata": {
    "ExecuteTime": {
     "end_time": "2023-11-26T10:57:12.774961Z",
     "start_time": "2023-11-26T10:57:12.393094Z"
    }
   },
   "outputs": [
    {
     "name": "stdout",
     "output_type": "stream",
     "text": [
      "Min: 1979.000000, Max: 5224.000000\n"
     ]
    }
   ],
   "source": [
    "from pandas import Series\n",
    "from sklearn.preprocessing import MinMaxScaler\n",
    "\n",
    "values = ts_data_load.values\n",
    "values = values.reshape((len(values), 1))\n",
    "\n",
    "scaler = MinMaxScaler(feature_range=(0, 1))\n",
    "scaler = scaler.fit(values)\n",
    "print(\"Min: %f, Max: %f\" % (scaler.data_min_, scaler.data_max_))"
   ]
  },
  {
   "cell_type": "markdown",
   "id": "a1152690",
   "metadata": {},
   "source": [
    "对归一化后的数据进行反转以再次显示原始值。"
   ]
  },
  {
   "cell_type": "code",
   "execution_count": 59,
   "id": "9bbf50f7",
   "metadata": {
    "ExecuteTime": {
     "end_time": "2023-11-26T10:58:21.038548Z",
     "start_time": "2023-11-26T10:58:21.028454Z"
    }
   },
   "outputs": [
    {
     "name": "stdout",
     "output_type": "stream",
     "text": [
      "[0.22157165]\n",
      "[0.17842835]\n",
      "[0.14329738]\n",
      "[0.13035439]\n",
      "[0.13066256]\n",
      "[2698.]\n",
      "[2558.]\n",
      "[2444.]\n",
      "[2402.]\n",
      "[2403.]\n"
     ]
    }
   ],
   "source": [
    "normalized = scaler.transform(values)\n",
    "for i in range(5):\n",
    "    print(normalized[i])\n",
    "\n",
    "inversed = scaler.inverse_transform(normalized)\n",
    "for i in range(5):\n",
    "    print(inversed[i])"
   ]
  },
  {
   "cell_type": "markdown",
   "id": "a5c7fa68",
   "metadata": {},
   "source": [
    "### 标准化"
   ]
  },
  {
   "cell_type": "markdown",
   "id": "0df805de",
   "metadata": {},
   "source": [
    "标准化使观测值的均值为0，标准差为1。标准化假设观测结果符合高斯分布，且均值和标准差表现良好。这包括**支持向量机、线性和逻辑回归等，以及采用已改善高斯数据性能的其他算法**。"
   ]
  },
  {
   "cell_type": "code",
   "execution_count": 60,
   "id": "b86732f8",
   "metadata": {
    "ExecuteTime": {
     "end_time": "2023-11-26T11:00:42.531545Z",
     "start_time": "2023-11-26T11:00:42.507246Z"
    }
   },
   "outputs": [
    {
     "name": "stdout",
     "output_type": "stream",
     "text": [
      "Mean: 3303.769199, StandardDeviation: 564.568521\n"
     ]
    }
   ],
   "source": [
    "from sklearn.preprocessing import StandardScaler\n",
    "from math import sqrt\n",
    "\n",
    "values = ts_data_load.values\n",
    "values = values.reshape((len(values), 1))\n",
    "\n",
    "scaler = StandardScaler()\n",
    "scaler = scaler.fit(values)\n",
    "print(\"Mean: %f, StandardDeviation: %f\" % (scaler.mean_, sqrt(scaler.var_)))"
   ]
  },
  {
   "cell_type": "code",
   "execution_count": 61,
   "id": "6d74c89a",
   "metadata": {
    "ExecuteTime": {
     "end_time": "2023-11-26T11:00:56.337853Z",
     "start_time": "2023-11-26T11:00:56.326224Z"
    }
   },
   "outputs": [
    {
     "name": "stdout",
     "output_type": "stream",
     "text": [
      "[-1.07297728]\n",
      "[-1.32095427]\n",
      "[-1.52287839]\n",
      "[-1.59727148]\n",
      "[-1.59550022]\n",
      "[2698.]\n",
      "[2558.]\n",
      "[2444.]\n",
      "[2402.]\n",
      "[2403.]\n"
     ]
    }
   ],
   "source": [
    "normalized = scaler.transform(values)\n",
    "for i in range(5):\n",
    "    print(normalized[i])\n",
    "\n",
    "inversed = scaler.inverse_transform(normalized)\n",
    "for i in range(5):\n",
    "    print(inversed[i])"
   ]
  },
  {
   "cell_type": "markdown",
   "id": "21c5cf7d",
   "metadata": {},
   "source": [
    "## 时间序列特征工程"
   ]
  },
  {
   "cell_type": "markdown",
   "id": "15283068",
   "metadata": {},
   "source": [
    "### 日期时间特征"
   ]
  },
  {
   "cell_type": "code",
   "execution_count": null,
   "id": "23a5a35c",
   "metadata": {},
   "outputs": [],
   "source": []
  }
 ],
 "metadata": {
  "kernelspec": {
   "display_name": "Python 3 (ipykernel)",
   "language": "python",
   "name": "python3"
  },
  "language_info": {
   "codemirror_mode": {
    "name": "ipython",
    "version": 3
   },
   "file_extension": ".py",
   "mimetype": "text/x-python",
   "name": "python",
   "nbconvert_exporter": "python",
   "pygments_lexer": "ipython3",
   "version": "3.9.18"
  },
  "toc": {
   "base_numbering": 1,
   "nav_menu": {},
   "number_sections": true,
   "sideBar": true,
   "skip_h1_title": false,
   "title_cell": "Table of Contents",
   "title_sidebar": "Contents",
   "toc_cell": false,
   "toc_position": {
    "height": "calc(100% - 180px)",
    "left": "10px",
    "top": "150px",
    "width": "215.827px"
   },
   "toc_section_display": true,
   "toc_window_display": true
  }
 },
 "nbformat": 4,
 "nbformat_minor": 5
}
