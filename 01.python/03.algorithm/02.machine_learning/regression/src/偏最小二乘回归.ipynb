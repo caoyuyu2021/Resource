{
 "cells": [
  {
   "cell_type": "markdown",
   "id": "a7216051",
   "metadata": {},
   "source": [
    "# 数据读取"
   ]
  },
  {
   "cell_type": "markdown",
   "id": "b79e6a0b",
   "metadata": {},
   "source": [
    "这个数据集取自卡耐基梅隆大学的StatLi图书馆。这份统计数据是从1987的《棒球百科全书》得到，记录了1986和1987年两个赛季的数据，共包含322个观测样本，以及20个变量。后面我们将利用变量筛选的方法对其进行变量选择。\n",
    "\n",
    "- 数据分析  \n",
    "我们以Salary作为自变量，其余19个变量（AtBat, Hits, HmRun, Runs, RBI, Walks, Years, CAtBat, CHits, CHmRun, CRuns, CRBI, CWalks, League, Division, PutOuts, Assists, Errors, NewLeague）作为因变量分别使用下述方法进行变量筛选：\n",
    "\n",
    "- 最优子集选择:  \n",
    "通过最优子集筛选，筛选出的变量为：\n",
    "AtBat, Hits, Walks, CHmRun, CRuns, CWalks, DivisionW, PutOuts"
   ]
  },
  {
   "cell_type": "code",
   "execution_count": 1,
   "id": "b68880ef",
   "metadata": {
    "ExecuteTime": {
     "end_time": "2024-04-22T05:41:46.041566Z",
     "start_time": "2024-04-22T05:41:44.156894Z"
    }
   },
   "outputs": [
    {
     "name": "stdout",
     "output_type": "stream",
     "text": [
      "   AtBat  Hits  HmRun  Runs  RBI  Walks  Years  CAtBat  CHits  CHmRun  CRuns  \\\n",
      "0    293    66      1    30   29     14      1     293     66       1     30   \n",
      "1    315    81      7    24   38     39     14    3449    835      69    321   \n",
      "2    479   130     18    66   72     76      3    1624    457      63    224   \n",
      "3    496   141     20    65   78     37     11    5628   1575     225    828   \n",
      "4    321    87     10    39   42     30      2     396    101      12     48   \n",
      "\n",
      "   CRBI  CWalks League Division  PutOuts  Assists  Errors  Salary NewLeague  \n",
      "0    29      14      A        E      446       33      20     NaN         A  \n",
      "1   414     375      N        W      632       43      10   475.0         N  \n",
      "2   266     263      A        W      880       82      14   480.0         A  \n",
      "3   838     354      N        E      200       11       3   500.0         N  \n",
      "4    46      33      N        E      805       40       4    91.5         N  \n"
     ]
    }
   ],
   "source": [
    "import pandas as pd\n",
    "import numpy as np\n",
    "from sklearn.cross_decomposition import PLSRegression\n",
    "from sklearn.model_selection import GridSearchCV\n",
    "from sklearn.model_selection import train_test_split\n",
    "from sklearn.metrics import mean_squared_error, r2_score\n",
    "\n",
    "#读取数据\n",
    "data = pd.read_csv(\"../data/Hitters.csv\")\n",
    "print(data.head())"
   ]
  },
  {
   "cell_type": "markdown",
   "id": "a6fae3d9",
   "metadata": {},
   "source": [
    "# 数据处理"
   ]
  },
  {
   "cell_type": "code",
   "execution_count": 2,
   "id": "2a91f9d8",
   "metadata": {
    "ExecuteTime": {
     "end_time": "2023-11-14T07:45:45.467377Z",
     "start_time": "2023-11-14T07:45:45.451244Z"
    }
   },
   "outputs": [],
   "source": [
    "#Salary里有缺失值，直接将所在行删掉\n",
    "data = data.dropna()\n",
    "\n",
    "#将非数字特征变为以0，1替代的特征\n",
    "dms = pd.get_dummies(data[['League','Division','NewLeague']])\n",
    "\n",
    "#准备数据\n",
    "y = data['Salary']\n",
    "x_ = data.drop(['Salary','League','Division','NewLeague'],axis=1).astype('float64')\n",
    "x = pd.concat([x_,dms[['League_N','Division_W','NewLeague_N']]],axis=1)\n",
    "\n",
    "# 训练集、测试集划分\n",
    "x_train,x_test,y_train,y_test = train_test_split(x,y,test_size=0.25,random_state= 42)"
   ]
  },
  {
   "cell_type": "markdown",
   "id": "a2786e49",
   "metadata": {},
   "source": [
    "# 模型训练"
   ]
  },
  {
   "cell_type": "code",
   "execution_count": 3,
   "id": "df477fe2",
   "metadata": {
    "ExecuteTime": {
     "end_time": "2023-11-14T07:47:51.024310Z",
     "start_time": "2023-11-14T07:47:50.392068Z"
    }
   },
   "outputs": [
    {
     "name": "stdout",
     "output_type": "stream",
     "text": [
      "Partial Least Squares Regression coefficients: [[ 35.32916493  48.83425857  18.50240933  39.28117603  30.59952998\n",
      "   40.03398345  16.85990516  28.22289896  32.73784993  22.00875744\n",
      "   33.60903032  30.39402522  25.73279799  54.98835148   6.56590871\n",
      "   -0.90894359  17.60903423 -37.24246339  14.69680385]]\n"
     ]
    }
   ],
   "source": [
    "#回归模型、参数\n",
    "pls_model_setup = PLSRegression(scale=True)\n",
    "param_grid = {'n_components': range(1, 20)}\n",
    "\n",
    "#GridSearchCV优化参数、训练模型\n",
    "gsearch = GridSearchCV(pls_model_setup, param_grid)\n",
    "pls_model = gsearch.fit(x_train, y_train)\n",
    "\n",
    "#打印 coef\n",
    "print('Partial Least Squares Regression coefficients:',pls_model.best_estimator_.coef_)"
   ]
  },
  {
   "cell_type": "markdown",
   "id": "d8510f96",
   "metadata": {},
   "source": [
    "# 模型预测"
   ]
  },
  {
   "cell_type": "code",
   "execution_count": 4,
   "id": "eafb3f9a",
   "metadata": {
    "ExecuteTime": {
     "end_time": "2023-11-14T07:50:11.611197Z",
     "start_time": "2023-11-14T07:50:11.601220Z"
    }
   },
   "outputs": [],
   "source": [
    "#对测试集做预测\n",
    "pls_prediction = pls_model.predict(x_test)\n",
    "\n",
    "#计算R2，均方差\n",
    "pls_r2 = r2_score(y_test,pls_prediction)\n",
    "pls_mse = np.sqrt(mean_squared_error(y_test,pls_prediction))"
   ]
  },
  {
   "cell_type": "code",
   "execution_count": 6,
   "id": "1c939807",
   "metadata": {
    "ExecuteTime": {
     "end_time": "2023-11-14T07:51:08.242297Z",
     "start_time": "2023-11-14T07:51:08.238211Z"
    }
   },
   "outputs": [
    {
     "name": "stdout",
     "output_type": "stream",
     "text": [
      "R2为： 0.2678940112232916\n",
      "MSE为： 398.09956327448526\n"
     ]
    }
   ],
   "source": [
    "print(\"R2为：\", pls_r2)\n",
    "print(\"MSE为：\", pls_mse)"
   ]
  },
  {
   "cell_type": "code",
   "execution_count": null,
   "id": "7d27bf3d",
   "metadata": {},
   "outputs": [],
   "source": []
  }
 ],
 "metadata": {
  "hide_input": false,
  "kernelspec": {
   "display_name": "Python 3 (ipykernel)",
   "language": "python",
   "name": "python3"
  },
  "language_info": {
   "codemirror_mode": {
    "name": "ipython",
    "version": 3
   },
   "file_extension": ".py",
   "mimetype": "text/x-python",
   "name": "python",
   "nbconvert_exporter": "python",
   "pygments_lexer": "ipython3",
   "version": "3.9.18"
  },
  "toc": {
   "base_numbering": 1,
   "nav_menu": {},
   "number_sections": true,
   "sideBar": true,
   "skip_h1_title": false,
   "title_cell": "Table of Contents",
   "title_sidebar": "Contents",
   "toc_cell": false,
   "toc_position": {
    "height": "calc(100% - 180px)",
    "left": "10px",
    "top": "150px",
    "width": "196.323px"
   },
   "toc_section_display": true,
   "toc_window_display": true
  },
  "varInspector": {
   "cols": {
    "lenName": 16,
    "lenType": 16,
    "lenVar": 40
   },
   "kernels_config": {
    "python": {
     "delete_cmd_postfix": "",
     "delete_cmd_prefix": "del ",
     "library": "var_list.py",
     "varRefreshCmd": "print(var_dic_list())"
    },
    "r": {
     "delete_cmd_postfix": ") ",
     "delete_cmd_prefix": "rm(",
     "library": "var_list.r",
     "varRefreshCmd": "cat(var_dic_list()) "
    }
   },
   "types_to_exclude": [
    "module",
    "function",
    "builtin_function_or_method",
    "instance",
    "_Feature"
   ],
   "window_display": false
  }
 },
 "nbformat": 4,
 "nbformat_minor": 5
}
