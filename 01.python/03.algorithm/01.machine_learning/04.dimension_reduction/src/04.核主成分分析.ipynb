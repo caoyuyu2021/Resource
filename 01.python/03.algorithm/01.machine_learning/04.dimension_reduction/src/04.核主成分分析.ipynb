{
 "cells": [
  {
   "cell_type": "markdown",
   "id": "5ee61ea7-088e-4bb3-92ea-9c4059b1f52d",
   "metadata": {},
   "source": [
    "# 算法原理"
   ]
  },
  {
   "attachments": {},
   "cell_type": "markdown",
   "id": "21f209eb-8e5c-416c-a163-9a2fc4093e3c",
   "metadata": {},
   "source": [
    "在许多应用中，由于数据并不是线性可分的，因此PCA的优化目标并不能很好地适应这些数据。在这种情况下，核主成分分析（KPCA）算法被广泛使用。\n",
    "\n",
    "核主成分分析（KPCA）是主成分分析（PCA）的一种扩展形式，它通过非线性映射将数据转换到高维空间中，然后在高维空间中进行PCA分析。KPCA可以在非线性数据上提取主成分，是一种有效的非线性降维方法。\n",
    "\n",
    "KPCA的实现过程如下：\n",
    "\n",
    "- 选择一个合适的核函数（如高斯核函数、多项式核函数等），将原始数据映射到高维空间中。\n",
    "\n",
    "- 在高维空间中计算数据的协方差矩阵或者Gram矩阵，这个矩阵的维度通常很高。\n",
    "\n",
    "- 对协方差矩阵或Gram矩阵进行特征值分解，得到每个特征向量和对应的特征值。\n",
    "\n",
    "- 选取前k个特征向量，将原始数据映射到低维空间中。这些特征向量通常与原始数据的维度相同。"
   ]
  },
  {
   "cell_type": "markdown",
   "id": "8b7bbab1-a007-4423-98ce-d80f4a722e6c",
   "metadata": {},
   "source": [
    "# 数据准备"
   ]
  },
  {
   "cell_type": "code",
   "execution_count": 23,
   "id": "98c4c761-01e3-4a09-988f-b70e55a0d3c6",
   "metadata": {
    "execution": {
     "iopub.execute_input": "2024-04-25T02:28:35.036892Z",
     "iopub.status.busy": "2024-04-25T02:28:35.034874Z",
     "iopub.status.idle": "2024-04-25T02:28:35.076913Z",
     "shell.execute_reply": "2024-04-25T02:28:35.073285Z",
     "shell.execute_reply.started": "2024-04-25T02:28:35.036892Z"
    }
   },
   "outputs": [],
   "source": [
    "import pandas as pd\n",
    "import numpy as np\n",
    "from sklearn.model_selection import train_test_split\n",
    "import matplotlib.pyplot as plt\n",
    "import mglearn\n",
    "from sklearn.decomposition import KernelPCA\n",
    "from sklearn.neighbors import KNeighborsClassifier\n",
    "from sklearn.model_selection import GridSearchCV\n",
    "from sklearn.metrics import accuracy_score, classification_report\n",
    "from sklearn.metrics import roc_auc_score"
   ]
  },
  {
   "cell_type": "code",
   "execution_count": 24,
   "id": "cd8414da-83eb-4fa5-9305-69799892f7a5",
   "metadata": {
    "execution": {
     "iopub.execute_input": "2024-04-25T02:28:35.840404Z",
     "iopub.status.busy": "2024-04-25T02:28:35.837374Z",
     "iopub.status.idle": "2024-04-25T02:28:35.875763Z",
     "shell.execute_reply": "2024-04-25T02:28:35.874542Z",
     "shell.execute_reply.started": "2024-04-25T02:28:35.840404Z"
    }
   },
   "outputs": [
    {
     "name": "stdout",
     "output_type": "stream",
     "text": [
      "       0      1       2       3        4        5       6        7       8  \\\n",
      "0  17.99  10.38  122.80  1001.0  0.11840  0.27760  0.3001  0.14710  0.2419   \n",
      "1  20.57  17.77  132.90  1326.0  0.08474  0.07864  0.0869  0.07017  0.1812   \n",
      "2  19.69  21.25  130.00  1203.0  0.10960  0.15990  0.1974  0.12790  0.2069   \n",
      "3  11.42  20.38   77.58   386.1  0.14250  0.28390  0.2414  0.10520  0.2597   \n",
      "4  20.29  14.34  135.10  1297.0  0.10030  0.13280  0.1980  0.10430  0.1809   \n",
      "\n",
      "         9  ...     21      22      23      24      25      26      27  \\\n",
      "0  0.07871  ...  17.33  184.60  2019.0  0.1622  0.6656  0.7119  0.2654   \n",
      "1  0.05667  ...  23.41  158.80  1956.0  0.1238  0.1866  0.2416  0.1860   \n",
      "2  0.05999  ...  25.53  152.50  1709.0  0.1444  0.4245  0.4504  0.2430   \n",
      "3  0.09744  ...  26.50   98.87   567.7  0.2098  0.8663  0.6869  0.2575   \n",
      "4  0.05883  ...  16.67  152.20  1575.0  0.1374  0.2050  0.4000  0.1625   \n",
      "\n",
      "       28       29  label  \n",
      "0  0.4601  0.11890      0  \n",
      "1  0.2750  0.08902      0  \n",
      "2  0.3613  0.08758      0  \n",
      "3  0.6638  0.17300      0  \n",
      "4  0.2364  0.07678      0  \n",
      "\n",
      "[5 rows x 31 columns]\n"
     ]
    }
   ],
   "source": [
    "#读取数据\n",
    "data = pd.read_csv(\"../data/breast_cancer.csv\")\n",
    "print(data.head())"
   ]
  },
  {
   "cell_type": "code",
   "execution_count": 25,
   "id": "d2b73a3c-f108-4b4d-8a56-a09a06cd2f48",
   "metadata": {
    "execution": {
     "iopub.execute_input": "2024-04-25T02:28:36.913463Z",
     "iopub.status.busy": "2024-04-25T02:28:36.913463Z",
     "iopub.status.idle": "2024-04-25T02:28:36.963176Z",
     "shell.execute_reply": "2024-04-25T02:28:36.958091Z",
     "shell.execute_reply.started": "2024-04-25T02:28:36.913463Z"
    }
   },
   "outputs": [],
   "source": [
    "#准备数据\n",
    "data = data.dropna()\n",
    "y = data['label']\n",
    "x = data.drop(['label'],axis=1).astype('float64')\n",
    "\n",
    "# 训练集、测试集划分\n",
    "x_train,x_test,y_train,y_test = train_test_split(x,y,test_size=0.25,random_state= 42)"
   ]
  },
  {
   "cell_type": "markdown",
   "id": "94a7223f-0a06-406f-9229-f7374e499520",
   "metadata": {},
   "source": [
    "# 模型训练"
   ]
  },
  {
   "cell_type": "code",
   "execution_count": 26,
   "id": "5e2a7af1-71cd-4f96-a73a-2c48e3c96f5f",
   "metadata": {
    "execution": {
     "iopub.execute_input": "2024-04-25T02:28:38.590376Z",
     "iopub.status.busy": "2024-04-25T02:28:38.588377Z",
     "iopub.status.idle": "2024-04-25T02:28:38.657096Z",
     "shell.execute_reply": "2024-04-25T02:28:38.656097Z",
     "shell.execute_reply.started": "2024-04-25T02:28:38.590376Z"
    }
   },
   "outputs": [
    {
     "data": {
      "text/html": [
       "<style>#sk-container-id-2 {color: black;}#sk-container-id-2 pre{padding: 0;}#sk-container-id-2 div.sk-toggleable {background-color: white;}#sk-container-id-2 label.sk-toggleable__label {cursor: pointer;display: block;width: 100%;margin-bottom: 0;padding: 0.3em;box-sizing: border-box;text-align: center;}#sk-container-id-2 label.sk-toggleable__label-arrow:before {content: \"▸\";float: left;margin-right: 0.25em;color: #696969;}#sk-container-id-2 label.sk-toggleable__label-arrow:hover:before {color: black;}#sk-container-id-2 div.sk-estimator:hover label.sk-toggleable__label-arrow:before {color: black;}#sk-container-id-2 div.sk-toggleable__content {max-height: 0;max-width: 0;overflow: hidden;text-align: left;background-color: #f0f8ff;}#sk-container-id-2 div.sk-toggleable__content pre {margin: 0.2em;color: black;border-radius: 0.25em;background-color: #f0f8ff;}#sk-container-id-2 input.sk-toggleable__control:checked~div.sk-toggleable__content {max-height: 200px;max-width: 100%;overflow: auto;}#sk-container-id-2 input.sk-toggleable__control:checked~label.sk-toggleable__label-arrow:before {content: \"▾\";}#sk-container-id-2 div.sk-estimator input.sk-toggleable__control:checked~label.sk-toggleable__label {background-color: #d4ebff;}#sk-container-id-2 div.sk-label input.sk-toggleable__control:checked~label.sk-toggleable__label {background-color: #d4ebff;}#sk-container-id-2 input.sk-hidden--visually {border: 0;clip: rect(1px 1px 1px 1px);clip: rect(1px, 1px, 1px, 1px);height: 1px;margin: -1px;overflow: hidden;padding: 0;position: absolute;width: 1px;}#sk-container-id-2 div.sk-estimator {font-family: monospace;background-color: #f0f8ff;border: 1px dotted black;border-radius: 0.25em;box-sizing: border-box;margin-bottom: 0.5em;}#sk-container-id-2 div.sk-estimator:hover {background-color: #d4ebff;}#sk-container-id-2 div.sk-parallel-item::after {content: \"\";width: 100%;border-bottom: 1px solid gray;flex-grow: 1;}#sk-container-id-2 div.sk-label:hover label.sk-toggleable__label {background-color: #d4ebff;}#sk-container-id-2 div.sk-serial::before {content: \"\";position: absolute;border-left: 1px solid gray;box-sizing: border-box;top: 0;bottom: 0;left: 50%;z-index: 0;}#sk-container-id-2 div.sk-serial {display: flex;flex-direction: column;align-items: center;background-color: white;padding-right: 0.2em;padding-left: 0.2em;position: relative;}#sk-container-id-2 div.sk-item {position: relative;z-index: 1;}#sk-container-id-2 div.sk-parallel {display: flex;align-items: stretch;justify-content: center;background-color: white;position: relative;}#sk-container-id-2 div.sk-item::before, #sk-container-id-2 div.sk-parallel-item::before {content: \"\";position: absolute;border-left: 1px solid gray;box-sizing: border-box;top: 0;bottom: 0;left: 50%;z-index: -1;}#sk-container-id-2 div.sk-parallel-item {display: flex;flex-direction: column;z-index: 1;position: relative;background-color: white;}#sk-container-id-2 div.sk-parallel-item:first-child::after {align-self: flex-end;width: 50%;}#sk-container-id-2 div.sk-parallel-item:last-child::after {align-self: flex-start;width: 50%;}#sk-container-id-2 div.sk-parallel-item:only-child::after {width: 0;}#sk-container-id-2 div.sk-dashed-wrapped {border: 1px dashed gray;margin: 0 0.4em 0.5em 0.4em;box-sizing: border-box;padding-bottom: 0.4em;background-color: white;}#sk-container-id-2 div.sk-label label {font-family: monospace;font-weight: bold;display: inline-block;line-height: 1.2em;}#sk-container-id-2 div.sk-label-container {text-align: center;}#sk-container-id-2 div.sk-container {/* jupyter's `normalize.less` sets `[hidden] { display: none; }` but bootstrap.min.css set `[hidden] { display: none !important; }` so we also need the `!important` here to be able to override the default hidden behavior on the sphinx rendered scikit-learn.org. See: https://github.com/scikit-learn/scikit-learn/issues/21755 */display: inline-block !important;position: relative;}#sk-container-id-2 div.sk-text-repr-fallback {display: none;}</style><div id=\"sk-container-id-2\" class=\"sk-top-container\"><div class=\"sk-text-repr-fallback\"><pre>KernelPCA(kernel=&#x27;rbf&#x27;, n_components=10)</pre><b>In a Jupyter environment, please rerun this cell to show the HTML representation or trust the notebook. <br />On GitHub, the HTML representation is unable to render, please try loading this page with nbviewer.org.</b></div><div class=\"sk-container\" hidden><div class=\"sk-item\"><div class=\"sk-estimator sk-toggleable\"><input class=\"sk-toggleable__control sk-hidden--visually\" id=\"sk-estimator-id-2\" type=\"checkbox\" checked><label for=\"sk-estimator-id-2\" class=\"sk-toggleable__label sk-toggleable__label-arrow\">KernelPCA</label><div class=\"sk-toggleable__content\"><pre>KernelPCA(kernel=&#x27;rbf&#x27;, n_components=10)</pre></div></div></div></div></div>"
      ],
      "text/plain": [
       "KernelPCA(kernel='rbf', n_components=10)"
      ]
     },
     "execution_count": 26,
     "metadata": {},
     "output_type": "execute_result"
    }
   ],
   "source": [
    "model = KernelPCA(n_components=10, kernel='rbf')\n",
    "model.fit(x_train)"
   ]
  },
  {
   "cell_type": "markdown",
   "id": "a89e5430-df1a-4e70-bdaa-d7e3c6cca1f2",
   "metadata": {},
   "source": [
    "# 模型保存"
   ]
  },
  {
   "cell_type": "code",
   "execution_count": 27,
   "id": "9a65c2bf-c90a-496b-8219-b43926fda9ad",
   "metadata": {
    "execution": {
     "iopub.execute_input": "2024-04-25T02:28:39.988511Z",
     "iopub.status.busy": "2024-04-25T02:28:39.985531Z",
     "iopub.status.idle": "2024-04-25T02:28:40.067114Z",
     "shell.execute_reply": "2024-04-25T02:28:40.065226Z",
     "shell.execute_reply.started": "2024-04-25T02:28:39.988511Z"
    }
   },
   "outputs": [],
   "source": [
    "# 法一\n",
    "import joblib\n",
    "\n",
    "# 保存模型\n",
    "joblib.dump(model, '../test/best_models/kpca.pkl')\n",
    "\n",
    "# 加载模型\n",
    "model = joblib.load('../test/best_models/kpca.pkl')"
   ]
  },
  {
   "cell_type": "code",
   "execution_count": 28,
   "id": "8b50bb25-e5c2-4c43-a868-ac2c65403093",
   "metadata": {
    "execution": {
     "iopub.execute_input": "2024-04-25T02:28:40.766302Z",
     "iopub.status.busy": "2024-04-25T02:28:40.766302Z",
     "iopub.status.idle": "2024-04-25T02:28:40.832734Z",
     "shell.execute_reply": "2024-04-25T02:28:40.827779Z",
     "shell.execute_reply.started": "2024-04-25T02:28:40.766302Z"
    }
   },
   "outputs": [],
   "source": [
    "# 法二\n",
    "import pickle\n",
    "\n",
    "with open('../test/best_models/kpca.pkl', 'wb') as f:\n",
    "    pickle.dump(model, f)\n",
    " \n",
    "#读取Model\n",
    "with open('../test/best_models/kpca.pkl', 'rb') as f:\n",
    "    model = pickle.load(f)"
   ]
  },
  {
   "cell_type": "markdown",
   "id": "36959dd7-ac39-4f0f-8dd5-c89ebd5a778f",
   "metadata": {},
   "source": [
    "# 模型预测"
   ]
  },
  {
   "cell_type": "code",
   "execution_count": 29,
   "id": "8cd46e88-1381-4a67-b072-6e8ea26ae5a6",
   "metadata": {
    "execution": {
     "iopub.execute_input": "2024-04-25T02:28:42.498452Z",
     "iopub.status.busy": "2024-04-25T02:28:42.495473Z",
     "iopub.status.idle": "2024-04-25T02:28:42.548191Z",
     "shell.execute_reply": "2024-04-25T02:28:42.547135Z",
     "shell.execute_reply.started": "2024-04-25T02:28:42.498452Z"
    }
   },
   "outputs": [],
   "source": [
    "# 转换数据\n",
    "x_new = model.transform(x_train)"
   ]
  },
  {
   "cell_type": "code",
   "execution_count": 30,
   "id": "b5635dfc-6c5f-4ed6-b165-1ce7ce039a61",
   "metadata": {
    "execution": {
     "iopub.execute_input": "2024-04-25T02:28:43.111176Z",
     "iopub.status.busy": "2024-04-25T02:28:43.111176Z",
     "iopub.status.idle": "2024-04-25T02:28:43.150998Z",
     "shell.execute_reply": "2024-04-25T02:28:43.146018Z",
     "shell.execute_reply.started": "2024-04-25T02:28:43.111176Z"
    }
   },
   "outputs": [
    {
     "data": {
      "text/plain": [
       "(426, 10)"
      ]
     },
     "execution_count": 30,
     "metadata": {},
     "output_type": "execute_result"
    }
   ],
   "source": [
    "x_new.shape"
   ]
  },
  {
   "cell_type": "markdown",
   "id": "492a55b6-5925-4e32-8923-2662ea5aeb4b",
   "metadata": {},
   "source": [
    "# 模型应用"
   ]
  },
  {
   "cell_type": "code",
   "execution_count": 31,
   "id": "5494a2e4-21a8-4ac3-b0fc-2ea2014ba301",
   "metadata": {
    "execution": {
     "iopub.execute_input": "2024-04-25T02:28:44.628818Z",
     "iopub.status.busy": "2024-04-25T02:28:44.626816Z",
     "iopub.status.idle": "2024-04-25T02:28:45.015577Z",
     "shell.execute_reply": "2024-04-25T02:28:45.014575Z",
     "shell.execute_reply.started": "2024-04-25T02:28:44.628818Z"
    }
   },
   "outputs": [
    {
     "name": "stdout",
     "output_type": "stream",
     "text": [
      "KNN params: KNeighborsClassifier(n_neighbors=3)\n"
     ]
    }
   ],
   "source": [
    "# 先对数据降维，再进行分类\n",
    "kpca = KernelPCA(n_components=10, kernel='rbf')\n",
    "kpca.fit(x_train)\n",
    "x_new = kpca.transform(x_train)\n",
    "\n",
    "# 分类模型\n",
    "knn = KNeighborsClassifier()\n",
    "param_grid = {'n_neighbors': [2, 3, 4]}\n",
    "\n",
    "#GridSearchCV优化参数、训练模型\n",
    "gsearch = GridSearchCV(knn, param_grid)\n",
    "knn = gsearch.fit(x_new, y_train)\n",
    "\n",
    "#打印最优结果\n",
    "print('KNN params:', knn.best_estimator_)"
   ]
  },
  {
   "cell_type": "code",
   "execution_count": 32,
   "id": "e7194d65-80f1-436b-8890-43188a161be5",
   "metadata": {
    "execution": {
     "iopub.execute_input": "2024-04-25T02:28:45.714975Z",
     "iopub.status.busy": "2024-04-25T02:28:45.711976Z",
     "iopub.status.idle": "2024-04-25T02:28:45.827799Z",
     "shell.execute_reply": "2024-04-25T02:28:45.825035Z",
     "shell.execute_reply.started": "2024-04-25T02:28:45.714975Z"
    }
   },
   "outputs": [],
   "source": [
    "x_new = kpca.transform(x_test)\n",
    "prediction = knn.predict(x_new)"
   ]
  },
  {
   "cell_type": "code",
   "execution_count": 33,
   "id": "98b54ebf-4fda-45fb-b3cf-65f566aa94a1",
   "metadata": {
    "execution": {
     "iopub.execute_input": "2024-04-25T02:28:46.471875Z",
     "iopub.status.busy": "2024-04-25T02:28:46.471875Z",
     "iopub.status.idle": "2024-04-25T02:28:46.505199Z",
     "shell.execute_reply": "2024-04-25T02:28:46.500250Z",
     "shell.execute_reply.started": "2024-04-25T02:28:46.471875Z"
    }
   },
   "outputs": [
    {
     "name": "stdout",
     "output_type": "stream",
     "text": [
      "acc为： 0.6223776223776224\n"
     ]
    }
   ],
   "source": [
    "# 计算准确率\n",
    "acc = accuracy_score(y_test, prediction)\n",
    "print(\"acc为：\", acc)"
   ]
  },
  {
   "cell_type": "code",
   "execution_count": 34,
   "id": "7af63bef-51f1-45cc-89c8-56ff94fa771f",
   "metadata": {
    "execution": {
     "iopub.execute_input": "2024-04-25T02:28:47.129418Z",
     "iopub.status.busy": "2024-04-25T02:28:47.127881Z",
     "iopub.status.idle": "2024-04-25T02:28:47.158387Z",
     "shell.execute_reply": "2024-04-25T02:28:47.157117Z",
     "shell.execute_reply.started": "2024-04-25T02:28:47.129418Z"
    }
   },
   "outputs": [
    {
     "name": "stdout",
     "output_type": "stream",
     "text": [
      "              precision    recall  f1-score   support\n",
      "\n",
      "           0       0.00      0.00      0.00        54\n",
      "           1       0.62      1.00      0.77        89\n",
      "\n",
      "    accuracy                           0.62       143\n",
      "   macro avg       0.31      0.50      0.38       143\n",
      "weighted avg       0.39      0.62      0.48       143\n",
      "\n"
     ]
    },
    {
     "name": "stderr",
     "output_type": "stream",
     "text": [
      "D:\\Anaconda\\lib\\site-packages\\sklearn\\metrics\\_classification.py:1469: UndefinedMetricWarning: Precision and F-score are ill-defined and being set to 0.0 in labels with no predicted samples. Use `zero_division` parameter to control this behavior.\n",
      "  _warn_prf(average, modifier, msg_start, len(result))\n",
      "D:\\Anaconda\\lib\\site-packages\\sklearn\\metrics\\_classification.py:1469: UndefinedMetricWarning: Precision and F-score are ill-defined and being set to 0.0 in labels with no predicted samples. Use `zero_division` parameter to control this behavior.\n",
      "  _warn_prf(average, modifier, msg_start, len(result))\n",
      "D:\\Anaconda\\lib\\site-packages\\sklearn\\metrics\\_classification.py:1469: UndefinedMetricWarning: Precision and F-score are ill-defined and being set to 0.0 in labels with no predicted samples. Use `zero_division` parameter to control this behavior.\n",
      "  _warn_prf(average, modifier, msg_start, len(result))\n"
     ]
    }
   ],
   "source": [
    "print(classification_report(y_test, prediction))"
   ]
  },
  {
   "cell_type": "code",
   "execution_count": null,
   "id": "8796f0b5-bb18-46d3-bd4c-73103d5f1ee8",
   "metadata": {},
   "outputs": [],
   "source": []
  }
 ],
 "metadata": {
  "kernelspec": {
   "display_name": "Python 3 (ipykernel)",
   "language": "python",
   "name": "python3"
  },
  "language_info": {
   "codemirror_mode": {
    "name": "ipython",
    "version": 3
   },
   "file_extension": ".py",
   "mimetype": "text/x-python",
   "name": "python",
   "nbconvert_exporter": "python",
   "pygments_lexer": "ipython3",
   "version": "3.9.18"
  }
 },
 "nbformat": 4,
 "nbformat_minor": 5
}
