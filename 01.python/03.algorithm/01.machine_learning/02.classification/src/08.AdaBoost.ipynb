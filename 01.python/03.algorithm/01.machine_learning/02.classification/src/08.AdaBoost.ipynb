{
 "cells": [
  {
   "cell_type": "markdown",
   "id": "0464f583-ee87-4c7a-8382-b324e5571390",
   "metadata": {},
   "source": [
    "# 算法原理"
   ]
  },
  {
   "cell_type": "markdown",
   "id": "bc4cabfb-0dc5-4d4a-99ef-d2bd033e5998",
   "metadata": {},
   "source": [
    "1．提升方法是将弱学习算法提升为强学习算法的统计学习方法。在分类学习中，提升方法通过反复修改训练数据的权值分布，构建一系列基本分类器（弱分类器），并将这些基本分类器线性组合，构成一个强分类器。代表性的提升方法是AdaBoost算法。\n",
    "\n",
    "AdaBoost模型是弱分类器的线性组合：\n",
    "\n",
    "$$f(x)=\\sum_{m=1}^{M} \\alpha_{m} G_{m}(x)$$\n",
    "\n",
    "2．AdaBoost算法的特点是通过迭代每次学习一个基本分类器。每次迭代中，提高那些被前一轮分类器错误分类数据的权值，而降低那些被正确分类的数据的权值。最后，AdaBoost将基本分类器的线性组合作为强分类器，其中给分类误差率小的基本分类器以大的权值，给分类误差率大的基本分类器以小的权值。\n",
    "\n",
    "3．AdaBoost的训练误差分析表明，AdaBoost的每次迭代可以减少它在训练数据集上的分类误差率，这说明了它作为提升方法的有效性。\n",
    "\n",
    "4．AdaBoost算法的一个解释是该算法实际是前向分步算法的一个实现。在这个方法里，模型是加法模型，损失函数是指数损失，算法是前向分步算法。\n",
    "每一步中极小化损失函数\n",
    "\n",
    "$$\\left(\\beta_{m}, \\gamma_{m}\\right)=\\arg \\min _{\\beta, \\gamma} \\sum_{i=1}^{N} L\\left(y_{i}, f_{m-1}\\left(x_{i}\\right)+\\beta b\\left(x_{i} ; \\gamma\\right)\\right)$$\n",
    "\n",
    "得 到 参 数$\\beta_{m}, \\gamma_{m}$。\n",
    "\n",
    "5．提升树是以分类树或回归树为基本分类器的提升方法。提升树被认为是统计学习中最有效的方法之一。\n"
   ]
  },
  {
   "cell_type": "markdown",
   "id": "34ebceae-f777-4e29-a0b2-5ce1b0df19f3",
   "metadata": {},
   "source": [
    "Boost\n",
    "\n",
    "“装袋”（bagging）和“提升”（boost）是构建组合模型的两种最主要的方法，所谓的组合模型是由多个基本模型构成的模型，组合模型的预测效果往往比任意一个基本模型的效果都要好。\n",
    "\n",
    "- 装袋：每个基本模型由从总体样本中随机抽样得到的不同数据集进行训练得到，通过重抽样得到不同训练数据集的过程称为装袋。\n",
    "\n",
    "- 提升：每个基本模型训练时的数据集采用不同权重，针对上一个基本模型分类错误的样本增加权重，使得新的模型重点关注误分类样本\n",
    "\n",
    "AdaBoost\n",
    "\n",
    "AdaBoost是AdaptiveBoost的缩写，表明该算法是具有适应性的提升算法。\n",
    "\n",
    "算法的步骤如下：\n",
    "\n",
    "1）给每个训练样本（$x_{1},x_{2},….,x_{N}$）分配权重，初始权重$w_{1}$均为1/N。\n",
    "\n",
    "2）针对带有权值的样本进行训练，得到模型$G_m$（初始模型为G1）。\n",
    "\n",
    "3）计算模型$G_m$的误分率$e_m=\\sum_{i=1}^Nw_iI(y_i\\not= G_m(x_i))$\n",
    "\n",
    "4）计算模型$G_m$的系数$\\alpha_m=0.5\\log[(1-e_m)/e_m]$\n",
    "\n",
    "5）根据误分率e和当前权重向量$w_m$更新权重向量$w_{m+1}$。\n",
    "\n",
    "6）计算组合模型$f(x)=\\sum_{m=1}^M\\alpha_mG_m(x_i)$的误分率。\n",
    "\n",
    "7）当组合模型的误分率或迭代次数低于一定阈值，停止迭代；否则，回到步骤2）"
   ]
  },
  {
   "cell_type": "markdown",
   "id": "8b7bbab1-a007-4423-98ce-d80f4a722e6c",
   "metadata": {},
   "source": [
    "# 数据准备"
   ]
  },
  {
   "cell_type": "code",
   "execution_count": 1,
   "id": "98c4c761-01e3-4a09-988f-b70e55a0d3c6",
   "metadata": {
    "execution": {
     "iopub.execute_input": "2024-04-23T10:52:39.291102Z",
     "iopub.status.busy": "2024-04-23T10:52:39.288146Z",
     "iopub.status.idle": "2024-04-23T10:52:40.749526Z",
     "shell.execute_reply": "2024-04-23T10:52:40.744934Z",
     "shell.execute_reply.started": "2024-04-23T10:52:39.291102Z"
    }
   },
   "outputs": [],
   "source": [
    "import pandas as pd\n",
    "import numpy as np\n",
    "from sklearn.model_selection import GridSearchCV\n",
    "from sklearn.model_selection import train_test_split\n",
    "from sklearn.ensemble import AdaBoostClassifier\n",
    "from sklearn.metrics import accuracy_score, classification_report\n",
    "from sklearn.metrics import roc_auc_score"
   ]
  },
  {
   "cell_type": "code",
   "execution_count": 2,
   "id": "cd8414da-83eb-4fa5-9305-69799892f7a5",
   "metadata": {
    "execution": {
     "iopub.execute_input": "2024-04-23T10:52:40.911345Z",
     "iopub.status.busy": "2024-04-23T10:52:40.908346Z",
     "iopub.status.idle": "2024-04-23T10:52:40.942884Z",
     "shell.execute_reply": "2024-04-23T10:52:40.941875Z",
     "shell.execute_reply.started": "2024-04-23T10:52:40.911345Z"
    }
   },
   "outputs": [
    {
     "name": "stdout",
     "output_type": "stream",
     "text": [
      "   Sepal.Length  Sepal.Width  Petal.Length  Petal.Width Species\n",
      "0           5.1          3.5           1.4          0.2  setosa\n",
      "1           4.9          3.0           1.4          0.2  setosa\n",
      "2           4.7          3.2           1.3          0.2  setosa\n",
      "3           4.6          3.1           1.5          0.2  setosa\n",
      "4           5.0          3.6           1.4          0.2  setosa\n"
     ]
    }
   ],
   "source": [
    "#读取数据\n",
    "data = pd.read_csv(\"../data/iris.csv\")\n",
    "print(data.head())"
   ]
  },
  {
   "cell_type": "code",
   "execution_count": 3,
   "id": "5dc79182-a7d4-4fde-ab38-46a629db8c07",
   "metadata": {
    "execution": {
     "iopub.execute_input": "2024-04-23T10:52:41.643280Z",
     "iopub.status.busy": "2024-04-23T10:52:41.641037Z",
     "iopub.status.idle": "2024-04-23T10:52:41.685993Z",
     "shell.execute_reply": "2024-04-23T10:52:41.681842Z",
     "shell.execute_reply.started": "2024-04-23T10:52:41.643280Z"
    }
   },
   "outputs": [],
   "source": [
    "#准备数据\n",
    "data = data.dropna()\n",
    "y = data['Species'].apply(lambda x: 1 if x == 'setosa' else 2 if x == 'versicolor' else 3)\n",
    "x = data.drop(['Species'],axis=1).astype('float64')\n",
    "\n",
    "# 训练集、测试集划分\n",
    "x_train,x_test,y_train,y_test = train_test_split(x,y,test_size=0.25,random_state= 42)"
   ]
  },
  {
   "cell_type": "markdown",
   "id": "94a7223f-0a06-406f-9229-f7374e499520",
   "metadata": {},
   "source": [
    "# 模型训练"
   ]
  },
  {
   "cell_type": "code",
   "execution_count": 4,
   "id": "5e2a7af1-71cd-4f96-a73a-2c48e3c96f5f",
   "metadata": {
    "execution": {
     "iopub.execute_input": "2024-04-23T10:52:42.789192Z",
     "iopub.status.busy": "2024-04-23T10:52:42.787848Z",
     "iopub.status.idle": "2024-04-23T10:52:50.623776Z",
     "shell.execute_reply": "2024-04-23T10:52:50.622796Z",
     "shell.execute_reply.started": "2024-04-23T10:52:42.789192Z"
    }
   },
   "outputs": [
    {
     "name": "stdout",
     "output_type": "stream",
     "text": [
      "AdaBoost params: AdaBoostClassifier(algorithm='SAMME', learning_rate=0.1, n_estimators=100)\n"
     ]
    }
   ],
   "source": [
    "# 分类模型、参数\n",
    "model = AdaBoostClassifier(algorithm='SAMME')\n",
    "param_grid = {'n_estimators': [50, 100, 150], 'learning_rate': [0.1, 0.001, 0.005]}\n",
    "\n",
    "# GridSearchCV优化参数、训练模型\n",
    "gsearch = GridSearchCV(model, param_grid)\n",
    "model = gsearch.fit(x_train, y_train)\n",
    "\n",
    "# 打印最优结果\n",
    "print('AdaBoost params:', model.best_estimator_)"
   ]
  },
  {
   "cell_type": "markdown",
   "id": "72258b9a-d2ac-42ba-ad9a-331dbb33d4d8",
   "metadata": {},
   "source": [
    "# 模型保存"
   ]
  },
  {
   "cell_type": "code",
   "execution_count": 5,
   "id": "1ad53316-8752-4743-941f-791416809c86",
   "metadata": {
    "execution": {
     "iopub.execute_input": "2024-04-23T10:53:20.557319Z",
     "iopub.status.busy": "2024-04-23T10:53:20.556319Z",
     "iopub.status.idle": "2024-04-23T10:53:20.681654Z",
     "shell.execute_reply": "2024-04-23T10:53:20.681654Z",
     "shell.execute_reply.started": "2024-04-23T10:53:20.557319Z"
    }
   },
   "outputs": [],
   "source": [
    "# 法一\n",
    "import joblib\n",
    "\n",
    "# 保存模型\n",
    "joblib.dump(model, '../test/best_models/ab.pkl')\n",
    "\n",
    "# 加载模型\n",
    "model = joblib.load('../test/best_models/ab.pkl')"
   ]
  },
  {
   "cell_type": "code",
   "execution_count": 6,
   "id": "1547d36a-fb1b-4358-b475-81ac6af36711",
   "metadata": {
    "execution": {
     "iopub.execute_input": "2024-04-23T10:53:21.203925Z",
     "iopub.status.busy": "2024-04-23T10:53:21.200865Z",
     "iopub.status.idle": "2024-04-23T10:53:21.236066Z",
     "shell.execute_reply": "2024-04-23T10:53:21.235719Z",
     "shell.execute_reply.started": "2024-04-23T10:53:21.203925Z"
    }
   },
   "outputs": [],
   "source": [
    "# 法二\n",
    "import pickle\n",
    "\n",
    "with open('../test/best_models/ab.pkl', 'wb') as f:\n",
    "    pickle.dump(model, f)\n",
    " \n",
    "#读取Model\n",
    "with open('../test/best_models/ab.pkl', 'rb') as f:\n",
    "    model = pickle.load(f)"
   ]
  },
  {
   "cell_type": "markdown",
   "id": "36959dd7-ac39-4f0f-8dd5-c89ebd5a778f",
   "metadata": {},
   "source": [
    "# 模型预测"
   ]
  },
  {
   "cell_type": "code",
   "execution_count": 7,
   "id": "8cd46e88-1381-4a67-b072-6e8ea26ae5a6",
   "metadata": {
    "execution": {
     "iopub.execute_input": "2024-04-23T10:53:22.279386Z",
     "iopub.status.busy": "2024-04-23T10:53:22.277400Z",
     "iopub.status.idle": "2024-04-23T10:53:22.316974Z",
     "shell.execute_reply": "2024-04-23T10:53:22.316110Z",
     "shell.execute_reply.started": "2024-04-23T10:53:22.279386Z"
    }
   },
   "outputs": [],
   "source": [
    "prediction = model.predict(x_test)"
   ]
  },
  {
   "cell_type": "code",
   "execution_count": 8,
   "id": "5e7f6840-c925-4fd5-86af-c834576b17e0",
   "metadata": {
    "execution": {
     "iopub.execute_input": "2024-04-23T10:53:22.781432Z",
     "iopub.status.busy": "2024-04-23T10:53:22.779433Z",
     "iopub.status.idle": "2024-04-23T10:53:22.801847Z",
     "shell.execute_reply": "2024-04-23T10:53:22.799129Z",
     "shell.execute_reply.started": "2024-04-23T10:53:22.781432Z"
    }
   },
   "outputs": [
    {
     "name": "stdout",
     "output_type": "stream",
     "text": [
      "acc为： 1.0\n"
     ]
    }
   ],
   "source": [
    "# 计算准确率\n",
    "acc = accuracy_score(y_test, prediction)\n",
    "print(\"acc为：\", acc)"
   ]
  },
  {
   "cell_type": "code",
   "execution_count": 9,
   "id": "66d6ea6a-b8b0-4132-b1c6-9f14ae8577fa",
   "metadata": {
    "execution": {
     "iopub.execute_input": "2024-04-23T10:53:23.412029Z",
     "iopub.status.busy": "2024-04-23T10:53:23.409871Z",
     "iopub.status.idle": "2024-04-23T10:53:23.488681Z",
     "shell.execute_reply": "2024-04-23T10:53:23.486839Z",
     "shell.execute_reply.started": "2024-04-23T10:53:23.412029Z"
    }
   },
   "outputs": [
    {
     "name": "stdout",
     "output_type": "stream",
     "text": [
      "              precision    recall  f1-score   support\n",
      "\n",
      "           1       1.00      1.00      1.00        15\n",
      "           2       1.00      1.00      1.00        11\n",
      "           3       1.00      1.00      1.00        12\n",
      "\n",
      "    accuracy                           1.00        38\n",
      "   macro avg       1.00      1.00      1.00        38\n",
      "weighted avg       1.00      1.00      1.00        38\n",
      "\n"
     ]
    }
   ],
   "source": [
    "print(classification_report(y_test, prediction))"
   ]
  },
  {
   "cell_type": "code",
   "execution_count": null,
   "id": "b9d60958-176e-4f34-b6b6-92b7c7598772",
   "metadata": {},
   "outputs": [],
   "source": []
  }
 ],
 "metadata": {
  "kernelspec": {
   "display_name": "Python 3 (ipykernel)",
   "language": "python",
   "name": "python3"
  },
  "language_info": {
   "codemirror_mode": {
    "name": "ipython",
    "version": 3
   },
   "file_extension": ".py",
   "mimetype": "text/x-python",
   "name": "python",
   "nbconvert_exporter": "python",
   "pygments_lexer": "ipython3",
   "version": "3.9.18"
  }
 },
 "nbformat": 4,
 "nbformat_minor": 5
}
