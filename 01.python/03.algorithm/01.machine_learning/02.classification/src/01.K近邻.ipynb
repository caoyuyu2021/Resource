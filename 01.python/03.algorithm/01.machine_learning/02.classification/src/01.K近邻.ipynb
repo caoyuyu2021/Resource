{
 "cells": [
  {
   "cell_type": "markdown",
   "id": "0464f583-ee87-4c7a-8382-b324e5571390",
   "metadata": {},
   "source": [
    "# 算法原理"
   ]
  },
  {
   "cell_type": "markdown",
   "id": "bc4cabfb-0dc5-4d4a-99ef-d2bd033e5998",
   "metadata": {},
   "source": [
    "1．$k$近邻法是基本且简单的分类与回归方法。$k$近邻法的基本做法是：对给定的训练实例点和输入实例点，首先确定输入实例点的$k$个最近邻训练实例点，然后利用这$k$个训练实例点的类的多数来预测输入实例点的类。\n",
    "\n",
    "2．$k$近邻模型对应于基于训练数据集对特征空间的一个划分。$k$近邻法中，当训练集、距离度量、$k$值及分类决策规则确定后，其结果唯一确定。\n",
    "\n",
    "3．$k$近邻法三要素：距离度量、$k$值的选择和分类决策规则。常用的距离度量是欧氏距离及更一般的**pL**距离。$k$值小时，$k$近邻模型更复杂；$k$值大时，$k$近邻模型更简单。$k$值的选择反映了对近似误差与估计误差之间的权衡，通常由交叉验证选择最优的$k$。\n",
    "\n",
    "常用的分类决策规则是多数表决，对应于经验风险最小化。\n",
    "\n",
    "4．$k$近邻法的实现需要考虑如何快速搜索k个最近邻点。**kd**树是一种便于对k维空间中的数据进行快速检索的数据结构。kd树是二叉树，表示对$k$维空间的一个划分，其每个结点对应于$k$维空间划分中的一个超矩形区域。利用**kd**树可以省去对大部分数据点的搜索， 从而减少搜索的计算量。"
   ]
  },
  {
   "cell_type": "markdown",
   "id": "97423d2e-22a6-4356-9416-c1d3698f5a2c",
   "metadata": {},
   "source": [
    "设特征空间$x$是$n$维实数向量空间 ，$x_{i}, x_{j} \\in \\mathcal{X}$,$x_{i}=\\left(x_{i}^{(1)}, x_{i}^{(2)}, \\cdots, x_{i}^{(n)}\\right)^{\\mathrm{T}}$,$x_{j}=\\left(x_{j}^{(1)}, x_{j}^{(2)}, \\cdots, x_{j}^{(n)}\\right)^{\\mathrm{T}}$\n",
    "，则：$x_i$,$x_j$的$L_p$距离定义为:\n",
    "\n",
    "\n",
    "$L_{p}\\left(x_{i}, x_{j}\\right)=\\left(\\sum_{i=1}^{n}\\left|x_{i}^{(i)}-x_{j}^{(l)}\\right|^{p}\\right)^{\\frac{1}{p}}$\n",
    "\n",
    "- $p= 1$  曼哈顿距离\n",
    "- $p= 2$  欧氏距离\n",
    "- $p= \\infty$   切比雪夫距离"
   ]
  },
  {
   "cell_type": "markdown",
   "id": "049517d2-74ea-49e2-b0f2-790a9c6d6d3a",
   "metadata": {},
   "source": [
    "**kd**树是一种对k维空间中的实例点进行存储以便对其进行快速检索的树形数据结构。\n",
    "\n",
    "**kd**树是二叉树，表示对$k$维空间的一个划分（partition）。构造**kd**树相当于不断地用垂直于坐标轴的超平面将$k$维空间切分，构成一系列的k维超矩形区域。kd树的每个结点对应于一个$k$维超矩形区域。\n",
    "\n",
    "构造**kd**树的方法如下：\n",
    "\n",
    "构造根结点，使根结点对应于$k$维空间中包含所有实例点的超矩形区域；通过下面的递归方法，不断地对$k$维空间进行切分，生成子结点。在超矩形区域（结点）上选择一个坐标轴和在此坐标轴上的一个切分点，确定一个超平面，这个超平面通过选定的切分点并垂直于选定的坐标轴，将当前超矩形区域切分为左右两个子区域\n",
    "（子结点）；这时，实例被分到两个子区域。这个过程直到子区域内没有实例时终止（终止时的结点为叶结点）。在此过程中，将实例保存在相应的结点上。\n",
    "\n",
    "通常，依次选择坐标轴对空间切分，选择训练实例点在选定坐标轴上的中位数\n",
    "（median）为切分点，这样得到的**kd**树是平衡的。注意，平衡的**kd**树搜索时的效率未必是最优的。\n"
   ]
  },
  {
   "cell_type": "markdown",
   "id": "8b7bbab1-a007-4423-98ce-d80f4a722e6c",
   "metadata": {},
   "source": [
    "# 数据准备"
   ]
  },
  {
   "cell_type": "code",
   "execution_count": 1,
   "id": "98c4c761-01e3-4a09-988f-b70e55a0d3c6",
   "metadata": {
    "execution": {
     "iopub.execute_input": "2024-04-24T07:20:10.326149Z",
     "iopub.status.busy": "2024-04-24T07:20:10.323755Z",
     "iopub.status.idle": "2024-04-24T07:20:12.446760Z",
     "shell.execute_reply": "2024-04-24T07:20:12.443864Z",
     "shell.execute_reply.started": "2024-04-24T07:20:10.325992Z"
    }
   },
   "outputs": [],
   "source": [
    "import pandas as pd\n",
    "import numpy as np\n",
    "from sklearn.model_selection import GridSearchCV\n",
    "from sklearn.model_selection import train_test_split\n",
    "from sklearn.neighbors import KNeighborsClassifier\n",
    "from sklearn.metrics import accuracy_score, classification_report\n",
    "from sklearn.metrics import roc_auc_score"
   ]
  },
  {
   "cell_type": "code",
   "execution_count": 2,
   "id": "cd8414da-83eb-4fa5-9305-69799892f7a5",
   "metadata": {
    "execution": {
     "iopub.execute_input": "2024-04-24T07:20:12.926579Z",
     "iopub.status.busy": "2024-04-24T07:20:12.921848Z",
     "iopub.status.idle": "2024-04-24T07:20:12.984280Z",
     "shell.execute_reply": "2024-04-24T07:20:12.982272Z",
     "shell.execute_reply.started": "2024-04-24T07:20:12.926579Z"
    }
   },
   "outputs": [
    {
     "name": "stdout",
     "output_type": "stream",
     "text": [
      "   Sepal.Length  Sepal.Width  Petal.Length  Petal.Width Species\n",
      "0           5.1          3.5           1.4          0.2  setosa\n",
      "1           4.9          3.0           1.4          0.2  setosa\n",
      "2           4.7          3.2           1.3          0.2  setosa\n",
      "3           4.6          3.1           1.5          0.2  setosa\n",
      "4           5.0          3.6           1.4          0.2  setosa\n"
     ]
    }
   ],
   "source": [
    "#读取数据\n",
    "data = pd.read_csv(\"../data/iris.csv\")\n",
    "print(data.head())"
   ]
  },
  {
   "cell_type": "code",
   "execution_count": 3,
   "id": "5dc79182-a7d4-4fde-ab38-46a629db8c07",
   "metadata": {
    "execution": {
     "iopub.execute_input": "2024-04-24T07:20:13.803488Z",
     "iopub.status.busy": "2024-04-24T07:20:13.802402Z",
     "iopub.status.idle": "2024-04-24T07:20:13.823895Z",
     "shell.execute_reply": "2024-04-24T07:20:13.821858Z",
     "shell.execute_reply.started": "2024-04-24T07:20:13.803488Z"
    }
   },
   "outputs": [],
   "source": [
    "#准备数据\n",
    "data = data.dropna()\n",
    "y = data['Species'].apply(lambda x: 1 if x == 'setosa' else 2 if x == 'versicolor' else 3)\n",
    "x = data.drop(['Species'],axis=1).astype('float64')\n",
    "\n",
    "# 训练集、测试集划分\n",
    "x_train,x_test,y_train,y_test = train_test_split(x,y,test_size=0.25,random_state= 42)"
   ]
  },
  {
   "cell_type": "markdown",
   "id": "94a7223f-0a06-406f-9229-f7374e499520",
   "metadata": {},
   "source": [
    "# 模型训练"
   ]
  },
  {
   "cell_type": "code",
   "execution_count": 4,
   "id": "5e2a7af1-71cd-4f96-a73a-2c48e3c96f5f",
   "metadata": {
    "execution": {
     "iopub.execute_input": "2024-04-24T07:20:15.657520Z",
     "iopub.status.busy": "2024-04-24T07:20:15.655572Z",
     "iopub.status.idle": "2024-04-24T07:20:15.872302Z",
     "shell.execute_reply": "2024-04-24T07:20:15.871303Z",
     "shell.execute_reply.started": "2024-04-24T07:20:15.657520Z"
    }
   },
   "outputs": [
    {
     "name": "stdout",
     "output_type": "stream",
     "text": [
      "KNN params: KNeighborsClassifier(n_neighbors=4)\n"
     ]
    }
   ],
   "source": [
    "# 分类模型、参数\n",
    "model = KNeighborsClassifier()\n",
    "param_grid = {'n_neighbors': [2, 3, 4]}\n",
    "\n",
    "#GridSearchCV优化参数、训练模型\n",
    "gsearch = GridSearchCV(model, param_grid)\n",
    "model = gsearch.fit(x_train, y_train)\n",
    "\n",
    "#打印最优结果\n",
    "print('KNN params:', model.best_estimator_)"
   ]
  },
  {
   "cell_type": "markdown",
   "id": "ee435dc6-5444-49e4-8198-ae1e60f635e0",
   "metadata": {},
   "source": [
    "# 模型保存"
   ]
  },
  {
   "cell_type": "code",
   "execution_count": 5,
   "id": "0a1d6e82-d8e0-43df-9004-ca54166d4552",
   "metadata": {
    "execution": {
     "iopub.execute_input": "2024-04-23T10:54:20.181913Z",
     "iopub.status.busy": "2024-04-23T10:54:20.177922Z",
     "iopub.status.idle": "2024-04-23T10:54:20.227139Z",
     "shell.execute_reply": "2024-04-23T10:54:20.226014Z",
     "shell.execute_reply.started": "2024-04-23T10:54:20.181913Z"
    }
   },
   "outputs": [],
   "source": [
    "# 法一\n",
    "import joblib\n",
    "\n",
    "# 保存模型\n",
    "joblib.dump(model, '../test/best_models/knn.pkl')\n",
    "\n",
    "# 加载模型\n",
    "model = joblib.load('../test/best_models/knn.pkl')"
   ]
  },
  {
   "cell_type": "code",
   "execution_count": 6,
   "id": "80208c98-0b0e-467a-96e0-10d3fd9c6ca0",
   "metadata": {
    "execution": {
     "iopub.execute_input": "2024-04-23T10:54:20.749432Z",
     "iopub.status.busy": "2024-04-23T10:54:20.747151Z",
     "iopub.status.idle": "2024-04-23T10:54:20.812055Z",
     "shell.execute_reply": "2024-04-23T10:54:20.810763Z",
     "shell.execute_reply.started": "2024-04-23T10:54:20.749432Z"
    }
   },
   "outputs": [],
   "source": [
    "# 法二\n",
    "import pickle\n",
    "\n",
    "with open('../test/best_models/knn.pkl', 'wb') as f:\n",
    "    pickle.dump(model, f)\n",
    "    \n",
    "#读取Model\n",
    "with open('../test/best_models/knn.pkl', 'rb') as f:\n",
    "    model = pickle.load(f)"
   ]
  },
  {
   "cell_type": "markdown",
   "id": "36959dd7-ac39-4f0f-8dd5-c89ebd5a778f",
   "metadata": {},
   "source": [
    "# 模型预测"
   ]
  },
  {
   "cell_type": "code",
   "execution_count": 5,
   "id": "8cd46e88-1381-4a67-b072-6e8ea26ae5a6",
   "metadata": {
    "execution": {
     "iopub.execute_input": "2024-04-24T07:20:21.935032Z",
     "iopub.status.busy": "2024-04-24T07:20:21.932051Z",
     "iopub.status.idle": "2024-04-24T07:20:21.972712Z",
     "shell.execute_reply": "2024-04-24T07:20:21.971835Z",
     "shell.execute_reply.started": "2024-04-24T07:20:21.934033Z"
    }
   },
   "outputs": [],
   "source": [
    "prediction = model.predict(x_test)"
   ]
  },
  {
   "cell_type": "code",
   "execution_count": 6,
   "id": "5e7f6840-c925-4fd5-86af-c834576b17e0",
   "metadata": {
    "execution": {
     "iopub.execute_input": "2024-04-24T07:20:23.097051Z",
     "iopub.status.busy": "2024-04-24T07:20:23.095099Z",
     "iopub.status.idle": "2024-04-24T07:20:23.123759Z",
     "shell.execute_reply": "2024-04-24T07:20:23.121794Z",
     "shell.execute_reply.started": "2024-04-24T07:20:23.097051Z"
    }
   },
   "outputs": [
    {
     "name": "stdout",
     "output_type": "stream",
     "text": [
      "acc为： 1.0\n"
     ]
    }
   ],
   "source": [
    "# 计算准确率\n",
    "acc = accuracy_score(y_test, prediction)\n",
    "print(\"acc为：\", acc)"
   ]
  },
  {
   "cell_type": "code",
   "execution_count": 7,
   "id": "66d6ea6a-b8b0-4132-b1c6-9f14ae8577fa",
   "metadata": {
    "execution": {
     "iopub.execute_input": "2024-04-24T07:20:23.837228Z",
     "iopub.status.busy": "2024-04-24T07:20:23.835543Z",
     "iopub.status.idle": "2024-04-24T07:20:23.909972Z",
     "shell.execute_reply": "2024-04-24T07:20:23.906693Z",
     "shell.execute_reply.started": "2024-04-24T07:20:23.837228Z"
    }
   },
   "outputs": [
    {
     "name": "stdout",
     "output_type": "stream",
     "text": [
      "              precision    recall  f1-score   support\n",
      "\n",
      "           1       1.00      1.00      1.00        15\n",
      "           2       1.00      1.00      1.00        11\n",
      "           3       1.00      1.00      1.00        12\n",
      "\n",
      "    accuracy                           1.00        38\n",
      "   macro avg       1.00      1.00      1.00        38\n",
      "weighted avg       1.00      1.00      1.00        38\n",
      "\n"
     ]
    }
   ],
   "source": [
    "print(classification_report(y_test, prediction))"
   ]
  },
  {
   "cell_type": "code",
   "execution_count": null,
   "id": "ff1ee3ad-70e1-43fc-9b6d-ba6abc66cdcd",
   "metadata": {},
   "outputs": [],
   "source": []
  },
  {
   "cell_type": "code",
   "execution_count": null,
   "id": "b9d60958-176e-4f34-b6b6-92b7c7598772",
   "metadata": {},
   "outputs": [],
   "source": []
  }
 ],
 "metadata": {
  "hide_input": false,
  "kernelspec": {
   "display_name": "Python 3 (ipykernel)",
   "language": "python",
   "name": "python3"
  },
  "language_info": {
   "codemirror_mode": {
    "name": "ipython",
    "version": 3
   },
   "file_extension": ".py",
   "mimetype": "text/x-python",
   "name": "python",
   "nbconvert_exporter": "python",
   "pygments_lexer": "ipython3",
   "version": "3.11.5"
  },
  "toc": {
   "base_numbering": 1,
   "nav_menu": {},
   "number_sections": true,
   "sideBar": true,
   "skip_h1_title": false,
   "title_cell": "Table of Contents",
   "title_sidebar": "Contents",
   "toc_cell": false,
   "toc_position": {
    "height": "calc(100% - 180px)",
    "left": "10px",
    "top": "150px",
    "width": "227.667px"
   },
   "toc_section_display": true,
   "toc_window_display": true
  },
  "varInspector": {
   "cols": {
    "lenName": 16,
    "lenType": 16,
    "lenVar": 40
   },
   "kernels_config": {
    "python": {
     "delete_cmd_postfix": "",
     "delete_cmd_prefix": "del ",
     "library": "var_list.py",
     "varRefreshCmd": "print(var_dic_list())"
    },
    "r": {
     "delete_cmd_postfix": ") ",
     "delete_cmd_prefix": "rm(",
     "library": "var_list.r",
     "varRefreshCmd": "cat(var_dic_list()) "
    }
   },
   "types_to_exclude": [
    "module",
    "function",
    "builtin_function_or_method",
    "instance",
    "_Feature"
   ],
   "window_display": false
  }
 },
 "nbformat": 4,
 "nbformat_minor": 5
}
