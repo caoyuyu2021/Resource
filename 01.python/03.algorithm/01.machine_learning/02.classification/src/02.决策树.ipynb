{
 "cells": [
  {
   "cell_type": "markdown",
   "id": "0464f583-ee87-4c7a-8382-b324e5571390",
   "metadata": {},
   "source": [
    "# 算法原理"
   ]
  },
  {
   "cell_type": "markdown",
   "id": "bc4cabfb-0dc5-4d4a-99ef-d2bd033e5998",
   "metadata": {},
   "source": [
    "1．分类决策树模型是表示基于特征对实例进行分类的树形结构。决策树可以转换成一个**if-then**规则的集合，也可以看作是定义在特征空间划分上的类的条件概率分布。\n",
    "\n",
    "2．决策树学习旨在构建一个与训练数据拟合很好，并且复杂度小的决策树。因为从可能的决策树中直接选取最优决策树是NP完全问题。现实中采用启发式方法学习次优的决策树。\n",
    "\n",
    "决策树学习算法包括3部分：特征选择、树的生成和树的剪枝。常用的算法有ID3、\n",
    "C4.5和CART。\n",
    "\n",
    "3．特征选择的目的在于选取对训练数据能够分类的特征。特征选择的关键是其准则。常用的准则如下：\n",
    "\n",
    "（1）样本集合$D$对特征$A$的信息增益（ID3）\n",
    "\n",
    "\n",
    "$$g(D, A)=H(D)-H(D|A)$$\n",
    "\n",
    "$$H(D)=-\\sum_{k=1}^{K} \\frac{\\left|C_{k}\\right|}{|D|} \\log _{2} \\frac{\\left|C_{k}\\right|}{|D|}$$\n",
    "\n",
    "$$H(D | A)=\\sum_{i=1}^{n} \\frac{\\left|D_{i}\\right|}{|D|} H\\left(D_{i}\\right)$$\n",
    "\n",
    "其中，$H(D)$是数据集$D$的熵，$H(D_i)$是数据集$D_i$的熵，$H(D|A)$是数据集$D$对特征$A$的条件熵。\t$D_i$是$D$中特征$A$取第$i$个值的样本子集，$C_k$是$D$中属于第$k$类的样本子集。$n$是特征$A$取 值的个数，$K$是类的个数。\n",
    "\n",
    "（2）样本集合$D$对特征$A$的信息增益比（C4.5）\n",
    "\n",
    "\n",
    "$$g_{R}(D, A)=\\frac{g(D, A)}{H(D)}$$\n",
    "\n",
    "\n",
    "其中，$g(D,A)$是信息增益，$H(D)$是数据集$D$的熵。\n",
    "\n",
    "（3）样本集合$D$的基尼指数（CART）\n",
    "\n",
    "$$\\operatorname{Gini}(D)=1-\\sum_{k=1}^{K}\\left(\\frac{\\left|C_{k}\\right|}{|D|}\\right)^{2}$$\n",
    "\n",
    "特征$A$条件下集合$D$的基尼指数：\n",
    "\n",
    " $$\\operatorname{Gini}(D, A)=\\frac{\\left|D_{1}\\right|}{|D|} \\operatorname{Gini}\\left(D_{1}\\right)+\\frac{\\left|D_{2}\\right|}{|D|} \\operatorname{Gini}\\left(D_{2}\\right)$$\n",
    " \n",
    "4．决策树的生成。通常使用信息增益最大、信息增益比最大或基尼指数最小作为特征选择的准则。决策树的生成往往通过计算信息增益或其他指标，从根结点开始，递归地产生决策树。这相当于用信息增益或其他准则不断地选取局部最优的特征，或将训练集分割为能够基本正确分类的子集。\n",
    "\n",
    "5．决策树的剪枝。由于生成的决策树存在过拟合问题，需要对它进行剪枝，以简化学到的决策树。决策树的剪枝，往往从已生成的树上剪掉一些叶结点或叶结点以上的子树，并将其父结点或根结点作为新的叶结点，从而简化生成的决策树。\n"
   ]
  },
  {
   "cell_type": "markdown",
   "id": "8b7bbab1-a007-4423-98ce-d80f4a722e6c",
   "metadata": {},
   "source": [
    "# 数据准备"
   ]
  },
  {
   "cell_type": "code",
   "execution_count": 1,
   "id": "98c4c761-01e3-4a09-988f-b70e55a0d3c6",
   "metadata": {
    "execution": {
     "iopub.execute_input": "2024-04-25T07:38:11.007859Z",
     "iopub.status.busy": "2024-04-25T07:38:11.007295Z",
     "iopub.status.idle": "2024-04-25T07:38:12.927584Z",
     "shell.execute_reply": "2024-04-25T07:38:12.927584Z",
     "shell.execute_reply.started": "2024-04-25T07:38:11.007859Z"
    }
   },
   "outputs": [],
   "source": [
    "import pandas as pd\n",
    "import numpy as np\n",
    "import sklearn\n",
    "from sklearn.model_selection import GridSearchCV\n",
    "from sklearn.model_selection import train_test_split\n",
    "from sklearn.tree import DecisionTreeClassifier # 决策树\n",
    "from sklearn.metrics import accuracy_score, classification_report\n",
    "from sklearn.metrics import roc_auc_score\n",
    "import matplotlib.pyplot as plt"
   ]
  },
  {
   "cell_type": "code",
   "execution_count": 2,
   "id": "cd8414da-83eb-4fa5-9305-69799892f7a5",
   "metadata": {
    "execution": {
     "iopub.execute_input": "2024-04-25T07:38:12.930503Z",
     "iopub.status.busy": "2024-04-25T07:38:12.929507Z",
     "iopub.status.idle": "2024-04-25T07:38:12.969901Z",
     "shell.execute_reply": "2024-04-25T07:38:12.969340Z",
     "shell.execute_reply.started": "2024-04-25T07:38:12.930503Z"
    }
   },
   "outputs": [
    {
     "name": "stdout",
     "output_type": "stream",
     "text": [
      "   Sepal.Length  Sepal.Width  Petal.Length  Petal.Width Species\n",
      "0           5.1          3.5           1.4          0.2  setosa\n",
      "1           4.9          3.0           1.4          0.2  setosa\n",
      "2           4.7          3.2           1.3          0.2  setosa\n",
      "3           4.6          3.1           1.5          0.2  setosa\n",
      "4           5.0          3.6           1.4          0.2  setosa\n"
     ]
    }
   ],
   "source": [
    "#读取数据\n",
    "data = pd.read_csv(\"../data/iris.csv\")\n",
    "print(data.head())"
   ]
  },
  {
   "cell_type": "code",
   "execution_count": 3,
   "id": "5dc79182-a7d4-4fde-ab38-46a629db8c07",
   "metadata": {
    "execution": {
     "iopub.execute_input": "2024-04-25T07:38:12.972315Z",
     "iopub.status.busy": "2024-04-25T07:38:12.971314Z",
     "iopub.status.idle": "2024-04-25T07:38:12.986361Z",
     "shell.execute_reply": "2024-04-25T07:38:12.985372Z",
     "shell.execute_reply.started": "2024-04-25T07:38:12.972315Z"
    }
   },
   "outputs": [],
   "source": [
    "#准备数据\n",
    "data = data.dropna()\n",
    "y = data['Species'].apply(lambda x: 1 if x == 'setosa' else 2 if x == 'versicolor' else 3)\n",
    "x = data.drop(['Species'],axis=1).astype('float64')\n",
    "\n",
    "# 训练集、测试集划分\n",
    "x_train,x_test,y_train,y_test = train_test_split(x,y,test_size=0.25,random_state= 42)"
   ]
  },
  {
   "cell_type": "markdown",
   "id": "94a7223f-0a06-406f-9229-f7374e499520",
   "metadata": {},
   "source": [
    "# 模型训练"
   ]
  },
  {
   "cell_type": "code",
   "execution_count": 5,
   "id": "5e2a7af1-71cd-4f96-a73a-2c48e3c96f5f",
   "metadata": {
    "execution": {
     "iopub.execute_input": "2024-04-25T07:39:46.101863Z",
     "iopub.status.busy": "2024-04-25T07:39:46.101863Z",
     "iopub.status.idle": "2024-04-25T07:39:46.206010Z",
     "shell.execute_reply": "2024-04-25T07:39:46.204976Z",
     "shell.execute_reply.started": "2024-04-25T07:39:46.101863Z"
    }
   },
   "outputs": [
    {
     "name": "stdout",
     "output_type": "stream",
     "text": [
      "DecisionTree params: DecisionTreeClassifier(max_depth=10, random_state=0)\n"
     ]
    }
   ],
   "source": [
    "# 分类模型、参数\n",
    "model = DecisionTreeClassifier(random_state = 0)\n",
    "param_grid = {'max_depth': [5, 10, 15]}\n",
    "\n",
    "# GridSearchCV优化参数、训练模型，带交叉验证的网格搜索，默认为5折\n",
    "gsearch = GridSearchCV(model, param_grid, cv=5)\n",
    "model = gsearch.fit(x_train, y_train)\n",
    "\n",
    "# 打印最优结果\n",
    "print('DecisionTree params:', model.best_estimator_)"
   ]
  },
  {
   "cell_type": "code",
   "execution_count": 5,
   "id": "6a98b978-e7c8-4f60-b495-0d8e3a1dbeac",
   "metadata": {
    "execution": {
     "iopub.execute_input": "2024-04-23T13:11:35.781991Z",
     "iopub.status.busy": "2024-04-23T13:11:35.776769Z",
     "iopub.status.idle": "2024-04-23T13:11:35.815093Z",
     "shell.execute_reply": "2024-04-23T13:11:35.815093Z",
     "shell.execute_reply.started": "2024-04-23T13:11:35.781991Z"
    }
   },
   "outputs": [
    {
     "data": {
      "text/plain": [
       "array([0.        , 0.01787567, 0.41581891, 0.56630542])"
      ]
     },
     "execution_count": 5,
     "metadata": {},
     "output_type": "execute_result"
    }
   ],
   "source": [
    "dt = DecisionTreeClassifier(random_state = 0)\n",
    "dt.fit(x_train, y_train)\n",
    "dt.feature_importances_ # 特征重要性"
   ]
  },
  {
   "cell_type": "code",
   "execution_count": 9,
   "id": "c4d809e3-9592-4c88-9fae-c8b7b026290a",
   "metadata": {
    "execution": {
     "iopub.execute_input": "2024-04-23T13:12:12.622525Z",
     "iopub.status.busy": "2024-04-23T13:12:12.621152Z",
     "iopub.status.idle": "2024-04-23T13:12:12.818656Z",
     "shell.execute_reply": "2024-04-23T13:12:12.817723Z",
     "shell.execute_reply.started": "2024-04-23T13:12:12.622525Z"
    }
   },
   "outputs": [
    {
     "data": {
      "text/plain": [
       "Text(0, 0.5, 'Feature')"
      ]
     },
     "execution_count": 9,
     "metadata": {},
     "output_type": "execute_result"
    },
    {
     "data": {
      "image/png": "[encoded data removed]",
      "text/plain": [
       "<Figure size 640x480 with 1 Axes>"
      ]
     },
     "metadata": {},
     "output_type": "display_data"
    }
   ],
   "source": [
    "can = {n:v for n,v in zip(data.columns,dt.feature_importances_)}\n",
    "plt.barh(list(can.keys()),list(can.values()),align = 'center')\n",
    "plt.xlabel(\"Feature Importances\")\n",
    "plt.ylabel(\"Feature\")"
   ]
  },
  {
   "cell_type": "markdown",
   "id": "c6443cb8-b8c3-4edd-80a1-506c73603440",
   "metadata": {},
   "source": [
    "# 模型保存"
   ]
  },
  {
   "cell_type": "code",
   "execution_count": 5,
   "id": "fad0643b-762b-4f93-a255-c2cf09b62ac4",
   "metadata": {
    "execution": {
     "iopub.execute_input": "2024-04-23T10:47:11.666978Z",
     "iopub.status.busy": "2024-04-23T10:47:11.663980Z",
     "iopub.status.idle": "2024-04-23T10:47:11.704519Z",
     "shell.execute_reply": "2024-04-23T10:47:11.703476Z",
     "shell.execute_reply.started": "2024-04-23T10:47:11.666978Z"
    }
   },
   "outputs": [],
   "source": [
    "# 法一\n",
    "import joblib\n",
    "\n",
    "# 保存模型\n",
    "joblib.dump(model, '../test/best_models/dt.pkl')\n",
    "\n",
    "# 加载模型\n",
    "model = joblib.load('../test/best_models/dt.pkl')"
   ]
  },
  {
   "cell_type": "code",
   "execution_count": 6,
   "id": "387b998f-cf12-4526-ae90-18b1604e0cdc",
   "metadata": {
    "execution": {
     "iopub.execute_input": "2024-04-23T10:47:12.442103Z",
     "iopub.status.busy": "2024-04-23T10:47:12.439121Z",
     "iopub.status.idle": "2024-04-23T10:47:12.463742Z",
     "shell.execute_reply": "2024-04-23T10:47:12.462487Z",
     "shell.execute_reply.started": "2024-04-23T10:47:12.441109Z"
    }
   },
   "outputs": [],
   "source": [
    "# 法二\n",
    "import pickle\n",
    "\n",
    "with open('../test/best_models/dt.pkl', 'wb') as f:\n",
    "    pickle.dump(model, f)\n",
    "    \n",
    "# 读取Model\n",
    "with open('../test/best_models/dt.pkl', 'rb') as f:\n",
    "    model = pickle.load(f)"
   ]
  },
  {
   "cell_type": "markdown",
   "id": "36959dd7-ac39-4f0f-8dd5-c89ebd5a778f",
   "metadata": {},
   "source": [
    "# 模型预测"
   ]
  },
  {
   "cell_type": "code",
   "execution_count": 7,
   "id": "8cd46e88-1381-4a67-b072-6e8ea26ae5a6",
   "metadata": {
    "execution": {
     "iopub.execute_input": "2024-04-23T10:47:13.861702Z",
     "iopub.status.busy": "2024-04-23T10:47:13.859701Z",
     "iopub.status.idle": "2024-04-23T10:47:13.884664Z",
     "shell.execute_reply": "2024-04-23T10:47:13.881445Z",
     "shell.execute_reply.started": "2024-04-23T10:47:13.861702Z"
    }
   },
   "outputs": [],
   "source": [
    "prediction = model.predict(x_test)"
   ]
  },
  {
   "cell_type": "code",
   "execution_count": 8,
   "id": "5e7f6840-c925-4fd5-86af-c834576b17e0",
   "metadata": {
    "execution": {
     "iopub.execute_input": "2024-04-23T10:47:14.367632Z",
     "iopub.status.busy": "2024-04-23T10:47:14.365901Z",
     "iopub.status.idle": "2024-04-23T10:47:14.399843Z",
     "shell.execute_reply": "2024-04-23T10:47:14.398518Z",
     "shell.execute_reply.started": "2024-04-23T10:47:14.367632Z"
    }
   },
   "outputs": [
    {
     "name": "stdout",
     "output_type": "stream",
     "text": [
      "acc为： 1.0\n"
     ]
    }
   ],
   "source": [
    "# 计算准确率\n",
    "acc = accuracy_score(y_test, prediction)\n",
    "print(\"acc为：\", acc)"
   ]
  },
  {
   "cell_type": "code",
   "execution_count": 9,
   "id": "66d6ea6a-b8b0-4132-b1c6-9f14ae8577fa",
   "metadata": {
    "execution": {
     "iopub.execute_input": "2024-04-23T10:47:14.821328Z",
     "iopub.status.busy": "2024-04-23T10:47:14.818341Z",
     "iopub.status.idle": "2024-04-23T10:47:14.866037Z",
     "shell.execute_reply": "2024-04-23T10:47:14.865132Z",
     "shell.execute_reply.started": "2024-04-23T10:47:14.821328Z"
    }
   },
   "outputs": [
    {
     "name": "stdout",
     "output_type": "stream",
     "text": [
      "              precision    recall  f1-score   support\n",
      "\n",
      "           1       1.00      1.00      1.00        15\n",
      "           2       1.00      1.00      1.00        11\n",
      "           3       1.00      1.00      1.00        12\n",
      "\n",
      "    accuracy                           1.00        38\n",
      "   macro avg       1.00      1.00      1.00        38\n",
      "weighted avg       1.00      1.00      1.00        38\n",
      "\n"
     ]
    }
   ],
   "source": [
    "print(classification_report(y_test, prediction))"
   ]
  },
  {
   "cell_type": "code",
   "execution_count": null,
   "id": "b9d60958-176e-4f34-b6b6-92b7c7598772",
   "metadata": {},
   "outputs": [],
   "source": []
  }
 ],
 "metadata": {
  "hide_input": false,
  "kernelspec": {
   "display_name": "Python 3 (ipykernel)",
   "language": "python",
   "name": "python3"
  },
  "language_info": {
   "codemirror_mode": {
    "name": "ipython",
    "version": 3
   },
   "file_extension": ".py",
   "mimetype": "text/x-python",
   "name": "python",
   "nbconvert_exporter": "python",
   "pygments_lexer": "ipython3",
   "version": "3.11.5"
  },
  "toc": {
   "base_numbering": 1,
   "nav_menu": {},
   "number_sections": true,
   "sideBar": true,
   "skip_h1_title": false,
   "title_cell": "Table of Contents",
   "title_sidebar": "Contents",
   "toc_cell": false,
   "toc_position": {
    "height": "calc(100% - 180px)",
    "left": "10px",
    "top": "150px",
    "width": "230.667px"
   },
   "toc_section_display": true,
   "toc_window_display": true
  },
  "varInspector": {
   "cols": {
    "lenName": 16,
    "lenType": 16,
    "lenVar": 40
   },
   "kernels_config": {
    "python": {
     "delete_cmd_postfix": "",
     "delete_cmd_prefix": "del ",
     "library": "var_list.py",
     "varRefreshCmd": "print(var_dic_list())"
    },
    "r": {
     "delete_cmd_postfix": ") ",
     "delete_cmd_prefix": "rm(",
     "library": "var_list.r",
     "varRefreshCmd": "cat(var_dic_list()) "
    }
   },
   "types_to_exclude": [
    "module",
    "function",
    "builtin_function_or_method",
    "instance",
    "_Feature"
   ],
   "window_display": false
  }
 },
 "nbformat": 4,
 "nbformat_minor": 5
}
