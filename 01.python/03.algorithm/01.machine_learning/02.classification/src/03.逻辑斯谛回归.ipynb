{
 "cells": [
  {
   "cell_type": "markdown",
   "id": "0464f583-ee87-4c7a-8382-b324e5571390",
   "metadata": {},
   "source": [
    "# 算法原理"
   ]
  },
  {
   "cell_type": "markdown",
   "id": "bc4cabfb-0dc5-4d4a-99ef-d2bd033e5998",
   "metadata": {},
   "source": [
    "逻辑斯谛回归(LR)是经典的分类方法\n",
    "\n",
    "1．逻辑斯谛回归模型是由以下条件概率分布表示的分类模型。逻辑斯谛回归模型可以用于二类或多类分类。\n",
    "\n",
    "$$P(Y=k | x)=\\frac{\\exp \\left(w_{k} \\cdot x\\right)}{1+\\sum_{k=1}^{K-1} \\exp \\left(w_{k} \\cdot x\\right)}, \\quad k=1,2, \\cdots, K-1$$\n",
    "\n",
    "$$P(Y=K | x)=\\frac{1}{1+\\sum_{k=1}^{K-1} \\exp \\left(w_{k} \\cdot x\\right)}$$\n",
    "这里，$x$为输入特征，$w$为特征的权值。\n",
    "\n",
    "逻辑斯谛回归模型源自逻辑斯谛分布，其分布函数$F(x)$是$S$形函数。逻辑斯谛回归模型是由输入的线性函数表示的输出的对数几率模型。\n",
    "\n",
    "2．最大熵模型是由以下条件概率分布表示的分类模型。最大熵模型也可以用于二类或多类分类。\n",
    "\n",
    "$$P_{w}(y | x)=\\frac{1}{Z_{w}(x)} \\exp \\left(\\sum_{i=1}^{n} w_{i} f_{i}(x, y)\\right)$$\n",
    "$$Z_{w}(x)=\\sum_{y} \\exp \\left(\\sum_{i=1}^{n} w_{i} f_{i}(x, y)\\right)$$\n",
    "\n",
    "其中，$Z_w(x)$是规范化因子，$f_i$为特征函数，$w_i$为特征的权值。\n",
    "\n",
    "3．最大熵模型可以由最大熵原理推导得出。最大熵原理是概率模型学习或估计的一个准则。最大熵原理认为在所有可能的概率模型（分布）的集合中，熵最大的模型是最好的模型。\n",
    "\n",
    "最大熵原理应用到分类模型的学习中，有以下约束最优化问题：\n",
    "\n",
    "$$\\min -H(P)=\\sum_{x, y} \\tilde{P}(x) P(y | x) \\log P(y | x)$$\n",
    "\n",
    "$$s.t.  \\quad P\\left(f_{i}\\right)-\\tilde{P}\\left(f_{i}\\right)=0, \\quad i=1,2, \\cdots, n$$\n",
    " \n",
    " $$\\sum_{y} P(y | x)=1$$\n",
    " \n",
    "求解此最优化问题的对偶问题得到最大熵模型。\n",
    "\n",
    "4．逻辑斯谛回归模型与最大熵模型都属于对数线性模型。\n",
    "\n",
    "5．逻辑斯谛回归模型及最大熵模型学习一般采用极大似然估计，或正则化的极大似然估计。逻辑斯谛回归模型及最大熵模型学习可以形式化为无约束最优化问题。求解该最优化问题的算法有改进的迭代尺度法、梯度下降法、拟牛顿法。\n"
   ]
  },
  {
   "cell_type": "markdown",
   "id": "8b7bbab1-a007-4423-98ce-d80f4a722e6c",
   "metadata": {},
   "source": [
    "# 数据准备"
   ]
  },
  {
   "cell_type": "code",
   "execution_count": 1,
   "id": "98c4c761-01e3-4a09-988f-b70e55a0d3c6",
   "metadata": {
    "execution": {
     "iopub.execute_input": "2024-04-23T10:47:25.397500Z",
     "iopub.status.busy": "2024-04-23T10:47:25.394196Z",
     "iopub.status.idle": "2024-04-23T10:47:26.777287Z",
     "shell.execute_reply": "2024-04-23T10:47:26.776492Z",
     "shell.execute_reply.started": "2024-04-23T10:47:25.397500Z"
    }
   },
   "outputs": [],
   "source": [
    "import pandas as pd\n",
    "import numpy as np\n",
    "from sklearn.model_selection import GridSearchCV\n",
    "from sklearn.model_selection import train_test_split\n",
    "from sklearn.linear_model import LogisticRegression # 逻辑斯蒂回归\n",
    "from sklearn.metrics import accuracy_score, classification_report\n",
    "from sklearn.metrics import roc_auc_score"
   ]
  },
  {
   "cell_type": "code",
   "execution_count": 2,
   "id": "cd8414da-83eb-4fa5-9305-69799892f7a5",
   "metadata": {
    "execution": {
     "iopub.execute_input": "2024-04-23T10:47:26.779283Z",
     "iopub.status.busy": "2024-04-23T10:47:26.779283Z",
     "iopub.status.idle": "2024-04-23T10:47:26.799411Z",
     "shell.execute_reply": "2024-04-23T10:47:26.798458Z",
     "shell.execute_reply.started": "2024-04-23T10:47:26.779283Z"
    }
   },
   "outputs": [
    {
     "name": "stdout",
     "output_type": "stream",
     "text": [
      "   Sepal.Length  Sepal.Width  Petal.Length  Petal.Width Species\n",
      "0           5.1          3.5           1.4          0.2  setosa\n",
      "1           4.9          3.0           1.4          0.2  setosa\n",
      "2           4.7          3.2           1.3          0.2  setosa\n",
      "3           4.6          3.1           1.5          0.2  setosa\n",
      "4           5.0          3.6           1.4          0.2  setosa\n"
     ]
    }
   ],
   "source": [
    "#读取数据\n",
    "data = pd.read_csv(\"../data/iris.csv\")\n",
    "print(data.head())"
   ]
  },
  {
   "cell_type": "code",
   "execution_count": 3,
   "id": "5dc79182-a7d4-4fde-ab38-46a629db8c07",
   "metadata": {
    "execution": {
     "iopub.execute_input": "2024-04-23T10:47:27.333884Z",
     "iopub.status.busy": "2024-04-23T10:47:27.331842Z",
     "iopub.status.idle": "2024-04-23T10:47:27.380059Z",
     "shell.execute_reply": "2024-04-23T10:47:27.375875Z",
     "shell.execute_reply.started": "2024-04-23T10:47:27.333884Z"
    }
   },
   "outputs": [],
   "source": [
    "#准备数据\n",
    "data = data.dropna()\n",
    "y = data['Species'].apply(lambda x: 1 if x == 'setosa' else 2 if x == 'versicolor' else 3)\n",
    "x = data.drop(['Species'],axis=1).astype('float64')\n",
    "\n",
    "# 训练集、测试集划分\n",
    "x_train,x_test,y_train,y_test = train_test_split(x,y,test_size=0.25,random_state= 42)"
   ]
  },
  {
   "cell_type": "markdown",
   "id": "94a7223f-0a06-406f-9229-f7374e499520",
   "metadata": {},
   "source": [
    "# 模型训练"
   ]
  },
  {
   "cell_type": "code",
   "execution_count": 4,
   "id": "5e2a7af1-71cd-4f96-a73a-2c48e3c96f5f",
   "metadata": {
    "execution": {
     "iopub.execute_input": "2024-04-23T10:47:28.831288Z",
     "iopub.status.busy": "2024-04-23T10:47:28.828272Z",
     "iopub.status.idle": "2024-04-23T10:47:29.160854Z",
     "shell.execute_reply": "2024-04-23T10:47:29.159885Z",
     "shell.execute_reply.started": "2024-04-23T10:47:28.831288Z"
    }
   },
   "outputs": [
    {
     "name": "stdout",
     "output_type": "stream",
     "text": [
      "LogisticRegression params: LogisticRegression(C=5, max_iter=10000, solver='sag')\n"
     ]
    }
   ],
   "source": [
    "# 分类模型、参数\n",
    "model = LogisticRegression(penalty = \"l2\", solver=\"sag\", max_iter=10000)\n",
    "param_grid = {'C': [5, 10, 15]}\n",
    "\n",
    "# GridSearchCV优化参数、训练模型\n",
    "gsearch = GridSearchCV(model, param_grid)\n",
    "model = gsearch.fit(x_train, y_train)\n",
    "\n",
    "# 打印最优结果\n",
    "print('LogisticRegression params:', model.best_estimator_)"
   ]
  },
  {
   "cell_type": "markdown",
   "id": "5fd4180d-101a-4d14-aa29-35694a9f8111",
   "metadata": {},
   "source": [
    "# 模型保存"
   ]
  },
  {
   "cell_type": "code",
   "execution_count": 5,
   "id": "c070b9c9-f983-4393-8ab6-0f25f599eed0",
   "metadata": {
    "execution": {
     "iopub.execute_input": "2024-04-23T10:48:11.947273Z",
     "iopub.status.busy": "2024-04-23T10:48:11.946246Z",
     "iopub.status.idle": "2024-04-23T10:48:11.970657Z",
     "shell.execute_reply": "2024-04-23T10:48:11.969694Z",
     "shell.execute_reply.started": "2024-04-23T10:48:11.947273Z"
    }
   },
   "outputs": [],
   "source": [
    "# 法一\n",
    "import joblib\n",
    "\n",
    "# 保存模型\n",
    "joblib.dump(model, '../test/best_models/lr.pkl')\n",
    "\n",
    "# 加载模型\n",
    "model = joblib.load('../test/best_models/lr.pkl')"
   ]
  },
  {
   "cell_type": "code",
   "execution_count": 6,
   "id": "09687a60-7b68-4f97-9988-68c11d7c1873",
   "metadata": {
    "execution": {
     "iopub.execute_input": "2024-04-23T10:48:12.649229Z",
     "iopub.status.busy": "2024-04-23T10:48:12.648226Z",
     "iopub.status.idle": "2024-04-23T10:48:12.672677Z",
     "shell.execute_reply": "2024-04-23T10:48:12.670944Z",
     "shell.execute_reply.started": "2024-04-23T10:48:12.649229Z"
    }
   },
   "outputs": [],
   "source": [
    "# 法二\n",
    "import pickle\n",
    "\n",
    "with open('../test/best_models/lr.pkl', 'wb') as f:\n",
    "    pickle.dump(model, f)\n",
    " \n",
    "#读取Model\n",
    "with open('../test/best_models/lr.pkl', 'rb') as f:\n",
    "    model = pickle.load(f)"
   ]
  },
  {
   "cell_type": "markdown",
   "id": "36959dd7-ac39-4f0f-8dd5-c89ebd5a778f",
   "metadata": {},
   "source": [
    "# 模型预测"
   ]
  },
  {
   "cell_type": "code",
   "execution_count": 7,
   "id": "8cd46e88-1381-4a67-b072-6e8ea26ae5a6",
   "metadata": {
    "execution": {
     "iopub.execute_input": "2024-04-23T10:48:13.817416Z",
     "iopub.status.busy": "2024-04-23T10:48:13.814413Z",
     "iopub.status.idle": "2024-04-23T10:48:13.841437Z",
     "shell.execute_reply": "2024-04-23T10:48:13.839598Z",
     "shell.execute_reply.started": "2024-04-23T10:48:13.817416Z"
    }
   },
   "outputs": [],
   "source": [
    "prediction = model.predict(x_test)"
   ]
  },
  {
   "cell_type": "code",
   "execution_count": 8,
   "id": "5e7f6840-c925-4fd5-86af-c834576b17e0",
   "metadata": {
    "execution": {
     "iopub.execute_input": "2024-04-23T10:48:14.323257Z",
     "iopub.status.busy": "2024-04-23T10:48:14.316588Z",
     "iopub.status.idle": "2024-04-23T10:48:14.354177Z",
     "shell.execute_reply": "2024-04-23T10:48:14.350298Z",
     "shell.execute_reply.started": "2024-04-23T10:48:14.323257Z"
    }
   },
   "outputs": [
    {
     "name": "stdout",
     "output_type": "stream",
     "text": [
      "acc为： 1.0\n"
     ]
    }
   ],
   "source": [
    "# 计算准确率\n",
    "acc = accuracy_score(y_test, prediction)\n",
    "print(\"acc为：\", acc)"
   ]
  },
  {
   "cell_type": "code",
   "execution_count": 9,
   "id": "66d6ea6a-b8b0-4132-b1c6-9f14ae8577fa",
   "metadata": {
    "execution": {
     "iopub.execute_input": "2024-04-23T10:48:14.837868Z",
     "iopub.status.busy": "2024-04-23T10:48:14.836872Z",
     "iopub.status.idle": "2024-04-23T10:48:14.858967Z",
     "shell.execute_reply": "2024-04-23T10:48:14.857443Z",
     "shell.execute_reply.started": "2024-04-23T10:48:14.837868Z"
    }
   },
   "outputs": [
    {
     "name": "stdout",
     "output_type": "stream",
     "text": [
      "              precision    recall  f1-score   support\n",
      "\n",
      "           1       1.00      1.00      1.00        15\n",
      "           2       1.00      1.00      1.00        11\n",
      "           3       1.00      1.00      1.00        12\n",
      "\n",
      "    accuracy                           1.00        38\n",
      "   macro avg       1.00      1.00      1.00        38\n",
      "weighted avg       1.00      1.00      1.00        38\n",
      "\n"
     ]
    }
   ],
   "source": [
    "print(classification_report(y_test, prediction))"
   ]
  },
  {
   "cell_type": "code",
   "execution_count": null,
   "id": "b9d60958-176e-4f34-b6b6-92b7c7598772",
   "metadata": {},
   "outputs": [],
   "source": []
  }
 ],
 "metadata": {
  "kernelspec": {
   "display_name": "Python 3 (ipykernel)",
   "language": "python",
   "name": "python3"
  },
  "language_info": {
   "codemirror_mode": {
    "name": "ipython",
    "version": 3
   },
   "file_extension": ".py",
   "mimetype": "text/x-python",
   "name": "python",
   "nbconvert_exporter": "python",
   "pygments_lexer": "ipython3",
   "version": "3.9.18"
  }
 },
 "nbformat": 4,
 "nbformat_minor": 5
}
