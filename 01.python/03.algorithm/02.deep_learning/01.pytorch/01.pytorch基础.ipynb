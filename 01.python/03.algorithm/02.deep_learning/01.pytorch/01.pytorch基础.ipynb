{
 "cells": [
  {
   "cell_type": "markdown",
   "id": "48c7210e",
   "metadata": {},
   "source": [
    "# 常用函数"
   ]
  },
  {
   "cell_type": "markdown",
   "id": "3f0430d0",
   "metadata": {},
   "source": [
    "## torch.cat()"
   ]
  },
  {
   "cell_type": "markdown",
   "id": "982fc025",
   "metadata": {},
   "source": [
    "torch.cat() 是 PyTorch 中用于将多个张量在指定维度上进行连接的函数。与 torch.stack() 不同，torch.cat() 不会创建新维度，而是在现有维度上将张量连接在一起。\n",
    "\n",
    "outputs = torch.cat(inputs, dim=?) → Tensor  \n",
    "参数\n",
    "\n",
    "inputs : 待连接的张量序列，可以是任意相同Tensor类型的python 序列  \n",
    "dim : 选择的扩维, 必须在0到len(inputs[0])之间，沿着此维连接张量序列。"
   ]
  },
  {
   "cell_type": "code",
   "execution_count": 9,
   "id": "71f91fa2",
   "metadata": {
    "ExecuteTime": {
     "end_time": "2024-11-11T10:01:24.897311Z",
     "start_time": "2024-11-11T10:01:24.889179Z"
    }
   },
   "outputs": [
    {
     "name": "stdout",
     "output_type": "stream",
     "text": [
      "torch.Size([2])\n",
      "tensor([1, 2, 3, 4, 5, 6])\n"
     ]
    }
   ],
   "source": [
    "# 假设有三个形状相同的张量：\n",
    "a = torch.tensor([1, 2])\n",
    "print(a.shape)\n",
    "b = torch.tensor([3, 4])\n",
    "c = torch.tensor([5, 6])\n",
    "\n",
    "# 可以使用 torch.cat 沿维度将它们堆叠起来：\n",
    "cated = torch.cat([a, b, c], dim=0)\n",
    "print(cated)"
   ]
  },
  {
   "cell_type": "code",
   "execution_count": 11,
   "id": "8e1b9df3",
   "metadata": {
    "ExecuteTime": {
     "end_time": "2024-11-11T10:01:55.257424Z",
     "start_time": "2024-11-11T10:01:55.239537Z"
    }
   },
   "outputs": [
    {
     "ename": "IndexError",
     "evalue": "Dimension out of range (expected to be in range of [-1, 0], but got 1)",
     "output_type": "error",
     "traceback": [
      "\u001b[1;31m---------------------------------------------------------------------------\u001b[0m",
      "\u001b[1;31mIndexError\u001b[0m                                Traceback (most recent call last)",
      "Cell \u001b[1;32mIn[11], line 2\u001b[0m\n\u001b[0;32m      1\u001b[0m \u001b[38;5;66;03m# 超过现有维度会报错\u001b[39;00m\n\u001b[1;32m----> 2\u001b[0m torch\u001b[38;5;241m.\u001b[39mcat([a, b, c], dim\u001b[38;5;241m=\u001b[39m\u001b[38;5;241m1\u001b[39m)\n",
      "\u001b[1;31mIndexError\u001b[0m: Dimension out of range (expected to be in range of [-1, 0], but got 1)"
     ]
    }
   ],
   "source": [
    "# 超过现有维度会报错\n",
    "torch.cat([a, b, c], dim=1)"
   ]
  },
  {
   "cell_type": "markdown",
   "id": "66175e45",
   "metadata": {},
   "source": [
    "## torch.stack()"
   ]
  },
  {
   "cell_type": "markdown",
   "id": "8dc49a56",
   "metadata": {},
   "source": [
    "torch.stack 是 PyTorch 中用于沿新维度连接一组张量的函数。与 torch.cat 不同，torch.stack 会创建一个新的维度，将输入的张量堆叠在一起。"
   ]
  },
  {
   "cell_type": "markdown",
   "id": "3fd63401",
   "metadata": {},
   "source": [
    "语法\n",
    "\n",
    "torch.stack(tensors, dim=0)  \n",
    "tensors：需要堆叠的张量序列，这些张量的形状必须相同。  \n",
    "dim：新维度插入的位置，默认是 0，表示在最外层创建一个新的维度。"
   ]
  },
  {
   "cell_type": "code",
   "execution_count": 8,
   "id": "71a67b37",
   "metadata": {
    "ExecuteTime": {
     "end_time": "2024-11-11T09:59:20.856705Z",
     "start_time": "2024-11-11T09:59:20.851040Z"
    }
   },
   "outputs": [
    {
     "name": "stdout",
     "output_type": "stream",
     "text": [
      "torch.Size([2])\n",
      "tensor([[1, 2],\n",
      "        [3, 4],\n",
      "        [5, 6]])\n",
      "torch.Size([3, 2])\n"
     ]
    }
   ],
   "source": [
    "# 假设有三个形状相同的张量：\n",
    "a = torch.tensor([1, 2])\n",
    "print(a.shape)\n",
    "b = torch.tensor([3, 4])\n",
    "c = torch.tensor([5, 6])\n",
    "\n",
    "# 可以使用 torch.stack 沿新维度将它们堆叠起来：\n",
    "stacked = torch.stack([a, b, c], dim=0)\n",
    "print(stacked)\n",
    "print(stacked.shape)"
   ]
  },
  {
   "cell_type": "markdown",
   "id": "6bc6f88a",
   "metadata": {},
   "source": [
    "## masked_fill()"
   ]
  },
  {
   "cell_type": "markdown",
   "id": "12e2e5e1",
   "metadata": {},
   "source": [
    "masked_fill方法有两个参数，mask和value，mask是一个pytorch张量（Tensor），元素是布尔值，value是要填充的值，**填充规则是mask中取值为True位置对应于self的相应位置用value填充**。"
   ]
  },
  {
   "cell_type": "code",
   "execution_count": 1,
   "id": "3760f0c2",
   "metadata": {
    "ExecuteTime": {
     "end_time": "2024-11-05T09:38:58.782670Z",
     "start_time": "2024-11-05T09:38:53.482455Z"
    }
   },
   "outputs": [
    {
     "data": {
      "text/plain": [
       "tensor([[-1.7544, -1.5359],\n",
       "        [-2.1221, -0.3324],\n",
       "        [ 1.0647, -0.1458]])"
      ]
     },
     "execution_count": 1,
     "metadata": {},
     "output_type": "execute_result"
    }
   ],
   "source": [
    "import torch\n",
    "\n",
    "t = torch.randn(3,2)\n",
    "t"
   ]
  },
  {
   "cell_type": "code",
   "execution_count": 2,
   "id": "24c113ad",
   "metadata": {
    "ExecuteTime": {
     "end_time": "2024-11-05T09:39:24.520383Z",
     "start_time": "2024-11-05T09:39:24.508211Z"
    }
   },
   "outputs": [
    {
     "data": {
      "text/plain": [
       "tensor([[False, False],\n",
       "        [False,  True],\n",
       "        [ True, False]])"
      ]
     },
     "execution_count": 2,
     "metadata": {},
     "output_type": "execute_result"
    }
   ],
   "source": [
    "m = torch.randint(0,2,(3,2))\n",
    "m == 0"
   ]
  },
  {
   "cell_type": "code",
   "execution_count": 3,
   "id": "af7d1f23",
   "metadata": {
    "ExecuteTime": {
     "end_time": "2024-11-05T09:39:45.784375Z",
     "start_time": "2024-11-05T09:39:45.778383Z"
    }
   },
   "outputs": [
    {
     "data": {
      "text/plain": [
       "tensor([[-1.7544e+00, -1.5359e+00],\n",
       "        [-2.1221e+00, -1.0000e+09],\n",
       "        [-1.0000e+09, -1.4581e-01]])"
      ]
     },
     "execution_count": 3,
     "metadata": {},
     "output_type": "execute_result"
    }
   ],
   "source": [
    "t.masked_fill(m == 0, -1e9)"
   ]
  },
  {
   "cell_type": "markdown",
   "id": "f277d314",
   "metadata": {},
   "source": [
    "## torch.topk()"
   ]
  },
  {
   "cell_type": "markdown",
   "id": "3c49478a",
   "metadata": {},
   "source": [
    "在 PyTorch 中，torch.topk 函数是一个非常实用的工具，它允许我们从给定维度的张量中获取最大或最小的 k 个元素。这个函数返回两个值：一个包含顶部 k 个值的张量，以及这些值在原始张量中的索引。"
   ]
  },
  {
   "cell_type": "markdown",
   "id": "88b6713d",
   "metadata": {},
   "source": [
    "torch.topk 函数的基本语法如下：\n",
    "\n",
    "torch.topk(input, k, dim=None, largest=True, sorted=True, \\*, out=None)\n",
    "这里的参数意义如下：\n",
    "\n",
    "input：输入的张量。\n",
    "\n",
    "k：需要返回的元素数量。\n",
    "\n",
    "dim：要排序的维度。如果不指定，则默认为输入张量的最后一个维度。\n",
    "\n",
    "largest：一个布尔值，指定是返回最大还是最小的元素。\n",
    "\n",
    "sorted：一个布尔值，指定返回的元素是否需要排序。\n",
    "\n",
    "out：一个可选的输出缓冲元组，可以用来存放结果。"
   ]
  },
  {
   "cell_type": "code",
   "execution_count": 1,
   "id": "85bdfbe6",
   "metadata": {
    "ExecuteTime": {
     "end_time": "2024-11-11T09:12:05.811083Z",
     "start_time": "2024-11-11T09:12:03.115141Z"
    }
   },
   "outputs": [],
   "source": [
    "import torch\n",
    "\n",
    "# 创建一个一维张量\n",
    "x = torch.arange(1., 6.)\n",
    "\n",
    "# 获取最大的三个元素及其索引\n",
    "values, indices = torch.topk(x, 3)"
   ]
  },
  {
   "cell_type": "code",
   "execution_count": 2,
   "id": "5db397dd",
   "metadata": {
    "ExecuteTime": {
     "end_time": "2024-11-11T09:12:10.999632Z",
     "start_time": "2024-11-11T09:12:10.990396Z"
    }
   },
   "outputs": [
    {
     "data": {
      "text/plain": [
       "tensor([5., 4., 3.])"
      ]
     },
     "execution_count": 2,
     "metadata": {},
     "output_type": "execute_result"
    }
   ],
   "source": [
    "values"
   ]
  },
  {
   "cell_type": "code",
   "execution_count": 3,
   "id": "fe6f48e4",
   "metadata": {
    "ExecuteTime": {
     "end_time": "2024-11-11T09:12:15.888508Z",
     "start_time": "2024-11-11T09:12:15.883808Z"
    }
   },
   "outputs": [
    {
     "data": {
      "text/plain": [
       "tensor([4, 3, 2])"
      ]
     },
     "execution_count": 3,
     "metadata": {},
     "output_type": "execute_result"
    }
   ],
   "source": [
    "indices"
   ]
  },
  {
   "cell_type": "markdown",
   "id": "715bb6c9",
   "metadata": {},
   "source": [
    "## permute()"
   ]
  },
  {
   "cell_type": "markdown",
   "id": "af763cca",
   "metadata": {},
   "source": [
    "功能：可以对张量的多个维度进行任意顺序的重新排列。  \n",
    "使用方式：permute(\\*dims)，其中 dims 是新维度顺序的列表。  \n",
    "适用场景：当你需要对张量的多个维度进行重排时，permute 非常灵活，可以指定任何顺序。  "
   ]
  },
  {
   "cell_type": "code",
   "execution_count": 5,
   "id": "07f03c58",
   "metadata": {
    "ExecuteTime": {
     "end_time": "2024-11-11T09:48:08.758052Z",
     "start_time": "2024-11-11T09:48:08.746334Z"
    }
   },
   "outputs": [],
   "source": [
    "x = torch.randn(2, 3, 4)  # 形状为 (2, 3, 4)\n",
    "x_permuted = x.permute(2, 0, 1)  # 形状变为 (4, 2, 3)"
   ]
  },
  {
   "cell_type": "markdown",
   "id": "15b33538",
   "metadata": {},
   "source": [
    "## transpose()"
   ]
  },
  {
   "cell_type": "markdown",
   "id": "e15c4b82",
   "metadata": {},
   "source": [
    "功能：只能交换两个指定的维度。  \n",
    "使用方式：transpose(dim0, dim1)，其中 dim0 和 dim1 是需要交换的两个维度。  \n",
    "适用场景：当只需要交换两个维度的位置时，transpose 更简洁。"
   ]
  },
  {
   "cell_type": "code",
   "execution_count": 4,
   "id": "79030c85",
   "metadata": {
    "ExecuteTime": {
     "end_time": "2024-11-11T09:47:57.405959Z",
     "start_time": "2024-11-11T09:47:57.390340Z"
    }
   },
   "outputs": [],
   "source": [
    "x = torch.randn(2, 3, 4)  # 形状为 (2, 3, 4)\n",
    "x_transposed = x.transpose(1, 2)  # 形状变为 (2, 4, 3)"
   ]
  },
  {
   "cell_type": "markdown",
   "id": "938a6a32",
   "metadata": {},
   "source": [
    "## contiguous()"
   ]
  },
  {
   "cell_type": "markdown",
   "id": "1501801c",
   "metadata": {},
   "source": [
    "contiguous() 是 PyTorch 中用于确保张量在内存中是连续存储的。当一个张量的形状被改变，比如通过 permute 或 transpose 操作时，它的元素在内存中的顺序可能会变得不连续，而 contiguous() 会创建一个连续存储的新张量，以便后续操作可以更有效地进行。\n",
    "\n",
    "假设我们有一个张量在内存中按顺序排列，当对张量使用 permute 或 transpose 改变维度顺序时，虽然逻辑上的维度顺序改变了，但数据在物理内存中的位置并未真正调整。这时，如果需要对张量进行类似于 .view() 的操作，PyTorch 要求张量在内存中是连续的，这样可以确保按期望的顺序访问数据。"
   ]
  },
  {
   "cell_type": "code",
   "execution_count": 6,
   "id": "9de67cbc",
   "metadata": {
    "ExecuteTime": {
     "end_time": "2024-11-11T09:49:53.459511Z",
     "start_time": "2024-11-11T09:49:53.449661Z"
    }
   },
   "outputs": [],
   "source": [
    "x = torch.randn(2, 3)\n",
    "x_t = x.permute(1, 0)  # 交换维度顺序，x_t在内存中可能不连续\n",
    "x_t = x_t.contiguous()  # 确保x_t在内存中连续"
   ]
  },
  {
   "cell_type": "markdown",
   "id": "620e7b9f",
   "metadata": {},
   "source": [
    "## torch.unsqueeze()"
   ]
  },
  {
   "cell_type": "markdown",
   "id": "36143a40",
   "metadata": {},
   "source": [
    "torch.unsqueeze 用于在张量的指定位置增加一个维度。新的维度大小为 1。\n",
    "\n",
    "语法：\n",
    "\n",
    "torch.unsqueeze(input, dim)  \n",
    "input：输入张量。  \n",
    "dim：要增加维度的位置索引。"
   ]
  },
  {
   "cell_type": "code",
   "execution_count": 12,
   "id": "95efc443",
   "metadata": {
    "ExecuteTime": {
     "end_time": "2024-11-11T10:04:04.147070Z",
     "start_time": "2024-11-11T10:04:04.135891Z"
    }
   },
   "outputs": [
    {
     "name": "stdout",
     "output_type": "stream",
     "text": [
      "tensor([[1, 2, 3]])\n",
      "torch.Size([1, 3])\n"
     ]
    }
   ],
   "source": [
    "x = torch.tensor([1, 2, 3])  # 形状为 (3,)\n",
    "x_unsqueezed = torch.unsqueeze(x, 0)  # 在第0个维度增加维度\n",
    "print(x_unsqueezed)  # 输出: tensor([[1, 2, 3]])\n",
    "print(x_unsqueezed.shape)  # 输出: torch.Size([1, 3])"
   ]
  },
  {
   "cell_type": "markdown",
   "id": "0fa80700",
   "metadata": {},
   "source": [
    "## torch.squeeze()"
   ]
  },
  {
   "cell_type": "markdown",
   "id": "f801c386",
   "metadata": {},
   "source": [
    "torch.squeeze 用于移除张量中大小为 1 的维度（即单个元素的维度）。\n",
    "\n",
    "语法：\n",
    "\n",
    "torch.squeeze(input, dim=None)  \n",
    "input：输入张量。  \n",
    "dim（可选）：指定要移除的维度索引，如果该维度的大小为 1，则移除；如果不指定 dim，则移除所有大小为 1 的维度。"
   ]
  },
  {
   "cell_type": "code",
   "execution_count": 13,
   "id": "d55084fc",
   "metadata": {
    "ExecuteTime": {
     "end_time": "2024-11-11T10:05:20.451157Z",
     "start_time": "2024-11-11T10:05:20.437640Z"
    }
   },
   "outputs": [
    {
     "name": "stdout",
     "output_type": "stream",
     "text": [
      "tensor([1, 2, 3])\n",
      "torch.Size([3])\n"
     ]
    }
   ],
   "source": [
    "y = torch.tensor([[[1, 2, 3]]])  # 形状为 (1, 1, 3)\n",
    "y_squeezed = torch.squeeze(y)  # 自动移除所有为1的维度\n",
    "print(y_squeezed)  # 输出: tensor([1, 2, 3])\n",
    "print(y_squeezed.shape)  # 输出: torch.Size([3])"
   ]
  },
  {
   "cell_type": "code",
   "execution_count": 14,
   "id": "01d49412",
   "metadata": {
    "ExecuteTime": {
     "end_time": "2024-11-11T10:05:53.117907Z",
     "start_time": "2024-11-11T10:05:53.113157Z"
    }
   },
   "outputs": [
    {
     "name": "stdout",
     "output_type": "stream",
     "text": [
      "torch.Size([1, 3])\n"
     ]
    }
   ],
   "source": [
    "# 如果只想去掉某一个维度（假设这里是第 0 维），可以指定 dim 参数：\n",
    "y_squeezed_dim0 = torch.squeeze(y, dim=0)\n",
    "print(y_squeezed_dim0.shape)  # 输出: torch.Size([1, 3])"
   ]
  },
  {
   "cell_type": "markdown",
   "id": "caf0007f",
   "metadata": {},
   "source": [
    "## repeat()"
   ]
  },
  {
   "cell_type": "markdown",
   "id": "093668ab",
   "metadata": {},
   "source": [
    "repeat 是 PyTorch 中用于沿指定维度复制张量内容的操作，可以将张量扩展成更大的尺寸，而不是增加维度本身。\n",
    "\n",
    "语法\n",
    "\n",
    "tensor.repeat(\\*sizes)  \n",
    "sizes：一个整数元组，每个数值表示在对应维度上要复制的次数。"
   ]
  },
  {
   "cell_type": "code",
   "execution_count": 15,
   "id": "d146c0d3",
   "metadata": {
    "ExecuteTime": {
     "end_time": "2024-11-11T10:08:13.605502Z",
     "start_time": "2024-11-11T10:08:13.590123Z"
    }
   },
   "outputs": [
    {
     "name": "stdout",
     "output_type": "stream",
     "text": [
      "tensor([[1, 2, 3, 1, 2, 3, 1, 2, 3],\n",
      "        [4, 5, 6, 4, 5, 6, 4, 5, 6],\n",
      "        [1, 2, 3, 1, 2, 3, 1, 2, 3],\n",
      "        [4, 5, 6, 4, 5, 6, 4, 5, 6]])\n"
     ]
    }
   ],
   "source": [
    "# 假设有一个形状为 (2, 3) 的张量：\n",
    "x = torch.tensor([[1, 2, 3], [4, 5, 6]])\n",
    "\n",
    "# 如果要在第 0 维度上复制 2 次，在第 1 维度上复制 3 次，可以这样使用 repeat：\n",
    "x_repeated = x.repeat(2, 3)\n",
    "print(x_repeated)"
   ]
  },
  {
   "cell_type": "markdown",
   "id": "b6c3fb97",
   "metadata": {},
   "source": [
    "repeat 会实际扩展数据的内存，如果只想增加维度而不复制数据，可以使用 expand 方法。"
   ]
  },
  {
   "cell_type": "markdown",
   "id": "2a7c1e67",
   "metadata": {},
   "source": [
    "## expand()"
   ]
  },
  {
   "cell_type": "markdown",
   "id": "ded4246d",
   "metadata": {},
   "source": [
    "expand 是 PyTorch 中用于在指定维度上扩展张量的操作，但与 repeat 不同的是，expand 不会实际复制数据，而是创建一个“视图”，通过改变张量的形状来让数据在特定维度上重复显示，因此它的内存效率更高。\n",
    "\n",
    "语法\n",
    " \n",
    "tensor.expand(\\*sizes)  \n",
    "sizes：表示新形状的整数元组，其中每个维度的大小必须与原始大小相等或等于 1，才能扩展。"
   ]
  },
  {
   "cell_type": "code",
   "execution_count": 16,
   "id": "6882725c",
   "metadata": {
    "ExecuteTime": {
     "end_time": "2024-11-11T10:11:23.840046Z",
     "start_time": "2024-11-11T10:11:23.829591Z"
    }
   },
   "outputs": [
    {
     "name": "stdout",
     "output_type": "stream",
     "text": [
      "tensor([[1, 2, 3],\n",
      "        [1, 2, 3]])\n"
     ]
    }
   ],
   "source": [
    "x = torch.tensor([[1, 2, 3]])  # 形状为 (1, 3)\n",
    "\n",
    "# 如果要在第 0 维度上扩展到大小 2，可以使用 expand：\n",
    "x_expanded = x.expand(2, 3)\n",
    "print(x_expanded)"
   ]
  },
  {
   "cell_type": "code",
   "execution_count": 17,
   "id": "d32489df",
   "metadata": {
    "ExecuteTime": {
     "end_time": "2024-11-11T10:12:02.259613Z",
     "start_time": "2024-11-11T10:12:02.225202Z"
    }
   },
   "outputs": [
    {
     "ename": "RuntimeError",
     "evalue": "The expanded size of the tensor (4) must match the existing size (3) at non-singleton dimension 1.  Target sizes: [2, 4].  Tensor sizes: [1, 3]",
     "output_type": "error",
     "traceback": [
      "\u001b[1;31m---------------------------------------------------------------------------\u001b[0m",
      "\u001b[1;31mRuntimeError\u001b[0m                              Traceback (most recent call last)",
      "Cell \u001b[1;32mIn[17], line 1\u001b[0m\n\u001b[1;32m----> 1\u001b[0m x\u001b[38;5;241m.\u001b[39mexpand(\u001b[38;5;241m2\u001b[39m, \u001b[38;5;241m4\u001b[39m)\n",
      "\u001b[1;31mRuntimeError\u001b[0m: The expanded size of the tensor (4) must match the existing size (3) at non-singleton dimension 1.  Target sizes: [2, 4].  Tensor sizes: [1, 3]"
     ]
    }
   ],
   "source": [
    "x.expand(2, 4)"
   ]
  },
  {
   "cell_type": "markdown",
   "id": "1131a040",
   "metadata": {},
   "source": [
    "expand 只能扩展原来是 1 的维度。如果一个维度大小不是 1，不能对该维度使用 expand。  \n",
    "由于 expand 只是视图操作，修改 x_expanded 的内容也会影响到原始张量 x。"
   ]
  },
  {
   "cell_type": "markdown",
   "id": "ce1bea0d-c61d-4d07-a79c-279e33b7f9c8",
   "metadata": {},
   "source": [
    "## view()"
   ]
  },
  {
   "cell_type": "markdown",
   "id": "cb2dcd35-b6f6-4d4d-b3a1-a84390cd4907",
   "metadata": {},
   "source": [
    "view() 是 PyTorch 张量对象的一个方法，用来调整张量的形状（shape）。它与 NumPy 中的 reshape() 类似，可以将张量重新排列成指定的形状，而不改变数据的存储方式。"
   ]
  },
  {
   "cell_type": "code",
   "execution_count": 1,
   "id": "9d4faf2d-1aae-4bc6-9dbb-079c84f51526",
   "metadata": {
    "execution": {
     "iopub.execute_input": "2024-11-14T12:37:54.448797Z",
     "iopub.status.busy": "2024-11-14T12:37:54.447797Z",
     "iopub.status.idle": "2024-11-14T12:38:02.641093Z",
     "shell.execute_reply": "2024-11-14T12:38:02.640101Z",
     "shell.execute_reply.started": "2024-11-14T12:37:54.447797Z"
    }
   },
   "outputs": [
    {
     "name": "stdout",
     "output_type": "stream",
     "text": [
      "tensor([[1, 2, 3],\n",
      "        [4, 5, 6]])\n"
     ]
    }
   ],
   "source": [
    "import torch\n",
    "\n",
    "# 创建一个 1x6 的张量\n",
    "tensor = torch.tensor([[1, 2, 3, 4, 5, 6]])\n",
    "\n",
    "# 改成 2x3 的形状\n",
    "reshaped_tensor = tensor.view(2, 3)\n",
    "print(reshaped_tensor)"
   ]
  },
  {
   "cell_type": "code",
   "execution_count": 2,
   "id": "39ca2577-9363-4b1b-b81a-766e4b999fbc",
   "metadata": {
    "execution": {
     "iopub.execute_input": "2024-11-14T12:38:58.071426Z",
     "iopub.status.busy": "2024-11-14T12:38:58.071426Z",
     "iopub.status.idle": "2024-11-14T12:38:58.086426Z",
     "shell.execute_reply": "2024-11-14T12:38:58.085465Z",
     "shell.execute_reply.started": "2024-11-14T12:38:58.071426Z"
    }
   },
   "outputs": [
    {
     "name": "stdout",
     "output_type": "stream",
     "text": [
      "tensor([[1, 2],\n",
      "        [3, 4],\n",
      "        [5, 6]])\n"
     ]
    }
   ],
   "source": [
    "tensor = torch.tensor([[1, 2, 3, 4, 5, 6]])\n",
    "reshaped_tensor = tensor.view(3, -1)  # 自动推断出 2\n",
    "print(reshaped_tensor)"
   ]
  },
  {
   "cell_type": "markdown",
   "id": "54857488-05ff-4af9-b2e8-24e0d483722e",
   "metadata": {},
   "source": [
    "view() 的前提是张量在内存中是连续的，因此有时需要调用 contiguous() 来确保张量的内存连续性。如何一起使用"
   ]
  },
  {
   "cell_type": "code",
   "execution_count": 3,
   "id": "f6a6a295-4237-479a-9567-5ccba00e5e61",
   "metadata": {
    "execution": {
     "iopub.execute_input": "2024-11-14T12:41:16.783925Z",
     "iopub.status.busy": "2024-11-14T12:41:16.783399Z",
     "iopub.status.idle": "2024-11-14T12:41:17.326962Z",
     "shell.execute_reply": "2024-11-14T12:41:17.325961Z",
     "shell.execute_reply.started": "2024-11-14T12:41:16.783925Z"
    }
   },
   "outputs": [
    {
     "name": "stdout",
     "output_type": "stream",
     "text": [
      "原始张量：\n",
      "tensor([[1, 2, 3],\n",
      "        [4, 5, 6]])\n",
      "\n",
      "转置后的张量：\n",
      "tensor([[1, 4],\n",
      "        [2, 5],\n",
      "        [3, 6]])\n",
      "\n",
      "使用 view() 报错： view size is not compatible with input tensor's size and stride (at least one dimension spans across two contiguous subspaces). Use .reshape(...) instead.\n",
      "\n",
      "使用 contiguous() 后的张量：\n",
      "tensor([1, 4, 2, 5, 3, 6])\n"
     ]
    }
   ],
   "source": [
    "import torch\n",
    "\n",
    "# 创建一个形状为 (2, 3) 的张量\n",
    "x = torch.tensor([[1, 2, 3], [4, 5, 6]])\n",
    "print(\"原始张量：\")\n",
    "print(x)\n",
    "\n",
    "# 转置会导致张量在内存中不连续\n",
    "x_transposed = x.t()  # 转置后的形状为 (3, 2)\n",
    "print(\"\\n转置后的张量：\")\n",
    "print(x_transposed)\n",
    "\n",
    "# 尝试使用 view() 会报错，因为内存不连续\n",
    "try:\n",
    "    x_reshaped = x_transposed.view(6)\n",
    "except RuntimeError as e:\n",
    "    print(\"\\n使用 view() 报错：\", e)\n",
    "\n",
    "# 使用 contiguous() 使张量在内存中连续\n",
    "x_contiguous = x_transposed.contiguous().view(6)\n",
    "print(\"\\n使用 contiguous() 后的张量：\")\n",
    "print(x_contiguous)"
   ]
  },
  {
   "cell_type": "markdown",
   "id": "0473087c-9a8f-409a-9dc7-9e1d811a93b0",
   "metadata": {},
   "source": [
    "## size()"
   ]
  },
  {
   "cell_type": "markdown",
   "id": "51b77513-7b77-45e5-9fbe-94f16871312b",
   "metadata": {},
   "source": [
    "size() 函数用于返回张量的形状（Shape），即张量在各个维度上的大小。这个函数常用于了解张量的形状信息，帮助我们在操作张量时确保维度匹配。"
   ]
  },
  {
   "cell_type": "code",
   "execution_count": 4,
   "id": "65a9a748-1d1e-4450-9c0e-02db7bcfd90b",
   "metadata": {
    "execution": {
     "iopub.execute_input": "2024-11-14T12:44:54.491182Z",
     "iopub.status.busy": "2024-11-14T12:44:54.490659Z",
     "iopub.status.idle": "2024-11-14T12:44:54.502628Z",
     "shell.execute_reply": "2024-11-14T12:44:54.501606Z",
     "shell.execute_reply.started": "2024-11-14T12:44:54.491182Z"
    }
   },
   "outputs": [
    {
     "name": "stdout",
     "output_type": "stream",
     "text": [
      "torch.Size([2, 3, 4])\n"
     ]
    }
   ],
   "source": [
    "import torch\n",
    "x = torch.randn(2, 3, 4)  # 生成一个形状为 (2, 3, 4) 的随机张量\n",
    "print(x.size())           # 输出: torch.Size([2, 3, 4])"
   ]
  },
  {
   "cell_type": "code",
   "execution_count": 5,
   "id": "7e3c8320-912a-4d8f-ab8c-963d315c5ab4",
   "metadata": {
    "execution": {
     "iopub.execute_input": "2024-11-14T12:45:25.519621Z",
     "iopub.status.busy": "2024-11-14T12:45:25.519098Z",
     "iopub.status.idle": "2024-11-14T12:45:25.537588Z",
     "shell.execute_reply": "2024-11-14T12:45:25.536589Z",
     "shell.execute_reply.started": "2024-11-14T12:45:25.519621Z"
    }
   },
   "outputs": [
    {
     "data": {
      "text/plain": [
       "4"
      ]
     },
     "execution_count": 5,
     "metadata": {},
     "output_type": "execute_result"
    }
   ],
   "source": [
    "# 返回最后一个维度\n",
    "x.size(-1)"
   ]
  },
  {
   "cell_type": "markdown",
   "id": "56bd99df-755c-411d-b9b8-3b576feb6e7f",
   "metadata": {},
   "source": [
    "## torch.matmul()"
   ]
  },
  {
   "cell_type": "markdown",
   "id": "256027ad-2f3c-49ea-8870-83b931b3d810",
   "metadata": {},
   "source": [
    "torch.matmul() 是 PyTorch 中用于执行矩阵乘法（matrix multiplication）的一种函数。它支持多种输入维度，并根据输入张量的维度来决定矩阵乘法的行为，特别适合线性代数运算、深度学习中的权重计算等。"
   ]
  },
  {
   "cell_type": "markdown",
   "id": "572d8571-1ae3-497d-85e8-2520cad1e6e1",
   "metadata": {},
   "source": [
    "torch.matmul(input, other) 会根据 input 和 other 的形状来进行不同的矩阵运算：\n",
    "\n",
    "两个一维张量（向量）：返回它们的内积，结果是一个标量（0维）。  \n",
    "一个一维张量（向量）和一个二维张量（矩阵）：将向量视为行向量或列向量，返回矩阵向量乘法的结果。  \n",
    "两个二维张量（矩阵）：执行标准的矩阵乘法。  \n",
    "更高维的张量（Batch Matrix Multiplication）：对于大于二维的张量，会进行批次矩阵乘法，每个批次单独乘法。例如，给定形状为 (b, n, m) 的张量与形状为 (b, m, p) 的张量，将在第一个维度上执行 b 次矩阵乘法。"
   ]
  },
  {
   "attachments": {
    "dbaa2285-9c0e-4e12-9c88-62d7388db5e6.png": {
     "image/png": "[encoded data removed]"
    }
   },
   "cell_type": "markdown",
   "id": "2beece88-845e-44e3-8657-d259efe0c788",
   "metadata": {},
   "source": [
    "![image.png](attachment:dbaa2285-9c0e-4e12-9c88-62d7388db5e6.png)"
   ]
  },
  {
   "cell_type": "code",
   "execution_count": 6,
   "id": "056b96d2-e706-46b0-b0d2-782f7d69c46b",
   "metadata": {
    "execution": {
     "iopub.execute_input": "2024-11-14T12:52:25.811885Z",
     "iopub.status.busy": "2024-11-14T12:52:25.811885Z",
     "iopub.status.idle": "2024-11-14T12:52:25.830895Z",
     "shell.execute_reply": "2024-11-14T12:52:25.829937Z",
     "shell.execute_reply.started": "2024-11-14T12:52:25.811885Z"
    }
   },
   "outputs": [
    {
     "name": "stdout",
     "output_type": "stream",
     "text": [
      "tensor(32)\n"
     ]
    }
   ],
   "source": [
    "# 向量内积（dot product）\n",
    "\n",
    "import torch\n",
    "a = torch.tensor([1, 2, 3])\n",
    "b = torch.tensor([4, 5, 6])\n",
    "print(torch.matmul(a, b))  # 输出: tensor(32)"
   ]
  },
  {
   "attachments": {
    "276e8223-18f8-49b1-9858-b126fe8b7cfb.png": {
     "image/png": "[encoded data removed]"
    }
   },
   "cell_type": "markdown",
   "id": "0a838aca-1bc5-4563-92ac-eeeba8a74a09",
   "metadata": {},
   "source": [
    "![image.png](attachment:276e8223-18f8-49b1-9858-b126fe8b7cfb.png)"
   ]
  },
  {
   "cell_type": "code",
   "execution_count": 7,
   "id": "f87ff854-429d-479f-a810-c560fec72db4",
   "metadata": {
    "execution": {
     "iopub.execute_input": "2024-11-14T12:57:27.892275Z",
     "iopub.status.busy": "2024-11-14T12:57:27.891271Z",
     "iopub.status.idle": "2024-11-14T12:57:27.904271Z",
     "shell.execute_reply": "2024-11-14T12:57:27.903271Z",
     "shell.execute_reply.started": "2024-11-14T12:57:27.892275Z"
    }
   },
   "outputs": [
    {
     "name": "stdout",
     "output_type": "stream",
     "text": [
      "tensor([ 5, 11, 17])\n"
     ]
    }
   ],
   "source": [
    "# 矩阵和向量相乘\n",
    "\n",
    "matrix = torch.tensor([[1, 2], [3, 4], [5, 6]])\n",
    "vector = torch.tensor([1, 2])\n",
    "print(torch.matmul(matrix, vector))  # 输出: tensor([ 5, 11, 17])"
   ]
  },
  {
   "attachments": {
    "cfeadc58-8a59-40c4-94bd-0c659abddb60.png": {
     "image/png": "[encoded data removed]"
    }
   },
   "cell_type": "markdown",
   "id": "3919f4db-7d02-4429-b492-1ba848335e63",
   "metadata": {},
   "source": [
    "![image.png](attachment:cfeadc58-8a59-40c4-94bd-0c659abddb60.png)"
   ]
  },
  {
   "cell_type": "code",
   "execution_count": 8,
   "id": "169e6f33-7265-436b-939c-ed8245b1ea98",
   "metadata": {
    "execution": {
     "iopub.execute_input": "2024-11-14T12:58:39.934753Z",
     "iopub.status.busy": "2024-11-14T12:58:39.934753Z",
     "iopub.status.idle": "2024-11-14T12:58:39.955749Z",
     "shell.execute_reply": "2024-11-14T12:58:39.954747Z",
     "shell.execute_reply.started": "2024-11-14T12:58:39.934753Z"
    }
   },
   "outputs": [
    {
     "name": "stdout",
     "output_type": "stream",
     "text": [
      "tensor([[19, 22],\n",
      "        [43, 50]])\n"
     ]
    }
   ],
   "source": [
    "# 矩阵乘法\n",
    "\n",
    "mat1 = torch.tensor([[1, 2], [3, 4]])\n",
    "mat2 = torch.tensor([[5, 6], [7, 8]])\n",
    "print(torch.matmul(mat1, mat2))\n",
    "# 输出:\n",
    "# tensor([[19, 22],\n",
    "#         [43, 50]])"
   ]
  },
  {
   "cell_type": "code",
   "execution_count": 9,
   "id": "59e6b463-653a-4983-88bb-1c44c6117236",
   "metadata": {
    "execution": {
     "iopub.execute_input": "2024-11-14T13:02:07.612847Z",
     "iopub.status.busy": "2024-11-14T13:02:07.612847Z",
     "iopub.status.idle": "2024-11-14T13:02:07.672399Z",
     "shell.execute_reply": "2024-11-14T13:02:07.670399Z",
     "shell.execute_reply.started": "2024-11-14T13:02:07.612847Z"
    }
   },
   "outputs": [
    {
     "name": "stdout",
     "output_type": "stream",
     "text": [
      "tensor([[[ 1.5533,  2.1093, -6.0380,  0.3383,  1.2248],\n",
      "         [ 1.2020,  1.2591, -3.7934,  0.6298,  0.4967],\n",
      "         [ 0.1067, -1.1043,  1.8767, -0.8144, -0.1047]],\n",
      "\n",
      "        [[ 0.0994,  2.9233, -3.1857,  0.7939,  0.4746],\n",
      "         [ 0.4488, -1.5484,  3.7100, -0.7923,  1.3918],\n",
      "         [ 0.2843, -1.7105,  3.2423, -0.9294,  0.5593]]])\n"
     ]
    }
   ],
   "source": [
    "# 批次矩阵乘法\n",
    "\n",
    "batch1 = torch.randn(2, 3, 4)\n",
    "batch2 = torch.randn(2, 4, 5)\n",
    "result = torch.matmul(batch1, batch2)  # 结果形状为 (2, 3, 5)\n",
    "print(result)"
   ]
  },
  {
   "cell_type": "markdown",
   "id": "fcd4cefc-39e4-4c7c-85e2-0c0c170f4a76",
   "metadata": {},
   "source": [
    "## 魔法函数"
   ]
  },
  {
   "cell_type": "markdown",
   "id": "fb9467f4-c2dd-41f5-bf37-a2567298e4fb",
   "metadata": {},
   "source": [
    "所谓魔法函数，是Python的一种高级语法，允许你在类中自定义函数并绑定到类的特殊方法中，可以为类增加一些额外功能。\n",
    "\n",
    "Python中以双下划线(\\_\\_xx\\_\\_)开始和结束的函数（不可自己定义）为魔法函数。  \n",
    "调用类实例化的对象的方法时自动调用魔法函数。  \n",
    "在自己定义的类中，可以实现之前的内置函数。"
   ]
  },
  {
   "cell_type": "markdown",
   "id": "5e1de518-6a1d-4daf-8be0-c48f164bbe07",
   "metadata": {},
   "source": [
    "### `__len__()`"
   ]
  },
  {
   "cell_type": "markdown",
   "id": "765d39e0-c9ce-4878-a334-6398364538a2",
   "metadata": {},
   "source": [
    "在 Python 中，`__len__()` 是一个特殊方法，用于定义对象的“长度”，也就是对象的元素数量。它允许你通过内置的 `len()` 函数来获取该对象的长度。常用于自定义类中，使类实例表现得像内置的序列类型（如列表、字符串等）。"
   ]
  },
  {
   "cell_type": "code",
   "execution_count": 10,
   "id": "f6fa6340-88d5-46e4-8a74-91230e44bc06",
   "metadata": {
    "execution": {
     "iopub.execute_input": "2024-11-14T13:14:05.425797Z",
     "iopub.status.busy": "2024-11-14T13:14:05.424810Z",
     "iopub.status.idle": "2024-11-14T13:14:05.441835Z",
     "shell.execute_reply": "2024-11-14T13:14:05.441390Z",
     "shell.execute_reply.started": "2024-11-14T13:14:05.425797Z"
    }
   },
   "outputs": [
    {
     "name": "stdout",
     "output_type": "stream",
     "text": [
      "5\n"
     ]
    }
   ],
   "source": [
    "class MyList:\n",
    "    def __init__(self, data):\n",
    "        self.data = data\n",
    "\n",
    "    def __len__(self):\n",
    "        return len(self.data)\n",
    "\n",
    "# 使用示例\n",
    "my_list = MyList([1, 2, 3, 4, 5])\n",
    "print(len(my_list))  # 输出: 5"
   ]
  },
  {
   "cell_type": "markdown",
   "id": "3668a9f3-9229-4195-b583-5296efa75394",
   "metadata": {},
   "source": [
    "### `__getitem__()`"
   ]
  },
  {
   "cell_type": "markdown",
   "id": "2aa34261-7682-423f-9e77-5e94a44ffffe",
   "metadata": {},
   "source": [
    "`__getitem__()` 是 Python 中的一个特殊方法，用于使对象支持通过索引访问。通过实现 `__getitem__()` 方法，可以让自定义的类像列表、字典等内置容器一样，通过 `obj[index]` 的方式来访问元素。这在自定义序列、映射类或数据集时非常有用。\n",
    "\n",
    "当你在自定义类中定义了 `__getitem__(self, index) `方法后，就可以用方括号 [] 索引对象实例，并且 index 可以是整数、切片（slice），甚至是键（对于类似字典的对象）。`__getitem__() `也常与 `__len__()` 配合使用，使对象的行为更加类似标准的 Python 序列或映射。"
   ]
  },
  {
   "cell_type": "code",
   "execution_count": 11,
   "id": "f592efad-13d0-45bf-9758-658f75051d9e",
   "metadata": {
    "execution": {
     "iopub.execute_input": "2024-11-14T13:18:22.872298Z",
     "iopub.status.busy": "2024-11-14T13:18:22.871163Z",
     "iopub.status.idle": "2024-11-14T13:18:22.878700Z",
     "shell.execute_reply": "2024-11-14T13:18:22.878163Z",
     "shell.execute_reply.started": "2024-11-14T13:18:22.872298Z"
    }
   },
   "outputs": [
    {
     "name": "stdout",
     "output_type": "stream",
     "text": [
      "20\n",
      "[20, 30, 40]\n",
      "5\n"
     ]
    }
   ],
   "source": [
    "class MyList:\n",
    "    def __init__(self, data):\n",
    "        self.data = data\n",
    "\n",
    "    def __len__(self):\n",
    "        return len(self.data)\n",
    "\n",
    "    def __getitem__(self, index):\n",
    "        return self.data[index]\n",
    "\n",
    "# 使用示例\n",
    "my_list = MyList([10, 20, 30, 40, 50])\n",
    "print(my_list[1])       # 输出: 20\n",
    "print(my_list[1:4])     # 输出: [20, 30, 40]\n",
    "print(len(my_list))     # 输出: 5"
   ]
  },
  {
   "cell_type": "markdown",
   "id": "92d871ca",
   "metadata": {},
   "source": [
    "## 随机数"
   ]
  },
  {
   "cell_type": "code",
   "execution_count": 5,
   "id": "21aea657",
   "metadata": {
    "ExecuteTime": {
     "end_time": "2024-11-15T09:17:05.518469Z",
     "start_time": "2024-11-15T09:17:05.507696Z"
    }
   },
   "outputs": [
    {
     "data": {
      "text/plain": [
       "<torch._C.Generator at 0x25292967b30>"
      ]
     },
     "execution_count": 5,
     "metadata": {},
     "output_type": "execute_result"
    }
   ],
   "source": [
    "torch.manual_seed(42)  # 设置随机种子"
   ]
  },
  {
   "cell_type": "markdown",
   "id": "d1b64a59",
   "metadata": {},
   "source": [
    "### 生成均匀分布的随机数"
   ]
  },
  {
   "cell_type": "code",
   "execution_count": 1,
   "id": "b912ad39",
   "metadata": {
    "ExecuteTime": {
     "end_time": "2024-11-15T09:13:07.958101Z",
     "start_time": "2024-11-15T09:13:05.067590Z"
    }
   },
   "outputs": [
    {
     "data": {
      "text/plain": [
       "tensor([[0.9790, 0.3822, 0.3341],\n",
       "        [0.0788, 0.5642, 0.1184],\n",
       "        [0.7974, 0.1066, 0.5231],\n",
       "        [0.3911, 0.4844, 0.4615]])"
      ]
     },
     "execution_count": 1,
     "metadata": {},
     "output_type": "execute_result"
    }
   ],
   "source": [
    "import torch\n",
    "torch.rand(4, 3) # 生成0-1之间的均匀分布随机数张量"
   ]
  },
  {
   "cell_type": "code",
   "execution_count": 2,
   "id": "de3f67b7",
   "metadata": {
    "ExecuteTime": {
     "end_time": "2024-11-15T09:15:55.404705Z",
     "start_time": "2024-11-15T09:15:55.398457Z"
    }
   },
   "outputs": [
    {
     "name": "stdout",
     "output_type": "stream",
     "text": [
      "tensor([[6.7060, 5.0212, 8.5419],\n",
      "        [7.1008, 6.9194, 8.5700],\n",
      "        [8.4349, 8.2251, 6.0730]])\n"
     ]
    }
   ],
   "source": [
    "# 生成一个范围在[a, b)之间的随机数\n",
    "a, b = 5, 10\n",
    "random_tensor = a + (b - a) * torch.rand(3, 3)\n",
    "print(random_tensor)"
   ]
  },
  {
   "cell_type": "markdown",
   "id": "3027c25e",
   "metadata": {},
   "source": [
    "### 生成正态分布的随机数"
   ]
  },
  {
   "cell_type": "code",
   "execution_count": 3,
   "id": "1651332e",
   "metadata": {
    "ExecuteTime": {
     "end_time": "2024-11-15T09:16:20.129903Z",
     "start_time": "2024-11-15T09:16:20.118212Z"
    }
   },
   "outputs": [
    {
     "name": "stdout",
     "output_type": "stream",
     "text": [
      "tensor([[-0.9760,  2.0043, -0.1343],\n",
      "        [-0.3076, -0.4606,  0.6736],\n",
      "        [-1.2156, -0.8438,  0.3020]])\n"
     ]
    }
   ],
   "source": [
    "random_tensor = torch.randn(3, 3)  # 生成形状为(3, 3)的标准正态分布随机数\n",
    "print(random_tensor)"
   ]
  },
  {
   "cell_type": "markdown",
   "id": "61550a50",
   "metadata": {},
   "source": [
    "### 生成整数随机数"
   ]
  },
  {
   "cell_type": "code",
   "execution_count": 4,
   "id": "d3eb5f14",
   "metadata": {
    "ExecuteTime": {
     "end_time": "2024-11-15T09:16:42.380195Z",
     "start_time": "2024-11-15T09:16:42.375182Z"
    }
   },
   "outputs": [
    {
     "name": "stdout",
     "output_type": "stream",
     "text": [
      "tensor([[6, 7, 6],\n",
      "        [9, 7, 6],\n",
      "        [1, 6, 5]])\n"
     ]
    }
   ],
   "source": [
    "random_tensor = torch.randint(low=0, high=10, size=(3, 3))  # 生成在[0, 10)范围内的整数\n",
    "print(random_tensor)"
   ]
  },
  {
   "cell_type": "markdown",
   "id": "1beeee62",
   "metadata": {},
   "source": [
    "### 生成特定范围的浮动随机数"
   ]
  },
  {
   "cell_type": "code",
   "execution_count": 6,
   "id": "7625f6d1",
   "metadata": {
    "ExecuteTime": {
     "end_time": "2024-11-15T09:17:37.734845Z",
     "start_time": "2024-11-15T09:17:37.730098Z"
    }
   },
   "outputs": [
    {
     "name": "stdout",
     "output_type": "stream",
     "text": [
      "tensor([[4.4113, 4.5750, 1.9143],\n",
      "        [4.7965, 1.9522, 3.0045],\n",
      "        [1.2829, 3.9682, 4.7039]])\n"
     ]
    }
   ],
   "source": [
    "random_tensor = torch.rand(3, 3) * 5  # 生成在[0, 5)范围内的浮动随机数\n",
    "print(random_tensor)"
   ]
  },
  {
   "cell_type": "markdown",
   "id": "ca543b06",
   "metadata": {},
   "source": [
    "## torch.zeros_like()"
   ]
  },
  {
   "cell_type": "code",
   "execution_count": 7,
   "id": "03523975",
   "metadata": {
    "ExecuteTime": {
     "end_time": "2024-11-15T09:20:50.509658Z",
     "start_time": "2024-11-15T09:20:50.505057Z"
    }
   },
   "outputs": [
    {
     "name": "stdout",
     "output_type": "stream",
     "text": [
      "tensor([[0., 0., 0.],\n",
      "        [0., 0., 0.],\n",
      "        [0., 0., 0.]])\n"
     ]
    }
   ],
   "source": [
    "import torch\n",
    "\n",
    "tensor = torch.randn(3, 3)\n",
    "zero_tensor = torch.zeros_like(tensor)\n",
    "print(zero_tensor)  # 生成形状相同，但元素全为0的张量"
   ]
  },
  {
   "cell_type": "code",
   "execution_count": 8,
   "id": "2639985f",
   "metadata": {
    "ExecuteTime": {
     "end_time": "2024-11-15T09:21:23.452031Z",
     "start_time": "2024-11-15T09:21:23.448060Z"
    }
   },
   "outputs": [
    {
     "name": "stdout",
     "output_type": "stream",
     "text": [
      "tensor([[0., 0., 0.],\n",
      "        [0., 0., 0.],\n",
      "        [0., 0., 0.]])\n"
     ]
    }
   ],
   "source": [
    "zeros_tensor = torch.zeros(3, 3)  # 创建一个3x3的全0张量\n",
    "print(zero_tensor)"
   ]
  },
  {
   "cell_type": "markdown",
   "id": "22b9123d",
   "metadata": {},
   "source": [
    "## torch.ones_like()"
   ]
  },
  {
   "cell_type": "code",
   "execution_count": 9,
   "id": "20315162",
   "metadata": {
    "ExecuteTime": {
     "end_time": "2024-11-15T09:21:56.086393Z",
     "start_time": "2024-11-15T09:21:56.081803Z"
    }
   },
   "outputs": [
    {
     "name": "stdout",
     "output_type": "stream",
     "text": [
      "tensor([[1., 1., 1.],\n",
      "        [1., 1., 1.],\n",
      "        [1., 1., 1.]])\n"
     ]
    }
   ],
   "source": [
    "ones_tensor = torch.ones_like(tensor)\n",
    "print(ones_tensor)  # 生成形状相同，但元素全为1的张量"
   ]
  },
  {
   "cell_type": "code",
   "execution_count": 10,
   "id": "32889ae9",
   "metadata": {
    "ExecuteTime": {
     "end_time": "2024-11-15T09:22:17.982194Z",
     "start_time": "2024-11-15T09:22:17.977521Z"
    }
   },
   "outputs": [
    {
     "name": "stdout",
     "output_type": "stream",
     "text": [
      "tensor([[1., 1., 1.],\n",
      "        [1., 1., 1.],\n",
      "        [1., 1., 1.]])\n"
     ]
    }
   ],
   "source": [
    "ones_tensor = torch.ones(3, 3)  # 创建一个3x3的全0张量\n",
    "print(ones_tensor)"
   ]
  },
  {
   "cell_type": "markdown",
   "id": "762e2c9d",
   "metadata": {},
   "source": [
    "## torch.full_like()"
   ]
  },
  {
   "cell_type": "code",
   "execution_count": 11,
   "id": "62cd4b27",
   "metadata": {
    "ExecuteTime": {
     "end_time": "2024-11-15T09:22:45.584904Z",
     "start_time": "2024-11-15T09:22:45.579484Z"
    }
   },
   "outputs": [
    {
     "name": "stdout",
     "output_type": "stream",
     "text": [
      "tensor([[7., 7., 7.],\n",
      "        [7., 7., 7.],\n",
      "        [7., 7., 7.]])\n"
     ]
    }
   ],
   "source": [
    "full_tensor = torch.full_like(tensor, fill_value=7)\n",
    "print(full_tensor)  # 生成形状相同，但元素全为7的张量"
   ]
  },
  {
   "cell_type": "markdown",
   "id": "a55b2b29-745b-4456-8533-a1dc256d80d1",
   "metadata": {},
   "source": [
    "## torch.full()"
   ]
  },
  {
   "cell_type": "markdown",
   "id": "c7c8509f-b096-44e8-a39e-71986678a5ac",
   "metadata": {},
   "source": [
    "torch.full() 是 PyTorch 中用于创建一个填充指定值的张量的函数。它可以初始化一个指定形状的张量，并用单一的标量值填充所有元素。\n",
    "\n",
    "`torch.full(size, fill_value, dtype=None, layout=torch.strided, device=None, requires_grad=False)`\n",
    "\n",
    "参数：  \n",
    "\n",
    "size：张量的形状，类型为元组或列表，例如 (3, 4) 表示创建一个 3x4 的张量。  \n",
    "fill_value：用来填充张量的值，标量类型。  \n",
    "dtype（可选）：张量的数据类型，例如 torch.float32 或 torch.int64。默认值为 float32。  \n",
    "device（可选）：张量所在的设备，默认为 CPU。如果需要在 GPU 上创建张量，可以指定为 torch.device('cuda')。  \n",
    "requires_grad（可选）：布尔值，是否需要为该张量计算梯度，默认为 False。  \n",
    "\n",
    "返回值： 一个填充了指定值的张量。"
   ]
  },
  {
   "cell_type": "code",
   "execution_count": 5,
   "id": "04d17fe1-c215-44ac-ad19-491f05c5f852",
   "metadata": {
    "execution": {
     "iopub.execute_input": "2024-12-08T03:40:28.759238Z",
     "iopub.status.busy": "2024-12-08T03:40:28.758240Z",
     "iopub.status.idle": "2024-12-08T03:40:28.792423Z",
     "shell.execute_reply": "2024-12-08T03:40:28.791553Z",
     "shell.execute_reply.started": "2024-12-08T03:40:28.759238Z"
    }
   },
   "outputs": [
    {
     "name": "stdout",
     "output_type": "stream",
     "text": [
      "tensor([[7, 7, 7],\n",
      "        [7, 7, 7],\n",
      "        [7, 7, 7]])\n"
     ]
    }
   ],
   "source": [
    "import torch\n",
    "\n",
    "# 创建一个 3x3 的张量，所有元素填充为 7\n",
    "tensor = torch.full((3, 3), 7)\n",
    "print(tensor)"
   ]
  },
  {
   "cell_type": "code",
   "execution_count": 6,
   "id": "87dfb73b-3bb3-42dc-8b80-9dea85a3d1bd",
   "metadata": {
    "execution": {
     "iopub.execute_input": "2024-12-08T03:40:39.485196Z",
     "iopub.status.busy": "2024-12-08T03:40:39.484146Z",
     "iopub.status.idle": "2024-12-08T03:40:39.504855Z",
     "shell.execute_reply": "2024-12-08T03:40:39.502981Z",
     "shell.execute_reply.started": "2024-12-08T03:40:39.485196Z"
    }
   },
   "outputs": [
    {
     "name": "stdout",
     "output_type": "stream",
     "text": [
      "tensor([[5, 5],\n",
      "        [5, 5]], dtype=torch.int32)\n"
     ]
    }
   ],
   "source": [
    "# 创建一个整数类型的张量\n",
    "tensor_int = torch.full((2, 2), 5, dtype=torch.int32)\n",
    "print(tensor_int)"
   ]
  },
  {
   "cell_type": "code",
   "execution_count": 7,
   "id": "334a66de-3b3f-445c-b2cf-e8da788b41b8",
   "metadata": {
    "execution": {
     "iopub.execute_input": "2024-12-08T03:40:49.231162Z",
     "iopub.status.busy": "2024-12-08T03:40:49.228155Z",
     "iopub.status.idle": "2024-12-08T03:40:49.888565Z",
     "shell.execute_reply": "2024-12-08T03:40:49.887596Z",
     "shell.execute_reply.started": "2024-12-08T03:40:49.230284Z"
    }
   },
   "outputs": [
    {
     "name": "stdout",
     "output_type": "stream",
     "text": [
      "tensor([[0.5000, 0.5000, 0.5000],\n",
      "        [0.5000, 0.5000, 0.5000]], device='cuda:0')\n"
     ]
    }
   ],
   "source": [
    "# 在 GPU 上创建一个张量（需确保 GPU 可用）\n",
    "tensor_gpu = torch.full((2, 3), 0.5, device=torch.device('cuda'))\n",
    "print(tensor_gpu)"
   ]
  },
  {
   "cell_type": "markdown",
   "id": "39bb5592",
   "metadata": {},
   "source": [
    "## torch.rand_like()"
   ]
  },
  {
   "cell_type": "code",
   "execution_count": 12,
   "id": "d85b2d1a",
   "metadata": {
    "ExecuteTime": {
     "end_time": "2024-11-15T09:23:16.524731Z",
     "start_time": "2024-11-15T09:23:16.520219Z"
    }
   },
   "outputs": [
    {
     "name": "stdout",
     "output_type": "stream",
     "text": [
      "tensor([[0.0062, 0.9516, 0.0753],\n",
      "        [0.8860, 0.5832, 0.3376],\n",
      "        [0.8090, 0.5779, 0.9040]])\n"
     ]
    }
   ],
   "source": [
    "rand_tensor = torch.rand_like(tensor, dtype=torch.float32)\n",
    "print(rand_tensor)  # 生成形状相同，且元素为[0, 1)之间的随机数的张量"
   ]
  },
  {
   "cell_type": "markdown",
   "id": "f68b2661",
   "metadata": {},
   "source": [
    "## nn.MSELoss()"
   ]
  },
  {
   "cell_type": "markdown",
   "id": "6b850842",
   "metadata": {},
   "source": [
    "torch.nn.MSELoss(size_average=None, reduce=None, reduction=\"mean\")\n",
    "\n",
    "该函数默认用于计算两个输入对应元素差值平方和的均值。\n",
    "\n",
    "如果同时给出了reduce、size_average、reduction三个参数，则首先看前两个参数。如果前两个参数均为None，则函数的返回值由reduction参数决定。如果前两个参数不全为None，则函数的返回值由前两个参数决定，在这种情况下，为None的那个参数默认为True。确定了三个参数的取值后，根据下述规则进行计算即可：\n",
    "\n",
    "- 当reduce=True时，若size_average=True，则返回一个batch中所有样本损失的均值，结果为**标量**。注意，对于MESLoss函数来说，首先对该batch中的所有样本损失进行逐元素均值操作，然后对得到N个值再进行均值操作即得到返回值（假设批大小为N，即该batch中共有N个样本），用官网的话来说，就是The mean operation still operates over all the elements, and divides by N.\n",
    "- 当reduce=True时，若size_average=False，则返回一个batch中所有样本损失的和，结果为**标量**。注意，对于MESLoss函数来说，首先对该batch中的所有样本损失进行逐元素求和操作，然后对得到N个值再进行求和操作即得到返回值（假设批大小为N，即该batch中共有N个样本），用官网的话来说，就是The sum operation still operates over all the elements.\n",
    "- 当reduce=False时，则size_average参数失效，即无论size_average参数为False还是True，效果都是一样的。此时，函数返回的是一个batch中每个样本的损失，结果为**向量**。"
   ]
  },
  {
   "cell_type": "markdown",
   "id": "2970bf3c-24f0-4e38-a4e5-e011b3ed393d",
   "metadata": {},
   "source": [
    "## torch.max()"
   ]
  },
  {
   "cell_type": "markdown",
   "id": "0e3665aa-1221-4df5-a389-c65c9276ff78",
   "metadata": {},
   "source": [
    "torch.max() 是 PyTorch 中的一个常用函数，用于返回输入张量的最大值。它有多个用途，可以用来获取张量的最大值、最大值的索引，或者对指定维度进行操作。"
   ]
  },
  {
   "cell_type": "markdown",
   "id": "b406fedc-6b82-44eb-a43b-2d8fab321b41",
   "metadata": {},
   "source": [
    "### 获取张量的最大值"
   ]
  },
  {
   "cell_type": "code",
   "execution_count": 1,
   "id": "e68fc921-9bda-4dd6-8c7a-3f0d7aa2309c",
   "metadata": {
    "execution": {
     "iopub.execute_input": "2024-12-08T03:28:03.756907Z",
     "iopub.status.busy": "2024-12-08T03:28:03.754902Z",
     "iopub.status.idle": "2024-12-08T03:29:03.724536Z",
     "shell.execute_reply": "2024-12-08T03:29:03.723535Z",
     "shell.execute_reply.started": "2024-12-08T03:28:03.756907Z"
    }
   },
   "outputs": [
    {
     "name": "stdout",
     "output_type": "stream",
     "text": [
      "tensor(7)\n"
     ]
    }
   ],
   "source": [
    "import torch\n",
    "\n",
    "# 创建一个张量\n",
    "tensor = torch.tensor([1, 3, 7, 2, 5])\n",
    "\n",
    "# 获取张量的最大值\n",
    "max_value = torch.max(tensor)\n",
    "print(max_value)  # 输出: tensor(7)"
   ]
  },
  {
   "cell_type": "markdown",
   "id": "d0c1f660-1ff6-401e-84ae-8c9cd8627030",
   "metadata": {},
   "source": [
    "### 获取张量的最大值及其索引"
   ]
  },
  {
   "cell_type": "code",
   "execution_count": 2,
   "id": "47a8dce3-55a1-4a35-bd6c-2f7c09d9db76",
   "metadata": {
    "execution": {
     "iopub.execute_input": "2024-12-08T03:29:51.984974Z",
     "iopub.status.busy": "2024-12-08T03:29:51.982970Z",
     "iopub.status.idle": "2024-12-08T03:29:52.019454Z",
     "shell.execute_reply": "2024-12-08T03:29:52.018567Z",
     "shell.execute_reply.started": "2024-12-08T03:29:51.984974Z"
    }
   },
   "outputs": [
    {
     "name": "stdout",
     "output_type": "stream",
     "text": [
      "tensor(7)\n",
      "tensor(2)\n"
     ]
    }
   ],
   "source": [
    "# 获取最大值及索引\n",
    "max_value, max_index = torch.max(tensor, dim=0)\n",
    "print(max_value)  # 输出: tensor(7)\n",
    "print(max_index)  # 输出: tensor(2)"
   ]
  },
  {
   "cell_type": "markdown",
   "id": "603afd0d-57a1-431b-a12e-6f2b29a46cc7",
   "metadata": {},
   "source": [
    "### 对指定维度取最大值"
   ]
  },
  {
   "cell_type": "code",
   "execution_count": 3,
   "id": "201a0d3d-735a-4273-899c-3bd0940c9df1",
   "metadata": {
    "execution": {
     "iopub.execute_input": "2024-12-08T03:30:44.200978Z",
     "iopub.status.busy": "2024-12-08T03:30:44.199996Z",
     "iopub.status.idle": "2024-12-08T03:30:44.228971Z",
     "shell.execute_reply": "2024-12-08T03:30:44.228004Z",
     "shell.execute_reply.started": "2024-12-08T03:30:44.200978Z"
    }
   },
   "outputs": [
    {
     "name": "stdout",
     "output_type": "stream",
     "text": [
      "tensor([5, 8, 7])\n",
      "tensor([2, 1, 0])\n",
      "tensor([7, 8, 6])\n",
      "tensor([2, 1, 2])\n"
     ]
    }
   ],
   "source": [
    "# 创建一个 2D 张量\n",
    "tensor_2d = torch.tensor([[1, 3, 7],\n",
    "                          [2, 8, 4],\n",
    "                          [5, 0, 6]])\n",
    "\n",
    "# 对每列（dim=0）取最大值\n",
    "max_values, max_indices = torch.max(tensor_2d, dim=0)\n",
    "print(max_values)  # 输出: tensor([5, 8, 7])\n",
    "print(max_indices) # 输出: tensor([2, 1, 0])\n",
    "\n",
    "# 对每行（dim=1）取最大值\n",
    "max_values, max_indices = torch.max(tensor_2d, dim=1)\n",
    "print(max_values)  # 输出: tensor([7, 8, 6])\n",
    "print(max_indices) # 输出: tensor([2, 1, 2])"
   ]
  },
  {
   "cell_type": "markdown",
   "id": "7ecd0856-610d-4f50-835f-384b98219eee",
   "metadata": {},
   "source": [
    "### 保留维度（keepdim=True）"
   ]
  },
  {
   "cell_type": "code",
   "execution_count": 4,
   "id": "28c0877c-f289-41cf-a4bf-f4bb451fcf9a",
   "metadata": {
    "execution": {
     "iopub.execute_input": "2024-12-08T03:31:49.931214Z",
     "iopub.status.busy": "2024-12-08T03:31:49.931214Z",
     "iopub.status.idle": "2024-12-08T03:31:49.945179Z",
     "shell.execute_reply": "2024-12-08T03:31:49.944242Z",
     "shell.execute_reply.started": "2024-12-08T03:31:49.931214Z"
    }
   },
   "outputs": [
    {
     "name": "stdout",
     "output_type": "stream",
     "text": [
      "tensor([[5, 8, 7]])\n",
      "tensor([[2, 1, 0]])\n"
     ]
    }
   ],
   "source": [
    "# 对每列（dim=0）取最大值，并保留维度\n",
    "max_values, max_indices = torch.max(tensor_2d, dim=0, keepdim=True)\n",
    "print(max_values)  # 输出: tensor([[5, 8, 7]])\n",
    "print(max_indices) # 输出: tensor([[2, 1, 0]])"
   ]
  },
  {
   "cell_type": "markdown",
   "id": "0ea50085-0c4b-4fee-95e1-10dd7f452e44",
   "metadata": {},
   "source": [
    "## torch.min()"
   ]
  },
  {
   "cell_type": "markdown",
   "id": "8f526f81-c742-45cf-a63e-e58aa3a12b3e",
   "metadata": {},
   "source": [
    "同torch.max()"
   ]
  },
  {
   "cell_type": "markdown",
   "id": "c239a8c1",
   "metadata": {},
   "source": [
    "# 模型常用函数"
   ]
  },
  {
   "cell_type": "markdown",
   "id": "71063eff",
   "metadata": {},
   "source": [
    "## model.eval()"
   ]
  },
  {
   "cell_type": "markdown",
   "id": "7a96bd28",
   "metadata": {},
   "source": [
    "在推理时，如果使用model.eval()将不启用 BatchNormalization 和 Dropout，保证BN和dropout不发生变化，pytorch框架会自动把BN和Dropout固定住，不会取平均，而是用训练好的值，不然的话，一旦test的batch_size过小，很容易就会被BN层影响结果。所以在利用原始.pth模型进行前向推理之前，一定要先进行model.eval()操作，不启用 BatchNormalization 和 Dropout。"
   ]
  },
  {
   "cell_type": "code",
   "execution_count": null,
   "id": "f5c76634",
   "metadata": {},
   "outputs": [],
   "source": []
  }
 ],
 "metadata": {
  "hide_input": false,
  "kernelspec": {
   "display_name": "Python 3 (ipykernel)",
   "language": "python",
   "name": "python3"
  },
  "language_info": {
   "codemirror_mode": {
    "name": "ipython",
    "version": 3
   },
   "file_extension": ".py",
   "mimetype": "text/x-python",
   "name": "python",
   "nbconvert_exporter": "python",
   "pygments_lexer": "ipython3",
   "version": "3.9.18"
  },
  "toc": {
   "base_numbering": 1,
   "nav_menu": {},
   "number_sections": true,
   "sideBar": true,
   "skip_h1_title": false,
   "title_cell": "Table of Contents",
   "title_sidebar": "Contents",
   "toc_cell": false,
   "toc_position": {
    "height": "calc(100% - 180px)",
    "left": "10px",
    "top": "150px",
    "width": "179.4px"
   },
   "toc_section_display": true,
   "toc_window_display": true
  },
  "varInspector": {
   "cols": {
    "lenName": 16,
    "lenType": 16,
    "lenVar": 40
   },
   "kernels_config": {
    "python": {
     "delete_cmd_postfix": "",
     "delete_cmd_prefix": "del ",
     "library": "var_list.py",
     "varRefreshCmd": "print(var_dic_list())"
    },
    "r": {
     "delete_cmd_postfix": ") ",
     "delete_cmd_prefix": "rm(",
     "library": "var_list.r",
     "varRefreshCmd": "cat(var_dic_list()) "
    }
   },
   "types_to_exclude": [
    "module",
    "function",
    "builtin_function_or_method",
    "instance",
    "_Feature"
   ],
   "window_display": false
  }
 },
 "nbformat": 4,
 "nbformat_minor": 5
}
