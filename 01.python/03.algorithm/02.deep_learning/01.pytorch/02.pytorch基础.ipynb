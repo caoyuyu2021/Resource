{
 "cells": [
  {
   "cell_type": "markdown",
   "id": "3fb091f5-4d8d-4181-adaa-ad21c869a4aa",
   "metadata": {},
   "source": [
    "# 模型常用函数"
   ]
  },
  {
   "cell_type": "markdown",
   "id": "95ab519a-3d62-4d5c-b6fd-ae78575c0f4c",
   "metadata": {},
   "source": [
    "## 全连接层"
   ]
  },
  {
   "cell_type": "code",
   "execution_count": null,
   "id": "12d729f5-532c-4c46-8634-cba74d88d3d2",
   "metadata": {},
   "outputs": [],
   "source": []
  }
 ],
 "metadata": {
  "kernelspec": {
   "display_name": "CV",
   "language": "python",
   "name": "cv"
  },
  "language_info": {
   "codemirror_mode": {
    "name": "ipython",
    "version": 3
   },
   "file_extension": ".py",
   "mimetype": "text/x-python",
   "name": "python",
   "nbconvert_exporter": "python",
   "pygments_lexer": "ipython3",
   "version": "3.9.18"
  }
 },
 "nbformat": 4,
 "nbformat_minor": 5
}
