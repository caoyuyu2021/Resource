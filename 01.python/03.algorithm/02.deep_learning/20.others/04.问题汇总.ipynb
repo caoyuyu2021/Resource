{
 "cells": [
  {
   "cell_type": "markdown",
   "id": "f769f2bd",
   "metadata": {},
   "source": [
    "# RuntimeError: CUDA out of memory. "
   ]
  },
  {
   "cell_type": "markdown",
   "id": "e33ca75c",
   "metadata": {},
   "source": [
    "关于CUDA GPU显存管理的总结：\n",
    "- GPU显存占用率和存入的数据尺寸成正相关，越大的数据占用显存越多\n",
    "- 只要使用了GPU，就至少会占x xx M的显存，且这部分显存无法被释放\n",
    "- 当一块内存不再被变量所引用时，这块内存就由激活内存转为失活内存，但它仍然存在于这个数据队列中\n",
    "- 当数据队列达到某个阈值时，CUDA会触发垃圾回收机制，清理失活内存\n",
    "- 运行torch.cuda.empty_cache()可以手动清理失活内存"
   ]
  },
  {
   "cell_type": "markdown",
   "id": "d260edf3",
   "metadata": {},
   "source": [
    "那么根据上述理论，就可以得到对应的问题解决方案：\n",
    "- 调小batch_size  \n",
    "  本质上是防止GPU数据队列向显存申请的空间大于显存本身\n",
    "\n",
    "- 检查是否有数据持续存入GPU而未释放\n",
    "\n",
    "- 训练过程中的测试阶段和验证阶段前插入代码with torch.no_grad()  \n",
    "  原理是不计算梯度，从而不用GPU加速运算，不会把数据再加到数据队列中"
   ]
  },
  {
   "cell_type": "code",
   "execution_count": null,
   "id": "b30573a3",
   "metadata": {},
   "outputs": [],
   "source": []
  }
 ],
 "metadata": {
  "hide_input": false,
  "kernelspec": {
   "display_name": "Python 3 (ipykernel)",
   "language": "python",
   "name": "python3"
  },
  "language_info": {
   "codemirror_mode": {
    "name": "ipython",
    "version": 3
   },
   "file_extension": ".py",
   "mimetype": "text/x-python",
   "name": "python",
   "nbconvert_exporter": "python",
   "pygments_lexer": "ipython3",
   "version": "3.11.5"
  },
  "toc": {
   "base_numbering": 1,
   "nav_menu": {},
   "number_sections": true,
   "sideBar": true,
   "skip_h1_title": false,
   "title_cell": "Table of Contents",
   "title_sidebar": "Contents",
   "toc_cell": false,
   "toc_position": {},
   "toc_section_display": true,
   "toc_window_display": false
  },
  "varInspector": {
   "cols": {
    "lenName": 16,
    "lenType": 16,
    "lenVar": 40
   },
   "kernels_config": {
    "python": {
     "delete_cmd_postfix": "",
     "delete_cmd_prefix": "del ",
     "library": "var_list.py",
     "varRefreshCmd": "print(var_dic_list())"
    },
    "r": {
     "delete_cmd_postfix": ") ",
     "delete_cmd_prefix": "rm(",
     "library": "var_list.r",
     "varRefreshCmd": "cat(var_dic_list()) "
    }
   },
   "types_to_exclude": [
    "module",
    "function",
    "builtin_function_or_method",
    "instance",
    "_Feature"
   ],
   "window_display": false
  }
 },
 "nbformat": 4,
 "nbformat_minor": 5
}
