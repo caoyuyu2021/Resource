{
 "cells": [
  {
   "cell_type": "markdown",
   "id": "c7de1818",
   "metadata": {},
   "source": [
    "# 损失函数"
   ]
  },
  {
   "cell_type": "markdown",
   "id": "620ca1fb",
   "metadata": {},
   "source": [
    "## 自定义损失函数"
   ]
  },
  {
   "cell_type": "markdown",
   "id": "8a3e9d5a",
   "metadata": {},
   "source": [
    "\"SMAPE loss\" 是指 Symmetric Mean Absolute Percentage Error，中文意为对称平均绝对百分比误差。这是一种用于衡量预测模型精度的指标，通常用于评估时间序列预测模型的性能。\n",
    "\n",
    "SMAPE 的计算公式如下：\n",
    "\n",
    "\\$\n",
    "SMAPE = \\frac{100\\%}{n} \\sum_{t=1}^{n} \\frac{|F_t - A_t|}{(|F_t| + |A_t|)/2}\n",
    "\\$\n",
    "\n",
    "其中：\n",
    "\n",
    "- \\(F_t\\) 是模型预测的值；\n",
    "- \\(A_t\\) 是实际观测到的值；\n",
    "- \\(n\\) 是样本数量。\n",
    "\n",
    "SMAPE 通常被用作损失函数，用于优化时间序列预测模型。在优化过程中，目标是尽量减小 SMAPE 损失，以提高模型的预测准确性。"
   ]
  },
  {
   "cell_type": "code",
   "execution_count": 1,
   "id": "292607e9",
   "metadata": {
    "ExecuteTime": {
     "end_time": "2024-04-22T07:08:15.961587Z",
     "start_time": "2024-04-22T07:08:10.300149Z"
    }
   },
   "outputs": [],
   "source": [
    "\"\"\"\n",
    "Loss functions for PyTorch.\n",
    "\"\"\"\n",
    "\n",
    "import torch as t\n",
    "import torch.nn as nn\n",
    "import numpy as np\n",
    "import pdb\n",
    "\n",
    "\n",
    "def divide_no_nan(a, b):\n",
    "    \"\"\"\n",
    "    a/b where the resulted NaN or Inf are replaced by 0.\n",
    "    \"\"\"\n",
    "    result = a / b\n",
    "    result[result != result] = .0\n",
    "    result[result == np.inf] = .0\n",
    "    return result\n",
    "\n",
    "\n",
    "class mape_loss(nn.Module):\n",
    "    def __init__(self):\n",
    "        super(mape_loss, self).__init__()\n",
    "\n",
    "    def forward(self, insample: t.Tensor, freq: int,\n",
    "                forecast: t.Tensor, target: t.Tensor, mask: t.Tensor) -> t.float:\n",
    "        \"\"\"\n",
    "        MAPE loss as defined in: https://en.wikipedia.org/wiki/Mean_absolute_percentage_error\n",
    "\n",
    "        :param forecast: Forecast values. Shape: batch, time\n",
    "        :param target: Target values. Shape: batch, time\n",
    "        :param mask: 0/1 mask. Shape: batch, time\n",
    "        :return: Loss value\n",
    "        \"\"\"\n",
    "        weights = divide_no_nan(mask, target)\n",
    "        return t.mean(t.abs((forecast - target) * weights))\n",
    "\n",
    "\n",
    "class smape_loss(nn.Module):\n",
    "    def __init__(self):\n",
    "        super(smape_loss, self).__init__()\n",
    "\n",
    "    def forward(self, insample: t.Tensor, freq: int,\n",
    "                forecast: t.Tensor, target: t.Tensor, mask: t.Tensor) -> t.float:\n",
    "        \"\"\"\n",
    "        sMAPE loss as defined in https://robjhyndman.com/hyndsight/smape/ (Makridakis 1993)\n",
    "\n",
    "        :param forecast: Forecast values. Shape: batch, time\n",
    "        :param target: Target values. Shape: batch, time\n",
    "        :param mask: 0/1 mask. Shape: batch, time\n",
    "        :return: Loss value\n",
    "        \"\"\"\n",
    "        return 200 * t.mean(divide_no_nan(t.abs(forecast - target),\n",
    "                                          t.abs(forecast.data) + t.abs(target.data)) * mask)\n",
    "\n",
    "\n",
    "class mase_loss(nn.Module):\n",
    "    def __init__(self):\n",
    "        super(mase_loss, self).__init__()\n",
    "\n",
    "    def forward(self, insample: t.Tensor, freq: int,\n",
    "                forecast: t.Tensor, target: t.Tensor, mask: t.Tensor) -> t.float:\n",
    "        \"\"\"\n",
    "        MASE loss as defined in \"Scaled Errors\" https://robjhyndman.com/papers/mase.pdf\n",
    "\n",
    "        :param insample: Insample values. Shape: batch, time_i\n",
    "        :param freq: Frequency value\n",
    "        :param forecast: Forecast values. Shape: batch, time_o\n",
    "        :param target: Target values. Shape: batch, time_o\n",
    "        :param mask: 0/1 mask. Shape: batch, time_o\n",
    "        :return: Loss value\n",
    "        \"\"\"\n",
    "        masep = t.mean(t.abs(insample[:, freq:] - insample[:, :-freq]), dim=1)\n",
    "        masked_masep_inv = divide_no_nan(mask, masep[:, None])\n",
    "        return t.mean(t.abs(target - forecast) * masked_masep_inv)\n"
   ]
  },
  {
   "cell_type": "markdown",
   "id": "a6f89642",
   "metadata": {},
   "source": [
    "## nn.MSELoss"
   ]
  },
  {
   "cell_type": "markdown",
   "id": "85d7f6ee",
   "metadata": {},
   "source": [
    "torch.nn.MSELoss(size_average=None, reduce=None, reduction=\"mean\")\n",
    "\n",
    "该函数默认用于计算两个输入对应元素差值平方和的均值。\n",
    "\n",
    "如果同时给出了reduce、size_average、reduction三个参数，则首先看前两个参数。如果前两个参数均为None，则函数的返回值由reduction参数决定。如果前两个参数不全为None，则函数的返回值由前两个参数决定，在这种情况下，为None的那个参数默认为True。确定了三个参数的取值后，根据下述规则进行计算即可：\n",
    "\n",
    "- 当reduce=True时，若size_average=True，则返回一个batch中所有样本损失的均值，结果为**标量**。注意，对于MESLoss函数来说，首先对该batch中的所有样本损失进行逐元素均值操作，然后对得到N个值再进行均值操作即得到返回值（假设批大小为N，即该batch中共有N个样本），用官网的话来说，就是The mean operation still operates over all the elements, and divides by N.\n",
    "- 当reduce=True时，若size_average=False，则返回一个batch中所有样本损失的和，结果为**标量**。注意，对于MESLoss函数来说，首先对该batch中的所有样本损失进行逐元素求和操作，然后对得到N个值再进行求和操作即得到返回值（假设批大小为N，即该batch中共有N个样本），用官网的话来说，就是The sum operation still operates over all the elements.\n",
    "- 当reduce=False时，则size_average参数失效，即无论size_average参数为False还是True，效果都是一样的。此时，函数返回的是一个batch中每个样本的损失，结果为**向量**。"
   ]
  },
  {
   "cell_type": "code",
   "execution_count": null,
   "id": "cac1cf4c",
   "metadata": {},
   "outputs": [],
   "source": []
  }
 ],
 "metadata": {
  "hide_input": false,
  "kernelspec": {
   "display_name": "Python 3 (ipykernel)",
   "language": "python",
   "name": "python3"
  },
  "language_info": {
   "codemirror_mode": {
    "name": "ipython",
    "version": 3
   },
   "file_extension": ".py",
   "mimetype": "text/x-python",
   "name": "python",
   "nbconvert_exporter": "python",
   "pygments_lexer": "ipython3",
   "version": "3.11.5"
  },
  "toc": {
   "base_numbering": 1,
   "nav_menu": {},
   "number_sections": true,
   "sideBar": true,
   "skip_h1_title": false,
   "title_cell": "Table of Contents",
   "title_sidebar": "Contents",
   "toc_cell": false,
   "toc_position": {
    "height": "calc(100% - 180px)",
    "left": "10px",
    "top": "150px",
    "width": "165px"
   },
   "toc_section_display": true,
   "toc_window_display": true
  },
  "varInspector": {
   "cols": {
    "lenName": 16,
    "lenType": 16,
    "lenVar": 40
   },
   "kernels_config": {
    "python": {
     "delete_cmd_postfix": "",
     "delete_cmd_prefix": "del ",
     "library": "var_list.py",
     "varRefreshCmd": "print(var_dic_list())"
    },
    "r": {
     "delete_cmd_postfix": ") ",
     "delete_cmd_prefix": "rm(",
     "library": "var_list.r",
     "varRefreshCmd": "cat(var_dic_list()) "
    }
   },
   "types_to_exclude": [
    "module",
    "function",
    "builtin_function_or_method",
    "instance",
    "_Feature"
   ],
   "window_display": false
  }
 },
 "nbformat": 4,
 "nbformat_minor": 5
}
