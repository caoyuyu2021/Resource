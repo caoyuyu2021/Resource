{
 "cells": [
  {
   "cell_type": "markdown",
   "id": "b1aa5299",
   "metadata": {},
   "source": [
    "# 文件中保存模型结构和权重参数"
   ]
  },
  {
   "cell_type": "code",
   "execution_count": 23,
   "id": "13d49764",
   "metadata": {
    "ExecuteTime": {
     "end_time": "2023-06-08T09:37:15.750730Z",
     "start_time": "2023-06-08T09:37:15.738651Z"
    }
   },
   "outputs": [],
   "source": [
    "import numpy as np\n",
    "import torch.optim as optim\n",
    "import torch.nn as nn"
   ]
  },
  {
   "cell_type": "code",
   "execution_count": 24,
   "id": "aa9f144e",
   "metadata": {
    "ExecuteTime": {
     "end_time": "2023-06-08T09:37:16.362531Z",
     "start_time": "2023-06-08T09:37:16.354557Z"
    }
   },
   "outputs": [
    {
     "data": {
      "text/plain": [
       "tensor([[5.6300],\n",
       "        [6.0400]])"
      ]
     },
     "execution_count": 24,
     "metadata": {},
     "output_type": "execute_result"
    }
   ],
   "source": [
    "t_c = [0.5,  14.0, 15.0, 28.0, 11.0,  8.0,  3.0, -4.0,  6.0, 13.0, 21.0]\n",
    "t_u = [35.7, 55.9, 58.2, 81.9, 56.3, 48.9, 33.9, 21.8, 48.4, 60.4, 68.4]\n",
    "t_c = torch.tensor(t_c).unsqueeze(1) \n",
    "t_u = torch.tensor(t_u).unsqueeze(1) \n",
    "\n",
    "n_samples = t_u.shape[0]\n",
    "n_val = int(0.2 * n_samples)\n",
    "\n",
    "shuffled_indices = torch.randperm(n_samples)\n",
    "\n",
    "train_indices = shuffled_indices[:-n_val]\n",
    "val_indices = shuffled_indices[-n_val:]\n",
    "\n",
    "t_u_train = t_u[train_indices]\n",
    "t_c_train = t_c[train_indices]\n",
    "\n",
    "t_u_val = t_u[val_indices]\n",
    "t_c_val = t_c[val_indices]\n",
    "\n",
    "t_un_train = 0.1 * t_u_train\n",
    "t_un_val = 0.1 * t_u_val\n",
    "t_un_val"
   ]
  },
  {
   "cell_type": "code",
   "execution_count": 25,
   "id": "b2b0d0d1",
   "metadata": {
    "ExecuteTime": {
     "end_time": "2023-06-08T09:37:16.832798Z",
     "start_time": "2023-06-08T09:37:16.817649Z"
    }
   },
   "outputs": [],
   "source": [
    "def training_loop(n_epochs, optimizer, model, loss_fn, t_u_train, t_u_val,\n",
    "                  t_c_train, t_c_val):\n",
    "    for epoch in range(1, n_epochs + 1):\n",
    "        t_p_train = model(t_u_train) # <1>\n",
    "        loss_train = loss_fn(t_p_train, t_c_train)\n",
    "\n",
    "        t_p_val = model(t_u_val) # <1>\n",
    "        loss_val = loss_fn(t_p_val, t_c_val)\n",
    "        \n",
    "        optimizer.zero_grad()\n",
    "        loss_train.backward() # <2>\n",
    "        optimizer.step()\n",
    "\n",
    "        if epoch == 1 or epoch % 1000 == 0:\n",
    "            print(f\"Epoch {epoch}, Training loss {loss_train.item():.4f},\"\n",
    "                  f\" Validation loss {loss_val.item():.4f}\")"
   ]
  },
  {
   "cell_type": "code",
   "execution_count": 26,
   "id": "f3691643",
   "metadata": {
    "ExecuteTime": {
     "end_time": "2023-06-08T09:37:17.793161Z",
     "start_time": "2023-06-08T09:37:17.785187Z"
    }
   },
   "outputs": [
    {
     "data": {
      "text/plain": [
       "Sequential(\n",
       "  (0): Linear(in_features=1, out_features=13, bias=True)\n",
       "  (1): Tanh()\n",
       "  (2): Linear(in_features=13, out_features=1, bias=True)\n",
       ")"
      ]
     },
     "execution_count": 26,
     "metadata": {},
     "output_type": "execute_result"
    }
   ],
   "source": [
    "seq_model = nn.Sequential(\n",
    "            nn.Linear(1, 13), \n",
    "            nn.Tanh(),\n",
    "            nn.Linear(13, 1)) # 这里张量的输入必须和前面输出相同\n",
    "seq_model"
   ]
  },
  {
   "cell_type": "code",
   "execution_count": 27,
   "id": "cc176cb2",
   "metadata": {
    "ExecuteTime": {
     "end_time": "2023-06-08T09:37:19.468264Z",
     "start_time": "2023-06-08T09:37:18.721676Z"
    }
   },
   "outputs": [
    {
     "name": "stdout",
     "output_type": "stream",
     "text": [
      "Epoch 1, Training loss 204.6776, Validation loss 153.8250\n",
      "Epoch 1000, Training loss 2.5927, Validation loss 9.1336\n",
      "Epoch 2000, Training loss 1.3800, Validation loss 7.8509\n",
      "Epoch 3000, Training loss 1.2893, Validation loss 7.4323\n",
      "Epoch 4000, Training loss 1.2541, Validation loss 7.4136\n",
      "Epoch 5000, Training loss 1.2258, Validation loss 7.4807\n",
      "output tensor([[13.1765],\n",
      "        [16.1987]], grad_fn=<AddmmBackward0>)\n"
     ]
    }
   ],
   "source": [
    "optimizer = optim.SGD(seq_model.parameters(), lr=1e-3) # <1>\n",
    "\n",
    "training_loop(\n",
    "    n_epochs = 5000, \n",
    "    optimizer = optimizer,\n",
    "    model = seq_model,\n",
    "    loss_fn = nn.MSELoss(),\n",
    "    t_u_train = t_un_train,\n",
    "    t_u_val = t_un_val, \n",
    "    t_c_train = t_c_train,\n",
    "    t_c_val = t_c_val)\n",
    "    \n",
    "print('output', seq_model(t_un_val))"
   ]
  },
  {
   "cell_type": "code",
   "execution_count": 28,
   "id": "4130e9be",
   "metadata": {
    "ExecuteTime": {
     "end_time": "2023-06-08T09:37:29.977910Z",
     "start_time": "2023-06-08T09:37:29.969895Z"
    }
   },
   "outputs": [
    {
     "data": {
      "text/plain": [
       "torch.Size([9, 1])"
      ]
     },
     "execution_count": 28,
     "metadata": {},
     "output_type": "execute_result"
    }
   ],
   "source": [
    "t_u_train.shape"
   ]
  },
  {
   "cell_type": "code",
   "execution_count": 29,
   "id": "644c0cb1",
   "metadata": {
    "ExecuteTime": {
     "end_time": "2023-06-08T09:37:54.400087Z",
     "start_time": "2023-06-08T09:37:54.386078Z"
    }
   },
   "outputs": [],
   "source": [
    "t_u_train = t_u_train[1,:]"
   ]
  },
  {
   "cell_type": "code",
   "execution_count": 30,
   "id": "8d8851e8",
   "metadata": {
    "ExecuteTime": {
     "end_time": "2023-06-08T09:37:57.406917Z",
     "start_time": "2023-06-08T09:37:57.393733Z"
    }
   },
   "outputs": [
    {
     "name": "stderr",
     "output_type": "stream",
     "text": [
      "C:\\Users\\Administrator\\AppData\\Local\\Temp\\ipykernel_1428\\3604413986.py:7: UserWarning: To copy construct from a tensor, it is recommended to use sourceTensor.clone().detach() or sourceTensor.clone().detach().requires_grad_(True), rather than torch.tensor(sourceTensor).\n",
      "  x = torch.tensor(t_u_train, dtype=torch.float32) # 生成张量\n"
     ]
    }
   ],
   "source": [
    "import torch\n",
    "torch_model = seq_model # pytorch模型加载\n",
    " \n",
    "# set the model to inference mode\n",
    "torch_model.eval()\n",
    " \n",
    "x = torch.tensor(t_u_train, dtype=torch.float32) # 生成张量\n",
    "export_onnx_file = \"test.onnx\" # 目的ONNX文件名\n",
    "torch.onnx.export(torch_model,\n",
    "                    x,\n",
    "                    export_onnx_file,\n",
    "                    opset_version=10,\n",
    "                    do_constant_folding=True)"
   ]
  },
  {
   "cell_type": "code",
   "execution_count": null,
   "id": "cc53adcf",
   "metadata": {},
   "outputs": [],
   "source": []
  }
 ],
 "metadata": {
  "kernelspec": {
   "display_name": "Python 3 (ipykernel)",
   "language": "python",
   "name": "python3"
  },
  "language_info": {
   "codemirror_mode": {
    "name": "ipython",
    "version": 3
   },
   "file_extension": ".py",
   "mimetype": "text/x-python",
   "name": "python",
   "nbconvert_exporter": "python",
   "pygments_lexer": "ipython3",
   "version": "3.9.18"
  },
  "nbTranslate": {
   "displayLangs": [
    "*"
   ],
   "hotkey": "alt-t",
   "langInMainMenu": true,
   "sourceLang": "en",
   "targetLang": "fr",
   "useGoogleTranslate": true
  },
  "toc": {
   "base_numbering": 1,
   "nav_menu": {},
   "number_sections": true,
   "sideBar": true,
   "skip_h1_title": false,
   "title_cell": "Table of Contents",
   "title_sidebar": "Contents",
   "toc_cell": false,
   "toc_position": {},
   "toc_section_display": true,
   "toc_window_display": false
  }
 },
 "nbformat": 4,
 "nbformat_minor": 5
}
