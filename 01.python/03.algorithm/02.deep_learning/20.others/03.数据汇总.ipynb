{
 "cells": [
  {
   "cell_type": "markdown",
   "id": "2f15b4ec-25c0-4928-a886-99e877e85064",
   "metadata": {},
   "source": [
    "# Dataset"
   ]
  },
  {
   "cell_type": "markdown",
   "id": "46dba3fb-ee40-4033-80bc-96fe082059c0",
   "metadata": {},
   "source": [
    "## 基本概念"
   ]
  },
  {
   "cell_type": "markdown",
   "id": "908dc4a1-79c4-48ff-9458-695156371b55",
   "metadata": {},
   "source": [
    "torch.utils.data.Dataset 是 PyTorch 中的数据加载和处理的核心类。它用于定义自定义数据集，支持数据的加载、预处理和批处理。\n",
    "\n",
    "如何使用 Dataset  \n",
    "要使用 Dataset，需要继承该类并实现以下三个方法：  \n",
    "\n",
    "\\_\\_init__(): 初始化数据集，通常用于加载数据文件和初始化变量。  \n",
    "\\_\\_len__(): 返回数据集的样本数量。  \n",
    "\\_\\_getitem__(self, idx): 返回给定索引 idx 的样本。"
   ]
  },
  {
   "cell_type": "raw",
   "id": "746080a1-a2cd-4273-bfcc-a544576650b9",
   "metadata": {},
   "source": [
    "from torch.utils.data import Dataset\n",
    "\n",
    "class CustomDataset(Dataset):\n",
    "    def __init__(self, inputs, labels):\n",
    "        self.inputs = inputs\n",
    "        self.labels = labels\n",
    "    \n",
    "    def __len__(self):\n",
    "        return len(self.inputs)\n",
    "    \n",
    "    def __getitem__(self, idx):\n",
    "        return self.inputs[idx], self.labels[idx]\n",
    "\n",
    "# 使用自定义数据集\n",
    "custom_dataset = CustomDataset(inputs, labels)\n",
    "custom_dataloader = DataLoader(custom_dataset, batch_size=32, shuffle=True)"
   ]
  },
  {
   "cell_type": "markdown",
   "id": "31b7eb6a-1a33-40ce-8baa-922d7ea4c7bb",
   "metadata": {},
   "source": [
    "## 应用实例"
   ]
  },
  {
   "cell_type": "code",
   "execution_count": 14,
   "id": "2c7bc848-7cd2-4caf-bea9-cea182cf1a1d",
   "metadata": {
    "execution": {
     "iopub.execute_input": "2024-12-07T11:01:04.078017Z",
     "iopub.status.busy": "2024-12-07T11:01:04.075998Z",
     "iopub.status.idle": "2024-12-07T11:01:04.122593Z",
     "shell.execute_reply": "2024-12-07T11:01:04.121637Z",
     "shell.execute_reply.started": "2024-12-07T11:01:04.078017Z"
    }
   },
   "outputs": [
    {
     "name": "stdout",
     "output_type": "stream",
     "text": [
      "{'text': 'hello world', 'label': 0}\n",
      "{'text': 'PyTorch is great', 'label': 1}\n",
      "{'text': 'I love coding', 'label': 1}\n"
     ]
    }
   ],
   "source": [
    "import torch\n",
    "from torch.utils.data import Dataset\n",
    "\n",
    "# 自定义数据集类\n",
    "class CustomDataset(Dataset):\n",
    "    def __init__(self, texts, labels):\n",
    "        self.texts = texts\n",
    "        self.labels = labels\n",
    "\n",
    "    def __len__(self):\n",
    "        return len(self.texts)\n",
    "\n",
    "    def __getitem__(self, idx):\n",
    "        sample = {\n",
    "            'text': self.texts[idx],\n",
    "            'label': self.labels[idx]\n",
    "        }\n",
    "        return sample\n",
    "\n",
    "# 示例数据\n",
    "texts = [\"hello world\", \"PyTorch is great\", \"I love coding\"]\n",
    "labels = [0, 1, 1]\n",
    "\n",
    "# 创建数据集实例\n",
    "dataset = CustomDataset(texts, labels)\n",
    "\n",
    "# 测试数据集\n",
    "for i in range(len(dataset)):\n",
    "    print(dataset[i])"
   ]
  },
  {
   "cell_type": "code",
   "execution_count": 15,
   "id": "8f9dec42-3e5b-42c5-84e1-998e1ac9cf0d",
   "metadata": {
    "execution": {
     "iopub.execute_input": "2024-12-07T11:01:04.901795Z",
     "iopub.status.busy": "2024-12-07T11:01:04.898842Z",
     "iopub.status.idle": "2024-12-07T11:01:04.952863Z",
     "shell.execute_reply": "2024-12-07T11:01:04.947033Z",
     "shell.execute_reply.started": "2024-12-07T11:01:04.901795Z"
    }
   },
   "outputs": [
    {
     "data": {
      "text/plain": [
       "3"
      ]
     },
     "execution_count": 15,
     "metadata": {},
     "output_type": "execute_result"
    }
   ],
   "source": [
    "len(dataset)"
   ]
  },
  {
   "cell_type": "markdown",
   "id": "00bc14ed-2851-4cac-a716-f9c5d3aa24bc",
   "metadata": {},
   "source": [
    "通常与 torch.utils.data.DataLoader 配合，进行批处理和打乱数据."
   ]
  },
  {
   "cell_type": "code",
   "execution_count": 16,
   "id": "3035580a-8c66-4bee-b66c-18e15364e708",
   "metadata": {
    "execution": {
     "iopub.execute_input": "2024-12-07T11:01:06.198389Z",
     "iopub.status.busy": "2024-12-07T11:01:06.196345Z",
     "iopub.status.idle": "2024-12-07T11:01:06.229475Z",
     "shell.execute_reply": "2024-12-07T11:01:06.227604Z",
     "shell.execute_reply.started": "2024-12-07T11:01:06.198389Z"
    }
   },
   "outputs": [
    {
     "name": "stdout",
     "output_type": "stream",
     "text": [
      "batch_x: ['PyTorch is great', 'hello world']\n",
      "batch_y: tensor([1, 0])\n",
      "batch_x: ['I love coding']\n",
      "batch_y: tensor([1])\n"
     ]
    }
   ],
   "source": [
    "from torch.utils.data import DataLoader\n",
    "\n",
    "# 创建数据加载器\n",
    "dataloader = DataLoader(dataset, batch_size=2, shuffle=True)\n",
    "\n",
    "# 遍历数据加载器\n",
    "for batch in dataloader:\n",
    "    print(\"batch_x:\", batch['text'])\n",
    "    print(\"batch_y:\", batch['label'])"
   ]
  },
  {
   "cell_type": "markdown",
   "id": "791e5a2b-78ca-4c26-a9a2-286e4db627ed",
   "metadata": {},
   "source": [
    "# TensorDataset"
   ]
  },
  {
   "cell_type": "markdown",
   "id": "bc0a4604-2654-4013-b255-8c1d83dbbad9",
   "metadata": {},
   "source": [
    "## 基本概念"
   ]
  },
  {
   "cell_type": "markdown",
   "id": "d526c316-aa3b-4441-bb1d-6f4175204958",
   "metadata": {},
   "source": [
    "torch.utils.data.TensorDataset 是 PyTorch 提供的一个方便的数据集类，用于将多个 Tensor 数据按索引进行组合，常用于小型数据集和预处理后的数据。"
   ]
  },
  {
   "cell_type": "markdown",
   "id": "a9238e6b-7806-4a35-968f-2d0e7fdbd5a6",
   "metadata": {},
   "source": [
    "定义格式\n",
    "\n",
    "from torch.utils.data import TensorDataset\n",
    "\n",
    "参数  \n",
    "*tensors: 任意数量的 Tensor，必须具有相同的第一维度大小。"
   ]
  },
  {
   "cell_type": "markdown",
   "id": "fe3bdc78-28d2-43cd-baf2-7c608a4b8c08",
   "metadata": {},
   "source": [
    "## 应用实例"
   ]
  },
  {
   "cell_type": "code",
   "execution_count": 9,
   "id": "ab34cd3c-376d-4a9f-bbde-91bc84406790",
   "metadata": {
    "execution": {
     "iopub.execute_input": "2024-12-07T10:58:49.567232Z",
     "iopub.status.busy": "2024-12-07T10:58:49.566232Z",
     "iopub.status.idle": "2024-12-07T10:58:49.614306Z",
     "shell.execute_reply": "2024-12-07T10:58:49.613385Z",
     "shell.execute_reply.started": "2024-12-07T10:58:49.567232Z"
    }
   },
   "outputs": [
    {
     "name": "stdout",
     "output_type": "stream",
     "text": [
      "(tensor([1., 2.]), tensor(0))\n",
      "(tensor([3., 4.]), tensor(1))\n",
      "(tensor([5., 6.]), tensor(0))\n"
     ]
    }
   ],
   "source": [
    "import torch\n",
    "from torch.utils.data import TensorDataset, DataLoader\n",
    "\n",
    "# 示例数据\n",
    "features = torch.tensor([[1.0, 2.0], [3.0, 4.0], [5.0, 6.0]])\n",
    "labels = torch.tensor([0, 1, 0])\n",
    "\n",
    "# 创建 TensorDataset\n",
    "dataset = TensorDataset(features, labels)\n",
    "\n",
    "# 查看样本\n",
    "for i in range(len(dataset)):\n",
    "    print(dataset[i])"
   ]
  },
  {
   "cell_type": "markdown",
   "id": "f150cfe1-7fa2-403a-ae80-5147fc56ffd9",
   "metadata": {},
   "source": [
    "通常与 torch.utils.data.DataLoader 配合，进行批处理和打乱数据."
   ]
  },
  {
   "cell_type": "code",
   "execution_count": 13,
   "id": "febd155b-e78b-4928-ba29-cbb76bdf1c19",
   "metadata": {
    "execution": {
     "iopub.execute_input": "2024-12-07T11:00:29.303821Z",
     "iopub.status.busy": "2024-12-07T11:00:29.303821Z",
     "iopub.status.idle": "2024-12-07T11:00:29.317843Z",
     "shell.execute_reply": "2024-12-07T11:00:29.316839Z",
     "shell.execute_reply.started": "2024-12-07T11:00:29.303821Z"
    }
   },
   "outputs": [
    {
     "name": "stdout",
     "output_type": "stream",
     "text": [
      "batch_x: tensor([[1., 2.],\n",
      "        [3., 4.]])\n",
      "batch_y: tensor([0, 1])\n",
      "batch_x: tensor([[5., 6.]])\n",
      "batch_y: tensor([0])\n"
     ]
    }
   ],
   "source": [
    "# 使用 DataLoader\n",
    "dataloader = DataLoader(dataset, batch_size=2, shuffle=True)\n",
    "\n",
    "# 批量迭代数据\n",
    "for batch_x, batch_y in dataloader:\n",
    "    print(\"batch_x:\", batch_x)\n",
    "    print(\"batch_y:\", batch_y)"
   ]
  },
  {
   "cell_type": "markdown",
   "id": "1f71886a-e392-40bd-83be-05d4e7eca653",
   "metadata": {},
   "source": [
    "# DataLoader"
   ]
  },
  {
   "cell_type": "markdown",
   "id": "ff921960-7727-47de-a90c-91394fd95985",
   "metadata": {},
   "source": [
    "## 基本概念"
   ]
  },
  {
   "cell_type": "markdown",
   "id": "ef8ededa-a3a8-4ff7-85dd-b832823322bf",
   "metadata": {},
   "source": [
    "DataLoader 是 PyTorch 中用于批量加载数据的实用工具，通常与自定义数据集（通过 Dataset 类）结合使用，主要用于深度学习模型的训练和评估。\n",
    "\n",
    "参数\t|描述\n",
    "---|---|\n",
    "dataset\t|数据集对象，继承自 Dataset 类\n",
    "batch_size\t|每个批次加载的数据量\n",
    "shuffle\t|是否在每个epoch时随机打乱数据\n",
    "sampler\t|自定义采样策略（与 shuffle 互斥）\n",
    "batch_sampler\t|自定义批采样策略\n",
    "num_workers\t|加载数据的并行子进程数\n",
    "collate_fn\t|自定义数据组合函数\n",
    "pin_memory\t|是否将数据加载到固定内存（GPU 加速）\n",
    "drop_last\t|是否丢弃最后一个不完整的批次\n",
    "timeout\t|数据加载超时时间\n",
    "worker_init_fn\t|自定义子进程初始化函数"
   ]
  },
  {
   "cell_type": "markdown",
   "id": "913f58e4-d9ea-4935-b32a-7466bf87292b",
   "metadata": {},
   "source": [
    "## 应用实例"
   ]
  },
  {
   "cell_type": "code",
   "execution_count": 24,
   "id": "2c6b7ca9-b294-47e8-9276-8465ef7cde26",
   "metadata": {
    "execution": {
     "iopub.execute_input": "2024-12-07T13:29:50.846695Z",
     "iopub.status.busy": "2024-12-07T13:29:50.846695Z",
     "iopub.status.idle": "2024-12-07T13:29:50.869029Z",
     "shell.execute_reply": "2024-12-07T13:29:50.868115Z",
     "shell.execute_reply.started": "2024-12-07T13:29:50.846695Z"
    }
   },
   "outputs": [],
   "source": [
    "from torch.utils.data import Dataset, DataLoader\n",
    "\n",
    "# 自定义数据集类\n",
    "class MyDataset(Dataset):\n",
    "    def __init__(self, data, labels):\n",
    "        self.data = data\n",
    "        self.labels = labels\n",
    "\n",
    "    def __len__(self):\n",
    "        return len(self.data)\n",
    "\n",
    "    def __getitem__(self, idx):\n",
    "        return self.data[idx], self.labels[idx]\n",
    "\n",
    "# 创建 DataLoader\n",
    "import torch\n",
    "\n",
    "data = torch.randn(100, 10)\n",
    "labels = torch.randint(0, 2, (100,))\n",
    "\n",
    "dataset = MyDataset(data, labels)\n",
    "data_loader = DataLoader(dataset, batch_size=16, shuffle=True)"
   ]
  },
  {
   "cell_type": "code",
   "execution_count": 25,
   "id": "45f5402e-535d-427d-9ff1-20d0cdf6f1a4",
   "metadata": {
    "execution": {
     "iopub.execute_input": "2024-12-07T13:29:58.076404Z",
     "iopub.status.busy": "2024-12-07T13:29:58.075405Z",
     "iopub.status.idle": "2024-12-07T13:29:58.090573Z",
     "shell.execute_reply": "2024-12-07T13:29:58.089574Z",
     "shell.execute_reply.started": "2024-12-07T13:29:58.075405Z"
    }
   },
   "outputs": [
    {
     "name": "stdout",
     "output_type": "stream",
     "text": [
      "批次 0: 输入大小 torch.Size([16, 10]), 标签大小 torch.Size([16])\n"
     ]
    }
   ],
   "source": [
    "for batch_idx, (inputs, targets) in enumerate(data_loader):\n",
    "    print(f\"批次 {batch_idx}: 输入大小 {inputs.shape}, 标签大小 {targets.shape}\")\n",
    "    break"
   ]
  },
  {
   "cell_type": "code",
   "execution_count": null,
   "id": "c78e0d1b-efe6-4fff-9091-c164882ca5b2",
   "metadata": {},
   "outputs": [],
   "source": []
  }
 ],
 "metadata": {
  "kernelspec": {
   "display_name": "Python 3 (ipykernel)",
   "language": "python",
   "name": "python3"
  },
  "language_info": {
   "codemirror_mode": {
    "name": "ipython",
    "version": 3
   },
   "file_extension": ".py",
   "mimetype": "text/x-python",
   "name": "python",
   "nbconvert_exporter": "python",
   "pygments_lexer": "ipython3",
   "version": "3.9.18"
  }
 },
 "nbformat": 4,
 "nbformat_minor": 5
}
