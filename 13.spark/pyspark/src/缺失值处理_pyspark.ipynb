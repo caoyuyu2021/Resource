{
 "cells": [
  {
   "cell_type": "markdown",
   "id": "0edc6b58",
   "metadata": {},
   "source": [
    "# 常用的缺失值填充方法"
   ]
  },
  {
   "cell_type": "code",
   "execution_count": 1,
   "id": "a37fdb0b",
   "metadata": {
    "ExecuteTime": {
     "end_time": "2023-11-15T08:25:14.088016Z",
     "start_time": "2023-11-15T08:25:05.641989Z"
    }
   },
   "outputs": [
    {
     "name": "stderr",
     "output_type": "stream",
     "text": [
      "D:\\Anaconda\\Lib\\site-packages\\pyspark\\pandas\\__init__.py:50: UserWarning: 'PYARROW_IGNORE_TIMEZONE' environment variable was not set. It is required to set this environment variable to '1' in both driver and executor sides if you use pyarrow>=2.0.0. pandas-on-Spark will set it for you but it does not work if there is a Spark context already launched.\n",
      "  warnings.warn(\n"
     ]
    }
   ],
   "source": [
    "import findspark\n",
    "spark_home = \"D:\\\\Anaconda\\\\Lib\\\\site-packages\\\\pyspark\"\n",
    "python_path = \"D:\\\\Anaconda\\\\python\"\n",
    "findspark.init(spark_home,python_path)\n",
    "\n",
    "from pyspark.sql import SparkSession\n",
    "from pyspark.ml.feature import Imputer\n",
    "from pyspark.ml.linalg import np\n",
    "from pyspark.ml.linalg import scipy\n",
    "import pyspark.pandas as ps\n",
    "spark = SparkSession.builder.appName('MissingValues').getOrCreate()"
   ]
  },
  {
   "cell_type": "code",
   "execution_count": 6,
   "id": "f3a3e125",
   "metadata": {
    "ExecuteTime": {
     "end_time": "2023-11-15T08:31:34.874928Z",
     "start_time": "2023-11-15T08:31:19.128999Z"
    }
   },
   "outputs": [
    {
     "name": "stdout",
     "output_type": "stream",
     "text": [
      "+---+------+\n",
      "|age|income|\n",
      "+---+------+\n",
      "|1.0|   NaN|\n",
      "|2.0|   NaN|\n",
      "|2.0|   NaN|\n",
      "|NaN|   3.0|\n",
      "|4.0|   4.0|\n",
      "|5.0|   5.0|\n",
      "+---+------+\n",
      "\n"
     ]
    }
   ],
   "source": [
    "df = spark.createDataFrame([(1.0, float(\"nan\")), (2.0, float(\"nan\")),\n",
    "                            (2.0, float(\"nan\")), (float(\"nan\"), 3.0),\n",
    "                            (4.0, 4.0), (5.0, 5.0)], [\"age\", \"income\"])\n",
    "df.show()"
   ]
  },
  {
   "cell_type": "markdown",
   "id": "cd2db65f",
   "metadata": {},
   "source": [
    "## 删除缺失值的行"
   ]
  },
  {
   "cell_type": "code",
   "execution_count": 8,
   "id": "a444e763",
   "metadata": {
    "ExecuteTime": {
     "end_time": "2023-11-15T03:33:56.534807Z",
     "start_time": "2023-11-15T03:33:40.230005Z"
    }
   },
   "outputs": [
    {
     "name": "stdout",
     "output_type": "stream",
     "text": [
      "+---+------+-----------+--------------+\n",
      "|age|income|age_imputed|income_imputed|\n",
      "+---+------+-----------+--------------+\n",
      "|4.0|   4.0|        4.0|           4.0|\n",
      "|5.0|   5.0|        5.0|           5.0|\n",
      "+---+------+-----------+--------------+\n",
      "\n"
     ]
    }
   ],
   "source": [
    "# 仅保留不包含缺失值的行\n",
    "df1 = df.dropna()\n",
    "df1.show()"
   ]
  },
  {
   "cell_type": "markdown",
   "id": "96c04d6b",
   "metadata": {},
   "source": [
    "##  使用统计值填充缺失值"
   ]
  },
  {
   "cell_type": "code",
   "execution_count": 11,
   "id": "21f21157",
   "metadata": {
    "ExecuteTime": {
     "end_time": "2023-11-15T03:43:23.364149Z",
     "start_time": "2023-11-15T03:42:50.872921Z"
    }
   },
   "outputs": [
    {
     "name": "stdout",
     "output_type": "stream",
     "text": [
      "+---+------+\n",
      "|age|income|\n",
      "+---+------+\n",
      "|1.0|   4.0|\n",
      "|2.0|   4.0|\n",
      "|2.0|   4.0|\n",
      "|2.8|   3.0|\n",
      "|4.0|   4.0|\n",
      "|5.0|   5.0|\n",
      "+---+------+\n",
      "\n"
     ]
    }
   ],
   "source": [
    "# 使用Imputer将缺失值进行插值，均值\n",
    "imputer = Imputer(inputCols=[\"age\", \"income\"],\n",
    "                  outputCols=[\"age\", \"income\"]).setStrategy(\"mean\")\n",
    "\n",
    "df2 = imputer.fit(df).transform(df)\n",
    "df2.show()"
   ]
  },
  {
   "cell_type": "code",
   "execution_count": 12,
   "id": "c68ece7e",
   "metadata": {
    "ExecuteTime": {
     "end_time": "2023-11-15T03:50:25.438988Z",
     "start_time": "2023-11-15T03:49:51.748604Z"
    }
   },
   "outputs": [
    {
     "name": "stdout",
     "output_type": "stream",
     "text": [
      "+---+------+\n",
      "|age|income|\n",
      "+---+------+\n",
      "|1.0|   4.0|\n",
      "|2.0|   4.0|\n",
      "|2.0|   4.0|\n",
      "|2.0|   3.0|\n",
      "|4.0|   4.0|\n",
      "|5.0|   5.0|\n",
      "+---+------+\n",
      "\n"
     ]
    }
   ],
   "source": [
    "# 使用Imputer将缺失值进行插值，中位数\n",
    "imputer = Imputer(inputCols=[\"age\", \"income\"],\n",
    "                  outputCols=[\"age\", \"income\"]).setStrategy(\"median\")\n",
    "\n",
    "df4 = imputer.fit(df).transform(df)\n",
    "df4.show()"
   ]
  },
  {
   "cell_type": "code",
   "execution_count": 13,
   "id": "d045ec35",
   "metadata": {
    "ExecuteTime": {
     "end_time": "2023-11-15T03:51:00.342655Z",
     "start_time": "2023-11-15T03:50:25.442916Z"
    }
   },
   "outputs": [
    {
     "name": "stdout",
     "output_type": "stream",
     "text": [
      "+---+------+\n",
      "|age|income|\n",
      "+---+------+\n",
      "|1.0|   3.0|\n",
      "|2.0|   3.0|\n",
      "|2.0|   3.0|\n",
      "|2.0|   3.0|\n",
      "|4.0|   4.0|\n",
      "|5.0|   5.0|\n",
      "+---+------+\n",
      "\n"
     ]
    }
   ],
   "source": [
    "# 使用Imputer将缺失值进行插值，众数\n",
    "imputer = Imputer(inputCols=[\"age\", \"income\"],\n",
    "                  outputCols=[\"age\", \"income\"]).setStrategy(\"mode\")\n",
    "\n",
    "df5 = imputer.fit(df).transform(df)\n",
    "df5.show()"
   ]
  },
  {
   "cell_type": "markdown",
   "id": "e7e0010a",
   "metadata": {},
   "source": [
    "## 使用任意值填充缺失值"
   ]
  },
  {
   "cell_type": "code",
   "execution_count": 10,
   "id": "e1385157",
   "metadata": {
    "ExecuteTime": {
     "end_time": "2023-11-15T03:36:06.250132Z",
     "start_time": "2023-11-15T03:35:49.605886Z"
    }
   },
   "outputs": [
    {
     "name": "stdout",
     "output_type": "stream",
     "text": [
      "+---+------+\n",
      "|age|income|\n",
      "+---+------+\n",
      "|1.0|   0.0|\n",
      "|2.0|   0.0|\n",
      "|2.0|   0.0|\n",
      "|0.0|   3.0|\n",
      "|4.0|   4.0|\n",
      "|5.0|   5.0|\n",
      "+---+------+\n",
      "\n"
     ]
    }
   ],
   "source": [
    "# 填充空白值为0\n",
    "df3 = df.fillna(0)\n",
    "df3.show()"
   ]
  },
  {
   "cell_type": "markdown",
   "id": "a165d6d7",
   "metadata": {},
   "source": [
    "## 线性插值"
   ]
  },
  {
   "cell_type": "code",
   "execution_count": 7,
   "id": "d22c9ccb",
   "metadata": {
    "ExecuteTime": {
     "end_time": "2023-11-15T08:32:21.666132Z",
     "start_time": "2023-11-15T08:32:06.092548Z"
    }
   },
   "outputs": [
    {
     "name": "stderr",
     "output_type": "stream",
     "text": [
      "D:\\Anaconda\\Lib\\site-packages\\pyspark\\pandas\\utils.py:975: PandasAPIOnSparkAdviceWarning: If `index_col` is not specified for `to_spark`, the existing index is lost when converting to Spark DataFrame.\n",
      "  warnings.warn(message, PandasAPIOnSparkAdviceWarning)\n"
     ]
    }
   ],
   "source": [
    "dfs = df.toPandas().values\n",
    "input_varlen = len(df.columns)\n",
    "nan_sum = np.isnan(dfs).sum(axis=0)\n",
    "ir_data = []\n",
    "for i in range(input_varlen):\n",
    "    #选择缺失列\n",
    "    if nan_sum[i] > 0:\n",
    "        filter_data = dfs[:, i]\n",
    "        #定义纵坐标，删除缺失值\n",
    "        y = filter_data[np.where(np.isnan(filter_data) != 1)]\n",
    "        #定义横坐标，没有缺失值的索引\n",
    "        x0 = np.array(range(len(filter_data)))\n",
    "        x = x0[np.where(np.isnan(filter_data) != 1)]\n",
    "        #构造拟合函数\n",
    "        irf = scipy.interpolate.interp1d(x, y, kind = 'linear', fill_value=\"extrapolate\")\n",
    "        #获取缺失值的索引，方便进行插值\n",
    "        x_new = x0[np.where(np.isnan(filter_data) == 1)]\n",
    "        #拟合缺失数据\n",
    "        y_new = irf(x_new)\n",
    "        filter_data[x_new] = y_new \n",
    "        #数据合并\n",
    "        ir_data.append(filter_data)\n",
    "    else:\n",
    "        filter_data = dfs[:, i]\n",
    "        #数据合并\n",
    "        ir_data.append(filter_data)\n",
    "df1 = np.array(ir_data).T\n",
    "result = ps.DataFrame(data=df1, columns=df.columns).to_spark()"
   ]
  },
  {
   "cell_type": "code",
   "execution_count": 8,
   "id": "618aa1cf",
   "metadata": {
    "ExecuteTime": {
     "end_time": "2023-11-15T08:32:51.423640Z",
     "start_time": "2023-11-15T08:32:35.065519Z"
    }
   },
   "outputs": [
    {
     "name": "stdout",
     "output_type": "stream",
     "text": [
      "+---+------+\n",
      "|age|income|\n",
      "+---+------+\n",
      "|1.0|   0.0|\n",
      "|2.0|   1.0|\n",
      "|2.0|   2.0|\n",
      "|3.0|   3.0|\n",
      "|4.0|   4.0|\n",
      "|5.0|   5.0|\n",
      "+---+------+\n",
      "\n"
     ]
    }
   ],
   "source": [
    "result.show()"
   ]
  },
  {
   "cell_type": "code",
   "execution_count": null,
   "id": "4193796c",
   "metadata": {},
   "outputs": [],
   "source": []
  }
 ],
 "metadata": {
  "kernelspec": {
   "display_name": "Python 3 (ipykernel)",
   "language": "python",
   "name": "python3"
  },
  "language_info": {
   "codemirror_mode": {
    "name": "ipython",
    "version": 3
   },
   "file_extension": ".py",
   "mimetype": "text/x-python",
   "name": "python",
   "nbconvert_exporter": "python",
   "pygments_lexer": "ipython3",
   "version": "3.11.5"
  },
  "toc": {
   "base_numbering": 1,
   "nav_menu": {},
   "number_sections": true,
   "sideBar": true,
   "skip_h1_title": false,
   "title_cell": "Table of Contents",
   "title_sidebar": "Contents",
   "toc_cell": false,
   "toc_position": {
    "height": "calc(100% - 180px)",
    "left": "10px",
    "top": "150px",
    "width": "230.667px"
   },
   "toc_section_display": true,
   "toc_window_display": true
  }
 },
 "nbformat": 4,
 "nbformat_minor": 5
}
