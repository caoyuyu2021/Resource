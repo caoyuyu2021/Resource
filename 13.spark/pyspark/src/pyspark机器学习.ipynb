{
 "cells": [
  {
   "cell_type": "markdown",
   "id": "c1269031",
   "metadata": {},
   "source": [
    "<font face=\"微软雅黑\" color=green size=5>pyspark机器学习</font>"
   ]
  },
  {
   "cell_type": "code",
   "execution_count": 1,
   "id": "6ec0e641",
   "metadata": {
    "ExecuteTime": {
     "end_time": "2023-11-14T02:23:05.040489Z",
     "start_time": "2023-11-14T02:22:55.578850Z"
    }
   },
   "outputs": [
    {
     "name": "stderr",
     "output_type": "stream",
     "text": [
      "D:\\Anaconda\\Lib\\site-packages\\pyspark\\pandas\\__init__.py:50: UserWarning: 'PYARROW_IGNORE_TIMEZONE' environment variable was not set. It is required to set this environment variable to '1' in both driver and executor sides if you use pyarrow>=2.0.0. pandas-on-Spark will set it for you but it does not work if there is a Spark context already launched.\n",
      "  warnings.warn(\n"
     ]
    }
   ],
   "source": [
    "from pyspark.ml.linalg import Vectors\n",
    "from pyspark.sql import SparkSession\n",
    "import pyspark.pandas as ps\n",
    "import pyspark.sql.functions as F\n",
    "from pyspark.sql.functions import monotonically_increasing_id\n",
    "import findspark\n",
    "spark_home = \"D:\\\\Anaconda\\\\Lib\\\\site-packages\\\\pyspark\"\n",
    "python_path = \"D:\\\\Anaconda\\\\python\"\n",
    "findspark.init(spark_home,python_path)\n",
    "spark = SparkSession.builder.appName('pysparkml').getOrCreate()"
   ]
  },
  {
   "cell_type": "markdown",
   "id": "2fb9486e",
   "metadata": {},
   "source": [
    "# 加载数据集"
   ]
  },
  {
   "cell_type": "markdown",
   "id": "29f45aa3",
   "metadata": {},
   "source": [
    "**赛题背景**  \n",
    "火力发电的基本原理是：燃料在燃烧时加热水生成蒸汽，蒸汽压力推动汽轮机旋转，然后汽轮机带动发电机旋转，产生电能。 在这一系列的能量转化中，影响发电效率的核心是锅炉的燃烧效率，即燃料燃烧加热水产生高温高压蒸汽。锅炉的燃烧效率的影响因素很多，包括锅炉的可调参数，如燃烧给量，一二次风，引风，返料风，给水水量；以及锅炉的工况，比如锅炉床温、床压，炉膛温度、压力，过热器的温度等。\n",
    "\n",
    "**赛题描述**  \n",
    "经脱敏后的锅炉传感器采集的数据（采集频率是分钟级别），根据锅炉的工况，预测产生的蒸汽量。\n",
    "\n",
    "**数据说明**\n",
    "数据分成训练数据（train.txt）和测试数据（test.txt），其中字段 V0-V37，这38个字段是作为特征变量，target作为目标变量。 选手利用训练数据训练出模型，预测测试数据的目标变量，排名结果依据预测结果的 MSE（mean square error）。"
   ]
  },
  {
   "cell_type": "code",
   "execution_count": 2,
   "id": "8ec93ffe",
   "metadata": {
    "ExecuteTime": {
     "end_time": "2023-11-14T02:24:17.021516Z",
     "start_time": "2023-11-14T02:24:11.184689Z"
    }
   },
   "outputs": [],
   "source": [
    "data = spark.read.csv('../data/zhengqi_train.csv', header=True, inferSchema=True, encoding='utf-8')"
   ]
  },
  {
   "cell_type": "code",
   "execution_count": 5,
   "id": "8c5d5751",
   "metadata": {
    "ExecuteTime": {
     "end_time": "2023-11-14T02:28:01.097927Z",
     "start_time": "2023-11-14T02:28:01.092251Z"
    }
   },
   "outputs": [
    {
     "name": "stdout",
     "output_type": "stream",
     "text": [
      "root\n",
      " |-- V0: double (nullable = true)\n",
      " |-- V1: double (nullable = true)\n",
      " |-- V2: double (nullable = true)\n",
      " |-- V3: double (nullable = true)\n",
      " |-- V4: double (nullable = true)\n",
      " |-- V5: double (nullable = true)\n",
      " |-- V6: double (nullable = true)\n",
      " |-- V7: double (nullable = true)\n",
      " |-- V8: double (nullable = true)\n",
      " |-- V9: double (nullable = true)\n",
      " |-- V10: double (nullable = true)\n",
      " |-- V11: double (nullable = true)\n",
      " |-- V12: double (nullable = true)\n",
      " |-- V13: double (nullable = true)\n",
      " |-- V14: double (nullable = true)\n",
      " |-- V15: double (nullable = true)\n",
      " |-- V16: double (nullable = true)\n",
      " |-- V17: double (nullable = true)\n",
      " |-- V18: double (nullable = true)\n",
      " |-- V19: double (nullable = true)\n",
      " |-- V20: double (nullable = true)\n",
      " |-- V21: double (nullable = true)\n",
      " |-- V22: double (nullable = true)\n",
      " |-- V23: double (nullable = true)\n",
      " |-- V24: double (nullable = true)\n",
      " |-- V25: double (nullable = true)\n",
      " |-- V26: double (nullable = true)\n",
      " |-- V27: double (nullable = true)\n",
      " |-- V28: double (nullable = true)\n",
      " |-- V29: double (nullable = true)\n",
      " |-- V30: double (nullable = true)\n",
      " |-- V31: double (nullable = true)\n",
      " |-- V32: double (nullable = true)\n",
      " |-- V33: double (nullable = true)\n",
      " |-- V34: double (nullable = true)\n",
      " |-- V35: double (nullable = true)\n",
      " |-- V36: double (nullable = true)\n",
      " |-- V37: double (nullable = true)\n",
      " |-- target: double (nullable = true)\n",
      "\n"
     ]
    }
   ],
   "source": [
    "data.printSchema() #查看数据的结构和列的数据类型"
   ]
  },
  {
   "cell_type": "markdown",
   "id": "a67b66b6",
   "metadata": {},
   "source": [
    "# 拆分数据集"
   ]
  },
  {
   "cell_type": "markdown",
   "id": "7a7fcbbb",
   "metadata": {},
   "source": [
    "蒸汽数据集一共有38个特征属性，分别是 V0—V37，分别对应各个训练属性，有一个 target 目标属性，是预测值。\n",
    "\n",
    "拆分数据集之前，我们将所有的训练属性合并为一个向量，然后再进行划分，这样会比较方便。"
   ]
  },
  {
   "cell_type": "code",
   "execution_count": 6,
   "id": "7e19c1e3",
   "metadata": {
    "ExecuteTime": {
     "end_time": "2023-11-14T02:29:05.231790Z",
     "start_time": "2023-11-14T02:29:04.828134Z"
    }
   },
   "outputs": [],
   "source": [
    "from pyspark.ml.feature import VectorAssembler\n",
    "\n",
    "# 特征处理\n",
    "df_assember = VectorAssembler(inputCols=data.columns[:-1], outputCol='features')\n",
    "df = df_assember.transform(data)\n",
    "\n",
    "# 划分数据集\n",
    "model_df = df.select(['features', 'target'])\n",
    "train_df, test_df = model_df.randomSplit([0.75, 0.25], seed=10)"
   ]
  },
  {
   "cell_type": "markdown",
   "id": "4ecf8d30",
   "metadata": {},
   "source": [
    "# 创建模型"
   ]
  },
  {
   "cell_type": "code",
   "execution_count": 7,
   "id": "2b1f20a6",
   "metadata": {
    "ExecuteTime": {
     "end_time": "2023-11-14T02:29:55.191876Z",
     "start_time": "2023-11-14T02:29:55.151098Z"
    }
   },
   "outputs": [],
   "source": [
    "from pyspark.ml.regression import RandomForestRegressor\n",
    "\n",
    "# 构建模型\n",
    "rf = RandomForestRegressor(featuresCol='features', labelCol='target')"
   ]
  },
  {
   "cell_type": "markdown",
   "id": "e9569ce3",
   "metadata": {},
   "source": [
    "featuresCol指定的是训练属性。labelCol指定的是目标属性。predictionCol指定的是预测属性，在之后的模型评估中我们会用到，如果不指定 predictionCol，之后就使用默认值“prediction”。"
   ]
  },
  {
   "cell_type": "markdown",
   "id": "2ffd1985",
   "metadata": {},
   "source": [
    "# 模型训练"
   ]
  },
  {
   "cell_type": "code",
   "execution_count": 8,
   "id": "3e5277a6",
   "metadata": {
    "ExecuteTime": {
     "end_time": "2023-11-14T02:30:50.491133Z",
     "start_time": "2023-11-14T02:30:47.516851Z"
    }
   },
   "outputs": [],
   "source": [
    "# 训练\n",
    "rf_model = rf.fit(train_df)"
   ]
  },
  {
   "cell_type": "markdown",
   "id": "0fe275d7",
   "metadata": {},
   "source": [
    "# 模型保存"
   ]
  },
  {
   "cell_type": "code",
   "execution_count": 9,
   "id": "d1370621",
   "metadata": {
    "ExecuteTime": {
     "end_time": "2023-11-14T02:33:45.414397Z",
     "start_time": "2023-11-14T02:33:43.083851Z"
    }
   },
   "outputs": [],
   "source": [
    "save_path = \"../data/zhengqi\"\n",
    "rf_model.write().overwrite().save(save_path)"
   ]
  },
  {
   "cell_type": "markdown",
   "id": "b9951de9",
   "metadata": {},
   "source": [
    "# 模型预测"
   ]
  },
  {
   "cell_type": "code",
   "execution_count": 10,
   "id": "b22f4da7",
   "metadata": {
    "ExecuteTime": {
     "end_time": "2023-11-14T02:34:18.724816Z",
     "start_time": "2023-11-14T02:34:18.668414Z"
    }
   },
   "outputs": [],
   "source": [
    "# 预测\n",
    "rf_prediction = rf_model.transform(test_df)"
   ]
  },
  {
   "cell_type": "markdown",
   "id": "9d9c7036",
   "metadata": {},
   "source": [
    "# 模型评估"
   ]
  },
  {
   "cell_type": "code",
   "execution_count": 11,
   "id": "c9aae138",
   "metadata": {
    "ExecuteTime": {
     "end_time": "2023-11-14T02:34:52.928678Z",
     "start_time": "2023-11-14T02:34:52.411681Z"
    }
   },
   "outputs": [
    {
     "name": "stdout",
     "output_type": "stream",
     "text": [
      "MSE为: 0.14472338011955987\n",
      "R2得分： 0.8501137022449154\n"
     ]
    }
   ],
   "source": [
    "from pyspark.ml.evaluation import RegressionEvaluator\n",
    "\n",
    "# 创建评估器，评估器的 predictionCol 要和 模型的 predictionCol 保持一致。\n",
    "evaluator = RegressionEvaluator(labelCol='target', predictionCol='prediction')\n",
    "# 用 MSE 和 R2 进行评估\n",
    "mse = evaluator.evaluate(rf_prediction, {evaluator.metricName: 'mse'})\n",
    "r2 = evaluator.evaluate(rf_prediction, {evaluator.metricName: 'r2'})\n",
    "print(\"MSE为:\", mse)\n",
    "print(\"R2得分：\", r2)"
   ]
  },
  {
   "cell_type": "markdown",
   "id": "be204c82",
   "metadata": {},
   "source": [
    "# 绘制折线图"
   ]
  },
  {
   "cell_type": "markdown",
   "id": "2b2f8a40",
   "metadata": {},
   "source": [
    "在 spark 中处理的数据都是 sql.dataframe 类型的，无法直接使用 plt 进行绘图，我们需要使用 collect 方法进行类型转换。"
   ]
  },
  {
   "cell_type": "code",
   "execution_count": 12,
   "id": "1fd09088",
   "metadata": {
    "ExecuteTime": {
     "end_time": "2023-11-14T02:36:01.061146Z",
     "start_time": "2023-11-14T02:35:58.044280Z"
    }
   },
   "outputs": [
    {
     "data": {
      "image/png": "[encoded data removed]",
      "text/plain": [
       "<Figure size 640x480 with 1 Axes>"
      ]
     },
     "metadata": {},
     "output_type": "display_data"
    }
   ],
   "source": [
    "import matplotlib.pyplot as plt\n",
    "import numpy as np\n",
    "\n",
    "# 转换数据类型并排序\n",
    "true_test = sorted(test_df.select('target').collect())\n",
    "perdiction_test = sorted(rf_prediction.select('target').collect())\n",
    "\n",
    "# 使用plt绘图\n",
    "plt.figure()\n",
    "plt.rcParams['font.sans-serif'] = 'SimHei'\n",
    "plt.rcParams['axes.unicode_minus'] = False\n",
    "plt.rcParams['savefig.dpi'] = 1080\n",
    "plt.rcParams['figure.dpi'] = 1080\n",
    "plt.title('RandomForestRegressor')\n",
    "x_label = np.linspace(1, 2*len(true_test), len(true_test))\n",
    "plt.plot(x_label, true_test)\n",
    "plt.plot(x_label, perdiction_test, linestyle='--')\n",
    "plt.legend(['真实值', '预测值'])\n",
    "# 保存图片\n",
    "plt.savefig('RandomForestRegressor.png')\n",
    "plt.show()"
   ]
  },
  {
   "cell_type": "markdown",
   "id": "f48d8a0f",
   "metadata": {},
   "source": [
    "# 加载模型"
   ]
  },
  {
   "cell_type": "code",
   "execution_count": 13,
   "id": "01f8b9e2",
   "metadata": {
    "ExecuteTime": {
     "end_time": "2023-11-14T02:36:59.519723Z",
     "start_time": "2023-11-14T02:36:59.515730Z"
    }
   },
   "outputs": [],
   "source": [
    "from pyspark.ml import PipelineModel"
   ]
  },
  {
   "cell_type": "code",
   "execution_count": null,
   "id": "dfb96e1c",
   "metadata": {},
   "outputs": [],
   "source": [
    "rf_model = PipelineModel.load(save_path)"
   ]
  }
 ],
 "metadata": {
  "kernelspec": {
   "display_name": "Python 3 (ipykernel)",
   "language": "python",
   "name": "python3"
  },
  "language_info": {
   "codemirror_mode": {
    "name": "ipython",
    "version": 3
   },
   "file_extension": ".py",
   "mimetype": "text/x-python",
   "name": "python",
   "nbconvert_exporter": "python",
   "pygments_lexer": "ipython3",
   "version": "3.11.5"
  },
  "toc": {
   "base_numbering": 1,
   "nav_menu": {},
   "number_sections": true,
   "sideBar": true,
   "skip_h1_title": false,
   "title_cell": "Table of Contents",
   "title_sidebar": "Contents",
   "toc_cell": false,
   "toc_position": {
    "height": "calc(100% - 180px)",
    "left": "10px",
    "top": "150px",
    "width": "217.333px"
   },
   "toc_section_display": true,
   "toc_window_display": true
  }
 },
 "nbformat": 4,
 "nbformat_minor": 5
}
