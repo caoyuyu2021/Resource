{
 "cells": [
  {
   "cell_type": "markdown",
   "id": "934864af",
   "metadata": {},
   "source": [
    "# JSON 简介"
   ]
  },
  {
   "cell_type": "markdown",
   "id": "5278427f",
   "metadata": {},
   "source": [
    "JSON是JavaScript Object Notation的简称，中文含义为“JavaScript 对象表示法”，它是一种数据交换的文本格式，而不是一种编程语言。\n",
    "\n",
    "JSON 是一种轻量级的数据交换格式，它基于 ECMAScript (w3c制定的js规范)的一个子集，采用完全独立于编程语言的文本格式来存储和表示数据。简洁和清晰的层次结构使得 JSON 成为理想的数据交换语言。\n",
    "\n",
    "JSON 是一种语法，用来序列化对象、数组、数值、字符串、布尔值和 null 。它基于 JavaScript 语法，但与之不同：JavaScript 不是 JSON，JSON 也不是 JavaScript。"
   ]
  },
  {
   "cell_type": "markdown",
   "id": "7e23bacf",
   "metadata": {},
   "source": [
    "JSON 使用 JavaScript 语法来描述数据对象，请看以下实例："
   ]
  },
  {
   "cell_type": "code",
   "execution_count": 1,
   "id": "e5ef45c3",
   "metadata": {
    "ExecuteTime": {
     "end_time": "2024-08-05T03:41:03.250346Z",
     "start_time": "2024-08-05T03:41:03.242991Z"
    }
   },
   "outputs": [
    {
     "data": {
      "text/plain": [
       "{'social': [{'weibo': 'https://weibo.com/leiqikui'},\n",
       "  {'github': 'https://github.com/leiqikui'}]}"
      ]
     },
     "execution_count": 1,
     "metadata": {},
     "output_type": "execute_result"
    }
   ],
   "source": [
    "{\n",
    "  \"social\": [\n",
    "    { \"weibo\": \"https://weibo.com/leiqikui\" },\n",
    "    { \"github\": \"https://github.com/leiqikui\" }\n",
    "  ]\n",
    "}"
   ]
  },
  {
   "cell_type": "markdown",
   "id": "a77ffa52",
   "metadata": {},
   "source": [
    "以上这个 social 对象，用来描述作者的社交媒体信息，它是包含 2 个社交媒体对象的数组，一个社交媒体对象是 weibo ，另一个社交媒体对象是 github。"
   ]
  },
  {
   "cell_type": "markdown",
   "id": "65ff75f8",
   "metadata": {},
   "source": [
    "# JSON 语法"
   ]
  },
  {
   "cell_type": "markdown",
   "id": "b9ab5c63",
   "metadata": {},
   "source": [
    "在 JavaScript 语言中，一切皆对象。任何支持的类型，如字符串、数值、对象、数组等，都可以通过 JSON 来表示。\n",
    "\n",
    "JSON 语法是 JavaScript 对象表示法的子集：\n",
    "\n",
    "- 数据在键/值对中，键/值对可以嵌套\n",
    "\n",
    "- 数据由逗号分隔\n",
    "\n",
    "- **花括号保存对象，对象可以包含多个键/值对**\n",
    "\n",
    "- **方括号保存数组，数组可以包含多个对象**\n",
    "\n",
    "JSON不是JavaScript语句，对象的末尾没有分号，对象和数组的最后一个成员后面，也不能加逗号。"
   ]
  },
  {
   "cell_type": "markdown",
   "id": "9f9d0fc1",
   "metadata": {},
   "source": [
    "## JSON 键/值对"
   ]
  },
  {
   "cell_type": "markdown",
   "id": "74514e2f",
   "metadata": {},
   "source": [
    "JSON键/值对由键和值组成，键必须是字符串，值可以是字符串（string）、数值(number) 、对象（object）、数组（array）、true、false、 null。"
   ]
  },
  {
   "cell_type": "markdown",
   "id": "10affde8",
   "metadata": {},
   "source": [
    "在定义JSON键/值时，先是键名，后面写一个冒号，然后是值。如：\n",
    "\n",
    "\"github\": \"https://github.com/leiqikui\""
   ]
  },
  {
   "cell_type": "markdown",
   "id": "81e673ae",
   "metadata": {},
   "source": [
    "## JSON 字符串"
   ]
  },
  {
   "cell_type": "markdown",
   "id": "d75b3b95",
   "metadata": {},
   "source": [
    "JSON 的字符串（string）跟C或者Java的字符串非常相似，是由双引号包围的任意数量Unicode字符的集合，使用反斜线转义。"
   ]
  },
  {
   "cell_type": "markdown",
   "id": "c43534ba",
   "metadata": {},
   "source": [
    "由于JSON **字符串不能使用单引号**，因此一个字符（character）就是一个单独的字符串（character string）。"
   ]
  },
  {
   "cell_type": "markdown",
   "id": "3cf419bb",
   "metadata": {},
   "source": [
    "## JSON 数值"
   ]
  },
  {
   "cell_type": "markdown",
   "id": "4fc7de87",
   "metadata": {},
   "source": [
    "JSON 数值（number）与C或者Java的数值非常相似，支持整型、浮点型，浮点型也可以用指数表示。"
   ]
  },
  {
   "cell_type": "markdown",
   "id": "17232500",
   "metadata": {},
   "source": [
    "JSON不支持八进制和十六进制， 数值必须以十进制表示，且不能使用NaN和Infinity。以下是合法的JSON数值：\n",
    "\n",
    "{ \"age\": 30 }"
   ]
  },
  {
   "cell_type": "markdown",
   "id": "ac806688",
   "metadata": {},
   "source": [
    "## JSON 对象"
   ]
  },
  {
   "cell_type": "markdown",
   "id": "1960409c",
   "metadata": {},
   "source": [
    "JSON 对象是一个无序的key/value对的集合。一个对象以 '{' 开始，以 '}' 结束；每个key 和 value 中使用冒号分隔；每个 key/value 对之间使用逗号分隔。"
   ]
  },
  {
   "cell_type": "markdown",
   "id": "e7c1e7a1",
   "metadata": {},
   "source": [
    "JSON 对象语法：\n",
    "\n",
    "- 对象在大括号({})中书写。\n",
    "\n",
    "- 对象可以包含多个 key/value（键/值）对。\n",
    "\n",
    "- key是字符串，必须放在双引号里面。value 可以是合法的 JSON 数据类型（字符串, 数值, 对象, 数组, 布尔值或 null）。\n",
    "\n",
    "- 一个 key/value 对内部，key 和 value使用冒号(:)分隔。\n",
    "\n",
    "- key/value 对之间，使用逗号(,)分隔。\n",
    "\n",
    "- 对象可以嵌套"
   ]
  },
  {
   "cell_type": "code",
   "execution_count": 2,
   "id": "c476ac87",
   "metadata": {
    "ExecuteTime": {
     "end_time": "2024-08-05T05:47:50.297171Z",
     "start_time": "2024-08-05T05:47:50.292380Z"
    }
   },
   "outputs": [
    {
     "data": {
      "text/plain": [
       "{'weibo': 'https://weibo.com/leiqikui',\n",
       " 'github': 'https://github.com/leiqikui',\n",
       " 'qq': {'number': '376601179', 'email': '376601179@qq.com'}}"
      ]
     },
     "execution_count": 2,
     "metadata": {},
     "output_type": "execute_result"
    }
   ],
   "source": [
    "{\n",
    "  \"weibo\": \"https://weibo.com/leiqikui\",\n",
    "  \"github\": \"https://github.com/leiqikui\",\n",
    "  \"qq\": {\n",
    "    \"number\": \"376601179\",\n",
    "    \"email\": \"376601179@qq.com\"\n",
    "  }\n",
    "}"
   ]
  },
  {
   "cell_type": "markdown",
   "id": "a4d80522",
   "metadata": {},
   "source": [
    "## JSON 数组"
   ]
  },
  {
   "cell_type": "markdown",
   "id": "fc2c9410",
   "metadata": {},
   "source": [
    "数组是值（value）的有序集合。一个数组以“[”（左中括号）开始，“]”（右中括号）结束。值之间使用“,”（逗号）分隔。\n",
    "\n",
    "JSON 数组：\n",
    "\n",
    "- 数组在中括号中书写。\n",
    "\n",
    "- 数组的值必须是合法的 JSON 数据类型（字符串, 数值, 对象, 数组, 布尔值或 null），也可以是 JavaScript 的表达式，包括函数、日期、undefined。"
   ]
  },
  {
   "cell_type": "markdown",
   "id": "3d30455d",
   "metadata": {},
   "source": [
    "对象的属性值也可以是一个JSON数组。"
   ]
  },
  {
   "cell_type": "code",
   "execution_count": 4,
   "id": "0ecad503",
   "metadata": {
    "ExecuteTime": {
     "end_time": "2024-08-05T05:51:27.698516Z",
     "start_time": "2024-08-05T05:51:27.693554Z"
    }
   },
   "outputs": [],
   "source": [
    "myObj = {\n",
    "  \"name\": \"网站\",\n",
    "  \"num\": 3,\n",
    "  \"sites\": [\n",
    "    \"Google.com\",\n",
    "    \"Taobao.com\",\n",
    "    \"Waibo.wang\"\n",
    "  ]\n",
    "}"
   ]
  },
  {
   "cell_type": "code",
   "execution_count": 7,
   "id": "a73cb0e6",
   "metadata": {
    "ExecuteTime": {
     "end_time": "2024-08-05T05:52:21.486935Z",
     "start_time": "2024-08-05T05:52:21.481557Z"
    }
   },
   "outputs": [
    {
     "data": {
      "text/plain": [
       "'Waibo.wang'"
      ]
     },
     "execution_count": 7,
     "metadata": {},
     "output_type": "execute_result"
    }
   ],
   "source": [
    "myObj['sites'][2]"
   ]
  },
  {
   "cell_type": "markdown",
   "id": "cd5d1e81",
   "metadata": {},
   "source": [
    "JSON数组的元素也可以是对象。"
   ]
  },
  {
   "cell_type": "code",
   "execution_count": 8,
   "id": "d8faad2e",
   "metadata": {
    "ExecuteTime": {
     "end_time": "2024-08-05T05:53:03.195471Z",
     "start_time": "2024-08-05T05:53:03.189579Z"
    }
   },
   "outputs": [
    {
     "data": {
      "text/plain": [
       "{'employees': [{'firstName': 'John', 'lastName': 'Doe'},\n",
       "  {'firstName': 'Anna', 'lastName': 'Smith'},\n",
       "  {'firstName': 'Peter', 'lastName': 'Jones'}]}"
      ]
     },
     "execution_count": 8,
     "metadata": {},
     "output_type": "execute_result"
    }
   ],
   "source": [
    "{\n",
    "  \"employees\": [\n",
    "    {\n",
    "      \"firstName\": \"John\",\n",
    "      \"lastName\": \"Doe\"\n",
    "    },\n",
    "    {\n",
    "      \"firstName\": \"Anna\",\n",
    "      \"lastName\": \"Smith\"\n",
    "    },\n",
    "    {\n",
    "      \"firstName\": \"Peter\",\n",
    "      \"lastName\": \"Jones\"\n",
    "    }\n",
    "  ]\n",
    "}"
   ]
  },
  {
   "cell_type": "markdown",
   "id": "320b0a86",
   "metadata": {},
   "source": [
    "## JSON 布尔值"
   ]
  },
  {
   "cell_type": "markdown",
   "id": "14895b41",
   "metadata": {},
   "source": [
    "JSON 布尔值可以是 true 或者 false。如：\n",
    "\n",
    "{ \"flag\":true }"
   ]
  },
  {
   "cell_type": "markdown",
   "id": "2e7c306d",
   "metadata": {},
   "source": [
    "## JSON null"
   ]
  },
  {
   "cell_type": "markdown",
   "id": "6f4781cc",
   "metadata": {},
   "source": [
    "JSON 可以设置 null 值。如：\n",
    "\n",
    "{ \"zhihu\":null }"
   ]
  },
  {
   "cell_type": "markdown",
   "id": "805753ea",
   "metadata": {},
   "source": [
    "# JSON库(python版)"
   ]
  },
  {
   "cell_type": "markdown",
   "id": "e8d8d9d6",
   "metadata": {},
   "source": [
    "主要用于将python对象编码为json格式输出或存储，以及将json格式对象解码为python对象。"
   ]
  },
  {
   "attachments": {
    "image.png": {
     "image/png": "[encoded data removed]"
    }
   },
   "cell_type": "markdown",
   "id": "15dba29b",
   "metadata": {},
   "source": [
    "![image.png](attachment:image.png)"
   ]
  },
  {
   "cell_type": "markdown",
   "id": "1ed8262f",
   "metadata": {},
   "source": [
    "一个 JSON 对象可以写为如下形式："
   ]
  },
  {
   "cell_type": "code",
   "execution_count": 13,
   "id": "75308235",
   "metadata": {
    "ExecuteTime": {
     "end_time": "2024-08-05T06:33:18.582664Z",
     "start_time": "2024-08-05T06:33:18.576602Z"
    }
   },
   "outputs": [
    {
     "data": {
      "text/plain": [
       "[{'name': '小明', 'height': '170', 'age': '18'},\n",
       " {'name': '小红', 'height': '165', 'age': '20'}]"
      ]
     },
     "execution_count": 13,
     "metadata": {},
     "output_type": "execute_result"
    }
   ],
   "source": [
    "[{\n",
    "    \"name\": \"小明\",\n",
    "    \"height\": \"170\",\n",
    "    \"age\": \"18\"\n",
    "}, {\n",
    "     \"name\": \"小红\",\n",
    "    \"height\": \"165\",\n",
    "    \"age\": \"20\"\n",
    "}]"
   ]
  },
  {
   "cell_type": "markdown",
   "id": "5bbf5e6d",
   "metadata": {},
   "source": [
    "由中括号包围的就相当于列表类型，列表中的每个元素可以是任意类型，这个示例中它是字典类型，由大括号包围。\n",
    "\n",
    "JSON 可以由以上两种形式自由组合而成，可以无限次嵌套，结构清晰，是数据交换的极佳方式。"
   ]
  },
  {
   "cell_type": "markdown",
   "id": "4794dc01",
   "metadata": {},
   "source": [
    "## loads"
   ]
  },
  {
   "cell_type": "code",
   "execution_count": 9,
   "id": "490388cb",
   "metadata": {
    "ExecuteTime": {
     "end_time": "2024-08-05T06:27:17.416587Z",
     "start_time": "2024-08-05T06:27:17.411091Z"
    }
   },
   "outputs": [
    {
     "name": "stdout",
     "output_type": "stream",
     "text": [
      "<class 'str'>\n",
      "<class 'list'>\n"
     ]
    }
   ],
   "source": [
    "import json\n",
    "\n",
    "data = '''\n",
    "[{\n",
    "    \"name\": \"小明\",\n",
    "    \"height\": \"170\",\n",
    "    \"age\": \"18\"\n",
    "}, {\n",
    "     \"name\": \"小红\",\n",
    "    \"height\": \"165\",\n",
    "    \"age\": \"20\"\n",
    "}]\n",
    "'''\n",
    "\n",
    "# 打印data类型\n",
    "print(type(data))\n",
    "# json类型的数据转化为python类型的数据\n",
    "new_data = json.loads(data)\n",
    "# 打印data类型\n",
    "print(type(new_data))"
   ]
  },
  {
   "cell_type": "code",
   "execution_count": 10,
   "id": "e887a71f",
   "metadata": {
    "ExecuteTime": {
     "end_time": "2024-08-05T06:28:30.028605Z",
     "start_time": "2024-08-05T06:28:30.023367Z"
    }
   },
   "outputs": [
    {
     "name": "stdout",
     "output_type": "stream",
     "text": [
      "<class 'list'>\n",
      "小明\n",
      "小明\n"
     ]
    }
   ],
   "source": [
    "# 获取内容\n",
    "name = new_data[0]['name']\n",
    "new_name = new_data[0].get('name')\n",
    "# 打印转换后data类型\n",
    "print(type(new_data))\n",
    "\n",
    "print(name)\n",
    "print(new_name)"
   ]
  },
  {
   "cell_type": "markdown",
   "id": "927347c7",
   "metadata": {},
   "source": [
    "## load"
   ]
  },
  {
   "cell_type": "markdown",
   "id": "299817c9",
   "metadata": {},
   "source": [
    "load的用法是把json格式文件，转换成python类型的数据。\n",
    "\n",
    "注意 ：load方法操作的是整个文件对象，这里是将整个整个文件对象里面的内容转化为json对象。"
   ]
  },
  {
   "cell_type": "raw",
   "id": "27510a34",
   "metadata": {},
   "source": [
    "import json\n",
    "# load的用法是把json格式文件，转换成python类型的数据。\n",
    "\n",
    "# 构建该文件的文件对象\n",
    "with open('test1.json',encoding='utf-8')as fp:\n",
    "    # 加载垓文件对象，转换为python类型的数据\n",
    "    pyth_list = json.load(fp)\n",
    "    print(pyth_list)\n",
    "    print(type(pyth_list))\n",
    "    print(type(pyth_list[0]))"
   ]
  },
  {
   "cell_type": "markdown",
   "id": "f2f9c447",
   "metadata": {},
   "source": [
    "## dumps"
   ]
  },
  {
   "cell_type": "markdown",
   "id": "5d355739",
   "metadata": {},
   "source": [
    "json.dumps()函数，把python类型的数据转换成json字符串"
   ]
  },
  {
   "cell_type": "code",
   "execution_count": 12,
   "id": "e6d3aa20",
   "metadata": {
    "ExecuteTime": {
     "end_time": "2024-08-05T06:31:29.182773Z",
     "start_time": "2024-08-05T06:31:29.177744Z"
    }
   },
   "outputs": [
    {
     "name": "stdout",
     "output_type": "stream",
     "text": [
      "<class 'str'>\n",
      "<class 'list'>\n",
      "<class 'str'>\n"
     ]
    }
   ],
   "source": [
    "import json\n",
    "\n",
    "data = '''\n",
    "[{\n",
    "    \"name\": \"小明\",\n",
    "    \"height\": \"170\",\n",
    "    \"age\": \"18\"\n",
    "}, {\n",
    "     \"name\": \"小红\",\n",
    "    \"height\": \"165\",\n",
    "    \"age\": \"20\"\n",
    "}]\n",
    "'''\n",
    "\n",
    "# 打印要来data类型\n",
    "print(type(data))\n",
    "# json类型的数据转化为python类型的数据\n",
    "new_data = json.loads(data)\n",
    "\n",
    "# 把python类型的数据转换成json字符串\n",
    "lit = json.dumps(new_data)\n",
    "\n",
    "# 打印转换后data类型\n",
    "print(type(new_data))\n",
    "\n",
    "# 转换回json\n",
    "print(type(lit))"
   ]
  },
  {
   "cell_type": "markdown",
   "id": "46a6663d",
   "metadata": {},
   "source": [
    "其实loads和dumps的用法都是一致的，loads是将json类型的数据转化为python类型的数据，而dumps是将json类型的数据转化为python类型的数据。相当于一个是编码一个是解码。"
   ]
  },
  {
   "cell_type": "markdown",
   "id": "8636b0f0",
   "metadata": {},
   "source": [
    "## dump"
   ]
  },
  {
   "cell_type": "markdown",
   "id": "e5660f12",
   "metadata": {},
   "source": [
    "把python类型的数据以json格式储存到文件中"
   ]
  },
  {
   "cell_type": "raw",
   "id": "d67e7b70",
   "metadata": {},
   "source": [
    "import json\n",
    "\n",
    "data = '''\n",
    "[{\n",
    "    \"name\": \"小明\",\n",
    "    \"height\": \"170\",\n",
    "    \"age\": \"18\"\n",
    "}, {\n",
    "     \"name\": \"小红\",\n",
    "    \"height\": \"165\",\n",
    "    \"age\": \"20\"\n",
    "}]\n",
    "'''\n",
    "\n",
    "# json类型的数据转化为python类型的数据\n",
    "new_data = json.loads(data)\n",
    "\n",
    "# 把python类型的数据以json格式储存到文件中\n",
    "# 构建要写入文件对象\n",
    "with open('test1.json','w',encoding='utf-8')as fp:\n",
    "    # 把python类型的数据以json格式储存到文件中\n",
    "    json.dump(new_data,fp,ensure_ascii=False)"
   ]
  },
  {
   "cell_type": "markdown",
   "id": "1e4d3cf4",
   "metadata": {},
   "source": [
    "# 实际应用"
   ]
  },
  {
   "cell_type": "code",
   "execution_count": 7,
   "id": "09be2a16",
   "metadata": {
    "ExecuteTime": {
     "end_time": "2024-08-05T06:47:55.270772Z",
     "start_time": "2024-08-05T06:47:55.262284Z"
    }
   },
   "outputs": [
    {
     "data": {
      "text/plain": [
       "[{'columnName': 'TM', 'types': 'float32'},\n",
       " {'columnName': 'W3#DCS1#DPU1001_HW_AI040205', 'types': 'float32'},\n",
       " {'columnName': 'W3#DCS1#DPU1001_SH0034_AALM01', 'types': 'float32'},\n",
       " {'columnName': 'W3#DCS1#DPU1001_SH0034_AALM02', 'types': 'float32'},\n",
       " {'columnName': 'W3#DCS1#DPU1001_SH0035_AALM01', 'types': 'float32'},\n",
       " {'columnName': 'W3#DCS1#DPU1021_HW_AI010207', 'types': 'float32'},\n",
       " {'columnName': 'W3#DCS1#DPU1021_HW_AI030207', 'types': 'float32'},\n",
       " {'columnName': 'W3#DCS1#DPU1027_SH0025_AALM1', 'types': 'float32'},\n",
       " {'columnName': 'W3#DCS1#DPU1027_SH0026_AALM1', 'types': 'float32'}]"
      ]
     },
     "execution_count": 7,
     "metadata": {},
     "output_type": "execute_result"
    }
   ],
   "source": [
    "import pandas as pd\n",
    "\n",
    "data = pd.read_csv(\"../data/second_data.csv\", encoding=\"gbk\")\n",
    "json_info = []\n",
    "for i in data.columns:\n",
    "    json_info.append({\n",
    "    'columnName': i,\n",
    "    'types': 'float32',\n",
    "})\n",
    "json_info"
   ]
  },
  {
   "cell_type": "code",
   "execution_count": 8,
   "id": "936b3984",
   "metadata": {
    "ExecuteTime": {
     "end_time": "2024-08-05T06:48:00.241148Z",
     "start_time": "2024-08-05T06:48:00.236366Z"
    }
   },
   "outputs": [
    {
     "name": "stdout",
     "output_type": "stream",
     "text": [
      "TM float32\n",
      "W3#DCS1#DPU1001_HW_AI040205 float32\n",
      "W3#DCS1#DPU1001_SH0034_AALM01 float32\n",
      "W3#DCS1#DPU1001_SH0034_AALM02 float32\n",
      "W3#DCS1#DPU1001_SH0035_AALM01 float32\n",
      "W3#DCS1#DPU1021_HW_AI010207 float32\n",
      "W3#DCS1#DPU1021_HW_AI030207 float32\n",
      "W3#DCS1#DPU1027_SH0025_AALM1 float32\n",
      "W3#DCS1#DPU1027_SH0026_AALM1 float32\n"
     ]
    }
   ],
   "source": [
    "# 解析json参数\n",
    "for metacode in json_info:\n",
    "    columnName = metacode['columnName']\n",
    "    types = metacode['types']\n",
    "    print(columnName, types)"
   ]
  },
  {
   "cell_type": "code",
   "execution_count": null,
   "id": "f6fec1d3",
   "metadata": {},
   "outputs": [],
   "source": []
  }
 ],
 "metadata": {
  "hide_input": false,
  "kernelspec": {
   "display_name": "Python 3 (ipykernel)",
   "language": "python",
   "name": "python3"
  },
  "language_info": {
   "codemirror_mode": {
    "name": "ipython",
    "version": 3
   },
   "file_extension": ".py",
   "mimetype": "text/x-python",
   "name": "python",
   "nbconvert_exporter": "python",
   "pygments_lexer": "ipython3",
   "version": "3.11.5"
  },
  "toc": {
   "base_numbering": 1,
   "nav_menu": {},
   "number_sections": true,
   "sideBar": true,
   "skip_h1_title": false,
   "title_cell": "Table of Contents",
   "title_sidebar": "Contents",
   "toc_cell": false,
   "toc_position": {
    "height": "calc(100% - 180px)",
    "left": "10px",
    "top": "150px",
    "width": "165.48px"
   },
   "toc_section_display": true,
   "toc_window_display": true
  },
  "varInspector": {
   "cols": {
    "lenName": 16,
    "lenType": 16,
    "lenVar": 40
   },
   "kernels_config": {
    "python": {
     "delete_cmd_postfix": "",
     "delete_cmd_prefix": "del ",
     "library": "var_list.py",
     "varRefreshCmd": "print(var_dic_list())"
    },
    "r": {
     "delete_cmd_postfix": ") ",
     "delete_cmd_prefix": "rm(",
     "library": "var_list.r",
     "varRefreshCmd": "cat(var_dic_list()) "
    }
   },
   "types_to_exclude": [
    "module",
    "function",
    "builtin_function_or_method",
    "instance",
    "_Feature"
   ],
   "window_display": false
  }
 },
 "nbformat": 4,
 "nbformat_minor": 5
}
