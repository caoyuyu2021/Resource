{
 "cells": [
  {
   "cell_type": "code",
   "execution_count": null,
   "id": "33d781c8",
   "metadata": {},
   "outputs": [],
   "source": [
    "# 多步滑动窗口\n",
    "sequence_length = 31\n",
    "\n",
    "function gen_sequence(data_array, data_label, sequence_length)\n",
    "    num_elements = size(data_array)[1]\n",
    "    num_feaures = size(data_array)[2]\n",
    "    label = data_label[sequence_length:num_elements]\n",
    "    data = reshape(data_array[1:sequence_length], (1, sequence_length, num_feaures))\n",
    "    dict = zip(range(2, num_elements-sequence_length+1), range(sequence_length+1, num_elements))\n",
    "    for (start, stop) in dict\n",
    "        data = vcat(data, reshape(data_array[start:stop, :], (1, sequence_length, num_feaures)))\n",
    "    end\n",
    "    return data, label\n",
    "end\n",
    "\n",
    "#单步滑动窗口设置为1即可\n",
    "sequence_length = 1\n",
    "\n",
    "data, label = gen_sequence(data_array, data_label, sequence_length)"
   ]
  }
 ],
 "metadata": {
  "kernelspec": {
   "display_name": "Julia 1.7.3",
   "language": "julia",
   "name": "julia-1.7"
  },
  "language_info": {
   "file_extension": ".jl",
   "mimetype": "application/julia",
   "name": "julia",
   "version": "1.7.3"
  },
  "nbTranslate": {
   "displayLangs": [
    "*"
   ],
   "hotkey": "alt-t",
   "langInMainMenu": true,
   "sourceLang": "en",
   "targetLang": "fr",
   "useGoogleTranslate": true
  },
  "toc": {
   "base_numbering": 1,
   "nav_menu": {},
   "number_sections": true,
   "sideBar": true,
   "skip_h1_title": false,
   "title_cell": "Table of Contents",
   "title_sidebar": "Contents",
   "toc_cell": false,
   "toc_position": {},
   "toc_section_display": true,
   "toc_window_display": false
  }
 },
 "nbformat": 4,
 "nbformat_minor": 5
}
