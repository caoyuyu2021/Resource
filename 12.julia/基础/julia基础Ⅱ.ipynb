{
 "cells": [
  {
   "cell_type": "markdown",
   "id": "b9e128d9",
   "metadata": {
    "ExecuteTime": {
     "end_time": "2022-05-30T09:18:28.118000+08:00",
     "start_time": "2022-05-30T01:18:26.506Z"
    }
   },
   "source": [
    "<font face=\"微软雅黑\" color=green size=5>Julia基础Ⅱ</font>"
   ]
  },
  {
   "cell_type": "markdown",
   "id": "6e009598",
   "metadata": {},
   "source": [
    "# 作用域"
   ]
  },
  {
   "cell_type": "markdown",
   "id": "4e02d5df",
   "metadata": {},
   "source": [
    "变量的作用域是某个变量可见的范围。 同名的变量使得问题变得复杂， 变量作用域使得同名的不同变量能够区分开来。\n",
    "\n",
    "变量作用域都是某些程序结构的范围内， 比如一个函数定义范围，而不是任意的一段程序行的范围。\n",
    "\n",
    "有两种主要的作用域：\n",
    "全局作用域\n",
    "局部作用域  \n",
    "**全局作用域适用于模块(module)内，baremodule内， 或者在命令行环境内。 每个模块有自己的全局变量， 命令行运行的程序相当于main模块。**\n",
    "\n",
    "**for, while, 自省(comprehensions)，try-catch-finally, let结构内部构成软局部作用域。 而begin复合语句，if结构，不构成局部作用域。**\n",
    "\n",
    "硬局部作用域是函数定义，struct, macro中。"
   ]
  },
  {
   "cell_type": "markdown",
   "id": "bd36ed04",
   "metadata": {},
   "source": [
    "## 句法作用域"
   ]
  },
  {
   "cell_type": "markdown",
   "id": "7fc4e12f",
   "metadata": {},
   "source": [
    "函数可以读取其外围环境中的变量的值。 这里“外围环境”的定义Julia规定为句法作用域(lexical scoping), 即一个自定义函数的作用域的外围环境是定义此函数的环境， 而不是运行时调用这个函数的环境。\n",
    "\n",
    "例如："
   ]
  },
  {
   "cell_type": "code",
   "execution_count": 1,
   "id": "d442c208",
   "metadata": {
    "ExecuteTime": {
     "end_time": "2022-06-08T14:48:14.635000+08:00",
     "start_time": "2022-06-08T06:48:13.987Z"
    }
   },
   "outputs": [
    {
     "name": "stdout",
     "output_type": "stream",
     "text": [
      "1\n"
     ]
    }
   ],
   "source": [
    "module Amod\n",
    "  x = 1\n",
    "  foo() = x\n",
    "end\n",
    "import .Amod\n",
    "x = -1\n",
    "println(Amod.foo())"
   ]
  },
  {
   "cell_type": "markdown",
   "id": "53b5301b",
   "metadata": {},
   "source": [
    "最后一个语句调用Amod.foo()时用到的是模块Amod的全局变量x， 这是定义foo()时包含函数定义的代码中的x变量。 赋值为-1的变量x是命令行的全局变量， 这是调用foo()时所处环境中的变量。\n",
    "\n",
    "要注意的是， 函数使用所处环境中的变量的当前值， 这不一定是定义该函数时的变量值。如"
   ]
  },
  {
   "cell_type": "code",
   "execution_count": 2,
   "id": "d7ebe905",
   "metadata": {
    "ExecuteTime": {
     "end_time": "2022-06-08T14:48:14.692000+08:00",
     "start_time": "2022-06-08T06:48:13.992Z"
    }
   },
   "outputs": [
    {
     "name": "stdout",
     "output_type": "stream",
     "text": [
      "2\n"
     ]
    }
   ],
   "source": [
    "module Amod2\n",
    "  x = 1\n",
    "  foo() = x\n",
    "  function setx!(xnew) \n",
    "    global x = xnew\n",
    "    return ()\n",
    "  end\n",
    "end\n",
    "import .Amod2\n",
    "Amod2.setx!(2)\n",
    "x = -1\n",
    "println(Amod2.foo())"
   ]
  },
  {
   "cell_type": "markdown",
   "id": "696f479e",
   "metadata": {},
   "source": [
    "以上程序中调用Amod2.foo()函数时， 其依赖的变量Amod.x的值已经被修改为2了， 所以Amod2.foo()返回值不是1而是2。\n",
    "\n",
    "一个模块内的所有代码可以区分为不同的作用域。\n",
    "\n",
    "不在任何函数内的变量是全局变量。\n",
    "函数的自变量和函数内用local声明的变量是属于函数的自变量。\n",
    "for, while, let环境内用local声明的变量是属于环境本身局部作用域的局部变量。"
   ]
  },
  {
   "cell_type": "markdown",
   "id": "e4268050",
   "metadata": {},
   "source": [
    "## 全局作用域"
   ]
  },
  {
   "cell_type": "markdown",
   "id": "27d474a6",
   "metadata": {},
   "source": [
    "在命令行环境中定义的变量属于命令行环境的全局作用域，实际是Main模块的全局作用域。\n",
    "\n",
    "每一个模块有自己的全局作用域，但是没有一个统一的全局作用域。 模块内在所有函数定义外部赋值的变量为全局变量。 模块内的任何位置用global关键字声明的变量为该模块的全局变量。\n",
    "\n",
    "为了访问其它模块的全局变量，可以用using或者import引入， 也可以用“模块名.变量名”格式。 事实上，每个模块是一个名字空间。 只有同一模块的代码可以修改本模块的全局变量， 在模块外可以读取模块内全局变量的值但是不允许直接对模块内的全局变量赋值修改， 可以通过调用同一模块的函数间接地修改模块内的全局变量。\n",
    "\n",
    "使用全局变量容易造成程序漏洞， 尤其是修改全局变量的值会造成难以察觉的错误。 在为全局变量赋值时用const前缀声明其为常数全局变量， 这样的全局变量不能重新绑定， 但如果其中保存mutable值的话还是可以修改保存的值的。 这种做法可以避免使用全局变量的一些错误以及性能缺陷。"
   ]
  },
  {
   "cell_type": "markdown",
   "id": "174bb984",
   "metadata": {},
   "source": [
    "## 局部作用域"
   ]
  },
  {
   "cell_type": "markdown",
   "id": "6d13baf7",
   "metadata": {},
   "source": [
    "许多代码块结构都会产生一个局部作用域，如函数定义、for循环等。 局部作用域都可以读写其定义环境所处作用域（称为父作用域）的变量， 但有例外：\n",
    "\n",
    "**如果局部作用域对变量的赋值会修改全局变量， 这时如果不在局部作用域中用global声明该变量， 程序出错；\n",
    "如果在局部作用域中用local声明了变量， 则对该变量的修改不会影响父作用域的变量。**\n",
    "局部作用域不是名字空间， 所以内层可以访问外层变量， 但是外层无论如何不能访问内层作用域的局部变量。\n",
    "\n",
    "按照对父作用域的变量如何继承来区分， 局部作用域分成硬局部作用域和软局部作用域。\n",
    "\n",
    "下面举例说明这些作用域规则。 假设每个例子都是在重新启动REPL的命令行环境内执行， 这样没有其它全局变量的干扰。"
   ]
  },
  {
   "cell_type": "markdown",
   "id": "c4106c72",
   "metadata": {},
   "source": [
    "### 例1"
   ]
  },
  {
   "cell_type": "markdown",
   "id": "577331db",
   "metadata": {},
   "source": [
    "下面的例子说明， 局部作用域独有的变量在父作用域内无法访问。 例子中for循环内构成了一个局部作用域， 其中独有的变量z无法在其父作用域即f1()函数局部作用域内访问。"
   ]
  },
  {
   "cell_type": "code",
   "execution_count": 3,
   "id": "5a4616e6",
   "metadata": {
    "ExecuteTime": {
     "end_time": "2022-06-08T14:48:15.065000+08:00",
     "start_time": "2022-06-08T06:48:13.999Z"
    }
   },
   "outputs": [
    {
     "data": {
      "text/plain": [
       "f1 (generic function with 1 method)"
      ]
     },
     "execution_count": 3,
     "metadata": {},
     "output_type": "execute_result"
    }
   ],
   "source": [
    "function f1()\n",
    "  for i=1:5\n",
    "    z = i\n",
    "  end\n",
    "  println(z) # 错误：z无定义\n",
    "end"
   ]
  },
  {
   "cell_type": "markdown",
   "id": "a0786525",
   "metadata": {},
   "source": [
    "如果调用f1()，会出错：\n",
    "\n",
    "UndefVarError: z not defined\n",
    "即在for循环外部变量z无定义。"
   ]
  },
  {
   "cell_type": "markdown",
   "id": "39bf8f89",
   "metadata": {},
   "source": [
    "### 例2"
   ]
  },
  {
   "cell_type": "markdown",
   "id": "398b1c91",
   "metadata": {},
   "source": [
    "在下面的程序中， f2()函数内构成一个局部作用域。 f2()内定义的变量z不能在外部访问。"
   ]
  },
  {
   "cell_type": "code",
   "execution_count": 4,
   "id": "a46f21b9",
   "metadata": {
    "ExecuteTime": {
     "end_time": "2022-06-08T14:48:15.145000+08:00",
     "start_time": "2022-06-08T06:48:14.004Z"
    }
   },
   "outputs": [
    {
     "data": {
      "text/plain": [
       "f2 (generic function with 1 method)"
      ]
     },
     "execution_count": 4,
     "metadata": {},
     "output_type": "execute_result"
    }
   ],
   "source": [
    "function f2()\n",
    "  z = 1\n",
    "  println(\"Inside f2(): z=$z\")\n",
    "end"
   ]
  },
  {
   "cell_type": "markdown",
   "id": "864236fb",
   "metadata": {
    "ExecuteTime": {
     "end_time": "2022-05-31T10:21:02.696000+08:00",
     "start_time": "2022-05-31T02:21:02.099Z"
    }
   },
   "source": [
    "如果执行f2()，结果为\n",
    "\n",
    "Inside f2(): z=1\n",
    "如果执行println(\"Outside f2(): z=$z\")，结果为\n",
    "\n",
    "UndefVarError: z not defined"
   ]
  },
  {
   "cell_type": "markdown",
   "id": "096e5409",
   "metadata": {
    "ExecuteTime": {
     "end_time": "2022-05-31T10:21:06.755000+08:00",
     "start_time": "2022-05-31T02:21:06.753Z"
    }
   },
   "source": [
    "### 例3"
   ]
  },
  {
   "cell_type": "markdown",
   "id": "c01025aa",
   "metadata": {},
   "source": [
    "下面的例子修改了父作用域中的变量， 变量不是全局变量也没有用local声明。 函数f3()中的for循环构成一个局部作用域， 其父作用域是f3()的局部作用域， for()循环中可以直接读取并修改父作用域中非全局的变量z的值："
   ]
  },
  {
   "cell_type": "code",
   "execution_count": 5,
   "id": "c4a928ce",
   "metadata": {
    "ExecuteTime": {
     "end_time": "2022-06-08T14:48:15.156000+08:00",
     "start_time": "2022-06-08T06:48:14.008Z"
    }
   },
   "outputs": [
    {
     "name": "stdout",
     "output_type": "stream",
     "text": [
      "15\n"
     ]
    }
   ],
   "source": [
    "function f3()\n",
    "  z = 0\n",
    "  for i=1:5\n",
    "    z += i\n",
    "  end\n",
    "  println(z) # 15\n",
    "end\n",
    "f3()"
   ]
  },
  {
   "cell_type": "markdown",
   "id": "c9a1cb0a",
   "metadata": {},
   "source": [
    "注意for作用域中z不是全局变量也没有用local声明。"
   ]
  },
  {
   "cell_type": "markdown",
   "id": "b9b93bab",
   "metadata": {},
   "source": [
    "### 例4"
   ]
  },
  {
   "cell_type": "markdown",
   "id": "a83ba34e",
   "metadata": {},
   "source": [
    "在f3()定义中，如果在for结构内用local声明变量z， 则程序会出错。\n",
    "\n",
    "下面的例子说明f4()中的局部变量z与其中的for结构中的z是两个不同的变量， 因为在for结构中用local声明了该结构中的z是局部版本："
   ]
  },
  {
   "cell_type": "code",
   "execution_count": 6,
   "id": "0856e282",
   "metadata": {
    "ExecuteTime": {
     "end_time": "2022-06-08T14:48:15.197000+08:00",
     "start_time": "2022-06-08T06:48:14.013Z"
    }
   },
   "outputs": [
    {
     "name": "stdout",
     "output_type": "stream",
     "text": [
      "i=1 z=1\n",
      "i=2 z=2\n",
      "i=3 z=3\n",
      "Outside for loop: z=0\n"
     ]
    }
   ],
   "source": [
    "function f4()\n",
    "  z = 0\n",
    "  for i=1:3\n",
    "    local z\n",
    "    z = i\n",
    "    println(\"i=$i z=$z\")\n",
    "  end\n",
    "  println(\"Outside for loop: z=$z\") # 0\n",
    "end\n",
    "f4()"
   ]
  },
  {
   "cell_type": "markdown",
   "id": "034bc1b4",
   "metadata": {
    "ExecuteTime": {
     "end_time": "2022-05-31T10:21:26.031000+08:00",
     "start_time": "2022-05-31T02:21:26.030Z"
    }
   },
   "source": [
    "### 例5"
   ]
  },
  {
   "cell_type": "code",
   "execution_count": 7,
   "id": "17786d44",
   "metadata": {
    "ExecuteTime": {
     "end_time": "2022-06-08T14:48:15.204000+08:00",
     "start_time": "2022-06-08T06:48:14.017Z"
    }
   },
   "outputs": [],
   "source": [
    "z = 0\n",
    "for i=1:5\n",
    "  z += i\n",
    "end"
   ]
  },
  {
   "cell_type": "markdown",
   "id": "983b2ce7",
   "metadata": {},
   "source": [
    "程序结果为：\n",
    "\n",
    "ERROR: UndefVarError: z not defined\n",
    "在Jupyter中运行时可能会因为修改了规则而不报错。\n",
    "\n",
    "这个问题的正确做法是将程序像f3()那样写在一个函数中， 这就不会发生在局部作用域内修改全局变量的问题。 在局部作用域用global声明要修改的全局变量也可以："
   ]
  },
  {
   "cell_type": "code",
   "execution_count": 8,
   "id": "8182499a",
   "metadata": {
    "ExecuteTime": {
     "end_time": "2022-06-08T14:48:15.213000+08:00",
     "start_time": "2022-06-08T06:48:14.021Z"
    }
   },
   "outputs": [
    {
     "name": "stdout",
     "output_type": "stream",
     "text": [
      "15\n"
     ]
    }
   ],
   "source": [
    "z = 0\n",
    "for i=1:5\n",
    "  global z\n",
    "  z += i\n",
    "end\n",
    "println(z) # 15"
   ]
  },
  {
   "cell_type": "markdown",
   "id": "f86aa403",
   "metadata": {},
   "source": [
    "使用global关键字要慎重， 一旦在局部作用域中将某个变量用global声明为全局变量， 则此变量就不仅仅可以被其父作用域访问， 而是在模块内全局可访问。 如"
   ]
  },
  {
   "cell_type": "code",
   "execution_count": 9,
   "id": "e4f5c5ff",
   "metadata": {
    "ExecuteTime": {
     "end_time": "2022-06-08T14:48:15.244000+08:00",
     "start_time": "2022-06-08T06:48:14.027Z"
    }
   },
   "outputs": [
    {
     "name": "stdout",
     "output_type": "stream",
     "text": [
      "Outside for structure: z=5\n",
      "Outside function f5(): z=5\n"
     ]
    }
   ],
   "source": [
    "function f5()\n",
    "  for i=1:5\n",
    "    global z=i\n",
    "  end\n",
    "  println(\"Outside for structure: z=$z\") \n",
    "end\n",
    "f5()\n",
    "println(\"Outside function f5(): z=$z\")"
   ]
  },
  {
   "cell_type": "markdown",
   "id": "5d559e0d",
   "metadata": {},
   "source": [
    "## 软局部作用域"
   ]
  },
  {
   "cell_type": "markdown",
   "id": "dd474579",
   "metadata": {},
   "source": [
    "软局部作用域内的变量默认是在其父作用域内的变量， 但是:\n",
    "\n",
    "在软局部作用域内新定义的变量，作用域外仍不能访问;\n",
    "软局部作用域内用local声明过的变量仅能在该作用域内访问而不会与其父作用域的同名变量冲突;\n",
    "软局部作用域内试图为全局变量赋值而未在作用域内用global声明该变量会出错。\n",
    "for循环，while循环，自省结构， try-catch-finally结构，let结构会引入软局部作用域。 软局部作用域，如for循环， 一般用来处理其父作用域（一般是函数内部）内的变量， 与其周围代码是不可分割的。 比如在用for循环做累加时， 累加结果变量一定是在for循环父作用域内而不能是局部的, 所以软作用域非以上三种特殊情况下可以读写其父作用域的变量。\n",
    "\n",
    "for循环和自省结构中的循环变量都是结构内的局部变量， 即使在其父作用域中有同名变量也是如此， while循环没有语法上的循环变量所以不受此限制。 在结构中新定义的变量都是结构内的局部变量， 但如果父作用域是函数的局部作用域且父作用域内有同名变量， 则结构内的变量读写父作用域中的变量。\n",
    "\n",
    "软局部作用域的这些规定与例外规定与其它程序语言存在较大差别， 初学者很容易出错。建议如下：\n",
    "\n",
    "对软局部作用域，尽量不要在其中新定义变量;\n",
    "如果新定义变量， 用local声明使其作用域变得明显可见就不会发生误读误判， 即使父作用域中没有同名变量也加上这个声明可以使得程序的意图更清楚；\n",
    "对于函数内的软局部作用域，其父作用域是函数的局部作用域， 为了能够访问函数的局部变量， 软局部作用域内不需要也不应该使用global声明该变量， 因为其变量除了新定义的，都是函数的自变量和局部变量， 使用global声明的副作用是该变量成为全局变量， 而不仅仅是父作用域中可访问的变量。"
   ]
  },
  {
   "cell_type": "markdown",
   "id": "cc39a3d8",
   "metadata": {},
   "source": [
    "## 硬局部作用域"
   ]
  },
  {
   "cell_type": "markdown",
   "id": "1c54a70a",
   "metadata": {},
   "source": [
    "函数定义，struct结构，宏定义内部为硬局部作用域。 其中函数定义可以嵌套在另一个函数定义中， 而struct结构和宏定义则只能在全局作用域中定义。\n",
    "\n",
    "在硬局部作用域中，几乎所有变量都是从其父作用域内继承来的， 例外情况包括：\n",
    "\n",
    "对父作用域内的变量赋值，会修改全局变量时， 这时赋值会产生一个局部副本而不修改全局变量值。 注意软局部作用域没有用global声明而修改全局变量会出错， 而不是默默地生成一个局部副本。\n",
    "用local声明的变量，仅在此局部作用域内起作用， 即使父作用域中有同名变量或者有同名的全局变量。\n",
    "在硬局部作用域中， 父作用域中的变量以及全局变量都可以不经声明直接读取值； 父作用域中的变量如果不是全局变量， 可以直接修改变量值。\n",
    "\n",
    "硬局部作用域中不经声明不能修改全局变量值。 需要在局部作用域内用global声明该变量才能修改全局变量值。 为了能明显地反映程序意图， 在局部作用域内不论读或者写访问全局变量时， 都最好在局部作用域内用global关键字声明该变量。"
   ]
  },
  {
   "cell_type": "markdown",
   "id": "eb75d341",
   "metadata": {},
   "source": [
    "### 例6"
   ]
  },
  {
   "cell_type": "markdown",
   "id": "feeadc8d",
   "metadata": {},
   "source": [
    "例如， 在函数内部读取全局变量的值， 可以不用global声明："
   ]
  },
  {
   "cell_type": "code",
   "execution_count": 10,
   "id": "c8b9d5ca",
   "metadata": {
    "ExecuteTime": {
     "end_time": "2022-06-08T14:48:15.260000+08:00",
     "start_time": "2022-06-08T06:48:14.042Z"
    }
   },
   "outputs": [
    {
     "name": "stdout",
     "output_type": "stream",
     "text": [
      "函数内读取外部变量：z=-1\n"
     ]
    }
   ],
   "source": [
    "z = -1\n",
    "function f6()\n",
    "  println(\"函数内读取外部变量：z=$z\")\n",
    "end\n",
    "f6()"
   ]
  },
  {
   "cell_type": "markdown",
   "id": "56bb96e8",
   "metadata": {},
   "source": [
    "但是， 在函数内没有用global声明的全局变量， 不能修改， 意图修改全局变量的代码实际是建立了一个局部变量："
   ]
  },
  {
   "cell_type": "code",
   "execution_count": 11,
   "id": "860d99f5",
   "metadata": {
    "ExecuteTime": {
     "end_time": "2022-06-08T14:48:15.269000+08:00",
     "start_time": "2022-06-08T06:48:14.050Z"
    }
   },
   "outputs": [
    {
     "name": "stdout",
     "output_type": "stream",
     "text": [
      "函数内不用global声明修改全局变量，修改后：z=1\n",
      "退出函数后全局变量：z=-1\n"
     ]
    }
   ],
   "source": [
    "z = -1\n",
    "function f7()\n",
    "  z = 1\n",
    "  println(\"函数内不用global声明修改全局变量，修改后：z=$z\")\n",
    "end\n",
    "f7()\n",
    "println(\"退出函数后全局变量：z=$z\")"
   ]
  },
  {
   "cell_type": "markdown",
   "id": "c725db1e",
   "metadata": {},
   "source": [
    "这说明函数f7()内并没有修改全局变量z的值， f7()运行期间显示的z是一个局部变量。 函数内并没有能够修改外部的z变量值， 而且一旦函数内给z赋值，整个函数体内z都是局部变量， 这样在给z赋值之前z是无定义的， 而不是能访问外部的z值。 下面的程序在z=1赋值之前显示z的值， 这时的z已经是局部变量，所以程序会出错："
   ]
  },
  {
   "cell_type": "code",
   "execution_count": 12,
   "id": "554a468e",
   "metadata": {
    "ExecuteTime": {
     "end_time": "2022-06-08T14:48:15.935000+08:00",
     "start_time": "2022-06-08T06:48:14.057Z"
    }
   },
   "outputs": [
    {
     "ename": "LoadError",
     "evalue": "UndefVarError: z not defined",
     "output_type": "error",
     "traceback": [
      "UndefVarError: z not defined",
      "",
      "Stacktrace:",
      " [1] f7()",
      "   @ Main .\\In[12]:3",
      " [2] top-level scope",
      "   @ In[12]:7",
      " [3] eval",
      "   @ .\\boot.jl:373 [inlined]",
      " [4] include_string(mapexpr::typeof(REPL.softscope), mod::Module, code::String, filename::String)",
      "   @ Base .\\loading.jl:1196"
     ]
    }
   ],
   "source": [
    "z = -1\n",
    "function f7()\n",
    "  println(\"函数内不用global声明修改全局变量，修改前：z=$z\")\n",
    "  z = 1\n",
    "  println(\"函数内不用global声明修改全局变量，修改后：z=$z\")\n",
    "end\n",
    "f7()\n",
    "println(\"退出函数后全局变量：z=$z\")"
   ]
  },
  {
   "cell_type": "markdown",
   "id": "1b2ff9cc",
   "metadata": {},
   "source": [
    "所以，函数内赋值的变量， 最好用local声明以避免误解。 嵌套定义的函数是一个例外， 嵌套定义的函数的父作用域是另一个函数的局部作用域， 不存在修改全局变量的问题。\n",
    "\n",
    "在函数内用global声明变量， 就可以读写访问全局变量。 为了程序意图更清晰， 即使仅读取全局变量， 最好也用global声明。 如"
   ]
  },
  {
   "cell_type": "code",
   "execution_count": 13,
   "id": "e0be77f2",
   "metadata": {
    "ExecuteTime": {
     "end_time": "2022-06-08T14:48:15.940000+08:00",
     "start_time": "2022-06-08T06:48:14.063Z"
    }
   },
   "outputs": [
    {
     "name": "stdout",
     "output_type": "stream",
     "text": [
      "函数内用global声明修改全局变量：z=1\n",
      "退出函数后全局变量：z=1\n"
     ]
    }
   ],
   "source": [
    "z = -1\n",
    "function f8()\n",
    "  global z\n",
    "  z = 1\n",
    "  println(\"函数内用global声明修改全局变量：z=$z\")\n",
    "end\n",
    "f8()\n",
    "println(\"退出函数后全局变量：z=$z\")"
   ]
  },
  {
   "cell_type": "markdown",
   "id": "97f1514c",
   "metadata": {},
   "source": [
    "上述程序中所有的变量z都是全局变量z。"
   ]
  },
  {
   "cell_type": "markdown",
   "id": "48d71be4",
   "metadata": {},
   "source": [
    "## 嵌套定义函数的作用域"
   ]
  },
  {
   "cell_type": "markdown",
   "id": "e9fbb590",
   "metadata": {},
   "source": [
    "嵌套地定义在函数内的函数， 其作用域与直接定义在全局作用域的函数不同：\n",
    "\n",
    "直接定义在全局作用域的函数的父作用域是全局作用域， 父作用域的变量是全局变量， 按照规定， 函数内修改没有用global声明的变量只能生成一个同名局部变量；\n",
    "嵌套地定义的函数， 其父作用域是另一个函数的局部作用域， 所以在嵌套定义内可以不需要声明直接读写父作用域中的变量， 实际上也不能用global声明父作用域中的变量。\n",
    "对于struct结构和宏定义， 它们只能在全局作用域定义而不能嵌套定义， 所以不存在这个差别。"
   ]
  },
  {
   "cell_type": "markdown",
   "id": "50e32d5f",
   "metadata": {},
   "source": [
    "### 例7"
   ]
  },
  {
   "cell_type": "code",
   "execution_count": 14,
   "id": "77ee62b8",
   "metadata": {
    "ExecuteTime": {
     "end_time": "2022-06-08T14:48:15.955000+08:00",
     "start_time": "2022-06-08T06:48:14.069Z"
    }
   },
   "outputs": [
    {
     "name": "stdout",
     "output_type": "stream",
     "text": [
      "在bar()开始时: x=foo.x\n",
      "在bar()修改后: x=bar.x\n",
      "在bar()结束后: x=bar.x\n",
      "在foo()结束后: x=global.x\n"
     ]
    }
   ],
   "source": [
    "x = \"global.x\" # 全局变量\n",
    "function foo()\n",
    "  local x = \"foo.x\" # 这是一个baz作用域内的局部变量\n",
    "  function bar()\n",
    "    println(\"在bar()开始时: x=$x\") # baz.x，读取父作用域的局部变量\n",
    "    x = \"bar.x\" # 内嵌函数内，允许读写访问其所在函数的局部变量\n",
    "    println(\"在bar()修改后: x=$x\") # bar.x，读取父作用域的局部变量\n",
    "  end\n",
    "  bar()\n",
    "  println(\"在bar()结束后: x=$x\") # bar.x，函数baz()的局部变量x被内嵌函数修改了\n",
    "end\n",
    "foo()\n",
    "println(\"在foo()结束后: x=$x\") # global.x, 内嵌函数没有修改全局变量"
   ]
  },
  {
   "cell_type": "markdown",
   "id": "68c56f15",
   "metadata": {},
   "source": [
    "可以看到，baz()和bar()内的x都与全局的x=\"globa.x\"没有关系。 嵌套定义的bar()内能读取其父作用域baz作用域的x的值， 也修改了其父作用域中的x的值， 这一点与非内嵌函数修改全局变量不同。"
   ]
  },
  {
   "cell_type": "markdown",
   "id": "d987072c",
   "metadata": {},
   "source": [
    "### 例8"
   ]
  },
  {
   "cell_type": "markdown",
   "id": "d23f7252",
   "metadata": {},
   "source": [
    "之所以规定嵌套函数可以直接读写访问其父作用域中的变量， 是实现所谓“闭包”(closure)的要求。 闭包是带有状态的函数， 因为Julia不支持如Java、C++、Python这些语言的“类”(class)， 所以需要利用闭包来实现记忆状态的函数。 在这一点上Julia语言与R语言比较相近。\n",
    "\n",
    "在下面的例子中，f9()是一个局部作用域， 在f9()内嵌套地定义了无名函数并且将其作为函数f9()的返回值, 这时f9()的函数值是一个函数对象。 通过将f9()的函数值赋值给变量counter, 变量counter就变成了一个函数， 按照句法作用域规则， counter()函数可以完全读写访问其定义时的父作用域f9()中的变量state, state就变成了counter()函数的私有状态变量， 可以保存上次运行状态："
   ]
  },
  {
   "cell_type": "code",
   "execution_count": 15,
   "id": "b3ebd1dc",
   "metadata": {
    "ExecuteTime": {
     "end_time": "2022-06-08T14:48:16.017000+08:00",
     "start_time": "2022-06-08T06:48:14.073Z"
    }
   },
   "outputs": [
    {
     "name": "stdout",
     "output_type": "stream",
     "text": [
      "1, 2\n"
     ]
    }
   ],
   "source": [
    "function f9()\n",
    "  state = 0\n",
    "  function ()\n",
    "    state += 1\n",
    "  end\n",
    "end\n",
    "counter = f9()\n",
    "println(counter(), \", \", counter())"
   ]
  },
  {
   "cell_type": "markdown",
   "id": "f48077cf",
   "metadata": {},
   "source": [
    "## 硬作用域和软作用域的比较"
   ]
  },
  {
   "cell_type": "markdown",
   "id": "443f0948",
   "metadata": {},
   "source": [
    "软局部作用域，如for循环， 一般用来处理其父作用域（一般是函数局部作用域）内的变量， 与其周围代码是不可分割的。 比如在用for循环做累加时，累加结果变量一定是在for循环父作用域内而不能是局部的, 所以软作用域可以读写其父作用域的变量。\n",
    "\n",
    "另一方面，硬作用域一般是独立地运行在不同的调用场合的， 与周围的代码的关系没有那么紧密，很可能会在别的模块中被调用。 所以硬作用域不允许修改全局变量值（除非使用global声明）。"
   ]
  },
  {
   "cell_type": "markdown",
   "id": "d11eed29",
   "metadata": {},
   "source": [
    "# 数据类型"
   ]
  },
  {
   "cell_type": "markdown",
   "id": "11a6abd7",
   "metadata": {},
   "source": [
    "**Julia中没有class，也没有子类的继承关系，所有具体类型都是最终的，并且只有抽象类型可以作为超类型，Julia中的继承是继承行为，而不是继承结构，即继承类型，不继承类。**"
   ]
  },
  {
   "cell_type": "markdown",
   "id": "bc734750",
   "metadata": {},
   "source": [
    "程序中的常量和变量都有类型，比如，常数108的类型为Int64。函数**typeof()** 可以返回常量或变量的类型，如"
   ]
  },
  {
   "cell_type": "code",
   "execution_count": 16,
   "id": "7bd8f95f",
   "metadata": {
    "ExecuteTime": {
     "end_time": "2022-06-08T14:48:16.288000+08:00",
     "start_time": "2022-06-08T06:48:14.079Z"
    }
   },
   "outputs": [
    {
     "data": {
      "text/plain": [
       "Int64"
      ]
     },
     "execution_count": 16,
     "metadata": {},
     "output_type": "execute_result"
    }
   ],
   "source": [
    "typeof(108)"
   ]
  },
  {
   "cell_type": "markdown",
   "id": "16c87346",
   "metadata": {
    "ExecuteTime": {
     "end_time": "2022-05-31T10:22:40.325000+08:00",
     "start_time": "2022-05-31T02:22:40.320Z"
    }
   },
   "source": [
    "变量的类型由其中保存的值的类型决定，Julia变量实际是“绑定”到了某个保存了值的地址。如"
   ]
  },
  {
   "cell_type": "code",
   "execution_count": 17,
   "id": "2ddb4b13",
   "metadata": {
    "ExecuteTime": {
     "end_time": "2022-06-08T14:48:16.288000+08:00",
     "start_time": "2022-06-08T06:48:14.083Z"
    }
   },
   "outputs": [
    {
     "data": {
      "text/plain": [
       "Int64"
      ]
     },
     "execution_count": 17,
     "metadata": {},
     "output_type": "execute_result"
    }
   ],
   "source": [
    "x = 108\n",
    "typeof(x)"
   ]
  },
  {
   "cell_type": "markdown",
   "id": "7f92a948",
   "metadata": {},
   "source": [
    "**函数typemax()可以求一个数值类型能保存的最大值， typemin()可以求一个数值类型能保存的最小值**。如"
   ]
  },
  {
   "cell_type": "code",
   "execution_count": 18,
   "id": "be563e47",
   "metadata": {
    "ExecuteTime": {
     "end_time": "2022-06-08T14:48:16.414000+08:00",
     "start_time": "2022-06-08T06:48:14.087Z"
    }
   },
   "outputs": [
    {
     "name": "stdout",
     "output_type": "stream",
     "text": [
      "Int8[-128, 127]"
     ]
    }
   ],
   "source": [
    "show([typemin(Int8), typemax(Int8)])"
   ]
  },
  {
   "cell_type": "markdown",
   "id": "ac0bd46d",
   "metadata": {},
   "source": [
    "Julia的变量不必须声明类型， 但是必须初始化，未定义的变量用于计算会出错。\n",
    "\n",
    "Julia归类到动态类型语言， 是因为不必须声明变量类型。 其它的动态类型语言如Python不支持声明变量类型， Julia是允许不声明变量类型， 也可以声明变量类型， 声明变量类型往往可以改善程序效率， 尤其是函数的自变量类型。 同名的函数可以因为其自变量类型声明的不同而执行不同的操作， 这称为多重分派(multiple dispatch)。\n",
    "\n",
    "在循环内部声明变量类型可以避免因为每次查询变量类型而引起的运行效率损失。"
   ]
  },
  {
   "cell_type": "markdown",
   "id": "1dfed32d",
   "metadata": {},
   "source": [
    "## 类型系统"
   ]
  },
  {
   "cell_type": "markdown",
   "id": "275f751c",
   "metadata": {},
   "source": [
    "用程序语言术语描述， Julia语言的类型系统是动态的，主格的(nominative), 参数化的。 通用类型可以带有类型参数。 类型的层次结构是显式声明的， 不是由兼容结构隐含的。 实体类型(concrete types)不能互相继承， 这与很多面向对象系统不同。 Julia的理念认为继承数据结构并不重要，继承行为才是最有用的。\n",
    "\n",
    "Julia的数值类型可以由如下的类型结构组成："
   ]
  },
  {
   "cell_type": "raw",
   "id": "bc1b4a94",
   "metadata": {
    "ExecuteTime": {
     "end_time": "2022-06-09T10:37:42.074000+08:00",
     "start_time": "2022-06-09T02:37:41.526Z"
    }
   },
   "source": [
    "abstract type Number end\n",
    "abstract type Real     <: Number end\n",
    "abstract type AbstractFloat <: Real end\n",
    "abstract type Integer  <: Real end\n",
    "abstract type Signed   <: Integer end\n",
    "abstract type Unsigned <: Integer end"
   ]
  },
  {
   "cell_type": "markdown",
   "id": "5d28ab11",
   "metadata": {},
   "source": [
    "**所有的数值都是Number， Number又分为实数(Real)和其它数，实数包括Integer和AbstractFloat，Integer中有Signed和Unsigned，Signed中有Int8, Int16, Int32, Int64, Int128等，Unsigned中有UInt8, UInt16, UInt32, UInt64, UInt128等。AbstractFloat中有Float16, Float32, Float64等，布尔类型Bool是Integer的子类**。\n",
    "\n",
    "整数类型默认为Int64，浮点数类型默认为Float64。程序中如1.2和1.2e-3这样的字面浮点数的类型是Float64， 单精度数(Float32)可以写成如1.2f0, 1.2f-3这样的格式。BigInt是任意精度整数， BigFloat是任意精度浮点数。 实际上，BigFloat有一个用户可修改的的有效位数设置。\n",
    "\n",
    "**用$<:$运算符来判断子类关系是否成立**，如"
   ]
  },
  {
   "cell_type": "code",
   "execution_count": 19,
   "id": "67f8a40c",
   "metadata": {
    "ExecuteTime": {
     "end_time": "2022-06-08T14:48:16.591000+08:00",
     "start_time": "2022-06-08T06:48:14.107Z"
    }
   },
   "outputs": [
    {
     "data": {
      "text/plain": [
       "true"
      ]
     },
     "execution_count": 19,
     "metadata": {},
     "output_type": "execute_result"
    }
   ],
   "source": [
    "Int32 <: Number"
   ]
  },
  {
   "cell_type": "code",
   "execution_count": 20,
   "id": "9ef9181b",
   "metadata": {
    "ExecuteTime": {
     "end_time": "2022-06-08T14:48:16.592000+08:00",
     "start_time": "2022-06-08T06:48:14.110Z"
    }
   },
   "outputs": [
    {
     "data": {
      "text/plain": [
       "false"
      ]
     },
     "execution_count": 20,
     "metadata": {},
     "output_type": "execute_result"
    }
   ],
   "source": [
    "Int32 <: AbstractFloat"
   ]
  },
  {
   "cell_type": "markdown",
   "id": "08b791bc",
   "metadata": {},
   "source": [
    "**确定 x 是否属于给定类型。也可以用作中缀运算符**，例如x isa 类型。"
   ]
  },
  {
   "cell_type": "code",
   "execution_count": 36,
   "id": "65aa1265",
   "metadata": {
    "ExecuteTime": {
     "end_time": "2022-06-09T13:52:16.548000+08:00",
     "start_time": "2022-06-09T05:52:16.547Z"
    }
   },
   "outputs": [
    {
     "data": {
      "text/plain": [
       "true"
      ]
     },
     "execution_count": 36,
     "metadata": {},
     "output_type": "execute_result"
    }
   ],
   "source": [
    "isa(1, Int)"
   ]
  },
  {
   "cell_type": "code",
   "execution_count": 37,
   "id": "fc251e6b",
   "metadata": {
    "ExecuteTime": {
     "end_time": "2022-06-09T13:52:29.758000+08:00",
     "start_time": "2022-06-09T05:52:29.756Z"
    }
   },
   "outputs": [
    {
     "data": {
      "text/plain": [
       "false"
      ]
     },
     "execution_count": 37,
     "metadata": {},
     "output_type": "execute_result"
    }
   ],
   "source": [
    "isa(1, Matrix)"
   ]
  },
  {
   "cell_type": "code",
   "execution_count": 38,
   "id": "7b3a5cfb",
   "metadata": {
    "ExecuteTime": {
     "end_time": "2022-06-09T13:52:41.048000+08:00",
     "start_time": "2022-06-09T05:52:41.046Z"
    }
   },
   "outputs": [
    {
     "data": {
      "text/plain": [
       "true"
      ]
     },
     "execution_count": 38,
     "metadata": {},
     "output_type": "execute_result"
    }
   ],
   "source": [
    "1 isa Number"
   ]
  },
  {
   "cell_type": "markdown",
   "id": "0265cd65",
   "metadata": {},
   "source": [
    "## 复数类型"
   ]
  },
  {
   "cell_type": "markdown",
   "id": "e8c68494",
   "metadata": {},
   "source": [
    "Julia内建了复数类型， 这是Number的子类。 **关键字im用来表示复数虚部**， 比如1.0 + 2.1im表示复数 1+2.1i。\n",
    "\n",
    "复数类型用实数类型分别保存实部和虚部， 其定义利用了Julia语言的“参数化类型”： 实部与虚部的实际类型可以是一个“类型参数”。 比如， Complex{Float64}用Float64(即双精度实数)分别保存实部和虚部。\n",
    "\n",
    "对复数类型可以应用函数abs(), exp(), sqrt(), real(), imag()等。 如"
   ]
  },
  {
   "cell_type": "code",
   "execution_count": 21,
   "id": "f3ea88c5",
   "metadata": {
    "ExecuteTime": {
     "end_time": "2022-06-08T14:48:16.795000+08:00",
     "start_time": "2022-06-08T06:48:14.114Z"
    }
   },
   "outputs": [
    {
     "data": {
      "text/plain": [
       "2.3259406699226015"
      ]
     },
     "execution_count": 21,
     "metadata": {},
     "output_type": "execute_result"
    }
   ],
   "source": [
    "abs(1.0 + 2.1im)"
   ]
  },
  {
   "cell_type": "code",
   "execution_count": 22,
   "id": "def79883",
   "metadata": {
    "ExecuteTime": {
     "end_time": "2022-06-08T14:48:16.803000+08:00",
     "start_time": "2022-06-08T06:48:14.116Z"
    }
   },
   "outputs": [
    {
     "data": {
      "text/plain": [
       "2.3259406699226015"
      ]
     },
     "execution_count": 22,
     "metadata": {},
     "output_type": "execute_result"
    }
   ],
   "source": [
    "sqrt(1.0^2 + 2.1^2)"
   ]
  },
  {
   "cell_type": "markdown",
   "id": "235b69c5",
   "metadata": {},
   "source": [
    "## 有理数类型"
   ]
  },
  {
   "cell_type": "markdown",
   "id": "f4fd4818",
   "metadata": {},
   "source": [
    "Julia内建了有理数类型， 分别保存分子和分母， Rational{Int64}用Int64类型分别保存分子和分母。 有理数是Number的子类， 支持四则运算， 也可以与其他数值类型混合进行四则运算。\n",
    "\n",
    "用2 // 5表示有理数 2/5 ， 其数据类型为Rational{Int64}。 可以用函数num()取出分子， 用denom()取出分母， 用float()转换为浮点实数。\n",
    "\n",
    "函数内部以及某些控制结构如for循环结构内， 定义的变量是局部的， 全局变量在局部作用域内的访问有特殊规则。 函数内部可以嵌套定义函数， 嵌套在内部的函数的局部变量又有特殊的作用域规则。"
   ]
  },
  {
   "cell_type": "markdown",
   "id": "3072c5fe",
   "metadata": {},
   "source": [
    "## 类型转换与提升"
   ]
  },
  {
   "cell_type": "markdown",
   "id": "43deeb54",
   "metadata": {},
   "source": [
    "设T为类型名， T(x)在可以无损转换的情况下将自变量x转换为T类型返回， 但是不能无损转换时会报错。如"
   ]
  },
  {
   "cell_type": "code",
   "execution_count": 23,
   "id": "09c932ff",
   "metadata": {
    "ExecuteTime": {
     "end_time": "2022-06-08T14:48:16.970000+08:00",
     "start_time": "2022-06-08T06:48:14.120Z"
    }
   },
   "outputs": [
    {
     "data": {
      "text/plain": [
       "1"
      ]
     },
     "execution_count": 23,
     "metadata": {},
     "output_type": "execute_result"
    }
   ],
   "source": [
    "Int64(1.0)"
   ]
  },
  {
   "cell_type": "code",
   "execution_count": 24,
   "id": "857d8371",
   "metadata": {
    "ExecuteTime": {
     "end_time": "2022-06-08T14:48:17.129000+08:00",
     "start_time": "2022-06-08T06:48:14.123Z"
    }
   },
   "outputs": [
    {
     "ename": "LoadError",
     "evalue": "InexactError: Int64(1.5)",
     "output_type": "error",
     "traceback": [
      "InexactError: Int64(1.5)",
      "",
      "Stacktrace:",
      " [1] Int64(x::Float64)",
      "   @ Base .\\float.jl:812",
      " [2] top-level scope",
      "   @ In[24]:1",
      " [3] eval",
      "   @ .\\boot.jl:373 [inlined]",
      " [4] include_string(mapexpr::typeof(REPL.softscope), mod::Module, code::String, filename::String)",
      "   @ Base .\\loading.jl:1196"
     ]
    }
   ],
   "source": [
    "Int64(1.5)"
   ]
  },
  {
   "cell_type": "code",
   "execution_count": 25,
   "id": "e901113d",
   "metadata": {
    "ExecuteTime": {
     "end_time": "2022-06-08T14:48:17.130000+08:00",
     "start_time": "2022-06-08T06:48:14.126Z"
    }
   },
   "outputs": [
    {
     "data": {
      "text/plain": [
       "1.0"
      ]
     },
     "execution_count": 25,
     "metadata": {},
     "output_type": "execute_result"
    }
   ],
   "source": [
    "Float64(1)"
   ]
  },
  {
   "cell_type": "code",
   "execution_count": 26,
   "id": "7332bb4b",
   "metadata": {
    "ExecuteTime": {
     "end_time": "2022-06-08T14:48:17.131000+08:00",
     "start_time": "2022-06-08T06:48:14.128Z"
    }
   },
   "outputs": [
    {
     "data": {
      "text/plain": [
       "1"
      ]
     },
     "execution_count": 26,
     "metadata": {},
     "output_type": "execute_result"
    }
   ],
   "source": [
    "Int64(true)"
   ]
  },
  {
   "cell_type": "code",
   "execution_count": 27,
   "id": "966bb6a4",
   "metadata": {
    "ExecuteTime": {
     "end_time": "2022-06-08T14:48:17.136000+08:00",
     "start_time": "2022-06-08T06:48:14.131Z"
    }
   },
   "outputs": [
    {
     "data": {
      "text/plain": [
       "true"
      ]
     },
     "execution_count": 27,
     "metadata": {},
     "output_type": "execute_result"
    }
   ],
   "source": [
    "Bool(1)"
   ]
  },
  {
   "cell_type": "markdown",
   "id": "c8f86add",
   "metadata": {},
   "source": [
    "**string()可以将大多数类型转换为字符型， 也可以连接多项**，如"
   ]
  },
  {
   "cell_type": "code",
   "execution_count": 28,
   "id": "69f90c66",
   "metadata": {
    "ExecuteTime": {
     "end_time": "2022-06-08T14:48:17.523000+08:00",
     "start_time": "2022-06-08T06:48:14.134Z"
    }
   },
   "outputs": [
    {
     "data": {
      "text/plain": [
       "\"3\""
      ]
     },
     "execution_count": 28,
     "metadata": {},
     "output_type": "execute_result"
    }
   ],
   "source": [
    "string(1+2)"
   ]
  },
  {
   "cell_type": "code",
   "execution_count": 29,
   "id": "d3758ae6",
   "metadata": {
    "ExecuteTime": {
     "end_time": "2022-06-08T14:48:17.524000+08:00",
     "start_time": "2022-06-08T06:48:14.137Z"
    }
   },
   "outputs": [
    {
     "data": {
      "text/plain": [
       "\"1+2=3\""
      ]
     },
     "execution_count": 29,
     "metadata": {},
     "output_type": "execute_result"
    }
   ],
   "source": [
    "string(\"1+2=\", 1+2)"
   ]
  },
  {
   "cell_type": "markdown",
   "id": "b4e02729",
   "metadata": {},
   "source": [
    "反过来，**为了将字符串中的数字转换成数值型， 用parse()函数**， 如"
   ]
  },
  {
   "cell_type": "code",
   "execution_count": 30,
   "id": "ebe4029a",
   "metadata": {
    "ExecuteTime": {
     "end_time": "2022-06-08T14:48:17.530000+08:00",
     "start_time": "2022-06-08T06:48:14.141Z"
    }
   },
   "outputs": [
    {
     "data": {
      "text/plain": [
       "11.23"
      ]
     },
     "execution_count": 30,
     "metadata": {},
     "output_type": "execute_result"
    }
   ],
   "source": [
    "parse(Float64, \"1.23\") + 10"
   ]
  },
  {
   "cell_type": "markdown",
   "id": "13fa389d",
   "metadata": {},
   "source": [
    "通过多重派发定义各个运算符， 使得Julia的四则运算、比较运算等表达式中可以混合使用布尔型、整型、浮点型数， 参与运算的数据类型自动提升到更一般的数据型。 如"
   ]
  },
  {
   "cell_type": "code",
   "execution_count": 31,
   "id": "e7db85f8",
   "metadata": {
    "ExecuteTime": {
     "end_time": "2022-06-08T14:48:17.542000+08:00",
     "start_time": "2022-06-08T06:48:14.145Z"
    }
   },
   "outputs": [
    {
     "data": {
      "text/plain": [
       "4.0"
      ]
     },
     "execution_count": 31,
     "metadata": {},
     "output_type": "execute_result"
    }
   ],
   "source": [
    "1 + 2*1.5 - false"
   ]
  },
  {
   "cell_type": "code",
   "execution_count": 32,
   "id": "035ddd05",
   "metadata": {
    "ExecuteTime": {
     "end_time": "2022-06-08T14:48:17.546000+08:00",
     "start_time": "2022-06-08T06:48:14.150Z"
    }
   },
   "outputs": [
    {
     "data": {
      "text/plain": [
       "128.0"
      ]
     },
     "execution_count": 32,
     "metadata": {},
     "output_type": "execute_result"
    }
   ],
   "source": [
    "convert(Float64, 128) #将128转为Float64类型"
   ]
  },
  {
   "cell_type": "markdown",
   "id": "27746697",
   "metadata": {},
   "source": [
    "## 类型声明"
   ]
  },
  {
   "cell_type": "markdown",
   "id": "a52c9426",
   "metadata": {},
   "source": [
    "**Julia用$::$表示类型归属**， 此运算符有两个含义：类型验证(assertion)与类型声明。"
   ]
  },
  {
   "cell_type": "markdown",
   "id": "30abb680",
   "metadata": {},
   "source": [
    "### 类型验证"
   ]
  },
  {
   "cell_type": "markdown",
   "id": "9b6c7360",
   "metadata": {},
   "source": [
    "**在变量名和表达式末尾添加::然后可以要求类型验证。 如x::Float64，(x+1)::Int64**。 这样做的理由是\n",
    "\n",
    "作为一个额外的验证确保程序是按照预想的逻辑执行的，\n",
    "给编译器提供类型信息以改善程序效率。\n",
    "::符号的意思是“is instance of”(是某某类的一个实例)， 即左边的表达式是右边的类的一个实例 如果类型是实类型，则左边必须确实是此类型； 如果类型是抽象类型，则左边应该是其子类。 类型声明不成立的时候会发生异常，否则结果是左边的值。\n",
    "\n",
    "例如，"
   ]
  },
  {
   "cell_type": "code",
   "execution_count": 33,
   "id": "b0327980",
   "metadata": {
    "ExecuteTime": {
     "end_time": "2022-06-08T14:48:17.647000+08:00",
     "start_time": "2022-06-08T06:48:14.155Z"
    }
   },
   "outputs": [
    {
     "ename": "LoadError",
     "evalue": "TypeError: in typeassert, expected AbstractFloat, got a value of type Int64",
     "output_type": "error",
     "traceback": [
      "TypeError: in typeassert, expected AbstractFloat, got a value of type Int64",
      "",
      "Stacktrace:",
      " [1] top-level scope",
      "   @ In[33]:1",
      " [2] eval",
      "   @ .\\boot.jl:373 [inlined]",
      " [3] include_string(mapexpr::typeof(REPL.softscope), mod::Module, code::String, filename::String)",
      "   @ Base .\\loading.jl:1196"
     ]
    }
   ],
   "source": [
    "(1+2)::AbstractFloat"
   ]
  },
  {
   "cell_type": "code",
   "execution_count": 34,
   "id": "2a28467d",
   "metadata": {
    "ExecuteTime": {
     "end_time": "2022-06-08T14:48:17.648000+08:00",
     "start_time": "2022-06-08T06:48:14.158Z"
    }
   },
   "outputs": [
    {
     "data": {
      "text/plain": [
       "3"
      ]
     },
     "execution_count": 34,
     "metadata": {},
     "output_type": "execute_result"
    }
   ],
   "source": [
    "(1+2)::Int"
   ]
  },
  {
   "cell_type": "markdown",
   "id": "bf878aa5",
   "metadata": {},
   "source": [
    "**类型验证无误，则验证不起作用**， 结果为表达式的值3。"
   ]
  },
  {
   "cell_type": "markdown",
   "id": "807a798f",
   "metadata": {},
   "source": [
    "### 类型声明"
   ]
  },
  {
   "cell_type": "markdown",
   "id": "65ed0589",
   "metadata": {},
   "source": [
    "局部变量类型声明例如"
   ]
  },
  {
   "cell_type": "code",
   "execution_count": 30,
   "id": "e9eb7d51",
   "metadata": {
    "ExecuteTime": {
     "end_time": "2022-08-24T14:35:36.550000+08:00",
     "start_time": "2022-08-24T06:35:36.547Z"
    }
   },
   "outputs": [
    {
     "data": {
      "text/plain": [
       "Int8"
      ]
     },
     "execution_count": 30,
     "metadata": {},
     "output_type": "execute_result"
    }
   ],
   "source": [
    "function foo1()\n",
    "  local x::Int8\n",
    "  x = 100\n",
    "  x\n",
    "end\n",
    "typeof(foo1())"
   ]
  },
  {
   "cell_type": "code",
   "execution_count": 36,
   "id": "db325cb9",
   "metadata": {
    "ExecuteTime": {
     "end_time": "2022-06-08T14:48:18.209000+08:00",
     "start_time": "2022-06-08T06:48:14.180Z"
    }
   },
   "outputs": [
    {
     "data": {
      "text/plain": [
       "2-element Vector{DataType}:\n",
       " Float64\n",
       " Float64"
      ]
     },
     "execution_count": 36,
     "metadata": {},
     "output_type": "execute_result"
    }
   ],
   "source": [
    "function sqp(x)::Float64\n",
    "    return sqrt(x+1)\n",
    "end\n",
    "[typeof(sqp(0)), typeof(sqp(1))]"
   ]
  },
  {
   "cell_type": "markdown",
   "id": "be30051d",
   "metadata": {},
   "source": [
    "通过对函数返回类型的声明， 不论结果是 1 还是 $\\scriptsize \\sqrt{2}$ ， 结果类型都是Float64。"
   ]
  },
  {
   "cell_type": "markdown",
   "id": "f7756a39",
   "metadata": {},
   "source": [
    "## 抽象类型"
   ]
  },
  {
   "cell_type": "markdown",
   "id": "9c90e76f",
   "metadata": {},
   "source": [
    "**抽象类型不能实例化， 只是作为实类型的父类**， 好处是可以使得函数自变量类型取一类类型。 比如将函数自变量声明为Number， 则输入的值为Int8, Float64等都是允许的。 "
   ]
  },
  {
   "cell_type": "markdown",
   "id": "38cb5e2e",
   "metadata": {},
   "source": [
    "抽象类型包括：Number，Real，AbstractFloat，Integer，Signed，Unsigned  \n",
    "实类型包括：Int8, Int16, Int32, Int64, Int128，UInt8, UInt16, UInt32, UInt64, UInt128，Float16, Float32, Float64"
   ]
  },
  {
   "cell_type": "markdown",
   "id": "86861517",
   "metadata": {},
   "source": [
    "### 类型共用体Union"
   ]
  },
  {
   "cell_type": "code",
   "execution_count": 8,
   "id": "7126001a",
   "metadata": {
    "ExecuteTime": {
     "end_time": "2022-06-09T11:04:29.197000+08:00",
     "start_time": "2022-06-09T03:04:29.118Z"
    }
   },
   "outputs": [
    {
     "data": {
      "text/plain": [
       "Union{Int64, AbstractString}"
      ]
     },
     "execution_count": 8,
     "metadata": {},
     "output_type": "execute_result"
    }
   ],
   "source": [
    "IntorString = Union{Int, AbstractString} #声明一个类型共用体，里面有两种类型构成。"
   ]
  },
  {
   "cell_type": "code",
   "execution_count": 9,
   "id": "309f6afe",
   "metadata": {
    "ExecuteTime": {
     "end_time": "2022-06-09T11:05:32.282000+08:00",
     "start_time": "2022-06-09T03:05:32.280Z"
    }
   },
   "outputs": [
    {
     "data": {
      "text/plain": [
       "123"
      ]
     },
     "execution_count": 9,
     "metadata": {},
     "output_type": "execute_result"
    }
   ],
   "source": [
    "123::IntorString"
   ]
  },
  {
   "cell_type": "code",
   "execution_count": 10,
   "id": "2c226f88",
   "metadata": {
    "ExecuteTime": {
     "end_time": "2022-06-09T11:06:03.389000+08:00",
     "start_time": "2022-06-09T03:06:03.387Z"
    }
   },
   "outputs": [
    {
     "data": {
      "text/plain": [
       "\"abc\""
      ]
     },
     "execution_count": 10,
     "metadata": {},
     "output_type": "execute_result"
    }
   ],
   "source": [
    "\"abc\"::IntorString"
   ]
  },
  {
   "cell_type": "code",
   "execution_count": 11,
   "id": "9e4d74d7",
   "metadata": {
    "ExecuteTime": {
     "end_time": "2022-06-09T11:06:15.725000+08:00",
     "start_time": "2022-06-09T03:06:15.631Z"
    }
   },
   "outputs": [
    {
     "ename": "LoadError",
     "evalue": "TypeError: in typeassert, expected Union{Int64, AbstractString}, got a value of type Float64",
     "output_type": "error",
     "traceback": [
      "TypeError: in typeassert, expected Union{Int64, AbstractString}, got a value of type Float64",
      "",
      "Stacktrace:",
      " [1] top-level scope",
      "   @ In[11]:1",
      " [2] eval",
      "   @ .\\boot.jl:373 [inlined]",
      " [3] include_string(mapexpr::typeof(REPL.softscope), mod::Module, code::String, filename::String)",
      "   @ Base .\\loading.jl:1196"
     ]
    }
   ],
   "source": [
    "12.3::IntorString #12.3不属于这两种类型中的任一个"
   ]
  },
  {
   "cell_type": "code",
   "execution_count": 12,
   "id": "ed0999af",
   "metadata": {
    "ExecuteTime": {
     "end_time": "2022-06-09T11:07:04.296000+08:00",
     "start_time": "2022-06-09T03:07:04.117Z"
    }
   },
   "outputs": [
    {
     "data": {
      "text/plain": [
       "f (generic function with 1 method)"
      ]
     },
     "execution_count": 12,
     "metadata": {},
     "output_type": "execute_result"
    }
   ],
   "source": [
    "f(x::IntorString) = println(x) #函数中声明了x的类型"
   ]
  },
  {
   "cell_type": "code",
   "execution_count": 13,
   "id": "2edd8c1f",
   "metadata": {
    "ExecuteTime": {
     "end_time": "2022-06-09T11:08:07.486000+08:00",
     "start_time": "2022-06-09T03:08:07.439Z"
    }
   },
   "outputs": [
    {
     "name": "stdout",
     "output_type": "stream",
     "text": [
      "123\n"
     ]
    }
   ],
   "source": [
    "f(123)"
   ]
  },
  {
   "cell_type": "code",
   "execution_count": 14,
   "id": "5ea2606f",
   "metadata": {
    "ExecuteTime": {
     "end_time": "2022-06-09T11:08:16.498000+08:00",
     "start_time": "2022-06-09T03:08:16.190Z"
    }
   },
   "outputs": [
    {
     "ename": "LoadError",
     "evalue": "MethodError: no method matching f(::Float64)\n\u001b[0mClosest candidates are:\n\u001b[0m  f(\u001b[91m::Union{Int64, AbstractString}\u001b[39m) at In[12]:1",
     "output_type": "error",
     "traceback": [
      "MethodError: no method matching f(::Float64)\n\u001b[0mClosest candidates are:\n\u001b[0m  f(\u001b[91m::Union{Int64, AbstractString}\u001b[39m) at In[12]:1",
      "",
      "Stacktrace:",
      " [1] top-level scope",
      "   @ In[14]:1",
      " [2] eval",
      "   @ .\\boot.jl:373 [inlined]",
      " [3] include_string(mapexpr::typeof(REPL.softscope), mod::Module, code::String, filename::String)",
      "   @ Base .\\loading.jl:1196"
     ]
    }
   ],
   "source": [
    "f(12.3)"
   ]
  },
  {
   "cell_type": "markdown",
   "id": "3d704d0e",
   "metadata": {},
   "source": [
    "## 初等类型"
   ]
  },
  {
   "cell_type": "markdown",
   "id": "a8835fd4",
   "metadata": {},
   "source": [
    "初等类型就是基础的二进制表示，如整数，浮点数。 Julia允许自定义初等类型，用primitive type命令。 Julia提供的初等类型也是用Julia定义的。 详见Julia手册。"
   ]
  },
  {
   "cell_type": "markdown",
   "id": "703c6eb7",
   "metadata": {},
   "source": [
    "## 复合类型"
   ]
  },
  {
   "cell_type": "markdown",
   "id": "de4ce1f3",
   "metadata": {},
   "source": [
    "**用struct定义的复合类型是不可修改的(immutable)**，这样的好处是\n",
    "\n",
    "更高效。有时可以高效地包装进数组中，有时甚至不需为其分配额外存储空间。\n",
    "不能修改构造器提供的值。\n",
    "不能修改的内容，也使得程序比较简单。\n",
    "如果某个域是可修改类型(mutable)，如数组， 则该域保存的内容还是可以修改的， 这里不可修改是指这样的域不能再绑定到别的对象上。"
   ]
  },
  {
   "cell_type": "code",
   "execution_count": 13,
   "id": "b844da74",
   "metadata": {
    "ExecuteTime": {
     "end_time": "2022-08-24T14:07:05.287000+08:00",
     "start_time": "2022-08-24T06:07:05.278Z"
    }
   },
   "outputs": [
    {
     "data": {
      "text/plain": [
       "Foo"
      ]
     },
     "execution_count": 13,
     "metadata": {},
     "output_type": "execute_result"
    }
   ],
   "source": [
    "struct Foo\n",
    "    x1\n",
    "    x2::Int\n",
    "    x3::Float64\n",
    "end\n",
    "foo = Foo(\"Hello\", 10, 11.9)\n",
    "typeof(foo)"
   ]
  },
  {
   "cell_type": "code",
   "execution_count": 11,
   "id": "4a9771e9",
   "metadata": {
    "ExecuteTime": {
     "end_time": "2022-08-24T14:05:25.194000+08:00",
     "start_time": "2022-08-24T06:05:25.191Z"
    }
   },
   "outputs": [
    {
     "data": {
      "text/plain": [
       "Core.SimpleVector"
      ]
     },
     "execution_count": 11,
     "metadata": {},
     "output_type": "execute_result"
    }
   ],
   "source": [
    "typeof(Foo)"
   ]
  },
  {
   "cell_type": "code",
   "execution_count": 15,
   "id": "347ddc14",
   "metadata": {
    "ExecuteTime": {
     "end_time": "2022-08-24T14:07:21.943000+08:00",
     "start_time": "2022-08-24T06:07:21.941Z"
    }
   },
   "outputs": [
    {
     "data": {
      "text/plain": [
       "Int64"
      ]
     },
     "execution_count": 15,
     "metadata": {},
     "output_type": "execute_result"
    }
   ],
   "source": [
    "typeof(foo.x2)"
   ]
  },
  {
   "cell_type": "code",
   "execution_count": 5,
   "id": "ee852f4e",
   "metadata": {
    "ExecuteTime": {
     "end_time": "2022-06-09T10:58:55.482000+08:00",
     "start_time": "2022-06-09T02:58:55.469Z"
    }
   },
   "outputs": [
    {
     "ename": "LoadError",
     "evalue": "setfield!: immutable struct of type Foo cannot be changed",
     "output_type": "error",
     "traceback": [
      "setfield!: immutable struct of type Foo cannot be changed",
      "",
      "Stacktrace:",
      " [1] setproperty!(x::Foo, f::Symbol, v::Int64)",
      "   @ Base .\\Base.jl:43",
      " [2] top-level scope",
      "   @ In[5]:1",
      " [3] eval",
      "   @ .\\boot.jl:373 [inlined]",
      " [4] include_string(mapexpr::typeof(REPL.softscope), mod::Module, code::String, filename::String)",
      "   @ Base .\\loading.jl:1196"
     ]
    }
   ],
   "source": [
    "foo.x2 = 2"
   ]
  },
  {
   "cell_type": "markdown",
   "id": "b1dafee6",
   "metadata": {},
   "source": [
    "**用mutable struct定义可修改复合类型(Mutable composite types)， 其域的值可以修改**。 这样的数据类型一般在堆上分配内存，有稳定的内存地址。 这是一个容器，不同运行时刻的容器内容可以变化， 但是其地址不变。 另一方面，不可变的类型是与各个域的值紧密联系的， 域的值就决定了对象的一切。\n",
    "\n",
    "在赋值和函数参数传递时不可变类型复制传递， 可变类型按引用传递； 不可变复合类型的域不可修改 （不能绑定到其它值，但是如果域本身是可变类型还是可以修改内容的）。 典型的可变类型是数组， 而元组(tuple)是不可变类型。"
   ]
  },
  {
   "cell_type": "code",
   "execution_count": 25,
   "id": "82f130f7",
   "metadata": {
    "ExecuteTime": {
     "end_time": "2022-08-24T14:22:50.174000+08:00",
     "start_time": "2022-08-24T06:22:50.030Z"
    }
   },
   "outputs": [
    {
     "data": {
      "text/plain": [
       "2"
      ]
     },
     "execution_count": 25,
     "metadata": {},
     "output_type": "execute_result"
    }
   ],
   "source": [
    "mutable struct Foo2\n",
    "    x1\n",
    "    x2::Int\n",
    "    x3::Float64\n",
    "end\n",
    "foo = Foo2(\"Hello\", 10, 11.9)\n",
    "foo.x2 = 2"
   ]
  },
  {
   "cell_type": "markdown",
   "id": "f77185a0",
   "metadata": {},
   "source": [
    "## 参数类型"
   ]
  },
  {
   "cell_type": "markdown",
   "id": "a58389c6",
   "metadata": {},
   "source": [
    "参数类型是类似于C++中模板(template)的类型。 **一个类型可以将其元素的值类型作为类型参数， 一次性地定义一批类型**。 参数类型使得同一算法可以用来处理不同类型的数据。\n",
    "\n",
    "数组(Array)就是参数类型。 Vector{Float64}或Array{Float64,1} 就是元素为Float64的一维数组， 而Vector{String}或Array{String,1} 就是字符串的一维数组。 Array{Float64,2}是元素为Float64的二维数组， 也称为矩阵。 这里Float64, String就是参数类型的类型参数。"
   ]
  },
  {
   "cell_type": "markdown",
   "id": "b825281b",
   "metadata": {},
   "source": [
    "### 复合参数类型"
   ]
  },
  {
   "cell_type": "code",
   "execution_count": 16,
   "id": "a66cdbdd",
   "metadata": {
    "ExecuteTime": {
     "end_time": "2022-06-09T11:34:20.264000+08:00",
     "start_time": "2022-06-09T03:34:20.260Z"
    }
   },
   "outputs": [],
   "source": [
    "#在参数定义时，指定类型T\n",
    "struct Pos{T}\n",
    "    x::T\n",
    "    y::T\n",
    "end         "
   ]
  },
  {
   "cell_type": "code",
   "execution_count": 17,
   "id": "0fc4764f",
   "metadata": {
    "ExecuteTime": {
     "end_time": "2022-06-09T11:35:59.825000+08:00",
     "start_time": "2022-06-09T03:35:59.579Z"
    }
   },
   "outputs": [
    {
     "data": {
      "text/plain": [
       "(1.1, 2.1)"
      ]
     },
     "execution_count": 17,
     "metadata": {},
     "output_type": "execute_result"
    }
   ],
   "source": [
    "a = Pos{Int64}(1, 2)\n",
    "b = Pos{Float64}(1.1, 2.1)\n",
    "c = (1, 2)\n",
    "d = (1.1, 2.1)\n",
    "e = (1, 2.1)"
   ]
  },
  {
   "cell_type": "code",
   "execution_count": 18,
   "id": "4234042c",
   "metadata": {
    "ExecuteTime": {
     "end_time": "2022-06-09T11:36:21.972000+08:00",
     "start_time": "2022-06-09T03:36:21.969Z"
    }
   },
   "outputs": [
    {
     "data": {
      "text/plain": [
       "Tuple{Int64, Int64}"
      ]
     },
     "execution_count": 18,
     "metadata": {},
     "output_type": "execute_result"
    }
   ],
   "source": [
    "typeof(c)"
   ]
  },
  {
   "cell_type": "code",
   "execution_count": 19,
   "id": "c0e8c4d6",
   "metadata": {
    "ExecuteTime": {
     "end_time": "2022-06-09T11:36:35.232000+08:00",
     "start_time": "2022-06-09T03:36:35.230Z"
    }
   },
   "outputs": [
    {
     "data": {
      "text/plain": [
       "Tuple{Float64, Float64}"
      ]
     },
     "execution_count": 19,
     "metadata": {},
     "output_type": "execute_result"
    }
   ],
   "source": [
    "typeof(d)"
   ]
  },
  {
   "cell_type": "code",
   "execution_count": 22,
   "id": "29abbbde",
   "metadata": {
    "ExecuteTime": {
     "end_time": "2022-06-09T11:37:34.033000+08:00",
     "start_time": "2022-06-09T03:37:34.031Z"
    }
   },
   "outputs": [
    {
     "data": {
      "text/plain": [
       "Tuple{Int64, Float64}"
      ]
     },
     "execution_count": 22,
     "metadata": {},
     "output_type": "execute_result"
    }
   ],
   "source": [
    "typeof(e)"
   ]
  },
  {
   "cell_type": "markdown",
   "id": "9de606ac",
   "metadata": {},
   "source": [
    "每个实例都是Pos的子类型。"
   ]
  },
  {
   "cell_type": "code",
   "execution_count": 23,
   "id": "158d412d",
   "metadata": {
    "ExecuteTime": {
     "end_time": "2022-06-09T11:39:42.583000+08:00",
     "start_time": "2022-06-09T03:39:42.400Z"
    }
   },
   "outputs": [
    {
     "data": {
      "text/plain": [
       "true"
      ]
     },
     "execution_count": 23,
     "metadata": {},
     "output_type": "execute_result"
    }
   ],
   "source": [
    "Pos{Float64} <: Pos"
   ]
  },
  {
   "cell_type": "markdown",
   "id": "d9b269b4",
   "metadata": {},
   "source": [
    "但不同的T声明的具体类型之间不能互为子类型。"
   ]
  },
  {
   "cell_type": "code",
   "execution_count": 24,
   "id": "f80b6580",
   "metadata": {
    "ExecuteTime": {
     "end_time": "2022-06-09T11:41:39.722000+08:00",
     "start_time": "2022-06-09T03:41:39.720Z"
    }
   },
   "outputs": [
    {
     "data": {
      "text/plain": [
       "false"
      ]
     },
     "execution_count": 24,
     "metadata": {},
     "output_type": "execute_result"
    }
   ],
   "source": [
    "Pos{Float64} <: Pos{Real} #虽然Float64 <: Real，但Pos{Float64} <: Pos{Real}不行"
   ]
  },
  {
   "cell_type": "markdown",
   "id": "3ed05058",
   "metadata": {},
   "source": [
    "### 抽象参数类型"
   ]
  },
  {
   "cell_type": "markdown",
   "id": "c67fd594",
   "metadata": {},
   "source": [
    "由抽象类型而来，就是给抽象类型加了个参数"
   ]
  },
  {
   "cell_type": "code",
   "execution_count": 25,
   "id": "91d0d032",
   "metadata": {
    "ExecuteTime": {
     "end_time": "2022-06-09T13:41:30.643000+08:00",
     "start_time": "2022-06-09T05:41:30.641Z"
    }
   },
   "outputs": [],
   "source": [
    "abstract type Pointy{T} end"
   ]
  },
  {
   "cell_type": "code",
   "execution_count": 26,
   "id": "c281c448",
   "metadata": {
    "ExecuteTime": {
     "end_time": "2022-06-09T13:42:01.568000+08:00",
     "start_time": "2022-06-09T05:42:01.566Z"
    }
   },
   "outputs": [
    {
     "data": {
      "text/plain": [
       "true"
      ]
     },
     "execution_count": 26,
     "metadata": {},
     "output_type": "execute_result"
    }
   ],
   "source": [
    "Pointy{Int64} <: Pointy"
   ]
  },
  {
   "cell_type": "code",
   "execution_count": 28,
   "id": "e35e9257",
   "metadata": {
    "ExecuteTime": {
     "end_time": "2022-06-09T13:42:56.261000+08:00",
     "start_time": "2022-06-09T05:42:56.260Z"
    }
   },
   "outputs": [
    {
     "data": {
      "text/plain": [
       "false"
      ]
     },
     "execution_count": 28,
     "metadata": {},
     "output_type": "execute_result"
    }
   ],
   "source": [
    "Pointy{Int64} <: Pointy{Real} #不同T之间不能互为类型"
   ]
  },
  {
   "cell_type": "markdown",
   "id": "f022b9dc",
   "metadata": {},
   "source": [
    "### 原始参数类型"
   ]
  },
  {
   "cell_type": "markdown",
   "id": "c7fea829",
   "metadata": {},
   "source": [
    "由原始类型而来，就是给原始类型加了个参数"
   ]
  },
  {
   "cell_type": "code",
   "execution_count": 32,
   "id": "d7f15e3e",
   "metadata": {
    "ExecuteTime": {
     "end_time": "2022-06-09T13:45:46.697000+08:00",
     "start_time": "2022-06-09T05:45:46.695Z"
    }
   },
   "outputs": [],
   "source": [
    "primitive type Pri{T} 64 end"
   ]
  },
  {
   "cell_type": "code",
   "execution_count": 33,
   "id": "2e8dcd65",
   "metadata": {
    "ExecuteTime": {
     "end_time": "2022-06-09T13:46:13.093000+08:00",
     "start_time": "2022-06-09T05:46:13.090Z"
    }
   },
   "outputs": [
    {
     "data": {
      "text/plain": [
       "true"
      ]
     },
     "execution_count": 33,
     "metadata": {},
     "output_type": "execute_result"
    }
   ],
   "source": [
    "Pri{Float64} <: Pri"
   ]
  },
  {
   "cell_type": "markdown",
   "id": "3cb35bf6",
   "metadata": {},
   "source": [
    "### 元组类型"
   ]
  },
  {
   "cell_type": "code",
   "execution_count": 34,
   "id": "eea3118a",
   "metadata": {
    "ExecuteTime": {
     "end_time": "2022-06-09T13:49:15.389000+08:00",
     "start_time": "2022-06-09T05:49:15.155Z"
    }
   },
   "outputs": [
    {
     "data": {
      "text/plain": [
       "(1, 2, 3)"
      ]
     },
     "execution_count": 34,
     "metadata": {},
     "output_type": "execute_result"
    }
   ],
   "source": [
    "t = tuple(1,2,3)"
   ]
  },
  {
   "cell_type": "markdown",
   "id": "2c7c0beb",
   "metadata": {},
   "source": [
    "## UnionAll类型"
   ]
  },
  {
   "cell_type": "markdown",
   "id": "6a1b1fe5",
   "metadata": {},
   "source": [
    "UnionAll是某些参数的所有值的类型的迭代并集，通常使用关键字**where**编写。"
   ]
  },
  {
   "cell_type": "code",
   "execution_count": 64,
   "id": "4dd7410f",
   "metadata": {
    "ExecuteTime": {
     "end_time": "2022-06-09T14:26:58.477000+08:00",
     "start_time": "2022-06-09T06:26:58.467Z"
    }
   },
   "outputs": [
    {
     "data": {
      "text/plain": [
       "Pos{Int64}(1, 2)"
      ]
     },
     "execution_count": 64,
     "metadata": {},
     "output_type": "execute_result"
    }
   ],
   "source": [
    "struct Pos{T}\n",
    "    x::T\n",
    "    y::T\n",
    "end   \n",
    "\n",
    "function f1(p::Pos{T} where T<:Real)\n",
    "    p\n",
    "end\n",
    "\n",
    "f1(Pos{Int64}(1,2))"
   ]
  },
  {
   "cell_type": "markdown",
   "id": "ea4fc85c",
   "metadata": {},
   "source": [
    "当有两个类型参数时"
   ]
  },
  {
   "cell_type": "code",
   "execution_count": 65,
   "id": "20153e69",
   "metadata": {
    "ExecuteTime": {
     "end_time": "2022-06-09T14:27:00.454000+08:00",
     "start_time": "2022-06-09T06:27:00.443Z"
    }
   },
   "outputs": [
    {
     "data": {
      "text/plain": [
       "Pos2{Int64, Float64}(1, 1.1)"
      ]
     },
     "execution_count": 65,
     "metadata": {},
     "output_type": "execute_result"
    }
   ],
   "source": [
    "struct Pos2{T1, T2}\n",
    "    x::T1\n",
    "    y::T2\n",
    "end   \n",
    "\n",
    "function f2(p::Pos2{T1, T2} where T1<:Int64 where T2<:Float64)\n",
    "    p\n",
    "end\n",
    "\n",
    "f2(Pos2{Int64, Float64}(1, 1.1))"
   ]
  },
  {
   "cell_type": "markdown",
   "id": "0fe6d05d",
   "metadata": {},
   "source": [
    "where还可以限定上下界"
   ]
  },
  {
   "cell_type": "code",
   "execution_count": 69,
   "id": "90253feb",
   "metadata": {
    "ExecuteTime": {
     "end_time": "2022-06-09T14:29:18.758000+08:00",
     "start_time": "2022-06-09T06:29:18.752Z"
    }
   },
   "outputs": [
    {
     "data": {
      "text/plain": [
       "Pos{Int64}(1, 2)"
      ]
     },
     "execution_count": 69,
     "metadata": {},
     "output_type": "execute_result"
    }
   ],
   "source": [
    "function f3(p::Pos{T} where Int64 <: T <:Real)\n",
    "    p\n",
    "end\n",
    "\n",
    "f3(Pos{Int64}(1,2))"
   ]
  },
  {
   "cell_type": "markdown",
   "id": "a3013752",
   "metadata": {},
   "source": [
    "# 方法"
   ]
  },
  {
   "cell_type": "markdown",
   "id": "6cb5c35c",
   "metadata": {},
   "source": [
    "**Julia的函数可以通过给自变量声明类型实现高效代码， 同时也可以使得程序意图更明显。 同一个函数可以有不同类型的自变量， 这其实是多个函数共用同一个函数名， 称这些函数为该函数名的“方法”（methods)**。 用类似于C++模板的方法可以将函数自变量类型参数化， 这样同一算法可以适用于多个自变量类型。\n",
    "\n",
    "这部分技术比较复杂， 不恰当地应用可以造成程序错误， 初学者可以暂时忽略， 自定义函数时先不声明自变量类型。 等发现某个函数造成了运行效率瓶颈， 或者Julia语言已经运用比较纯熟时， 再改进原来的函数， 使其对具体的不同自变量类型有不同的实现。"
   ]
  },
  {
   "cell_type": "code",
   "execution_count": 1,
   "id": "b0564e5b",
   "metadata": {
    "ExecuteTime": {
     "end_time": "2022-06-09T10:18:16.722000+08:00",
     "start_time": "2022-06-09T02:18:15.583Z"
    }
   },
   "outputs": [
    {
     "data": {
      "text/html": [
       "# 208 methods for generic function <b>+</b>:<ul><li> +(x::<b>T</b>, y::<b>T</b>)<i> where T<:Union{Int128, Int16, Int32, Int64, Int8, UInt128, UInt16, UInt32, UInt64, UInt8}</i> in Base at <a href=\"https://github.com/JuliaLang/julia/tree/ac5cc99908d463582e66db3368b9b48fae1e2525/base/int.jl#L87\" target=\"_blank\">int.jl:87</a></li> <li> +(c::<b>Union{UInt16, UInt32, UInt8}</b>, x::<b>BigInt</b>) in Base.GMP at <a href=\"https://github.com/JuliaLang/julia/tree/ac5cc99908d463582e66db3368b9b48fae1e2525/base/gmp.jl#L529\" target=\"_blank\">gmp.jl:529</a></li> <li> +(c::<b>Union{Int16, Int32, Int8}</b>, x::<b>BigInt</b>) in Base.GMP at <a href=\"https://github.com/JuliaLang/julia/tree/ac5cc99908d463582e66db3368b9b48fae1e2525/base/gmp.jl#L535\" target=\"_blank\">gmp.jl:535</a></li> <li> +(c::<b>Union{UInt16, UInt32, UInt8}</b>, x::<b>BigFloat</b>) in Base.MPFR at <a href=\"https://github.com/JuliaLang/julia/tree/ac5cc99908d463582e66db3368b9b48fae1e2525/base/mpfr.jl#L390\" target=\"_blank\">mpfr.jl:390</a></li> <li> +(c::<b>Union{Int16, Int32, Int8}</b>, x::<b>BigFloat</b>) in Base.MPFR at <a href=\"https://github.com/JuliaLang/julia/tree/ac5cc99908d463582e66db3368b9b48fae1e2525/base/mpfr.jl#L398\" target=\"_blank\">mpfr.jl:398</a></li> <li> +(c::<b>Union{Float16, Float32, Float64}</b>, x::<b>BigFloat</b>) in Base.MPFR at <a href=\"https://github.com/JuliaLang/julia/tree/ac5cc99908d463582e66db3368b9b48fae1e2525/base/mpfr.jl#L406\" target=\"_blank\">mpfr.jl:406</a></li> <li> +(x::<b>Union{Dates.CompoundPeriod, Dates.Period}</b>) in Dates at <a href=\"file://C:/buildbot/worker/package_win64/build/usr/share/julia/stdlib/v1.7/Dates/src/periods.jl\" target=\"_blank\">C:\\Program Files\\MWorks.Syslab 2022\\Tools\\julia-1.7.1\\share\\julia\\stdlib\\v1.7\\Dates\\src\\periods.jl:372</a></li> <li> +(A::<b>LinearAlgebra.Tridiagonal</b>, B::<b>LinearAlgebra.Tridiagonal</b>) in LinearAlgebra at <a href=\"file://C:/buildbot/worker/package_win64/build/usr/share/julia/stdlib/v1.7/LinearAlgebra/src/tridiag.jl\" target=\"_blank\">C:\\Program Files\\MWorks.Syslab 2022\\Tools\\julia-1.7.1\\share\\julia\\stdlib\\v1.7\\LinearAlgebra\\src\\tridiag.jl:740</a></li> <li> +(x::<b>LinearAlgebra.Tridiagonal</b>, H::<b>LinearAlgebra.UpperHessenberg</b>) in LinearAlgebra at <a href=\"file://C:/buildbot/worker/package_win64/build/usr/share/julia/stdlib/v1.7/LinearAlgebra/src/hessenberg.jl\" target=\"_blank\">C:\\Program Files\\MWorks.Syslab 2022\\Tools\\julia-1.7.1\\share\\julia\\stdlib\\v1.7\\LinearAlgebra\\src\\hessenberg.jl:107</a></li> <li> +(A::<b>LinearAlgebra.Tridiagonal</b>, B::<b>LinearAlgebra.SymTridiagonal</b>) in LinearAlgebra at <a href=\"file://C:/buildbot/worker/package_win64/build/usr/share/julia/stdlib/v1.7/LinearAlgebra/src/special.jl\" target=\"_blank\">C:\\Program Files\\MWorks.Syslab 2022\\Tools\\julia-1.7.1\\share\\julia\\stdlib\\v1.7\\LinearAlgebra\\src\\special.jl:157</a></li> <li> +(A::<b>LinearAlgebra.Tridiagonal</b>, B::<b>LinearAlgebra.Diagonal</b>) in LinearAlgebra at <a href=\"file://C:/buildbot/worker/package_win64/build/usr/share/julia/stdlib/v1.7/LinearAlgebra/src/special.jl\" target=\"_blank\">C:\\Program Files\\MWorks.Syslab 2022\\Tools\\julia-1.7.1\\share\\julia\\stdlib\\v1.7\\LinearAlgebra\\src\\special.jl:173</a></li> <li> +(A::<b>LinearAlgebra.Tridiagonal</b>, B::<b>LinearAlgebra.Bidiagonal</b>) in LinearAlgebra at <a href=\"file://C:/buildbot/worker/package_win64/build/usr/share/julia/stdlib/v1.7/LinearAlgebra/src/special.jl\" target=\"_blank\">C:\\Program Files\\MWorks.Syslab 2022\\Tools\\julia-1.7.1\\share\\julia\\stdlib\\v1.7\\LinearAlgebra\\src\\special.jl:193</a></li> <li> +(A::<b>LinearAlgebra.Tridiagonal{var\"#s859\", V} where {var\"#s859\"<:Number, V<:AbstractVector{var\"#s859\"}}</b>, B::<b>LinearAlgebra.UniformScaling</b>) in LinearAlgebra at <a href=\"file://C:/buildbot/worker/package_win64/build/usr/share/julia/stdlib/v1.7/LinearAlgebra/src/special.jl\" target=\"_blank\">C:\\Program Files\\MWorks.Syslab 2022\\Tools\\julia-1.7.1\\share\\julia\\stdlib\\v1.7\\LinearAlgebra\\src\\special.jl:226</a></li> <li> +(z::<b>Complex</b>, w::<b>Complex</b>) in Base at <a href=\"https://github.com/JuliaLang/julia/tree/ac5cc99908d463582e66db3368b9b48fae1e2525/base/complex.jl#L288\" target=\"_blank\">complex.jl:288</a></li> <li> +(A::<b>SparseArrays.AbstractSparseMatrixCSC</b>, B::<b>SparseArrays.AbstractSparseMatrixCSC</b>) in SparseArrays at <a href=\"file://C:/buildbot/worker/package_win64/build/usr/share/julia/stdlib/v1.7/SparseArrays/src/sparsematrix.jl\" target=\"_blank\">C:\\Program Files\\MWorks.Syslab 2022\\Tools\\julia-1.7.1\\share\\julia\\stdlib\\v1.7\\SparseArrays\\src\\sparsematrix.jl:1771</a></li> <li> +(A::<b>SparseArrays.AbstractSparseMatrixCSC</b>, B::<b>Array</b>) in SparseArrays at <a href=\"file://C:/buildbot/worker/package_win64/build/usr/share/julia/stdlib/v1.7/SparseArrays/src/sparsematrix.jl\" target=\"_blank\">C:\\Program Files\\MWorks.Syslab 2022\\Tools\\julia-1.7.1\\share\\julia\\stdlib\\v1.7\\SparseArrays\\src\\sparsematrix.jl:1774</a></li> <li> +(A::<b>SparseArrays.AbstractSparseMatrixCSC</b>, J::<b>LinearAlgebra.UniformScaling</b>) in SparseArrays at <a href=\"file://C:/buildbot/worker/package_win64/build/usr/share/julia/stdlib/v1.7/SparseArrays/src/sparsematrix.jl\" target=\"_blank\">C:\\Program Files\\MWorks.Syslab 2022\\Tools\\julia-1.7.1\\share\\julia\\stdlib\\v1.7\\SparseArrays\\src\\sparsematrix.jl:3760</a></li> <li> +(F::<b>LinearAlgebra.Hessenberg</b>, J::<b>LinearAlgebra.UniformScaling</b>) in LinearAlgebra at <a href=\"file://C:/buildbot/worker/package_win64/build/usr/share/julia/stdlib/v1.7/LinearAlgebra/src/hessenberg.jl\" target=\"_blank\">C:\\Program Files\\MWorks.Syslab 2022\\Tools\\julia-1.7.1\\share\\julia\\stdlib\\v1.7\\LinearAlgebra\\src\\hessenberg.jl:640</a></li> <li> +(Da::<b>LinearAlgebra.Diagonal</b>, Db::<b>LinearAlgebra.Diagonal</b>) in LinearAlgebra at <a href=\"file://C:/buildbot/worker/package_win64/build/usr/share/julia/stdlib/v1.7/LinearAlgebra/src/diagonal.jl\" target=\"_blank\">C:\\Program Files\\MWorks.Syslab 2022\\Tools\\julia-1.7.1\\share\\julia\\stdlib\\v1.7\\LinearAlgebra\\src\\diagonal.jl:172</a></li> <li> +(D::<b>LinearAlgebra.Diagonal</b>, S::<b>LinearAlgebra.Symmetric</b>) in LinearAlgebra at <a href=\"file://C:/buildbot/worker/package_win64/build/usr/share/julia/stdlib/v1.7/LinearAlgebra/src/diagonal.jl\" target=\"_blank\">C:\\Program Files\\MWorks.Syslab 2022\\Tools\\julia-1.7.1\\share\\julia\\stdlib\\v1.7\\LinearAlgebra\\src\\diagonal.jl:176</a></li> <li> +(D::<b>LinearAlgebra.Diagonal{var\"#s859\", V} where {var\"#s859\"<:Real, V<:AbstractVector{var\"#s859\"}}</b>, H::<b>LinearAlgebra.Hermitian</b>) in LinearAlgebra at <a href=\"file://C:/buildbot/worker/package_win64/build/usr/share/julia/stdlib/v1.7/LinearAlgebra/src/diagonal.jl\" target=\"_blank\">C:\\Program Files\\MWorks.Syslab 2022\\Tools\\julia-1.7.1\\share\\julia\\stdlib\\v1.7\\LinearAlgebra\\src\\diagonal.jl:182</a></li> <li> +(x::<b>LinearAlgebra.Diagonal</b>, H::<b>LinearAlgebra.UpperHessenberg</b>) in LinearAlgebra at <a href=\"file://C:/buildbot/worker/package_win64/build/usr/share/julia/stdlib/v1.7/LinearAlgebra/src/hessenberg.jl\" target=\"_blank\">C:\\Program Files\\MWorks.Syslab 2022\\Tools\\julia-1.7.1\\share\\julia\\stdlib\\v1.7\\LinearAlgebra\\src\\hessenberg.jl:107</a></li> <li> +(A::<b>LinearAlgebra.Diagonal</b>, B::<b>LinearAlgebra.Bidiagonal</b>) in LinearAlgebra at <a href=\"file://C:/buildbot/worker/package_win64/build/usr/share/julia/stdlib/v1.7/LinearAlgebra/src/special.jl\" target=\"_blank\">C:\\Program Files\\MWorks.Syslab 2022\\Tools\\julia-1.7.1\\share\\julia\\stdlib\\v1.7\\LinearAlgebra\\src\\special.jl:125</a></li> <li> +(A::<b>LinearAlgebra.Diagonal</b>, B::<b>LinearAlgebra.SymTridiagonal</b>) in LinearAlgebra at <a href=\"file://C:/buildbot/worker/package_win64/build/usr/share/julia/stdlib/v1.7/LinearAlgebra/src/special.jl\" target=\"_blank\">C:\\Program Files\\MWorks.Syslab 2022\\Tools\\julia-1.7.1\\share\\julia\\stdlib\\v1.7\\LinearAlgebra\\src\\special.jl:135</a></li> <li> +(A::<b>LinearAlgebra.Diagonal</b>, B::<b>LinearAlgebra.Tridiagonal</b>) in LinearAlgebra at <a href=\"file://C:/buildbot/worker/package_win64/build/usr/share/julia/stdlib/v1.7/LinearAlgebra/src/special.jl\" target=\"_blank\">C:\\Program Files\\MWorks.Syslab 2022\\Tools\\julia-1.7.1\\share\\julia\\stdlib\\v1.7\\LinearAlgebra\\src\\special.jl:163</a></li> <li> +(A::<b>LinearAlgebra.Diagonal{var\"#s859\", V} where {var\"#s859\"<:Number, V<:AbstractVector{var\"#s859\"}}</b>, B::<b>LinearAlgebra.UniformScaling</b>) in LinearAlgebra at <a href=\"file://C:/buildbot/worker/package_win64/build/usr/share/julia/stdlib/v1.7/LinearAlgebra/src/special.jl\" target=\"_blank\">C:\\Program Files\\MWorks.Syslab 2022\\Tools\\julia-1.7.1\\share\\julia\\stdlib\\v1.7\\LinearAlgebra\\src\\special.jl:241</a></li> <li> +(x::<b>P</b>, y::<b>P</b>)<i> where P<:Dates.Period</i> in Dates at <a href=\"file://C:/buildbot/worker/package_win64/build/usr/share/julia/stdlib/v1.7/Dates/src/periods.jl\" target=\"_blank\">C:\\Program Files\\MWorks.Syslab 2022\\Tools\\julia-1.7.1\\share\\julia\\stdlib\\v1.7\\Dates\\src\\periods.jl:79</a></li> <li> +(x::<b>Dates.Period</b>, y::<b>Dates.Period</b>) in Dates at <a href=\"file://C:/buildbot/worker/package_win64/build/usr/share/julia/stdlib/v1.7/Dates/src/periods.jl\" target=\"_blank\">C:\\Program Files\\MWorks.Syslab 2022\\Tools\\julia-1.7.1\\share\\julia\\stdlib\\v1.7\\Dates\\src\\periods.jl:361</a></li> <li> +(y::<b>Dates.Period</b>, x::<b>Dates.CompoundPeriod</b>) in Dates at <a href=\"file://C:/buildbot/worker/package_win64/build/usr/share/julia/stdlib/v1.7/Dates/src/periods.jl\" target=\"_blank\">C:\\Program Files\\MWorks.Syslab 2022\\Tools\\julia-1.7.1\\share\\julia\\stdlib\\v1.7\\Dates\\src\\periods.jl:363</a></li> <li> +(y::<b>Dates.Period</b>, x::<b>Dates.TimeType</b>) in Dates at <a href=\"file://C:/buildbot/worker/package_win64/build/usr/share/julia/stdlib/v1.7/Dates/src/arithmetic.jl\" target=\"_blank\">C:\\Program Files\\MWorks.Syslab 2022\\Tools\\julia-1.7.1\\share\\julia\\stdlib\\v1.7\\Dates\\src\\arithmetic.jl:85</a></li> <li> +(x::<b>Dates.Period</b>, r::<b>AbstractRange{<:Dates.TimeType}</b>) in Dates at <a href=\"file://C:/buildbot/worker/package_win64/build/usr/share/julia/stdlib/v1.7/Dates/src/ranges.jl\" target=\"_blank\">C:\\Program Files\\MWorks.Syslab 2022\\Tools\\julia-1.7.1\\share\\julia\\stdlib\\v1.7\\Dates\\src\\ranges.jl:62</a></li> <li> +(y::<b>Union{Dates.CompoundPeriod, Dates.Period}</b>, x::<b>AbstractArray{<:Dates.TimeType}</b>) in Dates at <a href=\"file://C:/buildbot/worker/package_win64/build/usr/share/julia/stdlib/v1.7/Dates/src/deprecated.jl\" target=\"_blank\">C:\\Program Files\\MWorks.Syslab 2022\\Tools\\julia-1.7.1\\share\\julia\\stdlib\\v1.7\\Dates\\src\\deprecated.jl:14</a></li> <li> +(A::<b>LinearAlgebra.SymTridiagonal</b>, B::<b>LinearAlgebra.SymTridiagonal</b>) in LinearAlgebra at <a href=\"file://C:/buildbot/worker/package_win64/build/usr/share/julia/stdlib/v1.7/LinearAlgebra/src/tridiag.jl\" target=\"_blank\">C:\\Program Files\\MWorks.Syslab 2022\\Tools\\julia-1.7.1\\share\\julia\\stdlib\\v1.7\\LinearAlgebra\\src\\tridiag.jl:208</a></li> <li> +(A::<b>LinearAlgebra.SymTridiagonal</b>, B::<b>LinearAlgebra.Symmetric</b>) in LinearAlgebra at <a href=\"file://C:/buildbot/worker/package_win64/build/usr/share/julia/stdlib/v1.7/LinearAlgebra/src/symmetric.jl\" target=\"_blank\">C:\\Program Files\\MWorks.Syslab 2022\\Tools\\julia-1.7.1\\share\\julia\\stdlib\\v1.7\\LinearAlgebra\\src\\symmetric.jl:485</a></li> <li> +(A::<b>LinearAlgebra.SymTridiagonal{var\"#s857\", V} where {var\"#s857\"<:Real, V<:AbstractVector{var\"#s857\"}}</b>, B::<b>LinearAlgebra.Hermitian</b>) in LinearAlgebra at <a href=\"file://C:/buildbot/worker/package_win64/build/usr/share/julia/stdlib/v1.7/LinearAlgebra/src/symmetric.jl\" target=\"_blank\">C:\\Program Files\\MWorks.Syslab 2022\\Tools\\julia-1.7.1\\share\\julia\\stdlib\\v1.7\\LinearAlgebra\\src\\symmetric.jl:487</a></li> <li> +(x::<b>LinearAlgebra.SymTridiagonal</b>, H::<b>LinearAlgebra.UpperHessenberg</b>) in LinearAlgebra at <a href=\"file://C:/buildbot/worker/package_win64/build/usr/share/julia/stdlib/v1.7/LinearAlgebra/src/hessenberg.jl\" target=\"_blank\">C:\\Program Files\\MWorks.Syslab 2022\\Tools\\julia-1.7.1\\share\\julia\\stdlib\\v1.7\\LinearAlgebra\\src\\hessenberg.jl:107</a></li> <li> +(A::<b>LinearAlgebra.SymTridiagonal</b>, B::<b>LinearAlgebra.Diagonal</b>) in LinearAlgebra at <a href=\"file://C:/buildbot/worker/package_win64/build/usr/share/julia/stdlib/v1.7/LinearAlgebra/src/special.jl\" target=\"_blank\">C:\\Program Files\\MWorks.Syslab 2022\\Tools\\julia-1.7.1\\share\\julia\\stdlib\\v1.7\\LinearAlgebra\\src\\special.jl:145</a></li> <li> +(A::<b>LinearAlgebra.SymTridiagonal</b>, B::<b>LinearAlgebra.Tridiagonal</b>) in LinearAlgebra at <a href=\"file://C:/buildbot/worker/package_win64/build/usr/share/julia/stdlib/v1.7/LinearAlgebra/src/special.jl\" target=\"_blank\">C:\\Program Files\\MWorks.Syslab 2022\\Tools\\julia-1.7.1\\share\\julia\\stdlib\\v1.7\\LinearAlgebra\\src\\special.jl:159</a></li> <li> +(A::<b>LinearAlgebra.SymTridiagonal</b>, B::<b>LinearAlgebra.Bidiagonal</b>) in LinearAlgebra at <a href=\"file://C:/buildbot/worker/package_win64/build/usr/share/julia/stdlib/v1.7/LinearAlgebra/src/special.jl\" target=\"_blank\">C:\\Program Files\\MWorks.Syslab 2022\\Tools\\julia-1.7.1\\share\\julia\\stdlib\\v1.7\\LinearAlgebra\\src\\special.jl:213</a></li> <li> +(A::<b>LinearAlgebra.SymTridiagonal{var\"#s859\", V} where {var\"#s859\"<:Number, V<:AbstractVector{var\"#s859\"}}</b>, B::<b>LinearAlgebra.UniformScaling</b>) in LinearAlgebra at <a href=\"file://C:/buildbot/worker/package_win64/build/usr/share/julia/stdlib/v1.7/LinearAlgebra/src/special.jl\" target=\"_blank\">C:\\Program Files\\MWorks.Syslab 2022\\Tools\\julia-1.7.1\\share\\julia\\stdlib\\v1.7\\LinearAlgebra\\src\\special.jl:231</a></li> <li> +(x::<b>Rational</b>, y::<b>Integer</b>) in Base at <a href=\"https://github.com/JuliaLang/julia/tree/ac5cc99908d463582e66db3368b9b48fae1e2525/base/rational.jl#L311\" target=\"_blank\">rational.jl:311</a></li> <li> +(x::<b>Dates.Instant</b>) in Dates at <a href=\"file://C:/buildbot/worker/package_win64/build/usr/share/julia/stdlib/v1.7/Dates/src/arithmetic.jl\" target=\"_blank\">C:\\Program Files\\MWorks.Syslab 2022\\Tools\\julia-1.7.1\\share\\julia\\stdlib\\v1.7\\Dates\\src\\arithmetic.jl:4</a></li> <li> +(A::<b>LinearAlgebra.UnitUpperTriangular</b>, B::<b>LinearAlgebra.UpperTriangular</b>) in LinearAlgebra at <a href=\"file://C:/buildbot/worker/package_win64/build/usr/share/julia/stdlib/v1.7/LinearAlgebra/src/triangular.jl\" target=\"_blank\">C:\\Program Files\\MWorks.Syslab 2022\\Tools\\julia-1.7.1\\share\\julia\\stdlib\\v1.7\\LinearAlgebra\\src\\triangular.jl:640</a></li> <li> +(A::<b>LinearAlgebra.UnitUpperTriangular</b>, B::<b>LinearAlgebra.UnitUpperTriangular</b>) in LinearAlgebra at <a href=\"file://C:/buildbot/worker/package_win64/build/usr/share/julia/stdlib/v1.7/LinearAlgebra/src/triangular.jl\" target=\"_blank\">C:\\Program Files\\MWorks.Syslab 2022\\Tools\\julia-1.7.1\\share\\julia\\stdlib\\v1.7\\LinearAlgebra\\src\\triangular.jl:642</a></li> <li> +(UL::<b>LinearAlgebra.UnitUpperTriangular</b>, J::<b>LinearAlgebra.UniformScaling</b>) in LinearAlgebra at <a href=\"file://C:/buildbot/worker/package_win64/build/usr/share/julia/stdlib/v1.7/LinearAlgebra/src/uniformscaling.jl\" target=\"_blank\">C:\\Program Files\\MWorks.Syslab 2022\\Tools\\julia-1.7.1\\share\\julia\\stdlib\\v1.7\\LinearAlgebra\\src\\uniformscaling.jl:182</a></li> <li> +(x::<b>LinearAlgebra.UnitUpperTriangular</b>, H::<b>LinearAlgebra.UpperHessenberg</b>) in LinearAlgebra at <a href=\"file://C:/buildbot/worker/package_win64/build/usr/share/julia/stdlib/v1.7/LinearAlgebra/src/hessenberg.jl\" target=\"_blank\">C:\\Program Files\\MWorks.Syslab 2022\\Tools\\julia-1.7.1\\share\\julia\\stdlib\\v1.7\\LinearAlgebra\\src\\hessenberg.jl:107</a></li> <li> +(A::<b>LinearAlgebra.UnitUpperTriangular</b>, B::<b>LinearAlgebra.Bidiagonal</b>) in LinearAlgebra at <a href=\"file://C:/buildbot/worker/package_win64/build/usr/share/julia/stdlib/v1.7/LinearAlgebra/src/special.jl\" target=\"_blank\">C:\\Program Files\\MWorks.Syslab 2022\\Tools\\julia-1.7.1\\share\\julia\\stdlib\\v1.7\\LinearAlgebra\\src\\special.jl:86</a></li> <li> +(x::<b>AbstractIrrational</b>, y::<b>AbstractIrrational</b>) in Base at <a href=\"https://github.com/JuliaLang/julia/tree/ac5cc99908d463582e66db3368b9b48fae1e2525/base/irrationals.jl#L158\" target=\"_blank\">irrationals.jl:158</a></li> <li> +(A::<b>LinearAlgebra.Hermitian</b>, B::<b>LinearAlgebra.Hermitian</b>) in LinearAlgebra at <a href=\"file://C:/buildbot/worker/package_win64/build/usr/share/julia/stdlib/v1.7/LinearAlgebra/src/symmetric.jl\" target=\"_blank\">C:\\Program Files\\MWorks.Syslab 2022\\Tools\\julia-1.7.1\\share\\julia\\stdlib\\v1.7\\LinearAlgebra\\src\\symmetric.jl:469</a></li> <li> +(A::<b>LinearAlgebra.Hermitian</b>, B::<b>LinearAlgebra.SymTridiagonal{var\"#s856\", V} where {var\"#s856\"<:Real, V<:AbstractVector{var\"#s856\"}}</b>) in LinearAlgebra at <a href=\"file://C:/buildbot/worker/package_win64/build/usr/share/julia/stdlib/v1.7/LinearAlgebra/src/symmetric.jl\" target=\"_blank\">C:\\Program Files\\MWorks.Syslab 2022\\Tools\\julia-1.7.1\\share\\julia\\stdlib\\v1.7\\LinearAlgebra\\src\\symmetric.jl:488</a></li> <li> +(H::<b>LinearAlgebra.Hermitian</b>, D::<b>LinearAlgebra.Diagonal{var\"#s859\", V} where {var\"#s859\"<:Real, V<:AbstractVector{var\"#s859\"}}</b>) in LinearAlgebra at <a href=\"file://C:/buildbot/worker/package_win64/build/usr/share/julia/stdlib/v1.7/LinearAlgebra/src/diagonal.jl\" target=\"_blank\">C:\\Program Files\\MWorks.Syslab 2022\\Tools\\julia-1.7.1\\share\\julia\\stdlib\\v1.7\\LinearAlgebra\\src\\diagonal.jl:185</a></li> <li> +(A::<b>LinearAlgebra.Hermitian</b>, J::<b>LinearAlgebra.UniformScaling{<:Complex}</b>) in LinearAlgebra at <a href=\"file://C:/buildbot/worker/package_win64/build/usr/share/julia/stdlib/v1.7/LinearAlgebra/src/uniformscaling.jl\" target=\"_blank\">C:\\Program Files\\MWorks.Syslab 2022\\Tools\\julia-1.7.1\\share\\julia\\stdlib\\v1.7\\LinearAlgebra\\src\\uniformscaling.jl:196</a></li> <li> +(A::<b>LinearAlgebra.Hermitian{<:Any, <:SparseArrays.AbstractSparseMatrix}</b>, B::<b>SparseArrays.AbstractSparseMatrix</b>) in SparseArrays at <a href=\"file://C:/buildbot/worker/package_win64/build/usr/share/julia/stdlib/v1.7/SparseArrays/src/linalg.jl\" target=\"_blank\">C:\\Program Files\\MWorks.Syslab 2022\\Tools\\julia-1.7.1\\share\\julia\\stdlib\\v1.7\\SparseArrays\\src\\linalg.jl:15</a></li> <li> +(A::<b>LinearAlgebra.Hermitian</b>, B::<b>SparseArrays.AbstractSparseMatrix</b>) in SparseArrays at <a href=\"file://C:/buildbot/worker/package_win64/build/usr/share/julia/stdlib/v1.7/SparseArrays/src/linalg.jl\" target=\"_blank\">C:\\Program Files\\MWorks.Syslab 2022\\Tools\\julia-1.7.1\\share\\julia\\stdlib\\v1.7\\SparseArrays\\src\\linalg.jl:18</a></li> <li> +(A::<b>LinearAlgebra.Hermitian{<:Any, <:SparseArrays.AbstractSparseMatrix}</b>, B::<b>LinearAlgebra.Symmetric{<:Real, <:SparseArrays.AbstractSparseMatrix}</b>) in SparseArrays at <a href=\"file://C:/buildbot/worker/package_win64/build/usr/share/julia/stdlib/v1.7/SparseArrays/src/linalg.jl\" target=\"_blank\">C:\\Program Files\\MWorks.Syslab 2022\\Tools\\julia-1.7.1\\share\\julia\\stdlib\\v1.7\\SparseArrays\\src\\linalg.jl:26</a></li> <li> +(A::<b>LinearAlgebra.Hermitian</b>, B::<b>LinearAlgebra.Symmetric{var\"#s859\", S} where {var\"#s859\"<:Real, S<:(AbstractMatrix{<:var\"#s859\"})}</b>) in LinearAlgebra at <a href=\"file://C:/buildbot/worker/package_win64/build/usr/share/julia/stdlib/v1.7/LinearAlgebra/src/symmetric.jl\" target=\"_blank\">C:\\Program Files\\MWorks.Syslab 2022\\Tools\\julia-1.7.1\\share\\julia\\stdlib\\v1.7\\LinearAlgebra\\src\\symmetric.jl:483</a></li> <li> +(A::<b>LinearAlgebra.Hermitian{<:Any, <:SparseArrays.AbstractSparseMatrix}</b>, B::<b>LinearAlgebra.Symmetric{<:Any, <:SparseArrays.AbstractSparseMatrix}</b>) in SparseArrays at <a href=\"file://C:/buildbot/worker/package_win64/build/usr/share/julia/stdlib/v1.7/SparseArrays/src/linalg.jl\" target=\"_blank\">C:\\Program Files\\MWorks.Syslab 2022\\Tools\\julia-1.7.1\\share\\julia\\stdlib\\v1.7\\SparseArrays\\src\\linalg.jl:24</a></li> <li> +(x::<b>Base.TwicePrecision</b>, y::<b>Number</b>) in Base at <a href=\"https://github.com/JuliaLang/julia/tree/ac5cc99908d463582e66db3368b9b48fae1e2525/base/twiceprecision.jl#L279\" target=\"_blank\">twiceprecision.jl:279</a></li> <li> +(x::<b>Base.TwicePrecision{T}</b>, y::<b>Base.TwicePrecision{T}</b>)<i> where T</i> in Base at <a href=\"https://github.com/JuliaLang/julia/tree/ac5cc99908d463582e66db3368b9b48fae1e2525/base/twiceprecision.jl#L285\" target=\"_blank\">twiceprecision.jl:285</a></li> <li> +(x::<b>Base.TwicePrecision</b>, y::<b>Base.TwicePrecision</b>) in Base at <a href=\"https://github.com/JuliaLang/julia/tree/ac5cc99908d463582e66db3368b9b48fae1e2525/base/twiceprecision.jl#L290\" target=\"_blank\">twiceprecision.jl:290</a></li> <li> +(x::<b>SparseArrays.AbstractSparseVector</b>, y::<b>SparseArrays.AbstractSparseVector</b>) in SparseArrays at <a href=\"file://C:/buildbot/worker/package_win64/build/usr/share/julia/stdlib/v1.7/SparseArrays/src/sparsevector.jl\" target=\"_blank\">C:\\Program Files\\MWorks.Syslab 2022\\Tools\\julia-1.7.1\\share\\julia\\stdlib\\v1.7\\SparseArrays\\src\\sparsevector.jl:1355</a></li> <li> +(A::<b>SparseArrays.AbstractSparseMatrix</b>, B::<b>LinearAlgebra.Hermitian{<:Any, <:SparseArrays.AbstractSparseMatrix}</b>) in SparseArrays at <a href=\"file://C:/buildbot/worker/package_win64/build/usr/share/julia/stdlib/v1.7/SparseArrays/src/linalg.jl\" target=\"_blank\">C:\\Program Files\\MWorks.Syslab 2022\\Tools\\julia-1.7.1\\share\\julia\\stdlib\\v1.7\\SparseArrays\\src\\linalg.jl:14</a></li> <li> +(A::<b>SparseArrays.AbstractSparseMatrix</b>, B::<b>LinearAlgebra.Hermitian</b>) in SparseArrays at <a href=\"file://C:/buildbot/worker/package_win64/build/usr/share/julia/stdlib/v1.7/SparseArrays/src/linalg.jl\" target=\"_blank\">C:\\Program Files\\MWorks.Syslab 2022\\Tools\\julia-1.7.1\\share\\julia\\stdlib\\v1.7\\SparseArrays\\src\\linalg.jl:17</a></li> <li> +(A::<b>SparseArrays.AbstractSparseMatrix</b>, B::<b>LinearAlgebra.Symmetric{<:Any, <:SparseArrays.AbstractSparseMatrix}</b>) in SparseArrays at <a href=\"file://C:/buildbot/worker/package_win64/build/usr/share/julia/stdlib/v1.7/SparseArrays/src/linalg.jl\" target=\"_blank\">C:\\Program Files\\MWorks.Syslab 2022\\Tools\\julia-1.7.1\\share\\julia\\stdlib\\v1.7\\SparseArrays\\src\\linalg.jl:14</a></li> <li> +(A::<b>SparseArrays.AbstractSparseMatrix</b>, B::<b>LinearAlgebra.Symmetric</b>) in SparseArrays at <a href=\"file://C:/buildbot/worker/package_win64/build/usr/share/julia/stdlib/v1.7/SparseArrays/src/linalg.jl\" target=\"_blank\">C:\\Program Files\\MWorks.Syslab 2022\\Tools\\julia-1.7.1\\share\\julia\\stdlib\\v1.7\\SparseArrays\\src\\linalg.jl:17</a></li> <li> +(A::<b>LinearAlgebra.Bidiagonal</b>, B::<b>LinearAlgebra.Bidiagonal</b>) in LinearAlgebra at <a href=\"file://C:/buildbot/worker/package_win64/build/usr/share/julia/stdlib/v1.7/LinearAlgebra/src/bidiag.jl\" target=\"_blank\">C:\\Program Files\\MWorks.Syslab 2022\\Tools\\julia-1.7.1\\share\\julia\\stdlib\\v1.7\\LinearAlgebra\\src\\bidiag.jl:354</a></li> <li> +(x::<b>LinearAlgebra.Bidiagonal</b>, H::<b>LinearAlgebra.UpperHessenberg</b>) in LinearAlgebra at <a href=\"file://C:/buildbot/worker/package_win64/build/usr/share/julia/stdlib/v1.7/LinearAlgebra/src/hessenberg.jl\" target=\"_blank\">C:\\Program Files\\MWorks.Syslab 2022\\Tools\\julia-1.7.1\\share\\julia\\stdlib\\v1.7\\LinearAlgebra\\src\\hessenberg.jl:107</a></li> <li> +(A::<b>LinearAlgebra.Bidiagonal</b>, B::<b>LinearAlgebra.UpperTriangular</b>) in LinearAlgebra at <a href=\"file://C:/buildbot/worker/package_win64/build/usr/share/julia/stdlib/v1.7/LinearAlgebra/src/special.jl\" target=\"_blank\">C:\\Program Files\\MWorks.Syslab 2022\\Tools\\julia-1.7.1\\share\\julia\\stdlib\\v1.7\\LinearAlgebra\\src\\special.jl:94</a></li> <li> +(A::<b>LinearAlgebra.Bidiagonal</b>, B::<b>LinearAlgebra.UnitUpperTriangular</b>) in LinearAlgebra at <a href=\"file://C:/buildbot/worker/package_win64/build/usr/share/julia/stdlib/v1.7/LinearAlgebra/src/special.jl\" target=\"_blank\">C:\\Program Files\\MWorks.Syslab 2022\\Tools\\julia-1.7.1\\share\\julia\\stdlib\\v1.7\\LinearAlgebra\\src\\special.jl:94</a></li> <li> +(A::<b>LinearAlgebra.Bidiagonal</b>, B::<b>LinearAlgebra.LowerTriangular</b>) in LinearAlgebra at <a href=\"file://C:/buildbot/worker/package_win64/build/usr/share/julia/stdlib/v1.7/LinearAlgebra/src/special.jl\" target=\"_blank\">C:\\Program Files\\MWorks.Syslab 2022\\Tools\\julia-1.7.1\\share\\julia\\stdlib\\v1.7\\LinearAlgebra\\src\\special.jl:94</a></li> <li> +(A::<b>LinearAlgebra.Bidiagonal</b>, B::<b>LinearAlgebra.UnitLowerTriangular</b>) in LinearAlgebra at <a href=\"file://C:/buildbot/worker/package_win64/build/usr/share/julia/stdlib/v1.7/LinearAlgebra/src/special.jl\" target=\"_blank\">C:\\Program Files\\MWorks.Syslab 2022\\Tools\\julia-1.7.1\\share\\julia\\stdlib\\v1.7\\LinearAlgebra\\src\\special.jl:94</a></li> <li> +(A::<b>LinearAlgebra.Bidiagonal</b>, B::<b>LinearAlgebra.Diagonal</b>) in LinearAlgebra at <a href=\"file://C:/buildbot/worker/package_win64/build/usr/share/julia/stdlib/v1.7/LinearAlgebra/src/special.jl\" target=\"_blank\">C:\\Program Files\\MWorks.Syslab 2022\\Tools\\julia-1.7.1\\share\\julia\\stdlib\\v1.7\\LinearAlgebra\\src\\special.jl:115</a></li> <li> +(A::<b>LinearAlgebra.Bidiagonal</b>, B::<b>LinearAlgebra.Tridiagonal</b>) in LinearAlgebra at <a href=\"file://C:/buildbot/worker/package_win64/build/usr/share/julia/stdlib/v1.7/LinearAlgebra/src/special.jl\" target=\"_blank\">C:\\Program Files\\MWorks.Syslab 2022\\Tools\\julia-1.7.1\\share\\julia\\stdlib\\v1.7\\LinearAlgebra\\src\\special.jl:183</a></li> <li> +(A::<b>LinearAlgebra.Bidiagonal</b>, B::<b>LinearAlgebra.SymTridiagonal</b>) in LinearAlgebra at <a href=\"file://C:/buildbot/worker/package_win64/build/usr/share/julia/stdlib/v1.7/LinearAlgebra/src/special.jl\" target=\"_blank\">C:\\Program Files\\MWorks.Syslab 2022\\Tools\\julia-1.7.1\\share\\julia\\stdlib\\v1.7\\LinearAlgebra\\src\\special.jl:203</a></li> <li> +(A::<b>LinearAlgebra.Bidiagonal{var\"#s859\", V} where {var\"#s859\"<:Number, V<:AbstractVector{var\"#s859\"}}</b>, B::<b>LinearAlgebra.UniformScaling</b>) in LinearAlgebra at <a href=\"file://C:/buildbot/worker/package_win64/build/usr/share/julia/stdlib/v1.7/LinearAlgebra/src/special.jl\" target=\"_blank\">C:\\Program Files\\MWorks.Syslab 2022\\Tools\\julia-1.7.1\\share\\julia\\stdlib\\v1.7\\LinearAlgebra\\src\\special.jl:236</a></li> <li> +(A::<b>LinearAlgebra.UnitLowerTriangular</b>, B::<b>LinearAlgebra.LowerTriangular</b>) in LinearAlgebra at <a href=\"file://C:/buildbot/worker/package_win64/build/usr/share/julia/stdlib/v1.7/LinearAlgebra/src/triangular.jl\" target=\"_blank\">C:\\Program Files\\MWorks.Syslab 2022\\Tools\\julia-1.7.1\\share\\julia\\stdlib\\v1.7\\LinearAlgebra\\src\\triangular.jl:641</a></li> <li> +(A::<b>LinearAlgebra.UnitLowerTriangular</b>, B::<b>LinearAlgebra.UnitLowerTriangular</b>) in LinearAlgebra at <a href=\"file://C:/buildbot/worker/package_win64/build/usr/share/julia/stdlib/v1.7/LinearAlgebra/src/triangular.jl\" target=\"_blank\">C:\\Program Files\\MWorks.Syslab 2022\\Tools\\julia-1.7.1\\share\\julia\\stdlib\\v1.7\\LinearAlgebra\\src\\triangular.jl:643</a></li> <li> +(UL::<b>LinearAlgebra.UnitLowerTriangular</b>, J::<b>LinearAlgebra.UniformScaling</b>) in LinearAlgebra at <a href=\"file://C:/buildbot/worker/package_win64/build/usr/share/julia/stdlib/v1.7/LinearAlgebra/src/uniformscaling.jl\" target=\"_blank\">C:\\Program Files\\MWorks.Syslab 2022\\Tools\\julia-1.7.1\\share\\julia\\stdlib\\v1.7\\LinearAlgebra\\src\\uniformscaling.jl:182</a></li> <li> +(A::<b>LinearAlgebra.UnitLowerTriangular</b>, B::<b>LinearAlgebra.Bidiagonal</b>) in LinearAlgebra at <a href=\"file://C:/buildbot/worker/package_win64/build/usr/share/julia/stdlib/v1.7/LinearAlgebra/src/special.jl\" target=\"_blank\">C:\\Program Files\\MWorks.Syslab 2022\\Tools\\julia-1.7.1\\share\\julia\\stdlib\\v1.7\\LinearAlgebra\\src\\special.jl:86</a></li> <li> +(index1::<b>CartesianIndex{N}</b>, index2::<b>CartesianIndex{N}</b>)<i> where N</i> in Base.IteratorsMD at <a href=\"https://github.com/JuliaLang/julia/tree/ac5cc99908d463582e66db3368b9b48fae1e2525/base/multidimensional.jl#L114\" target=\"_blank\">multidimensional.jl:114</a></li> <li> +(J::<b>LinearAlgebra.UniformScaling</b>) in LinearAlgebra at <a href=\"file://C:/buildbot/worker/package_win64/build/usr/share/julia/stdlib/v1.7/LinearAlgebra/src/uniformscaling.jl\" target=\"_blank\">C:\\Program Files\\MWorks.Syslab 2022\\Tools\\julia-1.7.1\\share\\julia\\stdlib\\v1.7\\LinearAlgebra\\src\\uniformscaling.jl:150</a></li> <li> +(J::<b>LinearAlgebra.UniformScaling</b>, x::<b>Number</b>) in LinearAlgebra at <a href=\"file://C:/buildbot/worker/package_win64/build/usr/share/julia/stdlib/v1.7/LinearAlgebra/src/uniformscaling.jl\" target=\"_blank\">C:\\Program Files\\MWorks.Syslab 2022\\Tools\\julia-1.7.1\\share\\julia\\stdlib\\v1.7\\LinearAlgebra\\src\\uniformscaling.jl:145</a></li> <li> +(J1::<b>LinearAlgebra.UniformScaling</b>, J2::<b>LinearAlgebra.UniformScaling</b>) in LinearAlgebra at <a href=\"file://C:/buildbot/worker/package_win64/build/usr/share/julia/stdlib/v1.7/LinearAlgebra/src/uniformscaling.jl\" target=\"_blank\">C:\\Program Files\\MWorks.Syslab 2022\\Tools\\julia-1.7.1\\share\\julia\\stdlib\\v1.7\\LinearAlgebra\\src\\uniformscaling.jl:151</a></li> <li> +(J::<b>LinearAlgebra.UniformScaling</b>, B::<b>BitMatrix</b>) in LinearAlgebra at <a href=\"file://C:/buildbot/worker/package_win64/build/usr/share/julia/stdlib/v1.7/LinearAlgebra/src/uniformscaling.jl\" target=\"_blank\">C:\\Program Files\\MWorks.Syslab 2022\\Tools\\julia-1.7.1\\share\\julia\\stdlib\\v1.7\\LinearAlgebra\\src\\uniformscaling.jl:153</a></li> <li> +(x::<b>LinearAlgebra.UniformScaling</b>, H::<b>LinearAlgebra.UpperHessenberg</b>) in LinearAlgebra at <a href=\"file://C:/buildbot/worker/package_win64/build/usr/share/julia/stdlib/v1.7/LinearAlgebra/src/hessenberg.jl\" target=\"_blank\">C:\\Program Files\\MWorks.Syslab 2022\\Tools\\julia-1.7.1\\share\\julia\\stdlib\\v1.7\\LinearAlgebra\\src\\hessenberg.jl:107</a></li> <li> +(J::<b>LinearAlgebra.UniformScaling</b>, F::<b>LinearAlgebra.Hessenberg</b>) in LinearAlgebra at <a href=\"file://C:/buildbot/worker/package_win64/build/usr/share/julia/stdlib/v1.7/LinearAlgebra/src/hessenberg.jl\" target=\"_blank\">C:\\Program Files\\MWorks.Syslab 2022\\Tools\\julia-1.7.1\\share\\julia\\stdlib\\v1.7\\LinearAlgebra\\src\\hessenberg.jl:641</a></li> <li> +(A::<b>LinearAlgebra.UniformScaling</b>, B::<b>LinearAlgebra.Tridiagonal{var\"#s859\", V} where {var\"#s859\"<:Number, V<:AbstractVector{var\"#s859\"}}</b>) in LinearAlgebra at <a href=\"file://C:/buildbot/worker/package_win64/build/usr/share/julia/stdlib/v1.7/LinearAlgebra/src/special.jl\" target=\"_blank\">C:\\Program Files\\MWorks.Syslab 2022\\Tools\\julia-1.7.1\\share\\julia\\stdlib\\v1.7\\LinearAlgebra\\src\\special.jl:245</a></li> <li> +(A::<b>LinearAlgebra.UniformScaling</b>, B::<b>LinearAlgebra.SymTridiagonal{var\"#s859\", V} where {var\"#s859\"<:Number, V<:AbstractVector{var\"#s859\"}}</b>) in LinearAlgebra at <a href=\"file://C:/buildbot/worker/package_win64/build/usr/share/julia/stdlib/v1.7/LinearAlgebra/src/special.jl\" target=\"_blank\">C:\\Program Files\\MWorks.Syslab 2022\\Tools\\julia-1.7.1\\share\\julia\\stdlib\\v1.7\\LinearAlgebra\\src\\special.jl:250</a></li> <li> +(A::<b>LinearAlgebra.UniformScaling</b>, B::<b>LinearAlgebra.Bidiagonal{var\"#s859\", V} where {var\"#s859\"<:Number, V<:AbstractVector{var\"#s859\"}}</b>) in LinearAlgebra at <a href=\"file://C:/buildbot/worker/package_win64/build/usr/share/julia/stdlib/v1.7/LinearAlgebra/src/special.jl\" target=\"_blank\">C:\\Program Files\\MWorks.Syslab 2022\\Tools\\julia-1.7.1\\share\\julia\\stdlib\\v1.7\\LinearAlgebra\\src\\special.jl:255</a></li> <li> +(A::<b>LinearAlgebra.UniformScaling</b>, B::<b>LinearAlgebra.Diagonal{var\"#s859\", V} where {var\"#s859\"<:Number, V<:AbstractVector{var\"#s859\"}}</b>) in LinearAlgebra at <a href=\"file://C:/buildbot/worker/package_win64/build/usr/share/julia/stdlib/v1.7/LinearAlgebra/src/special.jl\" target=\"_blank\">C:\\Program Files\\MWorks.Syslab 2022\\Tools\\julia-1.7.1\\share\\julia\\stdlib\\v1.7\\LinearAlgebra\\src\\special.jl:260</a></li> <li> +(J::<b>LinearAlgebra.UniformScaling</b>, A::<b>AbstractMatrix</b>) in LinearAlgebra at <a href=\"file://C:/buildbot/worker/package_win64/build/usr/share/julia/stdlib/v1.7/LinearAlgebra/src/uniformscaling.jl\" target=\"_blank\">C:\\Program Files\\MWorks.Syslab 2022\\Tools\\julia-1.7.1\\share\\julia\\stdlib\\v1.7\\LinearAlgebra\\src\\uniformscaling.jl:154</a></li> <li> +(A::<b>LinearAlgebra.LowerTriangular</b>, B::<b>LinearAlgebra.LowerTriangular</b>) in LinearAlgebra at <a href=\"file://C:/buildbot/worker/package_win64/build/usr/share/julia/stdlib/v1.7/LinearAlgebra/src/triangular.jl\" target=\"_blank\">C:\\Program Files\\MWorks.Syslab 2022\\Tools\\julia-1.7.1\\share\\julia\\stdlib\\v1.7\\LinearAlgebra\\src\\triangular.jl:637</a></li> <li> +(A::<b>LinearAlgebra.LowerTriangular</b>, B::<b>LinearAlgebra.UnitLowerTriangular</b>) in LinearAlgebra at <a href=\"file://C:/buildbot/worker/package_win64/build/usr/share/julia/stdlib/v1.7/LinearAlgebra/src/triangular.jl\" target=\"_blank\">C:\\Program Files\\MWorks.Syslab 2022\\Tools\\julia-1.7.1\\share\\julia\\stdlib\\v1.7\\LinearAlgebra\\src\\triangular.jl:639</a></li> <li> +(A::<b>LinearAlgebra.LowerTriangular</b>, B::<b>LinearAlgebra.Bidiagonal</b>) in LinearAlgebra at <a href=\"file://C:/buildbot/worker/package_win64/build/usr/share/julia/stdlib/v1.7/LinearAlgebra/src/special.jl\" target=\"_blank\">C:\\Program Files\\MWorks.Syslab 2022\\Tools\\julia-1.7.1\\share\\julia\\stdlib\\v1.7\\LinearAlgebra\\src\\special.jl:86</a></li> <li> +(r1::<b>LinRange{T}</b>, r2::<b>LinRange{T}</b>)<i> where T</i> in Base at <a href=\"https://github.com/JuliaLang/julia/tree/ac5cc99908d463582e66db3368b9b48fae1e2525/base/range.jl#L1354\" target=\"_blank\">range.jl:1354</a></li> <li> +(x::<b>Ptr</b>, y::<b>Integer</b>) in Base at <a href=\"https://github.com/JuliaLang/julia/tree/ac5cc99908d463582e66db3368b9b48fae1e2525/base/pointer.jl#L159\" target=\"_blank\">pointer.jl:159</a></li> <li> +(r1::<b>OrdinalRange</b>, r2::<b>OrdinalRange</b>) in Base at <a href=\"https://github.com/JuliaLang/julia/tree/ac5cc99908d463582e66db3368b9b48fae1e2525/base/range.jl#L1347\" target=\"_blank\">range.jl:1347</a></li> <li> +(x::<b>T</b>, y::<b>Integer</b>)<i> where T<:AbstractChar</i> in Base at <a href=\"https://github.com/JuliaLang/julia/tree/ac5cc99908d463582e66db3368b9b48fae1e2525/base/char.jl#L237\" target=\"_blank\">char.jl:237</a></li> <li> +(A::<b>BitArray</b>, B::<b>BitArray</b>) in Base at <a href=\"https://github.com/JuliaLang/julia/tree/ac5cc99908d463582e66db3368b9b48fae1e2525/base/bitarray.jl#L1180\" target=\"_blank\">bitarray.jl:1180</a></li> <li> +(r::<b>AbstractRange{<:Dates.TimeType}</b>, x::<b>Dates.Period</b>) in Dates at <a href=\"file://C:/buildbot/worker/package_win64/build/usr/share/julia/stdlib/v1.7/Dates/src/ranges.jl\" target=\"_blank\">C:\\Program Files\\MWorks.Syslab 2022\\Tools\\julia-1.7.1\\share\\julia\\stdlib\\v1.7\\Dates\\src\\ranges.jl:63</a></li> <li> +(x::<b>AbstractArray{<:Dates.TimeType}</b>, y::<b>Union{Dates.CompoundPeriod, Dates.Period}</b>) in Dates at <a href=\"file://C:/buildbot/worker/package_win64/build/usr/share/julia/stdlib/v1.7/Dates/src/deprecated.jl\" target=\"_blank\">C:\\Program Files\\MWorks.Syslab 2022\\Tools\\julia-1.7.1\\share\\julia\\stdlib\\v1.7\\Dates\\src\\deprecated.jl:6</a></li> <li> +(A::<b>LinearAlgebra.Symmetric</b>, B::<b>LinearAlgebra.Symmetric</b>) in LinearAlgebra at <a href=\"file://C:/buildbot/worker/package_win64/build/usr/share/julia/stdlib/v1.7/LinearAlgebra/src/symmetric.jl\" target=\"_blank\">C:\\Program Files\\MWorks.Syslab 2022\\Tools\\julia-1.7.1\\share\\julia\\stdlib\\v1.7\\LinearAlgebra\\src\\symmetric.jl:469</a></li> <li> +(A::<b>LinearAlgebra.Symmetric</b>, B::<b>LinearAlgebra.SymTridiagonal</b>) in LinearAlgebra at <a href=\"file://C:/buildbot/worker/package_win64/build/usr/share/julia/stdlib/v1.7/LinearAlgebra/src/symmetric.jl\" target=\"_blank\">C:\\Program Files\\MWorks.Syslab 2022\\Tools\\julia-1.7.1\\share\\julia\\stdlib\\v1.7\\LinearAlgebra\\src\\symmetric.jl:486</a></li> <li> +(S::<b>LinearAlgebra.Symmetric</b>, D::<b>LinearAlgebra.Diagonal</b>) in LinearAlgebra at <a href=\"file://C:/buildbot/worker/package_win64/build/usr/share/julia/stdlib/v1.7/LinearAlgebra/src/diagonal.jl\" target=\"_blank\">C:\\Program Files\\MWorks.Syslab 2022\\Tools\\julia-1.7.1\\share\\julia\\stdlib\\v1.7\\LinearAlgebra\\src\\diagonal.jl:179</a></li> <li> +(A::<b>LinearAlgebra.Symmetric{<:Any, <:SparseArrays.AbstractSparseMatrix}</b>, B::<b>SparseArrays.AbstractSparseMatrix</b>) in SparseArrays at <a href=\"file://C:/buildbot/worker/package_win64/build/usr/share/julia/stdlib/v1.7/SparseArrays/src/linalg.jl\" target=\"_blank\">C:\\Program Files\\MWorks.Syslab 2022\\Tools\\julia-1.7.1\\share\\julia\\stdlib\\v1.7\\SparseArrays\\src\\linalg.jl:15</a></li> <li> +(A::<b>LinearAlgebra.Symmetric</b>, B::<b>SparseArrays.AbstractSparseMatrix</b>) in SparseArrays at <a href=\"file://C:/buildbot/worker/package_win64/build/usr/share/julia/stdlib/v1.7/SparseArrays/src/linalg.jl\" target=\"_blank\">C:\\Program Files\\MWorks.Syslab 2022\\Tools\\julia-1.7.1\\share\\julia\\stdlib\\v1.7\\SparseArrays\\src\\linalg.jl:18</a></li> <li> +(A::<b>LinearAlgebra.Symmetric{<:Real, <:SparseArrays.AbstractSparseMatrix}</b>, B::<b>LinearAlgebra.Hermitian{<:Any, <:SparseArrays.AbstractSparseMatrix}</b>) in SparseArrays at <a href=\"file://C:/buildbot/worker/package_win64/build/usr/share/julia/stdlib/v1.7/SparseArrays/src/linalg.jl\" target=\"_blank\">C:\\Program Files\\MWorks.Syslab 2022\\Tools\\julia-1.7.1\\share\\julia\\stdlib\\v1.7\\SparseArrays\\src\\linalg.jl:25</a></li> <li> +(A::<b>LinearAlgebra.Symmetric{var\"#s858\", S} where {var\"#s858\"<:Real, S<:(AbstractMatrix{<:var\"#s858\"})}</b>, B::<b>LinearAlgebra.Hermitian</b>) in LinearAlgebra at <a href=\"file://C:/buildbot/worker/package_win64/build/usr/share/julia/stdlib/v1.7/LinearAlgebra/src/symmetric.jl\" target=\"_blank\">C:\\Program Files\\MWorks.Syslab 2022\\Tools\\julia-1.7.1\\share\\julia\\stdlib\\v1.7\\LinearAlgebra\\src\\symmetric.jl:484</a></li> <li> +(A::<b>LinearAlgebra.Symmetric{<:Any, <:SparseArrays.AbstractSparseMatrix}</b>, B::<b>LinearAlgebra.Hermitian{<:Any, <:SparseArrays.AbstractSparseMatrix}</b>) in SparseArrays at <a href=\"file://C:/buildbot/worker/package_win64/build/usr/share/julia/stdlib/v1.7/SparseArrays/src/linalg.jl\" target=\"_blank\">C:\\Program Files\\MWorks.Syslab 2022\\Tools\\julia-1.7.1\\share\\julia\\stdlib\\v1.7\\SparseArrays\\src\\linalg.jl:23</a></li> <li> +(A::<b>LinearAlgebra.UpperTriangular</b>, B::<b>LinearAlgebra.UpperTriangular</b>) in LinearAlgebra at <a href=\"file://C:/buildbot/worker/package_win64/build/usr/share/julia/stdlib/v1.7/LinearAlgebra/src/triangular.jl\" target=\"_blank\">C:\\Program Files\\MWorks.Syslab 2022\\Tools\\julia-1.7.1\\share\\julia\\stdlib\\v1.7\\LinearAlgebra\\src\\triangular.jl:636</a></li> <li> +(A::<b>LinearAlgebra.UpperTriangular</b>, B::<b>LinearAlgebra.UnitUpperTriangular</b>) in LinearAlgebra at <a href=\"file://C:/buildbot/worker/package_win64/build/usr/share/julia/stdlib/v1.7/LinearAlgebra/src/triangular.jl\" target=\"_blank\">C:\\Program Files\\MWorks.Syslab 2022\\Tools\\julia-1.7.1\\share\\julia\\stdlib\\v1.7\\LinearAlgebra\\src\\triangular.jl:638</a></li> <li> +(A::<b>LinearAlgebra.AbstractTriangular</b>, B::<b>LinearAlgebra.AbstractTriangular</b>) in LinearAlgebra at <a href=\"file://C:/buildbot/worker/package_win64/build/usr/share/julia/stdlib/v1.7/LinearAlgebra/src/triangular.jl\" target=\"_blank\">C:\\Program Files\\MWorks.Syslab 2022\\Tools\\julia-1.7.1\\share\\julia\\stdlib\\v1.7\\LinearAlgebra\\src\\triangular.jl:644</a></li> <li> +(x::<b>LinearAlgebra.UpperTriangular</b>, H::<b>LinearAlgebra.UpperHessenberg</b>) in LinearAlgebra at <a href=\"file://C:/buildbot/worker/package_win64/build/usr/share/julia/stdlib/v1.7/LinearAlgebra/src/hessenberg.jl\" target=\"_blank\">C:\\Program Files\\MWorks.Syslab 2022\\Tools\\julia-1.7.1\\share\\julia\\stdlib\\v1.7\\LinearAlgebra\\src\\hessenberg.jl:107</a></li> <li> +(A::<b>LinearAlgebra.UpperTriangular</b>, B::<b>LinearAlgebra.Bidiagonal</b>) in LinearAlgebra at <a href=\"file://C:/buildbot/worker/package_win64/build/usr/share/julia/stdlib/v1.7/LinearAlgebra/src/special.jl\" target=\"_blank\">C:\\Program Files\\MWorks.Syslab 2022\\Tools\\julia-1.7.1\\share\\julia\\stdlib\\v1.7\\LinearAlgebra\\src\\special.jl:86</a></li> <li> +(y::<b>Dates.TimeType</b>, x::<b>StridedArray{<:Union{Dates.CompoundPeriod, Dates.Period}}</b>) in Dates at <a href=\"file://C:/buildbot/worker/package_win64/build/usr/share/julia/stdlib/v1.7/Dates/src/deprecated.jl\" target=\"_blank\">C:\\Program Files\\MWorks.Syslab 2022\\Tools\\julia-1.7.1\\share\\julia\\stdlib\\v1.7\\Dates\\src\\deprecated.jl:18</a></li> <li> +(r1::<b>StepRangeLen{T, R}</b>, r2::<b>StepRangeLen{T, R}</b>)<i> where {R<:Base.TwicePrecision, T}</i> in Base at <a href=\"https://github.com/JuliaLang/julia/tree/ac5cc99908d463582e66db3368b9b48fae1e2525/base/twiceprecision.jl#L613\" target=\"_blank\">twiceprecision.jl:613</a></li> <li> +(r1::<b>StepRangeLen{T, S}</b>, r2::<b>StepRangeLen{T, S}</b>)<i> where {T, S}</i> in Base at <a href=\"https://github.com/JuliaLang/julia/tree/ac5cc99908d463582e66db3368b9b48fae1e2525/base/range.jl#L1370\" target=\"_blank\">range.jl:1370</a></li> <li> +(r1::<b>Union{LinRange, OrdinalRange, StepRangeLen}</b>, r2::<b>Union{LinRange, OrdinalRange, StepRangeLen}</b>) in Base at <a href=\"https://github.com/JuliaLang/julia/tree/ac5cc99908d463582e66db3368b9b48fae1e2525/base/range.jl#L1363\" target=\"_blank\">range.jl:1363</a></li> <li> +(A::<b>LinearAlgebra.UpperHessenberg</b>, B::<b>LinearAlgebra.UpperHessenberg</b>) in LinearAlgebra at <a href=\"file://C:/buildbot/worker/package_win64/build/usr/share/julia/stdlib/v1.7/LinearAlgebra/src/hessenberg.jl\" target=\"_blank\">C:\\Program Files\\MWorks.Syslab 2022\\Tools\\julia-1.7.1\\share\\julia\\stdlib\\v1.7\\LinearAlgebra\\src\\hessenberg.jl:99</a></li> <li> +(H::<b>LinearAlgebra.UpperHessenberg</b>, x::<b>LinearAlgebra.UniformScaling</b>) in LinearAlgebra at <a href=\"file://C:/buildbot/worker/package_win64/build/usr/share/julia/stdlib/v1.7/LinearAlgebra/src/hessenberg.jl\" target=\"_blank\">C:\\Program Files\\MWorks.Syslab 2022\\Tools\\julia-1.7.1\\share\\julia\\stdlib\\v1.7\\LinearAlgebra\\src\\hessenberg.jl:106</a></li> <li> +(H::<b>LinearAlgebra.UpperHessenberg</b>, x::<b>LinearAlgebra.Diagonal</b>) in LinearAlgebra at <a href=\"file://C:/buildbot/worker/package_win64/build/usr/share/julia/stdlib/v1.7/LinearAlgebra/src/hessenberg.jl\" target=\"_blank\">C:\\Program Files\\MWorks.Syslab 2022\\Tools\\julia-1.7.1\\share\\julia\\stdlib\\v1.7\\LinearAlgebra\\src\\hessenberg.jl:106</a></li> <li> +(H::<b>LinearAlgebra.UpperHessenberg</b>, x::<b>LinearAlgebra.Bidiagonal</b>) in LinearAlgebra at <a href=\"file://C:/buildbot/worker/package_win64/build/usr/share/julia/stdlib/v1.7/LinearAlgebra/src/hessenberg.jl\" target=\"_blank\">C:\\Program Files\\MWorks.Syslab 2022\\Tools\\julia-1.7.1\\share\\julia\\stdlib\\v1.7\\LinearAlgebra\\src\\hessenberg.jl:106</a></li> <li> +(H::<b>LinearAlgebra.UpperHessenberg</b>, x::<b>LinearAlgebra.Tridiagonal</b>) in LinearAlgebra at <a href=\"file://C:/buildbot/worker/package_win64/build/usr/share/julia/stdlib/v1.7/LinearAlgebra/src/hessenberg.jl\" target=\"_blank\">C:\\Program Files\\MWorks.Syslab 2022\\Tools\\julia-1.7.1\\share\\julia\\stdlib\\v1.7\\LinearAlgebra\\src\\hessenberg.jl:106</a></li> <li> +(H::<b>LinearAlgebra.UpperHessenberg</b>, x::<b>LinearAlgebra.SymTridiagonal</b>) in LinearAlgebra at <a href=\"file://C:/buildbot/worker/package_win64/build/usr/share/julia/stdlib/v1.7/LinearAlgebra/src/hessenberg.jl\" target=\"_blank\">C:\\Program Files\\MWorks.Syslab 2022\\Tools\\julia-1.7.1\\share\\julia\\stdlib\\v1.7\\LinearAlgebra\\src\\hessenberg.jl:106</a></li> <li> +(H::<b>LinearAlgebra.UpperHessenberg</b>, x::<b>LinearAlgebra.UpperTriangular</b>) in LinearAlgebra at <a href=\"file://C:/buildbot/worker/package_win64/build/usr/share/julia/stdlib/v1.7/LinearAlgebra/src/hessenberg.jl\" target=\"_blank\">C:\\Program Files\\MWorks.Syslab 2022\\Tools\\julia-1.7.1\\share\\julia\\stdlib\\v1.7\\LinearAlgebra\\src\\hessenberg.jl:106</a></li> <li> +(H::<b>LinearAlgebra.UpperHessenberg</b>, x::<b>LinearAlgebra.UnitUpperTriangular</b>) in LinearAlgebra at <a href=\"file://C:/buildbot/worker/package_win64/build/usr/share/julia/stdlib/v1.7/LinearAlgebra/src/hessenberg.jl\" target=\"_blank\">C:\\Program Files\\MWorks.Syslab 2022\\Tools\\julia-1.7.1\\share\\julia\\stdlib\\v1.7\\LinearAlgebra\\src\\hessenberg.jl:106</a></li> <li> +(A::<b>Array</b>, Bs::<b>Array...</b>) in Base at <a href=\"https://github.com/JuliaLang/julia/tree/ac5cc99908d463582e66db3368b9b48fae1e2525/base/arraymath.jl#L43\" target=\"_blank\">arraymath.jl:43</a></li> <li> +(X::<b>StridedArray{<:Union{Dates.CompoundPeriod, Dates.Period}}</b>, Y::<b>StridedArray{<:Union{Dates.CompoundPeriod, Dates.Period}}</b>) in Dates at <a href=\"file://C:/buildbot/worker/package_win64/build/usr/share/julia/stdlib/v1.7/Dates/src/deprecated.jl\" target=\"_blank\">C:\\Program Files\\MWorks.Syslab 2022\\Tools\\julia-1.7.1\\share\\julia\\stdlib\\v1.7\\Dates\\src\\deprecated.jl:62</a></li> <li> +(A::<b>Array</b>, B::<b>SparseArrays.AbstractSparseMatrixCSC</b>) in SparseArrays at <a href=\"file://C:/buildbot/worker/package_win64/build/usr/share/julia/stdlib/v1.7/SparseArrays/src/sparsematrix.jl\" target=\"_blank\">C:\\Program Files\\MWorks.Syslab 2022\\Tools\\julia-1.7.1\\share\\julia\\stdlib\\v1.7\\SparseArrays\\src\\sparsematrix.jl:1775</a></li> <li> +(x::<b>StridedArray{<:Union{Dates.CompoundPeriod, Dates.Period}}</b>) in Dates at <a href=\"file://C:/buildbot/worker/package_win64/build/usr/share/julia/stdlib/v1.7/Dates/src/deprecated.jl\" target=\"_blank\">C:\\Program Files\\MWorks.Syslab 2022\\Tools\\julia-1.7.1\\share\\julia\\stdlib\\v1.7\\Dates\\src\\deprecated.jl:55</a></li> <li> +(x::<b>StridedArray{<:Union{Dates.CompoundPeriod, Dates.Period}}</b>, y::<b>Dates.TimeType</b>) in Dates at <a href=\"file://C:/buildbot/worker/package_win64/build/usr/share/julia/stdlib/v1.7/Dates/src/deprecated.jl\" target=\"_blank\">C:\\Program Files\\MWorks.Syslab 2022\\Tools\\julia-1.7.1\\share\\julia\\stdlib\\v1.7\\Dates\\src\\deprecated.jl:10</a></li> <li> +(A::<b>AbstractArray</b>, B::<b>AbstractArray</b>) in Base at <a href=\"https://github.com/JuliaLang/julia/tree/ac5cc99908d463582e66db3368b9b48fae1e2525/base/arraymath.jl#L37\" target=\"_blank\">arraymath.jl:37</a></li> <li> +(y::<b>AbstractFloat</b>, x::<b>Bool</b>) in Base at <a href=\"https://github.com/JuliaLang/julia/tree/ac5cc99908d463582e66db3368b9b48fae1e2525/base/bool.jl#L172\" target=\"_blank\">bool.jl:172</a></li> <li> +(::<b>Missing</b>) in Base at <a href=\"https://github.com/JuliaLang/julia/tree/ac5cc99908d463582e66db3368b9b48fae1e2525/base/missing.jl#L101\" target=\"_blank\">missing.jl:101</a></li> <li> +(::<b>Missing</b>, ::<b>Number</b>) in Base at <a href=\"https://github.com/JuliaLang/julia/tree/ac5cc99908d463582e66db3368b9b48fae1e2525/base/missing.jl#L123\" target=\"_blank\">missing.jl:123</a></li> <li> +(x::<b>Missing</b>, y::<b>Dates.AbstractTime</b>) in Dates at <a href=\"file://C:/buildbot/worker/package_win64/build/usr/share/julia/stdlib/v1.7/Dates/src/arithmetic.jl\" target=\"_blank\">C:\\Program Files\\MWorks.Syslab 2022\\Tools\\julia-1.7.1\\share\\julia\\stdlib\\v1.7\\Dates\\src\\arithmetic.jl:89</a></li> <li> +(::<b>Missing</b>, ::<b>Missing</b>) in Base at <a href=\"https://github.com/JuliaLang/julia/tree/ac5cc99908d463582e66db3368b9b48fae1e2525/base/missing.jl#L122\" target=\"_blank\">missing.jl:122</a></li> <li> +(a::<b>Pkg.Resolve.FieldValue</b>, b::<b>Pkg.Resolve.FieldValue</b>) in Pkg.Resolve at <a href=\"file://C:/buildbot/worker/package_win64/build/usr/share/julia/stdlib/v1.7/Pkg/src/Resolve/fieldvalues.jl\" target=\"_blank\">C:\\Program Files\\MWorks.Syslab 2022\\Tools\\julia-1.7.1\\share\\julia\\stdlib\\v1.7\\Pkg\\src\\Resolve\\fieldvalues.jl:43</a></li> <li> +(x::<b>Bool</b>) in Base at <a href=\"https://github.com/JuliaLang/julia/tree/ac5cc99908d463582e66db3368b9b48fae1e2525/base/bool.jl#L159\" target=\"_blank\">bool.jl:159</a></li> <li> +(x::<b>Integer</b>, y::<b>Ptr</b>) in Base at <a href=\"https://github.com/JuliaLang/julia/tree/ac5cc99908d463582e66db3368b9b48fae1e2525/base/pointer.jl#L161\" target=\"_blank\">pointer.jl:161</a></li> <li> +(y::<b>Integer</b>, x::<b>Rational</b>) in Base at <a href=\"https://github.com/JuliaLang/julia/tree/ac5cc99908d463582e66db3368b9b48fae1e2525/base/rational.jl#L318\" target=\"_blank\">rational.jl:318</a></li> <li> +(x::<b>Integer</b>, y::<b>AbstractChar</b>) in Base at <a href=\"https://github.com/JuliaLang/julia/tree/ac5cc99908d463582e66db3368b9b48fae1e2525/base/char.jl#L247\" target=\"_blank\">char.jl:247</a></li> <li> +(x::<b>Number</b>, y::<b>Base.TwicePrecision</b>) in Base at <a href=\"https://github.com/JuliaLang/julia/tree/ac5cc99908d463582e66db3368b9b48fae1e2525/base/twiceprecision.jl#L283\" target=\"_blank\">twiceprecision.jl:283</a></li> <li> +(::<b>Number</b>, ::<b>Missing</b>) in Base at <a href=\"https://github.com/JuliaLang/julia/tree/ac5cc99908d463582e66db3368b9b48fae1e2525/base/missing.jl#L124\" target=\"_blank\">missing.jl:124</a></li> <li> +(x::<b>Number</b>, J::<b>LinearAlgebra.UniformScaling</b>) in LinearAlgebra at <a href=\"file://C:/buildbot/worker/package_win64/build/usr/share/julia/stdlib/v1.7/LinearAlgebra/src/uniformscaling.jl\" target=\"_blank\">C:\\Program Files\\MWorks.Syslab 2022\\Tools\\julia-1.7.1\\share\\julia\\stdlib\\v1.7\\LinearAlgebra\\src\\uniformscaling.jl:146</a></li> <li> +(x::<b>Bool</b>, y::<b>T</b>)<i> where T<:AbstractFloat</i> in Base at <a href=\"https://github.com/JuliaLang/julia/tree/ac5cc99908d463582e66db3368b9b48fae1e2525/base/bool.jl#L169\" target=\"_blank\">bool.jl:169</a></li> <li> +(x::<b>Bool</b>, y::<b>Bool</b>) in Base at <a href=\"https://github.com/JuliaLang/julia/tree/ac5cc99908d463582e66db3368b9b48fae1e2525/base/bool.jl#L162\" target=\"_blank\">bool.jl:162</a></li> <li> +(x::<b>Bool</b>, z::<b>Complex{Bool}</b>) in Base at <a href=\"https://github.com/JuliaLang/julia/tree/ac5cc99908d463582e66db3368b9b48fae1e2525/base/complex.jl#L299\" target=\"_blank\">complex.jl:299</a></li> <li> +(x::<b>Real</b>, z::<b>Complex{Bool}</b>) in Base at <a href=\"https://github.com/JuliaLang/julia/tree/ac5cc99908d463582e66db3368b9b48fae1e2525/base/complex.jl#L313\" target=\"_blank\">complex.jl:313</a></li> <li> +(x::<b>Bool</b>, z::<b>Complex</b>) in Base at <a href=\"https://github.com/JuliaLang/julia/tree/ac5cc99908d463582e66db3368b9b48fae1e2525/base/complex.jl#L306\" target=\"_blank\">complex.jl:306</a></li> <li> +(x::<b>Real</b>, z::<b>Complex</b>) in Base at <a href=\"https://github.com/JuliaLang/julia/tree/ac5cc99908d463582e66db3368b9b48fae1e2525/base/complex.jl#L325\" target=\"_blank\">complex.jl:325</a></li> <li> +(level::<b>Base.CoreLogging.LogLevel</b>, inc::<b>Integer</b>) in Base.CoreLogging at <a href=\"https://github.com/JuliaLang/julia/tree/ac5cc99908d463582e66db3368b9b48fae1e2525/base/logging.jl#L131\" target=\"_blank\">logging.jl:131</a></li> <li> +(a::<b>Pkg.Resolve.VersionWeight</b>, b::<b>Pkg.Resolve.VersionWeight</b>) in Pkg.Resolve at <a href=\"file://C:/buildbot/worker/package_win64/build/usr/share/julia/stdlib/v1.7/Pkg/src/Resolve/versionweights.jl\" target=\"_blank\">C:\\Program Files\\MWorks.Syslab 2022\\Tools\\julia-1.7.1\\share\\julia\\stdlib\\v1.7\\Pkg\\src\\Resolve\\versionweights.jl:22</a></li> <li> +(x::<b>Float16</b>, y::<b>Float16</b>) in Base at <a href=\"https://github.com/JuliaLang/julia/tree/ac5cc99908d463582e66db3368b9b48fae1e2525/base/float.jl#L397\" target=\"_blank\">float.jl:397</a></li> <li> +(B::<b>BitMatrix</b>, J::<b>LinearAlgebra.UniformScaling</b>) in LinearAlgebra at <a href=\"file://C:/buildbot/worker/package_win64/build/usr/share/julia/stdlib/v1.7/LinearAlgebra/src/uniformscaling.jl\" target=\"_blank\">C:\\Program Files\\MWorks.Syslab 2022\\Tools\\julia-1.7.1\\share\\julia\\stdlib\\v1.7\\LinearAlgebra\\src\\uniformscaling.jl:152</a></li> <li> +(A::<b>AbstractMatrix</b>, J::<b>LinearAlgebra.UniformScaling</b>) in LinearAlgebra at <a href=\"file://C:/buildbot/worker/package_win64/build/usr/share/julia/stdlib/v1.7/LinearAlgebra/src/uniformscaling.jl\" target=\"_blank\">C:\\Program Files\\MWorks.Syslab 2022\\Tools\\julia-1.7.1\\share\\julia\\stdlib\\v1.7\\LinearAlgebra\\src\\uniformscaling.jl:215</a></li> <li> +(x::<b>AbstractArray{<:Number}</b>) in Base at <a href=\"https://github.com/JuliaLang/julia/tree/ac5cc99908d463582e66db3368b9b48fae1e2525/base/abstractarraymath.jl#L104\" target=\"_blank\">abstractarraymath.jl:104</a></li> <li> +(z::<b>Complex{Bool}</b>, x::<b>Bool</b>) in Base at <a href=\"https://github.com/JuliaLang/julia/tree/ac5cc99908d463582e66db3368b9b48fae1e2525/base/complex.jl#L300\" target=\"_blank\">complex.jl:300</a></li> <li> +(z::<b>Complex</b>, x::<b>Bool</b>) in Base at <a href=\"https://github.com/JuliaLang/julia/tree/ac5cc99908d463582e66db3368b9b48fae1e2525/base/complex.jl#L307\" target=\"_blank\">complex.jl:307</a></li> <li> +(z::<b>Complex{Bool}</b>, x::<b>Real</b>) in Base at <a href=\"https://github.com/JuliaLang/julia/tree/ac5cc99908d463582e66db3368b9b48fae1e2525/base/complex.jl#L314\" target=\"_blank\">complex.jl:314</a></li> <li> +(z::<b>Complex</b>) in Base at <a href=\"https://github.com/JuliaLang/julia/tree/ac5cc99908d463582e66db3368b9b48fae1e2525/base/complex.jl#L286\" target=\"_blank\">complex.jl:286</a></li> <li> +(z::<b>Complex</b>, x::<b>Real</b>) in Base at <a href=\"https://github.com/JuliaLang/julia/tree/ac5cc99908d463582e66db3368b9b48fae1e2525/base/complex.jl#L326\" target=\"_blank\">complex.jl:326</a></li> <li> +(x::<b>BigInt</b>, c::<b>Union{UInt16, UInt32, UInt8}</b>) in Base.GMP at <a href=\"https://github.com/JuliaLang/julia/tree/ac5cc99908d463582e66db3368b9b48fae1e2525/base/gmp.jl#L528\" target=\"_blank\">gmp.jl:528</a></li> <li> +(x::<b>BigInt</b>, c::<b>Union{Int16, Int32, Int8}</b>) in Base.GMP at <a href=\"https://github.com/JuliaLang/julia/tree/ac5cc99908d463582e66db3368b9b48fae1e2525/base/gmp.jl#L534\" target=\"_blank\">gmp.jl:534</a></li> <li> +(x::<b>BigInt</b>, y::<b>BigInt</b>) in Base.GMP at <a href=\"https://github.com/JuliaLang/julia/tree/ac5cc99908d463582e66db3368b9b48fae1e2525/base/gmp.jl#L480\" target=\"_blank\">gmp.jl:480</a></li> <li> +(a::<b>BigInt</b>, b::<b>BigInt</b>, c::<b>BigInt</b>) in Base.GMP at <a href=\"https://github.com/JuliaLang/julia/tree/ac5cc99908d463582e66db3368b9b48fae1e2525/base/gmp.jl#L520\" target=\"_blank\">gmp.jl:520</a></li> <li> +(a::<b>BigInt</b>, b::<b>BigInt</b>, c::<b>BigInt</b>, d::<b>BigInt</b>) in Base.GMP at <a href=\"https://github.com/JuliaLang/julia/tree/ac5cc99908d463582e66db3368b9b48fae1e2525/base/gmp.jl#L521\" target=\"_blank\">gmp.jl:521</a></li> <li> +(a::<b>BigInt</b>, b::<b>BigInt</b>, c::<b>BigInt</b>, d::<b>BigInt</b>, e::<b>BigInt</b>) in Base.GMP at <a href=\"https://github.com/JuliaLang/julia/tree/ac5cc99908d463582e66db3368b9b48fae1e2525/base/gmp.jl#L522\" target=\"_blank\">gmp.jl:522</a></li> <li> +(x::<b>BigInt</b>, y::<b>BigInt</b>, rest::<b>BigInt...</b>) in Base.GMP at <a href=\"https://github.com/JuliaLang/julia/tree/ac5cc99908d463582e66db3368b9b48fae1e2525/base/gmp.jl#L635\" target=\"_blank\">gmp.jl:635</a></li> <li> +(a::<b>Integer</b>, b::<b>Integer</b>) in Base at <a href=\"https://github.com/JuliaLang/julia/tree/ac5cc99908d463582e66db3368b9b48fae1e2525/base/int.jl#L978\" target=\"_blank\">int.jl:978</a></li> <li> +(c::<b>BigInt</b>, x::<b>BigFloat</b>) in Base.MPFR at <a href=\"https://github.com/JuliaLang/julia/tree/ac5cc99908d463582e66db3368b9b48fae1e2525/base/mpfr.jl#L414\" target=\"_blank\">mpfr.jl:414</a></li> <li> +(x::<b>BigFloat</b>, c::<b>Union{UInt16, UInt32, UInt8}</b>) in Base.MPFR at <a href=\"https://github.com/JuliaLang/julia/tree/ac5cc99908d463582e66db3368b9b48fae1e2525/base/mpfr.jl#L385\" target=\"_blank\">mpfr.jl:385</a></li> <li> +(x::<b>BigFloat</b>, c::<b>Union{Int16, Int32, Int8}</b>) in Base.MPFR at <a href=\"https://github.com/JuliaLang/julia/tree/ac5cc99908d463582e66db3368b9b48fae1e2525/base/mpfr.jl#L393\" target=\"_blank\">mpfr.jl:393</a></li> <li> +(x::<b>BigFloat</b>, c::<b>Union{Float16, Float32, Float64}</b>) in Base.MPFR at <a href=\"https://github.com/JuliaLang/julia/tree/ac5cc99908d463582e66db3368b9b48fae1e2525/base/mpfr.jl#L401\" target=\"_blank\">mpfr.jl:401</a></li> <li> +(x::<b>BigFloat</b>, y::<b>BigFloat</b>) in Base.MPFR at <a href=\"https://github.com/JuliaLang/julia/tree/ac5cc99908d463582e66db3368b9b48fae1e2525/base/mpfr.jl#L378\" target=\"_blank\">mpfr.jl:378</a></li> <li> +(x::<b>BigFloat</b>, c::<b>BigInt</b>) in Base.MPFR at <a href=\"https://github.com/JuliaLang/julia/tree/ac5cc99908d463582e66db3368b9b48fae1e2525/base/mpfr.jl#L409\" target=\"_blank\">mpfr.jl:409</a></li> <li> +(a::<b>BigFloat</b>, b::<b>BigFloat</b>, c::<b>BigFloat</b>) in Base.MPFR at <a href=\"https://github.com/JuliaLang/julia/tree/ac5cc99908d463582e66db3368b9b48fae1e2525/base/mpfr.jl#L550\" target=\"_blank\">mpfr.jl:550</a></li> <li> +(a::<b>BigFloat</b>, b::<b>BigFloat</b>, c::<b>BigFloat</b>, d::<b>BigFloat</b>) in Base.MPFR at <a href=\"https://github.com/JuliaLang/julia/tree/ac5cc99908d463582e66db3368b9b48fae1e2525/base/mpfr.jl#L556\" target=\"_blank\">mpfr.jl:556</a></li> <li> +(a::<b>BigFloat</b>, b::<b>BigFloat</b>, c::<b>BigFloat</b>, d::<b>BigFloat</b>, e::<b>BigFloat</b>) in Base.MPFR at <a href=\"https://github.com/JuliaLang/julia/tree/ac5cc99908d463582e66db3368b9b48fae1e2525/base/mpfr.jl#L563\" target=\"_blank\">mpfr.jl:563</a></li> <li> +(x::<b>Float32</b>, y::<b>Float32</b>) in Base at <a href=\"https://github.com/JuliaLang/julia/tree/ac5cc99908d463582e66db3368b9b48fae1e2525/base/float.jl#L398\" target=\"_blank\">float.jl:398</a></li> <li> +(x::<b>Dates.Time</b>, y::<b>Dates.TimePeriod</b>) in Dates at <a href=\"file://C:/buildbot/worker/package_win64/build/usr/share/julia/stdlib/v1.7/Dates/src/arithmetic.jl\" target=\"_blank\">C:\\Program Files\\MWorks.Syslab 2022\\Tools\\julia-1.7.1\\share\\julia\\stdlib\\v1.7\\Dates\\src\\arithmetic.jl:83</a></li> <li> +(t::<b>Dates.Time</b>, dt::<b>Dates.Date</b>) in Dates at <a href=\"file://C:/buildbot/worker/package_win64/build/usr/share/julia/stdlib/v1.7/Dates/src/arithmetic.jl\" target=\"_blank\">C:\\Program Files\\MWorks.Syslab 2022\\Tools\\julia-1.7.1\\share\\julia\\stdlib\\v1.7\\Dates\\src\\arithmetic.jl:20</a></li> <li> +(dt::<b>Dates.DateTime</b>, y::<b>Dates.Year</b>) in Dates at <a href=\"file://C:/buildbot/worker/package_win64/build/usr/share/julia/stdlib/v1.7/Dates/src/arithmetic.jl\" target=\"_blank\">C:\\Program Files\\MWorks.Syslab 2022\\Tools\\julia-1.7.1\\share\\julia\\stdlib\\v1.7\\Dates\\src\\arithmetic.jl:23</a></li> <li> +(dt::<b>Dates.DateTime</b>, z::<b>Dates.Month</b>) in Dates at <a href=\"file://C:/buildbot/worker/package_win64/build/usr/share/julia/stdlib/v1.7/Dates/src/arithmetic.jl\" target=\"_blank\">C:\\Program Files\\MWorks.Syslab 2022\\Tools\\julia-1.7.1\\share\\julia\\stdlib\\v1.7\\Dates\\src\\arithmetic.jl:47</a></li> <li> +(x::<b>Dates.DateTime</b>, y::<b>Dates.Quarter</b>) in Dates at <a href=\"file://C:/buildbot/worker/package_win64/build/usr/share/julia/stdlib/v1.7/Dates/src/arithmetic.jl\" target=\"_blank\">C:\\Program Files\\MWorks.Syslab 2022\\Tools\\julia-1.7.1\\share\\julia\\stdlib\\v1.7\\Dates\\src\\arithmetic.jl:75</a></li> <li> +(x::<b>Dates.DateTime</b>, y::<b>Dates.Period</b>) in Dates at <a href=\"file://C:/buildbot/worker/package_win64/build/usr/share/julia/stdlib/v1.7/Dates/src/arithmetic.jl\" target=\"_blank\">C:\\Program Files\\MWorks.Syslab 2022\\Tools\\julia-1.7.1\\share\\julia\\stdlib\\v1.7\\Dates\\src\\arithmetic.jl:81</a></li> <li> +(dt::<b>Dates.Date</b>, t::<b>Dates.Time</b>) in Dates at <a href=\"file://C:/buildbot/worker/package_win64/build/usr/share/julia/stdlib/v1.7/Dates/src/arithmetic.jl\" target=\"_blank\">C:\\Program Files\\MWorks.Syslab 2022\\Tools\\julia-1.7.1\\share\\julia\\stdlib\\v1.7\\Dates\\src\\arithmetic.jl:19</a></li> <li> +(dt::<b>Dates.Date</b>, y::<b>Dates.Year</b>) in Dates at <a href=\"file://C:/buildbot/worker/package_win64/build/usr/share/julia/stdlib/v1.7/Dates/src/arithmetic.jl\" target=\"_blank\">C:\\Program Files\\MWorks.Syslab 2022\\Tools\\julia-1.7.1\\share\\julia\\stdlib\\v1.7\\Dates\\src\\arithmetic.jl:27</a></li> <li> +(dt::<b>Dates.Date</b>, z::<b>Dates.Month</b>) in Dates at <a href=\"file://C:/buildbot/worker/package_win64/build/usr/share/julia/stdlib/v1.7/Dates/src/arithmetic.jl\" target=\"_blank\">C:\\Program Files\\MWorks.Syslab 2022\\Tools\\julia-1.7.1\\share\\julia\\stdlib\\v1.7\\Dates\\src\\arithmetic.jl:54</a></li> <li> +(x::<b>Dates.Date</b>, y::<b>Dates.Quarter</b>) in Dates at <a href=\"file://C:/buildbot/worker/package_win64/build/usr/share/julia/stdlib/v1.7/Dates/src/arithmetic.jl\" target=\"_blank\">C:\\Program Files\\MWorks.Syslab 2022\\Tools\\julia-1.7.1\\share\\julia\\stdlib\\v1.7\\Dates\\src\\arithmetic.jl:73</a></li> <li> +(x::<b>Dates.Date</b>, y::<b>Dates.Week</b>) in Dates at <a href=\"file://C:/buildbot/worker/package_win64/build/usr/share/julia/stdlib/v1.7/Dates/src/arithmetic.jl\" target=\"_blank\">C:\\Program Files\\MWorks.Syslab 2022\\Tools\\julia-1.7.1\\share\\julia\\stdlib\\v1.7\\Dates\\src\\arithmetic.jl:77</a></li> <li> +(x::<b>Dates.Date</b>, y::<b>Dates.Day</b>) in Dates at <a href=\"file://C:/buildbot/worker/package_win64/build/usr/share/julia/stdlib/v1.7/Dates/src/arithmetic.jl\" target=\"_blank\">C:\\Program Files\\MWorks.Syslab 2022\\Tools\\julia-1.7.1\\share\\julia\\stdlib\\v1.7\\Dates\\src\\arithmetic.jl:79</a></li> <li> +(x::<b>Dates.TimeType</b>) in Dates at <a href=\"file://C:/buildbot/worker/package_win64/build/usr/share/julia/stdlib/v1.7/Dates/src/arithmetic.jl\" target=\"_blank\">C:\\Program Files\\MWorks.Syslab 2022\\Tools\\julia-1.7.1\\share\\julia\\stdlib\\v1.7\\Dates\\src\\arithmetic.jl:8</a></li> <li> +(x::<b>Dates.AbstractTime</b>, y::<b>Missing</b>) in Dates at <a href=\"file://C:/buildbot/worker/package_win64/build/usr/share/julia/stdlib/v1.7/Dates/src/arithmetic.jl\" target=\"_blank\">C:\\Program Files\\MWorks.Syslab 2022\\Tools\\julia-1.7.1\\share\\julia\\stdlib\\v1.7\\Dates\\src\\arithmetic.jl:88</a></li> <li> +(a::<b>Dates.TimeType</b>, b::<b>Dates.Period</b>, c::<b>Dates.Period</b>) in Dates at <a href=\"file://C:/buildbot/worker/package_win64/build/usr/share/julia/stdlib/v1.7/Dates/src/periods.jl\" target=\"_blank\">C:\\Program Files\\MWorks.Syslab 2022\\Tools\\julia-1.7.1\\share\\julia\\stdlib\\v1.7\\Dates\\src\\periods.jl:383</a></li> <li> +(a::<b>Dates.TimeType</b>, b::<b>Dates.Period</b>, c::<b>Dates.Period</b>, d::<b>Dates.Period...</b>) in Dates at <a href=\"file://C:/buildbot/worker/package_win64/build/usr/share/julia/stdlib/v1.7/Dates/src/periods.jl\" target=\"_blank\">C:\\Program Files\\MWorks.Syslab 2022\\Tools\\julia-1.7.1\\share\\julia\\stdlib\\v1.7\\Dates\\src\\periods.jl:384</a></li> <li> +(x::<b>Dates.TimeType</b>, y::<b>Dates.CompoundPeriod</b>) in Dates at <a href=\"file://C:/buildbot/worker/package_win64/build/usr/share/julia/stdlib/v1.7/Dates/src/periods.jl\" target=\"_blank\">C:\\Program Files\\MWorks.Syslab 2022\\Tools\\julia-1.7.1\\share\\julia\\stdlib\\v1.7\\Dates\\src\\periods.jl:386</a></li> <li> +(x::<b>Float64</b>, y::<b>Float64</b>) in Base at <a href=\"https://github.com/JuliaLang/julia/tree/ac5cc99908d463582e66db3368b9b48fae1e2525/base/float.jl#L399\" target=\"_blank\">float.jl:399</a></li> <li> +(x::<b>Rational{BigInt}</b>, y::<b>Rational{BigInt}</b>) in Base.GMP.MPQ at <a href=\"https://github.com/JuliaLang/julia/tree/ac5cc99908d463582e66db3368b9b48fae1e2525/base/gmp.jl#L885\" target=\"_blank\">gmp.jl:885</a></li> <li> +(x::<b>Rational</b>) in Base at <a href=\"https://github.com/JuliaLang/julia/tree/ac5cc99908d463582e66db3368b9b48fae1e2525/base/rational.jl#L268\" target=\"_blank\">rational.jl:268</a></li> <li> +(x::<b>Rational</b>, y::<b>Rational</b>) in Base at <a href=\"https://github.com/JuliaLang/julia/tree/ac5cc99908d463582e66db3368b9b48fae1e2525/base/rational.jl#L282\" target=\"_blank\">rational.jl:282</a></li> <li> +(x::<b>Number</b>) in Base at <a href=\"https://github.com/JuliaLang/julia/tree/ac5cc99908d463582e66db3368b9b48fae1e2525/base/operators.jl#L592\" target=\"_blank\">operators.jl:592</a></li> <li> +(x::<b>T</b>, y::<b>T</b>)<i> where T<:Number</i> in Base at <a href=\"https://github.com/JuliaLang/julia/tree/ac5cc99908d463582e66db3368b9b48fae1e2525/base/promotion.jl#L454\" target=\"_blank\">promotion.jl:454</a></li> <li> +(x::<b>Number</b>, y::<b>Number</b>) in Base at <a href=\"https://github.com/JuliaLang/julia/tree/ac5cc99908d463582e66db3368b9b48fae1e2525/base/promotion.jl#L379\" target=\"_blank\">promotion.jl:379</a></li> <li> +(x::<b>Dates.CompoundPeriod</b>, y::<b>Dates.Period</b>) in Dates at <a href=\"file://C:/buildbot/worker/package_win64/build/usr/share/julia/stdlib/v1.7/Dates/src/periods.jl\" target=\"_blank\">C:\\Program Files\\MWorks.Syslab 2022\\Tools\\julia-1.7.1\\share\\julia\\stdlib\\v1.7\\Dates\\src\\periods.jl:362</a></li> <li> +(x::<b>Dates.CompoundPeriod</b>, y::<b>Dates.TimeType</b>) in Dates at <a href=\"file://C:/buildbot/worker/package_win64/build/usr/share/julia/stdlib/v1.7/Dates/src/periods.jl\" target=\"_blank\">C:\\Program Files\\MWorks.Syslab 2022\\Tools\\julia-1.7.1\\share\\julia\\stdlib\\v1.7\\Dates\\src\\periods.jl:392</a></li> <li> +(x::<b>Dates.CompoundPeriod</b>, y::<b>Dates.CompoundPeriod</b>) in Dates at <a href=\"file://C:/buildbot/worker/package_win64/build/usr/share/julia/stdlib/v1.7/Dates/src/periods.jl\" target=\"_blank\">C:\\Program Files\\MWorks.Syslab 2022\\Tools\\julia-1.7.1\\share\\julia\\stdlib\\v1.7\\Dates\\src\\periods.jl:364</a></li> <li> +(a, b, c, xs...) in Base at <a href=\"https://github.com/JuliaLang/julia/tree/ac5cc99908d463582e66db3368b9b48fae1e2525/base/operators.jl#L655\" target=\"_blank\">operators.jl:655</a></li> </ul>"
      ],
      "text/plain": [
       "# 208 methods for generic function \"+\":\n",
       "[1] +(x::T, y::T) where T<:Union{Int128, Int16, Int32, Int64, Int8, UInt128, UInt16, UInt32, UInt64, UInt8} in Base at int.jl:87\n",
       "[2] +(c::Union{UInt16, UInt32, UInt8}, x::BigInt) in Base.GMP at gmp.jl:529\n",
       "[3] +(c::Union{Int16, Int32, Int8}, x::BigInt) in Base.GMP at gmp.jl:535\n",
       "[4] +(c::Union{UInt16, UInt32, UInt8}, x::BigFloat) in Base.MPFR at mpfr.jl:390\n",
       "[5] +(c::Union{Int16, Int32, Int8}, x::BigFloat) in Base.MPFR at mpfr.jl:398\n",
       "[6] +(c::Union{Float16, Float32, Float64}, x::BigFloat) in Base.MPFR at mpfr.jl:406\n",
       "[7] +(x::Union{Dates.CompoundPeriod, Dates.Period}) in Dates at C:\\Program Files\\MWorks.Syslab 2022\\Tools\\julia-1.7.1\\share\\julia\\stdlib\\v1.7\\Dates\\src\\periods.jl:372\n",
       "[8] +(A::LinearAlgebra.Tridiagonal, B::LinearAlgebra.Tridiagonal) in LinearAlgebra at C:\\Program Files\\MWorks.Syslab 2022\\Tools\\julia-1.7.1\\share\\julia\\stdlib\\v1.7\\LinearAlgebra\\src\\tridiag.jl:740\n",
       "[9] +(x::LinearAlgebra.Tridiagonal, H::LinearAlgebra.UpperHessenberg) in LinearAlgebra at C:\\Program Files\\MWorks.Syslab 2022\\Tools\\julia-1.7.1\\share\\julia\\stdlib\\v1.7\\LinearAlgebra\\src\\hessenberg.jl:107\n",
       "[10] +(A::LinearAlgebra.Tridiagonal, B::LinearAlgebra.SymTridiagonal) in LinearAlgebra at C:\\Program Files\\MWorks.Syslab 2022\\Tools\\julia-1.7.1\\share\\julia\\stdlib\\v1.7\\LinearAlgebra\\src\\special.jl:157\n",
       "[11] +(A::LinearAlgebra.Tridiagonal, B::LinearAlgebra.Diagonal) in LinearAlgebra at C:\\Program Files\\MWorks.Syslab 2022\\Tools\\julia-1.7.1\\share\\julia\\stdlib\\v1.7\\LinearAlgebra\\src\\special.jl:173\n",
       "[12] +(A::LinearAlgebra.Tridiagonal, B::LinearAlgebra.Bidiagonal) in LinearAlgebra at C:\\Program Files\\MWorks.Syslab 2022\\Tools\\julia-1.7.1\\share\\julia\\stdlib\\v1.7\\LinearAlgebra\\src\\special.jl:193\n",
       "[13] +(A::LinearAlgebra.Tridiagonal{var\"#s859\", V} where {var\"#s859\"<:Number, V<:AbstractVector{var\"#s859\"}}, B::LinearAlgebra.UniformScaling) in LinearAlgebra at C:\\Program Files\\MWorks.Syslab 2022\\Tools\\julia-1.7.1\\share\\julia\\stdlib\\v1.7\\LinearAlgebra\\src\\special.jl:226\n",
       "[14] +(z::Complex, w::Complex) in Base at complex.jl:288\n",
       "[15] +(A::SparseArrays.AbstractSparseMatrixCSC, B::SparseArrays.AbstractSparseMatrixCSC) in SparseArrays at C:\\Program Files\\MWorks.Syslab 2022\\Tools\\julia-1.7.1\\share\\julia\\stdlib\\v1.7\\SparseArrays\\src\\sparsematrix.jl:1771\n",
       "[16] +(A::SparseArrays.AbstractSparseMatrixCSC, B::Array) in SparseArrays at C:\\Program Files\\MWorks.Syslab 2022\\Tools\\julia-1.7.1\\share\\julia\\stdlib\\v1.7\\SparseArrays\\src\\sparsematrix.jl:1774\n",
       "[17] +(A::SparseArrays.AbstractSparseMatrixCSC, J::LinearAlgebra.UniformScaling) in SparseArrays at C:\\Program Files\\MWorks.Syslab 2022\\Tools\\julia-1.7.1\\share\\julia\\stdlib\\v1.7\\SparseArrays\\src\\sparsematrix.jl:3760\n",
       "[18] +(F::LinearAlgebra.Hessenberg, J::LinearAlgebra.UniformScaling) in LinearAlgebra at C:\\Program Files\\MWorks.Syslab 2022\\Tools\\julia-1.7.1\\share\\julia\\stdlib\\v1.7\\LinearAlgebra\\src\\hessenberg.jl:640\n",
       "[19] +(Da::LinearAlgebra.Diagonal, Db::LinearAlgebra.Diagonal) in LinearAlgebra at C:\\Program Files\\MWorks.Syslab 2022\\Tools\\julia-1.7.1\\share\\julia\\stdlib\\v1.7\\LinearAlgebra\\src\\diagonal.jl:172\n",
       "[20] +(D::LinearAlgebra.Diagonal, S::LinearAlgebra.Symmetric) in LinearAlgebra at C:\\Program Files\\MWorks.Syslab 2022\\Tools\\julia-1.7.1\\share\\julia\\stdlib\\v1.7\\LinearAlgebra\\src\\diagonal.jl:176\n",
       "[21] +(D::LinearAlgebra.Diagonal{var\"#s859\", V} where {var\"#s859\"<:Real, V<:AbstractVector{var\"#s859\"}}, H::LinearAlgebra.Hermitian) in LinearAlgebra at C:\\Program Files\\MWorks.Syslab 2022\\Tools\\julia-1.7.1\\share\\julia\\stdlib\\v1.7\\LinearAlgebra\\src\\diagonal.jl:182\n",
       "[22] +(x::LinearAlgebra.Diagonal, H::LinearAlgebra.UpperHessenberg) in LinearAlgebra at C:\\Program Files\\MWorks.Syslab 2022\\Tools\\julia-1.7.1\\share\\julia\\stdlib\\v1.7\\LinearAlgebra\\src\\hessenberg.jl:107\n",
       "[23] +(A::LinearAlgebra.Diagonal, B::LinearAlgebra.Bidiagonal) in LinearAlgebra at C:\\Program Files\\MWorks.Syslab 2022\\Tools\\julia-1.7.1\\share\\julia\\stdlib\\v1.7\\LinearAlgebra\\src\\special.jl:125\n",
       "[24] +(A::LinearAlgebra.Diagonal, B::LinearAlgebra.SymTridiagonal) in LinearAlgebra at C:\\Program Files\\MWorks.Syslab 2022\\Tools\\julia-1.7.1\\share\\julia\\stdlib\\v1.7\\LinearAlgebra\\src\\special.jl:135\n",
       "[25] +(A::LinearAlgebra.Diagonal, B::LinearAlgebra.Tridiagonal) in LinearAlgebra at C:\\Program Files\\MWorks.Syslab 2022\\Tools\\julia-1.7.1\\share\\julia\\stdlib\\v1.7\\LinearAlgebra\\src\\special.jl:163\n",
       "[26] +(A::LinearAlgebra.Diagonal{var\"#s859\", V} where {var\"#s859\"<:Number, V<:AbstractVector{var\"#s859\"}}, B::LinearAlgebra.UniformScaling) in LinearAlgebra at C:\\Program Files\\MWorks.Syslab 2022\\Tools\\julia-1.7.1\\share\\julia\\stdlib\\v1.7\\LinearAlgebra\\src\\special.jl:241\n",
       "[27] +(x::P, y::P) where P<:Dates.Period in Dates at C:\\Program Files\\MWorks.Syslab 2022\\Tools\\julia-1.7.1\\share\\julia\\stdlib\\v1.7\\Dates\\src\\periods.jl:79\n",
       "[28] +(x::Dates.Period, y::Dates.Period) in Dates at C:\\Program Files\\MWorks.Syslab 2022\\Tools\\julia-1.7.1\\share\\julia\\stdlib\\v1.7\\Dates\\src\\periods.jl:361\n",
       "[29] +(y::Dates.Period, x::Dates.CompoundPeriod) in Dates at C:\\Program Files\\MWorks.Syslab 2022\\Tools\\julia-1.7.1\\share\\julia\\stdlib\\v1.7\\Dates\\src\\periods.jl:363\n",
       "[30] +(y::Dates.Period, x::Dates.TimeType) in Dates at C:\\Program Files\\MWorks.Syslab 2022\\Tools\\julia-1.7.1\\share\\julia\\stdlib\\v1.7\\Dates\\src\\arithmetic.jl:85\n",
       "[31] +(x::Dates.Period, r::AbstractRange{<:Dates.TimeType}) in Dates at C:\\Program Files\\MWorks.Syslab 2022\\Tools\\julia-1.7.1\\share\\julia\\stdlib\\v1.7\\Dates\\src\\ranges.jl:62\n",
       "[32] +(y::Union{Dates.CompoundPeriod, Dates.Period}, x::AbstractArray{<:Dates.TimeType}) in Dates at C:\\Program Files\\MWorks.Syslab 2022\\Tools\\julia-1.7.1\\share\\julia\\stdlib\\v1.7\\Dates\\src\\deprecated.jl:14\n",
       "[33] +(A::LinearAlgebra.SymTridiagonal, B::LinearAlgebra.SymTridiagonal) in LinearAlgebra at C:\\Program Files\\MWorks.Syslab 2022\\Tools\\julia-1.7.1\\share\\julia\\stdlib\\v1.7\\LinearAlgebra\\src\\tridiag.jl:208\n",
       "[34] +(A::LinearAlgebra.SymTridiagonal, B::LinearAlgebra.Symmetric) in LinearAlgebra at C:\\Program Files\\MWorks.Syslab 2022\\Tools\\julia-1.7.1\\share\\julia\\stdlib\\v1.7\\LinearAlgebra\\src\\symmetric.jl:485\n",
       "[35] +(A::LinearAlgebra.SymTridiagonal{var\"#s857\", V} where {var\"#s857\"<:Real, V<:AbstractVector{var\"#s857\"}}, B::LinearAlgebra.Hermitian) in LinearAlgebra at C:\\Program Files\\MWorks.Syslab 2022\\Tools\\julia-1.7.1\\share\\julia\\stdlib\\v1.7\\LinearAlgebra\\src\\symmetric.jl:487\n",
       "[36] +(x::LinearAlgebra.SymTridiagonal, H::LinearAlgebra.UpperHessenberg) in LinearAlgebra at C:\\Program Files\\MWorks.Syslab 2022\\Tools\\julia-1.7.1\\share\\julia\\stdlib\\v1.7\\LinearAlgebra\\src\\hessenberg.jl:107\n",
       "[37] +(A::LinearAlgebra.SymTridiagonal, B::LinearAlgebra.Diagonal) in LinearAlgebra at C:\\Program Files\\MWorks.Syslab 2022\\Tools\\julia-1.7.1\\share\\julia\\stdlib\\v1.7\\LinearAlgebra\\src\\special.jl:145\n",
       "[38] +(A::LinearAlgebra.SymTridiagonal, B::LinearAlgebra.Tridiagonal) in LinearAlgebra at C:\\Program Files\\MWorks.Syslab 2022\\Tools\\julia-1.7.1\\share\\julia\\stdlib\\v1.7\\LinearAlgebra\\src\\special.jl:159\n",
       "[39] +(A::LinearAlgebra.SymTridiagonal, B::LinearAlgebra.Bidiagonal) in LinearAlgebra at C:\\Program Files\\MWorks.Syslab 2022\\Tools\\julia-1.7.1\\share\\julia\\stdlib\\v1.7\\LinearAlgebra\\src\\special.jl:213\n",
       "[40] +(A::LinearAlgebra.SymTridiagonal{var\"#s859\", V} where {var\"#s859\"<:Number, V<:AbstractVector{var\"#s859\"}}, B::LinearAlgebra.UniformScaling) in LinearAlgebra at C:\\Program Files\\MWorks.Syslab 2022\\Tools\\julia-1.7.1\\share\\julia\\stdlib\\v1.7\\LinearAlgebra\\src\\special.jl:231\n",
       "[41] +(x::Rational, y::Integer) in Base at rational.jl:311\n",
       "[42] +(x::Dates.Instant) in Dates at C:\\Program Files\\MWorks.Syslab 2022\\Tools\\julia-1.7.1\\share\\julia\\stdlib\\v1.7\\Dates\\src\\arithmetic.jl:4\n",
       "[43] +(A::LinearAlgebra.UnitUpperTriangular, B::LinearAlgebra.UpperTriangular) in LinearAlgebra at C:\\Program Files\\MWorks.Syslab 2022\\Tools\\julia-1.7.1\\share\\julia\\stdlib\\v1.7\\LinearAlgebra\\src\\triangular.jl:640\n",
       "[44] +(A::LinearAlgebra.UnitUpperTriangular, B::LinearAlgebra.UnitUpperTriangular) in LinearAlgebra at C:\\Program Files\\MWorks.Syslab 2022\\Tools\\julia-1.7.1\\share\\julia\\stdlib\\v1.7\\LinearAlgebra\\src\\triangular.jl:642\n",
       "[45] +(UL::LinearAlgebra.UnitUpperTriangular, J::LinearAlgebra.UniformScaling) in LinearAlgebra at C:\\Program Files\\MWorks.Syslab 2022\\Tools\\julia-1.7.1\\share\\julia\\stdlib\\v1.7\\LinearAlgebra\\src\\uniformscaling.jl:182\n",
       "[46] +(x::LinearAlgebra.UnitUpperTriangular, H::LinearAlgebra.UpperHessenberg) in LinearAlgebra at C:\\Program Files\\MWorks.Syslab 2022\\Tools\\julia-1.7.1\\share\\julia\\stdlib\\v1.7\\LinearAlgebra\\src\\hessenberg.jl:107\n",
       "[47] +(A::LinearAlgebra.UnitUpperTriangular, B::LinearAlgebra.Bidiagonal) in LinearAlgebra at C:\\Program Files\\MWorks.Syslab 2022\\Tools\\julia-1.7.1\\share\\julia\\stdlib\\v1.7\\LinearAlgebra\\src\\special.jl:86\n",
       "[48] +(x::AbstractIrrational, y::AbstractIrrational) in Base at irrationals.jl:158\n",
       "[49] +(A::LinearAlgebra.Hermitian, B::LinearAlgebra.Hermitian) in LinearAlgebra at C:\\Program Files\\MWorks.Syslab 2022\\Tools\\julia-1.7.1\\share\\julia\\stdlib\\v1.7\\LinearAlgebra\\src\\symmetric.jl:469\n",
       "[50] +(A::LinearAlgebra.Hermitian, B::LinearAlgebra.SymTridiagonal{var\"#s856\", V} where {var\"#s856\"<:Real, V<:AbstractVector{var\"#s856\"}}) in LinearAlgebra at C:\\Program Files\\MWorks.Syslab 2022\\Tools\\julia-1.7.1\\share\\julia\\stdlib\\v1.7\\LinearAlgebra\\src\\symmetric.jl:488\n",
       "[51] +(H::LinearAlgebra.Hermitian, D::LinearAlgebra.Diagonal{var\"#s859\", V} where {var\"#s859\"<:Real, V<:AbstractVector{var\"#s859\"}}) in LinearAlgebra at C:\\Program Files\\MWorks.Syslab 2022\\Tools\\julia-1.7.1\\share\\julia\\stdlib\\v1.7\\LinearAlgebra\\src\\diagonal.jl:185\n",
       "[52] +(A::LinearAlgebra.Hermitian, J::LinearAlgebra.UniformScaling{<:Complex}) in LinearAlgebra at C:\\Program Files\\MWorks.Syslab 2022\\Tools\\julia-1.7.1\\share\\julia\\stdlib\\v1.7\\LinearAlgebra\\src\\uniformscaling.jl:196\n",
       "[53] +(A::LinearAlgebra.Hermitian{<:Any, <:SparseArrays.AbstractSparseMatrix}, B::SparseArrays.AbstractSparseMatrix) in SparseArrays at C:\\Program Files\\MWorks.Syslab 2022\\Tools\\julia-1.7.1\\share\\julia\\stdlib\\v1.7\\SparseArrays\\src\\linalg.jl:15\n",
       "[54] +(A::LinearAlgebra.Hermitian, B::SparseArrays.AbstractSparseMatrix) in SparseArrays at C:\\Program Files\\MWorks.Syslab 2022\\Tools\\julia-1.7.1\\share\\julia\\stdlib\\v1.7\\SparseArrays\\src\\linalg.jl:18\n",
       "[55] +(A::LinearAlgebra.Hermitian{<:Any, <:SparseArrays.AbstractSparseMatrix}, B::LinearAlgebra.Symmetric{<:Real, <:SparseArrays.AbstractSparseMatrix}) in SparseArrays at C:\\Program Files\\MWorks.Syslab 2022\\Tools\\julia-1.7.1\\share\\julia\\stdlib\\v1.7\\SparseArrays\\src\\linalg.jl:26\n",
       "[56] +(A::LinearAlgebra.Hermitian, B::LinearAlgebra.Symmetric{var\"#s859\", S} where {var\"#s859\"<:Real, S<:(AbstractMatrix{<:var\"#s859\"})}) in LinearAlgebra at C:\\Program Files\\MWorks.Syslab 2022\\Tools\\julia-1.7.1\\share\\julia\\stdlib\\v1.7\\LinearAlgebra\\src\\symmetric.jl:483\n",
       "[57] +(A::LinearAlgebra.Hermitian{<:Any, <:SparseArrays.AbstractSparseMatrix}, B::LinearAlgebra.Symmetric{<:Any, <:SparseArrays.AbstractSparseMatrix}) in SparseArrays at C:\\Program Files\\MWorks.Syslab 2022\\Tools\\julia-1.7.1\\share\\julia\\stdlib\\v1.7\\SparseArrays\\src\\linalg.jl:24\n",
       "[58] +(x::Base.TwicePrecision, y::Number) in Base at twiceprecision.jl:279\n",
       "[59] +(x::Base.TwicePrecision{T}, y::Base.TwicePrecision{T}) where T in Base at twiceprecision.jl:285\n",
       "[60] +(x::Base.TwicePrecision, y::Base.TwicePrecision) in Base at twiceprecision.jl:290\n",
       "[61] +(x::SparseArrays.AbstractSparseVector, y::SparseArrays.AbstractSparseVector) in SparseArrays at C:\\Program Files\\MWorks.Syslab 2022\\Tools\\julia-1.7.1\\share\\julia\\stdlib\\v1.7\\SparseArrays\\src\\sparsevector.jl:1355\n",
       "[62] +(A::SparseArrays.AbstractSparseMatrix, B::LinearAlgebra.Hermitian{<:Any, <:SparseArrays.AbstractSparseMatrix}) in SparseArrays at C:\\Program Files\\MWorks.Syslab 2022\\Tools\\julia-1.7.1\\share\\julia\\stdlib\\v1.7\\SparseArrays\\src\\linalg.jl:14\n",
       "[63] +(A::SparseArrays.AbstractSparseMatrix, B::LinearAlgebra.Hermitian) in SparseArrays at C:\\Program Files\\MWorks.Syslab 2022\\Tools\\julia-1.7.1\\share\\julia\\stdlib\\v1.7\\SparseArrays\\src\\linalg.jl:17\n",
       "[64] +(A::SparseArrays.AbstractSparseMatrix, B::LinearAlgebra.Symmetric{<:Any, <:SparseArrays.AbstractSparseMatrix}) in SparseArrays at C:\\Program Files\\MWorks.Syslab 2022\\Tools\\julia-1.7.1\\share\\julia\\stdlib\\v1.7\\SparseArrays\\src\\linalg.jl:14\n",
       "[65] +(A::SparseArrays.AbstractSparseMatrix, B::LinearAlgebra.Symmetric) in SparseArrays at C:\\Program Files\\MWorks.Syslab 2022\\Tools\\julia-1.7.1\\share\\julia\\stdlib\\v1.7\\SparseArrays\\src\\linalg.jl:17\n",
       "[66] +(A::LinearAlgebra.Bidiagonal, B::LinearAlgebra.Bidiagonal) in LinearAlgebra at C:\\Program Files\\MWorks.Syslab 2022\\Tools\\julia-1.7.1\\share\\julia\\stdlib\\v1.7\\LinearAlgebra\\src\\bidiag.jl:354\n",
       "[67] +(x::LinearAlgebra.Bidiagonal, H::LinearAlgebra.UpperHessenberg) in LinearAlgebra at C:\\Program Files\\MWorks.Syslab 2022\\Tools\\julia-1.7.1\\share\\julia\\stdlib\\v1.7\\LinearAlgebra\\src\\hessenberg.jl:107\n",
       "[68] +(A::LinearAlgebra.Bidiagonal, B::LinearAlgebra.UpperTriangular) in LinearAlgebra at C:\\Program Files\\MWorks.Syslab 2022\\Tools\\julia-1.7.1\\share\\julia\\stdlib\\v1.7\\LinearAlgebra\\src\\special.jl:94\n",
       "[69] +(A::LinearAlgebra.Bidiagonal, B::LinearAlgebra.UnitUpperTriangular) in LinearAlgebra at C:\\Program Files\\MWorks.Syslab 2022\\Tools\\julia-1.7.1\\share\\julia\\stdlib\\v1.7\\LinearAlgebra\\src\\special.jl:94\n",
       "[70] +(A::LinearAlgebra.Bidiagonal, B::LinearAlgebra.LowerTriangular) in LinearAlgebra at C:\\Program Files\\MWorks.Syslab 2022\\Tools\\julia-1.7.1\\share\\julia\\stdlib\\v1.7\\LinearAlgebra\\src\\special.jl:94\n",
       "[71] +(A::LinearAlgebra.Bidiagonal, B::LinearAlgebra.UnitLowerTriangular) in LinearAlgebra at C:\\Program Files\\MWorks.Syslab 2022\\Tools\\julia-1.7.1\\share\\julia\\stdlib\\v1.7\\LinearAlgebra\\src\\special.jl:94\n",
       "[72] +(A::LinearAlgebra.Bidiagonal, B::LinearAlgebra.Diagonal) in LinearAlgebra at C:\\Program Files\\MWorks.Syslab 2022\\Tools\\julia-1.7.1\\share\\julia\\stdlib\\v1.7\\LinearAlgebra\\src\\special.jl:115\n",
       "[73] +(A::LinearAlgebra.Bidiagonal, B::LinearAlgebra.Tridiagonal) in LinearAlgebra at C:\\Program Files\\MWorks.Syslab 2022\\Tools\\julia-1.7.1\\share\\julia\\stdlib\\v1.7\\LinearAlgebra\\src\\special.jl:183\n",
       "[74] +(A::LinearAlgebra.Bidiagonal, B::LinearAlgebra.SymTridiagonal) in LinearAlgebra at C:\\Program Files\\MWorks.Syslab 2022\\Tools\\julia-1.7.1\\share\\julia\\stdlib\\v1.7\\LinearAlgebra\\src\\special.jl:203\n",
       "[75] +(A::LinearAlgebra.Bidiagonal{var\"#s859\", V} where {var\"#s859\"<:Number, V<:AbstractVector{var\"#s859\"}}, B::LinearAlgebra.UniformScaling) in LinearAlgebra at C:\\Program Files\\MWorks.Syslab 2022\\Tools\\julia-1.7.1\\share\\julia\\stdlib\\v1.7\\LinearAlgebra\\src\\special.jl:236\n",
       "[76] +(A::LinearAlgebra.UnitLowerTriangular, B::LinearAlgebra.LowerTriangular) in LinearAlgebra at C:\\Program Files\\MWorks.Syslab 2022\\Tools\\julia-1.7.1\\share\\julia\\stdlib\\v1.7\\LinearAlgebra\\src\\triangular.jl:641\n",
       "[77] +(A::LinearAlgebra.UnitLowerTriangular, B::LinearAlgebra.UnitLowerTriangular) in LinearAlgebra at C:\\Program Files\\MWorks.Syslab 2022\\Tools\\julia-1.7.1\\share\\julia\\stdlib\\v1.7\\LinearAlgebra\\src\\triangular.jl:643\n",
       "[78] +(UL::LinearAlgebra.UnitLowerTriangular, J::LinearAlgebra.UniformScaling) in LinearAlgebra at C:\\Program Files\\MWorks.Syslab 2022\\Tools\\julia-1.7.1\\share\\julia\\stdlib\\v1.7\\LinearAlgebra\\src\\uniformscaling.jl:182\n",
       "[79] +(A::LinearAlgebra.UnitLowerTriangular, B::LinearAlgebra.Bidiagonal) in LinearAlgebra at C:\\Program Files\\MWorks.Syslab 2022\\Tools\\julia-1.7.1\\share\\julia\\stdlib\\v1.7\\LinearAlgebra\\src\\special.jl:86\n",
       "[80] +(index1::CartesianIndex{N}, index2::CartesianIndex{N}) where N in Base.IteratorsMD at multidimensional.jl:114\n",
       "[81] +(J::LinearAlgebra.UniformScaling) in LinearAlgebra at C:\\Program Files\\MWorks.Syslab 2022\\Tools\\julia-1.7.1\\share\\julia\\stdlib\\v1.7\\LinearAlgebra\\src\\uniformscaling.jl:150\n",
       "[82] +(J::LinearAlgebra.UniformScaling, x::Number) in LinearAlgebra at C:\\Program Files\\MWorks.Syslab 2022\\Tools\\julia-1.7.1\\share\\julia\\stdlib\\v1.7\\LinearAlgebra\\src\\uniformscaling.jl:145\n",
       "[83] +(J1::LinearAlgebra.UniformScaling, J2::LinearAlgebra.UniformScaling) in LinearAlgebra at C:\\Program Files\\MWorks.Syslab 2022\\Tools\\julia-1.7.1\\share\\julia\\stdlib\\v1.7\\LinearAlgebra\\src\\uniformscaling.jl:151\n",
       "[84] +(J::LinearAlgebra.UniformScaling, B::BitMatrix) in LinearAlgebra at C:\\Program Files\\MWorks.Syslab 2022\\Tools\\julia-1.7.1\\share\\julia\\stdlib\\v1.7\\LinearAlgebra\\src\\uniformscaling.jl:153\n",
       "[85] +(x::LinearAlgebra.UniformScaling, H::LinearAlgebra.UpperHessenberg) in LinearAlgebra at C:\\Program Files\\MWorks.Syslab 2022\\Tools\\julia-1.7.1\\share\\julia\\stdlib\\v1.7\\LinearAlgebra\\src\\hessenberg.jl:107\n",
       "[86] +(J::LinearAlgebra.UniformScaling, F::LinearAlgebra.Hessenberg) in LinearAlgebra at C:\\Program Files\\MWorks.Syslab 2022\\Tools\\julia-1.7.1\\share\\julia\\stdlib\\v1.7\\LinearAlgebra\\src\\hessenberg.jl:641\n",
       "[87] +(A::LinearAlgebra.UniformScaling, B::LinearAlgebra.Tridiagonal{var\"#s859\", V} where {var\"#s859\"<:Number, V<:AbstractVector{var\"#s859\"}}) in LinearAlgebra at C:\\Program Files\\MWorks.Syslab 2022\\Tools\\julia-1.7.1\\share\\julia\\stdlib\\v1.7\\LinearAlgebra\\src\\special.jl:245\n",
       "[88] +(A::LinearAlgebra.UniformScaling, B::LinearAlgebra.SymTridiagonal{var\"#s859\", V} where {var\"#s859\"<:Number, V<:AbstractVector{var\"#s859\"}}) in LinearAlgebra at C:\\Program Files\\MWorks.Syslab 2022\\Tools\\julia-1.7.1\\share\\julia\\stdlib\\v1.7\\LinearAlgebra\\src\\special.jl:250\n",
       "[89] +(A::LinearAlgebra.UniformScaling, B::LinearAlgebra.Bidiagonal{var\"#s859\", V} where {var\"#s859\"<:Number, V<:AbstractVector{var\"#s859\"}}) in LinearAlgebra at C:\\Program Files\\MWorks.Syslab 2022\\Tools\\julia-1.7.1\\share\\julia\\stdlib\\v1.7\\LinearAlgebra\\src\\special.jl:255\n",
       "[90] +(A::LinearAlgebra.UniformScaling, B::LinearAlgebra.Diagonal{var\"#s859\", V} where {var\"#s859\"<:Number, V<:AbstractVector{var\"#s859\"}}) in LinearAlgebra at C:\\Program Files\\MWorks.Syslab 2022\\Tools\\julia-1.7.1\\share\\julia\\stdlib\\v1.7\\LinearAlgebra\\src\\special.jl:260\n",
       "[91] +(J::LinearAlgebra.UniformScaling, A::AbstractMatrix) in LinearAlgebra at C:\\Program Files\\MWorks.Syslab 2022\\Tools\\julia-1.7.1\\share\\julia\\stdlib\\v1.7\\LinearAlgebra\\src\\uniformscaling.jl:154\n",
       "[92] +(A::LinearAlgebra.LowerTriangular, B::LinearAlgebra.LowerTriangular) in LinearAlgebra at C:\\Program Files\\MWorks.Syslab 2022\\Tools\\julia-1.7.1\\share\\julia\\stdlib\\v1.7\\LinearAlgebra\\src\\triangular.jl:637\n",
       "[93] +(A::LinearAlgebra.LowerTriangular, B::LinearAlgebra.UnitLowerTriangular) in LinearAlgebra at C:\\Program Files\\MWorks.Syslab 2022\\Tools\\julia-1.7.1\\share\\julia\\stdlib\\v1.7\\LinearAlgebra\\src\\triangular.jl:639\n",
       "[94] +(A::LinearAlgebra.LowerTriangular, B::LinearAlgebra.Bidiagonal) in LinearAlgebra at C:\\Program Files\\MWorks.Syslab 2022\\Tools\\julia-1.7.1\\share\\julia\\stdlib\\v1.7\\LinearAlgebra\\src\\special.jl:86\n",
       "[95] +(r1::LinRange{T}, r2::LinRange{T}) where T in Base at range.jl:1354\n",
       "[96] +(x::Ptr, y::Integer) in Base at pointer.jl:159\n",
       "[97] +(r1::OrdinalRange, r2::OrdinalRange) in Base at range.jl:1347\n",
       "[98] +(x::T, y::Integer) where T<:AbstractChar in Base at char.jl:237\n",
       "[99] +(A::BitArray, B::BitArray) in Base at bitarray.jl:1180\n",
       "[100] +(r::AbstractRange{<:Dates.TimeType}, x::Dates.Period) in Dates at C:\\Program Files\\MWorks.Syslab 2022\\Tools\\julia-1.7.1\\share\\julia\\stdlib\\v1.7\\Dates\\src\\ranges.jl:63\n",
       "[101] +(x::AbstractArray{<:Dates.TimeType}, y::Union{Dates.CompoundPeriod, Dates.Period}) in Dates at C:\\Program Files\\MWorks.Syslab 2022\\Tools\\julia-1.7.1\\share\\julia\\stdlib\\v1.7\\Dates\\src\\deprecated.jl:6\n",
       "[102] +(A::LinearAlgebra.Symmetric, B::LinearAlgebra.Symmetric) in LinearAlgebra at C:\\Program Files\\MWorks.Syslab 2022\\Tools\\julia-1.7.1\\share\\julia\\stdlib\\v1.7\\LinearAlgebra\\src\\symmetric.jl:469\n",
       "[103] +(A::LinearAlgebra.Symmetric, B::LinearAlgebra.SymTridiagonal) in LinearAlgebra at C:\\Program Files\\MWorks.Syslab 2022\\Tools\\julia-1.7.1\\share\\julia\\stdlib\\v1.7\\LinearAlgebra\\src\\symmetric.jl:486\n",
       "[104] +(S::LinearAlgebra.Symmetric, D::LinearAlgebra.Diagonal) in LinearAlgebra at C:\\Program Files\\MWorks.Syslab 2022\\Tools\\julia-1.7.1\\share\\julia\\stdlib\\v1.7\\LinearAlgebra\\src\\diagonal.jl:179\n",
       "[105] +(A::LinearAlgebra.Symmetric{<:Any, <:SparseArrays.AbstractSparseMatrix}, B::SparseArrays.AbstractSparseMatrix) in SparseArrays at C:\\Program Files\\MWorks.Syslab 2022\\Tools\\julia-1.7.1\\share\\julia\\stdlib\\v1.7\\SparseArrays\\src\\linalg.jl:15\n",
       "[106] +(A::LinearAlgebra.Symmetric, B::SparseArrays.AbstractSparseMatrix) in SparseArrays at C:\\Program Files\\MWorks.Syslab 2022\\Tools\\julia-1.7.1\\share\\julia\\stdlib\\v1.7\\SparseArrays\\src\\linalg.jl:18\n",
       "[107] +(A::LinearAlgebra.Symmetric{<:Real, <:SparseArrays.AbstractSparseMatrix}, B::LinearAlgebra.Hermitian{<:Any, <:SparseArrays.AbstractSparseMatrix}) in SparseArrays at C:\\Program Files\\MWorks.Syslab 2022\\Tools\\julia-1.7.1\\share\\julia\\stdlib\\v1.7\\SparseArrays\\src\\linalg.jl:25\n",
       "[108] +(A::LinearAlgebra.Symmetric{var\"#s858\", S} where {var\"#s858\"<:Real, S<:(AbstractMatrix{<:var\"#s858\"})}, B::LinearAlgebra.Hermitian) in LinearAlgebra at C:\\Program Files\\MWorks.Syslab 2022\\Tools\\julia-1.7.1\\share\\julia\\stdlib\\v1.7\\LinearAlgebra\\src\\symmetric.jl:484\n",
       "[109] +(A::LinearAlgebra.Symmetric{<:Any, <:SparseArrays.AbstractSparseMatrix}, B::LinearAlgebra.Hermitian{<:Any, <:SparseArrays.AbstractSparseMatrix}) in SparseArrays at C:\\Program Files\\MWorks.Syslab 2022\\Tools\\julia-1.7.1\\share\\julia\\stdlib\\v1.7\\SparseArrays\\src\\linalg.jl:23\n",
       "[110] +(A::LinearAlgebra.UpperTriangular, B::LinearAlgebra.UpperTriangular) in LinearAlgebra at C:\\Program Files\\MWorks.Syslab 2022\\Tools\\julia-1.7.1\\share\\julia\\stdlib\\v1.7\\LinearAlgebra\\src\\triangular.jl:636\n",
       "[111] +(A::LinearAlgebra.UpperTriangular, B::LinearAlgebra.UnitUpperTriangular) in LinearAlgebra at C:\\Program Files\\MWorks.Syslab 2022\\Tools\\julia-1.7.1\\share\\julia\\stdlib\\v1.7\\LinearAlgebra\\src\\triangular.jl:638\n",
       "[112] +(A::LinearAlgebra.AbstractTriangular, B::LinearAlgebra.AbstractTriangular) in LinearAlgebra at C:\\Program Files\\MWorks.Syslab 2022\\Tools\\julia-1.7.1\\share\\julia\\stdlib\\v1.7\\LinearAlgebra\\src\\triangular.jl:644\n",
       "[113] +(x::LinearAlgebra.UpperTriangular, H::LinearAlgebra.UpperHessenberg) in LinearAlgebra at C:\\Program Files\\MWorks.Syslab 2022\\Tools\\julia-1.7.1\\share\\julia\\stdlib\\v1.7\\LinearAlgebra\\src\\hessenberg.jl:107\n",
       "[114] +(A::LinearAlgebra.UpperTriangular, B::LinearAlgebra.Bidiagonal) in LinearAlgebra at C:\\Program Files\\MWorks.Syslab 2022\\Tools\\julia-1.7.1\\share\\julia\\stdlib\\v1.7\\LinearAlgebra\\src\\special.jl:86\n",
       "[115] +(y::Dates.TimeType, x::StridedArray{<:Union{Dates.CompoundPeriod, Dates.Period}}) in Dates at C:\\Program Files\\MWorks.Syslab 2022\\Tools\\julia-1.7.1\\share\\julia\\stdlib\\v1.7\\Dates\\src\\deprecated.jl:18\n",
       "[116] +(r1::StepRangeLen{T, R}, r2::StepRangeLen{T, R}) where {R<:Base.TwicePrecision, T} in Base at twiceprecision.jl:613\n",
       "[117] +(r1::StepRangeLen{T, S}, r2::StepRangeLen{T, S}) where {T, S} in Base at range.jl:1370\n",
       "[118] +(r1::Union{LinRange, OrdinalRange, StepRangeLen}, r2::Union{LinRange, OrdinalRange, StepRangeLen}) in Base at range.jl:1363\n",
       "[119] +(A::LinearAlgebra.UpperHessenberg, B::LinearAlgebra.UpperHessenberg) in LinearAlgebra at C:\\Program Files\\MWorks.Syslab 2022\\Tools\\julia-1.7.1\\share\\julia\\stdlib\\v1.7\\LinearAlgebra\\src\\hessenberg.jl:99\n",
       "[120] +(H::LinearAlgebra.UpperHessenberg, x::LinearAlgebra.UniformScaling) in LinearAlgebra at C:\\Program Files\\MWorks.Syslab 2022\\Tools\\julia-1.7.1\\share\\julia\\stdlib\\v1.7\\LinearAlgebra\\src\\hessenberg.jl:106\n",
       "[121] +(H::LinearAlgebra.UpperHessenberg, x::LinearAlgebra.Diagonal) in LinearAlgebra at C:\\Program Files\\MWorks.Syslab 2022\\Tools\\julia-1.7.1\\share\\julia\\stdlib\\v1.7\\LinearAlgebra\\src\\hessenberg.jl:106\n",
       "[122] +(H::LinearAlgebra.UpperHessenberg, x::LinearAlgebra.Bidiagonal) in LinearAlgebra at C:\\Program Files\\MWorks.Syslab 2022\\Tools\\julia-1.7.1\\share\\julia\\stdlib\\v1.7\\LinearAlgebra\\src\\hessenberg.jl:106\n",
       "[123] +(H::LinearAlgebra.UpperHessenberg, x::LinearAlgebra.Tridiagonal) in LinearAlgebra at C:\\Program Files\\MWorks.Syslab 2022\\Tools\\julia-1.7.1\\share\\julia\\stdlib\\v1.7\\LinearAlgebra\\src\\hessenberg.jl:106\n",
       "[124] +(H::LinearAlgebra.UpperHessenberg, x::LinearAlgebra.SymTridiagonal) in LinearAlgebra at C:\\Program Files\\MWorks.Syslab 2022\\Tools\\julia-1.7.1\\share\\julia\\stdlib\\v1.7\\LinearAlgebra\\src\\hessenberg.jl:106\n",
       "[125] +(H::LinearAlgebra.UpperHessenberg, x::LinearAlgebra.UpperTriangular) in LinearAlgebra at C:\\Program Files\\MWorks.Syslab 2022\\Tools\\julia-1.7.1\\share\\julia\\stdlib\\v1.7\\LinearAlgebra\\src\\hessenberg.jl:106\n",
       "[126] +(H::LinearAlgebra.UpperHessenberg, x::LinearAlgebra.UnitUpperTriangular) in LinearAlgebra at C:\\Program Files\\MWorks.Syslab 2022\\Tools\\julia-1.7.1\\share\\julia\\stdlib\\v1.7\\LinearAlgebra\\src\\hessenberg.jl:106\n",
       "[127] +(A::Array, Bs::Array...) in Base at arraymath.jl:43\n",
       "[128] +(X::StridedArray{<:Union{Dates.CompoundPeriod, Dates.Period}}, Y::StridedArray{<:Union{Dates.CompoundPeriod, Dates.Period}}) in Dates at C:\\Program Files\\MWorks.Syslab 2022\\Tools\\julia-1.7.1\\share\\julia\\stdlib\\v1.7\\Dates\\src\\deprecated.jl:62\n",
       "[129] +(A::Array, B::SparseArrays.AbstractSparseMatrixCSC) in SparseArrays at C:\\Program Files\\MWorks.Syslab 2022\\Tools\\julia-1.7.1\\share\\julia\\stdlib\\v1.7\\SparseArrays\\src\\sparsematrix.jl:1775\n",
       "[130] +(x::StridedArray{<:Union{Dates.CompoundPeriod, Dates.Period}}) in Dates at C:\\Program Files\\MWorks.Syslab 2022\\Tools\\julia-1.7.1\\share\\julia\\stdlib\\v1.7\\Dates\\src\\deprecated.jl:55\n",
       "[131] +(x::StridedArray{<:Union{Dates.CompoundPeriod, Dates.Period}}, y::Dates.TimeType) in Dates at C:\\Program Files\\MWorks.Syslab 2022\\Tools\\julia-1.7.1\\share\\julia\\stdlib\\v1.7\\Dates\\src\\deprecated.jl:10\n",
       "[132] +(A::AbstractArray, B::AbstractArray) in Base at arraymath.jl:37\n",
       "[133] +(y::AbstractFloat, x::Bool) in Base at bool.jl:172\n",
       "[134] +(::Missing) in Base at missing.jl:101\n",
       "[135] +(::Missing, ::Number) in Base at missing.jl:123\n",
       "[136] +(x::Missing, y::Dates.AbstractTime) in Dates at C:\\Program Files\\MWorks.Syslab 2022\\Tools\\julia-1.7.1\\share\\julia\\stdlib\\v1.7\\Dates\\src\\arithmetic.jl:89\n",
       "[137] +(::Missing, ::Missing) in Base at missing.jl:122\n",
       "[138] +(a::Pkg.Resolve.FieldValue, b::Pkg.Resolve.FieldValue) in Pkg.Resolve at C:\\Program Files\\MWorks.Syslab 2022\\Tools\\julia-1.7.1\\share\\julia\\stdlib\\v1.7\\Pkg\\src\\Resolve\\fieldvalues.jl:43\n",
       "[139] +(x::Bool) in Base at bool.jl:159\n",
       "[140] +(x::Integer, y::Ptr) in Base at pointer.jl:161\n",
       "[141] +(y::Integer, x::Rational) in Base at rational.jl:318\n",
       "[142] +(x::Integer, y::AbstractChar) in Base at char.jl:247\n",
       "[143] +(x::Number, y::Base.TwicePrecision) in Base at twiceprecision.jl:283\n",
       "[144] +(::Number, ::Missing) in Base at missing.jl:124\n",
       "[145] +(x::Number, J::LinearAlgebra.UniformScaling) in LinearAlgebra at C:\\Program Files\\MWorks.Syslab 2022\\Tools\\julia-1.7.1\\share\\julia\\stdlib\\v1.7\\LinearAlgebra\\src\\uniformscaling.jl:146\n",
       "[146] +(x::Bool, y::T) where T<:AbstractFloat in Base at bool.jl:169\n",
       "[147] +(x::Bool, y::Bool) in Base at bool.jl:162\n",
       "[148] +(x::Bool, z::Complex{Bool}) in Base at complex.jl:299\n",
       "[149] +(x::Real, z::Complex{Bool}) in Base at complex.jl:313\n",
       "[150] +(x::Bool, z::Complex) in Base at complex.jl:306\n",
       "[151] +(x::Real, z::Complex) in Base at complex.jl:325\n",
       "[152] +(level::Base.CoreLogging.LogLevel, inc::Integer) in Base.CoreLogging at logging.jl:131\n",
       "[153] +(a::Pkg.Resolve.VersionWeight, b::Pkg.Resolve.VersionWeight) in Pkg.Resolve at C:\\Program Files\\MWorks.Syslab 2022\\Tools\\julia-1.7.1\\share\\julia\\stdlib\\v1.7\\Pkg\\src\\Resolve\\versionweights.jl:22\n",
       "[154] +(x::Float16, y::Float16) in Base at float.jl:397\n",
       "[155] +(B::BitMatrix, J::LinearAlgebra.UniformScaling) in LinearAlgebra at C:\\Program Files\\MWorks.Syslab 2022\\Tools\\julia-1.7.1\\share\\julia\\stdlib\\v1.7\\LinearAlgebra\\src\\uniformscaling.jl:152\n",
       "[156] +(A::AbstractMatrix, J::LinearAlgebra.UniformScaling) in LinearAlgebra at C:\\Program Files\\MWorks.Syslab 2022\\Tools\\julia-1.7.1\\share\\julia\\stdlib\\v1.7\\LinearAlgebra\\src\\uniformscaling.jl:215\n",
       "[157] +(x::AbstractArray{<:Number}) in Base at abstractarraymath.jl:104\n",
       "[158] +(z::Complex{Bool}, x::Bool) in Base at complex.jl:300\n",
       "[159] +(z::Complex, x::Bool) in Base at complex.jl:307\n",
       "[160] +(z::Complex{Bool}, x::Real) in Base at complex.jl:314\n",
       "[161] +(z::Complex) in Base at complex.jl:286\n",
       "[162] +(z::Complex, x::Real) in Base at complex.jl:326\n",
       "[163] +(x::BigInt, c::Union{UInt16, UInt32, UInt8}) in Base.GMP at gmp.jl:528\n",
       "[164] +(x::BigInt, c::Union{Int16, Int32, Int8}) in Base.GMP at gmp.jl:534\n",
       "[165] +(x::BigInt, y::BigInt) in Base.GMP at gmp.jl:480\n",
       "[166] +(a::BigInt, b::BigInt, c::BigInt) in Base.GMP at gmp.jl:520\n",
       "[167] +(a::BigInt, b::BigInt, c::BigInt, d::BigInt) in Base.GMP at gmp.jl:521\n",
       "[168] +(a::BigInt, b::BigInt, c::BigInt, d::BigInt, e::BigInt) in Base.GMP at gmp.jl:522\n",
       "[169] +(x::BigInt, y::BigInt, rest::BigInt...) in Base.GMP at gmp.jl:635\n",
       "[170] +(a::Integer, b::Integer) in Base at int.jl:978\n",
       "[171] +(c::BigInt, x::BigFloat) in Base.MPFR at mpfr.jl:414\n",
       "[172] +(x::BigFloat, c::Union{UInt16, UInt32, UInt8}) in Base.MPFR at mpfr.jl:385\n",
       "[173] +(x::BigFloat, c::Union{Int16, Int32, Int8}) in Base.MPFR at mpfr.jl:393\n",
       "[174] +(x::BigFloat, c::Union{Float16, Float32, Float64}) in Base.MPFR at mpfr.jl:401\n",
       "[175] +(x::BigFloat, y::BigFloat) in Base.MPFR at mpfr.jl:378\n",
       "[176] +(x::BigFloat, c::BigInt) in Base.MPFR at mpfr.jl:409\n",
       "[177] +(a::BigFloat, b::BigFloat, c::BigFloat) in Base.MPFR at mpfr.jl:550\n",
       "[178] +(a::BigFloat, b::BigFloat, c::BigFloat, d::BigFloat) in Base.MPFR at mpfr.jl:556\n",
       "[179] +(a::BigFloat, b::BigFloat, c::BigFloat, d::BigFloat, e::BigFloat) in Base.MPFR at mpfr.jl:563\n",
       "[180] +(x::Float32, y::Float32) in Base at float.jl:398\n",
       "[181] +(x::Dates.Time, y::Dates.TimePeriod) in Dates at C:\\Program Files\\MWorks.Syslab 2022\\Tools\\julia-1.7.1\\share\\julia\\stdlib\\v1.7\\Dates\\src\\arithmetic.jl:83\n",
       "[182] +(t::Dates.Time, dt::Dates.Date) in Dates at C:\\Program Files\\MWorks.Syslab 2022\\Tools\\julia-1.7.1\\share\\julia\\stdlib\\v1.7\\Dates\\src\\arithmetic.jl:20\n",
       "[183] +(dt::Dates.DateTime, y::Dates.Year) in Dates at C:\\Program Files\\MWorks.Syslab 2022\\Tools\\julia-1.7.1\\share\\julia\\stdlib\\v1.7\\Dates\\src\\arithmetic.jl:23\n",
       "[184] +(dt::Dates.DateTime, z::Dates.Month) in Dates at C:\\Program Files\\MWorks.Syslab 2022\\Tools\\julia-1.7.1\\share\\julia\\stdlib\\v1.7\\Dates\\src\\arithmetic.jl:47\n",
       "[185] +(x::Dates.DateTime, y::Dates.Quarter) in Dates at C:\\Program Files\\MWorks.Syslab 2022\\Tools\\julia-1.7.1\\share\\julia\\stdlib\\v1.7\\Dates\\src\\arithmetic.jl:75\n",
       "[186] +(x::Dates.DateTime, y::Dates.Period) in Dates at C:\\Program Files\\MWorks.Syslab 2022\\Tools\\julia-1.7.1\\share\\julia\\stdlib\\v1.7\\Dates\\src\\arithmetic.jl:81\n",
       "[187] +(dt::Dates.Date, t::Dates.Time) in Dates at C:\\Program Files\\MWorks.Syslab 2022\\Tools\\julia-1.7.1\\share\\julia\\stdlib\\v1.7\\Dates\\src\\arithmetic.jl:19\n",
       "[188] +(dt::Dates.Date, y::Dates.Year) in Dates at C:\\Program Files\\MWorks.Syslab 2022\\Tools\\julia-1.7.1\\share\\julia\\stdlib\\v1.7\\Dates\\src\\arithmetic.jl:27\n",
       "[189] +(dt::Dates.Date, z::Dates.Month) in Dates at C:\\Program Files\\MWorks.Syslab 2022\\Tools\\julia-1.7.1\\share\\julia\\stdlib\\v1.7\\Dates\\src\\arithmetic.jl:54\n",
       "[190] +(x::Dates.Date, y::Dates.Quarter) in Dates at C:\\Program Files\\MWorks.Syslab 2022\\Tools\\julia-1.7.1\\share\\julia\\stdlib\\v1.7\\Dates\\src\\arithmetic.jl:73\n",
       "[191] +(x::Dates.Date, y::Dates.Week) in Dates at C:\\Program Files\\MWorks.Syslab 2022\\Tools\\julia-1.7.1\\share\\julia\\stdlib\\v1.7\\Dates\\src\\arithmetic.jl:77\n",
       "[192] +(x::Dates.Date, y::Dates.Day) in Dates at C:\\Program Files\\MWorks.Syslab 2022\\Tools\\julia-1.7.1\\share\\julia\\stdlib\\v1.7\\Dates\\src\\arithmetic.jl:79\n",
       "[193] +(x::Dates.TimeType) in Dates at C:\\Program Files\\MWorks.Syslab 2022\\Tools\\julia-1.7.1\\share\\julia\\stdlib\\v1.7\\Dates\\src\\arithmetic.jl:8\n",
       "[194] +(x::Dates.AbstractTime, y::Missing) in Dates at C:\\Program Files\\MWorks.Syslab 2022\\Tools\\julia-1.7.1\\share\\julia\\stdlib\\v1.7\\Dates\\src\\arithmetic.jl:88\n",
       "[195] +(a::Dates.TimeType, b::Dates.Period, c::Dates.Period) in Dates at C:\\Program Files\\MWorks.Syslab 2022\\Tools\\julia-1.7.1\\share\\julia\\stdlib\\v1.7\\Dates\\src\\periods.jl:383\n",
       "[196] +(a::Dates.TimeType, b::Dates.Period, c::Dates.Period, d::Dates.Period...) in Dates at C:\\Program Files\\MWorks.Syslab 2022\\Tools\\julia-1.7.1\\share\\julia\\stdlib\\v1.7\\Dates\\src\\periods.jl:384\n",
       "[197] +(x::Dates.TimeType, y::Dates.CompoundPeriod) in Dates at C:\\Program Files\\MWorks.Syslab 2022\\Tools\\julia-1.7.1\\share\\julia\\stdlib\\v1.7\\Dates\\src\\periods.jl:386\n",
       "[198] +(x::Float64, y::Float64) in Base at float.jl:399\n",
       "[199] +(x::Rational{BigInt}, y::Rational{BigInt}) in Base.GMP.MPQ at gmp.jl:885\n",
       "[200] +(x::Rational) in Base at rational.jl:268\n",
       "[201] +(x::Rational, y::Rational) in Base at rational.jl:282\n",
       "[202] +(x::Number) in Base at operators.jl:592\n",
       "[203] +(x::T, y::T) where T<:Number in Base at promotion.jl:454\n",
       "[204] +(x::Number, y::Number) in Base at promotion.jl:379\n",
       "[205] +(x::Dates.CompoundPeriod, y::Dates.Period) in Dates at C:\\Program Files\\MWorks.Syslab 2022\\Tools\\julia-1.7.1\\share\\julia\\stdlib\\v1.7\\Dates\\src\\periods.jl:362\n",
       "[206] +(x::Dates.CompoundPeriod, y::Dates.TimeType) in Dates at C:\\Program Files\\MWorks.Syslab 2022\\Tools\\julia-1.7.1\\share\\julia\\stdlib\\v1.7\\Dates\\src\\periods.jl:392\n",
       "[207] +(x::Dates.CompoundPeriod, y::Dates.CompoundPeriod) in Dates at C:\\Program Files\\MWorks.Syslab 2022\\Tools\\julia-1.7.1\\share\\julia\\stdlib\\v1.7\\Dates\\src\\periods.jl:364\n",
       "[208] +(a, b, c, xs...) in Base at operators.jl:655"
      ]
     },
     "execution_count": 1,
     "metadata": {},
     "output_type": "execute_result"
    }
   ],
   "source": [
    "methods(+) #查看函数里面的方法，这里查看的是函数+里面的方法"
   ]
  },
  {
   "cell_type": "markdown",
   "id": "ac817d3f",
   "metadata": {},
   "source": [
    "## 多重派发"
   ]
  },
  {
   "cell_type": "markdown",
   "id": "0f82b9cd",
   "metadata": {},
   "source": [
    "函数可以将0到多个自变量（参数）集合映射为一个返回值， 类似的操作对于不同的参数类型，可能有不同的具体实现。 比如，两个整数相加，两个浮点数相加，一个整数加一个浮点数，是类似的运算， 但实际计算过程很不一样。 尽管如此，因为其概念上的相近似，Julia中将所有这些运算都归结为+函数。\n",
    "\n",
    "对于这种类似的操作， Julia在定义函数时， 可以不是一下就完整定义， 而是针对不同参数类型逐步地完善函数定义。 函数针对一种参数类型组合所规定的操作叫做一个方法。 借助于参数类型的声明(annotation)， 以及参数个数， 可以对同一函数定义多个方法， 每一种参数类型组合定义一个方法。 调用一个函数时， 规定类型最详细、与输入的参数类型最匹配的方法被调用。 设计时考虑比较周到的话，虽然一个函数有多种特殊的处理方法， 其结果看起来还是可以比较一致的。\n",
    "\n",
    "**从一个函数的多种方法选择一个方法来执行的过程称为派发(dispatch)**。 Julia在派发问题上与其它的面向对象语言由很大区别， **Julia是根据参数个数不同以及所有参数类型的不同来选择方法的， 这称为多重派发(multiple dispatch)**， 其它面向对象语言一般仅根据第一个参数派发， 而且第一个参数往往不写出来。 Julia的做法更合理，更灵活、更强大。\n",
    "\n",
    "对于常见的数学计算， 一般用Float64来计算。 可以先定义Float64版本的函数， 然后对于一般的自变量， 可声明为Number， 转换为Float64后调用已有函数即可。\n",
    "\n",
    "例如："
   ]
  },
  {
   "cell_type": "code",
   "execution_count": 37,
   "id": "6988a289",
   "metadata": {
    "ExecuteTime": {
     "end_time": "2022-06-08T14:48:18.265000+08:00",
     "start_time": "2022-06-08T06:48:14.191Z"
    }
   },
   "outputs": [
    {
     "name": "stdout",
     "output_type": "stream",
     "text": [
      "4.0\n",
      "4.0\n",
      "4.0\n"
     ]
    }
   ],
   "source": [
    "ff(x::Float64, y::Float64) = 2x + y\n",
    "ff(x::Number, y::Number) = ff(Float64(x), Float64(y))\n",
    "println(ff(1.0, 2.0))\n",
    "println(ff(1, 2))\n",
    "println(ff(1.0, 2))"
   ]
  },
  {
   "cell_type": "markdown",
   "id": "4b2e88fe",
   "metadata": {
    "ExecuteTime": {
     "end_time": "2022-05-31T10:24:12.439000+08:00",
     "start_time": "2022-05-31T02:24:12.433Z"
    }
   },
   "source": [
    "上述函数如果还希望输入的x和y都是整数时返回整数值，只要再定义一个整数输入的方法："
   ]
  },
  {
   "cell_type": "code",
   "execution_count": 38,
   "id": "f03748cb",
   "metadata": {
    "ExecuteTime": {
     "end_time": "2022-06-08T14:48:18.269000+08:00",
     "start_time": "2022-06-08T06:48:14.198Z"
    }
   },
   "outputs": [
    {
     "data": {
      "text/plain": [
       "4"
      ]
     },
     "execution_count": 38,
     "metadata": {},
     "output_type": "execute_result"
    }
   ],
   "source": [
    "ff(x::Integer, y::Integer) = 2*Int64(x) + Int64(y)\n",
    "ff(1,2)"
   ]
  },
  {
   "cell_type": "markdown",
   "id": "2b9294c5",
   "metadata": {},
   "source": [
    "注意，为了使得上述函数可以对向量使用， 不需要单独定义方法， 而只要用加点语法即可，如"
   ]
  },
  {
   "cell_type": "code",
   "execution_count": 39,
   "id": "6ec62b26",
   "metadata": {
    "ExecuteTime": {
     "end_time": "2022-06-08T14:48:18.693000+08:00",
     "start_time": "2022-06-08T06:48:14.202Z"
    }
   },
   "outputs": [
    {
     "data": {
      "text/plain": [
       "2-element Vector{Float64}:\n",
       " 1.0\n",
       " 7.7"
      ]
     },
     "execution_count": 39,
     "metadata": {},
     "output_type": "execute_result"
    }
   ],
   "source": [
    "ff.([1.0, 2.2], [-1.0, 3.3])"
   ]
  },
  {
   "cell_type": "markdown",
   "id": "386ca18c",
   "metadata": {},
   "source": [
    "# 宏调用"
   ]
  },
  {
   "cell_type": "markdown",
   "id": "2298f5bf",
   "metadata": {},
   "source": [
    "Julia的宏(Macro)是一个非常强大的代码评估工具，使用@调用宏，宏类似于函数，但函数接受正常变量作为参数，宏接受表达式并返回修改后的表达式。"
   ]
  },
  {
   "cell_type": "markdown",
   "id": "23aabea6",
   "metadata": {},
   "source": [
    "两种常用的宏的调用方式：  \n",
    "@name expr1 expr2 ...  \n",
    "@name(expr1, expr2, ...)  \n",
    "\n",
    "需要注意的是：第一种用法两个参数之间是用空格隔开，且参数之间没有逗号；第二种用法的name和()之间没有空格，且参数之间有逗号隔开。"
   ]
  },
  {
   "cell_type": "markdown",
   "id": "459aa7f6",
   "metadata": {},
   "source": [
    "## @reexport"
   ]
  },
  {
   "cell_type": "code",
   "execution_count": 3,
   "id": "d5baf3bd",
   "metadata": {
    "ExecuteTime": {
     "end_time": "2022-07-20T17:41:49.077000+08:00",
     "start_time": "2022-07-20T09:41:49.057Z"
    }
   },
   "outputs": [],
   "source": [
    "using Reexport #用于从另一个模块中重新导出一个模块，使其可以使用其中的符号、函数名"
   ]
  },
  {
   "cell_type": "code",
   "execution_count": 4,
   "id": "db62f2fa",
   "metadata": {
    "ExecuteTime": {
     "end_time": "2022-07-20T17:42:02.327000+08:00",
     "start_time": "2022-07-20T09:42:01.939Z"
    }
   },
   "outputs": [
    {
     "name": "stdout",
     "output_type": "stream",
     "text": [
      "search: \u001b[0m\u001b[1mR\u001b[22m\u001b[0m\u001b[1me\u001b[22m\u001b[0m\u001b[1me\u001b[22m\u001b[0m\u001b[1mx\u001b[22m\u001b[0m\u001b[1mp\u001b[22m\u001b[0m\u001b[1mo\u001b[22m\u001b[0m\u001b[1mr\u001b[22m\u001b[0m\u001b[1mt\u001b[22m @\u001b[0m\u001b[1mr\u001b[22m\u001b[0m\u001b[1me\u001b[22m\u001b[0m\u001b[1me\u001b[22m\u001b[0m\u001b[1mx\u001b[22m\u001b[0m\u001b[1mp\u001b[22m\u001b[0m\u001b[1mo\u001b[22m\u001b[0m\u001b[1mr\u001b[22m\u001b[0m\u001b[1mt\u001b[22m Captu\u001b[0m\u001b[1mr\u001b[22m\u001b[0m\u001b[1me\u001b[22md\u001b[0m\u001b[1mE\u001b[22m\u001b[0m\u001b[1mx\u001b[22mce\u001b[0m\u001b[1mp\u001b[22mti\u001b[0m\u001b[1mo\u001b[22mn cu\u001b[0m\u001b[1mr\u001b[22mr\u001b[0m\u001b[1me\u001b[22mnt_\u001b[0m\u001b[1me\u001b[22m\u001b[0m\u001b[1mx\u001b[22mce\u001b[0m\u001b[1mp\u001b[22mti\u001b[0m\u001b[1mo\u001b[22mns\n",
      "\n"
     ]
    },
    {
     "data": {
      "text/latex": [
       "No docstring found for module \\texttt{Reexport}.\n",
       "\n",
       "\\section{Exported names}\n",
       "\\texttt{@reexport}\n",
       "\n",
       "\\section{Displaying contents of readme found at \\texttt{D:{\\textbackslash}TongYuan{\\textbackslash}.julia{\\textbackslash}packages{\\textbackslash}Reexport{\\textbackslash}OxbHO{\\textbackslash}README.md}}\n",
       "\\section{Reexport}\n",
       "\\href{https://github.com/simonster/Reexport.jl/actions?query=workflow%3ACI+branch%3Amaster}{\\begin{figure}\n",
       "\\centering\n",
       "\\includegraphics{https://github.com/simonster/Reexport.jl/workflows/CI/badge.svg}\n",
       "\\caption{Build status}\n",
       "\\end{figure}\n",
       "}\n",
       "\n",
       "\\subsection{Introduction}\n",
       "Maybe you have a module \\texttt{X} that depends on module \\texttt{Y} and you want \\texttt{using X} to pull in all of the symbols from \\texttt{Y}. Maybe you have an outer module \\texttt{A} with an inner module \\texttt{B}, and you want to export all of the symbols in \\texttt{B} from \\texttt{A}. It would be nice to have this functionality built into Julia, but we have yet to reach an agreement on what it should look like (see \\href{https://github.com/JuliaLang/julia/issues/1986}{JuliaLang/julia\\#1986}). This short macro is a stopgap we have a better solution.\n",
       "\n",
       "\\subsection{Usage}\n",
       "\\texttt{@reexport using <modules>} calls \\texttt{using <modules>} and also re-exports their symbols:\n",
       "\n",
       "\\begin{verbatim}\n",
       "module Y\n",
       "    ...\n",
       "end\n",
       "\n",
       "module Z\n",
       "    ...\n",
       "end\n",
       "\n",
       "module X\n",
       "    using Reexport\n",
       "    @reexport using Y\n",
       "    # all of Y's exported symbols available here\n",
       "    @reexport using Z: x, y\n",
       "    # Z's x and y symbols available here\n",
       "end\n",
       "\n",
       "using X\n",
       "# all of Y's exported symbols and Z's x and y also available here\n",
       "\\end{verbatim}\n",
       "\\texttt{@reexport import <module>.<name>} or \\texttt{@reexport import <module>: <name>} exports \\texttt{<name>} from \\texttt{<module>} after importing it.\n",
       "\n",
       "\\begin{verbatim}\n",
       "module Y\n",
       "    ...\n",
       "end\n",
       "\n",
       "module Z\n",
       "    ...\n",
       "end\n",
       "\n",
       "module X\n",
       "    using Reexport\n",
       "    @reexport import Y\n",
       "    # Only `Y` itself is available here\n",
       "    @reexport import Z: x, y\n",
       "    # Z's x and y symbols available here\n",
       "end\n",
       "\n",
       "using X\n",
       "# Y (but not its exported names) and Z's x and y are available here.\n",
       "\\end{verbatim}\n",
       "\\texttt{@reexport module <modulename> ... end} defines \\texttt{module <modulename>} and also re-exports its symbols:\n",
       "\n",
       "\\begin{verbatim}\n",
       "module A\n",
       "    using Reexport\n",
       "    @reexport module B\n",
       "    \t...\n",
       "    end\n",
       "    # all of B's exported symbols available here\n",
       "end\n",
       "\n",
       "using A\n",
       "# all of B's exported symbols available here\n",
       "\\end{verbatim}\n",
       "\\texttt{@reexport @another\\_macro <import or using expression>} first expands \\texttt{@another\\_macro} on the expression, making \\texttt{@reexport} with other macros.\n",
       "\n",
       "\\texttt{@reexport begin ... end} will apply the reexport macro to every expression in the block.\n",
       "\n"
      ],
      "text/markdown": [
       "No docstring found for module `Reexport`.\n",
       "\n",
       "# Exported names\n",
       "\n",
       "`@reexport`\n",
       "\n",
       "# Displaying contents of readme found at `D:\\TongYuan\\.julia\\packages\\Reexport\\OxbHO\\README.md`\n",
       "\n",
       "# Reexport\n",
       "\n",
       "[![Build status](https://github.com/simonster/Reexport.jl/workflows/CI/badge.svg)](https://github.com/simonster/Reexport.jl/actions?query=workflow%3ACI+branch%3Amaster)\n",
       "\n",
       "## Introduction\n",
       "\n",
       "Maybe you have a module `X` that depends on module `Y` and you want `using X` to pull in all of the symbols from `Y`. Maybe you have an outer module `A` with an inner module `B`, and you want to export all of the symbols in `B` from `A`. It would be nice to have this functionality built into Julia, but we have yet to reach an agreement on what it should look like (see [JuliaLang/julia#1986](https://github.com/JuliaLang/julia/issues/1986)). This short macro is a stopgap we have a better solution.\n",
       "\n",
       "## Usage\n",
       "\n",
       "`@reexport using <modules>` calls `using <modules>` and also re-exports their symbols:\n",
       "\n",
       "```julia\n",
       "module Y\n",
       "    ...\n",
       "end\n",
       "\n",
       "module Z\n",
       "    ...\n",
       "end\n",
       "\n",
       "module X\n",
       "    using Reexport\n",
       "    @reexport using Y\n",
       "    # all of Y's exported symbols available here\n",
       "    @reexport using Z: x, y\n",
       "    # Z's x and y symbols available here\n",
       "end\n",
       "\n",
       "using X\n",
       "# all of Y's exported symbols and Z's x and y also available here\n",
       "```\n",
       "\n",
       "`@reexport import <module>.<name>` or `@reexport import <module>: <name>` exports `<name>` from `<module>` after importing it.\n",
       "\n",
       "```julia\n",
       "module Y\n",
       "    ...\n",
       "end\n",
       "\n",
       "module Z\n",
       "    ...\n",
       "end\n",
       "\n",
       "module X\n",
       "    using Reexport\n",
       "    @reexport import Y\n",
       "    # Only `Y` itself is available here\n",
       "    @reexport import Z: x, y\n",
       "    # Z's x and y symbols available here\n",
       "end\n",
       "\n",
       "using X\n",
       "# Y (but not its exported names) and Z's x and y are available here.\n",
       "```\n",
       "\n",
       "`@reexport module <modulename> ... end` defines `module <modulename>` and also re-exports its symbols:\n",
       "\n",
       "```julia\n",
       "module A\n",
       "    using Reexport\n",
       "    @reexport module B\n",
       "    \t...\n",
       "    end\n",
       "    # all of B's exported symbols available here\n",
       "end\n",
       "\n",
       "using A\n",
       "# all of B's exported symbols available here\n",
       "```\n",
       "\n",
       "`@reexport @another_macro <import or using expression>` first expands `@another_macro` on the expression, making `@reexport` with other macros.\n",
       "\n",
       "`@reexport begin ... end` will apply the reexport macro to every expression in the block.\n"
      ],
      "text/plain": [
       "  No docstring found for module \u001b[36mReexport\u001b[39m.\n",
       "\n",
       "\u001b[1m  Exported names\u001b[22m\n",
       "\u001b[1m  ≡≡≡≡≡≡≡≡≡≡≡≡≡≡≡≡\u001b[22m\n",
       "\n",
       "  \u001b[36m@reexport\u001b[39m\n",
       "\n",
       "\u001b[1m  Displaying contents of readme found at\u001b[22m\n",
       "\u001b[1m \u001b[36mD:\\TongYuan\\.julia\\packages\\Reexport\\OxbHO\\README.md\u001b[39m\u001b[22m\n",
       "\u001b[1m  ≡≡≡≡≡≡≡≡≡≡≡≡≡≡≡≡≡≡≡≡≡≡≡≡≡≡≡≡≡≡≡≡≡≡≡≡≡≡≡≡≡≡≡≡≡≡≡≡≡≡≡≡≡≡\u001b[22m\n",
       "\n",
       "\u001b[1m  Reexport\u001b[22m\n",
       "\u001b[1m  ≡≡≡≡≡≡≡≡≡≡\u001b[22m\n",
       "\n",
       "  (Image: Build status)\n",
       "  (https://github.com/simonster/Reexport.jl/actions?query=workflow%3ACI+branch%3Amaster)\n",
       "\n",
       "\u001b[1m  Introduction\u001b[22m\n",
       "\u001b[1m  ==============\u001b[22m\n",
       "\n",
       "  Maybe you have a module \u001b[36mX\u001b[39m that depends on module \u001b[36mY\u001b[39m and you want \u001b[36musing X\u001b[39m to\n",
       "  pull in all of the symbols from \u001b[36mY\u001b[39m. Maybe you have an outer module \u001b[36mA\u001b[39m with an\n",
       "  inner module \u001b[36mB\u001b[39m, and you want to export all of the symbols in \u001b[36mB\u001b[39m from \u001b[36mA\u001b[39m. It\n",
       "  would be nice to have this functionality built into Julia, but we have yet\n",
       "  to reach an agreement on what it should look like (see JuliaLang/julia#1986\n",
       "  (https://github.com/JuliaLang/julia/issues/1986)). This short macro is a\n",
       "  stopgap we have a better solution.\n",
       "\n",
       "\u001b[1m  Usage\u001b[22m\n",
       "\u001b[1m  =======\u001b[22m\n",
       "\n",
       "  \u001b[36m@reexport using <modules>\u001b[39m calls \u001b[36musing <modules>\u001b[39m and also re-exports their\n",
       "  symbols:\n",
       "\n",
       "\u001b[36m  module Y\u001b[39m\n",
       "\u001b[36m      ...\u001b[39m\n",
       "\u001b[36m  end\u001b[39m\n",
       "\u001b[36m  \u001b[39m\n",
       "\u001b[36m  module Z\u001b[39m\n",
       "\u001b[36m      ...\u001b[39m\n",
       "\u001b[36m  end\u001b[39m\n",
       "\u001b[36m  \u001b[39m\n",
       "\u001b[36m  module X\u001b[39m\n",
       "\u001b[36m      using Reexport\u001b[39m\n",
       "\u001b[36m      @reexport using Y\u001b[39m\n",
       "\u001b[36m      # all of Y's exported symbols available here\u001b[39m\n",
       "\u001b[36m      @reexport using Z: x, y\u001b[39m\n",
       "\u001b[36m      # Z's x and y symbols available here\u001b[39m\n",
       "\u001b[36m  end\u001b[39m\n",
       "\u001b[36m  \u001b[39m\n",
       "\u001b[36m  using X\u001b[39m\n",
       "\u001b[36m  # all of Y's exported symbols and Z's x and y also available here\u001b[39m\n",
       "\n",
       "  \u001b[36m@reexport import <module>.<name>\u001b[39m or \u001b[36m@reexport import <module>: <name>\u001b[39m\n",
       "  exports \u001b[36m<name>\u001b[39m from \u001b[36m<module>\u001b[39m after importing it.\n",
       "\n",
       "\u001b[36m  module Y\u001b[39m\n",
       "\u001b[36m      ...\u001b[39m\n",
       "\u001b[36m  end\u001b[39m\n",
       "\u001b[36m  \u001b[39m\n",
       "\u001b[36m  module Z\u001b[39m\n",
       "\u001b[36m      ...\u001b[39m\n",
       "\u001b[36m  end\u001b[39m\n",
       "\u001b[36m  \u001b[39m\n",
       "\u001b[36m  module X\u001b[39m\n",
       "\u001b[36m      using Reexport\u001b[39m\n",
       "\u001b[36m      @reexport import Y\u001b[39m\n",
       "\u001b[36m      # Only `Y` itself is available here\u001b[39m\n",
       "\u001b[36m      @reexport import Z: x, y\u001b[39m\n",
       "\u001b[36m      # Z's x and y symbols available here\u001b[39m\n",
       "\u001b[36m  end\u001b[39m\n",
       "\u001b[36m  \u001b[39m\n",
       "\u001b[36m  using X\u001b[39m\n",
       "\u001b[36m  # Y (but not its exported names) and Z's x and y are available here.\u001b[39m\n",
       "\n",
       "  \u001b[36m@reexport module <modulename> ... end\u001b[39m defines \u001b[36mmodule <modulename>\u001b[39m and also\n",
       "  re-exports its symbols:\n",
       "\n",
       "\u001b[36m  module A\u001b[39m\n",
       "\u001b[36m      using Reexport\u001b[39m\n",
       "\u001b[36m      @reexport module B\u001b[39m\n",
       "\u001b[36m      \t...\u001b[39m\n",
       "\u001b[36m      end\u001b[39m\n",
       "\u001b[36m      # all of B's exported symbols available here\u001b[39m\n",
       "\u001b[36m  end\u001b[39m\n",
       "\u001b[36m  \u001b[39m\n",
       "\u001b[36m  using A\u001b[39m\n",
       "\u001b[36m  # all of B's exported symbols available here\u001b[39m\n",
       "\n",
       "  \u001b[36m@reexport @another_macro <import or using expression>\u001b[39m first expands\n",
       "  \u001b[36m@another_macro\u001b[39m on the expression, making \u001b[36m@reexport\u001b[39m with other macros.\n",
       "\n",
       "  \u001b[36m@reexport begin ... end\u001b[39m will apply the reexport macro to every expression in\n",
       "  the block."
      ]
     },
     "execution_count": 4,
     "metadata": {},
     "output_type": "execute_result"
    }
   ],
   "source": [
    "?Reexport "
   ]
  },
  {
   "cell_type": "markdown",
   "id": "cbf8a26d",
   "metadata": {},
   "source": [
    "## 常见用法@"
   ]
  },
  {
   "cell_type": "code",
   "execution_count": 73,
   "id": "b3b7cf8d",
   "metadata": {
    "ExecuteTime": {
     "end_time": "2022-06-09T15:39:18.274000+08:00",
     "start_time": "2022-06-09T07:39:12.415Z"
    }
   },
   "outputs": [
    {
     "data": {
      "text/plain": [
       "MLJMultivariateStatsInterface.PCA"
      ]
     },
     "execution_count": 73,
     "metadata": {},
     "output_type": "execute_result"
    }
   ],
   "source": [
    "using MLJ #机器学习宏常见用法\n",
    "@load PCA pkg=MultivariateStats verbosity=0 install=true #pkg包的名字，verbosity静默模式"
   ]
  },
  {
   "cell_type": "markdown",
   "id": "96bc596e",
   "metadata": {},
   "source": [
    "## 常用宏"
   ]
  },
  {
   "cell_type": "markdown",
   "id": "70ba9fa8",
   "metadata": {},
   "source": [
    "常用宏：@time、@elapsed 返回程序运行时间。"
   ]
  },
  {
   "cell_type": "code",
   "execution_count": 1,
   "id": "ac69ee6c",
   "metadata": {
    "ExecuteTime": {
     "end_time": "2023-05-24T15:52:53.486000+08:00",
     "start_time": "2023-05-24T07:52:52.829Z"
    }
   },
   "outputs": [
    {
     "name": "stdout",
     "output_type": "stream",
     "text": [
      "  0.000003 seconds (1 allocation: 96 bytes)\n"
     ]
    },
    {
     "data": {
      "text/plain": [
       "10"
      ]
     },
     "execution_count": 1,
     "metadata": {},
     "output_type": "execute_result"
    }
   ],
   "source": [
    "@time sum([1,2,3,4])"
   ]
  },
  {
   "cell_type": "markdown",
   "id": "9f17af06",
   "metadata": {},
   "source": [
    "@show 当该宏与任何代码一起使用时，将返回表达式并计算其结果。"
   ]
  },
  {
   "cell_type": "code",
   "execution_count": 42,
   "id": "023518ff",
   "metadata": {
    "ExecuteTime": {
     "end_time": "2022-06-08T14:48:38.359000+08:00",
     "start_time": "2022-06-08T06:48:14.215Z"
    }
   },
   "outputs": [
    {
     "name": "stdout",
     "output_type": "stream",
     "text": [
      "hello!\n",
      "println(\"hello!\") = nothing\n"
     ]
    }
   ],
   "source": [
    "@show println(\"hello!\")"
   ]
  },
  {
   "cell_type": "markdown",
   "id": "467ffc05",
   "metadata": {},
   "source": [
    "@which 当一个函数有多个方法，并希望提供一组特定参数调用其方法时，此宏非常有用。"
   ]
  },
  {
   "cell_type": "code",
   "execution_count": 74,
   "id": "1490eac9",
   "metadata": {
    "ExecuteTime": {
     "end_time": "2022-06-09T15:45:40.094000+08:00",
     "start_time": "2022-06-09T07:45:39.848Z"
    }
   },
   "outputs": [
    {
     "data": {
      "text/html": [
       "# 2 methods for generic function <b>tri</b>:<ul><li> tri(n::<b>Int64</b>) in Main at In[74]:1</li> <li> tri(n::<b>Float64</b>) in Main at In[74]:5</li> </ul>"
      ],
      "text/plain": [
       "# 2 methods for generic function \"tri\":\n",
       "[1] tri(n::Int64) in Main at In[74]:1\n",
       "[2] tri(n::Float64) in Main at In[74]:5"
      ]
     },
     "execution_count": 74,
     "metadata": {},
     "output_type": "execute_result"
    }
   ],
   "source": [
    "function tri(n::Int64)\n",
    "    3n\n",
    "end\n",
    "\n",
    "function tri(n::Float64)\n",
    "    3n\n",
    "end\n",
    "\n",
    "methods(tri) #tri有两个方法"
   ]
  },
  {
   "cell_type": "code",
   "execution_count": 75,
   "id": "824e1ccf",
   "metadata": {
    "ExecuteTime": {
     "end_time": "2022-06-09T15:45:50.357000+08:00",
     "start_time": "2022-06-09T07:45:49.878Z"
    }
   },
   "outputs": [
    {
     "name": "stdout",
     "output_type": "stream",
     "text": [
      "tri(n::Float64) in Main at In[74]:5\n",
      "tri(n::Int64) in Main at In[74]:1\n"
     ]
    }
   ],
   "source": [
    "println(@which tri(10.0))\n",
    "println(@which tri(10))"
   ]
  },
  {
   "cell_type": "markdown",
   "id": "0268f3fa",
   "metadata": {},
   "source": [
    "@task 返回一个任务而不运行它。"
   ]
  },
  {
   "cell_type": "markdown",
   "id": "5ca8df66",
   "metadata": {},
   "source": [
    "@assert 这个宏用来判断传入表达式的值，如果是true返回nothing，否则报错。"
   ]
  },
  {
   "cell_type": "markdown",
   "id": "5e878405",
   "metadata": {},
   "source": [
    "# 元编程"
   ]
  },
  {
   "cell_type": "markdown",
   "id": "760f097e",
   "metadata": {},
   "source": [
    "## 表达式"
   ]
  },
  {
   "cell_type": "markdown",
   "id": "8b7d773d",
   "metadata": {},
   "source": [
    "使用Expr构造函数创建最基本的表达式类型"
   ]
  },
  {
   "cell_type": "markdown",
   "id": "a8339ec0",
   "metadata": {
    "ExecuteTime": {
     "end_time": "2022-05-30T17:20:10.799000+08:00",
     "start_time": "2022-05-30T09:20:10.719Z"
    }
   },
   "source": [
    "任何Expr类型的对象都有三个部分：  \n",
    "1）符号，比如:call，冒号加一个变量值  \n",
    "2）一系列参数  \n",
    "3）最后结果类型  "
   ]
  },
  {
   "cell_type": "code",
   "execution_count": 3,
   "id": "5849b788",
   "metadata": {
    "ExecuteTime": {
     "end_time": "2022-08-22T11:17:43.951000+08:00",
     "start_time": "2022-08-22T03:17:43.443Z"
    }
   },
   "outputs": [
    {
     "data": {
      "text/plain": [
       ":((+)(10, 20))"
      ]
     },
     "execution_count": 3,
     "metadata": {},
     "output_type": "execute_result"
    }
   ],
   "source": [
    "sample_expr = Expr(:call, +, 10, 20) #计算10+20，call作为第一个参数，表示表达式的头部；接下来提供了+，10，20作为参数。"
   ]
  },
  {
   "cell_type": "code",
   "execution_count": 4,
   "id": "92667475",
   "metadata": {
    "ExecuteTime": {
     "end_time": "2022-08-22T11:17:47.696000+08:00",
     "start_time": "2022-08-22T03:17:47.556Z"
    }
   },
   "outputs": [
    {
     "data": {
      "text/plain": [
       "30"
      ]
     },
     "execution_count": 4,
     "metadata": {},
     "output_type": "execute_result"
    }
   ],
   "source": [
    "eval(sample_expr) #使用eval函数计算表达式,eval接受一个Expr类型的值作为输入"
   ]
  },
  {
   "cell_type": "code",
   "execution_count": 5,
   "id": "dc007040",
   "metadata": {
    "ExecuteTime": {
     "end_time": "2022-08-22T11:17:48.621000+08:00",
     "start_time": "2022-08-22T03:17:48.618Z"
    }
   },
   "outputs": [
    {
     "data": {
      "text/plain": [
       "30"
      ]
     },
     "execution_count": 5,
     "metadata": {},
     "output_type": "execute_result"
    }
   ],
   "source": [
    "sample_expr = Expr(:call, +, :x1, :y1) #在运行时使用冒号:\n",
    "x1 = 10\n",
    "y1 = 20\n",
    "eval(sample_expr)"
   ]
  },
  {
   "cell_type": "code",
   "execution_count": 6,
   "id": "e7ed6d80",
   "metadata": {
    "ExecuteTime": {
     "end_time": "2022-08-22T11:17:49.939000+08:00",
     "start_time": "2022-08-22T03:17:49.461Z"
    }
   },
   "outputs": [
    {
     "name": "stdout",
     "output_type": "stream",
     "text": [
      "Expr\n",
      "  head: Symbol call\n",
      "  args: Array{Any}((3,))\n",
      "    1: + (function of type typeof(+))\n",
      "    2: Symbol x1\n",
      "    3: Symbol y1\n"
     ]
    }
   ],
   "source": [
    "dump(sample_expr) #查看Expr类型的数据内容"
   ]
  },
  {
   "cell_type": "code",
   "execution_count": 7,
   "id": "a1c85d01",
   "metadata": {
    "ExecuteTime": {
     "end_time": "2022-08-22T11:17:50.598000+08:00",
     "start_time": "2022-08-22T03:17:50.595Z"
    }
   },
   "outputs": [
    {
     "data": {
      "text/plain": [
       "30"
      ]
     },
     "execution_count": 7,
     "metadata": {},
     "output_type": "execute_result"
    }
   ],
   "source": [
    "x2 = 10\n",
    "y2 = 20\n",
    "e = :($x2 + $y2) #解析表达式时插入x,y\n",
    "eval(e)"
   ]
  },
  {
   "cell_type": "markdown",
   "id": "2b80fc2a",
   "metadata": {
    "ExecuteTime": {
     "end_time": "2022-05-30T16:30:59.343000+08:00",
     "start_time": "2022-05-30T08:30:59.331Z"
    }
   },
   "source": [
    "总的来说，可以通过两种方法对Expr对象进行插值  \n",
    "1）在运行时使用冒号:  \n",
    "2）在解析时使用$符号  "
   ]
  },
  {
   "cell_type": "markdown",
   "id": "10d7217c",
   "metadata": {},
   "source": [
    "## 元编程 "
   ]
  },
  {
   "cell_type": "markdown",
   "id": "b3df91fa",
   "metadata": {},
   "source": [
    "元编程（英语：Metaprogramming），是指某类计算机程序的编写，这类计算机程序编写或者操纵其它程序（或者自身）作为它们的资料，或者在编译时完成部分本应在运行时完成的工作。多数情况下，与手工编写全部代码相比，程序员可以获得更高的工作效率，或者给与程序更大的灵活度去处理新的情形而无需重新编译。\n",
    "\n",
    "编写元程序的语言称之为元语言。被操纵的程序的语言称之为\"目标语言\"。一门编程语言同时也是自身的元语言的能力称之为\"反射\"或者\"自反\"。"
   ]
  },
  {
   "cell_type": "code",
   "execution_count": 8,
   "id": "3437b934",
   "metadata": {
    "ExecuteTime": {
     "end_time": "2022-08-22T11:17:53.210000+08:00",
     "start_time": "2022-08-22T03:17:53.194Z"
    }
   },
   "outputs": [
    {
     "name": "stdout",
     "output_type": "stream",
     "text": [
      "foo\n",
      "foo\n"
     ]
    }
   ],
   "source": [
    "function foo(n::Int64)\n",
    "    for i = 1:n\n",
    "        println(\"foo\")\n",
    "    end\n",
    "end\n",
    "foo(2)"
   ]
  },
  {
   "cell_type": "code",
   "execution_count": 9,
   "id": "db21adb2",
   "metadata": {
    "ExecuteTime": {
     "end_time": "2022-08-22T11:17:54.705000+08:00",
     "start_time": "2022-08-22T03:17:54.699Z"
    }
   },
   "outputs": [
    {
     "name": "stdout",
     "output_type": "stream",
     "text": [
      "bar\n",
      "bar\n"
     ]
    }
   ],
   "source": [
    "function bar1(n::Int64)\n",
    "    for i = 1:n\n",
    "        println(\"bar\")\n",
    "    end\n",
    "end\n",
    "bar1(2)"
   ]
  },
  {
   "cell_type": "code",
   "execution_count": 10,
   "id": "72c166d8",
   "metadata": {
    "ExecuteTime": {
     "end_time": "2022-08-22T11:17:55.348000+08:00",
     "start_time": "2022-08-22T03:17:55.339Z"
    }
   },
   "outputs": [
    {
     "name": "stdout",
     "output_type": "stream",
     "text": [
      "baz\n",
      "baz\n"
     ]
    }
   ],
   "source": [
    "function baz(n::Int64)\n",
    "    for i = 1:n\n",
    "        println(\"baz\")\n",
    "    end\n",
    "end\n",
    "baz(2)"
   ]
  },
  {
   "cell_type": "markdown",
   "id": "9f309e8f",
   "metadata": {},
   "source": [
    "以上很多代码是重复的，使用元编程，可以动态生成代码，节约开发时间。"
   ]
  },
  {
   "cell_type": "code",
   "execution_count": 11,
   "id": "4760c84c",
   "metadata": {
    "ExecuteTime": {
     "end_time": "2022-08-22T11:17:57.700000+08:00",
     "start_time": "2022-08-22T03:17:57.537Z"
    },
    "code_folding": []
   },
   "outputs": [
    {
     "name": "stdout",
     "output_type": "stream",
     "text": [
      "foo\n",
      "foo\n"
     ]
    }
   ],
   "source": [
    "for sym in [:foo, :bar1, :baz]\n",
    "    @eval function $(Symbol(string(sym)))(n::Int64)\n",
    "        for i in 1:n\n",
    "            println($sym)\n",
    "        end\n",
    "    end\n",
    "end\n",
    "\n",
    "foo(2)"
   ]
  },
  {
   "cell_type": "code",
   "execution_count": 12,
   "id": "587568f3",
   "metadata": {
    "ExecuteTime": {
     "end_time": "2022-08-22T11:17:58.223000+08:00",
     "start_time": "2022-08-22T03:17:58.218Z"
    }
   },
   "outputs": [
    {
     "data": {
      "text/plain": [
       "1"
      ]
     },
     "execution_count": 12,
     "metadata": {},
     "output_type": "execute_result"
    }
   ],
   "source": [
    "x = 1\n",
    "eval(x)"
   ]
  },
  {
   "cell_type": "code",
   "execution_count": 20,
   "id": "b7f6fead",
   "metadata": {
    "ExecuteTime": {
     "end_time": "2022-08-22T11:31:58.367000+08:00",
     "start_time": "2022-08-22T03:31:58.360Z"
    }
   },
   "outputs": [
    {
     "data": {
      "text/plain": [
       ":(1 + 2)"
      ]
     },
     "execution_count": 20,
     "metadata": {},
     "output_type": "execute_result"
    }
   ],
   "source": [
    "function math_expr(sm,op,op1)\n",
    "    expr = Expr(:call, sm, op, op1)#定义表达式的操作\n",
    "    return expr\n",
    "end\n",
    "\n",
    "ex = math_expr(:+,1, 2)"
   ]
  },
  {
   "cell_type": "code",
   "execution_count": 21,
   "id": "f9964788",
   "metadata": {
    "ExecuteTime": {
     "end_time": "2022-08-22T11:31:59.058000+08:00",
     "start_time": "2022-08-22T03:31:59.055Z"
    }
   },
   "outputs": [
    {
     "data": {
      "text/plain": [
       "3"
      ]
     },
     "execution_count": 21,
     "metadata": {},
     "output_type": "execute_result"
    }
   ],
   "source": [
    "eval(ex)"
   ]
  },
  {
   "cell_type": "markdown",
   "id": "391b79c2",
   "metadata": {},
   "source": [
    "# 开发扩展包"
   ]
  },
  {
   "cell_type": "markdown",
   "id": "ff5c58b7",
   "metadata": {},
   "source": [
    "[链接1](https://pkgdocs.julialang.org/v1/creating-packages/)"
   ]
  },
  {
   "cell_type": "markdown",
   "id": "cbf49ee6",
   "metadata": {},
   "source": [
    "[链接2](https://invenia.github.io/PkgTemplates.jl/stable/user/)"
   ]
  },
  {
   "cell_type": "markdown",
   "id": "413ec0a3",
   "metadata": {},
   "source": [
    "[链接3](https://ke.qq.com/itdoc/julia/lx9o1jg7.html)"
   ]
  },
  {
   "cell_type": "code",
   "execution_count": 1,
   "id": "51d457d0",
   "metadata": {
    "ExecuteTime": {
     "end_time": "2022-07-22T17:07:18.307000+08:00",
     "start_time": "2022-07-22T09:07:09.840Z"
    },
    "collapsed": true
   },
   "outputs": [
    {
     "name": "stderr",
     "output_type": "stream",
     "text": [
      "┌ Info: Running prehooks\n",
      "└ @ PkgTemplates D:\\TongYuan\\.julia\\packages\\PkgTemplates\\j6Nfl\\src\\template.jl:130\n",
      "┌ Info: Running hooks\n",
      "└ @ PkgTemplates D:\\TongYuan\\.julia\\packages\\PkgTemplates\\j6Nfl\\src\\template.jl:130\n",
      "\u001b[32m\u001b[1m  Activating\u001b[22m\u001b[39m project at `C:\\Users\\Administrator\\Desktop\\MyPkg`\n",
      "\u001b[32m\u001b[1m    Updating\u001b[22m\u001b[39m registry at `D:\\TongYuan\\.julia\\registries\\General.toml`\n",
      "┌ Warning: The active manifest file at `C:\\Users\\Administrator\\Desktop\\MyPkg\\Manifest.toml` has an old format that is being maintained.\n",
      "│ To update to the new format run `Pkg.upgrade_manifest()` which will upgrade the format without re-resolving.\n",
      "└ @ Pkg.Types C:\\buildbot\\worker\\package_win64\\build\\usr\\share\\julia\\stdlib\\v1.7\\Pkg\\src\\manifest.jl:287\n",
      "\u001b[32m\u001b[1m  No Changes\u001b[22m\u001b[39m to `C:\\Users\\Administrator\\Desktop\\MyPkg\\Project.toml`\n",
      "\u001b[32m\u001b[1m  No Changes\u001b[22m\u001b[39m to `C:\\Users\\Administrator\\Desktop\\MyPkg\\Manifest.toml`\n",
      "\u001b[32m\u001b[1mPrecompiling\u001b[22m\u001b[39m project...\n",
      "\u001b[32m  ✓ \u001b[39mMyPkg\n",
      "  1 dependency successfully precompiled in 0 seconds\n",
      "\u001b[32m\u001b[1m  Activating\u001b[22m\u001b[39m project at `D:\\TongYuan\\.julia\\environments\\v1.7`\n",
      "┌ Info: Running posthooks\n",
      "└ @ PkgTemplates D:\\TongYuan\\.julia\\packages\\PkgTemplates\\j6Nfl\\src\\template.jl:130\n",
      "┌ Info: New package is at C:\\Users\\Administrator\\Desktop\\MyPkg\n",
      "└ @ PkgTemplates D:\\TongYuan\\.julia\\packages\\PkgTemplates\\j6Nfl\\src\\template.jl:140\n"
     ]
    }
   ],
   "source": [
    "#创建扩展包\n",
    "using PkgTemplates\n",
    "t = Template(user=\"caoyuyu\")\n",
    "t(\"C:\\\\Users\\\\Administrator\\\\Desktop\\\\MyPkg\")"
   ]
  },
  {
   "cell_type": "code",
   "execution_count": null,
   "id": "1e5abafb",
   "metadata": {},
   "outputs": [],
   "source": []
  }
 ],
 "metadata": {
  "hide_input": false,
  "kernelspec": {
   "display_name": "Julia 1.7.3",
   "language": "julia",
   "name": "julia-1.7"
  },
  "language_info": {
   "file_extension": ".jl",
   "mimetype": "application/julia",
   "name": "julia",
   "version": "1.7.3"
  },
  "nbTranslate": {
   "displayLangs": [
    "*"
   ],
   "hotkey": "alt-t",
   "langInMainMenu": true,
   "sourceLang": "en",
   "targetLang": "fr",
   "useGoogleTranslate": true
  },
  "toc": {
   "base_numbering": "16",
   "nav_menu": {},
   "number_sections": true,
   "sideBar": true,
   "skip_h1_title": false,
   "title_cell": "Table of Contents",
   "title_sidebar": "Contents",
   "toc_cell": false,
   "toc_position": {
    "height": "calc(100% - 180px)",
    "left": "10px",
    "top": "150px",
    "width": "307.2px"
   },
   "toc_section_display": true,
   "toc_window_display": true
  },
  "varInspector": {
   "cols": {
    "lenName": 16,
    "lenType": 16,
    "lenVar": 40
   },
   "kernels_config": {
    "python": {
     "delete_cmd_postfix": "",
     "delete_cmd_prefix": "del ",
     "library": "var_list.py",
     "varRefreshCmd": "print(var_dic_list())"
    },
    "r": {
     "delete_cmd_postfix": ") ",
     "delete_cmd_prefix": "rm(",
     "library": "var_list.r",
     "varRefreshCmd": "cat(var_dic_list()) "
    }
   },
   "types_to_exclude": [
    "module",
    "function",
    "builtin_function_or_method",
    "instance",
    "_Feature"
   ],
   "window_display": false
  }
 },
 "nbformat": 4,
 "nbformat_minor": 5
}
