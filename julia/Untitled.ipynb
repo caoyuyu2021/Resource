{
 "cells": [
  {
   "cell_type": "code",
   "execution_count": 1,
   "id": "2494c035",
   "metadata": {
    "ExecuteTime": {
     "end_time": "2022-10-09T15:41:18.305000+08:00",
     "start_time": "2022-10-09T07:41:16.866Z"
    }
   },
   "outputs": [
    {
     "ename": "LoadError",
     "evalue": "PyError ($(Expr(:escape, :(ccall(#= C:\\Users\\Public\\TongYuan\\.julia\\packages\\PyCall\\7a7w0\\src\\pyeval.jl:38 =# @pysym(:PyEval_EvalCode), PyPtr, (PyPtr, PyPtr, PyPtr), o, globals, locals))))) <class 'ImportError'>\nImportError('DLL load failed while importing _c_expression: 找不到指定的程序。')\n  File \"C:\\Users\\Public\\TongYuan\\.julia\\packages\\PyCall\\7a7w0\\src\\pyeval.jl\", line 1, in <module>\n    const Py_single_input = 256  # from Python.h\n  File \"C:\\Users\\Public\\TongYuan\\.julia\\conda\\3\\lib\\site-packages\\mindspore\\__init__.py\", line 18, in <module>\n    from . import common, dataset, mindrecord, train, log\n  File \"C:\\Users\\Public\\TongYuan\\.julia\\conda\\3\\lib\\site-packages\\mindspore\\common\\__init__.py\", line 17, in <module>\n    from . import dtype\n  File \"C:\\Users\\Public\\TongYuan\\.julia\\conda\\3\\lib\\site-packages\\mindspore\\common\\dtype.py\", line 23, in <module>\n    from .._c_expression import typing\n",
     "output_type": "error",
     "traceback": [
      "PyError ($(Expr(:escape, :(ccall(#= C:\\Users\\Public\\TongYuan\\.julia\\packages\\PyCall\\7a7w0\\src\\pyeval.jl:38 =# @pysym(:PyEval_EvalCode), PyPtr, (PyPtr, PyPtr, PyPtr), o, globals, locals))))) <class 'ImportError'>\nImportError('DLL load failed while importing _c_expression: 找不到指定的程序。')\n  File \"C:\\Users\\Public\\TongYuan\\.julia\\packages\\PyCall\\7a7w0\\src\\pyeval.jl\", line 1, in <module>\n    const Py_single_input = 256  # from Python.h\n  File \"C:\\Users\\Public\\TongYuan\\.julia\\conda\\3\\lib\\site-packages\\mindspore\\__init__.py\", line 18, in <module>\n    from . import common, dataset, mindrecord, train, log\n  File \"C:\\Users\\Public\\TongYuan\\.julia\\conda\\3\\lib\\site-packages\\mindspore\\common\\__init__.py\", line 17, in <module>\n    from . import dtype\n  File \"C:\\Users\\Public\\TongYuan\\.julia\\conda\\3\\lib\\site-packages\\mindspore\\common\\dtype.py\", line 23, in <module>\n    from .._c_expression import typing\n",
      "",
      "Stacktrace:",
      "  [1] pyerr_check",
      "    @ C:\\Users\\Public\\TongYuan\\.julia\\packages\\PyCall\\7a7w0\\src\\exception.jl:62 [inlined]",
      "  [2] pyerr_check",
      "    @ C:\\Users\\Public\\TongYuan\\.julia\\packages\\PyCall\\7a7w0\\src\\exception.jl:66 [inlined]",
      "  [3] _handle_error(msg::String)",
      "    @ PyCall C:\\Users\\Public\\TongYuan\\.julia\\packages\\PyCall\\7a7w0\\src\\exception.jl:83",
      "  [4] macro expansion",
      "    @ C:\\Users\\Public\\TongYuan\\.julia\\packages\\PyCall\\7a7w0\\src\\exception.jl:97 [inlined]",
      "  [5] #117",
      "    @ C:\\Users\\Public\\TongYuan\\.julia\\packages\\PyCall\\7a7w0\\src\\pyeval.jl:38 [inlined]",
      "  [6] disable_sigint",
      "    @ .\\c.jl:458 [inlined]",
      "  [7] pyeval_(s::String, globals::PyDict{String, PyObject, true}, locals::PyDict{String, PyObject, true}, input_type::Int64, fname::String)",
      "    @ PyCall C:\\Users\\Public\\TongYuan\\.julia\\packages\\PyCall\\7a7w0\\src\\pyeval.jl:37",
      "  [8] top-level scope",
      "    @ C:\\Users\\Public\\TongYuan\\.julia\\packages\\PyCall\\7a7w0\\src\\pyeval.jl:230",
      "  [9] eval",
      "    @ .\\boot.jl:373 [inlined]",
      " [10] include_string(mapexpr::typeof(REPL.softscope), mod::Module, code::String, filename::String)",
      "    @ Base .\\loading.jl:1196"
     ]
    }
   ],
   "source": [
    "using PyCall\n",
    "py\"\"\"\n",
    "import mindspore\n",
    "from mindspore.nn import Conv2d\n",
    "layer = Conv2d(1,5,3)\n",
    "print(layer)\n",
    "\"\"\""
   ]
  },
  {
   "cell_type": "code",
   "execution_count": 7,
   "id": "57ba2cb8",
   "metadata": {
    "ExecuteTime": {
     "end_time": "2022-10-09T10:24:25.753000+08:00",
     "start_time": "2022-10-09T02:24:24.630Z"
    }
   },
   "outputs": [
    {
     "ename": "LoadError",
     "evalue": "PyError (PyImport_ImportModule\n\nThe Python package mindspore could not be imported by pyimport. Usually this means\nthat you did not install mindspore in the Python version being used by PyCall.\n\nPyCall is currently configured to use the Julia-specific Python distribution\ninstalled by the Conda.jl package.  To install the mindspore module, you can\nuse `pyimport_conda(\"mindspore\", PKG)`, where PKG is the Anaconda\npackage that contains the module mindspore, or alternatively you can use the\nConda package directly (via `using Conda` followed by `Conda.add` etcetera).\n\nAlternatively, if you want to use a different Python distribution on your\nsystem, such as a system-wide Python (as opposed to the Julia-specific Python),\nyou can re-configure PyCall with that Python.   As explained in the PyCall\ndocumentation, set ENV[\"PYTHON\"] to the path/name of the python executable\nyou want to use, run Pkg.build(\"PyCall\"), and re-launch Julia.\n\n) <class 'ImportError'>\nImportError('DLL load failed while importing _c_expression: 找不到指定的程序。')\n  File \"C:\\Users\\Public\\TongYuan\\.julia\\conda\\3\\lib\\site-packages\\mindspore\\__init__.py\", line 18, in <module>\n    from . import common, dataset, mindrecord, train, log\n  File \"C:\\Users\\Public\\TongYuan\\.julia\\conda\\3\\lib\\site-packages\\mindspore\\common\\__init__.py\", line 17, in <module>\n    from . import dtype\n  File \"C:\\Users\\Public\\TongYuan\\.julia\\conda\\3\\lib\\site-packages\\mindspore\\common\\dtype.py\", line 23, in <module>\n    from .._c_expression import typing\n",
     "output_type": "error",
     "traceback": [
      "PyError (PyImport_ImportModule\n\nThe Python package mindspore could not be imported by pyimport. Usually this means\nthat you did not install mindspore in the Python version being used by PyCall.\n\nPyCall is currently configured to use the Julia-specific Python distribution\ninstalled by the Conda.jl package.  To install the mindspore module, you can\nuse `pyimport_conda(\"mindspore\", PKG)`, where PKG is the Anaconda\npackage that contains the module mindspore, or alternatively you can use the\nConda package directly (via `using Conda` followed by `Conda.add` etcetera).\n\nAlternatively, if you want to use a different Python distribution on your\nsystem, such as a system-wide Python (as opposed to the Julia-specific Python),\nyou can re-configure PyCall with that Python.   As explained in the PyCall\ndocumentation, set ENV[\"PYTHON\"] to the path/name of the python executable\nyou want to use, run Pkg.build(\"PyCall\"), and re-launch Julia.\n\n) <class 'ImportError'>\nImportError('DLL load failed while importing _c_expression: 找不到指定的程序。')\n  File \"C:\\Users\\Public\\TongYuan\\.julia\\conda\\3\\lib\\site-packages\\mindspore\\__init__.py\", line 18, in <module>\n    from . import common, dataset, mindrecord, train, log\n  File \"C:\\Users\\Public\\TongYuan\\.julia\\conda\\3\\lib\\site-packages\\mindspore\\common\\__init__.py\", line 17, in <module>\n    from . import dtype\n  File \"C:\\Users\\Public\\TongYuan\\.julia\\conda\\3\\lib\\site-packages\\mindspore\\common\\dtype.py\", line 23, in <module>\n    from .._c_expression import typing\n",
      "",
      "Stacktrace:",
      " [1] pyimport(name::String)",
      "   @ PyCall C:\\Users\\Public\\TongYuan\\.julia\\packages\\PyCall\\7a7w0\\src\\PyCall.jl:550",
      " [2] top-level scope",
      "   @ C:\\Users\\Public\\TongYuan\\.julia\\packages\\PyCall\\7a7w0\\src\\PyCall.jl:594",
      " [3] eval",
      "   @ .\\boot.jl:373 [inlined]",
      " [4] include_string(mapexpr::typeof(REPL.softscope), mod::Module, code::String, filename::String)",
      "   @ Base .\\loading.jl:1196"
     ]
    }
   ],
   "source": [
    "using PyCall\n",
    "@pyimport mindspore"
   ]
  },
  {
   "cell_type": "code",
   "execution_count": 1,
   "id": "2ce32da9",
   "metadata": {
    "ExecuteTime": {
     "end_time": "2022-10-09T07:07:09.000292Z",
     "start_time": "2022-10-09T07:07:07.309220Z"
    }
   },
   "outputs": [
    {
     "name": "stdout",
     "output_type": "stream",
     "text": [
      "Conv2d<input_channels=1, output_channels=5, kernel_size=(3, 3), stride=(1, 1), pad_mode=same, padding=0, dilation=(1, 1), group=1, has_bias=False, weight_init=normal, bias_init=zeros, format=NCHW>\n"
     ]
    }
   ],
   "source": [
    "import mindspore\n",
    "from mindspore.nn import Conv2d\n",
    "layer = Conv2d(1,5,3)\n",
    "print(layer)"
   ]
  },
  {
   "cell_type": "code",
   "execution_count": 2,
   "id": "b951ca59",
   "metadata": {
    "ExecuteTime": {
     "end_time": "2022-10-09T02:58:31.415070Z",
     "start_time": "2022-10-09T02:58:31.392523Z"
    }
   },
   "outputs": [],
   "source": [
    "from mindspore._c_expression import typing"
   ]
  },
  {
   "cell_type": "code",
   "execution_count": null,
   "id": "f5952dcc",
   "metadata": {},
   "outputs": [],
   "source": []
  }
 ],
 "metadata": {
  "kernelspec": {
   "display_name": "Julia 1.7.3",
   "language": "julia",
   "name": "julia-1.7"
  },
  "language_info": {
   "file_extension": ".jl",
   "mimetype": "application/julia",
   "name": "julia",
   "version": "1.7.3"
  },
  "nbTranslate": {
   "displayLangs": [
    "*"
   ],
   "hotkey": "alt-t",
   "langInMainMenu": true,
   "sourceLang": "en",
   "targetLang": "fr",
   "useGoogleTranslate": true
  },
  "toc": {
   "base_numbering": 1,
   "nav_menu": {},
   "number_sections": true,
   "sideBar": true,
   "skip_h1_title": false,
   "title_cell": "Table of Contents",
   "title_sidebar": "Contents",
   "toc_cell": false,
   "toc_position": {},
   "toc_section_display": true,
   "toc_window_display": false
  }
 },
 "nbformat": 4,
 "nbformat_minor": 5
}
